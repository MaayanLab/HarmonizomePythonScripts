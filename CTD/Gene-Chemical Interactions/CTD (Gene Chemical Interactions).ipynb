{
 "cells": [
  {
   "cell_type": "markdown",
   "metadata": {},
   "source": [
    "# CTD -Comparative Toxicogenomics Database- (Gene Chemical Interactions)"
   ]
  },
  {
   "cell_type": "markdown",
   "metadata": {},
   "source": [
    "Author: Moshe Silverstein <br/>\n",
    "Date: 8-17 <br/>\n",
    "Data Downloaded: 3-10-2017 <br/>\n",
    "Data Source: http://ctdbase.org/"
   ]
  },
  {
   "cell_type": "code",
   "execution_count": 1,
   "metadata": {
    "collapsed": true
   },
   "outputs": [],
   "source": [
    "import sys, datetime\n",
    "import numpy as np\n",
    "import pandas as pd\n",
    "import importlib\n",
    "import untility_functions as uf\n",
    "import goenrich\n",
    "%matplotlib inline"
   ]
  },
  {
   "cell_type": "code",
   "execution_count": 2,
   "metadata": {},
   "outputs": [
    {
     "data": {
      "text/plain": [
       "<module 'untility_functions' from '/Users/moshesilverstein/Documents/Harmonizome/CTD/untility_functions.py'>"
      ]
     },
     "execution_count": 2,
     "metadata": {},
     "output_type": "execute_result"
    }
   ],
   "source": [
    "importlib.reload(uf)"
   ]
  },
  {
   "cell_type": "markdown",
   "metadata": {},
   "source": [
    "# Load Data"
   ]
  },
  {
   "cell_type": "code",
   "execution_count": 3,
   "metadata": {
    "collapsed": true
   },
   "outputs": [],
   "source": [
    "df = pd.read_csv('Input/CTD_chem_gene_ixns.tsv', sep='\\t', skiprows=27)"
   ]
  },
  {
   "cell_type": "code",
   "execution_count": 4,
   "metadata": {},
   "outputs": [
    {
     "data": {
      "text/html": [
       "<div>\n",
       "<table border=\"1\" class=\"dataframe\">\n",
       "  <thead>\n",
       "    <tr style=\"text-align: right;\">\n",
       "      <th></th>\n",
       "      <th># ChemicalName</th>\n",
       "      <th>ChemicalID</th>\n",
       "      <th>CasRN</th>\n",
       "      <th>GeneSymbol</th>\n",
       "      <th>GeneID</th>\n",
       "      <th>GeneForms</th>\n",
       "      <th>Organism</th>\n",
       "      <th>OrganismID</th>\n",
       "      <th>Interaction</th>\n",
       "      <th>InteractionActions</th>\n",
       "      <th>PubMedIDs</th>\n",
       "    </tr>\n",
       "  </thead>\n",
       "  <tbody>\n",
       "    <tr>\n",
       "      <th>0</th>\n",
       "      <td>#</td>\n",
       "      <td>NaN</td>\n",
       "      <td>NaN</td>\n",
       "      <td>NaN</td>\n",
       "      <td>NaN</td>\n",
       "      <td>NaN</td>\n",
       "      <td>NaN</td>\n",
       "      <td>NaN</td>\n",
       "      <td>NaN</td>\n",
       "      <td>NaN</td>\n",
       "      <td>NaN</td>\n",
       "    </tr>\n",
       "    <tr>\n",
       "      <th>1</th>\n",
       "      <td>10074-G5</td>\n",
       "      <td>C534883</td>\n",
       "      <td>NaN</td>\n",
       "      <td>MAX</td>\n",
       "      <td>4149.0</td>\n",
       "      <td>protein</td>\n",
       "      <td>NaN</td>\n",
       "      <td>NaN</td>\n",
       "      <td>10074-G5 affects the folding of and results in...</td>\n",
       "      <td>affects^binding|affects^folding|decreases^acti...</td>\n",
       "      <td>26474287</td>\n",
       "    </tr>\n",
       "    <tr>\n",
       "      <th>2</th>\n",
       "      <td>10074-G5</td>\n",
       "      <td>C534883</td>\n",
       "      <td>NaN</td>\n",
       "      <td>MAX</td>\n",
       "      <td>4149.0</td>\n",
       "      <td>protein</td>\n",
       "      <td>NaN</td>\n",
       "      <td>NaN</td>\n",
       "      <td>10074-G5 inhibits the reaction [MYC protein bi...</td>\n",
       "      <td>affects^binding|decreases^reaction</td>\n",
       "      <td>26474287</td>\n",
       "    </tr>\n",
       "    <tr>\n",
       "      <th>3</th>\n",
       "      <td>10074-G5</td>\n",
       "      <td>C534883</td>\n",
       "      <td>NaN</td>\n",
       "      <td>MYC</td>\n",
       "      <td>4609.0</td>\n",
       "      <td>protein</td>\n",
       "      <td>Homo sapiens</td>\n",
       "      <td>9606.0</td>\n",
       "      <td>10074-G5 analog results in decreased expressio...</td>\n",
       "      <td>decreases^expression</td>\n",
       "      <td>26036281</td>\n",
       "    </tr>\n",
       "    <tr>\n",
       "      <th>4</th>\n",
       "      <td>10074-G5</td>\n",
       "      <td>C534883</td>\n",
       "      <td>NaN</td>\n",
       "      <td>MYC</td>\n",
       "      <td>4609.0</td>\n",
       "      <td>protein</td>\n",
       "      <td>Homo sapiens</td>\n",
       "      <td>9606.0</td>\n",
       "      <td>10074-G5 results in decreased activity of MYC ...</td>\n",
       "      <td>decreases^activity</td>\n",
       "      <td>25716159</td>\n",
       "    </tr>\n",
       "  </tbody>\n",
       "</table>\n",
       "</div>"
      ],
      "text/plain": [
       "  # ChemicalName ChemicalID CasRN GeneSymbol  GeneID GeneForms      Organism  \\\n",
       "0              #        NaN   NaN        NaN     NaN       NaN           NaN   \n",
       "1       10074-G5    C534883   NaN        MAX  4149.0   protein           NaN   \n",
       "2       10074-G5    C534883   NaN        MAX  4149.0   protein           NaN   \n",
       "3       10074-G5    C534883   NaN        MYC  4609.0   protein  Homo sapiens   \n",
       "4       10074-G5    C534883   NaN        MYC  4609.0   protein  Homo sapiens   \n",
       "\n",
       "   OrganismID                                        Interaction  \\\n",
       "0         NaN                                                NaN   \n",
       "1         NaN  10074-G5 affects the folding of and results in...   \n",
       "2         NaN  10074-G5 inhibits the reaction [MYC protein bi...   \n",
       "3      9606.0  10074-G5 analog results in decreased expressio...   \n",
       "4      9606.0  10074-G5 results in decreased activity of MYC ...   \n",
       "\n",
       "                                  InteractionActions PubMedIDs  \n",
       "0                                                NaN       NaN  \n",
       "1  affects^binding|affects^folding|decreases^acti...  26474287  \n",
       "2                 affects^binding|decreases^reaction  26474287  \n",
       "3                               decreases^expression  26036281  \n",
       "4                                 decreases^activity  25716159  "
      ]
     },
     "execution_count": 4,
     "metadata": {},
     "output_type": "execute_result"
    }
   ],
   "source": [
    "df.head()"
   ]
  },
  {
   "cell_type": "code",
   "execution_count": 5,
   "metadata": {},
   "outputs": [
    {
     "data": {
      "text/plain": [
       "(1415701, 11)"
      ]
     },
     "execution_count": 5,
     "metadata": {},
     "output_type": "execute_result"
    }
   ],
   "source": [
    "df.shape"
   ]
  },
  {
   "cell_type": "markdown",
   "metadata": {},
   "source": [
    "# Get Relevent Data"
   ]
  },
  {
   "cell_type": "code",
   "execution_count": 6,
   "metadata": {
    "collapsed": true
   },
   "outputs": [],
   "source": [
    "# discard interactions that are not from human, mouse, or rat data\n",
    "mouse = df[df['OrganismID'] == 10090].copy()\n",
    "human = df[df['OrganismID'] == 9606].copy()\n",
    "rat = df[df['OrganismID'] == 10116].copy()\n",
    "\n",
    "df = pd.concat([mouse, human])\n",
    "df = pd.concat([df, rat])"
   ]
  },
  {
   "cell_type": "code",
   "execution_count": 7,
   "metadata": {
    "collapsed": true
   },
   "outputs": [],
   "source": [
    "# discard interactions that are not gene or protein type (alternative is mRNA, i.e. chemical regulates expression)\n",
    "protein = df[df['GeneForms'] == 'protein'].copy()\n",
    "gene = df[df['GeneForms'] == 'gene'].copy()\n",
    "\n",
    "df = pd.concat([protein, gene])"
   ]
  },
  {
   "cell_type": "code",
   "execution_count": 8,
   "metadata": {
    "collapsed": true
   },
   "outputs": [],
   "source": [
    "df = df[['GeneSymbol', '# ChemicalName']].copy()"
   ]
  },
  {
   "cell_type": "code",
   "execution_count": 9,
   "metadata": {
    "collapsed": true
   },
   "outputs": [],
   "source": [
    "df.drop_duplicates(inplace=True)"
   ]
  },
  {
   "cell_type": "code",
   "execution_count": 10,
   "metadata": {},
   "outputs": [
    {
     "data": {
      "text/html": [
       "<div>\n",
       "<table border=\"1\" class=\"dataframe\">\n",
       "  <thead>\n",
       "    <tr style=\"text-align: right;\">\n",
       "      <th></th>\n",
       "      <th>GeneSymbol</th>\n",
       "      <th># ChemicalName</th>\n",
       "    </tr>\n",
       "  </thead>\n",
       "  <tbody>\n",
       "    <tr>\n",
       "      <th>9</th>\n",
       "      <td>KCNQ2</td>\n",
       "      <td>10,10-bis(4-pyridinylmethyl)-9(10H)-anthracenone</td>\n",
       "    </tr>\n",
       "    <tr>\n",
       "      <th>64</th>\n",
       "      <td>ACHE</td>\n",
       "      <td>10-(fluoroethoxyphosphinyl)-N-(biotinamidopent...</td>\n",
       "    </tr>\n",
       "    <tr>\n",
       "      <th>66</th>\n",
       "      <td>ALB</td>\n",
       "      <td>10-(fluoroethoxyphosphinyl)-N-(biotinamidopent...</td>\n",
       "    </tr>\n",
       "    <tr>\n",
       "      <th>67</th>\n",
       "      <td>ATP5B</td>\n",
       "      <td>10-(fluoroethoxyphosphinyl)-N-(biotinamidopent...</td>\n",
       "    </tr>\n",
       "    <tr>\n",
       "      <th>69</th>\n",
       "      <td>BCHE</td>\n",
       "      <td>10-(fluoroethoxyphosphinyl)-N-(biotinamidopent...</td>\n",
       "    </tr>\n",
       "  </tbody>\n",
       "</table>\n",
       "</div>"
      ],
      "text/plain": [
       "   GeneSymbol                                     # ChemicalName\n",
       "9       KCNQ2   10,10-bis(4-pyridinylmethyl)-9(10H)-anthracenone\n",
       "64       ACHE  10-(fluoroethoxyphosphinyl)-N-(biotinamidopent...\n",
       "66        ALB  10-(fluoroethoxyphosphinyl)-N-(biotinamidopent...\n",
       "67      ATP5B  10-(fluoroethoxyphosphinyl)-N-(biotinamidopent...\n",
       "69       BCHE  10-(fluoroethoxyphosphinyl)-N-(biotinamidopent..."
      ]
     },
     "execution_count": 10,
     "metadata": {},
     "output_type": "execute_result"
    }
   ],
   "source": [
    "df.head()"
   ]
  },
  {
   "cell_type": "markdown",
   "metadata": {},
   "source": [
    "# Map Gene Symbols To Up-to-date Approved Gene Symbols"
   ]
  },
  {
   "cell_type": "code",
   "execution_count": 11,
   "metadata": {
    "collapsed": true
   },
   "outputs": [],
   "source": [
    "df.set_index('GeneSymbol', inplace=True)"
   ]
  },
  {
   "cell_type": "code",
   "execution_count": 12,
   "metadata": {},
   "outputs": [
    {
     "name": "stdout",
     "output_type": "stream",
     "text": [
      "Progeres: 100%  165678 Out of 165678   \r"
     ]
    }
   ],
   "source": [
    "uf.mapgenesymbols(df)"
   ]
  },
  {
   "cell_type": "code",
   "execution_count": 13,
   "metadata": {},
   "outputs": [
    {
     "data": {
      "text/plain": [
       "(160501, 1)"
      ]
     },
     "execution_count": 13,
     "metadata": {},
     "output_type": "execute_result"
    }
   ],
   "source": [
    "df.shape"
   ]
  },
  {
   "cell_type": "markdown",
   "metadata": {},
   "source": [
    "# Drop Duplicates"
   ]
  },
  {
   "cell_type": "code",
   "execution_count": 14,
   "metadata": {
    "collapsed": true
   },
   "outputs": [],
   "source": [
    "df.reset_index(inplace=True)"
   ]
  },
  {
   "cell_type": "code",
   "execution_count": 15,
   "metadata": {
    "collapsed": true
   },
   "outputs": [],
   "source": [
    "df.drop_duplicates(inplace=True)"
   ]
  },
  {
   "cell_type": "code",
   "execution_count": 16,
   "metadata": {},
   "outputs": [
    {
     "data": {
      "text/plain": [
       "(160332, 2)"
      ]
     },
     "execution_count": 16,
     "metadata": {},
     "output_type": "execute_result"
    }
   ],
   "source": [
    "df.shape"
   ]
  },
  {
   "cell_type": "markdown",
   "metadata": {},
   "source": [
    "# Create Binary Matrix"
   ]
  },
  {
   "cell_type": "code",
   "execution_count": 17,
   "metadata": {},
   "outputs": [
    {
     "name": "stdout",
     "output_type": "stream",
     "text": [
      "Progeres: 100%  15676 Out of 15676   \r"
     ]
    }
   ],
   "source": [
    "binary_matrix = uf.createBinaryMatix(df)"
   ]
  },
  {
   "cell_type": "code",
   "execution_count": 18,
   "metadata": {},
   "outputs": [
    {
     "data": {
      "text/html": [
       "<div>\n",
       "<table border=\"1\" class=\"dataframe\">\n",
       "  <thead>\n",
       "    <tr style=\"text-align: right;\">\n",
       "      <th></th>\n",
       "      <th>2-cyano-3,12-dioxoolean-1,9-dien-28-oic acid</th>\n",
       "      <th>1,1,1,2-tetrafluoro-2-chloroethane</th>\n",
       "      <th>chalcone epoxide</th>\n",
       "      <th>antroquinonol</th>\n",
       "      <th>7-hydroxymethotrexate</th>\n",
       "      <th>dichlobanil</th>\n",
       "      <th>5-hydroxydopamine</th>\n",
       "      <th>iloperidone</th>\n",
       "      <th>N,N''-1,4-butanediylbis(N'-(3-isothiocyanatophenyl))thiourea</th>\n",
       "      <th>1,2,3,4,6,7,8-heptachlorodibenzofuran</th>\n",
       "      <th>...</th>\n",
       "      <th>diethylene glycol</th>\n",
       "      <th>Trapidil</th>\n",
       "      <th>Bresol</th>\n",
       "      <th>Testosterone Propionate</th>\n",
       "      <th>2-amino-1-methyl-6-phenylimidazo(4,5-b)pyridine</th>\n",
       "      <th>arsenite</th>\n",
       "      <th>methyl bensulfuron</th>\n",
       "      <th>vorozole</th>\n",
       "      <th>phosphatidylbutanol</th>\n",
       "      <th>1-methylpyrene</th>\n",
       "    </tr>\n",
       "  </thead>\n",
       "  <tbody>\n",
       "    <tr>\n",
       "      <th>ESRRG</th>\n",
       "      <td>0</td>\n",
       "      <td>0</td>\n",
       "      <td>0</td>\n",
       "      <td>0</td>\n",
       "      <td>0</td>\n",
       "      <td>0</td>\n",
       "      <td>0</td>\n",
       "      <td>0</td>\n",
       "      <td>0</td>\n",
       "      <td>0</td>\n",
       "      <td>...</td>\n",
       "      <td>0</td>\n",
       "      <td>0</td>\n",
       "      <td>0</td>\n",
       "      <td>0</td>\n",
       "      <td>0</td>\n",
       "      <td>0</td>\n",
       "      <td>0</td>\n",
       "      <td>0</td>\n",
       "      <td>0</td>\n",
       "      <td>0</td>\n",
       "    </tr>\n",
       "    <tr>\n",
       "      <th>BHMT2</th>\n",
       "      <td>0</td>\n",
       "      <td>0</td>\n",
       "      <td>0</td>\n",
       "      <td>0</td>\n",
       "      <td>0</td>\n",
       "      <td>0</td>\n",
       "      <td>0</td>\n",
       "      <td>0</td>\n",
       "      <td>0</td>\n",
       "      <td>0</td>\n",
       "      <td>...</td>\n",
       "      <td>0</td>\n",
       "      <td>0</td>\n",
       "      <td>0</td>\n",
       "      <td>0</td>\n",
       "      <td>0</td>\n",
       "      <td>0</td>\n",
       "      <td>0</td>\n",
       "      <td>0</td>\n",
       "      <td>0</td>\n",
       "      <td>0</td>\n",
       "    </tr>\n",
       "    <tr>\n",
       "      <th>ETNK1</th>\n",
       "      <td>0</td>\n",
       "      <td>0</td>\n",
       "      <td>0</td>\n",
       "      <td>0</td>\n",
       "      <td>0</td>\n",
       "      <td>0</td>\n",
       "      <td>0</td>\n",
       "      <td>0</td>\n",
       "      <td>0</td>\n",
       "      <td>0</td>\n",
       "      <td>...</td>\n",
       "      <td>0</td>\n",
       "      <td>0</td>\n",
       "      <td>0</td>\n",
       "      <td>0</td>\n",
       "      <td>0</td>\n",
       "      <td>0</td>\n",
       "      <td>0</td>\n",
       "      <td>0</td>\n",
       "      <td>0</td>\n",
       "      <td>0</td>\n",
       "    </tr>\n",
       "    <tr>\n",
       "      <th>GDF9</th>\n",
       "      <td>0</td>\n",
       "      <td>0</td>\n",
       "      <td>0</td>\n",
       "      <td>0</td>\n",
       "      <td>0</td>\n",
       "      <td>0</td>\n",
       "      <td>0</td>\n",
       "      <td>0</td>\n",
       "      <td>0</td>\n",
       "      <td>0</td>\n",
       "      <td>...</td>\n",
       "      <td>0</td>\n",
       "      <td>0</td>\n",
       "      <td>0</td>\n",
       "      <td>0</td>\n",
       "      <td>0</td>\n",
       "      <td>0</td>\n",
       "      <td>0</td>\n",
       "      <td>0</td>\n",
       "      <td>0</td>\n",
       "      <td>0</td>\n",
       "    </tr>\n",
       "    <tr>\n",
       "      <th>ICAM4</th>\n",
       "      <td>0</td>\n",
       "      <td>0</td>\n",
       "      <td>0</td>\n",
       "      <td>0</td>\n",
       "      <td>0</td>\n",
       "      <td>0</td>\n",
       "      <td>0</td>\n",
       "      <td>0</td>\n",
       "      <td>0</td>\n",
       "      <td>0</td>\n",
       "      <td>...</td>\n",
       "      <td>0</td>\n",
       "      <td>0</td>\n",
       "      <td>0</td>\n",
       "      <td>0</td>\n",
       "      <td>0</td>\n",
       "      <td>0</td>\n",
       "      <td>0</td>\n",
       "      <td>0</td>\n",
       "      <td>0</td>\n",
       "      <td>0</td>\n",
       "    </tr>\n",
       "  </tbody>\n",
       "</table>\n",
       "<p>5 rows × 10366 columns</p>\n",
       "</div>"
      ],
      "text/plain": [
       "       2-cyano-3,12-dioxoolean-1,9-dien-28-oic acid  \\\n",
       "ESRRG                                             0   \n",
       "BHMT2                                             0   \n",
       "ETNK1                                             0   \n",
       "GDF9                                              0   \n",
       "ICAM4                                             0   \n",
       "\n",
       "       1,1,1,2-tetrafluoro-2-chloroethane  chalcone epoxide  antroquinonol  \\\n",
       "ESRRG                                   0                 0              0   \n",
       "BHMT2                                   0                 0              0   \n",
       "ETNK1                                   0                 0              0   \n",
       "GDF9                                    0                 0              0   \n",
       "ICAM4                                   0                 0              0   \n",
       "\n",
       "       7-hydroxymethotrexate  dichlobanil  5-hydroxydopamine  iloperidone  \\\n",
       "ESRRG                      0            0                  0            0   \n",
       "BHMT2                      0            0                  0            0   \n",
       "ETNK1                      0            0                  0            0   \n",
       "GDF9                       0            0                  0            0   \n",
       "ICAM4                      0            0                  0            0   \n",
       "\n",
       "       N,N''-1,4-butanediylbis(N'-(3-isothiocyanatophenyl))thiourea  \\\n",
       "ESRRG                                                  0              \n",
       "BHMT2                                                  0              \n",
       "ETNK1                                                  0              \n",
       "GDF9                                                   0              \n",
       "ICAM4                                                  0              \n",
       "\n",
       "       1,2,3,4,6,7,8-heptachlorodibenzofuran       ...        \\\n",
       "ESRRG                                      0       ...         \n",
       "BHMT2                                      0       ...         \n",
       "ETNK1                                      0       ...         \n",
       "GDF9                                       0       ...         \n",
       "ICAM4                                      0       ...         \n",
       "\n",
       "       diethylene glycol  Trapidil  Bresol  Testosterone Propionate  \\\n",
       "ESRRG                  0         0       0                        0   \n",
       "BHMT2                  0         0       0                        0   \n",
       "ETNK1                  0         0       0                        0   \n",
       "GDF9                   0         0       0                        0   \n",
       "ICAM4                  0         0       0                        0   \n",
       "\n",
       "       2-amino-1-methyl-6-phenylimidazo(4,5-b)pyridine  arsenite  \\\n",
       "ESRRG                                                0         0   \n",
       "BHMT2                                                0         0   \n",
       "ETNK1                                                0         0   \n",
       "GDF9                                                 0         0   \n",
       "ICAM4                                                0         0   \n",
       "\n",
       "       methyl bensulfuron  vorozole  phosphatidylbutanol  1-methylpyrene  \n",
       "ESRRG                   0         0                    0               0  \n",
       "BHMT2                   0         0                    0               0  \n",
       "ETNK1                   0         0                    0               0  \n",
       "GDF9                    0         0                    0               0  \n",
       "ICAM4                   0         0                    0               0  \n",
       "\n",
       "[5 rows x 10366 columns]"
      ]
     },
     "execution_count": 18,
     "metadata": {},
     "output_type": "execute_result"
    }
   ],
   "source": [
    "binary_matrix.head()"
   ]
  },
  {
   "cell_type": "code",
   "execution_count": 19,
   "metadata": {},
   "outputs": [
    {
     "data": {
      "text/plain": [
       "(15676, 10366)"
      ]
     },
     "execution_count": 19,
     "metadata": {},
     "output_type": "execute_result"
    }
   ],
   "source": [
    "binary_matrix.shape"
   ]
  },
  {
   "cell_type": "markdown",
   "metadata": {},
   "source": [
    "# Save Binary Matrix"
   ]
  },
  {
   "cell_type": "code",
   "execution_count": 20,
   "metadata": {
    "collapsed": true
   },
   "outputs": [],
   "source": [
    "filename = '~/./Documents/Harmonizome/CTD/Output/ctd_chemical_binary_matrix_%s.tsv.zip'% str(datetime.date.today())[0:7].replace('-', '_')\n",
    "binary_matrix.to_csv(filename, sep='\\t', compression='gzip')"
   ]
  },
  {
   "cell_type": "markdown",
   "metadata": {},
   "source": [
    "# Create Gene Set Library"
   ]
  },
  {
   "cell_type": "code",
   "execution_count": 21,
   "metadata": {
    "collapsed": true
   },
   "outputs": [],
   "source": [
    "path = '/Users/moshesilverstein/Documents/Harmonizome/CTD/Output/'"
   ]
  },
  {
   "cell_type": "code",
   "execution_count": 22,
   "metadata": {
    "collapsed": true
   },
   "outputs": [],
   "source": [
    "name = 'ctd_chemical_gene_set'"
   ]
  },
  {
   "cell_type": "code",
   "execution_count": 23,
   "metadata": {},
   "outputs": [
    {
     "name": "stdout",
     "output_type": "stream",
     "text": [
      "Progeres: 100%  10366 Out of 10366   \r"
     ]
    }
   ],
   "source": [
    "uf.createUpGeneSetLib(binary_matrix, path, name)"
   ]
  },
  {
   "cell_type": "markdown",
   "metadata": {},
   "source": [
    "# Create Attribute Library"
   ]
  },
  {
   "cell_type": "code",
   "execution_count": 24,
   "metadata": {
    "collapsed": true
   },
   "outputs": [],
   "source": [
    "path = '/Users/moshesilverstein/Documents/Harmonizome/CTD/Output/'"
   ]
  },
  {
   "cell_type": "code",
   "execution_count": 25,
   "metadata": {
    "collapsed": true
   },
   "outputs": [],
   "source": [
    "name = 'ctd_chemical_attribute_set'"
   ]
  },
  {
   "cell_type": "code",
   "execution_count": 26,
   "metadata": {},
   "outputs": [
    {
     "name": "stdout",
     "output_type": "stream",
     "text": [
      "Progeres: 100%  15676 Out of 15676   \r"
     ]
    }
   ],
   "source": [
    "uf.createUpAttributeSetLib(binary_matrix, path, name)"
   ]
  },
  {
   "cell_type": "markdown",
   "metadata": {},
   "source": [
    "# Create Gene Similarity Matrix"
   ]
  },
  {
   "cell_type": "code",
   "execution_count": 27,
   "metadata": {
    "collapsed": true
   },
   "outputs": [],
   "source": [
    "gene_similarity_matix = uf.createSimilarityMatrix(binary_matrix, 'jaccard')"
   ]
  },
  {
   "cell_type": "code",
   "execution_count": 28,
   "metadata": {},
   "outputs": [
    {
     "data": {
      "text/html": [
       "<div>\n",
       "<table border=\"1\" class=\"dataframe\">\n",
       "  <thead>\n",
       "    <tr style=\"text-align: right;\">\n",
       "      <th></th>\n",
       "      <th>ESRRG</th>\n",
       "      <th>BHMT2</th>\n",
       "      <th>ETNK1</th>\n",
       "      <th>GDF9</th>\n",
       "      <th>ICAM4</th>\n",
       "      <th>PPP4R4</th>\n",
       "      <th>WNT4</th>\n",
       "      <th>PLAC8</th>\n",
       "      <th>GALNT15</th>\n",
       "      <th>GOLM1</th>\n",
       "      <th>...</th>\n",
       "      <th>FFAR2</th>\n",
       "      <th>KYAT3</th>\n",
       "      <th>OR4C6</th>\n",
       "      <th>TIGD2</th>\n",
       "      <th>CEACAM20</th>\n",
       "      <th>GAD2</th>\n",
       "      <th>SLFN11</th>\n",
       "      <th>PDIA6</th>\n",
       "      <th>SRPK3</th>\n",
       "      <th>NEU2</th>\n",
       "    </tr>\n",
       "  </thead>\n",
       "  <tbody>\n",
       "    <tr>\n",
       "      <th>ESRRG</th>\n",
       "      <td>1.000000</td>\n",
       "      <td>0.0625</td>\n",
       "      <td>0.0</td>\n",
       "      <td>0.0625</td>\n",
       "      <td>0.033333</td>\n",
       "      <td>0.071429</td>\n",
       "      <td>0.058824</td>\n",
       "      <td>0.071429</td>\n",
       "      <td>0.107143</td>\n",
       "      <td>0.035714</td>\n",
       "      <td>...</td>\n",
       "      <td>0.035714</td>\n",
       "      <td>0.064516</td>\n",
       "      <td>0.035714</td>\n",
       "      <td>0.035714</td>\n",
       "      <td>0.035714</td>\n",
       "      <td>0.020833</td>\n",
       "      <td>0.0</td>\n",
       "      <td>0.061224</td>\n",
       "      <td>0.035714</td>\n",
       "      <td>0.034483</td>\n",
       "    </tr>\n",
       "    <tr>\n",
       "      <th>BHMT2</th>\n",
       "      <td>0.062500</td>\n",
       "      <td>1.0000</td>\n",
       "      <td>0.0</td>\n",
       "      <td>0.0000</td>\n",
       "      <td>0.125000</td>\n",
       "      <td>0.142857</td>\n",
       "      <td>0.000000</td>\n",
       "      <td>0.142857</td>\n",
       "      <td>0.125000</td>\n",
       "      <td>0.000000</td>\n",
       "      <td>...</td>\n",
       "      <td>0.000000</td>\n",
       "      <td>0.222222</td>\n",
       "      <td>0.166667</td>\n",
       "      <td>0.166667</td>\n",
       "      <td>0.166667</td>\n",
       "      <td>0.000000</td>\n",
       "      <td>0.0</td>\n",
       "      <td>0.071429</td>\n",
       "      <td>0.000000</td>\n",
       "      <td>0.000000</td>\n",
       "    </tr>\n",
       "    <tr>\n",
       "      <th>ETNK1</th>\n",
       "      <td>0.000000</td>\n",
       "      <td>0.0000</td>\n",
       "      <td>1.0</td>\n",
       "      <td>0.0000</td>\n",
       "      <td>0.000000</td>\n",
       "      <td>0.000000</td>\n",
       "      <td>0.000000</td>\n",
       "      <td>0.000000</td>\n",
       "      <td>0.000000</td>\n",
       "      <td>0.000000</td>\n",
       "      <td>...</td>\n",
       "      <td>0.000000</td>\n",
       "      <td>0.000000</td>\n",
       "      <td>0.000000</td>\n",
       "      <td>0.000000</td>\n",
       "      <td>0.000000</td>\n",
       "      <td>0.000000</td>\n",
       "      <td>0.0</td>\n",
       "      <td>0.000000</td>\n",
       "      <td>0.000000</td>\n",
       "      <td>0.000000</td>\n",
       "    </tr>\n",
       "    <tr>\n",
       "      <th>GDF9</th>\n",
       "      <td>0.062500</td>\n",
       "      <td>0.0000</td>\n",
       "      <td>0.0</td>\n",
       "      <td>1.0000</td>\n",
       "      <td>0.000000</td>\n",
       "      <td>0.142857</td>\n",
       "      <td>0.076923</td>\n",
       "      <td>0.142857</td>\n",
       "      <td>0.000000</td>\n",
       "      <td>0.166667</td>\n",
       "      <td>...</td>\n",
       "      <td>0.166667</td>\n",
       "      <td>0.100000</td>\n",
       "      <td>0.000000</td>\n",
       "      <td>0.000000</td>\n",
       "      <td>0.000000</td>\n",
       "      <td>0.000000</td>\n",
       "      <td>0.0</td>\n",
       "      <td>0.034483</td>\n",
       "      <td>0.166667</td>\n",
       "      <td>0.142857</td>\n",
       "    </tr>\n",
       "    <tr>\n",
       "      <th>ICAM4</th>\n",
       "      <td>0.033333</td>\n",
       "      <td>0.1250</td>\n",
       "      <td>0.0</td>\n",
       "      <td>0.0000</td>\n",
       "      <td>1.000000</td>\n",
       "      <td>0.250000</td>\n",
       "      <td>0.000000</td>\n",
       "      <td>0.250000</td>\n",
       "      <td>0.200000</td>\n",
       "      <td>0.000000</td>\n",
       "      <td>...</td>\n",
       "      <td>0.000000</td>\n",
       "      <td>0.142857</td>\n",
       "      <td>0.333333</td>\n",
       "      <td>0.333333</td>\n",
       "      <td>0.333333</td>\n",
       "      <td>0.000000</td>\n",
       "      <td>0.0</td>\n",
       "      <td>0.080000</td>\n",
       "      <td>0.000000</td>\n",
       "      <td>0.000000</td>\n",
       "    </tr>\n",
       "  </tbody>\n",
       "</table>\n",
       "<p>5 rows × 15676 columns</p>\n",
       "</div>"
      ],
      "text/plain": [
       "          ESRRG   BHMT2  ETNK1    GDF9     ICAM4    PPP4R4      WNT4  \\\n",
       "ESRRG  1.000000  0.0625    0.0  0.0625  0.033333  0.071429  0.058824   \n",
       "BHMT2  0.062500  1.0000    0.0  0.0000  0.125000  0.142857  0.000000   \n",
       "ETNK1  0.000000  0.0000    1.0  0.0000  0.000000  0.000000  0.000000   \n",
       "GDF9   0.062500  0.0000    0.0  1.0000  0.000000  0.142857  0.076923   \n",
       "ICAM4  0.033333  0.1250    0.0  0.0000  1.000000  0.250000  0.000000   \n",
       "\n",
       "          PLAC8   GALNT15     GOLM1    ...        FFAR2     KYAT3     OR4C6  \\\n",
       "ESRRG  0.071429  0.107143  0.035714    ...     0.035714  0.064516  0.035714   \n",
       "BHMT2  0.142857  0.125000  0.000000    ...     0.000000  0.222222  0.166667   \n",
       "ETNK1  0.000000  0.000000  0.000000    ...     0.000000  0.000000  0.000000   \n",
       "GDF9   0.142857  0.000000  0.166667    ...     0.166667  0.100000  0.000000   \n",
       "ICAM4  0.250000  0.200000  0.000000    ...     0.000000  0.142857  0.333333   \n",
       "\n",
       "          TIGD2  CEACAM20      GAD2  SLFN11     PDIA6     SRPK3      NEU2  \n",
       "ESRRG  0.035714  0.035714  0.020833     0.0  0.061224  0.035714  0.034483  \n",
       "BHMT2  0.166667  0.166667  0.000000     0.0  0.071429  0.000000  0.000000  \n",
       "ETNK1  0.000000  0.000000  0.000000     0.0  0.000000  0.000000  0.000000  \n",
       "GDF9   0.000000  0.000000  0.000000     0.0  0.034483  0.166667  0.142857  \n",
       "ICAM4  0.333333  0.333333  0.000000     0.0  0.080000  0.000000  0.000000  \n",
       "\n",
       "[5 rows x 15676 columns]"
      ]
     },
     "execution_count": 28,
     "metadata": {},
     "output_type": "execute_result"
    }
   ],
   "source": [
    "gene_similarity_matix.head()"
   ]
  },
  {
   "cell_type": "markdown",
   "metadata": {},
   "source": [
    "# Save Gene Similarity Matrix"
   ]
  },
  {
   "cell_type": "code",
   "execution_count": 29,
   "metadata": {
    "collapsed": true
   },
   "outputs": [],
   "source": [
    "filename = '~/./Documents/Harmonizome/CTD/Output/ctd_chemical_gene_similarity_matix_%s.tsv.zip'% str(datetime.date.today())[0:7].replace('-', '_')\n",
    "gene_similarity_matix.to_csv(filename, sep='\\t', compression='gzip')"
   ]
  },
  {
   "cell_type": "markdown",
   "metadata": {},
   "source": [
    "# Create Attribute Similarity matrix"
   ]
  },
  {
   "cell_type": "code",
   "execution_count": 30,
   "metadata": {
    "collapsed": true
   },
   "outputs": [],
   "source": [
    "attribute_similarity_matix = uf.createSimilarityMatrix(binary_matrix.T, 'jaccard')"
   ]
  },
  {
   "cell_type": "code",
   "execution_count": 31,
   "metadata": {},
   "outputs": [
    {
     "data": {
      "text/html": [
       "<div>\n",
       "<table border=\"1\" class=\"dataframe\">\n",
       "  <thead>\n",
       "    <tr style=\"text-align: right;\">\n",
       "      <th></th>\n",
       "      <th>2-cyano-3,12-dioxoolean-1,9-dien-28-oic acid</th>\n",
       "      <th>1,1,1,2-tetrafluoro-2-chloroethane</th>\n",
       "      <th>chalcone epoxide</th>\n",
       "      <th>antroquinonol</th>\n",
       "      <th>7-hydroxymethotrexate</th>\n",
       "      <th>dichlobanil</th>\n",
       "      <th>5-hydroxydopamine</th>\n",
       "      <th>iloperidone</th>\n",
       "      <th>N,N''-1,4-butanediylbis(N'-(3-isothiocyanatophenyl))thiourea</th>\n",
       "      <th>1,2,3,4,6,7,8-heptachlorodibenzofuran</th>\n",
       "      <th>...</th>\n",
       "      <th>diethylene glycol</th>\n",
       "      <th>Trapidil</th>\n",
       "      <th>Bresol</th>\n",
       "      <th>Testosterone Propionate</th>\n",
       "      <th>2-amino-1-methyl-6-phenylimidazo(4,5-b)pyridine</th>\n",
       "      <th>arsenite</th>\n",
       "      <th>methyl bensulfuron</th>\n",
       "      <th>vorozole</th>\n",
       "      <th>phosphatidylbutanol</th>\n",
       "      <th>1-methylpyrene</th>\n",
       "    </tr>\n",
       "  </thead>\n",
       "  <tbody>\n",
       "    <tr>\n",
       "      <th>2-cyano-3,12-dioxoolean-1,9-dien-28-oic acid</th>\n",
       "      <td>1.0</td>\n",
       "      <td>0.0</td>\n",
       "      <td>0.0</td>\n",
       "      <td>0.0</td>\n",
       "      <td>0.0</td>\n",
       "      <td>0.0</td>\n",
       "      <td>0.0</td>\n",
       "      <td>0.0</td>\n",
       "      <td>0.000000</td>\n",
       "      <td>0.0</td>\n",
       "      <td>...</td>\n",
       "      <td>0.0</td>\n",
       "      <td>0.0</td>\n",
       "      <td>0.0</td>\n",
       "      <td>0.0</td>\n",
       "      <td>0.009901</td>\n",
       "      <td>0.010417</td>\n",
       "      <td>0.0</td>\n",
       "      <td>0.0</td>\n",
       "      <td>0.0</td>\n",
       "      <td>0.000000</td>\n",
       "    </tr>\n",
       "    <tr>\n",
       "      <th>1,1,1,2-tetrafluoro-2-chloroethane</th>\n",
       "      <td>0.0</td>\n",
       "      <td>1.0</td>\n",
       "      <td>0.0</td>\n",
       "      <td>0.0</td>\n",
       "      <td>0.0</td>\n",
       "      <td>0.0</td>\n",
       "      <td>0.0</td>\n",
       "      <td>0.0</td>\n",
       "      <td>0.000000</td>\n",
       "      <td>0.0</td>\n",
       "      <td>...</td>\n",
       "      <td>0.0</td>\n",
       "      <td>0.0</td>\n",
       "      <td>0.0</td>\n",
       "      <td>0.0</td>\n",
       "      <td>0.000000</td>\n",
       "      <td>0.000000</td>\n",
       "      <td>0.0</td>\n",
       "      <td>0.0</td>\n",
       "      <td>0.0</td>\n",
       "      <td>0.333333</td>\n",
       "    </tr>\n",
       "    <tr>\n",
       "      <th>chalcone epoxide</th>\n",
       "      <td>0.0</td>\n",
       "      <td>0.0</td>\n",
       "      <td>1.0</td>\n",
       "      <td>0.0</td>\n",
       "      <td>0.0</td>\n",
       "      <td>0.0</td>\n",
       "      <td>0.0</td>\n",
       "      <td>0.0</td>\n",
       "      <td>0.000000</td>\n",
       "      <td>0.0</td>\n",
       "      <td>...</td>\n",
       "      <td>0.0</td>\n",
       "      <td>0.0</td>\n",
       "      <td>0.0</td>\n",
       "      <td>0.0</td>\n",
       "      <td>0.000000</td>\n",
       "      <td>0.000000</td>\n",
       "      <td>0.0</td>\n",
       "      <td>0.0</td>\n",
       "      <td>0.0</td>\n",
       "      <td>0.000000</td>\n",
       "    </tr>\n",
       "    <tr>\n",
       "      <th>antroquinonol</th>\n",
       "      <td>0.0</td>\n",
       "      <td>0.0</td>\n",
       "      <td>0.0</td>\n",
       "      <td>1.0</td>\n",
       "      <td>0.0</td>\n",
       "      <td>0.0</td>\n",
       "      <td>0.0</td>\n",
       "      <td>0.0</td>\n",
       "      <td>0.111111</td>\n",
       "      <td>0.0</td>\n",
       "      <td>...</td>\n",
       "      <td>0.0</td>\n",
       "      <td>0.0</td>\n",
       "      <td>0.0</td>\n",
       "      <td>0.0</td>\n",
       "      <td>0.064220</td>\n",
       "      <td>0.045226</td>\n",
       "      <td>0.0</td>\n",
       "      <td>0.0</td>\n",
       "      <td>0.0</td>\n",
       "      <td>0.000000</td>\n",
       "    </tr>\n",
       "    <tr>\n",
       "      <th>7-hydroxymethotrexate</th>\n",
       "      <td>0.0</td>\n",
       "      <td>0.0</td>\n",
       "      <td>0.0</td>\n",
       "      <td>0.0</td>\n",
       "      <td>1.0</td>\n",
       "      <td>0.0</td>\n",
       "      <td>0.0</td>\n",
       "      <td>0.0</td>\n",
       "      <td>0.000000</td>\n",
       "      <td>0.0</td>\n",
       "      <td>...</td>\n",
       "      <td>0.0</td>\n",
       "      <td>0.0</td>\n",
       "      <td>0.0</td>\n",
       "      <td>0.0</td>\n",
       "      <td>0.009804</td>\n",
       "      <td>0.000000</td>\n",
       "      <td>0.0</td>\n",
       "      <td>0.0</td>\n",
       "      <td>0.0</td>\n",
       "      <td>0.000000</td>\n",
       "    </tr>\n",
       "  </tbody>\n",
       "</table>\n",
       "<p>5 rows × 10366 columns</p>\n",
       "</div>"
      ],
      "text/plain": [
       "                                              2-cyano-3,12-dioxoolean-1,9-dien-28-oic acid  \\\n",
       "2-cyano-3,12-dioxoolean-1,9-dien-28-oic acid                                           1.0   \n",
       "1,1,1,2-tetrafluoro-2-chloroethane                                                     0.0   \n",
       "chalcone epoxide                                                                       0.0   \n",
       "antroquinonol                                                                          0.0   \n",
       "7-hydroxymethotrexate                                                                  0.0   \n",
       "\n",
       "                                              1,1,1,2-tetrafluoro-2-chloroethane  \\\n",
       "2-cyano-3,12-dioxoolean-1,9-dien-28-oic acid                                 0.0   \n",
       "1,1,1,2-tetrafluoro-2-chloroethane                                           1.0   \n",
       "chalcone epoxide                                                             0.0   \n",
       "antroquinonol                                                                0.0   \n",
       "7-hydroxymethotrexate                                                        0.0   \n",
       "\n",
       "                                              chalcone epoxide  antroquinonol  \\\n",
       "2-cyano-3,12-dioxoolean-1,9-dien-28-oic acid               0.0            0.0   \n",
       "1,1,1,2-tetrafluoro-2-chloroethane                         0.0            0.0   \n",
       "chalcone epoxide                                           1.0            0.0   \n",
       "antroquinonol                                              0.0            1.0   \n",
       "7-hydroxymethotrexate                                      0.0            0.0   \n",
       "\n",
       "                                              7-hydroxymethotrexate  \\\n",
       "2-cyano-3,12-dioxoolean-1,9-dien-28-oic acid                    0.0   \n",
       "1,1,1,2-tetrafluoro-2-chloroethane                              0.0   \n",
       "chalcone epoxide                                                0.0   \n",
       "antroquinonol                                                   0.0   \n",
       "7-hydroxymethotrexate                                           1.0   \n",
       "\n",
       "                                              dichlobanil  5-hydroxydopamine  \\\n",
       "2-cyano-3,12-dioxoolean-1,9-dien-28-oic acid          0.0                0.0   \n",
       "1,1,1,2-tetrafluoro-2-chloroethane                    0.0                0.0   \n",
       "chalcone epoxide                                      0.0                0.0   \n",
       "antroquinonol                                         0.0                0.0   \n",
       "7-hydroxymethotrexate                                 0.0                0.0   \n",
       "\n",
       "                                              iloperidone  \\\n",
       "2-cyano-3,12-dioxoolean-1,9-dien-28-oic acid          0.0   \n",
       "1,1,1,2-tetrafluoro-2-chloroethane                    0.0   \n",
       "chalcone epoxide                                      0.0   \n",
       "antroquinonol                                         0.0   \n",
       "7-hydroxymethotrexate                                 0.0   \n",
       "\n",
       "                                              N,N''-1,4-butanediylbis(N'-(3-isothiocyanatophenyl))thiourea  \\\n",
       "2-cyano-3,12-dioxoolean-1,9-dien-28-oic acid                                           0.000000              \n",
       "1,1,1,2-tetrafluoro-2-chloroethane                                                     0.000000              \n",
       "chalcone epoxide                                                                       0.000000              \n",
       "antroquinonol                                                                          0.111111              \n",
       "7-hydroxymethotrexate                                                                  0.000000              \n",
       "\n",
       "                                              1,2,3,4,6,7,8-heptachlorodibenzofuran  \\\n",
       "2-cyano-3,12-dioxoolean-1,9-dien-28-oic acid                                    0.0   \n",
       "1,1,1,2-tetrafluoro-2-chloroethane                                              0.0   \n",
       "chalcone epoxide                                                                0.0   \n",
       "antroquinonol                                                                   0.0   \n",
       "7-hydroxymethotrexate                                                           0.0   \n",
       "\n",
       "                                                   ...        \\\n",
       "2-cyano-3,12-dioxoolean-1,9-dien-28-oic acid       ...         \n",
       "1,1,1,2-tetrafluoro-2-chloroethane                 ...         \n",
       "chalcone epoxide                                   ...         \n",
       "antroquinonol                                      ...         \n",
       "7-hydroxymethotrexate                              ...         \n",
       "\n",
       "                                              diethylene glycol  Trapidil  \\\n",
       "2-cyano-3,12-dioxoolean-1,9-dien-28-oic acid                0.0       0.0   \n",
       "1,1,1,2-tetrafluoro-2-chloroethane                          0.0       0.0   \n",
       "chalcone epoxide                                            0.0       0.0   \n",
       "antroquinonol                                               0.0       0.0   \n",
       "7-hydroxymethotrexate                                       0.0       0.0   \n",
       "\n",
       "                                              Bresol  Testosterone Propionate  \\\n",
       "2-cyano-3,12-dioxoolean-1,9-dien-28-oic acid     0.0                      0.0   \n",
       "1,1,1,2-tetrafluoro-2-chloroethane               0.0                      0.0   \n",
       "chalcone epoxide                                 0.0                      0.0   \n",
       "antroquinonol                                    0.0                      0.0   \n",
       "7-hydroxymethotrexate                            0.0                      0.0   \n",
       "\n",
       "                                              2-amino-1-methyl-6-phenylimidazo(4,5-b)pyridine  \\\n",
       "2-cyano-3,12-dioxoolean-1,9-dien-28-oic acid                                         0.009901   \n",
       "1,1,1,2-tetrafluoro-2-chloroethane                                                   0.000000   \n",
       "chalcone epoxide                                                                     0.000000   \n",
       "antroquinonol                                                                        0.064220   \n",
       "7-hydroxymethotrexate                                                                0.009804   \n",
       "\n",
       "                                              arsenite  methyl bensulfuron  \\\n",
       "2-cyano-3,12-dioxoolean-1,9-dien-28-oic acid  0.010417                 0.0   \n",
       "1,1,1,2-tetrafluoro-2-chloroethane            0.000000                 0.0   \n",
       "chalcone epoxide                              0.000000                 0.0   \n",
       "antroquinonol                                 0.045226                 0.0   \n",
       "7-hydroxymethotrexate                         0.000000                 0.0   \n",
       "\n",
       "                                              vorozole  phosphatidylbutanol  \\\n",
       "2-cyano-3,12-dioxoolean-1,9-dien-28-oic acid       0.0                  0.0   \n",
       "1,1,1,2-tetrafluoro-2-chloroethane                 0.0                  0.0   \n",
       "chalcone epoxide                                   0.0                  0.0   \n",
       "antroquinonol                                      0.0                  0.0   \n",
       "7-hydroxymethotrexate                              0.0                  0.0   \n",
       "\n",
       "                                              1-methylpyrene  \n",
       "2-cyano-3,12-dioxoolean-1,9-dien-28-oic acid        0.000000  \n",
       "1,1,1,2-tetrafluoro-2-chloroethane                  0.333333  \n",
       "chalcone epoxide                                    0.000000  \n",
       "antroquinonol                                       0.000000  \n",
       "7-hydroxymethotrexate                               0.000000  \n",
       "\n",
       "[5 rows x 10366 columns]"
      ]
     },
     "execution_count": 31,
     "metadata": {},
     "output_type": "execute_result"
    }
   ],
   "source": [
    "attribute_similarity_matix.head()"
   ]
  },
  {
   "cell_type": "markdown",
   "metadata": {},
   "source": [
    "# Save Attribute Similarity Matrix"
   ]
  },
  {
   "cell_type": "code",
   "execution_count": 32,
   "metadata": {
    "collapsed": true
   },
   "outputs": [],
   "source": [
    "filename = '~/./Documents/Harmonizome/CTD/Output/ctd_chemical_attribute_similarity_matix_%s.tsv.zip'% str(datetime.date.today())[0:7].replace('-', '_')\n",
    "attribute_similarity_matix.to_csv(filename, sep='\\t', compression='gzip')"
   ]
  },
  {
   "cell_type": "markdown",
   "metadata": {},
   "source": [
    "# Create Gene List"
   ]
  },
  {
   "cell_type": "code",
   "execution_count": 33,
   "metadata": {},
   "outputs": [
    {
     "name": "stdout",
     "output_type": "stream",
     "text": [
      "Progeres: 100%  15676 Out of 15676   \r"
     ]
    }
   ],
   "source": [
    "gene_list = uf.createGeneList(binary_matrix)"
   ]
  },
  {
   "cell_type": "code",
   "execution_count": 34,
   "metadata": {},
   "outputs": [
    {
     "data": {
      "text/html": [
       "<div>\n",
       "<table border=\"1\" class=\"dataframe\">\n",
       "  <thead>\n",
       "    <tr style=\"text-align: right;\">\n",
       "      <th></th>\n",
       "      <th>GeneSym</th>\n",
       "      <th>GeneID</th>\n",
       "    </tr>\n",
       "  </thead>\n",
       "  <tbody>\n",
       "    <tr>\n",
       "      <th>0</th>\n",
       "      <td>ESRRG</td>\n",
       "      <td>2104</td>\n",
       "    </tr>\n",
       "    <tr>\n",
       "      <th>1</th>\n",
       "      <td>BHMT2</td>\n",
       "      <td>23743</td>\n",
       "    </tr>\n",
       "    <tr>\n",
       "      <th>2</th>\n",
       "      <td>ETNK1</td>\n",
       "      <td>55500</td>\n",
       "    </tr>\n",
       "    <tr>\n",
       "      <th>3</th>\n",
       "      <td>GDF9</td>\n",
       "      <td>2661</td>\n",
       "    </tr>\n",
       "    <tr>\n",
       "      <th>4</th>\n",
       "      <td>ICAM4</td>\n",
       "      <td>3386</td>\n",
       "    </tr>\n",
       "  </tbody>\n",
       "</table>\n",
       "</div>"
      ],
      "text/plain": [
       "  GeneSym GeneID\n",
       "0   ESRRG   2104\n",
       "1   BHMT2  23743\n",
       "2   ETNK1  55500\n",
       "3    GDF9   2661\n",
       "4   ICAM4   3386"
      ]
     },
     "execution_count": 34,
     "metadata": {},
     "output_type": "execute_result"
    }
   ],
   "source": [
    "gene_list.head()"
   ]
  },
  {
   "cell_type": "code",
   "execution_count": 35,
   "metadata": {},
   "outputs": [
    {
     "data": {
      "text/plain": [
       "(15676, 2)"
      ]
     },
     "execution_count": 35,
     "metadata": {},
     "output_type": "execute_result"
    }
   ],
   "source": [
    "gene_list.shape"
   ]
  },
  {
   "cell_type": "markdown",
   "metadata": {},
   "source": [
    "# Save Gene List"
   ]
  },
  {
   "cell_type": "code",
   "execution_count": 36,
   "metadata": {
    "collapsed": true
   },
   "outputs": [],
   "source": [
    "filename = '~/./Documents/Harmonizome/CTD/Output/ctd_chemical_gene_list_%s.tsv.zip'% str(datetime.date.today())[0:7].replace('-', '_')\n",
    "gene_list.to_csv(filename, sep='\\t', index=False, compression='gzip')"
   ]
  },
  {
   "cell_type": "markdown",
   "metadata": {},
   "source": [
    "# Create Attribute List"
   ]
  },
  {
   "cell_type": "code",
   "execution_count": 37,
   "metadata": {
    "collapsed": true
   },
   "outputs": [],
   "source": [
    "attribute_list = uf.createAttributeList(binary_matrix)"
   ]
  },
  {
   "cell_type": "code",
   "execution_count": 38,
   "metadata": {},
   "outputs": [
    {
     "data": {
      "text/html": [
       "<div>\n",
       "<table border=\"1\" class=\"dataframe\">\n",
       "  <thead>\n",
       "    <tr style=\"text-align: right;\">\n",
       "      <th></th>\n",
       "      <th>Attributes</th>\n",
       "    </tr>\n",
       "  </thead>\n",
       "  <tbody>\n",
       "    <tr>\n",
       "      <th>0</th>\n",
       "      <td>2-cyano-3,12-dioxoolean-1,9-dien-28-oic acid</td>\n",
       "    </tr>\n",
       "    <tr>\n",
       "      <th>1</th>\n",
       "      <td>1,1,1,2-tetrafluoro-2-chloroethane</td>\n",
       "    </tr>\n",
       "    <tr>\n",
       "      <th>2</th>\n",
       "      <td>chalcone epoxide</td>\n",
       "    </tr>\n",
       "    <tr>\n",
       "      <th>3</th>\n",
       "      <td>antroquinonol</td>\n",
       "    </tr>\n",
       "    <tr>\n",
       "      <th>4</th>\n",
       "      <td>7-hydroxymethotrexate</td>\n",
       "    </tr>\n",
       "  </tbody>\n",
       "</table>\n",
       "</div>"
      ],
      "text/plain": [
       "                                     Attributes\n",
       "0  2-cyano-3,12-dioxoolean-1,9-dien-28-oic acid\n",
       "1            1,1,1,2-tetrafluoro-2-chloroethane\n",
       "2                              chalcone epoxide\n",
       "3                                 antroquinonol\n",
       "4                         7-hydroxymethotrexate"
      ]
     },
     "execution_count": 38,
     "metadata": {},
     "output_type": "execute_result"
    }
   ],
   "source": [
    "attribute_list.head()"
   ]
  },
  {
   "cell_type": "code",
   "execution_count": 39,
   "metadata": {},
   "outputs": [
    {
     "data": {
      "text/plain": [
       "(10366, 1)"
      ]
     },
     "execution_count": 39,
     "metadata": {},
     "output_type": "execute_result"
    }
   ],
   "source": [
    "attribute_list.shape"
   ]
  },
  {
   "cell_type": "markdown",
   "metadata": {},
   "source": [
    "# Save Attribute List"
   ]
  },
  {
   "cell_type": "code",
   "execution_count": 40,
   "metadata": {
    "collapsed": true
   },
   "outputs": [],
   "source": [
    "filename = '~/./Documents/Harmonizome/CTD/Output/ctd_chemical_attribute_list_%s.tsv.zip'% str(datetime.date.today())[0:7].replace('-', '_')\n",
    "attribute_list.to_csv(filename, sep='\\t', index=False, compression='gzip')"
   ]
  },
  {
   "cell_type": "markdown",
   "metadata": {},
   "source": [
    "# Create Gene-Attribute Edge List"
   ]
  },
  {
   "cell_type": "code",
   "execution_count": 41,
   "metadata": {
    "collapsed": true
   },
   "outputs": [],
   "source": [
    "path = '/Users/moshesilverstein/Documents/Harmonizome/CTD/Output/'"
   ]
  },
  {
   "cell_type": "code",
   "execution_count": 42,
   "metadata": {
    "collapsed": true
   },
   "outputs": [],
   "source": [
    "name = 'ctd_chemical_gene_attribute_edge_list'"
   ]
  },
  {
   "cell_type": "code",
   "execution_count": 43,
   "metadata": {},
   "outputs": [
    {
     "name": "stdout",
     "output_type": "stream",
     "text": [
      "Progeres: 100%  10366 Out of 10366   \n",
      "\n",
      " The number of statisticaly relevent gene-attribute associations is: 160332\n"
     ]
    }
   ],
   "source": [
    "uf.createGeneAttributeEdgeList(binary_matrix, gene_list, path, name)"
   ]
  }
 ],
 "metadata": {
  "kernelspec": {
   "display_name": "Python [default]",
   "language": "python",
   "name": "python3"
  },
  "language_info": {
   "codemirror_mode": {
    "name": "ipython",
    "version": 3
   },
   "file_extension": ".py",
   "mimetype": "text/x-python",
   "name": "python",
   "nbconvert_exporter": "python",
   "pygments_lexer": "ipython3",
   "version": "3.5.2"
  }
 },
 "nbformat": 4,
 "nbformat_minor": 2
}
