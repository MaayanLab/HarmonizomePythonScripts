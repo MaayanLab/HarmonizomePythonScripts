{
 "cells": [
  {
   "cell_type": "markdown",
   "metadata": {},
   "source": [
    "# CTD -Comparative Toxicogenomics Database- (Gene Disease Interactions)"
   ]
  },
  {
   "cell_type": "markdown",
   "metadata": {},
   "source": [
    "Author: Moshe Silverstein <br/>\n",
    "Date: 8-17 <br/>\n",
    "Data Downloaded: 3-10-2017 <br/>\n",
    "Data Source: http://ctdbase.org/"
   ]
  },
  {
   "cell_type": "code",
   "execution_count": 1,
   "metadata": {
    "collapsed": true
   },
   "outputs": [],
   "source": [
    "import sys, datetime\n",
    "import numpy as np\n",
    "import pandas as pd\n",
    "import importlib\n",
    "import untility_functions as uf\n",
    "import goenrich\n",
    "%matplotlib inline"
   ]
  },
  {
   "cell_type": "code",
   "execution_count": 25,
   "metadata": {},
   "outputs": [
    {
     "data": {
      "text/plain": [
       "<module 'untility_functions' from '/Users/moshesilverstein/Documents/Harmonizome/CTD/untility_functions.py'>"
      ]
     },
     "execution_count": 25,
     "metadata": {},
     "output_type": "execute_result"
    }
   ],
   "source": [
    "importlib.reload(uf)"
   ]
  },
  {
   "cell_type": "markdown",
   "metadata": {},
   "source": [
    "# Load Data"
   ]
  },
  {
   "cell_type": "code",
   "execution_count": 3,
   "metadata": {},
   "outputs": [
    {
     "name": "stderr",
     "output_type": "stream",
     "text": [
      "/Users/moshesilverstein/anaconda/lib/python3.5/site-packages/IPython/core/interactiveshell.py:2717: DtypeWarning: Columns (4,7) have mixed types. Specify dtype option on import or set low_memory=False.\n",
      "  interactivity=interactivity, compiler=compiler, result=result)\n"
     ]
    }
   ],
   "source": [
    "df = pd.read_csv('Input/CTD_genes_diseases.tsv', sep='\\t', skiprows=27)"
   ]
  },
  {
   "cell_type": "code",
   "execution_count": 4,
   "metadata": {},
   "outputs": [
    {
     "data": {
      "text/html": [
       "<div>\n",
       "<table border=\"1\" class=\"dataframe\">\n",
       "  <thead>\n",
       "    <tr style=\"text-align: right;\">\n",
       "      <th></th>\n",
       "      <th># GeneSymbol</th>\n",
       "      <th>GeneID</th>\n",
       "      <th>DiseaseName</th>\n",
       "      <th>DiseaseID</th>\n",
       "      <th>DirectEvidence</th>\n",
       "      <th>InferenceChemicalName</th>\n",
       "      <th>InferenceScore</th>\n",
       "      <th>OmimIDs</th>\n",
       "      <th>PubMedIDs</th>\n",
       "    </tr>\n",
       "  </thead>\n",
       "  <tbody>\n",
       "    <tr>\n",
       "      <th>0</th>\n",
       "      <td>#</td>\n",
       "      <td>NaN</td>\n",
       "      <td>NaN</td>\n",
       "      <td>NaN</td>\n",
       "      <td>NaN</td>\n",
       "      <td>NaN</td>\n",
       "      <td>NaN</td>\n",
       "      <td>NaN</td>\n",
       "      <td>NaN</td>\n",
       "    </tr>\n",
       "    <tr>\n",
       "      <th>1</th>\n",
       "      <td>11-BETA-HSD3</td>\n",
       "      <td>100174880.0</td>\n",
       "      <td>Abnormalities, Drug-Induced</td>\n",
       "      <td>MESH:D000014</td>\n",
       "      <td>NaN</td>\n",
       "      <td>Endocrine Disruptors</td>\n",
       "      <td>5.16</td>\n",
       "      <td>NaN</td>\n",
       "      <td>22659286</td>\n",
       "    </tr>\n",
       "    <tr>\n",
       "      <th>2</th>\n",
       "      <td>11-BETA-HSD3</td>\n",
       "      <td>100174880.0</td>\n",
       "      <td>Anemia, Hemolytic</td>\n",
       "      <td>MESH:D000743</td>\n",
       "      <td>NaN</td>\n",
       "      <td>Water Pollutants, Chemical</td>\n",
       "      <td>4.51</td>\n",
       "      <td>NaN</td>\n",
       "      <td>22425172</td>\n",
       "    </tr>\n",
       "    <tr>\n",
       "      <th>3</th>\n",
       "      <td>11-BETA-HSD3</td>\n",
       "      <td>100174880.0</td>\n",
       "      <td>Asthenozoospermia</td>\n",
       "      <td>MESH:D053627</td>\n",
       "      <td>NaN</td>\n",
       "      <td>Water Pollutants, Chemical</td>\n",
       "      <td>5.21</td>\n",
       "      <td>NaN</td>\n",
       "      <td>25179371</td>\n",
       "    </tr>\n",
       "    <tr>\n",
       "      <th>4</th>\n",
       "      <td>11-BETA-HSD3</td>\n",
       "      <td>100174880.0</td>\n",
       "      <td>Birth Weight</td>\n",
       "      <td>MESH:D001724</td>\n",
       "      <td>NaN</td>\n",
       "      <td>Endocrine Disruptors</td>\n",
       "      <td>5.89</td>\n",
       "      <td>NaN</td>\n",
       "      <td>27152464</td>\n",
       "    </tr>\n",
       "  </tbody>\n",
       "</table>\n",
       "</div>"
      ],
      "text/plain": [
       "   # GeneSymbol       GeneID                  DiseaseName     DiseaseID  \\\n",
       "0             #          NaN                          NaN           NaN   \n",
       "1  11-BETA-HSD3  100174880.0  Abnormalities, Drug-Induced  MESH:D000014   \n",
       "2  11-BETA-HSD3  100174880.0            Anemia, Hemolytic  MESH:D000743   \n",
       "3  11-BETA-HSD3  100174880.0            Asthenozoospermia  MESH:D053627   \n",
       "4  11-BETA-HSD3  100174880.0                 Birth Weight  MESH:D001724   \n",
       "\n",
       "  DirectEvidence       InferenceChemicalName  InferenceScore OmimIDs PubMedIDs  \n",
       "0            NaN                         NaN             NaN     NaN       NaN  \n",
       "1            NaN        Endocrine Disruptors            5.16     NaN  22659286  \n",
       "2            NaN  Water Pollutants, Chemical            4.51     NaN  22425172  \n",
       "3            NaN  Water Pollutants, Chemical            5.21     NaN  25179371  \n",
       "4            NaN        Endocrine Disruptors            5.89     NaN  27152464  "
      ]
     },
     "execution_count": 4,
     "metadata": {},
     "output_type": "execute_result"
    }
   ],
   "source": [
    "df.head()"
   ]
  },
  {
   "cell_type": "code",
   "execution_count": 5,
   "metadata": {},
   "outputs": [
    {
     "data": {
      "text/plain": [
       "(51373878, 9)"
      ]
     },
     "execution_count": 5,
     "metadata": {},
     "output_type": "execute_result"
    }
   ],
   "source": [
    "df.shape"
   ]
  },
  {
   "cell_type": "markdown",
   "metadata": {},
   "source": [
    "# Get Relevent Data"
   ]
  },
  {
   "cell_type": "code",
   "execution_count": 6,
   "metadata": {
    "collapsed": true
   },
   "outputs": [],
   "source": [
    "df = df[['# GeneSymbol', 'DiseaseName', 'InferenceScore']]"
   ]
  },
  {
   "cell_type": "code",
   "execution_count": 7,
   "metadata": {},
   "outputs": [],
   "source": [
    "df.drop(0, axis=0, inplace=True)"
   ]
  },
  {
   "cell_type": "code",
   "execution_count": 8,
   "metadata": {
    "collapsed": true
   },
   "outputs": [],
   "source": [
    "df.drop_duplicates(inplace=True)"
   ]
  },
  {
   "cell_type": "code",
   "execution_count": 9,
   "metadata": {},
   "outputs": [
    {
     "data": {
      "text/html": [
       "<div>\n",
       "<table border=\"1\" class=\"dataframe\">\n",
       "  <thead>\n",
       "    <tr style=\"text-align: right;\">\n",
       "      <th></th>\n",
       "      <th># GeneSymbol</th>\n",
       "      <th>DiseaseName</th>\n",
       "      <th>InferenceScore</th>\n",
       "    </tr>\n",
       "  </thead>\n",
       "  <tbody>\n",
       "    <tr>\n",
       "      <th>1</th>\n",
       "      <td>11-BETA-HSD3</td>\n",
       "      <td>Abnormalities, Drug-Induced</td>\n",
       "      <td>5.16</td>\n",
       "    </tr>\n",
       "    <tr>\n",
       "      <th>2</th>\n",
       "      <td>11-BETA-HSD3</td>\n",
       "      <td>Anemia, Hemolytic</td>\n",
       "      <td>4.51</td>\n",
       "    </tr>\n",
       "    <tr>\n",
       "      <th>3</th>\n",
       "      <td>11-BETA-HSD3</td>\n",
       "      <td>Asthenozoospermia</td>\n",
       "      <td>5.21</td>\n",
       "    </tr>\n",
       "    <tr>\n",
       "      <th>4</th>\n",
       "      <td>11-BETA-HSD3</td>\n",
       "      <td>Birth Weight</td>\n",
       "      <td>5.89</td>\n",
       "    </tr>\n",
       "    <tr>\n",
       "      <th>5</th>\n",
       "      <td>11-BETA-HSD3</td>\n",
       "      <td>Breast Neoplasms</td>\n",
       "      <td>8.68</td>\n",
       "    </tr>\n",
       "  </tbody>\n",
       "</table>\n",
       "</div>"
      ],
      "text/plain": [
       "   # GeneSymbol                  DiseaseName  InferenceScore\n",
       "1  11-BETA-HSD3  Abnormalities, Drug-Induced            5.16\n",
       "2  11-BETA-HSD3            Anemia, Hemolytic            4.51\n",
       "3  11-BETA-HSD3            Asthenozoospermia            5.21\n",
       "4  11-BETA-HSD3                 Birth Weight            5.89\n",
       "5  11-BETA-HSD3             Breast Neoplasms            8.68"
      ]
     },
     "execution_count": 9,
     "metadata": {},
     "output_type": "execute_result"
    }
   ],
   "source": [
    "df.head()"
   ]
  },
  {
   "cell_type": "code",
   "execution_count": 10,
   "metadata": {},
   "outputs": [
    {
     "data": {
      "text/plain": [
       "(20161840, 3)"
      ]
     },
     "execution_count": 10,
     "metadata": {},
     "output_type": "execute_result"
    }
   ],
   "source": [
    "df.shape"
   ]
  },
  {
   "cell_type": "markdown",
   "metadata": {},
   "source": [
    "# Create Matrix"
   ]
  },
  {
   "cell_type": "code",
   "execution_count": 11,
   "metadata": {},
   "outputs": [
    {
     "name": "stdout",
     "output_type": "stream",
     "text": [
      "Progress: 100%   \r"
     ]
    }
   ],
   "source": [
    "genes = df['# GeneSymbol'].unique().tolist()\n",
    "tissues = df['DiseaseName'].unique().tolist()\n",
    "\n",
    "df.set_index('DiseaseName', inplace=True)\n",
    "\n",
    "matrix = pd.DataFrame(index=genes, columns=tissues)\n",
    "\n",
    "matrix.replace(np.nan, 0.0, inplace=True)\n",
    "\n",
    "for i,col in enumerate(matrix.columns):\n",
    "    \n",
    "    progress = ((i+1)/len(matrix.columns))*100\n",
    "        \n",
    "    sys.stdout.write(\"Progress: %d%%   \\r\" % (progress))\n",
    "    sys.stdout.flush()\n",
    "    \n",
    "    if type(df.ix[col, 'InferenceScore']) != np.float64: \n",
    "        matrix.ix[df.loc[col, '# GeneSymbol'].values.tolist(), col] = df.ix[col, 'InferenceScore'].values.tolist()"
   ]
  },
  {
   "cell_type": "code",
   "execution_count": 12,
   "metadata": {},
   "outputs": [
    {
     "data": {
      "text/html": [
       "<div>\n",
       "<table border=\"1\" class=\"dataframe\">\n",
       "  <thead>\n",
       "    <tr style=\"text-align: right;\">\n",
       "      <th></th>\n",
       "      <th>Abnormalities, Drug-Induced</th>\n",
       "      <th>Anemia, Hemolytic</th>\n",
       "      <th>Asthenozoospermia</th>\n",
       "      <th>Birth Weight</th>\n",
       "      <th>Breast Neoplasms</th>\n",
       "      <th>Cell Transformation, Neoplastic</th>\n",
       "      <th>Chromosome Aberrations</th>\n",
       "      <th>Death</th>\n",
       "      <th>Disorders of Sex Development</th>\n",
       "      <th>Fetal Death</th>\n",
       "      <th>...</th>\n",
       "      <th>Holoprosencephaly 5</th>\n",
       "      <th>Heterotaxy, visceral, X-linked</th>\n",
       "      <th>Acro-Osteolysis</th>\n",
       "      <th>Mandibuloacral dysplasia with type B lipodystrophy</th>\n",
       "      <th>NEPHROLITHIASIS, URIC ACID, SUSCEPTIBILITY TO</th>\n",
       "      <th>Brittle cornea syndrome 1</th>\n",
       "      <th>RETINITIS PIGMENTOSA 58</th>\n",
       "      <th>Spinocerebellar ataxia, autosomal recessive 5</th>\n",
       "      <th>Seborrhea-Like Dermatitis with Psoriasiform Elements</th>\n",
       "      <th>Mental Retardation, X-Linked 45</th>\n",
       "    </tr>\n",
       "  </thead>\n",
       "  <tbody>\n",
       "    <tr>\n",
       "      <th>11-BETA-HSD3</th>\n",
       "      <td>5.16</td>\n",
       "      <td>4.51</td>\n",
       "      <td>5.21</td>\n",
       "      <td>5.89</td>\n",
       "      <td>8.68</td>\n",
       "      <td>4.28</td>\n",
       "      <td>4.76</td>\n",
       "      <td>4.96</td>\n",
       "      <td>14.04</td>\n",
       "      <td>5.73</td>\n",
       "      <td>...</td>\n",
       "      <td>0.0</td>\n",
       "      <td>0.0</td>\n",
       "      <td>0.0</td>\n",
       "      <td>0.0</td>\n",
       "      <td>0.0</td>\n",
       "      <td>0.0</td>\n",
       "      <td>0.0</td>\n",
       "      <td>0.0</td>\n",
       "      <td>0.0</td>\n",
       "      <td>0.0</td>\n",
       "    </tr>\n",
       "    <tr>\n",
       "      <th>128UP</th>\n",
       "      <td>0.00</td>\n",
       "      <td>0.00</td>\n",
       "      <td>0.00</td>\n",
       "      <td>0.00</td>\n",
       "      <td>0.00</td>\n",
       "      <td>0.00</td>\n",
       "      <td>0.00</td>\n",
       "      <td>0.00</td>\n",
       "      <td>0.00</td>\n",
       "      <td>0.00</td>\n",
       "      <td>...</td>\n",
       "      <td>0.0</td>\n",
       "      <td>0.0</td>\n",
       "      <td>0.0</td>\n",
       "      <td>0.0</td>\n",
       "      <td>0.0</td>\n",
       "      <td>0.0</td>\n",
       "      <td>0.0</td>\n",
       "      <td>0.0</td>\n",
       "      <td>0.0</td>\n",
       "      <td>0.0</td>\n",
       "    </tr>\n",
       "    <tr>\n",
       "      <th>130004C03</th>\n",
       "      <td>0.00</td>\n",
       "      <td>4.28</td>\n",
       "      <td>0.00</td>\n",
       "      <td>0.00</td>\n",
       "      <td>0.00</td>\n",
       "      <td>0.00</td>\n",
       "      <td>0.00</td>\n",
       "      <td>0.00</td>\n",
       "      <td>0.00</td>\n",
       "      <td>0.00</td>\n",
       "      <td>...</td>\n",
       "      <td>0.0</td>\n",
       "      <td>0.0</td>\n",
       "      <td>0.0</td>\n",
       "      <td>0.0</td>\n",
       "      <td>0.0</td>\n",
       "      <td>0.0</td>\n",
       "      <td>0.0</td>\n",
       "      <td>0.0</td>\n",
       "      <td>0.0</td>\n",
       "      <td>0.0</td>\n",
       "    </tr>\n",
       "    <tr>\n",
       "      <th>14-3-3ZETA</th>\n",
       "      <td>0.00</td>\n",
       "      <td>0.00</td>\n",
       "      <td>0.00</td>\n",
       "      <td>0.00</td>\n",
       "      <td>0.00</td>\n",
       "      <td>3.86</td>\n",
       "      <td>0.00</td>\n",
       "      <td>4.86</td>\n",
       "      <td>0.00</td>\n",
       "      <td>4.57</td>\n",
       "      <td>...</td>\n",
       "      <td>0.0</td>\n",
       "      <td>0.0</td>\n",
       "      <td>0.0</td>\n",
       "      <td>0.0</td>\n",
       "      <td>0.0</td>\n",
       "      <td>0.0</td>\n",
       "      <td>0.0</td>\n",
       "      <td>0.0</td>\n",
       "      <td>0.0</td>\n",
       "      <td>0.0</td>\n",
       "    </tr>\n",
       "    <tr>\n",
       "      <th>143B1</th>\n",
       "      <td>0.00</td>\n",
       "      <td>0.00</td>\n",
       "      <td>0.00</td>\n",
       "      <td>0.00</td>\n",
       "      <td>3.30</td>\n",
       "      <td>0.00</td>\n",
       "      <td>0.00</td>\n",
       "      <td>0.00</td>\n",
       "      <td>0.00</td>\n",
       "      <td>0.00</td>\n",
       "      <td>...</td>\n",
       "      <td>0.0</td>\n",
       "      <td>0.0</td>\n",
       "      <td>0.0</td>\n",
       "      <td>0.0</td>\n",
       "      <td>0.0</td>\n",
       "      <td>0.0</td>\n",
       "      <td>0.0</td>\n",
       "      <td>0.0</td>\n",
       "      <td>0.0</td>\n",
       "      <td>0.0</td>\n",
       "    </tr>\n",
       "  </tbody>\n",
       "</table>\n",
       "<p>5 rows × 6384 columns</p>\n",
       "</div>"
      ],
      "text/plain": [
       "              Abnormalities, Drug-Induced  Anemia, Hemolytic  \\\n",
       "11-BETA-HSD3                         5.16               4.51   \n",
       "128UP                                0.00               0.00   \n",
       "130004C03                            0.00               4.28   \n",
       "14-3-3ZETA                           0.00               0.00   \n",
       "143B1                                0.00               0.00   \n",
       "\n",
       "              Asthenozoospermia  Birth Weight  Breast Neoplasms  \\\n",
       "11-BETA-HSD3               5.21          5.89              8.68   \n",
       "128UP                      0.00          0.00              0.00   \n",
       "130004C03                  0.00          0.00              0.00   \n",
       "14-3-3ZETA                 0.00          0.00              0.00   \n",
       "143B1                      0.00          0.00              3.30   \n",
       "\n",
       "              Cell Transformation, Neoplastic  Chromosome Aberrations  Death  \\\n",
       "11-BETA-HSD3                             4.28                    4.76   4.96   \n",
       "128UP                                    0.00                    0.00   0.00   \n",
       "130004C03                                0.00                    0.00   0.00   \n",
       "14-3-3ZETA                               3.86                    0.00   4.86   \n",
       "143B1                                    0.00                    0.00   0.00   \n",
       "\n",
       "              Disorders of Sex Development  Fetal Death  \\\n",
       "11-BETA-HSD3                         14.04         5.73   \n",
       "128UP                                 0.00         0.00   \n",
       "130004C03                             0.00         0.00   \n",
       "14-3-3ZETA                            0.00         4.57   \n",
       "143B1                                 0.00         0.00   \n",
       "\n",
       "                           ...                 Holoprosencephaly 5  \\\n",
       "11-BETA-HSD3               ...                                 0.0   \n",
       "128UP                      ...                                 0.0   \n",
       "130004C03                  ...                                 0.0   \n",
       "14-3-3ZETA                 ...                                 0.0   \n",
       "143B1                      ...                                 0.0   \n",
       "\n",
       "              Heterotaxy, visceral, X-linked  Acro-Osteolysis  \\\n",
       "11-BETA-HSD3                             0.0              0.0   \n",
       "128UP                                    0.0              0.0   \n",
       "130004C03                                0.0              0.0   \n",
       "14-3-3ZETA                               0.0              0.0   \n",
       "143B1                                    0.0              0.0   \n",
       "\n",
       "              Mandibuloacral dysplasia with type B lipodystrophy  \\\n",
       "11-BETA-HSD3                                                0.0    \n",
       "128UP                                                       0.0    \n",
       "130004C03                                                   0.0    \n",
       "14-3-3ZETA                                                  0.0    \n",
       "143B1                                                       0.0    \n",
       "\n",
       "              NEPHROLITHIASIS, URIC ACID, SUSCEPTIBILITY TO  \\\n",
       "11-BETA-HSD3                                            0.0   \n",
       "128UP                                                   0.0   \n",
       "130004C03                                               0.0   \n",
       "14-3-3ZETA                                              0.0   \n",
       "143B1                                                   0.0   \n",
       "\n",
       "              Brittle cornea syndrome 1  RETINITIS PIGMENTOSA 58  \\\n",
       "11-BETA-HSD3                        0.0                      0.0   \n",
       "128UP                               0.0                      0.0   \n",
       "130004C03                           0.0                      0.0   \n",
       "14-3-3ZETA                          0.0                      0.0   \n",
       "143B1                               0.0                      0.0   \n",
       "\n",
       "              Spinocerebellar ataxia, autosomal recessive 5  \\\n",
       "11-BETA-HSD3                                            0.0   \n",
       "128UP                                                   0.0   \n",
       "130004C03                                               0.0   \n",
       "14-3-3ZETA                                              0.0   \n",
       "143B1                                                   0.0   \n",
       "\n",
       "              Seborrhea-Like Dermatitis with Psoriasiform Elements  \\\n",
       "11-BETA-HSD3                                                0.0      \n",
       "128UP                                                       0.0      \n",
       "130004C03                                                   0.0      \n",
       "14-3-3ZETA                                                  0.0      \n",
       "143B1                                                       0.0      \n",
       "\n",
       "              Mental Retardation, X-Linked 45  \n",
       "11-BETA-HSD3                              0.0  \n",
       "128UP                                     0.0  \n",
       "130004C03                                 0.0  \n",
       "14-3-3ZETA                                0.0  \n",
       "143B1                                     0.0  \n",
       "\n",
       "[5 rows x 6384 columns]"
      ]
     },
     "execution_count": 12,
     "metadata": {},
     "output_type": "execute_result"
    }
   ],
   "source": [
    "matrix.head()"
   ]
  },
  {
   "cell_type": "code",
   "execution_count": 13,
   "metadata": {},
   "outputs": [
    {
     "data": {
      "text/plain": [
       "(42551, 6384)"
      ]
     },
     "execution_count": 13,
     "metadata": {},
     "output_type": "execute_result"
    }
   ],
   "source": [
    "matrix.shape"
   ]
  },
  {
   "cell_type": "markdown",
   "metadata": {},
   "source": [
    "# Drop Any Genes That Have Zero Inferance Across 95% Of The Samples"
   ]
  },
  {
   "cell_type": "code",
   "execution_count": 14,
   "metadata": {
    "collapsed": true
   },
   "outputs": [],
   "source": [
    "matrix.replace(0, np.nan, inplace=True)"
   ]
  },
  {
   "cell_type": "code",
   "execution_count": 15,
   "metadata": {
    "collapsed": true
   },
   "outputs": [],
   "source": [
    "matrix.dropna(thresh=(0.05*matrix.shape[1]), axis=0, inplace=True)"
   ]
  },
  {
   "cell_type": "code",
   "execution_count": 16,
   "metadata": {
    "collapsed": true
   },
   "outputs": [],
   "source": [
    "matrix.replace(np.nan, 0, inplace=True)"
   ]
  },
  {
   "cell_type": "code",
   "execution_count": 17,
   "metadata": {},
   "outputs": [
    {
     "data": {
      "text/plain": [
       "(20202, 6384)"
      ]
     },
     "execution_count": 17,
     "metadata": {},
     "output_type": "execute_result"
    }
   ],
   "source": [
    "matrix.shape"
   ]
  },
  {
   "cell_type": "markdown",
   "metadata": {},
   "source": [
    "# Map Gene Symbols To Up-to-date Approved Gene Symbols"
   ]
  },
  {
   "cell_type": "code",
   "execution_count": 18,
   "metadata": {},
   "outputs": [
    {
     "name": "stdout",
     "output_type": "stream",
     "text": [
      "Progeres: 100%  20202 Out of 20202   \r"
     ]
    }
   ],
   "source": [
    "uf.mapgenesymbols(matrix)"
   ]
  },
  {
   "cell_type": "markdown",
   "metadata": {},
   "source": [
    "# Save Unfiltered Sample Matrix To File"
   ]
  },
  {
   "cell_type": "code",
   "execution_count": 19,
   "metadata": {
    "collapsed": true
   },
   "outputs": [],
   "source": [
    "filename = '~/./Documents/Harmonizome/CTD/Output/ctd_disease_matrix_unfilltered_%s.tsv.zip'% str(datetime.date.today())[0:7].replace('-', '_')\n",
    "matrix.to_csv(filename, sep='\\t', compression='gzip')"
   ]
  },
  {
   "cell_type": "markdown",
   "metadata": {},
   "source": [
    "# Normalize Matrix (Quantile Normalize the matrix for the columns)"
   ]
  },
  {
   "cell_type": "code",
   "execution_count": 20,
   "metadata": {
    "collapsed": true
   },
   "outputs": [],
   "source": [
    "normalized_matrix = matrix.copy()"
   ]
  },
  {
   "cell_type": "code",
   "execution_count": 21,
   "metadata": {},
   "outputs": [
    {
     "name": "stdout",
     "output_type": "stream",
     "text": [
      "Step 2/2 progress: 100%  6384 Out of 6384   \r"
     ]
    }
   ],
   "source": [
    "normalized_matrix = uf.quantileNormalize(normalized_matrix)"
   ]
  },
  {
   "cell_type": "code",
   "execution_count": 22,
   "metadata": {},
   "outputs": [
    {
     "data": {
      "text/html": [
       "<div>\n",
       "<table border=\"1\" class=\"dataframe\">\n",
       "  <thead>\n",
       "    <tr style=\"text-align: right;\">\n",
       "      <th></th>\n",
       "      <th>Abnormalities, Drug-Induced</th>\n",
       "      <th>Anemia, Hemolytic</th>\n",
       "      <th>Asthenozoospermia</th>\n",
       "      <th>Birth Weight</th>\n",
       "      <th>Breast Neoplasms</th>\n",
       "      <th>Cell Transformation, Neoplastic</th>\n",
       "      <th>Chromosome Aberrations</th>\n",
       "      <th>Death</th>\n",
       "      <th>Disorders of Sex Development</th>\n",
       "      <th>Fetal Death</th>\n",
       "      <th>...</th>\n",
       "      <th>Holoprosencephaly 5</th>\n",
       "      <th>Heterotaxy, visceral, X-linked</th>\n",
       "      <th>Acro-Osteolysis</th>\n",
       "      <th>Mandibuloacral dysplasia with type B lipodystrophy</th>\n",
       "      <th>NEPHROLITHIASIS, URIC ACID, SUSCEPTIBILITY TO</th>\n",
       "      <th>Brittle cornea syndrome 1</th>\n",
       "      <th>RETINITIS PIGMENTOSA 58</th>\n",
       "      <th>Spinocerebellar ataxia, autosomal recessive 5</th>\n",
       "      <th>Seborrhea-Like Dermatitis with Psoriasiform Elements</th>\n",
       "      <th>Mental Retardation, X-Linked 45</th>\n",
       "    </tr>\n",
       "    <tr>\n",
       "      <th>index</th>\n",
       "      <th></th>\n",
       "      <th></th>\n",
       "      <th></th>\n",
       "      <th></th>\n",
       "      <th></th>\n",
       "      <th></th>\n",
       "      <th></th>\n",
       "      <th></th>\n",
       "      <th></th>\n",
       "      <th></th>\n",
       "      <th></th>\n",
       "      <th></th>\n",
       "      <th></th>\n",
       "      <th></th>\n",
       "      <th></th>\n",
       "      <th></th>\n",
       "      <th></th>\n",
       "      <th></th>\n",
       "      <th></th>\n",
       "      <th></th>\n",
       "      <th></th>\n",
       "    </tr>\n",
       "  </thead>\n",
       "  <tbody>\n",
       "    <tr>\n",
       "      <th>A1BG</th>\n",
       "      <td>0.610807</td>\n",
       "      <td>0.858689</td>\n",
       "      <td>0.808271</td>\n",
       "      <td>2.327359</td>\n",
       "      <td>2.244685</td>\n",
       "      <td>1.622046</td>\n",
       "      <td>2.349109</td>\n",
       "      <td>1.324767</td>\n",
       "      <td>0.355432</td>\n",
       "      <td>0.818446</td>\n",
       "      <td>...</td>\n",
       "      <td>0.0005</td>\n",
       "      <td>0.0005</td>\n",
       "      <td>0.0005</td>\n",
       "      <td>0.0005</td>\n",
       "      <td>0.0005</td>\n",
       "      <td>0.0005</td>\n",
       "      <td>0.0005</td>\n",
       "      <td>0.0005</td>\n",
       "      <td>0.0005</td>\n",
       "      <td>0.0005</td>\n",
       "    </tr>\n",
       "    <tr>\n",
       "      <th>A1CF</th>\n",
       "      <td>0.966164</td>\n",
       "      <td>0.995755</td>\n",
       "      <td>1.618219</td>\n",
       "      <td>3.811461</td>\n",
       "      <td>1.292176</td>\n",
       "      <td>1.330196</td>\n",
       "      <td>0.569992</td>\n",
       "      <td>0.957503</td>\n",
       "      <td>0.000500</td>\n",
       "      <td>0.610642</td>\n",
       "      <td>...</td>\n",
       "      <td>0.0005</td>\n",
       "      <td>0.0005</td>\n",
       "      <td>0.0005</td>\n",
       "      <td>0.0005</td>\n",
       "      <td>0.0005</td>\n",
       "      <td>0.0005</td>\n",
       "      <td>0.0005</td>\n",
       "      <td>0.0005</td>\n",
       "      <td>0.0005</td>\n",
       "      <td>0.0005</td>\n",
       "    </tr>\n",
       "    <tr>\n",
       "      <th>A2M</th>\n",
       "      <td>4.530959</td>\n",
       "      <td>2.757498</td>\n",
       "      <td>1.291584</td>\n",
       "      <td>3.588139</td>\n",
       "      <td>3.011992</td>\n",
       "      <td>4.228456</td>\n",
       "      <td>3.156120</td>\n",
       "      <td>5.437132</td>\n",
       "      <td>1.564383</td>\n",
       "      <td>4.621808</td>\n",
       "      <td>...</td>\n",
       "      <td>0.0005</td>\n",
       "      <td>0.0005</td>\n",
       "      <td>0.0005</td>\n",
       "      <td>0.0005</td>\n",
       "      <td>0.0005</td>\n",
       "      <td>0.0005</td>\n",
       "      <td>0.0005</td>\n",
       "      <td>0.0005</td>\n",
       "      <td>0.0005</td>\n",
       "      <td>0.0005</td>\n",
       "    </tr>\n",
       "    <tr>\n",
       "      <th>A2M-AS1</th>\n",
       "      <td>0.038965</td>\n",
       "      <td>0.210948</td>\n",
       "      <td>0.000500</td>\n",
       "      <td>0.342278</td>\n",
       "      <td>0.000500</td>\n",
       "      <td>0.032823</td>\n",
       "      <td>0.000500</td>\n",
       "      <td>0.000500</td>\n",
       "      <td>0.000500</td>\n",
       "      <td>0.079958</td>\n",
       "      <td>...</td>\n",
       "      <td>0.0005</td>\n",
       "      <td>0.0005</td>\n",
       "      <td>0.0005</td>\n",
       "      <td>0.0005</td>\n",
       "      <td>0.0005</td>\n",
       "      <td>0.0005</td>\n",
       "      <td>0.0005</td>\n",
       "      <td>0.0005</td>\n",
       "      <td>0.0005</td>\n",
       "      <td>0.0005</td>\n",
       "    </tr>\n",
       "    <tr>\n",
       "      <th>A3GALT2</th>\n",
       "      <td>0.224629</td>\n",
       "      <td>0.442168</td>\n",
       "      <td>0.165356</td>\n",
       "      <td>0.189693</td>\n",
       "      <td>0.307874</td>\n",
       "      <td>0.138429</td>\n",
       "      <td>0.316065</td>\n",
       "      <td>1.792705</td>\n",
       "      <td>0.000500</td>\n",
       "      <td>0.408443</td>\n",
       "      <td>...</td>\n",
       "      <td>0.0005</td>\n",
       "      <td>0.0005</td>\n",
       "      <td>0.0005</td>\n",
       "      <td>0.0005</td>\n",
       "      <td>0.0005</td>\n",
       "      <td>0.0005</td>\n",
       "      <td>0.0005</td>\n",
       "      <td>0.0005</td>\n",
       "      <td>0.0005</td>\n",
       "      <td>0.0005</td>\n",
       "    </tr>\n",
       "  </tbody>\n",
       "</table>\n",
       "<p>5 rows × 6384 columns</p>\n",
       "</div>"
      ],
      "text/plain": [
       "         Abnormalities, Drug-Induced  Anemia, Hemolytic  Asthenozoospermia  \\\n",
       "index                                                                        \n",
       "A1BG                        0.610807           0.858689           0.808271   \n",
       "A1CF                        0.966164           0.995755           1.618219   \n",
       "A2M                         4.530959           2.757498           1.291584   \n",
       "A2M-AS1                     0.038965           0.210948           0.000500   \n",
       "A3GALT2                     0.224629           0.442168           0.165356   \n",
       "\n",
       "         Birth Weight  Breast Neoplasms  Cell Transformation, Neoplastic  \\\n",
       "index                                                                      \n",
       "A1BG         2.327359          2.244685                         1.622046   \n",
       "A1CF         3.811461          1.292176                         1.330196   \n",
       "A2M          3.588139          3.011992                         4.228456   \n",
       "A2M-AS1      0.342278          0.000500                         0.032823   \n",
       "A3GALT2      0.189693          0.307874                         0.138429   \n",
       "\n",
       "         Chromosome Aberrations     Death  Disorders of Sex Development  \\\n",
       "index                                                                     \n",
       "A1BG                   2.349109  1.324767                      0.355432   \n",
       "A1CF                   0.569992  0.957503                      0.000500   \n",
       "A2M                    3.156120  5.437132                      1.564383   \n",
       "A2M-AS1                0.000500  0.000500                      0.000500   \n",
       "A3GALT2                0.316065  1.792705                      0.000500   \n",
       "\n",
       "         Fetal Death               ...                 Holoprosencephaly 5  \\\n",
       "index                              ...                                       \n",
       "A1BG        0.818446               ...                              0.0005   \n",
       "A1CF        0.610642               ...                              0.0005   \n",
       "A2M         4.621808               ...                              0.0005   \n",
       "A2M-AS1     0.079958               ...                              0.0005   \n",
       "A3GALT2     0.408443               ...                              0.0005   \n",
       "\n",
       "         Heterotaxy, visceral, X-linked  Acro-Osteolysis  \\\n",
       "index                                                      \n",
       "A1BG                             0.0005           0.0005   \n",
       "A1CF                             0.0005           0.0005   \n",
       "A2M                              0.0005           0.0005   \n",
       "A2M-AS1                          0.0005           0.0005   \n",
       "A3GALT2                          0.0005           0.0005   \n",
       "\n",
       "         Mandibuloacral dysplasia with type B lipodystrophy  \\\n",
       "index                                                         \n",
       "A1BG                                                0.0005    \n",
       "A1CF                                                0.0005    \n",
       "A2M                                                 0.0005    \n",
       "A2M-AS1                                             0.0005    \n",
       "A3GALT2                                             0.0005    \n",
       "\n",
       "         NEPHROLITHIASIS, URIC ACID, SUSCEPTIBILITY TO  \\\n",
       "index                                                    \n",
       "A1BG                                            0.0005   \n",
       "A1CF                                            0.0005   \n",
       "A2M                                             0.0005   \n",
       "A2M-AS1                                         0.0005   \n",
       "A3GALT2                                         0.0005   \n",
       "\n",
       "         Brittle cornea syndrome 1  RETINITIS PIGMENTOSA 58  \\\n",
       "index                                                         \n",
       "A1BG                        0.0005                   0.0005   \n",
       "A1CF                        0.0005                   0.0005   \n",
       "A2M                         0.0005                   0.0005   \n",
       "A2M-AS1                     0.0005                   0.0005   \n",
       "A3GALT2                     0.0005                   0.0005   \n",
       "\n",
       "         Spinocerebellar ataxia, autosomal recessive 5  \\\n",
       "index                                                    \n",
       "A1BG                                            0.0005   \n",
       "A1CF                                            0.0005   \n",
       "A2M                                             0.0005   \n",
       "A2M-AS1                                         0.0005   \n",
       "A3GALT2                                         0.0005   \n",
       "\n",
       "         Seborrhea-Like Dermatitis with Psoriasiform Elements  \\\n",
       "index                                                           \n",
       "A1BG                                                0.0005      \n",
       "A1CF                                                0.0005      \n",
       "A2M                                                 0.0005      \n",
       "A2M-AS1                                             0.0005      \n",
       "A3GALT2                                             0.0005      \n",
       "\n",
       "         Mental Retardation, X-Linked 45  \n",
       "index                                     \n",
       "A1BG                              0.0005  \n",
       "A1CF                              0.0005  \n",
       "A2M                               0.0005  \n",
       "A2M-AS1                           0.0005  \n",
       "A3GALT2                           0.0005  \n",
       "\n",
       "[5 rows x 6384 columns]"
      ]
     },
     "execution_count": 22,
     "metadata": {},
     "output_type": "execute_result"
    }
   ],
   "source": [
    "normalized_matrix.head()"
   ]
  },
  {
   "cell_type": "markdown",
   "metadata": {},
   "source": [
    "# Nomalize Matrix (z-score the rows)"
   ]
  },
  {
   "cell_type": "code",
   "execution_count": 26,
   "metadata": {},
   "outputs": [
    {
     "name": "stdout",
     "output_type": "stream",
     "text": [
      "Progress: 100%  17859 Out of 17859   \r"
     ]
    }
   ],
   "source": [
    "uf.zscore(normalized_matrix, 'row')"
   ]
  },
  {
   "cell_type": "code",
   "execution_count": 27,
   "metadata": {},
   "outputs": [
    {
     "data": {
      "text/html": [
       "<div>\n",
       "<table border=\"1\" class=\"dataframe\">\n",
       "  <thead>\n",
       "    <tr style=\"text-align: right;\">\n",
       "      <th></th>\n",
       "      <th>Abnormalities, Drug-Induced</th>\n",
       "      <th>Anemia, Hemolytic</th>\n",
       "      <th>Asthenozoospermia</th>\n",
       "      <th>Birth Weight</th>\n",
       "      <th>Breast Neoplasms</th>\n",
       "      <th>Cell Transformation, Neoplastic</th>\n",
       "      <th>Chromosome Aberrations</th>\n",
       "      <th>Death</th>\n",
       "      <th>Disorders of Sex Development</th>\n",
       "      <th>Fetal Death</th>\n",
       "      <th>...</th>\n",
       "      <th>Holoprosencephaly 5</th>\n",
       "      <th>Heterotaxy, visceral, X-linked</th>\n",
       "      <th>Acro-Osteolysis</th>\n",
       "      <th>Mandibuloacral dysplasia with type B lipodystrophy</th>\n",
       "      <th>NEPHROLITHIASIS, URIC ACID, SUSCEPTIBILITY TO</th>\n",
       "      <th>Brittle cornea syndrome 1</th>\n",
       "      <th>RETINITIS PIGMENTOSA 58</th>\n",
       "      <th>Spinocerebellar ataxia, autosomal recessive 5</th>\n",
       "      <th>Seborrhea-Like Dermatitis with Psoriasiform Elements</th>\n",
       "      <th>Mental Retardation, X-Linked 45</th>\n",
       "    </tr>\n",
       "    <tr>\n",
       "      <th>index</th>\n",
       "      <th></th>\n",
       "      <th></th>\n",
       "      <th></th>\n",
       "      <th></th>\n",
       "      <th></th>\n",
       "      <th></th>\n",
       "      <th></th>\n",
       "      <th></th>\n",
       "      <th></th>\n",
       "      <th></th>\n",
       "      <th></th>\n",
       "      <th></th>\n",
       "      <th></th>\n",
       "      <th></th>\n",
       "      <th></th>\n",
       "      <th></th>\n",
       "      <th></th>\n",
       "      <th></th>\n",
       "      <th></th>\n",
       "      <th></th>\n",
       "      <th></th>\n",
       "    </tr>\n",
       "  </thead>\n",
       "  <tbody>\n",
       "    <tr>\n",
       "      <th>A1BG</th>\n",
       "      <td>0.356365</td>\n",
       "      <td>0.631936</td>\n",
       "      <td>0.575886</td>\n",
       "      <td>2.264660</td>\n",
       "      <td>2.172751</td>\n",
       "      <td>1.480561</td>\n",
       "      <td>2.288839</td>\n",
       "      <td>1.150075</td>\n",
       "      <td>0.072464</td>\n",
       "      <td>0.587198</td>\n",
       "      <td>...</td>\n",
       "      <td>-0.322115</td>\n",
       "      <td>-0.322115</td>\n",
       "      <td>-0.322115</td>\n",
       "      <td>-0.322115</td>\n",
       "      <td>-0.322115</td>\n",
       "      <td>-0.322115</td>\n",
       "      <td>-0.322115</td>\n",
       "      <td>-0.322115</td>\n",
       "      <td>-0.322115</td>\n",
       "      <td>-0.322115</td>\n",
       "    </tr>\n",
       "    <tr>\n",
       "      <th>A1CF</th>\n",
       "      <td>1.387571</td>\n",
       "      <td>1.439235</td>\n",
       "      <td>2.526010</td>\n",
       "      <td>6.355246</td>\n",
       "      <td>1.956763</td>\n",
       "      <td>2.023143</td>\n",
       "      <td>0.695885</td>\n",
       "      <td>1.372450</td>\n",
       "      <td>-0.298406</td>\n",
       "      <td>0.766857</td>\n",
       "      <td>...</td>\n",
       "      <td>-0.298406</td>\n",
       "      <td>-0.298406</td>\n",
       "      <td>-0.298406</td>\n",
       "      <td>-0.298406</td>\n",
       "      <td>-0.298406</td>\n",
       "      <td>-0.298406</td>\n",
       "      <td>-0.298406</td>\n",
       "      <td>-0.298406</td>\n",
       "      <td>-0.298406</td>\n",
       "      <td>-0.298406</td>\n",
       "    </tr>\n",
       "    <tr>\n",
       "      <th>A2M</th>\n",
       "      <td>2.021736</td>\n",
       "      <td>1.052069</td>\n",
       "      <td>0.250557</td>\n",
       "      <td>1.506235</td>\n",
       "      <td>1.191218</td>\n",
       "      <td>1.856338</td>\n",
       "      <td>1.270022</td>\n",
       "      <td>2.517201</td>\n",
       "      <td>0.399714</td>\n",
       "      <td>2.071410</td>\n",
       "      <td>...</td>\n",
       "      <td>-0.455364</td>\n",
       "      <td>-0.455364</td>\n",
       "      <td>-0.455364</td>\n",
       "      <td>-0.455364</td>\n",
       "      <td>-0.455364</td>\n",
       "      <td>-0.455364</td>\n",
       "      <td>-0.455364</td>\n",
       "      <td>-0.455364</td>\n",
       "      <td>-0.455364</td>\n",
       "      <td>-0.455364</td>\n",
       "    </tr>\n",
       "    <tr>\n",
       "      <th>A2M-AS1</th>\n",
       "      <td>-0.047140</td>\n",
       "      <td>0.381823</td>\n",
       "      <td>-0.143080</td>\n",
       "      <td>0.709388</td>\n",
       "      <td>-0.143080</td>\n",
       "      <td>-0.062460</td>\n",
       "      <td>-0.143080</td>\n",
       "      <td>-0.143080</td>\n",
       "      <td>-0.143080</td>\n",
       "      <td>0.055105</td>\n",
       "      <td>...</td>\n",
       "      <td>-0.143080</td>\n",
       "      <td>-0.143080</td>\n",
       "      <td>-0.143080</td>\n",
       "      <td>-0.143080</td>\n",
       "      <td>-0.143080</td>\n",
       "      <td>-0.143080</td>\n",
       "      <td>-0.143080</td>\n",
       "      <td>-0.143080</td>\n",
       "      <td>-0.143080</td>\n",
       "      <td>-0.143080</td>\n",
       "    </tr>\n",
       "    <tr>\n",
       "      <th>A3GALT2</th>\n",
       "      <td>0.163066</td>\n",
       "      <td>0.523350</td>\n",
       "      <td>0.064899</td>\n",
       "      <td>0.105206</td>\n",
       "      <td>0.300936</td>\n",
       "      <td>0.020304</td>\n",
       "      <td>0.314501</td>\n",
       "      <td>2.760083</td>\n",
       "      <td>-0.208132</td>\n",
       "      <td>0.467495</td>\n",
       "      <td>...</td>\n",
       "      <td>-0.208132</td>\n",
       "      <td>-0.208132</td>\n",
       "      <td>-0.208132</td>\n",
       "      <td>-0.208132</td>\n",
       "      <td>-0.208132</td>\n",
       "      <td>-0.208132</td>\n",
       "      <td>-0.208132</td>\n",
       "      <td>-0.208132</td>\n",
       "      <td>-0.208132</td>\n",
       "      <td>-0.208132</td>\n",
       "    </tr>\n",
       "  </tbody>\n",
       "</table>\n",
       "<p>5 rows × 6384 columns</p>\n",
       "</div>"
      ],
      "text/plain": [
       "         Abnormalities, Drug-Induced  Anemia, Hemolytic  Asthenozoospermia  \\\n",
       "index                                                                        \n",
       "A1BG                        0.356365           0.631936           0.575886   \n",
       "A1CF                        1.387571           1.439235           2.526010   \n",
       "A2M                         2.021736           1.052069           0.250557   \n",
       "A2M-AS1                    -0.047140           0.381823          -0.143080   \n",
       "A3GALT2                     0.163066           0.523350           0.064899   \n",
       "\n",
       "         Birth Weight  Breast Neoplasms  Cell Transformation, Neoplastic  \\\n",
       "index                                                                      \n",
       "A1BG         2.264660          2.172751                         1.480561   \n",
       "A1CF         6.355246          1.956763                         2.023143   \n",
       "A2M          1.506235          1.191218                         1.856338   \n",
       "A2M-AS1      0.709388         -0.143080                        -0.062460   \n",
       "A3GALT2      0.105206          0.300936                         0.020304   \n",
       "\n",
       "         Chromosome Aberrations     Death  Disorders of Sex Development  \\\n",
       "index                                                                     \n",
       "A1BG                   2.288839  1.150075                      0.072464   \n",
       "A1CF                   0.695885  1.372450                     -0.298406   \n",
       "A2M                    1.270022  2.517201                      0.399714   \n",
       "A2M-AS1               -0.143080 -0.143080                     -0.143080   \n",
       "A3GALT2                0.314501  2.760083                     -0.208132   \n",
       "\n",
       "         Fetal Death               ...                 Holoprosencephaly 5  \\\n",
       "index                              ...                                       \n",
       "A1BG        0.587198               ...                           -0.322115   \n",
       "A1CF        0.766857               ...                           -0.298406   \n",
       "A2M         2.071410               ...                           -0.455364   \n",
       "A2M-AS1     0.055105               ...                           -0.143080   \n",
       "A3GALT2     0.467495               ...                           -0.208132   \n",
       "\n",
       "         Heterotaxy, visceral, X-linked  Acro-Osteolysis  \\\n",
       "index                                                      \n",
       "A1BG                          -0.322115        -0.322115   \n",
       "A1CF                          -0.298406        -0.298406   \n",
       "A2M                           -0.455364        -0.455364   \n",
       "A2M-AS1                       -0.143080        -0.143080   \n",
       "A3GALT2                       -0.208132        -0.208132   \n",
       "\n",
       "         Mandibuloacral dysplasia with type B lipodystrophy  \\\n",
       "index                                                         \n",
       "A1BG                                             -0.322115    \n",
       "A1CF                                             -0.298406    \n",
       "A2M                                              -0.455364    \n",
       "A2M-AS1                                          -0.143080    \n",
       "A3GALT2                                          -0.208132    \n",
       "\n",
       "         NEPHROLITHIASIS, URIC ACID, SUSCEPTIBILITY TO  \\\n",
       "index                                                    \n",
       "A1BG                                         -0.322115   \n",
       "A1CF                                         -0.298406   \n",
       "A2M                                          -0.455364   \n",
       "A2M-AS1                                      -0.143080   \n",
       "A3GALT2                                      -0.208132   \n",
       "\n",
       "         Brittle cornea syndrome 1  RETINITIS PIGMENTOSA 58  \\\n",
       "index                                                         \n",
       "A1BG                     -0.322115                -0.322115   \n",
       "A1CF                     -0.298406                -0.298406   \n",
       "A2M                      -0.455364                -0.455364   \n",
       "A2M-AS1                  -0.143080                -0.143080   \n",
       "A3GALT2                  -0.208132                -0.208132   \n",
       "\n",
       "         Spinocerebellar ataxia, autosomal recessive 5  \\\n",
       "index                                                    \n",
       "A1BG                                         -0.322115   \n",
       "A1CF                                         -0.298406   \n",
       "A2M                                          -0.455364   \n",
       "A2M-AS1                                      -0.143080   \n",
       "A3GALT2                                      -0.208132   \n",
       "\n",
       "         Seborrhea-Like Dermatitis with Psoriasiform Elements  \\\n",
       "index                                                           \n",
       "A1BG                                             -0.322115      \n",
       "A1CF                                             -0.298406      \n",
       "A2M                                              -0.455364      \n",
       "A2M-AS1                                          -0.143080      \n",
       "A3GALT2                                          -0.208132      \n",
       "\n",
       "         Mental Retardation, X-Linked 45  \n",
       "index                                     \n",
       "A1BG                           -0.322115  \n",
       "A1CF                           -0.298406  \n",
       "A2M                            -0.455364  \n",
       "A2M-AS1                        -0.143080  \n",
       "A3GALT2                        -0.208132  \n",
       "\n",
       "[5 rows x 6384 columns]"
      ]
     },
     "execution_count": 27,
     "metadata": {},
     "output_type": "execute_result"
    }
   ],
   "source": [
    "normalized_matrix.head()"
   ]
  },
  {
   "cell_type": "markdown",
   "metadata": {},
   "source": [
    "# Merge Duplicate Genes"
   ]
  },
  {
   "cell_type": "code",
   "execution_count": 29,
   "metadata": {},
   "outputs": [],
   "source": [
    "normalized_matrix = uf.merge(normalized_matrix, 'row', 'mean')"
   ]
  },
  {
   "cell_type": "code",
   "execution_count": 30,
   "metadata": {},
   "outputs": [
    {
     "data": {
      "text/plain": [
       "(17487, 6384)"
      ]
     },
     "execution_count": 30,
     "metadata": {},
     "output_type": "execute_result"
    }
   ],
   "source": [
    "normalized_matrix.shape"
   ]
  },
  {
   "cell_type": "markdown",
   "metadata": {},
   "source": [
    "# Save Filtered Sample Matrix To File"
   ]
  },
  {
   "cell_type": "code",
   "execution_count": 31,
   "metadata": {
    "collapsed": true
   },
   "outputs": [],
   "source": [
    "filename = '~/./Documents/Harmonizome/CTD/Output/ctd_disease_matrix_filltered_%s.tsv.zip'% str(datetime.date.today())[0:7].replace('-', '_')\n",
    "normalized_matrix.to_csv(filename, sep='\\t', compression='gzip')"
   ]
  },
  {
   "cell_type": "markdown",
   "metadata": {},
   "source": [
    "# Create Tertiary Matrix"
   ]
  },
  {
   "cell_type": "code",
   "execution_count": 32,
   "metadata": {},
   "outputs": [
    {
     "name": "stdout",
     "output_type": "stream",
     "text": [
      "Progeres: 100%  6384 Out of 6384   \r"
     ]
    }
   ],
   "source": [
    "tertiary_matrix = uf.createTertiaryMarix(normalized_matrix)"
   ]
  },
  {
   "cell_type": "code",
   "execution_count": 33,
   "metadata": {},
   "outputs": [
    {
     "data": {
      "text/html": [
       "<div>\n",
       "<table border=\"1\" class=\"dataframe\">\n",
       "  <thead>\n",
       "    <tr style=\"text-align: right;\">\n",
       "      <th></th>\n",
       "      <th>Abnormalities, Drug-Induced</th>\n",
       "      <th>Anemia, Hemolytic</th>\n",
       "      <th>Asthenozoospermia</th>\n",
       "      <th>Birth Weight</th>\n",
       "      <th>Breast Neoplasms</th>\n",
       "      <th>Cell Transformation, Neoplastic</th>\n",
       "      <th>Chromosome Aberrations</th>\n",
       "      <th>Death</th>\n",
       "      <th>Disorders of Sex Development</th>\n",
       "      <th>Fetal Death</th>\n",
       "      <th>...</th>\n",
       "      <th>Holoprosencephaly 5</th>\n",
       "      <th>Heterotaxy, visceral, X-linked</th>\n",
       "      <th>Acro-Osteolysis</th>\n",
       "      <th>Mandibuloacral dysplasia with type B lipodystrophy</th>\n",
       "      <th>NEPHROLITHIASIS, URIC ACID, SUSCEPTIBILITY TO</th>\n",
       "      <th>Brittle cornea syndrome 1</th>\n",
       "      <th>RETINITIS PIGMENTOSA 58</th>\n",
       "      <th>Spinocerebellar ataxia, autosomal recessive 5</th>\n",
       "      <th>Seborrhea-Like Dermatitis with Psoriasiform Elements</th>\n",
       "      <th>Mental Retardation, X-Linked 45</th>\n",
       "    </tr>\n",
       "    <tr>\n",
       "      <th>index</th>\n",
       "      <th></th>\n",
       "      <th></th>\n",
       "      <th></th>\n",
       "      <th></th>\n",
       "      <th></th>\n",
       "      <th></th>\n",
       "      <th></th>\n",
       "      <th></th>\n",
       "      <th></th>\n",
       "      <th></th>\n",
       "      <th></th>\n",
       "      <th></th>\n",
       "      <th></th>\n",
       "      <th></th>\n",
       "      <th></th>\n",
       "      <th></th>\n",
       "      <th></th>\n",
       "      <th></th>\n",
       "      <th></th>\n",
       "      <th></th>\n",
       "      <th></th>\n",
       "    </tr>\n",
       "  </thead>\n",
       "  <tbody>\n",
       "    <tr>\n",
       "      <th>A1BG</th>\n",
       "      <td>0.0</td>\n",
       "      <td>0.0</td>\n",
       "      <td>0.0</td>\n",
       "      <td>0.0</td>\n",
       "      <td>1.0</td>\n",
       "      <td>0.0</td>\n",
       "      <td>0.0</td>\n",
       "      <td>0.0</td>\n",
       "      <td>0.0</td>\n",
       "      <td>0.0</td>\n",
       "      <td>...</td>\n",
       "      <td>0.0</td>\n",
       "      <td>0.0</td>\n",
       "      <td>0.0</td>\n",
       "      <td>0.0</td>\n",
       "      <td>0.0</td>\n",
       "      <td>0.0</td>\n",
       "      <td>0.0</td>\n",
       "      <td>0.0</td>\n",
       "      <td>0.0</td>\n",
       "      <td>0.0</td>\n",
       "    </tr>\n",
       "    <tr>\n",
       "      <th>A1CF</th>\n",
       "      <td>0.0</td>\n",
       "      <td>0.0</td>\n",
       "      <td>1.0</td>\n",
       "      <td>1.0</td>\n",
       "      <td>0.0</td>\n",
       "      <td>0.0</td>\n",
       "      <td>0.0</td>\n",
       "      <td>0.0</td>\n",
       "      <td>-1.0</td>\n",
       "      <td>0.0</td>\n",
       "      <td>...</td>\n",
       "      <td>0.0</td>\n",
       "      <td>0.0</td>\n",
       "      <td>0.0</td>\n",
       "      <td>0.0</td>\n",
       "      <td>0.0</td>\n",
       "      <td>0.0</td>\n",
       "      <td>0.0</td>\n",
       "      <td>0.0</td>\n",
       "      <td>0.0</td>\n",
       "      <td>0.0</td>\n",
       "    </tr>\n",
       "    <tr>\n",
       "      <th>A2M</th>\n",
       "      <td>0.0</td>\n",
       "      <td>0.0</td>\n",
       "      <td>0.0</td>\n",
       "      <td>0.0</td>\n",
       "      <td>0.0</td>\n",
       "      <td>0.0</td>\n",
       "      <td>0.0</td>\n",
       "      <td>1.0</td>\n",
       "      <td>0.0</td>\n",
       "      <td>0.0</td>\n",
       "      <td>...</td>\n",
       "      <td>-1.0</td>\n",
       "      <td>-1.0</td>\n",
       "      <td>-1.0</td>\n",
       "      <td>-1.0</td>\n",
       "      <td>-1.0</td>\n",
       "      <td>-1.0</td>\n",
       "      <td>-1.0</td>\n",
       "      <td>-1.0</td>\n",
       "      <td>-1.0</td>\n",
       "      <td>-1.0</td>\n",
       "    </tr>\n",
       "    <tr>\n",
       "      <th>A2M-AS1</th>\n",
       "      <td>-1.0</td>\n",
       "      <td>0.0</td>\n",
       "      <td>-1.0</td>\n",
       "      <td>0.0</td>\n",
       "      <td>-1.0</td>\n",
       "      <td>-1.0</td>\n",
       "      <td>-1.0</td>\n",
       "      <td>-1.0</td>\n",
       "      <td>0.0</td>\n",
       "      <td>0.0</td>\n",
       "      <td>...</td>\n",
       "      <td>1.0</td>\n",
       "      <td>1.0</td>\n",
       "      <td>1.0</td>\n",
       "      <td>1.0</td>\n",
       "      <td>1.0</td>\n",
       "      <td>1.0</td>\n",
       "      <td>1.0</td>\n",
       "      <td>1.0</td>\n",
       "      <td>1.0</td>\n",
       "      <td>1.0</td>\n",
       "    </tr>\n",
       "    <tr>\n",
       "      <th>A3GALT2</th>\n",
       "      <td>0.0</td>\n",
       "      <td>0.0</td>\n",
       "      <td>0.0</td>\n",
       "      <td>0.0</td>\n",
       "      <td>0.0</td>\n",
       "      <td>0.0</td>\n",
       "      <td>0.0</td>\n",
       "      <td>1.0</td>\n",
       "      <td>0.0</td>\n",
       "      <td>0.0</td>\n",
       "      <td>...</td>\n",
       "      <td>0.0</td>\n",
       "      <td>0.0</td>\n",
       "      <td>0.0</td>\n",
       "      <td>0.0</td>\n",
       "      <td>0.0</td>\n",
       "      <td>0.0</td>\n",
       "      <td>0.0</td>\n",
       "      <td>0.0</td>\n",
       "      <td>0.0</td>\n",
       "      <td>0.0</td>\n",
       "    </tr>\n",
       "  </tbody>\n",
       "</table>\n",
       "<p>5 rows × 6384 columns</p>\n",
       "</div>"
      ],
      "text/plain": [
       "         Abnormalities, Drug-Induced  Anemia, Hemolytic  Asthenozoospermia  \\\n",
       "index                                                                        \n",
       "A1BG                             0.0                0.0                0.0   \n",
       "A1CF                             0.0                0.0                1.0   \n",
       "A2M                              0.0                0.0                0.0   \n",
       "A2M-AS1                         -1.0                0.0               -1.0   \n",
       "A3GALT2                          0.0                0.0                0.0   \n",
       "\n",
       "         Birth Weight  Breast Neoplasms  Cell Transformation, Neoplastic  \\\n",
       "index                                                                      \n",
       "A1BG              0.0               1.0                              0.0   \n",
       "A1CF              1.0               0.0                              0.0   \n",
       "A2M               0.0               0.0                              0.0   \n",
       "A2M-AS1           0.0              -1.0                             -1.0   \n",
       "A3GALT2           0.0               0.0                              0.0   \n",
       "\n",
       "         Chromosome Aberrations  Death  Disorders of Sex Development  \\\n",
       "index                                                                  \n",
       "A1BG                        0.0    0.0                           0.0   \n",
       "A1CF                        0.0    0.0                          -1.0   \n",
       "A2M                         0.0    1.0                           0.0   \n",
       "A2M-AS1                    -1.0   -1.0                           0.0   \n",
       "A3GALT2                     0.0    1.0                           0.0   \n",
       "\n",
       "         Fetal Death               ...                 Holoprosencephaly 5  \\\n",
       "index                              ...                                       \n",
       "A1BG             0.0               ...                                 0.0   \n",
       "A1CF             0.0               ...                                 0.0   \n",
       "A2M              0.0               ...                                -1.0   \n",
       "A2M-AS1          0.0               ...                                 1.0   \n",
       "A3GALT2          0.0               ...                                 0.0   \n",
       "\n",
       "         Heterotaxy, visceral, X-linked  Acro-Osteolysis  \\\n",
       "index                                                      \n",
       "A1BG                                0.0              0.0   \n",
       "A1CF                                0.0              0.0   \n",
       "A2M                                -1.0             -1.0   \n",
       "A2M-AS1                             1.0              1.0   \n",
       "A3GALT2                             0.0              0.0   \n",
       "\n",
       "         Mandibuloacral dysplasia with type B lipodystrophy  \\\n",
       "index                                                         \n",
       "A1BG                                                   0.0    \n",
       "A1CF                                                   0.0    \n",
       "A2M                                                   -1.0    \n",
       "A2M-AS1                                                1.0    \n",
       "A3GALT2                                                0.0    \n",
       "\n",
       "         NEPHROLITHIASIS, URIC ACID, SUSCEPTIBILITY TO  \\\n",
       "index                                                    \n",
       "A1BG                                               0.0   \n",
       "A1CF                                               0.0   \n",
       "A2M                                               -1.0   \n",
       "A2M-AS1                                            1.0   \n",
       "A3GALT2                                            0.0   \n",
       "\n",
       "         Brittle cornea syndrome 1  RETINITIS PIGMENTOSA 58  \\\n",
       "index                                                         \n",
       "A1BG                           0.0                      0.0   \n",
       "A1CF                           0.0                      0.0   \n",
       "A2M                           -1.0                     -1.0   \n",
       "A2M-AS1                        1.0                      1.0   \n",
       "A3GALT2                        0.0                      0.0   \n",
       "\n",
       "         Spinocerebellar ataxia, autosomal recessive 5  \\\n",
       "index                                                    \n",
       "A1BG                                               0.0   \n",
       "A1CF                                               0.0   \n",
       "A2M                                               -1.0   \n",
       "A2M-AS1                                            1.0   \n",
       "A3GALT2                                            0.0   \n",
       "\n",
       "         Seborrhea-Like Dermatitis with Psoriasiform Elements  \\\n",
       "index                                                           \n",
       "A1BG                                                   0.0      \n",
       "A1CF                                                   0.0      \n",
       "A2M                                                   -1.0      \n",
       "A2M-AS1                                                1.0      \n",
       "A3GALT2                                                0.0      \n",
       "\n",
       "         Mental Retardation, X-Linked 45  \n",
       "index                                     \n",
       "A1BG                                 0.0  \n",
       "A1CF                                 0.0  \n",
       "A2M                                 -1.0  \n",
       "A2M-AS1                              1.0  \n",
       "A3GALT2                              0.0  \n",
       "\n",
       "[5 rows x 6384 columns]"
      ]
     },
     "execution_count": 33,
     "metadata": {},
     "output_type": "execute_result"
    }
   ],
   "source": [
    "tertiary_matrix.head()"
   ]
  },
  {
   "cell_type": "markdown",
   "metadata": {},
   "source": [
    "# Save Teriary Matrix"
   ]
  },
  {
   "cell_type": "code",
   "execution_count": 34,
   "metadata": {
    "collapsed": true
   },
   "outputs": [],
   "source": [
    "filename = '~/./Documents/Harmonizome/CTD/Output/ctd_disease_tertiary_matrix_%s.tsv.zip'% str(datetime.date.today())[0:7].replace('-', '_')\n",
    "tertiary_matrix.to_csv(filename, sep='\\t', compression='gzip')"
   ]
  },
  {
   "cell_type": "markdown",
   "metadata": {},
   "source": [
    "### Path to output files"
   ]
  },
  {
   "cell_type": "code",
   "execution_count": 35,
   "metadata": {
    "collapsed": true
   },
   "outputs": [],
   "source": [
    "path = '/Users/moshesilverstein/Documents/Harmonizome/CTD/Output/'"
   ]
  },
  {
   "cell_type": "markdown",
   "metadata": {},
   "source": [
    "# Create Up Gene Set Library"
   ]
  },
  {
   "cell_type": "code",
   "execution_count": 36,
   "metadata": {
    "collapsed": true
   },
   "outputs": [],
   "source": [
    "name = 'ctd_disease_gene_up_set'"
   ]
  },
  {
   "cell_type": "code",
   "execution_count": 37,
   "metadata": {},
   "outputs": [
    {
     "name": "stdout",
     "output_type": "stream",
     "text": [
      "Progeres: 100%  6384 Out of 6384   \r"
     ]
    }
   ],
   "source": [
    "uf.createUpGeneSetLib(tertiary_matrix, path, name)"
   ]
  },
  {
   "cell_type": "markdown",
   "metadata": {},
   "source": [
    "# Create Down Gene Set Library"
   ]
  },
  {
   "cell_type": "code",
   "execution_count": 38,
   "metadata": {
    "collapsed": true
   },
   "outputs": [],
   "source": [
    "name = 'ctd_disease_gene_down_set'"
   ]
  },
  {
   "cell_type": "code",
   "execution_count": 39,
   "metadata": {},
   "outputs": [
    {
     "name": "stdout",
     "output_type": "stream",
     "text": [
      "Progeres: 100%  6384 Out of 6384   \r"
     ]
    }
   ],
   "source": [
    "uf.createDownGeneSetLib(tertiary_matrix, path, name)"
   ]
  },
  {
   "cell_type": "markdown",
   "metadata": {},
   "source": [
    "# Create Up Attribute Library"
   ]
  },
  {
   "cell_type": "code",
   "execution_count": 40,
   "metadata": {
    "collapsed": true
   },
   "outputs": [],
   "source": [
    "name = 'ctd_disease_attribute_up_set'"
   ]
  },
  {
   "cell_type": "code",
   "execution_count": 41,
   "metadata": {},
   "outputs": [
    {
     "name": "stdout",
     "output_type": "stream",
     "text": [
      "Progeres: 100%  17487 Out of 17487   \r"
     ]
    }
   ],
   "source": [
    "uf.createUpAttributeSetLib(tertiary_matrix, path, name)"
   ]
  },
  {
   "cell_type": "markdown",
   "metadata": {},
   "source": [
    "# Create Down Attribute Library"
   ]
  },
  {
   "cell_type": "code",
   "execution_count": 42,
   "metadata": {
    "collapsed": true
   },
   "outputs": [],
   "source": [
    "name = 'ctd_disease_attribute_down_set'"
   ]
  },
  {
   "cell_type": "code",
   "execution_count": 43,
   "metadata": {},
   "outputs": [
    {
     "name": "stdout",
     "output_type": "stream",
     "text": [
      "Progeres: 100%  17487 Out of 17487   \r"
     ]
    }
   ],
   "source": [
    "uf.createDownAttributeSetLib(tertiary_matrix, path, name)"
   ]
  },
  {
   "cell_type": "markdown",
   "metadata": {},
   "source": [
    "# Create Gene Similarity Matrix"
   ]
  },
  {
   "cell_type": "code",
   "execution_count": 44,
   "metadata": {
    "collapsed": true
   },
   "outputs": [],
   "source": [
    "gene_similarity_matix = uf.createSimilarityMatrix(normalized_matrix, 'cosine')"
   ]
  },
  {
   "cell_type": "code",
   "execution_count": 45,
   "metadata": {},
   "outputs": [
    {
     "data": {
      "text/html": [
       "<div>\n",
       "<table border=\"1\" class=\"dataframe\">\n",
       "  <thead>\n",
       "    <tr style=\"text-align: right;\">\n",
       "      <th>index</th>\n",
       "      <th>A1BG</th>\n",
       "      <th>A1CF</th>\n",
       "      <th>A2M</th>\n",
       "      <th>A2M-AS1</th>\n",
       "      <th>A3GALT2</th>\n",
       "      <th>A4GALT</th>\n",
       "      <th>AAAS</th>\n",
       "      <th>AACS</th>\n",
       "      <th>AACSP1</th>\n",
       "      <th>AADAC</th>\n",
       "      <th>...</th>\n",
       "      <th>ZWILCH</th>\n",
       "      <th>ZWINT</th>\n",
       "      <th>ZXDA</th>\n",
       "      <th>ZXDB</th>\n",
       "      <th>ZXDC</th>\n",
       "      <th>ZYG11A</th>\n",
       "      <th>ZYG11B</th>\n",
       "      <th>ZYX</th>\n",
       "      <th>ZZEF1</th>\n",
       "      <th>ZZZ3</th>\n",
       "    </tr>\n",
       "    <tr>\n",
       "      <th>index</th>\n",
       "      <th></th>\n",
       "      <th></th>\n",
       "      <th></th>\n",
       "      <th></th>\n",
       "      <th></th>\n",
       "      <th></th>\n",
       "      <th></th>\n",
       "      <th></th>\n",
       "      <th></th>\n",
       "      <th></th>\n",
       "      <th></th>\n",
       "      <th></th>\n",
       "      <th></th>\n",
       "      <th></th>\n",
       "      <th></th>\n",
       "      <th></th>\n",
       "      <th></th>\n",
       "      <th></th>\n",
       "      <th></th>\n",
       "      <th></th>\n",
       "      <th></th>\n",
       "    </tr>\n",
       "  </thead>\n",
       "  <tbody>\n",
       "    <tr>\n",
       "      <th>A1BG</th>\n",
       "      <td>1.000000</td>\n",
       "      <td>0.303973</td>\n",
       "      <td>0.405447</td>\n",
       "      <td>0.140594</td>\n",
       "      <td>0.132618</td>\n",
       "      <td>0.227267</td>\n",
       "      <td>0.137874</td>\n",
       "      <td>0.299021</td>\n",
       "      <td>0.141617</td>\n",
       "      <td>0.186324</td>\n",
       "      <td>...</td>\n",
       "      <td>0.359023</td>\n",
       "      <td>0.325918</td>\n",
       "      <td>0.171836</td>\n",
       "      <td>0.363655</td>\n",
       "      <td>0.237697</td>\n",
       "      <td>0.355295</td>\n",
       "      <td>0.267483</td>\n",
       "      <td>0.392003</td>\n",
       "      <td>0.126710</td>\n",
       "      <td>0.273335</td>\n",
       "    </tr>\n",
       "    <tr>\n",
       "      <th>A1CF</th>\n",
       "      <td>0.303973</td>\n",
       "      <td>1.000000</td>\n",
       "      <td>0.295564</td>\n",
       "      <td>0.283639</td>\n",
       "      <td>0.154755</td>\n",
       "      <td>0.213928</td>\n",
       "      <td>0.309417</td>\n",
       "      <td>0.314987</td>\n",
       "      <td>0.238739</td>\n",
       "      <td>0.150622</td>\n",
       "      <td>...</td>\n",
       "      <td>0.437671</td>\n",
       "      <td>0.319257</td>\n",
       "      <td>0.193353</td>\n",
       "      <td>0.462223</td>\n",
       "      <td>0.369293</td>\n",
       "      <td>0.245345</td>\n",
       "      <td>0.394386</td>\n",
       "      <td>0.272106</td>\n",
       "      <td>0.175142</td>\n",
       "      <td>0.604391</td>\n",
       "    </tr>\n",
       "    <tr>\n",
       "      <th>A2M</th>\n",
       "      <td>0.405447</td>\n",
       "      <td>0.295564</td>\n",
       "      <td>1.000000</td>\n",
       "      <td>0.076626</td>\n",
       "      <td>0.149243</td>\n",
       "      <td>0.256886</td>\n",
       "      <td>0.178016</td>\n",
       "      <td>0.361912</td>\n",
       "      <td>0.090567</td>\n",
       "      <td>0.378523</td>\n",
       "      <td>...</td>\n",
       "      <td>0.375282</td>\n",
       "      <td>0.448516</td>\n",
       "      <td>0.230601</td>\n",
       "      <td>0.288869</td>\n",
       "      <td>0.285571</td>\n",
       "      <td>0.144676</td>\n",
       "      <td>0.275111</td>\n",
       "      <td>0.375308</td>\n",
       "      <td>0.192809</td>\n",
       "      <td>0.316976</td>\n",
       "    </tr>\n",
       "    <tr>\n",
       "      <th>A2M-AS1</th>\n",
       "      <td>0.140594</td>\n",
       "      <td>0.283639</td>\n",
       "      <td>0.076626</td>\n",
       "      <td>1.000000</td>\n",
       "      <td>0.006044</td>\n",
       "      <td>-0.001937</td>\n",
       "      <td>0.224010</td>\n",
       "      <td>0.151300</td>\n",
       "      <td>0.750167</td>\n",
       "      <td>0.021788</td>\n",
       "      <td>...</td>\n",
       "      <td>0.013759</td>\n",
       "      <td>0.085589</td>\n",
       "      <td>0.008365</td>\n",
       "      <td>0.504058</td>\n",
       "      <td>0.327750</td>\n",
       "      <td>0.446301</td>\n",
       "      <td>0.318665</td>\n",
       "      <td>0.121786</td>\n",
       "      <td>0.286560</td>\n",
       "      <td>0.334152</td>\n",
       "    </tr>\n",
       "    <tr>\n",
       "      <th>A3GALT2</th>\n",
       "      <td>0.132618</td>\n",
       "      <td>0.154755</td>\n",
       "      <td>0.149243</td>\n",
       "      <td>0.006044</td>\n",
       "      <td>1.000000</td>\n",
       "      <td>0.225919</td>\n",
       "      <td>0.140613</td>\n",
       "      <td>0.141722</td>\n",
       "      <td>0.008183</td>\n",
       "      <td>0.175945</td>\n",
       "      <td>...</td>\n",
       "      <td>0.191548</td>\n",
       "      <td>0.216885</td>\n",
       "      <td>0.174059</td>\n",
       "      <td>0.180315</td>\n",
       "      <td>0.235605</td>\n",
       "      <td>0.052169</td>\n",
       "      <td>0.317074</td>\n",
       "      <td>0.224724</td>\n",
       "      <td>0.137546</td>\n",
       "      <td>0.310726</td>\n",
       "    </tr>\n",
       "  </tbody>\n",
       "</table>\n",
       "<p>5 rows × 17487 columns</p>\n",
       "</div>"
      ],
      "text/plain": [
       "index        A1BG      A1CF       A2M   A2M-AS1   A3GALT2    A4GALT      AAAS  \\\n",
       "index                                                                           \n",
       "A1BG     1.000000  0.303973  0.405447  0.140594  0.132618  0.227267  0.137874   \n",
       "A1CF     0.303973  1.000000  0.295564  0.283639  0.154755  0.213928  0.309417   \n",
       "A2M      0.405447  0.295564  1.000000  0.076626  0.149243  0.256886  0.178016   \n",
       "A2M-AS1  0.140594  0.283639  0.076626  1.000000  0.006044 -0.001937  0.224010   \n",
       "A3GALT2  0.132618  0.154755  0.149243  0.006044  1.000000  0.225919  0.140613   \n",
       "\n",
       "index        AACS    AACSP1     AADAC    ...       ZWILCH     ZWINT      ZXDA  \\\n",
       "index                                    ...                                    \n",
       "A1BG     0.299021  0.141617  0.186324    ...     0.359023  0.325918  0.171836   \n",
       "A1CF     0.314987  0.238739  0.150622    ...     0.437671  0.319257  0.193353   \n",
       "A2M      0.361912  0.090567  0.378523    ...     0.375282  0.448516  0.230601   \n",
       "A2M-AS1  0.151300  0.750167  0.021788    ...     0.013759  0.085589  0.008365   \n",
       "A3GALT2  0.141722  0.008183  0.175945    ...     0.191548  0.216885  0.174059   \n",
       "\n",
       "index        ZXDB      ZXDC    ZYG11A    ZYG11B       ZYX     ZZEF1      ZZZ3  \n",
       "index                                                                          \n",
       "A1BG     0.363655  0.237697  0.355295  0.267483  0.392003  0.126710  0.273335  \n",
       "A1CF     0.462223  0.369293  0.245345  0.394386  0.272106  0.175142  0.604391  \n",
       "A2M      0.288869  0.285571  0.144676  0.275111  0.375308  0.192809  0.316976  \n",
       "A2M-AS1  0.504058  0.327750  0.446301  0.318665  0.121786  0.286560  0.334152  \n",
       "A3GALT2  0.180315  0.235605  0.052169  0.317074  0.224724  0.137546  0.310726  \n",
       "\n",
       "[5 rows x 17487 columns]"
      ]
     },
     "execution_count": 45,
     "metadata": {},
     "output_type": "execute_result"
    }
   ],
   "source": [
    "gene_similarity_matix.head()"
   ]
  },
  {
   "cell_type": "markdown",
   "metadata": {},
   "source": [
    "# Save Gene Similarity Matrix"
   ]
  },
  {
   "cell_type": "code",
   "execution_count": 46,
   "metadata": {
    "collapsed": true
   },
   "outputs": [],
   "source": [
    "filename = '~/./Documents/Harmonizome/CTD/Output/ctd_disease_gene_similarity_matix_%s.tsv.zip'% str(datetime.date.today())[0:7].replace('-', '_')\n",
    "gene_similarity_matix.to_csv(filename, sep='\\t', compression='gzip')"
   ]
  },
  {
   "cell_type": "markdown",
   "metadata": {},
   "source": [
    "# Create Attribute Similarity matrix"
   ]
  },
  {
   "cell_type": "code",
   "execution_count": 47,
   "metadata": {
    "collapsed": true
   },
   "outputs": [],
   "source": [
    "attribute_similarity_matix = uf.createSimilarityMatrix(normalized_matrix.T, 'cosine')"
   ]
  },
  {
   "cell_type": "code",
   "execution_count": 48,
   "metadata": {},
   "outputs": [
    {
     "data": {
      "text/html": [
       "<div>\n",
       "<table border=\"1\" class=\"dataframe\">\n",
       "  <thead>\n",
       "    <tr style=\"text-align: right;\">\n",
       "      <th></th>\n",
       "      <th>Abnormalities, Drug-Induced</th>\n",
       "      <th>Anemia, Hemolytic</th>\n",
       "      <th>Asthenozoospermia</th>\n",
       "      <th>Birth Weight</th>\n",
       "      <th>Breast Neoplasms</th>\n",
       "      <th>Cell Transformation, Neoplastic</th>\n",
       "      <th>Chromosome Aberrations</th>\n",
       "      <th>Death</th>\n",
       "      <th>Disorders of Sex Development</th>\n",
       "      <th>Fetal Death</th>\n",
       "      <th>...</th>\n",
       "      <th>Holoprosencephaly 5</th>\n",
       "      <th>Heterotaxy, visceral, X-linked</th>\n",
       "      <th>Acro-Osteolysis</th>\n",
       "      <th>Mandibuloacral dysplasia with type B lipodystrophy</th>\n",
       "      <th>NEPHROLITHIASIS, URIC ACID, SUSCEPTIBILITY TO</th>\n",
       "      <th>Brittle cornea syndrome 1</th>\n",
       "      <th>RETINITIS PIGMENTOSA 58</th>\n",
       "      <th>Spinocerebellar ataxia, autosomal recessive 5</th>\n",
       "      <th>Seborrhea-Like Dermatitis with Psoriasiform Elements</th>\n",
       "      <th>Mental Retardation, X-Linked 45</th>\n",
       "    </tr>\n",
       "  </thead>\n",
       "  <tbody>\n",
       "    <tr>\n",
       "      <th>Abnormalities, Drug-Induced</th>\n",
       "      <td>1.000000</td>\n",
       "      <td>0.745876</td>\n",
       "      <td>0.693462</td>\n",
       "      <td>0.661546</td>\n",
       "      <td>0.800474</td>\n",
       "      <td>0.746678</td>\n",
       "      <td>0.685537</td>\n",
       "      <td>0.682753</td>\n",
       "      <td>0.716713</td>\n",
       "      <td>0.783375</td>\n",
       "      <td>...</td>\n",
       "      <td>-0.850061</td>\n",
       "      <td>-0.850061</td>\n",
       "      <td>-0.850061</td>\n",
       "      <td>-0.850061</td>\n",
       "      <td>-0.850061</td>\n",
       "      <td>-0.850061</td>\n",
       "      <td>-0.850061</td>\n",
       "      <td>-0.850061</td>\n",
       "      <td>-0.850061</td>\n",
       "      <td>-0.850061</td>\n",
       "    </tr>\n",
       "    <tr>\n",
       "      <th>Anemia, Hemolytic</th>\n",
       "      <td>0.745876</td>\n",
       "      <td>1.000000</td>\n",
       "      <td>0.618697</td>\n",
       "      <td>0.586727</td>\n",
       "      <td>0.726738</td>\n",
       "      <td>0.715302</td>\n",
       "      <td>0.638423</td>\n",
       "      <td>0.579657</td>\n",
       "      <td>0.555692</td>\n",
       "      <td>0.683310</td>\n",
       "      <td>...</td>\n",
       "      <td>-0.839089</td>\n",
       "      <td>-0.839089</td>\n",
       "      <td>-0.839089</td>\n",
       "      <td>-0.839089</td>\n",
       "      <td>-0.839089</td>\n",
       "      <td>-0.839089</td>\n",
       "      <td>-0.839089</td>\n",
       "      <td>-0.839089</td>\n",
       "      <td>-0.839089</td>\n",
       "      <td>-0.839089</td>\n",
       "    </tr>\n",
       "    <tr>\n",
       "      <th>Asthenozoospermia</th>\n",
       "      <td>0.693462</td>\n",
       "      <td>0.618697</td>\n",
       "      <td>1.000000</td>\n",
       "      <td>0.670824</td>\n",
       "      <td>0.712306</td>\n",
       "      <td>0.719125</td>\n",
       "      <td>0.685338</td>\n",
       "      <td>0.704195</td>\n",
       "      <td>0.611774</td>\n",
       "      <td>0.610687</td>\n",
       "      <td>...</td>\n",
       "      <td>-0.721450</td>\n",
       "      <td>-0.721450</td>\n",
       "      <td>-0.721450</td>\n",
       "      <td>-0.721450</td>\n",
       "      <td>-0.721450</td>\n",
       "      <td>-0.721450</td>\n",
       "      <td>-0.721450</td>\n",
       "      <td>-0.721450</td>\n",
       "      <td>-0.721450</td>\n",
       "      <td>-0.721450</td>\n",
       "    </tr>\n",
       "    <tr>\n",
       "      <th>Birth Weight</th>\n",
       "      <td>0.661546</td>\n",
       "      <td>0.586727</td>\n",
       "      <td>0.670824</td>\n",
       "      <td>1.000000</td>\n",
       "      <td>0.714458</td>\n",
       "      <td>0.706858</td>\n",
       "      <td>0.697926</td>\n",
       "      <td>0.732583</td>\n",
       "      <td>0.554150</td>\n",
       "      <td>0.630613</td>\n",
       "      <td>...</td>\n",
       "      <td>-0.712413</td>\n",
       "      <td>-0.712413</td>\n",
       "      <td>-0.712413</td>\n",
       "      <td>-0.712413</td>\n",
       "      <td>-0.712413</td>\n",
       "      <td>-0.712413</td>\n",
       "      <td>-0.712413</td>\n",
       "      <td>-0.712413</td>\n",
       "      <td>-0.712413</td>\n",
       "      <td>-0.712413</td>\n",
       "    </tr>\n",
       "    <tr>\n",
       "      <th>Breast Neoplasms</th>\n",
       "      <td>0.800474</td>\n",
       "      <td>0.726738</td>\n",
       "      <td>0.712306</td>\n",
       "      <td>0.714458</td>\n",
       "      <td>1.000000</td>\n",
       "      <td>0.832835</td>\n",
       "      <td>0.794939</td>\n",
       "      <td>0.705437</td>\n",
       "      <td>0.675439</td>\n",
       "      <td>0.726861</td>\n",
       "      <td>...</td>\n",
       "      <td>-0.855785</td>\n",
       "      <td>-0.855785</td>\n",
       "      <td>-0.855785</td>\n",
       "      <td>-0.855785</td>\n",
       "      <td>-0.855785</td>\n",
       "      <td>-0.855785</td>\n",
       "      <td>-0.855785</td>\n",
       "      <td>-0.855785</td>\n",
       "      <td>-0.855785</td>\n",
       "      <td>-0.855785</td>\n",
       "    </tr>\n",
       "  </tbody>\n",
       "</table>\n",
       "<p>5 rows × 6384 columns</p>\n",
       "</div>"
      ],
      "text/plain": [
       "                             Abnormalities, Drug-Induced  Anemia, Hemolytic  \\\n",
       "Abnormalities, Drug-Induced                     1.000000           0.745876   \n",
       "Anemia, Hemolytic                               0.745876           1.000000   \n",
       "Asthenozoospermia                               0.693462           0.618697   \n",
       "Birth Weight                                    0.661546           0.586727   \n",
       "Breast Neoplasms                                0.800474           0.726738   \n",
       "\n",
       "                             Asthenozoospermia  Birth Weight  \\\n",
       "Abnormalities, Drug-Induced           0.693462      0.661546   \n",
       "Anemia, Hemolytic                     0.618697      0.586727   \n",
       "Asthenozoospermia                     1.000000      0.670824   \n",
       "Birth Weight                          0.670824      1.000000   \n",
       "Breast Neoplasms                      0.712306      0.714458   \n",
       "\n",
       "                             Breast Neoplasms  \\\n",
       "Abnormalities, Drug-Induced          0.800474   \n",
       "Anemia, Hemolytic                    0.726738   \n",
       "Asthenozoospermia                    0.712306   \n",
       "Birth Weight                         0.714458   \n",
       "Breast Neoplasms                     1.000000   \n",
       "\n",
       "                             Cell Transformation, Neoplastic  \\\n",
       "Abnormalities, Drug-Induced                         0.746678   \n",
       "Anemia, Hemolytic                                   0.715302   \n",
       "Asthenozoospermia                                   0.719125   \n",
       "Birth Weight                                        0.706858   \n",
       "Breast Neoplasms                                    0.832835   \n",
       "\n",
       "                             Chromosome Aberrations     Death  \\\n",
       "Abnormalities, Drug-Induced                0.685537  0.682753   \n",
       "Anemia, Hemolytic                          0.638423  0.579657   \n",
       "Asthenozoospermia                          0.685338  0.704195   \n",
       "Birth Weight                               0.697926  0.732583   \n",
       "Breast Neoplasms                           0.794939  0.705437   \n",
       "\n",
       "                             Disorders of Sex Development  Fetal Death  \\\n",
       "Abnormalities, Drug-Induced                      0.716713     0.783375   \n",
       "Anemia, Hemolytic                                0.555692     0.683310   \n",
       "Asthenozoospermia                                0.611774     0.610687   \n",
       "Birth Weight                                     0.554150     0.630613   \n",
       "Breast Neoplasms                                 0.675439     0.726861   \n",
       "\n",
       "                                          ...                 \\\n",
       "Abnormalities, Drug-Induced               ...                  \n",
       "Anemia, Hemolytic                         ...                  \n",
       "Asthenozoospermia                         ...                  \n",
       "Birth Weight                              ...                  \n",
       "Breast Neoplasms                          ...                  \n",
       "\n",
       "                             Holoprosencephaly 5  \\\n",
       "Abnormalities, Drug-Induced            -0.850061   \n",
       "Anemia, Hemolytic                      -0.839089   \n",
       "Asthenozoospermia                      -0.721450   \n",
       "Birth Weight                           -0.712413   \n",
       "Breast Neoplasms                       -0.855785   \n",
       "\n",
       "                             Heterotaxy, visceral, X-linked  Acro-Osteolysis  \\\n",
       "Abnormalities, Drug-Induced                       -0.850061        -0.850061   \n",
       "Anemia, Hemolytic                                 -0.839089        -0.839089   \n",
       "Asthenozoospermia                                 -0.721450        -0.721450   \n",
       "Birth Weight                                      -0.712413        -0.712413   \n",
       "Breast Neoplasms                                  -0.855785        -0.855785   \n",
       "\n",
       "                             Mandibuloacral dysplasia with type B lipodystrophy  \\\n",
       "Abnormalities, Drug-Induced                                          -0.850061    \n",
       "Anemia, Hemolytic                                                    -0.839089    \n",
       "Asthenozoospermia                                                    -0.721450    \n",
       "Birth Weight                                                         -0.712413    \n",
       "Breast Neoplasms                                                     -0.855785    \n",
       "\n",
       "                             NEPHROLITHIASIS, URIC ACID, SUSCEPTIBILITY TO  \\\n",
       "Abnormalities, Drug-Induced                                      -0.850061   \n",
       "Anemia, Hemolytic                                                -0.839089   \n",
       "Asthenozoospermia                                                -0.721450   \n",
       "Birth Weight                                                     -0.712413   \n",
       "Breast Neoplasms                                                 -0.855785   \n",
       "\n",
       "                             Brittle cornea syndrome 1  \\\n",
       "Abnormalities, Drug-Induced                  -0.850061   \n",
       "Anemia, Hemolytic                            -0.839089   \n",
       "Asthenozoospermia                            -0.721450   \n",
       "Birth Weight                                 -0.712413   \n",
       "Breast Neoplasms                             -0.855785   \n",
       "\n",
       "                             RETINITIS PIGMENTOSA 58  \\\n",
       "Abnormalities, Drug-Induced                -0.850061   \n",
       "Anemia, Hemolytic                          -0.839089   \n",
       "Asthenozoospermia                          -0.721450   \n",
       "Birth Weight                               -0.712413   \n",
       "Breast Neoplasms                           -0.855785   \n",
       "\n",
       "                             Spinocerebellar ataxia, autosomal recessive 5  \\\n",
       "Abnormalities, Drug-Induced                                      -0.850061   \n",
       "Anemia, Hemolytic                                                -0.839089   \n",
       "Asthenozoospermia                                                -0.721450   \n",
       "Birth Weight                                                     -0.712413   \n",
       "Breast Neoplasms                                                 -0.855785   \n",
       "\n",
       "                             Seborrhea-Like Dermatitis with Psoriasiform Elements  \\\n",
       "Abnormalities, Drug-Induced                                          -0.850061      \n",
       "Anemia, Hemolytic                                                    -0.839089      \n",
       "Asthenozoospermia                                                    -0.721450      \n",
       "Birth Weight                                                         -0.712413      \n",
       "Breast Neoplasms                                                     -0.855785      \n",
       "\n",
       "                             Mental Retardation, X-Linked 45  \n",
       "Abnormalities, Drug-Induced                        -0.850061  \n",
       "Anemia, Hemolytic                                  -0.839089  \n",
       "Asthenozoospermia                                  -0.721450  \n",
       "Birth Weight                                       -0.712413  \n",
       "Breast Neoplasms                                   -0.855785  \n",
       "\n",
       "[5 rows x 6384 columns]"
      ]
     },
     "execution_count": 48,
     "metadata": {},
     "output_type": "execute_result"
    }
   ],
   "source": [
    "attribute_similarity_matix.head()"
   ]
  },
  {
   "cell_type": "markdown",
   "metadata": {},
   "source": [
    "# Save Attribute Similarity Matrix"
   ]
  },
  {
   "cell_type": "code",
   "execution_count": 49,
   "metadata": {
    "collapsed": true
   },
   "outputs": [],
   "source": [
    "filename = '~/./Documents/Harmonizome/CTD/Output/ctd_disease_attribute_similarity_matix_%s.tsv.zip'% str(datetime.date.today())[0:7].replace('-', '_')\n",
    "attribute_similarity_matix.to_csv(filename, sep='\\t', compression='gzip')"
   ]
  },
  {
   "cell_type": "markdown",
   "metadata": {},
   "source": [
    "# Create Gene List"
   ]
  },
  {
   "cell_type": "code",
   "execution_count": 50,
   "metadata": {},
   "outputs": [
    {
     "name": "stdout",
     "output_type": "stream",
     "text": [
      "Progeres: 100%  17487 Out of 17487   \r"
     ]
    }
   ],
   "source": [
    "gene_list = uf.createGeneList(normalized_matrix)"
   ]
  },
  {
   "cell_type": "code",
   "execution_count": 51,
   "metadata": {},
   "outputs": [
    {
     "data": {
      "text/html": [
       "<div>\n",
       "<table border=\"1\" class=\"dataframe\">\n",
       "  <thead>\n",
       "    <tr style=\"text-align: right;\">\n",
       "      <th></th>\n",
       "      <th>GeneSym</th>\n",
       "      <th>GeneID</th>\n",
       "    </tr>\n",
       "  </thead>\n",
       "  <tbody>\n",
       "    <tr>\n",
       "      <th>0</th>\n",
       "      <td>A1BG</td>\n",
       "      <td>1</td>\n",
       "    </tr>\n",
       "    <tr>\n",
       "      <th>1</th>\n",
       "      <td>A1CF</td>\n",
       "      <td>29974</td>\n",
       "    </tr>\n",
       "    <tr>\n",
       "      <th>2</th>\n",
       "      <td>A2M</td>\n",
       "      <td>2</td>\n",
       "    </tr>\n",
       "    <tr>\n",
       "      <th>3</th>\n",
       "      <td>A2M-AS1</td>\n",
       "      <td>144571</td>\n",
       "    </tr>\n",
       "    <tr>\n",
       "      <th>4</th>\n",
       "      <td>A3GALT2</td>\n",
       "      <td>127550</td>\n",
       "    </tr>\n",
       "  </tbody>\n",
       "</table>\n",
       "</div>"
      ],
      "text/plain": [
       "   GeneSym  GeneID\n",
       "0     A1BG       1\n",
       "1     A1CF   29974\n",
       "2      A2M       2\n",
       "3  A2M-AS1  144571\n",
       "4  A3GALT2  127550"
      ]
     },
     "execution_count": 51,
     "metadata": {},
     "output_type": "execute_result"
    }
   ],
   "source": [
    "gene_list.head()"
   ]
  },
  {
   "cell_type": "code",
   "execution_count": 52,
   "metadata": {},
   "outputs": [
    {
     "data": {
      "text/plain": [
       "(17487, 2)"
      ]
     },
     "execution_count": 52,
     "metadata": {},
     "output_type": "execute_result"
    }
   ],
   "source": [
    "gene_list.shape"
   ]
  },
  {
   "cell_type": "markdown",
   "metadata": {},
   "source": [
    "# Save Gene List"
   ]
  },
  {
   "cell_type": "code",
   "execution_count": 53,
   "metadata": {
    "collapsed": true
   },
   "outputs": [],
   "source": [
    "filename = '~/./Documents/Harmonizome/CTD/Output/ctd_disease_gene_list_%s.tsv.zip'% str(datetime.date.today())[0:7].replace('-', '_')\n",
    "gene_list.to_csv(filename, sep='\\t', index=False, compression='gzip')"
   ]
  },
  {
   "cell_type": "markdown",
   "metadata": {},
   "source": [
    "# Create Attribute List"
   ]
  },
  {
   "cell_type": "code",
   "execution_count": 54,
   "metadata": {
    "collapsed": true
   },
   "outputs": [],
   "source": [
    "attribute_list = uf.createAttributeList(normalized_matrix)"
   ]
  },
  {
   "cell_type": "code",
   "execution_count": 55,
   "metadata": {},
   "outputs": [
    {
     "data": {
      "text/html": [
       "<div>\n",
       "<table border=\"1\" class=\"dataframe\">\n",
       "  <thead>\n",
       "    <tr style=\"text-align: right;\">\n",
       "      <th></th>\n",
       "      <th>Attributes</th>\n",
       "    </tr>\n",
       "  </thead>\n",
       "  <tbody>\n",
       "    <tr>\n",
       "      <th>0</th>\n",
       "      <td>Abnormalities, Drug-Induced</td>\n",
       "    </tr>\n",
       "    <tr>\n",
       "      <th>1</th>\n",
       "      <td>Anemia, Hemolytic</td>\n",
       "    </tr>\n",
       "    <tr>\n",
       "      <th>2</th>\n",
       "      <td>Asthenozoospermia</td>\n",
       "    </tr>\n",
       "    <tr>\n",
       "      <th>3</th>\n",
       "      <td>Birth Weight</td>\n",
       "    </tr>\n",
       "    <tr>\n",
       "      <th>4</th>\n",
       "      <td>Breast Neoplasms</td>\n",
       "    </tr>\n",
       "  </tbody>\n",
       "</table>\n",
       "</div>"
      ],
      "text/plain": [
       "                    Attributes\n",
       "0  Abnormalities, Drug-Induced\n",
       "1            Anemia, Hemolytic\n",
       "2            Asthenozoospermia\n",
       "3                 Birth Weight\n",
       "4             Breast Neoplasms"
      ]
     },
     "execution_count": 55,
     "metadata": {},
     "output_type": "execute_result"
    }
   ],
   "source": [
    "attribute_list.head()"
   ]
  },
  {
   "cell_type": "code",
   "execution_count": 56,
   "metadata": {},
   "outputs": [
    {
     "data": {
      "text/plain": [
       "(6384, 1)"
      ]
     },
     "execution_count": 56,
     "metadata": {},
     "output_type": "execute_result"
    }
   ],
   "source": [
    "attribute_list.shape"
   ]
  },
  {
   "cell_type": "markdown",
   "metadata": {},
   "source": [
    "# Save Attribute List"
   ]
  },
  {
   "cell_type": "code",
   "execution_count": 57,
   "metadata": {
    "collapsed": true
   },
   "outputs": [],
   "source": [
    "filename = '~/./Documents/Harmonizome/CTD/Output/ctd_disease_attribute_list_%s.tsv.zip'% str(datetime.date.today())[0:7].replace('-', '_')\n",
    "attribute_list.to_csv(filename, sep='\\t', index=False, compression='gzip')"
   ]
  },
  {
   "cell_type": "markdown",
   "metadata": {},
   "source": [
    "# Create Gene-Attribute Edge List"
   ]
  },
  {
   "cell_type": "code",
   "execution_count": 61,
   "metadata": {
    "collapsed": true
   },
   "outputs": [],
   "source": [
    "path = '/Users/moshesilverstein/Documents/Harmonizome/CTD/Output/'"
   ]
  },
  {
   "cell_type": "code",
   "execution_count": 62,
   "metadata": {
    "collapsed": true
   },
   "outputs": [],
   "source": [
    "name = 'ctd_disease_gene_attribute_edge_list'"
   ]
  },
  {
   "cell_type": "code",
   "execution_count": 63,
   "metadata": {},
   "outputs": [
    {
     "name": "stdout",
     "output_type": "stream",
     "text": [
      "Progeres: 100%  6384 Out of 6384   \n",
      "\n",
      " The number of statisticaly relevent gene-attribute associations is: 22325153\n"
     ]
    }
   ],
   "source": [
    "uf.createGeneAttributeEdgeList(tertiary_matrix, gene_list, path, name)"
   ]
  }
 ],
 "metadata": {
  "kernelspec": {
   "display_name": "Python [default]",
   "language": "python",
   "name": "python3"
  },
  "language_info": {
   "codemirror_mode": {
    "name": "ipython",
    "version": 3
   },
   "file_extension": ".py",
   "mimetype": "text/x-python",
   "name": "python",
   "nbconvert_exporter": "python",
   "pygments_lexer": "ipython3",
   "version": "3.5.2"
  }
 },
 "nbformat": 4,
 "nbformat_minor": 2
}
