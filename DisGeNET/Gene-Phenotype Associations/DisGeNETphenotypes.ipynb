{
 "cells": [
  {
   "cell_type": "markdown",
   "metadata": {},
   "source": [
    "# DisGeNET Gene-Phenotype Associations Harmonizome Processing\n",
    "The DisGeNET database was downloaded from DisGeNET. The gene-disease associations were then processed to map genes to up-to-date and approved symbols, and phenotypes to IDs. In total, 196,561 associations between 14,002 genes and 6,832 phenotypes,  were extracted."
   ]
  },
  {
   "cell_type": "code",
   "execution_count": null,
   "metadata": {},
   "outputs": [],
   "source": [
    "import pandas as pd\n",
    "import numpy as np\n",
    "import seaborn as sns\n",
    "import scipy.spatial.distance as dist\n",
    "import json\n",
    "from sklearn.feature_extraction.text import TfidfVectorizer\n",
    "import anndata\n",
    "import scanpy as sc\n",
    "import sqlite3\n",
    "from bokeh.io import output_file, output_notebook, export_svg, save\n",
    "from bokeh.io.export import get_screenshot_as_png\n",
    "from bokeh.plotting import figure, show\n",
    "from bokeh.models import HoverTool, ColumnDataSource\n",
    "from bokeh.palettes import Category20\n",
    "import sys\n",
    "sys.setrecursionlimit(100000)"
   ]
  },
  {
   "cell_type": "markdown",
   "metadata": {},
   "source": [
    "## Load Data"
   ]
  },
  {
   "cell_type": "code",
   "execution_count": null,
   "metadata": {},
   "outputs": [],
   "source": [
    "dir = 'newdata/DisGeNETpheno/'"
   ]
  },
  {
   "cell_type": "code",
   "execution_count": null,
   "metadata": {},
   "outputs": [],
   "source": [
    "db = sqlite3.connect(dir+'disgenet_2020.db')\n",
    "cur = db.cursor()"
   ]
  },
  {
   "cell_type": "code",
   "execution_count": null,
   "metadata": {},
   "outputs": [],
   "source": [
    "# This SQL query collects all the associations in the DisGeNET gene-disease network where the attributes are of type phenotype.\n",
    "cur.execute(\n",
    "    '''SELECT geneDiseaseNetwork.diseaseNID, geneDiseaseNetwork.geneNID, geneDiseaseNetwork.score FROM diseaseAttributes \n",
    "    JOIN geneDiseaseNetwork\n",
    "    ON diseaseAttributes.diseaseNID = geneDiseaseNetwork.diseaseNID\n",
    "    WHERE type = 'phenotype';'''\n",
    ")\n",
    "\n",
    "columns = []\n",
    "\n",
    "for column in cur.description:\n",
    "    columns.append(column[0])\n",
    "\n",
    "disgenet = pd.DataFrame(cur.fetchall())\n",
    "disgenet.columns = columns\n",
    "disgenet = disgenet.reset_index(drop=True)\n",
    "\n",
    "display(disgenet)\n",
    "print(len(disgenet['diseaseNID'].unique()), 'phenotypes,', len(disgenet['geneNID'].unique()), 'genes')"
   ]
  },
  {
   "cell_type": "code",
   "execution_count": null,
   "metadata": {},
   "outputs": [],
   "source": [
    "cur.execute('SELECT geneNID,geneId,geneName,geneDescription FROM geneAttributes')\n",
    "\n",
    "columns = []\n",
    "\n",
    "for column in cur.description:\n",
    "    columns.append(column[0])\n",
    "\n",
    "disgenetgenes = pd.DataFrame(cur.fetchall())\n",
    "disgenetgenes.columns = columns\n",
    "disgenetgenes = disgenetgenes.set_index('geneNID')\n",
    "disgenetgenes['geneId'] = disgenetgenes['geneId'].apply(int)\n",
    "\n",
    "disgenetgenes"
   ]
  },
  {
   "cell_type": "code",
   "execution_count": null,
   "metadata": {},
   "outputs": [],
   "source": [
    "cur.execute('SELECT diseaseNID,diseaseId,diseaseName FROM diseaseAttributes WHERE type=\"phenotype\"')\n",
    "\n",
    "columns = []\n",
    "\n",
    "for column in cur.description:\n",
    "    columns.append(column[0])\n",
    "\n",
    "disgenetphenotypes = pd.DataFrame(cur.fetchall())\n",
    "disgenetphenotypes.columns = columns\n",
    "disgenetphenotypes = disgenetphenotypes.set_index('diseaseNID')\n",
    "\n",
    "disgenetphenotypes"
   ]
  },
  {
   "cell_type": "code",
   "execution_count": null,
   "metadata": {},
   "outputs": [],
   "source": [
    "disgenetmap = pd.read_csv('disGeNET_mapping.csv', header=None)\n",
    "disgenetmap.columns = ['NID', 'ID', 'Name', 'Group']\n",
    "\n",
    "NIDmap = disgenetmap.groupby('Group')['NID'].min().to_dict()\n",
    "disgenetmap = disgenetmap.set_index('NID')\n",
    "\n",
    "disgenetmap['GroupID'] = disgenetmap['Group'].apply(lambda x: disgenetmap.loc[NIDmap[x], 'ID'])\n",
    "disgenetmap = disgenetmap.get(['GroupID', 'Group']).rename_axis('diseaseNID', axis=0)\n",
    "disgenetmap.columns = ['diseaseId', 'diseaseName']\n",
    "disgenetmap"
   ]
  },
  {
   "cell_type": "code",
   "execution_count": null,
   "metadata": {},
   "outputs": [],
   "source": [
    "for disease in disgenetphenotypes.index:\n",
    "    if str(disease) in disgenetmap.index:\n",
    "        disgenetphenotypes.loc[disease, 'diseaseId'] = disgenetmap.loc[str(disease), 'diseaseId']\n",
    "        disgenetphenotypes.loc[disease, 'diseaseName'] = disgenetmap.loc[str(disease), 'diseaseName']\n",
    "\n",
    "disgenetphenotypes['diseaseName'] = disgenetphenotypes['diseaseName'].apply(str.title)\n",
    "diseaseNIDs = disgenetphenotypes.reset_index().groupby('diseaseName')['diseaseNID'].min().to_dict()\n",
    "disgenetphenotypes['diseaseId'] = disgenetphenotypes['diseaseName'].apply(lambda x: disgenetphenotypes.loc[diseaseNIDs[x], 'diseaseId'])\n",
    "disgenetphenotypes"
   ]
  },
  {
   "cell_type": "markdown",
   "metadata": {},
   "source": [
    "## Pre-process Data"
   ]
  },
  {
   "cell_type": "code",
   "execution_count": null,
   "metadata": {},
   "outputs": [],
   "source": [
    "geneinfo = pd.read_csv('tables/gene_info', sep='\\t', header=0)\n",
    "geneinfo = geneinfo[geneinfo['#tax_id']==9606][geneinfo['type_of_gene']=='protein-coding'].get(['GeneID', 'Symbol', 'description']).set_index('GeneID')\n",
    "\n",
    "dropgenes = []\n",
    "\n",
    "for gene in disgenetgenes.index:\n",
    "    gene = disgenetgenes.loc[gene]\n",
    "    if gene['geneId'] not in geneinfo.index:\n",
    "        dropgenes.append(gene.name)\n",
    "\n",
    "disgenetgenes = disgenetgenes.drop(dropgenes, axis=0)"
   ]
  },
  {
   "cell_type": "code",
   "execution_count": null,
   "metadata": {},
   "outputs": [],
   "source": [
    "genes = []\n",
    "for gene in disgenet['geneNID'].unique():\n",
    "    if gene in disgenetgenes.index:\n",
    "        genes.append(gene)\n",
    "\n",
    "disgenet = disgenet.set_index('geneNID').T.get(genes).T.reset_index()\n",
    "disgenet['diseaseNID'] = disgenet['diseaseNID'].apply(int)\n",
    "disgenet['gene'] = disgenet['geneNID'].apply(lambda x: disgenetgenes.loc[x, 'geneName'])\n",
    "disgenet['geneID'] = disgenet['geneNID'].apply(lambda x: disgenetgenes.loc[x, 'geneId'])\n",
    "disgenet['disease'] = disgenet['diseaseNID'].apply(lambda x: disgenetphenotypes.loc[x, 'diseaseName'])\n",
    "disgenet['diseaseID'] = disgenet['diseaseNID'].apply(lambda x: disgenetphenotypes.loc[x, 'diseaseId'])\n",
    "disgenet = disgenet.groupby(['gene', 'geneID', 'disease', 'diseaseID'])['score'].agg(np.median).reset_index()\n",
    "display(disgenet)\n",
    "print(disgenet['gene'].unique().__len__(), 'genes,', disgenet['disease'].unique().__len__(), 'phenotypes')"
   ]
  },
  {
   "cell_type": "markdown",
   "metadata": {},
   "source": [
    "## SQL Data Processing"
   ]
  },
  {
   "cell_type": "markdown",
   "metadata": {},
   "source": [
    "### Datasets"
   ]
  },
  {
   "cell_type": "code",
   "execution_count": null,
   "metadata": {},
   "outputs": [],
   "source": [
    "# id, name, name wo resource, desc, association, gene set desc, gene sets desc, attribute set desc, signed, continuous, last_update, directory, num page views, resource fk, measurement fk, dataset group fk, attribute type fk, attribute group fk, evidencey type, evidence group, measurement bias, attribute type plural\n",
    "(136, 'DisGeNET Gene-Phenotype Associations', 'Gene-Phenotype Associations', 'gene-phenotype associations sourced from curated repositories, GWAS catalogues, animal models and the scientific literature', 'gene-phenotype associations curated from genetic association studies', 'genes associated with the phenotype {0} in GWAS and other genetic association datasets from the DisGeNET Gene-Phenotype Associations dataset.', 'sets of genes associated with phenotypes in GWAS and other genetic association datasets from the DisGeNET Gene-Phenotype Associations dataset.', 'phenotypes associated with {0} gene in GWAS and other genetic association datasets from the DisGeNET Gene-Phenoptype Associations dataset.', 0, 0, '2023-03-09', 'disgenetphenotype', 0, 105, 19, 1, 15, 3, 'genetic association by data aggregation from genome-wide association and other genetic association studies', 'curated experimental data', 'high throughput, data driven', 'phenotypes')"
   ]
  },
  {
   "cell_type": "markdown",
   "metadata": {},
   "source": [
    "### Genes To Add"
   ]
  },
  {
   "cell_type": "code",
   "execution_count": null,
   "metadata": {},
   "outputs": [],
   "source": [
    "geneinfo = pd.read_csv('tables/gene_info', sep='\\t').get(['GeneID', 'Symbol', 'Synonyms', 'description'])\n",
    "genes = pd.read_csv('production/gene.csv')\n",
    "localgenes = pd.read_csv('newgenes.csv', header=None).drop(columns=[5,6,7,8]).set_index(0)\n",
    "\n",
    "genefkdict = genes.set_index('ncbi_entrez_gene_id')['id'].to_dict()\n",
    "genefkdict.update(localgenes.reset_index().set_index(2)[0].to_dict())\n",
    "\n",
    "ncbigeneslist = geneinfo['GeneID'].to_list()\n",
    "newgenes = []\n",
    "dropgenes = []\n",
    "\n",
    "for geneid in disgenet['geneID'].unique():\n",
    "    if geneid not in genefkdict and geneid in ncbigeneslist:\n",
    "        newgenes.append(geneid)\n",
    "    elif geneid not in genefkdict and geneid not in ncbigeneslist:\n",
    "        dropgenes.append(geneid)\n",
    "\n",
    "\n",
    "\n",
    "# id, symbol, ncbi_entrez_gene_id, name, ncbi_entrez_gene_url\n",
    "geneinfo = geneinfo.set_index('GeneID')\n",
    "id = 57253\n",
    "\n",
    "for gene in newgenes:\n",
    "    gene = geneinfo.loc[gene]\n",
    "    print((id, gene['Symbol'], gene.name, gene['description'], 'https://ncbi.nlm.nih.gov/gene/'+str(gene.name)), end=',\\n')\n",
    "    genefkdict[gene.name] = id\n",
    "    id += 1"
   ]
  },
  {
   "cell_type": "markdown",
   "metadata": {},
   "source": [
    "### Attributes To Add"
   ]
  },
  {
   "cell_type": "code",
   "execution_count": null,
   "metadata": {},
   "outputs": [],
   "source": [
    "id = 314069\n",
    "medgenurl = 'https://www.ncbi.nlm.nih.gov/medgen/'\n",
    "attributefkdict = {}\n",
    "phenotypes = disgenet.get(['disease', 'diseaseID']).drop_duplicates('disease').reset_index(drop=True)\n",
    "\n",
    "for phenotype in phenotypes.index:\n",
    "    phenotype = phenotypes.loc[phenotype]\n",
    "    print((id, phenotype['disease'], phenotype['diseaseID'], medgenurl+phenotype['diseaseID'], 99), end=',\\n')\n",
    "    attributefkdict[phenotype['diseaseID']] = id\n",
    "    id += 1"
   ]
  },
  {
   "cell_type": "markdown",
   "metadata": {},
   "source": [
    "### Gene Sets To Add"
   ]
  },
  {
   "cell_type": "code",
   "execution_count": null,
   "metadata": {},
   "outputs": [],
   "source": [
    "id = 133600000\n",
    "disgeneturl = 'https://www.disgenet.org/browser/0/1/0/'\n",
    "genesetfkdict = {}\n",
    "\n",
    "#(id, name_from_dataset, id_from_dataset, url_from_dataset, dataset_fk, attribute_type_fk, attribute_fk)\n",
    "for phenotype in phenotypes.index:\n",
    "    phenotype = phenotypes.loc[phenotype]\n",
    "    print((id, phenotype['disease'], phenotype['diseaseID'], disgeneturl+phenotype['diseaseID'], 136, 15, attributefkdict[phenotype['diseaseID']]), end=',\\n')\n",
    "    genesetfkdict[phenotype['diseaseID']] = id\n",
    "    id += 1"
   ]
  },
  {
   "cell_type": "markdown",
   "metadata": {},
   "source": [
    "### Associations To Add"
   ]
  },
  {
   "cell_type": "code",
   "execution_count": null,
   "metadata": {},
   "outputs": [],
   "source": [
    "id = 16000000\n",
    "\n",
    "associations = disgenet.copy()\n",
    "associations['gene_fk'] = associations['geneID'].apply(lambda x: genefkdict[x])\n",
    "associations['gene_set_fk'] = associations['diseaseID'].apply(lambda x: genesetfkdict[x])\n",
    "associations = associations.get(['gene_fk', 'gene_set_fk', 'score'])\n",
    "associations['threshold'] = 1\n",
    "associations.index += id\n",
    "display(associations)\n",
    "associations.to_csv('harmonizome-update/disgenetphenotype.csv')\n",
    "print(len(associations['gene_fk'].unique()), 'genes,', len(associations['gene_set_fk'].unique()), 'phenotypes')"
   ]
  },
  {
   "cell_type": "markdown",
   "metadata": {},
   "source": [
    "## Download File Processing"
   ]
  },
  {
   "cell_type": "code",
   "execution_count": null,
   "metadata": {},
   "outputs": [],
   "source": [
    "output_path = 'newdata/DisGeNETpheno/downloads/'"
   ]
  },
  {
   "cell_type": "code",
   "execution_count": null,
   "metadata": {},
   "outputs": [],
   "source": [
    "phenotypes = disgenet.groupby('disease')['gene'].describe()\n",
    "phenotypes = phenotypes[phenotypes['count']>=5].index\n",
    "edgelist = disgenet.set_index('disease').T.get(phenotypes).T.reset_index().get(['gene', 'geneID', 'disease', 'diseaseID', 'score'])\n",
    "edgelist.columns = ['gene', 'geneID', 'phenotype', 'phenotypeID', 'score']\n",
    "edgelist"
   ]
  },
  {
   "cell_type": "markdown",
   "metadata": {},
   "source": [
    "### Binary Matrix"
   ]
  },
  {
   "cell_type": "code",
   "execution_count": null,
   "metadata": {},
   "outputs": [],
   "source": [
    "binarymatrix = pd.crosstab(index=edgelist['gene'],\n",
    "                columns=edgelist['phenotype'],\n",
    "                values=1,\n",
    "                aggfunc=max).fillna(0)\n",
    "\n",
    "binarymatrix = pd.DataFrame(binarymatrix, dtype=int)\n",
    "\n",
    "binarymatrix = binarymatrix.rename_axis('Gene Symbol', axis='index').rename_axis('Phenotype',  axis='columns')\n",
    "\n",
    "binarymatrixT = binarymatrix.T\n",
    "\n",
    "binarymatrix.to_csv(output_path+'gene_attribute_matrix.txt.gz', sep='\\t', compression='gzip')\n",
    "binarymatrix"
   ]
  },
  {
   "cell_type": "markdown",
   "metadata": {},
   "source": [
    "### Gene List"
   ]
  },
  {
   "cell_type": "code",
   "execution_count": null,
   "metadata": {},
   "outputs": [],
   "source": [
    "genes = edgelist.get(['gene', 'geneID']).drop_duplicates().reset_index(drop=True)\n",
    "genes.to_csv(output_path+'gene_list_terms.txt.gz', sep='\\t', compression='gzip')\n",
    "genes"
   ]
  },
  {
   "cell_type": "markdown",
   "metadata": {},
   "source": [
    "### Attribute List"
   ]
  },
  {
   "cell_type": "code",
   "execution_count": null,
   "metadata": {},
   "outputs": [],
   "source": [
    "phenotypes = edgelist.get(['phenotype', 'phenotypeID']).drop_duplicates().reset_index(drop=True)\n",
    "phenotypes.to_csv(output_path+'attribute_list_entries.txt.gz', sep='\\t', compression='gzip')\n",
    "phenotypes"
   ]
  },
  {
   "cell_type": "markdown",
   "metadata": {},
   "source": [
    "### Gene-Attribute Edge List"
   ]
  },
  {
   "cell_type": "code",
   "execution_count": null,
   "metadata": {},
   "outputs": [],
   "source": [
    "edgelist.to_csv(output_path+'gene_attribute_edges.txt.gz', sep='\\t', compression='gzip')\n",
    "edgelist"
   ]
  },
  {
   "cell_type": "markdown",
   "metadata": {},
   "source": [
    "### Gene Set Library"
   ]
  },
  {
   "cell_type": "code",
   "execution_count": null,
   "metadata": {},
   "outputs": [],
   "source": [
    "arr = binarymatrix.reset_index(drop=True).to_numpy(dtype=np.int_)\n",
    "\n",
    "with open(output_path+'gene_set_library_crisp.gmt', 'w') as f:\n",
    "    for i in range(arr.shape[1]):\n",
    "        print(binarymatrix.columns[i],*binarymatrix.index[arr[:,i]==1],\n",
    "            sep='\\t', end='\\n', file=f)"
   ]
  },
  {
   "cell_type": "markdown",
   "metadata": {},
   "source": [
    "### Attribute Set Library"
   ]
  },
  {
   "cell_type": "code",
   "execution_count": null,
   "metadata": {},
   "outputs": [],
   "source": [
    "arr = binarymatrixT.reset_index(drop=True).to_numpy(dtype=np.int_)\n",
    "\n",
    "with open(output_path+'attribute_set_library_crisp.gmt', 'w') as f:\n",
    "    for i in range(arr.shape[1]):\n",
    "        print(binarymatrixT.columns[i],*binarymatrixT.index[arr[:,i]==1],\n",
    "            sep='\\t', end='\\n', file=f)"
   ]
  },
  {
   "cell_type": "markdown",
   "metadata": {},
   "source": [
    "### Gene Similarity Matrix"
   ]
  },
  {
   "cell_type": "code",
   "execution_count": null,
   "metadata": {},
   "outputs": [],
   "source": [
    "similarity_matrix = dist.pdist(binarymatrix.to_numpy(dtype=np.int_), 'cosine')\n",
    "similarity_matrix = dist.squareform(similarity_matrix)\n",
    "similarity_matrix = 1 - similarity_matrix\n",
    "\n",
    "gene_similarity_matrix = pd.DataFrame(similarity_matrix, index=binarymatrix.index, columns=binarymatrix.index)\n",
    "gene_similarity_matrix.index.name = None\n",
    "gene_similarity_matrix.columns.name = None\n",
    "\n",
    "gene_similarity_matrix.to_csv(output_path+'gene_similarity_matrix_cosine.txt.gz', sep='\\t', compression='gzip')\n",
    "gene_similarity_matrix"
   ]
  },
  {
   "cell_type": "markdown",
   "metadata": {},
   "source": [
    "### Attribute Similarity Matrix"
   ]
  },
  {
   "cell_type": "code",
   "execution_count": null,
   "metadata": {},
   "outputs": [],
   "source": [
    "similarity_matrix = dist.pdist(binarymatrixT.to_numpy(dtype=np.int_), 'cosine')\n",
    "similarity_matrix = dist.squareform(similarity_matrix)\n",
    "similarity_matrix = 1 - similarity_matrix\n",
    "\n",
    "attribute_similarity_matrix = pd.DataFrame(similarity_matrix, index=binarymatrixT.index, columns=binarymatrixT.index)\n",
    "attribute_similarity_matrix.index.name = None\n",
    "attribute_similarity_matrix.columns.name = None\n",
    "\n",
    "attribute_similarity_matrix.to_csv(output_path+'attribute_similarity_matrix_cosine.txt.gz', sep='\\t', compression='gzip')\n",
    "attribute_similarity_matrix"
   ]
  },
  {
   "cell_type": "markdown",
   "metadata": {},
   "source": [
    "### Cleaned Binary Matrix"
   ]
  },
  {
   "cell_type": "code",
   "execution_count": null,
   "metadata": {},
   "outputs": [],
   "source": [
    "binarymatrixcleaned = pd.crosstab(index=edgelist['gene'],\n",
    "                columns=edgelist['phenotype'],\n",
    "                values=edgelist['score'].values,\n",
    "                aggfunc=max).fillna(0)\n",
    "\n",
    "binarymatrixcleaned = binarymatrixcleaned.rename_axis('Gene Symbol', axis='index').rename_axis('Disease',  axis='columns')\n",
    "\n",
    "binarymatrixcleaned"
   ]
  },
  {
   "cell_type": "markdown",
   "metadata": {},
   "source": [
    "### Serializations"
   ]
  },
  {
   "cell_type": "code",
   "execution_count": null,
   "metadata": {},
   "outputs": [],
   "source": [
    "nodes = {}\n",
    "edges = []\n",
    "\n",
    "for gene in genes.index:\n",
    "    id = int(genes.loc[gene, 'geneID'])\n",
    "    label = genes.loc[gene, 'gene']\n",
    "    nodes[id] = {\n",
    "        \"type\": \"gene\",\n",
    "        \"properties\": {\n",
    "            \"id\": id,\n",
    "            \"label\": label\n",
    "        }\n",
    "    }\n",
    "\n",
    "for phenotype in phenotypes.index:\n",
    "    id = phenotypes.loc[phenotype, 'phenotypeID']\n",
    "    label = phenotypes.loc[phenotype, 'phenotype']\n",
    "    nodes[id] = {\n",
    "        \"type\": \"phenotype\",\n",
    "        \"properties\": {\n",
    "            \"id\": id,\n",
    "            \"label\": label\n",
    "        }\n",
    "    }\n",
    "\n",
    "for edge in edgelist.index:\n",
    "    edge = edgelist.loc[edge]\n",
    "    source = edge['phenotypeID']\n",
    "    target = int(edge['geneID'])\n",
    "    edges.append({\n",
    "    \"source\": source,\n",
    "    \"relation\": \"has material basis in somatic mutation in\",\n",
    "    \"target\": target,\n",
    "    \"properties\": {\n",
    "        \"id\": source+\":\"+str(target),\n",
    "        \"source_label\": edge['phenotype'],\n",
    "        \"target_label\": edge['gene'],\n",
    "        \"directed\":True,\n",
    "        \"score\":str(edge['score'])\n",
    "    }\n",
    "})"
   ]
  },
  {
   "cell_type": "markdown",
   "metadata": {},
   "source": [
    "RDF"
   ]
  },
  {
   "cell_type": "code",
   "execution_count": null,
   "metadata": {},
   "outputs": [],
   "source": [
    "with open(output_path+'serializations/disgenetphenotype.rdf', 'w') as f:\n",
    "    print('@prefix disease: https://www.disgenet.org/browser/0/1/0/', file=f)\n",
    "    print('@prefix RO: http://purl.obolibrary.org/obo/RO_', file=f)\n",
    "    print('@prefix gene: http://ncbi.nlm.nih.gov/gene/', file=f)\n",
    "    print('', file=f)\n",
    "    for edge in edges:\n",
    "        print('disease:'+edge['source'], 'RO:0004004', 'gene:'+str(edge['target']), end=' .\\n', file=f)"
   ]
  },
  {
   "cell_type": "markdown",
   "metadata": {},
   "source": [
    "JSON"
   ]
  },
  {
   "cell_type": "code",
   "execution_count": null,
   "metadata": {},
   "outputs": [],
   "source": [
    "with open(output_path+'serializations/disgenetphenotype.json', 'w') as f:\n",
    "    serial = json.dump(\n",
    "        {\n",
    "            \"Version\":\"1\", \n",
    "            \"nodes\": nodes,\n",
    "            \"edges\": edges\n",
    "        }, indent=4, fp=f)"
   ]
  },
  {
   "cell_type": "markdown",
   "metadata": {},
   "source": [
    "TSV"
   ]
  },
  {
   "cell_type": "code",
   "execution_count": null,
   "metadata": {},
   "outputs": [],
   "source": [
    "nodeframe = pd.DataFrame(nodes)\n",
    "edgeframe = pd.DataFrame(edges)"
   ]
  },
  {
   "cell_type": "code",
   "execution_count": null,
   "metadata": {},
   "outputs": [],
   "source": [
    "nodeframe = nodeframe.T\n",
    "nodeframe['properties'] = nodeframe['properties'].apply(lambda x: x['label'])\n",
    "nodeframe = nodeframe.reset_index()\n",
    "nodeframe.columns = ['id','type','label']\n",
    "nodeframe['namespace'] = nodeframe.apply(lambda x: {'gene':'NCBI Entrez', 'phenotype':'MedGen'}[x['type']], axis=1)\n",
    "nodeframe = nodeframe.get(['namespace', 'id', 'label'])\n",
    "nodeframe.to_csv(output_path+'serializations/disgenetphenotype_tsv/nodes.tsv', sep='\\t')\n",
    "nodeframe"
   ]
  },
  {
   "cell_type": "code",
   "execution_count": null,
   "metadata": {},
   "outputs": [],
   "source": [
    "edgeframe['score'] = edgeframe['properties'].apply(lambda x: x['score'])\n",
    "edgeframe = edgeframe.drop(columns=['properties'])\n",
    "edgeframe.to_csv(output_path+'serializations/disgenetphenotype_tsv/edges.tsv', sep='\\t')\n",
    "edgeframe"
   ]
  },
  {
   "cell_type": "markdown",
   "metadata": {},
   "source": [
    "## Visualization"
   ]
  },
  {
   "cell_type": "markdown",
   "metadata": {},
   "source": [
    "### Gene-Attribute Clustered Heatmap"
   ]
  },
  {
   "cell_type": "code",
   "execution_count": null,
   "metadata": {},
   "outputs": [],
   "source": [
    "sns.clustermap(binarymatrix, cmap='seismic', center=0)"
   ]
  },
  {
   "cell_type": "markdown",
   "metadata": {},
   "source": [
    "### Gene Similarity Clustered Heatmap"
   ]
  },
  {
   "cell_type": "code",
   "execution_count": null,
   "metadata": {},
   "outputs": [],
   "source": [
    "sns.clustermap(gene_similarity_matrix, cmap='seismic', center=0, metric='cosine')"
   ]
  },
  {
   "cell_type": "markdown",
   "metadata": {},
   "source": [
    "### Attribute Similarity Clustered Heatmap"
   ]
  },
  {
   "cell_type": "code",
   "execution_count": null,
   "metadata": {},
   "outputs": [],
   "source": [
    "sns.clustermap(attribute_similarity_matrix, cmap='seismic', center=0, metric='cosine')"
   ]
  },
  {
   "cell_type": "markdown",
   "metadata": {},
   "source": [
    "### UMAP"
   ]
  },
  {
   "cell_type": "code",
   "execution_count": null,
   "metadata": {},
   "outputs": [],
   "source": [
    "output_notebook()"
   ]
  },
  {
   "cell_type": "code",
   "execution_count": null,
   "metadata": {},
   "outputs": [],
   "source": [
    "umap = edgelist.sort_values(['phenotype', 'score'], ascending=[True, False])\n",
    "umap = umap.groupby('phenotype')['gene'].apply(list).apply(' '.join).to_frame()\n",
    "umap = umap['gene'].to_dict()"
   ]
  },
  {
   "cell_type": "code",
   "execution_count": null,
   "metadata": {},
   "outputs": [],
   "source": [
    "vec = TfidfVectorizer(max_df=0.5, min_df=10)\n",
    "X = vec.fit_transform(umap.values())\n",
    "adata = anndata.AnnData(X, dtype='float32')\n",
    "adata.obs.index = umap.keys()\n",
    "\n",
    "sc.pp.neighbors(adata, n_neighbors=50, use_rep='X')\n",
    "sc.tl.leiden(adata)\n",
    "sc.tl.umap(adata, min_dist=0.3, spread=4.6)\n",
    "\n",
    "new_order = adata.obs.sort_values(by='leiden').index.tolist()\n",
    "adata = adata[new_order,:]\n",
    "adata.obs['leiden'] = 'Cluster ' + adata.obs['leiden'].astype('object')\n",
    "\n",
    "mapped_df = pd.DataFrame(adata.obsm['X_umap'])\n",
    "mapped_df.columns = ['x', 'y']\n",
    "\n",
    "mapped_df['cluster'] = adata.obs['leiden'].values\n",
    "mapped_df['term'] = adata.obs.index\n",
    "\n",
    "clusters = pd.unique(mapped_df['cluster']).tolist()\n",
    "colors = list(Category20[20])[::2] + list(Category20[20])[1::2]\n",
    "color_mapper = {clusters[i]:colors[i%20] for i in range(len(clusters))}\n",
    "\n",
    "mapped_df['color'] = mapped_df['cluster'].apply(lambda x: color_mapper[x])\n",
    "\n",
    "xlabel = 'UMAP 1'\n",
    "ylabel = 'UMAP 2'\n",
    "\n",
    "source2 = ColumnDataSource(\n",
    "        data=dict(\n",
    "            x = mapped_df.x,\n",
    "            y = mapped_df.y,\n",
    "            alpha = [0.7] * mapped_df.shape[0],\n",
    "            colors = mapped_df['color'], \n",
    "            size = [6] * mapped_df.shape[0],\n",
    "            gene_set = mapped_df['term'],\n",
    "            cluster = mapped_df['cluster']\n",
    "        )\n",
    "    )\n",
    "\n",
    "hover_emb = HoverTool(name=\"df\", tooltips=\"\"\"\n",
    "    <div style=\"margin: 10\">\n",
    "        <div style=\"margin: 0 auto; width:300px;\">\n",
    "            <span style=\"font-size: 12px; font-weight: bold;\">Gene Set:</span>\n",
    "            <span style=\"font-size: 12px\">@gene_set</span>\n",
    "        <div style=\"margin: 0 auto; width:300px;\">\n",
    "            <span style=\"font-size: 12px; font-weight: bold;\">Coordinates:</span>\n",
    "            <span style=\"font-size: 12px\">(@x,@y)</span>\n",
    "        <div style=\"margin: 0 auto; width:300px;\">\n",
    "            <span style=\"font-size: 12px; font-weight: bold;\">Cluster:</span>\n",
    "            <span style=\"font-size: 12px\">@cluster</span>\n",
    "        </div>\n",
    "    </div>\n",
    "    \"\"\")\n",
    "\n",
    "tools_emb = [hover_emb, 'pan', 'wheel_zoom', 'reset', 'save']\n",
    "title_emb = 'Gene Sets in DeepCoverMOA Library'\n",
    "plot_emb = figure(width=1000, height=700, tools=tools_emb, title=title_emb, x_axis_label=xlabel, y_axis_label=ylabel)\n",
    "plot_emb.circle( 'x', 'y', source = source2, size='size',\n",
    "                alpha='alpha', line_alpha=0, line_width=0.01, name=\"df\", \n",
    "                fill_color = 'colors', \n",
    "                line_color=\"black\", hover_fill_color=\"firebrick\")\n",
    "plot_emb.xaxis.axis_label_text_font_style = 'normal'\n",
    "plot_emb.xaxis.axis_label_text_font_size = '18px'\n",
    "plot_emb.yaxis.axis_label_text_font_size = '18px'\n",
    "plot_emb.yaxis.axis_label_text_font_style = 'normal'\n",
    "plot_emb.title.align = 'center'\n",
    "plot_emb.title.text_font_size = '18px'\n",
    "\n",
    "show(plot_emb)\n"
   ]
  },
  {
   "cell_type": "code",
   "execution_count": null,
   "metadata": {},
   "outputs": [],
   "source": [
    "file(filename=output_path+'disgenetphenotype.html')\n",
    "save(plot_emb)"
   ]
  }
 ],
 "metadata": {
  "kernelspec": {
   "display_name": "Python 3.10.4 ('appyter')",
   "language": "python",
   "name": "python3"
  },
  "language_info": {
   "codemirror_mode": {
    "name": "ipython",
    "version": 3
   },
   "file_extension": ".py",
   "mimetype": "text/x-python",
   "name": "python",
   "nbconvert_exporter": "python",
   "pygments_lexer": "ipython3",
   "version": "3.10.8"
  },
  "orig_nbformat": 4,
  "vscode": {
   "interpreter": {
    "hash": "36b64e778f8b0c3f01583b2eed08020222bb534e013a238936f90fb19a999c87"
   }
  }
 },
 "nbformat": 4,
 "nbformat_minor": 2
}
