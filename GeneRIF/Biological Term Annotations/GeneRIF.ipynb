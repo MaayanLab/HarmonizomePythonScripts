{
 "cells": [
  {
   "cell_type": "markdown",
   "metadata": {},
   "source": [
    "# GeneRIF"
   ]
  },
  {
   "cell_type": "markdown",
   "metadata": {},
   "source": [
    "Author: Moshe Silverstein <br/>\n",
    "Date: 8-17 <br/>\n",
    "Data Source: ftp://ftp.ncbi.nih.gov/gene/GeneRIF/"
   ]
  },
  {
   "cell_type": "code",
   "execution_count": 1,
   "metadata": {
    "collapsed": true
   },
   "outputs": [],
   "source": [
    "import sys, datetime, os\n",
    "import numpy as np\n",
    "import pandas as pd\n",
    "import importlib\n",
    "import untility_functions as uf\n",
    "%matplotlib inline"
   ]
  },
  {
   "cell_type": "code",
   "execution_count": 2,
   "metadata": {},
   "outputs": [
    {
     "data": {
      "text/plain": [
       "<module 'untility_functions' from '/Users/moshesilverstein/Documents/Harmonizome/GeneRIF/untility_functions.py'>"
      ]
     },
     "execution_count": 2,
     "metadata": {},
     "output_type": "execute_result"
    }
   ],
   "source": [
    "importlib.reload(uf)"
   ]
  },
  {
   "cell_type": "markdown",
   "metadata": {},
   "source": [
    "# Load Data"
   ]
  },
  {
   "cell_type": "code",
   "execution_count": 3,
   "metadata": {},
   "outputs": [],
   "source": [
    "df = pd.read_csv('Input/interactions.gz', sep='\\t', low_memory=False)"
   ]
  },
  {
   "cell_type": "code",
   "execution_count": 4,
   "metadata": {},
   "outputs": [
    {
     "data": {
      "text/html": [
       "<div>\n",
       "<table border=\"1\" class=\"dataframe\">\n",
       "  <thead>\n",
       "    <tr style=\"text-align: right;\">\n",
       "      <th></th>\n",
       "      <th>#tax_id</th>\n",
       "      <th>gene_id</th>\n",
       "      <th>accn.vers</th>\n",
       "      <th>name</th>\n",
       "      <th>keyphrase</th>\n",
       "      <th>tax_id</th>\n",
       "      <th>interactant_id</th>\n",
       "      <th>interactant_id_type</th>\n",
       "      <th>accn.vers.1</th>\n",
       "      <th>name.1</th>\n",
       "      <th>complex_id</th>\n",
       "      <th>complex_id_type</th>\n",
       "      <th>complex_name</th>\n",
       "      <th>pubmed_id_list</th>\n",
       "      <th>last_mod</th>\n",
       "      <th>generif_text</th>\n",
       "      <th>interaction_id</th>\n",
       "      <th>interaction_id_type</th>\n",
       "    </tr>\n",
       "  </thead>\n",
       "  <tbody>\n",
       "    <tr>\n",
       "      <th>0</th>\n",
       "      <td>358</td>\n",
       "      <td>1224321</td>\n",
       "      <td>NP_059802.1</td>\n",
       "      <td>hypothetical protein pTi_130</td>\n",
       "      <td>-</td>\n",
       "      <td>-</td>\n",
       "      <td>-</td>\n",
       "      <td>-</td>\n",
       "      <td>AE008690.1</td>\n",
       "      <td>Agrobacterium tumefaciens str. C58 Ti plasmid,...</td>\n",
       "      <td>-</td>\n",
       "      <td>-</td>\n",
       "      <td>-</td>\n",
       "      <td>15155952</td>\n",
       "      <td>2005-01-18 14:45</td>\n",
       "      <td>VirB4 interacts with T-DNA.</td>\n",
       "      <td>134324</td>\n",
       "      <td>BIND</td>\n",
       "    </tr>\n",
       "    <tr>\n",
       "      <th>1</th>\n",
       "      <td>358</td>\n",
       "      <td>1224322</td>\n",
       "      <td>NP_059803.1</td>\n",
       "      <td>hypothetical protein pTi_131</td>\n",
       "      <td>-</td>\n",
       "      <td>-</td>\n",
       "      <td>-</td>\n",
       "      <td>-</td>\n",
       "      <td>AE008690.1</td>\n",
       "      <td>Agrobacterium tumefaciens str. C58 Ti plasmid,...</td>\n",
       "      <td>-</td>\n",
       "      <td>-</td>\n",
       "      <td>-</td>\n",
       "      <td>15155952</td>\n",
       "      <td>2005-01-18 14:45</td>\n",
       "      <td>VirB5 interacts with T-DNA.</td>\n",
       "      <td>134323</td>\n",
       "      <td>BIND</td>\n",
       "    </tr>\n",
       "    <tr>\n",
       "      <th>2</th>\n",
       "      <td>358</td>\n",
       "      <td>1224323</td>\n",
       "      <td>NP_059804.1</td>\n",
       "      <td>hypothetical protein pTi_132</td>\n",
       "      <td>-</td>\n",
       "      <td>-</td>\n",
       "      <td>-</td>\n",
       "      <td>-</td>\n",
       "      <td>AE008690.1</td>\n",
       "      <td>Agrobacterium tumefaciens str. C58 Ti plasmid,...</td>\n",
       "      <td>-</td>\n",
       "      <td>-</td>\n",
       "      <td>-</td>\n",
       "      <td>15155952</td>\n",
       "      <td>2005-01-18 14:45</td>\n",
       "      <td>VirB6 interacts with T-DNA.</td>\n",
       "      <td>134329</td>\n",
       "      <td>BIND</td>\n",
       "    </tr>\n",
       "    <tr>\n",
       "      <th>3</th>\n",
       "      <td>358</td>\n",
       "      <td>1224324</td>\n",
       "      <td>NP_059805.1</td>\n",
       "      <td>hypothetical protein pTi_133</td>\n",
       "      <td>-</td>\n",
       "      <td>358</td>\n",
       "      <td>1224326</td>\n",
       "      <td>GeneID</td>\n",
       "      <td>NP_059807.1</td>\n",
       "      <td>hypothetical protein pTi_135</td>\n",
       "      <td>-</td>\n",
       "      <td>-</td>\n",
       "      <td>-</td>\n",
       "      <td>9171381</td>\n",
       "      <td>2005-05-16 15:52</td>\n",
       "      <td>VirB7 interacts with VirB9. This interaction w...</td>\n",
       "      <td>196356</td>\n",
       "      <td>BIND</td>\n",
       "    </tr>\n",
       "    <tr>\n",
       "      <th>4</th>\n",
       "      <td>358</td>\n",
       "      <td>1224324</td>\n",
       "      <td>NP_059805.1</td>\n",
       "      <td>hypothetical protein pTi_133</td>\n",
       "      <td>-</td>\n",
       "      <td>358</td>\n",
       "      <td>1224326</td>\n",
       "      <td>GeneID</td>\n",
       "      <td>NP_059807.1</td>\n",
       "      <td>hypothetical protein pTi_135</td>\n",
       "      <td>-</td>\n",
       "      <td>-</td>\n",
       "      <td>-</td>\n",
       "      <td>15155952</td>\n",
       "      <td>2005-01-18 14:45</td>\n",
       "      <td>VirB7 interacts with VirB9.</td>\n",
       "      <td>134325</td>\n",
       "      <td>BIND</td>\n",
       "    </tr>\n",
       "  </tbody>\n",
       "</table>\n",
       "</div>"
      ],
      "text/plain": [
       "   #tax_id  gene_id    accn.vers                          name keyphrase  \\\n",
       "0      358  1224321  NP_059802.1  hypothetical protein pTi_130         -   \n",
       "1      358  1224322  NP_059803.1  hypothetical protein pTi_131         -   \n",
       "2      358  1224323  NP_059804.1  hypothetical protein pTi_132         -   \n",
       "3      358  1224324  NP_059805.1  hypothetical protein pTi_133         -   \n",
       "4      358  1224324  NP_059805.1  hypothetical protein pTi_133         -   \n",
       "\n",
       "  tax_id interactant_id interactant_id_type  accn.vers.1  \\\n",
       "0      -              -                   -   AE008690.1   \n",
       "1      -              -                   -   AE008690.1   \n",
       "2      -              -                   -   AE008690.1   \n",
       "3    358        1224326              GeneID  NP_059807.1   \n",
       "4    358        1224326              GeneID  NP_059807.1   \n",
       "\n",
       "                                              name.1 complex_id  \\\n",
       "0  Agrobacterium tumefaciens str. C58 Ti plasmid,...          -   \n",
       "1  Agrobacterium tumefaciens str. C58 Ti plasmid,...          -   \n",
       "2  Agrobacterium tumefaciens str. C58 Ti plasmid,...          -   \n",
       "3                       hypothetical protein pTi_135          -   \n",
       "4                       hypothetical protein pTi_135          -   \n",
       "\n",
       "  complex_id_type complex_name pubmed_id_list          last_mod  \\\n",
       "0               -            -       15155952  2005-01-18 14:45   \n",
       "1               -            -       15155952  2005-01-18 14:45   \n",
       "2               -            -       15155952  2005-01-18 14:45   \n",
       "3               -            -        9171381  2005-05-16 15:52   \n",
       "4               -            -       15155952  2005-01-18 14:45   \n",
       "\n",
       "                                        generif_text interaction_id  \\\n",
       "0                        VirB4 interacts with T-DNA.         134324   \n",
       "1                        VirB5 interacts with T-DNA.         134323   \n",
       "2                        VirB6 interacts with T-DNA.         134329   \n",
       "3  VirB7 interacts with VirB9. This interaction w...         196356   \n",
       "4                        VirB7 interacts with VirB9.         134325   \n",
       "\n",
       "  interaction_id_type  \n",
       "0                BIND  \n",
       "1                BIND  \n",
       "2                BIND  \n",
       "3                BIND  \n",
       "4                BIND  "
      ]
     },
     "execution_count": 4,
     "metadata": {},
     "output_type": "execute_result"
    }
   ],
   "source": [
    "df.head()"
   ]
  },
  {
   "cell_type": "code",
   "execution_count": 5,
   "metadata": {},
   "outputs": [
    {
     "data": {
      "text/plain": [
       "(2372536, 18)"
      ]
     },
     "execution_count": 5,
     "metadata": {},
     "output_type": "execute_result"
    }
   ],
   "source": [
    "df.shape"
   ]
  },
  {
   "cell_type": "markdown",
   "metadata": {},
   "source": [
    "# Get Relevent Data"
   ]
  },
  {
   "cell_type": "code",
   "execution_count": 6,
   "metadata": {},
   "outputs": [],
   "source": [
    "human = df[df['#tax_id'] == 9606].copy()\n",
    "mouse = df[df['#tax_id'] == 10090].copy()\n",
    "rat = df[df['#tax_id'] == 10116].copy()\n",
    "\n",
    "df = pd.concat([human, pd.concat([mouse, rat])])"
   ]
  },
  {
   "cell_type": "code",
   "execution_count": 7,
   "metadata": {
    "collapsed": true
   },
   "outputs": [],
   "source": [
    "df = df[['gene_id', 'keyphrase']]"
   ]
  },
  {
   "cell_type": "code",
   "execution_count": 10,
   "metadata": {
    "collapsed": true
   },
   "outputs": [],
   "source": [
    "df = df[df['keyphrase'] != '-']"
   ]
  },
  {
   "cell_type": "code",
   "execution_count": 11,
   "metadata": {},
   "outputs": [
    {
     "data": {
      "text/plain": [
       "(16829, 2)"
      ]
     },
     "execution_count": 11,
     "metadata": {},
     "output_type": "execute_result"
    }
   ],
   "source": [
    "df.shape"
   ]
  },
  {
   "cell_type": "code",
   "execution_count": 12,
   "metadata": {},
   "outputs": [
    {
     "data": {
      "text/html": [
       "<div>\n",
       "<table border=\"1\" class=\"dataframe\">\n",
       "  <thead>\n",
       "    <tr style=\"text-align: right;\">\n",
       "      <th></th>\n",
       "      <th>gene_id</th>\n",
       "      <th>keyphrase</th>\n",
       "    </tr>\n",
       "  </thead>\n",
       "  <tbody>\n",
       "    <tr>\n",
       "      <th>201461</th>\n",
       "      <td>2</td>\n",
       "      <td>inhibits</td>\n",
       "    </tr>\n",
       "    <tr>\n",
       "      <th>201462</th>\n",
       "      <td>2</td>\n",
       "      <td>downregulates</td>\n",
       "    </tr>\n",
       "    <tr>\n",
       "      <th>201463</th>\n",
       "      <td>2</td>\n",
       "      <td>cleaves</td>\n",
       "    </tr>\n",
       "    <tr>\n",
       "      <th>201614</th>\n",
       "      <td>12</td>\n",
       "      <td>upregulates</td>\n",
       "    </tr>\n",
       "    <tr>\n",
       "      <th>201615</th>\n",
       "      <td>12</td>\n",
       "      <td>upregulates</td>\n",
       "    </tr>\n",
       "  </tbody>\n",
       "</table>\n",
       "</div>"
      ],
      "text/plain": [
       "        gene_id      keyphrase\n",
       "201461        2       inhibits\n",
       "201462        2  downregulates\n",
       "201463        2        cleaves\n",
       "201614       12    upregulates\n",
       "201615       12    upregulates"
      ]
     },
     "execution_count": 12,
     "metadata": {},
     "output_type": "execute_result"
    }
   ],
   "source": [
    "df.head()"
   ]
  },
  {
   "cell_type": "markdown",
   "metadata": {},
   "source": [
    "# Load Gene Meta Data"
   ]
  },
  {
   "cell_type": "code",
   "execution_count": 18,
   "metadata": {},
   "outputs": [],
   "source": [
    "gene_meta = pd.read_csv('Input/gene_meta.txt', sep='\\t', index_col=1)"
   ]
  },
  {
   "cell_type": "code",
   "execution_count": 27,
   "metadata": {},
   "outputs": [
    {
     "data": {
      "text/html": [
       "<div>\n",
       "<table border=\"1\" class=\"dataframe\">\n",
       "  <thead>\n",
       "    <tr style=\"text-align: right;\">\n",
       "      <th></th>\n",
       "      <th>Approved Symbol</th>\n",
       "    </tr>\n",
       "    <tr>\n",
       "      <th>Entrez Gene ID(supplied by NCBI)</th>\n",
       "      <th></th>\n",
       "    </tr>\n",
       "  </thead>\n",
       "  <tbody>\n",
       "    <tr>\n",
       "      <th>1.0</th>\n",
       "      <td>A1BG</td>\n",
       "    </tr>\n",
       "    <tr>\n",
       "      <th>503538.0</th>\n",
       "      <td>A1BG-AS1</td>\n",
       "    </tr>\n",
       "    <tr>\n",
       "      <th>29974.0</th>\n",
       "      <td>A1CF</td>\n",
       "    </tr>\n",
       "    <tr>\n",
       "      <th>2.0</th>\n",
       "      <td>A2M</td>\n",
       "    </tr>\n",
       "    <tr>\n",
       "      <th>144571.0</th>\n",
       "      <td>A2M-AS1</td>\n",
       "    </tr>\n",
       "  </tbody>\n",
       "</table>\n",
       "</div>"
      ],
      "text/plain": [
       "                                 Approved Symbol\n",
       "Entrez Gene ID(supplied by NCBI)                \n",
       "1.0                                         A1BG\n",
       "503538.0                                A1BG-AS1\n",
       "29974.0                                     A1CF\n",
       "2.0                                          A2M\n",
       "144571.0                                 A2M-AS1"
      ]
     },
     "execution_count": 27,
     "metadata": {},
     "output_type": "execute_result"
    }
   ],
   "source": [
    "gene_meta.head()"
   ]
  },
  {
   "cell_type": "markdown",
   "metadata": {},
   "source": [
    "# Map Gene Id's to Symbols "
   ]
  },
  {
   "cell_type": "code",
   "execution_count": 31,
   "metadata": {},
   "outputs": [
    {
     "name": "stdout",
     "output_type": "stream",
     "text": [
      "Progeres: 100%  16829 Out of 16829   \r"
     ]
    }
   ],
   "source": [
    "lst = []\n",
    "\n",
    "for i,index in enumerate(df.index):\n",
    "    \n",
    "    progressPercent = ((i+1)/len(df.index))*100\n",
    "\n",
    "    sys.stdout.write(\"Progeres: %d%%  %d Out of %d   \\r\" % (progressPercent, (i+1), len(df.index)))\n",
    "    sys.stdout.flush()\n",
    "    \n",
    "    if float(df.ix[index, 'gene_id']) in gene_meta.index:\n",
    "        lst.append(gene_meta.ix[float(df.ix[index, 'gene_id']), 'Approved Symbol'])\n",
    "    else:\n",
    "        lst.append(np.nan)\n",
    "\n",
    "df['gene_id'] = lst\n",
    "df.dropna(how='any', inplace=True)"
   ]
  },
  {
   "cell_type": "code",
   "execution_count": 32,
   "metadata": {},
   "outputs": [
    {
     "data": {
      "text/html": [
       "<div>\n",
       "<table border=\"1\" class=\"dataframe\">\n",
       "  <thead>\n",
       "    <tr style=\"text-align: right;\">\n",
       "      <th></th>\n",
       "      <th>gene_id</th>\n",
       "      <th>keyphrase</th>\n",
       "    </tr>\n",
       "  </thead>\n",
       "  <tbody>\n",
       "    <tr>\n",
       "      <th>201461</th>\n",
       "      <td>A2M</td>\n",
       "      <td>inhibits</td>\n",
       "    </tr>\n",
       "    <tr>\n",
       "      <th>201462</th>\n",
       "      <td>A2M</td>\n",
       "      <td>downregulates</td>\n",
       "    </tr>\n",
       "    <tr>\n",
       "      <th>201463</th>\n",
       "      <td>A2M</td>\n",
       "      <td>cleaves</td>\n",
       "    </tr>\n",
       "    <tr>\n",
       "      <th>201614</th>\n",
       "      <td>SERPINA3</td>\n",
       "      <td>upregulates</td>\n",
       "    </tr>\n",
       "    <tr>\n",
       "      <th>201615</th>\n",
       "      <td>SERPINA3</td>\n",
       "      <td>upregulates</td>\n",
       "    </tr>\n",
       "  </tbody>\n",
       "</table>\n",
       "</div>"
      ],
      "text/plain": [
       "         gene_id      keyphrase\n",
       "201461       A2M       inhibits\n",
       "201462       A2M  downregulates\n",
       "201463       A2M        cleaves\n",
       "201614  SERPINA3    upregulates\n",
       "201615  SERPINA3    upregulates"
      ]
     },
     "execution_count": 32,
     "metadata": {},
     "output_type": "execute_result"
    }
   ],
   "source": [
    "df.head()"
   ]
  },
  {
   "cell_type": "code",
   "execution_count": 33,
   "metadata": {},
   "outputs": [
    {
     "data": {
      "text/plain": [
       "(16828, 2)"
      ]
     },
     "execution_count": 33,
     "metadata": {},
     "output_type": "execute_result"
    }
   ],
   "source": [
    "df.shape"
   ]
  },
  {
   "cell_type": "markdown",
   "metadata": {},
   "source": [
    "# Drop Duplicates"
   ]
  },
  {
   "cell_type": "code",
   "execution_count": 35,
   "metadata": {},
   "outputs": [],
   "source": [
    "df.drop_duplicates(inplace=True)"
   ]
  },
  {
   "cell_type": "code",
   "execution_count": 36,
   "metadata": {},
   "outputs": [
    {
     "data": {
      "text/plain": [
       "(9452, 2)"
      ]
     },
     "execution_count": 36,
     "metadata": {},
     "output_type": "execute_result"
    }
   ],
   "source": [
    "df.shape"
   ]
  },
  {
   "cell_type": "markdown",
   "metadata": {},
   "source": [
    "# Create Binary Matrix"
   ]
  },
  {
   "cell_type": "code",
   "execution_count": 38,
   "metadata": {},
   "outputs": [
    {
     "name": "stdout",
     "output_type": "stream",
     "text": [
      "Progeres: 100%  4368 Out of 4368   \r"
     ]
    }
   ],
   "source": [
    "binary_matrix = uf.createBinaryMatix(df)"
   ]
  },
  {
   "cell_type": "code",
   "execution_count": 39,
   "metadata": {},
   "outputs": [
    {
     "data": {
      "text/html": [
       "<div>\n",
       "<table border=\"1\" class=\"dataframe\">\n",
       "  <thead>\n",
       "    <tr style=\"text-align: right;\">\n",
       "      <th></th>\n",
       "      <th>required by</th>\n",
       "      <th>inhibited by</th>\n",
       "      <th>sulfated by</th>\n",
       "      <th>cooperates with</th>\n",
       "      <th>induces ubiquitination of</th>\n",
       "      <th>upregulates</th>\n",
       "      <th>recruits</th>\n",
       "      <th>localizes with</th>\n",
       "      <th>relocalized by</th>\n",
       "      <th>decreases phosphorylation of</th>\n",
       "      <th>...</th>\n",
       "      <th>myristoylated by</th>\n",
       "      <th>incorporates</th>\n",
       "      <th>affects</th>\n",
       "      <th>imported by</th>\n",
       "      <th>enhances polymerization of</th>\n",
       "      <th>restricted by</th>\n",
       "      <th>blocks</th>\n",
       "      <th>processed by</th>\n",
       "      <th>cleavage induced by</th>\n",
       "      <th>packages</th>\n",
       "    </tr>\n",
       "  </thead>\n",
       "  <tbody>\n",
       "    <tr>\n",
       "      <th>EZH2</th>\n",
       "      <td>0</td>\n",
       "      <td>0</td>\n",
       "      <td>0</td>\n",
       "      <td>0</td>\n",
       "      <td>0</td>\n",
       "      <td>0</td>\n",
       "      <td>0</td>\n",
       "      <td>0</td>\n",
       "      <td>0</td>\n",
       "      <td>0</td>\n",
       "      <td>...</td>\n",
       "      <td>0</td>\n",
       "      <td>0</td>\n",
       "      <td>0</td>\n",
       "      <td>0</td>\n",
       "      <td>0</td>\n",
       "      <td>0</td>\n",
       "      <td>0</td>\n",
       "      <td>0</td>\n",
       "      <td>0</td>\n",
       "      <td>0</td>\n",
       "    </tr>\n",
       "    <tr>\n",
       "      <th>CDK5</th>\n",
       "      <td>0</td>\n",
       "      <td>0</td>\n",
       "      <td>0</td>\n",
       "      <td>0</td>\n",
       "      <td>0</td>\n",
       "      <td>0</td>\n",
       "      <td>0</td>\n",
       "      <td>0</td>\n",
       "      <td>0</td>\n",
       "      <td>0</td>\n",
       "      <td>...</td>\n",
       "      <td>0</td>\n",
       "      <td>0</td>\n",
       "      <td>0</td>\n",
       "      <td>0</td>\n",
       "      <td>0</td>\n",
       "      <td>0</td>\n",
       "      <td>0</td>\n",
       "      <td>0</td>\n",
       "      <td>0</td>\n",
       "      <td>0</td>\n",
       "    </tr>\n",
       "    <tr>\n",
       "      <th>ZNF701</th>\n",
       "      <td>0</td>\n",
       "      <td>0</td>\n",
       "      <td>0</td>\n",
       "      <td>0</td>\n",
       "      <td>0</td>\n",
       "      <td>0</td>\n",
       "      <td>0</td>\n",
       "      <td>0</td>\n",
       "      <td>0</td>\n",
       "      <td>0</td>\n",
       "      <td>...</td>\n",
       "      <td>0</td>\n",
       "      <td>0</td>\n",
       "      <td>0</td>\n",
       "      <td>0</td>\n",
       "      <td>0</td>\n",
       "      <td>0</td>\n",
       "      <td>0</td>\n",
       "      <td>0</td>\n",
       "      <td>0</td>\n",
       "      <td>0</td>\n",
       "    </tr>\n",
       "    <tr>\n",
       "      <th>PRSS1</th>\n",
       "      <td>0</td>\n",
       "      <td>0</td>\n",
       "      <td>0</td>\n",
       "      <td>0</td>\n",
       "      <td>0</td>\n",
       "      <td>0</td>\n",
       "      <td>0</td>\n",
       "      <td>0</td>\n",
       "      <td>0</td>\n",
       "      <td>0</td>\n",
       "      <td>...</td>\n",
       "      <td>0</td>\n",
       "      <td>0</td>\n",
       "      <td>0</td>\n",
       "      <td>0</td>\n",
       "      <td>0</td>\n",
       "      <td>0</td>\n",
       "      <td>0</td>\n",
       "      <td>0</td>\n",
       "      <td>0</td>\n",
       "      <td>0</td>\n",
       "    </tr>\n",
       "    <tr>\n",
       "      <th>PRG4</th>\n",
       "      <td>0</td>\n",
       "      <td>0</td>\n",
       "      <td>0</td>\n",
       "      <td>0</td>\n",
       "      <td>0</td>\n",
       "      <td>0</td>\n",
       "      <td>0</td>\n",
       "      <td>0</td>\n",
       "      <td>0</td>\n",
       "      <td>0</td>\n",
       "      <td>...</td>\n",
       "      <td>0</td>\n",
       "      <td>0</td>\n",
       "      <td>0</td>\n",
       "      <td>0</td>\n",
       "      <td>0</td>\n",
       "      <td>0</td>\n",
       "      <td>0</td>\n",
       "      <td>0</td>\n",
       "      <td>0</td>\n",
       "      <td>0</td>\n",
       "    </tr>\n",
       "  </tbody>\n",
       "</table>\n",
       "<p>5 rows × 125 columns</p>\n",
       "</div>"
      ],
      "text/plain": [
       "        required by  inhibited by  sulfated by  cooperates with  \\\n",
       "EZH2              0             0            0                0   \n",
       "CDK5              0             0            0                0   \n",
       "ZNF701            0             0            0                0   \n",
       "PRSS1             0             0            0                0   \n",
       "PRG4              0             0            0                0   \n",
       "\n",
       "        induces ubiquitination of  upregulates  recruits  localizes with  \\\n",
       "EZH2                            0            0         0               0   \n",
       "CDK5                            0            0         0               0   \n",
       "ZNF701                          0            0         0               0   \n",
       "PRSS1                           0            0         0               0   \n",
       "PRG4                            0            0         0               0   \n",
       "\n",
       "        relocalized by  decreases phosphorylation of    ...     \\\n",
       "EZH2                 0                             0    ...      \n",
       "CDK5                 0                             0    ...      \n",
       "ZNF701               0                             0    ...      \n",
       "PRSS1                0                             0    ...      \n",
       "PRG4                 0                             0    ...      \n",
       "\n",
       "        myristoylated by  incorporates  affects  imported by  \\\n",
       "EZH2                   0             0        0            0   \n",
       "CDK5                   0             0        0            0   \n",
       "ZNF701                 0             0        0            0   \n",
       "PRSS1                  0             0        0            0   \n",
       "PRG4                   0             0        0            0   \n",
       "\n",
       "        enhances polymerization of  restricted by  blocks  processed by  \\\n",
       "EZH2                             0              0       0             0   \n",
       "CDK5                             0              0       0             0   \n",
       "ZNF701                           0              0       0             0   \n",
       "PRSS1                            0              0       0             0   \n",
       "PRG4                             0              0       0             0   \n",
       "\n",
       "        cleavage induced by  packages  \n",
       "EZH2                      0         0  \n",
       "CDK5                      0         0  \n",
       "ZNF701                    0         0  \n",
       "PRSS1                     0         0  \n",
       "PRG4                      0         0  \n",
       "\n",
       "[5 rows x 125 columns]"
      ]
     },
     "execution_count": 39,
     "metadata": {},
     "output_type": "execute_result"
    }
   ],
   "source": [
    "binary_matrix.head()"
   ]
  },
  {
   "cell_type": "code",
   "execution_count": 40,
   "metadata": {},
   "outputs": [
    {
     "data": {
      "text/plain": [
       "(4368, 125)"
      ]
     },
     "execution_count": 40,
     "metadata": {},
     "output_type": "execute_result"
    }
   ],
   "source": [
    "binary_matrix.shape"
   ]
  },
  {
   "cell_type": "markdown",
   "metadata": {},
   "source": [
    "# Save Binary Matrix"
   ]
  },
  {
   "cell_type": "code",
   "execution_count": 41,
   "metadata": {
    "collapsed": true
   },
   "outputs": [],
   "source": [
    "filename = '~/./Documents/Harmonizome/GeneRIF/Output/generif_binary_matrix_%s.tsv.zip'% str(datetime.date.today())[0:7].replace('-', '_')\n",
    "binary_matrix.to_csv(filename, sep='\\t', compression='gzip')"
   ]
  },
  {
   "cell_type": "markdown",
   "metadata": {},
   "source": [
    "# Create Gene Set Library"
   ]
  },
  {
   "cell_type": "code",
   "execution_count": 42,
   "metadata": {
    "collapsed": true
   },
   "outputs": [],
   "source": [
    "path = '/Users/moshesilverstein/Documents/Harmonizome/GeneRIF/Output/'"
   ]
  },
  {
   "cell_type": "code",
   "execution_count": 43,
   "metadata": {
    "collapsed": true
   },
   "outputs": [],
   "source": [
    "name = 'generif_gene_set'"
   ]
  },
  {
   "cell_type": "code",
   "execution_count": 44,
   "metadata": {},
   "outputs": [
    {
     "name": "stdout",
     "output_type": "stream",
     "text": [
      "Progeres: 100%  125 Out of 125   \r"
     ]
    }
   ],
   "source": [
    "uf.createUpGeneSetLib(binary_matrix, path, name)"
   ]
  },
  {
   "cell_type": "markdown",
   "metadata": {},
   "source": [
    "# Create Attribute Library"
   ]
  },
  {
   "cell_type": "code",
   "execution_count": 45,
   "metadata": {
    "collapsed": true
   },
   "outputs": [],
   "source": [
    "path = '/Users/moshesilverstein/Documents/Harmonizome/GeneRIF/Output/'"
   ]
  },
  {
   "cell_type": "code",
   "execution_count": 46,
   "metadata": {
    "collapsed": true
   },
   "outputs": [],
   "source": [
    "name = 'generif_attribute_set'"
   ]
  },
  {
   "cell_type": "code",
   "execution_count": 47,
   "metadata": {},
   "outputs": [
    {
     "name": "stdout",
     "output_type": "stream",
     "text": [
      "Progeres: 100%  4368 Out of 4368   \r"
     ]
    }
   ],
   "source": [
    "uf.createUpAttributeSetLib(binary_matrix, path, name)"
   ]
  },
  {
   "cell_type": "markdown",
   "metadata": {},
   "source": [
    "# Create Gene Similarity Matrix"
   ]
  },
  {
   "cell_type": "code",
   "execution_count": 48,
   "metadata": {
    "collapsed": true
   },
   "outputs": [],
   "source": [
    "gene_similarity_matix = uf.createSimilarityMatrix(binary_matrix, 'jaccard')"
   ]
  },
  {
   "cell_type": "code",
   "execution_count": 49,
   "metadata": {},
   "outputs": [
    {
     "data": {
      "text/html": [
       "<div>\n",
       "<table border=\"1\" class=\"dataframe\">\n",
       "  <thead>\n",
       "    <tr style=\"text-align: right;\">\n",
       "      <th></th>\n",
       "      <th>EZH2</th>\n",
       "      <th>CDK5</th>\n",
       "      <th>ZNF701</th>\n",
       "      <th>PRSS1</th>\n",
       "      <th>PRG4</th>\n",
       "      <th>TIMM8A</th>\n",
       "      <th>SEPSECS</th>\n",
       "      <th>KRTCAP3</th>\n",
       "      <th>ERCC3</th>\n",
       "      <th>WDR5</th>\n",
       "      <th>...</th>\n",
       "      <th>FUT1</th>\n",
       "      <th>GLUD2</th>\n",
       "      <th>ANXA1</th>\n",
       "      <th>RARA</th>\n",
       "      <th>MYO1G</th>\n",
       "      <th>GNS</th>\n",
       "      <th>MS4A6A</th>\n",
       "      <th>USP26</th>\n",
       "      <th>CCND2</th>\n",
       "      <th>MAVS</th>\n",
       "    </tr>\n",
       "  </thead>\n",
       "  <tbody>\n",
       "    <tr>\n",
       "      <th>EZH2</th>\n",
       "      <td>1.0</td>\n",
       "      <td>0.0</td>\n",
       "      <td>1.0</td>\n",
       "      <td>0.0</td>\n",
       "      <td>0.0</td>\n",
       "      <td>0.500000</td>\n",
       "      <td>0.0</td>\n",
       "      <td>1.0</td>\n",
       "      <td>0.142857</td>\n",
       "      <td>0.0</td>\n",
       "      <td>...</td>\n",
       "      <td>0.0</td>\n",
       "      <td>0.0</td>\n",
       "      <td>0.0</td>\n",
       "      <td>0.0</td>\n",
       "      <td>0.0</td>\n",
       "      <td>0.0</td>\n",
       "      <td>0.0</td>\n",
       "      <td>1.0</td>\n",
       "      <td>0.0</td>\n",
       "      <td>0.0</td>\n",
       "    </tr>\n",
       "    <tr>\n",
       "      <th>CDK5</th>\n",
       "      <td>0.0</td>\n",
       "      <td>1.0</td>\n",
       "      <td>0.0</td>\n",
       "      <td>0.0</td>\n",
       "      <td>0.0</td>\n",
       "      <td>0.166667</td>\n",
       "      <td>0.2</td>\n",
       "      <td>0.0</td>\n",
       "      <td>0.090909</td>\n",
       "      <td>0.2</td>\n",
       "      <td>...</td>\n",
       "      <td>0.0</td>\n",
       "      <td>0.2</td>\n",
       "      <td>0.2</td>\n",
       "      <td>0.0</td>\n",
       "      <td>0.2</td>\n",
       "      <td>0.0</td>\n",
       "      <td>0.2</td>\n",
       "      <td>0.0</td>\n",
       "      <td>0.0</td>\n",
       "      <td>0.0</td>\n",
       "    </tr>\n",
       "    <tr>\n",
       "      <th>ZNF701</th>\n",
       "      <td>1.0</td>\n",
       "      <td>0.0</td>\n",
       "      <td>1.0</td>\n",
       "      <td>0.0</td>\n",
       "      <td>0.0</td>\n",
       "      <td>0.500000</td>\n",
       "      <td>0.0</td>\n",
       "      <td>1.0</td>\n",
       "      <td>0.142857</td>\n",
       "      <td>0.0</td>\n",
       "      <td>...</td>\n",
       "      <td>0.0</td>\n",
       "      <td>0.0</td>\n",
       "      <td>0.0</td>\n",
       "      <td>0.0</td>\n",
       "      <td>0.0</td>\n",
       "      <td>0.0</td>\n",
       "      <td>0.0</td>\n",
       "      <td>1.0</td>\n",
       "      <td>0.0</td>\n",
       "      <td>0.0</td>\n",
       "    </tr>\n",
       "    <tr>\n",
       "      <th>PRSS1</th>\n",
       "      <td>0.0</td>\n",
       "      <td>0.0</td>\n",
       "      <td>0.0</td>\n",
       "      <td>1.0</td>\n",
       "      <td>0.0</td>\n",
       "      <td>0.000000</td>\n",
       "      <td>0.0</td>\n",
       "      <td>0.0</td>\n",
       "      <td>0.000000</td>\n",
       "      <td>0.0</td>\n",
       "      <td>...</td>\n",
       "      <td>0.0</td>\n",
       "      <td>0.0</td>\n",
       "      <td>0.0</td>\n",
       "      <td>0.0</td>\n",
       "      <td>0.0</td>\n",
       "      <td>0.0</td>\n",
       "      <td>0.0</td>\n",
       "      <td>0.0</td>\n",
       "      <td>0.0</td>\n",
       "      <td>0.0</td>\n",
       "    </tr>\n",
       "    <tr>\n",
       "      <th>PRG4</th>\n",
       "      <td>0.0</td>\n",
       "      <td>0.0</td>\n",
       "      <td>0.0</td>\n",
       "      <td>0.0</td>\n",
       "      <td>1.0</td>\n",
       "      <td>0.000000</td>\n",
       "      <td>0.0</td>\n",
       "      <td>0.0</td>\n",
       "      <td>0.142857</td>\n",
       "      <td>0.0</td>\n",
       "      <td>...</td>\n",
       "      <td>0.0</td>\n",
       "      <td>0.0</td>\n",
       "      <td>0.0</td>\n",
       "      <td>0.0</td>\n",
       "      <td>0.0</td>\n",
       "      <td>0.0</td>\n",
       "      <td>0.0</td>\n",
       "      <td>0.0</td>\n",
       "      <td>0.0</td>\n",
       "      <td>0.0</td>\n",
       "    </tr>\n",
       "  </tbody>\n",
       "</table>\n",
       "<p>5 rows × 4368 columns</p>\n",
       "</div>"
      ],
      "text/plain": [
       "        EZH2  CDK5  ZNF701  PRSS1  PRG4    TIMM8A  SEPSECS  KRTCAP3     ERCC3  \\\n",
       "EZH2     1.0   0.0     1.0    0.0   0.0  0.500000      0.0      1.0  0.142857   \n",
       "CDK5     0.0   1.0     0.0    0.0   0.0  0.166667      0.2      0.0  0.090909   \n",
       "ZNF701   1.0   0.0     1.0    0.0   0.0  0.500000      0.0      1.0  0.142857   \n",
       "PRSS1    0.0   0.0     0.0    1.0   0.0  0.000000      0.0      0.0  0.000000   \n",
       "PRG4     0.0   0.0     0.0    0.0   1.0  0.000000      0.0      0.0  0.142857   \n",
       "\n",
       "        WDR5  ...   FUT1  GLUD2  ANXA1  RARA  MYO1G  GNS  MS4A6A  USP26  \\\n",
       "EZH2     0.0  ...    0.0    0.0    0.0   0.0    0.0  0.0     0.0    1.0   \n",
       "CDK5     0.2  ...    0.0    0.2    0.2   0.0    0.2  0.0     0.2    0.0   \n",
       "ZNF701   0.0  ...    0.0    0.0    0.0   0.0    0.0  0.0     0.0    1.0   \n",
       "PRSS1    0.0  ...    0.0    0.0    0.0   0.0    0.0  0.0     0.0    0.0   \n",
       "PRG4     0.0  ...    0.0    0.0    0.0   0.0    0.0  0.0     0.0    0.0   \n",
       "\n",
       "        CCND2  MAVS  \n",
       "EZH2      0.0   0.0  \n",
       "CDK5      0.0   0.0  \n",
       "ZNF701    0.0   0.0  \n",
       "PRSS1     0.0   0.0  \n",
       "PRG4      0.0   0.0  \n",
       "\n",
       "[5 rows x 4368 columns]"
      ]
     },
     "execution_count": 49,
     "metadata": {},
     "output_type": "execute_result"
    }
   ],
   "source": [
    "gene_similarity_matix.head()"
   ]
  },
  {
   "cell_type": "markdown",
   "metadata": {},
   "source": [
    "# Save Gene Similarity Matrix"
   ]
  },
  {
   "cell_type": "code",
   "execution_count": 50,
   "metadata": {
    "collapsed": true
   },
   "outputs": [],
   "source": [
    "filename = '~/./Documents/Harmonizome/GeneRIF/Output/generif_gene_similarity_matix_%s.tsv.zip'% str(datetime.date.today())[0:7].replace('-', '_')\n",
    "gene_similarity_matix.to_csv(filename, sep='\\t', compression='gzip')"
   ]
  },
  {
   "cell_type": "markdown",
   "metadata": {},
   "source": [
    "# Create Attribute Similarity matrix"
   ]
  },
  {
   "cell_type": "code",
   "execution_count": 51,
   "metadata": {
    "collapsed": true
   },
   "outputs": [],
   "source": [
    "attribute_similarity_matix = uf.createSimilarityMatrix(binary_matrix.T, 'jaccard')"
   ]
  },
  {
   "cell_type": "code",
   "execution_count": 52,
   "metadata": {},
   "outputs": [
    {
     "data": {
      "text/html": [
       "<div>\n",
       "<table border=\"1\" class=\"dataframe\">\n",
       "  <thead>\n",
       "    <tr style=\"text-align: right;\">\n",
       "      <th></th>\n",
       "      <th>required by</th>\n",
       "      <th>inhibited by</th>\n",
       "      <th>sulfated by</th>\n",
       "      <th>cooperates with</th>\n",
       "      <th>induces ubiquitination of</th>\n",
       "      <th>upregulates</th>\n",
       "      <th>recruits</th>\n",
       "      <th>localizes with</th>\n",
       "      <th>relocalized by</th>\n",
       "      <th>decreases phosphorylation of</th>\n",
       "      <th>...</th>\n",
       "      <th>myristoylated by</th>\n",
       "      <th>incorporates</th>\n",
       "      <th>affects</th>\n",
       "      <th>imported by</th>\n",
       "      <th>enhances polymerization of</th>\n",
       "      <th>restricted by</th>\n",
       "      <th>blocks</th>\n",
       "      <th>processed by</th>\n",
       "      <th>cleavage induced by</th>\n",
       "      <th>packages</th>\n",
       "    </tr>\n",
       "  </thead>\n",
       "  <tbody>\n",
       "    <tr>\n",
       "      <th>required by</th>\n",
       "      <td>1.000000</td>\n",
       "      <td>0.002070</td>\n",
       "      <td>0.0</td>\n",
       "      <td>0.024194</td>\n",
       "      <td>0.000000</td>\n",
       "      <td>0.000939</td>\n",
       "      <td>0.000000</td>\n",
       "      <td>0.0</td>\n",
       "      <td>0.000000</td>\n",
       "      <td>0.000000</td>\n",
       "      <td>...</td>\n",
       "      <td>0.0</td>\n",
       "      <td>0.000000</td>\n",
       "      <td>0.000000</td>\n",
       "      <td>0.000000</td>\n",
       "      <td>0.0</td>\n",
       "      <td>0.0</td>\n",
       "      <td>0.000000</td>\n",
       "      <td>0.000000</td>\n",
       "      <td>0.000000</td>\n",
       "      <td>0.000000</td>\n",
       "    </tr>\n",
       "    <tr>\n",
       "      <th>inhibited by</th>\n",
       "      <td>0.002070</td>\n",
       "      <td>1.000000</td>\n",
       "      <td>0.0</td>\n",
       "      <td>0.056042</td>\n",
       "      <td>0.010373</td>\n",
       "      <td>0.113357</td>\n",
       "      <td>0.032381</td>\n",
       "      <td>0.0</td>\n",
       "      <td>0.006148</td>\n",
       "      <td>0.010081</td>\n",
       "      <td>...</td>\n",
       "      <td>0.0</td>\n",
       "      <td>0.044326</td>\n",
       "      <td>0.006211</td>\n",
       "      <td>0.010121</td>\n",
       "      <td>0.0</td>\n",
       "      <td>0.0</td>\n",
       "      <td>0.004158</td>\n",
       "      <td>0.003676</td>\n",
       "      <td>0.002083</td>\n",
       "      <td>0.002083</td>\n",
       "    </tr>\n",
       "    <tr>\n",
       "      <th>sulfated by</th>\n",
       "      <td>0.000000</td>\n",
       "      <td>0.000000</td>\n",
       "      <td>1.0</td>\n",
       "      <td>0.000000</td>\n",
       "      <td>0.000000</td>\n",
       "      <td>0.000000</td>\n",
       "      <td>0.000000</td>\n",
       "      <td>0.0</td>\n",
       "      <td>0.000000</td>\n",
       "      <td>0.000000</td>\n",
       "      <td>...</td>\n",
       "      <td>0.0</td>\n",
       "      <td>0.000000</td>\n",
       "      <td>0.000000</td>\n",
       "      <td>0.000000</td>\n",
       "      <td>0.0</td>\n",
       "      <td>0.0</td>\n",
       "      <td>0.000000</td>\n",
       "      <td>0.000000</td>\n",
       "      <td>0.000000</td>\n",
       "      <td>0.000000</td>\n",
       "    </tr>\n",
       "    <tr>\n",
       "      <th>cooperates with</th>\n",
       "      <td>0.024194</td>\n",
       "      <td>0.056042</td>\n",
       "      <td>0.0</td>\n",
       "      <td>1.000000</td>\n",
       "      <td>0.007752</td>\n",
       "      <td>0.054270</td>\n",
       "      <td>0.063218</td>\n",
       "      <td>0.0</td>\n",
       "      <td>0.000000</td>\n",
       "      <td>0.035971</td>\n",
       "      <td>...</td>\n",
       "      <td>0.0</td>\n",
       "      <td>0.008696</td>\n",
       "      <td>0.007812</td>\n",
       "      <td>0.007092</td>\n",
       "      <td>0.0</td>\n",
       "      <td>0.0</td>\n",
       "      <td>0.000000</td>\n",
       "      <td>0.000000</td>\n",
       "      <td>0.008130</td>\n",
       "      <td>0.000000</td>\n",
       "    </tr>\n",
       "    <tr>\n",
       "      <th>induces ubiquitination of</th>\n",
       "      <td>0.000000</td>\n",
       "      <td>0.010373</td>\n",
       "      <td>0.0</td>\n",
       "      <td>0.007752</td>\n",
       "      <td>1.000000</td>\n",
       "      <td>0.001874</td>\n",
       "      <td>0.014706</td>\n",
       "      <td>0.0</td>\n",
       "      <td>0.000000</td>\n",
       "      <td>0.000000</td>\n",
       "      <td>...</td>\n",
       "      <td>0.0</td>\n",
       "      <td>0.026549</td>\n",
       "      <td>0.083333</td>\n",
       "      <td>0.000000</td>\n",
       "      <td>0.0</td>\n",
       "      <td>0.0</td>\n",
       "      <td>0.000000</td>\n",
       "      <td>0.000000</td>\n",
       "      <td>0.000000</td>\n",
       "      <td>0.142857</td>\n",
       "    </tr>\n",
       "  </tbody>\n",
       "</table>\n",
       "<p>5 rows × 125 columns</p>\n",
       "</div>"
      ],
      "text/plain": [
       "                           required by  inhibited by  sulfated by  \\\n",
       "required by                   1.000000      0.002070          0.0   \n",
       "inhibited by                  0.002070      1.000000          0.0   \n",
       "sulfated by                   0.000000      0.000000          1.0   \n",
       "cooperates with               0.024194      0.056042          0.0   \n",
       "induces ubiquitination of     0.000000      0.010373          0.0   \n",
       "\n",
       "                           cooperates with  induces ubiquitination of  \\\n",
       "required by                       0.024194                   0.000000   \n",
       "inhibited by                      0.056042                   0.010373   \n",
       "sulfated by                       0.000000                   0.000000   \n",
       "cooperates with                   1.000000                   0.007752   \n",
       "induces ubiquitination of         0.007752                   1.000000   \n",
       "\n",
       "                           upregulates  recruits  localizes with  \\\n",
       "required by                   0.000939  0.000000             0.0   \n",
       "inhibited by                  0.113357  0.032381             0.0   \n",
       "sulfated by                   0.000000  0.000000             0.0   \n",
       "cooperates with               0.054270  0.063218             0.0   \n",
       "induces ubiquitination of     0.001874  0.014706             0.0   \n",
       "\n",
       "                           relocalized by  decreases phosphorylation of  \\\n",
       "required by                      0.000000                      0.000000   \n",
       "inhibited by                     0.006148                      0.010081   \n",
       "sulfated by                      0.000000                      0.000000   \n",
       "cooperates with                  0.000000                      0.035971   \n",
       "induces ubiquitination of        0.000000                      0.000000   \n",
       "\n",
       "                             ...     myristoylated by  incorporates   affects  \\\n",
       "required by                  ...                  0.0      0.000000  0.000000   \n",
       "inhibited by                 ...                  0.0      0.044326  0.006211   \n",
       "sulfated by                  ...                  0.0      0.000000  0.000000   \n",
       "cooperates with              ...                  0.0      0.008696  0.007812   \n",
       "induces ubiquitination of    ...                  0.0      0.026549  0.083333   \n",
       "\n",
       "                           imported by  enhances polymerization of  \\\n",
       "required by                   0.000000                         0.0   \n",
       "inhibited by                  0.010121                         0.0   \n",
       "sulfated by                   0.000000                         0.0   \n",
       "cooperates with               0.007092                         0.0   \n",
       "induces ubiquitination of     0.000000                         0.0   \n",
       "\n",
       "                           restricted by    blocks  processed by  \\\n",
       "required by                          0.0  0.000000      0.000000   \n",
       "inhibited by                         0.0  0.004158      0.003676   \n",
       "sulfated by                          0.0  0.000000      0.000000   \n",
       "cooperates with                      0.0  0.000000      0.000000   \n",
       "induces ubiquitination of            0.0  0.000000      0.000000   \n",
       "\n",
       "                           cleavage induced by  packages  \n",
       "required by                           0.000000  0.000000  \n",
       "inhibited by                          0.002083  0.002083  \n",
       "sulfated by                           0.000000  0.000000  \n",
       "cooperates with                       0.008130  0.000000  \n",
       "induces ubiquitination of             0.000000  0.142857  \n",
       "\n",
       "[5 rows x 125 columns]"
      ]
     },
     "execution_count": 52,
     "metadata": {},
     "output_type": "execute_result"
    }
   ],
   "source": [
    "attribute_similarity_matix.head()"
   ]
  },
  {
   "cell_type": "markdown",
   "metadata": {},
   "source": [
    "# Save Attribute Similarity Matrix"
   ]
  },
  {
   "cell_type": "code",
   "execution_count": 53,
   "metadata": {
    "collapsed": true
   },
   "outputs": [],
   "source": [
    "filename = '~/./Documents/Harmonizome/GeneRIF/Output/generif_attribute_similarity_matix_%s.tsv.zip'% str(datetime.date.today())[0:7].replace('-', '_')\n",
    "attribute_similarity_matix.to_csv(filename, sep='\\t', compression='gzip')"
   ]
  },
  {
   "cell_type": "markdown",
   "metadata": {},
   "source": [
    "# Create Gene List"
   ]
  },
  {
   "cell_type": "code",
   "execution_count": 61,
   "metadata": {},
   "outputs": [
    {
     "name": "stdout",
     "output_type": "stream",
     "text": [
      "Progeres: 100%  4368 Out of 4368   \r"
     ]
    }
   ],
   "source": [
    "gene_list = uf.createGeneList(binary_matrix)"
   ]
  },
  {
   "cell_type": "code",
   "execution_count": 62,
   "metadata": {},
   "outputs": [
    {
     "data": {
      "text/html": [
       "<div>\n",
       "<table border=\"1\" class=\"dataframe\">\n",
       "  <thead>\n",
       "    <tr style=\"text-align: right;\">\n",
       "      <th></th>\n",
       "      <th>GeneSym</th>\n",
       "      <th>GeneID</th>\n",
       "    </tr>\n",
       "  </thead>\n",
       "  <tbody>\n",
       "    <tr>\n",
       "      <th>0</th>\n",
       "      <td>EZH2</td>\n",
       "      <td>2146</td>\n",
       "    </tr>\n",
       "    <tr>\n",
       "      <th>1</th>\n",
       "      <td>CDK5</td>\n",
       "      <td>1020</td>\n",
       "    </tr>\n",
       "    <tr>\n",
       "      <th>2</th>\n",
       "      <td>ZNF701</td>\n",
       "      <td>55762</td>\n",
       "    </tr>\n",
       "    <tr>\n",
       "      <th>3</th>\n",
       "      <td>PRSS1</td>\n",
       "      <td>5644</td>\n",
       "    </tr>\n",
       "    <tr>\n",
       "      <th>4</th>\n",
       "      <td>PRG4</td>\n",
       "      <td>10216</td>\n",
       "    </tr>\n",
       "  </tbody>\n",
       "</table>\n",
       "</div>"
      ],
      "text/plain": [
       "  GeneSym GeneID\n",
       "0    EZH2   2146\n",
       "1    CDK5   1020\n",
       "2  ZNF701  55762\n",
       "3   PRSS1   5644\n",
       "4    PRG4  10216"
      ]
     },
     "execution_count": 62,
     "metadata": {},
     "output_type": "execute_result"
    }
   ],
   "source": [
    "gene_list.head()"
   ]
  },
  {
   "cell_type": "code",
   "execution_count": 63,
   "metadata": {},
   "outputs": [
    {
     "data": {
      "text/plain": [
       "(4368, 2)"
      ]
     },
     "execution_count": 63,
     "metadata": {},
     "output_type": "execute_result"
    }
   ],
   "source": [
    "gene_list.shape"
   ]
  },
  {
   "cell_type": "markdown",
   "metadata": {},
   "source": [
    "# Save Gene List"
   ]
  },
  {
   "cell_type": "code",
   "execution_count": 64,
   "metadata": {
    "collapsed": true
   },
   "outputs": [],
   "source": [
    "filename = '~/./Documents/Harmonizome/GeneRIF/Output/generif_gene_list_%s.tsv.zip'% str(datetime.date.today())[0:7].replace('-', '_')\n",
    "gene_list.to_csv(filename, sep='\\t', index=False, compression='gzip')"
   ]
  },
  {
   "cell_type": "markdown",
   "metadata": {},
   "source": [
    "# Create Attribute List"
   ]
  },
  {
   "cell_type": "code",
   "execution_count": 65,
   "metadata": {
    "collapsed": true
   },
   "outputs": [],
   "source": [
    "attribute_list = uf.createAttributeList(binary_matrix)"
   ]
  },
  {
   "cell_type": "code",
   "execution_count": 66,
   "metadata": {},
   "outputs": [
    {
     "data": {
      "text/html": [
       "<div>\n",
       "<table border=\"1\" class=\"dataframe\">\n",
       "  <thead>\n",
       "    <tr style=\"text-align: right;\">\n",
       "      <th></th>\n",
       "      <th>Attributes</th>\n",
       "    </tr>\n",
       "  </thead>\n",
       "  <tbody>\n",
       "    <tr>\n",
       "      <th>0</th>\n",
       "      <td>required by</td>\n",
       "    </tr>\n",
       "    <tr>\n",
       "      <th>1</th>\n",
       "      <td>inhibited by</td>\n",
       "    </tr>\n",
       "    <tr>\n",
       "      <th>2</th>\n",
       "      <td>sulfated by</td>\n",
       "    </tr>\n",
       "    <tr>\n",
       "      <th>3</th>\n",
       "      <td>cooperates with</td>\n",
       "    </tr>\n",
       "    <tr>\n",
       "      <th>4</th>\n",
       "      <td>induces ubiquitination of</td>\n",
       "    </tr>\n",
       "  </tbody>\n",
       "</table>\n",
       "</div>"
      ],
      "text/plain": [
       "                  Attributes\n",
       "0                required by\n",
       "1               inhibited by\n",
       "2                sulfated by\n",
       "3            cooperates with\n",
       "4  induces ubiquitination of"
      ]
     },
     "execution_count": 66,
     "metadata": {},
     "output_type": "execute_result"
    }
   ],
   "source": [
    "attribute_list.head()"
   ]
  },
  {
   "cell_type": "code",
   "execution_count": 67,
   "metadata": {},
   "outputs": [
    {
     "data": {
      "text/plain": [
       "(125, 1)"
      ]
     },
     "execution_count": 67,
     "metadata": {},
     "output_type": "execute_result"
    }
   ],
   "source": [
    "attribute_list.shape"
   ]
  },
  {
   "cell_type": "markdown",
   "metadata": {},
   "source": [
    "# Save Attribute List"
   ]
  },
  {
   "cell_type": "code",
   "execution_count": 68,
   "metadata": {
    "collapsed": true
   },
   "outputs": [],
   "source": [
    "filename = '~/./Documents/Harmonizome/GeneRIF/Output/generif_attribute_list_%s.tsv.zip'% str(datetime.date.today())[0:7].replace('-', '_')\n",
    "attribute_list.to_csv(filename, sep='\\t', index=False, compression='gzip')"
   ]
  },
  {
   "cell_type": "markdown",
   "metadata": {},
   "source": [
    "# Create Gene-Attribute Edge List"
   ]
  },
  {
   "cell_type": "code",
   "execution_count": 69,
   "metadata": {
    "collapsed": true
   },
   "outputs": [],
   "source": [
    "path = '/Users/moshesilverstein/Documents/Harmonizome/GeneRIF/Output/'"
   ]
  },
  {
   "cell_type": "code",
   "execution_count": 70,
   "metadata": {
    "collapsed": true
   },
   "outputs": [],
   "source": [
    "name = 'generif_gene_attribute_edge_list'"
   ]
  },
  {
   "cell_type": "code",
   "execution_count": 71,
   "metadata": {},
   "outputs": [
    {
     "name": "stdout",
     "output_type": "stream",
     "text": [
      "Progeres: 100%  125 Out of 125   \n",
      "\n",
      " The number of statisticaly relevent gene-attribute associations is: 9452\n"
     ]
    }
   ],
   "source": [
    "uf.createGeneAttributeEdgeList(binary_matrix, gene_list, path, name)"
   ]
  }
 ],
 "metadata": {
  "kernelspec": {
   "display_name": "Python [default]",
   "language": "python",
   "name": "python3"
  },
  "language_info": {
   "codemirror_mode": {
    "name": "ipython",
    "version": 3
   },
   "file_extension": ".py",
   "mimetype": "text/x-python",
   "name": "python",
   "nbconvert_exporter": "python",
   "pygments_lexer": "ipython3",
   "version": "3.5.2"
  }
 },
 "nbformat": 4,
 "nbformat_minor": 2
}
