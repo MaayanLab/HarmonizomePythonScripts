{
 "cells": [
  {
   "cell_type": "markdown",
   "metadata": {},
   "source": [
    "# Cancer Cell Line Encyclopedia (CCLE)"
   ]
  },
  {
   "cell_type": "markdown",
   "metadata": {},
   "source": [
    "Author: Moshe Silverstein <br/>\n",
    "Date: 7-17 <br/>\n",
    "Data Source: http://software.broadinstitute.org/software/cprg/?q=node/11"
   ]
  },
  {
   "cell_type": "code",
   "execution_count": 1,
   "metadata": {
    "collapsed": true
   },
   "outputs": [],
   "source": [
    "import sys, datetime, os\n",
    "import numpy as np\n",
    "import pandas as pd\n",
    "import importlib\n",
    "import untility_functions as uf\n",
    "import matplotlib.pyplot as plt\n",
    "%matplotlib inline"
   ]
  },
  {
   "cell_type": "code",
   "execution_count": 2,
   "metadata": {
    "collapsed": true
   },
   "outputs": [],
   "source": [
    "from clustergrammer_widget import *\n",
    "net = Network(clustergrammer_widget)"
   ]
  },
  {
   "cell_type": "code",
   "execution_count": 76,
   "metadata": {},
   "outputs": [
    {
     "data": {
      "text/plain": [
       "<module 'untility_functions' from '/Users/moshesilverstein/Documents/Harmonizome/CCLE/untility_functions.py'>"
      ]
     },
     "execution_count": 76,
     "metadata": {},
     "output_type": "execute_result"
    }
   ],
   "source": [
    "importlib.reload(uf)"
   ]
  },
  {
   "cell_type": "markdown",
   "metadata": {},
   "source": [
    "# Versions Of Modules In Use"
   ]
  },
  {
   "cell_type": "code",
   "execution_count": 4,
   "metadata": {},
   "outputs": [
    {
     "data": {
      "application/json": {
       "Software versions": [
        {
         "module": "Python",
         "version": "3.5.2 64bit [GCC 4.2.1 Compatible Apple LLVM 4.2 (clang-425.0.28)]"
        },
        {
         "module": "IPython",
         "version": "5.3.0"
        },
        {
         "module": "OS",
         "version": "Darwin 17.2.0 x86_64 i386 64bit"
        },
        {
         "module": "numpy",
         "version": "1.13.1"
        },
        {
         "module": "pandas",
         "version": "0.21.0"
        },
        {
         "module": "clustergrammer_widget",
         "version": "1.9.0"
        }
       ]
      },
      "text/html": [
       "<table><tr><th>Software</th><th>Version</th></tr><tr><td>Python</td><td>3.5.2 64bit [GCC 4.2.1 Compatible Apple LLVM 4.2 (clang-425.0.28)]</td></tr><tr><td>IPython</td><td>5.3.0</td></tr><tr><td>OS</td><td>Darwin 17.2.0 x86_64 i386 64bit</td></tr><tr><td>numpy</td><td>1.13.1</td></tr><tr><td>pandas</td><td>0.21.0</td></tr><tr><td>clustergrammer_widget</td><td>1.9.0</td></tr><tr><td colspan='2'>Mon Feb 12 15:05:47 2018 EST</td></tr></table>"
      ],
      "text/latex": [
       "\\begin{tabular}{|l|l|}\\hline\n",
       "{\\bf Software} & {\\bf Version} \\\\ \\hline\\hline\n",
       "Python & 3.5.2 64bit [GCC 4.2.1 Compatible Apple LLVM 4.2 (clang-425.0.28)] \\\\ \\hline\n",
       "IPython & 5.3.0 \\\\ \\hline\n",
       "OS & Darwin 17.2.0 x86\\_64 i386 64bit \\\\ \\hline\n",
       "numpy & 1.13.1 \\\\ \\hline\n",
       "pandas & 0.21.0 \\\\ \\hline\n",
       "clustergrammer_widget & 1.9.0 \\\\ \\hline\n",
       "\\hline \\multicolumn{2}{|l|}{Mon Feb 12 15:05:47 2018 EST} \\\\ \\hline\n",
       "\\end{tabular}\n"
      ],
      "text/plain": [
       "Software versions\n",
       "Python 3.5.2 64bit [GCC 4.2.1 Compatible Apple LLVM 4.2 (clang-425.0.28)]\n",
       "IPython 5.3.0\n",
       "OS Darwin 17.2.0 x86_64 i386 64bit\n",
       "numpy 1.13.1\n",
       "pandas 0.21.0\n",
       "clustergrammer_widget 1.9.0\n",
       "Mon Feb 12 15:05:47 2018 EST"
      ]
     },
     "execution_count": 4,
     "metadata": {},
     "output_type": "execute_result"
    }
   ],
   "source": [
    "%load_ext version_information\n",
    "%version_information numpy, pandas, clustergrammer_widget "
   ]
  },
  {
   "cell_type": "markdown",
   "metadata": {},
   "source": [
    "## Load Sample Metadata "
   ]
  },
  {
   "cell_type": "code",
   "execution_count": 5,
   "metadata": {
    "collapsed": true
   },
   "outputs": [],
   "source": [
    "sample_meta = pd.read_csv('Input/CCLE_Expression.Arrays.sif_2012-10-18.txt', sep='\\t', index_col=1)"
   ]
  },
  {
   "cell_type": "code",
   "execution_count": 6,
   "metadata": {},
   "outputs": [
    {
     "data": {
      "text/html": [
       "<div>\n",
       "<style scoped>\n",
       "    .dataframe tbody tr th:only-of-type {\n",
       "        vertical-align: middle;\n",
       "    }\n",
       "\n",
       "    .dataframe tbody tr th {\n",
       "        vertical-align: top;\n",
       "    }\n",
       "\n",
       "    .dataframe thead th {\n",
       "        text-align: right;\n",
       "    }\n",
       "</style>\n",
       "<table border=\"1\" class=\"dataframe\">\n",
       "  <thead>\n",
       "    <tr style=\"text-align: right;\">\n",
       "      <th></th>\n",
       "      <th>ID</th>\n",
       "      <th>Cell line primary name</th>\n",
       "      <th>Gender</th>\n",
       "      <th>Batch</th>\n",
       "      <th>Site Primary</th>\n",
       "      <th>Histology</th>\n",
       "      <th>Hist Subtype1</th>\n",
       "    </tr>\n",
       "    <tr>\n",
       "      <th>CCLE name</th>\n",
       "      <th></th>\n",
       "      <th></th>\n",
       "      <th></th>\n",
       "      <th></th>\n",
       "      <th></th>\n",
       "      <th></th>\n",
       "      <th></th>\n",
       "    </tr>\n",
       "  </thead>\n",
       "  <tbody>\n",
       "    <tr>\n",
       "      <th>LN18_CENTRAL_NERVOUS_SYSTEM</th>\n",
       "      <td>METIS_p_NCLE_RNA1_Human_U133_Plus_2.0_A02_240852</td>\n",
       "      <td>LN-18</td>\n",
       "      <td>M</td>\n",
       "      <td>1</td>\n",
       "      <td>central_nervous_system</td>\n",
       "      <td>glioma</td>\n",
       "      <td>astrocytoma_Grade_IV</td>\n",
       "    </tr>\n",
       "    <tr>\n",
       "      <th>769P_KIDNEY</th>\n",
       "      <td>METIS_p_NCLE_RNA1_Human_U133_Plus_2.0_A05_240858</td>\n",
       "      <td>769-P</td>\n",
       "      <td>F</td>\n",
       "      <td>1</td>\n",
       "      <td>kidney</td>\n",
       "      <td>carcinoma</td>\n",
       "      <td>clear_cell_renal_cell_carcinoma</td>\n",
       "    </tr>\n",
       "    <tr>\n",
       "      <th>786O_KIDNEY</th>\n",
       "      <td>METIS_p_NCLE_RNA1_Human_U133_Plus_2.0_A07_240862</td>\n",
       "      <td>786-O</td>\n",
       "      <td>M</td>\n",
       "      <td>1</td>\n",
       "      <td>kidney</td>\n",
       "      <td>carcinoma</td>\n",
       "      <td>clear_cell_renal_cell_carcinoma</td>\n",
       "    </tr>\n",
       "    <tr>\n",
       "      <th>CAOV3_OVARY</th>\n",
       "      <td>METIS_p_NCLE_RNA1_Human_U133_Plus_2.0_A08_240864</td>\n",
       "      <td>Caov-3</td>\n",
       "      <td>F</td>\n",
       "      <td>1</td>\n",
       "      <td>ovary</td>\n",
       "      <td>carcinoma</td>\n",
       "      <td>adenocarcinoma</td>\n",
       "    </tr>\n",
       "    <tr>\n",
       "      <th>HEPG2_LIVER</th>\n",
       "      <td>METIS_p_NCLE_RNA1_Human_U133_Plus_2.0_A09_240866</td>\n",
       "      <td>Hep G2</td>\n",
       "      <td>M</td>\n",
       "      <td>1</td>\n",
       "      <td>liver</td>\n",
       "      <td>carcinoma</td>\n",
       "      <td>hepatocellular_carcinoma</td>\n",
       "    </tr>\n",
       "  </tbody>\n",
       "</table>\n",
       "</div>"
      ],
      "text/plain": [
       "                                                                           ID  \\\n",
       "CCLE name                                                                       \n",
       "LN18_CENTRAL_NERVOUS_SYSTEM  METIS_p_NCLE_RNA1_Human_U133_Plus_2.0_A02_240852   \n",
       "769P_KIDNEY                  METIS_p_NCLE_RNA1_Human_U133_Plus_2.0_A05_240858   \n",
       "786O_KIDNEY                  METIS_p_NCLE_RNA1_Human_U133_Plus_2.0_A07_240862   \n",
       "CAOV3_OVARY                  METIS_p_NCLE_RNA1_Human_U133_Plus_2.0_A08_240864   \n",
       "HEPG2_LIVER                  METIS_p_NCLE_RNA1_Human_U133_Plus_2.0_A09_240866   \n",
       "\n",
       "                            Cell line primary name Gender  Batch  \\\n",
       "CCLE name                                                          \n",
       "LN18_CENTRAL_NERVOUS_SYSTEM                  LN-18      M      1   \n",
       "769P_KIDNEY                                  769-P      F      1   \n",
       "786O_KIDNEY                                  786-O      M      1   \n",
       "CAOV3_OVARY                                 Caov-3      F      1   \n",
       "HEPG2_LIVER                                 Hep G2      M      1   \n",
       "\n",
       "                                       Site Primary  Histology  \\\n",
       "CCLE name                                                        \n",
       "LN18_CENTRAL_NERVOUS_SYSTEM  central_nervous_system     glioma   \n",
       "769P_KIDNEY                                  kidney  carcinoma   \n",
       "786O_KIDNEY                                  kidney  carcinoma   \n",
       "CAOV3_OVARY                                   ovary  carcinoma   \n",
       "HEPG2_LIVER                                   liver  carcinoma   \n",
       "\n",
       "                                               Hist Subtype1  \n",
       "CCLE name                                                     \n",
       "LN18_CENTRAL_NERVOUS_SYSTEM             astrocytoma_Grade_IV  \n",
       "769P_KIDNEY                  clear_cell_renal_cell_carcinoma  \n",
       "786O_KIDNEY                  clear_cell_renal_cell_carcinoma  \n",
       "CAOV3_OVARY                                   adenocarcinoma  \n",
       "HEPG2_LIVER                         hepatocellular_carcinoma  "
      ]
     },
     "execution_count": 6,
     "metadata": {},
     "output_type": "execute_result"
    }
   ],
   "source": [
    "sample_meta.head()"
   ]
  },
  {
   "cell_type": "markdown",
   "metadata": {},
   "source": [
    "## Load Data"
   ]
  },
  {
   "cell_type": "code",
   "execution_count": 7,
   "metadata": {},
   "outputs": [
    {
     "name": "stderr",
     "output_type": "stream",
     "text": [
      "/Users/moshesilverstein/anaconda/lib/python3.5/site-packages/IPython/core/interactiveshell.py:2717: DtypeWarning: Columns (1) have mixed types. Specify dtype option on import or set low_memory=False.\n",
      "  interactivity=interactivity, compiler=compiler, result=result)\n"
     ]
    }
   ],
   "source": [
    "matrix = pd.read_csv('Input/CCLE_Expression_Entrez_2012-09-29.gct', sep='\\t', skiprows=2)"
   ]
  },
  {
   "cell_type": "code",
   "execution_count": 8,
   "metadata": {},
   "outputs": [
    {
     "data": {
      "text/html": [
       "<div>\n",
       "<style scoped>\n",
       "    .dataframe tbody tr th:only-of-type {\n",
       "        vertical-align: middle;\n",
       "    }\n",
       "\n",
       "    .dataframe tbody tr th {\n",
       "        vertical-align: top;\n",
       "    }\n",
       "\n",
       "    .dataframe thead th {\n",
       "        text-align: right;\n",
       "    }\n",
       "</style>\n",
       "<table border=\"1\" class=\"dataframe\">\n",
       "  <thead>\n",
       "    <tr style=\"text-align: right;\">\n",
       "      <th></th>\n",
       "      <th>Name</th>\n",
       "      <th>Description</th>\n",
       "      <th>LN18_CENTRAL_NERVOUS_SYSTEM</th>\n",
       "      <th>769P_KIDNEY</th>\n",
       "      <th>786O_KIDNEY</th>\n",
       "      <th>CAOV3_OVARY</th>\n",
       "      <th>HEPG2_LIVER</th>\n",
       "      <th>MOLT4_HAEMATOPOIETIC_AND_LYMPHOID_TISSUE</th>\n",
       "      <th>NCIH524_LUNG</th>\n",
       "      <th>NCIH209_LUNG</th>\n",
       "      <th>...</th>\n",
       "      <th>SLR21_KIDNEY</th>\n",
       "      <th>LNZ308_CENTRAL_NERVOUS_SYSTEM</th>\n",
       "      <th>LN340_CENTRAL_NERVOUS_SYSTEM</th>\n",
       "      <th>HCC827GR5_LUNG</th>\n",
       "      <th>SLR20_KIDNEY</th>\n",
       "      <th>HK2_KIDNEY</th>\n",
       "      <th>EW8_BONE</th>\n",
       "      <th>UOK101_KIDNEY</th>\n",
       "      <th>JHESOAD1_OESOPHAGUS</th>\n",
       "      <th>CH157MN_CENTRAL_NERVOUS_SYSTEM</th>\n",
       "    </tr>\n",
       "  </thead>\n",
       "  <tbody>\n",
       "    <tr>\n",
       "      <th>0</th>\n",
       "      <td>100009676_at</td>\n",
       "      <td>LOC100009676</td>\n",
       "      <td>5.987545</td>\n",
       "      <td>5.444892</td>\n",
       "      <td>5.838828</td>\n",
       "      <td>6.074743</td>\n",
       "      <td>5.788600</td>\n",
       "      <td>5.459675</td>\n",
       "      <td>5.755560</td>\n",
       "      <td>7.190493</td>\n",
       "      <td>...</td>\n",
       "      <td>5.473156</td>\n",
       "      <td>5.517208</td>\n",
       "      <td>5.858379</td>\n",
       "      <td>5.196033</td>\n",
       "      <td>5.831437</td>\n",
       "      <td>5.362021</td>\n",
       "      <td>5.799747</td>\n",
       "      <td>5.865606</td>\n",
       "      <td>5.463812</td>\n",
       "      <td>5.720593</td>\n",
       "    </tr>\n",
       "    <tr>\n",
       "      <th>1</th>\n",
       "      <td>10000_at</td>\n",
       "      <td>AKT3</td>\n",
       "      <td>6.230233</td>\n",
       "      <td>7.544216</td>\n",
       "      <td>7.328450</td>\n",
       "      <td>4.270720</td>\n",
       "      <td>4.478293</td>\n",
       "      <td>6.212102</td>\n",
       "      <td>7.562398</td>\n",
       "      <td>8.642669</td>\n",
       "      <td>...</td>\n",
       "      <td>6.375324</td>\n",
       "      <td>6.119814</td>\n",
       "      <td>6.561409</td>\n",
       "      <td>4.521773</td>\n",
       "      <td>6.830904</td>\n",
       "      <td>7.031690</td>\n",
       "      <td>4.881235</td>\n",
       "      <td>6.914640</td>\n",
       "      <td>5.313795</td>\n",
       "      <td>5.757825</td>\n",
       "    </tr>\n",
       "    <tr>\n",
       "      <th>2</th>\n",
       "      <td>10001_at</td>\n",
       "      <td>MED6</td>\n",
       "      <td>9.363550</td>\n",
       "      <td>8.715909</td>\n",
       "      <td>8.410834</td>\n",
       "      <td>9.845271</td>\n",
       "      <td>9.761157</td>\n",
       "      <td>10.532820</td>\n",
       "      <td>10.393960</td>\n",
       "      <td>9.478429</td>\n",
       "      <td>...</td>\n",
       "      <td>8.849773</td>\n",
       "      <td>8.767192</td>\n",
       "      <td>8.521635</td>\n",
       "      <td>8.224544</td>\n",
       "      <td>9.325785</td>\n",
       "      <td>8.362727</td>\n",
       "      <td>8.990524</td>\n",
       "      <td>8.958629</td>\n",
       "      <td>9.748100</td>\n",
       "      <td>9.758431</td>\n",
       "    </tr>\n",
       "    <tr>\n",
       "      <th>3</th>\n",
       "      <td>10002_at</td>\n",
       "      <td>NR2E3</td>\n",
       "      <td>3.803069</td>\n",
       "      <td>4.173643</td>\n",
       "      <td>3.776557</td>\n",
       "      <td>3.934091</td>\n",
       "      <td>3.822202</td>\n",
       "      <td>3.949198</td>\n",
       "      <td>3.807546</td>\n",
       "      <td>3.930186</td>\n",
       "      <td>...</td>\n",
       "      <td>3.717506</td>\n",
       "      <td>3.977377</td>\n",
       "      <td>3.659459</td>\n",
       "      <td>3.933996</td>\n",
       "      <td>4.515748</td>\n",
       "      <td>4.434658</td>\n",
       "      <td>4.127832</td>\n",
       "      <td>3.942736</td>\n",
       "      <td>4.062648</td>\n",
       "      <td>4.074257</td>\n",
       "    </tr>\n",
       "    <tr>\n",
       "      <th>4</th>\n",
       "      <td>10003_at</td>\n",
       "      <td>NAALAD2</td>\n",
       "      <td>3.586430</td>\n",
       "      <td>3.663081</td>\n",
       "      <td>4.047007</td>\n",
       "      <td>3.817250</td>\n",
       "      <td>6.444302</td>\n",
       "      <td>4.081071</td>\n",
       "      <td>5.462774</td>\n",
       "      <td>4.252446</td>\n",
       "      <td>...</td>\n",
       "      <td>3.520843</td>\n",
       "      <td>4.036661</td>\n",
       "      <td>4.168351</td>\n",
       "      <td>3.535915</td>\n",
       "      <td>4.445632</td>\n",
       "      <td>3.622032</td>\n",
       "      <td>5.436580</td>\n",
       "      <td>3.666404</td>\n",
       "      <td>3.556565</td>\n",
       "      <td>3.728828</td>\n",
       "    </tr>\n",
       "  </tbody>\n",
       "</table>\n",
       "<p>5 rows × 1039 columns</p>\n",
       "</div>"
      ],
      "text/plain": [
       "           Name   Description  LN18_CENTRAL_NERVOUS_SYSTEM  769P_KIDNEY  \\\n",
       "0  100009676_at  LOC100009676                     5.987545     5.444892   \n",
       "1      10000_at          AKT3                     6.230233     7.544216   \n",
       "2      10001_at          MED6                     9.363550     8.715909   \n",
       "3      10002_at         NR2E3                     3.803069     4.173643   \n",
       "4      10003_at       NAALAD2                     3.586430     3.663081   \n",
       "\n",
       "   786O_KIDNEY  CAOV3_OVARY  HEPG2_LIVER  \\\n",
       "0     5.838828     6.074743     5.788600   \n",
       "1     7.328450     4.270720     4.478293   \n",
       "2     8.410834     9.845271     9.761157   \n",
       "3     3.776557     3.934091     3.822202   \n",
       "4     4.047007     3.817250     6.444302   \n",
       "\n",
       "   MOLT4_HAEMATOPOIETIC_AND_LYMPHOID_TISSUE  NCIH524_LUNG  NCIH209_LUNG  \\\n",
       "0                                  5.459675      5.755560      7.190493   \n",
       "1                                  6.212102      7.562398      8.642669   \n",
       "2                                 10.532820     10.393960      9.478429   \n",
       "3                                  3.949198      3.807546      3.930186   \n",
       "4                                  4.081071      5.462774      4.252446   \n",
       "\n",
       "                ...                SLR21_KIDNEY  \\\n",
       "0               ...                    5.473156   \n",
       "1               ...                    6.375324   \n",
       "2               ...                    8.849773   \n",
       "3               ...                    3.717506   \n",
       "4               ...                    3.520843   \n",
       "\n",
       "   LNZ308_CENTRAL_NERVOUS_SYSTEM  LN340_CENTRAL_NERVOUS_SYSTEM  \\\n",
       "0                       5.517208                      5.858379   \n",
       "1                       6.119814                      6.561409   \n",
       "2                       8.767192                      8.521635   \n",
       "3                       3.977377                      3.659459   \n",
       "4                       4.036661                      4.168351   \n",
       "\n",
       "   HCC827GR5_LUNG  SLR20_KIDNEY  HK2_KIDNEY  EW8_BONE  UOK101_KIDNEY  \\\n",
       "0        5.196033      5.831437    5.362021  5.799747       5.865606   \n",
       "1        4.521773      6.830904    7.031690  4.881235       6.914640   \n",
       "2        8.224544      9.325785    8.362727  8.990524       8.958629   \n",
       "3        3.933996      4.515748    4.434658  4.127832       3.942736   \n",
       "4        3.535915      4.445632    3.622032  5.436580       3.666404   \n",
       "\n",
       "   JHESOAD1_OESOPHAGUS  CH157MN_CENTRAL_NERVOUS_SYSTEM  \n",
       "0             5.463812                        5.720593  \n",
       "1             5.313795                        5.757825  \n",
       "2             9.748100                        9.758431  \n",
       "3             4.062648                        4.074257  \n",
       "4             3.556565                        3.728828  \n",
       "\n",
       "[5 rows x 1039 columns]"
      ]
     },
     "execution_count": 8,
     "metadata": {},
     "output_type": "execute_result"
    }
   ],
   "source": [
    "matrix.head()"
   ]
  },
  {
   "cell_type": "markdown",
   "metadata": {},
   "source": [
    "## Set Matrix to Show Gene Symbols"
   ]
  },
  {
   "cell_type": "code",
   "execution_count": 9,
   "metadata": {
    "collapsed": true
   },
   "outputs": [],
   "source": [
    "matrix.rename(columns={'Description':'Gene Symbol'}, inplace=True)"
   ]
  },
  {
   "cell_type": "code",
   "execution_count": 10,
   "metadata": {
    "collapsed": true
   },
   "outputs": [],
   "source": [
    "matrix.set_index('Gene Symbol', inplace=True)"
   ]
  },
  {
   "cell_type": "code",
   "execution_count": 11,
   "metadata": {
    "collapsed": true
   },
   "outputs": [],
   "source": [
    "matrix.drop('Name', axis=1, inplace=True)"
   ]
  },
  {
   "cell_type": "code",
   "execution_count": 12,
   "metadata": {},
   "outputs": [
    {
     "data": {
      "text/html": [
       "<div>\n",
       "<style scoped>\n",
       "    .dataframe tbody tr th:only-of-type {\n",
       "        vertical-align: middle;\n",
       "    }\n",
       "\n",
       "    .dataframe tbody tr th {\n",
       "        vertical-align: top;\n",
       "    }\n",
       "\n",
       "    .dataframe thead th {\n",
       "        text-align: right;\n",
       "    }\n",
       "</style>\n",
       "<table border=\"1\" class=\"dataframe\">\n",
       "  <thead>\n",
       "    <tr style=\"text-align: right;\">\n",
       "      <th></th>\n",
       "      <th>LN18_CENTRAL_NERVOUS_SYSTEM</th>\n",
       "      <th>769P_KIDNEY</th>\n",
       "      <th>786O_KIDNEY</th>\n",
       "      <th>CAOV3_OVARY</th>\n",
       "      <th>HEPG2_LIVER</th>\n",
       "      <th>MOLT4_HAEMATOPOIETIC_AND_LYMPHOID_TISSUE</th>\n",
       "      <th>NCIH524_LUNG</th>\n",
       "      <th>NCIH209_LUNG</th>\n",
       "      <th>MIAPACA2_PANCREAS</th>\n",
       "      <th>MCAS_OVARY</th>\n",
       "      <th>...</th>\n",
       "      <th>SLR21_KIDNEY</th>\n",
       "      <th>LNZ308_CENTRAL_NERVOUS_SYSTEM</th>\n",
       "      <th>LN340_CENTRAL_NERVOUS_SYSTEM</th>\n",
       "      <th>HCC827GR5_LUNG</th>\n",
       "      <th>SLR20_KIDNEY</th>\n",
       "      <th>HK2_KIDNEY</th>\n",
       "      <th>EW8_BONE</th>\n",
       "      <th>UOK101_KIDNEY</th>\n",
       "      <th>JHESOAD1_OESOPHAGUS</th>\n",
       "      <th>CH157MN_CENTRAL_NERVOUS_SYSTEM</th>\n",
       "    </tr>\n",
       "    <tr>\n",
       "      <th>Gene Symbol</th>\n",
       "      <th></th>\n",
       "      <th></th>\n",
       "      <th></th>\n",
       "      <th></th>\n",
       "      <th></th>\n",
       "      <th></th>\n",
       "      <th></th>\n",
       "      <th></th>\n",
       "      <th></th>\n",
       "      <th></th>\n",
       "      <th></th>\n",
       "      <th></th>\n",
       "      <th></th>\n",
       "      <th></th>\n",
       "      <th></th>\n",
       "      <th></th>\n",
       "      <th></th>\n",
       "      <th></th>\n",
       "      <th></th>\n",
       "      <th></th>\n",
       "      <th></th>\n",
       "    </tr>\n",
       "  </thead>\n",
       "  <tbody>\n",
       "    <tr>\n",
       "      <th>LOC100009676</th>\n",
       "      <td>5.987545</td>\n",
       "      <td>5.444892</td>\n",
       "      <td>5.838828</td>\n",
       "      <td>6.074743</td>\n",
       "      <td>5.788600</td>\n",
       "      <td>5.459675</td>\n",
       "      <td>5.755560</td>\n",
       "      <td>7.190493</td>\n",
       "      <td>5.449818</td>\n",
       "      <td>5.801820</td>\n",
       "      <td>...</td>\n",
       "      <td>5.473156</td>\n",
       "      <td>5.517208</td>\n",
       "      <td>5.858379</td>\n",
       "      <td>5.196033</td>\n",
       "      <td>5.831437</td>\n",
       "      <td>5.362021</td>\n",
       "      <td>5.799747</td>\n",
       "      <td>5.865606</td>\n",
       "      <td>5.463812</td>\n",
       "      <td>5.720593</td>\n",
       "    </tr>\n",
       "    <tr>\n",
       "      <th>AKT3</th>\n",
       "      <td>6.230233</td>\n",
       "      <td>7.544216</td>\n",
       "      <td>7.328450</td>\n",
       "      <td>4.270720</td>\n",
       "      <td>4.478293</td>\n",
       "      <td>6.212102</td>\n",
       "      <td>7.562398</td>\n",
       "      <td>8.642669</td>\n",
       "      <td>5.556191</td>\n",
       "      <td>6.808673</td>\n",
       "      <td>...</td>\n",
       "      <td>6.375324</td>\n",
       "      <td>6.119814</td>\n",
       "      <td>6.561409</td>\n",
       "      <td>4.521773</td>\n",
       "      <td>6.830904</td>\n",
       "      <td>7.031690</td>\n",
       "      <td>4.881235</td>\n",
       "      <td>6.914640</td>\n",
       "      <td>5.313795</td>\n",
       "      <td>5.757825</td>\n",
       "    </tr>\n",
       "    <tr>\n",
       "      <th>MED6</th>\n",
       "      <td>9.363550</td>\n",
       "      <td>8.715909</td>\n",
       "      <td>8.410834</td>\n",
       "      <td>9.845271</td>\n",
       "      <td>9.761157</td>\n",
       "      <td>10.532820</td>\n",
       "      <td>10.393960</td>\n",
       "      <td>9.478429</td>\n",
       "      <td>9.112954</td>\n",
       "      <td>9.815614</td>\n",
       "      <td>...</td>\n",
       "      <td>8.849773</td>\n",
       "      <td>8.767192</td>\n",
       "      <td>8.521635</td>\n",
       "      <td>8.224544</td>\n",
       "      <td>9.325785</td>\n",
       "      <td>8.362727</td>\n",
       "      <td>8.990524</td>\n",
       "      <td>8.958629</td>\n",
       "      <td>9.748100</td>\n",
       "      <td>9.758431</td>\n",
       "    </tr>\n",
       "    <tr>\n",
       "      <th>NR2E3</th>\n",
       "      <td>3.803069</td>\n",
       "      <td>4.173643</td>\n",
       "      <td>3.776557</td>\n",
       "      <td>3.934091</td>\n",
       "      <td>3.822202</td>\n",
       "      <td>3.949198</td>\n",
       "      <td>3.807546</td>\n",
       "      <td>3.930186</td>\n",
       "      <td>4.161937</td>\n",
       "      <td>4.028581</td>\n",
       "      <td>...</td>\n",
       "      <td>3.717506</td>\n",
       "      <td>3.977377</td>\n",
       "      <td>3.659459</td>\n",
       "      <td>3.933996</td>\n",
       "      <td>4.515748</td>\n",
       "      <td>4.434658</td>\n",
       "      <td>4.127832</td>\n",
       "      <td>3.942736</td>\n",
       "      <td>4.062648</td>\n",
       "      <td>4.074257</td>\n",
       "    </tr>\n",
       "    <tr>\n",
       "      <th>NAALAD2</th>\n",
       "      <td>3.586430</td>\n",
       "      <td>3.663081</td>\n",
       "      <td>4.047007</td>\n",
       "      <td>3.817250</td>\n",
       "      <td>6.444302</td>\n",
       "      <td>4.081071</td>\n",
       "      <td>5.462774</td>\n",
       "      <td>4.252446</td>\n",
       "      <td>3.932451</td>\n",
       "      <td>3.835827</td>\n",
       "      <td>...</td>\n",
       "      <td>3.520843</td>\n",
       "      <td>4.036661</td>\n",
       "      <td>4.168351</td>\n",
       "      <td>3.535915</td>\n",
       "      <td>4.445632</td>\n",
       "      <td>3.622032</td>\n",
       "      <td>5.436580</td>\n",
       "      <td>3.666404</td>\n",
       "      <td>3.556565</td>\n",
       "      <td>3.728828</td>\n",
       "    </tr>\n",
       "  </tbody>\n",
       "</table>\n",
       "<p>5 rows × 1037 columns</p>\n",
       "</div>"
      ],
      "text/plain": [
       "              LN18_CENTRAL_NERVOUS_SYSTEM  769P_KIDNEY  786O_KIDNEY  \\\n",
       "Gene Symbol                                                           \n",
       "LOC100009676                     5.987545     5.444892     5.838828   \n",
       "AKT3                             6.230233     7.544216     7.328450   \n",
       "MED6                             9.363550     8.715909     8.410834   \n",
       "NR2E3                            3.803069     4.173643     3.776557   \n",
       "NAALAD2                          3.586430     3.663081     4.047007   \n",
       "\n",
       "              CAOV3_OVARY  HEPG2_LIVER  \\\n",
       "Gene Symbol                              \n",
       "LOC100009676     6.074743     5.788600   \n",
       "AKT3             4.270720     4.478293   \n",
       "MED6             9.845271     9.761157   \n",
       "NR2E3            3.934091     3.822202   \n",
       "NAALAD2          3.817250     6.444302   \n",
       "\n",
       "              MOLT4_HAEMATOPOIETIC_AND_LYMPHOID_TISSUE  NCIH524_LUNG  \\\n",
       "Gene Symbol                                                            \n",
       "LOC100009676                                  5.459675      5.755560   \n",
       "AKT3                                          6.212102      7.562398   \n",
       "MED6                                         10.532820     10.393960   \n",
       "NR2E3                                         3.949198      3.807546   \n",
       "NAALAD2                                       4.081071      5.462774   \n",
       "\n",
       "              NCIH209_LUNG  MIAPACA2_PANCREAS  MCAS_OVARY  \\\n",
       "Gene Symbol                                                 \n",
       "LOC100009676      7.190493           5.449818    5.801820   \n",
       "AKT3              8.642669           5.556191    6.808673   \n",
       "MED6              9.478429           9.112954    9.815614   \n",
       "NR2E3             3.930186           4.161937    4.028581   \n",
       "NAALAD2           4.252446           3.932451    3.835827   \n",
       "\n",
       "                           ...                SLR21_KIDNEY  \\\n",
       "Gene Symbol                ...                               \n",
       "LOC100009676               ...                    5.473156   \n",
       "AKT3                       ...                    6.375324   \n",
       "MED6                       ...                    8.849773   \n",
       "NR2E3                      ...                    3.717506   \n",
       "NAALAD2                    ...                    3.520843   \n",
       "\n",
       "              LNZ308_CENTRAL_NERVOUS_SYSTEM  LN340_CENTRAL_NERVOUS_SYSTEM  \\\n",
       "Gene Symbol                                                                 \n",
       "LOC100009676                       5.517208                      5.858379   \n",
       "AKT3                               6.119814                      6.561409   \n",
       "MED6                               8.767192                      8.521635   \n",
       "NR2E3                              3.977377                      3.659459   \n",
       "NAALAD2                            4.036661                      4.168351   \n",
       "\n",
       "              HCC827GR5_LUNG  SLR20_KIDNEY  HK2_KIDNEY  EW8_BONE  \\\n",
       "Gene Symbol                                                        \n",
       "LOC100009676        5.196033      5.831437    5.362021  5.799747   \n",
       "AKT3                4.521773      6.830904    7.031690  4.881235   \n",
       "MED6                8.224544      9.325785    8.362727  8.990524   \n",
       "NR2E3               3.933996      4.515748    4.434658  4.127832   \n",
       "NAALAD2             3.535915      4.445632    3.622032  5.436580   \n",
       "\n",
       "              UOK101_KIDNEY  JHESOAD1_OESOPHAGUS  \\\n",
       "Gene Symbol                                        \n",
       "LOC100009676       5.865606             5.463812   \n",
       "AKT3               6.914640             5.313795   \n",
       "MED6               8.958629             9.748100   \n",
       "NR2E3              3.942736             4.062648   \n",
       "NAALAD2            3.666404             3.556565   \n",
       "\n",
       "              CH157MN_CENTRAL_NERVOUS_SYSTEM  \n",
       "Gene Symbol                                   \n",
       "LOC100009676                        5.720593  \n",
       "AKT3                                5.757825  \n",
       "MED6                                9.758431  \n",
       "NR2E3                               4.074257  \n",
       "NAALAD2                             3.728828  \n",
       "\n",
       "[5 rows x 1037 columns]"
      ]
     },
     "execution_count": 12,
     "metadata": {},
     "output_type": "execute_result"
    }
   ],
   "source": [
    "matrix.head()"
   ]
  },
  {
   "cell_type": "code",
   "execution_count": 13,
   "metadata": {},
   "outputs": [
    {
     "data": {
      "text/html": [
       "<div>\n",
       "<style scoped>\n",
       "    .dataframe tbody tr th:only-of-type {\n",
       "        vertical-align: middle;\n",
       "    }\n",
       "\n",
       "    .dataframe tbody tr th {\n",
       "        vertical-align: top;\n",
       "    }\n",
       "\n",
       "    .dataframe thead th {\n",
       "        text-align: right;\n",
       "    }\n",
       "</style>\n",
       "<table border=\"1\" class=\"dataframe\">\n",
       "  <thead>\n",
       "    <tr style=\"text-align: right;\">\n",
       "      <th></th>\n",
       "      <th>LN18_CENTRAL_NERVOUS_SYSTEM</th>\n",
       "      <th>769P_KIDNEY</th>\n",
       "      <th>786O_KIDNEY</th>\n",
       "      <th>CAOV3_OVARY</th>\n",
       "      <th>HEPG2_LIVER</th>\n",
       "      <th>MOLT4_HAEMATOPOIETIC_AND_LYMPHOID_TISSUE</th>\n",
       "      <th>NCIH524_LUNG</th>\n",
       "      <th>NCIH209_LUNG</th>\n",
       "      <th>MIAPACA2_PANCREAS</th>\n",
       "      <th>MCAS_OVARY</th>\n",
       "      <th>...</th>\n",
       "      <th>SLR21_KIDNEY</th>\n",
       "      <th>LNZ308_CENTRAL_NERVOUS_SYSTEM</th>\n",
       "      <th>LN340_CENTRAL_NERVOUS_SYSTEM</th>\n",
       "      <th>HCC827GR5_LUNG</th>\n",
       "      <th>SLR20_KIDNEY</th>\n",
       "      <th>HK2_KIDNEY</th>\n",
       "      <th>EW8_BONE</th>\n",
       "      <th>UOK101_KIDNEY</th>\n",
       "      <th>JHESOAD1_OESOPHAGUS</th>\n",
       "      <th>CH157MN_CENTRAL_NERVOUS_SYSTEM</th>\n",
       "    </tr>\n",
       "  </thead>\n",
       "  <tbody>\n",
       "    <tr>\n",
       "      <th>count</th>\n",
       "      <td>18988.000000</td>\n",
       "      <td>18988.000000</td>\n",
       "      <td>18988.000000</td>\n",
       "      <td>18988.000000</td>\n",
       "      <td>18988.000000</td>\n",
       "      <td>18988.000000</td>\n",
       "      <td>18988.000000</td>\n",
       "      <td>18988.000000</td>\n",
       "      <td>18988.000000</td>\n",
       "      <td>18988.000000</td>\n",
       "      <td>...</td>\n",
       "      <td>18988.000000</td>\n",
       "      <td>18988.000000</td>\n",
       "      <td>18988.000000</td>\n",
       "      <td>18988.000000</td>\n",
       "      <td>18988.000000</td>\n",
       "      <td>18988.000000</td>\n",
       "      <td>18988.000000</td>\n",
       "      <td>18988.000000</td>\n",
       "      <td>18988.000000</td>\n",
       "      <td>18988.000000</td>\n",
       "    </tr>\n",
       "    <tr>\n",
       "      <th>mean</th>\n",
       "      <td>6.392509</td>\n",
       "      <td>6.361752</td>\n",
       "      <td>6.389624</td>\n",
       "      <td>6.424917</td>\n",
       "      <td>6.409577</td>\n",
       "      <td>6.399662</td>\n",
       "      <td>6.400879</td>\n",
       "      <td>6.396145</td>\n",
       "      <td>6.378974</td>\n",
       "      <td>6.388408</td>\n",
       "      <td>...</td>\n",
       "      <td>6.395383</td>\n",
       "      <td>6.401908</td>\n",
       "      <td>6.396075</td>\n",
       "      <td>6.410554</td>\n",
       "      <td>6.415298</td>\n",
       "      <td>6.403638</td>\n",
       "      <td>6.429287</td>\n",
       "      <td>6.406061</td>\n",
       "      <td>6.414137</td>\n",
       "      <td>6.411566</td>\n",
       "    </tr>\n",
       "    <tr>\n",
       "      <th>std</th>\n",
       "      <td>2.476663</td>\n",
       "      <td>2.444236</td>\n",
       "      <td>2.454103</td>\n",
       "      <td>2.443434</td>\n",
       "      <td>2.462514</td>\n",
       "      <td>2.493796</td>\n",
       "      <td>2.489144</td>\n",
       "      <td>2.479179</td>\n",
       "      <td>2.479545</td>\n",
       "      <td>2.431080</td>\n",
       "      <td>...</td>\n",
       "      <td>2.393057</td>\n",
       "      <td>2.433152</td>\n",
       "      <td>2.437164</td>\n",
       "      <td>2.374489</td>\n",
       "      <td>2.442144</td>\n",
       "      <td>2.355056</td>\n",
       "      <td>2.402895</td>\n",
       "      <td>2.430087</td>\n",
       "      <td>2.416088</td>\n",
       "      <td>2.409713</td>\n",
       "    </tr>\n",
       "    <tr>\n",
       "      <th>min</th>\n",
       "      <td>2.911527</td>\n",
       "      <td>3.026489</td>\n",
       "      <td>2.991723</td>\n",
       "      <td>2.838242</td>\n",
       "      <td>3.084948</td>\n",
       "      <td>3.041080</td>\n",
       "      <td>2.944501</td>\n",
       "      <td>3.030975</td>\n",
       "      <td>2.955308</td>\n",
       "      <td>3.010340</td>\n",
       "      <td>...</td>\n",
       "      <td>3.002687</td>\n",
       "      <td>3.008906</td>\n",
       "      <td>2.931140</td>\n",
       "      <td>3.011274</td>\n",
       "      <td>3.034197</td>\n",
       "      <td>2.978724</td>\n",
       "      <td>2.937079</td>\n",
       "      <td>2.936843</td>\n",
       "      <td>3.006759</td>\n",
       "      <td>3.048301</td>\n",
       "    </tr>\n",
       "    <tr>\n",
       "      <th>25%</th>\n",
       "      <td>4.144693</td>\n",
       "      <td>4.207482</td>\n",
       "      <td>4.201661</td>\n",
       "      <td>4.213125</td>\n",
       "      <td>4.192779</td>\n",
       "      <td>4.212337</td>\n",
       "      <td>4.150795</td>\n",
       "      <td>4.133131</td>\n",
       "      <td>4.149236</td>\n",
       "      <td>4.246795</td>\n",
       "      <td>...</td>\n",
       "      <td>4.287540</td>\n",
       "      <td>4.265795</td>\n",
       "      <td>4.200506</td>\n",
       "      <td>4.324980</td>\n",
       "      <td>4.223801</td>\n",
       "      <td>4.312183</td>\n",
       "      <td>4.332273</td>\n",
       "      <td>4.250722</td>\n",
       "      <td>4.273084</td>\n",
       "      <td>4.306641</td>\n",
       "    </tr>\n",
       "    <tr>\n",
       "      <th>50%</th>\n",
       "      <td>5.800889</td>\n",
       "      <td>5.637650</td>\n",
       "      <td>5.686744</td>\n",
       "      <td>5.922342</td>\n",
       "      <td>5.799001</td>\n",
       "      <td>5.582370</td>\n",
       "      <td>5.837714</td>\n",
       "      <td>5.840426</td>\n",
       "      <td>5.695158</td>\n",
       "      <td>5.703540</td>\n",
       "      <td>...</td>\n",
       "      <td>5.864555</td>\n",
       "      <td>5.775918</td>\n",
       "      <td>5.842422</td>\n",
       "      <td>5.862910</td>\n",
       "      <td>5.861589</td>\n",
       "      <td>5.912365</td>\n",
       "      <td>5.838430</td>\n",
       "      <td>5.813116</td>\n",
       "      <td>5.851116</td>\n",
       "      <td>5.797804</td>\n",
       "    </tr>\n",
       "    <tr>\n",
       "      <th>75%</th>\n",
       "      <td>8.306252</td>\n",
       "      <td>8.216170</td>\n",
       "      <td>8.251510</td>\n",
       "      <td>8.217642</td>\n",
       "      <td>8.297240</td>\n",
       "      <td>8.357944</td>\n",
       "      <td>8.292600</td>\n",
       "      <td>8.315540</td>\n",
       "      <td>8.333925</td>\n",
       "      <td>8.207674</td>\n",
       "      <td>...</td>\n",
       "      <td>8.149455</td>\n",
       "      <td>8.243115</td>\n",
       "      <td>8.250947</td>\n",
       "      <td>8.142254</td>\n",
       "      <td>8.272035</td>\n",
       "      <td>8.144877</td>\n",
       "      <td>8.209870</td>\n",
       "      <td>8.247344</td>\n",
       "      <td>8.214053</td>\n",
       "      <td>8.194195</td>\n",
       "    </tr>\n",
       "    <tr>\n",
       "      <th>max</th>\n",
       "      <td>14.850800</td>\n",
       "      <td>14.778780</td>\n",
       "      <td>14.765750</td>\n",
       "      <td>14.883320</td>\n",
       "      <td>14.729360</td>\n",
       "      <td>14.850800</td>\n",
       "      <td>14.875250</td>\n",
       "      <td>14.885850</td>\n",
       "      <td>14.869950</td>\n",
       "      <td>14.864990</td>\n",
       "      <td>...</td>\n",
       "      <td>14.842440</td>\n",
       "      <td>14.882780</td>\n",
       "      <td>14.870020</td>\n",
       "      <td>14.893560</td>\n",
       "      <td>14.869340</td>\n",
       "      <td>14.911120</td>\n",
       "      <td>14.882940</td>\n",
       "      <td>14.796310</td>\n",
       "      <td>14.904380</td>\n",
       "      <td>14.847490</td>\n",
       "    </tr>\n",
       "  </tbody>\n",
       "</table>\n",
       "<p>8 rows × 1037 columns</p>\n",
       "</div>"
      ],
      "text/plain": [
       "       LN18_CENTRAL_NERVOUS_SYSTEM   769P_KIDNEY   786O_KIDNEY   CAOV3_OVARY  \\\n",
       "count                 18988.000000  18988.000000  18988.000000  18988.000000   \n",
       "mean                      6.392509      6.361752      6.389624      6.424917   \n",
       "std                       2.476663      2.444236      2.454103      2.443434   \n",
       "min                       2.911527      3.026489      2.991723      2.838242   \n",
       "25%                       4.144693      4.207482      4.201661      4.213125   \n",
       "50%                       5.800889      5.637650      5.686744      5.922342   \n",
       "75%                       8.306252      8.216170      8.251510      8.217642   \n",
       "max                      14.850800     14.778780     14.765750     14.883320   \n",
       "\n",
       "        HEPG2_LIVER  MOLT4_HAEMATOPOIETIC_AND_LYMPHOID_TISSUE  NCIH524_LUNG  \\\n",
       "count  18988.000000                              18988.000000  18988.000000   \n",
       "mean       6.409577                                  6.399662      6.400879   \n",
       "std        2.462514                                  2.493796      2.489144   \n",
       "min        3.084948                                  3.041080      2.944501   \n",
       "25%        4.192779                                  4.212337      4.150795   \n",
       "50%        5.799001                                  5.582370      5.837714   \n",
       "75%        8.297240                                  8.357944      8.292600   \n",
       "max       14.729360                                 14.850800     14.875250   \n",
       "\n",
       "       NCIH209_LUNG  MIAPACA2_PANCREAS    MCAS_OVARY  \\\n",
       "count  18988.000000       18988.000000  18988.000000   \n",
       "mean       6.396145           6.378974      6.388408   \n",
       "std        2.479179           2.479545      2.431080   \n",
       "min        3.030975           2.955308      3.010340   \n",
       "25%        4.133131           4.149236      4.246795   \n",
       "50%        5.840426           5.695158      5.703540   \n",
       "75%        8.315540           8.333925      8.207674   \n",
       "max       14.885850          14.869950     14.864990   \n",
       "\n",
       "                    ...                SLR21_KIDNEY  \\\n",
       "count               ...                18988.000000   \n",
       "mean                ...                    6.395383   \n",
       "std                 ...                    2.393057   \n",
       "min                 ...                    3.002687   \n",
       "25%                 ...                    4.287540   \n",
       "50%                 ...                    5.864555   \n",
       "75%                 ...                    8.149455   \n",
       "max                 ...                   14.842440   \n",
       "\n",
       "       LNZ308_CENTRAL_NERVOUS_SYSTEM  LN340_CENTRAL_NERVOUS_SYSTEM  \\\n",
       "count                   18988.000000                  18988.000000   \n",
       "mean                        6.401908                      6.396075   \n",
       "std                         2.433152                      2.437164   \n",
       "min                         3.008906                      2.931140   \n",
       "25%                         4.265795                      4.200506   \n",
       "50%                         5.775918                      5.842422   \n",
       "75%                         8.243115                      8.250947   \n",
       "max                        14.882780                     14.870020   \n",
       "\n",
       "       HCC827GR5_LUNG  SLR20_KIDNEY    HK2_KIDNEY      EW8_BONE  \\\n",
       "count    18988.000000  18988.000000  18988.000000  18988.000000   \n",
       "mean         6.410554      6.415298      6.403638      6.429287   \n",
       "std          2.374489      2.442144      2.355056      2.402895   \n",
       "min          3.011274      3.034197      2.978724      2.937079   \n",
       "25%          4.324980      4.223801      4.312183      4.332273   \n",
       "50%          5.862910      5.861589      5.912365      5.838430   \n",
       "75%          8.142254      8.272035      8.144877      8.209870   \n",
       "max         14.893560     14.869340     14.911120     14.882940   \n",
       "\n",
       "       UOK101_KIDNEY  JHESOAD1_OESOPHAGUS  CH157MN_CENTRAL_NERVOUS_SYSTEM  \n",
       "count   18988.000000         18988.000000                    18988.000000  \n",
       "mean        6.406061             6.414137                        6.411566  \n",
       "std         2.430087             2.416088                        2.409713  \n",
       "min         2.936843             3.006759                        3.048301  \n",
       "25%         4.250722             4.273084                        4.306641  \n",
       "50%         5.813116             5.851116                        5.797804  \n",
       "75%         8.247344             8.214053                        8.194195  \n",
       "max        14.796310            14.904380                       14.847490  \n",
       "\n",
       "[8 rows x 1037 columns]"
      ]
     },
     "execution_count": 13,
     "metadata": {},
     "output_type": "execute_result"
    }
   ],
   "source": [
    "matrix.describe()"
   ]
  },
  {
   "cell_type": "markdown",
   "metadata": {},
   "source": [
    "# Histogram of First Sample"
   ]
  },
  {
   "cell_type": "code",
   "execution_count": 14,
   "metadata": {},
   "outputs": [
    {
     "data": {
      "image/png": "[encoded data removed]",
      "text/plain": [
       "<matplotlib.figure.Figure at 0x118cc92e8>"
      ]
     },
     "metadata": {},
     "output_type": "display_data"
    }
   ],
   "source": [
    "matrix.iloc[:, 0].hist();"
   ]
  },
  {
   "cell_type": "markdown",
   "metadata": {},
   "source": [
    "# Histogram of First Gene"
   ]
  },
  {
   "cell_type": "code",
   "execution_count": 15,
   "metadata": {},
   "outputs": [
    {
     "data": {
      "image/png": "[encoded data removed]",
      "text/plain": [
       "<matplotlib.figure.Figure at 0x11a84cd30>"
      ]
     },
     "metadata": {},
     "output_type": "display_data"
    }
   ],
   "source": [
    "matrix.iloc[0, :].hist();"
   ]
  },
  {
   "cell_type": "markdown",
   "metadata": {},
   "source": [
    "# Save Unfiltered Sample Matrix To File"
   ]
  },
  {
   "cell_type": "code",
   "execution_count": 16,
   "metadata": {
    "collapsed": true
   },
   "outputs": [],
   "source": [
    "filename = '~/./Documents/Harmonizome/CCLE/Output/ccle_matrix_unfilltered_%s.tsv.zip'% str(datetime.date.today())[0:7].replace('-', '_')\n",
    "matrix.to_csv(filename, sep='\\t', compression='gzip')"
   ]
  },
  {
   "cell_type": "markdown",
   "metadata": {},
   "source": [
    "# Remove any data with more than 95% missing and imput remaining mssing values to matrix mean"
   ]
  },
  {
   "cell_type": "code",
   "execution_count": 17,
   "metadata": {
    "collapsed": true
   },
   "outputs": [],
   "source": [
    "normalized_matrix = uf.removeAndImpute(matrix)"
   ]
  },
  {
   "cell_type": "markdown",
   "metadata": {},
   "source": [
    "# Log2 Transform"
   ]
  },
  {
   "cell_type": "code",
   "execution_count": 18,
   "metadata": {
    "collapsed": true
   },
   "outputs": [],
   "source": [
    "normalized_matrix = uf.log2(normalized_matrix)"
   ]
  },
  {
   "cell_type": "code",
   "execution_count": 19,
   "metadata": {},
   "outputs": [
    {
     "data": {
      "text/html": [
       "<div>\n",
       "<style scoped>\n",
       "    .dataframe tbody tr th:only-of-type {\n",
       "        vertical-align: middle;\n",
       "    }\n",
       "\n",
       "    .dataframe tbody tr th {\n",
       "        vertical-align: top;\n",
       "    }\n",
       "\n",
       "    .dataframe thead th {\n",
       "        text-align: right;\n",
       "    }\n",
       "</style>\n",
       "<table border=\"1\" class=\"dataframe\">\n",
       "  <thead>\n",
       "    <tr style=\"text-align: right;\">\n",
       "      <th></th>\n",
       "      <th>LN18_CENTRAL_NERVOUS_SYSTEM</th>\n",
       "      <th>769P_KIDNEY</th>\n",
       "      <th>786O_KIDNEY</th>\n",
       "      <th>CAOV3_OVARY</th>\n",
       "      <th>HEPG2_LIVER</th>\n",
       "      <th>MOLT4_HAEMATOPOIETIC_AND_LYMPHOID_TISSUE</th>\n",
       "      <th>NCIH524_LUNG</th>\n",
       "      <th>NCIH209_LUNG</th>\n",
       "      <th>MIAPACA2_PANCREAS</th>\n",
       "      <th>MCAS_OVARY</th>\n",
       "      <th>...</th>\n",
       "      <th>SLR21_KIDNEY</th>\n",
       "      <th>LNZ308_CENTRAL_NERVOUS_SYSTEM</th>\n",
       "      <th>LN340_CENTRAL_NERVOUS_SYSTEM</th>\n",
       "      <th>HCC827GR5_LUNG</th>\n",
       "      <th>SLR20_KIDNEY</th>\n",
       "      <th>HK2_KIDNEY</th>\n",
       "      <th>EW8_BONE</th>\n",
       "      <th>UOK101_KIDNEY</th>\n",
       "      <th>JHESOAD1_OESOPHAGUS</th>\n",
       "      <th>CH157MN_CENTRAL_NERVOUS_SYSTEM</th>\n",
       "    </tr>\n",
       "    <tr>\n",
       "      <th>Gene Symbol</th>\n",
       "      <th></th>\n",
       "      <th></th>\n",
       "      <th></th>\n",
       "      <th></th>\n",
       "      <th></th>\n",
       "      <th></th>\n",
       "      <th></th>\n",
       "      <th></th>\n",
       "      <th></th>\n",
       "      <th></th>\n",
       "      <th></th>\n",
       "      <th></th>\n",
       "      <th></th>\n",
       "      <th></th>\n",
       "      <th></th>\n",
       "      <th></th>\n",
       "      <th></th>\n",
       "      <th></th>\n",
       "      <th></th>\n",
       "      <th></th>\n",
       "      <th></th>\n",
       "    </tr>\n",
       "  </thead>\n",
       "  <tbody>\n",
       "    <tr>\n",
       "      <th>LOC100009676</th>\n",
       "      <td>2.804786</td>\n",
       "      <td>2.688156</td>\n",
       "      <td>2.773749</td>\n",
       "      <td>2.822678</td>\n",
       "      <td>2.763114</td>\n",
       "      <td>2.691462</td>\n",
       "      <td>2.756075</td>\n",
       "      <td>3.033950</td>\n",
       "      <td>2.689258</td>\n",
       "      <td>2.765921</td>\n",
       "      <td>...</td>\n",
       "      <td>2.694469</td>\n",
       "      <td>2.704254</td>\n",
       "      <td>2.777868</td>\n",
       "      <td>2.631345</td>\n",
       "      <td>2.772189</td>\n",
       "      <td>2.669485</td>\n",
       "      <td>2.765481</td>\n",
       "      <td>2.779387</td>\n",
       "      <td>2.692385</td>\n",
       "      <td>2.748589</td>\n",
       "    </tr>\n",
       "    <tr>\n",
       "      <th>AKT3</th>\n",
       "      <td>2.854042</td>\n",
       "      <td>3.094948</td>\n",
       "      <td>3.058048</td>\n",
       "      <td>2.398000</td>\n",
       "      <td>2.453726</td>\n",
       "      <td>2.850420</td>\n",
       "      <td>3.098015</td>\n",
       "      <td>3.269433</td>\n",
       "      <td>2.712858</td>\n",
       "      <td>2.965077</td>\n",
       "      <td>...</td>\n",
       "      <td>2.882706</td>\n",
       "      <td>2.831840</td>\n",
       "      <td>2.918655</td>\n",
       "      <td>2.465132</td>\n",
       "      <td>2.969179</td>\n",
       "      <td>3.005704</td>\n",
       "      <td>2.556119</td>\n",
       "      <td>2.984524</td>\n",
       "      <td>2.658507</td>\n",
       "      <td>2.756559</td>\n",
       "    </tr>\n",
       "    <tr>\n",
       "      <th>MED6</th>\n",
       "      <td>3.373446</td>\n",
       "      <td>3.280349</td>\n",
       "      <td>3.234323</td>\n",
       "      <td>3.438994</td>\n",
       "      <td>3.427761</td>\n",
       "      <td>3.527673</td>\n",
       "      <td>3.510197</td>\n",
       "      <td>3.389351</td>\n",
       "      <td>3.338133</td>\n",
       "      <td>3.435044</td>\n",
       "      <td>...</td>\n",
       "      <td>3.300090</td>\n",
       "      <td>3.287944</td>\n",
       "      <td>3.251209</td>\n",
       "      <td>3.205478</td>\n",
       "      <td>3.368180</td>\n",
       "      <td>3.226929</td>\n",
       "      <td>3.320560</td>\n",
       "      <td>3.315947</td>\n",
       "      <td>3.426010</td>\n",
       "      <td>3.427396</td>\n",
       "    </tr>\n",
       "    <tr>\n",
       "      <th>NR2E3</th>\n",
       "      <td>2.263957</td>\n",
       "      <td>2.371181</td>\n",
       "      <td>2.255971</td>\n",
       "      <td>2.302784</td>\n",
       "      <td>2.269692</td>\n",
       "      <td>2.307195</td>\n",
       "      <td>2.265301</td>\n",
       "      <td>2.301642</td>\n",
       "      <td>2.367913</td>\n",
       "      <td>2.330151</td>\n",
       "      <td>...</td>\n",
       "      <td>2.238024</td>\n",
       "      <td>2.315386</td>\n",
       "      <td>2.220162</td>\n",
       "      <td>2.302757</td>\n",
       "      <td>2.463557</td>\n",
       "      <td>2.442189</td>\n",
       "      <td>2.358349</td>\n",
       "      <td>2.305310</td>\n",
       "      <td>2.339892</td>\n",
       "      <td>2.343197</td>\n",
       "    </tr>\n",
       "    <tr>\n",
       "      <th>NAALAD2</th>\n",
       "      <td>2.197372</td>\n",
       "      <td>2.221283</td>\n",
       "      <td>2.335428</td>\n",
       "      <td>2.268210</td>\n",
       "      <td>2.896137</td>\n",
       "      <td>2.345133</td>\n",
       "      <td>2.692154</td>\n",
       "      <td>2.392989</td>\n",
       "      <td>2.302305</td>\n",
       "      <td>2.273763</td>\n",
       "      <td>...</td>\n",
       "      <td>2.176592</td>\n",
       "      <td>2.332468</td>\n",
       "      <td>2.369704</td>\n",
       "      <td>2.181394</td>\n",
       "      <td>2.445099</td>\n",
       "      <td>2.208527</td>\n",
       "      <td>2.686294</td>\n",
       "      <td>2.222311</td>\n",
       "      <td>2.187947</td>\n",
       "      <td>2.241483</td>\n",
       "    </tr>\n",
       "  </tbody>\n",
       "</table>\n",
       "<p>5 rows × 1037 columns</p>\n",
       "</div>"
      ],
      "text/plain": [
       "              LN18_CENTRAL_NERVOUS_SYSTEM  769P_KIDNEY  786O_KIDNEY  \\\n",
       "Gene Symbol                                                           \n",
       "LOC100009676                     2.804786     2.688156     2.773749   \n",
       "AKT3                             2.854042     3.094948     3.058048   \n",
       "MED6                             3.373446     3.280349     3.234323   \n",
       "NR2E3                            2.263957     2.371181     2.255971   \n",
       "NAALAD2                          2.197372     2.221283     2.335428   \n",
       "\n",
       "              CAOV3_OVARY  HEPG2_LIVER  \\\n",
       "Gene Symbol                              \n",
       "LOC100009676     2.822678     2.763114   \n",
       "AKT3             2.398000     2.453726   \n",
       "MED6             3.438994     3.427761   \n",
       "NR2E3            2.302784     2.269692   \n",
       "NAALAD2          2.268210     2.896137   \n",
       "\n",
       "              MOLT4_HAEMATOPOIETIC_AND_LYMPHOID_TISSUE  NCIH524_LUNG  \\\n",
       "Gene Symbol                                                            \n",
       "LOC100009676                                  2.691462      2.756075   \n",
       "AKT3                                          2.850420      3.098015   \n",
       "MED6                                          3.527673      3.510197   \n",
       "NR2E3                                         2.307195      2.265301   \n",
       "NAALAD2                                       2.345133      2.692154   \n",
       "\n",
       "              NCIH209_LUNG  MIAPACA2_PANCREAS  MCAS_OVARY  \\\n",
       "Gene Symbol                                                 \n",
       "LOC100009676      3.033950           2.689258    2.765921   \n",
       "AKT3              3.269433           2.712858    2.965077   \n",
       "MED6              3.389351           3.338133    3.435044   \n",
       "NR2E3             2.301642           2.367913    2.330151   \n",
       "NAALAD2           2.392989           2.302305    2.273763   \n",
       "\n",
       "                           ...                SLR21_KIDNEY  \\\n",
       "Gene Symbol                ...                               \n",
       "LOC100009676               ...                    2.694469   \n",
       "AKT3                       ...                    2.882706   \n",
       "MED6                       ...                    3.300090   \n",
       "NR2E3                      ...                    2.238024   \n",
       "NAALAD2                    ...                    2.176592   \n",
       "\n",
       "              LNZ308_CENTRAL_NERVOUS_SYSTEM  LN340_CENTRAL_NERVOUS_SYSTEM  \\\n",
       "Gene Symbol                                                                 \n",
       "LOC100009676                       2.704254                      2.777868   \n",
       "AKT3                               2.831840                      2.918655   \n",
       "MED6                               3.287944                      3.251209   \n",
       "NR2E3                              2.315386                      2.220162   \n",
       "NAALAD2                            2.332468                      2.369704   \n",
       "\n",
       "              HCC827GR5_LUNG  SLR20_KIDNEY  HK2_KIDNEY  EW8_BONE  \\\n",
       "Gene Symbol                                                        \n",
       "LOC100009676        2.631345      2.772189    2.669485  2.765481   \n",
       "AKT3                2.465132      2.969179    3.005704  2.556119   \n",
       "MED6                3.205478      3.368180    3.226929  3.320560   \n",
       "NR2E3               2.302757      2.463557    2.442189  2.358349   \n",
       "NAALAD2             2.181394      2.445099    2.208527  2.686294   \n",
       "\n",
       "              UOK101_KIDNEY  JHESOAD1_OESOPHAGUS  \\\n",
       "Gene Symbol                                        \n",
       "LOC100009676       2.779387             2.692385   \n",
       "AKT3               2.984524             2.658507   \n",
       "MED6               3.315947             3.426010   \n",
       "NR2E3              2.305310             2.339892   \n",
       "NAALAD2            2.222311             2.187947   \n",
       "\n",
       "              CH157MN_CENTRAL_NERVOUS_SYSTEM  \n",
       "Gene Symbol                                   \n",
       "LOC100009676                        2.748589  \n",
       "AKT3                                2.756559  \n",
       "MED6                                3.427396  \n",
       "NR2E3                               2.343197  \n",
       "NAALAD2                             2.241483  \n",
       "\n",
       "[5 rows x 1037 columns]"
      ]
     },
     "execution_count": 19,
     "metadata": {},
     "output_type": "execute_result"
    }
   ],
   "source": [
    "normalized_matrix.head()"
   ]
  },
  {
   "cell_type": "markdown",
   "metadata": {},
   "source": [
    "# Normalize Matrix (Quantile Normalize the matrix for the columns)"
   ]
  },
  {
   "cell_type": "code",
   "execution_count": 20,
   "metadata": {
    "collapsed": true
   },
   "outputs": [],
   "source": [
    "# normalized_matrix = uf.quantileNormalize(normalized_matrix)"
   ]
  },
  {
   "cell_type": "code",
   "execution_count": 21,
   "metadata": {},
   "outputs": [],
   "source": [
    "# normalized_matrix.head()"
   ]
  },
  {
   "cell_type": "markdown",
   "metadata": {},
   "source": [
    "# Nomalize Matrix (z-score the rows)"
   ]
  },
  {
   "cell_type": "code",
   "execution_count": 22,
   "metadata": {
    "collapsed": true
   },
   "outputs": [],
   "source": [
    "genes = normalized_matrix.index.values.tolist()"
   ]
  },
  {
   "cell_type": "code",
   "execution_count": 23,
   "metadata": {
    "collapsed": true
   },
   "outputs": [],
   "source": [
    "normalized_matrix.reset_index(inplace=True)"
   ]
  },
  {
   "cell_type": "code",
   "execution_count": 24,
   "metadata": {
    "collapsed": true
   },
   "outputs": [],
   "source": [
    "normalized_matrix.drop('Gene Symbol', axis=1, inplace=True)"
   ]
  },
  {
   "cell_type": "code",
   "execution_count": 25,
   "metadata": {},
   "outputs": [
    {
     "name": "stdout",
     "output_type": "stream",
     "text": [
      "Progress: 100%  18988 Out of 18988   \r"
     ]
    }
   ],
   "source": [
    "uf.zscore(normalized_matrix, 'row')"
   ]
  },
  {
   "cell_type": "code",
   "execution_count": 26,
   "metadata": {
    "collapsed": true
   },
   "outputs": [],
   "source": [
    "normalized_matrix.index = genes"
   ]
  },
  {
   "cell_type": "code",
   "execution_count": 27,
   "metadata": {},
   "outputs": [
    {
     "data": {
      "text/html": [
       "<div>\n",
       "<style scoped>\n",
       "    .dataframe tbody tr th:only-of-type {\n",
       "        vertical-align: middle;\n",
       "    }\n",
       "\n",
       "    .dataframe tbody tr th {\n",
       "        vertical-align: top;\n",
       "    }\n",
       "\n",
       "    .dataframe thead th {\n",
       "        text-align: right;\n",
       "    }\n",
       "</style>\n",
       "<table border=\"1\" class=\"dataframe\">\n",
       "  <thead>\n",
       "    <tr style=\"text-align: right;\">\n",
       "      <th></th>\n",
       "      <th>LN18_CENTRAL_NERVOUS_SYSTEM</th>\n",
       "      <th>769P_KIDNEY</th>\n",
       "      <th>786O_KIDNEY</th>\n",
       "      <th>CAOV3_OVARY</th>\n",
       "      <th>HEPG2_LIVER</th>\n",
       "      <th>MOLT4_HAEMATOPOIETIC_AND_LYMPHOID_TISSUE</th>\n",
       "      <th>NCIH524_LUNG</th>\n",
       "      <th>NCIH209_LUNG</th>\n",
       "      <th>MIAPACA2_PANCREAS</th>\n",
       "      <th>MCAS_OVARY</th>\n",
       "      <th>...</th>\n",
       "      <th>SLR21_KIDNEY</th>\n",
       "      <th>LNZ308_CENTRAL_NERVOUS_SYSTEM</th>\n",
       "      <th>LN340_CENTRAL_NERVOUS_SYSTEM</th>\n",
       "      <th>HCC827GR5_LUNG</th>\n",
       "      <th>SLR20_KIDNEY</th>\n",
       "      <th>HK2_KIDNEY</th>\n",
       "      <th>EW8_BONE</th>\n",
       "      <th>UOK101_KIDNEY</th>\n",
       "      <th>JHESOAD1_OESOPHAGUS</th>\n",
       "      <th>CH157MN_CENTRAL_NERVOUS_SYSTEM</th>\n",
       "    </tr>\n",
       "  </thead>\n",
       "  <tbody>\n",
       "    <tr>\n",
       "      <th>count</th>\n",
       "      <td>18988.000000</td>\n",
       "      <td>18988.000000</td>\n",
       "      <td>18988.000000</td>\n",
       "      <td>18988.000000</td>\n",
       "      <td>18988.000000</td>\n",
       "      <td>18988.000000</td>\n",
       "      <td>18988.000000</td>\n",
       "      <td>18988.000000</td>\n",
       "      <td>18988.000000</td>\n",
       "      <td>18988.000000</td>\n",
       "      <td>...</td>\n",
       "      <td>18988.000000</td>\n",
       "      <td>18988.000000</td>\n",
       "      <td>18988.000000</td>\n",
       "      <td>18988.000000</td>\n",
       "      <td>18988.000000</td>\n",
       "      <td>18988.000000</td>\n",
       "      <td>18988.000000</td>\n",
       "      <td>18988.000000</td>\n",
       "      <td>18988.000000</td>\n",
       "      <td>18988.000000</td>\n",
       "    </tr>\n",
       "    <tr>\n",
       "      <th>mean</th>\n",
       "      <td>0.085344</td>\n",
       "      <td>0.128299</td>\n",
       "      <td>0.153022</td>\n",
       "      <td>0.096260</td>\n",
       "      <td>0.258681</td>\n",
       "      <td>0.365739</td>\n",
       "      <td>0.203781</td>\n",
       "      <td>0.175789</td>\n",
       "      <td>0.152734</td>\n",
       "      <td>0.201602</td>\n",
       "      <td>...</td>\n",
       "      <td>0.165533</td>\n",
       "      <td>0.257830</td>\n",
       "      <td>0.152032</td>\n",
       "      <td>0.328443</td>\n",
       "      <td>0.185461</td>\n",
       "      <td>0.217733</td>\n",
       "      <td>0.429032</td>\n",
       "      <td>0.195377</td>\n",
       "      <td>0.189929</td>\n",
       "      <td>0.299856</td>\n",
       "    </tr>\n",
       "    <tr>\n",
       "      <th>std</th>\n",
       "      <td>1.414771</td>\n",
       "      <td>1.321865</td>\n",
       "      <td>1.246785</td>\n",
       "      <td>1.520383</td>\n",
       "      <td>2.266687</td>\n",
       "      <td>2.036854</td>\n",
       "      <td>2.267341</td>\n",
       "      <td>2.088599</td>\n",
       "      <td>1.272755</td>\n",
       "      <td>1.340545</td>\n",
       "      <td>...</td>\n",
       "      <td>1.763861</td>\n",
       "      <td>1.668180</td>\n",
       "      <td>1.518628</td>\n",
       "      <td>1.617018</td>\n",
       "      <td>1.193606</td>\n",
       "      <td>1.670157</td>\n",
       "      <td>1.950372</td>\n",
       "      <td>1.347435</td>\n",
       "      <td>1.505496</td>\n",
       "      <td>1.500816</td>\n",
       "    </tr>\n",
       "    <tr>\n",
       "      <th>min</th>\n",
       "      <td>-13.558009</td>\n",
       "      <td>-14.552021</td>\n",
       "      <td>-14.527745</td>\n",
       "      <td>-15.381632</td>\n",
       "      <td>-15.802894</td>\n",
       "      <td>-14.840830</td>\n",
       "      <td>-16.203325</td>\n",
       "      <td>-18.105887</td>\n",
       "      <td>-42.690103</td>\n",
       "      <td>-40.540475</td>\n",
       "      <td>...</td>\n",
       "      <td>-6.491917</td>\n",
       "      <td>-15.621617</td>\n",
       "      <td>-10.386842</td>\n",
       "      <td>-7.511762</td>\n",
       "      <td>-7.753292</td>\n",
       "      <td>-7.710650</td>\n",
       "      <td>-8.556650</td>\n",
       "      <td>-15.287057</td>\n",
       "      <td>-9.488935</td>\n",
       "      <td>-6.640459</td>\n",
       "    </tr>\n",
       "    <tr>\n",
       "      <th>25%</th>\n",
       "      <td>-0.653105</td>\n",
       "      <td>-0.506338</td>\n",
       "      <td>-0.534103</td>\n",
       "      <td>-0.713177</td>\n",
       "      <td>-0.656780</td>\n",
       "      <td>-0.515837</td>\n",
       "      <td>-0.912714</td>\n",
       "      <td>-0.838232</td>\n",
       "      <td>-0.543322</td>\n",
       "      <td>-0.473714</td>\n",
       "      <td>...</td>\n",
       "      <td>-0.745897</td>\n",
       "      <td>-0.604543</td>\n",
       "      <td>-0.669134</td>\n",
       "      <td>-0.592851</td>\n",
       "      <td>-0.537572</td>\n",
       "      <td>-0.670212</td>\n",
       "      <td>-0.566005</td>\n",
       "      <td>-0.557019</td>\n",
       "      <td>-0.644878</td>\n",
       "      <td>-0.522088</td>\n",
       "    </tr>\n",
       "    <tr>\n",
       "      <th>50%</th>\n",
       "      <td>-0.062541</td>\n",
       "      <td>0.026783</td>\n",
       "      <td>0.047412</td>\n",
       "      <td>-0.073228</td>\n",
       "      <td>-0.057516</td>\n",
       "      <td>0.218045</td>\n",
       "      <td>-0.161090</td>\n",
       "      <td>-0.129031</td>\n",
       "      <td>0.051894</td>\n",
       "      <td>0.090950</td>\n",
       "      <td>...</td>\n",
       "      <td>-0.001131</td>\n",
       "      <td>0.074240</td>\n",
       "      <td>0.023678</td>\n",
       "      <td>0.168098</td>\n",
       "      <td>0.088207</td>\n",
       "      <td>0.062097</td>\n",
       "      <td>0.186094</td>\n",
       "      <td>0.081442</td>\n",
       "      <td>0.017973</td>\n",
       "      <td>0.140852</td>\n",
       "    </tr>\n",
       "    <tr>\n",
       "      <th>75%</th>\n",
       "      <td>0.614430</td>\n",
       "      <td>0.598464</td>\n",
       "      <td>0.689647</td>\n",
       "      <td>0.638716</td>\n",
       "      <td>0.662879</td>\n",
       "      <td>1.033254</td>\n",
       "      <td>0.806895</td>\n",
       "      <td>0.757513</td>\n",
       "      <td>0.731395</td>\n",
       "      <td>0.687459</td>\n",
       "      <td>...</td>\n",
       "      <td>0.820170</td>\n",
       "      <td>0.830435</td>\n",
       "      <td>0.787926</td>\n",
       "      <td>1.026518</td>\n",
       "      <td>0.779938</td>\n",
       "      <td>0.892536</td>\n",
       "      <td>1.074214</td>\n",
       "      <td>0.789822</td>\n",
       "      <td>0.788689</td>\n",
       "      <td>0.880025</td>\n",
       "    </tr>\n",
       "    <tr>\n",
       "      <th>max</th>\n",
       "      <td>25.696074</td>\n",
       "      <td>22.986100</td>\n",
       "      <td>21.099576</td>\n",
       "      <td>28.664917</td>\n",
       "      <td>50.572369</td>\n",
       "      <td>40.814864</td>\n",
       "      <td>37.256349</td>\n",
       "      <td>35.165125</td>\n",
       "      <td>24.588139</td>\n",
       "      <td>23.839624</td>\n",
       "      <td>...</td>\n",
       "      <td>26.712920</td>\n",
       "      <td>30.873953</td>\n",
       "      <td>32.299948</td>\n",
       "      <td>35.023380</td>\n",
       "      <td>19.863051</td>\n",
       "      <td>22.779592</td>\n",
       "      <td>32.302086</td>\n",
       "      <td>18.551421</td>\n",
       "      <td>23.751512</td>\n",
       "      <td>26.616572</td>\n",
       "    </tr>\n",
       "  </tbody>\n",
       "</table>\n",
       "<p>8 rows × 1037 columns</p>\n",
       "</div>"
      ],
      "text/plain": [
       "       LN18_CENTRAL_NERVOUS_SYSTEM   769P_KIDNEY   786O_KIDNEY   CAOV3_OVARY  \\\n",
       "count                 18988.000000  18988.000000  18988.000000  18988.000000   \n",
       "mean                      0.085344      0.128299      0.153022      0.096260   \n",
       "std                       1.414771      1.321865      1.246785      1.520383   \n",
       "min                     -13.558009    -14.552021    -14.527745    -15.381632   \n",
       "25%                      -0.653105     -0.506338     -0.534103     -0.713177   \n",
       "50%                      -0.062541      0.026783      0.047412     -0.073228   \n",
       "75%                       0.614430      0.598464      0.689647      0.638716   \n",
       "max                      25.696074     22.986100     21.099576     28.664917   \n",
       "\n",
       "        HEPG2_LIVER  MOLT4_HAEMATOPOIETIC_AND_LYMPHOID_TISSUE  NCIH524_LUNG  \\\n",
       "count  18988.000000                              18988.000000  18988.000000   \n",
       "mean       0.258681                                  0.365739      0.203781   \n",
       "std        2.266687                                  2.036854      2.267341   \n",
       "min      -15.802894                                -14.840830    -16.203325   \n",
       "25%       -0.656780                                 -0.515837     -0.912714   \n",
       "50%       -0.057516                                  0.218045     -0.161090   \n",
       "75%        0.662879                                  1.033254      0.806895   \n",
       "max       50.572369                                 40.814864     37.256349   \n",
       "\n",
       "       NCIH209_LUNG  MIAPACA2_PANCREAS    MCAS_OVARY  \\\n",
       "count  18988.000000       18988.000000  18988.000000   \n",
       "mean       0.175789           0.152734      0.201602   \n",
       "std        2.088599           1.272755      1.340545   \n",
       "min      -18.105887         -42.690103    -40.540475   \n",
       "25%       -0.838232          -0.543322     -0.473714   \n",
       "50%       -0.129031           0.051894      0.090950   \n",
       "75%        0.757513           0.731395      0.687459   \n",
       "max       35.165125          24.588139     23.839624   \n",
       "\n",
       "                    ...                SLR21_KIDNEY  \\\n",
       "count               ...                18988.000000   \n",
       "mean                ...                    0.165533   \n",
       "std                 ...                    1.763861   \n",
       "min                 ...                   -6.491917   \n",
       "25%                 ...                   -0.745897   \n",
       "50%                 ...                   -0.001131   \n",
       "75%                 ...                    0.820170   \n",
       "max                 ...                   26.712920   \n",
       "\n",
       "       LNZ308_CENTRAL_NERVOUS_SYSTEM  LN340_CENTRAL_NERVOUS_SYSTEM  \\\n",
       "count                   18988.000000                  18988.000000   \n",
       "mean                        0.257830                      0.152032   \n",
       "std                         1.668180                      1.518628   \n",
       "min                       -15.621617                    -10.386842   \n",
       "25%                        -0.604543                     -0.669134   \n",
       "50%                         0.074240                      0.023678   \n",
       "75%                         0.830435                      0.787926   \n",
       "max                        30.873953                     32.299948   \n",
       "\n",
       "       HCC827GR5_LUNG  SLR20_KIDNEY    HK2_KIDNEY      EW8_BONE  \\\n",
       "count    18988.000000  18988.000000  18988.000000  18988.000000   \n",
       "mean         0.328443      0.185461      0.217733      0.429032   \n",
       "std          1.617018      1.193606      1.670157      1.950372   \n",
       "min         -7.511762     -7.753292     -7.710650     -8.556650   \n",
       "25%         -0.592851     -0.537572     -0.670212     -0.566005   \n",
       "50%          0.168098      0.088207      0.062097      0.186094   \n",
       "75%          1.026518      0.779938      0.892536      1.074214   \n",
       "max         35.023380     19.863051     22.779592     32.302086   \n",
       "\n",
       "       UOK101_KIDNEY  JHESOAD1_OESOPHAGUS  CH157MN_CENTRAL_NERVOUS_SYSTEM  \n",
       "count   18988.000000         18988.000000                    18988.000000  \n",
       "mean        0.195377             0.189929                        0.299856  \n",
       "std         1.347435             1.505496                        1.500816  \n",
       "min       -15.287057            -9.488935                       -6.640459  \n",
       "25%        -0.557019            -0.644878                       -0.522088  \n",
       "50%         0.081442             0.017973                        0.140852  \n",
       "75%         0.789822             0.788689                        0.880025  \n",
       "max        18.551421            23.751512                       26.616572  \n",
       "\n",
       "[8 rows x 1037 columns]"
      ]
     },
     "execution_count": 27,
     "metadata": {},
     "output_type": "execute_result"
    }
   ],
   "source": [
    "normalized_matrix.describe()"
   ]
  },
  {
   "cell_type": "markdown",
   "metadata": {},
   "source": [
    "# Map Gene Symbols To Up-to-date Approved Gene Symbols"
   ]
  },
  {
   "cell_type": "code",
   "execution_count": 28,
   "metadata": {},
   "outputs": [
    {
     "name": "stdout",
     "output_type": "stream",
     "text": [
      "Progeres: 100%  18988 Out of 18988   \r"
     ]
    }
   ],
   "source": [
    "uf.mapgenesymbols(normalized_matrix)"
   ]
  },
  {
   "cell_type": "code",
   "execution_count": 29,
   "metadata": {},
   "outputs": [
    {
     "data": {
      "text/plain": [
       "(17514, 1037)"
      ]
     },
     "execution_count": 29,
     "metadata": {},
     "output_type": "execute_result"
    }
   ],
   "source": [
    "normalized_matrix.shape"
   ]
  },
  {
   "cell_type": "markdown",
   "metadata": {},
   "source": [
    "# Merge Duplicate Genes By Rows"
   ]
  },
  {
   "cell_type": "code",
   "execution_count": 30,
   "metadata": {
    "collapsed": true
   },
   "outputs": [],
   "source": [
    "normalized_matrix = uf.merge(normalized_matrix, 'row', 'mean')"
   ]
  },
  {
   "cell_type": "code",
   "execution_count": 31,
   "metadata": {},
   "outputs": [
    {
     "data": {
      "text/plain": [
       "(17337, 1037)"
      ]
     },
     "execution_count": 31,
     "metadata": {},
     "output_type": "execute_result"
    }
   ],
   "source": [
    "normalized_matrix.shape"
   ]
  },
  {
   "cell_type": "markdown",
   "metadata": {},
   "source": [
    "# Map Sample Metadata to Sample ID"
   ]
  },
  {
   "cell_type": "code",
   "execution_count": 32,
   "metadata": {},
   "outputs": [
    {
     "name": "stdout",
     "output_type": "stream",
     "text": [
      "Progress: 100%  1037 Out of 1037   \r"
     ]
    }
   ],
   "source": [
    "lst = []\n",
    "\n",
    "for i,col in enumerate(normalized_matrix.columns):\n",
    "    \n",
    "    col = col.split('.')[0]\n",
    "\n",
    "    progressPercent = ((i+1)/len(normalized_matrix.columns))*100\n",
    "\n",
    "    sys.stdout.write(\"Progress: %d%%  %d Out of %d   \\r\" % (progressPercent, (i+1), len(normalized_matrix.columns)))\n",
    "    sys.stdout.flush()\n",
    "\n",
    "    \n",
    "#     tissue = 'Tissue:'+(' ').join(col.split('_')[1:])\n",
    "#     cellline = 'Cell-Line:'+col.split('_')[0]\n",
    "#     gender = 'Gender:'+str(sample_meta.ix[col, 'Gender'])\n",
    "#     histology = 'Histology:'+sample_meta.ix[col, 'Histology'].upper()\n",
    "\n",
    "#     lst.append(tuple((tissue, cellline, gender, histology)))\n",
    "    lst.append(sample_meta.loc[col, 'Cell line primary name'])\n",
    "\n",
    "\n",
    "normalized_matrix.columns = lst"
   ]
  },
  {
   "cell_type": "markdown",
   "metadata": {},
   "source": [
    "# Merge Like Column (by taking the mean)"
   ]
  },
  {
   "cell_type": "code",
   "execution_count": 33,
   "metadata": {
    "collapsed": true
   },
   "outputs": [],
   "source": [
    "normalized_matrix = uf.merge(normalized_matrix, 'column', 'mean')"
   ]
  },
  {
   "cell_type": "code",
   "execution_count": 34,
   "metadata": {},
   "outputs": [
    {
     "data": {
      "text/html": [
       "<div>\n",
       "<style scoped>\n",
       "    .dataframe tbody tr th:only-of-type {\n",
       "        vertical-align: middle;\n",
       "    }\n",
       "\n",
       "    .dataframe tbody tr th {\n",
       "        vertical-align: top;\n",
       "    }\n",
       "\n",
       "    .dataframe thead th {\n",
       "        text-align: right;\n",
       "    }\n",
       "</style>\n",
       "<table border=\"1\" class=\"dataframe\">\n",
       "  <thead>\n",
       "    <tr style=\"text-align: right;\">\n",
       "      <th></th>\n",
       "      <th>1321N1</th>\n",
       "      <th>143B</th>\n",
       "      <th>22Rv1</th>\n",
       "      <th>23132/87</th>\n",
       "      <th>253J</th>\n",
       "      <th>253J-BV</th>\n",
       "      <th>42-MG-BA</th>\n",
       "      <th>5637</th>\n",
       "      <th>59M</th>\n",
       "      <th>639-V</th>\n",
       "      <th>...</th>\n",
       "      <th>YD-10B</th>\n",
       "      <th>YD-15</th>\n",
       "      <th>YD-38</th>\n",
       "      <th>YD-8</th>\n",
       "      <th>YH-13</th>\n",
       "      <th>YKG1</th>\n",
       "      <th>YMB-1</th>\n",
       "      <th>ZR-75-1</th>\n",
       "      <th>ZR-75-30</th>\n",
       "      <th>huH-1</th>\n",
       "    </tr>\n",
       "    <tr>\n",
       "      <th>index</th>\n",
       "      <th></th>\n",
       "      <th></th>\n",
       "      <th></th>\n",
       "      <th></th>\n",
       "      <th></th>\n",
       "      <th></th>\n",
       "      <th></th>\n",
       "      <th></th>\n",
       "      <th></th>\n",
       "      <th></th>\n",
       "      <th></th>\n",
       "      <th></th>\n",
       "      <th></th>\n",
       "      <th></th>\n",
       "      <th></th>\n",
       "      <th></th>\n",
       "      <th></th>\n",
       "      <th></th>\n",
       "      <th></th>\n",
       "      <th></th>\n",
       "      <th></th>\n",
       "    </tr>\n",
       "  </thead>\n",
       "  <tbody>\n",
       "    <tr>\n",
       "      <th>A1BG</th>\n",
       "      <td>0.109182</td>\n",
       "      <td>-0.177999</td>\n",
       "      <td>-0.566990</td>\n",
       "      <td>-0.975299</td>\n",
       "      <td>-0.717494</td>\n",
       "      <td>-0.646111</td>\n",
       "      <td>1.286564</td>\n",
       "      <td>-0.980995</td>\n",
       "      <td>0.608923</td>\n",
       "      <td>0.819529</td>\n",
       "      <td>...</td>\n",
       "      <td>-0.573754</td>\n",
       "      <td>-1.257991</td>\n",
       "      <td>-0.753813</td>\n",
       "      <td>-0.798340</td>\n",
       "      <td>0.872871</td>\n",
       "      <td>0.115739</td>\n",
       "      <td>1.520559</td>\n",
       "      <td>1.131763</td>\n",
       "      <td>0.708365</td>\n",
       "      <td>-0.515423</td>\n",
       "    </tr>\n",
       "    <tr>\n",
       "      <th>A1BG-AS1</th>\n",
       "      <td>-0.597588</td>\n",
       "      <td>-0.476174</td>\n",
       "      <td>-0.122070</td>\n",
       "      <td>0.023141</td>\n",
       "      <td>-0.797392</td>\n",
       "      <td>-0.898413</td>\n",
       "      <td>0.981361</td>\n",
       "      <td>-0.250897</td>\n",
       "      <td>0.117621</td>\n",
       "      <td>0.355779</td>\n",
       "      <td>...</td>\n",
       "      <td>0.872924</td>\n",
       "      <td>-1.365535</td>\n",
       "      <td>-0.749383</td>\n",
       "      <td>-0.409617</td>\n",
       "      <td>0.237531</td>\n",
       "      <td>-0.436297</td>\n",
       "      <td>0.954245</td>\n",
       "      <td>0.104476</td>\n",
       "      <td>-0.012974</td>\n",
       "      <td>-0.667536</td>\n",
       "    </tr>\n",
       "    <tr>\n",
       "      <th>A1CF</th>\n",
       "      <td>-1.504875</td>\n",
       "      <td>-0.712283</td>\n",
       "      <td>17.897662</td>\n",
       "      <td>12.177992</td>\n",
       "      <td>0.211956</td>\n",
       "      <td>-0.568762</td>\n",
       "      <td>-0.380928</td>\n",
       "      <td>0.499761</td>\n",
       "      <td>1.479484</td>\n",
       "      <td>0.978757</td>\n",
       "      <td>...</td>\n",
       "      <td>1.630705</td>\n",
       "      <td>-0.138540</td>\n",
       "      <td>0.196983</td>\n",
       "      <td>-0.866841</td>\n",
       "      <td>0.121392</td>\n",
       "      <td>-1.103873</td>\n",
       "      <td>-0.196234</td>\n",
       "      <td>-0.098732</td>\n",
       "      <td>-0.384887</td>\n",
       "      <td>25.702202</td>\n",
       "    </tr>\n",
       "    <tr>\n",
       "      <th>A2M</th>\n",
       "      <td>0.716927</td>\n",
       "      <td>2.872345</td>\n",
       "      <td>2.414428</td>\n",
       "      <td>-0.549760</td>\n",
       "      <td>1.730410</td>\n",
       "      <td>2.035786</td>\n",
       "      <td>0.193096</td>\n",
       "      <td>-0.928304</td>\n",
       "      <td>-1.174737</td>\n",
       "      <td>-0.993787</td>\n",
       "      <td>...</td>\n",
       "      <td>0.837474</td>\n",
       "      <td>-0.466837</td>\n",
       "      <td>-0.174177</td>\n",
       "      <td>1.335932</td>\n",
       "      <td>1.988592</td>\n",
       "      <td>-0.287980</td>\n",
       "      <td>1.456927</td>\n",
       "      <td>-0.680930</td>\n",
       "      <td>1.968639</td>\n",
       "      <td>-0.165259</td>\n",
       "    </tr>\n",
       "    <tr>\n",
       "      <th>A2ML1</th>\n",
       "      <td>1.115033</td>\n",
       "      <td>-0.434791</td>\n",
       "      <td>-1.059576</td>\n",
       "      <td>-0.629628</td>\n",
       "      <td>0.093630</td>\n",
       "      <td>0.803851</td>\n",
       "      <td>2.174939</td>\n",
       "      <td>3.588952</td>\n",
       "      <td>0.756170</td>\n",
       "      <td>0.674500</td>\n",
       "      <td>...</td>\n",
       "      <td>1.000370</td>\n",
       "      <td>-0.498572</td>\n",
       "      <td>1.462319</td>\n",
       "      <td>-0.630646</td>\n",
       "      <td>0.995219</td>\n",
       "      <td>-0.899125</td>\n",
       "      <td>0.274415</td>\n",
       "      <td>1.478980</td>\n",
       "      <td>1.250070</td>\n",
       "      <td>-0.138977</td>\n",
       "    </tr>\n",
       "  </tbody>\n",
       "</table>\n",
       "<p>5 rows × 1036 columns</p>\n",
       "</div>"
      ],
      "text/plain": [
       "            1321N1      143B      22Rv1   23132/87      253J   253J-BV  \\\n",
       "index                                                                    \n",
       "A1BG      0.109182 -0.177999  -0.566990  -0.975299 -0.717494 -0.646111   \n",
       "A1BG-AS1 -0.597588 -0.476174  -0.122070   0.023141 -0.797392 -0.898413   \n",
       "A1CF     -1.504875 -0.712283  17.897662  12.177992  0.211956 -0.568762   \n",
       "A2M       0.716927  2.872345   2.414428  -0.549760  1.730410  2.035786   \n",
       "A2ML1     1.115033 -0.434791  -1.059576  -0.629628  0.093630  0.803851   \n",
       "\n",
       "          42-MG-BA      5637       59M     639-V    ...        YD-10B  \\\n",
       "index                                               ...                 \n",
       "A1BG      1.286564 -0.980995  0.608923  0.819529    ...     -0.573754   \n",
       "A1BG-AS1  0.981361 -0.250897  0.117621  0.355779    ...      0.872924   \n",
       "A1CF     -0.380928  0.499761  1.479484  0.978757    ...      1.630705   \n",
       "A2M       0.193096 -0.928304 -1.174737 -0.993787    ...      0.837474   \n",
       "A2ML1     2.174939  3.588952  0.756170  0.674500    ...      1.000370   \n",
       "\n",
       "             YD-15     YD-38      YD-8     YH-13      YKG1     YMB-1  \\\n",
       "index                                                                  \n",
       "A1BG     -1.257991 -0.753813 -0.798340  0.872871  0.115739  1.520559   \n",
       "A1BG-AS1 -1.365535 -0.749383 -0.409617  0.237531 -0.436297  0.954245   \n",
       "A1CF     -0.138540  0.196983 -0.866841  0.121392 -1.103873 -0.196234   \n",
       "A2M      -0.466837 -0.174177  1.335932  1.988592 -0.287980  1.456927   \n",
       "A2ML1    -0.498572  1.462319 -0.630646  0.995219 -0.899125  0.274415   \n",
       "\n",
       "           ZR-75-1  ZR-75-30      huH-1  \n",
       "index                                    \n",
       "A1BG      1.131763  0.708365  -0.515423  \n",
       "A1BG-AS1  0.104476 -0.012974  -0.667536  \n",
       "A1CF     -0.098732 -0.384887  25.702202  \n",
       "A2M      -0.680930  1.968639  -0.165259  \n",
       "A2ML1     1.478980  1.250070  -0.138977  \n",
       "\n",
       "[5 rows x 1036 columns]"
      ]
     },
     "execution_count": 34,
     "metadata": {},
     "output_type": "execute_result"
    }
   ],
   "source": [
    "normalized_matrix.head()"
   ]
  },
  {
   "cell_type": "markdown",
   "metadata": {},
   "source": [
    "# Histogram of First Celline"
   ]
  },
  {
   "cell_type": "code",
   "execution_count": 35,
   "metadata": {},
   "outputs": [
    {
     "data": {
      "text/plain": [
       "<matplotlib.axes._subplots.AxesSubplot at 0x119322f98>"
      ]
     },
     "execution_count": 35,
     "metadata": {},
     "output_type": "execute_result"
    },
    {
     "data": {
      "image/png": "[encoded data removed]",
      "text/plain": [
       "<matplotlib.figure.Figure at 0x119a3c3c8>"
      ]
     },
     "metadata": {},
     "output_type": "display_data"
    }
   ],
   "source": [
    "normalized_matrix[normalized_matrix.columns[0]].hist()"
   ]
  },
  {
   "cell_type": "markdown",
   "metadata": {},
   "source": [
    "# Histogram of First Gene"
   ]
  },
  {
   "cell_type": "code",
   "execution_count": 36,
   "metadata": {},
   "outputs": [
    {
     "data": {
      "text/plain": [
       "<matplotlib.axes._subplots.AxesSubplot at 0x10c9b7588>"
      ]
     },
     "execution_count": 36,
     "metadata": {},
     "output_type": "execute_result"
    },
    {
     "data": {
      "image/png": "[encoded data removed]",
      "text/plain": [
       "<matplotlib.figure.Figure at 0x11a968940>"
      ]
     },
     "metadata": {},
     "output_type": "display_data"
    }
   ],
   "source": [
    "normalized_matrix.loc[normalized_matrix.index[0]].hist()"
   ]
  },
  {
   "cell_type": "markdown",
   "metadata": {},
   "source": [
    "# Save Normalized Matrix To File"
   ]
  },
  {
   "cell_type": "code",
   "execution_count": 37,
   "metadata": {
    "collapsed": true
   },
   "outputs": [],
   "source": [
    "filename = '~/./Documents/Harmonizome/CCLE/Output/ccle_matrix_filltered_%s.tsv.zip'% str(datetime.date.today())[0:7].replace('-', '_')\n",
    "normalized_matrix.to_csv(filename, sep='\\t', compression='gzip')"
   ]
  },
  {
   "cell_type": "markdown",
   "metadata": {},
   "source": [
    "# HeatMap (clustergrammer) of Data"
   ]
  },
  {
   "cell_type": "code",
   "execution_count": 38,
   "metadata": {},
   "outputs": [
    {
     "name": "stderr",
     "output_type": "stream",
     "text": [
      "Widget Javascript not detected.  It may not be installed or enabled properly.\n"
     ]
    },
    {
     "data": {
      "application/vnd.jupyter.widget-view+json": {
       "model_id": "c449b7fa645940bc9267d2d9bfab9295"
      }
     },
     "metadata": {},
     "output_type": "display_data"
    }
   ],
   "source": [
    "net.load_df(normalized_matrix.iloc[:,:100].copy())\n",
    "net.filter_N_top('row', rank_type='sum', N_top=50)\n",
    "net.cluster()\n",
    "net.widget()"
   ]
  },
  {
   "cell_type": "markdown",
   "metadata": {},
   "source": [
    "# Create Gene List"
   ]
  },
  {
   "cell_type": "code",
   "execution_count": 39,
   "metadata": {},
   "outputs": [
    {
     "name": "stdout",
     "output_type": "stream",
     "text": [
      "Progeres: 100%  17337 Out of 17337   \r"
     ]
    }
   ],
   "source": [
    "gene_list = uf.createGeneList(normalized_matrix)"
   ]
  },
  {
   "cell_type": "code",
   "execution_count": 40,
   "metadata": {},
   "outputs": [
    {
     "data": {
      "text/html": [
       "<div>\n",
       "<style scoped>\n",
       "    .dataframe tbody tr th:only-of-type {\n",
       "        vertical-align: middle;\n",
       "    }\n",
       "\n",
       "    .dataframe tbody tr th {\n",
       "        vertical-align: top;\n",
       "    }\n",
       "\n",
       "    .dataframe thead th {\n",
       "        text-align: right;\n",
       "    }\n",
       "</style>\n",
       "<table border=\"1\" class=\"dataframe\">\n",
       "  <thead>\n",
       "    <tr style=\"text-align: right;\">\n",
       "      <th></th>\n",
       "      <th>GeneSym</th>\n",
       "      <th>GeneID</th>\n",
       "    </tr>\n",
       "  </thead>\n",
       "  <tbody>\n",
       "    <tr>\n",
       "      <th>0</th>\n",
       "      <td>A1BG</td>\n",
       "      <td>1</td>\n",
       "    </tr>\n",
       "    <tr>\n",
       "      <th>1</th>\n",
       "      <td>A1BG-AS1</td>\n",
       "      <td>503538</td>\n",
       "    </tr>\n",
       "    <tr>\n",
       "      <th>2</th>\n",
       "      <td>A1CF</td>\n",
       "      <td>29974</td>\n",
       "    </tr>\n",
       "    <tr>\n",
       "      <th>3</th>\n",
       "      <td>A2M</td>\n",
       "      <td>2</td>\n",
       "    </tr>\n",
       "    <tr>\n",
       "      <th>4</th>\n",
       "      <td>A2ML1</td>\n",
       "      <td>144568</td>\n",
       "    </tr>\n",
       "  </tbody>\n",
       "</table>\n",
       "</div>"
      ],
      "text/plain": [
       "    GeneSym  GeneID\n",
       "0      A1BG       1\n",
       "1  A1BG-AS1  503538\n",
       "2      A1CF   29974\n",
       "3       A2M       2\n",
       "4     A2ML1  144568"
      ]
     },
     "execution_count": 40,
     "metadata": {},
     "output_type": "execute_result"
    }
   ],
   "source": [
    "gene_list.head()"
   ]
  },
  {
   "cell_type": "code",
   "execution_count": 41,
   "metadata": {},
   "outputs": [
    {
     "data": {
      "text/plain": [
       "(17337, 2)"
      ]
     },
     "execution_count": 41,
     "metadata": {},
     "output_type": "execute_result"
    }
   ],
   "source": [
    "gene_list.shape"
   ]
  },
  {
   "cell_type": "markdown",
   "metadata": {},
   "source": [
    "# Save Gene List"
   ]
  },
  {
   "cell_type": "code",
   "execution_count": 42,
   "metadata": {
    "collapsed": true
   },
   "outputs": [],
   "source": [
    "filename = '~/./Documents/Harmonizome/CCLE/Output/ccle_gene_list_%s.tsv.zip'% str(datetime.date.today())[0:7].replace('-', '_')\n",
    "gene_list.to_csv(filename, sep='\\t', index=False, compression='gzip')"
   ]
  },
  {
   "cell_type": "markdown",
   "metadata": {},
   "source": [
    "# Create Attribute List"
   ]
  },
  {
   "cell_type": "code",
   "execution_count": 43,
   "metadata": {},
   "outputs": [
    {
     "name": "stdout",
     "output_type": "stream",
     "text": [
      "Progeres: 100%  1036 Out of 1036   \r"
     ]
    }
   ],
   "source": [
    "attribute_list = uf.createAttributeList(normalized_matrix, sample_meta[['Gender', 'Site Primary', 'Histology', 'Cell line primary name']].set_index('Cell line primary name'))"
   ]
  },
  {
   "cell_type": "code",
   "execution_count": 44,
   "metadata": {},
   "outputs": [
    {
     "data": {
      "text/html": [
       "<div>\n",
       "<style scoped>\n",
       "    .dataframe tbody tr th:only-of-type {\n",
       "        vertical-align: middle;\n",
       "    }\n",
       "\n",
       "    .dataframe tbody tr th {\n",
       "        vertical-align: top;\n",
       "    }\n",
       "\n",
       "    .dataframe thead th {\n",
       "        text-align: right;\n",
       "    }\n",
       "</style>\n",
       "<table border=\"1\" class=\"dataframe\">\n",
       "  <thead>\n",
       "    <tr style=\"text-align: right;\">\n",
       "      <th></th>\n",
       "      <th>Gender</th>\n",
       "      <th>Site Primary</th>\n",
       "      <th>Histology</th>\n",
       "    </tr>\n",
       "    <tr>\n",
       "      <th>Attributes</th>\n",
       "      <th></th>\n",
       "      <th></th>\n",
       "      <th></th>\n",
       "    </tr>\n",
       "  </thead>\n",
       "  <tbody>\n",
       "    <tr>\n",
       "      <th>1321N1</th>\n",
       "      <td>M</td>\n",
       "      <td>central_nervous_system</td>\n",
       "      <td>glioma</td>\n",
       "    </tr>\n",
       "    <tr>\n",
       "      <th>143B</th>\n",
       "      <td>F</td>\n",
       "      <td>bone</td>\n",
       "      <td>osteosarcoma</td>\n",
       "    </tr>\n",
       "    <tr>\n",
       "      <th>22Rv1</th>\n",
       "      <td>M</td>\n",
       "      <td>prostate</td>\n",
       "      <td>carcinoma</td>\n",
       "    </tr>\n",
       "    <tr>\n",
       "      <th>23132/87</th>\n",
       "      <td>M</td>\n",
       "      <td>stomach</td>\n",
       "      <td>carcinoma</td>\n",
       "    </tr>\n",
       "    <tr>\n",
       "      <th>253J</th>\n",
       "      <td>NaN</td>\n",
       "      <td>urinary_tract</td>\n",
       "      <td>carcinoma</td>\n",
       "    </tr>\n",
       "  </tbody>\n",
       "</table>\n",
       "</div>"
      ],
      "text/plain": [
       "           Gender            Site Primary     Histology\n",
       "Attributes                                             \n",
       "1321N1          M  central_nervous_system        glioma\n",
       "143B            F                    bone  osteosarcoma\n",
       "22Rv1           M                prostate     carcinoma\n",
       "23132/87        M                 stomach     carcinoma\n",
       "253J          NaN           urinary_tract     carcinoma"
      ]
     },
     "execution_count": 44,
     "metadata": {},
     "output_type": "execute_result"
    }
   ],
   "source": [
    "attribute_list.head()"
   ]
  },
  {
   "cell_type": "code",
   "execution_count": 45,
   "metadata": {},
   "outputs": [
    {
     "data": {
      "text/plain": [
       "(1036, 3)"
      ]
     },
     "execution_count": 45,
     "metadata": {},
     "output_type": "execute_result"
    }
   ],
   "source": [
    "attribute_list.shape"
   ]
  },
  {
   "cell_type": "markdown",
   "metadata": {},
   "source": [
    "# Save Attribute List"
   ]
  },
  {
   "cell_type": "code",
   "execution_count": 46,
   "metadata": {
    "collapsed": true
   },
   "outputs": [],
   "source": [
    "filename = '~/./Documents/Harmonizome/CCLE/Output/ccle_attribute_list_%s.tsv.zip'% str(datetime.date.today())[0:7].replace('-', '_')\n",
    "attribute_list.to_csv(filename, sep='\\t', compression='gzip')"
   ]
  },
  {
   "cell_type": "markdown",
   "metadata": {},
   "source": [
    "# Create matrix of Standardized values (values between -1, and 1)"
   ]
  },
  {
   "cell_type": "code",
   "execution_count": 47,
   "metadata": {},
   "outputs": [
    {
     "name": "stdout",
     "output_type": "stream",
     "text": [
      "Progeres: 100%  17337 Out of 17337   \r"
     ]
    }
   ],
   "source": [
    "standard_matrix = uf.createStandardizedMatix(normalized_matrix)"
   ]
  },
  {
   "cell_type": "code",
   "execution_count": 48,
   "metadata": {},
   "outputs": [
    {
     "data": {
      "text/html": [
       "<div>\n",
       "<style scoped>\n",
       "    .dataframe tbody tr th:only-of-type {\n",
       "        vertical-align: middle;\n",
       "    }\n",
       "\n",
       "    .dataframe tbody tr th {\n",
       "        vertical-align: top;\n",
       "    }\n",
       "\n",
       "    .dataframe thead th {\n",
       "        text-align: right;\n",
       "    }\n",
       "</style>\n",
       "<table border=\"1\" class=\"dataframe\">\n",
       "  <thead>\n",
       "    <tr style=\"text-align: right;\">\n",
       "      <th></th>\n",
       "      <th>1321N1</th>\n",
       "      <th>143B</th>\n",
       "      <th>22Rv1</th>\n",
       "      <th>23132/87</th>\n",
       "      <th>253J</th>\n",
       "      <th>253J-BV</th>\n",
       "      <th>42-MG-BA</th>\n",
       "      <th>5637</th>\n",
       "      <th>59M</th>\n",
       "      <th>639-V</th>\n",
       "      <th>...</th>\n",
       "      <th>YD-10B</th>\n",
       "      <th>YD-15</th>\n",
       "      <th>YD-38</th>\n",
       "      <th>YD-8</th>\n",
       "      <th>YH-13</th>\n",
       "      <th>YKG1</th>\n",
       "      <th>YMB-1</th>\n",
       "      <th>ZR-75-1</th>\n",
       "      <th>ZR-75-30</th>\n",
       "      <th>huH-1</th>\n",
       "    </tr>\n",
       "    <tr>\n",
       "      <th>index</th>\n",
       "      <th></th>\n",
       "      <th></th>\n",
       "      <th></th>\n",
       "      <th></th>\n",
       "      <th></th>\n",
       "      <th></th>\n",
       "      <th></th>\n",
       "      <th></th>\n",
       "      <th></th>\n",
       "      <th></th>\n",
       "      <th></th>\n",
       "      <th></th>\n",
       "      <th></th>\n",
       "      <th></th>\n",
       "      <th></th>\n",
       "      <th></th>\n",
       "      <th></th>\n",
       "      <th></th>\n",
       "      <th></th>\n",
       "      <th></th>\n",
       "      <th></th>\n",
       "    </tr>\n",
       "  </thead>\n",
       "  <tbody>\n",
       "    <tr>\n",
       "      <th>A1BG</th>\n",
       "      <td>0.076951</td>\n",
       "      <td>-0.098726</td>\n",
       "      <td>-0.370925</td>\n",
       "      <td>-0.867062</td>\n",
       "      <td>-0.536948</td>\n",
       "      <td>-0.442354</td>\n",
       "      <td>0.941818</td>\n",
       "      <td>-0.874784</td>\n",
       "      <td>0.447608</td>\n",
       "      <td>0.644520</td>\n",
       "      <td>...</td>\n",
       "      <td>-0.374788</td>\n",
       "      <td>-0.984821</td>\n",
       "      <td>-0.596793</td>\n",
       "      <td>-0.656639</td>\n",
       "      <td>0.690852</td>\n",
       "      <td>0.086604</td>\n",
       "      <td>0.980429</td>\n",
       "      <td>0.878112</td>\n",
       "      <td>0.544132</td>\n",
       "      <td>-0.311079</td>\n",
       "    </tr>\n",
       "    <tr>\n",
       "      <th>A1BG-AS1</th>\n",
       "      <td>-0.465257</td>\n",
       "      <td>-0.386107</td>\n",
       "      <td>-0.092672</td>\n",
       "      <td>0.017366</td>\n",
       "      <td>-0.613905</td>\n",
       "      <td>-0.683403</td>\n",
       "      <td>0.631268</td>\n",
       "      <td>-0.173753</td>\n",
       "      <td>0.075282</td>\n",
       "      <td>0.293429</td>\n",
       "      <td>...</td>\n",
       "      <td>0.577214</td>\n",
       "      <td>-0.907340</td>\n",
       "      <td>-0.573365</td>\n",
       "      <td>-0.320469</td>\n",
       "      <td>0.198835</td>\n",
       "      <td>-0.339775</td>\n",
       "      <td>0.613894</td>\n",
       "      <td>0.067560</td>\n",
       "      <td>-0.019313</td>\n",
       "      <td>-0.507728</td>\n",
       "    </tr>\n",
       "    <tr>\n",
       "      <th>A1CF</th>\n",
       "      <td>-0.948948</td>\n",
       "      <td>-0.584087</td>\n",
       "      <td>0.923637</td>\n",
       "      <td>0.879235</td>\n",
       "      <td>0.170738</td>\n",
       "      <td>-0.487562</td>\n",
       "      <td>-0.317677</td>\n",
       "      <td>0.359929</td>\n",
       "      <td>0.705490</td>\n",
       "      <td>0.578076</td>\n",
       "      <td>...</td>\n",
       "      <td>0.728657</td>\n",
       "      <td>-0.138141</td>\n",
       "      <td>0.157225</td>\n",
       "      <td>-0.723082</td>\n",
       "      <td>0.095450</td>\n",
       "      <td>-0.821537</td>\n",
       "      <td>-0.192196</td>\n",
       "      <td>-0.087947</td>\n",
       "      <td>-0.323468</td>\n",
       "      <td>0.991207</td>\n",
       "    </tr>\n",
       "    <tr>\n",
       "      <th>A2M</th>\n",
       "      <td>0.442456</td>\n",
       "      <td>0.728172</td>\n",
       "      <td>0.695353</td>\n",
       "      <td>-0.484184</td>\n",
       "      <td>0.645160</td>\n",
       "      <td>0.664463</td>\n",
       "      <td>0.150950</td>\n",
       "      <td>-0.750593</td>\n",
       "      <td>-0.885726</td>\n",
       "      <td>-0.794993</td>\n",
       "      <td>...</td>\n",
       "      <td>0.488788</td>\n",
       "      <td>-0.406965</td>\n",
       "      <td>-0.156001</td>\n",
       "      <td>0.589175</td>\n",
       "      <td>0.658673</td>\n",
       "      <td>-0.267969</td>\n",
       "      <td>0.610411</td>\n",
       "      <td>-0.580711</td>\n",
       "      <td>0.656743</td>\n",
       "      <td>-0.146348</td>\n",
       "    </tr>\n",
       "    <tr>\n",
       "      <th>A2ML1</th>\n",
       "      <td>0.683533</td>\n",
       "      <td>-0.326121</td>\n",
       "      <td>-0.748900</td>\n",
       "      <td>-0.470908</td>\n",
       "      <td>0.079284</td>\n",
       "      <td>0.569632</td>\n",
       "      <td>0.841835</td>\n",
       "      <td>0.888167</td>\n",
       "      <td>0.548397</td>\n",
       "      <td>0.502065</td>\n",
       "      <td>...</td>\n",
       "      <td>0.656506</td>\n",
       "      <td>-0.380175</td>\n",
       "      <td>0.760755</td>\n",
       "      <td>-0.472837</td>\n",
       "      <td>0.650714</td>\n",
       "      <td>-0.636929</td>\n",
       "      <td>0.245309</td>\n",
       "      <td>0.766545</td>\n",
       "      <td>0.718282</td>\n",
       "      <td>-0.119557</td>\n",
       "    </tr>\n",
       "  </tbody>\n",
       "</table>\n",
       "<p>5 rows × 1036 columns</p>\n",
       "</div>"
      ],
      "text/plain": [
       "            1321N1      143B     22Rv1  23132/87      253J   253J-BV  \\\n",
       "index                                                                  \n",
       "A1BG      0.076951 -0.098726 -0.370925 -0.867062 -0.536948 -0.442354   \n",
       "A1BG-AS1 -0.465257 -0.386107 -0.092672  0.017366 -0.613905 -0.683403   \n",
       "A1CF     -0.948948 -0.584087  0.923637  0.879235  0.170738 -0.487562   \n",
       "A2M       0.442456  0.728172  0.695353 -0.484184  0.645160  0.664463   \n",
       "A2ML1     0.683533 -0.326121 -0.748900 -0.470908  0.079284  0.569632   \n",
       "\n",
       "          42-MG-BA      5637       59M     639-V    ...       YD-10B  \\\n",
       "index                                               ...                \n",
       "A1BG      0.941818 -0.874784  0.447608  0.644520    ...    -0.374788   \n",
       "A1BG-AS1  0.631268 -0.173753  0.075282  0.293429    ...     0.577214   \n",
       "A1CF     -0.317677  0.359929  0.705490  0.578076    ...     0.728657   \n",
       "A2M       0.150950 -0.750593 -0.885726 -0.794993    ...     0.488788   \n",
       "A2ML1     0.841835  0.888167  0.548397  0.502065    ...     0.656506   \n",
       "\n",
       "             YD-15     YD-38      YD-8     YH-13      YKG1     YMB-1  \\\n",
       "index                                                                  \n",
       "A1BG     -0.984821 -0.596793 -0.656639  0.690852  0.086604  0.980429   \n",
       "A1BG-AS1 -0.907340 -0.573365 -0.320469  0.198835 -0.339775  0.613894   \n",
       "A1CF     -0.138141  0.157225 -0.723082  0.095450 -0.821537 -0.192196   \n",
       "A2M      -0.406965 -0.156001  0.589175  0.658673 -0.267969  0.610411   \n",
       "A2ML1    -0.380175  0.760755 -0.472837  0.650714 -0.636929  0.245309   \n",
       "\n",
       "           ZR-75-1  ZR-75-30     huH-1  \n",
       "index                                   \n",
       "A1BG      0.878112  0.544132 -0.311079  \n",
       "A1BG-AS1  0.067560 -0.019313 -0.507728  \n",
       "A1CF     -0.087947 -0.323468  0.991207  \n",
       "A2M      -0.580711  0.656743 -0.146348  \n",
       "A2ML1     0.766545  0.718282 -0.119557  \n",
       "\n",
       "[5 rows x 1036 columns]"
      ]
     },
     "execution_count": 48,
     "metadata": {},
     "output_type": "execute_result"
    }
   ],
   "source": [
    "standard_matrix.head()"
   ]
  },
  {
   "cell_type": "markdown",
   "metadata": {},
   "source": [
    "# Plot of A Single Celltype, Normalized Value vs. Standardized Value"
   ]
  },
  {
   "cell_type": "code",
   "execution_count": 49,
   "metadata": {},
   "outputs": [
    {
     "data": {
      "image/png": "[encoded data removed]",
      "text/plain": [
       "<matplotlib.figure.Figure at 0x11931c668>"
      ]
     },
     "metadata": {},
     "output_type": "display_data"
    }
   ],
   "source": [
    "plt.plot(normalized_matrix[normalized_matrix.columns[0]], standard_matrix[standard_matrix.columns[0]], 'bo')\n",
    "plt.xlabel('Normalized Values')\n",
    "plt.ylabel('Standardized Values')\n",
    "plt.title(standard_matrix.columns[0])\n",
    "plt.grid(True)"
   ]
  },
  {
   "cell_type": "markdown",
   "metadata": {},
   "source": [
    "# Save Standardized Matrix"
   ]
  },
  {
   "cell_type": "code",
   "execution_count": 50,
   "metadata": {
    "collapsed": true
   },
   "outputs": [],
   "source": [
    "filename = '~/./Documents/Harmonizome/CCLE/Output/ccle_sample_standard_matrix_%s.tsv.zip'% str(datetime.date.today())[0:7].replace('-', '_')\n",
    "standard_matrix.to_csv(filename, sep='\\t', compression='gzip')"
   ]
  },
  {
   "cell_type": "markdown",
   "metadata": {},
   "source": [
    "# Create Tertiary Matrix"
   ]
  },
  {
   "cell_type": "code",
   "execution_count": 51,
   "metadata": {
    "collapsed": true
   },
   "outputs": [],
   "source": [
    "tertiary_matrix = uf.createTertiaryMarix(standard_matrix)"
   ]
  },
  {
   "cell_type": "code",
   "execution_count": 52,
   "metadata": {},
   "outputs": [
    {
     "data": {
      "text/html": [
       "<div>\n",
       "<style scoped>\n",
       "    .dataframe tbody tr th:only-of-type {\n",
       "        vertical-align: middle;\n",
       "    }\n",
       "\n",
       "    .dataframe tbody tr th {\n",
       "        vertical-align: top;\n",
       "    }\n",
       "\n",
       "    .dataframe thead th {\n",
       "        text-align: right;\n",
       "    }\n",
       "</style>\n",
       "<table border=\"1\" class=\"dataframe\">\n",
       "  <thead>\n",
       "    <tr style=\"text-align: right;\">\n",
       "      <th></th>\n",
       "      <th>1321N1</th>\n",
       "      <th>143B</th>\n",
       "      <th>22Rv1</th>\n",
       "      <th>23132/87</th>\n",
       "      <th>253J</th>\n",
       "      <th>253J-BV</th>\n",
       "      <th>42-MG-BA</th>\n",
       "      <th>5637</th>\n",
       "      <th>59M</th>\n",
       "      <th>639-V</th>\n",
       "      <th>...</th>\n",
       "      <th>YD-10B</th>\n",
       "      <th>YD-15</th>\n",
       "      <th>YD-38</th>\n",
       "      <th>YD-8</th>\n",
       "      <th>YH-13</th>\n",
       "      <th>YKG1</th>\n",
       "      <th>YMB-1</th>\n",
       "      <th>ZR-75-1</th>\n",
       "      <th>ZR-75-30</th>\n",
       "      <th>huH-1</th>\n",
       "    </tr>\n",
       "    <tr>\n",
       "      <th>index</th>\n",
       "      <th></th>\n",
       "      <th></th>\n",
       "      <th></th>\n",
       "      <th></th>\n",
       "      <th></th>\n",
       "      <th></th>\n",
       "      <th></th>\n",
       "      <th></th>\n",
       "      <th></th>\n",
       "      <th></th>\n",
       "      <th></th>\n",
       "      <th></th>\n",
       "      <th></th>\n",
       "      <th></th>\n",
       "      <th></th>\n",
       "      <th></th>\n",
       "      <th></th>\n",
       "      <th></th>\n",
       "      <th></th>\n",
       "      <th></th>\n",
       "      <th></th>\n",
       "    </tr>\n",
       "  </thead>\n",
       "  <tbody>\n",
       "    <tr>\n",
       "      <th>A1BG</th>\n",
       "      <td>0</td>\n",
       "      <td>0</td>\n",
       "      <td>0</td>\n",
       "      <td>0</td>\n",
       "      <td>0</td>\n",
       "      <td>0</td>\n",
       "      <td>0</td>\n",
       "      <td>0</td>\n",
       "      <td>0</td>\n",
       "      <td>0</td>\n",
       "      <td>...</td>\n",
       "      <td>0</td>\n",
       "      <td>-1</td>\n",
       "      <td>0</td>\n",
       "      <td>0</td>\n",
       "      <td>0</td>\n",
       "      <td>0</td>\n",
       "      <td>1</td>\n",
       "      <td>0</td>\n",
       "      <td>0</td>\n",
       "      <td>0</td>\n",
       "    </tr>\n",
       "    <tr>\n",
       "      <th>A1BG-AS1</th>\n",
       "      <td>0</td>\n",
       "      <td>0</td>\n",
       "      <td>0</td>\n",
       "      <td>0</td>\n",
       "      <td>0</td>\n",
       "      <td>0</td>\n",
       "      <td>0</td>\n",
       "      <td>0</td>\n",
       "      <td>0</td>\n",
       "      <td>0</td>\n",
       "      <td>...</td>\n",
       "      <td>0</td>\n",
       "      <td>0</td>\n",
       "      <td>0</td>\n",
       "      <td>0</td>\n",
       "      <td>0</td>\n",
       "      <td>0</td>\n",
       "      <td>0</td>\n",
       "      <td>0</td>\n",
       "      <td>0</td>\n",
       "      <td>0</td>\n",
       "    </tr>\n",
       "    <tr>\n",
       "      <th>A1CF</th>\n",
       "      <td>0</td>\n",
       "      <td>0</td>\n",
       "      <td>0</td>\n",
       "      <td>0</td>\n",
       "      <td>0</td>\n",
       "      <td>0</td>\n",
       "      <td>0</td>\n",
       "      <td>0</td>\n",
       "      <td>0</td>\n",
       "      <td>0</td>\n",
       "      <td>...</td>\n",
       "      <td>0</td>\n",
       "      <td>0</td>\n",
       "      <td>0</td>\n",
       "      <td>0</td>\n",
       "      <td>0</td>\n",
       "      <td>0</td>\n",
       "      <td>0</td>\n",
       "      <td>0</td>\n",
       "      <td>0</td>\n",
       "      <td>1</td>\n",
       "    </tr>\n",
       "    <tr>\n",
       "      <th>A2M</th>\n",
       "      <td>0</td>\n",
       "      <td>0</td>\n",
       "      <td>0</td>\n",
       "      <td>0</td>\n",
       "      <td>0</td>\n",
       "      <td>0</td>\n",
       "      <td>0</td>\n",
       "      <td>0</td>\n",
       "      <td>0</td>\n",
       "      <td>0</td>\n",
       "      <td>...</td>\n",
       "      <td>0</td>\n",
       "      <td>0</td>\n",
       "      <td>0</td>\n",
       "      <td>0</td>\n",
       "      <td>0</td>\n",
       "      <td>0</td>\n",
       "      <td>0</td>\n",
       "      <td>0</td>\n",
       "      <td>0</td>\n",
       "      <td>0</td>\n",
       "    </tr>\n",
       "    <tr>\n",
       "      <th>A2ML1</th>\n",
       "      <td>0</td>\n",
       "      <td>0</td>\n",
       "      <td>0</td>\n",
       "      <td>0</td>\n",
       "      <td>0</td>\n",
       "      <td>0</td>\n",
       "      <td>0</td>\n",
       "      <td>0</td>\n",
       "      <td>0</td>\n",
       "      <td>0</td>\n",
       "      <td>...</td>\n",
       "      <td>0</td>\n",
       "      <td>0</td>\n",
       "      <td>0</td>\n",
       "      <td>0</td>\n",
       "      <td>0</td>\n",
       "      <td>0</td>\n",
       "      <td>0</td>\n",
       "      <td>0</td>\n",
       "      <td>0</td>\n",
       "      <td>0</td>\n",
       "    </tr>\n",
       "  </tbody>\n",
       "</table>\n",
       "<p>5 rows × 1036 columns</p>\n",
       "</div>"
      ],
      "text/plain": [
       "          1321N1  143B  22Rv1  23132/87  253J  253J-BV  42-MG-BA  5637  59M  \\\n",
       "index                                                                         \n",
       "A1BG           0     0      0         0     0        0         0     0    0   \n",
       "A1BG-AS1       0     0      0         0     0        0         0     0    0   \n",
       "A1CF           0     0      0         0     0        0         0     0    0   \n",
       "A2M            0     0      0         0     0        0         0     0    0   \n",
       "A2ML1          0     0      0         0     0        0         0     0    0   \n",
       "\n",
       "          639-V  ...    YD-10B  YD-15  YD-38  YD-8  YH-13  YKG1  YMB-1  \\\n",
       "index            ...                                                     \n",
       "A1BG          0  ...         0     -1      0     0      0     0      1   \n",
       "A1BG-AS1      0  ...         0      0      0     0      0     0      0   \n",
       "A1CF          0  ...         0      0      0     0      0     0      0   \n",
       "A2M           0  ...         0      0      0     0      0     0      0   \n",
       "A2ML1         0  ...         0      0      0     0      0     0      0   \n",
       "\n",
       "          ZR-75-1  ZR-75-30  huH-1  \n",
       "index                               \n",
       "A1BG            0         0      0  \n",
       "A1BG-AS1        0         0      0  \n",
       "A1CF            0         0      1  \n",
       "A2M             0         0      0  \n",
       "A2ML1           0         0      0  \n",
       "\n",
       "[5 rows x 1036 columns]"
      ]
     },
     "execution_count": 52,
     "metadata": {},
     "output_type": "execute_result"
    }
   ],
   "source": [
    "tertiary_matrix.head()"
   ]
  },
  {
   "cell_type": "markdown",
   "metadata": {},
   "source": [
    "# Save Teriary Matrix"
   ]
  },
  {
   "cell_type": "code",
   "execution_count": 53,
   "metadata": {
    "collapsed": true
   },
   "outputs": [],
   "source": [
    "filename = '~/./Documents/Harmonizome/CCLE/Output/ccle_tertiary_matrix_%s.tsv.zip'% str(datetime.date.today())[0:7].replace('-', '_')\n",
    "tertiary_matrix.to_csv(filename, sep='\\t', compression='gzip')"
   ]
  },
  {
   "cell_type": "markdown",
   "metadata": {},
   "source": [
    "# Path to output files"
   ]
  },
  {
   "cell_type": "code",
   "execution_count": 54,
   "metadata": {
    "collapsed": true
   },
   "outputs": [],
   "source": [
    "path = '/Users/moshesilverstein/Documents/Harmonizome/CCLE/Output/'"
   ]
  },
  {
   "cell_type": "markdown",
   "metadata": {},
   "source": [
    "# Create Up Gene Set Library"
   ]
  },
  {
   "cell_type": "code",
   "execution_count": 55,
   "metadata": {
    "collapsed": true
   },
   "outputs": [],
   "source": [
    "name = 'ccle_gene_up_set'"
   ]
  },
  {
   "cell_type": "code",
   "execution_count": 56,
   "metadata": {},
   "outputs": [
    {
     "name": "stdout",
     "output_type": "stream",
     "text": [
      "Progeres: 100%  1036 Out of 1036   \r"
     ]
    }
   ],
   "source": [
    "uf.createUpGeneSetLib(tertiary_matrix, path, name)"
   ]
  },
  {
   "cell_type": "markdown",
   "metadata": {},
   "source": [
    "# Create Down Gene Set Library"
   ]
  },
  {
   "cell_type": "code",
   "execution_count": 57,
   "metadata": {
    "collapsed": true
   },
   "outputs": [],
   "source": [
    "name = 'ccle_gene_down_set'"
   ]
  },
  {
   "cell_type": "code",
   "execution_count": 58,
   "metadata": {},
   "outputs": [
    {
     "name": "stdout",
     "output_type": "stream",
     "text": [
      "Progeres: 100%  1036 Out of 1036   \r"
     ]
    }
   ],
   "source": [
    "uf.createDownGeneSetLib(tertiary_matrix, path, name)"
   ]
  },
  {
   "cell_type": "markdown",
   "metadata": {},
   "source": [
    "# Create Up Attribute Library"
   ]
  },
  {
   "cell_type": "code",
   "execution_count": 59,
   "metadata": {
    "collapsed": true
   },
   "outputs": [],
   "source": [
    "name = 'ccle_attribute_up_set'"
   ]
  },
  {
   "cell_type": "code",
   "execution_count": 60,
   "metadata": {},
   "outputs": [
    {
     "name": "stdout",
     "output_type": "stream",
     "text": [
      "Progeres: 100%  17337 Out of 17337   \r"
     ]
    }
   ],
   "source": [
    "uf.createUpAttributeSetLib(tertiary_matrix, path, name)"
   ]
  },
  {
   "cell_type": "markdown",
   "metadata": {},
   "source": [
    "# Create Down Attribute Library"
   ]
  },
  {
   "cell_type": "code",
   "execution_count": 61,
   "metadata": {
    "collapsed": true
   },
   "outputs": [],
   "source": [
    "name = 'ccle_attribute_down_set'"
   ]
  },
  {
   "cell_type": "code",
   "execution_count": 62,
   "metadata": {},
   "outputs": [
    {
     "name": "stdout",
     "output_type": "stream",
     "text": [
      "Progeres: 100%  17337 Out of 17337   \r"
     ]
    }
   ],
   "source": [
    "uf.createDownAttributeSetLib(tertiary_matrix, path, name)"
   ]
  },
  {
   "cell_type": "markdown",
   "metadata": {},
   "source": [
    "# Create Attribute Similarity matrix"
   ]
  },
  {
   "cell_type": "code",
   "execution_count": 63,
   "metadata": {
    "collapsed": true
   },
   "outputs": [],
   "source": [
    "attribute_similarity_matix = uf.createSimilarityMatrix(normalized_matrix.T, 'cosine')"
   ]
  },
  {
   "cell_type": "code",
   "execution_count": 64,
   "metadata": {},
   "outputs": [
    {
     "data": {
      "text/html": [
       "<div>\n",
       "<style scoped>\n",
       "    .dataframe tbody tr th:only-of-type {\n",
       "        vertical-align: middle;\n",
       "    }\n",
       "\n",
       "    .dataframe tbody tr th {\n",
       "        vertical-align: top;\n",
       "    }\n",
       "\n",
       "    .dataframe thead th {\n",
       "        text-align: right;\n",
       "    }\n",
       "</style>\n",
       "<table border=\"1\" class=\"dataframe\">\n",
       "  <thead>\n",
       "    <tr style=\"text-align: right;\">\n",
       "      <th></th>\n",
       "      <th>1321N1</th>\n",
       "      <th>143B</th>\n",
       "      <th>22Rv1</th>\n",
       "      <th>23132/87</th>\n",
       "      <th>253J</th>\n",
       "      <th>253J-BV</th>\n",
       "      <th>42-MG-BA</th>\n",
       "      <th>5637</th>\n",
       "      <th>59M</th>\n",
       "      <th>639-V</th>\n",
       "      <th>...</th>\n",
       "      <th>YD-10B</th>\n",
       "      <th>YD-15</th>\n",
       "      <th>YD-38</th>\n",
       "      <th>YD-8</th>\n",
       "      <th>YH-13</th>\n",
       "      <th>YKG1</th>\n",
       "      <th>YMB-1</th>\n",
       "      <th>ZR-75-1</th>\n",
       "      <th>ZR-75-30</th>\n",
       "      <th>huH-1</th>\n",
       "    </tr>\n",
       "  </thead>\n",
       "  <tbody>\n",
       "    <tr>\n",
       "      <th>1321N1</th>\n",
       "      <td>1.000000</td>\n",
       "      <td>0.125749</td>\n",
       "      <td>0.043672</td>\n",
       "      <td>-0.039328</td>\n",
       "      <td>0.043957</td>\n",
       "      <td>0.079455</td>\n",
       "      <td>0.273936</td>\n",
       "      <td>0.044251</td>\n",
       "      <td>0.064914</td>\n",
       "      <td>0.115643</td>\n",
       "      <td>...</td>\n",
       "      <td>-0.005525</td>\n",
       "      <td>0.046259</td>\n",
       "      <td>-0.001104</td>\n",
       "      <td>0.072643</td>\n",
       "      <td>0.274045</td>\n",
       "      <td>0.234400</td>\n",
       "      <td>-0.000090</td>\n",
       "      <td>-0.014495</td>\n",
       "      <td>-0.050991</td>\n",
       "      <td>0.056780</td>\n",
       "    </tr>\n",
       "    <tr>\n",
       "      <th>143B</th>\n",
       "      <td>0.125749</td>\n",
       "      <td>1.000000</td>\n",
       "      <td>0.039516</td>\n",
       "      <td>-0.058214</td>\n",
       "      <td>-0.057186</td>\n",
       "      <td>0.069184</td>\n",
       "      <td>0.174793</td>\n",
       "      <td>0.126995</td>\n",
       "      <td>0.183264</td>\n",
       "      <td>0.205541</td>\n",
       "      <td>...</td>\n",
       "      <td>0.025815</td>\n",
       "      <td>0.098239</td>\n",
       "      <td>-0.011646</td>\n",
       "      <td>0.017738</td>\n",
       "      <td>0.139001</td>\n",
       "      <td>0.099594</td>\n",
       "      <td>-0.042522</td>\n",
       "      <td>-0.043394</td>\n",
       "      <td>-0.098251</td>\n",
       "      <td>0.009493</td>\n",
       "    </tr>\n",
       "    <tr>\n",
       "      <th>22Rv1</th>\n",
       "      <td>0.043672</td>\n",
       "      <td>0.039516</td>\n",
       "      <td>1.000000</td>\n",
       "      <td>0.215549</td>\n",
       "      <td>0.064407</td>\n",
       "      <td>0.061943</td>\n",
       "      <td>-0.054163</td>\n",
       "      <td>-0.013512</td>\n",
       "      <td>-0.049442</td>\n",
       "      <td>0.039281</td>\n",
       "      <td>...</td>\n",
       "      <td>-0.028750</td>\n",
       "      <td>-0.003774</td>\n",
       "      <td>-0.040643</td>\n",
       "      <td>-0.110635</td>\n",
       "      <td>-0.011416</td>\n",
       "      <td>0.068713</td>\n",
       "      <td>0.219408</td>\n",
       "      <td>0.212923</td>\n",
       "      <td>0.161353</td>\n",
       "      <td>0.177271</td>\n",
       "    </tr>\n",
       "    <tr>\n",
       "      <th>23132/87</th>\n",
       "      <td>-0.039328</td>\n",
       "      <td>-0.058214</td>\n",
       "      <td>0.215549</td>\n",
       "      <td>1.000000</td>\n",
       "      <td>0.034075</td>\n",
       "      <td>0.029972</td>\n",
       "      <td>-0.067529</td>\n",
       "      <td>0.006591</td>\n",
       "      <td>-0.025333</td>\n",
       "      <td>-0.014296</td>\n",
       "      <td>...</td>\n",
       "      <td>0.078734</td>\n",
       "      <td>0.086693</td>\n",
       "      <td>0.118183</td>\n",
       "      <td>0.002050</td>\n",
       "      <td>-0.069982</td>\n",
       "      <td>-0.037666</td>\n",
       "      <td>0.174947</td>\n",
       "      <td>0.184749</td>\n",
       "      <td>0.236676</td>\n",
       "      <td>0.182736</td>\n",
       "    </tr>\n",
       "    <tr>\n",
       "      <th>253J</th>\n",
       "      <td>0.043957</td>\n",
       "      <td>-0.057186</td>\n",
       "      <td>0.064407</td>\n",
       "      <td>0.034075</td>\n",
       "      <td>1.000000</td>\n",
       "      <td>0.717359</td>\n",
       "      <td>0.018934</td>\n",
       "      <td>0.011832</td>\n",
       "      <td>0.039841</td>\n",
       "      <td>-0.061349</td>\n",
       "      <td>...</td>\n",
       "      <td>0.047876</td>\n",
       "      <td>-0.012517</td>\n",
       "      <td>0.101820</td>\n",
       "      <td>0.064035</td>\n",
       "      <td>0.075340</td>\n",
       "      <td>0.088415</td>\n",
       "      <td>0.100150</td>\n",
       "      <td>0.089801</td>\n",
       "      <td>0.068362</td>\n",
       "      <td>0.185701</td>\n",
       "    </tr>\n",
       "  </tbody>\n",
       "</table>\n",
       "<p>5 rows × 1036 columns</p>\n",
       "</div>"
      ],
      "text/plain": [
       "            1321N1      143B     22Rv1  23132/87      253J   253J-BV  \\\n",
       "1321N1    1.000000  0.125749  0.043672 -0.039328  0.043957  0.079455   \n",
       "143B      0.125749  1.000000  0.039516 -0.058214 -0.057186  0.069184   \n",
       "22Rv1     0.043672  0.039516  1.000000  0.215549  0.064407  0.061943   \n",
       "23132/87 -0.039328 -0.058214  0.215549  1.000000  0.034075  0.029972   \n",
       "253J      0.043957 -0.057186  0.064407  0.034075  1.000000  0.717359   \n",
       "\n",
       "          42-MG-BA      5637       59M     639-V    ...       YD-10B  \\\n",
       "1321N1    0.273936  0.044251  0.064914  0.115643    ...    -0.005525   \n",
       "143B      0.174793  0.126995  0.183264  0.205541    ...     0.025815   \n",
       "22Rv1    -0.054163 -0.013512 -0.049442  0.039281    ...    -0.028750   \n",
       "23132/87 -0.067529  0.006591 -0.025333 -0.014296    ...     0.078734   \n",
       "253J      0.018934  0.011832  0.039841 -0.061349    ...     0.047876   \n",
       "\n",
       "             YD-15     YD-38      YD-8     YH-13      YKG1     YMB-1  \\\n",
       "1321N1    0.046259 -0.001104  0.072643  0.274045  0.234400 -0.000090   \n",
       "143B      0.098239 -0.011646  0.017738  0.139001  0.099594 -0.042522   \n",
       "22Rv1    -0.003774 -0.040643 -0.110635 -0.011416  0.068713  0.219408   \n",
       "23132/87  0.086693  0.118183  0.002050 -0.069982 -0.037666  0.174947   \n",
       "253J     -0.012517  0.101820  0.064035  0.075340  0.088415  0.100150   \n",
       "\n",
       "           ZR-75-1  ZR-75-30     huH-1  \n",
       "1321N1   -0.014495 -0.050991  0.056780  \n",
       "143B     -0.043394 -0.098251  0.009493  \n",
       "22Rv1     0.212923  0.161353  0.177271  \n",
       "23132/87  0.184749  0.236676  0.182736  \n",
       "253J      0.089801  0.068362  0.185701  \n",
       "\n",
       "[5 rows x 1036 columns]"
      ]
     },
     "execution_count": 64,
     "metadata": {},
     "output_type": "execute_result"
    }
   ],
   "source": [
    "attribute_similarity_matix.head()"
   ]
  },
  {
   "cell_type": "markdown",
   "metadata": {},
   "source": [
    "# HeatMap (clustergrammer) of Attribute Similarity Matrix"
   ]
  },
  {
   "cell_type": "code",
   "execution_count": 65,
   "metadata": {},
   "outputs": [
    {
     "name": "stderr",
     "output_type": "stream",
     "text": [
      "Widget Javascript not detected.  It may not be installed or enabled properly.\n"
     ]
    },
    {
     "data": {
      "application/vnd.jupyter.widget-view+json": {
       "model_id": "bd7e0574ac1d414fb66af393361f473a"
      }
     },
     "metadata": {},
     "output_type": "display_data"
    }
   ],
   "source": [
    "net.load_df(attribute_similarity_matix.iloc[:100,:100].copy())\n",
    "# net.filter_N_top('row', rank_type='sum', N_top=50)\n",
    "net.cluster()\n",
    "net.widget()"
   ]
  },
  {
   "cell_type": "markdown",
   "metadata": {},
   "source": [
    "# Save Attribute Similarity Matrix"
   ]
  },
  {
   "cell_type": "code",
   "execution_count": 66,
   "metadata": {
    "collapsed": true
   },
   "outputs": [],
   "source": [
    "filename = '~/./Documents/Harmonizome/CCLE/Output/ccle_attribute_similarity_matix_%s.tsv.zip'% str(datetime.date.today())[0:7].replace('-', '_')\n",
    "attribute_similarity_matix.to_csv(filename, sep='\\t', compression='gzip')"
   ]
  },
  {
   "cell_type": "markdown",
   "metadata": {},
   "source": [
    "# Create Gene Similarity Matrix"
   ]
  },
  {
   "cell_type": "code",
   "execution_count": 67,
   "metadata": {
    "collapsed": true
   },
   "outputs": [],
   "source": [
    "gene_similarity_matix = uf.createSimilarityMatrix(normalized_matrix, 'cosine')"
   ]
  },
  {
   "cell_type": "code",
   "execution_count": 68,
   "metadata": {},
   "outputs": [
    {
     "data": {
      "text/html": [
       "<div>\n",
       "<style scoped>\n",
       "    .dataframe tbody tr th:only-of-type {\n",
       "        vertical-align: middle;\n",
       "    }\n",
       "\n",
       "    .dataframe tbody tr th {\n",
       "        vertical-align: top;\n",
       "    }\n",
       "\n",
       "    .dataframe thead th {\n",
       "        text-align: right;\n",
       "    }\n",
       "</style>\n",
       "<table border=\"1\" class=\"dataframe\">\n",
       "  <thead>\n",
       "    <tr style=\"text-align: right;\">\n",
       "      <th>index</th>\n",
       "      <th>A1BG</th>\n",
       "      <th>A1BG-AS1</th>\n",
       "      <th>A1CF</th>\n",
       "      <th>A2M</th>\n",
       "      <th>A2ML1</th>\n",
       "      <th>A4GALT</th>\n",
       "      <th>A4GNT</th>\n",
       "      <th>AAAS</th>\n",
       "      <th>AACS</th>\n",
       "      <th>AACSP1</th>\n",
       "      <th>...</th>\n",
       "      <th>ZWILCH</th>\n",
       "      <th>ZWINT</th>\n",
       "      <th>ZXDA</th>\n",
       "      <th>ZXDB</th>\n",
       "      <th>ZXDC</th>\n",
       "      <th>ZYG11A</th>\n",
       "      <th>ZYG11B</th>\n",
       "      <th>ZYX</th>\n",
       "      <th>ZZEF1</th>\n",
       "      <th>ZZZ3</th>\n",
       "    </tr>\n",
       "    <tr>\n",
       "      <th>index</th>\n",
       "      <th></th>\n",
       "      <th></th>\n",
       "      <th></th>\n",
       "      <th></th>\n",
       "      <th></th>\n",
       "      <th></th>\n",
       "      <th></th>\n",
       "      <th></th>\n",
       "      <th></th>\n",
       "      <th></th>\n",
       "      <th></th>\n",
       "      <th></th>\n",
       "      <th></th>\n",
       "      <th></th>\n",
       "      <th></th>\n",
       "      <th></th>\n",
       "      <th></th>\n",
       "      <th></th>\n",
       "      <th></th>\n",
       "      <th></th>\n",
       "      <th></th>\n",
       "    </tr>\n",
       "  </thead>\n",
       "  <tbody>\n",
       "    <tr>\n",
       "      <th>A1BG</th>\n",
       "      <td>1.000000</td>\n",
       "      <td>0.592609</td>\n",
       "      <td>-0.229904</td>\n",
       "      <td>0.187615</td>\n",
       "      <td>-0.145025</td>\n",
       "      <td>-0.113041</td>\n",
       "      <td>-0.021549</td>\n",
       "      <td>0.003403</td>\n",
       "      <td>-0.154314</td>\n",
       "      <td>0.021758</td>\n",
       "      <td>...</td>\n",
       "      <td>-0.007388</td>\n",
       "      <td>-0.037306</td>\n",
       "      <td>0.057891</td>\n",
       "      <td>-0.037379</td>\n",
       "      <td>0.052251</td>\n",
       "      <td>0.123226</td>\n",
       "      <td>0.276155</td>\n",
       "      <td>-0.083136</td>\n",
       "      <td>0.109190</td>\n",
       "      <td>-0.008501</td>\n",
       "    </tr>\n",
       "    <tr>\n",
       "      <th>A1BG-AS1</th>\n",
       "      <td>0.592609</td>\n",
       "      <td>1.000000</td>\n",
       "      <td>-0.140720</td>\n",
       "      <td>0.184649</td>\n",
       "      <td>-0.030053</td>\n",
       "      <td>0.112164</td>\n",
       "      <td>0.007273</td>\n",
       "      <td>-0.097933</td>\n",
       "      <td>-0.080584</td>\n",
       "      <td>0.023537</td>\n",
       "      <td>...</td>\n",
       "      <td>-0.093837</td>\n",
       "      <td>-0.045932</td>\n",
       "      <td>-0.032629</td>\n",
       "      <td>-0.098452</td>\n",
       "      <td>-0.090994</td>\n",
       "      <td>0.134994</td>\n",
       "      <td>0.122261</td>\n",
       "      <td>-0.058044</td>\n",
       "      <td>0.052698</td>\n",
       "      <td>-0.024638</td>\n",
       "    </tr>\n",
       "    <tr>\n",
       "      <th>A1CF</th>\n",
       "      <td>-0.229904</td>\n",
       "      <td>-0.140720</td>\n",
       "      <td>1.000000</td>\n",
       "      <td>0.171722</td>\n",
       "      <td>0.019184</td>\n",
       "      <td>0.003857</td>\n",
       "      <td>0.041560</td>\n",
       "      <td>0.082914</td>\n",
       "      <td>0.167644</td>\n",
       "      <td>0.088371</td>\n",
       "      <td>...</td>\n",
       "      <td>-0.054111</td>\n",
       "      <td>-0.062442</td>\n",
       "      <td>-0.080137</td>\n",
       "      <td>0.045756</td>\n",
       "      <td>0.006820</td>\n",
       "      <td>-0.011382</td>\n",
       "      <td>-0.193948</td>\n",
       "      <td>-0.062811</td>\n",
       "      <td>-0.076901</td>\n",
       "      <td>-0.102729</td>\n",
       "    </tr>\n",
       "    <tr>\n",
       "      <th>A2M</th>\n",
       "      <td>0.187615</td>\n",
       "      <td>0.184649</td>\n",
       "      <td>0.171722</td>\n",
       "      <td>1.000000</td>\n",
       "      <td>-0.008952</td>\n",
       "      <td>0.009105</td>\n",
       "      <td>-0.008361</td>\n",
       "      <td>-0.088988</td>\n",
       "      <td>-0.071408</td>\n",
       "      <td>0.075980</td>\n",
       "      <td>...</td>\n",
       "      <td>-0.078753</td>\n",
       "      <td>-0.167020</td>\n",
       "      <td>-0.058956</td>\n",
       "      <td>-0.069552</td>\n",
       "      <td>-0.113481</td>\n",
       "      <td>-0.020070</td>\n",
       "      <td>0.092361</td>\n",
       "      <td>0.102702</td>\n",
       "      <td>-0.013138</td>\n",
       "      <td>-0.056797</td>\n",
       "    </tr>\n",
       "    <tr>\n",
       "      <th>A2ML1</th>\n",
       "      <td>-0.145025</td>\n",
       "      <td>-0.030053</td>\n",
       "      <td>0.019184</td>\n",
       "      <td>-0.008952</td>\n",
       "      <td>1.000000</td>\n",
       "      <td>0.285845</td>\n",
       "      <td>0.177080</td>\n",
       "      <td>-0.040102</td>\n",
       "      <td>0.017603</td>\n",
       "      <td>0.057860</td>\n",
       "      <td>...</td>\n",
       "      <td>-0.097600</td>\n",
       "      <td>-0.093994</td>\n",
       "      <td>-0.052664</td>\n",
       "      <td>-0.007709</td>\n",
       "      <td>-0.024992</td>\n",
       "      <td>0.000581</td>\n",
       "      <td>-0.122401</td>\n",
       "      <td>-0.028436</td>\n",
       "      <td>-0.061254</td>\n",
       "      <td>-0.084773</td>\n",
       "    </tr>\n",
       "  </tbody>\n",
       "</table>\n",
       "<p>5 rows × 17337 columns</p>\n",
       "</div>"
      ],
      "text/plain": [
       "index         A1BG  A1BG-AS1      A1CF       A2M     A2ML1    A4GALT  \\\n",
       "index                                                                  \n",
       "A1BG      1.000000  0.592609 -0.229904  0.187615 -0.145025 -0.113041   \n",
       "A1BG-AS1  0.592609  1.000000 -0.140720  0.184649 -0.030053  0.112164   \n",
       "A1CF     -0.229904 -0.140720  1.000000  0.171722  0.019184  0.003857   \n",
       "A2M       0.187615  0.184649  0.171722  1.000000 -0.008952  0.009105   \n",
       "A2ML1    -0.145025 -0.030053  0.019184 -0.008952  1.000000  0.285845   \n",
       "\n",
       "index        A4GNT      AAAS      AACS    AACSP1    ...       ZWILCH  \\\n",
       "index                                               ...                \n",
       "A1BG     -0.021549  0.003403 -0.154314  0.021758    ...    -0.007388   \n",
       "A1BG-AS1  0.007273 -0.097933 -0.080584  0.023537    ...    -0.093837   \n",
       "A1CF      0.041560  0.082914  0.167644  0.088371    ...    -0.054111   \n",
       "A2M      -0.008361 -0.088988 -0.071408  0.075980    ...    -0.078753   \n",
       "A2ML1     0.177080 -0.040102  0.017603  0.057860    ...    -0.097600   \n",
       "\n",
       "index        ZWINT      ZXDA      ZXDB      ZXDC    ZYG11A    ZYG11B  \\\n",
       "index                                                                  \n",
       "A1BG     -0.037306  0.057891 -0.037379  0.052251  0.123226  0.276155   \n",
       "A1BG-AS1 -0.045932 -0.032629 -0.098452 -0.090994  0.134994  0.122261   \n",
       "A1CF     -0.062442 -0.080137  0.045756  0.006820 -0.011382 -0.193948   \n",
       "A2M      -0.167020 -0.058956 -0.069552 -0.113481 -0.020070  0.092361   \n",
       "A2ML1    -0.093994 -0.052664 -0.007709 -0.024992  0.000581 -0.122401   \n",
       "\n",
       "index          ZYX     ZZEF1      ZZZ3  \n",
       "index                                   \n",
       "A1BG     -0.083136  0.109190 -0.008501  \n",
       "A1BG-AS1 -0.058044  0.052698 -0.024638  \n",
       "A1CF     -0.062811 -0.076901 -0.102729  \n",
       "A2M       0.102702 -0.013138 -0.056797  \n",
       "A2ML1    -0.028436 -0.061254 -0.084773  \n",
       "\n",
       "[5 rows x 17337 columns]"
      ]
     },
     "execution_count": 68,
     "metadata": {},
     "output_type": "execute_result"
    }
   ],
   "source": [
    "gene_similarity_matix.head()"
   ]
  },
  {
   "cell_type": "markdown",
   "metadata": {},
   "source": [
    "# HeatMap (clustergrammer) of Gene Similarity Matrix"
   ]
  },
  {
   "cell_type": "code",
   "execution_count": 69,
   "metadata": {},
   "outputs": [
    {
     "name": "stderr",
     "output_type": "stream",
     "text": [
      "Widget Javascript not detected.  It may not be installed or enabled properly.\n"
     ]
    },
    {
     "data": {
      "application/vnd.jupyter.widget-view+json": {
       "model_id": "f8c1c63e19a540bf8995141cc8d9c366"
      }
     },
     "metadata": {},
     "output_type": "display_data"
    }
   ],
   "source": [
    "net.load_df(gene_similarity_matix.iloc[:50,:50].copy())\n",
    "# net.filter_N_top('row', rank_type='sum', N_top=50)\n",
    "net.cluster()\n",
    "net.widget()"
   ]
  },
  {
   "cell_type": "markdown",
   "metadata": {},
   "source": [
    "# Save Gene Similarity Matrix"
   ]
  },
  {
   "cell_type": "code",
   "execution_count": 70,
   "metadata": {
    "collapsed": true
   },
   "outputs": [],
   "source": [
    "filename = '~/./Documents/Harmonizome/CCLE/Output/ccle_gene_similarity_matix_%s.tsv.zip'% str(datetime.date.today())[0:7].replace('-', '_')\n",
    "gene_similarity_matix.to_csv(filename, sep='\\t', compression='gzip')"
   ]
  },
  {
   "cell_type": "markdown",
   "metadata": {},
   "source": [
    "# Create Gene-Attribute Edge List"
   ]
  },
  {
   "cell_type": "code",
   "execution_count": 71,
   "metadata": {
    "collapsed": true
   },
   "outputs": [],
   "source": [
    "path = '/Users/moshesilverstein/Documents/Harmonizome/CCLE/Output/'"
   ]
  },
  {
   "cell_type": "code",
   "execution_count": 72,
   "metadata": {
    "collapsed": true
   },
   "outputs": [],
   "source": [
    "name = 'ccle_gene_attribute_edge_list'"
   ]
  },
  {
   "cell_type": "code",
   "execution_count": 99,
   "metadata": {},
   "outputs": [
    {
     "name": "stdout",
     "output_type": "stream",
     "text": [
      "Progeres: 100%  1036 Out of 1036   \n",
      "\n",
      " The number of statisticaly relevent gene-attribute associations is: 898462\n"
     ]
    }
   ],
   "source": [
    "uf.createGeneAttributeEdgeList(standard_matrix, attribute_list, gene_list, path, name)"
   ]
  },
  {
   "cell_type": "code",
   "execution_count": 97,
   "metadata": {},
   "outputs": [
    {
     "data": {
      "text/plain": [
       "<module 'untility_functions' from '/Users/moshesilverstein/Documents/Harmonizome/CCLE/untility_functions.py'>"
      ]
     },
     "execution_count": 97,
     "metadata": {},
     "output_type": "execute_result"
    }
   ],
   "source": [
    "importlib.reload(uf)"
   ]
  }
 ],
 "metadata": {
  "kernelspec": {
   "display_name": "Python [default]",
   "language": "python",
   "name": "python3"
  },
  "language_info": {
   "codemirror_mode": {
    "name": "ipython",
    "version": 3
   },
   "file_extension": ".py",
   "mimetype": "text/x-python",
   "name": "python",
   "nbconvert_exporter": "python",
   "pygments_lexer": "ipython3",
   "version": "3.5.2"
  }
 },
 "nbformat": 4,
 "nbformat_minor": 2
}
