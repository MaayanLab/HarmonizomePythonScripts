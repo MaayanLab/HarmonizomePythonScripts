{
 "cells": [
  {
   "cell_type": "markdown",
   "metadata": {},
   "source": [
    "# dbGAP \t(Database of Genotypes and Phenotypes)"
   ]
  },
  {
   "cell_type": "markdown",
   "metadata": {},
   "source": [
    "Author: Moshe Silverstein <br/>\n",
    "Date: 8-17 <br/>\n",
    "Data Source: http://www.ncbi.nlm.nih.gov/gap"
   ]
  },
  {
   "cell_type": "code",
   "execution_count": 4,
   "metadata": {},
   "outputs": [],
   "source": [
    "import sys, datetime, os\n",
    "import numpy as np\n",
    "import pandas as pd\n",
    "import importlib\n",
    "import untility_functions as uf\n",
    "%matplotlib inline"
   ]
  },
  {
   "cell_type": "code",
   "execution_count": 5,
   "metadata": {},
   "outputs": [
    {
     "data": {
      "text/plain": [
       "<module 'untility_functions' from '/Users/moshesilverstein/Documents/Harmonizome/dbGAP/untility_functions.py'>"
      ]
     },
     "execution_count": 5,
     "metadata": {},
     "output_type": "execute_result"
    }
   ],
   "source": [
    "importlib.reload(uf)"
   ]
  },
  {
   "cell_type": "markdown",
   "metadata": {},
   "source": [
    "# Load Data"
   ]
  },
  {
   "cell_type": "code",
   "execution_count": 22,
   "metadata": {},
   "outputs": [],
   "source": [
    "df = pd.read_csv('Input/GWASCatalogDump.txt', sep='\\t')"
   ]
  },
  {
   "cell_type": "code",
   "execution_count": 8,
   "metadata": {},
   "outputs": [
    {
     "data": {
      "text/html": [
       "<div>\n",
       "<table border=\"1\" class=\"dataframe\">\n",
       "  <thead>\n",
       "    <tr style=\"text-align: right;\">\n",
       "      <th></th>\n",
       "      <th>marker_accession</th>\n",
       "      <th>marker_type_name</th>\n",
       "      <th>chr_id</th>\n",
       "      <th>chr_pos</th>\n",
       "      <th>p_value</th>\n",
       "      <th>pubmed_id</th>\n",
       "      <th>author</th>\n",
       "      <th>journal</th>\n",
       "      <th>pubmed_link</th>\n",
       "      <th>study</th>\n",
       "      <th>...</th>\n",
       "      <th>platform</th>\n",
       "      <th>ci_95</th>\n",
       "      <th>chr_location</th>\n",
       "      <th>initial_size</th>\n",
       "      <th>replicate_size</th>\n",
       "      <th>merged</th>\n",
       "      <th>cur_snp_id</th>\n",
       "      <th>snp_gene_symbols</th>\n",
       "      <th>snp_gene_ids</th>\n",
       "      <th>snp_gene_validated</th>\n",
       "    </tr>\n",
       "  </thead>\n",
       "  <tbody>\n",
       "    <tr>\n",
       "      <th>0</th>\n",
       "      <td>3934834</td>\n",
       "      <td>SNP</td>\n",
       "      <td>1</td>\n",
       "      <td>1005805</td>\n",
       "      <td>6.000000e-07</td>\n",
       "      <td>19851299</td>\n",
       "      <td>Johansson A</td>\n",
       "      <td>Obesity (Silver Spring)</td>\n",
       "      <td>http://www.ncbi.nlm.nih.gov/pubmed/19851299?it...</td>\n",
       "      <td>Linkage and genome-wide association analysis o...</td>\n",
       "      <td>...</td>\n",
       "      <td>Illumina [318,237]</td>\n",
       "      <td>NaN</td>\n",
       "      <td>1p36.33</td>\n",
       "      <td>Up to 3,925 European individuals</td>\n",
       "      <td>NaN</td>\n",
       "      <td>0</td>\n",
       "      <td>3934834</td>\n",
       "      <td>NaN</td>\n",
       "      <td>NaN</td>\n",
       "      <td>NaN</td>\n",
       "    </tr>\n",
       "    <tr>\n",
       "      <th>1</th>\n",
       "      <td>425277</td>\n",
       "      <td>SNP</td>\n",
       "      <td>1</td>\n",
       "      <td>2069171</td>\n",
       "      <td>2.000000e-08</td>\n",
       "      <td>20881960</td>\n",
       "      <td>Lango Allen H</td>\n",
       "      <td>Nature</td>\n",
       "      <td>http://www.ncbi.nlm.nih.gov/pubmed/20881960</td>\n",
       "      <td>Hundreds of variants clustered in genomic loci...</td>\n",
       "      <td>...</td>\n",
       "      <td>Affymetrix,  Illumina [2,834,208] (imputed)</td>\n",
       "      <td>NaN</td>\n",
       "      <td>NaN</td>\n",
       "      <td>133,653 European ancestry individuals</td>\n",
       "      <td>50,074 European ancestry individuals</td>\n",
       "      <td>0</td>\n",
       "      <td>425277</td>\n",
       "      <td>PRKCZ</td>\n",
       "      <td>5590</td>\n",
       "      <td>1.0</td>\n",
       "    </tr>\n",
       "    <tr>\n",
       "      <th>2</th>\n",
       "      <td>3753242</td>\n",
       "      <td>SNP</td>\n",
       "      <td>1</td>\n",
       "      <td>2069680</td>\n",
       "      <td>1.000000e-06</td>\n",
       "      <td>21107309</td>\n",
       "      <td>McClay JL</td>\n",
       "      <td>Neuropsychopharmacology</td>\n",
       "      <td>http://www.ncbi.nlm.nih.gov/pubmed/21107309</td>\n",
       "      <td>Genome-wide pharmacogenomic study of neurocogn...</td>\n",
       "      <td>...</td>\n",
       "      <td>Affymetrix [492,900]</td>\n",
       "      <td>NaN</td>\n",
       "      <td>1p36.33</td>\n",
       "      <td>738 schizophrenia cases</td>\n",
       "      <td>NaN</td>\n",
       "      <td>0</td>\n",
       "      <td>3753242</td>\n",
       "      <td>PRKCZ</td>\n",
       "      <td>5590</td>\n",
       "      <td>1.0</td>\n",
       "    </tr>\n",
       "    <tr>\n",
       "      <th>3</th>\n",
       "      <td>2477686</td>\n",
       "      <td>SNP</td>\n",
       "      <td>1</td>\n",
       "      <td>2392647</td>\n",
       "      <td>6.000000e-12</td>\n",
       "      <td>22197933</td>\n",
       "      <td>Hu Z</td>\n",
       "      <td>Nat Genet</td>\n",
       "      <td>http://www.ncbi.nlm.nih.gov/pubmed/22197933</td>\n",
       "      <td>A genome-wide association study in Chinese men...</td>\n",
       "      <td>...</td>\n",
       "      <td>Affymetrix [587,347]</td>\n",
       "      <td>[1.26-1.52]</td>\n",
       "      <td>NaN</td>\n",
       "      <td>981 Chinese ancestry cases, 1,657 Chinese ance...</td>\n",
       "      <td>1,946 Chinese ancestry cases, 4,077 Chinese an...</td>\n",
       "      <td>0</td>\n",
       "      <td>2477686</td>\n",
       "      <td>NaN</td>\n",
       "      <td>NaN</td>\n",
       "      <td>NaN</td>\n",
       "    </tr>\n",
       "    <tr>\n",
       "      <th>4</th>\n",
       "      <td>734999</td>\n",
       "      <td>SNP</td>\n",
       "      <td>1</td>\n",
       "      <td>2513215</td>\n",
       "      <td>3.000000e-09</td>\n",
       "      <td>21297633</td>\n",
       "      <td>Anderson CA</td>\n",
       "      <td>Nat Genet</td>\n",
       "      <td>http://www.ncbi.nlm.nih.gov/pubmed/21297633</td>\n",
       "      <td>Meta-analysis identifies 29 additional ulcerat...</td>\n",
       "      <td>...</td>\n",
       "      <td>Affymetrix &amp;amp; Illumina [~1.1 million] (impu...</td>\n",
       "      <td>[1.01-1.09]</td>\n",
       "      <td>1p36.32</td>\n",
       "      <td>6,687 European ancestry cases, 19,718 European...</td>\n",
       "      <td>9,628 European ancestry cases, 12,917 European...</td>\n",
       "      <td>0</td>\n",
       "      <td>734999</td>\n",
       "      <td>NaN</td>\n",
       "      <td>NaN</td>\n",
       "      <td>NaN</td>\n",
       "    </tr>\n",
       "  </tbody>\n",
       "</table>\n",
       "<p>5 rows × 24 columns</p>\n",
       "</div>"
      ],
      "text/plain": [
       "   marker_accession marker_type_name  chr_id  chr_pos       p_value  \\\n",
       "0           3934834              SNP       1  1005805  6.000000e-07   \n",
       "1            425277              SNP       1  2069171  2.000000e-08   \n",
       "2           3753242              SNP       1  2069680  1.000000e-06   \n",
       "3           2477686              SNP       1  2392647  6.000000e-12   \n",
       "4            734999              SNP       1  2513215  3.000000e-09   \n",
       "\n",
       "   pubmed_id         author                  journal  \\\n",
       "0   19851299    Johansson A  Obesity (Silver Spring)   \n",
       "1   20881960  Lango Allen H                   Nature   \n",
       "2   21107309      McClay JL  Neuropsychopharmacology   \n",
       "3   22197933           Hu Z                Nat Genet   \n",
       "4   21297633    Anderson CA                Nat Genet   \n",
       "\n",
       "                                         pubmed_link  \\\n",
       "0  http://www.ncbi.nlm.nih.gov/pubmed/19851299?it...   \n",
       "1        http://www.ncbi.nlm.nih.gov/pubmed/20881960   \n",
       "2        http://www.ncbi.nlm.nih.gov/pubmed/21107309   \n",
       "3        http://www.ncbi.nlm.nih.gov/pubmed/22197933   \n",
       "4        http://www.ncbi.nlm.nih.gov/pubmed/21297633   \n",
       "\n",
       "                                               study         ...          \\\n",
       "0  Linkage and genome-wide association analysis o...         ...           \n",
       "1  Hundreds of variants clustered in genomic loci...         ...           \n",
       "2  Genome-wide pharmacogenomic study of neurocogn...         ...           \n",
       "3  A genome-wide association study in Chinese men...         ...           \n",
       "4  Meta-analysis identifies 29 additional ulcerat...         ...           \n",
       "\n",
       "                                            platform        ci_95  \\\n",
       "0                                 Illumina [318,237]          NaN   \n",
       "1        Affymetrix,  Illumina [2,834,208] (imputed)          NaN   \n",
       "2                               Affymetrix [492,900]          NaN   \n",
       "3                               Affymetrix [587,347]  [1.26-1.52]   \n",
       "4  Affymetrix &amp; Illumina [~1.1 million] (impu...  [1.01-1.09]   \n",
       "\n",
       "  chr_location                                       initial_size  \\\n",
       "0      1p36.33                   Up to 3,925 European individuals   \n",
       "1          NaN              133,653 European ancestry individuals   \n",
       "2      1p36.33                            738 schizophrenia cases   \n",
       "3          NaN  981 Chinese ancestry cases, 1,657 Chinese ance...   \n",
       "4      1p36.32  6,687 European ancestry cases, 19,718 European...   \n",
       "\n",
       "                                      replicate_size merged cur_snp_id  \\\n",
       "0                                                NaN      0    3934834   \n",
       "1               50,074 European ancestry individuals      0     425277   \n",
       "2                                                NaN      0    3753242   \n",
       "3  1,946 Chinese ancestry cases, 4,077 Chinese an...      0    2477686   \n",
       "4  9,628 European ancestry cases, 12,917 European...      0     734999   \n",
       "\n",
       "  snp_gene_symbols snp_gene_ids  snp_gene_validated  \n",
       "0              NaN          NaN                 NaN  \n",
       "1            PRKCZ         5590                 1.0  \n",
       "2            PRKCZ         5590                 1.0  \n",
       "3              NaN          NaN                 NaN  \n",
       "4              NaN          NaN                 NaN  \n",
       "\n",
       "[5 rows x 24 columns]"
      ]
     },
     "execution_count": 8,
     "metadata": {},
     "output_type": "execute_result"
    }
   ],
   "source": [
    "df.head()"
   ]
  },
  {
   "cell_type": "markdown",
   "metadata": {},
   "source": [
    "# Get Relevant Data"
   ]
  },
  {
   "cell_type": "code",
   "execution_count": 25,
   "metadata": {},
   "outputs": [],
   "source": [
    "df = df[['trait', 'gene']]"
   ]
  },
  {
   "cell_type": "code",
   "execution_count": 26,
   "metadata": {},
   "outputs": [
    {
     "data": {
      "text/html": [
       "<div>\n",
       "<table border=\"1\" class=\"dataframe\">\n",
       "  <thead>\n",
       "    <tr style=\"text-align: right;\">\n",
       "      <th></th>\n",
       "      <th>trait</th>\n",
       "      <th>gene</th>\n",
       "    </tr>\n",
       "  </thead>\n",
       "  <tbody>\n",
       "    <tr>\n",
       "      <th>0</th>\n",
       "      <td>Body mass index</td>\n",
       "      <td>NaN</td>\n",
       "    </tr>\n",
       "    <tr>\n",
       "      <th>1</th>\n",
       "      <td>Height</td>\n",
       "      <td>PRKCZ</td>\n",
       "    </tr>\n",
       "    <tr>\n",
       "      <th>2</th>\n",
       "      <td>Reasoning</td>\n",
       "      <td>PRKCZ</td>\n",
       "    </tr>\n",
       "    <tr>\n",
       "      <th>3</th>\n",
       "      <td>Non-obstructive azoospermia</td>\n",
       "      <td>PEX10, MMEL1</td>\n",
       "    </tr>\n",
       "    <tr>\n",
       "      <th>4</th>\n",
       "      <td>Ulcerative colitis</td>\n",
       "      <td>TNFRSF14, MMEL1, PLCH2, C1orf93</td>\n",
       "    </tr>\n",
       "  </tbody>\n",
       "</table>\n",
       "</div>"
      ],
      "text/plain": [
       "                         trait                             gene\n",
       "0              Body mass index                              NaN\n",
       "1                       Height                            PRKCZ\n",
       "2                    Reasoning                            PRKCZ\n",
       "3  Non-obstructive azoospermia                     PEX10, MMEL1\n",
       "4           Ulcerative colitis  TNFRSF14, MMEL1, PLCH2, C1orf93"
      ]
     },
     "execution_count": 26,
     "metadata": {},
     "output_type": "execute_result"
    }
   ],
   "source": [
    "df.head()"
   ]
  },
  {
   "cell_type": "code",
   "execution_count": 31,
   "metadata": {},
   "outputs": [
    {
     "name": "stdout",
     "output_type": "stream",
     "text": [
      "Progeres: 100%  8913 Out of 8913   \r"
     ]
    }
   ],
   "source": [
    "df_interactions = pd.DataFrame()\n",
    "\n",
    "for i, index in enumerate(df.index):\n",
    "    \n",
    "    progressPercent = ((i+1)/len(df.index))*100\n",
    "\n",
    "    sys.stdout.write(\"Progeres: %d%%  %d Out of %d   \\r\" % (progressPercent, (i+1), len(df.index)))\n",
    "    sys.stdout.flush()\n",
    "    \n",
    "    if type(df.ix[index, 'gene']) != float:\n",
    "        lst2 = df.ix[index, 'gene'].split(',')\n",
    "        lst1 = [df.ix[index, 'trait'].split('(')[0]]*(len(lst2))\n",
    "        temp = pd.DataFrame()\n",
    "        temp['GeneSymbol'] = lst2\n",
    "        temp['Complex'] = lst1\n",
    "        df_interactions = pd.concat([df_interactions, temp]) "
   ]
  },
  {
   "cell_type": "code",
   "execution_count": 32,
   "metadata": {},
   "outputs": [
    {
     "data": {
      "text/html": [
       "<div>\n",
       "<table border=\"1\" class=\"dataframe\">\n",
       "  <thead>\n",
       "    <tr style=\"text-align: right;\">\n",
       "      <th></th>\n",
       "      <th>GeneSymbol</th>\n",
       "      <th>Complex</th>\n",
       "    </tr>\n",
       "  </thead>\n",
       "  <tbody>\n",
       "    <tr>\n",
       "      <th>0</th>\n",
       "      <td>PRKCZ</td>\n",
       "      <td>Height</td>\n",
       "    </tr>\n",
       "    <tr>\n",
       "      <th>0</th>\n",
       "      <td>PRKCZ</td>\n",
       "      <td>Reasoning</td>\n",
       "    </tr>\n",
       "    <tr>\n",
       "      <th>0</th>\n",
       "      <td>PEX10</td>\n",
       "      <td>Non-obstructive azoospermia</td>\n",
       "    </tr>\n",
       "    <tr>\n",
       "      <th>1</th>\n",
       "      <td>MMEL1</td>\n",
       "      <td>Non-obstructive azoospermia</td>\n",
       "    </tr>\n",
       "    <tr>\n",
       "      <th>0</th>\n",
       "      <td>TNFRSF14</td>\n",
       "      <td>Ulcerative colitis</td>\n",
       "    </tr>\n",
       "  </tbody>\n",
       "</table>\n",
       "</div>"
      ],
      "text/plain": [
       "  GeneSymbol                      Complex\n",
       "0      PRKCZ                       Height\n",
       "0      PRKCZ                    Reasoning\n",
       "0      PEX10  Non-obstructive azoospermia\n",
       "1      MMEL1  Non-obstructive azoospermia\n",
       "0   TNFRSF14           Ulcerative colitis"
      ]
     },
     "execution_count": 32,
     "metadata": {},
     "output_type": "execute_result"
    }
   ],
   "source": [
    "df_interactions.head()"
   ]
  },
  {
   "cell_type": "code",
   "execution_count": 33,
   "metadata": {},
   "outputs": [
    {
     "data": {
      "text/plain": [
       "(10746, 2)"
      ]
     },
     "execution_count": 33,
     "metadata": {},
     "output_type": "execute_result"
    }
   ],
   "source": [
    "df_interactions.shape"
   ]
  },
  {
   "cell_type": "markdown",
   "metadata": {},
   "source": [
    "# Map Gene Symbols To Up-to-date Approved Gene Symbols¶"
   ]
  },
  {
   "cell_type": "code",
   "execution_count": 34,
   "metadata": {
    "collapsed": true
   },
   "outputs": [],
   "source": [
    "df_interactions.set_index('GeneSymbol', inplace=True)"
   ]
  },
  {
   "cell_type": "code",
   "execution_count": 35,
   "metadata": {},
   "outputs": [
    {
     "name": "stdout",
     "output_type": "stream",
     "text": [
      "Progeres: 100%  10746 Out of 10746   \r"
     ]
    }
   ],
   "source": [
    "uf.mapgenesymbols(df_interactions)"
   ]
  },
  {
   "cell_type": "markdown",
   "metadata": {},
   "source": [
    "# Drop Duplicates"
   ]
  },
  {
   "cell_type": "code",
   "execution_count": 36,
   "metadata": {
    "collapsed": true
   },
   "outputs": [],
   "source": [
    "df_interactions.reset_index(inplace=True)"
   ]
  },
  {
   "cell_type": "code",
   "execution_count": 37,
   "metadata": {
    "collapsed": true
   },
   "outputs": [],
   "source": [
    "df_interactions.drop_duplicates(inplace=True)"
   ]
  },
  {
   "cell_type": "code",
   "execution_count": 38,
   "metadata": {},
   "outputs": [
    {
     "data": {
      "text/plain": [
       "(6088, 2)"
      ]
     },
     "execution_count": 38,
     "metadata": {},
     "output_type": "execute_result"
    }
   ],
   "source": [
    "df_interactions.shape"
   ]
  },
  {
   "cell_type": "markdown",
   "metadata": {},
   "source": [
    "# Create Binary Matrix"
   ]
  },
  {
   "cell_type": "code",
   "execution_count": 39,
   "metadata": {},
   "outputs": [
    {
     "name": "stdout",
     "output_type": "stream",
     "text": [
      "Progeres: 100%  3616 Out of 3616   \r"
     ]
    }
   ],
   "source": [
    "binary_matrix = uf.createBinaryMatix(df_interactions)"
   ]
  },
  {
   "cell_type": "code",
   "execution_count": 40,
   "metadata": {},
   "outputs": [
    {
     "data": {
      "text/html": [
       "<div>\n",
       "<table border=\"1\" class=\"dataframe\">\n",
       "  <thead>\n",
       "    <tr style=\"text-align: right;\">\n",
       "      <th></th>\n",
       "      <th>Immunoglobulin A</th>\n",
       "      <th>Interstitial lung disease</th>\n",
       "      <th>Smoking cessation</th>\n",
       "      <th>Systemic lupus erythematosus</th>\n",
       "      <th>5-HTT brain serotonin transporter levels</th>\n",
       "      <th>Crohn&amp;#39;s disease and sarcoidosis</th>\n",
       "      <th>Eye color</th>\n",
       "      <th>Nephrolithiasis</th>\n",
       "      <th>Soluble leptin receptor levels</th>\n",
       "      <th>Lung cancer</th>\n",
       "      <th>...</th>\n",
       "      <th>Response to iloperidone treatment</th>\n",
       "      <th>Intracranial aneurysm</th>\n",
       "      <th>Event-related brain oscillations</th>\n",
       "      <th>Response to angiotensin II receptor blocker therapy</th>\n",
       "      <th>Mean corpuscular hemoglobin</th>\n",
       "      <th>Biliary atresia</th>\n",
       "      <th>Idiopathic pulmonary fibrosis</th>\n",
       "      <th>Menopause</th>\n",
       "      <th>Fasting glucose-related traits</th>\n",
       "      <th>Fetal hemoglobin levels</th>\n",
       "    </tr>\n",
       "  </thead>\n",
       "  <tbody>\n",
       "    <tr>\n",
       "      <th>AKR1C1</th>\n",
       "      <td>0</td>\n",
       "      <td>0</td>\n",
       "      <td>0</td>\n",
       "      <td>0</td>\n",
       "      <td>0</td>\n",
       "      <td>0</td>\n",
       "      <td>0</td>\n",
       "      <td>0</td>\n",
       "      <td>0</td>\n",
       "      <td>0</td>\n",
       "      <td>...</td>\n",
       "      <td>0</td>\n",
       "      <td>0</td>\n",
       "      <td>0</td>\n",
       "      <td>0</td>\n",
       "      <td>0</td>\n",
       "      <td>0</td>\n",
       "      <td>0</td>\n",
       "      <td>0</td>\n",
       "      <td>0</td>\n",
       "      <td>0</td>\n",
       "    </tr>\n",
       "    <tr>\n",
       "      <th>RPP30</th>\n",
       "      <td>0</td>\n",
       "      <td>0</td>\n",
       "      <td>0</td>\n",
       "      <td>0</td>\n",
       "      <td>0</td>\n",
       "      <td>0</td>\n",
       "      <td>0</td>\n",
       "      <td>0</td>\n",
       "      <td>0</td>\n",
       "      <td>0</td>\n",
       "      <td>...</td>\n",
       "      <td>0</td>\n",
       "      <td>0</td>\n",
       "      <td>0</td>\n",
       "      <td>0</td>\n",
       "      <td>0</td>\n",
       "      <td>0</td>\n",
       "      <td>0</td>\n",
       "      <td>0</td>\n",
       "      <td>0</td>\n",
       "      <td>0</td>\n",
       "    </tr>\n",
       "    <tr>\n",
       "      <th>FBXL19</th>\n",
       "      <td>0</td>\n",
       "      <td>0</td>\n",
       "      <td>0</td>\n",
       "      <td>0</td>\n",
       "      <td>0</td>\n",
       "      <td>0</td>\n",
       "      <td>0</td>\n",
       "      <td>0</td>\n",
       "      <td>0</td>\n",
       "      <td>0</td>\n",
       "      <td>...</td>\n",
       "      <td>0</td>\n",
       "      <td>0</td>\n",
       "      <td>0</td>\n",
       "      <td>0</td>\n",
       "      <td>0</td>\n",
       "      <td>0</td>\n",
       "      <td>0</td>\n",
       "      <td>0</td>\n",
       "      <td>0</td>\n",
       "      <td>0</td>\n",
       "    </tr>\n",
       "    <tr>\n",
       "      <th>ARID2</th>\n",
       "      <td>0</td>\n",
       "      <td>0</td>\n",
       "      <td>0</td>\n",
       "      <td>0</td>\n",
       "      <td>0</td>\n",
       "      <td>0</td>\n",
       "      <td>0</td>\n",
       "      <td>0</td>\n",
       "      <td>0</td>\n",
       "      <td>0</td>\n",
       "      <td>...</td>\n",
       "      <td>0</td>\n",
       "      <td>0</td>\n",
       "      <td>0</td>\n",
       "      <td>0</td>\n",
       "      <td>0</td>\n",
       "      <td>0</td>\n",
       "      <td>0</td>\n",
       "      <td>0</td>\n",
       "      <td>0</td>\n",
       "      <td>0</td>\n",
       "    </tr>\n",
       "    <tr>\n",
       "      <th>LAT</th>\n",
       "      <td>0</td>\n",
       "      <td>0</td>\n",
       "      <td>0</td>\n",
       "      <td>0</td>\n",
       "      <td>0</td>\n",
       "      <td>0</td>\n",
       "      <td>0</td>\n",
       "      <td>0</td>\n",
       "      <td>0</td>\n",
       "      <td>0</td>\n",
       "      <td>...</td>\n",
       "      <td>0</td>\n",
       "      <td>0</td>\n",
       "      <td>0</td>\n",
       "      <td>0</td>\n",
       "      <td>0</td>\n",
       "      <td>0</td>\n",
       "      <td>0</td>\n",
       "      <td>0</td>\n",
       "      <td>0</td>\n",
       "      <td>0</td>\n",
       "    </tr>\n",
       "  </tbody>\n",
       "</table>\n",
       "<p>5 rows × 591 columns</p>\n",
       "</div>"
      ],
      "text/plain": [
       "        Immunoglobulin A  Interstitial lung disease  Smoking cessation  \\\n",
       "AKR1C1                 0                          0                  0   \n",
       "RPP30                  0                          0                  0   \n",
       "FBXL19                 0                          0                  0   \n",
       "ARID2                  0                          0                  0   \n",
       "LAT                    0                          0                  0   \n",
       "\n",
       "        Systemic lupus erythematosus  \\\n",
       "AKR1C1                             0   \n",
       "RPP30                              0   \n",
       "FBXL19                             0   \n",
       "ARID2                              0   \n",
       "LAT                                0   \n",
       "\n",
       "        5-HTT brain serotonin transporter levels  \\\n",
       "AKR1C1                                         0   \n",
       "RPP30                                          0   \n",
       "FBXL19                                         0   \n",
       "ARID2                                          0   \n",
       "LAT                                            0   \n",
       "\n",
       "        Crohn&#39;s disease and sarcoidosis   Eye color  Nephrolithiasis  \\\n",
       "AKR1C1                                     0          0                0   \n",
       "RPP30                                      0          0                0   \n",
       "FBXL19                                     0          0                0   \n",
       "ARID2                                      0          0                0   \n",
       "LAT                                        0          0                0   \n",
       "\n",
       "        Soluble leptin receptor levels  Lung cancer           ...             \\\n",
       "AKR1C1                               0            0           ...              \n",
       "RPP30                                0            0           ...              \n",
       "FBXL19                               0            0           ...              \n",
       "ARID2                                0            0           ...              \n",
       "LAT                                  0            0           ...              \n",
       "\n",
       "        Response to iloperidone treatment   Intracranial aneurysm  \\\n",
       "AKR1C1                                   0                      0   \n",
       "RPP30                                    0                      0   \n",
       "FBXL19                                   0                      0   \n",
       "ARID2                                    0                      0   \n",
       "LAT                                      0                      0   \n",
       "\n",
       "        Event-related brain oscillations  \\\n",
       "AKR1C1                                 0   \n",
       "RPP30                                  0   \n",
       "FBXL19                                 0   \n",
       "ARID2                                  0   \n",
       "LAT                                    0   \n",
       "\n",
       "        Response to angiotensin II receptor blocker therapy   \\\n",
       "AKR1C1                                                  0      \n",
       "RPP30                                                   0      \n",
       "FBXL19                                                  0      \n",
       "ARID2                                                   0      \n",
       "LAT                                                     0      \n",
       "\n",
       "        Mean corpuscular hemoglobin  Biliary atresia  \\\n",
       "AKR1C1                            0                0   \n",
       "RPP30                             0                0   \n",
       "FBXL19                            0                0   \n",
       "ARID2                             0                0   \n",
       "LAT                               0                0   \n",
       "\n",
       "        Idiopathic pulmonary fibrosis  Menopause   \\\n",
       "AKR1C1                              0           0   \n",
       "RPP30                               0           0   \n",
       "FBXL19                              0           0   \n",
       "ARID2                               0           0   \n",
       "LAT                                 0           0   \n",
       "\n",
       "        Fasting glucose-related traits  Fetal hemoglobin levels  \n",
       "AKR1C1                               0                        0  \n",
       "RPP30                                0                        0  \n",
       "FBXL19                               0                        0  \n",
       "ARID2                                0                        0  \n",
       "LAT                                  0                        0  \n",
       "\n",
       "[5 rows x 591 columns]"
      ]
     },
     "execution_count": 40,
     "metadata": {},
     "output_type": "execute_result"
    }
   ],
   "source": [
    "binary_matrix.head()"
   ]
  },
  {
   "cell_type": "code",
   "execution_count": 41,
   "metadata": {},
   "outputs": [
    {
     "data": {
      "text/plain": [
       "(3616, 591)"
      ]
     },
     "execution_count": 41,
     "metadata": {},
     "output_type": "execute_result"
    }
   ],
   "source": [
    "binary_matrix.shape"
   ]
  },
  {
   "cell_type": "markdown",
   "metadata": {},
   "source": [
    "# Save Binary Matrix"
   ]
  },
  {
   "cell_type": "code",
   "execution_count": 43,
   "metadata": {},
   "outputs": [],
   "source": [
    "filename = '~/./Documents/Harmonizome/dbGAP/Output/dbgap_binary_matrix_%s.tsv.zip'% str(datetime.date.today())[0:7].replace('-', '_')\n",
    "binary_matrix.to_csv(filename, sep='\\t', compression='gzip')"
   ]
  },
  {
   "cell_type": "markdown",
   "metadata": {},
   "source": [
    "# Create Gene Set Library"
   ]
  },
  {
   "cell_type": "code",
   "execution_count": 44,
   "metadata": {
    "collapsed": true
   },
   "outputs": [],
   "source": [
    "path = '/Users/moshesilverstein/Documents/Harmonizome/dbGAP/Output/'"
   ]
  },
  {
   "cell_type": "code",
   "execution_count": 45,
   "metadata": {
    "collapsed": true
   },
   "outputs": [],
   "source": [
    "name = 'dbgap_gene_set'"
   ]
  },
  {
   "cell_type": "code",
   "execution_count": 46,
   "metadata": {},
   "outputs": [
    {
     "name": "stdout",
     "output_type": "stream",
     "text": [
      "Progeres: 100%  591 Out of 591   \r"
     ]
    }
   ],
   "source": [
    "uf.createUpGeneSetLib(binary_matrix, path, name)"
   ]
  },
  {
   "cell_type": "markdown",
   "metadata": {},
   "source": [
    "# Create Attribute Library"
   ]
  },
  {
   "cell_type": "code",
   "execution_count": 47,
   "metadata": {
    "collapsed": true
   },
   "outputs": [],
   "source": [
    "path = '/Users/moshesilverstein/Documents/Harmonizome/dbGAP/Output/'"
   ]
  },
  {
   "cell_type": "code",
   "execution_count": 48,
   "metadata": {
    "collapsed": true
   },
   "outputs": [],
   "source": [
    "name = 'dbgap_attribute_set'"
   ]
  },
  {
   "cell_type": "code",
   "execution_count": 49,
   "metadata": {},
   "outputs": [
    {
     "name": "stdout",
     "output_type": "stream",
     "text": [
      "Progeres: 100%  3616 Out of 3616   \r"
     ]
    }
   ],
   "source": [
    "uf.createUpAttributeSetLib(binary_matrix, path, name)"
   ]
  },
  {
   "cell_type": "markdown",
   "metadata": {},
   "source": [
    "# Create Gene Similarity Matrix"
   ]
  },
  {
   "cell_type": "code",
   "execution_count": 50,
   "metadata": {
    "collapsed": true
   },
   "outputs": [],
   "source": [
    "gene_similarity_matix = uf.createSimilarityMatrix(binary_matrix, 'jaccard')"
   ]
  },
  {
   "cell_type": "code",
   "execution_count": 51,
   "metadata": {},
   "outputs": [
    {
     "data": {
      "text/html": [
       "<div>\n",
       "<table border=\"1\" class=\"dataframe\">\n",
       "  <thead>\n",
       "    <tr style=\"text-align: right;\">\n",
       "      <th></th>\n",
       "      <th>AKR1C1</th>\n",
       "      <th>RPP30</th>\n",
       "      <th>FBXL19</th>\n",
       "      <th>ARID2</th>\n",
       "      <th>LAT</th>\n",
       "      <th>VSNL1</th>\n",
       "      <th>IL4R</th>\n",
       "      <th>CHST12</th>\n",
       "      <th>IL23R</th>\n",
       "      <th>CCDC3</th>\n",
       "      <th>...</th>\n",
       "      <th>HERC5</th>\n",
       "      <th>ZBTB38</th>\n",
       "      <th>RSPO3</th>\n",
       "      <th>USP40</th>\n",
       "      <th>CBLB</th>\n",
       "      <th>CREM</th>\n",
       "      <th>PKHD1</th>\n",
       "      <th>PPARGC1B</th>\n",
       "      <th>RAD50</th>\n",
       "      <th>SKAP1</th>\n",
       "    </tr>\n",
       "  </thead>\n",
       "  <tbody>\n",
       "    <tr>\n",
       "      <th>AKR1C1</th>\n",
       "      <td>1.0</td>\n",
       "      <td>1.0</td>\n",
       "      <td>0.0</td>\n",
       "      <td>0.0</td>\n",
       "      <td>0.0</td>\n",
       "      <td>0.0</td>\n",
       "      <td>0.0</td>\n",
       "      <td>0.0</td>\n",
       "      <td>0.000000</td>\n",
       "      <td>0.0</td>\n",
       "      <td>...</td>\n",
       "      <td>0.0</td>\n",
       "      <td>0.0</td>\n",
       "      <td>0.0</td>\n",
       "      <td>0.0</td>\n",
       "      <td>0.0</td>\n",
       "      <td>0.0</td>\n",
       "      <td>0.0</td>\n",
       "      <td>0.0</td>\n",
       "      <td>0.0</td>\n",
       "      <td>0.0</td>\n",
       "    </tr>\n",
       "    <tr>\n",
       "      <th>RPP30</th>\n",
       "      <td>1.0</td>\n",
       "      <td>1.0</td>\n",
       "      <td>0.0</td>\n",
       "      <td>0.0</td>\n",
       "      <td>0.0</td>\n",
       "      <td>0.0</td>\n",
       "      <td>0.0</td>\n",
       "      <td>0.0</td>\n",
       "      <td>0.000000</td>\n",
       "      <td>0.0</td>\n",
       "      <td>...</td>\n",
       "      <td>0.0</td>\n",
       "      <td>0.0</td>\n",
       "      <td>0.0</td>\n",
       "      <td>0.0</td>\n",
       "      <td>0.0</td>\n",
       "      <td>0.0</td>\n",
       "      <td>0.0</td>\n",
       "      <td>0.0</td>\n",
       "      <td>0.0</td>\n",
       "      <td>0.0</td>\n",
       "    </tr>\n",
       "    <tr>\n",
       "      <th>FBXL19</th>\n",
       "      <td>0.0</td>\n",
       "      <td>0.0</td>\n",
       "      <td>1.0</td>\n",
       "      <td>0.0</td>\n",
       "      <td>0.0</td>\n",
       "      <td>0.0</td>\n",
       "      <td>0.0</td>\n",
       "      <td>0.0</td>\n",
       "      <td>0.142857</td>\n",
       "      <td>0.0</td>\n",
       "      <td>...</td>\n",
       "      <td>0.0</td>\n",
       "      <td>0.0</td>\n",
       "      <td>0.0</td>\n",
       "      <td>0.0</td>\n",
       "      <td>0.0</td>\n",
       "      <td>0.0</td>\n",
       "      <td>0.0</td>\n",
       "      <td>0.0</td>\n",
       "      <td>0.0</td>\n",
       "      <td>0.0</td>\n",
       "    </tr>\n",
       "    <tr>\n",
       "      <th>ARID2</th>\n",
       "      <td>0.0</td>\n",
       "      <td>0.0</td>\n",
       "      <td>0.0</td>\n",
       "      <td>1.0</td>\n",
       "      <td>0.0</td>\n",
       "      <td>0.0</td>\n",
       "      <td>0.0</td>\n",
       "      <td>0.0</td>\n",
       "      <td>0.000000</td>\n",
       "      <td>0.0</td>\n",
       "      <td>...</td>\n",
       "      <td>0.0</td>\n",
       "      <td>0.0</td>\n",
       "      <td>0.0</td>\n",
       "      <td>0.0</td>\n",
       "      <td>0.0</td>\n",
       "      <td>0.0</td>\n",
       "      <td>0.0</td>\n",
       "      <td>0.0</td>\n",
       "      <td>0.0</td>\n",
       "      <td>0.0</td>\n",
       "    </tr>\n",
       "    <tr>\n",
       "      <th>LAT</th>\n",
       "      <td>0.0</td>\n",
       "      <td>0.0</td>\n",
       "      <td>0.0</td>\n",
       "      <td>0.0</td>\n",
       "      <td>1.0</td>\n",
       "      <td>0.0</td>\n",
       "      <td>0.0</td>\n",
       "      <td>0.0</td>\n",
       "      <td>0.142857</td>\n",
       "      <td>0.0</td>\n",
       "      <td>...</td>\n",
       "      <td>0.0</td>\n",
       "      <td>0.0</td>\n",
       "      <td>0.0</td>\n",
       "      <td>0.0</td>\n",
       "      <td>0.0</td>\n",
       "      <td>1.0</td>\n",
       "      <td>0.0</td>\n",
       "      <td>0.0</td>\n",
       "      <td>0.0</td>\n",
       "      <td>0.0</td>\n",
       "    </tr>\n",
       "  </tbody>\n",
       "</table>\n",
       "<p>5 rows × 3616 columns</p>\n",
       "</div>"
      ],
      "text/plain": [
       "        AKR1C1  RPP30  FBXL19  ARID2  LAT  VSNL1  IL4R  CHST12     IL23R  \\\n",
       "AKR1C1     1.0    1.0     0.0    0.0  0.0    0.0   0.0     0.0  0.000000   \n",
       "RPP30      1.0    1.0     0.0    0.0  0.0    0.0   0.0     0.0  0.000000   \n",
       "FBXL19     0.0    0.0     1.0    0.0  0.0    0.0   0.0     0.0  0.142857   \n",
       "ARID2      0.0    0.0     0.0    1.0  0.0    0.0   0.0     0.0  0.000000   \n",
       "LAT        0.0    0.0     0.0    0.0  1.0    0.0   0.0     0.0  0.142857   \n",
       "\n",
       "        CCDC3  ...    HERC5  ZBTB38  RSPO3  USP40  CBLB  CREM  PKHD1  \\\n",
       "AKR1C1    0.0  ...      0.0     0.0    0.0    0.0   0.0   0.0    0.0   \n",
       "RPP30     0.0  ...      0.0     0.0    0.0    0.0   0.0   0.0    0.0   \n",
       "FBXL19    0.0  ...      0.0     0.0    0.0    0.0   0.0   0.0    0.0   \n",
       "ARID2     0.0  ...      0.0     0.0    0.0    0.0   0.0   0.0    0.0   \n",
       "LAT       0.0  ...      0.0     0.0    0.0    0.0   0.0   1.0    0.0   \n",
       "\n",
       "        PPARGC1B  RAD50  SKAP1  \n",
       "AKR1C1       0.0    0.0    0.0  \n",
       "RPP30        0.0    0.0    0.0  \n",
       "FBXL19       0.0    0.0    0.0  \n",
       "ARID2        0.0    0.0    0.0  \n",
       "LAT          0.0    0.0    0.0  \n",
       "\n",
       "[5 rows x 3616 columns]"
      ]
     },
     "execution_count": 51,
     "metadata": {},
     "output_type": "execute_result"
    }
   ],
   "source": [
    "gene_similarity_matix.head()"
   ]
  },
  {
   "cell_type": "markdown",
   "metadata": {},
   "source": [
    "# Save Gene Similarity Matrix"
   ]
  },
  {
   "cell_type": "code",
   "execution_count": 52,
   "metadata": {
    "collapsed": true
   },
   "outputs": [],
   "source": [
    "filename = '~/./Documents/Harmonizome/dbGAP/Output/dbgap_gene_similarity_matix_%s.tsv.zip'% str(datetime.date.today())[0:7].replace('-', '_')\n",
    "gene_similarity_matix.to_csv(filename, sep='\\t', compression='gzip')"
   ]
  },
  {
   "cell_type": "markdown",
   "metadata": {},
   "source": [
    "# Create Attribute Similarity matrix"
   ]
  },
  {
   "cell_type": "code",
   "execution_count": 53,
   "metadata": {
    "collapsed": true
   },
   "outputs": [],
   "source": [
    "attribute_similarity_matix = uf.createSimilarityMatrix(binary_matrix.T, 'jaccard')"
   ]
  },
  {
   "cell_type": "code",
   "execution_count": 54,
   "metadata": {},
   "outputs": [
    {
     "data": {
      "text/html": [
       "<div>\n",
       "<table border=\"1\" class=\"dataframe\">\n",
       "  <thead>\n",
       "    <tr style=\"text-align: right;\">\n",
       "      <th></th>\n",
       "      <th>Immunoglobulin A</th>\n",
       "      <th>Interstitial lung disease</th>\n",
       "      <th>Smoking cessation</th>\n",
       "      <th>Systemic lupus erythematosus</th>\n",
       "      <th>5-HTT brain serotonin transporter levels</th>\n",
       "      <th>Crohn&amp;#39;s disease and sarcoidosis</th>\n",
       "      <th>Eye color</th>\n",
       "      <th>Nephrolithiasis</th>\n",
       "      <th>Soluble leptin receptor levels</th>\n",
       "      <th>Lung cancer</th>\n",
       "      <th>...</th>\n",
       "      <th>Response to iloperidone treatment</th>\n",
       "      <th>Intracranial aneurysm</th>\n",
       "      <th>Event-related brain oscillations</th>\n",
       "      <th>Response to angiotensin II receptor blocker therapy</th>\n",
       "      <th>Mean corpuscular hemoglobin</th>\n",
       "      <th>Biliary atresia</th>\n",
       "      <th>Idiopathic pulmonary fibrosis</th>\n",
       "      <th>Menopause</th>\n",
       "      <th>Fasting glucose-related traits</th>\n",
       "      <th>Fetal hemoglobin levels</th>\n",
       "    </tr>\n",
       "  </thead>\n",
       "  <tbody>\n",
       "    <tr>\n",
       "      <th>Immunoglobulin A</th>\n",
       "      <td>1.000000</td>\n",
       "      <td>0.0</td>\n",
       "      <td>0.0</td>\n",
       "      <td>0.020408</td>\n",
       "      <td>0.0</td>\n",
       "      <td>0.0</td>\n",
       "      <td>0.0</td>\n",
       "      <td>0.0</td>\n",
       "      <td>0.0</td>\n",
       "      <td>0.0</td>\n",
       "      <td>...</td>\n",
       "      <td>0.0</td>\n",
       "      <td>0.0</td>\n",
       "      <td>0.0</td>\n",
       "      <td>0.0</td>\n",
       "      <td>0.0</td>\n",
       "      <td>0.0</td>\n",
       "      <td>0.0</td>\n",
       "      <td>0.0</td>\n",
       "      <td>0.0</td>\n",
       "      <td>0.0</td>\n",
       "    </tr>\n",
       "    <tr>\n",
       "      <th>Interstitial lung disease</th>\n",
       "      <td>0.000000</td>\n",
       "      <td>1.0</td>\n",
       "      <td>0.0</td>\n",
       "      <td>0.000000</td>\n",
       "      <td>0.0</td>\n",
       "      <td>0.0</td>\n",
       "      <td>0.0</td>\n",
       "      <td>0.0</td>\n",
       "      <td>0.0</td>\n",
       "      <td>0.0</td>\n",
       "      <td>...</td>\n",
       "      <td>0.0</td>\n",
       "      <td>0.0</td>\n",
       "      <td>0.0</td>\n",
       "      <td>0.0</td>\n",
       "      <td>0.0</td>\n",
       "      <td>0.0</td>\n",
       "      <td>0.0</td>\n",
       "      <td>0.0</td>\n",
       "      <td>0.0</td>\n",
       "      <td>0.0</td>\n",
       "    </tr>\n",
       "    <tr>\n",
       "      <th>Smoking cessation</th>\n",
       "      <td>0.000000</td>\n",
       "      <td>0.0</td>\n",
       "      <td>1.0</td>\n",
       "      <td>0.000000</td>\n",
       "      <td>0.0</td>\n",
       "      <td>0.0</td>\n",
       "      <td>0.0</td>\n",
       "      <td>0.0</td>\n",
       "      <td>0.0</td>\n",
       "      <td>0.0</td>\n",
       "      <td>...</td>\n",
       "      <td>0.0</td>\n",
       "      <td>0.0</td>\n",
       "      <td>0.0</td>\n",
       "      <td>0.0</td>\n",
       "      <td>0.0</td>\n",
       "      <td>0.0</td>\n",
       "      <td>0.0</td>\n",
       "      <td>0.0</td>\n",
       "      <td>0.0</td>\n",
       "      <td>0.0</td>\n",
       "    </tr>\n",
       "    <tr>\n",
       "      <th>Systemic lupus erythematosus</th>\n",
       "      <td>0.020408</td>\n",
       "      <td>0.0</td>\n",
       "      <td>0.0</td>\n",
       "      <td>1.000000</td>\n",
       "      <td>0.0</td>\n",
       "      <td>0.0</td>\n",
       "      <td>0.0</td>\n",
       "      <td>0.0</td>\n",
       "      <td>0.0</td>\n",
       "      <td>0.0</td>\n",
       "      <td>...</td>\n",
       "      <td>0.0</td>\n",
       "      <td>0.0</td>\n",
       "      <td>0.0</td>\n",
       "      <td>0.0</td>\n",
       "      <td>0.0</td>\n",
       "      <td>0.0</td>\n",
       "      <td>0.0</td>\n",
       "      <td>0.0</td>\n",
       "      <td>0.0</td>\n",
       "      <td>0.0</td>\n",
       "    </tr>\n",
       "    <tr>\n",
       "      <th>5-HTT brain serotonin transporter levels</th>\n",
       "      <td>0.000000</td>\n",
       "      <td>0.0</td>\n",
       "      <td>0.0</td>\n",
       "      <td>0.000000</td>\n",
       "      <td>1.0</td>\n",
       "      <td>0.0</td>\n",
       "      <td>0.0</td>\n",
       "      <td>0.0</td>\n",
       "      <td>0.0</td>\n",
       "      <td>0.0</td>\n",
       "      <td>...</td>\n",
       "      <td>0.0</td>\n",
       "      <td>0.0</td>\n",
       "      <td>0.0</td>\n",
       "      <td>0.0</td>\n",
       "      <td>0.0</td>\n",
       "      <td>0.0</td>\n",
       "      <td>0.0</td>\n",
       "      <td>0.0</td>\n",
       "      <td>0.0</td>\n",
       "      <td>0.0</td>\n",
       "    </tr>\n",
       "  </tbody>\n",
       "</table>\n",
       "<p>5 rows × 591 columns</p>\n",
       "</div>"
      ],
      "text/plain": [
       "                                          Immunoglobulin A  \\\n",
       "Immunoglobulin A                                  1.000000   \n",
       "Interstitial lung disease                         0.000000   \n",
       "Smoking cessation                                 0.000000   \n",
       "Systemic lupus erythematosus                      0.020408   \n",
       "5-HTT brain serotonin transporter levels          0.000000   \n",
       "\n",
       "                                          Interstitial lung disease  \\\n",
       "Immunoglobulin A                                                0.0   \n",
       "Interstitial lung disease                                       1.0   \n",
       "Smoking cessation                                               0.0   \n",
       "Systemic lupus erythematosus                                    0.0   \n",
       "5-HTT brain serotonin transporter levels                        0.0   \n",
       "\n",
       "                                          Smoking cessation  \\\n",
       "Immunoglobulin A                                        0.0   \n",
       "Interstitial lung disease                               0.0   \n",
       "Smoking cessation                                       1.0   \n",
       "Systemic lupus erythematosus                            0.0   \n",
       "5-HTT brain serotonin transporter levels                0.0   \n",
       "\n",
       "                                          Systemic lupus erythematosus  \\\n",
       "Immunoglobulin A                                              0.020408   \n",
       "Interstitial lung disease                                     0.000000   \n",
       "Smoking cessation                                             0.000000   \n",
       "Systemic lupus erythematosus                                  1.000000   \n",
       "5-HTT brain serotonin transporter levels                      0.000000   \n",
       "\n",
       "                                          5-HTT brain serotonin transporter levels  \\\n",
       "Immunoglobulin A                                                               0.0   \n",
       "Interstitial lung disease                                                      0.0   \n",
       "Smoking cessation                                                              0.0   \n",
       "Systemic lupus erythematosus                                                   0.0   \n",
       "5-HTT brain serotonin transporter levels                                       1.0   \n",
       "\n",
       "                                          Crohn&#39;s disease and sarcoidosis   \\\n",
       "Immunoglobulin A                                                           0.0   \n",
       "Interstitial lung disease                                                  0.0   \n",
       "Smoking cessation                                                          0.0   \n",
       "Systemic lupus erythematosus                                               0.0   \n",
       "5-HTT brain serotonin transporter levels                                   0.0   \n",
       "\n",
       "                                          Eye color  Nephrolithiasis  \\\n",
       "Immunoglobulin A                                0.0              0.0   \n",
       "Interstitial lung disease                       0.0              0.0   \n",
       "Smoking cessation                               0.0              0.0   \n",
       "Systemic lupus erythematosus                    0.0              0.0   \n",
       "5-HTT brain serotonin transporter levels        0.0              0.0   \n",
       "\n",
       "                                          Soluble leptin receptor levels  \\\n",
       "Immunoglobulin A                                                     0.0   \n",
       "Interstitial lung disease                                            0.0   \n",
       "Smoking cessation                                                    0.0   \n",
       "Systemic lupus erythematosus                                         0.0   \n",
       "5-HTT brain serotonin transporter levels                             0.0   \n",
       "\n",
       "                                          Lung cancer  \\\n",
       "Immunoglobulin A                                  0.0   \n",
       "Interstitial lung disease                         0.0   \n",
       "Smoking cessation                                 0.0   \n",
       "Systemic lupus erythematosus                      0.0   \n",
       "5-HTT brain serotonin transporter levels          0.0   \n",
       "\n",
       "                                                   ...             \\\n",
       "Immunoglobulin A                                   ...              \n",
       "Interstitial lung disease                          ...              \n",
       "Smoking cessation                                  ...              \n",
       "Systemic lupus erythematosus                       ...              \n",
       "5-HTT brain serotonin transporter levels           ...              \n",
       "\n",
       "                                          Response to iloperidone treatment   \\\n",
       "Immunoglobulin A                                                         0.0   \n",
       "Interstitial lung disease                                                0.0   \n",
       "Smoking cessation                                                        0.0   \n",
       "Systemic lupus erythematosus                                             0.0   \n",
       "5-HTT brain serotonin transporter levels                                 0.0   \n",
       "\n",
       "                                          Intracranial aneurysm  \\\n",
       "Immunoglobulin A                                            0.0   \n",
       "Interstitial lung disease                                   0.0   \n",
       "Smoking cessation                                           0.0   \n",
       "Systemic lupus erythematosus                                0.0   \n",
       "5-HTT brain serotonin transporter levels                    0.0   \n",
       "\n",
       "                                          Event-related brain oscillations  \\\n",
       "Immunoglobulin A                                                       0.0   \n",
       "Interstitial lung disease                                              0.0   \n",
       "Smoking cessation                                                      0.0   \n",
       "Systemic lupus erythematosus                                           0.0   \n",
       "5-HTT brain serotonin transporter levels                               0.0   \n",
       "\n",
       "                                          Response to angiotensin II receptor blocker therapy   \\\n",
       "Immunoglobulin A                                                                        0.0      \n",
       "Interstitial lung disease                                                               0.0      \n",
       "Smoking cessation                                                                       0.0      \n",
       "Systemic lupus erythematosus                                                            0.0      \n",
       "5-HTT brain serotonin transporter levels                                                0.0      \n",
       "\n",
       "                                          Mean corpuscular hemoglobin  \\\n",
       "Immunoglobulin A                                                  0.0   \n",
       "Interstitial lung disease                                         0.0   \n",
       "Smoking cessation                                                 0.0   \n",
       "Systemic lupus erythematosus                                      0.0   \n",
       "5-HTT brain serotonin transporter levels                          0.0   \n",
       "\n",
       "                                          Biliary atresia  \\\n",
       "Immunoglobulin A                                      0.0   \n",
       "Interstitial lung disease                             0.0   \n",
       "Smoking cessation                                     0.0   \n",
       "Systemic lupus erythematosus                          0.0   \n",
       "5-HTT brain serotonin transporter levels              0.0   \n",
       "\n",
       "                                          Idiopathic pulmonary fibrosis  \\\n",
       "Immunoglobulin A                                                    0.0   \n",
       "Interstitial lung disease                                           0.0   \n",
       "Smoking cessation                                                   0.0   \n",
       "Systemic lupus erythematosus                                        0.0   \n",
       "5-HTT brain serotonin transporter levels                            0.0   \n",
       "\n",
       "                                          Menopause   \\\n",
       "Immunoglobulin A                                 0.0   \n",
       "Interstitial lung disease                        0.0   \n",
       "Smoking cessation                                0.0   \n",
       "Systemic lupus erythematosus                     0.0   \n",
       "5-HTT brain serotonin transporter levels         0.0   \n",
       "\n",
       "                                          Fasting glucose-related traits  \\\n",
       "Immunoglobulin A                                                     0.0   \n",
       "Interstitial lung disease                                            0.0   \n",
       "Smoking cessation                                                    0.0   \n",
       "Systemic lupus erythematosus                                         0.0   \n",
       "5-HTT brain serotonin transporter levels                             0.0   \n",
       "\n",
       "                                          Fetal hemoglobin levels  \n",
       "Immunoglobulin A                                              0.0  \n",
       "Interstitial lung disease                                     0.0  \n",
       "Smoking cessation                                             0.0  \n",
       "Systemic lupus erythematosus                                  0.0  \n",
       "5-HTT brain serotonin transporter levels                      0.0  \n",
       "\n",
       "[5 rows x 591 columns]"
      ]
     },
     "execution_count": 54,
     "metadata": {},
     "output_type": "execute_result"
    }
   ],
   "source": [
    "attribute_similarity_matix.head()"
   ]
  },
  {
   "cell_type": "markdown",
   "metadata": {},
   "source": [
    "# Save Attribute Similarity Matrix"
   ]
  },
  {
   "cell_type": "code",
   "execution_count": 55,
   "metadata": {
    "collapsed": true
   },
   "outputs": [],
   "source": [
    "filename = '~/./Documents/Harmonizome/dbGAP/Output/dbgap_attribute_similarity_matix_%s.tsv.zip'% str(datetime.date.today())[0:7].replace('-', '_')\n",
    "attribute_similarity_matix.to_csv(filename, sep='\\t', compression='gzip')"
   ]
  },
  {
   "cell_type": "markdown",
   "metadata": {},
   "source": [
    "# Create Gene List"
   ]
  },
  {
   "cell_type": "code",
   "execution_count": 56,
   "metadata": {},
   "outputs": [
    {
     "name": "stdout",
     "output_type": "stream",
     "text": [
      "Progeres: 100%  3616 Out of 3616   \r"
     ]
    }
   ],
   "source": [
    "gene_list = uf.createGeneList(binary_matrix)"
   ]
  },
  {
   "cell_type": "code",
   "execution_count": 57,
   "metadata": {},
   "outputs": [
    {
     "data": {
      "text/html": [
       "<div>\n",
       "<table border=\"1\" class=\"dataframe\">\n",
       "  <thead>\n",
       "    <tr style=\"text-align: right;\">\n",
       "      <th></th>\n",
       "      <th>GeneSym</th>\n",
       "      <th>GeneID</th>\n",
       "    </tr>\n",
       "  </thead>\n",
       "  <tbody>\n",
       "    <tr>\n",
       "      <th>0</th>\n",
       "      <td>AKR1C1</td>\n",
       "      <td>1645</td>\n",
       "    </tr>\n",
       "    <tr>\n",
       "      <th>1</th>\n",
       "      <td>RPP30</td>\n",
       "      <td>10556</td>\n",
       "    </tr>\n",
       "    <tr>\n",
       "      <th>2</th>\n",
       "      <td>FBXL19</td>\n",
       "      <td>54620</td>\n",
       "    </tr>\n",
       "    <tr>\n",
       "      <th>3</th>\n",
       "      <td>ARID2</td>\n",
       "      <td>196528</td>\n",
       "    </tr>\n",
       "    <tr>\n",
       "      <th>4</th>\n",
       "      <td>LAT</td>\n",
       "      <td>27040</td>\n",
       "    </tr>\n",
       "  </tbody>\n",
       "</table>\n",
       "</div>"
      ],
      "text/plain": [
       "  GeneSym  GeneID\n",
       "0  AKR1C1    1645\n",
       "1   RPP30   10556\n",
       "2  FBXL19   54620\n",
       "3   ARID2  196528\n",
       "4     LAT   27040"
      ]
     },
     "execution_count": 57,
     "metadata": {},
     "output_type": "execute_result"
    }
   ],
   "source": [
    "gene_list.head()"
   ]
  },
  {
   "cell_type": "code",
   "execution_count": 58,
   "metadata": {},
   "outputs": [
    {
     "data": {
      "text/plain": [
       "(3616, 2)"
      ]
     },
     "execution_count": 58,
     "metadata": {},
     "output_type": "execute_result"
    }
   ],
   "source": [
    "gene_list.shape"
   ]
  },
  {
   "cell_type": "markdown",
   "metadata": {},
   "source": [
    "# Save Gene List"
   ]
  },
  {
   "cell_type": "code",
   "execution_count": 59,
   "metadata": {
    "collapsed": true
   },
   "outputs": [],
   "source": [
    "filename = '~/./Documents/Harmonizome/dbGAP/Output/dbgap_gene_list_%s.tsv.zip'% str(datetime.date.today())[0:7].replace('-', '_')\n",
    "gene_list.to_csv(filename, sep='\\t', index=False, compression='gzip')"
   ]
  },
  {
   "cell_type": "markdown",
   "metadata": {},
   "source": [
    "# Create Attribute List"
   ]
  },
  {
   "cell_type": "code",
   "execution_count": 60,
   "metadata": {
    "collapsed": true
   },
   "outputs": [],
   "source": [
    "attribute_list = uf.createAttributeList(binary_matrix)"
   ]
  },
  {
   "cell_type": "code",
   "execution_count": 61,
   "metadata": {},
   "outputs": [
    {
     "data": {
      "text/html": [
       "<div>\n",
       "<table border=\"1\" class=\"dataframe\">\n",
       "  <thead>\n",
       "    <tr style=\"text-align: right;\">\n",
       "      <th></th>\n",
       "      <th>Attributes</th>\n",
       "    </tr>\n",
       "  </thead>\n",
       "  <tbody>\n",
       "    <tr>\n",
       "      <th>0</th>\n",
       "      <td>Immunoglobulin A</td>\n",
       "    </tr>\n",
       "    <tr>\n",
       "      <th>1</th>\n",
       "      <td>Interstitial lung disease</td>\n",
       "    </tr>\n",
       "    <tr>\n",
       "      <th>2</th>\n",
       "      <td>Smoking cessation</td>\n",
       "    </tr>\n",
       "    <tr>\n",
       "      <th>3</th>\n",
       "      <td>Systemic lupus erythematosus</td>\n",
       "    </tr>\n",
       "    <tr>\n",
       "      <th>4</th>\n",
       "      <td>5-HTT brain serotonin transporter levels</td>\n",
       "    </tr>\n",
       "  </tbody>\n",
       "</table>\n",
       "</div>"
      ],
      "text/plain": [
       "                                 Attributes\n",
       "0                          Immunoglobulin A\n",
       "1                 Interstitial lung disease\n",
       "2                         Smoking cessation\n",
       "3              Systemic lupus erythematosus\n",
       "4  5-HTT brain serotonin transporter levels"
      ]
     },
     "execution_count": 61,
     "metadata": {},
     "output_type": "execute_result"
    }
   ],
   "source": [
    "attribute_list.head()"
   ]
  },
  {
   "cell_type": "code",
   "execution_count": 62,
   "metadata": {},
   "outputs": [
    {
     "data": {
      "text/plain": [
       "(591, 1)"
      ]
     },
     "execution_count": 62,
     "metadata": {},
     "output_type": "execute_result"
    }
   ],
   "source": [
    "attribute_list.shape"
   ]
  },
  {
   "cell_type": "markdown",
   "metadata": {},
   "source": [
    "# Save Attribute List"
   ]
  },
  {
   "cell_type": "code",
   "execution_count": 63,
   "metadata": {
    "collapsed": true
   },
   "outputs": [],
   "source": [
    "filename = '~/./Documents/Harmonizome/dbGAP/Output/dbgap_attribute_list_%s.tsv.zip'% str(datetime.date.today())[0:7].replace('-', '_')\n",
    "attribute_list.to_csv(filename, sep='\\t', index=False, compression='gzip')"
   ]
  },
  {
   "cell_type": "markdown",
   "metadata": {},
   "source": [
    "# Create Gene-Attribute Edge List"
   ]
  },
  {
   "cell_type": "code",
   "execution_count": 64,
   "metadata": {
    "collapsed": true
   },
   "outputs": [],
   "source": [
    "path = '/Users/moshesilverstein/Documents/Harmonizome/dbGAP/Output/'"
   ]
  },
  {
   "cell_type": "code",
   "execution_count": 65,
   "metadata": {
    "collapsed": true
   },
   "outputs": [],
   "source": [
    "name = 'dbgap_gene_attribute_edge_list'"
   ]
  },
  {
   "cell_type": "code",
   "execution_count": 66,
   "metadata": {},
   "outputs": [
    {
     "name": "stdout",
     "output_type": "stream",
     "text": [
      "Progeres: 100%  591 Out of 591   \n",
      "\n",
      " The number of statisticaly relevent gene-attribute associations is: 6088\n"
     ]
    }
   ],
   "source": [
    "uf.createGeneAttributeEdgeList(binary_matrix, gene_list, path, name)"
   ]
  }
 ],
 "metadata": {
  "kernelspec": {
   "display_name": "Python [default]",
   "language": "python",
   "name": "python3"
  },
  "language_info": {
   "codemirror_mode": {
    "name": "ipython",
    "version": 3
   },
   "file_extension": ".py",
   "mimetype": "text/x-python",
   "name": "python",
   "nbconvert_exporter": "python",
   "pygments_lexer": "ipython3",
   "version": "3.5.2"
  }
 },
 "nbformat": 4,
 "nbformat_minor": 2
}
