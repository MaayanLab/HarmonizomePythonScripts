{
 "cells": [
  {
   "cell_type": "markdown",
   "metadata": {},
   "source": [
    "# DeepCoverMOA Drug MOAs\n",
    "[DeepCoverMOA](http://wren.hms.harvard.edu/DeepCoverMOA/#) is a resource detailing protein expression by mass spectrometry 24 hours after small molecule perturbation in order to study drug mechanisms of action (MOAs). The effect of 875 small molecules was studied across 9960 proteins in the human HCT116 cancerous cell line in a high-thoroughput, data-driven study. The researchers leveraged protein-protein and compound-compound correlation networks to uncover previously unknown MOAs for several compounds.\n",
    "\n",
    "Mitchell, D. C., et al. (2023). \"A proteome-wide atlas of drug mechanism of action.\" Nature Biotechnology.  \n",
    "The paper is available [here](https://www.nature.com/articles/s41587-022-01539-0) and the data processed herein is available as Supplementary Table 1.\n"
   ]
  },
  {
   "cell_type": "code",
   "execution_count": null,
   "metadata": {},
   "outputs": [],
   "source": [
    "import pandas as pd\n",
    "import datetime\n",
    "import numpy as np\n",
    "import scipy.spatial.distance as dist\n",
    "import seaborn as sns\n",
    "import sys\n",
    "import json\n",
    "import scanpy as sc\n",
    "from tqdm import tqdm\n",
    "from collections import OrderedDict\n",
    "\n",
    "from sklearn.feature_extraction.text import TfidfVectorizer\n",
    "import anndata\n",
    "from collections import OrderedDict\n",
    "\n",
    "# Bokeh\n",
    "from bokeh.io import output_notebook\n",
    "from bokeh.plotting import figure, show, save, output_file\n",
    "from bokeh.models import HoverTool, ColumnDataSource\n",
    "from bokeh.palettes import Category20\n",
    "output_notebook()\n",
    "\n",
    "from IPython.display import display, HTML, Markdown\n",
    "sys.setrecursionlimit(100000)"
   ]
  },
  {
   "cell_type": "code",
   "execution_count": null,
   "metadata": {},
   "outputs": [],
   "source": [
    "output_notebook()"
   ]
  },
  {
   "cell_type": "markdown",
   "metadata": {},
   "source": [
    "## Load Data"
   ]
  },
  {
   "cell_type": "code",
   "execution_count": null,
   "metadata": {},
   "outputs": [],
   "source": [
    "drugmoa = pd.read_csv('newdata/DeepCoverMOA/DeepCoverMOA.csv')\n",
    "drugmoa"
   ]
  },
  {
   "cell_type": "markdown",
   "metadata": {},
   "source": [
    "## Pre-Process Data"
   ]
  },
  {
   "cell_type": "code",
   "execution_count": null,
   "metadata": {},
   "outputs": [],
   "source": [
    "drugmoa = drugmoa.dropna(subset=['Gene Name'])\n",
    "drugmoa = drugmoa.set_index('Gene Name').drop(columns='UniprotID')\n",
    "drugmoa.columns = drugmoa.columns.map(lambda x: '_'.join(x.split(sep='_')[:-1]))\n",
    "drugmoa = drugmoa.replace(np.nan, 0)\n",
    "drugmoa"
   ]
  },
  {
   "cell_type": "code",
   "execution_count": null,
   "metadata": {},
   "outputs": [],
   "source": [
    "drugmoa.dropna(thresh=drugmoa.shape[1]/2)"
   ]
  },
  {
   "cell_type": "markdown",
   "metadata": {},
   "source": [
    "## Process Data"
   ]
  },
  {
   "cell_type": "code",
   "execution_count": null,
   "metadata": {},
   "outputs": [],
   "source": [
    "associations = drugmoa.stack().to_frame().reset_index()\n",
    "associations.columns = ['Gene', 'Drug', 'Score']\n",
    "associations"
   ]
  },
  {
   "cell_type": "code",
   "execution_count": null,
   "metadata": {},
   "outputs": [],
   "source": [
    "print(associations['Drug'].unique().__len__(), 'drugs,', associations['Gene'].unique().__len__(), 'genes')"
   ]
  },
  {
   "cell_type": "code",
   "execution_count": null,
   "metadata": {},
   "outputs": [],
   "source": [
    "up = associations[associations['Score']>0].sort_values(['Drug','Score'], ascending=[True, False]).set_index('Drug')\n",
    "positive = pd.DataFrame(columns=['Gene','Score'])\n",
    "for drug in pd.unique(up.index):\n",
    "    positive = pd.concat([positive, up.loc[drug][:100]])\n",
    "positive = positive.sort_values('Score', ascending=False).reset_index()\n",
    "positive.columns = ['Drug', 'Gene', 'Score']\n",
    "positive"
   ]
  },
  {
   "cell_type": "code",
   "execution_count": null,
   "metadata": {},
   "outputs": [],
   "source": [
    "down = associations[associations['Score']<0].sort_values(['Drug','Score']).set_index('Drug')\n",
    "negative = pd.DataFrame(columns=['Gene','Score'])\n",
    "for drug in pd.unique(down.index):\n",
    "    negative = pd.concat([negative, down.loc[drug][:100]])\n",
    "negative = negative.sort_values('Score').reset_index()\n",
    "negative.columns = ['Drug', 'Gene', 'Score']\n",
    "negative"
   ]
  },
  {
   "cell_type": "code",
   "execution_count": null,
   "metadata": {},
   "outputs": [],
   "source": [
    "def threshold(x): \n",
    "    if x > 0:\n",
    "        return 1\n",
    "    elif x < 0:\n",
    "        return -1\n",
    "    return x"
   ]
  },
  {
   "cell_type": "code",
   "execution_count": null,
   "metadata": {},
   "outputs": [],
   "source": [
    "associations = pd.concat([positive,negative]).sort_values('Score',ascending=False).reset_index(drop=True)\n",
    "associations['Threshold'] = associations['Score'].apply(threshold)\n",
    "associations['Gene'] = associations['Gene'].apply(str.upper)\n",
    "associations"
   ]
  },
  {
   "cell_type": "code",
   "execution_count": null,
   "metadata": {},
   "outputs": [],
   "source": [
    "associations.sort_values(['Drug','Score'],ascending=[True,False]).reset_index(drop=True)"
   ]
  },
  {
   "cell_type": "code",
   "execution_count": null,
   "metadata": {},
   "outputs": [],
   "source": [
    "print(associations['Drug'].unique().__len__(), 'drugs,', associations['Gene'].unique().__len__(), 'genes')"
   ]
  },
  {
   "cell_type": "markdown",
   "metadata": {},
   "source": [
    "## Harmonizome Additions"
   ]
  },
  {
   "cell_type": "markdown",
   "metadata": {},
   "source": [
    "#### Resource"
   ]
  },
  {
   "cell_type": "code",
   "execution_count": null,
   "metadata": {},
   "outputs": [],
   "source": [
    "(103, 'DeepCoverMOA', None, 'Here we quantify \"proteome fingerprints\" depicting proteome-wide effects of 875 small molecule perturbagens as a resource for MOA deconvolution and compound repurposing', 'A proteome-wide atlas of drug mechanism of action', 'http://wren.hms.harvard.edu/DeepCoverMOA/#', 874, 1, None)"
   ]
  },
  {
   "cell_type": "markdown",
   "metadata": {},
   "source": [
    "#### Dataset"
   ]
  },
  {
   "cell_type": "code",
   "execution_count": null,
   "metadata": {},
   "outputs": [],
   "source": [
    "# id, name, name wo resource, desc, association, gene set desc, gene sets desc, attribute set desc, positive association, negative association, signed, continuous, last_update, directory, num page views, resource fk, measurement fk, dataset group fk, attribute type fk, attribute group fk, evidence type, evidence group, measurement bias, attribute type plural\n",
    "(133, 'DeepCoverMOA Drug Mechanisms of Action', 'Drug Mechanisms of Action', 'protein expression profiles in HCT116 cell line following drug treatment', 'gene-small molecule associations by differential expression of gene following small molecule perturbation', 'proteins with high or low expression in {0} relative to other proteins from the DeepCoverMOA Drug Mechanisms of Action dataset.', 'sets of proteins with high or low expression relative to other proteins from the DeepCoverMOA Drug Mechanisms of Action dataset.', 'small molecule perturbations with high or low expression of {0} protein relative to other small molecule perturbations from the DeepCoverMOA Drug Mechanisms of Action dataset.', 'high expression', 'low expression', 1, 1, '01-09-23', 'deepcovermoa', 0, 103, 25, 5, 12, 2, 'protein expression by mass spectrometry', 'primary experimental data', 'high thoroughput, data driven', 'small molecule perturbations')"
   ]
  },
  {
   "cell_type": "markdown",
   "metadata": {},
   "source": [
    "### Publication"
   ]
  },
  {
   "cell_type": "code",
   "execution_count": null,
   "metadata": {},
   "outputs": [],
   "source": [
    "(138)"
   ]
  },
  {
   "cell_type": "markdown",
   "metadata": {},
   "source": [
    "### Genes To Add"
   ]
  },
  {
   "cell_type": "code",
   "execution_count": null,
   "metadata": {},
   "outputs": [],
   "source": [
    "production = pd.read_csv('tables/gene.csv', index_col='id')\n",
    "production['symbol'] = production['symbol'].apply(str.upper)\n",
    "geneinfo = pd.read_csv('tables/gene_info', sep='\\t').get(['GeneID','Symbol','description'])\n",
    "geneinfo['Symbol'] = geneinfo['Symbol'].apply(str.upper)\n",
    "geneinfo = geneinfo.set_index('Symbol')"
   ]
  },
  {
   "cell_type": "code",
   "execution_count": null,
   "metadata": {},
   "outputs": [],
   "source": [
    "newgenes=[]\n",
    "for gene in associations['Gene'].unique().tolist():\n",
    "    if gene not in production['symbol'].to_list() and gene in geneinfo.index:\n",
    "        newgenes.append(gene.upper())"
   ]
  },
  {
   "cell_type": "code",
   "execution_count": null,
   "metadata": {},
   "outputs": [],
   "source": [
    "#(id,symbol,ncbi_entrez_gene_id,name,ncbi_entrez_gene_url)\n",
    "genefk = production.reset_index().set_index('symbol')['id'].to_dict()\n",
    "url = 'https://ncbi.nlm.nih.gov/gene/'\n",
    "index = 57029\n",
    "for gene in newgenes:\n",
    "    id = geneinfo.loc[gene, 'GeneID']\n",
    "    print((index, gene, id, geneinfo.loc[gene, 'description'], url+str(id)), end=',\\n')\n",
    "    genefk[gene] = index\n",
    "    index += 1"
   ]
  },
  {
   "cell_type": "code",
   "execution_count": null,
   "metadata": {},
   "outputs": [],
   "source": [
    "proddict = production.set_index('symbol')['ncbi_entrez_gene_id'].to_dict()\n",
    "geneinfodict = geneinfo['GeneID'].to_dict()\n",
    "\n",
    "genes = associations['Gene'].to_frame().drop_duplicates().reset_index(drop=True)\n",
    "genes['production'] = genes['Gene'].apply(lambda x: x in proddict)\n",
    "genes['new'] = genes['Gene'].apply(lambda x: x in newgenes)\n",
    "genes['id'] = 0\n",
    "\n",
    "for gene in genes.index:\n",
    "    name = genes.loc[gene,'Gene']\n",
    "    prod = genes.loc[gene, 'production']\n",
    "    new = genes.loc[gene, 'new']\n",
    "    if prod:\n",
    "        genes.loc[gene,'id'] = proddict[name]\n",
    "    elif new:\n",
    "        genes.loc[gene,'id'] = geneinfodict[name]\n",
    "\n",
    "genes = genes.get(['Gene','id'])\n",
    "genes = genes[genes['id']>0].reset_index(drop=True)\n",
    "genes.columns = ['Gene Symbol', 'Gene ID']\n",
    "genes['Gene FK'] = genes['Gene Symbol'].apply(lambda x: genefk[x])\n",
    "genes"
   ]
  },
  {
   "cell_type": "markdown",
   "metadata": {},
   "source": [
    "### Attributes To Add"
   ]
  },
  {
   "cell_type": "code",
   "execution_count": null,
   "metadata": {},
   "outputs": [],
   "source": [
    "pubchem = pd.read_csv('tables/pubchem.txt', sep='\\t').dropna(how='any').drop_duplicates('Compound Name').set_index('Compound Name')['Unnamed: 1'].astype(int).to_dict()"
   ]
  },
  {
   "cell_type": "code",
   "execution_count": null,
   "metadata": {},
   "outputs": [],
   "source": [
    "def decodererror(drug):\n",
    "    dict = {'Veliparib�':'Veliparib', 'Sapropterin�':'Sapropterin','Resmetirom�':'Resmetirom'}\n",
    "    if drug in dict:\n",
    "        return dict[drug]\n",
    "    return drug"
   ]
  },
  {
   "cell_type": "code",
   "execution_count": null,
   "metadata": {},
   "outputs": [],
   "source": [
    "attributes = pd.DataFrame(associations['Drug'].unique(), columns=['Compound Name'])\n",
    "attributes['Compound Name'] = attributes['Compound Name'].apply(decodererror)\n",
    "attributes['Pubchem'] = attributes['Compound Name'].apply(lambda x: pubchem[x])\n",
    "attributes = attributes.reset_index().reset_index()\n",
    "attributes.columns = ['attribute_fk','gene_set_fk','Compound Name', 'Pubchem']\n",
    "attributes['attribute_fk'] += 297012\n",
    "attributes['gene_set_fk'] += 133200000\n",
    "genesetfk = attributes.set_index('Compound Name')['gene_set_fk'].to_dict()\n",
    "attributes"
   ]
  },
  {
   "cell_type": "code",
   "execution_count": null,
   "metadata": {},
   "outputs": [],
   "source": [
    "production = pd.read_csv('production/attribute.csv')\n",
    "production = production[production['naming_authority_fk']==19]\n",
    "url = 'https://pubchem.ncbi.nlm.nih.gov/compound/'\n",
    "for drug in attributes.index:\n",
    "    drug = attributes.loc[drug]\n",
    "    id = drug['Pubchem']\n",
    "    #print((drug['attribute_fk'], drug['Compound Name'], id, url+str(id), 19), end=',\\n')"
   ]
  },
  {
   "cell_type": "markdown",
   "metadata": {},
   "source": [
    "### Gene Sets To Add"
   ]
  },
  {
   "cell_type": "code",
   "execution_count": null,
   "metadata": {},
   "outputs": [],
   "source": [
    "url = 'https://pubchem.ncbi.nlm.nih.gov/compound/' # need to replace with DeepCover url, \n",
    "for drug in attributes.index:\n",
    "    drug = attributes.loc[drug]\n",
    "    id = drug['Pubchem']\n",
    "    #print((drug['gene_set_fk'], drug['Compound Name'], id, url+str(id), 133, 8, drug['attribute_fk']), end=',\\n')"
   ]
  },
  {
   "cell_type": "markdown",
   "metadata": {},
   "source": [
    "### Associations"
   ]
  },
  {
   "cell_type": "code",
   "execution_count": null,
   "metadata": {},
   "outputs": [],
   "source": [
    "dropgenes = []\n",
    "for gene in associations['Gene'].unique().tolist():\n",
    "    if gene not in genes['Gene Symbol'].to_list():\n",
    "        dropgenes.append(gene)"
   ]
  },
  {
   "cell_type": "code",
   "execution_count": null,
   "metadata": {},
   "outputs": [],
   "source": [
    "associations = associations.set_index('Gene').drop(dropgenes, axis=0).reset_index()\n",
    "associations['Drug'] = associations['Drug'].apply(decodererror)\n",
    "deepcovermoa = associations.copy()\n",
    "associations['gene_fk'] = associations['Gene'].apply(lambda x: genefk[x])\n",
    "associations['gene_set_fk'] = associations['Drug'].apply(lambda x: genesetfk[x])\n",
    "associations = associations.drop_duplicates(subset=['gene_fk', 'gene_set_fk']).reset_index(drop=True)\n",
    "associations.index += 12000000\n",
    "associations = associations[['gene_fk', 'gene_set_fk', 'Score', 'Threshold']]\n",
    "associations.columns = ['gene_fk', 'gene_set_fk', 'standardized_value', 'threshold_value']\n",
    "associations.to_csv('harmonizome-update/deepcovermoa.csv')\n",
    "associations"
   ]
  },
  {
   "cell_type": "markdown",
   "metadata": {},
   "source": [
    "## Downloads"
   ]
  },
  {
   "cell_type": "code",
   "execution_count": null,
   "metadata": {},
   "outputs": [],
   "source": [
    "output_path = 'newdata/DeepCoverMOA/downloads/'\n",
    "deepcovermoa = deepcovermoa.drop_duplicates(subset=['Drug', 'Gene']).reset_index(drop=True)"
   ]
  },
  {
   "cell_type": "markdown",
   "metadata": {},
   "source": [
    "### Ternary Matrix"
   ]
  },
  {
   "cell_type": "code",
   "execution_count": null,
   "metadata": {},
   "outputs": [],
   "source": [
    "ternarymatrix = pd.crosstab(deepcovermoa['Gene'], deepcovermoa['Drug'], deepcovermoa['Threshold'], aggfunc=np.max).replace(np.nan, 0).astype(int)\n",
    "ternarymatrixT = ternarymatrix.T\n",
    "ternarymatrix.to_csv(output_path+'gene_similarity_matrix.txt.gz', sep='\\t', compression='gzip')\n",
    "ternarymatrix"
   ]
  },
  {
   "cell_type": "markdown",
   "metadata": {},
   "source": [
    "### Gene-Attribute Edge List"
   ]
  },
  {
   "cell_type": "code",
   "execution_count": null,
   "metadata": {},
   "outputs": [],
   "source": [
    "edgelist = deepcovermoa.copy()\n",
    "geneid = genes.set_index('Gene Symbol')['Gene ID'].to_dict()\n",
    "drugid = attributes.set_index('Compound Name')['Pubchem'].to_dict()\n",
    "edgelist['Gene ID'] = edgelist['Gene'].apply(lambda x: geneid[x])\n",
    "edgelist['Pubchem ID'] = edgelist['Drug'].apply(lambda x: drugid[x])\n",
    "edgelist = edgelist.get(['Gene', 'Gene ID', 'Drug', 'Pubchem ID', 'Score', 'Threshold'])\n",
    "\n",
    "edgelist.to_csv(output_path+'gene_attribute_edges.txt.gz', sep='\\t', compression='gzip')\n",
    "edgelist"
   ]
  },
  {
   "cell_type": "markdown",
   "metadata": {},
   "source": [
    "### Gene List"
   ]
  },
  {
   "cell_type": "code",
   "execution_count": null,
   "metadata": {},
   "outputs": [],
   "source": [
    "genelist = edgelist[['Gene', 'Gene ID']].drop_duplicates().reset_index(drop=True)\n",
    "genelist.to_csv(output_path+'gene_list_terms.txt.gz', sep='\\t', compression='gzip')\n",
    "genelist"
   ]
  },
  {
   "cell_type": "markdown",
   "metadata": {},
   "source": [
    "### Attribute List"
   ]
  },
  {
   "cell_type": "code",
   "execution_count": null,
   "metadata": {},
   "outputs": [],
   "source": [
    "attributelist = edgelist[['Drug', 'Pubchem ID']].drop_duplicates().reset_index()\n",
    "attributelist.to_csv(output_path+'attribute_list_entries.txt.gz', sep='\\t', compression='gzip')\n",
    "attributelist"
   ]
  },
  {
   "cell_type": "markdown",
   "metadata": {},
   "source": [
    "### Gene Up Set Library"
   ]
  },
  {
   "cell_type": "code",
   "execution_count": null,
   "metadata": {},
   "outputs": [],
   "source": [
    "arr = ternarymatrix.reset_index(drop=True).to_numpy(dtype=np.int_)\n",
    "\n",
    "with open(output_path+'gene_set_library_up_crisp.gmt', 'w') as f:\n",
    "    for i in range(arr.shape[1]):\n",
    "        print(ternarymatrix.columns[i],*ternarymatrix.index[arr[:,i]==1],\n",
    "            sep='\\t', end='\\n', file=f)"
   ]
  },
  {
   "cell_type": "markdown",
   "metadata": {},
   "source": [
    "### Gene Down Set Library"
   ]
  },
  {
   "cell_type": "code",
   "execution_count": null,
   "metadata": {},
   "outputs": [],
   "source": [
    "with open(output_path+'gene_set_library_dn_crisp.gmt', 'w') as f:\n",
    "    for i in range(arr.shape[1]):\n",
    "        print(ternarymatrix.columns[i],*ternarymatrix.index[arr[:,i]==-1],\n",
    "        sep='\\t', end='\\n', file=f)"
   ]
  },
  {
   "cell_type": "markdown",
   "metadata": {},
   "source": [
    "### Attribute Up Set Library"
   ]
  },
  {
   "cell_type": "code",
   "execution_count": null,
   "metadata": {},
   "outputs": [],
   "source": [
    "arr = ternarymatrixT.reset_index(drop=True).to_numpy(dtype=np.int_)\n",
    "\n",
    "with open(output_path+'attribute_set_library_up_crisp.gmt', 'w') as f:\n",
    "    for i in range(arr.shape[1]):\n",
    "        print(ternarymatrixT.columns[i],*ternarymatrixT.index[arr[:,i]==1],\n",
    "            sep='\\t', end='\\n', file=f)"
   ]
  },
  {
   "cell_type": "markdown",
   "metadata": {},
   "source": [
    "### Attribute Down Set Library"
   ]
  },
  {
   "cell_type": "code",
   "execution_count": null,
   "metadata": {},
   "outputs": [],
   "source": [
    "with open(output_path+'attribute_set_library_dn_crisp.gmt', 'w') as f:\n",
    "    for i in range(arr.shape[1]):\n",
    "        print(ternarymatrixT.columns[i],*ternarymatrixT.index[arr[:,i]==-1],\n",
    "            sep='\\t', end='\\n', file=f)"
   ]
  },
  {
   "cell_type": "markdown",
   "metadata": {},
   "source": [
    "### Gene Similarity Matrix"
   ]
  },
  {
   "cell_type": "code",
   "execution_count": null,
   "metadata": {},
   "outputs": [],
   "source": [
    "similarity_matrix = dist.pdist(ternarymatrix.to_numpy(dtype=np.int_), 'cosine')\n",
    "similarity_matrix = dist.squareform(similarity_matrix)\n",
    "similarity_matrix = 1 - similarity_matrix\n",
    "\n",
    "gene_similarity_matrix = pd.DataFrame(similarity_matrix, index=ternarymatrix.index, columns=ternarymatrix.index)\n",
    "gene_similarity_matrix.index.name = None\n",
    "gene_similarity_matrix.columns.name = None\n",
    "\n",
    "gene_similarity_matrix.to_csv(output_path+'gene_similarity_matrix_cosine.txt.gz', sep='\\t', compression='gzip')\n",
    "gene_similarity_matrix"
   ]
  },
  {
   "cell_type": "markdown",
   "metadata": {},
   "source": [
    "### Attribute Similarity Matrix"
   ]
  },
  {
   "cell_type": "code",
   "execution_count": null,
   "metadata": {},
   "outputs": [],
   "source": [
    "similarity_matrix = dist.pdist(ternarymatrixT.to_numpy(dtype=np.int_), 'cosine')\n",
    "similarity_matrix = dist.squareform(similarity_matrix)\n",
    "similarity_matrix = 1 - similarity_matrix\n",
    "\n",
    "attribute_similarity_matrix = pd.DataFrame(similarity_matrix, index=ternarymatrixT.index, columns=ternarymatrixT.index)\n",
    "attribute_similarity_matrix.index.name = None\n",
    "attribute_similarity_matrix.columns.name = None\n",
    "\n",
    "attribute_similarity_matrix.to_csv(output_path+'attribute_similarity_matrix_cosine.txt.gz', sep='\\t', compression='gzip')\n",
    "attribute_similarity_matrix"
   ]
  },
  {
   "cell_type": "markdown",
   "metadata": {},
   "source": [
    "### Standardized Gene-Attribute Matrix"
   ]
  },
  {
   "cell_type": "code",
   "execution_count": null,
   "metadata": {},
   "outputs": [],
   "source": [
    "standardmatrix = pd.crosstab(deepcovermoa['Gene'], deepcovermoa['Drug'], deepcovermoa['Score'], aggfunc=np.max).replace(np.nan, 0)\n",
    "standardmatrix.to_csv(output_path+'gene_attribute_matrix_standardized.txt.gz', sep='\\t', compression='gzip')\n",
    "standardmatrix"
   ]
  },
  {
   "cell_type": "markdown",
   "metadata": {},
   "source": [
    "### Knowledge Graph Serializations"
   ]
  },
  {
   "cell_type": "code",
   "execution_count": null,
   "metadata": {},
   "outputs": [],
   "source": [
    "nodes = {}\n",
    "edges = []\n",
    "\n",
    "for gene in genelist.index:\n",
    "    gene = genelist.loc[gene]\n",
    "    label = gene['Gene']\n",
    "    id = int(gene['Gene ID'])\n",
    "    nodes[id] = {\n",
    "        \"type\":\"gene\",\n",
    "        \"properties\":{\n",
    "            \"id\":id,\n",
    "            \"label\":label\n",
    "        }}\n",
    "\n",
    "\n",
    "for drug in attributelist.index:\n",
    "    drug = attributelist.loc[drug]\n",
    "    label = drug['Drug']\n",
    "    id = int(drug['Pubchem ID'])\n",
    "    nodes[label] = {\n",
    "        \"type\":\"drug\",\n",
    "        \"properties\": {\n",
    "            \"id\":id,\n",
    "            \"label\":label\n",
    "        }}\n",
    "\n",
    "for edge in edgelist.index:\n",
    "    edge = edgelist.loc[edge]\n",
    "    source = edge['Drug']\n",
    "    sourceid = int(edge['Pubchem ID'])\n",
    "    target = edge['Gene']\n",
    "    targetid = int(edge['Gene ID'])\n",
    "    score = edge['Score']\n",
    "    threshold = edge['Threshold']\n",
    "    if threshold==1:\n",
    "        edges.append({\n",
    "            \"source\": source,\n",
    "            \"relation\": \"positively regulates\",\n",
    "            \"target\": targetid,\n",
    "            \"properties\":{\n",
    "                \"id\":source+\":\"+str(targetid),\n",
    "                \"source_label\":sourceid,\n",
    "                \"target_label\":target,\n",
    "                \"directed\":True,\n",
    "                \"score\":score,\n",
    "                \"threshold\":int(threshold)\n",
    "            }})\n",
    "    if threshold==-1:\n",
    "        edges.append({\n",
    "            \"source\": source,\n",
    "            \"relation\": \"negatively regulates\",\n",
    "            \"target\": targetid,\n",
    "            \"properties\":{\n",
    "                \"id\":source+\":\"+str(targetid),\n",
    "                \"source_label\":sourceid,\n",
    "                \"target_label\":target,\n",
    "                \"directed\":True,\n",
    "                \"score\":score,\n",
    "                \"threshold\":int(threshold)\n",
    "            }})"
   ]
  },
  {
   "cell_type": "markdown",
   "metadata": {},
   "source": [
    "### RDF"
   ]
  },
  {
   "cell_type": "code",
   "execution_count": null,
   "metadata": {},
   "outputs": [],
   "source": [
    "with open(output_path+'serializations/deepcovermoa.rdf', 'w') as f:\n",
    "    print('@prefix pubchem: https://pubchem.ncbi.nlm.nih.gov/compound/', file=f)\n",
    "    print('@prefix RO: http://purl.obolibrary.org/obo/RO_', file=f)\n",
    "    print('@prefix gene: https://ncbi.nlm.nih.gov/gene/', file=f)\n",
    "\n",
    "    for edge in edges:\n",
    "        sourceid = str(edge['properties']['source_label'])\n",
    "        relation = {'positively regulates':'0002213', 'negatively regulates':'0002212'}[edge['relation']]\n",
    "        targetid = str(edge['target'])\n",
    "        print('pubchem:'+sourceid, 'RO:'+relation, 'gene:'+targetid, end=' .\\n', file=f)"
   ]
  },
  {
   "cell_type": "markdown",
   "metadata": {},
   "source": [
    "### JSON"
   ]
  },
  {
   "cell_type": "code",
   "execution_count": null,
   "metadata": {},
   "outputs": [],
   "source": [
    "with open(output_path+'serializations/deepcovermoa.json', 'w') as f:\n",
    "    serial = json.dump(\n",
    "        {\n",
    "            \"Version\":\"1\", \n",
    "            \"nodes\": nodes,\n",
    "            \"edges\": edges\n",
    "        }, indent=4, fp=f)"
   ]
  },
  {
   "cell_type": "markdown",
   "metadata": {},
   "source": [
    "### TSV"
   ]
  },
  {
   "cell_type": "code",
   "execution_count": null,
   "metadata": {},
   "outputs": [],
   "source": [
    "nodeframe = pd.DataFrame(nodes).T\n",
    "nodeframe['id'] = nodeframe['properties'].apply(lambda x: x['id'])\n",
    "nodeframe['label'] = nodeframe['properties'].apply(lambda x: x['label'])\n",
    "nodeframe['namespace'] = nodeframe['type'].apply(lambda x: {'gene':'NCBI Entrez', 'drug':'Pubchem'}[x])\n",
    "nodeframe = nodeframe.get(['namespace','id','label']).reset_index(drop=True)\n",
    "nodeframe.to_csv(output_path+'serializations/deepcovermoa_tsv/nodes.tsv', sep='\\t')"
   ]
  },
  {
   "cell_type": "code",
   "execution_count": null,
   "metadata": {},
   "outputs": [],
   "source": [
    "edgeframe = pd.DataFrame(edges)\n",
    "edgeframe['source_label'] = edgeframe['properties'].apply(lambda x: x['source_label'])\n",
    "edgeframe['target_label'] = edgeframe['properties'].apply(lambda x: x['target_label'])\n",
    "edgeframe['directed'] = edgeframe['properties'].apply(lambda x: x['directed'])\n",
    "edgeframe['score'] = edgeframe['properties'].apply(lambda x: x['score'])\n",
    "edgeframe['threshold'] = edgeframe['properties'].apply(lambda x: x['threshold'])\n",
    "edgeframe = edgeframe.drop(columns=['properties'])\n",
    "edgeframe = edgeframe.get(['source_label', 'relation', 'target', 'source', 'target_label', 'directed', 'score', 'threshold'])\n",
    "edgeframe.columns = ['source', 'relation', 'target', 'source_label', 'target_label', 'directed', 'score', 'threshold']\n",
    "edgeframe.to_csv(output_path+'serializations/deepcovermoa_tsv/edges.tsv', sep='\\t')"
   ]
  },
  {
   "cell_type": "markdown",
   "metadata": {},
   "source": [
    "## Visualizations\n",
    "### Gene-Attribute Heatmap"
   ]
  },
  {
   "cell_type": "code",
   "execution_count": null,
   "metadata": {},
   "outputs": [],
   "source": [
    "sns.clustermap(ternarymatrix, cmap='seismic', center=0)"
   ]
  },
  {
   "cell_type": "markdown",
   "metadata": {},
   "source": [
    "### Gene Similarity Heatmap"
   ]
  },
  {
   "cell_type": "code",
   "execution_count": null,
   "metadata": {},
   "outputs": [],
   "source": [
    "sns.clustermap(gene_similarity_matrix, cmap='seismic', center=0)"
   ]
  },
  {
   "cell_type": "markdown",
   "metadata": {},
   "source": [
    "### Attribute Similarity Heatmap"
   ]
  },
  {
   "cell_type": "code",
   "execution_count": null,
   "metadata": {},
   "outputs": [],
   "source": [
    "sns.clustermap(attribute_similarity_matrix, cmap='seismic', center=0)"
   ]
  },
  {
   "cell_type": "markdown",
   "metadata": {},
   "source": [
    "### UMAP"
   ]
  },
  {
   "cell_type": "code",
   "execution_count": null,
   "metadata": {},
   "outputs": [],
   "source": [
    "def load_gmt(file, dir='up'):\n",
    "    gmt = OrderedDict()\n",
    "    for line in file:\n",
    "        term, *geneset = line.strip().split('\\t')\n",
    "        gmt[term+'_'+dir] = ' '.join(set(geneset))\n",
    "    return gmt"
   ]
  },
  {
   "cell_type": "code",
   "execution_count": null,
   "metadata": {},
   "outputs": [],
   "source": [
    "libdict = load_gmt(open('newdata/DeepCoverMOA/downloads/gene_set_library_up_crisp.gmt', 'r'))\n",
    "libdict.update(load_gmt(open('newdata/DeepCoverMOA/downloads/gene_set_library_dn_crisp.gmt', 'r'), 'dn'))\n",
    "scatterdir = 'newdata/DeepCoverMOA/images/'"
   ]
  },
  {
   "cell_type": "code",
   "execution_count": null,
   "metadata": {},
   "outputs": [],
   "source": [
    "def process_scatterplot(libdict, nneighbors=30, mindist=0.1, spread=1.0, maxdf=1.0, mindf=1):\n",
    "    print(\"\\tTF-IDF vectorizing gene set data...\")\n",
    "    vec = TfidfVectorizer(max_df=maxdf, min_df=mindf)\n",
    "    X = vec.fit_transform(libdict.values())\n",
    "    print(X.shape)\n",
    "    adata = anndata.AnnData(X)\n",
    "    adata.obs.index = libdict.keys()\n",
    "\n",
    "    print(\"\\tPerforming Leiden clustering...\")\n",
    "    ### the n_neighbors and min_dist parameters can be altered\n",
    "    sc.pp.neighbors(adata, n_neighbors=nneighbors, use_rep='X')\n",
    "    sc.tl.leiden(adata, resolution=1.0)\n",
    "    sc.tl.umap(adata, min_dist=mindist, spread=spread, random_state=42)\n",
    "\n",
    "    new_order = adata.obs.sort_values(by='leiden').index.tolist()\n",
    "    adata = adata[new_order, :]\n",
    "    adata.obs['leiden'] = 'Cluster ' + adata.obs['leiden'].astype('object')\n",
    "\n",
    "    df = pd.DataFrame(adata.obsm['X_umap'])\n",
    "    df.columns = ['x', 'y']\n",
    "\n",
    "    df['cluster'] = adata.obs['leiden'].values\n",
    "    df['term'] = adata.obs.index\n",
    "    df['genes'] = [libdict[l] for l in df['term']]\n",
    "\n",
    "    return df"
   ]
  },
  {
   "cell_type": "code",
   "execution_count": null,
   "metadata": {},
   "outputs": [],
   "source": [
    "def get_scatter_colors(df):\n",
    "    clusters = pd.unique(df['cluster']).tolist()\n",
    "    colors = list(Category20[20])[::2] + list(Category20[20])[1::2]\n",
    "    color_mapper = {clusters[i]: colors[i % 20] for i in range(len(clusters))}\n",
    "    return color_mapper\n",
    "\n",
    "def get_scatterplot(scatterdf):\n",
    "    df = scatterdf.copy()\n",
    "    color_mapper = get_scatter_colors(df)\n",
    "    df['color'] = df['cluster'].apply(lambda x: color_mapper[x])\n",
    "\n",
    "    hover_emb = HoverTool(name=\"df\", tooltips=\"\"\"\n",
    "        <div style=\"margin: 10\">\n",
    "            <div style=\"margin: 0 auto; width:300px;\">\n",
    "                <span style=\"font-size: 12px; font-weight: bold;\">Gene Set:</span>\n",
    "                <span style=\"font-size: 12px\">@gene_set</span>\n",
    "            <div style=\"margin: 0 auto; width:300px;\">\n",
    "                <span style=\"font-size: 12px; font-weight: bold;\">Coordinates:</span>\n",
    "                <span style=\"font-size: 12px\">(@x,@y)</span>\n",
    "            <div style=\"margin: 0 auto; width:300px;\">\n",
    "                <span style=\"font-size: 12px; font-weight: bold;\">Cluster:</span>\n",
    "                <span style=\"font-size: 12px\">@cluster</span>\n",
    "            </div>\n",
    "        </div>\n",
    "    \"\"\")\n",
    "    tools_emb = [hover_emb, 'pan', 'wheel_zoom', 'reset', 'save']\n",
    "\n",
    "    plot_emb = figure(\n",
    "        width=1000, \n",
    "        height=700, \n",
    "        tools=tools_emb\n",
    "    )\n",
    "\n",
    "    source = ColumnDataSource(\n",
    "        data=dict(\n",
    "            x = df['x'],\n",
    "            y = df['y'],\n",
    "            gene_set = df['term'],\n",
    "            cluster = df['cluster'],\n",
    "            colors = df['color'],\n",
    "            label = df['cluster']\n",
    "        )\n",
    "    )\n",
    "\n",
    "    # hide axis labels and grid lines\n",
    "    plot_emb.xaxis.major_tick_line_color = None\n",
    "    plot_emb.xaxis.minor_tick_line_color = None\n",
    "    plot_emb.yaxis.major_tick_line_color = None\n",
    "    plot_emb.yaxis.minor_tick_line_color = None\n",
    "    plot_emb.xaxis.major_label_text_font_size = '0pt'\n",
    "    plot_emb.yaxis.major_label_text_font_size = '0pt' \n",
    "\n",
    "    plot_emb.output_backend = \"svg\"    \n",
    "    \n",
    "    plot_emb.title = 'Gene Sets in the DeepCoverMOA Drug Mechanisms of Action Library'\n",
    "    plot_emb.xaxis.axis_label = \"UMAP_1\"\n",
    "    plot_emb.yaxis.axis_label = \"UMAP_2\"\n",
    "    plot_emb.xaxis.axis_label_text_font_style = 'normal'\n",
    "    plot_emb.xaxis.axis_label_text_font_size = '18px'\n",
    "    plot_emb.yaxis.axis_label_text_font_size = '18px'\n",
    "    plot_emb.yaxis.axis_label_text_font_style = 'normal'\n",
    "    plot_emb.title.align = 'center'\n",
    "    plot_emb.title.text_font_size = '18px'\n",
    "    \n",
    "    s = plot_emb.scatter(\n",
    "        'x', \n",
    "        'y', \n",
    "        size = 4, \n",
    "        source = source, \n",
    "        color = 'colors'\n",
    "    )\n",
    "    \n",
    "    return plot_emb"
   ]
  },
  {
   "cell_type": "code",
   "execution_count": null,
   "metadata": {},
   "outputs": [],
   "source": [
    "## defaults: nneighbors=30, mindist=0.1, spread=1.0, maxdf=1.0, mindf=1\n",
    "scatter_df = process_scatterplot(libdict, nneighbors=30,mindist=0.1\n",
    "    #,spread=0.25, \n",
    "    #,maxdf=0.7 \n",
    "    #,mindf=0.055\n",
    ")\n",
    "\n",
    "# Display Scatter Plot\n",
    "plot = get_scatterplot(scatter_df)\n",
    "output_notebook()\n",
    "show(plot)"
   ]
  },
  {
   "cell_type": "code",
   "execution_count": null,
   "metadata": {},
   "outputs": [],
   "source": [
    "# save HTML if desired\n",
    "output_file(filename=f\"{scatterdir}umap.html\", title = 'Gene Sets in the DeepCoverMOA Drug Mechanisms of Action Library')\n",
    "save(plot)"
   ]
  },
  {
   "cell_type": "code",
   "execution_count": null,
   "metadata": {},
   "outputs": [],
   "source": []
  }
 ],
 "metadata": {
  "kernelspec": {
   "display_name": "Python 3.10.8 ('appyter')",
   "language": "python",
   "name": "python3"
  },
  "language_info": {
   "codemirror_mode": {
    "name": "ipython",
    "version": 3
   },
   "file_extension": ".py",
   "mimetype": "text/x-python",
   "name": "python",
   "nbconvert_exporter": "python",
   "pygments_lexer": "ipython3",
   "version": "3.10.8"
  },
  "orig_nbformat": 4,
  "vscode": {
   "interpreter": {
    "hash": "36b64e778f8b0c3f01583b2eed08020222bb534e013a238936f90fb19a999c87"
   }
  }
 },
 "nbformat": 4,
 "nbformat_minor": 2
}
