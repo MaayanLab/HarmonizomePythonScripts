{
 "cells": [
  {
   "cell_type": "markdown",
   "metadata": {},
   "source": [
    "### TG-GATES \n",
    "#### Source : https://datadryad.org/stash/dataset/doi:10.5061/dryad.pvmcvdngd\n",
    "#### Author : Eryk Kropiwnicki | eryk.kropiwnicki@icahn.mssm.edu"
   ]
  },
  {
   "cell_type": "code",
   "execution_count": 1,
   "metadata": {},
   "outputs": [],
   "source": [
    "import os\n",
    "import glob as glob\n",
    "\n",
    "import pandas as pd\n",
    "import numpy as np\n",
    "\n",
    "import harmonizome.utility_functions as uf\n",
    "import harmonizome.lookup as lookup"
   ]
  },
  {
   "cell_type": "code",
   "execution_count": 2,
   "metadata": {},
   "outputs": [
    {
     "name": "stderr",
     "output_type": "stream",
     "text": [
      "Gathering sources: 100%|██████████| 3/3 [00:09<00:00,  3.09s/it]\n"
     ]
    }
   ],
   "source": [
    "symbol_lookup, geneid_lookup = lookup.get_lookups()"
   ]
  },
  {
   "cell_type": "code",
   "execution_count": 3,
   "metadata": {},
   "outputs": [],
   "source": [
    "output_name = 'TG_GATES'\n",
    "path = 'output'\n",
    "if not os.path.exists(path):\n",
    "    os.makedirs(path)"
   ]
  },
  {
   "cell_type": "markdown",
   "metadata": {},
   "source": [
    "### Import all Gene Level Data"
   ]
  },
  {
   "cell_type": "code",
   "execution_count": 4,
   "metadata": {},
   "outputs": [],
   "source": [
    "df_data = pd.DataFrame()\n",
    "filepath = 'doi_10.5061_dryad.pvmcvdngd__v10/*GeneLevelData.txt'\n",
    "filelist = sorted(glob.iglob(filepath))\n",
    "\n",
    "for file in filelist:\n",
    "    df = pd.read_table(file,engine='python')\n",
    "    df = df[df['Prefilter P-Value'] < 0.05]\n",
    "    df['Analysis'] = df['Analysis'].str.split('_rma').str[0]+'_rat'\n",
    "    # Replace invalid characters\n",
    "    df['Analysis'] = df['Analysis'].str.replace(' ','_')\n",
    "    df['Analysis'] = df['Analysis'].str.replace('+','plus')\n",
    "    df['Analysis'] = df['Analysis'].str.replace('�','_alpha')\n",
    "    df['Analysis'] = df['Analysis'].str.replace('?','')\n",
    "    #\n",
    "    df_data = pd.concat([df_data, df[df['Max Fold Change Absolute Value'] >= 1.5]])"
   ]
  },
  {
   "cell_type": "markdown",
   "metadata": {},
   "source": [
    "### Map Gene Symbols to Approved Entrez Gene Symbols"
   ]
  },
  {
   "cell_type": "code",
   "execution_count": 5,
   "metadata": {},
   "outputs": [
    {
     "name": "stderr",
     "output_type": "stream",
     "text": [
      "/Users/erykkropiwnicki/Library/Python/3.8/lib/python/site-packages/tqdm/std.py:668: FutureWarning: The Panel class is removed from pandas. Accessing it from the top-level namespace will also be removed in the next version\n",
      "  from pandas import Panel\n",
      "100%|██████████| 810817/810817 [00:01<00:00, 517531.05it/s]\n"
     ]
    },
    {
     "data": {
      "text/plain": [
       "(534688, 1)"
      ]
     },
     "execution_count": 5,
     "metadata": {},
     "output_type": "execute_result"
    }
   ],
   "source": [
    "df_data = uf.map_symbols(df_data[['Analysis', 'Genes Symbols']].set_index('Genes Symbols'), symbol_lookup, remove_duplicates=True)\n",
    "df_data.shape"
   ]
  },
  {
   "cell_type": "markdown",
   "metadata": {},
   "source": [
    "### Create outputs for Harmonizome and Enrichr\n",
    "- Binary Matrix\n",
    "- Gene & Attribute Lists\n",
    "- Gene & Attribute Set Libraries\n",
    "- Gene & Attribute Similarity Matrices\n",
    "- Edge List"
   ]
  },
  {
   "cell_type": "code",
   "execution_count": 6,
   "metadata": {},
   "outputs": [],
   "source": [
    "binary_matrix = uf.binary_matrix(df_data)\n",
    "uf.save_data(binary_matrix, path, output_name + '_binary_matrix', \n",
    "            compression='npz', dtype=np.uint8)"
   ]
  },
  {
   "cell_type": "code",
   "execution_count": 7,
   "metadata": {},
   "outputs": [
    {
     "name": "stderr",
     "output_type": "stream",
     "text": [
      "100%|██████████| 12138/12138 [00:00<00:00, 318933.90it/s]\n"
     ]
    }
   ],
   "source": [
    "gene_list = uf.gene_list(binary_matrix, geneid_lookup)\n",
    "uf.save_data(gene_list, path, output_name + '_gene_list',\n",
    "            ext='tsv', compression='gzip', index=False)"
   ]
  },
  {
   "cell_type": "code",
   "execution_count": 8,
   "metadata": {},
   "outputs": [],
   "source": [
    "attribute_list = uf.attribute_list(binary_matrix)\n",
    "uf.save_data(attribute_list, path, output_name + '_attribute_list',\n",
    "            ext='tsv', compression='gzip')"
   ]
  },
  {
   "cell_type": "code",
   "execution_count": 9,
   "metadata": {},
   "outputs": [
    {
     "name": "stderr",
     "output_type": "stream",
     "text": [
      "100%|██████████| 1190/1190 [00:00<00:00, 3084.93it/s]\n",
      "100%|██████████| 12138/12138 [00:00<00:00, 15908.01it/s]\n"
     ]
    }
   ],
   "source": [
    "uf.save_setlib(binary_matrix, 'gene', 'up', path, output_name + '_gene_set')\n",
    "uf.save_setlib(binary_matrix, 'attribute', 'up', path, \n",
    "                           output_name + '_attribute_set')"
   ]
  },
  {
   "cell_type": "code",
   "execution_count": 10,
   "metadata": {},
   "outputs": [],
   "source": [
    "attribute_similarity_matrix = uf.similarity_matrix(binary_matrix.T, 'jaccard', sparse=True)\n",
    "uf.save_data(attribute_similarity_matrix, path,\n",
    "            output_name + '_attribute_similarity_matrix', \n",
    "            compression='npz', symmetric=True, dtype=np.float32)"
   ]
  },
  {
   "cell_type": "code",
   "execution_count": 11,
   "metadata": {},
   "outputs": [],
   "source": [
    "gene_similarity_matrix = uf.similarity_matrix(binary_matrix, 'jaccard', sparse=True)\n",
    "uf.save_data(gene_similarity_matrix, path, \n",
    "            output_name + '_gene_similarity_matrix',\n",
    "            compression='npz', symmetric=True, dtype=np.float32)"
   ]
  },
  {
   "cell_type": "code",
   "execution_count": 12,
   "metadata": {},
   "outputs": [
    {
     "name": "stdout",
     "output_type": "stream",
     "text": [
      "The number of statisticaly relevent gene-attribute associations is: 534688\n"
     ]
    }
   ],
   "source": [
    "edge_list = uf.edge_list(binary_matrix)\n",
    "uf.save_data(edge_list, path, output_name + '_edge_list', \n",
    "        ext='tsv', compression='gzip')"
   ]
  }
 ],
 "metadata": {
  "kernelspec": {
   "display_name": "Python 3",
   "language": "python",
   "name": "python3"
  },
  "language_info": {
   "codemirror_mode": {
    "name": "ipython",
    "version": 3
   },
   "file_extension": ".py",
   "mimetype": "text/x-python",
   "name": "python",
   "nbconvert_exporter": "python",
   "pygments_lexer": "ipython3",
   "version": "3.8.3"
  }
 },
 "nbformat": 4,
 "nbformat_minor": 4
}
