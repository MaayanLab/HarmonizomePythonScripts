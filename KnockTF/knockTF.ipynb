{
 "cells": [
  {
   "cell_type": "markdown",
   "metadata": {},
   "source": [
    "# KnockTF Gene Expression Profiles with Transcription Factor Perturbations Harmonizome Processing\n",
    "\n",
    "[KnockTF](http://www.licpathway.net/KnockTF/index.html) is a resource dedicated to exploring the effect of transcription factor knockout/knockdown on gene regulation. Gene expression was measured before and after transcription factor perturbations. The resource collected data from 308 transcription factors and 570 manually curated RNA-seq and microrarray datasets from [ENCODE](https://www.encodeproject.org/) and [GEO](https://www.ncbi.nlm.nih.gov/geo/) to create a dataset of detailed gene expression data with associations between 566 transcription factor perturbations and 17,964 genes.\n",
    "\n",
    "Feng, C., et al. (2020). \"KnockTF: a comprehensive human gene expression profile database with knockdown/knockout of transcription factors.\" Nucleic Acids Research 48(D1): D93-D100."
   ]
  },
  {
   "cell_type": "code",
   "execution_count": null,
   "metadata": {},
   "outputs": [],
   "source": [
    "import pandas as pd\n",
    "import datetime\n",
    "import numpy as np\n",
    "import scipy.spatial.distance as dist\n",
    "import seaborn\n",
    "import sys\n",
    "import json\n",
    "import scanpy as sc\n",
    "\n",
    "from sklearn.feature_extraction.text import TfidfVectorizer\n",
    "import anndata\n",
    "from bokeh.io import output_notebook, export_svg, output_file, save\n",
    "from bokeh.io.export import get_screenshot_as_png\n",
    "from bokeh.embed import json_item\n",
    "from bokeh.plotting import figure, show\n",
    "from bokeh.models import HoverTool, ColumnDataSource\n",
    "from bokeh.palettes import Category20\n",
    "sys.setrecursionlimit(100000)"
   ]
  },
  {
   "cell_type": "markdown",
   "metadata": {},
   "source": [
    "## Mapping Setup"
   ]
  },
  {
   "cell_type": "code",
   "execution_count": null,
   "metadata": {},
   "outputs": [],
   "source": [
    "prodgenes = pd.read_csv('production/gene_updated.csv')\n",
    "prodgenes = prodgenes.get(['id', 'symbol', 'ncbi_entrez_gene_id'])\n",
    "prodgenes['symbol'] = prodgenes['symbol'].apply(str.upper)\n",
    "\n",
    "geneinfo = pd.read_csv('tables/gene_info',sep='\\t')\n",
    "geneinfo = geneinfo[geneinfo['type_of_gene']=='protein-coding']\n",
    "geneinfo = geneinfo.get(['GeneID','Symbol','description'])\n",
    "geneinfo['Symbol'] = geneinfo['Symbol'].apply(str.upper)"
   ]
  },
  {
   "cell_type": "markdown",
   "metadata": {},
   "source": [
    "## Load Data\n",
    "The following data file was downloaded from knockTF's [download page](http://www.licpathway.net/KnockTF/download.php) and renamed from \"differential expression of genes in all datasets.txt\" to \"knockTF.txt.\""
   ]
  },
  {
   "cell_type": "code",
   "execution_count": null,
   "metadata": {},
   "outputs": [],
   "source": [
    "knocktf = pd.read_csv('newdata/knockTF/knockTF.txt', sep='\\t', dtype=object)\n",
    "knocktf"
   ]
  },
  {
   "cell_type": "markdown",
   "metadata": {},
   "source": [
    "## Process Data"
   ]
  },
  {
   "cell_type": "code",
   "execution_count": null,
   "metadata": {},
   "outputs": [],
   "source": [
    "knocktf['threshold'] = knocktf['up_down'].replace('0',np.nan).replace('2','-1')\n",
    "knocktf = knocktf.dropna().reset_index(drop=True).drop(columns=['Mean Expr. of Treat', 'Mean Expr. of Control', 'Rank', 'P_value', 'up_down'])\n",
    "knocktf['threshold'] = knocktf['threshold'].astype(int)"
   ]
  },
  {
   "cell_type": "code",
   "execution_count": null,
   "metadata": {},
   "outputs": [],
   "source": [
    "knocktf['Gene'] = knocktf['Gene'].apply(str.upper)\n",
    "knocktf = knocktf.sort_values(['Sample_ID', 'Log2FC'], ascending=[True,False])\n",
    "knocktf['TF'] = knocktf['TF']+'_'+knocktf['Sample_ID'].apply(str.split, sep='_').str[1:].apply('_'.join)\n",
    "knocktf"
   ]
  },
  {
   "cell_type": "code",
   "execution_count": null,
   "metadata": {},
   "outputs": [],
   "source": [
    "print(knocktf.TF.unique().__len__(), 'transcription factors perturbations,',knocktf.Gene.unique().__len__(),'genes')"
   ]
  },
  {
   "cell_type": "code",
   "execution_count": null,
   "metadata": {},
   "outputs": [],
   "source": [
    "dropgenes = []\n",
    "for gene in knocktf.Gene.unique():\n",
    "    if gene not in prodgenes['symbol'].to_list() and gene not in geneinfo['Symbol'].to_list():\n",
    "        dropgenes.append(gene)\n",
    "knocktf = knocktf.set_index('Gene').drop(dropgenes, axis=0).reset_index()"
   ]
  },
  {
   "cell_type": "code",
   "execution_count": null,
   "metadata": {},
   "outputs": [],
   "source": [
    "knocktf = knocktf.sort_values(['TF','Log2FC'],ascending=[True,False])\n",
    "knocktf = knocktf.get(['TF','Gene','FC','Log2FC','threshold']).set_index('TF')\n",
    "edgelist = pd.DataFrame(columns = knocktf.columns)\n",
    "for tf in knocktf.index.unique():\n",
    "    edgelist = pd.concat([edgelist,knocktf.loc[tf][:100]])\n",
    "    edgelist = pd.concat([edgelist,knocktf.loc[tf][-100:]])\n",
    "knocktf = knocktf.reset_index()\n",
    "edgelist = edgelist.drop(['Gene','FC','Log2FC','threshold']).reset_index().get(['index','Gene','FC','Log2FC','threshold'])\n",
    "edgelist.columns = knocktf.columns\n",
    "edgelist"
   ]
  },
  {
   "cell_type": "code",
   "execution_count": null,
   "metadata": {},
   "outputs": [],
   "source": [
    "print(edgelist.TF.unique().__len__(), 'transcription factor perturbations,',edgelist.Gene.unique().__len__(),'genes')"
   ]
  },
  {
   "cell_type": "markdown",
   "metadata": {},
   "source": [
    "## Harmonizome Additions"
   ]
  },
  {
   "cell_type": "markdown",
   "metadata": {},
   "source": [
    "### Resource"
   ]
  },
  {
   "cell_type": "code",
   "execution_count": null,
   "metadata": {},
   "outputs": [],
   "source": [
    "('knockTF',\n",
    "np.NaN,\n",
    "'KnockTF collects upstream pathway information of TFs and functional annotation results of downstream target genes. It provides details about TFs binding to promoters, super-enhancers and typical enhancers of target genes. KnockTF constructs a TF-differentially expressed gene network and performs network analyses for genes of interest. KnockTF will help elucidate TF-related functions and potential biological effects.',\n",
    "'a comprehensive human gene expression profile database with knockdown/knockout of transcription factors',\n",
    "'http://www.licpathway.net/KnockTF/index.html', \n",
    "'566',\n",
    "'1',\n",
    "np.NaN)"
   ]
  },
  {
   "cell_type": "markdown",
   "metadata": {},
   "source": [
    "### Dataset"
   ]
  },
  {
   "cell_type": "code",
   "execution_count": null,
   "metadata": {},
   "outputs": [],
   "source": [
    "(131,\n",
    "'KnockTF Gene Expression Profiles with Transcription Factor Perturbations',\n",
    "'Gene Expression Profiles with Transcription Factor Perturtbations',\n",
    "'Gene expression profiles for cell lines or tissues following transcription factor perturbation (knockdown/knockout)',\n",
    "'gene-transcription factor associations by differential expression of gene following perturbation of trasncription factor',\n",
    "'genesdifferentially expressed following the {0} trascription factor perturbation from the KnockTF Gene Expression Profiles with Transcription Factor Perturbations dataset.',\n",
    "'sets of genes differentially expressed following trascription factor perturbation from the KnockTF Gene Expression Profiles with Transcription Factor Perturbations dataset.',\n",
    "'transcription factor perturbations changing expression of {0} gene from the KnockTF Gene Expression Profiles with Transcription Factor Perturbations dataset.',\n",
    "'increased expression',\n",
    "'decreased expression',\n",
    "1,\n",
    "1,\n",
    "datetime.datetime.today().strftime('%Y-%m-%d'),\n",
    "'knocktf',\n",
    "0,\n",
    "44,\n",
    "15,\n",
    "7,\n",
    "37,\n",
    "5,\n",
    "'gene expression by microarray or RNA-seq'\n",
    "'curated experimental data',\n",
    "'high throughput, data driven',\n",
    "'transcription factor perturbations')"
   ]
  },
  {
   "cell_type": "markdown",
   "metadata": {},
   "source": [
    "### Publication"
   ]
  },
  {
   "cell_type": "code",
   "execution_count": null,
   "metadata": {},
   "outputs": [],
   "source": [
    "(131,\n",
    "'Feng, C et al. (2019) KnockTF: a comprehensive human gene expression profile database with knockdown/knockout of transcription factors. Nucleic Acids Res. 48:D93-100.'\n",
    "'Feng, Nucleic Acis Res, 2019',\n",
    "'dx.doi.org/10.1093/nar/gkz881',\n",
    "31598675,\n",
    "'https://pubmed.ncbi.nlm.nih.gov/31598675',\n",
    "'Feng',\n",
    "'C',\n",
    "'Nucleic Acids Res',\n",
    "'2019',\n",
    "'KnockTF: a comprehensive human gene expression profile database with knockdown/knockout of transcription factors',\n",
    "48,\n",
    "'D93-100')"
   ]
  },
  {
   "cell_type": "markdown",
   "metadata": {},
   "source": [
    "### Genes To Add"
   ]
  },
  {
   "cell_type": "code",
   "execution_count": null,
   "metadata": {},
   "outputs": [],
   "source": [
    "genedict = geneinfo.set_index('Symbol')['GeneID'].to_dict()\n",
    "genedict.update(prodgenes.set_index('symbol')['ncbi_entrez_gene_id'].to_dict())\n",
    "genefk = prodgenes.set_index('symbol')['id'].to_dict()"
   ]
  },
  {
   "cell_type": "code",
   "execution_count": null,
   "metadata": {},
   "outputs": [],
   "source": [
    "i = 57025\n",
    "for gene in edgelist['Gene'].unique():\n",
    "    if gene not in prodgenes['symbol'].to_list():\n",
    "        gene = geneinfo.set_index('Symbol').loc[gene]\n",
    "        print((i, \n",
    "            gene.name, \n",
    "            gene['GeneID'], \n",
    "            gene['description'], \n",
    "            'http://www.ncbi.nlm.nih.gove/gene/'+str(gene['GeneID'])), end=',\\n')\n",
    "        genefk[gene.name] = i\n",
    "        i += 1"
   ]
  },
  {
   "cell_type": "code",
   "execution_count": null,
   "metadata": {},
   "outputs": [],
   "source": [
    "genes = edgelist.copy().get('Gene').drop_duplicates().reset_index(drop=True).to_frame()\n",
    "genes['Gene ID'] = genes['Gene'].apply(lambda x: genedict[x])\n",
    "genes['Gene FK'] = genes['Gene'].apply(lambda x: genefk[x])\n",
    "genes"
   ]
  },
  {
   "cell_type": "markdown",
   "metadata": {},
   "source": [
    "### Naming Authority"
   ]
  },
  {
   "cell_type": "code",
   "execution_count": null,
   "metadata": {},
   "outputs": [],
   "source": [
    "(101, 'KnockTF', 'knockTF', 'KnockTF: a comprehensive human gene expression profile database with knockdown/knockout of transcription factors', 'http://www.licpathway.net/KnockTF/index.html', 131)"
   ]
  },
  {
   "cell_type": "markdown",
   "metadata": {},
   "source": [
    "### Attributes To Add\n",
    "Metadata was sourced from the knockTF [search page](http://www.licpathway.net/KnockTF/search/search_tf_result.php?tf_name=&tf_class=All&tf_superclass=All)."
   ]
  },
  {
   "cell_type": "code",
   "execution_count": null,
   "metadata": {},
   "outputs": [],
   "source": [
    "meta = pd.read_csv('newdata/knockTF/knockTFmetadata.csv')\n",
    "meta['Dataset ID'] = meta['Dataset ID'].apply(str.split, sep='_').str[1:].apply('_'.join)\n",
    "meta = meta.set_index('Dataset ID')\n",
    "meta"
   ]
  },
  {
   "cell_type": "code",
   "execution_count": null,
   "metadata": {},
   "outputs": [],
   "source": [
    "def len3(sampleid):\n",
    "    sample = sampleid.split('_')\n",
    "    if len(sample[2])==2:\n",
    "        return sample[1]+'_0'+sample[2]\n",
    "    return sample[1]+'_'+sample[2]"
   ]
  },
  {
   "cell_type": "code",
   "execution_count": null,
   "metadata": {},
   "outputs": [],
   "source": [
    "attributes = edgelist.copy().get('TF').drop_duplicates().to_frame().reset_index(drop=True).reset_index().reset_index()\n",
    "attributes.columns = ['attribute_fk', 'gene_set_fk', 'tfpert']\n",
    "attributes['sample'] = attributes['tfpert'].apply(len3)\n",
    "attributes['desc'] = attributes['sample'].apply(lambda x: meta.loc[x, 'TF']+' '+meta.loc[x,'Knock-Method']+' knock from '+meta.loc[x,'Tissue Type'].lower()+' '+meta.loc[x,'Biosample Type'].lower())\n",
    "attributes['attribute_fk'] += 296446\n",
    "attributes['gene_set_fk'] += 133100000\n",
    "\n",
    "attributes"
   ]
  },
  {
   "cell_type": "code",
   "execution_count": null,
   "metadata": {},
   "outputs": [],
   "source": [
    "for tfpert in attributes.index:\n",
    "    tfpert = attributes.loc[tfpert]\n",
    "    id = 'DataSet_'+'_'.join(tfpert['tfpert'].split('_')[1:])\n",
    "    #print((tfpert['attribute_fk'], tfpert['tfpert'], id, tfpert['desc'], 'http://www.licpathway.net/KnockTF/search/search_sample_result.php?sample_id='+id, 101), end=',\\n')"
   ]
  },
  {
   "cell_type": "markdown",
   "metadata": {},
   "source": [
    "### Gene Sets To Add"
   ]
  },
  {
   "cell_type": "code",
   "execution_count": null,
   "metadata": {},
   "outputs": [],
   "source": [
    "for tfpert in attributes.index:\n",
    "    tfpert = attributes.loc[tfpert]\n",
    "    id = 'DataSet_'+'_'.join(tfpert['tfpert'].split('_')[1:])\n",
    "    #print((tfpert['gene_set_fk'], tfpert['tfpert'], id, tfpert['desc'], 'http://www.licpathway.net/KnockTF/search/search_sample_result.php?sample_id='+id, 131, 37, tfpert['attribute_fk']), end=',\\n')"
   ]
  },
  {
   "cell_type": "markdown",
   "metadata": {},
   "source": [
    "### Associations To Add"
   ]
  },
  {
   "cell_type": "code",
   "execution_count": null,
   "metadata": {},
   "outputs": [],
   "source": [
    "genefk = genes.set_index('Gene')['Gene FK'].to_dict()\n",
    "genesetfk = attributes.set_index('tfpert')['gene_set_fk'].to_dict()\n",
    "associations = edgelist.copy()\n",
    "associations['gene_fk'] = associations['Gene'].apply(lambda x: genefk[x])\n",
    "associations['gene_set_fk'] = associations['TF'].apply(lambda x: genesetfk[x])\n",
    "associations.index += 11000000\n",
    "associations = associations.rename_axis('id', axis=0).reset_index()\n",
    "associations = associations.get(['id','gene_fk','gene_set_fk','FC','Log2FC','threshold'])\n",
    "associations.to_csv('harmonizome-update/knocktf.csv')\n",
    "associations"
   ]
  },
  {
   "cell_type": "markdown",
   "metadata": {},
   "source": [
    "## Download Files"
   ]
  },
  {
   "cell_type": "code",
   "execution_count": null,
   "metadata": {},
   "outputs": [],
   "source": [
    "output_path = 'newdata/knockTF/downloads/'"
   ]
  },
  {
   "cell_type": "markdown",
   "metadata": {},
   "source": [
    "### Gene-Attribute Ternary Matrix"
   ]
  },
  {
   "cell_type": "code",
   "execution_count": null,
   "metadata": {},
   "outputs": [],
   "source": [
    "ternary_matrix = pd.crosstab(index=edgelist['Gene'],\n",
    "                columns=edgelist['TF'],\n",
    "                values=edgelist['threshold'].values,\n",
    "                aggfunc=np.max).fillna(0).astype(int)\n",
    "\n",
    "ternary_matrix_T = ternary_matrix.T\n",
    "\n",
    "ternary_matrix.to_csv(output_path+'gene_attribute_matrix.txt.gz', sep='\\t', compression='gzip')\n",
    "ternary_matrix"
   ]
  },
  {
   "cell_type": "markdown",
   "metadata": {},
   "source": [
    "### Gene-Attribute Edge List"
   ]
  },
  {
   "cell_type": "code",
   "execution_count": null,
   "metadata": {},
   "outputs": [],
   "source": [
    "edgelist.to_csv(output_path+'gene_attribute_edges.txt.gz', sep='\\t', compression='gzip')\n",
    "edgelist"
   ]
  },
  {
   "cell_type": "markdown",
   "metadata": {},
   "source": [
    "### Gene List"
   ]
  },
  {
   "cell_type": "code",
   "execution_count": null,
   "metadata": {},
   "outputs": [],
   "source": [
    "genes.to_csv(output_path+'gene_list_terms.txt.gz', sep='\\t', compression='gzip')\n",
    "genes"
   ]
  },
  {
   "cell_type": "markdown",
   "metadata": {},
   "source": [
    "### Attribute List"
   ]
  },
  {
   "cell_type": "code",
   "execution_count": null,
   "metadata": {},
   "outputs": [],
   "source": [
    "attributes.to_csv(output_path+'attribute_list_entries.txt.gz', sep='\\t', compression='gzip')\n",
    "attributes"
   ]
  },
  {
   "cell_type": "markdown",
   "metadata": {},
   "source": [
    "### Gene-Gene Similarity Matrix"
   ]
  },
  {
   "cell_type": "code",
   "execution_count": null,
   "metadata": {},
   "outputs": [],
   "source": [
    "similarity_matrix = dist.pdist(ternary_matrix.to_numpy(dtype=np.int_), 'cosine')\n",
    "similarity_matrix = dist.squareform(similarity_matrix)\n",
    "similarity_matrix = 1 - similarity_matrix\n",
    "\n",
    "gene_similarity_matrix = pd.DataFrame(similarity_matrix, index=ternary_matrix.index, columns=ternary_matrix.index)\n",
    "gene_similarity_matrix.index.name = None\n",
    "gene_similarity_matrix.columns.name = None\n",
    "\n",
    "gene_similarity_matrix.to_csv(output_path+'gene_similarity_matrix_cosine.txt.gz', sep='\\t', compression='gzip')\n",
    "gene_similarity_matrix"
   ]
  },
  {
   "cell_type": "markdown",
   "metadata": {},
   "source": [
    "### Attribute-Attribute Similarity Matrix"
   ]
  },
  {
   "cell_type": "code",
   "execution_count": null,
   "metadata": {},
   "outputs": [],
   "source": [
    "similarity_matrix = dist.pdist(ternary_matrix_T.to_numpy(dtype=np.int_), 'cosine')\n",
    "similarity_matrix = dist.squareform(similarity_matrix)\n",
    "similarity_matrix = 1 - similarity_matrix\n",
    "\n",
    "attribute_similarity_matrix = pd.DataFrame(similarity_matrix, index=ternary_matrix_T.index, columns=ternary_matrix_T.index)\n",
    "attribute_similarity_matrix.index.name = None\n",
    "attribute_similarity_matrix.columns.name = None\n",
    "\n",
    "attribute_similarity_matrix.to_csv(output_path+'attribute_similarity_matrix_cosine.txt.gz', sep='\\t', compression='gzip')\n",
    "attribute_similarity_matrix"
   ]
  },
  {
   "cell_type": "markdown",
   "metadata": {},
   "source": [
    "### Up Gene Set Library"
   ]
  },
  {
   "cell_type": "code",
   "execution_count": null,
   "metadata": {},
   "outputs": [],
   "source": [
    "arr = ternary_matrix.reset_index(drop=True).to_numpy(dtype=np.int_)\n",
    "\n",
    "with open(output_path+'gene_set_library_up_crisp.gmt', 'w') as f:\n",
    "    for i in range(arr.shape[1]):\n",
    "        print(ternary_matrix.columns[i],*ternary_matrix.index[arr[:,i]==1],\n",
    "            sep='\\t', end='\\n', file=f)"
   ]
  },
  {
   "cell_type": "markdown",
   "metadata": {},
   "source": [
    "### Down Gene Set Library"
   ]
  },
  {
   "cell_type": "code",
   "execution_count": null,
   "metadata": {},
   "outputs": [],
   "source": [
    "arr = ternary_matrix.reset_index(drop=True).to_numpy(dtype=np.int_)\n",
    "\n",
    "with open(output_path+'gene_set_library_dn_crisp.gmt', 'w') as f:\n",
    "    for i in range(arr.shape[1]):\n",
    "        print(ternary_matrix.columns[i],*ternary_matrix.index[arr[:,i]==-1],\n",
    "            sep='\\t', end='\\n', file=f)"
   ]
  },
  {
   "cell_type": "markdown",
   "metadata": {},
   "source": [
    "### Up Attribute Set Library"
   ]
  },
  {
   "cell_type": "code",
   "execution_count": null,
   "metadata": {},
   "outputs": [],
   "source": [
    "arr = ternary_matrix_T.reset_index(drop=True).to_numpy(dtype=np.int_)\n",
    "\n",
    "with open(output_path+'attribute_set_library_up_crisp.gmt', 'w') as f:\n",
    "    for i in range(arr.shape[1]):\n",
    "        print(ternary_matrix_T.columns[i],*ternary_matrix_T.index[arr[:,i]==1],\n",
    "            sep='\\t', end='\\n', file=f)"
   ]
  },
  {
   "cell_type": "markdown",
   "metadata": {},
   "source": [
    "### Down Attribute Set Library"
   ]
  },
  {
   "cell_type": "code",
   "execution_count": null,
   "metadata": {},
   "outputs": [],
   "source": [
    "arr = ternary_matrix_T.reset_index(drop=True).to_numpy(dtype=np.int_)\n",
    "\n",
    "with open(output_path+'attribute_set_library_dn_crisp.gmt', 'w') as f:\n",
    "    for i in range(arr.shape[1]):\n",
    "        print(ternary_matrix_T.columns[i],*ternary_matrix_T.index[arr[:,i]==-1],\n",
    "            sep='\\t', end='\\n', file=f)"
   ]
  },
  {
   "cell_type": "markdown",
   "metadata": {},
   "source": [
    "### Gene-Attribute Cleaned Matrix"
   ]
  },
  {
   "cell_type": "code",
   "execution_count": null,
   "metadata": {},
   "outputs": [],
   "source": [
    "cleaned_matrix = pd.crosstab(index=edgelist['Gene'],\n",
    "                columns=edgelist['TF'],\n",
    "                values=edgelist['FC'].values,\n",
    "                aggfunc=np.max).fillna(0)\n",
    "\n",
    "cleaned_matrix = cleaned_matrix.rename_axis('Gene Symbol', axis='index').rename_axis('TF',  axis='columns')\n",
    "\n",
    "cleaned_matrix.to_csv(output_path+'gene_attribute_matrix_cleaned.txt.gz', sep='\\t', compression='gzip')\n",
    "cleaned_matrix"
   ]
  },
  {
   "cell_type": "markdown",
   "metadata": {},
   "source": [
    "### Gene-Attribute Standardized Matrix"
   ]
  },
  {
   "cell_type": "code",
   "execution_count": null,
   "metadata": {},
   "outputs": [],
   "source": [
    "standardized_matrix = pd.crosstab(index=edgelist['Gene'],\n",
    "                columns=edgelist['TF'],\n",
    "                values=edgelist['Log2FC'].values,\n",
    "                aggfunc=np.max).fillna(0)\n",
    "\n",
    "standardized_matrix = standardized_matrix.rename_axis('Gene Symbol', axis='index').rename_axis('TF',  axis='columns')\n",
    "\n",
    "standardized_matrix.to_csv(output_path+'gene_attribute_matrix_standardized.txt.gz', sep='\\t', compression='gzip')\n",
    "standardized_matrix"
   ]
  },
  {
   "cell_type": "markdown",
   "metadata": {},
   "source": [
    "### Knowledge Graph Serialization"
   ]
  },
  {
   "cell_type": "code",
   "execution_count": null,
   "metadata": {},
   "outputs": [],
   "source": [
    "nodes = {}\n",
    "edges = []\n",
    "genes = genes.set_index('Gene')\n",
    "attributes = attributes.set_index('tfpert')\n",
    "\n",
    "for gene in genes.index.to_list():\n",
    "    id = int(genes.loc[gene, 'Gene ID'])\n",
    "    label = gene\n",
    "    nodes[id] = {\n",
    "        \"type\": \"gene\",\n",
    "        \"properties\": {\n",
    "            \"id\": id,\n",
    "            \"label\": label\n",
    "        }\n",
    "    }\n",
    "\n",
    "for attribute in attributes.index.to_list():\n",
    "    id = 'DataSet_'+attributes.loc[attribute, 'sample']\n",
    "    label = attribute\n",
    "    nodes[id] = {\n",
    "        \"type\": \"transcription factor perturbation\",\n",
    "        \"properties\": {\n",
    "            \"id\": id,\n",
    "            \"label\": label\n",
    "        }\n",
    "    }\n",
    "\n",
    "for edge in edgelist.index:\n",
    "    edge = edgelist.loc[edge]\n",
    "    source = edge['TF']\n",
    "    sourceid = 'DataSet_'+attributes.loc[source, 'sample']\n",
    "    target = edge['Gene']\n",
    "    targetid = int(genes.loc[target, 'Gene ID'])\n",
    "    edges.append({\n",
    "        \"source\": sourceid,\n",
    "        \"relation\": \"regulates\",\n",
    "        \"target\": targetid,\n",
    "        \"properties\": {\n",
    "            \"id\": sourceid+\":\"+str(targetid),\n",
    "            \"source_label\": source,\n",
    "            \"target_label\": target,\n",
    "            \"directed\":True,\n",
    "            \"fc\":edge['FC'],\n",
    "            \"log2fc\":edge['Log2FC'],\n",
    "            \"threshold\":int(edge['threshold'])\n",
    "        }\n",
    "    })\n"
   ]
  },
  {
   "cell_type": "markdown",
   "metadata": {},
   "source": [
    "RDF"
   ]
  },
  {
   "cell_type": "code",
   "execution_count": null,
   "metadata": {},
   "outputs": [],
   "source": [
    "with open(output_path+'serializations/knocktf.rdf', 'w') as f:\n",
    "    print('@prefix tfpert: http://www.licpathway.net/KnockTF/search/search_sample_result.php?sample_id=', file=f)\n",
    "    print('@prefix RO: http://purl.obolibrary.org/obo/RO_', file=f)\n",
    "    print('@prefix gene: http://ncbi.nlm.nih.gov/gene/', file=f)\n",
    "    print('', file=f)\n",
    "    for edge in edges:\n",
    "        print('tfpert:'+edge['source'], 'RO:0002211', 'gene:'+str(edge['target']), end=' .\\n', file=f)"
   ]
  },
  {
   "cell_type": "markdown",
   "metadata": {},
   "source": [
    "JSON"
   ]
  },
  {
   "cell_type": "code",
   "execution_count": null,
   "metadata": {},
   "outputs": [],
   "source": [
    "with open(output_path+'serializations/knocktf.json', 'w') as f:\n",
    "    serial = json.dump(\n",
    "        {\n",
    "            \"Version\":\"1\", \n",
    "            \"nodes\": nodes,\n",
    "            \"edges\": edges\n",
    "        }, indent=4, fp=f)"
   ]
  },
  {
   "cell_type": "markdown",
   "metadata": {},
   "source": [
    "TSV"
   ]
  },
  {
   "cell_type": "code",
   "execution_count": null,
   "metadata": {},
   "outputs": [],
   "source": [
    "nodeframe = pd.DataFrame(nodes)\n",
    "nodeframe = nodeframe.T\n",
    "nodeframe['properties'] = nodeframe['properties'].apply(lambda x: x['label'])\n",
    "nodeframe = nodeframe.reset_index()\n",
    "nodeframe.columns = ['id','type','label']\n",
    "nodeframe['namespace'] = nodeframe['label'].apply(str.split,sep='_').str[-1].apply(str.split).str[0].apply(str.split,sep='[').str[1]\n",
    "nodeframe['namespace'] = nodeframe['namespace'].replace(np.nan, 'NCBI Entrez')\n",
    "nodeframe = nodeframe.get(['namespace', 'id', 'type', 'label'])\n",
    "nodeframe.to_csv(output_path+'serializations/knocktf_tsv/nodes.tsv', sep='\\t')\n",
    "nodeframe"
   ]
  },
  {
   "cell_type": "code",
   "execution_count": null,
   "metadata": {},
   "outputs": [],
   "source": [
    "edgeframe = pd.DataFrame(edges)\n",
    "edgeframe['cleaned_value'] = edgeframe['properties'].apply(lambda x: x['fc'])\n",
    "edgeframe['standardized_value'] = edgeframe['properties'].apply(lambda x: x['log2fc'])\n",
    "edgeframe['threshold_value'] = edgeframe['properties'].apply(lambda x: x['threshold'])\n",
    "edgeframe = edgeframe.drop(columns=['properties'])\n",
    "edgeframe.to_csv(output_path+'serializations/knocktf_tsv/edges.tsv', sep='\\t')\n",
    "edgeframe"
   ]
  },
  {
   "cell_type": "markdown",
   "metadata": {},
   "source": [
    "## Visualizations"
   ]
  },
  {
   "cell_type": "markdown",
   "metadata": {},
   "source": [
    "### Gene Attribute Clustered Heatmap"
   ]
  },
  {
   "cell_type": "code",
   "execution_count": null,
   "metadata": {},
   "outputs": [],
   "source": [
    "seaborn.clustermap(ternary_matrix, cmap='seismic', center=0)"
   ]
  },
  {
   "cell_type": "markdown",
   "metadata": {},
   "source": [
    "### Gene Similarity Clustered Heatmap"
   ]
  },
  {
   "cell_type": "code",
   "execution_count": null,
   "metadata": {},
   "outputs": [],
   "source": [
    "seaborn.clustermap(gene_similarity_matrix,cmap='seismic',center=0)"
   ]
  },
  {
   "cell_type": "markdown",
   "metadata": {},
   "source": [
    "### Attribute Similarity Clustered Heatmap"
   ]
  },
  {
   "cell_type": "code",
   "execution_count": null,
   "metadata": {},
   "outputs": [],
   "source": [
    "seaborn.clustermap(attribute_similarity_matrix, cmap='seismic', center=0)"
   ]
  },
  {
   "cell_type": "markdown",
   "metadata": {},
   "source": [
    "### UMAP"
   ]
  },
  {
   "cell_type": "code",
   "execution_count": null,
   "metadata": {},
   "outputs": [],
   "source": [
    "output_notebook()"
   ]
  },
  {
   "cell_type": "code",
   "execution_count": null,
   "metadata": {},
   "outputs": [],
   "source": [
    "upgenesets = edgelist[edgelist['threshold']==1].groupby('TF')['Gene'].agg(' '.join).to_frame()\n",
    "upgenesets.index += '_up'\n",
    "dngenesets = edgelist[edgelist['threshold']==-1].groupby('TF')['Gene'].agg(' '.join).to_frame()\n",
    "dngenesets.index += '_dn'\n",
    "genesets = pd.concat([upgenesets,dngenesets])['Gene'].to_dict()"
   ]
  },
  {
   "cell_type": "code",
   "execution_count": null,
   "metadata": {},
   "outputs": [],
   "source": [
    "vec = TfidfVectorizer(max_df=0.5, min_df=10)\n",
    "X = vec.fit_transform(genesets.values())\n",
    "adata = anndata.AnnData(X, dtype='float32')\n",
    "adata.obs.index = genesets.keys()\n",
    "\n",
    "sc.pp.neighbors(adata, n_neighbors=190, use_rep='X')\n",
    "sc.tl.leiden(adata)\n",
    "sc.tl.umap(adata, min_dist=0.00025, spread=0.4)\n",
    "\n",
    "new_order = adata.obs.sort_values(by='leiden').index.tolist()\n",
    "adata = adata[new_order,:]\n",
    "adata.obs['leiden'] = 'Cluster ' + adata.obs['leiden'].astype('object')\n",
    "\n",
    "mapped_df = pd.DataFrame(adata.obsm['X_umap'])\n",
    "mapped_df.columns = ['x', 'y']\n",
    "\n",
    "mapped_df['cluster'] = adata.obs['leiden'].values\n",
    "mapped_df['term'] = adata.obs.index\n",
    "\n",
    "clusters = pd.unique(mapped_df['cluster']).tolist()\n",
    "colors = list(Category20[20])[::2] + list(Category20[20])[1::2]\n",
    "color_mapper = {clusters[i]:colors[i%20] for i in range(len(clusters))}\n",
    "\n",
    "mapped_df['color'] = mapped_df['cluster'].apply(lambda x: color_mapper[x])\n",
    "\n",
    "xlabel = 'UMAP 1'\n",
    "ylabel = 'UMAP 2'\n",
    "\n",
    "source2 = ColumnDataSource(\n",
    "        data=dict(\n",
    "            x = mapped_df.x,\n",
    "            y = mapped_df.y,\n",
    "            alpha = [0.7] * mapped_df.shape[0],\n",
    "            colors = mapped_df['color'], \n",
    "            size = [6] * mapped_df.shape[0],\n",
    "            gene_set = mapped_df['term'],\n",
    "            cluster = mapped_df['cluster']\n",
    "        )\n",
    "    )\n",
    "\n",
    "hover_emb = HoverTool(names=[\"df\"], tooltips=\"\"\"\n",
    "    <div style=\"margin: 10\">\n",
    "        <div style=\"margin: 0 auto; width:300px;\">\n",
    "            <span style=\"font-size: 12px; font-weight: bold;\">Gene Set:</span>\n",
    "            <span style=\"font-size: 12px\">@gene_set</span>\n",
    "        <div style=\"margin: 0 auto; width:300px;\">\n",
    "            <span style=\"font-size: 12px; font-weight: bold;\">Coordinates:</span>\n",
    "            <span style=\"font-size: 12px\">(@x,@y)</span>\n",
    "        <div style=\"margin: 0 auto; width:300px;\">\n",
    "            <span style=\"font-size: 12px; font-weight: bold;\">Cluster:</span>\n",
    "            <span style=\"font-size: 12px\">@cluster</span>\n",
    "        </div>\n",
    "    </div>\n",
    "    \"\"\")\n",
    "\n",
    "tools_emb = [hover_emb, 'pan', 'wheel_zoom', 'reset', 'save']\n",
    "title_emb = 'Gene Sets in knockTF Library'\n",
    "plot_emb = figure(plot_width=1000, plot_height=700, tools=tools_emb, title=title_emb, x_axis_label=xlabel, y_axis_label=ylabel)\n",
    "plot_emb.circle( 'x', 'y', source = source2, size='size',\n",
    "                alpha='alpha', line_alpha=0, line_width=0.01, name=\"df\", \n",
    "                fill_color = 'colors', \n",
    "                line_color=\"black\", hover_fill_color=\"firebrick\")\n",
    "plot_emb.xaxis.axis_label_text_font_style = 'normal'\n",
    "plot_emb.xaxis.axis_label_text_font_size = '18px'\n",
    "plot_emb.yaxis.axis_label_text_font_size = '18px'\n",
    "plot_emb.yaxis.axis_label_text_font_style = 'normal'\n",
    "plot_emb.title.align = 'center'\n",
    "plot_emb.title.text_font_size = '18px'\n",
    "\n",
    "show(plot_emb)"
   ]
  }
 ],
 "metadata": {
  "kernelspec": {
   "display_name": "Python 3.10.4 ('appyter')",
   "language": "python",
   "name": "python3"
  },
  "language_info": {
   "codemirror_mode": {
    "name": "ipython",
    "version": 3
   },
   "file_extension": ".py",
   "mimetype": "text/x-python",
   "name": "python",
   "nbconvert_exporter": "python",
   "pygments_lexer": "ipython3",
   "version": "3.10.4"
  },
  "orig_nbformat": 4,
  "vscode": {
   "interpreter": {
    "hash": "36b64e778f8b0c3f01583b2eed08020222bb534e013a238936f90fb19a999c87"
   }
  }
 },
 "nbformat": 4,
 "nbformat_minor": 2
}
