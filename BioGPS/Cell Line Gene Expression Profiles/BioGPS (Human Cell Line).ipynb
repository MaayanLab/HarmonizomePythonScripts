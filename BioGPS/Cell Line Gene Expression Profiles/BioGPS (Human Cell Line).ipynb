{
 "cells": [
  {
   "cell_type": "markdown",
   "metadata": {},
   "source": [
    "# BioGPS (Human Cell Line)"
   ]
  },
  {
   "cell_type": "markdown",
   "metadata": {},
   "source": [
    "Author: Moshe Silverstein <br/>\n",
    "Date: 8-17 <br/>\n",
    "Data Source: http://biogps.org/#goto=welcome"
   ]
  },
  {
   "cell_type": "code",
   "execution_count": 1,
   "metadata": {
    "collapsed": true
   },
   "outputs": [],
   "source": [
    "import sys, datetime, os\n",
    "import numpy as np\n",
    "import pandas as pd\n",
    "import importlib\n",
    "import untility_functions as uf\n",
    "%matplotlib inline"
   ]
  },
  {
   "cell_type": "code",
   "execution_count": 2,
   "metadata": {},
   "outputs": [
    {
     "data": {
      "text/plain": [
       "<module 'untility_functions' from '/Users/moshesilverstein/Documents/Harmonizome/BioGPS/untility_functions.py'>"
      ]
     },
     "execution_count": 2,
     "metadata": {},
     "output_type": "execute_result"
    }
   ],
   "source": [
    "importlib.reload(uf)"
   ]
  },
  {
   "cell_type": "markdown",
   "metadata": {},
   "source": [
    "# Load Data"
   ]
  },
  {
   "cell_type": "code",
   "execution_count": 3,
   "metadata": {
    "collapsed": true
   },
   "outputs": [],
   "source": [
    "matrix = pd.read_csv('/Users/moshesilverstein/Documents/Harmonizome/BioGPS/Human NCI60 Cell Lines/NCI60_U133A_20070815.raw.csv', sep=',')"
   ]
  },
  {
   "cell_type": "code",
   "execution_count": 4,
   "metadata": {},
   "outputs": [
    {
     "data": {
      "text/html": [
       "<div>\n",
       "<table border=\"1\" class=\"dataframe\">\n",
       "  <thead>\n",
       "    <tr style=\"text-align: right;\">\n",
       "      <th></th>\n",
       "      <th>Unnamed: 0</th>\n",
       "      <th>huh-7</th>\n",
       "      <th>huh-7.1</th>\n",
       "      <th>HEK293</th>\n",
       "      <th>HEK293.1</th>\n",
       "      <th>HL60</th>\n",
       "      <th>HL60.1</th>\n",
       "      <th>HEK 293T</th>\n",
       "      <th>HEK 293T.1</th>\n",
       "      <th>DU145</th>\n",
       "      <th>...</th>\n",
       "      <th>NCI H226.1</th>\n",
       "      <th>U87</th>\n",
       "      <th>U87.1</th>\n",
       "      <th>U118</th>\n",
       "      <th>U118.1</th>\n",
       "      <th>U138</th>\n",
       "      <th>U138.1</th>\n",
       "      <th>HEK 293 T-rex</th>\n",
       "      <th>HEK 293 T-rex    .1</th>\n",
       "      <th>HT29</th>\n",
       "    </tr>\n",
       "  </thead>\n",
       "  <tbody>\n",
       "    <tr>\n",
       "      <th>0</th>\n",
       "      <td>1007_s_at</td>\n",
       "      <td>31.727</td>\n",
       "      <td>55.551</td>\n",
       "      <td>360.731</td>\n",
       "      <td>334.639</td>\n",
       "      <td>33.483</td>\n",
       "      <td>49.691</td>\n",
       "      <td>50.638</td>\n",
       "      <td>55.918</td>\n",
       "      <td>346.270</td>\n",
       "      <td>...</td>\n",
       "      <td>184.953</td>\n",
       "      <td>211.477</td>\n",
       "      <td>210.273</td>\n",
       "      <td>242.274</td>\n",
       "      <td>302.585</td>\n",
       "      <td>320.841</td>\n",
       "      <td>274.376</td>\n",
       "      <td>164.180</td>\n",
       "      <td>162.016</td>\n",
       "      <td>258.504</td>\n",
       "    </tr>\n",
       "    <tr>\n",
       "      <th>1</th>\n",
       "      <td>1053_at</td>\n",
       "      <td>402.633</td>\n",
       "      <td>441.622</td>\n",
       "      <td>557.782</td>\n",
       "      <td>869.346</td>\n",
       "      <td>336.006</td>\n",
       "      <td>114.442</td>\n",
       "      <td>662.357</td>\n",
       "      <td>435.929</td>\n",
       "      <td>593.534</td>\n",
       "      <td>...</td>\n",
       "      <td>554.368</td>\n",
       "      <td>280.474</td>\n",
       "      <td>303.285</td>\n",
       "      <td>298.215</td>\n",
       "      <td>373.033</td>\n",
       "      <td>474.686</td>\n",
       "      <td>447.062</td>\n",
       "      <td>744.322</td>\n",
       "      <td>679.515</td>\n",
       "      <td>624.654</td>\n",
       "    </tr>\n",
       "    <tr>\n",
       "      <th>2</th>\n",
       "      <td>117_at</td>\n",
       "      <td>9.968</td>\n",
       "      <td>10.178</td>\n",
       "      <td>9.565</td>\n",
       "      <td>8.118</td>\n",
       "      <td>13.902</td>\n",
       "      <td>17.116</td>\n",
       "      <td>10.039</td>\n",
       "      <td>8.978</td>\n",
       "      <td>7.896</td>\n",
       "      <td>...</td>\n",
       "      <td>10.875</td>\n",
       "      <td>8.442</td>\n",
       "      <td>8.697</td>\n",
       "      <td>8.862</td>\n",
       "      <td>8.054</td>\n",
       "      <td>7.470</td>\n",
       "      <td>8.098</td>\n",
       "      <td>18.473</td>\n",
       "      <td>11.431</td>\n",
       "      <td>9.929</td>\n",
       "    </tr>\n",
       "    <tr>\n",
       "      <th>3</th>\n",
       "      <td>121_at</td>\n",
       "      <td>117.051</td>\n",
       "      <td>115.552</td>\n",
       "      <td>117.618</td>\n",
       "      <td>111.873</td>\n",
       "      <td>118.448</td>\n",
       "      <td>124.955</td>\n",
       "      <td>112.094</td>\n",
       "      <td>109.924</td>\n",
       "      <td>107.586</td>\n",
       "      <td>...</td>\n",
       "      <td>111.738</td>\n",
       "      <td>111.995</td>\n",
       "      <td>110.149</td>\n",
       "      <td>114.154</td>\n",
       "      <td>110.820</td>\n",
       "      <td>213.564</td>\n",
       "      <td>229.690</td>\n",
       "      <td>124.694</td>\n",
       "      <td>118.340</td>\n",
       "      <td>116.772</td>\n",
       "    </tr>\n",
       "    <tr>\n",
       "      <th>4</th>\n",
       "      <td>1255_g_at</td>\n",
       "      <td>4.341</td>\n",
       "      <td>4.278</td>\n",
       "      <td>4.320</td>\n",
       "      <td>4.062</td>\n",
       "      <td>4.525</td>\n",
       "      <td>4.380</td>\n",
       "      <td>4.262</td>\n",
       "      <td>4.124</td>\n",
       "      <td>4.034</td>\n",
       "      <td>...</td>\n",
       "      <td>4.170</td>\n",
       "      <td>4.115</td>\n",
       "      <td>3.959</td>\n",
       "      <td>4.116</td>\n",
       "      <td>4.031</td>\n",
       "      <td>3.851</td>\n",
       "      <td>3.911</td>\n",
       "      <td>4.254</td>\n",
       "      <td>4.501</td>\n",
       "      <td>4.498</td>\n",
       "    </tr>\n",
       "  </tbody>\n",
       "</table>\n",
       "<p>5 rows × 109 columns</p>\n",
       "</div>"
      ],
      "text/plain": [
       "  Unnamed: 0    huh-7  huh-7.1   HEK293  HEK293.1     HL60   HL60.1  HEK 293T  \\\n",
       "0  1007_s_at   31.727   55.551  360.731   334.639   33.483   49.691    50.638   \n",
       "1    1053_at  402.633  441.622  557.782   869.346  336.006  114.442   662.357   \n",
       "2     117_at    9.968   10.178    9.565     8.118   13.902   17.116    10.039   \n",
       "3     121_at  117.051  115.552  117.618   111.873  118.448  124.955   112.094   \n",
       "4  1255_g_at    4.341    4.278    4.320     4.062    4.525    4.380     4.262   \n",
       "\n",
       "   HEK 293T.1    DU145   ...     NCI H226.1      U87    U87.1     U118  \\\n",
       "0      55.918  346.270   ...        184.953  211.477  210.273  242.274   \n",
       "1     435.929  593.534   ...        554.368  280.474  303.285  298.215   \n",
       "2       8.978    7.896   ...         10.875    8.442    8.697    8.862   \n",
       "3     109.924  107.586   ...        111.738  111.995  110.149  114.154   \n",
       "4       4.124    4.034   ...          4.170    4.115    3.959    4.116   \n",
       "\n",
       "    U118.1     U138   U138.1  HEK 293 T-rex      HEK 293 T-rex    .1     HT29  \n",
       "0  302.585  320.841  274.376            164.180              162.016  258.504  \n",
       "1  373.033  474.686  447.062            744.322              679.515  624.654  \n",
       "2    8.054    7.470    8.098             18.473               11.431    9.929  \n",
       "3  110.820  213.564  229.690            124.694              118.340  116.772  \n",
       "4    4.031    3.851    3.911              4.254                4.501    4.498  \n",
       "\n",
       "[5 rows x 109 columns]"
      ]
     },
     "execution_count": 4,
     "metadata": {},
     "output_type": "execute_result"
    }
   ],
   "source": [
    "matrix.head()"
   ]
  },
  {
   "cell_type": "code",
   "execution_count": 5,
   "metadata": {},
   "outputs": [
    {
     "data": {
      "text/plain": [
       "(22283, 109)"
      ]
     },
     "execution_count": 5,
     "metadata": {},
     "output_type": "execute_result"
    }
   ],
   "source": [
    "matrix.shape"
   ]
  },
  {
   "cell_type": "markdown",
   "metadata": {},
   "source": [
    "# Load Gene Data"
   ]
  },
  {
   "cell_type": "code",
   "execution_count": 6,
   "metadata": {
    "collapsed": true
   },
   "outputs": [],
   "source": [
    "matrix['Unnamed: 0'].to_csv('probes.txt', sep='\\t', header=False, index=False)"
   ]
  },
  {
   "cell_type": "code",
   "execution_count": 7,
   "metadata": {
    "collapsed": true
   },
   "outputs": [],
   "source": [
    "%%capture\n",
    "%system r -f MapToGenesU133A.R;"
   ]
  },
  {
   "cell_type": "code",
   "execution_count": 8,
   "metadata": {
    "collapsed": true
   },
   "outputs": [],
   "source": [
    "map_to_genes_U133A = pd.read_csv('ProbesToGenesU133A.tsv', sep='\\t', header=None)"
   ]
  },
  {
   "cell_type": "code",
   "execution_count": 9,
   "metadata": {
    "collapsed": true
   },
   "outputs": [],
   "source": [
    "map_to_genes_U133A.drop_duplicates(subset=[0], keep=False, inplace=True)"
   ]
  },
  {
   "cell_type": "code",
   "execution_count": 10,
   "metadata": {
    "collapsed": true
   },
   "outputs": [],
   "source": [
    "map_to_genes_U133A.set_index(0, inplace=True)"
   ]
  },
  {
   "cell_type": "code",
   "execution_count": 11,
   "metadata": {},
   "outputs": [
    {
     "data": {
      "text/html": [
       "<div>\n",
       "<table border=\"1\" class=\"dataframe\">\n",
       "  <thead>\n",
       "    <tr style=\"text-align: right;\">\n",
       "      <th></th>\n",
       "      <th>1</th>\n",
       "      <th>2</th>\n",
       "      <th>3</th>\n",
       "    </tr>\n",
       "    <tr>\n",
       "      <th>0</th>\n",
       "      <th></th>\n",
       "      <th></th>\n",
       "      <th></th>\n",
       "    </tr>\n",
       "  </thead>\n",
       "  <tbody>\n",
       "    <tr>\n",
       "      <th>1053_at</th>\n",
       "      <td>RFC2</td>\n",
       "      <td>5982.0</td>\n",
       "      <td>replication factor C subunit 2</td>\n",
       "    </tr>\n",
       "    <tr>\n",
       "      <th>117_at</th>\n",
       "      <td>HSPA6</td>\n",
       "      <td>3310.0</td>\n",
       "      <td>heat shock protein family A (Hsp70) member 6</td>\n",
       "    </tr>\n",
       "    <tr>\n",
       "      <th>121_at</th>\n",
       "      <td>PAX8</td>\n",
       "      <td>7849.0</td>\n",
       "      <td>paired box 8</td>\n",
       "    </tr>\n",
       "    <tr>\n",
       "      <th>1255_g_at</th>\n",
       "      <td>GUCA1A</td>\n",
       "      <td>2978.0</td>\n",
       "      <td>guanylate cyclase activator 1A</td>\n",
       "    </tr>\n",
       "    <tr>\n",
       "      <th>1316_at</th>\n",
       "      <td>THRA</td>\n",
       "      <td>7067.0</td>\n",
       "      <td>thyroid hormone receptor, alpha</td>\n",
       "    </tr>\n",
       "  </tbody>\n",
       "</table>\n",
       "</div>"
      ],
      "text/plain": [
       "                1       2                                             3\n",
       "0                                                                      \n",
       "1053_at      RFC2  5982.0                replication factor C subunit 2\n",
       "117_at      HSPA6  3310.0  heat shock protein family A (Hsp70) member 6\n",
       "121_at       PAX8  7849.0                                  paired box 8\n",
       "1255_g_at  GUCA1A  2978.0                guanylate cyclase activator 1A\n",
       "1316_at      THRA  7067.0               thyroid hormone receptor, alpha"
      ]
     },
     "execution_count": 11,
     "metadata": {},
     "output_type": "execute_result"
    }
   ],
   "source": [
    "map_to_genes_U133A.head()"
   ]
  },
  {
   "cell_type": "code",
   "execution_count": 12,
   "metadata": {},
   "outputs": [
    {
     "data": {
      "text/plain": [
       "(21027, 3)"
      ]
     },
     "execution_count": 12,
     "metadata": {},
     "output_type": "execute_result"
    }
   ],
   "source": [
    "map_to_genes_U133A.shape"
   ]
  },
  {
   "cell_type": "markdown",
   "metadata": {},
   "source": [
    "# Map Gene Symbol to Probe ID"
   ]
  },
  {
   "cell_type": "code",
   "execution_count": 13,
   "metadata": {
    "collapsed": true
   },
   "outputs": [],
   "source": [
    "lst = []\n",
    "\n",
    "for index in matrix.index:\n",
    "    if matrix.ix[index, 'Unnamed: 0'] in map_to_genes_U133A.index and type(map_to_genes_U133A.ix[matrix.ix[index, 'Unnamed: 0'], 1]) != float:\n",
    "        lst.append(map_to_genes_U133A.ix[matrix.ix[index, 'Unnamed: 0'], 1])\n",
    "    else:\n",
    "        lst.append(np.nan)\n",
    "\n",
    "matrix['Unnamed: 0'] = lst    "
   ]
  },
  {
   "cell_type": "code",
   "execution_count": 14,
   "metadata": {},
   "outputs": [
    {
     "data": {
      "text/html": [
       "<div>\n",
       "<table border=\"1\" class=\"dataframe\">\n",
       "  <thead>\n",
       "    <tr style=\"text-align: right;\">\n",
       "      <th></th>\n",
       "      <th>Unnamed: 0</th>\n",
       "      <th>huh-7</th>\n",
       "      <th>huh-7.1</th>\n",
       "      <th>HEK293</th>\n",
       "      <th>HEK293.1</th>\n",
       "      <th>HL60</th>\n",
       "      <th>HL60.1</th>\n",
       "      <th>HEK 293T</th>\n",
       "      <th>HEK 293T.1</th>\n",
       "      <th>DU145</th>\n",
       "      <th>...</th>\n",
       "      <th>NCI H226.1</th>\n",
       "      <th>U87</th>\n",
       "      <th>U87.1</th>\n",
       "      <th>U118</th>\n",
       "      <th>U118.1</th>\n",
       "      <th>U138</th>\n",
       "      <th>U138.1</th>\n",
       "      <th>HEK 293 T-rex</th>\n",
       "      <th>HEK 293 T-rex    .1</th>\n",
       "      <th>HT29</th>\n",
       "    </tr>\n",
       "  </thead>\n",
       "  <tbody>\n",
       "    <tr>\n",
       "      <th>0</th>\n",
       "      <td>NaN</td>\n",
       "      <td>31.727</td>\n",
       "      <td>55.551</td>\n",
       "      <td>360.731</td>\n",
       "      <td>334.639</td>\n",
       "      <td>33.483</td>\n",
       "      <td>49.691</td>\n",
       "      <td>50.638</td>\n",
       "      <td>55.918</td>\n",
       "      <td>346.270</td>\n",
       "      <td>...</td>\n",
       "      <td>184.953</td>\n",
       "      <td>211.477</td>\n",
       "      <td>210.273</td>\n",
       "      <td>242.274</td>\n",
       "      <td>302.585</td>\n",
       "      <td>320.841</td>\n",
       "      <td>274.376</td>\n",
       "      <td>164.180</td>\n",
       "      <td>162.016</td>\n",
       "      <td>258.504</td>\n",
       "    </tr>\n",
       "    <tr>\n",
       "      <th>1</th>\n",
       "      <td>RFC2</td>\n",
       "      <td>402.633</td>\n",
       "      <td>441.622</td>\n",
       "      <td>557.782</td>\n",
       "      <td>869.346</td>\n",
       "      <td>336.006</td>\n",
       "      <td>114.442</td>\n",
       "      <td>662.357</td>\n",
       "      <td>435.929</td>\n",
       "      <td>593.534</td>\n",
       "      <td>...</td>\n",
       "      <td>554.368</td>\n",
       "      <td>280.474</td>\n",
       "      <td>303.285</td>\n",
       "      <td>298.215</td>\n",
       "      <td>373.033</td>\n",
       "      <td>474.686</td>\n",
       "      <td>447.062</td>\n",
       "      <td>744.322</td>\n",
       "      <td>679.515</td>\n",
       "      <td>624.654</td>\n",
       "    </tr>\n",
       "    <tr>\n",
       "      <th>2</th>\n",
       "      <td>HSPA6</td>\n",
       "      <td>9.968</td>\n",
       "      <td>10.178</td>\n",
       "      <td>9.565</td>\n",
       "      <td>8.118</td>\n",
       "      <td>13.902</td>\n",
       "      <td>17.116</td>\n",
       "      <td>10.039</td>\n",
       "      <td>8.978</td>\n",
       "      <td>7.896</td>\n",
       "      <td>...</td>\n",
       "      <td>10.875</td>\n",
       "      <td>8.442</td>\n",
       "      <td>8.697</td>\n",
       "      <td>8.862</td>\n",
       "      <td>8.054</td>\n",
       "      <td>7.470</td>\n",
       "      <td>8.098</td>\n",
       "      <td>18.473</td>\n",
       "      <td>11.431</td>\n",
       "      <td>9.929</td>\n",
       "    </tr>\n",
       "    <tr>\n",
       "      <th>3</th>\n",
       "      <td>PAX8</td>\n",
       "      <td>117.051</td>\n",
       "      <td>115.552</td>\n",
       "      <td>117.618</td>\n",
       "      <td>111.873</td>\n",
       "      <td>118.448</td>\n",
       "      <td>124.955</td>\n",
       "      <td>112.094</td>\n",
       "      <td>109.924</td>\n",
       "      <td>107.586</td>\n",
       "      <td>...</td>\n",
       "      <td>111.738</td>\n",
       "      <td>111.995</td>\n",
       "      <td>110.149</td>\n",
       "      <td>114.154</td>\n",
       "      <td>110.820</td>\n",
       "      <td>213.564</td>\n",
       "      <td>229.690</td>\n",
       "      <td>124.694</td>\n",
       "      <td>118.340</td>\n",
       "      <td>116.772</td>\n",
       "    </tr>\n",
       "    <tr>\n",
       "      <th>4</th>\n",
       "      <td>GUCA1A</td>\n",
       "      <td>4.341</td>\n",
       "      <td>4.278</td>\n",
       "      <td>4.320</td>\n",
       "      <td>4.062</td>\n",
       "      <td>4.525</td>\n",
       "      <td>4.380</td>\n",
       "      <td>4.262</td>\n",
       "      <td>4.124</td>\n",
       "      <td>4.034</td>\n",
       "      <td>...</td>\n",
       "      <td>4.170</td>\n",
       "      <td>4.115</td>\n",
       "      <td>3.959</td>\n",
       "      <td>4.116</td>\n",
       "      <td>4.031</td>\n",
       "      <td>3.851</td>\n",
       "      <td>3.911</td>\n",
       "      <td>4.254</td>\n",
       "      <td>4.501</td>\n",
       "      <td>4.498</td>\n",
       "    </tr>\n",
       "  </tbody>\n",
       "</table>\n",
       "<p>5 rows × 109 columns</p>\n",
       "</div>"
      ],
      "text/plain": [
       "  Unnamed: 0    huh-7  huh-7.1   HEK293  HEK293.1     HL60   HL60.1  HEK 293T  \\\n",
       "0        NaN   31.727   55.551  360.731   334.639   33.483   49.691    50.638   \n",
       "1       RFC2  402.633  441.622  557.782   869.346  336.006  114.442   662.357   \n",
       "2      HSPA6    9.968   10.178    9.565     8.118   13.902   17.116    10.039   \n",
       "3       PAX8  117.051  115.552  117.618   111.873  118.448  124.955   112.094   \n",
       "4     GUCA1A    4.341    4.278    4.320     4.062    4.525    4.380     4.262   \n",
       "\n",
       "   HEK 293T.1    DU145   ...     NCI H226.1      U87    U87.1     U118  \\\n",
       "0      55.918  346.270   ...        184.953  211.477  210.273  242.274   \n",
       "1     435.929  593.534   ...        554.368  280.474  303.285  298.215   \n",
       "2       8.978    7.896   ...         10.875    8.442    8.697    8.862   \n",
       "3     109.924  107.586   ...        111.738  111.995  110.149  114.154   \n",
       "4       4.124    4.034   ...          4.170    4.115    3.959    4.116   \n",
       "\n",
       "    U118.1     U138   U138.1  HEK 293 T-rex      HEK 293 T-rex    .1     HT29  \n",
       "0  302.585  320.841  274.376            164.180              162.016  258.504  \n",
       "1  373.033  474.686  447.062            744.322              679.515  624.654  \n",
       "2    8.054    7.470    8.098             18.473               11.431    9.929  \n",
       "3  110.820  213.564  229.690            124.694              118.340  116.772  \n",
       "4    4.031    3.851    3.911              4.254                4.501    4.498  \n",
       "\n",
       "[5 rows x 109 columns]"
      ]
     },
     "execution_count": 14,
     "metadata": {},
     "output_type": "execute_result"
    }
   ],
   "source": [
    "matrix.head()"
   ]
  },
  {
   "cell_type": "code",
   "execution_count": 15,
   "metadata": {},
   "outputs": [
    {
     "data": {
      "text/plain": [
       "(22283, 109)"
      ]
     },
     "execution_count": 15,
     "metadata": {},
     "output_type": "execute_result"
    }
   ],
   "source": [
    "matrix.shape"
   ]
  },
  {
   "cell_type": "code",
   "execution_count": 16,
   "metadata": {
    "collapsed": true
   },
   "outputs": [],
   "source": [
    "matrix.dropna(subset=['Unnamed: 0'], inplace=True)"
   ]
  },
  {
   "cell_type": "code",
   "execution_count": 17,
   "metadata": {},
   "outputs": [
    {
     "data": {
      "text/html": [
       "<div>\n",
       "<table border=\"1\" class=\"dataframe\">\n",
       "  <thead>\n",
       "    <tr style=\"text-align: right;\">\n",
       "      <th></th>\n",
       "      <th>Unnamed: 0</th>\n",
       "      <th>huh-7</th>\n",
       "      <th>huh-7.1</th>\n",
       "      <th>HEK293</th>\n",
       "      <th>HEK293.1</th>\n",
       "      <th>HL60</th>\n",
       "      <th>HL60.1</th>\n",
       "      <th>HEK 293T</th>\n",
       "      <th>HEK 293T.1</th>\n",
       "      <th>DU145</th>\n",
       "      <th>...</th>\n",
       "      <th>NCI H226.1</th>\n",
       "      <th>U87</th>\n",
       "      <th>U87.1</th>\n",
       "      <th>U118</th>\n",
       "      <th>U118.1</th>\n",
       "      <th>U138</th>\n",
       "      <th>U138.1</th>\n",
       "      <th>HEK 293 T-rex</th>\n",
       "      <th>HEK 293 T-rex    .1</th>\n",
       "      <th>HT29</th>\n",
       "    </tr>\n",
       "  </thead>\n",
       "  <tbody>\n",
       "    <tr>\n",
       "      <th>1</th>\n",
       "      <td>RFC2</td>\n",
       "      <td>402.633</td>\n",
       "      <td>441.622</td>\n",
       "      <td>557.782</td>\n",
       "      <td>869.346</td>\n",
       "      <td>336.006</td>\n",
       "      <td>114.442</td>\n",
       "      <td>662.357</td>\n",
       "      <td>435.929</td>\n",
       "      <td>593.534</td>\n",
       "      <td>...</td>\n",
       "      <td>554.368</td>\n",
       "      <td>280.474</td>\n",
       "      <td>303.285</td>\n",
       "      <td>298.215</td>\n",
       "      <td>373.033</td>\n",
       "      <td>474.686</td>\n",
       "      <td>447.062</td>\n",
       "      <td>744.322</td>\n",
       "      <td>679.515</td>\n",
       "      <td>624.654</td>\n",
       "    </tr>\n",
       "    <tr>\n",
       "      <th>2</th>\n",
       "      <td>HSPA6</td>\n",
       "      <td>9.968</td>\n",
       "      <td>10.178</td>\n",
       "      <td>9.565</td>\n",
       "      <td>8.118</td>\n",
       "      <td>13.902</td>\n",
       "      <td>17.116</td>\n",
       "      <td>10.039</td>\n",
       "      <td>8.978</td>\n",
       "      <td>7.896</td>\n",
       "      <td>...</td>\n",
       "      <td>10.875</td>\n",
       "      <td>8.442</td>\n",
       "      <td>8.697</td>\n",
       "      <td>8.862</td>\n",
       "      <td>8.054</td>\n",
       "      <td>7.470</td>\n",
       "      <td>8.098</td>\n",
       "      <td>18.473</td>\n",
       "      <td>11.431</td>\n",
       "      <td>9.929</td>\n",
       "    </tr>\n",
       "    <tr>\n",
       "      <th>3</th>\n",
       "      <td>PAX8</td>\n",
       "      <td>117.051</td>\n",
       "      <td>115.552</td>\n",
       "      <td>117.618</td>\n",
       "      <td>111.873</td>\n",
       "      <td>118.448</td>\n",
       "      <td>124.955</td>\n",
       "      <td>112.094</td>\n",
       "      <td>109.924</td>\n",
       "      <td>107.586</td>\n",
       "      <td>...</td>\n",
       "      <td>111.738</td>\n",
       "      <td>111.995</td>\n",
       "      <td>110.149</td>\n",
       "      <td>114.154</td>\n",
       "      <td>110.820</td>\n",
       "      <td>213.564</td>\n",
       "      <td>229.690</td>\n",
       "      <td>124.694</td>\n",
       "      <td>118.340</td>\n",
       "      <td>116.772</td>\n",
       "    </tr>\n",
       "    <tr>\n",
       "      <th>4</th>\n",
       "      <td>GUCA1A</td>\n",
       "      <td>4.341</td>\n",
       "      <td>4.278</td>\n",
       "      <td>4.320</td>\n",
       "      <td>4.062</td>\n",
       "      <td>4.525</td>\n",
       "      <td>4.380</td>\n",
       "      <td>4.262</td>\n",
       "      <td>4.124</td>\n",
       "      <td>4.034</td>\n",
       "      <td>...</td>\n",
       "      <td>4.170</td>\n",
       "      <td>4.115</td>\n",
       "      <td>3.959</td>\n",
       "      <td>4.116</td>\n",
       "      <td>4.031</td>\n",
       "      <td>3.851</td>\n",
       "      <td>3.911</td>\n",
       "      <td>4.254</td>\n",
       "      <td>4.501</td>\n",
       "      <td>4.498</td>\n",
       "    </tr>\n",
       "    <tr>\n",
       "      <th>6</th>\n",
       "      <td>THRA</td>\n",
       "      <td>9.632</td>\n",
       "      <td>9.380</td>\n",
       "      <td>9.315</td>\n",
       "      <td>8.204</td>\n",
       "      <td>10.234</td>\n",
       "      <td>9.846</td>\n",
       "      <td>9.300</td>\n",
       "      <td>8.480</td>\n",
       "      <td>8.746</td>\n",
       "      <td>...</td>\n",
       "      <td>9.085</td>\n",
       "      <td>8.264</td>\n",
       "      <td>7.802</td>\n",
       "      <td>8.351</td>\n",
       "      <td>8.205</td>\n",
       "      <td>7.850</td>\n",
       "      <td>8.033</td>\n",
       "      <td>9.867</td>\n",
       "      <td>9.975</td>\n",
       "      <td>10.837</td>\n",
       "    </tr>\n",
       "  </tbody>\n",
       "</table>\n",
       "<p>5 rows × 109 columns</p>\n",
       "</div>"
      ],
      "text/plain": [
       "  Unnamed: 0    huh-7  huh-7.1   HEK293  HEK293.1     HL60   HL60.1  HEK 293T  \\\n",
       "1       RFC2  402.633  441.622  557.782   869.346  336.006  114.442   662.357   \n",
       "2      HSPA6    9.968   10.178    9.565     8.118   13.902   17.116    10.039   \n",
       "3       PAX8  117.051  115.552  117.618   111.873  118.448  124.955   112.094   \n",
       "4     GUCA1A    4.341    4.278    4.320     4.062    4.525    4.380     4.262   \n",
       "6       THRA    9.632    9.380    9.315     8.204   10.234    9.846     9.300   \n",
       "\n",
       "   HEK 293T.1    DU145   ...     NCI H226.1      U87    U87.1     U118  \\\n",
       "1     435.929  593.534   ...        554.368  280.474  303.285  298.215   \n",
       "2       8.978    7.896   ...         10.875    8.442    8.697    8.862   \n",
       "3     109.924  107.586   ...        111.738  111.995  110.149  114.154   \n",
       "4       4.124    4.034   ...          4.170    4.115    3.959    4.116   \n",
       "6       8.480    8.746   ...          9.085    8.264    7.802    8.351   \n",
       "\n",
       "    U118.1     U138   U138.1  HEK 293 T-rex      HEK 293 T-rex    .1     HT29  \n",
       "1  373.033  474.686  447.062            744.322              679.515  624.654  \n",
       "2    8.054    7.470    8.098             18.473               11.431    9.929  \n",
       "3  110.820  213.564  229.690            124.694              118.340  116.772  \n",
       "4    4.031    3.851    3.911              4.254                4.501    4.498  \n",
       "6    8.205    7.850    8.033              9.867                9.975   10.837  \n",
       "\n",
       "[5 rows x 109 columns]"
      ]
     },
     "execution_count": 17,
     "metadata": {},
     "output_type": "execute_result"
    }
   ],
   "source": [
    "matrix.head()"
   ]
  },
  {
   "cell_type": "code",
   "execution_count": 18,
   "metadata": {},
   "outputs": [
    {
     "data": {
      "text/plain": [
       "(19862, 109)"
      ]
     },
     "execution_count": 18,
     "metadata": {},
     "output_type": "execute_result"
    }
   ],
   "source": [
    "matrix.shape"
   ]
  },
  {
   "cell_type": "code",
   "execution_count": 19,
   "metadata": {
    "collapsed": true
   },
   "outputs": [],
   "source": [
    "matrix.rename(columns={'Unnamed: 0':'Genes'}, inplace=True)"
   ]
  },
  {
   "cell_type": "code",
   "execution_count": 20,
   "metadata": {
    "collapsed": true
   },
   "outputs": [],
   "source": [
    "matrix.set_index('Genes', inplace=True)"
   ]
  },
  {
   "cell_type": "code",
   "execution_count": 21,
   "metadata": {},
   "outputs": [
    {
     "data": {
      "text/html": [
       "<div>\n",
       "<table border=\"1\" class=\"dataframe\">\n",
       "  <thead>\n",
       "    <tr style=\"text-align: right;\">\n",
       "      <th></th>\n",
       "      <th>huh-7</th>\n",
       "      <th>huh-7.1</th>\n",
       "      <th>HEK293</th>\n",
       "      <th>HEK293.1</th>\n",
       "      <th>HL60</th>\n",
       "      <th>HL60.1</th>\n",
       "      <th>HEK 293T</th>\n",
       "      <th>HEK 293T.1</th>\n",
       "      <th>DU145</th>\n",
       "      <th>ACHN</th>\n",
       "      <th>...</th>\n",
       "      <th>NCI H226.1</th>\n",
       "      <th>U87</th>\n",
       "      <th>U87.1</th>\n",
       "      <th>U118</th>\n",
       "      <th>U118.1</th>\n",
       "      <th>U138</th>\n",
       "      <th>U138.1</th>\n",
       "      <th>HEK 293 T-rex</th>\n",
       "      <th>HEK 293 T-rex    .1</th>\n",
       "      <th>HT29</th>\n",
       "    </tr>\n",
       "    <tr>\n",
       "      <th>Genes</th>\n",
       "      <th></th>\n",
       "      <th></th>\n",
       "      <th></th>\n",
       "      <th></th>\n",
       "      <th></th>\n",
       "      <th></th>\n",
       "      <th></th>\n",
       "      <th></th>\n",
       "      <th></th>\n",
       "      <th></th>\n",
       "      <th></th>\n",
       "      <th></th>\n",
       "      <th></th>\n",
       "      <th></th>\n",
       "      <th></th>\n",
       "      <th></th>\n",
       "      <th></th>\n",
       "      <th></th>\n",
       "      <th></th>\n",
       "      <th></th>\n",
       "      <th></th>\n",
       "    </tr>\n",
       "  </thead>\n",
       "  <tbody>\n",
       "    <tr>\n",
       "      <th>RFC2</th>\n",
       "      <td>402.633</td>\n",
       "      <td>441.622</td>\n",
       "      <td>557.782</td>\n",
       "      <td>869.346</td>\n",
       "      <td>336.006</td>\n",
       "      <td>114.442</td>\n",
       "      <td>662.357</td>\n",
       "      <td>435.929</td>\n",
       "      <td>593.534</td>\n",
       "      <td>556.449</td>\n",
       "      <td>...</td>\n",
       "      <td>554.368</td>\n",
       "      <td>280.474</td>\n",
       "      <td>303.285</td>\n",
       "      <td>298.215</td>\n",
       "      <td>373.033</td>\n",
       "      <td>474.686</td>\n",
       "      <td>447.062</td>\n",
       "      <td>744.322</td>\n",
       "      <td>679.515</td>\n",
       "      <td>624.654</td>\n",
       "    </tr>\n",
       "    <tr>\n",
       "      <th>HSPA6</th>\n",
       "      <td>9.968</td>\n",
       "      <td>10.178</td>\n",
       "      <td>9.565</td>\n",
       "      <td>8.118</td>\n",
       "      <td>13.902</td>\n",
       "      <td>17.116</td>\n",
       "      <td>10.039</td>\n",
       "      <td>8.978</td>\n",
       "      <td>7.896</td>\n",
       "      <td>7.811</td>\n",
       "      <td>...</td>\n",
       "      <td>10.875</td>\n",
       "      <td>8.442</td>\n",
       "      <td>8.697</td>\n",
       "      <td>8.862</td>\n",
       "      <td>8.054</td>\n",
       "      <td>7.470</td>\n",
       "      <td>8.098</td>\n",
       "      <td>18.473</td>\n",
       "      <td>11.431</td>\n",
       "      <td>9.929</td>\n",
       "    </tr>\n",
       "    <tr>\n",
       "      <th>PAX8</th>\n",
       "      <td>117.051</td>\n",
       "      <td>115.552</td>\n",
       "      <td>117.618</td>\n",
       "      <td>111.873</td>\n",
       "      <td>118.448</td>\n",
       "      <td>124.955</td>\n",
       "      <td>112.094</td>\n",
       "      <td>109.924</td>\n",
       "      <td>107.586</td>\n",
       "      <td>14698.486</td>\n",
       "      <td>...</td>\n",
       "      <td>111.738</td>\n",
       "      <td>111.995</td>\n",
       "      <td>110.149</td>\n",
       "      <td>114.154</td>\n",
       "      <td>110.820</td>\n",
       "      <td>213.564</td>\n",
       "      <td>229.690</td>\n",
       "      <td>124.694</td>\n",
       "      <td>118.340</td>\n",
       "      <td>116.772</td>\n",
       "    </tr>\n",
       "    <tr>\n",
       "      <th>GUCA1A</th>\n",
       "      <td>4.341</td>\n",
       "      <td>4.278</td>\n",
       "      <td>4.320</td>\n",
       "      <td>4.062</td>\n",
       "      <td>4.525</td>\n",
       "      <td>4.380</td>\n",
       "      <td>4.262</td>\n",
       "      <td>4.124</td>\n",
       "      <td>4.034</td>\n",
       "      <td>3.857</td>\n",
       "      <td>...</td>\n",
       "      <td>4.170</td>\n",
       "      <td>4.115</td>\n",
       "      <td>3.959</td>\n",
       "      <td>4.116</td>\n",
       "      <td>4.031</td>\n",
       "      <td>3.851</td>\n",
       "      <td>3.911</td>\n",
       "      <td>4.254</td>\n",
       "      <td>4.501</td>\n",
       "      <td>4.498</td>\n",
       "    </tr>\n",
       "    <tr>\n",
       "      <th>THRA</th>\n",
       "      <td>9.632</td>\n",
       "      <td>9.380</td>\n",
       "      <td>9.315</td>\n",
       "      <td>8.204</td>\n",
       "      <td>10.234</td>\n",
       "      <td>9.846</td>\n",
       "      <td>9.300</td>\n",
       "      <td>8.480</td>\n",
       "      <td>8.746</td>\n",
       "      <td>7.978</td>\n",
       "      <td>...</td>\n",
       "      <td>9.085</td>\n",
       "      <td>8.264</td>\n",
       "      <td>7.802</td>\n",
       "      <td>8.351</td>\n",
       "      <td>8.205</td>\n",
       "      <td>7.850</td>\n",
       "      <td>8.033</td>\n",
       "      <td>9.867</td>\n",
       "      <td>9.975</td>\n",
       "      <td>10.837</td>\n",
       "    </tr>\n",
       "  </tbody>\n",
       "</table>\n",
       "<p>5 rows × 108 columns</p>\n",
       "</div>"
      ],
      "text/plain": [
       "          huh-7  huh-7.1   HEK293  HEK293.1     HL60   HL60.1  HEK 293T  \\\n",
       "Genes                                                                     \n",
       "RFC2    402.633  441.622  557.782   869.346  336.006  114.442   662.357   \n",
       "HSPA6     9.968   10.178    9.565     8.118   13.902   17.116    10.039   \n",
       "PAX8    117.051  115.552  117.618   111.873  118.448  124.955   112.094   \n",
       "GUCA1A    4.341    4.278    4.320     4.062    4.525    4.380     4.262   \n",
       "THRA      9.632    9.380    9.315     8.204   10.234    9.846     9.300   \n",
       "\n",
       "        HEK 293T.1    DU145       ACHN   ...     NCI H226.1      U87    U87.1  \\\n",
       "Genes                                    ...                                    \n",
       "RFC2       435.929  593.534    556.449   ...        554.368  280.474  303.285   \n",
       "HSPA6        8.978    7.896      7.811   ...         10.875    8.442    8.697   \n",
       "PAX8       109.924  107.586  14698.486   ...        111.738  111.995  110.149   \n",
       "GUCA1A       4.124    4.034      3.857   ...          4.170    4.115    3.959   \n",
       "THRA         8.480    8.746      7.978   ...          9.085    8.264    7.802   \n",
       "\n",
       "           U118   U118.1     U138   U138.1  HEK 293 T-rex      \\\n",
       "Genes                                                           \n",
       "RFC2    298.215  373.033  474.686  447.062            744.322   \n",
       "HSPA6     8.862    8.054    7.470    8.098             18.473   \n",
       "PAX8    114.154  110.820  213.564  229.690            124.694   \n",
       "GUCA1A    4.116    4.031    3.851    3.911              4.254   \n",
       "THRA      8.351    8.205    7.850    8.033              9.867   \n",
       "\n",
       "        HEK 293 T-rex    .1     HT29  \n",
       "Genes                                 \n",
       "RFC2                679.515  624.654  \n",
       "HSPA6                11.431    9.929  \n",
       "PAX8                118.340  116.772  \n",
       "GUCA1A                4.501    4.498  \n",
       "THRA                  9.975   10.837  \n",
       "\n",
       "[5 rows x 108 columns]"
      ]
     },
     "execution_count": 21,
     "metadata": {},
     "output_type": "execute_result"
    }
   ],
   "source": [
    "matrix.head()"
   ]
  },
  {
   "cell_type": "markdown",
   "metadata": {},
   "source": [
    "# Fix Sample Columns"
   ]
  },
  {
   "cell_type": "code",
   "execution_count": 22,
   "metadata": {
    "collapsed": true
   },
   "outputs": [],
   "source": [
    "lst = []\n",
    "\n",
    "for col in matrix.columns:\n",
    "    lst.append(col.split('.')[0])\n",
    "    \n",
    "matrix.columns = lst "
   ]
  },
  {
   "cell_type": "code",
   "execution_count": 23,
   "metadata": {},
   "outputs": [
    {
     "data": {
      "text/html": [
       "<div>\n",
       "<table border=\"1\" class=\"dataframe\">\n",
       "  <thead>\n",
       "    <tr style=\"text-align: right;\">\n",
       "      <th></th>\n",
       "      <th>huh-7</th>\n",
       "      <th>huh-7</th>\n",
       "      <th>HEK293</th>\n",
       "      <th>HEK293</th>\n",
       "      <th>HL60</th>\n",
       "      <th>HL60</th>\n",
       "      <th>HEK 293T</th>\n",
       "      <th>HEK 293T</th>\n",
       "      <th>DU145</th>\n",
       "      <th>ACHN</th>\n",
       "      <th>...</th>\n",
       "      <th>NCI H226</th>\n",
       "      <th>U87</th>\n",
       "      <th>U87</th>\n",
       "      <th>U118</th>\n",
       "      <th>U118</th>\n",
       "      <th>U138</th>\n",
       "      <th>U138</th>\n",
       "      <th>HEK 293 T-rex</th>\n",
       "      <th>HEK 293 T-rex</th>\n",
       "      <th>HT29</th>\n",
       "    </tr>\n",
       "    <tr>\n",
       "      <th>Genes</th>\n",
       "      <th></th>\n",
       "      <th></th>\n",
       "      <th></th>\n",
       "      <th></th>\n",
       "      <th></th>\n",
       "      <th></th>\n",
       "      <th></th>\n",
       "      <th></th>\n",
       "      <th></th>\n",
       "      <th></th>\n",
       "      <th></th>\n",
       "      <th></th>\n",
       "      <th></th>\n",
       "      <th></th>\n",
       "      <th></th>\n",
       "      <th></th>\n",
       "      <th></th>\n",
       "      <th></th>\n",
       "      <th></th>\n",
       "      <th></th>\n",
       "      <th></th>\n",
       "    </tr>\n",
       "  </thead>\n",
       "  <tbody>\n",
       "    <tr>\n",
       "      <th>RFC2</th>\n",
       "      <td>402.633</td>\n",
       "      <td>441.622</td>\n",
       "      <td>557.782</td>\n",
       "      <td>869.346</td>\n",
       "      <td>336.006</td>\n",
       "      <td>114.442</td>\n",
       "      <td>662.357</td>\n",
       "      <td>435.929</td>\n",
       "      <td>593.534</td>\n",
       "      <td>556.449</td>\n",
       "      <td>...</td>\n",
       "      <td>554.368</td>\n",
       "      <td>280.474</td>\n",
       "      <td>303.285</td>\n",
       "      <td>298.215</td>\n",
       "      <td>373.033</td>\n",
       "      <td>474.686</td>\n",
       "      <td>447.062</td>\n",
       "      <td>744.322</td>\n",
       "      <td>679.515</td>\n",
       "      <td>624.654</td>\n",
       "    </tr>\n",
       "    <tr>\n",
       "      <th>HSPA6</th>\n",
       "      <td>9.968</td>\n",
       "      <td>10.178</td>\n",
       "      <td>9.565</td>\n",
       "      <td>8.118</td>\n",
       "      <td>13.902</td>\n",
       "      <td>17.116</td>\n",
       "      <td>10.039</td>\n",
       "      <td>8.978</td>\n",
       "      <td>7.896</td>\n",
       "      <td>7.811</td>\n",
       "      <td>...</td>\n",
       "      <td>10.875</td>\n",
       "      <td>8.442</td>\n",
       "      <td>8.697</td>\n",
       "      <td>8.862</td>\n",
       "      <td>8.054</td>\n",
       "      <td>7.470</td>\n",
       "      <td>8.098</td>\n",
       "      <td>18.473</td>\n",
       "      <td>11.431</td>\n",
       "      <td>9.929</td>\n",
       "    </tr>\n",
       "    <tr>\n",
       "      <th>PAX8</th>\n",
       "      <td>117.051</td>\n",
       "      <td>115.552</td>\n",
       "      <td>117.618</td>\n",
       "      <td>111.873</td>\n",
       "      <td>118.448</td>\n",
       "      <td>124.955</td>\n",
       "      <td>112.094</td>\n",
       "      <td>109.924</td>\n",
       "      <td>107.586</td>\n",
       "      <td>14698.486</td>\n",
       "      <td>...</td>\n",
       "      <td>111.738</td>\n",
       "      <td>111.995</td>\n",
       "      <td>110.149</td>\n",
       "      <td>114.154</td>\n",
       "      <td>110.820</td>\n",
       "      <td>213.564</td>\n",
       "      <td>229.690</td>\n",
       "      <td>124.694</td>\n",
       "      <td>118.340</td>\n",
       "      <td>116.772</td>\n",
       "    </tr>\n",
       "    <tr>\n",
       "      <th>GUCA1A</th>\n",
       "      <td>4.341</td>\n",
       "      <td>4.278</td>\n",
       "      <td>4.320</td>\n",
       "      <td>4.062</td>\n",
       "      <td>4.525</td>\n",
       "      <td>4.380</td>\n",
       "      <td>4.262</td>\n",
       "      <td>4.124</td>\n",
       "      <td>4.034</td>\n",
       "      <td>3.857</td>\n",
       "      <td>...</td>\n",
       "      <td>4.170</td>\n",
       "      <td>4.115</td>\n",
       "      <td>3.959</td>\n",
       "      <td>4.116</td>\n",
       "      <td>4.031</td>\n",
       "      <td>3.851</td>\n",
       "      <td>3.911</td>\n",
       "      <td>4.254</td>\n",
       "      <td>4.501</td>\n",
       "      <td>4.498</td>\n",
       "    </tr>\n",
       "    <tr>\n",
       "      <th>THRA</th>\n",
       "      <td>9.632</td>\n",
       "      <td>9.380</td>\n",
       "      <td>9.315</td>\n",
       "      <td>8.204</td>\n",
       "      <td>10.234</td>\n",
       "      <td>9.846</td>\n",
       "      <td>9.300</td>\n",
       "      <td>8.480</td>\n",
       "      <td>8.746</td>\n",
       "      <td>7.978</td>\n",
       "      <td>...</td>\n",
       "      <td>9.085</td>\n",
       "      <td>8.264</td>\n",
       "      <td>7.802</td>\n",
       "      <td>8.351</td>\n",
       "      <td>8.205</td>\n",
       "      <td>7.850</td>\n",
       "      <td>8.033</td>\n",
       "      <td>9.867</td>\n",
       "      <td>9.975</td>\n",
       "      <td>10.837</td>\n",
       "    </tr>\n",
       "  </tbody>\n",
       "</table>\n",
       "<p>5 rows × 108 columns</p>\n",
       "</div>"
      ],
      "text/plain": [
       "          huh-7    huh-7   HEK293   HEK293     HL60     HL60  HEK 293T  \\\n",
       "Genes                                                                    \n",
       "RFC2    402.633  441.622  557.782  869.346  336.006  114.442   662.357   \n",
       "HSPA6     9.968   10.178    9.565    8.118   13.902   17.116    10.039   \n",
       "PAX8    117.051  115.552  117.618  111.873  118.448  124.955   112.094   \n",
       "GUCA1A    4.341    4.278    4.320    4.062    4.525    4.380     4.262   \n",
       "THRA      9.632    9.380    9.315    8.204   10.234    9.846     9.300   \n",
       "\n",
       "        HEK 293T    DU145       ACHN   ...     NCI H226      U87      U87  \\\n",
       "Genes                                  ...                                  \n",
       "RFC2     435.929  593.534    556.449   ...      554.368  280.474  303.285   \n",
       "HSPA6      8.978    7.896      7.811   ...       10.875    8.442    8.697   \n",
       "PAX8     109.924  107.586  14698.486   ...      111.738  111.995  110.149   \n",
       "GUCA1A     4.124    4.034      3.857   ...        4.170    4.115    3.959   \n",
       "THRA       8.480    8.746      7.978   ...        9.085    8.264    7.802   \n",
       "\n",
       "           U118     U118     U138     U138  HEK 293 T-rex      \\\n",
       "Genes                                                           \n",
       "RFC2    298.215  373.033  474.686  447.062            744.322   \n",
       "HSPA6     8.862    8.054    7.470    8.098             18.473   \n",
       "PAX8    114.154  110.820  213.564  229.690            124.694   \n",
       "GUCA1A    4.116    4.031    3.851    3.911              4.254   \n",
       "THRA      8.351    8.205    7.850    8.033              9.867   \n",
       "\n",
       "        HEK 293 T-rex         HT29  \n",
       "Genes                               \n",
       "RFC2              679.515  624.654  \n",
       "HSPA6              11.431    9.929  \n",
       "PAX8              118.340  116.772  \n",
       "GUCA1A              4.501    4.498  \n",
       "THRA                9.975   10.837  \n",
       "\n",
       "[5 rows x 108 columns]"
      ]
     },
     "execution_count": 23,
     "metadata": {},
     "output_type": "execute_result"
    }
   ],
   "source": [
    "matrix.head()"
   ]
  },
  {
   "cell_type": "markdown",
   "metadata": {},
   "source": [
    "# Merge Like Column (by taking the mean)"
   ]
  },
  {
   "cell_type": "code",
   "execution_count": 24,
   "metadata": {
    "collapsed": true
   },
   "outputs": [],
   "source": [
    "matrix = uf.merge(matrix, 'column', 'mean')"
   ]
  },
  {
   "cell_type": "code",
   "execution_count": 25,
   "metadata": {},
   "outputs": [
    {
     "data": {
      "text/plain": [
       "(19862, 93)"
      ]
     },
     "execution_count": 25,
     "metadata": {},
     "output_type": "execute_result"
    }
   ],
   "source": [
    "matrix.shape"
   ]
  },
  {
   "cell_type": "markdown",
   "metadata": {},
   "source": [
    "# Drop Any Genes That Have Zero Expression Across 95% Of The Samples"
   ]
  },
  {
   "cell_type": "code",
   "execution_count": 26,
   "metadata": {
    "collapsed": true
   },
   "outputs": [],
   "source": [
    "matrix.replace(0, np.nan, inplace=True)\n",
    "\n",
    "matrix.dropna(thresh=(0.05*matrix.shape[1]), axis=0, inplace=True)\n",
    "\n",
    "matrix.replace(np.nan, 0, inplace=True)"
   ]
  },
  {
   "cell_type": "code",
   "execution_count": 27,
   "metadata": {},
   "outputs": [
    {
     "data": {
      "text/plain": [
       "(19862, 93)"
      ]
     },
     "execution_count": 27,
     "metadata": {},
     "output_type": "execute_result"
    }
   ],
   "source": [
    "matrix.shape"
   ]
  },
  {
   "cell_type": "markdown",
   "metadata": {},
   "source": [
    "# Map Gene Symbols To Up-to-date Approved Gene Symbols"
   ]
  },
  {
   "cell_type": "code",
   "execution_count": 28,
   "metadata": {},
   "outputs": [
    {
     "name": "stdout",
     "output_type": "stream",
     "text": [
      "Progeres: 98%  19659 Out of 19862   \r"
     ]
    }
   ],
   "source": [
    "uf.mapgenesymbols(matrix)"
   ]
  },
  {
   "cell_type": "code",
   "execution_count": 29,
   "metadata": {},
   "outputs": [
    {
     "data": {
      "text/plain": [
       "(19736, 93)"
      ]
     },
     "execution_count": 29,
     "metadata": {},
     "output_type": "execute_result"
    }
   ],
   "source": [
    "matrix.shape"
   ]
  },
  {
   "cell_type": "markdown",
   "metadata": {},
   "source": [
    "# Merge Duplicate genes (by taking the mean)"
   ]
  },
  {
   "cell_type": "code",
   "execution_count": 30,
   "metadata": {
    "collapsed": true
   },
   "outputs": [],
   "source": [
    "matrix = uf.merge(matrix, 'row', 'mean')"
   ]
  },
  {
   "cell_type": "code",
   "execution_count": 31,
   "metadata": {},
   "outputs": [
    {
     "data": {
      "text/plain": [
       "(12296, 93)"
      ]
     },
     "execution_count": 31,
     "metadata": {},
     "output_type": "execute_result"
    }
   ],
   "source": [
    "matrix.shape"
   ]
  },
  {
   "cell_type": "markdown",
   "metadata": {},
   "source": [
    "# Save Unfiltered Matrix To File"
   ]
  },
  {
   "cell_type": "code",
   "execution_count": 32,
   "metadata": {
    "collapsed": true
   },
   "outputs": [],
   "source": [
    "filename = '~/./Documents/Harmonizome/BioGPS/Output/biogps_celline_matrix_unfilltered_%s.tsv.zip'% str(datetime.date.today())[0:7].replace('-', '_')\n",
    "matrix.to_csv(filename, sep='\\t', compression='gzip')"
   ]
  },
  {
   "cell_type": "markdown",
   "metadata": {},
   "source": [
    "# Normalize Matrix (Quantile Normalize the matrix for the columns)"
   ]
  },
  {
   "cell_type": "code",
   "execution_count": 33,
   "metadata": {},
   "outputs": [
    {
     "name": "stdout",
     "output_type": "stream",
     "text": [
      "Step 2/2 progress: 100%  93 Out of 93   \r"
     ]
    }
   ],
   "source": [
    "normalized_matrix = uf.quantileNormalize(matrix)"
   ]
  },
  {
   "cell_type": "code",
   "execution_count": 34,
   "metadata": {},
   "outputs": [
    {
     "data": {
      "text/html": [
       "<div>\n",
       "<table border=\"1\" class=\"dataframe\">\n",
       "  <thead>\n",
       "    <tr style=\"text-align: right;\">\n",
       "      <th></th>\n",
       "      <th>786</th>\n",
       "      <th>A172</th>\n",
       "      <th>A204</th>\n",
       "      <th>A361</th>\n",
       "      <th>A498</th>\n",
       "      <th>A549</th>\n",
       "      <th>ACC3</th>\n",
       "      <th>ACHN</th>\n",
       "      <th>ALVA31</th>\n",
       "      <th>CAKI1</th>\n",
       "      <th>...</th>\n",
       "      <th>U138</th>\n",
       "      <th>U20S</th>\n",
       "      <th>U251</th>\n",
       "      <th>U87</th>\n",
       "      <th>UACC257</th>\n",
       "      <th>UACC62</th>\n",
       "      <th>UO31</th>\n",
       "      <th>ZR75_1</th>\n",
       "      <th>astrocytes</th>\n",
       "      <th>huh-7</th>\n",
       "    </tr>\n",
       "    <tr>\n",
       "      <th>Genes</th>\n",
       "      <th></th>\n",
       "      <th></th>\n",
       "      <th></th>\n",
       "      <th></th>\n",
       "      <th></th>\n",
       "      <th></th>\n",
       "      <th></th>\n",
       "      <th></th>\n",
       "      <th></th>\n",
       "      <th></th>\n",
       "      <th></th>\n",
       "      <th></th>\n",
       "      <th></th>\n",
       "      <th></th>\n",
       "      <th></th>\n",
       "      <th></th>\n",
       "      <th></th>\n",
       "      <th></th>\n",
       "      <th></th>\n",
       "      <th></th>\n",
       "      <th></th>\n",
       "    </tr>\n",
       "  </thead>\n",
       "  <tbody>\n",
       "    <tr>\n",
       "      <th>A1CF</th>\n",
       "      <td>9.030562</td>\n",
       "      <td>8.673039</td>\n",
       "      <td>8.826278</td>\n",
       "      <td>8.711599</td>\n",
       "      <td>9.118827</td>\n",
       "      <td>8.853977</td>\n",
       "      <td>12.894987</td>\n",
       "      <td>8.946287</td>\n",
       "      <td>8.301336</td>\n",
       "      <td>10.148112</td>\n",
       "      <td>...</td>\n",
       "      <td>8.965899</td>\n",
       "      <td>23.979935</td>\n",
       "      <td>8.988879</td>\n",
       "      <td>8.923787</td>\n",
       "      <td>8.843534</td>\n",
       "      <td>8.666947</td>\n",
       "      <td>8.309525</td>\n",
       "      <td>8.344695</td>\n",
       "      <td>35.999118</td>\n",
       "      <td>860.691333</td>\n",
       "    </tr>\n",
       "    <tr>\n",
       "      <th>A2M</th>\n",
       "      <td>4.682693</td>\n",
       "      <td>4.706318</td>\n",
       "      <td>4.649568</td>\n",
       "      <td>15.981680</td>\n",
       "      <td>4.701961</td>\n",
       "      <td>4.689463</td>\n",
       "      <td>4.579769</td>\n",
       "      <td>4.870681</td>\n",
       "      <td>4.638478</td>\n",
       "      <td>4.653149</td>\n",
       "      <td>...</td>\n",
       "      <td>4.756517</td>\n",
       "      <td>4.687373</td>\n",
       "      <td>4.701961</td>\n",
       "      <td>4.631064</td>\n",
       "      <td>3345.817603</td>\n",
       "      <td>259.994210</td>\n",
       "      <td>4.591836</td>\n",
       "      <td>4.590537</td>\n",
       "      <td>4.653827</td>\n",
       "      <td>2462.519255</td>\n",
       "    </tr>\n",
       "    <tr>\n",
       "      <th>A4GALT</th>\n",
       "      <td>5.100708</td>\n",
       "      <td>5.086537</td>\n",
       "      <td>5.023925</td>\n",
       "      <td>5.057906</td>\n",
       "      <td>5.112048</td>\n",
       "      <td>5.065972</td>\n",
       "      <td>4.935492</td>\n",
       "      <td>5.034096</td>\n",
       "      <td>5.087227</td>\n",
       "      <td>4.998526</td>\n",
       "      <td>...</td>\n",
       "      <td>5.080843</td>\n",
       "      <td>4.972978</td>\n",
       "      <td>5.126039</td>\n",
       "      <td>5.174119</td>\n",
       "      <td>5.098963</td>\n",
       "      <td>4.997068</td>\n",
       "      <td>5.182460</td>\n",
       "      <td>5.019695</td>\n",
       "      <td>4.997822</td>\n",
       "      <td>5.024720</td>\n",
       "    </tr>\n",
       "    <tr>\n",
       "      <th>A4GNT</th>\n",
       "      <td>4.276880</td>\n",
       "      <td>4.182743</td>\n",
       "      <td>4.256261</td>\n",
       "      <td>4.254953</td>\n",
       "      <td>4.274593</td>\n",
       "      <td>4.267600</td>\n",
       "      <td>4.185514</td>\n",
       "      <td>4.242747</td>\n",
       "      <td>4.182000</td>\n",
       "      <td>4.234151</td>\n",
       "      <td>...</td>\n",
       "      <td>4.201745</td>\n",
       "      <td>4.300164</td>\n",
       "      <td>4.297818</td>\n",
       "      <td>4.209505</td>\n",
       "      <td>4.274593</td>\n",
       "      <td>4.287378</td>\n",
       "      <td>4.279103</td>\n",
       "      <td>4.269121</td>\n",
       "      <td>4.285208</td>\n",
       "      <td>4.238018</td>\n",
       "    </tr>\n",
       "    <tr>\n",
       "      <th>AAAS</th>\n",
       "      <td>89.913332</td>\n",
       "      <td>42.988196</td>\n",
       "      <td>383.629343</td>\n",
       "      <td>181.791491</td>\n",
       "      <td>134.539286</td>\n",
       "      <td>151.576725</td>\n",
       "      <td>293.501461</td>\n",
       "      <td>132.797981</td>\n",
       "      <td>158.045589</td>\n",
       "      <td>117.260254</td>\n",
       "      <td>...</td>\n",
       "      <td>87.478925</td>\n",
       "      <td>252.347874</td>\n",
       "      <td>122.354213</td>\n",
       "      <td>36.882780</td>\n",
       "      <td>156.810452</td>\n",
       "      <td>189.227613</td>\n",
       "      <td>124.425902</td>\n",
       "      <td>224.230616</td>\n",
       "      <td>129.035628</td>\n",
       "      <td>127.718687</td>\n",
       "    </tr>\n",
       "  </tbody>\n",
       "</table>\n",
       "<p>5 rows × 93 columns</p>\n",
       "</div>"
      ],
      "text/plain": [
       "              786       A172        A204        A361        A498        A549  \\\n",
       "Genes                                                                          \n",
       "A1CF     9.030562   8.673039    8.826278    8.711599    9.118827    8.853977   \n",
       "A2M      4.682693   4.706318    4.649568   15.981680    4.701961    4.689463   \n",
       "A4GALT   5.100708   5.086537    5.023925    5.057906    5.112048    5.065972   \n",
       "A4GNT    4.276880   4.182743    4.256261    4.254953    4.274593    4.267600   \n",
       "AAAS    89.913332  42.988196  383.629343  181.791491  134.539286  151.576725   \n",
       "\n",
       "              ACC3        ACHN      ALVA31       CAKI1     ...       \\\n",
       "Genes                                                      ...        \n",
       "A1CF     12.894987    8.946287    8.301336   10.148112     ...        \n",
       "A2M       4.579769    4.870681    4.638478    4.653149     ...        \n",
       "A4GALT    4.935492    5.034096    5.087227    4.998526     ...        \n",
       "A4GNT     4.185514    4.242747    4.182000    4.234151     ...        \n",
       "AAAS    293.501461  132.797981  158.045589  117.260254     ...        \n",
       "\n",
       "             U138        U20S        U251        U87      UACC257      UACC62  \\\n",
       "Genes                                                                           \n",
       "A1CF     8.965899   23.979935    8.988879   8.923787     8.843534    8.666947   \n",
       "A2M      4.756517    4.687373    4.701961   4.631064  3345.817603  259.994210   \n",
       "A4GALT   5.080843    4.972978    5.126039   5.174119     5.098963    4.997068   \n",
       "A4GNT    4.201745    4.300164    4.297818   4.209505     4.274593    4.287378   \n",
       "AAAS    87.478925  252.347874  122.354213  36.882780   156.810452  189.227613   \n",
       "\n",
       "              UO31      ZR75_1  astrocytes        huh-7  \n",
       "Genes                                                    \n",
       "A1CF      8.309525    8.344695   35.999118   860.691333  \n",
       "A2M       4.591836    4.590537    4.653827  2462.519255  \n",
       "A4GALT    5.182460    5.019695    4.997822     5.024720  \n",
       "A4GNT     4.279103    4.269121    4.285208     4.238018  \n",
       "AAAS    124.425902  224.230616  129.035628   127.718687  \n",
       "\n",
       "[5 rows x 93 columns]"
      ]
     },
     "execution_count": 34,
     "metadata": {},
     "output_type": "execute_result"
    }
   ],
   "source": [
    "normalized_matrix.head()"
   ]
  },
  {
   "cell_type": "markdown",
   "metadata": {},
   "source": [
    "# Nomalize Matrix (z-score the rows)"
   ]
  },
  {
   "cell_type": "code",
   "execution_count": 35,
   "metadata": {},
   "outputs": [
    {
     "name": "stdout",
     "output_type": "stream",
     "text": [
      "Progress: 100%  12296 Out of 12296   \r"
     ]
    }
   ],
   "source": [
    "uf.zscore(normalized_matrix, 'row')"
   ]
  },
  {
   "cell_type": "code",
   "execution_count": 36,
   "metadata": {},
   "outputs": [
    {
     "data": {
      "text/html": [
       "<div>\n",
       "<table border=\"1\" class=\"dataframe\">\n",
       "  <thead>\n",
       "    <tr style=\"text-align: right;\">\n",
       "      <th></th>\n",
       "      <th>786</th>\n",
       "      <th>A172</th>\n",
       "      <th>A204</th>\n",
       "      <th>A361</th>\n",
       "      <th>A498</th>\n",
       "      <th>A549</th>\n",
       "      <th>ACC3</th>\n",
       "      <th>ACHN</th>\n",
       "      <th>ALVA31</th>\n",
       "      <th>CAKI1</th>\n",
       "      <th>...</th>\n",
       "      <th>U138</th>\n",
       "      <th>U20S</th>\n",
       "      <th>U251</th>\n",
       "      <th>U87</th>\n",
       "      <th>UACC257</th>\n",
       "      <th>UACC62</th>\n",
       "      <th>UO31</th>\n",
       "      <th>ZR75_1</th>\n",
       "      <th>astrocytes</th>\n",
       "      <th>huh-7</th>\n",
       "    </tr>\n",
       "    <tr>\n",
       "      <th>Genes</th>\n",
       "      <th></th>\n",
       "      <th></th>\n",
       "      <th></th>\n",
       "      <th></th>\n",
       "      <th></th>\n",
       "      <th></th>\n",
       "      <th></th>\n",
       "      <th></th>\n",
       "      <th></th>\n",
       "      <th></th>\n",
       "      <th></th>\n",
       "      <th></th>\n",
       "      <th></th>\n",
       "      <th></th>\n",
       "      <th></th>\n",
       "      <th></th>\n",
       "      <th></th>\n",
       "      <th></th>\n",
       "      <th></th>\n",
       "      <th></th>\n",
       "      <th></th>\n",
       "    </tr>\n",
       "  </thead>\n",
       "  <tbody>\n",
       "    <tr>\n",
       "      <th>A1CF</th>\n",
       "      <td>-0.163308</td>\n",
       "      <td>-0.165014</td>\n",
       "      <td>-0.164283</td>\n",
       "      <td>-0.164830</td>\n",
       "      <td>-0.162887</td>\n",
       "      <td>-0.164151</td>\n",
       "      <td>-0.144871</td>\n",
       "      <td>-0.163710</td>\n",
       "      <td>-0.166788</td>\n",
       "      <td>-0.157976</td>\n",
       "      <td>...</td>\n",
       "      <td>-0.163617</td>\n",
       "      <td>-0.091983</td>\n",
       "      <td>-0.163507</td>\n",
       "      <td>-0.163818</td>\n",
       "      <td>-0.164201</td>\n",
       "      <td>-0.165043</td>\n",
       "      <td>-0.166749</td>\n",
       "      <td>-0.166581</td>\n",
       "      <td>-0.034639</td>\n",
       "      <td>3.900054</td>\n",
       "    </tr>\n",
       "    <tr>\n",
       "      <th>A2M</th>\n",
       "      <td>-0.283140</td>\n",
       "      <td>-0.283127</td>\n",
       "      <td>-0.283158</td>\n",
       "      <td>-0.276954</td>\n",
       "      <td>-0.283129</td>\n",
       "      <td>-0.283136</td>\n",
       "      <td>-0.283196</td>\n",
       "      <td>-0.283037</td>\n",
       "      <td>-0.283164</td>\n",
       "      <td>-0.283156</td>\n",
       "      <td>...</td>\n",
       "      <td>-0.283100</td>\n",
       "      <td>-0.283137</td>\n",
       "      <td>-0.283129</td>\n",
       "      <td>-0.283168</td>\n",
       "      <td>1.546090</td>\n",
       "      <td>-0.143360</td>\n",
       "      <td>-0.283190</td>\n",
       "      <td>-0.283190</td>\n",
       "      <td>-0.283156</td>\n",
       "      <td>1.062495</td>\n",
       "    </tr>\n",
       "    <tr>\n",
       "      <th>A4GALT</th>\n",
       "      <td>-0.087577</td>\n",
       "      <td>-0.102782</td>\n",
       "      <td>-0.169962</td>\n",
       "      <td>-0.133501</td>\n",
       "      <td>-0.075409</td>\n",
       "      <td>-0.124848</td>\n",
       "      <td>-0.264847</td>\n",
       "      <td>-0.159049</td>\n",
       "      <td>-0.102041</td>\n",
       "      <td>-0.197214</td>\n",
       "      <td>...</td>\n",
       "      <td>-0.108891</td>\n",
       "      <td>-0.224626</td>\n",
       "      <td>-0.060397</td>\n",
       "      <td>-0.008809</td>\n",
       "      <td>-0.089449</td>\n",
       "      <td>-0.198779</td>\n",
       "      <td>0.000140</td>\n",
       "      <td>-0.174501</td>\n",
       "      <td>-0.197970</td>\n",
       "      <td>-0.169109</td>\n",
       "    </tr>\n",
       "    <tr>\n",
       "      <th>A4GNT</th>\n",
       "      <td>0.101692</td>\n",
       "      <td>-1.137341</td>\n",
       "      <td>-0.169700</td>\n",
       "      <td>-0.186917</td>\n",
       "      <td>0.071593</td>\n",
       "      <td>-0.020446</td>\n",
       "      <td>-1.100862</td>\n",
       "      <td>-0.347562</td>\n",
       "      <td>-1.147112</td>\n",
       "      <td>-0.460713</td>\n",
       "      <td>...</td>\n",
       "      <td>-0.887233</td>\n",
       "      <td>0.408156</td>\n",
       "      <td>0.377280</td>\n",
       "      <td>-0.785097</td>\n",
       "      <td>0.071593</td>\n",
       "      <td>0.239869</td>\n",
       "      <td>0.130952</td>\n",
       "      <td>-0.000432</td>\n",
       "      <td>0.211304</td>\n",
       "      <td>-0.409810</td>\n",
       "    </tr>\n",
       "    <tr>\n",
       "      <th>AAAS</th>\n",
       "      <td>-0.871391</td>\n",
       "      <td>-1.331086</td>\n",
       "      <td>2.005954</td>\n",
       "      <td>0.028680</td>\n",
       "      <td>-0.434219</td>\n",
       "      <td>-0.267315</td>\n",
       "      <td>1.123029</td>\n",
       "      <td>-0.451278</td>\n",
       "      <td>-0.203944</td>\n",
       "      <td>-0.603491</td>\n",
       "      <td>...</td>\n",
       "      <td>-0.895239</td>\n",
       "      <td>0.719875</td>\n",
       "      <td>-0.553589</td>\n",
       "      <td>-1.390897</td>\n",
       "      <td>-0.216043</td>\n",
       "      <td>0.101526</td>\n",
       "      <td>-0.533294</td>\n",
       "      <td>0.444428</td>\n",
       "      <td>-0.488135</td>\n",
       "      <td>-0.501036</td>\n",
       "    </tr>\n",
       "  </tbody>\n",
       "</table>\n",
       "<p>5 rows × 93 columns</p>\n",
       "</div>"
      ],
      "text/plain": [
       "             786      A172      A204      A361      A498      A549      ACC3  \\\n",
       "Genes                                                                          \n",
       "A1CF   -0.163308 -0.165014 -0.164283 -0.164830 -0.162887 -0.164151 -0.144871   \n",
       "A2M    -0.283140 -0.283127 -0.283158 -0.276954 -0.283129 -0.283136 -0.283196   \n",
       "A4GALT -0.087577 -0.102782 -0.169962 -0.133501 -0.075409 -0.124848 -0.264847   \n",
       "A4GNT   0.101692 -1.137341 -0.169700 -0.186917  0.071593 -0.020446 -1.100862   \n",
       "AAAS   -0.871391 -1.331086  2.005954  0.028680 -0.434219 -0.267315  1.123029   \n",
       "\n",
       "            ACHN    ALVA31     CAKI1    ...         U138      U20S      U251  \\\n",
       "Genes                                   ...                                    \n",
       "A1CF   -0.163710 -0.166788 -0.157976    ...    -0.163617 -0.091983 -0.163507   \n",
       "A2M    -0.283037 -0.283164 -0.283156    ...    -0.283100 -0.283137 -0.283129   \n",
       "A4GALT -0.159049 -0.102041 -0.197214    ...    -0.108891 -0.224626 -0.060397   \n",
       "A4GNT  -0.347562 -1.147112 -0.460713    ...    -0.887233  0.408156  0.377280   \n",
       "AAAS   -0.451278 -0.203944 -0.603491    ...    -0.895239  0.719875 -0.553589   \n",
       "\n",
       "             U87   UACC257    UACC62      UO31    ZR75_1  astrocytes     huh-7  \n",
       "Genes                                                                           \n",
       "A1CF   -0.163818 -0.164201 -0.165043 -0.166749 -0.166581   -0.034639  3.900054  \n",
       "A2M    -0.283168  1.546090 -0.143360 -0.283190 -0.283190   -0.283156  1.062495  \n",
       "A4GALT -0.008809 -0.089449 -0.198779  0.000140 -0.174501   -0.197970 -0.169109  \n",
       "A4GNT  -0.785097  0.071593  0.239869  0.130952 -0.000432    0.211304 -0.409810  \n",
       "AAAS   -1.390897 -0.216043  0.101526 -0.533294  0.444428   -0.488135 -0.501036  \n",
       "\n",
       "[5 rows x 93 columns]"
      ]
     },
     "execution_count": 36,
     "metadata": {},
     "output_type": "execute_result"
    }
   ],
   "source": [
    "normalized_matrix.head()"
   ]
  },
  {
   "cell_type": "markdown",
   "metadata": {},
   "source": [
    "# Save Filtered Matrix"
   ]
  },
  {
   "cell_type": "code",
   "execution_count": 37,
   "metadata": {
    "collapsed": true
   },
   "outputs": [],
   "source": [
    "filename = '~/./Documents/Harmonizome/BioGPS/Output/biogps_celline_matrix_filltered_%s.tsv.zip'% str(datetime.date.today())[0:7].replace('-', '_')\n",
    "normalized_matrix.to_csv(filename, sep='\\t', compression='gzip')"
   ]
  },
  {
   "cell_type": "markdown",
   "metadata": {},
   "source": [
    "# Create Tertiary Matrix"
   ]
  },
  {
   "cell_type": "code",
   "execution_count": 38,
   "metadata": {},
   "outputs": [
    {
     "name": "stdout",
     "output_type": "stream",
     "text": [
      "Progeres: 100%  93 Out of 93   \r"
     ]
    }
   ],
   "source": [
    "tertiary_matrix = uf.createTertiaryMarix(normalized_matrix)"
   ]
  },
  {
   "cell_type": "code",
   "execution_count": 39,
   "metadata": {},
   "outputs": [
    {
     "data": {
      "text/html": [
       "<div>\n",
       "<table border=\"1\" class=\"dataframe\">\n",
       "  <thead>\n",
       "    <tr style=\"text-align: right;\">\n",
       "      <th></th>\n",
       "      <th>786</th>\n",
       "      <th>A172</th>\n",
       "      <th>A204</th>\n",
       "      <th>A361</th>\n",
       "      <th>A498</th>\n",
       "      <th>A549</th>\n",
       "      <th>ACC3</th>\n",
       "      <th>ACHN</th>\n",
       "      <th>ALVA31</th>\n",
       "      <th>CAKI1</th>\n",
       "      <th>...</th>\n",
       "      <th>U138</th>\n",
       "      <th>U20S</th>\n",
       "      <th>U251</th>\n",
       "      <th>U87</th>\n",
       "      <th>UACC257</th>\n",
       "      <th>UACC62</th>\n",
       "      <th>UO31</th>\n",
       "      <th>ZR75_1</th>\n",
       "      <th>astrocytes</th>\n",
       "      <th>huh-7</th>\n",
       "    </tr>\n",
       "    <tr>\n",
       "      <th>Genes</th>\n",
       "      <th></th>\n",
       "      <th></th>\n",
       "      <th></th>\n",
       "      <th></th>\n",
       "      <th></th>\n",
       "      <th></th>\n",
       "      <th></th>\n",
       "      <th></th>\n",
       "      <th></th>\n",
       "      <th></th>\n",
       "      <th></th>\n",
       "      <th></th>\n",
       "      <th></th>\n",
       "      <th></th>\n",
       "      <th></th>\n",
       "      <th></th>\n",
       "      <th></th>\n",
       "      <th></th>\n",
       "      <th></th>\n",
       "      <th></th>\n",
       "      <th></th>\n",
       "    </tr>\n",
       "  </thead>\n",
       "  <tbody>\n",
       "    <tr>\n",
       "      <th>A1CF</th>\n",
       "      <td>0.0</td>\n",
       "      <td>0.0</td>\n",
       "      <td>0.0</td>\n",
       "      <td>0.0</td>\n",
       "      <td>0.0</td>\n",
       "      <td>0.0</td>\n",
       "      <td>0.0</td>\n",
       "      <td>0.0</td>\n",
       "      <td>0.0</td>\n",
       "      <td>0.0</td>\n",
       "      <td>...</td>\n",
       "      <td>0.0</td>\n",
       "      <td>0.0</td>\n",
       "      <td>0.0</td>\n",
       "      <td>0.0</td>\n",
       "      <td>0.0</td>\n",
       "      <td>0.0</td>\n",
       "      <td>0.0</td>\n",
       "      <td>0.0</td>\n",
       "      <td>0.0</td>\n",
       "      <td>1.0</td>\n",
       "    </tr>\n",
       "    <tr>\n",
       "      <th>A2M</th>\n",
       "      <td>0.0</td>\n",
       "      <td>0.0</td>\n",
       "      <td>0.0</td>\n",
       "      <td>0.0</td>\n",
       "      <td>0.0</td>\n",
       "      <td>0.0</td>\n",
       "      <td>0.0</td>\n",
       "      <td>0.0</td>\n",
       "      <td>0.0</td>\n",
       "      <td>0.0</td>\n",
       "      <td>...</td>\n",
       "      <td>0.0</td>\n",
       "      <td>0.0</td>\n",
       "      <td>0.0</td>\n",
       "      <td>0.0</td>\n",
       "      <td>1.0</td>\n",
       "      <td>0.0</td>\n",
       "      <td>0.0</td>\n",
       "      <td>0.0</td>\n",
       "      <td>0.0</td>\n",
       "      <td>1.0</td>\n",
       "    </tr>\n",
       "    <tr>\n",
       "      <th>A4GALT</th>\n",
       "      <td>0.0</td>\n",
       "      <td>0.0</td>\n",
       "      <td>0.0</td>\n",
       "      <td>0.0</td>\n",
       "      <td>0.0</td>\n",
       "      <td>0.0</td>\n",
       "      <td>0.0</td>\n",
       "      <td>0.0</td>\n",
       "      <td>0.0</td>\n",
       "      <td>0.0</td>\n",
       "      <td>...</td>\n",
       "      <td>0.0</td>\n",
       "      <td>0.0</td>\n",
       "      <td>0.0</td>\n",
       "      <td>0.0</td>\n",
       "      <td>0.0</td>\n",
       "      <td>0.0</td>\n",
       "      <td>0.0</td>\n",
       "      <td>0.0</td>\n",
       "      <td>0.0</td>\n",
       "      <td>0.0</td>\n",
       "    </tr>\n",
       "    <tr>\n",
       "      <th>A4GNT</th>\n",
       "      <td>0.0</td>\n",
       "      <td>-1.0</td>\n",
       "      <td>0.0</td>\n",
       "      <td>0.0</td>\n",
       "      <td>0.0</td>\n",
       "      <td>0.0</td>\n",
       "      <td>-1.0</td>\n",
       "      <td>0.0</td>\n",
       "      <td>-1.0</td>\n",
       "      <td>0.0</td>\n",
       "      <td>...</td>\n",
       "      <td>0.0</td>\n",
       "      <td>0.0</td>\n",
       "      <td>0.0</td>\n",
       "      <td>0.0</td>\n",
       "      <td>0.0</td>\n",
       "      <td>0.0</td>\n",
       "      <td>0.0</td>\n",
       "      <td>0.0</td>\n",
       "      <td>0.0</td>\n",
       "      <td>0.0</td>\n",
       "    </tr>\n",
       "    <tr>\n",
       "      <th>AAAS</th>\n",
       "      <td>-1.0</td>\n",
       "      <td>-1.0</td>\n",
       "      <td>1.0</td>\n",
       "      <td>0.0</td>\n",
       "      <td>0.0</td>\n",
       "      <td>0.0</td>\n",
       "      <td>1.0</td>\n",
       "      <td>0.0</td>\n",
       "      <td>0.0</td>\n",
       "      <td>0.0</td>\n",
       "      <td>...</td>\n",
       "      <td>0.0</td>\n",
       "      <td>0.0</td>\n",
       "      <td>0.0</td>\n",
       "      <td>-1.0</td>\n",
       "      <td>0.0</td>\n",
       "      <td>0.0</td>\n",
       "      <td>0.0</td>\n",
       "      <td>0.0</td>\n",
       "      <td>0.0</td>\n",
       "      <td>0.0</td>\n",
       "    </tr>\n",
       "  </tbody>\n",
       "</table>\n",
       "<p>5 rows × 93 columns</p>\n",
       "</div>"
      ],
      "text/plain": [
       "        786  A172  A204  A361  A498  A549  ACC3  ACHN  ALVA31  CAKI1  ...    \\\n",
       "Genes                                                                 ...     \n",
       "A1CF    0.0   0.0   0.0   0.0   0.0   0.0   0.0   0.0     0.0    0.0  ...     \n",
       "A2M     0.0   0.0   0.0   0.0   0.0   0.0   0.0   0.0     0.0    0.0  ...     \n",
       "A4GALT  0.0   0.0   0.0   0.0   0.0   0.0   0.0   0.0     0.0    0.0  ...     \n",
       "A4GNT   0.0  -1.0   0.0   0.0   0.0   0.0  -1.0   0.0    -1.0    0.0  ...     \n",
       "AAAS   -1.0  -1.0   1.0   0.0   0.0   0.0   1.0   0.0     0.0    0.0  ...     \n",
       "\n",
       "        U138  U20S  U251  U87  UACC257  UACC62  UO31  ZR75_1  astrocytes  \\\n",
       "Genes                                                                      \n",
       "A1CF     0.0   0.0   0.0  0.0      0.0     0.0   0.0     0.0         0.0   \n",
       "A2M      0.0   0.0   0.0  0.0      1.0     0.0   0.0     0.0         0.0   \n",
       "A4GALT   0.0   0.0   0.0  0.0      0.0     0.0   0.0     0.0         0.0   \n",
       "A4GNT    0.0   0.0   0.0  0.0      0.0     0.0   0.0     0.0         0.0   \n",
       "AAAS     0.0   0.0   0.0 -1.0      0.0     0.0   0.0     0.0         0.0   \n",
       "\n",
       "        huh-7  \n",
       "Genes          \n",
       "A1CF      1.0  \n",
       "A2M       1.0  \n",
       "A4GALT    0.0  \n",
       "A4GNT     0.0  \n",
       "AAAS      0.0  \n",
       "\n",
       "[5 rows x 93 columns]"
      ]
     },
     "execution_count": 39,
     "metadata": {},
     "output_type": "execute_result"
    }
   ],
   "source": [
    "tertiary_matrix.head()"
   ]
  },
  {
   "cell_type": "markdown",
   "metadata": {},
   "source": [
    "# Save Teriary Matrix"
   ]
  },
  {
   "cell_type": "code",
   "execution_count": 40,
   "metadata": {
    "collapsed": true
   },
   "outputs": [],
   "source": [
    "filename = '~/./Documents/Harmonizome/BioGPS/Output/biogps_celline_tertiary_matrix_%s.tsv.zip'% str(datetime.date.today())[0:7].replace('-', '_')\n",
    "tertiary_matrix.to_csv(filename, sep='\\t', compression='gzip')"
   ]
  },
  {
   "cell_type": "markdown",
   "metadata": {},
   "source": [
    "## Path to output files"
   ]
  },
  {
   "cell_type": "code",
   "execution_count": 41,
   "metadata": {
    "collapsed": true
   },
   "outputs": [],
   "source": [
    "path = '/Users/moshesilverstein/Documents/Harmonizome/BioGPS/Output/'"
   ]
  },
  {
   "cell_type": "markdown",
   "metadata": {},
   "source": [
    "# Create Up Gene Set Library"
   ]
  },
  {
   "cell_type": "code",
   "execution_count": 42,
   "metadata": {
    "collapsed": true
   },
   "outputs": [],
   "source": [
    "name = 'biogps_celline_gene_up_set'"
   ]
  },
  {
   "cell_type": "code",
   "execution_count": 43,
   "metadata": {},
   "outputs": [
    {
     "name": "stdout",
     "output_type": "stream",
     "text": [
      "Progeres: 100%  93 Out of 93   \r"
     ]
    }
   ],
   "source": [
    "uf.createUpGeneSetLib(tertiary_matrix, path, name)"
   ]
  },
  {
   "cell_type": "markdown",
   "metadata": {},
   "source": [
    "# Create Down Gene Set Library"
   ]
  },
  {
   "cell_type": "code",
   "execution_count": 44,
   "metadata": {
    "collapsed": true
   },
   "outputs": [],
   "source": [
    "name = 'biogps_celline_gene_down_set'"
   ]
  },
  {
   "cell_type": "code",
   "execution_count": 45,
   "metadata": {},
   "outputs": [
    {
     "name": "stdout",
     "output_type": "stream",
     "text": [
      "Progeres: 100%  93 Out of 93   \r"
     ]
    }
   ],
   "source": [
    "uf.createDownGeneSetLib(tertiary_matrix, path, name)"
   ]
  },
  {
   "cell_type": "markdown",
   "metadata": {},
   "source": [
    "# Create Up Attribute Library"
   ]
  },
  {
   "cell_type": "code",
   "execution_count": 46,
   "metadata": {
    "collapsed": true
   },
   "outputs": [],
   "source": [
    "name = 'biogps_celline_attribute_up_set'"
   ]
  },
  {
   "cell_type": "code",
   "execution_count": 47,
   "metadata": {},
   "outputs": [
    {
     "name": "stdout",
     "output_type": "stream",
     "text": [
      "Progeres: 100%  12296 Out of 12296   \r"
     ]
    }
   ],
   "source": [
    "uf.createUpAttributeSetLib(tertiary_matrix, path, name)"
   ]
  },
  {
   "cell_type": "markdown",
   "metadata": {},
   "source": [
    "# Create Down Attribute Library"
   ]
  },
  {
   "cell_type": "code",
   "execution_count": 48,
   "metadata": {
    "collapsed": true
   },
   "outputs": [],
   "source": [
    "name = 'biogps_tissue_attribute_down_set'"
   ]
  },
  {
   "cell_type": "code",
   "execution_count": 49,
   "metadata": {},
   "outputs": [
    {
     "name": "stdout",
     "output_type": "stream",
     "text": [
      "Progeres: 100%  12296 Out of 12296   \r"
     ]
    }
   ],
   "source": [
    "uf.createDownAttributeSetLib(tertiary_matrix, path, name)"
   ]
  },
  {
   "cell_type": "markdown",
   "metadata": {},
   "source": [
    "# Create Gene Similarity Matrix"
   ]
  },
  {
   "cell_type": "code",
   "execution_count": 50,
   "metadata": {
    "collapsed": true
   },
   "outputs": [],
   "source": [
    "gene_similarity_matix = uf.createSimilarityMatrix(normalized_matrix, 'cosine')"
   ]
  },
  {
   "cell_type": "code",
   "execution_count": 51,
   "metadata": {},
   "outputs": [
    {
     "data": {
      "text/html": [
       "<div>\n",
       "<table border=\"1\" class=\"dataframe\">\n",
       "  <thead>\n",
       "    <tr style=\"text-align: right;\">\n",
       "      <th>Genes</th>\n",
       "      <th>A1CF</th>\n",
       "      <th>A2M</th>\n",
       "      <th>A4GALT</th>\n",
       "      <th>A4GNT</th>\n",
       "      <th>AAAS</th>\n",
       "      <th>AACS</th>\n",
       "      <th>AADAC</th>\n",
       "      <th>AAGAB</th>\n",
       "      <th>AAK1</th>\n",
       "      <th>AAMDC</th>\n",
       "      <th>...</th>\n",
       "      <th>ZSWIM1</th>\n",
       "      <th>ZSWIM8</th>\n",
       "      <th>ZW10</th>\n",
       "      <th>ZWILCH</th>\n",
       "      <th>ZWINT</th>\n",
       "      <th>ZXDB</th>\n",
       "      <th>ZXDC</th>\n",
       "      <th>ZYX</th>\n",
       "      <th>ZZEF1</th>\n",
       "      <th>ZZZ3</th>\n",
       "    </tr>\n",
       "    <tr>\n",
       "      <th>Genes</th>\n",
       "      <th></th>\n",
       "      <th></th>\n",
       "      <th></th>\n",
       "      <th></th>\n",
       "      <th></th>\n",
       "      <th></th>\n",
       "      <th></th>\n",
       "      <th></th>\n",
       "      <th></th>\n",
       "      <th></th>\n",
       "      <th></th>\n",
       "      <th></th>\n",
       "      <th></th>\n",
       "      <th></th>\n",
       "      <th></th>\n",
       "      <th></th>\n",
       "      <th></th>\n",
       "      <th></th>\n",
       "      <th></th>\n",
       "      <th></th>\n",
       "      <th></th>\n",
       "    </tr>\n",
       "  </thead>\n",
       "  <tbody>\n",
       "    <tr>\n",
       "      <th>A1CF</th>\n",
       "      <td>1.000000</td>\n",
       "      <td>0.349482</td>\n",
       "      <td>-0.011640</td>\n",
       "      <td>-0.038098</td>\n",
       "      <td>0.111974</td>\n",
       "      <td>0.154710</td>\n",
       "      <td>0.353846</td>\n",
       "      <td>-0.054673</td>\n",
       "      <td>0.163281</td>\n",
       "      <td>-0.023838</td>\n",
       "      <td>...</td>\n",
       "      <td>-0.045186</td>\n",
       "      <td>0.007094</td>\n",
       "      <td>0.015812</td>\n",
       "      <td>-0.050293</td>\n",
       "      <td>0.171455</td>\n",
       "      <td>-0.039292</td>\n",
       "      <td>0.338792</td>\n",
       "      <td>-0.040618</td>\n",
       "      <td>-0.091918</td>\n",
       "      <td>-0.104068</td>\n",
       "    </tr>\n",
       "    <tr>\n",
       "      <th>A2M</th>\n",
       "      <td>0.349482</td>\n",
       "      <td>1.000000</td>\n",
       "      <td>-0.039664</td>\n",
       "      <td>-0.137902</td>\n",
       "      <td>-0.040096</td>\n",
       "      <td>-0.062617</td>\n",
       "      <td>0.081050</td>\n",
       "      <td>-0.215253</td>\n",
       "      <td>0.129757</td>\n",
       "      <td>-0.141014</td>\n",
       "      <td>...</td>\n",
       "      <td>-0.101278</td>\n",
       "      <td>0.010064</td>\n",
       "      <td>-0.179585</td>\n",
       "      <td>-0.230800</td>\n",
       "      <td>-0.181112</td>\n",
       "      <td>-0.062468</td>\n",
       "      <td>0.034253</td>\n",
       "      <td>-0.069920</td>\n",
       "      <td>-0.125870</td>\n",
       "      <td>0.239089</td>\n",
       "    </tr>\n",
       "    <tr>\n",
       "      <th>A4GALT</th>\n",
       "      <td>-0.011640</td>\n",
       "      <td>-0.039664</td>\n",
       "      <td>1.000000</td>\n",
       "      <td>0.078319</td>\n",
       "      <td>0.211662</td>\n",
       "      <td>-0.091620</td>\n",
       "      <td>-0.022903</td>\n",
       "      <td>-0.016431</td>\n",
       "      <td>-0.089542</td>\n",
       "      <td>-0.119280</td>\n",
       "      <td>...</td>\n",
       "      <td>0.661186</td>\n",
       "      <td>0.200741</td>\n",
       "      <td>-0.064096</td>\n",
       "      <td>-0.183731</td>\n",
       "      <td>-0.096633</td>\n",
       "      <td>-0.053158</td>\n",
       "      <td>-0.079646</td>\n",
       "      <td>-0.087568</td>\n",
       "      <td>0.059166</td>\n",
       "      <td>-0.122521</td>\n",
       "    </tr>\n",
       "    <tr>\n",
       "      <th>A4GNT</th>\n",
       "      <td>-0.038098</td>\n",
       "      <td>-0.137902</td>\n",
       "      <td>0.078319</td>\n",
       "      <td>1.000000</td>\n",
       "      <td>0.131649</td>\n",
       "      <td>-0.013222</td>\n",
       "      <td>-0.038887</td>\n",
       "      <td>0.007008</td>\n",
       "      <td>0.001814</td>\n",
       "      <td>-0.058061</td>\n",
       "      <td>...</td>\n",
       "      <td>-0.019681</td>\n",
       "      <td>-0.210875</td>\n",
       "      <td>0.141194</td>\n",
       "      <td>0.101721</td>\n",
       "      <td>0.055369</td>\n",
       "      <td>-0.171831</td>\n",
       "      <td>0.065789</td>\n",
       "      <td>0.036849</td>\n",
       "      <td>0.090574</td>\n",
       "      <td>-0.132059</td>\n",
       "    </tr>\n",
       "    <tr>\n",
       "      <th>AAAS</th>\n",
       "      <td>0.111974</td>\n",
       "      <td>-0.040096</td>\n",
       "      <td>0.211662</td>\n",
       "      <td>0.131649</td>\n",
       "      <td>1.000000</td>\n",
       "      <td>-0.036658</td>\n",
       "      <td>-0.048788</td>\n",
       "      <td>0.014603</td>\n",
       "      <td>-0.190564</td>\n",
       "      <td>-0.124335</td>\n",
       "      <td>...</td>\n",
       "      <td>0.181602</td>\n",
       "      <td>0.495289</td>\n",
       "      <td>-0.011923</td>\n",
       "      <td>0.248281</td>\n",
       "      <td>0.320160</td>\n",
       "      <td>0.219163</td>\n",
       "      <td>0.120166</td>\n",
       "      <td>-0.104526</td>\n",
       "      <td>0.205333</td>\n",
       "      <td>-0.485404</td>\n",
       "    </tr>\n",
       "  </tbody>\n",
       "</table>\n",
       "<p>5 rows × 12296 columns</p>\n",
       "</div>"
      ],
      "text/plain": [
       "Genes       A1CF       A2M    A4GALT     A4GNT      AAAS      AACS     AADAC  \\\n",
       "Genes                                                                          \n",
       "A1CF    1.000000  0.349482 -0.011640 -0.038098  0.111974  0.154710  0.353846   \n",
       "A2M     0.349482  1.000000 -0.039664 -0.137902 -0.040096 -0.062617  0.081050   \n",
       "A4GALT -0.011640 -0.039664  1.000000  0.078319  0.211662 -0.091620 -0.022903   \n",
       "A4GNT  -0.038098 -0.137902  0.078319  1.000000  0.131649 -0.013222 -0.038887   \n",
       "AAAS    0.111974 -0.040096  0.211662  0.131649  1.000000 -0.036658 -0.048788   \n",
       "\n",
       "Genes      AAGAB      AAK1     AAMDC    ...       ZSWIM1    ZSWIM8      ZW10  \\\n",
       "Genes                                   ...                                    \n",
       "A1CF   -0.054673  0.163281 -0.023838    ...    -0.045186  0.007094  0.015812   \n",
       "A2M    -0.215253  0.129757 -0.141014    ...    -0.101278  0.010064 -0.179585   \n",
       "A4GALT -0.016431 -0.089542 -0.119280    ...     0.661186  0.200741 -0.064096   \n",
       "A4GNT   0.007008  0.001814 -0.058061    ...    -0.019681 -0.210875  0.141194   \n",
       "AAAS    0.014603 -0.190564 -0.124335    ...     0.181602  0.495289 -0.011923   \n",
       "\n",
       "Genes     ZWILCH     ZWINT      ZXDB      ZXDC       ZYX     ZZEF1      ZZZ3  \n",
       "Genes                                                                         \n",
       "A1CF   -0.050293  0.171455 -0.039292  0.338792 -0.040618 -0.091918 -0.104068  \n",
       "A2M    -0.230800 -0.181112 -0.062468  0.034253 -0.069920 -0.125870  0.239089  \n",
       "A4GALT -0.183731 -0.096633 -0.053158 -0.079646 -0.087568  0.059166 -0.122521  \n",
       "A4GNT   0.101721  0.055369 -0.171831  0.065789  0.036849  0.090574 -0.132059  \n",
       "AAAS    0.248281  0.320160  0.219163  0.120166 -0.104526  0.205333 -0.485404  \n",
       "\n",
       "[5 rows x 12296 columns]"
      ]
     },
     "execution_count": 51,
     "metadata": {},
     "output_type": "execute_result"
    }
   ],
   "source": [
    "gene_similarity_matix.head()"
   ]
  },
  {
   "cell_type": "markdown",
   "metadata": {},
   "source": [
    "# Save Gene Similarity Matrix "
   ]
  },
  {
   "cell_type": "code",
   "execution_count": 52,
   "metadata": {},
   "outputs": [],
   "source": [
    "filename = '~/./Documents/Harmonizome/BioGPS/Output/biogps_celline_gene_similarity_matix_%s.tsv.zip'% str(datetime.date.today())[0:7].replace('-', '_')\n",
    "gene_similarity_matix.to_csv(filename, sep='\\t', compression='gzip')"
   ]
  },
  {
   "cell_type": "markdown",
   "metadata": {},
   "source": [
    "# Create Attribute Similarity matrix"
   ]
  },
  {
   "cell_type": "code",
   "execution_count": 53,
   "metadata": {
    "collapsed": true
   },
   "outputs": [],
   "source": [
    "attribute_similarity_matix = uf.createSimilarityMatrix(normalized_matrix.T, 'cosine')"
   ]
  },
  {
   "cell_type": "code",
   "execution_count": 54,
   "metadata": {},
   "outputs": [
    {
     "data": {
      "text/html": [
       "<div>\n",
       "<table border=\"1\" class=\"dataframe\">\n",
       "  <thead>\n",
       "    <tr style=\"text-align: right;\">\n",
       "      <th></th>\n",
       "      <th>786</th>\n",
       "      <th>A172</th>\n",
       "      <th>A204</th>\n",
       "      <th>A361</th>\n",
       "      <th>A498</th>\n",
       "      <th>A549</th>\n",
       "      <th>ACC3</th>\n",
       "      <th>ACHN</th>\n",
       "      <th>ALVA31</th>\n",
       "      <th>CAKI1</th>\n",
       "      <th>...</th>\n",
       "      <th>U138</th>\n",
       "      <th>U20S</th>\n",
       "      <th>U251</th>\n",
       "      <th>U87</th>\n",
       "      <th>UACC257</th>\n",
       "      <th>UACC62</th>\n",
       "      <th>UO31</th>\n",
       "      <th>ZR75_1</th>\n",
       "      <th>astrocytes</th>\n",
       "      <th>huh-7</th>\n",
       "    </tr>\n",
       "  </thead>\n",
       "  <tbody>\n",
       "    <tr>\n",
       "      <th>786</th>\n",
       "      <td>1.000000</td>\n",
       "      <td>-0.136167</td>\n",
       "      <td>-0.110364</td>\n",
       "      <td>-0.073712</td>\n",
       "      <td>0.262267</td>\n",
       "      <td>0.176930</td>\n",
       "      <td>-0.101618</td>\n",
       "      <td>-0.019178</td>\n",
       "      <td>0.100220</td>\n",
       "      <td>0.275175</td>\n",
       "      <td>...</td>\n",
       "      <td>-0.062546</td>\n",
       "      <td>-0.088654</td>\n",
       "      <td>0.040393</td>\n",
       "      <td>0.008710</td>\n",
       "      <td>-0.137433</td>\n",
       "      <td>-0.089766</td>\n",
       "      <td>0.233834</td>\n",
       "      <td>-0.094403</td>\n",
       "      <td>-0.094710</td>\n",
       "      <td>-0.016141</td>\n",
       "    </tr>\n",
       "    <tr>\n",
       "      <th>A172</th>\n",
       "      <td>-0.136167</td>\n",
       "      <td>1.000000</td>\n",
       "      <td>-0.034111</td>\n",
       "      <td>0.003763</td>\n",
       "      <td>0.103223</td>\n",
       "      <td>-0.007913</td>\n",
       "      <td>-0.060479</td>\n",
       "      <td>0.156034</td>\n",
       "      <td>-0.185432</td>\n",
       "      <td>-0.004094</td>\n",
       "      <td>...</td>\n",
       "      <td>0.256474</td>\n",
       "      <td>0.021621</td>\n",
       "      <td>0.021778</td>\n",
       "      <td>0.298232</td>\n",
       "      <td>0.062759</td>\n",
       "      <td>0.034749</td>\n",
       "      <td>-0.012675</td>\n",
       "      <td>-0.064519</td>\n",
       "      <td>0.176081</td>\n",
       "      <td>-0.049924</td>\n",
       "    </tr>\n",
       "    <tr>\n",
       "      <th>A204</th>\n",
       "      <td>-0.110364</td>\n",
       "      <td>-0.034111</td>\n",
       "      <td>1.000000</td>\n",
       "      <td>-0.010593</td>\n",
       "      <td>-0.056420</td>\n",
       "      <td>0.009572</td>\n",
       "      <td>0.052724</td>\n",
       "      <td>-0.045299</td>\n",
       "      <td>-0.019114</td>\n",
       "      <td>-0.068758</td>\n",
       "      <td>...</td>\n",
       "      <td>-0.011088</td>\n",
       "      <td>-0.033322</td>\n",
       "      <td>-0.034654</td>\n",
       "      <td>-0.068259</td>\n",
       "      <td>-0.038057</td>\n",
       "      <td>-0.000931</td>\n",
       "      <td>-0.101301</td>\n",
       "      <td>0.071975</td>\n",
       "      <td>0.007059</td>\n",
       "      <td>-0.029536</td>\n",
       "    </tr>\n",
       "    <tr>\n",
       "      <th>A361</th>\n",
       "      <td>-0.073712</td>\n",
       "      <td>0.003763</td>\n",
       "      <td>-0.010593</td>\n",
       "      <td>1.000000</td>\n",
       "      <td>0.034394</td>\n",
       "      <td>-0.020949</td>\n",
       "      <td>-0.043275</td>\n",
       "      <td>0.009113</td>\n",
       "      <td>-0.066597</td>\n",
       "      <td>-0.029386</td>\n",
       "      <td>...</td>\n",
       "      <td>-0.000368</td>\n",
       "      <td>-0.045050</td>\n",
       "      <td>-0.006899</td>\n",
       "      <td>0.017027</td>\n",
       "      <td>0.272316</td>\n",
       "      <td>0.245206</td>\n",
       "      <td>-0.037218</td>\n",
       "      <td>-0.038677</td>\n",
       "      <td>-0.027006</td>\n",
       "      <td>-0.047109</td>\n",
       "    </tr>\n",
       "    <tr>\n",
       "      <th>A498</th>\n",
       "      <td>0.262267</td>\n",
       "      <td>0.103223</td>\n",
       "      <td>-0.056420</td>\n",
       "      <td>0.034394</td>\n",
       "      <td>1.000000</td>\n",
       "      <td>0.181834</td>\n",
       "      <td>-0.061225</td>\n",
       "      <td>0.130878</td>\n",
       "      <td>-0.038455</td>\n",
       "      <td>0.218491</td>\n",
       "      <td>...</td>\n",
       "      <td>0.000334</td>\n",
       "      <td>-0.041593</td>\n",
       "      <td>0.114002</td>\n",
       "      <td>0.057076</td>\n",
       "      <td>-0.075570</td>\n",
       "      <td>-0.015797</td>\n",
       "      <td>0.124008</td>\n",
       "      <td>-0.079305</td>\n",
       "      <td>-0.025236</td>\n",
       "      <td>-0.069481</td>\n",
       "    </tr>\n",
       "  </tbody>\n",
       "</table>\n",
       "<p>5 rows × 93 columns</p>\n",
       "</div>"
      ],
      "text/plain": [
       "           786      A172      A204      A361      A498      A549      ACC3  \\\n",
       "786   1.000000 -0.136167 -0.110364 -0.073712  0.262267  0.176930 -0.101618   \n",
       "A172 -0.136167  1.000000 -0.034111  0.003763  0.103223 -0.007913 -0.060479   \n",
       "A204 -0.110364 -0.034111  1.000000 -0.010593 -0.056420  0.009572  0.052724   \n",
       "A361 -0.073712  0.003763 -0.010593  1.000000  0.034394 -0.020949 -0.043275   \n",
       "A498  0.262267  0.103223 -0.056420  0.034394  1.000000  0.181834 -0.061225   \n",
       "\n",
       "          ACHN    ALVA31     CAKI1    ...         U138      U20S      U251  \\\n",
       "786  -0.019178  0.100220  0.275175    ...    -0.062546 -0.088654  0.040393   \n",
       "A172  0.156034 -0.185432 -0.004094    ...     0.256474  0.021621  0.021778   \n",
       "A204 -0.045299 -0.019114 -0.068758    ...    -0.011088 -0.033322 -0.034654   \n",
       "A361  0.009113 -0.066597 -0.029386    ...    -0.000368 -0.045050 -0.006899   \n",
       "A498  0.130878 -0.038455  0.218491    ...     0.000334 -0.041593  0.114002   \n",
       "\n",
       "           U87   UACC257    UACC62      UO31    ZR75_1  astrocytes     huh-7  \n",
       "786   0.008710 -0.137433 -0.089766  0.233834 -0.094403   -0.094710 -0.016141  \n",
       "A172  0.298232  0.062759  0.034749 -0.012675 -0.064519    0.176081 -0.049924  \n",
       "A204 -0.068259 -0.038057 -0.000931 -0.101301  0.071975    0.007059 -0.029536  \n",
       "A361  0.017027  0.272316  0.245206 -0.037218 -0.038677   -0.027006 -0.047109  \n",
       "A498  0.057076 -0.075570 -0.015797  0.124008 -0.079305   -0.025236 -0.069481  \n",
       "\n",
       "[5 rows x 93 columns]"
      ]
     },
     "execution_count": 54,
     "metadata": {},
     "output_type": "execute_result"
    }
   ],
   "source": [
    "attribute_similarity_matix.head()"
   ]
  },
  {
   "cell_type": "markdown",
   "metadata": {},
   "source": [
    "# Save Attribute Similarity Matrix"
   ]
  },
  {
   "cell_type": "code",
   "execution_count": 55,
   "metadata": {
    "collapsed": true
   },
   "outputs": [],
   "source": [
    "filename = '~/./Documents/Harmonizome/BioGPS/Output/biogps_celline_attribute_similarity_matix_%s.tsv.zip'% str(datetime.date.today())[0:7].replace('-', '_')\n",
    "attribute_similarity_matix.to_csv(filename, sep='\\t', compression='gzip')"
   ]
  },
  {
   "cell_type": "markdown",
   "metadata": {},
   "source": [
    "# Create Gene List"
   ]
  },
  {
   "cell_type": "code",
   "execution_count": 59,
   "metadata": {},
   "outputs": [
    {
     "name": "stdout",
     "output_type": "stream",
     "text": [
      "Progeres: 100%  12296 Out of 12296   \r"
     ]
    }
   ],
   "source": [
    "gene_list = uf.createGeneList(normalized_matrix)"
   ]
  },
  {
   "cell_type": "code",
   "execution_count": 60,
   "metadata": {},
   "outputs": [
    {
     "data": {
      "text/html": [
       "<div>\n",
       "<table border=\"1\" class=\"dataframe\">\n",
       "  <thead>\n",
       "    <tr style=\"text-align: right;\">\n",
       "      <th></th>\n",
       "      <th>GeneSym</th>\n",
       "      <th>GeneID</th>\n",
       "    </tr>\n",
       "  </thead>\n",
       "  <tbody>\n",
       "    <tr>\n",
       "      <th>0</th>\n",
       "      <td>A1CF</td>\n",
       "      <td>29974</td>\n",
       "    </tr>\n",
       "    <tr>\n",
       "      <th>1</th>\n",
       "      <td>A2M</td>\n",
       "      <td>2</td>\n",
       "    </tr>\n",
       "    <tr>\n",
       "      <th>2</th>\n",
       "      <td>A4GALT</td>\n",
       "      <td>53947</td>\n",
       "    </tr>\n",
       "    <tr>\n",
       "      <th>3</th>\n",
       "      <td>A4GNT</td>\n",
       "      <td>51146</td>\n",
       "    </tr>\n",
       "    <tr>\n",
       "      <th>4</th>\n",
       "      <td>AAAS</td>\n",
       "      <td>8086</td>\n",
       "    </tr>\n",
       "  </tbody>\n",
       "</table>\n",
       "</div>"
      ],
      "text/plain": [
       "  GeneSym GeneID\n",
       "0    A1CF  29974\n",
       "1     A2M      2\n",
       "2  A4GALT  53947\n",
       "3   A4GNT  51146\n",
       "4    AAAS   8086"
      ]
     },
     "execution_count": 60,
     "metadata": {},
     "output_type": "execute_result"
    }
   ],
   "source": [
    "gene_list.head()"
   ]
  },
  {
   "cell_type": "code",
   "execution_count": 61,
   "metadata": {},
   "outputs": [
    {
     "data": {
      "text/plain": [
       "(12296, 2)"
      ]
     },
     "execution_count": 61,
     "metadata": {},
     "output_type": "execute_result"
    }
   ],
   "source": [
    "gene_list.shape"
   ]
  },
  {
   "cell_type": "markdown",
   "metadata": {},
   "source": [
    "# Save Gene List"
   ]
  },
  {
   "cell_type": "code",
   "execution_count": 62,
   "metadata": {
    "collapsed": true
   },
   "outputs": [],
   "source": [
    "filename = '~/./Documents/Harmonizome/BioGPS/Output/biogps_celline_gene_list_%s.tsv.zip'% str(datetime.date.today())[0:7].replace('-', '_')\n",
    "gene_list.to_csv(filename, sep='\\t', index=False, compression='gzip')"
   ]
  },
  {
   "cell_type": "markdown",
   "metadata": {},
   "source": [
    "# Create Attribute List "
   ]
  },
  {
   "cell_type": "code",
   "execution_count": 63,
   "metadata": {
    "collapsed": true
   },
   "outputs": [],
   "source": [
    "attribute_list = uf.createAttributeList(normalized_matrix)"
   ]
  },
  {
   "cell_type": "code",
   "execution_count": 64,
   "metadata": {},
   "outputs": [
    {
     "data": {
      "text/html": [
       "<div>\n",
       "<table border=\"1\" class=\"dataframe\">\n",
       "  <thead>\n",
       "    <tr style=\"text-align: right;\">\n",
       "      <th></th>\n",
       "      <th>Attributes</th>\n",
       "    </tr>\n",
       "  </thead>\n",
       "  <tbody>\n",
       "    <tr>\n",
       "      <th>0</th>\n",
       "      <td>786</td>\n",
       "    </tr>\n",
       "    <tr>\n",
       "      <th>1</th>\n",
       "      <td>A172</td>\n",
       "    </tr>\n",
       "    <tr>\n",
       "      <th>2</th>\n",
       "      <td>A204</td>\n",
       "    </tr>\n",
       "    <tr>\n",
       "      <th>3</th>\n",
       "      <td>A361</td>\n",
       "    </tr>\n",
       "    <tr>\n",
       "      <th>4</th>\n",
       "      <td>A498</td>\n",
       "    </tr>\n",
       "  </tbody>\n",
       "</table>\n",
       "</div>"
      ],
      "text/plain": [
       "  Attributes\n",
       "0        786\n",
       "1       A172\n",
       "2       A204\n",
       "3       A361\n",
       "4       A498"
      ]
     },
     "execution_count": 64,
     "metadata": {},
     "output_type": "execute_result"
    }
   ],
   "source": [
    "attribute_list.head()"
   ]
  },
  {
   "cell_type": "code",
   "execution_count": 65,
   "metadata": {},
   "outputs": [
    {
     "data": {
      "text/plain": [
       "(93, 1)"
      ]
     },
     "execution_count": 65,
     "metadata": {},
     "output_type": "execute_result"
    }
   ],
   "source": [
    "attribute_list.shape"
   ]
  },
  {
   "cell_type": "markdown",
   "metadata": {},
   "source": [
    "# Save Attribute List"
   ]
  },
  {
   "cell_type": "code",
   "execution_count": 66,
   "metadata": {
    "collapsed": true
   },
   "outputs": [],
   "source": [
    "filename = '~/./Documents/Harmonizome/BioGPS/Output/biogps_celline_attribute_list_%s.tsv.zip'% str(datetime.date.today())[0:7].replace('-', '_')\n",
    "attribute_list.to_csv(filename, sep='\\t', index=False, compression='gzip')"
   ]
  },
  {
   "cell_type": "markdown",
   "metadata": {},
   "source": [
    "# Create Gene-Attribute Edge List"
   ]
  },
  {
   "cell_type": "code",
   "execution_count": 67,
   "metadata": {
    "collapsed": true
   },
   "outputs": [],
   "source": [
    "path = '/Users/moshesilverstein/Documents/Harmonizome/BioGPS/Output/'"
   ]
  },
  {
   "cell_type": "code",
   "execution_count": 68,
   "metadata": {
    "collapsed": true
   },
   "outputs": [],
   "source": [
    "name = 'biogps_celline_gene_attribute_edge_list'"
   ]
  },
  {
   "cell_type": "code",
   "execution_count": 69,
   "metadata": {},
   "outputs": [
    {
     "name": "stdout",
     "output_type": "stream",
     "text": [
      "Progeres: 100%  93 Out of 93   \n",
      "\n",
      " The number of statisticaly relevent gene-attribute associations is: 228687\n"
     ]
    }
   ],
   "source": [
    "uf.createGeneAttributeEdgeList(tertiary_matrix, gene_list, path, name)"
   ]
  }
 ],
 "metadata": {
  "kernelspec": {
   "display_name": "Python [default]",
   "language": "python",
   "name": "python3"
  },
  "language_info": {
   "codemirror_mode": {
    "name": "ipython",
    "version": 3
   },
   "file_extension": ".py",
   "mimetype": "text/x-python",
   "name": "python",
   "nbconvert_exporter": "python",
   "pygments_lexer": "ipython3",
   "version": "3.5.2"
  }
 },
 "nbformat": 4,
 "nbformat_minor": 2
}
