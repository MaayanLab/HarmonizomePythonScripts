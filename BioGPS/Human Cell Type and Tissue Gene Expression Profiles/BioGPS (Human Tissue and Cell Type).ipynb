{
 "cells": [
  {
   "cell_type": "markdown",
   "metadata": {},
   "source": [
    "# BioGPS (Human Tissue and Cell Type)"
   ]
  },
  {
   "cell_type": "markdown",
   "metadata": {},
   "source": [
    "Author: Moshe Silverstein <br/>\n",
    "Date: 8-17 <br/>\n",
    "Data Source: http://biogps.org/#goto=welcome"
   ]
  },
  {
   "cell_type": "code",
   "execution_count": 1,
   "metadata": {
    "collapsed": true
   },
   "outputs": [],
   "source": [
    "import sys, datetime, os\n",
    "import numpy as np\n",
    "import pandas as pd\n",
    "import importlib\n",
    "import untility_functions as uf\n",
    "%matplotlib inline"
   ]
  },
  {
   "cell_type": "code",
   "execution_count": 2,
   "metadata": {},
   "outputs": [
    {
     "data": {
      "text/plain": [
       "<module 'untility_functions' from '/Users/moshesilverstein/Documents/Harmonizome/BioGPS/untility_functions.py'>"
      ]
     },
     "execution_count": 2,
     "metadata": {},
     "output_type": "execute_result"
    }
   ],
   "source": [
    "importlib.reload(uf)"
   ]
  },
  {
   "cell_type": "markdown",
   "metadata": {},
   "source": [
    "# Load Data"
   ]
  },
  {
   "cell_type": "code",
   "execution_count": 3,
   "metadata": {
    "collapsed": true
   },
   "outputs": [],
   "source": [
    "matrix = pd.read_csv('/Users/moshesilverstein/Documents/Harmonizome/BioGPS/Human U133A-GNF1H Gene Atlas/U133AGNF1B.gcrma.csv', sep=',')"
   ]
  },
  {
   "cell_type": "code",
   "execution_count": 4,
   "metadata": {},
   "outputs": [
    {
     "data": {
      "text/html": [
       "<div>\n",
       "<table border=\"1\" class=\"dataframe\">\n",
       "  <thead>\n",
       "    <tr style=\"text-align: right;\">\n",
       "      <th></th>\n",
       "      <th>Unnamed: 0</th>\n",
       "      <th>721_B_lymphoblasts</th>\n",
       "      <th>721_B_lymphoblasts.1</th>\n",
       "      <th>Adipocyte</th>\n",
       "      <th>Adipocyte.1</th>\n",
       "      <th>AdrenalCortex</th>\n",
       "      <th>AdrenalCortex.1</th>\n",
       "      <th>Adrenalgland</th>\n",
       "      <th>Adrenalgland.1</th>\n",
       "      <th>Amygdala</th>\n",
       "      <th>...</th>\n",
       "      <th>pineal_night.1</th>\n",
       "      <th>pineal_night.2</th>\n",
       "      <th>pineal_night.3</th>\n",
       "      <th>pineal_night.4</th>\n",
       "      <th>retina</th>\n",
       "      <th>retina.1</th>\n",
       "      <th>retina.2</th>\n",
       "      <th>retina.3</th>\n",
       "      <th>small_intestine</th>\n",
       "      <th>small_intestine.1</th>\n",
       "    </tr>\n",
       "  </thead>\n",
       "  <tbody>\n",
       "    <tr>\n",
       "      <th>0</th>\n",
       "      <td>1007_s_at</td>\n",
       "      <td>167.8</td>\n",
       "      <td>106.2</td>\n",
       "      <td>31.6</td>\n",
       "      <td>30.6</td>\n",
       "      <td>61.2</td>\n",
       "      <td>45.4</td>\n",
       "      <td>98.0</td>\n",
       "      <td>64.4</td>\n",
       "      <td>401.6</td>\n",
       "      <td>...</td>\n",
       "      <td>543.3</td>\n",
       "      <td>182.5</td>\n",
       "      <td>134.4</td>\n",
       "      <td>117.3</td>\n",
       "      <td>1307.4</td>\n",
       "      <td>1530.6</td>\n",
       "      <td>335.0</td>\n",
       "      <td>349.7</td>\n",
       "      <td>134.2</td>\n",
       "      <td>202.1</td>\n",
       "    </tr>\n",
       "    <tr>\n",
       "      <th>1</th>\n",
       "      <td>1053_at</td>\n",
       "      <td>69.7</td>\n",
       "      <td>93.8</td>\n",
       "      <td>7.9</td>\n",
       "      <td>6.8</td>\n",
       "      <td>9.6</td>\n",
       "      <td>8.2</td>\n",
       "      <td>6.8</td>\n",
       "      <td>7.6</td>\n",
       "      <td>6.4</td>\n",
       "      <td>...</td>\n",
       "      <td>7.8</td>\n",
       "      <td>9.4</td>\n",
       "      <td>8.2</td>\n",
       "      <td>7.4</td>\n",
       "      <td>7.0</td>\n",
       "      <td>9.7</td>\n",
       "      <td>11.2</td>\n",
       "      <td>11.7</td>\n",
       "      <td>7.1</td>\n",
       "      <td>9.9</td>\n",
       "    </tr>\n",
       "    <tr>\n",
       "      <th>2</th>\n",
       "      <td>117_at</td>\n",
       "      <td>12.6</td>\n",
       "      <td>12.5</td>\n",
       "      <td>10.7</td>\n",
       "      <td>10.5</td>\n",
       "      <td>12.3</td>\n",
       "      <td>15.7</td>\n",
       "      <td>9.5</td>\n",
       "      <td>10.2</td>\n",
       "      <td>6.6</td>\n",
       "      <td>...</td>\n",
       "      <td>11.9</td>\n",
       "      <td>13.2</td>\n",
       "      <td>11.9</td>\n",
       "      <td>10.9</td>\n",
       "      <td>12.7</td>\n",
       "      <td>12.5</td>\n",
       "      <td>13.2</td>\n",
       "      <td>13.5</td>\n",
       "      <td>8.0</td>\n",
       "      <td>11.0</td>\n",
       "    </tr>\n",
       "    <tr>\n",
       "      <th>3</th>\n",
       "      <td>121_at</td>\n",
       "      <td>14.9</td>\n",
       "      <td>11.1</td>\n",
       "      <td>13.1</td>\n",
       "      <td>16.0</td>\n",
       "      <td>16.2</td>\n",
       "      <td>12.0</td>\n",
       "      <td>15.5</td>\n",
       "      <td>11.9</td>\n",
       "      <td>10.5</td>\n",
       "      <td>...</td>\n",
       "      <td>17.0</td>\n",
       "      <td>14.9</td>\n",
       "      <td>19.6</td>\n",
       "      <td>14.7</td>\n",
       "      <td>18.4</td>\n",
       "      <td>30.4</td>\n",
       "      <td>17.7</td>\n",
       "      <td>17.5</td>\n",
       "      <td>7.7</td>\n",
       "      <td>9.5</td>\n",
       "    </tr>\n",
       "    <tr>\n",
       "      <th>4</th>\n",
       "      <td>1255_g_at</td>\n",
       "      <td>5.5</td>\n",
       "      <td>5.4</td>\n",
       "      <td>4.8</td>\n",
       "      <td>4.2</td>\n",
       "      <td>5.7</td>\n",
       "      <td>4.3</td>\n",
       "      <td>3.8</td>\n",
       "      <td>4.1</td>\n",
       "      <td>3.3</td>\n",
       "      <td>...</td>\n",
       "      <td>545.1</td>\n",
       "      <td>590.7</td>\n",
       "      <td>37.0</td>\n",
       "      <td>158.9</td>\n",
       "      <td>4.3</td>\n",
       "      <td>5.4</td>\n",
       "      <td>2293.6</td>\n",
       "      <td>2155.1</td>\n",
       "      <td>3.7</td>\n",
       "      <td>5.2</td>\n",
       "    </tr>\n",
       "  </tbody>\n",
       "</table>\n",
       "<p>5 rows × 177 columns</p>\n",
       "</div>"
      ],
      "text/plain": [
       "  Unnamed: 0  721_B_lymphoblasts  721_B_lymphoblasts.1  Adipocyte  \\\n",
       "0  1007_s_at               167.8                 106.2       31.6   \n",
       "1    1053_at                69.7                  93.8        7.9   \n",
       "2     117_at                12.6                  12.5       10.7   \n",
       "3     121_at                14.9                  11.1       13.1   \n",
       "4  1255_g_at                 5.5                   5.4        4.8   \n",
       "\n",
       "   Adipocyte.1  AdrenalCortex  AdrenalCortex.1  Adrenalgland  Adrenalgland.1  \\\n",
       "0         30.6           61.2             45.4          98.0            64.4   \n",
       "1          6.8            9.6              8.2           6.8             7.6   \n",
       "2         10.5           12.3             15.7           9.5            10.2   \n",
       "3         16.0           16.2             12.0          15.5            11.9   \n",
       "4          4.2            5.7              4.3           3.8             4.1   \n",
       "\n",
       "   Amygdala        ...          pineal_night.1  pineal_night.2  \\\n",
       "0     401.6        ...                   543.3           182.5   \n",
       "1       6.4        ...                     7.8             9.4   \n",
       "2       6.6        ...                    11.9            13.2   \n",
       "3      10.5        ...                    17.0            14.9   \n",
       "4       3.3        ...                   545.1           590.7   \n",
       "\n",
       "   pineal_night.3  pineal_night.4  retina  retina.1  retina.2  retina.3  \\\n",
       "0           134.4           117.3  1307.4    1530.6     335.0     349.7   \n",
       "1             8.2             7.4     7.0       9.7      11.2      11.7   \n",
       "2            11.9            10.9    12.7      12.5      13.2      13.5   \n",
       "3            19.6            14.7    18.4      30.4      17.7      17.5   \n",
       "4            37.0           158.9     4.3       5.4    2293.6    2155.1   \n",
       "\n",
       "   small_intestine  small_intestine.1  \n",
       "0            134.2              202.1  \n",
       "1              7.1                9.9  \n",
       "2              8.0               11.0  \n",
       "3              7.7                9.5  \n",
       "4              3.7                5.2  \n",
       "\n",
       "[5 rows x 177 columns]"
      ]
     },
     "execution_count": 4,
     "metadata": {},
     "output_type": "execute_result"
    }
   ],
   "source": [
    "matrix.head()"
   ]
  },
  {
   "cell_type": "code",
   "execution_count": 5,
   "metadata": {},
   "outputs": [
    {
     "data": {
      "text/plain": [
       "(44775, 177)"
      ]
     },
     "execution_count": 5,
     "metadata": {},
     "output_type": "execute_result"
    }
   ],
   "source": [
    "matrix.shape"
   ]
  },
  {
   "cell_type": "markdown",
   "metadata": {},
   "source": [
    "# Load Gene Data"
   ]
  },
  {
   "cell_type": "code",
   "execution_count": 6,
   "metadata": {
    "collapsed": true
   },
   "outputs": [],
   "source": [
    "matrix['Unnamed: 0'].to_csv('probes.txt', sep='\\t', header=False, index=False)"
   ]
  },
  {
   "cell_type": "code",
   "execution_count": 7,
   "metadata": {
    "collapsed": true
   },
   "outputs": [],
   "source": [
    "%%capture\n",
    "%system r -f MapToGenesU133A.R;"
   ]
  },
  {
   "cell_type": "code",
   "execution_count": 8,
   "metadata": {
    "collapsed": true
   },
   "outputs": [],
   "source": [
    "map_to_genes_U133A = pd.read_csv('ProbesToGenesU133A.tsv', sep='\\t', header=None)"
   ]
  },
  {
   "cell_type": "code",
   "execution_count": 9,
   "metadata": {},
   "outputs": [],
   "source": [
    "map_to_genes_U133A.drop_duplicates(subset=[0], keep=False, inplace=True)"
   ]
  },
  {
   "cell_type": "code",
   "execution_count": 10,
   "metadata": {},
   "outputs": [],
   "source": [
    "map_to_genes_U133A.set_index(0, inplace=True)"
   ]
  },
  {
   "cell_type": "code",
   "execution_count": 11,
   "metadata": {},
   "outputs": [
    {
     "data": {
      "text/html": [
       "<div>\n",
       "<table border=\"1\" class=\"dataframe\">\n",
       "  <thead>\n",
       "    <tr style=\"text-align: right;\">\n",
       "      <th></th>\n",
       "      <th>1</th>\n",
       "      <th>2</th>\n",
       "      <th>3</th>\n",
       "    </tr>\n",
       "    <tr>\n",
       "      <th>0</th>\n",
       "      <th></th>\n",
       "      <th></th>\n",
       "      <th></th>\n",
       "    </tr>\n",
       "  </thead>\n",
       "  <tbody>\n",
       "    <tr>\n",
       "      <th>1053_at</th>\n",
       "      <td>RFC2</td>\n",
       "      <td>5982.0</td>\n",
       "      <td>replication factor C subunit 2</td>\n",
       "    </tr>\n",
       "    <tr>\n",
       "      <th>117_at</th>\n",
       "      <td>HSPA6</td>\n",
       "      <td>3310.0</td>\n",
       "      <td>heat shock protein family A (Hsp70) member 6</td>\n",
       "    </tr>\n",
       "    <tr>\n",
       "      <th>121_at</th>\n",
       "      <td>PAX8</td>\n",
       "      <td>7849.0</td>\n",
       "      <td>paired box 8</td>\n",
       "    </tr>\n",
       "    <tr>\n",
       "      <th>1255_g_at</th>\n",
       "      <td>GUCA1A</td>\n",
       "      <td>2978.0</td>\n",
       "      <td>guanylate cyclase activator 1A</td>\n",
       "    </tr>\n",
       "    <tr>\n",
       "      <th>1316_at</th>\n",
       "      <td>THRA</td>\n",
       "      <td>7067.0</td>\n",
       "      <td>thyroid hormone receptor, alpha</td>\n",
       "    </tr>\n",
       "  </tbody>\n",
       "</table>\n",
       "</div>"
      ],
      "text/plain": [
       "                1       2                                             3\n",
       "0                                                                      \n",
       "1053_at      RFC2  5982.0                replication factor C subunit 2\n",
       "117_at      HSPA6  3310.0  heat shock protein family A (Hsp70) member 6\n",
       "121_at       PAX8  7849.0                                  paired box 8\n",
       "1255_g_at  GUCA1A  2978.0                guanylate cyclase activator 1A\n",
       "1316_at      THRA  7067.0               thyroid hormone receptor, alpha"
      ]
     },
     "execution_count": 11,
     "metadata": {},
     "output_type": "execute_result"
    }
   ],
   "source": [
    "map_to_genes_U133A.head()"
   ]
  },
  {
   "cell_type": "code",
   "execution_count": 12,
   "metadata": {},
   "outputs": [
    {
     "data": {
      "text/plain": [
       "(43519, 3)"
      ]
     },
     "execution_count": 12,
     "metadata": {},
     "output_type": "execute_result"
    }
   ],
   "source": [
    "map_to_genes_U133A.shape"
   ]
  },
  {
   "cell_type": "code",
   "execution_count": 13,
   "metadata": {},
   "outputs": [],
   "source": [
    "map_to_genes_GNF1H = pd.read_csv('Chip Annotation/gnf1h.annot2007.tsv', sep='\\t')"
   ]
  },
  {
   "cell_type": "code",
   "execution_count": 14,
   "metadata": {},
   "outputs": [],
   "source": [
    "map_to_genes_GNF1H.drop_duplicates(subset=['ProbesetID'], keep=False, inplace=True)"
   ]
  },
  {
   "cell_type": "code",
   "execution_count": 15,
   "metadata": {},
   "outputs": [],
   "source": [
    "map_to_genes_GNF1H.set_index('ProbesetID', inplace=True)"
   ]
  },
  {
   "cell_type": "code",
   "execution_count": 16,
   "metadata": {},
   "outputs": [
    {
     "data": {
      "text/html": [
       "<div>\n",
       "<table border=\"1\" class=\"dataframe\">\n",
       "  <thead>\n",
       "    <tr style=\"text-align: right;\">\n",
       "      <th></th>\n",
       "      <th>Num_matched_probes</th>\n",
       "      <th>RefSeq</th>\n",
       "      <th>UniGene</th>\n",
       "      <th>RIKEN</th>\n",
       "      <th>EntrezGene</th>\n",
       "      <th>Symbol</th>\n",
       "      <th>Description</th>\n",
       "      <th>Ensembl_representative</th>\n",
       "      <th>Cross_hyb_EntrezGeneIDs</th>\n",
       "    </tr>\n",
       "    <tr>\n",
       "      <th>ProbesetID</th>\n",
       "      <th></th>\n",
       "      <th></th>\n",
       "      <th></th>\n",
       "      <th></th>\n",
       "      <th></th>\n",
       "      <th></th>\n",
       "      <th></th>\n",
       "      <th></th>\n",
       "      <th></th>\n",
       "    </tr>\n",
       "  </thead>\n",
       "  <tbody>\n",
       "    <tr>\n",
       "      <th>gnf1h00001_x_at</th>\n",
       "      <td>NaN</td>\n",
       "      <td>NaN</td>\n",
       "      <td>NaN</td>\n",
       "      <td>NaN</td>\n",
       "      <td>NaN</td>\n",
       "      <td>CD36</td>\n",
       "      <td>Human CD36 antigen (collagen type I receptor, ...</td>\n",
       "      <td>NaN</td>\n",
       "      <td>NaN</td>\n",
       "    </tr>\n",
       "    <tr>\n",
       "      <th>gnf1h00002_x_at</th>\n",
       "      <td>NaN</td>\n",
       "      <td>NaN</td>\n",
       "      <td>NaN</td>\n",
       "      <td>NaN</td>\n",
       "      <td>NaN</td>\n",
       "      <td>ICAM1</td>\n",
       "      <td>Human intercellular adhesion molecule 1 (CD54)...</td>\n",
       "      <td>NaN</td>\n",
       "      <td>NaN</td>\n",
       "    </tr>\n",
       "    <tr>\n",
       "      <th>gnf1h00003_x_at</th>\n",
       "      <td>NaN</td>\n",
       "      <td>NaN</td>\n",
       "      <td>NaN</td>\n",
       "      <td>NaN</td>\n",
       "      <td>NaN</td>\n",
       "      <td>CDKN1A</td>\n",
       "      <td>Human cyclin-dependent kinase inhibitor 1A (p2...</td>\n",
       "      <td>NaN</td>\n",
       "      <td>NaN</td>\n",
       "    </tr>\n",
       "    <tr>\n",
       "      <th>gnf1h00004_x_at</th>\n",
       "      <td>16.0</td>\n",
       "      <td>NM_000595</td>\n",
       "      <td>Hs.36</td>\n",
       "      <td>NaN</td>\n",
       "      <td>4049.0</td>\n",
       "      <td>LTA</td>\n",
       "      <td>lymphotoxin alpha (TNF superfamily, member 1)</td>\n",
       "      <td>NaN</td>\n",
       "      <td>NaN</td>\n",
       "    </tr>\n",
       "    <tr>\n",
       "      <th>gnf1h00005_x_at</th>\n",
       "      <td>NaN</td>\n",
       "      <td>NaN</td>\n",
       "      <td>NaN</td>\n",
       "      <td>NaN</td>\n",
       "      <td>NaN</td>\n",
       "      <td>ACTA1</td>\n",
       "      <td>Human actin, alpha 1, skeletal muscle (ACTA1),...</td>\n",
       "      <td>NaN</td>\n",
       "      <td>NaN</td>\n",
       "    </tr>\n",
       "  </tbody>\n",
       "</table>\n",
       "</div>"
      ],
      "text/plain": [
       "                 Num_matched_probes     RefSeq UniGene  RIKEN  EntrezGene  \\\n",
       "ProbesetID                                                                  \n",
       "gnf1h00001_x_at                 NaN        NaN     NaN    NaN         NaN   \n",
       "gnf1h00002_x_at                 NaN        NaN     NaN    NaN         NaN   \n",
       "gnf1h00003_x_at                 NaN        NaN     NaN    NaN         NaN   \n",
       "gnf1h00004_x_at                16.0  NM_000595   Hs.36    NaN      4049.0   \n",
       "gnf1h00005_x_at                 NaN        NaN     NaN    NaN         NaN   \n",
       "\n",
       "                 Symbol                                        Description  \\\n",
       "ProbesetID                                                                   \n",
       "gnf1h00001_x_at    CD36  Human CD36 antigen (collagen type I receptor, ...   \n",
       "gnf1h00002_x_at   ICAM1  Human intercellular adhesion molecule 1 (CD54)...   \n",
       "gnf1h00003_x_at  CDKN1A  Human cyclin-dependent kinase inhibitor 1A (p2...   \n",
       "gnf1h00004_x_at     LTA      lymphotoxin alpha (TNF superfamily, member 1)   \n",
       "gnf1h00005_x_at   ACTA1  Human actin, alpha 1, skeletal muscle (ACTA1),...   \n",
       "\n",
       "                Ensembl_representative  Cross_hyb_EntrezGeneIDs  \n",
       "ProbesetID                                                       \n",
       "gnf1h00001_x_at                    NaN                      NaN  \n",
       "gnf1h00002_x_at                    NaN                      NaN  \n",
       "gnf1h00003_x_at                    NaN                      NaN  \n",
       "gnf1h00004_x_at                    NaN                      NaN  \n",
       "gnf1h00005_x_at                    NaN                      NaN  "
      ]
     },
     "execution_count": 16,
     "metadata": {},
     "output_type": "execute_result"
    }
   ],
   "source": [
    "map_to_genes_GNF1H.head()"
   ]
  },
  {
   "cell_type": "code",
   "execution_count": 17,
   "metadata": {},
   "outputs": [
    {
     "data": {
      "text/plain": [
       "(22558, 9)"
      ]
     },
     "execution_count": 17,
     "metadata": {},
     "output_type": "execute_result"
    }
   ],
   "source": [
    "map_to_genes_GNF1H.shape"
   ]
  },
  {
   "cell_type": "markdown",
   "metadata": {},
   "source": [
    "# Map Gene Symbol to Probe ID"
   ]
  },
  {
   "cell_type": "code",
   "execution_count": 18,
   "metadata": {},
   "outputs": [],
   "source": [
    "lst = []\n",
    "\n",
    "for index in matrix.index:\n",
    "    if matrix.ix[index, 'Unnamed: 0'] in map_to_genes_U133A.index and type(map_to_genes_U133A.ix[matrix.ix[index, 'Unnamed: 0'], 1]) != float:\n",
    "        lst.append(map_to_genes_U133A.ix[matrix.ix[index, 'Unnamed: 0'], 1])\n",
    "    elif matrix.ix[index, 'Unnamed: 0'] in map_to_genes_GNF1H.index and type(map_to_genes_GNF1H.ix[matrix.ix[index, 'Unnamed: 0'], 'Symbol']) != float:\n",
    "        lst.append(map_to_genes_GNF1H.ix[matrix.ix[index, 'Unnamed: 0'], 'Symbol'])\n",
    "    else:\n",
    "        lst.append(np.nan)\n",
    "\n",
    "matrix['Unnamed: 0'] = lst        \n",
    "        "
   ]
  },
  {
   "cell_type": "code",
   "execution_count": 19,
   "metadata": {},
   "outputs": [
    {
     "data": {
      "text/html": [
       "<div>\n",
       "<table border=\"1\" class=\"dataframe\">\n",
       "  <thead>\n",
       "    <tr style=\"text-align: right;\">\n",
       "      <th></th>\n",
       "      <th>Unnamed: 0</th>\n",
       "      <th>721_B_lymphoblasts</th>\n",
       "      <th>721_B_lymphoblasts.1</th>\n",
       "      <th>Adipocyte</th>\n",
       "      <th>Adipocyte.1</th>\n",
       "      <th>AdrenalCortex</th>\n",
       "      <th>AdrenalCortex.1</th>\n",
       "      <th>Adrenalgland</th>\n",
       "      <th>Adrenalgland.1</th>\n",
       "      <th>Amygdala</th>\n",
       "      <th>...</th>\n",
       "      <th>pineal_night.1</th>\n",
       "      <th>pineal_night.2</th>\n",
       "      <th>pineal_night.3</th>\n",
       "      <th>pineal_night.4</th>\n",
       "      <th>retina</th>\n",
       "      <th>retina.1</th>\n",
       "      <th>retina.2</th>\n",
       "      <th>retina.3</th>\n",
       "      <th>small_intestine</th>\n",
       "      <th>small_intestine.1</th>\n",
       "    </tr>\n",
       "  </thead>\n",
       "  <tbody>\n",
       "    <tr>\n",
       "      <th>0</th>\n",
       "      <td>NaN</td>\n",
       "      <td>167.8</td>\n",
       "      <td>106.2</td>\n",
       "      <td>31.6</td>\n",
       "      <td>30.6</td>\n",
       "      <td>61.2</td>\n",
       "      <td>45.4</td>\n",
       "      <td>98.0</td>\n",
       "      <td>64.4</td>\n",
       "      <td>401.6</td>\n",
       "      <td>...</td>\n",
       "      <td>543.3</td>\n",
       "      <td>182.5</td>\n",
       "      <td>134.4</td>\n",
       "      <td>117.3</td>\n",
       "      <td>1307.4</td>\n",
       "      <td>1530.6</td>\n",
       "      <td>335.0</td>\n",
       "      <td>349.7</td>\n",
       "      <td>134.2</td>\n",
       "      <td>202.1</td>\n",
       "    </tr>\n",
       "    <tr>\n",
       "      <th>1</th>\n",
       "      <td>RFC2</td>\n",
       "      <td>69.7</td>\n",
       "      <td>93.8</td>\n",
       "      <td>7.9</td>\n",
       "      <td>6.8</td>\n",
       "      <td>9.6</td>\n",
       "      <td>8.2</td>\n",
       "      <td>6.8</td>\n",
       "      <td>7.6</td>\n",
       "      <td>6.4</td>\n",
       "      <td>...</td>\n",
       "      <td>7.8</td>\n",
       "      <td>9.4</td>\n",
       "      <td>8.2</td>\n",
       "      <td>7.4</td>\n",
       "      <td>7.0</td>\n",
       "      <td>9.7</td>\n",
       "      <td>11.2</td>\n",
       "      <td>11.7</td>\n",
       "      <td>7.1</td>\n",
       "      <td>9.9</td>\n",
       "    </tr>\n",
       "    <tr>\n",
       "      <th>2</th>\n",
       "      <td>HSPA6</td>\n",
       "      <td>12.6</td>\n",
       "      <td>12.5</td>\n",
       "      <td>10.7</td>\n",
       "      <td>10.5</td>\n",
       "      <td>12.3</td>\n",
       "      <td>15.7</td>\n",
       "      <td>9.5</td>\n",
       "      <td>10.2</td>\n",
       "      <td>6.6</td>\n",
       "      <td>...</td>\n",
       "      <td>11.9</td>\n",
       "      <td>13.2</td>\n",
       "      <td>11.9</td>\n",
       "      <td>10.9</td>\n",
       "      <td>12.7</td>\n",
       "      <td>12.5</td>\n",
       "      <td>13.2</td>\n",
       "      <td>13.5</td>\n",
       "      <td>8.0</td>\n",
       "      <td>11.0</td>\n",
       "    </tr>\n",
       "    <tr>\n",
       "      <th>3</th>\n",
       "      <td>PAX8</td>\n",
       "      <td>14.9</td>\n",
       "      <td>11.1</td>\n",
       "      <td>13.1</td>\n",
       "      <td>16.0</td>\n",
       "      <td>16.2</td>\n",
       "      <td>12.0</td>\n",
       "      <td>15.5</td>\n",
       "      <td>11.9</td>\n",
       "      <td>10.5</td>\n",
       "      <td>...</td>\n",
       "      <td>17.0</td>\n",
       "      <td>14.9</td>\n",
       "      <td>19.6</td>\n",
       "      <td>14.7</td>\n",
       "      <td>18.4</td>\n",
       "      <td>30.4</td>\n",
       "      <td>17.7</td>\n",
       "      <td>17.5</td>\n",
       "      <td>7.7</td>\n",
       "      <td>9.5</td>\n",
       "    </tr>\n",
       "    <tr>\n",
       "      <th>4</th>\n",
       "      <td>GUCA1A</td>\n",
       "      <td>5.5</td>\n",
       "      <td>5.4</td>\n",
       "      <td>4.8</td>\n",
       "      <td>4.2</td>\n",
       "      <td>5.7</td>\n",
       "      <td>4.3</td>\n",
       "      <td>3.8</td>\n",
       "      <td>4.1</td>\n",
       "      <td>3.3</td>\n",
       "      <td>...</td>\n",
       "      <td>545.1</td>\n",
       "      <td>590.7</td>\n",
       "      <td>37.0</td>\n",
       "      <td>158.9</td>\n",
       "      <td>4.3</td>\n",
       "      <td>5.4</td>\n",
       "      <td>2293.6</td>\n",
       "      <td>2155.1</td>\n",
       "      <td>3.7</td>\n",
       "      <td>5.2</td>\n",
       "    </tr>\n",
       "  </tbody>\n",
       "</table>\n",
       "<p>5 rows × 177 columns</p>\n",
       "</div>"
      ],
      "text/plain": [
       "  Unnamed: 0  721_B_lymphoblasts  721_B_lymphoblasts.1  Adipocyte  \\\n",
       "0        NaN               167.8                 106.2       31.6   \n",
       "1       RFC2                69.7                  93.8        7.9   \n",
       "2      HSPA6                12.6                  12.5       10.7   \n",
       "3       PAX8                14.9                  11.1       13.1   \n",
       "4     GUCA1A                 5.5                   5.4        4.8   \n",
       "\n",
       "   Adipocyte.1  AdrenalCortex  AdrenalCortex.1  Adrenalgland  Adrenalgland.1  \\\n",
       "0         30.6           61.2             45.4          98.0            64.4   \n",
       "1          6.8            9.6              8.2           6.8             7.6   \n",
       "2         10.5           12.3             15.7           9.5            10.2   \n",
       "3         16.0           16.2             12.0          15.5            11.9   \n",
       "4          4.2            5.7              4.3           3.8             4.1   \n",
       "\n",
       "   Amygdala        ...          pineal_night.1  pineal_night.2  \\\n",
       "0     401.6        ...                   543.3           182.5   \n",
       "1       6.4        ...                     7.8             9.4   \n",
       "2       6.6        ...                    11.9            13.2   \n",
       "3      10.5        ...                    17.0            14.9   \n",
       "4       3.3        ...                   545.1           590.7   \n",
       "\n",
       "   pineal_night.3  pineal_night.4  retina  retina.1  retina.2  retina.3  \\\n",
       "0           134.4           117.3  1307.4    1530.6     335.0     349.7   \n",
       "1             8.2             7.4     7.0       9.7      11.2      11.7   \n",
       "2            11.9            10.9    12.7      12.5      13.2      13.5   \n",
       "3            19.6            14.7    18.4      30.4      17.7      17.5   \n",
       "4            37.0           158.9     4.3       5.4    2293.6    2155.1   \n",
       "\n",
       "   small_intestine  small_intestine.1  \n",
       "0            134.2              202.1  \n",
       "1              7.1                9.9  \n",
       "2              8.0               11.0  \n",
       "3              7.7                9.5  \n",
       "4              3.7                5.2  \n",
       "\n",
       "[5 rows x 177 columns]"
      ]
     },
     "execution_count": 19,
     "metadata": {},
     "output_type": "execute_result"
    }
   ],
   "source": [
    "matrix.head()"
   ]
  },
  {
   "cell_type": "code",
   "execution_count": 20,
   "metadata": {},
   "outputs": [
    {
     "data": {
      "text/plain": [
       "(44775, 177)"
      ]
     },
     "execution_count": 20,
     "metadata": {},
     "output_type": "execute_result"
    }
   ],
   "source": [
    "matrix.shape"
   ]
  },
  {
   "cell_type": "code",
   "execution_count": 21,
   "metadata": {
    "collapsed": true
   },
   "outputs": [],
   "source": [
    "matrix.dropna(subset=['Unnamed: 0'], inplace=True)"
   ]
  },
  {
   "cell_type": "code",
   "execution_count": 22,
   "metadata": {},
   "outputs": [
    {
     "data": {
      "text/html": [
       "<div>\n",
       "<table border=\"1\" class=\"dataframe\">\n",
       "  <thead>\n",
       "    <tr style=\"text-align: right;\">\n",
       "      <th></th>\n",
       "      <th>Unnamed: 0</th>\n",
       "      <th>721_B_lymphoblasts</th>\n",
       "      <th>721_B_lymphoblasts.1</th>\n",
       "      <th>Adipocyte</th>\n",
       "      <th>Adipocyte.1</th>\n",
       "      <th>AdrenalCortex</th>\n",
       "      <th>AdrenalCortex.1</th>\n",
       "      <th>Adrenalgland</th>\n",
       "      <th>Adrenalgland.1</th>\n",
       "      <th>Amygdala</th>\n",
       "      <th>...</th>\n",
       "      <th>pineal_night.1</th>\n",
       "      <th>pineal_night.2</th>\n",
       "      <th>pineal_night.3</th>\n",
       "      <th>pineal_night.4</th>\n",
       "      <th>retina</th>\n",
       "      <th>retina.1</th>\n",
       "      <th>retina.2</th>\n",
       "      <th>retina.3</th>\n",
       "      <th>small_intestine</th>\n",
       "      <th>small_intestine.1</th>\n",
       "    </tr>\n",
       "  </thead>\n",
       "  <tbody>\n",
       "    <tr>\n",
       "      <th>1</th>\n",
       "      <td>RFC2</td>\n",
       "      <td>69.7</td>\n",
       "      <td>93.8</td>\n",
       "      <td>7.9</td>\n",
       "      <td>6.8</td>\n",
       "      <td>9.6</td>\n",
       "      <td>8.2</td>\n",
       "      <td>6.8</td>\n",
       "      <td>7.6</td>\n",
       "      <td>6.4</td>\n",
       "      <td>...</td>\n",
       "      <td>7.8</td>\n",
       "      <td>9.4</td>\n",
       "      <td>8.2</td>\n",
       "      <td>7.4</td>\n",
       "      <td>7.0</td>\n",
       "      <td>9.7</td>\n",
       "      <td>11.2</td>\n",
       "      <td>11.7</td>\n",
       "      <td>7.1</td>\n",
       "      <td>9.9</td>\n",
       "    </tr>\n",
       "    <tr>\n",
       "      <th>2</th>\n",
       "      <td>HSPA6</td>\n",
       "      <td>12.6</td>\n",
       "      <td>12.5</td>\n",
       "      <td>10.7</td>\n",
       "      <td>10.5</td>\n",
       "      <td>12.3</td>\n",
       "      <td>15.7</td>\n",
       "      <td>9.5</td>\n",
       "      <td>10.2</td>\n",
       "      <td>6.6</td>\n",
       "      <td>...</td>\n",
       "      <td>11.9</td>\n",
       "      <td>13.2</td>\n",
       "      <td>11.9</td>\n",
       "      <td>10.9</td>\n",
       "      <td>12.7</td>\n",
       "      <td>12.5</td>\n",
       "      <td>13.2</td>\n",
       "      <td>13.5</td>\n",
       "      <td>8.0</td>\n",
       "      <td>11.0</td>\n",
       "    </tr>\n",
       "    <tr>\n",
       "      <th>3</th>\n",
       "      <td>PAX8</td>\n",
       "      <td>14.9</td>\n",
       "      <td>11.1</td>\n",
       "      <td>13.1</td>\n",
       "      <td>16.0</td>\n",
       "      <td>16.2</td>\n",
       "      <td>12.0</td>\n",
       "      <td>15.5</td>\n",
       "      <td>11.9</td>\n",
       "      <td>10.5</td>\n",
       "      <td>...</td>\n",
       "      <td>17.0</td>\n",
       "      <td>14.9</td>\n",
       "      <td>19.6</td>\n",
       "      <td>14.7</td>\n",
       "      <td>18.4</td>\n",
       "      <td>30.4</td>\n",
       "      <td>17.7</td>\n",
       "      <td>17.5</td>\n",
       "      <td>7.7</td>\n",
       "      <td>9.5</td>\n",
       "    </tr>\n",
       "    <tr>\n",
       "      <th>4</th>\n",
       "      <td>GUCA1A</td>\n",
       "      <td>5.5</td>\n",
       "      <td>5.4</td>\n",
       "      <td>4.8</td>\n",
       "      <td>4.2</td>\n",
       "      <td>5.7</td>\n",
       "      <td>4.3</td>\n",
       "      <td>3.8</td>\n",
       "      <td>4.1</td>\n",
       "      <td>3.3</td>\n",
       "      <td>...</td>\n",
       "      <td>545.1</td>\n",
       "      <td>590.7</td>\n",
       "      <td>37.0</td>\n",
       "      <td>158.9</td>\n",
       "      <td>4.3</td>\n",
       "      <td>5.4</td>\n",
       "      <td>2293.6</td>\n",
       "      <td>2155.1</td>\n",
       "      <td>3.7</td>\n",
       "      <td>5.2</td>\n",
       "    </tr>\n",
       "    <tr>\n",
       "      <th>6</th>\n",
       "      <td>THRA</td>\n",
       "      <td>9.2</td>\n",
       "      <td>10.3</td>\n",
       "      <td>9.8</td>\n",
       "      <td>8.5</td>\n",
       "      <td>14.4</td>\n",
       "      <td>11.6</td>\n",
       "      <td>7.8</td>\n",
       "      <td>8.1</td>\n",
       "      <td>6.5</td>\n",
       "      <td>...</td>\n",
       "      <td>12.2</td>\n",
       "      <td>11.6</td>\n",
       "      <td>10.4</td>\n",
       "      <td>9.8</td>\n",
       "      <td>8.8</td>\n",
       "      <td>11.7</td>\n",
       "      <td>12.5</td>\n",
       "      <td>12.5</td>\n",
       "      <td>8.6</td>\n",
       "      <td>10.7</td>\n",
       "    </tr>\n",
       "  </tbody>\n",
       "</table>\n",
       "<p>5 rows × 177 columns</p>\n",
       "</div>"
      ],
      "text/plain": [
       "  Unnamed: 0  721_B_lymphoblasts  721_B_lymphoblasts.1  Adipocyte  \\\n",
       "1       RFC2                69.7                  93.8        7.9   \n",
       "2      HSPA6                12.6                  12.5       10.7   \n",
       "3       PAX8                14.9                  11.1       13.1   \n",
       "4     GUCA1A                 5.5                   5.4        4.8   \n",
       "6       THRA                 9.2                  10.3        9.8   \n",
       "\n",
       "   Adipocyte.1  AdrenalCortex  AdrenalCortex.1  Adrenalgland  Adrenalgland.1  \\\n",
       "1          6.8            9.6              8.2           6.8             7.6   \n",
       "2         10.5           12.3             15.7           9.5            10.2   \n",
       "3         16.0           16.2             12.0          15.5            11.9   \n",
       "4          4.2            5.7              4.3           3.8             4.1   \n",
       "6          8.5           14.4             11.6           7.8             8.1   \n",
       "\n",
       "   Amygdala        ...          pineal_night.1  pineal_night.2  \\\n",
       "1       6.4        ...                     7.8             9.4   \n",
       "2       6.6        ...                    11.9            13.2   \n",
       "3      10.5        ...                    17.0            14.9   \n",
       "4       3.3        ...                   545.1           590.7   \n",
       "6       6.5        ...                    12.2            11.6   \n",
       "\n",
       "   pineal_night.3  pineal_night.4  retina  retina.1  retina.2  retina.3  \\\n",
       "1             8.2             7.4     7.0       9.7      11.2      11.7   \n",
       "2            11.9            10.9    12.7      12.5      13.2      13.5   \n",
       "3            19.6            14.7    18.4      30.4      17.7      17.5   \n",
       "4            37.0           158.9     4.3       5.4    2293.6    2155.1   \n",
       "6            10.4             9.8     8.8      11.7      12.5      12.5   \n",
       "\n",
       "   small_intestine  small_intestine.1  \n",
       "1              7.1                9.9  \n",
       "2              8.0               11.0  \n",
       "3              7.7                9.5  \n",
       "4              3.7                5.2  \n",
       "6              8.6               10.7  \n",
       "\n",
       "[5 rows x 177 columns]"
      ]
     },
     "execution_count": 22,
     "metadata": {},
     "output_type": "execute_result"
    }
   ],
   "source": [
    "matrix.head()"
   ]
  },
  {
   "cell_type": "code",
   "execution_count": 23,
   "metadata": {},
   "outputs": [
    {
     "data": {
      "text/plain": [
       "(32900, 177)"
      ]
     },
     "execution_count": 23,
     "metadata": {},
     "output_type": "execute_result"
    }
   ],
   "source": [
    "matrix.shape"
   ]
  },
  {
   "cell_type": "code",
   "execution_count": 24,
   "metadata": {},
   "outputs": [],
   "source": [
    "matrix.rename(columns={'Unnamed: 0':'Genes'}, inplace=True)"
   ]
  },
  {
   "cell_type": "code",
   "execution_count": 25,
   "metadata": {},
   "outputs": [],
   "source": [
    "matrix.set_index('Genes', inplace=True)"
   ]
  },
  {
   "cell_type": "code",
   "execution_count": 26,
   "metadata": {},
   "outputs": [
    {
     "data": {
      "text/html": [
       "<div>\n",
       "<table border=\"1\" class=\"dataframe\">\n",
       "  <thead>\n",
       "    <tr style=\"text-align: right;\">\n",
       "      <th></th>\n",
       "      <th>721_B_lymphoblasts</th>\n",
       "      <th>721_B_lymphoblasts.1</th>\n",
       "      <th>Adipocyte</th>\n",
       "      <th>Adipocyte.1</th>\n",
       "      <th>AdrenalCortex</th>\n",
       "      <th>AdrenalCortex.1</th>\n",
       "      <th>Adrenalgland</th>\n",
       "      <th>Adrenalgland.1</th>\n",
       "      <th>Amygdala</th>\n",
       "      <th>Amygdala.1</th>\n",
       "      <th>...</th>\n",
       "      <th>pineal_night.1</th>\n",
       "      <th>pineal_night.2</th>\n",
       "      <th>pineal_night.3</th>\n",
       "      <th>pineal_night.4</th>\n",
       "      <th>retina</th>\n",
       "      <th>retina.1</th>\n",
       "      <th>retina.2</th>\n",
       "      <th>retina.3</th>\n",
       "      <th>small_intestine</th>\n",
       "      <th>small_intestine.1</th>\n",
       "    </tr>\n",
       "    <tr>\n",
       "      <th>Genes</th>\n",
       "      <th></th>\n",
       "      <th></th>\n",
       "      <th></th>\n",
       "      <th></th>\n",
       "      <th></th>\n",
       "      <th></th>\n",
       "      <th></th>\n",
       "      <th></th>\n",
       "      <th></th>\n",
       "      <th></th>\n",
       "      <th></th>\n",
       "      <th></th>\n",
       "      <th></th>\n",
       "      <th></th>\n",
       "      <th></th>\n",
       "      <th></th>\n",
       "      <th></th>\n",
       "      <th></th>\n",
       "      <th></th>\n",
       "      <th></th>\n",
       "      <th></th>\n",
       "    </tr>\n",
       "  </thead>\n",
       "  <tbody>\n",
       "    <tr>\n",
       "      <th>RFC2</th>\n",
       "      <td>69.7</td>\n",
       "      <td>93.8</td>\n",
       "      <td>7.9</td>\n",
       "      <td>6.8</td>\n",
       "      <td>9.6</td>\n",
       "      <td>8.2</td>\n",
       "      <td>6.8</td>\n",
       "      <td>7.6</td>\n",
       "      <td>6.4</td>\n",
       "      <td>9.6</td>\n",
       "      <td>...</td>\n",
       "      <td>7.8</td>\n",
       "      <td>9.4</td>\n",
       "      <td>8.2</td>\n",
       "      <td>7.4</td>\n",
       "      <td>7.0</td>\n",
       "      <td>9.7</td>\n",
       "      <td>11.2</td>\n",
       "      <td>11.7</td>\n",
       "      <td>7.1</td>\n",
       "      <td>9.9</td>\n",
       "    </tr>\n",
       "    <tr>\n",
       "      <th>HSPA6</th>\n",
       "      <td>12.6</td>\n",
       "      <td>12.5</td>\n",
       "      <td>10.7</td>\n",
       "      <td>10.5</td>\n",
       "      <td>12.3</td>\n",
       "      <td>15.7</td>\n",
       "      <td>9.5</td>\n",
       "      <td>10.2</td>\n",
       "      <td>6.6</td>\n",
       "      <td>13.7</td>\n",
       "      <td>...</td>\n",
       "      <td>11.9</td>\n",
       "      <td>13.2</td>\n",
       "      <td>11.9</td>\n",
       "      <td>10.9</td>\n",
       "      <td>12.7</td>\n",
       "      <td>12.5</td>\n",
       "      <td>13.2</td>\n",
       "      <td>13.5</td>\n",
       "      <td>8.0</td>\n",
       "      <td>11.0</td>\n",
       "    </tr>\n",
       "    <tr>\n",
       "      <th>PAX8</th>\n",
       "      <td>14.9</td>\n",
       "      <td>11.1</td>\n",
       "      <td>13.1</td>\n",
       "      <td>16.0</td>\n",
       "      <td>16.2</td>\n",
       "      <td>12.0</td>\n",
       "      <td>15.5</td>\n",
       "      <td>11.9</td>\n",
       "      <td>10.5</td>\n",
       "      <td>18.1</td>\n",
       "      <td>...</td>\n",
       "      <td>17.0</td>\n",
       "      <td>14.9</td>\n",
       "      <td>19.6</td>\n",
       "      <td>14.7</td>\n",
       "      <td>18.4</td>\n",
       "      <td>30.4</td>\n",
       "      <td>17.7</td>\n",
       "      <td>17.5</td>\n",
       "      <td>7.7</td>\n",
       "      <td>9.5</td>\n",
       "    </tr>\n",
       "    <tr>\n",
       "      <th>GUCA1A</th>\n",
       "      <td>5.5</td>\n",
       "      <td>5.4</td>\n",
       "      <td>4.8</td>\n",
       "      <td>4.2</td>\n",
       "      <td>5.7</td>\n",
       "      <td>4.3</td>\n",
       "      <td>3.8</td>\n",
       "      <td>4.1</td>\n",
       "      <td>3.3</td>\n",
       "      <td>6.4</td>\n",
       "      <td>...</td>\n",
       "      <td>545.1</td>\n",
       "      <td>590.7</td>\n",
       "      <td>37.0</td>\n",
       "      <td>158.9</td>\n",
       "      <td>4.3</td>\n",
       "      <td>5.4</td>\n",
       "      <td>2293.6</td>\n",
       "      <td>2155.1</td>\n",
       "      <td>3.7</td>\n",
       "      <td>5.2</td>\n",
       "    </tr>\n",
       "    <tr>\n",
       "      <th>THRA</th>\n",
       "      <td>9.2</td>\n",
       "      <td>10.3</td>\n",
       "      <td>9.8</td>\n",
       "      <td>8.5</td>\n",
       "      <td>14.4</td>\n",
       "      <td>11.6</td>\n",
       "      <td>7.8</td>\n",
       "      <td>8.1</td>\n",
       "      <td>6.5</td>\n",
       "      <td>12.8</td>\n",
       "      <td>...</td>\n",
       "      <td>12.2</td>\n",
       "      <td>11.6</td>\n",
       "      <td>10.4</td>\n",
       "      <td>9.8</td>\n",
       "      <td>8.8</td>\n",
       "      <td>11.7</td>\n",
       "      <td>12.5</td>\n",
       "      <td>12.5</td>\n",
       "      <td>8.6</td>\n",
       "      <td>10.7</td>\n",
       "    </tr>\n",
       "  </tbody>\n",
       "</table>\n",
       "<p>5 rows × 176 columns</p>\n",
       "</div>"
      ],
      "text/plain": [
       "        721_B_lymphoblasts  721_B_lymphoblasts.1  Adipocyte  Adipocyte.1  \\\n",
       "Genes                                                                      \n",
       "RFC2                  69.7                  93.8        7.9          6.8   \n",
       "HSPA6                 12.6                  12.5       10.7         10.5   \n",
       "PAX8                  14.9                  11.1       13.1         16.0   \n",
       "GUCA1A                 5.5                   5.4        4.8          4.2   \n",
       "THRA                   9.2                  10.3        9.8          8.5   \n",
       "\n",
       "        AdrenalCortex  AdrenalCortex.1  Adrenalgland  Adrenalgland.1  \\\n",
       "Genes                                                                  \n",
       "RFC2              9.6              8.2           6.8             7.6   \n",
       "HSPA6            12.3             15.7           9.5            10.2   \n",
       "PAX8             16.2             12.0          15.5            11.9   \n",
       "GUCA1A            5.7              4.3           3.8             4.1   \n",
       "THRA             14.4             11.6           7.8             8.1   \n",
       "\n",
       "        Amygdala  Amygdala.1        ...          pineal_night.1  \\\n",
       "Genes                               ...                           \n",
       "RFC2         6.4         9.6        ...                     7.8   \n",
       "HSPA6        6.6        13.7        ...                    11.9   \n",
       "PAX8        10.5        18.1        ...                    17.0   \n",
       "GUCA1A       3.3         6.4        ...                   545.1   \n",
       "THRA         6.5        12.8        ...                    12.2   \n",
       "\n",
       "        pineal_night.2  pineal_night.3  pineal_night.4  retina  retina.1  \\\n",
       "Genes                                                                      \n",
       "RFC2               9.4             8.2             7.4     7.0       9.7   \n",
       "HSPA6             13.2            11.9            10.9    12.7      12.5   \n",
       "PAX8              14.9            19.6            14.7    18.4      30.4   \n",
       "GUCA1A           590.7            37.0           158.9     4.3       5.4   \n",
       "THRA              11.6            10.4             9.8     8.8      11.7   \n",
       "\n",
       "        retina.2  retina.3  small_intestine  small_intestine.1  \n",
       "Genes                                                           \n",
       "RFC2        11.2      11.7              7.1                9.9  \n",
       "HSPA6       13.2      13.5              8.0               11.0  \n",
       "PAX8        17.7      17.5              7.7                9.5  \n",
       "GUCA1A    2293.6    2155.1              3.7                5.2  \n",
       "THRA        12.5      12.5              8.6               10.7  \n",
       "\n",
       "[5 rows x 176 columns]"
      ]
     },
     "execution_count": 26,
     "metadata": {},
     "output_type": "execute_result"
    }
   ],
   "source": [
    "matrix.head()"
   ]
  },
  {
   "cell_type": "markdown",
   "metadata": {},
   "source": [
    "# Fix Sample Columns"
   ]
  },
  {
   "cell_type": "code",
   "execution_count": 27,
   "metadata": {
    "collapsed": true
   },
   "outputs": [],
   "source": [
    "lst = []\n",
    "\n",
    "for col in matrix.columns:\n",
    "    lst.append(col.split('.')[0])\n",
    "    \n",
    "matrix.columns = lst "
   ]
  },
  {
   "cell_type": "code",
   "execution_count": 28,
   "metadata": {},
   "outputs": [
    {
     "data": {
      "text/html": [
       "<div>\n",
       "<table border=\"1\" class=\"dataframe\">\n",
       "  <thead>\n",
       "    <tr style=\"text-align: right;\">\n",
       "      <th></th>\n",
       "      <th>721_B_lymphoblasts</th>\n",
       "      <th>721_B_lymphoblasts</th>\n",
       "      <th>Adipocyte</th>\n",
       "      <th>Adipocyte</th>\n",
       "      <th>AdrenalCortex</th>\n",
       "      <th>AdrenalCortex</th>\n",
       "      <th>Adrenalgland</th>\n",
       "      <th>Adrenalgland</th>\n",
       "      <th>Amygdala</th>\n",
       "      <th>Amygdala</th>\n",
       "      <th>...</th>\n",
       "      <th>pineal_night</th>\n",
       "      <th>pineal_night</th>\n",
       "      <th>pineal_night</th>\n",
       "      <th>pineal_night</th>\n",
       "      <th>retina</th>\n",
       "      <th>retina</th>\n",
       "      <th>retina</th>\n",
       "      <th>retina</th>\n",
       "      <th>small_intestine</th>\n",
       "      <th>small_intestine</th>\n",
       "    </tr>\n",
       "    <tr>\n",
       "      <th>Genes</th>\n",
       "      <th></th>\n",
       "      <th></th>\n",
       "      <th></th>\n",
       "      <th></th>\n",
       "      <th></th>\n",
       "      <th></th>\n",
       "      <th></th>\n",
       "      <th></th>\n",
       "      <th></th>\n",
       "      <th></th>\n",
       "      <th></th>\n",
       "      <th></th>\n",
       "      <th></th>\n",
       "      <th></th>\n",
       "      <th></th>\n",
       "      <th></th>\n",
       "      <th></th>\n",
       "      <th></th>\n",
       "      <th></th>\n",
       "      <th></th>\n",
       "      <th></th>\n",
       "    </tr>\n",
       "  </thead>\n",
       "  <tbody>\n",
       "    <tr>\n",
       "      <th>RFC2</th>\n",
       "      <td>69.7</td>\n",
       "      <td>93.8</td>\n",
       "      <td>7.9</td>\n",
       "      <td>6.8</td>\n",
       "      <td>9.6</td>\n",
       "      <td>8.2</td>\n",
       "      <td>6.8</td>\n",
       "      <td>7.6</td>\n",
       "      <td>6.4</td>\n",
       "      <td>9.6</td>\n",
       "      <td>...</td>\n",
       "      <td>7.8</td>\n",
       "      <td>9.4</td>\n",
       "      <td>8.2</td>\n",
       "      <td>7.4</td>\n",
       "      <td>7.0</td>\n",
       "      <td>9.7</td>\n",
       "      <td>11.2</td>\n",
       "      <td>11.7</td>\n",
       "      <td>7.1</td>\n",
       "      <td>9.9</td>\n",
       "    </tr>\n",
       "    <tr>\n",
       "      <th>HSPA6</th>\n",
       "      <td>12.6</td>\n",
       "      <td>12.5</td>\n",
       "      <td>10.7</td>\n",
       "      <td>10.5</td>\n",
       "      <td>12.3</td>\n",
       "      <td>15.7</td>\n",
       "      <td>9.5</td>\n",
       "      <td>10.2</td>\n",
       "      <td>6.6</td>\n",
       "      <td>13.7</td>\n",
       "      <td>...</td>\n",
       "      <td>11.9</td>\n",
       "      <td>13.2</td>\n",
       "      <td>11.9</td>\n",
       "      <td>10.9</td>\n",
       "      <td>12.7</td>\n",
       "      <td>12.5</td>\n",
       "      <td>13.2</td>\n",
       "      <td>13.5</td>\n",
       "      <td>8.0</td>\n",
       "      <td>11.0</td>\n",
       "    </tr>\n",
       "    <tr>\n",
       "      <th>PAX8</th>\n",
       "      <td>14.9</td>\n",
       "      <td>11.1</td>\n",
       "      <td>13.1</td>\n",
       "      <td>16.0</td>\n",
       "      <td>16.2</td>\n",
       "      <td>12.0</td>\n",
       "      <td>15.5</td>\n",
       "      <td>11.9</td>\n",
       "      <td>10.5</td>\n",
       "      <td>18.1</td>\n",
       "      <td>...</td>\n",
       "      <td>17.0</td>\n",
       "      <td>14.9</td>\n",
       "      <td>19.6</td>\n",
       "      <td>14.7</td>\n",
       "      <td>18.4</td>\n",
       "      <td>30.4</td>\n",
       "      <td>17.7</td>\n",
       "      <td>17.5</td>\n",
       "      <td>7.7</td>\n",
       "      <td>9.5</td>\n",
       "    </tr>\n",
       "    <tr>\n",
       "      <th>GUCA1A</th>\n",
       "      <td>5.5</td>\n",
       "      <td>5.4</td>\n",
       "      <td>4.8</td>\n",
       "      <td>4.2</td>\n",
       "      <td>5.7</td>\n",
       "      <td>4.3</td>\n",
       "      <td>3.8</td>\n",
       "      <td>4.1</td>\n",
       "      <td>3.3</td>\n",
       "      <td>6.4</td>\n",
       "      <td>...</td>\n",
       "      <td>545.1</td>\n",
       "      <td>590.7</td>\n",
       "      <td>37.0</td>\n",
       "      <td>158.9</td>\n",
       "      <td>4.3</td>\n",
       "      <td>5.4</td>\n",
       "      <td>2293.6</td>\n",
       "      <td>2155.1</td>\n",
       "      <td>3.7</td>\n",
       "      <td>5.2</td>\n",
       "    </tr>\n",
       "    <tr>\n",
       "      <th>THRA</th>\n",
       "      <td>9.2</td>\n",
       "      <td>10.3</td>\n",
       "      <td>9.8</td>\n",
       "      <td>8.5</td>\n",
       "      <td>14.4</td>\n",
       "      <td>11.6</td>\n",
       "      <td>7.8</td>\n",
       "      <td>8.1</td>\n",
       "      <td>6.5</td>\n",
       "      <td>12.8</td>\n",
       "      <td>...</td>\n",
       "      <td>12.2</td>\n",
       "      <td>11.6</td>\n",
       "      <td>10.4</td>\n",
       "      <td>9.8</td>\n",
       "      <td>8.8</td>\n",
       "      <td>11.7</td>\n",
       "      <td>12.5</td>\n",
       "      <td>12.5</td>\n",
       "      <td>8.6</td>\n",
       "      <td>10.7</td>\n",
       "    </tr>\n",
       "  </tbody>\n",
       "</table>\n",
       "<p>5 rows × 176 columns</p>\n",
       "</div>"
      ],
      "text/plain": [
       "        721_B_lymphoblasts  721_B_lymphoblasts  Adipocyte  Adipocyte  \\\n",
       "Genes                                                                  \n",
       "RFC2                  69.7                93.8        7.9        6.8   \n",
       "HSPA6                 12.6                12.5       10.7       10.5   \n",
       "PAX8                  14.9                11.1       13.1       16.0   \n",
       "GUCA1A                 5.5                 5.4        4.8        4.2   \n",
       "THRA                   9.2                10.3        9.8        8.5   \n",
       "\n",
       "        AdrenalCortex  AdrenalCortex  Adrenalgland  Adrenalgland  Amygdala  \\\n",
       "Genes                                                                        \n",
       "RFC2              9.6            8.2           6.8           7.6       6.4   \n",
       "HSPA6            12.3           15.7           9.5          10.2       6.6   \n",
       "PAX8             16.2           12.0          15.5          11.9      10.5   \n",
       "GUCA1A            5.7            4.3           3.8           4.1       3.3   \n",
       "THRA             14.4           11.6           7.8           8.1       6.5   \n",
       "\n",
       "        Amygdala       ...         pineal_night  pineal_night  pineal_night  \\\n",
       "Genes                  ...                                                    \n",
       "RFC2         9.6       ...                  7.8           9.4           8.2   \n",
       "HSPA6       13.7       ...                 11.9          13.2          11.9   \n",
       "PAX8        18.1       ...                 17.0          14.9          19.6   \n",
       "GUCA1A       6.4       ...                545.1         590.7          37.0   \n",
       "THRA        12.8       ...                 12.2          11.6          10.4   \n",
       "\n",
       "        pineal_night  retina  retina  retina  retina  small_intestine  \\\n",
       "Genes                                                                   \n",
       "RFC2             7.4     7.0     9.7    11.2    11.7              7.1   \n",
       "HSPA6           10.9    12.7    12.5    13.2    13.5              8.0   \n",
       "PAX8            14.7    18.4    30.4    17.7    17.5              7.7   \n",
       "GUCA1A         158.9     4.3     5.4  2293.6  2155.1              3.7   \n",
       "THRA             9.8     8.8    11.7    12.5    12.5              8.6   \n",
       "\n",
       "        small_intestine  \n",
       "Genes                    \n",
       "RFC2                9.9  \n",
       "HSPA6              11.0  \n",
       "PAX8                9.5  \n",
       "GUCA1A              5.2  \n",
       "THRA               10.7  \n",
       "\n",
       "[5 rows x 176 columns]"
      ]
     },
     "execution_count": 28,
     "metadata": {},
     "output_type": "execute_result"
    }
   ],
   "source": [
    "matrix.head()"
   ]
  },
  {
   "cell_type": "markdown",
   "metadata": {},
   "source": [
    "# Merge Like Column (by taking the mean)"
   ]
  },
  {
   "cell_type": "code",
   "execution_count": 29,
   "metadata": {
    "collapsed": true
   },
   "outputs": [],
   "source": [
    "matrix = uf.merge(matrix, 'column', 'mean')"
   ]
  },
  {
   "cell_type": "code",
   "execution_count": 30,
   "metadata": {},
   "outputs": [
    {
     "data": {
      "text/plain": [
       "(32900, 84)"
      ]
     },
     "execution_count": 30,
     "metadata": {},
     "output_type": "execute_result"
    }
   ],
   "source": [
    "matrix.shape"
   ]
  },
  {
   "cell_type": "markdown",
   "metadata": {},
   "source": [
    "# Drop Any Genes That Have Zero Expression Across 95% Of The Samples"
   ]
  },
  {
   "cell_type": "code",
   "execution_count": 31,
   "metadata": {},
   "outputs": [],
   "source": [
    "matrix.replace(0, np.nan, inplace=True)\n",
    "\n",
    "matrix.dropna(thresh=(0.05*matrix.shape[1]), axis=0, inplace=True)\n",
    "\n",
    "matrix.replace(np.nan, 0, inplace=True)"
   ]
  },
  {
   "cell_type": "code",
   "execution_count": 32,
   "metadata": {},
   "outputs": [
    {
     "data": {
      "text/plain": [
       "(32900, 84)"
      ]
     },
     "execution_count": 32,
     "metadata": {},
     "output_type": "execute_result"
    }
   ],
   "source": [
    "matrix.shape"
   ]
  },
  {
   "cell_type": "markdown",
   "metadata": {},
   "source": [
    "# Map Gene Symbols To Up-to-date Approved Gene Symbols"
   ]
  },
  {
   "cell_type": "code",
   "execution_count": 33,
   "metadata": {},
   "outputs": [
    {
     "name": "stdout",
     "output_type": "stream",
     "text": [
      "Progeres: 100%  32900 Out of 32900   \r"
     ]
    }
   ],
   "source": [
    "uf.mapgenesymbols(matrix)"
   ]
  },
  {
   "cell_type": "code",
   "execution_count": 34,
   "metadata": {},
   "outputs": [
    {
     "data": {
      "text/plain": [
       "(27337, 84)"
      ]
     },
     "execution_count": 34,
     "metadata": {},
     "output_type": "execute_result"
    }
   ],
   "source": [
    "matrix.shape"
   ]
  },
  {
   "cell_type": "markdown",
   "metadata": {},
   "source": [
    "# Merge Duplicate genes (by taking the mean)"
   ]
  },
  {
   "cell_type": "code",
   "execution_count": 35,
   "metadata": {
    "collapsed": true
   },
   "outputs": [],
   "source": [
    "matrix = uf.merge(matrix, 'row', 'mean')"
   ]
  },
  {
   "cell_type": "code",
   "execution_count": 36,
   "metadata": {},
   "outputs": [
    {
     "data": {
      "text/plain": [
       "(16290, 84)"
      ]
     },
     "execution_count": 36,
     "metadata": {},
     "output_type": "execute_result"
    }
   ],
   "source": [
    "matrix.shape"
   ]
  },
  {
   "cell_type": "markdown",
   "metadata": {},
   "source": [
    "# Save Unfiltered Matrix To File"
   ]
  },
  {
   "cell_type": "code",
   "execution_count": 37,
   "metadata": {
    "collapsed": true
   },
   "outputs": [],
   "source": [
    "filename = '~/./Documents/Harmonizome/BioGPS/Output/biogps_tissue_matrix_unfilltered_%s.tsv.zip'% str(datetime.date.today())[0:7].replace('-', '_')\n",
    "matrix.to_csv(filename, sep='\\t', compression='gzip')"
   ]
  },
  {
   "cell_type": "markdown",
   "metadata": {},
   "source": [
    "# Normalize Matrix (Quantile Normalize the matrix for the columns)"
   ]
  },
  {
   "cell_type": "code",
   "execution_count": 38,
   "metadata": {},
   "outputs": [
    {
     "name": "stdout",
     "output_type": "stream",
     "text": [
      "Step 2/2 progress: 100%  84 Out of 84   \r"
     ]
    }
   ],
   "source": [
    "normalized_matrix = uf.quantileNormalize(matrix)"
   ]
  },
  {
   "cell_type": "code",
   "execution_count": 39,
   "metadata": {},
   "outputs": [
    {
     "data": {
      "text/html": [
       "<div>\n",
       "<table border=\"1\" class=\"dataframe\">\n",
       "  <thead>\n",
       "    <tr style=\"text-align: right;\">\n",
       "      <th></th>\n",
       "      <th>721_B_lymphoblasts</th>\n",
       "      <th>Adipocyte</th>\n",
       "      <th>AdrenalCortex</th>\n",
       "      <th>Adrenalgland</th>\n",
       "      <th>Amygdala</th>\n",
       "      <th>Appendix</th>\n",
       "      <th>AtrioventricularNode</th>\n",
       "      <th>BDCA4+_DentriticCells</th>\n",
       "      <th>Bonemarrow</th>\n",
       "      <th>BronchialEpithelialCells</th>\n",
       "      <th>...</th>\n",
       "      <th>TrigeminalGanglion</th>\n",
       "      <th>Uterus</th>\n",
       "      <th>UterusCorpus</th>\n",
       "      <th>WholeBlood</th>\n",
       "      <th>Wholebrain</th>\n",
       "      <th>colon</th>\n",
       "      <th>pineal_day</th>\n",
       "      <th>pineal_night</th>\n",
       "      <th>retina</th>\n",
       "      <th>small_intestine</th>\n",
       "    </tr>\n",
       "    <tr>\n",
       "      <th>Genes</th>\n",
       "      <th></th>\n",
       "      <th></th>\n",
       "      <th></th>\n",
       "      <th></th>\n",
       "      <th></th>\n",
       "      <th></th>\n",
       "      <th></th>\n",
       "      <th></th>\n",
       "      <th></th>\n",
       "      <th></th>\n",
       "      <th></th>\n",
       "      <th></th>\n",
       "      <th></th>\n",
       "      <th></th>\n",
       "      <th></th>\n",
       "      <th></th>\n",
       "      <th></th>\n",
       "      <th></th>\n",
       "      <th></th>\n",
       "      <th></th>\n",
       "      <th></th>\n",
       "    </tr>\n",
       "  </thead>\n",
       "  <tbody>\n",
       "    <tr>\n",
       "      <th>A1BG</th>\n",
       "      <td>3.199901</td>\n",
       "      <td>4.041548</td>\n",
       "      <td>3.906944</td>\n",
       "      <td>4.521200</td>\n",
       "      <td>3.634861</td>\n",
       "      <td>3.806369</td>\n",
       "      <td>4.643323</td>\n",
       "      <td>3.644474</td>\n",
       "      <td>3.991111</td>\n",
       "      <td>4.054127</td>\n",
       "      <td>...</td>\n",
       "      <td>3.895397</td>\n",
       "      <td>4.688155</td>\n",
       "      <td>4.200655</td>\n",
       "      <td>3.681052</td>\n",
       "      <td>4.473393</td>\n",
       "      <td>3.931607</td>\n",
       "      <td>3.280913</td>\n",
       "      <td>3.301865</td>\n",
       "      <td>3.267679</td>\n",
       "      <td>4.102748</td>\n",
       "    </tr>\n",
       "    <tr>\n",
       "      <th>A1CF</th>\n",
       "      <td>23.015377</td>\n",
       "      <td>45.264664</td>\n",
       "      <td>119.112252</td>\n",
       "      <td>78.657728</td>\n",
       "      <td>43.001081</td>\n",
       "      <td>172.588810</td>\n",
       "      <td>134.577191</td>\n",
       "      <td>17.407373</td>\n",
       "      <td>109.159048</td>\n",
       "      <td>43.827039</td>\n",
       "      <td>...</td>\n",
       "      <td>176.313988</td>\n",
       "      <td>41.510339</td>\n",
       "      <td>184.067103</td>\n",
       "      <td>46.541845</td>\n",
       "      <td>36.856684</td>\n",
       "      <td>209.563909</td>\n",
       "      <td>25.732613</td>\n",
       "      <td>22.925188</td>\n",
       "      <td>38.271736</td>\n",
       "      <td>215.614018</td>\n",
       "    </tr>\n",
       "    <tr>\n",
       "      <th>A2M</th>\n",
       "      <td>4.523333</td>\n",
       "      <td>515.155962</td>\n",
       "      <td>1071.795397</td>\n",
       "      <td>1162.577718</td>\n",
       "      <td>235.745476</td>\n",
       "      <td>1830.685694</td>\n",
       "      <td>1331.946012</td>\n",
       "      <td>5.960268</td>\n",
       "      <td>44.544415</td>\n",
       "      <td>4.470694</td>\n",
       "      <td>...</td>\n",
       "      <td>942.678474</td>\n",
       "      <td>1994.252232</td>\n",
       "      <td>1423.887878</td>\n",
       "      <td>14.031111</td>\n",
       "      <td>178.359702</td>\n",
       "      <td>486.338194</td>\n",
       "      <td>240.905040</td>\n",
       "      <td>298.059673</td>\n",
       "      <td>1856.987609</td>\n",
       "      <td>1022.991583</td>\n",
       "    </tr>\n",
       "    <tr>\n",
       "      <th>A2ML1</th>\n",
       "      <td>5.719881</td>\n",
       "      <td>6.556875</td>\n",
       "      <td>6.150506</td>\n",
       "      <td>7.014725</td>\n",
       "      <td>6.159802</td>\n",
       "      <td>6.153735</td>\n",
       "      <td>6.960040</td>\n",
       "      <td>6.188879</td>\n",
       "      <td>6.349653</td>\n",
       "      <td>6.598065</td>\n",
       "      <td>...</td>\n",
       "      <td>6.154940</td>\n",
       "      <td>7.144673</td>\n",
       "      <td>6.604454</td>\n",
       "      <td>6.132960</td>\n",
       "      <td>6.997986</td>\n",
       "      <td>6.429673</td>\n",
       "      <td>5.581862</td>\n",
       "      <td>5.637321</td>\n",
       "      <td>5.562614</td>\n",
       "      <td>6.552163</td>\n",
       "    </tr>\n",
       "    <tr>\n",
       "      <th>A4GALT</th>\n",
       "      <td>9.792452</td>\n",
       "      <td>12.344960</td>\n",
       "      <td>9.446047</td>\n",
       "      <td>9.335357</td>\n",
       "      <td>9.341147</td>\n",
       "      <td>7.484554</td>\n",
       "      <td>8.588153</td>\n",
       "      <td>9.308036</td>\n",
       "      <td>9.575996</td>\n",
       "      <td>13.722976</td>\n",
       "      <td>...</td>\n",
       "      <td>9.232199</td>\n",
       "      <td>9.158194</td>\n",
       "      <td>29.440565</td>\n",
       "      <td>9.667222</td>\n",
       "      <td>9.080918</td>\n",
       "      <td>9.473061</td>\n",
       "      <td>8.609970</td>\n",
       "      <td>8.549683</td>\n",
       "      <td>8.950694</td>\n",
       "      <td>9.379573</td>\n",
       "    </tr>\n",
       "  </tbody>\n",
       "</table>\n",
       "<p>5 rows × 84 columns</p>\n",
       "</div>"
      ],
      "text/plain": [
       "        721_B_lymphoblasts   Adipocyte  AdrenalCortex  Adrenalgland  \\\n",
       "Genes                                                                 \n",
       "A1BG              3.199901    4.041548       3.906944      4.521200   \n",
       "A1CF             23.015377   45.264664     119.112252     78.657728   \n",
       "A2M               4.523333  515.155962    1071.795397   1162.577718   \n",
       "A2ML1             5.719881    6.556875       6.150506      7.014725   \n",
       "A4GALT            9.792452   12.344960       9.446047      9.335357   \n",
       "\n",
       "          Amygdala     Appendix  AtrioventricularNode  BDCA4+_DentriticCells  \\\n",
       "Genes                                                                          \n",
       "A1BG      3.634861     3.806369              4.643323               3.644474   \n",
       "A1CF     43.001081   172.588810            134.577191              17.407373   \n",
       "A2M     235.745476  1830.685694           1331.946012               5.960268   \n",
       "A2ML1     6.159802     6.153735              6.960040               6.188879   \n",
       "A4GALT    9.341147     7.484554              8.588153               9.308036   \n",
       "\n",
       "        Bonemarrow  BronchialEpithelialCells       ...         \\\n",
       "Genes                                              ...          \n",
       "A1BG      3.991111                  4.054127       ...          \n",
       "A1CF    109.159048                 43.827039       ...          \n",
       "A2M      44.544415                  4.470694       ...          \n",
       "A2ML1     6.349653                  6.598065       ...          \n",
       "A4GALT    9.575996                 13.722976       ...          \n",
       "\n",
       "        TrigeminalGanglion       Uterus  UterusCorpus  WholeBlood  Wholebrain  \\\n",
       "Genes                                                                           \n",
       "A1BG              3.895397     4.688155      4.200655    3.681052    4.473393   \n",
       "A1CF            176.313988    41.510339    184.067103   46.541845   36.856684   \n",
       "A2M             942.678474  1994.252232   1423.887878   14.031111  178.359702   \n",
       "A2ML1             6.154940     7.144673      6.604454    6.132960    6.997986   \n",
       "A4GALT            9.232199     9.158194     29.440565    9.667222    9.080918   \n",
       "\n",
       "             colon  pineal_day  pineal_night       retina  small_intestine  \n",
       "Genes                                                                       \n",
       "A1BG      3.931607    3.280913      3.301865     3.267679         4.102748  \n",
       "A1CF    209.563909   25.732613     22.925188    38.271736       215.614018  \n",
       "A2M     486.338194  240.905040    298.059673  1856.987609      1022.991583  \n",
       "A2ML1     6.429673    5.581862      5.637321     5.562614         6.552163  \n",
       "A4GALT    9.473061    8.609970      8.549683     8.950694         9.379573  \n",
       "\n",
       "[5 rows x 84 columns]"
      ]
     },
     "execution_count": 39,
     "metadata": {},
     "output_type": "execute_result"
    }
   ],
   "source": [
    "normalized_matrix.head()"
   ]
  },
  {
   "cell_type": "markdown",
   "metadata": {},
   "source": [
    "# Nomalize Matrix (z-score the rows)"
   ]
  },
  {
   "cell_type": "code",
   "execution_count": 40,
   "metadata": {},
   "outputs": [
    {
     "name": "stdout",
     "output_type": "stream",
     "text": [
      "Progress: 100%  16290 Out of 16290   \r"
     ]
    }
   ],
   "source": [
    "uf.zscore(normalized_matrix, 'row')"
   ]
  },
  {
   "cell_type": "code",
   "execution_count": 41,
   "metadata": {},
   "outputs": [
    {
     "data": {
      "text/html": [
       "<div>\n",
       "<table border=\"1\" class=\"dataframe\">\n",
       "  <thead>\n",
       "    <tr style=\"text-align: right;\">\n",
       "      <th></th>\n",
       "      <th>721_B_lymphoblasts</th>\n",
       "      <th>Adipocyte</th>\n",
       "      <th>AdrenalCortex</th>\n",
       "      <th>Adrenalgland</th>\n",
       "      <th>Amygdala</th>\n",
       "      <th>Appendix</th>\n",
       "      <th>AtrioventricularNode</th>\n",
       "      <th>BDCA4+_DentriticCells</th>\n",
       "      <th>Bonemarrow</th>\n",
       "      <th>BronchialEpithelialCells</th>\n",
       "      <th>...</th>\n",
       "      <th>TrigeminalGanglion</th>\n",
       "      <th>Uterus</th>\n",
       "      <th>UterusCorpus</th>\n",
       "      <th>WholeBlood</th>\n",
       "      <th>Wholebrain</th>\n",
       "      <th>colon</th>\n",
       "      <th>pineal_day</th>\n",
       "      <th>pineal_night</th>\n",
       "      <th>retina</th>\n",
       "      <th>small_intestine</th>\n",
       "    </tr>\n",
       "    <tr>\n",
       "      <th>Genes</th>\n",
       "      <th></th>\n",
       "      <th></th>\n",
       "      <th></th>\n",
       "      <th></th>\n",
       "      <th></th>\n",
       "      <th></th>\n",
       "      <th></th>\n",
       "      <th></th>\n",
       "      <th></th>\n",
       "      <th></th>\n",
       "      <th></th>\n",
       "      <th></th>\n",
       "      <th></th>\n",
       "      <th></th>\n",
       "      <th></th>\n",
       "      <th></th>\n",
       "      <th></th>\n",
       "      <th></th>\n",
       "      <th></th>\n",
       "      <th></th>\n",
       "      <th></th>\n",
       "    </tr>\n",
       "  </thead>\n",
       "  <tbody>\n",
       "    <tr>\n",
       "      <th>A1BG</th>\n",
       "      <td>-0.115044</td>\n",
       "      <td>-0.113570</td>\n",
       "      <td>-0.113805</td>\n",
       "      <td>-0.112729</td>\n",
       "      <td>-0.114282</td>\n",
       "      <td>-0.113982</td>\n",
       "      <td>-0.112515</td>\n",
       "      <td>-0.114265</td>\n",
       "      <td>-0.113658</td>\n",
       "      <td>-0.113547</td>\n",
       "      <td>...</td>\n",
       "      <td>-0.113826</td>\n",
       "      <td>-0.112437</td>\n",
       "      <td>-0.113291</td>\n",
       "      <td>-0.114201</td>\n",
       "      <td>-0.112813</td>\n",
       "      <td>-0.113762</td>\n",
       "      <td>-0.114902</td>\n",
       "      <td>-0.114866</td>\n",
       "      <td>-0.114925</td>\n",
       "      <td>-0.113462</td>\n",
       "    </tr>\n",
       "    <tr>\n",
       "      <th>A1CF</th>\n",
       "      <td>-0.740754</td>\n",
       "      <td>-0.474764</td>\n",
       "      <td>0.408085</td>\n",
       "      <td>-0.075550</td>\n",
       "      <td>-0.501825</td>\n",
       "      <td>1.047397</td>\n",
       "      <td>0.592968</td>\n",
       "      <td>-0.807798</td>\n",
       "      <td>0.289094</td>\n",
       "      <td>-0.491951</td>\n",
       "      <td>...</td>\n",
       "      <td>1.091932</td>\n",
       "      <td>-0.519647</td>\n",
       "      <td>1.184620</td>\n",
       "      <td>-0.459495</td>\n",
       "      <td>-0.575281</td>\n",
       "      <td>1.489435</td>\n",
       "      <td>-0.708270</td>\n",
       "      <td>-0.741832</td>\n",
       "      <td>-0.558364</td>\n",
       "      <td>1.561764</td>\n",
       "    </tr>\n",
       "    <tr>\n",
       "      <th>A2M</th>\n",
       "      <td>-0.774974</td>\n",
       "      <td>-0.171022</td>\n",
       "      <td>0.487344</td>\n",
       "      <td>0.594717</td>\n",
       "      <td>-0.501495</td>\n",
       "      <td>1.384923</td>\n",
       "      <td>0.795037</td>\n",
       "      <td>-0.773274</td>\n",
       "      <td>-0.727639</td>\n",
       "      <td>-0.775036</td>\n",
       "      <td>...</td>\n",
       "      <td>0.334631</td>\n",
       "      <td>1.578381</td>\n",
       "      <td>0.903782</td>\n",
       "      <td>-0.763728</td>\n",
       "      <td>-0.569369</td>\n",
       "      <td>-0.205107</td>\n",
       "      <td>-0.495393</td>\n",
       "      <td>-0.427793</td>\n",
       "      <td>1.416031</td>\n",
       "      <td>0.429621</td>\n",
       "    </tr>\n",
       "    <tr>\n",
       "      <th>A2ML1</th>\n",
       "      <td>-0.854018</td>\n",
       "      <td>0.058569</td>\n",
       "      <td>-0.384501</td>\n",
       "      <td>0.557770</td>\n",
       "      <td>-0.374366</td>\n",
       "      <td>-0.380981</td>\n",
       "      <td>0.498145</td>\n",
       "      <td>-0.342663</td>\n",
       "      <td>-0.167369</td>\n",
       "      <td>0.103480</td>\n",
       "      <td>...</td>\n",
       "      <td>-0.379666</td>\n",
       "      <td>0.699454</td>\n",
       "      <td>0.110445</td>\n",
       "      <td>-0.403632</td>\n",
       "      <td>0.539519</td>\n",
       "      <td>-0.080122</td>\n",
       "      <td>-1.004503</td>\n",
       "      <td>-0.944034</td>\n",
       "      <td>-1.025489</td>\n",
       "      <td>0.053431</td>\n",
       "    </tr>\n",
       "    <tr>\n",
       "      <th>A4GALT</th>\n",
       "      <td>-0.101142</td>\n",
       "      <td>0.775994</td>\n",
       "      <td>-0.220179</td>\n",
       "      <td>-0.258216</td>\n",
       "      <td>-0.256227</td>\n",
       "      <td>-0.894221</td>\n",
       "      <td>-0.514983</td>\n",
       "      <td>-0.267605</td>\n",
       "      <td>-0.175524</td>\n",
       "      <td>1.249531</td>\n",
       "      <td>...</td>\n",
       "      <td>-0.293665</td>\n",
       "      <td>-0.319096</td>\n",
       "      <td>6.650675</td>\n",
       "      <td>-0.144175</td>\n",
       "      <td>-0.345651</td>\n",
       "      <td>-0.210897</td>\n",
       "      <td>-0.507486</td>\n",
       "      <td>-0.528203</td>\n",
       "      <td>-0.390401</td>\n",
       "      <td>-0.243022</td>\n",
       "    </tr>\n",
       "  </tbody>\n",
       "</table>\n",
       "<p>5 rows × 84 columns</p>\n",
       "</div>"
      ],
      "text/plain": [
       "        721_B_lymphoblasts  Adipocyte  AdrenalCortex  Adrenalgland  Amygdala  \\\n",
       "Genes                                                                          \n",
       "A1BG             -0.115044  -0.113570      -0.113805     -0.112729 -0.114282   \n",
       "A1CF             -0.740754  -0.474764       0.408085     -0.075550 -0.501825   \n",
       "A2M              -0.774974  -0.171022       0.487344      0.594717 -0.501495   \n",
       "A2ML1            -0.854018   0.058569      -0.384501      0.557770 -0.374366   \n",
       "A4GALT           -0.101142   0.775994      -0.220179     -0.258216 -0.256227   \n",
       "\n",
       "        Appendix  AtrioventricularNode  BDCA4+_DentriticCells  Bonemarrow  \\\n",
       "Genes                                                                       \n",
       "A1BG   -0.113982             -0.112515              -0.114265   -0.113658   \n",
       "A1CF    1.047397              0.592968              -0.807798    0.289094   \n",
       "A2M     1.384923              0.795037              -0.773274   -0.727639   \n",
       "A2ML1  -0.380981              0.498145              -0.342663   -0.167369   \n",
       "A4GALT -0.894221             -0.514983              -0.267605   -0.175524   \n",
       "\n",
       "        BronchialEpithelialCells       ...         TrigeminalGanglion  \\\n",
       "Genes                                  ...                              \n",
       "A1BG                   -0.113547       ...                  -0.113826   \n",
       "A1CF                   -0.491951       ...                   1.091932   \n",
       "A2M                    -0.775036       ...                   0.334631   \n",
       "A2ML1                   0.103480       ...                  -0.379666   \n",
       "A4GALT                  1.249531       ...                  -0.293665   \n",
       "\n",
       "          Uterus  UterusCorpus  WholeBlood  Wholebrain     colon  pineal_day  \\\n",
       "Genes                                                                          \n",
       "A1BG   -0.112437     -0.113291   -0.114201   -0.112813 -0.113762   -0.114902   \n",
       "A1CF   -0.519647      1.184620   -0.459495   -0.575281  1.489435   -0.708270   \n",
       "A2M     1.578381      0.903782   -0.763728   -0.569369 -0.205107   -0.495393   \n",
       "A2ML1   0.699454      0.110445   -0.403632    0.539519 -0.080122   -1.004503   \n",
       "A4GALT -0.319096      6.650675   -0.144175   -0.345651 -0.210897   -0.507486   \n",
       "\n",
       "        pineal_night    retina  small_intestine  \n",
       "Genes                                            \n",
       "A1BG       -0.114866 -0.114925        -0.113462  \n",
       "A1CF       -0.741832 -0.558364         1.561764  \n",
       "A2M        -0.427793  1.416031         0.429621  \n",
       "A2ML1      -0.944034 -1.025489         0.053431  \n",
       "A4GALT     -0.528203 -0.390401        -0.243022  \n",
       "\n",
       "[5 rows x 84 columns]"
      ]
     },
     "execution_count": 41,
     "metadata": {},
     "output_type": "execute_result"
    }
   ],
   "source": [
    "normalized_matrix.head()"
   ]
  },
  {
   "cell_type": "markdown",
   "metadata": {},
   "source": [
    "# Save Filtered Matrix"
   ]
  },
  {
   "cell_type": "code",
   "execution_count": 42,
   "metadata": {
    "collapsed": true
   },
   "outputs": [],
   "source": [
    "filename = '~/./Documents/Harmonizome/BioGPS/Output/biogps_tissue_matrix_filltered_%s.tsv.zip'% str(datetime.date.today())[0:7].replace('-', '_')\n",
    "normalized_matrix.to_csv(filename, sep='\\t', compression='gzip')"
   ]
  },
  {
   "cell_type": "markdown",
   "metadata": {},
   "source": [
    "# Create Tertiary Matrix"
   ]
  },
  {
   "cell_type": "code",
   "execution_count": 43,
   "metadata": {},
   "outputs": [
    {
     "name": "stdout",
     "output_type": "stream",
     "text": [
      "Progeres: 100%  84 Out of 84   \r"
     ]
    }
   ],
   "source": [
    "tertiary_matrix = uf.createTertiaryMarix(normalized_matrix)"
   ]
  },
  {
   "cell_type": "code",
   "execution_count": 44,
   "metadata": {},
   "outputs": [
    {
     "data": {
      "text/html": [
       "<div>\n",
       "<table border=\"1\" class=\"dataframe\">\n",
       "  <thead>\n",
       "    <tr style=\"text-align: right;\">\n",
       "      <th></th>\n",
       "      <th>721_B_lymphoblasts</th>\n",
       "      <th>Adipocyte</th>\n",
       "      <th>AdrenalCortex</th>\n",
       "      <th>Adrenalgland</th>\n",
       "      <th>Amygdala</th>\n",
       "      <th>Appendix</th>\n",
       "      <th>AtrioventricularNode</th>\n",
       "      <th>BDCA4+_DentriticCells</th>\n",
       "      <th>Bonemarrow</th>\n",
       "      <th>BronchialEpithelialCells</th>\n",
       "      <th>...</th>\n",
       "      <th>TrigeminalGanglion</th>\n",
       "      <th>Uterus</th>\n",
       "      <th>UterusCorpus</th>\n",
       "      <th>WholeBlood</th>\n",
       "      <th>Wholebrain</th>\n",
       "      <th>colon</th>\n",
       "      <th>pineal_day</th>\n",
       "      <th>pineal_night</th>\n",
       "      <th>retina</th>\n",
       "      <th>small_intestine</th>\n",
       "    </tr>\n",
       "    <tr>\n",
       "      <th>Genes</th>\n",
       "      <th></th>\n",
       "      <th></th>\n",
       "      <th></th>\n",
       "      <th></th>\n",
       "      <th></th>\n",
       "      <th></th>\n",
       "      <th></th>\n",
       "      <th></th>\n",
       "      <th></th>\n",
       "      <th></th>\n",
       "      <th></th>\n",
       "      <th></th>\n",
       "      <th></th>\n",
       "      <th></th>\n",
       "      <th></th>\n",
       "      <th></th>\n",
       "      <th></th>\n",
       "      <th></th>\n",
       "      <th></th>\n",
       "      <th></th>\n",
       "      <th></th>\n",
       "    </tr>\n",
       "  </thead>\n",
       "  <tbody>\n",
       "    <tr>\n",
       "      <th>A1BG</th>\n",
       "      <td>0.0</td>\n",
       "      <td>0.0</td>\n",
       "      <td>0.0</td>\n",
       "      <td>0.0</td>\n",
       "      <td>0.0</td>\n",
       "      <td>0.0</td>\n",
       "      <td>0.0</td>\n",
       "      <td>0.0</td>\n",
       "      <td>0.0</td>\n",
       "      <td>0.0</td>\n",
       "      <td>...</td>\n",
       "      <td>0.0</td>\n",
       "      <td>0.0</td>\n",
       "      <td>0.0</td>\n",
       "      <td>0.0</td>\n",
       "      <td>0.0</td>\n",
       "      <td>0.0</td>\n",
       "      <td>0.0</td>\n",
       "      <td>0.0</td>\n",
       "      <td>0.0</td>\n",
       "      <td>0.0</td>\n",
       "    </tr>\n",
       "    <tr>\n",
       "      <th>A1CF</th>\n",
       "      <td>0.0</td>\n",
       "      <td>0.0</td>\n",
       "      <td>0.0</td>\n",
       "      <td>0.0</td>\n",
       "      <td>0.0</td>\n",
       "      <td>0.0</td>\n",
       "      <td>0.0</td>\n",
       "      <td>0.0</td>\n",
       "      <td>0.0</td>\n",
       "      <td>0.0</td>\n",
       "      <td>...</td>\n",
       "      <td>0.0</td>\n",
       "      <td>0.0</td>\n",
       "      <td>1.0</td>\n",
       "      <td>0.0</td>\n",
       "      <td>0.0</td>\n",
       "      <td>1.0</td>\n",
       "      <td>0.0</td>\n",
       "      <td>0.0</td>\n",
       "      <td>0.0</td>\n",
       "      <td>1.0</td>\n",
       "    </tr>\n",
       "    <tr>\n",
       "      <th>A2M</th>\n",
       "      <td>0.0</td>\n",
       "      <td>0.0</td>\n",
       "      <td>0.0</td>\n",
       "      <td>0.0</td>\n",
       "      <td>0.0</td>\n",
       "      <td>1.0</td>\n",
       "      <td>0.0</td>\n",
       "      <td>0.0</td>\n",
       "      <td>-1.0</td>\n",
       "      <td>-1.0</td>\n",
       "      <td>...</td>\n",
       "      <td>0.0</td>\n",
       "      <td>1.0</td>\n",
       "      <td>0.0</td>\n",
       "      <td>-1.0</td>\n",
       "      <td>0.0</td>\n",
       "      <td>0.0</td>\n",
       "      <td>0.0</td>\n",
       "      <td>0.0</td>\n",
       "      <td>1.0</td>\n",
       "      <td>1.0</td>\n",
       "    </tr>\n",
       "    <tr>\n",
       "      <th>A2ML1</th>\n",
       "      <td>0.0</td>\n",
       "      <td>0.0</td>\n",
       "      <td>0.0</td>\n",
       "      <td>0.0</td>\n",
       "      <td>0.0</td>\n",
       "      <td>0.0</td>\n",
       "      <td>0.0</td>\n",
       "      <td>0.0</td>\n",
       "      <td>0.0</td>\n",
       "      <td>0.0</td>\n",
       "      <td>...</td>\n",
       "      <td>0.0</td>\n",
       "      <td>0.0</td>\n",
       "      <td>0.0</td>\n",
       "      <td>0.0</td>\n",
       "      <td>0.0</td>\n",
       "      <td>0.0</td>\n",
       "      <td>0.0</td>\n",
       "      <td>0.0</td>\n",
       "      <td>0.0</td>\n",
       "      <td>0.0</td>\n",
       "    </tr>\n",
       "    <tr>\n",
       "      <th>A4GALT</th>\n",
       "      <td>0.0</td>\n",
       "      <td>1.0</td>\n",
       "      <td>0.0</td>\n",
       "      <td>0.0</td>\n",
       "      <td>0.0</td>\n",
       "      <td>-1.0</td>\n",
       "      <td>0.0</td>\n",
       "      <td>0.0</td>\n",
       "      <td>0.0</td>\n",
       "      <td>1.0</td>\n",
       "      <td>...</td>\n",
       "      <td>0.0</td>\n",
       "      <td>0.0</td>\n",
       "      <td>1.0</td>\n",
       "      <td>0.0</td>\n",
       "      <td>0.0</td>\n",
       "      <td>0.0</td>\n",
       "      <td>0.0</td>\n",
       "      <td>0.0</td>\n",
       "      <td>0.0</td>\n",
       "      <td>0.0</td>\n",
       "    </tr>\n",
       "  </tbody>\n",
       "</table>\n",
       "<p>5 rows × 84 columns</p>\n",
       "</div>"
      ],
      "text/plain": [
       "        721_B_lymphoblasts  Adipocyte  AdrenalCortex  Adrenalgland  Amygdala  \\\n",
       "Genes                                                                          \n",
       "A1BG                   0.0        0.0            0.0           0.0       0.0   \n",
       "A1CF                   0.0        0.0            0.0           0.0       0.0   \n",
       "A2M                    0.0        0.0            0.0           0.0       0.0   \n",
       "A2ML1                  0.0        0.0            0.0           0.0       0.0   \n",
       "A4GALT                 0.0        1.0            0.0           0.0       0.0   \n",
       "\n",
       "        Appendix  AtrioventricularNode  BDCA4+_DentriticCells  Bonemarrow  \\\n",
       "Genes                                                                       \n",
       "A1BG         0.0                   0.0                    0.0         0.0   \n",
       "A1CF         0.0                   0.0                    0.0         0.0   \n",
       "A2M          1.0                   0.0                    0.0        -1.0   \n",
       "A2ML1        0.0                   0.0                    0.0         0.0   \n",
       "A4GALT      -1.0                   0.0                    0.0         0.0   \n",
       "\n",
       "        BronchialEpithelialCells       ...         TrigeminalGanglion  Uterus  \\\n",
       "Genes                                  ...                                      \n",
       "A1BG                         0.0       ...                        0.0     0.0   \n",
       "A1CF                         0.0       ...                        0.0     0.0   \n",
       "A2M                         -1.0       ...                        0.0     1.0   \n",
       "A2ML1                        0.0       ...                        0.0     0.0   \n",
       "A4GALT                       1.0       ...                        0.0     0.0   \n",
       "\n",
       "        UterusCorpus  WholeBlood  Wholebrain  colon  pineal_day  pineal_night  \\\n",
       "Genes                                                                           \n",
       "A1BG             0.0         0.0         0.0    0.0         0.0           0.0   \n",
       "A1CF             1.0         0.0         0.0    1.0         0.0           0.0   \n",
       "A2M              0.0        -1.0         0.0    0.0         0.0           0.0   \n",
       "A2ML1            0.0         0.0         0.0    0.0         0.0           0.0   \n",
       "A4GALT           1.0         0.0         0.0    0.0         0.0           0.0   \n",
       "\n",
       "        retina  small_intestine  \n",
       "Genes                            \n",
       "A1BG       0.0              0.0  \n",
       "A1CF       0.0              1.0  \n",
       "A2M        1.0              1.0  \n",
       "A2ML1      0.0              0.0  \n",
       "A4GALT     0.0              0.0  \n",
       "\n",
       "[5 rows x 84 columns]"
      ]
     },
     "execution_count": 44,
     "metadata": {},
     "output_type": "execute_result"
    }
   ],
   "source": [
    "tertiary_matrix.head()"
   ]
  },
  {
   "cell_type": "markdown",
   "metadata": {},
   "source": [
    "# Save Teriary Matrix"
   ]
  },
  {
   "cell_type": "code",
   "execution_count": 45,
   "metadata": {
    "collapsed": true
   },
   "outputs": [],
   "source": [
    "filename = '~/./Documents/Harmonizome/BioGPS/Output/biogps_tissue_tertiary_matrix_%s.tsv.zip'% str(datetime.date.today())[0:7].replace('-', '_')\n",
    "tertiary_matrix.to_csv(filename, sep='\\t', compression='gzip')"
   ]
  },
  {
   "cell_type": "markdown",
   "metadata": {},
   "source": [
    "## Path to output files"
   ]
  },
  {
   "cell_type": "code",
   "execution_count": 46,
   "metadata": {
    "collapsed": true
   },
   "outputs": [],
   "source": [
    "path = '/Users/moshesilverstein/Documents/Harmonizome/BioGPS/Output/'"
   ]
  },
  {
   "cell_type": "markdown",
   "metadata": {},
   "source": [
    "# Create Up Gene Set Library"
   ]
  },
  {
   "cell_type": "code",
   "execution_count": 47,
   "metadata": {
    "collapsed": true
   },
   "outputs": [],
   "source": [
    "name = 'biogps_tissue_gene_up_set'"
   ]
  },
  {
   "cell_type": "code",
   "execution_count": 48,
   "metadata": {},
   "outputs": [
    {
     "name": "stdout",
     "output_type": "stream",
     "text": [
      "Progeres: 100%  84 Out of 84   \r"
     ]
    }
   ],
   "source": [
    "uf.createUpGeneSetLib(tertiary_matrix, path, name)"
   ]
  },
  {
   "cell_type": "markdown",
   "metadata": {},
   "source": [
    "# Create Down Gene Set Library"
   ]
  },
  {
   "cell_type": "code",
   "execution_count": 49,
   "metadata": {
    "collapsed": true
   },
   "outputs": [],
   "source": [
    "name = 'biogps_tissue_gene_down_set'"
   ]
  },
  {
   "cell_type": "code",
   "execution_count": 50,
   "metadata": {},
   "outputs": [
    {
     "name": "stdout",
     "output_type": "stream",
     "text": [
      "Progeres: 100%  84 Out of 84   \r"
     ]
    }
   ],
   "source": [
    "uf.createDownGeneSetLib(tertiary_matrix, path, name)"
   ]
  },
  {
   "cell_type": "markdown",
   "metadata": {},
   "source": [
    "# Create Up Attribute Library"
   ]
  },
  {
   "cell_type": "code",
   "execution_count": 51,
   "metadata": {
    "collapsed": true
   },
   "outputs": [],
   "source": [
    "name = 'biogps_tissue_attribute_up_set'"
   ]
  },
  {
   "cell_type": "code",
   "execution_count": 52,
   "metadata": {},
   "outputs": [
    {
     "name": "stdout",
     "output_type": "stream",
     "text": [
      "Progeres: 100%  16290 Out of 16290   \r"
     ]
    }
   ],
   "source": [
    "uf.createUpAttributeSetLib(tertiary_matrix, path, name)"
   ]
  },
  {
   "cell_type": "markdown",
   "metadata": {},
   "source": [
    "# Create Down Attribute Library"
   ]
  },
  {
   "cell_type": "code",
   "execution_count": 53,
   "metadata": {
    "collapsed": true
   },
   "outputs": [],
   "source": [
    "name = 'biogps_tissue_attribute_down_set'"
   ]
  },
  {
   "cell_type": "code",
   "execution_count": 54,
   "metadata": {},
   "outputs": [
    {
     "name": "stdout",
     "output_type": "stream",
     "text": [
      "Progeres: 100%  16290 Out of 16290   \r"
     ]
    }
   ],
   "source": [
    "uf.createDownAttributeSetLib(tertiary_matrix, path, name)"
   ]
  },
  {
   "cell_type": "markdown",
   "metadata": {},
   "source": [
    "# Create Gene Similarity Matrix"
   ]
  },
  {
   "cell_type": "code",
   "execution_count": 55,
   "metadata": {
    "collapsed": true
   },
   "outputs": [],
   "source": [
    "gene_similarity_matix = uf.createSimilarityMatrix(normalized_matrix, 'cosine')"
   ]
  },
  {
   "cell_type": "code",
   "execution_count": 56,
   "metadata": {},
   "outputs": [
    {
     "data": {
      "text/html": [
       "<div>\n",
       "<table border=\"1\" class=\"dataframe\">\n",
       "  <thead>\n",
       "    <tr style=\"text-align: right;\">\n",
       "      <th>Genes</th>\n",
       "      <th>A1BG</th>\n",
       "      <th>A1CF</th>\n",
       "      <th>A2M</th>\n",
       "      <th>A2ML1</th>\n",
       "      <th>A4GALT</th>\n",
       "      <th>A4GNT</th>\n",
       "      <th>AAAS</th>\n",
       "      <th>AACS</th>\n",
       "      <th>AADAC</th>\n",
       "      <th>AADACL2</th>\n",
       "      <th>...</th>\n",
       "      <th>ZW10</th>\n",
       "      <th>ZWILCH</th>\n",
       "      <th>ZWINT</th>\n",
       "      <th>ZXDB</th>\n",
       "      <th>ZXDC</th>\n",
       "      <th>ZYG11A</th>\n",
       "      <th>ZYG11B</th>\n",
       "      <th>ZYX</th>\n",
       "      <th>ZZEF1</th>\n",
       "      <th>ZZZ3</th>\n",
       "    </tr>\n",
       "    <tr>\n",
       "      <th>Genes</th>\n",
       "      <th></th>\n",
       "      <th></th>\n",
       "      <th></th>\n",
       "      <th></th>\n",
       "      <th></th>\n",
       "      <th></th>\n",
       "      <th></th>\n",
       "      <th></th>\n",
       "      <th></th>\n",
       "      <th></th>\n",
       "      <th></th>\n",
       "      <th></th>\n",
       "      <th></th>\n",
       "      <th></th>\n",
       "      <th></th>\n",
       "      <th></th>\n",
       "      <th></th>\n",
       "      <th></th>\n",
       "      <th></th>\n",
       "      <th></th>\n",
       "      <th></th>\n",
       "    </tr>\n",
       "  </thead>\n",
       "  <tbody>\n",
       "    <tr>\n",
       "      <th>A1BG</th>\n",
       "      <td>1.000000</td>\n",
       "      <td>0.322959</td>\n",
       "      <td>0.110656</td>\n",
       "      <td>-0.134977</td>\n",
       "      <td>0.093060</td>\n",
       "      <td>0.252333</td>\n",
       "      <td>0.041273</td>\n",
       "      <td>-0.069542</td>\n",
       "      <td>0.131840</td>\n",
       "      <td>-0.186413</td>\n",
       "      <td>...</td>\n",
       "      <td>0.033096</td>\n",
       "      <td>-0.036431</td>\n",
       "      <td>-0.040592</td>\n",
       "      <td>0.084693</td>\n",
       "      <td>0.054873</td>\n",
       "      <td>-0.186413</td>\n",
       "      <td>-0.116763</td>\n",
       "      <td>-0.007497</td>\n",
       "      <td>-0.085189</td>\n",
       "      <td>-0.033879</td>\n",
       "    </tr>\n",
       "    <tr>\n",
       "      <th>A1CF</th>\n",
       "      <td>0.322959</td>\n",
       "      <td>1.000000</td>\n",
       "      <td>0.402491</td>\n",
       "      <td>0.080385</td>\n",
       "      <td>0.024362</td>\n",
       "      <td>-0.131374</td>\n",
       "      <td>0.308008</td>\n",
       "      <td>-0.140971</td>\n",
       "      <td>0.356973</td>\n",
       "      <td>0.073664</td>\n",
       "      <td>...</td>\n",
       "      <td>0.026062</td>\n",
       "      <td>-0.169989</td>\n",
       "      <td>-0.110484</td>\n",
       "      <td>0.117417</td>\n",
       "      <td>-0.263662</td>\n",
       "      <td>0.073664</td>\n",
       "      <td>0.241705</td>\n",
       "      <td>-0.075082</td>\n",
       "      <td>-0.118614</td>\n",
       "      <td>-0.255403</td>\n",
       "    </tr>\n",
       "    <tr>\n",
       "      <th>A2M</th>\n",
       "      <td>0.110656</td>\n",
       "      <td>0.402491</td>\n",
       "      <td>1.000000</td>\n",
       "      <td>0.132584</td>\n",
       "      <td>-0.040558</td>\n",
       "      <td>-0.199738</td>\n",
       "      <td>0.081111</td>\n",
       "      <td>-0.161729</td>\n",
       "      <td>0.184152</td>\n",
       "      <td>0.239683</td>\n",
       "      <td>...</td>\n",
       "      <td>-0.236796</td>\n",
       "      <td>-0.174343</td>\n",
       "      <td>-0.207875</td>\n",
       "      <td>-0.001864</td>\n",
       "      <td>-0.237624</td>\n",
       "      <td>0.239683</td>\n",
       "      <td>0.285857</td>\n",
       "      <td>0.151805</td>\n",
       "      <td>0.238288</td>\n",
       "      <td>-0.210511</td>\n",
       "    </tr>\n",
       "    <tr>\n",
       "      <th>A2ML1</th>\n",
       "      <td>-0.134977</td>\n",
       "      <td>0.080385</td>\n",
       "      <td>0.132584</td>\n",
       "      <td>1.000000</td>\n",
       "      <td>-0.051676</td>\n",
       "      <td>-0.651447</td>\n",
       "      <td>0.079173</td>\n",
       "      <td>0.016533</td>\n",
       "      <td>-0.004324</td>\n",
       "      <td>0.652901</td>\n",
       "      <td>...</td>\n",
       "      <td>-0.236542</td>\n",
       "      <td>-0.041155</td>\n",
       "      <td>-0.008923</td>\n",
       "      <td>-0.046431</td>\n",
       "      <td>-0.157336</td>\n",
       "      <td>0.652901</td>\n",
       "      <td>0.625789</td>\n",
       "      <td>-0.012733</td>\n",
       "      <td>0.152922</td>\n",
       "      <td>-0.236640</td>\n",
       "    </tr>\n",
       "    <tr>\n",
       "      <th>A4GALT</th>\n",
       "      <td>0.093060</td>\n",
       "      <td>0.024362</td>\n",
       "      <td>-0.040558</td>\n",
       "      <td>-0.051676</td>\n",
       "      <td>1.000000</td>\n",
       "      <td>0.004739</td>\n",
       "      <td>0.024308</td>\n",
       "      <td>-0.088234</td>\n",
       "      <td>-0.024872</td>\n",
       "      <td>-0.040255</td>\n",
       "      <td>...</td>\n",
       "      <td>-0.053479</td>\n",
       "      <td>0.028592</td>\n",
       "      <td>0.237689</td>\n",
       "      <td>-0.047273</td>\n",
       "      <td>0.001343</td>\n",
       "      <td>-0.040255</td>\n",
       "      <td>0.025602</td>\n",
       "      <td>0.197550</td>\n",
       "      <td>-0.011837</td>\n",
       "      <td>-0.059276</td>\n",
       "    </tr>\n",
       "  </tbody>\n",
       "</table>\n",
       "<p>5 rows × 16290 columns</p>\n",
       "</div>"
      ],
      "text/plain": [
       "Genes       A1BG      A1CF       A2M     A2ML1    A4GALT     A4GNT      AAAS  \\\n",
       "Genes                                                                          \n",
       "A1BG    1.000000  0.322959  0.110656 -0.134977  0.093060  0.252333  0.041273   \n",
       "A1CF    0.322959  1.000000  0.402491  0.080385  0.024362 -0.131374  0.308008   \n",
       "A2M     0.110656  0.402491  1.000000  0.132584 -0.040558 -0.199738  0.081111   \n",
       "A2ML1  -0.134977  0.080385  0.132584  1.000000 -0.051676 -0.651447  0.079173   \n",
       "A4GALT  0.093060  0.024362 -0.040558 -0.051676  1.000000  0.004739  0.024308   \n",
       "\n",
       "Genes       AACS     AADAC   AADACL2    ...         ZW10    ZWILCH     ZWINT  \\\n",
       "Genes                                   ...                                    \n",
       "A1BG   -0.069542  0.131840 -0.186413    ...     0.033096 -0.036431 -0.040592   \n",
       "A1CF   -0.140971  0.356973  0.073664    ...     0.026062 -0.169989 -0.110484   \n",
       "A2M    -0.161729  0.184152  0.239683    ...    -0.236796 -0.174343 -0.207875   \n",
       "A2ML1   0.016533 -0.004324  0.652901    ...    -0.236542 -0.041155 -0.008923   \n",
       "A4GALT -0.088234 -0.024872 -0.040255    ...    -0.053479  0.028592  0.237689   \n",
       "\n",
       "Genes       ZXDB      ZXDC    ZYG11A    ZYG11B       ZYX     ZZEF1      ZZZ3  \n",
       "Genes                                                                         \n",
       "A1BG    0.084693  0.054873 -0.186413 -0.116763 -0.007497 -0.085189 -0.033879  \n",
       "A1CF    0.117417 -0.263662  0.073664  0.241705 -0.075082 -0.118614 -0.255403  \n",
       "A2M    -0.001864 -0.237624  0.239683  0.285857  0.151805  0.238288 -0.210511  \n",
       "A2ML1  -0.046431 -0.157336  0.652901  0.625789 -0.012733  0.152922 -0.236640  \n",
       "A4GALT -0.047273  0.001343 -0.040255  0.025602  0.197550 -0.011837 -0.059276  \n",
       "\n",
       "[5 rows x 16290 columns]"
      ]
     },
     "execution_count": 56,
     "metadata": {},
     "output_type": "execute_result"
    }
   ],
   "source": [
    "gene_similarity_matix.head()"
   ]
  },
  {
   "cell_type": "markdown",
   "metadata": {},
   "source": [
    "# Save Gene Similarity Matrix "
   ]
  },
  {
   "cell_type": "code",
   "execution_count": 57,
   "metadata": {
    "collapsed": true
   },
   "outputs": [],
   "source": [
    "filename = '~/./Documents/Harmonizome/BioGPS/Output/biogps_tissue_gene_similarity_matix_%s.tsv.zip'% str(datetime.date.today())[0:7].replace('-', '_')\n",
    "gene_similarity_matix.to_csv(filename, sep='\\t', compression='gzip')"
   ]
  },
  {
   "cell_type": "markdown",
   "metadata": {},
   "source": [
    "# Create Attribute Similarity matrix"
   ]
  },
  {
   "cell_type": "code",
   "execution_count": 58,
   "metadata": {
    "collapsed": true
   },
   "outputs": [],
   "source": [
    "attribute_similarity_matix = uf.createSimilarityMatrix(normalized_matrix.T, 'cosine')"
   ]
  },
  {
   "cell_type": "code",
   "execution_count": 59,
   "metadata": {},
   "outputs": [
    {
     "data": {
      "text/html": [
       "<div>\n",
       "<table border=\"1\" class=\"dataframe\">\n",
       "  <thead>\n",
       "    <tr style=\"text-align: right;\">\n",
       "      <th></th>\n",
       "      <th>721_B_lymphoblasts</th>\n",
       "      <th>Adipocyte</th>\n",
       "      <th>AdrenalCortex</th>\n",
       "      <th>Adrenalgland</th>\n",
       "      <th>Amygdala</th>\n",
       "      <th>Appendix</th>\n",
       "      <th>AtrioventricularNode</th>\n",
       "      <th>BDCA4+_DentriticCells</th>\n",
       "      <th>Bonemarrow</th>\n",
       "      <th>BronchialEpithelialCells</th>\n",
       "      <th>...</th>\n",
       "      <th>TrigeminalGanglion</th>\n",
       "      <th>Uterus</th>\n",
       "      <th>UterusCorpus</th>\n",
       "      <th>WholeBlood</th>\n",
       "      <th>Wholebrain</th>\n",
       "      <th>colon</th>\n",
       "      <th>pineal_day</th>\n",
       "      <th>pineal_night</th>\n",
       "      <th>retina</th>\n",
       "      <th>small_intestine</th>\n",
       "    </tr>\n",
       "  </thead>\n",
       "  <tbody>\n",
       "    <tr>\n",
       "      <th>721_B_lymphoblasts</th>\n",
       "      <td>1.000000</td>\n",
       "      <td>-0.094872</td>\n",
       "      <td>-0.100289</td>\n",
       "      <td>-0.303127</td>\n",
       "      <td>0.001224</td>\n",
       "      <td>-0.157276</td>\n",
       "      <td>-0.341758</td>\n",
       "      <td>0.332251</td>\n",
       "      <td>-0.136569</td>\n",
       "      <td>0.148001</td>\n",
       "      <td>...</td>\n",
       "      <td>-0.173913</td>\n",
       "      <td>-0.194198</td>\n",
       "      <td>-0.273877</td>\n",
       "      <td>0.101298</td>\n",
       "      <td>-0.156576</td>\n",
       "      <td>0.036652</td>\n",
       "      <td>0.178185</td>\n",
       "      <td>0.159789</td>\n",
       "      <td>0.167760</td>\n",
       "      <td>-0.001557</td>\n",
       "    </tr>\n",
       "    <tr>\n",
       "      <th>Adipocyte</th>\n",
       "      <td>-0.094872</td>\n",
       "      <td>1.000000</td>\n",
       "      <td>-0.000761</td>\n",
       "      <td>0.155220</td>\n",
       "      <td>-0.074320</td>\n",
       "      <td>-0.029929</td>\n",
       "      <td>-0.002661</td>\n",
       "      <td>-0.072620</td>\n",
       "      <td>-0.001283</td>\n",
       "      <td>0.124180</td>\n",
       "      <td>...</td>\n",
       "      <td>-0.073781</td>\n",
       "      <td>0.151581</td>\n",
       "      <td>0.087753</td>\n",
       "      <td>-0.036637</td>\n",
       "      <td>-0.002973</td>\n",
       "      <td>0.057661</td>\n",
       "      <td>-0.110901</td>\n",
       "      <td>-0.101052</td>\n",
       "      <td>-0.014133</td>\n",
       "      <td>0.088108</td>\n",
       "    </tr>\n",
       "    <tr>\n",
       "      <th>AdrenalCortex</th>\n",
       "      <td>-0.100289</td>\n",
       "      <td>-0.000761</td>\n",
       "      <td>1.000000</td>\n",
       "      <td>0.252652</td>\n",
       "      <td>-0.132420</td>\n",
       "      <td>0.280405</td>\n",
       "      <td>0.213322</td>\n",
       "      <td>-0.150851</td>\n",
       "      <td>0.114985</td>\n",
       "      <td>-0.125041</td>\n",
       "      <td>...</td>\n",
       "      <td>0.333139</td>\n",
       "      <td>-0.181191</td>\n",
       "      <td>0.155313</td>\n",
       "      <td>-0.077131</td>\n",
       "      <td>-0.269412</td>\n",
       "      <td>-0.083766</td>\n",
       "      <td>-0.005330</td>\n",
       "      <td>-0.007318</td>\n",
       "      <td>0.026936</td>\n",
       "      <td>-0.119775</td>\n",
       "    </tr>\n",
       "    <tr>\n",
       "      <th>Adrenalgland</th>\n",
       "      <td>-0.303127</td>\n",
       "      <td>0.155220</td>\n",
       "      <td>0.252652</td>\n",
       "      <td>1.000000</td>\n",
       "      <td>-0.187090</td>\n",
       "      <td>-0.064232</td>\n",
       "      <td>0.216149</td>\n",
       "      <td>-0.213493</td>\n",
       "      <td>0.098472</td>\n",
       "      <td>0.018975</td>\n",
       "      <td>...</td>\n",
       "      <td>-0.059864</td>\n",
       "      <td>0.216290</td>\n",
       "      <td>0.177941</td>\n",
       "      <td>-0.146454</td>\n",
       "      <td>0.175232</td>\n",
       "      <td>-0.021892</td>\n",
       "      <td>-0.305815</td>\n",
       "      <td>-0.286969</td>\n",
       "      <td>-0.290552</td>\n",
       "      <td>0.083955</td>\n",
       "    </tr>\n",
       "    <tr>\n",
       "      <th>Amygdala</th>\n",
       "      <td>0.001224</td>\n",
       "      <td>-0.074320</td>\n",
       "      <td>-0.132420</td>\n",
       "      <td>-0.187090</td>\n",
       "      <td>1.000000</td>\n",
       "      <td>-0.160093</td>\n",
       "      <td>-0.285712</td>\n",
       "      <td>-0.007874</td>\n",
       "      <td>-0.187175</td>\n",
       "      <td>-0.052741</td>\n",
       "      <td>...</td>\n",
       "      <td>-0.187734</td>\n",
       "      <td>-0.029465</td>\n",
       "      <td>-0.228677</td>\n",
       "      <td>0.000774</td>\n",
       "      <td>0.437693</td>\n",
       "      <td>0.050403</td>\n",
       "      <td>0.254513</td>\n",
       "      <td>0.262621</td>\n",
       "      <td>0.217881</td>\n",
       "      <td>0.010457</td>\n",
       "    </tr>\n",
       "  </tbody>\n",
       "</table>\n",
       "<p>5 rows × 84 columns</p>\n",
       "</div>"
      ],
      "text/plain": [
       "                    721_B_lymphoblasts  Adipocyte  AdrenalCortex  \\\n",
       "721_B_lymphoblasts            1.000000  -0.094872      -0.100289   \n",
       "Adipocyte                    -0.094872   1.000000      -0.000761   \n",
       "AdrenalCortex                -0.100289  -0.000761       1.000000   \n",
       "Adrenalgland                 -0.303127   0.155220       0.252652   \n",
       "Amygdala                      0.001224  -0.074320      -0.132420   \n",
       "\n",
       "                    Adrenalgland  Amygdala  Appendix  AtrioventricularNode  \\\n",
       "721_B_lymphoblasts     -0.303127  0.001224 -0.157276             -0.341758   \n",
       "Adipocyte               0.155220 -0.074320 -0.029929             -0.002661   \n",
       "AdrenalCortex           0.252652 -0.132420  0.280405              0.213322   \n",
       "Adrenalgland            1.000000 -0.187090 -0.064232              0.216149   \n",
       "Amygdala               -0.187090  1.000000 -0.160093             -0.285712   \n",
       "\n",
       "                    BDCA4+_DentriticCells  Bonemarrow  \\\n",
       "721_B_lymphoblasts               0.332251   -0.136569   \n",
       "Adipocyte                       -0.072620   -0.001283   \n",
       "AdrenalCortex                   -0.150851    0.114985   \n",
       "Adrenalgland                    -0.213493    0.098472   \n",
       "Amygdala                        -0.007874   -0.187175   \n",
       "\n",
       "                    BronchialEpithelialCells       ...         \\\n",
       "721_B_lymphoblasts                  0.148001       ...          \n",
       "Adipocyte                           0.124180       ...          \n",
       "AdrenalCortex                      -0.125041       ...          \n",
       "Adrenalgland                        0.018975       ...          \n",
       "Amygdala                           -0.052741       ...          \n",
       "\n",
       "                    TrigeminalGanglion    Uterus  UterusCorpus  WholeBlood  \\\n",
       "721_B_lymphoblasts           -0.173913 -0.194198     -0.273877    0.101298   \n",
       "Adipocyte                    -0.073781  0.151581      0.087753   -0.036637   \n",
       "AdrenalCortex                 0.333139 -0.181191      0.155313   -0.077131   \n",
       "Adrenalgland                 -0.059864  0.216290      0.177941   -0.146454   \n",
       "Amygdala                     -0.187734 -0.029465     -0.228677    0.000774   \n",
       "\n",
       "                    Wholebrain     colon  pineal_day  pineal_night    retina  \\\n",
       "721_B_lymphoblasts   -0.156576  0.036652    0.178185      0.159789  0.167760   \n",
       "Adipocyte            -0.002973  0.057661   -0.110901     -0.101052 -0.014133   \n",
       "AdrenalCortex        -0.269412 -0.083766   -0.005330     -0.007318  0.026936   \n",
       "Adrenalgland          0.175232 -0.021892   -0.305815     -0.286969 -0.290552   \n",
       "Amygdala              0.437693  0.050403    0.254513      0.262621  0.217881   \n",
       "\n",
       "                    small_intestine  \n",
       "721_B_lymphoblasts        -0.001557  \n",
       "Adipocyte                  0.088108  \n",
       "AdrenalCortex             -0.119775  \n",
       "Adrenalgland               0.083955  \n",
       "Amygdala                   0.010457  \n",
       "\n",
       "[5 rows x 84 columns]"
      ]
     },
     "execution_count": 59,
     "metadata": {},
     "output_type": "execute_result"
    }
   ],
   "source": [
    "attribute_similarity_matix.head()"
   ]
  },
  {
   "cell_type": "markdown",
   "metadata": {},
   "source": [
    "# Save Attribute Similarity Matrix"
   ]
  },
  {
   "cell_type": "code",
   "execution_count": 60,
   "metadata": {
    "collapsed": true
   },
   "outputs": [],
   "source": [
    "filename = '~/./Documents/Harmonizome/BioGPS/Output/biogps_tissue_attribute_similarity_matix_%s.tsv.zip'% str(datetime.date.today())[0:7].replace('-', '_')\n",
    "attribute_similarity_matix.to_csv(filename, sep='\\t', compression='gzip')"
   ]
  },
  {
   "cell_type": "markdown",
   "metadata": {},
   "source": [
    "# Create Gene List"
   ]
  },
  {
   "cell_type": "code",
   "execution_count": 61,
   "metadata": {},
   "outputs": [
    {
     "name": "stdout",
     "output_type": "stream",
     "text": [
      "Progeres: 100%  16290 Out of 16290   \r"
     ]
    }
   ],
   "source": [
    "gene_list = uf.createGeneList(normalized_matrix)"
   ]
  },
  {
   "cell_type": "code",
   "execution_count": 62,
   "metadata": {},
   "outputs": [
    {
     "data": {
      "text/html": [
       "<div>\n",
       "<table border=\"1\" class=\"dataframe\">\n",
       "  <thead>\n",
       "    <tr style=\"text-align: right;\">\n",
       "      <th></th>\n",
       "      <th>GeneSym</th>\n",
       "      <th>GeneID</th>\n",
       "    </tr>\n",
       "  </thead>\n",
       "  <tbody>\n",
       "    <tr>\n",
       "      <th>0</th>\n",
       "      <td>A1BG</td>\n",
       "      <td>1</td>\n",
       "    </tr>\n",
       "    <tr>\n",
       "      <th>1</th>\n",
       "      <td>A1CF</td>\n",
       "      <td>29974</td>\n",
       "    </tr>\n",
       "    <tr>\n",
       "      <th>2</th>\n",
       "      <td>A2M</td>\n",
       "      <td>2</td>\n",
       "    </tr>\n",
       "    <tr>\n",
       "      <th>3</th>\n",
       "      <td>A2ML1</td>\n",
       "      <td>144568</td>\n",
       "    </tr>\n",
       "    <tr>\n",
       "      <th>4</th>\n",
       "      <td>A4GALT</td>\n",
       "      <td>53947</td>\n",
       "    </tr>\n",
       "  </tbody>\n",
       "</table>\n",
       "</div>"
      ],
      "text/plain": [
       "  GeneSym  GeneID\n",
       "0    A1BG       1\n",
       "1    A1CF   29974\n",
       "2     A2M       2\n",
       "3   A2ML1  144568\n",
       "4  A4GALT   53947"
      ]
     },
     "execution_count": 62,
     "metadata": {},
     "output_type": "execute_result"
    }
   ],
   "source": [
    "gene_list.head()"
   ]
  },
  {
   "cell_type": "code",
   "execution_count": 63,
   "metadata": {},
   "outputs": [
    {
     "data": {
      "text/plain": [
       "(16290, 2)"
      ]
     },
     "execution_count": 63,
     "metadata": {},
     "output_type": "execute_result"
    }
   ],
   "source": [
    "gene_list.shape"
   ]
  },
  {
   "cell_type": "markdown",
   "metadata": {},
   "source": [
    "# Save Gene List"
   ]
  },
  {
   "cell_type": "code",
   "execution_count": 64,
   "metadata": {
    "collapsed": true
   },
   "outputs": [],
   "source": [
    "filename = '~/./Documents/Harmonizome/BioGPS/Output/biogps_tissue_gene_list_%s.tsv.zip'% str(datetime.date.today())[0:7].replace('-', '_')\n",
    "gene_list.to_csv(filename, sep='\\t', index=False, compression='gzip')"
   ]
  },
  {
   "cell_type": "markdown",
   "metadata": {},
   "source": [
    "# Create Attribute List "
   ]
  },
  {
   "cell_type": "code",
   "execution_count": 65,
   "metadata": {
    "collapsed": true
   },
   "outputs": [],
   "source": [
    "attribute_list = uf.createAttributeList(normalized_matrix)"
   ]
  },
  {
   "cell_type": "code",
   "execution_count": 66,
   "metadata": {},
   "outputs": [
    {
     "data": {
      "text/html": [
       "<div>\n",
       "<table border=\"1\" class=\"dataframe\">\n",
       "  <thead>\n",
       "    <tr style=\"text-align: right;\">\n",
       "      <th></th>\n",
       "      <th>Attributes</th>\n",
       "    </tr>\n",
       "  </thead>\n",
       "  <tbody>\n",
       "    <tr>\n",
       "      <th>0</th>\n",
       "      <td>721_B_lymphoblasts</td>\n",
       "    </tr>\n",
       "    <tr>\n",
       "      <th>1</th>\n",
       "      <td>Adipocyte</td>\n",
       "    </tr>\n",
       "    <tr>\n",
       "      <th>2</th>\n",
       "      <td>AdrenalCortex</td>\n",
       "    </tr>\n",
       "    <tr>\n",
       "      <th>3</th>\n",
       "      <td>Adrenalgland</td>\n",
       "    </tr>\n",
       "    <tr>\n",
       "      <th>4</th>\n",
       "      <td>Amygdala</td>\n",
       "    </tr>\n",
       "  </tbody>\n",
       "</table>\n",
       "</div>"
      ],
      "text/plain": [
       "           Attributes\n",
       "0  721_B_lymphoblasts\n",
       "1           Adipocyte\n",
       "2       AdrenalCortex\n",
       "3        Adrenalgland\n",
       "4            Amygdala"
      ]
     },
     "execution_count": 66,
     "metadata": {},
     "output_type": "execute_result"
    }
   ],
   "source": [
    "attribute_list.head()"
   ]
  },
  {
   "cell_type": "code",
   "execution_count": 67,
   "metadata": {},
   "outputs": [
    {
     "data": {
      "text/plain": [
       "(84, 1)"
      ]
     },
     "execution_count": 67,
     "metadata": {},
     "output_type": "execute_result"
    }
   ],
   "source": [
    "attribute_list.shape"
   ]
  },
  {
   "cell_type": "markdown",
   "metadata": {},
   "source": [
    "# Save Attribute List"
   ]
  },
  {
   "cell_type": "code",
   "execution_count": 68,
   "metadata": {
    "collapsed": true
   },
   "outputs": [],
   "source": [
    "filename = '~/./Documents/Harmonizome/BioGPS/Output/biogps_tissue_attribute_list_%s.tsv.zip'% str(datetime.date.today())[0:7].replace('-', '_')\n",
    "attribute_list.to_csv(filename, sep='\\t', index=False, compression='gzip')"
   ]
  },
  {
   "cell_type": "markdown",
   "metadata": {},
   "source": [
    "# Create Gene-Attribute Edge List"
   ]
  },
  {
   "cell_type": "code",
   "execution_count": 69,
   "metadata": {
    "collapsed": true
   },
   "outputs": [],
   "source": [
    "path = '/Users/moshesilverstein/Documents/Harmonizome/BioGPS/Output/'"
   ]
  },
  {
   "cell_type": "code",
   "execution_count": 70,
   "metadata": {
    "collapsed": true
   },
   "outputs": [],
   "source": [
    "name = 'biogps_tissue_gene_attribute_edge_list'"
   ]
  },
  {
   "cell_type": "code",
   "execution_count": 71,
   "metadata": {},
   "outputs": [
    {
     "name": "stdout",
     "output_type": "stream",
     "text": [
      "Progeres: 100%  84 Out of 84   \n",
      "\n",
      " The number of statisticaly relevent gene-attribute associations is: 274099\n"
     ]
    }
   ],
   "source": [
    "uf.createGeneAttributeEdgeList(tertiary_matrix, gene_list, path, name)"
   ]
  }
 ],
 "metadata": {
  "kernelspec": {
   "display_name": "Python [default]",
   "language": "python",
   "name": "python3"
  },
  "language_info": {
   "codemirror_mode": {
    "name": "ipython",
    "version": 3
   },
   "file_extension": ".py",
   "mimetype": "text/x-python",
   "name": "python",
   "nbconvert_exporter": "python",
   "pygments_lexer": "ipython3",
   "version": "3.5.2"
  }
 },
 "nbformat": 4,
 "nbformat_minor": 2
}
