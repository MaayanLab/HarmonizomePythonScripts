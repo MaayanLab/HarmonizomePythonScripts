{
 "cells": [
  {
   "cell_type": "markdown",
   "metadata": {},
   "source": [
    "# PerturbAtlas Harmonizome Processing Script\n",
    "This notebook contains the scripts used to process the PerturbAtlas Perturbation Gene Expression Profiles dataset.\n",
    "The list of perturbations, conditions, and metadata was downloaded on 10/08/2024 through the PerturbAtlas API. This information was then used to retrieve the DEG download for each perturbation."
   ]
  },
  {
   "cell_type": "code",
   "execution_count": null,
   "metadata": {},
   "outputs": [],
   "source": [
    "import pandas as pd\n",
    "import datetime\n",
    "import numpy as np\n",
    "import scipy.spatial.distance as dist\n",
    "import seaborn as sns\n",
    "import os\n",
    "import sys\n",
    "from io import BytesIO\n",
    "import json\n",
    "import requests\n",
    "import scanpy as sc\n",
    "from tqdm import tqdm\n",
    "from collections import OrderedDict\n",
    "\n",
    "from sklearn.feature_extraction.text import TfidfVectorizer\n",
    "import anndata\n",
    "from collections import OrderedDict\n",
    "\n",
    "# Bokeh\n",
    "from bokeh.io import output_notebook\n",
    "from bokeh.plotting import figure, show, save, output_file\n",
    "from bokeh.models import HoverTool, ColumnDataSource\n",
    "from bokeh.palettes import Category20\n",
    "output_notebook()\n",
    "\n",
    "from IPython.display import display, HTML, Markdown\n",
    "sys.setrecursionlimit(100000)"
   ]
  },
  {
   "cell_type": "markdown",
   "metadata": {},
   "source": [
    "## Load and Pre-process Data\n",
    "Perturbation metadata and associations can be retrieved from the [PerturbAtlas API](https://perturbatlas.kratoss.site/#/help). We first gathered a list of human perturbations, and then queried the API for differentially expressed genes for each perturbation, keeping associations with adjusted P-value < 0.05."
   ]
  },
  {
   "cell_type": "code",
   "execution_count": null,
   "metadata": {},
   "outputs": [],
   "source": [
    "perturbatlasurl = 'https://perturbatlas.kratoss.site/api/download'\n",
    "perturbations = []\n",
    "\n",
    "for offset in tqdm(range(1, 44)):\n",
    "    response = requests.get(f'{perturbatlasurl}?offset={offset}&length=200&eq=scientific_name:Homo%20sapiens')\n",
    "    perts = response.json()['data']\n",
    "    perturbations = perturbations + perts"
   ]
  },
  {
   "cell_type": "code",
   "execution_count": null,
   "metadata": {},
   "outputs": [],
   "source": [
    "len(perturbations)"
   ]
  },
  {
   "cell_type": "code",
   "execution_count": null,
   "metadata": {},
   "outputs": [],
   "source": [
    "pertframe = pd.DataFrame(perturbations)\n",
    "pertframe.to_csv('perturbatlasperturbations.tsv', sep='\\t')\n",
    "pertframe = pertframe[pertframe['degs']].drop_duplicates('perturb_id')\n",
    "pertframe"
   ]
  },
  {
   "cell_type": "code",
   "execution_count": null,
   "metadata": {},
   "outputs": [],
   "source": [
    "pertframe = pd.read_csv('perturbatlasperturbations.tsv', sep='\\t', index_col=0)\n",
    "pertframe = pertframe[pertframe['degs']].drop_duplicates('perturb_id')\n",
    "pertframe['target'] = pertframe['target'].apply(lambda x: x\n",
    "                                        .split('(')[0]\n",
    "                                        .split(')')[0]\n",
    "                                        .replace('+','')\n",
    "                                        .replace('-','')\n",
    "                                        .replace('*','')\n",
    "                                        .replace('@',''))\n",
    "pertframe"
   ]
  },
  {
   "cell_type": "code",
   "execution_count": null,
   "metadata": {},
   "outputs": [],
   "source": [
    "download_url='https://perturbatlas.kratoss.site/api/download?kind=degs'\n",
    "pertids = pertframe['perturb_id'].unique().tolist()\n",
    "pertids.reverse()\n",
    "\n",
    "for pert_id in tqdm(pertids):\n",
    "    if os.path.exists(f'degdir/{pert_id}_degs.csv'):\n",
    "        continue\n",
    "    response = requests.get(f'{download_url}&id={pert_id}')\n",
    "    if (response.status_code==200):\n",
    "        try:\n",
    "            degs = pd.read_excel(BytesIO(response.content))\n",
    "            degs = degs[degs['padj']<0.05].reset_index(drop=True)\n",
    "            if len(degs)>0:\n",
    "                degs.to_csv(f'degdir/{pert_id}_degs.csv')\n",
    "        except Exception as e:\n",
    "            print(f'Error processing {pert_id}')\n",
    "    else:\n",
    "        print(f'Failed to get DEGs for {pert_id}, HTTP Status: {response.status_code}')"
   ]
  },
  {
   "cell_type": "code",
   "execution_count": null,
   "metadata": {},
   "outputs": [],
   "source": [
    "'https://perturbatlas.kratoss.site/api/download?kind=degs&id=Perturb_7768'\n",
    "pert_id='Perturb_7768'"
   ]
  },
  {
   "cell_type": "code",
   "execution_count": null,
   "metadata": {},
   "outputs": [],
   "source": [
    "response = requests.get(f'https://perturbatlas.kratoss.site/api/download?kind=degs&id={pert_id}')\n",
    "if (response.status_code==200):\n",
    "        try:\n",
    "            degs = pd.read_excel(BytesIO(response.content))\n",
    "            degs = degs[degs['padj']<0.05].reset_index(drop=True)\n",
    "            if len(degs)>0:\n",
    "                degs.to_csv('degdir/{pert_id}_degs.csv')\n",
    "        except Exception as e:\n",
    "            print(f'Error processing {pert_id}')\n",
    "else:\n",
    "    print(f'Failed to get DEGs for {pert_id}, HTTP Status: {response.status_code}')"
   ]
  },
  {
   "cell_type": "code",
   "execution_count": null,
   "metadata": {},
   "outputs": [],
   "source": [
    "degs = pd.read_excel(BytesIO(response.content))\n",
    "degs = degs[degs['padj']<0.05].reset_index(drop=True)\n",
    "if len(degs)>0:\n",
    "    degs.to_csv(file_name)"
   ]
  },
  {
   "cell_type": "code",
   "execution_count": null,
   "metadata": {},
   "outputs": [],
   "source": [
    "perturbatlas = pd.DataFrame(columns=['perturb_id', 'gene', 'baseMean', 'log2FoldChange', 'lfcSE', 'stat', 'pvalue', 'padj'])\n",
    "\n",
    "for pert in tqdm(os.listdir('degdir')):\n",
    "    pertdegs = pd.read_csv(f'degdir/{pert}', index_col=0)\n",
    "    perturbatlas = pd.concat([perturbatlas, pertdegs])\n",
    "\n",
    "perturbatlas"
   ]
  },
  {
   "cell_type": "code",
   "execution_count": null,
   "metadata": {},
   "outputs": [],
   "source": [
    "perturbatlas.to_csv('degdir/All_Perturbations_degs.csv.gz', compression='gzip')"
   ]
  },
  {
   "cell_type": "code",
   "execution_count": null,
   "metadata": {},
   "outputs": [],
   "source": [
    "perturbatlas = pd.read_csv('degdir/All_Perturbations_degs.csv.gz', compression='gzip', index_col=0)\n",
    "perturbatlas"
   ]
  },
  {
   "cell_type": "code",
   "execution_count": null,
   "metadata": {},
   "outputs": [],
   "source": [
    "perturbatlas.groupby('perturb_id')['gene'].count().mean()"
   ]
  },
  {
   "cell_type": "code",
   "execution_count": null,
   "metadata": {},
   "outputs": [],
   "source": [
    "1782.83*len(perturbatlas['perturb_id'].unique())"
   ]
  },
  {
   "cell_type": "code",
   "execution_count": null,
   "metadata": {},
   "outputs": [],
   "source": [
    "len(perturbatlas['gene'].unique())"
   ]
  },
  {
   "cell_type": "markdown",
   "metadata": {},
   "source": [
    "### Clean and Harmonize Associations"
   ]
  },
  {
   "cell_type": "code",
   "execution_count": null,
   "metadata": {},
   "outputs": [],
   "source": [
    "mappingfile = pd.read_csv('../../mapping/mappingFiles/mappingFile_2024.tsv', sep='\\t', index_col=0)\n",
    "mappingfile['Synonyms'] = mappingfile['Synonyms'].astype(str).apply(str.upper)\n",
    "mappingfile['Symbol'] = mappingfile['Symbol'].apply(str.upper)\n",
    "mapping = mappingfile[mappingfile['#tax_id']==9606].set_index('Synonyms')['Symbol'].to_dict()\n",
    "mappingfile"
   ]
  },
  {
   "cell_type": "code",
   "execution_count": null,
   "metadata": {},
   "outputs": [],
   "source": [
    "gene_info = pd.read_csv('../../mapping/source_files/human_gene_info', sep='\\t')\n",
    "gene_info = gene_info[gene_info['#tax_id']==9606][gene_info['type_of_gene']=='protein-coding']\n",
    "gene_info['Symbol'] = gene_info['Symbol'].apply(str.upper)\n",
    "gene_info"
   ]
  },
  {
   "cell_type": "code",
   "execution_count": null,
   "metadata": {},
   "outputs": [],
   "source": [
    "ensembl = gene_info.copy()\n",
    "ensembl['dbXrefs'] = ensembl['dbXrefs'].apply(lambda x: x.split('|'))\n",
    "ensembl = ensembl.explode('dbXrefs').reset_index()\n",
    "ensembl = ensembl[ensembl['dbXrefs'].apply(lambda x: 'Ensembl' in x)].drop_duplicates('dbXrefs', keep='first')\n",
    "ensembl['dbXrefs'] = ensembl['dbXrefs'].apply(lambda x: x.replace('Ensembl:', ''))\n",
    "ensembldict = ensembl.set_index('dbXrefs')['Symbol'].apply(str.upper).to_dict()\n",
    "ensembl"
   ]
  },
  {
   "cell_type": "code",
   "execution_count": null,
   "metadata": {},
   "outputs": [],
   "source": [
    "perturbatlas['gene'] = perturbatlas['gene'].map(ensembldict)\n",
    "perturbatlas = perturbatlas.dropna()\n",
    "perturbatlas"
   ]
  },
  {
   "cell_type": "code",
   "execution_count": null,
   "metadata": {},
   "outputs": [],
   "source": [
    "perturbatlas['gene'] = perturbatlas['gene'].map(mapping)\n",
    "perturbatlas = perturbatlas.drop_duplicates(subset=['gene', 'perturb_id'])\n",
    "perturbatlas"
   ]
  },
  {
   "cell_type": "code",
   "execution_count": null,
   "metadata": {},
   "outputs": [],
   "source": [
    "perturbatlas.groupby('perturb_id')['gene'].count().mean(), len(perturbatlas['gene'].unique())"
   ]
  },
  {
   "cell_type": "code",
   "execution_count": null,
   "metadata": {},
   "outputs": [],
   "source": [
    "def threshold(val):\n",
    "    if val>0:\n",
    "        return 1\n",
    "    elif val<0:\n",
    "        return -1\n",
    "    return 0"
   ]
  },
  {
   "cell_type": "code",
   "execution_count": null,
   "metadata": {},
   "outputs": [],
   "source": [
    "perturbatlas['score'] = perturbatlas['log2FoldChange'].apply(threshold) * perturbatlas['padj'].apply(np.log10) * -1\n",
    "perturbatlas['score'] = perturbatlas['score'].replace(np.inf, 20).replace(-np.inf, -20)\n",
    "perturbatlas = perturbatlas.sort_values(['perturb_id', 'score', 'baseMean'], ascending=[True, False, False])\n",
    "perturbatlas['threshold'] = perturbatlas['score'].apply(threshold)\n",
    "perturbatlas"
   ]
  },
  {
   "cell_type": "code",
   "execution_count": null,
   "metadata": {},
   "outputs": [],
   "source": [
    "top = perturbatlas[perturbatlas['threshold']==1].groupby('perturb_id').head(100)\n",
    "bottom = perturbatlas[perturbatlas['threshold']==-1].groupby('perturb_id').tail(100)\n",
    "perturbatlas = pd.concat([top, bottom]).reset_index(drop=True)\n",
    "perturbatlas"
   ]
  },
  {
   "cell_type": "code",
   "execution_count": null,
   "metadata": {},
   "outputs": [],
   "source": [
    "len(perturbatlas['perturb_id'].unique()), len(perturbatlas['gene'].unique()), len(perturbatlas)"
   ]
  },
  {
   "cell_type": "markdown",
   "metadata": {},
   "source": [
    "## Prepare Dataset for Harmonizome DB"
   ]
  },
  {
   "cell_type": "markdown",
   "metadata": {},
   "source": [
    "### Resource"
   ]
  },
  {
   "cell_type": "code",
   "execution_count": null,
   "metadata": {},
   "outputs": [],
   "source": [
    "#(id, name, long_description, short_description, url, num_attributes, num_datasets)\n",
    "(115, 'PerturbAtlas', 'a comprehensive atlas of public genetic perturbation bulk RNA-seq datasets', 'a genetic perturbation atlas of bulk RNA-seq datasets', 'https://perturbatlas.kratoss.site/#/', 7418, 1)"
   ]
  },
  {
   "cell_type": "markdown",
   "metadata": {},
   "source": [
    "### Dataset"
   ]
  },
  {
   "cell_type": "code",
   "execution_count": null,
   "metadata": {},
   "outputs": [],
   "source": [
    "#(id, name, name_without_resource, description, association, gene_set_description, gene_sets_description, attribute_set_description, positive_association, negative_association, is_signed, is_continuous_valued, last_updated, directory, num_page_views, resource_fk, measurement_fk, dataset_group_fk, attribute_type_fk, attribute_group_fk, evidence_type, evidence_group, measurement_bias, attribute_type_plural)\n",
    "(159, 'PerturbAtlas Signatures of Differentially Expressed Genes for Gene Perturbations', 'Signatures of Differentially Expressed Genes for Gene Perturbations', 'Gene expression profiles for cell lines, cell types, tissues, and models following genetic perturbation (knockdown, knockout, knockin, over-expression, mutation, and multi-condition)', 'gene-gene perturbation associations by differential expression of gene A following perturbation of gene B', 'genes differentially expressed following the {0} gene perturbation from the PerturbAtlas Signatures of Differentially Expressed Genes for Gene Perturbations dataset.', 'sets of genes diffeentially expressed following gene perturbation from the PerturbAtlas Signatures of Differentially Expressed Genes for Gene Perturbations dataset.', 'gene perturbations changing expression of {0} gene from the PerturbAtlas Signatures of Differentially Expressed Genes for Gene Perturbations dataset.', 'increased expression', 'decreased expression', 1, 1, '2024-10-22', 'perturbatlas', 0, 115, 16, 7, 27, 5, 'gene expression by RNA-seq', 'curated experimental data', 'high throughput, data driven', 'gene perturbations')"
   ]
  },
  {
   "cell_type": "markdown",
   "metadata": {},
   "source": [
    "### Publication"
   ]
  },
  {
   "cell_type": "code",
   "execution_count": null,
   "metadata": {},
   "outputs": [],
   "source": [
    "#(id, long_citation, short_citation, url, pmid, pubmed_url, first_author_last_name, first_author_initials, journal_abbreviation, year, title, volume, pages)\n",
    "(157, 'Zhang et al. (2024) PerturbAtlas: a comprehensive atlas of public genetic perturbation bulk RNA-seq datasets. Nucleic Acids Res. gkae851', 'Zhang, Nucleic Acids Res, 2024', 'dx.doi.org/10.1093/nar/gkae851', 39351872, 'https://ncbi.nlm.nih.gov/pubmed/39351872', 'Zhang', 'Y', 'Nucleic Acids Res', 2024, 'PerturbAtlas: a comprehensive atlas of public genetic perturbation bulk RNA-seq datasets', 'gkae851', 'NaN')\n",
    "\n",
    "#(id, dataset_fk, publication_fk)\n",
    "(242, 159, 157)"
   ]
  },
  {
   "cell_type": "markdown",
   "metadata": {},
   "source": [
    "### Genes"
   ]
  },
  {
   "cell_type": "code",
   "execution_count": null,
   "metadata": {},
   "outputs": [],
   "source": [
    "genes = pd.read_csv('../../tables/gene.csv')\n",
    "genes = genes.drop_duplicates(subset='ncbi_entrez_gene_id', keep='first').set_index('ncbi_entrez_gene_id')\n",
    "genes"
   ]
  },
  {
   "cell_type": "code",
   "execution_count": null,
   "metadata": {},
   "outputs": [],
   "source": [
    "geneids = pd.read_csv('../../mapping/mappingFiles/GeneSymbolsAndIDS_2024.tsv', sep='\\t', index_col=0)\n",
    "geneids = geneids[geneids['#tax_id']==9606]#.set_index('GeneID')['Symbol'].to_dict()\n",
    "geneids['Symbol'] = geneids['Symbol'].apply(str.upper)\n",
    "geneiddict = geneids.set_index('Symbol')['GeneID'].to_dict()\n",
    "geneids"
   ]
  },
  {
   "cell_type": "code",
   "execution_count": null,
   "metadata": {},
   "outputs": [],
   "source": [
    "index = 58416\n",
    "genefks = genes['id'].to_dict()\n",
    "geneurl = 'https://ncbi.nlm.nih.gov/gene'\n",
    "genedescs = gene_info.set_index('Symbol')['description'].to_dict()\n",
    "\n",
    "for gene in perturbatlas['gene'].unique():\n",
    "    geneid = geneiddict[gene]\n",
    "    if geneid not in genes.index:\n",
    "        print((index, gene, geneid, genedescs[gene], f'{geneurl}/{geneid}'), sep=',', end=',\\n')\n",
    "        genefks[geneid] = index\n",
    "        index += 1"
   ]
  },
  {
   "cell_type": "markdown",
   "metadata": {},
   "source": [
    "### Naming Authority"
   ]
  },
  {
   "cell_type": "code",
   "execution_count": null,
   "metadata": {},
   "outputs": [],
   "source": [
    "(109, 'PerturbAtlas', 'a comprehensive atlas of public genetic perturbation bulk RNA-seq datasets', 'https://perturbatlas.kratoss.site/?#/', 157)"
   ]
  },
  {
   "cell_type": "markdown",
   "metadata": {},
   "source": [
    "### Attributes"
   ]
  },
  {
   "cell_type": "code",
   "execution_count": null,
   "metadata": {},
   "outputs": [],
   "source": [
    "pertframe['name'] = pertframe.apply(lambda x: f'{x.perturb_id}_{x.condition}_{x.target}_{x.study_accession}', axis=1)\n",
    "pertframe['description'] = pertframe.apply(lambda x: f'{x.condition} perturbation targeting {x.target} in {x.tissue_name} {x.tissue_type} (Study accession: {x.study_accession})', axis=1)\n",
    "pertnames = pertframe.set_index('perturb_id')['name'].to_dict()\n",
    "pertdescs = pertframe.set_index('perturb_id')['description'].to_dict()\n",
    "pertaccessions = pertframe.set_index('perturb_id')['study_accession'].to_dict()\n",
    "perturbatlas['pert'] = perturbatlas['perturb_id'].map(pertnames)\n",
    "attributefks = {}\n",
    "index = 423271\n",
    "\n",
    "for pert in perturbatlas['perturb_id'].unique():\n",
    "    print((index, pertnames[pert], pert, pertdescs[pert], 109), sep=',', end=',\\n')\n",
    "    attributefks[pert] = index\n",
    "    index += 1"
   ]
  },
  {
   "cell_type": "markdown",
   "metadata": {},
   "source": [
    "### Gene Sets"
   ]
  },
  {
   "cell_type": "code",
   "execution_count": null,
   "metadata": {},
   "outputs": [],
   "source": [
    "#(id, name_from_dataset, description_from_dataset, dataset_fk, attribute_type_fk, attribute_fk)\n",
    "index = 136000000\n",
    "genesetfks = {}\n",
    "accessions = pertframe\n",
    "\n",
    "for pert in perturbatlas['perturb_id'].unique():\n",
    "    print((index, pertnames[pert], pert, pertdescs[pert], 159, 27, attributefks[pert]), sep=',', end=',\\n')\n",
    "    genesetfks[pert] = index\n",
    "    index += 1"
   ]
  },
  {
   "cell_type": "markdown",
   "metadata": {},
   "source": [
    "### Associations"
   ]
  },
  {
   "cell_type": "code",
   "execution_count": null,
   "metadata": {},
   "outputs": [],
   "source": [
    "index = 46000000\n",
    "\n",
    "associations = perturbatlas.copy()\n",
    "associations['gene_fk'] = associations['gene'].apply(lambda x: genefks[geneiddict[x]])\n",
    "associations['gene_set_fk'] = associations['perturb_id'].apply(lambda x: genesetfks[x])\n",
    "associations = associations[['gene_fk', 'gene_set_fk', 'score', 'threshold']]\n",
    "associations.columns = ['gene_fk','gene_set_fk', 'standardized_value', 'threshold_value']\n",
    "associations.index += index\n",
    "associations.to_csv('../../harmonizome-update/perturbatlas.csv')\n",
    "associations"
   ]
  },
  {
   "cell_type": "markdown",
   "metadata": {},
   "source": [
    "## Create Downloads"
   ]
  },
  {
   "cell_type": "code",
   "execution_count": null,
   "metadata": {},
   "outputs": [],
   "source": [
    "output_path = 'downloads/'"
   ]
  },
  {
   "cell_type": "markdown",
   "metadata": {},
   "source": [
    "### Gene-Attribute Ternary Matrix"
   ]
  },
  {
   "cell_type": "code",
   "execution_count": null,
   "metadata": {},
   "outputs": [],
   "source": [
    "ternarymatrix = pd.crosstab(perturbatlas['gene'], perturbatlas['pert'], values=perturbatlas['threshold'], aggfunc=max).replace(np.nan, 0).astype(int)\n",
    "ternarymatrixT = ternarymatrix.T\n",
    "ternarymatrix.to_csv(output_path+'gene_attribute_matrix.txt.gz', sep='\\t', compression='gzip')\n",
    "ternarymatrix"
   ]
  },
  {
   "cell_type": "markdown",
   "metadata": {},
   "source": [
    "### Gene-Attribute Edge List"
   ]
  },
  {
   "cell_type": "code",
   "execution_count": null,
   "metadata": {},
   "outputs": [],
   "source": [
    "edgelist = perturbatlas.copy()\n",
    "edgelist['gene ID'] = edgelist['gene'].map(geneiddict)\n",
    "#edgelist['pert'] = edgelist['perturb_id'].map(pertnames)\n",
    "edgelist = edgelist[['gene', 'gene ID', 'pert', 'perturb_id', 'score', 'threshold']]\n",
    "edgelist.columns = ['Gene', 'Gene ID', 'Perturbation', 'Perturbation ID', 'Standardized Value', 'Threshold Value']\n",
    "edgelist.to_csv(f'{output_path}gene_attribute_edges.txt.gz', sep='\\t', compression='gzip')\n",
    "edgelist"
   ]
  },
  {
   "cell_type": "markdown",
   "metadata": {},
   "source": [
    "### Gene List"
   ]
  },
  {
   "cell_type": "code",
   "execution_count": null,
   "metadata": {},
   "outputs": [],
   "source": [
    "genelist = edgelist[['Gene', 'Gene ID']].drop_duplicates().reset_index(drop=True)\n",
    "genelist.to_csv(f'{output_path}gene_list_terms.txt.gz', sep='\\t', compression='gzip')\n",
    "genelist"
   ]
  },
  {
   "cell_type": "markdown",
   "metadata": {},
   "source": [
    "### Attribute List"
   ]
  },
  {
   "cell_type": "code",
   "execution_count": null,
   "metadata": {},
   "outputs": [],
   "source": [
    "attributelist = edgelist[['Perturbation', 'Perturbation ID']].drop_duplicates().reset_index(drop=True)\n",
    "attributelist.to_csv(f'{output_path}attribute_list_entries.txt.gz', sep='\\t', compression='gzip')\n",
    "attributelist"
   ]
  },
  {
   "cell_type": "markdown",
   "metadata": {},
   "source": [
    "### Up Gene Set Library"
   ]
  },
  {
   "cell_type": "code",
   "execution_count": null,
   "metadata": {},
   "outputs": [],
   "source": [
    "with open(output_path+'gene_set_library_up_crisp.gmt', 'w') as f:\n",
    "    arr = ternarymatrix.reset_index(drop=True).to_numpy(dtype=np.int_)\n",
    "    attributes = ternarymatrix.columns\n",
    "\n",
    "    w, h = arr.shape\n",
    "    for i in tqdm(range(h)):\n",
    "        if len([*ternarymatrix.index[arr[:, i] == 1]])>= 5:\n",
    "            print(attributes[i], '', *ternarymatrix.index[arr[:, i] == 1], sep='\\t', end='\\n', file=f)"
   ]
  },
  {
   "cell_type": "markdown",
   "metadata": {},
   "source": [
    "### Down Gene Set Library"
   ]
  },
  {
   "cell_type": "code",
   "execution_count": null,
   "metadata": {},
   "outputs": [],
   "source": [
    "with open(output_path+'gene_set_library_dn_crisp.gmt', 'w') as f:\n",
    "    arr = ternarymatrix.reset_index(drop=True).to_numpy(dtype=np.int_)\n",
    "    attributes = ternarymatrix.columns\n",
    "\n",
    "    w, h = arr.shape\n",
    "    for i in tqdm(range(h)):\n",
    "        if len([*ternarymatrix.index[arr[:, i] == -1]])>= 5:\n",
    "            print(attributes[i], '', *ternarymatrix.index[arr[:, i] == -1], sep='\\t', end='\\n', file=f)"
   ]
  },
  {
   "cell_type": "markdown",
   "metadata": {},
   "source": [
    "### Up Attribute Set Library"
   ]
  },
  {
   "cell_type": "code",
   "execution_count": null,
   "metadata": {},
   "outputs": [],
   "source": [
    "with open(output_path+'attribute_set_library_up_crisp.gmt', 'w') as f:\n",
    "    arr = ternarymatrixT.reset_index(drop=True).to_numpy(dtype=np.int_)\n",
    "    genes = ternarymatrixT.columns\n",
    "\n",
    "    w, h = arr.shape\n",
    "    for i in tqdm(range(h)):\n",
    "        if len([*ternarymatrixT.index[arr[:, i] == 1]])>= 5:\n",
    "            print(genes[i], '', *ternarymatrixT.index[arr[:, i] == 1], sep='\\t', end='\\n', file=f)"
   ]
  },
  {
   "cell_type": "markdown",
   "metadata": {},
   "source": [
    "### Down Attribute Set Library"
   ]
  },
  {
   "cell_type": "code",
   "execution_count": null,
   "metadata": {},
   "outputs": [],
   "source": [
    "with open(output_path+'attribute_set_library_dn_crisp.gmt', 'w') as f:\n",
    "    arr = ternarymatrixT.reset_index(drop=True).to_numpy(dtype=np.int_)\n",
    "    genes = ternarymatrixT.columns\n",
    "\n",
    "    w, h = arr.shape\n",
    "    for i in tqdm(range(h)):\n",
    "        if len([*ternarymatrixT.index[arr[:, i] == -1]])>= 5:\n",
    "            print(genes[i], '', *ternarymatrixT.index[arr[:, i] == -1], sep='\\t', end='\\n', file=f)"
   ]
  },
  {
   "cell_type": "markdown",
   "metadata": {},
   "source": [
    "### Gene Similarity Matrix"
   ]
  },
  {
   "cell_type": "code",
   "execution_count": null,
   "metadata": {},
   "outputs": [],
   "source": [
    "gene_similarity_matrix = dist.pdist(ternarymatrix.to_numpy(dtype=np.int_), 'cosine')\n",
    "gene_similarity_matrix = dist.squareform(gene_similarity_matrix)\n",
    "gene_similarity_matrix = 1 - gene_similarity_matrix\n",
    "\n",
    "gene_similarity_matrix = pd.DataFrame(data=gene_similarity_matrix, index=ternarymatrix.index, columns=ternarymatrix.index)\n",
    "gene_similarity_matrix.index.name = None\n",
    "gene_similarity_matrix.columns.name = None\n",
    "gene_similarity_matrix.to_csv(output_path+'gene_similarity_matrix_cosine.txt.gz', sep='\\t', compression='gzip')\n",
    "gene_similarity_matrix"
   ]
  },
  {
   "cell_type": "markdown",
   "metadata": {},
   "source": [
    "### Attribute Similarity Matrix"
   ]
  },
  {
   "cell_type": "code",
   "execution_count": null,
   "metadata": {},
   "outputs": [],
   "source": [
    "attribute_similarity_matrix = dist.pdist(ternarymatrixT.to_numpy(dtype=np.int_), 'cosine')\n",
    "attribute_similarity_matrix = dist.squareform(attribute_similarity_matrix)\n",
    "attribute_similarity_matrix = 1 - attribute_similarity_matrix\n",
    "\n",
    "attribute_similarity_matrix = pd.DataFrame(data=attribute_similarity_matrix, index=ternarymatrixT.index, columns=ternarymatrixT.index)\n",
    "attribute_similarity_matrix.index.name = None\n",
    "attribute_similarity_matrix.columns.name = None\n",
    "attribute_similarity_matrix.to_csv(output_path+'attribute_similarity_matrix_cosine.txt.gz', sep='\\t', compression='gzip')\n",
    "attribute_similarity_matrix"
   ]
  },
  {
   "cell_type": "markdown",
   "metadata": {},
   "source": [
    "### Gene-Attribute Standardized Matrix"
   ]
  },
  {
   "cell_type": "code",
   "execution_count": null,
   "metadata": {},
   "outputs": [],
   "source": [
    "standardizedmatrix = pd.crosstab(perturbatlas['gene'], perturbatlas['pert'], values=perturbatlas['score'], aggfunc=max).replace(np.nan, 0)\n",
    "standardizedmatrix.to_csv(output_path+'gene_attribute_matrix_standardized.txt.gz', sep='\\t', compression='gzip')\n",
    "standardizedmatrix"
   ]
  },
  {
   "cell_type": "markdown",
   "metadata": {},
   "source": [
    "### Knowledge Graaph Serialization"
   ]
  },
  {
   "cell_type": "code",
   "execution_count": null,
   "metadata": {},
   "outputs": [],
   "source": [
    "nodes = {}\n",
    "edges = []\n",
    "\n",
    "for gene in genelist.index:\n",
    "    gene = genelist.loc[gene]\n",
    "    nodes[int(gene['Gene ID'])] = {\n",
    "        \"type\":\"gene\",\n",
    "        \"properties\": {\n",
    "            \"id\":int(gene['Gene ID']),\n",
    "            \"label\":gene['Gene']\n",
    "        }}\n",
    "\n",
    "for term in attributelist.index:\n",
    "    term = attributelist.loc[term]\n",
    "    nodes[term['Perturbation ID']] = {\n",
    "        \"type\": 'gene perturbation',\n",
    "        \"properties\": {\n",
    "            \"label\":term['Perturbation'],\n",
    "            \"id\":term['Perturbation ID']\n",
    "        }}\n",
    "\n",
    "for edge in edgelist.index:\n",
    "    edge = edgelist.loc[edge]\n",
    "    if edge['Threshold Value']==1:\n",
    "        edges.append({\n",
    "            \"source\": edge['Perturbation ID'],\n",
    "            \"relation\": 'increases expression of',\n",
    "            \"target\": int(edge['Gene ID']),\n",
    "            \"properties\":{\n",
    "                \"id\":edge['Perturbation ID']+\":\"+str(edge['Gene ID']),\n",
    "                \"source_id\":edge['Perturbation ID'],\n",
    "                \"source_label\":edge['Perturbation'],\n",
    "                \"target_id\":int(edge['Gene ID']),\n",
    "                \"target_label\":edge['Gene'],\n",
    "                \"directed\":True,\n",
    "                \"standardized\": edge['Standardized Value'],\n",
    "                \"threshold\":int(edge['Threshold Value'])\n",
    "            }})\n",
    "    else:\n",
    "        edges.append({\n",
    "            \"source\": edge['Perturbation ID'],\n",
    "            \"relation\": 'represses expression of',\n",
    "            \"target\": int(edge['Gene ID']),\n",
    "            \"properties\":{\n",
    "                \"id\": edge['Perturbation ID']+\":\"+str(edge['Gene ID']),\n",
    "                \"source_id\":edge['Perturbation ID'],\n",
    "                \"source_label\": edge['Perturbation'],\n",
    "                \"target_id\": int(edge['Gene ID']),\n",
    "                \"target_label\": edge['Gene'],\n",
    "                \"directed\":True,\n",
    "                \"standardized\": edge['Standardized Value'],\n",
    "                \"threshold\":int(edge['Threshold Value'])\n",
    "            }})"
   ]
  },
  {
   "cell_type": "markdown",
   "metadata": {},
   "source": [
    "### RDF"
   ]
  },
  {
   "cell_type": "code",
   "execution_count": null,
   "metadata": {},
   "outputs": [],
   "source": [
    "with open(f'{output_path}kg_serializations/perturbatlas.rdf', 'w') as f:\n",
    "    #print('@prefix PerturbAtlas: ', file=f)\n",
    "    print('@prefix RO: purl.obolibrary.org/RO_', file=f)\n",
    "    print('@prefix gene: ncbi.nlm.nih.gov/gene/', file=f)\n",
    "    print('', file=f)\n",
    "    relations = {'increases expression of':'RO:0003003', 'represses expression of':'RO:0003002'}\n",
    "    for edge in edges:\n",
    "        print(\n",
    "            'PerturbAtlas:'+edge['properties']['source_id'], \n",
    "            relations[edge['relation']], \n",
    "            'gene:'+str(edge['properties']['target_id']), end=' .\\n', \n",
    "        file=f)"
   ]
  },
  {
   "cell_type": "markdown",
   "metadata": {},
   "source": [
    "### JSON"
   ]
  },
  {
   "cell_type": "code",
   "execution_count": null,
   "metadata": {},
   "outputs": [],
   "source": [
    "with open(f'{output_path}kg_serializations/perturbatlas.json', 'w') as f:\n",
    "    serial = json.dump(\n",
    "        {\n",
    "            \"Version\":\"1\", \n",
    "            \"nodes\": nodes,\n",
    "            \"edges\": edges\n",
    "        }, indent=4, fp=f)"
   ]
  },
  {
   "cell_type": "markdown",
   "metadata": {},
   "source": [
    "### TSV"
   ]
  },
  {
   "cell_type": "markdown",
   "metadata": {},
   "source": [
    "#### Nodes"
   ]
  },
  {
   "cell_type": "code",
   "execution_count": null,
   "metadata": {},
   "outputs": [],
   "source": [
    "nodeframe = pd.DataFrame(nodes).T\n",
    "nodeframe['id'] = nodeframe['properties'].apply(lambda x: x['id'])\n",
    "nodeframe['label'] = nodeframe['properties'].apply(lambda x: x['label'])\n",
    "nodeframe['namespace'] = nodeframe['type'].apply(lambda x: {'gene':'NCBI Entrez', 'gene perturbation':'PerturbAtlas'}[x])\n",
    "nodeframe = nodeframe.get(['namespace', 'id', 'label']).reset_index(drop=True)\n",
    "nodeframe.to_csv(f'{output_path}kg_serializations/perturbatlas_tsv/nodes.tsv', sep='\\t')\n",
    "nodeframe"
   ]
  },
  {
   "cell_type": "markdown",
   "metadata": {},
   "source": [
    "#### Edges"
   ]
  },
  {
   "cell_type": "code",
   "execution_count": null,
   "metadata": {},
   "outputs": [],
   "source": [
    "edgeframe = pd.DataFrame(edges)\n",
    "edgeframe['standardized'] = edgeframe['properties'].apply(lambda x: x['standardized'])\n",
    "edgeframe['threshold'] = edgeframe['properties'].apply(lambda x: x['threshold'])\n",
    "edgeframe = edgeframe.get(['source', 'relation', 'target', 'standardized', 'threshold'])\n",
    "edgeframe.to_csv(f'{output_path}kg_serializations/perturbatlas_tsv/edges.tsv', sep='\\t')\n",
    "edgeframe"
   ]
  },
  {
   "cell_type": "markdown",
   "metadata": {},
   "source": [
    "## Create Visualizations"
   ]
  },
  {
   "cell_type": "markdown",
   "metadata": {},
   "source": [
    "### Gene-Attribute Clustered Heatmap"
   ]
  },
  {
   "cell_type": "code",
   "execution_count": null,
   "metadata": {},
   "outputs": [],
   "source": [
    "sns.clustermap(ternarymatrix, cmap='seismic', center=0)"
   ]
  },
  {
   "cell_type": "markdown",
   "metadata": {},
   "source": [
    "### Gene Similarity Clustered Heatmap"
   ]
  },
  {
   "cell_type": "code",
   "execution_count": null,
   "metadata": {},
   "outputs": [],
   "source": [
    "sns.clustermap(gene_similarity_matrix, cmap='seismic', center=0)"
   ]
  },
  {
   "cell_type": "markdown",
   "metadata": {},
   "source": [
    "### Attribute Similarity Clustered Heatmap"
   ]
  },
  {
   "cell_type": "code",
   "execution_count": null,
   "metadata": {},
   "outputs": [],
   "source": [
    "sns.clustermap(attribute_similarity_matrix, cmap='seismic', center=0)"
   ]
  },
  {
   "cell_type": "markdown",
   "metadata": {},
   "source": [
    "### UMAP"
   ]
  },
  {
   "cell_type": "code",
   "execution_count": null,
   "metadata": {},
   "outputs": [],
   "source": [
    "def load_gmt(file):\n",
    "    gmt = OrderedDict()\n",
    "    for line in file:\n",
    "        term, *geneset = line.strip().split('\\t')\n",
    "        gmt[term+'_up'] = ' '.join(set(geneset))\n",
    "    return gmt\n",
    "libdict = load_gmt(open('downloads/gene_set_library_up_crisp.gmt', 'r'))\n",
    "def load_gmt(file):\n",
    "    gmt = OrderedDict()\n",
    "    for line in file:\n",
    "        term, *geneset = line.strip().split('\\t')\n",
    "        gmt[term+'_down'] = ' '.join(set(geneset))\n",
    "    return gmt\n",
    "downlibdict = load_gmt(open('downloads/gene_set_library_dn_crisp.gmt', 'r'))\n",
    "libdict.update(downlibdict)\n",
    "scatterdir = 'images/'"
   ]
  },
  {
   "cell_type": "code",
   "execution_count": null,
   "metadata": {},
   "outputs": [],
   "source": [
    "def process_scatterplot(libdict, nneighbors=30, mindist=0.1, spread=1.0, maxdf=1.0, mindf=1):\n",
    "    print(\"\\tTF-IDF vectorizing gene set data...\")\n",
    "    vec = TfidfVectorizer(max_df=maxdf, min_df=mindf)\n",
    "    X = vec.fit_transform(libdict.values())\n",
    "    print(X.shape)\n",
    "    adata = anndata.AnnData(X)\n",
    "    adata.obs.index = libdict.keys()\n",
    "\n",
    "    print(\"\\tPerforming Leiden clustering...\")\n",
    "    ### the n_neighbors and min_dist parameters can be altered\n",
    "    sc.pp.neighbors(adata, n_neighbors=nneighbors, use_rep='X')\n",
    "    sc.tl.leiden(adata, resolution=1.0)\n",
    "    sc.tl.umap(adata, min_dist=mindist, spread=spread, random_state=42)\n",
    "\n",
    "    new_order = adata.obs.sort_values(by='leiden').index.tolist()\n",
    "    adata = adata[new_order, :]\n",
    "    adata.obs['leiden'] = 'Cluster ' + adata.obs['leiden'].astype('object')\n",
    "\n",
    "    df = pd.DataFrame(adata.obsm['X_umap'])\n",
    "    df.columns = ['x', 'y']\n",
    "\n",
    "    df['cluster'] = adata.obs['leiden'].values\n",
    "    df['term'] = adata.obs.index\n",
    "    df['genes'] = [libdict[l] for l in df['term']]\n",
    "\n",
    "    return df"
   ]
  },
  {
   "cell_type": "code",
   "execution_count": null,
   "metadata": {},
   "outputs": [],
   "source": [
    "def get_scatter_colors(df):\n",
    "    clusters = pd.unique(df['cluster']).tolist()\n",
    "    colors = list(Category20[20])[::2] + list(Category20[20])[1::2]\n",
    "    color_mapper = {clusters[i]: colors[i % 20] for i in range(len(clusters))}\n",
    "    return color_mapper\n",
    "\n",
    "def get_scatterplot(scatterdf):\n",
    "    df = scatterdf.copy()\n",
    "    color_mapper = get_scatter_colors(df)\n",
    "    df['color'] = df['cluster'].apply(lambda x: color_mapper[x])\n",
    "\n",
    "    hover_emb = HoverTool(name=\"df\", tooltips=\"\"\"\n",
    "        <div style=\"margin: 10\">\n",
    "            <div style=\"margin: 0 auto; width:300px;\">\n",
    "                <span style=\"font-size: 12px; font-weight: bold;\">Gene Set:</span>\n",
    "                <span style=\"font-size: 12px\">@gene_set</span>\n",
    "            <div style=\"margin: 0 auto; width:300px;\">\n",
    "                <span style=\"font-size: 12px; font-weight: bold;\">Coordinates:</span>\n",
    "                <span style=\"font-size: 12px\">(@x,@y)</span>\n",
    "            <div style=\"margin: 0 auto; width:300px;\">\n",
    "                <span style=\"font-size: 12px; font-weight: bold;\">Cluster:</span>\n",
    "                <span style=\"font-size: 12px\">@cluster</span>\n",
    "            </div>\n",
    "        </div>\n",
    "    \"\"\")\n",
    "    tools_emb = [hover_emb, 'pan', 'wheel_zoom', 'reset', 'save']\n",
    "\n",
    "    plot_emb = figure(\n",
    "        width=1000, \n",
    "        height=700, \n",
    "        tools=tools_emb\n",
    "    )\n",
    "\n",
    "    source = ColumnDataSource(\n",
    "        data=dict(\n",
    "            x = df['x'],\n",
    "            y = df['y'],\n",
    "            gene_set = df['term'],\n",
    "            cluster = df['cluster'],\n",
    "            colors = df['color'],\n",
    "            label = df['cluster']\n",
    "        )\n",
    "    )\n",
    "\n",
    "    # hide axis labels and grid lines\n",
    "    plot_emb.xaxis.major_tick_line_color = None\n",
    "    plot_emb.xaxis.minor_tick_line_color = None\n",
    "    plot_emb.yaxis.major_tick_line_color = None\n",
    "    plot_emb.yaxis.minor_tick_line_color = None\n",
    "    plot_emb.xaxis.major_label_text_font_size = '0pt'\n",
    "    plot_emb.yaxis.major_label_text_font_size = '0pt' \n",
    "\n",
    "    plot_emb.output_backend = \"svg\"    \n",
    "    \n",
    "    plot_emb.title = 'Gene Sets in the PerturbAtlas Signatures of Differentially Expressed Genes for Gene Perturbations Library'\n",
    "    plot_emb.xaxis.axis_label = \"UMAP_1\"\n",
    "    plot_emb.yaxis.axis_label = \"UMAP_2\"\n",
    "    plot_emb.xaxis.axis_label_text_font_style = 'normal'\n",
    "    plot_emb.xaxis.axis_label_text_font_size = '18px'\n",
    "    plot_emb.yaxis.axis_label_text_font_size = '18px'\n",
    "    plot_emb.yaxis.axis_label_text_font_style = 'normal'\n",
    "    plot_emb.title.align = 'center'\n",
    "    plot_emb.title.text_font_size = '18px'\n",
    "    \n",
    "    s = plot_emb.scatter(\n",
    "        'x', \n",
    "        'y', \n",
    "        size = 4, \n",
    "        source = source, \n",
    "        color = 'colors'\n",
    "    )\n",
    "    \n",
    "    return plot_emb"
   ]
  },
  {
   "cell_type": "code",
   "execution_count": null,
   "metadata": {},
   "outputs": [],
   "source": [
    "## defaults: nneighbors=30, mindist=0.1, spread=1.0, maxdf=1.0, mindf=1\n",
    "scatter_df = process_scatterplot(libdict, \n",
    "     nneighbors=100,\n",
    "     mindist=0.01,\n",
    "     spread=3,\n",
    "     maxdf=0.9,\n",
    "     mindf=5,\n",
    ")\n",
    "\n",
    "# Display Scatter Plot\n",
    "plot = get_scatterplot(scatter_df)\n",
    "output_notebook()\n",
    "show(plot)"
   ]
  },
  {
   "cell_type": "code",
   "execution_count": null,
   "metadata": {},
   "outputs": [],
   "source": [
    "output_file(filename=f\"{scatterdir}/perturbatlas.html\", title = 'Gene Sets in the PerturbAtlas Signatures of Differentially Expressed Genes for Gene Perturbations Library')\n",
    "save(plot)"
   ]
  }
 ],
 "metadata": {
  "kernelspec": {
   "display_name": "Python 3.10.13 ('harmonizomeETL')",
   "language": "python",
   "name": "python3"
  },
  "language_info": {
   "codemirror_mode": {
    "name": "ipython",
    "version": 3
   },
   "file_extension": ".py",
   "mimetype": "text/x-python",
   "name": "python",
   "nbconvert_exporter": "python",
   "pygments_lexer": "ipython3",
   "version": "3.10.13"
  },
  "orig_nbformat": 4,
  "vscode": {
   "interpreter": {
    "hash": "3ad6724d56c4b72bd8e5b8da3c2e0dcf6d86fdd164f3c98d6d6a78c076afabab"
   }
  }
 },
 "nbformat": 4,
 "nbformat_minor": 2
}
