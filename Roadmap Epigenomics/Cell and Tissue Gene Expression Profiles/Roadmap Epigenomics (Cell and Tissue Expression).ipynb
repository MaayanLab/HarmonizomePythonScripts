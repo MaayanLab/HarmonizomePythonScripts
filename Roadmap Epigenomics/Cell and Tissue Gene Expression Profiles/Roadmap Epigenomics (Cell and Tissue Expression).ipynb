{
 "cells": [
  {
   "cell_type": "markdown",
   "metadata": {},
   "source": [
    "# Roadmap Epigenomics (Cell and Tissue Expression)"
   ]
  },
  {
   "cell_type": "markdown",
   "metadata": {},
   "source": [
    "Author: Moshe Silverstein <br/>\n",
    "Date: 11-17 <br/>\n",
    "Data Source: http://www.roadmapepigenomics.org/"
   ]
  },
  {
   "cell_type": "code",
   "execution_count": 1,
   "metadata": {
    "collapsed": true
   },
   "outputs": [],
   "source": [
    "import sys, datetime, os\n",
    "import numpy as np\n",
    "import pandas as pd\n",
    "import importlib\n",
    "import untility_functions as uf\n",
    "%matplotlib inline"
   ]
  },
  {
   "cell_type": "code",
   "execution_count": 2,
   "metadata": {},
   "outputs": [
    {
     "data": {
      "text/plain": [
       "<module 'untility_functions' from '/Users/moshesilverstein/Documents/Harmonizome/Roadmap Epigenomics/Cell and Tissue Gene Expression Profiles/untility_functions.py'>"
      ]
     },
     "execution_count": 2,
     "metadata": {},
     "output_type": "execute_result"
    }
   ],
   "source": [
    "importlib.reload(uf)"
   ]
  },
  {
   "cell_type": "markdown",
   "metadata": {},
   "source": [
    "# Load Data"
   ]
  },
  {
   "cell_type": "code",
   "execution_count": 3,
   "metadata": {
    "collapsed": true
   },
   "outputs": [],
   "source": [
    "df = pd.read_csv('Input/57epigenomes.RPKM.pc.gz', sep='\\t', index_col=False)"
   ]
  },
  {
   "cell_type": "code",
   "execution_count": 4,
   "metadata": {
    "collapsed": true
   },
   "outputs": [],
   "source": [
    "df.set_index('gene_id', inplace=True)"
   ]
  },
  {
   "cell_type": "code",
   "execution_count": 5,
   "metadata": {},
   "outputs": [
    {
     "data": {
      "text/html": [
       "<div>\n",
       "<style scoped>\n",
       "    .dataframe tbody tr th:only-of-type {\n",
       "        vertical-align: middle;\n",
       "    }\n",
       "\n",
       "    .dataframe tbody tr th {\n",
       "        vertical-align: top;\n",
       "    }\n",
       "\n",
       "    .dataframe thead th {\n",
       "        text-align: right;\n",
       "    }\n",
       "</style>\n",
       "<table border=\"1\" class=\"dataframe\">\n",
       "  <thead>\n",
       "    <tr style=\"text-align: right;\">\n",
       "      <th></th>\n",
       "      <th>E000</th>\n",
       "      <th>E003</th>\n",
       "      <th>E004</th>\n",
       "      <th>E005</th>\n",
       "      <th>E006</th>\n",
       "      <th>E007</th>\n",
       "      <th>E011</th>\n",
       "      <th>E012</th>\n",
       "      <th>E013</th>\n",
       "      <th>E016</th>\n",
       "      <th>...</th>\n",
       "      <th>E114</th>\n",
       "      <th>E116</th>\n",
       "      <th>E117</th>\n",
       "      <th>E118</th>\n",
       "      <th>E119</th>\n",
       "      <th>E120</th>\n",
       "      <th>E122</th>\n",
       "      <th>E123</th>\n",
       "      <th>E127</th>\n",
       "      <th>E128</th>\n",
       "    </tr>\n",
       "    <tr>\n",
       "      <th>gene_id</th>\n",
       "      <th></th>\n",
       "      <th></th>\n",
       "      <th></th>\n",
       "      <th></th>\n",
       "      <th></th>\n",
       "      <th></th>\n",
       "      <th></th>\n",
       "      <th></th>\n",
       "      <th></th>\n",
       "      <th></th>\n",
       "      <th></th>\n",
       "      <th></th>\n",
       "      <th></th>\n",
       "      <th></th>\n",
       "      <th></th>\n",
       "      <th></th>\n",
       "      <th></th>\n",
       "      <th></th>\n",
       "      <th></th>\n",
       "      <th></th>\n",
       "      <th></th>\n",
       "    </tr>\n",
       "  </thead>\n",
       "  <tbody>\n",
       "    <tr>\n",
       "      <th>ENSG00000000003</th>\n",
       "      <td>23.265</td>\n",
       "      <td>43.985</td>\n",
       "      <td>37.413</td>\n",
       "      <td>29.459</td>\n",
       "      <td>21.864</td>\n",
       "      <td>55.649</td>\n",
       "      <td>52.940</td>\n",
       "      <td>71.629</td>\n",
       "      <td>61.292</td>\n",
       "      <td>44.280</td>\n",
       "      <td>...</td>\n",
       "      <td>37.989</td>\n",
       "      <td>0.038</td>\n",
       "      <td>42.639</td>\n",
       "      <td>49.983</td>\n",
       "      <td>11.554</td>\n",
       "      <td>11.847</td>\n",
       "      <td>43.723</td>\n",
       "      <td>0.267</td>\n",
       "      <td>13.758</td>\n",
       "      <td>15.818</td>\n",
       "    </tr>\n",
       "    <tr>\n",
       "      <th>ENSG00000000005</th>\n",
       "      <td>0.872</td>\n",
       "      <td>1.642</td>\n",
       "      <td>6.498</td>\n",
       "      <td>0.000</td>\n",
       "      <td>0.157</td>\n",
       "      <td>0.003</td>\n",
       "      <td>0.115</td>\n",
       "      <td>0.087</td>\n",
       "      <td>0.055</td>\n",
       "      <td>1.577</td>\n",
       "      <td>...</td>\n",
       "      <td>0.000</td>\n",
       "      <td>0.000</td>\n",
       "      <td>0.000</td>\n",
       "      <td>0.000</td>\n",
       "      <td>0.000</td>\n",
       "      <td>0.018</td>\n",
       "      <td>0.000</td>\n",
       "      <td>0.006</td>\n",
       "      <td>0.000</td>\n",
       "      <td>0.000</td>\n",
       "    </tr>\n",
       "    <tr>\n",
       "      <th>ENSG00000000419</th>\n",
       "      <td>55.208</td>\n",
       "      <td>35.259</td>\n",
       "      <td>58.308</td>\n",
       "      <td>48.208</td>\n",
       "      <td>37.477</td>\n",
       "      <td>45.923</td>\n",
       "      <td>44.959</td>\n",
       "      <td>40.438</td>\n",
       "      <td>41.970</td>\n",
       "      <td>51.515</td>\n",
       "      <td>...</td>\n",
       "      <td>52.215</td>\n",
       "      <td>79.197</td>\n",
       "      <td>107.098</td>\n",
       "      <td>62.811</td>\n",
       "      <td>42.386</td>\n",
       "      <td>54.869</td>\n",
       "      <td>16.652</td>\n",
       "      <td>73.719</td>\n",
       "      <td>56.578</td>\n",
       "      <td>56.371</td>\n",
       "    </tr>\n",
       "    <tr>\n",
       "      <th>ENSG00000000457</th>\n",
       "      <td>3.237</td>\n",
       "      <td>2.596</td>\n",
       "      <td>2.345</td>\n",
       "      <td>8.775</td>\n",
       "      <td>2.723</td>\n",
       "      <td>3.700</td>\n",
       "      <td>3.912</td>\n",
       "      <td>5.011</td>\n",
       "      <td>4.158</td>\n",
       "      <td>3.292</td>\n",
       "      <td>...</td>\n",
       "      <td>4.829</td>\n",
       "      <td>11.082</td>\n",
       "      <td>8.814</td>\n",
       "      <td>2.646</td>\n",
       "      <td>2.483</td>\n",
       "      <td>2.527</td>\n",
       "      <td>2.549</td>\n",
       "      <td>7.651</td>\n",
       "      <td>4.967</td>\n",
       "      <td>3.714</td>\n",
       "    </tr>\n",
       "    <tr>\n",
       "      <th>ENSG00000000460</th>\n",
       "      <td>7.299</td>\n",
       "      <td>6.649</td>\n",
       "      <td>7.838</td>\n",
       "      <td>7.324</td>\n",
       "      <td>0.830</td>\n",
       "      <td>5.354</td>\n",
       "      <td>5.940</td>\n",
       "      <td>5.704</td>\n",
       "      <td>6.213</td>\n",
       "      <td>7.551</td>\n",
       "      <td>...</td>\n",
       "      <td>8.001</td>\n",
       "      <td>13.743</td>\n",
       "      <td>25.369</td>\n",
       "      <td>3.373</td>\n",
       "      <td>4.646</td>\n",
       "      <td>2.179</td>\n",
       "      <td>4.099</td>\n",
       "      <td>22.103</td>\n",
       "      <td>3.290</td>\n",
       "      <td>2.491</td>\n",
       "    </tr>\n",
       "  </tbody>\n",
       "</table>\n",
       "<p>5 rows × 57 columns</p>\n",
       "</div>"
      ],
      "text/plain": [
       "                   E000    E003    E004    E005    E006    E007    E011  \\\n",
       "gene_id                                                                   \n",
       "ENSG00000000003  23.265  43.985  37.413  29.459  21.864  55.649  52.940   \n",
       "ENSG00000000005   0.872   1.642   6.498   0.000   0.157   0.003   0.115   \n",
       "ENSG00000000419  55.208  35.259  58.308  48.208  37.477  45.923  44.959   \n",
       "ENSG00000000457   3.237   2.596   2.345   8.775   2.723   3.700   3.912   \n",
       "ENSG00000000460   7.299   6.649   7.838   7.324   0.830   5.354   5.940   \n",
       "\n",
       "                   E012    E013    E016   ...      E114    E116     E117  \\\n",
       "gene_id                                   ...                              \n",
       "ENSG00000000003  71.629  61.292  44.280   ...    37.989   0.038   42.639   \n",
       "ENSG00000000005   0.087   0.055   1.577   ...     0.000   0.000    0.000   \n",
       "ENSG00000000419  40.438  41.970  51.515   ...    52.215  79.197  107.098   \n",
       "ENSG00000000457   5.011   4.158   3.292   ...     4.829  11.082    8.814   \n",
       "ENSG00000000460   5.704   6.213   7.551   ...     8.001  13.743   25.369   \n",
       "\n",
       "                   E118    E119    E120    E122    E123    E127    E128  \n",
       "gene_id                                                                  \n",
       "ENSG00000000003  49.983  11.554  11.847  43.723   0.267  13.758  15.818  \n",
       "ENSG00000000005   0.000   0.000   0.018   0.000   0.006   0.000   0.000  \n",
       "ENSG00000000419  62.811  42.386  54.869  16.652  73.719  56.578  56.371  \n",
       "ENSG00000000457   2.646   2.483   2.527   2.549   7.651   4.967   3.714  \n",
       "ENSG00000000460   3.373   4.646   2.179   4.099  22.103   3.290   2.491  \n",
       "\n",
       "[5 rows x 57 columns]"
      ]
     },
     "execution_count": 5,
     "metadata": {},
     "output_type": "execute_result"
    }
   ],
   "source": [
    "df.head()"
   ]
  },
  {
   "cell_type": "code",
   "execution_count": 6,
   "metadata": {},
   "outputs": [
    {
     "data": {
      "text/plain": [
       "(19795, 57)"
      ]
     },
     "execution_count": 6,
     "metadata": {},
     "output_type": "execute_result"
    }
   ],
   "source": [
    "df.shape"
   ]
  },
  {
   "cell_type": "markdown",
   "metadata": {},
   "source": [
    "# Load Sample Meta Data"
   ]
  },
  {
   "cell_type": "code",
   "execution_count": 7,
   "metadata": {
    "collapsed": true
   },
   "outputs": [],
   "source": [
    "sample_meta = pd.read_csv('Input/EG.name.txt', sep='\\t', header=None, index_col=0)"
   ]
  },
  {
   "cell_type": "code",
   "execution_count": 8,
   "metadata": {},
   "outputs": [
    {
     "data": {
      "text/html": [
       "<div>\n",
       "<style scoped>\n",
       "    .dataframe tbody tr th:only-of-type {\n",
       "        vertical-align: middle;\n",
       "    }\n",
       "\n",
       "    .dataframe tbody tr th {\n",
       "        vertical-align: top;\n",
       "    }\n",
       "\n",
       "    .dataframe thead th {\n",
       "        text-align: right;\n",
       "    }\n",
       "</style>\n",
       "<table border=\"1\" class=\"dataframe\">\n",
       "  <thead>\n",
       "    <tr style=\"text-align: right;\">\n",
       "      <th></th>\n",
       "      <th>1</th>\n",
       "    </tr>\n",
       "    <tr>\n",
       "      <th>0</th>\n",
       "      <th></th>\n",
       "    </tr>\n",
       "  </thead>\n",
       "  <tbody>\n",
       "    <tr>\n",
       "      <th>E000</th>\n",
       "      <td>Universal_Human_Reference</td>\n",
       "    </tr>\n",
       "    <tr>\n",
       "      <th>E003</th>\n",
       "      <td>H1_Cell_Line</td>\n",
       "    </tr>\n",
       "    <tr>\n",
       "      <th>E004</th>\n",
       "      <td>H1_BMP4_Derived_Mesendoderm_Cultured_Cells</td>\n",
       "    </tr>\n",
       "    <tr>\n",
       "      <th>E005</th>\n",
       "      <td>H1_BMP4_Derived_Trophoblast_Cultured_Cells</td>\n",
       "    </tr>\n",
       "    <tr>\n",
       "      <th>E006</th>\n",
       "      <td>H1_Derived_Mesenchymal_Stem_Cells</td>\n",
       "    </tr>\n",
       "  </tbody>\n",
       "</table>\n",
       "</div>"
      ],
      "text/plain": [
       "                                               1\n",
       "0                                               \n",
       "E000                   Universal_Human_Reference\n",
       "E003                                H1_Cell_Line\n",
       "E004  H1_BMP4_Derived_Mesendoderm_Cultured_Cells\n",
       "E005  H1_BMP4_Derived_Trophoblast_Cultured_Cells\n",
       "E006           H1_Derived_Mesenchymal_Stem_Cells"
      ]
     },
     "execution_count": 8,
     "metadata": {},
     "output_type": "execute_result"
    }
   ],
   "source": [
    "sample_meta.head()"
   ]
  },
  {
   "cell_type": "code",
   "execution_count": 9,
   "metadata": {},
   "outputs": [
    {
     "data": {
      "text/plain": [
       "(58, 1)"
      ]
     },
     "execution_count": 9,
     "metadata": {},
     "output_type": "execute_result"
    }
   ],
   "source": [
    "sample_meta.shape"
   ]
  },
  {
   "cell_type": "markdown",
   "metadata": {},
   "source": [
    "# Load Gene Meta Data"
   ]
  },
  {
   "cell_type": "code",
   "execution_count": 10,
   "metadata": {
    "collapsed": true
   },
   "outputs": [],
   "source": [
    "gene_meta = pd.read_csv('Input/Ensembl_v65.Gencode_v10.ENSG.gene_info.txt', \n",
    "                        sep='\\t', \n",
    "                        header=None, \n",
    "                        usecols=[0,6], \n",
    "                        index_col=0)"
   ]
  },
  {
   "cell_type": "code",
   "execution_count": 11,
   "metadata": {},
   "outputs": [
    {
     "data": {
      "text/html": [
       "<div>\n",
       "<style scoped>\n",
       "    .dataframe tbody tr th:only-of-type {\n",
       "        vertical-align: middle;\n",
       "    }\n",
       "\n",
       "    .dataframe tbody tr th {\n",
       "        vertical-align: top;\n",
       "    }\n",
       "\n",
       "    .dataframe thead th {\n",
       "        text-align: right;\n",
       "    }\n",
       "</style>\n",
       "<table border=\"1\" class=\"dataframe\">\n",
       "  <thead>\n",
       "    <tr style=\"text-align: right;\">\n",
       "      <th></th>\n",
       "      <th>6</th>\n",
       "    </tr>\n",
       "    <tr>\n",
       "      <th>0</th>\n",
       "      <th></th>\n",
       "    </tr>\n",
       "  </thead>\n",
       "  <tbody>\n",
       "    <tr>\n",
       "      <th>ENSG00000000003</th>\n",
       "      <td>TSPAN6</td>\n",
       "    </tr>\n",
       "    <tr>\n",
       "      <th>ENSG00000000005</th>\n",
       "      <td>TNMD</td>\n",
       "    </tr>\n",
       "    <tr>\n",
       "      <th>ENSG00000000419</th>\n",
       "      <td>DPM1</td>\n",
       "    </tr>\n",
       "    <tr>\n",
       "      <th>ENSG00000000457</th>\n",
       "      <td>SCYL3</td>\n",
       "    </tr>\n",
       "    <tr>\n",
       "      <th>ENSG00000000460</th>\n",
       "      <td>C1orf112</td>\n",
       "    </tr>\n",
       "  </tbody>\n",
       "</table>\n",
       "</div>"
      ],
      "text/plain": [
       "                        6\n",
       "0                        \n",
       "ENSG00000000003    TSPAN6\n",
       "ENSG00000000005      TNMD\n",
       "ENSG00000000419      DPM1\n",
       "ENSG00000000457     SCYL3\n",
       "ENSG00000000460  C1orf112"
      ]
     },
     "execution_count": 11,
     "metadata": {},
     "output_type": "execute_result"
    }
   ],
   "source": [
    "gene_meta.head()"
   ]
  },
  {
   "cell_type": "code",
   "execution_count": 12,
   "metadata": {},
   "outputs": [
    {
     "data": {
      "text/plain": [
       "(52475, 1)"
      ]
     },
     "execution_count": 12,
     "metadata": {},
     "output_type": "execute_result"
    }
   ],
   "source": [
    "gene_meta.shape"
   ]
  },
  {
   "cell_type": "code",
   "execution_count": 13,
   "metadata": {
    "collapsed": true
   },
   "outputs": [],
   "source": [
    "gene_meta.dropna(inplace=True)"
   ]
  },
  {
   "cell_type": "code",
   "execution_count": 14,
   "metadata": {},
   "outputs": [
    {
     "data": {
      "text/plain": [
       "(26266, 1)"
      ]
     },
     "execution_count": 14,
     "metadata": {},
     "output_type": "execute_result"
    }
   ],
   "source": [
    "gene_meta.shape"
   ]
  },
  {
   "cell_type": "markdown",
   "metadata": {},
   "source": [
    "# Map Sample Name to Id"
   ]
  },
  {
   "cell_type": "code",
   "execution_count": 15,
   "metadata": {
    "collapsed": true
   },
   "outputs": [],
   "source": [
    "lst = []\n",
    "for sample in df.columns:\n",
    "    lst.append(sample_meta.loc[sample, 1])\n",
    "df.columns = lst"
   ]
  },
  {
   "cell_type": "code",
   "execution_count": 16,
   "metadata": {},
   "outputs": [
    {
     "data": {
      "text/html": [
       "<div>\n",
       "<style scoped>\n",
       "    .dataframe tbody tr th:only-of-type {\n",
       "        vertical-align: middle;\n",
       "    }\n",
       "\n",
       "    .dataframe tbody tr th {\n",
       "        vertical-align: top;\n",
       "    }\n",
       "\n",
       "    .dataframe thead th {\n",
       "        text-align: right;\n",
       "    }\n",
       "</style>\n",
       "<table border=\"1\" class=\"dataframe\">\n",
       "  <thead>\n",
       "    <tr style=\"text-align: right;\">\n",
       "      <th></th>\n",
       "      <th>Universal_Human_Reference</th>\n",
       "      <th>H1_Cell_Line</th>\n",
       "      <th>H1_BMP4_Derived_Mesendoderm_Cultured_Cells</th>\n",
       "      <th>H1_BMP4_Derived_Trophoblast_Cultured_Cells</th>\n",
       "      <th>H1_Derived_Mesenchymal_Stem_Cells</th>\n",
       "      <th>H1_Derived_Neuronal_Progenitor_Cultured_Cells</th>\n",
       "      <th>hESC_Derived_CD184+_Endoderm_Cultured_Cells</th>\n",
       "      <th>hESC_Derived_CD56+_Ectoderm_Cultured_Cells</th>\n",
       "      <th>hESC_Derived_CD56+_Mesoderm_Cultured_Cells</th>\n",
       "      <th>HUES64_Cell_Line</th>\n",
       "      <th>...</th>\n",
       "      <th>A549</th>\n",
       "      <th>GM12878</th>\n",
       "      <th>HELA</th>\n",
       "      <th>HEPG2</th>\n",
       "      <th>HMEC</th>\n",
       "      <th>HSMM</th>\n",
       "      <th>HUVEC</th>\n",
       "      <th>K562</th>\n",
       "      <th>NHEK</th>\n",
       "      <th>NHLF</th>\n",
       "    </tr>\n",
       "    <tr>\n",
       "      <th>gene_id</th>\n",
       "      <th></th>\n",
       "      <th></th>\n",
       "      <th></th>\n",
       "      <th></th>\n",
       "      <th></th>\n",
       "      <th></th>\n",
       "      <th></th>\n",
       "      <th></th>\n",
       "      <th></th>\n",
       "      <th></th>\n",
       "      <th></th>\n",
       "      <th></th>\n",
       "      <th></th>\n",
       "      <th></th>\n",
       "      <th></th>\n",
       "      <th></th>\n",
       "      <th></th>\n",
       "      <th></th>\n",
       "      <th></th>\n",
       "      <th></th>\n",
       "      <th></th>\n",
       "    </tr>\n",
       "  </thead>\n",
       "  <tbody>\n",
       "    <tr>\n",
       "      <th>ENSG00000000003</th>\n",
       "      <td>23.265</td>\n",
       "      <td>43.985</td>\n",
       "      <td>37.413</td>\n",
       "      <td>29.459</td>\n",
       "      <td>21.864</td>\n",
       "      <td>55.649</td>\n",
       "      <td>52.940</td>\n",
       "      <td>71.629</td>\n",
       "      <td>61.292</td>\n",
       "      <td>44.280</td>\n",
       "      <td>...</td>\n",
       "      <td>37.989</td>\n",
       "      <td>0.038</td>\n",
       "      <td>42.639</td>\n",
       "      <td>49.983</td>\n",
       "      <td>11.554</td>\n",
       "      <td>11.847</td>\n",
       "      <td>43.723</td>\n",
       "      <td>0.267</td>\n",
       "      <td>13.758</td>\n",
       "      <td>15.818</td>\n",
       "    </tr>\n",
       "    <tr>\n",
       "      <th>ENSG00000000005</th>\n",
       "      <td>0.872</td>\n",
       "      <td>1.642</td>\n",
       "      <td>6.498</td>\n",
       "      <td>0.000</td>\n",
       "      <td>0.157</td>\n",
       "      <td>0.003</td>\n",
       "      <td>0.115</td>\n",
       "      <td>0.087</td>\n",
       "      <td>0.055</td>\n",
       "      <td>1.577</td>\n",
       "      <td>...</td>\n",
       "      <td>0.000</td>\n",
       "      <td>0.000</td>\n",
       "      <td>0.000</td>\n",
       "      <td>0.000</td>\n",
       "      <td>0.000</td>\n",
       "      <td>0.018</td>\n",
       "      <td>0.000</td>\n",
       "      <td>0.006</td>\n",
       "      <td>0.000</td>\n",
       "      <td>0.000</td>\n",
       "    </tr>\n",
       "    <tr>\n",
       "      <th>ENSG00000000419</th>\n",
       "      <td>55.208</td>\n",
       "      <td>35.259</td>\n",
       "      <td>58.308</td>\n",
       "      <td>48.208</td>\n",
       "      <td>37.477</td>\n",
       "      <td>45.923</td>\n",
       "      <td>44.959</td>\n",
       "      <td>40.438</td>\n",
       "      <td>41.970</td>\n",
       "      <td>51.515</td>\n",
       "      <td>...</td>\n",
       "      <td>52.215</td>\n",
       "      <td>79.197</td>\n",
       "      <td>107.098</td>\n",
       "      <td>62.811</td>\n",
       "      <td>42.386</td>\n",
       "      <td>54.869</td>\n",
       "      <td>16.652</td>\n",
       "      <td>73.719</td>\n",
       "      <td>56.578</td>\n",
       "      <td>56.371</td>\n",
       "    </tr>\n",
       "    <tr>\n",
       "      <th>ENSG00000000457</th>\n",
       "      <td>3.237</td>\n",
       "      <td>2.596</td>\n",
       "      <td>2.345</td>\n",
       "      <td>8.775</td>\n",
       "      <td>2.723</td>\n",
       "      <td>3.700</td>\n",
       "      <td>3.912</td>\n",
       "      <td>5.011</td>\n",
       "      <td>4.158</td>\n",
       "      <td>3.292</td>\n",
       "      <td>...</td>\n",
       "      <td>4.829</td>\n",
       "      <td>11.082</td>\n",
       "      <td>8.814</td>\n",
       "      <td>2.646</td>\n",
       "      <td>2.483</td>\n",
       "      <td>2.527</td>\n",
       "      <td>2.549</td>\n",
       "      <td>7.651</td>\n",
       "      <td>4.967</td>\n",
       "      <td>3.714</td>\n",
       "    </tr>\n",
       "    <tr>\n",
       "      <th>ENSG00000000460</th>\n",
       "      <td>7.299</td>\n",
       "      <td>6.649</td>\n",
       "      <td>7.838</td>\n",
       "      <td>7.324</td>\n",
       "      <td>0.830</td>\n",
       "      <td>5.354</td>\n",
       "      <td>5.940</td>\n",
       "      <td>5.704</td>\n",
       "      <td>6.213</td>\n",
       "      <td>7.551</td>\n",
       "      <td>...</td>\n",
       "      <td>8.001</td>\n",
       "      <td>13.743</td>\n",
       "      <td>25.369</td>\n",
       "      <td>3.373</td>\n",
       "      <td>4.646</td>\n",
       "      <td>2.179</td>\n",
       "      <td>4.099</td>\n",
       "      <td>22.103</td>\n",
       "      <td>3.290</td>\n",
       "      <td>2.491</td>\n",
       "    </tr>\n",
       "  </tbody>\n",
       "</table>\n",
       "<p>5 rows × 57 columns</p>\n",
       "</div>"
      ],
      "text/plain": [
       "                 Universal_Human_Reference  H1_Cell_Line  \\\n",
       "gene_id                                                    \n",
       "ENSG00000000003                     23.265        43.985   \n",
       "ENSG00000000005                      0.872         1.642   \n",
       "ENSG00000000419                     55.208        35.259   \n",
       "ENSG00000000457                      3.237         2.596   \n",
       "ENSG00000000460                      7.299         6.649   \n",
       "\n",
       "                 H1_BMP4_Derived_Mesendoderm_Cultured_Cells  \\\n",
       "gene_id                                                       \n",
       "ENSG00000000003                                      37.413   \n",
       "ENSG00000000005                                       6.498   \n",
       "ENSG00000000419                                      58.308   \n",
       "ENSG00000000457                                       2.345   \n",
       "ENSG00000000460                                       7.838   \n",
       "\n",
       "                 H1_BMP4_Derived_Trophoblast_Cultured_Cells  \\\n",
       "gene_id                                                       \n",
       "ENSG00000000003                                      29.459   \n",
       "ENSG00000000005                                       0.000   \n",
       "ENSG00000000419                                      48.208   \n",
       "ENSG00000000457                                       8.775   \n",
       "ENSG00000000460                                       7.324   \n",
       "\n",
       "                 H1_Derived_Mesenchymal_Stem_Cells  \\\n",
       "gene_id                                              \n",
       "ENSG00000000003                             21.864   \n",
       "ENSG00000000005                              0.157   \n",
       "ENSG00000000419                             37.477   \n",
       "ENSG00000000457                              2.723   \n",
       "ENSG00000000460                              0.830   \n",
       "\n",
       "                 H1_Derived_Neuronal_Progenitor_Cultured_Cells  \\\n",
       "gene_id                                                          \n",
       "ENSG00000000003                                         55.649   \n",
       "ENSG00000000005                                          0.003   \n",
       "ENSG00000000419                                         45.923   \n",
       "ENSG00000000457                                          3.700   \n",
       "ENSG00000000460                                          5.354   \n",
       "\n",
       "                 hESC_Derived_CD184+_Endoderm_Cultured_Cells  \\\n",
       "gene_id                                                        \n",
       "ENSG00000000003                                       52.940   \n",
       "ENSG00000000005                                        0.115   \n",
       "ENSG00000000419                                       44.959   \n",
       "ENSG00000000457                                        3.912   \n",
       "ENSG00000000460                                        5.940   \n",
       "\n",
       "                 hESC_Derived_CD56+_Ectoderm_Cultured_Cells  \\\n",
       "gene_id                                                       \n",
       "ENSG00000000003                                      71.629   \n",
       "ENSG00000000005                                       0.087   \n",
       "ENSG00000000419                                      40.438   \n",
       "ENSG00000000457                                       5.011   \n",
       "ENSG00000000460                                       5.704   \n",
       "\n",
       "                 hESC_Derived_CD56+_Mesoderm_Cultured_Cells  HUES64_Cell_Line  \\\n",
       "gene_id                                                                         \n",
       "ENSG00000000003                                      61.292            44.280   \n",
       "ENSG00000000005                                       0.055             1.577   \n",
       "ENSG00000000419                                      41.970            51.515   \n",
       "ENSG00000000457                                       4.158             3.292   \n",
       "ENSG00000000460                                       6.213             7.551   \n",
       "\n",
       "                  ...      A549  GM12878     HELA   HEPG2    HMEC    HSMM  \\\n",
       "gene_id           ...                                                       \n",
       "ENSG00000000003   ...    37.989    0.038   42.639  49.983  11.554  11.847   \n",
       "ENSG00000000005   ...     0.000    0.000    0.000   0.000   0.000   0.018   \n",
       "ENSG00000000419   ...    52.215   79.197  107.098  62.811  42.386  54.869   \n",
       "ENSG00000000457   ...     4.829   11.082    8.814   2.646   2.483   2.527   \n",
       "ENSG00000000460   ...     8.001   13.743   25.369   3.373   4.646   2.179   \n",
       "\n",
       "                  HUVEC    K562    NHEK    NHLF  \n",
       "gene_id                                          \n",
       "ENSG00000000003  43.723   0.267  13.758  15.818  \n",
       "ENSG00000000005   0.000   0.006   0.000   0.000  \n",
       "ENSG00000000419  16.652  73.719  56.578  56.371  \n",
       "ENSG00000000457   2.549   7.651   4.967   3.714  \n",
       "ENSG00000000460   4.099  22.103   3.290   2.491  \n",
       "\n",
       "[5 rows x 57 columns]"
      ]
     },
     "execution_count": 16,
     "metadata": {},
     "output_type": "execute_result"
    }
   ],
   "source": [
    "df.head()"
   ]
  },
  {
   "cell_type": "markdown",
   "metadata": {},
   "source": [
    "# Map Gene Symbol to Id"
   ]
  },
  {
   "cell_type": "code",
   "execution_count": 17,
   "metadata": {},
   "outputs": [],
   "source": [
    "lst = []\n",
    "\n",
    "for gene in df.index:\n",
    "    if gene in gene_meta.index and type(gene_meta.loc[gene, 6]) == str:\n",
    "        lst.append(gene_meta.loc[gene, 6])\n",
    "    else:\n",
    "        df.drop(gene, axis=0, inplace=True)\n",
    "    \n",
    "df.index = lst"
   ]
  },
  {
   "cell_type": "code",
   "execution_count": 18,
   "metadata": {},
   "outputs": [
    {
     "data": {
      "text/html": [
       "<div>\n",
       "<style scoped>\n",
       "    .dataframe tbody tr th:only-of-type {\n",
       "        vertical-align: middle;\n",
       "    }\n",
       "\n",
       "    .dataframe tbody tr th {\n",
       "        vertical-align: top;\n",
       "    }\n",
       "\n",
       "    .dataframe thead th {\n",
       "        text-align: right;\n",
       "    }\n",
       "</style>\n",
       "<table border=\"1\" class=\"dataframe\">\n",
       "  <thead>\n",
       "    <tr style=\"text-align: right;\">\n",
       "      <th></th>\n",
       "      <th>Universal_Human_Reference</th>\n",
       "      <th>H1_Cell_Line</th>\n",
       "      <th>H1_BMP4_Derived_Mesendoderm_Cultured_Cells</th>\n",
       "      <th>H1_BMP4_Derived_Trophoblast_Cultured_Cells</th>\n",
       "      <th>H1_Derived_Mesenchymal_Stem_Cells</th>\n",
       "      <th>H1_Derived_Neuronal_Progenitor_Cultured_Cells</th>\n",
       "      <th>hESC_Derived_CD184+_Endoderm_Cultured_Cells</th>\n",
       "      <th>hESC_Derived_CD56+_Ectoderm_Cultured_Cells</th>\n",
       "      <th>hESC_Derived_CD56+_Mesoderm_Cultured_Cells</th>\n",
       "      <th>HUES64_Cell_Line</th>\n",
       "      <th>...</th>\n",
       "      <th>A549</th>\n",
       "      <th>GM12878</th>\n",
       "      <th>HELA</th>\n",
       "      <th>HEPG2</th>\n",
       "      <th>HMEC</th>\n",
       "      <th>HSMM</th>\n",
       "      <th>HUVEC</th>\n",
       "      <th>K562</th>\n",
       "      <th>NHEK</th>\n",
       "      <th>NHLF</th>\n",
       "    </tr>\n",
       "  </thead>\n",
       "  <tbody>\n",
       "    <tr>\n",
       "      <th>TSPAN6</th>\n",
       "      <td>23.265</td>\n",
       "      <td>43.985</td>\n",
       "      <td>37.413</td>\n",
       "      <td>29.459</td>\n",
       "      <td>21.864</td>\n",
       "      <td>55.649</td>\n",
       "      <td>52.940</td>\n",
       "      <td>71.629</td>\n",
       "      <td>61.292</td>\n",
       "      <td>44.280</td>\n",
       "      <td>...</td>\n",
       "      <td>37.989</td>\n",
       "      <td>0.038</td>\n",
       "      <td>42.639</td>\n",
       "      <td>49.983</td>\n",
       "      <td>11.554</td>\n",
       "      <td>11.847</td>\n",
       "      <td>43.723</td>\n",
       "      <td>0.267</td>\n",
       "      <td>13.758</td>\n",
       "      <td>15.818</td>\n",
       "    </tr>\n",
       "    <tr>\n",
       "      <th>TNMD</th>\n",
       "      <td>0.872</td>\n",
       "      <td>1.642</td>\n",
       "      <td>6.498</td>\n",
       "      <td>0.000</td>\n",
       "      <td>0.157</td>\n",
       "      <td>0.003</td>\n",
       "      <td>0.115</td>\n",
       "      <td>0.087</td>\n",
       "      <td>0.055</td>\n",
       "      <td>1.577</td>\n",
       "      <td>...</td>\n",
       "      <td>0.000</td>\n",
       "      <td>0.000</td>\n",
       "      <td>0.000</td>\n",
       "      <td>0.000</td>\n",
       "      <td>0.000</td>\n",
       "      <td>0.018</td>\n",
       "      <td>0.000</td>\n",
       "      <td>0.006</td>\n",
       "      <td>0.000</td>\n",
       "      <td>0.000</td>\n",
       "    </tr>\n",
       "    <tr>\n",
       "      <th>DPM1</th>\n",
       "      <td>55.208</td>\n",
       "      <td>35.259</td>\n",
       "      <td>58.308</td>\n",
       "      <td>48.208</td>\n",
       "      <td>37.477</td>\n",
       "      <td>45.923</td>\n",
       "      <td>44.959</td>\n",
       "      <td>40.438</td>\n",
       "      <td>41.970</td>\n",
       "      <td>51.515</td>\n",
       "      <td>...</td>\n",
       "      <td>52.215</td>\n",
       "      <td>79.197</td>\n",
       "      <td>107.098</td>\n",
       "      <td>62.811</td>\n",
       "      <td>42.386</td>\n",
       "      <td>54.869</td>\n",
       "      <td>16.652</td>\n",
       "      <td>73.719</td>\n",
       "      <td>56.578</td>\n",
       "      <td>56.371</td>\n",
       "    </tr>\n",
       "    <tr>\n",
       "      <th>SCYL3</th>\n",
       "      <td>3.237</td>\n",
       "      <td>2.596</td>\n",
       "      <td>2.345</td>\n",
       "      <td>8.775</td>\n",
       "      <td>2.723</td>\n",
       "      <td>3.700</td>\n",
       "      <td>3.912</td>\n",
       "      <td>5.011</td>\n",
       "      <td>4.158</td>\n",
       "      <td>3.292</td>\n",
       "      <td>...</td>\n",
       "      <td>4.829</td>\n",
       "      <td>11.082</td>\n",
       "      <td>8.814</td>\n",
       "      <td>2.646</td>\n",
       "      <td>2.483</td>\n",
       "      <td>2.527</td>\n",
       "      <td>2.549</td>\n",
       "      <td>7.651</td>\n",
       "      <td>4.967</td>\n",
       "      <td>3.714</td>\n",
       "    </tr>\n",
       "    <tr>\n",
       "      <th>C1orf112</th>\n",
       "      <td>7.299</td>\n",
       "      <td>6.649</td>\n",
       "      <td>7.838</td>\n",
       "      <td>7.324</td>\n",
       "      <td>0.830</td>\n",
       "      <td>5.354</td>\n",
       "      <td>5.940</td>\n",
       "      <td>5.704</td>\n",
       "      <td>6.213</td>\n",
       "      <td>7.551</td>\n",
       "      <td>...</td>\n",
       "      <td>8.001</td>\n",
       "      <td>13.743</td>\n",
       "      <td>25.369</td>\n",
       "      <td>3.373</td>\n",
       "      <td>4.646</td>\n",
       "      <td>2.179</td>\n",
       "      <td>4.099</td>\n",
       "      <td>22.103</td>\n",
       "      <td>3.290</td>\n",
       "      <td>2.491</td>\n",
       "    </tr>\n",
       "  </tbody>\n",
       "</table>\n",
       "<p>5 rows × 57 columns</p>\n",
       "</div>"
      ],
      "text/plain": [
       "          Universal_Human_Reference  H1_Cell_Line  \\\n",
       "TSPAN6                       23.265        43.985   \n",
       "TNMD                          0.872         1.642   \n",
       "DPM1                         55.208        35.259   \n",
       "SCYL3                         3.237         2.596   \n",
       "C1orf112                      7.299         6.649   \n",
       "\n",
       "          H1_BMP4_Derived_Mesendoderm_Cultured_Cells  \\\n",
       "TSPAN6                                        37.413   \n",
       "TNMD                                           6.498   \n",
       "DPM1                                          58.308   \n",
       "SCYL3                                          2.345   \n",
       "C1orf112                                       7.838   \n",
       "\n",
       "          H1_BMP4_Derived_Trophoblast_Cultured_Cells  \\\n",
       "TSPAN6                                        29.459   \n",
       "TNMD                                           0.000   \n",
       "DPM1                                          48.208   \n",
       "SCYL3                                          8.775   \n",
       "C1orf112                                       7.324   \n",
       "\n",
       "          H1_Derived_Mesenchymal_Stem_Cells  \\\n",
       "TSPAN6                               21.864   \n",
       "TNMD                                  0.157   \n",
       "DPM1                                 37.477   \n",
       "SCYL3                                 2.723   \n",
       "C1orf112                              0.830   \n",
       "\n",
       "          H1_Derived_Neuronal_Progenitor_Cultured_Cells  \\\n",
       "TSPAN6                                           55.649   \n",
       "TNMD                                              0.003   \n",
       "DPM1                                             45.923   \n",
       "SCYL3                                             3.700   \n",
       "C1orf112                                          5.354   \n",
       "\n",
       "          hESC_Derived_CD184+_Endoderm_Cultured_Cells  \\\n",
       "TSPAN6                                         52.940   \n",
       "TNMD                                            0.115   \n",
       "DPM1                                           44.959   \n",
       "SCYL3                                           3.912   \n",
       "C1orf112                                        5.940   \n",
       "\n",
       "          hESC_Derived_CD56+_Ectoderm_Cultured_Cells  \\\n",
       "TSPAN6                                        71.629   \n",
       "TNMD                                           0.087   \n",
       "DPM1                                          40.438   \n",
       "SCYL3                                          5.011   \n",
       "C1orf112                                       5.704   \n",
       "\n",
       "          hESC_Derived_CD56+_Mesoderm_Cultured_Cells  HUES64_Cell_Line  \\\n",
       "TSPAN6                                        61.292            44.280   \n",
       "TNMD                                           0.055             1.577   \n",
       "DPM1                                          41.970            51.515   \n",
       "SCYL3                                          4.158             3.292   \n",
       "C1orf112                                       6.213             7.551   \n",
       "\n",
       "           ...      A549  GM12878     HELA   HEPG2    HMEC    HSMM   HUVEC  \\\n",
       "TSPAN6     ...    37.989    0.038   42.639  49.983  11.554  11.847  43.723   \n",
       "TNMD       ...     0.000    0.000    0.000   0.000   0.000   0.018   0.000   \n",
       "DPM1       ...    52.215   79.197  107.098  62.811  42.386  54.869  16.652   \n",
       "SCYL3      ...     4.829   11.082    8.814   2.646   2.483   2.527   2.549   \n",
       "C1orf112   ...     8.001   13.743   25.369   3.373   4.646   2.179   4.099   \n",
       "\n",
       "            K562    NHEK    NHLF  \n",
       "TSPAN6     0.267  13.758  15.818  \n",
       "TNMD       0.006   0.000   0.000  \n",
       "DPM1      73.719  56.578  56.371  \n",
       "SCYL3      7.651   4.967   3.714  \n",
       "C1orf112  22.103   3.290   2.491  \n",
       "\n",
       "[5 rows x 57 columns]"
      ]
     },
     "execution_count": 18,
     "metadata": {},
     "output_type": "execute_result"
    }
   ],
   "source": [
    "df.head()"
   ]
  },
  {
   "cell_type": "code",
   "execution_count": 19,
   "metadata": {},
   "outputs": [
    {
     "data": {
      "text/plain": [
       "(18792, 57)"
      ]
     },
     "execution_count": 19,
     "metadata": {},
     "output_type": "execute_result"
    }
   ],
   "source": [
    "df.shape"
   ]
  },
  {
   "cell_type": "markdown",
   "metadata": {},
   "source": [
    "# Save Unfiltered Matrix To File"
   ]
  },
  {
   "cell_type": "code",
   "execution_count": 20,
   "metadata": {
    "collapsed": true
   },
   "outputs": [],
   "source": [
    "filename = '~/./Documents/Harmonizome/Roadmap Epigenomics/Cell and Tissue Gene Expression Profiles/Output/roadmap_cell_tissue_exprs_matrix_unfilltered_%s.tsv.zip'% str(datetime.date.today())[0:7].replace('-', '_')\n",
    "df.to_csv(filename, sep='\\t', compression='gzip')"
   ]
  },
  {
   "cell_type": "markdown",
   "metadata": {},
   "source": [
    "# Drop Any Genes That Have Zero Expression Across 95% Of The Samples"
   ]
  },
  {
   "cell_type": "code",
   "execution_count": 21,
   "metadata": {
    "collapsed": true
   },
   "outputs": [],
   "source": [
    "df.replace(0, np.nan, inplace=True)"
   ]
  },
  {
   "cell_type": "code",
   "execution_count": 22,
   "metadata": {
    "collapsed": true
   },
   "outputs": [],
   "source": [
    "df.dropna(thresh=(0.05*df.shape[1]), axis=0, inplace=True)"
   ]
  },
  {
   "cell_type": "code",
   "execution_count": 23,
   "metadata": {
    "collapsed": true
   },
   "outputs": [],
   "source": [
    "df.replace(np.nan, 0, inplace=True)"
   ]
  },
  {
   "cell_type": "code",
   "execution_count": 24,
   "metadata": {},
   "outputs": [
    {
     "data": {
      "text/plain": [
       "(18611, 57)"
      ]
     },
     "execution_count": 24,
     "metadata": {},
     "output_type": "execute_result"
    }
   ],
   "source": [
    "df.shape"
   ]
  },
  {
   "cell_type": "code",
   "execution_count": 25,
   "metadata": {},
   "outputs": [
    {
     "data": {
      "text/html": [
       "<div>\n",
       "<style scoped>\n",
       "    .dataframe tbody tr th:only-of-type {\n",
       "        vertical-align: middle;\n",
       "    }\n",
       "\n",
       "    .dataframe tbody tr th {\n",
       "        vertical-align: top;\n",
       "    }\n",
       "\n",
       "    .dataframe thead th {\n",
       "        text-align: right;\n",
       "    }\n",
       "</style>\n",
       "<table border=\"1\" class=\"dataframe\">\n",
       "  <thead>\n",
       "    <tr style=\"text-align: right;\">\n",
       "      <th></th>\n",
       "      <th>Universal_Human_Reference</th>\n",
       "      <th>H1_Cell_Line</th>\n",
       "      <th>H1_BMP4_Derived_Mesendoderm_Cultured_Cells</th>\n",
       "      <th>H1_BMP4_Derived_Trophoblast_Cultured_Cells</th>\n",
       "      <th>H1_Derived_Mesenchymal_Stem_Cells</th>\n",
       "      <th>H1_Derived_Neuronal_Progenitor_Cultured_Cells</th>\n",
       "      <th>hESC_Derived_CD184+_Endoderm_Cultured_Cells</th>\n",
       "      <th>hESC_Derived_CD56+_Ectoderm_Cultured_Cells</th>\n",
       "      <th>hESC_Derived_CD56+_Mesoderm_Cultured_Cells</th>\n",
       "      <th>HUES64_Cell_Line</th>\n",
       "      <th>...</th>\n",
       "      <th>A549</th>\n",
       "      <th>GM12878</th>\n",
       "      <th>HELA</th>\n",
       "      <th>HEPG2</th>\n",
       "      <th>HMEC</th>\n",
       "      <th>HSMM</th>\n",
       "      <th>HUVEC</th>\n",
       "      <th>K562</th>\n",
       "      <th>NHEK</th>\n",
       "      <th>NHLF</th>\n",
       "    </tr>\n",
       "  </thead>\n",
       "  <tbody>\n",
       "    <tr>\n",
       "      <th>TSPAN6</th>\n",
       "      <td>23.265</td>\n",
       "      <td>43.985</td>\n",
       "      <td>37.413</td>\n",
       "      <td>29.459</td>\n",
       "      <td>21.864</td>\n",
       "      <td>55.649</td>\n",
       "      <td>52.940</td>\n",
       "      <td>71.629</td>\n",
       "      <td>61.292</td>\n",
       "      <td>44.280</td>\n",
       "      <td>...</td>\n",
       "      <td>37.989</td>\n",
       "      <td>0.038</td>\n",
       "      <td>42.639</td>\n",
       "      <td>49.983</td>\n",
       "      <td>11.554</td>\n",
       "      <td>11.847</td>\n",
       "      <td>43.723</td>\n",
       "      <td>0.267</td>\n",
       "      <td>13.758</td>\n",
       "      <td>15.818</td>\n",
       "    </tr>\n",
       "    <tr>\n",
       "      <th>TNMD</th>\n",
       "      <td>0.872</td>\n",
       "      <td>1.642</td>\n",
       "      <td>6.498</td>\n",
       "      <td>0.000</td>\n",
       "      <td>0.157</td>\n",
       "      <td>0.003</td>\n",
       "      <td>0.115</td>\n",
       "      <td>0.087</td>\n",
       "      <td>0.055</td>\n",
       "      <td>1.577</td>\n",
       "      <td>...</td>\n",
       "      <td>0.000</td>\n",
       "      <td>0.000</td>\n",
       "      <td>0.000</td>\n",
       "      <td>0.000</td>\n",
       "      <td>0.000</td>\n",
       "      <td>0.018</td>\n",
       "      <td>0.000</td>\n",
       "      <td>0.006</td>\n",
       "      <td>0.000</td>\n",
       "      <td>0.000</td>\n",
       "    </tr>\n",
       "    <tr>\n",
       "      <th>DPM1</th>\n",
       "      <td>55.208</td>\n",
       "      <td>35.259</td>\n",
       "      <td>58.308</td>\n",
       "      <td>48.208</td>\n",
       "      <td>37.477</td>\n",
       "      <td>45.923</td>\n",
       "      <td>44.959</td>\n",
       "      <td>40.438</td>\n",
       "      <td>41.970</td>\n",
       "      <td>51.515</td>\n",
       "      <td>...</td>\n",
       "      <td>52.215</td>\n",
       "      <td>79.197</td>\n",
       "      <td>107.098</td>\n",
       "      <td>62.811</td>\n",
       "      <td>42.386</td>\n",
       "      <td>54.869</td>\n",
       "      <td>16.652</td>\n",
       "      <td>73.719</td>\n",
       "      <td>56.578</td>\n",
       "      <td>56.371</td>\n",
       "    </tr>\n",
       "    <tr>\n",
       "      <th>SCYL3</th>\n",
       "      <td>3.237</td>\n",
       "      <td>2.596</td>\n",
       "      <td>2.345</td>\n",
       "      <td>8.775</td>\n",
       "      <td>2.723</td>\n",
       "      <td>3.700</td>\n",
       "      <td>3.912</td>\n",
       "      <td>5.011</td>\n",
       "      <td>4.158</td>\n",
       "      <td>3.292</td>\n",
       "      <td>...</td>\n",
       "      <td>4.829</td>\n",
       "      <td>11.082</td>\n",
       "      <td>8.814</td>\n",
       "      <td>2.646</td>\n",
       "      <td>2.483</td>\n",
       "      <td>2.527</td>\n",
       "      <td>2.549</td>\n",
       "      <td>7.651</td>\n",
       "      <td>4.967</td>\n",
       "      <td>3.714</td>\n",
       "    </tr>\n",
       "    <tr>\n",
       "      <th>C1orf112</th>\n",
       "      <td>7.299</td>\n",
       "      <td>6.649</td>\n",
       "      <td>7.838</td>\n",
       "      <td>7.324</td>\n",
       "      <td>0.830</td>\n",
       "      <td>5.354</td>\n",
       "      <td>5.940</td>\n",
       "      <td>5.704</td>\n",
       "      <td>6.213</td>\n",
       "      <td>7.551</td>\n",
       "      <td>...</td>\n",
       "      <td>8.001</td>\n",
       "      <td>13.743</td>\n",
       "      <td>25.369</td>\n",
       "      <td>3.373</td>\n",
       "      <td>4.646</td>\n",
       "      <td>2.179</td>\n",
       "      <td>4.099</td>\n",
       "      <td>22.103</td>\n",
       "      <td>3.290</td>\n",
       "      <td>2.491</td>\n",
       "    </tr>\n",
       "  </tbody>\n",
       "</table>\n",
       "<p>5 rows × 57 columns</p>\n",
       "</div>"
      ],
      "text/plain": [
       "          Universal_Human_Reference  H1_Cell_Line  \\\n",
       "TSPAN6                       23.265        43.985   \n",
       "TNMD                          0.872         1.642   \n",
       "DPM1                         55.208        35.259   \n",
       "SCYL3                         3.237         2.596   \n",
       "C1orf112                      7.299         6.649   \n",
       "\n",
       "          H1_BMP4_Derived_Mesendoderm_Cultured_Cells  \\\n",
       "TSPAN6                                        37.413   \n",
       "TNMD                                           6.498   \n",
       "DPM1                                          58.308   \n",
       "SCYL3                                          2.345   \n",
       "C1orf112                                       7.838   \n",
       "\n",
       "          H1_BMP4_Derived_Trophoblast_Cultured_Cells  \\\n",
       "TSPAN6                                        29.459   \n",
       "TNMD                                           0.000   \n",
       "DPM1                                          48.208   \n",
       "SCYL3                                          8.775   \n",
       "C1orf112                                       7.324   \n",
       "\n",
       "          H1_Derived_Mesenchymal_Stem_Cells  \\\n",
       "TSPAN6                               21.864   \n",
       "TNMD                                  0.157   \n",
       "DPM1                                 37.477   \n",
       "SCYL3                                 2.723   \n",
       "C1orf112                              0.830   \n",
       "\n",
       "          H1_Derived_Neuronal_Progenitor_Cultured_Cells  \\\n",
       "TSPAN6                                           55.649   \n",
       "TNMD                                              0.003   \n",
       "DPM1                                             45.923   \n",
       "SCYL3                                             3.700   \n",
       "C1orf112                                          5.354   \n",
       "\n",
       "          hESC_Derived_CD184+_Endoderm_Cultured_Cells  \\\n",
       "TSPAN6                                         52.940   \n",
       "TNMD                                            0.115   \n",
       "DPM1                                           44.959   \n",
       "SCYL3                                           3.912   \n",
       "C1orf112                                        5.940   \n",
       "\n",
       "          hESC_Derived_CD56+_Ectoderm_Cultured_Cells  \\\n",
       "TSPAN6                                        71.629   \n",
       "TNMD                                           0.087   \n",
       "DPM1                                          40.438   \n",
       "SCYL3                                          5.011   \n",
       "C1orf112                                       5.704   \n",
       "\n",
       "          hESC_Derived_CD56+_Mesoderm_Cultured_Cells  HUES64_Cell_Line  \\\n",
       "TSPAN6                                        61.292            44.280   \n",
       "TNMD                                           0.055             1.577   \n",
       "DPM1                                          41.970            51.515   \n",
       "SCYL3                                          4.158             3.292   \n",
       "C1orf112                                       6.213             7.551   \n",
       "\n",
       "           ...      A549  GM12878     HELA   HEPG2    HMEC    HSMM   HUVEC  \\\n",
       "TSPAN6     ...    37.989    0.038   42.639  49.983  11.554  11.847  43.723   \n",
       "TNMD       ...     0.000    0.000    0.000   0.000   0.000   0.018   0.000   \n",
       "DPM1       ...    52.215   79.197  107.098  62.811  42.386  54.869  16.652   \n",
       "SCYL3      ...     4.829   11.082    8.814   2.646   2.483   2.527   2.549   \n",
       "C1orf112   ...     8.001   13.743   25.369   3.373   4.646   2.179   4.099   \n",
       "\n",
       "            K562    NHEK    NHLF  \n",
       "TSPAN6     0.267  13.758  15.818  \n",
       "TNMD       0.006   0.000   0.000  \n",
       "DPM1      73.719  56.578  56.371  \n",
       "SCYL3      7.651   4.967   3.714  \n",
       "C1orf112  22.103   3.290   2.491  \n",
       "\n",
       "[5 rows x 57 columns]"
      ]
     },
     "execution_count": 25,
     "metadata": {},
     "output_type": "execute_result"
    }
   ],
   "source": [
    "df.head()"
   ]
  },
  {
   "cell_type": "markdown",
   "metadata": {},
   "source": [
    "# Normalize Matrix (Quantile Normalize the matrix for the columns)"
   ]
  },
  {
   "cell_type": "code",
   "execution_count": 26,
   "metadata": {},
   "outputs": [
    {
     "name": "stdout",
     "output_type": "stream",
     "text": [
      "Step 2/2 progress: 100%  57 Out of 57   \r"
     ]
    }
   ],
   "source": [
    "normalized_matrix = uf.quantileNormalize(df)"
   ]
  },
  {
   "cell_type": "markdown",
   "metadata": {},
   "source": [
    "# Nomalize Matrix (z-score the rows)"
   ]
  },
  {
   "cell_type": "code",
   "execution_count": 27,
   "metadata": {
    "collapsed": true
   },
   "outputs": [],
   "source": [
    "genes = normalized_matrix.index.tolist()"
   ]
  },
  {
   "cell_type": "code",
   "execution_count": 28,
   "metadata": {
    "collapsed": true
   },
   "outputs": [],
   "source": [
    "normalized_matrix.reset_index(inplace=True)"
   ]
  },
  {
   "cell_type": "code",
   "execution_count": 29,
   "metadata": {
    "collapsed": true
   },
   "outputs": [],
   "source": [
    "normalized_matrix.drop('index', axis=1, inplace=True)"
   ]
  },
  {
   "cell_type": "code",
   "execution_count": 30,
   "metadata": {},
   "outputs": [
    {
     "name": "stdout",
     "output_type": "stream",
     "text": [
      "Progress: 100%  18611 Out of 18611   \r"
     ]
    }
   ],
   "source": [
    "uf.zscore(normalized_matrix, 'row')"
   ]
  },
  {
   "cell_type": "code",
   "execution_count": 31,
   "metadata": {
    "collapsed": true
   },
   "outputs": [],
   "source": [
    "normalized_matrix.index = genes"
   ]
  },
  {
   "cell_type": "code",
   "execution_count": 32,
   "metadata": {},
   "outputs": [
    {
     "data": {
      "text/html": [
       "<div>\n",
       "<style scoped>\n",
       "    .dataframe tbody tr th:only-of-type {\n",
       "        vertical-align: middle;\n",
       "    }\n",
       "\n",
       "    .dataframe tbody tr th {\n",
       "        vertical-align: top;\n",
       "    }\n",
       "\n",
       "    .dataframe thead th {\n",
       "        text-align: right;\n",
       "    }\n",
       "</style>\n",
       "<table border=\"1\" class=\"dataframe\">\n",
       "  <thead>\n",
       "    <tr style=\"text-align: right;\">\n",
       "      <th></th>\n",
       "      <th>Universal_Human_Reference</th>\n",
       "      <th>H1_Cell_Line</th>\n",
       "      <th>H1_BMP4_Derived_Mesendoderm_Cultured_Cells</th>\n",
       "      <th>H1_BMP4_Derived_Trophoblast_Cultured_Cells</th>\n",
       "      <th>H1_Derived_Mesenchymal_Stem_Cells</th>\n",
       "      <th>H1_Derived_Neuronal_Progenitor_Cultured_Cells</th>\n",
       "      <th>hESC_Derived_CD184+_Endoderm_Cultured_Cells</th>\n",
       "      <th>hESC_Derived_CD56+_Ectoderm_Cultured_Cells</th>\n",
       "      <th>hESC_Derived_CD56+_Mesoderm_Cultured_Cells</th>\n",
       "      <th>HUES64_Cell_Line</th>\n",
       "      <th>...</th>\n",
       "      <th>A549</th>\n",
       "      <th>GM12878</th>\n",
       "      <th>HELA</th>\n",
       "      <th>HEPG2</th>\n",
       "      <th>HMEC</th>\n",
       "      <th>HSMM</th>\n",
       "      <th>HUVEC</th>\n",
       "      <th>K562</th>\n",
       "      <th>NHEK</th>\n",
       "      <th>NHLF</th>\n",
       "    </tr>\n",
       "  </thead>\n",
       "  <tbody>\n",
       "    <tr>\n",
       "      <th>TSPAN6</th>\n",
       "      <td>-0.079233</td>\n",
       "      <td>0.892314</td>\n",
       "      <td>0.492388</td>\n",
       "      <td>0.258057</td>\n",
       "      <td>-0.032271</td>\n",
       "      <td>1.398961</td>\n",
       "      <td>1.648510</td>\n",
       "      <td>2.897362</td>\n",
       "      <td>1.860810</td>\n",
       "      <td>0.916236</td>\n",
       "      <td>...</td>\n",
       "      <td>0.654322</td>\n",
       "      <td>-1.037386</td>\n",
       "      <td>0.765512</td>\n",
       "      <td>1.048494</td>\n",
       "      <td>-0.504552</td>\n",
       "      <td>-0.463583</td>\n",
       "      <td>0.762505</td>\n",
       "      <td>-0.989664</td>\n",
       "      <td>-0.414287</td>\n",
       "      <td>-0.258611</td>\n",
       "    </tr>\n",
       "    <tr>\n",
       "      <th>TNMD</th>\n",
       "      <td>-0.038999</td>\n",
       "      <td>0.654039</td>\n",
       "      <td>4.129810</td>\n",
       "      <td>-0.269031</td>\n",
       "      <td>0.114200</td>\n",
       "      <td>-0.262394</td>\n",
       "      <td>-0.194249</td>\n",
       "      <td>-0.196706</td>\n",
       "      <td>-0.228757</td>\n",
       "      <td>0.612396</td>\n",
       "      <td>...</td>\n",
       "      <td>-0.269031</td>\n",
       "      <td>-0.269031</td>\n",
       "      <td>-0.269031</td>\n",
       "      <td>-0.269031</td>\n",
       "      <td>-0.269031</td>\n",
       "      <td>-0.194872</td>\n",
       "      <td>-0.269031</td>\n",
       "      <td>-0.185143</td>\n",
       "      <td>-0.269031</td>\n",
       "      <td>-0.269031</td>\n",
       "    </tr>\n",
       "    <tr>\n",
       "      <th>DPM1</th>\n",
       "      <td>0.888519</td>\n",
       "      <td>-0.355449</td>\n",
       "      <td>0.644345</td>\n",
       "      <td>0.342505</td>\n",
       "      <td>-0.248997</td>\n",
       "      <td>0.210393</td>\n",
       "      <td>0.398038</td>\n",
       "      <td>0.145749</td>\n",
       "      <td>0.156504</td>\n",
       "      <td>0.568150</td>\n",
       "      <td>...</td>\n",
       "      <td>0.715471</td>\n",
       "      <td>2.133007</td>\n",
       "      <td>3.642808</td>\n",
       "      <td>1.009386</td>\n",
       "      <td>-0.018603</td>\n",
       "      <td>0.893172</td>\n",
       "      <td>-1.356975</td>\n",
       "      <td>1.375550</td>\n",
       "      <td>0.804159</td>\n",
       "      <td>1.046974</td>\n",
       "    </tr>\n",
       "    <tr>\n",
       "      <th>SCYL3</th>\n",
       "      <td>-1.055861</td>\n",
       "      <td>-0.881570</td>\n",
       "      <td>-0.737592</td>\n",
       "      <td>1.578008</td>\n",
       "      <td>-0.497616</td>\n",
       "      <td>-0.579914</td>\n",
       "      <td>-0.698269</td>\n",
       "      <td>-0.291101</td>\n",
       "      <td>-0.482602</td>\n",
       "      <td>-0.704939</td>\n",
       "      <td>...</td>\n",
       "      <td>0.108874</td>\n",
       "      <td>2.121345</td>\n",
       "      <td>1.559560</td>\n",
       "      <td>-0.530860</td>\n",
       "      <td>-0.591767</td>\n",
       "      <td>-0.528514</td>\n",
       "      <td>-0.479193</td>\n",
       "      <td>1.134597</td>\n",
       "      <td>0.271785</td>\n",
       "      <td>-0.019679</td>\n",
       "    </tr>\n",
       "    <tr>\n",
       "      <th>C1orf112</th>\n",
       "      <td>0.291057</td>\n",
       "      <td>0.520531</td>\n",
       "      <td>0.883388</td>\n",
       "      <td>0.810647</td>\n",
       "      <td>-0.627582</td>\n",
       "      <td>0.103519</td>\n",
       "      <td>0.117435</td>\n",
       "      <td>0.104180</td>\n",
       "      <td>0.294996</td>\n",
       "      <td>0.623741</td>\n",
       "      <td>...</td>\n",
       "      <td>0.941973</td>\n",
       "      <td>2.075246</td>\n",
       "      <td>4.584405</td>\n",
       "      <td>-0.021695</td>\n",
       "      <td>0.296176</td>\n",
       "      <td>-0.262316</td>\n",
       "      <td>0.229118</td>\n",
       "      <td>3.687310</td>\n",
       "      <td>-0.054294</td>\n",
       "      <td>-0.160254</td>\n",
       "    </tr>\n",
       "  </tbody>\n",
       "</table>\n",
       "<p>5 rows × 57 columns</p>\n",
       "</div>"
      ],
      "text/plain": [
       "          Universal_Human_Reference  H1_Cell_Line  \\\n",
       "TSPAN6                    -0.079233      0.892314   \n",
       "TNMD                      -0.038999      0.654039   \n",
       "DPM1                       0.888519     -0.355449   \n",
       "SCYL3                     -1.055861     -0.881570   \n",
       "C1orf112                   0.291057      0.520531   \n",
       "\n",
       "          H1_BMP4_Derived_Mesendoderm_Cultured_Cells  \\\n",
       "TSPAN6                                      0.492388   \n",
       "TNMD                                        4.129810   \n",
       "DPM1                                        0.644345   \n",
       "SCYL3                                      -0.737592   \n",
       "C1orf112                                    0.883388   \n",
       "\n",
       "          H1_BMP4_Derived_Trophoblast_Cultured_Cells  \\\n",
       "TSPAN6                                      0.258057   \n",
       "TNMD                                       -0.269031   \n",
       "DPM1                                        0.342505   \n",
       "SCYL3                                       1.578008   \n",
       "C1orf112                                    0.810647   \n",
       "\n",
       "          H1_Derived_Mesenchymal_Stem_Cells  \\\n",
       "TSPAN6                            -0.032271   \n",
       "TNMD                               0.114200   \n",
       "DPM1                              -0.248997   \n",
       "SCYL3                             -0.497616   \n",
       "C1orf112                          -0.627582   \n",
       "\n",
       "          H1_Derived_Neuronal_Progenitor_Cultured_Cells  \\\n",
       "TSPAN6                                         1.398961   \n",
       "TNMD                                          -0.262394   \n",
       "DPM1                                           0.210393   \n",
       "SCYL3                                         -0.579914   \n",
       "C1orf112                                       0.103519   \n",
       "\n",
       "          hESC_Derived_CD184+_Endoderm_Cultured_Cells  \\\n",
       "TSPAN6                                       1.648510   \n",
       "TNMD                                        -0.194249   \n",
       "DPM1                                         0.398038   \n",
       "SCYL3                                       -0.698269   \n",
       "C1orf112                                     0.117435   \n",
       "\n",
       "          hESC_Derived_CD56+_Ectoderm_Cultured_Cells  \\\n",
       "TSPAN6                                      2.897362   \n",
       "TNMD                                       -0.196706   \n",
       "DPM1                                        0.145749   \n",
       "SCYL3                                      -0.291101   \n",
       "C1orf112                                    0.104180   \n",
       "\n",
       "          hESC_Derived_CD56+_Mesoderm_Cultured_Cells  HUES64_Cell_Line  \\\n",
       "TSPAN6                                      1.860810          0.916236   \n",
       "TNMD                                       -0.228757          0.612396   \n",
       "DPM1                                        0.156504          0.568150   \n",
       "SCYL3                                      -0.482602         -0.704939   \n",
       "C1orf112                                    0.294996          0.623741   \n",
       "\n",
       "            ...         A549   GM12878      HELA     HEPG2      HMEC  \\\n",
       "TSPAN6      ...     0.654322 -1.037386  0.765512  1.048494 -0.504552   \n",
       "TNMD        ...    -0.269031 -0.269031 -0.269031 -0.269031 -0.269031   \n",
       "DPM1        ...     0.715471  2.133007  3.642808  1.009386 -0.018603   \n",
       "SCYL3       ...     0.108874  2.121345  1.559560 -0.530860 -0.591767   \n",
       "C1orf112    ...     0.941973  2.075246  4.584405 -0.021695  0.296176   \n",
       "\n",
       "              HSMM     HUVEC      K562      NHEK      NHLF  \n",
       "TSPAN6   -0.463583  0.762505 -0.989664 -0.414287 -0.258611  \n",
       "TNMD     -0.194872 -0.269031 -0.185143 -0.269031 -0.269031  \n",
       "DPM1      0.893172 -1.356975  1.375550  0.804159  1.046974  \n",
       "SCYL3    -0.528514 -0.479193  1.134597  0.271785 -0.019679  \n",
       "C1orf112 -0.262316  0.229118  3.687310 -0.054294 -0.160254  \n",
       "\n",
       "[5 rows x 57 columns]"
      ]
     },
     "execution_count": 32,
     "metadata": {},
     "output_type": "execute_result"
    }
   ],
   "source": [
    "normalized_matrix.head()"
   ]
  },
  {
   "cell_type": "markdown",
   "metadata": {},
   "source": [
    "# Map Gene Symbols To Up-to-date Approved Gene Symbols"
   ]
  },
  {
   "cell_type": "code",
   "execution_count": 33,
   "metadata": {},
   "outputs": [
    {
     "name": "stdout",
     "output_type": "stream",
     "text": [
      "Progeres: 97%  18174 Out of 18611   \r"
     ]
    }
   ],
   "source": [
    "uf.mapgenesymbols(normalized_matrix)"
   ]
  },
  {
   "cell_type": "code",
   "execution_count": 34,
   "metadata": {},
   "outputs": [],
   "source": [
    "normalized_matrix.shape"
   ]
  },
  {
   "cell_type": "markdown",
   "metadata": {},
   "source": [
    "# Merge Duplicate Genes By Rows"
   ]
  },
  {
   "cell_type": "code",
   "execution_count": 35,
   "metadata": {
    "collapsed": true
   },
   "outputs": [],
   "source": [
    "normalized_matrix = uf.merge(normalized_matrix, 'row', 'mean')"
   ]
  },
  {
   "cell_type": "code",
   "execution_count": 36,
   "metadata": {},
   "outputs": [],
   "source": [
    "normalized_matrix.shape"
   ]
  },
  {
   "cell_type": "markdown",
   "metadata": {},
   "source": [
    "# Save Filtered Matrix"
   ]
  },
  {
   "cell_type": "code",
   "execution_count": 37,
   "metadata": {
    "collapsed": true
   },
   "outputs": [],
   "source": [
    "filename = '~/./Documents/Harmonizome/Roadmap Epigenomics/Cell and Tissue Gene Expression Profiles/Output/roadmap_cell_tissue_exprs_matrix_filltered_%s.tsv.zip'% str(datetime.date.today())[0:7].replace('-', '_')\n",
    "normalized_matrix.to_csv(filename, sep='\\t', compression='gzip')"
   ]
  },
  {
   "cell_type": "markdown",
   "metadata": {},
   "source": [
    "# Create Tertiary Matrix"
   ]
  },
  {
   "cell_type": "code",
   "execution_count": 38,
   "metadata": {},
   "outputs": [
    {
     "name": "stdout",
     "output_type": "stream",
     "text": [
      "Progeres: 100%  57 Out of 57   \r"
     ]
    }
   ],
   "source": [
    "tertiary_matrix = uf.createTertiaryMarix(normalized_matrix)"
   ]
  },
  {
   "cell_type": "code",
   "execution_count": 39,
   "metadata": {},
   "outputs": [
    {
     "data": {
      "text/html": [
       "<div>\n",
       "<style scoped>\n",
       "    .dataframe tbody tr th:only-of-type {\n",
       "        vertical-align: middle;\n",
       "    }\n",
       "\n",
       "    .dataframe tbody tr th {\n",
       "        vertical-align: top;\n",
       "    }\n",
       "\n",
       "    .dataframe thead th {\n",
       "        text-align: right;\n",
       "    }\n",
       "</style>\n",
       "<table border=\"1\" class=\"dataframe\">\n",
       "  <thead>\n",
       "    <tr style=\"text-align: right;\">\n",
       "      <th></th>\n",
       "      <th>Universal_Human_Reference</th>\n",
       "      <th>H1_Cell_Line</th>\n",
       "      <th>H1_BMP4_Derived_Mesendoderm_Cultured_Cells</th>\n",
       "      <th>H1_BMP4_Derived_Trophoblast_Cultured_Cells</th>\n",
       "      <th>H1_Derived_Mesenchymal_Stem_Cells</th>\n",
       "      <th>H1_Derived_Neuronal_Progenitor_Cultured_Cells</th>\n",
       "      <th>hESC_Derived_CD184+_Endoderm_Cultured_Cells</th>\n",
       "      <th>hESC_Derived_CD56+_Ectoderm_Cultured_Cells</th>\n",
       "      <th>hESC_Derived_CD56+_Mesoderm_Cultured_Cells</th>\n",
       "      <th>HUES64_Cell_Line</th>\n",
       "      <th>...</th>\n",
       "      <th>A549</th>\n",
       "      <th>GM12878</th>\n",
       "      <th>HELA</th>\n",
       "      <th>HEPG2</th>\n",
       "      <th>HMEC</th>\n",
       "      <th>HSMM</th>\n",
       "      <th>HUVEC</th>\n",
       "      <th>K562</th>\n",
       "      <th>NHEK</th>\n",
       "      <th>NHLF</th>\n",
       "    </tr>\n",
       "    <tr>\n",
       "      <th>index</th>\n",
       "      <th></th>\n",
       "      <th></th>\n",
       "      <th></th>\n",
       "      <th></th>\n",
       "      <th></th>\n",
       "      <th></th>\n",
       "      <th></th>\n",
       "      <th></th>\n",
       "      <th></th>\n",
       "      <th></th>\n",
       "      <th></th>\n",
       "      <th></th>\n",
       "      <th></th>\n",
       "      <th></th>\n",
       "      <th></th>\n",
       "      <th></th>\n",
       "      <th></th>\n",
       "      <th></th>\n",
       "      <th></th>\n",
       "      <th></th>\n",
       "      <th></th>\n",
       "    </tr>\n",
       "  </thead>\n",
       "  <tbody>\n",
       "    <tr>\n",
       "      <th>A1BG</th>\n",
       "      <td>0.0</td>\n",
       "      <td>0.0</td>\n",
       "      <td>0.0</td>\n",
       "      <td>0.0</td>\n",
       "      <td>0.0</td>\n",
       "      <td>0.0</td>\n",
       "      <td>0.0</td>\n",
       "      <td>0.0</td>\n",
       "      <td>0.0</td>\n",
       "      <td>0.0</td>\n",
       "      <td>...</td>\n",
       "      <td>0.0</td>\n",
       "      <td>0.0</td>\n",
       "      <td>0.0</td>\n",
       "      <td>0.0</td>\n",
       "      <td>0.0</td>\n",
       "      <td>0.0</td>\n",
       "      <td>0.0</td>\n",
       "      <td>0.0</td>\n",
       "      <td>0.0</td>\n",
       "      <td>0.0</td>\n",
       "    </tr>\n",
       "    <tr>\n",
       "      <th>A1CF</th>\n",
       "      <td>0.0</td>\n",
       "      <td>0.0</td>\n",
       "      <td>0.0</td>\n",
       "      <td>0.0</td>\n",
       "      <td>0.0</td>\n",
       "      <td>0.0</td>\n",
       "      <td>0.0</td>\n",
       "      <td>0.0</td>\n",
       "      <td>0.0</td>\n",
       "      <td>0.0</td>\n",
       "      <td>...</td>\n",
       "      <td>0.0</td>\n",
       "      <td>0.0</td>\n",
       "      <td>0.0</td>\n",
       "      <td>1.0</td>\n",
       "      <td>0.0</td>\n",
       "      <td>0.0</td>\n",
       "      <td>0.0</td>\n",
       "      <td>0.0</td>\n",
       "      <td>0.0</td>\n",
       "      <td>0.0</td>\n",
       "    </tr>\n",
       "    <tr>\n",
       "      <th>A2M</th>\n",
       "      <td>0.0</td>\n",
       "      <td>0.0</td>\n",
       "      <td>0.0</td>\n",
       "      <td>0.0</td>\n",
       "      <td>0.0</td>\n",
       "      <td>0.0</td>\n",
       "      <td>0.0</td>\n",
       "      <td>0.0</td>\n",
       "      <td>0.0</td>\n",
       "      <td>0.0</td>\n",
       "      <td>...</td>\n",
       "      <td>0.0</td>\n",
       "      <td>0.0</td>\n",
       "      <td>0.0</td>\n",
       "      <td>1.0</td>\n",
       "      <td>0.0</td>\n",
       "      <td>0.0</td>\n",
       "      <td>0.0</td>\n",
       "      <td>0.0</td>\n",
       "      <td>0.0</td>\n",
       "      <td>0.0</td>\n",
       "    </tr>\n",
       "    <tr>\n",
       "      <th>A2ML1</th>\n",
       "      <td>0.0</td>\n",
       "      <td>0.0</td>\n",
       "      <td>0.0</td>\n",
       "      <td>0.0</td>\n",
       "      <td>0.0</td>\n",
       "      <td>0.0</td>\n",
       "      <td>0.0</td>\n",
       "      <td>0.0</td>\n",
       "      <td>0.0</td>\n",
       "      <td>0.0</td>\n",
       "      <td>...</td>\n",
       "      <td>0.0</td>\n",
       "      <td>0.0</td>\n",
       "      <td>0.0</td>\n",
       "      <td>0.0</td>\n",
       "      <td>0.0</td>\n",
       "      <td>0.0</td>\n",
       "      <td>0.0</td>\n",
       "      <td>0.0</td>\n",
       "      <td>1.0</td>\n",
       "      <td>0.0</td>\n",
       "    </tr>\n",
       "    <tr>\n",
       "      <th>A4GALT</th>\n",
       "      <td>0.0</td>\n",
       "      <td>0.0</td>\n",
       "      <td>0.0</td>\n",
       "      <td>0.0</td>\n",
       "      <td>0.0</td>\n",
       "      <td>0.0</td>\n",
       "      <td>0.0</td>\n",
       "      <td>0.0</td>\n",
       "      <td>0.0</td>\n",
       "      <td>0.0</td>\n",
       "      <td>...</td>\n",
       "      <td>0.0</td>\n",
       "      <td>0.0</td>\n",
       "      <td>0.0</td>\n",
       "      <td>0.0</td>\n",
       "      <td>0.0</td>\n",
       "      <td>0.0</td>\n",
       "      <td>0.0</td>\n",
       "      <td>0.0</td>\n",
       "      <td>0.0</td>\n",
       "      <td>0.0</td>\n",
       "    </tr>\n",
       "  </tbody>\n",
       "</table>\n",
       "<p>5 rows × 57 columns</p>\n",
       "</div>"
      ],
      "text/plain": [
       "        Universal_Human_Reference  H1_Cell_Line  \\\n",
       "index                                             \n",
       "A1BG                          0.0           0.0   \n",
       "A1CF                          0.0           0.0   \n",
       "A2M                           0.0           0.0   \n",
       "A2ML1                         0.0           0.0   \n",
       "A4GALT                        0.0           0.0   \n",
       "\n",
       "        H1_BMP4_Derived_Mesendoderm_Cultured_Cells  \\\n",
       "index                                                \n",
       "A1BG                                           0.0   \n",
       "A1CF                                           0.0   \n",
       "A2M                                            0.0   \n",
       "A2ML1                                          0.0   \n",
       "A4GALT                                         0.0   \n",
       "\n",
       "        H1_BMP4_Derived_Trophoblast_Cultured_Cells  \\\n",
       "index                                                \n",
       "A1BG                                           0.0   \n",
       "A1CF                                           0.0   \n",
       "A2M                                            0.0   \n",
       "A2ML1                                          0.0   \n",
       "A4GALT                                         0.0   \n",
       "\n",
       "        H1_Derived_Mesenchymal_Stem_Cells  \\\n",
       "index                                       \n",
       "A1BG                                  0.0   \n",
       "A1CF                                  0.0   \n",
       "A2M                                   0.0   \n",
       "A2ML1                                 0.0   \n",
       "A4GALT                                0.0   \n",
       "\n",
       "        H1_Derived_Neuronal_Progenitor_Cultured_Cells  \\\n",
       "index                                                   \n",
       "A1BG                                              0.0   \n",
       "A1CF                                              0.0   \n",
       "A2M                                               0.0   \n",
       "A2ML1                                             0.0   \n",
       "A4GALT                                            0.0   \n",
       "\n",
       "        hESC_Derived_CD184+_Endoderm_Cultured_Cells  \\\n",
       "index                                                 \n",
       "A1BG                                            0.0   \n",
       "A1CF                                            0.0   \n",
       "A2M                                             0.0   \n",
       "A2ML1                                           0.0   \n",
       "A4GALT                                          0.0   \n",
       "\n",
       "        hESC_Derived_CD56+_Ectoderm_Cultured_Cells  \\\n",
       "index                                                \n",
       "A1BG                                           0.0   \n",
       "A1CF                                           0.0   \n",
       "A2M                                            0.0   \n",
       "A2ML1                                          0.0   \n",
       "A4GALT                                         0.0   \n",
       "\n",
       "        hESC_Derived_CD56+_Mesoderm_Cultured_Cells  HUES64_Cell_Line  ...   \\\n",
       "index                                                                 ...    \n",
       "A1BG                                           0.0               0.0  ...    \n",
       "A1CF                                           0.0               0.0  ...    \n",
       "A2M                                            0.0               0.0  ...    \n",
       "A2ML1                                          0.0               0.0  ...    \n",
       "A4GALT                                         0.0               0.0  ...    \n",
       "\n",
       "        A549  GM12878  HELA  HEPG2  HMEC  HSMM  HUVEC  K562  NHEK  NHLF  \n",
       "index                                                                    \n",
       "A1BG     0.0      0.0   0.0    0.0   0.0   0.0    0.0   0.0   0.0   0.0  \n",
       "A1CF     0.0      0.0   0.0    1.0   0.0   0.0    0.0   0.0   0.0   0.0  \n",
       "A2M      0.0      0.0   0.0    1.0   0.0   0.0    0.0   0.0   0.0   0.0  \n",
       "A2ML1    0.0      0.0   0.0    0.0   0.0   0.0    0.0   0.0   1.0   0.0  \n",
       "A4GALT   0.0      0.0   0.0    0.0   0.0   0.0    0.0   0.0   0.0   0.0  \n",
       "\n",
       "[5 rows x 57 columns]"
      ]
     },
     "execution_count": 39,
     "metadata": {},
     "output_type": "execute_result"
    }
   ],
   "source": [
    "tertiary_matrix.head()"
   ]
  },
  {
   "cell_type": "markdown",
   "metadata": {},
   "source": [
    "# Save Teriary Matrix"
   ]
  },
  {
   "cell_type": "code",
   "execution_count": 40,
   "metadata": {
    "collapsed": true
   },
   "outputs": [],
   "source": [
    "filename = '~/./Documents/Harmonizome/Roadmap Epigenomics/Cell and Tissue Gene Expression Profiles/Output/roadmap_cell_tissue_exprs_tertiary_matrix_%s.tsv.zip'% str(datetime.date.today())[0:7].replace('-', '_')\n",
    "tertiary_matrix.to_csv(filename, sep='\\t', compression='gzip')"
   ]
  },
  {
   "cell_type": "markdown",
   "metadata": {},
   "source": [
    "#### Path to output files"
   ]
  },
  {
   "cell_type": "code",
   "execution_count": 41,
   "metadata": {
    "collapsed": true
   },
   "outputs": [],
   "source": [
    "path = '/Users/moshesilverstein/Documents/Harmonizome/Roadmap Epigenomics/Cell and Tissue Gene Expression Profiles/Output/'"
   ]
  },
  {
   "cell_type": "markdown",
   "metadata": {},
   "source": [
    "# Create Up Gene Set Library"
   ]
  },
  {
   "cell_type": "code",
   "execution_count": 42,
   "metadata": {
    "collapsed": true
   },
   "outputs": [],
   "source": [
    "name = 'roadmap_cell_tissue_exprs_gene_up_set'"
   ]
  },
  {
   "cell_type": "code",
   "execution_count": 43,
   "metadata": {},
   "outputs": [
    {
     "name": "stdout",
     "output_type": "stream",
     "text": [
      "Progeres: 100%  57 Out of 57   \r"
     ]
    }
   ],
   "source": [
    "uf.createUpGeneSetLib(tertiary_matrix, path, name)"
   ]
  },
  {
   "cell_type": "markdown",
   "metadata": {},
   "source": [
    "# Create Down Gene Set Librarym"
   ]
  },
  {
   "cell_type": "code",
   "execution_count": 45,
   "metadata": {
    "collapsed": true
   },
   "outputs": [],
   "source": [
    "name = 'roadmap_cell_tissue_exprs_gene_down_set'"
   ]
  },
  {
   "cell_type": "code",
   "execution_count": 46,
   "metadata": {},
   "outputs": [
    {
     "name": "stdout",
     "output_type": "stream",
     "text": [
      "Progeres: 100%  57 Out of 57   \r"
     ]
    }
   ],
   "source": [
    "uf.createDownGeneSetLib(tertiary_matrix, path, name)"
   ]
  },
  {
   "cell_type": "markdown",
   "metadata": {},
   "source": [
    "# Create Up Attribute Library"
   ]
  },
  {
   "cell_type": "code",
   "execution_count": 47,
   "metadata": {
    "collapsed": true
   },
   "outputs": [],
   "source": [
    "name = 'roadmap_cell_tissue_exprs_attribute_up_set'"
   ]
  },
  {
   "cell_type": "code",
   "execution_count": 48,
   "metadata": {},
   "outputs": [
    {
     "name": "stdout",
     "output_type": "stream",
     "text": [
      "Progeres: 100%  18375 Out of 18375   \r"
     ]
    }
   ],
   "source": [
    "uf.createUpAttributeSetLib(tertiary_matrix, path, name)"
   ]
  },
  {
   "cell_type": "markdown",
   "metadata": {},
   "source": [
    "# Create Down Attribute Library"
   ]
  },
  {
   "cell_type": "code",
   "execution_count": 49,
   "metadata": {
    "collapsed": true
   },
   "outputs": [],
   "source": [
    "name = 'roadmap_cell_tissue_exprs_attribute_down_set'"
   ]
  },
  {
   "cell_type": "code",
   "execution_count": 50,
   "metadata": {},
   "outputs": [
    {
     "name": "stdout",
     "output_type": "stream",
     "text": [
      "Progeres: 100%  18375 Out of 18375   \r"
     ]
    }
   ],
   "source": [
    "uf.createDownAttributeSetLib(tertiary_matrix, path, name)"
   ]
  },
  {
   "cell_type": "markdown",
   "metadata": {},
   "source": [
    "# Create Gene Similarity Matrix"
   ]
  },
  {
   "cell_type": "code",
   "execution_count": 51,
   "metadata": {
    "collapsed": true
   },
   "outputs": [],
   "source": [
    "gene_similarity_matix = uf.createSimilarityMatrix(normalized_matrix, 'cosine')"
   ]
  },
  {
   "cell_type": "code",
   "execution_count": 52,
   "metadata": {},
   "outputs": [
    {
     "data": {
      "text/html": [
       "<div>\n",
       "<style scoped>\n",
       "    .dataframe tbody tr th:only-of-type {\n",
       "        vertical-align: middle;\n",
       "    }\n",
       "\n",
       "    .dataframe tbody tr th {\n",
       "        vertical-align: top;\n",
       "    }\n",
       "\n",
       "    .dataframe thead th {\n",
       "        text-align: right;\n",
       "    }\n",
       "</style>\n",
       "<table border=\"1\" class=\"dataframe\">\n",
       "  <thead>\n",
       "    <tr style=\"text-align: right;\">\n",
       "      <th>index</th>\n",
       "      <th>A1BG</th>\n",
       "      <th>A1CF</th>\n",
       "      <th>A2M</th>\n",
       "      <th>A2ML1</th>\n",
       "      <th>A4GALT</th>\n",
       "      <th>A4GNT</th>\n",
       "      <th>AAAS</th>\n",
       "      <th>AACS</th>\n",
       "      <th>AADAC</th>\n",
       "      <th>AADACL2</th>\n",
       "      <th>...</th>\n",
       "      <th>ZWILCH</th>\n",
       "      <th>ZWINT</th>\n",
       "      <th>ZXDA</th>\n",
       "      <th>ZXDB</th>\n",
       "      <th>ZXDC</th>\n",
       "      <th>ZYG11A</th>\n",
       "      <th>ZYG11B</th>\n",
       "      <th>ZYX</th>\n",
       "      <th>ZZEF1</th>\n",
       "      <th>ZZZ3</th>\n",
       "    </tr>\n",
       "    <tr>\n",
       "      <th>index</th>\n",
       "      <th></th>\n",
       "      <th></th>\n",
       "      <th></th>\n",
       "      <th></th>\n",
       "      <th></th>\n",
       "      <th></th>\n",
       "      <th></th>\n",
       "      <th></th>\n",
       "      <th></th>\n",
       "      <th></th>\n",
       "      <th></th>\n",
       "      <th></th>\n",
       "      <th></th>\n",
       "      <th></th>\n",
       "      <th></th>\n",
       "      <th></th>\n",
       "      <th></th>\n",
       "      <th></th>\n",
       "      <th></th>\n",
       "      <th></th>\n",
       "      <th></th>\n",
       "    </tr>\n",
       "  </thead>\n",
       "  <tbody>\n",
       "    <tr>\n",
       "      <th>A1BG</th>\n",
       "      <td>1.000000</td>\n",
       "      <td>0.691241</td>\n",
       "      <td>0.125994</td>\n",
       "      <td>-0.048675</td>\n",
       "      <td>-0.068206</td>\n",
       "      <td>0.047948</td>\n",
       "      <td>-0.111441</td>\n",
       "      <td>-0.204221</td>\n",
       "      <td>0.875715</td>\n",
       "      <td>-0.044119</td>\n",
       "      <td>...</td>\n",
       "      <td>-0.112887</td>\n",
       "      <td>-0.128883</td>\n",
       "      <td>-0.086341</td>\n",
       "      <td>-0.034003</td>\n",
       "      <td>-0.025490</td>\n",
       "      <td>-0.037946</td>\n",
       "      <td>0.009488</td>\n",
       "      <td>-0.074179</td>\n",
       "      <td>-0.129952</td>\n",
       "      <td>-0.088853</td>\n",
       "    </tr>\n",
       "    <tr>\n",
       "      <th>A1CF</th>\n",
       "      <td>0.691241</td>\n",
       "      <td>1.000000</td>\n",
       "      <td>0.540097</td>\n",
       "      <td>-0.086075</td>\n",
       "      <td>-0.115326</td>\n",
       "      <td>0.129561</td>\n",
       "      <td>-0.172694</td>\n",
       "      <td>-0.181805</td>\n",
       "      <td>0.789591</td>\n",
       "      <td>-0.048863</td>\n",
       "      <td>...</td>\n",
       "      <td>-0.195371</td>\n",
       "      <td>-0.160760</td>\n",
       "      <td>-0.152881</td>\n",
       "      <td>-0.064731</td>\n",
       "      <td>0.006462</td>\n",
       "      <td>-0.108506</td>\n",
       "      <td>-0.098075</td>\n",
       "      <td>-0.203065</td>\n",
       "      <td>-0.008821</td>\n",
       "      <td>-0.043356</td>\n",
       "    </tr>\n",
       "    <tr>\n",
       "      <th>A2M</th>\n",
       "      <td>0.125994</td>\n",
       "      <td>0.540097</td>\n",
       "      <td>1.000000</td>\n",
       "      <td>-0.003579</td>\n",
       "      <td>-0.000341</td>\n",
       "      <td>-0.057068</td>\n",
       "      <td>0.016745</td>\n",
       "      <td>0.066560</td>\n",
       "      <td>0.035922</td>\n",
       "      <td>0.011503</td>\n",
       "      <td>...</td>\n",
       "      <td>-0.124086</td>\n",
       "      <td>-0.089054</td>\n",
       "      <td>-0.098924</td>\n",
       "      <td>-0.016534</td>\n",
       "      <td>0.002837</td>\n",
       "      <td>-0.084878</td>\n",
       "      <td>-0.062511</td>\n",
       "      <td>-0.123158</td>\n",
       "      <td>-0.118979</td>\n",
       "      <td>-0.115795</td>\n",
       "    </tr>\n",
       "    <tr>\n",
       "      <th>A2ML1</th>\n",
       "      <td>-0.048675</td>\n",
       "      <td>-0.086075</td>\n",
       "      <td>-0.003579</td>\n",
       "      <td>1.000000</td>\n",
       "      <td>0.116325</td>\n",
       "      <td>-0.004005</td>\n",
       "      <td>-0.090414</td>\n",
       "      <td>0.099451</td>\n",
       "      <td>-0.064350</td>\n",
       "      <td>0.298194</td>\n",
       "      <td>...</td>\n",
       "      <td>-0.083903</td>\n",
       "      <td>-0.136064</td>\n",
       "      <td>-0.079984</td>\n",
       "      <td>-0.046131</td>\n",
       "      <td>-0.061148</td>\n",
       "      <td>-0.049803</td>\n",
       "      <td>-0.085121</td>\n",
       "      <td>0.006165</td>\n",
       "      <td>-0.076976</td>\n",
       "      <td>-0.066183</td>\n",
       "    </tr>\n",
       "    <tr>\n",
       "      <th>A4GALT</th>\n",
       "      <td>-0.068206</td>\n",
       "      <td>-0.115326</td>\n",
       "      <td>-0.000341</td>\n",
       "      <td>0.116325</td>\n",
       "      <td>1.000000</td>\n",
       "      <td>-0.045116</td>\n",
       "      <td>-0.129729</td>\n",
       "      <td>-0.171552</td>\n",
       "      <td>-0.079150</td>\n",
       "      <td>0.000999</td>\n",
       "      <td>...</td>\n",
       "      <td>-0.222939</td>\n",
       "      <td>-0.252200</td>\n",
       "      <td>-0.225277</td>\n",
       "      <td>-0.150381</td>\n",
       "      <td>-0.201541</td>\n",
       "      <td>-0.130433</td>\n",
       "      <td>0.178767</td>\n",
       "      <td>-0.078619</td>\n",
       "      <td>-0.083887</td>\n",
       "      <td>-0.388136</td>\n",
       "    </tr>\n",
       "  </tbody>\n",
       "</table>\n",
       "<p>5 rows × 18375 columns</p>\n",
       "</div>"
      ],
      "text/plain": [
       "index       A1BG      A1CF       A2M     A2ML1    A4GALT     A4GNT      AAAS  \\\n",
       "index                                                                          \n",
       "A1BG    1.000000  0.691241  0.125994 -0.048675 -0.068206  0.047948 -0.111441   \n",
       "A1CF    0.691241  1.000000  0.540097 -0.086075 -0.115326  0.129561 -0.172694   \n",
       "A2M     0.125994  0.540097  1.000000 -0.003579 -0.000341 -0.057068  0.016745   \n",
       "A2ML1  -0.048675 -0.086075 -0.003579  1.000000  0.116325 -0.004005 -0.090414   \n",
       "A4GALT -0.068206 -0.115326 -0.000341  0.116325  1.000000 -0.045116 -0.129729   \n",
       "\n",
       "index       AACS     AADAC   AADACL2    ...       ZWILCH     ZWINT      ZXDA  \\\n",
       "index                                   ...                                    \n",
       "A1BG   -0.204221  0.875715 -0.044119    ...    -0.112887 -0.128883 -0.086341   \n",
       "A1CF   -0.181805  0.789591 -0.048863    ...    -0.195371 -0.160760 -0.152881   \n",
       "A2M     0.066560  0.035922  0.011503    ...    -0.124086 -0.089054 -0.098924   \n",
       "A2ML1   0.099451 -0.064350  0.298194    ...    -0.083903 -0.136064 -0.079984   \n",
       "A4GALT -0.171552 -0.079150  0.000999    ...    -0.222939 -0.252200 -0.225277   \n",
       "\n",
       "index       ZXDB      ZXDC    ZYG11A    ZYG11B       ZYX     ZZEF1      ZZZ3  \n",
       "index                                                                         \n",
       "A1BG   -0.034003 -0.025490 -0.037946  0.009488 -0.074179 -0.129952 -0.088853  \n",
       "A1CF   -0.064731  0.006462 -0.108506 -0.098075 -0.203065 -0.008821 -0.043356  \n",
       "A2M    -0.016534  0.002837 -0.084878 -0.062511 -0.123158 -0.118979 -0.115795  \n",
       "A2ML1  -0.046131 -0.061148 -0.049803 -0.085121  0.006165 -0.076976 -0.066183  \n",
       "A4GALT -0.150381 -0.201541 -0.130433  0.178767 -0.078619 -0.083887 -0.388136  \n",
       "\n",
       "[5 rows x 18375 columns]"
      ]
     },
     "execution_count": 52,
     "metadata": {},
     "output_type": "execute_result"
    }
   ],
   "source": [
    "gene_similarity_matix.head()"
   ]
  },
  {
   "cell_type": "markdown",
   "metadata": {},
   "source": [
    "# Save Gene Similarity Matrix"
   ]
  },
  {
   "cell_type": "code",
   "execution_count": 53,
   "metadata": {
    "collapsed": true
   },
   "outputs": [],
   "source": [
    "filename = 'Output/roadmap_cell_tissue_exprs_gene_similarity_matix_%s.tsv.zip'% str(datetime.date.today())[0:7].replace('-', '_')\n",
    "gene_similarity_matix.to_csv(filename, sep='\\t', compression='gzip')"
   ]
  },
  {
   "cell_type": "markdown",
   "metadata": {},
   "source": [
    "# Create Attribute Similarity matrix"
   ]
  },
  {
   "cell_type": "code",
   "execution_count": 54,
   "metadata": {
    "collapsed": true
   },
   "outputs": [],
   "source": [
    "attribute_similarity_matix = uf.createSimilarityMatrix(normalized_matrix.T, 'cosine')"
   ]
  },
  {
   "cell_type": "code",
   "execution_count": 55,
   "metadata": {},
   "outputs": [
    {
     "data": {
      "text/html": [
       "<div>\n",
       "<style scoped>\n",
       "    .dataframe tbody tr th:only-of-type {\n",
       "        vertical-align: middle;\n",
       "    }\n",
       "\n",
       "    .dataframe tbody tr th {\n",
       "        vertical-align: top;\n",
       "    }\n",
       "\n",
       "    .dataframe thead th {\n",
       "        text-align: right;\n",
       "    }\n",
       "</style>\n",
       "<table border=\"1\" class=\"dataframe\">\n",
       "  <thead>\n",
       "    <tr style=\"text-align: right;\">\n",
       "      <th></th>\n",
       "      <th>Universal_Human_Reference</th>\n",
       "      <th>H1_Cell_Line</th>\n",
       "      <th>H1_BMP4_Derived_Mesendoderm_Cultured_Cells</th>\n",
       "      <th>H1_BMP4_Derived_Trophoblast_Cultured_Cells</th>\n",
       "      <th>H1_Derived_Mesenchymal_Stem_Cells</th>\n",
       "      <th>H1_Derived_Neuronal_Progenitor_Cultured_Cells</th>\n",
       "      <th>hESC_Derived_CD184+_Endoderm_Cultured_Cells</th>\n",
       "      <th>hESC_Derived_CD56+_Ectoderm_Cultured_Cells</th>\n",
       "      <th>hESC_Derived_CD56+_Mesoderm_Cultured_Cells</th>\n",
       "      <th>HUES64_Cell_Line</th>\n",
       "      <th>...</th>\n",
       "      <th>A549</th>\n",
       "      <th>GM12878</th>\n",
       "      <th>HELA</th>\n",
       "      <th>HEPG2</th>\n",
       "      <th>HMEC</th>\n",
       "      <th>HSMM</th>\n",
       "      <th>HUVEC</th>\n",
       "      <th>K562</th>\n",
       "      <th>NHEK</th>\n",
       "      <th>NHLF</th>\n",
       "    </tr>\n",
       "  </thead>\n",
       "  <tbody>\n",
       "    <tr>\n",
       "      <th>Universal_Human_Reference</th>\n",
       "      <td>1.000000</td>\n",
       "      <td>0.176817</td>\n",
       "      <td>0.157081</td>\n",
       "      <td>0.058331</td>\n",
       "      <td>-0.004466</td>\n",
       "      <td>0.089340</td>\n",
       "      <td>0.170116</td>\n",
       "      <td>0.089462</td>\n",
       "      <td>0.160063</td>\n",
       "      <td>0.211038</td>\n",
       "      <td>...</td>\n",
       "      <td>0.032699</td>\n",
       "      <td>-0.070509</td>\n",
       "      <td>0.048443</td>\n",
       "      <td>0.052032</td>\n",
       "      <td>0.023326</td>\n",
       "      <td>-0.045787</td>\n",
       "      <td>-0.046472</td>\n",
       "      <td>0.106502</td>\n",
       "      <td>-0.104257</td>\n",
       "      <td>-0.064457</td>\n",
       "    </tr>\n",
       "    <tr>\n",
       "      <th>H1_Cell_Line</th>\n",
       "      <td>0.176817</td>\n",
       "      <td>1.000000</td>\n",
       "      <td>0.652925</td>\n",
       "      <td>0.160686</td>\n",
       "      <td>0.039984</td>\n",
       "      <td>0.372756</td>\n",
       "      <td>0.269771</td>\n",
       "      <td>0.313231</td>\n",
       "      <td>0.181871</td>\n",
       "      <td>0.565842</td>\n",
       "      <td>...</td>\n",
       "      <td>0.035841</td>\n",
       "      <td>-0.006550</td>\n",
       "      <td>0.022964</td>\n",
       "      <td>-0.034466</td>\n",
       "      <td>-0.028115</td>\n",
       "      <td>-0.070525</td>\n",
       "      <td>-0.107187</td>\n",
       "      <td>0.050012</td>\n",
       "      <td>-0.057837</td>\n",
       "      <td>-0.077274</td>\n",
       "    </tr>\n",
       "    <tr>\n",
       "      <th>H1_BMP4_Derived_Mesendoderm_Cultured_Cells</th>\n",
       "      <td>0.157081</td>\n",
       "      <td>0.652925</td>\n",
       "      <td>1.000000</td>\n",
       "      <td>0.159328</td>\n",
       "      <td>-0.001405</td>\n",
       "      <td>0.355112</td>\n",
       "      <td>0.298468</td>\n",
       "      <td>0.319936</td>\n",
       "      <td>0.162440</td>\n",
       "      <td>0.621330</td>\n",
       "      <td>...</td>\n",
       "      <td>0.109350</td>\n",
       "      <td>0.074946</td>\n",
       "      <td>0.118134</td>\n",
       "      <td>-0.078856</td>\n",
       "      <td>-0.007596</td>\n",
       "      <td>-0.012206</td>\n",
       "      <td>-0.159887</td>\n",
       "      <td>0.110149</td>\n",
       "      <td>-0.010004</td>\n",
       "      <td>-0.031689</td>\n",
       "    </tr>\n",
       "    <tr>\n",
       "      <th>H1_BMP4_Derived_Trophoblast_Cultured_Cells</th>\n",
       "      <td>0.058331</td>\n",
       "      <td>0.160686</td>\n",
       "      <td>0.159328</td>\n",
       "      <td>1.000000</td>\n",
       "      <td>0.179558</td>\n",
       "      <td>0.112058</td>\n",
       "      <td>0.137281</td>\n",
       "      <td>0.077146</td>\n",
       "      <td>0.275479</td>\n",
       "      <td>0.091925</td>\n",
       "      <td>...</td>\n",
       "      <td>-0.006730</td>\n",
       "      <td>-0.066133</td>\n",
       "      <td>-0.048380</td>\n",
       "      <td>-0.034563</td>\n",
       "      <td>0.004861</td>\n",
       "      <td>0.047519</td>\n",
       "      <td>-0.047224</td>\n",
       "      <td>-0.070104</td>\n",
       "      <td>0.028346</td>\n",
       "      <td>0.040142</td>\n",
       "    </tr>\n",
       "    <tr>\n",
       "      <th>H1_Derived_Mesenchymal_Stem_Cells</th>\n",
       "      <td>-0.004466</td>\n",
       "      <td>0.039984</td>\n",
       "      <td>-0.001405</td>\n",
       "      <td>0.179558</td>\n",
       "      <td>1.000000</td>\n",
       "      <td>0.027257</td>\n",
       "      <td>0.009819</td>\n",
       "      <td>-0.062578</td>\n",
       "      <td>0.279893</td>\n",
       "      <td>-0.071104</td>\n",
       "      <td>...</td>\n",
       "      <td>0.041281</td>\n",
       "      <td>-0.088884</td>\n",
       "      <td>-0.063631</td>\n",
       "      <td>-0.060294</td>\n",
       "      <td>0.005184</td>\n",
       "      <td>0.211069</td>\n",
       "      <td>0.056470</td>\n",
       "      <td>-0.120232</td>\n",
       "      <td>0.051175</td>\n",
       "      <td>0.389305</td>\n",
       "    </tr>\n",
       "  </tbody>\n",
       "</table>\n",
       "<p>5 rows × 57 columns</p>\n",
       "</div>"
      ],
      "text/plain": [
       "                                            Universal_Human_Reference  \\\n",
       "Universal_Human_Reference                                    1.000000   \n",
       "H1_Cell_Line                                                 0.176817   \n",
       "H1_BMP4_Derived_Mesendoderm_Cultured_Cells                   0.157081   \n",
       "H1_BMP4_Derived_Trophoblast_Cultured_Cells                   0.058331   \n",
       "H1_Derived_Mesenchymal_Stem_Cells                           -0.004466   \n",
       "\n",
       "                                            H1_Cell_Line  \\\n",
       "Universal_Human_Reference                       0.176817   \n",
       "H1_Cell_Line                                    1.000000   \n",
       "H1_BMP4_Derived_Mesendoderm_Cultured_Cells      0.652925   \n",
       "H1_BMP4_Derived_Trophoblast_Cultured_Cells      0.160686   \n",
       "H1_Derived_Mesenchymal_Stem_Cells               0.039984   \n",
       "\n",
       "                                            H1_BMP4_Derived_Mesendoderm_Cultured_Cells  \\\n",
       "Universal_Human_Reference                                                     0.157081   \n",
       "H1_Cell_Line                                                                  0.652925   \n",
       "H1_BMP4_Derived_Mesendoderm_Cultured_Cells                                    1.000000   \n",
       "H1_BMP4_Derived_Trophoblast_Cultured_Cells                                    0.159328   \n",
       "H1_Derived_Mesenchymal_Stem_Cells                                            -0.001405   \n",
       "\n",
       "                                            H1_BMP4_Derived_Trophoblast_Cultured_Cells  \\\n",
       "Universal_Human_Reference                                                     0.058331   \n",
       "H1_Cell_Line                                                                  0.160686   \n",
       "H1_BMP4_Derived_Mesendoderm_Cultured_Cells                                    0.159328   \n",
       "H1_BMP4_Derived_Trophoblast_Cultured_Cells                                    1.000000   \n",
       "H1_Derived_Mesenchymal_Stem_Cells                                             0.179558   \n",
       "\n",
       "                                            H1_Derived_Mesenchymal_Stem_Cells  \\\n",
       "Universal_Human_Reference                                           -0.004466   \n",
       "H1_Cell_Line                                                         0.039984   \n",
       "H1_BMP4_Derived_Mesendoderm_Cultured_Cells                          -0.001405   \n",
       "H1_BMP4_Derived_Trophoblast_Cultured_Cells                           0.179558   \n",
       "H1_Derived_Mesenchymal_Stem_Cells                                    1.000000   \n",
       "\n",
       "                                            H1_Derived_Neuronal_Progenitor_Cultured_Cells  \\\n",
       "Universal_Human_Reference                                                        0.089340   \n",
       "H1_Cell_Line                                                                     0.372756   \n",
       "H1_BMP4_Derived_Mesendoderm_Cultured_Cells                                       0.355112   \n",
       "H1_BMP4_Derived_Trophoblast_Cultured_Cells                                       0.112058   \n",
       "H1_Derived_Mesenchymal_Stem_Cells                                                0.027257   \n",
       "\n",
       "                                            hESC_Derived_CD184+_Endoderm_Cultured_Cells  \\\n",
       "Universal_Human_Reference                                                      0.170116   \n",
       "H1_Cell_Line                                                                   0.269771   \n",
       "H1_BMP4_Derived_Mesendoderm_Cultured_Cells                                     0.298468   \n",
       "H1_BMP4_Derived_Trophoblast_Cultured_Cells                                     0.137281   \n",
       "H1_Derived_Mesenchymal_Stem_Cells                                              0.009819   \n",
       "\n",
       "                                            hESC_Derived_CD56+_Ectoderm_Cultured_Cells  \\\n",
       "Universal_Human_Reference                                                     0.089462   \n",
       "H1_Cell_Line                                                                  0.313231   \n",
       "H1_BMP4_Derived_Mesendoderm_Cultured_Cells                                    0.319936   \n",
       "H1_BMP4_Derived_Trophoblast_Cultured_Cells                                    0.077146   \n",
       "H1_Derived_Mesenchymal_Stem_Cells                                            -0.062578   \n",
       "\n",
       "                                            hESC_Derived_CD56+_Mesoderm_Cultured_Cells  \\\n",
       "Universal_Human_Reference                                                     0.160063   \n",
       "H1_Cell_Line                                                                  0.181871   \n",
       "H1_BMP4_Derived_Mesendoderm_Cultured_Cells                                    0.162440   \n",
       "H1_BMP4_Derived_Trophoblast_Cultured_Cells                                    0.275479   \n",
       "H1_Derived_Mesenchymal_Stem_Cells                                             0.279893   \n",
       "\n",
       "                                            HUES64_Cell_Line    ...     \\\n",
       "Universal_Human_Reference                           0.211038    ...      \n",
       "H1_Cell_Line                                        0.565842    ...      \n",
       "H1_BMP4_Derived_Mesendoderm_Cultured_Cells          0.621330    ...      \n",
       "H1_BMP4_Derived_Trophoblast_Cultured_Cells          0.091925    ...      \n",
       "H1_Derived_Mesenchymal_Stem_Cells                  -0.071104    ...      \n",
       "\n",
       "                                                A549   GM12878      HELA  \\\n",
       "Universal_Human_Reference                   0.032699 -0.070509  0.048443   \n",
       "H1_Cell_Line                                0.035841 -0.006550  0.022964   \n",
       "H1_BMP4_Derived_Mesendoderm_Cultured_Cells  0.109350  0.074946  0.118134   \n",
       "H1_BMP4_Derived_Trophoblast_Cultured_Cells -0.006730 -0.066133 -0.048380   \n",
       "H1_Derived_Mesenchymal_Stem_Cells           0.041281 -0.088884 -0.063631   \n",
       "\n",
       "                                               HEPG2      HMEC      HSMM  \\\n",
       "Universal_Human_Reference                   0.052032  0.023326 -0.045787   \n",
       "H1_Cell_Line                               -0.034466 -0.028115 -0.070525   \n",
       "H1_BMP4_Derived_Mesendoderm_Cultured_Cells -0.078856 -0.007596 -0.012206   \n",
       "H1_BMP4_Derived_Trophoblast_Cultured_Cells -0.034563  0.004861  0.047519   \n",
       "H1_Derived_Mesenchymal_Stem_Cells          -0.060294  0.005184  0.211069   \n",
       "\n",
       "                                               HUVEC      K562      NHEK  \\\n",
       "Universal_Human_Reference                  -0.046472  0.106502 -0.104257   \n",
       "H1_Cell_Line                               -0.107187  0.050012 -0.057837   \n",
       "H1_BMP4_Derived_Mesendoderm_Cultured_Cells -0.159887  0.110149 -0.010004   \n",
       "H1_BMP4_Derived_Trophoblast_Cultured_Cells -0.047224 -0.070104  0.028346   \n",
       "H1_Derived_Mesenchymal_Stem_Cells           0.056470 -0.120232  0.051175   \n",
       "\n",
       "                                                NHLF  \n",
       "Universal_Human_Reference                  -0.064457  \n",
       "H1_Cell_Line                               -0.077274  \n",
       "H1_BMP4_Derived_Mesendoderm_Cultured_Cells -0.031689  \n",
       "H1_BMP4_Derived_Trophoblast_Cultured_Cells  0.040142  \n",
       "H1_Derived_Mesenchymal_Stem_Cells           0.389305  \n",
       "\n",
       "[5 rows x 57 columns]"
      ]
     },
     "execution_count": 55,
     "metadata": {},
     "output_type": "execute_result"
    }
   ],
   "source": [
    "attribute_similarity_matix.head()"
   ]
  },
  {
   "cell_type": "markdown",
   "metadata": {},
   "source": [
    "# Save Attribute Similarity Matrix"
   ]
  },
  {
   "cell_type": "code",
   "execution_count": 56,
   "metadata": {
    "collapsed": true
   },
   "outputs": [],
   "source": [
    "filename = 'Output/roadmap_cell_tissue_exprs_attribute_similarity_matix_%s.tsv.zip'% str(datetime.date.today())[0:7].replace('-', '_')\n",
    "attribute_similarity_matix.to_csv(filename, sep='\\t', compression='gzip')"
   ]
  },
  {
   "cell_type": "markdown",
   "metadata": {},
   "source": [
    "# Create Gene List"
   ]
  },
  {
   "cell_type": "code",
   "execution_count": 57,
   "metadata": {},
   "outputs": [
    {
     "name": "stdout",
     "output_type": "stream",
     "text": [
      "Progeres: 100%  18375 Out of 18375   \r"
     ]
    }
   ],
   "source": [
    "gene_list = uf.createGeneList(normalized_matrix)"
   ]
  },
  {
   "cell_type": "code",
   "execution_count": 58,
   "metadata": {},
   "outputs": [
    {
     "data": {
      "text/html": [
       "<div>\n",
       "<style scoped>\n",
       "    .dataframe tbody tr th:only-of-type {\n",
       "        vertical-align: middle;\n",
       "    }\n",
       "\n",
       "    .dataframe tbody tr th {\n",
       "        vertical-align: top;\n",
       "    }\n",
       "\n",
       "    .dataframe thead th {\n",
       "        text-align: right;\n",
       "    }\n",
       "</style>\n",
       "<table border=\"1\" class=\"dataframe\">\n",
       "  <thead>\n",
       "    <tr style=\"text-align: right;\">\n",
       "      <th></th>\n",
       "      <th>GeneSym</th>\n",
       "      <th>GeneID</th>\n",
       "    </tr>\n",
       "  </thead>\n",
       "  <tbody>\n",
       "    <tr>\n",
       "      <th>0</th>\n",
       "      <td>A1BG</td>\n",
       "      <td>1</td>\n",
       "    </tr>\n",
       "    <tr>\n",
       "      <th>1</th>\n",
       "      <td>A1CF</td>\n",
       "      <td>29974</td>\n",
       "    </tr>\n",
       "    <tr>\n",
       "      <th>2</th>\n",
       "      <td>A2M</td>\n",
       "      <td>2</td>\n",
       "    </tr>\n",
       "    <tr>\n",
       "      <th>3</th>\n",
       "      <td>A2ML1</td>\n",
       "      <td>144568</td>\n",
       "    </tr>\n",
       "    <tr>\n",
       "      <th>4</th>\n",
       "      <td>A4GALT</td>\n",
       "      <td>53947</td>\n",
       "    </tr>\n",
       "  </tbody>\n",
       "</table>\n",
       "</div>"
      ],
      "text/plain": [
       "  GeneSym  GeneID\n",
       "0    A1BG       1\n",
       "1    A1CF   29974\n",
       "2     A2M       2\n",
       "3   A2ML1  144568\n",
       "4  A4GALT   53947"
      ]
     },
     "execution_count": 58,
     "metadata": {},
     "output_type": "execute_result"
    }
   ],
   "source": [
    "gene_list.head()"
   ]
  },
  {
   "cell_type": "code",
   "execution_count": 59,
   "metadata": {},
   "outputs": [
    {
     "data": {
      "text/plain": [
       "(18375, 2)"
      ]
     },
     "execution_count": 59,
     "metadata": {},
     "output_type": "execute_result"
    }
   ],
   "source": [
    "gene_list.shape"
   ]
  },
  {
   "cell_type": "markdown",
   "metadata": {},
   "source": [
    "# Save Gene List"
   ]
  },
  {
   "cell_type": "code",
   "execution_count": 60,
   "metadata": {
    "collapsed": true
   },
   "outputs": [],
   "source": [
    "filename = 'Output/roadmap_cell_tissue_exprs_gene_list_%s.tsv.zip'% str(datetime.date.today())[0:7].replace('-', '_')\n",
    "gene_list.to_csv(filename, sep='\\t', index=False, compression='gzip')"
   ]
  },
  {
   "cell_type": "markdown",
   "metadata": {},
   "source": [
    "# Create Attribute List"
   ]
  },
  {
   "cell_type": "code",
   "execution_count": 61,
   "metadata": {
    "collapsed": true
   },
   "outputs": [],
   "source": [
    "attribute_list = uf.createAttributeList(normalized_matrix)"
   ]
  },
  {
   "cell_type": "code",
   "execution_count": 62,
   "metadata": {},
   "outputs": [
    {
     "data": {
      "text/html": [
       "<div>\n",
       "<style scoped>\n",
       "    .dataframe tbody tr th:only-of-type {\n",
       "        vertical-align: middle;\n",
       "    }\n",
       "\n",
       "    .dataframe tbody tr th {\n",
       "        vertical-align: top;\n",
       "    }\n",
       "\n",
       "    .dataframe thead th {\n",
       "        text-align: right;\n",
       "    }\n",
       "</style>\n",
       "<table border=\"1\" class=\"dataframe\">\n",
       "  <thead>\n",
       "    <tr style=\"text-align: right;\">\n",
       "      <th></th>\n",
       "      <th>Attributes</th>\n",
       "    </tr>\n",
       "  </thead>\n",
       "  <tbody>\n",
       "    <tr>\n",
       "      <th>0</th>\n",
       "      <td>Universal_Human_Reference</td>\n",
       "    </tr>\n",
       "    <tr>\n",
       "      <th>1</th>\n",
       "      <td>H1_Cell_Line</td>\n",
       "    </tr>\n",
       "    <tr>\n",
       "      <th>2</th>\n",
       "      <td>H1_BMP4_Derived_Mesendoderm_Cultured_Cells</td>\n",
       "    </tr>\n",
       "    <tr>\n",
       "      <th>3</th>\n",
       "      <td>H1_BMP4_Derived_Trophoblast_Cultured_Cells</td>\n",
       "    </tr>\n",
       "    <tr>\n",
       "      <th>4</th>\n",
       "      <td>H1_Derived_Mesenchymal_Stem_Cells</td>\n",
       "    </tr>\n",
       "  </tbody>\n",
       "</table>\n",
       "</div>"
      ],
      "text/plain": [
       "                                   Attributes\n",
       "0                   Universal_Human_Reference\n",
       "1                                H1_Cell_Line\n",
       "2  H1_BMP4_Derived_Mesendoderm_Cultured_Cells\n",
       "3  H1_BMP4_Derived_Trophoblast_Cultured_Cells\n",
       "4           H1_Derived_Mesenchymal_Stem_Cells"
      ]
     },
     "execution_count": 62,
     "metadata": {},
     "output_type": "execute_result"
    }
   ],
   "source": [
    "attribute_list.head()"
   ]
  },
  {
   "cell_type": "code",
   "execution_count": 63,
   "metadata": {},
   "outputs": [
    {
     "data": {
      "text/plain": [
       "(57, 1)"
      ]
     },
     "execution_count": 63,
     "metadata": {},
     "output_type": "execute_result"
    }
   ],
   "source": [
    "attribute_list.shape"
   ]
  },
  {
   "cell_type": "markdown",
   "metadata": {},
   "source": [
    "# Save Attribute List"
   ]
  },
  {
   "cell_type": "code",
   "execution_count": 64,
   "metadata": {
    "collapsed": true
   },
   "outputs": [],
   "source": [
    "filename = 'Output/roadmap_cell_tissue_exprs_attribute_list_%s.tsv.zip'% str(datetime.date.today())[0:7].replace('-', '_')\n",
    "attribute_list.to_csv(filename, sep='\\t', index=False, compression='gzip')"
   ]
  },
  {
   "cell_type": "markdown",
   "metadata": {},
   "source": [
    "# Create Gene-Attribute Edge List"
   ]
  },
  {
   "cell_type": "code",
   "execution_count": 65,
   "metadata": {
    "collapsed": true
   },
   "outputs": [],
   "source": [
    "path = '/Users/moshesilverstein/Documents/Harmonizome/Roadmap Epigenomics/Cell and Tissue Gene Expression Profiles/Output/'"
   ]
  },
  {
   "cell_type": "code",
   "execution_count": 66,
   "metadata": {
    "collapsed": true
   },
   "outputs": [],
   "source": [
    "name = 'roadmap_cell_tissue_exprs_gene_attribute_edge_list'"
   ]
  },
  {
   "cell_type": "code",
   "execution_count": 67,
   "metadata": {},
   "outputs": [
    {
     "name": "stdout",
     "output_type": "stream",
     "text": [
      "Progeres: 100%  57 Out of 57   \n",
      "\n",
      " The number of statisticaly relevent gene-attribute associations is: 209475\n"
     ]
    }
   ],
   "source": [
    "uf.createGeneAttributeEdgeList(tertiary_matrix, gene_list, path, name)"
   ]
  }
 ],
 "metadata": {
  "kernelspec": {
   "display_name": "Python [default]",
   "language": "python",
   "name": "python3"
  },
  "language_info": {
   "codemirror_mode": {
    "name": "ipython",
    "version": 3
   },
   "file_extension": ".py",
   "mimetype": "text/x-python",
   "name": "python",
   "nbconvert_exporter": "python",
   "pygments_lexer": "ipython3",
   "version": "3.5.2"
  }
 },
 "nbformat": 4,
 "nbformat_minor": 2
}
