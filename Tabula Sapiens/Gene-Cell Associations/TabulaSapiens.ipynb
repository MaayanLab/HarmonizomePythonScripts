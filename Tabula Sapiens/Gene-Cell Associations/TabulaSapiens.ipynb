{
 "cells": [
  {
   "cell_type": "markdown",
   "metadata": {},
   "source": [
    "# Tabula Sapiens Gene-Cell Associations\n",
    "\n",
    "[Tabula Sapiens](https://tabula-sapiens-portal.ds.czbiohub.org/) provides human transcriptomics data at a single-cell resolution. The resource is a benchmark, first-draft human cell atlas of nearly 500,000 cells from 24 organs of 15 normal human subjects. Raw download data, in the format of single-cell RNAseq, was processed to aggregate synonymous samples using metadata alignment into pseudo-bulk RNAseq data.\n",
    "\n",
    "The Tabula Sapiens Consortium (2022). \"The Tabula Sapiens: A multiple-organ, single-cell transcriptomic atlas of humans.\" Science 376(6594)."
   ]
  },
  {
   "cell_type": "code",
   "execution_count": null,
   "metadata": {},
   "outputs": [],
   "source": [
    "import pandas as pd\n",
    "import datetime\n",
    "import numpy as np\n",
    "import scipy.spatial.distance as dist\n",
    "import seaborn\n",
    "import sys\n",
    "import json\n",
    "import scanpy as sc\n",
    "\n",
    "from sklearn.feature_extraction.text import TfidfVectorizer\n",
    "import anndata\n",
    "from bokeh.io import output_notebook, export_svg, output_file, save\n",
    "from bokeh.io.export import get_screenshot_as_png\n",
    "from bokeh.plotting import figure, show\n",
    "from bokeh.models import HoverTool, ColumnDataSource\n",
    "from bokeh.palettes import Category20\n",
    "sys.setrecursionlimit(100000)"
   ]
  },
  {
   "cell_type": "code",
   "execution_count": null,
   "metadata": {},
   "outputs": [],
   "source": [
    "output_notebook()"
   ]
  },
  {
   "cell_type": "markdown",
   "metadata": {},
   "source": [
    "## Load Data"
   ]
  },
  {
   "cell_type": "code",
   "execution_count": null,
   "metadata": {},
   "outputs": [],
   "source": [
    "dir = 'newdata/TabulaSapiens/'\n",
    "tabsap = pd.read_pickle(dir+'picklesbydonors/ts_10x_rem-dups_cell-ontology-class_tissue_master-sumsv1')\n",
    "tabsap"
   ]
  },
  {
   "cell_type": "markdown",
   "metadata": {},
   "source": [
    "## Pre-Process Data"
   ]
  },
  {
   "cell_type": "code",
   "execution_count": null,
   "metadata": {},
   "outputs": [],
   "source": [
    "genes = pd.read_csv('tables/gene_info', sep='\\t')\n",
    "genes = genes[genes['type_of_gene']=='protein-coding']\n",
    "genelist = genes['Symbol'].to_list()\n",
    "syngenes = pd.read_csv('production/gene_synonym.csv')['symbol'].to_list()"
   ]
  },
  {
   "cell_type": "code",
   "execution_count": null,
   "metadata": {},
   "outputs": [],
   "source": [
    "droplist = []\n",
    "for gene in pd.unique(tabsap.index.tolist()):\n",
    "    if gene not in genelist or gene in syngenes:\n",
    "        droplist.append(gene)"
   ]
  },
  {
   "cell_type": "code",
   "execution_count": null,
   "metadata": {},
   "outputs": [],
   "source": [
    "tabsap = tabsap.drop(droplist, axis=0)\n",
    "tabsap"
   ]
  },
  {
   "cell_type": "markdown",
   "metadata": {},
   "source": [
    "## Process Data"
   ]
  },
  {
   "cell_type": "code",
   "execution_count": null,
   "metadata": {},
   "outputs": [],
   "source": [
    "edgelist = pd.DataFrame(tabsap.stack(), dtype=int)\n",
    "edgelist = edgelist.sparse.to_dense().groupby(level=[0,1]).median().astype(int).reset_index()\n",
    "edgelist = edgelist[edgelist[0] != 0].reset_index(drop=True)\n",
    "edgelist.columns = ['gene', 'cell', 'count']\n",
    "print(len(edgelist.gene.unique()), ' genes, ', len(edgelist.cell.unique()), ' cell types', sep='')\n",
    "edgelist"
   ]
  },
  {
   "cell_type": "code",
   "execution_count": null,
   "metadata": {},
   "outputs": [],
   "source": [
    "def z(gene):\n",
    "    mean = genemeans[gene['gene']]\n",
    "    std = genedevs[gene['gene']]\n",
    "    if std == 0:\n",
    "        return 0\n",
    "    return (gene['count']-mean)/std"
   ]
  },
  {
   "cell_type": "code",
   "execution_count": null,
   "metadata": {},
   "outputs": [],
   "source": [
    "genestats = edgelist.groupby('gene').describe().replace(np.nan, 0)\n",
    "genemeans = genestats['count']['mean'].to_dict()\n",
    "genedevs = genestats['count']['std'].to_dict()\n",
    "edgelist['z'] = edgelist.apply(z,axis=1)\n",
    "edgelist"
   ]
  },
  {
   "cell_type": "code",
   "execution_count": null,
   "metadata": {},
   "outputs": [],
   "source": [
    "edgelist = edgelist.sort_values(['cell', 'z'], ascending=[True, False])\n",
    "edgelist = edgelist.set_index('cell')\n",
    "top = pd.DataFrame(columns=edgelist.columns)\n",
    "for cell in pd.unique(edgelist.index):\n",
    "    top = pd.concat([top, edgelist.loc[cell][:100]])\n",
    "edgelist = edgelist.reset_index()\n",
    "top"
   ]
  },
  {
   "cell_type": "code",
   "execution_count": null,
   "metadata": {},
   "outputs": [],
   "source": [
    "genesets = {}\n",
    "for cell in top.index.unique():\n",
    "    genesets[cell] = ' '.join(top.loc[cell]['gene'].tolist())"
   ]
  },
  {
   "cell_type": "code",
   "execution_count": null,
   "metadata": {},
   "outputs": [],
   "source": [
    "edgelist = top.reset_index()\n",
    "edgelist.columns = ['cell','gene','count','z']\n",
    "print(edgelist.gene.unique().__len__(), 'genes,',edgelist.cell.unique().__len__(),'cell types')\n",
    "edgelist"
   ]
  },
  {
   "cell_type": "markdown",
   "metadata": {},
   "source": [
    "## Harmonizome Additions"
   ]
  },
  {
   "cell_type": "markdown",
   "metadata": {},
   "source": [
    "### Resource"
   ]
  },
  {
   "cell_type": "code",
   "execution_count": null,
   "metadata": {},
   "outputs": [],
   "source": [
    "(104,\n",
    "'Tabula Sapiens',\n",
    "None,\n",
    "'Tabula Sapiens is a benchmark, first-draft human cell atlas of nearly 500,000 cells from 24 organs of 15 normal human subjects.',\n",
    "'Human transcriptome reference at single cell resolution',\n",
    "'https://tabula-sapiens-portal.ds.czbiohub.org/',\n",
    "'306',\n",
    "'1',\n",
    "None)"
   ]
  },
  {
   "cell_type": "markdown",
   "metadata": {},
   "source": [
    "### Dataset"
   ]
  },
  {
   "cell_type": "code",
   "execution_count": null,
   "metadata": {},
   "outputs": [],
   "source": [
    "#(id, name, name_without_resource, description, association, gene_set_description, gene_sets_description, attribute_set_description, is_signed, is_continuous_valued, last_updated, directory, num_page_views, resource_fk, measurement_fk, dataset_group_fk, attribute_type_fk, attribute_group_fk, evidence_type, evidence_group, measurement_bias, attribute_type_plural)\n",
    "(134,\n",
    "'Tabula Sapiens Gene-Cell Associations',\n",
    "'Gene-Cell Associations',\n",
    "'Gene expression counts for single human cells',\n",
    "'gene-cell type associations by differential expression of gene across cell types ',\n",
    "'genes with high or low expression in {0} relative to other cell types from the Tabula Sapiens Gene-Cell Associations dataset.',\n",
    "'sets of genes with high or low expression in each cell type relative to other tissue samples from the Tabula Sapiens Gene-Cell Associations dataset.',\n",
    "'cell types with high or low expression of {0} gene relative to other cell types from the Tabula Sapiens Gene-Cell Associations dataset.',\n",
    "0,\n",
    "1,\n",
    "'2022-12-1',\n",
    "'tabulasapiens',\n",
    "0,\n",
    "104,\n",
    "16,\n",
    "7,\n",
    "2,\n",
    "1,\n",
    "'gene expression by RNA-seq',\n",
    "'primary experimental data',\n",
    "'measurement_bias',\n",
    "'cell types')"
   ]
  },
  {
   "cell_type": "markdown",
   "metadata": {},
   "source": [
    "### Publication"
   ]
  },
  {
   "cell_type": "code",
   "execution_count": null,
   "metadata": {},
   "outputs": [],
   "source": [
    "#(id, long_citation, short_citation, url, pmid, pubmed_url, first_author_last_name, first_author_initials, journal_abbreviation, year, title, volume, pages)\n",
    "(137, 'Consortium, Tabula Sapiens et al. (2022). \"The Tabula Sapiens: A multiple-organ, single-cell transcriptomic atlas of humans.\" Science 376(6594).', 'Tabula Sapiens, Science, 2022', 'dx.doi.org/10.1126/science.abl4896', 35549404, 'https://pubmed.ncbi.nlm.nih.gov/35549404/', 'Consortium', 'Tabula Sapiens', 'Science', 2022, 'The Tabula Sapiens: A multiple-organ, single-cell transcriptomic atlas of humans', 376, 6594)"
   ]
  },
  {
   "cell_type": "markdown",
   "metadata": {},
   "source": [
    "### Genes To Add"
   ]
  },
  {
   "cell_type": "code",
   "execution_count": null,
   "metadata": {},
   "outputs": [],
   "source": [
    "#(id,symbol,ncbi_entrez_gene_id,name,ncbi_entrez_gene_url)\n",
    "geneinfo = genes.get(['GeneID', 'Symbol', 'description']).set_index('Symbol')\n",
    "url = 'https://ncbi.nlm.nih.gov/gene/'\n",
    "index = 57195\n",
    "newgenes = pd.DataFrame(columns=[0, 1, 2, 3])\n",
    "prodgenes = pd.read_csv('production/gene_updated.csv')['symbol'].to_list()\n",
    "for gene in edgelist['gene'].unique().tolist():\n",
    "    if gene.upper() not in prodgenes:\n",
    "        gene = geneinfo.loc[gene]\n",
    "        newgenes = pd.concat([newgenes,pd.DataFrame((index, gene.name.upper(), gene['GeneID'], gene['description'])).T])\n",
    "        index+=1\n",
    "newgenes.columns = columns=['id', 'symbol', 'ncbi_entrez_gene_id', 'name']\n",
    "newgenes['url'] = newgenes['ncbi_entrez_gene_id'].apply(lambda x: url+str(x))\n",
    "newgenes = newgenes.reset_index(drop=True)\n",
    "\n",
    "for gene in newgenes.index:\n",
    "    gene = newgenes.loc[gene]\n",
    "    print((gene['id'],gene['symbol'],gene['ncbi_entrez_gene_id'],gene['name'],gene['url']), end=',\\n')"
   ]
  },
  {
   "cell_type": "markdown",
   "metadata": {},
   "source": [
    "### Naming Authority"
   ]
  },
  {
   "cell_type": "code",
   "execution_count": null,
   "metadata": {},
   "outputs": [],
   "source": [
    "(100, 'Tabula Sapiens', 'TS', 'The Tabula Sapiens Consortium used single-cell transcriptomics to measure the messenger RNA molecules in each of nearly 500,000 cells from 24 tissues and organs.', 'https://tabula-sapiens-portal.ds.czbiohub.org/', 137)"
   ]
  },
  {
   "cell_type": "markdown",
   "metadata": {},
   "source": [
    "### Attributes To Add"
   ]
  },
  {
   "cell_type": "code",
   "execution_count": null,
   "metadata": {},
   "outputs": [],
   "source": [
    "celltypes = pd.read_csv('tables/CL.csv')\n",
    "celltypes = celltypes[celltypes['Obsolete']==False]\n",
    "celltypes['Class ID'] = celltypes['Class ID'].apply(str.split, sep='/').str[-1]\n",
    "celltypes['Namespace'] = celltypes['Class ID'].apply(str.split, sep='_').str[0]\n",
    "celltypes = celltypes[celltypes['Namespace']=='CL']\n",
    "celltypes = celltypes.get(['Class ID','Preferred Label','Synonyms']).reset_index(drop=True)\n",
    "celltypes = celltypes.set_index('Preferred Label')['Class ID'].to_dict()\n",
    "\n",
    "manualannotation = pd.read_csv('newdata/TabulaSapiens/tabsapannotation.csv', index_col='Unnamed: 0')\n",
    "manualannotation = manualannotation[manualannotation['CLID']!='0']\n",
    "manualannotation = manualannotation.set_index('Cell Type')['CLID'].to_dict()\n",
    "manualannotation\n",
    "\n",
    "celltypes.update(manualannotation)"
   ]
  },
  {
   "cell_type": "code",
   "execution_count": null,
   "metadata": {},
   "outputs": [],
   "source": [
    "attributes = pd.DataFrame(edgelist['cell'].unique())\n",
    "attributes['tissue'] = attributes[0].apply(str.split, sep='-').str[0]\n",
    "attributes['cell'] = attributes[0].apply(str.split, sep='-').str[1]#:].apply('-'.join)\n",
    "attributes['map'] = attributes['cell'].apply(lambda x: x in celltypes)\n",
    "attributes['id'] = 'unmapped'\n",
    "for attribute in attributes.index:\n",
    "    if attributes.loc[attribute, 'map']:\n",
    "        attributes.loc[attribute, 'id'] = celltypes[attributes.loc[attribute,'cell']]\n",
    "attributes.index += 297886\n",
    "attributes = attributes.reset_index()\n",
    "attributes.index += 133300000\n",
    "attributes = attributes.reset_index()\n",
    "attributes.columns = ['gene_set_id', 'attribute_id', 'name', 'tissue', 'cell', 'map', 'id']\n",
    "attributes"
   ]
  },
  {
   "cell_type": "code",
   "execution_count": null,
   "metadata": {},
   "outputs": [],
   "source": [
    "for attribute in attributes.index:\n",
    "    attribute = attributes.loc[attribute]\n",
    "    #print((attribute['attribute_id'], attribute['name'], '-'.join(attribute['name'].split(sep='-')[1:])+' from '+' '.join(attribute['tissue'].split(sep='_')).lower()+' associated with '+attribute['id'], 100), end=',\\n')"
   ]
  },
  {
   "cell_type": "markdown",
   "metadata": {},
   "source": [
    "### Gene Sets to Add"
   ]
  },
  {
   "cell_type": "code",
   "execution_count": null,
   "metadata": {},
   "outputs": [],
   "source": [
    "for attribute in attributes.index:\n",
    "    attribute = attributes.loc[attribute]\n",
    "    #print((attribute['gene_set_id'], attribute['name'], '-'.join(attribute['name'].split(sep='-')[1:])+' from '+' '.join(attribute['tissue'].split(sep='_')).lower()+' associated with '+attribute['id'], 134, 2, attribute['attribute_id']), end=',\\n')"
   ]
  },
  {
   "cell_type": "markdown",
   "metadata": {},
   "source": [
    "### Associations to Add"
   ]
  },
  {
   "cell_type": "code",
   "execution_count": null,
   "metadata": {},
   "outputs": [],
   "source": [
    "genedict = pd.read_csv('production/gene_updated.csv').set_index('symbol').get(['id', 'ncbi_entrez_gene_id']).to_dict()\n",
    "newgenes = newgenes.set_index('symbol').get(['id', 'ncbi_entrez_gene_id']).to_dict()\n",
    "for dictionary in genedict:\n",
    "    genedict[dictionary].update(newgenes[dictionary])\n",
    "genesetdict = attributes.set_index('name')['gene_set_id'].to_dict()"
   ]
  },
  {
   "cell_type": "code",
   "execution_count": null,
   "metadata": {},
   "outputs": [],
   "source": [
    "edgelist['gene_fk'] = edgelist['gene'].apply(str.upper).apply(lambda x: genedict['id'][x])\n",
    "edgelist['gene_id'] = edgelist['gene'].apply(str.upper).apply(lambda x: genedict['ncbi_entrez_gene_id'][x])\n",
    "edgelist['gene_set_fk'] = edgelist['cell'].apply(lambda x: genesetdict[x])\n",
    "edgelist"
   ]
  },
  {
   "cell_type": "code",
   "execution_count": null,
   "metadata": {},
   "outputs": [],
   "source": [
    "associations = edgelist.get(['gene_fk', 'gene_set_fk', 'count', 'z'])\n",
    "associations['threshold'] = 1\n",
    "associations.index += 13000000\n",
    "associations.to_csv('harmonizome-update/tabulasapiens.csv')\n",
    "associations"
   ]
  },
  {
   "cell_type": "markdown",
   "metadata": {},
   "source": [
    "## Download Files"
   ]
  },
  {
   "cell_type": "code",
   "execution_count": null,
   "metadata": {},
   "outputs": [],
   "source": [
    "output_path = 'newdata/TabulaSapiens/downloads/'"
   ]
  },
  {
   "cell_type": "markdown",
   "metadata": {},
   "source": [
    "### Gene-Attribute Matrix"
   ]
  },
  {
   "cell_type": "code",
   "execution_count": null,
   "metadata": {},
   "outputs": [],
   "source": [
    "binarymatrix = pd.crosstab(edgelist['gene'], edgelist['cell'], 1, aggfunc=max).replace(np.nan, 0).astype(int)\n",
    "binarymatrixT = binarymatrix.T\n",
    "binarymatrix.to_csv(output_path+'gene_attribute_matrix.txt.gz', sep='\\t', compression='gzip')\n",
    "binarymatrix"
   ]
  },
  {
   "cell_type": "markdown",
   "metadata": {},
   "source": [
    "### Gene-Attribute Edge List"
   ]
  },
  {
   "cell_type": "code",
   "execution_count": null,
   "metadata": {},
   "outputs": [],
   "source": [
    "attributesdict = attributes.set_index('name')['id'].to_dict()"
   ]
  },
  {
   "cell_type": "code",
   "execution_count": null,
   "metadata": {},
   "outputs": [],
   "source": [
    "edgelist['cell_id'] = edgelist['cell'].apply(lambda x: attributesdict[x])\n",
    "edgelist['threshold']=1\n",
    "edgelist = edgelist.get(['gene', 'gene_id', 'cell', 'cell_id', 'count', 'z', 'threshold'])\n",
    "edgelist.to_csv(output_path+'gene_attribute_edges.txt.gz', sep='\\t', compression='gzip')\n",
    "edgelist"
   ]
  },
  {
   "cell_type": "markdown",
   "metadata": {},
   "source": [
    "### Gene List"
   ]
  },
  {
   "cell_type": "code",
   "execution_count": null,
   "metadata": {},
   "outputs": [],
   "source": [
    "genelist = edgelist.get(['gene', 'gene_id']).drop_duplicates().reset_index(drop=True)\n",
    "genelist.to_csv(output_path+'gene_list_terms.txt.gz', sep='\\t', compression='gzip')\n",
    "genelist"
   ]
  },
  {
   "cell_type": "markdown",
   "metadata": {},
   "source": [
    "### Attribute List"
   ]
  },
  {
   "cell_type": "code",
   "execution_count": null,
   "metadata": {},
   "outputs": [],
   "source": [
    "attributelist = edgelist.get(['cell', 'cell_id']).drop_duplicates().reset_index(drop=True)\n",
    "attributelist.to_csv(output_path+'attribute_list_entries.txt.gz', sep='\\t', compression='gzip')\n",
    "attributelist"
   ]
  },
  {
   "cell_type": "markdown",
   "metadata": {},
   "source": [
    "### Gene Set Library"
   ]
  },
  {
   "cell_type": "code",
   "execution_count": null,
   "metadata": {},
   "outputs": [],
   "source": [
    "arr = binarymatrix.reset_index(drop=True).to_numpy(dtype=np.int_)\n",
    "\n",
    "with open(output_path+'gene_set_library_crisp.gmt', 'w') as f:\n",
    "    for i in range(arr.shape[1]):\n",
    "        print(binarymatrix.columns[i],*binarymatrix.index[arr[:,i]==1],\n",
    "            sep='\\t', end='\\n', file=f)"
   ]
  },
  {
   "cell_type": "markdown",
   "metadata": {},
   "source": [
    "### Attribute Set Library"
   ]
  },
  {
   "cell_type": "code",
   "execution_count": null,
   "metadata": {},
   "outputs": [],
   "source": [
    "arr = binarymatrixT.reset_index(drop=True).to_numpy(dtype=np.int_)\n",
    "\n",
    "with open(output_path+'attribute_set_library_up_crisp.gmt', 'w') as f:\n",
    "    for i in range(arr.shape[1]):\n",
    "        print(binarymatrixT.columns[i],*binarymatrixT.index[arr[:,i]==1],\n",
    "            sep='\\t', end='\\n', file=f)"
   ]
  },
  {
   "cell_type": "markdown",
   "metadata": {},
   "source": [
    "### Gene Similarity Matrix"
   ]
  },
  {
   "cell_type": "code",
   "execution_count": null,
   "metadata": {},
   "outputs": [],
   "source": [
    "similarity_matrix = dist.pdist(binarymatrix.to_numpy(dtype=np.int_), 'cosine')\n",
    "similarity_matrix = dist.squareform(similarity_matrix)\n",
    "similarity_matrix = 1 - similarity_matrix\n",
    "\n",
    "gene_similarity_matrix = pd.DataFrame(similarity_matrix, index=binarymatrix.index, columns=binarymatrix.index)\n",
    "gene_similarity_matrix.index.name = None\n",
    "gene_similarity_matrix.columns.name = None\n",
    "\n",
    "gene_similarity_matrix.to_csv(output_path+'genee_similarity_matrix_cosine.txt.gz', sep='\\t', compression='gzip')\n",
    "gene_similarity_matrix"
   ]
  },
  {
   "cell_type": "markdown",
   "metadata": {},
   "source": [
    "### Attribute Similarity Matrix"
   ]
  },
  {
   "cell_type": "code",
   "execution_count": null,
   "metadata": {},
   "outputs": [],
   "source": [
    "similarity_matrix = dist.pdist(binarymatrixT.to_numpy(dtype=np.int_), 'cosine')\n",
    "similarity_matrix = dist.squareform(similarity_matrix)\n",
    "similarity_matrix = 1 - similarity_matrix\n",
    "\n",
    "attribute_similarity_matrix = pd.DataFrame(similarity_matrix, index=binarymatrixT.index, columns=binarymatrixT.index)\n",
    "attribute_similarity_matrix.index.name = None\n",
    "attribute_similarity_matrix.columns.name = None\n",
    "\n",
    "attribute_similarity_matrix.to_csv(output_path+'attribute_similarity_matrix_cosine.txt.gz', sep='\\t', compression='gzip')\n",
    "attribute_similarity_matrix"
   ]
  },
  {
   "cell_type": "markdown",
   "metadata": {},
   "source": [
    "### Gene-Attribute Cleaned Matrix"
   ]
  },
  {
   "cell_type": "code",
   "execution_count": null,
   "metadata": {},
   "outputs": [],
   "source": [
    "cleanbinarymatrix = pd.crosstab(edgelist['gene'], edgelist['cell'], edgelist['count'], aggfunc=max).replace(np.nan, 0).astype(int)\n",
    "cleanbinarymatrix.to_csv(output_path+'gene_attribute_matrix_cleaned.txt.gz', sep='\\t', compression='gzip')\n",
    "cleanbinarymatrix"
   ]
  },
  {
   "cell_type": "markdown",
   "metadata": {},
   "source": [
    "### Gene-Attribute Standardized Matrix"
   ]
  },
  {
   "cell_type": "code",
   "execution_count": null,
   "metadata": {},
   "outputs": [],
   "source": [
    "standardbinarymatrix = pd.crosstab(edgelist['gene'], edgelist['cell'], edgelist['z'], aggfunc=max).replace(np.nan, 0)\n",
    "standardbinarymatrix.to_csv(output_path+'gene_attribute_matrix_standardized.txt.gz', sep='\\t', compression='gzip')\n",
    "standardbinarymatrix"
   ]
  },
  {
   "cell_type": "markdown",
   "metadata": {},
   "source": [
    "### Knowledge Graph Serializations"
   ]
  },
  {
   "cell_type": "code",
   "execution_count": null,
   "metadata": {},
   "outputs": [],
   "source": [
    "nodes = {}\n",
    "edges = []\n",
    "\n",
    "for gene in genelist.index:\n",
    "    gene = genelist.loc[gene]\n",
    "    nodes[gene['gene']] = {\n",
    "        \"type\":\"gene\",\n",
    "        \"properties\": {\n",
    "            \"id\":int(gene['gene_id']),\n",
    "            \"label\":gene['gene']\n",
    "        }}\n",
    "\n",
    "for celltype in attributelist.index:\n",
    "    celltype = attributelist.loc[celltype]\n",
    "    nodes[celltype['cell']] = {\n",
    "        \"type\":\"cell\",\n",
    "        \"properties\": {\n",
    "            \"id\":celltype['cell_id'],\n",
    "            \"label\":celltype['cell']\n",
    "        }}\n",
    "\n",
    "for edge in edgelist.index:\n",
    "    edge = edgelist.loc[edge]\n",
    "    edges.append({\n",
    "        \"source\": edge['gene'],\n",
    "        \"relation\": \"expressed in\",\n",
    "        \"target\": edge['cell'],\n",
    "        \"properties\":{\n",
    "            \"id\":edge['gene']+\":\"+edge['cell'],\n",
    "            \"source_id\":int(edge['gene_id']),\n",
    "            \"source_label\":edge['gene'],\n",
    "            \"target_label\":edge['cell'],\n",
    "            \"target_id\":edge['cell_id'],\n",
    "            \"directed\":True,\n",
    "            \"count\":int(edge['count']),\n",
    "            \"z\":edge['z'],\n",
    "            \"threshold\":1\n",
    "        }})"
   ]
  },
  {
   "cell_type": "markdown",
   "metadata": {},
   "source": [
    "RDF"
   ]
  },
  {
   "cell_type": "code",
   "execution_count": null,
   "metadata": {},
   "outputs": [],
   "source": [
    "with open(output_path+'serializations/tabulasapiens.rdf', 'w') as f:\n",
    "    print('@prefix gene: ncbi.nlm.nih.gov/gene/', file=f)\n",
    "    print('@prefix RO: purl.obolibrary.org/RO_', file=f)\n",
    "    print('', file=f)\n",
    "    for edge in edges:\n",
    "        print('gene:'+str(edge['properties']['source_id']), 'RO:0002206', '<'+edge['target']+'>', end=' .\\n', file=f)"
   ]
  },
  {
   "cell_type": "markdown",
   "metadata": {},
   "source": [
    "JSON"
   ]
  },
  {
   "cell_type": "code",
   "execution_count": null,
   "metadata": {},
   "outputs": [],
   "source": [
    "with open(output_path+'serializations/tabulasapiens.json', 'w') as f:\n",
    "    serial = json.dump(\n",
    "        {\n",
    "            \"Version\":\"1\", \n",
    "            \"nodes\": nodes,\n",
    "            \"edges\": edges\n",
    "        }, indent=4, fp=f)"
   ]
  },
  {
   "cell_type": "markdown",
   "metadata": {},
   "source": [
    "TSV"
   ]
  },
  {
   "cell_type": "code",
   "execution_count": null,
   "metadata": {},
   "outputs": [],
   "source": [
    "nodeframe = pd.DataFrame(nodes).T\n",
    "nodeframe['id'] = nodeframe['properties'].apply(lambda x: x['id'])\n",
    "nodeframe['label'] = nodeframe['properties'].apply(lambda x: x['label'])\n",
    "nodeframe['namespace'] = nodeframe['type'].apply(lambda x: {'gene':'NCBI Entrez', 'cell':'Cell Ontology'}[x])\n",
    "nodeframe = nodeframe.get(['namespace', 'id', 'label']).reset_index(drop=True)\n",
    "nodeframe.to_csv(output_path+'serializations/tabulasapiens_tsv/nodes.tsv', sep='\\t')\n",
    "nodeframe"
   ]
  },
  {
   "cell_type": "code",
   "execution_count": null,
   "metadata": {},
   "outputs": [],
   "source": [
    "edgeframe = pd.DataFrame(edges)\n",
    "edgeframe['count'] = edgeframe['properties'].apply(lambda x: x['count'])\n",
    "edgeframe['z'] = edgeframe['properties'].apply(lambda x: x['z'])\n",
    "edgeframe['threshold'] = edgeframe['properties'].apply(lambda x: x['threshold'])\n",
    "edgeframe = edgeframe.get(['source', 'relation', 'target', 'count', 'z', 'threshold'])\n",
    "edgeframe.to_csv(output_path+'serializations/tabulasapiens_tsv/edges.tsv', sep='\\t')\n",
    "edgeframe"
   ]
  },
  {
   "cell_type": "markdown",
   "metadata": {},
   "source": [
    "## Visualizations"
   ]
  },
  {
   "cell_type": "code",
   "execution_count": null,
   "metadata": {},
   "outputs": [],
   "source": [
    "seaborn.clustermap(binarymatrix, cmap='seismic', center=0)"
   ]
  },
  {
   "cell_type": "code",
   "execution_count": null,
   "metadata": {},
   "outputs": [],
   "source": [
    "seaborn.clustermap(gene_similarity_matrix, cmap='seismic', center=0)"
   ]
  },
  {
   "cell_type": "code",
   "execution_count": null,
   "metadata": {},
   "outputs": [],
   "source": [
    "seaborn.clustermap(attribute_similarity_matrix, cmap='seismic', center=0)"
   ]
  },
  {
   "cell_type": "markdown",
   "metadata": {},
   "source": [
    "### UMAP"
   ]
  },
  {
   "cell_type": "code",
   "execution_count": null,
   "metadata": {},
   "outputs": [],
   "source": [
    "vec = TfidfVectorizer(max_df=0.5, min_df=10)\n",
    "X = vec.fit_transform(genesets.values())\n",
    "adata = anndata.AnnData(X, dtype='float32')\n",
    "adata.obs.index = genesets.keys()\n",
    "\n",
    "sc.pp.neighbors(adata, n_neighbors=25, use_rep='X')\n",
    "sc.tl.leiden(adata)\n",
    "sc.tl.umap(adata, min_dist=0.18, spread=3)\n",
    "\n",
    "new_order = adata.obs.sort_values(by='leiden').index.tolist()\n",
    "adata = adata[new_order,:]\n",
    "adata.obs['leiden'] = 'Cluster ' + adata.obs['leiden'].astype('object')\n",
    "\n",
    "mapped_df = pd.DataFrame(adata.obsm['X_umap'])\n",
    "mapped_df.columns = ['x', 'y']\n",
    "\n",
    "mapped_df['cluster'] = adata.obs['leiden'].values\n",
    "mapped_df['term'] = adata.obs.index\n",
    "\n",
    "clusters = pd.unique(mapped_df['cluster']).tolist()\n",
    "colors = list(Category20[20])[::2] + list(Category20[20])[1::2]\n",
    "color_mapper = {clusters[i]:colors[i%20] for i in range(len(clusters))}\n",
    "\n",
    "mapped_df['color'] = mapped_df['cluster'].apply(lambda x: color_mapper[x])\n",
    "\n",
    "xlabel = 'UMAP 1'\n",
    "ylabel = 'UMAP 2'\n",
    "\n",
    "source2 = ColumnDataSource(\n",
    "        data=dict(\n",
    "            x = mapped_df.x,\n",
    "            y = mapped_df.y,\n",
    "            alpha = [0.7] * mapped_df.shape[0],\n",
    "            colors = mapped_df['color'], \n",
    "            size = [6] * mapped_df.shape[0],\n",
    "            gene_set = mapped_df['term'],\n",
    "            cluster = mapped_df['cluster']\n",
    "        )\n",
    "    )\n",
    "\n",
    "hover_emb = HoverTool(names=[\"df\"], tooltips=\"\"\"\n",
    "    <div style=\"margin: 10\">\n",
    "        <div style=\"margin: 0 auto; width:300px;\">\n",
    "            <span style=\"font-size: 12px; font-weight: bold;\">Gene Set:</span>\n",
    "            <span style=\"font-size: 12px\">@gene_set</span>\n",
    "        <div style=\"margin: 0 auto; width:300px;\">\n",
    "            <span style=\"font-size: 12px; font-weight: bold;\">Coordinates:</span>\n",
    "            <span style=\"font-size: 12px\">(@x,@y)</span>\n",
    "        <div style=\"margin: 0 auto; width:300px;\">\n",
    "            <span style=\"font-size: 12px; font-weight: bold;\">Cluster:</span>\n",
    "            <span style=\"font-size: 12px\">@cluster</span>\n",
    "        </div>\n",
    "    </div>\n",
    "    \"\"\")\n",
    "\n",
    "tools_emb = [hover_emb, 'pan', 'wheel_zoom', 'reset', 'save']\n",
    "title_emb = 'Gene Sets in Tabula Sapiens Library'\n",
    "plot_emb = figure(plot_width=1000, plot_height=700, tools=tools_emb, title=title_emb, x_axis_label=xlabel, y_axis_label=ylabel)\n",
    "plot_emb.circle( 'x', 'y', source = source2, size='size',\n",
    "                alpha='alpha', line_alpha=0, line_width=0.01, name=\"df\", \n",
    "                fill_color = 'colors', \n",
    "                line_color=\"black\", hover_fill_color=\"firebrick\")\n",
    "plot_emb.xaxis.axis_label_text_font_style = 'normal'\n",
    "plot_emb.xaxis.axis_label_text_font_size = '18px'\n",
    "plot_emb.yaxis.axis_label_text_font_size = '18px'\n",
    "plot_emb.yaxis.axis_label_text_font_style = 'normal'\n",
    "plot_emb.title.align = 'center'\n",
    "plot_emb.title.text_font_size = '18px'\n",
    "\n",
    "show(plot_emb)"
   ]
  }
 ],
 "metadata": {
  "kernelspec": {
   "display_name": "Python 3.10.4 ('appyter')",
   "language": "python",
   "name": "python3"
  },
  "language_info": {
   "codemirror_mode": {
    "name": "ipython",
    "version": 3
   },
   "file_extension": ".py",
   "mimetype": "text/x-python",
   "name": "python",
   "nbconvert_exporter": "python",
   "pygments_lexer": "ipython3",
   "version": "3.10.4"
  },
  "orig_nbformat": 4,
  "vscode": {
   "interpreter": {
    "hash": "36b64e778f8b0c3f01583b2eed08020222bb534e013a238936f90fb19a999c87"
   }
  }
 },
 "nbformat": 4,
 "nbformat_minor": 2
}
