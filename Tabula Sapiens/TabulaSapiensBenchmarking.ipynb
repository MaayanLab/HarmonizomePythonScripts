{
 "cells": [
  {
   "cell_type": "markdown",
   "metadata": {},
   "source": [
    "# Tabula Sapiens Gene-Cell Associations\n",
    "\n",
    "[Tabula Sapiens](https://tabula-sapiens-portal.ds.czbiohub.org/) provides human transcriptomics data at a single-cell resolution. The resource is a benchmark, first-draft human cell atlas of nearly 500,000 cells from 24 organs of 15 normal human subjects. Raw download data, in the format of single-cell RNAseq, was processed to aggregate synonymous samples using metadata alignment into pseudo-bulk RNAseq data.\n",
    "\n",
    "The Tabula Sapiens Consortium (2022). \"The Tabula Sapiens: A multiple-organ, single-cell transcriptomic atlas of humans.\" Science 376(6594)."
   ]
  },
  {
   "cell_type": "code",
   "execution_count": null,
   "metadata": {},
   "outputs": [],
   "source": [
    "import pandas as pd\n",
    "import numpy as np\n",
    "import seaborn as sns\n",
    "import matplotlib.pyplot as plt\n",
    "\n",
    "import scanpy as sc\n",
    "from sklearn.feature_extraction.text import TfidfVectorizer\n",
    "import anndata\n",
    "from bokeh.io import output_notebook, export_svg, output_file, save\n",
    "from bokeh.io.export import get_screenshot_as_png\n",
    "from bokeh.plotting import figure, show\n",
    "from bokeh.models import HoverTool, ColumnDataSource\n",
    "from bokeh.palettes import Category20"
   ]
  },
  {
   "cell_type": "code",
   "execution_count": null,
   "metadata": {},
   "outputs": [],
   "source": [
    "output_notebook()"
   ]
  },
  {
   "cell_type": "markdown",
   "metadata": {},
   "source": [
    "## Load Data"
   ]
  },
  {
   "cell_type": "code",
   "execution_count": null,
   "metadata": {},
   "outputs": [],
   "source": [
    "dir = 'newdata/TabulaSapiens/'\n",
    "tabsap = pd.read_pickle(dir+'picklesbydonors/ts_10x_rem-dups_cell-ontology-class_tissue_master-sumsv1')\n",
    "tabsap"
   ]
  },
  {
   "cell_type": "markdown",
   "metadata": {},
   "source": [
    "## Pre-Process Data"
   ]
  },
  {
   "cell_type": "code",
   "execution_count": null,
   "metadata": {},
   "outputs": [],
   "source": [
    "genes = pd.read_csv('tables/gene_info', sep='\\t')\n",
    "genes = genes[genes['type_of_gene']=='protein-coding']\n",
    "genelist = genes['Symbol'].to_list()\n",
    "syngenes = pd.read_csv('production/gene_synonym.csv')['symbol'].to_list()"
   ]
  },
  {
   "cell_type": "code",
   "execution_count": null,
   "metadata": {},
   "outputs": [],
   "source": [
    "droplist = []\n",
    "for gene in pd.unique(tabsap.index.tolist()):\n",
    "    if gene not in genelist or gene in syngenes:\n",
    "        droplist.append(gene)"
   ]
  },
  {
   "cell_type": "code",
   "execution_count": null,
   "metadata": {},
   "outputs": [],
   "source": [
    "tabsap = tabsap.drop(droplist, axis=0)\n",
    "tabsap"
   ]
  },
  {
   "cell_type": "markdown",
   "metadata": {},
   "source": [
    "## Process Data"
   ]
  },
  {
   "cell_type": "code",
   "execution_count": null,
   "metadata": {},
   "outputs": [],
   "source": [
    "edgelist = pd.DataFrame(tabsap.stack(), dtype=int)\n",
    "edgelist = edgelist.sparse.to_dense().groupby(level=[0,1]).median().astype(int).reset_index()\n",
    "edgelist = edgelist[edgelist[0] != 0].reset_index(drop=True)\n",
    "edgelist.columns = ['gene', 'cell', 'count']\n",
    "print(len(edgelist.gene.unique()), ' genes, ', len(edgelist.cell.unique()), ' cell types', sep='')\n",
    "edgelist"
   ]
  },
  {
   "cell_type": "code",
   "execution_count": null,
   "metadata": {},
   "outputs": [],
   "source": [
    "def z(gene):\n",
    "    mean = genemeans[gene['gene']]\n",
    "    std = genedevs[gene['gene']]\n",
    "    if std == 0:\n",
    "        return 0\n",
    "    return (gene['count']-mean)/std"
   ]
  },
  {
   "cell_type": "code",
   "execution_count": null,
   "metadata": {},
   "outputs": [],
   "source": [
    "genestats = edgelist.groupby('gene').describe().replace(np.nan, 0)\n",
    "genemeans = genestats['count']['mean'].to_dict()\n",
    "genedevs = genestats['count']['std'].to_dict()\n",
    "edgelist['z'] = edgelist.apply(z,axis=1)\n",
    "edgelist"
   ]
  },
  {
   "cell_type": "code",
   "execution_count": null,
   "metadata": {},
   "outputs": [],
   "source": [
    "edgelist = edgelist.sort_values(['cell', 'count'], ascending=[True, False])\n",
    "edgelist = edgelist.set_index('cell')\n",
    "topcount = pd.DataFrame(columns=edgelist.columns)\n",
    "for cell in pd.unique(edgelist.index):\n",
    "    topcount = pd.concat([topcount, edgelist.loc[cell][:100]])\n",
    "edgelist = edgelist.reset_index()\n",
    "topcount"
   ]
  },
  {
   "cell_type": "code",
   "execution_count": null,
   "metadata": {},
   "outputs": [],
   "source": [
    "edgelist = edgelist.sort_values(['cell', 'z'], ascending=[True, False])\n",
    "edgelist = edgelist.set_index('cell')\n",
    "top100 = pd.DataFrame(columns=edgelist.columns)\n",
    "for cell in pd.unique(edgelist.index):\n",
    "    top100 = pd.concat([top100, edgelist.loc[cell][:100]])\n",
    "edgelist = edgelist.reset_index()\n",
    "top100"
   ]
  },
  {
   "cell_type": "code",
   "execution_count": null,
   "metadata": {},
   "outputs": [],
   "source": [
    "edgelist = edgelist.sort_values(['cell', 'z'], ascending=[True, False])\n",
    "edgelist = edgelist.set_index('cell')\n",
    "top250 = pd.DataFrame(columns=edgelist.columns)\n",
    "for cell in pd.unique(edgelist.index):\n",
    "    top250 = pd.concat([top250, edgelist.loc[cell][:250]])\n",
    "edgelist = edgelist.reset_index()\n",
    "top250"
   ]
  },
  {
   "cell_type": "code",
   "execution_count": null,
   "metadata": {},
   "outputs": [],
   "source": [
    "edgelist = edgelist.sort_values(['cell', 'z'], ascending=[True, False])\n",
    "edgelist = edgelist.set_index('cell')\n",
    "top500 = pd.DataFrame(columns=edgelist.columns)\n",
    "for cell in pd.unique(edgelist.index):\n",
    "    top500 = pd.concat([top500, edgelist.loc[cell][:500]])\n",
    "edgelist = edgelist.reset_index()\n",
    "top500"
   ]
  },
  {
   "cell_type": "code",
   "execution_count": null,
   "metadata": {},
   "outputs": [],
   "source": [
    "genesets = {}\n",
    "for cell in top100.index.unique():\n",
    "    genesets[cell] = ' '.join(top100.loc[cell]['gene'].tolist())"
   ]
  },
  {
   "cell_type": "code",
   "execution_count": null,
   "metadata": {},
   "outputs": [],
   "source": [
    "top100.gene.unique().__len__(), top100.index.unique().__len__()"
   ]
  },
  {
   "cell_type": "code",
   "execution_count": null,
   "metadata": {},
   "outputs": [],
   "source": [
    "vec = TfidfVectorizer(max_df=0.5, min_df=10)\n",
    "X = vec.fit_transform(genesets.values())\n",
    "adata = anndata.AnnData(X, dtype='float32')\n",
    "adata.obs.index = genesets.keys()\n",
    "\n",
    "sc.pp.neighbors(adata, n_neighbors=25, use_rep='X')\n",
    "sc.tl.leiden(adata)\n",
    "sc.tl.umap(adata, min_dist=0.18, spread=3)\n",
    "\n",
    "new_order = adata.obs.sort_values(by='leiden').index.tolist()\n",
    "adata = adata[new_order,:]\n",
    "adata.obs['leiden'] = 'Cluster ' + adata.obs['leiden'].astype('object')\n",
    "\n",
    "mapped_df = pd.DataFrame(adata.obsm['X_umap'])\n",
    "mapped_df.columns = ['x', 'y']\n",
    "\n",
    "mapped_df['cluster'] = adata.obs['leiden'].values\n",
    "mapped_df['term'] = adata.obs.index\n",
    "\n",
    "clusters = pd.unique(mapped_df['cluster']).tolist()\n",
    "colors = list(Category20[20])[::2] + list(Category20[20])[1::2]\n",
    "color_mapper = {clusters[i]:colors[i%20] for i in range(len(clusters))}\n",
    "\n",
    "mapped_df['color'] = mapped_df['cluster'].apply(lambda x: color_mapper[x])\n",
    "\n",
    "xlabel = 'UMAP 1'\n",
    "ylabel = 'UMAP 2'\n",
    "\n",
    "source2 = ColumnDataSource(\n",
    "        data=dict(\n",
    "            x = mapped_df.x,\n",
    "            y = mapped_df.y,\n",
    "            alpha = [0.7] * mapped_df.shape[0],\n",
    "            colors = mapped_df['color'], \n",
    "            size = [6] * mapped_df.shape[0],\n",
    "            gene_set = mapped_df['term'],\n",
    "            cluster = mapped_df['cluster']\n",
    "        )\n",
    "    )\n",
    "\n",
    "hover_emb = HoverTool(name=\"df\", tooltips=\"\"\"\n",
    "    <div style=\"margin: 10\">\n",
    "        <div style=\"margin: 0 auto; width:300px;\">\n",
    "            <span style=\"font-size: 12px; font-weight: bold;\">Gene Set:</span>\n",
    "            <span style=\"font-size: 12px\">@gene_set</span>\n",
    "        <div style=\"margin: 0 auto; width:300px;\">\n",
    "            <span style=\"font-size: 12px; font-weight: bold;\">Coordinates:</span>\n",
    "            <span style=\"font-size: 12px\">(@x,@y)</span>\n",
    "        <div style=\"margin: 0 auto; width:300px;\">\n",
    "            <span style=\"font-size: 12px; font-weight: bold;\">Cluster:</span>\n",
    "            <span style=\"font-size: 12px\">@cluster</span>\n",
    "        </div>\n",
    "    </div>\n",
    "    \"\"\")\n",
    "\n",
    "tools_emb = [hover_emb, 'pan', 'wheel_zoom', 'reset', 'save']\n",
    "title_emb = 'Gene Sets in Tabula Sapiens Library'\n",
    "plot_emb = figure(width=1000, height=700, tools=tools_emb, title=title_emb, x_axis_label=xlabel, y_axis_label=ylabel)\n",
    "plot_emb.circle( 'x', 'y', source = source2, size='size',\n",
    "                alpha='alpha', line_alpha=0, line_width=0.01, name=\"df\", \n",
    "                fill_color = 'colors', \n",
    "                line_color=\"black\", hover_fill_color=\"firebrick\")\n",
    "plot_emb.xaxis.axis_label_text_font_style = 'normal'\n",
    "plot_emb.xaxis.axis_label_text_font_size = '18px'\n",
    "plot_emb.yaxis.axis_label_text_font_size = '18px'\n",
    "plot_emb.yaxis.axis_label_text_font_style = 'normal'\n",
    "plot_emb.title.align = 'center'\n",
    "plot_emb.title.text_font_size = '18px'\n",
    "\n",
    "show(plot_emb)"
   ]
  },
  {
   "cell_type": "markdown",
   "metadata": {},
   "source": [
    "## Test Against Descartes Dataset"
   ]
  },
  {
   "cell_type": "code",
   "execution_count": null,
   "metadata": {},
   "outputs": [],
   "source": [
    "descartes = pd.DataFrame(columns = [0,1])\n",
    "f = open('newdata/TabulaSapiens/Descartes_Cell_Types_and_Tissue_2021.txt')\n",
    "for i in enumerate(f):\n",
    "  i = i[1].split('\\n')[0].split('\\t')[:-1]\n",
    "  descartes = pd.concat([descartes, pd.DataFrame([i[0], i[2:]]).T])\n",
    "\n",
    "descartes.columns = ['cell','genes']\n",
    "descartes = descartes.set_index('cell')\n",
    "descartes['len'] = descartes['genes'].apply(len)\n",
    "descartes"
   ]
  },
  {
   "cell_type": "code",
   "execution_count": null,
   "metadata": {},
   "outputs": [],
   "source": [
    "tscells = ['Eye-microglial cell',\n",
    "'Pancreas-pancreatic ductal cell',\n",
    "'Eye-retinal ganglion cell',\n",
    "'Thymus-medullary thymic epithelial cell',\n",
    "'Eye-corneal epithelial cell',\n",
    "'Liver-hepatocyte',\n",
    "'Liver-erythrocyte',\n",
    "'Muscle-erythrocyte',\n",
    "'Spleen-erythrocyte',\n",
    "'Spleen-innate lymphoid cell',\n",
    "'Muscle-skeletal muscle satellite stem cell',\n",
    "'Heart-smooth muscle cell',\n",
    "'Muscle-smooth muscle cell',\n",
    "'Eye-limbal stromal cell',\n",
    "'Lung-lung microvascular endothelial cell',\n",
    "'Thymus-endothelial cell of artery',\n",
    "'Eye-retinal bipolar neuron',\n",
    "'Lung-mesothelial cell',\n",
    "'Spleen-cd141-positive myeloid dendritic cell',\n",
    "'Thymus-thymocyte']"
   ]
  },
  {
   "cell_type": "code",
   "execution_count": null,
   "metadata": {},
   "outputs": [],
   "source": [
    "topcount = topcount.T.get(tscells).T\n",
    "tscount = pd.DataFrame(columns=['gene'])\n",
    "for cell in topcount.index.unique():\n",
    "    tscount.loc[cell,'gene'] = topcount.loc[cell].gene.tolist()\n",
    "tscount"
   ]
  },
  {
   "cell_type": "code",
   "execution_count": null,
   "metadata": {},
   "outputs": [],
   "source": [
    "top100 = top100.T.get(tscells).T\n",
    "ts100 = pd.DataFrame(columns=['gene'])\n",
    "for cell in top100.index.unique():\n",
    "    ts100.loc[cell,'gene'] = top100.loc[cell].gene.tolist()\n",
    "ts100"
   ]
  },
  {
   "cell_type": "code",
   "execution_count": null,
   "metadata": {},
   "outputs": [],
   "source": [
    "top250 = top250.T.get(tscells).T\n",
    "ts250 = pd.DataFrame(columns=['gene'])\n",
    "for cell in top250.index.unique():\n",
    "    ts250.loc[cell,'gene'] = top250.loc[cell].gene.tolist()\n",
    "ts250"
   ]
  },
  {
   "cell_type": "code",
   "execution_count": null,
   "metadata": {},
   "outputs": [],
   "source": [
    "top500 = top500.T.get(tscells).T\n",
    "ts500 = pd.DataFrame(columns=['gene'])\n",
    "for cell in top500.index.unique():\n",
    "    ts500.loc[cell,'gene'] = top500.loc[cell].gene.tolist()\n",
    "ts500"
   ]
  },
  {
   "cell_type": "code",
   "execution_count": null,
   "metadata": {},
   "outputs": [],
   "source": [
    "ts = pd.concat([tscount, ts100,ts250,ts500],axis=1)\n",
    "ts.columns=['tscount','ts100','ts250','ts500']\n",
    "ts = ts.reset_index()\n",
    "ts['index'] = ts['index'].apply(str.lower)\n",
    "ts = ts.set_index('index')\n",
    "ts"
   ]
  },
  {
   "cell_type": "code",
   "execution_count": null,
   "metadata": {},
   "outputs": [],
   "source": [
    "tsenrichr = pd.DataFrame(columns = [0,1])\n",
    "f = open('newdata/TabulaSapiens/Tabula_Sapiens.txt')\n",
    "for i in enumerate(f):\n",
    "  i = i[1].split('\\n')[0].split('\\t')[:-1]\n",
    "  tsenrichr = pd.concat([tsenrichr, pd.DataFrame([i[0], i[2:]]).T])\n",
    "\n",
    "tsenrichr.columns = ['cell','genes']\n",
    "tsenrichr = tsenrichr.set_index('cell')\n",
    "tsenrichr = tsenrichr.reset_index()\n",
    "tsenrichr['cell'] = tsenrichr['cell'].apply(str.lower)\n",
    "tsenrichr = tsenrichr.set_index('cell')\n",
    "tsenrichr = tsenrichr.T.get(ts.index.to_list()).T\n",
    "tsenrichr.columns = ['tsenrichr']\n",
    "ts = pd.concat([ts,tsenrichr], axis=1)\n",
    "ts"
   ]
  },
  {
   "cell_type": "code",
   "execution_count": null,
   "metadata": {},
   "outputs": [],
   "source": [
    "descartes = descartes.T.get([\n",
    "'Microglia in Eye',\n",
    "'Ductal cells in Pancreas',\n",
    "'Ganglion cells in Eye',\n",
    "'Thymic epithelial cells in Thymus',\n",
    "'Corneal and conjunctival epithelial cells in Eye',\n",
    "'Hepatoblasts in Liver',\n",
    "'Erythroblasts in Liver',\n",
    "'Erythroblasts in Muscle',\n",
    "'Erythroblasts in Spleen',\n",
    "'Lymphoid cells in Spleen',\n",
    "'Skeletal muscle cells in Muscle',\n",
    "'Smooth muscle cells in Heart',\n",
    "'Smooth muscle cells in Muscle',\n",
    "'Stromal cells in Eye',\n",
    "'Vascular endothelial cells in Lung',\n",
    "'Vascular endothelial cells in Thymus',\n",
    "'Bipolar cells in Eye',\n",
    "'Mesothelial cells in Lung',\n",
    "'Myeloid cells in Spleen',\n",
    "'Thymocytes in Thymus'\n",
    "]).T\n",
    "descartes"
   ]
  },
  {
   "cell_type": "code",
   "execution_count": null,
   "metadata": {},
   "outputs": [],
   "source": [
    "def jaccard(frame):\n",
    "    jaccard = pd.Series()\n",
    "    for i in frame.index:\n",
    "        list1 = frame.loc[i][0]\n",
    "        list2 = frame.loc[i][1]\n",
    "        jaccard = pd.concat([jaccard, pd.Series(len(np.intersect1d(list1,list2))/len(np.union1d(list1,list2)))])\n",
    "    return jaccard"
   ]
  },
  {
   "cell_type": "code",
   "execution_count": null,
   "metadata": {},
   "outputs": [],
   "source": [
    "benchmark = pd.DataFrame(columns=['descartes cell', 'ts cell', 'descartes', 'tsenrichr', 'ts100','ts250','ts500'])\n",
    "benchmark['descartes cell'] = descartes.index\n",
    "benchmark['ts cell'] = ts.index\n",
    "benchmark['descartes'] = benchmark['descartes cell'].apply(lambda x: descartes.loc[x,'genes'])\n",
    "benchmark['tsenrichr'] = benchmark['ts cell'].apply(lambda x: ts.loc[x,'tsenrichr'])\n",
    "benchmark['tscount'] = benchmark['ts cell'].apply(lambda x: ts.loc[x,'tscount'])\n",
    "benchmark['ts100'] = benchmark['ts cell'].apply(lambda x: ts.loc[x,'ts100'])\n",
    "benchmark['ts250'] = benchmark['ts cell'].apply(lambda x: ts.loc[x,'ts250'])\n",
    "benchmark['ts500'] = benchmark['ts cell'].apply(lambda x: ts.loc[x,'ts500'])\n",
    "benchmark"
   ]
  },
  {
   "cell_type": "code",
   "execution_count": null,
   "metadata": {},
   "outputs": [],
   "source": [
    "jaccards = benchmark.copy()\n",
    "jaccards = jaccards.set_index('ts cell')\n",
    "for i in benchmark.get(benchmark.columns[3:8]).columns:\n",
    "    jaccards['descartes/'+i] = jaccard(benchmark.get(['descartes',i])).to_frame().set_index(jaccards.index)\n",
    "jaccards = jaccards.get(['descartes/tsenrichr','descartes/tscount','descartes/ts100','descartes/ts250','descartes/ts500'])\n",
    "jaccards = jaccards.sort_values('descartes/tsenrichr')\n",
    "jaccards"
   ]
  },
  {
   "cell_type": "code",
   "execution_count": null,
   "metadata": {},
   "outputs": [],
   "source": [
    "stats = pd.DataFrame(columns=jaccards.columns).get(['descartes/tsenrichr','descartes/ts100','descartes/ts250','descartes/ts500'])\n",
    "stats.loc['min'] = jaccards.apply(min,axis=0)\n",
    "stats.loc['mean'] = jaccards.apply(np.mean, axis=0)\n",
    "stats.loc['max'] = jaccards.apply(max, axis=0)\n",
    "stats.columns=['Descartes/TSEnrichr','Descartes/TS100','Descartes/TS250','Descartes/TS500']\n",
    "stats = sns.scatterplot(data=stats.T, markers=['o','o','o'])\n",
    "stats.set_title('Descartes-Tabula Sapiens Gene Set Similarity Statistics')\n",
    "stats.set_ylabel('Jaccard Index')\n",
    "plt.xticks(rotation=45, ha='right')\n",
    "stats"
   ]
  },
  {
   "cell_type": "code",
   "execution_count": null,
   "metadata": {},
   "outputs": [],
   "source": [
    "#jaccards = jaccards.get(['descartes/tsenrichr','descartes/ts100','descartes/ts250','descartes/ts500'])\n",
    "#jaccards.columns = ['Descartes/TSEnrichr', 'Descartes/TS100', 'Descartes/TS250','Descartes/TS500']\n",
    "jaccard = sns.scatterplot(data=jaccards, markers=['o','o','o','o'])\n",
    "plt.axhline(jaccards['Descartes/TSEnrichr'].mean(), ls='--')\n",
    "plt.axhline(jaccards['Descartes/TS100'].mean(), c='orange', ls='--')\n",
    "plt.axhline(jaccards['Descartes/TS250'].mean(), c='green', ls='--')\n",
    "plt.axhline(jaccards['Descartes/TS500'].mean(), c='red', ls='--')\n",
    "jaccard.set_title('Descartes-Tabula Sapiens Gene Set Similarity Indices')\n",
    "jaccard.set_ylabel('Jaccard Index')\n",
    "plt.xticks(rotation=60, ha='right')\n",
    "plt.ylim(bottom=0)\n",
    "plt.legend(labels=['Descartes/TSEnrichr (mean=0.018)', 'Descartes/TS100 (mean=0.053)', 'Descartes/TS250 (mean=0.055)', 'Descartes/TS500 (mean=0.048)'])\n",
    "plt.show()"
   ]
  },
  {
   "cell_type": "code",
   "execution_count": null,
   "metadata": {},
   "outputs": [],
   "source": [
    "jaccards.mean()"
   ]
  },
  {
   "cell_type": "code",
   "execution_count": null,
   "metadata": {},
   "outputs": [],
   "source": []
  }
 ],
 "metadata": {
  "kernelspec": {
   "display_name": "Python 3.10.4 ('appyter')",
   "language": "python",
   "name": "python3"
  },
  "language_info": {
   "codemirror_mode": {
    "name": "ipython",
    "version": 3
   },
   "file_extension": ".py",
   "mimetype": "text/x-python",
   "name": "python",
   "nbconvert_exporter": "python",
   "pygments_lexer": "ipython3",
   "version": "3.10.4"
  },
  "orig_nbformat": 4,
  "vscode": {
   "interpreter": {
    "hash": "36b64e778f8b0c3f01583b2eed08020222bb534e013a238936f90fb19a999c87"
   }
  }
 },
 "nbformat": 4,
 "nbformat_minor": 2
}
