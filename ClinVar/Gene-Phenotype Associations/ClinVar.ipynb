{
 "cells": [
  {
   "cell_type": "markdown",
   "metadata": {},
   "source": [
    "# ClinVar"
   ]
  },
  {
   "cell_type": "markdown",
   "metadata": {},
   "source": [
    "Author: Moshe Silverstein <br/>\n",
    "Date: 8-17 <br/>\n",
    "Data Downloaded: 08-2017 <br/>\n",
    "Data Source: http://www.ncbi.nlm.nih.gov/clinvar/"
   ]
  },
  {
   "cell_type": "code",
   "execution_count": 40,
   "metadata": {
    "collapsed": true
   },
   "outputs": [],
   "source": [
    "import sys, datetime\n",
    "import numpy as np\n",
    "import pandas as pd\n",
    "import importlib\n",
    "import untility_functions as uf\n",
    "import goenrich\n",
    "%matplotlib inline"
   ]
  },
  {
   "cell_type": "code",
   "execution_count": 41,
   "metadata": {},
   "outputs": [
    {
     "data": {
      "text/plain": [
       "<module 'untility_functions' from '/Users/moshesilverstein/Documents/Harmonizome/ClinVar/untility_functions.py'>"
      ]
     },
     "execution_count": 41,
     "metadata": {},
     "output_type": "execute_result"
    }
   ],
   "source": [
    "importlib.reload(uf)"
   ]
  },
  {
   "cell_type": "markdown",
   "metadata": {},
   "source": [
    "# Load Data"
   ]
  },
  {
   "cell_type": "code",
   "execution_count": 42,
   "metadata": {},
   "outputs": [
    {
     "name": "stderr",
     "output_type": "stream",
     "text": [
      "/Users/moshesilverstein/anaconda/lib/python3.5/site-packages/IPython/core/interactiveshell.py:2717: DtypeWarning: Columns (18) have mixed types. Specify dtype option on import or set low_memory=False.\n",
      "  interactivity=interactivity, compiler=compiler, result=result)\n"
     ]
    }
   ],
   "source": [
    "df = pd.read_csv('Input/variant_summary.txt', sep='\\t')"
   ]
  },
  {
   "cell_type": "code",
   "execution_count": 43,
   "metadata": {},
   "outputs": [
    {
     "data": {
      "text/html": [
       "<div>\n",
       "<style scoped>\n",
       "    .dataframe tbody tr th:only-of-type {\n",
       "        vertical-align: middle;\n",
       "    }\n",
       "\n",
       "    .dataframe tbody tr th {\n",
       "        vertical-align: top;\n",
       "    }\n",
       "\n",
       "    .dataframe thead th {\n",
       "        text-align: right;\n",
       "    }\n",
       "</style>\n",
       "<table border=\"1\" class=\"dataframe\">\n",
       "  <thead>\n",
       "    <tr style=\"text-align: right;\">\n",
       "      <th></th>\n",
       "      <th>#AlleleID</th>\n",
       "      <th>Type</th>\n",
       "      <th>Name</th>\n",
       "      <th>GeneID</th>\n",
       "      <th>GeneSymbol</th>\n",
       "      <th>HGNC_ID</th>\n",
       "      <th>ClinicalSignificance</th>\n",
       "      <th>ClinSigSimple</th>\n",
       "      <th>LastEvaluated</th>\n",
       "      <th>RS# (dbSNP)</th>\n",
       "      <th>...</th>\n",
       "      <th>Stop</th>\n",
       "      <th>ReferenceAllele</th>\n",
       "      <th>AlternateAllele</th>\n",
       "      <th>Cytogenetic</th>\n",
       "      <th>ReviewStatus</th>\n",
       "      <th>NumberSubmitters</th>\n",
       "      <th>Guidelines</th>\n",
       "      <th>TestedInGTR</th>\n",
       "      <th>OtherIDs</th>\n",
       "      <th>SubmitterCategories</th>\n",
       "    </tr>\n",
       "  </thead>\n",
       "  <tbody>\n",
       "    <tr>\n",
       "      <th>0</th>\n",
       "      <td>15041</td>\n",
       "      <td>indel</td>\n",
       "      <td>NM_014855.2(AP5Z1):c.80_83delGGATinsTGCTGTAAAC...</td>\n",
       "      <td>9907</td>\n",
       "      <td>AP5Z1</td>\n",
       "      <td>HGNC:22197</td>\n",
       "      <td>Pathogenic</td>\n",
       "      <td>1</td>\n",
       "      <td>Jun 29, 2010</td>\n",
       "      <td>397704705</td>\n",
       "      <td>...</td>\n",
       "      <td>4820847</td>\n",
       "      <td>GGAT</td>\n",
       "      <td>TGCTGTAAACTGTAACTGTAAA</td>\n",
       "      <td>7p22.1</td>\n",
       "      <td>no assertion criteria provided</td>\n",
       "      <td>1</td>\n",
       "      <td>NaN</td>\n",
       "      <td>N</td>\n",
       "      <td>OMIM Allelic Variant:613653.0001</td>\n",
       "      <td>1</td>\n",
       "    </tr>\n",
       "    <tr>\n",
       "      <th>1</th>\n",
       "      <td>15041</td>\n",
       "      <td>indel</td>\n",
       "      <td>NM_014855.2(AP5Z1):c.80_83delGGATinsTGCTGTAAAC...</td>\n",
       "      <td>9907</td>\n",
       "      <td>AP5Z1</td>\n",
       "      <td>HGNC:22197</td>\n",
       "      <td>Pathogenic</td>\n",
       "      <td>1</td>\n",
       "      <td>Jun 29, 2010</td>\n",
       "      <td>397704705</td>\n",
       "      <td>...</td>\n",
       "      <td>4781216</td>\n",
       "      <td>GGAT</td>\n",
       "      <td>TGCTGTAAACTGTAACTGTAAA</td>\n",
       "      <td>7p22.1</td>\n",
       "      <td>no assertion criteria provided</td>\n",
       "      <td>1</td>\n",
       "      <td>NaN</td>\n",
       "      <td>N</td>\n",
       "      <td>OMIM Allelic Variant:613653.0001</td>\n",
       "      <td>1</td>\n",
       "    </tr>\n",
       "    <tr>\n",
       "      <th>2</th>\n",
       "      <td>15042</td>\n",
       "      <td>deletion</td>\n",
       "      <td>NM_014855.2(AP5Z1):c.1413_1426delGGACCTGCCCTGC...</td>\n",
       "      <td>9907</td>\n",
       "      <td>AP5Z1</td>\n",
       "      <td>HGNC:22197</td>\n",
       "      <td>Pathogenic</td>\n",
       "      <td>1</td>\n",
       "      <td>Jun 29, 2010</td>\n",
       "      <td>397704709</td>\n",
       "      <td>...</td>\n",
       "      <td>4827379</td>\n",
       "      <td>GGACCTGCCCTGCT</td>\n",
       "      <td>-</td>\n",
       "      <td>7p22.1</td>\n",
       "      <td>no assertion criteria provided</td>\n",
       "      <td>1</td>\n",
       "      <td>NaN</td>\n",
       "      <td>N</td>\n",
       "      <td>OMIM Allelic Variant:613653.0002</td>\n",
       "      <td>1</td>\n",
       "    </tr>\n",
       "    <tr>\n",
       "      <th>3</th>\n",
       "      <td>15042</td>\n",
       "      <td>deletion</td>\n",
       "      <td>NM_014855.2(AP5Z1):c.1413_1426delGGACCTGCCCTGC...</td>\n",
       "      <td>9907</td>\n",
       "      <td>AP5Z1</td>\n",
       "      <td>HGNC:22197</td>\n",
       "      <td>Pathogenic</td>\n",
       "      <td>1</td>\n",
       "      <td>Jun 29, 2010</td>\n",
       "      <td>397704709</td>\n",
       "      <td>...</td>\n",
       "      <td>4787748</td>\n",
       "      <td>GGACCTGCCCTGCT</td>\n",
       "      <td>-</td>\n",
       "      <td>7p22.1</td>\n",
       "      <td>no assertion criteria provided</td>\n",
       "      <td>1</td>\n",
       "      <td>NaN</td>\n",
       "      <td>N</td>\n",
       "      <td>OMIM Allelic Variant:613653.0002</td>\n",
       "      <td>1</td>\n",
       "    </tr>\n",
       "    <tr>\n",
       "      <th>4</th>\n",
       "      <td>15043</td>\n",
       "      <td>single nucleotide variant</td>\n",
       "      <td>NM_014630.2(ZNF592):c.3136G&gt;A (p.Gly1046Arg)</td>\n",
       "      <td>9640</td>\n",
       "      <td>ZNF592</td>\n",
       "      <td>HGNC:28986</td>\n",
       "      <td>Uncertain significance</td>\n",
       "      <td>0</td>\n",
       "      <td>Jun 29, 2015</td>\n",
       "      <td>150829393</td>\n",
       "      <td>...</td>\n",
       "      <td>85342440</td>\n",
       "      <td>G</td>\n",
       "      <td>A</td>\n",
       "      <td>15q25</td>\n",
       "      <td>no assertion criteria provided</td>\n",
       "      <td>1</td>\n",
       "      <td>NaN</td>\n",
       "      <td>N</td>\n",
       "      <td>OMIM Allelic Variant:613624.0001,UniProtKB (pr...</td>\n",
       "      <td>1</td>\n",
       "    </tr>\n",
       "  </tbody>\n",
       "</table>\n",
       "<p>5 rows × 30 columns</p>\n",
       "</div>"
      ],
      "text/plain": [
       "   #AlleleID                       Type  \\\n",
       "0      15041                      indel   \n",
       "1      15041                      indel   \n",
       "2      15042                   deletion   \n",
       "3      15042                   deletion   \n",
       "4      15043  single nucleotide variant   \n",
       "\n",
       "                                                Name  GeneID GeneSymbol  \\\n",
       "0  NM_014855.2(AP5Z1):c.80_83delGGATinsTGCTGTAAAC...    9907      AP5Z1   \n",
       "1  NM_014855.2(AP5Z1):c.80_83delGGATinsTGCTGTAAAC...    9907      AP5Z1   \n",
       "2  NM_014855.2(AP5Z1):c.1413_1426delGGACCTGCCCTGC...    9907      AP5Z1   \n",
       "3  NM_014855.2(AP5Z1):c.1413_1426delGGACCTGCCCTGC...    9907      AP5Z1   \n",
       "4       NM_014630.2(ZNF592):c.3136G>A (p.Gly1046Arg)    9640     ZNF592   \n",
       "\n",
       "      HGNC_ID    ClinicalSignificance  ClinSigSimple LastEvaluated  \\\n",
       "0  HGNC:22197              Pathogenic              1  Jun 29, 2010   \n",
       "1  HGNC:22197              Pathogenic              1  Jun 29, 2010   \n",
       "2  HGNC:22197              Pathogenic              1  Jun 29, 2010   \n",
       "3  HGNC:22197              Pathogenic              1  Jun 29, 2010   \n",
       "4  HGNC:28986  Uncertain significance              0  Jun 29, 2015   \n",
       "\n",
       "   RS# (dbSNP)         ...               Stop ReferenceAllele  \\\n",
       "0    397704705         ...            4820847            GGAT   \n",
       "1    397704705         ...            4781216            GGAT   \n",
       "2    397704709         ...            4827379  GGACCTGCCCTGCT   \n",
       "3    397704709         ...            4787748  GGACCTGCCCTGCT   \n",
       "4    150829393         ...           85342440               G   \n",
       "\n",
       "          AlternateAllele Cytogenetic                    ReviewStatus  \\\n",
       "0  TGCTGTAAACTGTAACTGTAAA      7p22.1  no assertion criteria provided   \n",
       "1  TGCTGTAAACTGTAACTGTAAA      7p22.1  no assertion criteria provided   \n",
       "2                       -      7p22.1  no assertion criteria provided   \n",
       "3                       -      7p22.1  no assertion criteria provided   \n",
       "4                       A       15q25  no assertion criteria provided   \n",
       "\n",
       "  NumberSubmitters Guidelines TestedInGTR  \\\n",
       "0                1        NaN           N   \n",
       "1                1        NaN           N   \n",
       "2                1        NaN           N   \n",
       "3                1        NaN           N   \n",
       "4                1        NaN           N   \n",
       "\n",
       "                                            OtherIDs  SubmitterCategories  \n",
       "0                   OMIM Allelic Variant:613653.0001                    1  \n",
       "1                   OMIM Allelic Variant:613653.0001                    1  \n",
       "2                   OMIM Allelic Variant:613653.0002                    1  \n",
       "3                   OMIM Allelic Variant:613653.0002                    1  \n",
       "4  OMIM Allelic Variant:613624.0001,UniProtKB (pr...                    1  \n",
       "\n",
       "[5 rows x 30 columns]"
      ]
     },
     "execution_count": 43,
     "metadata": {},
     "output_type": "execute_result"
    }
   ],
   "source": [
    "df.head()"
   ]
  },
  {
   "cell_type": "code",
   "execution_count": 44,
   "metadata": {},
   "outputs": [
    {
     "data": {
      "text/plain": [
       "(648289, 30)"
      ]
     },
     "execution_count": 44,
     "metadata": {},
     "output_type": "execute_result"
    }
   ],
   "source": [
    "df.shape"
   ]
  },
  {
   "cell_type": "markdown",
   "metadata": {},
   "source": [
    "# Get Relevent Data"
   ]
  },
  {
   "cell_type": "markdown",
   "metadata": {},
   "source": [
    "### Get Data with Review Status of 'reviewed by expert panel' or 'criteria provided, multiple submitters, no conflicts,' otherwise drop"
   ]
  },
  {
   "cell_type": "code",
   "execution_count": 45,
   "metadata": {},
   "outputs": [
    {
     "data": {
      "text/plain": [
       "(17912, 30)"
      ]
     },
     "execution_count": 45,
     "metadata": {},
     "output_type": "execute_result"
    }
   ],
   "source": [
    "df[df['ReviewStatus'] == 'reviewed by expert panel'].shape"
   ]
  },
  {
   "cell_type": "code",
   "execution_count": 46,
   "metadata": {},
   "outputs": [
    {
     "data": {
      "text/plain": [
       "(67319, 30)"
      ]
     },
     "execution_count": 46,
     "metadata": {},
     "output_type": "execute_result"
    }
   ],
   "source": [
    "df[df['ReviewStatus'] == 'criteria provided, multiple submitters, no conflicts'].shape"
   ]
  },
  {
   "cell_type": "code",
   "execution_count": 47,
   "metadata": {
    "collapsed": true
   },
   "outputs": [],
   "source": [
    "df = pd.concat([df[df['ReviewStatus'] == 'reviewed by expert panel'], df[df['ReviewStatus'] == 'criteria provided, multiple submitters, no conflicts']])"
   ]
  },
  {
   "cell_type": "code",
   "execution_count": 48,
   "metadata": {},
   "outputs": [
    {
     "data": {
      "text/plain": [
       "(85231, 30)"
      ]
     },
     "execution_count": 48,
     "metadata": {},
     "output_type": "execute_result"
    }
   ],
   "source": [
    "df.shape"
   ]
  },
  {
   "cell_type": "markdown",
   "metadata": {},
   "source": [
    "### Drop all data with ClinSigSimple of 0"
   ]
  },
  {
   "cell_type": "code",
   "execution_count": 49,
   "metadata": {
    "collapsed": true
   },
   "outputs": [],
   "source": [
    "df = df[['GeneSymbol', 'PhenotypeList', 'ClinicalSignificance']]"
   ]
  },
  {
   "cell_type": "code",
   "execution_count": 50,
   "metadata": {
    "collapsed": true
   },
   "outputs": [],
   "source": [
    "df.replace(0, np.nan, inplace=True)"
   ]
  },
  {
   "cell_type": "code",
   "execution_count": 51,
   "metadata": {
    "collapsed": true
   },
   "outputs": [],
   "source": [
    "df.dropna(how=\"any\", inplace=True)"
   ]
  },
  {
   "cell_type": "markdown",
   "metadata": {},
   "source": [
    "### Get gene symbol and phenotype "
   ]
  },
  {
   "cell_type": "code",
   "execution_count": 52,
   "metadata": {
    "collapsed": true
   },
   "outputs": [],
   "source": [
    "df = df[['GeneSymbol', 'PhenotypeList']]"
   ]
  },
  {
   "cell_type": "code",
   "execution_count": 53,
   "metadata": {},
   "outputs": [
    {
     "data": {
      "text/html": [
       "<div>\n",
       "<style scoped>\n",
       "    .dataframe tbody tr th:only-of-type {\n",
       "        vertical-align: middle;\n",
       "    }\n",
       "\n",
       "    .dataframe tbody tr th {\n",
       "        vertical-align: top;\n",
       "    }\n",
       "\n",
       "    .dataframe thead th {\n",
       "        text-align: right;\n",
       "    }\n",
       "</style>\n",
       "<table border=\"1\" class=\"dataframe\">\n",
       "  <thead>\n",
       "    <tr style=\"text-align: right;\">\n",
       "      <th></th>\n",
       "      <th>GeneSymbol</th>\n",
       "      <th>PhenotypeList</th>\n",
       "    </tr>\n",
       "  </thead>\n",
       "  <tbody>\n",
       "    <tr>\n",
       "      <th>10740</th>\n",
       "      <td>DPYD</td>\n",
       "      <td>Dihydropyrimidine dehydrogenase deficiency;Flu...</td>\n",
       "    </tr>\n",
       "    <tr>\n",
       "      <th>10741</th>\n",
       "      <td>DPYD</td>\n",
       "      <td>Dihydropyrimidine dehydrogenase deficiency;Flu...</td>\n",
       "    </tr>\n",
       "    <tr>\n",
       "      <th>10742</th>\n",
       "      <td>DPYD</td>\n",
       "      <td>Dihydropyrimidine dehydrogenase deficiency;Flu...</td>\n",
       "    </tr>\n",
       "    <tr>\n",
       "      <th>11265</th>\n",
       "      <td>NAT2</td>\n",
       "      <td>Slow acetylator due to N-acetyltransferase enz...</td>\n",
       "    </tr>\n",
       "    <tr>\n",
       "      <th>11266</th>\n",
       "      <td>NAT2</td>\n",
       "      <td>Slow acetylator due to N-acetyltransferase enz...</td>\n",
       "    </tr>\n",
       "  </tbody>\n",
       "</table>\n",
       "</div>"
      ],
      "text/plain": [
       "      GeneSymbol                                      PhenotypeList\n",
       "10740       DPYD  Dihydropyrimidine dehydrogenase deficiency;Flu...\n",
       "10741       DPYD  Dihydropyrimidine dehydrogenase deficiency;Flu...\n",
       "10742       DPYD  Dihydropyrimidine dehydrogenase deficiency;Flu...\n",
       "11265       NAT2  Slow acetylator due to N-acetyltransferase enz...\n",
       "11266       NAT2  Slow acetylator due to N-acetyltransferase enz..."
      ]
     },
     "execution_count": 53,
     "metadata": {},
     "output_type": "execute_result"
    }
   ],
   "source": [
    "df.head()"
   ]
  },
  {
   "cell_type": "code",
   "execution_count": 54,
   "metadata": {
    "collapsed": true
   },
   "outputs": [],
   "source": [
    "df.drop_duplicates(inplace=True)"
   ]
  },
  {
   "cell_type": "code",
   "execution_count": 55,
   "metadata": {},
   "outputs": [
    {
     "data": {
      "text/plain": [
       "(7363, 2)"
      ]
     },
     "execution_count": 55,
     "metadata": {},
     "output_type": "execute_result"
    }
   ],
   "source": [
    "df.shape"
   ]
  },
  {
   "cell_type": "code",
   "execution_count": 56,
   "metadata": {},
   "outputs": [
    {
     "name": "stdout",
     "output_type": "stream",
     "text": [
      "Progeres: 0%  59 Out of 7363   \r"
     ]
    },
    {
     "name": "stderr",
     "output_type": "stream",
     "text": [
      "/Users/moshesilverstein/anaconda/lib/python3.5/site-packages/ipykernel/__main__.py:11: DeprecationWarning: \n",
      ".ix is deprecated. Please use\n",
      ".loc for label based indexing or\n",
      ".iloc for positional indexing\n",
      "\n",
      "See the documentation here:\n",
      "http://pandas.pydata.org/pandas-docs/stable/indexing.html#ix-indexer-is-deprecated\n"
     ]
    },
    {
     "name": "stdout",
     "output_type": "stream",
     "text": [
      "Progeres: 100%  7363 Out of 7363   \r"
     ]
    }
   ],
   "source": [
    "df_interactions = pd.DataFrame()\n",
    "\n",
    "for i, index in enumerate(df.index):\n",
    "    \n",
    "    progressPercent = ((i+1)/len(df.index))*100\n",
    "\n",
    "    sys.stdout.write(\"Progeres: %d%%  %d Out of %d   \\r\" % (progressPercent, (i+1), len(df.index)))\n",
    "    sys.stdout.flush()\n",
    "    \n",
    "    \n",
    "    lst2 = df.ix[index, 'PhenotypeList'].split(';')\n",
    "    lst1 = [df.ix[index, 'GeneSymbol']]*(len(lst2))\n",
    "    temp = pd.DataFrame()\n",
    "    temp['GeneSymbol'] = lst1\n",
    "    temp['Phenotype'] = lst2\n",
    "    df_interactions = pd.concat([df_interactions, temp]) "
   ]
  },
  {
   "cell_type": "code",
   "execution_count": 57,
   "metadata": {},
   "outputs": [
    {
     "data": {
      "text/html": [
       "<div>\n",
       "<style scoped>\n",
       "    .dataframe tbody tr th:only-of-type {\n",
       "        vertical-align: middle;\n",
       "    }\n",
       "\n",
       "    .dataframe tbody tr th {\n",
       "        vertical-align: top;\n",
       "    }\n",
       "\n",
       "    .dataframe thead th {\n",
       "        text-align: right;\n",
       "    }\n",
       "</style>\n",
       "<table border=\"1\" class=\"dataframe\">\n",
       "  <thead>\n",
       "    <tr style=\"text-align: right;\">\n",
       "      <th></th>\n",
       "      <th>GeneSymbol</th>\n",
       "      <th>Phenotype</th>\n",
       "    </tr>\n",
       "  </thead>\n",
       "  <tbody>\n",
       "    <tr>\n",
       "      <th>0</th>\n",
       "      <td>DPYD</td>\n",
       "      <td>Dihydropyrimidine dehydrogenase deficiency</td>\n",
       "    </tr>\n",
       "    <tr>\n",
       "      <th>1</th>\n",
       "      <td>DPYD</td>\n",
       "      <td>Fluorouracil response</td>\n",
       "    </tr>\n",
       "    <tr>\n",
       "      <th>2</th>\n",
       "      <td>DPYD</td>\n",
       "      <td>Hirschsprung disease 1</td>\n",
       "    </tr>\n",
       "    <tr>\n",
       "      <th>3</th>\n",
       "      <td>DPYD</td>\n",
       "      <td>Pyrimidine analogues response - Toxicity/ADR</td>\n",
       "    </tr>\n",
       "    <tr>\n",
       "      <th>4</th>\n",
       "      <td>DPYD</td>\n",
       "      <td>capecitabine response - Toxicity/ADR</td>\n",
       "    </tr>\n",
       "  </tbody>\n",
       "</table>\n",
       "</div>"
      ],
      "text/plain": [
       "  GeneSymbol                                     Phenotype\n",
       "0       DPYD    Dihydropyrimidine dehydrogenase deficiency\n",
       "1       DPYD                         Fluorouracil response\n",
       "2       DPYD                        Hirschsprung disease 1\n",
       "3       DPYD  Pyrimidine analogues response - Toxicity/ADR\n",
       "4       DPYD          capecitabine response - Toxicity/ADR"
      ]
     },
     "execution_count": 57,
     "metadata": {},
     "output_type": "execute_result"
    }
   ],
   "source": [
    "df_interactions.head()"
   ]
  },
  {
   "cell_type": "code",
   "execution_count": 58,
   "metadata": {},
   "outputs": [
    {
     "data": {
      "text/plain": [
       "(20930, 2)"
      ]
     },
     "execution_count": 58,
     "metadata": {},
     "output_type": "execute_result"
    }
   ],
   "source": [
    "df_interactions.shape"
   ]
  },
  {
   "cell_type": "markdown",
   "metadata": {},
   "source": [
    "# Drop all \"not provided\" data"
   ]
  },
  {
   "cell_type": "code",
   "execution_count": 59,
   "metadata": {
    "collapsed": true
   },
   "outputs": [],
   "source": [
    "df_interactions.replace('not provided', np.nan, inplace=True)"
   ]
  },
  {
   "cell_type": "code",
   "execution_count": 60,
   "metadata": {
    "collapsed": true
   },
   "outputs": [],
   "source": [
    "df_interactions.dropna(how='any', inplace=True)"
   ]
  },
  {
   "cell_type": "code",
   "execution_count": 61,
   "metadata": {},
   "outputs": [
    {
     "data": {
      "text/plain": [
       "(18317, 2)"
      ]
     },
     "execution_count": 61,
     "metadata": {},
     "output_type": "execute_result"
    }
   ],
   "source": [
    "df_interactions.shape"
   ]
  },
  {
   "cell_type": "markdown",
   "metadata": {},
   "source": [
    "# Map Gene Symbols To Up-to-date Approved Gene Symbols"
   ]
  },
  {
   "cell_type": "code",
   "execution_count": 62,
   "metadata": {
    "collapsed": true
   },
   "outputs": [],
   "source": [
    "df_interactions.set_index('GeneSymbol', inplace=True)"
   ]
  },
  {
   "cell_type": "code",
   "execution_count": 63,
   "metadata": {},
   "outputs": [
    {
     "name": "stdout",
     "output_type": "stream",
     "text": [
      "Progeres: 100%  18317 Out of 18317   \r"
     ]
    }
   ],
   "source": [
    "uf.mapgenesymbols(df_interactions)"
   ]
  },
  {
   "cell_type": "code",
   "execution_count": 64,
   "metadata": {
    "collapsed": true
   },
   "outputs": [],
   "source": [
    "df_interactions.reset_index(inplace=True)"
   ]
  },
  {
   "cell_type": "code",
   "execution_count": 65,
   "metadata": {
    "collapsed": true
   },
   "outputs": [],
   "source": [
    "df_interactions.drop_duplicates(inplace=True)"
   ]
  },
  {
   "cell_type": "code",
   "execution_count": 66,
   "metadata": {},
   "outputs": [
    {
     "data": {
      "text/plain": [
       "(6663, 2)"
      ]
     },
     "execution_count": 66,
     "metadata": {},
     "output_type": "execute_result"
    }
   ],
   "source": [
    "df_interactions.shape"
   ]
  },
  {
   "cell_type": "markdown",
   "metadata": {},
   "source": [
    "# Create Binary Matrix"
   ]
  },
  {
   "cell_type": "code",
   "execution_count": 67,
   "metadata": {},
   "outputs": [
    {
     "name": "stdout",
     "output_type": "stream",
     "text": [
      "Progeres: 100%  1952 Out of 1952   \r"
     ]
    }
   ],
   "source": [
    "binary_matrix = uf.createBinaryMatix(df_interactions)"
   ]
  },
  {
   "cell_type": "code",
   "execution_count": 68,
   "metadata": {},
   "outputs": [
    {
     "data": {
      "text/html": [
       "<div>\n",
       "<style scoped>\n",
       "    .dataframe tbody tr th:only-of-type {\n",
       "        vertical-align: middle;\n",
       "    }\n",
       "\n",
       "    .dataframe tbody tr th {\n",
       "        vertical-align: top;\n",
       "    }\n",
       "\n",
       "    .dataframe thead th {\n",
       "        text-align: right;\n",
       "    }\n",
       "</style>\n",
       "<table border=\"1\" class=\"dataframe\">\n",
       "  <thead>\n",
       "    <tr style=\"text-align: right;\">\n",
       "      <th></th>\n",
       "      <th>Mental retardation, autosomal recessive 13</th>\n",
       "      <th>Atrioventricular septal defect 4</th>\n",
       "      <th>Congenital muscular dystrophy-dystroglycanopathy with brain and eye anomalies type A5</th>\n",
       "      <th>Dementia, Deafness, and Sensory Neuropathy</th>\n",
       "      <th>Adult hypophosphatasia</th>\n",
       "      <th>Glycogen storage disease, type VII</th>\n",
       "      <th>Isolated GnRH Deficiency</th>\n",
       "      <th>Familial cold urticaria</th>\n",
       "      <th>PI, M1A</th>\n",
       "      <th>Congenital disorder of glycosylation type 1C</th>\n",
       "      <th>...</th>\n",
       "      <th>Aplastic anemia</th>\n",
       "      <th>Autoinflammation with infantile enterocolitis</th>\n",
       "      <th>Vasculopathy, retinal, with cerebral leukodystrophy</th>\n",
       "      <th>Congenital heart disease</th>\n",
       "      <th>Limb-girdle muscular dystrophy-dystroglycanopathy, type C1</th>\n",
       "      <th>Myopathy, RYR1-associated</th>\n",
       "      <th>Microcephalic osteodysplastic primordial dwarfism type 2</th>\n",
       "      <th>Dubin-Johnson syndrome</th>\n",
       "      <th>amisulpride response - Toxicity/ADR</th>\n",
       "      <th>Pulmonary disease, chronic obstructive, susceptibility to</th>\n",
       "    </tr>\n",
       "  </thead>\n",
       "  <tbody>\n",
       "    <tr>\n",
       "      <th>ATP2C1</th>\n",
       "      <td>0</td>\n",
       "      <td>0</td>\n",
       "      <td>0</td>\n",
       "      <td>0</td>\n",
       "      <td>0</td>\n",
       "      <td>0</td>\n",
       "      <td>0</td>\n",
       "      <td>0</td>\n",
       "      <td>0</td>\n",
       "      <td>0</td>\n",
       "      <td>...</td>\n",
       "      <td>0</td>\n",
       "      <td>0</td>\n",
       "      <td>0</td>\n",
       "      <td>0</td>\n",
       "      <td>0</td>\n",
       "      <td>0</td>\n",
       "      <td>0</td>\n",
       "      <td>0</td>\n",
       "      <td>0</td>\n",
       "      <td>0</td>\n",
       "    </tr>\n",
       "    <tr>\n",
       "      <th>PRKCA</th>\n",
       "      <td>0</td>\n",
       "      <td>0</td>\n",
       "      <td>0</td>\n",
       "      <td>0</td>\n",
       "      <td>0</td>\n",
       "      <td>0</td>\n",
       "      <td>0</td>\n",
       "      <td>0</td>\n",
       "      <td>0</td>\n",
       "      <td>0</td>\n",
       "      <td>...</td>\n",
       "      <td>0</td>\n",
       "      <td>0</td>\n",
       "      <td>0</td>\n",
       "      <td>0</td>\n",
       "      <td>0</td>\n",
       "      <td>0</td>\n",
       "      <td>0</td>\n",
       "      <td>0</td>\n",
       "      <td>0</td>\n",
       "      <td>0</td>\n",
       "    </tr>\n",
       "    <tr>\n",
       "      <th>MERTK</th>\n",
       "      <td>0</td>\n",
       "      <td>0</td>\n",
       "      <td>0</td>\n",
       "      <td>0</td>\n",
       "      <td>0</td>\n",
       "      <td>0</td>\n",
       "      <td>0</td>\n",
       "      <td>0</td>\n",
       "      <td>0</td>\n",
       "      <td>0</td>\n",
       "      <td>...</td>\n",
       "      <td>0</td>\n",
       "      <td>0</td>\n",
       "      <td>0</td>\n",
       "      <td>0</td>\n",
       "      <td>0</td>\n",
       "      <td>0</td>\n",
       "      <td>0</td>\n",
       "      <td>0</td>\n",
       "      <td>0</td>\n",
       "      <td>0</td>\n",
       "    </tr>\n",
       "    <tr>\n",
       "      <th>RFXANK</th>\n",
       "      <td>0</td>\n",
       "      <td>0</td>\n",
       "      <td>0</td>\n",
       "      <td>0</td>\n",
       "      <td>0</td>\n",
       "      <td>0</td>\n",
       "      <td>0</td>\n",
       "      <td>0</td>\n",
       "      <td>0</td>\n",
       "      <td>0</td>\n",
       "      <td>...</td>\n",
       "      <td>0</td>\n",
       "      <td>0</td>\n",
       "      <td>0</td>\n",
       "      <td>0</td>\n",
       "      <td>0</td>\n",
       "      <td>0</td>\n",
       "      <td>0</td>\n",
       "      <td>0</td>\n",
       "      <td>0</td>\n",
       "      <td>0</td>\n",
       "    </tr>\n",
       "    <tr>\n",
       "      <th>NTRK1</th>\n",
       "      <td>0</td>\n",
       "      <td>0</td>\n",
       "      <td>0</td>\n",
       "      <td>0</td>\n",
       "      <td>0</td>\n",
       "      <td>0</td>\n",
       "      <td>0</td>\n",
       "      <td>0</td>\n",
       "      <td>0</td>\n",
       "      <td>0</td>\n",
       "      <td>...</td>\n",
       "      <td>0</td>\n",
       "      <td>0</td>\n",
       "      <td>0</td>\n",
       "      <td>0</td>\n",
       "      <td>0</td>\n",
       "      <td>0</td>\n",
       "      <td>0</td>\n",
       "      <td>0</td>\n",
       "      <td>0</td>\n",
       "      <td>0</td>\n",
       "    </tr>\n",
       "  </tbody>\n",
       "</table>\n",
       "<p>5 rows × 2934 columns</p>\n",
       "</div>"
      ],
      "text/plain": [
       "        Mental retardation, autosomal recessive 13  \\\n",
       "ATP2C1                                           0   \n",
       "PRKCA                                            0   \n",
       "MERTK                                            0   \n",
       "RFXANK                                           0   \n",
       "NTRK1                                            0   \n",
       "\n",
       "        Atrioventricular septal defect 4  \\\n",
       "ATP2C1                                 0   \n",
       "PRKCA                                  0   \n",
       "MERTK                                  0   \n",
       "RFXANK                                 0   \n",
       "NTRK1                                  0   \n",
       "\n",
       "        Congenital muscular dystrophy-dystroglycanopathy with brain and eye anomalies type A5  \\\n",
       "ATP2C1                                                  0                                       \n",
       "PRKCA                                                   0                                       \n",
       "MERTK                                                   0                                       \n",
       "RFXANK                                                  0                                       \n",
       "NTRK1                                                   0                                       \n",
       "\n",
       "        Dementia, Deafness, and Sensory Neuropathy  Adult hypophosphatasia  \\\n",
       "ATP2C1                                           0                       0   \n",
       "PRKCA                                            0                       0   \n",
       "MERTK                                            0                       0   \n",
       "RFXANK                                           0                       0   \n",
       "NTRK1                                            0                       0   \n",
       "\n",
       "        Glycogen storage disease, type VII  Isolated GnRH Deficiency  \\\n",
       "ATP2C1                                   0                         0   \n",
       "PRKCA                                    0                         0   \n",
       "MERTK                                    0                         0   \n",
       "RFXANK                                   0                         0   \n",
       "NTRK1                                    0                         0   \n",
       "\n",
       "        Familial cold urticaria  PI, M1A  \\\n",
       "ATP2C1                        0        0   \n",
       "PRKCA                         0        0   \n",
       "MERTK                         0        0   \n",
       "RFXANK                        0        0   \n",
       "NTRK1                         0        0   \n",
       "\n",
       "        Congenital disorder of glycosylation type 1C  \\\n",
       "ATP2C1                                             0   \n",
       "PRKCA                                              0   \n",
       "MERTK                                              0   \n",
       "RFXANK                                             0   \n",
       "NTRK1                                              0   \n",
       "\n",
       "                                  ...                              \\\n",
       "ATP2C1                            ...                               \n",
       "PRKCA                             ...                               \n",
       "MERTK                             ...                               \n",
       "RFXANK                            ...                               \n",
       "NTRK1                             ...                               \n",
       "\n",
       "        Aplastic anemia  Autoinflammation with infantile enterocolitis  \\\n",
       "ATP2C1                0                                              0   \n",
       "PRKCA                 0                                              0   \n",
       "MERTK                 0                                              0   \n",
       "RFXANK                0                                              0   \n",
       "NTRK1                 0                                              0   \n",
       "\n",
       "        Vasculopathy, retinal, with cerebral leukodystrophy  \\\n",
       "ATP2C1                                                  0     \n",
       "PRKCA                                                   0     \n",
       "MERTK                                                   0     \n",
       "RFXANK                                                  0     \n",
       "NTRK1                                                   0     \n",
       "\n",
       "        Congenital heart disease  \\\n",
       "ATP2C1                         0   \n",
       "PRKCA                          0   \n",
       "MERTK                          0   \n",
       "RFXANK                         0   \n",
       "NTRK1                          0   \n",
       "\n",
       "        Limb-girdle muscular dystrophy-dystroglycanopathy, type C1  \\\n",
       "ATP2C1                                                  0            \n",
       "PRKCA                                                   0            \n",
       "MERTK                                                   0            \n",
       "RFXANK                                                  0            \n",
       "NTRK1                                                   0            \n",
       "\n",
       "        Myopathy, RYR1-associated  \\\n",
       "ATP2C1                          0   \n",
       "PRKCA                           0   \n",
       "MERTK                           0   \n",
       "RFXANK                          0   \n",
       "NTRK1                           0   \n",
       "\n",
       "        Microcephalic osteodysplastic primordial dwarfism type 2  \\\n",
       "ATP2C1                                                  0          \n",
       "PRKCA                                                   0          \n",
       "MERTK                                                   0          \n",
       "RFXANK                                                  0          \n",
       "NTRK1                                                   0          \n",
       "\n",
       "        Dubin-Johnson syndrome  amisulpride response - Toxicity/ADR  \\\n",
       "ATP2C1                       0                                    0   \n",
       "PRKCA                        0                                    0   \n",
       "MERTK                        0                                    0   \n",
       "RFXANK                       0                                    0   \n",
       "NTRK1                        0                                    0   \n",
       "\n",
       "        Pulmonary disease, chronic obstructive, susceptibility to  \n",
       "ATP2C1                                                  0          \n",
       "PRKCA                                                   0          \n",
       "MERTK                                                   0          \n",
       "RFXANK                                                  0          \n",
       "NTRK1                                                   0          \n",
       "\n",
       "[5 rows x 2934 columns]"
      ]
     },
     "execution_count": 68,
     "metadata": {},
     "output_type": "execute_result"
    }
   ],
   "source": [
    "binary_matrix.head()"
   ]
  },
  {
   "cell_type": "code",
   "execution_count": 69,
   "metadata": {},
   "outputs": [
    {
     "data": {
      "text/plain": [
       "(1952, 2934)"
      ]
     },
     "execution_count": 69,
     "metadata": {},
     "output_type": "execute_result"
    }
   ],
   "source": [
    "binary_matrix.shape"
   ]
  },
  {
   "cell_type": "markdown",
   "metadata": {},
   "source": [
    "# Save Binary Matrix"
   ]
  },
  {
   "cell_type": "code",
   "execution_count": 70,
   "metadata": {
    "collapsed": true
   },
   "outputs": [],
   "source": [
    "filename = '~/./Documents/Harmonizome/ClinVar/Output/clinvar_binary_matrix_%s.tsv.zip'% str(datetime.date.today())[0:7].replace('-', '_')\n",
    "binary_matrix.to_csv(filename, sep='\\t', compression='gzip')"
   ]
  },
  {
   "cell_type": "markdown",
   "metadata": {},
   "source": [
    "# Create Gene Set Library"
   ]
  },
  {
   "cell_type": "code",
   "execution_count": 71,
   "metadata": {
    "collapsed": true
   },
   "outputs": [],
   "source": [
    "path = '/Users/moshesilverstein/Documents/Harmonizome/ClinVar/Output/'"
   ]
  },
  {
   "cell_type": "code",
   "execution_count": 72,
   "metadata": {
    "collapsed": true
   },
   "outputs": [],
   "source": [
    "name = 'clinvar_gene_set'"
   ]
  },
  {
   "cell_type": "code",
   "execution_count": 73,
   "metadata": {},
   "outputs": [
    {
     "name": "stdout",
     "output_type": "stream",
     "text": [
      "Progeres: 100%  2934 Out of 2934   \r"
     ]
    }
   ],
   "source": [
    "uf.createUpGeneSetLib(binary_matrix, path, name)"
   ]
  },
  {
   "cell_type": "markdown",
   "metadata": {},
   "source": [
    "# Create Attribute Library"
   ]
  },
  {
   "cell_type": "code",
   "execution_count": 74,
   "metadata": {
    "collapsed": true
   },
   "outputs": [],
   "source": [
    "path = '/Users/moshesilverstein/Documents/Harmonizome/ClinVar/Output/'"
   ]
  },
  {
   "cell_type": "code",
   "execution_count": 75,
   "metadata": {
    "collapsed": true
   },
   "outputs": [],
   "source": [
    "name = 'clinvar_attribute_set'"
   ]
  },
  {
   "cell_type": "code",
   "execution_count": 76,
   "metadata": {},
   "outputs": [
    {
     "name": "stdout",
     "output_type": "stream",
     "text": [
      "Progeres: 100%  1952 Out of 1952   \r"
     ]
    }
   ],
   "source": [
    "uf.createUpAttributeSetLib(binary_matrix, path, name)"
   ]
  },
  {
   "cell_type": "markdown",
   "metadata": {},
   "source": [
    "# Create Gene Similarity Matrix"
   ]
  },
  {
   "cell_type": "code",
   "execution_count": 77,
   "metadata": {
    "collapsed": true
   },
   "outputs": [],
   "source": [
    "gene_similarity_matix = uf.createSimilarityMatrix(binary_matrix, 'jaccard')"
   ]
  },
  {
   "cell_type": "code",
   "execution_count": 78,
   "metadata": {},
   "outputs": [
    {
     "data": {
      "text/html": [
       "<div>\n",
       "<style scoped>\n",
       "    .dataframe tbody tr th:only-of-type {\n",
       "        vertical-align: middle;\n",
       "    }\n",
       "\n",
       "    .dataframe tbody tr th {\n",
       "        vertical-align: top;\n",
       "    }\n",
       "\n",
       "    .dataframe thead th {\n",
       "        text-align: right;\n",
       "    }\n",
       "</style>\n",
       "<table border=\"1\" class=\"dataframe\">\n",
       "  <thead>\n",
       "    <tr style=\"text-align: right;\">\n",
       "      <th></th>\n",
       "      <th>ATP2C1</th>\n",
       "      <th>PRKCA</th>\n",
       "      <th>MERTK</th>\n",
       "      <th>RFXANK</th>\n",
       "      <th>NTRK1</th>\n",
       "      <th>CTDP1</th>\n",
       "      <th>CRYBB3</th>\n",
       "      <th>GAMT</th>\n",
       "      <th>LAMC3</th>\n",
       "      <th>MMP13</th>\n",
       "      <th>...</th>\n",
       "      <th>PRKCG</th>\n",
       "      <th>ADAM9</th>\n",
       "      <th>CSPP1</th>\n",
       "      <th>WWOX</th>\n",
       "      <th>RHO</th>\n",
       "      <th>ZMYND11</th>\n",
       "      <th>PCCB</th>\n",
       "      <th>PUS1</th>\n",
       "      <th>ALPK3</th>\n",
       "      <th>ARG1</th>\n",
       "    </tr>\n",
       "  </thead>\n",
       "  <tbody>\n",
       "    <tr>\n",
       "      <th>ATP2C1</th>\n",
       "      <td>1.000000</td>\n",
       "      <td>0.0</td>\n",
       "      <td>0.333333</td>\n",
       "      <td>0.333333</td>\n",
       "      <td>0.333333</td>\n",
       "      <td>0.5</td>\n",
       "      <td>0.333333</td>\n",
       "      <td>0.25</td>\n",
       "      <td>0.5</td>\n",
       "      <td>0.0</td>\n",
       "      <td>...</td>\n",
       "      <td>0.333333</td>\n",
       "      <td>0.333333</td>\n",
       "      <td>0.333333</td>\n",
       "      <td>0.2</td>\n",
       "      <td>0.25</td>\n",
       "      <td>0.0</td>\n",
       "      <td>0.333333</td>\n",
       "      <td>0.333333</td>\n",
       "      <td>0.333333</td>\n",
       "      <td>0.333333</td>\n",
       "    </tr>\n",
       "    <tr>\n",
       "      <th>PRKCA</th>\n",
       "      <td>0.000000</td>\n",
       "      <td>1.0</td>\n",
       "      <td>0.000000</td>\n",
       "      <td>0.000000</td>\n",
       "      <td>0.000000</td>\n",
       "      <td>0.0</td>\n",
       "      <td>0.000000</td>\n",
       "      <td>0.00</td>\n",
       "      <td>0.0</td>\n",
       "      <td>0.0</td>\n",
       "      <td>...</td>\n",
       "      <td>0.000000</td>\n",
       "      <td>0.000000</td>\n",
       "      <td>0.000000</td>\n",
       "      <td>0.0</td>\n",
       "      <td>0.00</td>\n",
       "      <td>0.0</td>\n",
       "      <td>0.000000</td>\n",
       "      <td>0.000000</td>\n",
       "      <td>0.000000</td>\n",
       "      <td>0.000000</td>\n",
       "    </tr>\n",
       "    <tr>\n",
       "      <th>MERTK</th>\n",
       "      <td>0.333333</td>\n",
       "      <td>0.0</td>\n",
       "      <td>1.000000</td>\n",
       "      <td>0.333333</td>\n",
       "      <td>0.333333</td>\n",
       "      <td>0.5</td>\n",
       "      <td>0.333333</td>\n",
       "      <td>0.25</td>\n",
       "      <td>0.5</td>\n",
       "      <td>0.0</td>\n",
       "      <td>...</td>\n",
       "      <td>0.333333</td>\n",
       "      <td>0.333333</td>\n",
       "      <td>0.333333</td>\n",
       "      <td>0.2</td>\n",
       "      <td>0.25</td>\n",
       "      <td>0.0</td>\n",
       "      <td>0.333333</td>\n",
       "      <td>0.333333</td>\n",
       "      <td>1.000000</td>\n",
       "      <td>0.333333</td>\n",
       "    </tr>\n",
       "    <tr>\n",
       "      <th>RFXANK</th>\n",
       "      <td>0.333333</td>\n",
       "      <td>0.0</td>\n",
       "      <td>0.333333</td>\n",
       "      <td>1.000000</td>\n",
       "      <td>0.333333</td>\n",
       "      <td>0.5</td>\n",
       "      <td>0.333333</td>\n",
       "      <td>0.25</td>\n",
       "      <td>0.5</td>\n",
       "      <td>0.0</td>\n",
       "      <td>...</td>\n",
       "      <td>0.333333</td>\n",
       "      <td>0.333333</td>\n",
       "      <td>0.333333</td>\n",
       "      <td>0.2</td>\n",
       "      <td>0.25</td>\n",
       "      <td>0.0</td>\n",
       "      <td>0.333333</td>\n",
       "      <td>0.333333</td>\n",
       "      <td>0.333333</td>\n",
       "      <td>0.333333</td>\n",
       "    </tr>\n",
       "    <tr>\n",
       "      <th>NTRK1</th>\n",
       "      <td>0.333333</td>\n",
       "      <td>0.0</td>\n",
       "      <td>0.333333</td>\n",
       "      <td>0.333333</td>\n",
       "      <td>1.000000</td>\n",
       "      <td>0.5</td>\n",
       "      <td>0.333333</td>\n",
       "      <td>0.25</td>\n",
       "      <td>0.5</td>\n",
       "      <td>0.0</td>\n",
       "      <td>...</td>\n",
       "      <td>0.333333</td>\n",
       "      <td>0.333333</td>\n",
       "      <td>0.333333</td>\n",
       "      <td>0.2</td>\n",
       "      <td>0.25</td>\n",
       "      <td>0.0</td>\n",
       "      <td>0.333333</td>\n",
       "      <td>0.333333</td>\n",
       "      <td>0.333333</td>\n",
       "      <td>0.333333</td>\n",
       "    </tr>\n",
       "  </tbody>\n",
       "</table>\n",
       "<p>5 rows × 1952 columns</p>\n",
       "</div>"
      ],
      "text/plain": [
       "          ATP2C1  PRKCA     MERTK    RFXANK     NTRK1  CTDP1    CRYBB3  GAMT  \\\n",
       "ATP2C1  1.000000    0.0  0.333333  0.333333  0.333333    0.5  0.333333  0.25   \n",
       "PRKCA   0.000000    1.0  0.000000  0.000000  0.000000    0.0  0.000000  0.00   \n",
       "MERTK   0.333333    0.0  1.000000  0.333333  0.333333    0.5  0.333333  0.25   \n",
       "RFXANK  0.333333    0.0  0.333333  1.000000  0.333333    0.5  0.333333  0.25   \n",
       "NTRK1   0.333333    0.0  0.333333  0.333333  1.000000    0.5  0.333333  0.25   \n",
       "\n",
       "        LAMC3  MMP13    ...        PRKCG     ADAM9     CSPP1  WWOX   RHO  \\\n",
       "ATP2C1    0.5    0.0    ...     0.333333  0.333333  0.333333   0.2  0.25   \n",
       "PRKCA     0.0    0.0    ...     0.000000  0.000000  0.000000   0.0  0.00   \n",
       "MERTK     0.5    0.0    ...     0.333333  0.333333  0.333333   0.2  0.25   \n",
       "RFXANK    0.5    0.0    ...     0.333333  0.333333  0.333333   0.2  0.25   \n",
       "NTRK1     0.5    0.0    ...     0.333333  0.333333  0.333333   0.2  0.25   \n",
       "\n",
       "        ZMYND11      PCCB      PUS1     ALPK3      ARG1  \n",
       "ATP2C1      0.0  0.333333  0.333333  0.333333  0.333333  \n",
       "PRKCA       0.0  0.000000  0.000000  0.000000  0.000000  \n",
       "MERTK       0.0  0.333333  0.333333  1.000000  0.333333  \n",
       "RFXANK      0.0  0.333333  0.333333  0.333333  0.333333  \n",
       "NTRK1       0.0  0.333333  0.333333  0.333333  0.333333  \n",
       "\n",
       "[5 rows x 1952 columns]"
      ]
     },
     "execution_count": 78,
     "metadata": {},
     "output_type": "execute_result"
    }
   ],
   "source": [
    "gene_similarity_matix.head()"
   ]
  },
  {
   "cell_type": "markdown",
   "metadata": {},
   "source": [
    "# Save Gene Similarity Matrix"
   ]
  },
  {
   "cell_type": "code",
   "execution_count": 79,
   "metadata": {
    "collapsed": true
   },
   "outputs": [],
   "source": [
    "filename = '~/./Documents/Harmonizome/ClinVar/Output/clinvar_gene_similarity_matix_%s.tsv.zip'% str(datetime.date.today())[0:7].replace('-', '_')\n",
    "gene_similarity_matix.to_csv(filename, sep='\\t', compression='gzip')"
   ]
  },
  {
   "cell_type": "markdown",
   "metadata": {},
   "source": [
    "# Create Attribute Similarity matrix"
   ]
  },
  {
   "cell_type": "code",
   "execution_count": 80,
   "metadata": {
    "collapsed": true
   },
   "outputs": [],
   "source": [
    "attribute_similarity_matix = uf.createSimilarityMatrix(binary_matrix.T, 'jaccard')"
   ]
  },
  {
   "cell_type": "code",
   "execution_count": 81,
   "metadata": {},
   "outputs": [
    {
     "data": {
      "text/html": [
       "<div>\n",
       "<style scoped>\n",
       "    .dataframe tbody tr th:only-of-type {\n",
       "        vertical-align: middle;\n",
       "    }\n",
       "\n",
       "    .dataframe tbody tr th {\n",
       "        vertical-align: top;\n",
       "    }\n",
       "\n",
       "    .dataframe thead th {\n",
       "        text-align: right;\n",
       "    }\n",
       "</style>\n",
       "<table border=\"1\" class=\"dataframe\">\n",
       "  <thead>\n",
       "    <tr style=\"text-align: right;\">\n",
       "      <th></th>\n",
       "      <th>Mental retardation, autosomal recessive 13</th>\n",
       "      <th>Atrioventricular septal defect 4</th>\n",
       "      <th>Congenital muscular dystrophy-dystroglycanopathy with brain and eye anomalies type A5</th>\n",
       "      <th>Dementia, Deafness, and Sensory Neuropathy</th>\n",
       "      <th>Adult hypophosphatasia</th>\n",
       "      <th>Glycogen storage disease, type VII</th>\n",
       "      <th>Isolated GnRH Deficiency</th>\n",
       "      <th>Familial cold urticaria</th>\n",
       "      <th>PI, M1A</th>\n",
       "      <th>Congenital disorder of glycosylation type 1C</th>\n",
       "      <th>...</th>\n",
       "      <th>Aplastic anemia</th>\n",
       "      <th>Autoinflammation with infantile enterocolitis</th>\n",
       "      <th>Vasculopathy, retinal, with cerebral leukodystrophy</th>\n",
       "      <th>Congenital heart disease</th>\n",
       "      <th>Limb-girdle muscular dystrophy-dystroglycanopathy, type C1</th>\n",
       "      <th>Myopathy, RYR1-associated</th>\n",
       "      <th>Microcephalic osteodysplastic primordial dwarfism type 2</th>\n",
       "      <th>Dubin-Johnson syndrome</th>\n",
       "      <th>amisulpride response - Toxicity/ADR</th>\n",
       "      <th>Pulmonary disease, chronic obstructive, susceptibility to</th>\n",
       "    </tr>\n",
       "  </thead>\n",
       "  <tbody>\n",
       "    <tr>\n",
       "      <th>Mental retardation, autosomal recessive 13</th>\n",
       "      <td>1.0</td>\n",
       "      <td>0.0</td>\n",
       "      <td>0.0</td>\n",
       "      <td>0.0</td>\n",
       "      <td>0.0</td>\n",
       "      <td>0.0</td>\n",
       "      <td>0.0</td>\n",
       "      <td>0.0</td>\n",
       "      <td>0.0</td>\n",
       "      <td>0.0</td>\n",
       "      <td>...</td>\n",
       "      <td>0.0</td>\n",
       "      <td>0.0</td>\n",
       "      <td>0.0</td>\n",
       "      <td>0.0</td>\n",
       "      <td>0.0</td>\n",
       "      <td>0.0</td>\n",
       "      <td>0.0</td>\n",
       "      <td>0.0</td>\n",
       "      <td>0.0</td>\n",
       "      <td>0.0</td>\n",
       "    </tr>\n",
       "    <tr>\n",
       "      <th>Atrioventricular septal defect 4</th>\n",
       "      <td>0.0</td>\n",
       "      <td>1.0</td>\n",
       "      <td>0.0</td>\n",
       "      <td>0.0</td>\n",
       "      <td>0.0</td>\n",
       "      <td>0.0</td>\n",
       "      <td>0.0</td>\n",
       "      <td>0.0</td>\n",
       "      <td>0.0</td>\n",
       "      <td>0.0</td>\n",
       "      <td>...</td>\n",
       "      <td>0.0</td>\n",
       "      <td>0.0</td>\n",
       "      <td>0.0</td>\n",
       "      <td>0.0</td>\n",
       "      <td>0.0</td>\n",
       "      <td>0.0</td>\n",
       "      <td>0.0</td>\n",
       "      <td>0.0</td>\n",
       "      <td>0.0</td>\n",
       "      <td>0.0</td>\n",
       "    </tr>\n",
       "    <tr>\n",
       "      <th>Congenital muscular dystrophy-dystroglycanopathy with brain and eye anomalies type A5</th>\n",
       "      <td>0.0</td>\n",
       "      <td>0.0</td>\n",
       "      <td>1.0</td>\n",
       "      <td>0.0</td>\n",
       "      <td>0.0</td>\n",
       "      <td>0.0</td>\n",
       "      <td>0.0</td>\n",
       "      <td>0.0</td>\n",
       "      <td>0.0</td>\n",
       "      <td>0.0</td>\n",
       "      <td>...</td>\n",
       "      <td>0.0</td>\n",
       "      <td>0.0</td>\n",
       "      <td>0.0</td>\n",
       "      <td>0.0</td>\n",
       "      <td>0.0</td>\n",
       "      <td>0.0</td>\n",
       "      <td>0.0</td>\n",
       "      <td>0.0</td>\n",
       "      <td>0.0</td>\n",
       "      <td>0.0</td>\n",
       "    </tr>\n",
       "    <tr>\n",
       "      <th>Dementia, Deafness, and Sensory Neuropathy</th>\n",
       "      <td>0.0</td>\n",
       "      <td>0.0</td>\n",
       "      <td>0.0</td>\n",
       "      <td>1.0</td>\n",
       "      <td>0.0</td>\n",
       "      <td>0.0</td>\n",
       "      <td>0.0</td>\n",
       "      <td>0.0</td>\n",
       "      <td>0.0</td>\n",
       "      <td>0.0</td>\n",
       "      <td>...</td>\n",
       "      <td>0.0</td>\n",
       "      <td>0.0</td>\n",
       "      <td>0.0</td>\n",
       "      <td>0.0</td>\n",
       "      <td>0.0</td>\n",
       "      <td>0.0</td>\n",
       "      <td>0.0</td>\n",
       "      <td>0.0</td>\n",
       "      <td>0.0</td>\n",
       "      <td>0.0</td>\n",
       "    </tr>\n",
       "    <tr>\n",
       "      <th>Adult hypophosphatasia</th>\n",
       "      <td>0.0</td>\n",
       "      <td>0.0</td>\n",
       "      <td>0.0</td>\n",
       "      <td>0.0</td>\n",
       "      <td>1.0</td>\n",
       "      <td>0.0</td>\n",
       "      <td>0.0</td>\n",
       "      <td>0.0</td>\n",
       "      <td>0.0</td>\n",
       "      <td>0.0</td>\n",
       "      <td>...</td>\n",
       "      <td>0.0</td>\n",
       "      <td>0.0</td>\n",
       "      <td>0.0</td>\n",
       "      <td>0.0</td>\n",
       "      <td>0.0</td>\n",
       "      <td>0.0</td>\n",
       "      <td>0.0</td>\n",
       "      <td>0.0</td>\n",
       "      <td>0.0</td>\n",
       "      <td>0.0</td>\n",
       "    </tr>\n",
       "  </tbody>\n",
       "</table>\n",
       "<p>5 rows × 2934 columns</p>\n",
       "</div>"
      ],
      "text/plain": [
       "                                                    Mental retardation, autosomal recessive 13  \\\n",
       "Mental retardation, autosomal recessive 13                                                 1.0   \n",
       "Atrioventricular septal defect 4                                                           0.0   \n",
       "Congenital muscular dystrophy-dystroglycanopath...                                         0.0   \n",
       "Dementia, Deafness, and Sensory Neuropathy                                                 0.0   \n",
       "Adult hypophosphatasia                                                                     0.0   \n",
       "\n",
       "                                                    Atrioventricular septal defect 4  \\\n",
       "Mental retardation, autosomal recessive 13                                       0.0   \n",
       "Atrioventricular septal defect 4                                                 1.0   \n",
       "Congenital muscular dystrophy-dystroglycanopath...                               0.0   \n",
       "Dementia, Deafness, and Sensory Neuropathy                                       0.0   \n",
       "Adult hypophosphatasia                                                           0.0   \n",
       "\n",
       "                                                    Congenital muscular dystrophy-dystroglycanopathy with brain and eye anomalies type A5  \\\n",
       "Mental retardation, autosomal recessive 13                                                        0.0                                       \n",
       "Atrioventricular septal defect 4                                                                  0.0                                       \n",
       "Congenital muscular dystrophy-dystroglycanopath...                                                1.0                                       \n",
       "Dementia, Deafness, and Sensory Neuropathy                                                        0.0                                       \n",
       "Adult hypophosphatasia                                                                            0.0                                       \n",
       "\n",
       "                                                    Dementia, Deafness, and Sensory Neuropathy  \\\n",
       "Mental retardation, autosomal recessive 13                                                 0.0   \n",
       "Atrioventricular septal defect 4                                                           0.0   \n",
       "Congenital muscular dystrophy-dystroglycanopath...                                         0.0   \n",
       "Dementia, Deafness, and Sensory Neuropathy                                                 1.0   \n",
       "Adult hypophosphatasia                                                                     0.0   \n",
       "\n",
       "                                                    Adult hypophosphatasia  \\\n",
       "Mental retardation, autosomal recessive 13                             0.0   \n",
       "Atrioventricular septal defect 4                                       0.0   \n",
       "Congenital muscular dystrophy-dystroglycanopath...                     0.0   \n",
       "Dementia, Deafness, and Sensory Neuropathy                             0.0   \n",
       "Adult hypophosphatasia                                                 1.0   \n",
       "\n",
       "                                                    Glycogen storage disease, type VII  \\\n",
       "Mental retardation, autosomal recessive 13                                         0.0   \n",
       "Atrioventricular septal defect 4                                                   0.0   \n",
       "Congenital muscular dystrophy-dystroglycanopath...                                 0.0   \n",
       "Dementia, Deafness, and Sensory Neuropathy                                         0.0   \n",
       "Adult hypophosphatasia                                                             0.0   \n",
       "\n",
       "                                                    Isolated GnRH Deficiency  \\\n",
       "Mental retardation, autosomal recessive 13                               0.0   \n",
       "Atrioventricular septal defect 4                                         0.0   \n",
       "Congenital muscular dystrophy-dystroglycanopath...                       0.0   \n",
       "Dementia, Deafness, and Sensory Neuropathy                               0.0   \n",
       "Adult hypophosphatasia                                                   0.0   \n",
       "\n",
       "                                                    Familial cold urticaria  \\\n",
       "Mental retardation, autosomal recessive 13                              0.0   \n",
       "Atrioventricular septal defect 4                                        0.0   \n",
       "Congenital muscular dystrophy-dystroglycanopath...                      0.0   \n",
       "Dementia, Deafness, and Sensory Neuropathy                              0.0   \n",
       "Adult hypophosphatasia                                                  0.0   \n",
       "\n",
       "                                                    PI, M1A  \\\n",
       "Mental retardation, autosomal recessive 13              0.0   \n",
       "Atrioventricular septal defect 4                        0.0   \n",
       "Congenital muscular dystrophy-dystroglycanopath...      0.0   \n",
       "Dementia, Deafness, and Sensory Neuropathy              0.0   \n",
       "Adult hypophosphatasia                                  0.0   \n",
       "\n",
       "                                                    Congenital disorder of glycosylation type 1C  \\\n",
       "Mental retardation, autosomal recessive 13                                                   0.0   \n",
       "Atrioventricular septal defect 4                                                             0.0   \n",
       "Congenital muscular dystrophy-dystroglycanopath...                                           0.0   \n",
       "Dementia, Deafness, and Sensory Neuropathy                                                   0.0   \n",
       "Adult hypophosphatasia                                                                       0.0   \n",
       "\n",
       "                                                                              ...                              \\\n",
       "Mental retardation, autosomal recessive 13                                    ...                               \n",
       "Atrioventricular septal defect 4                                              ...                               \n",
       "Congenital muscular dystrophy-dystroglycanopath...                            ...                               \n",
       "Dementia, Deafness, and Sensory Neuropathy                                    ...                               \n",
       "Adult hypophosphatasia                                                        ...                               \n",
       "\n",
       "                                                    Aplastic anemia  \\\n",
       "Mental retardation, autosomal recessive 13                      0.0   \n",
       "Atrioventricular septal defect 4                                0.0   \n",
       "Congenital muscular dystrophy-dystroglycanopath...              0.0   \n",
       "Dementia, Deafness, and Sensory Neuropathy                      0.0   \n",
       "Adult hypophosphatasia                                          0.0   \n",
       "\n",
       "                                                    Autoinflammation with infantile enterocolitis  \\\n",
       "Mental retardation, autosomal recessive 13                                                    0.0   \n",
       "Atrioventricular septal defect 4                                                              0.0   \n",
       "Congenital muscular dystrophy-dystroglycanopath...                                            0.0   \n",
       "Dementia, Deafness, and Sensory Neuropathy                                                    0.0   \n",
       "Adult hypophosphatasia                                                                        0.0   \n",
       "\n",
       "                                                    Vasculopathy, retinal, with cerebral leukodystrophy  \\\n",
       "Mental retardation, autosomal recessive 13                                                        0.0     \n",
       "Atrioventricular septal defect 4                                                                  0.0     \n",
       "Congenital muscular dystrophy-dystroglycanopath...                                                0.0     \n",
       "Dementia, Deafness, and Sensory Neuropathy                                                        0.0     \n",
       "Adult hypophosphatasia                                                                            0.0     \n",
       "\n",
       "                                                    Congenital heart disease  \\\n",
       "Mental retardation, autosomal recessive 13                               0.0   \n",
       "Atrioventricular septal defect 4                                         0.0   \n",
       "Congenital muscular dystrophy-dystroglycanopath...                       0.0   \n",
       "Dementia, Deafness, and Sensory Neuropathy                               0.0   \n",
       "Adult hypophosphatasia                                                   0.0   \n",
       "\n",
       "                                                    Limb-girdle muscular dystrophy-dystroglycanopathy, type C1  \\\n",
       "Mental retardation, autosomal recessive 13                                                        0.0            \n",
       "Atrioventricular septal defect 4                                                                  0.0            \n",
       "Congenital muscular dystrophy-dystroglycanopath...                                                0.0            \n",
       "Dementia, Deafness, and Sensory Neuropathy                                                        0.0            \n",
       "Adult hypophosphatasia                                                                            0.0            \n",
       "\n",
       "                                                    Myopathy, RYR1-associated  \\\n",
       "Mental retardation, autosomal recessive 13                                0.0   \n",
       "Atrioventricular septal defect 4                                          0.0   \n",
       "Congenital muscular dystrophy-dystroglycanopath...                        0.0   \n",
       "Dementia, Deafness, and Sensory Neuropathy                                0.0   \n",
       "Adult hypophosphatasia                                                    0.0   \n",
       "\n",
       "                                                    Microcephalic osteodysplastic primordial dwarfism type 2  \\\n",
       "Mental retardation, autosomal recessive 13                                                        0.0          \n",
       "Atrioventricular septal defect 4                                                                  0.0          \n",
       "Congenital muscular dystrophy-dystroglycanopath...                                                0.0          \n",
       "Dementia, Deafness, and Sensory Neuropathy                                                        0.0          \n",
       "Adult hypophosphatasia                                                                            0.0          \n",
       "\n",
       "                                                    Dubin-Johnson syndrome  \\\n",
       "Mental retardation, autosomal recessive 13                             0.0   \n",
       "Atrioventricular septal defect 4                                       0.0   \n",
       "Congenital muscular dystrophy-dystroglycanopath...                     0.0   \n",
       "Dementia, Deafness, and Sensory Neuropathy                             0.0   \n",
       "Adult hypophosphatasia                                                 0.0   \n",
       "\n",
       "                                                    amisulpride response - Toxicity/ADR  \\\n",
       "Mental retardation, autosomal recessive 13                                          0.0   \n",
       "Atrioventricular septal defect 4                                                    0.0   \n",
       "Congenital muscular dystrophy-dystroglycanopath...                                  0.0   \n",
       "Dementia, Deafness, and Sensory Neuropathy                                          0.0   \n",
       "Adult hypophosphatasia                                                              0.0   \n",
       "\n",
       "                                                    Pulmonary disease, chronic obstructive, susceptibility to  \n",
       "Mental retardation, autosomal recessive 13                                                        0.0          \n",
       "Atrioventricular septal defect 4                                                                  0.0          \n",
       "Congenital muscular dystrophy-dystroglycanopath...                                                0.0          \n",
       "Dementia, Deafness, and Sensory Neuropathy                                                        0.0          \n",
       "Adult hypophosphatasia                                                                            0.0          \n",
       "\n",
       "[5 rows x 2934 columns]"
      ]
     },
     "execution_count": 81,
     "metadata": {},
     "output_type": "execute_result"
    }
   ],
   "source": [
    "attribute_similarity_matix.head()"
   ]
  },
  {
   "cell_type": "markdown",
   "metadata": {},
   "source": [
    "# Save Attribute Similarity Matrix"
   ]
  },
  {
   "cell_type": "code",
   "execution_count": 82,
   "metadata": {
    "collapsed": true
   },
   "outputs": [],
   "source": [
    "filename = '~/./Documents/Harmonizome/ClinVar/Output/clinvar_attribute_similarity_matix_%s.tsv.zip'% str(datetime.date.today())[0:7].replace('-', '_')\n",
    "attribute_similarity_matix.to_csv(filename, sep='\\t', compression='gzip')"
   ]
  },
  {
   "cell_type": "markdown",
   "metadata": {},
   "source": [
    "# Create Gene List"
   ]
  },
  {
   "cell_type": "code",
   "execution_count": 83,
   "metadata": {},
   "outputs": [
    {
     "name": "stdout",
     "output_type": "stream",
     "text": [
      "Progeres: 100%  1952 Out of 1952   \r"
     ]
    }
   ],
   "source": [
    "gene_list = uf.createGeneList(binary_matrix)"
   ]
  },
  {
   "cell_type": "code",
   "execution_count": 84,
   "metadata": {},
   "outputs": [
    {
     "data": {
      "text/html": [
       "<div>\n",
       "<style scoped>\n",
       "    .dataframe tbody tr th:only-of-type {\n",
       "        vertical-align: middle;\n",
       "    }\n",
       "\n",
       "    .dataframe tbody tr th {\n",
       "        vertical-align: top;\n",
       "    }\n",
       "\n",
       "    .dataframe thead th {\n",
       "        text-align: right;\n",
       "    }\n",
       "</style>\n",
       "<table border=\"1\" class=\"dataframe\">\n",
       "  <thead>\n",
       "    <tr style=\"text-align: right;\">\n",
       "      <th></th>\n",
       "      <th>GeneSym</th>\n",
       "      <th>GeneID</th>\n",
       "    </tr>\n",
       "  </thead>\n",
       "  <tbody>\n",
       "    <tr>\n",
       "      <th>0</th>\n",
       "      <td>ATP2C1</td>\n",
       "      <td>27032</td>\n",
       "    </tr>\n",
       "    <tr>\n",
       "      <th>1</th>\n",
       "      <td>PRKCA</td>\n",
       "      <td>5578</td>\n",
       "    </tr>\n",
       "    <tr>\n",
       "      <th>2</th>\n",
       "      <td>MERTK</td>\n",
       "      <td>10461</td>\n",
       "    </tr>\n",
       "    <tr>\n",
       "      <th>3</th>\n",
       "      <td>RFXANK</td>\n",
       "      <td>8625</td>\n",
       "    </tr>\n",
       "    <tr>\n",
       "      <th>4</th>\n",
       "      <td>NTRK1</td>\n",
       "      <td>4914</td>\n",
       "    </tr>\n",
       "  </tbody>\n",
       "</table>\n",
       "</div>"
      ],
      "text/plain": [
       "  GeneSym GeneID\n",
       "0  ATP2C1  27032\n",
       "1   PRKCA   5578\n",
       "2   MERTK  10461\n",
       "3  RFXANK   8625\n",
       "4   NTRK1   4914"
      ]
     },
     "execution_count": 84,
     "metadata": {},
     "output_type": "execute_result"
    }
   ],
   "source": [
    "gene_list.head()"
   ]
  },
  {
   "cell_type": "code",
   "execution_count": 85,
   "metadata": {},
   "outputs": [
    {
     "data": {
      "text/plain": [
       "(1952, 2)"
      ]
     },
     "execution_count": 85,
     "metadata": {},
     "output_type": "execute_result"
    }
   ],
   "source": [
    "gene_list.shape"
   ]
  },
  {
   "cell_type": "markdown",
   "metadata": {},
   "source": [
    "# Save Gene List"
   ]
  },
  {
   "cell_type": "code",
   "execution_count": 86,
   "metadata": {
    "collapsed": true
   },
   "outputs": [],
   "source": [
    "filename = '~/./Documents/Harmonizome/ClinVar/Output/clinvar_gene_list_%s.tsv.zip'% str(datetime.date.today())[0:7].replace('-', '_')\n",
    "gene_list.to_csv(filename, sep='\\t', index=False, compression='gzip')"
   ]
  },
  {
   "cell_type": "markdown",
   "metadata": {},
   "source": [
    "# Create Attribute List"
   ]
  },
  {
   "cell_type": "code",
   "execution_count": 87,
   "metadata": {
    "collapsed": true
   },
   "outputs": [],
   "source": [
    "attribute_list = uf.createAttributeList(binary_matrix)"
   ]
  },
  {
   "cell_type": "code",
   "execution_count": 88,
   "metadata": {},
   "outputs": [
    {
     "data": {
      "text/html": [
       "<div>\n",
       "<style scoped>\n",
       "    .dataframe tbody tr th:only-of-type {\n",
       "        vertical-align: middle;\n",
       "    }\n",
       "\n",
       "    .dataframe tbody tr th {\n",
       "        vertical-align: top;\n",
       "    }\n",
       "\n",
       "    .dataframe thead th {\n",
       "        text-align: right;\n",
       "    }\n",
       "</style>\n",
       "<table border=\"1\" class=\"dataframe\">\n",
       "  <thead>\n",
       "    <tr style=\"text-align: right;\">\n",
       "      <th></th>\n",
       "      <th>Attributes</th>\n",
       "    </tr>\n",
       "  </thead>\n",
       "  <tbody>\n",
       "    <tr>\n",
       "      <th>0</th>\n",
       "      <td>Mental retardation, autosomal recessive 13</td>\n",
       "    </tr>\n",
       "    <tr>\n",
       "      <th>1</th>\n",
       "      <td>Atrioventricular septal defect 4</td>\n",
       "    </tr>\n",
       "    <tr>\n",
       "      <th>2</th>\n",
       "      <td>Congenital muscular dystrophy-dystroglycanopat...</td>\n",
       "    </tr>\n",
       "    <tr>\n",
       "      <th>3</th>\n",
       "      <td>Dementia, Deafness, and Sensory Neuropathy</td>\n",
       "    </tr>\n",
       "    <tr>\n",
       "      <th>4</th>\n",
       "      <td>Adult hypophosphatasia</td>\n",
       "    </tr>\n",
       "  </tbody>\n",
       "</table>\n",
       "</div>"
      ],
      "text/plain": [
       "                                          Attributes\n",
       "0         Mental retardation, autosomal recessive 13\n",
       "1                   Atrioventricular septal defect 4\n",
       "2  Congenital muscular dystrophy-dystroglycanopat...\n",
       "3         Dementia, Deafness, and Sensory Neuropathy\n",
       "4                             Adult hypophosphatasia"
      ]
     },
     "execution_count": 88,
     "metadata": {},
     "output_type": "execute_result"
    }
   ],
   "source": [
    "attribute_list.head()"
   ]
  },
  {
   "cell_type": "code",
   "execution_count": 89,
   "metadata": {},
   "outputs": [
    {
     "data": {
      "text/plain": [
       "(2934, 1)"
      ]
     },
     "execution_count": 89,
     "metadata": {},
     "output_type": "execute_result"
    }
   ],
   "source": [
    "attribute_list.shape"
   ]
  },
  {
   "cell_type": "markdown",
   "metadata": {},
   "source": [
    "# Save Attribute List"
   ]
  },
  {
   "cell_type": "code",
   "execution_count": 90,
   "metadata": {
    "collapsed": true
   },
   "outputs": [],
   "source": [
    "filename = '~/./Documents/Harmonizome/ClinVar/Output/clinvar_attribute_list_%s.tsv.zip'% str(datetime.date.today())[0:7].replace('-', '_')\n",
    "attribute_list.to_csv(filename, sep='\\t', index=False, compression='gzip')"
   ]
  },
  {
   "cell_type": "markdown",
   "metadata": {},
   "source": [
    "# Create Gene-Attribute Edge List"
   ]
  },
  {
   "cell_type": "code",
   "execution_count": 91,
   "metadata": {
    "collapsed": true
   },
   "outputs": [],
   "source": [
    "path = '/Users/moshesilverstein/Documents/Harmonizome/ClinVar/Output/'"
   ]
  },
  {
   "cell_type": "code",
   "execution_count": 92,
   "metadata": {
    "collapsed": true
   },
   "outputs": [],
   "source": [
    "name = 'clinvar_gene_attribute_edge_list'"
   ]
  },
  {
   "cell_type": "code",
   "execution_count": 93,
   "metadata": {},
   "outputs": [
    {
     "name": "stdout",
     "output_type": "stream",
     "text": [
      "Progeres: 100%  2934 Out of 2934   \n",
      "\n",
      " The number of statisticaly relevent gene-attribute associations is: 6663\n"
     ]
    }
   ],
   "source": [
    "uf.createGeneAttributeEdgeList(binary_matrix, gene_list, path, name)"
   ]
  }
 ],
 "metadata": {
  "kernelspec": {
   "display_name": "Python [default]",
   "language": "python",
   "name": "python3"
  },
  "language_info": {
   "codemirror_mode": {
    "name": "ipython",
    "version": 3
   },
   "file_extension": ".py",
   "mimetype": "text/x-python",
   "name": "python",
   "nbconvert_exporter": "python",
   "pygments_lexer": "ipython3",
   "version": "3.5.2"
  }
 },
 "nbformat": 4,
 "nbformat_minor": 2
}
