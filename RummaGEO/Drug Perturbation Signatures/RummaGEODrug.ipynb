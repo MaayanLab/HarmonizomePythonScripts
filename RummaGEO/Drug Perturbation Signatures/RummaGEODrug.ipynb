{
 "cells": [
  {
   "cell_type": "markdown",
   "metadata": {},
   "source": [
    "# RummaGEO Drug Perturbations Processing Script\n",
    "This notebook contains the script used to process the RummaGEO Drug Perturbation Signatures dataset for Hamronizome. The script is adapted from the [script](https://github.com/MaayanLab/EnrichrPythonScripts/blob/master/Enrichr/rummageo_pert_sigs.ipynb) used to process the RummaGEO perturbation signatures for Enrichr created by Erol Evangelista.\n",
    "\n",
    "The signatures are created by querying the RummaGEO metadata for signatures or reversed signatures where one condition matches a dictionary of control terms and the other condition contains a drug from a list of drugs from SigCom LINCS.\n",
    "\n",
    "The script to gather drug perturbation signatures was run on 1/16/25."
   ]
  },
  {
   "cell_type": "code",
   "execution_count": null,
   "metadata": {},
   "outputs": [],
   "source": [
    "import pandas as pd\n",
    "import datetime\n",
    "from glob import glob\n",
    "import math\n",
    "import matplotlib.pyplot as plt\n",
    "import numpy as np\n",
    "import os\n",
    "import re\n",
    "import requests\n",
    "import time\n",
    "import scipy.spatial.distance as dist\n",
    "import seaborn as sns\n",
    "import sys\n",
    "import json\n",
    "import scanpy as sc\n",
    "from tqdm import tqdm\n",
    "\n",
    "# UMAP\n",
    "from sklearn.feature_extraction.text import TfidfVectorizer\n",
    "import anndata\n",
    "from collections import OrderedDict\n",
    "\n",
    "# Bokeh\n",
    "from bokeh.io import output_notebook\n",
    "from bokeh.plotting import figure, show, save, output_file\n",
    "from bokeh.models import HoverTool, ColumnDataSource\n",
    "from bokeh.palettes import Category20\n",
    "output_notebook()\n",
    "\n",
    "from IPython.display import display, HTML, Markdown\n",
    "sys.setrecursionlimit(100000)"
   ]
  },
  {
   "cell_type": "markdown",
   "metadata": {},
   "source": [
    "## Get Drug Perturbation Data from RummaGEO"
   ]
  },
  {
   "cell_type": "code",
   "execution_count": null,
   "metadata": {},
   "outputs": [],
   "source": [
    "rummageo_url = \"https://rummageo.com/graphql\""
   ]
  },
  {
   "cell_type": "code",
   "execution_count": null,
   "metadata": {},
   "outputs": [],
   "source": [
    "def query_metadata(term, limit=10000):\n",
    "    query = {\"operationName\":\"TermSearch\",\"variables\":{\"terms\":term,\"offset\":0,\"first\":limit},\"query\":\"query TermSearch($terms: [String]! = [\\\"neuron\\\"], $offset: Int = 0, $first: Int = 10) {\\n  geneSetTermSearch(terms: $terms, offset: $offset, first: $first) {\\n    nodes {\\n      id\\n      term\\n      gse\\n      platform\\n      pmid\\n      publishedDate\\n      sampleGroups\\n      title\\n      geneSetById {\\n        nGeneIds\\n        species\\n        __typename\\n      }\\n      __typename\\n    }\\n    totalCount\\n    __typename\\n  }\\n}\\n\"}\n",
    "    headers = {\n",
    "        \"Accept\": \"application/json\",\n",
    "        \"Content-Type\": \"application/json\"\n",
    "    }\n",
    "\n",
    "    res = requests.post(rummageo_url, data=json.dumps(query), headers=headers)\n",
    "    return res.json()"
   ]
  },
  {
   "cell_type": "code",
   "execution_count": null,
   "metadata": {},
   "outputs": [],
   "source": [
    "control_terms = ['wt', 'wildtype', 'control', 'cntrl', 'ctrl', 'uninfected', 'normal', 'untreated', 'unstimulated', 'shctrl', 'ctl', 'healthy', 'sictrl', 'sicontrol', 'ctr', 'wild', 'dmso']\n",
    "regex = re.compile('[^a-zA-Z]')\n",
    "def is_control(term):\n",
    "\tsplit_terms = term.lower().split(\" \")\n",
    "\tfor t in split_terms:\n",
    "\t\tt = regex.sub('', t)\n",
    "\t\tif t in control_terms:\n",
    "\t\t\treturn True\n",
    "\treturn False"
   ]
  },
  {
   "cell_type": "code",
   "execution_count": null,
   "metadata": {},
   "outputs": [],
   "source": [
    "def get_meta(search_term):\n",
    "\tdata = query_metadata(search_term)\n",
    "\tlimit = data['data']['geneSetTermSearch']['totalCount']\n",
    "\tif limit > 10000:\n",
    "\t\tdata = query_metadata(search_term, limit)\n",
    "\tnodes = data['data']['geneSetTermSearch']['nodes']\n",
    "\tprint(f'total number of {search_term} results: {len(nodes)}')\n",
    "\tdf = pd.DataFrame(index=[], columns=['id', 'title', 'term', 'direction', 'condition_1', 'condition_2', 'is_control_1', 'is_control_2', 'status', 'search_term'])\n",
    "\tfailed = []\n",
    "\tfor i in nodes:\n",
    "\t\ttry:\n",
    "\t\t\tindex = len(df.index) + 1\n",
    "\t\t\tid = i[\"id\"]\n",
    "\t\t\ttitle = i[\"title\"]\n",
    "\t\t\tterm, direction = i[\"term\"].split(\" \")\n",
    "\t\t\tc = term.split(\"-\")\n",
    "\t\t\tcond1 = c[1]\n",
    "\t\t\tcond2 = c[3]\n",
    "\t\t\tsampleGroups = i['sampleGroups']['titles']\n",
    "\t\t\tcont1 = is_control(sampleGroups[cond1])\n",
    "\t\t\tcont2 = is_control(sampleGroups[cond2])\n",
    "\t\t\tstatus = \"signature\"\n",
    "\t\t\tif cont1 and cont2:\n",
    "\t\t\t\tstatus = \"2 control\"\n",
    "\t\t\tif not cont1 and not cont2:\n",
    "\t\t\t\tstatus = \"2 pert\"\n",
    "\t\t\tif not cont1 and cont2:\n",
    "\t\t\t\tstatus = \"reversed\"\n",
    "\t\t\tdf.loc[index] = [\n",
    "\t\t\t\tid,\n",
    "\t\t\t\ttitle,\n",
    "\t\t\t\tterm,\n",
    "\t\t\t\tdirection,\n",
    "\t\t\t\tsampleGroups[cond1],\n",
    "\t\t\t\tsampleGroups[cond2],\n",
    "\t\t\t\tcont1,\n",
    "\t\t\t\tcont2,\n",
    "\t\t\t\tstatus,\n",
    "\t\t\t\tsearch_term\n",
    "\t\t\t]\n",
    "\t\texcept Exception as e:\n",
    "\t\t\tfailed.append(i)\n",
    "\tdf.to_csv(f'out/{search_term}.tsv', sep=\"\\t\")\n",
    "\tvalid = len(df[df.status == 'signature'].index)\n",
    "\treversed = len(df[df.status == 'reversed'].index)\n",
    "\ttwo_cont = len(df[df.status == '2 control'].index)\n",
    "\ttwo_pert = len(df[df.status == '2 pert'].index)\n",
    "\treturn valid, reversed, two_cont, two_pert"
   ]
  },
  {
   "cell_type": "code",
   "execution_count": null,
   "metadata": {},
   "outputs": [],
   "source": [
    "res = requests.get(\"https://s3.dev.maayanlab.cloud/sigcom-lincs/ranker/signatures_meta.json\")\n",
    "signatures = res.json()"
   ]
  },
  {
   "cell_type": "code",
   "execution_count": null,
   "metadata": {},
   "outputs": [],
   "source": [
    "drugs = set(i[\"pert_name\"] for i in signatures.values())\n",
    "len(drugs)"
   ]
  },
  {
   "cell_type": "code",
   "execution_count": null,
   "metadata": {},
   "outputs": [],
   "source": [
    "list(drugs).index('BRD-K22420960')"
   ]
  },
  {
   "cell_type": "code",
   "execution_count": null,
   "metadata": {},
   "outputs": [],
   "source": [
    "'''df = pd.read_csv('out/drugs.tsv', sep='\\t', index_col=0)\n",
    "df'''"
   ]
  },
  {
   "cell_type": "code",
   "execution_count": null,
   "metadata": {},
   "outputs": [],
   "source": [
    "df = pd.DataFrame(index=[], columns=['id', 'title', 'term', 'direction', 'condition_1', 'condition_2', 'is_control_1', 'is_control_2', 'status', 'search_term'])"
   ]
  },
  {
   "cell_type": "code",
   "execution_count": null,
   "metadata": {},
   "outputs": [],
   "source": [
    "df.shape"
   ]
  },
  {
   "cell_type": "code",
   "execution_count": null,
   "metadata": {},
   "outputs": [],
   "source": [
    "start = False\n",
    "for drug in tqdm(drugs):\n",
    "\tif drug == 'BRD-K22420960':\n",
    "\t\tstart = True\n",
    "\tif start:\n",
    "\t\tdata = query_metadata(str(drug))\n",
    "\t\ttime.sleep(0.2)\n",
    "\t\tlimit = data['data']['geneSetTermSearch']['totalCount']\n",
    "\t\tif limit > 0:\n",
    "\t\t\tif limit > 10000:\n",
    "\t\t\t\tdata = query_metadata(drug, limit)\n",
    "\t\t\tnodes = data['data']['geneSetTermSearch']['nodes']\n",
    "\t\t\tprint(\"total number of %s results: %d\"%(drug, len(nodes)))\n",
    "\t\t\tfailed = []\n",
    "\t\t\tfor i in nodes:\n",
    "\t\t\t\ttry:\n",
    "\t\t\t\t\tindex = len(df.index) + 1\n",
    "\t\t\t\t\tpertid = i[\"id\"]\n",
    "\t\t\t\t\ttitle = i[\"title\"]\n",
    "\t\t\t\t\tterm, direction = i[\"term\"].split(\" \")\n",
    "\t\t\t\t\tc = term.split(\"-\")\n",
    "\t\t\t\t\tcond1 = c[1]\n",
    "\t\t\t\t\tcond2 = c[3]\n",
    "\t\t\t\t\tsampleGroups = i['sampleGroups']['titles']\n",
    "\t\t\t\t\tcont1 = is_control(sampleGroups[cond1])\n",
    "\t\t\t\t\tcont2 = is_control(sampleGroups[cond2])\n",
    "\t\t\t\t\tstatus = \"signature\"\n",
    "\t\t\t\t\tif cont1 and cont2:\n",
    "\t\t\t\t\t\tstatus = \"2 control\"\n",
    "\t\t\t\t\tif not cont1 and not cont2:\n",
    "\t\t\t\t\t\tstatus = \"2 pert\"\n",
    "\t\t\t\t\tif not cont1 and cont2:\n",
    "\t\t\t\t\t\tstatus = \"reversed\"\n",
    "\t\t\t\t\tdf.loc[index] = [\n",
    "\t\t\t\t\t\tpertid,\n",
    "\t\t\t\t\t\ttitle,\n",
    "\t\t\t\t\t\tterm,\n",
    "\t\t\t\t\t\tdirection,\n",
    "\t\t\t\t\t\tsampleGroups[cond1],\n",
    "\t\t\t\t\t\tsampleGroups[cond2],\n",
    "\t\t\t\t\t\tcont1,\n",
    "\t\t\t\t\t\tcont2,\n",
    "\t\t\t\t\t\tstatus,\n",
    "\t\t\t\t\t\tdrug\n",
    "\t\t\t\t\t]\n",
    "\t\t\t\texcept Exception as e:\n",
    "\t\t\t\t\tfailed.append(i)"
   ]
  },
  {
   "cell_type": "code",
   "execution_count": null,
   "metadata": {},
   "outputs": [],
   "source": [
    "df = df.drop_duplicates().reset_index(drop=True)\n",
    "df.index += 1\n",
    "df"
   ]
  },
  {
   "cell_type": "code",
   "execution_count": null,
   "metadata": {},
   "outputs": [],
   "source": [
    "df.to_csv('out/drugs.tsv.gz', compression='gzip', sep='\\t')"
   ]
  },
  {
   "cell_type": "code",
   "execution_count": null,
   "metadata": {},
   "outputs": [],
   "source": [
    "df = pd.read_csv('out/drugs.tsv.gz', sep='\\t', compression='gzip', index_col=0)\n",
    "df"
   ]
  },
  {
   "cell_type": "code",
   "execution_count": null,
   "metadata": {},
   "outputs": [],
   "source": [
    "df = df[(df.status == 'signature') | (df.status == 'reversed')]"
   ]
  },
  {
   "cell_type": "code",
   "execution_count": null,
   "metadata": {},
   "outputs": [],
   "source": [
    "df.shape"
   ]
  },
  {
   "cell_type": "code",
   "execution_count": null,
   "metadata": {},
   "outputs": [],
   "source": [
    "df.search_term.nunique()"
   ]
  },
  {
   "cell_type": "code",
   "execution_count": null,
   "metadata": {},
   "outputs": [],
   "source": [
    "df.groupby('search_term')[\"id\"].count().to_csv(\"drug_count.tsv\", sep=\"\\t\")"
   ]
  },
  {
   "cell_type": "code",
   "execution_count": null,
   "metadata": {},
   "outputs": [],
   "source": [
    "drugs = pd.read_csv('drug_count.tsv', sep=\"\\t\", index_col=0)\n",
    "drugs.head()"
   ]
  },
  {
   "cell_type": "code",
   "execution_count": null,
   "metadata": {},
   "outputs": [],
   "source": [
    "drugs.id.sum()"
   ]
  },
  {
   "cell_type": "code",
   "execution_count": null,
   "metadata": {},
   "outputs": [],
   "source": [
    "df = df.groupby('id').first()\n",
    "df.shape"
   ]
  },
  {
   "cell_type": "code",
   "execution_count": null,
   "metadata": {},
   "outputs": [],
   "source": [
    "def get_geneset(uid):\n",
    "\tquery = {\"operationName\":\"ViewGeneSet\",\"variables\":{\"id\":uid},\"query\":\"query ViewGeneSet($id: UUID!) {\\n  geneSet(id: $id) {\\n    genes {\\n      nodes {\\n        symbol\\n        __typename\\n      }\\n      __typename\\n    }\\n    __typename\\n  }\\n}\\n\"}\n",
    "\theaders = {\n",
    "\t    \"Accept\": \"application/json\",\n",
    "\t    \"Content-Type\": \"application/json\"\n",
    "\t}\n",
    "\tfor i in range(5):\n",
    "\t\tres = requests.post(rummageo_url, data=json.dumps(query), headers=headers)\n",
    "\t\tif res.ok:\n",
    "\t\t\ttime.sleep(0.2)\n",
    "\t\t\treturn [i[\"symbol\"] for i in res.json()[\"data\"][\"geneSet\"][\"genes\"][\"nodes\"]]\n",
    "\t\telse:\n",
    "\t\t\ttime.sleep(i+1)\n",
    "\treturn False\n",
    "\t"
   ]
  },
  {
   "cell_type": "code",
   "execution_count": null,
   "metadata": {},
   "outputs": [],
   "source": [
    "failed = []\n",
    "with open('out/rummageo_chemical_perturbations.gmt', 'w') as o:\n",
    "\tfor uid, val in tqdm(df.iterrows()):\n",
    "\t\tsearch_term = val[\"search_term\"]\n",
    "\t\tif search_term in drugs.index:\n",
    "\t\t\ttitle = val[\"title\"]\n",
    "\t\t\tterm = val[\"term\"].replace(\".tsv\", \"\")\n",
    "\t\t\tgse, cond1, _, cond2, species = term.split(\"-\")\n",
    "\t\t\tstatus = val[\"status\"]\n",
    "\t\t\t\n",
    "\t\t\tdirection = val[\"direction\"]\n",
    "\t\t\texpr = cond1 + \"_v_\" + cond2\n",
    "\t\t\tif status == \"reversed\":\n",
    "\t\t\t\texpr = cond2 + \"_v_\" + cond1\n",
    "\t\t\t\tdirection = \"dn\" if direction == 'up' else 'dn'\n",
    "\t\t\tlabel = \"%s_%s_%s_%s_%s_%s\"%(gse, title, expr, search_term, species, direction)\n",
    "\t\t\tif label in gmt:\n",
    "\t\t\t\tcontinue\n",
    "\t\t\tg = get_geneset(uid)\n",
    "\t\t\tif g:\n",
    "\t\t\t\to.write(\"\\t\".join([label, \"\", *g]) + \"\\n\")\n",
    "\t\t\telse:\n",
    "\t\t\t\tfailed.append(uid)\n",
    "\n",
    "\t\t\t"
   ]
  },
  {
   "cell_type": "code",
   "execution_count": null,
   "metadata": {},
   "outputs": [],
   "source": [
    "gmt = {}\n",
    "counter = 0\n",
    "with open('out/rummageo_chemical_perturbations.gmt') as o:\n",
    "\tfor line in o:\n",
    "\t\tcounter +=1 \n",
    "\t\tlabel, _, *genes = line.strip().split(\"\\t\")\n",
    "\t\tgmt[label] = genes\n",
    "counter"
   ]
  },
  {
   "cell_type": "code",
   "execution_count": null,
   "metadata": {},
   "outputs": [],
   "source": [
    "len(gmt)"
   ]
  },
  {
   "cell_type": "code",
   "execution_count": null,
   "metadata": {},
   "outputs": [],
   "source": [
    "remove = {'1B', 'ATPA', 'AVA', 'C-1', 'CDC', 'FIT', 'ITE', 'PIT', 'RITA', 'TRIM', 'compe', 'iq', 'niacin', 'pen', 'rutin'}\n",
    "remove"
   ]
  },
  {
   "cell_type": "code",
   "execution_count": null,
   "metadata": {},
   "outputs": [],
   "source": [
    "failed = []\n",
    "with open('out/rummageo_chemical_perturbations2.gmt', 'w') as o:\n",
    "\tfor uid, val in tqdm(df.iterrows()):\n",
    "\t\tsearch_term = val[\"search_term\"]\n",
    "\t\tif search_term in drugs.index and search_term not in remove:\n",
    "\t\t\ttitle = val[\"title\"]\n",
    "\t\t\tterm = val[\"term\"].replace(\".tsv\", \"\")\n",
    "\t\t\tgse, cond1, _, cond2, species = term.split(\"-\")\n",
    "\t\t\tstatus = val[\"status\"]\n",
    "\t\t\t\n",
    "\t\t\tdirection = val[\"direction\"]\n",
    "\t\t\texpr = cond1 + \"_v_\" + cond2\n",
    "\t\t\tif status == \"reversed\":\n",
    "\t\t\t\texpr = cond2 + \"_v_\" + cond1\n",
    "\t\t\t\tdirection = \"dn\" if direction == 'up' else 'dn'\n",
    "\t\t\tlabel = \"%s_%s_%s_%s_%s_%s\"%(gse, title, expr, search_term, species, direction)\n",
    "\t\t\tg = gmt[label]\n",
    "\t\t\tif g:\n",
    "\t\t\t\to.write(\"\\t\".join([label, \"\", *g]) + \"\\n\")\n",
    "\t\t\telse:\n",
    "\t\t\t\tfailed.append(uid)\n",
    "\n",
    "\t\t\t"
   ]
  },
  {
   "cell_type": "code",
   "execution_count": null,
   "metadata": {},
   "outputs": [],
   "source": [
    "import obonet\n",
    "from drug_named_entity_recognition import find_drugs\n",
    "from maayanlab_bioinformatics.harmonization.ncbi_genes import ncbi_genes_lookup"
   ]
  },
  {
   "cell_type": "code",
   "execution_count": null,
   "metadata": {},
   "outputs": [],
   "source": [
    "url = 'https://ftp.expasy.org/databases/cellosaurus/cellosaurus.obo'\n",
    "graph = obonet.read_obo(url)\n",
    "cell_line_mapper = {}\n",
    "for k,v in graph.nodes(data=True):\n",
    "\tname = v[\"name\"]\n",
    "\tcell_line_mapper[name.lower()] = name\n",
    "\tif \"synonym\" in v:\n",
    "\t\tfor syn in v[\"synonym\"]:\n",
    "\t\t\ts = syn.split('\"')[1].lower()\n",
    "\t\t\tcell_line_mapper[s] = name\n",
    "\n",
    "def cell_line_verifier(name):\n",
    "\treturn cell_line_mapper.get(name.lower())"
   ]
  },
  {
   "cell_type": "code",
   "execution_count": null,
   "metadata": {},
   "outputs": [],
   "source": [
    "url = \"https://purl.obolibrary.org/obo/cl/cl-basic.obo\"\n",
    "graph = obonet.read_obo(url)\n",
    "cell_type_mapper = {}\n",
    "for k,v in graph.nodes(data=True):\n",
    "\tname = v[\"name\"]\n",
    "\tif \"subset\" in v:\n",
    "\t\tif 'human_reference_atlas' in v[\"subset\"]:\n",
    "\t\t\tcell_type_mapper[name.lower()] = name\n",
    "\t\t\tif \"synonym\" in v:\n",
    "\t\t\t\tfor syn in v[\"synonym\"]:\n",
    "\t\t\t\t\ts = syn.split('\"')[1].lower()\n",
    "\t\t\t\t\tcell_type_mapper[s] = name\n",
    "\n",
    "def cell_type_verifier(name):\n",
    "\treturn cell_type_mapper.get(name.lower())\n"
   ]
  },
  {
   "cell_type": "code",
   "execution_count": null,
   "metadata": {},
   "outputs": [],
   "source": [
    "url = \"https://purl.obolibrary.org/obo/uberon/uberon-basic.obo\"\n",
    "graph = obonet.read_obo(url)\n",
    "subsets = set()\n",
    "\n",
    "tissue_mapper = {}\n",
    "for k,v in graph.nodes(data=True):\n",
    "\tif \"subset\" in v and ('major_organ' in v[\"subset\"] or 'organ_slim' in v[\"subset\"]):\n",
    "\t\tif \"name\" in v:\n",
    "\t\t\tname = v[\"name\"]\n",
    "\t\t\ttissue_mapper[name.lower()] = name\n",
    "\t\t\tif \"synonym\" in v:\n",
    "\t\t\t\tfor syn in v[\"synonym\"]:\n",
    "\t\t\t\t\ts = syn.split('\"')[1].lower()\n",
    "\t\t\t\t\ttissue_mapper[s] = name\n",
    "\t\t\tif \"subset\" in v:\n",
    "\t\t\t\tsubsets = subsets.union(v[\"subset\"])\n",
    "\n",
    "def tissue_verifier(name):\n",
    "\treturn tissue_mapper.get(name.lower())"
   ]
  },
  {
   "cell_type": "code",
   "execution_count": null,
   "metadata": {},
   "outputs": [],
   "source": [
    "url = \"http://purl.obolibrary.org/obo/mondo.obo\"\n",
    "graph = obonet.read_obo(url)\n",
    "\n",
    "disease_mapper = {}\n",
    "for k,v in graph.nodes(data=True):\n",
    "\tif \"name\" in v:\n",
    "\t\tname = v[\"name\"]\n",
    "\t\tdisease_mapper[name.lower()] = name\n",
    "\t\tif \"synonym\" in v:\n",
    "\t\t\tfor syn in v[\"synonym\"]:\n",
    "\t\t\t\ts = syn.split('\"')[1].lower()\n",
    "\t\t\t\tdisease_mapper[s] = name\n",
    "\n",
    "def disease_verifier(name):\n",
    "\treturn disease_mapper.get(name.lower())"
   ]
  },
  {
   "cell_type": "code",
   "execution_count": null,
   "metadata": {},
   "outputs": [],
   "source": [
    "def drug_verifier(name):\n",
    "\tresults = find_drugs([name])\n",
    "\tif results:\n",
    "\t\treturn results[0][0]['name']\n",
    "\treturn None"
   ]
  },
  {
   "cell_type": "code",
   "execution_count": null,
   "metadata": {},
   "outputs": [],
   "source": [
    "human_genes = ncbi_genes_lookup()\n",
    "mouse_genes = ncbi_genes_lookup(organism='Mammalia/Mus_musculus')\n",
    "\n",
    "def gene_verifier(name):\n",
    "\treturn human_genes(name) or mouse_genes(name)"
   ]
  },
  {
   "cell_type": "code",
   "execution_count": null,
   "metadata": {},
   "outputs": [],
   "source": [
    "from inflector import Inflector\n",
    "inflector = Inflector()"
   ]
  },
  {
   "cell_type": "code",
   "execution_count": null,
   "metadata": {},
   "outputs": [],
   "source": [
    "def named_entity_recognition(label):\n",
    "\tdata = {\n",
    "\t\t\"cell_line\": [],\n",
    "\t\t\"cell_type\": [],\n",
    "\t\t\"tissue\": [],\n",
    "\t\t\"gene\": [],\n",
    "\t\t\"expression\": [],\n",
    "\t\t\"drug\": [],\n",
    "\t\t\"disease\": [],\n",
    "\t}\n",
    "\tfor size in [3, 2, 1]:\n",
    "\t\ttokens = label.split(\" \")\n",
    "\t\tfor start in range(len(tokens)):\n",
    "\t\t\tend = start + size\n",
    "\t\t\tif end > len(tokens):\n",
    "\t\t\t\tbreak\n",
    "\t\t\ti = \" \".join(tokens[start: end])\n",
    "\t\t\ti = i.replace(\"(\",\"\").replace(\")\",\"\").replace(\".\",\"\").replace(\",\",\"\")\n",
    "\t\t\tif i.lower() not in ['the', 'a', 'is', 'are', 'in', 'on', 'of', 'at', 'for', 'or', 'to', 'via', 'mice', \"gene expression\", \"of\", \"an\", \"cancer\", \"as\", \"vs\", \"wt\", \"ko\", \"age\", \"secretase\", \"not\", \"set\", \"ii\", \"hypoxia-induced\", \"po\", 'dna', 't', 'beige', 'beta', 'utr', 'b', 'or', 'de']:\n",
    "\t\t\t\tsingular = inflector.singularize(i)\n",
    "\t\t\t\tif not i.isnumeric() and i.lower() not in ['one', 'mouse', 'cl']:\n",
    "\t\t\t\t\tr = cell_line_verifier(i)\n",
    "\t\t\t\t\tif r:\n",
    "\t\t\t\t\t\tdata['cell_line'].append(r)\n",
    "\t\t\t\t\t\tlabel = label.replace(i, \"\")\n",
    "\t\t\t\t\t\tcontinue\n",
    "\t\t\t\tr = cell_type_verifier(singular)\n",
    "\t\t\t\tif r:\n",
    "\t\t\t\t\tdata['cell_type'].append(r)\n",
    "\t\t\t\t\tlabel = label.replace(i, \"\")\n",
    "\t\t\t\t\tcontinue\n",
    "\t\t\t\tr = tissue_verifier(singular)\n",
    "\t\t\t\tif r:\n",
    "\t\t\t\t\tdata['tissue'].append(r)\n",
    "\t\t\t\t\tlabel = label.replace(i, \"\")\n",
    "\t\t\t\t\tcontinue\n",
    "\t\t\t\tr = drug_verifier(i)\n",
    "\t\t\t\tif r:\n",
    "\t\t\t\t\tdata['drug'].append(r)\n",
    "\t\t\t\t\tlabel = label.replace(i, \"\")\n",
    "\t\t\t\t\tcontinue\n",
    "\t\t\t\tif not i.isnumeric() and not i.lower() in ['fat', 'homodimer', 'embryonic', 'vs', 'w', 'cl', 'brown']:\n",
    "\t\t\t\t\tr = gene_verifier(i.replace(\"(\",\"\").replace(\")\",\"\"))\n",
    "\t\t\t\t\tif r:\n",
    "\t\t\t\t\t\tdata['gene'].append(i.replace(\"(\",\"\").replace(\")\",\"\"))\n",
    "\t\t\t\t\t\tlabel = label.replace(i, \"\")\n",
    "\t\t\t\t\t\tcontinue\n",
    "\t\t\t\tr = disease_verifier(i)\n",
    "\t\t\t\tif r:\n",
    "\t\t\t\t\tdata['disease'].append(r)\n",
    "\t\t\t\t\tlabel = label.replace(i, \"\")\n",
    "\t\t\t\t\tcontinue\n",
    "\treturn data"
   ]
  },
  {
   "cell_type": "code",
   "execution_count": null,
   "metadata": {},
   "outputs": [],
   "source": [
    "conditionset = set(df['condition_1'].to_list() + df['condition_2'].to_list())\n",
    "conditionset\n",
    "conditions_short = {}\n",
    "\n",
    "for cond in conditionset:\n",
    "    if len(cond) >= 128:\n",
    "        conditions_short[cond] = cond.split('.')[0]"
   ]
  },
  {
   "cell_type": "code",
   "execution_count": null,
   "metadata": {},
   "outputs": [],
   "source": [
    "failed = []\n",
    "mapped_terms = {}\n",
    "new_gmt = {}\n",
    "conds = {}\n",
    "with open('out/rummageo_chemical_perturbations_shortened.gmt', 'w') as o:\n",
    "\tfor uid, val in df.iterrows():\n",
    "\t\ttitle = val[\"title\"]\n",
    "\t\tterm = val[\"term\"].replace(\".tsv\", \"\")\n",
    "\t\tgse, cond1, _, cond2, species = term.split(\"-\")\n",
    "\t\tcondition1 = conditions_short[val[\"condition_1\"]] if val[\"condition_1\"] in conditions_short else val[\"condition_1\"]\n",
    "\t\tcondition2 = conditions_short[val[\"condition_2\"]] if val[\"condition_2\"] in conditions_short else val[\"condition_2\"]\n",
    "\t\tconditions = (condition1, condition2)\n",
    "\t\tstatus = val[\"status\"]\n",
    "\t\tdirection = val[\"direction\"]\n",
    "\t\texpr = f\"{cond1}_v_{cond2}\"\n",
    "\t\tsearch_term = val['search_term']\n",
    "\t\tif search_term not in remove:\n",
    "\t\t\tif status == \"reversed\":\n",
    "\t\t\t\texpr = f\"{cond2}_v_{cond1}\"\n",
    "\t\t\t\tconditions = (condition2, condition1)\n",
    "\t\t\t\tdirection = \"dn\" if direction == 'up' else 'dn'\n",
    "\t\t\told_label = f\"{gse}_{title}_{expr}_{search_term}_{species}_{direction}\"\n",
    "\t\t\tif old_label in gmt:\n",
    "\t\t\t\tg = gmt[old_label]\n",
    "\t\t\t\tr = named_entity_recognition(old_label)\n",
    "\t\t\t\tlabel = gse.replace(\",\",\"_\")\n",
    "\t\t\t\tlabel = f\"{label}_{search_term}\"\n",
    "\t\t\t\tif r[\"cell_line\"]:\n",
    "\t\t\t\t\tlabel = f\"{label}_\" + \",\".join(set(r[\"cell_line\"]))\n",
    "\t\t\t\telif r[\"cell_type\"]:\n",
    "\t\t\t\t\tlabel = f\"{label}_\" + \",\".join(set(r[\"cell_type\"]))\n",
    "\t\t\t\telif r[\"tissue\"]:\n",
    "\t\t\t\t\tlabel = f\"{label}_\" + \",\".join(set(r[\"tissue\"]))\n",
    "\t\t\t\tlabel += f\"_{expr}_{species}_{direction}\"\n",
    "\t\t\t\tmapped_terms[label] = old_label\n",
    "\t\t\t\tif g:\n",
    "\t\t\t\t\to.write(\"\\t\".join([label.replace(\"/\", \"-\").replace(\",\", \" \"), \"\", *g]) + \"\\n\")\n",
    "\t\t\t\t\tnew_gmt[label.replace(\"/\", \"-\").replace(\",\", \" \")] = set(g)\n",
    "\t\t\t\t\tconds[label.replace(\"/\", \"-\").replace(\",\", \" \").replace(\"_up\",\"\").replace(\"_dn\",\"\")] = conditions\n",
    "\t\t\t\telse:\n",
    "\t\t\t\t\tfailed.append(uid)\n",
    "\n",
    "\t\t\t\t"
   ]
  },
  {
   "cell_type": "markdown",
   "metadata": {},
   "source": [
    "### Construct DataFrame from Shortened GMT"
   ]
  },
  {
   "cell_type": "code",
   "execution_count": null,
   "metadata": {},
   "outputs": [],
   "source": [
    "def load_gmt(file):\n",
    "    with open(file, 'r') as f:\n",
    "        gmt = {}\n",
    "        for line in f:\n",
    "            term, _, *geneset = line.split('\\t')\n",
    "            gmt[term] = set(geneset)\n",
    "        return gmt"
   ]
  },
  {
   "cell_type": "code",
   "execution_count": null,
   "metadata": {},
   "outputs": [],
   "source": [
    "new_gmt = load_gmt('out/rummageo_chemical_perturbations_shortened.gmt')"
   ]
  },
  {
   "cell_type": "code",
   "execution_count": null,
   "metadata": {},
   "outputs": [],
   "source": [
    "rummageodrugpert = pd.DataFrame(data=[new_gmt.keys(), new_gmt.values()], index=['Drug Perturbation', 'Gene']).T\n",
    "rummageodrugpert = rummageodrugpert.explode('Gene')\n",
    "rummageodrugpert['Direction'] = rummageodrugpert['Drug Perturbation'].apply(lambda x: {'up':1, 'dn':-1}[x.split('_')[-1]])\n",
    "rummageodrugpert['Drug Perturbation'] = rummageodrugpert['Drug Perturbation'].apply(lambda x: '_'.join(x.split('_')[:-1]))\n",
    "rummageodrugpert"
   ]
  },
  {
   "cell_type": "code",
   "execution_count": null,
   "metadata": {},
   "outputs": [],
   "source": [
    "orthologs = pd.read_csv('../../../mapping/source_files/gene_orthologs', sep='\\t')\n",
    "orthologdict = orthologs[orthologs['#tax_id']==9606][orthologs['Other_tax_id']==10090].set_index('Other_GeneID')['GeneID'].to_dict()\n",
    "orthologs"
   ]
  },
  {
   "cell_type": "code",
   "execution_count": null,
   "metadata": {},
   "outputs": [],
   "source": [
    "mouse_gene_info = pd.read_csv('../../../mapping/source_files/mouse_gene_info', sep='\\t')\n",
    "mouse_gene_ids = mouse_gene_info[mouse_gene_info['#tax_id']==10090].set_index('Symbol')['GeneID'].to_dict()\n",
    "mouse_gene_info"
   ]
  },
  {
   "cell_type": "code",
   "execution_count": null,
   "metadata": {},
   "outputs": [],
   "source": [
    "human_gene_info = pd.read_csv('../../../mapping/source_files/human_gene_info', sep='\\t')\n",
    "human_gene_info = human_gene_info[human_gene_info['#tax_id']==9606]\n",
    "human_gene_ids = human_gene_info.set_index('GeneID')['Symbol'].to_dict()\n",
    "geneinfo = human_gene_info.set_index('Symbol')[['GeneID', 'description']]\n",
    "geneinfo.index = geneinfo.index.map(str.upper)\n",
    "geneids = human_gene_info.set_index('Symbol')\n",
    "geneids.index = geneids.index.map(str.upper)\n",
    "geneids = geneids['GeneID'].to_dict()\n",
    "human_gene_info"
   ]
  },
  {
   "cell_type": "code",
   "execution_count": null,
   "metadata": {},
   "outputs": [],
   "source": [
    "mouse_gene_dict = {}\n",
    "for gene in mouse_gene_ids:\n",
    "    if mouse_gene_ids[gene] in orthologdict:\n",
    "        if orthologdict[mouse_gene_ids[gene]] in human_gene_ids:\n",
    "            mouse_gene_dict[gene] = human_gene_ids[orthologdict[mouse_gene_ids[gene]]]\n",
    "len(mouse_gene_dict)\n",
    "\n",
    "human_gene_symbols = set(human_gene_info[human_gene_info['type_of_gene']=='protein-coding']['Symbol'])"
   ]
  },
  {
   "cell_type": "code",
   "execution_count": null,
   "metadata": {},
   "outputs": [],
   "source": [
    "rummageodrugpert['Gene'] = rummageodrugpert['Gene'].apply(lambda x: mouse_gene_dict[x] if x in mouse_gene_dict else x)\n",
    "rummageodrugpert['Gene'] = rummageodrugpert['Gene'].apply(lambda x: x if x in human_gene_symbols else np.nan)\n",
    "rummageodrugpert = rummageodrugpert.dropna().drop_duplicates(subset=['Drug Perturbation', 'Gene'], keep=False).reset_index(drop=True)\n",
    "rummageodrugpert"
   ]
  },
  {
   "cell_type": "code",
   "execution_count": null,
   "metadata": {},
   "outputs": [],
   "source": [
    "'''\n",
    "Drug Perturbation     2753\n",
    "Gene                 18912\n",
    "Direction                2\n",
    "'''\n",
    "rummageodrugpert.nunique()\n"
   ]
  },
  {
   "cell_type": "markdown",
   "metadata": {},
   "source": [
    "## Process Data for SQL Ingestion"
   ]
  },
  {
   "cell_type": "markdown",
   "metadata": {},
   "source": [
    "### Dataset"
   ]
  },
  {
   "cell_type": "code",
   "execution_count": null,
   "metadata": {},
   "outputs": [],
   "source": [
    "#(id, name, name_without_resource, description, association, gene_set_description, gene_sets_description, attribute_set_description, positive_association, negative_association, is_signed, is_continuous_valued, last_updated, directory, num_page_views, resource_fk, measurement_fk, dataset_group_fk, attribute_type_fk, attribute_group_fk, evidence_type, evidence_group, measurement_bias, attribute_type_plural)\n",
    "(166, 'RummaGEO Drug Perturbation Signatures', 'Drug Perturbation Signatures', 'Drug perturbation signatures produced from automatically mined RNA-seq samples from GEO.', 'gene-drug perturbation associations by differential expression of gene following drug perturbation', 'genes differentially expressed following the {0} drug perturbation from the RummaGEO Drug Perturbation Signatures dataset.', 'sets of genes differentially expressed following drug perturbation from the RummaGEO Drug Perturbation Signatures dataset.', 'drug perturbations changing expression of {0} gene from the RummaGEO Drug Perturbation Signatures dataset.', 'increased expression', 'decreased expression', 1, 0, '2025-01-07', 'rummageochem', 0, 117, 16, 7, 8, 2, 'gene expression by RNA-seq', 'curated experimental data', 'high-throughput, data-driven', 'drug perturbations')"
   ]
  },
  {
   "cell_type": "markdown",
   "metadata": {},
   "source": [
    "### Publication"
   ]
  },
  {
   "cell_type": "code",
   "execution_count": null,
   "metadata": {},
   "outputs": [],
   "source": [
    "(252, 166, 162)"
   ]
  },
  {
   "cell_type": "markdown",
   "metadata": {},
   "source": [
    "### Genes"
   ]
  },
  {
   "cell_type": "code",
   "execution_count": null,
   "metadata": {},
   "outputs": [],
   "source": [
    "prodgenes = pd.read_csv('../../../tables/gene.csv')\n",
    "prodgenelist = prodgenes['symbol'].to_list()\n",
    "genefks = prodgenes.set_index('symbol')['id'].to_dict()"
   ]
  },
  {
   "cell_type": "code",
   "execution_count": null,
   "metadata": {},
   "outputs": [],
   "source": [
    "index = 58755\n",
    "geneurl = 'https://ncbi.nlm.nih.gov/gene/'\n",
    "\n",
    "for gene in rummageodrugpert['Gene'].apply(str.upper).unique():\n",
    "    if gene not in prodgenelist:\n",
    "        print((index, gene, geneinfo.loc[gene, 'GeneID'], geneinfo.loc[gene, 'description'], geneurl+str(geneinfo.loc[gene, 'GeneID'])), end=',\\n')\n",
    "        genefks[gene] = index\n",
    "        index += 1"
   ]
  },
  {
   "cell_type": "markdown",
   "metadata": {},
   "source": [
    "### Attributes"
   ]
  },
  {
   "cell_type": "code",
   "execution_count": null,
   "metadata": {},
   "outputs": [],
   "source": [
    "index = 510174\n",
    "attributefks = {}\n",
    "url = 'https://rummageo.com/term-search?q='\n",
    "\n",
    "\n",
    "for drugpert in rummageodrugpert['Drug Perturbation'].unique():\n",
    "    print((index, drugpert, ' vs '.join(conds[drugpert]), f'{url}{drugpert.split(\"_\")[0]}', 111), end=',\\n')\n",
    "    attributefks[drugpert] = index\n",
    "    index += 1"
   ]
  },
  {
   "cell_type": "markdown",
   "metadata": {},
   "source": [
    "### Gene Sets"
   ]
  },
  {
   "cell_type": "code",
   "execution_count": null,
   "metadata": {},
   "outputs": [],
   "source": [
    "index = 136700000\n",
    "genesetfks = {}\n",
    "\n",
    "for drugpert in rummageodrugpert['Drug Perturbation'].unique():\n",
    "    print((index, drugpert, ' vs '.join(conds[drugpert]), f'{url}{drugpert.split(\"_\")[0]}', 166, 8, attributefks[drugpert]), end=',\\n')\n",
    "    genesetfks[drugpert] = index\n",
    "    index += 1"
   ]
  },
  {
   "cell_type": "code",
   "execution_count": null,
   "metadata": {},
   "outputs": [],
   "source": [
    "atindex = 510174\n",
    "atdict = {}\n",
    "\n",
    "with open('attributes.txt', 'r') as f:\n",
    "    for line in f:\n",
    "        line = line.replace('(','').replace('),\\n','').split(', ')\n",
    "        atdict[line[0]] = atindex\n",
    "        line[0] = str(atindex)\n",
    "        atindex += 1\n",
    "        print(f'({\", \".join(line)}),')"
   ]
  },
  {
   "cell_type": "markdown",
   "metadata": {},
   "source": [
    "### Associations"
   ]
  },
  {
   "cell_type": "code",
   "execution_count": null,
   "metadata": {},
   "outputs": [],
   "source": [
    "associations = rummageodrugpert.copy()\n",
    "associations['Drug Perturbation'] = associations['Drug Perturbation'].map(genesetfks)\n",
    "associations['Gene'] = associations['Gene'].map(str.upper).map(genefks)\n",
    "associations.columns = ['gene_set_fk', 'gene_fk', 'threshold_value']\n",
    "associations = associations[['gene_fk', 'gene_set_fk', 'threshold_value']]\n",
    "associations = associations.rename_axis('id')\n",
    "associations.index += 169000000\n",
    "associations.to_csv('../../../harmonizome-update/rummageodrug.csv')\n",
    "associations"
   ]
  },
  {
   "cell_type": "markdown",
   "metadata": {},
   "source": [
    "## Create Downloads"
   ]
  },
  {
   "cell_type": "code",
   "execution_count": null,
   "metadata": {},
   "outputs": [],
   "source": [
    "output_path = 'downloads/'"
   ]
  },
  {
   "cell_type": "markdown",
   "metadata": {},
   "source": [
    "### Gene-Attribute Binary Matrix"
   ]
  },
  {
   "cell_type": "code",
   "execution_count": null,
   "metadata": {},
   "outputs": [],
   "source": [
    "ternarymatrix = pd.crosstab(rummageodrugpert['Gene'], rummageodrugpert['Drug Perturbation'], values=rummageodrugpert['Direction'], aggfunc=max).replace(np.nan, 0).astype(int)\n",
    "ternarymatrixT = ternarymatrix.T\n",
    "ternarymatrix.to_csv(output_path+'gene_attribute_matrix.txt.gz', sep='\\t', compression='gzip')\n",
    "ternarymatrix"
   ]
  },
  {
   "cell_type": "markdown",
   "metadata": {},
   "source": [
    "### Gene-Attribute Edge List"
   ]
  },
  {
   "cell_type": "code",
   "execution_count": null,
   "metadata": {},
   "outputs": [],
   "source": [
    "edgelist = rummageodrugpert.get(['Gene', 'Drug Perturbation', 'Direction'])\n",
    "edgelist['Gene ID'] = edgelist['Gene'].map(str.upper).map(geneids)\n",
    "edgelist = edgelist[['Gene', 'Gene ID', 'Drug Perturbation', 'Direction']]\n",
    "edgelist.columns = ['Gene', 'Gene ID', 'Drug Perturbation', 'Threshold']\n",
    "edgelist.to_csv(output_path+'gene_attribute_edges.txt.gz', sep='\\t', compression='gzip')\n",
    "edgelist"
   ]
  },
  {
   "cell_type": "markdown",
   "metadata": {},
   "source": [
    "### Gene List"
   ]
  },
  {
   "cell_type": "code",
   "execution_count": null,
   "metadata": {},
   "outputs": [],
   "source": [
    "geneslist = edgelist.get(['Gene', 'Gene ID']).drop_duplicates().reset_index(drop=True)\n",
    "geneslist.to_csv(output_path+'gene_list_terms.txt.gz', sep='\\t', compression='gzip')\n",
    "geneslist"
   ]
  },
  {
   "cell_type": "markdown",
   "metadata": {},
   "source": [
    "### Attribute List"
   ]
  },
  {
   "cell_type": "code",
   "execution_count": null,
   "metadata": {},
   "outputs": [],
   "source": [
    "attributeslist = edgelist.get(['Drug Perturbation']).drop_duplicates().reset_index(drop=True)\n",
    "attributeslist.to_csv(output_path+'attribute_list_entries.txt.gz', sep='\\t', compression='gzip')\n",
    "attributeslist"
   ]
  },
  {
   "cell_type": "markdown",
   "metadata": {},
   "source": [
    "### Up Gene Set Library"
   ]
  },
  {
   "cell_type": "code",
   "execution_count": null,
   "metadata": {},
   "outputs": [],
   "source": [
    "with open(output_path+'gene_set_library_up_crisp.gmt', 'w') as f:\n",
    "    arr = ternarymatrix.reset_index(drop=True).to_numpy(dtype=np.int_)\n",
    "    attributes = ternarymatrix.columns\n",
    "\n",
    "    w, h = arr.shape\n",
    "    for i in tqdm(range(h)):\n",
    "        if len([*ternarymatrix.index[arr[:, i] == 1]])>= 5:\n",
    "            print(attributes[i], '', *ternarymatrix.index[arr[:, i] == 1], sep='\\t', end='\\n', file=f)"
   ]
  },
  {
   "cell_type": "markdown",
   "metadata": {},
   "source": [
    "### Down Gene Set Library"
   ]
  },
  {
   "cell_type": "code",
   "execution_count": null,
   "metadata": {},
   "outputs": [],
   "source": [
    "with open(output_path+'gene_set_library_dn_crisp.gmt', 'w') as f:\n",
    "    arr = ternarymatrix.reset_index(drop=True).to_numpy(dtype=np.int_)\n",
    "    attributes = ternarymatrix.columns\n",
    "\n",
    "    w, h = arr.shape\n",
    "    for i in tqdm(range(h)):\n",
    "        if len([*ternarymatrix.index[arr[:, i] == -1]])>= 5:\n",
    "            print(attributes[i], '', *ternarymatrix.index[arr[:, i] == -1], sep='\\t', end='\\n', file=f)"
   ]
  },
  {
   "cell_type": "markdown",
   "metadata": {},
   "source": [
    "### Up Attribute Set Library"
   ]
  },
  {
   "cell_type": "code",
   "execution_count": null,
   "metadata": {},
   "outputs": [],
   "source": [
    "with open(output_path+'attribute_set_library_up_crisp.gmt', 'w') as f:\n",
    "    arr = ternarymatrixT.reset_index(drop=True).to_numpy(dtype=np.int_)\n",
    "    genes = ternarymatrixT.columns\n",
    "\n",
    "    w, h = arr.shape\n",
    "    for i in tqdm(range(h)):\n",
    "        if len([*ternarymatrixT.index[arr[:, i] == 1]])>= 5:\n",
    "            print(genes[i], '', *ternarymatrixT.index[arr[:, i] == 1], sep='\\t', end='\\n', file=f)"
   ]
  },
  {
   "cell_type": "markdown",
   "metadata": {},
   "source": [
    "### Down Attribute Set Library"
   ]
  },
  {
   "cell_type": "code",
   "execution_count": null,
   "metadata": {},
   "outputs": [],
   "source": [
    "with open(output_path+'attribute_set_library_dn_crisp.gmt', 'w') as f:\n",
    "    arr = ternarymatrixT.reset_index(drop=True).to_numpy(dtype=np.int_)\n",
    "    genes = ternarymatrixT.columns\n",
    "\n",
    "    w, h = arr.shape\n",
    "    for i in tqdm(range(h)):\n",
    "        if len([*ternarymatrixT.index[arr[:, i] == -1]])>= 5:\n",
    "            print(genes[i],'', *ternarymatrixT.index[arr[:, i] == -1], sep='\\t', end='\\n', file=f)"
   ]
  },
  {
   "cell_type": "markdown",
   "metadata": {},
   "source": [
    "### Gene Similarity Matrix"
   ]
  },
  {
   "cell_type": "code",
   "execution_count": null,
   "metadata": {},
   "outputs": [],
   "source": [
    "gene_similarity_matrix = dist.pdist(ternarymatrix.to_numpy(dtype=np.int_), 'cosine')\n",
    "gene_similarity_matrix = dist.squareform(gene_similarity_matrix)\n",
    "gene_similarity_matrix = 1 - gene_similarity_matrix\n",
    "\n",
    "gene_similarity_matrix = pd.DataFrame(data=gene_similarity_matrix, index=ternarymatrix.index, columns=ternarymatrix.index)\n",
    "gene_similarity_matrix.index.name = None\n",
    "gene_similarity_matrix.columns.name = None\n",
    "gene_similarity_matrix.to_csv(output_path+'gene_similarity_matrix_cosine.txt.gz', sep='\\t', compression='gzip')\n",
    "gene_similarity_matrix"
   ]
  },
  {
   "cell_type": "markdown",
   "metadata": {},
   "source": [
    "### Attribute Similarity Matrix"
   ]
  },
  {
   "cell_type": "code",
   "execution_count": null,
   "metadata": {},
   "outputs": [],
   "source": [
    "attribute_similarity_matrix = dist.pdist(ternarymatrixT.to_numpy(dtype=np.int_), 'cosine')\n",
    "attribute_similarity_matrix = dist.squareform(attribute_similarity_matrix)\n",
    "attribute_similarity_matrix = 1 - attribute_similarity_matrix\n",
    "\n",
    "attribute_similarity_matrix = pd.DataFrame(data=attribute_similarity_matrix, index=ternarymatrixT.index, columns=ternarymatrixT.index)\n",
    "attribute_similarity_matrix.index.name = None\n",
    "attribute_similarity_matrix.columns.name = None\n",
    "attribute_similarity_matrix.to_csv(output_path+'attribute_similarity_matrix_cosine.txt.gz', sep='\\t', compression='gzip')\n",
    "attribute_similarity_matrix"
   ]
  },
  {
   "cell_type": "markdown",
   "metadata": {},
   "source": [
    "### Knowledge Graph Serialization"
   ]
  },
  {
   "cell_type": "code",
   "execution_count": null,
   "metadata": {},
   "outputs": [],
   "source": [
    "nodes = {}\n",
    "edges = []\n",
    "\n",
    "for gene in geneslist.index:\n",
    "    gene = geneslist.loc[gene]\n",
    "    nodes[int(gene['Gene ID'])] = {\n",
    "        \"type\":\"gene\",\n",
    "        \"properties\": {\n",
    "            \"id\":int(gene['Gene ID']),\n",
    "            \"label\":gene['Gene']\n",
    "        }}\n",
    "\n",
    "for drugpert in attributeslist.index:\n",
    "    drugpert = attributeslist.loc[drugpert]\n",
    "    nodes['RummaGEO_'+drugpert['Drug Perturbation']] = {\n",
    "        \"type\":\"drug perturbation\",\n",
    "        \"properties\": {\n",
    "            \"id\":'RummaGEO_'+drugpert['Drug Perturbation'],\n",
    "            \"label\":drugpert['Drug Perturbation']\n",
    "        }}\n",
    "\n",
    "for edge in edgelist.index:\n",
    "    edge = edgelist.loc[edge]\n",
    "    if edge['Threshold'] == 1:\n",
    "        edges.append({\n",
    "            \"source\": 'RummaGEO_' + edge['Drug Perturbation'],\n",
    "            \"relation\": \"increases expression of\",\n",
    "            \"target\": int(edge['Gene ID']),\n",
    "            \"properties\":{\n",
    "                \"id\": 'RummaGEO_' + edge['Drug Perturbation']+\":\"+str(edge['Gene ID']),\n",
    "                \"source_id\":'RummaGEO_' + edge['Drug Perturbation'],\n",
    "                \"source_label\":edge['Drug Perturbation'],\n",
    "                \"target_label\":edge['Gene'],\n",
    "                \"target_id\": int(edge['Gene ID']),\n",
    "                \"directed\":True,\n",
    "                \"threshold\":1\n",
    "            }})\n",
    "    else:\n",
    "        edges.append({\n",
    "            \"source\": 'RummaGEO_' + edge['Drug Perturbation'],\n",
    "            \"relation\": \"decreases expression of\",\n",
    "            \"target\": int(edge['Gene ID']),\n",
    "            \"properties\":{\n",
    "                \"id\": 'RummaGEO_' + edge['Drug Perturbation']+\":\"+str(edge['Gene ID']),\n",
    "                \"source_id\":'RummaGEO_' + edge['Drug Perturbation'],\n",
    "                \"source_label\":edge['Drug Perturbation'],\n",
    "                \"target_label\":edge['Gene'],\n",
    "                \"target_id\": int(edge['Gene ID']),\n",
    "                \"directed\":True,\n",
    "                \"threshold\":-1\n",
    "            }})"
   ]
  },
  {
   "cell_type": "markdown",
   "metadata": {},
   "source": [
    "#### RDF"
   ]
  },
  {
   "cell_type": "code",
   "execution_count": null,
   "metadata": {},
   "outputs": [],
   "source": [
    "with open(output_path+'kg_serializations/rummageodrug.rdf', 'w') as f:\n",
    "    print('@prefix gene: ncbi.nlm.nih.gov/gene/', file=f)\n",
    "    print('@prefix RO: purl.obolibrary.org/RO_', file=f)\n",
    "    \n",
    "    print('', file=f)\n",
    "    for edge in edges:\n",
    "        if edge['properties']['threshold'] == 1:\n",
    "            print(edge['properties']['source_id'].replace('_',':',1), 'RO:0003003', 'gene:'+str(edge['properties']['target_id']), end=' .\\n', file=f)\n",
    "        else:\n",
    "            print(edge['properties']['source_id'].replace('_',':',1), 'RO:0003002', 'gene:'+str(edge['properties']['target_id']), end=' .\\n', file=f)"
   ]
  },
  {
   "cell_type": "markdown",
   "metadata": {},
   "source": [
    "#### JSON"
   ]
  },
  {
   "cell_type": "code",
   "execution_count": null,
   "metadata": {},
   "outputs": [],
   "source": [
    "with open(output_path+'kg_serializations/rummageodrug.json', 'w') as f:\n",
    "    serial = json.dump(\n",
    "        {\n",
    "            \"Version\":\"1\", \n",
    "            \"nodes\": nodes,\n",
    "            \"edges\": edges\n",
    "        }, indent=4, fp=f)"
   ]
  },
  {
   "cell_type": "markdown",
   "metadata": {},
   "source": [
    "#### TSV"
   ]
  },
  {
   "cell_type": "code",
   "execution_count": null,
   "metadata": {},
   "outputs": [],
   "source": [
    "nodeframe = pd.DataFrame(nodes).T\n",
    "nodeframe['id'] = nodeframe['properties'].apply(lambda x: x['id'])\n",
    "nodeframe['label'] = nodeframe['properties'].apply(lambda x: x['label'])\n",
    "nodeframe['namespace'] = nodeframe['type'].apply(lambda x: {'gene':'NCBI Entrez', 'drug perturbation':'RummaGEO'}[x])\n",
    "nodeframe = nodeframe.get(['namespace', 'id', 'label']).reset_index(drop=True)\n",
    "nodeframe.to_csv(output_path+'kg_serializations/rummageodrug_tsv/nodes.tsv', sep='\\t')\n",
    "nodeframe"
   ]
  },
  {
   "cell_type": "code",
   "execution_count": null,
   "metadata": {},
   "outputs": [],
   "source": [
    "edgeframe = pd.DataFrame(edges)\n",
    "edgeframe['threshold'] = edgeframe['properties'].apply(lambda x: x['threshold'])\n",
    "edgeframe = edgeframe.get(['source', 'relation', 'target', 'threshold'])\n",
    "edgeframe.to_csv(output_path+'kg_serializations/rummageodrug_tsv/edges.tsv', sep='\\t')\n",
    "edgeframe"
   ]
  },
  {
   "cell_type": "markdown",
   "metadata": {},
   "source": [
    "## Create Visualizations"
   ]
  },
  {
   "cell_type": "markdown",
   "metadata": {},
   "source": [
    "### Gene Attribute Heat Map"
   ]
  },
  {
   "cell_type": "code",
   "execution_count": null,
   "metadata": {},
   "outputs": [],
   "source": [
    "sns.clustermap(ternarymatrix, cmap='seismic', center=0, square=True, xticklabels=False, yticklabels=False)"
   ]
  },
  {
   "cell_type": "markdown",
   "metadata": {},
   "source": [
    "### Gene Similarity Clustered Heatmap"
   ]
  },
  {
   "cell_type": "code",
   "execution_count": null,
   "metadata": {},
   "outputs": [],
   "source": [
    "sns.clustermap(gene_similarity_matrix, cmap='seismic', center=0)"
   ]
  },
  {
   "cell_type": "markdown",
   "metadata": {},
   "source": [
    "### Attribute Similarity Clustered Heatmap"
   ]
  },
  {
   "cell_type": "code",
   "execution_count": null,
   "metadata": {},
   "outputs": [],
   "source": [
    "sns.clustermap(attribute_similarity_matrix, cmap='seismic', center=0, xticklabels=False, yticklabels=False)"
   ]
  },
  {
   "cell_type": "markdown",
   "metadata": {},
   "source": [
    "### UMAP"
   ]
  },
  {
   "cell_type": "code",
   "execution_count": null,
   "metadata": {},
   "outputs": [],
   "source": [
    "def load_gmt(file):\n",
    "    gmt = OrderedDict()\n",
    "    for line in file:\n",
    "        term, blank, *geneset = line.strip().split('\\t')\n",
    "        if 'consensus' not in term:\n",
    "            term = f'{term}_up'\n",
    "        gmt[term] = ' '.join(set(geneset))\n",
    "    return gmt\n",
    "libdict = load_gmt(open('downloads/gene_set_library_up_crisp.gmt', 'r'))\n",
    "def load_gmt(file):\n",
    "    gmt = OrderedDict()\n",
    "    for line in file:\n",
    "        term, blank, *geneset = line.strip().split('\\t')\n",
    "        gmt[f'{term}_down'] = ' '.join(set(geneset))\n",
    "    return gmt\n",
    "downlibdict = load_gmt(open('downloads/gene_set_library_dn_crisp.gmt', 'r'))\n",
    "libdict.update(downlibdict)\n",
    "scatterdir = 'images/'"
   ]
  },
  {
   "cell_type": "code",
   "execution_count": null,
   "metadata": {},
   "outputs": [],
   "source": [
    "def process_scatterplot(libdict, nneighbors=30, mindist=0.1, spread=1.0, maxdf=1.0, mindf=1):\n",
    "    print(\"\\tTF-IDF vectorizing gene set data...\")\n",
    "    vec = TfidfVectorizer(max_df=maxdf, min_df=mindf)\n",
    "    X = vec.fit_transform(libdict.values())\n",
    "    print(X.shape)\n",
    "    adata = anndata.AnnData(X)\n",
    "    adata.obs.index = libdict.keys()\n",
    "\n",
    "    print(\"\\tPerforming Leiden clustering...\")\n",
    "    ### the n_neighbors and min_dist parameters can be altered\n",
    "    sc.pp.neighbors(adata, n_neighbors=nneighbors, use_rep='X')\n",
    "    sc.tl.leiden(adata, resolution=1.0)\n",
    "    sc.tl.umap(adata, min_dist=mindist, spread=spread, random_state=42)\n",
    "\n",
    "    new_order = adata.obs.sort_values(by='leiden').index.tolist()\n",
    "    adata = adata[new_order, :]\n",
    "    adata.obs['leiden'] = 'Cluster ' + adata.obs['leiden'].astype('object')\n",
    "\n",
    "    df = pd.DataFrame(adata.obsm['X_umap'])\n",
    "    df.columns = ['x', 'y']\n",
    "\n",
    "    df['cluster'] = adata.obs['leiden'].values\n",
    "    df['term'] = adata.obs.index\n",
    "    df['genes'] = [libdict[l] for l in df['term']]\n",
    "\n",
    "    return df"
   ]
  },
  {
   "cell_type": "code",
   "execution_count": null,
   "metadata": {},
   "outputs": [],
   "source": [
    "def get_scatter_colors(df):\n",
    "    clusters = pd.unique(df['cluster']).tolist()\n",
    "    colors = list(Category20[20])[::2] + list(Category20[20])[1::2]\n",
    "    color_mapper = {clusters[i]: colors[i % 20] for i in range(len(clusters))}\n",
    "    return color_mapper\n",
    "\n",
    "def get_scatterplot(scatterdf):\n",
    "    df = scatterdf.copy()\n",
    "    color_mapper = get_scatter_colors(df)\n",
    "    df['color'] = df['cluster'].apply(lambda x: color_mapper[x])\n",
    "\n",
    "    hover_emb = HoverTool(name=\"df\", tooltips=\"\"\"\n",
    "        <div style=\"margin: 10\">\n",
    "            <div style=\"margin: 0 auto; width:300px;\">\n",
    "                <span style=\"font-size: 12px; font-weight: bold;\">Gene Set:</span>\n",
    "                <span style=\"font-size: 12px\">@gene_set</span>\n",
    "            <div style=\"margin: 0 auto; width:300px;\">\n",
    "                <span style=\"font-size: 12px; font-weight: bold;\">Coordinates:</span>\n",
    "                <span style=\"font-size: 12px\">(@x,@y)</span>\n",
    "            <div style=\"margin: 0 auto; width:300px;\">\n",
    "                <span style=\"font-size: 12px; font-weight: bold;\">Cluster:</span>\n",
    "                <span style=\"font-size: 12px\">@cluster</span>\n",
    "            </div>\n",
    "        </div>\n",
    "    \"\"\")\n",
    "    tools_emb = [hover_emb, 'pan', 'wheel_zoom', 'reset', 'save']\n",
    "\n",
    "    plot_emb = figure(\n",
    "        width=1000, \n",
    "        height=700, \n",
    "        tools=tools_emb\n",
    "    )\n",
    "\n",
    "    source = ColumnDataSource(\n",
    "        data=dict(\n",
    "            x = df['x'],\n",
    "            y = df['y'],\n",
    "            gene_set = df['term'],\n",
    "            cluster = df['cluster'],\n",
    "            colors = df['color'],\n",
    "            label = df['cluster']\n",
    "        )\n",
    "    )\n",
    "\n",
    "    # hide axis labels and grid lines\n",
    "    plot_emb.xaxis.major_tick_line_color = None\n",
    "    plot_emb.xaxis.minor_tick_line_color = None\n",
    "    plot_emb.yaxis.major_tick_line_color = None\n",
    "    plot_emb.yaxis.minor_tick_line_color = None\n",
    "    plot_emb.xaxis.major_label_text_font_size = '0pt'\n",
    "    plot_emb.yaxis.major_label_text_font_size = '0pt' \n",
    "\n",
    "    plot_emb.output_backend = \"svg\"    \n",
    "    \n",
    "    plot_emb.title = 'Gene Sets in the RummaGEO Drug Perturbation Signatures Library'\n",
    "    plot_emb.xaxis.axis_label = \"UMAP_1\"\n",
    "    plot_emb.yaxis.axis_label = \"UMAP_2\"\n",
    "    plot_emb.xaxis.axis_label_text_font_style = 'normal'\n",
    "    plot_emb.xaxis.axis_label_text_font_size = '18px'\n",
    "    plot_emb.yaxis.axis_label_text_font_size = '18px'\n",
    "    plot_emb.yaxis.axis_label_text_font_style = 'normal'\n",
    "    plot_emb.title.align = 'center'\n",
    "    plot_emb.title.text_font_size = '18px'\n",
    "    \n",
    "    s = plot_emb.scatter(\n",
    "        'x', \n",
    "        'y', \n",
    "        size = 4, \n",
    "        source = source, \n",
    "        color = 'colors'\n",
    "    )\n",
    "    \n",
    "    return plot_emb"
   ]
  },
  {
   "cell_type": "code",
   "execution_count": null,
   "metadata": {},
   "outputs": [],
   "source": [
    "## defaults: nneighbors=30, mindist=0.1, spread=1.0, maxdf=1.0, mindf=1\n",
    "scatter_df = process_scatterplot(libdict, nneighbors=30,mindist=0.1\n",
    "     ,spread=1\n",
    "     ,maxdf=1.0\n",
    "     ,mindf=2\n",
    ")\n",
    "\n",
    "# Display Scatter Plot\n",
    "plot = get_scatterplot(scatter_df)\n",
    "output_notebook()\n",
    "show(plot)"
   ]
  },
  {
   "cell_type": "code",
   "execution_count": null,
   "metadata": {},
   "outputs": [],
   "source": [
    "output_file(filename=f\"{scatterdir}/umap.html\", title = 'Gene Sets in RummaGEO Drug Perturbation Signatures Library')\n",
    "save(plot)"
   ]
  }
 ],
 "metadata": {
  "kernelspec": {
   "display_name": "Python 3.10.13 ('harmonizomeETL')",
   "language": "python",
   "name": "python3"
  },
  "language_info": {
   "codemirror_mode": {
    "name": "ipython",
    "version": 3
   },
   "file_extension": ".py",
   "mimetype": "text/x-python",
   "name": "python",
   "nbconvert_exporter": "python",
   "pygments_lexer": "ipython3",
   "version": "3.10.13"
  },
  "orig_nbformat": 4,
  "vscode": {
   "interpreter": {
    "hash": "3ad6724d56c4b72bd8e5b8da3c2e0dcf6d86fdd164f3c98d6d6a78c076afabab"
   }
  }
 },
 "nbformat": 4,
 "nbformat_minor": 2
}
