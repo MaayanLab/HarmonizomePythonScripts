{
 "cells": [
  {
   "cell_type": "markdown",
   "metadata": {},
   "source": [
    "# ESCAPE (gene target)"
   ]
  },
  {
   "cell_type": "markdown",
   "metadata": {},
   "source": [
    "Author: Moshe Silverstein <br/>\n",
    "Date: 8-17 <br/>\n",
    "Data Source: http://www.maayanlab.net/ESCAPE/download.php"
   ]
  },
  {
   "cell_type": "code",
   "execution_count": 1,
   "metadata": {
    "collapsed": true
   },
   "outputs": [],
   "source": [
    "import sys, datetime, os\n",
    "import numpy as np\n",
    "import pandas as pd\n",
    "import importlib\n",
    "import untility_functions as uf\n",
    "%matplotlib inline"
   ]
  },
  {
   "cell_type": "code",
   "execution_count": 2,
   "metadata": {},
   "outputs": [
    {
     "data": {
      "text/plain": [
       "<module 'untility_functions' from '/Users/moshesilverstein/Documents/Harmonizome/ESCAPE/untility_functions.py'>"
      ]
     },
     "execution_count": 2,
     "metadata": {},
     "output_type": "execute_result"
    }
   ],
   "source": [
    "importlib.reload(uf)"
   ]
  },
  {
   "cell_type": "markdown",
   "metadata": {},
   "source": [
    "# Load Data"
   ]
  },
  {
   "cell_type": "code",
   "execution_count": 26,
   "metadata": {},
   "outputs": [],
   "source": [
    "df = pd.read_csv('Input/chip_x.txt', sep='\\t')"
   ]
  },
  {
   "cell_type": "code",
   "execution_count": 28,
   "metadata": {},
   "outputs": [
    {
     "data": {
      "text/html": [
       "<div>\n",
       "<style>\n",
       "    .dataframe thead tr:only-child th {\n",
       "        text-align: right;\n",
       "    }\n",
       "\n",
       "    .dataframe thead th {\n",
       "        text-align: left;\n",
       "    }\n",
       "\n",
       "    .dataframe tbody tr th {\n",
       "        vertical-align: top;\n",
       "    }\n",
       "</style>\n",
       "<table border=\"1\" class=\"dataframe\">\n",
       "  <thead>\n",
       "    <tr style=\"text-align: right;\">\n",
       "      <th></th>\n",
       "      <th>sourceName</th>\n",
       "      <th>sourceID</th>\n",
       "      <th>targetName</th>\n",
       "      <th>targetID</th>\n",
       "      <th>pmid</th>\n",
       "      <th>chipType</th>\n",
       "      <th>cellType</th>\n",
       "      <th>modification_date</th>\n",
       "    </tr>\n",
       "  </thead>\n",
       "  <tbody>\n",
       "    <tr>\n",
       "      <th>0</th>\n",
       "      <td>CHD7</td>\n",
       "      <td>320790</td>\n",
       "      <td>APOA1</td>\n",
       "      <td>11806</td>\n",
       "      <td>19251738</td>\n",
       "      <td>ChIP-chip</td>\n",
       "      <td>MESC</td>\n",
       "      <td>11/5/2010</td>\n",
       "    </tr>\n",
       "    <tr>\n",
       "      <th>1</th>\n",
       "      <td>CHD7</td>\n",
       "      <td>320790</td>\n",
       "      <td>ARHGAP26</td>\n",
       "      <td>71302</td>\n",
       "      <td>19251738</td>\n",
       "      <td>ChIP-chip</td>\n",
       "      <td>MESC</td>\n",
       "      <td>11/5/2010</td>\n",
       "    </tr>\n",
       "    <tr>\n",
       "      <th>2</th>\n",
       "      <td>CHD7</td>\n",
       "      <td>320790</td>\n",
       "      <td>ATP11A</td>\n",
       "      <td>50770</td>\n",
       "      <td>19251738</td>\n",
       "      <td>ChIP-chip</td>\n",
       "      <td>MESC</td>\n",
       "      <td>11/5/2010</td>\n",
       "    </tr>\n",
       "    <tr>\n",
       "      <th>3</th>\n",
       "      <td>CHD7</td>\n",
       "      <td>320790</td>\n",
       "      <td>ATP5O</td>\n",
       "      <td>28080</td>\n",
       "      <td>19251738</td>\n",
       "      <td>ChIP-chip</td>\n",
       "      <td>MESC</td>\n",
       "      <td>11/5/2010</td>\n",
       "    </tr>\n",
       "    <tr>\n",
       "      <th>4</th>\n",
       "      <td>CHD7</td>\n",
       "      <td>320790</td>\n",
       "      <td>AXIN1</td>\n",
       "      <td>12005</td>\n",
       "      <td>19251738</td>\n",
       "      <td>ChIP-chip</td>\n",
       "      <td>MESC</td>\n",
       "      <td>11/5/2010</td>\n",
       "    </tr>\n",
       "    <tr>\n",
       "      <th>5</th>\n",
       "      <td>CHD7</td>\n",
       "      <td>320790</td>\n",
       "      <td>BCL11B</td>\n",
       "      <td>58208</td>\n",
       "      <td>19251738</td>\n",
       "      <td>ChIP-chip</td>\n",
       "      <td>MESC</td>\n",
       "      <td>11/5/2010</td>\n",
       "    </tr>\n",
       "    <tr>\n",
       "      <th>6</th>\n",
       "      <td>CHD7</td>\n",
       "      <td>320790</td>\n",
       "      <td>BMP4</td>\n",
       "      <td>12159</td>\n",
       "      <td>19251738</td>\n",
       "      <td>ChIP-chip</td>\n",
       "      <td>MESC</td>\n",
       "      <td>11/5/2010</td>\n",
       "    </tr>\n",
       "    <tr>\n",
       "      <th>7</th>\n",
       "      <td>CHD7</td>\n",
       "      <td>320790</td>\n",
       "      <td>BRWD1</td>\n",
       "      <td>93871</td>\n",
       "      <td>19251738</td>\n",
       "      <td>ChIP-chip</td>\n",
       "      <td>MESC</td>\n",
       "      <td>11/5/2010</td>\n",
       "    </tr>\n",
       "    <tr>\n",
       "      <th>8</th>\n",
       "      <td>CHD7</td>\n",
       "      <td>320790</td>\n",
       "      <td>BUD13</td>\n",
       "      <td>215051</td>\n",
       "      <td>19251738</td>\n",
       "      <td>ChIP-chip</td>\n",
       "      <td>MESC</td>\n",
       "      <td>11/5/2010</td>\n",
       "    </tr>\n",
       "    <tr>\n",
       "      <th>9</th>\n",
       "      <td>CHD7</td>\n",
       "      <td>320790</td>\n",
       "      <td>C21ORF59</td>\n",
       "      <td>0</td>\n",
       "      <td>19251738</td>\n",
       "      <td>ChIP-chip</td>\n",
       "      <td>MESC</td>\n",
       "      <td>11/5/2010</td>\n",
       "    </tr>\n",
       "  </tbody>\n",
       "</table>\n",
       "</div>"
      ],
      "text/plain": [
       "  sourceName  sourceID targetName  targetID      pmid   chipType cellType  \\\n",
       "0       CHD7    320790      APOA1     11806  19251738  ChIP-chip     MESC   \n",
       "1       CHD7    320790   ARHGAP26     71302  19251738  ChIP-chip     MESC   \n",
       "2       CHD7    320790     ATP11A     50770  19251738  ChIP-chip     MESC   \n",
       "3       CHD7    320790      ATP5O     28080  19251738  ChIP-chip     MESC   \n",
       "4       CHD7    320790      AXIN1     12005  19251738  ChIP-chip     MESC   \n",
       "5       CHD7    320790     BCL11B     58208  19251738  ChIP-chip     MESC   \n",
       "6       CHD7    320790       BMP4     12159  19251738  ChIP-chip     MESC   \n",
       "7       CHD7    320790      BRWD1     93871  19251738  ChIP-chip     MESC   \n",
       "8       CHD7    320790      BUD13    215051  19251738  ChIP-chip     MESC   \n",
       "9       CHD7    320790   C21ORF59         0  19251738  ChIP-chip     MESC   \n",
       "\n",
       "  modification_date  \n",
       "0         11/5/2010  \n",
       "1         11/5/2010  \n",
       "2         11/5/2010  \n",
       "3         11/5/2010  \n",
       "4         11/5/2010  \n",
       "5         11/5/2010  \n",
       "6         11/5/2010  \n",
       "7         11/5/2010  \n",
       "8         11/5/2010  \n",
       "9         11/5/2010  "
      ]
     },
     "execution_count": 28,
     "metadata": {},
     "output_type": "execute_result"
    }
   ],
   "source": [
    "df.head(10)"
   ]
  },
  {
   "cell_type": "code",
   "execution_count": 14,
   "metadata": {
    "collapsed": true
   },
   "outputs": [],
   "source": [
    "df = df[['sourceName', 'targetName']]"
   ]
  },
  {
   "cell_type": "code",
   "execution_count": 15,
   "metadata": {},
   "outputs": [
    {
     "data": {
      "text/html": [
       "<div>\n",
       "<style>\n",
       "    .dataframe thead tr:only-child th {\n",
       "        text-align: right;\n",
       "    }\n",
       "\n",
       "    .dataframe thead th {\n",
       "        text-align: left;\n",
       "    }\n",
       "\n",
       "    .dataframe tbody tr th {\n",
       "        vertical-align: top;\n",
       "    }\n",
       "</style>\n",
       "<table border=\"1\" class=\"dataframe\">\n",
       "  <thead>\n",
       "    <tr style=\"text-align: right;\">\n",
       "      <th></th>\n",
       "      <th>sourceName</th>\n",
       "      <th>targetName</th>\n",
       "    </tr>\n",
       "  </thead>\n",
       "  <tbody>\n",
       "    <tr>\n",
       "      <th>0</th>\n",
       "      <td>CHD7</td>\n",
       "      <td>APOA1</td>\n",
       "    </tr>\n",
       "    <tr>\n",
       "      <th>1</th>\n",
       "      <td>CHD7</td>\n",
       "      <td>ARHGAP26</td>\n",
       "    </tr>\n",
       "    <tr>\n",
       "      <th>2</th>\n",
       "      <td>CHD7</td>\n",
       "      <td>ATP11A</td>\n",
       "    </tr>\n",
       "    <tr>\n",
       "      <th>3</th>\n",
       "      <td>CHD7</td>\n",
       "      <td>ATP5O</td>\n",
       "    </tr>\n",
       "    <tr>\n",
       "      <th>4</th>\n",
       "      <td>CHD7</td>\n",
       "      <td>AXIN1</td>\n",
       "    </tr>\n",
       "  </tbody>\n",
       "</table>\n",
       "</div>"
      ],
      "text/plain": [
       "  sourceName targetName\n",
       "0       CHD7      APOA1\n",
       "1       CHD7   ARHGAP26\n",
       "2       CHD7     ATP11A\n",
       "3       CHD7      ATP5O\n",
       "4       CHD7      AXIN1"
      ]
     },
     "execution_count": 15,
     "metadata": {},
     "output_type": "execute_result"
    }
   ],
   "source": [
    "df.head()"
   ]
  },
  {
   "cell_type": "markdown",
   "metadata": {},
   "source": [
    "# Map Gene Symbols To Up-to-date Approved Gene Symbols"
   ]
  },
  {
   "cell_type": "code",
   "execution_count": 16,
   "metadata": {
    "collapsed": true
   },
   "outputs": [],
   "source": [
    "df.set_index('sourceName', inplace=True)"
   ]
  },
  {
   "cell_type": "code",
   "execution_count": 17,
   "metadata": {},
   "outputs": [
    {
     "name": "stdout",
     "output_type": "stream",
     "text": [
      "Progeres: 100%  133975 Out of 133975   \r"
     ]
    }
   ],
   "source": [
    "uf.mapgenesymbols(df)"
   ]
  },
  {
   "cell_type": "code",
   "execution_count": 18,
   "metadata": {
    "collapsed": true
   },
   "outputs": [],
   "source": [
    "df.reset_index(inplace=True)"
   ]
  },
  {
   "cell_type": "code",
   "execution_count": 19,
   "metadata": {
    "collapsed": true
   },
   "outputs": [],
   "source": [
    "df.set_index('targetName', inplace=True)"
   ]
  },
  {
   "cell_type": "code",
   "execution_count": 20,
   "metadata": {},
   "outputs": [
    {
     "name": "stdout",
     "output_type": "stream",
     "text": [
      "Progeres: 100%  129239 Out of 129239   \r"
     ]
    }
   ],
   "source": [
    "uf.mapgenesymbols(df)"
   ]
  },
  {
   "cell_type": "code",
   "execution_count": 21,
   "metadata": {
    "collapsed": true
   },
   "outputs": [],
   "source": [
    "df.reset_index(inplace=True)"
   ]
  },
  {
   "cell_type": "markdown",
   "metadata": {},
   "source": [
    "# Drop Duplicates"
   ]
  },
  {
   "cell_type": "code",
   "execution_count": 22,
   "metadata": {
    "collapsed": true
   },
   "outputs": [],
   "source": [
    "df.drop_duplicates(inplace=True)"
   ]
  },
  {
   "cell_type": "code",
   "execution_count": 23,
   "metadata": {},
   "outputs": [
    {
     "data": {
      "text/plain": [
       "(81444, 2)"
      ]
     },
     "execution_count": 23,
     "metadata": {},
     "output_type": "execute_result"
    }
   ],
   "source": [
    "df.shape"
   ]
  },
  {
   "cell_type": "markdown",
   "metadata": {},
   "source": [
    "# Create Binary Matrix"
   ]
  },
  {
   "cell_type": "code",
   "execution_count": 24,
   "metadata": {},
   "outputs": [
    {
     "name": "stdout",
     "output_type": "stream",
     "text": [
      "Progeres: 100%  13514 Out of 13514   \r"
     ]
    }
   ],
   "source": [
    "binary_matrix = uf.createBinaryMatix(df)"
   ]
  },
  {
   "cell_type": "code",
   "execution_count": 25,
   "metadata": {},
   "outputs": [
    {
     "data": {
      "text/html": [
       "<div>\n",
       "<style>\n",
       "    .dataframe thead tr:only-child th {\n",
       "        text-align: right;\n",
       "    }\n",
       "\n",
       "    .dataframe thead th {\n",
       "        text-align: left;\n",
       "    }\n",
       "\n",
       "    .dataframe tbody tr th {\n",
       "        vertical-align: top;\n",
       "    }\n",
       "</style>\n",
       "<table border=\"1\" class=\"dataframe\">\n",
       "  <thead>\n",
       "    <tr style=\"text-align: right;\">\n",
       "      <th></th>\n",
       "      <th>NR0B1</th>\n",
       "      <th>CDX2</th>\n",
       "      <th>E2F4</th>\n",
       "      <th>KAT5</th>\n",
       "      <th>KLF2</th>\n",
       "      <th>NACC1</th>\n",
       "      <th>TRIM28</th>\n",
       "      <th>SMAD1</th>\n",
       "      <th>E2F1</th>\n",
       "      <th>SETDB1</th>\n",
       "      <th>...</th>\n",
       "      <th>MYC</th>\n",
       "      <th>CNOT3</th>\n",
       "      <th>EED</th>\n",
       "      <th>ZFX</th>\n",
       "      <th>ZIC3</th>\n",
       "      <th>PRDM14</th>\n",
       "      <th>EZH2</th>\n",
       "      <th>CHD7</th>\n",
       "      <th>SALL1</th>\n",
       "      <th>PHC1</th>\n",
       "    </tr>\n",
       "  </thead>\n",
       "  <tbody>\n",
       "    <tr>\n",
       "      <th>COMMD10</th>\n",
       "      <td>0</td>\n",
       "      <td>0</td>\n",
       "      <td>1</td>\n",
       "      <td>0</td>\n",
       "      <td>0</td>\n",
       "      <td>0</td>\n",
       "      <td>0</td>\n",
       "      <td>0</td>\n",
       "      <td>1</td>\n",
       "      <td>0</td>\n",
       "      <td>...</td>\n",
       "      <td>1</td>\n",
       "      <td>0</td>\n",
       "      <td>0</td>\n",
       "      <td>0</td>\n",
       "      <td>0</td>\n",
       "      <td>0</td>\n",
       "      <td>0</td>\n",
       "      <td>0</td>\n",
       "      <td>0</td>\n",
       "      <td>0</td>\n",
       "    </tr>\n",
       "    <tr>\n",
       "      <th>MORC3</th>\n",
       "      <td>0</td>\n",
       "      <td>0</td>\n",
       "      <td>1</td>\n",
       "      <td>0</td>\n",
       "      <td>0</td>\n",
       "      <td>0</td>\n",
       "      <td>0</td>\n",
       "      <td>0</td>\n",
       "      <td>0</td>\n",
       "      <td>1</td>\n",
       "      <td>...</td>\n",
       "      <td>1</td>\n",
       "      <td>0</td>\n",
       "      <td>0</td>\n",
       "      <td>0</td>\n",
       "      <td>0</td>\n",
       "      <td>0</td>\n",
       "      <td>0</td>\n",
       "      <td>0</td>\n",
       "      <td>0</td>\n",
       "      <td>0</td>\n",
       "    </tr>\n",
       "    <tr>\n",
       "      <th>FAM122C</th>\n",
       "      <td>0</td>\n",
       "      <td>0</td>\n",
       "      <td>0</td>\n",
       "      <td>0</td>\n",
       "      <td>0</td>\n",
       "      <td>0</td>\n",
       "      <td>0</td>\n",
       "      <td>0</td>\n",
       "      <td>0</td>\n",
       "      <td>0</td>\n",
       "      <td>...</td>\n",
       "      <td>0</td>\n",
       "      <td>0</td>\n",
       "      <td>0</td>\n",
       "      <td>0</td>\n",
       "      <td>0</td>\n",
       "      <td>0</td>\n",
       "      <td>0</td>\n",
       "      <td>0</td>\n",
       "      <td>0</td>\n",
       "      <td>0</td>\n",
       "    </tr>\n",
       "    <tr>\n",
       "      <th>MARS2</th>\n",
       "      <td>0</td>\n",
       "      <td>0</td>\n",
       "      <td>1</td>\n",
       "      <td>0</td>\n",
       "      <td>0</td>\n",
       "      <td>0</td>\n",
       "      <td>0</td>\n",
       "      <td>0</td>\n",
       "      <td>0</td>\n",
       "      <td>1</td>\n",
       "      <td>...</td>\n",
       "      <td>1</td>\n",
       "      <td>1</td>\n",
       "      <td>0</td>\n",
       "      <td>1</td>\n",
       "      <td>0</td>\n",
       "      <td>0</td>\n",
       "      <td>0</td>\n",
       "      <td>0</td>\n",
       "      <td>0</td>\n",
       "      <td>0</td>\n",
       "    </tr>\n",
       "    <tr>\n",
       "      <th>SAT2</th>\n",
       "      <td>0</td>\n",
       "      <td>0</td>\n",
       "      <td>0</td>\n",
       "      <td>0</td>\n",
       "      <td>0</td>\n",
       "      <td>0</td>\n",
       "      <td>0</td>\n",
       "      <td>1</td>\n",
       "      <td>0</td>\n",
       "      <td>0</td>\n",
       "      <td>...</td>\n",
       "      <td>0</td>\n",
       "      <td>0</td>\n",
       "      <td>0</td>\n",
       "      <td>0</td>\n",
       "      <td>0</td>\n",
       "      <td>0</td>\n",
       "      <td>0</td>\n",
       "      <td>0</td>\n",
       "      <td>0</td>\n",
       "      <td>0</td>\n",
       "    </tr>\n",
       "  </tbody>\n",
       "</table>\n",
       "<p>5 rows × 44 columns</p>\n",
       "</div>"
      ],
      "text/plain": [
       "         NR0B1  CDX2  E2F4  KAT5  KLF2  NACC1  TRIM28  SMAD1  E2F1  SETDB1  \\\n",
       "COMMD10      0     0     1     0     0      0       0      0     1       0   \n",
       "MORC3        0     0     1     0     0      0       0      0     0       1   \n",
       "FAM122C      0     0     0     0     0      0       0      0     0       0   \n",
       "MARS2        0     0     1     0     0      0       0      0     0       1   \n",
       "SAT2         0     0     0     0     0      0       0      1     0       0   \n",
       "\n",
       "         ...   MYC  CNOT3  EED  ZFX  ZIC3  PRDM14  EZH2  CHD7  SALL1  PHC1  \n",
       "COMMD10  ...     1      0    0    0     0       0     0     0      0     0  \n",
       "MORC3    ...     1      0    0    0     0       0     0     0      0     0  \n",
       "FAM122C  ...     0      0    0    0     0       0     0     0      0     0  \n",
       "MARS2    ...     1      1    0    1     0       0     0     0      0     0  \n",
       "SAT2     ...     0      0    0    0     0       0     0     0      0     0  \n",
       "\n",
       "[5 rows x 44 columns]"
      ]
     },
     "execution_count": 25,
     "metadata": {},
     "output_type": "execute_result"
    }
   ],
   "source": [
    "binary_matrix.head()"
   ]
  },
  {
   "cell_type": "code",
   "execution_count": 29,
   "metadata": {},
   "outputs": [
    {
     "data": {
      "text/plain": [
       "(13514, 44)"
      ]
     },
     "execution_count": 29,
     "metadata": {},
     "output_type": "execute_result"
    }
   ],
   "source": [
    "binary_matrix.shape"
   ]
  },
  {
   "cell_type": "markdown",
   "metadata": {},
   "source": [
    "# Save Binary Matrix"
   ]
  },
  {
   "cell_type": "code",
   "execution_count": 30,
   "metadata": {
    "collapsed": true
   },
   "outputs": [],
   "source": [
    "filename = '~/./Documents/Harmonizome/ESCAPE/Output/escape_binary_matrix_%s.tsv.zip'% str(datetime.date.today())[0:7].replace('-', '_')\n",
    "binary_matrix.to_csv(filename, sep='\\t', compression='gzip')"
   ]
  },
  {
   "cell_type": "markdown",
   "metadata": {},
   "source": [
    "# Create Gene Set Library"
   ]
  },
  {
   "cell_type": "code",
   "execution_count": 32,
   "metadata": {
    "collapsed": true
   },
   "outputs": [],
   "source": [
    "path = '/Users/moshesilverstein/Documents/Harmonizome/ESCAPE/Output/'"
   ]
  },
  {
   "cell_type": "code",
   "execution_count": 33,
   "metadata": {
    "collapsed": true
   },
   "outputs": [],
   "source": [
    "name = 'escape_gene_set'"
   ]
  },
  {
   "cell_type": "code",
   "execution_count": 34,
   "metadata": {},
   "outputs": [
    {
     "name": "stdout",
     "output_type": "stream",
     "text": [
      "Progeres: 100%  44 Out of 44   \r"
     ]
    }
   ],
   "source": [
    "uf.createUpGeneSetLib(binary_matrix, path, name)"
   ]
  },
  {
   "cell_type": "markdown",
   "metadata": {},
   "source": [
    "# Create Attribute Library"
   ]
  },
  {
   "cell_type": "code",
   "execution_count": 35,
   "metadata": {
    "collapsed": true
   },
   "outputs": [],
   "source": [
    "path = '/Users/moshesilverstein/Documents/Harmonizome/ESCAPE/Output/'"
   ]
  },
  {
   "cell_type": "code",
   "execution_count": 36,
   "metadata": {
    "collapsed": true
   },
   "outputs": [],
   "source": [
    "name = 'escape_attribute_set'"
   ]
  },
  {
   "cell_type": "code",
   "execution_count": 37,
   "metadata": {},
   "outputs": [
    {
     "name": "stdout",
     "output_type": "stream",
     "text": [
      "Progeres: 100%  13514 Out of 13514   \r"
     ]
    }
   ],
   "source": [
    "uf.createUpAttributeSetLib(binary_matrix, path, name)"
   ]
  },
  {
   "cell_type": "markdown",
   "metadata": {},
   "source": [
    "# Create Gene Similarity Matrix"
   ]
  },
  {
   "cell_type": "code",
   "execution_count": 38,
   "metadata": {
    "collapsed": true
   },
   "outputs": [],
   "source": [
    "gene_similarity_matix = uf.createSimilarityMatrix(binary_matrix, 'jaccard')"
   ]
  },
  {
   "cell_type": "code",
   "execution_count": 39,
   "metadata": {},
   "outputs": [
    {
     "data": {
      "text/html": [
       "<div>\n",
       "<style>\n",
       "    .dataframe thead tr:only-child th {\n",
       "        text-align: right;\n",
       "    }\n",
       "\n",
       "    .dataframe thead th {\n",
       "        text-align: left;\n",
       "    }\n",
       "\n",
       "    .dataframe tbody tr th {\n",
       "        vertical-align: top;\n",
       "    }\n",
       "</style>\n",
       "<table border=\"1\" class=\"dataframe\">\n",
       "  <thead>\n",
       "    <tr style=\"text-align: right;\">\n",
       "      <th></th>\n",
       "      <th>COMMD10</th>\n",
       "      <th>MORC3</th>\n",
       "      <th>FAM122C</th>\n",
       "      <th>MARS2</th>\n",
       "      <th>SAT2</th>\n",
       "      <th>PWP1</th>\n",
       "      <th>KCTD11</th>\n",
       "      <th>KCNJ9</th>\n",
       "      <th>WAC</th>\n",
       "      <th>PCDHB5</th>\n",
       "      <th>...</th>\n",
       "      <th>DZIP1</th>\n",
       "      <th>EXT1</th>\n",
       "      <th>NPRL2</th>\n",
       "      <th>PRSS33</th>\n",
       "      <th>CPSF4L</th>\n",
       "      <th>IRAK2</th>\n",
       "      <th>CERCAM</th>\n",
       "      <th>TIMP3</th>\n",
       "      <th>TAF1D</th>\n",
       "      <th>NDUFB2</th>\n",
       "    </tr>\n",
       "  </thead>\n",
       "  <tbody>\n",
       "    <tr>\n",
       "      <th>COMMD10</th>\n",
       "      <td>1.000000</td>\n",
       "      <td>0.416667</td>\n",
       "      <td>0.000000</td>\n",
       "      <td>0.272727</td>\n",
       "      <td>0.000000</td>\n",
       "      <td>0.300000</td>\n",
       "      <td>0.363636</td>\n",
       "      <td>0.076923</td>\n",
       "      <td>0.272727</td>\n",
       "      <td>0.000000</td>\n",
       "      <td>...</td>\n",
       "      <td>0.272727</td>\n",
       "      <td>0.266667</td>\n",
       "      <td>0.500000</td>\n",
       "      <td>0.000000</td>\n",
       "      <td>0.000000</td>\n",
       "      <td>0.000000</td>\n",
       "      <td>0.142857</td>\n",
       "      <td>0.090909</td>\n",
       "      <td>0.333333</td>\n",
       "      <td>0.500000</td>\n",
       "    </tr>\n",
       "    <tr>\n",
       "      <th>MORC3</th>\n",
       "      <td>0.416667</td>\n",
       "      <td>1.000000</td>\n",
       "      <td>0.090909</td>\n",
       "      <td>0.357143</td>\n",
       "      <td>0.083333</td>\n",
       "      <td>0.285714</td>\n",
       "      <td>0.250000</td>\n",
       "      <td>0.461538</td>\n",
       "      <td>0.266667</td>\n",
       "      <td>0.076923</td>\n",
       "      <td>...</td>\n",
       "      <td>0.357143</td>\n",
       "      <td>0.411765</td>\n",
       "      <td>0.416667</td>\n",
       "      <td>0.090909</td>\n",
       "      <td>0.083333</td>\n",
       "      <td>0.230769</td>\n",
       "      <td>0.083333</td>\n",
       "      <td>0.133333</td>\n",
       "      <td>0.214286</td>\n",
       "      <td>0.545455</td>\n",
       "    </tr>\n",
       "    <tr>\n",
       "      <th>FAM122C</th>\n",
       "      <td>0.000000</td>\n",
       "      <td>0.090909</td>\n",
       "      <td>1.000000</td>\n",
       "      <td>0.000000</td>\n",
       "      <td>0.000000</td>\n",
       "      <td>0.000000</td>\n",
       "      <td>0.000000</td>\n",
       "      <td>0.125000</td>\n",
       "      <td>0.000000</td>\n",
       "      <td>0.000000</td>\n",
       "      <td>...</td>\n",
       "      <td>0.000000</td>\n",
       "      <td>0.000000</td>\n",
       "      <td>0.000000</td>\n",
       "      <td>0.000000</td>\n",
       "      <td>0.500000</td>\n",
       "      <td>0.200000</td>\n",
       "      <td>0.000000</td>\n",
       "      <td>0.166667</td>\n",
       "      <td>0.000000</td>\n",
       "      <td>0.166667</td>\n",
       "    </tr>\n",
       "    <tr>\n",
       "      <th>MARS2</th>\n",
       "      <td>0.272727</td>\n",
       "      <td>0.357143</td>\n",
       "      <td>0.000000</td>\n",
       "      <td>1.000000</td>\n",
       "      <td>0.000000</td>\n",
       "      <td>0.363636</td>\n",
       "      <td>0.214286</td>\n",
       "      <td>0.066667</td>\n",
       "      <td>0.066667</td>\n",
       "      <td>0.000000</td>\n",
       "      <td>...</td>\n",
       "      <td>0.142857</td>\n",
       "      <td>0.166667</td>\n",
       "      <td>0.400000</td>\n",
       "      <td>0.000000</td>\n",
       "      <td>0.000000</td>\n",
       "      <td>0.300000</td>\n",
       "      <td>0.111111</td>\n",
       "      <td>0.076923</td>\n",
       "      <td>0.400000</td>\n",
       "      <td>0.166667</td>\n",
       "    </tr>\n",
       "    <tr>\n",
       "      <th>SAT2</th>\n",
       "      <td>0.000000</td>\n",
       "      <td>0.083333</td>\n",
       "      <td>0.000000</td>\n",
       "      <td>0.000000</td>\n",
       "      <td>1.000000</td>\n",
       "      <td>0.125000</td>\n",
       "      <td>0.100000</td>\n",
       "      <td>0.111111</td>\n",
       "      <td>0.000000</td>\n",
       "      <td>0.000000</td>\n",
       "      <td>...</td>\n",
       "      <td>0.111111</td>\n",
       "      <td>0.071429</td>\n",
       "      <td>0.000000</td>\n",
       "      <td>0.000000</td>\n",
       "      <td>0.000000</td>\n",
       "      <td>0.000000</td>\n",
       "      <td>0.000000</td>\n",
       "      <td>0.000000</td>\n",
       "      <td>0.000000</td>\n",
       "      <td>0.142857</td>\n",
       "    </tr>\n",
       "  </tbody>\n",
       "</table>\n",
       "<p>5 rows × 13514 columns</p>\n",
       "</div>"
      ],
      "text/plain": [
       "          COMMD10     MORC3   FAM122C     MARS2      SAT2      PWP1    KCTD11  \\\n",
       "COMMD10  1.000000  0.416667  0.000000  0.272727  0.000000  0.300000  0.363636   \n",
       "MORC3    0.416667  1.000000  0.090909  0.357143  0.083333  0.285714  0.250000   \n",
       "FAM122C  0.000000  0.090909  1.000000  0.000000  0.000000  0.000000  0.000000   \n",
       "MARS2    0.272727  0.357143  0.000000  1.000000  0.000000  0.363636  0.214286   \n",
       "SAT2     0.000000  0.083333  0.000000  0.000000  1.000000  0.125000  0.100000   \n",
       "\n",
       "            KCNJ9       WAC    PCDHB5    ...        DZIP1      EXT1     NPRL2  \\\n",
       "COMMD10  0.076923  0.272727  0.000000    ...     0.272727  0.266667  0.500000   \n",
       "MORC3    0.461538  0.266667  0.076923    ...     0.357143  0.411765  0.416667   \n",
       "FAM122C  0.125000  0.000000  0.000000    ...     0.000000  0.000000  0.000000   \n",
       "MARS2    0.066667  0.066667  0.000000    ...     0.142857  0.166667  0.400000   \n",
       "SAT2     0.111111  0.000000  0.000000    ...     0.111111  0.071429  0.000000   \n",
       "\n",
       "           PRSS33    CPSF4L     IRAK2    CERCAM     TIMP3     TAF1D    NDUFB2  \n",
       "COMMD10  0.000000  0.000000  0.000000  0.142857  0.090909  0.333333  0.500000  \n",
       "MORC3    0.090909  0.083333  0.230769  0.083333  0.133333  0.214286  0.545455  \n",
       "FAM122C  0.000000  0.500000  0.200000  0.000000  0.166667  0.000000  0.166667  \n",
       "MARS2    0.000000  0.000000  0.300000  0.111111  0.076923  0.400000  0.166667  \n",
       "SAT2     0.000000  0.000000  0.000000  0.000000  0.000000  0.000000  0.142857  \n",
       "\n",
       "[5 rows x 13514 columns]"
      ]
     },
     "execution_count": 39,
     "metadata": {},
     "output_type": "execute_result"
    }
   ],
   "source": [
    "gene_similarity_matix.head()"
   ]
  },
  {
   "cell_type": "markdown",
   "metadata": {},
   "source": [
    "# Save Gene Similarity Matrix"
   ]
  },
  {
   "cell_type": "code",
   "execution_count": 40,
   "metadata": {
    "collapsed": true
   },
   "outputs": [],
   "source": [
    "filename = '~/./Documents/Harmonizome/ESCAPE/Output/escape_gene_similarity_matix_%s.tsv.zip'% str(datetime.date.today())[0:7].replace('-', '_')\n",
    "gene_similarity_matix.to_csv(filename, sep='\\t', compression='gzip')"
   ]
  },
  {
   "cell_type": "markdown",
   "metadata": {},
   "source": [
    "# Create Attribute Similarity matrix"
   ]
  },
  {
   "cell_type": "code",
   "execution_count": 41,
   "metadata": {
    "collapsed": true
   },
   "outputs": [],
   "source": [
    "attribute_similarity_matix = uf.createSimilarityMatrix(binary_matrix.T, 'jaccard')"
   ]
  },
  {
   "cell_type": "code",
   "execution_count": 42,
   "metadata": {},
   "outputs": [
    {
     "data": {
      "text/html": [
       "<div>\n",
       "<style>\n",
       "    .dataframe thead tr:only-child th {\n",
       "        text-align: right;\n",
       "    }\n",
       "\n",
       "    .dataframe thead th {\n",
       "        text-align: left;\n",
       "    }\n",
       "\n",
       "    .dataframe tbody tr th {\n",
       "        vertical-align: top;\n",
       "    }\n",
       "</style>\n",
       "<table border=\"1\" class=\"dataframe\">\n",
       "  <thead>\n",
       "    <tr style=\"text-align: right;\">\n",
       "      <th></th>\n",
       "      <th>NR0B1</th>\n",
       "      <th>CDX2</th>\n",
       "      <th>E2F4</th>\n",
       "      <th>KAT5</th>\n",
       "      <th>KLF2</th>\n",
       "      <th>NACC1</th>\n",
       "      <th>TRIM28</th>\n",
       "      <th>SMAD1</th>\n",
       "      <th>E2F1</th>\n",
       "      <th>SETDB1</th>\n",
       "      <th>...</th>\n",
       "      <th>MYC</th>\n",
       "      <th>CNOT3</th>\n",
       "      <th>EED</th>\n",
       "      <th>ZFX</th>\n",
       "      <th>ZIC3</th>\n",
       "      <th>PRDM14</th>\n",
       "      <th>EZH2</th>\n",
       "      <th>CHD7</th>\n",
       "      <th>SALL1</th>\n",
       "      <th>PHC1</th>\n",
       "    </tr>\n",
       "  </thead>\n",
       "  <tbody>\n",
       "    <tr>\n",
       "      <th>NR0B1</th>\n",
       "      <td>1.000000</td>\n",
       "      <td>0.015423</td>\n",
       "      <td>0.137339</td>\n",
       "      <td>0.050456</td>\n",
       "      <td>0.021588</td>\n",
       "      <td>0.207903</td>\n",
       "      <td>0.121923</td>\n",
       "      <td>0.081081</td>\n",
       "      <td>0.117620</td>\n",
       "      <td>0.098780</td>\n",
       "      <td>...</td>\n",
       "      <td>0.137433</td>\n",
       "      <td>0.070902</td>\n",
       "      <td>0.034257</td>\n",
       "      <td>0.090051</td>\n",
       "      <td>0.083495</td>\n",
       "      <td>0.111275</td>\n",
       "      <td>0.061853</td>\n",
       "      <td>0.010027</td>\n",
       "      <td>0.009669</td>\n",
       "      <td>0.047878</td>\n",
       "    </tr>\n",
       "    <tr>\n",
       "      <th>CDX2</th>\n",
       "      <td>0.015423</td>\n",
       "      <td>1.000000</td>\n",
       "      <td>0.013740</td>\n",
       "      <td>0.007117</td>\n",
       "      <td>0.005602</td>\n",
       "      <td>0.017361</td>\n",
       "      <td>0.016538</td>\n",
       "      <td>0.009150</td>\n",
       "      <td>0.008724</td>\n",
       "      <td>0.020427</td>\n",
       "      <td>...</td>\n",
       "      <td>0.008819</td>\n",
       "      <td>0.013468</td>\n",
       "      <td>0.036184</td>\n",
       "      <td>0.012069</td>\n",
       "      <td>0.008913</td>\n",
       "      <td>0.015974</td>\n",
       "      <td>0.041174</td>\n",
       "      <td>0.028061</td>\n",
       "      <td>0.008547</td>\n",
       "      <td>0.033605</td>\n",
       "    </tr>\n",
       "    <tr>\n",
       "      <th>E2F4</th>\n",
       "      <td>0.137339</td>\n",
       "      <td>0.013740</td>\n",
       "      <td>1.000000</td>\n",
       "      <td>0.095559</td>\n",
       "      <td>0.009107</td>\n",
       "      <td>0.065222</td>\n",
       "      <td>0.245743</td>\n",
       "      <td>0.049778</td>\n",
       "      <td>0.306379</td>\n",
       "      <td>0.180657</td>\n",
       "      <td>...</td>\n",
       "      <td>0.440606</td>\n",
       "      <td>0.143518</td>\n",
       "      <td>0.038680</td>\n",
       "      <td>0.226568</td>\n",
       "      <td>0.029252</td>\n",
       "      <td>0.096275</td>\n",
       "      <td>0.077871</td>\n",
       "      <td>0.008797</td>\n",
       "      <td>0.009117</td>\n",
       "      <td>0.052855</td>\n",
       "    </tr>\n",
       "    <tr>\n",
       "      <th>KAT5</th>\n",
       "      <td>0.050456</td>\n",
       "      <td>0.007117</td>\n",
       "      <td>0.095559</td>\n",
       "      <td>1.000000</td>\n",
       "      <td>0.004498</td>\n",
       "      <td>0.031196</td>\n",
       "      <td>0.062133</td>\n",
       "      <td>0.032412</td>\n",
       "      <td>0.067039</td>\n",
       "      <td>0.038946</td>\n",
       "      <td>...</td>\n",
       "      <td>0.097556</td>\n",
       "      <td>0.060128</td>\n",
       "      <td>0.012087</td>\n",
       "      <td>0.069522</td>\n",
       "      <td>0.018583</td>\n",
       "      <td>0.027315</td>\n",
       "      <td>0.011667</td>\n",
       "      <td>0.012766</td>\n",
       "      <td>0.010638</td>\n",
       "      <td>0.019216</td>\n",
       "    </tr>\n",
       "    <tr>\n",
       "      <th>KLF2</th>\n",
       "      <td>0.021588</td>\n",
       "      <td>0.005602</td>\n",
       "      <td>0.009107</td>\n",
       "      <td>0.004498</td>\n",
       "      <td>1.000000</td>\n",
       "      <td>0.029412</td>\n",
       "      <td>0.011732</td>\n",
       "      <td>0.024180</td>\n",
       "      <td>0.008594</td>\n",
       "      <td>0.010678</td>\n",
       "      <td>...</td>\n",
       "      <td>0.009357</td>\n",
       "      <td>0.009901</td>\n",
       "      <td>0.018617</td>\n",
       "      <td>0.007678</td>\n",
       "      <td>0.013089</td>\n",
       "      <td>0.017657</td>\n",
       "      <td>0.011971</td>\n",
       "      <td>0.004484</td>\n",
       "      <td>0.000000</td>\n",
       "      <td>0.023256</td>\n",
       "    </tr>\n",
       "  </tbody>\n",
       "</table>\n",
       "<p>5 rows × 44 columns</p>\n",
       "</div>"
      ],
      "text/plain": [
       "          NR0B1      CDX2      E2F4      KAT5      KLF2     NACC1    TRIM28  \\\n",
       "NR0B1  1.000000  0.015423  0.137339  0.050456  0.021588  0.207903  0.121923   \n",
       "CDX2   0.015423  1.000000  0.013740  0.007117  0.005602  0.017361  0.016538   \n",
       "E2F4   0.137339  0.013740  1.000000  0.095559  0.009107  0.065222  0.245743   \n",
       "KAT5   0.050456  0.007117  0.095559  1.000000  0.004498  0.031196  0.062133   \n",
       "KLF2   0.021588  0.005602  0.009107  0.004498  1.000000  0.029412  0.011732   \n",
       "\n",
       "          SMAD1      E2F1    SETDB1    ...          MYC     CNOT3       EED  \\\n",
       "NR0B1  0.081081  0.117620  0.098780    ...     0.137433  0.070902  0.034257   \n",
       "CDX2   0.009150  0.008724  0.020427    ...     0.008819  0.013468  0.036184   \n",
       "E2F4   0.049778  0.306379  0.180657    ...     0.440606  0.143518  0.038680   \n",
       "KAT5   0.032412  0.067039  0.038946    ...     0.097556  0.060128  0.012087   \n",
       "KLF2   0.024180  0.008594  0.010678    ...     0.009357  0.009901  0.018617   \n",
       "\n",
       "            ZFX      ZIC3    PRDM14      EZH2      CHD7     SALL1      PHC1  \n",
       "NR0B1  0.090051  0.083495  0.111275  0.061853  0.010027  0.009669  0.047878  \n",
       "CDX2   0.012069  0.008913  0.015974  0.041174  0.028061  0.008547  0.033605  \n",
       "E2F4   0.226568  0.029252  0.096275  0.077871  0.008797  0.009117  0.052855  \n",
       "KAT5   0.069522  0.018583  0.027315  0.011667  0.012766  0.010638  0.019216  \n",
       "KLF2   0.007678  0.013089  0.017657  0.011971  0.004484  0.000000  0.023256  \n",
       "\n",
       "[5 rows x 44 columns]"
      ]
     },
     "execution_count": 42,
     "metadata": {},
     "output_type": "execute_result"
    }
   ],
   "source": [
    "attribute_similarity_matix.head()"
   ]
  },
  {
   "cell_type": "markdown",
   "metadata": {},
   "source": [
    "# Save Attribute Similarity Matrix"
   ]
  },
  {
   "cell_type": "code",
   "execution_count": 43,
   "metadata": {
    "collapsed": true
   },
   "outputs": [],
   "source": [
    "filename = '~/./Documents/Harmonizome/ESCAPE/Output/escape_attribute_similarity_matix_%s.tsv.zip'% str(datetime.date.today())[0:7].replace('-', '_')\n",
    "attribute_similarity_matix.to_csv(filename, sep='\\t', compression='gzip')"
   ]
  },
  {
   "cell_type": "markdown",
   "metadata": {},
   "source": [
    "# Create Gene List"
   ]
  },
  {
   "cell_type": "code",
   "execution_count": 44,
   "metadata": {},
   "outputs": [
    {
     "name": "stdout",
     "output_type": "stream",
     "text": [
      "Progeres: 100%  13514 Out of 13514   \r"
     ]
    }
   ],
   "source": [
    "gene_list = uf.createGeneList(binary_matrix)"
   ]
  },
  {
   "cell_type": "code",
   "execution_count": 45,
   "metadata": {},
   "outputs": [
    {
     "data": {
      "text/html": [
       "<div>\n",
       "<style>\n",
       "    .dataframe thead tr:only-child th {\n",
       "        text-align: right;\n",
       "    }\n",
       "\n",
       "    .dataframe thead th {\n",
       "        text-align: left;\n",
       "    }\n",
       "\n",
       "    .dataframe tbody tr th {\n",
       "        vertical-align: top;\n",
       "    }\n",
       "</style>\n",
       "<table border=\"1\" class=\"dataframe\">\n",
       "  <thead>\n",
       "    <tr style=\"text-align: right;\">\n",
       "      <th></th>\n",
       "      <th>GeneSym</th>\n",
       "      <th>GeneID</th>\n",
       "    </tr>\n",
       "  </thead>\n",
       "  <tbody>\n",
       "    <tr>\n",
       "      <th>0</th>\n",
       "      <td>COMMD10</td>\n",
       "      <td>51397</td>\n",
       "    </tr>\n",
       "    <tr>\n",
       "      <th>1</th>\n",
       "      <td>MORC3</td>\n",
       "      <td>23515</td>\n",
       "    </tr>\n",
       "    <tr>\n",
       "      <th>2</th>\n",
       "      <td>FAM122C</td>\n",
       "      <td>159091</td>\n",
       "    </tr>\n",
       "    <tr>\n",
       "      <th>3</th>\n",
       "      <td>MARS2</td>\n",
       "      <td>92935</td>\n",
       "    </tr>\n",
       "    <tr>\n",
       "      <th>4</th>\n",
       "      <td>SAT2</td>\n",
       "      <td>112483</td>\n",
       "    </tr>\n",
       "  </tbody>\n",
       "</table>\n",
       "</div>"
      ],
      "text/plain": [
       "   GeneSym  GeneID\n",
       "0  COMMD10   51397\n",
       "1    MORC3   23515\n",
       "2  FAM122C  159091\n",
       "3    MARS2   92935\n",
       "4     SAT2  112483"
      ]
     },
     "execution_count": 45,
     "metadata": {},
     "output_type": "execute_result"
    }
   ],
   "source": [
    "gene_list.head()"
   ]
  },
  {
   "cell_type": "code",
   "execution_count": 46,
   "metadata": {},
   "outputs": [
    {
     "data": {
      "text/plain": [
       "(13514, 2)"
      ]
     },
     "execution_count": 46,
     "metadata": {},
     "output_type": "execute_result"
    }
   ],
   "source": [
    "gene_list.shape"
   ]
  },
  {
   "cell_type": "markdown",
   "metadata": {},
   "source": [
    "# Save Gene List"
   ]
  },
  {
   "cell_type": "code",
   "execution_count": 47,
   "metadata": {
    "collapsed": true
   },
   "outputs": [],
   "source": [
    "filename = '~/./Documents/Harmonizome/ESCAPE/Output/escape_gene_list_%s.tsv.zip'% str(datetime.date.today())[0:7].replace('-', '_')\n",
    "gene_list.to_csv(filename, sep='\\t', index=False, compression='gzip')"
   ]
  },
  {
   "cell_type": "markdown",
   "metadata": {},
   "source": [
    "# Create Attribute List"
   ]
  },
  {
   "cell_type": "code",
   "execution_count": 48,
   "metadata": {
    "collapsed": true
   },
   "outputs": [],
   "source": [
    "attribute_list = uf.createAttributeList(binary_matrix)"
   ]
  },
  {
   "cell_type": "code",
   "execution_count": 49,
   "metadata": {},
   "outputs": [
    {
     "data": {
      "text/html": [
       "<div>\n",
       "<style>\n",
       "    .dataframe thead tr:only-child th {\n",
       "        text-align: right;\n",
       "    }\n",
       "\n",
       "    .dataframe thead th {\n",
       "        text-align: left;\n",
       "    }\n",
       "\n",
       "    .dataframe tbody tr th {\n",
       "        vertical-align: top;\n",
       "    }\n",
       "</style>\n",
       "<table border=\"1\" class=\"dataframe\">\n",
       "  <thead>\n",
       "    <tr style=\"text-align: right;\">\n",
       "      <th></th>\n",
       "      <th>Attributes</th>\n",
       "    </tr>\n",
       "  </thead>\n",
       "  <tbody>\n",
       "    <tr>\n",
       "      <th>0</th>\n",
       "      <td>NR0B1</td>\n",
       "    </tr>\n",
       "    <tr>\n",
       "      <th>1</th>\n",
       "      <td>CDX2</td>\n",
       "    </tr>\n",
       "    <tr>\n",
       "      <th>2</th>\n",
       "      <td>E2F4</td>\n",
       "    </tr>\n",
       "    <tr>\n",
       "      <th>3</th>\n",
       "      <td>KAT5</td>\n",
       "    </tr>\n",
       "    <tr>\n",
       "      <th>4</th>\n",
       "      <td>KLF2</td>\n",
       "    </tr>\n",
       "  </tbody>\n",
       "</table>\n",
       "</div>"
      ],
      "text/plain": [
       "  Attributes\n",
       "0      NR0B1\n",
       "1       CDX2\n",
       "2       E2F4\n",
       "3       KAT5\n",
       "4       KLF2"
      ]
     },
     "execution_count": 49,
     "metadata": {},
     "output_type": "execute_result"
    }
   ],
   "source": [
    "attribute_list.head()"
   ]
  },
  {
   "cell_type": "code",
   "execution_count": 50,
   "metadata": {},
   "outputs": [
    {
     "data": {
      "text/plain": [
       "(44, 1)"
      ]
     },
     "execution_count": 50,
     "metadata": {},
     "output_type": "execute_result"
    }
   ],
   "source": [
    "attribute_list.shape"
   ]
  },
  {
   "cell_type": "markdown",
   "metadata": {},
   "source": [
    "# Save Attribute List"
   ]
  },
  {
   "cell_type": "code",
   "execution_count": 51,
   "metadata": {
    "collapsed": true
   },
   "outputs": [],
   "source": [
    "filename = '~/./Documents/Harmonizome/ESCAPE/Output/escape_attribute_list_%s.tsv.zip'% str(datetime.date.today())[0:7].replace('-', '_')\n",
    "attribute_list.to_csv(filename, sep='\\t', index=False, compression='gzip')"
   ]
  },
  {
   "cell_type": "markdown",
   "metadata": {},
   "source": [
    "# Create Gene-Attribute Edge List"
   ]
  },
  {
   "cell_type": "code",
   "execution_count": 52,
   "metadata": {
    "collapsed": true
   },
   "outputs": [],
   "source": [
    "path = '/Users/moshesilverstein/Documents/Harmonizome/ESCAPE/Output/'"
   ]
  },
  {
   "cell_type": "code",
   "execution_count": 53,
   "metadata": {
    "collapsed": true
   },
   "outputs": [],
   "source": [
    "name = 'escape_gene_attribute_edge_list'"
   ]
  },
  {
   "cell_type": "code",
   "execution_count": 54,
   "metadata": {},
   "outputs": [
    {
     "name": "stdout",
     "output_type": "stream",
     "text": [
      "Progeres: 100%  44 Out of 44   \n",
      "\n",
      " The number of statisticaly relevent gene-attribute associations is: 81427\n"
     ]
    }
   ],
   "source": [
    "uf.createGeneAttributeEdgeList(binary_matrix, gene_list, path, name)"
   ]
  }
 ],
 "metadata": {
  "kernelspec": {
   "display_name": "Python [default]",
   "language": "python",
   "name": "python3"
  },
  "language_info": {
   "codemirror_mode": {
    "name": "ipython",
    "version": 3
   },
   "file_extension": ".py",
   "mimetype": "text/x-python",
   "name": "python",
   "nbconvert_exporter": "python",
   "pygments_lexer": "ipython3",
   "version": "3.5.2"
  }
 },
 "nbformat": 4,
 "nbformat_minor": 2
}
