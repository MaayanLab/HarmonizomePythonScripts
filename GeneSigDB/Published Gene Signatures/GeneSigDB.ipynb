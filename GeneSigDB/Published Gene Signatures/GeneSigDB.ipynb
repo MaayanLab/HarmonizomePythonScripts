{
 "cells": [
  {
   "cell_type": "markdown",
   "metadata": {},
   "source": [
    "# GeneSigDB"
   ]
  },
  {
   "cell_type": "markdown",
   "metadata": {},
   "source": [
    "Author: Moshe Silverstein <br/>\n",
    "Date: 8-17 <br/>\n",
    "Data Source: http://www.genesigdb.org"
   ]
  },
  {
   "cell_type": "code",
   "execution_count": 1,
   "metadata": {
    "collapsed": true
   },
   "outputs": [],
   "source": [
    "import sys, datetime, os\n",
    "import numpy as np\n",
    "import pandas as pd\n",
    "import importlib\n",
    "import untility_functions as uf\n",
    "%matplotlib inline"
   ]
  },
  {
   "cell_type": "code",
   "execution_count": 2,
   "metadata": {},
   "outputs": [
    {
     "data": {
      "text/plain": [
       "<module 'untility_functions' from '/Users/moshesilverstein/Documents/Harmonizome/GeneSigDB/untility_functions.py'>"
      ]
     },
     "execution_count": 2,
     "metadata": {},
     "output_type": "execute_result"
    }
   ],
   "source": [
    "importlib.reload(uf)"
   ]
  },
  {
   "cell_type": "markdown",
   "metadata": {},
   "source": [
    "# Load Data"
   ]
  },
  {
   "cell_type": "code",
   "execution_count": 8,
   "metadata": {},
   "outputs": [],
   "source": [
    "df = pd.read_csv('Input/ALL_SIGSv4.gmt', header=None)"
   ]
  },
  {
   "cell_type": "code",
   "execution_count": 9,
   "metadata": {},
   "outputs": [
    {
     "data": {
      "text/html": [
       "<div>\n",
       "<table border=\"1\" class=\"dataframe\">\n",
       "  <thead>\n",
       "    <tr style=\"text-align: right;\">\n",
       "      <th></th>\n",
       "      <th>0</th>\n",
       "    </tr>\n",
       "  </thead>\n",
       "  <tbody>\n",
       "    <tr>\n",
       "      <th>0</th>\n",
       "      <td>19930681-Table2-3\\tHuman Breast_Cecco09_17gene...</td>\n",
       "    </tr>\n",
       "    <tr>\n",
       "      <th>1</th>\n",
       "      <td>16760442-SuppTable5-1\\tHuman Lymphoma_Hummel06...</td>\n",
       "    </tr>\n",
       "    <tr>\n",
       "      <th>2</th>\n",
       "      <td>19930681-Table2-4\\tHuman Breast_Cecco09_2genes...</td>\n",
       "    </tr>\n",
       "    <tr>\n",
       "      <th>3</th>\n",
       "      <td>16760442-SuppTable5-2\\tHuman Lymphoma_Hummel06...</td>\n",
       "    </tr>\n",
       "    <tr>\n",
       "      <th>4</th>\n",
       "      <td>16735089-Table1\\tHuman Breast_Amin06_82genes_S...</td>\n",
       "    </tr>\n",
       "  </tbody>\n",
       "</table>\n",
       "</div>"
      ],
      "text/plain": [
       "                                                   0\n",
       "0  19930681-Table2-3\\tHuman Breast_Cecco09_17gene...\n",
       "1  16760442-SuppTable5-1\\tHuman Lymphoma_Hummel06...\n",
       "2  19930681-Table2-4\\tHuman Breast_Cecco09_2genes...\n",
       "3  16760442-SuppTable5-2\\tHuman Lymphoma_Hummel06...\n",
       "4  16735089-Table1\\tHuman Breast_Amin06_82genes_S..."
      ]
     },
     "execution_count": 9,
     "metadata": {},
     "output_type": "execute_result"
    }
   ],
   "source": [
    "df.head()"
   ]
  },
  {
   "cell_type": "code",
   "execution_count": 10,
   "metadata": {},
   "outputs": [
    {
     "name": "stdout",
     "output_type": "stream",
     "text": [
      "Progeres: 100%  3515 Out of 3515   \r"
     ]
    }
   ],
   "source": [
    "df_interactions = pd.DataFrame()\n",
    "\n",
    "for i, index in enumerate(df.index):\n",
    "    \n",
    "    progressPercent = ((i+1)/len(df.index))*100\n",
    "\n",
    "    sys.stdout.write(\"Progeres: %d%%  %d Out of %d   \\r\" % (progressPercent, (i+1), len(df.index)))\n",
    "    sys.stdout.flush()\n",
    "    \n",
    "    \n",
    "    lst2 = df.ix[index, 0].split('\\t')[1:]\n",
    "    lst1 = [df.ix[index, 0].split('\\t')[0].split('_')[0]]*(len(lst2)-1)\n",
    "    lst2.pop(0)\n",
    "    temp = pd.DataFrame()\n",
    "    temp['PubmedSource'] = lst1\n",
    "    temp['Gene'] = lst2\n",
    "    df_interactions = pd.concat([df_interactions, temp]) "
   ]
  },
  {
   "cell_type": "code",
   "execution_count": 11,
   "metadata": {},
   "outputs": [
    {
     "data": {
      "text/html": [
       "<div>\n",
       "<table border=\"1\" class=\"dataframe\">\n",
       "  <thead>\n",
       "    <tr style=\"text-align: right;\">\n",
       "      <th></th>\n",
       "      <th>PubmedSource</th>\n",
       "      <th>Gene</th>\n",
       "    </tr>\n",
       "  </thead>\n",
       "  <tbody>\n",
       "    <tr>\n",
       "      <th>0</th>\n",
       "      <td>19930681-Table2-3</td>\n",
       "      <td>ST6GAL1</td>\n",
       "    </tr>\n",
       "    <tr>\n",
       "      <th>1</th>\n",
       "      <td>19930681-Table2-3</td>\n",
       "      <td>RAB21</td>\n",
       "    </tr>\n",
       "    <tr>\n",
       "      <th>2</th>\n",
       "      <td>19930681-Table2-3</td>\n",
       "      <td>ESR1</td>\n",
       "    </tr>\n",
       "    <tr>\n",
       "      <th>3</th>\n",
       "      <td>19930681-Table2-3</td>\n",
       "      <td>MYO1C</td>\n",
       "    </tr>\n",
       "    <tr>\n",
       "      <th>4</th>\n",
       "      <td>19930681-Table2-3</td>\n",
       "      <td>LRBA</td>\n",
       "    </tr>\n",
       "  </tbody>\n",
       "</table>\n",
       "</div>"
      ],
      "text/plain": [
       "        PubmedSource     Gene\n",
       "0  19930681-Table2-3  ST6GAL1\n",
       "1  19930681-Table2-3    RAB21\n",
       "2  19930681-Table2-3     ESR1\n",
       "3  19930681-Table2-3    MYO1C\n",
       "4  19930681-Table2-3     LRBA"
      ]
     },
     "execution_count": 11,
     "metadata": {},
     "output_type": "execute_result"
    }
   ],
   "source": [
    "df_interactions.head()"
   ]
  },
  {
   "cell_type": "code",
   "execution_count": 12,
   "metadata": {},
   "outputs": [
    {
     "data": {
      "text/plain": [
       "(425763, 2)"
      ]
     },
     "execution_count": 12,
     "metadata": {},
     "output_type": "execute_result"
    }
   ],
   "source": [
    "df_interactions.shape"
   ]
  },
  {
   "cell_type": "markdown",
   "metadata": {},
   "source": [
    "# Map Gene Symbols To Up-to-date Approved Gene Symbols"
   ]
  },
  {
   "cell_type": "code",
   "execution_count": 13,
   "metadata": {
    "collapsed": true
   },
   "outputs": [],
   "source": [
    "df_interactions.set_index('Gene', inplace=True)"
   ]
  },
  {
   "cell_type": "code",
   "execution_count": 14,
   "metadata": {},
   "outputs": [
    {
     "name": "stdout",
     "output_type": "stream",
     "text": [
      "Progeres: 100%  425763 Out of 425763   \r"
     ]
    }
   ],
   "source": [
    "uf.mapgenesymbols(df_interactions)"
   ]
  },
  {
   "cell_type": "markdown",
   "metadata": {},
   "source": [
    "# Drop Duplicates"
   ]
  },
  {
   "cell_type": "code",
   "execution_count": 15,
   "metadata": {
    "collapsed": true
   },
   "outputs": [],
   "source": [
    "df_interactions.reset_index(inplace=True)"
   ]
  },
  {
   "cell_type": "code",
   "execution_count": 16,
   "metadata": {
    "collapsed": true
   },
   "outputs": [],
   "source": [
    "df_interactions.drop_duplicates(inplace=True)"
   ]
  },
  {
   "cell_type": "code",
   "execution_count": 17,
   "metadata": {},
   "outputs": [
    {
     "data": {
      "text/plain": [
       "(404516, 2)"
      ]
     },
     "execution_count": 17,
     "metadata": {},
     "output_type": "execute_result"
    }
   ],
   "source": [
    "df_interactions.shape"
   ]
  },
  {
   "cell_type": "markdown",
   "metadata": {},
   "source": [
    "# Create Binary Matrix"
   ]
  },
  {
   "cell_type": "code",
   "execution_count": 18,
   "metadata": {},
   "outputs": [
    {
     "name": "stdout",
     "output_type": "stream",
     "text": [
      "Progeres: 100%  18534 Out of 18534   \r"
     ]
    }
   ],
   "source": [
    "binary_matrix = uf.createBinaryMatix(df_interactions)"
   ]
  },
  {
   "cell_type": "code",
   "execution_count": 19,
   "metadata": {},
   "outputs": [
    {
     "data": {
      "text/html": [
       "<div>\n",
       "<table border=\"1\" class=\"dataframe\">\n",
       "  <thead>\n",
       "    <tr style=\"text-align: right;\">\n",
       "      <th></th>\n",
       "      <th>17880687-TableS1</th>\n",
       "      <th>19933690-TableS2</th>\n",
       "      <th>15902281-TableS1a</th>\n",
       "      <th>18662380-S3-ERBB2</th>\n",
       "      <th>18288381-Table4</th>\n",
       "      <th>18510698-Table2</th>\n",
       "      <th>18160667-TableS4</th>\n",
       "      <th>12036940-Table2</th>\n",
       "      <th>18855877-Table2</th>\n",
       "      <th>20068100-TableS5</th>\n",
       "      <th>...</th>\n",
       "      <th>19936789-Table1</th>\n",
       "      <th>16449190-Table1</th>\n",
       "      <th>19112599-Table2b</th>\n",
       "      <th>15073102-Table1d</th>\n",
       "      <th>15548366-Table3</th>\n",
       "      <th>20679228-TableS5</th>\n",
       "      <th>16195394-Table2</th>\n",
       "      <th>15831674-Table3</th>\n",
       "      <th>15246160-table4</th>\n",
       "      <th>17205517-Top100GoodPrognosisGenes</th>\n",
       "    </tr>\n",
       "  </thead>\n",
       "  <tbody>\n",
       "    <tr>\n",
       "      <th>LIN7C</th>\n",
       "      <td>0</td>\n",
       "      <td>0</td>\n",
       "      <td>0</td>\n",
       "      <td>0</td>\n",
       "      <td>0</td>\n",
       "      <td>0</td>\n",
       "      <td>0</td>\n",
       "      <td>0</td>\n",
       "      <td>0</td>\n",
       "      <td>0</td>\n",
       "      <td>...</td>\n",
       "      <td>0</td>\n",
       "      <td>0</td>\n",
       "      <td>0</td>\n",
       "      <td>0</td>\n",
       "      <td>0</td>\n",
       "      <td>0</td>\n",
       "      <td>0</td>\n",
       "      <td>0</td>\n",
       "      <td>0</td>\n",
       "      <td>0</td>\n",
       "    </tr>\n",
       "    <tr>\n",
       "      <th>OR5D18</th>\n",
       "      <td>0</td>\n",
       "      <td>0</td>\n",
       "      <td>0</td>\n",
       "      <td>0</td>\n",
       "      <td>0</td>\n",
       "      <td>0</td>\n",
       "      <td>0</td>\n",
       "      <td>0</td>\n",
       "      <td>0</td>\n",
       "      <td>0</td>\n",
       "      <td>...</td>\n",
       "      <td>0</td>\n",
       "      <td>0</td>\n",
       "      <td>0</td>\n",
       "      <td>0</td>\n",
       "      <td>0</td>\n",
       "      <td>0</td>\n",
       "      <td>0</td>\n",
       "      <td>0</td>\n",
       "      <td>0</td>\n",
       "      <td>0</td>\n",
       "    </tr>\n",
       "    <tr>\n",
       "      <th>ZYG11B</th>\n",
       "      <td>0</td>\n",
       "      <td>0</td>\n",
       "      <td>0</td>\n",
       "      <td>0</td>\n",
       "      <td>0</td>\n",
       "      <td>0</td>\n",
       "      <td>0</td>\n",
       "      <td>0</td>\n",
       "      <td>0</td>\n",
       "      <td>0</td>\n",
       "      <td>...</td>\n",
       "      <td>0</td>\n",
       "      <td>0</td>\n",
       "      <td>0</td>\n",
       "      <td>0</td>\n",
       "      <td>0</td>\n",
       "      <td>0</td>\n",
       "      <td>0</td>\n",
       "      <td>0</td>\n",
       "      <td>0</td>\n",
       "      <td>0</td>\n",
       "    </tr>\n",
       "    <tr>\n",
       "      <th>PTMAP1</th>\n",
       "      <td>0</td>\n",
       "      <td>0</td>\n",
       "      <td>0</td>\n",
       "      <td>0</td>\n",
       "      <td>0</td>\n",
       "      <td>0</td>\n",
       "      <td>0</td>\n",
       "      <td>0</td>\n",
       "      <td>0</td>\n",
       "      <td>0</td>\n",
       "      <td>...</td>\n",
       "      <td>0</td>\n",
       "      <td>0</td>\n",
       "      <td>0</td>\n",
       "      <td>0</td>\n",
       "      <td>0</td>\n",
       "      <td>0</td>\n",
       "      <td>0</td>\n",
       "      <td>0</td>\n",
       "      <td>0</td>\n",
       "      <td>0</td>\n",
       "    </tr>\n",
       "    <tr>\n",
       "      <th>INHBB</th>\n",
       "      <td>0</td>\n",
       "      <td>0</td>\n",
       "      <td>0</td>\n",
       "      <td>0</td>\n",
       "      <td>0</td>\n",
       "      <td>0</td>\n",
       "      <td>0</td>\n",
       "      <td>0</td>\n",
       "      <td>0</td>\n",
       "      <td>0</td>\n",
       "      <td>...</td>\n",
       "      <td>0</td>\n",
       "      <td>0</td>\n",
       "      <td>0</td>\n",
       "      <td>0</td>\n",
       "      <td>0</td>\n",
       "      <td>0</td>\n",
       "      <td>0</td>\n",
       "      <td>0</td>\n",
       "      <td>0</td>\n",
       "      <td>0</td>\n",
       "    </tr>\n",
       "  </tbody>\n",
       "</table>\n",
       "<p>5 rows × 3508 columns</p>\n",
       "</div>"
      ],
      "text/plain": [
       "        17880687-TableS1  19933690-TableS2  15902281-TableS1a  \\\n",
       "LIN7C                  0                 0                  0   \n",
       "OR5D18                 0                 0                  0   \n",
       "ZYG11B                 0                 0                  0   \n",
       "PTMAP1                 0                 0                  0   \n",
       "INHBB                  0                 0                  0   \n",
       "\n",
       "        18662380-S3-ERBB2  18288381-Table4  18510698-Table2  18160667-TableS4  \\\n",
       "LIN7C                   0                0                0                 0   \n",
       "OR5D18                  0                0                0                 0   \n",
       "ZYG11B                  0                0                0                 0   \n",
       "PTMAP1                  0                0                0                 0   \n",
       "INHBB                   0                0                0                 0   \n",
       "\n",
       "        12036940-Table2  18855877-Table2  20068100-TableS5  \\\n",
       "LIN7C                 0                0                 0   \n",
       "OR5D18                0                0                 0   \n",
       "ZYG11B                0                0                 0   \n",
       "PTMAP1                0                0                 0   \n",
       "INHBB                 0                0                 0   \n",
       "\n",
       "                      ...                  19936789-Table1  16449190-Table1  \\\n",
       "LIN7C                 ...                                0                0   \n",
       "OR5D18                ...                                0                0   \n",
       "ZYG11B                ...                                0                0   \n",
       "PTMAP1                ...                                0                0   \n",
       "INHBB                 ...                                0                0   \n",
       "\n",
       "        19112599-Table2b  15073102-Table1d  15548366-Table3  20679228-TableS5  \\\n",
       "LIN7C                  0                 0                0                 0   \n",
       "OR5D18                 0                 0                0                 0   \n",
       "ZYG11B                 0                 0                0                 0   \n",
       "PTMAP1                 0                 0                0                 0   \n",
       "INHBB                  0                 0                0                 0   \n",
       "\n",
       "        16195394-Table2  15831674-Table3  15246160-table4  \\\n",
       "LIN7C                 0                0                0   \n",
       "OR5D18                0                0                0   \n",
       "ZYG11B                0                0                0   \n",
       "PTMAP1                0                0                0   \n",
       "INHBB                 0                0                0   \n",
       "\n",
       "        17205517-Top100GoodPrognosisGenes  \n",
       "LIN7C                                   0  \n",
       "OR5D18                                  0  \n",
       "ZYG11B                                  0  \n",
       "PTMAP1                                  0  \n",
       "INHBB                                   0  \n",
       "\n",
       "[5 rows x 3508 columns]"
      ]
     },
     "execution_count": 19,
     "metadata": {},
     "output_type": "execute_result"
    }
   ],
   "source": [
    "binary_matrix.head()"
   ]
  },
  {
   "cell_type": "code",
   "execution_count": 20,
   "metadata": {},
   "outputs": [
    {
     "data": {
      "text/plain": [
       "(18534, 3508)"
      ]
     },
     "execution_count": 20,
     "metadata": {},
     "output_type": "execute_result"
    }
   ],
   "source": [
    "binary_matrix.shape"
   ]
  },
  {
   "cell_type": "markdown",
   "metadata": {},
   "source": [
    "# Save Binary Matrix"
   ]
  },
  {
   "cell_type": "code",
   "execution_count": 21,
   "metadata": {
    "collapsed": true
   },
   "outputs": [],
   "source": [
    "filename = '~/./Documents/Harmonizome/GeneSigDB/Output/genesigdb_idg_binary_matrix_%s.tsv.zip'% str(datetime.date.today())[0:7].replace('-', '_')\n",
    "binary_matrix.to_csv(filename, sep='\\t', compression='gzip')"
   ]
  },
  {
   "cell_type": "markdown",
   "metadata": {},
   "source": [
    "# Create Gene Set Library"
   ]
  },
  {
   "cell_type": "code",
   "execution_count": 22,
   "metadata": {
    "collapsed": true
   },
   "outputs": [],
   "source": [
    "path = '/Users/moshesilverstein/Documents/Harmonizome/GeneSigDB/Output/'"
   ]
  },
  {
   "cell_type": "code",
   "execution_count": 23,
   "metadata": {
    "collapsed": true
   },
   "outputs": [],
   "source": [
    "name = 'genesigdb_idg_gene_set'"
   ]
  },
  {
   "cell_type": "code",
   "execution_count": 24,
   "metadata": {},
   "outputs": [
    {
     "name": "stdout",
     "output_type": "stream",
     "text": [
      "Progeres: 100%  3508 Out of 3508   \r"
     ]
    }
   ],
   "source": [
    "uf.createUpGeneSetLib(binary_matrix, path, name)"
   ]
  },
  {
   "cell_type": "markdown",
   "metadata": {},
   "source": [
    "# Create Attribute Library"
   ]
  },
  {
   "cell_type": "code",
   "execution_count": 25,
   "metadata": {
    "collapsed": true
   },
   "outputs": [],
   "source": [
    "path = '/Users/moshesilverstein/Documents/Harmonizome/GeneSigDB/Output/'"
   ]
  },
  {
   "cell_type": "code",
   "execution_count": 26,
   "metadata": {
    "collapsed": true
   },
   "outputs": [],
   "source": [
    "name = 'genesigdb_idg_attribute_set'"
   ]
  },
  {
   "cell_type": "code",
   "execution_count": 27,
   "metadata": {},
   "outputs": [
    {
     "name": "stdout",
     "output_type": "stream",
     "text": [
      "Progeres: 100%  18534 Out of 18534   \r"
     ]
    }
   ],
   "source": [
    "uf.createUpAttributeSetLib(binary_matrix, path, name)"
   ]
  },
  {
   "cell_type": "markdown",
   "metadata": {},
   "source": [
    "# Create Gene Similarity Matrix"
   ]
  },
  {
   "cell_type": "code",
   "execution_count": 28,
   "metadata": {
    "collapsed": true
   },
   "outputs": [],
   "source": [
    "gene_similarity_matix = uf.createSimilarityMatrix(binary_matrix, 'jaccard')"
   ]
  },
  {
   "cell_type": "code",
   "execution_count": 29,
   "metadata": {},
   "outputs": [
    {
     "data": {
      "text/html": [
       "<div>\n",
       "<table border=\"1\" class=\"dataframe\">\n",
       "  <thead>\n",
       "    <tr style=\"text-align: right;\">\n",
       "      <th></th>\n",
       "      <th>LIN7C</th>\n",
       "      <th>OR5D18</th>\n",
       "      <th>ZYG11B</th>\n",
       "      <th>PTMAP1</th>\n",
       "      <th>INHBB</th>\n",
       "      <th>TRBV10-2</th>\n",
       "      <th>ZNF488</th>\n",
       "      <th>ZSCAN4</th>\n",
       "      <th>ZMIZ2</th>\n",
       "      <th>ZC4H2</th>\n",
       "      <th>...</th>\n",
       "      <th>CIT</th>\n",
       "      <th>KAT6A</th>\n",
       "      <th>SSFA2</th>\n",
       "      <th>PTMAP3</th>\n",
       "      <th>KRT12</th>\n",
       "      <th>SNAP29</th>\n",
       "      <th>LMNTD1</th>\n",
       "      <th>EDA2R</th>\n",
       "      <th>PI16</th>\n",
       "      <th>CXCL16</th>\n",
       "    </tr>\n",
       "  </thead>\n",
       "  <tbody>\n",
       "    <tr>\n",
       "      <th>LIN7C</th>\n",
       "      <td>1.000000</td>\n",
       "      <td>0.0</td>\n",
       "      <td>0.151515</td>\n",
       "      <td>0.0</td>\n",
       "      <td>0.021277</td>\n",
       "      <td>0.041667</td>\n",
       "      <td>0.000000</td>\n",
       "      <td>0.0</td>\n",
       "      <td>0.026316</td>\n",
       "      <td>0.00000</td>\n",
       "      <td>...</td>\n",
       "      <td>0.029412</td>\n",
       "      <td>0.046875</td>\n",
       "      <td>0.000000</td>\n",
       "      <td>0.0</td>\n",
       "      <td>0.000000</td>\n",
       "      <td>0.076923</td>\n",
       "      <td>0.0</td>\n",
       "      <td>0.032258</td>\n",
       "      <td>0.000000</td>\n",
       "      <td>0.051724</td>\n",
       "    </tr>\n",
       "    <tr>\n",
       "      <th>OR5D18</th>\n",
       "      <td>0.000000</td>\n",
       "      <td>1.0</td>\n",
       "      <td>0.000000</td>\n",
       "      <td>0.0</td>\n",
       "      <td>0.000000</td>\n",
       "      <td>0.000000</td>\n",
       "      <td>0.000000</td>\n",
       "      <td>0.0</td>\n",
       "      <td>0.000000</td>\n",
       "      <td>0.00000</td>\n",
       "      <td>...</td>\n",
       "      <td>0.000000</td>\n",
       "      <td>0.000000</td>\n",
       "      <td>0.000000</td>\n",
       "      <td>0.0</td>\n",
       "      <td>0.000000</td>\n",
       "      <td>0.000000</td>\n",
       "      <td>0.0</td>\n",
       "      <td>0.000000</td>\n",
       "      <td>0.000000</td>\n",
       "      <td>0.000000</td>\n",
       "    </tr>\n",
       "    <tr>\n",
       "      <th>ZYG11B</th>\n",
       "      <td>0.151515</td>\n",
       "      <td>0.0</td>\n",
       "      <td>1.000000</td>\n",
       "      <td>0.0</td>\n",
       "      <td>0.035294</td>\n",
       "      <td>0.000000</td>\n",
       "      <td>0.000000</td>\n",
       "      <td>0.0</td>\n",
       "      <td>0.000000</td>\n",
       "      <td>0.00000</td>\n",
       "      <td>...</td>\n",
       "      <td>0.016393</td>\n",
       "      <td>0.000000</td>\n",
       "      <td>0.021739</td>\n",
       "      <td>0.0</td>\n",
       "      <td>0.000000</td>\n",
       "      <td>0.030303</td>\n",
       "      <td>0.0</td>\n",
       "      <td>0.000000</td>\n",
       "      <td>0.047619</td>\n",
       "      <td>0.019231</td>\n",
       "    </tr>\n",
       "    <tr>\n",
       "      <th>PTMAP1</th>\n",
       "      <td>0.000000</td>\n",
       "      <td>0.0</td>\n",
       "      <td>0.000000</td>\n",
       "      <td>1.0</td>\n",
       "      <td>0.000000</td>\n",
       "      <td>0.000000</td>\n",
       "      <td>0.000000</td>\n",
       "      <td>0.0</td>\n",
       "      <td>0.000000</td>\n",
       "      <td>0.00000</td>\n",
       "      <td>...</td>\n",
       "      <td>0.021277</td>\n",
       "      <td>0.000000</td>\n",
       "      <td>0.000000</td>\n",
       "      <td>1.0</td>\n",
       "      <td>0.000000</td>\n",
       "      <td>0.000000</td>\n",
       "      <td>0.0</td>\n",
       "      <td>0.000000</td>\n",
       "      <td>0.000000</td>\n",
       "      <td>0.000000</td>\n",
       "    </tr>\n",
       "    <tr>\n",
       "      <th>INHBB</th>\n",
       "      <td>0.021277</td>\n",
       "      <td>0.0</td>\n",
       "      <td>0.035294</td>\n",
       "      <td>0.0</td>\n",
       "      <td>1.000000</td>\n",
       "      <td>0.013514</td>\n",
       "      <td>0.023529</td>\n",
       "      <td>0.0</td>\n",
       "      <td>0.000000</td>\n",
       "      <td>0.02439</td>\n",
       "      <td>...</td>\n",
       "      <td>0.025641</td>\n",
       "      <td>0.054054</td>\n",
       "      <td>0.060606</td>\n",
       "      <td>0.0</td>\n",
       "      <td>0.039474</td>\n",
       "      <td>0.010989</td>\n",
       "      <td>0.0</td>\n",
       "      <td>0.037975</td>\n",
       "      <td>0.000000</td>\n",
       "      <td>0.037383</td>\n",
       "    </tr>\n",
       "  </tbody>\n",
       "</table>\n",
       "<p>5 rows × 18534 columns</p>\n",
       "</div>"
      ],
      "text/plain": [
       "           LIN7C  OR5D18    ZYG11B  PTMAP1     INHBB  TRBV10-2    ZNF488  \\\n",
       "LIN7C   1.000000     0.0  0.151515     0.0  0.021277  0.041667  0.000000   \n",
       "OR5D18  0.000000     1.0  0.000000     0.0  0.000000  0.000000  0.000000   \n",
       "ZYG11B  0.151515     0.0  1.000000     0.0  0.035294  0.000000  0.000000   \n",
       "PTMAP1  0.000000     0.0  0.000000     1.0  0.000000  0.000000  0.000000   \n",
       "INHBB   0.021277     0.0  0.035294     0.0  1.000000  0.013514  0.023529   \n",
       "\n",
       "        ZSCAN4     ZMIZ2    ZC4H2    ...          CIT     KAT6A     SSFA2  \\\n",
       "LIN7C      0.0  0.026316  0.00000    ...     0.029412  0.046875  0.000000   \n",
       "OR5D18     0.0  0.000000  0.00000    ...     0.000000  0.000000  0.000000   \n",
       "ZYG11B     0.0  0.000000  0.00000    ...     0.016393  0.000000  0.021739   \n",
       "PTMAP1     0.0  0.000000  0.00000    ...     0.021277  0.000000  0.000000   \n",
       "INHBB      0.0  0.000000  0.02439    ...     0.025641  0.054054  0.060606   \n",
       "\n",
       "        PTMAP3     KRT12    SNAP29  LMNTD1     EDA2R      PI16    CXCL16  \n",
       "LIN7C      0.0  0.000000  0.076923     0.0  0.032258  0.000000  0.051724  \n",
       "OR5D18     0.0  0.000000  0.000000     0.0  0.000000  0.000000  0.000000  \n",
       "ZYG11B     0.0  0.000000  0.030303     0.0  0.000000  0.047619  0.019231  \n",
       "PTMAP1     1.0  0.000000  0.000000     0.0  0.000000  0.000000  0.000000  \n",
       "INHBB      0.0  0.039474  0.010989     0.0  0.037975  0.000000  0.037383  \n",
       "\n",
       "[5 rows x 18534 columns]"
      ]
     },
     "execution_count": 29,
     "metadata": {},
     "output_type": "execute_result"
    }
   ],
   "source": [
    "gene_similarity_matix.head()"
   ]
  },
  {
   "cell_type": "markdown",
   "metadata": {},
   "source": [
    "# Save Gene Similarity Matrix"
   ]
  },
  {
   "cell_type": "code",
   "execution_count": 30,
   "metadata": {
    "collapsed": true
   },
   "outputs": [],
   "source": [
    "filename = '~/./Documents/Harmonizome/GeneSigDB/Output/genesigdb_idg_gene_similarity_matix_%s.tsv.zip'% str(datetime.date.today())[0:7].replace('-', '_')\n",
    "gene_similarity_matix.to_csv(filename, sep='\\t', compression='gzip')"
   ]
  },
  {
   "cell_type": "markdown",
   "metadata": {},
   "source": [
    "# Create Attribute Similarity matrix"
   ]
  },
  {
   "cell_type": "code",
   "execution_count": 31,
   "metadata": {
    "collapsed": true
   },
   "outputs": [],
   "source": [
    "attribute_similarity_matix = uf.createSimilarityMatrix(binary_matrix.T, 'jaccard')"
   ]
  },
  {
   "cell_type": "code",
   "execution_count": 32,
   "metadata": {},
   "outputs": [
    {
     "data": {
      "text/html": [
       "<div>\n",
       "<table border=\"1\" class=\"dataframe\">\n",
       "  <thead>\n",
       "    <tr style=\"text-align: right;\">\n",
       "      <th></th>\n",
       "      <th>17880687-TableS1</th>\n",
       "      <th>19933690-TableS2</th>\n",
       "      <th>15902281-TableS1a</th>\n",
       "      <th>18662380-S3-ERBB2</th>\n",
       "      <th>18288381-Table4</th>\n",
       "      <th>18510698-Table2</th>\n",
       "      <th>18160667-TableS4</th>\n",
       "      <th>12036940-Table2</th>\n",
       "      <th>18855877-Table2</th>\n",
       "      <th>20068100-TableS5</th>\n",
       "      <th>...</th>\n",
       "      <th>19936789-Table1</th>\n",
       "      <th>16449190-Table1</th>\n",
       "      <th>19112599-Table2b</th>\n",
       "      <th>15073102-Table1d</th>\n",
       "      <th>15548366-Table3</th>\n",
       "      <th>20679228-TableS5</th>\n",
       "      <th>16195394-Table2</th>\n",
       "      <th>15831674-Table3</th>\n",
       "      <th>15246160-table4</th>\n",
       "      <th>17205517-Top100GoodPrognosisGenes</th>\n",
       "    </tr>\n",
       "  </thead>\n",
       "  <tbody>\n",
       "    <tr>\n",
       "      <th>17880687-TableS1</th>\n",
       "      <td>1.000000</td>\n",
       "      <td>0.000000</td>\n",
       "      <td>0.026127</td>\n",
       "      <td>0.001754</td>\n",
       "      <td>0.010318</td>\n",
       "      <td>0.002622</td>\n",
       "      <td>0.010161</td>\n",
       "      <td>0.001729</td>\n",
       "      <td>0.000877</td>\n",
       "      <td>0.013633</td>\n",
       "      <td>...</td>\n",
       "      <td>0.003493</td>\n",
       "      <td>0.004371</td>\n",
       "      <td>0.0</td>\n",
       "      <td>0.001765</td>\n",
       "      <td>0.003463</td>\n",
       "      <td>0.002641</td>\n",
       "      <td>0.001756</td>\n",
       "      <td>0.006040</td>\n",
       "      <td>0.003506</td>\n",
       "      <td>0.009167</td>\n",
       "    </tr>\n",
       "    <tr>\n",
       "      <th>19933690-TableS2</th>\n",
       "      <td>0.000000</td>\n",
       "      <td>1.000000</td>\n",
       "      <td>0.003922</td>\n",
       "      <td>0.000000</td>\n",
       "      <td>0.000000</td>\n",
       "      <td>0.000000</td>\n",
       "      <td>0.000000</td>\n",
       "      <td>0.000000</td>\n",
       "      <td>0.000000</td>\n",
       "      <td>0.000000</td>\n",
       "      <td>...</td>\n",
       "      <td>0.000000</td>\n",
       "      <td>0.000000</td>\n",
       "      <td>0.0</td>\n",
       "      <td>0.000000</td>\n",
       "      <td>0.000000</td>\n",
       "      <td>0.000000</td>\n",
       "      <td>0.000000</td>\n",
       "      <td>0.000000</td>\n",
       "      <td>0.000000</td>\n",
       "      <td>0.000000</td>\n",
       "    </tr>\n",
       "    <tr>\n",
       "      <th>15902281-TableS1a</th>\n",
       "      <td>0.026127</td>\n",
       "      <td>0.003922</td>\n",
       "      <td>1.000000</td>\n",
       "      <td>0.000000</td>\n",
       "      <td>0.004016</td>\n",
       "      <td>0.004255</td>\n",
       "      <td>0.003876</td>\n",
       "      <td>0.000000</td>\n",
       "      <td>0.000000</td>\n",
       "      <td>0.008562</td>\n",
       "      <td>...</td>\n",
       "      <td>0.004237</td>\n",
       "      <td>0.004237</td>\n",
       "      <td>0.0</td>\n",
       "      <td>0.002179</td>\n",
       "      <td>0.002070</td>\n",
       "      <td>0.002160</td>\n",
       "      <td>0.000000</td>\n",
       "      <td>0.004090</td>\n",
       "      <td>0.000000</td>\n",
       "      <td>0.009416</td>\n",
       "    </tr>\n",
       "    <tr>\n",
       "      <th>18662380-S3-ERBB2</th>\n",
       "      <td>0.001754</td>\n",
       "      <td>0.000000</td>\n",
       "      <td>0.000000</td>\n",
       "      <td>1.000000</td>\n",
       "      <td>0.000000</td>\n",
       "      <td>0.000000</td>\n",
       "      <td>0.000000</td>\n",
       "      <td>0.000000</td>\n",
       "      <td>0.000000</td>\n",
       "      <td>0.000000</td>\n",
       "      <td>...</td>\n",
       "      <td>0.000000</td>\n",
       "      <td>0.000000</td>\n",
       "      <td>0.0</td>\n",
       "      <td>0.000000</td>\n",
       "      <td>0.018519</td>\n",
       "      <td>0.000000</td>\n",
       "      <td>0.000000</td>\n",
       "      <td>0.000000</td>\n",
       "      <td>0.000000</td>\n",
       "      <td>0.000000</td>\n",
       "    </tr>\n",
       "    <tr>\n",
       "      <th>18288381-Table4</th>\n",
       "      <td>0.010318</td>\n",
       "      <td>0.000000</td>\n",
       "      <td>0.004016</td>\n",
       "      <td>0.000000</td>\n",
       "      <td>1.000000</td>\n",
       "      <td>0.000000</td>\n",
       "      <td>0.000000</td>\n",
       "      <td>0.000000</td>\n",
       "      <td>0.000000</td>\n",
       "      <td>0.000000</td>\n",
       "      <td>...</td>\n",
       "      <td>0.000000</td>\n",
       "      <td>0.000000</td>\n",
       "      <td>0.0</td>\n",
       "      <td>0.000000</td>\n",
       "      <td>0.000000</td>\n",
       "      <td>0.000000</td>\n",
       "      <td>0.000000</td>\n",
       "      <td>0.010638</td>\n",
       "      <td>0.000000</td>\n",
       "      <td>0.007194</td>\n",
       "    </tr>\n",
       "  </tbody>\n",
       "</table>\n",
       "<p>5 rows × 3508 columns</p>\n",
       "</div>"
      ],
      "text/plain": [
       "                   17880687-TableS1  19933690-TableS2  15902281-TableS1a  \\\n",
       "17880687-TableS1           1.000000          0.000000           0.026127   \n",
       "19933690-TableS2           0.000000          1.000000           0.003922   \n",
       "15902281-TableS1a          0.026127          0.003922           1.000000   \n",
       "18662380-S3-ERBB2          0.001754          0.000000           0.000000   \n",
       "18288381-Table4            0.010318          0.000000           0.004016   \n",
       "\n",
       "                   18662380-S3-ERBB2  18288381-Table4  18510698-Table2  \\\n",
       "17880687-TableS1            0.001754         0.010318         0.002622   \n",
       "19933690-TableS2            0.000000         0.000000         0.000000   \n",
       "15902281-TableS1a           0.000000         0.004016         0.004255   \n",
       "18662380-S3-ERBB2           1.000000         0.000000         0.000000   \n",
       "18288381-Table4             0.000000         1.000000         0.000000   \n",
       "\n",
       "                   18160667-TableS4  12036940-Table2  18855877-Table2  \\\n",
       "17880687-TableS1           0.010161         0.001729         0.000877   \n",
       "19933690-TableS2           0.000000         0.000000         0.000000   \n",
       "15902281-TableS1a          0.003876         0.000000         0.000000   \n",
       "18662380-S3-ERBB2          0.000000         0.000000         0.000000   \n",
       "18288381-Table4            0.000000         0.000000         0.000000   \n",
       "\n",
       "                   20068100-TableS5                ...                  \\\n",
       "17880687-TableS1           0.013633                ...                   \n",
       "19933690-TableS2           0.000000                ...                   \n",
       "15902281-TableS1a          0.008562                ...                   \n",
       "18662380-S3-ERBB2          0.000000                ...                   \n",
       "18288381-Table4            0.000000                ...                   \n",
       "\n",
       "                   19936789-Table1  16449190-Table1  19112599-Table2b  \\\n",
       "17880687-TableS1          0.003493         0.004371               0.0   \n",
       "19933690-TableS2          0.000000         0.000000               0.0   \n",
       "15902281-TableS1a         0.004237         0.004237               0.0   \n",
       "18662380-S3-ERBB2         0.000000         0.000000               0.0   \n",
       "18288381-Table4           0.000000         0.000000               0.0   \n",
       "\n",
       "                   15073102-Table1d  15548366-Table3  20679228-TableS5  \\\n",
       "17880687-TableS1           0.001765         0.003463          0.002641   \n",
       "19933690-TableS2           0.000000         0.000000          0.000000   \n",
       "15902281-TableS1a          0.002179         0.002070          0.002160   \n",
       "18662380-S3-ERBB2          0.000000         0.018519          0.000000   \n",
       "18288381-Table4            0.000000         0.000000          0.000000   \n",
       "\n",
       "                   16195394-Table2  15831674-Table3  15246160-table4  \\\n",
       "17880687-TableS1          0.001756         0.006040         0.003506   \n",
       "19933690-TableS2          0.000000         0.000000         0.000000   \n",
       "15902281-TableS1a         0.000000         0.004090         0.000000   \n",
       "18662380-S3-ERBB2         0.000000         0.000000         0.000000   \n",
       "18288381-Table4           0.000000         0.010638         0.000000   \n",
       "\n",
       "                   17205517-Top100GoodPrognosisGenes  \n",
       "17880687-TableS1                            0.009167  \n",
       "19933690-TableS2                            0.000000  \n",
       "15902281-TableS1a                           0.009416  \n",
       "18662380-S3-ERBB2                           0.000000  \n",
       "18288381-Table4                             0.007194  \n",
       "\n",
       "[5 rows x 3508 columns]"
      ]
     },
     "execution_count": 32,
     "metadata": {},
     "output_type": "execute_result"
    }
   ],
   "source": [
    "attribute_similarity_matix.head()"
   ]
  },
  {
   "cell_type": "markdown",
   "metadata": {},
   "source": [
    "# Save Attribute Similarity Matrix"
   ]
  },
  {
   "cell_type": "code",
   "execution_count": 33,
   "metadata": {
    "collapsed": true
   },
   "outputs": [],
   "source": [
    "filename = '~/./Documents/Harmonizome/GeneSigDB/Output/genesigdb_idg_attribute_similarity_matix_%s.tsv.zip'% str(datetime.date.today())[0:7].replace('-', '_')\n",
    "attribute_similarity_matix.to_csv(filename, sep='\\t', compression='gzip')"
   ]
  },
  {
   "cell_type": "markdown",
   "metadata": {},
   "source": [
    "# Create Gene List"
   ]
  },
  {
   "cell_type": "code",
   "execution_count": 34,
   "metadata": {},
   "outputs": [
    {
     "name": "stdout",
     "output_type": "stream",
     "text": [
      "Progeres: 100%  18534 Out of 18534   \r"
     ]
    }
   ],
   "source": [
    "gene_list = uf.createGeneList(binary_matrix)"
   ]
  },
  {
   "cell_type": "code",
   "execution_count": 35,
   "metadata": {},
   "outputs": [
    {
     "data": {
      "text/html": [
       "<div>\n",
       "<table border=\"1\" class=\"dataframe\">\n",
       "  <thead>\n",
       "    <tr style=\"text-align: right;\">\n",
       "      <th></th>\n",
       "      <th>GeneSym</th>\n",
       "      <th>GeneID</th>\n",
       "    </tr>\n",
       "  </thead>\n",
       "  <tbody>\n",
       "    <tr>\n",
       "      <th>0</th>\n",
       "      <td>LIN7C</td>\n",
       "      <td>55327</td>\n",
       "    </tr>\n",
       "    <tr>\n",
       "      <th>1</th>\n",
       "      <td>OR5D18</td>\n",
       "      <td>219438</td>\n",
       "    </tr>\n",
       "    <tr>\n",
       "      <th>2</th>\n",
       "      <td>ZYG11B</td>\n",
       "      <td>79699</td>\n",
       "    </tr>\n",
       "    <tr>\n",
       "      <th>3</th>\n",
       "      <td>PTMAP1</td>\n",
       "      <td>5758</td>\n",
       "    </tr>\n",
       "    <tr>\n",
       "      <th>4</th>\n",
       "      <td>INHBB</td>\n",
       "      <td>3625</td>\n",
       "    </tr>\n",
       "  </tbody>\n",
       "</table>\n",
       "</div>"
      ],
      "text/plain": [
       "  GeneSym  GeneID\n",
       "0   LIN7C   55327\n",
       "1  OR5D18  219438\n",
       "2  ZYG11B   79699\n",
       "3  PTMAP1    5758\n",
       "4   INHBB    3625"
      ]
     },
     "execution_count": 35,
     "metadata": {},
     "output_type": "execute_result"
    }
   ],
   "source": [
    "gene_list.head()"
   ]
  },
  {
   "cell_type": "code",
   "execution_count": 36,
   "metadata": {},
   "outputs": [
    {
     "data": {
      "text/plain": [
       "(18534, 2)"
      ]
     },
     "execution_count": 36,
     "metadata": {},
     "output_type": "execute_result"
    }
   ],
   "source": [
    "gene_list.shape"
   ]
  },
  {
   "cell_type": "markdown",
   "metadata": {},
   "source": [
    "# Save Gene List"
   ]
  },
  {
   "cell_type": "code",
   "execution_count": 37,
   "metadata": {
    "collapsed": true
   },
   "outputs": [],
   "source": [
    "filename = '~/./Documents/Harmonizome/GeneSigDB/Output/genesigdb_idg_gene_list_%s.tsv.zip'% str(datetime.date.today())[0:7].replace('-', '_')\n",
    "gene_list.to_csv(filename, sep='\\t', index=False, compression='gzip')"
   ]
  },
  {
   "cell_type": "markdown",
   "metadata": {},
   "source": [
    "# Create Attribute List"
   ]
  },
  {
   "cell_type": "code",
   "execution_count": 38,
   "metadata": {
    "collapsed": true
   },
   "outputs": [],
   "source": [
    "attribute_list = uf.createAttributeList(binary_matrix)"
   ]
  },
  {
   "cell_type": "code",
   "execution_count": 39,
   "metadata": {},
   "outputs": [
    {
     "data": {
      "text/html": [
       "<div>\n",
       "<table border=\"1\" class=\"dataframe\">\n",
       "  <thead>\n",
       "    <tr style=\"text-align: right;\">\n",
       "      <th></th>\n",
       "      <th>Attributes</th>\n",
       "    </tr>\n",
       "  </thead>\n",
       "  <tbody>\n",
       "    <tr>\n",
       "      <th>0</th>\n",
       "      <td>17880687-TableS1</td>\n",
       "    </tr>\n",
       "    <tr>\n",
       "      <th>1</th>\n",
       "      <td>19933690-TableS2</td>\n",
       "    </tr>\n",
       "    <tr>\n",
       "      <th>2</th>\n",
       "      <td>15902281-TableS1a</td>\n",
       "    </tr>\n",
       "    <tr>\n",
       "      <th>3</th>\n",
       "      <td>18662380-S3-ERBB2</td>\n",
       "    </tr>\n",
       "    <tr>\n",
       "      <th>4</th>\n",
       "      <td>18288381-Table4</td>\n",
       "    </tr>\n",
       "  </tbody>\n",
       "</table>\n",
       "</div>"
      ],
      "text/plain": [
       "          Attributes\n",
       "0   17880687-TableS1\n",
       "1   19933690-TableS2\n",
       "2  15902281-TableS1a\n",
       "3  18662380-S3-ERBB2\n",
       "4    18288381-Table4"
      ]
     },
     "execution_count": 39,
     "metadata": {},
     "output_type": "execute_result"
    }
   ],
   "source": [
    "attribute_list.head()"
   ]
  },
  {
   "cell_type": "code",
   "execution_count": 40,
   "metadata": {},
   "outputs": [
    {
     "data": {
      "text/plain": [
       "(3508, 1)"
      ]
     },
     "execution_count": 40,
     "metadata": {},
     "output_type": "execute_result"
    }
   ],
   "source": [
    "attribute_list.shape"
   ]
  },
  {
   "cell_type": "markdown",
   "metadata": {},
   "source": [
    "# Save Attribute List"
   ]
  },
  {
   "cell_type": "code",
   "execution_count": 41,
   "metadata": {
    "collapsed": true
   },
   "outputs": [],
   "source": [
    "filename = '~/./Documents/Harmonizome/GeneSigDB/Output/genesigdb_idg_attribute_list_%s.tsv.zip'% str(datetime.date.today())[0:7].replace('-', '_')\n",
    "attribute_list.to_csv(filename, sep='\\t', index=False, compression='gzip')"
   ]
  },
  {
   "cell_type": "markdown",
   "metadata": {},
   "source": [
    "# Create Gene-Attribute Edge List"
   ]
  },
  {
   "cell_type": "code",
   "execution_count": 42,
   "metadata": {
    "collapsed": true
   },
   "outputs": [],
   "source": [
    "path = '/Users/moshesilverstein/Documents/Harmonizome/GeneSigDB/Output/'"
   ]
  },
  {
   "cell_type": "code",
   "execution_count": 43,
   "metadata": {
    "collapsed": true
   },
   "outputs": [],
   "source": [
    "name = 'genesigdb_idg_gene_attribute_edge_list'"
   ]
  },
  {
   "cell_type": "code",
   "execution_count": 44,
   "metadata": {},
   "outputs": [
    {
     "name": "stdout",
     "output_type": "stream",
     "text": [
      "Progeres: 100%  3508 Out of 3508   \n",
      "\n",
      " The number of statisticaly relevent gene-attribute associations is: 404516\n"
     ]
    }
   ],
   "source": [
    "uf.createGeneAttributeEdgeList(binary_matrix, gene_list, path, name)"
   ]
  }
 ],
 "metadata": {
  "kernelspec": {
   "display_name": "Python [default]",
   "language": "python",
   "name": "python3"
  },
  "language_info": {
   "codemirror_mode": {
    "name": "ipython",
    "version": 3
   },
   "file_extension": ".py",
   "mimetype": "text/x-python",
   "name": "python",
   "nbconvert_exporter": "python",
   "pygments_lexer": "ipython3",
   "version": "3.5.2"
  }
 },
 "nbformat": 4,
 "nbformat_minor": 2
}
