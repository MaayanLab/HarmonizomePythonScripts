{
 "cells": [
  {
   "cell_type": "markdown",
   "metadata": {},
   "source": [
    "# TargetScanHuman"
   ]
  },
  {
   "cell_type": "markdown",
   "metadata": {},
   "source": [
    "Author: John Erol Evangelista <br/>\n",
    "Adapted from: https://github.com/MaayanLab/HarmonizomePythonScripts/blob/master/TargetScanHuman/TargetScanHuman.ipynb <br/>\n",
    "Date: 01-19 <br/>\n",
    "Data Source: http://www.targetscan.org/vert_72/"
   ]
  },
  {
   "cell_type": "code",
   "execution_count": 1,
   "metadata": {},
   "outputs": [],
   "source": [
    "import sys, datetime, os\n",
    "import numpy as np\n",
    "import pandas as pd\n",
    "import importlib\n",
    "if \"/Users/maayan/sigsets/Harmonizome/HarmonizomePythonScripts\" not in sys.path:\n",
    "    sys.path.append(\"/Users/maayan/sigsets/Harmonizome/HarmonizomePythonScripts\")\n",
    "import utility_functions as uf\n",
    "%matplotlib inline"
   ]
  },
  {
   "cell_type": "code",
   "execution_count": 2,
   "metadata": {},
   "outputs": [
    {
     "data": {
      "text/plain": [
       "<module 'utility_functions' from '/Users/maayan/sigsets/Harmonizome/HarmonizomePythonScripts/utility_functions.py'>"
      ]
     },
     "execution_count": 2,
     "metadata": {},
     "output_type": "execute_result"
    }
   ],
   "source": [
    "importlib.reload(uf)"
   ]
  },
  {
   "cell_type": "markdown",
   "metadata": {},
   "source": [
    "## Load tsv"
   ]
  },
  {
   "cell_type": "code",
   "execution_count": 3,
   "metadata": {},
   "outputs": [],
   "source": [
    "conserved = pd.read_csv('../../Data/Conserved_Site_Context_Scores.txt', sep=\"\\t\")"
   ]
  },
  {
   "cell_type": "code",
   "execution_count": 4,
   "metadata": {},
   "outputs": [
    {
     "data": {
      "text/html": [
       "<div>\n",
       "<style scoped>\n",
       "    .dataframe tbody tr th:only-of-type {\n",
       "        vertical-align: middle;\n",
       "    }\n",
       "\n",
       "    .dataframe tbody tr th {\n",
       "        vertical-align: top;\n",
       "    }\n",
       "\n",
       "    .dataframe thead th {\n",
       "        text-align: right;\n",
       "    }\n",
       "</style>\n",
       "<table border=\"1\" class=\"dataframe\">\n",
       "  <thead>\n",
       "    <tr style=\"text-align: right;\">\n",
       "      <th></th>\n",
       "      <th>Gene ID</th>\n",
       "      <th>Gene Symbol</th>\n",
       "      <th>Transcript ID</th>\n",
       "      <th>Gene Tax ID</th>\n",
       "      <th>miRNA</th>\n",
       "      <th>Site Type</th>\n",
       "      <th>UTR_start</th>\n",
       "      <th>UTR end</th>\n",
       "      <th>context++ score</th>\n",
       "      <th>context++ score percentile</th>\n",
       "      <th>weighted context++ score</th>\n",
       "      <th>weighted context++ score percentile</th>\n",
       "    </tr>\n",
       "  </thead>\n",
       "  <tbody>\n",
       "    <tr>\n",
       "      <th>0</th>\n",
       "      <td>ENSG00000121410.7</td>\n",
       "      <td>A1BG</td>\n",
       "      <td>ENST00000263100.3</td>\n",
       "      <td>9544</td>\n",
       "      <td>mml-miR-23a-3p</td>\n",
       "      <td>3</td>\n",
       "      <td>142</td>\n",
       "      <td>149</td>\n",
       "      <td>-0.428</td>\n",
       "      <td>97</td>\n",
       "      <td>-0.388</td>\n",
       "      <td>97</td>\n",
       "    </tr>\n",
       "    <tr>\n",
       "      <th>1</th>\n",
       "      <td>ENSG00000121410.7</td>\n",
       "      <td>A1BG</td>\n",
       "      <td>ENST00000263100.3</td>\n",
       "      <td>9544</td>\n",
       "      <td>mml-miR-23b-3p</td>\n",
       "      <td>3</td>\n",
       "      <td>142</td>\n",
       "      <td>149</td>\n",
       "      <td>-0.428</td>\n",
       "      <td>97</td>\n",
       "      <td>-0.388</td>\n",
       "      <td>97</td>\n",
       "    </tr>\n",
       "    <tr>\n",
       "      <th>2</th>\n",
       "      <td>ENSG00000121410.7</td>\n",
       "      <td>A1BG</td>\n",
       "      <td>ENST00000263100.3</td>\n",
       "      <td>9598</td>\n",
       "      <td>ptr-miR-23a</td>\n",
       "      <td>3</td>\n",
       "      <td>143</td>\n",
       "      <td>150</td>\n",
       "      <td>-0.419</td>\n",
       "      <td>97</td>\n",
       "      <td>-0.419</td>\n",
       "      <td>98</td>\n",
       "    </tr>\n",
       "    <tr>\n",
       "      <th>3</th>\n",
       "      <td>ENSG00000121410.7</td>\n",
       "      <td>A1BG</td>\n",
       "      <td>ENST00000263100.3</td>\n",
       "      <td>9598</td>\n",
       "      <td>ptr-miR-23b</td>\n",
       "      <td>3</td>\n",
       "      <td>143</td>\n",
       "      <td>150</td>\n",
       "      <td>-0.419</td>\n",
       "      <td>97</td>\n",
       "      <td>-0.419</td>\n",
       "      <td>98</td>\n",
       "    </tr>\n",
       "    <tr>\n",
       "      <th>4</th>\n",
       "      <td>ENSG00000121410.7</td>\n",
       "      <td>A1BG</td>\n",
       "      <td>ENST00000263100.3</td>\n",
       "      <td>9598</td>\n",
       "      <td>ptr-miR-23c</td>\n",
       "      <td>3</td>\n",
       "      <td>143</td>\n",
       "      <td>150</td>\n",
       "      <td>-0.419</td>\n",
       "      <td>97</td>\n",
       "      <td>-0.419</td>\n",
       "      <td>98</td>\n",
       "    </tr>\n",
       "  </tbody>\n",
       "</table>\n",
       "</div>"
      ],
      "text/plain": [
       "             Gene ID Gene Symbol      Transcript ID  Gene Tax ID  \\\n",
       "0  ENSG00000121410.7        A1BG  ENST00000263100.3         9544   \n",
       "1  ENSG00000121410.7        A1BG  ENST00000263100.3         9544   \n",
       "2  ENSG00000121410.7        A1BG  ENST00000263100.3         9598   \n",
       "3  ENSG00000121410.7        A1BG  ENST00000263100.3         9598   \n",
       "4  ENSG00000121410.7        A1BG  ENST00000263100.3         9598   \n",
       "\n",
       "            miRNA  Site Type  UTR_start  UTR end  context++ score  \\\n",
       "0  mml-miR-23a-3p          3        142      149           -0.428   \n",
       "1  mml-miR-23b-3p          3        142      149           -0.428   \n",
       "2     ptr-miR-23a          3        143      150           -0.419   \n",
       "3     ptr-miR-23b          3        143      150           -0.419   \n",
       "4     ptr-miR-23c          3        143      150           -0.419   \n",
       "\n",
       "   context++ score percentile  weighted context++ score  \\\n",
       "0                          97                    -0.388   \n",
       "1                          97                    -0.388   \n",
       "2                          97                    -0.419   \n",
       "3                          97                    -0.419   \n",
       "4                          97                    -0.419   \n",
       "\n",
       "   weighted context++ score percentile  \n",
       "0                                   97  \n",
       "1                                   97  \n",
       "2                                   98  \n",
       "3                                   98  \n",
       "4                                   98  "
      ]
     },
     "execution_count": 4,
     "metadata": {},
     "output_type": "execute_result"
    }
   ],
   "source": [
    "conserved.head()"
   ]
  },
  {
   "cell_type": "code",
   "execution_count": 5,
   "metadata": {},
   "outputs": [
    {
     "data": {
      "text/plain": [
       "(1468777, 12)"
      ]
     },
     "execution_count": 5,
     "metadata": {},
     "output_type": "execute_result"
    }
   ],
   "source": [
    "conserved.shape"
   ]
  },
  {
   "cell_type": "code",
   "execution_count": 6,
   "metadata": {},
   "outputs": [],
   "source": [
    "nonconserved = pd.read_csv('../../Data/Nonconserved_Site_Context_Scores.txt', sep=\"\\t\")"
   ]
  },
  {
   "cell_type": "code",
   "execution_count": 7,
   "metadata": {
    "scrolled": true
   },
   "outputs": [
    {
     "data": {
      "text/html": [
       "<div>\n",
       "<style scoped>\n",
       "    .dataframe tbody tr th:only-of-type {\n",
       "        vertical-align: middle;\n",
       "    }\n",
       "\n",
       "    .dataframe tbody tr th {\n",
       "        vertical-align: top;\n",
       "    }\n",
       "\n",
       "    .dataframe thead th {\n",
       "        text-align: right;\n",
       "    }\n",
       "</style>\n",
       "<table border=\"1\" class=\"dataframe\">\n",
       "  <thead>\n",
       "    <tr style=\"text-align: right;\">\n",
       "      <th></th>\n",
       "      <th>Gene ID</th>\n",
       "      <th>Gene Symbol</th>\n",
       "      <th>Transcript ID</th>\n",
       "      <th>Gene Tax ID</th>\n",
       "      <th>miRNA</th>\n",
       "      <th>Site Type</th>\n",
       "      <th>UTR_start</th>\n",
       "      <th>UTR end</th>\n",
       "      <th>context++ score</th>\n",
       "      <th>context++ score percentile</th>\n",
       "      <th>weighted context++ score</th>\n",
       "      <th>weighted context++ score percentile</th>\n",
       "    </tr>\n",
       "  </thead>\n",
       "  <tbody>\n",
       "    <tr>\n",
       "      <th>0</th>\n",
       "      <td>ENSG00000121410.7</td>\n",
       "      <td>A1BG</td>\n",
       "      <td>ENST00000263100.3</td>\n",
       "      <td>13616</td>\n",
       "      <td>mdo-miR-129-3p</td>\n",
       "      <td>2</td>\n",
       "      <td>52</td>\n",
       "      <td>58</td>\n",
       "      <td>-0.278</td>\n",
       "      <td>93</td>\n",
       "      <td>-0.060</td>\n",
       "      <td>66</td>\n",
       "    </tr>\n",
       "    <tr>\n",
       "      <th>1</th>\n",
       "      <td>ENSG00000121410.7</td>\n",
       "      <td>A1BG</td>\n",
       "      <td>ENST00000263100.3</td>\n",
       "      <td>13616</td>\n",
       "      <td>mdo-miR-140-3p</td>\n",
       "      <td>2</td>\n",
       "      <td>70</td>\n",
       "      <td>76</td>\n",
       "      <td>-0.209</td>\n",
       "      <td>89</td>\n",
       "      <td>-0.046</td>\n",
       "      <td>65</td>\n",
       "    </tr>\n",
       "    <tr>\n",
       "      <th>2</th>\n",
       "      <td>ENSG00000121410.7</td>\n",
       "      <td>A1BG</td>\n",
       "      <td>ENST00000263100.3</td>\n",
       "      <td>13616</td>\n",
       "      <td>mdo-miR-193a-5p</td>\n",
       "      <td>1</td>\n",
       "      <td>155</td>\n",
       "      <td>161</td>\n",
       "      <td>-0.218</td>\n",
       "      <td>86</td>\n",
       "      <td>-0.047</td>\n",
       "      <td>52</td>\n",
       "    </tr>\n",
       "    <tr>\n",
       "      <th>3</th>\n",
       "      <td>ENSG00000121410.7</td>\n",
       "      <td>A1BG</td>\n",
       "      <td>ENST00000263100.3</td>\n",
       "      <td>13616</td>\n",
       "      <td>mdo-miR-22-3p</td>\n",
       "      <td>2</td>\n",
       "      <td>30</td>\n",
       "      <td>36</td>\n",
       "      <td>-0.125</td>\n",
       "      <td>70</td>\n",
       "      <td>-0.028</td>\n",
       "      <td>49</td>\n",
       "    </tr>\n",
       "    <tr>\n",
       "      <th>4</th>\n",
       "      <td>ENSG00000121410.7</td>\n",
       "      <td>A1BG</td>\n",
       "      <td>ENST00000263100.3</td>\n",
       "      <td>13616</td>\n",
       "      <td>mdo-miR-28</td>\n",
       "      <td>2</td>\n",
       "      <td>33</td>\n",
       "      <td>39</td>\n",
       "      <td>-0.110</td>\n",
       "      <td>72</td>\n",
       "      <td>-0.025</td>\n",
       "      <td>43</td>\n",
       "    </tr>\n",
       "  </tbody>\n",
       "</table>\n",
       "</div>"
      ],
      "text/plain": [
       "             Gene ID Gene Symbol      Transcript ID  Gene Tax ID  \\\n",
       "0  ENSG00000121410.7        A1BG  ENST00000263100.3        13616   \n",
       "1  ENSG00000121410.7        A1BG  ENST00000263100.3        13616   \n",
       "2  ENSG00000121410.7        A1BG  ENST00000263100.3        13616   \n",
       "3  ENSG00000121410.7        A1BG  ENST00000263100.3        13616   \n",
       "4  ENSG00000121410.7        A1BG  ENST00000263100.3        13616   \n",
       "\n",
       "             miRNA  Site Type  UTR_start  UTR end  context++ score  \\\n",
       "0   mdo-miR-129-3p          2         52       58           -0.278   \n",
       "1   mdo-miR-140-3p          2         70       76           -0.209   \n",
       "2  mdo-miR-193a-5p          1        155      161           -0.218   \n",
       "3    mdo-miR-22-3p          2         30       36           -0.125   \n",
       "4       mdo-miR-28          2         33       39           -0.110   \n",
       "\n",
       "   context++ score percentile  weighted context++ score  \\\n",
       "0                          93                    -0.060   \n",
       "1                          89                    -0.046   \n",
       "2                          86                    -0.047   \n",
       "3                          70                    -0.028   \n",
       "4                          72                    -0.025   \n",
       "\n",
       "   weighted context++ score percentile  \n",
       "0                                   66  \n",
       "1                                   65  \n",
       "2                                   52  \n",
       "3                                   49  \n",
       "4                                   43  "
      ]
     },
     "execution_count": 7,
     "metadata": {},
     "output_type": "execute_result"
    }
   ],
   "source": [
    "nonconserved.head()"
   ]
  },
  {
   "cell_type": "code",
   "execution_count": 8,
   "metadata": {},
   "outputs": [
    {
     "data": {
      "text/plain": [
       "(38497659, 12)"
      ]
     },
     "execution_count": 8,
     "metadata": {},
     "output_type": "execute_result"
    }
   ],
   "source": [
    "nonconserved.shape"
   ]
  },
  {
   "cell_type": "code",
   "execution_count": 9,
   "metadata": {},
   "outputs": [],
   "source": [
    "df = pd.concat([conserved, nonconserved])"
   ]
  },
  {
   "cell_type": "code",
   "execution_count": 11,
   "metadata": {},
   "outputs": [
    {
     "data": {
      "text/plain": [
       "(39966436, 12)"
      ]
     },
     "execution_count": 11,
     "metadata": {},
     "output_type": "execute_result"
    }
   ],
   "source": [
    "df.shape"
   ]
  },
  {
   "cell_type": "markdown",
   "metadata": {},
   "source": [
    "## Filter Data"
   ]
  },
  {
   "cell_type": "code",
   "execution_count": 15,
   "metadata": {},
   "outputs": [],
   "source": [
    "df = df[df[\"Gene Tax ID\"].isin([9606, 10090])]"
   ]
  },
  {
   "cell_type": "code",
   "execution_count": 16,
   "metadata": {},
   "outputs": [],
   "source": [
    "df = df[['Gene Symbol', 'miRNA']]"
   ]
  },
  {
   "cell_type": "code",
   "execution_count": 17,
   "metadata": {},
   "outputs": [
    {
     "data": {
      "text/html": [
       "<div>\n",
       "<style scoped>\n",
       "    .dataframe tbody tr th:only-of-type {\n",
       "        vertical-align: middle;\n",
       "    }\n",
       "\n",
       "    .dataframe tbody tr th {\n",
       "        vertical-align: top;\n",
       "    }\n",
       "\n",
       "    .dataframe thead th {\n",
       "        text-align: right;\n",
       "    }\n",
       "</style>\n",
       "<table border=\"1\" class=\"dataframe\">\n",
       "  <thead>\n",
       "    <tr style=\"text-align: right;\">\n",
       "      <th></th>\n",
       "      <th>Gene Symbol</th>\n",
       "      <th>miRNA</th>\n",
       "    </tr>\n",
       "  </thead>\n",
       "  <tbody>\n",
       "    <tr>\n",
       "      <th>5</th>\n",
       "      <td>A1BG</td>\n",
       "      <td>hsa-miR-23c</td>\n",
       "    </tr>\n",
       "    <tr>\n",
       "      <th>6</th>\n",
       "      <td>A1BG</td>\n",
       "      <td>hsa-miR-23b-3p</td>\n",
       "    </tr>\n",
       "    <tr>\n",
       "      <th>7</th>\n",
       "      <td>A1BG</td>\n",
       "      <td>hsa-miR-23a-3p</td>\n",
       "    </tr>\n",
       "    <tr>\n",
       "      <th>8</th>\n",
       "      <td>A1BG</td>\n",
       "      <td>hsa-miR-130a-5p</td>\n",
       "    </tr>\n",
       "    <tr>\n",
       "      <th>101</th>\n",
       "      <td>A1CF</td>\n",
       "      <td>hsa-miR-7-5p</td>\n",
       "    </tr>\n",
       "    <tr>\n",
       "      <th>102</th>\n",
       "      <td>A1CF</td>\n",
       "      <td>hsa-miR-30c-5p</td>\n",
       "    </tr>\n",
       "    <tr>\n",
       "      <th>103</th>\n",
       "      <td>A1CF</td>\n",
       "      <td>hsa-miR-30b-5p</td>\n",
       "    </tr>\n",
       "    <tr>\n",
       "      <th>104</th>\n",
       "      <td>A1CF</td>\n",
       "      <td>hsa-miR-30a-5p</td>\n",
       "    </tr>\n",
       "    <tr>\n",
       "      <th>105</th>\n",
       "      <td>A1CF</td>\n",
       "      <td>hsa-miR-30e-5p</td>\n",
       "    </tr>\n",
       "    <tr>\n",
       "      <th>106</th>\n",
       "      <td>A1CF</td>\n",
       "      <td>hsa-miR-30d-5p</td>\n",
       "    </tr>\n",
       "  </tbody>\n",
       "</table>\n",
       "</div>"
      ],
      "text/plain": [
       "    Gene Symbol            miRNA\n",
       "5          A1BG      hsa-miR-23c\n",
       "6          A1BG   hsa-miR-23b-3p\n",
       "7          A1BG   hsa-miR-23a-3p\n",
       "8          A1BG  hsa-miR-130a-5p\n",
       "101        A1CF     hsa-miR-7-5p\n",
       "102        A1CF   hsa-miR-30c-5p\n",
       "103        A1CF   hsa-miR-30b-5p\n",
       "104        A1CF   hsa-miR-30a-5p\n",
       "105        A1CF   hsa-miR-30e-5p\n",
       "106        A1CF   hsa-miR-30d-5p"
      ]
     },
     "execution_count": 17,
     "metadata": {},
     "output_type": "execute_result"
    }
   ],
   "source": [
    "df.head(10)"
   ]
  },
  {
   "cell_type": "code",
   "execution_count": 18,
   "metadata": {},
   "outputs": [],
   "source": [
    "df.drop_duplicates(inplace=True)"
   ]
  },
  {
   "cell_type": "code",
   "execution_count": 23,
   "metadata": {},
   "outputs": [
    {
     "data": {
      "text/plain": [
       "(15275658, 2)"
      ]
     },
     "execution_count": 23,
     "metadata": {},
     "output_type": "execute_result"
    }
   ],
   "source": [
    "df.shape"
   ]
  },
  {
   "cell_type": "markdown",
   "metadata": {},
   "source": [
    "## Standardize Gene Symbols"
   ]
  },
  {
   "cell_type": "code",
   "execution_count": 20,
   "metadata": {},
   "outputs": [],
   "source": [
    "df.set_index('Gene Symbol', inplace=True)"
   ]
  },
  {
   "cell_type": "code",
   "execution_count": 21,
   "metadata": {},
   "outputs": [
    {
     "name": "stdout",
     "output_type": "stream",
     "text": [
      "Progress: 99%  15513001 Out of 15513272   \r"
     ]
    }
   ],
   "source": [
    "uf.mapgenesymbols_updated(df)"
   ]
  },
  {
   "cell_type": "markdown",
   "metadata": {},
   "source": [
    "## Drop Duplicates"
   ]
  },
  {
   "cell_type": "code",
   "execution_count": 22,
   "metadata": {},
   "outputs": [],
   "source": [
    "df.reset_index(inplace=True)"
   ]
  },
  {
   "cell_type": "code",
   "execution_count": 24,
   "metadata": {},
   "outputs": [],
   "source": [
    "df.drop_duplicates(inplace=True)"
   ]
  },
  {
   "cell_type": "code",
   "execution_count": 26,
   "metadata": {},
   "outputs": [
    {
     "data": {
      "text/plain": [
       "(15191473, 2)"
      ]
     },
     "execution_count": 26,
     "metadata": {},
     "output_type": "execute_result"
    }
   ],
   "source": [
    "df.shape"
   ]
  },
  {
   "cell_type": "markdown",
   "metadata": {},
   "source": [
    "## Create Binary Matrix"
   ]
  },
  {
   "cell_type": "code",
   "execution_count": 28,
   "metadata": {},
   "outputs": [
    {
     "name": "stdout",
     "output_type": "stream",
     "text": [
      "Progress: 100%  18375 Out of 18375   \r"
     ]
    }
   ],
   "source": [
    "binary_matrix = uf.createBinaryMatrix(df)"
   ]
  },
  {
   "cell_type": "code",
   "execution_count": 29,
   "metadata": {},
   "outputs": [
    {
     "data": {
      "text/html": [
       "<div>\n",
       "<style scoped>\n",
       "    .dataframe tbody tr th:only-of-type {\n",
       "        vertical-align: middle;\n",
       "    }\n",
       "\n",
       "    .dataframe tbody tr th {\n",
       "        vertical-align: top;\n",
       "    }\n",
       "\n",
       "    .dataframe thead th {\n",
       "        text-align: right;\n",
       "    }\n",
       "</style>\n",
       "<table border=\"1\" class=\"dataframe\">\n",
       "  <thead>\n",
       "    <tr style=\"text-align: right;\">\n",
       "      <th></th>\n",
       "      <th>hsa-miR-4298</th>\n",
       "      <th>mmu-miR-6953-5p</th>\n",
       "      <th>hsa-miR-611</th>\n",
       "      <th>mmu-miR-3074-2-3p</th>\n",
       "      <th>mmu-miR-1896</th>\n",
       "      <th>hsa-miR-3658</th>\n",
       "      <th>mmu-miR-291b-3p</th>\n",
       "      <th>mmu-miR-6401</th>\n",
       "      <th>hsa-miR-2115-5p</th>\n",
       "      <th>mmu-miR-1247-3p</th>\n",
       "      <th>...</th>\n",
       "      <th>hsa-miR-4295</th>\n",
       "      <th>hsa-miR-488-3p</th>\n",
       "      <th>mmu-miR-3072-5p</th>\n",
       "      <th>mmu-miR-296-5p</th>\n",
       "      <th>hsa-miR-4508</th>\n",
       "      <th>mmu-miR-6959-5p</th>\n",
       "      <th>hsa-miR-33b-5p</th>\n",
       "      <th>hsa-miR-4637</th>\n",
       "      <th>mmu-miR-7093-3p</th>\n",
       "      <th>mmu-miR-7236-3p</th>\n",
       "    </tr>\n",
       "  </thead>\n",
       "  <tbody>\n",
       "    <tr>\n",
       "      <th>FABP2</th>\n",
       "      <td>0.0</td>\n",
       "      <td>0.0</td>\n",
       "      <td>0.0</td>\n",
       "      <td>0.0</td>\n",
       "      <td>0.0</td>\n",
       "      <td>1.0</td>\n",
       "      <td>0.0</td>\n",
       "      <td>0.0</td>\n",
       "      <td>0.0</td>\n",
       "      <td>0.0</td>\n",
       "      <td>...</td>\n",
       "      <td>0.0</td>\n",
       "      <td>0.0</td>\n",
       "      <td>0.0</td>\n",
       "      <td>0.0</td>\n",
       "      <td>0.0</td>\n",
       "      <td>0.0</td>\n",
       "      <td>0.0</td>\n",
       "      <td>0.0</td>\n",
       "      <td>0.0</td>\n",
       "      <td>0.0</td>\n",
       "    </tr>\n",
       "    <tr>\n",
       "      <th>TRAPPC5</th>\n",
       "      <td>0.0</td>\n",
       "      <td>0.0</td>\n",
       "      <td>0.0</td>\n",
       "      <td>0.0</td>\n",
       "      <td>0.0</td>\n",
       "      <td>0.0</td>\n",
       "      <td>0.0</td>\n",
       "      <td>0.0</td>\n",
       "      <td>0.0</td>\n",
       "      <td>1.0</td>\n",
       "      <td>...</td>\n",
       "      <td>0.0</td>\n",
       "      <td>0.0</td>\n",
       "      <td>0.0</td>\n",
       "      <td>0.0</td>\n",
       "      <td>0.0</td>\n",
       "      <td>0.0</td>\n",
       "      <td>0.0</td>\n",
       "      <td>0.0</td>\n",
       "      <td>0.0</td>\n",
       "      <td>0.0</td>\n",
       "    </tr>\n",
       "    <tr>\n",
       "      <th>FBXW9</th>\n",
       "      <td>0.0</td>\n",
       "      <td>0.0</td>\n",
       "      <td>0.0</td>\n",
       "      <td>0.0</td>\n",
       "      <td>0.0</td>\n",
       "      <td>0.0</td>\n",
       "      <td>0.0</td>\n",
       "      <td>0.0</td>\n",
       "      <td>0.0</td>\n",
       "      <td>0.0</td>\n",
       "      <td>...</td>\n",
       "      <td>0.0</td>\n",
       "      <td>0.0</td>\n",
       "      <td>0.0</td>\n",
       "      <td>1.0</td>\n",
       "      <td>0.0</td>\n",
       "      <td>0.0</td>\n",
       "      <td>0.0</td>\n",
       "      <td>0.0</td>\n",
       "      <td>0.0</td>\n",
       "      <td>0.0</td>\n",
       "    </tr>\n",
       "    <tr>\n",
       "      <th>MT1H</th>\n",
       "      <td>0.0</td>\n",
       "      <td>0.0</td>\n",
       "      <td>0.0</td>\n",
       "      <td>0.0</td>\n",
       "      <td>0.0</td>\n",
       "      <td>0.0</td>\n",
       "      <td>0.0</td>\n",
       "      <td>0.0</td>\n",
       "      <td>0.0</td>\n",
       "      <td>0.0</td>\n",
       "      <td>...</td>\n",
       "      <td>0.0</td>\n",
       "      <td>0.0</td>\n",
       "      <td>0.0</td>\n",
       "      <td>0.0</td>\n",
       "      <td>0.0</td>\n",
       "      <td>0.0</td>\n",
       "      <td>0.0</td>\n",
       "      <td>0.0</td>\n",
       "      <td>0.0</td>\n",
       "      <td>0.0</td>\n",
       "    </tr>\n",
       "    <tr>\n",
       "      <th>DNAH17</th>\n",
       "      <td>1.0</td>\n",
       "      <td>0.0</td>\n",
       "      <td>0.0</td>\n",
       "      <td>0.0</td>\n",
       "      <td>0.0</td>\n",
       "      <td>1.0</td>\n",
       "      <td>0.0</td>\n",
       "      <td>0.0</td>\n",
       "      <td>1.0</td>\n",
       "      <td>1.0</td>\n",
       "      <td>...</td>\n",
       "      <td>0.0</td>\n",
       "      <td>1.0</td>\n",
       "      <td>1.0</td>\n",
       "      <td>0.0</td>\n",
       "      <td>1.0</td>\n",
       "      <td>0.0</td>\n",
       "      <td>0.0</td>\n",
       "      <td>0.0</td>\n",
       "      <td>0.0</td>\n",
       "      <td>0.0</td>\n",
       "    </tr>\n",
       "  </tbody>\n",
       "</table>\n",
       "<p>5 rows × 4543 columns</p>\n",
       "</div>"
      ],
      "text/plain": [
       "         hsa-miR-4298  mmu-miR-6953-5p  hsa-miR-611  mmu-miR-3074-2-3p  \\\n",
       "FABP2             0.0              0.0          0.0                0.0   \n",
       "TRAPPC5           0.0              0.0          0.0                0.0   \n",
       "FBXW9             0.0              0.0          0.0                0.0   \n",
       "MT1H              0.0              0.0          0.0                0.0   \n",
       "DNAH17            1.0              0.0          0.0                0.0   \n",
       "\n",
       "         mmu-miR-1896  hsa-miR-3658  mmu-miR-291b-3p  mmu-miR-6401  \\\n",
       "FABP2             0.0           1.0              0.0           0.0   \n",
       "TRAPPC5           0.0           0.0              0.0           0.0   \n",
       "FBXW9             0.0           0.0              0.0           0.0   \n",
       "MT1H              0.0           0.0              0.0           0.0   \n",
       "DNAH17            0.0           1.0              0.0           0.0   \n",
       "\n",
       "         hsa-miR-2115-5p  mmu-miR-1247-3p       ...         hsa-miR-4295  \\\n",
       "FABP2                0.0              0.0       ...                  0.0   \n",
       "TRAPPC5              0.0              1.0       ...                  0.0   \n",
       "FBXW9                0.0              0.0       ...                  0.0   \n",
       "MT1H                 0.0              0.0       ...                  0.0   \n",
       "DNAH17               1.0              1.0       ...                  0.0   \n",
       "\n",
       "         hsa-miR-488-3p  mmu-miR-3072-5p  mmu-miR-296-5p  hsa-miR-4508  \\\n",
       "FABP2               0.0              0.0             0.0           0.0   \n",
       "TRAPPC5             0.0              0.0             0.0           0.0   \n",
       "FBXW9               0.0              0.0             1.0           0.0   \n",
       "MT1H                0.0              0.0             0.0           0.0   \n",
       "DNAH17              1.0              1.0             0.0           1.0   \n",
       "\n",
       "         mmu-miR-6959-5p  hsa-miR-33b-5p  hsa-miR-4637  mmu-miR-7093-3p  \\\n",
       "FABP2                0.0             0.0           0.0              0.0   \n",
       "TRAPPC5              0.0             0.0           0.0              0.0   \n",
       "FBXW9                0.0             0.0           0.0              0.0   \n",
       "MT1H                 0.0             0.0           0.0              0.0   \n",
       "DNAH17               0.0             0.0           0.0              0.0   \n",
       "\n",
       "         mmu-miR-7236-3p  \n",
       "FABP2                0.0  \n",
       "TRAPPC5              0.0  \n",
       "FBXW9                0.0  \n",
       "MT1H                 0.0  \n",
       "DNAH17               0.0  \n",
       "\n",
       "[5 rows x 4543 columns]"
      ]
     },
     "execution_count": 29,
     "metadata": {},
     "output_type": "execute_result"
    }
   ],
   "source": [
    "binary_matrix.head()"
   ]
  },
  {
   "cell_type": "code",
   "execution_count": 30,
   "metadata": {},
   "outputs": [
    {
     "data": {
      "text/plain": [
       "(18375, 4543)"
      ]
     },
     "execution_count": 30,
     "metadata": {},
     "output_type": "execute_result"
    }
   ],
   "source": [
    "binary_matrix.shape"
   ]
  },
  {
   "cell_type": "code",
   "execution_count": 31,
   "metadata": {},
   "outputs": [],
   "source": [
    "filename = '../../Output/TargetScan/targetscanhuman_binary_matrix_%s.tsv.zip'% str(datetime.date.today())[0:7].replace('-', '_')\n",
    "binary_matrix.to_csv(filename, sep='\\t', compression='gzip')"
   ]
  },
  {
   "cell_type": "markdown",
   "metadata": {},
   "source": [
    "## Create Gene Set Library"
   ]
  },
  {
   "cell_type": "code",
   "execution_count": 32,
   "metadata": {},
   "outputs": [],
   "source": [
    "outpath = \"../../Output/TargetScan\""
   ]
  },
  {
   "cell_type": "code",
   "execution_count": 34,
   "metadata": {},
   "outputs": [],
   "source": [
    "name = 'targetscanhuman_gene_set'"
   ]
  },
  {
   "cell_type": "code",
   "execution_count": 36,
   "metadata": {},
   "outputs": [
    {
     "name": "stdout",
     "output_type": "stream",
     "text": [
      "Progress: 100%  4543 Out of 4543   \r"
     ]
    }
   ],
   "source": [
    "uf.createUpGeneSetLib(binary_matrix, outpath, name)"
   ]
  },
  {
   "cell_type": "markdown",
   "metadata": {},
   "source": [
    "## Create Attribute Library"
   ]
  },
  {
   "cell_type": "code",
   "execution_count": 37,
   "metadata": {},
   "outputs": [],
   "source": [
    "name = 'targetscanhuman_attribute_set'"
   ]
  },
  {
   "cell_type": "code",
   "execution_count": 38,
   "metadata": {},
   "outputs": [
    {
     "name": "stdout",
     "output_type": "stream",
     "text": [
      "Progress: 100%  18375 Out of 18375   \r"
     ]
    }
   ],
   "source": [
    "uf.createUpAttributeSetLib(binary_matrix, outpath, name)"
   ]
  },
  {
   "cell_type": "markdown",
   "metadata": {},
   "source": [
    "## Create Gene Similarity Matrix"
   ]
  },
  {
   "cell_type": "code",
   "execution_count": 39,
   "metadata": {},
   "outputs": [],
   "source": [
    "gene_similarity_matix = uf.createSimilarityMatrix(binary_matrix, 'jaccard')"
   ]
  },
  {
   "cell_type": "code",
   "execution_count": 40,
   "metadata": {},
   "outputs": [
    {
     "data": {
      "text/html": [
       "<div>\n",
       "<style scoped>\n",
       "    .dataframe tbody tr th:only-of-type {\n",
       "        vertical-align: middle;\n",
       "    }\n",
       "\n",
       "    .dataframe tbody tr th {\n",
       "        vertical-align: top;\n",
       "    }\n",
       "\n",
       "    .dataframe thead th {\n",
       "        text-align: right;\n",
       "    }\n",
       "</style>\n",
       "<table border=\"1\" class=\"dataframe\">\n",
       "  <thead>\n",
       "    <tr style=\"text-align: right;\">\n",
       "      <th></th>\n",
       "      <th>FABP2</th>\n",
       "      <th>TRAPPC5</th>\n",
       "      <th>FBXW9</th>\n",
       "      <th>MT1H</th>\n",
       "      <th>DNAH17</th>\n",
       "      <th>JHY</th>\n",
       "      <th>NSMCE2</th>\n",
       "      <th>LYG2</th>\n",
       "      <th>SFI1</th>\n",
       "      <th>TADA2B</th>\n",
       "      <th>...</th>\n",
       "      <th>FAM167A</th>\n",
       "      <th>STOX2</th>\n",
       "      <th>STX5</th>\n",
       "      <th>MPHOSPH10</th>\n",
       "      <th>MGAT5B</th>\n",
       "      <th>PRKCZ</th>\n",
       "      <th>SLC41A1</th>\n",
       "      <th>OR7A17</th>\n",
       "      <th>PDE3B</th>\n",
       "      <th>CSK</th>\n",
       "    </tr>\n",
       "    <tr>\n",
       "      <th></th>\n",
       "      <th></th>\n",
       "      <th></th>\n",
       "      <th></th>\n",
       "      <th></th>\n",
       "      <th></th>\n",
       "      <th></th>\n",
       "      <th></th>\n",
       "      <th></th>\n",
       "      <th></th>\n",
       "      <th></th>\n",
       "      <th></th>\n",
       "      <th></th>\n",
       "      <th></th>\n",
       "      <th></th>\n",
       "      <th></th>\n",
       "      <th></th>\n",
       "      <th></th>\n",
       "      <th></th>\n",
       "      <th></th>\n",
       "      <th></th>\n",
       "      <th></th>\n",
       "    </tr>\n",
       "  </thead>\n",
       "  <tbody>\n",
       "    <tr>\n",
       "      <th>FABP2</th>\n",
       "      <td>1.000000</td>\n",
       "      <td>0.001595</td>\n",
       "      <td>0.015056</td>\n",
       "      <td>0.065097</td>\n",
       "      <td>0.162330</td>\n",
       "      <td>0.045699</td>\n",
       "      <td>0.077934</td>\n",
       "      <td>0.025680</td>\n",
       "      <td>0.098756</td>\n",
       "      <td>0.125633</td>\n",
       "      <td>...</td>\n",
       "      <td>0.113428</td>\n",
       "      <td>0.148023</td>\n",
       "      <td>0.063256</td>\n",
       "      <td>0.014173</td>\n",
       "      <td>0.089385</td>\n",
       "      <td>0.036295</td>\n",
       "      <td>0.101266</td>\n",
       "      <td>0.004862</td>\n",
       "      <td>0.174312</td>\n",
       "      <td>0.026804</td>\n",
       "    </tr>\n",
       "    <tr>\n",
       "      <th>TRAPPC5</th>\n",
       "      <td>0.001595</td>\n",
       "      <td>1.000000</td>\n",
       "      <td>0.008032</td>\n",
       "      <td>0.000000</td>\n",
       "      <td>0.013541</td>\n",
       "      <td>0.000000</td>\n",
       "      <td>0.000000</td>\n",
       "      <td>0.000000</td>\n",
       "      <td>0.010707</td>\n",
       "      <td>0.008485</td>\n",
       "      <td>...</td>\n",
       "      <td>0.008658</td>\n",
       "      <td>0.005654</td>\n",
       "      <td>0.003431</td>\n",
       "      <td>0.000000</td>\n",
       "      <td>0.013145</td>\n",
       "      <td>0.000000</td>\n",
       "      <td>0.009680</td>\n",
       "      <td>0.000000</td>\n",
       "      <td>0.004603</td>\n",
       "      <td>0.006897</td>\n",
       "    </tr>\n",
       "    <tr>\n",
       "      <th>FBXW9</th>\n",
       "      <td>0.015056</td>\n",
       "      <td>0.008032</td>\n",
       "      <td>1.000000</td>\n",
       "      <td>0.020833</td>\n",
       "      <td>0.061354</td>\n",
       "      <td>0.012626</td>\n",
       "      <td>0.036290</td>\n",
       "      <td>0.023729</td>\n",
       "      <td>0.055347</td>\n",
       "      <td>0.050085</td>\n",
       "      <td>...</td>\n",
       "      <td>0.064005</td>\n",
       "      <td>0.045810</td>\n",
       "      <td>0.045020</td>\n",
       "      <td>0.000000</td>\n",
       "      <td>0.076433</td>\n",
       "      <td>0.034404</td>\n",
       "      <td>0.073324</td>\n",
       "      <td>0.000000</td>\n",
       "      <td>0.033244</td>\n",
       "      <td>0.045608</td>\n",
       "    </tr>\n",
       "    <tr>\n",
       "      <th>MT1H</th>\n",
       "      <td>0.065097</td>\n",
       "      <td>0.000000</td>\n",
       "      <td>0.020833</td>\n",
       "      <td>1.000000</td>\n",
       "      <td>0.069191</td>\n",
       "      <td>0.014045</td>\n",
       "      <td>0.045780</td>\n",
       "      <td>0.003831</td>\n",
       "      <td>0.067913</td>\n",
       "      <td>0.050029</td>\n",
       "      <td>...</td>\n",
       "      <td>0.049763</td>\n",
       "      <td>0.038279</td>\n",
       "      <td>0.056769</td>\n",
       "      <td>0.004425</td>\n",
       "      <td>0.053456</td>\n",
       "      <td>0.059278</td>\n",
       "      <td>0.053483</td>\n",
       "      <td>0.015000</td>\n",
       "      <td>0.050083</td>\n",
       "      <td>0.026596</td>\n",
       "    </tr>\n",
       "    <tr>\n",
       "      <th>DNAH17</th>\n",
       "      <td>0.162330</td>\n",
       "      <td>0.013541</td>\n",
       "      <td>0.061354</td>\n",
       "      <td>0.069191</td>\n",
       "      <td>1.000000</td>\n",
       "      <td>0.034548</td>\n",
       "      <td>0.133146</td>\n",
       "      <td>0.014417</td>\n",
       "      <td>0.184316</td>\n",
       "      <td>0.250405</td>\n",
       "      <td>...</td>\n",
       "      <td>0.233562</td>\n",
       "      <td>0.279647</td>\n",
       "      <td>0.118399</td>\n",
       "      <td>0.004648</td>\n",
       "      <td>0.218766</td>\n",
       "      <td>0.055348</td>\n",
       "      <td>0.240749</td>\n",
       "      <td>0.009492</td>\n",
       "      <td>0.248721</td>\n",
       "      <td>0.083672</td>\n",
       "    </tr>\n",
       "  </tbody>\n",
       "</table>\n",
       "<p>5 rows × 18375 columns</p>\n",
       "</div>"
      ],
      "text/plain": [
       "            FABP2   TRAPPC5     FBXW9      MT1H    DNAH17       JHY    NSMCE2  \\\n",
       "                                                                                \n",
       "FABP2    1.000000  0.001595  0.015056  0.065097  0.162330  0.045699  0.077934   \n",
       "TRAPPC5  0.001595  1.000000  0.008032  0.000000  0.013541  0.000000  0.000000   \n",
       "FBXW9    0.015056  0.008032  1.000000  0.020833  0.061354  0.012626  0.036290   \n",
       "MT1H     0.065097  0.000000  0.020833  1.000000  0.069191  0.014045  0.045780   \n",
       "DNAH17   0.162330  0.013541  0.061354  0.069191  1.000000  0.034548  0.133146   \n",
       "\n",
       "             LYG2      SFI1    TADA2B    ...      FAM167A     STOX2      STX5  \\\n",
       "                                         ...                                    \n",
       "FABP2    0.025680  0.098756  0.125633    ...     0.113428  0.148023  0.063256   \n",
       "TRAPPC5  0.000000  0.010707  0.008485    ...     0.008658  0.005654  0.003431   \n",
       "FBXW9    0.023729  0.055347  0.050085    ...     0.064005  0.045810  0.045020   \n",
       "MT1H     0.003831  0.067913  0.050029    ...     0.049763  0.038279  0.056769   \n",
       "DNAH17   0.014417  0.184316  0.250405    ...     0.233562  0.279647  0.118399   \n",
       "\n",
       "         MPHOSPH10    MGAT5B     PRKCZ   SLC41A1    OR7A17     PDE3B       CSK  \n",
       "                                                                                \n",
       "FABP2     0.014173  0.089385  0.036295  0.101266  0.004862  0.174312  0.026804  \n",
       "TRAPPC5   0.000000  0.013145  0.000000  0.009680  0.000000  0.004603  0.006897  \n",
       "FBXW9     0.000000  0.076433  0.034404  0.073324  0.000000  0.033244  0.045608  \n",
       "MT1H      0.004425  0.053456  0.059278  0.053483  0.015000  0.050083  0.026596  \n",
       "DNAH17    0.004648  0.218766  0.055348  0.240749  0.009492  0.248721  0.083672  \n",
       "\n",
       "[5 rows x 18375 columns]"
      ]
     },
     "execution_count": 40,
     "metadata": {},
     "output_type": "execute_result"
    }
   ],
   "source": [
    "gene_similarity_matix.head()"
   ]
  },
  {
   "cell_type": "code",
   "execution_count": 41,
   "metadata": {},
   "outputs": [],
   "source": [
    "filename = outpath+'/targetscanhuman_gene_similarity_matix_%s.tsv.zip'% str(datetime.date.today())[0:7].replace('-', '_')\n",
    "gene_similarity_matix.to_csv(filename, sep='\\t', compression='gzip')"
   ]
  },
  {
   "cell_type": "markdown",
   "metadata": {},
   "source": [
    "## Create Attribute Similarity matrix"
   ]
  },
  {
   "cell_type": "code",
   "execution_count": 42,
   "metadata": {},
   "outputs": [],
   "source": [
    "attribute_similarity_matix = uf.createSimilarityMatrix(binary_matrix.T, 'jaccard')"
   ]
  },
  {
   "cell_type": "code",
   "execution_count": 43,
   "metadata": {},
   "outputs": [
    {
     "data": {
      "text/html": [
       "<div>\n",
       "<style scoped>\n",
       "    .dataframe tbody tr th:only-of-type {\n",
       "        vertical-align: middle;\n",
       "    }\n",
       "\n",
       "    .dataframe tbody tr th {\n",
       "        vertical-align: top;\n",
       "    }\n",
       "\n",
       "    .dataframe thead th {\n",
       "        text-align: right;\n",
       "    }\n",
       "</style>\n",
       "<table border=\"1\" class=\"dataframe\">\n",
       "  <thead>\n",
       "    <tr style=\"text-align: right;\">\n",
       "      <th></th>\n",
       "      <th>hsa-miR-4298</th>\n",
       "      <th>mmu-miR-6953-5p</th>\n",
       "      <th>hsa-miR-611</th>\n",
       "      <th>mmu-miR-3074-2-3p</th>\n",
       "      <th>mmu-miR-1896</th>\n",
       "      <th>hsa-miR-3658</th>\n",
       "      <th>mmu-miR-291b-3p</th>\n",
       "      <th>mmu-miR-6401</th>\n",
       "      <th>hsa-miR-2115-5p</th>\n",
       "      <th>mmu-miR-1247-3p</th>\n",
       "      <th>...</th>\n",
       "      <th>hsa-miR-4295</th>\n",
       "      <th>hsa-miR-488-3p</th>\n",
       "      <th>mmu-miR-3072-5p</th>\n",
       "      <th>mmu-miR-296-5p</th>\n",
       "      <th>hsa-miR-4508</th>\n",
       "      <th>mmu-miR-6959-5p</th>\n",
       "      <th>hsa-miR-33b-5p</th>\n",
       "      <th>hsa-miR-4637</th>\n",
       "      <th>mmu-miR-7093-3p</th>\n",
       "      <th>mmu-miR-7236-3p</th>\n",
       "    </tr>\n",
       "    <tr>\n",
       "      <th></th>\n",
       "      <th></th>\n",
       "      <th></th>\n",
       "      <th></th>\n",
       "      <th></th>\n",
       "      <th></th>\n",
       "      <th></th>\n",
       "      <th></th>\n",
       "      <th></th>\n",
       "      <th></th>\n",
       "      <th></th>\n",
       "      <th></th>\n",
       "      <th></th>\n",
       "      <th></th>\n",
       "      <th></th>\n",
       "      <th></th>\n",
       "      <th></th>\n",
       "      <th></th>\n",
       "      <th></th>\n",
       "      <th></th>\n",
       "      <th></th>\n",
       "      <th></th>\n",
       "    </tr>\n",
       "  </thead>\n",
       "  <tbody>\n",
       "    <tr>\n",
       "      <th>hsa-miR-4298</th>\n",
       "      <td>1.000000</td>\n",
       "      <td>0.171940</td>\n",
       "      <td>0.071410</td>\n",
       "      <td>0.160169</td>\n",
       "      <td>0.198211</td>\n",
       "      <td>0.206430</td>\n",
       "      <td>0.145427</td>\n",
       "      <td>0.141212</td>\n",
       "      <td>0.211495</td>\n",
       "      <td>0.142768</td>\n",
       "      <td>...</td>\n",
       "      <td>0.184932</td>\n",
       "      <td>0.208005</td>\n",
       "      <td>0.158399</td>\n",
       "      <td>0.137800</td>\n",
       "      <td>0.113821</td>\n",
       "      <td>0.193702</td>\n",
       "      <td>0.185986</td>\n",
       "      <td>0.134868</td>\n",
       "      <td>0.175377</td>\n",
       "      <td>0.075914</td>\n",
       "    </tr>\n",
       "    <tr>\n",
       "      <th>mmu-miR-6953-5p</th>\n",
       "      <td>0.171940</td>\n",
       "      <td>1.000000</td>\n",
       "      <td>0.067615</td>\n",
       "      <td>0.144708</td>\n",
       "      <td>0.187177</td>\n",
       "      <td>0.148363</td>\n",
       "      <td>0.144886</td>\n",
       "      <td>0.121739</td>\n",
       "      <td>0.168223</td>\n",
       "      <td>0.146718</td>\n",
       "      <td>...</td>\n",
       "      <td>0.141246</td>\n",
       "      <td>0.158027</td>\n",
       "      <td>0.158440</td>\n",
       "      <td>0.173222</td>\n",
       "      <td>0.117306</td>\n",
       "      <td>0.179307</td>\n",
       "      <td>0.139625</td>\n",
       "      <td>0.093471</td>\n",
       "      <td>0.164676</td>\n",
       "      <td>0.077135</td>\n",
       "    </tr>\n",
       "    <tr>\n",
       "      <th>hsa-miR-611</th>\n",
       "      <td>0.071410</td>\n",
       "      <td>0.067615</td>\n",
       "      <td>1.000000</td>\n",
       "      <td>0.052809</td>\n",
       "      <td>0.064824</td>\n",
       "      <td>0.052476</td>\n",
       "      <td>0.052695</td>\n",
       "      <td>0.044940</td>\n",
       "      <td>0.069379</td>\n",
       "      <td>0.058053</td>\n",
       "      <td>...</td>\n",
       "      <td>0.056794</td>\n",
       "      <td>0.058701</td>\n",
       "      <td>0.075596</td>\n",
       "      <td>0.073551</td>\n",
       "      <td>0.077830</td>\n",
       "      <td>0.065951</td>\n",
       "      <td>0.056696</td>\n",
       "      <td>0.044051</td>\n",
       "      <td>0.055376</td>\n",
       "      <td>0.047733</td>\n",
       "    </tr>\n",
       "    <tr>\n",
       "      <th>mmu-miR-3074-2-3p</th>\n",
       "      <td>0.160169</td>\n",
       "      <td>0.144708</td>\n",
       "      <td>0.052809</td>\n",
       "      <td>1.000000</td>\n",
       "      <td>0.221541</td>\n",
       "      <td>0.245942</td>\n",
       "      <td>0.187062</td>\n",
       "      <td>0.187593</td>\n",
       "      <td>0.186076</td>\n",
       "      <td>0.147437</td>\n",
       "      <td>...</td>\n",
       "      <td>0.185998</td>\n",
       "      <td>0.221582</td>\n",
       "      <td>0.126413</td>\n",
       "      <td>0.100103</td>\n",
       "      <td>0.070282</td>\n",
       "      <td>0.214911</td>\n",
       "      <td>0.208782</td>\n",
       "      <td>0.160187</td>\n",
       "      <td>0.220678</td>\n",
       "      <td>0.083162</td>\n",
       "    </tr>\n",
       "    <tr>\n",
       "      <th>mmu-miR-1896</th>\n",
       "      <td>0.198211</td>\n",
       "      <td>0.187177</td>\n",
       "      <td>0.064824</td>\n",
       "      <td>0.221541</td>\n",
       "      <td>1.000000</td>\n",
       "      <td>0.262511</td>\n",
       "      <td>0.191776</td>\n",
       "      <td>0.187143</td>\n",
       "      <td>0.237700</td>\n",
       "      <td>0.174196</td>\n",
       "      <td>...</td>\n",
       "      <td>0.200212</td>\n",
       "      <td>0.254023</td>\n",
       "      <td>0.160360</td>\n",
       "      <td>0.152143</td>\n",
       "      <td>0.095481</td>\n",
       "      <td>0.244849</td>\n",
       "      <td>0.227002</td>\n",
       "      <td>0.154418</td>\n",
       "      <td>0.248340</td>\n",
       "      <td>0.088485</td>\n",
       "    </tr>\n",
       "  </tbody>\n",
       "</table>\n",
       "<p>5 rows × 4543 columns</p>\n",
       "</div>"
      ],
      "text/plain": [
       "                   hsa-miR-4298  mmu-miR-6953-5p  hsa-miR-611  \\\n",
       "                                                                \n",
       "hsa-miR-4298           1.000000         0.171940     0.071410   \n",
       "mmu-miR-6953-5p        0.171940         1.000000     0.067615   \n",
       "hsa-miR-611            0.071410         0.067615     1.000000   \n",
       "mmu-miR-3074-2-3p      0.160169         0.144708     0.052809   \n",
       "mmu-miR-1896           0.198211         0.187177     0.064824   \n",
       "\n",
       "                   mmu-miR-3074-2-3p  mmu-miR-1896  hsa-miR-3658  \\\n",
       "                                                                   \n",
       "hsa-miR-4298                0.160169      0.198211      0.206430   \n",
       "mmu-miR-6953-5p             0.144708      0.187177      0.148363   \n",
       "hsa-miR-611                 0.052809      0.064824      0.052476   \n",
       "mmu-miR-3074-2-3p           1.000000      0.221541      0.245942   \n",
       "mmu-miR-1896                0.221541      1.000000      0.262511   \n",
       "\n",
       "                   mmu-miR-291b-3p  mmu-miR-6401  hsa-miR-2115-5p  \\\n",
       "                                                                    \n",
       "hsa-miR-4298              0.145427      0.141212         0.211495   \n",
       "mmu-miR-6953-5p           0.144886      0.121739         0.168223   \n",
       "hsa-miR-611               0.052695      0.044940         0.069379   \n",
       "mmu-miR-3074-2-3p         0.187062      0.187593         0.186076   \n",
       "mmu-miR-1896              0.191776      0.187143         0.237700   \n",
       "\n",
       "                   mmu-miR-1247-3p       ...         hsa-miR-4295  \\\n",
       "                                         ...                        \n",
       "hsa-miR-4298              0.142768       ...             0.184932   \n",
       "mmu-miR-6953-5p           0.146718       ...             0.141246   \n",
       "hsa-miR-611               0.058053       ...             0.056794   \n",
       "mmu-miR-3074-2-3p         0.147437       ...             0.185998   \n",
       "mmu-miR-1896              0.174196       ...             0.200212   \n",
       "\n",
       "                   hsa-miR-488-3p  mmu-miR-3072-5p  mmu-miR-296-5p  \\\n",
       "                                                                     \n",
       "hsa-miR-4298             0.208005         0.158399        0.137800   \n",
       "mmu-miR-6953-5p          0.158027         0.158440        0.173222   \n",
       "hsa-miR-611              0.058701         0.075596        0.073551   \n",
       "mmu-miR-3074-2-3p        0.221582         0.126413        0.100103   \n",
       "mmu-miR-1896             0.254023         0.160360        0.152143   \n",
       "\n",
       "                   hsa-miR-4508  mmu-miR-6959-5p  hsa-miR-33b-5p  \\\n",
       "                                                                   \n",
       "hsa-miR-4298           0.113821         0.193702        0.185986   \n",
       "mmu-miR-6953-5p        0.117306         0.179307        0.139625   \n",
       "hsa-miR-611            0.077830         0.065951        0.056696   \n",
       "mmu-miR-3074-2-3p      0.070282         0.214911        0.208782   \n",
       "mmu-miR-1896           0.095481         0.244849        0.227002   \n",
       "\n",
       "                   hsa-miR-4637  mmu-miR-7093-3p  mmu-miR-7236-3p  \n",
       "                                                                   \n",
       "hsa-miR-4298           0.134868         0.175377         0.075914  \n",
       "mmu-miR-6953-5p        0.093471         0.164676         0.077135  \n",
       "hsa-miR-611            0.044051         0.055376         0.047733  \n",
       "mmu-miR-3074-2-3p      0.160187         0.220678         0.083162  \n",
       "mmu-miR-1896           0.154418         0.248340         0.088485  \n",
       "\n",
       "[5 rows x 4543 columns]"
      ]
     },
     "execution_count": 43,
     "metadata": {},
     "output_type": "execute_result"
    }
   ],
   "source": [
    "attribute_similarity_matix.head()"
   ]
  },
  {
   "cell_type": "code",
   "execution_count": 45,
   "metadata": {},
   "outputs": [],
   "source": [
    "filename = outpath+'/targetscanhuman_attribute_similarity_matix_%s.tsv.zip'% str(datetime.date.today())[0:7].replace('-', '_')\n",
    "attribute_similarity_matix.to_csv(filename, sep='\\t', compression='gzip')"
   ]
  },
  {
   "cell_type": "markdown",
   "metadata": {},
   "source": [
    "## Create Gene List"
   ]
  },
  {
   "cell_type": "code",
   "execution_count": 46,
   "metadata": {},
   "outputs": [
    {
     "name": "stdout",
     "output_type": "stream",
     "text": [
      "Progress: 100%  18375 Out of 18375   \r"
     ]
    }
   ],
   "source": [
    "gene_list = uf.createGeneList_updated(binary_matrix)"
   ]
  },
  {
   "cell_type": "code",
   "execution_count": 47,
   "metadata": {},
   "outputs": [
    {
     "data": {
      "text/html": [
       "<div>\n",
       "<style scoped>\n",
       "    .dataframe tbody tr th:only-of-type {\n",
       "        vertical-align: middle;\n",
       "    }\n",
       "\n",
       "    .dataframe tbody tr th {\n",
       "        vertical-align: top;\n",
       "    }\n",
       "\n",
       "    .dataframe thead th {\n",
       "        text-align: right;\n",
       "    }\n",
       "</style>\n",
       "<table border=\"1\" class=\"dataframe\">\n",
       "  <thead>\n",
       "    <tr style=\"text-align: right;\">\n",
       "      <th></th>\n",
       "      <th>GeneSym</th>\n",
       "      <th>GeneID</th>\n",
       "    </tr>\n",
       "  </thead>\n",
       "  <tbody>\n",
       "    <tr>\n",
       "      <th>0</th>\n",
       "      <td>FABP2</td>\n",
       "      <td>2169</td>\n",
       "    </tr>\n",
       "    <tr>\n",
       "      <th>1</th>\n",
       "      <td>TRAPPC5</td>\n",
       "      <td>126003</td>\n",
       "    </tr>\n",
       "    <tr>\n",
       "      <th>2</th>\n",
       "      <td>FBXW9</td>\n",
       "      <td>84261</td>\n",
       "    </tr>\n",
       "    <tr>\n",
       "      <th>3</th>\n",
       "      <td>MT1H</td>\n",
       "      <td>4496</td>\n",
       "    </tr>\n",
       "    <tr>\n",
       "      <th>4</th>\n",
       "      <td>DNAH17</td>\n",
       "      <td>8632</td>\n",
       "    </tr>\n",
       "  </tbody>\n",
       "</table>\n",
       "</div>"
      ],
      "text/plain": [
       "   GeneSym  GeneID\n",
       "0    FABP2    2169\n",
       "1  TRAPPC5  126003\n",
       "2    FBXW9   84261\n",
       "3     MT1H    4496\n",
       "4   DNAH17    8632"
      ]
     },
     "execution_count": 47,
     "metadata": {},
     "output_type": "execute_result"
    }
   ],
   "source": [
    "gene_list.head()"
   ]
  },
  {
   "cell_type": "code",
   "execution_count": 48,
   "metadata": {},
   "outputs": [
    {
     "data": {
      "text/plain": [
       "(18375, 2)"
      ]
     },
     "execution_count": 48,
     "metadata": {},
     "output_type": "execute_result"
    }
   ],
   "source": [
    "gene_list.shape"
   ]
  },
  {
   "cell_type": "code",
   "execution_count": 49,
   "metadata": {},
   "outputs": [],
   "source": [
    "filename = outpath + '/targetscanhuman_gene_list_%s.tsv.zip'% str(datetime.date.today())[0:7].replace('-', '_')\n",
    "gene_list.to_csv(filename, sep='\\t', index=False, compression='gzip')"
   ]
  },
  {
   "cell_type": "markdown",
   "metadata": {},
   "source": [
    "## Create Attribute List"
   ]
  },
  {
   "cell_type": "code",
   "execution_count": 50,
   "metadata": {},
   "outputs": [],
   "source": [
    "attribute_list = uf.createAttributeList(binary_matrix)"
   ]
  },
  {
   "cell_type": "code",
   "execution_count": 51,
   "metadata": {},
   "outputs": [
    {
     "data": {
      "text/html": [
       "<div>\n",
       "<style scoped>\n",
       "    .dataframe tbody tr th:only-of-type {\n",
       "        vertical-align: middle;\n",
       "    }\n",
       "\n",
       "    .dataframe tbody tr th {\n",
       "        vertical-align: top;\n",
       "    }\n",
       "\n",
       "    .dataframe thead th {\n",
       "        text-align: right;\n",
       "    }\n",
       "</style>\n",
       "<table border=\"1\" class=\"dataframe\">\n",
       "  <thead>\n",
       "    <tr style=\"text-align: right;\">\n",
       "      <th></th>\n",
       "    </tr>\n",
       "    <tr>\n",
       "      <th>Attributes</th>\n",
       "    </tr>\n",
       "  </thead>\n",
       "  <tbody>\n",
       "    <tr>\n",
       "      <th>hsa-miR-4298</th>\n",
       "    </tr>\n",
       "    <tr>\n",
       "      <th>mmu-miR-6953-5p</th>\n",
       "    </tr>\n",
       "    <tr>\n",
       "      <th>hsa-miR-611</th>\n",
       "    </tr>\n",
       "    <tr>\n",
       "      <th>mmu-miR-3074-2-3p</th>\n",
       "    </tr>\n",
       "    <tr>\n",
       "      <th>mmu-miR-1896</th>\n",
       "    </tr>\n",
       "  </tbody>\n",
       "</table>\n",
       "</div>"
      ],
      "text/plain": [
       "Empty DataFrame\n",
       "Columns: []\n",
       "Index: [hsa-miR-4298, mmu-miR-6953-5p, hsa-miR-611, mmu-miR-3074-2-3p, mmu-miR-1896]"
      ]
     },
     "execution_count": 51,
     "metadata": {},
     "output_type": "execute_result"
    }
   ],
   "source": [
    "attribute_list.head()"
   ]
  },
  {
   "cell_type": "code",
   "execution_count": 52,
   "metadata": {},
   "outputs": [
    {
     "data": {
      "text/plain": [
       "(4543, 0)"
      ]
     },
     "execution_count": 52,
     "metadata": {},
     "output_type": "execute_result"
    }
   ],
   "source": [
    "attribute_list.shape"
   ]
  },
  {
   "cell_type": "code",
   "execution_count": 53,
   "metadata": {},
   "outputs": [],
   "source": [
    "filename = outpath + '/targetscanhuman_attribute_list_%s.tsv.zip'% str(datetime.date.today())[0:7].replace('-', '_')\n",
    "attribute_list.to_csv(filename, sep='\\t', index=False, compression='gzip')"
   ]
  },
  {
   "cell_type": "markdown",
   "metadata": {},
   "source": [
    "## Create Gene-Attribute Edge List"
   ]
  },
  {
   "cell_type": "code",
   "execution_count": 54,
   "metadata": {},
   "outputs": [],
   "source": [
    "name = 'targetscanhuman_gene_attribute_edge_list'"
   ]
  },
  {
   "cell_type": "code",
   "execution_count": 57,
   "metadata": {},
   "outputs": [
    {
     "name": "stdout",
     "output_type": "stream",
     "text": [
      "Progress: 100%  4543 Out of 4543   \n",
      "\n",
      " The number of statisticaly relevent gene-attribute associations is: 15191473\n"
     ]
    }
   ],
   "source": [
    "uf.createGeneAttributeEdgeList(binary_matrix, attribute_list, gene_list, outpath, name)"
   ]
  },
  {
   "cell_type": "code",
   "execution_count": null,
   "metadata": {},
   "outputs": [],
   "source": []
  }
 ],
 "metadata": {
  "kernelspec": {
   "display_name": "pvenv",
   "language": "python",
   "name": "pvenv"
  },
  "language_info": {
   "codemirror_mode": {
    "name": "ipython",
    "version": 3
   },
   "file_extension": ".py",
   "mimetype": "text/x-python",
   "name": "python",
   "nbconvert_exporter": "python",
   "pygments_lexer": "ipython3",
   "version": "3.6.5"
  }
 },
 "nbformat": 4,
 "nbformat_minor": 2
}
