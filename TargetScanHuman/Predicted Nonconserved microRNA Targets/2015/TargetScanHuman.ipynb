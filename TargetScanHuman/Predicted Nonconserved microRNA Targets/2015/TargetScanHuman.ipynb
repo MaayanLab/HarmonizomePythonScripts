{
 "cells": [
  {
   "cell_type": "markdown",
   "metadata": {},
   "source": [
    "# TargetScanHuman"
   ]
  },
  {
   "cell_type": "markdown",
   "metadata": {},
   "source": [
    "Author: Moshe Silverstein <br/>\n",
    "Date: 11-17 <br/>\n",
    "Data Source: http://www.targetscan.org/vert_61/"
   ]
  },
  {
   "cell_type": "code",
   "execution_count": 1,
   "metadata": {
    "collapsed": true
   },
   "outputs": [],
   "source": [
    "import sys, datetime, os\n",
    "import numpy as np\n",
    "import pandas as pd\n",
    "import importlib\n",
    "import untility_functions as uf\n",
    "%matplotlib inline"
   ]
  },
  {
   "cell_type": "code",
   "execution_count": 2,
   "metadata": {},
   "outputs": [
    {
     "data": {
      "text/plain": [
       "<module 'untility_functions' from '/Users/moshesilverstein/Documents/Harmonizome/TargetScanHuman/untility_functions.py'>"
      ]
     },
     "execution_count": 2,
     "metadata": {},
     "output_type": "execute_result"
    }
   ],
   "source": [
    "importlib.reload(uf)"
   ]
  },
  {
   "cell_type": "markdown",
   "metadata": {},
   "source": [
    "# Load Data"
   ]
  },
  {
   "cell_type": "code",
   "execution_count": 11,
   "metadata": {
    "collapsed": true
   },
   "outputs": [],
   "source": [
    "conserved = pd.read_csv('Input/Conserved_Site_Context_Scores.txt', sep=\"\\t\")"
   ]
  },
  {
   "cell_type": "code",
   "execution_count": 12,
   "metadata": {},
   "outputs": [
    {
     "data": {
      "text/html": [
       "<div>\n",
       "<table border=\"1\" class=\"dataframe\">\n",
       "  <thead>\n",
       "    <tr style=\"text-align: right;\">\n",
       "      <th></th>\n",
       "      <th>Gene ID</th>\n",
       "      <th>Gene Symbol</th>\n",
       "      <th>Transcript ID</th>\n",
       "      <th>Gene Tax ID</th>\n",
       "      <th>miRNA</th>\n",
       "      <th>Site Type</th>\n",
       "      <th>UTR_start</th>\n",
       "      <th>UTR end</th>\n",
       "      <th>3prime pairing</th>\n",
       "      <th>local AU</th>\n",
       "      <th>position</th>\n",
       "      <th>TA</th>\n",
       "      <th>SPS</th>\n",
       "      <th>context+ score</th>\n",
       "      <th>context+ score percentile</th>\n",
       "    </tr>\n",
       "  </thead>\n",
       "  <tbody>\n",
       "    <tr>\n",
       "      <th>0</th>\n",
       "      <td>29974</td>\n",
       "      <td>A1CF</td>\n",
       "      <td>NM_001198819</td>\n",
       "      <td>8364</td>\n",
       "      <td>xtr-miR-200b</td>\n",
       "      <td>3</td>\n",
       "      <td>167</td>\n",
       "      <td>174</td>\n",
       "      <td>0.003</td>\n",
       "      <td>0.048</td>\n",
       "      <td>-0.101</td>\n",
       "      <td>0.023</td>\n",
       "      <td>0.096</td>\n",
       "      <td>-0.178</td>\n",
       "      <td>79.0</td>\n",
       "    </tr>\n",
       "    <tr>\n",
       "      <th>1</th>\n",
       "      <td>29974</td>\n",
       "      <td>A1CF</td>\n",
       "      <td>NM_001198820</td>\n",
       "      <td>8364</td>\n",
       "      <td>xtr-miR-429</td>\n",
       "      <td>3</td>\n",
       "      <td>167</td>\n",
       "      <td>174</td>\n",
       "      <td>0.003</td>\n",
       "      <td>0.048</td>\n",
       "      <td>-0.101</td>\n",
       "      <td>0.023</td>\n",
       "      <td>0.096</td>\n",
       "      <td>-0.178</td>\n",
       "      <td>79.0</td>\n",
       "    </tr>\n",
       "    <tr>\n",
       "      <th>2</th>\n",
       "      <td>29974</td>\n",
       "      <td>A1CF</td>\n",
       "      <td>NM_001198818</td>\n",
       "      <td>8364</td>\n",
       "      <td>xtr-miR-429</td>\n",
       "      <td>3</td>\n",
       "      <td>167</td>\n",
       "      <td>174</td>\n",
       "      <td>0.003</td>\n",
       "      <td>0.048</td>\n",
       "      <td>-0.101</td>\n",
       "      <td>0.023</td>\n",
       "      <td>0.096</td>\n",
       "      <td>-0.178</td>\n",
       "      <td>79.0</td>\n",
       "    </tr>\n",
       "    <tr>\n",
       "      <th>3</th>\n",
       "      <td>29974</td>\n",
       "      <td>A1CF</td>\n",
       "      <td>NM_001198820</td>\n",
       "      <td>8364</td>\n",
       "      <td>xtr-miR-200b</td>\n",
       "      <td>3</td>\n",
       "      <td>167</td>\n",
       "      <td>174</td>\n",
       "      <td>0.003</td>\n",
       "      <td>0.048</td>\n",
       "      <td>-0.101</td>\n",
       "      <td>0.023</td>\n",
       "      <td>0.096</td>\n",
       "      <td>-0.178</td>\n",
       "      <td>79.0</td>\n",
       "    </tr>\n",
       "    <tr>\n",
       "      <th>4</th>\n",
       "      <td>29974</td>\n",
       "      <td>A1CF</td>\n",
       "      <td>NM_001198819</td>\n",
       "      <td>8364</td>\n",
       "      <td>xtr-miR-429</td>\n",
       "      <td>3</td>\n",
       "      <td>167</td>\n",
       "      <td>174</td>\n",
       "      <td>0.003</td>\n",
       "      <td>0.048</td>\n",
       "      <td>-0.101</td>\n",
       "      <td>0.023</td>\n",
       "      <td>0.096</td>\n",
       "      <td>-0.178</td>\n",
       "      <td>79.0</td>\n",
       "    </tr>\n",
       "  </tbody>\n",
       "</table>\n",
       "</div>"
      ],
      "text/plain": [
       "   Gene ID Gene Symbol Transcript ID  Gene Tax ID         miRNA  Site Type  \\\n",
       "0    29974        A1CF  NM_001198819         8364  xtr-miR-200b          3   \n",
       "1    29974        A1CF  NM_001198820         8364   xtr-miR-429          3   \n",
       "2    29974        A1CF  NM_001198818         8364   xtr-miR-429          3   \n",
       "3    29974        A1CF  NM_001198820         8364  xtr-miR-200b          3   \n",
       "4    29974        A1CF  NM_001198819         8364   xtr-miR-429          3   \n",
       "\n",
       "   UTR_start  UTR end  3prime pairing  local AU  position     TA    SPS  \\\n",
       "0        167      174           0.003     0.048    -0.101  0.023  0.096   \n",
       "1        167      174           0.003     0.048    -0.101  0.023  0.096   \n",
       "2        167      174           0.003     0.048    -0.101  0.023  0.096   \n",
       "3        167      174           0.003     0.048    -0.101  0.023  0.096   \n",
       "4        167      174           0.003     0.048    -0.101  0.023  0.096   \n",
       "\n",
       "   context+ score  context+ score percentile  \n",
       "0          -0.178                       79.0  \n",
       "1          -0.178                       79.0  \n",
       "2          -0.178                       79.0  \n",
       "3          -0.178                       79.0  \n",
       "4          -0.178                       79.0  "
      ]
     },
     "execution_count": 12,
     "metadata": {},
     "output_type": "execute_result"
    }
   ],
   "source": [
    "conserved.head()"
   ]
  },
  {
   "cell_type": "code",
   "execution_count": 13,
   "metadata": {},
   "outputs": [
    {
     "data": {
      "text/plain": [
       "(4056351, 15)"
      ]
     },
     "execution_count": 13,
     "metadata": {},
     "output_type": "execute_result"
    }
   ],
   "source": [
    "conserved.shape"
   ]
  },
  {
   "cell_type": "code",
   "execution_count": 14,
   "metadata": {
    "collapsed": true
   },
   "outputs": [],
   "source": [
    "nonconserved = pd.read_csv('Input/Nonconserved_Site_Context_Scores.txt', sep=\"\\t\")"
   ]
  },
  {
   "cell_type": "code",
   "execution_count": 15,
   "metadata": {},
   "outputs": [
    {
     "data": {
      "text/html": [
       "<div>\n",
       "<table border=\"1\" class=\"dataframe\">\n",
       "  <thead>\n",
       "    <tr style=\"text-align: right;\">\n",
       "      <th></th>\n",
       "      <th>Gene ID</th>\n",
       "      <th>Gene Symbol</th>\n",
       "      <th>Transcript ID</th>\n",
       "      <th>Gene Tax ID</th>\n",
       "      <th>miRNA</th>\n",
       "      <th>Site Type</th>\n",
       "      <th>UTR_start</th>\n",
       "      <th>UTR end</th>\n",
       "      <th>3prime pairing</th>\n",
       "      <th>local AU</th>\n",
       "      <th>position</th>\n",
       "      <th>TA</th>\n",
       "      <th>SPS</th>\n",
       "      <th>context+ score</th>\n",
       "      <th>context+ score percentile</th>\n",
       "    </tr>\n",
       "  </thead>\n",
       "  <tbody>\n",
       "    <tr>\n",
       "      <th>0</th>\n",
       "      <td>1</td>\n",
       "      <td>A1BG</td>\n",
       "      <td>NM_130786</td>\n",
       "      <td>9598</td>\n",
       "      <td>ptr-miR-1197</td>\n",
       "      <td>2</td>\n",
       "      <td>28</td>\n",
       "      <td>34</td>\n",
       "      <td>0.012</td>\n",
       "      <td>0.071</td>\n",
       "      <td>-0.058</td>\n",
       "      <td>0.000</td>\n",
       "      <td>-0.037</td>\n",
       "      <td>-0.132</td>\n",
       "      <td>61.0</td>\n",
       "    </tr>\n",
       "    <tr>\n",
       "      <th>1</th>\n",
       "      <td>1</td>\n",
       "      <td>A1BG</td>\n",
       "      <td>NM_130786</td>\n",
       "      <td>9598</td>\n",
       "      <td>ptr-miR-1224-5p</td>\n",
       "      <td>2</td>\n",
       "      <td>30</td>\n",
       "      <td>36</td>\n",
       "      <td>0.003</td>\n",
       "      <td>0.043</td>\n",
       "      <td>-0.058</td>\n",
       "      <td>0.001</td>\n",
       "      <td>-0.039</td>\n",
       "      <td>-0.170</td>\n",
       "      <td>79.0</td>\n",
       "    </tr>\n",
       "    <tr>\n",
       "      <th>2</th>\n",
       "      <td>1</td>\n",
       "      <td>A1BG</td>\n",
       "      <td>NM_130786</td>\n",
       "      <td>9598</td>\n",
       "      <td>ptr-miR-198</td>\n",
       "      <td>2</td>\n",
       "      <td>51</td>\n",
       "      <td>57</td>\n",
       "      <td>0.030</td>\n",
       "      <td>0.045</td>\n",
       "      <td>-0.055</td>\n",
       "      <td>0.000</td>\n",
       "      <td>-0.039</td>\n",
       "      <td>-0.139</td>\n",
       "      <td>62.0</td>\n",
       "    </tr>\n",
       "    <tr>\n",
       "      <th>3</th>\n",
       "      <td>1</td>\n",
       "      <td>A1BG</td>\n",
       "      <td>NM_130786</td>\n",
       "      <td>9598</td>\n",
       "      <td>ptr-miR-455</td>\n",
       "      <td>2</td>\n",
       "      <td>53</td>\n",
       "      <td>59</td>\n",
       "      <td>0.012</td>\n",
       "      <td>0.087</td>\n",
       "      <td>-0.054</td>\n",
       "      <td>-0.002</td>\n",
       "      <td>-0.034</td>\n",
       "      <td>-0.111</td>\n",
       "      <td>47.0</td>\n",
       "    </tr>\n",
       "    <tr>\n",
       "      <th>4</th>\n",
       "      <td>1</td>\n",
       "      <td>A1BG</td>\n",
       "      <td>NM_130786</td>\n",
       "      <td>9598</td>\n",
       "      <td>ptr-miR-575</td>\n",
       "      <td>2</td>\n",
       "      <td>56</td>\n",
       "      <td>62</td>\n",
       "      <td>-0.007</td>\n",
       "      <td>0.115</td>\n",
       "      <td>-0.054</td>\n",
       "      <td>0.003</td>\n",
       "      <td>-0.047</td>\n",
       "      <td>-0.110</td>\n",
       "      <td>46.0</td>\n",
       "    </tr>\n",
       "  </tbody>\n",
       "</table>\n",
       "</div>"
      ],
      "text/plain": [
       "   Gene ID Gene Symbol Transcript ID  Gene Tax ID            miRNA  Site Type  \\\n",
       "0        1        A1BG     NM_130786         9598     ptr-miR-1197          2   \n",
       "1        1        A1BG     NM_130786         9598  ptr-miR-1224-5p          2   \n",
       "2        1        A1BG     NM_130786         9598      ptr-miR-198          2   \n",
       "3        1        A1BG     NM_130786         9598      ptr-miR-455          2   \n",
       "4        1        A1BG     NM_130786         9598      ptr-miR-575          2   \n",
       "\n",
       "   UTR_start  UTR end  3prime pairing  local AU  position     TA    SPS  \\\n",
       "0         28       34           0.012     0.071    -0.058  0.000 -0.037   \n",
       "1         30       36           0.003     0.043    -0.058  0.001 -0.039   \n",
       "2         51       57           0.030     0.045    -0.055  0.000 -0.039   \n",
       "3         53       59           0.012     0.087    -0.054 -0.002 -0.034   \n",
       "4         56       62          -0.007     0.115    -0.054  0.003 -0.047   \n",
       "\n",
       "   context+ score  context+ score percentile  \n",
       "0          -0.132                       61.0  \n",
       "1          -0.170                       79.0  \n",
       "2          -0.139                       62.0  \n",
       "3          -0.111                       47.0  \n",
       "4          -0.110                       46.0  "
      ]
     },
     "execution_count": 15,
     "metadata": {},
     "output_type": "execute_result"
    }
   ],
   "source": [
    "nonconserved.head()"
   ]
  },
  {
   "cell_type": "code",
   "execution_count": 17,
   "metadata": {},
   "outputs": [
    {
     "data": {
      "text/plain": [
       "(25847058, 15)"
      ]
     },
     "execution_count": 17,
     "metadata": {},
     "output_type": "execute_result"
    }
   ],
   "source": [
    "nonconserved.shape"
   ]
  },
  {
   "cell_type": "code",
   "execution_count": 18,
   "metadata": {
    "collapsed": true
   },
   "outputs": [],
   "source": [
    "df = pd.concat([conserved, nonconserved])"
   ]
  },
  {
   "cell_type": "code",
   "execution_count": 19,
   "metadata": {},
   "outputs": [
    {
     "data": {
      "text/plain": [
       "(29903409, 15)"
      ]
     },
     "execution_count": 19,
     "metadata": {},
     "output_type": "execute_result"
    }
   ],
   "source": [
    "df.shape"
   ]
  },
  {
   "cell_type": "markdown",
   "metadata": {},
   "source": [
    "# Get Relevant Data"
   ]
  },
  {
   "cell_type": "code",
   "execution_count": 20,
   "metadata": {
    "collapsed": true
   },
   "outputs": [],
   "source": [
    "# get only relevetn spcies\n",
    "\n",
    "human = df[df['Gene Tax ID'] == 9606].copy()\n",
    "mouse = df[df['Gene Tax ID'] == 10090].copy()\n",
    "\n",
    "df = pd.concat([human, mouse])"
   ]
  },
  {
   "cell_type": "code",
   "execution_count": 21,
   "metadata": {},
   "outputs": [
    {
     "data": {
      "text/plain": [
       "(13206058, 15)"
      ]
     },
     "execution_count": 21,
     "metadata": {},
     "output_type": "execute_result"
    }
   ],
   "source": [
    "df.shape"
   ]
  },
  {
   "cell_type": "code",
   "execution_count": 23,
   "metadata": {
    "collapsed": true
   },
   "outputs": [],
   "source": [
    "df = df[['Gene Symbol', 'miRNA']]"
   ]
  },
  {
   "cell_type": "code",
   "execution_count": 24,
   "metadata": {},
   "outputs": [
    {
     "data": {
      "text/html": [
       "<div>\n",
       "<table border=\"1\" class=\"dataframe\">\n",
       "  <thead>\n",
       "    <tr style=\"text-align: right;\">\n",
       "      <th></th>\n",
       "      <th>Gene Symbol</th>\n",
       "      <th>miRNA</th>\n",
       "    </tr>\n",
       "  </thead>\n",
       "  <tbody>\n",
       "    <tr>\n",
       "      <th>894</th>\n",
       "      <td>A1CF</td>\n",
       "      <td>hsa-miR-4711-3p</td>\n",
       "    </tr>\n",
       "    <tr>\n",
       "      <th>895</th>\n",
       "      <td>A1CF</td>\n",
       "      <td>hsa-miR-4711-3p</td>\n",
       "    </tr>\n",
       "    <tr>\n",
       "      <th>896</th>\n",
       "      <td>A1CF</td>\n",
       "      <td>hsa-miR-4711-3p</td>\n",
       "    </tr>\n",
       "    <tr>\n",
       "      <th>897</th>\n",
       "      <td>A1CF</td>\n",
       "      <td>hsa-miR-4711-3p</td>\n",
       "    </tr>\n",
       "    <tr>\n",
       "      <th>898</th>\n",
       "      <td>A1CF</td>\n",
       "      <td>hsa-miR-4711-3p</td>\n",
       "    </tr>\n",
       "  </tbody>\n",
       "</table>\n",
       "</div>"
      ],
      "text/plain": [
       "    Gene Symbol            miRNA\n",
       "894        A1CF  hsa-miR-4711-3p\n",
       "895        A1CF  hsa-miR-4711-3p\n",
       "896        A1CF  hsa-miR-4711-3p\n",
       "897        A1CF  hsa-miR-4711-3p\n",
       "898        A1CF  hsa-miR-4711-3p"
      ]
     },
     "execution_count": 24,
     "metadata": {},
     "output_type": "execute_result"
    }
   ],
   "source": [
    "df.head()"
   ]
  },
  {
   "cell_type": "code",
   "execution_count": 25,
   "metadata": {
    "collapsed": true
   },
   "outputs": [],
   "source": [
    "df.drop_duplicates(inplace=True)"
   ]
  },
  {
   "cell_type": "code",
   "execution_count": 26,
   "metadata": {},
   "outputs": [
    {
     "data": {
      "text/plain": [
       "(5971589, 2)"
      ]
     },
     "execution_count": 26,
     "metadata": {},
     "output_type": "execute_result"
    }
   ],
   "source": [
    "df.shape"
   ]
  },
  {
   "cell_type": "markdown",
   "metadata": {},
   "source": [
    "# Map Gene Symbols To Up-to-date Approved Gene Symbols"
   ]
  },
  {
   "cell_type": "code",
   "execution_count": 27,
   "metadata": {
    "collapsed": true
   },
   "outputs": [],
   "source": [
    "df.set_index('Gene Symbol', inplace=True)"
   ]
  },
  {
   "cell_type": "code",
   "execution_count": 28,
   "metadata": {},
   "outputs": [
    {
     "name": "stdout",
     "output_type": "stream",
     "text": [
      "Progeres: 99%  5971563 Out of 5971589   \r"
     ]
    }
   ],
   "source": [
    "uf.mapgenesymbols(df)"
   ]
  },
  {
   "cell_type": "markdown",
   "metadata": {},
   "source": [
    "# Drop Duplicates"
   ]
  },
  {
   "cell_type": "code",
   "execution_count": 29,
   "metadata": {
    "collapsed": true
   },
   "outputs": [],
   "source": [
    "df.reset_index(inplace=True)"
   ]
  },
  {
   "cell_type": "code",
   "execution_count": 30,
   "metadata": {
    "collapsed": true
   },
   "outputs": [],
   "source": [
    "df.drop_duplicates(inplace=True)"
   ]
  },
  {
   "cell_type": "code",
   "execution_count": 31,
   "metadata": {},
   "outputs": [
    {
     "data": {
      "text/plain": [
       "(5898446, 2)"
      ]
     },
     "execution_count": 31,
     "metadata": {},
     "output_type": "execute_result"
    }
   ],
   "source": [
    "df.shape"
   ]
  },
  {
   "cell_type": "markdown",
   "metadata": {},
   "source": [
    "# Create Binary Matrix"
   ]
  },
  {
   "cell_type": "code",
   "execution_count": 32,
   "metadata": {},
   "outputs": [
    {
     "name": "stdout",
     "output_type": "stream",
     "text": [
      "Progeres: 100%  18028 Out of 18028   \r"
     ]
    }
   ],
   "source": [
    "binary_matrix = uf.createBinaryMatix(df)"
   ]
  },
  {
   "cell_type": "code",
   "execution_count": 33,
   "metadata": {},
   "outputs": [
    {
     "data": {
      "text/html": [
       "<div>\n",
       "<table border=\"1\" class=\"dataframe\">\n",
       "  <thead>\n",
       "    <tr style=\"text-align: right;\">\n",
       "      <th></th>\n",
       "      <th>hsa-miR-4713-5p</th>\n",
       "      <th>hsa-miR-622</th>\n",
       "      <th>hsa-miR-4771</th>\n",
       "      <th>hsa-miR-2861</th>\n",
       "      <th>hsa-miR-326</th>\n",
       "      <th>mmu-miR-467a</th>\n",
       "      <th>mmu-miR-3098-3p</th>\n",
       "      <th>mmu-miR-466c-3p</th>\n",
       "      <th>hsa-miR-4749-5p</th>\n",
       "      <th>hsa-miR-362-5p</th>\n",
       "      <th>...</th>\n",
       "      <th>hsa-miR-96</th>\n",
       "      <th>hsa-miR-4468</th>\n",
       "      <th>mmu-miR-466p-3p</th>\n",
       "      <th>mmu-miR-125a-5p</th>\n",
       "      <th>mmu-miR-615-5p</th>\n",
       "      <th>hsa-miR-508-3p</th>\n",
       "      <th>mmu-miR-674</th>\n",
       "      <th>hsa-miR-378f</th>\n",
       "      <th>hsa-miR-4634</th>\n",
       "      <th>hsa-miR-4436b-5p</th>\n",
       "    </tr>\n",
       "  </thead>\n",
       "  <tbody>\n",
       "    <tr>\n",
       "      <th>NKAP</th>\n",
       "      <td>0</td>\n",
       "      <td>0</td>\n",
       "      <td>0</td>\n",
       "      <td>0</td>\n",
       "      <td>0</td>\n",
       "      <td>0</td>\n",
       "      <td>0</td>\n",
       "      <td>0</td>\n",
       "      <td>0</td>\n",
       "      <td>0</td>\n",
       "      <td>...</td>\n",
       "      <td>0</td>\n",
       "      <td>0</td>\n",
       "      <td>0</td>\n",
       "      <td>0</td>\n",
       "      <td>0</td>\n",
       "      <td>0</td>\n",
       "      <td>0</td>\n",
       "      <td>1</td>\n",
       "      <td>0</td>\n",
       "      <td>0</td>\n",
       "    </tr>\n",
       "    <tr>\n",
       "      <th>KRTCAP3</th>\n",
       "      <td>0</td>\n",
       "      <td>0</td>\n",
       "      <td>0</td>\n",
       "      <td>0</td>\n",
       "      <td>0</td>\n",
       "      <td>0</td>\n",
       "      <td>0</td>\n",
       "      <td>0</td>\n",
       "      <td>0</td>\n",
       "      <td>0</td>\n",
       "      <td>...</td>\n",
       "      <td>0</td>\n",
       "      <td>0</td>\n",
       "      <td>0</td>\n",
       "      <td>0</td>\n",
       "      <td>0</td>\n",
       "      <td>0</td>\n",
       "      <td>0</td>\n",
       "      <td>0</td>\n",
       "      <td>0</td>\n",
       "      <td>0</td>\n",
       "    </tr>\n",
       "    <tr>\n",
       "      <th>SLC25A4</th>\n",
       "      <td>1</td>\n",
       "      <td>1</td>\n",
       "      <td>0</td>\n",
       "      <td>1</td>\n",
       "      <td>0</td>\n",
       "      <td>0</td>\n",
       "      <td>0</td>\n",
       "      <td>0</td>\n",
       "      <td>0</td>\n",
       "      <td>0</td>\n",
       "      <td>...</td>\n",
       "      <td>0</td>\n",
       "      <td>0</td>\n",
       "      <td>0</td>\n",
       "      <td>0</td>\n",
       "      <td>0</td>\n",
       "      <td>0</td>\n",
       "      <td>1</td>\n",
       "      <td>0</td>\n",
       "      <td>0</td>\n",
       "      <td>0</td>\n",
       "    </tr>\n",
       "    <tr>\n",
       "      <th>ZNF621</th>\n",
       "      <td>1</td>\n",
       "      <td>1</td>\n",
       "      <td>0</td>\n",
       "      <td>0</td>\n",
       "      <td>0</td>\n",
       "      <td>0</td>\n",
       "      <td>0</td>\n",
       "      <td>0</td>\n",
       "      <td>0</td>\n",
       "      <td>0</td>\n",
       "      <td>...</td>\n",
       "      <td>1</td>\n",
       "      <td>0</td>\n",
       "      <td>0</td>\n",
       "      <td>0</td>\n",
       "      <td>0</td>\n",
       "      <td>1</td>\n",
       "      <td>0</td>\n",
       "      <td>0</td>\n",
       "      <td>0</td>\n",
       "      <td>1</td>\n",
       "    </tr>\n",
       "    <tr>\n",
       "      <th>GZMK</th>\n",
       "      <td>0</td>\n",
       "      <td>0</td>\n",
       "      <td>0</td>\n",
       "      <td>0</td>\n",
       "      <td>0</td>\n",
       "      <td>0</td>\n",
       "      <td>0</td>\n",
       "      <td>0</td>\n",
       "      <td>0</td>\n",
       "      <td>0</td>\n",
       "      <td>...</td>\n",
       "      <td>0</td>\n",
       "      <td>0</td>\n",
       "      <td>0</td>\n",
       "      <td>0</td>\n",
       "      <td>0</td>\n",
       "      <td>0</td>\n",
       "      <td>0</td>\n",
       "      <td>0</td>\n",
       "      <td>0</td>\n",
       "      <td>0</td>\n",
       "    </tr>\n",
       "  </tbody>\n",
       "</table>\n",
       "<p>5 rows × 2318 columns</p>\n",
       "</div>"
      ],
      "text/plain": [
       "         hsa-miR-4713-5p  hsa-miR-622  hsa-miR-4771  hsa-miR-2861  \\\n",
       "NKAP                   0            0             0             0   \n",
       "KRTCAP3                0            0             0             0   \n",
       "SLC25A4                1            1             0             1   \n",
       "ZNF621                 1            1             0             0   \n",
       "GZMK                   0            0             0             0   \n",
       "\n",
       "         hsa-miR-326  mmu-miR-467a  mmu-miR-3098-3p  mmu-miR-466c-3p  \\\n",
       "NKAP               0             0                0                0   \n",
       "KRTCAP3            0             0                0                0   \n",
       "SLC25A4            0             0                0                0   \n",
       "ZNF621             0             0                0                0   \n",
       "GZMK               0             0                0                0   \n",
       "\n",
       "         hsa-miR-4749-5p  hsa-miR-362-5p        ...         hsa-miR-96  \\\n",
       "NKAP                   0               0        ...                  0   \n",
       "KRTCAP3                0               0        ...                  0   \n",
       "SLC25A4                0               0        ...                  0   \n",
       "ZNF621                 0               0        ...                  1   \n",
       "GZMK                   0               0        ...                  0   \n",
       "\n",
       "         hsa-miR-4468  mmu-miR-466p-3p  mmu-miR-125a-5p  mmu-miR-615-5p  \\\n",
       "NKAP                0                0                0               0   \n",
       "KRTCAP3             0                0                0               0   \n",
       "SLC25A4             0                0                0               0   \n",
       "ZNF621              0                0                0               0   \n",
       "GZMK                0                0                0               0   \n",
       "\n",
       "         hsa-miR-508-3p  mmu-miR-674  hsa-miR-378f  hsa-miR-4634  \\\n",
       "NKAP                  0            0             1             0   \n",
       "KRTCAP3               0            0             0             0   \n",
       "SLC25A4               0            1             0             0   \n",
       "ZNF621                1            0             0             0   \n",
       "GZMK                  0            0             0             0   \n",
       "\n",
       "         hsa-miR-4436b-5p  \n",
       "NKAP                    0  \n",
       "KRTCAP3                 0  \n",
       "SLC25A4                 0  \n",
       "ZNF621                  1  \n",
       "GZMK                    0  \n",
       "\n",
       "[5 rows x 2318 columns]"
      ]
     },
     "execution_count": 33,
     "metadata": {},
     "output_type": "execute_result"
    }
   ],
   "source": [
    "binary_matrix.head()"
   ]
  },
  {
   "cell_type": "code",
   "execution_count": 34,
   "metadata": {},
   "outputs": [
    {
     "data": {
      "text/plain": [
       "(18028, 2318)"
      ]
     },
     "execution_count": 34,
     "metadata": {},
     "output_type": "execute_result"
    }
   ],
   "source": [
    "binary_matrix.shape"
   ]
  },
  {
   "cell_type": "markdown",
   "metadata": {},
   "source": [
    "# Save Binary Matrix"
   ]
  },
  {
   "cell_type": "code",
   "execution_count": 35,
   "metadata": {
    "collapsed": true
   },
   "outputs": [],
   "source": [
    "filename = '~/./Documents/Harmonizome/TargetScanHuman/Output/targetscanhuman_binary_matrix_%s.tsv.zip'% str(datetime.date.today())[0:7].replace('-', '_')\n",
    "binary_matrix.to_csv(filename, sep='\\t', compression='gzip')"
   ]
  },
  {
   "cell_type": "markdown",
   "metadata": {},
   "source": [
    "# Create Gene Set Library"
   ]
  },
  {
   "cell_type": "code",
   "execution_count": 39,
   "metadata": {
    "collapsed": true
   },
   "outputs": [],
   "source": [
    "path = '/Users/moshesilverstein/Documents/Harmonizome/TargetScanHuman/Output/'"
   ]
  },
  {
   "cell_type": "code",
   "execution_count": 40,
   "metadata": {
    "collapsed": true
   },
   "outputs": [],
   "source": [
    "name = 'targetscanhuman_gene_set'"
   ]
  },
  {
   "cell_type": "code",
   "execution_count": 41,
   "metadata": {},
   "outputs": [
    {
     "name": "stdout",
     "output_type": "stream",
     "text": [
      "Progeres: 100%  2318 Out of 2318   \r"
     ]
    }
   ],
   "source": [
    "uf.createUpGeneSetLib(binary_matrix, path, name)"
   ]
  },
  {
   "cell_type": "markdown",
   "metadata": {},
   "source": [
    "# Create Attribute Library"
   ]
  },
  {
   "cell_type": "code",
   "execution_count": 42,
   "metadata": {
    "collapsed": true
   },
   "outputs": [],
   "source": [
    "path = '/Users/moshesilverstein/Documents/Harmonizome/TargetScanHuman/Output/'"
   ]
  },
  {
   "cell_type": "code",
   "execution_count": 43,
   "metadata": {
    "collapsed": true
   },
   "outputs": [],
   "source": [
    "name = 'targetscanhuman_attribute_set'"
   ]
  },
  {
   "cell_type": "code",
   "execution_count": 44,
   "metadata": {},
   "outputs": [
    {
     "name": "stdout",
     "output_type": "stream",
     "text": [
      "Progeres: 100%  18028 Out of 18028   \r"
     ]
    }
   ],
   "source": [
    "uf.createUpAttributeSetLib(binary_matrix, path, name)"
   ]
  },
  {
   "cell_type": "markdown",
   "metadata": {},
   "source": [
    "# Create Gene Similarity Matrix"
   ]
  },
  {
   "cell_type": "code",
   "execution_count": 36,
   "metadata": {
    "collapsed": true
   },
   "outputs": [],
   "source": [
    "gene_similarity_matix = uf.createSimilarityMatrix(binary_matrix, 'jaccard')"
   ]
  },
  {
   "cell_type": "code",
   "execution_count": 37,
   "metadata": {},
   "outputs": [
    {
     "data": {
      "text/html": [
       "<div>\n",
       "<table border=\"1\" class=\"dataframe\">\n",
       "  <thead>\n",
       "    <tr style=\"text-align: right;\">\n",
       "      <th></th>\n",
       "      <th>NKAP</th>\n",
       "      <th>KRTCAP3</th>\n",
       "      <th>SLC25A4</th>\n",
       "      <th>ZNF621</th>\n",
       "      <th>GZMK</th>\n",
       "      <th>PPP1R1C</th>\n",
       "      <th>ITGA3</th>\n",
       "      <th>LOXL1</th>\n",
       "      <th>SOD3</th>\n",
       "      <th>AGO1</th>\n",
       "      <th>...</th>\n",
       "      <th>CPZ</th>\n",
       "      <th>HTR2A</th>\n",
       "      <th>STXBP2</th>\n",
       "      <th>NID1</th>\n",
       "      <th>CACNG7</th>\n",
       "      <th>FKBPL</th>\n",
       "      <th>CCK</th>\n",
       "      <th>RBM27</th>\n",
       "      <th>TICRR</th>\n",
       "      <th>C4orf51</th>\n",
       "    </tr>\n",
       "  </thead>\n",
       "  <tbody>\n",
       "    <tr>\n",
       "      <th>NKAP</th>\n",
       "      <td>1.000000</td>\n",
       "      <td>0.015152</td>\n",
       "      <td>0.026426</td>\n",
       "      <td>0.032151</td>\n",
       "      <td>0.000000</td>\n",
       "      <td>0.029703</td>\n",
       "      <td>0.026915</td>\n",
       "      <td>0.000000</td>\n",
       "      <td>0.007874</td>\n",
       "      <td>0.037201</td>\n",
       "      <td>...</td>\n",
       "      <td>0.000000</td>\n",
       "      <td>0.030380</td>\n",
       "      <td>0.011494</td>\n",
       "      <td>0.037225</td>\n",
       "      <td>0.025287</td>\n",
       "      <td>0.000000</td>\n",
       "      <td>0.037736</td>\n",
       "      <td>0.027211</td>\n",
       "      <td>0.030769</td>\n",
       "      <td>0.007299</td>\n",
       "    </tr>\n",
       "    <tr>\n",
       "      <th>KRTCAP3</th>\n",
       "      <td>0.015152</td>\n",
       "      <td>1.000000</td>\n",
       "      <td>0.034106</td>\n",
       "      <td>0.033696</td>\n",
       "      <td>0.014706</td>\n",
       "      <td>0.008850</td>\n",
       "      <td>0.027888</td>\n",
       "      <td>0.044444</td>\n",
       "      <td>0.026022</td>\n",
       "      <td>0.032062</td>\n",
       "      <td>...</td>\n",
       "      <td>0.014493</td>\n",
       "      <td>0.036408</td>\n",
       "      <td>0.000000</td>\n",
       "      <td>0.029268</td>\n",
       "      <td>0.019694</td>\n",
       "      <td>0.000000</td>\n",
       "      <td>0.010929</td>\n",
       "      <td>0.029216</td>\n",
       "      <td>0.031977</td>\n",
       "      <td>0.053333</td>\n",
       "    </tr>\n",
       "    <tr>\n",
       "      <th>SLC25A4</th>\n",
       "      <td>0.026426</td>\n",
       "      <td>0.034106</td>\n",
       "      <td>1.000000</td>\n",
       "      <td>0.303437</td>\n",
       "      <td>0.020633</td>\n",
       "      <td>0.073548</td>\n",
       "      <td>0.164241</td>\n",
       "      <td>0.057410</td>\n",
       "      <td>0.075795</td>\n",
       "      <td>0.271246</td>\n",
       "      <td>...</td>\n",
       "      <td>0.024793</td>\n",
       "      <td>0.131723</td>\n",
       "      <td>0.002817</td>\n",
       "      <td>0.186002</td>\n",
       "      <td>0.146838</td>\n",
       "      <td>0.002937</td>\n",
       "      <td>0.057641</td>\n",
       "      <td>0.188793</td>\n",
       "      <td>0.093501</td>\n",
       "      <td>0.052486</td>\n",
       "    </tr>\n",
       "    <tr>\n",
       "      <th>ZNF621</th>\n",
       "      <td>0.032151</td>\n",
       "      <td>0.033696</td>\n",
       "      <td>0.303437</td>\n",
       "      <td>1.000000</td>\n",
       "      <td>0.034292</td>\n",
       "      <td>0.059979</td>\n",
       "      <td>0.139757</td>\n",
       "      <td>0.055734</td>\n",
       "      <td>0.060277</td>\n",
       "      <td>0.315685</td>\n",
       "      <td>...</td>\n",
       "      <td>0.031938</td>\n",
       "      <td>0.170172</td>\n",
       "      <td>0.004440</td>\n",
       "      <td>0.224315</td>\n",
       "      <td>0.132735</td>\n",
       "      <td>0.001143</td>\n",
       "      <td>0.051392</td>\n",
       "      <td>0.265700</td>\n",
       "      <td>0.117362</td>\n",
       "      <td>0.042576</td>\n",
       "    </tr>\n",
       "    <tr>\n",
       "      <th>GZMK</th>\n",
       "      <td>0.000000</td>\n",
       "      <td>0.014706</td>\n",
       "      <td>0.020633</td>\n",
       "      <td>0.034292</td>\n",
       "      <td>1.000000</td>\n",
       "      <td>0.019231</td>\n",
       "      <td>0.018330</td>\n",
       "      <td>0.017751</td>\n",
       "      <td>0.003861</td>\n",
       "      <td>0.028897</td>\n",
       "      <td>...</td>\n",
       "      <td>0.097345</td>\n",
       "      <td>0.027500</td>\n",
       "      <td>0.010989</td>\n",
       "      <td>0.051107</td>\n",
       "      <td>0.015801</td>\n",
       "      <td>0.000000</td>\n",
       "      <td>0.000000</td>\n",
       "      <td>0.034060</td>\n",
       "      <td>0.005935</td>\n",
       "      <td>0.021583</td>\n",
       "    </tr>\n",
       "  </tbody>\n",
       "</table>\n",
       "<p>5 rows × 18028 columns</p>\n",
       "</div>"
      ],
      "text/plain": [
       "             NKAP   KRTCAP3   SLC25A4    ZNF621      GZMK   PPP1R1C     ITGA3  \\\n",
       "NKAP     1.000000  0.015152  0.026426  0.032151  0.000000  0.029703  0.026915   \n",
       "KRTCAP3  0.015152  1.000000  0.034106  0.033696  0.014706  0.008850  0.027888   \n",
       "SLC25A4  0.026426  0.034106  1.000000  0.303437  0.020633  0.073548  0.164241   \n",
       "ZNF621   0.032151  0.033696  0.303437  1.000000  0.034292  0.059979  0.139757   \n",
       "GZMK     0.000000  0.014706  0.020633  0.034292  1.000000  0.019231  0.018330   \n",
       "\n",
       "            LOXL1      SOD3      AGO1    ...          CPZ     HTR2A    STXBP2  \\\n",
       "NKAP     0.000000  0.007874  0.037201    ...     0.000000  0.030380  0.011494   \n",
       "KRTCAP3  0.044444  0.026022  0.032062    ...     0.014493  0.036408  0.000000   \n",
       "SLC25A4  0.057410  0.075795  0.271246    ...     0.024793  0.131723  0.002817   \n",
       "ZNF621   0.055734  0.060277  0.315685    ...     0.031938  0.170172  0.004440   \n",
       "GZMK     0.017751  0.003861  0.028897    ...     0.097345  0.027500  0.010989   \n",
       "\n",
       "             NID1    CACNG7     FKBPL       CCK     RBM27     TICRR   C4orf51  \n",
       "NKAP     0.037225  0.025287  0.000000  0.037736  0.027211  0.030769  0.007299  \n",
       "KRTCAP3  0.029268  0.019694  0.000000  0.010929  0.029216  0.031977  0.053333  \n",
       "SLC25A4  0.186002  0.146838  0.002937  0.057641  0.188793  0.093501  0.052486  \n",
       "ZNF621   0.224315  0.132735  0.001143  0.051392  0.265700  0.117362  0.042576  \n",
       "GZMK     0.051107  0.015801  0.000000  0.000000  0.034060  0.005935  0.021583  \n",
       "\n",
       "[5 rows x 18028 columns]"
      ]
     },
     "execution_count": 37,
     "metadata": {},
     "output_type": "execute_result"
    }
   ],
   "source": [
    "gene_similarity_matix.head()"
   ]
  },
  {
   "cell_type": "markdown",
   "metadata": {},
   "source": [
    "# Save Gene Similarity Matrix"
   ]
  },
  {
   "cell_type": "code",
   "execution_count": 38,
   "metadata": {
    "collapsed": true
   },
   "outputs": [],
   "source": [
    "filename = '~/./Documents/Harmonizome/TargetScanHuman/Output/targetscanhuman_gene_similarity_matix_%s.tsv.zip'% str(datetime.date.today())[0:7].replace('-', '_')\n",
    "gene_similarity_matix.to_csv(filename, sep='\\t', compression='gzip')"
   ]
  },
  {
   "cell_type": "markdown",
   "metadata": {},
   "source": [
    "# Create Attribute Similarity matrix"
   ]
  },
  {
   "cell_type": "code",
   "execution_count": 45,
   "metadata": {
    "collapsed": true
   },
   "outputs": [],
   "source": [
    "attribute_similarity_matix = uf.createSimilarityMatrix(binary_matrix.T, 'jaccard')"
   ]
  },
  {
   "cell_type": "code",
   "execution_count": 46,
   "metadata": {},
   "outputs": [
    {
     "data": {
      "text/html": [
       "<div>\n",
       "<table border=\"1\" class=\"dataframe\">\n",
       "  <thead>\n",
       "    <tr style=\"text-align: right;\">\n",
       "      <th></th>\n",
       "      <th>hsa-miR-4713-5p</th>\n",
       "      <th>hsa-miR-622</th>\n",
       "      <th>hsa-miR-4771</th>\n",
       "      <th>hsa-miR-2861</th>\n",
       "      <th>hsa-miR-326</th>\n",
       "      <th>mmu-miR-467a</th>\n",
       "      <th>mmu-miR-3098-3p</th>\n",
       "      <th>mmu-miR-466c-3p</th>\n",
       "      <th>hsa-miR-4749-5p</th>\n",
       "      <th>hsa-miR-362-5p</th>\n",
       "      <th>...</th>\n",
       "      <th>hsa-miR-96</th>\n",
       "      <th>hsa-miR-4468</th>\n",
       "      <th>mmu-miR-466p-3p</th>\n",
       "      <th>mmu-miR-125a-5p</th>\n",
       "      <th>mmu-miR-615-5p</th>\n",
       "      <th>hsa-miR-508-3p</th>\n",
       "      <th>mmu-miR-674</th>\n",
       "      <th>hsa-miR-378f</th>\n",
       "      <th>hsa-miR-4634</th>\n",
       "      <th>hsa-miR-4436b-5p</th>\n",
       "    </tr>\n",
       "  </thead>\n",
       "  <tbody>\n",
       "    <tr>\n",
       "      <th>hsa-miR-4713-5p</th>\n",
       "      <td>1.000000</td>\n",
       "      <td>0.215744</td>\n",
       "      <td>0.165323</td>\n",
       "      <td>0.217311</td>\n",
       "      <td>0.246228</td>\n",
       "      <td>0.138668</td>\n",
       "      <td>0.210659</td>\n",
       "      <td>0.157135</td>\n",
       "      <td>0.098999</td>\n",
       "      <td>0.167989</td>\n",
       "      <td>...</td>\n",
       "      <td>0.198366</td>\n",
       "      <td>0.219328</td>\n",
       "      <td>0.157135</td>\n",
       "      <td>0.208684</td>\n",
       "      <td>0.144960</td>\n",
       "      <td>0.121212</td>\n",
       "      <td>0.205206</td>\n",
       "      <td>0.185346</td>\n",
       "      <td>0.035311</td>\n",
       "      <td>0.204914</td>\n",
       "    </tr>\n",
       "    <tr>\n",
       "      <th>hsa-miR-622</th>\n",
       "      <td>0.215744</td>\n",
       "      <td>1.000000</td>\n",
       "      <td>0.159639</td>\n",
       "      <td>0.166518</td>\n",
       "      <td>0.210066</td>\n",
       "      <td>0.138323</td>\n",
       "      <td>0.197310</td>\n",
       "      <td>0.154885</td>\n",
       "      <td>0.080306</td>\n",
       "      <td>0.166667</td>\n",
       "      <td>...</td>\n",
       "      <td>0.184070</td>\n",
       "      <td>0.184438</td>\n",
       "      <td>0.154885</td>\n",
       "      <td>0.167719</td>\n",
       "      <td>0.121468</td>\n",
       "      <td>0.129439</td>\n",
       "      <td>0.195737</td>\n",
       "      <td>0.165456</td>\n",
       "      <td>0.036571</td>\n",
       "      <td>0.186002</td>\n",
       "    </tr>\n",
       "    <tr>\n",
       "      <th>hsa-miR-4771</th>\n",
       "      <td>0.165323</td>\n",
       "      <td>0.159639</td>\n",
       "      <td>1.000000</td>\n",
       "      <td>0.153671</td>\n",
       "      <td>0.168867</td>\n",
       "      <td>0.132589</td>\n",
       "      <td>0.160905</td>\n",
       "      <td>0.130293</td>\n",
       "      <td>0.085878</td>\n",
       "      <td>0.134865</td>\n",
       "      <td>...</td>\n",
       "      <td>0.156945</td>\n",
       "      <td>0.178025</td>\n",
       "      <td>0.130293</td>\n",
       "      <td>0.148680</td>\n",
       "      <td>0.121710</td>\n",
       "      <td>0.105218</td>\n",
       "      <td>0.156908</td>\n",
       "      <td>0.138108</td>\n",
       "      <td>0.036488</td>\n",
       "      <td>0.159490</td>\n",
       "    </tr>\n",
       "    <tr>\n",
       "      <th>hsa-miR-2861</th>\n",
       "      <td>0.217311</td>\n",
       "      <td>0.166518</td>\n",
       "      <td>0.153671</td>\n",
       "      <td>1.000000</td>\n",
       "      <td>0.264034</td>\n",
       "      <td>0.111813</td>\n",
       "      <td>0.173158</td>\n",
       "      <td>0.107953</td>\n",
       "      <td>0.132638</td>\n",
       "      <td>0.123840</td>\n",
       "      <td>...</td>\n",
       "      <td>0.157267</td>\n",
       "      <td>0.215891</td>\n",
       "      <td>0.107953</td>\n",
       "      <td>0.192811</td>\n",
       "      <td>0.169108</td>\n",
       "      <td>0.090554</td>\n",
       "      <td>0.168632</td>\n",
       "      <td>0.178550</td>\n",
       "      <td>0.037542</td>\n",
       "      <td>0.148373</td>\n",
       "    </tr>\n",
       "    <tr>\n",
       "      <th>hsa-miR-326</th>\n",
       "      <td>0.246228</td>\n",
       "      <td>0.210066</td>\n",
       "      <td>0.168867</td>\n",
       "      <td>0.264034</td>\n",
       "      <td>1.000000</td>\n",
       "      <td>0.128372</td>\n",
       "      <td>0.211003</td>\n",
       "      <td>0.149983</td>\n",
       "      <td>0.114880</td>\n",
       "      <td>0.150994</td>\n",
       "      <td>...</td>\n",
       "      <td>0.189721</td>\n",
       "      <td>0.240525</td>\n",
       "      <td>0.149983</td>\n",
       "      <td>0.213394</td>\n",
       "      <td>0.159631</td>\n",
       "      <td>0.112832</td>\n",
       "      <td>0.204211</td>\n",
       "      <td>0.191801</td>\n",
       "      <td>0.034735</td>\n",
       "      <td>0.186689</td>\n",
       "    </tr>\n",
       "  </tbody>\n",
       "</table>\n",
       "<p>5 rows × 2318 columns</p>\n",
       "</div>"
      ],
      "text/plain": [
       "                 hsa-miR-4713-5p  hsa-miR-622  hsa-miR-4771  hsa-miR-2861  \\\n",
       "hsa-miR-4713-5p         1.000000     0.215744      0.165323      0.217311   \n",
       "hsa-miR-622             0.215744     1.000000      0.159639      0.166518   \n",
       "hsa-miR-4771            0.165323     0.159639      1.000000      0.153671   \n",
       "hsa-miR-2861            0.217311     0.166518      0.153671      1.000000   \n",
       "hsa-miR-326             0.246228     0.210066      0.168867      0.264034   \n",
       "\n",
       "                 hsa-miR-326  mmu-miR-467a  mmu-miR-3098-3p  mmu-miR-466c-3p  \\\n",
       "hsa-miR-4713-5p     0.246228      0.138668         0.210659         0.157135   \n",
       "hsa-miR-622         0.210066      0.138323         0.197310         0.154885   \n",
       "hsa-miR-4771        0.168867      0.132589         0.160905         0.130293   \n",
       "hsa-miR-2861        0.264034      0.111813         0.173158         0.107953   \n",
       "hsa-miR-326         1.000000      0.128372         0.211003         0.149983   \n",
       "\n",
       "                 hsa-miR-4749-5p  hsa-miR-362-5p        ...         \\\n",
       "hsa-miR-4713-5p         0.098999        0.167989        ...          \n",
       "hsa-miR-622             0.080306        0.166667        ...          \n",
       "hsa-miR-4771            0.085878        0.134865        ...          \n",
       "hsa-miR-2861            0.132638        0.123840        ...          \n",
       "hsa-miR-326             0.114880        0.150994        ...          \n",
       "\n",
       "                 hsa-miR-96  hsa-miR-4468  mmu-miR-466p-3p  mmu-miR-125a-5p  \\\n",
       "hsa-miR-4713-5p    0.198366      0.219328         0.157135         0.208684   \n",
       "hsa-miR-622        0.184070      0.184438         0.154885         0.167719   \n",
       "hsa-miR-4771       0.156945      0.178025         0.130293         0.148680   \n",
       "hsa-miR-2861       0.157267      0.215891         0.107953         0.192811   \n",
       "hsa-miR-326        0.189721      0.240525         0.149983         0.213394   \n",
       "\n",
       "                 mmu-miR-615-5p  hsa-miR-508-3p  mmu-miR-674  hsa-miR-378f  \\\n",
       "hsa-miR-4713-5p        0.144960        0.121212     0.205206      0.185346   \n",
       "hsa-miR-622            0.121468        0.129439     0.195737      0.165456   \n",
       "hsa-miR-4771           0.121710        0.105218     0.156908      0.138108   \n",
       "hsa-miR-2861           0.169108        0.090554     0.168632      0.178550   \n",
       "hsa-miR-326            0.159631        0.112832     0.204211      0.191801   \n",
       "\n",
       "                 hsa-miR-4634  hsa-miR-4436b-5p  \n",
       "hsa-miR-4713-5p      0.035311          0.204914  \n",
       "hsa-miR-622          0.036571          0.186002  \n",
       "hsa-miR-4771         0.036488          0.159490  \n",
       "hsa-miR-2861         0.037542          0.148373  \n",
       "hsa-miR-326          0.034735          0.186689  \n",
       "\n",
       "[5 rows x 2318 columns]"
      ]
     },
     "execution_count": 46,
     "metadata": {},
     "output_type": "execute_result"
    }
   ],
   "source": [
    "attribute_similarity_matix.head()"
   ]
  },
  {
   "cell_type": "markdown",
   "metadata": {},
   "source": [
    "# Save Attribute Similarity Matrix"
   ]
  },
  {
   "cell_type": "code",
   "execution_count": 47,
   "metadata": {
    "collapsed": true
   },
   "outputs": [],
   "source": [
    "filename = '~/./Documents/Harmonizome/TargetScanHuman/Output/targetscanhuman_attribute_similarity_matix_%s.tsv.zip'% str(datetime.date.today())[0:7].replace('-', '_')\n",
    "attribute_similarity_matix.to_csv(filename, sep='\\t', compression='gzip')"
   ]
  },
  {
   "cell_type": "markdown",
   "metadata": {},
   "source": [
    "# Create Gene List"
   ]
  },
  {
   "cell_type": "code",
   "execution_count": 48,
   "metadata": {},
   "outputs": [
    {
     "name": "stdout",
     "output_type": "stream",
     "text": [
      "Progeres: 100%  18028 Out of 18028   \r"
     ]
    }
   ],
   "source": [
    "gene_list = uf.createGeneList(binary_matrix)"
   ]
  },
  {
   "cell_type": "code",
   "execution_count": 49,
   "metadata": {},
   "outputs": [
    {
     "data": {
      "text/html": [
       "<div>\n",
       "<table border=\"1\" class=\"dataframe\">\n",
       "  <thead>\n",
       "    <tr style=\"text-align: right;\">\n",
       "      <th></th>\n",
       "      <th>GeneSym</th>\n",
       "      <th>GeneID</th>\n",
       "    </tr>\n",
       "  </thead>\n",
       "  <tbody>\n",
       "    <tr>\n",
       "      <th>0</th>\n",
       "      <td>NKAP</td>\n",
       "      <td>79576</td>\n",
       "    </tr>\n",
       "    <tr>\n",
       "      <th>1</th>\n",
       "      <td>KRTCAP3</td>\n",
       "      <td>200634</td>\n",
       "    </tr>\n",
       "    <tr>\n",
       "      <th>2</th>\n",
       "      <td>SLC25A4</td>\n",
       "      <td>291</td>\n",
       "    </tr>\n",
       "    <tr>\n",
       "      <th>3</th>\n",
       "      <td>ZNF621</td>\n",
       "      <td>285268</td>\n",
       "    </tr>\n",
       "    <tr>\n",
       "      <th>4</th>\n",
       "      <td>GZMK</td>\n",
       "      <td>3003</td>\n",
       "    </tr>\n",
       "  </tbody>\n",
       "</table>\n",
       "</div>"
      ],
      "text/plain": [
       "   GeneSym  GeneID\n",
       "0     NKAP   79576\n",
       "1  KRTCAP3  200634\n",
       "2  SLC25A4     291\n",
       "3   ZNF621  285268\n",
       "4     GZMK    3003"
      ]
     },
     "execution_count": 49,
     "metadata": {},
     "output_type": "execute_result"
    }
   ],
   "source": [
    "gene_list.head()"
   ]
  },
  {
   "cell_type": "code",
   "execution_count": 50,
   "metadata": {},
   "outputs": [
    {
     "data": {
      "text/plain": [
       "(18028, 2)"
      ]
     },
     "execution_count": 50,
     "metadata": {},
     "output_type": "execute_result"
    }
   ],
   "source": [
    "gene_list.shape"
   ]
  },
  {
   "cell_type": "markdown",
   "metadata": {},
   "source": [
    "# Save Gene List"
   ]
  },
  {
   "cell_type": "code",
   "execution_count": 51,
   "metadata": {
    "collapsed": true
   },
   "outputs": [],
   "source": [
    "filename = '~/./Documents/Harmonizome/TargetScanHuman/Output/targetscanhuman_gene_list_%s.tsv.zip'% str(datetime.date.today())[0:7].replace('-', '_')\n",
    "gene_list.to_csv(filename, sep='\\t', index=False, compression='gzip')"
   ]
  },
  {
   "cell_type": "markdown",
   "metadata": {},
   "source": [
    "# Create Attribute List"
   ]
  },
  {
   "cell_type": "code",
   "execution_count": 52,
   "metadata": {
    "collapsed": true
   },
   "outputs": [],
   "source": [
    "attribute_list = uf.createAttributeList(binary_matrix)"
   ]
  },
  {
   "cell_type": "code",
   "execution_count": 53,
   "metadata": {},
   "outputs": [
    {
     "data": {
      "text/html": [
       "<div>\n",
       "<table border=\"1\" class=\"dataframe\">\n",
       "  <thead>\n",
       "    <tr style=\"text-align: right;\">\n",
       "      <th></th>\n",
       "      <th>Attributes</th>\n",
       "    </tr>\n",
       "  </thead>\n",
       "  <tbody>\n",
       "    <tr>\n",
       "      <th>0</th>\n",
       "      <td>hsa-miR-4713-5p</td>\n",
       "    </tr>\n",
       "    <tr>\n",
       "      <th>1</th>\n",
       "      <td>hsa-miR-622</td>\n",
       "    </tr>\n",
       "    <tr>\n",
       "      <th>2</th>\n",
       "      <td>hsa-miR-4771</td>\n",
       "    </tr>\n",
       "    <tr>\n",
       "      <th>3</th>\n",
       "      <td>hsa-miR-2861</td>\n",
       "    </tr>\n",
       "    <tr>\n",
       "      <th>4</th>\n",
       "      <td>hsa-miR-326</td>\n",
       "    </tr>\n",
       "  </tbody>\n",
       "</table>\n",
       "</div>"
      ],
      "text/plain": [
       "        Attributes\n",
       "0  hsa-miR-4713-5p\n",
       "1      hsa-miR-622\n",
       "2     hsa-miR-4771\n",
       "3     hsa-miR-2861\n",
       "4      hsa-miR-326"
      ]
     },
     "execution_count": 53,
     "metadata": {},
     "output_type": "execute_result"
    }
   ],
   "source": [
    "attribute_list.head()"
   ]
  },
  {
   "cell_type": "code",
   "execution_count": 54,
   "metadata": {},
   "outputs": [
    {
     "data": {
      "text/plain": [
       "(2318, 1)"
      ]
     },
     "execution_count": 54,
     "metadata": {},
     "output_type": "execute_result"
    }
   ],
   "source": [
    "attribute_list.shape"
   ]
  },
  {
   "cell_type": "markdown",
   "metadata": {},
   "source": [
    "# Save Attribute List"
   ]
  },
  {
   "cell_type": "code",
   "execution_count": 55,
   "metadata": {
    "collapsed": true
   },
   "outputs": [],
   "source": [
    "filename = '~/./Documents/Harmonizome/TargetScanHuman/Output/targetscanhuman_attribute_list_%s.tsv.zip'% str(datetime.date.today())[0:7].replace('-', '_')\n",
    "attribute_list.to_csv(filename, sep='\\t', index=False, compression='gzip')"
   ]
  },
  {
   "cell_type": "markdown",
   "metadata": {},
   "source": [
    "# Create Gene-Attribute Edge List"
   ]
  },
  {
   "cell_type": "code",
   "execution_count": 56,
   "metadata": {
    "collapsed": true
   },
   "outputs": [],
   "source": [
    "path = '/Users/moshesilverstein/Documents/Harmonizome/TargetScanHuman/Output/'"
   ]
  },
  {
   "cell_type": "code",
   "execution_count": 57,
   "metadata": {
    "collapsed": true
   },
   "outputs": [],
   "source": [
    "name = 'targetscanhuman_gene_attribute_edge_list'"
   ]
  },
  {
   "cell_type": "code",
   "execution_count": 58,
   "metadata": {},
   "outputs": [
    {
     "name": "stdout",
     "output_type": "stream",
     "text": [
      "Progeres: 100%  2318 Out of 2318   \n",
      "\n",
      " The number of statisticaly relevent gene-attribute associations is: 5898446\n"
     ]
    }
   ],
   "source": [
    "uf.createGeneAttributeEdgeList(binary_matrix, gene_list, path, name)"
   ]
  }
 ],
 "metadata": {
  "kernelspec": {
   "display_name": "Python 3",
   "language": "python",
   "name": "python3"
  },
  "language_info": {
   "codemirror_mode": {
    "name": "ipython",
    "version": 3
   },
   "file_extension": ".py",
   "mimetype": "text/x-python",
   "name": "python",
   "nbconvert_exporter": "python",
   "pygments_lexer": "ipython3",
   "version": "3.6.5"
  }
 },
 "nbformat": 4,
 "nbformat_minor": 2
}
