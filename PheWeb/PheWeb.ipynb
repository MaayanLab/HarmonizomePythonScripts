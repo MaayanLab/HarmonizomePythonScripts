{
 "cells": [
  {
   "cell_type": "code",
   "execution_count": null,
   "metadata": {},
   "outputs": [],
   "source": [
    "import json\n",
    "\n",
    "with open('data.json') as o:\n",
    "    data = json.loads(o.read())\n",
    "\n",
    "\n",
    "f = open(\"pheweb.gmt\", \"w\")\n",
    "for json in data:\n",
    "    f.write(str(json[\"phenostring\"]) + '\\t\\t' + str(json[\"nearest_genes\"]) + \"\\n\")\n",
    "\n",
    "\n"
   ]
  }
 ],
 "metadata": {
  "kernelspec": {
   "display_name": "Python 3",
   "language": "python",
   "name": "python3"
  },
  "language_info": {
   "codemirror_mode": {
    "name": "ipython",
    "version": 3
   },
   "file_extension": ".py",
   "mimetype": "text/x-python",
   "name": "python",
   "nbconvert_exporter": "python",
   "pygments_lexer": "ipython3",
   "version": "3.7.3"
  }
 },
 "nbformat": 4,
 "nbformat_minor": 2
}
