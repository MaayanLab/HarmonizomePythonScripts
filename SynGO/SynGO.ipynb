{
 "cells": [
  {
   "cell_type": "markdown",
   "metadata": {},
   "source": [
    "# SynGO Harmonizome Processing Notebook\n",
    "This notebook contains the processing scripts used to prepare the SynGO dataset for Harmonizome. The SynGO 1.2 release data [SynGO_bulk_download_release_20231201.zip](https://www.syngoportal.org/data/SynGO_bulk_download_release_20231201.zip) was downloaded from the [SynGO Portal](https://www.syngoportal.org/)."
   ]
  },
  {
   "cell_type": "code",
   "execution_count": null,
   "metadata": {},
   "outputs": [],
   "source": [
    "import pandas as pd\n",
    "import datetime\n",
    "import numpy as np\n",
    "import scipy.spatial.distance as dist\n",
    "import seaborn as sns\n",
    "import sys\n",
    "import json\n",
    "import scanpy as sc\n",
    "from tqdm import tqdm\n",
    "from collections import OrderedDict\n",
    "\n",
    "from sklearn.feature_extraction.text import TfidfVectorizer\n",
    "import anndata\n",
    "from collections import OrderedDict\n",
    "\n",
    "# Bokeh\n",
    "from bokeh.io import output_notebook\n",
    "from bokeh.plotting import figure, show, save, output_file\n",
    "from bokeh.models import HoverTool, ColumnDataSource\n",
    "from bokeh.palettes import Category20\n",
    "output_notebook()\n",
    "\n",
    "from IPython.display import display, HTML, Markdown\n",
    "sys.setrecursionlimit(100000)"
   ]
  },
  {
   "cell_type": "markdown",
   "metadata": {},
   "source": [
    "## Load and Pre-process Data"
   ]
  },
  {
   "cell_type": "code",
   "execution_count": null,
   "metadata": {},
   "outputs": [],
   "source": [
    "syngo = pd.read_excel('SynGO_bulk_download_release_20231201/syngo_annotations.xlsx')\n",
    "syngo"
   ]
  },
  {
   "cell_type": "code",
   "execution_count": null,
   "metadata": {},
   "outputs": [],
   "source": [
    "syngo = syngo.get(['hgnc_symbol', 'go_name', 'go_id', 'go_domain'])\n",
    "syngo"
   ]
  },
  {
   "cell_type": "markdown",
   "metadata": {},
   "source": [
    "## Map Genes to Approved and Up-To-Date Symbols"
   ]
  },
  {
   "cell_type": "code",
   "execution_count": null,
   "metadata": {},
   "outputs": [],
   "source": [
    "mapping = pd.read_csv('../../mapping/mappingFile_2023.tsv', sep='\\t', header=None)\n",
    "mapping[1] = mapping[1].apply(str).apply(str.upper)\n",
    "mapping[2] = mapping[2].apply(str).apply(str.upper)\n",
    "mapping = mapping.set_index(1)[2].to_dict()\n",
    "mapping"
   ]
  },
  {
   "cell_type": "code",
   "execution_count": null,
   "metadata": {},
   "outputs": [],
   "source": [
    "syngo['hgnc_symbol'] = syngo['hgnc_symbol'].apply(str.split, sep=';')\n",
    "syngo = syngo.explode('hgnc_symbol')\n",
    "syngo['hgnc_symbol'] = syngo['hgnc_symbol'].map(mapping)\n",
    "syngo"
   ]
  },
  {
   "cell_type": "code",
   "execution_count": null,
   "metadata": {},
   "outputs": [],
   "source": [
    "syngo = syngo.drop_duplicates().reset_index(drop=True)\n",
    "syngo"
   ]
  },
  {
   "cell_type": "code",
   "execution_count": null,
   "metadata": {},
   "outputs": [],
   "source": [
    "print(f'{len(syngo[\"hgnc_symbol\"].unique())} genes, {len(syngo[\"go_name\"].unique())} terms, {syngo.shape[0]} annotations')"
   ]
  },
  {
   "cell_type": "markdown",
   "metadata": {},
   "source": [
    "### Enrichr GMT Creation"
   ]
  },
  {
   "cell_type": "code",
   "execution_count": null,
   "metadata": {},
   "outputs": [],
   "source": [
    "with open('downloads/SynGO_2024.txt', 'w') as f:\n",
    "    binaryMatrix = pd.crosstab(syngo['hgnc_symbol'], syngo['go_name'], values=1, aggfunc=max).replace(np.nan, 0)\n",
    "    arr = binaryMatrix.reset_index(drop=True).to_numpy(dtype=np.int_)\n",
    "    attributes = binaryMatrix.columns\n",
    "    domains = syngo.set_index('go_name')['go_domain'].to_dict()\n",
    "    \n",
    "\n",
    "    w, h = arr.shape\n",
    "    for i in tqdm(range(h)):\n",
    "        if len([*binaryMatrix.index[arr[:, i] == 1]])>= 5:\n",
    "            term = f'{attributes[i]} {domains[attributes[i]]}'\n",
    "            print(term, '', *binaryMatrix.index[arr[:, i] == 1], sep='\\t', end='\\n', file=f)"
   ]
  },
  {
   "cell_type": "markdown",
   "metadata": {},
   "source": [
    "## Process Data for SQL"
   ]
  },
  {
   "cell_type": "markdown",
   "metadata": {},
   "source": [
    "### Resource"
   ]
  },
  {
   "cell_type": "code",
   "execution_count": null,
   "metadata": {},
   "outputs": [],
   "source": [
    "#(id, name, long_description, short_description, url, num_attributes, num_datasets)\n",
    "('112', 'SynGO', 'a public knowledgebase for synapse research providing synapse ontologies, synaptic gene/protein annotations, and online analysis and visualization tools', 'An evidence-based, expert-curated resource for synapse function and gene enrichment studies', 'https://www.syngoportal.org/', 267, 1)"
   ]
  },
  {
   "cell_type": "markdown",
   "metadata": {},
   "source": [
    "### Dataset"
   ]
  },
  {
   "cell_type": "code",
   "execution_count": null,
   "metadata": {},
   "outputs": [],
   "source": [
    "#(id, name, name_without_resource, description, association, gene_set_description, gene_sets_description, attribute_set_description, is_signed, is_continuous_valued, last_updated, directory, num_page views, resource_fk, measurement_fk, dataset_group_fk, attribute_type_fk, attribute_group_fk, evidence_type, evidence_group, measurement_bias, attribute_type_plural, is_archived)\n",
    "(154, 'SynGO Synaptic Gene Annotations', 'Synaptic Gene Annotations', 'curated annotations of genes with synaptic terms', 'gene-biological terms associations from curated gene annotations', 'genes associated with the synaptic term {0} from the SynGO Synaptic Gene Annotations dataset.', 'sets of genes associated with synaptic terms from the SynGO Synaptic Gene Annotations dataset.', 'synaptic terms associated with {0} gene from the SynGO Synaptic Gene Annotations dataset.', 0, 0, '2024-03-04', 'syngo', 0, 112, 4, 6, 18, 4, 'association by literature curation', 'curated literature', 'low throughput, hypothesis driven', 'biological terms', 0)"
   ]
  },
  {
   "cell_type": "markdown",
   "metadata": {},
   "source": [
    "### Publication"
   ]
  },
  {
   "cell_type": "code",
   "execution_count": null,
   "metadata": {},
   "outputs": [],
   "source": [
    "#(id, long_citation, short_citation, url, pmid, pubmed_url, first_author_last_name, first_author_initials, journal_abbreviateion, year, title, volume, pages)\n",
    "(153, 'Koopmans, F et al. (2019) SynGO: An Evidence-Based, Expert-Curated Knowledge Base for the Synapse. Neuron. 103:217-34', 'Koopmans, Neuron, 2019', 'dx.doi.org/10.1016/j.neuron.2019.05.002', 31171447, 'https://pubmed.ncbi.nlm.nih.gov/31171447/', 'Koopmans', 'F', 'Neuron', 2019, 'SynGO: An Evidence-Based, Expert-Curated Knowledge Base for the Synapse', 103, '217-34')\n",
    "(235, 154, 153)"
   ]
  },
  {
   "cell_type": "markdown",
   "metadata": {},
   "source": [
    "### Naming Authority"
   ]
  },
  {
   "cell_type": "code",
   "execution_count": null,
   "metadata": {},
   "outputs": [],
   "source": [
    "#(id, name, description, url, publication_fk)\n",
    "(106, 'SynGO', 'An evidence-based, expert-curated resource for synapse function and gene enrichment studies', 'https://www.syngoportal.org/', 153)"
   ]
  },
  {
   "cell_type": "markdown",
   "metadata": {},
   "source": [
    "### Attributes"
   ]
  },
  {
   "cell_type": "code",
   "execution_count": null,
   "metadata": {},
   "outputs": [],
   "source": [
    "attributes = pd.read_csv('../../tables/attribute.csv')\n",
    "attributes"
   ]
  },
  {
   "cell_type": "code",
   "execution_count": null,
   "metadata": {},
   "outputs": [],
   "source": [
    "syngo['go_id'] = syngo['go_id'].apply(lambda x: x.replace(':','_'))\n",
    "terms = attributes[attributes['naming_authority_fk']==9]['name_from_naming_authority'].tolist()"
   ]
  },
  {
   "cell_type": "code",
   "execution_count": null,
   "metadata": {},
   "outputs": [],
   "source": [
    "attributefks = attributes[attributes['naming_authority_fk']==9].set_index('name_from_naming_authority')['id'].to_dict()\n",
    "attributefks"
   ]
  },
  {
   "cell_type": "code",
   "execution_count": null,
   "metadata": {},
   "outputs": [],
   "source": [
    "index = 394173\n",
    "namingauth = {'GO':9, 'SYNGO':106}\n",
    "synapseterms = syngo[['go_name', 'go_id']].drop_duplicates()\n",
    "for i in synapseterms.index:\n",
    "    i = synapseterms.loc[i]\n",
    "    if i['go_name'].split(' (')[0] not in terms:\n",
    "        attname = i['go_name'].split(' (')[0]\n",
    "        attid = i['go_id']\n",
    "        print((index, attname, attid, namingauth[attid.split('_')[0]]), end=',\\n')\n",
    "        attributefks[attname] = index\n",
    "        index += 1"
   ]
  },
  {
   "cell_type": "markdown",
   "metadata": {},
   "source": [
    "### Gene Sets"
   ]
  },
  {
   "cell_type": "code",
   "execution_count": null,
   "metadata": {},
   "outputs": [],
   "source": [
    "index = 135500000\n",
    "genesetfks = {}\n",
    "for i in synapseterms.index:\n",
    "    i = synapseterms.loc[i]\n",
    "    attname = i['go_name'].split(' (')[0]\n",
    "    attid = i['go_id']\n",
    "    print((index, attname, attid, 154, 18, attributefks[attname], 0), end=',\\n')\n",
    "    genesetfks[attname] = index\n",
    "    index += 1"
   ]
  },
  {
   "cell_type": "markdown",
   "metadata": {},
   "source": [
    "### Associations"
   ]
  },
  {
   "cell_type": "code",
   "execution_count": null,
   "metadata": {},
   "outputs": [],
   "source": [
    "genes = pd.read_csv('../../tables/gene.csv', index_col='symbol')\n",
    "genefks = genes['id'].to_dict()\n",
    "\n",
    "associations = syngo.copy()\n",
    "associations['hgnc_symbol'] = associations['hgnc_symbol'].apply(lambda x: genefks[x])\n",
    "associations['go_name'] = associations['go_name'].apply(lambda x: genesetfks[x.split(' (')[0]])\n",
    "associations = associations[['hgnc_symbol', 'go_name']]\n",
    "associations.columns = ['gene_fk', 'gene_set_fk']\n",
    "associations['threshold_value'] = 1\n",
    "associations = associations.rename_axis('id')\n",
    "associations.index += 41000000\n",
    "associations.to_csv('../../harmonizome-update/syngo.csv')\n",
    "associations"
   ]
  },
  {
   "cell_type": "markdown",
   "metadata": {},
   "source": [
    "## Create Downloads"
   ]
  },
  {
   "cell_type": "code",
   "execution_count": null,
   "metadata": {},
   "outputs": [],
   "source": [
    "output_path = 'downloads/'\n",
    "syngo.columns = ['Gene', 'Term', 'Term ID', 'Term Domain']\n",
    "syngo['Term'] = syngo['Term'].apply(lambda x: x.split(' (')[0])\n",
    "syngo['Threshold'] = 1\n",
    "syngo"
   ]
  },
  {
   "cell_type": "markdown",
   "metadata": {},
   "source": [
    "### Gene-Attribute Matrix"
   ]
  },
  {
   "cell_type": "code",
   "execution_count": null,
   "metadata": {},
   "outputs": [],
   "source": [
    "binaryMatrix = pd.crosstab(syngo['Gene'], syngo['Term'], values=syngo['Threshold'], aggfunc=max).replace(np.nan, 0)\n",
    "binaryMatrixT = binaryMatrix.T\n",
    "binaryMatrix.to_csv(f'{output_path}gene_attribute_matrix.txt.gz', sep='\\t', compression='gzip')\n",
    "binaryMatrix"
   ]
  },
  {
   "cell_type": "markdown",
   "metadata": {},
   "source": [
    "### Gene-Attribute Edge List"
   ]
  },
  {
   "cell_type": "code",
   "execution_count": null,
   "metadata": {},
   "outputs": [],
   "source": [
    "edgelist = syngo.copy()\n",
    "geneids = genes['ncbi_entrez_gene_id'].to_dict()\n",
    "edgelist['Gene ID'] = edgelist['Gene'].map(geneids)\n",
    "edgelist = edgelist[['Gene', 'Gene ID', 'Term', 'Term ID', 'Threshold']]\n",
    "edgelist"
   ]
  },
  {
   "cell_type": "markdown",
   "metadata": {},
   "source": [
    "### Gene List"
   ]
  },
  {
   "cell_type": "code",
   "execution_count": null,
   "metadata": {},
   "outputs": [],
   "source": [
    "genelist = edgelist[['Gene', 'Gene ID']].drop_duplicates().reset_index(drop=True)\n",
    "genelist.to_csv(f'{output_path}gene_list_terms.txt.gz', sep='\\t', compression='gzip')\n",
    "genelist"
   ]
  },
  {
   "cell_type": "markdown",
   "metadata": {},
   "source": [
    "### Attribute List"
   ]
  },
  {
   "cell_type": "code",
   "execution_count": null,
   "metadata": {},
   "outputs": [],
   "source": [
    "attributelist = edgelist[['Term', 'Term ID']].drop_duplicates().reset_index(drop=True)\n",
    "attributelist.to_csv(f'{output_path}attribute_list_entries.txt.gz', sep='\\t', compression='gzip')\n",
    "attributelist"
   ]
  },
  {
   "cell_type": "markdown",
   "metadata": {},
   "source": [
    "### Gene Set Library"
   ]
  },
  {
   "cell_type": "code",
   "execution_count": null,
   "metadata": {},
   "outputs": [],
   "source": [
    "with open(f'{output_path}gene_set_library_crisp.gmt', 'w') as f:\n",
    "    arr = binaryMatrix.reset_index(drop=True).to_numpy(dtype=np.int_)\n",
    "    attributes = binaryMatrix.columns\n",
    "    termids = syngo.set_index('Term')['Term ID'].to_dict()\n",
    "    domains = syngo.set_index('Term')['Term Domain'].to_dict()\n",
    "\n",
    "    w, h = arr.shape\n",
    "    for i in tqdm(range(h)):\n",
    "        if len([*binaryMatrix.index[arr[:, i] == 1]])>= 5:\n",
    "            print(attributes[i], termids[attributes[i]], *binaryMatrix.index[arr[:, i] == 1], sep='\\t', end='\\n', file=f)"
   ]
  },
  {
   "cell_type": "markdown",
   "metadata": {},
   "source": [
    "### Attribute Set Library"
   ]
  },
  {
   "cell_type": "code",
   "execution_count": null,
   "metadata": {},
   "outputs": [],
   "source": [
    "with open(output_path+'attribute_set_library_crisp.gmt', 'w') as f:\n",
    "    arr = binaryMatrixT.reset_index(drop=True).to_numpy(dtype=np.int_)\n",
    "    genes = binaryMatrixT.columns\n",
    "\n",
    "    w, h = arr.shape\n",
    "    for i in tqdm(range(h)):\n",
    "        if len([*binaryMatrixT.index[arr[:, i] == 1]])>= 5:\n",
    "            print(genes[i], *binaryMatrixT.index[arr[:, i] == 1], sep='\\t', end='\\n', file=f)"
   ]
  },
  {
   "cell_type": "markdown",
   "metadata": {},
   "source": [
    "### Gene Similarity Matrix"
   ]
  },
  {
   "cell_type": "code",
   "execution_count": null,
   "metadata": {},
   "outputs": [],
   "source": [
    "gene_similarity_matrix = dist.pdist(binaryMatrix.to_numpy(dtype=np.int_), 'cosine')\n",
    "gene_similarity_matrix = dist.squareform(gene_similarity_matrix)\n",
    "gene_similarity_matrix = 1 - gene_similarity_matrix\n",
    "\n",
    "gene_similarity_matrix = pd.DataFrame(data=gene_similarity_matrix, index=binaryMatrix.index, columns=binaryMatrix.index)\n",
    "gene_similarity_matrix.index.name = None\n",
    "gene_similarity_matrix.columns.name = None\n",
    "gene_similarity_matrix.to_csv(output_path+'gene_similarity_matrix_cosine.txt.gz', sep='\\t', compression='gzip')\n",
    "gene_similarity_matrix"
   ]
  },
  {
   "cell_type": "markdown",
   "metadata": {},
   "source": [
    "### Attribute Similarity Matrix"
   ]
  },
  {
   "cell_type": "code",
   "execution_count": null,
   "metadata": {},
   "outputs": [],
   "source": [
    "attribute_similarity_matrix = dist.pdist(binaryMatrixT.to_numpy(dtype=np.int_), 'cosine')\n",
    "attribute_similarity_matrix = dist.squareform(attribute_similarity_matrix)\n",
    "attribute_similarity_matrix = 1 - attribute_similarity_matrix\n",
    "\n",
    "attribute_similarity_matrix = pd.DataFrame(data=attribute_similarity_matrix, index=binaryMatrixT.index, columns=binaryMatrixT.index)\n",
    "attribute_similarity_matrix.index.name = None\n",
    "attribute_similarity_matrix.columns.name = None\n",
    "attribute_similarity_matrix.to_csv(output_path+'attribute_similarity_matrix_cosine.txt.gz', sep='\\t', compression='gzip')\n",
    "attribute_similarity_matrix"
   ]
  },
  {
   "cell_type": "markdown",
   "metadata": {},
   "source": [
    "### Knowledge Graaph Serialization"
   ]
  },
  {
   "cell_type": "code",
   "execution_count": null,
   "metadata": {},
   "outputs": [],
   "source": [
    "nodes = {}\n",
    "edges = []\n",
    "\n",
    "for gene in genelist.index:\n",
    "    gene = genelist.loc[gene]\n",
    "    nodes[int(gene['Gene ID'])] = {\n",
    "        \"type\":\"gene\",\n",
    "        \"properties\": {\n",
    "            \"id\":int(gene['Gene ID']),\n",
    "            \"label\":gene['Gene']\n",
    "        }}\n",
    "\n",
    "for term in attributelist.index:\n",
    "    term = attributelist.loc[term]\n",
    "    nodes[term['Term ID']] = {\n",
    "        \"type\": {'BP': 'biological process', 'CC':'cellular component'}[domains[term['Term']]],\n",
    "        \"properties\": {\n",
    "            \"label\":term['Term'],\n",
    "            \"id\":term['Term ID']\n",
    "        }}\n",
    "\n",
    "for edge in edgelist.index:\n",
    "    edge = edgelist.loc[edge]\n",
    "    edges.append({\n",
    "        \"source\": int(edge['Gene ID']),\n",
    "        \"relation\": {'BP':'participates in','CC':'contained in'}[domains[edge['Term']]],\n",
    "        \"target\": edge['Term ID'],\n",
    "        \"properties\":{\n",
    "            \"id\":str(edge['Gene ID'])+\":\"+edge['Term ID'],\n",
    "            \"source_id\":int(edge['Gene ID']),\n",
    "            \"source_label\":edge['Gene'],\n",
    "            \"target_id\":edge['Term ID'],\n",
    "            \"target_label\":edge['Term'],\n",
    "            \"directed\":True,\n",
    "            \"threshold\":int(edge['Threshold'])\n",
    "        }})"
   ]
  },
  {
   "cell_type": "code",
   "execution_count": null,
   "metadata": {},
   "outputs": [],
   "source": [
    "nodes"
   ]
  },
  {
   "cell_type": "code",
   "execution_count": null,
   "metadata": {},
   "outputs": [],
   "source": [
    "error"
   ]
  },
  {
   "cell_type": "markdown",
   "metadata": {},
   "source": [
    "### RDF"
   ]
  },
  {
   "cell_type": "code",
   "execution_count": null,
   "metadata": {},
   "outputs": [],
   "source": [
    "with open(f'{output_path}kg_serializations/syngo.rdf', 'w') as f:\n",
    "    print('@prefix gene: ncbi.nlm.nih.gov/gene/', file=f)\n",
    "    print('@prefix RO: purl.obolibrary.org/RO_', file=f)\n",
    "    print('@prefix GO: amigo.geneontology.org/amigo/term/GO:', file=f)\n",
    "    print('', file=f)\n",
    "    relations = {'biological process':'RO:0000056', 'cellular component':'RO:0001018'}\n",
    "    for edge in edges:\n",
    "        print(\n",
    "            'gene:'+str(edge['properties']['source_id']), \n",
    "            relations[nodes[edge['target']]['type']], \n",
    "            edge['properties']['target_id'].replace('_',':', 1), end=' .\\n', \n",
    "        file=f)"
   ]
  },
  {
   "cell_type": "markdown",
   "metadata": {},
   "source": [
    "### JSON"
   ]
  },
  {
   "cell_type": "code",
   "execution_count": null,
   "metadata": {},
   "outputs": [],
   "source": [
    "with open(f'{output_path}kg_serializations/syngo.json', 'w') as f:\n",
    "    serial = json.dump(\n",
    "        {\n",
    "            \"Version\":\"1\", \n",
    "            \"nodes\": nodes,\n",
    "            \"edges\": edges\n",
    "        }, indent=4, fp=f)"
   ]
  },
  {
   "cell_type": "markdown",
   "metadata": {},
   "source": [
    "### TSV"
   ]
  },
  {
   "cell_type": "markdown",
   "metadata": {},
   "source": [
    "#### Nodes"
   ]
  },
  {
   "cell_type": "code",
   "execution_count": null,
   "metadata": {},
   "outputs": [],
   "source": [
    "nodeframe = pd.DataFrame(nodes).T\n",
    "nodeframe['id'] = nodeframe['properties'].apply(lambda x: x['id'])\n",
    "nodeframe['label'] = nodeframe['properties'].apply(lambda x: x['label'])\n",
    "def namespace(nodeid):\n",
    "    nodeid = str(nodeid).split('_')[0]\n",
    "    if 'SYNGO' in nodeid:\n",
    "        return 'SynGO'\n",
    "    elif 'GO' in nodeid:\n",
    "        return 'GO'\n",
    "    return 'NCBI Entrez'\n",
    "nodeframe['namespace'] = nodeframe['id'].apply(namespace)\n",
    "nodeframe = nodeframe.get(['namespace', 'id', 'label']).reset_index(drop=True)\n",
    "nodeframe.to_csv(f'{output_path}kg_serializations/syngo_tsv/nodes.tsv', sep='\\t')\n",
    "nodeframe"
   ]
  },
  {
   "cell_type": "markdown",
   "metadata": {},
   "source": [
    "#### Edges"
   ]
  },
  {
   "cell_type": "code",
   "execution_count": null,
   "metadata": {},
   "outputs": [],
   "source": [
    "edgeframe = pd.DataFrame(edges)\n",
    "edgeframe['threshold'] = edgeframe['properties'].apply(lambda x: x['threshold'])\n",
    "edgeframe = edgeframe.get(['source', 'relation', 'target', 'threshold'])\n",
    "edgeframe.to_csv(f'{output_path}kg_serializations/syngo_tsv/edges.tsv', sep='\\t')\n",
    "edgeframe"
   ]
  },
  {
   "cell_type": "markdown",
   "metadata": {},
   "source": [
    "## Create Visualizations"
   ]
  },
  {
   "cell_type": "markdown",
   "metadata": {},
   "source": [
    "### Gene-Attribute Clustered Heat Map"
   ]
  },
  {
   "cell_type": "code",
   "execution_count": null,
   "metadata": {},
   "outputs": [],
   "source": [
    "sns.clustermap(binaryMatrix, cmap='seismic', center=0, figsize=(25,25))"
   ]
  },
  {
   "cell_type": "markdown",
   "metadata": {},
   "source": [
    "### Gene Similarity Clustered Heat Map"
   ]
  },
  {
   "cell_type": "code",
   "execution_count": null,
   "metadata": {},
   "outputs": [],
   "source": [
    "sns.clustermap(gene_similarity_matrix, cmap='seismic', center=0, figsize=(25,25))"
   ]
  },
  {
   "cell_type": "markdown",
   "metadata": {},
   "source": [
    "### Attribute Similarity Clustered Heat Map"
   ]
  },
  {
   "cell_type": "code",
   "execution_count": null,
   "metadata": {},
   "outputs": [],
   "source": [
    "sns.clustermap(attribute_similarity_matrix, cmap='seismic', center=0, figsize=(25,25))"
   ]
  },
  {
   "cell_type": "markdown",
   "metadata": {},
   "source": [
    "### UMAP"
   ]
  },
  {
   "cell_type": "code",
   "execution_count": null,
   "metadata": {},
   "outputs": [],
   "source": [
    "def load_gmt(file):\n",
    "    gmt = OrderedDict()\n",
    "    for line in file:\n",
    "        term, blank, *geneset = line.strip().split('\\t')\n",
    "        gmt[term] = ' '.join(set(geneset))\n",
    "    return gmt"
   ]
  },
  {
   "cell_type": "code",
   "execution_count": null,
   "metadata": {},
   "outputs": [],
   "source": [
    "libdict = load_gmt(open('downloads/gene_set_library_crisp.gmt', 'r'))\n",
    "scatterdir = 'images/'"
   ]
  },
  {
   "cell_type": "code",
   "execution_count": null,
   "metadata": {},
   "outputs": [],
   "source": [
    "def process_scatterplot(libdict, nneighbors=30, mindist=0.1, spread=1.0, maxdf=1.0, mindf=1):\n",
    "    print(\"\\tTF-IDF vectorizing gene set data...\")\n",
    "    vec = TfidfVectorizer(max_df=maxdf, min_df=mindf)\n",
    "    X = vec.fit_transform(libdict.values())\n",
    "    print(X.shape)\n",
    "    adata = anndata.AnnData(X)\n",
    "    adata.obs.index = libdict.keys()\n",
    "\n",
    "    print(\"\\tPerforming Leiden clustering...\")\n",
    "    ### the n_neighbors and min_dist parameters can be altered\n",
    "    sc.pp.neighbors(adata, n_neighbors=nneighbors, use_rep='X')\n",
    "    sc.tl.leiden(adata, resolution=1.0)\n",
    "    sc.tl.umap(adata, min_dist=mindist, spread=spread, random_state=42)\n",
    "\n",
    "    new_order = adata.obs.sort_values(by='leiden').index.tolist()\n",
    "    adata = adata[new_order, :]\n",
    "    adata.obs['leiden'] = 'Cluster ' + adata.obs['leiden'].astype('object')\n",
    "\n",
    "    df = pd.DataFrame(adata.obsm['X_umap'])\n",
    "    df.columns = ['x', 'y']\n",
    "\n",
    "    df['cluster'] = adata.obs['leiden'].values\n",
    "    df['term'] = adata.obs.index\n",
    "    df['genes'] = [libdict[l] for l in df['term']]\n",
    "\n",
    "    return df"
   ]
  },
  {
   "cell_type": "code",
   "execution_count": null,
   "metadata": {},
   "outputs": [],
   "source": [
    "def get_scatter_colors(df):\n",
    "    clusters = pd.unique(df['cluster']).tolist()\n",
    "    colors = list(Category20[20])[::2] + list(Category20[20])[1::2]\n",
    "    color_mapper = {clusters[i]: colors[i % 20] for i in range(len(clusters))}\n",
    "    return color_mapper\n",
    "\n",
    "def get_scatterplot(scatterdf):\n",
    "    df = scatterdf.copy()\n",
    "    color_mapper = get_scatter_colors(df)\n",
    "    df['color'] = df['cluster'].apply(lambda x: color_mapper[x])\n",
    "\n",
    "    hover_emb = HoverTool(name=\"df\", tooltips=\"\"\"\n",
    "        <div style=\"margin: 10\">\n",
    "            <div style=\"margin: 0 auto; width:300px;\">\n",
    "                <span style=\"font-size: 12px; font-weight: bold;\">Gene Set:</span>\n",
    "                <span style=\"font-size: 12px\">@gene_set</span>\n",
    "            <div style=\"margin: 0 auto; width:300px;\">\n",
    "                <span style=\"font-size: 12px; font-weight: bold;\">Coordinates:</span>\n",
    "                <span style=\"font-size: 12px\">(@x,@y)</span>\n",
    "            <div style=\"margin: 0 auto; width:300px;\">\n",
    "                <span style=\"font-size: 12px; font-weight: bold;\">Cluster:</span>\n",
    "                <span style=\"font-size: 12px\">@cluster</span>\n",
    "            </div>\n",
    "        </div>\n",
    "    \"\"\")\n",
    "    tools_emb = [hover_emb, 'pan', 'wheel_zoom', 'reset', 'save']\n",
    "\n",
    "    plot_emb = figure(\n",
    "        width=1000, \n",
    "        height=700, \n",
    "        tools=tools_emb\n",
    "    )\n",
    "\n",
    "    source = ColumnDataSource(\n",
    "        data=dict(\n",
    "            x = df['x'],\n",
    "            y = df['y'],\n",
    "            gene_set = df['term'],\n",
    "            cluster = df['cluster'],\n",
    "            colors = df['color'],\n",
    "            label = df['cluster']\n",
    "        )\n",
    "    )\n",
    "\n",
    "    # hide axis labels and grid lines\n",
    "    plot_emb.xaxis.major_tick_line_color = None\n",
    "    plot_emb.xaxis.minor_tick_line_color = None\n",
    "    plot_emb.yaxis.major_tick_line_color = None\n",
    "    plot_emb.yaxis.minor_tick_line_color = None\n",
    "    plot_emb.xaxis.major_label_text_font_size = '0pt'\n",
    "    plot_emb.yaxis.major_label_text_font_size = '0pt' \n",
    "\n",
    "    plot_emb.output_backend = \"svg\"    \n",
    "    \n",
    "    plot_emb.title = 'Gene Sets in the SynGO Synaptic Gene Annotations Library'\n",
    "    plot_emb.xaxis.axis_label = \"UMAP_1\"\n",
    "    plot_emb.yaxis.axis_label = \"UMAP_2\"\n",
    "    plot_emb.xaxis.axis_label_text_font_style = 'normal'\n",
    "    plot_emb.xaxis.axis_label_text_font_size = '18px'\n",
    "    plot_emb.yaxis.axis_label_text_font_size = '18px'\n",
    "    plot_emb.yaxis.axis_label_text_font_style = 'normal'\n",
    "    plot_emb.title.align = 'center'\n",
    "    plot_emb.title.text_font_size = '18px'\n",
    "    \n",
    "    s = plot_emb.scatter(\n",
    "        'x', \n",
    "        'y', \n",
    "        size = 4, \n",
    "        source = source, \n",
    "        color = 'colors'\n",
    "    )\n",
    "    \n",
    "    return plot_emb"
   ]
  },
  {
   "cell_type": "code",
   "execution_count": null,
   "metadata": {},
   "outputs": [],
   "source": [
    "## defaults: nneighbors=30, mindist=0.1, spread=1.0, maxdf=1.0, mindf=1\n",
    "scatter_df = process_scatterplot(libdict, nneighbors=5,mindist=0.01\n",
    "    ,spread=0.25, \n",
    "    #maxdf=1.0, \n",
    "    #mindf=36\n",
    ")\n",
    "\n",
    "# Display Scatter Plot\n",
    "plot = get_scatterplot(scatter_df)\n",
    "output_notebook()\n",
    "show(plot)"
   ]
  },
  {
   "cell_type": "code",
   "execution_count": null,
   "metadata": {},
   "outputs": [],
   "source": [
    "# save HTML if desired\n",
    "output_file(filename=f\"{scatterdir}umap.html\", title = 'Gene Sets in the SynGO Synaptic Gene Annotations Library')\n",
    "save(plot)"
   ]
  }
 ],
 "metadata": {
  "kernelspec": {
   "display_name": "Python 3.10.13 ('harmonizomeETL')",
   "language": "python",
   "name": "python3"
  },
  "language_info": {
   "codemirror_mode": {
    "name": "ipython",
    "version": 3
   },
   "file_extension": ".py",
   "mimetype": "text/x-python",
   "name": "python",
   "nbconvert_exporter": "python",
   "pygments_lexer": "ipython3",
   "version": "3.10.13"
  },
  "orig_nbformat": 4,
  "vscode": {
   "interpreter": {
    "hash": "3ad6724d56c4b72bd8e5b8da3c2e0dcf6d86fdd164f3c98d6d6a78c076afabab"
   }
  }
 },
 "nbformat": 4,
 "nbformat_minor": 2
}
