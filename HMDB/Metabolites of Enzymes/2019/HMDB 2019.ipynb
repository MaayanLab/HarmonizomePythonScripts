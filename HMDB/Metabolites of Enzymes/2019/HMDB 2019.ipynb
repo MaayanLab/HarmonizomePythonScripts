{
 "cells": [
  {
   "cell_type": "markdown",
   "metadata": {},
   "source": [
    "# The Human Metabolome Database (HMDB)"
   ]
  },
  {
   "cell_type": "markdown",
   "metadata": {},
   "source": [
    "Author: John Erol Evangelista<br/>\n",
    "Adapted from: https://github.com/MaayanLab/HarmonizomePythonScripts/blob/master/HMDB/HMDB.ipynb <br/>\n",
    "Date: 01-19 <br/>\n",
    "Data Source: http://www.hmdb.ca/ <br/>\n",
    "Notes: Used 2019 dataset and updated gene mapping values"
   ]
  },
  {
   "cell_type": "code",
   "execution_count": 1,
   "metadata": {},
   "outputs": [],
   "source": [
    "import sys, datetime, os\n",
    "import numpy as np\n",
    "import pandas as pd\n",
    "import importlib\n",
    "if \"/Users/maayan/sigsets/Harmonizome/HarmonizomePythonScripts\" not in sys.path:\n",
    "    sys.path.append(\"/Users/maayan/sigsets/Harmonizome/HarmonizomePythonScripts\")\n",
    "import utility_functions as uf\n",
    "import xmltodict\n",
    "import xml.etree.ElementTree as ET\n",
    "\n",
    "%matplotlib inline"
   ]
  },
  {
   "cell_type": "code",
   "execution_count": 434,
   "metadata": {},
   "outputs": [],
   "source": [
    "import scipy.spatial.distance as dist"
   ]
  },
  {
   "cell_type": "code",
   "execution_count": 475,
   "metadata": {},
   "outputs": [
    {
     "data": {
      "text/plain": [
       "<module 'utility_functions' from '/Users/maayan/sigsets/Harmonizome/HarmonizomePythonScripts/utility_functions.py'>"
      ]
     },
     "execution_count": 475,
     "metadata": {},
     "output_type": "execute_result"
    }
   ],
   "source": [
    "importlib.reload(uf)"
   ]
  },
  {
   "cell_type": "markdown",
   "metadata": {},
   "source": [
    "## Load XML file"
   ]
  },
  {
   "cell_type": "code",
   "execution_count": 3,
   "metadata": {},
   "outputs": [],
   "source": [
    "data_path = '/Users/maayan/sigsets/Harmonizome/Data/'\n",
    "with open(data_path + \"hmdb_metabolites.xml\", \"rb\") as fd:\n",
    "    d = xmltodict.parse(fd)"
   ]
  },
  {
   "cell_type": "code",
   "execution_count": 336,
   "metadata": {},
   "outputs": [],
   "source": [
    "a = [dict(x) for x in dict(d['hmdb'])['metabolite']]"
   ]
  },
  {
   "cell_type": "code",
   "execution_count": 337,
   "metadata": {},
   "outputs": [
    {
     "data": {
      "text/html": [
       "<div>\n",
       "<style scoped>\n",
       "    .dataframe tbody tr th:only-of-type {\n",
       "        vertical-align: middle;\n",
       "    }\n",
       "\n",
       "    .dataframe tbody tr th {\n",
       "        vertical-align: top;\n",
       "    }\n",
       "\n",
       "    .dataframe thead th {\n",
       "        text-align: right;\n",
       "    }\n",
       "</style>\n",
       "<table border=\"1\" class=\"dataframe\">\n",
       "  <thead>\n",
       "    <tr style=\"text-align: right;\">\n",
       "      <th></th>\n",
       "      <th>abnormal_concentrations</th>\n",
       "      <th>accession</th>\n",
       "      <th>average_molecular_weight</th>\n",
       "      <th>bigg_id</th>\n",
       "      <th>biocyc_id</th>\n",
       "      <th>biological_properties</th>\n",
       "      <th>biospecimen_locations</th>\n",
       "      <th>cas_registry_number</th>\n",
       "      <th>cellular_locations</th>\n",
       "      <th>chebi_id</th>\n",
       "      <th>...</th>\n",
       "      <th>state</th>\n",
       "      <th>status</th>\n",
       "      <th>synonyms</th>\n",
       "      <th>synthesis_reference</th>\n",
       "      <th>taxonomy</th>\n",
       "      <th>tissue_locations</th>\n",
       "      <th>traditional_iupac</th>\n",
       "      <th>update_date</th>\n",
       "      <th>version</th>\n",
       "      <th>wikipidia</th>\n",
       "    </tr>\n",
       "  </thead>\n",
       "  <tbody>\n",
       "    <tr>\n",
       "      <th>0</th>\n",
       "      <td>{'concentration': [{'biospecimen': 'Blood', 'c...</td>\n",
       "      <td>HMDB0000001</td>\n",
       "      <td>169.1811</td>\n",
       "      <td>None</td>\n",
       "      <td>CPD-1823</td>\n",
       "      <td>NaN</td>\n",
       "      <td>{'biospecimen': ['Blood', 'Cerebrospinal Fluid...</td>\n",
       "      <td>332-80-9</td>\n",
       "      <td>{'cellular': 'Cytoplasm'}</td>\n",
       "      <td>50599</td>\n",
       "      <td>...</td>\n",
       "      <td>Solid</td>\n",
       "      <td>quantified</td>\n",
       "      <td>{'synonym': ['(2S)-2-amino-3-(1-Methyl-1H-imid...</td>\n",
       "      <td>Jain, Rahul; Cohen, Louis A. Regiospecific alk...</td>\n",
       "      <td>{'description': 'This compound belongs to the ...</td>\n",
       "      <td>{'tissue': ['Muscle', 'Skeletal Muscle']}</td>\n",
       "      <td>1 methylhistidine</td>\n",
       "      <td>2018-05-20 20:24:02 UTC</td>\n",
       "      <td>4.0</td>\n",
       "      <td>None</td>\n",
       "    </tr>\n",
       "    <tr>\n",
       "      <th>1</th>\n",
       "      <td>{'concentration': [{'biospecimen': 'Blood', 'c...</td>\n",
       "      <td>HMDB0000002</td>\n",
       "      <td>74.1249</td>\n",
       "      <td>36543</td>\n",
       "      <td>CPD-313</td>\n",
       "      <td>NaN</td>\n",
       "      <td>{'biospecimen': ['Blood', 'Feces', 'Urine']}</td>\n",
       "      <td>109-76-2</td>\n",
       "      <td>{'cellular': 'Cytoplasm'}</td>\n",
       "      <td>15725</td>\n",
       "      <td>...</td>\n",
       "      <td>Liquid</td>\n",
       "      <td>quantified</td>\n",
       "      <td>{'synonym': ['1,3-Propanediamine', '1,3-Propyl...</td>\n",
       "      <td>Takayanagi, Yasuyuki; Oohinata, Takahiro.  Pre...</td>\n",
       "      <td>{'description': 'This compound belongs to the ...</td>\n",
       "      <td>None</td>\n",
       "      <td>α,ω-propanediamine</td>\n",
       "      <td>2018-05-20 06:57:20 UTC</td>\n",
       "      <td>4.0</td>\n",
       "      <td>None</td>\n",
       "    </tr>\n",
       "    <tr>\n",
       "      <th>2</th>\n",
       "      <td>{'concentration': {'biospecimen': 'Urine', 'co...</td>\n",
       "      <td>HMDB0000005</td>\n",
       "      <td>102.0886</td>\n",
       "      <td>33889</td>\n",
       "      <td>2-OXOBUTANOATE</td>\n",
       "      <td>NaN</td>\n",
       "      <td>{'biospecimen': ['Blood', 'Cerebrospinal Fluid...</td>\n",
       "      <td>600-18-0</td>\n",
       "      <td>{'cellular': 'Cytoplasm'}</td>\n",
       "      <td>30831</td>\n",
       "      <td>...</td>\n",
       "      <td>Solid</td>\n",
       "      <td>quantified</td>\n",
       "      <td>{'synonym': ['2-Ketobutanoic acid', '2-Oxobuty...</td>\n",
       "      <td>Figge, Rainer; Lux, Fabien; Raynaud, Celine; S...</td>\n",
       "      <td>{'description': 'This compound belongs to the ...</td>\n",
       "      <td>None</td>\n",
       "      <td>2-oxobutanoic acid</td>\n",
       "      <td>2018-05-20 02:21:35 UTC</td>\n",
       "      <td>4.0</td>\n",
       "      <td>Alpha-ketobutyric_acid</td>\n",
       "    </tr>\n",
       "    <tr>\n",
       "      <th>3</th>\n",
       "      <td>{'concentration': [{'biospecimen': 'Blood', 'c...</td>\n",
       "      <td>HMDB0000008</td>\n",
       "      <td>104.1045</td>\n",
       "      <td>47130</td>\n",
       "      <td>CPD-3564</td>\n",
       "      <td>NaN</td>\n",
       "      <td>{'biospecimen': ['Blood', 'Cerebrospinal Fluid...</td>\n",
       "      <td>600-15-7</td>\n",
       "      <td>{'cellular': ['Cytoplasm', 'Extracellular']}</td>\n",
       "      <td>1148</td>\n",
       "      <td>...</td>\n",
       "      <td>Solid</td>\n",
       "      <td>quantified</td>\n",
       "      <td>{'synonym': ['2-Hydroxybutanoic acid', 'alpha-...</td>\n",
       "      <td>Carlier, J. P.; Henry, C.; Lorin, V.; Rouffign...</td>\n",
       "      <td>{'description': 'This compound belongs to the ...</td>\n",
       "      <td>{'tissue': 'Prostate'}</td>\n",
       "      <td>α-hydroxybutyric acid</td>\n",
       "      <td>2018-05-20 20:40:32 UTC</td>\n",
       "      <td>4.0</td>\n",
       "      <td>2-Hydroxybutyric acid</td>\n",
       "    </tr>\n",
       "    <tr>\n",
       "      <th>4</th>\n",
       "      <td>{'concentration': {'biospecimen': 'Urine', 'co...</td>\n",
       "      <td>HMDB0000010</td>\n",
       "      <td>300.3921</td>\n",
       "      <td>None</td>\n",
       "      <td>None</td>\n",
       "      <td>NaN</td>\n",
       "      <td>{'biospecimen': ['Blood', 'Urine']}</td>\n",
       "      <td>362-08-3</td>\n",
       "      <td>{'cellular': ['Extracellular', 'Membrane']}</td>\n",
       "      <td>1189</td>\n",
       "      <td>...</td>\n",
       "      <td>Solid</td>\n",
       "      <td>quantified</td>\n",
       "      <td>{'synonym': ['2-(8S,9S,13S,14S)-3-Hydroxy-2-me...</td>\n",
       "      <td>Stoelwinder, Johannes; Moers, Nicolaas Elisabe...</td>\n",
       "      <td>{'description': 'This compound belongs to the ...</td>\n",
       "      <td>None</td>\n",
       "      <td>2-methoxyestrone</td>\n",
       "      <td>2018-05-25 18:22:39 UTC</td>\n",
       "      <td>4.0</td>\n",
       "      <td>None</td>\n",
       "    </tr>\n",
       "  </tbody>\n",
       "</table>\n",
       "<p>5 rows × 54 columns</p>\n",
       "</div>"
      ],
      "text/plain": [
       "                             abnormal_concentrations    accession  \\\n",
       "0  {'concentration': [{'biospecimen': 'Blood', 'c...  HMDB0000001   \n",
       "1  {'concentration': [{'biospecimen': 'Blood', 'c...  HMDB0000002   \n",
       "2  {'concentration': {'biospecimen': 'Urine', 'co...  HMDB0000005   \n",
       "3  {'concentration': [{'biospecimen': 'Blood', 'c...  HMDB0000008   \n",
       "4  {'concentration': {'biospecimen': 'Urine', 'co...  HMDB0000010   \n",
       "\n",
       "  average_molecular_weight bigg_id       biocyc_id biological_properties  \\\n",
       "0                 169.1811    None        CPD-1823                   NaN   \n",
       "1                  74.1249   36543         CPD-313                   NaN   \n",
       "2                 102.0886   33889  2-OXOBUTANOATE                   NaN   \n",
       "3                 104.1045   47130        CPD-3564                   NaN   \n",
       "4                 300.3921    None            None                   NaN   \n",
       "\n",
       "                               biospecimen_locations cas_registry_number  \\\n",
       "0  {'biospecimen': ['Blood', 'Cerebrospinal Fluid...            332-80-9   \n",
       "1       {'biospecimen': ['Blood', 'Feces', 'Urine']}            109-76-2   \n",
       "2  {'biospecimen': ['Blood', 'Cerebrospinal Fluid...            600-18-0   \n",
       "3  {'biospecimen': ['Blood', 'Cerebrospinal Fluid...            600-15-7   \n",
       "4                {'biospecimen': ['Blood', 'Urine']}            362-08-3   \n",
       "\n",
       "                             cellular_locations chebi_id  \\\n",
       "0                     {'cellular': 'Cytoplasm'}    50599   \n",
       "1                     {'cellular': 'Cytoplasm'}    15725   \n",
       "2                     {'cellular': 'Cytoplasm'}    30831   \n",
       "3  {'cellular': ['Cytoplasm', 'Extracellular']}     1148   \n",
       "4   {'cellular': ['Extracellular', 'Membrane']}     1189   \n",
       "\n",
       "            ...             state      status  \\\n",
       "0           ...             Solid  quantified   \n",
       "1           ...            Liquid  quantified   \n",
       "2           ...             Solid  quantified   \n",
       "3           ...             Solid  quantified   \n",
       "4           ...             Solid  quantified   \n",
       "\n",
       "                                            synonyms  \\\n",
       "0  {'synonym': ['(2S)-2-amino-3-(1-Methyl-1H-imid...   \n",
       "1  {'synonym': ['1,3-Propanediamine', '1,3-Propyl...   \n",
       "2  {'synonym': ['2-Ketobutanoic acid', '2-Oxobuty...   \n",
       "3  {'synonym': ['2-Hydroxybutanoic acid', 'alpha-...   \n",
       "4  {'synonym': ['2-(8S,9S,13S,14S)-3-Hydroxy-2-me...   \n",
       "\n",
       "                                 synthesis_reference  \\\n",
       "0  Jain, Rahul; Cohen, Louis A. Regiospecific alk...   \n",
       "1  Takayanagi, Yasuyuki; Oohinata, Takahiro.  Pre...   \n",
       "2  Figge, Rainer; Lux, Fabien; Raynaud, Celine; S...   \n",
       "3  Carlier, J. P.; Henry, C.; Lorin, V.; Rouffign...   \n",
       "4  Stoelwinder, Johannes; Moers, Nicolaas Elisabe...   \n",
       "\n",
       "                                            taxonomy  \\\n",
       "0  {'description': 'This compound belongs to the ...   \n",
       "1  {'description': 'This compound belongs to the ...   \n",
       "2  {'description': 'This compound belongs to the ...   \n",
       "3  {'description': 'This compound belongs to the ...   \n",
       "4  {'description': 'This compound belongs to the ...   \n",
       "\n",
       "                            tissue_locations      traditional_iupac  \\\n",
       "0  {'tissue': ['Muscle', 'Skeletal Muscle']}      1 methylhistidine   \n",
       "1                                       None     α,ω-propanediamine   \n",
       "2                                       None     2-oxobutanoic acid   \n",
       "3                     {'tissue': 'Prostate'}  α-hydroxybutyric acid   \n",
       "4                                       None       2-methoxyestrone   \n",
       "\n",
       "               update_date version               wikipidia  \n",
       "0  2018-05-20 20:24:02 UTC     4.0                    None  \n",
       "1  2018-05-20 06:57:20 UTC     4.0                    None  \n",
       "2  2018-05-20 02:21:35 UTC     4.0  Alpha-ketobutyric_acid  \n",
       "3  2018-05-20 20:40:32 UTC     4.0   2-Hydroxybutyric acid  \n",
       "4  2018-05-25 18:22:39 UTC     4.0                    None  \n",
       "\n",
       "[5 rows x 54 columns]"
      ]
     },
     "execution_count": 337,
     "metadata": {},
     "output_type": "execute_result"
    }
   ],
   "source": [
    "df = pd.DataFrame.from_records(a)\n",
    "df.head()"
   ]
  },
  {
   "cell_type": "code",
   "execution_count": 338,
   "metadata": {},
   "outputs": [
    {
     "data": {
      "text/plain": [
       "(114100, 54)"
      ]
     },
     "execution_count": 338,
     "metadata": {},
     "output_type": "execute_result"
    }
   ],
   "source": [
    "df.shape"
   ]
  },
  {
   "cell_type": "code",
   "execution_count": 339,
   "metadata": {},
   "outputs": [
    {
     "data": {
      "text/html": [
       "<div>\n",
       "<style scoped>\n",
       "    .dataframe tbody tr th:only-of-type {\n",
       "        vertical-align: middle;\n",
       "    }\n",
       "\n",
       "    .dataframe tbody tr th {\n",
       "        vertical-align: top;\n",
       "    }\n",
       "\n",
       "    .dataframe thead th {\n",
       "        text-align: right;\n",
       "    }\n",
       "</style>\n",
       "<table border=\"1\" class=\"dataframe\">\n",
       "  <thead>\n",
       "    <tr style=\"text-align: right;\">\n",
       "      <th></th>\n",
       "      <th>name</th>\n",
       "      <th>protein_associations</th>\n",
       "    </tr>\n",
       "  </thead>\n",
       "  <tbody>\n",
       "    <tr>\n",
       "      <th>0</th>\n",
       "      <td>1-Methylhistidine</td>\n",
       "      <td>{'protein': [{'protein_accession': 'HMDBP00473...</td>\n",
       "    </tr>\n",
       "    <tr>\n",
       "      <th>1</th>\n",
       "      <td>1,3-Diaminopropane</td>\n",
       "      <td>{'protein': [{'protein_accession': 'HMDBP00217...</td>\n",
       "    </tr>\n",
       "    <tr>\n",
       "      <th>2</th>\n",
       "      <td>2-Ketobutyric acid</td>\n",
       "      <td>{'protein': [{'protein_accession': 'HMDBP00012...</td>\n",
       "    </tr>\n",
       "    <tr>\n",
       "      <th>3</th>\n",
       "      <td>2-Hydroxybutyric acid</td>\n",
       "      <td>{'protein': [{'protein_accession': 'HMDBP00054...</td>\n",
       "    </tr>\n",
       "    <tr>\n",
       "      <th>4</th>\n",
       "      <td>2-Methoxyestrone</td>\n",
       "      <td>{'protein': [{'protein_accession': 'HMDBP00272...</td>\n",
       "    </tr>\n",
       "  </tbody>\n",
       "</table>\n",
       "</div>"
      ],
      "text/plain": [
       "                    name                               protein_associations\n",
       "0      1-Methylhistidine  {'protein': [{'protein_accession': 'HMDBP00473...\n",
       "1     1,3-Diaminopropane  {'protein': [{'protein_accession': 'HMDBP00217...\n",
       "2     2-Ketobutyric acid  {'protein': [{'protein_accession': 'HMDBP00012...\n",
       "3  2-Hydroxybutyric acid  {'protein': [{'protein_accession': 'HMDBP00054...\n",
       "4       2-Methoxyestrone  {'protein': [{'protein_accession': 'HMDBP00272..."
      ]
     },
     "execution_count": 339,
     "metadata": {},
     "output_type": "execute_result"
    }
   ],
   "source": [
    "df = df[['name', 'protein_associations']]\n",
    "df.head()"
   ]
  },
  {
   "cell_type": "code",
   "execution_count": 366,
   "metadata": {},
   "outputs": [
    {
     "data": {
      "text/plain": [
       "name                    CPA(18:1(11Z)/0:0)\n",
       "protein_associations                  None\n",
       "Name: 3039, dtype: object"
      ]
     },
     "execution_count": 366,
     "metadata": {},
     "output_type": "execute_result"
    }
   ],
   "source": [
    "df.loc[3039]"
   ]
  },
  {
   "cell_type": "code",
   "execution_count": 367,
   "metadata": {},
   "outputs": [],
   "source": [
    "gene_set = set([])\n",
    "for i, index in enumerate(df.index):\n",
    "    if df.loc[index]['protein_associations']:\n",
    "        proteins = df.loc[index]['protein_associations']['protein']\n",
    "        if isinstance(proteins, list):\n",
    "            for j in proteins:\n",
    "                gene_set.add(j[\"gene_name\"])\n",
    "        else:\n",
    "            gene_set.add(proteins['gene_name'])"
   ]
  },
  {
   "cell_type": "code",
   "execution_count": 368,
   "metadata": {},
   "outputs": [
    {
     "data": {
      "text/plain": [
       "5402"
      ]
     },
     "execution_count": 368,
     "metadata": {},
     "output_type": "execute_result"
    }
   ],
   "source": [
    "len(gene_set)"
   ]
  },
  {
   "cell_type": "code",
   "execution_count": 373,
   "metadata": {},
   "outputs": [
    {
     "name": "stdout",
     "output_type": "stream",
     "text": [
      "Progress: 99%  114001 Out of 114100   \r"
     ]
    }
   ],
   "source": [
    "df_interactions = pd.DataFrame()\n",
    "\n",
    "for i, index in enumerate(df.index):\n",
    "    \n",
    "    lst2 = []\n",
    "    \n",
    "    progressPercent = ((i+1)/len(df.index))*100\n",
    "\n",
    "    if i%100 == 0:\n",
    "        sys.stdout.write(\"Progress: %d%%  %d Out of %d   \\r\" % (progressPercent, (i+1), len(df.index)))\n",
    "        sys.stdout.flush()\n",
    "    if df.loc[index]['protein_associations']:\n",
    "        if isinstance(df.loc[index]['protein_associations']['protein'], list):\n",
    "            for j in range(0, len(df.loc[index]['protein_associations']['protein'])):\n",
    "                lst2.append(df.loc[index]['protein_associations']['protein'][j]['gene_name'])\n",
    "        else:\n",
    "            lst2.append(df.loc[index]['protein_associations']['protein']['gene_name'])\n",
    "        lst1 = [df.loc[index]['name']]*(len(lst2))\n",
    "        temp = pd.DataFrame()\n",
    "        temp['Metabolite'] = lst1\n",
    "        temp['Gene'] = lst2\n",
    "        df_interactions = pd.concat([df_interactions, temp])"
   ]
  },
  {
   "cell_type": "code",
   "execution_count": 375,
   "metadata": {},
   "outputs": [
    {
     "data": {
      "text/html": [
       "<div>\n",
       "<style scoped>\n",
       "    .dataframe tbody tr th:only-of-type {\n",
       "        vertical-align: middle;\n",
       "    }\n",
       "\n",
       "    .dataframe tbody tr th {\n",
       "        vertical-align: top;\n",
       "    }\n",
       "\n",
       "    .dataframe thead th {\n",
       "        text-align: right;\n",
       "    }\n",
       "</style>\n",
       "<table border=\"1\" class=\"dataframe\">\n",
       "  <thead>\n",
       "    <tr style=\"text-align: right;\">\n",
       "      <th></th>\n",
       "      <th>Metabolite</th>\n",
       "      <th>Gene</th>\n",
       "    </tr>\n",
       "  </thead>\n",
       "  <tbody>\n",
       "    <tr>\n",
       "      <th>0</th>\n",
       "      <td>1-Methylhistidine</td>\n",
       "      <td>CNDP1</td>\n",
       "    </tr>\n",
       "    <tr>\n",
       "      <th>1</th>\n",
       "      <td>1-Methylhistidine</td>\n",
       "      <td>PRMT3</td>\n",
       "    </tr>\n",
       "    <tr>\n",
       "      <th>0</th>\n",
       "      <td>1,3-Diaminopropane</td>\n",
       "      <td>SMS</td>\n",
       "    </tr>\n",
       "    <tr>\n",
       "      <th>1</th>\n",
       "      <td>1,3-Diaminopropane</td>\n",
       "      <td>DHPS</td>\n",
       "    </tr>\n",
       "    <tr>\n",
       "      <th>2</th>\n",
       "      <td>1,3-Diaminopropane</td>\n",
       "      <td>ABP1</td>\n",
       "    </tr>\n",
       "  </tbody>\n",
       "</table>\n",
       "</div>"
      ],
      "text/plain": [
       "           Metabolite   Gene\n",
       "0   1-Methylhistidine  CNDP1\n",
       "1   1-Methylhistidine  PRMT3\n",
       "0  1,3-Diaminopropane    SMS\n",
       "1  1,3-Diaminopropane   DHPS\n",
       "2  1,3-Diaminopropane   ABP1"
      ]
     },
     "execution_count": 375,
     "metadata": {},
     "output_type": "execute_result"
    }
   ],
   "source": [
    "df_interactions.head()"
   ]
  },
  {
   "cell_type": "code",
   "execution_count": 376,
   "metadata": {},
   "outputs": [
    {
     "data": {
      "text/plain": [
       "(865701, 2)"
      ]
     },
     "execution_count": 376,
     "metadata": {},
     "output_type": "execute_result"
    }
   ],
   "source": [
    "df_interactions.shape"
   ]
  },
  {
   "cell_type": "code",
   "execution_count": 377,
   "metadata": {},
   "outputs": [
    {
     "data": {
      "text/plain": [
       "5402"
      ]
     },
     "execution_count": 377,
     "metadata": {},
     "output_type": "execute_result"
    }
   ],
   "source": [
    "len(set(df_interactions[\"Gene\"]))"
   ]
  },
  {
   "cell_type": "code",
   "execution_count": 378,
   "metadata": {},
   "outputs": [],
   "source": [
    "df_interactions.reset_index(inplace=True)"
   ]
  },
  {
   "cell_type": "code",
   "execution_count": 379,
   "metadata": {},
   "outputs": [],
   "source": [
    "df_interactions.drop('index', axis=1, inplace=True)"
   ]
  },
  {
   "cell_type": "code",
   "execution_count": 380,
   "metadata": {},
   "outputs": [
    {
     "data": {
      "text/html": [
       "<div>\n",
       "<style scoped>\n",
       "    .dataframe tbody tr th:only-of-type {\n",
       "        vertical-align: middle;\n",
       "    }\n",
       "\n",
       "    .dataframe tbody tr th {\n",
       "        vertical-align: top;\n",
       "    }\n",
       "\n",
       "    .dataframe thead th {\n",
       "        text-align: right;\n",
       "    }\n",
       "</style>\n",
       "<table border=\"1\" class=\"dataframe\">\n",
       "  <thead>\n",
       "    <tr style=\"text-align: right;\">\n",
       "      <th></th>\n",
       "      <th>Metabolite</th>\n",
       "      <th>Gene</th>\n",
       "    </tr>\n",
       "  </thead>\n",
       "  <tbody>\n",
       "    <tr>\n",
       "      <th>0</th>\n",
       "      <td>1-Methylhistidine</td>\n",
       "      <td>CNDP1</td>\n",
       "    </tr>\n",
       "    <tr>\n",
       "      <th>1</th>\n",
       "      <td>1-Methylhistidine</td>\n",
       "      <td>PRMT3</td>\n",
       "    </tr>\n",
       "    <tr>\n",
       "      <th>2</th>\n",
       "      <td>1,3-Diaminopropane</td>\n",
       "      <td>SMS</td>\n",
       "    </tr>\n",
       "    <tr>\n",
       "      <th>3</th>\n",
       "      <td>1,3-Diaminopropane</td>\n",
       "      <td>DHPS</td>\n",
       "    </tr>\n",
       "    <tr>\n",
       "      <th>4</th>\n",
       "      <td>1,3-Diaminopropane</td>\n",
       "      <td>ABP1</td>\n",
       "    </tr>\n",
       "  </tbody>\n",
       "</table>\n",
       "</div>"
      ],
      "text/plain": [
       "           Metabolite   Gene\n",
       "0   1-Methylhistidine  CNDP1\n",
       "1   1-Methylhistidine  PRMT3\n",
       "2  1,3-Diaminopropane    SMS\n",
       "3  1,3-Diaminopropane   DHPS\n",
       "4  1,3-Diaminopropane   ABP1"
      ]
     },
     "execution_count": 380,
     "metadata": {},
     "output_type": "execute_result"
    }
   ],
   "source": [
    "df_interactions.head()"
   ]
  },
  {
   "cell_type": "code",
   "execution_count": 381,
   "metadata": {},
   "outputs": [],
   "source": [
    "df_interactions.drop_duplicates(inplace=True)"
   ]
  },
  {
   "cell_type": "code",
   "execution_count": 382,
   "metadata": {},
   "outputs": [
    {
     "data": {
      "text/plain": [
       "(856563, 2)"
      ]
     },
     "execution_count": 382,
     "metadata": {},
     "output_type": "execute_result"
    }
   ],
   "source": [
    "df_interactions.shape"
   ]
  },
  {
   "cell_type": "markdown",
   "metadata": {},
   "source": [
    "## Map Gene Symbols To Up-to-date Gene Symbols"
   ]
  },
  {
   "cell_type": "code",
   "execution_count": 383,
   "metadata": {},
   "outputs": [],
   "source": [
    "df_interactions.set_index('Gene', inplace=True)"
   ]
  },
  {
   "cell_type": "code",
   "execution_count": 384,
   "metadata": {},
   "outputs": [
    {
     "data": {
      "text/html": [
       "<div>\n",
       "<style scoped>\n",
       "    .dataframe tbody tr th:only-of-type {\n",
       "        vertical-align: middle;\n",
       "    }\n",
       "\n",
       "    .dataframe tbody tr th {\n",
       "        vertical-align: top;\n",
       "    }\n",
       "\n",
       "    .dataframe thead th {\n",
       "        text-align: right;\n",
       "    }\n",
       "</style>\n",
       "<table border=\"1\" class=\"dataframe\">\n",
       "  <thead>\n",
       "    <tr style=\"text-align: right;\">\n",
       "      <th></th>\n",
       "      <th>Metabolite</th>\n",
       "    </tr>\n",
       "    <tr>\n",
       "      <th>Gene</th>\n",
       "      <th></th>\n",
       "    </tr>\n",
       "  </thead>\n",
       "  <tbody>\n",
       "    <tr>\n",
       "      <th>CNDP1</th>\n",
       "      <td>1-Methylhistidine</td>\n",
       "    </tr>\n",
       "    <tr>\n",
       "      <th>PRMT3</th>\n",
       "      <td>1-Methylhistidine</td>\n",
       "    </tr>\n",
       "    <tr>\n",
       "      <th>SMS</th>\n",
       "      <td>1,3-Diaminopropane</td>\n",
       "    </tr>\n",
       "    <tr>\n",
       "      <th>DHPS</th>\n",
       "      <td>1,3-Diaminopropane</td>\n",
       "    </tr>\n",
       "    <tr>\n",
       "      <th>ABP1</th>\n",
       "      <td>1,3-Diaminopropane</td>\n",
       "    </tr>\n",
       "  </tbody>\n",
       "</table>\n",
       "</div>"
      ],
      "text/plain": [
       "               Metabolite\n",
       "Gene                     \n",
       "CNDP1   1-Methylhistidine\n",
       "PRMT3   1-Methylhistidine\n",
       "SMS    1,3-Diaminopropane\n",
       "DHPS   1,3-Diaminopropane\n",
       "ABP1   1,3-Diaminopropane"
      ]
     },
     "execution_count": 384,
     "metadata": {},
     "output_type": "execute_result"
    }
   ],
   "source": [
    "df_interactions.head()"
   ]
  },
  {
   "cell_type": "code",
   "execution_count": 385,
   "metadata": {},
   "outputs": [
    {
     "name": "stdout",
     "output_type": "stream",
     "text": [
      "Progress: 99%  856001 Out of 856563   \r"
     ]
    }
   ],
   "source": [
    "uf.mapgenesymbols_updated(df_interactions)"
   ]
  },
  {
   "cell_type": "code",
   "execution_count": 386,
   "metadata": {},
   "outputs": [
    {
     "data": {
      "text/html": [
       "<div>\n",
       "<style scoped>\n",
       "    .dataframe tbody tr th:only-of-type {\n",
       "        vertical-align: middle;\n",
       "    }\n",
       "\n",
       "    .dataframe tbody tr th {\n",
       "        vertical-align: top;\n",
       "    }\n",
       "\n",
       "    .dataframe thead th {\n",
       "        text-align: right;\n",
       "    }\n",
       "</style>\n",
       "<table border=\"1\" class=\"dataframe\">\n",
       "  <thead>\n",
       "    <tr style=\"text-align: right;\">\n",
       "      <th></th>\n",
       "      <th>Metabolite</th>\n",
       "    </tr>\n",
       "    <tr>\n",
       "      <th>Gene</th>\n",
       "      <th></th>\n",
       "    </tr>\n",
       "  </thead>\n",
       "  <tbody>\n",
       "    <tr>\n",
       "      <th>CNDP1</th>\n",
       "      <td>1-Methylhistidine</td>\n",
       "    </tr>\n",
       "    <tr>\n",
       "      <th>PRMT3</th>\n",
       "      <td>1-Methylhistidine</td>\n",
       "    </tr>\n",
       "    <tr>\n",
       "      <th>SMS</th>\n",
       "      <td>1,3-Diaminopropane</td>\n",
       "    </tr>\n",
       "    <tr>\n",
       "      <th>DHPS</th>\n",
       "      <td>1,3-Diaminopropane</td>\n",
       "    </tr>\n",
       "    <tr>\n",
       "      <th>AOC1</th>\n",
       "      <td>1,3-Diaminopropane</td>\n",
       "    </tr>\n",
       "  </tbody>\n",
       "</table>\n",
       "</div>"
      ],
      "text/plain": [
       "               Metabolite\n",
       "Gene                     \n",
       "CNDP1   1-Methylhistidine\n",
       "PRMT3   1-Methylhistidine\n",
       "SMS    1,3-Diaminopropane\n",
       "DHPS   1,3-Diaminopropane\n",
       "AOC1   1,3-Diaminopropane"
      ]
     },
     "execution_count": 386,
     "metadata": {},
     "output_type": "execute_result"
    }
   ],
   "source": [
    "df_interactions.head()"
   ]
  },
  {
   "cell_type": "code",
   "execution_count": 387,
   "metadata": {},
   "outputs": [
    {
     "data": {
      "text/plain": [
       "(851232, 1)"
      ]
     },
     "execution_count": 387,
     "metadata": {},
     "output_type": "execute_result"
    }
   ],
   "source": [
    "df_interactions.shape"
   ]
  },
  {
   "cell_type": "markdown",
   "metadata": {},
   "source": [
    "## Remove Duplicates"
   ]
  },
  {
   "cell_type": "code",
   "execution_count": 388,
   "metadata": {},
   "outputs": [
    {
     "data": {
      "text/plain": [
       "(836222, 2)"
      ]
     },
     "execution_count": 388,
     "metadata": {},
     "output_type": "execute_result"
    }
   ],
   "source": [
    "df_interactions.reset_index(inplace=True)\n",
    "df_interactions.drop_duplicates(inplace=True)\n",
    "df_interactions.shape"
   ]
  },
  {
   "cell_type": "markdown",
   "metadata": {},
   "source": [
    "## Create Binary Matrix"
   ]
  },
  {
   "cell_type": "code",
   "execution_count": 389,
   "metadata": {},
   "outputs": [
    {
     "name": "stdout",
     "output_type": "stream",
     "text": [
      "Progress: 100%  5263 Out of 5263   \r"
     ]
    }
   ],
   "source": [
    "binary_matrix = uf.createBinaryMatrix(df_interactions)"
   ]
  },
  {
   "cell_type": "code",
   "execution_count": 390,
   "metadata": {},
   "outputs": [
    {
     "data": {
      "text/html": [
       "<div>\n",
       "<style scoped>\n",
       "    .dataframe tbody tr th:only-of-type {\n",
       "        vertical-align: middle;\n",
       "    }\n",
       "\n",
       "    .dataframe tbody tr th {\n",
       "        vertical-align: top;\n",
       "    }\n",
       "\n",
       "    .dataframe thead th {\n",
       "        text-align: right;\n",
       "    }\n",
       "</style>\n",
       "<table border=\"1\" class=\"dataframe\">\n",
       "  <thead>\n",
       "    <tr style=\"text-align: right;\">\n",
       "      <th></th>\n",
       "      <th>Selenomethionine</th>\n",
       "      <th>TG(22:0/22:1(13Z)/o-18:0)</th>\n",
       "      <th>PC(22:2(13Z,16Z)/22:2(13Z,16Z))</th>\n",
       "      <th>TG(20:0/15:0/24:1(15Z))</th>\n",
       "      <th>TG(20:2n6/24:0/20:2n6)</th>\n",
       "      <th>TG(15:0/20:2n6/18:3(6Z,9Z,12Z))</th>\n",
       "      <th>PE(22:0/18:0)</th>\n",
       "      <th>TG(20:4(5Z,8Z,11Z,14Z)/24:1(15Z)/20:4(8Z,11Z,14Z,17Z))</th>\n",
       "      <th>TG(20:0/18:1(11Z)/24:0)</th>\n",
       "      <th>Tolbutamide</th>\n",
       "      <th>...</th>\n",
       "      <th>TG(20:3(5Z,8Z,11Z)/18:3(9Z,12Z,15Z)/22:5(4Z,7Z,10Z,13Z,16Z))</th>\n",
       "      <th>Ganglioside GQ1c (d18:1/16:0)</th>\n",
       "      <th>TG(14:0/18:1(11Z)/18:3(6Z,9Z,12Z))</th>\n",
       "      <th>PC(o-18:0/22:6(4Z,7Z,10Z,13Z,16Z,19Z))</th>\n",
       "      <th>TG(20:3n6/20:5(5Z,8Z,11Z,14Z,17Z)/20:5(5Z,8Z,11Z,14Z,17Z))</th>\n",
       "      <th>TG(22:5(7Z,10Z,13Z,16Z,19Z)/18:0/22:6(4Z,7Z,10Z,13Z,16Z,19Z))</th>\n",
       "      <th>PIP(18:1(9Z)/20:1(11Z))</th>\n",
       "      <th>Temsirolimus</th>\n",
       "      <th>TG(22:2(13Z,16Z)/22:6(4Z,7Z,10Z,13Z,16Z,19Z)/18:3(9Z,12Z,15Z))</th>\n",
       "      <th>TG(18:3(6Z,9Z,12Z)/14:0/20:3n6)</th>\n",
       "    </tr>\n",
       "  </thead>\n",
       "  <tbody>\n",
       "    <tr>\n",
       "      <th>LRRK2</th>\n",
       "      <td>0.0</td>\n",
       "      <td>0.0</td>\n",
       "      <td>0.0</td>\n",
       "      <td>0.0</td>\n",
       "      <td>0.0</td>\n",
       "      <td>0.0</td>\n",
       "      <td>0.0</td>\n",
       "      <td>0.0</td>\n",
       "      <td>0.0</td>\n",
       "      <td>0.0</td>\n",
       "      <td>...</td>\n",
       "      <td>0.0</td>\n",
       "      <td>0.0</td>\n",
       "      <td>0.0</td>\n",
       "      <td>0.0</td>\n",
       "      <td>0.0</td>\n",
       "      <td>0.0</td>\n",
       "      <td>0.0</td>\n",
       "      <td>0.0</td>\n",
       "      <td>0.0</td>\n",
       "      <td>0.0</td>\n",
       "    </tr>\n",
       "    <tr>\n",
       "      <th>HOMER2</th>\n",
       "      <td>0.0</td>\n",
       "      <td>0.0</td>\n",
       "      <td>0.0</td>\n",
       "      <td>0.0</td>\n",
       "      <td>0.0</td>\n",
       "      <td>0.0</td>\n",
       "      <td>0.0</td>\n",
       "      <td>0.0</td>\n",
       "      <td>0.0</td>\n",
       "      <td>0.0</td>\n",
       "      <td>...</td>\n",
       "      <td>0.0</td>\n",
       "      <td>0.0</td>\n",
       "      <td>0.0</td>\n",
       "      <td>0.0</td>\n",
       "      <td>0.0</td>\n",
       "      <td>0.0</td>\n",
       "      <td>0.0</td>\n",
       "      <td>0.0</td>\n",
       "      <td>0.0</td>\n",
       "      <td>0.0</td>\n",
       "    </tr>\n",
       "    <tr>\n",
       "      <th>NPSR1</th>\n",
       "      <td>0.0</td>\n",
       "      <td>0.0</td>\n",
       "      <td>0.0</td>\n",
       "      <td>0.0</td>\n",
       "      <td>0.0</td>\n",
       "      <td>0.0</td>\n",
       "      <td>0.0</td>\n",
       "      <td>0.0</td>\n",
       "      <td>0.0</td>\n",
       "      <td>0.0</td>\n",
       "      <td>...</td>\n",
       "      <td>0.0</td>\n",
       "      <td>0.0</td>\n",
       "      <td>0.0</td>\n",
       "      <td>0.0</td>\n",
       "      <td>0.0</td>\n",
       "      <td>0.0</td>\n",
       "      <td>0.0</td>\n",
       "      <td>0.0</td>\n",
       "      <td>0.0</td>\n",
       "      <td>0.0</td>\n",
       "    </tr>\n",
       "    <tr>\n",
       "      <th>POLR3B</th>\n",
       "      <td>0.0</td>\n",
       "      <td>0.0</td>\n",
       "      <td>0.0</td>\n",
       "      <td>0.0</td>\n",
       "      <td>0.0</td>\n",
       "      <td>0.0</td>\n",
       "      <td>0.0</td>\n",
       "      <td>0.0</td>\n",
       "      <td>0.0</td>\n",
       "      <td>0.0</td>\n",
       "      <td>...</td>\n",
       "      <td>0.0</td>\n",
       "      <td>0.0</td>\n",
       "      <td>0.0</td>\n",
       "      <td>0.0</td>\n",
       "      <td>0.0</td>\n",
       "      <td>0.0</td>\n",
       "      <td>0.0</td>\n",
       "      <td>0.0</td>\n",
       "      <td>0.0</td>\n",
       "      <td>0.0</td>\n",
       "    </tr>\n",
       "    <tr>\n",
       "      <th>CLDN12</th>\n",
       "      <td>0.0</td>\n",
       "      <td>0.0</td>\n",
       "      <td>0.0</td>\n",
       "      <td>0.0</td>\n",
       "      <td>0.0</td>\n",
       "      <td>0.0</td>\n",
       "      <td>0.0</td>\n",
       "      <td>0.0</td>\n",
       "      <td>0.0</td>\n",
       "      <td>0.0</td>\n",
       "      <td>...</td>\n",
       "      <td>0.0</td>\n",
       "      <td>0.0</td>\n",
       "      <td>0.0</td>\n",
       "      <td>0.0</td>\n",
       "      <td>0.0</td>\n",
       "      <td>0.0</td>\n",
       "      <td>0.0</td>\n",
       "      <td>0.0</td>\n",
       "      <td>0.0</td>\n",
       "      <td>0.0</td>\n",
       "    </tr>\n",
       "  </tbody>\n",
       "</table>\n",
       "<p>5 rows × 24503 columns</p>\n",
       "</div>"
      ],
      "text/plain": [
       "        Selenomethionine  TG(22:0/22:1(13Z)/o-18:0)  \\\n",
       "LRRK2                0.0                        0.0   \n",
       "HOMER2               0.0                        0.0   \n",
       "NPSR1                0.0                        0.0   \n",
       "POLR3B               0.0                        0.0   \n",
       "CLDN12               0.0                        0.0   \n",
       "\n",
       "        PC(22:2(13Z,16Z)/22:2(13Z,16Z))  TG(20:0/15:0/24:1(15Z))  \\\n",
       "LRRK2                               0.0                      0.0   \n",
       "HOMER2                              0.0                      0.0   \n",
       "NPSR1                               0.0                      0.0   \n",
       "POLR3B                              0.0                      0.0   \n",
       "CLDN12                              0.0                      0.0   \n",
       "\n",
       "        TG(20:2n6/24:0/20:2n6)  TG(15:0/20:2n6/18:3(6Z,9Z,12Z))  \\\n",
       "LRRK2                      0.0                              0.0   \n",
       "HOMER2                     0.0                              0.0   \n",
       "NPSR1                      0.0                              0.0   \n",
       "POLR3B                     0.0                              0.0   \n",
       "CLDN12                     0.0                              0.0   \n",
       "\n",
       "        PE(22:0/18:0)  TG(20:4(5Z,8Z,11Z,14Z)/24:1(15Z)/20:4(8Z,11Z,14Z,17Z))  \\\n",
       "LRRK2             0.0                                                0.0        \n",
       "HOMER2            0.0                                                0.0        \n",
       "NPSR1             0.0                                                0.0        \n",
       "POLR3B            0.0                                                0.0        \n",
       "CLDN12            0.0                                                0.0        \n",
       "\n",
       "        TG(20:0/18:1(11Z)/24:0)  Tolbutamide               ...                 \\\n",
       "LRRK2                       0.0          0.0               ...                  \n",
       "HOMER2                      0.0          0.0               ...                  \n",
       "NPSR1                       0.0          0.0               ...                  \n",
       "POLR3B                      0.0          0.0               ...                  \n",
       "CLDN12                      0.0          0.0               ...                  \n",
       "\n",
       "        TG(20:3(5Z,8Z,11Z)/18:3(9Z,12Z,15Z)/22:5(4Z,7Z,10Z,13Z,16Z))  \\\n",
       "LRRK2                                                 0.0              \n",
       "HOMER2                                                0.0              \n",
       "NPSR1                                                 0.0              \n",
       "POLR3B                                                0.0              \n",
       "CLDN12                                                0.0              \n",
       "\n",
       "        Ganglioside GQ1c (d18:1/16:0)  TG(14:0/18:1(11Z)/18:3(6Z,9Z,12Z))  \\\n",
       "LRRK2                             0.0                                 0.0   \n",
       "HOMER2                            0.0                                 0.0   \n",
       "NPSR1                             0.0                                 0.0   \n",
       "POLR3B                            0.0                                 0.0   \n",
       "CLDN12                            0.0                                 0.0   \n",
       "\n",
       "        PC(o-18:0/22:6(4Z,7Z,10Z,13Z,16Z,19Z))  \\\n",
       "LRRK2                                      0.0   \n",
       "HOMER2                                     0.0   \n",
       "NPSR1                                      0.0   \n",
       "POLR3B                                     0.0   \n",
       "CLDN12                                     0.0   \n",
       "\n",
       "        TG(20:3n6/20:5(5Z,8Z,11Z,14Z,17Z)/20:5(5Z,8Z,11Z,14Z,17Z))  \\\n",
       "LRRK2                                                 0.0            \n",
       "HOMER2                                                0.0            \n",
       "NPSR1                                                 0.0            \n",
       "POLR3B                                                0.0            \n",
       "CLDN12                                                0.0            \n",
       "\n",
       "        TG(22:5(7Z,10Z,13Z,16Z,19Z)/18:0/22:6(4Z,7Z,10Z,13Z,16Z,19Z))  \\\n",
       "LRRK2                                                 0.0               \n",
       "HOMER2                                                0.0               \n",
       "NPSR1                                                 0.0               \n",
       "POLR3B                                                0.0               \n",
       "CLDN12                                                0.0               \n",
       "\n",
       "        PIP(18:1(9Z)/20:1(11Z))  Temsirolimus  \\\n",
       "LRRK2                       0.0           0.0   \n",
       "HOMER2                      0.0           0.0   \n",
       "NPSR1                       0.0           0.0   \n",
       "POLR3B                      0.0           0.0   \n",
       "CLDN12                      0.0           0.0   \n",
       "\n",
       "        TG(22:2(13Z,16Z)/22:6(4Z,7Z,10Z,13Z,16Z,19Z)/18:3(9Z,12Z,15Z))  \\\n",
       "LRRK2                                                 0.0                \n",
       "HOMER2                                                0.0                \n",
       "NPSR1                                                 0.0                \n",
       "POLR3B                                                0.0                \n",
       "CLDN12                                                0.0                \n",
       "\n",
       "        TG(18:3(6Z,9Z,12Z)/14:0/20:3n6)  \n",
       "LRRK2                               0.0  \n",
       "HOMER2                              0.0  \n",
       "NPSR1                               0.0  \n",
       "POLR3B                              0.0  \n",
       "CLDN12                              0.0  \n",
       "\n",
       "[5 rows x 24503 columns]"
      ]
     },
     "execution_count": 390,
     "metadata": {},
     "output_type": "execute_result"
    }
   ],
   "source": [
    "binary_matrix.head()"
   ]
  },
  {
   "cell_type": "code",
   "execution_count": 391,
   "metadata": {},
   "outputs": [
    {
     "data": {
      "text/plain": [
       "(5263, 24503)"
      ]
     },
     "execution_count": 391,
     "metadata": {},
     "output_type": "execute_result"
    }
   ],
   "source": [
    "binary_matrix.shape"
   ]
  },
  {
   "cell_type": "markdown",
   "metadata": {},
   "source": [
    "## Save Binary Matrix"
   ]
  },
  {
   "cell_type": "code",
   "execution_count": 394,
   "metadata": {},
   "outputs": [],
   "source": [
    "out_path = '/Users/maayan/sigsets/Harmonizome/Output/HMDB/'"
   ]
  },
  {
   "cell_type": "code",
   "execution_count": 396,
   "metadata": {},
   "outputs": [],
   "source": [
    "filename = out_path+'hmdb_binary_matrix_%s.tsv.zip'% str(datetime.date.today())[0:7].replace('-', '_')\n",
    "binary_matrix.to_csv(filename, sep='\\t', compression='gzip')"
   ]
  },
  {
   "cell_type": "markdown",
   "metadata": {},
   "source": [
    "## Create Gene Set Library"
   ]
  },
  {
   "cell_type": "code",
   "execution_count": 430,
   "metadata": {},
   "outputs": [],
   "source": [
    "name = 'hmdb_gene_set'"
   ]
  },
  {
   "cell_type": "code",
   "execution_count": 431,
   "metadata": {},
   "outputs": [
    {
     "name": "stdout",
     "output_type": "stream",
     "text": [
      "Progress: 100%  24503 Out of 24503   \r"
     ]
    }
   ],
   "source": [
    "uf.createUpGeneSetLib(binary_matrix, out_path, name)"
   ]
  },
  {
   "cell_type": "markdown",
   "metadata": {},
   "source": [
    "## Create Attribute Library"
   ]
  },
  {
   "cell_type": "code",
   "execution_count": 432,
   "metadata": {},
   "outputs": [],
   "source": [
    "name = 'hmdb_attribute_set'"
   ]
  },
  {
   "cell_type": "code",
   "execution_count": 433,
   "metadata": {},
   "outputs": [
    {
     "name": "stdout",
     "output_type": "stream",
     "text": [
      "Progress: 100%  5263 Out of 5263   \r"
     ]
    }
   ],
   "source": [
    "uf.createUpAttributeSetLib(binary_matrix, out_path, name)"
   ]
  },
  {
   "cell_type": "markdown",
   "metadata": {},
   "source": [
    "## Create Similarity Matrix"
   ]
  },
  {
   "cell_type": "code",
   "execution_count": 446,
   "metadata": {},
   "outputs": [],
   "source": [
    "gene_similarity_matix = uf.createSimilarityMatrix(binary_matrix, 'jaccard')"
   ]
  },
  {
   "cell_type": "code",
   "execution_count": 447,
   "metadata": {},
   "outputs": [
    {
     "data": {
      "text/html": [
       "<div>\n",
       "<style scoped>\n",
       "    .dataframe tbody tr th:only-of-type {\n",
       "        vertical-align: middle;\n",
       "    }\n",
       "\n",
       "    .dataframe tbody tr th {\n",
       "        vertical-align: top;\n",
       "    }\n",
       "\n",
       "    .dataframe thead th {\n",
       "        text-align: right;\n",
       "    }\n",
       "</style>\n",
       "<table border=\"1\" class=\"dataframe\">\n",
       "  <thead>\n",
       "    <tr style=\"text-align: right;\">\n",
       "      <th></th>\n",
       "      <th>LRRK2</th>\n",
       "      <th>HOMER2</th>\n",
       "      <th>NPSR1</th>\n",
       "      <th>POLR3B</th>\n",
       "      <th>CLDN12</th>\n",
       "      <th>SNAPIN</th>\n",
       "      <th>EFHC1</th>\n",
       "      <th>COMMD1</th>\n",
       "      <th>BTF3P11</th>\n",
       "      <th>FUT9</th>\n",
       "      <th>...</th>\n",
       "      <th>ISCA2</th>\n",
       "      <th>SLC13A4</th>\n",
       "      <th>P4HA2</th>\n",
       "      <th>SMPD2</th>\n",
       "      <th>AARS2</th>\n",
       "      <th>CHST15</th>\n",
       "      <th>GSTT2B</th>\n",
       "      <th>ZNF219</th>\n",
       "      <th>COX4I1</th>\n",
       "      <th>FUT3</th>\n",
       "    </tr>\n",
       "    <tr>\n",
       "      <th></th>\n",
       "      <th></th>\n",
       "      <th></th>\n",
       "      <th></th>\n",
       "      <th></th>\n",
       "      <th></th>\n",
       "      <th></th>\n",
       "      <th></th>\n",
       "      <th></th>\n",
       "      <th></th>\n",
       "      <th></th>\n",
       "      <th></th>\n",
       "      <th></th>\n",
       "      <th></th>\n",
       "      <th></th>\n",
       "      <th></th>\n",
       "      <th></th>\n",
       "      <th></th>\n",
       "      <th></th>\n",
       "      <th></th>\n",
       "      <th></th>\n",
       "      <th></th>\n",
       "    </tr>\n",
       "  </thead>\n",
       "  <tbody>\n",
       "    <tr>\n",
       "      <th>LRRK2</th>\n",
       "      <td>1.000000</td>\n",
       "      <td>0.0</td>\n",
       "      <td>0.0</td>\n",
       "      <td>0.285714</td>\n",
       "      <td>0.0</td>\n",
       "      <td>0.0</td>\n",
       "      <td>0.0</td>\n",
       "      <td>0.0</td>\n",
       "      <td>0.0</td>\n",
       "      <td>0.0</td>\n",
       "      <td>...</td>\n",
       "      <td>0.0</td>\n",
       "      <td>0.0</td>\n",
       "      <td>0.0</td>\n",
       "      <td>0.0</td>\n",
       "      <td>0.166667</td>\n",
       "      <td>0.0</td>\n",
       "      <td>0.0</td>\n",
       "      <td>0.0</td>\n",
       "      <td>0.0</td>\n",
       "      <td>0.0</td>\n",
       "    </tr>\n",
       "    <tr>\n",
       "      <th>HOMER2</th>\n",
       "      <td>0.000000</td>\n",
       "      <td>1.0</td>\n",
       "      <td>0.0</td>\n",
       "      <td>0.000000</td>\n",
       "      <td>1.0</td>\n",
       "      <td>1.0</td>\n",
       "      <td>1.0</td>\n",
       "      <td>0.0</td>\n",
       "      <td>1.0</td>\n",
       "      <td>0.0</td>\n",
       "      <td>...</td>\n",
       "      <td>0.0</td>\n",
       "      <td>0.0</td>\n",
       "      <td>0.0</td>\n",
       "      <td>0.0</td>\n",
       "      <td>0.000000</td>\n",
       "      <td>0.0</td>\n",
       "      <td>0.0</td>\n",
       "      <td>0.0</td>\n",
       "      <td>0.0</td>\n",
       "      <td>0.0</td>\n",
       "    </tr>\n",
       "    <tr>\n",
       "      <th>NPSR1</th>\n",
       "      <td>0.000000</td>\n",
       "      <td>0.0</td>\n",
       "      <td>1.0</td>\n",
       "      <td>0.000000</td>\n",
       "      <td>0.0</td>\n",
       "      <td>0.0</td>\n",
       "      <td>0.0</td>\n",
       "      <td>0.0</td>\n",
       "      <td>0.0</td>\n",
       "      <td>0.0</td>\n",
       "      <td>...</td>\n",
       "      <td>0.0</td>\n",
       "      <td>0.0</td>\n",
       "      <td>0.0</td>\n",
       "      <td>0.0</td>\n",
       "      <td>0.000000</td>\n",
       "      <td>0.0</td>\n",
       "      <td>0.0</td>\n",
       "      <td>0.0</td>\n",
       "      <td>0.0</td>\n",
       "      <td>0.0</td>\n",
       "    </tr>\n",
       "    <tr>\n",
       "      <th>POLR3B</th>\n",
       "      <td>0.285714</td>\n",
       "      <td>0.0</td>\n",
       "      <td>0.0</td>\n",
       "      <td>1.000000</td>\n",
       "      <td>0.0</td>\n",
       "      <td>0.0</td>\n",
       "      <td>0.0</td>\n",
       "      <td>0.0</td>\n",
       "      <td>0.0</td>\n",
       "      <td>0.0</td>\n",
       "      <td>...</td>\n",
       "      <td>0.0</td>\n",
       "      <td>0.0</td>\n",
       "      <td>0.0</td>\n",
       "      <td>0.0</td>\n",
       "      <td>0.250000</td>\n",
       "      <td>0.0</td>\n",
       "      <td>0.0</td>\n",
       "      <td>0.0</td>\n",
       "      <td>0.0</td>\n",
       "      <td>0.0</td>\n",
       "    </tr>\n",
       "    <tr>\n",
       "      <th>CLDN12</th>\n",
       "      <td>0.000000</td>\n",
       "      <td>1.0</td>\n",
       "      <td>0.0</td>\n",
       "      <td>0.000000</td>\n",
       "      <td>1.0</td>\n",
       "      <td>1.0</td>\n",
       "      <td>1.0</td>\n",
       "      <td>0.0</td>\n",
       "      <td>1.0</td>\n",
       "      <td>0.0</td>\n",
       "      <td>...</td>\n",
       "      <td>0.0</td>\n",
       "      <td>0.0</td>\n",
       "      <td>0.0</td>\n",
       "      <td>0.0</td>\n",
       "      <td>0.000000</td>\n",
       "      <td>0.0</td>\n",
       "      <td>0.0</td>\n",
       "      <td>0.0</td>\n",
       "      <td>0.0</td>\n",
       "      <td>0.0</td>\n",
       "    </tr>\n",
       "  </tbody>\n",
       "</table>\n",
       "<p>5 rows × 5263 columns</p>\n",
       "</div>"
      ],
      "text/plain": [
       "           LRRK2  HOMER2  NPSR1    POLR3B  CLDN12  SNAPIN  EFHC1  COMMD1  \\\n",
       "                                                                           \n",
       "LRRK2   1.000000     0.0    0.0  0.285714     0.0     0.0    0.0     0.0   \n",
       "HOMER2  0.000000     1.0    0.0  0.000000     1.0     1.0    1.0     0.0   \n",
       "NPSR1   0.000000     0.0    1.0  0.000000     0.0     0.0    0.0     0.0   \n",
       "POLR3B  0.285714     0.0    0.0  1.000000     0.0     0.0    0.0     0.0   \n",
       "CLDN12  0.000000     1.0    0.0  0.000000     1.0     1.0    1.0     0.0   \n",
       "\n",
       "        BTF3P11  FUT9  ...   ISCA2  SLC13A4  P4HA2  SMPD2     AARS2  CHST15  \\\n",
       "                       ...                                                    \n",
       "LRRK2       0.0   0.0  ...     0.0      0.0    0.0    0.0  0.166667     0.0   \n",
       "HOMER2      1.0   0.0  ...     0.0      0.0    0.0    0.0  0.000000     0.0   \n",
       "NPSR1       0.0   0.0  ...     0.0      0.0    0.0    0.0  0.000000     0.0   \n",
       "POLR3B      0.0   0.0  ...     0.0      0.0    0.0    0.0  0.250000     0.0   \n",
       "CLDN12      1.0   0.0  ...     0.0      0.0    0.0    0.0  0.000000     0.0   \n",
       "\n",
       "        GSTT2B  ZNF219  COX4I1  FUT3  \n",
       "                                      \n",
       "LRRK2      0.0     0.0     0.0   0.0  \n",
       "HOMER2     0.0     0.0     0.0   0.0  \n",
       "NPSR1      0.0     0.0     0.0   0.0  \n",
       "POLR3B     0.0     0.0     0.0   0.0  \n",
       "CLDN12     0.0     0.0     0.0   0.0  \n",
       "\n",
       "[5 rows x 5263 columns]"
      ]
     },
     "execution_count": 447,
     "metadata": {},
     "output_type": "execute_result"
    }
   ],
   "source": [
    "gene_similarity_matix.head()"
   ]
  },
  {
   "cell_type": "code",
   "execution_count": 449,
   "metadata": {},
   "outputs": [],
   "source": [
    "filename = out_path + 'hmdb_gene_similarity_matix_%s.tsv.zip'% str(datetime.date.today())[0:7].replace('-', '_')\n",
    "gene_similarity_matix.to_csv(filename, sep='\\t', compression='gzip')"
   ]
  },
  {
   "cell_type": "markdown",
   "metadata": {},
   "source": [
    "## Create Attribute Similarity Matrix"
   ]
  },
  {
   "cell_type": "code",
   "execution_count": 450,
   "metadata": {},
   "outputs": [],
   "source": [
    "attribute_similarity_matix = uf.createSimilarityMatrix(binary_matrix.T, 'jaccard')"
   ]
  },
  {
   "cell_type": "code",
   "execution_count": 451,
   "metadata": {},
   "outputs": [
    {
     "data": {
      "text/html": [
       "<div>\n",
       "<style scoped>\n",
       "    .dataframe tbody tr th:only-of-type {\n",
       "        vertical-align: middle;\n",
       "    }\n",
       "\n",
       "    .dataframe tbody tr th {\n",
       "        vertical-align: top;\n",
       "    }\n",
       "\n",
       "    .dataframe thead th {\n",
       "        text-align: right;\n",
       "    }\n",
       "</style>\n",
       "<table border=\"1\" class=\"dataframe\">\n",
       "  <thead>\n",
       "    <tr style=\"text-align: right;\">\n",
       "      <th></th>\n",
       "      <th>Selenomethionine</th>\n",
       "      <th>TG(22:0/22:1(13Z)/o-18:0)</th>\n",
       "      <th>PC(22:2(13Z,16Z)/22:2(13Z,16Z))</th>\n",
       "      <th>TG(20:0/15:0/24:1(15Z))</th>\n",
       "      <th>TG(20:2n6/24:0/20:2n6)</th>\n",
       "      <th>TG(15:0/20:2n6/18:3(6Z,9Z,12Z))</th>\n",
       "      <th>PE(22:0/18:0)</th>\n",
       "      <th>TG(20:4(5Z,8Z,11Z,14Z)/24:1(15Z)/20:4(8Z,11Z,14Z,17Z))</th>\n",
       "      <th>TG(20:0/18:1(11Z)/24:0)</th>\n",
       "      <th>Tolbutamide</th>\n",
       "      <th>...</th>\n",
       "      <th>TG(20:3(5Z,8Z,11Z)/18:3(9Z,12Z,15Z)/22:5(4Z,7Z,10Z,13Z,16Z))</th>\n",
       "      <th>Ganglioside GQ1c (d18:1/16:0)</th>\n",
       "      <th>TG(14:0/18:1(11Z)/18:3(6Z,9Z,12Z))</th>\n",
       "      <th>PC(o-18:0/22:6(4Z,7Z,10Z,13Z,16Z,19Z))</th>\n",
       "      <th>TG(20:3n6/20:5(5Z,8Z,11Z,14Z,17Z)/20:5(5Z,8Z,11Z,14Z,17Z))</th>\n",
       "      <th>TG(22:5(7Z,10Z,13Z,16Z,19Z)/18:0/22:6(4Z,7Z,10Z,13Z,16Z,19Z))</th>\n",
       "      <th>PIP(18:1(9Z)/20:1(11Z))</th>\n",
       "      <th>Temsirolimus</th>\n",
       "      <th>TG(22:2(13Z,16Z)/22:6(4Z,7Z,10Z,13Z,16Z,19Z)/18:3(9Z,12Z,15Z))</th>\n",
       "      <th>TG(18:3(6Z,9Z,12Z)/14:0/20:3n6)</th>\n",
       "    </tr>\n",
       "    <tr>\n",
       "      <th></th>\n",
       "      <th></th>\n",
       "      <th></th>\n",
       "      <th></th>\n",
       "      <th></th>\n",
       "      <th></th>\n",
       "      <th></th>\n",
       "      <th></th>\n",
       "      <th></th>\n",
       "      <th></th>\n",
       "      <th></th>\n",
       "      <th></th>\n",
       "      <th></th>\n",
       "      <th></th>\n",
       "      <th></th>\n",
       "      <th></th>\n",
       "      <th></th>\n",
       "      <th></th>\n",
       "      <th></th>\n",
       "      <th></th>\n",
       "      <th></th>\n",
       "      <th></th>\n",
       "    </tr>\n",
       "  </thead>\n",
       "  <tbody>\n",
       "    <tr>\n",
       "      <th>Selenomethionine</th>\n",
       "      <td>1.0</td>\n",
       "      <td>0.000000</td>\n",
       "      <td>0.000000</td>\n",
       "      <td>0.000000</td>\n",
       "      <td>0.000000</td>\n",
       "      <td>0.000000</td>\n",
       "      <td>0.000000</td>\n",
       "      <td>0.000000</td>\n",
       "      <td>0.000000</td>\n",
       "      <td>0.0</td>\n",
       "      <td>...</td>\n",
       "      <td>0.000000</td>\n",
       "      <td>0.0</td>\n",
       "      <td>0.000000</td>\n",
       "      <td>0.000000</td>\n",
       "      <td>0.000000</td>\n",
       "      <td>0.000000</td>\n",
       "      <td>0.000000</td>\n",
       "      <td>0.0</td>\n",
       "      <td>0.000000</td>\n",
       "      <td>0.000000</td>\n",
       "    </tr>\n",
       "    <tr>\n",
       "      <th>TG(22:0/22:1(13Z)/o-18:0)</th>\n",
       "      <td>0.0</td>\n",
       "      <td>1.000000</td>\n",
       "      <td>0.028037</td>\n",
       "      <td>1.000000</td>\n",
       "      <td>1.000000</td>\n",
       "      <td>1.000000</td>\n",
       "      <td>0.000000</td>\n",
       "      <td>1.000000</td>\n",
       "      <td>1.000000</td>\n",
       "      <td>0.0</td>\n",
       "      <td>...</td>\n",
       "      <td>1.000000</td>\n",
       "      <td>0.0</td>\n",
       "      <td>1.000000</td>\n",
       "      <td>0.000000</td>\n",
       "      <td>1.000000</td>\n",
       "      <td>1.000000</td>\n",
       "      <td>0.000000</td>\n",
       "      <td>0.0</td>\n",
       "      <td>1.000000</td>\n",
       "      <td>1.000000</td>\n",
       "    </tr>\n",
       "    <tr>\n",
       "      <th>PC(22:2(13Z,16Z)/22:2(13Z,16Z))</th>\n",
       "      <td>0.0</td>\n",
       "      <td>0.028037</td>\n",
       "      <td>1.000000</td>\n",
       "      <td>0.028037</td>\n",
       "      <td>0.028037</td>\n",
       "      <td>0.028037</td>\n",
       "      <td>0.469136</td>\n",
       "      <td>0.028037</td>\n",
       "      <td>0.028037</td>\n",
       "      <td>0.0</td>\n",
       "      <td>...</td>\n",
       "      <td>0.028037</td>\n",
       "      <td>0.0</td>\n",
       "      <td>0.028037</td>\n",
       "      <td>0.571429</td>\n",
       "      <td>0.028037</td>\n",
       "      <td>0.028037</td>\n",
       "      <td>0.198473</td>\n",
       "      <td>0.0</td>\n",
       "      <td>0.028037</td>\n",
       "      <td>0.028037</td>\n",
       "    </tr>\n",
       "    <tr>\n",
       "      <th>TG(20:0/15:0/24:1(15Z))</th>\n",
       "      <td>0.0</td>\n",
       "      <td>1.000000</td>\n",
       "      <td>0.028037</td>\n",
       "      <td>1.000000</td>\n",
       "      <td>1.000000</td>\n",
       "      <td>1.000000</td>\n",
       "      <td>0.000000</td>\n",
       "      <td>1.000000</td>\n",
       "      <td>1.000000</td>\n",
       "      <td>0.0</td>\n",
       "      <td>...</td>\n",
       "      <td>1.000000</td>\n",
       "      <td>0.0</td>\n",
       "      <td>1.000000</td>\n",
       "      <td>0.000000</td>\n",
       "      <td>1.000000</td>\n",
       "      <td>1.000000</td>\n",
       "      <td>0.000000</td>\n",
       "      <td>0.0</td>\n",
       "      <td>1.000000</td>\n",
       "      <td>1.000000</td>\n",
       "    </tr>\n",
       "    <tr>\n",
       "      <th>TG(20:2n6/24:0/20:2n6)</th>\n",
       "      <td>0.0</td>\n",
       "      <td>1.000000</td>\n",
       "      <td>0.028037</td>\n",
       "      <td>1.000000</td>\n",
       "      <td>1.000000</td>\n",
       "      <td>1.000000</td>\n",
       "      <td>0.000000</td>\n",
       "      <td>1.000000</td>\n",
       "      <td>1.000000</td>\n",
       "      <td>0.0</td>\n",
       "      <td>...</td>\n",
       "      <td>1.000000</td>\n",
       "      <td>0.0</td>\n",
       "      <td>1.000000</td>\n",
       "      <td>0.000000</td>\n",
       "      <td>1.000000</td>\n",
       "      <td>1.000000</td>\n",
       "      <td>0.000000</td>\n",
       "      <td>0.0</td>\n",
       "      <td>1.000000</td>\n",
       "      <td>1.000000</td>\n",
       "    </tr>\n",
       "  </tbody>\n",
       "</table>\n",
       "<p>5 rows × 24503 columns</p>\n",
       "</div>"
      ],
      "text/plain": [
       "                                 Selenomethionine  TG(22:0/22:1(13Z)/o-18:0)  \\\n",
       "                                                                               \n",
       "Selenomethionine                              1.0                   0.000000   \n",
       "TG(22:0/22:1(13Z)/o-18:0)                     0.0                   1.000000   \n",
       "PC(22:2(13Z,16Z)/22:2(13Z,16Z))               0.0                   0.028037   \n",
       "TG(20:0/15:0/24:1(15Z))                       0.0                   1.000000   \n",
       "TG(20:2n6/24:0/20:2n6)                        0.0                   1.000000   \n",
       "\n",
       "                                 PC(22:2(13Z,16Z)/22:2(13Z,16Z))  \\\n",
       "                                                                   \n",
       "Selenomethionine                                        0.000000   \n",
       "TG(22:0/22:1(13Z)/o-18:0)                               0.028037   \n",
       "PC(22:2(13Z,16Z)/22:2(13Z,16Z))                         1.000000   \n",
       "TG(20:0/15:0/24:1(15Z))                                 0.028037   \n",
       "TG(20:2n6/24:0/20:2n6)                                  0.028037   \n",
       "\n",
       "                                 TG(20:0/15:0/24:1(15Z))  \\\n",
       "                                                           \n",
       "Selenomethionine                                0.000000   \n",
       "TG(22:0/22:1(13Z)/o-18:0)                       1.000000   \n",
       "PC(22:2(13Z,16Z)/22:2(13Z,16Z))                 0.028037   \n",
       "TG(20:0/15:0/24:1(15Z))                         1.000000   \n",
       "TG(20:2n6/24:0/20:2n6)                          1.000000   \n",
       "\n",
       "                                 TG(20:2n6/24:0/20:2n6)  \\\n",
       "                                                          \n",
       "Selenomethionine                               0.000000   \n",
       "TG(22:0/22:1(13Z)/o-18:0)                      1.000000   \n",
       "PC(22:2(13Z,16Z)/22:2(13Z,16Z))                0.028037   \n",
       "TG(20:0/15:0/24:1(15Z))                        1.000000   \n",
       "TG(20:2n6/24:0/20:2n6)                         1.000000   \n",
       "\n",
       "                                 TG(15:0/20:2n6/18:3(6Z,9Z,12Z))  \\\n",
       "                                                                   \n",
       "Selenomethionine                                        0.000000   \n",
       "TG(22:0/22:1(13Z)/o-18:0)                               1.000000   \n",
       "PC(22:2(13Z,16Z)/22:2(13Z,16Z))                         0.028037   \n",
       "TG(20:0/15:0/24:1(15Z))                                 1.000000   \n",
       "TG(20:2n6/24:0/20:2n6)                                  1.000000   \n",
       "\n",
       "                                 PE(22:0/18:0)  \\\n",
       "                                                 \n",
       "Selenomethionine                      0.000000   \n",
       "TG(22:0/22:1(13Z)/o-18:0)             0.000000   \n",
       "PC(22:2(13Z,16Z)/22:2(13Z,16Z))       0.469136   \n",
       "TG(20:0/15:0/24:1(15Z))               0.000000   \n",
       "TG(20:2n6/24:0/20:2n6)                0.000000   \n",
       "\n",
       "                                 TG(20:4(5Z,8Z,11Z,14Z)/24:1(15Z)/20:4(8Z,11Z,14Z,17Z))  \\\n",
       "                                                                                          \n",
       "Selenomethionine                                                          0.000000        \n",
       "TG(22:0/22:1(13Z)/o-18:0)                                                 1.000000        \n",
       "PC(22:2(13Z,16Z)/22:2(13Z,16Z))                                           0.028037        \n",
       "TG(20:0/15:0/24:1(15Z))                                                   1.000000        \n",
       "TG(20:2n6/24:0/20:2n6)                                                    1.000000        \n",
       "\n",
       "                                 TG(20:0/18:1(11Z)/24:0)  Tolbutamide  \\\n",
       "                                                                        \n",
       "Selenomethionine                                0.000000          0.0   \n",
       "TG(22:0/22:1(13Z)/o-18:0)                       1.000000          0.0   \n",
       "PC(22:2(13Z,16Z)/22:2(13Z,16Z))                 0.028037          0.0   \n",
       "TG(20:0/15:0/24:1(15Z))                         1.000000          0.0   \n",
       "TG(20:2n6/24:0/20:2n6)                          1.000000          0.0   \n",
       "\n",
       "                                              ...                 \\\n",
       "                                              ...                  \n",
       "Selenomethionine                              ...                  \n",
       "TG(22:0/22:1(13Z)/o-18:0)                     ...                  \n",
       "PC(22:2(13Z,16Z)/22:2(13Z,16Z))               ...                  \n",
       "TG(20:0/15:0/24:1(15Z))                       ...                  \n",
       "TG(20:2n6/24:0/20:2n6)                        ...                  \n",
       "\n",
       "                                 TG(20:3(5Z,8Z,11Z)/18:3(9Z,12Z,15Z)/22:5(4Z,7Z,10Z,13Z,16Z))  \\\n",
       "                                                                                                \n",
       "Selenomethionine                                                          0.000000              \n",
       "TG(22:0/22:1(13Z)/o-18:0)                                                 1.000000              \n",
       "PC(22:2(13Z,16Z)/22:2(13Z,16Z))                                           0.028037              \n",
       "TG(20:0/15:0/24:1(15Z))                                                   1.000000              \n",
       "TG(20:2n6/24:0/20:2n6)                                                    1.000000              \n",
       "\n",
       "                                 Ganglioside GQ1c (d18:1/16:0)  \\\n",
       "                                                                 \n",
       "Selenomethionine                                           0.0   \n",
       "TG(22:0/22:1(13Z)/o-18:0)                                  0.0   \n",
       "PC(22:2(13Z,16Z)/22:2(13Z,16Z))                            0.0   \n",
       "TG(20:0/15:0/24:1(15Z))                                    0.0   \n",
       "TG(20:2n6/24:0/20:2n6)                                     0.0   \n",
       "\n",
       "                                 TG(14:0/18:1(11Z)/18:3(6Z,9Z,12Z))  \\\n",
       "                                                                      \n",
       "Selenomethionine                                           0.000000   \n",
       "TG(22:0/22:1(13Z)/o-18:0)                                  1.000000   \n",
       "PC(22:2(13Z,16Z)/22:2(13Z,16Z))                            0.028037   \n",
       "TG(20:0/15:0/24:1(15Z))                                    1.000000   \n",
       "TG(20:2n6/24:0/20:2n6)                                     1.000000   \n",
       "\n",
       "                                 PC(o-18:0/22:6(4Z,7Z,10Z,13Z,16Z,19Z))  \\\n",
       "                                                                          \n",
       "Selenomethionine                                               0.000000   \n",
       "TG(22:0/22:1(13Z)/o-18:0)                                      0.000000   \n",
       "PC(22:2(13Z,16Z)/22:2(13Z,16Z))                                0.571429   \n",
       "TG(20:0/15:0/24:1(15Z))                                        0.000000   \n",
       "TG(20:2n6/24:0/20:2n6)                                         0.000000   \n",
       "\n",
       "                                 TG(20:3n6/20:5(5Z,8Z,11Z,14Z,17Z)/20:5(5Z,8Z,11Z,14Z,17Z))  \\\n",
       "                                                                                              \n",
       "Selenomethionine                                                          0.000000            \n",
       "TG(22:0/22:1(13Z)/o-18:0)                                                 1.000000            \n",
       "PC(22:2(13Z,16Z)/22:2(13Z,16Z))                                           0.028037            \n",
       "TG(20:0/15:0/24:1(15Z))                                                   1.000000            \n",
       "TG(20:2n6/24:0/20:2n6)                                                    1.000000            \n",
       "\n",
       "                                 TG(22:5(7Z,10Z,13Z,16Z,19Z)/18:0/22:6(4Z,7Z,10Z,13Z,16Z,19Z))  \\\n",
       "                                                                                                 \n",
       "Selenomethionine                                                          0.000000               \n",
       "TG(22:0/22:1(13Z)/o-18:0)                                                 1.000000               \n",
       "PC(22:2(13Z,16Z)/22:2(13Z,16Z))                                           0.028037               \n",
       "TG(20:0/15:0/24:1(15Z))                                                   1.000000               \n",
       "TG(20:2n6/24:0/20:2n6)                                                    1.000000               \n",
       "\n",
       "                                 PIP(18:1(9Z)/20:1(11Z))  Temsirolimus  \\\n",
       "                                                                         \n",
       "Selenomethionine                                0.000000           0.0   \n",
       "TG(22:0/22:1(13Z)/o-18:0)                       0.000000           0.0   \n",
       "PC(22:2(13Z,16Z)/22:2(13Z,16Z))                 0.198473           0.0   \n",
       "TG(20:0/15:0/24:1(15Z))                         0.000000           0.0   \n",
       "TG(20:2n6/24:0/20:2n6)                          0.000000           0.0   \n",
       "\n",
       "                                 TG(22:2(13Z,16Z)/22:6(4Z,7Z,10Z,13Z,16Z,19Z)/18:3(9Z,12Z,15Z))  \\\n",
       "                                                                                                  \n",
       "Selenomethionine                                                          0.000000                \n",
       "TG(22:0/22:1(13Z)/o-18:0)                                                 1.000000                \n",
       "PC(22:2(13Z,16Z)/22:2(13Z,16Z))                                           0.028037                \n",
       "TG(20:0/15:0/24:1(15Z))                                                   1.000000                \n",
       "TG(20:2n6/24:0/20:2n6)                                                    1.000000                \n",
       "\n",
       "                                 TG(18:3(6Z,9Z,12Z)/14:0/20:3n6)  \n",
       "                                                                  \n",
       "Selenomethionine                                        0.000000  \n",
       "TG(22:0/22:1(13Z)/o-18:0)                               1.000000  \n",
       "PC(22:2(13Z,16Z)/22:2(13Z,16Z))                         0.028037  \n",
       "TG(20:0/15:0/24:1(15Z))                                 1.000000  \n",
       "TG(20:2n6/24:0/20:2n6)                                  1.000000  \n",
       "\n",
       "[5 rows x 24503 columns]"
      ]
     },
     "execution_count": 451,
     "metadata": {},
     "output_type": "execute_result"
    }
   ],
   "source": [
    "attribute_similarity_matix.head()"
   ]
  },
  {
   "cell_type": "code",
   "execution_count": 453,
   "metadata": {},
   "outputs": [],
   "source": [
    "filename = out_path + 'hmdb_attribute_similarity_matix_%s.tsv.zip'% str(datetime.date.today())[0:7].replace('-', '_')\n",
    "attribute_similarity_matix.to_csv(filename, sep='\\t', compression='gzip')"
   ]
  },
  {
   "cell_type": "markdown",
   "metadata": {},
   "source": [
    "## Create Gene List"
   ]
  },
  {
   "cell_type": "code",
   "execution_count": 476,
   "metadata": {},
   "outputs": [
    {
     "name": "stdout",
     "output_type": "stream",
     "text": [
      "Progress: 100%  5263 Out of 5263   \r"
     ]
    }
   ],
   "source": [
    "gene_list = uf.createGeneList_updated(binary_matrix)"
   ]
  },
  {
   "cell_type": "code",
   "execution_count": 477,
   "metadata": {},
   "outputs": [
    {
     "data": {
      "text/html": [
       "<div>\n",
       "<style scoped>\n",
       "    .dataframe tbody tr th:only-of-type {\n",
       "        vertical-align: middle;\n",
       "    }\n",
       "\n",
       "    .dataframe tbody tr th {\n",
       "        vertical-align: top;\n",
       "    }\n",
       "\n",
       "    .dataframe thead th {\n",
       "        text-align: right;\n",
       "    }\n",
       "</style>\n",
       "<table border=\"1\" class=\"dataframe\">\n",
       "  <thead>\n",
       "    <tr style=\"text-align: right;\">\n",
       "      <th></th>\n",
       "      <th>GeneSym</th>\n",
       "      <th>GeneID</th>\n",
       "    </tr>\n",
       "  </thead>\n",
       "  <tbody>\n",
       "    <tr>\n",
       "      <th>0</th>\n",
       "      <td>LRRK2</td>\n",
       "      <td>120892</td>\n",
       "    </tr>\n",
       "    <tr>\n",
       "      <th>1</th>\n",
       "      <td>HOMER2</td>\n",
       "      <td>9455</td>\n",
       "    </tr>\n",
       "    <tr>\n",
       "      <th>2</th>\n",
       "      <td>NPSR1</td>\n",
       "      <td>387129</td>\n",
       "    </tr>\n",
       "    <tr>\n",
       "      <th>3</th>\n",
       "      <td>POLR3B</td>\n",
       "      <td>55703</td>\n",
       "    </tr>\n",
       "    <tr>\n",
       "      <th>4</th>\n",
       "      <td>CLDN12</td>\n",
       "      <td>9069</td>\n",
       "    </tr>\n",
       "  </tbody>\n",
       "</table>\n",
       "</div>"
      ],
      "text/plain": [
       "  GeneSym  GeneID\n",
       "0   LRRK2  120892\n",
       "1  HOMER2    9455\n",
       "2   NPSR1  387129\n",
       "3  POLR3B   55703\n",
       "4  CLDN12    9069"
      ]
     },
     "execution_count": 477,
     "metadata": {},
     "output_type": "execute_result"
    }
   ],
   "source": [
    "gene_list.head()"
   ]
  },
  {
   "cell_type": "code",
   "execution_count": 478,
   "metadata": {},
   "outputs": [
    {
     "data": {
      "text/plain": [
       "(5263, 2)"
      ]
     },
     "execution_count": 478,
     "metadata": {},
     "output_type": "execute_result"
    }
   ],
   "source": [
    "gene_list.shape"
   ]
  },
  {
   "cell_type": "code",
   "execution_count": 479,
   "metadata": {},
   "outputs": [],
   "source": [
    "filename = out_path+'hmdb_gene_list_%s.tsv.zip'% str(datetime.date.today())[0:7].replace('-', '_')\n",
    "gene_list.to_csv(filename, sep='\\t', index=False, compression='gzip')"
   ]
  },
  {
   "cell_type": "markdown",
   "metadata": {},
   "source": [
    "## Create attribute list"
   ]
  },
  {
   "cell_type": "code",
   "execution_count": 505,
   "metadata": {},
   "outputs": [],
   "source": [
    "attribute_list = uf.createAttributeList(binary_matrix)"
   ]
  },
  {
   "cell_type": "code",
   "execution_count": 506,
   "metadata": {},
   "outputs": [
    {
     "data": {
      "text/html": [
       "<div>\n",
       "<style scoped>\n",
       "    .dataframe tbody tr th:only-of-type {\n",
       "        vertical-align: middle;\n",
       "    }\n",
       "\n",
       "    .dataframe tbody tr th {\n",
       "        vertical-align: top;\n",
       "    }\n",
       "\n",
       "    .dataframe thead th {\n",
       "        text-align: right;\n",
       "    }\n",
       "</style>\n",
       "<table border=\"1\" class=\"dataframe\">\n",
       "  <thead>\n",
       "    <tr style=\"text-align: right;\">\n",
       "      <th></th>\n",
       "    </tr>\n",
       "    <tr>\n",
       "      <th>Attributes</th>\n",
       "    </tr>\n",
       "  </thead>\n",
       "  <tbody>\n",
       "    <tr>\n",
       "      <th>Selenomethionine</th>\n",
       "    </tr>\n",
       "    <tr>\n",
       "      <th>TG(22:0/22:1(13Z)/o-18:0)</th>\n",
       "    </tr>\n",
       "    <tr>\n",
       "      <th>PC(22:2(13Z,16Z)/22:2(13Z,16Z))</th>\n",
       "    </tr>\n",
       "    <tr>\n",
       "      <th>TG(20:0/15:0/24:1(15Z))</th>\n",
       "    </tr>\n",
       "    <tr>\n",
       "      <th>TG(20:2n6/24:0/20:2n6)</th>\n",
       "    </tr>\n",
       "  </tbody>\n",
       "</table>\n",
       "</div>"
      ],
      "text/plain": [
       "Empty DataFrame\n",
       "Columns: []\n",
       "Index: [Selenomethionine, TG(22:0/22:1(13Z)/o-18:0), PC(22:2(13Z,16Z)/22:2(13Z,16Z)), TG(20:0/15:0/24:1(15Z)), TG(20:2n6/24:0/20:2n6)]"
      ]
     },
     "execution_count": 506,
     "metadata": {},
     "output_type": "execute_result"
    }
   ],
   "source": [
    "attribute_list.head()"
   ]
  },
  {
   "cell_type": "code",
   "execution_count": 486,
   "metadata": {},
   "outputs": [
    {
     "data": {
      "text/plain": [
       "(24503, 1)"
      ]
     },
     "execution_count": 486,
     "metadata": {},
     "output_type": "execute_result"
    }
   ],
   "source": [
    "attribute_list.shape"
   ]
  },
  {
   "cell_type": "code",
   "execution_count": 487,
   "metadata": {},
   "outputs": [],
   "source": [
    "filename = out_path+'hmdb_attribute_list_%s.tsv.zip'% str(datetime.date.today())[0:7].replace('-', '_')\n",
    "attribute_list.to_csv(filename, sep='\\t', index=False, compression='gzip')"
   ]
  },
  {
   "cell_type": "markdown",
   "metadata": {},
   "source": [
    "# Create Gene-Attribute Edge List"
   ]
  },
  {
   "cell_type": "code",
   "execution_count": 584,
   "metadata": {},
   "outputs": [],
   "source": [
    "name = 'hmdb_gene_attribute_edge_list'"
   ]
  },
  {
   "cell_type": "code",
   "execution_count": 585,
   "metadata": {},
   "outputs": [
    {
     "name": "stdout",
     "output_type": "stream",
     "text": [
      "Progress: 100%  24503 Out of 24503   \n",
      "\n",
      " The number of statisticaly relevent gene-attribute associations is: 836222\n"
     ]
    }
   ],
   "source": [
    "uf.createGeneAttributeEdgeList(binary_matrix, attribute_list, gene_list, out_path, name)"
   ]
  }
 ],
 "metadata": {
  "kernelspec": {
   "display_name": "pvenv",
   "language": "python",
   "name": "pvenv"
  },
  "language_info": {
   "codemirror_mode": {
    "name": "ipython",
    "version": 3
   },
   "file_extension": ".py",
   "mimetype": "text/x-python",
   "name": "python",
   "nbconvert_exporter": "python",
   "pygments_lexer": "ipython3",
   "version": "3.6.5"
  }
 },
 "nbformat": 4,
 "nbformat_minor": 2
}
