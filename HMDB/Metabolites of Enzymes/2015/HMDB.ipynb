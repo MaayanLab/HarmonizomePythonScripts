{
 "cells": [
  {
   "cell_type": "markdown",
   "metadata": {},
   "source": [
    "# The Human Metabolome Database (HMDB)"
   ]
  },
  {
   "cell_type": "markdown",
   "metadata": {},
   "source": [
    "Author: Moshe Silverstein <br/>\n",
    "Date: 11-17 <br/>\n",
    "Data Source: http://www.hmdb.ca/"
   ]
  },
  {
   "cell_type": "code",
   "execution_count": 167,
   "metadata": {
    "collapsed": true
   },
   "outputs": [],
   "source": [
    "import sys, datetime, os\n",
    "import numpy as np\n",
    "import pandas as pd\n",
    "import importlib\n",
    "import untility_functions as uf\n",
    "import xmltodict\n",
    "%matplotlib inline"
   ]
  },
  {
   "cell_type": "code",
   "execution_count": 168,
   "metadata": {},
   "outputs": [
    {
     "data": {
      "text/plain": [
       "<module 'untility_functions' from '/Users/moshesilverstein/Documents/Harmonizome/The Human Metabolome Database (HMDB)/untility_functions.py'>"
      ]
     },
     "execution_count": 168,
     "metadata": {},
     "output_type": "execute_result"
    }
   ],
   "source": [
    "importlib.reload(uf)"
   ]
  },
  {
   "cell_type": "markdown",
   "metadata": {},
   "source": [
    "# Load Data"
   ]
  },
  {
   "cell_type": "code",
   "execution_count": 170,
   "metadata": {},
   "outputs": [],
   "source": [
    "with open('Input/hmdb_metabolites.xml') as fd:\n",
    "    doc = xmltodict.parse(fd.read())"
   ]
  },
  {
   "cell_type": "code",
   "execution_count": 172,
   "metadata": {},
   "outputs": [],
   "source": [
    "a = [dict(x) for x in dict(doc['hmdb'])['metabolite']]"
   ]
  },
  {
   "cell_type": "code",
   "execution_count": 173,
   "metadata": {},
   "outputs": [],
   "source": [
    "df = pd.DataFrame.from_records(a)"
   ]
  },
  {
   "cell_type": "code",
   "execution_count": 174,
   "metadata": {},
   "outputs": [
    {
     "data": {
      "text/html": [
       "<div>\n",
       "<style>\n",
       "    .dataframe thead tr:only-child th {\n",
       "        text-align: right;\n",
       "    }\n",
       "\n",
       "    .dataframe thead th {\n",
       "        text-align: left;\n",
       "    }\n",
       "\n",
       "    .dataframe tbody tr th {\n",
       "        vertical-align: top;\n",
       "    }\n",
       "</style>\n",
       "<table border=\"1\" class=\"dataframe\">\n",
       "  <thead>\n",
       "    <tr style=\"text-align: right;\">\n",
       "      <th></th>\n",
       "      <th>abnormal_concentrations</th>\n",
       "      <th>accession</th>\n",
       "      <th>average_molecular_weight</th>\n",
       "      <th>bigg_id</th>\n",
       "      <th>biocyc_id</th>\n",
       "      <th>biofluid_locations</th>\n",
       "      <th>cas_registry_number</th>\n",
       "      <th>chebi_id</th>\n",
       "      <th>chemical_formula</th>\n",
       "      <th>chemspider_id</th>\n",
       "      <th>...</th>\n",
       "      <th>spectra</th>\n",
       "      <th>state</th>\n",
       "      <th>synonyms</th>\n",
       "      <th>synthesis_reference</th>\n",
       "      <th>taxonomy</th>\n",
       "      <th>tissue_locations</th>\n",
       "      <th>traditional_iupac</th>\n",
       "      <th>update_date</th>\n",
       "      <th>version</th>\n",
       "      <th>wikipidia</th>\n",
       "    </tr>\n",
       "  </thead>\n",
       "  <tbody>\n",
       "    <tr>\n",
       "      <th>0</th>\n",
       "      <td>{'concentration': [{'biofluid': 'Blood', 'conc...</td>\n",
       "      <td>HMDB0000001</td>\n",
       "      <td>169.1811</td>\n",
       "      <td>None</td>\n",
       "      <td>CPD-1823</td>\n",
       "      <td>{'biofluid': ['Blood', 'Cerebrospinal Fluid (C...</td>\n",
       "      <td>332-80-9</td>\n",
       "      <td>50599</td>\n",
       "      <td>C7H11N3O2</td>\n",
       "      <td>83153</td>\n",
       "      <td>...</td>\n",
       "      <td>{'spectrum': [{'type': 'Specdb::CMs', 'spectru...</td>\n",
       "      <td>Solid</td>\n",
       "      <td>{'synonym': ['1 Methylhistidine', '1-Methyl hi...</td>\n",
       "      <td>Jain, Rahul; Cohen, Louis A. Regiospecific alk...</td>\n",
       "      <td>{'description': 'This compound belongs to the ...</td>\n",
       "      <td>{'tissue': ['Muscle', 'Skeletal Muscle']}</td>\n",
       "      <td>1 methylhistidine</td>\n",
       "      <td>2017-08-16 03:09:05 UTC</td>\n",
       "      <td>3.6</td>\n",
       "      <td>None</td>\n",
       "    </tr>\n",
       "    <tr>\n",
       "      <th>1</th>\n",
       "      <td>{'concentration': [{'biofluid': 'Blood', 'conc...</td>\n",
       "      <td>HMDB0000002</td>\n",
       "      <td>74.1249</td>\n",
       "      <td>36543</td>\n",
       "      <td>CPD-313</td>\n",
       "      <td>{'biofluid': ['Blood', 'Feces', 'Urine']}</td>\n",
       "      <td>109-76-2</td>\n",
       "      <td>15725</td>\n",
       "      <td>C3H10N2</td>\n",
       "      <td>415</td>\n",
       "      <td>...</td>\n",
       "      <td>{'spectrum': [{'type': 'Specdb::CMs', 'spectru...</td>\n",
       "      <td>Liquid</td>\n",
       "      <td>{'synonym': ['1,3-Diamino-N-propane', '1,3-Pro...</td>\n",
       "      <td>Takayanagi, Yasuyuki; Oohinata, Takahiro.  Pre...</td>\n",
       "      <td>{'description': 'This compound belongs to the ...</td>\n",
       "      <td>None</td>\n",
       "      <td>α,ω-propanediamine</td>\n",
       "      <td>2017-08-16 03:09:07 UTC</td>\n",
       "      <td>3.6</td>\n",
       "      <td>None</td>\n",
       "    </tr>\n",
       "    <tr>\n",
       "      <th>2</th>\n",
       "      <td>{'concentration': {'biofluid': 'Urine', 'conce...</td>\n",
       "      <td>HMDB0000005</td>\n",
       "      <td>102.0886</td>\n",
       "      <td>33889</td>\n",
       "      <td>2-OXOBUTANOATE</td>\n",
       "      <td>{'biofluid': ['Blood', 'Cerebrospinal Fluid (C...</td>\n",
       "      <td>600-18-0</td>\n",
       "      <td>30831</td>\n",
       "      <td>C4H6O3</td>\n",
       "      <td>57</td>\n",
       "      <td>...</td>\n",
       "      <td>{'spectrum': [{'type': 'Specdb::CMs', 'spectru...</td>\n",
       "      <td>Solid</td>\n",
       "      <td>{'synonym': ['2-Ketobutanoate', '2-Ketobutanoi...</td>\n",
       "      <td>Figge, Rainer; Lux, Fabien; Raynaud, Celine; S...</td>\n",
       "      <td>{'description': 'This compound belongs to the ...</td>\n",
       "      <td>None</td>\n",
       "      <td>2-oxobutanoic acid</td>\n",
       "      <td>2017-08-16 03:09:09 UTC</td>\n",
       "      <td>3.6</td>\n",
       "      <td>Alpha-ketobutyric_acid</td>\n",
       "    </tr>\n",
       "    <tr>\n",
       "      <th>3</th>\n",
       "      <td>{'concentration': [{'biofluid': 'Blood', 'conc...</td>\n",
       "      <td>HMDB0000008</td>\n",
       "      <td>104.1045</td>\n",
       "      <td>47130</td>\n",
       "      <td>CPD-3564</td>\n",
       "      <td>{'biofluid': ['Blood', 'Cerebrospinal Fluid (C...</td>\n",
       "      <td>600-15-7</td>\n",
       "      <td>1148</td>\n",
       "      <td>C4H8O3</td>\n",
       "      <td>10792</td>\n",
       "      <td>...</td>\n",
       "      <td>{'spectrum': [{'type': 'Specdb::CMs', 'spectru...</td>\n",
       "      <td>Solid</td>\n",
       "      <td>{'synonym': ['(RS)-2-Hydroxybutyrate', '(RS)-2...</td>\n",
       "      <td>Carlier, J. P.; Henry, C.; Lorin, V.; Rouffign...</td>\n",
       "      <td>{'description': 'This compound belongs to the ...</td>\n",
       "      <td>{'tissue': 'Prostate'}</td>\n",
       "      <td>α-hydroxybutyric acid</td>\n",
       "      <td>2017-08-16 03:09:11 UTC</td>\n",
       "      <td>3.6</td>\n",
       "      <td>2-Hydroxybutyric acid</td>\n",
       "    </tr>\n",
       "    <tr>\n",
       "      <th>4</th>\n",
       "      <td>{'concentration': {'biofluid': 'Urine', 'conce...</td>\n",
       "      <td>HMDB0000010</td>\n",
       "      <td>300.3921</td>\n",
       "      <td>None</td>\n",
       "      <td>ESTRONE-SULFATE</td>\n",
       "      <td>{'biofluid': ['Blood', 'Urine']}</td>\n",
       "      <td>362-08-3</td>\n",
       "      <td>1189</td>\n",
       "      <td>C19H24O3</td>\n",
       "      <td>389515</td>\n",
       "      <td>...</td>\n",
       "      <td>{'spectrum': [{'type': 'Specdb::CMs', 'spectru...</td>\n",
       "      <td>Solid</td>\n",
       "      <td>{'synonym': ['2-(8S,9S,13S,14S)-3-Hydroxy-2-me...</td>\n",
       "      <td>Stoelwinder, Johannes; Moers, Nicolaas Elisabe...</td>\n",
       "      <td>{'description': 'This compound belongs to the ...</td>\n",
       "      <td>None</td>\n",
       "      <td>2-methoxyestrone</td>\n",
       "      <td>2017-08-16 03:09:13 UTC</td>\n",
       "      <td>3.6</td>\n",
       "      <td>None</td>\n",
       "    </tr>\n",
       "  </tbody>\n",
       "</table>\n",
       "<p>5 rows × 49 columns</p>\n",
       "</div>"
      ],
      "text/plain": [
       "                             abnormal_concentrations    accession  \\\n",
       "0  {'concentration': [{'biofluid': 'Blood', 'conc...  HMDB0000001   \n",
       "1  {'concentration': [{'biofluid': 'Blood', 'conc...  HMDB0000002   \n",
       "2  {'concentration': {'biofluid': 'Urine', 'conce...  HMDB0000005   \n",
       "3  {'concentration': [{'biofluid': 'Blood', 'conc...  HMDB0000008   \n",
       "4  {'concentration': {'biofluid': 'Urine', 'conce...  HMDB0000010   \n",
       "\n",
       "  average_molecular_weight bigg_id        biocyc_id  \\\n",
       "0                 169.1811    None         CPD-1823   \n",
       "1                  74.1249   36543          CPD-313   \n",
       "2                 102.0886   33889   2-OXOBUTANOATE   \n",
       "3                 104.1045   47130         CPD-3564   \n",
       "4                 300.3921    None  ESTRONE-SULFATE   \n",
       "\n",
       "                                  biofluid_locations cas_registry_number  \\\n",
       "0  {'biofluid': ['Blood', 'Cerebrospinal Fluid (C...            332-80-9   \n",
       "1          {'biofluid': ['Blood', 'Feces', 'Urine']}            109-76-2   \n",
       "2  {'biofluid': ['Blood', 'Cerebrospinal Fluid (C...            600-18-0   \n",
       "3  {'biofluid': ['Blood', 'Cerebrospinal Fluid (C...            600-15-7   \n",
       "4                   {'biofluid': ['Blood', 'Urine']}            362-08-3   \n",
       "\n",
       "  chebi_id chemical_formula chemspider_id           ...            \\\n",
       "0    50599        C7H11N3O2         83153           ...             \n",
       "1    15725          C3H10N2           415           ...             \n",
       "2    30831           C4H6O3            57           ...             \n",
       "3     1148           C4H8O3         10792           ...             \n",
       "4     1189         C19H24O3        389515           ...             \n",
       "\n",
       "                                             spectra   state  \\\n",
       "0  {'spectrum': [{'type': 'Specdb::CMs', 'spectru...   Solid   \n",
       "1  {'spectrum': [{'type': 'Specdb::CMs', 'spectru...  Liquid   \n",
       "2  {'spectrum': [{'type': 'Specdb::CMs', 'spectru...   Solid   \n",
       "3  {'spectrum': [{'type': 'Specdb::CMs', 'spectru...   Solid   \n",
       "4  {'spectrum': [{'type': 'Specdb::CMs', 'spectru...   Solid   \n",
       "\n",
       "                                            synonyms  \\\n",
       "0  {'synonym': ['1 Methylhistidine', '1-Methyl hi...   \n",
       "1  {'synonym': ['1,3-Diamino-N-propane', '1,3-Pro...   \n",
       "2  {'synonym': ['2-Ketobutanoate', '2-Ketobutanoi...   \n",
       "3  {'synonym': ['(RS)-2-Hydroxybutyrate', '(RS)-2...   \n",
       "4  {'synonym': ['2-(8S,9S,13S,14S)-3-Hydroxy-2-me...   \n",
       "\n",
       "                                 synthesis_reference  \\\n",
       "0  Jain, Rahul; Cohen, Louis A. Regiospecific alk...   \n",
       "1  Takayanagi, Yasuyuki; Oohinata, Takahiro.  Pre...   \n",
       "2  Figge, Rainer; Lux, Fabien; Raynaud, Celine; S...   \n",
       "3  Carlier, J. P.; Henry, C.; Lorin, V.; Rouffign...   \n",
       "4  Stoelwinder, Johannes; Moers, Nicolaas Elisabe...   \n",
       "\n",
       "                                            taxonomy  \\\n",
       "0  {'description': 'This compound belongs to the ...   \n",
       "1  {'description': 'This compound belongs to the ...   \n",
       "2  {'description': 'This compound belongs to the ...   \n",
       "3  {'description': 'This compound belongs to the ...   \n",
       "4  {'description': 'This compound belongs to the ...   \n",
       "\n",
       "                            tissue_locations      traditional_iupac  \\\n",
       "0  {'tissue': ['Muscle', 'Skeletal Muscle']}      1 methylhistidine   \n",
       "1                                       None     α,ω-propanediamine   \n",
       "2                                       None     2-oxobutanoic acid   \n",
       "3                     {'tissue': 'Prostate'}  α-hydroxybutyric acid   \n",
       "4                                       None       2-methoxyestrone   \n",
       "\n",
       "               update_date version               wikipidia  \n",
       "0  2017-08-16 03:09:05 UTC     3.6                    None  \n",
       "1  2017-08-16 03:09:07 UTC     3.6                    None  \n",
       "2  2017-08-16 03:09:09 UTC     3.6  Alpha-ketobutyric_acid  \n",
       "3  2017-08-16 03:09:11 UTC     3.6   2-Hydroxybutyric acid  \n",
       "4  2017-08-16 03:09:13 UTC     3.6                    None  \n",
       "\n",
       "[5 rows x 49 columns]"
      ]
     },
     "execution_count": 174,
     "metadata": {},
     "output_type": "execute_result"
    }
   ],
   "source": [
    "df.head()"
   ]
  },
  {
   "cell_type": "code",
   "execution_count": 191,
   "metadata": {},
   "outputs": [
    {
     "data": {
      "text/plain": [
       "(74507, 2)"
      ]
     },
     "execution_count": 191,
     "metadata": {},
     "output_type": "execute_result"
    }
   ],
   "source": [
    "df.shape"
   ]
  },
  {
   "cell_type": "code",
   "execution_count": 189,
   "metadata": {
    "collapsed": true
   },
   "outputs": [],
   "source": [
    "df = df[['name', 'protein_associations']]"
   ]
  },
  {
   "cell_type": "code",
   "execution_count": 190,
   "metadata": {},
   "outputs": [
    {
     "data": {
      "text/html": [
       "<div>\n",
       "<style>\n",
       "    .dataframe thead tr:only-child th {\n",
       "        text-align: right;\n",
       "    }\n",
       "\n",
       "    .dataframe thead th {\n",
       "        text-align: left;\n",
       "    }\n",
       "\n",
       "    .dataframe tbody tr th {\n",
       "        vertical-align: top;\n",
       "    }\n",
       "</style>\n",
       "<table border=\"1\" class=\"dataframe\">\n",
       "  <thead>\n",
       "    <tr style=\"text-align: right;\">\n",
       "      <th></th>\n",
       "      <th>name</th>\n",
       "      <th>protein_associations</th>\n",
       "    </tr>\n",
       "  </thead>\n",
       "  <tbody>\n",
       "    <tr>\n",
       "      <th>0</th>\n",
       "      <td>1-Methylhistidine</td>\n",
       "      <td>{'protein': [{'protein_accession': 'HMDBP00473...</td>\n",
       "    </tr>\n",
       "    <tr>\n",
       "      <th>1</th>\n",
       "      <td>1,3-Diaminopropane</td>\n",
       "      <td>{'protein': [{'protein_accession': 'HMDBP00217...</td>\n",
       "    </tr>\n",
       "    <tr>\n",
       "      <th>2</th>\n",
       "      <td>2-Ketobutyric acid</td>\n",
       "      <td>{'protein': [{'protein_accession': 'HMDBP00012...</td>\n",
       "    </tr>\n",
       "    <tr>\n",
       "      <th>3</th>\n",
       "      <td>2-Hydroxybutyric acid</td>\n",
       "      <td>{'protein': [{'protein_accession': 'HMDBP00054...</td>\n",
       "    </tr>\n",
       "    <tr>\n",
       "      <th>4</th>\n",
       "      <td>2-Methoxyestrone</td>\n",
       "      <td>{'protein': [{'protein_accession': 'HMDBP00272...</td>\n",
       "    </tr>\n",
       "  </tbody>\n",
       "</table>\n",
       "</div>"
      ],
      "text/plain": [
       "                    name                               protein_associations\n",
       "0      1-Methylhistidine  {'protein': [{'protein_accession': 'HMDBP00473...\n",
       "1     1,3-Diaminopropane  {'protein': [{'protein_accession': 'HMDBP00217...\n",
       "2     2-Ketobutyric acid  {'protein': [{'protein_accession': 'HMDBP00012...\n",
       "3  2-Hydroxybutyric acid  {'protein': [{'protein_accession': 'HMDBP00054...\n",
       "4       2-Methoxyestrone  {'protein': [{'protein_accession': 'HMDBP00272..."
      ]
     },
     "execution_count": 190,
     "metadata": {},
     "output_type": "execute_result"
    }
   ],
   "source": [
    "df.head()"
   ]
  },
  {
   "cell_type": "code",
   "execution_count": 241,
   "metadata": {},
   "outputs": [
    {
     "name": "stdout",
     "output_type": "stream",
     "text": [
      "Progeres: 100%  74507 Out of 74507   \r"
     ]
    }
   ],
   "source": [
    "df_interactions = pd.DataFrame()\n",
    "\n",
    "for i, index in enumerate(df.index):\n",
    "    \n",
    "    lst2 = []\n",
    "    \n",
    "    progressPercent = ((i+1)/len(df.index))*100\n",
    "\n",
    "    sys.stdout.write(\"Progeres: %d%%  %d Out of %d   \\r\" % (progressPercent, (i+1), len(df.index)))\n",
    "    sys.stdout.flush()\n",
    "    if type(df.ix[index, 'protein_associations']) != type(df.ix[114, 'protein_associations']):\n",
    "        if type(df.ix[index, 'protein_associations']['protein']) == list:\n",
    "            for j in range(0, len(df.ix[index, 'protein_associations']['protein'])):\n",
    "                lst2.append(df.ix[index, 'protein_associations']['protein'][j]['gene_name'])\n",
    "        else:\n",
    "            lst2.append(df.ix[index, 'protein_associations']['protein']['gene_name'])\n",
    "        lst1 = [df.ix[index, 'name']]*(len(lst2))\n",
    "        temp = pd.DataFrame()\n",
    "        temp['Metabolite'] = lst1\n",
    "        temp['Gene'] = lst2\n",
    "        df_interactions = pd.concat([df_interactions, temp]) "
   ]
  },
  {
   "cell_type": "code",
   "execution_count": 242,
   "metadata": {},
   "outputs": [
    {
     "data": {
      "text/html": [
       "<div>\n",
       "<style>\n",
       "    .dataframe thead tr:only-child th {\n",
       "        text-align: right;\n",
       "    }\n",
       "\n",
       "    .dataframe thead th {\n",
       "        text-align: left;\n",
       "    }\n",
       "\n",
       "    .dataframe tbody tr th {\n",
       "        vertical-align: top;\n",
       "    }\n",
       "</style>\n",
       "<table border=\"1\" class=\"dataframe\">\n",
       "  <thead>\n",
       "    <tr style=\"text-align: right;\">\n",
       "      <th></th>\n",
       "      <th>Metabolite</th>\n",
       "      <th>Gene</th>\n",
       "    </tr>\n",
       "  </thead>\n",
       "  <tbody>\n",
       "    <tr>\n",
       "      <th>0</th>\n",
       "      <td>1-Methylhistidine</td>\n",
       "      <td>CNDP1</td>\n",
       "    </tr>\n",
       "    <tr>\n",
       "      <th>1</th>\n",
       "      <td>1-Methylhistidine</td>\n",
       "      <td>PRMT3</td>\n",
       "    </tr>\n",
       "    <tr>\n",
       "      <th>0</th>\n",
       "      <td>1,3-Diaminopropane</td>\n",
       "      <td>SMS</td>\n",
       "    </tr>\n",
       "    <tr>\n",
       "      <th>1</th>\n",
       "      <td>1,3-Diaminopropane</td>\n",
       "      <td>DHPS</td>\n",
       "    </tr>\n",
       "    <tr>\n",
       "      <th>2</th>\n",
       "      <td>1,3-Diaminopropane</td>\n",
       "      <td>ABP1</td>\n",
       "    </tr>\n",
       "  </tbody>\n",
       "</table>\n",
       "</div>"
      ],
      "text/plain": [
       "           Metabolite   Gene\n",
       "0   1-Methylhistidine  CNDP1\n",
       "1   1-Methylhistidine  PRMT3\n",
       "0  1,3-Diaminopropane    SMS\n",
       "1  1,3-Diaminopropane   DHPS\n",
       "2  1,3-Diaminopropane   ABP1"
      ]
     },
     "execution_count": 242,
     "metadata": {},
     "output_type": "execute_result"
    }
   ],
   "source": [
    "df_interactions.head()"
   ]
  },
  {
   "cell_type": "code",
   "execution_count": 244,
   "metadata": {},
   "outputs": [
    {
     "data": {
      "text/plain": [
       "(861526, 2)"
      ]
     },
     "execution_count": 244,
     "metadata": {},
     "output_type": "execute_result"
    }
   ],
   "source": [
    "df_interactions.shape"
   ]
  },
  {
   "cell_type": "code",
   "execution_count": 245,
   "metadata": {
    "collapsed": true
   },
   "outputs": [],
   "source": [
    "df_interactions.reset_index(inplace=True)"
   ]
  },
  {
   "cell_type": "code",
   "execution_count": 246,
   "metadata": {
    "collapsed": true
   },
   "outputs": [],
   "source": [
    "df_interactions.drop('index', axis=1, inplace=True)"
   ]
  },
  {
   "cell_type": "code",
   "execution_count": 247,
   "metadata": {},
   "outputs": [
    {
     "data": {
      "text/html": [
       "<div>\n",
       "<style>\n",
       "    .dataframe thead tr:only-child th {\n",
       "        text-align: right;\n",
       "    }\n",
       "\n",
       "    .dataframe thead th {\n",
       "        text-align: left;\n",
       "    }\n",
       "\n",
       "    .dataframe tbody tr th {\n",
       "        vertical-align: top;\n",
       "    }\n",
       "</style>\n",
       "<table border=\"1\" class=\"dataframe\">\n",
       "  <thead>\n",
       "    <tr style=\"text-align: right;\">\n",
       "      <th></th>\n",
       "      <th>Metabolite</th>\n",
       "      <th>Gene</th>\n",
       "    </tr>\n",
       "  </thead>\n",
       "  <tbody>\n",
       "    <tr>\n",
       "      <th>0</th>\n",
       "      <td>1-Methylhistidine</td>\n",
       "      <td>CNDP1</td>\n",
       "    </tr>\n",
       "    <tr>\n",
       "      <th>1</th>\n",
       "      <td>1-Methylhistidine</td>\n",
       "      <td>PRMT3</td>\n",
       "    </tr>\n",
       "    <tr>\n",
       "      <th>2</th>\n",
       "      <td>1,3-Diaminopropane</td>\n",
       "      <td>SMS</td>\n",
       "    </tr>\n",
       "    <tr>\n",
       "      <th>3</th>\n",
       "      <td>1,3-Diaminopropane</td>\n",
       "      <td>DHPS</td>\n",
       "    </tr>\n",
       "    <tr>\n",
       "      <th>4</th>\n",
       "      <td>1,3-Diaminopropane</td>\n",
       "      <td>ABP1</td>\n",
       "    </tr>\n",
       "  </tbody>\n",
       "</table>\n",
       "</div>"
      ],
      "text/plain": [
       "           Metabolite   Gene\n",
       "0   1-Methylhistidine  CNDP1\n",
       "1   1-Methylhistidine  PRMT3\n",
       "2  1,3-Diaminopropane    SMS\n",
       "3  1,3-Diaminopropane   DHPS\n",
       "4  1,3-Diaminopropane   ABP1"
      ]
     },
     "execution_count": 247,
     "metadata": {},
     "output_type": "execute_result"
    }
   ],
   "source": [
    "df_interactions.head()"
   ]
  },
  {
   "cell_type": "code",
   "execution_count": 248,
   "metadata": {
    "collapsed": true
   },
   "outputs": [],
   "source": [
    "df_interactions.drop_duplicates(inplace=True)"
   ]
  },
  {
   "cell_type": "code",
   "execution_count": 249,
   "metadata": {},
   "outputs": [
    {
     "data": {
      "text/plain": [
       "(852388, 2)"
      ]
     },
     "execution_count": 249,
     "metadata": {},
     "output_type": "execute_result"
    }
   ],
   "source": [
    "df_interactions.shape"
   ]
  },
  {
   "cell_type": "markdown",
   "metadata": {},
   "source": [
    "# Map Gene Symbols To Up-to-date Approved Gene Symbols"
   ]
  },
  {
   "cell_type": "code",
   "execution_count": 250,
   "metadata": {
    "collapsed": true
   },
   "outputs": [],
   "source": [
    "df_interactions.set_index('Gene', inplace=True)"
   ]
  },
  {
   "cell_type": "code",
   "execution_count": 251,
   "metadata": {},
   "outputs": [
    {
     "name": "stdout",
     "output_type": "stream",
     "text": [
      "Progeres: 99%  851937 Out of 852388   \r"
     ]
    }
   ],
   "source": [
    "uf.mapgenesymbols(df_interactions)"
   ]
  },
  {
   "cell_type": "markdown",
   "metadata": {},
   "source": [
    "# Drop Duplicates"
   ]
  },
  {
   "cell_type": "code",
   "execution_count": 252,
   "metadata": {
    "collapsed": true
   },
   "outputs": [],
   "source": [
    "df_interactions.reset_index(inplace=True)"
   ]
  },
  {
   "cell_type": "code",
   "execution_count": 253,
   "metadata": {
    "collapsed": true
   },
   "outputs": [],
   "source": [
    "df_interactions.drop_duplicates(inplace=True)"
   ]
  },
  {
   "cell_type": "code",
   "execution_count": 254,
   "metadata": {},
   "outputs": [
    {
     "data": {
      "text/plain": [
       "(848829, 2)"
      ]
     },
     "execution_count": 254,
     "metadata": {},
     "output_type": "execute_result"
    }
   ],
   "source": [
    "df_interactions.shape"
   ]
  },
  {
   "cell_type": "markdown",
   "metadata": {},
   "source": [
    "# Create Binary Matrix"
   ]
  },
  {
   "cell_type": "code",
   "execution_count": 255,
   "metadata": {},
   "outputs": [
    {
     "name": "stdout",
     "output_type": "stream",
     "text": [
      "Progeres: 100%  5309 Out of 5309   \r"
     ]
    }
   ],
   "source": [
    "binary_matrix = uf.createBinaryMatix(df_interactions)"
   ]
  },
  {
   "cell_type": "code",
   "execution_count": 256,
   "metadata": {},
   "outputs": [
    {
     "data": {
      "text/html": [
       "<div>\n",
       "<style>\n",
       "    .dataframe thead tr:only-child th {\n",
       "        text-align: right;\n",
       "    }\n",
       "\n",
       "    .dataframe thead th {\n",
       "        text-align: left;\n",
       "    }\n",
       "\n",
       "    .dataframe tbody tr th {\n",
       "        vertical-align: top;\n",
       "    }\n",
       "</style>\n",
       "<table border=\"1\" class=\"dataframe\">\n",
       "  <thead>\n",
       "    <tr style=\"text-align: right;\">\n",
       "      <th></th>\n",
       "      <th>TG(18:3(9Z,12Z,15Z)/20:2n6/22:6(4Z,7Z,10Z,13Z,16Z,19Z))</th>\n",
       "      <th>TG(20:0/15:0/20:4(8Z,11Z,14Z,17Z))</th>\n",
       "      <th>TG(14:0/18:1(11Z)/18:3(9Z,12Z,15Z))</th>\n",
       "      <th>TG(16:1(9Z)/16:1(9Z)/20:1(11Z))</th>\n",
       "      <th>PC(P-18:1(11Z)/20:3(5Z,8Z,11Z))</th>\n",
       "      <th>Folinic acid</th>\n",
       "      <th>TG(20:1(11Z)/22:5(7Z,10Z,13Z,16Z,19Z)/22:5(4Z,7Z,10Z,13Z,16Z))</th>\n",
       "      <th>TG(22:0/22:4(7Z,10Z,13Z,16Z)/20:3n6)</th>\n",
       "      <th>TG(20:2n6/22:2(13Z,16Z)/20:4(8Z,11Z,14Z,17Z))</th>\n",
       "      <th>PE(16:0/14:1(9Z))</th>\n",
       "      <th>...</th>\n",
       "      <th>TG(20:3(5Z,8Z,11Z)/22:0/20:4(5Z,8Z,11Z,14Z))</th>\n",
       "      <th>TG(18:1(9Z)/18:0/22:5(7Z,10Z,13Z,16Z,19Z))</th>\n",
       "      <th>TG(18:1(9Z)/24:0/20:2n6)</th>\n",
       "      <th>TG(16:0/14:0/18:2(9Z,12Z))</th>\n",
       "      <th>TG(20:0/18:3(6Z,9Z,12Z)/20:4(5Z,8Z,11Z,14Z))</th>\n",
       "      <th>TG(16:1(9Z)/18:1(11Z)/18:1(9Z))</th>\n",
       "      <th>TG(16:0/24:1(15Z)/18:3(6Z,9Z,12Z))</th>\n",
       "      <th>TG(24:1(15Z)/22:4(7Z,10Z,13Z,16Z)/22:2(13Z,16Z))</th>\n",
       "      <th>PE(22:5(4Z,7Z,10Z,13Z,16Z)/22:2(13Z,16Z))</th>\n",
       "      <th>Flucytosine</th>\n",
       "    </tr>\n",
       "  </thead>\n",
       "  <tbody>\n",
       "    <tr>\n",
       "      <th>AMPD3</th>\n",
       "      <td>0</td>\n",
       "      <td>0</td>\n",
       "      <td>0</td>\n",
       "      <td>0</td>\n",
       "      <td>0</td>\n",
       "      <td>0</td>\n",
       "      <td>0</td>\n",
       "      <td>0</td>\n",
       "      <td>0</td>\n",
       "      <td>0</td>\n",
       "      <td>...</td>\n",
       "      <td>0</td>\n",
       "      <td>0</td>\n",
       "      <td>0</td>\n",
       "      <td>0</td>\n",
       "      <td>0</td>\n",
       "      <td>0</td>\n",
       "      <td>0</td>\n",
       "      <td>0</td>\n",
       "      <td>0</td>\n",
       "      <td>0</td>\n",
       "    </tr>\n",
       "    <tr>\n",
       "      <th>CDK4</th>\n",
       "      <td>0</td>\n",
       "      <td>0</td>\n",
       "      <td>0</td>\n",
       "      <td>0</td>\n",
       "      <td>0</td>\n",
       "      <td>0</td>\n",
       "      <td>0</td>\n",
       "      <td>0</td>\n",
       "      <td>0</td>\n",
       "      <td>0</td>\n",
       "      <td>...</td>\n",
       "      <td>0</td>\n",
       "      <td>0</td>\n",
       "      <td>0</td>\n",
       "      <td>0</td>\n",
       "      <td>0</td>\n",
       "      <td>0</td>\n",
       "      <td>0</td>\n",
       "      <td>0</td>\n",
       "      <td>0</td>\n",
       "      <td>0</td>\n",
       "    </tr>\n",
       "    <tr>\n",
       "      <th>ATP7B</th>\n",
       "      <td>0</td>\n",
       "      <td>0</td>\n",
       "      <td>0</td>\n",
       "      <td>0</td>\n",
       "      <td>0</td>\n",
       "      <td>0</td>\n",
       "      <td>0</td>\n",
       "      <td>0</td>\n",
       "      <td>0</td>\n",
       "      <td>0</td>\n",
       "      <td>...</td>\n",
       "      <td>0</td>\n",
       "      <td>0</td>\n",
       "      <td>0</td>\n",
       "      <td>0</td>\n",
       "      <td>0</td>\n",
       "      <td>0</td>\n",
       "      <td>0</td>\n",
       "      <td>0</td>\n",
       "      <td>0</td>\n",
       "      <td>0</td>\n",
       "    </tr>\n",
       "    <tr>\n",
       "      <th>SET</th>\n",
       "      <td>0</td>\n",
       "      <td>0</td>\n",
       "      <td>0</td>\n",
       "      <td>0</td>\n",
       "      <td>0</td>\n",
       "      <td>0</td>\n",
       "      <td>0</td>\n",
       "      <td>0</td>\n",
       "      <td>0</td>\n",
       "      <td>0</td>\n",
       "      <td>...</td>\n",
       "      <td>0</td>\n",
       "      <td>0</td>\n",
       "      <td>0</td>\n",
       "      <td>0</td>\n",
       "      <td>0</td>\n",
       "      <td>0</td>\n",
       "      <td>0</td>\n",
       "      <td>0</td>\n",
       "      <td>0</td>\n",
       "      <td>0</td>\n",
       "    </tr>\n",
       "    <tr>\n",
       "      <th>MERTK</th>\n",
       "      <td>0</td>\n",
       "      <td>0</td>\n",
       "      <td>0</td>\n",
       "      <td>0</td>\n",
       "      <td>0</td>\n",
       "      <td>0</td>\n",
       "      <td>0</td>\n",
       "      <td>0</td>\n",
       "      <td>0</td>\n",
       "      <td>0</td>\n",
       "      <td>...</td>\n",
       "      <td>0</td>\n",
       "      <td>0</td>\n",
       "      <td>0</td>\n",
       "      <td>0</td>\n",
       "      <td>0</td>\n",
       "      <td>0</td>\n",
       "      <td>0</td>\n",
       "      <td>0</td>\n",
       "      <td>0</td>\n",
       "      <td>0</td>\n",
       "    </tr>\n",
       "  </tbody>\n",
       "</table>\n",
       "<p>5 rows × 22128 columns</p>\n",
       "</div>"
      ],
      "text/plain": [
       "       TG(18:3(9Z,12Z,15Z)/20:2n6/22:6(4Z,7Z,10Z,13Z,16Z,19Z))  \\\n",
       "AMPD3                                                  0         \n",
       "CDK4                                                   0         \n",
       "ATP7B                                                  0         \n",
       "SET                                                    0         \n",
       "MERTK                                                  0         \n",
       "\n",
       "       TG(20:0/15:0/20:4(8Z,11Z,14Z,17Z))  \\\n",
       "AMPD3                                   0   \n",
       "CDK4                                    0   \n",
       "ATP7B                                   0   \n",
       "SET                                     0   \n",
       "MERTK                                   0   \n",
       "\n",
       "       TG(14:0/18:1(11Z)/18:3(9Z,12Z,15Z))  TG(16:1(9Z)/16:1(9Z)/20:1(11Z))  \\\n",
       "AMPD3                                    0                                0   \n",
       "CDK4                                     0                                0   \n",
       "ATP7B                                    0                                0   \n",
       "SET                                      0                                0   \n",
       "MERTK                                    0                                0   \n",
       "\n",
       "       PC(P-18:1(11Z)/20:3(5Z,8Z,11Z))  Folinic acid  \\\n",
       "AMPD3                                0             0   \n",
       "CDK4                                 0             0   \n",
       "ATP7B                                0             0   \n",
       "SET                                  0             0   \n",
       "MERTK                                0             0   \n",
       "\n",
       "       TG(20:1(11Z)/22:5(7Z,10Z,13Z,16Z,19Z)/22:5(4Z,7Z,10Z,13Z,16Z))  \\\n",
       "AMPD3                                                  0                \n",
       "CDK4                                                   0                \n",
       "ATP7B                                                  0                \n",
       "SET                                                    0                \n",
       "MERTK                                                  0                \n",
       "\n",
       "       TG(22:0/22:4(7Z,10Z,13Z,16Z)/20:3n6)  \\\n",
       "AMPD3                                     0   \n",
       "CDK4                                      0   \n",
       "ATP7B                                     0   \n",
       "SET                                       0   \n",
       "MERTK                                     0   \n",
       "\n",
       "       TG(20:2n6/22:2(13Z,16Z)/20:4(8Z,11Z,14Z,17Z))  PE(16:0/14:1(9Z))  \\\n",
       "AMPD3                                              0                  0   \n",
       "CDK4                                               0                  0   \n",
       "ATP7B                                              0                  0   \n",
       "SET                                                0                  0   \n",
       "MERTK                                              0                  0   \n",
       "\n",
       "          ...       TG(20:3(5Z,8Z,11Z)/22:0/20:4(5Z,8Z,11Z,14Z))  \\\n",
       "AMPD3     ...                                                  0   \n",
       "CDK4      ...                                                  0   \n",
       "ATP7B     ...                                                  0   \n",
       "SET       ...                                                  0   \n",
       "MERTK     ...                                                  0   \n",
       "\n",
       "       TG(18:1(9Z)/18:0/22:5(7Z,10Z,13Z,16Z,19Z))  TG(18:1(9Z)/24:0/20:2n6)  \\\n",
       "AMPD3                                           0                         0   \n",
       "CDK4                                            0                         0   \n",
       "ATP7B                                           0                         0   \n",
       "SET                                             0                         0   \n",
       "MERTK                                           0                         0   \n",
       "\n",
       "       TG(16:0/14:0/18:2(9Z,12Z))  \\\n",
       "AMPD3                           0   \n",
       "CDK4                            0   \n",
       "ATP7B                           0   \n",
       "SET                             0   \n",
       "MERTK                           0   \n",
       "\n",
       "       TG(20:0/18:3(6Z,9Z,12Z)/20:4(5Z,8Z,11Z,14Z))  \\\n",
       "AMPD3                                             0   \n",
       "CDK4                                              0   \n",
       "ATP7B                                             0   \n",
       "SET                                               0   \n",
       "MERTK                                             0   \n",
       "\n",
       "       TG(16:1(9Z)/18:1(11Z)/18:1(9Z))  TG(16:0/24:1(15Z)/18:3(6Z,9Z,12Z))  \\\n",
       "AMPD3                                0                                   0   \n",
       "CDK4                                 0                                   0   \n",
       "ATP7B                                0                                   0   \n",
       "SET                                  0                                   0   \n",
       "MERTK                                0                                   0   \n",
       "\n",
       "       TG(24:1(15Z)/22:4(7Z,10Z,13Z,16Z)/22:2(13Z,16Z))  \\\n",
       "AMPD3                                                 0   \n",
       "CDK4                                                  0   \n",
       "ATP7B                                                 0   \n",
       "SET                                                   0   \n",
       "MERTK                                                 0   \n",
       "\n",
       "       PE(22:5(4Z,7Z,10Z,13Z,16Z)/22:2(13Z,16Z))  Flucytosine  \n",
       "AMPD3                                          0            0  \n",
       "CDK4                                           0            0  \n",
       "ATP7B                                          0            0  \n",
       "SET                                            0            0  \n",
       "MERTK                                          0            0  \n",
       "\n",
       "[5 rows x 22128 columns]"
      ]
     },
     "execution_count": 256,
     "metadata": {},
     "output_type": "execute_result"
    }
   ],
   "source": [
    "binary_matrix.head()"
   ]
  },
  {
   "cell_type": "code",
   "execution_count": 257,
   "metadata": {},
   "outputs": [
    {
     "data": {
      "text/plain": [
       "(5309, 22128)"
      ]
     },
     "execution_count": 257,
     "metadata": {},
     "output_type": "execute_result"
    }
   ],
   "source": [
    "binary_matrix.shape"
   ]
  },
  {
   "cell_type": "markdown",
   "metadata": {},
   "source": [
    "# Save Binary Matrix"
   ]
  },
  {
   "cell_type": "code",
   "execution_count": 258,
   "metadata": {
    "collapsed": true
   },
   "outputs": [],
   "source": [
    "filename = '~/./Documents/Harmonizome/The Human Metabolome Database (HMDB)/Output/hmdb_binary_matrix_%s.tsv.zip'% str(datetime.date.today())[0:7].replace('-', '_')\n",
    "binary_matrix.to_csv(filename, sep='\\t', compression='gzip')"
   ]
  },
  {
   "cell_type": "markdown",
   "metadata": {},
   "source": [
    "# Create Gene Set Library"
   ]
  },
  {
   "cell_type": "code",
   "execution_count": 259,
   "metadata": {
    "collapsed": true
   },
   "outputs": [],
   "source": [
    "path = '/Users/moshesilverstein/Documents/Harmonizome/The Human Metabolome Database (HMDB)/Output/'"
   ]
  },
  {
   "cell_type": "code",
   "execution_count": 260,
   "metadata": {
    "collapsed": true
   },
   "outputs": [],
   "source": [
    "name = 'hmdb_gene_set'"
   ]
  },
  {
   "cell_type": "code",
   "execution_count": 261,
   "metadata": {},
   "outputs": [
    {
     "name": "stdout",
     "output_type": "stream",
     "text": [
      "Progeres: 100%  22128 Out of 22128   \r"
     ]
    }
   ],
   "source": [
    "uf.createUpGeneSetLib(binary_matrix, path, name)"
   ]
  },
  {
   "cell_type": "markdown",
   "metadata": {},
   "source": [
    "# Create Attribute Library"
   ]
  },
  {
   "cell_type": "code",
   "execution_count": 262,
   "metadata": {
    "collapsed": true
   },
   "outputs": [],
   "source": [
    "path = '/Users/moshesilverstein/Documents/Harmonizome/The Human Metabolome Database (HMDB)/Output/'"
   ]
  },
  {
   "cell_type": "code",
   "execution_count": 263,
   "metadata": {
    "collapsed": true
   },
   "outputs": [],
   "source": [
    "name = 'hmdb_attribute_set'"
   ]
  },
  {
   "cell_type": "code",
   "execution_count": 264,
   "metadata": {},
   "outputs": [
    {
     "name": "stdout",
     "output_type": "stream",
     "text": [
      "Progeres: 100%  5309 Out of 5309   \r"
     ]
    }
   ],
   "source": [
    "uf.createUpAttributeSetLib(binary_matrix, path, name)"
   ]
  },
  {
   "cell_type": "markdown",
   "metadata": {},
   "source": [
    "# Create Gene Similarity Matrix"
   ]
  },
  {
   "cell_type": "code",
   "execution_count": 265,
   "metadata": {
    "collapsed": true
   },
   "outputs": [],
   "source": [
    "gene_similarity_matix = uf.createSimilarityMatrix(binary_matrix, 'jaccard')"
   ]
  },
  {
   "cell_type": "code",
   "execution_count": 266,
   "metadata": {},
   "outputs": [
    {
     "data": {
      "text/html": [
       "<div>\n",
       "<style>\n",
       "    .dataframe thead tr:only-child th {\n",
       "        text-align: right;\n",
       "    }\n",
       "\n",
       "    .dataframe thead th {\n",
       "        text-align: left;\n",
       "    }\n",
       "\n",
       "    .dataframe tbody tr th {\n",
       "        vertical-align: top;\n",
       "    }\n",
       "</style>\n",
       "<table border=\"1\" class=\"dataframe\">\n",
       "  <thead>\n",
       "    <tr style=\"text-align: right;\">\n",
       "      <th></th>\n",
       "      <th>AMPD3</th>\n",
       "      <th>CDK4</th>\n",
       "      <th>ATP7B</th>\n",
       "      <th>SET</th>\n",
       "      <th>MERTK</th>\n",
       "      <th>LPAR5</th>\n",
       "      <th>B3GAT2</th>\n",
       "      <th>LAT</th>\n",
       "      <th>TSTA3</th>\n",
       "      <th>SCGB1A1</th>\n",
       "      <th>...</th>\n",
       "      <th>MT1L</th>\n",
       "      <th>NME4</th>\n",
       "      <th>CATSPER1</th>\n",
       "      <th>CDKL5</th>\n",
       "      <th>NT5C2</th>\n",
       "      <th>XCR1</th>\n",
       "      <th>GTPBP10</th>\n",
       "      <th>NSD2</th>\n",
       "      <th>GSPT2</th>\n",
       "      <th>ARHGEF12</th>\n",
       "    </tr>\n",
       "  </thead>\n",
       "  <tbody>\n",
       "    <tr>\n",
       "      <th>AMPD3</th>\n",
       "      <td>1.0</td>\n",
       "      <td>0.000000</td>\n",
       "      <td>0.100000</td>\n",
       "      <td>0.0</td>\n",
       "      <td>0.000000</td>\n",
       "      <td>0.0</td>\n",
       "      <td>0.0</td>\n",
       "      <td>0.0</td>\n",
       "      <td>0.0</td>\n",
       "      <td>0.0</td>\n",
       "      <td>...</td>\n",
       "      <td>0.0</td>\n",
       "      <td>0.000000</td>\n",
       "      <td>0.0</td>\n",
       "      <td>0.000000</td>\n",
       "      <td>0.103448</td>\n",
       "      <td>0.0</td>\n",
       "      <td>0.0</td>\n",
       "      <td>0.0</td>\n",
       "      <td>0.0</td>\n",
       "      <td>0.0</td>\n",
       "    </tr>\n",
       "    <tr>\n",
       "      <th>CDK4</th>\n",
       "      <td>0.0</td>\n",
       "      <td>1.000000</td>\n",
       "      <td>0.333333</td>\n",
       "      <td>0.0</td>\n",
       "      <td>1.000000</td>\n",
       "      <td>0.0</td>\n",
       "      <td>0.0</td>\n",
       "      <td>0.0</td>\n",
       "      <td>0.0</td>\n",
       "      <td>0.0</td>\n",
       "      <td>...</td>\n",
       "      <td>0.0</td>\n",
       "      <td>0.086957</td>\n",
       "      <td>0.0</td>\n",
       "      <td>1.000000</td>\n",
       "      <td>0.000000</td>\n",
       "      <td>0.0</td>\n",
       "      <td>0.0</td>\n",
       "      <td>0.0</td>\n",
       "      <td>0.0</td>\n",
       "      <td>0.0</td>\n",
       "    </tr>\n",
       "    <tr>\n",
       "      <th>ATP7B</th>\n",
       "      <td>0.1</td>\n",
       "      <td>0.333333</td>\n",
       "      <td>1.000000</td>\n",
       "      <td>0.0</td>\n",
       "      <td>0.333333</td>\n",
       "      <td>0.0</td>\n",
       "      <td>0.0</td>\n",
       "      <td>0.0</td>\n",
       "      <td>0.0</td>\n",
       "      <td>0.0</td>\n",
       "      <td>...</td>\n",
       "      <td>0.0</td>\n",
       "      <td>0.074074</td>\n",
       "      <td>0.0</td>\n",
       "      <td>0.333333</td>\n",
       "      <td>0.031250</td>\n",
       "      <td>0.0</td>\n",
       "      <td>0.0</td>\n",
       "      <td>0.0</td>\n",
       "      <td>0.0</td>\n",
       "      <td>0.0</td>\n",
       "    </tr>\n",
       "    <tr>\n",
       "      <th>SET</th>\n",
       "      <td>0.0</td>\n",
       "      <td>0.000000</td>\n",
       "      <td>0.000000</td>\n",
       "      <td>1.0</td>\n",
       "      <td>0.000000</td>\n",
       "      <td>0.0</td>\n",
       "      <td>0.0</td>\n",
       "      <td>1.0</td>\n",
       "      <td>0.0</td>\n",
       "      <td>0.0</td>\n",
       "      <td>...</td>\n",
       "      <td>0.0</td>\n",
       "      <td>0.000000</td>\n",
       "      <td>1.0</td>\n",
       "      <td>0.000000</td>\n",
       "      <td>0.000000</td>\n",
       "      <td>1.0</td>\n",
       "      <td>0.0</td>\n",
       "      <td>0.0</td>\n",
       "      <td>0.0</td>\n",
       "      <td>0.0</td>\n",
       "    </tr>\n",
       "    <tr>\n",
       "      <th>MERTK</th>\n",
       "      <td>0.0</td>\n",
       "      <td>1.000000</td>\n",
       "      <td>0.333333</td>\n",
       "      <td>0.0</td>\n",
       "      <td>1.000000</td>\n",
       "      <td>0.0</td>\n",
       "      <td>0.0</td>\n",
       "      <td>0.0</td>\n",
       "      <td>0.0</td>\n",
       "      <td>0.0</td>\n",
       "      <td>...</td>\n",
       "      <td>0.0</td>\n",
       "      <td>0.086957</td>\n",
       "      <td>0.0</td>\n",
       "      <td>1.000000</td>\n",
       "      <td>0.000000</td>\n",
       "      <td>0.0</td>\n",
       "      <td>0.0</td>\n",
       "      <td>0.0</td>\n",
       "      <td>0.0</td>\n",
       "      <td>0.0</td>\n",
       "    </tr>\n",
       "  </tbody>\n",
       "</table>\n",
       "<p>5 rows × 5309 columns</p>\n",
       "</div>"
      ],
      "text/plain": [
       "       AMPD3      CDK4     ATP7B  SET     MERTK  LPAR5  B3GAT2  LAT  TSTA3  \\\n",
       "AMPD3    1.0  0.000000  0.100000  0.0  0.000000    0.0     0.0  0.0    0.0   \n",
       "CDK4     0.0  1.000000  0.333333  0.0  1.000000    0.0     0.0  0.0    0.0   \n",
       "ATP7B    0.1  0.333333  1.000000  0.0  0.333333    0.0     0.0  0.0    0.0   \n",
       "SET      0.0  0.000000  0.000000  1.0  0.000000    0.0     0.0  1.0    0.0   \n",
       "MERTK    0.0  1.000000  0.333333  0.0  1.000000    0.0     0.0  0.0    0.0   \n",
       "\n",
       "       SCGB1A1    ...     MT1L      NME4  CATSPER1     CDKL5     NT5C2  XCR1  \\\n",
       "AMPD3      0.0    ...      0.0  0.000000       0.0  0.000000  0.103448   0.0   \n",
       "CDK4       0.0    ...      0.0  0.086957       0.0  1.000000  0.000000   0.0   \n",
       "ATP7B      0.0    ...      0.0  0.074074       0.0  0.333333  0.031250   0.0   \n",
       "SET        0.0    ...      0.0  0.000000       1.0  0.000000  0.000000   1.0   \n",
       "MERTK      0.0    ...      0.0  0.086957       0.0  1.000000  0.000000   0.0   \n",
       "\n",
       "       GTPBP10  NSD2  GSPT2  ARHGEF12  \n",
       "AMPD3      0.0   0.0    0.0       0.0  \n",
       "CDK4       0.0   0.0    0.0       0.0  \n",
       "ATP7B      0.0   0.0    0.0       0.0  \n",
       "SET        0.0   0.0    0.0       0.0  \n",
       "MERTK      0.0   0.0    0.0       0.0  \n",
       "\n",
       "[5 rows x 5309 columns]"
      ]
     },
     "execution_count": 266,
     "metadata": {},
     "output_type": "execute_result"
    }
   ],
   "source": [
    "gene_similarity_matix.head()"
   ]
  },
  {
   "cell_type": "markdown",
   "metadata": {},
   "source": [
    "# Save Gene Similarity Matrix"
   ]
  },
  {
   "cell_type": "code",
   "execution_count": 267,
   "metadata": {
    "collapsed": true
   },
   "outputs": [],
   "source": [
    "filename = '~/./Documents/Harmonizome/The Human Metabolome Database (HMDB)/Output/hmdb_gene_similarity_matix_%s.tsv.zip'% str(datetime.date.today())[0:7].replace('-', '_')\n",
    "gene_similarity_matix.to_csv(filename, sep='\\t', compression='gzip')"
   ]
  },
  {
   "cell_type": "markdown",
   "metadata": {},
   "source": [
    "# Create Attribute Similarity matrix"
   ]
  },
  {
   "cell_type": "code",
   "execution_count": 268,
   "metadata": {
    "collapsed": true
   },
   "outputs": [],
   "source": [
    "attribute_similarity_matix = uf.createSimilarityMatrix(binary_matrix.T, 'jaccard')"
   ]
  },
  {
   "cell_type": "code",
   "execution_count": 269,
   "metadata": {},
   "outputs": [
    {
     "data": {
      "text/html": [
       "<div>\n",
       "<style>\n",
       "    .dataframe thead tr:only-child th {\n",
       "        text-align: right;\n",
       "    }\n",
       "\n",
       "    .dataframe thead th {\n",
       "        text-align: left;\n",
       "    }\n",
       "\n",
       "    .dataframe tbody tr th {\n",
       "        vertical-align: top;\n",
       "    }\n",
       "</style>\n",
       "<table border=\"1\" class=\"dataframe\">\n",
       "  <thead>\n",
       "    <tr style=\"text-align: right;\">\n",
       "      <th></th>\n",
       "      <th>TG(18:3(9Z,12Z,15Z)/20:2n6/22:6(4Z,7Z,10Z,13Z,16Z,19Z))</th>\n",
       "      <th>TG(20:0/15:0/20:4(8Z,11Z,14Z,17Z))</th>\n",
       "      <th>TG(14:0/18:1(11Z)/18:3(9Z,12Z,15Z))</th>\n",
       "      <th>TG(16:1(9Z)/16:1(9Z)/20:1(11Z))</th>\n",
       "      <th>PC(P-18:1(11Z)/20:3(5Z,8Z,11Z))</th>\n",
       "      <th>Folinic acid</th>\n",
       "      <th>TG(20:1(11Z)/22:5(7Z,10Z,13Z,16Z,19Z)/22:5(4Z,7Z,10Z,13Z,16Z))</th>\n",
       "      <th>TG(22:0/22:4(7Z,10Z,13Z,16Z)/20:3n6)</th>\n",
       "      <th>TG(20:2n6/22:2(13Z,16Z)/20:4(8Z,11Z,14Z,17Z))</th>\n",
       "      <th>PE(16:0/14:1(9Z))</th>\n",
       "      <th>...</th>\n",
       "      <th>TG(20:3(5Z,8Z,11Z)/22:0/20:4(5Z,8Z,11Z,14Z))</th>\n",
       "      <th>TG(18:1(9Z)/18:0/22:5(7Z,10Z,13Z,16Z,19Z))</th>\n",
       "      <th>TG(18:1(9Z)/24:0/20:2n6)</th>\n",
       "      <th>TG(16:0/14:0/18:2(9Z,12Z))</th>\n",
       "      <th>TG(20:0/18:3(6Z,9Z,12Z)/20:4(5Z,8Z,11Z,14Z))</th>\n",
       "      <th>TG(16:1(9Z)/18:1(11Z)/18:1(9Z))</th>\n",
       "      <th>TG(16:0/24:1(15Z)/18:3(6Z,9Z,12Z))</th>\n",
       "      <th>TG(24:1(15Z)/22:4(7Z,10Z,13Z,16Z)/22:2(13Z,16Z))</th>\n",
       "      <th>PE(22:5(4Z,7Z,10Z,13Z,16Z)/22:2(13Z,16Z))</th>\n",
       "      <th>Flucytosine</th>\n",
       "    </tr>\n",
       "  </thead>\n",
       "  <tbody>\n",
       "    <tr>\n",
       "      <th>TG(18:3(9Z,12Z,15Z)/20:2n6/22:6(4Z,7Z,10Z,13Z,16Z,19Z))</th>\n",
       "      <td>1.000000</td>\n",
       "      <td>1.000000</td>\n",
       "      <td>1.000000</td>\n",
       "      <td>0.641026</td>\n",
       "      <td>0.029126</td>\n",
       "      <td>0.0</td>\n",
       "      <td>1.000000</td>\n",
       "      <td>1.000000</td>\n",
       "      <td>1.000000</td>\n",
       "      <td>0.000000</td>\n",
       "      <td>...</td>\n",
       "      <td>1.000000</td>\n",
       "      <td>1.000000</td>\n",
       "      <td>1.000000</td>\n",
       "      <td>0.538462</td>\n",
       "      <td>1.000000</td>\n",
       "      <td>1.000000</td>\n",
       "      <td>1.000000</td>\n",
       "      <td>1.000000</td>\n",
       "      <td>0.000000</td>\n",
       "      <td>0.0</td>\n",
       "    </tr>\n",
       "    <tr>\n",
       "      <th>TG(20:0/15:0/20:4(8Z,11Z,14Z,17Z))</th>\n",
       "      <td>1.000000</td>\n",
       "      <td>1.000000</td>\n",
       "      <td>1.000000</td>\n",
       "      <td>0.641026</td>\n",
       "      <td>0.029126</td>\n",
       "      <td>0.0</td>\n",
       "      <td>1.000000</td>\n",
       "      <td>1.000000</td>\n",
       "      <td>1.000000</td>\n",
       "      <td>0.000000</td>\n",
       "      <td>...</td>\n",
       "      <td>1.000000</td>\n",
       "      <td>1.000000</td>\n",
       "      <td>1.000000</td>\n",
       "      <td>0.538462</td>\n",
       "      <td>1.000000</td>\n",
       "      <td>1.000000</td>\n",
       "      <td>1.000000</td>\n",
       "      <td>1.000000</td>\n",
       "      <td>0.000000</td>\n",
       "      <td>0.0</td>\n",
       "    </tr>\n",
       "    <tr>\n",
       "      <th>TG(14:0/18:1(11Z)/18:3(9Z,12Z,15Z))</th>\n",
       "      <td>1.000000</td>\n",
       "      <td>1.000000</td>\n",
       "      <td>1.000000</td>\n",
       "      <td>0.641026</td>\n",
       "      <td>0.029126</td>\n",
       "      <td>0.0</td>\n",
       "      <td>1.000000</td>\n",
       "      <td>1.000000</td>\n",
       "      <td>1.000000</td>\n",
       "      <td>0.000000</td>\n",
       "      <td>...</td>\n",
       "      <td>1.000000</td>\n",
       "      <td>1.000000</td>\n",
       "      <td>1.000000</td>\n",
       "      <td>0.538462</td>\n",
       "      <td>1.000000</td>\n",
       "      <td>1.000000</td>\n",
       "      <td>1.000000</td>\n",
       "      <td>1.000000</td>\n",
       "      <td>0.000000</td>\n",
       "      <td>0.0</td>\n",
       "    </tr>\n",
       "    <tr>\n",
       "      <th>TG(16:1(9Z)/16:1(9Z)/20:1(11Z))</th>\n",
       "      <td>0.641026</td>\n",
       "      <td>0.641026</td>\n",
       "      <td>0.641026</td>\n",
       "      <td>1.000000</td>\n",
       "      <td>0.020000</td>\n",
       "      <td>0.0</td>\n",
       "      <td>0.641026</td>\n",
       "      <td>0.641026</td>\n",
       "      <td>0.641026</td>\n",
       "      <td>0.000000</td>\n",
       "      <td>...</td>\n",
       "      <td>0.641026</td>\n",
       "      <td>0.641026</td>\n",
       "      <td>0.641026</td>\n",
       "      <td>0.866667</td>\n",
       "      <td>0.641026</td>\n",
       "      <td>0.641026</td>\n",
       "      <td>0.641026</td>\n",
       "      <td>0.641026</td>\n",
       "      <td>0.000000</td>\n",
       "      <td>0.0</td>\n",
       "    </tr>\n",
       "    <tr>\n",
       "      <th>PC(P-18:1(11Z)/20:3(5Z,8Z,11Z))</th>\n",
       "      <td>0.029126</td>\n",
       "      <td>0.029126</td>\n",
       "      <td>0.029126</td>\n",
       "      <td>0.020000</td>\n",
       "      <td>1.000000</td>\n",
       "      <td>0.0</td>\n",
       "      <td>0.029126</td>\n",
       "      <td>0.029126</td>\n",
       "      <td>0.029126</td>\n",
       "      <td>0.474359</td>\n",
       "      <td>...</td>\n",
       "      <td>0.029126</td>\n",
       "      <td>0.029126</td>\n",
       "      <td>0.029126</td>\n",
       "      <td>0.020833</td>\n",
       "      <td>0.029126</td>\n",
       "      <td>0.029126</td>\n",
       "      <td>0.029126</td>\n",
       "      <td>0.029126</td>\n",
       "      <td>0.474359</td>\n",
       "      <td>0.0</td>\n",
       "    </tr>\n",
       "  </tbody>\n",
       "</table>\n",
       "<p>5 rows × 22128 columns</p>\n",
       "</div>"
      ],
      "text/plain": [
       "                                                    TG(18:3(9Z,12Z,15Z)/20:2n6/22:6(4Z,7Z,10Z,13Z,16Z,19Z))  \\\n",
       "TG(18:3(9Z,12Z,15Z)/20:2n6/22:6(4Z,7Z,10Z,13Z,1...                                           1.000000         \n",
       "TG(20:0/15:0/20:4(8Z,11Z,14Z,17Z))                                                           1.000000         \n",
       "TG(14:0/18:1(11Z)/18:3(9Z,12Z,15Z))                                                          1.000000         \n",
       "TG(16:1(9Z)/16:1(9Z)/20:1(11Z))                                                              0.641026         \n",
       "PC(P-18:1(11Z)/20:3(5Z,8Z,11Z))                                                              0.029126         \n",
       "\n",
       "                                                    TG(20:0/15:0/20:4(8Z,11Z,14Z,17Z))  \\\n",
       "TG(18:3(9Z,12Z,15Z)/20:2n6/22:6(4Z,7Z,10Z,13Z,1...                            1.000000   \n",
       "TG(20:0/15:0/20:4(8Z,11Z,14Z,17Z))                                            1.000000   \n",
       "TG(14:0/18:1(11Z)/18:3(9Z,12Z,15Z))                                           1.000000   \n",
       "TG(16:1(9Z)/16:1(9Z)/20:1(11Z))                                               0.641026   \n",
       "PC(P-18:1(11Z)/20:3(5Z,8Z,11Z))                                               0.029126   \n",
       "\n",
       "                                                    TG(14:0/18:1(11Z)/18:3(9Z,12Z,15Z))  \\\n",
       "TG(18:3(9Z,12Z,15Z)/20:2n6/22:6(4Z,7Z,10Z,13Z,1...                             1.000000   \n",
       "TG(20:0/15:0/20:4(8Z,11Z,14Z,17Z))                                             1.000000   \n",
       "TG(14:0/18:1(11Z)/18:3(9Z,12Z,15Z))                                            1.000000   \n",
       "TG(16:1(9Z)/16:1(9Z)/20:1(11Z))                                                0.641026   \n",
       "PC(P-18:1(11Z)/20:3(5Z,8Z,11Z))                                                0.029126   \n",
       "\n",
       "                                                    TG(16:1(9Z)/16:1(9Z)/20:1(11Z))  \\\n",
       "TG(18:3(9Z,12Z,15Z)/20:2n6/22:6(4Z,7Z,10Z,13Z,1...                         0.641026   \n",
       "TG(20:0/15:0/20:4(8Z,11Z,14Z,17Z))                                         0.641026   \n",
       "TG(14:0/18:1(11Z)/18:3(9Z,12Z,15Z))                                        0.641026   \n",
       "TG(16:1(9Z)/16:1(9Z)/20:1(11Z))                                            1.000000   \n",
       "PC(P-18:1(11Z)/20:3(5Z,8Z,11Z))                                            0.020000   \n",
       "\n",
       "                                                    PC(P-18:1(11Z)/20:3(5Z,8Z,11Z))  \\\n",
       "TG(18:3(9Z,12Z,15Z)/20:2n6/22:6(4Z,7Z,10Z,13Z,1...                         0.029126   \n",
       "TG(20:0/15:0/20:4(8Z,11Z,14Z,17Z))                                         0.029126   \n",
       "TG(14:0/18:1(11Z)/18:3(9Z,12Z,15Z))                                        0.029126   \n",
       "TG(16:1(9Z)/16:1(9Z)/20:1(11Z))                                            0.020000   \n",
       "PC(P-18:1(11Z)/20:3(5Z,8Z,11Z))                                            1.000000   \n",
       "\n",
       "                                                    Folinic acid  \\\n",
       "TG(18:3(9Z,12Z,15Z)/20:2n6/22:6(4Z,7Z,10Z,13Z,1...           0.0   \n",
       "TG(20:0/15:0/20:4(8Z,11Z,14Z,17Z))                           0.0   \n",
       "TG(14:0/18:1(11Z)/18:3(9Z,12Z,15Z))                          0.0   \n",
       "TG(16:1(9Z)/16:1(9Z)/20:1(11Z))                              0.0   \n",
       "PC(P-18:1(11Z)/20:3(5Z,8Z,11Z))                              0.0   \n",
       "\n",
       "                                                    TG(20:1(11Z)/22:5(7Z,10Z,13Z,16Z,19Z)/22:5(4Z,7Z,10Z,13Z,16Z))  \\\n",
       "TG(18:3(9Z,12Z,15Z)/20:2n6/22:6(4Z,7Z,10Z,13Z,1...                                           1.000000                \n",
       "TG(20:0/15:0/20:4(8Z,11Z,14Z,17Z))                                                           1.000000                \n",
       "TG(14:0/18:1(11Z)/18:3(9Z,12Z,15Z))                                                          1.000000                \n",
       "TG(16:1(9Z)/16:1(9Z)/20:1(11Z))                                                              0.641026                \n",
       "PC(P-18:1(11Z)/20:3(5Z,8Z,11Z))                                                              0.029126                \n",
       "\n",
       "                                                    TG(22:0/22:4(7Z,10Z,13Z,16Z)/20:3n6)  \\\n",
       "TG(18:3(9Z,12Z,15Z)/20:2n6/22:6(4Z,7Z,10Z,13Z,1...                              1.000000   \n",
       "TG(20:0/15:0/20:4(8Z,11Z,14Z,17Z))                                              1.000000   \n",
       "TG(14:0/18:1(11Z)/18:3(9Z,12Z,15Z))                                             1.000000   \n",
       "TG(16:1(9Z)/16:1(9Z)/20:1(11Z))                                                 0.641026   \n",
       "PC(P-18:1(11Z)/20:3(5Z,8Z,11Z))                                                 0.029126   \n",
       "\n",
       "                                                    TG(20:2n6/22:2(13Z,16Z)/20:4(8Z,11Z,14Z,17Z))  \\\n",
       "TG(18:3(9Z,12Z,15Z)/20:2n6/22:6(4Z,7Z,10Z,13Z,1...                                       1.000000   \n",
       "TG(20:0/15:0/20:4(8Z,11Z,14Z,17Z))                                                       1.000000   \n",
       "TG(14:0/18:1(11Z)/18:3(9Z,12Z,15Z))                                                      1.000000   \n",
       "TG(16:1(9Z)/16:1(9Z)/20:1(11Z))                                                          0.641026   \n",
       "PC(P-18:1(11Z)/20:3(5Z,8Z,11Z))                                                          0.029126   \n",
       "\n",
       "                                                    PE(16:0/14:1(9Z))  \\\n",
       "TG(18:3(9Z,12Z,15Z)/20:2n6/22:6(4Z,7Z,10Z,13Z,1...           0.000000   \n",
       "TG(20:0/15:0/20:4(8Z,11Z,14Z,17Z))                           0.000000   \n",
       "TG(14:0/18:1(11Z)/18:3(9Z,12Z,15Z))                          0.000000   \n",
       "TG(16:1(9Z)/16:1(9Z)/20:1(11Z))                              0.000000   \n",
       "PC(P-18:1(11Z)/20:3(5Z,8Z,11Z))                              0.474359   \n",
       "\n",
       "                                                       ...       \\\n",
       "TG(18:3(9Z,12Z,15Z)/20:2n6/22:6(4Z,7Z,10Z,13Z,1...     ...        \n",
       "TG(20:0/15:0/20:4(8Z,11Z,14Z,17Z))                     ...        \n",
       "TG(14:0/18:1(11Z)/18:3(9Z,12Z,15Z))                    ...        \n",
       "TG(16:1(9Z)/16:1(9Z)/20:1(11Z))                        ...        \n",
       "PC(P-18:1(11Z)/20:3(5Z,8Z,11Z))                        ...        \n",
       "\n",
       "                                                    TG(20:3(5Z,8Z,11Z)/22:0/20:4(5Z,8Z,11Z,14Z))  \\\n",
       "TG(18:3(9Z,12Z,15Z)/20:2n6/22:6(4Z,7Z,10Z,13Z,1...                                      1.000000   \n",
       "TG(20:0/15:0/20:4(8Z,11Z,14Z,17Z))                                                      1.000000   \n",
       "TG(14:0/18:1(11Z)/18:3(9Z,12Z,15Z))                                                     1.000000   \n",
       "TG(16:1(9Z)/16:1(9Z)/20:1(11Z))                                                         0.641026   \n",
       "PC(P-18:1(11Z)/20:3(5Z,8Z,11Z))                                                         0.029126   \n",
       "\n",
       "                                                    TG(18:1(9Z)/18:0/22:5(7Z,10Z,13Z,16Z,19Z))  \\\n",
       "TG(18:3(9Z,12Z,15Z)/20:2n6/22:6(4Z,7Z,10Z,13Z,1...                                    1.000000   \n",
       "TG(20:0/15:0/20:4(8Z,11Z,14Z,17Z))                                                    1.000000   \n",
       "TG(14:0/18:1(11Z)/18:3(9Z,12Z,15Z))                                                   1.000000   \n",
       "TG(16:1(9Z)/16:1(9Z)/20:1(11Z))                                                       0.641026   \n",
       "PC(P-18:1(11Z)/20:3(5Z,8Z,11Z))                                                       0.029126   \n",
       "\n",
       "                                                    TG(18:1(9Z)/24:0/20:2n6)  \\\n",
       "TG(18:3(9Z,12Z,15Z)/20:2n6/22:6(4Z,7Z,10Z,13Z,1...                  1.000000   \n",
       "TG(20:0/15:0/20:4(8Z,11Z,14Z,17Z))                                  1.000000   \n",
       "TG(14:0/18:1(11Z)/18:3(9Z,12Z,15Z))                                 1.000000   \n",
       "TG(16:1(9Z)/16:1(9Z)/20:1(11Z))                                     0.641026   \n",
       "PC(P-18:1(11Z)/20:3(5Z,8Z,11Z))                                     0.029126   \n",
       "\n",
       "                                                    TG(16:0/14:0/18:2(9Z,12Z))  \\\n",
       "TG(18:3(9Z,12Z,15Z)/20:2n6/22:6(4Z,7Z,10Z,13Z,1...                    0.538462   \n",
       "TG(20:0/15:0/20:4(8Z,11Z,14Z,17Z))                                    0.538462   \n",
       "TG(14:0/18:1(11Z)/18:3(9Z,12Z,15Z))                                   0.538462   \n",
       "TG(16:1(9Z)/16:1(9Z)/20:1(11Z))                                       0.866667   \n",
       "PC(P-18:1(11Z)/20:3(5Z,8Z,11Z))                                       0.020833   \n",
       "\n",
       "                                                    TG(20:0/18:3(6Z,9Z,12Z)/20:4(5Z,8Z,11Z,14Z))  \\\n",
       "TG(18:3(9Z,12Z,15Z)/20:2n6/22:6(4Z,7Z,10Z,13Z,1...                                      1.000000   \n",
       "TG(20:0/15:0/20:4(8Z,11Z,14Z,17Z))                                                      1.000000   \n",
       "TG(14:0/18:1(11Z)/18:3(9Z,12Z,15Z))                                                     1.000000   \n",
       "TG(16:1(9Z)/16:1(9Z)/20:1(11Z))                                                         0.641026   \n",
       "PC(P-18:1(11Z)/20:3(5Z,8Z,11Z))                                                         0.029126   \n",
       "\n",
       "                                                    TG(16:1(9Z)/18:1(11Z)/18:1(9Z))  \\\n",
       "TG(18:3(9Z,12Z,15Z)/20:2n6/22:6(4Z,7Z,10Z,13Z,1...                         1.000000   \n",
       "TG(20:0/15:0/20:4(8Z,11Z,14Z,17Z))                                         1.000000   \n",
       "TG(14:0/18:1(11Z)/18:3(9Z,12Z,15Z))                                        1.000000   \n",
       "TG(16:1(9Z)/16:1(9Z)/20:1(11Z))                                            0.641026   \n",
       "PC(P-18:1(11Z)/20:3(5Z,8Z,11Z))                                            0.029126   \n",
       "\n",
       "                                                    TG(16:0/24:1(15Z)/18:3(6Z,9Z,12Z))  \\\n",
       "TG(18:3(9Z,12Z,15Z)/20:2n6/22:6(4Z,7Z,10Z,13Z,1...                            1.000000   \n",
       "TG(20:0/15:0/20:4(8Z,11Z,14Z,17Z))                                            1.000000   \n",
       "TG(14:0/18:1(11Z)/18:3(9Z,12Z,15Z))                                           1.000000   \n",
       "TG(16:1(9Z)/16:1(9Z)/20:1(11Z))                                               0.641026   \n",
       "PC(P-18:1(11Z)/20:3(5Z,8Z,11Z))                                               0.029126   \n",
       "\n",
       "                                                    TG(24:1(15Z)/22:4(7Z,10Z,13Z,16Z)/22:2(13Z,16Z))  \\\n",
       "TG(18:3(9Z,12Z,15Z)/20:2n6/22:6(4Z,7Z,10Z,13Z,1...                                          1.000000   \n",
       "TG(20:0/15:0/20:4(8Z,11Z,14Z,17Z))                                                          1.000000   \n",
       "TG(14:0/18:1(11Z)/18:3(9Z,12Z,15Z))                                                         1.000000   \n",
       "TG(16:1(9Z)/16:1(9Z)/20:1(11Z))                                                             0.641026   \n",
       "PC(P-18:1(11Z)/20:3(5Z,8Z,11Z))                                                             0.029126   \n",
       "\n",
       "                                                    PE(22:5(4Z,7Z,10Z,13Z,16Z)/22:2(13Z,16Z))  \\\n",
       "TG(18:3(9Z,12Z,15Z)/20:2n6/22:6(4Z,7Z,10Z,13Z,1...                                   0.000000   \n",
       "TG(20:0/15:0/20:4(8Z,11Z,14Z,17Z))                                                   0.000000   \n",
       "TG(14:0/18:1(11Z)/18:3(9Z,12Z,15Z))                                                  0.000000   \n",
       "TG(16:1(9Z)/16:1(9Z)/20:1(11Z))                                                      0.000000   \n",
       "PC(P-18:1(11Z)/20:3(5Z,8Z,11Z))                                                      0.474359   \n",
       "\n",
       "                                                    Flucytosine  \n",
       "TG(18:3(9Z,12Z,15Z)/20:2n6/22:6(4Z,7Z,10Z,13Z,1...          0.0  \n",
       "TG(20:0/15:0/20:4(8Z,11Z,14Z,17Z))                          0.0  \n",
       "TG(14:0/18:1(11Z)/18:3(9Z,12Z,15Z))                         0.0  \n",
       "TG(16:1(9Z)/16:1(9Z)/20:1(11Z))                             0.0  \n",
       "PC(P-18:1(11Z)/20:3(5Z,8Z,11Z))                             0.0  \n",
       "\n",
       "[5 rows x 22128 columns]"
      ]
     },
     "execution_count": 269,
     "metadata": {},
     "output_type": "execute_result"
    }
   ],
   "source": [
    "attribute_similarity_matix.head()"
   ]
  },
  {
   "cell_type": "markdown",
   "metadata": {},
   "source": [
    "# Save Attribute Similarity Matrix"
   ]
  },
  {
   "cell_type": "code",
   "execution_count": 270,
   "metadata": {
    "collapsed": true
   },
   "outputs": [],
   "source": [
    "filename = '~/./Documents/Harmonizome/The Human Metabolome Database (HMDB)/Output/hmdb_attribute_similarity_matix_%s.tsv.zip'% str(datetime.date.today())[0:7].replace('-', '_')\n",
    "attribute_similarity_matix.to_csv(filename, sep='\\t', compression='gzip')"
   ]
  },
  {
   "cell_type": "markdown",
   "metadata": {},
   "source": [
    "# Create Gene List"
   ]
  },
  {
   "cell_type": "code",
   "execution_count": 271,
   "metadata": {},
   "outputs": [
    {
     "name": "stdout",
     "output_type": "stream",
     "text": [
      "Progeres: 100%  5309 Out of 5309   \r"
     ]
    }
   ],
   "source": [
    "gene_list = uf.createGeneList(binary_matrix)"
   ]
  },
  {
   "cell_type": "code",
   "execution_count": 272,
   "metadata": {},
   "outputs": [
    {
     "data": {
      "text/html": [
       "<div>\n",
       "<style>\n",
       "    .dataframe thead tr:only-child th {\n",
       "        text-align: right;\n",
       "    }\n",
       "\n",
       "    .dataframe thead th {\n",
       "        text-align: left;\n",
       "    }\n",
       "\n",
       "    .dataframe tbody tr th {\n",
       "        vertical-align: top;\n",
       "    }\n",
       "</style>\n",
       "<table border=\"1\" class=\"dataframe\">\n",
       "  <thead>\n",
       "    <tr style=\"text-align: right;\">\n",
       "      <th></th>\n",
       "      <th>GeneSym</th>\n",
       "      <th>GeneID</th>\n",
       "    </tr>\n",
       "  </thead>\n",
       "  <tbody>\n",
       "    <tr>\n",
       "      <th>0</th>\n",
       "      <td>AMPD3</td>\n",
       "      <td>272</td>\n",
       "    </tr>\n",
       "    <tr>\n",
       "      <th>1</th>\n",
       "      <td>CDK4</td>\n",
       "      <td>1019</td>\n",
       "    </tr>\n",
       "    <tr>\n",
       "      <th>2</th>\n",
       "      <td>ATP7B</td>\n",
       "      <td>540</td>\n",
       "    </tr>\n",
       "    <tr>\n",
       "      <th>3</th>\n",
       "      <td>SET</td>\n",
       "      <td>6418</td>\n",
       "    </tr>\n",
       "    <tr>\n",
       "      <th>4</th>\n",
       "      <td>MERTK</td>\n",
       "      <td>10461</td>\n",
       "    </tr>\n",
       "  </tbody>\n",
       "</table>\n",
       "</div>"
      ],
      "text/plain": [
       "  GeneSym GeneID\n",
       "0   AMPD3    272\n",
       "1    CDK4   1019\n",
       "2   ATP7B    540\n",
       "3     SET   6418\n",
       "4   MERTK  10461"
      ]
     },
     "execution_count": 272,
     "metadata": {},
     "output_type": "execute_result"
    }
   ],
   "source": [
    "gene_list.head()"
   ]
  },
  {
   "cell_type": "code",
   "execution_count": 273,
   "metadata": {},
   "outputs": [
    {
     "data": {
      "text/plain": [
       "(5309, 2)"
      ]
     },
     "execution_count": 273,
     "metadata": {},
     "output_type": "execute_result"
    }
   ],
   "source": [
    "gene_list.shape"
   ]
  },
  {
   "cell_type": "markdown",
   "metadata": {},
   "source": [
    "# Save Gene List"
   ]
  },
  {
   "cell_type": "code",
   "execution_count": 274,
   "metadata": {
    "collapsed": true
   },
   "outputs": [],
   "source": [
    "filename = '~/./Documents/Harmonizome/The Human Metabolome Database (HMDB)/Output/hmdb_gene_list_%s.tsv.zip'% str(datetime.date.today())[0:7].replace('-', '_')\n",
    "gene_list.to_csv(filename, sep='\\t', index=False, compression='gzip')"
   ]
  },
  {
   "cell_type": "markdown",
   "metadata": {},
   "source": [
    "# Create Attribute List"
   ]
  },
  {
   "cell_type": "code",
   "execution_count": 275,
   "metadata": {
    "collapsed": true
   },
   "outputs": [],
   "source": [
    "attribute_list = uf.createAttributeList(binary_matrix)"
   ]
  },
  {
   "cell_type": "code",
   "execution_count": 276,
   "metadata": {},
   "outputs": [
    {
     "data": {
      "text/html": [
       "<div>\n",
       "<style>\n",
       "    .dataframe thead tr:only-child th {\n",
       "        text-align: right;\n",
       "    }\n",
       "\n",
       "    .dataframe thead th {\n",
       "        text-align: left;\n",
       "    }\n",
       "\n",
       "    .dataframe tbody tr th {\n",
       "        vertical-align: top;\n",
       "    }\n",
       "</style>\n",
       "<table border=\"1\" class=\"dataframe\">\n",
       "  <thead>\n",
       "    <tr style=\"text-align: right;\">\n",
       "      <th></th>\n",
       "      <th>Attributes</th>\n",
       "    </tr>\n",
       "  </thead>\n",
       "  <tbody>\n",
       "    <tr>\n",
       "      <th>0</th>\n",
       "      <td>TG(18:3(9Z,12Z,15Z)/20:2n6/22:6(4Z,7Z,10Z,13Z,...</td>\n",
       "    </tr>\n",
       "    <tr>\n",
       "      <th>1</th>\n",
       "      <td>TG(20:0/15:0/20:4(8Z,11Z,14Z,17Z))</td>\n",
       "    </tr>\n",
       "    <tr>\n",
       "      <th>2</th>\n",
       "      <td>TG(14:0/18:1(11Z)/18:3(9Z,12Z,15Z))</td>\n",
       "    </tr>\n",
       "    <tr>\n",
       "      <th>3</th>\n",
       "      <td>TG(16:1(9Z)/16:1(9Z)/20:1(11Z))</td>\n",
       "    </tr>\n",
       "    <tr>\n",
       "      <th>4</th>\n",
       "      <td>PC(P-18:1(11Z)/20:3(5Z,8Z,11Z))</td>\n",
       "    </tr>\n",
       "  </tbody>\n",
       "</table>\n",
       "</div>"
      ],
      "text/plain": [
       "                                          Attributes\n",
       "0  TG(18:3(9Z,12Z,15Z)/20:2n6/22:6(4Z,7Z,10Z,13Z,...\n",
       "1                 TG(20:0/15:0/20:4(8Z,11Z,14Z,17Z))\n",
       "2                TG(14:0/18:1(11Z)/18:3(9Z,12Z,15Z))\n",
       "3                    TG(16:1(9Z)/16:1(9Z)/20:1(11Z))\n",
       "4                    PC(P-18:1(11Z)/20:3(5Z,8Z,11Z))"
      ]
     },
     "execution_count": 276,
     "metadata": {},
     "output_type": "execute_result"
    }
   ],
   "source": [
    "attribute_list.head()"
   ]
  },
  {
   "cell_type": "code",
   "execution_count": 277,
   "metadata": {},
   "outputs": [
    {
     "data": {
      "text/plain": [
       "(22128, 1)"
      ]
     },
     "execution_count": 277,
     "metadata": {},
     "output_type": "execute_result"
    }
   ],
   "source": [
    "attribute_list.shape"
   ]
  },
  {
   "cell_type": "markdown",
   "metadata": {},
   "source": [
    "# Save Attribute List"
   ]
  },
  {
   "cell_type": "code",
   "execution_count": 278,
   "metadata": {
    "collapsed": true
   },
   "outputs": [],
   "source": [
    "filename = '~/./Documents/Harmonizome/The Human Metabolome Database (HMDB)/Output/hmdb_attribute_list_%s.tsv.zip'% str(datetime.date.today())[0:7].replace('-', '_')\n",
    "attribute_list.to_csv(filename, sep='\\t', index=False, compression='gzip')"
   ]
  },
  {
   "cell_type": "markdown",
   "metadata": {},
   "source": [
    "# Create Gene-Attribute Edge List"
   ]
  },
  {
   "cell_type": "code",
   "execution_count": 1,
   "metadata": {},
   "outputs": [],
   "source": [
    "path = '/Users/moshesilverstein/Documents/Harmonizome/The Human Metabolome Database (HMDB)/Output/'"
   ]
  },
  {
   "cell_type": "code",
   "execution_count": 280,
   "metadata": {
    "collapsed": true
   },
   "outputs": [],
   "source": [
    "name = 'hmdb_gene_attribute_edge_list'"
   ]
  },
  {
   "cell_type": "code",
   "execution_count": 281,
   "metadata": {},
   "outputs": [
    {
     "name": "stdout",
     "output_type": "stream",
     "text": [
      "Progeres: 100%  22128 Out of 22128   \n",
      "\n",
      " The number of statisticaly relevent gene-attribute associations is: 848829\n"
     ]
    }
   ],
   "source": [
    "uf.createGeneAttributeEdgeList(binary_matrix, gene_list, path, name)"
   ]
  }
 ],
 "metadata": {
  "kernelspec": {
   "display_name": "Python 3",
   "language": "python",
   "name": "python3"
  },
  "language_info": {
   "codemirror_mode": {
    "name": "ipython",
    "version": 3
   },
   "file_extension": ".py",
   "mimetype": "text/x-python",
   "name": "python",
   "nbconvert_exporter": "python",
   "pygments_lexer": "ipython3",
   "version": "3.6.5"
  }
 },
 "nbformat": 4,
 "nbformat_minor": 2
}
