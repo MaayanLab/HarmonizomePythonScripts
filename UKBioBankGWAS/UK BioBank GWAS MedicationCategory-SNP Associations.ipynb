{
 "cells": [
  {
   "cell_type": "markdown",
   "metadata": {},
   "source": [
    "## Mapping Medication Categories to Associated Genes\n",
    "#### Link to resource paper : https://www.nature.com/articles/s41467-019-09572-5#MOESM1 (Supplementary Data 5)"
   ]
  },
  {
   "cell_type": "code",
   "execution_count": 1,
   "metadata": {},
   "outputs": [],
   "source": [
    "import pandas as pd\n",
    "from collections import defaultdict\n",
    "import json\n",
    "import os"
   ]
  },
  {
   "cell_type": "code",
   "execution_count": 2,
   "metadata": {},
   "outputs": [],
   "source": [
    "df = pd.read_csv('../input/UK_BioBank_GWAS_Medication_Disease.tsv', delimiter = '\\t')"
   ]
  },
  {
   "cell_type": "code",
   "execution_count": 3,
   "metadata": {},
   "outputs": [
    {
     "data": {
      "text/html": [
       "<div>\n",
       "<style scoped>\n",
       "    .dataframe tbody tr th:only-of-type {\n",
       "        vertical-align: middle;\n",
       "    }\n",
       "\n",
       "    .dataframe tbody tr th {\n",
       "        vertical-align: top;\n",
       "    }\n",
       "\n",
       "    .dataframe thead th {\n",
       "        text-align: right;\n",
       "    }\n",
       "</style>\n",
       "<table border=\"1\" class=\"dataframe\">\n",
       "  <thead>\n",
       "    <tr style=\"text-align: right;\">\n",
       "      <th></th>\n",
       "      <th>Medication category</th>\n",
       "      <th>Gene</th>\n",
       "      <th>Entrez ID</th>\n",
       "      <th>P</th>\n",
       "      <th>Pbc</th>\n",
       "    </tr>\n",
       "  </thead>\n",
       "  <tbody>\n",
       "    <tr>\n",
       "      <th>0</th>\n",
       "      <td>A02B</td>\n",
       "      <td>HLA-B</td>\n",
       "      <td>3106</td>\n",
       "      <td>4.300000e-12</td>\n",
       "      <td>Yes</td>\n",
       "    </tr>\n",
       "    <tr>\n",
       "      <th>1</th>\n",
       "      <td>A02B</td>\n",
       "      <td>UBD</td>\n",
       "      <td>10537</td>\n",
       "      <td>7.600000e-11</td>\n",
       "      <td>Yes</td>\n",
       "    </tr>\n",
       "    <tr>\n",
       "      <th>2</th>\n",
       "      <td>A02B</td>\n",
       "      <td>OR2H2</td>\n",
       "      <td>7932</td>\n",
       "      <td>1.100000e-10</td>\n",
       "      <td>Yes</td>\n",
       "    </tr>\n",
       "    <tr>\n",
       "      <th>3</th>\n",
       "      <td>A02B</td>\n",
       "      <td>HIST1H3I</td>\n",
       "      <td>8354</td>\n",
       "      <td>9.400000e-10</td>\n",
       "      <td>Yes</td>\n",
       "    </tr>\n",
       "    <tr>\n",
       "      <th>4</th>\n",
       "      <td>A02B</td>\n",
       "      <td>HIST1H4J</td>\n",
       "      <td>8363</td>\n",
       "      <td>1.000000e-09</td>\n",
       "      <td>Yes</td>\n",
       "    </tr>\n",
       "  </tbody>\n",
       "</table>\n",
       "</div>"
      ],
      "text/plain": [
       "  Medication category      Gene  Entrez ID             P  Pbc\n",
       "0                A02B     HLA-B       3106  4.300000e-12  Yes\n",
       "1                A02B       UBD      10537  7.600000e-11  Yes\n",
       "2                A02B     OR2H2       7932  1.100000e-10  Yes\n",
       "3                A02B  HIST1H3I       8354  9.400000e-10  Yes\n",
       "4                A02B  HIST1H4J       8363  1.000000e-09  Yes"
      ]
     },
     "execution_count": 3,
     "metadata": {},
     "output_type": "execute_result"
    }
   ],
   "source": [
    "df.head()"
   ]
  },
  {
   "cell_type": "code",
   "execution_count": 4,
   "metadata": {},
   "outputs": [
    {
     "name": "stdout",
     "output_type": "stream",
     "text": [
      "{'C01D', 'N02C', 'N06A', 'C10AA', 'L04', 'A02B', 'N02BA', 'N02BE', 'R06A', 'M05B', 'S01E', 'C02', 'N02A', 'H03A', 'B01A', 'M01A', 'C03', 'A10', 'R03A', 'C08', 'C07', 'C09', 'R03BA'}\n"
     ]
    }
   ],
   "source": [
    "# Unique atc codes to be annotated\n",
    "print((set(df['Medication category'])))"
   ]
  },
  {
   "cell_type": "markdown",
   "metadata": {},
   "source": [
    "#### Annotating each ATC code with proper description from https://www.whocc.no/"
   ]
  },
  {
   "cell_type": "code",
   "execution_count": 5,
   "metadata": {},
   "outputs": [],
   "source": [
    "atc_lookup = {'C07':'C07 BETA BLOCKING AGENTS',\n",
    "           'H03A':'H03A THYROID PREPARATIONS',\n",
    "           'C02':'C02 ANTIHYPERTENSIVES',\n",
    "           'C08':'C08 CALCIUM CHANNEL BLOCKERS',\n",
    "           'B01A':'B01A ANTITHROMBOTIC AGENTS',\n",
    "           'N02BA':'N02BA SALICYLIC ACID AND DERIVATIVES',\n",
    "            'C09':'C09 AGENTS ACTING ON THE RENIN-ANGIOTENSIN SYSTEM',\n",
    "            'C03':'C03 DIURETICS',\n",
    "            'R06A':'R06A ANTIHISTAMINES FOR SYSTEMIC USE',\n",
    "            'C10AA':'C10AA HMG CoA REDUCTASE INHIBITORS',\n",
    "            'A10':'A10 DRUGS USED IN DIABETES',\n",
    "            'M01A':'M01A ANTIINFLAMMATORY AND ANTIRHEUMATIC PRODUCTS, NON-STEROIDS',\n",
    "            'N02C':'N02C ANTIMIGRAINE PREPARATIONS',\n",
    "            'S01E':'S01E ANTIGLAUCOMA PREPARATIONS AND MIOTICS',\n",
    "            'R03BA':'R03BA GLUCOCORTICOIDS',\n",
    "            'L04':'L04 IMMUNOSUPPRESSANTS',\n",
    "            'N02A':'N02A OPIOIDS',\n",
    "            'M05B':'M05B DRUGS AFFECTING BONE STRUCTURE AND MINERALIZATION',\n",
    "            'R03A':'R03A ADRENERGICS, INHALANTS',\n",
    "            'N02BE':'N02BE OTHER ANALGESICS AND ANTIPYRETICS',\n",
    "            'N06A':'N06A ANTIDEPRESSANTS',\n",
    "            'C01D':'C01D VASODILATORS USED IN CARDIAC DISEASES',\n",
    "            'A02B':'A02B DRUGS FOR PEPTIC ULCER AND GASTRO-OESOPHAGEAL REFLUX DISEASE (GORD)'\n",
    "           }\n",
    "\n",
    "df['Medication category'] = df['Medication category'].map(atc_lookup)"
   ]
  },
  {
   "cell_type": "code",
   "execution_count": 6,
   "metadata": {},
   "outputs": [
    {
     "data": {
      "text/html": [
       "<div>\n",
       "<style scoped>\n",
       "    .dataframe tbody tr th:only-of-type {\n",
       "        vertical-align: middle;\n",
       "    }\n",
       "\n",
       "    .dataframe tbody tr th {\n",
       "        vertical-align: top;\n",
       "    }\n",
       "\n",
       "    .dataframe thead th {\n",
       "        text-align: right;\n",
       "    }\n",
       "</style>\n",
       "<table border=\"1\" class=\"dataframe\">\n",
       "  <thead>\n",
       "    <tr style=\"text-align: right;\">\n",
       "      <th></th>\n",
       "      <th>Medication category</th>\n",
       "      <th>Gene</th>\n",
       "      <th>Entrez ID</th>\n",
       "      <th>P</th>\n",
       "      <th>Pbc</th>\n",
       "    </tr>\n",
       "  </thead>\n",
       "  <tbody>\n",
       "    <tr>\n",
       "      <th>0</th>\n",
       "      <td>A02B DRUGS FOR PEPTIC ULCER AND GASTRO-OESOPHA...</td>\n",
       "      <td>HLA-B</td>\n",
       "      <td>3106</td>\n",
       "      <td>4.300000e-12</td>\n",
       "      <td>Yes</td>\n",
       "    </tr>\n",
       "    <tr>\n",
       "      <th>1</th>\n",
       "      <td>A02B DRUGS FOR PEPTIC ULCER AND GASTRO-OESOPHA...</td>\n",
       "      <td>UBD</td>\n",
       "      <td>10537</td>\n",
       "      <td>7.600000e-11</td>\n",
       "      <td>Yes</td>\n",
       "    </tr>\n",
       "    <tr>\n",
       "      <th>2</th>\n",
       "      <td>A02B DRUGS FOR PEPTIC ULCER AND GASTRO-OESOPHA...</td>\n",
       "      <td>OR2H2</td>\n",
       "      <td>7932</td>\n",
       "      <td>1.100000e-10</td>\n",
       "      <td>Yes</td>\n",
       "    </tr>\n",
       "    <tr>\n",
       "      <th>3</th>\n",
       "      <td>A02B DRUGS FOR PEPTIC ULCER AND GASTRO-OESOPHA...</td>\n",
       "      <td>HIST1H3I</td>\n",
       "      <td>8354</td>\n",
       "      <td>9.400000e-10</td>\n",
       "      <td>Yes</td>\n",
       "    </tr>\n",
       "    <tr>\n",
       "      <th>4</th>\n",
       "      <td>A02B DRUGS FOR PEPTIC ULCER AND GASTRO-OESOPHA...</td>\n",
       "      <td>HIST1H4J</td>\n",
       "      <td>8363</td>\n",
       "      <td>1.000000e-09</td>\n",
       "      <td>Yes</td>\n",
       "    </tr>\n",
       "  </tbody>\n",
       "</table>\n",
       "</div>"
      ],
      "text/plain": [
       "                                 Medication category      Gene  Entrez ID  \\\n",
       "0  A02B DRUGS FOR PEPTIC ULCER AND GASTRO-OESOPHA...     HLA-B       3106   \n",
       "1  A02B DRUGS FOR PEPTIC ULCER AND GASTRO-OESOPHA...       UBD      10537   \n",
       "2  A02B DRUGS FOR PEPTIC ULCER AND GASTRO-OESOPHA...     OR2H2       7932   \n",
       "3  A02B DRUGS FOR PEPTIC ULCER AND GASTRO-OESOPHA...  HIST1H3I       8354   \n",
       "4  A02B DRUGS FOR PEPTIC ULCER AND GASTRO-OESOPHA...  HIST1H4J       8363   \n",
       "\n",
       "              P  Pbc  \n",
       "0  4.300000e-12  Yes  \n",
       "1  7.600000e-11  Yes  \n",
       "2  1.100000e-10  Yes  \n",
       "3  9.400000e-10  Yes  \n",
       "4  1.000000e-09  Yes  "
      ]
     },
     "execution_count": 6,
     "metadata": {},
     "output_type": "execute_result"
    }
   ],
   "source": [
    "df.head()"
   ]
  },
  {
   "cell_type": "code",
   "execution_count": 7,
   "metadata": {},
   "outputs": [],
   "source": [
    "# Only keeping genes whose P values were significant after bonferroni correction (Pbc column)\n",
    "df= df[~df[\"Pbc\"].str.contains(\"No\")]"
   ]
  },
  {
   "cell_type": "markdown",
   "metadata": {},
   "source": [
    "### Ensuring all gene names are valid\n",
    "#### Lookup table generated from ftp://ftp.ncbi.nih.gov/gene/DATA/GENE_INFO/Mammalia/"
   ]
  },
  {
   "cell_type": "code",
   "execution_count": 9,
   "metadata": {},
   "outputs": [],
   "source": [
    "# Importing lookup tables\n",
    "gene_info = pd.read_csv('../input/Homo_sapiens.gene_info', delimiter = '\\t',\n",
    "                       usecols = ['GeneID','Symbol'])\n",
    "gene_lookup = gene_info.set_index('GeneID').to_dict()['Symbol']"
   ]
  },
  {
   "cell_type": "code",
   "execution_count": 10,
   "metadata": {},
   "outputs": [],
   "source": [
    "# Matching Approved Symbols to Entrez IDs provided in the data\n",
    "df['Approved Symbols'] = df['Entrez ID'].map(gene_lookup)"
   ]
  },
  {
   "cell_type": "code",
   "execution_count": 11,
   "metadata": {},
   "outputs": [
    {
     "data": {
      "text/html": [
       "<div>\n",
       "<style scoped>\n",
       "    .dataframe tbody tr th:only-of-type {\n",
       "        vertical-align: middle;\n",
       "    }\n",
       "\n",
       "    .dataframe tbody tr th {\n",
       "        vertical-align: top;\n",
       "    }\n",
       "\n",
       "    .dataframe thead th {\n",
       "        text-align: right;\n",
       "    }\n",
       "</style>\n",
       "<table border=\"1\" class=\"dataframe\">\n",
       "  <thead>\n",
       "    <tr style=\"text-align: right;\">\n",
       "      <th></th>\n",
       "      <th>Medication category</th>\n",
       "      <th>Gene</th>\n",
       "      <th>Entrez ID</th>\n",
       "      <th>P</th>\n",
       "      <th>Pbc</th>\n",
       "      <th>Approved Symbols</th>\n",
       "    </tr>\n",
       "  </thead>\n",
       "  <tbody>\n",
       "    <tr>\n",
       "      <th>395</th>\n",
       "      <td>C03 DIURETICS</td>\n",
       "      <td>LOC101929490</td>\n",
       "      <td>101929490</td>\n",
       "      <td>6.200000e-13</td>\n",
       "      <td>Yes</td>\n",
       "      <td>NaN</td>\n",
       "    </tr>\n",
       "    <tr>\n",
       "      <th>1321</th>\n",
       "      <td>C09 AGENTS ACTING ON THE RENIN-ANGIOTENSIN SYSTEM</td>\n",
       "      <td>LOC101929490</td>\n",
       "      <td>101929490</td>\n",
       "      <td>3.000000e-10</td>\n",
       "      <td>Yes</td>\n",
       "      <td>NaN</td>\n",
       "    </tr>\n",
       "    <tr>\n",
       "      <th>1464</th>\n",
       "      <td>C09 AGENTS ACTING ON THE RENIN-ANGIOTENSIN SYSTEM</td>\n",
       "      <td>LOC101060022</td>\n",
       "      <td>101060022</td>\n",
       "      <td>2.100000e-08</td>\n",
       "      <td>Yes</td>\n",
       "      <td>NaN</td>\n",
       "    </tr>\n",
       "    <tr>\n",
       "      <th>2460</th>\n",
       "      <td>H03A THYROID PREPARATIONS</td>\n",
       "      <td>LOC101929490</td>\n",
       "      <td>101929490</td>\n",
       "      <td>8.400000e-11</td>\n",
       "      <td>Yes</td>\n",
       "      <td>NaN</td>\n",
       "    </tr>\n",
       "    <tr>\n",
       "      <th>3060</th>\n",
       "      <td>N02BE OTHER ANALGESICS AND ANTIPYRETICS</td>\n",
       "      <td>LOC554223</td>\n",
       "      <td>554223</td>\n",
       "      <td>1.800000e-10</td>\n",
       "      <td>Yes</td>\n",
       "      <td>NaN</td>\n",
       "    </tr>\n",
       "    <tr>\n",
       "      <th>3216</th>\n",
       "      <td>R03A ADRENERGICS, INHALANTS</td>\n",
       "      <td>LOC101928947</td>\n",
       "      <td>101928947</td>\n",
       "      <td>2.700000e-16</td>\n",
       "      <td>Yes</td>\n",
       "      <td>NaN</td>\n",
       "    </tr>\n",
       "    <tr>\n",
       "      <th>3489</th>\n",
       "      <td>R03BA GLUCOCORTICOIDS</td>\n",
       "      <td>LOC101928947</td>\n",
       "      <td>101928947</td>\n",
       "      <td>5.800000e-12</td>\n",
       "      <td>Yes</td>\n",
       "      <td>NaN</td>\n",
       "    </tr>\n",
       "  </tbody>\n",
       "</table>\n",
       "</div>"
      ],
      "text/plain": [
       "                                    Medication category          Gene  \\\n",
       "395                                       C03 DIURETICS  LOC101929490   \n",
       "1321  C09 AGENTS ACTING ON THE RENIN-ANGIOTENSIN SYSTEM  LOC101929490   \n",
       "1464  C09 AGENTS ACTING ON THE RENIN-ANGIOTENSIN SYSTEM  LOC101060022   \n",
       "2460                          H03A THYROID PREPARATIONS  LOC101929490   \n",
       "3060            N02BE OTHER ANALGESICS AND ANTIPYRETICS     LOC554223   \n",
       "3216                        R03A ADRENERGICS, INHALANTS  LOC101928947   \n",
       "3489                              R03BA GLUCOCORTICOIDS  LOC101928947   \n",
       "\n",
       "      Entrez ID             P  Pbc Approved Symbols  \n",
       "395   101929490  6.200000e-13  Yes              NaN  \n",
       "1321  101929490  3.000000e-10  Yes              NaN  \n",
       "1464  101060022  2.100000e-08  Yes              NaN  \n",
       "2460  101929490  8.400000e-11  Yes              NaN  \n",
       "3060     554223  1.800000e-10  Yes              NaN  \n",
       "3216  101928947  2.700000e-16  Yes              NaN  \n",
       "3489  101928947  5.800000e-12  Yes              NaN  "
      ]
     },
     "execution_count": 11,
     "metadata": {},
     "output_type": "execute_result"
    }
   ],
   "source": [
    "# Visualizing all entries with invalid Entrez IDs / Genes\n",
    "unapproved_symbols = df[df.isna().any(axis=1)]\n",
    "unapproved_symbols"
   ]
  },
  {
   "cell_type": "code",
   "execution_count": 12,
   "metadata": {},
   "outputs": [],
   "source": [
    "# Dropping any entries that could not be matched\n",
    "df = df.dropna()"
   ]
  },
  {
   "cell_type": "code",
   "execution_count": 13,
   "metadata": {},
   "outputs": [
    {
     "data": {
      "text/html": [
       "<div>\n",
       "<style scoped>\n",
       "    .dataframe tbody tr th:only-of-type {\n",
       "        vertical-align: middle;\n",
       "    }\n",
       "\n",
       "    .dataframe tbody tr th {\n",
       "        vertical-align: top;\n",
       "    }\n",
       "\n",
       "    .dataframe thead th {\n",
       "        text-align: right;\n",
       "    }\n",
       "</style>\n",
       "<table border=\"1\" class=\"dataframe\">\n",
       "  <thead>\n",
       "    <tr style=\"text-align: right;\">\n",
       "      <th></th>\n",
       "      <th>Medication category</th>\n",
       "      <th>Gene</th>\n",
       "      <th>Entrez ID</th>\n",
       "      <th>P</th>\n",
       "      <th>Pbc</th>\n",
       "      <th>Approved Symbols</th>\n",
       "    </tr>\n",
       "  </thead>\n",
       "  <tbody>\n",
       "    <tr>\n",
       "      <th>0</th>\n",
       "      <td>A02B DRUGS FOR PEPTIC ULCER AND GASTRO-OESOPHA...</td>\n",
       "      <td>HLA-B</td>\n",
       "      <td>3106</td>\n",
       "      <td>4.300000e-12</td>\n",
       "      <td>Yes</td>\n",
       "      <td>HLA-B</td>\n",
       "    </tr>\n",
       "    <tr>\n",
       "      <th>1</th>\n",
       "      <td>A02B DRUGS FOR PEPTIC ULCER AND GASTRO-OESOPHA...</td>\n",
       "      <td>UBD</td>\n",
       "      <td>10537</td>\n",
       "      <td>7.600000e-11</td>\n",
       "      <td>Yes</td>\n",
       "      <td>UBD</td>\n",
       "    </tr>\n",
       "    <tr>\n",
       "      <th>2</th>\n",
       "      <td>A02B DRUGS FOR PEPTIC ULCER AND GASTRO-OESOPHA...</td>\n",
       "      <td>OR2H2</td>\n",
       "      <td>7932</td>\n",
       "      <td>1.100000e-10</td>\n",
       "      <td>Yes</td>\n",
       "      <td>OR2H2</td>\n",
       "    </tr>\n",
       "    <tr>\n",
       "      <th>3</th>\n",
       "      <td>A02B DRUGS FOR PEPTIC ULCER AND GASTRO-OESOPHA...</td>\n",
       "      <td>HIST1H3I</td>\n",
       "      <td>8354</td>\n",
       "      <td>9.400000e-10</td>\n",
       "      <td>Yes</td>\n",
       "      <td>H3C11</td>\n",
       "    </tr>\n",
       "    <tr>\n",
       "      <th>4</th>\n",
       "      <td>A02B DRUGS FOR PEPTIC ULCER AND GASTRO-OESOPHA...</td>\n",
       "      <td>HIST1H4J</td>\n",
       "      <td>8363</td>\n",
       "      <td>1.000000e-09</td>\n",
       "      <td>Yes</td>\n",
       "      <td>H4C11</td>\n",
       "    </tr>\n",
       "  </tbody>\n",
       "</table>\n",
       "</div>"
      ],
      "text/plain": [
       "                                 Medication category      Gene  Entrez ID  \\\n",
       "0  A02B DRUGS FOR PEPTIC ULCER AND GASTRO-OESOPHA...     HLA-B       3106   \n",
       "1  A02B DRUGS FOR PEPTIC ULCER AND GASTRO-OESOPHA...       UBD      10537   \n",
       "2  A02B DRUGS FOR PEPTIC ULCER AND GASTRO-OESOPHA...     OR2H2       7932   \n",
       "3  A02B DRUGS FOR PEPTIC ULCER AND GASTRO-OESOPHA...  HIST1H3I       8354   \n",
       "4  A02B DRUGS FOR PEPTIC ULCER AND GASTRO-OESOPHA...  HIST1H4J       8363   \n",
       "\n",
       "              P  Pbc Approved Symbols  \n",
       "0  4.300000e-12  Yes            HLA-B  \n",
       "1  7.600000e-11  Yes              UBD  \n",
       "2  1.100000e-10  Yes            OR2H2  \n",
       "3  9.400000e-10  Yes            H3C11  \n",
       "4  1.000000e-09  Yes            H4C11  "
      ]
     },
     "execution_count": 13,
     "metadata": {},
     "output_type": "execute_result"
    }
   ],
   "source": [
    "df.head()"
   ]
  },
  {
   "cell_type": "markdown",
   "metadata": {},
   "source": [
    "### Mapping medication category to genes"
   ]
  },
  {
   "cell_type": "code",
   "execution_count": 14,
   "metadata": {},
   "outputs": [],
   "source": [
    "atc = df['Medication category'].tolist()\n",
    "genes = df['Approved Symbols'].tolist()\n",
    "\n",
    "gene_dict = tuple(zip(atc,genes))\n",
    "genesetlibrary = defaultdict(list)\n",
    "for k,v in gene_dict:\n",
    "    genesetlibrary[k].append(v)\n",
    "\n",
    "genesetlibrary = {k:v for k,v in genesetlibrary.items() if len(v) >= 5}"
   ]
  },
  {
   "cell_type": "markdown",
   "metadata": {},
   "source": [
    "### Counts of unique terms and associations"
   ]
  },
  {
   "cell_type": "code",
   "execution_count": 15,
   "metadata": {},
   "outputs": [
    {
     "data": {
      "text/plain": [
       "1212"
      ]
     },
     "execution_count": 15,
     "metadata": {},
     "output_type": "execute_result"
    }
   ],
   "source": [
    "# Number of unique genes\n",
    "len(set([gene for k,v in genesetlibrary.items() for gene in v]))"
   ]
  },
  {
   "cell_type": "code",
   "execution_count": 16,
   "metadata": {},
   "outputs": [
    {
     "data": {
      "text/plain": [
       "20"
      ]
     },
     "execution_count": 16,
     "metadata": {},
     "output_type": "execute_result"
    }
   ],
   "source": [
    "# Number of unique attributes\n",
    "len(genesetlibrary)"
   ]
  },
  {
   "cell_type": "code",
   "execution_count": 17,
   "metadata": {},
   "outputs": [
    {
     "data": {
      "text/plain": [
       "2338"
      ]
     },
     "execution_count": 17,
     "metadata": {},
     "output_type": "execute_result"
    }
   ],
   "source": [
    "# Number of unique associations\n",
    "len([gene for k,v in genesetlibrary.items() for gene in v])"
   ]
  },
  {
   "cell_type": "markdown",
   "metadata": {},
   "source": [
    "### Exporting as GMT"
   ]
  },
  {
   "cell_type": "code",
   "execution_count": 18,
   "metadata": {},
   "outputs": [],
   "source": [
    "output = []\n",
    "for term in genesetlibrary.keys():    \n",
    "    terms = genesetlibrary[term]\n",
    "    line = '{0}\\t\\t{1}'.format(term, '\\t'.join(terms))\n",
    "    output.append(line)\n",
    "\n",
    "gmt_output = '\\n'.join(output)\n",
    "\n",
    "\n",
    "dataFile = open('../gmts/UK_BioBank_GWAS_Medication_SNP.gmt', 'w')\n",
    "for eachitem in gmt_output:\n",
    "    dataFile.write(eachitem)\n",
    "dataFile.close()"
   ]
  }
 ],
 "metadata": {
  "kernelspec": {
   "display_name": "Python 3",
   "language": "python",
   "name": "python3"
  },
  "language_info": {
   "codemirror_mode": {
    "name": "ipython",
    "version": 3
   },
   "file_extension": ".py",
   "mimetype": "text/x-python",
   "name": "python",
   "nbconvert_exporter": "python",
   "pygments_lexer": "ipython3",
   "version": "3.6.5"
  }
 },
 "nbformat": 4,
 "nbformat_minor": 2
}
