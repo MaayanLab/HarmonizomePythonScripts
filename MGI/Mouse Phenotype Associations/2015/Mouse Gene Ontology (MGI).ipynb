{
 "cells": [
  {
   "cell_type": "markdown",
   "metadata": {},
   "source": [
    "# Mouse Gene Ontology (MGI)"
   ]
  },
  {
   "cell_type": "markdown",
   "metadata": {},
   "source": [
    "Author: Moshe Silverstein <br/>\n",
    "Date: 7-17 <br/>\n",
    "Data Downloaded: 04-2017 <br/>\n",
    "Data Source: http://www.informatics.jax.org/"
   ]
  },
  {
   "cell_type": "code",
   "execution_count": 1,
   "metadata": {
    "collapsed": true
   },
   "outputs": [],
   "source": [
    "import sys, datetime\n",
    "import numpy as np\n",
    "import pandas as pd\n",
    "import importlib\n",
    "import untility_functions as uf\n",
    "%matplotlib inline"
   ]
  },
  {
   "cell_type": "code",
   "execution_count": 2,
   "metadata": {},
   "outputs": [
    {
     "data": {
      "text/plain": [
       "<module 'untility_functions' from '/Users/moshesilverstein/Documents/Harmonizome/MGI/untility_functions.py'>"
      ]
     },
     "execution_count": 2,
     "metadata": {},
     "output_type": "execute_result"
    }
   ],
   "source": [
    "importlib.reload(uf)"
   ]
  },
  {
   "cell_type": "markdown",
   "metadata": {},
   "source": [
    "# Load Data"
   ]
  },
  {
   "cell_type": "code",
   "execution_count": 3,
   "metadata": {},
   "outputs": [],
   "source": [
    "df = pd.read_table('http://www.informatics.jax.org/downloads/reports/MGI_GenePheno.rpt', header=None)"
   ]
  },
  {
   "cell_type": "code",
   "execution_count": 4,
   "metadata": {},
   "outputs": [
    {
     "data": {
      "text/html": [
       "<div>\n",
       "<table border=\"1\" class=\"dataframe\">\n",
       "  <thead>\n",
       "    <tr style=\"text-align: right;\">\n",
       "      <th></th>\n",
       "      <th>0</th>\n",
       "      <th>1</th>\n",
       "      <th>2</th>\n",
       "      <th>3</th>\n",
       "      <th>4</th>\n",
       "      <th>5</th>\n",
       "      <th>6</th>\n",
       "      <th>7</th>\n",
       "      <th>8</th>\n",
       "    </tr>\n",
       "  </thead>\n",
       "  <tbody>\n",
       "    <tr>\n",
       "      <th>0</th>\n",
       "      <td>Rb1&lt;tm1Tyj&gt;/Rb1&lt;tm1Tyj&gt;</td>\n",
       "      <td>Rb1&lt;tm1Tyj&gt;</td>\n",
       "      <td>MGI:1857242</td>\n",
       "      <td>involves: 129S2/SvPas</td>\n",
       "      <td>MP:0000600</td>\n",
       "      <td>12529408</td>\n",
       "      <td>MGI:97874</td>\n",
       "      <td>NaN</td>\n",
       "      <td>MGI:2166359</td>\n",
       "    </tr>\n",
       "    <tr>\n",
       "      <th>1</th>\n",
       "      <td>Rb1&lt;tm1Tyj&gt;/Rb1&lt;tm1Tyj&gt;</td>\n",
       "      <td>Rb1&lt;tm1Tyj&gt;</td>\n",
       "      <td>MGI:1857242</td>\n",
       "      <td>involves: 129S2/SvPas</td>\n",
       "      <td>MP:0001716</td>\n",
       "      <td>16449662</td>\n",
       "      <td>MGI:97874</td>\n",
       "      <td>NaN</td>\n",
       "      <td>MGI:2166359</td>\n",
       "    </tr>\n",
       "    <tr>\n",
       "      <th>2</th>\n",
       "      <td>Rb1&lt;tm1Tyj&gt;/Rb1&lt;tm1Tyj&gt;</td>\n",
       "      <td>Rb1&lt;tm1Tyj&gt;</td>\n",
       "      <td>MGI:1857242</td>\n",
       "      <td>involves: 129S2/SvPas</td>\n",
       "      <td>MP:0001698</td>\n",
       "      <td>16449662</td>\n",
       "      <td>MGI:97874</td>\n",
       "      <td>NaN</td>\n",
       "      <td>MGI:2166359</td>\n",
       "    </tr>\n",
       "    <tr>\n",
       "      <th>3</th>\n",
       "      <td>Rb1&lt;tm1Tyj&gt;/Rb1&lt;tm1Tyj&gt;</td>\n",
       "      <td>Rb1&lt;tm1Tyj&gt;</td>\n",
       "      <td>MGI:1857242</td>\n",
       "      <td>involves: 129S2/SvPas</td>\n",
       "      <td>MP:0001092</td>\n",
       "      <td>16449662</td>\n",
       "      <td>MGI:97874</td>\n",
       "      <td>NaN</td>\n",
       "      <td>MGI:2166359</td>\n",
       "    </tr>\n",
       "    <tr>\n",
       "      <th>4</th>\n",
       "      <td>Rb1&lt;tm1Tyj&gt;/Rb1&lt;tm1Tyj&gt;</td>\n",
       "      <td>Rb1&lt;tm1Tyj&gt;</td>\n",
       "      <td>MGI:1857242</td>\n",
       "      <td>involves: 129S2/SvPas</td>\n",
       "      <td>MP:0000961</td>\n",
       "      <td>16449662</td>\n",
       "      <td>MGI:97874</td>\n",
       "      <td>NaN</td>\n",
       "      <td>MGI:2166359</td>\n",
       "    </tr>\n",
       "  </tbody>\n",
       "</table>\n",
       "</div>"
      ],
      "text/plain": [
       "                         0            1            2                      3  \\\n",
       "0  Rb1<tm1Tyj>/Rb1<tm1Tyj>  Rb1<tm1Tyj>  MGI:1857242  involves: 129S2/SvPas   \n",
       "1  Rb1<tm1Tyj>/Rb1<tm1Tyj>  Rb1<tm1Tyj>  MGI:1857242  involves: 129S2/SvPas   \n",
       "2  Rb1<tm1Tyj>/Rb1<tm1Tyj>  Rb1<tm1Tyj>  MGI:1857242  involves: 129S2/SvPas   \n",
       "3  Rb1<tm1Tyj>/Rb1<tm1Tyj>  Rb1<tm1Tyj>  MGI:1857242  involves: 129S2/SvPas   \n",
       "4  Rb1<tm1Tyj>/Rb1<tm1Tyj>  Rb1<tm1Tyj>  MGI:1857242  involves: 129S2/SvPas   \n",
       "\n",
       "            4         5          6   7            8  \n",
       "0  MP:0000600  12529408  MGI:97874 NaN  MGI:2166359  \n",
       "1  MP:0001716  16449662  MGI:97874 NaN  MGI:2166359  \n",
       "2  MP:0001698  16449662  MGI:97874 NaN  MGI:2166359  \n",
       "3  MP:0001092  16449662  MGI:97874 NaN  MGI:2166359  \n",
       "4  MP:0000961  16449662  MGI:97874 NaN  MGI:2166359  "
      ]
     },
     "execution_count": 4,
     "metadata": {},
     "output_type": "execute_result"
    }
   ],
   "source": [
    "df.head()"
   ]
  },
  {
   "cell_type": "code",
   "execution_count": 5,
   "metadata": {},
   "outputs": [
    {
     "data": {
      "text/plain": [
       "(204952, 9)"
      ]
     },
     "execution_count": 5,
     "metadata": {},
     "output_type": "execute_result"
    }
   ],
   "source": [
    "df.shape"
   ]
  },
  {
   "cell_type": "markdown",
   "metadata": {},
   "source": [
    "# Get Relevent Columns and Name Them"
   ]
  },
  {
   "cell_type": "code",
   "execution_count": 6,
   "metadata": {},
   "outputs": [],
   "source": [
    "df.drop(7, axis=1, inplace=True) # drop blank column"
   ]
  },
  {
   "cell_type": "code",
   "execution_count": 7,
   "metadata": {
    "collapsed": true
   },
   "outputs": [],
   "source": [
    "col = ['Allelic Composition','Allele Symbol(s)','Allele ID(s)','Genetic Background','Mammalian Phenotype ID','PubMed ID','MGI Marker Accession ID (comma-delimited)','MGI Genotype Accession ID (comma-delimited)']"
   ]
  },
  {
   "cell_type": "code",
   "execution_count": 8,
   "metadata": {
    "collapsed": true
   },
   "outputs": [],
   "source": [
    "df.columns = col"
   ]
  },
  {
   "cell_type": "code",
   "execution_count": 9,
   "metadata": {},
   "outputs": [
    {
     "data": {
      "text/html": [
       "<div>\n",
       "<table border=\"1\" class=\"dataframe\">\n",
       "  <thead>\n",
       "    <tr style=\"text-align: right;\">\n",
       "      <th></th>\n",
       "      <th>Allelic Composition</th>\n",
       "      <th>Allele Symbol(s)</th>\n",
       "      <th>Allele ID(s)</th>\n",
       "      <th>Genetic Background</th>\n",
       "      <th>Mammalian Phenotype ID</th>\n",
       "      <th>PubMed ID</th>\n",
       "      <th>MGI Marker Accession ID (comma-delimited)</th>\n",
       "      <th>MGI Genotype Accession ID (comma-delimited)</th>\n",
       "    </tr>\n",
       "  </thead>\n",
       "  <tbody>\n",
       "    <tr>\n",
       "      <th>0</th>\n",
       "      <td>Rb1&lt;tm1Tyj&gt;/Rb1&lt;tm1Tyj&gt;</td>\n",
       "      <td>Rb1&lt;tm1Tyj&gt;</td>\n",
       "      <td>MGI:1857242</td>\n",
       "      <td>involves: 129S2/SvPas</td>\n",
       "      <td>MP:0000600</td>\n",
       "      <td>12529408</td>\n",
       "      <td>MGI:97874</td>\n",
       "      <td>MGI:2166359</td>\n",
       "    </tr>\n",
       "    <tr>\n",
       "      <th>1</th>\n",
       "      <td>Rb1&lt;tm1Tyj&gt;/Rb1&lt;tm1Tyj&gt;</td>\n",
       "      <td>Rb1&lt;tm1Tyj&gt;</td>\n",
       "      <td>MGI:1857242</td>\n",
       "      <td>involves: 129S2/SvPas</td>\n",
       "      <td>MP:0001716</td>\n",
       "      <td>16449662</td>\n",
       "      <td>MGI:97874</td>\n",
       "      <td>MGI:2166359</td>\n",
       "    </tr>\n",
       "    <tr>\n",
       "      <th>2</th>\n",
       "      <td>Rb1&lt;tm1Tyj&gt;/Rb1&lt;tm1Tyj&gt;</td>\n",
       "      <td>Rb1&lt;tm1Tyj&gt;</td>\n",
       "      <td>MGI:1857242</td>\n",
       "      <td>involves: 129S2/SvPas</td>\n",
       "      <td>MP:0001698</td>\n",
       "      <td>16449662</td>\n",
       "      <td>MGI:97874</td>\n",
       "      <td>MGI:2166359</td>\n",
       "    </tr>\n",
       "    <tr>\n",
       "      <th>3</th>\n",
       "      <td>Rb1&lt;tm1Tyj&gt;/Rb1&lt;tm1Tyj&gt;</td>\n",
       "      <td>Rb1&lt;tm1Tyj&gt;</td>\n",
       "      <td>MGI:1857242</td>\n",
       "      <td>involves: 129S2/SvPas</td>\n",
       "      <td>MP:0001092</td>\n",
       "      <td>16449662</td>\n",
       "      <td>MGI:97874</td>\n",
       "      <td>MGI:2166359</td>\n",
       "    </tr>\n",
       "    <tr>\n",
       "      <th>4</th>\n",
       "      <td>Rb1&lt;tm1Tyj&gt;/Rb1&lt;tm1Tyj&gt;</td>\n",
       "      <td>Rb1&lt;tm1Tyj&gt;</td>\n",
       "      <td>MGI:1857242</td>\n",
       "      <td>involves: 129S2/SvPas</td>\n",
       "      <td>MP:0000961</td>\n",
       "      <td>16449662</td>\n",
       "      <td>MGI:97874</td>\n",
       "      <td>MGI:2166359</td>\n",
       "    </tr>\n",
       "  </tbody>\n",
       "</table>\n",
       "</div>"
      ],
      "text/plain": [
       "       Allelic Composition Allele Symbol(s) Allele ID(s)  \\\n",
       "0  Rb1<tm1Tyj>/Rb1<tm1Tyj>      Rb1<tm1Tyj>  MGI:1857242   \n",
       "1  Rb1<tm1Tyj>/Rb1<tm1Tyj>      Rb1<tm1Tyj>  MGI:1857242   \n",
       "2  Rb1<tm1Tyj>/Rb1<tm1Tyj>      Rb1<tm1Tyj>  MGI:1857242   \n",
       "3  Rb1<tm1Tyj>/Rb1<tm1Tyj>      Rb1<tm1Tyj>  MGI:1857242   \n",
       "4  Rb1<tm1Tyj>/Rb1<tm1Tyj>      Rb1<tm1Tyj>  MGI:1857242   \n",
       "\n",
       "      Genetic Background Mammalian Phenotype ID PubMed ID  \\\n",
       "0  involves: 129S2/SvPas             MP:0000600  12529408   \n",
       "1  involves: 129S2/SvPas             MP:0001716  16449662   \n",
       "2  involves: 129S2/SvPas             MP:0001698  16449662   \n",
       "3  involves: 129S2/SvPas             MP:0001092  16449662   \n",
       "4  involves: 129S2/SvPas             MP:0000961  16449662   \n",
       "\n",
       "  MGI Marker Accession ID (comma-delimited)  \\\n",
       "0                                 MGI:97874   \n",
       "1                                 MGI:97874   \n",
       "2                                 MGI:97874   \n",
       "3                                 MGI:97874   \n",
       "4                                 MGI:97874   \n",
       "\n",
       "  MGI Genotype Accession ID (comma-delimited)  \n",
       "0                                 MGI:2166359  \n",
       "1                                 MGI:2166359  \n",
       "2                                 MGI:2166359  \n",
       "3                                 MGI:2166359  \n",
       "4                                 MGI:2166359  "
      ]
     },
     "execution_count": 9,
     "metadata": {},
     "output_type": "execute_result"
    }
   ],
   "source": [
    "df.head()"
   ]
  },
  {
   "cell_type": "markdown",
   "metadata": {},
   "source": [
    "# Load Gene Data"
   ]
  },
  {
   "cell_type": "code",
   "execution_count": 10,
   "metadata": {
    "collapsed": true
   },
   "outputs": [],
   "source": [
    "gene_meta = pd.read_table('http://www.informatics.jax.org/downloads/reports/MRK_GXDAssay.rpt', header=None)"
   ]
  },
  {
   "cell_type": "code",
   "execution_count": 11,
   "metadata": {
    "collapsed": true
   },
   "outputs": [],
   "source": [
    "gene_meta.set_index(0, inplace=True)"
   ]
  },
  {
   "cell_type": "code",
   "execution_count": 12,
   "metadata": {},
   "outputs": [
    {
     "data": {
      "text/html": [
       "<div>\n",
       "<table border=\"1\" class=\"dataframe\">\n",
       "  <thead>\n",
       "    <tr style=\"text-align: right;\">\n",
       "      <th></th>\n",
       "      <th>1</th>\n",
       "      <th>2</th>\n",
       "    </tr>\n",
       "    <tr>\n",
       "      <th>0</th>\n",
       "      <th></th>\n",
       "      <th></th>\n",
       "    </tr>\n",
       "  </thead>\n",
       "  <tbody>\n",
       "    <tr>\n",
       "      <th>MGI:1353431</th>\n",
       "      <td>Pcsk1n</td>\n",
       "      <td>MGI:5421241,MGI:2662712,MGI:3586139,MGI:482710...</td>\n",
       "    </tr>\n",
       "    <tr>\n",
       "      <th>MGI:1931526</th>\n",
       "      <td>Hist1h1c</td>\n",
       "      <td>MGI:4825375,MGI:5291705,MGI:3845788</td>\n",
       "    </tr>\n",
       "    <tr>\n",
       "      <th>MGI:2177151</th>\n",
       "      <td>Cd99l2</td>\n",
       "      <td>MGI:3806997,MGI:3806967,MGI:3806994,MGI:382859...</td>\n",
       "    </tr>\n",
       "    <tr>\n",
       "      <th>MGI:1916858</th>\n",
       "      <td>Sec24d</td>\n",
       "      <td>MGI:4827936,MGI:5698498</td>\n",
       "    </tr>\n",
       "    <tr>\n",
       "      <th>MGI:1915444</th>\n",
       "      <td>Ndufb4</td>\n",
       "      <td>MGI:3691813,MGI:5423678,MGI:3691814</td>\n",
       "    </tr>\n",
       "  </tbody>\n",
       "</table>\n",
       "</div>"
      ],
      "text/plain": [
       "                    1                                                  2\n",
       "0                                                                       \n",
       "MGI:1353431    Pcsk1n  MGI:5421241,MGI:2662712,MGI:3586139,MGI:482710...\n",
       "MGI:1931526  Hist1h1c                MGI:4825375,MGI:5291705,MGI:3845788\n",
       "MGI:2177151    Cd99l2  MGI:3806997,MGI:3806967,MGI:3806994,MGI:382859...\n",
       "MGI:1916858    Sec24d                            MGI:4827936,MGI:5698498\n",
       "MGI:1915444    Ndufb4                MGI:3691813,MGI:5423678,MGI:3691814"
      ]
     },
     "execution_count": 12,
     "metadata": {},
     "output_type": "execute_result"
    }
   ],
   "source": [
    "gene_meta.head()"
   ]
  },
  {
   "cell_type": "markdown",
   "metadata": {},
   "source": [
    "# Get Relevent Data and Map Gene ID's to Symbols"
   ]
  },
  {
   "cell_type": "code",
   "execution_count": 13,
   "metadata": {},
   "outputs": [
    {
     "name": "stdout",
     "output_type": "stream",
     "text": [
      "Progress: 100%   \r"
     ]
    }
   ],
   "source": [
    "ontology_df = pd.DataFrame()\n",
    "\n",
    "i = 0\n",
    "\n",
    "for index in df.index:\n",
    "    \n",
    "    i += 1\n",
    "    \n",
    "    progress = (i/len(df.index))*100\n",
    "        \n",
    "    sys.stdout.write(\"Progress: %d%%   \\r\" % (progress))\n",
    "    sys.stdout.flush()\n",
    "    \n",
    "    \n",
    "    \n",
    "    if len(df.ix[index, 'MGI Marker Accession ID (comma-delimited)'].split(',')) > 1:\n",
    "        for mgi in df.ix[index, 'MGI Marker Accession ID (comma-delimited)'].split(','):\n",
    "            if mgi in gene_meta.index:\n",
    "                lst = []\n",
    "                lst.append(gene_meta.ix[mgi, 1])\n",
    "                lst.append(df.ix[index, 'Mammalian Phenotype ID'])\n",
    "                temp = pd.DataFrame(data=lst)\n",
    "                df = pd.concat([df,temp.T])\n",
    "    else:\n",
    "        mgi = df.ix[index, 'MGI Marker Accession ID (comma-delimited)'].split(',')[0]\n",
    "        if mgi in gene_meta.index:\n",
    "            lst = []\n",
    "            lst.append(gene_meta.ix[mgi, 1])\n",
    "            lst.append(df.ix[index, 'Mammalian Phenotype ID'])\n",
    "            temp = pd.DataFrame(data=lst)\n",
    "            ontology_df = pd.concat([ontology_df,temp.T])"
   ]
  },
  {
   "cell_type": "code",
   "execution_count": 14,
   "metadata": {
    "collapsed": true
   },
   "outputs": [],
   "source": [
    "ontology_df.drop_duplicates(inplace=True)\n",
    "\n",
    "ontology_df.reset_index(inplace=True)\n",
    "\n",
    "ontology_df.drop('index', axis=1,inplace=True)"
   ]
  },
  {
   "cell_type": "code",
   "execution_count": 25,
   "metadata": {},
   "outputs": [
    {
     "data": {
      "text/html": [
       "<div>\n",
       "<table border=\"1\" class=\"dataframe\">\n",
       "  <thead>\n",
       "    <tr style=\"text-align: right;\">\n",
       "      <th></th>\n",
       "      <th>0</th>\n",
       "      <th>1</th>\n",
       "    </tr>\n",
       "  </thead>\n",
       "  <tbody>\n",
       "    <tr>\n",
       "      <th>0</th>\n",
       "      <td>Rb1</td>\n",
       "      <td>MP:0000600</td>\n",
       "    </tr>\n",
       "    <tr>\n",
       "      <th>1</th>\n",
       "      <td>Rb1</td>\n",
       "      <td>MP:0001716</td>\n",
       "    </tr>\n",
       "    <tr>\n",
       "      <th>2</th>\n",
       "      <td>Rb1</td>\n",
       "      <td>MP:0001698</td>\n",
       "    </tr>\n",
       "    <tr>\n",
       "      <th>3</th>\n",
       "      <td>Rb1</td>\n",
       "      <td>MP:0001092</td>\n",
       "    </tr>\n",
       "    <tr>\n",
       "      <th>4</th>\n",
       "      <td>Rb1</td>\n",
       "      <td>MP:0000961</td>\n",
       "    </tr>\n",
       "  </tbody>\n",
       "</table>\n",
       "</div>"
      ],
      "text/plain": [
       "     0           1\n",
       "0  Rb1  MP:0000600\n",
       "1  Rb1  MP:0001716\n",
       "2  Rb1  MP:0001698\n",
       "3  Rb1  MP:0001092\n",
       "4  Rb1  MP:0000961"
      ]
     },
     "execution_count": 25,
     "metadata": {},
     "output_type": "execute_result"
    }
   ],
   "source": [
    "ontology_df.head()"
   ]
  },
  {
   "cell_type": "code",
   "execution_count": 19,
   "metadata": {},
   "outputs": [
    {
     "data": {
      "text/plain": [
       "(140084, 1)"
      ]
     },
     "execution_count": 19,
     "metadata": {},
     "output_type": "execute_result"
    }
   ],
   "source": [
    "ontology_df.shape"
   ]
  },
  {
   "cell_type": "markdown",
   "metadata": {},
   "source": [
    "# Load Ontology Metadata"
   ]
  },
  {
   "cell_type": "code",
   "execution_count": 20,
   "metadata": {
    "collapsed": true
   },
   "outputs": [],
   "source": [
    "ontology_meta = pd.read_table('http://www.informatics.jax.org/downloads/reports/VOC_MammalianPhenotype.rpt', header=None)"
   ]
  },
  {
   "cell_type": "code",
   "execution_count": 22,
   "metadata": {
    "collapsed": true
   },
   "outputs": [],
   "source": [
    "ontology_meta.set_index(0, inplace=True)"
   ]
  },
  {
   "cell_type": "code",
   "execution_count": 23,
   "metadata": {},
   "outputs": [
    {
     "data": {
      "text/html": [
       "<div>\n",
       "<table border=\"1\" class=\"dataframe\">\n",
       "  <thead>\n",
       "    <tr style=\"text-align: right;\">\n",
       "      <th></th>\n",
       "      <th>1</th>\n",
       "      <th>2</th>\n",
       "    </tr>\n",
       "    <tr>\n",
       "      <th>0</th>\n",
       "      <th></th>\n",
       "      <th></th>\n",
       "    </tr>\n",
       "  </thead>\n",
       "  <tbody>\n",
       "    <tr>\n",
       "      <th>MP:0000001</th>\n",
       "      <td>mammalian phenotype</td>\n",
       "      <td>the observable morphological, physiological, b...</td>\n",
       "    </tr>\n",
       "    <tr>\n",
       "      <th>MP:0000002</th>\n",
       "      <td>obsolete Morphology</td>\n",
       "      <td>OBSOLETE.</td>\n",
       "    </tr>\n",
       "    <tr>\n",
       "      <th>MP:0000003</th>\n",
       "      <td>abnormal adipose tissue morphology</td>\n",
       "      <td>any structural anomaly of the connective tissu...</td>\n",
       "    </tr>\n",
       "    <tr>\n",
       "      <th>MP:0000005</th>\n",
       "      <td>increased brown adipose tissue amount</td>\n",
       "      <td>increased amount of the thermogenic form of ad...</td>\n",
       "    </tr>\n",
       "    <tr>\n",
       "      <th>MP:0000008</th>\n",
       "      <td>increased white adipose tissue amount</td>\n",
       "      <td>increased quantity of fat-storing cells/tissue</td>\n",
       "    </tr>\n",
       "  </tbody>\n",
       "</table>\n",
       "</div>"
      ],
      "text/plain": [
       "                                                1  \\\n",
       "0                                                   \n",
       "MP:0000001                    mammalian phenotype   \n",
       "MP:0000002                    obsolete Morphology   \n",
       "MP:0000003     abnormal adipose tissue morphology   \n",
       "MP:0000005  increased brown adipose tissue amount   \n",
       "MP:0000008  increased white adipose tissue amount   \n",
       "\n",
       "                                                            2  \n",
       "0                                                              \n",
       "MP:0000001  the observable morphological, physiological, b...  \n",
       "MP:0000002                                          OBSOLETE.  \n",
       "MP:0000003  any structural anomaly of the connective tissu...  \n",
       "MP:0000005  increased amount of the thermogenic form of ad...  \n",
       "MP:0000008     increased quantity of fat-storing cells/tissue  "
      ]
     },
     "execution_count": 23,
     "metadata": {},
     "output_type": "execute_result"
    }
   ],
   "source": [
    "ontology_meta.head()"
   ]
  },
  {
   "cell_type": "markdown",
   "metadata": {},
   "source": [
    "# Map Ontology to Ontology ID's"
   ]
  },
  {
   "cell_type": "code",
   "execution_count": 28,
   "metadata": {},
   "outputs": [
    {
     "name": "stdout",
     "output_type": "stream",
     "text": [
      "Progress: 99%   \r"
     ]
    }
   ],
   "source": [
    "lst = []\n",
    "\n",
    "for i,index in enumerate(ontology_df.index):\n",
    "\n",
    "    progress = ((i+1)/len(ontology_df.index))*100\n",
    "        \n",
    "    sys.stdout.write(\"Progress: %d%%   \\r\" % (progress))\n",
    "    sys.stdout.flush()\n",
    "    \n",
    "    lst.append(ontology_meta.ix[ontology_df.ix[index, 1], 1])\n",
    "\n",
    "ontology_df[1] = lst"
   ]
  },
  {
   "cell_type": "code",
   "execution_count": 29,
   "metadata": {
    "collapsed": true
   },
   "outputs": [],
   "source": [
    "ontology_df.drop_duplicates(inplace=True)\n",
    "\n",
    "ontology_df.reset_index(inplace=True)\n",
    "\n",
    "ontology_df.drop('index', axis=1,inplace=True)"
   ]
  },
  {
   "cell_type": "code",
   "execution_count": 30,
   "metadata": {},
   "outputs": [
    {
     "data": {
      "text/html": [
       "<div>\n",
       "<table border=\"1\" class=\"dataframe\">\n",
       "  <thead>\n",
       "    <tr style=\"text-align: right;\">\n",
       "      <th></th>\n",
       "      <th>0</th>\n",
       "      <th>1</th>\n",
       "    </tr>\n",
       "  </thead>\n",
       "  <tbody>\n",
       "    <tr>\n",
       "      <th>0</th>\n",
       "      <td>Rb1</td>\n",
       "      <td>liver hypoplasia</td>\n",
       "    </tr>\n",
       "    <tr>\n",
       "      <th>1</th>\n",
       "      <td>Rb1</td>\n",
       "      <td>abnormal placenta labyrinth morphology</td>\n",
       "    </tr>\n",
       "    <tr>\n",
       "      <th>2</th>\n",
       "      <td>Rb1</td>\n",
       "      <td>decreased embryo size</td>\n",
       "    </tr>\n",
       "    <tr>\n",
       "      <th>3</th>\n",
       "      <td>Rb1</td>\n",
       "      <td>abnormal trigeminal ganglion morphology</td>\n",
       "    </tr>\n",
       "    <tr>\n",
       "      <th>4</th>\n",
       "      <td>Rb1</td>\n",
       "      <td>abnormal dorsal root ganglion morphology</td>\n",
       "    </tr>\n",
       "  </tbody>\n",
       "</table>\n",
       "</div>"
      ],
      "text/plain": [
       "     0                                         1\n",
       "0  Rb1                          liver hypoplasia\n",
       "1  Rb1    abnormal placenta labyrinth morphology\n",
       "2  Rb1                     decreased embryo size\n",
       "3  Rb1   abnormal trigeminal ganglion morphology\n",
       "4  Rb1  abnormal dorsal root ganglion morphology"
      ]
     },
     "execution_count": 30,
     "metadata": {},
     "output_type": "execute_result"
    }
   ],
   "source": [
    "ontology_df.head()"
   ]
  },
  {
   "cell_type": "code",
   "execution_count": 31,
   "metadata": {},
   "outputs": [
    {
     "data": {
      "text/plain": [
       "(140084, 2)"
      ]
     },
     "execution_count": 31,
     "metadata": {},
     "output_type": "execute_result"
    }
   ],
   "source": [
    "ontology_df.shape"
   ]
  },
  {
   "cell_type": "markdown",
   "metadata": {},
   "source": [
    "# Map Gene Symbols To Up-to-date Approved Gene Symbols"
   ]
  },
  {
   "cell_type": "code",
   "execution_count": 32,
   "metadata": {
    "collapsed": true
   },
   "outputs": [],
   "source": [
    "ontology_df.set_index(0, inplace=True)"
   ]
  },
  {
   "cell_type": "code",
   "execution_count": 33,
   "metadata": {},
   "outputs": [
    {
     "name": "stdout",
     "output_type": "stream",
     "text": [
      "Progeres: 100%  140084 Out of 140084   \r"
     ]
    }
   ],
   "source": [
    "uf.mapgenesymbols(ontology_df)"
   ]
  },
  {
   "cell_type": "code",
   "execution_count": 34,
   "metadata": {},
   "outputs": [
    {
     "data": {
      "text/plain": [
       "(134516, 1)"
      ]
     },
     "execution_count": 34,
     "metadata": {},
     "output_type": "execute_result"
    }
   ],
   "source": [
    "ontology_df.shape"
   ]
  },
  {
   "cell_type": "markdown",
   "metadata": {},
   "source": [
    "# Create Binary Matrix"
   ]
  },
  {
   "cell_type": "code",
   "execution_count": 35,
   "metadata": {
    "collapsed": true
   },
   "outputs": [],
   "source": [
    "ontology_df.reset_index(inplace=True)"
   ]
  },
  {
   "cell_type": "code",
   "execution_count": 36,
   "metadata": {},
   "outputs": [
    {
     "name": "stdout",
     "output_type": "stream",
     "text": [
      "Progeres: 100%  7758 Out of 7758   \r"
     ]
    }
   ],
   "source": [
    "binary_matrix = uf.createBinaryMatix(ontology_df)"
   ]
  },
  {
   "cell_type": "code",
   "execution_count": 37,
   "metadata": {},
   "outputs": [
    {
     "data": {
      "text/html": [
       "<div>\n",
       "<table border=\"1\" class=\"dataframe\">\n",
       "  <thead>\n",
       "    <tr style=\"text-align: right;\">\n",
       "      <th></th>\n",
       "      <th>abnormal thrombopoiesis</th>\n",
       "      <th>akinesia</th>\n",
       "      <th>increased ovary apoptosis</th>\n",
       "      <th>decreased skeletal muscle weight</th>\n",
       "      <th>abnormal respiratory system physiology</th>\n",
       "      <th>increased rhabdomyosarcoma incidence</th>\n",
       "      <th>abnormal alveolocapillary membrane morphology</th>\n",
       "      <th>abnormal leukocyte morphology</th>\n",
       "      <th>prenatal lethality</th>\n",
       "      <th>absent immature B cells</th>\n",
       "      <th>...</th>\n",
       "      <th>abnormal renal sodium ion transport</th>\n",
       "      <th>decreased marginal zone B cell number</th>\n",
       "      <th>abnormal thoracic mammary gland morphology</th>\n",
       "      <th>decreased circulating complement protein level</th>\n",
       "      <th>increased pituitary gland tumor incidence</th>\n",
       "      <th>increased pre-B cell number</th>\n",
       "      <th>abnormal neurotransmitter level</th>\n",
       "      <th>abnormal macrophage derived foam cell morphology</th>\n",
       "      <th>increased sensitivity to xenobiotic induced morbidity/mortality</th>\n",
       "      <th>increased erythrocyte clearance</th>\n",
       "    </tr>\n",
       "  </thead>\n",
       "  <tbody>\n",
       "    <tr>\n",
       "      <th>HOXC13</th>\n",
       "      <td>0</td>\n",
       "      <td>0</td>\n",
       "      <td>0</td>\n",
       "      <td>0</td>\n",
       "      <td>0</td>\n",
       "      <td>0</td>\n",
       "      <td>0</td>\n",
       "      <td>0</td>\n",
       "      <td>0</td>\n",
       "      <td>0</td>\n",
       "      <td>...</td>\n",
       "      <td>0</td>\n",
       "      <td>0</td>\n",
       "      <td>0</td>\n",
       "      <td>0</td>\n",
       "      <td>0</td>\n",
       "      <td>0</td>\n",
       "      <td>0</td>\n",
       "      <td>0</td>\n",
       "      <td>0</td>\n",
       "      <td>0</td>\n",
       "    </tr>\n",
       "    <tr>\n",
       "      <th>PIK3R5</th>\n",
       "      <td>0</td>\n",
       "      <td>0</td>\n",
       "      <td>0</td>\n",
       "      <td>0</td>\n",
       "      <td>0</td>\n",
       "      <td>0</td>\n",
       "      <td>0</td>\n",
       "      <td>0</td>\n",
       "      <td>0</td>\n",
       "      <td>0</td>\n",
       "      <td>...</td>\n",
       "      <td>0</td>\n",
       "      <td>0</td>\n",
       "      <td>0</td>\n",
       "      <td>0</td>\n",
       "      <td>0</td>\n",
       "      <td>0</td>\n",
       "      <td>0</td>\n",
       "      <td>0</td>\n",
       "      <td>0</td>\n",
       "      <td>0</td>\n",
       "    </tr>\n",
       "    <tr>\n",
       "      <th>YES1</th>\n",
       "      <td>0</td>\n",
       "      <td>0</td>\n",
       "      <td>0</td>\n",
       "      <td>0</td>\n",
       "      <td>0</td>\n",
       "      <td>0</td>\n",
       "      <td>0</td>\n",
       "      <td>0</td>\n",
       "      <td>0</td>\n",
       "      <td>0</td>\n",
       "      <td>...</td>\n",
       "      <td>0</td>\n",
       "      <td>0</td>\n",
       "      <td>0</td>\n",
       "      <td>0</td>\n",
       "      <td>0</td>\n",
       "      <td>0</td>\n",
       "      <td>0</td>\n",
       "      <td>0</td>\n",
       "      <td>0</td>\n",
       "      <td>0</td>\n",
       "    </tr>\n",
       "    <tr>\n",
       "      <th>ENTPD3</th>\n",
       "      <td>0</td>\n",
       "      <td>0</td>\n",
       "      <td>0</td>\n",
       "      <td>0</td>\n",
       "      <td>0</td>\n",
       "      <td>0</td>\n",
       "      <td>0</td>\n",
       "      <td>0</td>\n",
       "      <td>0</td>\n",
       "      <td>0</td>\n",
       "      <td>...</td>\n",
       "      <td>0</td>\n",
       "      <td>0</td>\n",
       "      <td>0</td>\n",
       "      <td>0</td>\n",
       "      <td>0</td>\n",
       "      <td>0</td>\n",
       "      <td>0</td>\n",
       "      <td>0</td>\n",
       "      <td>0</td>\n",
       "      <td>0</td>\n",
       "    </tr>\n",
       "    <tr>\n",
       "      <th>RUFY3</th>\n",
       "      <td>0</td>\n",
       "      <td>0</td>\n",
       "      <td>0</td>\n",
       "      <td>0</td>\n",
       "      <td>0</td>\n",
       "      <td>0</td>\n",
       "      <td>0</td>\n",
       "      <td>0</td>\n",
       "      <td>0</td>\n",
       "      <td>0</td>\n",
       "      <td>...</td>\n",
       "      <td>0</td>\n",
       "      <td>0</td>\n",
       "      <td>0</td>\n",
       "      <td>0</td>\n",
       "      <td>0</td>\n",
       "      <td>0</td>\n",
       "      <td>0</td>\n",
       "      <td>0</td>\n",
       "      <td>0</td>\n",
       "      <td>0</td>\n",
       "    </tr>\n",
       "  </tbody>\n",
       "</table>\n",
       "<p>5 rows × 8639 columns</p>\n",
       "</div>"
      ],
      "text/plain": [
       "        abnormal thrombopoiesis  akinesia  increased ovary apoptosis  \\\n",
       "HOXC13                        0         0                          0   \n",
       "PIK3R5                        0         0                          0   \n",
       "YES1                          0         0                          0   \n",
       "ENTPD3                        0         0                          0   \n",
       "RUFY3                         0         0                          0   \n",
       "\n",
       "        decreased skeletal muscle weight  \\\n",
       "HOXC13                                 0   \n",
       "PIK3R5                                 0   \n",
       "YES1                                   0   \n",
       "ENTPD3                                 0   \n",
       "RUFY3                                  0   \n",
       "\n",
       "        abnormal respiratory system physiology  \\\n",
       "HOXC13                                       0   \n",
       "PIK3R5                                       0   \n",
       "YES1                                         0   \n",
       "ENTPD3                                       0   \n",
       "RUFY3                                        0   \n",
       "\n",
       "        increased rhabdomyosarcoma incidence  \\\n",
       "HOXC13                                     0   \n",
       "PIK3R5                                     0   \n",
       "YES1                                       0   \n",
       "ENTPD3                                     0   \n",
       "RUFY3                                      0   \n",
       "\n",
       "        abnormal alveolocapillary membrane morphology  \\\n",
       "HOXC13                                              0   \n",
       "PIK3R5                                              0   \n",
       "YES1                                                0   \n",
       "ENTPD3                                              0   \n",
       "RUFY3                                               0   \n",
       "\n",
       "        abnormal leukocyte morphology  prenatal lethality  \\\n",
       "HOXC13                              0                   0   \n",
       "PIK3R5                              0                   0   \n",
       "YES1                                0                   0   \n",
       "ENTPD3                              0                   0   \n",
       "RUFY3                               0                   0   \n",
       "\n",
       "        absent immature B cells               ...                 \\\n",
       "HOXC13                        0               ...                  \n",
       "PIK3R5                        0               ...                  \n",
       "YES1                          0               ...                  \n",
       "ENTPD3                        0               ...                  \n",
       "RUFY3                         0               ...                  \n",
       "\n",
       "        abnormal renal sodium ion transport  \\\n",
       "HOXC13                                    0   \n",
       "PIK3R5                                    0   \n",
       "YES1                                      0   \n",
       "ENTPD3                                    0   \n",
       "RUFY3                                     0   \n",
       "\n",
       "        decreased marginal zone B cell number  \\\n",
       "HOXC13                                      0   \n",
       "PIK3R5                                      0   \n",
       "YES1                                        0   \n",
       "ENTPD3                                      0   \n",
       "RUFY3                                       0   \n",
       "\n",
       "        abnormal thoracic mammary gland morphology  \\\n",
       "HOXC13                                           0   \n",
       "PIK3R5                                           0   \n",
       "YES1                                             0   \n",
       "ENTPD3                                           0   \n",
       "RUFY3                                            0   \n",
       "\n",
       "        decreased circulating complement protein level  \\\n",
       "HOXC13                                               0   \n",
       "PIK3R5                                               0   \n",
       "YES1                                                 0   \n",
       "ENTPD3                                               0   \n",
       "RUFY3                                                0   \n",
       "\n",
       "        increased pituitary gland tumor incidence  \\\n",
       "HOXC13                                          0   \n",
       "PIK3R5                                          0   \n",
       "YES1                                            0   \n",
       "ENTPD3                                          0   \n",
       "RUFY3                                           0   \n",
       "\n",
       "        increased pre-B cell number  abnormal neurotransmitter level  \\\n",
       "HOXC13                            0                                0   \n",
       "PIK3R5                            0                                0   \n",
       "YES1                              0                                0   \n",
       "ENTPD3                            0                                0   \n",
       "RUFY3                             0                                0   \n",
       "\n",
       "        abnormal macrophage derived foam cell morphology  \\\n",
       "HOXC13                                                 0   \n",
       "PIK3R5                                                 0   \n",
       "YES1                                                   0   \n",
       "ENTPD3                                                 0   \n",
       "RUFY3                                                  0   \n",
       "\n",
       "        increased sensitivity to xenobiotic induced morbidity/mortality  \\\n",
       "HOXC13                                                  0                 \n",
       "PIK3R5                                                  0                 \n",
       "YES1                                                    0                 \n",
       "ENTPD3                                                  0                 \n",
       "RUFY3                                                   0                 \n",
       "\n",
       "        increased erythrocyte clearance  \n",
       "HOXC13                                0  \n",
       "PIK3R5                                0  \n",
       "YES1                                  0  \n",
       "ENTPD3                                0  \n",
       "RUFY3                                 0  \n",
       "\n",
       "[5 rows x 8639 columns]"
      ]
     },
     "execution_count": 37,
     "metadata": {},
     "output_type": "execute_result"
    }
   ],
   "source": [
    "binary_matrix.head()"
   ]
  },
  {
   "cell_type": "code",
   "execution_count": 38,
   "metadata": {},
   "outputs": [
    {
     "data": {
      "text/plain": [
       "(7758, 8639)"
      ]
     },
     "execution_count": 38,
     "metadata": {},
     "output_type": "execute_result"
    }
   ],
   "source": [
    "binary_matrix.shape"
   ]
  },
  {
   "cell_type": "markdown",
   "metadata": {},
   "source": [
    "# Save Binary Matrix"
   ]
  },
  {
   "cell_type": "code",
   "execution_count": 40,
   "metadata": {},
   "outputs": [],
   "source": [
    "filename = '~/./Documents/Harmonizome/MGI/Output/mgi_binary_matrix_%s.tsv.zip'% str(datetime.date.today())[0:7].replace('-', '_')\n",
    "binary_matrix.to_csv(filename, sep='\\t', compression='gzip')"
   ]
  },
  {
   "cell_type": "markdown",
   "metadata": {},
   "source": [
    "# Create Gene Set Library"
   ]
  },
  {
   "cell_type": "code",
   "execution_count": 41,
   "metadata": {
    "collapsed": true
   },
   "outputs": [],
   "source": [
    "path = '/Users/moshesilverstein/Documents/Harmonizome/MGI/Output/'"
   ]
  },
  {
   "cell_type": "code",
   "execution_count": 42,
   "metadata": {
    "collapsed": true
   },
   "outputs": [],
   "source": [
    "name = 'mgi_gene_set'"
   ]
  },
  {
   "cell_type": "code",
   "execution_count": 43,
   "metadata": {},
   "outputs": [
    {
     "name": "stdout",
     "output_type": "stream",
     "text": [
      "Progeres: 100%  8639 Out of 8639   \r"
     ]
    }
   ],
   "source": [
    "uf.createUpGeneSetLib(binary_matrix, path, name)"
   ]
  },
  {
   "cell_type": "markdown",
   "metadata": {},
   "source": [
    "# Create Attribute Library"
   ]
  },
  {
   "cell_type": "code",
   "execution_count": 44,
   "metadata": {
    "collapsed": true
   },
   "outputs": [],
   "source": [
    "path = '/Users/moshesilverstein/Documents/Harmonizome/MGI/Output/'"
   ]
  },
  {
   "cell_type": "code",
   "execution_count": 45,
   "metadata": {
    "collapsed": true
   },
   "outputs": [],
   "source": [
    "name = 'mgi_attribute_set'"
   ]
  },
  {
   "cell_type": "code",
   "execution_count": 46,
   "metadata": {},
   "outputs": [
    {
     "name": "stdout",
     "output_type": "stream",
     "text": [
      "Progeres: 100%  7758 Out of 7758   \r"
     ]
    }
   ],
   "source": [
    "uf.createUpAttributeSetLib(binary_matrix, path, name)"
   ]
  },
  {
   "cell_type": "markdown",
   "metadata": {},
   "source": [
    "# Create Gene Similarity Matrix"
   ]
  },
  {
   "cell_type": "code",
   "execution_count": 47,
   "metadata": {
    "collapsed": true
   },
   "outputs": [],
   "source": [
    "gene_similarity_matix = uf.createSimilarityMatrix(binary_matrix, 'jaccard')"
   ]
  },
  {
   "cell_type": "code",
   "execution_count": 48,
   "metadata": {},
   "outputs": [
    {
     "data": {
      "text/html": [
       "<div>\n",
       "<table border=\"1\" class=\"dataframe\">\n",
       "  <thead>\n",
       "    <tr style=\"text-align: right;\">\n",
       "      <th></th>\n",
       "      <th>HOXC13</th>\n",
       "      <th>PIK3R5</th>\n",
       "      <th>YES1</th>\n",
       "      <th>ENTPD3</th>\n",
       "      <th>RUFY3</th>\n",
       "      <th>GNAT1</th>\n",
       "      <th>FTO</th>\n",
       "      <th>DMRTA1</th>\n",
       "      <th>PASK</th>\n",
       "      <th>HOXC8</th>\n",
       "      <th>...</th>\n",
       "      <th>OMG</th>\n",
       "      <th>GORAB</th>\n",
       "      <th>TUFT1</th>\n",
       "      <th>CDH3</th>\n",
       "      <th>MYOF</th>\n",
       "      <th>PPP4C</th>\n",
       "      <th>MSLN</th>\n",
       "      <th>CSGALNACT1</th>\n",
       "      <th>TBX5</th>\n",
       "      <th>CDC7</th>\n",
       "    </tr>\n",
       "  </thead>\n",
       "  <tbody>\n",
       "    <tr>\n",
       "      <th>HOXC13</th>\n",
       "      <td>1.0</td>\n",
       "      <td>0.0</td>\n",
       "      <td>0.0</td>\n",
       "      <td>0.0</td>\n",
       "      <td>0.0</td>\n",
       "      <td>0.0</td>\n",
       "      <td>0.015385</td>\n",
       "      <td>0.0</td>\n",
       "      <td>0.0</td>\n",
       "      <td>0.054054</td>\n",
       "      <td>...</td>\n",
       "      <td>0.0</td>\n",
       "      <td>0.0</td>\n",
       "      <td>0.0</td>\n",
       "      <td>0.0</td>\n",
       "      <td>0.0</td>\n",
       "      <td>0.0</td>\n",
       "      <td>0.0</td>\n",
       "      <td>0.0</td>\n",
       "      <td>0.017241</td>\n",
       "      <td>0.00</td>\n",
       "    </tr>\n",
       "    <tr>\n",
       "      <th>PIK3R5</th>\n",
       "      <td>0.0</td>\n",
       "      <td>1.0</td>\n",
       "      <td>0.0</td>\n",
       "      <td>0.0</td>\n",
       "      <td>0.0</td>\n",
       "      <td>0.0</td>\n",
       "      <td>0.000000</td>\n",
       "      <td>0.0</td>\n",
       "      <td>0.0</td>\n",
       "      <td>0.000000</td>\n",
       "      <td>...</td>\n",
       "      <td>0.0</td>\n",
       "      <td>0.0</td>\n",
       "      <td>0.0</td>\n",
       "      <td>0.0</td>\n",
       "      <td>0.0</td>\n",
       "      <td>0.0</td>\n",
       "      <td>0.0</td>\n",
       "      <td>0.0</td>\n",
       "      <td>0.000000</td>\n",
       "      <td>0.00</td>\n",
       "    </tr>\n",
       "    <tr>\n",
       "      <th>YES1</th>\n",
       "      <td>0.0</td>\n",
       "      <td>0.0</td>\n",
       "      <td>1.0</td>\n",
       "      <td>0.0</td>\n",
       "      <td>0.0</td>\n",
       "      <td>0.0</td>\n",
       "      <td>0.000000</td>\n",
       "      <td>0.0</td>\n",
       "      <td>0.0</td>\n",
       "      <td>0.000000</td>\n",
       "      <td>...</td>\n",
       "      <td>0.5</td>\n",
       "      <td>0.0</td>\n",
       "      <td>0.0</td>\n",
       "      <td>0.0</td>\n",
       "      <td>0.0</td>\n",
       "      <td>0.0</td>\n",
       "      <td>1.0</td>\n",
       "      <td>0.0</td>\n",
       "      <td>0.023256</td>\n",
       "      <td>0.00</td>\n",
       "    </tr>\n",
       "    <tr>\n",
       "      <th>ENTPD3</th>\n",
       "      <td>0.0</td>\n",
       "      <td>0.0</td>\n",
       "      <td>0.0</td>\n",
       "      <td>1.0</td>\n",
       "      <td>0.0</td>\n",
       "      <td>0.0</td>\n",
       "      <td>0.000000</td>\n",
       "      <td>0.0</td>\n",
       "      <td>0.0</td>\n",
       "      <td>0.000000</td>\n",
       "      <td>...</td>\n",
       "      <td>0.0</td>\n",
       "      <td>0.0</td>\n",
       "      <td>0.0</td>\n",
       "      <td>0.0</td>\n",
       "      <td>0.0</td>\n",
       "      <td>0.0</td>\n",
       "      <td>0.0</td>\n",
       "      <td>0.0</td>\n",
       "      <td>0.000000</td>\n",
       "      <td>0.00</td>\n",
       "    </tr>\n",
       "    <tr>\n",
       "      <th>RUFY3</th>\n",
       "      <td>0.0</td>\n",
       "      <td>0.0</td>\n",
       "      <td>0.0</td>\n",
       "      <td>0.0</td>\n",
       "      <td>1.0</td>\n",
       "      <td>0.0</td>\n",
       "      <td>0.000000</td>\n",
       "      <td>0.0</td>\n",
       "      <td>0.0</td>\n",
       "      <td>0.000000</td>\n",
       "      <td>...</td>\n",
       "      <td>0.0</td>\n",
       "      <td>0.0</td>\n",
       "      <td>0.0</td>\n",
       "      <td>0.0</td>\n",
       "      <td>0.0</td>\n",
       "      <td>0.0</td>\n",
       "      <td>0.0</td>\n",
       "      <td>0.0</td>\n",
       "      <td>0.000000</td>\n",
       "      <td>0.25</td>\n",
       "    </tr>\n",
       "  </tbody>\n",
       "</table>\n",
       "<p>5 rows × 7758 columns</p>\n",
       "</div>"
      ],
      "text/plain": [
       "        HOXC13  PIK3R5  YES1  ENTPD3  RUFY3  GNAT1       FTO  DMRTA1  PASK  \\\n",
       "HOXC13     1.0     0.0   0.0     0.0    0.0    0.0  0.015385     0.0   0.0   \n",
       "PIK3R5     0.0     1.0   0.0     0.0    0.0    0.0  0.000000     0.0   0.0   \n",
       "YES1       0.0     0.0   1.0     0.0    0.0    0.0  0.000000     0.0   0.0   \n",
       "ENTPD3     0.0     0.0   0.0     1.0    0.0    0.0  0.000000     0.0   0.0   \n",
       "RUFY3      0.0     0.0   0.0     0.0    1.0    0.0  0.000000     0.0   0.0   \n",
       "\n",
       "           HOXC8  ...   OMG  GORAB  TUFT1  CDH3  MYOF  PPP4C  MSLN  \\\n",
       "HOXC13  0.054054  ...   0.0    0.0    0.0   0.0   0.0    0.0   0.0   \n",
       "PIK3R5  0.000000  ...   0.0    0.0    0.0   0.0   0.0    0.0   0.0   \n",
       "YES1    0.000000  ...   0.5    0.0    0.0   0.0   0.0    0.0   1.0   \n",
       "ENTPD3  0.000000  ...   0.0    0.0    0.0   0.0   0.0    0.0   0.0   \n",
       "RUFY3   0.000000  ...   0.0    0.0    0.0   0.0   0.0    0.0   0.0   \n",
       "\n",
       "        CSGALNACT1      TBX5  CDC7  \n",
       "HOXC13         0.0  0.017241  0.00  \n",
       "PIK3R5         0.0  0.000000  0.00  \n",
       "YES1           0.0  0.023256  0.00  \n",
       "ENTPD3         0.0  0.000000  0.00  \n",
       "RUFY3          0.0  0.000000  0.25  \n",
       "\n",
       "[5 rows x 7758 columns]"
      ]
     },
     "execution_count": 48,
     "metadata": {},
     "output_type": "execute_result"
    }
   ],
   "source": [
    "gene_similarity_matix.head()"
   ]
  },
  {
   "cell_type": "markdown",
   "metadata": {},
   "source": [
    "## Save Gene Similarity Matrix "
   ]
  },
  {
   "cell_type": "code",
   "execution_count": 49,
   "metadata": {
    "collapsed": true
   },
   "outputs": [],
   "source": [
    "filename = '~/./Documents/Harmonizome/MGI/Output/mgi_gene_similarity_matix_%s.tsv.zip'% str(datetime.date.today())[0:7].replace('-', '_')\n",
    "gene_similarity_matix.to_csv(filename, sep='\\t', compression='gzip')"
   ]
  },
  {
   "cell_type": "markdown",
   "metadata": {},
   "source": [
    "# Create Attribute Similarity matrix"
   ]
  },
  {
   "cell_type": "code",
   "execution_count": 50,
   "metadata": {
    "collapsed": true
   },
   "outputs": [],
   "source": [
    "attribute_similarity_matix = uf.createSimilarityMatrix(binary_matrix.T, 'jaccard')"
   ]
  },
  {
   "cell_type": "code",
   "execution_count": 51,
   "metadata": {},
   "outputs": [
    {
     "data": {
      "text/html": [
       "<div>\n",
       "<table border=\"1\" class=\"dataframe\">\n",
       "  <thead>\n",
       "    <tr style=\"text-align: right;\">\n",
       "      <th></th>\n",
       "      <th>abnormal thrombopoiesis</th>\n",
       "      <th>akinesia</th>\n",
       "      <th>increased ovary apoptosis</th>\n",
       "      <th>decreased skeletal muscle weight</th>\n",
       "      <th>abnormal respiratory system physiology</th>\n",
       "      <th>increased rhabdomyosarcoma incidence</th>\n",
       "      <th>abnormal alveolocapillary membrane morphology</th>\n",
       "      <th>abnormal leukocyte morphology</th>\n",
       "      <th>prenatal lethality</th>\n",
       "      <th>absent immature B cells</th>\n",
       "      <th>...</th>\n",
       "      <th>abnormal renal sodium ion transport</th>\n",
       "      <th>decreased marginal zone B cell number</th>\n",
       "      <th>abnormal thoracic mammary gland morphology</th>\n",
       "      <th>decreased circulating complement protein level</th>\n",
       "      <th>increased pituitary gland tumor incidence</th>\n",
       "      <th>increased pre-B cell number</th>\n",
       "      <th>abnormal neurotransmitter level</th>\n",
       "      <th>abnormal macrophage derived foam cell morphology</th>\n",
       "      <th>increased sensitivity to xenobiotic induced morbidity/mortality</th>\n",
       "      <th>increased erythrocyte clearance</th>\n",
       "    </tr>\n",
       "  </thead>\n",
       "  <tbody>\n",
       "    <tr>\n",
       "      <th>abnormal thrombopoiesis</th>\n",
       "      <td>1.000000</td>\n",
       "      <td>0.0</td>\n",
       "      <td>0.0</td>\n",
       "      <td>0.0</td>\n",
       "      <td>0.017241</td>\n",
       "      <td>0.0</td>\n",
       "      <td>0.0</td>\n",
       "      <td>0.0</td>\n",
       "      <td>0.000000</td>\n",
       "      <td>0.0</td>\n",
       "      <td>...</td>\n",
       "      <td>0.0</td>\n",
       "      <td>0.000000</td>\n",
       "      <td>0.0</td>\n",
       "      <td>0.0</td>\n",
       "      <td>0.0</td>\n",
       "      <td>0.0</td>\n",
       "      <td>0.000000</td>\n",
       "      <td>0.0</td>\n",
       "      <td>0.009434</td>\n",
       "      <td>0.0</td>\n",
       "    </tr>\n",
       "    <tr>\n",
       "      <th>akinesia</th>\n",
       "      <td>0.000000</td>\n",
       "      <td>1.0</td>\n",
       "      <td>0.0</td>\n",
       "      <td>0.0</td>\n",
       "      <td>0.000000</td>\n",
       "      <td>0.0</td>\n",
       "      <td>0.0</td>\n",
       "      <td>0.0</td>\n",
       "      <td>0.000000</td>\n",
       "      <td>0.0</td>\n",
       "      <td>...</td>\n",
       "      <td>0.0</td>\n",
       "      <td>0.000000</td>\n",
       "      <td>0.0</td>\n",
       "      <td>0.0</td>\n",
       "      <td>0.0</td>\n",
       "      <td>0.0</td>\n",
       "      <td>0.060606</td>\n",
       "      <td>0.0</td>\n",
       "      <td>0.000000</td>\n",
       "      <td>0.0</td>\n",
       "    </tr>\n",
       "    <tr>\n",
       "      <th>increased ovary apoptosis</th>\n",
       "      <td>0.000000</td>\n",
       "      <td>0.0</td>\n",
       "      <td>1.0</td>\n",
       "      <td>0.0</td>\n",
       "      <td>0.000000</td>\n",
       "      <td>0.0</td>\n",
       "      <td>0.0</td>\n",
       "      <td>0.0</td>\n",
       "      <td>0.000000</td>\n",
       "      <td>0.0</td>\n",
       "      <td>...</td>\n",
       "      <td>0.0</td>\n",
       "      <td>0.000000</td>\n",
       "      <td>0.0</td>\n",
       "      <td>0.0</td>\n",
       "      <td>0.0</td>\n",
       "      <td>0.0</td>\n",
       "      <td>0.000000</td>\n",
       "      <td>0.0</td>\n",
       "      <td>0.000000</td>\n",
       "      <td>0.0</td>\n",
       "    </tr>\n",
       "    <tr>\n",
       "      <th>decreased skeletal muscle weight</th>\n",
       "      <td>0.000000</td>\n",
       "      <td>0.0</td>\n",
       "      <td>0.0</td>\n",
       "      <td>1.0</td>\n",
       "      <td>0.000000</td>\n",
       "      <td>0.0</td>\n",
       "      <td>0.0</td>\n",
       "      <td>0.0</td>\n",
       "      <td>0.000000</td>\n",
       "      <td>0.0</td>\n",
       "      <td>...</td>\n",
       "      <td>0.0</td>\n",
       "      <td>0.017241</td>\n",
       "      <td>0.0</td>\n",
       "      <td>0.0</td>\n",
       "      <td>0.0</td>\n",
       "      <td>0.0</td>\n",
       "      <td>0.000000</td>\n",
       "      <td>0.0</td>\n",
       "      <td>0.000000</td>\n",
       "      <td>0.0</td>\n",
       "    </tr>\n",
       "    <tr>\n",
       "      <th>abnormal respiratory system physiology</th>\n",
       "      <td>0.017241</td>\n",
       "      <td>0.0</td>\n",
       "      <td>0.0</td>\n",
       "      <td>0.0</td>\n",
       "      <td>1.000000</td>\n",
       "      <td>0.0</td>\n",
       "      <td>0.0</td>\n",
       "      <td>0.0</td>\n",
       "      <td>0.009009</td>\n",
       "      <td>0.0</td>\n",
       "      <td>...</td>\n",
       "      <td>0.0</td>\n",
       "      <td>0.000000</td>\n",
       "      <td>0.0</td>\n",
       "      <td>0.0</td>\n",
       "      <td>0.0</td>\n",
       "      <td>0.0</td>\n",
       "      <td>0.000000</td>\n",
       "      <td>0.0</td>\n",
       "      <td>0.006993</td>\n",
       "      <td>0.0</td>\n",
       "    </tr>\n",
       "  </tbody>\n",
       "</table>\n",
       "<p>5 rows × 8639 columns</p>\n",
       "</div>"
      ],
      "text/plain": [
       "                                        abnormal thrombopoiesis  akinesia  \\\n",
       "abnormal thrombopoiesis                                1.000000       0.0   \n",
       "akinesia                                               0.000000       1.0   \n",
       "increased ovary apoptosis                              0.000000       0.0   \n",
       "decreased skeletal muscle weight                       0.000000       0.0   \n",
       "abnormal respiratory system physiology                 0.017241       0.0   \n",
       "\n",
       "                                        increased ovary apoptosis  \\\n",
       "abnormal thrombopoiesis                                       0.0   \n",
       "akinesia                                                      0.0   \n",
       "increased ovary apoptosis                                     1.0   \n",
       "decreased skeletal muscle weight                              0.0   \n",
       "abnormal respiratory system physiology                        0.0   \n",
       "\n",
       "                                        decreased skeletal muscle weight  \\\n",
       "abnormal thrombopoiesis                                              0.0   \n",
       "akinesia                                                             0.0   \n",
       "increased ovary apoptosis                                            0.0   \n",
       "decreased skeletal muscle weight                                     1.0   \n",
       "abnormal respiratory system physiology                               0.0   \n",
       "\n",
       "                                        abnormal respiratory system physiology  \\\n",
       "abnormal thrombopoiesis                                               0.017241   \n",
       "akinesia                                                              0.000000   \n",
       "increased ovary apoptosis                                             0.000000   \n",
       "decreased skeletal muscle weight                                      0.000000   \n",
       "abnormal respiratory system physiology                                1.000000   \n",
       "\n",
       "                                        increased rhabdomyosarcoma incidence  \\\n",
       "abnormal thrombopoiesis                                                  0.0   \n",
       "akinesia                                                                 0.0   \n",
       "increased ovary apoptosis                                                0.0   \n",
       "decreased skeletal muscle weight                                         0.0   \n",
       "abnormal respiratory system physiology                                   0.0   \n",
       "\n",
       "                                        abnormal alveolocapillary membrane morphology  \\\n",
       "abnormal thrombopoiesis                                                           0.0   \n",
       "akinesia                                                                          0.0   \n",
       "increased ovary apoptosis                                                         0.0   \n",
       "decreased skeletal muscle weight                                                  0.0   \n",
       "abnormal respiratory system physiology                                            0.0   \n",
       "\n",
       "                                        abnormal leukocyte morphology  \\\n",
       "abnormal thrombopoiesis                                           0.0   \n",
       "akinesia                                                          0.0   \n",
       "increased ovary apoptosis                                         0.0   \n",
       "decreased skeletal muscle weight                                  0.0   \n",
       "abnormal respiratory system physiology                            0.0   \n",
       "\n",
       "                                        prenatal lethality  \\\n",
       "abnormal thrombopoiesis                           0.000000   \n",
       "akinesia                                          0.000000   \n",
       "increased ovary apoptosis                         0.000000   \n",
       "decreased skeletal muscle weight                  0.000000   \n",
       "abnormal respiratory system physiology            0.009009   \n",
       "\n",
       "                                        absent immature B cells  \\\n",
       "abnormal thrombopoiesis                                     0.0   \n",
       "akinesia                                                    0.0   \n",
       "increased ovary apoptosis                                   0.0   \n",
       "decreased skeletal muscle weight                            0.0   \n",
       "abnormal respiratory system physiology                      0.0   \n",
       "\n",
       "                                                     ...                 \\\n",
       "abnormal thrombopoiesis                              ...                  \n",
       "akinesia                                             ...                  \n",
       "increased ovary apoptosis                            ...                  \n",
       "decreased skeletal muscle weight                     ...                  \n",
       "abnormal respiratory system physiology               ...                  \n",
       "\n",
       "                                        abnormal renal sodium ion transport  \\\n",
       "abnormal thrombopoiesis                                                 0.0   \n",
       "akinesia                                                                0.0   \n",
       "increased ovary apoptosis                                               0.0   \n",
       "decreased skeletal muscle weight                                        0.0   \n",
       "abnormal respiratory system physiology                                  0.0   \n",
       "\n",
       "                                        decreased marginal zone B cell number  \\\n",
       "abnormal thrombopoiesis                                              0.000000   \n",
       "akinesia                                                             0.000000   \n",
       "increased ovary apoptosis                                            0.000000   \n",
       "decreased skeletal muscle weight                                     0.017241   \n",
       "abnormal respiratory system physiology                               0.000000   \n",
       "\n",
       "                                        abnormal thoracic mammary gland morphology  \\\n",
       "abnormal thrombopoiesis                                                        0.0   \n",
       "akinesia                                                                       0.0   \n",
       "increased ovary apoptosis                                                      0.0   \n",
       "decreased skeletal muscle weight                                               0.0   \n",
       "abnormal respiratory system physiology                                         0.0   \n",
       "\n",
       "                                        decreased circulating complement protein level  \\\n",
       "abnormal thrombopoiesis                                                            0.0   \n",
       "akinesia                                                                           0.0   \n",
       "increased ovary apoptosis                                                          0.0   \n",
       "decreased skeletal muscle weight                                                   0.0   \n",
       "abnormal respiratory system physiology                                             0.0   \n",
       "\n",
       "                                        increased pituitary gland tumor incidence  \\\n",
       "abnormal thrombopoiesis                                                       0.0   \n",
       "akinesia                                                                      0.0   \n",
       "increased ovary apoptosis                                                     0.0   \n",
       "decreased skeletal muscle weight                                              0.0   \n",
       "abnormal respiratory system physiology                                        0.0   \n",
       "\n",
       "                                        increased pre-B cell number  \\\n",
       "abnormal thrombopoiesis                                         0.0   \n",
       "akinesia                                                        0.0   \n",
       "increased ovary apoptosis                                       0.0   \n",
       "decreased skeletal muscle weight                                0.0   \n",
       "abnormal respiratory system physiology                          0.0   \n",
       "\n",
       "                                        abnormal neurotransmitter level  \\\n",
       "abnormal thrombopoiesis                                        0.000000   \n",
       "akinesia                                                       0.060606   \n",
       "increased ovary apoptosis                                      0.000000   \n",
       "decreased skeletal muscle weight                               0.000000   \n",
       "abnormal respiratory system physiology                         0.000000   \n",
       "\n",
       "                                        abnormal macrophage derived foam cell morphology  \\\n",
       "abnormal thrombopoiesis                                                              0.0   \n",
       "akinesia                                                                             0.0   \n",
       "increased ovary apoptosis                                                            0.0   \n",
       "decreased skeletal muscle weight                                                     0.0   \n",
       "abnormal respiratory system physiology                                               0.0   \n",
       "\n",
       "                                        increased sensitivity to xenobiotic induced morbidity/mortality  \\\n",
       "abnormal thrombopoiesis                                                          0.009434                 \n",
       "akinesia                                                                         0.000000                 \n",
       "increased ovary apoptosis                                                        0.000000                 \n",
       "decreased skeletal muscle weight                                                 0.000000                 \n",
       "abnormal respiratory system physiology                                           0.006993                 \n",
       "\n",
       "                                        increased erythrocyte clearance  \n",
       "abnormal thrombopoiesis                                             0.0  \n",
       "akinesia                                                            0.0  \n",
       "increased ovary apoptosis                                           0.0  \n",
       "decreased skeletal muscle weight                                    0.0  \n",
       "abnormal respiratory system physiology                              0.0  \n",
       "\n",
       "[5 rows x 8639 columns]"
      ]
     },
     "execution_count": 51,
     "metadata": {},
     "output_type": "execute_result"
    }
   ],
   "source": [
    "attribute_similarity_matix.head()"
   ]
  },
  {
   "cell_type": "markdown",
   "metadata": {},
   "source": [
    "## Save Attribute Similarity Matrix"
   ]
  },
  {
   "cell_type": "code",
   "execution_count": 52,
   "metadata": {
    "collapsed": true
   },
   "outputs": [],
   "source": [
    "filename = '~/./Documents/Harmonizome/MGI/Output/mgi_attribute_similarity_matix_%s.tsv.zip'% str(datetime.date.today())[0:7].replace('-', '_')\n",
    "attribute_similarity_matix.to_csv(filename, sep='\\t', compression='gzip')"
   ]
  },
  {
   "cell_type": "markdown",
   "metadata": {},
   "source": [
    "# Create Gene List"
   ]
  },
  {
   "cell_type": "code",
   "execution_count": 53,
   "metadata": {},
   "outputs": [
    {
     "name": "stdout",
     "output_type": "stream",
     "text": [
      "Progeres: 100%  7758 Out of 7758   \r"
     ]
    }
   ],
   "source": [
    "gene_list = uf.createGeneList(binary_matrix)"
   ]
  },
  {
   "cell_type": "code",
   "execution_count": 54,
   "metadata": {},
   "outputs": [
    {
     "data": {
      "text/html": [
       "<div>\n",
       "<table border=\"1\" class=\"dataframe\">\n",
       "  <thead>\n",
       "    <tr style=\"text-align: right;\">\n",
       "      <th></th>\n",
       "      <th>GeneSym</th>\n",
       "      <th>GeneID</th>\n",
       "    </tr>\n",
       "  </thead>\n",
       "  <tbody>\n",
       "    <tr>\n",
       "      <th>0</th>\n",
       "      <td>HOXC13</td>\n",
       "      <td>3229</td>\n",
       "    </tr>\n",
       "    <tr>\n",
       "      <th>1</th>\n",
       "      <td>PIK3R5</td>\n",
       "      <td>23533</td>\n",
       "    </tr>\n",
       "    <tr>\n",
       "      <th>2</th>\n",
       "      <td>YES1</td>\n",
       "      <td>7525</td>\n",
       "    </tr>\n",
       "    <tr>\n",
       "      <th>3</th>\n",
       "      <td>ENTPD3</td>\n",
       "      <td>956</td>\n",
       "    </tr>\n",
       "    <tr>\n",
       "      <th>4</th>\n",
       "      <td>RUFY3</td>\n",
       "      <td>22902</td>\n",
       "    </tr>\n",
       "  </tbody>\n",
       "</table>\n",
       "</div>"
      ],
      "text/plain": [
       "  GeneSym GeneID\n",
       "0  HOXC13   3229\n",
       "1  PIK3R5  23533\n",
       "2    YES1   7525\n",
       "3  ENTPD3    956\n",
       "4   RUFY3  22902"
      ]
     },
     "execution_count": 54,
     "metadata": {},
     "output_type": "execute_result"
    }
   ],
   "source": [
    "gene_list.head()"
   ]
  },
  {
   "cell_type": "code",
   "execution_count": 55,
   "metadata": {},
   "outputs": [
    {
     "data": {
      "text/plain": [
       "(7758, 2)"
      ]
     },
     "execution_count": 55,
     "metadata": {},
     "output_type": "execute_result"
    }
   ],
   "source": [
    "gene_list.shape"
   ]
  },
  {
   "cell_type": "markdown",
   "metadata": {},
   "source": [
    "### Save Gene List"
   ]
  },
  {
   "cell_type": "code",
   "execution_count": 56,
   "metadata": {
    "collapsed": true
   },
   "outputs": [],
   "source": [
    "filename = '~/./Documents/Harmonizome/MGI/Output/mgi_gene_list_%s.tsv.zip'% str(datetime.date.today())[0:7].replace('-', '_')\n",
    "gene_list.to_csv(filename, sep='\\t', index=False, compression='gzip')"
   ]
  },
  {
   "cell_type": "markdown",
   "metadata": {},
   "source": [
    "# Create Attribute List "
   ]
  },
  {
   "cell_type": "code",
   "execution_count": 57,
   "metadata": {
    "collapsed": true
   },
   "outputs": [],
   "source": [
    "attribute_list = uf.createAttributeList(binary_matrix)"
   ]
  },
  {
   "cell_type": "code",
   "execution_count": 58,
   "metadata": {},
   "outputs": [
    {
     "data": {
      "text/html": [
       "<div>\n",
       "<table border=\"1\" class=\"dataframe\">\n",
       "  <thead>\n",
       "    <tr style=\"text-align: right;\">\n",
       "      <th></th>\n",
       "      <th>Attributes</th>\n",
       "    </tr>\n",
       "  </thead>\n",
       "  <tbody>\n",
       "    <tr>\n",
       "      <th>0</th>\n",
       "      <td>abnormal thrombopoiesis</td>\n",
       "    </tr>\n",
       "    <tr>\n",
       "      <th>1</th>\n",
       "      <td>akinesia</td>\n",
       "    </tr>\n",
       "    <tr>\n",
       "      <th>2</th>\n",
       "      <td>increased ovary apoptosis</td>\n",
       "    </tr>\n",
       "    <tr>\n",
       "      <th>3</th>\n",
       "      <td>decreased skeletal muscle weight</td>\n",
       "    </tr>\n",
       "    <tr>\n",
       "      <th>4</th>\n",
       "      <td>abnormal respiratory system physiology</td>\n",
       "    </tr>\n",
       "  </tbody>\n",
       "</table>\n",
       "</div>"
      ],
      "text/plain": [
       "                               Attributes\n",
       "0                 abnormal thrombopoiesis\n",
       "1                                akinesia\n",
       "2               increased ovary apoptosis\n",
       "3        decreased skeletal muscle weight\n",
       "4  abnormal respiratory system physiology"
      ]
     },
     "execution_count": 58,
     "metadata": {},
     "output_type": "execute_result"
    }
   ],
   "source": [
    "attribute_list.head()"
   ]
  },
  {
   "cell_type": "code",
   "execution_count": 59,
   "metadata": {},
   "outputs": [
    {
     "data": {
      "text/plain": [
       "(8639, 1)"
      ]
     },
     "execution_count": 59,
     "metadata": {},
     "output_type": "execute_result"
    }
   ],
   "source": [
    "attribute_list.shape"
   ]
  },
  {
   "cell_type": "markdown",
   "metadata": {},
   "source": [
    "### Save Attribute List"
   ]
  },
  {
   "cell_type": "code",
   "execution_count": 60,
   "metadata": {
    "collapsed": true
   },
   "outputs": [],
   "source": [
    "filename = '~/./Documents/Harmonizome/MGI/Output/mgi_attribute_list_%s.tsv.zip'% str(datetime.date.today())[0:7].replace('-', '_')\n",
    "attribute_list.to_csv(filename, sep='\\t', index=False, compression='gzip')"
   ]
  },
  {
   "cell_type": "markdown",
   "metadata": {},
   "source": [
    "# Create Gene-Attribute Edge List"
   ]
  },
  {
   "cell_type": "code",
   "execution_count": 61,
   "metadata": {
    "collapsed": true
   },
   "outputs": [],
   "source": [
    "path = '/Users/moshesilverstein/Documents/Harmonizome/MGI/Output/'"
   ]
  },
  {
   "cell_type": "code",
   "execution_count": 62,
   "metadata": {
    "collapsed": true
   },
   "outputs": [],
   "source": [
    "name = 'mgi_gene_attribute_edge_list'"
   ]
  },
  {
   "cell_type": "code",
   "execution_count": 63,
   "metadata": {},
   "outputs": [
    {
     "name": "stdout",
     "output_type": "stream",
     "text": [
      "Progeres: 100%  8639 Out of 8639   \n",
      "\n",
      " The number of statisticaly relevent gene-attribute associations is: 134408\n"
     ]
    }
   ],
   "source": [
    "uf.createGeneAttributeEdgeList(binary_matrix, gene_list, path, name)"
   ]
  }
 ],
 "metadata": {
  "kernelspec": {
   "display_name": "Python [default]",
   "language": "python",
   "name": "python3"
  },
  "language_info": {
   "codemirror_mode": {
    "name": "ipython",
    "version": 3
   },
   "file_extension": ".py",
   "mimetype": "text/x-python",
   "name": "python",
   "nbconvert_exporter": "python",
   "pygments_lexer": "ipython3",
   "version": "3.5.2"
  }
 },
 "nbformat": 4,
 "nbformat_minor": 2
}
