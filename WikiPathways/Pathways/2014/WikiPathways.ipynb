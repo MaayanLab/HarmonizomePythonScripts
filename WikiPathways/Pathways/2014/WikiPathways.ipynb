{
 "cells": [
  {
   "cell_type": "markdown",
   "metadata": {},
   "source": [
    "# Wikipathways"
   ]
  },
  {
   "cell_type": "markdown",
   "metadata": {},
   "source": [
    "Author: Moshe Silverstein <br/>\n",
    "Date: 7-17 <br/>\n",
    "Data Source: http://www.wikipathways.org/index.php/WikiPathways"
   ]
  },
  {
   "cell_type": "code",
   "execution_count": 85,
   "metadata": {
    "collapsed": true
   },
   "outputs": [],
   "source": [
    "import sys, datetime\n",
    "import numpy as np\n",
    "import pandas as pd\n",
    "import importlib\n",
    "import untility_functions as uf\n",
    "%matplotlib inline"
   ]
  },
  {
   "cell_type": "code",
   "execution_count": 86,
   "metadata": {},
   "outputs": [
    {
     "data": {
      "text/plain": [
       "<module 'untility_functions' from '/Users/moshesilverstein/Documents/Harmonizome/wikipathways/untility_functions.py'>"
      ]
     },
     "execution_count": 86,
     "metadata": {},
     "output_type": "execute_result"
    }
   ],
   "source": [
    "importlib.reload(uf)"
   ]
  },
  {
   "cell_type": "markdown",
   "metadata": {},
   "source": [
    "# Load Data "
   ]
  },
  {
   "cell_type": "code",
   "execution_count": 87,
   "metadata": {},
   "outputs": [],
   "source": [
    "df = pd.read_csv('wikipathways-20170110-gmt-Homo_sapiens.gmt', sep='%', header=None)"
   ]
  },
  {
   "cell_type": "code",
   "execution_count": 88,
   "metadata": {},
   "outputs": [
    {
     "data": {
      "text/html": [
       "<div>\n",
       "<table border=\"1\" class=\"dataframe\">\n",
       "  <thead>\n",
       "    <tr style=\"text-align: right;\">\n",
       "      <th></th>\n",
       "      <th>0</th>\n",
       "      <th>1</th>\n",
       "      <th>2</th>\n",
       "      <th>3</th>\n",
       "    </tr>\n",
       "  </thead>\n",
       "  <tbody>\n",
       "    <tr>\n",
       "      <th>0</th>\n",
       "      <td>Tryptophan metabolism</td>\n",
       "      <td>WikiPathways_20170110</td>\n",
       "      <td>WP465</td>\n",
       "      <td>Homo sapiens\\thttp://www.wikipathways.org/inst...</td>\n",
       "    </tr>\n",
       "    <tr>\n",
       "      <th>1</th>\n",
       "      <td>Steroid Biosynthesis</td>\n",
       "      <td>WikiPathways_20170110</td>\n",
       "      <td>WP496</td>\n",
       "      <td>Homo sapiens\\thttp://www.wikipathways.org/inst...</td>\n",
       "    </tr>\n",
       "    <tr>\n",
       "      <th>2</th>\n",
       "      <td>Arylamine metabolism</td>\n",
       "      <td>WikiPathways_20170110</td>\n",
       "      <td>WP694</td>\n",
       "      <td>Homo sapiens\\thttp://www.wikipathways.org/inst...</td>\n",
       "    </tr>\n",
       "    <tr>\n",
       "      <th>3</th>\n",
       "      <td>Regulation of Actin Cytoskeleton</td>\n",
       "      <td>WikiPathways_20170110</td>\n",
       "      <td>WP51</td>\n",
       "      <td>Homo sapiens\\thttp://www.wikipathways.org/inst...</td>\n",
       "    </tr>\n",
       "    <tr>\n",
       "      <th>4</th>\n",
       "      <td>Interleukin-11 Signaling Pathway</td>\n",
       "      <td>WikiPathways_20170110</td>\n",
       "      <td>WP2332</td>\n",
       "      <td>Homo sapiens\\thttp://www.wikipathways.org/inst...</td>\n",
       "    </tr>\n",
       "  </tbody>\n",
       "</table>\n",
       "</div>"
      ],
      "text/plain": [
       "                                  0                      1       2  \\\n",
       "0             Tryptophan metabolism  WikiPathways_20170110   WP465   \n",
       "1              Steroid Biosynthesis  WikiPathways_20170110   WP496   \n",
       "2              Arylamine metabolism  WikiPathways_20170110   WP694   \n",
       "3  Regulation of Actin Cytoskeleton  WikiPathways_20170110    WP51   \n",
       "4  Interleukin-11 Signaling Pathway  WikiPathways_20170110  WP2332   \n",
       "\n",
       "                                                   3  \n",
       "0  Homo sapiens\\thttp://www.wikipathways.org/inst...  \n",
       "1  Homo sapiens\\thttp://www.wikipathways.org/inst...  \n",
       "2  Homo sapiens\\thttp://www.wikipathways.org/inst...  \n",
       "3  Homo sapiens\\thttp://www.wikipathways.org/inst...  \n",
       "4  Homo sapiens\\thttp://www.wikipathways.org/inst...  "
      ]
     },
     "execution_count": 88,
     "metadata": {},
     "output_type": "execute_result"
    }
   ],
   "source": [
    "df.head()"
   ]
  },
  {
   "cell_type": "code",
   "execution_count": 89,
   "metadata": {},
   "outputs": [
    {
     "data": {
      "text/plain": [
       "(377, 4)"
      ]
     },
     "execution_count": 89,
     "metadata": {},
     "output_type": "execute_result"
    }
   ],
   "source": [
    "df.shape"
   ]
  },
  {
   "cell_type": "markdown",
   "metadata": {},
   "source": [
    "# Get Gene Pathway Info"
   ]
  },
  {
   "cell_type": "code",
   "execution_count": 90,
   "metadata": {},
   "outputs": [
    {
     "name": "stdout",
     "output_type": "stream",
     "text": [
      "Progress: 100%  377 Out of 377   \r"
     ]
    }
   ],
   "source": [
    "df_pathways = pd.DataFrame()\n",
    "\n",
    "for i,index in enumerate(df.index):\n",
    "    \n",
    "    progressPercent = ((i+1)/len(df.index))*100\n",
    "\n",
    "    sys.stdout.write(\"Progress: %d%%  %d Out of %d   \\r\" % (progressPercent, (i+1), len(df.index)))\n",
    "    sys.stdout.flush()\n",
    "    \n",
    "    lst1 = df.ix[index, 3].split('\\t')[3:]\n",
    "    lst2 = [df.ix[index, 0]]*len(lst1)\n",
    "    \n",
    "    temp = pd.DataFrame(columns=['Gene', 'Pathway'])\n",
    "    temp['Gene'] = lst1\n",
    "    temp['Pathway'] = lst2\n",
    "    \n",
    "    df_pathways = pd.concat([df_pathways, temp])"
   ]
  },
  {
   "cell_type": "code",
   "execution_count": 91,
   "metadata": {},
   "outputs": [
    {
     "data": {
      "text/html": [
       "<div>\n",
       "<table border=\"1\" class=\"dataframe\">\n",
       "  <thead>\n",
       "    <tr style=\"text-align: right;\">\n",
       "      <th></th>\n",
       "      <th>Gene</th>\n",
       "      <th>Pathway</th>\n",
       "    </tr>\n",
       "  </thead>\n",
       "  <tbody>\n",
       "    <tr>\n",
       "      <th>0</th>\n",
       "      <td>1571</td>\n",
       "      <td>Tryptophan metabolism</td>\n",
       "    </tr>\n",
       "    <tr>\n",
       "      <th>1</th>\n",
       "      <td>4129</td>\n",
       "      <td>Tryptophan metabolism</td>\n",
       "    </tr>\n",
       "    <tr>\n",
       "      <th>2</th>\n",
       "      <td>216</td>\n",
       "      <td>Tryptophan metabolism</td>\n",
       "    </tr>\n",
       "    <tr>\n",
       "      <th>3</th>\n",
       "      <td>316</td>\n",
       "      <td>Tryptophan metabolism</td>\n",
       "    </tr>\n",
       "    <tr>\n",
       "      <th>4</th>\n",
       "      <td>217</td>\n",
       "      <td>Tryptophan metabolism</td>\n",
       "    </tr>\n",
       "  </tbody>\n",
       "</table>\n",
       "</div>"
      ],
      "text/plain": [
       "   Gene                Pathway\n",
       "0  1571  Tryptophan metabolism\n",
       "1  4129  Tryptophan metabolism\n",
       "2   216  Tryptophan metabolism\n",
       "3   316  Tryptophan metabolism\n",
       "4   217  Tryptophan metabolism"
      ]
     },
     "execution_count": 91,
     "metadata": {},
     "output_type": "execute_result"
    }
   ],
   "source": [
    "df_pathways.head()"
   ]
  },
  {
   "cell_type": "code",
   "execution_count": 92,
   "metadata": {},
   "outputs": [],
   "source": [
    "df_pathways = df_pathways.reset_index().drop('index', axis=1)"
   ]
  },
  {
   "cell_type": "code",
   "execution_count": 93,
   "metadata": {},
   "outputs": [
    {
     "data": {
      "text/plain": [
       "(15595, 2)"
      ]
     },
     "execution_count": 93,
     "metadata": {},
     "output_type": "execute_result"
    }
   ],
   "source": [
    "df_pathways.shape"
   ]
  },
  {
   "cell_type": "markdown",
   "metadata": {},
   "source": [
    "# Load Gene Meta"
   ]
  },
  {
   "cell_type": "code",
   "execution_count": 94,
   "metadata": {
    "collapsed": true
   },
   "outputs": [],
   "source": [
    "gene_meta = pd.read_csv('gene_info', sep='\\t', index_col=1)"
   ]
  },
  {
   "cell_type": "code",
   "execution_count": 95,
   "metadata": {
    "collapsed": true
   },
   "outputs": [],
   "source": [
    "gene_meta = gene_meta[['Symbol']]"
   ]
  },
  {
   "cell_type": "code",
   "execution_count": 96,
   "metadata": {},
   "outputs": [
    {
     "data": {
      "text/html": [
       "<div>\n",
       "<table border=\"1\" class=\"dataframe\">\n",
       "  <thead>\n",
       "    <tr style=\"text-align: right;\">\n",
       "      <th></th>\n",
       "      <th>Symbol</th>\n",
       "    </tr>\n",
       "    <tr>\n",
       "      <th>GeneID</th>\n",
       "      <th></th>\n",
       "    </tr>\n",
       "  </thead>\n",
       "  <tbody>\n",
       "    <tr>\n",
       "      <th>5692769</th>\n",
       "      <td>NEWENTRY</td>\n",
       "    </tr>\n",
       "    <tr>\n",
       "      <th>1246500</th>\n",
       "      <td>repA1</td>\n",
       "    </tr>\n",
       "    <tr>\n",
       "      <th>1246501</th>\n",
       "      <td>repA2</td>\n",
       "    </tr>\n",
       "    <tr>\n",
       "      <th>1246502</th>\n",
       "      <td>leuA</td>\n",
       "    </tr>\n",
       "    <tr>\n",
       "      <th>1246503</th>\n",
       "      <td>leuB</td>\n",
       "    </tr>\n",
       "  </tbody>\n",
       "</table>\n",
       "</div>"
      ],
      "text/plain": [
       "           Symbol\n",
       "GeneID           \n",
       "5692769  NEWENTRY\n",
       "1246500     repA1\n",
       "1246501     repA2\n",
       "1246502      leuA\n",
       "1246503      leuB"
      ]
     },
     "execution_count": 96,
     "metadata": {},
     "output_type": "execute_result"
    }
   ],
   "source": [
    "gene_meta.head()"
   ]
  },
  {
   "cell_type": "markdown",
   "metadata": {},
   "source": [
    "# Map Gene Symbol To Gene ID "
   ]
  },
  {
   "cell_type": "code",
   "execution_count": 97,
   "metadata": {},
   "outputs": [
    {
     "name": "stdout",
     "output_type": "stream",
     "text": [
      "Progress: 100%  15595 Out of 15595   \r"
     ]
    }
   ],
   "source": [
    "lst = []\n",
    "\n",
    "for i,index in enumerate(df_pathways.index):\n",
    "    \n",
    "    progressPercent = ((i+1)/len(df_pathways.index))*100\n",
    "\n",
    "    sys.stdout.write(\"Progress: %d%%  %d Out of %d   \\r\" % (progressPercent, (i+1), len(df_pathways.index)))\n",
    "    sys.stdout.flush()\n",
    "    \n",
    "    lst.append(gene_meta.ix[int(df_pathways.ix[index, 'Gene']), 'Symbol'])\n",
    "\n",
    "    \n",
    "df_pathways['Gene'] = lst"
   ]
  },
  {
   "cell_type": "code",
   "execution_count": 98,
   "metadata": {},
   "outputs": [
    {
     "data": {
      "text/html": [
       "<div>\n",
       "<table border=\"1\" class=\"dataframe\">\n",
       "  <thead>\n",
       "    <tr style=\"text-align: right;\">\n",
       "      <th></th>\n",
       "      <th>Gene</th>\n",
       "      <th>Pathway</th>\n",
       "    </tr>\n",
       "  </thead>\n",
       "  <tbody>\n",
       "    <tr>\n",
       "      <th>0</th>\n",
       "      <td>CYP2E1</td>\n",
       "      <td>Tryptophan metabolism</td>\n",
       "    </tr>\n",
       "    <tr>\n",
       "      <th>1</th>\n",
       "      <td>MAOB</td>\n",
       "      <td>Tryptophan metabolism</td>\n",
       "    </tr>\n",
       "    <tr>\n",
       "      <th>2</th>\n",
       "      <td>ALDH1A1</td>\n",
       "      <td>Tryptophan metabolism</td>\n",
       "    </tr>\n",
       "    <tr>\n",
       "      <th>3</th>\n",
       "      <td>AOX1</td>\n",
       "      <td>Tryptophan metabolism</td>\n",
       "    </tr>\n",
       "    <tr>\n",
       "      <th>4</th>\n",
       "      <td>ALDH2</td>\n",
       "      <td>Tryptophan metabolism</td>\n",
       "    </tr>\n",
       "  </tbody>\n",
       "</table>\n",
       "</div>"
      ],
      "text/plain": [
       "      Gene                Pathway\n",
       "0   CYP2E1  Tryptophan metabolism\n",
       "1     MAOB  Tryptophan metabolism\n",
       "2  ALDH1A1  Tryptophan metabolism\n",
       "3     AOX1  Tryptophan metabolism\n",
       "4    ALDH2  Tryptophan metabolism"
      ]
     },
     "execution_count": 98,
     "metadata": {},
     "output_type": "execute_result"
    }
   ],
   "source": [
    "df_pathways.head()"
   ]
  },
  {
   "cell_type": "code",
   "execution_count": 99,
   "metadata": {},
   "outputs": [
    {
     "data": {
      "text/plain": [
       "(15595, 2)"
      ]
     },
     "execution_count": 99,
     "metadata": {},
     "output_type": "execute_result"
    }
   ],
   "source": [
    "df_pathways.shape"
   ]
  },
  {
   "cell_type": "markdown",
   "metadata": {},
   "source": [
    "# Map Gene Symbols To Up-to-date Approved Gene Symbols"
   ]
  },
  {
   "cell_type": "code",
   "execution_count": 100,
   "metadata": {
    "collapsed": true
   },
   "outputs": [],
   "source": [
    "df_pathways.set_index('Gene', inplace=True)"
   ]
  },
  {
   "cell_type": "code",
   "execution_count": 101,
   "metadata": {},
   "outputs": [
    {
     "name": "stdout",
     "output_type": "stream",
     "text": [
      "Progeres: 100%  15595 Out of 15595   \r"
     ]
    }
   ],
   "source": [
    "uf.mapgenesymbols(df_pathways)"
   ]
  },
  {
   "cell_type": "code",
   "execution_count": 102,
   "metadata": {},
   "outputs": [
    {
     "data": {
      "text/plain": [
       "(15540, 1)"
      ]
     },
     "execution_count": 102,
     "metadata": {},
     "output_type": "execute_result"
    }
   ],
   "source": [
    "df_pathways.shape"
   ]
  },
  {
   "cell_type": "markdown",
   "metadata": {},
   "source": [
    "# Drop Duplicates"
   ]
  },
  {
   "cell_type": "code",
   "execution_count": 106,
   "metadata": {
    "collapsed": true
   },
   "outputs": [],
   "source": [
    "df_pathways.reset_index(inplace=True)"
   ]
  },
  {
   "cell_type": "code",
   "execution_count": 107,
   "metadata": {
    "collapsed": true
   },
   "outputs": [],
   "source": [
    "df_pathways.drop_duplicates(subset=['Gene', 'Pathway'], inplace=True)"
   ]
  },
  {
   "cell_type": "code",
   "execution_count": 108,
   "metadata": {},
   "outputs": [
    {
     "data": {
      "text/plain": [
       "(15503, 2)"
      ]
     },
     "execution_count": 108,
     "metadata": {},
     "output_type": "execute_result"
    }
   ],
   "source": [
    "df_pathways.shape"
   ]
  },
  {
   "cell_type": "code",
   "execution_count": 109,
   "metadata": {},
   "outputs": [
    {
     "data": {
      "text/html": [
       "<div>\n",
       "<table border=\"1\" class=\"dataframe\">\n",
       "  <thead>\n",
       "    <tr style=\"text-align: right;\">\n",
       "      <th></th>\n",
       "      <th>Gene</th>\n",
       "      <th>Pathway</th>\n",
       "    </tr>\n",
       "  </thead>\n",
       "  <tbody>\n",
       "    <tr>\n",
       "      <th>0</th>\n",
       "      <td>CYP2E1</td>\n",
       "      <td>Tryptophan metabolism</td>\n",
       "    </tr>\n",
       "    <tr>\n",
       "      <th>1</th>\n",
       "      <td>MAOB</td>\n",
       "      <td>Tryptophan metabolism</td>\n",
       "    </tr>\n",
       "    <tr>\n",
       "      <th>2</th>\n",
       "      <td>ALDH1A1</td>\n",
       "      <td>Tryptophan metabolism</td>\n",
       "    </tr>\n",
       "    <tr>\n",
       "      <th>3</th>\n",
       "      <td>AOX1</td>\n",
       "      <td>Tryptophan metabolism</td>\n",
       "    </tr>\n",
       "    <tr>\n",
       "      <th>4</th>\n",
       "      <td>ALDH2</td>\n",
       "      <td>Tryptophan metabolism</td>\n",
       "    </tr>\n",
       "  </tbody>\n",
       "</table>\n",
       "</div>"
      ],
      "text/plain": [
       "      Gene                Pathway\n",
       "0   CYP2E1  Tryptophan metabolism\n",
       "1     MAOB  Tryptophan metabolism\n",
       "2  ALDH1A1  Tryptophan metabolism\n",
       "3     AOX1  Tryptophan metabolism\n",
       "4    ALDH2  Tryptophan metabolism"
      ]
     },
     "execution_count": 109,
     "metadata": {},
     "output_type": "execute_result"
    }
   ],
   "source": [
    "df_pathways.head()"
   ]
  },
  {
   "cell_type": "markdown",
   "metadata": {},
   "source": [
    "# Create Binary Matrix"
   ]
  },
  {
   "cell_type": "code",
   "execution_count": 110,
   "metadata": {},
   "outputs": [
    {
     "name": "stdout",
     "output_type": "stream",
     "text": [
      "Progeres: 100%  5388 Out of 5388   \r"
     ]
    }
   ],
   "source": [
    "binary_matrix = uf.createBinaryMatix(df_pathways)"
   ]
  },
  {
   "cell_type": "code",
   "execution_count": 111,
   "metadata": {},
   "outputs": [
    {
     "data": {
      "text/html": [
       "<div>\n",
       "<table border=\"1\" class=\"dataframe\">\n",
       "  <thead>\n",
       "    <tr style=\"text-align: right;\">\n",
       "      <th></th>\n",
       "      <th>Lidocaine metabolism</th>\n",
       "      <th>Hfe effect on hepcidin production</th>\n",
       "      <th>Serotonin Receptor 2 and STAT3 Signaling</th>\n",
       "      <th>Selenium Micronutrient Network</th>\n",
       "      <th>LncRNA-mediated mechanisms of therapeutic resistance</th>\n",
       "      <th>Brain-Derived Neurotrophic Factor (BDNF) signaling pathway</th>\n",
       "      <th>TarBasePathway</th>\n",
       "      <th>Cytoplasmic Ribosomal Proteins</th>\n",
       "      <th>Estrogen metabolism</th>\n",
       "      <th>IL1 and megakaryocytes in obesity</th>\n",
       "      <th>...</th>\n",
       "      <th>Retinoblastoma (RB) in Cancer</th>\n",
       "      <th>Tamoxifen metabolism</th>\n",
       "      <th>Ectoderm Differentiation</th>\n",
       "      <th>Type II interferon signaling (IFNG)</th>\n",
       "      <th>Neural Crest Differentiation</th>\n",
       "      <th>Complement and Coagulation Cascades</th>\n",
       "      <th>TCA Cycle and Deficiency of Pyruvate Dehydrogenase complex (PDHc)</th>\n",
       "      <th>Peptide GPCRs</th>\n",
       "      <th>Felbamate Metabolism</th>\n",
       "      <th>Focal Adhesion</th>\n",
       "    </tr>\n",
       "  </thead>\n",
       "  <tbody>\n",
       "    <tr>\n",
       "      <th>FPR2</th>\n",
       "      <td>0</td>\n",
       "      <td>0</td>\n",
       "      <td>0</td>\n",
       "      <td>0</td>\n",
       "      <td>0</td>\n",
       "      <td>0</td>\n",
       "      <td>0</td>\n",
       "      <td>0</td>\n",
       "      <td>0</td>\n",
       "      <td>0</td>\n",
       "      <td>...</td>\n",
       "      <td>0</td>\n",
       "      <td>0</td>\n",
       "      <td>0</td>\n",
       "      <td>0</td>\n",
       "      <td>0</td>\n",
       "      <td>0</td>\n",
       "      <td>0</td>\n",
       "      <td>1</td>\n",
       "      <td>0</td>\n",
       "      <td>0</td>\n",
       "    </tr>\n",
       "    <tr>\n",
       "      <th>MIR129-1</th>\n",
       "      <td>0</td>\n",
       "      <td>0</td>\n",
       "      <td>0</td>\n",
       "      <td>0</td>\n",
       "      <td>0</td>\n",
       "      <td>0</td>\n",
       "      <td>0</td>\n",
       "      <td>0</td>\n",
       "      <td>0</td>\n",
       "      <td>0</td>\n",
       "      <td>...</td>\n",
       "      <td>0</td>\n",
       "      <td>0</td>\n",
       "      <td>0</td>\n",
       "      <td>0</td>\n",
       "      <td>0</td>\n",
       "      <td>0</td>\n",
       "      <td>0</td>\n",
       "      <td>0</td>\n",
       "      <td>0</td>\n",
       "      <td>0</td>\n",
       "    </tr>\n",
       "    <tr>\n",
       "      <th>TMOD1</th>\n",
       "      <td>0</td>\n",
       "      <td>0</td>\n",
       "      <td>0</td>\n",
       "      <td>0</td>\n",
       "      <td>0</td>\n",
       "      <td>0</td>\n",
       "      <td>0</td>\n",
       "      <td>0</td>\n",
       "      <td>0</td>\n",
       "      <td>0</td>\n",
       "      <td>...</td>\n",
       "      <td>0</td>\n",
       "      <td>0</td>\n",
       "      <td>0</td>\n",
       "      <td>0</td>\n",
       "      <td>0</td>\n",
       "      <td>0</td>\n",
       "      <td>0</td>\n",
       "      <td>0</td>\n",
       "      <td>0</td>\n",
       "      <td>0</td>\n",
       "    </tr>\n",
       "    <tr>\n",
       "      <th>ULK1</th>\n",
       "      <td>0</td>\n",
       "      <td>0</td>\n",
       "      <td>0</td>\n",
       "      <td>0</td>\n",
       "      <td>0</td>\n",
       "      <td>0</td>\n",
       "      <td>0</td>\n",
       "      <td>0</td>\n",
       "      <td>0</td>\n",
       "      <td>0</td>\n",
       "      <td>...</td>\n",
       "      <td>0</td>\n",
       "      <td>0</td>\n",
       "      <td>0</td>\n",
       "      <td>0</td>\n",
       "      <td>0</td>\n",
       "      <td>0</td>\n",
       "      <td>0</td>\n",
       "      <td>0</td>\n",
       "      <td>0</td>\n",
       "      <td>0</td>\n",
       "    </tr>\n",
       "    <tr>\n",
       "      <th>TNFSF9</th>\n",
       "      <td>0</td>\n",
       "      <td>0</td>\n",
       "      <td>0</td>\n",
       "      <td>0</td>\n",
       "      <td>0</td>\n",
       "      <td>0</td>\n",
       "      <td>0</td>\n",
       "      <td>0</td>\n",
       "      <td>0</td>\n",
       "      <td>0</td>\n",
       "      <td>...</td>\n",
       "      <td>0</td>\n",
       "      <td>0</td>\n",
       "      <td>0</td>\n",
       "      <td>0</td>\n",
       "      <td>0</td>\n",
       "      <td>0</td>\n",
       "      <td>0</td>\n",
       "      <td>0</td>\n",
       "      <td>0</td>\n",
       "      <td>0</td>\n",
       "    </tr>\n",
       "  </tbody>\n",
       "</table>\n",
       "<p>5 rows × 372 columns</p>\n",
       "</div>"
      ],
      "text/plain": [
       "          Lidocaine metabolism   Hfe effect on hepcidin production  \\\n",
       "FPR2                         0                                   0   \n",
       "MIR129-1                     0                                   0   \n",
       "TMOD1                        0                                   0   \n",
       "ULK1                         0                                   0   \n",
       "TNFSF9                       0                                   0   \n",
       "\n",
       "          Serotonin Receptor 2 and STAT3 Signaling  \\\n",
       "FPR2                                             0   \n",
       "MIR129-1                                         0   \n",
       "TMOD1                                            0   \n",
       "ULK1                                             0   \n",
       "TNFSF9                                           0   \n",
       "\n",
       "          Selenium Micronutrient Network  \\\n",
       "FPR2                                   0   \n",
       "MIR129-1                               0   \n",
       "TMOD1                                  0   \n",
       "ULK1                                   0   \n",
       "TNFSF9                                 0   \n",
       "\n",
       "          LncRNA-mediated mechanisms of therapeutic resistance  \\\n",
       "FPR2                                                      0      \n",
       "MIR129-1                                                  0      \n",
       "TMOD1                                                     0      \n",
       "ULK1                                                      0      \n",
       "TNFSF9                                                    0      \n",
       "\n",
       "          Brain-Derived Neurotrophic Factor (BDNF) signaling pathway  \\\n",
       "FPR2                                                      0            \n",
       "MIR129-1                                                  0            \n",
       "TMOD1                                                     0            \n",
       "ULK1                                                      0            \n",
       "TNFSF9                                                    0            \n",
       "\n",
       "          TarBasePathway  Cytoplasmic Ribosomal Proteins  Estrogen metabolism  \\\n",
       "FPR2                   0                               0                    0   \n",
       "MIR129-1               0                               0                    0   \n",
       "TMOD1                  0                               0                    0   \n",
       "ULK1                   0                               0                    0   \n",
       "TNFSF9                 0                               0                    0   \n",
       "\n",
       "          IL1 and megakaryocytes in obesity       ...        \\\n",
       "FPR2                                      0       ...         \n",
       "MIR129-1                                  0       ...         \n",
       "TMOD1                                     0       ...         \n",
       "ULK1                                      0       ...         \n",
       "TNFSF9                                    0       ...         \n",
       "\n",
       "          Retinoblastoma (RB) in Cancer  Tamoxifen metabolism  \\\n",
       "FPR2                                  0                     0   \n",
       "MIR129-1                              0                     0   \n",
       "TMOD1                                 0                     0   \n",
       "ULK1                                  0                     0   \n",
       "TNFSF9                                0                     0   \n",
       "\n",
       "          Ectoderm Differentiation  Type II interferon signaling (IFNG)  \\\n",
       "FPR2                             0                                    0   \n",
       "MIR129-1                         0                                    0   \n",
       "TMOD1                            0                                    0   \n",
       "ULK1                             0                                    0   \n",
       "TNFSF9                           0                                    0   \n",
       "\n",
       "          Neural Crest Differentiation  Complement and Coagulation Cascades  \\\n",
       "FPR2                                 0                                    0   \n",
       "MIR129-1                             0                                    0   \n",
       "TMOD1                                0                                    0   \n",
       "ULK1                                 0                                    0   \n",
       "TNFSF9                               0                                    0   \n",
       "\n",
       "          TCA Cycle and Deficiency of Pyruvate Dehydrogenase complex (PDHc)  \\\n",
       "FPR2                                                      0                   \n",
       "MIR129-1                                                  0                   \n",
       "TMOD1                                                     0                   \n",
       "ULK1                                                      0                   \n",
       "TNFSF9                                                    0                   \n",
       "\n",
       "          Peptide GPCRs  Felbamate Metabolism  Focal Adhesion  \n",
       "FPR2                  1                     0               0  \n",
       "MIR129-1              0                     0               0  \n",
       "TMOD1                 0                     0               0  \n",
       "ULK1                  0                     0               0  \n",
       "TNFSF9                0                     0               0  \n",
       "\n",
       "[5 rows x 372 columns]"
      ]
     },
     "execution_count": 111,
     "metadata": {},
     "output_type": "execute_result"
    }
   ],
   "source": [
    "binary_matrix.head()"
   ]
  },
  {
   "cell_type": "code",
   "execution_count": 112,
   "metadata": {},
   "outputs": [
    {
     "data": {
      "text/plain": [
       "(5388, 372)"
      ]
     },
     "execution_count": 112,
     "metadata": {},
     "output_type": "execute_result"
    }
   ],
   "source": [
    "binary_matrix.shape"
   ]
  },
  {
   "cell_type": "markdown",
   "metadata": {},
   "source": [
    "# Save Binary Matrix"
   ]
  },
  {
   "cell_type": "code",
   "execution_count": 113,
   "metadata": {
    "collapsed": true
   },
   "outputs": [],
   "source": [
    "filename = '~/./Documents/Harmonizome/wikipathways/Output/wikipathways_binary_matrix_%s.tsv.zip'% str(datetime.date.today())[0:7].replace('-', '_')\n",
    "binary_matrix.to_csv(filename, sep='\\t', compression='gzip')"
   ]
  },
  {
   "cell_type": "markdown",
   "metadata": {},
   "source": [
    "# Create Gene Set Library"
   ]
  },
  {
   "cell_type": "code",
   "execution_count": 117,
   "metadata": {
    "collapsed": true
   },
   "outputs": [],
   "source": [
    "path = '/Users/moshesilverstein/Documents/Harmonizome/wikipathways/Output/'"
   ]
  },
  {
   "cell_type": "code",
   "execution_count": 118,
   "metadata": {
    "collapsed": true
   },
   "outputs": [],
   "source": [
    "name = 'wikipathways_gene_set'"
   ]
  },
  {
   "cell_type": "code",
   "execution_count": 119,
   "metadata": {},
   "outputs": [
    {
     "name": "stdout",
     "output_type": "stream",
     "text": [
      "Progeres: 100%  372 Out of 372   \r"
     ]
    }
   ],
   "source": [
    "uf.createUpGeneSetLib(binary_matrix, path, name)"
   ]
  },
  {
   "cell_type": "markdown",
   "metadata": {},
   "source": [
    "# Create Attribute Library"
   ]
  },
  {
   "cell_type": "code",
   "execution_count": 120,
   "metadata": {
    "collapsed": true
   },
   "outputs": [],
   "source": [
    "path = '/Users/moshesilverstein/Documents/Harmonizome/wikipathways/Output/'"
   ]
  },
  {
   "cell_type": "code",
   "execution_count": 121,
   "metadata": {
    "collapsed": true
   },
   "outputs": [],
   "source": [
    "name = 'wikipathways_attribute_set'"
   ]
  },
  {
   "cell_type": "code",
   "execution_count": 122,
   "metadata": {},
   "outputs": [
    {
     "name": "stdout",
     "output_type": "stream",
     "text": [
      "Progeres: 100%  5388 Out of 5388   \r"
     ]
    }
   ],
   "source": [
    "uf.createUpAttributeSetLib(binary_matrix, path, name)"
   ]
  },
  {
   "cell_type": "markdown",
   "metadata": {},
   "source": [
    "# Create Gene Similarity Matrix"
   ]
  },
  {
   "cell_type": "code",
   "execution_count": 123,
   "metadata": {
    "collapsed": true
   },
   "outputs": [],
   "source": [
    "gene_similarity_matix = uf.createSimilarityMatrix(binary_matrix, 'jaccard')"
   ]
  },
  {
   "cell_type": "code",
   "execution_count": 124,
   "metadata": {},
   "outputs": [
    {
     "data": {
      "text/html": [
       "<div>\n",
       "<table border=\"1\" class=\"dataframe\">\n",
       "  <thead>\n",
       "    <tr style=\"text-align: right;\">\n",
       "      <th></th>\n",
       "      <th>FPR2</th>\n",
       "      <th>MIR129-1</th>\n",
       "      <th>TMOD1</th>\n",
       "      <th>ULK1</th>\n",
       "      <th>TNFSF9</th>\n",
       "      <th>FRS3</th>\n",
       "      <th>NPC1L1</th>\n",
       "      <th>E2F4</th>\n",
       "      <th>CEBPA</th>\n",
       "      <th>CTR9</th>\n",
       "      <th>...</th>\n",
       "      <th>RNF20</th>\n",
       "      <th>VWF</th>\n",
       "      <th>PTGES</th>\n",
       "      <th>MIR132</th>\n",
       "      <th>RAMP2</th>\n",
       "      <th>MIR1307</th>\n",
       "      <th>CPLX2</th>\n",
       "      <th>RAI1</th>\n",
       "      <th>SLC2A4RG</th>\n",
       "      <th>SERPING1</th>\n",
       "    </tr>\n",
       "  </thead>\n",
       "  <tbody>\n",
       "    <tr>\n",
       "      <th>FPR2</th>\n",
       "      <td>1.0</td>\n",
       "      <td>0.0</td>\n",
       "      <td>0.0</td>\n",
       "      <td>0.0</td>\n",
       "      <td>0.0</td>\n",
       "      <td>0.0</td>\n",
       "      <td>0.0</td>\n",
       "      <td>0.0</td>\n",
       "      <td>0.0</td>\n",
       "      <td>0.0</td>\n",
       "      <td>...</td>\n",
       "      <td>0.0</td>\n",
       "      <td>0.000</td>\n",
       "      <td>0.0</td>\n",
       "      <td>0.0</td>\n",
       "      <td>0.0</td>\n",
       "      <td>0.0</td>\n",
       "      <td>0.0</td>\n",
       "      <td>0.0</td>\n",
       "      <td>0.0</td>\n",
       "      <td>0.0</td>\n",
       "    </tr>\n",
       "    <tr>\n",
       "      <th>MIR129-1</th>\n",
       "      <td>0.0</td>\n",
       "      <td>1.0</td>\n",
       "      <td>0.0</td>\n",
       "      <td>0.0</td>\n",
       "      <td>0.0</td>\n",
       "      <td>0.0</td>\n",
       "      <td>0.0</td>\n",
       "      <td>0.0</td>\n",
       "      <td>0.0</td>\n",
       "      <td>0.0</td>\n",
       "      <td>...</td>\n",
       "      <td>0.0</td>\n",
       "      <td>0.000</td>\n",
       "      <td>0.0</td>\n",
       "      <td>0.5</td>\n",
       "      <td>0.0</td>\n",
       "      <td>1.0</td>\n",
       "      <td>0.0</td>\n",
       "      <td>0.0</td>\n",
       "      <td>0.0</td>\n",
       "      <td>0.0</td>\n",
       "    </tr>\n",
       "    <tr>\n",
       "      <th>TMOD1</th>\n",
       "      <td>0.0</td>\n",
       "      <td>0.0</td>\n",
       "      <td>1.0</td>\n",
       "      <td>0.0</td>\n",
       "      <td>0.0</td>\n",
       "      <td>0.0</td>\n",
       "      <td>0.0</td>\n",
       "      <td>0.0</td>\n",
       "      <td>0.0</td>\n",
       "      <td>0.0</td>\n",
       "      <td>...</td>\n",
       "      <td>0.0</td>\n",
       "      <td>0.000</td>\n",
       "      <td>0.0</td>\n",
       "      <td>0.0</td>\n",
       "      <td>0.0</td>\n",
       "      <td>0.0</td>\n",
       "      <td>0.0</td>\n",
       "      <td>0.0</td>\n",
       "      <td>0.0</td>\n",
       "      <td>0.0</td>\n",
       "    </tr>\n",
       "    <tr>\n",
       "      <th>ULK1</th>\n",
       "      <td>0.0</td>\n",
       "      <td>0.0</td>\n",
       "      <td>0.0</td>\n",
       "      <td>1.0</td>\n",
       "      <td>0.0</td>\n",
       "      <td>0.0</td>\n",
       "      <td>0.0</td>\n",
       "      <td>0.0</td>\n",
       "      <td>0.0</td>\n",
       "      <td>0.0</td>\n",
       "      <td>...</td>\n",
       "      <td>0.0</td>\n",
       "      <td>0.125</td>\n",
       "      <td>0.0</td>\n",
       "      <td>0.0</td>\n",
       "      <td>0.0</td>\n",
       "      <td>0.0</td>\n",
       "      <td>0.0</td>\n",
       "      <td>0.0</td>\n",
       "      <td>0.0</td>\n",
       "      <td>0.0</td>\n",
       "    </tr>\n",
       "    <tr>\n",
       "      <th>TNFSF9</th>\n",
       "      <td>0.0</td>\n",
       "      <td>0.0</td>\n",
       "      <td>0.0</td>\n",
       "      <td>0.0</td>\n",
       "      <td>1.0</td>\n",
       "      <td>0.0</td>\n",
       "      <td>0.0</td>\n",
       "      <td>0.0</td>\n",
       "      <td>0.0</td>\n",
       "      <td>0.0</td>\n",
       "      <td>...</td>\n",
       "      <td>0.0</td>\n",
       "      <td>0.000</td>\n",
       "      <td>0.0</td>\n",
       "      <td>0.0</td>\n",
       "      <td>0.0</td>\n",
       "      <td>0.0</td>\n",
       "      <td>0.0</td>\n",
       "      <td>0.0</td>\n",
       "      <td>0.0</td>\n",
       "      <td>0.0</td>\n",
       "    </tr>\n",
       "  </tbody>\n",
       "</table>\n",
       "<p>5 rows × 5388 columns</p>\n",
       "</div>"
      ],
      "text/plain": [
       "          FPR2  MIR129-1  TMOD1  ULK1  TNFSF9  FRS3  NPC1L1  E2F4  CEBPA  \\\n",
       "FPR2       1.0       0.0    0.0   0.0     0.0   0.0     0.0   0.0    0.0   \n",
       "MIR129-1   0.0       1.0    0.0   0.0     0.0   0.0     0.0   0.0    0.0   \n",
       "TMOD1      0.0       0.0    1.0   0.0     0.0   0.0     0.0   0.0    0.0   \n",
       "ULK1       0.0       0.0    0.0   1.0     0.0   0.0     0.0   0.0    0.0   \n",
       "TNFSF9     0.0       0.0    0.0   0.0     1.0   0.0     0.0   0.0    0.0   \n",
       "\n",
       "          CTR9    ...     RNF20    VWF  PTGES  MIR132  RAMP2  MIR1307  CPLX2  \\\n",
       "FPR2       0.0    ...       0.0  0.000    0.0     0.0    0.0      0.0    0.0   \n",
       "MIR129-1   0.0    ...       0.0  0.000    0.0     0.5    0.0      1.0    0.0   \n",
       "TMOD1      0.0    ...       0.0  0.000    0.0     0.0    0.0      0.0    0.0   \n",
       "ULK1       0.0    ...       0.0  0.125    0.0     0.0    0.0      0.0    0.0   \n",
       "TNFSF9     0.0    ...       0.0  0.000    0.0     0.0    0.0      0.0    0.0   \n",
       "\n",
       "          RAI1  SLC2A4RG  SERPING1  \n",
       "FPR2       0.0       0.0       0.0  \n",
       "MIR129-1   0.0       0.0       0.0  \n",
       "TMOD1      0.0       0.0       0.0  \n",
       "ULK1       0.0       0.0       0.0  \n",
       "TNFSF9     0.0       0.0       0.0  \n",
       "\n",
       "[5 rows x 5388 columns]"
      ]
     },
     "execution_count": 124,
     "metadata": {},
     "output_type": "execute_result"
    }
   ],
   "source": [
    "gene_similarity_matix.head()"
   ]
  },
  {
   "cell_type": "markdown",
   "metadata": {},
   "source": [
    "## Save Gene Similarity Matrix "
   ]
  },
  {
   "cell_type": "code",
   "execution_count": 125,
   "metadata": {
    "collapsed": true
   },
   "outputs": [],
   "source": [
    "filename = '~/./Documents/Harmonizome/wikipathways/Output/wikipathways_gene_similarity_matix_%s.tsv.zip'% str(datetime.date.today())[0:7].replace('-', '_')\n",
    "gene_similarity_matix.to_csv(filename, sep='\\t', compression='gzip')"
   ]
  },
  {
   "cell_type": "markdown",
   "metadata": {},
   "source": [
    "# Create Attribute Similarity matrix"
   ]
  },
  {
   "cell_type": "code",
   "execution_count": 126,
   "metadata": {
    "collapsed": true
   },
   "outputs": [],
   "source": [
    "attribute_similarity_matix = uf.createSimilarityMatrix(binary_matrix.T, 'jaccard')"
   ]
  },
  {
   "cell_type": "code",
   "execution_count": 127,
   "metadata": {},
   "outputs": [
    {
     "data": {
      "text/html": [
       "<div>\n",
       "<table border=\"1\" class=\"dataframe\">\n",
       "  <thead>\n",
       "    <tr style=\"text-align: right;\">\n",
       "      <th></th>\n",
       "      <th>Lidocaine metabolism</th>\n",
       "      <th>Hfe effect on hepcidin production</th>\n",
       "      <th>Serotonin Receptor 2 and STAT3 Signaling</th>\n",
       "      <th>Selenium Micronutrient Network</th>\n",
       "      <th>LncRNA-mediated mechanisms of therapeutic resistance</th>\n",
       "      <th>Brain-Derived Neurotrophic Factor (BDNF) signaling pathway</th>\n",
       "      <th>TarBasePathway</th>\n",
       "      <th>Cytoplasmic Ribosomal Proteins</th>\n",
       "      <th>Estrogen metabolism</th>\n",
       "      <th>IL1 and megakaryocytes in obesity</th>\n",
       "      <th>...</th>\n",
       "      <th>Retinoblastoma (RB) in Cancer</th>\n",
       "      <th>Tamoxifen metabolism</th>\n",
       "      <th>Ectoderm Differentiation</th>\n",
       "      <th>Type II interferon signaling (IFNG)</th>\n",
       "      <th>Neural Crest Differentiation</th>\n",
       "      <th>Complement and Coagulation Cascades</th>\n",
       "      <th>TCA Cycle and Deficiency of Pyruvate Dehydrogenase complex (PDHc)</th>\n",
       "      <th>Peptide GPCRs</th>\n",
       "      <th>Felbamate Metabolism</th>\n",
       "      <th>Focal Adhesion</th>\n",
       "    </tr>\n",
       "  </thead>\n",
       "  <tbody>\n",
       "    <tr>\n",
       "      <th>Lidocaine metabolism</th>\n",
       "      <td>1.0</td>\n",
       "      <td>0.0</td>\n",
       "      <td>0.0</td>\n",
       "      <td>0.0</td>\n",
       "      <td>0.0</td>\n",
       "      <td>0.000000</td>\n",
       "      <td>0.0</td>\n",
       "      <td>0.0</td>\n",
       "      <td>0.055556</td>\n",
       "      <td>0.000000</td>\n",
       "      <td>...</td>\n",
       "      <td>0.000000</td>\n",
       "      <td>0.05</td>\n",
       "      <td>0.000000</td>\n",
       "      <td>0.000000</td>\n",
       "      <td>0.000000</td>\n",
       "      <td>0.000000</td>\n",
       "      <td>0.0</td>\n",
       "      <td>0.0</td>\n",
       "      <td>1.0</td>\n",
       "      <td>0.000000</td>\n",
       "    </tr>\n",
       "    <tr>\n",
       "      <th>Hfe effect on hepcidin production</th>\n",
       "      <td>0.0</td>\n",
       "      <td>1.0</td>\n",
       "      <td>0.0</td>\n",
       "      <td>0.0</td>\n",
       "      <td>0.0</td>\n",
       "      <td>0.000000</td>\n",
       "      <td>0.0</td>\n",
       "      <td>0.0</td>\n",
       "      <td>0.000000</td>\n",
       "      <td>0.000000</td>\n",
       "      <td>...</td>\n",
       "      <td>0.000000</td>\n",
       "      <td>0.00</td>\n",
       "      <td>0.000000</td>\n",
       "      <td>0.000000</td>\n",
       "      <td>0.009434</td>\n",
       "      <td>0.000000</td>\n",
       "      <td>0.0</td>\n",
       "      <td>0.0</td>\n",
       "      <td>0.0</td>\n",
       "      <td>0.000000</td>\n",
       "    </tr>\n",
       "    <tr>\n",
       "      <th>Serotonin Receptor 2 and STAT3 Signaling</th>\n",
       "      <td>0.0</td>\n",
       "      <td>0.0</td>\n",
       "      <td>1.0</td>\n",
       "      <td>0.0</td>\n",
       "      <td>0.0</td>\n",
       "      <td>0.013889</td>\n",
       "      <td>0.0</td>\n",
       "      <td>0.0</td>\n",
       "      <td>0.000000</td>\n",
       "      <td>0.000000</td>\n",
       "      <td>...</td>\n",
       "      <td>0.000000</td>\n",
       "      <td>0.00</td>\n",
       "      <td>0.000000</td>\n",
       "      <td>0.026316</td>\n",
       "      <td>0.000000</td>\n",
       "      <td>0.000000</td>\n",
       "      <td>0.0</td>\n",
       "      <td>0.0</td>\n",
       "      <td>0.0</td>\n",
       "      <td>0.000000</td>\n",
       "    </tr>\n",
       "    <tr>\n",
       "      <th>Selenium Micronutrient Network</th>\n",
       "      <td>0.0</td>\n",
       "      <td>0.0</td>\n",
       "      <td>0.0</td>\n",
       "      <td>1.0</td>\n",
       "      <td>0.0</td>\n",
       "      <td>0.008811</td>\n",
       "      <td>0.0</td>\n",
       "      <td>0.0</td>\n",
       "      <td>0.000000</td>\n",
       "      <td>0.057692</td>\n",
       "      <td>...</td>\n",
       "      <td>0.000000</td>\n",
       "      <td>0.00</td>\n",
       "      <td>0.004405</td>\n",
       "      <td>0.025210</td>\n",
       "      <td>0.010811</td>\n",
       "      <td>0.028571</td>\n",
       "      <td>0.0</td>\n",
       "      <td>0.0</td>\n",
       "      <td>0.0</td>\n",
       "      <td>0.003584</td>\n",
       "    </tr>\n",
       "    <tr>\n",
       "      <th>LncRNA-mediated mechanisms of therapeutic resistance</th>\n",
       "      <td>0.0</td>\n",
       "      <td>0.0</td>\n",
       "      <td>0.0</td>\n",
       "      <td>0.0</td>\n",
       "      <td>1.0</td>\n",
       "      <td>0.000000</td>\n",
       "      <td>0.0</td>\n",
       "      <td>0.0</td>\n",
       "      <td>0.000000</td>\n",
       "      <td>0.000000</td>\n",
       "      <td>...</td>\n",
       "      <td>0.020833</td>\n",
       "      <td>0.00</td>\n",
       "      <td>0.000000</td>\n",
       "      <td>0.000000</td>\n",
       "      <td>0.000000</td>\n",
       "      <td>0.000000</td>\n",
       "      <td>0.0</td>\n",
       "      <td>0.0</td>\n",
       "      <td>0.0</td>\n",
       "      <td>0.000000</td>\n",
       "    </tr>\n",
       "  </tbody>\n",
       "</table>\n",
       "<p>5 rows × 372 columns</p>\n",
       "</div>"
      ],
      "text/plain": [
       "                                                    Lidocaine metabolism  \\\n",
       "Lidocaine metabolism                                                 1.0   \n",
       " Hfe effect on hepcidin production                                   0.0   \n",
       "Serotonin Receptor 2 and STAT3 Signaling                             0.0   \n",
       "Selenium Micronutrient Network                                       0.0   \n",
       "LncRNA-mediated mechanisms of therapeutic resis...                   0.0   \n",
       "\n",
       "                                                     Hfe effect on hepcidin production  \\\n",
       "Lidocaine metabolism                                                               0.0   \n",
       " Hfe effect on hepcidin production                                                 1.0   \n",
       "Serotonin Receptor 2 and STAT3 Signaling                                           0.0   \n",
       "Selenium Micronutrient Network                                                     0.0   \n",
       "LncRNA-mediated mechanisms of therapeutic resis...                                 0.0   \n",
       "\n",
       "                                                    Serotonin Receptor 2 and STAT3 Signaling  \\\n",
       "Lidocaine metabolism                                                                     0.0   \n",
       " Hfe effect on hepcidin production                                                       0.0   \n",
       "Serotonin Receptor 2 and STAT3 Signaling                                                 1.0   \n",
       "Selenium Micronutrient Network                                                           0.0   \n",
       "LncRNA-mediated mechanisms of therapeutic resis...                                       0.0   \n",
       "\n",
       "                                                    Selenium Micronutrient Network  \\\n",
       "Lidocaine metabolism                                                           0.0   \n",
       " Hfe effect on hepcidin production                                             0.0   \n",
       "Serotonin Receptor 2 and STAT3 Signaling                                       0.0   \n",
       "Selenium Micronutrient Network                                                 1.0   \n",
       "LncRNA-mediated mechanisms of therapeutic resis...                             0.0   \n",
       "\n",
       "                                                    LncRNA-mediated mechanisms of therapeutic resistance  \\\n",
       "Lidocaine metabolism                                                                              0.0      \n",
       " Hfe effect on hepcidin production                                                                0.0      \n",
       "Serotonin Receptor 2 and STAT3 Signaling                                                          0.0      \n",
       "Selenium Micronutrient Network                                                                    0.0      \n",
       "LncRNA-mediated mechanisms of therapeutic resis...                                                1.0      \n",
       "\n",
       "                                                    Brain-Derived Neurotrophic Factor (BDNF) signaling pathway  \\\n",
       "Lidocaine metabolism                                                                         0.000000            \n",
       " Hfe effect on hepcidin production                                                           0.000000            \n",
       "Serotonin Receptor 2 and STAT3 Signaling                                                     0.013889            \n",
       "Selenium Micronutrient Network                                                               0.008811            \n",
       "LncRNA-mediated mechanisms of therapeutic resis...                                           0.000000            \n",
       "\n",
       "                                                    TarBasePathway  \\\n",
       "Lidocaine metabolism                                           0.0   \n",
       " Hfe effect on hepcidin production                             0.0   \n",
       "Serotonin Receptor 2 and STAT3 Signaling                       0.0   \n",
       "Selenium Micronutrient Network                                 0.0   \n",
       "LncRNA-mediated mechanisms of therapeutic resis...             0.0   \n",
       "\n",
       "                                                    Cytoplasmic Ribosomal Proteins  \\\n",
       "Lidocaine metabolism                                                           0.0   \n",
       " Hfe effect on hepcidin production                                             0.0   \n",
       "Serotonin Receptor 2 and STAT3 Signaling                                       0.0   \n",
       "Selenium Micronutrient Network                                                 0.0   \n",
       "LncRNA-mediated mechanisms of therapeutic resis...                             0.0   \n",
       "\n",
       "                                                    Estrogen metabolism  \\\n",
       "Lidocaine metabolism                                           0.055556   \n",
       " Hfe effect on hepcidin production                             0.000000   \n",
       "Serotonin Receptor 2 and STAT3 Signaling                       0.000000   \n",
       "Selenium Micronutrient Network                                 0.000000   \n",
       "LncRNA-mediated mechanisms of therapeutic resis...             0.000000   \n",
       "\n",
       "                                                    IL1 and megakaryocytes in obesity  \\\n",
       "Lidocaine metabolism                                                         0.000000   \n",
       " Hfe effect on hepcidin production                                           0.000000   \n",
       "Serotonin Receptor 2 and STAT3 Signaling                                     0.000000   \n",
       "Selenium Micronutrient Network                                               0.057692   \n",
       "LncRNA-mediated mechanisms of therapeutic resis...                           0.000000   \n",
       "\n",
       "                                                         ...        \\\n",
       "Lidocaine metabolism                                     ...         \n",
       " Hfe effect on hepcidin production                       ...         \n",
       "Serotonin Receptor 2 and STAT3 Signaling                 ...         \n",
       "Selenium Micronutrient Network                           ...         \n",
       "LncRNA-mediated mechanisms of therapeutic resis...       ...         \n",
       "\n",
       "                                                    Retinoblastoma (RB) in Cancer  \\\n",
       "Lidocaine metabolism                                                     0.000000   \n",
       " Hfe effect on hepcidin production                                       0.000000   \n",
       "Serotonin Receptor 2 and STAT3 Signaling                                 0.000000   \n",
       "Selenium Micronutrient Network                                           0.000000   \n",
       "LncRNA-mediated mechanisms of therapeutic resis...                       0.020833   \n",
       "\n",
       "                                                    Tamoxifen metabolism  \\\n",
       "Lidocaine metabolism                                                0.05   \n",
       " Hfe effect on hepcidin production                                  0.00   \n",
       "Serotonin Receptor 2 and STAT3 Signaling                            0.00   \n",
       "Selenium Micronutrient Network                                      0.00   \n",
       "LncRNA-mediated mechanisms of therapeutic resis...                  0.00   \n",
       "\n",
       "                                                    Ectoderm Differentiation  \\\n",
       "Lidocaine metabolism                                                0.000000   \n",
       " Hfe effect on hepcidin production                                  0.000000   \n",
       "Serotonin Receptor 2 and STAT3 Signaling                            0.000000   \n",
       "Selenium Micronutrient Network                                      0.004405   \n",
       "LncRNA-mediated mechanisms of therapeutic resis...                  0.000000   \n",
       "\n",
       "                                                    Type II interferon signaling (IFNG)  \\\n",
       "Lidocaine metabolism                                                           0.000000   \n",
       " Hfe effect on hepcidin production                                             0.000000   \n",
       "Serotonin Receptor 2 and STAT3 Signaling                                       0.026316   \n",
       "Selenium Micronutrient Network                                                 0.025210   \n",
       "LncRNA-mediated mechanisms of therapeutic resis...                             0.000000   \n",
       "\n",
       "                                                    Neural Crest Differentiation  \\\n",
       "Lidocaine metabolism                                                    0.000000   \n",
       " Hfe effect on hepcidin production                                      0.009434   \n",
       "Serotonin Receptor 2 and STAT3 Signaling                                0.000000   \n",
       "Selenium Micronutrient Network                                          0.010811   \n",
       "LncRNA-mediated mechanisms of therapeutic resis...                      0.000000   \n",
       "\n",
       "                                                    Complement and Coagulation Cascades  \\\n",
       "Lidocaine metabolism                                                           0.000000   \n",
       " Hfe effect on hepcidin production                                             0.000000   \n",
       "Serotonin Receptor 2 and STAT3 Signaling                                       0.000000   \n",
       "Selenium Micronutrient Network                                                 0.028571   \n",
       "LncRNA-mediated mechanisms of therapeutic resis...                             0.000000   \n",
       "\n",
       "                                                    TCA Cycle and Deficiency of Pyruvate Dehydrogenase complex (PDHc)  \\\n",
       "Lidocaine metabolism                                                                              0.0                   \n",
       " Hfe effect on hepcidin production                                                                0.0                   \n",
       "Serotonin Receptor 2 and STAT3 Signaling                                                          0.0                   \n",
       "Selenium Micronutrient Network                                                                    0.0                   \n",
       "LncRNA-mediated mechanisms of therapeutic resis...                                                0.0                   \n",
       "\n",
       "                                                    Peptide GPCRs  \\\n",
       "Lidocaine metabolism                                          0.0   \n",
       " Hfe effect on hepcidin production                            0.0   \n",
       "Serotonin Receptor 2 and STAT3 Signaling                      0.0   \n",
       "Selenium Micronutrient Network                                0.0   \n",
       "LncRNA-mediated mechanisms of therapeutic resis...            0.0   \n",
       "\n",
       "                                                    Felbamate Metabolism  \\\n",
       "Lidocaine metabolism                                                 1.0   \n",
       " Hfe effect on hepcidin production                                   0.0   \n",
       "Serotonin Receptor 2 and STAT3 Signaling                             0.0   \n",
       "Selenium Micronutrient Network                                       0.0   \n",
       "LncRNA-mediated mechanisms of therapeutic resis...                   0.0   \n",
       "\n",
       "                                                    Focal Adhesion  \n",
       "Lidocaine metabolism                                      0.000000  \n",
       " Hfe effect on hepcidin production                        0.000000  \n",
       "Serotonin Receptor 2 and STAT3 Signaling                  0.000000  \n",
       "Selenium Micronutrient Network                            0.003584  \n",
       "LncRNA-mediated mechanisms of therapeutic resis...        0.000000  \n",
       "\n",
       "[5 rows x 372 columns]"
      ]
     },
     "execution_count": 127,
     "metadata": {},
     "output_type": "execute_result"
    }
   ],
   "source": [
    "attribute_similarity_matix.head()"
   ]
  },
  {
   "cell_type": "markdown",
   "metadata": {},
   "source": [
    "## Save Attribute Similarity Matrix"
   ]
  },
  {
   "cell_type": "code",
   "execution_count": 128,
   "metadata": {
    "collapsed": true
   },
   "outputs": [],
   "source": [
    "filename = '~/./Documents/Harmonizome/wikipathways/Output/wikipathways_attribute_similarity_matix_%s.tsv.zip'% str(datetime.date.today())[0:7].replace('-', '_')\n",
    "attribute_similarity_matix.to_csv(filename, sep='\\t', compression='gzip')"
   ]
  },
  {
   "cell_type": "markdown",
   "metadata": {},
   "source": [
    "# Create Gene List"
   ]
  },
  {
   "cell_type": "code",
   "execution_count": 129,
   "metadata": {},
   "outputs": [
    {
     "name": "stdout",
     "output_type": "stream",
     "text": [
      "Progeres: 100%  5388 Out of 5388   \r"
     ]
    }
   ],
   "source": [
    "gene_list = uf.createGeneList(binary_matrix)"
   ]
  },
  {
   "cell_type": "code",
   "execution_count": 130,
   "metadata": {},
   "outputs": [
    {
     "data": {
      "text/html": [
       "<div>\n",
       "<table border=\"1\" class=\"dataframe\">\n",
       "  <thead>\n",
       "    <tr style=\"text-align: right;\">\n",
       "      <th></th>\n",
       "      <th>GeneSym</th>\n",
       "      <th>GeneID</th>\n",
       "    </tr>\n",
       "  </thead>\n",
       "  <tbody>\n",
       "    <tr>\n",
       "      <th>0</th>\n",
       "      <td>FPR2</td>\n",
       "      <td>2358</td>\n",
       "    </tr>\n",
       "    <tr>\n",
       "      <th>1</th>\n",
       "      <td>MIR129-1</td>\n",
       "      <td>406917</td>\n",
       "    </tr>\n",
       "    <tr>\n",
       "      <th>2</th>\n",
       "      <td>TMOD1</td>\n",
       "      <td>7111</td>\n",
       "    </tr>\n",
       "    <tr>\n",
       "      <th>3</th>\n",
       "      <td>ULK1</td>\n",
       "      <td>8408</td>\n",
       "    </tr>\n",
       "    <tr>\n",
       "      <th>4</th>\n",
       "      <td>TNFSF9</td>\n",
       "      <td>8744</td>\n",
       "    </tr>\n",
       "  </tbody>\n",
       "</table>\n",
       "</div>"
      ],
      "text/plain": [
       "    GeneSym  GeneID\n",
       "0      FPR2    2358\n",
       "1  MIR129-1  406917\n",
       "2     TMOD1    7111\n",
       "3      ULK1    8408\n",
       "4    TNFSF9    8744"
      ]
     },
     "execution_count": 130,
     "metadata": {},
     "output_type": "execute_result"
    }
   ],
   "source": [
    "gene_list.head()"
   ]
  },
  {
   "cell_type": "code",
   "execution_count": 131,
   "metadata": {},
   "outputs": [
    {
     "data": {
      "text/plain": [
       "(5388, 2)"
      ]
     },
     "execution_count": 131,
     "metadata": {},
     "output_type": "execute_result"
    }
   ],
   "source": [
    "gene_list.shape"
   ]
  },
  {
   "cell_type": "markdown",
   "metadata": {},
   "source": [
    "## Save Gene List"
   ]
  },
  {
   "cell_type": "code",
   "execution_count": 132,
   "metadata": {
    "collapsed": true
   },
   "outputs": [],
   "source": [
    "filename = '~/./Documents/Harmonizome/wikipathways/Output/wikipathways_gene_list_%s.tsv.zip'% str(datetime.date.today())[0:7].replace('-', '_')\n",
    "gene_list.to_csv(filename, sep='\\t', index=False, compression='gzip')"
   ]
  },
  {
   "cell_type": "markdown",
   "metadata": {},
   "source": [
    "# Create Attribute List "
   ]
  },
  {
   "cell_type": "code",
   "execution_count": 133,
   "metadata": {
    "collapsed": true
   },
   "outputs": [],
   "source": [
    "attribute_list = uf.createAttributeList(binary_matrix)"
   ]
  },
  {
   "cell_type": "code",
   "execution_count": 134,
   "metadata": {},
   "outputs": [
    {
     "data": {
      "text/html": [
       "<div>\n",
       "<table border=\"1\" class=\"dataframe\">\n",
       "  <thead>\n",
       "    <tr style=\"text-align: right;\">\n",
       "      <th></th>\n",
       "      <th>Attributes</th>\n",
       "    </tr>\n",
       "  </thead>\n",
       "  <tbody>\n",
       "    <tr>\n",
       "      <th>0</th>\n",
       "      <td>Lidocaine metabolism</td>\n",
       "    </tr>\n",
       "    <tr>\n",
       "      <th>1</th>\n",
       "      <td>Hfe effect on hepcidin production</td>\n",
       "    </tr>\n",
       "    <tr>\n",
       "      <th>2</th>\n",
       "      <td>Serotonin Receptor 2 and STAT3 Signaling</td>\n",
       "    </tr>\n",
       "    <tr>\n",
       "      <th>3</th>\n",
       "      <td>Selenium Micronutrient Network</td>\n",
       "    </tr>\n",
       "    <tr>\n",
       "      <th>4</th>\n",
       "      <td>LncRNA-mediated mechanisms of therapeutic resi...</td>\n",
       "    </tr>\n",
       "  </tbody>\n",
       "</table>\n",
       "</div>"
      ],
      "text/plain": [
       "                                          Attributes\n",
       "0                               Lidocaine metabolism\n",
       "1                  Hfe effect on hepcidin production\n",
       "2           Serotonin Receptor 2 and STAT3 Signaling\n",
       "3                     Selenium Micronutrient Network\n",
       "4  LncRNA-mediated mechanisms of therapeutic resi..."
      ]
     },
     "execution_count": 134,
     "metadata": {},
     "output_type": "execute_result"
    }
   ],
   "source": [
    "attribute_list.head()"
   ]
  },
  {
   "cell_type": "code",
   "execution_count": 135,
   "metadata": {},
   "outputs": [
    {
     "data": {
      "text/plain": [
       "(372, 1)"
      ]
     },
     "execution_count": 135,
     "metadata": {},
     "output_type": "execute_result"
    }
   ],
   "source": [
    "attribute_list.shape"
   ]
  },
  {
   "cell_type": "markdown",
   "metadata": {},
   "source": [
    "## Save Attribute List"
   ]
  },
  {
   "cell_type": "code",
   "execution_count": 136,
   "metadata": {
    "collapsed": true
   },
   "outputs": [],
   "source": [
    "filename = '~/./Documents/Harmonizome/wikipathways/Output/wikipathways_attribute_list_%s.tsv.zip'% str(datetime.date.today())[0:7].replace('-', '_')\n",
    "attribute_list.to_csv(filename, sep='\\t', index=False, compression='gzip')"
   ]
  },
  {
   "cell_type": "markdown",
   "metadata": {},
   "source": [
    "# Create Gene-Attribute Edge List"
   ]
  },
  {
   "cell_type": "code",
   "execution_count": 137,
   "metadata": {
    "collapsed": true
   },
   "outputs": [],
   "source": [
    "path = '/Users/moshesilverstein/Documents/Harmonizome/wikipathways/Output/'"
   ]
  },
  {
   "cell_type": "code",
   "execution_count": 138,
   "metadata": {
    "collapsed": true
   },
   "outputs": [],
   "source": [
    "name = 'wikipathways_gene_attribute_edge_list'"
   ]
  },
  {
   "cell_type": "code",
   "execution_count": 139,
   "metadata": {},
   "outputs": [
    {
     "name": "stdout",
     "output_type": "stream",
     "text": [
      "Progeres: 100%  372 Out of 372   \n",
      "\n",
      " The number of statisticaly relevent gene-attribute associations is: 15503\n"
     ]
    }
   ],
   "source": [
    "uf.createGeneAttributeEdgeList(binary_matrix, gene_list, path, name)"
   ]
  }
 ],
 "metadata": {
  "anaconda-cloud": {},
  "kernelspec": {
   "display_name": "Python [default]",
   "language": "python",
   "name": "python3"
  },
  "language_info": {
   "codemirror_mode": {
    "name": "ipython",
    "version": 3
   },
   "file_extension": ".py",
   "mimetype": "text/x-python",
   "name": "python",
   "nbconvert_exporter": "python",
   "pygments_lexer": "ipython3",
   "version": "3.5.2"
  }
 },
 "nbformat": 4,
 "nbformat_minor": 2
}
