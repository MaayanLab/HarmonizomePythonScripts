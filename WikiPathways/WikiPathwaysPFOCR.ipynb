{
 "cells": [
  {
   "cell_type": "markdown",
   "metadata": {},
   "source": [
    "# WikiPathways PFOCR Harmonizome Processing"
   ]
  },
  {
   "cell_type": "markdown",
   "metadata": {},
   "source": [
    "Pathway Figure OCR is an open science project dedicated to extracting pathway information from the published literature to be freely used by anyone. The data was downloaded from Wikipathways. A pathway figure-protein edgelist was computed from the downloaded gene set library. It was then manually reviewed to correct incorrectly encoded/decoded characters. Gene IDs were converted to symbols using mapping files derived from the NCBI Entrez Gene database."
   ]
  },
  {
   "cell_type": "code",
   "execution_count": null,
   "metadata": {},
   "outputs": [],
   "source": [
    "import pandas as pd\n",
    "import datetime\n",
    "import numpy as np\n",
    "import scipy.spatial.distance as dist\n",
    "import seaborn as sns\n",
    "import sys\n",
    "import json\n",
    "import scanpy as sc\n",
    "from tqdm import tqdm\n",
    "from collections import OrderedDict\n",
    "\n",
    "from sklearn.feature_extraction.text import TfidfVectorizer\n",
    "import anndata\n",
    "from collections import OrderedDict\n",
    "\n",
    "# Bokeh\n",
    "from bokeh.io import output_notebook\n",
    "from bokeh.plotting import figure, show, save, output_file\n",
    "from bokeh.models import HoverTool, ColumnDataSource\n",
    "from bokeh.palettes import Category20\n",
    "output_notebook()\n",
    "\n",
    "from IPython.display import display, HTML, Markdown\n",
    "sys.setrecursionlimit(100000)"
   ]
  },
  {
   "cell_type": "markdown",
   "metadata": {},
   "source": [
    "## Load and Preprocess Data"
   ]
  },
  {
   "cell_type": "code",
   "execution_count": null,
   "metadata": {},
   "outputs": [],
   "source": [
    "def load_gmt(file):\n",
    "    gmt = {}\n",
    "    for line in file:\n",
    "        term, desc, *geneset = line.strip().split('\\t')\n",
    "        gmt[term] = {'desc':desc, 'geneset':set(geneset)}\n",
    "    return gmt"
   ]
  },
  {
   "cell_type": "code",
   "execution_count": null,
   "metadata": {},
   "outputs": [],
   "source": [
    "pfocr = load_gmt(open('newdata/WikiPathwaysPFOCR/pfocr-20210515-gmt-Homo_sapiens.gmt', 'r'))\n",
    "pfocr = pd.DataFrame(pfocr).T.explode('geneset').reset_index()\n",
    "pfocr.columns = ['figure','pathway', 'geneid']\n",
    "pfocr"
   ]
  },
  {
   "cell_type": "markdown",
   "metadata": {},
   "source": [
    "## Process Data"
   ]
  },
  {
   "cell_type": "code",
   "execution_count": null,
   "metadata": {},
   "outputs": [],
   "source": [
    "geneids = pd.read_csv('mapping/GeneSymbolsAndIDS_2023.tsv', sep='\\t')\n",
    "geneids.columns = ['symbol', 'id']\n",
    "geneids = geneids.set_index('id')['symbol'].to_dict()"
   ]
  },
  {
   "cell_type": "code",
   "execution_count": null,
   "metadata": {},
   "outputs": [],
   "source": [
    "pfocr['gene'] = pfocr['geneid'].apply(lambda x: geneids[int(x)])\n",
    "pfocr"
   ]
  },
  {
   "cell_type": "markdown",
   "metadata": {},
   "source": [
    "## Prepare Data for SQL Ingestion"
   ]
  },
  {
   "cell_type": "markdown",
   "metadata": {},
   "source": [
    "### Dataset"
   ]
  },
  {
   "cell_type": "code",
   "execution_count": null,
   "metadata": {},
   "outputs": [],
   "source": [
    "#(id, name, name_without_resource, description, association, gene_set_description, gene_sets_description, attribute_set_description, is_signed, is_continuous_valued, last_updated, directory, num_page views, resource_fk, measurement_fk, dataset_group_fk, attribute_type_fk, attribute_group_fk, evidence_type, evidence_group, measurement_bias, attribute_type_plural)\n",
    "(140, 'Wikipathways Pathway Figure OCR', 'Pathway Figure OCR', 'sets of genes extracted from pathway figure using optical character recognition', 'protein-pathway associations extracted from figures in published literature', 'proteins participating in the {0} pathway from the Wikipathways PFOCR dataset.', 'sets of proteins participating in pathways from the Wikipathways PFOCR dataset.', 'pathways involving {0} protein from the Wikipathways PFOCR dataset.', 0, 0, '2023-05-25', 'pfocr', 0, 75, 4, 6, 22, 4, 'association by literature curation', 'curated literature', 'low throughput, hypothesis driven', 'pathways')"
   ]
  },
  {
   "cell_type": "markdown",
   "metadata": {},
   "source": [
    "### Publication"
   ]
  },
  {
   "cell_type": "code",
   "execution_count": null,
   "metadata": {},
   "outputs": [],
   "source": [
    "#(id, long_citation, short_citation, url, pmid, pubmed_url, first_author_last_name, first_author_initials, journal_abbreviateion, year, title, volume, pages)\n",
    "(142, 'Haspers, K et al. (2020) Pathway information extracted from 25 years of pathway figures. Genome Biol. 21:273', 'Haspers, Genome Biol, 2020', 'dx.doi.org/10.1186/s13059-020-02181-2', 33168034, 'https://ncbi.nlm.nih.gov/pubmed/33168034', 'Hanspers', 'K', 'Genome Biol', 2020, 'Pathway information extracted from 25 years of pathway figures', 21, 273)"
   ]
  },
  {
   "cell_type": "markdown",
   "metadata": {},
   "source": [
    "### Gene"
   ]
  },
  {
   "cell_type": "code",
   "execution_count": null,
   "metadata": {},
   "outputs": [],
   "source": [
    "genes = pd.read_csv('production/gene.csv')\n",
    "genelist = genes['ncbi_entrez_gene_id'].to_list()\n",
    "geneids = pd.read_csv('tables/GeneSymbolsAndIDS_2023.tsv', sep='\\t').drop_duplicates('Human, Mouse, and Rat Approved Symbol').set_index('Human, Mouse, and Rat Approved Symbol')['Entrez Gene ID(supplied by NCBI)'].to_dict()\n",
    "newgenes = pd.read_csv('tables/newgenes.csv', index_col=0)\n",
    "newgenelist = newgenes['ncbi_entrez_gene_id'].to_list()\n",
    "geneids.update(newgenes.set_index('symbol')['ncbi_entrez_gene_id'].to_dict())\n",
    "genedescs = pd.read_csv('tables/gene_info', sep='\\t').get(['GeneID', 'description']).set_index('GeneID')['description'].to_dict()\n",
    "genefks = genes.set_index('ncbi_entrez_gene_id')['id'].to_dict()\n",
    "genefks.update(newgenes.reset_index().set_index('ncbi_entrez_gene_id')['id'].to_dict())"
   ]
  },
  {
   "cell_type": "code",
   "execution_count": null,
   "metadata": {},
   "outputs": [],
   "source": [
    "index = 57238\n",
    "geneurl = 'https://ncbi.nlm.nih.gov/gene/'\n",
    "\n",
    "for gene in pfocr['gene'].unique():\n",
    "    id = geneids[gene]\n",
    "    if id not in genelist and id not in newgenelist:\n",
    "        print((index, gene, id, genedescs[id], geneurl+str(id)), end=',\\n')\n",
    "        genefks[id] = index\n",
    "        geneids[gene] = id\n",
    "        index += 1"
   ]
  },
  {
   "cell_type": "markdown",
   "metadata": {},
   "source": [
    "### Attribute"
   ]
  },
  {
   "cell_type": "code",
   "execution_count": null,
   "metadata": {},
   "outputs": [],
   "source": [
    "attributes = pd.read_csv('production/attribute.csv')\n",
    "attributes = attributes[attributes['naming_authority_fk']==97]\n",
    "attributefks = attributes.set_index('name_from_naming_authority')['id'].to_dict()\n",
    "attributes = attributes['name_from_naming_authority'].to_list()"
   ]
  },
  {
   "cell_type": "code",
   "execution_count": null,
   "metadata": {},
   "outputs": [],
   "source": [
    "#(id, name_from_naming_authority, naming_authority_fk)\n",
    "index = 324536\n",
    "\n",
    "for pathway in pfocr['figure'].unique():\n",
    "    if pathway not in attributes:\n",
    "        print((index, pathway, 97), end=',\\n')\n",
    "        attributefks[pathway] = index\n",
    "        index += 1"
   ]
  },
  {
   "cell_type": "markdown",
   "metadata": {},
   "source": [
    "### Gene Set"
   ]
  },
  {
   "cell_type": "code",
   "execution_count": null,
   "metadata": {},
   "outputs": [],
   "source": [
    "#(id, name_from_dataset, id_from_dataset, description_from_dataset, url_from_dataset, dataset_fk, attribute_type, attribute_fk)\n",
    "index = 134100000\n",
    "geneseturl = 'https://pfocr.wikipathways.org/figures/'\n",
    "genesets = pfocr.set_index('figure')['pathway'].to_dict()\n",
    "genesetfks = {}\n",
    "\n",
    "for pathway in pfocr['figure'].unique():\n",
    "    desc = genesets[pathway]\n",
    "    print((index,pathway, pathway, desc, geneseturl+pathway+'.html', 140, 22, attributefks[pathway]), end=',\\n')\n",
    "    genesetfks[pathway] = index\n",
    "    index += 1"
   ]
  },
  {
   "cell_type": "markdown",
   "metadata": {},
   "source": [
    "### Association"
   ]
  },
  {
   "cell_type": "code",
   "execution_count": null,
   "metadata": {},
   "outputs": [],
   "source": [
    "index = 20000000\n",
    "\n",
    "associations = pfocr.copy()\n",
    "\n",
    "associations['gene_set'] = associations['figure'].apply(lambda x: x in genesetfks)\n",
    "associations = associations[associations['gene_set']==True]\n",
    "\n",
    "associations = associations.get(['geneid', 'figure'])\n",
    "associations.columns = ['gene_fk', 'gene_set_fk']\n",
    "associations['gene_fk'] = associations['gene_fk'].apply(lambda x: genefks[int(x)])\n",
    "associations['gene_set_fk'] = associations['gene_set_fk'].apply(lambda x: genesetfks[x])\n",
    "associations['threshold_value'] = 1\n",
    "associations = associations.drop_duplicates().reset_index(drop=True)\n",
    "associations.index += index\n",
    "associations = associations.rename_axis('id')\n",
    "associations"
   ]
  },
  {
   "cell_type": "code",
   "execution_count": null,
   "metadata": {},
   "outputs": [],
   "source": [
    "associations.to_csv('harmonizome-update/wikipathwayspfocr.csv')"
   ]
  },
  {
   "cell_type": "markdown",
   "metadata": {},
   "source": [
    "## Create Downloads"
   ]
  },
  {
   "cell_type": "code",
   "execution_count": null,
   "metadata": {},
   "outputs": [],
   "source": [
    "output_path = 'newdata/WikiPathwaysPFOCR/downloads/'"
   ]
  },
  {
   "cell_type": "markdown",
   "metadata": {},
   "source": [
    "### Gene-Attribute Binary Matrix"
   ]
  },
  {
   "cell_type": "code",
   "execution_count": null,
   "metadata": {},
   "outputs": [],
   "source": [
    "binarymatrix = pd.crosstab(pfocr['gene'], pfocr['figure'])\n",
    "binarymatrixT = binarymatrix.T\n",
    "binarymatrix.to_csv(output_path+'gene_attribute_matrix.txt.gz', sep='\\t', compression='gzip')\n",
    "binarymatrix"
   ]
  },
  {
   "cell_type": "markdown",
   "metadata": {},
   "source": [
    "### Gene-Attribute Edge List"
   ]
  },
  {
   "cell_type": "code",
   "execution_count": null,
   "metadata": {},
   "outputs": [],
   "source": [
    "edgelist = pfocr.get(['gene', 'geneid', 'pathway', 'figure'])\n",
    "edgelist.to_csv(output_path+'gene_attribute_edges.txt.gz', sep='\\t', compression='gzip')\n",
    "edgelist"
   ]
  },
  {
   "cell_type": "markdown",
   "metadata": {},
   "source": [
    "### Gene List"
   ]
  },
  {
   "cell_type": "code",
   "execution_count": null,
   "metadata": {},
   "outputs": [],
   "source": [
    "geneslist = pfocr.get(['gene', 'geneid']).drop_duplicates().reset_index(drop=True)\n",
    "geneslist.to_csv(output_path+'gene_list_terms.txt.gz', sep='\\t', compression='gzip')\n",
    "geneslist"
   ]
  },
  {
   "cell_type": "markdown",
   "metadata": {},
   "source": [
    "### Attribute List"
   ]
  },
  {
   "cell_type": "code",
   "execution_count": null,
   "metadata": {},
   "outputs": [],
   "source": [
    "attributeslist = pfocr.get(['pathway', 'figure']).drop_duplicates().reset_index(drop=True)\n",
    "attributeslist.to_csv(output_path+'attribute_list_entries.txt.gz', sep='\\t', compression='gzip')\n",
    "attributeslist"
   ]
  },
  {
   "cell_type": "markdown",
   "metadata": {},
   "source": [
    "### Gene Set Library"
   ]
  },
  {
   "cell_type": "code",
   "execution_count": null,
   "metadata": {},
   "outputs": [],
   "source": [
    "with open(output_path+'gene_set_library_crisp.gmt', 'w') as f:\n",
    "    arr = binarymatrix.reset_index(drop=True).to_numpy(dtype=np.int_)\n",
    "    attributes = binarymatrix.columns\n",
    "\n",
    "    w, h = arr.shape\n",
    "    for i in tqdm(range(h)):\n",
    "        if len([*binarymatrix.index[arr[:, i] == 1]])>= 5:\n",
    "            print(attributes[i], *binarymatrix.index[arr[:, i] == 1], sep='\\t', end='\\n', file=f)"
   ]
  },
  {
   "cell_type": "markdown",
   "metadata": {},
   "source": [
    "### Attribute Set Library"
   ]
  },
  {
   "cell_type": "code",
   "execution_count": null,
   "metadata": {},
   "outputs": [],
   "source": [
    "with open(output_path+'attribute_set_library_crisp.gmt', 'w') as f:\n",
    "    arr = binarymatrixT.reset_index(drop=True).to_numpy(dtype=np.int_)\n",
    "    genes = binarymatrixT.columns\n",
    "\n",
    "    w, h = arr.shape\n",
    "    for i in tqdm(range(h)):\n",
    "        if len([*binarymatrixT.index[arr[:, i] == 1]])>= 5:\n",
    "            print(genes[i], *binarymatrixT.index[arr[:, i] == 1], sep='\\t', end='\\n', file=f)"
   ]
  },
  {
   "cell_type": "markdown",
   "metadata": {},
   "source": [
    "### Gene Similarity Matrix"
   ]
  },
  {
   "cell_type": "code",
   "execution_count": null,
   "metadata": {},
   "outputs": [],
   "source": [
    "gene_similarity_matrix = dist.pdist(binarymatrix.to_numpy(dtype=np.int_), 'cosine')\n",
    "gene_similarity_matrix = dist.squareform(gene_similarity_matrix)\n",
    "gene_similarity_matrix = 1 - gene_similarity_matrix\n",
    "\n",
    "gene_similarity_matrix = pd.DataFrame(data=gene_similarity_matrix, index=binarymatrix.index, columns=binarymatrix.index)\n",
    "gene_similarity_matrix.index.name = None\n",
    "gene_similarity_matrix.columns.name = None\n",
    "gene_similarity_matrix.to_csv(output_path+'gene_similarity_matrix_cosine.txt.gz', sep='\\t', compression='gzip')\n",
    "gene_similarity_matrix"
   ]
  },
  {
   "cell_type": "markdown",
   "metadata": {},
   "source": [
    "### Attribute Similarity Matrix\n",
    "Large versions of the attribute similarity matrix caused crashes during creation. Therefore, a smaller version of the attribute similarity matrix was created, including only gene sets with length >= 5."
   ]
  },
  {
   "cell_type": "code",
   "execution_count": null,
   "metadata": {},
   "outputs": [],
   "source": [
    "def load_gmt(file):\n",
    "    gmt = {}\n",
    "    for line in file:\n",
    "        term, *geneset = line.strip().split('\\t')\n",
    "        gmt[term] = {'geneset':set(geneset)}\n",
    "    return gmt\n",
    "\n",
    "gmt = pd.DataFrame(load_gmt(open('newdata/WikiPathwaysPFOCR/downloads/gene_set_library_crisp.gmt', 'r'))).T.explode('geneset').reset_index()\n",
    "gmt.columns = ['pathway', 'gene']\n",
    "\n",
    "gmtmatrix = pd.crosstab(gmt['gene'], gmt['pathway'])\n",
    "gmtmatrixT = gmtmatrix.T\n",
    "gmtmatrix"
   ]
  },
  {
   "cell_type": "code",
   "execution_count": null,
   "metadata": {},
   "outputs": [],
   "source": [
    "attribute_similarity_matrix = dist.pdist(gmtmatrixT.to_numpy(dtype=np.int_), 'cosine')\n",
    "attribute_similarity_matrix = dist.squareform(attribute_similarity_matrix)\n",
    "attribute_similarity_matrix = 1 - attribute_similarity_matrix\n",
    "\n",
    "attribute_similarity_matrix = pd.DataFrame(data=attribute_similarity_matrix, index=gmtmatrixT.index, columns=gmtmatrixT.index)\n",
    "attribute_similarity_matrix.index.name = None\n",
    "attribute_similarity_matrix.columns.name = None\n",
    "attribute_similarity_matrix.to_csv(output_path+'attribute_similarity_matrix_cosine.txt.gz', sep='\\t', compression='gzip')\n",
    "attribute_similarity_matrix"
   ]
  },
  {
   "cell_type": "markdown",
   "metadata": {},
   "source": [
    "### Knowledge Graph Serialization"
   ]
  },
  {
   "cell_type": "code",
   "execution_count": null,
   "metadata": {},
   "outputs": [],
   "source": [
    "nodes = {}\n",
    "edges = []\n",
    "\n",
    "for gene in geneslist.index:\n",
    "    gene = geneslist.loc[gene]\n",
    "    nodes[gene['geneid']] = {\n",
    "        \"type\":\"gene\",\n",
    "        \"properties\": {\n",
    "            \"id\":int(gene['geneid']),\n",
    "            \"label\":gene['gene']\n",
    "        }}\n",
    "\n",
    "for figure in attributeslist.index:\n",
    "    figure = attributeslist.loc[figure]\n",
    "    nodes[figure['figure']] = {\n",
    "        \"type\":\"pathway\",\n",
    "        \"properties\": {\n",
    "            \"id\":figure['figure'],\n",
    "            \"label\":figure['pathway']\n",
    "        }}\n",
    "\n",
    "for edge in edgelist.index:\n",
    "    edge = edgelist.loc[edge]\n",
    "    edges.append({\n",
    "        \"source\": edge['geneid'],\n",
    "        \"relation\": \"participates in\",\n",
    "        \"target\": edge['figure'],\n",
    "        \"properties\":{\n",
    "            \"id\":str(edge['geneid'])+\":\"+edge['figure'],\n",
    "            \"source_id\":int(edge['geneid']),\n",
    "            \"source_label\":edge['gene'],\n",
    "            \"target_label\":edge['pathway'],\n",
    "            \"target_id\":edge['figure'],\n",
    "            \"directed\":True,\n",
    "            \"threshold\":1\n",
    "        }})"
   ]
  },
  {
   "cell_type": "markdown",
   "metadata": {},
   "source": [
    "#### RDF"
   ]
  },
  {
   "cell_type": "code",
   "execution_count": null,
   "metadata": {},
   "outputs": [],
   "source": [
    "with open(output_path+'kg_serializations/pfocr.rdf', 'w') as f:\n",
    "    print('@prefix gene: ncbi.nlm.nih.gov/gene/', file=f)\n",
    "    print('@prefix RO: purl.obolibrary.org/RO_', file=f)\n",
    "    print('@prefix GO: amigo.geneontology.org/amigo/term/GO:', file=f)\n",
    "    print('', file=f)\n",
    "    for edge in edges:\n",
    "        print('gene:'+str(edge['properties']['source_id']), 'RO:0000056', edge['properties']['target_id'], end=' .\\n', file=f)"
   ]
  },
  {
   "cell_type": "markdown",
   "metadata": {},
   "source": [
    "#### JSON"
   ]
  },
  {
   "cell_type": "code",
   "execution_count": null,
   "metadata": {},
   "outputs": [],
   "source": [
    "with open(output_path+'kg_serializations/pfocr.json', 'w') as f:\n",
    "    serial = json.dump(\n",
    "        {\n",
    "            \"Version\":\"1\", \n",
    "            \"nodes\": nodes,\n",
    "            \"edges\": edges\n",
    "        }, indent=4, fp=f)"
   ]
  },
  {
   "cell_type": "markdown",
   "metadata": {},
   "source": [
    "#### TSV"
   ]
  },
  {
   "cell_type": "code",
   "execution_count": null,
   "metadata": {},
   "outputs": [],
   "source": [
    "nodeframe = pd.DataFrame(nodes).T\n",
    "nodeframe['id'] = nodeframe['properties'].apply(lambda x: x['id'])\n",
    "nodeframe['label'] = nodeframe['properties'].apply(lambda x: x['label'])\n",
    "nodeframe['namespace'] = nodeframe['type'].apply(lambda x: {'gene':'NCBI Entrez', 'pathway':'Wikipathways'}[x])\n",
    "nodeframe = nodeframe.get(['namespace', 'id', 'label']).reset_index(drop=True)\n",
    "nodeframe.to_csv(output_path+'kg_serializations/wikipathwayspfocr_tsv/nodes.tsv', sep='\\t')\n",
    "nodeframe"
   ]
  },
  {
   "cell_type": "code",
   "execution_count": null,
   "metadata": {},
   "outputs": [],
   "source": [
    "edgeframe = pd.DataFrame(edges)\n",
    "edgeframe['threshold'] = edgeframe['properties'].apply(lambda x: x['threshold'])\n",
    "edgeframe = edgeframe.get(['source', 'relation', 'target', 'threshold'])\n",
    "edgeframe.to_csv(output_path+'kg_serializations/wikipathwayspfocr_tsv/edges.tsv', sep='\\t')\n",
    "edgeframe"
   ]
  },
  {
   "cell_type": "markdown",
   "metadata": {},
   "source": [
    "## Create Visualizations"
   ]
  },
  {
   "cell_type": "markdown",
   "metadata": {},
   "source": [
    "### Gene-Attribute Clustered Heatmap"
   ]
  },
  {
   "cell_type": "code",
   "execution_count": null,
   "metadata": {},
   "outputs": [],
   "source": [
    "sns.clustermap(binarymatrix, cmap='seismic', center=0)"
   ]
  },
  {
   "cell_type": "markdown",
   "metadata": {},
   "source": [
    "### Gene-Gene Similarity Clustered Heatmap"
   ]
  },
  {
   "cell_type": "code",
   "execution_count": null,
   "metadata": {},
   "outputs": [],
   "source": [
    "sns.clustermap(gene_similarity_matrix, cmap='seismic', center=0)"
   ]
  },
  {
   "cell_type": "markdown",
   "metadata": {},
   "source": [
    "### Attribute-Attribute Similarity Clustered Heatmap\n",
    "Larger versions of the attribute similarity matrix crashed when attempting to compute a clustered heatmap. Therefore, a new attribute similarity matrix was created including only gene sets with length >= 10."
   ]
  },
  {
   "cell_type": "code",
   "execution_count": null,
   "metadata": {},
   "outputs": [],
   "source": [
    "output_path='newdata/WikiPathwaysPFOCR/downloads/'\n",
    "binarymatrix = pd.read_csv(output_path+'gene_attribute_matrix.txt.gz', sep='\\t', compression='gzip', index_col='gene')"
   ]
  },
  {
   "cell_type": "code",
   "execution_count": null,
   "metadata": {},
   "outputs": [],
   "source": [
    "with open(output_path+'gene_set_library_crisp_10.gmt', 'w') as f:\n",
    "    arr = binarymatrix.reset_index(drop=True).to_numpy(dtype=np.int_)\n",
    "    attributes = binarymatrix.columns\n",
    "\n",
    "    w, h = arr.shape\n",
    "    for i in tqdm(range(h)):\n",
    "        if len([*binarymatrix.index[arr[:, i] == 1]])>= 10:\n",
    "            print(attributes[i], *binarymatrix.index[arr[:, i] == 1], sep='\\t', end='\\n', file=f)"
   ]
  },
  {
   "cell_type": "code",
   "execution_count": null,
   "metadata": {},
   "outputs": [],
   "source": [
    "def load_gmt(file):\n",
    "    gmt = {}\n",
    "    for line in file:\n",
    "        term, *geneset = line.strip().split('\\t')\n",
    "        gmt[term] = {'geneset':set(geneset)}\n",
    "    return gmt\n",
    "\n",
    "gmt = pd.DataFrame(load_gmt(open('newdata/WikiPathwaysPFOCR/downloads/gene_set_library_crisp_10.gmt', 'r'))).T.explode('geneset').reset_index()\n",
    "gmt.columns = ['pathway', 'gene']\n",
    "\n",
    "gmtmatrix = pd.crosstab(gmt['gene'], gmt['pathway'])\n",
    "gmtmatrixT = gmtmatrix.T\n",
    "gmtmatrix"
   ]
  },
  {
   "cell_type": "code",
   "execution_count": null,
   "metadata": {},
   "outputs": [],
   "source": [
    "attribute_similarity_matrix = dist.pdist(gmtmatrixT.to_numpy(dtype=np.int_), 'cosine')\n",
    "attribute_similarity_matrix = dist.squareform(attribute_similarity_matrix)\n",
    "attribute_similarity_matrix = 1 - attribute_similarity_matrix\n",
    "\n",
    "attribute_similarity_matrix = pd.DataFrame(data=attribute_similarity_matrix, index=gmtmatrixT.index, columns=gmtmatrixT.index)\n",
    "attribute_similarity_matrix.index.name = None\n",
    "attribute_similarity_matrix.columns.name = None\n",
    "attribute_similarity_matrix"
   ]
  },
  {
   "cell_type": "code",
   "execution_count": null,
   "metadata": {},
   "outputs": [],
   "source": [
    "sns.clustermap(attribute_similarity_matrix, cmap='seismic', center=0)"
   ]
  },
  {
   "cell_type": "markdown",
   "metadata": {},
   "source": [
    "### UMAP"
   ]
  },
  {
   "cell_type": "code",
   "execution_count": null,
   "metadata": {},
   "outputs": [],
   "source": [
    "def load_gmt(file):\n",
    "    gmt = OrderedDict()\n",
    "    for line in file:\n",
    "        term, *geneset = line.strip().split('\\t')\n",
    "        gmt[term] = ' '.join(set(geneset))\n",
    "    return gmt"
   ]
  },
  {
   "cell_type": "code",
   "execution_count": null,
   "metadata": {},
   "outputs": [],
   "source": [
    "libdict = load_gmt(open('newdata/WikiPathwaysPFOCR/downloads/gene_set_library_crisp.gmt', 'r'))\n",
    "scatterdir = 'newdata/WikiPathwaysPFOCR/images/'"
   ]
  },
  {
   "cell_type": "code",
   "execution_count": null,
   "metadata": {},
   "outputs": [],
   "source": [
    "def process_scatterplot(libdict, nneighbors=30, mindist=0.1, spread=1.0, maxdf=1.0, mindf=1):\n",
    "    print(\"\\tTF-IDF vectorizing gene set data...\")\n",
    "    vec = TfidfVectorizer(max_df=maxdf, min_df=mindf)\n",
    "    X = vec.fit_transform(libdict.values())\n",
    "    print(X.shape)\n",
    "    adata = anndata.AnnData(X)\n",
    "    adata.obs.index = libdict.keys()\n",
    "\n",
    "    print(\"\\tPerforming Leiden clustering...\")\n",
    "    ### the n_neighbors and min_dist parameters can be altered\n",
    "    sc.pp.neighbors(adata, n_neighbors=nneighbors)\n",
    "    sc.tl.leiden(adata, resolution=1.0)\n",
    "    sc.tl.umap(adata, min_dist=mindist, spread=spread, random_state=42)\n",
    "\n",
    "    new_order = adata.obs.sort_values(by='leiden').index.tolist()\n",
    "    adata = adata[new_order, :]\n",
    "    adata.obs['leiden'] = 'Cluster ' + adata.obs['leiden'].astype('object')\n",
    "\n",
    "    df = pd.DataFrame(adata.obsm['X_umap'])\n",
    "    df.columns = ['x', 'y']\n",
    "\n",
    "    df['cluster'] = adata.obs['leiden'].values\n",
    "    df['term'] = adata.obs.index\n",
    "    df['genes'] = [libdict[l] for l in df['term']]\n",
    "\n",
    "    return df"
   ]
  },
  {
   "cell_type": "code",
   "execution_count": null,
   "metadata": {},
   "outputs": [],
   "source": [
    "def get_scatter_colors(df):\n",
    "    clusters = pd.unique(df['cluster']).tolist()\n",
    "    colors = list(Category20[20])[::2] + list(Category20[20])[1::2]\n",
    "    color_mapper = {clusters[i]: colors[i % 20] for i in range(len(clusters))}\n",
    "    return color_mapper\n",
    "\n",
    "def get_scatterplot(scatterdf):\n",
    "    df = scatterdf.copy()\n",
    "    color_mapper = get_scatter_colors(df)\n",
    "    df['color'] = df['cluster'].apply(lambda x: color_mapper[x])\n",
    "\n",
    "    hover_emb = HoverTool(name=\"df\", tooltips=\"\"\"\n",
    "        <div style=\"margin: 10\">\n",
    "            <div style=\"margin: 0 auto; width:300px;\">\n",
    "                <span style=\"font-size: 12px; font-weight: bold;\">Gene Set:</span>\n",
    "                <span style=\"font-size: 12px\">@gene_set</span>\n",
    "            <div style=\"margin: 0 auto; width:300px;\">\n",
    "                <span style=\"font-size: 12px; font-weight: bold;\">Coordinates:</span>\n",
    "                <span style=\"font-size: 12px\">(@x,@y)</span>\n",
    "            <div style=\"margin: 0 auto; width:300px;\">\n",
    "                <span style=\"font-size: 12px; font-weight: bold;\">Cluster:</span>\n",
    "                <span style=\"font-size: 12px\">@cluster</span>\n",
    "            </div>\n",
    "        </div>\n",
    "    \"\"\")\n",
    "    tools_emb = [hover_emb, 'pan', 'wheel_zoom', 'reset', 'save']\n",
    "\n",
    "    plot_emb = figure(\n",
    "        width=1000, \n",
    "        height=700, \n",
    "        tools=tools_emb\n",
    "    )\n",
    "\n",
    "    source = ColumnDataSource(\n",
    "        data=dict(\n",
    "            x = df['x'],\n",
    "            y = df['y'],\n",
    "            gene_set = df['term'],\n",
    "            cluster = df['cluster'],\n",
    "            colors = df['color'],\n",
    "            label = df['cluster']\n",
    "        )\n",
    "    )\n",
    "\n",
    "    # hide axis labels and grid lines\n",
    "    plot_emb.xaxis.major_tick_line_color = None\n",
    "    plot_emb.xaxis.minor_tick_line_color = None\n",
    "    plot_emb.yaxis.major_tick_line_color = None\n",
    "    plot_emb.yaxis.minor_tick_line_color = None\n",
    "    plot_emb.xaxis.major_label_text_font_size = '0pt'\n",
    "    plot_emb.yaxis.major_label_text_font_size = '0pt' \n",
    "\n",
    "    plot_emb.output_backend = \"svg\"    \n",
    "    \n",
    "    plot_emb.title = 'Gene Sets in Wikipathways PFOCR Library'\n",
    "    plot_emb.xaxis.axis_label = \"UMAP_1\"\n",
    "    plot_emb.yaxis.axis_label = \"UMAP_2\"\n",
    "    plot_emb.xaxis.axis_label_text_font_style = 'normal'\n",
    "    plot_emb.xaxis.axis_label_text_font_size = '18px'\n",
    "    plot_emb.yaxis.axis_label_text_font_size = '18px'\n",
    "    plot_emb.yaxis.axis_label_text_font_style = 'normal'\n",
    "    plot_emb.title.align = 'center'\n",
    "    plot_emb.title.text_font_size = '18px'\n",
    "    \n",
    "    s = plot_emb.scatter(\n",
    "        'x', \n",
    "        'y', \n",
    "        size = 4, \n",
    "        source = source, \n",
    "        color = 'colors'\n",
    "    )\n",
    "    \n",
    "    return plot_emb"
   ]
  },
  {
   "cell_type": "code",
   "execution_count": null,
   "metadata": {},
   "outputs": [],
   "source": [
    "## defaults: nneighbors=30, mindist=0.1, spread=1.0, maxdf=1.0, mindf=1\n",
    "scatter_df = process_scatterplot(libdict, nneighbors=15,mindist=0.1\n",
    "    # spread=0.8, \n",
    "    # maxdf=0.5, \n",
    "    # mindf=10\n",
    ")\n",
    "\n",
    "# Display Scatter Plot\n",
    "plot = get_scatterplot(scatter_df)\n",
    "output_notebook()\n",
    "show(plot)"
   ]
  },
  {
   "cell_type": "code",
   "execution_count": null,
   "metadata": {},
   "outputs": [],
   "source": [
    "# save HTML if desired\n",
    "output_file(filename=f\"{scatterdir}/umap.html\", title = 'Gene Sets in Wikipathways PFOCR 2023 Library')\n",
    "save(plot)"
   ]
  }
 ],
 "metadata": {
  "kernelspec": {
   "display_name": "Python 3.10.4 ('appyter')",
   "language": "python",
   "name": "python3"
  },
  "language_info": {
   "codemirror_mode": {
    "name": "ipython",
    "version": 3
   },
   "file_extension": ".py",
   "mimetype": "text/x-python",
   "name": "python",
   "nbconvert_exporter": "python",
   "pygments_lexer": "ipython3",
   "version": "3.10.4"
  },
  "orig_nbformat": 4,
  "vscode": {
   "interpreter": {
    "hash": "36b64e778f8b0c3f01583b2eed08020222bb534e013a238936f90fb19a999c87"
   }
  }
 },
 "nbformat": 4,
 "nbformat_minor": 2
}
