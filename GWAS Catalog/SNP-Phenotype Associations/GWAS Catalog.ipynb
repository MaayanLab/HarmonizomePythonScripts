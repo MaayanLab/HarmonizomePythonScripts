{
 "cells": [
  {
   "cell_type": "markdown",
   "metadata": {},
   "source": [
    "# GWAS Catalog (SNP-Phenotype Associations)"
   ]
  },
  {
   "cell_type": "markdown",
   "metadata": {},
   "source": [
    "Author: Moshe Silverstein <br/>\n",
    "Date: 9-17 <br/>\n",
    "Data Source: http://www.ebi.ac.uk/gwas/docs/file-downloads"
   ]
  },
  {
   "cell_type": "code",
   "execution_count": 1,
   "metadata": {
    "collapsed": true
   },
   "outputs": [],
   "source": [
    "import sys, datetime, os\n",
    "import numpy as np\n",
    "import pandas as pd\n",
    "import importlib\n",
    "import untility_functions as uf\n",
    "%matplotlib inline"
   ]
  },
  {
   "cell_type": "code",
   "execution_count": 2,
   "metadata": {},
   "outputs": [
    {
     "data": {
      "text/plain": [
       "<module 'untility_functions' from '/Users/moshesilverstein/Documents/Harmonizome/GWAS Catalog/untility_functions.py'>"
      ]
     },
     "execution_count": 2,
     "metadata": {},
     "output_type": "execute_result"
    }
   ],
   "source": [
    "importlib.reload(uf)"
   ]
  },
  {
   "cell_type": "markdown",
   "metadata": {},
   "source": [
    "# Load Data"
   ]
  },
  {
   "cell_type": "code",
   "execution_count": 3,
   "metadata": {
    "collapsed": true
   },
   "outputs": [],
   "source": [
    "df = pd.read_csv('Input/gwas_catalog_v1.0.1-associations_e90_r2017-08-31.tsv', sep='\\t', low_memory=False)"
   ]
  },
  {
   "cell_type": "code",
   "execution_count": 4,
   "metadata": {},
   "outputs": [
    {
     "data": {
      "text/html": [
       "<div>\n",
       "<style>\n",
       "    .dataframe thead tr:only-child th {\n",
       "        text-align: right;\n",
       "    }\n",
       "\n",
       "    .dataframe thead th {\n",
       "        text-align: left;\n",
       "    }\n",
       "\n",
       "    .dataframe tbody tr th {\n",
       "        vertical-align: top;\n",
       "    }\n",
       "</style>\n",
       "<table border=\"1\" class=\"dataframe\">\n",
       "  <thead>\n",
       "    <tr style=\"text-align: right;\">\n",
       "      <th></th>\n",
       "      <th>DATE ADDED TO CATALOG</th>\n",
       "      <th>PUBMEDID</th>\n",
       "      <th>FIRST AUTHOR</th>\n",
       "      <th>DATE</th>\n",
       "      <th>JOURNAL</th>\n",
       "      <th>LINK</th>\n",
       "      <th>STUDY</th>\n",
       "      <th>DISEASE/TRAIT</th>\n",
       "      <th>INITIAL SAMPLE SIZE</th>\n",
       "      <th>REPLICATION SAMPLE SIZE</th>\n",
       "      <th>...</th>\n",
       "      <th>P-VALUE</th>\n",
       "      <th>PVALUE_MLOG</th>\n",
       "      <th>P-VALUE (TEXT)</th>\n",
       "      <th>OR or BETA</th>\n",
       "      <th>95% CI (TEXT)</th>\n",
       "      <th>PLATFORM [SNPS PASSING QC]</th>\n",
       "      <th>CNV</th>\n",
       "      <th>MAPPED_TRAIT</th>\n",
       "      <th>MAPPED_TRAIT_URI</th>\n",
       "      <th>STUDY ACCESSION</th>\n",
       "    </tr>\n",
       "  </thead>\n",
       "  <tbody>\n",
       "    <tr>\n",
       "      <th>0</th>\n",
       "      <td>2009-09-28</td>\n",
       "      <td>18403759</td>\n",
       "      <td>Ober C</td>\n",
       "      <td>2008-04-09</td>\n",
       "      <td>N Engl J Med</td>\n",
       "      <td>www.ncbi.nlm.nih.gov/pubmed/18403759</td>\n",
       "      <td>Effect of variation in CHI3L1 on serum YKL-40 ...</td>\n",
       "      <td>YKL-40 levels</td>\n",
       "      <td>632 Hutterite individuals</td>\n",
       "      <td>443 European ancestry cases, 491 European ance...</td>\n",
       "      <td>...</td>\n",
       "      <td>1E-13</td>\n",
       "      <td>13.000000</td>\n",
       "      <td>NaN</td>\n",
       "      <td>0.30</td>\n",
       "      <td>[NR] ng/ml decrease</td>\n",
       "      <td>Affymetrix [290325]</td>\n",
       "      <td>N</td>\n",
       "      <td>YKL40 measurement</td>\n",
       "      <td>http://www.ebi.ac.uk/efo/EFO_0004869</td>\n",
       "      <td>GCST000177</td>\n",
       "    </tr>\n",
       "    <tr>\n",
       "      <th>1</th>\n",
       "      <td>2008-06-16</td>\n",
       "      <td>18369459</td>\n",
       "      <td>Liu Y</td>\n",
       "      <td>2008-04-04</td>\n",
       "      <td>PLoS Genet</td>\n",
       "      <td>www.ncbi.nlm.nih.gov/pubmed/18369459</td>\n",
       "      <td>A genome-wide association study of psoriasis a...</td>\n",
       "      <td>Psoriasis</td>\n",
       "      <td>218 European ancestry cases, 519 European ance...</td>\n",
       "      <td>1,153 European ancestry cases, 1,217 European ...</td>\n",
       "      <td>...</td>\n",
       "      <td>2E-6</td>\n",
       "      <td>5.698970</td>\n",
       "      <td>NaN</td>\n",
       "      <td>1.41</td>\n",
       "      <td>[1.22-1.61]</td>\n",
       "      <td>Illumina [305983]</td>\n",
       "      <td>N</td>\n",
       "      <td>psoriasis</td>\n",
       "      <td>http://www.ebi.ac.uk/efo/EFO_0000676</td>\n",
       "      <td>GCST000173</td>\n",
       "    </tr>\n",
       "    <tr>\n",
       "      <th>2</th>\n",
       "      <td>2008-06-16</td>\n",
       "      <td>18385676</td>\n",
       "      <td>Amos CI</td>\n",
       "      <td>2008-04-03</td>\n",
       "      <td>Nat Genet</td>\n",
       "      <td>www.ncbi.nlm.nih.gov/pubmed/18385676</td>\n",
       "      <td>Genome-wide association scan of tag SNPs ident...</td>\n",
       "      <td>Lung cancer</td>\n",
       "      <td>1,154 European ancestry cases, 1,137 European ...</td>\n",
       "      <td>2,724 European ancestry cases, 3,694 European ...</td>\n",
       "      <td>...</td>\n",
       "      <td>3E-18</td>\n",
       "      <td>17.522879</td>\n",
       "      <td>NaN</td>\n",
       "      <td>1.30</td>\n",
       "      <td>[1.15-1.47]</td>\n",
       "      <td>Illumina [317498]</td>\n",
       "      <td>N</td>\n",
       "      <td>lung carcinoma</td>\n",
       "      <td>http://www.ebi.ac.uk/efo/EFO_0001071</td>\n",
       "      <td>GCST000172</td>\n",
       "    </tr>\n",
       "    <tr>\n",
       "      <th>3</th>\n",
       "      <td>2008-06-16</td>\n",
       "      <td>18385676</td>\n",
       "      <td>Amos CI</td>\n",
       "      <td>2008-04-03</td>\n",
       "      <td>Nat Genet</td>\n",
       "      <td>www.ncbi.nlm.nih.gov/pubmed/18385676</td>\n",
       "      <td>Genome-wide association scan of tag SNPs ident...</td>\n",
       "      <td>Lung cancer</td>\n",
       "      <td>1,154 European ancestry cases, 1,137 European ...</td>\n",
       "      <td>2,724 European ancestry cases, 3,694 European ...</td>\n",
       "      <td>...</td>\n",
       "      <td>7E-6</td>\n",
       "      <td>5.154902</td>\n",
       "      <td>NaN</td>\n",
       "      <td>1.22</td>\n",
       "      <td>[1.10-1.35]</td>\n",
       "      <td>Illumina [317498]</td>\n",
       "      <td>N</td>\n",
       "      <td>lung carcinoma</td>\n",
       "      <td>http://www.ebi.ac.uk/efo/EFO_0001071</td>\n",
       "      <td>GCST000172</td>\n",
       "    </tr>\n",
       "    <tr>\n",
       "      <th>4</th>\n",
       "      <td>2008-06-16</td>\n",
       "      <td>18385676</td>\n",
       "      <td>Amos CI</td>\n",
       "      <td>2008-04-03</td>\n",
       "      <td>Nat Genet</td>\n",
       "      <td>www.ncbi.nlm.nih.gov/pubmed/18385676</td>\n",
       "      <td>Genome-wide association scan of tag SNPs ident...</td>\n",
       "      <td>Lung cancer</td>\n",
       "      <td>1,154 European ancestry cases, 1,137 European ...</td>\n",
       "      <td>2,724 European ancestry cases, 3,694 European ...</td>\n",
       "      <td>...</td>\n",
       "      <td>8E-6</td>\n",
       "      <td>5.096910</td>\n",
       "      <td>NaN</td>\n",
       "      <td>1.16</td>\n",
       "      <td>[1.05-1.28]</td>\n",
       "      <td>Illumina [317498]</td>\n",
       "      <td>N</td>\n",
       "      <td>lung carcinoma</td>\n",
       "      <td>http://www.ebi.ac.uk/efo/EFO_0001071</td>\n",
       "      <td>GCST000172</td>\n",
       "    </tr>\n",
       "  </tbody>\n",
       "</table>\n",
       "<p>5 rows × 37 columns</p>\n",
       "</div>"
      ],
      "text/plain": [
       "  DATE ADDED TO CATALOG  PUBMEDID FIRST AUTHOR        DATE       JOURNAL  \\\n",
       "0            2009-09-28  18403759       Ober C  2008-04-09  N Engl J Med   \n",
       "1            2008-06-16  18369459        Liu Y  2008-04-04    PLoS Genet   \n",
       "2            2008-06-16  18385676      Amos CI  2008-04-03     Nat Genet   \n",
       "3            2008-06-16  18385676      Amos CI  2008-04-03     Nat Genet   \n",
       "4            2008-06-16  18385676      Amos CI  2008-04-03     Nat Genet   \n",
       "\n",
       "                                   LINK  \\\n",
       "0  www.ncbi.nlm.nih.gov/pubmed/18403759   \n",
       "1  www.ncbi.nlm.nih.gov/pubmed/18369459   \n",
       "2  www.ncbi.nlm.nih.gov/pubmed/18385676   \n",
       "3  www.ncbi.nlm.nih.gov/pubmed/18385676   \n",
       "4  www.ncbi.nlm.nih.gov/pubmed/18385676   \n",
       "\n",
       "                                               STUDY  DISEASE/TRAIT  \\\n",
       "0  Effect of variation in CHI3L1 on serum YKL-40 ...  YKL-40 levels   \n",
       "1  A genome-wide association study of psoriasis a...      Psoriasis   \n",
       "2  Genome-wide association scan of tag SNPs ident...    Lung cancer   \n",
       "3  Genome-wide association scan of tag SNPs ident...    Lung cancer   \n",
       "4  Genome-wide association scan of tag SNPs ident...    Lung cancer   \n",
       "\n",
       "                                 INITIAL SAMPLE SIZE  \\\n",
       "0                          632 Hutterite individuals   \n",
       "1  218 European ancestry cases, 519 European ance...   \n",
       "2  1,154 European ancestry cases, 1,137 European ...   \n",
       "3  1,154 European ancestry cases, 1,137 European ...   \n",
       "4  1,154 European ancestry cases, 1,137 European ...   \n",
       "\n",
       "                             REPLICATION SAMPLE SIZE       ...        P-VALUE  \\\n",
       "0  443 European ancestry cases, 491 European ance...       ...          1E-13   \n",
       "1  1,153 European ancestry cases, 1,217 European ...       ...           2E-6   \n",
       "2  2,724 European ancestry cases, 3,694 European ...       ...          3E-18   \n",
       "3  2,724 European ancestry cases, 3,694 European ...       ...           7E-6   \n",
       "4  2,724 European ancestry cases, 3,694 European ...       ...           8E-6   \n",
       "\n",
       "  PVALUE_MLOG P-VALUE (TEXT) OR or BETA        95% CI (TEXT)  \\\n",
       "0   13.000000            NaN       0.30  [NR] ng/ml decrease   \n",
       "1    5.698970            NaN       1.41          [1.22-1.61]   \n",
       "2   17.522879            NaN       1.30          [1.15-1.47]   \n",
       "3    5.154902            NaN       1.22          [1.10-1.35]   \n",
       "4    5.096910            NaN       1.16          [1.05-1.28]   \n",
       "\n",
       "   PLATFORM [SNPS PASSING QC]  CNV       MAPPED_TRAIT  \\\n",
       "0         Affymetrix [290325]    N  YKL40 measurement   \n",
       "1           Illumina [305983]    N          psoriasis   \n",
       "2           Illumina [317498]    N     lung carcinoma   \n",
       "3           Illumina [317498]    N     lung carcinoma   \n",
       "4           Illumina [317498]    N     lung carcinoma   \n",
       "\n",
       "                       MAPPED_TRAIT_URI  STUDY ACCESSION  \n",
       "0  http://www.ebi.ac.uk/efo/EFO_0004869       GCST000177  \n",
       "1  http://www.ebi.ac.uk/efo/EFO_0000676       GCST000173  \n",
       "2  http://www.ebi.ac.uk/efo/EFO_0001071       GCST000172  \n",
       "3  http://www.ebi.ac.uk/efo/EFO_0001071       GCST000172  \n",
       "4  http://www.ebi.ac.uk/efo/EFO_0001071       GCST000172  \n",
       "\n",
       "[5 rows x 37 columns]"
      ]
     },
     "execution_count": 4,
     "metadata": {},
     "output_type": "execute_result"
    }
   ],
   "source": [
    "df.head()"
   ]
  },
  {
   "cell_type": "markdown",
   "metadata": {},
   "source": [
    "# Get Relevent Data"
   ]
  },
  {
   "cell_type": "code",
   "execution_count": 17,
   "metadata": {
    "collapsed": true
   },
   "outputs": [],
   "source": [
    "df = df[['DISEASE/TRAIT', 'MAPPED_GENE']]"
   ]
  },
  {
   "cell_type": "code",
   "execution_count": 19,
   "metadata": {},
   "outputs": [
    {
     "data": {
      "text/html": [
       "<div>\n",
       "<style>\n",
       "    .dataframe thead tr:only-child th {\n",
       "        text-align: right;\n",
       "    }\n",
       "\n",
       "    .dataframe thead th {\n",
       "        text-align: left;\n",
       "    }\n",
       "\n",
       "    .dataframe tbody tr th {\n",
       "        vertical-align: top;\n",
       "    }\n",
       "</style>\n",
       "<table border=\"1\" class=\"dataframe\">\n",
       "  <thead>\n",
       "    <tr style=\"text-align: right;\">\n",
       "      <th></th>\n",
       "      <th>DISEASE/TRAIT</th>\n",
       "      <th>MAPPED_GENE</th>\n",
       "    </tr>\n",
       "  </thead>\n",
       "  <tbody>\n",
       "    <tr>\n",
       "      <th>0</th>\n",
       "      <td>YKL-40 levels</td>\n",
       "      <td>CHI3L1</td>\n",
       "    </tr>\n",
       "    <tr>\n",
       "      <th>1</th>\n",
       "      <td>Psoriasis</td>\n",
       "      <td>COG6</td>\n",
       "    </tr>\n",
       "    <tr>\n",
       "      <th>2</th>\n",
       "      <td>Lung cancer</td>\n",
       "      <td>HYKK</td>\n",
       "    </tr>\n",
       "    <tr>\n",
       "      <th>3</th>\n",
       "      <td>Lung cancer</td>\n",
       "      <td>CRPP1 - CRP</td>\n",
       "    </tr>\n",
       "    <tr>\n",
       "      <th>4</th>\n",
       "      <td>Lung cancer</td>\n",
       "      <td>IL1RAP</td>\n",
       "    </tr>\n",
       "    <tr>\n",
       "      <th>5</th>\n",
       "      <td>Lung cancer</td>\n",
       "      <td>HYKK</td>\n",
       "    </tr>\n",
       "    <tr>\n",
       "      <th>6</th>\n",
       "      <td>Nicotine dependence</td>\n",
       "      <td>CHRNA3</td>\n",
       "    </tr>\n",
       "    <tr>\n",
       "      <th>7</th>\n",
       "      <td>Colorectal cancer</td>\n",
       "      <td>CASC8</td>\n",
       "    </tr>\n",
       "    <tr>\n",
       "      <th>8</th>\n",
       "      <td>Colorectal cancer</td>\n",
       "      <td>COLCA1, COLCA2</td>\n",
       "    </tr>\n",
       "    <tr>\n",
       "      <th>9</th>\n",
       "      <td>Colorectal cancer</td>\n",
       "      <td>SMAD7</td>\n",
       "    </tr>\n",
       "  </tbody>\n",
       "</table>\n",
       "</div>"
      ],
      "text/plain": [
       "         DISEASE/TRAIT     MAPPED_GENE\n",
       "0        YKL-40 levels          CHI3L1\n",
       "1            Psoriasis            COG6\n",
       "2          Lung cancer            HYKK\n",
       "3          Lung cancer     CRPP1 - CRP\n",
       "4          Lung cancer          IL1RAP\n",
       "5          Lung cancer            HYKK\n",
       "6  Nicotine dependence          CHRNA3\n",
       "7    Colorectal cancer           CASC8\n",
       "8    Colorectal cancer  COLCA1, COLCA2\n",
       "9    Colorectal cancer           SMAD7"
      ]
     },
     "execution_count": 19,
     "metadata": {},
     "output_type": "execute_result"
    }
   ],
   "source": [
    "df.head(10)"
   ]
  },
  {
   "cell_type": "code",
   "execution_count": 33,
   "metadata": {},
   "outputs": [
    {
     "name": "stdout",
     "output_type": "stream",
     "text": [
      "Progeres: 100%  50085 Out of 50085   \r"
     ]
    }
   ],
   "source": [
    "df_interactions = pd.DataFrame()\n",
    "\n",
    "for i, index in enumerate(df.index):\n",
    "    \n",
    "    progressPercent = ((i+1)/len(df.index))*100\n",
    "\n",
    "    sys.stdout.write(\"Progeres: %d%%  %d Out of %d   \\r\" % (progressPercent, (i+1), len(df.index)))\n",
    "    sys.stdout.flush()\n",
    "    \n",
    "    if type(df.loc[index, 'MAPPED_GENE']) != float:\n",
    "        if ',' in df.loc[index, 'MAPPED_GENE']:\n",
    "            lst1 = df.loc[index, 'MAPPED_GENE'].split(',')\n",
    "        elif '-' in df.loc[index, 'MAPPED_GENE']:\n",
    "            lst1 = df.loc[index, 'MAPPED_GENE'].split('-')\n",
    "        else:\n",
    "            lst1 = [df.loc[index, 'MAPPED_GENE']]\n",
    "        lst2 = [df.loc[index, 'DISEASE/TRAIT']]*(len(lst1))\n",
    "        temp = pd.DataFrame()\n",
    "        temp['Phenotype'] = lst2\n",
    "        temp['Gene Name'] = lst1\n",
    "        df_interactions = pd.concat([df_interactions, temp]) "
   ]
  },
  {
   "cell_type": "code",
   "execution_count": 34,
   "metadata": {},
   "outputs": [
    {
     "data": {
      "text/html": [
       "<div>\n",
       "<style>\n",
       "    .dataframe thead tr:only-child th {\n",
       "        text-align: right;\n",
       "    }\n",
       "\n",
       "    .dataframe thead th {\n",
       "        text-align: left;\n",
       "    }\n",
       "\n",
       "    .dataframe tbody tr th {\n",
       "        vertical-align: top;\n",
       "    }\n",
       "</style>\n",
       "<table border=\"1\" class=\"dataframe\">\n",
       "  <thead>\n",
       "    <tr style=\"text-align: right;\">\n",
       "      <th></th>\n",
       "      <th>Phenotype</th>\n",
       "      <th>Gene Name</th>\n",
       "    </tr>\n",
       "  </thead>\n",
       "  <tbody>\n",
       "    <tr>\n",
       "      <th>0</th>\n",
       "      <td>YKL-40 levels</td>\n",
       "      <td>CHI3L1</td>\n",
       "    </tr>\n",
       "    <tr>\n",
       "      <th>0</th>\n",
       "      <td>Psoriasis</td>\n",
       "      <td>COG6</td>\n",
       "    </tr>\n",
       "    <tr>\n",
       "      <th>0</th>\n",
       "      <td>Lung cancer</td>\n",
       "      <td>HYKK</td>\n",
       "    </tr>\n",
       "    <tr>\n",
       "      <th>0</th>\n",
       "      <td>Lung cancer</td>\n",
       "      <td>CRPP1</td>\n",
       "    </tr>\n",
       "    <tr>\n",
       "      <th>1</th>\n",
       "      <td>Lung cancer</td>\n",
       "      <td>CRP</td>\n",
       "    </tr>\n",
       "    <tr>\n",
       "      <th>0</th>\n",
       "      <td>Lung cancer</td>\n",
       "      <td>IL1RAP</td>\n",
       "    </tr>\n",
       "    <tr>\n",
       "      <th>0</th>\n",
       "      <td>Lung cancer</td>\n",
       "      <td>HYKK</td>\n",
       "    </tr>\n",
       "    <tr>\n",
       "      <th>0</th>\n",
       "      <td>Nicotine dependence</td>\n",
       "      <td>CHRNA3</td>\n",
       "    </tr>\n",
       "    <tr>\n",
       "      <th>0</th>\n",
       "      <td>Colorectal cancer</td>\n",
       "      <td>CASC8</td>\n",
       "    </tr>\n",
       "    <tr>\n",
       "      <th>0</th>\n",
       "      <td>Colorectal cancer</td>\n",
       "      <td>COLCA1</td>\n",
       "    </tr>\n",
       "  </tbody>\n",
       "</table>\n",
       "</div>"
      ],
      "text/plain": [
       "             Phenotype Gene Name\n",
       "0        YKL-40 levels    CHI3L1\n",
       "0            Psoriasis      COG6\n",
       "0          Lung cancer      HYKK\n",
       "0          Lung cancer    CRPP1 \n",
       "1          Lung cancer       CRP\n",
       "0          Lung cancer    IL1RAP\n",
       "0          Lung cancer      HYKK\n",
       "0  Nicotine dependence    CHRNA3\n",
       "0    Colorectal cancer     CASC8\n",
       "0    Colorectal cancer    COLCA1"
      ]
     },
     "execution_count": 34,
     "metadata": {},
     "output_type": "execute_result"
    }
   ],
   "source": [
    "df_interactions.head(10)"
   ]
  },
  {
   "cell_type": "code",
   "execution_count": 35,
   "metadata": {},
   "outputs": [
    {
     "data": {
      "text/plain": [
       "(71968, 2)"
      ]
     },
     "execution_count": 35,
     "metadata": {},
     "output_type": "execute_result"
    }
   ],
   "source": [
    "df_interactions.shape"
   ]
  },
  {
   "cell_type": "markdown",
   "metadata": {},
   "source": [
    "# Map Gene Symbols To Up-to-date Approved Gene Symbols"
   ]
  },
  {
   "cell_type": "code",
   "execution_count": 36,
   "metadata": {},
   "outputs": [],
   "source": [
    "df_interactions.set_index('Gene Name', inplace=True)"
   ]
  },
  {
   "cell_type": "code",
   "execution_count": 37,
   "metadata": {},
   "outputs": [
    {
     "name": "stdout",
     "output_type": "stream",
     "text": [
      "Progeres: 100%  71968 Out of 71968   \r"
     ]
    }
   ],
   "source": [
    "uf.mapgenesymbols(df_interactions)"
   ]
  },
  {
   "cell_type": "markdown",
   "metadata": {},
   "source": [
    "# Drop Duplicates"
   ]
  },
  {
   "cell_type": "code",
   "execution_count": 38,
   "metadata": {
    "collapsed": true
   },
   "outputs": [],
   "source": [
    "df_interactions.reset_index(inplace=True)"
   ]
  },
  {
   "cell_type": "code",
   "execution_count": 39,
   "metadata": {
    "collapsed": true
   },
   "outputs": [],
   "source": [
    "df_interactions.drop_duplicates(inplace=True)"
   ]
  },
  {
   "cell_type": "code",
   "execution_count": 40,
   "metadata": {},
   "outputs": [
    {
     "data": {
      "text/plain": [
       "(18773, 2)"
      ]
     },
     "execution_count": 40,
     "metadata": {},
     "output_type": "execute_result"
    }
   ],
   "source": [
    "df_interactions.shape"
   ]
  },
  {
   "cell_type": "markdown",
   "metadata": {},
   "source": [
    "# Create Binary Matrix"
   ]
  },
  {
   "cell_type": "code",
   "execution_count": 41,
   "metadata": {},
   "outputs": [
    {
     "name": "stdout",
     "output_type": "stream",
     "text": [
      "Progeres: 100%  6990 Out of 6990   \r"
     ]
    }
   ],
   "source": [
    "binary_matrix = uf.createBinaryMatix(df_interactions)"
   ]
  },
  {
   "cell_type": "code",
   "execution_count": 42,
   "metadata": {},
   "outputs": [
    {
     "data": {
      "text/html": [
       "<div>\n",
       "<style>\n",
       "    .dataframe thead tr:only-child th {\n",
       "        text-align: right;\n",
       "    }\n",
       "\n",
       "    .dataframe thead th {\n",
       "        text-align: left;\n",
       "    }\n",
       "\n",
       "    .dataframe tbody tr th {\n",
       "        vertical-align: top;\n",
       "    }\n",
       "</style>\n",
       "<table border=\"1\" class=\"dataframe\">\n",
       "  <thead>\n",
       "    <tr style=\"text-align: right;\">\n",
       "      <th></th>\n",
       "      <th>Circulating phylloquinone levels</th>\n",
       "      <th>Interleukin-2 levels</th>\n",
       "      <th>Body mass index (ever vs never smoking interaction)</th>\n",
       "      <th>Cocaine dependence</th>\n",
       "      <th>Thyroid-associated orbitopathy in graves' disease</th>\n",
       "      <th>Facial morphology (factor 10, width of nasal floor)</th>\n",
       "      <th>Childhood and early adolescence aggressive behavior</th>\n",
       "      <th>Major depressive disorder</th>\n",
       "      <th>Blood pressure measurement (cold pressor test)</th>\n",
       "      <th>Vertical cup-disc ratio</th>\n",
       "      <th>...</th>\n",
       "      <th>Hepatic lipid content in extreme obesity</th>\n",
       "      <th>Ideal cardiovascular health (clinical and behavioural)</th>\n",
       "      <th>Number of children (6+ vs. 0 or 1)</th>\n",
       "      <th>Coronary artery disease or ischemic stroke</th>\n",
       "      <th>Body mass index (joint analysis main effects and physical activity interaction)</th>\n",
       "      <th>Coronary heart disease event reduction in response to statin therapy (interaction)</th>\n",
       "      <th>Spherical equivalent (joint analysis main effects and education interaction)</th>\n",
       "      <th>Response to antipsychotic treatment</th>\n",
       "      <th>Temperament (bipolar disorder)</th>\n",
       "      <th>DDT metabolite (p,p'-DDE levels)</th>\n",
       "    </tr>\n",
       "  </thead>\n",
       "  <tbody>\n",
       "    <tr>\n",
       "      <th>IFNGR2</th>\n",
       "      <td>0</td>\n",
       "      <td>0</td>\n",
       "      <td>0</td>\n",
       "      <td>0</td>\n",
       "      <td>0</td>\n",
       "      <td>0</td>\n",
       "      <td>0</td>\n",
       "      <td>0</td>\n",
       "      <td>0</td>\n",
       "      <td>0</td>\n",
       "      <td>...</td>\n",
       "      <td>0</td>\n",
       "      <td>0</td>\n",
       "      <td>0</td>\n",
       "      <td>0</td>\n",
       "      <td>0</td>\n",
       "      <td>0</td>\n",
       "      <td>0</td>\n",
       "      <td>0</td>\n",
       "      <td>0</td>\n",
       "      <td>0</td>\n",
       "    </tr>\n",
       "    <tr>\n",
       "      <th>TEK</th>\n",
       "      <td>0</td>\n",
       "      <td>0</td>\n",
       "      <td>0</td>\n",
       "      <td>0</td>\n",
       "      <td>0</td>\n",
       "      <td>0</td>\n",
       "      <td>0</td>\n",
       "      <td>0</td>\n",
       "      <td>0</td>\n",
       "      <td>0</td>\n",
       "      <td>...</td>\n",
       "      <td>0</td>\n",
       "      <td>0</td>\n",
       "      <td>0</td>\n",
       "      <td>0</td>\n",
       "      <td>0</td>\n",
       "      <td>0</td>\n",
       "      <td>0</td>\n",
       "      <td>0</td>\n",
       "      <td>0</td>\n",
       "      <td>0</td>\n",
       "    </tr>\n",
       "    <tr>\n",
       "      <th>LIMCH1</th>\n",
       "      <td>0</td>\n",
       "      <td>0</td>\n",
       "      <td>0</td>\n",
       "      <td>0</td>\n",
       "      <td>0</td>\n",
       "      <td>0</td>\n",
       "      <td>0</td>\n",
       "      <td>0</td>\n",
       "      <td>0</td>\n",
       "      <td>0</td>\n",
       "      <td>...</td>\n",
       "      <td>0</td>\n",
       "      <td>0</td>\n",
       "      <td>0</td>\n",
       "      <td>0</td>\n",
       "      <td>0</td>\n",
       "      <td>0</td>\n",
       "      <td>0</td>\n",
       "      <td>0</td>\n",
       "      <td>0</td>\n",
       "      <td>0</td>\n",
       "    </tr>\n",
       "    <tr>\n",
       "      <th>SH3PXD2A</th>\n",
       "      <td>0</td>\n",
       "      <td>0</td>\n",
       "      <td>0</td>\n",
       "      <td>0</td>\n",
       "      <td>0</td>\n",
       "      <td>0</td>\n",
       "      <td>0</td>\n",
       "      <td>0</td>\n",
       "      <td>0</td>\n",
       "      <td>0</td>\n",
       "      <td>...</td>\n",
       "      <td>0</td>\n",
       "      <td>0</td>\n",
       "      <td>0</td>\n",
       "      <td>0</td>\n",
       "      <td>0</td>\n",
       "      <td>0</td>\n",
       "      <td>0</td>\n",
       "      <td>0</td>\n",
       "      <td>0</td>\n",
       "      <td>0</td>\n",
       "    </tr>\n",
       "    <tr>\n",
       "      <th>MICA</th>\n",
       "      <td>0</td>\n",
       "      <td>0</td>\n",
       "      <td>0</td>\n",
       "      <td>0</td>\n",
       "      <td>0</td>\n",
       "      <td>0</td>\n",
       "      <td>0</td>\n",
       "      <td>0</td>\n",
       "      <td>0</td>\n",
       "      <td>0</td>\n",
       "      <td>...</td>\n",
       "      <td>0</td>\n",
       "      <td>0</td>\n",
       "      <td>0</td>\n",
       "      <td>0</td>\n",
       "      <td>0</td>\n",
       "      <td>0</td>\n",
       "      <td>0</td>\n",
       "      <td>0</td>\n",
       "      <td>0</td>\n",
       "      <td>0</td>\n",
       "    </tr>\n",
       "  </tbody>\n",
       "</table>\n",
       "<p>5 rows × 1978 columns</p>\n",
       "</div>"
      ],
      "text/plain": [
       "          Circulating phylloquinone levels  Interleukin-2 levels  \\\n",
       "IFNGR2                                   0                     0   \n",
       "TEK                                      0                     0   \n",
       "LIMCH1                                   0                     0   \n",
       "SH3PXD2A                                 0                     0   \n",
       "MICA                                     0                     0   \n",
       "\n",
       "          Body mass index (ever vs never smoking interaction)  \\\n",
       "IFNGR2                                                    0     \n",
       "TEK                                                       0     \n",
       "LIMCH1                                                    0     \n",
       "SH3PXD2A                                                  0     \n",
       "MICA                                                      0     \n",
       "\n",
       "          Cocaine dependence  \\\n",
       "IFNGR2                     0   \n",
       "TEK                        0   \n",
       "LIMCH1                     0   \n",
       "SH3PXD2A                   0   \n",
       "MICA                       0   \n",
       "\n",
       "          Thyroid-associated orbitopathy in graves' disease  \\\n",
       "IFNGR2                                                    0   \n",
       "TEK                                                       0   \n",
       "LIMCH1                                                    0   \n",
       "SH3PXD2A                                                  0   \n",
       "MICA                                                      0   \n",
       "\n",
       "          Facial morphology (factor 10, width of nasal floor)  \\\n",
       "IFNGR2                                                    0     \n",
       "TEK                                                       0     \n",
       "LIMCH1                                                    0     \n",
       "SH3PXD2A                                                  0     \n",
       "MICA                                                      0     \n",
       "\n",
       "          Childhood and early adolescence aggressive behavior  \\\n",
       "IFNGR2                                                    0     \n",
       "TEK                                                       0     \n",
       "LIMCH1                                                    0     \n",
       "SH3PXD2A                                                  0     \n",
       "MICA                                                      0     \n",
       "\n",
       "          Major depressive disorder  \\\n",
       "IFNGR2                            0   \n",
       "TEK                               0   \n",
       "LIMCH1                            0   \n",
       "SH3PXD2A                          0   \n",
       "MICA                              0   \n",
       "\n",
       "          Blood pressure measurement (cold pressor test)  \\\n",
       "IFNGR2                                                 0   \n",
       "TEK                                                    0   \n",
       "LIMCH1                                                 0   \n",
       "SH3PXD2A                                               0   \n",
       "MICA                                                   0   \n",
       "\n",
       "          Vertical cup-disc ratio                ...                 \\\n",
       "IFNGR2                          0                ...                  \n",
       "TEK                             0                ...                  \n",
       "LIMCH1                          0                ...                  \n",
       "SH3PXD2A                        0                ...                  \n",
       "MICA                            0                ...                  \n",
       "\n",
       "          Hepatic lipid content in extreme obesity  \\\n",
       "IFNGR2                                           0   \n",
       "TEK                                              0   \n",
       "LIMCH1                                           0   \n",
       "SH3PXD2A                                         0   \n",
       "MICA                                             0   \n",
       "\n",
       "          Ideal cardiovascular health (clinical and behavioural)  \\\n",
       "IFNGR2                                                    0        \n",
       "TEK                                                       0        \n",
       "LIMCH1                                                    0        \n",
       "SH3PXD2A                                                  0        \n",
       "MICA                                                      0        \n",
       "\n",
       "          Number of children (6+ vs. 0 or 1)  \\\n",
       "IFNGR2                                     0   \n",
       "TEK                                        0   \n",
       "LIMCH1                                     0   \n",
       "SH3PXD2A                                   0   \n",
       "MICA                                       0   \n",
       "\n",
       "          Coronary artery disease or ischemic stroke  \\\n",
       "IFNGR2                                             0   \n",
       "TEK                                                0   \n",
       "LIMCH1                                             0   \n",
       "SH3PXD2A                                           0   \n",
       "MICA                                               0   \n",
       "\n",
       "          Body mass index (joint analysis main effects and physical activity interaction)  \\\n",
       "IFNGR2                                                    0                                 \n",
       "TEK                                                       0                                 \n",
       "LIMCH1                                                    0                                 \n",
       "SH3PXD2A                                                  0                                 \n",
       "MICA                                                      0                                 \n",
       "\n",
       "          Coronary heart disease event reduction in response to statin therapy (interaction)  \\\n",
       "IFNGR2                                                    0                                    \n",
       "TEK                                                       0                                    \n",
       "LIMCH1                                                    0                                    \n",
       "SH3PXD2A                                                  0                                    \n",
       "MICA                                                      0                                    \n",
       "\n",
       "          Spherical equivalent (joint analysis main effects and education interaction)  \\\n",
       "IFNGR2                                                    0                              \n",
       "TEK                                                       0                              \n",
       "LIMCH1                                                    0                              \n",
       "SH3PXD2A                                                  0                              \n",
       "MICA                                                      0                              \n",
       "\n",
       "          Response to antipsychotic treatment  Temperament (bipolar disorder)  \\\n",
       "IFNGR2                                      0                               0   \n",
       "TEK                                         0                               0   \n",
       "LIMCH1                                      0                               0   \n",
       "SH3PXD2A                                    0                               0   \n",
       "MICA                                        0                               0   \n",
       "\n",
       "          DDT metabolite (p,p'-DDE levels)  \n",
       "IFNGR2                                   0  \n",
       "TEK                                      0  \n",
       "LIMCH1                                   0  \n",
       "SH3PXD2A                                 0  \n",
       "MICA                                     0  \n",
       "\n",
       "[5 rows x 1978 columns]"
      ]
     },
     "execution_count": 42,
     "metadata": {},
     "output_type": "execute_result"
    }
   ],
   "source": [
    "binary_matrix.head()"
   ]
  },
  {
   "cell_type": "code",
   "execution_count": 43,
   "metadata": {},
   "outputs": [
    {
     "data": {
      "text/plain": [
       "(6990, 1978)"
      ]
     },
     "execution_count": 43,
     "metadata": {},
     "output_type": "execute_result"
    }
   ],
   "source": [
    "binary_matrix.shape"
   ]
  },
  {
   "cell_type": "markdown",
   "metadata": {},
   "source": [
    "# Save Binary Matrix"
   ]
  },
  {
   "cell_type": "code",
   "execution_count": 44,
   "metadata": {
    "collapsed": true
   },
   "outputs": [],
   "source": [
    "filename = '~/./Documents/Harmonizome/GWAS Catalog/Output/gwascatalog_pheno_binary_matrix_%s.tsv.zip'% str(datetime.date.today())[0:7].replace('-', '_')\n",
    "binary_matrix.to_csv(filename, sep='\\t', compression='gzip')"
   ]
  },
  {
   "cell_type": "markdown",
   "metadata": {},
   "source": [
    "# Create Gene Set Library"
   ]
  },
  {
   "cell_type": "code",
   "execution_count": 45,
   "metadata": {
    "collapsed": true
   },
   "outputs": [],
   "source": [
    "path = '/Users/moshesilverstein/Documents/Harmonizome/GWAS Catalog/Output/'"
   ]
  },
  {
   "cell_type": "code",
   "execution_count": 46,
   "metadata": {
    "collapsed": true
   },
   "outputs": [],
   "source": [
    "name = 'gwascatalog_pheno_gene_set'"
   ]
  },
  {
   "cell_type": "code",
   "execution_count": 47,
   "metadata": {},
   "outputs": [
    {
     "name": "stdout",
     "output_type": "stream",
     "text": [
      "Progeres: 100%  1978 Out of 1978   \r"
     ]
    }
   ],
   "source": [
    "uf.createUpGeneSetLib(binary_matrix, path, name)"
   ]
  },
  {
   "cell_type": "markdown",
   "metadata": {},
   "source": [
    "# Create Attribute Library"
   ]
  },
  {
   "cell_type": "code",
   "execution_count": 48,
   "metadata": {
    "collapsed": true
   },
   "outputs": [],
   "source": [
    "path = '/Users/moshesilverstein/Documents/Harmonizome/GWAS Catalog/Output/'"
   ]
  },
  {
   "cell_type": "code",
   "execution_count": 49,
   "metadata": {
    "collapsed": true
   },
   "outputs": [],
   "source": [
    "name = 'gwascatalog_pheno_attribute_set'"
   ]
  },
  {
   "cell_type": "code",
   "execution_count": 50,
   "metadata": {},
   "outputs": [
    {
     "name": "stdout",
     "output_type": "stream",
     "text": [
      "Progeres: 100%  6990 Out of 6990   \r"
     ]
    }
   ],
   "source": [
    "uf.createUpAttributeSetLib(binary_matrix, path, name)"
   ]
  },
  {
   "cell_type": "markdown",
   "metadata": {},
   "source": [
    "# Create Gene Similarity Matrix"
   ]
  },
  {
   "cell_type": "code",
   "execution_count": 51,
   "metadata": {
    "collapsed": true
   },
   "outputs": [],
   "source": [
    "gene_similarity_matix = uf.createSimilarityMatrix(binary_matrix, 'jaccard')"
   ]
  },
  {
   "cell_type": "code",
   "execution_count": 52,
   "metadata": {},
   "outputs": [
    {
     "data": {
      "text/html": [
       "<div>\n",
       "<style>\n",
       "    .dataframe thead tr:only-child th {\n",
       "        text-align: right;\n",
       "    }\n",
       "\n",
       "    .dataframe thead th {\n",
       "        text-align: left;\n",
       "    }\n",
       "\n",
       "    .dataframe tbody tr th {\n",
       "        vertical-align: top;\n",
       "    }\n",
       "</style>\n",
       "<table border=\"1\" class=\"dataframe\">\n",
       "  <thead>\n",
       "    <tr style=\"text-align: right;\">\n",
       "      <th></th>\n",
       "      <th>IFNGR2</th>\n",
       "      <th>TEK</th>\n",
       "      <th>LIMCH1</th>\n",
       "      <th>SH3PXD2A</th>\n",
       "      <th>MICA</th>\n",
       "      <th>SDK2</th>\n",
       "      <th>POU1F1</th>\n",
       "      <th>CARD9</th>\n",
       "      <th>VAX2</th>\n",
       "      <th>IL1RAPL1</th>\n",
       "      <th>...</th>\n",
       "      <th>HCG23</th>\n",
       "      <th>PEBP4</th>\n",
       "      <th>CNNM2</th>\n",
       "      <th>FBXO47</th>\n",
       "      <th>SLC38A4</th>\n",
       "      <th>YTHDF3</th>\n",
       "      <th>SLBP</th>\n",
       "      <th>DIS3</th>\n",
       "      <th>NARF</th>\n",
       "      <th>MARK3</th>\n",
       "    </tr>\n",
       "  </thead>\n",
       "  <tbody>\n",
       "    <tr>\n",
       "      <th>IFNGR2</th>\n",
       "      <td>1.0</td>\n",
       "      <td>0.000000</td>\n",
       "      <td>0.0</td>\n",
       "      <td>0.0</td>\n",
       "      <td>0.000000</td>\n",
       "      <td>0.0</td>\n",
       "      <td>0.0</td>\n",
       "      <td>0.375</td>\n",
       "      <td>0.0</td>\n",
       "      <td>0.0</td>\n",
       "      <td>...</td>\n",
       "      <td>0.0</td>\n",
       "      <td>0.0</td>\n",
       "      <td>0.0000</td>\n",
       "      <td>0.25</td>\n",
       "      <td>0.0</td>\n",
       "      <td>0.0</td>\n",
       "      <td>0.000000</td>\n",
       "      <td>0.0</td>\n",
       "      <td>0.0</td>\n",
       "      <td>0.0</td>\n",
       "    </tr>\n",
       "    <tr>\n",
       "      <th>TEK</th>\n",
       "      <td>0.0</td>\n",
       "      <td>1.000000</td>\n",
       "      <td>0.0</td>\n",
       "      <td>0.0</td>\n",
       "      <td>0.083333</td>\n",
       "      <td>0.0</td>\n",
       "      <td>0.0</td>\n",
       "      <td>0.000</td>\n",
       "      <td>0.0</td>\n",
       "      <td>0.0</td>\n",
       "      <td>...</td>\n",
       "      <td>0.0</td>\n",
       "      <td>0.0</td>\n",
       "      <td>0.0625</td>\n",
       "      <td>0.00</td>\n",
       "      <td>0.0</td>\n",
       "      <td>0.0</td>\n",
       "      <td>0.000000</td>\n",
       "      <td>0.0</td>\n",
       "      <td>0.0</td>\n",
       "      <td>0.0</td>\n",
       "    </tr>\n",
       "    <tr>\n",
       "      <th>LIMCH1</th>\n",
       "      <td>0.0</td>\n",
       "      <td>0.000000</td>\n",
       "      <td>1.0</td>\n",
       "      <td>0.0</td>\n",
       "      <td>0.000000</td>\n",
       "      <td>0.0</td>\n",
       "      <td>0.0</td>\n",
       "      <td>0.000</td>\n",
       "      <td>0.0</td>\n",
       "      <td>0.0</td>\n",
       "      <td>...</td>\n",
       "      <td>0.0</td>\n",
       "      <td>0.0</td>\n",
       "      <td>0.0000</td>\n",
       "      <td>0.00</td>\n",
       "      <td>0.0</td>\n",
       "      <td>0.0</td>\n",
       "      <td>0.000000</td>\n",
       "      <td>0.0</td>\n",
       "      <td>0.0</td>\n",
       "      <td>0.0</td>\n",
       "    </tr>\n",
       "    <tr>\n",
       "      <th>SH3PXD2A</th>\n",
       "      <td>0.0</td>\n",
       "      <td>0.000000</td>\n",
       "      <td>0.0</td>\n",
       "      <td>1.0</td>\n",
       "      <td>0.000000</td>\n",
       "      <td>0.0</td>\n",
       "      <td>0.0</td>\n",
       "      <td>0.000</td>\n",
       "      <td>0.0</td>\n",
       "      <td>0.0</td>\n",
       "      <td>...</td>\n",
       "      <td>0.0</td>\n",
       "      <td>0.0</td>\n",
       "      <td>0.0000</td>\n",
       "      <td>0.00</td>\n",
       "      <td>0.0</td>\n",
       "      <td>0.0</td>\n",
       "      <td>0.000000</td>\n",
       "      <td>0.0</td>\n",
       "      <td>0.0</td>\n",
       "      <td>0.0</td>\n",
       "    </tr>\n",
       "    <tr>\n",
       "      <th>MICA</th>\n",
       "      <td>0.0</td>\n",
       "      <td>0.083333</td>\n",
       "      <td>0.0</td>\n",
       "      <td>0.0</td>\n",
       "      <td>1.000000</td>\n",
       "      <td>0.0</td>\n",
       "      <td>0.0</td>\n",
       "      <td>0.000</td>\n",
       "      <td>0.0</td>\n",
       "      <td>0.0</td>\n",
       "      <td>...</td>\n",
       "      <td>0.0</td>\n",
       "      <td>0.0</td>\n",
       "      <td>0.0000</td>\n",
       "      <td>0.00</td>\n",
       "      <td>0.0</td>\n",
       "      <td>0.0</td>\n",
       "      <td>0.111111</td>\n",
       "      <td>0.0</td>\n",
       "      <td>0.0</td>\n",
       "      <td>0.0</td>\n",
       "    </tr>\n",
       "  </tbody>\n",
       "</table>\n",
       "<p>5 rows × 6990 columns</p>\n",
       "</div>"
      ],
      "text/plain": [
       "          IFNGR2       TEK  LIMCH1  SH3PXD2A      MICA  SDK2  POU1F1  CARD9  \\\n",
       "IFNGR2       1.0  0.000000     0.0       0.0  0.000000   0.0     0.0  0.375   \n",
       "TEK          0.0  1.000000     0.0       0.0  0.083333   0.0     0.0  0.000   \n",
       "LIMCH1       0.0  0.000000     1.0       0.0  0.000000   0.0     0.0  0.000   \n",
       "SH3PXD2A     0.0  0.000000     0.0       1.0  0.000000   0.0     0.0  0.000   \n",
       "MICA         0.0  0.083333     0.0       0.0  1.000000   0.0     0.0  0.000   \n",
       "\n",
       "          VAX2  IL1RAPL1  ...    HCG23  PEBP4   CNNM2  FBXO47  SLC38A4  \\\n",
       "IFNGR2     0.0       0.0  ...      0.0    0.0  0.0000    0.25      0.0   \n",
       "TEK        0.0       0.0  ...      0.0    0.0  0.0625    0.00      0.0   \n",
       "LIMCH1     0.0       0.0  ...      0.0    0.0  0.0000    0.00      0.0   \n",
       "SH3PXD2A   0.0       0.0  ...      0.0    0.0  0.0000    0.00      0.0   \n",
       "MICA       0.0       0.0  ...      0.0    0.0  0.0000    0.00      0.0   \n",
       "\n",
       "          YTHDF3      SLBP  DIS3  NARF  MARK3  \n",
       "IFNGR2       0.0  0.000000   0.0   0.0    0.0  \n",
       "TEK          0.0  0.000000   0.0   0.0    0.0  \n",
       "LIMCH1       0.0  0.000000   0.0   0.0    0.0  \n",
       "SH3PXD2A     0.0  0.000000   0.0   0.0    0.0  \n",
       "MICA         0.0  0.111111   0.0   0.0    0.0  \n",
       "\n",
       "[5 rows x 6990 columns]"
      ]
     },
     "execution_count": 52,
     "metadata": {},
     "output_type": "execute_result"
    }
   ],
   "source": [
    "gene_similarity_matix.head()"
   ]
  },
  {
   "cell_type": "markdown",
   "metadata": {},
   "source": [
    "# Save Gene Similarity Matrix"
   ]
  },
  {
   "cell_type": "code",
   "execution_count": 53,
   "metadata": {
    "collapsed": true
   },
   "outputs": [],
   "source": [
    "filename = '~/./Documents/Harmonizome/GWAS Catalog/Output/gwascatalog_pheno_gene_similarity_matix_%s.tsv.zip'% str(datetime.date.today())[0:7].replace('-', '_')\n",
    "gene_similarity_matix.to_csv(filename, sep='\\t', compression='gzip')"
   ]
  },
  {
   "cell_type": "markdown",
   "metadata": {},
   "source": [
    "# Create Attribute Similarity matrix"
   ]
  },
  {
   "cell_type": "code",
   "execution_count": 54,
   "metadata": {
    "collapsed": true
   },
   "outputs": [],
   "source": [
    "attribute_similarity_matix = uf.createSimilarityMatrix(binary_matrix.T, 'jaccard')"
   ]
  },
  {
   "cell_type": "code",
   "execution_count": 55,
   "metadata": {},
   "outputs": [
    {
     "data": {
      "text/html": [
       "<div>\n",
       "<style>\n",
       "    .dataframe thead tr:only-child th {\n",
       "        text-align: right;\n",
       "    }\n",
       "\n",
       "    .dataframe thead th {\n",
       "        text-align: left;\n",
       "    }\n",
       "\n",
       "    .dataframe tbody tr th {\n",
       "        vertical-align: top;\n",
       "    }\n",
       "</style>\n",
       "<table border=\"1\" class=\"dataframe\">\n",
       "  <thead>\n",
       "    <tr style=\"text-align: right;\">\n",
       "      <th></th>\n",
       "      <th>Circulating phylloquinone levels</th>\n",
       "      <th>Interleukin-2 levels</th>\n",
       "      <th>Body mass index (ever vs never smoking interaction)</th>\n",
       "      <th>Cocaine dependence</th>\n",
       "      <th>Thyroid-associated orbitopathy in graves' disease</th>\n",
       "      <th>Facial morphology (factor 10, width of nasal floor)</th>\n",
       "      <th>Childhood and early adolescence aggressive behavior</th>\n",
       "      <th>Major depressive disorder</th>\n",
       "      <th>Blood pressure measurement (cold pressor test)</th>\n",
       "      <th>Vertical cup-disc ratio</th>\n",
       "      <th>...</th>\n",
       "      <th>Hepatic lipid content in extreme obesity</th>\n",
       "      <th>Ideal cardiovascular health (clinical and behavioural)</th>\n",
       "      <th>Number of children (6+ vs. 0 or 1)</th>\n",
       "      <th>Coronary artery disease or ischemic stroke</th>\n",
       "      <th>Body mass index (joint analysis main effects and physical activity interaction)</th>\n",
       "      <th>Coronary heart disease event reduction in response to statin therapy (interaction)</th>\n",
       "      <th>Spherical equivalent (joint analysis main effects and education interaction)</th>\n",
       "      <th>Response to antipsychotic treatment</th>\n",
       "      <th>Temperament (bipolar disorder)</th>\n",
       "      <th>DDT metabolite (p,p'-DDE levels)</th>\n",
       "    </tr>\n",
       "  </thead>\n",
       "  <tbody>\n",
       "    <tr>\n",
       "      <th>Circulating phylloquinone levels</th>\n",
       "      <td>1.0</td>\n",
       "      <td>0.0</td>\n",
       "      <td>0.0</td>\n",
       "      <td>0.0</td>\n",
       "      <td>0.0</td>\n",
       "      <td>0.000000</td>\n",
       "      <td>0.0</td>\n",
       "      <td>0.0</td>\n",
       "      <td>0.0</td>\n",
       "      <td>0.000000</td>\n",
       "      <td>...</td>\n",
       "      <td>0.0</td>\n",
       "      <td>0.0</td>\n",
       "      <td>0.0</td>\n",
       "      <td>0.0</td>\n",
       "      <td>0.0</td>\n",
       "      <td>0.0</td>\n",
       "      <td>0.0</td>\n",
       "      <td>0.0</td>\n",
       "      <td>0.0</td>\n",
       "      <td>0.0</td>\n",
       "    </tr>\n",
       "    <tr>\n",
       "      <th>Interleukin-2 levels</th>\n",
       "      <td>0.0</td>\n",
       "      <td>1.0</td>\n",
       "      <td>0.0</td>\n",
       "      <td>0.0</td>\n",
       "      <td>0.0</td>\n",
       "      <td>0.000000</td>\n",
       "      <td>0.0</td>\n",
       "      <td>0.0</td>\n",
       "      <td>0.0</td>\n",
       "      <td>0.029412</td>\n",
       "      <td>...</td>\n",
       "      <td>0.0</td>\n",
       "      <td>0.0</td>\n",
       "      <td>0.0</td>\n",
       "      <td>0.0</td>\n",
       "      <td>0.0</td>\n",
       "      <td>0.0</td>\n",
       "      <td>0.0</td>\n",
       "      <td>0.0</td>\n",
       "      <td>0.0</td>\n",
       "      <td>0.0</td>\n",
       "    </tr>\n",
       "    <tr>\n",
       "      <th>Body mass index (ever vs never smoking interaction)</th>\n",
       "      <td>0.0</td>\n",
       "      <td>0.0</td>\n",
       "      <td>1.0</td>\n",
       "      <td>0.0</td>\n",
       "      <td>0.0</td>\n",
       "      <td>0.000000</td>\n",
       "      <td>0.0</td>\n",
       "      <td>0.0</td>\n",
       "      <td>0.0</td>\n",
       "      <td>0.000000</td>\n",
       "      <td>...</td>\n",
       "      <td>0.0</td>\n",
       "      <td>0.0</td>\n",
       "      <td>0.0</td>\n",
       "      <td>0.0</td>\n",
       "      <td>0.0</td>\n",
       "      <td>0.0</td>\n",
       "      <td>0.0</td>\n",
       "      <td>0.0</td>\n",
       "      <td>0.0</td>\n",
       "      <td>0.0</td>\n",
       "    </tr>\n",
       "    <tr>\n",
       "      <th>Cocaine dependence</th>\n",
       "      <td>0.0</td>\n",
       "      <td>0.0</td>\n",
       "      <td>0.0</td>\n",
       "      <td>1.0</td>\n",
       "      <td>0.0</td>\n",
       "      <td>0.000000</td>\n",
       "      <td>0.0</td>\n",
       "      <td>0.0</td>\n",
       "      <td>0.0</td>\n",
       "      <td>0.000000</td>\n",
       "      <td>...</td>\n",
       "      <td>0.0</td>\n",
       "      <td>0.0</td>\n",
       "      <td>0.0</td>\n",
       "      <td>0.0</td>\n",
       "      <td>0.0</td>\n",
       "      <td>0.0</td>\n",
       "      <td>0.0</td>\n",
       "      <td>0.0</td>\n",
       "      <td>0.0</td>\n",
       "      <td>0.0</td>\n",
       "    </tr>\n",
       "    <tr>\n",
       "      <th>Thyroid-associated orbitopathy in graves' disease</th>\n",
       "      <td>0.0</td>\n",
       "      <td>0.0</td>\n",
       "      <td>0.0</td>\n",
       "      <td>0.0</td>\n",
       "      <td>1.0</td>\n",
       "      <td>0.166667</td>\n",
       "      <td>0.0</td>\n",
       "      <td>0.0</td>\n",
       "      <td>0.0</td>\n",
       "      <td>0.000000</td>\n",
       "      <td>...</td>\n",
       "      <td>0.0</td>\n",
       "      <td>0.0</td>\n",
       "      <td>0.0</td>\n",
       "      <td>0.0</td>\n",
       "      <td>0.0</td>\n",
       "      <td>0.0</td>\n",
       "      <td>0.0</td>\n",
       "      <td>0.0</td>\n",
       "      <td>0.0</td>\n",
       "      <td>0.0</td>\n",
       "    </tr>\n",
       "  </tbody>\n",
       "</table>\n",
       "<p>5 rows × 1978 columns</p>\n",
       "</div>"
      ],
      "text/plain": [
       "                                                    Circulating phylloquinone levels  \\\n",
       "Circulating phylloquinone levels                                                 1.0   \n",
       "Interleukin-2 levels                                                             0.0   \n",
       "Body mass index (ever vs never smoking interact...                               0.0   \n",
       "Cocaine dependence                                                               0.0   \n",
       "Thyroid-associated orbitopathy in graves' disease                                0.0   \n",
       "\n",
       "                                                    Interleukin-2 levels  \\\n",
       "Circulating phylloquinone levels                                     0.0   \n",
       "Interleukin-2 levels                                                 1.0   \n",
       "Body mass index (ever vs never smoking interact...                   0.0   \n",
       "Cocaine dependence                                                   0.0   \n",
       "Thyroid-associated orbitopathy in graves' disease                    0.0   \n",
       "\n",
       "                                                    Body mass index (ever vs never smoking interaction)  \\\n",
       "Circulating phylloquinone levels                                                                  0.0     \n",
       "Interleukin-2 levels                                                                              0.0     \n",
       "Body mass index (ever vs never smoking interact...                                                1.0     \n",
       "Cocaine dependence                                                                                0.0     \n",
       "Thyroid-associated orbitopathy in graves' disease                                                 0.0     \n",
       "\n",
       "                                                    Cocaine dependence  \\\n",
       "Circulating phylloquinone levels                                   0.0   \n",
       "Interleukin-2 levels                                               0.0   \n",
       "Body mass index (ever vs never smoking interact...                 0.0   \n",
       "Cocaine dependence                                                 1.0   \n",
       "Thyroid-associated orbitopathy in graves' disease                  0.0   \n",
       "\n",
       "                                                    Thyroid-associated orbitopathy in graves' disease  \\\n",
       "Circulating phylloquinone levels                                                                  0.0   \n",
       "Interleukin-2 levels                                                                              0.0   \n",
       "Body mass index (ever vs never smoking interact...                                                0.0   \n",
       "Cocaine dependence                                                                                0.0   \n",
       "Thyroid-associated orbitopathy in graves' disease                                                 1.0   \n",
       "\n",
       "                                                    Facial morphology (factor 10, width of nasal floor)  \\\n",
       "Circulating phylloquinone levels                                                             0.000000     \n",
       "Interleukin-2 levels                                                                         0.000000     \n",
       "Body mass index (ever vs never smoking interact...                                           0.000000     \n",
       "Cocaine dependence                                                                           0.000000     \n",
       "Thyroid-associated orbitopathy in graves' disease                                            0.166667     \n",
       "\n",
       "                                                    Childhood and early adolescence aggressive behavior  \\\n",
       "Circulating phylloquinone levels                                                                  0.0     \n",
       "Interleukin-2 levels                                                                              0.0     \n",
       "Body mass index (ever vs never smoking interact...                                                0.0     \n",
       "Cocaine dependence                                                                                0.0     \n",
       "Thyroid-associated orbitopathy in graves' disease                                                 0.0     \n",
       "\n",
       "                                                    Major depressive disorder  \\\n",
       "Circulating phylloquinone levels                                          0.0   \n",
       "Interleukin-2 levels                                                      0.0   \n",
       "Body mass index (ever vs never smoking interact...                        0.0   \n",
       "Cocaine dependence                                                        0.0   \n",
       "Thyroid-associated orbitopathy in graves' disease                         0.0   \n",
       "\n",
       "                                                    Blood pressure measurement (cold pressor test)  \\\n",
       "Circulating phylloquinone levels                                                               0.0   \n",
       "Interleukin-2 levels                                                                           0.0   \n",
       "Body mass index (ever vs never smoking interact...                                             0.0   \n",
       "Cocaine dependence                                                                             0.0   \n",
       "Thyroid-associated orbitopathy in graves' disease                                              0.0   \n",
       "\n",
       "                                                    Vertical cup-disc ratio  \\\n",
       "Circulating phylloquinone levels                                   0.000000   \n",
       "Interleukin-2 levels                                               0.029412   \n",
       "Body mass index (ever vs never smoking interact...                 0.000000   \n",
       "Cocaine dependence                                                 0.000000   \n",
       "Thyroid-associated orbitopathy in graves' disease                  0.000000   \n",
       "\n",
       "                                                                  ...                 \\\n",
       "Circulating phylloquinone levels                                  ...                  \n",
       "Interleukin-2 levels                                              ...                  \n",
       "Body mass index (ever vs never smoking interact...                ...                  \n",
       "Cocaine dependence                                                ...                  \n",
       "Thyroid-associated orbitopathy in graves' disease                 ...                  \n",
       "\n",
       "                                                    Hepatic lipid content in extreme obesity  \\\n",
       "Circulating phylloquinone levels                                                         0.0   \n",
       "Interleukin-2 levels                                                                     0.0   \n",
       "Body mass index (ever vs never smoking interact...                                       0.0   \n",
       "Cocaine dependence                                                                       0.0   \n",
       "Thyroid-associated orbitopathy in graves' disease                                        0.0   \n",
       "\n",
       "                                                    Ideal cardiovascular health (clinical and behavioural)  \\\n",
       "Circulating phylloquinone levels                                                                  0.0        \n",
       "Interleukin-2 levels                                                                              0.0        \n",
       "Body mass index (ever vs never smoking interact...                                                0.0        \n",
       "Cocaine dependence                                                                                0.0        \n",
       "Thyroid-associated orbitopathy in graves' disease                                                 0.0        \n",
       "\n",
       "                                                    Number of children (6+ vs. 0 or 1)  \\\n",
       "Circulating phylloquinone levels                                                   0.0   \n",
       "Interleukin-2 levels                                                               0.0   \n",
       "Body mass index (ever vs never smoking interact...                                 0.0   \n",
       "Cocaine dependence                                                                 0.0   \n",
       "Thyroid-associated orbitopathy in graves' disease                                  0.0   \n",
       "\n",
       "                                                    Coronary artery disease or ischemic stroke  \\\n",
       "Circulating phylloquinone levels                                                           0.0   \n",
       "Interleukin-2 levels                                                                       0.0   \n",
       "Body mass index (ever vs never smoking interact...                                         0.0   \n",
       "Cocaine dependence                                                                         0.0   \n",
       "Thyroid-associated orbitopathy in graves' disease                                          0.0   \n",
       "\n",
       "                                                    Body mass index (joint analysis main effects and physical activity interaction)  \\\n",
       "Circulating phylloquinone levels                                                                  0.0                                 \n",
       "Interleukin-2 levels                                                                              0.0                                 \n",
       "Body mass index (ever vs never smoking interact...                                                0.0                                 \n",
       "Cocaine dependence                                                                                0.0                                 \n",
       "Thyroid-associated orbitopathy in graves' disease                                                 0.0                                 \n",
       "\n",
       "                                                    Coronary heart disease event reduction in response to statin therapy (interaction)  \\\n",
       "Circulating phylloquinone levels                                                                  0.0                                    \n",
       "Interleukin-2 levels                                                                              0.0                                    \n",
       "Body mass index (ever vs never smoking interact...                                                0.0                                    \n",
       "Cocaine dependence                                                                                0.0                                    \n",
       "Thyroid-associated orbitopathy in graves' disease                                                 0.0                                    \n",
       "\n",
       "                                                    Spherical equivalent (joint analysis main effects and education interaction)  \\\n",
       "Circulating phylloquinone levels                                                                  0.0                              \n",
       "Interleukin-2 levels                                                                              0.0                              \n",
       "Body mass index (ever vs never smoking interact...                                                0.0                              \n",
       "Cocaine dependence                                                                                0.0                              \n",
       "Thyroid-associated orbitopathy in graves' disease                                                 0.0                              \n",
       "\n",
       "                                                    Response to antipsychotic treatment  \\\n",
       "Circulating phylloquinone levels                                                    0.0   \n",
       "Interleukin-2 levels                                                                0.0   \n",
       "Body mass index (ever vs never smoking interact...                                  0.0   \n",
       "Cocaine dependence                                                                  0.0   \n",
       "Thyroid-associated orbitopathy in graves' disease                                   0.0   \n",
       "\n",
       "                                                    Temperament (bipolar disorder)  \\\n",
       "Circulating phylloquinone levels                                               0.0   \n",
       "Interleukin-2 levels                                                           0.0   \n",
       "Body mass index (ever vs never smoking interact...                             0.0   \n",
       "Cocaine dependence                                                             0.0   \n",
       "Thyroid-associated orbitopathy in graves' disease                              0.0   \n",
       "\n",
       "                                                    DDT metabolite (p,p'-DDE levels)  \n",
       "Circulating phylloquinone levels                                                 0.0  \n",
       "Interleukin-2 levels                                                             0.0  \n",
       "Body mass index (ever vs never smoking interact...                               0.0  \n",
       "Cocaine dependence                                                               0.0  \n",
       "Thyroid-associated orbitopathy in graves' disease                                0.0  \n",
       "\n",
       "[5 rows x 1978 columns]"
      ]
     },
     "execution_count": 55,
     "metadata": {},
     "output_type": "execute_result"
    }
   ],
   "source": [
    "attribute_similarity_matix.head()"
   ]
  },
  {
   "cell_type": "markdown",
   "metadata": {},
   "source": [
    "# Save Attribute Similarity Matrix"
   ]
  },
  {
   "cell_type": "code",
   "execution_count": 56,
   "metadata": {
    "collapsed": true
   },
   "outputs": [],
   "source": [
    "filename = '~/./Documents/Harmonizome/GWAS Catalog/Output/gwascatalog_pheno_attribute_similarity_matix_%s.tsv.zip'% str(datetime.date.today())[0:7].replace('-', '_')\n",
    "attribute_similarity_matix.to_csv(filename, sep='\\t', compression='gzip')"
   ]
  },
  {
   "cell_type": "markdown",
   "metadata": {},
   "source": [
    "# Create Gene List"
   ]
  },
  {
   "cell_type": "code",
   "execution_count": 57,
   "metadata": {},
   "outputs": [
    {
     "name": "stdout",
     "output_type": "stream",
     "text": [
      "Progeres: 100%  6990 Out of 6990   \r"
     ]
    }
   ],
   "source": [
    "gene_list = uf.createGeneList(binary_matrix)"
   ]
  },
  {
   "cell_type": "code",
   "execution_count": 58,
   "metadata": {},
   "outputs": [
    {
     "data": {
      "text/html": [
       "<div>\n",
       "<style>\n",
       "    .dataframe thead tr:only-child th {\n",
       "        text-align: right;\n",
       "    }\n",
       "\n",
       "    .dataframe thead th {\n",
       "        text-align: left;\n",
       "    }\n",
       "\n",
       "    .dataframe tbody tr th {\n",
       "        vertical-align: top;\n",
       "    }\n",
       "</style>\n",
       "<table border=\"1\" class=\"dataframe\">\n",
       "  <thead>\n",
       "    <tr style=\"text-align: right;\">\n",
       "      <th></th>\n",
       "      <th>GeneSym</th>\n",
       "      <th>GeneID</th>\n",
       "    </tr>\n",
       "  </thead>\n",
       "  <tbody>\n",
       "    <tr>\n",
       "      <th>0</th>\n",
       "      <td>IFNGR2</td>\n",
       "      <td>3460</td>\n",
       "    </tr>\n",
       "    <tr>\n",
       "      <th>1</th>\n",
       "      <td>TEK</td>\n",
       "      <td>7010</td>\n",
       "    </tr>\n",
       "    <tr>\n",
       "      <th>2</th>\n",
       "      <td>LIMCH1</td>\n",
       "      <td>22998</td>\n",
       "    </tr>\n",
       "    <tr>\n",
       "      <th>3</th>\n",
       "      <td>SH3PXD2A</td>\n",
       "      <td>9644</td>\n",
       "    </tr>\n",
       "    <tr>\n",
       "      <th>4</th>\n",
       "      <td>MICA</td>\n",
       "      <td>1.00507e+08</td>\n",
       "    </tr>\n",
       "  </tbody>\n",
       "</table>\n",
       "</div>"
      ],
      "text/plain": [
       "    GeneSym       GeneID\n",
       "0    IFNGR2         3460\n",
       "1       TEK         7010\n",
       "2    LIMCH1        22998\n",
       "3  SH3PXD2A         9644\n",
       "4      MICA  1.00507e+08"
      ]
     },
     "execution_count": 58,
     "metadata": {},
     "output_type": "execute_result"
    }
   ],
   "source": [
    "gene_list.head()"
   ]
  },
  {
   "cell_type": "code",
   "execution_count": 59,
   "metadata": {},
   "outputs": [
    {
     "data": {
      "text/plain": [
       "(6990, 2)"
      ]
     },
     "execution_count": 59,
     "metadata": {},
     "output_type": "execute_result"
    }
   ],
   "source": [
    "gene_list.shape"
   ]
  },
  {
   "cell_type": "markdown",
   "metadata": {},
   "source": [
    "# Save Gene List"
   ]
  },
  {
   "cell_type": "code",
   "execution_count": 60,
   "metadata": {
    "collapsed": true
   },
   "outputs": [],
   "source": [
    "filename = '~/./Documents/Harmonizome/GWAS Catalog/Output/gwascatalog_pheno_gene_list_%s.tsv.zip'% str(datetime.date.today())[0:7].replace('-', '_')\n",
    "gene_list.to_csv(filename, sep='\\t', index=False, compression='gzip')"
   ]
  },
  {
   "cell_type": "markdown",
   "metadata": {},
   "source": [
    "# Create Attribute List"
   ]
  },
  {
   "cell_type": "code",
   "execution_count": 61,
   "metadata": {
    "collapsed": true
   },
   "outputs": [],
   "source": [
    "attribute_list = uf.createAttributeList(binary_matrix)"
   ]
  },
  {
   "cell_type": "code",
   "execution_count": 62,
   "metadata": {},
   "outputs": [
    {
     "data": {
      "text/html": [
       "<div>\n",
       "<style>\n",
       "    .dataframe thead tr:only-child th {\n",
       "        text-align: right;\n",
       "    }\n",
       "\n",
       "    .dataframe thead th {\n",
       "        text-align: left;\n",
       "    }\n",
       "\n",
       "    .dataframe tbody tr th {\n",
       "        vertical-align: top;\n",
       "    }\n",
       "</style>\n",
       "<table border=\"1\" class=\"dataframe\">\n",
       "  <thead>\n",
       "    <tr style=\"text-align: right;\">\n",
       "      <th></th>\n",
       "      <th>Attributes</th>\n",
       "    </tr>\n",
       "  </thead>\n",
       "  <tbody>\n",
       "    <tr>\n",
       "      <th>0</th>\n",
       "      <td>Circulating phylloquinone levels</td>\n",
       "    </tr>\n",
       "    <tr>\n",
       "      <th>1</th>\n",
       "      <td>Interleukin-2 levels</td>\n",
       "    </tr>\n",
       "    <tr>\n",
       "      <th>2</th>\n",
       "      <td>Body mass index (ever vs never smoking interac...</td>\n",
       "    </tr>\n",
       "    <tr>\n",
       "      <th>3</th>\n",
       "      <td>Cocaine dependence</td>\n",
       "    </tr>\n",
       "    <tr>\n",
       "      <th>4</th>\n",
       "      <td>Thyroid-associated orbitopathy in graves' disease</td>\n",
       "    </tr>\n",
       "  </tbody>\n",
       "</table>\n",
       "</div>"
      ],
      "text/plain": [
       "                                          Attributes\n",
       "0                   Circulating phylloquinone levels\n",
       "1                               Interleukin-2 levels\n",
       "2  Body mass index (ever vs never smoking interac...\n",
       "3                                 Cocaine dependence\n",
       "4  Thyroid-associated orbitopathy in graves' disease"
      ]
     },
     "execution_count": 62,
     "metadata": {},
     "output_type": "execute_result"
    }
   ],
   "source": [
    "attribute_list.head()"
   ]
  },
  {
   "cell_type": "code",
   "execution_count": 63,
   "metadata": {},
   "outputs": [
    {
     "data": {
      "text/plain": [
       "(1978, 1)"
      ]
     },
     "execution_count": 63,
     "metadata": {},
     "output_type": "execute_result"
    }
   ],
   "source": [
    "attribute_list.shape"
   ]
  },
  {
   "cell_type": "markdown",
   "metadata": {},
   "source": [
    "# Save Attribute List"
   ]
  },
  {
   "cell_type": "code",
   "execution_count": 64,
   "metadata": {
    "collapsed": true
   },
   "outputs": [],
   "source": [
    "filename = '~/./Documents/Harmonizome/GWAS Catalog/Output/gwascatalog_pheno_attribute_list_%s.tsv.zip'% str(datetime.date.today())[0:7].replace('-', '_')\n",
    "attribute_list.to_csv(filename, sep='\\t', index=False, compression='gzip')"
   ]
  },
  {
   "cell_type": "markdown",
   "metadata": {},
   "source": [
    "# Create Gene-Attribute Edge List"
   ]
  },
  {
   "cell_type": "code",
   "execution_count": 65,
   "metadata": {
    "collapsed": true
   },
   "outputs": [],
   "source": [
    "path = '/Users/moshesilverstein/Documents/Harmonizome/GWAS Catalog/Output/'"
   ]
  },
  {
   "cell_type": "code",
   "execution_count": 66,
   "metadata": {
    "collapsed": true
   },
   "outputs": [],
   "source": [
    "name = 'gwascatalog_pheno_gene_attribute_edge_list'"
   ]
  },
  {
   "cell_type": "code",
   "execution_count": 67,
   "metadata": {},
   "outputs": [
    {
     "name": "stdout",
     "output_type": "stream",
     "text": [
      "Progeres: 100%  1978 Out of 1978   \n",
      "\n",
      " The number of statisticaly relevent gene-attribute associations is: 18773\n"
     ]
    }
   ],
   "source": [
    "uf.createGeneAttributeEdgeList(binary_matrix, gene_list, path, name)"
   ]
  }
 ],
 "metadata": {
  "kernelspec": {
   "display_name": "Python [default]",
   "language": "python",
   "name": "python3"
  },
  "language_info": {
   "codemirror_mode": {
    "name": "ipython",
    "version": 3
   },
   "file_extension": ".py",
   "mimetype": "text/x-python",
   "name": "python",
   "nbconvert_exporter": "python",
   "pygments_lexer": "ipython3",
   "version": "3.5.2"
  }
 },
 "nbformat": 4,
 "nbformat_minor": 2
}
