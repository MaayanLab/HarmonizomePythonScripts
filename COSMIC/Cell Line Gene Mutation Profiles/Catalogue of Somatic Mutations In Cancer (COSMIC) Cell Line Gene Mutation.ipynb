{
 "cells": [
  {
   "cell_type": "markdown",
   "metadata": {},
   "source": [
    "# Catalogue of Somatic Mutations In Cancer (COSMIC) Cell Line Gene Mutation"
   ]
  },
  {
   "cell_type": "markdown",
   "metadata": {},
   "source": [
    "Author: Moshe Silverstein <br/>\n",
    "Date: 8-17 <br/>\n",
    "Data Source: https://cancer.sanger.ac.uk/cosmic/download"
   ]
  },
  {
   "cell_type": "code",
   "execution_count": 2,
   "metadata": {},
   "outputs": [],
   "source": [
    "import sys, datetime, os\n",
    "import numpy as np\n",
    "import pandas as pd\n",
    "import importlib\n",
    "import untility_functions as uf\n",
    "%matplotlib inline"
   ]
  },
  {
   "cell_type": "code",
   "execution_count": 3,
   "metadata": {},
   "outputs": [
    {
     "data": {
      "text/plain": [
       "<module 'untility_functions' from '/Users/moshesilverstein/Documents/Harmonizome/CSMC/Mutations/untility_functions.py'>"
      ]
     },
     "execution_count": 3,
     "metadata": {},
     "output_type": "execute_result"
    }
   ],
   "source": [
    "importlib.reload(uf)"
   ]
  },
  {
   "cell_type": "markdown",
   "metadata": {},
   "source": [
    "# Load Data"
   ]
  },
  {
   "cell_type": "code",
   "execution_count": 40,
   "metadata": {},
   "outputs": [],
   "source": [
    "df = pd.read_csv('Input/CosmicCLP_MutantExport.tsv.gz', sep='\\t')"
   ]
  },
  {
   "cell_type": "code",
   "execution_count": 41,
   "metadata": {},
   "outputs": [
    {
     "data": {
      "text/html": [
       "<div>\n",
       "<table border=\"1\" class=\"dataframe\">\n",
       "  <thead>\n",
       "    <tr style=\"text-align: right;\">\n",
       "      <th></th>\n",
       "      <th>Gene name</th>\n",
       "      <th>Accession Number</th>\n",
       "      <th>Gene CDS length</th>\n",
       "      <th>HGNC ID</th>\n",
       "      <th>Sample name</th>\n",
       "      <th>ID_sample</th>\n",
       "      <th>ID_tumour</th>\n",
       "      <th>Primary site</th>\n",
       "      <th>Site subtype 1</th>\n",
       "      <th>Site subtype 2</th>\n",
       "      <th>...</th>\n",
       "      <th>Mutation somatic status</th>\n",
       "      <th>Mutation verification status</th>\n",
       "      <th>Pubmed_PMID</th>\n",
       "      <th>ID_STUDY</th>\n",
       "      <th>Institute</th>\n",
       "      <th>Institute Address</th>\n",
       "      <th>Catalogue Number</th>\n",
       "      <th>Sample source</th>\n",
       "      <th>Tumour origin</th>\n",
       "      <th>Age</th>\n",
       "    </tr>\n",
       "  </thead>\n",
       "  <tbody>\n",
       "    <tr>\n",
       "      <th>0</th>\n",
       "      <td>KRAS</td>\n",
       "      <td>ENST00000311936</td>\n",
       "      <td>567</td>\n",
       "      <td>6407.0</td>\n",
       "      <td>PL-21</td>\n",
       "      <td>1330991</td>\n",
       "      <td>1241467</td>\n",
       "      <td>haematopoietic_and_lymphoid_tissue</td>\n",
       "      <td>NS</td>\n",
       "      <td>NS</td>\n",
       "      <td>...</td>\n",
       "      <td>Reported in another cancer sample as somatic</td>\n",
       "      <td>Verified</td>\n",
       "      <td>NaN</td>\n",
       "      <td>619</td>\n",
       "      <td>German Collection of Microorganisms and Cell C...</td>\n",
       "      <td>Braunschweig, Germany</td>\n",
       "      <td>ACC 536</td>\n",
       "      <td>cell-line</td>\n",
       "      <td>NS</td>\n",
       "      <td>NaN</td>\n",
       "    </tr>\n",
       "    <tr>\n",
       "      <th>1</th>\n",
       "      <td>P2RY2</td>\n",
       "      <td>ENST00000393596</td>\n",
       "      <td>1134</td>\n",
       "      <td>8541.0</td>\n",
       "      <td>A375</td>\n",
       "      <td>906793</td>\n",
       "      <td>824317</td>\n",
       "      <td>skin</td>\n",
       "      <td>NS</td>\n",
       "      <td>NS</td>\n",
       "      <td>...</td>\n",
       "      <td>Reported in another cancer sample as somatic</td>\n",
       "      <td>Unverified</td>\n",
       "      <td>NaN</td>\n",
       "      <td>619</td>\n",
       "      <td>American Type Culture Collection (ATCC)</td>\n",
       "      <td>P.O. Box 1549, Manassas, VA 20108, USA</td>\n",
       "      <td>CRL-1619</td>\n",
       "      <td>cell-line</td>\n",
       "      <td>primary</td>\n",
       "      <td>54.0</td>\n",
       "    </tr>\n",
       "    <tr>\n",
       "      <th>2</th>\n",
       "      <td>SALL4</td>\n",
       "      <td>ENST00000217086</td>\n",
       "      <td>3162</td>\n",
       "      <td>15924.0</td>\n",
       "      <td>MCC26</td>\n",
       "      <td>1298234</td>\n",
       "      <td>1209288</td>\n",
       "      <td>skin</td>\n",
       "      <td>NS</td>\n",
       "      <td>NS</td>\n",
       "      <td>...</td>\n",
       "      <td>Variant of unknown origin</td>\n",
       "      <td>Unverified</td>\n",
       "      <td>NaN</td>\n",
       "      <td>619</td>\n",
       "      <td>UNKNOWN</td>\n",
       "      <td>UNKNOWN</td>\n",
       "      <td>NaN</td>\n",
       "      <td>cell-line</td>\n",
       "      <td>NS</td>\n",
       "      <td>NaN</td>\n",
       "    </tr>\n",
       "    <tr>\n",
       "      <th>3</th>\n",
       "      <td>SLC35F2</td>\n",
       "      <td>ENST00000525815</td>\n",
       "      <td>1125</td>\n",
       "      <td>23615.0</td>\n",
       "      <td>LS-411N</td>\n",
       "      <td>907794</td>\n",
       "      <td>825306</td>\n",
       "      <td>large_intestine</td>\n",
       "      <td>caecum</td>\n",
       "      <td>NS</td>\n",
       "      <td>...</td>\n",
       "      <td>Variant of unknown origin</td>\n",
       "      <td>Unverified</td>\n",
       "      <td>NaN</td>\n",
       "      <td>619</td>\n",
       "      <td>American Type Culture Collection (ATCC)</td>\n",
       "      <td>P.O. Box 1549, Manassas, VA 20108, USA</td>\n",
       "      <td>CRL-2159</td>\n",
       "      <td>cell-line</td>\n",
       "      <td>primary</td>\n",
       "      <td>32.0</td>\n",
       "    </tr>\n",
       "    <tr>\n",
       "      <th>4</th>\n",
       "      <td>COL14A1</td>\n",
       "      <td>ENST00000297848</td>\n",
       "      <td>5391</td>\n",
       "      <td>2191.0</td>\n",
       "      <td>RH-1</td>\n",
       "      <td>971773</td>\n",
       "      <td>887870</td>\n",
       "      <td>soft_tissue</td>\n",
       "      <td>striated_muscle</td>\n",
       "      <td>NS</td>\n",
       "      <td>...</td>\n",
       "      <td>Reported in another cancer sample as somatic</td>\n",
       "      <td>Unverified</td>\n",
       "      <td>NaN</td>\n",
       "      <td>619</td>\n",
       "      <td>St Jude Children's Research Hospital</td>\n",
       "      <td>332 North Lauderdale St., Memphis, TN 38105-27...</td>\n",
       "      <td>NaN</td>\n",
       "      <td>cell-line</td>\n",
       "      <td>metastasis</td>\n",
       "      <td>NaN</td>\n",
       "    </tr>\n",
       "  </tbody>\n",
       "</table>\n",
       "<p>5 rows × 38 columns</p>\n",
       "</div>"
      ],
      "text/plain": [
       "  Gene name Accession Number  Gene CDS length  HGNC ID Sample name  ID_sample  \\\n",
       "0      KRAS  ENST00000311936              567   6407.0       PL-21    1330991   \n",
       "1     P2RY2  ENST00000393596             1134   8541.0        A375     906793   \n",
       "2     SALL4  ENST00000217086             3162  15924.0       MCC26    1298234   \n",
       "3   SLC35F2  ENST00000525815             1125  23615.0     LS-411N     907794   \n",
       "4   COL14A1  ENST00000297848             5391   2191.0        RH-1     971773   \n",
       "\n",
       "   ID_tumour                        Primary site   Site subtype 1  \\\n",
       "0    1241467  haematopoietic_and_lymphoid_tissue               NS   \n",
       "1     824317                                skin               NS   \n",
       "2    1209288                                skin               NS   \n",
       "3     825306                     large_intestine           caecum   \n",
       "4     887870                         soft_tissue  striated_muscle   \n",
       "\n",
       "  Site subtype 2  ...                        Mutation somatic status  \\\n",
       "0             NS  ...   Reported in another cancer sample as somatic   \n",
       "1             NS  ...   Reported in another cancer sample as somatic   \n",
       "2             NS  ...                      Variant of unknown origin   \n",
       "3             NS  ...                      Variant of unknown origin   \n",
       "4             NS  ...   Reported in another cancer sample as somatic   \n",
       "\n",
       "  Mutation verification status Pubmed_PMID ID_STUDY  \\\n",
       "0                     Verified         NaN      619   \n",
       "1                   Unverified         NaN      619   \n",
       "2                   Unverified         NaN      619   \n",
       "3                   Unverified         NaN      619   \n",
       "4                   Unverified         NaN      619   \n",
       "\n",
       "                                           Institute  \\\n",
       "0  German Collection of Microorganisms and Cell C...   \n",
       "1            American Type Culture Collection (ATCC)   \n",
       "2                                            UNKNOWN   \n",
       "3            American Type Culture Collection (ATCC)   \n",
       "4               St Jude Children's Research Hospital   \n",
       "\n",
       "                                   Institute Address Catalogue Number  \\\n",
       "0                              Braunschweig, Germany          ACC 536   \n",
       "1             P.O. Box 1549, Manassas, VA 20108, USA         CRL-1619   \n",
       "2                                            UNKNOWN              NaN   \n",
       "3             P.O. Box 1549, Manassas, VA 20108, USA         CRL-2159   \n",
       "4  332 North Lauderdale St., Memphis, TN 38105-27...              NaN   \n",
       "\n",
       "  Sample source Tumour origin   Age  \n",
       "0     cell-line            NS   NaN  \n",
       "1     cell-line       primary  54.0  \n",
       "2     cell-line            NS   NaN  \n",
       "3     cell-line       primary  32.0  \n",
       "4     cell-line    metastasis   NaN  \n",
       "\n",
       "[5 rows x 38 columns]"
      ]
     },
     "execution_count": 41,
     "metadata": {},
     "output_type": "execute_result"
    }
   ],
   "source": [
    "df.head()"
   ]
  },
  {
   "cell_type": "code",
   "execution_count": 44,
   "metadata": {},
   "outputs": [
    {
     "data": {
      "text/plain": [
       "(1085496, 38)"
      ]
     },
     "execution_count": 44,
     "metadata": {},
     "output_type": "execute_result"
    }
   ],
   "source": [
    "df.shape"
   ]
  },
  {
   "cell_type": "markdown",
   "metadata": {},
   "source": [
    "# Get Relevent Data"
   ]
  },
  {
   "cell_type": "code",
   "execution_count": 45,
   "metadata": {
    "collapsed": true
   },
   "outputs": [],
   "source": [
    "df = df[['Gene name', 'Sample name']]"
   ]
  },
  {
   "cell_type": "code",
   "execution_count": 46,
   "metadata": {},
   "outputs": [
    {
     "data": {
      "text/html": [
       "<div>\n",
       "<table border=\"1\" class=\"dataframe\">\n",
       "  <thead>\n",
       "    <tr style=\"text-align: right;\">\n",
       "      <th></th>\n",
       "      <th>Gene name</th>\n",
       "      <th>Sample name</th>\n",
       "    </tr>\n",
       "  </thead>\n",
       "  <tbody>\n",
       "    <tr>\n",
       "      <th>0</th>\n",
       "      <td>KRAS</td>\n",
       "      <td>PL-21</td>\n",
       "    </tr>\n",
       "    <tr>\n",
       "      <th>1</th>\n",
       "      <td>P2RY2</td>\n",
       "      <td>A375</td>\n",
       "    </tr>\n",
       "    <tr>\n",
       "      <th>2</th>\n",
       "      <td>SALL4</td>\n",
       "      <td>MCC26</td>\n",
       "    </tr>\n",
       "    <tr>\n",
       "      <th>3</th>\n",
       "      <td>SLC35F2</td>\n",
       "      <td>LS-411N</td>\n",
       "    </tr>\n",
       "    <tr>\n",
       "      <th>4</th>\n",
       "      <td>COL14A1</td>\n",
       "      <td>RH-1</td>\n",
       "    </tr>\n",
       "  </tbody>\n",
       "</table>\n",
       "</div>"
      ],
      "text/plain": [
       "  Gene name Sample name\n",
       "0      KRAS       PL-21\n",
       "1     P2RY2        A375\n",
       "2     SALL4       MCC26\n",
       "3   SLC35F2     LS-411N\n",
       "4   COL14A1        RH-1"
      ]
     },
     "execution_count": 46,
     "metadata": {},
     "output_type": "execute_result"
    }
   ],
   "source": [
    "df.head()"
   ]
  },
  {
   "cell_type": "markdown",
   "metadata": {},
   "source": [
    "# Drop Duplicates"
   ]
  },
  {
   "cell_type": "code",
   "execution_count": 47,
   "metadata": {
    "collapsed": true
   },
   "outputs": [],
   "source": [
    "df.drop_duplicates(inplace=True)"
   ]
  },
  {
   "cell_type": "code",
   "execution_count": 48,
   "metadata": {},
   "outputs": [
    {
     "data": {
      "text/plain": [
       "(923349, 2)"
      ]
     },
     "execution_count": 48,
     "metadata": {},
     "output_type": "execute_result"
    }
   ],
   "source": [
    "df.shape"
   ]
  },
  {
   "cell_type": "markdown",
   "metadata": {},
   "source": [
    "# Create Binary Matrix"
   ]
  },
  {
   "cell_type": "code",
   "execution_count": 49,
   "metadata": {},
   "outputs": [
    {
     "name": "stdout",
     "output_type": "stream",
     "text": [
      "Progeres: 100%  26815 Out of 26815   \r"
     ]
    }
   ],
   "source": [
    "matrix = uf.createBinaryMatix(df)"
   ]
  },
  {
   "cell_type": "code",
   "execution_count": 50,
   "metadata": {},
   "outputs": [
    {
     "data": {
      "text/html": [
       "<div>\n",
       "<table border=\"1\" class=\"dataframe\">\n",
       "  <thead>\n",
       "    <tr style=\"text-align: right;\">\n",
       "      <th></th>\n",
       "      <th>TE-441-T</th>\n",
       "      <th>LB831-BLC</th>\n",
       "      <th>NCI-H187</th>\n",
       "      <th>CCF-STTG1</th>\n",
       "      <th>HCC2157</th>\n",
       "      <th>MDA-MB-415</th>\n",
       "      <th>KP-N-YS</th>\n",
       "      <th>ufE-296</th>\n",
       "      <th>PL4</th>\n",
       "      <th>D-263MG</th>\n",
       "      <th>...</th>\n",
       "      <th>SW780</th>\n",
       "      <th>VM-CUB-1</th>\n",
       "      <th>NCI-H64</th>\n",
       "      <th>HA7-RCC</th>\n",
       "      <th>SJRH30</th>\n",
       "      <th>SKM-1</th>\n",
       "      <th>MLMA</th>\n",
       "      <th>RCC-FG2</th>\n",
       "      <th>KARPAS-45</th>\n",
       "      <th>PL18</th>\n",
       "    </tr>\n",
       "  </thead>\n",
       "  <tbody>\n",
       "    <tr>\n",
       "      <th>TPSAB1</th>\n",
       "      <td>0</td>\n",
       "      <td>0</td>\n",
       "      <td>0</td>\n",
       "      <td>0</td>\n",
       "      <td>0</td>\n",
       "      <td>0</td>\n",
       "      <td>0</td>\n",
       "      <td>0</td>\n",
       "      <td>0</td>\n",
       "      <td>0</td>\n",
       "      <td>...</td>\n",
       "      <td>0</td>\n",
       "      <td>0</td>\n",
       "      <td>0</td>\n",
       "      <td>0</td>\n",
       "      <td>0</td>\n",
       "      <td>0</td>\n",
       "      <td>0</td>\n",
       "      <td>0</td>\n",
       "      <td>0</td>\n",
       "      <td>0</td>\n",
       "    </tr>\n",
       "    <tr>\n",
       "      <th>SEC16A</th>\n",
       "      <td>0</td>\n",
       "      <td>0</td>\n",
       "      <td>0</td>\n",
       "      <td>0</td>\n",
       "      <td>0</td>\n",
       "      <td>0</td>\n",
       "      <td>1</td>\n",
       "      <td>1</td>\n",
       "      <td>0</td>\n",
       "      <td>0</td>\n",
       "      <td>...</td>\n",
       "      <td>0</td>\n",
       "      <td>0</td>\n",
       "      <td>1</td>\n",
       "      <td>0</td>\n",
       "      <td>0</td>\n",
       "      <td>0</td>\n",
       "      <td>0</td>\n",
       "      <td>0</td>\n",
       "      <td>1</td>\n",
       "      <td>0</td>\n",
       "    </tr>\n",
       "    <tr>\n",
       "      <th>NPHP3</th>\n",
       "      <td>0</td>\n",
       "      <td>0</td>\n",
       "      <td>0</td>\n",
       "      <td>0</td>\n",
       "      <td>0</td>\n",
       "      <td>0</td>\n",
       "      <td>0</td>\n",
       "      <td>0</td>\n",
       "      <td>0</td>\n",
       "      <td>0</td>\n",
       "      <td>...</td>\n",
       "      <td>0</td>\n",
       "      <td>0</td>\n",
       "      <td>1</td>\n",
       "      <td>0</td>\n",
       "      <td>1</td>\n",
       "      <td>0</td>\n",
       "      <td>0</td>\n",
       "      <td>0</td>\n",
       "      <td>1</td>\n",
       "      <td>0</td>\n",
       "    </tr>\n",
       "    <tr>\n",
       "      <th>RFESD</th>\n",
       "      <td>0</td>\n",
       "      <td>0</td>\n",
       "      <td>0</td>\n",
       "      <td>0</td>\n",
       "      <td>0</td>\n",
       "      <td>0</td>\n",
       "      <td>0</td>\n",
       "      <td>0</td>\n",
       "      <td>0</td>\n",
       "      <td>0</td>\n",
       "      <td>...</td>\n",
       "      <td>0</td>\n",
       "      <td>0</td>\n",
       "      <td>0</td>\n",
       "      <td>0</td>\n",
       "      <td>0</td>\n",
       "      <td>0</td>\n",
       "      <td>0</td>\n",
       "      <td>0</td>\n",
       "      <td>0</td>\n",
       "      <td>0</td>\n",
       "    </tr>\n",
       "    <tr>\n",
       "      <th>FXYD3_ENST00000435734</th>\n",
       "      <td>0</td>\n",
       "      <td>0</td>\n",
       "      <td>0</td>\n",
       "      <td>0</td>\n",
       "      <td>0</td>\n",
       "      <td>0</td>\n",
       "      <td>0</td>\n",
       "      <td>0</td>\n",
       "      <td>0</td>\n",
       "      <td>0</td>\n",
       "      <td>...</td>\n",
       "      <td>0</td>\n",
       "      <td>0</td>\n",
       "      <td>0</td>\n",
       "      <td>0</td>\n",
       "      <td>0</td>\n",
       "      <td>0</td>\n",
       "      <td>0</td>\n",
       "      <td>0</td>\n",
       "      <td>0</td>\n",
       "      <td>1</td>\n",
       "    </tr>\n",
       "  </tbody>\n",
       "</table>\n",
       "<p>5 rows × 1020 columns</p>\n",
       "</div>"
      ],
      "text/plain": [
       "                       TE-441-T  LB831-BLC  NCI-H187  CCF-STTG1  HCC2157  \\\n",
       "TPSAB1                        0          0         0          0        0   \n",
       "SEC16A                        0          0         0          0        0   \n",
       "NPHP3                         0          0         0          0        0   \n",
       "RFESD                         0          0         0          0        0   \n",
       "FXYD3_ENST00000435734         0          0         0          0        0   \n",
       "\n",
       "                       MDA-MB-415  KP-N-YS  ufE-296  PL4  D-263MG  ...   \\\n",
       "TPSAB1                          0        0        0    0        0  ...    \n",
       "SEC16A                          0        1        1    0        0  ...    \n",
       "NPHP3                           0        0        0    0        0  ...    \n",
       "RFESD                           0        0        0    0        0  ...    \n",
       "FXYD3_ENST00000435734           0        0        0    0        0  ...    \n",
       "\n",
       "                       SW780  VM-CUB-1  NCI-H64  HA7-RCC  SJRH30  SKM-1  MLMA  \\\n",
       "TPSAB1                     0         0        0        0       0      0     0   \n",
       "SEC16A                     0         0        1        0       0      0     0   \n",
       "NPHP3                      0         0        1        0       1      0     0   \n",
       "RFESD                      0         0        0        0       0      0     0   \n",
       "FXYD3_ENST00000435734      0         0        0        0       0      0     0   \n",
       "\n",
       "                       RCC-FG2  KARPAS-45  PL18  \n",
       "TPSAB1                       0          0     0  \n",
       "SEC16A                       0          1     0  \n",
       "NPHP3                        0          1     0  \n",
       "RFESD                        0          0     0  \n",
       "FXYD3_ENST00000435734        0          0     1  \n",
       "\n",
       "[5 rows x 1020 columns]"
      ]
     },
     "execution_count": 50,
     "metadata": {},
     "output_type": "execute_result"
    }
   ],
   "source": [
    "matrix.head()"
   ]
  },
  {
   "cell_type": "code",
   "execution_count": 51,
   "metadata": {},
   "outputs": [
    {
     "data": {
      "text/plain": [
       "(26815, 1020)"
      ]
     },
     "execution_count": 51,
     "metadata": {},
     "output_type": "execute_result"
    }
   ],
   "source": [
    "matrix.shape"
   ]
  },
  {
   "cell_type": "markdown",
   "metadata": {},
   "source": [
    "# Get Only Gene Symbol in Index "
   ]
  },
  {
   "cell_type": "code",
   "execution_count": 52,
   "metadata": {},
   "outputs": [
    {
     "name": "stdout",
     "output_type": "stream",
     "text": [
      "Progress: 26815 Out of 26815 which is 100%   \r"
     ]
    }
   ],
   "source": [
    "lst = []\n",
    "\n",
    "for i,index in enumerate(matrix.index):\n",
    "    \n",
    "    progress = ((i+1)/len(matrix.index))*100\n",
    "        \n",
    "    sys.stdout.write(\"Progress: %d Out of %d which is %d%%   \\r\" % ((i+1), len(matrix.index), progress))\n",
    "    sys.stdout.flush()\n",
    "    \n",
    "    lst.append(index.split('_')[0])\n",
    "    \n",
    "matrix.index = lst"
   ]
  },
  {
   "cell_type": "markdown",
   "metadata": {},
   "source": [
    "# Map Gene Symbols To Up-to-date Approved Gene Symbols"
   ]
  },
  {
   "cell_type": "code",
   "execution_count": 53,
   "metadata": {},
   "outputs": [
    {
     "name": "stdout",
     "output_type": "stream",
     "text": [
      "Progeres: 100%  26815 Out of 26815   \r"
     ]
    }
   ],
   "source": [
    "uf.mapgenesymbols(matrix)"
   ]
  },
  {
   "cell_type": "code",
   "execution_count": 54,
   "metadata": {},
   "outputs": [
    {
     "data": {
      "text/plain": [
       "(25856, 1020)"
      ]
     },
     "execution_count": 54,
     "metadata": {},
     "output_type": "execute_result"
    }
   ],
   "source": [
    "matrix.shape"
   ]
  },
  {
   "cell_type": "markdown",
   "metadata": {},
   "source": [
    "# Merge Duplicate Genes By Rows"
   ]
  },
  {
   "cell_type": "code",
   "execution_count": 55,
   "metadata": {
    "collapsed": true
   },
   "outputs": [],
   "source": [
    "matrix = uf.merge(matrix, 'row', 'mean')"
   ]
  },
  {
   "cell_type": "code",
   "execution_count": 56,
   "metadata": {},
   "outputs": [
    {
     "data": {
      "text/plain": [
       "(18302, 1020)"
      ]
     },
     "execution_count": 56,
     "metadata": {},
     "output_type": "execute_result"
    }
   ],
   "source": [
    "matrix.shape"
   ]
  },
  {
   "cell_type": "markdown",
   "metadata": {},
   "source": [
    "# Save Binary Matrix"
   ]
  },
  {
   "cell_type": "code",
   "execution_count": 59,
   "metadata": {},
   "outputs": [],
   "source": [
    "filename = 'Output/cosmic_celline_mutation_binary_matrix_%s.tsv.zip'% str(datetime.date.today())[0:7].replace('-', '_')\n",
    "matrix.to_csv(filename, sep='\\t', compression='gzip')"
   ]
  },
  {
   "cell_type": "markdown",
   "metadata": {},
   "source": [
    "# Create Gene Set Library"
   ]
  },
  {
   "cell_type": "code",
   "execution_count": 60,
   "metadata": {
    "collapsed": true
   },
   "outputs": [],
   "source": [
    "path = '/Users/moshesilverstein/Documents/Harmonizome/CSMC/Mutations/Output/'"
   ]
  },
  {
   "cell_type": "code",
   "execution_count": 61,
   "metadata": {
    "collapsed": true
   },
   "outputs": [],
   "source": [
    "name = 'cosmic_celline_mutation_gene_set'"
   ]
  },
  {
   "cell_type": "code",
   "execution_count": 62,
   "metadata": {},
   "outputs": [
    {
     "name": "stdout",
     "output_type": "stream",
     "text": [
      "Progeres: 100%  1020 Out of 1020   \r"
     ]
    }
   ],
   "source": [
    "uf.createUpGeneSetLib(matrix, path, name)"
   ]
  },
  {
   "cell_type": "markdown",
   "metadata": {},
   "source": [
    "# Create Attribute Library"
   ]
  },
  {
   "cell_type": "code",
   "execution_count": 63,
   "metadata": {
    "collapsed": true
   },
   "outputs": [],
   "source": [
    "path = '/Users/moshesilverstein/Documents/Harmonizome/CSMC/Mutations/Output/'"
   ]
  },
  {
   "cell_type": "code",
   "execution_count": 64,
   "metadata": {
    "collapsed": true
   },
   "outputs": [],
   "source": [
    "name = 'cosmic_celline_mutation_attribute_set'"
   ]
  },
  {
   "cell_type": "code",
   "execution_count": 65,
   "metadata": {},
   "outputs": [
    {
     "name": "stdout",
     "output_type": "stream",
     "text": [
      "Progeres: 100%  18302 Out of 18302   \r"
     ]
    }
   ],
   "source": [
    "uf.createUpAttributeSetLib(matrix, path, name)"
   ]
  },
  {
   "cell_type": "markdown",
   "metadata": {},
   "source": [
    "# Create Gene Similarity Matrix"
   ]
  },
  {
   "cell_type": "code",
   "execution_count": 67,
   "metadata": {},
   "outputs": [],
   "source": [
    "gene_similarity_matix = uf.createSimilarityMatrix(matrix, 'jaccard')"
   ]
  },
  {
   "cell_type": "code",
   "execution_count": 68,
   "metadata": {},
   "outputs": [
    {
     "data": {
      "text/html": [
       "<div>\n",
       "<table border=\"1\" class=\"dataframe\">\n",
       "  <thead>\n",
       "    <tr style=\"text-align: right;\">\n",
       "      <th>index</th>\n",
       "      <th>A1BG</th>\n",
       "      <th>A1CF</th>\n",
       "      <th>A2M</th>\n",
       "      <th>A2ML1</th>\n",
       "      <th>A4GALT</th>\n",
       "      <th>A4GNT</th>\n",
       "      <th>AAAS</th>\n",
       "      <th>AACS</th>\n",
       "      <th>AADAC</th>\n",
       "      <th>AADACL2</th>\n",
       "      <th>...</th>\n",
       "      <th>ZWILCH</th>\n",
       "      <th>ZWINT</th>\n",
       "      <th>ZXDA</th>\n",
       "      <th>ZXDB</th>\n",
       "      <th>ZXDC</th>\n",
       "      <th>ZYG11A</th>\n",
       "      <th>ZYG11B</th>\n",
       "      <th>ZYX</th>\n",
       "      <th>ZZEF1</th>\n",
       "      <th>ZZZ3</th>\n",
       "    </tr>\n",
       "    <tr>\n",
       "      <th>index</th>\n",
       "      <th></th>\n",
       "      <th></th>\n",
       "      <th></th>\n",
       "      <th></th>\n",
       "      <th></th>\n",
       "      <th></th>\n",
       "      <th></th>\n",
       "      <th></th>\n",
       "      <th></th>\n",
       "      <th></th>\n",
       "      <th></th>\n",
       "      <th></th>\n",
       "      <th></th>\n",
       "      <th></th>\n",
       "      <th></th>\n",
       "      <th></th>\n",
       "      <th></th>\n",
       "      <th></th>\n",
       "      <th></th>\n",
       "      <th></th>\n",
       "      <th></th>\n",
       "    </tr>\n",
       "  </thead>\n",
       "  <tbody>\n",
       "    <tr>\n",
       "      <th>A1BG</th>\n",
       "      <td>1.000000</td>\n",
       "      <td>0.060241</td>\n",
       "      <td>0.061947</td>\n",
       "      <td>0.062016</td>\n",
       "      <td>0.068182</td>\n",
       "      <td>0.018868</td>\n",
       "      <td>0.041096</td>\n",
       "      <td>0.036585</td>\n",
       "      <td>0.040816</td>\n",
       "      <td>0.061538</td>\n",
       "      <td>...</td>\n",
       "      <td>0.076923</td>\n",
       "      <td>0.000000</td>\n",
       "      <td>0.037037</td>\n",
       "      <td>0.037037</td>\n",
       "      <td>0.050000</td>\n",
       "      <td>0.125000</td>\n",
       "      <td>0.051724</td>\n",
       "      <td>0.111111</td>\n",
       "      <td>0.079137</td>\n",
       "      <td>0.041667</td>\n",
       "    </tr>\n",
       "    <tr>\n",
       "      <th>A1CF</th>\n",
       "      <td>0.060241</td>\n",
       "      <td>1.000000</td>\n",
       "      <td>0.060150</td>\n",
       "      <td>0.067568</td>\n",
       "      <td>0.029851</td>\n",
       "      <td>0.041667</td>\n",
       "      <td>0.053763</td>\n",
       "      <td>0.070000</td>\n",
       "      <td>0.042857</td>\n",
       "      <td>0.011236</td>\n",
       "      <td>...</td>\n",
       "      <td>0.045977</td>\n",
       "      <td>0.014493</td>\n",
       "      <td>0.054054</td>\n",
       "      <td>0.012987</td>\n",
       "      <td>0.024096</td>\n",
       "      <td>0.119048</td>\n",
       "      <td>0.050633</td>\n",
       "      <td>0.025000</td>\n",
       "      <td>0.117647</td>\n",
       "      <td>0.043478</td>\n",
       "    </tr>\n",
       "    <tr>\n",
       "      <th>A2M</th>\n",
       "      <td>0.061947</td>\n",
       "      <td>0.060150</td>\n",
       "      <td>1.000000</td>\n",
       "      <td>0.136905</td>\n",
       "      <td>0.030612</td>\n",
       "      <td>0.058824</td>\n",
       "      <td>0.092437</td>\n",
       "      <td>0.069231</td>\n",
       "      <td>0.029412</td>\n",
       "      <td>0.060870</td>\n",
       "      <td>...</td>\n",
       "      <td>0.068966</td>\n",
       "      <td>0.030303</td>\n",
       "      <td>0.028037</td>\n",
       "      <td>0.057692</td>\n",
       "      <td>0.073394</td>\n",
       "      <td>0.086207</td>\n",
       "      <td>0.074766</td>\n",
       "      <td>0.096154</td>\n",
       "      <td>0.108696</td>\n",
       "      <td>0.075000</td>\n",
       "    </tr>\n",
       "    <tr>\n",
       "      <th>A2ML1</th>\n",
       "      <td>0.062016</td>\n",
       "      <td>0.067568</td>\n",
       "      <td>0.136905</td>\n",
       "      <td>1.000000</td>\n",
       "      <td>0.008547</td>\n",
       "      <td>0.059322</td>\n",
       "      <td>0.065217</td>\n",
       "      <td>0.046980</td>\n",
       "      <td>0.025210</td>\n",
       "      <td>0.085271</td>\n",
       "      <td>...</td>\n",
       "      <td>0.084615</td>\n",
       "      <td>0.026316</td>\n",
       "      <td>0.058333</td>\n",
       "      <td>0.058333</td>\n",
       "      <td>0.073171</td>\n",
       "      <td>0.067164</td>\n",
       "      <td>0.056000</td>\n",
       "      <td>0.056452</td>\n",
       "      <td>0.139175</td>\n",
       "      <td>0.073529</td>\n",
       "    </tr>\n",
       "    <tr>\n",
       "      <th>A4GALT</th>\n",
       "      <td>0.068182</td>\n",
       "      <td>0.029851</td>\n",
       "      <td>0.030612</td>\n",
       "      <td>0.008547</td>\n",
       "      <td>1.000000</td>\n",
       "      <td>0.000000</td>\n",
       "      <td>0.017857</td>\n",
       "      <td>0.047619</td>\n",
       "      <td>0.000000</td>\n",
       "      <td>0.020408</td>\n",
       "      <td>...</td>\n",
       "      <td>0.040816</td>\n",
       "      <td>0.000000</td>\n",
       "      <td>0.000000</td>\n",
       "      <td>0.000000</td>\n",
       "      <td>0.000000</td>\n",
       "      <td>0.039216</td>\n",
       "      <td>0.024390</td>\n",
       "      <td>0.051282</td>\n",
       "      <td>0.031496</td>\n",
       "      <td>0.037037</td>\n",
       "    </tr>\n",
       "  </tbody>\n",
       "</table>\n",
       "<p>5 rows × 18302 columns</p>\n",
       "</div>"
      ],
      "text/plain": [
       "index       A1BG      A1CF       A2M     A2ML1    A4GALT     A4GNT      AAAS  \\\n",
       "index                                                                          \n",
       "A1BG    1.000000  0.060241  0.061947  0.062016  0.068182  0.018868  0.041096   \n",
       "A1CF    0.060241  1.000000  0.060150  0.067568  0.029851  0.041667  0.053763   \n",
       "A2M     0.061947  0.060150  1.000000  0.136905  0.030612  0.058824  0.092437   \n",
       "A2ML1   0.062016  0.067568  0.136905  1.000000  0.008547  0.059322  0.065217   \n",
       "A4GALT  0.068182  0.029851  0.030612  0.008547  1.000000  0.000000  0.017857   \n",
       "\n",
       "index       AACS     AADAC   AADACL2    ...       ZWILCH     ZWINT      ZXDA  \\\n",
       "index                                   ...                                    \n",
       "A1BG    0.036585  0.040816  0.061538    ...     0.076923  0.000000  0.037037   \n",
       "A1CF    0.070000  0.042857  0.011236    ...     0.045977  0.014493  0.054054   \n",
       "A2M     0.069231  0.029412  0.060870    ...     0.068966  0.030303  0.028037   \n",
       "A2ML1   0.046980  0.025210  0.085271    ...     0.084615  0.026316  0.058333   \n",
       "A4GALT  0.047619  0.000000  0.020408    ...     0.040816  0.000000  0.000000   \n",
       "\n",
       "index       ZXDB      ZXDC    ZYG11A    ZYG11B       ZYX     ZZEF1      ZZZ3  \n",
       "index                                                                         \n",
       "A1BG    0.037037  0.050000  0.125000  0.051724  0.111111  0.079137  0.041667  \n",
       "A1CF    0.012987  0.024096  0.119048  0.050633  0.025000  0.117647  0.043478  \n",
       "A2M     0.057692  0.073394  0.086207  0.074766  0.096154  0.108696  0.075000  \n",
       "A2ML1   0.058333  0.073171  0.067164  0.056000  0.056452  0.139175  0.073529  \n",
       "A4GALT  0.000000  0.000000  0.039216  0.024390  0.051282  0.031496  0.037037  \n",
       "\n",
       "[5 rows x 18302 columns]"
      ]
     },
     "execution_count": 68,
     "metadata": {},
     "output_type": "execute_result"
    }
   ],
   "source": [
    "gene_similarity_matix.head()"
   ]
  },
  {
   "cell_type": "markdown",
   "metadata": {},
   "source": [
    "# Save Gene Similarity Matrix "
   ]
  },
  {
   "cell_type": "code",
   "execution_count": 70,
   "metadata": {},
   "outputs": [],
   "source": [
    "filename = 'Output/cosmic_celline_mutation_gene_similarity_matix_%s.tsv.zip'% str(datetime.date.today())[0:7].replace('-', '_')\n",
    "gene_similarity_matix.to_csv(filename, sep='\\t', compression='gzip')"
   ]
  },
  {
   "cell_type": "markdown",
   "metadata": {},
   "source": [
    "# Create Attribute Similarity matrix"
   ]
  },
  {
   "cell_type": "code",
   "execution_count": 71,
   "metadata": {
    "collapsed": true
   },
   "outputs": [],
   "source": [
    "attribute_similarity_matix = uf.createSimilarityMatrix(matrix.T, 'jaccard')"
   ]
  },
  {
   "cell_type": "code",
   "execution_count": 72,
   "metadata": {},
   "outputs": [
    {
     "data": {
      "text/html": [
       "<div>\n",
       "<table border=\"1\" class=\"dataframe\">\n",
       "  <thead>\n",
       "    <tr style=\"text-align: right;\">\n",
       "      <th></th>\n",
       "      <th>TE-441-T</th>\n",
       "      <th>LB831-BLC</th>\n",
       "      <th>NCI-H187</th>\n",
       "      <th>CCF-STTG1</th>\n",
       "      <th>HCC2157</th>\n",
       "      <th>MDA-MB-415</th>\n",
       "      <th>KP-N-YS</th>\n",
       "      <th>ufE-296</th>\n",
       "      <th>PL4</th>\n",
       "      <th>D-263MG</th>\n",
       "      <th>...</th>\n",
       "      <th>SW780</th>\n",
       "      <th>VM-CUB-1</th>\n",
       "      <th>NCI-H64</th>\n",
       "      <th>HA7-RCC</th>\n",
       "      <th>SJRH30</th>\n",
       "      <th>SKM-1</th>\n",
       "      <th>MLMA</th>\n",
       "      <th>RCC-FG2</th>\n",
       "      <th>KARPAS-45</th>\n",
       "      <th>PL18</th>\n",
       "    </tr>\n",
       "  </thead>\n",
       "  <tbody>\n",
       "    <tr>\n",
       "      <th>TE-441-T</th>\n",
       "      <td>1.000000</td>\n",
       "      <td>0.010989</td>\n",
       "      <td>0.031865</td>\n",
       "      <td>0.011647</td>\n",
       "      <td>0.014414</td>\n",
       "      <td>0.021769</td>\n",
       "      <td>0.019659</td>\n",
       "      <td>0.025167</td>\n",
       "      <td>0.012411</td>\n",
       "      <td>0.016791</td>\n",
       "      <td>...</td>\n",
       "      <td>0.020513</td>\n",
       "      <td>0.021277</td>\n",
       "      <td>0.028184</td>\n",
       "      <td>0.004386</td>\n",
       "      <td>0.021337</td>\n",
       "      <td>0.017766</td>\n",
       "      <td>0.013382</td>\n",
       "      <td>0.020385</td>\n",
       "      <td>0.021414</td>\n",
       "      <td>0.026415</td>\n",
       "    </tr>\n",
       "    <tr>\n",
       "      <th>LB831-BLC</th>\n",
       "      <td>0.010989</td>\n",
       "      <td>1.000000</td>\n",
       "      <td>0.016563</td>\n",
       "      <td>0.008264</td>\n",
       "      <td>0.013761</td>\n",
       "      <td>0.012903</td>\n",
       "      <td>0.010753</td>\n",
       "      <td>0.017685</td>\n",
       "      <td>0.013483</td>\n",
       "      <td>0.011990</td>\n",
       "      <td>...</td>\n",
       "      <td>0.019313</td>\n",
       "      <td>0.016774</td>\n",
       "      <td>0.022406</td>\n",
       "      <td>0.002985</td>\n",
       "      <td>0.006757</td>\n",
       "      <td>0.011905</td>\n",
       "      <td>0.014225</td>\n",
       "      <td>0.011643</td>\n",
       "      <td>0.016145</td>\n",
       "      <td>0.014641</td>\n",
       "    </tr>\n",
       "    <tr>\n",
       "      <th>NCI-H187</th>\n",
       "      <td>0.031865</td>\n",
       "      <td>0.016563</td>\n",
       "      <td>1.000000</td>\n",
       "      <td>0.015656</td>\n",
       "      <td>0.023736</td>\n",
       "      <td>0.032428</td>\n",
       "      <td>0.028986</td>\n",
       "      <td>0.050955</td>\n",
       "      <td>0.013198</td>\n",
       "      <td>0.013542</td>\n",
       "      <td>...</td>\n",
       "      <td>0.013875</td>\n",
       "      <td>0.030023</td>\n",
       "      <td>0.041912</td>\n",
       "      <td>0.013683</td>\n",
       "      <td>0.030521</td>\n",
       "      <td>0.021559</td>\n",
       "      <td>0.022690</td>\n",
       "      <td>0.025483</td>\n",
       "      <td>0.048493</td>\n",
       "      <td>0.025599</td>\n",
       "    </tr>\n",
       "    <tr>\n",
       "      <th>CCF-STTG1</th>\n",
       "      <td>0.011647</td>\n",
       "      <td>0.008264</td>\n",
       "      <td>0.015656</td>\n",
       "      <td>1.000000</td>\n",
       "      <td>0.016360</td>\n",
       "      <td>0.022388</td>\n",
       "      <td>0.017143</td>\n",
       "      <td>0.016988</td>\n",
       "      <td>0.015968</td>\n",
       "      <td>0.016949</td>\n",
       "      <td>...</td>\n",
       "      <td>0.007561</td>\n",
       "      <td>0.013189</td>\n",
       "      <td>0.030067</td>\n",
       "      <td>0.000000</td>\n",
       "      <td>0.013975</td>\n",
       "      <td>0.017956</td>\n",
       "      <td>0.011827</td>\n",
       "      <td>0.014528</td>\n",
       "      <td>0.016853</td>\n",
       "      <td>0.013495</td>\n",
       "    </tr>\n",
       "    <tr>\n",
       "      <th>HCC2157</th>\n",
       "      <td>0.014414</td>\n",
       "      <td>0.013761</td>\n",
       "      <td>0.023736</td>\n",
       "      <td>0.016360</td>\n",
       "      <td>1.000000</td>\n",
       "      <td>0.019139</td>\n",
       "      <td>0.010638</td>\n",
       "      <td>0.018385</td>\n",
       "      <td>0.015453</td>\n",
       "      <td>0.011682</td>\n",
       "      <td>...</td>\n",
       "      <td>0.006211</td>\n",
       "      <td>0.011407</td>\n",
       "      <td>0.016260</td>\n",
       "      <td>0.008746</td>\n",
       "      <td>0.015075</td>\n",
       "      <td>0.013177</td>\n",
       "      <td>0.012605</td>\n",
       "      <td>0.011553</td>\n",
       "      <td>0.015452</td>\n",
       "      <td>0.029240</td>\n",
       "    </tr>\n",
       "  </tbody>\n",
       "</table>\n",
       "<p>5 rows × 1020 columns</p>\n",
       "</div>"
      ],
      "text/plain": [
       "           TE-441-T  LB831-BLC  NCI-H187  CCF-STTG1   HCC2157  MDA-MB-415  \\\n",
       "TE-441-T   1.000000   0.010989  0.031865   0.011647  0.014414    0.021769   \n",
       "LB831-BLC  0.010989   1.000000  0.016563   0.008264  0.013761    0.012903   \n",
       "NCI-H187   0.031865   0.016563  1.000000   0.015656  0.023736    0.032428   \n",
       "CCF-STTG1  0.011647   0.008264  0.015656   1.000000  0.016360    0.022388   \n",
       "HCC2157    0.014414   0.013761  0.023736   0.016360  1.000000    0.019139   \n",
       "\n",
       "            KP-N-YS   ufE-296       PL4   D-263MG    ...        SW780  \\\n",
       "TE-441-T   0.019659  0.025167  0.012411  0.016791    ...     0.020513   \n",
       "LB831-BLC  0.010753  0.017685  0.013483  0.011990    ...     0.019313   \n",
       "NCI-H187   0.028986  0.050955  0.013198  0.013542    ...     0.013875   \n",
       "CCF-STTG1  0.017143  0.016988  0.015968  0.016949    ...     0.007561   \n",
       "HCC2157    0.010638  0.018385  0.015453  0.011682    ...     0.006211   \n",
       "\n",
       "           VM-CUB-1   NCI-H64   HA7-RCC    SJRH30     SKM-1      MLMA  \\\n",
       "TE-441-T   0.021277  0.028184  0.004386  0.021337  0.017766  0.013382   \n",
       "LB831-BLC  0.016774  0.022406  0.002985  0.006757  0.011905  0.014225   \n",
       "NCI-H187   0.030023  0.041912  0.013683  0.030521  0.021559  0.022690   \n",
       "CCF-STTG1  0.013189  0.030067  0.000000  0.013975  0.017956  0.011827   \n",
       "HCC2157    0.011407  0.016260  0.008746  0.015075  0.013177  0.012605   \n",
       "\n",
       "            RCC-FG2  KARPAS-45      PL18  \n",
       "TE-441-T   0.020385   0.021414  0.026415  \n",
       "LB831-BLC  0.011643   0.016145  0.014641  \n",
       "NCI-H187   0.025483   0.048493  0.025599  \n",
       "CCF-STTG1  0.014528   0.016853  0.013495  \n",
       "HCC2157    0.011553   0.015452  0.029240  \n",
       "\n",
       "[5 rows x 1020 columns]"
      ]
     },
     "execution_count": 72,
     "metadata": {},
     "output_type": "execute_result"
    }
   ],
   "source": [
    "attribute_similarity_matix.head()"
   ]
  },
  {
   "cell_type": "markdown",
   "metadata": {},
   "source": [
    "# Save Attribute Similarity Matrix"
   ]
  },
  {
   "cell_type": "code",
   "execution_count": 73,
   "metadata": {
    "collapsed": true
   },
   "outputs": [],
   "source": [
    "filename = 'Output/cosmic_celline_mutation_attribute_similarity_matix_%s.tsv.zip'% str(datetime.date.today())[0:7].replace('-', '_')\n",
    "attribute_similarity_matix.to_csv(filename, sep='\\t', compression='gzip')"
   ]
  },
  {
   "cell_type": "markdown",
   "metadata": {},
   "source": [
    "# Create Gene List"
   ]
  },
  {
   "cell_type": "code",
   "execution_count": 74,
   "metadata": {},
   "outputs": [
    {
     "name": "stdout",
     "output_type": "stream",
     "text": [
      "Progeres: 100%  18302 Out of 18302   \r"
     ]
    }
   ],
   "source": [
    "gene_list = uf.createGeneList(matrix)"
   ]
  },
  {
   "cell_type": "code",
   "execution_count": 75,
   "metadata": {},
   "outputs": [
    {
     "data": {
      "text/html": [
       "<div>\n",
       "<table border=\"1\" class=\"dataframe\">\n",
       "  <thead>\n",
       "    <tr style=\"text-align: right;\">\n",
       "      <th></th>\n",
       "      <th>GeneSym</th>\n",
       "      <th>GeneID</th>\n",
       "    </tr>\n",
       "  </thead>\n",
       "  <tbody>\n",
       "    <tr>\n",
       "      <th>0</th>\n",
       "      <td>A1BG</td>\n",
       "      <td>1</td>\n",
       "    </tr>\n",
       "    <tr>\n",
       "      <th>1</th>\n",
       "      <td>A1CF</td>\n",
       "      <td>29974</td>\n",
       "    </tr>\n",
       "    <tr>\n",
       "      <th>2</th>\n",
       "      <td>A2M</td>\n",
       "      <td>2</td>\n",
       "    </tr>\n",
       "    <tr>\n",
       "      <th>3</th>\n",
       "      <td>A2ML1</td>\n",
       "      <td>144568</td>\n",
       "    </tr>\n",
       "    <tr>\n",
       "      <th>4</th>\n",
       "      <td>A4GALT</td>\n",
       "      <td>53947</td>\n",
       "    </tr>\n",
       "  </tbody>\n",
       "</table>\n",
       "</div>"
      ],
      "text/plain": [
       "  GeneSym  GeneID\n",
       "0    A1BG       1\n",
       "1    A1CF   29974\n",
       "2     A2M       2\n",
       "3   A2ML1  144568\n",
       "4  A4GALT   53947"
      ]
     },
     "execution_count": 75,
     "metadata": {},
     "output_type": "execute_result"
    }
   ],
   "source": [
    "gene_list.head()"
   ]
  },
  {
   "cell_type": "code",
   "execution_count": 76,
   "metadata": {},
   "outputs": [
    {
     "data": {
      "text/plain": [
       "(18302, 2)"
      ]
     },
     "execution_count": 76,
     "metadata": {},
     "output_type": "execute_result"
    }
   ],
   "source": [
    "gene_list.shape"
   ]
  },
  {
   "cell_type": "markdown",
   "metadata": {},
   "source": [
    "# Save Gene List"
   ]
  },
  {
   "cell_type": "code",
   "execution_count": 77,
   "metadata": {
    "collapsed": true
   },
   "outputs": [],
   "source": [
    "filename = 'Output/cosmic_celline_mutation_gene_list_%s.tsv.zip'% str(datetime.date.today())[0:7].replace('-', '_')\n",
    "gene_list.to_csv(filename, sep='\\t', index=False, compression='gzip')"
   ]
  },
  {
   "cell_type": "markdown",
   "metadata": {},
   "source": [
    "# Create Attribute List "
   ]
  },
  {
   "cell_type": "code",
   "execution_count": 78,
   "metadata": {
    "collapsed": true
   },
   "outputs": [],
   "source": [
    "attribute_list = uf.createAttributeList(matrix)"
   ]
  },
  {
   "cell_type": "code",
   "execution_count": 79,
   "metadata": {},
   "outputs": [
    {
     "data": {
      "text/html": [
       "<div>\n",
       "<table border=\"1\" class=\"dataframe\">\n",
       "  <thead>\n",
       "    <tr style=\"text-align: right;\">\n",
       "      <th></th>\n",
       "      <th>Attributes</th>\n",
       "    </tr>\n",
       "  </thead>\n",
       "  <tbody>\n",
       "    <tr>\n",
       "      <th>0</th>\n",
       "      <td>TE-441-T</td>\n",
       "    </tr>\n",
       "    <tr>\n",
       "      <th>1</th>\n",
       "      <td>LB831-BLC</td>\n",
       "    </tr>\n",
       "    <tr>\n",
       "      <th>2</th>\n",
       "      <td>NCI-H187</td>\n",
       "    </tr>\n",
       "    <tr>\n",
       "      <th>3</th>\n",
       "      <td>CCF-STTG1</td>\n",
       "    </tr>\n",
       "    <tr>\n",
       "      <th>4</th>\n",
       "      <td>HCC2157</td>\n",
       "    </tr>\n",
       "  </tbody>\n",
       "</table>\n",
       "</div>"
      ],
      "text/plain": [
       "  Attributes\n",
       "0   TE-441-T\n",
       "1  LB831-BLC\n",
       "2   NCI-H187\n",
       "3  CCF-STTG1\n",
       "4    HCC2157"
      ]
     },
     "execution_count": 79,
     "metadata": {},
     "output_type": "execute_result"
    }
   ],
   "source": [
    "attribute_list.head()"
   ]
  },
  {
   "cell_type": "code",
   "execution_count": 80,
   "metadata": {},
   "outputs": [
    {
     "data": {
      "text/plain": [
       "(1020, 1)"
      ]
     },
     "execution_count": 80,
     "metadata": {},
     "output_type": "execute_result"
    }
   ],
   "source": [
    "attribute_list.shape"
   ]
  },
  {
   "cell_type": "markdown",
   "metadata": {},
   "source": [
    "# Save Attribute List"
   ]
  },
  {
   "cell_type": "code",
   "execution_count": 81,
   "metadata": {
    "collapsed": true
   },
   "outputs": [],
   "source": [
    "filename = 'Output/cosmic_celline_mutation_attribute_list_%s.tsv.zip'% str(datetime.date.today())[0:7].replace('-', '_')\n",
    "attribute_list.to_csv(filename, sep='\\t', index=False, compression='gzip')"
   ]
  },
  {
   "cell_type": "markdown",
   "metadata": {},
   "source": [
    "# Create Gene-Attribute Edge List"
   ]
  },
  {
   "cell_type": "code",
   "execution_count": 85,
   "metadata": {
    "collapsed": true
   },
   "outputs": [],
   "source": [
    "path = '/Users/moshesilverstein/Documents/Harmonizome/CSMC/Mutations/Output/'"
   ]
  },
  {
   "cell_type": "code",
   "execution_count": 86,
   "metadata": {
    "collapsed": true
   },
   "outputs": [],
   "source": [
    "name = 'cosmic_celline_mutation_gene_attribute_edge_list'"
   ]
  },
  {
   "cell_type": "code",
   "execution_count": 87,
   "metadata": {},
   "outputs": [
    {
     "name": "stdout",
     "output_type": "stream",
     "text": [
      "Progeres: 100%  1020 Out of 1020   \n",
      "\n",
      " The number of statisticaly relevent gene-attribute associations is: 643824\n"
     ]
    }
   ],
   "source": [
    "uf.createGeneAttributeEdgeList(matrix, gene_list, path, name)"
   ]
  }
 ],
 "metadata": {
  "kernelspec": {
   "display_name": "Python [default]",
   "language": "python",
   "name": "python3"
  },
  "language_info": {
   "codemirror_mode": {
    "name": "ipython",
    "version": 3
   },
   "file_extension": ".py",
   "mimetype": "text/x-python",
   "name": "python",
   "nbconvert_exporter": "python",
   "pygments_lexer": "ipython3",
   "version": "3.5.2"
  }
 },
 "nbformat": 4,
 "nbformat_minor": 2
}
