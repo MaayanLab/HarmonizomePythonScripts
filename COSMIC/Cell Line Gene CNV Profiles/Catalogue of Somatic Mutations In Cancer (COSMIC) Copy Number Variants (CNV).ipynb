{
 "cells": [
  {
   "cell_type": "markdown",
   "metadata": {},
   "source": [
    "# Catalogue of Somatic Mutations In Cancer (COSMIC) Copy Number Variants (CNV)"
   ]
  },
  {
   "cell_type": "markdown",
   "metadata": {
    "collapsed": true
   },
   "source": [
    "Author: Moshe Silverstein <br/>\n",
    "Date: 8-17 <br/>\n",
    "Data Source: https://cancer.sanger.ac.uk/cosmic/download"
   ]
  },
  {
   "cell_type": "code",
   "execution_count": 1,
   "metadata": {
    "collapsed": true
   },
   "outputs": [],
   "source": [
    "import sys, datetime, os\n",
    "import numpy as np\n",
    "import pandas as pd\n",
    "import importlib\n",
    "import untility_functions as uf\n",
    "%matplotlib inline"
   ]
  },
  {
   "cell_type": "code",
   "execution_count": 2,
   "metadata": {},
   "outputs": [
    {
     "data": {
      "text/plain": [
       "<module 'untility_functions' from '/Users/moshesilverstein/Documents/Harmonizome/COSMIC/CNV/untility_functions.py'>"
      ]
     },
     "execution_count": 2,
     "metadata": {},
     "output_type": "execute_result"
    }
   ],
   "source": [
    "importlib.reload(uf)"
   ]
  },
  {
   "cell_type": "markdown",
   "metadata": {},
   "source": [
    "# Load Data"
   ]
  },
  {
   "cell_type": "code",
   "execution_count": 3,
   "metadata": {
    "collapsed": true
   },
   "outputs": [],
   "source": [
    "df = pd.read_csv('Input/CosmicCLP_CompleteCNA.tsv.gz', sep='\\t')"
   ]
  },
  {
   "cell_type": "code",
   "execution_count": 4,
   "metadata": {},
   "outputs": [
    {
     "data": {
      "text/html": [
       "<div>\n",
       "<table border=\"1\" class=\"dataframe\">\n",
       "  <thead>\n",
       "    <tr style=\"text-align: right;\">\n",
       "      <th></th>\n",
       "      <th>CNV_ID</th>\n",
       "      <th>ID_GENE</th>\n",
       "      <th>gene_name</th>\n",
       "      <th>ID_SAMPLE</th>\n",
       "      <th>ID_TUMOUR</th>\n",
       "      <th>Primary site</th>\n",
       "      <th>Site subtype 1</th>\n",
       "      <th>Site subtype 2</th>\n",
       "      <th>Site subtype 3</th>\n",
       "      <th>Primary histology</th>\n",
       "      <th>Histology subtype 1</th>\n",
       "      <th>Histology subtype 2</th>\n",
       "      <th>Histology subtype 3</th>\n",
       "      <th>SAMPLE_NAME</th>\n",
       "      <th>TOTAL_CN</th>\n",
       "      <th>MINOR_ALLELE</th>\n",
       "      <th>MUT_TYPE</th>\n",
       "      <th>ID_STUDY</th>\n",
       "      <th>GRCh</th>\n",
       "      <th>Chromosome:G_Start..G_Stop</th>\n",
       "    </tr>\n",
       "  </thead>\n",
       "  <tbody>\n",
       "    <tr>\n",
       "      <th>0</th>\n",
       "      <td>6334435</td>\n",
       "      <td>101525</td>\n",
       "      <td>GYG2P1</td>\n",
       "      <td>683665</td>\n",
       "      <td>611825</td>\n",
       "      <td>haematopoietic_and_lymphoid_tissue</td>\n",
       "      <td>NS</td>\n",
       "      <td>NS</td>\n",
       "      <td>NS</td>\n",
       "      <td>lymphoid_neoplasm</td>\n",
       "      <td>plasma_cell_myeloma</td>\n",
       "      <td>NS</td>\n",
       "      <td>NS</td>\n",
       "      <td>MC-CAR</td>\n",
       "      <td>5</td>\n",
       "      <td>0</td>\n",
       "      <td>gain</td>\n",
       "      <td>619</td>\n",
       "      <td>38</td>\n",
       "      <td>Y:12363966..12512040</td>\n",
       "    </tr>\n",
       "    <tr>\n",
       "      <th>1</th>\n",
       "      <td>6583900</td>\n",
       "      <td>69786</td>\n",
       "      <td>CDY1B</td>\n",
       "      <td>683665</td>\n",
       "      <td>611825</td>\n",
       "      <td>haematopoietic_and_lymphoid_tissue</td>\n",
       "      <td>NS</td>\n",
       "      <td>NS</td>\n",
       "      <td>NS</td>\n",
       "      <td>lymphoid_neoplasm</td>\n",
       "      <td>plasma_cell_myeloma</td>\n",
       "      <td>NS</td>\n",
       "      <td>NS</td>\n",
       "      <td>MC-CAR</td>\n",
       "      <td>7</td>\n",
       "      <td>0</td>\n",
       "      <td>gain</td>\n",
       "      <td>619</td>\n",
       "      <td>38</td>\n",
       "      <td>Y:22477961..24258193</td>\n",
       "    </tr>\n",
       "    <tr>\n",
       "      <th>2</th>\n",
       "      <td>6335779</td>\n",
       "      <td>68758</td>\n",
       "      <td>CTDSPL</td>\n",
       "      <td>683665</td>\n",
       "      <td>611825</td>\n",
       "      <td>haematopoietic_and_lymphoid_tissue</td>\n",
       "      <td>NS</td>\n",
       "      <td>NS</td>\n",
       "      <td>NS</td>\n",
       "      <td>lymphoid_neoplasm</td>\n",
       "      <td>plasma_cell_myeloma</td>\n",
       "      <td>NS</td>\n",
       "      <td>NS</td>\n",
       "      <td>MC-CAR</td>\n",
       "      <td>0</td>\n",
       "      <td>0</td>\n",
       "      <td>loss</td>\n",
       "      <td>619</td>\n",
       "      <td>38</td>\n",
       "      <td>3:37940617..37945438</td>\n",
       "    </tr>\n",
       "    <tr>\n",
       "      <th>3</th>\n",
       "      <td>6352848</td>\n",
       "      <td>55218</td>\n",
       "      <td>LCE3C</td>\n",
       "      <td>683665</td>\n",
       "      <td>611825</td>\n",
       "      <td>haematopoietic_and_lymphoid_tissue</td>\n",
       "      <td>NS</td>\n",
       "      <td>NS</td>\n",
       "      <td>NS</td>\n",
       "      <td>lymphoid_neoplasm</td>\n",
       "      <td>plasma_cell_myeloma</td>\n",
       "      <td>NS</td>\n",
       "      <td>NS</td>\n",
       "      <td>MC-CAR</td>\n",
       "      <td>0</td>\n",
       "      <td>0</td>\n",
       "      <td>loss</td>\n",
       "      <td>619</td>\n",
       "      <td>38</td>\n",
       "      <td>1:152583052..152613763</td>\n",
       "    </tr>\n",
       "    <tr>\n",
       "      <th>4</th>\n",
       "      <td>6583900</td>\n",
       "      <td>106281</td>\n",
       "      <td>DAZ1_ENST00000382510</td>\n",
       "      <td>683665</td>\n",
       "      <td>611825</td>\n",
       "      <td>haematopoietic_and_lymphoid_tissue</td>\n",
       "      <td>NS</td>\n",
       "      <td>NS</td>\n",
       "      <td>NS</td>\n",
       "      <td>lymphoid_neoplasm</td>\n",
       "      <td>plasma_cell_myeloma</td>\n",
       "      <td>NS</td>\n",
       "      <td>NS</td>\n",
       "      <td>MC-CAR</td>\n",
       "      <td>7</td>\n",
       "      <td>0</td>\n",
       "      <td>gain</td>\n",
       "      <td>619</td>\n",
       "      <td>38</td>\n",
       "      <td>Y:22477961..24258193</td>\n",
       "    </tr>\n",
       "  </tbody>\n",
       "</table>\n",
       "</div>"
      ],
      "text/plain": [
       "    CNV_ID  ID_GENE             gene_name  ID_SAMPLE  ID_TUMOUR  \\\n",
       "0  6334435   101525                GYG2P1     683665     611825   \n",
       "1  6583900    69786                 CDY1B     683665     611825   \n",
       "2  6335779    68758                CTDSPL     683665     611825   \n",
       "3  6352848    55218                 LCE3C     683665     611825   \n",
       "4  6583900   106281  DAZ1_ENST00000382510     683665     611825   \n",
       "\n",
       "                         Primary site Site subtype 1 Site subtype 2  \\\n",
       "0  haematopoietic_and_lymphoid_tissue             NS             NS   \n",
       "1  haematopoietic_and_lymphoid_tissue             NS             NS   \n",
       "2  haematopoietic_and_lymphoid_tissue             NS             NS   \n",
       "3  haematopoietic_and_lymphoid_tissue             NS             NS   \n",
       "4  haematopoietic_and_lymphoid_tissue             NS             NS   \n",
       "\n",
       "  Site subtype 3  Primary histology  Histology subtype 1 Histology subtype 2  \\\n",
       "0             NS  lymphoid_neoplasm  plasma_cell_myeloma                  NS   \n",
       "1             NS  lymphoid_neoplasm  plasma_cell_myeloma                  NS   \n",
       "2             NS  lymphoid_neoplasm  plasma_cell_myeloma                  NS   \n",
       "3             NS  lymphoid_neoplasm  plasma_cell_myeloma                  NS   \n",
       "4             NS  lymphoid_neoplasm  plasma_cell_myeloma                  NS   \n",
       "\n",
       "  Histology subtype 3 SAMPLE_NAME  TOTAL_CN  MINOR_ALLELE MUT_TYPE  ID_STUDY  \\\n",
       "0                  NS      MC-CAR         5             0     gain       619   \n",
       "1                  NS      MC-CAR         7             0     gain       619   \n",
       "2                  NS      MC-CAR         0             0     loss       619   \n",
       "3                  NS      MC-CAR         0             0     loss       619   \n",
       "4                  NS      MC-CAR         7             0     gain       619   \n",
       "\n",
       "   GRCh Chromosome:G_Start..G_Stop  \n",
       "0    38       Y:12363966..12512040  \n",
       "1    38       Y:22477961..24258193  \n",
       "2    38       3:37940617..37945438  \n",
       "3    38     1:152583052..152613763  \n",
       "4    38       Y:22477961..24258193  "
      ]
     },
     "execution_count": 4,
     "metadata": {},
     "output_type": "execute_result"
    }
   ],
   "source": [
    "df.head()"
   ]
  },
  {
   "cell_type": "code",
   "execution_count": 5,
   "metadata": {},
   "outputs": [
    {
     "data": {
      "text/plain": [
       "(176254, 20)"
      ]
     },
     "execution_count": 5,
     "metadata": {},
     "output_type": "execute_result"
    }
   ],
   "source": [
    "df.shape"
   ]
  },
  {
   "cell_type": "markdown",
   "metadata": {},
   "source": [
    "# Get Relevent Data"
   ]
  },
  {
   "cell_type": "code",
   "execution_count": 6,
   "metadata": {
    "collapsed": true
   },
   "outputs": [],
   "source": [
    "df = df[['gene_name', 'SAMPLE_NAME', 'TOTAL_CN']]"
   ]
  },
  {
   "cell_type": "code",
   "execution_count": 7,
   "metadata": {},
   "outputs": [
    {
     "data": {
      "text/html": [
       "<div>\n",
       "<table border=\"1\" class=\"dataframe\">\n",
       "  <thead>\n",
       "    <tr style=\"text-align: right;\">\n",
       "      <th></th>\n",
       "      <th>gene_name</th>\n",
       "      <th>SAMPLE_NAME</th>\n",
       "      <th>TOTAL_CN</th>\n",
       "    </tr>\n",
       "  </thead>\n",
       "  <tbody>\n",
       "    <tr>\n",
       "      <th>0</th>\n",
       "      <td>GYG2P1</td>\n",
       "      <td>MC-CAR</td>\n",
       "      <td>5</td>\n",
       "    </tr>\n",
       "    <tr>\n",
       "      <th>1</th>\n",
       "      <td>CDY1B</td>\n",
       "      <td>MC-CAR</td>\n",
       "      <td>7</td>\n",
       "    </tr>\n",
       "    <tr>\n",
       "      <th>2</th>\n",
       "      <td>CTDSPL</td>\n",
       "      <td>MC-CAR</td>\n",
       "      <td>0</td>\n",
       "    </tr>\n",
       "    <tr>\n",
       "      <th>3</th>\n",
       "      <td>LCE3C</td>\n",
       "      <td>MC-CAR</td>\n",
       "      <td>0</td>\n",
       "    </tr>\n",
       "    <tr>\n",
       "      <th>4</th>\n",
       "      <td>DAZ1_ENST00000382510</td>\n",
       "      <td>MC-CAR</td>\n",
       "      <td>7</td>\n",
       "    </tr>\n",
       "  </tbody>\n",
       "</table>\n",
       "</div>"
      ],
      "text/plain": [
       "              gene_name SAMPLE_NAME  TOTAL_CN\n",
       "0                GYG2P1      MC-CAR         5\n",
       "1                 CDY1B      MC-CAR         7\n",
       "2                CTDSPL      MC-CAR         0\n",
       "3                 LCE3C      MC-CAR         0\n",
       "4  DAZ1_ENST00000382510      MC-CAR         7"
      ]
     },
     "execution_count": 7,
     "metadata": {},
     "output_type": "execute_result"
    }
   ],
   "source": [
    "df.head()"
   ]
  },
  {
   "cell_type": "markdown",
   "metadata": {},
   "source": [
    "# Drop Duplicates"
   ]
  },
  {
   "cell_type": "code",
   "execution_count": 8,
   "metadata": {
    "collapsed": true
   },
   "outputs": [],
   "source": [
    "df.drop_duplicates(inplace=True)"
   ]
  },
  {
   "cell_type": "code",
   "execution_count": 9,
   "metadata": {},
   "outputs": [
    {
     "data": {
      "text/plain": [
       "(173794, 3)"
      ]
     },
     "execution_count": 9,
     "metadata": {},
     "output_type": "execute_result"
    }
   ],
   "source": [
    "df.shape"
   ]
  },
  {
   "cell_type": "markdown",
   "metadata": {},
   "source": [
    "# Create Matrix"
   ]
  },
  {
   "cell_type": "code",
   "execution_count": 10,
   "metadata": {
    "collapsed": true
   },
   "outputs": [],
   "source": [
    "genes = df['gene_name'].unique().tolist()\n",
    "samples = df['SAMPLE_NAME'].unique().tolist()"
   ]
  },
  {
   "cell_type": "code",
   "execution_count": 11,
   "metadata": {
    "collapsed": true
   },
   "outputs": [],
   "source": [
    "df.set_index('SAMPLE_NAME', inplace=True)"
   ]
  },
  {
   "cell_type": "code",
   "execution_count": 12,
   "metadata": {
    "collapsed": true
   },
   "outputs": [],
   "source": [
    "matrix = pd.DataFrame(index=genes, columns=samples)\n",
    "\n",
    "matrix.replace(np.nan, 0, inplace=True)"
   ]
  },
  {
   "cell_type": "code",
   "execution_count": 13,
   "metadata": {},
   "outputs": [
    {
     "name": "stdout",
     "output_type": "stream",
     "text": [
      "Progress: 1012 Out of 1012 which is 100%   \r"
     ]
    }
   ],
   "source": [
    "for i,col in enumerate(matrix.columns):\n",
    "    \n",
    "    progress = ((i+1)/len(matrix.columns))*100\n",
    "        \n",
    "    sys.stdout.write(\"Progress: %d Out of %d which is %d%%   \\r\" % ((i+1), len(matrix.columns), progress))\n",
    "    sys.stdout.flush()\n",
    "    \n",
    "    if df.loc[col, 'gene_name'].shape[0] > 1:\n",
    "        matrix.ix[df.loc[col, 'gene_name'].values.tolist(), col] = df.ix[col, 'TOTAL_CN'].values.tolist()\n",
    "    else:\n",
    "        matrix.ix[df.loc[col, 'gene_name'], col] = df.ix[col, 'TOTAL_CN']"
   ]
  },
  {
   "cell_type": "code",
   "execution_count": 14,
   "metadata": {},
   "outputs": [
    {
     "data": {
      "text/html": [
       "<div>\n",
       "<table border=\"1\" class=\"dataframe\">\n",
       "  <thead>\n",
       "    <tr style=\"text-align: right;\">\n",
       "      <th></th>\n",
       "      <th>MC-CAR</th>\n",
       "      <th>PFSK-1</th>\n",
       "      <th>A673</th>\n",
       "      <th>ES3</th>\n",
       "      <th>ES5</th>\n",
       "      <th>ES7</th>\n",
       "      <th>EW-11</th>\n",
       "      <th>SK-ES-1</th>\n",
       "      <th>NCI-H1395</th>\n",
       "      <th>COLO-829</th>\n",
       "      <th>...</th>\n",
       "      <th>SNU-1040</th>\n",
       "      <th>SNU-175</th>\n",
       "      <th>SNU-283</th>\n",
       "      <th>SNU-407</th>\n",
       "      <th>SNU-61</th>\n",
       "      <th>SNU-81</th>\n",
       "      <th>SNU-C5</th>\n",
       "      <th>DIFI</th>\n",
       "      <th>LIM1215</th>\n",
       "      <th>GEO</th>\n",
       "    </tr>\n",
       "  </thead>\n",
       "  <tbody>\n",
       "    <tr>\n",
       "      <th>GYG2P1</th>\n",
       "      <td>5</td>\n",
       "      <td>0</td>\n",
       "      <td>0</td>\n",
       "      <td>0</td>\n",
       "      <td>0</td>\n",
       "      <td>0</td>\n",
       "      <td>0</td>\n",
       "      <td>0</td>\n",
       "      <td>0</td>\n",
       "      <td>0</td>\n",
       "      <td>...</td>\n",
       "      <td>0</td>\n",
       "      <td>0</td>\n",
       "      <td>0</td>\n",
       "      <td>0</td>\n",
       "      <td>0</td>\n",
       "      <td>0</td>\n",
       "      <td>0</td>\n",
       "      <td>0</td>\n",
       "      <td>0</td>\n",
       "      <td>0</td>\n",
       "    </tr>\n",
       "    <tr>\n",
       "      <th>CDY1B</th>\n",
       "      <td>7</td>\n",
       "      <td>14</td>\n",
       "      <td>0</td>\n",
       "      <td>0</td>\n",
       "      <td>13</td>\n",
       "      <td>0</td>\n",
       "      <td>0</td>\n",
       "      <td>0</td>\n",
       "      <td>0</td>\n",
       "      <td>0</td>\n",
       "      <td>...</td>\n",
       "      <td>14</td>\n",
       "      <td>0</td>\n",
       "      <td>0</td>\n",
       "      <td>7</td>\n",
       "      <td>0</td>\n",
       "      <td>0</td>\n",
       "      <td>0</td>\n",
       "      <td>0</td>\n",
       "      <td>8</td>\n",
       "      <td>0</td>\n",
       "    </tr>\n",
       "    <tr>\n",
       "      <th>CTDSPL</th>\n",
       "      <td>0</td>\n",
       "      <td>0</td>\n",
       "      <td>0</td>\n",
       "      <td>0</td>\n",
       "      <td>0</td>\n",
       "      <td>0</td>\n",
       "      <td>0</td>\n",
       "      <td>0</td>\n",
       "      <td>0</td>\n",
       "      <td>0</td>\n",
       "      <td>...</td>\n",
       "      <td>0</td>\n",
       "      <td>0</td>\n",
       "      <td>0</td>\n",
       "      <td>0</td>\n",
       "      <td>0</td>\n",
       "      <td>0</td>\n",
       "      <td>0</td>\n",
       "      <td>0</td>\n",
       "      <td>0</td>\n",
       "      <td>0</td>\n",
       "    </tr>\n",
       "    <tr>\n",
       "      <th>LCE3C</th>\n",
       "      <td>0</td>\n",
       "      <td>9</td>\n",
       "      <td>0</td>\n",
       "      <td>0</td>\n",
       "      <td>0</td>\n",
       "      <td>0</td>\n",
       "      <td>0</td>\n",
       "      <td>7</td>\n",
       "      <td>9</td>\n",
       "      <td>0</td>\n",
       "      <td>...</td>\n",
       "      <td>0</td>\n",
       "      <td>0</td>\n",
       "      <td>0</td>\n",
       "      <td>0</td>\n",
       "      <td>0</td>\n",
       "      <td>0</td>\n",
       "      <td>0</td>\n",
       "      <td>0</td>\n",
       "      <td>0</td>\n",
       "      <td>0</td>\n",
       "    </tr>\n",
       "    <tr>\n",
       "      <th>DAZ1_ENST00000382510</th>\n",
       "      <td>7</td>\n",
       "      <td>14</td>\n",
       "      <td>0</td>\n",
       "      <td>0</td>\n",
       "      <td>13</td>\n",
       "      <td>0</td>\n",
       "      <td>0</td>\n",
       "      <td>0</td>\n",
       "      <td>0</td>\n",
       "      <td>0</td>\n",
       "      <td>...</td>\n",
       "      <td>14</td>\n",
       "      <td>0</td>\n",
       "      <td>0</td>\n",
       "      <td>7</td>\n",
       "      <td>0</td>\n",
       "      <td>0</td>\n",
       "      <td>0</td>\n",
       "      <td>0</td>\n",
       "      <td>6</td>\n",
       "      <td>0</td>\n",
       "    </tr>\n",
       "  </tbody>\n",
       "</table>\n",
       "<p>5 rows × 1012 columns</p>\n",
       "</div>"
      ],
      "text/plain": [
       "                      MC-CAR  PFSK-1  A673  ES3  ES5  ES7  EW-11  SK-ES-1  \\\n",
       "GYG2P1                     5       0     0    0    0    0      0        0   \n",
       "CDY1B                      7      14     0    0   13    0      0        0   \n",
       "CTDSPL                     0       0     0    0    0    0      0        0   \n",
       "LCE3C                      0       9     0    0    0    0      0        7   \n",
       "DAZ1_ENST00000382510       7      14     0    0   13    0      0        0   \n",
       "\n",
       "                      NCI-H1395  COLO-829 ...   SNU-1040  SNU-175  SNU-283  \\\n",
       "GYG2P1                        0         0 ...          0        0        0   \n",
       "CDY1B                         0         0 ...         14        0        0   \n",
       "CTDSPL                        0         0 ...          0        0        0   \n",
       "LCE3C                         9         0 ...          0        0        0   \n",
       "DAZ1_ENST00000382510          0         0 ...         14        0        0   \n",
       "\n",
       "                      SNU-407  SNU-61  SNU-81  SNU-C5  DIFI  LIM1215  GEO  \n",
       "GYG2P1                      0       0       0       0     0        0    0  \n",
       "CDY1B                       7       0       0       0     0        8    0  \n",
       "CTDSPL                      0       0       0       0     0        0    0  \n",
       "LCE3C                       0       0       0       0     0        0    0  \n",
       "DAZ1_ENST00000382510        7       0       0       0     0        6    0  \n",
       "\n",
       "[5 rows x 1012 columns]"
      ]
     },
     "execution_count": 14,
     "metadata": {},
     "output_type": "execute_result"
    }
   ],
   "source": [
    "matrix.head()"
   ]
  },
  {
   "cell_type": "code",
   "execution_count": 15,
   "metadata": {},
   "outputs": [
    {
     "data": {
      "text/plain": [
       "(25106, 1012)"
      ]
     },
     "execution_count": 15,
     "metadata": {},
     "output_type": "execute_result"
    }
   ],
   "source": [
    "matrix.shape"
   ]
  },
  {
   "cell_type": "markdown",
   "metadata": {},
   "source": [
    "# Get Only Gene Symbols in Index"
   ]
  },
  {
   "cell_type": "code",
   "execution_count": 16,
   "metadata": {},
   "outputs": [
    {
     "name": "stdout",
     "output_type": "stream",
     "text": [
      "Progress: 25106 Out of 25106 which is 100%   \r"
     ]
    }
   ],
   "source": [
    "lst = []\n",
    "\n",
    "for i,index in enumerate(matrix.index):\n",
    "    \n",
    "    progress = ((i+1)/len(matrix.index))*100\n",
    "        \n",
    "    sys.stdout.write(\"Progress: %d Out of %d which is %d%%   \\r\" % ((i+1), len(matrix.index), progress))\n",
    "    sys.stdout.flush()\n",
    "    \n",
    "    lst.append(index.split('_')[0])\n",
    "    \n",
    "matrix.index = lst"
   ]
  },
  {
   "cell_type": "markdown",
   "metadata": {},
   "source": [
    "# Map Gene Symbols To Up-to-date Approved Gene Symbols"
   ]
  },
  {
   "cell_type": "code",
   "execution_count": 17,
   "metadata": {},
   "outputs": [
    {
     "name": "stdout",
     "output_type": "stream",
     "text": [
      "Progeres: 100%  25106 Out of 25106   \r"
     ]
    }
   ],
   "source": [
    "uf.mapgenesymbols(matrix)"
   ]
  },
  {
   "cell_type": "code",
   "execution_count": 18,
   "metadata": {},
   "outputs": [
    {
     "data": {
      "text/plain": [
       "(23705, 1012)"
      ]
     },
     "execution_count": 18,
     "metadata": {},
     "output_type": "execute_result"
    }
   ],
   "source": [
    "matrix.shape"
   ]
  },
  {
   "cell_type": "markdown",
   "metadata": {},
   "source": [
    "# Merge Duplicate Genes By Rows"
   ]
  },
  {
   "cell_type": "code",
   "execution_count": 19,
   "metadata": {
    "collapsed": true
   },
   "outputs": [],
   "source": [
    "matrix = uf.merge(matrix, 'row', 'mean')"
   ]
  },
  {
   "cell_type": "code",
   "execution_count": 20,
   "metadata": {},
   "outputs": [
    {
     "data": {
      "text/plain": [
       "(16080, 1012)"
      ]
     },
     "execution_count": 20,
     "metadata": {},
     "output_type": "execute_result"
    }
   ],
   "source": [
    "matrix.shape"
   ]
  },
  {
   "cell_type": "markdown",
   "metadata": {},
   "source": [
    "# Drop Gene That have Zero Value Across All Samples "
   ]
  },
  {
   "cell_type": "code",
   "execution_count": 21,
   "metadata": {
    "collapsed": true
   },
   "outputs": [],
   "source": [
    "matrix.replace(0.0, np.nan, inplace=True)"
   ]
  },
  {
   "cell_type": "code",
   "execution_count": 22,
   "metadata": {
    "collapsed": true
   },
   "outputs": [],
   "source": [
    "matrix.dropna(how='all', axis=0,inplace=True)"
   ]
  },
  {
   "cell_type": "code",
   "execution_count": 23,
   "metadata": {},
   "outputs": [
    {
     "data": {
      "text/plain": [
       "(15685, 1012)"
      ]
     },
     "execution_count": 23,
     "metadata": {},
     "output_type": "execute_result"
    }
   ],
   "source": [
    "matrix.shape"
   ]
  },
  {
   "cell_type": "markdown",
   "metadata": {},
   "source": [
    "# Drop Samples with Zero Value Across all Genes"
   ]
  },
  {
   "cell_type": "code",
   "execution_count": 24,
   "metadata": {
    "collapsed": true
   },
   "outputs": [],
   "source": [
    "matrix.dropna(how='all', axis=1,inplace=True)"
   ]
  },
  {
   "cell_type": "code",
   "execution_count": 25,
   "metadata": {},
   "outputs": [
    {
     "data": {
      "text/plain": [
       "(15685, 798)"
      ]
     },
     "execution_count": 25,
     "metadata": {},
     "output_type": "execute_result"
    }
   ],
   "source": [
    "matrix.shape"
   ]
  },
  {
   "cell_type": "code",
   "execution_count": 26,
   "metadata": {
    "collapsed": true
   },
   "outputs": [],
   "source": [
    "matrix.replace(np.nan, 0.0, inplace=True)"
   ]
  },
  {
   "cell_type": "markdown",
   "metadata": {},
   "source": [
    "# Save Unfiltered Matrix To File"
   ]
  },
  {
   "cell_type": "code",
   "execution_count": 27,
   "metadata": {
    "collapsed": true
   },
   "outputs": [],
   "source": [
    "filename = 'Output/cosmic_cnv_matrix_unfilltered_%s.tsv.zip'% str(datetime.date.today())[0:7].replace('-', '_')\n",
    "matrix.to_csv(filename, sep='\\t', compression='gzip')"
   ]
  },
  {
   "cell_type": "markdown",
   "metadata": {},
   "source": [
    "# Normalize Matrix"
   ]
  },
  {
   "cell_type": "code",
   "execution_count": 28,
   "metadata": {
    "collapsed": true
   },
   "outputs": [],
   "source": [
    "normalized_matrix = matrix.copy()"
   ]
  },
  {
   "cell_type": "markdown",
   "metadata": {},
   "source": [
    "# Quantile Normalize the matrix for the columns"
   ]
  },
  {
   "cell_type": "code",
   "execution_count": 29,
   "metadata": {},
   "outputs": [
    {
     "name": "stdout",
     "output_type": "stream",
     "text": [
      "Step 2/2 progress: 100%  798 Out of 798   \r"
     ]
    }
   ],
   "source": [
    "normalized_matrix = uf.quantileNormalize(normalized_matrix)"
   ]
  },
  {
   "cell_type": "code",
   "execution_count": 30,
   "metadata": {},
   "outputs": [
    {
     "data": {
      "text/html": [
       "<div>\n",
       "<table border=\"1\" class=\"dataframe\">\n",
       "  <thead>\n",
       "    <tr style=\"text-align: right;\">\n",
       "      <th></th>\n",
       "      <th>MC-CAR</th>\n",
       "      <th>PFSK-1</th>\n",
       "      <th>A673</th>\n",
       "      <th>ES3</th>\n",
       "      <th>ES5</th>\n",
       "      <th>SK-ES-1</th>\n",
       "      <th>NCI-H1395</th>\n",
       "      <th>5637</th>\n",
       "      <th>RT4</th>\n",
       "      <th>TCCSUP</th>\n",
       "      <th>...</th>\n",
       "      <th>OCI-LY7</th>\n",
       "      <th>Set2</th>\n",
       "      <th>SNU-1040</th>\n",
       "      <th>SNU-283</th>\n",
       "      <th>SNU-407</th>\n",
       "      <th>SNU-61</th>\n",
       "      <th>SNU-81</th>\n",
       "      <th>DIFI</th>\n",
       "      <th>LIM1215</th>\n",
       "      <th>GEO</th>\n",
       "    </tr>\n",
       "    <tr>\n",
       "      <th>index</th>\n",
       "      <th></th>\n",
       "      <th></th>\n",
       "      <th></th>\n",
       "      <th></th>\n",
       "      <th></th>\n",
       "      <th></th>\n",
       "      <th></th>\n",
       "      <th></th>\n",
       "      <th></th>\n",
       "      <th></th>\n",
       "      <th></th>\n",
       "      <th></th>\n",
       "      <th></th>\n",
       "      <th></th>\n",
       "      <th></th>\n",
       "      <th></th>\n",
       "      <th></th>\n",
       "      <th></th>\n",
       "      <th></th>\n",
       "      <th></th>\n",
       "      <th></th>\n",
       "    </tr>\n",
       "  </thead>\n",
       "  <tbody>\n",
       "    <tr>\n",
       "      <th>A1BG</th>\n",
       "      <td>0.0</td>\n",
       "      <td>0.0</td>\n",
       "      <td>0.0</td>\n",
       "      <td>0.0</td>\n",
       "      <td>0.0</td>\n",
       "      <td>0.0</td>\n",
       "      <td>0.0</td>\n",
       "      <td>0.0</td>\n",
       "      <td>0.0</td>\n",
       "      <td>0.0</td>\n",
       "      <td>...</td>\n",
       "      <td>0.0</td>\n",
       "      <td>0.0</td>\n",
       "      <td>0.0</td>\n",
       "      <td>0.0</td>\n",
       "      <td>0.0</td>\n",
       "      <td>0.0</td>\n",
       "      <td>0.0</td>\n",
       "      <td>0.0</td>\n",
       "      <td>0.0</td>\n",
       "      <td>0.0</td>\n",
       "    </tr>\n",
       "    <tr>\n",
       "      <th>A1CF</th>\n",
       "      <td>0.0</td>\n",
       "      <td>0.0</td>\n",
       "      <td>0.0</td>\n",
       "      <td>0.0</td>\n",
       "      <td>0.0</td>\n",
       "      <td>0.0</td>\n",
       "      <td>0.0</td>\n",
       "      <td>0.0</td>\n",
       "      <td>0.0</td>\n",
       "      <td>0.0</td>\n",
       "      <td>...</td>\n",
       "      <td>0.0</td>\n",
       "      <td>0.0</td>\n",
       "      <td>0.0</td>\n",
       "      <td>0.0</td>\n",
       "      <td>0.0</td>\n",
       "      <td>0.0</td>\n",
       "      <td>0.0</td>\n",
       "      <td>0.0</td>\n",
       "      <td>0.0</td>\n",
       "      <td>0.0</td>\n",
       "    </tr>\n",
       "    <tr>\n",
       "      <th>A2M</th>\n",
       "      <td>0.0</td>\n",
       "      <td>0.0</td>\n",
       "      <td>0.0</td>\n",
       "      <td>0.0</td>\n",
       "      <td>0.0</td>\n",
       "      <td>0.0</td>\n",
       "      <td>0.0</td>\n",
       "      <td>0.0</td>\n",
       "      <td>0.0</td>\n",
       "      <td>0.0</td>\n",
       "      <td>...</td>\n",
       "      <td>0.0</td>\n",
       "      <td>0.0</td>\n",
       "      <td>0.0</td>\n",
       "      <td>0.0</td>\n",
       "      <td>0.0</td>\n",
       "      <td>0.0</td>\n",
       "      <td>0.0</td>\n",
       "      <td>0.0</td>\n",
       "      <td>0.0</td>\n",
       "      <td>0.0</td>\n",
       "    </tr>\n",
       "    <tr>\n",
       "      <th>A2ML1</th>\n",
       "      <td>0.0</td>\n",
       "      <td>0.0</td>\n",
       "      <td>0.0</td>\n",
       "      <td>0.0</td>\n",
       "      <td>0.0</td>\n",
       "      <td>0.0</td>\n",
       "      <td>0.0</td>\n",
       "      <td>0.0</td>\n",
       "      <td>0.0</td>\n",
       "      <td>0.0</td>\n",
       "      <td>...</td>\n",
       "      <td>0.0</td>\n",
       "      <td>0.0</td>\n",
       "      <td>0.0</td>\n",
       "      <td>0.0</td>\n",
       "      <td>0.0</td>\n",
       "      <td>0.0</td>\n",
       "      <td>0.0</td>\n",
       "      <td>0.0</td>\n",
       "      <td>0.0</td>\n",
       "      <td>0.0</td>\n",
       "    </tr>\n",
       "    <tr>\n",
       "      <th>A3GALT2</th>\n",
       "      <td>0.0</td>\n",
       "      <td>0.0</td>\n",
       "      <td>0.0</td>\n",
       "      <td>0.0</td>\n",
       "      <td>0.0</td>\n",
       "      <td>0.0</td>\n",
       "      <td>0.0</td>\n",
       "      <td>0.0</td>\n",
       "      <td>0.0</td>\n",
       "      <td>0.0</td>\n",
       "      <td>...</td>\n",
       "      <td>0.0</td>\n",
       "      <td>0.0</td>\n",
       "      <td>0.0</td>\n",
       "      <td>0.0</td>\n",
       "      <td>0.0</td>\n",
       "      <td>0.0</td>\n",
       "      <td>0.0</td>\n",
       "      <td>0.0</td>\n",
       "      <td>0.0</td>\n",
       "      <td>0.0</td>\n",
       "    </tr>\n",
       "  </tbody>\n",
       "</table>\n",
       "<p>5 rows × 798 columns</p>\n",
       "</div>"
      ],
      "text/plain": [
       "         MC-CAR  PFSK-1  A673  ES3  ES5  SK-ES-1  NCI-H1395  5637  RT4  \\\n",
       "index                                                                    \n",
       "A1BG        0.0     0.0   0.0  0.0  0.0      0.0        0.0   0.0  0.0   \n",
       "A1CF        0.0     0.0   0.0  0.0  0.0      0.0        0.0   0.0  0.0   \n",
       "A2M         0.0     0.0   0.0  0.0  0.0      0.0        0.0   0.0  0.0   \n",
       "A2ML1       0.0     0.0   0.0  0.0  0.0      0.0        0.0   0.0  0.0   \n",
       "A3GALT2     0.0     0.0   0.0  0.0  0.0      0.0        0.0   0.0  0.0   \n",
       "\n",
       "         TCCSUP ...   OCI-LY7  Set2  SNU-1040  SNU-283  SNU-407  SNU-61  \\\n",
       "index           ...                                                       \n",
       "A1BG        0.0 ...       0.0   0.0       0.0      0.0      0.0     0.0   \n",
       "A1CF        0.0 ...       0.0   0.0       0.0      0.0      0.0     0.0   \n",
       "A2M         0.0 ...       0.0   0.0       0.0      0.0      0.0     0.0   \n",
       "A2ML1       0.0 ...       0.0   0.0       0.0      0.0      0.0     0.0   \n",
       "A3GALT2     0.0 ...       0.0   0.0       0.0      0.0      0.0     0.0   \n",
       "\n",
       "         SNU-81  DIFI  LIM1215  GEO  \n",
       "index                                \n",
       "A1BG        0.0   0.0      0.0  0.0  \n",
       "A1CF        0.0   0.0      0.0  0.0  \n",
       "A2M         0.0   0.0      0.0  0.0  \n",
       "A2ML1       0.0   0.0      0.0  0.0  \n",
       "A3GALT2     0.0   0.0      0.0  0.0  \n",
       "\n",
       "[5 rows x 798 columns]"
      ]
     },
     "execution_count": 30,
     "metadata": {},
     "output_type": "execute_result"
    }
   ],
   "source": [
    "normalized_matrix.head()"
   ]
  },
  {
   "cell_type": "markdown",
   "metadata": {},
   "source": [
    "# Nomalize Matrix (z-score the rows)"
   ]
  },
  {
   "cell_type": "code",
   "execution_count": 31,
   "metadata": {},
   "outputs": [
    {
     "name": "stdout",
     "output_type": "stream",
     "text": [
      "Progress: 100%  15685 Out of 15685   \r"
     ]
    }
   ],
   "source": [
    "uf.zscore(normalized_matrix, 'row')"
   ]
  },
  {
   "cell_type": "code",
   "execution_count": 32,
   "metadata": {},
   "outputs": [
    {
     "data": {
      "text/html": [
       "<div>\n",
       "<table border=\"1\" class=\"dataframe\">\n",
       "  <thead>\n",
       "    <tr style=\"text-align: right;\">\n",
       "      <th></th>\n",
       "      <th>MC-CAR</th>\n",
       "      <th>PFSK-1</th>\n",
       "      <th>A673</th>\n",
       "      <th>ES3</th>\n",
       "      <th>ES5</th>\n",
       "      <th>SK-ES-1</th>\n",
       "      <th>NCI-H1395</th>\n",
       "      <th>5637</th>\n",
       "      <th>RT4</th>\n",
       "      <th>TCCSUP</th>\n",
       "      <th>...</th>\n",
       "      <th>OCI-LY7</th>\n",
       "      <th>Set2</th>\n",
       "      <th>SNU-1040</th>\n",
       "      <th>SNU-283</th>\n",
       "      <th>SNU-407</th>\n",
       "      <th>SNU-61</th>\n",
       "      <th>SNU-81</th>\n",
       "      <th>DIFI</th>\n",
       "      <th>LIM1215</th>\n",
       "      <th>GEO</th>\n",
       "    </tr>\n",
       "    <tr>\n",
       "      <th>index</th>\n",
       "      <th></th>\n",
       "      <th></th>\n",
       "      <th></th>\n",
       "      <th></th>\n",
       "      <th></th>\n",
       "      <th></th>\n",
       "      <th></th>\n",
       "      <th></th>\n",
       "      <th></th>\n",
       "      <th></th>\n",
       "      <th></th>\n",
       "      <th></th>\n",
       "      <th></th>\n",
       "      <th></th>\n",
       "      <th></th>\n",
       "      <th></th>\n",
       "      <th></th>\n",
       "      <th></th>\n",
       "      <th></th>\n",
       "      <th></th>\n",
       "      <th></th>\n",
       "    </tr>\n",
       "  </thead>\n",
       "  <tbody>\n",
       "    <tr>\n",
       "      <th>A1BG</th>\n",
       "      <td>-0.044967</td>\n",
       "      <td>-0.044967</td>\n",
       "      <td>-0.044967</td>\n",
       "      <td>-0.044967</td>\n",
       "      <td>-0.044967</td>\n",
       "      <td>-0.044967</td>\n",
       "      <td>-0.044967</td>\n",
       "      <td>-0.044967</td>\n",
       "      <td>-0.044967</td>\n",
       "      <td>-0.044967</td>\n",
       "      <td>...</td>\n",
       "      <td>-0.044967</td>\n",
       "      <td>-0.044967</td>\n",
       "      <td>-0.044967</td>\n",
       "      <td>-0.044967</td>\n",
       "      <td>-0.044967</td>\n",
       "      <td>-0.044967</td>\n",
       "      <td>-0.044967</td>\n",
       "      <td>-0.044967</td>\n",
       "      <td>-0.044967</td>\n",
       "      <td>-0.044967</td>\n",
       "    </tr>\n",
       "    <tr>\n",
       "      <th>A1CF</th>\n",
       "      <td>-0.040725</td>\n",
       "      <td>-0.040725</td>\n",
       "      <td>-0.040725</td>\n",
       "      <td>-0.040725</td>\n",
       "      <td>-0.040725</td>\n",
       "      <td>-0.040725</td>\n",
       "      <td>-0.040725</td>\n",
       "      <td>-0.040725</td>\n",
       "      <td>-0.040725</td>\n",
       "      <td>-0.040725</td>\n",
       "      <td>...</td>\n",
       "      <td>-0.040725</td>\n",
       "      <td>-0.040725</td>\n",
       "      <td>-0.040725</td>\n",
       "      <td>-0.040725</td>\n",
       "      <td>-0.040725</td>\n",
       "      <td>-0.040725</td>\n",
       "      <td>-0.040725</td>\n",
       "      <td>-0.040725</td>\n",
       "      <td>-0.040725</td>\n",
       "      <td>-0.040725</td>\n",
       "    </tr>\n",
       "    <tr>\n",
       "      <th>A2M</th>\n",
       "      <td>-0.072711</td>\n",
       "      <td>-0.072711</td>\n",
       "      <td>-0.072711</td>\n",
       "      <td>-0.072711</td>\n",
       "      <td>-0.072711</td>\n",
       "      <td>-0.072711</td>\n",
       "      <td>-0.072711</td>\n",
       "      <td>-0.072711</td>\n",
       "      <td>-0.072711</td>\n",
       "      <td>-0.072711</td>\n",
       "      <td>...</td>\n",
       "      <td>-0.072711</td>\n",
       "      <td>-0.072711</td>\n",
       "      <td>-0.072711</td>\n",
       "      <td>-0.072711</td>\n",
       "      <td>-0.072711</td>\n",
       "      <td>-0.072711</td>\n",
       "      <td>-0.072711</td>\n",
       "      <td>-0.072711</td>\n",
       "      <td>-0.072711</td>\n",
       "      <td>-0.072711</td>\n",
       "    </tr>\n",
       "    <tr>\n",
       "      <th>A2ML1</th>\n",
       "      <td>-0.072711</td>\n",
       "      <td>-0.072711</td>\n",
       "      <td>-0.072711</td>\n",
       "      <td>-0.072711</td>\n",
       "      <td>-0.072711</td>\n",
       "      <td>-0.072711</td>\n",
       "      <td>-0.072711</td>\n",
       "      <td>-0.072711</td>\n",
       "      <td>-0.072711</td>\n",
       "      <td>-0.072711</td>\n",
       "      <td>...</td>\n",
       "      <td>-0.072711</td>\n",
       "      <td>-0.072711</td>\n",
       "      <td>-0.072711</td>\n",
       "      <td>-0.072711</td>\n",
       "      <td>-0.072711</td>\n",
       "      <td>-0.072711</td>\n",
       "      <td>-0.072711</td>\n",
       "      <td>-0.072711</td>\n",
       "      <td>-0.072711</td>\n",
       "      <td>-0.072711</td>\n",
       "    </tr>\n",
       "    <tr>\n",
       "      <th>A3GALT2</th>\n",
       "      <td>-0.037107</td>\n",
       "      <td>-0.037107</td>\n",
       "      <td>-0.037107</td>\n",
       "      <td>-0.037107</td>\n",
       "      <td>-0.037107</td>\n",
       "      <td>-0.037107</td>\n",
       "      <td>-0.037107</td>\n",
       "      <td>-0.037107</td>\n",
       "      <td>-0.037107</td>\n",
       "      <td>-0.037107</td>\n",
       "      <td>...</td>\n",
       "      <td>-0.037107</td>\n",
       "      <td>-0.037107</td>\n",
       "      <td>-0.037107</td>\n",
       "      <td>-0.037107</td>\n",
       "      <td>-0.037107</td>\n",
       "      <td>-0.037107</td>\n",
       "      <td>-0.037107</td>\n",
       "      <td>-0.037107</td>\n",
       "      <td>-0.037107</td>\n",
       "      <td>-0.037107</td>\n",
       "    </tr>\n",
       "  </tbody>\n",
       "</table>\n",
       "<p>5 rows × 798 columns</p>\n",
       "</div>"
      ],
      "text/plain": [
       "           MC-CAR    PFSK-1      A673       ES3       ES5   SK-ES-1  \\\n",
       "index                                                                 \n",
       "A1BG    -0.044967 -0.044967 -0.044967 -0.044967 -0.044967 -0.044967   \n",
       "A1CF    -0.040725 -0.040725 -0.040725 -0.040725 -0.040725 -0.040725   \n",
       "A2M     -0.072711 -0.072711 -0.072711 -0.072711 -0.072711 -0.072711   \n",
       "A2ML1   -0.072711 -0.072711 -0.072711 -0.072711 -0.072711 -0.072711   \n",
       "A3GALT2 -0.037107 -0.037107 -0.037107 -0.037107 -0.037107 -0.037107   \n",
       "\n",
       "         NCI-H1395      5637       RT4    TCCSUP    ...      OCI-LY7  \\\n",
       "index                                               ...                \n",
       "A1BG     -0.044967 -0.044967 -0.044967 -0.044967    ...    -0.044967   \n",
       "A1CF     -0.040725 -0.040725 -0.040725 -0.040725    ...    -0.040725   \n",
       "A2M      -0.072711 -0.072711 -0.072711 -0.072711    ...    -0.072711   \n",
       "A2ML1    -0.072711 -0.072711 -0.072711 -0.072711    ...    -0.072711   \n",
       "A3GALT2  -0.037107 -0.037107 -0.037107 -0.037107    ...    -0.037107   \n",
       "\n",
       "             Set2  SNU-1040   SNU-283   SNU-407    SNU-61    SNU-81      DIFI  \\\n",
       "index                                                                           \n",
       "A1BG    -0.044967 -0.044967 -0.044967 -0.044967 -0.044967 -0.044967 -0.044967   \n",
       "A1CF    -0.040725 -0.040725 -0.040725 -0.040725 -0.040725 -0.040725 -0.040725   \n",
       "A2M     -0.072711 -0.072711 -0.072711 -0.072711 -0.072711 -0.072711 -0.072711   \n",
       "A2ML1   -0.072711 -0.072711 -0.072711 -0.072711 -0.072711 -0.072711 -0.072711   \n",
       "A3GALT2 -0.037107 -0.037107 -0.037107 -0.037107 -0.037107 -0.037107 -0.037107   \n",
       "\n",
       "          LIM1215       GEO  \n",
       "index                        \n",
       "A1BG    -0.044967 -0.044967  \n",
       "A1CF    -0.040725 -0.040725  \n",
       "A2M     -0.072711 -0.072711  \n",
       "A2ML1   -0.072711 -0.072711  \n",
       "A3GALT2 -0.037107 -0.037107  \n",
       "\n",
       "[5 rows x 798 columns]"
      ]
     },
     "execution_count": 32,
     "metadata": {},
     "output_type": "execute_result"
    }
   ],
   "source": [
    "normalized_matrix.head()"
   ]
  },
  {
   "cell_type": "markdown",
   "metadata": {
    "collapsed": true
   },
   "source": [
    "# Save Filtered Matrix"
   ]
  },
  {
   "cell_type": "code",
   "execution_count": 33,
   "metadata": {
    "collapsed": true
   },
   "outputs": [],
   "source": [
    "filename = 'Output/cosmic_cnv_matrix_filltered_%s.tsv.zip'% str(datetime.date.today())[0:7].replace('-', '_')\n",
    "normalized_matrix.to_csv(filename, sep='\\t', compression='gzip')"
   ]
  },
  {
   "cell_type": "markdown",
   "metadata": {},
   "source": [
    "# Create Tertiary Matrix"
   ]
  },
  {
   "cell_type": "code",
   "execution_count": 34,
   "metadata": {},
   "outputs": [
    {
     "name": "stdout",
     "output_type": "stream",
     "text": [
      "Progeres: 100%  798 Out of 798   \r"
     ]
    }
   ],
   "source": [
    "tertiary_matrix = uf.createTertiaryMarix(normalized_matrix)"
   ]
  },
  {
   "cell_type": "code",
   "execution_count": 35,
   "metadata": {},
   "outputs": [
    {
     "data": {
      "text/html": [
       "<div>\n",
       "<table border=\"1\" class=\"dataframe\">\n",
       "  <thead>\n",
       "    <tr style=\"text-align: right;\">\n",
       "      <th></th>\n",
       "      <th>MC-CAR</th>\n",
       "      <th>PFSK-1</th>\n",
       "      <th>A673</th>\n",
       "      <th>ES3</th>\n",
       "      <th>ES5</th>\n",
       "      <th>SK-ES-1</th>\n",
       "      <th>NCI-H1395</th>\n",
       "      <th>5637</th>\n",
       "      <th>RT4</th>\n",
       "      <th>TCCSUP</th>\n",
       "      <th>...</th>\n",
       "      <th>OCI-LY7</th>\n",
       "      <th>Set2</th>\n",
       "      <th>SNU-1040</th>\n",
       "      <th>SNU-283</th>\n",
       "      <th>SNU-407</th>\n",
       "      <th>SNU-61</th>\n",
       "      <th>SNU-81</th>\n",
       "      <th>DIFI</th>\n",
       "      <th>LIM1215</th>\n",
       "      <th>GEO</th>\n",
       "    </tr>\n",
       "    <tr>\n",
       "      <th>index</th>\n",
       "      <th></th>\n",
       "      <th></th>\n",
       "      <th></th>\n",
       "      <th></th>\n",
       "      <th></th>\n",
       "      <th></th>\n",
       "      <th></th>\n",
       "      <th></th>\n",
       "      <th></th>\n",
       "      <th></th>\n",
       "      <th></th>\n",
       "      <th></th>\n",
       "      <th></th>\n",
       "      <th></th>\n",
       "      <th></th>\n",
       "      <th></th>\n",
       "      <th></th>\n",
       "      <th></th>\n",
       "      <th></th>\n",
       "      <th></th>\n",
       "      <th></th>\n",
       "    </tr>\n",
       "  </thead>\n",
       "  <tbody>\n",
       "    <tr>\n",
       "      <th>A1BG</th>\n",
       "      <td>0.0</td>\n",
       "      <td>0.0</td>\n",
       "      <td>0.0</td>\n",
       "      <td>0.0</td>\n",
       "      <td>0.0</td>\n",
       "      <td>0.0</td>\n",
       "      <td>0.0</td>\n",
       "      <td>0.0</td>\n",
       "      <td>0.0</td>\n",
       "      <td>0.0</td>\n",
       "      <td>...</td>\n",
       "      <td>0.0</td>\n",
       "      <td>0.0</td>\n",
       "      <td>0.0</td>\n",
       "      <td>0.0</td>\n",
       "      <td>0.0</td>\n",
       "      <td>0.0</td>\n",
       "      <td>0.0</td>\n",
       "      <td>0.0</td>\n",
       "      <td>0.0</td>\n",
       "      <td>0.0</td>\n",
       "    </tr>\n",
       "    <tr>\n",
       "      <th>A1CF</th>\n",
       "      <td>0.0</td>\n",
       "      <td>0.0</td>\n",
       "      <td>0.0</td>\n",
       "      <td>0.0</td>\n",
       "      <td>0.0</td>\n",
       "      <td>0.0</td>\n",
       "      <td>0.0</td>\n",
       "      <td>0.0</td>\n",
       "      <td>0.0</td>\n",
       "      <td>0.0</td>\n",
       "      <td>...</td>\n",
       "      <td>0.0</td>\n",
       "      <td>0.0</td>\n",
       "      <td>0.0</td>\n",
       "      <td>0.0</td>\n",
       "      <td>0.0</td>\n",
       "      <td>0.0</td>\n",
       "      <td>0.0</td>\n",
       "      <td>0.0</td>\n",
       "      <td>0.0</td>\n",
       "      <td>0.0</td>\n",
       "    </tr>\n",
       "    <tr>\n",
       "      <th>A2M</th>\n",
       "      <td>0.0</td>\n",
       "      <td>0.0</td>\n",
       "      <td>0.0</td>\n",
       "      <td>0.0</td>\n",
       "      <td>0.0</td>\n",
       "      <td>0.0</td>\n",
       "      <td>0.0</td>\n",
       "      <td>0.0</td>\n",
       "      <td>0.0</td>\n",
       "      <td>0.0</td>\n",
       "      <td>...</td>\n",
       "      <td>0.0</td>\n",
       "      <td>0.0</td>\n",
       "      <td>0.0</td>\n",
       "      <td>0.0</td>\n",
       "      <td>0.0</td>\n",
       "      <td>0.0</td>\n",
       "      <td>0.0</td>\n",
       "      <td>0.0</td>\n",
       "      <td>0.0</td>\n",
       "      <td>0.0</td>\n",
       "    </tr>\n",
       "    <tr>\n",
       "      <th>A2ML1</th>\n",
       "      <td>0.0</td>\n",
       "      <td>0.0</td>\n",
       "      <td>0.0</td>\n",
       "      <td>0.0</td>\n",
       "      <td>0.0</td>\n",
       "      <td>0.0</td>\n",
       "      <td>0.0</td>\n",
       "      <td>0.0</td>\n",
       "      <td>0.0</td>\n",
       "      <td>0.0</td>\n",
       "      <td>...</td>\n",
       "      <td>0.0</td>\n",
       "      <td>0.0</td>\n",
       "      <td>0.0</td>\n",
       "      <td>0.0</td>\n",
       "      <td>0.0</td>\n",
       "      <td>0.0</td>\n",
       "      <td>0.0</td>\n",
       "      <td>0.0</td>\n",
       "      <td>0.0</td>\n",
       "      <td>0.0</td>\n",
       "    </tr>\n",
       "    <tr>\n",
       "      <th>A3GALT2</th>\n",
       "      <td>0.0</td>\n",
       "      <td>0.0</td>\n",
       "      <td>0.0</td>\n",
       "      <td>0.0</td>\n",
       "      <td>0.0</td>\n",
       "      <td>0.0</td>\n",
       "      <td>0.0</td>\n",
       "      <td>0.0</td>\n",
       "      <td>0.0</td>\n",
       "      <td>0.0</td>\n",
       "      <td>...</td>\n",
       "      <td>0.0</td>\n",
       "      <td>0.0</td>\n",
       "      <td>0.0</td>\n",
       "      <td>0.0</td>\n",
       "      <td>0.0</td>\n",
       "      <td>0.0</td>\n",
       "      <td>0.0</td>\n",
       "      <td>0.0</td>\n",
       "      <td>0.0</td>\n",
       "      <td>0.0</td>\n",
       "    </tr>\n",
       "  </tbody>\n",
       "</table>\n",
       "<p>5 rows × 798 columns</p>\n",
       "</div>"
      ],
      "text/plain": [
       "         MC-CAR  PFSK-1  A673  ES3  ES5  SK-ES-1  NCI-H1395  5637  RT4  \\\n",
       "index                                                                    \n",
       "A1BG        0.0     0.0   0.0  0.0  0.0      0.0        0.0   0.0  0.0   \n",
       "A1CF        0.0     0.0   0.0  0.0  0.0      0.0        0.0   0.0  0.0   \n",
       "A2M         0.0     0.0   0.0  0.0  0.0      0.0        0.0   0.0  0.0   \n",
       "A2ML1       0.0     0.0   0.0  0.0  0.0      0.0        0.0   0.0  0.0   \n",
       "A3GALT2     0.0     0.0   0.0  0.0  0.0      0.0        0.0   0.0  0.0   \n",
       "\n",
       "         TCCSUP ...   OCI-LY7  Set2  SNU-1040  SNU-283  SNU-407  SNU-61  \\\n",
       "index           ...                                                       \n",
       "A1BG        0.0 ...       0.0   0.0       0.0      0.0      0.0     0.0   \n",
       "A1CF        0.0 ...       0.0   0.0       0.0      0.0      0.0     0.0   \n",
       "A2M         0.0 ...       0.0   0.0       0.0      0.0      0.0     0.0   \n",
       "A2ML1       0.0 ...       0.0   0.0       0.0      0.0      0.0     0.0   \n",
       "A3GALT2     0.0 ...       0.0   0.0       0.0      0.0      0.0     0.0   \n",
       "\n",
       "         SNU-81  DIFI  LIM1215  GEO  \n",
       "index                                \n",
       "A1BG        0.0   0.0      0.0  0.0  \n",
       "A1CF        0.0   0.0      0.0  0.0  \n",
       "A2M         0.0   0.0      0.0  0.0  \n",
       "A2ML1       0.0   0.0      0.0  0.0  \n",
       "A3GALT2     0.0   0.0      0.0  0.0  \n",
       "\n",
       "[5 rows x 798 columns]"
      ]
     },
     "execution_count": 35,
     "metadata": {},
     "output_type": "execute_result"
    }
   ],
   "source": [
    "tertiary_matrix.head()"
   ]
  },
  {
   "cell_type": "markdown",
   "metadata": {},
   "source": [
    "# Save Teriary Matrix"
   ]
  },
  {
   "cell_type": "code",
   "execution_count": 36,
   "metadata": {
    "collapsed": true
   },
   "outputs": [],
   "source": [
    "filename = 'Output/cosmic_cnv_tertiary_matrix_%s.tsv.zip'% str(datetime.date.today())[0:7].replace('-', '_')\n",
    "tertiary_matrix.to_csv(filename, sep='\\t', compression='gzip')"
   ]
  },
  {
   "cell_type": "markdown",
   "metadata": {},
   "source": [
    "#### Path to output files"
   ]
  },
  {
   "cell_type": "code",
   "execution_count": 37,
   "metadata": {
    "collapsed": true
   },
   "outputs": [],
   "source": [
    "path = '/Users/moshesilverstein/Documents/Harmonizome/COSMIC/CNV/Output/'"
   ]
  },
  {
   "cell_type": "markdown",
   "metadata": {},
   "source": [
    "# Create Up Gene Set Library"
   ]
  },
  {
   "cell_type": "code",
   "execution_count": 38,
   "metadata": {
    "collapsed": true
   },
   "outputs": [],
   "source": [
    "name = 'cosmic_cnv_gene_up_set'"
   ]
  },
  {
   "cell_type": "code",
   "execution_count": 39,
   "metadata": {},
   "outputs": [
    {
     "name": "stdout",
     "output_type": "stream",
     "text": [
      "Progeres: 100%  798 Out of 798   \r"
     ]
    }
   ],
   "source": [
    "uf.createUpGeneSetLib(tertiary_matrix, path, name)"
   ]
  },
  {
   "cell_type": "markdown",
   "metadata": {},
   "source": [
    "# Create Down Gene Set Library"
   ]
  },
  {
   "cell_type": "code",
   "execution_count": 40,
   "metadata": {
    "collapsed": true
   },
   "outputs": [],
   "source": [
    "name = 'cosmic_cnv_gene_down_set'"
   ]
  },
  {
   "cell_type": "code",
   "execution_count": 41,
   "metadata": {},
   "outputs": [
    {
     "name": "stdout",
     "output_type": "stream",
     "text": [
      "Progeres: 100%  798 Out of 798   \r"
     ]
    }
   ],
   "source": [
    "uf.createDownGeneSetLib(tertiary_matrix, path, name)"
   ]
  },
  {
   "cell_type": "markdown",
   "metadata": {},
   "source": [
    "# Create Up Attribute Library"
   ]
  },
  {
   "cell_type": "code",
   "execution_count": 42,
   "metadata": {
    "collapsed": true
   },
   "outputs": [],
   "source": [
    "name = 'cosmic_cnv_attribute_up_set'"
   ]
  },
  {
   "cell_type": "code",
   "execution_count": 43,
   "metadata": {},
   "outputs": [
    {
     "name": "stdout",
     "output_type": "stream",
     "text": [
      "Progeres: 100%  15685 Out of 15685   \r"
     ]
    }
   ],
   "source": [
    "uf.createUpAttributeSetLib(tertiary_matrix, path, name)"
   ]
  },
  {
   "cell_type": "markdown",
   "metadata": {},
   "source": [
    "# Create Down Attribute Library"
   ]
  },
  {
   "cell_type": "code",
   "execution_count": 44,
   "metadata": {
    "collapsed": true
   },
   "outputs": [],
   "source": [
    "name = 'cosmic_cnv_attribute_down_set'"
   ]
  },
  {
   "cell_type": "code",
   "execution_count": 45,
   "metadata": {},
   "outputs": [
    {
     "name": "stdout",
     "output_type": "stream",
     "text": [
      "Progeres: 100%  15685 Out of 15685   \r"
     ]
    }
   ],
   "source": [
    "uf.createDownAttributeSetLib(tertiary_matrix, path, name)"
   ]
  },
  {
   "cell_type": "markdown",
   "metadata": {},
   "source": [
    "# Create Gene Similarity Matrix"
   ]
  },
  {
   "cell_type": "code",
   "execution_count": 46,
   "metadata": {
    "collapsed": true
   },
   "outputs": [],
   "source": [
    "gene_similarity_matix = uf.createSimilarityMatrix(normalized_matrix, 'cosine')"
   ]
  },
  {
   "cell_type": "code",
   "execution_count": 47,
   "metadata": {},
   "outputs": [
    {
     "data": {
      "text/html": [
       "<div>\n",
       "<table border=\"1\" class=\"dataframe\">\n",
       "  <thead>\n",
       "    <tr style=\"text-align: right;\">\n",
       "      <th>index</th>\n",
       "      <th>A1BG</th>\n",
       "      <th>A1CF</th>\n",
       "      <th>A2M</th>\n",
       "      <th>A2ML1</th>\n",
       "      <th>A3GALT2</th>\n",
       "      <th>A4GALT</th>\n",
       "      <th>A4GNT</th>\n",
       "      <th>AAAS</th>\n",
       "      <th>AACS</th>\n",
       "      <th>AADAC</th>\n",
       "      <th>...</th>\n",
       "      <th>ZW10</th>\n",
       "      <th>ZWILCH</th>\n",
       "      <th>ZWINT</th>\n",
       "      <th>ZXDA</th>\n",
       "      <th>ZXDB</th>\n",
       "      <th>ZXDC</th>\n",
       "      <th>ZYG11A</th>\n",
       "      <th>ZYG11B</th>\n",
       "      <th>ZYX</th>\n",
       "      <th>ZZZ3</th>\n",
       "    </tr>\n",
       "    <tr>\n",
       "      <th>index</th>\n",
       "      <th></th>\n",
       "      <th></th>\n",
       "      <th></th>\n",
       "      <th></th>\n",
       "      <th></th>\n",
       "      <th></th>\n",
       "      <th></th>\n",
       "      <th></th>\n",
       "      <th></th>\n",
       "      <th></th>\n",
       "      <th></th>\n",
       "      <th></th>\n",
       "      <th></th>\n",
       "      <th></th>\n",
       "      <th></th>\n",
       "      <th></th>\n",
       "      <th></th>\n",
       "      <th></th>\n",
       "      <th></th>\n",
       "      <th></th>\n",
       "      <th></th>\n",
       "    </tr>\n",
       "  </thead>\n",
       "  <tbody>\n",
       "    <tr>\n",
       "      <th>A1BG</th>\n",
       "      <td>1.000000</td>\n",
       "      <td>-0.001834</td>\n",
       "      <td>-0.003274</td>\n",
       "      <td>-0.003274</td>\n",
       "      <td>-0.001671</td>\n",
       "      <td>-0.001594</td>\n",
       "      <td>-0.002579</td>\n",
       "      <td>-0.001798</td>\n",
       "      <td>-0.002539</td>\n",
       "      <td>-0.003477</td>\n",
       "      <td>...</td>\n",
       "      <td>-0.002347</td>\n",
       "      <td>-0.001915</td>\n",
       "      <td>-0.003057</td>\n",
       "      <td>-0.002853</td>\n",
       "      <td>-0.003173</td>\n",
       "      <td>-0.001997</td>\n",
       "      <td>-0.002191</td>\n",
       "      <td>-0.002191</td>\n",
       "      <td>-0.001945</td>\n",
       "      <td>-0.003083</td>\n",
       "    </tr>\n",
       "    <tr>\n",
       "      <th>A1CF</th>\n",
       "      <td>-0.001834</td>\n",
       "      <td>1.000000</td>\n",
       "      <td>-0.002965</td>\n",
       "      <td>-0.002965</td>\n",
       "      <td>-0.001513</td>\n",
       "      <td>-0.001443</td>\n",
       "      <td>-0.002335</td>\n",
       "      <td>-0.001628</td>\n",
       "      <td>-0.002300</td>\n",
       "      <td>-0.003149</td>\n",
       "      <td>...</td>\n",
       "      <td>-0.002125</td>\n",
       "      <td>-0.001735</td>\n",
       "      <td>0.013999</td>\n",
       "      <td>-0.002584</td>\n",
       "      <td>-0.002874</td>\n",
       "      <td>-0.001809</td>\n",
       "      <td>-0.001984</td>\n",
       "      <td>-0.001984</td>\n",
       "      <td>-0.001762</td>\n",
       "      <td>-0.002793</td>\n",
       "    </tr>\n",
       "    <tr>\n",
       "      <th>A2M</th>\n",
       "      <td>-0.003274</td>\n",
       "      <td>-0.002965</td>\n",
       "      <td>1.000000</td>\n",
       "      <td>1.000000</td>\n",
       "      <td>-0.002701</td>\n",
       "      <td>-0.002577</td>\n",
       "      <td>-0.004170</td>\n",
       "      <td>0.651807</td>\n",
       "      <td>-0.004106</td>\n",
       "      <td>-0.005622</td>\n",
       "      <td>...</td>\n",
       "      <td>-0.003795</td>\n",
       "      <td>-0.003097</td>\n",
       "      <td>-0.004943</td>\n",
       "      <td>-0.004614</td>\n",
       "      <td>-0.005131</td>\n",
       "      <td>-0.003229</td>\n",
       "      <td>-0.002218</td>\n",
       "      <td>-0.002218</td>\n",
       "      <td>-0.003145</td>\n",
       "      <td>-0.004986</td>\n",
       "    </tr>\n",
       "    <tr>\n",
       "      <th>A2ML1</th>\n",
       "      <td>-0.003274</td>\n",
       "      <td>-0.002965</td>\n",
       "      <td>1.000000</td>\n",
       "      <td>1.000000</td>\n",
       "      <td>-0.002701</td>\n",
       "      <td>-0.002577</td>\n",
       "      <td>-0.004170</td>\n",
       "      <td>0.651807</td>\n",
       "      <td>-0.004106</td>\n",
       "      <td>-0.005622</td>\n",
       "      <td>...</td>\n",
       "      <td>-0.003795</td>\n",
       "      <td>-0.003097</td>\n",
       "      <td>-0.004943</td>\n",
       "      <td>-0.004614</td>\n",
       "      <td>-0.005131</td>\n",
       "      <td>-0.003229</td>\n",
       "      <td>-0.002218</td>\n",
       "      <td>-0.002218</td>\n",
       "      <td>-0.003145</td>\n",
       "      <td>-0.004986</td>\n",
       "    </tr>\n",
       "    <tr>\n",
       "      <th>A3GALT2</th>\n",
       "      <td>-0.001671</td>\n",
       "      <td>-0.001513</td>\n",
       "      <td>-0.002701</td>\n",
       "      <td>-0.002701</td>\n",
       "      <td>1.000000</td>\n",
       "      <td>-0.001315</td>\n",
       "      <td>-0.002128</td>\n",
       "      <td>-0.001484</td>\n",
       "      <td>-0.002095</td>\n",
       "      <td>-0.002869</td>\n",
       "      <td>...</td>\n",
       "      <td>-0.001937</td>\n",
       "      <td>-0.001581</td>\n",
       "      <td>-0.002522</td>\n",
       "      <td>-0.002355</td>\n",
       "      <td>-0.002619</td>\n",
       "      <td>-0.001648</td>\n",
       "      <td>-0.001808</td>\n",
       "      <td>-0.001808</td>\n",
       "      <td>-0.001605</td>\n",
       "      <td>-0.001839</td>\n",
       "    </tr>\n",
       "  </tbody>\n",
       "</table>\n",
       "<p>5 rows × 15685 columns</p>\n",
       "</div>"
      ],
      "text/plain": [
       "index        A1BG      A1CF       A2M     A2ML1   A3GALT2    A4GALT     A4GNT  \\\n",
       "index                                                                           \n",
       "A1BG     1.000000 -0.001834 -0.003274 -0.003274 -0.001671 -0.001594 -0.002579   \n",
       "A1CF    -0.001834  1.000000 -0.002965 -0.002965 -0.001513 -0.001443 -0.002335   \n",
       "A2M     -0.003274 -0.002965  1.000000  1.000000 -0.002701 -0.002577 -0.004170   \n",
       "A2ML1   -0.003274 -0.002965  1.000000  1.000000 -0.002701 -0.002577 -0.004170   \n",
       "A3GALT2 -0.001671 -0.001513 -0.002701 -0.002701  1.000000 -0.001315 -0.002128   \n",
       "\n",
       "index        AAAS      AACS     AADAC    ...         ZW10    ZWILCH     ZWINT  \\\n",
       "index                                    ...                                    \n",
       "A1BG    -0.001798 -0.002539 -0.003477    ...    -0.002347 -0.001915 -0.003057   \n",
       "A1CF    -0.001628 -0.002300 -0.003149    ...    -0.002125 -0.001735  0.013999   \n",
       "A2M      0.651807 -0.004106 -0.005622    ...    -0.003795 -0.003097 -0.004943   \n",
       "A2ML1    0.651807 -0.004106 -0.005622    ...    -0.003795 -0.003097 -0.004943   \n",
       "A3GALT2 -0.001484 -0.002095 -0.002869    ...    -0.001937 -0.001581 -0.002522   \n",
       "\n",
       "index        ZXDA      ZXDB      ZXDC    ZYG11A    ZYG11B       ZYX      ZZZ3  \n",
       "index                                                                          \n",
       "A1BG    -0.002853 -0.003173 -0.001997 -0.002191 -0.002191 -0.001945 -0.003083  \n",
       "A1CF    -0.002584 -0.002874 -0.001809 -0.001984 -0.001984 -0.001762 -0.002793  \n",
       "A2M     -0.004614 -0.005131 -0.003229 -0.002218 -0.002218 -0.003145 -0.004986  \n",
       "A2ML1   -0.004614 -0.005131 -0.003229 -0.002218 -0.002218 -0.003145 -0.004986  \n",
       "A3GALT2 -0.002355 -0.002619 -0.001648 -0.001808 -0.001808 -0.001605 -0.001839  \n",
       "\n",
       "[5 rows x 15685 columns]"
      ]
     },
     "execution_count": 47,
     "metadata": {},
     "output_type": "execute_result"
    }
   ],
   "source": [
    "gene_similarity_matix.head()"
   ]
  },
  {
   "cell_type": "markdown",
   "metadata": {},
   "source": [
    "# Save Gene Similarity Matrix "
   ]
  },
  {
   "cell_type": "code",
   "execution_count": 48,
   "metadata": {
    "collapsed": true
   },
   "outputs": [],
   "source": [
    "filename = 'Output/cosmic_cnv_gene_similarity_matix_%s.tsv.zip'% str(datetime.date.today())[0:7].replace('-', '_')\n",
    "gene_similarity_matix.to_csv(filename, sep='\\t', compression='gzip')"
   ]
  },
  {
   "cell_type": "markdown",
   "metadata": {},
   "source": [
    "# Create Attribute Similarity matrix"
   ]
  },
  {
   "cell_type": "code",
   "execution_count": 49,
   "metadata": {
    "collapsed": true
   },
   "outputs": [],
   "source": [
    "attribute_similarity_matix = uf.createSimilarityMatrix(normalized_matrix.T, 'cosine')"
   ]
  },
  {
   "cell_type": "code",
   "execution_count": 50,
   "metadata": {},
   "outputs": [
    {
     "data": {
      "text/html": [
       "<div>\n",
       "<table border=\"1\" class=\"dataframe\">\n",
       "  <thead>\n",
       "    <tr style=\"text-align: right;\">\n",
       "      <th></th>\n",
       "      <th>MC-CAR</th>\n",
       "      <th>PFSK-1</th>\n",
       "      <th>A673</th>\n",
       "      <th>ES3</th>\n",
       "      <th>ES5</th>\n",
       "      <th>SK-ES-1</th>\n",
       "      <th>NCI-H1395</th>\n",
       "      <th>5637</th>\n",
       "      <th>RT4</th>\n",
       "      <th>TCCSUP</th>\n",
       "      <th>...</th>\n",
       "      <th>OCI-LY7</th>\n",
       "      <th>Set2</th>\n",
       "      <th>SNU-1040</th>\n",
       "      <th>SNU-283</th>\n",
       "      <th>SNU-407</th>\n",
       "      <th>SNU-61</th>\n",
       "      <th>SNU-81</th>\n",
       "      <th>DIFI</th>\n",
       "      <th>LIM1215</th>\n",
       "      <th>GEO</th>\n",
       "    </tr>\n",
       "  </thead>\n",
       "  <tbody>\n",
       "    <tr>\n",
       "      <th>MC-CAR</th>\n",
       "      <td>1.000000</td>\n",
       "      <td>0.745922</td>\n",
       "      <td>0.129055</td>\n",
       "      <td>0.548445</td>\n",
       "      <td>0.814658</td>\n",
       "      <td>0.543994</td>\n",
       "      <td>-0.079743</td>\n",
       "      <td>-0.007306</td>\n",
       "      <td>0.075204</td>\n",
       "      <td>0.106928</td>\n",
       "      <td>...</td>\n",
       "      <td>0.288925</td>\n",
       "      <td>-0.051375</td>\n",
       "      <td>-0.013607</td>\n",
       "      <td>0.539814</td>\n",
       "      <td>0.711066</td>\n",
       "      <td>-0.062808</td>\n",
       "      <td>0.121661</td>\n",
       "      <td>0.027512</td>\n",
       "      <td>0.810815</td>\n",
       "      <td>0.121859</td>\n",
       "    </tr>\n",
       "    <tr>\n",
       "      <th>PFSK-1</th>\n",
       "      <td>0.745922</td>\n",
       "      <td>1.000000</td>\n",
       "      <td>0.130721</td>\n",
       "      <td>0.534245</td>\n",
       "      <td>0.891933</td>\n",
       "      <td>0.717846</td>\n",
       "      <td>-0.078802</td>\n",
       "      <td>-0.004904</td>\n",
       "      <td>0.075690</td>\n",
       "      <td>0.108389</td>\n",
       "      <td>...</td>\n",
       "      <td>0.260546</td>\n",
       "      <td>-0.051333</td>\n",
       "      <td>-0.013844</td>\n",
       "      <td>0.551470</td>\n",
       "      <td>0.656659</td>\n",
       "      <td>-0.062551</td>\n",
       "      <td>0.123219</td>\n",
       "      <td>0.028085</td>\n",
       "      <td>0.748119</td>\n",
       "      <td>0.123424</td>\n",
       "    </tr>\n",
       "    <tr>\n",
       "      <th>A673</th>\n",
       "      <td>0.129055</td>\n",
       "      <td>0.130721</td>\n",
       "      <td>1.000000</td>\n",
       "      <td>0.245553</td>\n",
       "      <td>0.140225</td>\n",
       "      <td>0.157079</td>\n",
       "      <td>-0.027892</td>\n",
       "      <td>0.000608</td>\n",
       "      <td>0.006591</td>\n",
       "      <td>0.065678</td>\n",
       "      <td>...</td>\n",
       "      <td>0.039496</td>\n",
       "      <td>-0.017561</td>\n",
       "      <td>-0.009446</td>\n",
       "      <td>0.234340</td>\n",
       "      <td>0.099881</td>\n",
       "      <td>-0.020157</td>\n",
       "      <td>0.072760</td>\n",
       "      <td>0.020604</td>\n",
       "      <td>0.123526</td>\n",
       "      <td>0.072957</td>\n",
       "    </tr>\n",
       "    <tr>\n",
       "      <th>ES3</th>\n",
       "      <td>0.548445</td>\n",
       "      <td>0.534245</td>\n",
       "      <td>0.245553</td>\n",
       "      <td>1.000000</td>\n",
       "      <td>0.567951</td>\n",
       "      <td>0.662214</td>\n",
       "      <td>-0.093640</td>\n",
       "      <td>0.000126</td>\n",
       "      <td>0.031246</td>\n",
       "      <td>0.207879</td>\n",
       "      <td>...</td>\n",
       "      <td>0.175424</td>\n",
       "      <td>-0.059139</td>\n",
       "      <td>-0.027936</td>\n",
       "      <td>0.741483</td>\n",
       "      <td>0.441411</td>\n",
       "      <td>-0.068803</td>\n",
       "      <td>0.230794</td>\n",
       "      <td>0.064274</td>\n",
       "      <td>0.503573</td>\n",
       "      <td>0.231398</td>\n",
       "    </tr>\n",
       "    <tr>\n",
       "      <th>ES5</th>\n",
       "      <td>0.814658</td>\n",
       "      <td>0.891933</td>\n",
       "      <td>0.140225</td>\n",
       "      <td>0.567951</td>\n",
       "      <td>1.000000</td>\n",
       "      <td>0.544796</td>\n",
       "      <td>-0.084578</td>\n",
       "      <td>-0.002633</td>\n",
       "      <td>0.069518</td>\n",
       "      <td>0.116341</td>\n",
       "      <td>...</td>\n",
       "      <td>0.282332</td>\n",
       "      <td>-0.054447</td>\n",
       "      <td>-0.013141</td>\n",
       "      <td>0.576739</td>\n",
       "      <td>0.712139</td>\n",
       "      <td>-0.066383</td>\n",
       "      <td>0.132167</td>\n",
       "      <td>0.030318</td>\n",
       "      <td>0.821248</td>\n",
       "      <td>0.132390</td>\n",
       "    </tr>\n",
       "  </tbody>\n",
       "</table>\n",
       "<p>5 rows × 798 columns</p>\n",
       "</div>"
      ],
      "text/plain": [
       "          MC-CAR    PFSK-1      A673       ES3       ES5   SK-ES-1  NCI-H1395  \\\n",
       "MC-CAR  1.000000  0.745922  0.129055  0.548445  0.814658  0.543994  -0.079743   \n",
       "PFSK-1  0.745922  1.000000  0.130721  0.534245  0.891933  0.717846  -0.078802   \n",
       "A673    0.129055  0.130721  1.000000  0.245553  0.140225  0.157079  -0.027892   \n",
       "ES3     0.548445  0.534245  0.245553  1.000000  0.567951  0.662214  -0.093640   \n",
       "ES5     0.814658  0.891933  0.140225  0.567951  1.000000  0.544796  -0.084578   \n",
       "\n",
       "            5637       RT4    TCCSUP    ...      OCI-LY7      Set2  SNU-1040  \\\n",
       "MC-CAR -0.007306  0.075204  0.106928    ...     0.288925 -0.051375 -0.013607   \n",
       "PFSK-1 -0.004904  0.075690  0.108389    ...     0.260546 -0.051333 -0.013844   \n",
       "A673    0.000608  0.006591  0.065678    ...     0.039496 -0.017561 -0.009446   \n",
       "ES3     0.000126  0.031246  0.207879    ...     0.175424 -0.059139 -0.027936   \n",
       "ES5    -0.002633  0.069518  0.116341    ...     0.282332 -0.054447 -0.013141   \n",
       "\n",
       "         SNU-283   SNU-407    SNU-61    SNU-81      DIFI   LIM1215       GEO  \n",
       "MC-CAR  0.539814  0.711066 -0.062808  0.121661  0.027512  0.810815  0.121859  \n",
       "PFSK-1  0.551470  0.656659 -0.062551  0.123219  0.028085  0.748119  0.123424  \n",
       "A673    0.234340  0.099881 -0.020157  0.072760  0.020604  0.123526  0.072957  \n",
       "ES3     0.741483  0.441411 -0.068803  0.230794  0.064274  0.503573  0.231398  \n",
       "ES5     0.576739  0.712139 -0.066383  0.132167  0.030318  0.821248  0.132390  \n",
       "\n",
       "[5 rows x 798 columns]"
      ]
     },
     "execution_count": 50,
     "metadata": {},
     "output_type": "execute_result"
    }
   ],
   "source": [
    "attribute_similarity_matix.head()"
   ]
  },
  {
   "cell_type": "markdown",
   "metadata": {},
   "source": [
    "# Save Attribute Similarity Matrix"
   ]
  },
  {
   "cell_type": "code",
   "execution_count": 51,
   "metadata": {
    "collapsed": true
   },
   "outputs": [],
   "source": [
    "filename = 'Output/cosmic_cnv_attribute_similarity_matix_%s.tsv.zip'% str(datetime.date.today())[0:7].replace('-', '_')\n",
    "attribute_similarity_matix.to_csv(filename, sep='\\t', compression='gzip')"
   ]
  },
  {
   "cell_type": "markdown",
   "metadata": {},
   "source": [
    "# Create Gene List"
   ]
  },
  {
   "cell_type": "code",
   "execution_count": 52,
   "metadata": {},
   "outputs": [
    {
     "name": "stdout",
     "output_type": "stream",
     "text": [
      "Progeres: 100%  15685 Out of 15685   \r"
     ]
    }
   ],
   "source": [
    "gene_list = uf.createGeneList(normalized_matrix)"
   ]
  },
  {
   "cell_type": "code",
   "execution_count": 53,
   "metadata": {},
   "outputs": [
    {
     "data": {
      "text/html": [
       "<div>\n",
       "<table border=\"1\" class=\"dataframe\">\n",
       "  <thead>\n",
       "    <tr style=\"text-align: right;\">\n",
       "      <th></th>\n",
       "      <th>GeneSym</th>\n",
       "      <th>GeneID</th>\n",
       "    </tr>\n",
       "  </thead>\n",
       "  <tbody>\n",
       "    <tr>\n",
       "      <th>0</th>\n",
       "      <td>A1BG</td>\n",
       "      <td>1</td>\n",
       "    </tr>\n",
       "    <tr>\n",
       "      <th>1</th>\n",
       "      <td>A1CF</td>\n",
       "      <td>29974</td>\n",
       "    </tr>\n",
       "    <tr>\n",
       "      <th>2</th>\n",
       "      <td>A2M</td>\n",
       "      <td>2</td>\n",
       "    </tr>\n",
       "    <tr>\n",
       "      <th>3</th>\n",
       "      <td>A2ML1</td>\n",
       "      <td>144568</td>\n",
       "    </tr>\n",
       "    <tr>\n",
       "      <th>4</th>\n",
       "      <td>A3GALT2</td>\n",
       "      <td>127550</td>\n",
       "    </tr>\n",
       "  </tbody>\n",
       "</table>\n",
       "</div>"
      ],
      "text/plain": [
       "   GeneSym  GeneID\n",
       "0     A1BG       1\n",
       "1     A1CF   29974\n",
       "2      A2M       2\n",
       "3    A2ML1  144568\n",
       "4  A3GALT2  127550"
      ]
     },
     "execution_count": 53,
     "metadata": {},
     "output_type": "execute_result"
    }
   ],
   "source": [
    "gene_list.head()"
   ]
  },
  {
   "cell_type": "code",
   "execution_count": 54,
   "metadata": {},
   "outputs": [
    {
     "data": {
      "text/plain": [
       "(15685, 2)"
      ]
     },
     "execution_count": 54,
     "metadata": {},
     "output_type": "execute_result"
    }
   ],
   "source": [
    "gene_list.shape"
   ]
  },
  {
   "cell_type": "markdown",
   "metadata": {},
   "source": [
    "# Save Gene List"
   ]
  },
  {
   "cell_type": "code",
   "execution_count": 55,
   "metadata": {
    "collapsed": true
   },
   "outputs": [],
   "source": [
    "filename = 'Output/cosmic_cnv_gene_list_%s.tsv.zip'% str(datetime.date.today())[0:7].replace('-', '_')\n",
    "gene_list.to_csv(filename, sep='\\t', index=False, compression='gzip')"
   ]
  },
  {
   "cell_type": "markdown",
   "metadata": {},
   "source": [
    "# Create Attribute List "
   ]
  },
  {
   "cell_type": "code",
   "execution_count": 56,
   "metadata": {
    "collapsed": true
   },
   "outputs": [],
   "source": [
    "attribute_list = uf.createAttributeList(normalized_matrix)"
   ]
  },
  {
   "cell_type": "code",
   "execution_count": 57,
   "metadata": {},
   "outputs": [
    {
     "data": {
      "text/html": [
       "<div>\n",
       "<table border=\"1\" class=\"dataframe\">\n",
       "  <thead>\n",
       "    <tr style=\"text-align: right;\">\n",
       "      <th></th>\n",
       "      <th>Attributes</th>\n",
       "    </tr>\n",
       "  </thead>\n",
       "  <tbody>\n",
       "    <tr>\n",
       "      <th>0</th>\n",
       "      <td>MC-CAR</td>\n",
       "    </tr>\n",
       "    <tr>\n",
       "      <th>1</th>\n",
       "      <td>PFSK-1</td>\n",
       "    </tr>\n",
       "    <tr>\n",
       "      <th>2</th>\n",
       "      <td>A673</td>\n",
       "    </tr>\n",
       "    <tr>\n",
       "      <th>3</th>\n",
       "      <td>ES3</td>\n",
       "    </tr>\n",
       "    <tr>\n",
       "      <th>4</th>\n",
       "      <td>ES5</td>\n",
       "    </tr>\n",
       "  </tbody>\n",
       "</table>\n",
       "</div>"
      ],
      "text/plain": [
       "  Attributes\n",
       "0     MC-CAR\n",
       "1     PFSK-1\n",
       "2       A673\n",
       "3        ES3\n",
       "4        ES5"
      ]
     },
     "execution_count": 57,
     "metadata": {},
     "output_type": "execute_result"
    }
   ],
   "source": [
    "attribute_list.head()"
   ]
  },
  {
   "cell_type": "code",
   "execution_count": 58,
   "metadata": {},
   "outputs": [
    {
     "data": {
      "text/plain": [
       "(798, 1)"
      ]
     },
     "execution_count": 58,
     "metadata": {},
     "output_type": "execute_result"
    }
   ],
   "source": [
    "attribute_list.shape"
   ]
  },
  {
   "cell_type": "markdown",
   "metadata": {},
   "source": [
    "# Save Attribute List"
   ]
  },
  {
   "cell_type": "code",
   "execution_count": 59,
   "metadata": {
    "collapsed": true
   },
   "outputs": [],
   "source": [
    "filename = 'Output/cosmic_cnv_attribute_list_%s.tsv.zip'% str(datetime.date.today())[0:7].replace('-', '_')\n",
    "attribute_list.to_csv(filename, sep='\\t', index=False, compression='gzip')"
   ]
  },
  {
   "cell_type": "markdown",
   "metadata": {},
   "source": [
    "# Create Gene-Attribute Edge List"
   ]
  },
  {
   "cell_type": "code",
   "execution_count": 60,
   "metadata": {
    "collapsed": true
   },
   "outputs": [],
   "source": [
    "path = '/Users/moshesilverstein/Documents/Harmonizome/COSMIC/CNV/Output/'"
   ]
  },
  {
   "cell_type": "code",
   "execution_count": 61,
   "metadata": {
    "collapsed": true
   },
   "outputs": [],
   "source": [
    "name = 'achilles_gene_attribute_edge_list'"
   ]
  },
  {
   "cell_type": "code",
   "execution_count": 62,
   "metadata": {},
   "outputs": [
    {
     "name": "stdout",
     "output_type": "stream",
     "text": [
      "Progeres: 100%  798 Out of 798   \n",
      "\n",
      " The number of statisticaly relevent gene-attribute associations is: 2529012\n"
     ]
    }
   ],
   "source": [
    "uf.createGeneAttributeEdgeList(tertiary_matrix, gene_list, path, name)"
   ]
  }
 ],
 "metadata": {
  "kernelspec": {
   "display_name": "Python [default]",
   "language": "python",
   "name": "python3"
  },
  "language_info": {
   "codemirror_mode": {
    "name": "ipython",
    "version": 3
   },
   "file_extension": ".py",
   "mimetype": "text/x-python",
   "name": "python",
   "nbconvert_exporter": "python",
   "pygments_lexer": "ipython3",
   "version": "3.5.2"
  }
 },
 "nbformat": 4,
 "nbformat_minor": 2
}
