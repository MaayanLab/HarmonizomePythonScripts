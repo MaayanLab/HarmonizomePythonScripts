{
 "cells": [
  {
   "cell_type": "markdown",
   "metadata": {},
   "source": [
    "# Kinase Library Serine Threonine Kinome Atlas\n",
    "\n",
    "The Kinase Library is a resource which collects information about kinase phosphorylation sites. The Serine-Threonine Kinome Atlas dataset uses synthetic peptide libraries to profile substrate sequence specificity.\n",
    "In this study, 89,752 phosphosites were computationally ranked against each kinase motif. This generated percentiles and rank of kinase-substrate specificity for 10,269 proteins based on their phosphorylation by 303 serine/threonine human kinases."
   ]
  },
  {
   "cell_type": "code",
   "execution_count": null,
   "metadata": {},
   "outputs": [],
   "source": [
    "import pandas as pd\n",
    "import datetime\n",
    "import numpy as np\n",
    "import scipy.spatial.distance as dist\n",
    "import seaborn as sns\n",
    "import sys\n",
    "import json\n",
    "import scanpy as sc\n",
    "\n",
    "from sklearn.feature_extraction.text import TfidfVectorizer\n",
    "import anndata\n",
    "from bokeh.io import output_notebook, export_svg, output_file, save\n",
    "from bokeh.io.export import get_screenshot_as_png\n",
    "from bokeh.plotting import figure, show\n",
    "from bokeh.models import HoverTool, ColumnDataSource\n",
    "from bokeh.palettes import Category20\n",
    "sys.setrecursionlimit(100000)"
   ]
  },
  {
   "cell_type": "markdown",
   "metadata": {},
   "source": [
    "## Load Data"
   ]
  },
  {
   "cell_type": "code",
   "execution_count": null,
   "metadata": {},
   "outputs": [],
   "source": [
    "kinaselib = pd.read_csv('newdata/KinaseLibrary/41586_2022_5575_MOESM5_ESM/Supplementary Table 3-Table 1.csv', dtype=object)\n",
    "display(kinaselib)\n",
    "print(kinaselib['Database Uniprot Accession'].unique().__len__())"
   ]
  },
  {
   "cell_type": "markdown",
   "metadata": {},
   "source": [
    "## Process Data"
   ]
  },
  {
   "cell_type": "code",
   "execution_count": null,
   "metadata": {},
   "outputs": [],
   "source": [
    "geneinfo = pd.read_csv('tables/gene_info', sep='\\t')\n",
    "geneinfo = geneinfo[geneinfo['#tax_id']==9606][geneinfo['type_of_gene']=='protein-coding']\n",
    "genedict = geneinfo.set_index('GeneID')['Symbol'].to_dict()\n",
    "geneids = geneinfo.set_index('Symbol')['GeneID'].to_dict()\n",
    "entrez = pd.read_csv('tables/uniprot_to_entrez.tsv', sep='\\t').set_index('From')['To'].to_dict()"
   ]
  },
  {
   "cell_type": "code",
   "execution_count": null,
   "metadata": {},
   "outputs": [],
   "source": [
    "kinaselib = kinaselib.set_index('Database Uniprot Accession').get(kinaselib.columns[13:619:2]).astype(float)\n",
    "kinaselib = kinaselib.rename(lambda x: x.split(sep='_')[0], axis=1)\n",
    "\n",
    "droplist = []\n",
    "\n",
    "for gene in kinaselib.index:\n",
    "    if gene not in entrez:\n",
    "        droplist.append(gene)\n",
    "    else:\n",
    "        if entrez[gene] not in genedict:\n",
    "            droplist.append(gene)\n",
    "\n",
    "kinaselib = kinaselib.drop(droplist)\n",
    "kinaselib = kinaselib.reset_index()\n",
    "kinaselib['Database Uniprot Accession'] = kinaselib['Database Uniprot Accession'].apply(lambda x: genedict[entrez[x]])\n",
    "kinaselib = kinaselib.set_index('Database Uniprot Accession')\n",
    "kinaselib = kinaselib.rename_axis('Gene', axis=0).rename_axis('Kinase', axis=1)\n",
    "\n",
    "display(kinaselib)\n",
    "print(kinaselib.index.unique().__len__(), 'proteins,', kinaselib.columns.unique().__len__(), 'kinases')"
   ]
  },
  {
   "cell_type": "code",
   "execution_count": null,
   "metadata": {},
   "outputs": [],
   "source": [
    "edgelist = kinaselib.stack().reset_index()\n",
    "edgelist.columns = ['Gene', 'Kinase', 'Percentile']\n",
    "edgelist = edgelist.sort_values(['Kinase', 'Percentile'], ascending=[True, False]).reset_index(drop=True)\n",
    "edgelist = edgelist.drop_duplicates(['Gene','Kinase'])\n",
    "print(edgelist['Gene'].unique().__len__(), 'genes,', edgelist['Kinase'].unique().__len__(), 'kinases')\n",
    "edgelist"
   ]
  },
  {
   "cell_type": "code",
   "execution_count": null,
   "metadata": {},
   "outputs": [],
   "source": [
    "edgelist_filtered = pd.DataFrame(columns=['Gene', 'Percentile'])\n",
    "edgelist = edgelist.set_index('Kinase')\n",
    "for kinase in edgelist.index.unique():\n",
    "    edgelist_filtered = pd.concat([edgelist_filtered, edgelist.loc[kinase][:100]])\n",
    "edgelist = edgelist_filtered.rename_axis('Kinase', axis=0).reset_index().sort_values(['Kinase','Percentile','Gene'],ascending=[True,False,True]).reset_index(drop=True)\n",
    "print(edgelist['Gene'].unique().__len__(), 'genes,', edgelist['Kinase'].unique().__len__(), 'kinases')\n",
    "edgelist"
   ]
  },
  {
   "cell_type": "markdown",
   "metadata": {},
   "source": [
    "## Harmonizome Additions"
   ]
  },
  {
   "cell_type": "markdown",
   "metadata": {},
   "source": [
    "### Resource"
   ]
  },
  {
   "cell_type": "code",
   "execution_count": null,
   "metadata": {},
   "outputs": [],
   "source": [
    "(102,\n",
    "'Kinase Library',\n",
    "None,\n",
    "'A phosphoproteomics atlas detailing phosphorylation of protein substrates by 303 serine/threonine kinases in the human kinome.',\n",
    "'An atlas of human serine/threonine kinome activity.',\n",
    "'https://kinase-library.phosphosite.org/site',\n",
    "303,\n",
    "1,\n",
    "None)"
   ]
  },
  {
   "cell_type": "markdown",
   "metadata": {},
   "source": [
    "### Dataset"
   ]
  },
  {
   "cell_type": "code",
   "execution_count": null,
   "metadata": {},
   "outputs": [],
   "source": [
    "#(id, name, name_without_resource, description, association, gene_set_description, gene_sets_description, attribute_set_description, is_signed, is_continuous_valued, last_updated, directory, num_page_views, resource_fk, measurement_fk, dataset_group_fk, attribute_type_fk, attribute_group_fk, evidence_type, evidence_group, measurement_bias, attribute_type_plural)\n",
    "(132,\n",
    "'Kinase Library Serine Threonine Kinome Atlas',\n",
    "'Serine Threonine Kinome Atlas',\n",
    "'A phosphoproteomics atlas detailing phosphorylation of protein substrates by 303 serine/threonine kinases in the human kinome.',\n",
    "'substrate-kinase associations from high-thorughput phosphoproteomics data',\n",
    "'substrates of the kinase {0} from the Kinase Library Serine Threonine Kinome Atlas dataset.',\n",
    "'sets of substrates of kinases from the Kinase Library Serine Threonine Kinome Atlas dataset.',\n",
    "'kinases that phosphorylate {0} protein from the Kinase Library Serine Threonine Atlas dataset.',\n",
    "0,\n",
    "1,\n",
    "'2023-02-22',\n",
    "'kinaselib',\n",
    "0,\n",
    "102,\n",
    "25,\n",
    "5,\n",
    "30,\n",
    "5,\n",
    "'protein phosphorylation by PSPA',\n",
    "'primary experimental data',\n",
    "'high-throughput',\n",
    "'kinases')"
   ]
  },
  {
   "cell_type": "markdown",
   "metadata": {},
   "source": [
    "### Publication"
   ]
  },
  {
   "cell_type": "code",
   "execution_count": null,
   "metadata": {},
   "outputs": [],
   "source": [
    "#(id, long_citation, short_citation, url, pmid, pubmed_url, first_author_last_name, first_author_initials, journal_abbreviation, year, title, volume, pages)\n",
    "(138,\n",
    "'Johnson, EL et al. (2023) An atlas of substrate specificities for the human serine/threonine kinome. Nature. 613:759-66',\n",
    "'Johnson, Nature, 2023',\n",
    "'dx.doi.org/10.1038/s41586-022-05575-3',\n",
    "36631611,\n",
    "'https://www.ncbi.nlm.nih.gov/pubmed/36631611',\n",
    "'Johnson',\n",
    "'JL',\n",
    "'Nature',\n",
    "2023,\n",
    "'An atlas of substrate specificities for the human serine/threonine kinome',\n",
    "613,\n",
    "'759-766')"
   ]
  },
  {
   "cell_type": "markdown",
   "metadata": {},
   "source": [
    "### Genes"
   ]
  },
  {
   "cell_type": "code",
   "execution_count": null,
   "metadata": {},
   "outputs": [],
   "source": [
    "#(id,symbol,ncbi_entrez_gene_id,name,ncbi_entrez_gene_url)\n",
    "genes = edgelist['Gene'].drop_duplicates().to_frame()\n",
    "genes['GeneID'] = genes['Gene'].apply(lambda x: geneids[x])\n",
    "genes = genes.sort_values('GeneID').reset_index(drop=True)\n",
    "\n",
    "prodgenes = pd.read_csv('production/gene.csv').get(['id','symbol','ncbi_entrez_gene_id']).set_index('ncbi_entrez_gene_id')\n",
    "genefks = prodgenes['id'].to_dict()\n",
    "genes = genes.set_index('GeneID')\n",
    "i = 57208\n",
    "for gene in genes.index:\n",
    "    if gene not in prodgenes.index:\n",
    "        print((i,genes.loc[gene,'Gene'],gene, geneinfo.set_index('GeneID').loc[gene,'description'],'https://ncbi.nlm.nih.gov/gene/'+str(gene)))\n",
    "        genefks[gene] = i\n",
    "        i += 1\n",
    "genes = genes.reset_index()\n",
    "genes['GeneFK'] = genes['GeneID'].apply(lambda x: genefks[x])\n",
    "\n",
    "genes"
   ]
  },
  {
   "cell_type": "markdown",
   "metadata": {},
   "source": [
    "### Attributes"
   ]
  },
  {
   "cell_type": "code",
   "execution_count": null,
   "metadata": {},
   "outputs": [],
   "source": [
    "# This code was use to get a list of correctly mapped kinases -> NCBI Entrez Gene ID relations. Kinases with a Gene ID of 0 in this output need to be manually annotated.\n",
    "'''kinases = geneinfo.set_index('Symbol')['GeneID']\n",
    "#geneinfo['Synonyms'] = geneinfo['Synonyms'].apply(str.split, sep='|')\n",
    "kinases = pd.concat([kinases, geneinfo.explode('Synonyms').set_index('Synonyms')['GeneID']]).reset_index().drop_duplicates('index').set_index('index')\n",
    "for kinase in attributes['Kinase']:\n",
    "    if kinase in kinases.index:\n",
    "        print(kinase, kinases.loc[kinase, 'GeneID'])\n",
    "    else:\n",
    "        print(kinase, 0)'''\n",
    "\n",
    "# This mapping dictionary was created using the above code, which can be run by uncommenting it.\n",
    "kinasedict = pd.read_csv('newdata/KinaseLibrary/kinaseids.csv').set_index('Kinase')['Gene ID'].to_dict()\n",
    "kinases = geneinfo.set_index('GeneID').T.get(kinasedict.values()).T.reset_index()\n",
    "kinases = kinases.get(['Symbol', 'GeneID', 'description']).set_index('GeneID')"
   ]
  },
  {
   "cell_type": "code",
   "execution_count": null,
   "metadata": {},
   "outputs": [],
   "source": [
    "prodattributes = pd.read_csv('production/attribute.csv')\n",
    "prodattributes = prodattributes[prodattributes['naming_authority_fk']==18].reset_index(drop=True)\n",
    "proddict = prodattributes.set_index('id_from_naming_authority')['id'].to_dict()\n",
    "\n",
    "attributes = edgelist['Kinase'].drop_duplicates().to_frame().reset_index(drop=True)\n",
    "attributes['ID'] = attributes['Kinase'].apply(lambda x: kinasedict[x])\n",
    "attributes['Description'] = attributes['ID'].apply(lambda x: kinases.loc[x, 'description'])\n",
    "attributes"
   ]
  },
  {
   "cell_type": "code",
   "execution_count": null,
   "metadata": {},
   "outputs": [],
   "source": [
    "#id, name_from_naming_authority, id_from_naming_authority, description_from_naming_authority, url_from_naming_authority, naming_authority_fk\n",
    "i = 298355\n",
    "\n",
    "for attribute in attributes.index:\n",
    "    attribute = attributes.loc[attribute]\n",
    "    if str(attribute['ID']) not in prodattributes['id_from_naming_authority'].tolist():\n",
    "        print((i, attribute['Kinase'], attribute['ID'], attribute['Description'], 'https://ncbi.nlm.nih.gov/gene/'+str(attribute['ID']), 18), end=',\\n')\n",
    "        proddict[str(attribute['ID'])] = i\n",
    "        i+=1"
   ]
  },
  {
   "cell_type": "markdown",
   "metadata": {},
   "source": [
    "### Gene Sets"
   ]
  },
  {
   "cell_type": "code",
   "execution_count": null,
   "metadata": {},
   "outputs": [],
   "source": [
    "#id, name_from_dataset, description_from_dataset, dataset_fk, attribute_type_fk, attribute_fk\n",
    "\n",
    "attributes['AttributeFK'] = attributes['ID'].apply(lambda x: proddict[str(x)])\n",
    "attributes['GenesetFK'] = attributes.index + 133400000\n",
    "attributes = attributes.reset_index(drop=True)\n",
    "\n",
    "attributes\n",
    "for geneset in attributes.index:\n",
    "    geneset = attributes.loc[geneset]\n",
    "    print((geneset['GenesetFK'], geneset['Kinase'], geneset['Description'], 132, 30, geneset['AttributeFK']), end=',\\n')"
   ]
  },
  {
   "cell_type": "markdown",
   "metadata": {},
   "source": [
    "### Associations"
   ]
  },
  {
   "cell_type": "code",
   "execution_count": null,
   "metadata": {},
   "outputs": [],
   "source": [
    "associations = edgelist.copy()\n",
    "genes = genes.set_index('Gene')\n",
    "attributes = attributes.set_index('Kinase')\n",
    "associations['Gene'] = associations['Gene'].apply(lambda x: genes.loc[x, 'GeneFK'])\n",
    "associations['Kinase'] = associations['Kinase'].apply(lambda x: attributes.loc[x, 'GenesetFK'])\n",
    "associations['threshold'] = 1\n",
    "genes = genes.reset_index()\n",
    "attributes = attributes.reset_index()\n",
    "associations.index += 14000000\n",
    "associations.columns = ['gene_set_fk','gene_fk','cleaned_value','threshold_value']\n",
    "associations = associations.rename_axis('id', axis=0).get(['gene_fk','gene_set_fk','cleaned_value','threshold_value'])\n",
    "associations.to_csv('harmonizome-update/kinaselibrary.csv')\n",
    "associations"
   ]
  },
  {
   "cell_type": "markdown",
   "metadata": {},
   "source": [
    "## Downloads"
   ]
  },
  {
   "cell_type": "code",
   "execution_count": null,
   "metadata": {},
   "outputs": [],
   "source": [
    "output_path = 'newdata/KinaseLibrary/downloads/'"
   ]
  },
  {
   "cell_type": "markdown",
   "metadata": {},
   "source": [
    "### Gene-Attribute Matrix"
   ]
  },
  {
   "cell_type": "code",
   "execution_count": null,
   "metadata": {},
   "outputs": [],
   "source": [
    "binarymatrix = pd.crosstab(index=edgelist['Gene'], columns=edgelist['Kinase'], values=1, aggfunc=max).replace(np.nan, 0).astype(int)\n",
    "binarymatrixT = binarymatrix.T\n",
    "binarymatrix"
   ]
  },
  {
   "cell_type": "markdown",
   "metadata": {},
   "source": [
    "### Gene Attribute Edge List"
   ]
  },
  {
   "cell_type": "code",
   "execution_count": null,
   "metadata": {},
   "outputs": [],
   "source": [
    "genedict = genes.set_index('Gene')['GeneID'].to_dict()\n",
    "attributedict = attributes.set_index('Kinase')['ID'].to_dict()\n",
    "\n",
    "edgelist['Kinase ID'] = edgelist['Kinase'].apply(lambda x: attributedict[x])\n",
    "edgelist['Gene ID'] = edgelist['Gene'].apply(lambda x: genedict[x])\n",
    "edgelist['Threshold'] = 1\n",
    "\n",
    "edgelist = edgelist.get(['Kinase', 'Kinase ID', 'Gene', 'Gene ID', 'Percentile', 'Threshold'])\n",
    "edgelist.to_csv(output_path+'gene_attribute_edges.txt.gz', sep='\\t', compression='gzip')\n",
    "edgelist"
   ]
  },
  {
   "cell_type": "markdown",
   "metadata": {},
   "source": [
    "### Gene List"
   ]
  },
  {
   "cell_type": "code",
   "execution_count": null,
   "metadata": {},
   "outputs": [],
   "source": [
    "genes = genes.get(['Gene', 'GeneID'])\n",
    "genes.to_csv(output_path+'gene_list_terms.txt.gz', sep='\\t', compression='gzip')\n",
    "genes"
   ]
  },
  {
   "cell_type": "markdown",
   "metadata": {},
   "source": [
    "### Attribute List"
   ]
  },
  {
   "cell_type": "code",
   "execution_count": null,
   "metadata": {},
   "outputs": [],
   "source": [
    "attributes = attributes.get(['Kinase', 'ID'])\n",
    "attributes.to_csv(output_path+'attribute_list_entries.txt.gz', sep='\\t', compression='gzip')\n",
    "attributes"
   ]
  },
  {
   "cell_type": "markdown",
   "metadata": {},
   "source": [
    "### Gene Set Library"
   ]
  },
  {
   "cell_type": "code",
   "execution_count": null,
   "metadata": {},
   "outputs": [],
   "source": [
    "arr = binarymatrix.reset_index(drop=True).to_numpy(dtype=np.int_)\n",
    "\n",
    "with open(output_path+'gene_set_library_crisp.gmt', 'w') as f:\n",
    "    for i in range(arr.shape[1]):\n",
    "        print(binarymatrix.columns[i],*binarymatrix.index[arr[:,i]==1],\n",
    "            sep='\\t', end='\\n', file=f)"
   ]
  },
  {
   "cell_type": "markdown",
   "metadata": {},
   "source": [
    "### Attribute Set Library"
   ]
  },
  {
   "cell_type": "code",
   "execution_count": null,
   "metadata": {},
   "outputs": [],
   "source": [
    "arr = binarymatrixT.reset_index(drop=True).to_numpy(dtype=np.int_)\n",
    "\n",
    "with open(output_path+'attribute_set_library_crisp.gmt', 'w') as f:\n",
    "    for i in range(arr.shape[1]):\n",
    "        print(binarymatrixT.columns[i],*binarymatrixT.index[arr[:,i]==1],\n",
    "            sep='\\t', end='\\n', file=f)"
   ]
  },
  {
   "cell_type": "markdown",
   "metadata": {},
   "source": [
    "### Gene Similarity Matrix"
   ]
  },
  {
   "cell_type": "code",
   "execution_count": null,
   "metadata": {},
   "outputs": [],
   "source": [
    "similarity_matrix = dist.pdist(binarymatrix.to_numpy(dtype=np.int_), 'cosine')\n",
    "similarity_matrix = dist.squareform(similarity_matrix)\n",
    "similarity_matrix = 1 - similarity_matrix\n",
    "\n",
    "gene_similarity_matrix = pd.DataFrame(similarity_matrix, index=binarymatrix.index, columns=binarymatrix.index)\n",
    "gene_similarity_matrix.index.name = None\n",
    "gene_similarity_matrix.columns.name = None\n",
    "\n",
    "gene_similarity_matrix.to_csv(output_path+'gene_similarity_matrix_cosine.txt', sep='\\t')\n",
    "gene_similarity_matrix"
   ]
  },
  {
   "cell_type": "markdown",
   "metadata": {},
   "source": [
    "### Attribute Similarity Matrix"
   ]
  },
  {
   "cell_type": "code",
   "execution_count": null,
   "metadata": {},
   "outputs": [],
   "source": [
    "similarity_matrix = dist.pdist(binarymatrixT.to_numpy(dtype=np.int_), 'cosine')\n",
    "similarity_matrix = dist.squareform(similarity_matrix)\n",
    "similarity_matrix = 1 - similarity_matrix\n",
    "\n",
    "attribute_similarity_matrix = pd.DataFrame(similarity_matrix, index=binarymatrixT.index, columns=binarymatrixT.index)\n",
    "attribute_similarity_matrix.index.name = None\n",
    "attribute_similarity_matrix.columns.name = None\n",
    "\n",
    "attribute_similarity_matrix.to_csv(output_path+'attribute_similarity_matrix_cosine.txt', sep='\\t')\n",
    "attribute_similarity_matrix"
   ]
  },
  {
   "cell_type": "markdown",
   "metadata": {},
   "source": [
    "### Cleaned Gene-Attribute Matrix"
   ]
  },
  {
   "cell_type": "code",
   "execution_count": null,
   "metadata": {},
   "outputs": [],
   "source": [
    "cleanedmatrix = pd.crosstab(index=edgelist['Gene'], columns=edgelist['Kinase'], values=edgelist['Percentile'], aggfunc=max).replace(np.nan, 0)\n",
    "cleanedmatrix.to_csv(output_path+'gene_attribute_matrix_cleaned.txt.gz', sep='\\t', compression='gzip')\n",
    "cleanedmatrix"
   ]
  },
  {
   "cell_type": "markdown",
   "metadata": {},
   "source": [
    "### Knowledge Graph Serializations"
   ]
  },
  {
   "cell_type": "code",
   "execution_count": null,
   "metadata": {},
   "outputs": [],
   "source": [
    "nodes = {}\n",
    "edges = []\n",
    "\n",
    "#Gene\tGeneID\tGeneFK\n",
    "for gene in genes.index:\n",
    "    gene = genes.loc[gene]\n",
    "    id = int(gene['GeneID'])\n",
    "    label = gene['Gene']\n",
    "    nodes[id] = {\n",
    "    \"type\": \"gene\",\n",
    "        \"properties\": {\n",
    "            \"id\": id,\n",
    "            \"label\": label\n",
    "        }\n",
    "    }\n",
    "\n",
    "\n",
    "#Kinase\tID\tDescription\tAttributeFK\tGenesetFK\n",
    "for kinase in attributes.index:\n",
    "    kinase = attributes.loc[kinase]\n",
    "    id = kinase['Kinase']\n",
    "    label = int(kinase['ID'])\n",
    "    nodes[id] = {\n",
    "        \"type\": \"kinase\",\n",
    "        \"properties\": {\n",
    "            \"id\": id,\n",
    "            \"label\": label\n",
    "        }\n",
    "    }\n",
    "\n",
    "#Kinase\tKinase ID\tGene\tGene ID\tPercentile\tThreshold\n",
    "for edge in edgelist.index:\n",
    "    edge = edgelist.loc[edge]\n",
    "    sourceid = edge['Kinase']\n",
    "    sourcelabel = int(edge['Kinase ID'])\n",
    "    targetid = int(edge['Gene ID'])\n",
    "    targetlabel = edge['Gene']\n",
    "    edges.append({\n",
    "    \"source\": sourceid,\n",
    "    \"relation\": \"phosphorylates\",\n",
    "    \"target\": targetid,\n",
    "    \"properties\": {\n",
    "        \"id\": sourceid+\":\"+str(targetid),\n",
    "        \"source_label\": sourcelabel,\n",
    "        \"target_label\": targetlabel,\n",
    "        \"directed\":True,\n",
    "        \"percentile\":float(edge['Percentile'])\n",
    "    }\n",
    "})"
   ]
  },
  {
   "cell_type": "markdown",
   "metadata": {},
   "source": [
    "#### RDF"
   ]
  },
  {
   "cell_type": "code",
   "execution_count": null,
   "metadata": {},
   "outputs": [],
   "source": [
    "with open(output_path+'serializations/kinaselibrary.rdf', 'w') as f:\n",
    "    print('@prefix kinase: https://ncbi.nlm.nih.gov/gene/', file=f)\n",
    "    print('@prefix RO: http://purl.obolibrary.org/obo/RO_', file=f)\n",
    "    print('@prefix gene: https://ncbi.nlm.nih.gov/gene/', file=f)\n",
    "    print(file=f)\n",
    "    for edge in edges:\n",
    "        print('kinase:'+str(edge['properties']['source_label']), 'RO:0002447', 'gene:'+str(edge['target']), end=' .\\n', file=f)"
   ]
  },
  {
   "cell_type": "markdown",
   "metadata": {},
   "source": [
    "#### JSON"
   ]
  },
  {
   "cell_type": "code",
   "execution_count": null,
   "metadata": {},
   "outputs": [],
   "source": [
    "with open(output_path+'serializations/kinaselibrary.json', 'w') as f:\n",
    "    serial = json.dump(\n",
    "        {\n",
    "            \"Version\":\"1\", \n",
    "            \"nodes\": nodes,\n",
    "            \"edges\": edges\n",
    "        }, indent=4, fp=f)"
   ]
  },
  {
   "cell_type": "markdown",
   "metadata": {},
   "source": [
    "#### TSV"
   ]
  },
  {
   "cell_type": "code",
   "execution_count": null,
   "metadata": {},
   "outputs": [],
   "source": [
    "nodeframe = pd.DataFrame(nodes).T\n",
    "nodeframe['label'] = nodeframe['properties'].apply(lambda x: x['label'])\n",
    "nodeframe = nodeframe.rename_axis('id', axis=0).reset_index().get(['type', 'label', 'id'])\n",
    "nodeframe.columns = ['namespace', 'label', 'id']\n",
    "nodeframe.to_csv(output_path+'serializations/kinaselibrary_tsv/nodes.tsv', sep='\\t')\n",
    "display(nodeframe)\n",
    "\n",
    "edgeframe = pd.DataFrame(edges)\n",
    "edgeframe['id'] = edgeframe['properties'].apply(lambda x: x['id'])\n",
    "edgeframe['source_label'] = edgeframe['properties'].apply(lambda x: x['source_label'])\n",
    "edgeframe['target_label'] = edgeframe['properties'].apply(lambda x: x['target_label'])\n",
    "edgeframe['directed'] = True\n",
    "edgeframe['percentile'] = edgeframe['properties'].apply(lambda x: x['percentile'])\n",
    "edgeframe = edgeframe.get(['source', 'source_label', 'relation', 'target', 'target_label', 'id', 'directed', 'percentile'])\n",
    "edgeframe.to_csv(output_path+'serializations/kinaselibrary_tsv/edges.tsv', sep='\\t')\n",
    "display(edgeframe)"
   ]
  },
  {
   "cell_type": "markdown",
   "metadata": {},
   "source": [
    "## Visualizations"
   ]
  },
  {
   "cell_type": "markdown",
   "metadata": {},
   "source": [
    "### Gene-Attribute Clustered Heatmap"
   ]
  },
  {
   "cell_type": "code",
   "execution_count": null,
   "metadata": {},
   "outputs": [],
   "source": [
    "sns.clustermap(binarymatrix, cmap='seismic', center=0)"
   ]
  },
  {
   "cell_type": "markdown",
   "metadata": {},
   "source": [
    "### Gene Similarity Clustered Heatmap"
   ]
  },
  {
   "cell_type": "code",
   "execution_count": null,
   "metadata": {},
   "outputs": [],
   "source": [
    "sns.clustermap(gene_similarity_matrix, cmap='seismic', center=0)"
   ]
  },
  {
   "cell_type": "markdown",
   "metadata": {},
   "source": [
    "### Attribute Similarity Clustered Heatmap"
   ]
  },
  {
   "cell_type": "code",
   "execution_count": null,
   "metadata": {},
   "outputs": [],
   "source": [
    "sns.clustermap(attribute_similarity_matrix, cmap='seismic', center=0)"
   ]
  },
  {
   "cell_type": "markdown",
   "metadata": {},
   "source": [
    "### UMAP"
   ]
  },
  {
   "cell_type": "code",
   "execution_count": null,
   "metadata": {},
   "outputs": [],
   "source": [
    "output_notebook()"
   ]
  },
  {
   "cell_type": "code",
   "execution_count": null,
   "metadata": {},
   "outputs": [],
   "source": [
    "top = edgelist.set_index('Kinase')['Gene'].to_frame()\n",
    "genesets = {}\n",
    "for kinase in top.index.unique():\n",
    "    genesets[kinase] = ' '.join(top.loc[kinase]['Gene'].tolist())"
   ]
  },
  {
   "cell_type": "code",
   "execution_count": null,
   "metadata": {},
   "outputs": [],
   "source": [
    "vec = TfidfVectorizer(max_df=0.5, min_df=10)\n",
    "X = vec.fit_transform(genesets.values())\n",
    "adata = anndata.AnnData(X, dtype='float32')\n",
    "adata.obs.index = genesets.keys()\n",
    "\n",
    "sc.pp.neighbors(adata, n_neighbors=25, use_rep='X')\n",
    "sc.tl.leiden(adata)\n",
    "sc.tl.umap(adata, min_dist=0.0065, spread=0.8)\n",
    "\n",
    "new_order = adata.obs.sort_values(by='leiden').index.tolist()\n",
    "adata = adata[new_order,:]\n",
    "adata.obs['leiden'] = 'Cluster ' + adata.obs['leiden'].astype('object')\n",
    "\n",
    "mapped_df = pd.DataFrame(adata.obsm['X_umap'])\n",
    "mapped_df.columns = ['x', 'y']\n",
    "\n",
    "mapped_df['cluster'] = adata.obs['leiden'].values\n",
    "mapped_df['term'] = adata.obs.index\n",
    "\n",
    "clusters = pd.unique(mapped_df['cluster']).tolist()\n",
    "colors = list(Category20[20])[::2] + list(Category20[20])[1::2]\n",
    "color_mapper = {clusters[i]:colors[i%20] for i in range(len(clusters))}\n",
    "\n",
    "mapped_df['color'] = mapped_df['cluster'].apply(lambda x: color_mapper[x])\n",
    "\n",
    "xlabel = 'UMAP 1'\n",
    "ylabel = 'UMAP 2'\n",
    "\n",
    "source2 = ColumnDataSource(\n",
    "        data=dict(\n",
    "            x = mapped_df.x,\n",
    "            y = mapped_df.y,\n",
    "            alpha = [0.7] * mapped_df.shape[0],\n",
    "            colors = mapped_df['color'], \n",
    "            size = [6] * mapped_df.shape[0],\n",
    "            gene_set = mapped_df['term'],\n",
    "            cluster = mapped_df['cluster']\n",
    "        )\n",
    "    )\n",
    "\n",
    "hover_emb = HoverTool(name=\"df\", tooltips=\"\"\"\n",
    "    <div style=\"margin: 10\">\n",
    "        <div style=\"margin: 0 auto; width:300px;\">\n",
    "            <span style=\"font-size: 12px; font-weight: bold;\">Gene Set:</span>\n",
    "            <span style=\"font-size: 12px\">@gene_set</span>\n",
    "        <div style=\"margin: 0 auto; width:300px;\">\n",
    "            <span style=\"font-size: 12px; font-weight: bold;\">Coordinates:</span>\n",
    "            <span style=\"font-size: 12px\">(@x,@y)</span>\n",
    "        <div style=\"margin: 0 auto; width:300px;\">\n",
    "            <span style=\"font-size: 12px; font-weight: bold;\">Cluster:</span>\n",
    "            <span style=\"font-size: 12px\">@cluster</span>\n",
    "        </div>\n",
    "    </div>\n",
    "    \"\"\")\n",
    "\n",
    "tools_emb = [hover_emb, 'pan', 'wheel_zoom', 'reset', 'save']\n",
    "title_emb = 'Gene Sets in Kinase Library Serine Threonine Kinome Atlas Library'\n",
    "plot_emb = figure(width=1000, height=700, tools=tools_emb, title=title_emb, x_axis_label=xlabel, y_axis_label=ylabel)\n",
    "plot_emb.circle( 'x', 'y', source = source2, size='size',\n",
    "                alpha='alpha', line_alpha=0, line_width=0.01, name=\"df\", \n",
    "                fill_color = 'colors', \n",
    "                line_color=\"black\", hover_fill_color=\"firebrick\")\n",
    "plot_emb.xaxis.axis_label_text_font_style = 'normal'\n",
    "plot_emb.xaxis.axis_label_text_font_size = '18px'\n",
    "plot_emb.yaxis.axis_label_text_font_size = '18px'\n",
    "plot_emb.yaxis.axis_label_text_font_style = 'normal'\n",
    "plot_emb.title.align = 'center'\n",
    "plot_emb.title.text_font_size = '18px'\n",
    "\n",
    "show(plot_emb)"
   ]
  }
 ],
 "metadata": {
  "kernelspec": {
   "display_name": "Python 3.10.4 ('appyter')",
   "language": "python",
   "name": "python3"
  },
  "language_info": {
   "codemirror_mode": {
    "name": "ipython",
    "version": 3
   },
   "file_extension": ".py",
   "mimetype": "text/x-python",
   "name": "python",
   "nbconvert_exporter": "python",
   "pygments_lexer": "ipython3",
   "version": "3.10.4"
  },
  "orig_nbformat": 4,
  "vscode": {
   "interpreter": {
    "hash": "36b64e778f8b0c3f01583b2eed08020222bb534e013a238936f90fb19a999c87"
   }
  }
 },
 "nbformat": 4,
 "nbformat_minor": 2
}
