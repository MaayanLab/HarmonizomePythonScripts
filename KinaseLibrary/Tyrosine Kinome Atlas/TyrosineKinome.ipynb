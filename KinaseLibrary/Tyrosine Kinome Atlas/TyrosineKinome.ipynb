{
 "cells": [
  {
   "cell_type": "markdown",
   "metadata": {},
   "source": [
    "# Kinase Library Tyrosine Kinome Atlas\n",
    "\n",
    "The Kinase Library is a resource which collects information about kinase phosphorylation sites. The Tyrosine Kinome Atlas dataset uses synthetic peptide libraries to profile substrate sequence specificity.\n",
    "In this study, 7,315 phosphosites were computationally ranked against each kinase motif. This generated percentiles and rank of kinase-substrate specificity for proteins based on their phosphorylation by 78 canonical tyrosine human kinases.\n",
    "The kinase-substrate percentile scores and ranking were downloaded from the supplementary information of "
   ]
  },
  {
   "cell_type": "code",
   "execution_count": null,
   "metadata": {},
   "outputs": [],
   "source": [
    "import pandas as pd\n",
    "import datetime\n",
    "import numpy as np\n",
    "import os\n",
    "import scipy.spatial.distance as dist\n",
    "import seaborn as sns\n",
    "import sys\n",
    "import json\n",
    "import scanpy as sc\n",
    "from tqdm import tqdm\n",
    "\n",
    "# UMAP\n",
    "from sklearn.feature_extraction.text import TfidfVectorizer\n",
    "import anndata\n",
    "from collections import OrderedDict\n",
    "\n",
    "# Bokeh\n",
    "from bokeh.io import output_notebook\n",
    "from bokeh.plotting import figure, show, save, output_file\n",
    "from bokeh.models import HoverTool, ColumnDataSource\n",
    "from bokeh.palettes import Category20\n",
    "output_notebook()\n",
    "\n",
    "from IPython.display import display, HTML, Markdown\n",
    "sys.setrecursionlimit(100000)"
   ]
  },
  {
   "cell_type": "markdown",
   "metadata": {},
   "source": [
    "## Load Data"
   ]
  },
  {
   "cell_type": "code",
   "execution_count": null,
   "metadata": {},
   "outputs": [],
   "source": [
    "tyrosineKinases = pd.read_csv('TyrKinome/41586_2024_7407_MOESM5_ESM/Annotation - with non-canonical-Table 1.csv')\n",
    "tyrosineKinases"
   ]
  },
  {
   "cell_type": "markdown",
   "metadata": {},
   "source": [
    "## Process Data"
   ]
  },
  {
   "cell_type": "code",
   "execution_count": null,
   "metadata": {},
   "outputs": [],
   "source": [
    "uniprotToEntrez = pd.read_csv('../../tables/uniprot_to_entrez.tsv', sep='\\t').set_index('From')['To'].to_dict()\n",
    "geneids = pd.read_csv('../../mapping/mappingFiles/GeneSymbolsAndIDs_2024.tsv', sep='\\t', index_col='GeneID')['Symbol'].to_dict()\n",
    "uniprot = pd.read_csv('../../mapping/mappingFiles/humanUniprotMapping.tsv', sep='\\t', index_col='UniProt Accession')['NCBI Entrez Gene ID'].astype(int).to_dict()\n",
    "genemapping = pd.read_csv('../../mapping/mappingFiles/mappingFile_2024.tsv', sep='\\t', index_col='Synonyms')\n",
    "genemapping = genemapping[genemapping['#tax_id']==9606]['Symbol'].to_dict()"
   ]
  },
  {
   "cell_type": "code",
   "execution_count": null,
   "metadata": {},
   "outputs": [],
   "source": [
    "matrix = tyrosineKinases.set_index('Uniprot').get(tyrosineKinases.columns[15:])\n",
    "matrix.index = matrix.index.map(uniprot).map(geneids).map(genemapping)\n",
    "matrix = matrix.rename_axis('Gene').reset_index().dropna().set_index('Gene').rename_axis('Kinase', axis=1)\n",
    "matrix = matrix[matrix.columns[:185:2]].rename(lambda x: x.split(sep='_')[0], axis=1)\n",
    "matrix"
   ]
  },
  {
   "cell_type": "code",
   "execution_count": null,
   "metadata": {},
   "outputs": [],
   "source": [
    "matrix = matrix.sort_index().groupby(axis=0, level=0).median()\n",
    "matrix"
   ]
  },
  {
   "cell_type": "code",
   "execution_count": null,
   "metadata": {},
   "outputs": [],
   "source": [
    "edgelist = matrix.stack().reset_index()\n",
    "edgelist.columns = ['Gene', 'Kinase', 'Percentile']\n",
    "edgelist = edgelist.sort_values(['Kinase', 'Percentile'], ascending=[True, False]).reset_index(drop=True)\n",
    "#edgelist = edgelist.drop_duplicates(['Gene','Kinase'])\n",
    "print(len(edgelist['Gene'].unique()), 'genes,', len(edgelist['Kinase'].unique()), 'kinases')\n",
    "edgelist"
   ]
  },
  {
   "cell_type": "code",
   "execution_count": null,
   "metadata": {},
   "outputs": [],
   "source": [
    "edgelist_filtered = pd.DataFrame(columns=['Gene', 'Percentile'])\n",
    "edgelist = edgelist.set_index('Kinase')\n",
    "for kinase in edgelist.index.unique():\n",
    "    edgelist_filtered = pd.concat([edgelist_filtered, edgelist.loc[kinase][:100]])\n",
    "edgelist = edgelist_filtered.rename_axis('Kinase', axis=0).reset_index().sort_values(['Kinase','Percentile','Gene'],ascending=[True,False,True]).reset_index(drop=True)\n",
    "print(len(edgelist['Gene'].unique()), 'genes,', len(edgelist['Kinase'].unique()), 'kinases')\n",
    "edgelist"
   ]
  },
  {
   "cell_type": "markdown",
   "metadata": {},
   "source": [
    "## Harmonizome Additions"
   ]
  },
  {
   "cell_type": "markdown",
   "metadata": {},
   "source": [
    "### Dataset"
   ]
  },
  {
   "cell_type": "code",
   "execution_count": null,
   "metadata": {},
   "outputs": [],
   "source": [
    "#(id, name, name_without_resource, description, association, gene_set_description, gene_sets_description, attribute_set_description, is_signed, is_continuous_valued, last_updated, directory, num_page_views, resource_fk, measurement_fk, dataset_group_fk, attribute_type_fk, attribute_group_fk, evidence_type, evidence_group, measurement_bias, attribute_type_plural)\n",
    "(156,\n",
    "'Kinase Library Tyrosine Kinome Atlas',\n",
    "'Tyrosine Kinome Atlas',\n",
    "'A phosphoproteomics atlas detailing phosphorylation of protein substrates by 93 canonical and non-canonical tyrosine kinases in the human kinome.',\n",
    "'substrate-kinase associations from high-thorughput and low-thoroughput phosphoproteomics data',\n",
    "'substrates of the kinase {0} from the Kinase Library Tyrosine Kinome Atlas dataset.',\n",
    "'sets of substrates of kinases from the Kinase Library Tyrosine Kinome Atlas dataset.',\n",
    "'kinases that phosphorylate {0} protein from the Kinase Library Tyrosine Kinome Atlas dataset.',\n",
    "0,\n",
    "1,\n",
    "'2024-09-24',\n",
    "'tyrkinaselib',\n",
    "0,\n",
    "102,\n",
    "25,\n",
    "5,\n",
    "30,\n",
    "5,\n",
    "'protein phosphorylation by PSPA',\n",
    "'primary experimental data',\n",
    "'mixed',\n",
    "'kinases')"
   ]
  },
  {
   "cell_type": "markdown",
   "metadata": {},
   "source": [
    "### Publication"
   ]
  },
  {
   "cell_type": "code",
   "execution_count": null,
   "metadata": {},
   "outputs": [],
   "source": [
    "#(id, long_citation, short_citation, url, pmid, pubmed_url, first_author_last_name, first_author_initials, journal_abbreviation, year, title, volume, pages)\n",
    "(155,\n",
    "'Yaron-Barir, TM et al. (2024) The intrinsic substrate specificity of the human tyrosine kinome. Nature. 629:1174-81',\n",
    "'Yaron-Barir, Nature, 2024',\n",
    "'dx.doi.org/10.1038/s41586-024-07407-y',\n",
    "38720073,\n",
    "'https://www.ncbi.nlm.nih.gov/pubmed/38720073',\n",
    "'Yaron-Barir',\n",
    "'TM',\n",
    "'Nature',\n",
    "2024,\n",
    "'The intrinsic substrate specificity of the human tyrosine kinome',\n",
    "629,\n",
    "'1174-81')\n",
    "\n",
    "#datasets_to_publications\n",
    "(238, 156, 155)"
   ]
  },
  {
   "cell_type": "markdown",
   "metadata": {},
   "source": [
    "### Genes"
   ]
  },
  {
   "cell_type": "code",
   "execution_count": null,
   "metadata": {},
   "outputs": [],
   "source": [
    "dbgenes = pd.read_csv('../../tables/gene.csv')\n",
    "dbgeneids = dbgenes['ncbi_entrez_gene_id']\n",
    "dbgenesymbols = dbgenes['symbol'].tolist()\n",
    "genefks = dbgenes.set_index('symbol')['id'].to_dict()\n",
    "geneids = dbgenes.set_index('symbol')['ncbi_entrez_gene_id'].to_dict()\n",
    "dbgenes"
   ]
  },
  {
   "cell_type": "markdown",
   "metadata": {},
   "source": [
    "### Naming Authority"
   ]
  },
  {
   "cell_type": "markdown",
   "metadata": {},
   "source": [
    "### Attributes"
   ]
  },
  {
   "cell_type": "code",
   "execution_count": null,
   "metadata": {},
   "outputs": [],
   "source": [
    "dbattributes = pd.read_csv('../../tables/attribute.csv')\n",
    "dbattributes['name_from_naming_authority'] = dbattributes['name_from_naming_authority'].astype(str).map(str.lower)\n",
    "dbattributes = dbattributes.set_index('name_from_naming_authority')\n",
    "attributefks = dbattributes['id'].to_dict()\n",
    "\n",
    "#(id, name_from_naming_authority,  naming_authority_fk)\n",
    "index = 423202\n",
    "for kinase in edgelist['Kinase'].unique():\n",
    "    if kinase.lower() not in dbattributes.index:\n",
    "        print((index, kinase, 85), end=',\\n')\n",
    "        attributefks[kinase.lower()] = index\n",
    "    index += 1"
   ]
  },
  {
   "cell_type": "markdown",
   "metadata": {},
   "source": [
    "### Gene Sets"
   ]
  },
  {
   "cell_type": "code",
   "execution_count": null,
   "metadata": {},
   "outputs": [],
   "source": [
    "genesetfks = {}\n",
    "\n",
    "#id, name_from_dataset, description_from_dataset, dataset_fk, attribute_type_fk, attribute_fk\n",
    "index = 135700000\n",
    "for kinase in edgelist['Kinase'].unique():\n",
    "    print((index, kinase, 156, 30, attributefks[kinase.lower()]), end=',\\n')\n",
    "    genesetfks[kinase] = index\n",
    "    index += 1"
   ]
  },
  {
   "cell_type": "markdown",
   "metadata": {},
   "source": [
    "### Associations"
   ]
  },
  {
   "cell_type": "code",
   "execution_count": null,
   "metadata": {},
   "outputs": [],
   "source": [
    "associations = edgelist.copy()\n",
    "\n",
    "associations['Gene'] = associations['Gene'].apply(lambda x: genefks[x.upper()])\n",
    "associations['Kinase'] = associations['Kinase'].apply(lambda x: genesetfks[x])\n",
    "associations['threshold'] = 1\n",
    "associations.index += 43000000\n",
    "associations.columns = ['gene_set_fk','gene_fk','standardized_value','threshold_value']\n",
    "associations = associations.rename_axis('id', axis=0)[['gene_fk', 'gene_set_fk', 'standardized_value', 'threshold_value']]\n",
    "associations.to_csv('../../harmonizome-update/tyrkinaselib.csv')\n",
    "associations"
   ]
  },
  {
   "cell_type": "code",
   "execution_count": null,
   "metadata": {},
   "outputs": [],
   "source": [
    "edgelist['Percentile'].apply(np.log10)"
   ]
  },
  {
   "cell_type": "markdown",
   "metadata": {},
   "source": [
    "## Downloads"
   ]
  },
  {
   "cell_type": "code",
   "execution_count": null,
   "metadata": {},
   "outputs": [],
   "source": [
    "output_path = 'TyrKinome/downloads/'"
   ]
  },
  {
   "cell_type": "markdown",
   "metadata": {},
   "source": [
    "### Gene-Attribute Matrix"
   ]
  },
  {
   "cell_type": "code",
   "execution_count": null,
   "metadata": {},
   "outputs": [],
   "source": [
    "binarymatrix = pd.crosstab(index=edgelist['Gene'], columns=edgelist['Kinase'], values=1, aggfunc=max).replace(np.nan, 0).astype(int)\n",
    "binarymatrixT = binarymatrix.T\n",
    "binarymatrix.to_csv(output_path+'gene_attribute_matrix.txt.gz', sep='\\t', compression='gzip')\n",
    "binarymatrix"
   ]
  },
  {
   "cell_type": "markdown",
   "metadata": {},
   "source": [
    "### Gene Attribute Edge List"
   ]
  },
  {
   "cell_type": "code",
   "execution_count": null,
   "metadata": {},
   "outputs": [],
   "source": [
    "edgelist['Gene ID'] = edgelist['Gene'].apply(lambda x: geneids[x.upper()])\n",
    "edgelist['Threshold'] = 1\n",
    "\n",
    "edgelist = edgelist[['Gene', 'Gene ID', 'Kinase', 'Percentile', 'Threshold']]\n",
    "edgelist.columns = ['Gene', 'Gene ID', 'Kinase', 'standardized_value', 'threshold_value']\n",
    "edgelist.to_csv(output_path+'gene_attribute_edges.txt.gz', sep='\\t', compression='gzip')\n",
    "edgelist"
   ]
  },
  {
   "cell_type": "markdown",
   "metadata": {},
   "source": [
    "### Gene List"
   ]
  },
  {
   "cell_type": "code",
   "execution_count": null,
   "metadata": {},
   "outputs": [],
   "source": [
    "genes = edgelist[['Gene', 'Gene ID']].drop_duplicates().reset_index(drop=True)\n",
    "genes.to_csv(output_path+'gene_list_terms.txt.gz', sep='\\t', compression='gzip')\n",
    "genes"
   ]
  },
  {
   "cell_type": "markdown",
   "metadata": {},
   "source": [
    "### Attribute List"
   ]
  },
  {
   "cell_type": "code",
   "execution_count": null,
   "metadata": {},
   "outputs": [],
   "source": [
    "attributes = edgelist[['Kinase']].drop_duplicates().reset_index(drop=True)\n",
    "attributes.to_csv(output_path+'attribute_list_entries.txt.gz', sep='\\t', compression='gzip')\n",
    "attributes"
   ]
  },
  {
   "cell_type": "markdown",
   "metadata": {},
   "source": [
    "### Gene Set Library"
   ]
  },
  {
   "cell_type": "code",
   "execution_count": null,
   "metadata": {},
   "outputs": [],
   "source": [
    "arr = binarymatrix.reset_index(drop=True).to_numpy(dtype=np.int_)\n",
    "\n",
    "with open(output_path+'gene_set_library_crisp.gmt', 'w') as f:\n",
    "    for i in range(arr.shape[1]):\n",
    "        print(binarymatrix.columns[i], '', *binarymatrix.index[arr[:,i]==1],\n",
    "            sep='\\t', end='\\n', file=f)"
   ]
  },
  {
   "cell_type": "markdown",
   "metadata": {},
   "source": [
    "### Attribute Set Library"
   ]
  },
  {
   "cell_type": "code",
   "execution_count": null,
   "metadata": {},
   "outputs": [],
   "source": [
    "arr = binarymatrixT.reset_index(drop=True).to_numpy(dtype=np.int_)\n",
    "\n",
    "with open(output_path+'attribute_set_library_crisp.gmt', 'w') as f:\n",
    "    for i in range(arr.shape[1]):\n",
    "        print(binarymatrixT.columns[i], '', *binarymatrixT.index[arr[:,i]==1],\n",
    "            sep='\\t', end='\\n', file=f)"
   ]
  },
  {
   "cell_type": "markdown",
   "metadata": {},
   "source": [
    "### Gene Similarity Matrix"
   ]
  },
  {
   "cell_type": "code",
   "execution_count": null,
   "metadata": {},
   "outputs": [],
   "source": [
    "similarity_matrix = dist.pdist(binarymatrix.to_numpy(dtype=np.int_), 'cosine')\n",
    "similarity_matrix = dist.squareform(similarity_matrix)\n",
    "similarity_matrix = 1 - similarity_matrix\n",
    "\n",
    "gene_similarity_matrix = pd.DataFrame(similarity_matrix, index=binarymatrix.index, columns=binarymatrix.index)\n",
    "gene_similarity_matrix.index.name = None\n",
    "gene_similarity_matrix.columns.name = None\n",
    "\n",
    "gene_similarity_matrix.to_csv(output_path+'gene_similarity_matrix_cosine.txt', sep='\\t')\n",
    "gene_similarity_matrix"
   ]
  },
  {
   "cell_type": "markdown",
   "metadata": {},
   "source": [
    "### Attribute Similarity Matrix"
   ]
  },
  {
   "cell_type": "code",
   "execution_count": null,
   "metadata": {},
   "outputs": [],
   "source": [
    "similarity_matrix = dist.pdist(binarymatrixT.to_numpy(dtype=np.int_), 'cosine')\n",
    "similarity_matrix = dist.squareform(similarity_matrix)\n",
    "similarity_matrix = 1 - similarity_matrix\n",
    "\n",
    "attribute_similarity_matrix = pd.DataFrame(similarity_matrix, index=binarymatrixT.index, columns=binarymatrixT.index)\n",
    "attribute_similarity_matrix.index.name = None\n",
    "attribute_similarity_matrix.columns.name = None\n",
    "\n",
    "attribute_similarity_matrix.to_csv(output_path+'attribute_similarity_matrix_cosine.txt', sep='\\t')\n",
    "attribute_similarity_matrix"
   ]
  },
  {
   "cell_type": "markdown",
   "metadata": {},
   "source": [
    "### Standardized Gene-Attribute Matrix"
   ]
  },
  {
   "cell_type": "code",
   "execution_count": null,
   "metadata": {},
   "outputs": [],
   "source": [
    "standardizedmatrix = pd.crosstab(index=edgelist['Gene'], columns=edgelist['Kinase'], values=edgelist['standardized_value'], aggfunc=max).replace(np.nan, 0)\n",
    "standardizedmatrix.to_csv(output_path+'gene_attribute_matrix_standardized.txt.gz', sep='\\t', compression='gzip')\n",
    "standardizedmatrix"
   ]
  },
  {
   "cell_type": "markdown",
   "metadata": {},
   "source": [
    "### Knowledge Graph Serializations"
   ]
  },
  {
   "cell_type": "code",
   "execution_count": null,
   "metadata": {},
   "outputs": [],
   "source": [
    "nodes = {}\n",
    "edges = []\n",
    "\n",
    "#Gene\tGeneID\tGeneFK\n",
    "for gene in genes.index:\n",
    "    gene = genes.loc[gene]\n",
    "    id = int(gene['Gene ID'])\n",
    "    label = gene['Gene']\n",
    "    nodes[id] = {\n",
    "    \"type\": \"gene\",\n",
    "        \"properties\": {\n",
    "            \"id\": id,\n",
    "            \"label\": label\n",
    "        }\n",
    "    }\n",
    "\n",
    "\n",
    "#Kinase\tID\tDescription\tAttributeFK\tGenesetFK\n",
    "for kinase in attributes.index:\n",
    "    kinase = attributes.loc[kinase]\n",
    "    id = kinase['Kinase']\n",
    "    label = kinase['Kinase']\n",
    "    nodes[id] = {\n",
    "        \"type\": \"kinase\",\n",
    "        \"properties\": {\n",
    "            \"id\": id,\n",
    "            \"label\": label\n",
    "        }\n",
    "    }\n",
    "\n",
    "#Kinase\tKinase ID\tGene\tGene ID\tPercentile\tThreshold\n",
    "for edge in edgelist.index:\n",
    "    edge = edgelist.loc[edge]\n",
    "    sourceid = edge['Kinase']\n",
    "    sourcelabel = edge['Kinase']\n",
    "    targetid = int(edge['Gene ID'])\n",
    "    targetlabel = edge['Gene']\n",
    "    edges.append({\n",
    "    \"source\": sourceid,\n",
    "    \"relation\": \"phosphorylates\",\n",
    "    \"target\": targetid,\n",
    "    \"properties\": {\n",
    "        \"id\": str(sourceid)+\":\"+str(targetid),\n",
    "        \"source_label\": sourcelabel,\n",
    "        \"target_label\": targetlabel,\n",
    "        \"directed\":True,\n",
    "        \"standardized_value\":float(edge['standardized_value']),\n",
    "        \"threshold_value\":1\n",
    "    }\n",
    "})"
   ]
  },
  {
   "cell_type": "markdown",
   "metadata": {},
   "source": [
    "#### RDF"
   ]
  },
  {
   "cell_type": "code",
   "execution_count": null,
   "metadata": {},
   "outputs": [],
   "source": [
    "with open(output_path+'kg_serializations/tyrkinaselib.rdf', 'w') as f:\n",
    "    print('@prefix kinase: https://ncbi.nlm.nih.gov/gene/', file=f)\n",
    "    print('@prefix RO: http://purl.obolibrary.org/obo/RO_', file=f)\n",
    "\n",
    "    print(file=f)\n",
    "    for edge in edges:\n",
    "        print('kinase:'+str(edge['source']), 'RO:0002447', 'KinaseLibrary:'+str(edge['target']), end=' .\\n', file=f)"
   ]
  },
  {
   "cell_type": "markdown",
   "metadata": {},
   "source": [
    "#### JSON"
   ]
  },
  {
   "cell_type": "code",
   "execution_count": null,
   "metadata": {},
   "outputs": [],
   "source": [
    "with open(output_path+'kg_serializations/tyrkinaselib.json', 'w') as f:\n",
    "    serial = json.dump(\n",
    "        {\n",
    "            \"Version\":\"1\", \n",
    "            \"nodes\": nodes,\n",
    "            \"edges\": edges\n",
    "        }, indent=4, fp=f)"
   ]
  },
  {
   "cell_type": "markdown",
   "metadata": {},
   "source": [
    "#### TSV"
   ]
  },
  {
   "cell_type": "code",
   "execution_count": null,
   "metadata": {},
   "outputs": [],
   "source": [
    "nodeframe = pd.DataFrame(nodes).T\n",
    "nodeframe['label'] = nodeframe['properties'].apply(lambda x: x['label'])\n",
    "nodeframe = nodeframe.rename_axis('id', axis=0).reset_index().get(['type', 'label', 'id'])\n",
    "nodeframe.columns = ['namespace', 'label', 'id']\n",
    "nodeframe.to_csv(output_path+'kg_serializations/tyrkinaselib_tsv/nodes.tsv', sep='\\t')\n",
    "display(nodeframe)\n",
    "\n",
    "edgeframe = pd.DataFrame(edges)\n",
    "edgeframe['id'] = edgeframe['properties'].apply(lambda x: x['id'])\n",
    "edgeframe['source_label'] = edgeframe['properties'].apply(lambda x: x['source_label'])\n",
    "edgeframe['target_label'] = edgeframe['properties'].apply(lambda x: x['target_label'])\n",
    "edgeframe['directed'] = True\n",
    "edgeframe['standardized_value'] = edgeframe['properties'].apply(lambda x: x['standardized_value'])\n",
    "edgeframe['threshold_value'] = edgeframe['properties'].apply(lambda x: x['threshold_value'])\n",
    "edgeframe = edgeframe[['source', 'source_label', 'relation', 'target', 'target_label', 'id', 'directed', 'standardized_value', 'threshold_value']]\n",
    "edgeframe.to_csv(output_path+'kg_serializations/tyrkinaselib_tsv/edges.tsv', sep='\\t')\n",
    "display(edgeframe)"
   ]
  },
  {
   "cell_type": "markdown",
   "metadata": {},
   "source": [
    "## Visualizations"
   ]
  },
  {
   "cell_type": "markdown",
   "metadata": {},
   "source": [
    "### Gene-Attribute Clustered Heatmap"
   ]
  },
  {
   "cell_type": "code",
   "execution_count": null,
   "metadata": {},
   "outputs": [],
   "source": [
    "sns.clustermap(binarymatrix, cmap='seismic', center=0)"
   ]
  },
  {
   "cell_type": "markdown",
   "metadata": {},
   "source": [
    "### Gene Similarity Clustered Heatmap"
   ]
  },
  {
   "cell_type": "code",
   "execution_count": null,
   "metadata": {},
   "outputs": [],
   "source": [
    "sns.clustermap(gene_similarity_matrix, cmap='seismic', center=0)"
   ]
  },
  {
   "cell_type": "markdown",
   "metadata": {},
   "source": [
    "### Attribute Similarity Clustered Heatmap"
   ]
  },
  {
   "cell_type": "code",
   "execution_count": null,
   "metadata": {},
   "outputs": [],
   "source": [
    "sns.clustermap(attribute_similarity_matrix, cmap='seismic', center=0)"
   ]
  },
  {
   "cell_type": "markdown",
   "metadata": {},
   "source": [
    "### UMAP"
   ]
  },
  {
   "cell_type": "code",
   "execution_count": null,
   "metadata": {},
   "outputs": [],
   "source": [
    "def load_gmt(file):\n",
    "    gmt = OrderedDict()\n",
    "    for line in file:\n",
    "        term, blank, *geneset = line.strip().split('\\t')\n",
    "        gmt[term] = ' '.join(set(geneset))\n",
    "    return gmt\n",
    "libdict = load_gmt(open(output_path+'gene_set_library_crisp.gmt', 'r'))\n",
    "\n",
    "scatterdir = 'TyrKinome/images/'"
   ]
  },
  {
   "cell_type": "code",
   "execution_count": null,
   "metadata": {},
   "outputs": [],
   "source": [
    "def process_scatterplot(libdict, nneighbors=30, mindist=0.1, spread=1.0, maxdf=1.0, mindf=1):\n",
    "    print(\"\\tTF-IDF vectorizing gene set data...\")\n",
    "    vec = TfidfVectorizer(max_df=maxdf, min_df=mindf)\n",
    "    X = vec.fit_transform(libdict.values())\n",
    "    print(X.shape)\n",
    "    adata = anndata.AnnData(X)\n",
    "    adata.obs.index = libdict.keys()\n",
    "\n",
    "    print(\"\\tPerforming Leiden clustering...\")\n",
    "    ### the n_neighbors and min_dist parameters can be altered\n",
    "    sc.pp.neighbors(adata, n_neighbors=nneighbors)\n",
    "    sc.tl.leiden(adata, resolution=1.0)\n",
    "    sc.tl.umap(adata, min_dist=mindist, spread=spread, random_state=42)\n",
    "\n",
    "    new_order = adata.obs.sort_values(by='leiden').index.tolist()\n",
    "    adata = adata[new_order, :]\n",
    "    adata.obs['leiden'] = 'Cluster ' + adata.obs['leiden'].astype('object')\n",
    "\n",
    "    df = pd.DataFrame(adata.obsm['X_umap'])\n",
    "    df.columns = ['x', 'y']\n",
    "\n",
    "    df['cluster'] = adata.obs['leiden'].values\n",
    "    df['term'] = adata.obs.index\n",
    "    df['genes'] = [libdict[l] for l in df['term']]\n",
    "\n",
    "    return df"
   ]
  },
  {
   "cell_type": "code",
   "execution_count": null,
   "metadata": {},
   "outputs": [],
   "source": [
    "def get_scatter_colors(df):\n",
    "    clusters = pd.unique(df['cluster']).tolist()\n",
    "    colors = list(Category20[20])[::2] + list(Category20[20])[1::2]\n",
    "    color_mapper = {clusters[i]: colors[i % 20] for i in range(len(clusters))}\n",
    "    return color_mapper\n",
    "\n",
    "def get_scatterplot(scatterdf):\n",
    "    df = scatterdf.copy()\n",
    "    color_mapper = get_scatter_colors(df)\n",
    "    df['color'] = df['cluster'].apply(lambda x: color_mapper[x])\n",
    "\n",
    "    hover_emb = HoverTool(name=\"df\", tooltips=\"\"\"\n",
    "        <div style=\"margin: 10\">\n",
    "            <div style=\"margin: 0 auto; width:300px;\">\n",
    "                <span style=\"font-size: 12px; font-weight: bold;\">Gene Set:</span>\n",
    "                <span style=\"font-size: 12px\">@gene_set</span>\n",
    "            <div style=\"margin: 0 auto; width:300px;\">\n",
    "                <span style=\"font-size: 12px; font-weight: bold;\">Coordinates:</span>\n",
    "                <span style=\"font-size: 12px\">(@x,@y)</span>\n",
    "            <div style=\"margin: 0 auto; width:300px;\">\n",
    "                <span style=\"font-size: 12px; font-weight: bold;\">Cluster:</span>\n",
    "                <span style=\"font-size: 12px\">@cluster</span>\n",
    "            </div>\n",
    "        </div>\n",
    "    \"\"\")\n",
    "    tools_emb = [hover_emb, 'pan', 'wheel_zoom', 'reset', 'save']\n",
    "\n",
    "    plot_emb = figure(\n",
    "        width=1000, \n",
    "        height=700, \n",
    "        tools=tools_emb\n",
    "    )\n",
    "\n",
    "    source = ColumnDataSource(\n",
    "        data=dict(\n",
    "            x = df['x'],\n",
    "            y = df['y'],\n",
    "            gene_set = df['term'],\n",
    "            cluster = df['cluster'],\n",
    "            colors = df['color'],\n",
    "            label = df['cluster']\n",
    "        )\n",
    "    )\n",
    "\n",
    "    # hide axis labels and grid lines\n",
    "    plot_emb.xaxis.major_tick_line_color = None\n",
    "    plot_emb.xaxis.minor_tick_line_color = None\n",
    "    plot_emb.yaxis.major_tick_line_color = None\n",
    "    plot_emb.yaxis.minor_tick_line_color = None\n",
    "    plot_emb.xaxis.major_label_text_font_size = '0pt'\n",
    "    plot_emb.yaxis.major_label_text_font_size = '0pt' \n",
    "\n",
    "    plot_emb.output_backend = \"svg\"    \n",
    "    \n",
    "    plot_emb.title = 'Gene Sets in the Kinase Library Tyrosine Kinome Atlas Library'\n",
    "    plot_emb.xaxis.axis_label = \"UMAP_1\"\n",
    "    plot_emb.yaxis.axis_label = \"UMAP_2\"\n",
    "    plot_emb.xaxis.axis_label_text_font_style = 'normal'\n",
    "    plot_emb.xaxis.axis_label_text_font_size = '18px'\n",
    "    plot_emb.yaxis.axis_label_text_font_size = '18px'\n",
    "    plot_emb.yaxis.axis_label_text_font_style = 'normal'\n",
    "    plot_emb.title.align = 'center'\n",
    "    plot_emb.title.text_font_size = '18px'\n",
    "    \n",
    "    s = plot_emb.scatter(\n",
    "        'x', \n",
    "        'y', \n",
    "        size = 4, \n",
    "        source = source, \n",
    "        color = 'colors'\n",
    "    )\n",
    "    \n",
    "    return plot_emb"
   ]
  },
  {
   "cell_type": "code",
   "execution_count": null,
   "metadata": {},
   "outputs": [],
   "source": [
    "## defaults: nneighbors=30, mindist=0.1, spread=1.0, maxdf=1.0, mindf=1\n",
    "scatter_df = process_scatterplot(libdict, \n",
    "     nneighbors=4,\n",
    "     #mindist=0.01\n",
    "     spread=1.0,\n",
    "     #,maxdf=0.5\n",
    "     #,mindf=2\n",
    ")\n",
    "\n",
    "# Display Scatter Plot\n",
    "plot = get_scatterplot(scatter_df)\n",
    "output_notebook()\n",
    "show(plot)"
   ]
  },
  {
   "cell_type": "code",
   "execution_count": null,
   "metadata": {},
   "outputs": [],
   "source": [
    "# save HTML if desired\n",
    "output_file(filename=f\"{scatterdir}/umap.html\", title = 'Gene Sets in Kinase Library Tyrosine Kinome Atlas Library')\n",
    "save(plot)"
   ]
  }
 ],
 "metadata": {
  "kernelspec": {
   "display_name": "Python 3.10.13 ('harmonizomeETL')",
   "language": "python",
   "name": "python3"
  },
  "language_info": {
   "codemirror_mode": {
    "name": "ipython",
    "version": 3
   },
   "file_extension": ".py",
   "mimetype": "text/x-python",
   "name": "python",
   "nbconvert_exporter": "python",
   "pygments_lexer": "ipython3",
   "version": "3.10.13"
  },
  "orig_nbformat": 4,
  "vscode": {
   "interpreter": {
    "hash": "3ad6724d56c4b72bd8e5b8da3c2e0dcf6d86fdd164f3c98d6d6a78c076afabab"
   }
  }
 },
 "nbformat": 4,
 "nbformat_minor": 2
}
