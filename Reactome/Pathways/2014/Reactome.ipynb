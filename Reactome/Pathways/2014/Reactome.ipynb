{
 "cells": [
  {
   "cell_type": "markdown",
   "metadata": {},
   "source": [
    "# Reactome"
   ]
  },
  {
   "cell_type": "markdown",
   "metadata": {},
   "source": [
    "Author: Moshe Silverstein <br/>\n",
    "Date: 8-17 <br/>\n",
    "Data Source: http://reactome.org/pages/download-data/"
   ]
  },
  {
   "cell_type": "code",
   "execution_count": 1,
   "metadata": {
    "collapsed": true
   },
   "outputs": [],
   "source": [
    "import sys, datetime, os\n",
    "import numpy as np\n",
    "import pandas as pd\n",
    "import importlib\n",
    "import untility_functions as uf\n",
    "%matplotlib inline"
   ]
  },
  {
   "cell_type": "code",
   "execution_count": 2,
   "metadata": {},
   "outputs": [
    {
     "data": {
      "text/plain": [
       "<module 'untility_functions' from '/Users/moshesilverstein/Documents/Harmonizome/Reactome/untility_functions.py'>"
      ]
     },
     "execution_count": 2,
     "metadata": {},
     "output_type": "execute_result"
    }
   ],
   "source": [
    "importlib.reload(uf)"
   ]
  },
  {
   "cell_type": "markdown",
   "metadata": {},
   "source": [
    "# Load Data"
   ]
  },
  {
   "cell_type": "code",
   "execution_count": 18,
   "metadata": {},
   "outputs": [
    {
     "name": "stderr",
     "output_type": "stream",
     "text": [
      "/Users/moshesilverstein/anaconda/lib/python3.5/site-packages/ipykernel/__main__.py:3: ParserWarning: Falling back to the 'python' engine because the 'c' engine does not support regex separators (separators > 1 char and different from '\\s+' are interpreted as regex); you can avoid this warning by specifying engine='python'.\n",
      "  app.launch_new_instance()\n"
     ]
    }
   ],
   "source": [
    "df = pd.read_csv('ReactomePathways.gmt',\n",
    "                 sep='%%',\n",
    "                 header=None)"
   ]
  },
  {
   "cell_type": "code",
   "execution_count": 19,
   "metadata": {},
   "outputs": [
    {
     "data": {
      "text/plain": [
       "(1892, 1)"
      ]
     },
     "execution_count": 19,
     "metadata": {},
     "output_type": "execute_result"
    }
   ],
   "source": [
    "df.shape"
   ]
  },
  {
   "cell_type": "code",
   "execution_count": 20,
   "metadata": {},
   "outputs": [
    {
     "data": {
      "text/html": [
       "<div>\n",
       "<table border=\"1\" class=\"dataframe\">\n",
       "  <thead>\n",
       "    <tr style=\"text-align: right;\">\n",
       "      <th></th>\n",
       "      <th>0</th>\n",
       "    </tr>\n",
       "  </thead>\n",
       "  <tbody>\n",
       "    <tr>\n",
       "      <th>0</th>\n",
       "      <td>NS1 Mediated Effects on Host Pathways\\tR-HSA-1...</td>\n",
       "    </tr>\n",
       "    <tr>\n",
       "      <th>1</th>\n",
       "      <td>2-LTR circle formation\\tR-HSA-164843\\tReactome...</td>\n",
       "    </tr>\n",
       "    <tr>\n",
       "      <th>2</th>\n",
       "      <td>3' -UTR-mediated translational regulation\\tR-H...</td>\n",
       "    </tr>\n",
       "    <tr>\n",
       "      <th>3</th>\n",
       "      <td>5-Phosphoribose 1-diphosphate biosynthesis\\tR-...</td>\n",
       "    </tr>\n",
       "    <tr>\n",
       "      <th>4</th>\n",
       "      <td>A tetrasaccharide linker sequence is required ...</td>\n",
       "    </tr>\n",
       "  </tbody>\n",
       "</table>\n",
       "</div>"
      ],
      "text/plain": [
       "                                                   0\n",
       "0  NS1 Mediated Effects on Host Pathways\\tR-HSA-1...\n",
       "1  2-LTR circle formation\\tR-HSA-164843\\tReactome...\n",
       "2  3' -UTR-mediated translational regulation\\tR-H...\n",
       "3  5-Phosphoribose 1-diphosphate biosynthesis\\tR-...\n",
       "4  A tetrasaccharide linker sequence is required ..."
      ]
     },
     "execution_count": 20,
     "metadata": {},
     "output_type": "execute_result"
    }
   ],
   "source": [
    "df.head()"
   ]
  },
  {
   "cell_type": "code",
   "execution_count": 23,
   "metadata": {},
   "outputs": [
    {
     "name": "stdout",
     "output_type": "stream",
     "text": [
      "Progress: 100%  1892 Out of 1892   \r"
     ]
    }
   ],
   "source": [
    "df_pathways = pd.DataFrame()\n",
    "\n",
    "for i,index in enumerate(df.index):\n",
    "    \n",
    "    progressPercent = ((i+1)/len(df.index))*100\n",
    "\n",
    "    sys.stdout.write(\"Progress: %d%%  %d Out of %d   \\r\" % (progressPercent, (i+1), len(df.index)))\n",
    "    sys.stdout.flush()\n",
    "    \n",
    "    temp = pd.DataFrame()\n",
    "    genes = df.ix[index, 0].split('\\t')[3:]\n",
    "    pathway = [df.ix[index, 0].split('\\t')[0]]*len(genes)\n",
    "    temp['Pathways'] = pathway\n",
    "    temp['Genes'] = genes\n",
    "    df_pathways = pd.concat([df_pathways, temp])"
   ]
  },
  {
   "cell_type": "code",
   "execution_count": 24,
   "metadata": {},
   "outputs": [
    {
     "data": {
      "text/html": [
       "<div>\n",
       "<table border=\"1\" class=\"dataframe\">\n",
       "  <thead>\n",
       "    <tr style=\"text-align: right;\">\n",
       "      <th></th>\n",
       "      <th>Pathways</th>\n",
       "      <th>Genes</th>\n",
       "    </tr>\n",
       "  </thead>\n",
       "  <tbody>\n",
       "    <tr>\n",
       "      <th>0</th>\n",
       "      <td>NS1 Mediated Effects on Host Pathways</td>\n",
       "      <td>AAAS</td>\n",
       "    </tr>\n",
       "    <tr>\n",
       "      <th>1</th>\n",
       "      <td>NS1 Mediated Effects on Host Pathways</td>\n",
       "      <td>CPSF4</td>\n",
       "    </tr>\n",
       "    <tr>\n",
       "      <th>2</th>\n",
       "      <td>NS1 Mediated Effects on Host Pathways</td>\n",
       "      <td>EIF2AK2</td>\n",
       "    </tr>\n",
       "    <tr>\n",
       "      <th>3</th>\n",
       "      <td>NS1 Mediated Effects on Host Pathways</td>\n",
       "      <td>ISG15</td>\n",
       "    </tr>\n",
       "    <tr>\n",
       "      <th>4</th>\n",
       "      <td>NS1 Mediated Effects on Host Pathways</td>\n",
       "      <td>KPNA1</td>\n",
       "    </tr>\n",
       "  </tbody>\n",
       "</table>\n",
       "</div>"
      ],
      "text/plain": [
       "                                Pathways    Genes\n",
       "0  NS1 Mediated Effects on Host Pathways     AAAS\n",
       "1  NS1 Mediated Effects on Host Pathways    CPSF4\n",
       "2  NS1 Mediated Effects on Host Pathways  EIF2AK2\n",
       "3  NS1 Mediated Effects on Host Pathways    ISG15\n",
       "4  NS1 Mediated Effects on Host Pathways    KPNA1"
      ]
     },
     "execution_count": 24,
     "metadata": {},
     "output_type": "execute_result"
    }
   ],
   "source": [
    "df_pathways.head()"
   ]
  },
  {
   "cell_type": "code",
   "execution_count": 25,
   "metadata": {},
   "outputs": [
    {
     "data": {
      "text/plain": [
       "(106705, 2)"
      ]
     },
     "execution_count": 25,
     "metadata": {},
     "output_type": "execute_result"
    }
   ],
   "source": [
    "df_pathways.shape"
   ]
  },
  {
   "cell_type": "markdown",
   "metadata": {},
   "source": [
    "# Map Gene Symbols To Up-to-date Approved Gene Symbols"
   ]
  },
  {
   "cell_type": "code",
   "execution_count": 26,
   "metadata": {
    "collapsed": true
   },
   "outputs": [],
   "source": [
    "df_pathways.set_index('Genes', inplace=True)"
   ]
  },
  {
   "cell_type": "code",
   "execution_count": 27,
   "metadata": {},
   "outputs": [
    {
     "name": "stdout",
     "output_type": "stream",
     "text": [
      "Progeres: 99%  105891 Out of 106705   \r"
     ]
    }
   ],
   "source": [
    "uf.mapgenesymbols(df_pathways)"
   ]
  },
  {
   "cell_type": "code",
   "execution_count": 29,
   "metadata": {},
   "outputs": [
    {
     "data": {
      "text/plain": [
       "(105632, 1)"
      ]
     },
     "execution_count": 29,
     "metadata": {},
     "output_type": "execute_result"
    }
   ],
   "source": [
    "df_pathways.shape"
   ]
  },
  {
   "cell_type": "markdown",
   "metadata": {},
   "source": [
    "# Drop Duplicates"
   ]
  },
  {
   "cell_type": "code",
   "execution_count": 30,
   "metadata": {
    "collapsed": true
   },
   "outputs": [],
   "source": [
    "df_pathways.reset_index(inplace=True)"
   ]
  },
  {
   "cell_type": "code",
   "execution_count": 31,
   "metadata": {
    "collapsed": true
   },
   "outputs": [],
   "source": [
    "df_pathways.drop_duplicates(subset=['Genes', 'Pathways'], inplace=True)"
   ]
  },
  {
   "cell_type": "code",
   "execution_count": 32,
   "metadata": {},
   "outputs": [
    {
     "data": {
      "text/plain": [
       "(105556, 2)"
      ]
     },
     "execution_count": 32,
     "metadata": {},
     "output_type": "execute_result"
    }
   ],
   "source": [
    "df_pathways.shape"
   ]
  },
  {
   "cell_type": "code",
   "execution_count": 33,
   "metadata": {},
   "outputs": [
    {
     "data": {
      "text/html": [
       "<div>\n",
       "<table border=\"1\" class=\"dataframe\">\n",
       "  <thead>\n",
       "    <tr style=\"text-align: right;\">\n",
       "      <th></th>\n",
       "      <th>Genes</th>\n",
       "      <th>Pathways</th>\n",
       "    </tr>\n",
       "  </thead>\n",
       "  <tbody>\n",
       "    <tr>\n",
       "      <th>0</th>\n",
       "      <td>AAAS</td>\n",
       "      <td>NS1 Mediated Effects on Host Pathways</td>\n",
       "    </tr>\n",
       "    <tr>\n",
       "      <th>1</th>\n",
       "      <td>CPSF4</td>\n",
       "      <td>NS1 Mediated Effects on Host Pathways</td>\n",
       "    </tr>\n",
       "    <tr>\n",
       "      <th>2</th>\n",
       "      <td>EIF2AK2</td>\n",
       "      <td>NS1 Mediated Effects on Host Pathways</td>\n",
       "    </tr>\n",
       "    <tr>\n",
       "      <th>3</th>\n",
       "      <td>ISG15</td>\n",
       "      <td>NS1 Mediated Effects on Host Pathways</td>\n",
       "    </tr>\n",
       "    <tr>\n",
       "      <th>4</th>\n",
       "      <td>KPNA1</td>\n",
       "      <td>NS1 Mediated Effects on Host Pathways</td>\n",
       "    </tr>\n",
       "  </tbody>\n",
       "</table>\n",
       "</div>"
      ],
      "text/plain": [
       "     Genes                               Pathways\n",
       "0     AAAS  NS1 Mediated Effects on Host Pathways\n",
       "1    CPSF4  NS1 Mediated Effects on Host Pathways\n",
       "2  EIF2AK2  NS1 Mediated Effects on Host Pathways\n",
       "3    ISG15  NS1 Mediated Effects on Host Pathways\n",
       "4    KPNA1  NS1 Mediated Effects on Host Pathways"
      ]
     },
     "execution_count": 33,
     "metadata": {},
     "output_type": "execute_result"
    }
   ],
   "source": [
    "df_pathways.head()"
   ]
  },
  {
   "cell_type": "markdown",
   "metadata": {},
   "source": [
    "# Create Binary Matrix"
   ]
  },
  {
   "cell_type": "code",
   "execution_count": 34,
   "metadata": {},
   "outputs": [
    {
     "name": "stdout",
     "output_type": "stream",
     "text": [
      "Progeres: 100%  10237 Out of 10237   \r"
     ]
    }
   ],
   "source": [
    "binary_matrix = uf.createBinaryMatix(df_pathways)"
   ]
  },
  {
   "cell_type": "code",
   "execution_count": 35,
   "metadata": {},
   "outputs": [
    {
     "data": {
      "text/html": [
       "<div>\n",
       "<table border=\"1\" class=\"dataframe\">\n",
       "  <thead>\n",
       "    <tr style=\"text-align: right;\">\n",
       "      <th></th>\n",
       "      <th>RNA polymerase II transcribes snRNA genes</th>\n",
       "      <th>Common Pathway of Fibrin Clot Formation</th>\n",
       "      <th>Extracellular matrix organization</th>\n",
       "      <th>Ion channel transport</th>\n",
       "      <th>Intra-Golgi and retrograde Golgi-to-ER traffic</th>\n",
       "      <th>Heme biosynthesis</th>\n",
       "      <th>Metabolism of polyamines</th>\n",
       "      <th>Early Phase of HIV Life Cycle</th>\n",
       "      <th>Synthesis of IP3 and IP4 in the cytosol</th>\n",
       "      <th>SMAC binds to IAPs</th>\n",
       "      <th>...</th>\n",
       "      <th>PI and PC transport between ER and Golgi membranes</th>\n",
       "      <th>Displacement of DNA glycosylase by APEX1</th>\n",
       "      <th>Negative regulation of FGFR1 signaling</th>\n",
       "      <th>Depyrimidination</th>\n",
       "      <th>Cross-presentation of soluble exogenous antigens (endosomes)</th>\n",
       "      <th>Hh mutants abrogate ligand secretion</th>\n",
       "      <th>Oxidative Stress Induced Senescence</th>\n",
       "      <th>Defective GALNT3 causes familial hyperphosphatemic tumoral calcinosis (HFTC)</th>\n",
       "      <th>Asparagine N-linked glycosylation</th>\n",
       "      <th>IRS-mediated signalling</th>\n",
       "    </tr>\n",
       "  </thead>\n",
       "  <tbody>\n",
       "    <tr>\n",
       "      <th>NOD1</th>\n",
       "      <td>0</td>\n",
       "      <td>0</td>\n",
       "      <td>0</td>\n",
       "      <td>0</td>\n",
       "      <td>0</td>\n",
       "      <td>0</td>\n",
       "      <td>0</td>\n",
       "      <td>0</td>\n",
       "      <td>0</td>\n",
       "      <td>0</td>\n",
       "      <td>...</td>\n",
       "      <td>0</td>\n",
       "      <td>0</td>\n",
       "      <td>0</td>\n",
       "      <td>0</td>\n",
       "      <td>0</td>\n",
       "      <td>0</td>\n",
       "      <td>0</td>\n",
       "      <td>0</td>\n",
       "      <td>0</td>\n",
       "      <td>0</td>\n",
       "    </tr>\n",
       "    <tr>\n",
       "      <th>SCN11A</th>\n",
       "      <td>0</td>\n",
       "      <td>0</td>\n",
       "      <td>0</td>\n",
       "      <td>0</td>\n",
       "      <td>0</td>\n",
       "      <td>0</td>\n",
       "      <td>0</td>\n",
       "      <td>0</td>\n",
       "      <td>0</td>\n",
       "      <td>0</td>\n",
       "      <td>...</td>\n",
       "      <td>0</td>\n",
       "      <td>0</td>\n",
       "      <td>0</td>\n",
       "      <td>0</td>\n",
       "      <td>0</td>\n",
       "      <td>0</td>\n",
       "      <td>0</td>\n",
       "      <td>0</td>\n",
       "      <td>0</td>\n",
       "      <td>0</td>\n",
       "    </tr>\n",
       "    <tr>\n",
       "      <th>CENPS</th>\n",
       "      <td>0</td>\n",
       "      <td>0</td>\n",
       "      <td>0</td>\n",
       "      <td>0</td>\n",
       "      <td>0</td>\n",
       "      <td>0</td>\n",
       "      <td>0</td>\n",
       "      <td>0</td>\n",
       "      <td>0</td>\n",
       "      <td>0</td>\n",
       "      <td>...</td>\n",
       "      <td>0</td>\n",
       "      <td>0</td>\n",
       "      <td>0</td>\n",
       "      <td>0</td>\n",
       "      <td>0</td>\n",
       "      <td>0</td>\n",
       "      <td>0</td>\n",
       "      <td>0</td>\n",
       "      <td>0</td>\n",
       "      <td>0</td>\n",
       "    </tr>\n",
       "    <tr>\n",
       "      <th>CD320</th>\n",
       "      <td>0</td>\n",
       "      <td>0</td>\n",
       "      <td>0</td>\n",
       "      <td>0</td>\n",
       "      <td>0</td>\n",
       "      <td>0</td>\n",
       "      <td>0</td>\n",
       "      <td>0</td>\n",
       "      <td>0</td>\n",
       "      <td>0</td>\n",
       "      <td>...</td>\n",
       "      <td>0</td>\n",
       "      <td>0</td>\n",
       "      <td>0</td>\n",
       "      <td>0</td>\n",
       "      <td>0</td>\n",
       "      <td>0</td>\n",
       "      <td>0</td>\n",
       "      <td>0</td>\n",
       "      <td>0</td>\n",
       "      <td>0</td>\n",
       "    </tr>\n",
       "    <tr>\n",
       "      <th>ART3</th>\n",
       "      <td>0</td>\n",
       "      <td>0</td>\n",
       "      <td>0</td>\n",
       "      <td>0</td>\n",
       "      <td>0</td>\n",
       "      <td>0</td>\n",
       "      <td>0</td>\n",
       "      <td>0</td>\n",
       "      <td>0</td>\n",
       "      <td>0</td>\n",
       "      <td>...</td>\n",
       "      <td>0</td>\n",
       "      <td>0</td>\n",
       "      <td>0</td>\n",
       "      <td>0</td>\n",
       "      <td>0</td>\n",
       "      <td>0</td>\n",
       "      <td>0</td>\n",
       "      <td>0</td>\n",
       "      <td>0</td>\n",
       "      <td>0</td>\n",
       "    </tr>\n",
       "  </tbody>\n",
       "</table>\n",
       "<p>5 rows × 1887 columns</p>\n",
       "</div>"
      ],
      "text/plain": [
       "        RNA polymerase II transcribes snRNA genes  \\\n",
       "NOD1                                            0   \n",
       "SCN11A                                          0   \n",
       "CENPS                                           0   \n",
       "CD320                                           0   \n",
       "ART3                                            0   \n",
       "\n",
       "        Common Pathway of Fibrin Clot Formation  \\\n",
       "NOD1                                          0   \n",
       "SCN11A                                        0   \n",
       "CENPS                                         0   \n",
       "CD320                                         0   \n",
       "ART3                                          0   \n",
       "\n",
       "        Extracellular matrix organization  Ion channel transport  \\\n",
       "NOD1                                    0                      0   \n",
       "SCN11A                                  0                      0   \n",
       "CENPS                                   0                      0   \n",
       "CD320                                   0                      0   \n",
       "ART3                                    0                      0   \n",
       "\n",
       "        Intra-Golgi and retrograde Golgi-to-ER traffic  Heme biosynthesis  \\\n",
       "NOD1                                                 0                  0   \n",
       "SCN11A                                               0                  0   \n",
       "CENPS                                                0                  0   \n",
       "CD320                                                0                  0   \n",
       "ART3                                                 0                  0   \n",
       "\n",
       "        Metabolism of polyamines  Early Phase of HIV Life Cycle  \\\n",
       "NOD1                           0                              0   \n",
       "SCN11A                         0                              0   \n",
       "CENPS                          0                              0   \n",
       "CD320                          0                              0   \n",
       "ART3                           0                              0   \n",
       "\n",
       "        Synthesis of IP3 and IP4 in the cytosol  SMAC binds to IAPs  \\\n",
       "NOD1                                          0                   0   \n",
       "SCN11A                                        0                   0   \n",
       "CENPS                                         0                   0   \n",
       "CD320                                         0                   0   \n",
       "ART3                                          0                   0   \n",
       "\n",
       "                 ...             \\\n",
       "NOD1             ...              \n",
       "SCN11A           ...              \n",
       "CENPS            ...              \n",
       "CD320            ...              \n",
       "ART3             ...              \n",
       "\n",
       "        PI and PC transport between ER and Golgi membranes  \\\n",
       "NOD1                                                    0    \n",
       "SCN11A                                                  0    \n",
       "CENPS                                                   0    \n",
       "CD320                                                   0    \n",
       "ART3                                                    0    \n",
       "\n",
       "        Displacement of DNA glycosylase by APEX1  \\\n",
       "NOD1                                           0   \n",
       "SCN11A                                         0   \n",
       "CENPS                                          0   \n",
       "CD320                                          0   \n",
       "ART3                                           0   \n",
       "\n",
       "        Negative regulation of FGFR1 signaling  Depyrimidination  \\\n",
       "NOD1                                         0                 0   \n",
       "SCN11A                                       0                 0   \n",
       "CENPS                                        0                 0   \n",
       "CD320                                        0                 0   \n",
       "ART3                                         0                 0   \n",
       "\n",
       "        Cross-presentation of soluble exogenous antigens (endosomes)  \\\n",
       "NOD1                                                    0              \n",
       "SCN11A                                                  0              \n",
       "CENPS                                                   0              \n",
       "CD320                                                   0              \n",
       "ART3                                                    0              \n",
       "\n",
       "        Hh mutants abrogate ligand secretion  \\\n",
       "NOD1                                       0   \n",
       "SCN11A                                     0   \n",
       "CENPS                                      0   \n",
       "CD320                                      0   \n",
       "ART3                                       0   \n",
       "\n",
       "        Oxidative Stress Induced Senescence  \\\n",
       "NOD1                                      0   \n",
       "SCN11A                                    0   \n",
       "CENPS                                     0   \n",
       "CD320                                     0   \n",
       "ART3                                      0   \n",
       "\n",
       "        Defective GALNT3 causes familial hyperphosphatemic tumoral calcinosis (HFTC)  \\\n",
       "NOD1                                                    0                              \n",
       "SCN11A                                                  0                              \n",
       "CENPS                                                   0                              \n",
       "CD320                                                   0                              \n",
       "ART3                                                    0                              \n",
       "\n",
       "        Asparagine N-linked glycosylation  IRS-mediated signalling  \n",
       "NOD1                                    0                        0  \n",
       "SCN11A                                  0                        0  \n",
       "CENPS                                   0                        0  \n",
       "CD320                                   0                        0  \n",
       "ART3                                    0                        0  \n",
       "\n",
       "[5 rows x 1887 columns]"
      ]
     },
     "execution_count": 35,
     "metadata": {},
     "output_type": "execute_result"
    }
   ],
   "source": [
    "binary_matrix.head()"
   ]
  },
  {
   "cell_type": "code",
   "execution_count": 36,
   "metadata": {},
   "outputs": [
    {
     "data": {
      "text/plain": [
       "(10237, 1887)"
      ]
     },
     "execution_count": 36,
     "metadata": {},
     "output_type": "execute_result"
    }
   ],
   "source": [
    "binary_matrix.shape"
   ]
  },
  {
   "cell_type": "markdown",
   "metadata": {},
   "source": [
    "# Save Binary Matrix"
   ]
  },
  {
   "cell_type": "code",
   "execution_count": 38,
   "metadata": {},
   "outputs": [],
   "source": [
    "filename = '~/./Documents/Harmonizome/Reactome/Output/reactome_binary_matrix_%s.tsv.zip'% str(datetime.date.today())[0:7].replace('-', '_')\n",
    "binary_matrix.to_csv(filename, sep='\\t', compression='gzip')"
   ]
  },
  {
   "cell_type": "markdown",
   "metadata": {},
   "source": [
    "# Create Gene Set Library"
   ]
  },
  {
   "cell_type": "code",
   "execution_count": 39,
   "metadata": {
    "collapsed": true
   },
   "outputs": [],
   "source": [
    "path = '/Users/moshesilverstein/Documents/Harmonizome/Reactome/Output/'"
   ]
  },
  {
   "cell_type": "code",
   "execution_count": 40,
   "metadata": {
    "collapsed": true
   },
   "outputs": [],
   "source": [
    "name = 'reactome_gene_set'"
   ]
  },
  {
   "cell_type": "code",
   "execution_count": 41,
   "metadata": {},
   "outputs": [
    {
     "name": "stdout",
     "output_type": "stream",
     "text": [
      "Progeres: 100%  1887 Out of 1887   \r"
     ]
    }
   ],
   "source": [
    "uf.createUpGeneSetLib(binary_matrix, path, name)"
   ]
  },
  {
   "cell_type": "markdown",
   "metadata": {},
   "source": [
    "# Create Attribute Library"
   ]
  },
  {
   "cell_type": "code",
   "execution_count": 42,
   "metadata": {
    "collapsed": true
   },
   "outputs": [],
   "source": [
    "path = '/Users/moshesilverstein/Documents/Harmonizome/Reactome/Output/'"
   ]
  },
  {
   "cell_type": "code",
   "execution_count": 43,
   "metadata": {
    "collapsed": true
   },
   "outputs": [],
   "source": [
    "name = 'reactome_attribute_set'"
   ]
  },
  {
   "cell_type": "code",
   "execution_count": 44,
   "metadata": {},
   "outputs": [
    {
     "name": "stdout",
     "output_type": "stream",
     "text": [
      "Progeres: 100%  10237 Out of 10237   \r"
     ]
    }
   ],
   "source": [
    "uf.createUpAttributeSetLib(binary_matrix, path, name)"
   ]
  },
  {
   "cell_type": "markdown",
   "metadata": {},
   "source": [
    "# Create Gene Similarity Matrix"
   ]
  },
  {
   "cell_type": "code",
   "execution_count": 45,
   "metadata": {
    "collapsed": true
   },
   "outputs": [],
   "source": [
    "gene_similarity_matix = uf.createSimilarityMatrix(binary_matrix, 'jaccard')"
   ]
  },
  {
   "cell_type": "code",
   "execution_count": 46,
   "metadata": {},
   "outputs": [
    {
     "data": {
      "text/html": [
       "<div>\n",
       "<table border=\"1\" class=\"dataframe\">\n",
       "  <thead>\n",
       "    <tr style=\"text-align: right;\">\n",
       "      <th></th>\n",
       "      <th>NOD1</th>\n",
       "      <th>SCN11A</th>\n",
       "      <th>CENPS</th>\n",
       "      <th>CD320</th>\n",
       "      <th>ART3</th>\n",
       "      <th>CLEC4E</th>\n",
       "      <th>ELOA3D</th>\n",
       "      <th>PLA2G4F</th>\n",
       "      <th>COA4</th>\n",
       "      <th>KCNF1</th>\n",
       "      <th>...</th>\n",
       "      <th>TBC1D10C</th>\n",
       "      <th>PPP6R1</th>\n",
       "      <th>HTR3D</th>\n",
       "      <th>LEP</th>\n",
       "      <th>TADA2B</th>\n",
       "      <th>TBL1X</th>\n",
       "      <th>IDI2</th>\n",
       "      <th>YY1</th>\n",
       "      <th>GDA</th>\n",
       "      <th>GCHFR</th>\n",
       "    </tr>\n",
       "  </thead>\n",
       "  <tbody>\n",
       "    <tr>\n",
       "      <th>NOD1</th>\n",
       "      <td>1.000000</td>\n",
       "      <td>0.0</td>\n",
       "      <td>0.0</td>\n",
       "      <td>0.0</td>\n",
       "      <td>0.058824</td>\n",
       "      <td>0.057143</td>\n",
       "      <td>0.000000</td>\n",
       "      <td>0.000000</td>\n",
       "      <td>0.029412</td>\n",
       "      <td>0.0</td>\n",
       "      <td>...</td>\n",
       "      <td>0.054054</td>\n",
       "      <td>0.051282</td>\n",
       "      <td>0.0</td>\n",
       "      <td>0.024390</td>\n",
       "      <td>0.081081</td>\n",
       "      <td>0.000000</td>\n",
       "      <td>0.000000</td>\n",
       "      <td>0.066667</td>\n",
       "      <td>0.000000</td>\n",
       "      <td>0.000000</td>\n",
       "    </tr>\n",
       "    <tr>\n",
       "      <th>SCN11A</th>\n",
       "      <td>0.000000</td>\n",
       "      <td>1.0</td>\n",
       "      <td>0.0</td>\n",
       "      <td>0.0</td>\n",
       "      <td>0.000000</td>\n",
       "      <td>0.000000</td>\n",
       "      <td>0.000000</td>\n",
       "      <td>0.000000</td>\n",
       "      <td>0.000000</td>\n",
       "      <td>0.0</td>\n",
       "      <td>...</td>\n",
       "      <td>0.000000</td>\n",
       "      <td>0.000000</td>\n",
       "      <td>0.0</td>\n",
       "      <td>0.066667</td>\n",
       "      <td>0.000000</td>\n",
       "      <td>0.026316</td>\n",
       "      <td>0.000000</td>\n",
       "      <td>0.047619</td>\n",
       "      <td>0.000000</td>\n",
       "      <td>0.000000</td>\n",
       "    </tr>\n",
       "    <tr>\n",
       "      <th>CENPS</th>\n",
       "      <td>0.000000</td>\n",
       "      <td>0.0</td>\n",
       "      <td>1.0</td>\n",
       "      <td>0.0</td>\n",
       "      <td>0.000000</td>\n",
       "      <td>0.000000</td>\n",
       "      <td>0.000000</td>\n",
       "      <td>0.000000</td>\n",
       "      <td>0.000000</td>\n",
       "      <td>0.0</td>\n",
       "      <td>...</td>\n",
       "      <td>0.000000</td>\n",
       "      <td>0.000000</td>\n",
       "      <td>0.0</td>\n",
       "      <td>0.040000</td>\n",
       "      <td>0.000000</td>\n",
       "      <td>0.020833</td>\n",
       "      <td>0.000000</td>\n",
       "      <td>0.032258</td>\n",
       "      <td>0.000000</td>\n",
       "      <td>0.000000</td>\n",
       "    </tr>\n",
       "    <tr>\n",
       "      <th>CD320</th>\n",
       "      <td>0.000000</td>\n",
       "      <td>0.0</td>\n",
       "      <td>0.0</td>\n",
       "      <td>1.0</td>\n",
       "      <td>0.000000</td>\n",
       "      <td>0.000000</td>\n",
       "      <td>0.032258</td>\n",
       "      <td>0.055556</td>\n",
       "      <td>0.000000</td>\n",
       "      <td>0.0</td>\n",
       "      <td>...</td>\n",
       "      <td>0.000000</td>\n",
       "      <td>0.000000</td>\n",
       "      <td>0.0</td>\n",
       "      <td>0.000000</td>\n",
       "      <td>0.000000</td>\n",
       "      <td>0.051282</td>\n",
       "      <td>0.090909</td>\n",
       "      <td>0.000000</td>\n",
       "      <td>0.083333</td>\n",
       "      <td>0.083333</td>\n",
       "    </tr>\n",
       "    <tr>\n",
       "      <th>ART3</th>\n",
       "      <td>0.058824</td>\n",
       "      <td>0.0</td>\n",
       "      <td>0.0</td>\n",
       "      <td>0.0</td>\n",
       "      <td>1.000000</td>\n",
       "      <td>0.000000</td>\n",
       "      <td>0.000000</td>\n",
       "      <td>0.000000</td>\n",
       "      <td>0.250000</td>\n",
       "      <td>0.0</td>\n",
       "      <td>...</td>\n",
       "      <td>0.000000</td>\n",
       "      <td>0.222222</td>\n",
       "      <td>0.0</td>\n",
       "      <td>0.090909</td>\n",
       "      <td>0.250000</td>\n",
       "      <td>0.000000</td>\n",
       "      <td>0.000000</td>\n",
       "      <td>0.125000</td>\n",
       "      <td>0.000000</td>\n",
       "      <td>0.000000</td>\n",
       "    </tr>\n",
       "  </tbody>\n",
       "</table>\n",
       "<p>5 rows × 10237 columns</p>\n",
       "</div>"
      ],
      "text/plain": [
       "            NOD1  SCN11A  CENPS  CD320      ART3    CLEC4E    ELOA3D  \\\n",
       "NOD1    1.000000     0.0    0.0    0.0  0.058824  0.057143  0.000000   \n",
       "SCN11A  0.000000     1.0    0.0    0.0  0.000000  0.000000  0.000000   \n",
       "CENPS   0.000000     0.0    1.0    0.0  0.000000  0.000000  0.000000   \n",
       "CD320   0.000000     0.0    0.0    1.0  0.000000  0.000000  0.032258   \n",
       "ART3    0.058824     0.0    0.0    0.0  1.000000  0.000000  0.000000   \n",
       "\n",
       "         PLA2G4F      COA4  KCNF1    ...     TBC1D10C    PPP6R1  HTR3D  \\\n",
       "NOD1    0.000000  0.029412    0.0    ...     0.054054  0.051282    0.0   \n",
       "SCN11A  0.000000  0.000000    0.0    ...     0.000000  0.000000    0.0   \n",
       "CENPS   0.000000  0.000000    0.0    ...     0.000000  0.000000    0.0   \n",
       "CD320   0.055556  0.000000    0.0    ...     0.000000  0.000000    0.0   \n",
       "ART3    0.000000  0.250000    0.0    ...     0.000000  0.222222    0.0   \n",
       "\n",
       "             LEP    TADA2B     TBL1X      IDI2       YY1       GDA     GCHFR  \n",
       "NOD1    0.024390  0.081081  0.000000  0.000000  0.066667  0.000000  0.000000  \n",
       "SCN11A  0.066667  0.000000  0.026316  0.000000  0.047619  0.000000  0.000000  \n",
       "CENPS   0.040000  0.000000  0.020833  0.000000  0.032258  0.000000  0.000000  \n",
       "CD320   0.000000  0.000000  0.051282  0.090909  0.000000  0.083333  0.083333  \n",
       "ART3    0.090909  0.250000  0.000000  0.000000  0.125000  0.000000  0.000000  \n",
       "\n",
       "[5 rows x 10237 columns]"
      ]
     },
     "execution_count": 46,
     "metadata": {},
     "output_type": "execute_result"
    }
   ],
   "source": [
    "gene_similarity_matix.head()"
   ]
  },
  {
   "cell_type": "markdown",
   "metadata": {},
   "source": [
    "## Save Gene Similarity Matrix "
   ]
  },
  {
   "cell_type": "code",
   "execution_count": 47,
   "metadata": {
    "collapsed": true
   },
   "outputs": [],
   "source": [
    "filename = '~/./Documents/Harmonizome/Reactome/Output/reactome_gene_similarity_matix_%s.tsv.zip'% str(datetime.date.today())[0:7].replace('-', '_')\n",
    "gene_similarity_matix.to_csv(filename, sep='\\t', compression='gzip')"
   ]
  },
  {
   "cell_type": "markdown",
   "metadata": {},
   "source": [
    "# Create Attribute Similarity matrix"
   ]
  },
  {
   "cell_type": "code",
   "execution_count": 48,
   "metadata": {
    "collapsed": true
   },
   "outputs": [],
   "source": [
    "attribute_similarity_matix = uf.createSimilarityMatrix(binary_matrix.T, 'jaccard')"
   ]
  },
  {
   "cell_type": "code",
   "execution_count": 49,
   "metadata": {},
   "outputs": [
    {
     "data": {
      "text/html": [
       "<div>\n",
       "<table border=\"1\" class=\"dataframe\">\n",
       "  <thead>\n",
       "    <tr style=\"text-align: right;\">\n",
       "      <th></th>\n",
       "      <th>RNA polymerase II transcribes snRNA genes</th>\n",
       "      <th>Common Pathway of Fibrin Clot Formation</th>\n",
       "      <th>Extracellular matrix organization</th>\n",
       "      <th>Ion channel transport</th>\n",
       "      <th>Intra-Golgi and retrograde Golgi-to-ER traffic</th>\n",
       "      <th>Heme biosynthesis</th>\n",
       "      <th>Metabolism of polyamines</th>\n",
       "      <th>Early Phase of HIV Life Cycle</th>\n",
       "      <th>Synthesis of IP3 and IP4 in the cytosol</th>\n",
       "      <th>SMAC binds to IAPs</th>\n",
       "      <th>...</th>\n",
       "      <th>PI and PC transport between ER and Golgi membranes</th>\n",
       "      <th>Displacement of DNA glycosylase by APEX1</th>\n",
       "      <th>Negative regulation of FGFR1 signaling</th>\n",
       "      <th>Depyrimidination</th>\n",
       "      <th>Cross-presentation of soluble exogenous antigens (endosomes)</th>\n",
       "      <th>Hh mutants abrogate ligand secretion</th>\n",
       "      <th>Oxidative Stress Induced Senescence</th>\n",
       "      <th>Defective GALNT3 causes familial hyperphosphatemic tumoral calcinosis (HFTC)</th>\n",
       "      <th>Asparagine N-linked glycosylation</th>\n",
       "      <th>IRS-mediated signalling</th>\n",
       "    </tr>\n",
       "  </thead>\n",
       "  <tbody>\n",
       "    <tr>\n",
       "      <th>RNA polymerase II transcribes snRNA genes</th>\n",
       "      <td>1.0</td>\n",
       "      <td>0.00000</td>\n",
       "      <td>0.00000</td>\n",
       "      <td>0.0</td>\n",
       "      <td>0.0</td>\n",
       "      <td>0.0</td>\n",
       "      <td>0.0</td>\n",
       "      <td>0.0</td>\n",
       "      <td>0.000000</td>\n",
       "      <td>0.000000</td>\n",
       "      <td>...</td>\n",
       "      <td>0.0</td>\n",
       "      <td>0.0</td>\n",
       "      <td>0.000000</td>\n",
       "      <td>0.0</td>\n",
       "      <td>0.0</td>\n",
       "      <td>0.000000</td>\n",
       "      <td>0.000000</td>\n",
       "      <td>0.0</td>\n",
       "      <td>0.000000</td>\n",
       "      <td>0.000000</td>\n",
       "    </tr>\n",
       "    <tr>\n",
       "      <th>Common Pathway of Fibrin Clot Formation</th>\n",
       "      <td>0.0</td>\n",
       "      <td>1.00000</td>\n",
       "      <td>0.00974</td>\n",
       "      <td>0.0</td>\n",
       "      <td>0.0</td>\n",
       "      <td>0.0</td>\n",
       "      <td>0.0</td>\n",
       "      <td>0.0</td>\n",
       "      <td>0.000000</td>\n",
       "      <td>0.000000</td>\n",
       "      <td>...</td>\n",
       "      <td>0.0</td>\n",
       "      <td>0.0</td>\n",
       "      <td>0.000000</td>\n",
       "      <td>0.0</td>\n",
       "      <td>0.0</td>\n",
       "      <td>0.000000</td>\n",
       "      <td>0.000000</td>\n",
       "      <td>0.0</td>\n",
       "      <td>0.006667</td>\n",
       "      <td>0.009804</td>\n",
       "    </tr>\n",
       "    <tr>\n",
       "      <th>Extracellular matrix organization</th>\n",
       "      <td>0.0</td>\n",
       "      <td>0.00974</td>\n",
       "      <td>1.00000</td>\n",
       "      <td>0.0</td>\n",
       "      <td>0.0</td>\n",
       "      <td>0.0</td>\n",
       "      <td>0.0</td>\n",
       "      <td>0.0</td>\n",
       "      <td>0.000000</td>\n",
       "      <td>0.003413</td>\n",
       "      <td>...</td>\n",
       "      <td>0.0</td>\n",
       "      <td>0.0</td>\n",
       "      <td>0.003115</td>\n",
       "      <td>0.0</td>\n",
       "      <td>0.0</td>\n",
       "      <td>0.000000</td>\n",
       "      <td>0.000000</td>\n",
       "      <td>0.0</td>\n",
       "      <td>0.003527</td>\n",
       "      <td>0.017668</td>\n",
       "    </tr>\n",
       "    <tr>\n",
       "      <th>Ion channel transport</th>\n",
       "      <td>0.0</td>\n",
       "      <td>0.00000</td>\n",
       "      <td>0.00000</td>\n",
       "      <td>1.0</td>\n",
       "      <td>0.0</td>\n",
       "      <td>0.0</td>\n",
       "      <td>0.0</td>\n",
       "      <td>0.0</td>\n",
       "      <td>0.004348</td>\n",
       "      <td>0.000000</td>\n",
       "      <td>...</td>\n",
       "      <td>0.0</td>\n",
       "      <td>0.0</td>\n",
       "      <td>0.017094</td>\n",
       "      <td>0.0</td>\n",
       "      <td>0.0</td>\n",
       "      <td>0.015504</td>\n",
       "      <td>0.013514</td>\n",
       "      <td>0.0</td>\n",
       "      <td>0.008316</td>\n",
       "      <td>0.020747</td>\n",
       "    </tr>\n",
       "    <tr>\n",
       "      <th>Intra-Golgi and retrograde Golgi-to-ER traffic</th>\n",
       "      <td>0.0</td>\n",
       "      <td>0.00000</td>\n",
       "      <td>0.00000</td>\n",
       "      <td>0.0</td>\n",
       "      <td>1.0</td>\n",
       "      <td>0.0</td>\n",
       "      <td>0.0</td>\n",
       "      <td>0.0</td>\n",
       "      <td>0.000000</td>\n",
       "      <td>0.000000</td>\n",
       "      <td>...</td>\n",
       "      <td>0.0</td>\n",
       "      <td>0.0</td>\n",
       "      <td>0.000000</td>\n",
       "      <td>0.0</td>\n",
       "      <td>0.0</td>\n",
       "      <td>0.000000</td>\n",
       "      <td>0.000000</td>\n",
       "      <td>0.0</td>\n",
       "      <td>0.158690</td>\n",
       "      <td>0.000000</td>\n",
       "    </tr>\n",
       "  </tbody>\n",
       "</table>\n",
       "<p>5 rows × 1887 columns</p>\n",
       "</div>"
      ],
      "text/plain": [
       "                                                RNA polymerase II transcribes snRNA genes  \\\n",
       "RNA polymerase II transcribes snRNA genes                                             1.0   \n",
       "Common Pathway of Fibrin Clot Formation                                               0.0   \n",
       "Extracellular matrix organization                                                     0.0   \n",
       "Ion channel transport                                                                 0.0   \n",
       "Intra-Golgi and retrograde Golgi-to-ER traffic                                        0.0   \n",
       "\n",
       "                                                Common Pathway of Fibrin Clot Formation  \\\n",
       "RNA polymerase II transcribes snRNA genes                                       0.00000   \n",
       "Common Pathway of Fibrin Clot Formation                                         1.00000   \n",
       "Extracellular matrix organization                                               0.00974   \n",
       "Ion channel transport                                                           0.00000   \n",
       "Intra-Golgi and retrograde Golgi-to-ER traffic                                  0.00000   \n",
       "\n",
       "                                                Extracellular matrix organization  \\\n",
       "RNA polymerase II transcribes snRNA genes                                 0.00000   \n",
       "Common Pathway of Fibrin Clot Formation                                   0.00974   \n",
       "Extracellular matrix organization                                         1.00000   \n",
       "Ion channel transport                                                     0.00000   \n",
       "Intra-Golgi and retrograde Golgi-to-ER traffic                            0.00000   \n",
       "\n",
       "                                                Ion channel transport  \\\n",
       "RNA polymerase II transcribes snRNA genes                         0.0   \n",
       "Common Pathway of Fibrin Clot Formation                           0.0   \n",
       "Extracellular matrix organization                                 0.0   \n",
       "Ion channel transport                                             1.0   \n",
       "Intra-Golgi and retrograde Golgi-to-ER traffic                    0.0   \n",
       "\n",
       "                                                Intra-Golgi and retrograde Golgi-to-ER traffic  \\\n",
       "RNA polymerase II transcribes snRNA genes                                                  0.0   \n",
       "Common Pathway of Fibrin Clot Formation                                                    0.0   \n",
       "Extracellular matrix organization                                                          0.0   \n",
       "Ion channel transport                                                                      0.0   \n",
       "Intra-Golgi and retrograde Golgi-to-ER traffic                                             1.0   \n",
       "\n",
       "                                                Heme biosynthesis  \\\n",
       "RNA polymerase II transcribes snRNA genes                     0.0   \n",
       "Common Pathway of Fibrin Clot Formation                       0.0   \n",
       "Extracellular matrix organization                             0.0   \n",
       "Ion channel transport                                         0.0   \n",
       "Intra-Golgi and retrograde Golgi-to-ER traffic                0.0   \n",
       "\n",
       "                                                Metabolism of polyamines  \\\n",
       "RNA polymerase II transcribes snRNA genes                            0.0   \n",
       "Common Pathway of Fibrin Clot Formation                              0.0   \n",
       "Extracellular matrix organization                                    0.0   \n",
       "Ion channel transport                                                0.0   \n",
       "Intra-Golgi and retrograde Golgi-to-ER traffic                       0.0   \n",
       "\n",
       "                                                Early Phase of HIV Life Cycle  \\\n",
       "RNA polymerase II transcribes snRNA genes                                 0.0   \n",
       "Common Pathway of Fibrin Clot Formation                                   0.0   \n",
       "Extracellular matrix organization                                         0.0   \n",
       "Ion channel transport                                                     0.0   \n",
       "Intra-Golgi and retrograde Golgi-to-ER traffic                            0.0   \n",
       "\n",
       "                                                Synthesis of IP3 and IP4 in the cytosol  \\\n",
       "RNA polymerase II transcribes snRNA genes                                      0.000000   \n",
       "Common Pathway of Fibrin Clot Formation                                        0.000000   \n",
       "Extracellular matrix organization                                              0.000000   \n",
       "Ion channel transport                                                          0.004348   \n",
       "Intra-Golgi and retrograde Golgi-to-ER traffic                                 0.000000   \n",
       "\n",
       "                                                SMAC binds to IAPs  \\\n",
       "RNA polymerase II transcribes snRNA genes                 0.000000   \n",
       "Common Pathway of Fibrin Clot Formation                   0.000000   \n",
       "Extracellular matrix organization                         0.003413   \n",
       "Ion channel transport                                     0.000000   \n",
       "Intra-Golgi and retrograde Golgi-to-ER traffic            0.000000   \n",
       "\n",
       "                                                         ...             \\\n",
       "RNA polymerase II transcribes snRNA genes                ...              \n",
       "Common Pathway of Fibrin Clot Formation                  ...              \n",
       "Extracellular matrix organization                        ...              \n",
       "Ion channel transport                                    ...              \n",
       "Intra-Golgi and retrograde Golgi-to-ER traffic           ...              \n",
       "\n",
       "                                                PI and PC transport between ER and Golgi membranes  \\\n",
       "RNA polymerase II transcribes snRNA genes                                                     0.0    \n",
       "Common Pathway of Fibrin Clot Formation                                                       0.0    \n",
       "Extracellular matrix organization                                                             0.0    \n",
       "Ion channel transport                                                                         0.0    \n",
       "Intra-Golgi and retrograde Golgi-to-ER traffic                                                0.0    \n",
       "\n",
       "                                                Displacement of DNA glycosylase by APEX1  \\\n",
       "RNA polymerase II transcribes snRNA genes                                            0.0   \n",
       "Common Pathway of Fibrin Clot Formation                                              0.0   \n",
       "Extracellular matrix organization                                                    0.0   \n",
       "Ion channel transport                                                                0.0   \n",
       "Intra-Golgi and retrograde Golgi-to-ER traffic                                       0.0   \n",
       "\n",
       "                                                Negative regulation of FGFR1 signaling  \\\n",
       "RNA polymerase II transcribes snRNA genes                                     0.000000   \n",
       "Common Pathway of Fibrin Clot Formation                                       0.000000   \n",
       "Extracellular matrix organization                                             0.003115   \n",
       "Ion channel transport                                                         0.017094   \n",
       "Intra-Golgi and retrograde Golgi-to-ER traffic                                0.000000   \n",
       "\n",
       "                                                Depyrimidination  \\\n",
       "RNA polymerase II transcribes snRNA genes                    0.0   \n",
       "Common Pathway of Fibrin Clot Formation                      0.0   \n",
       "Extracellular matrix organization                            0.0   \n",
       "Ion channel transport                                        0.0   \n",
       "Intra-Golgi and retrograde Golgi-to-ER traffic               0.0   \n",
       "\n",
       "                                                Cross-presentation of soluble exogenous antigens (endosomes)  \\\n",
       "RNA polymerase II transcribes snRNA genes                                                     0.0              \n",
       "Common Pathway of Fibrin Clot Formation                                                       0.0              \n",
       "Extracellular matrix organization                                                             0.0              \n",
       "Ion channel transport                                                                         0.0              \n",
       "Intra-Golgi and retrograde Golgi-to-ER traffic                                                0.0              \n",
       "\n",
       "                                                Hh mutants abrogate ligand secretion  \\\n",
       "RNA polymerase II transcribes snRNA genes                                   0.000000   \n",
       "Common Pathway of Fibrin Clot Formation                                     0.000000   \n",
       "Extracellular matrix organization                                           0.000000   \n",
       "Ion channel transport                                                       0.015504   \n",
       "Intra-Golgi and retrograde Golgi-to-ER traffic                              0.000000   \n",
       "\n",
       "                                                Oxidative Stress Induced Senescence  \\\n",
       "RNA polymerase II transcribes snRNA genes                                  0.000000   \n",
       "Common Pathway of Fibrin Clot Formation                                    0.000000   \n",
       "Extracellular matrix organization                                          0.000000   \n",
       "Ion channel transport                                                      0.013514   \n",
       "Intra-Golgi and retrograde Golgi-to-ER traffic                             0.000000   \n",
       "\n",
       "                                                Defective GALNT3 causes familial hyperphosphatemic tumoral calcinosis (HFTC)  \\\n",
       "RNA polymerase II transcribes snRNA genes                                                     0.0                              \n",
       "Common Pathway of Fibrin Clot Formation                                                       0.0                              \n",
       "Extracellular matrix organization                                                             0.0                              \n",
       "Ion channel transport                                                                         0.0                              \n",
       "Intra-Golgi and retrograde Golgi-to-ER traffic                                                0.0                              \n",
       "\n",
       "                                                Asparagine N-linked glycosylation  \\\n",
       "RNA polymerase II transcribes snRNA genes                                0.000000   \n",
       "Common Pathway of Fibrin Clot Formation                                  0.006667   \n",
       "Extracellular matrix organization                                        0.003527   \n",
       "Ion channel transport                                                    0.008316   \n",
       "Intra-Golgi and retrograde Golgi-to-ER traffic                           0.158690   \n",
       "\n",
       "                                                IRS-mediated signalling  \n",
       "RNA polymerase II transcribes snRNA genes                      0.000000  \n",
       "Common Pathway of Fibrin Clot Formation                        0.009804  \n",
       "Extracellular matrix organization                              0.017668  \n",
       "Ion channel transport                                          0.020747  \n",
       "Intra-Golgi and retrograde Golgi-to-ER traffic                 0.000000  \n",
       "\n",
       "[5 rows x 1887 columns]"
      ]
     },
     "execution_count": 49,
     "metadata": {},
     "output_type": "execute_result"
    }
   ],
   "source": [
    "attribute_similarity_matix.head()"
   ]
  },
  {
   "cell_type": "markdown",
   "metadata": {},
   "source": [
    "## Save Attribute Similarity Matrix"
   ]
  },
  {
   "cell_type": "code",
   "execution_count": 50,
   "metadata": {
    "collapsed": true
   },
   "outputs": [],
   "source": [
    "filename = '~/./Documents/Harmonizome/Reactome/Output/reactome_attribute_similarity_matix_%s.tsv.zip'% str(datetime.date.today())[0:7].replace('-', '_')\n",
    "attribute_similarity_matix.to_csv(filename, sep='\\t', compression='gzip')"
   ]
  },
  {
   "cell_type": "markdown",
   "metadata": {},
   "source": [
    "# Create Gene List"
   ]
  },
  {
   "cell_type": "code",
   "execution_count": 51,
   "metadata": {},
   "outputs": [
    {
     "name": "stdout",
     "output_type": "stream",
     "text": [
      "Progeres: 100%  10237 Out of 10237   \r"
     ]
    }
   ],
   "source": [
    "gene_list = uf.createGeneList(binary_matrix)"
   ]
  },
  {
   "cell_type": "code",
   "execution_count": 52,
   "metadata": {},
   "outputs": [
    {
     "data": {
      "text/html": [
       "<div>\n",
       "<table border=\"1\" class=\"dataframe\">\n",
       "  <thead>\n",
       "    <tr style=\"text-align: right;\">\n",
       "      <th></th>\n",
       "      <th>GeneSym</th>\n",
       "      <th>GeneID</th>\n",
       "    </tr>\n",
       "  </thead>\n",
       "  <tbody>\n",
       "    <tr>\n",
       "      <th>0</th>\n",
       "      <td>NOD1</td>\n",
       "      <td>10392</td>\n",
       "    </tr>\n",
       "    <tr>\n",
       "      <th>1</th>\n",
       "      <td>SCN11A</td>\n",
       "      <td>11280</td>\n",
       "    </tr>\n",
       "    <tr>\n",
       "      <th>2</th>\n",
       "      <td>CENPS</td>\n",
       "      <td>378708</td>\n",
       "    </tr>\n",
       "    <tr>\n",
       "      <th>3</th>\n",
       "      <td>CD320</td>\n",
       "      <td>51293</td>\n",
       "    </tr>\n",
       "    <tr>\n",
       "      <th>4</th>\n",
       "      <td>ART3</td>\n",
       "      <td>419</td>\n",
       "    </tr>\n",
       "  </tbody>\n",
       "</table>\n",
       "</div>"
      ],
      "text/plain": [
       "  GeneSym  GeneID\n",
       "0    NOD1   10392\n",
       "1  SCN11A   11280\n",
       "2   CENPS  378708\n",
       "3   CD320   51293\n",
       "4    ART3     419"
      ]
     },
     "execution_count": 52,
     "metadata": {},
     "output_type": "execute_result"
    }
   ],
   "source": [
    "gene_list.head()"
   ]
  },
  {
   "cell_type": "code",
   "execution_count": 53,
   "metadata": {},
   "outputs": [
    {
     "data": {
      "text/plain": [
       "(10237, 2)"
      ]
     },
     "execution_count": 53,
     "metadata": {},
     "output_type": "execute_result"
    }
   ],
   "source": [
    "gene_list.shape"
   ]
  },
  {
   "cell_type": "markdown",
   "metadata": {},
   "source": [
    "## Save Gene List"
   ]
  },
  {
   "cell_type": "code",
   "execution_count": 54,
   "metadata": {
    "collapsed": true
   },
   "outputs": [],
   "source": [
    "filename = '~/./Documents/Harmonizome/Reactome/Output/reactome_gene_list_%s.tsv.zip'% str(datetime.date.today())[0:7].replace('-', '_')\n",
    "gene_list.to_csv(filename, sep='\\t', index=False, compression='gzip')"
   ]
  },
  {
   "cell_type": "markdown",
   "metadata": {},
   "source": [
    "# Create Attribute List "
   ]
  },
  {
   "cell_type": "code",
   "execution_count": 55,
   "metadata": {
    "collapsed": true
   },
   "outputs": [],
   "source": [
    "attribute_list = uf.createAttributeList(binary_matrix)"
   ]
  },
  {
   "cell_type": "code",
   "execution_count": 56,
   "metadata": {},
   "outputs": [
    {
     "data": {
      "text/html": [
       "<div>\n",
       "<table border=\"1\" class=\"dataframe\">\n",
       "  <thead>\n",
       "    <tr style=\"text-align: right;\">\n",
       "      <th></th>\n",
       "      <th>Attributes</th>\n",
       "    </tr>\n",
       "  </thead>\n",
       "  <tbody>\n",
       "    <tr>\n",
       "      <th>0</th>\n",
       "      <td>RNA polymerase II transcribes snRNA genes</td>\n",
       "    </tr>\n",
       "    <tr>\n",
       "      <th>1</th>\n",
       "      <td>Common Pathway of Fibrin Clot Formation</td>\n",
       "    </tr>\n",
       "    <tr>\n",
       "      <th>2</th>\n",
       "      <td>Extracellular matrix organization</td>\n",
       "    </tr>\n",
       "    <tr>\n",
       "      <th>3</th>\n",
       "      <td>Ion channel transport</td>\n",
       "    </tr>\n",
       "    <tr>\n",
       "      <th>4</th>\n",
       "      <td>Intra-Golgi and retrograde Golgi-to-ER traffic</td>\n",
       "    </tr>\n",
       "  </tbody>\n",
       "</table>\n",
       "</div>"
      ],
      "text/plain": [
       "                                       Attributes\n",
       "0       RNA polymerase II transcribes snRNA genes\n",
       "1         Common Pathway of Fibrin Clot Formation\n",
       "2               Extracellular matrix organization\n",
       "3                           Ion channel transport\n",
       "4  Intra-Golgi and retrograde Golgi-to-ER traffic"
      ]
     },
     "execution_count": 56,
     "metadata": {},
     "output_type": "execute_result"
    }
   ],
   "source": [
    "attribute_list.head()"
   ]
  },
  {
   "cell_type": "code",
   "execution_count": 57,
   "metadata": {},
   "outputs": [
    {
     "data": {
      "text/plain": [
       "(1887, 1)"
      ]
     },
     "execution_count": 57,
     "metadata": {},
     "output_type": "execute_result"
    }
   ],
   "source": [
    "attribute_list.shape"
   ]
  },
  {
   "cell_type": "markdown",
   "metadata": {},
   "source": [
    "## Save Attribute List"
   ]
  },
  {
   "cell_type": "code",
   "execution_count": 58,
   "metadata": {
    "collapsed": true
   },
   "outputs": [],
   "source": [
    "filename = '~/./Documents/Harmonizome/Reactome/Output/reactome_attribute_list_%s.tsv.zip'% str(datetime.date.today())[0:7].replace('-', '_')\n",
    "attribute_list.to_csv(filename, sep='\\t', index=False, compression='gzip')"
   ]
  },
  {
   "cell_type": "markdown",
   "metadata": {},
   "source": [
    "# Create Gene-Attribute Edge List"
   ]
  },
  {
   "cell_type": "code",
   "execution_count": 59,
   "metadata": {
    "collapsed": true
   },
   "outputs": [],
   "source": [
    "path = '/Users/moshesilverstein/Documents/Harmonizome/Reactome/Output/'"
   ]
  },
  {
   "cell_type": "code",
   "execution_count": 60,
   "metadata": {
    "collapsed": true
   },
   "outputs": [],
   "source": [
    "name = 'reactome_gene_attribute_edge_list'"
   ]
  },
  {
   "cell_type": "code",
   "execution_count": 61,
   "metadata": {},
   "outputs": [
    {
     "name": "stdout",
     "output_type": "stream",
     "text": [
      "Progeres: 100%  1887 Out of 1887   \n",
      "\n",
      " The number of statisticaly relevent gene-attribute associations is: 105556\n"
     ]
    }
   ],
   "source": [
    "uf.createGeneAttributeEdgeList(binary_matrix, gene_list, path, name)"
   ]
  }
 ],
 "metadata": {
  "kernelspec": {
   "display_name": "Python [default]",
   "language": "python",
   "name": "python3"
  },
  "language_info": {
   "codemirror_mode": {
    "name": "ipython",
    "version": 3
   },
   "file_extension": ".py",
   "mimetype": "text/x-python",
   "name": "python",
   "nbconvert_exporter": "python",
   "pygments_lexer": "ipython3",
   "version": "3.5.2"
  }
 },
 "nbformat": 4,
 "nbformat_minor": 2
}
