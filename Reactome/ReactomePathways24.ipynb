{
 "cells": [
  {
   "cell_type": "markdown",
   "metadata": {},
   "source": [
    "# Reactome Pathways 2024\n",
    "This notebook contains the script used to process the Reactome Pathways 2024 library for Harmonizome. The Reactome Pathways GMT was downloaded from the Reactome [download page](https://reactome.org/download-data) on 12/2/24.\n",
    "\n",
    "The GMT was cleaned to ensure all gene symbols matched up-to-date and approved gene symbols from NCBI Gene.\n",
    "\n",
    "After this process, the dataset contained 125,317 associations between 2709 pathways and 11,102 proteins."
   ]
  },
  {
   "cell_type": "code",
   "execution_count": null,
   "metadata": {},
   "outputs": [],
   "source": [
    "import pandas as pd\n",
    "import datetime\n",
    "import math\n",
    "import matplotlib.pyplot as plt\n",
    "import numpy as np\n",
    "import os\n",
    "import scipy.spatial.distance as dist\n",
    "import seaborn as sns\n",
    "import sys\n",
    "import json\n",
    "import scanpy as sc\n",
    "from tqdm import tqdm\n",
    "\n",
    "# UMAP\n",
    "from sklearn.feature_extraction.text import TfidfVectorizer\n",
    "import anndata\n",
    "from collections import OrderedDict\n",
    "\n",
    "# Bokeh\n",
    "from bokeh.io import output_notebook\n",
    "from bokeh.plotting import figure, show, save, output_file\n",
    "from bokeh.models import HoverTool, ColumnDataSource\n",
    "from bokeh.palettes import Category20\n",
    "output_notebook()\n",
    "\n",
    "from IPython.display import display, HTML, Markdown\n",
    "sys.setrecursionlimit(100000)"
   ]
  },
  {
   "cell_type": "markdown",
   "metadata": {},
   "source": [
    "## Load and Pre-Process Data"
   ]
  },
  {
   "cell_type": "code",
   "execution_count": null,
   "metadata": {},
   "outputs": [],
   "source": [
    "def load_gmt(file):\n",
    "    with open(file, 'r') as f:\n",
    "        gmt = {}\n",
    "        ids = {}\n",
    "        for line in f:\n",
    "            pathway, pathwayid, *geneset = line.strip().split('\\t')\n",
    "            gmt[pathway] = set(geneset)\n",
    "            ids[pathway] = pathwayid\n",
    "        return gmt, ids"
   ]
  },
  {
   "cell_type": "code",
   "execution_count": null,
   "metadata": {},
   "outputs": [],
   "source": [
    "pathways, pathwayids = load_gmt('ReactomePathways.gmt')"
   ]
  },
  {
   "cell_type": "code",
   "execution_count": null,
   "metadata": {},
   "outputs": [],
   "source": [
    "reactome = pd.DataFrame([pathways]).T.explode(0).astype(str).reset_index()\n",
    "reactome.columns = ['Pathway', 'Gene']\n",
    "reactome"
   ]
  },
  {
   "cell_type": "code",
   "execution_count": null,
   "metadata": {},
   "outputs": [],
   "source": [
    "reactome['Pathway'].nunique(), reactome['Gene'].nunique()"
   ]
  },
  {
   "cell_type": "markdown",
   "metadata": {},
   "source": [
    "## Map Genes to Approved and Up-to-Date Gene Symbols"
   ]
  },
  {
   "cell_type": "code",
   "execution_count": null,
   "metadata": {},
   "outputs": [],
   "source": [
    "geneinfo = pd.read_csv('../../mapping/source_files/human_gene_info', sep='\\t')\n",
    "geneinfo = geneinfo[geneinfo['#tax_id']==9606][geneinfo['type_of_gene']=='protein-coding']\n",
    "geneinfo['Synonyms'] = geneinfo['Synonyms'].apply(str.split, sep='|')\n",
    "geneinfo = geneinfo.explode('Synonyms')[['GeneID', 'Symbol', 'Synonyms', 'description']]\n",
    "geneinfo"
   ]
  },
  {
   "cell_type": "code",
   "execution_count": null,
   "metadata": {},
   "outputs": [],
   "source": [
    "symbols = set(geneinfo['Symbol'].tolist())\n",
    "genedict = geneinfo.set_index('Synonyms')['Symbol'].to_dict()\n",
    "genedict.pop('-')\n",
    "\n",
    "for gene in symbols:\n",
    "    genedict[gene] = gene"
   ]
  },
  {
   "cell_type": "code",
   "execution_count": null,
   "metadata": {},
   "outputs": [],
   "source": [
    "reactome['Gene'] = reactome['Gene'].map(genedict)\n",
    "reactome = reactome.dropna().drop_duplicates()\n",
    "print(reactome['Gene'].nunique(), 'genes,', reactome['Pathway'].nunique(), 'pathways')\n",
    "reactome"
   ]
  },
  {
   "cell_type": "markdown",
   "metadata": {},
   "source": [
    "## Prepare Data for SQL Ingestion"
   ]
  },
  {
   "cell_type": "markdown",
   "metadata": {},
   "source": [
    "### Dataset"
   ]
  },
  {
   "cell_type": "code",
   "execution_count": null,
   "metadata": {},
   "outputs": [],
   "source": [
    "#(id, name, name_without_resource, description, association, gene_set_description, gene_sets_description, attribute_set_description, positive_association, negative_association, is_signed, is_continuous_valued, last_updated, directory, num_page_views, resource_fk, measurement_fk, dataset_group_fk, attribute_type_fk, attribute_group_fk, evidence_type, evidence_group, measurement_bias, attribute_type_plural)\n",
    "(163, 'Reactome Pathways 2024', 'Pathways 2024', 'Sets of proteins participating in pathways from Reactome, updated for 2024', 'protein-pathway associations from curated pathways', 'proteins participating in the {0} pathway from the Reactome Pathways 2024 dataset.', 'sets of proteins participating in pathways from the Reactome Pathways 2024 dataset.', 'pathways involving {0} protein from the Reactome Pathways 2024 dataset.', 0, 0, '2024-12-2', 'reactome24', 0, 65, 4, 6, 22, 4, 'association by literature curation', 'curated literature', 'low throughput, hypothesis driven', 'pathways')"
   ]
  },
  {
   "cell_type": "markdown",
   "metadata": {},
   "source": [
    "### Publication"
   ]
  },
  {
   "cell_type": "code",
   "execution_count": null,
   "metadata": {},
   "outputs": [],
   "source": [
    "#(id, long_citation, short_citation, url, pmid, pubmed_url, first_author_last_name, first_author_initials, journal_abbreviation, year, title, volume, pages)\n",
    "(159, 'Milacic M et al. (2024) The Reactome Pathway Knowledgebase 2024. Nucleic Acids Res. 52:D672-8', 'Milacic, Nucleic Acids Res, 2024', 'dx.doi.org/10.1093/nar/gkad1025', 37941124, 'https://ncbi.nlm.nih.gov/pubmed/37941124', 'Milacic', 'M', 'Nucleic Acids Res', 2024, 'The Reactome Pathway Knowledgebase 2024', 52, 'D672-8')\n",
    "\n",
    "(246, 163, 159)"
   ]
  },
  {
   "cell_type": "markdown",
   "metadata": {},
   "source": [
    "### Attributes"
   ]
  },
  {
   "cell_type": "code",
   "execution_count": null,
   "metadata": {},
   "outputs": [],
   "source": [
    "attributes = pd.read_csv('../../tables/attribute.txt', sep='\\t')\n",
    "attributes['name_from_naming_authority'] = attributes['name_from_naming_authority'].astype(str).apply(str.lower)\n",
    "attributeset = set(attributes['name_from_naming_authority'])\n",
    "attributefks = attributes.set_index('name_from_naming_authority')['id'].to_dict()\n",
    "pathwayurl = 'https://reactome.org/PathwayBrowser/#/'\n",
    "\n",
    "index = 437616\n",
    "\n",
    "for pathway in reactome['Pathway'].unique():\n",
    "    if pathway.lower() not in attributeset:\n",
    "        pathwayid = pathwayids[pathway]\n",
    "        print((index, pathway, pathwayid, pathwayurl+pathwayid, 87), end=',\\n')\n",
    "        attributefks[pathway.lower()] = index\n",
    "        index += 1"
   ]
  },
  {
   "cell_type": "markdown",
   "metadata": {},
   "source": [
    "### Gene Sets"
   ]
  },
  {
   "cell_type": "code",
   "execution_count": null,
   "metadata": {},
   "outputs": [],
   "source": [
    "index = 136400000\n",
    "genesetfks = {}\n",
    "\n",
    "for pathway in reactome['Pathway'].unique():\n",
    "        pathwayid = pathwayids[pathway]\n",
    "        print((index, pathway, pathwayid, pathwayurl+pathwayid, 163, 22, attributefks[pathway.lower()]), end=',\\n')\n",
    "        genesetfks[pathway] = index\n",
    "        index += 1"
   ]
  },
  {
   "cell_type": "markdown",
   "metadata": {},
   "source": [
    "### Genes"
   ]
  },
  {
   "cell_type": "code",
   "execution_count": null,
   "metadata": {},
   "outputs": [],
   "source": [
    "lookup = geneinfo.drop_duplicates('Symbol').set_index('Symbol')\n",
    "genes = pd.read_csv('../../tables/gene.csv')\n",
    "genefks = genes.set_index('symbol')['id'].to_dict()\n",
    "geneslist = set(genes['symbol'])\n",
    "geneurl = 'https://ncbi.nlm.nih.gov/gene/'\n",
    "index = 58466\n",
    "\n",
    "for gene in reactome['Gene'].unique():\n",
    "    if gene.upper() not in geneslist:\n",
    "        geneid = lookup.loc[gene, 'GeneID']\n",
    "        print((index, gene, geneid, geneurl+str(geneid), lookup.loc[gene, 'description']), end=',\\n')\n",
    "        genefks[gene.upper()] = index\n",
    "        index += 1"
   ]
  },
  {
   "cell_type": "markdown",
   "metadata": {},
   "source": [
    "### Association"
   ]
  },
  {
   "cell_type": "code",
   "execution_count": null,
   "metadata": {},
   "outputs": [],
   "source": [
    "associations = reactome.copy()\n",
    "associations['Pathway'] = associations['Pathway'].map(genesetfks)\n",
    "associations['Gene'] = associations['Gene'].apply(str.upper).map(genefks)#.astype(int)\n",
    "associations = associations[['Gene', 'Pathway']].drop_duplicates().reset_index(drop=True)\n",
    "associations.columns = ['gene_fk', 'gene_set_fk']\n",
    "associations['threshold_value'] = 1\n",
    "associations.index += 50000000\n",
    "associations.to_csv('../../harmonizome-update/reactome24.csv')\n",
    "\n",
    "associations"
   ]
  },
  {
   "cell_type": "markdown",
   "metadata": {},
   "source": [
    "## Create Downloads"
   ]
  },
  {
   "cell_type": "code",
   "execution_count": null,
   "metadata": {},
   "outputs": [],
   "source": [
    "output_path = 'downloads/'"
   ]
  },
  {
   "cell_type": "code",
   "execution_count": null,
   "metadata": {},
   "outputs": [],
   "source": [
    "geneiddict = lookup['GeneID'].to_dict()\n",
    "reactome = reactome.drop_duplicates()\n",
    "reactome['Gene ID'] = reactome['Gene'].apply(lambda x: geneiddict[x])\n",
    "reactome['Pathway ID'] = reactome['Pathway'].map(pathwayids)\n",
    "reactome['Threshold'] = 1\n",
    "reactome = reactome[['Gene', 'Gene ID', 'Pathway', 'Pathway ID', 'Threshold']].reset_index(drop=True)\n",
    "reactome"
   ]
  },
  {
   "cell_type": "markdown",
   "metadata": {},
   "source": [
    "### Gene Attribute Binary Matrix"
   ]
  },
  {
   "cell_type": "code",
   "execution_count": null,
   "metadata": {},
   "outputs": [],
   "source": [
    "binarymatrix = pd.crosstab(reactome['Gene'], reactome['Pathway'], reactome['Threshold'], aggfunc=max).replace(np.nan, 0).astype(int)\n",
    "binarymatrixT = binarymatrix.T\n",
    "binarymatrix.to_csv(output_path+'gene_attribute_matrix.txt.gz', sep='\\t', compression='gzip')\n",
    "binarymatrix"
   ]
  },
  {
   "cell_type": "markdown",
   "metadata": {},
   "source": [
    "### Gene Attribute Edge List"
   ]
  },
  {
   "cell_type": "code",
   "execution_count": null,
   "metadata": {},
   "outputs": [],
   "source": [
    "edgelist = reactome.copy()\n",
    "edgelist.to_csv(output_path+'gene_attribute_edges.txt.gz', sep='\\t', compression='gzip')\n",
    "edgelist"
   ]
  },
  {
   "cell_type": "markdown",
   "metadata": {},
   "source": [
    "### Gene List"
   ]
  },
  {
   "cell_type": "code",
   "execution_count": null,
   "metadata": {},
   "outputs": [],
   "source": [
    "geneslist = edgelist.get(['Gene', 'Gene ID']).drop_duplicates().reset_index(drop=True)\n",
    "geneslist.to_csv(output_path+'gene_list_terms.txt.gz', sep='\\t', compression='gzip')\n",
    "geneslist"
   ]
  },
  {
   "cell_type": "markdown",
   "metadata": {},
   "source": [
    "### Attribute List"
   ]
  },
  {
   "cell_type": "code",
   "execution_count": null,
   "metadata": {},
   "outputs": [],
   "source": [
    "attributeslist = edgelist.get(['Pathway', 'Pathway ID']).drop_duplicates().reset_index(drop=True)\n",
    "attributeslist.to_csv(output_path+'attribute_list_entries.txt.gz', sep='\\t', compression='gzip')\n",
    "attributeslist"
   ]
  },
  {
   "cell_type": "markdown",
   "metadata": {},
   "source": [
    "### Gene Set Library"
   ]
  },
  {
   "cell_type": "code",
   "execution_count": null,
   "metadata": {},
   "outputs": [],
   "source": [
    "with open(output_path+'gene_set_library_crisp.gmt', 'w') as f:\n",
    "    arr = binarymatrix.reset_index(drop=True).to_numpy(dtype=np.int_)\n",
    "    attributes = binarymatrix.columns\n",
    "\n",
    "    w, h = arr.shape\n",
    "    for i in tqdm(range(h)):\n",
    "        if len([*binarymatrix.index[arr[:, i] == 1]])>= 5:\n",
    "            print(attributes[i], *binarymatrix.index[arr[:, i] == 1], sep='\\t', end='\\n', file=f)"
   ]
  },
  {
   "cell_type": "markdown",
   "metadata": {},
   "source": [
    "### Attribute Set Library"
   ]
  },
  {
   "cell_type": "code",
   "execution_count": null,
   "metadata": {},
   "outputs": [],
   "source": [
    "with open(output_path+'attribute_set_library_crisp.gmt', 'w') as f:\n",
    "    arr = binarymatrixT.reset_index(drop=True).to_numpy(dtype=np.int_)\n",
    "    genes = binarymatrixT.columns\n",
    "\n",
    "    w, h = arr.shape\n",
    "    for i in tqdm(range(h)):\n",
    "        if len([*binarymatrixT.index[arr[:, i] == 1]])>= 5:\n",
    "            print(genes[i], *binarymatrixT.index[arr[:, i] == 1], sep='\\t', end='\\n', file=f)"
   ]
  },
  {
   "cell_type": "markdown",
   "metadata": {},
   "source": [
    "### Gene Similarity Matrix"
   ]
  },
  {
   "cell_type": "code",
   "execution_count": null,
   "metadata": {},
   "outputs": [],
   "source": [
    "gene_similarity_matrix = dist.pdist(binarymatrix.to_numpy(dtype=np.int_), 'cosine')\n",
    "gene_similarity_matrix = dist.squareform(gene_similarity_matrix)\n",
    "gene_similarity_matrix = 1 - gene_similarity_matrix\n",
    "\n",
    "gene_similarity_matrix = pd.DataFrame(data=gene_similarity_matrix, index=binarymatrix.index, columns=binarymatrix.index)\n",
    "gene_similarity_matrix.index.name = None\n",
    "gene_similarity_matrix.columns.name = None\n",
    "gene_similarity_matrix.to_csv(output_path+'gene_similarity_matrix_cosine.txt.gz', sep='\\t', compression='gzip')\n",
    "gene_similarity_matrix"
   ]
  },
  {
   "cell_type": "markdown",
   "metadata": {},
   "source": [
    "### Attribute Similarity Matrix"
   ]
  },
  {
   "cell_type": "code",
   "execution_count": null,
   "metadata": {},
   "outputs": [],
   "source": [
    "attribute_similarity_matrix = dist.pdist(binarymatrixT.to_numpy(dtype=np.int_), 'cosine')\n",
    "attribute_similarity_matrix = dist.squareform(attribute_similarity_matrix)\n",
    "attribute_similarity_matrix = 1 - attribute_similarity_matrix\n",
    "\n",
    "attribute_similarity_matrix = pd.DataFrame(data=attribute_similarity_matrix, index=binarymatrixT.index, columns=binarymatrixT.index)\n",
    "attribute_similarity_matrix.index.name = None\n",
    "attribute_similarity_matrix.columns.name = None\n",
    "attribute_similarity_matrix.to_csv(output_path+'attribute_similarity_matrix_cosine.txt.gz', sep='\\t', compression='gzip')\n",
    "attribute_similarity_matrix"
   ]
  },
  {
   "cell_type": "markdown",
   "metadata": {},
   "source": [
    "### Knowledge Graph Serialization"
   ]
  },
  {
   "cell_type": "code",
   "execution_count": null,
   "metadata": {},
   "outputs": [],
   "source": [
    "nodes = {}\n",
    "edges = []\n",
    "\n",
    "for gene in geneslist.index:\n",
    "    gene = geneslist.loc[gene]\n",
    "    nodes[int(gene['Gene ID'])] = {\n",
    "        \"type\":\"gene\",\n",
    "        \"properties\": {\n",
    "            \"id\":int(gene['Gene ID']),\n",
    "            \"label\":gene['Gene']\n",
    "        }}\n",
    "\n",
    "for pathway in attributeslist.index:\n",
    "    pathway = attributeslist.loc[pathway]\n",
    "    nodes[pathway['Pathway ID']] = {\n",
    "        \"type\":\"pathway\",\n",
    "        \"properties\": {\n",
    "            \"id\":pathway['Pathway ID'],\n",
    "            \"label\":pathway['Pathway']\n",
    "        }}\n",
    "\n",
    "for edge in edgelist.index:\n",
    "    edge = edgelist.loc[edge]\n",
    "    edges.append({\n",
    "        \"source\": int(edge['Gene ID']),\n",
    "        \"relation\": \"participates in\",\n",
    "        \"target\": edge['Pathway ID'],\n",
    "        \"properties\":{\n",
    "            \"id\":str(edge['Gene ID'])+\":\"+edge['Pathway ID'],\n",
    "            \"source_id\":int(edge['Gene ID']),\n",
    "            \"source_label\":edge['Gene'],\n",
    "            \"target_label\":edge['Pathway'],\n",
    "            \"target_id\":edge['Pathway ID'],\n",
    "            \"directed\":True,\n",
    "            \"threshold\":1\n",
    "        }})"
   ]
  },
  {
   "cell_type": "markdown",
   "metadata": {},
   "source": [
    "#### RDF"
   ]
  },
  {
   "cell_type": "code",
   "execution_count": null,
   "metadata": {},
   "outputs": [],
   "source": [
    "with open(output_path+'kg_serializations/reactome24.rdf', 'w') as f:\n",
    "    print('@prefix gene: ncbi.nlm.nih.gov/gene/', file=f)\n",
    "    print('@prefix RO: purl.obolibrary.org/RO_', file=f)\n",
    "    print('@prefix Reactome: https://reactome.org/PathwayBrowser/#/', file=f)\n",
    "    \n",
    "    print('', file=f)\n",
    "    for edge in edges:\n",
    "        print('gene:'+str(edge['properties']['source_id']), 'RO:0000056', 'Reactome:'+edge['properties']['target_id'], end=' .\\n', file=f)"
   ]
  },
  {
   "cell_type": "markdown",
   "metadata": {},
   "source": [
    "#### JSON"
   ]
  },
  {
   "cell_type": "code",
   "execution_count": null,
   "metadata": {},
   "outputs": [],
   "source": [
    "with open(output_path+'kg_serializations/reactome24.json', 'w') as f:\n",
    "    serial = json.dump(\n",
    "        {\n",
    "            \"Version\":\"1\", \n",
    "            \"nodes\": nodes,\n",
    "            \"edges\": edges\n",
    "        }, indent=4, fp=f)"
   ]
  },
  {
   "cell_type": "markdown",
   "metadata": {},
   "source": [
    "#### TSV"
   ]
  },
  {
   "cell_type": "code",
   "execution_count": null,
   "metadata": {},
   "outputs": [],
   "source": [
    "nodeframe = pd.DataFrame(nodes).T\n",
    "nodeframe['id'] = nodeframe['properties'].apply(lambda x: x['id'])\n",
    "nodeframe['label'] = nodeframe['properties'].apply(lambda x: x['label'])\n",
    "nodeframe['namespace'] = nodeframe['type'].apply(lambda x: {'gene':'NCBI Entrez', 'pathway':'Reactome'}[x])\n",
    "nodeframe = nodeframe.get(['namespace', 'id', 'label']).reset_index(drop=True)\n",
    "nodeframe.to_csv(output_path+'kg_serializations/reactome24_tsv/nodes.tsv', sep='\\t')\n",
    "nodeframe"
   ]
  },
  {
   "cell_type": "code",
   "execution_count": null,
   "metadata": {},
   "outputs": [],
   "source": [
    "edgeframe = pd.DataFrame(edges)\n",
    "edgeframe['threshold'] = edgeframe['properties'].apply(lambda x: x['threshold'])\n",
    "edgeframe = edgeframe.get(['source', 'relation', 'target', 'threshold'])\n",
    "edgeframe.to_csv(output_path+'kg_serializations/reactome24_tsv/edges.tsv', sep='\\t')\n",
    "edgeframe"
   ]
  },
  {
   "cell_type": "markdown",
   "metadata": {},
   "source": [
    "## Create Visualizations"
   ]
  },
  {
   "cell_type": "code",
   "execution_count": null,
   "metadata": {},
   "outputs": [],
   "source": [
    "sns.clustermap(binarymatrix, cmap='seismic', center=0, xticklabels=False, yticklabels=False)"
   ]
  },
  {
   "cell_type": "markdown",
   "metadata": {},
   "source": [
    "### Gene Similarity Clustered Heatmap"
   ]
  },
  {
   "cell_type": "code",
   "execution_count": null,
   "metadata": {},
   "outputs": [],
   "source": [
    "sns.clustermap(gene_similarity_matrix, cmap='seismic', center=0)"
   ]
  },
  {
   "cell_type": "markdown",
   "metadata": {},
   "source": [
    "### Attribute Similarity Clustered Heatmap"
   ]
  },
  {
   "cell_type": "code",
   "execution_count": null,
   "metadata": {},
   "outputs": [],
   "source": [
    "sns.clustermap(attribute_similarity_matrix, cmap='seismic', center=0, xticklabels=False, yticklabels=False)"
   ]
  },
  {
   "cell_type": "markdown",
   "metadata": {},
   "source": [
    "### UMAP"
   ]
  },
  {
   "cell_type": "code",
   "execution_count": null,
   "metadata": {},
   "outputs": [],
   "source": [
    "def load_gmt(file):\n",
    "    gmt = OrderedDict()\n",
    "    for line in file:\n",
    "        term, blank, *geneset = line.strip().split('\\t')\n",
    "        gmt[term] = ' '.join(set(geneset))\n",
    "    return gmt\n",
    "libdict = load_gmt(open('downloads/gene_set_library_crisp.gmt', 'r'))\n",
    "scatterdir = 'images/'"
   ]
  },
  {
   "cell_type": "code",
   "execution_count": null,
   "metadata": {},
   "outputs": [],
   "source": [
    "def process_scatterplot(libdict, nneighbors=30, mindist=0.1, spread=1.0, maxdf=1.0, mindf=1):\n",
    "    print(\"\\tTF-IDF vectorizing gene set data...\")\n",
    "    vec = TfidfVectorizer(max_df=maxdf, min_df=mindf)\n",
    "    X = vec.fit_transform(libdict.values())\n",
    "    print(X.shape)\n",
    "    adata = anndata.AnnData(X)\n",
    "    adata.obs.index = libdict.keys()\n",
    "\n",
    "    print(\"\\tPerforming Leiden clustering...\")\n",
    "    ### the n_neighbors and min_dist parameters can be altered\n",
    "    sc.pp.neighbors(adata, n_neighbors=nneighbors)\n",
    "    sc.tl.leiden(adata, resolution=1.0)\n",
    "    sc.tl.umap(adata, min_dist=mindist, spread=spread, random_state=42)\n",
    "\n",
    "    new_order = adata.obs.sort_values(by='leiden').index.tolist()\n",
    "    adata = adata[new_order, :]\n",
    "    adata.obs['leiden'] = 'Cluster ' + adata.obs['leiden'].astype('object')\n",
    "\n",
    "    df = pd.DataFrame(adata.obsm['X_umap'])\n",
    "    df.columns = ['x', 'y']\n",
    "\n",
    "    df['cluster'] = adata.obs['leiden'].values\n",
    "    df['term'] = adata.obs.index\n",
    "    df['genes'] = [libdict[l] for l in df['term']]\n",
    "\n",
    "    return df"
   ]
  },
  {
   "cell_type": "code",
   "execution_count": null,
   "metadata": {},
   "outputs": [],
   "source": [
    "def get_scatter_colors(df):\n",
    "    clusters = pd.unique(df['cluster']).tolist()\n",
    "    colors = list(Category20[20])[::2] + list(Category20[20])[1::2]\n",
    "    color_mapper = {clusters[i]: colors[i % 20] for i in range(len(clusters))}\n",
    "    return color_mapper\n",
    "\n",
    "def get_scatterplot(scatterdf):\n",
    "    df = scatterdf.copy()\n",
    "    color_mapper = get_scatter_colors(df)\n",
    "    df['color'] = df['cluster'].apply(lambda x: color_mapper[x])\n",
    "\n",
    "    hover_emb = HoverTool(name=\"df\", tooltips=\"\"\"\n",
    "        <div style=\"margin: 10\">\n",
    "            <div style=\"margin: 0 auto; width:300px;\">\n",
    "                <span style=\"font-size: 12px; font-weight: bold;\">Gene Set:</span>\n",
    "                <span style=\"font-size: 12px\">@gene_set</span>\n",
    "            <div style=\"margin: 0 auto; width:300px;\">\n",
    "                <span style=\"font-size: 12px; font-weight: bold;\">Coordinates:</span>\n",
    "                <span style=\"font-size: 12px\">(@x,@y)</span>\n",
    "            <div style=\"margin: 0 auto; width:300px;\">\n",
    "                <span style=\"font-size: 12px; font-weight: bold;\">Cluster:</span>\n",
    "                <span style=\"font-size: 12px\">@cluster</span>\n",
    "            </div>\n",
    "        </div>\n",
    "    \"\"\")\n",
    "    tools_emb = [hover_emb, 'pan', 'wheel_zoom', 'reset', 'save']\n",
    "\n",
    "    plot_emb = figure(\n",
    "        width=1000, \n",
    "        height=700, \n",
    "        tools=tools_emb\n",
    "    )\n",
    "\n",
    "    source = ColumnDataSource(\n",
    "        data=dict(\n",
    "            x = df['x'],\n",
    "            y = df['y'],\n",
    "            gene_set = df['term'],\n",
    "            cluster = df['cluster'],\n",
    "            colors = df['color'],\n",
    "            label = df['cluster']\n",
    "        )\n",
    "    )\n",
    "\n",
    "    # hide axis labels and grid lines\n",
    "    plot_emb.xaxis.major_tick_line_color = None\n",
    "    plot_emb.xaxis.minor_tick_line_color = None\n",
    "    plot_emb.yaxis.major_tick_line_color = None\n",
    "    plot_emb.yaxis.minor_tick_line_color = None\n",
    "    plot_emb.xaxis.major_label_text_font_size = '0pt'\n",
    "    plot_emb.yaxis.major_label_text_font_size = '0pt' \n",
    "\n",
    "    plot_emb.output_backend = \"svg\"    \n",
    "    \n",
    "    plot_emb.title = 'Gene Sets in the Reactome Pathways 2024 Library'\n",
    "    plot_emb.xaxis.axis_label = \"UMAP_1\"\n",
    "    plot_emb.yaxis.axis_label = \"UMAP_2\"\n",
    "    plot_emb.xaxis.axis_label_text_font_style = 'normal'\n",
    "    plot_emb.xaxis.axis_label_text_font_size = '18px'\n",
    "    plot_emb.yaxis.axis_label_text_font_size = '18px'\n",
    "    plot_emb.yaxis.axis_label_text_font_style = 'normal'\n",
    "    plot_emb.title.align = 'center'\n",
    "    plot_emb.title.text_font_size = '18px'\n",
    "    \n",
    "    s = plot_emb.scatter(\n",
    "        'x', \n",
    "        'y', \n",
    "        size = 4, \n",
    "        source = source, \n",
    "        color = 'colors'\n",
    "    )\n",
    "    \n",
    "    return plot_emb"
   ]
  },
  {
   "cell_type": "code",
   "execution_count": null,
   "metadata": {},
   "outputs": [],
   "source": [
    "## defaults: nneighbors=30, mindist=0.1, spread=1.0, maxdf=1.0, mindf=1\n",
    "scatter_df = process_scatterplot(libdict, \n",
    "     #nneighbors=10,\n",
    "     #mindist=0.1,\n",
    "     spread=1.5,\n",
    "     #maxdf=0.9,\n",
    "     #mindf=2\n",
    ")\n",
    "\n",
    "# Display Scatter Plot\n",
    "plot = get_scatterplot(scatter_df)\n",
    "show(plot)"
   ]
  },
  {
   "cell_type": "code",
   "execution_count": null,
   "metadata": {},
   "outputs": [],
   "source": [
    "output_file(filename=f\"{scatterdir}/reactome24.html\", title = 'Gene Sets in the Reactome Pathways 2024 Library')\n",
    "save(plot)"
   ]
  }
 ],
 "metadata": {
  "kernelspec": {
   "display_name": "Python 3.10.13 ('harmonizomeETL')",
   "language": "python",
   "name": "python3"
  },
  "language_info": {
   "codemirror_mode": {
    "name": "ipython",
    "version": 3
   },
   "file_extension": ".py",
   "mimetype": "text/x-python",
   "name": "python",
   "nbconvert_exporter": "python",
   "pygments_lexer": "ipython3",
   "version": "3.10.13"
  },
  "orig_nbformat": 4,
  "vscode": {
   "interpreter": {
    "hash": "3ad6724d56c4b72bd8e5b8da3c2e0dcf6d86fdd164f3c98d6d6a78c076afabab"
   }
  }
 },
 "nbformat": 4,
 "nbformat_minor": 2
}
