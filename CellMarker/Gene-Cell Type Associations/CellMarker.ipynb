{
 "cells": [
  {
   "cell_type": "markdown",
   "metadata": {},
   "source": [
    "# CellMarker 2.0 Processing Notebook\n",
    "This notebook contains the script used to process the CellMarker 2.0 library for Harmonizome and Enrichr. A cell type-gene edgelist from [CellMarker](http://bio-bigdata.hrbmu.edu.cn/CellMarker/CellMarker_download.html) (All cell markers) was processed to ensure all cell types were properly formatted and all genes use approved and up-to-date gene symbols."
   ]
  },
  {
   "cell_type": "code",
   "execution_count": null,
   "metadata": {},
   "outputs": [],
   "source": [
    "import pandas as pd\n",
    "import datetime\n",
    "import numpy as np\n",
    "import scipy.spatial.distance as dist\n",
    "import seaborn as sns\n",
    "import sys\n",
    "import json\n",
    "import scanpy as sc\n",
    "from tqdm import tqdm\n",
    "from collections import OrderedDict\n",
    "\n",
    "from sklearn.feature_extraction.text import TfidfVectorizer\n",
    "import anndata\n",
    "from collections import OrderedDict\n",
    "\n",
    "# Bokeh\n",
    "from bokeh.io import output_notebook\n",
    "from bokeh.plotting import figure, show, save, output_file\n",
    "from bokeh.models import HoverTool, ColumnDataSource\n",
    "from bokeh.palettes import Category20\n",
    "output_notebook()\n",
    "\n",
    "from IPython.display import display, HTML, Markdown\n",
    "sys.setrecursionlimit(100000)"
   ]
  },
  {
   "cell_type": "markdown",
   "metadata": {},
   "source": [
    "## Loand and Pre-Process Data"
   ]
  },
  {
   "cell_type": "code",
   "execution_count": null,
   "metadata": {},
   "outputs": [],
   "source": [
    "cellmarker = pd.read_excel('Cell_marker_All.xlsx')\n",
    "cellmarker"
   ]
  },
  {
   "cell_type": "code",
   "execution_count": null,
   "metadata": {},
   "outputs": [],
   "source": [
    "cellmarker = cellmarker[['cell_name', 'tissue_type', 'species', 'cellontology_id', 'Symbol']].drop_duplicates()\n",
    "cellmarker"
   ]
  },
  {
   "cell_type": "code",
   "execution_count": null,
   "metadata": {},
   "outputs": [],
   "source": [
    "mapping = pd.read_csv('../../mapping/mappingFile_2023.tsv', sep='\\t', header=None)\n",
    "mapping[1] = mapping[1].apply(str).apply(str.upper)\n",
    "mapping[2] = mapping[2].apply(str).apply(str.upper)\n",
    "mapping = mapping.set_index(1)[2].to_dict()\n",
    "mapping"
   ]
  },
  {
   "cell_type": "code",
   "execution_count": null,
   "metadata": {},
   "outputs": [],
   "source": [
    "cellmarker['Symbol'] = cellmarker.dropna(subset='Symbol')['Symbol'].apply(str.upper).map(mapping)\n",
    "cellmarker"
   ]
  },
  {
   "cell_type": "code",
   "execution_count": null,
   "metadata": {},
   "outputs": [],
   "source": [
    "cellmarker['Cell Type'] = cellmarker['cell_name']+'_'+cellmarker['tissue_type']+'_'+cellmarker['species']\n",
    "cellmarker = cellmarker[['Cell Type', 'cellontology_id', 'Symbol']]\n",
    "cellmarker = cellmarker[cellmarker['Cell Type']!='Natural killer T (NKT) cell_Fetal kidney_Human']\n",
    "cellmarker"
   ]
  },
  {
   "cell_type": "code",
   "execution_count": null,
   "metadata": {},
   "outputs": [],
   "source": [
    "manual = {'Plasmacytoid dendritic cell(PDC)_Bone marrow_Human':'Plasmacytoid dendritic cell(pDC)_Bone marrow_Human',\n",
    "'Mature astrocyte_Brain_Human':'Mature Astrocyte_Brain_Human',\n",
    "'Cancer Stem cell_Colorectum_Human':'Cancer stem cell_Colorectum_Human',\n",
    "'Collecting Duct Principal Cell_Kidney_Mouse':'Collecting duct principal cell_Kidney_Mouse',\n",
    "'Polymorphonuclear leukocyte_Kidney_Mouse':'Polymorphonuclear Leukocyte_Kidney_Mouse',\n",
    "'myeloid-derived suppressor cell_Skin_Human':'Myeloid-derived suppressor cell_Skin_Human',\n",
    "'Immune Cell_Skin_Mouse':'Immune cell_Skin_Mouse',\n",
    "'Schwann Cell_Skin_Mouse':'Schwann cell_Skin_Mouse',\n",
    "'Innate Lymphoid cell_Spleen_Human':'Innate lymphoid cell_Spleen_Human',\n",
    "'NECK cell_Stomach_Human':'Neck cell_Stomach_Human',\n",
    "'Stem leydig cell_Testis_Mouse':'Stem Leydig cell_Testis_Mouse',\n",
    "'Dendritic Cell_Undefined_Mouse':'Dendritic cell_Undefined_Mouse',\n",
    "'lymphatic endothelial cell_Undefined_Human':'Lymphatic endothelial cell_Undefined_Human'}\n",
    "\n",
    "def manualcorrect(term):\n",
    "    return manual[term] if term in manual else term\n",
    "\n",
    "cellmarker['Cell Type'] = cellmarker['Cell Type'].apply(manualcorrect)\n",
    "cellmarker"
   ]
  },
  {
   "cell_type": "code",
   "execution_count": null,
   "metadata": {},
   "outputs": [],
   "source": [
    "cellmarker = cellmarker.dropna(subset='Symbol').drop_duplicates().reset_index(drop=True)\n",
    "cellmarker"
   ]
  },
  {
   "cell_type": "code",
   "execution_count": null,
   "metadata": {},
   "outputs": [],
   "source": [
    "print(f'{len(cellmarker[\"Symbol\"].unique())} genes, {len(cellmarker[\"Cell Type\"].unique())} terms, {cellmarker.shape[0]} annotations')"
   ]
  },
  {
   "cell_type": "markdown",
   "metadata": {},
   "source": [
    "14664 genes, 7233 terms, 70878 annotations"
   ]
  },
  {
   "cell_type": "markdown",
   "metadata": {},
   "source": [
    "## Process Data for SQL"
   ]
  },
  {
   "cell_type": "markdown",
   "metadata": {},
   "source": [
    "### Resource"
   ]
  },
  {
   "cell_type": "code",
   "execution_count": null,
   "metadata": {},
   "outputs": [],
   "source": [
    "#(id, name, long_description, short_description, url, num_attributes, num_datasets)\n",
    "('113', 'CellMarker', 'a database of manually curated cell markers in human/mouse and web tools based on scRNA-seq data', 'a database of cell type markers across human and mouse tissues', 'http://bio-bigdata.hrbmu.edu.cn/CellMarker/', 7233, 1)"
   ]
  },
  {
   "cell_type": "markdown",
   "metadata": {},
   "source": [
    "### Dataset"
   ]
  },
  {
   "cell_type": "code",
   "execution_count": null,
   "metadata": {},
   "outputs": [],
   "source": [
    "#(id, name, name_without_resource, description, association, gene_set_description, gene_sets_description, attribute_set_description, is_signed, is_continuous_valued, last_updated, directory, num_page views, resource_fk, measurement_fk, dataset_group_fk, attribute_type_fk, attribute_group_fk, evidence_type, evidence_group, measurement_bias, attribute_type_plural, is_archived)\n",
    "(155, 'CellMarker Gene-Cell Type Associations', 'Gene-Cell Type Associations', 'cell type markers ', 'gene-cell type associations by data aggregation', 'genes associated with the {0} cell type from the CellMarker Gene-Cell Type Associations dataset.', 'sets of genes associatd with each cell type from the CellMarker Gene-Cell Type Associations dataset.', 'cell types associated with {0} gene from the CellMarker Gene-Cell Type Associations dataset.', 0, 0, '2024-03-25', 'cellmarker', 0, 113, 3, 7, 2, 1, 'association by data aggregation', 'curated experimental data', 'mixed', 'cell types', 0)"
   ]
  },
  {
   "cell_type": "markdown",
   "metadata": {},
   "source": [
    "### Publication"
   ]
  },
  {
   "cell_type": "code",
   "execution_count": null,
   "metadata": {},
   "outputs": [],
   "source": [
    "#(id, long_citation, short_citation, url, pmid, pubmed_url, first_author_last_name, first_author_initials, journal_abbreviateion, year, title, volume, pages)\n",
    "(154, 'Hu, C et al. (2022) CellMarker 2.0: an updated database of manually curated cell markers in human/mouse and web tools based on scRNA-seq data. Nucleic Acids Res. 51:D870-6', 'Hu, Nucleic Acids Res, 2022', 'dx.doi.org/10.1093/nar/gkac947', 36300619, 'https://pubmed.ncbi.nlm.nih.gov/36300619', 'Hu', 'C', 'Nucleic Acids Res', 2022, 'CellMarker 2.0: an updated database of manually curated cell markers in human/mouse and web tools based on scRNA-seq data', 51, 'D870-6')\n",
    "(238, 155, 154)"
   ]
  },
  {
   "cell_type": "markdown",
   "metadata": {},
   "source": [
    "### Naming Authority"
   ]
  },
  {
   "cell_type": "code",
   "execution_count": null,
   "metadata": {},
   "outputs": [],
   "source": [
    "#(id, name, description, url, publication_fk)\n",
    "(107, 'CellMarker', 'a database of manually curated cell markers in human/mouse and web tools based on scRNA-seq data', 'http://bio-bigdata.hrbmu.edu.cn/CellMarker/', 154)"
   ]
  },
  {
   "cell_type": "markdown",
   "metadata": {},
   "source": [
    "### Genes"
   ]
  },
  {
   "cell_type": "code",
   "execution_count": null,
   "metadata": {},
   "outputs": [],
   "source": [
    "genes = pd.read_csv('../../tables/gene.csv')\n",
    "genes['symbol'] = genes['symbol'].apply(str.upper)\n",
    "genefks = genes.set_index('symbol')['id'].to_dict()\n",
    "index = 58359\n",
    "\n",
    "geneinfo = pd.read_csv('../../tables/gene_info', sep='\\t')[['GeneID', 'Symbol', 'description', 'type_of_gene']]\n",
    "geneinfo['Symbol'] = geneinfo['Symbol'].apply(str.upper)\n",
    "geneinfo = geneinfo.set_index('Symbol')\n",
    "for gene in cellmarker['Symbol'].unique():\n",
    "    if gene not in genefks:\n",
    "        geneid = geneinfo.loc[gene, 'GeneID']\n",
    "        print((index, gene, geneid, geneinfo.loc[gene, 'description'], f'https://ncbi.nlm.nih.gov/gene/{geneid}'), end=',\\n')\n",
    "        genefks[gene] = index\n",
    "        index += 1"
   ]
  },
  {
   "cell_type": "markdown",
   "metadata": {},
   "source": [
    "### Attributes"
   ]
  },
  {
   "cell_type": "code",
   "execution_count": null,
   "metadata": {},
   "outputs": [],
   "source": [
    "index = 394329\n",
    "attributefks = {}\n",
    "clid = cellmarker.set_index('Cell Type')['cellontology_id'].dropna().to_dict()\n",
    "\n",
    "for i in cellmarker['Cell Type'].unique():\n",
    "    cell = i.split('_')\n",
    "    if i in clid:\n",
    "        print((index, i, f'{cell[0]} cell from {cell[1]} tissue from {cell[2]} ({clid[i]})', 107), end=',\\n')\n",
    "    else:\n",
    "        print((index, i, f'{cell[0]} cell from {cell[1]} tissue from {cell[2]}', 107), end=',\\n')\n",
    "    attributefks[i] = index\n",
    "    index += 1"
   ]
  },
  {
   "cell_type": "markdown",
   "metadata": {},
   "source": [
    "### Gene Sets"
   ]
  },
  {
   "cell_type": "code",
   "execution_count": null,
   "metadata": {},
   "outputs": [],
   "source": [
    "index = 135600000\n",
    "genesetfks = {}\n",
    "for i in cellmarker['Cell Type'].unique():\n",
    "    cell = i.split('_')\n",
    "    if i in clid:\n",
    "        print((index, i, f'{cell[0]} cell from {cell[1]} tissue from {cell[2]} ({clid[i]})', 155, 2, attributefks[i], 0), end=',\\n')\n",
    "    else:\n",
    "        print((index, i, f'{cell[0]} cell from {cell[1]} tissue from {cell[2]}', 155, 2, attributefks[i], 0), end=',\\n')\n",
    "    genesetfks[i] = index\n",
    "    index += 1"
   ]
  },
  {
   "cell_type": "markdown",
   "metadata": {},
   "source": [
    "### Associations"
   ]
  },
  {
   "cell_type": "code",
   "execution_count": null,
   "metadata": {},
   "outputs": [],
   "source": [
    "associations = cellmarker.copy()\n",
    "associations['Symbol'] = associations['Symbol'].apply(lambda x: genefks[x])\n",
    "associations['Cell Type'] = associations['Cell Type'].apply(lambda x: genesetfks[x])\n",
    "associations = associations[['Symbol', 'Cell Type']]\n",
    "associations.columns = ['gene_fk', 'gene_set_fk']\n",
    "associations['threshold_value'] = 1\n",
    "associations = associations.rename_axis('id')\n",
    "associations = associations.drop_duplicates().reset_index(drop=True)\n",
    "associations.index += 42000000\n",
    "associations.to_csv('../../harmonizome-update/cellmarker.csv')\n",
    "associations"
   ]
  },
  {
   "cell_type": "code",
   "execution_count": null,
   "metadata": {},
   "outputs": [],
   "source": [
    "cellmarker.drop_duplicates(subset=['Cell Type', 'Symbol'])"
   ]
  },
  {
   "cell_type": "code",
   "execution_count": null,
   "metadata": {},
   "outputs": [],
   "source": [
    "error"
   ]
  },
  {
   "cell_type": "markdown",
   "metadata": {},
   "source": [
    "## Create Downloads"
   ]
  },
  {
   "cell_type": "code",
   "execution_count": null,
   "metadata": {},
   "outputs": [],
   "source": [
    "output_path = 'downloads/'\n",
    "cellmarker = cellmarker[['Symbol', 'Cell Type']].drop_duplicates().reset_index(drop=True)\n",
    "cellmarker"
   ]
  },
  {
   "cell_type": "markdown",
   "metadata": {},
   "source": [
    "### Gene-Attribute Matrix"
   ]
  },
  {
   "cell_type": "code",
   "execution_count": null,
   "metadata": {},
   "outputs": [],
   "source": [
    "binaryMatrix = pd.crosstab(cellmarker['Symbol'], cellmarker['Cell Type'], values=1, aggfunc=max).replace(np.nan, 0)\n",
    "binaryMatrixT = binaryMatrix.T\n",
    "binaryMatrix.to_csv(f'{output_path}gene_attribute_matrix.txt.gz', sep='\\t', compression='gzip')\n",
    "binaryMatrix"
   ]
  },
  {
   "cell_type": "markdown",
   "metadata": {},
   "source": [
    "### Gene-Attribute Edge List"
   ]
  },
  {
   "cell_type": "code",
   "execution_count": null,
   "metadata": {},
   "outputs": [],
   "source": [
    "geneids = pd.read_csv('../../mapping/GeneSymbolsAndIDS_2023.tsv', sep='\\t')\n",
    "geneids['Human, Mouse, and Rat Approved Symbol'] = geneids['Human, Mouse, and Rat Approved Symbol'].apply(str.upper)\n",
    "geneids = geneids.set_index('Human, Mouse, and Rat Approved Symbol')['Entrez Gene ID(supplied by NCBI)'].to_dict()"
   ]
  },
  {
   "cell_type": "code",
   "execution_count": null,
   "metadata": {},
   "outputs": [],
   "source": [
    "edgelist = cellmarker.copy()\n",
    "edgelist['Gene ID'] = edgelist['Symbol'].map(geneids)\n",
    "edgelist['Threshold'] = 1\n",
    "edgelist = edgelist[['Symbol', 'Gene ID', 'Cell Type', 'Threshold']]\n",
    "edgelist.columns = ['Gene', 'Gene ID', 'Cell Type', 'Threshold']\n",
    "edgelist.to_csv(f'{output_path}gene_attribute_edges.txt.gz', sep='\\t', compression='gzip')\n",
    "edgelist"
   ]
  },
  {
   "cell_type": "markdown",
   "metadata": {},
   "source": [
    "### Gene List"
   ]
  },
  {
   "cell_type": "code",
   "execution_count": null,
   "metadata": {},
   "outputs": [],
   "source": [
    "genelist = edgelist[['Gene', 'Gene ID']].drop_duplicates().reset_index(drop=True)\n",
    "genelist.to_csv(f'{output_path}gene_list_terms.txt.gz', sep='\\t', compression='gzip')\n",
    "genelist"
   ]
  },
  {
   "cell_type": "markdown",
   "metadata": {},
   "source": [
    "### Attribute List"
   ]
  },
  {
   "cell_type": "code",
   "execution_count": null,
   "metadata": {},
   "outputs": [],
   "source": [
    "attributelist = edgelist[['Cell Type']].drop_duplicates().reset_index(drop=True)\n",
    "attributelist.to_csv(f'{output_path}attribute_list_entries.txt.gz', sep='\\t', compression='gzip')\n",
    "attributelist"
   ]
  },
  {
   "cell_type": "markdown",
   "metadata": {},
   "source": [
    "### Gene Set Library"
   ]
  },
  {
   "cell_type": "code",
   "execution_count": null,
   "metadata": {},
   "outputs": [],
   "source": [
    "with open(f'{output_path}gene_set_library_crisp.gmt', 'w') as f:\n",
    "    arr = binaryMatrix.reset_index(drop=True).to_numpy(dtype=np.int_)\n",
    "    attributes = binaryMatrix.columns\n",
    "\n",
    "    w, h = arr.shape\n",
    "    for i in tqdm(range(h)):\n",
    "        if len([*binaryMatrix.index[arr[:, i] == 1]])>= 5:\n",
    "            print(attributes[i], *binaryMatrix.index[arr[:, i] == 1], sep='\\t', end='\\n', file=f)"
   ]
  },
  {
   "cell_type": "markdown",
   "metadata": {},
   "source": [
    "### Attribute Set Library"
   ]
  },
  {
   "cell_type": "code",
   "execution_count": null,
   "metadata": {},
   "outputs": [],
   "source": [
    "with open(output_path+'attribute_set_library_crisp.gmt', 'w') as f:\n",
    "    arr = binaryMatrixT.reset_index(drop=True).to_numpy(dtype=np.int_)\n",
    "    genes = binaryMatrixT.columns\n",
    "\n",
    "    w, h = arr.shape\n",
    "    for i in tqdm(range(h)):\n",
    "        if len([*binaryMatrixT.index[arr[:, i] == 1]])>= 5:\n",
    "            print(genes[i], *binaryMatrixT.index[arr[:, i] == 1], sep='\\t', end='\\n', file=f)"
   ]
  },
  {
   "cell_type": "markdown",
   "metadata": {},
   "source": [
    "### Gene Similarity Matrix"
   ]
  },
  {
   "cell_type": "code",
   "execution_count": null,
   "metadata": {},
   "outputs": [],
   "source": [
    "gene_similarity_matrix = dist.pdist(binaryMatrix.to_numpy(dtype=np.int_), 'cosine')\n",
    "gene_similarity_matrix = dist.squareform(gene_similarity_matrix)\n",
    "gene_similarity_matrix = 1 - gene_similarity_matrix\n",
    "\n",
    "gene_similarity_matrix = pd.DataFrame(data=gene_similarity_matrix, index=binaryMatrix.index, columns=binaryMatrix.index)\n",
    "gene_similarity_matrix.index.name = None\n",
    "gene_similarity_matrix.columns.name = None\n",
    "gene_similarity_matrix.to_csv(output_path+'gene_similarity_matrix_cosine.txt.gz', sep='\\t', compression='gzip')\n",
    "gene_similarity_matrix"
   ]
  },
  {
   "cell_type": "markdown",
   "metadata": {},
   "source": [
    "### Attribute Similarity Matrix"
   ]
  },
  {
   "cell_type": "code",
   "execution_count": null,
   "metadata": {},
   "outputs": [],
   "source": [
    "attribute_similarity_matrix = dist.pdist(binaryMatrixT.to_numpy(dtype=np.int_), 'cosine')\n",
    "attribute_similarity_matrix = dist.squareform(attribute_similarity_matrix)\n",
    "attribute_similarity_matrix = 1 - attribute_similarity_matrix\n",
    "\n",
    "attribute_similarity_matrix = pd.DataFrame(data=attribute_similarity_matrix, index=binaryMatrixT.index, columns=binaryMatrixT.index)\n",
    "attribute_similarity_matrix.index.name = None\n",
    "attribute_similarity_matrix.columns.name = None\n",
    "attribute_similarity_matrix.to_csv(output_path+'attribute_similarity_matrix_cosine.txt.gz', sep='\\t', compression='gzip')\n",
    "attribute_similarity_matrix"
   ]
  },
  {
   "cell_type": "markdown",
   "metadata": {},
   "source": [
    "### Knowledge Graaph Serialization"
   ]
  },
  {
   "cell_type": "code",
   "execution_count": null,
   "metadata": {},
   "outputs": [],
   "source": [
    "nodes = {}\n",
    "edges = []\n",
    "\n",
    "for gene in genelist.index:\n",
    "    gene = genelist.loc[gene]\n",
    "    nodes[int(gene['Gene ID'])] = {\n",
    "        \"type\":\"gene\",\n",
    "        \"properties\": {\n",
    "            \"id\":int(gene['Gene ID']),\n",
    "            \"label\":gene['Gene']\n",
    "        }}\n",
    "\n",
    "for term in attributelist.index:\n",
    "    term = attributelist.loc[term]\n",
    "    nodes[term['Cell Type']] = {\n",
    "        \"type\": \"cell type\",\n",
    "        \"properties\": {\n",
    "            \"label\":term['Cell Type'],\n",
    "            \"id\":term['Cell Type']\n",
    "        }}\n",
    "\n",
    "for edge in edgelist.index:\n",
    "    edge = edgelist.loc[edge]\n",
    "    edges.append({\n",
    "        \"source\": int(edge['Gene ID']),\n",
    "        \"relation\": 'is marker for',\n",
    "        \"target\": edge['Cell Type'],\n",
    "        \"properties\":{\n",
    "            \"id\":str(edge['Gene ID'])+\":\"+edge['Cell Type'],\n",
    "            \"source_id\":int(edge['Gene ID']),\n",
    "            \"source_label\":edge['Gene'],\n",
    "            \"target_id\":edge['Cell Type'],\n",
    "            \"target_label\":edge['Cell Type'],\n",
    "            \"directed\":True,\n",
    "            \"threshold\":int(edge['Threshold'])\n",
    "        }})"
   ]
  },
  {
   "cell_type": "code",
   "execution_count": null,
   "metadata": {},
   "outputs": [],
   "source": [
    "nodes"
   ]
  },
  {
   "cell_type": "markdown",
   "metadata": {},
   "source": [
    "### RDF"
   ]
  },
  {
   "cell_type": "code",
   "execution_count": null,
   "metadata": {},
   "outputs": [],
   "source": [
    "with open(f'{output_path}kg_serializations/cellmarker.rdf', 'w') as f:\n",
    "    print('@prefix gene: ncbi.nlm.nih.gov/gene/', file=f)\n",
    "    print('@prefix RO: purl.obolibrary.org/RO_', file=f)\n",
    "    print('', file=f)\n",
    "    for edge in edges:\n",
    "        print(\n",
    "            'gene:'+str(edge['properties']['source_id']), \n",
    "            'RO:0002607', \n",
    "            edge['properties']['target_id'], end=' .\\n', \n",
    "        file=f)"
   ]
  },
  {
   "cell_type": "markdown",
   "metadata": {},
   "source": [
    "### JSON"
   ]
  },
  {
   "cell_type": "code",
   "execution_count": null,
   "metadata": {},
   "outputs": [],
   "source": [
    "with open(f'{output_path}kg_serializations/cellmarker.json', 'w') as f:\n",
    "    serial = json.dump(\n",
    "        {\n",
    "            \"Version\":\"1\", \n",
    "            \"nodes\": nodes,\n",
    "            \"edges\": edges\n",
    "        }, indent=4, fp=f)"
   ]
  },
  {
   "cell_type": "markdown",
   "metadata": {},
   "source": [
    "### TSV"
   ]
  },
  {
   "cell_type": "markdown",
   "metadata": {},
   "source": [
    "#### Nodes"
   ]
  },
  {
   "cell_type": "code",
   "execution_count": null,
   "metadata": {},
   "outputs": [],
   "source": [
    "nodeframe = pd.DataFrame(nodes).T\n",
    "nodeframe['id'] = nodeframe['properties'].apply(lambda x: x['id'])\n",
    "nodeframe['label'] = nodeframe['properties'].apply(lambda x: x['label'])\n",
    "nodeframe['namespace'] = nodeframe['type'].apply(lambda x: {'gene':'NCBI Entrez', 'cell type':'CellMarker'}[x])\n",
    "nodeframe = nodeframe.get(['namespace', 'id', 'label']).reset_index(drop=True)\n",
    "nodeframe.to_csv(f'{output_path}kg_serializations/cellmarker_tsv/nodes.tsv', sep='\\t')\n",
    "nodeframe"
   ]
  },
  {
   "cell_type": "markdown",
   "metadata": {},
   "source": [
    "#### Edges"
   ]
  },
  {
   "cell_type": "code",
   "execution_count": null,
   "metadata": {},
   "outputs": [],
   "source": [
    "edgeframe = pd.DataFrame(edges)\n",
    "edgeframe['threshold'] = edgeframe['properties'].apply(lambda x: x['threshold'])\n",
    "edgeframe = edgeframe.get(['source', 'relation', 'target', 'threshold'])\n",
    "edgeframe.to_csv(f'{output_path}kg_serializations/cellmarker_tsv/edges.tsv', sep='\\t')\n",
    "edgeframe"
   ]
  },
  {
   "cell_type": "markdown",
   "metadata": {},
   "source": [
    "## Create Visualizations"
   ]
  },
  {
   "cell_type": "code",
   "execution_count": null,
   "metadata": {},
   "outputs": [],
   "source": [
    "binaryMatrix = pd.read_csv('downloads/gene_attribute_matrix.txt.gz', sep='\\t', compression='gzip', index_col='Symbol')\n",
    "gene_similarity_matrix = pd.read_csv('downloads/gene_similarity_matrix_cosine.txt.gz', sep='\\t', compression='gzip', index_col='Unnamed: 0')\n",
    "attribute_similarity_matrix = pd.read_csv('downloads/attribute_similarity_matrix_cosine.txt.gz', sep='\\t', compression='gzip', index_col='Unnamed: 0')"
   ]
  },
  {
   "cell_type": "markdown",
   "metadata": {},
   "source": [
    "### Gene-Attribute Clustered Heat Map"
   ]
  },
  {
   "cell_type": "code",
   "execution_count": null,
   "metadata": {},
   "outputs": [],
   "source": [
    "sns.clustermap(binaryMatrix, cmap='seismic', center=0, figsize=(25,25))"
   ]
  },
  {
   "cell_type": "markdown",
   "metadata": {},
   "source": [
    "### Gene Similarity Clustered Heat Map"
   ]
  },
  {
   "cell_type": "code",
   "execution_count": null,
   "metadata": {},
   "outputs": [],
   "source": [
    "sns.clustermap(gene_similarity_matrix, cmap='seismic', center=0, figsize=(25,25))"
   ]
  },
  {
   "cell_type": "markdown",
   "metadata": {},
   "source": [
    "### Attribute Similarity Clustered Heat Map"
   ]
  },
  {
   "cell_type": "code",
   "execution_count": null,
   "metadata": {},
   "outputs": [],
   "source": [
    "sns.clustermap(attribute_similarity_matrix, cmap='seismic', center=0, figsize=(25,25))"
   ]
  },
  {
   "cell_type": "markdown",
   "metadata": {},
   "source": [
    "### UMAP"
   ]
  },
  {
   "cell_type": "code",
   "execution_count": null,
   "metadata": {},
   "outputs": [],
   "source": [
    "def load_gmt(file):\n",
    "    gmt = OrderedDict()\n",
    "    for line in file:\n",
    "        term, blank, *geneset = line.strip().split('\\t')\n",
    "        gmt[term] = ' '.join(set(geneset))\n",
    "    return gmt"
   ]
  },
  {
   "cell_type": "code",
   "execution_count": null,
   "metadata": {},
   "outputs": [],
   "source": [
    "libdict = load_gmt(open('downloads/gene_set_library_crisp.gmt', 'r'))\n",
    "scatterdir = 'images/'"
   ]
  },
  {
   "cell_type": "code",
   "execution_count": null,
   "metadata": {},
   "outputs": [],
   "source": [
    "def process_scatterplot(libdict, nneighbors=30, mindist=0.1, spread=1.0, maxdf=1.0, mindf=1):\n",
    "    print(\"\\tTF-IDF vectorizing gene set data...\")\n",
    "    vec = TfidfVectorizer(max_df=maxdf, min_df=mindf)\n",
    "    X = vec.fit_transform(libdict.values())\n",
    "    print(X.shape)\n",
    "    adata = anndata.AnnData(X)\n",
    "    adata.obs.index = libdict.keys()\n",
    "\n",
    "    print(\"\\tPerforming Leiden clustering...\")\n",
    "    ### the n_neighbors and min_dist parameters can be altered\n",
    "    sc.pp.neighbors(adata, n_neighbors=nneighbors, use_rep='X')\n",
    "    sc.tl.leiden(adata, resolution=1.0)\n",
    "    sc.tl.umap(adata, min_dist=mindist, spread=spread, random_state=42)\n",
    "\n",
    "    new_order = adata.obs.sort_values(by='leiden').index.tolist()\n",
    "    adata = adata[new_order, :]\n",
    "    adata.obs['leiden'] = 'Cluster ' + adata.obs['leiden'].astype('object')\n",
    "\n",
    "    df = pd.DataFrame(adata.obsm['X_umap'])\n",
    "    df.columns = ['x', 'y']\n",
    "\n",
    "    df['cluster'] = adata.obs['leiden'].values\n",
    "    df['term'] = adata.obs.index\n",
    "    df['genes'] = [libdict[l] for l in df['term']]\n",
    "\n",
    "    return df"
   ]
  },
  {
   "cell_type": "code",
   "execution_count": null,
   "metadata": {},
   "outputs": [],
   "source": [
    "def get_scatter_colors(df):\n",
    "    clusters = pd.unique(df['cluster']).tolist()\n",
    "    colors = list(Category20[20])[::2] + list(Category20[20])[1::2]\n",
    "    color_mapper = {clusters[i]: colors[i % 20] for i in range(len(clusters))}\n",
    "    return color_mapper\n",
    "\n",
    "def get_scatterplot(scatterdf):\n",
    "    df = scatterdf.copy()\n",
    "    color_mapper = get_scatter_colors(df)\n",
    "    df['color'] = df['cluster'].apply(lambda x: color_mapper[x])\n",
    "\n",
    "    hover_emb = HoverTool(name=\"df\", tooltips=\"\"\"\n",
    "        <div style=\"margin: 10\">\n",
    "            <div style=\"margin: 0 auto; width:300px;\">\n",
    "                <span style=\"font-size: 12px; font-weight: bold;\">Gene Set:</span>\n",
    "                <span style=\"font-size: 12px\">@gene_set</span>\n",
    "            <div style=\"margin: 0 auto; width:300px;\">\n",
    "                <span style=\"font-size: 12px; font-weight: bold;\">Coordinates:</span>\n",
    "                <span style=\"font-size: 12px\">(@x,@y)</span>\n",
    "            <div style=\"margin: 0 auto; width:300px;\">\n",
    "                <span style=\"font-size: 12px; font-weight: bold;\">Cluster:</span>\n",
    "                <span style=\"font-size: 12px\">@cluster</span>\n",
    "            </div>\n",
    "        </div>\n",
    "    \"\"\")\n",
    "    tools_emb = [hover_emb, 'pan', 'wheel_zoom', 'reset', 'save']\n",
    "\n",
    "    plot_emb = figure(\n",
    "        width=1000, \n",
    "        height=700, \n",
    "        tools=tools_emb\n",
    "    )\n",
    "\n",
    "    source = ColumnDataSource(\n",
    "        data=dict(\n",
    "            x = df['x'],\n",
    "            y = df['y'],\n",
    "            gene_set = df['term'],\n",
    "            cluster = df['cluster'],\n",
    "            colors = df['color'],\n",
    "            label = df['cluster']\n",
    "        )\n",
    "    )\n",
    "\n",
    "    # hide axis labels and grid lines\n",
    "    plot_emb.xaxis.major_tick_line_color = None\n",
    "    plot_emb.xaxis.minor_tick_line_color = None\n",
    "    plot_emb.yaxis.major_tick_line_color = None\n",
    "    plot_emb.yaxis.minor_tick_line_color = None\n",
    "    plot_emb.xaxis.major_label_text_font_size = '0pt'\n",
    "    plot_emb.yaxis.major_label_text_font_size = '0pt' \n",
    "\n",
    "    plot_emb.output_backend = \"svg\"    \n",
    "    \n",
    "    plot_emb.title = 'Gene Sets in the CellMarker Gene-Cell Type Associations Library'\n",
    "    plot_emb.xaxis.axis_label = \"UMAP_1\"\n",
    "    plot_emb.yaxis.axis_label = \"UMAP_2\"\n",
    "    plot_emb.xaxis.axis_label_text_font_style = 'normal'\n",
    "    plot_emb.xaxis.axis_label_text_font_size = '18px'\n",
    "    plot_emb.yaxis.axis_label_text_font_size = '18px'\n",
    "    plot_emb.yaxis.axis_label_text_font_style = 'normal'\n",
    "    plot_emb.title.align = 'center'\n",
    "    plot_emb.title.text_font_size = '18px'\n",
    "    \n",
    "    s = plot_emb.scatter(\n",
    "        'x', \n",
    "        'y', \n",
    "        size = 4, \n",
    "        source = source, \n",
    "        color = 'colors'\n",
    "    )\n",
    "    \n",
    "    return plot_emb"
   ]
  },
  {
   "cell_type": "code",
   "execution_count": null,
   "metadata": {},
   "outputs": [],
   "source": [
    "## defaults: nneighbors=30, mindist=0.1, spread=1.0, maxdf=1.0, mindf=1\n",
    "scatter_df = process_scatterplot(libdict\n",
    "    #,nneighbors=30\n",
    "    #,mindist=0.1\n",
    "    #,spread=0.25, \n",
    "    #maxdf=1.0, \n",
    "    ,mindf=3\n",
    ")\n",
    "\n",
    "# Display Scatter Plot\n",
    "plot = get_scatterplot(scatter_df)\n",
    "output_notebook()\n",
    "show(plot)"
   ]
  },
  {
   "cell_type": "code",
   "execution_count": null,
   "metadata": {},
   "outputs": [],
   "source": [
    "# save HTML if desired\n",
    "output_file(filename=f\"{scatterdir}umap.html\", title = 'Gene Sets in the CellMarker Gene-Cell Type Associations Library')\n",
    "save(plot)"
   ]
  },
  {
   "cell_type": "code",
   "execution_count": null,
   "metadata": {},
   "outputs": [],
   "source": []
  }
 ],
 "metadata": {
  "kernelspec": {
   "display_name": "Python 3.10.13 ('harmonizomeETL')",
   "language": "python",
   "name": "python3"
  },
  "language_info": {
   "codemirror_mode": {
    "name": "ipython",
    "version": 3
   },
   "file_extension": ".py",
   "mimetype": "text/x-python",
   "name": "python",
   "nbconvert_exporter": "python",
   "pygments_lexer": "ipython3",
   "version": "3.10.13"
  },
  "orig_nbformat": 4,
  "vscode": {
   "interpreter": {
    "hash": "3ad6724d56c4b72bd8e5b8da3c2e0dcf6d86fdd164f3c98d6d6a78c076afabab"
   }
  }
 },
 "nbformat": 4,
 "nbformat_minor": 2
}
