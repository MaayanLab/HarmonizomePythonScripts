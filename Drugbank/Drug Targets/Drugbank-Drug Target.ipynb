{
 "cells": [
  {
   "cell_type": "markdown",
   "metadata": {},
   "source": [
    "# Drugbank-Drug Target"
   ]
  },
  {
   "cell_type": "markdown",
   "metadata": {},
   "source": [
    "Author: Moshe Silverstein <br/>\n",
    "Date: 03-2018 <br/>\n",
    "Data Source Home: http://www.drugbank.ca/ <br/>\n",
    "Data Source Downlaod: https://www.drugbank.ca/releases/latest"
   ]
  },
  {
   "cell_type": "code",
   "execution_count": 1,
   "metadata": {
    "collapsed": true
   },
   "outputs": [],
   "source": [
    "import sys, datetime, os\n",
    "import numpy as np\n",
    "import pandas as pd\n",
    "import importlib\n",
    "import untility_functions as uf\n",
    "%matplotlib inline"
   ]
  },
  {
   "cell_type": "code",
   "execution_count": 2,
   "metadata": {
    "collapsed": true
   },
   "outputs": [],
   "source": [
    "from clustergrammer_widget import *\n",
    "net = Network(clustergrammer_widget)"
   ]
  },
  {
   "cell_type": "code",
   "execution_count": 3,
   "metadata": {},
   "outputs": [
    {
     "data": {
      "text/plain": [
       "<module 'untility_functions' from '/Users/moshesilverstein/Documents/Harmonizome/Drugbank/untility_functions.py'>"
      ]
     },
     "execution_count": 3,
     "metadata": {},
     "output_type": "execute_result"
    }
   ],
   "source": [
    "importlib.reload(uf)"
   ]
  },
  {
   "cell_type": "markdown",
   "metadata": {},
   "source": [
    "# Versions Of Modules In Use"
   ]
  },
  {
   "cell_type": "code",
   "execution_count": 4,
   "metadata": {},
   "outputs": [
    {
     "data": {
      "application/json": {
       "Software versions": [
        {
         "module": "Python",
         "version": "3.5.2 64bit [GCC 4.2.1 Compatible Apple LLVM 4.2 (clang-425.0.28)]"
        },
        {
         "module": "IPython",
         "version": "5.3.0"
        },
        {
         "module": "OS",
         "version": "Darwin 17.2.0 x86_64 i386 64bit"
        },
        {
         "module": "numpy",
         "version": "1.13.1"
        },
        {
         "module": "pandas",
         "version": "0.21.0"
        },
        {
         "module": "clustergrammer_widget",
         "version": "1.9.0"
        }
       ]
      },
      "text/html": [
       "<table><tr><th>Software</th><th>Version</th></tr><tr><td>Python</td><td>3.5.2 64bit [GCC 4.2.1 Compatible Apple LLVM 4.2 (clang-425.0.28)]</td></tr><tr><td>IPython</td><td>5.3.0</td></tr><tr><td>OS</td><td>Darwin 17.2.0 x86_64 i386 64bit</td></tr><tr><td>numpy</td><td>1.13.1</td></tr><tr><td>pandas</td><td>0.21.0</td></tr><tr><td>clustergrammer_widget</td><td>1.9.0</td></tr><tr><td colspan='2'>Wed Mar 28 15:44:42 2018 EDT</td></tr></table>"
      ],
      "text/latex": [
       "\\begin{tabular}{|l|l|}\\hline\n",
       "{\\bf Software} & {\\bf Version} \\\\ \\hline\\hline\n",
       "Python & 3.5.2 64bit [GCC 4.2.1 Compatible Apple LLVM 4.2 (clang-425.0.28)] \\\\ \\hline\n",
       "IPython & 5.3.0 \\\\ \\hline\n",
       "OS & Darwin 17.2.0 x86\\_64 i386 64bit \\\\ \\hline\n",
       "numpy & 1.13.1 \\\\ \\hline\n",
       "pandas & 0.21.0 \\\\ \\hline\n",
       "clustergrammer_widget & 1.9.0 \\\\ \\hline\n",
       "\\hline \\multicolumn{2}{|l|}{Wed Mar 28 15:44:42 2018 EDT} \\\\ \\hline\n",
       "\\end{tabular}\n"
      ],
      "text/plain": [
       "Software versions\n",
       "Python 3.5.2 64bit [GCC 4.2.1 Compatible Apple LLVM 4.2 (clang-425.0.28)]\n",
       "IPython 5.3.0\n",
       "OS Darwin 17.2.0 x86_64 i386 64bit\n",
       "numpy 1.13.1\n",
       "pandas 0.21.0\n",
       "clustergrammer_widget 1.9.0\n",
       "Wed Mar 28 15:44:42 2018 EDT"
      ]
     },
     "execution_count": 4,
     "metadata": {},
     "output_type": "execute_result"
    }
   ],
   "source": [
    "%load_ext version_information\n",
    "%version_information numpy, pandas, clustergrammer_widget "
   ]
  },
  {
   "cell_type": "markdown",
   "metadata": {},
   "source": [
    "# Path to Output Files"
   ]
  },
  {
   "cell_type": "code",
   "execution_count": 5,
   "metadata": {
    "collapsed": true
   },
   "outputs": [],
   "source": [
    "path = '/Users/moshesilverstein/Documents/Harmonizome/Drugbank/Output/'"
   ]
  },
  {
   "cell_type": "markdown",
   "metadata": {},
   "source": [
    "# Load Data"
   ]
  },
  {
   "cell_type": "code",
   "execution_count": 6,
   "metadata": {},
   "outputs": [],
   "source": [
    "df = pd.read_csv('Input/drugbank_all_target_polypeptide_ids.csv/all.csv')"
   ]
  },
  {
   "cell_type": "code",
   "execution_count": 7,
   "metadata": {},
   "outputs": [
    {
     "data": {
      "text/html": [
       "<div>\n",
       "<style scoped>\n",
       "    .dataframe tbody tr th:only-of-type {\n",
       "        vertical-align: middle;\n",
       "    }\n",
       "\n",
       "    .dataframe tbody tr th {\n",
       "        vertical-align: top;\n",
       "    }\n",
       "\n",
       "    .dataframe thead th {\n",
       "        text-align: right;\n",
       "    }\n",
       "</style>\n",
       "<table border=\"1\" class=\"dataframe\">\n",
       "  <thead>\n",
       "    <tr style=\"text-align: right;\">\n",
       "      <th></th>\n",
       "      <th>ID</th>\n",
       "      <th>Name</th>\n",
       "      <th>Gene Name</th>\n",
       "      <th>GenBank Protein ID</th>\n",
       "      <th>GenBank Gene ID</th>\n",
       "      <th>UniProt ID</th>\n",
       "      <th>Uniprot Title</th>\n",
       "      <th>PDB ID</th>\n",
       "      <th>GeneCard ID</th>\n",
       "      <th>GenAtlas ID</th>\n",
       "      <th>HGNC ID</th>\n",
       "      <th>Species</th>\n",
       "      <th>Drug IDs</th>\n",
       "    </tr>\n",
       "  </thead>\n",
       "  <tbody>\n",
       "    <tr>\n",
       "      <th>0</th>\n",
       "      <td>P45059</td>\n",
       "      <td>Peptidoglycan synthase FtsI</td>\n",
       "      <td>ftsI</td>\n",
       "      <td>1574687.0</td>\n",
       "      <td>L42023</td>\n",
       "      <td>P45059</td>\n",
       "      <td>FTSI_HAEIN</td>\n",
       "      <td>NaN</td>\n",
       "      <td>NaN</td>\n",
       "      <td>NaN</td>\n",
       "      <td>NaN</td>\n",
       "      <td>Haemophilus influenzae (strain ATCC 51907 / DS...</td>\n",
       "      <td>DB00303</td>\n",
       "    </tr>\n",
       "    <tr>\n",
       "      <th>1</th>\n",
       "      <td>P19113</td>\n",
       "      <td>Histidine decarboxylase</td>\n",
       "      <td>HDC</td>\n",
       "      <td>32109.0</td>\n",
       "      <td>X54297</td>\n",
       "      <td>P19113</td>\n",
       "      <td>DCHS_HUMAN</td>\n",
       "      <td>4E1O</td>\n",
       "      <td>NaN</td>\n",
       "      <td>HDC</td>\n",
       "      <td>HGNC:4855</td>\n",
       "      <td>Human</td>\n",
       "      <td>DB00114; DB00117</td>\n",
       "    </tr>\n",
       "    <tr>\n",
       "      <th>2</th>\n",
       "      <td>Q9UI32</td>\n",
       "      <td>Glutaminase liver isoform, mitochondrial</td>\n",
       "      <td>GLS2</td>\n",
       "      <td>6650606.0</td>\n",
       "      <td>AF110330</td>\n",
       "      <td>Q9UI32</td>\n",
       "      <td>GLSL_HUMAN</td>\n",
       "      <td>4BQM</td>\n",
       "      <td>NaN</td>\n",
       "      <td>GLS2</td>\n",
       "      <td>HGNC:29570</td>\n",
       "      <td>Human</td>\n",
       "      <td>DB00142</td>\n",
       "    </tr>\n",
       "    <tr>\n",
       "      <th>3</th>\n",
       "      <td>P00488</td>\n",
       "      <td>Coagulation factor XIII A chain</td>\n",
       "      <td>F13A1</td>\n",
       "      <td>182309.0</td>\n",
       "      <td>M22001</td>\n",
       "      <td>P00488</td>\n",
       "      <td>F13A_HUMAN</td>\n",
       "      <td>1EVU; 1EX0; 1F13; 1FIE; 1GGT; 1GGU; 1GGY; 1QRK...</td>\n",
       "      <td>NaN</td>\n",
       "      <td>F13A1</td>\n",
       "      <td>HGNC:3531</td>\n",
       "      <td>Human</td>\n",
       "      <td>DB01839; DB02340; DB11311; DB13151</td>\n",
       "    </tr>\n",
       "    <tr>\n",
       "      <th>4</th>\n",
       "      <td>P35228</td>\n",
       "      <td>Nitric oxide synthase, inducible</td>\n",
       "      <td>NOS2</td>\n",
       "      <td>292242.0</td>\n",
       "      <td>L09210</td>\n",
       "      <td>P35228</td>\n",
       "      <td>NOS2_HUMAN</td>\n",
       "      <td>1NSI; 2LL6; 2NSI; 3E7G; 3EJ8; 3HR4; 4CX7; 4NOS</td>\n",
       "      <td>NaN</td>\n",
       "      <td>NOS2A</td>\n",
       "      <td>HGNC:7873</td>\n",
       "      <td>Human</td>\n",
       "      <td>DB00125; DB00155; DB01110; DB01234; DB01686; D...</td>\n",
       "    </tr>\n",
       "  </tbody>\n",
       "</table>\n",
       "</div>"
      ],
      "text/plain": [
       "       ID                                      Name Gene Name  \\\n",
       "0  P45059               Peptidoglycan synthase FtsI      ftsI   \n",
       "1  P19113                   Histidine decarboxylase       HDC   \n",
       "2  Q9UI32  Glutaminase liver isoform, mitochondrial      GLS2   \n",
       "3  P00488           Coagulation factor XIII A chain     F13A1   \n",
       "4  P35228          Nitric oxide synthase, inducible      NOS2   \n",
       "\n",
       "   GenBank Protein ID GenBank Gene ID UniProt ID Uniprot Title  \\\n",
       "0           1574687.0          L42023     P45059    FTSI_HAEIN   \n",
       "1             32109.0          X54297     P19113    DCHS_HUMAN   \n",
       "2           6650606.0        AF110330     Q9UI32    GLSL_HUMAN   \n",
       "3            182309.0          M22001     P00488    F13A_HUMAN   \n",
       "4            292242.0          L09210     P35228    NOS2_HUMAN   \n",
       "\n",
       "                                              PDB ID  GeneCard ID GenAtlas ID  \\\n",
       "0                                                NaN          NaN         NaN   \n",
       "1                                               4E1O          NaN         HDC   \n",
       "2                                               4BQM          NaN        GLS2   \n",
       "3  1EVU; 1EX0; 1F13; 1FIE; 1GGT; 1GGU; 1GGY; 1QRK...          NaN       F13A1   \n",
       "4     1NSI; 2LL6; 2NSI; 3E7G; 3EJ8; 3HR4; 4CX7; 4NOS          NaN       NOS2A   \n",
       "\n",
       "      HGNC ID                                            Species  \\\n",
       "0         NaN  Haemophilus influenzae (strain ATCC 51907 / DS...   \n",
       "1   HGNC:4855                                              Human   \n",
       "2  HGNC:29570                                              Human   \n",
       "3   HGNC:3531                                              Human   \n",
       "4   HGNC:7873                                              Human   \n",
       "\n",
       "                                            Drug IDs  \n",
       "0                                            DB00303  \n",
       "1                                   DB00114; DB00117  \n",
       "2                                            DB00142  \n",
       "3                 DB01839; DB02340; DB11311; DB13151  \n",
       "4  DB00125; DB00155; DB01110; DB01234; DB01686; D...  "
      ]
     },
     "execution_count": 7,
     "metadata": {},
     "output_type": "execute_result"
    }
   ],
   "source": [
    "df.head()"
   ]
  },
  {
   "cell_type": "code",
   "execution_count": 8,
   "metadata": {},
   "outputs": [
    {
     "data": {
      "text/plain": [
       "(4612, 13)"
      ]
     },
     "execution_count": 8,
     "metadata": {},
     "output_type": "execute_result"
    }
   ],
   "source": [
    "df.shape"
   ]
  },
  {
   "cell_type": "markdown",
   "metadata": {},
   "source": [
    "# Load Drug Meta Data"
   ]
  },
  {
   "cell_type": "code",
   "execution_count": 9,
   "metadata": {
    "collapsed": true
   },
   "outputs": [],
   "source": [
    "drug_meta = pd.read_csv('Input/drugbank_all_drug_links.csv.zip', index_col=0)"
   ]
  },
  {
   "cell_type": "code",
   "execution_count": 10,
   "metadata": {},
   "outputs": [
    {
     "data": {
      "text/html": [
       "<div>\n",
       "<style scoped>\n",
       "    .dataframe tbody tr th:only-of-type {\n",
       "        vertical-align: middle;\n",
       "    }\n",
       "\n",
       "    .dataframe tbody tr th {\n",
       "        vertical-align: top;\n",
       "    }\n",
       "\n",
       "    .dataframe thead th {\n",
       "        text-align: right;\n",
       "    }\n",
       "</style>\n",
       "<table border=\"1\" class=\"dataframe\">\n",
       "  <thead>\n",
       "    <tr style=\"text-align: right;\">\n",
       "      <th></th>\n",
       "      <th>Name</th>\n",
       "      <th>CAS Number</th>\n",
       "      <th>Drug Type</th>\n",
       "      <th>KEGG Compound ID</th>\n",
       "      <th>KEGG Drug ID</th>\n",
       "      <th>PubChem Compound ID</th>\n",
       "      <th>PubChem Substance ID</th>\n",
       "      <th>ChEBI ID</th>\n",
       "      <th>PharmGKB ID</th>\n",
       "      <th>HET ID</th>\n",
       "      <th>...</th>\n",
       "      <th>GenBank ID</th>\n",
       "      <th>DPD ID</th>\n",
       "      <th>RxList Link</th>\n",
       "      <th>Pdrhealth Link</th>\n",
       "      <th>Wikipedia ID</th>\n",
       "      <th>Drugs.com Link</th>\n",
       "      <th>NDC ID</th>\n",
       "      <th>ChemSpider ID</th>\n",
       "      <th>BindingDB ID</th>\n",
       "      <th>TTD ID</th>\n",
       "    </tr>\n",
       "    <tr>\n",
       "      <th>DrugBank ID</th>\n",
       "      <th></th>\n",
       "      <th></th>\n",
       "      <th></th>\n",
       "      <th></th>\n",
       "      <th></th>\n",
       "      <th></th>\n",
       "      <th></th>\n",
       "      <th></th>\n",
       "      <th></th>\n",
       "      <th></th>\n",
       "      <th></th>\n",
       "      <th></th>\n",
       "      <th></th>\n",
       "      <th></th>\n",
       "      <th></th>\n",
       "      <th></th>\n",
       "      <th></th>\n",
       "      <th></th>\n",
       "      <th></th>\n",
       "      <th></th>\n",
       "      <th></th>\n",
       "    </tr>\n",
       "  </thead>\n",
       "  <tbody>\n",
       "    <tr>\n",
       "      <th>DB00001</th>\n",
       "      <td>Lepirudin</td>\n",
       "      <td>138068-37-8</td>\n",
       "      <td>BiotechDrug</td>\n",
       "      <td>NaN</td>\n",
       "      <td>D06880</td>\n",
       "      <td>NaN</td>\n",
       "      <td>46507011.0</td>\n",
       "      <td>NaN</td>\n",
       "      <td>PA450195</td>\n",
       "      <td>NaN</td>\n",
       "      <td>...</td>\n",
       "      <td>NaN</td>\n",
       "      <td>11916</td>\n",
       "      <td>http://www.rxlist.com/cgi/generic/lepirudin.htm</td>\n",
       "      <td>NaN</td>\n",
       "      <td>Lepirudin</td>\n",
       "      <td>http://www.drugs.com/cdi/lepirudin.html</td>\n",
       "      <td>NaN</td>\n",
       "      <td>NaN</td>\n",
       "      <td>NaN</td>\n",
       "      <td>DAP000541</td>\n",
       "    </tr>\n",
       "    <tr>\n",
       "      <th>DB00002</th>\n",
       "      <td>Cetuximab</td>\n",
       "      <td>205923-56-4</td>\n",
       "      <td>BiotechDrug</td>\n",
       "      <td>NaN</td>\n",
       "      <td>D03455</td>\n",
       "      <td>NaN</td>\n",
       "      <td>46507042.0</td>\n",
       "      <td>NaN</td>\n",
       "      <td>PA10040</td>\n",
       "      <td>NaN</td>\n",
       "      <td>...</td>\n",
       "      <td>J00228</td>\n",
       "      <td>13175</td>\n",
       "      <td>http://www.rxlist.com/cgi/generic3/erbitux.htm</td>\n",
       "      <td>NaN</td>\n",
       "      <td>Cetuximab</td>\n",
       "      <td>http://www.drugs.com/cdi/cetuximab.html</td>\n",
       "      <td>NaN</td>\n",
       "      <td>NaN</td>\n",
       "      <td>NaN</td>\n",
       "      <td>DNC000788</td>\n",
       "    </tr>\n",
       "    <tr>\n",
       "      <th>DB00003</th>\n",
       "      <td>Dornase alfa</td>\n",
       "      <td>143831-71-4</td>\n",
       "      <td>BiotechDrug</td>\n",
       "      <td>NaN</td>\n",
       "      <td>NaN</td>\n",
       "      <td>NaN</td>\n",
       "      <td>46507792.0</td>\n",
       "      <td>NaN</td>\n",
       "      <td>PA10318</td>\n",
       "      <td>NaN</td>\n",
       "      <td>...</td>\n",
       "      <td>M55983</td>\n",
       "      <td>650</td>\n",
       "      <td>http://www.rxlist.com/cgi/generic/pulmozyme.htm</td>\n",
       "      <td>NaN</td>\n",
       "      <td>Dornase_alfa</td>\n",
       "      <td>http://www.drugs.com/cdi/dornase-alfa.html</td>\n",
       "      <td>NaN</td>\n",
       "      <td>NaN</td>\n",
       "      <td>NaN</td>\n",
       "      <td>DAP000981</td>\n",
       "    </tr>\n",
       "    <tr>\n",
       "      <th>DB00004</th>\n",
       "      <td>Denileukin diftitox</td>\n",
       "      <td>173146-27-5</td>\n",
       "      <td>BiotechDrug</td>\n",
       "      <td>NaN</td>\n",
       "      <td>NaN</td>\n",
       "      <td>NaN</td>\n",
       "      <td>46506950.0</td>\n",
       "      <td>NaN</td>\n",
       "      <td>PA164750594</td>\n",
       "      <td>NaN</td>\n",
       "      <td>...</td>\n",
       "      <td>V01536</td>\n",
       "      <td>NaN</td>\n",
       "      <td>http://www.rxlist.com/cgi/generic2/denileukin.htm</td>\n",
       "      <td>NaN</td>\n",
       "      <td>Denileukin_diftitox</td>\n",
       "      <td>http://www.drugs.com/cdi/denileukin-diftitox.html</td>\n",
       "      <td>NaN</td>\n",
       "      <td>NaN</td>\n",
       "      <td>NaN</td>\n",
       "      <td>DAP001098</td>\n",
       "    </tr>\n",
       "    <tr>\n",
       "      <th>DB00005</th>\n",
       "      <td>Etanercept</td>\n",
       "      <td>185243-69-0</td>\n",
       "      <td>BiotechDrug</td>\n",
       "      <td>C07897</td>\n",
       "      <td>D00742</td>\n",
       "      <td>NaN</td>\n",
       "      <td>46506732.0</td>\n",
       "      <td>NaN</td>\n",
       "      <td>PA449515</td>\n",
       "      <td>NaN</td>\n",
       "      <td>...</td>\n",
       "      <td>M32315</td>\n",
       "      <td>12032</td>\n",
       "      <td>http://www.rxlist.com/cgi/generic/etanercept.htm</td>\n",
       "      <td>NaN</td>\n",
       "      <td>Etanercept</td>\n",
       "      <td>http://www.drugs.com/cdi/etanercept.html</td>\n",
       "      <td>NaN</td>\n",
       "      <td>NaN</td>\n",
       "      <td>NaN</td>\n",
       "      <td>DNC000605</td>\n",
       "    </tr>\n",
       "  </tbody>\n",
       "</table>\n",
       "<p>5 rows × 22 columns</p>\n",
       "</div>"
      ],
      "text/plain": [
       "                            Name   CAS Number    Drug Type KEGG Compound ID  \\\n",
       "DrugBank ID                                                                   \n",
       "DB00001                Lepirudin  138068-37-8  BiotechDrug              NaN   \n",
       "DB00002                Cetuximab  205923-56-4  BiotechDrug              NaN   \n",
       "DB00003             Dornase alfa  143831-71-4  BiotechDrug              NaN   \n",
       "DB00004      Denileukin diftitox  173146-27-5  BiotechDrug              NaN   \n",
       "DB00005               Etanercept  185243-69-0  BiotechDrug           C07897   \n",
       "\n",
       "            KEGG Drug ID  PubChem Compound ID  PubChem Substance ID  ChEBI ID  \\\n",
       "DrugBank ID                                                                     \n",
       "DB00001           D06880                  NaN            46507011.0       NaN   \n",
       "DB00002           D03455                  NaN            46507042.0       NaN   \n",
       "DB00003              NaN                  NaN            46507792.0       NaN   \n",
       "DB00004              NaN                  NaN            46506950.0       NaN   \n",
       "DB00005           D00742                  NaN            46506732.0       NaN   \n",
       "\n",
       "             PharmGKB ID HET ID    ...     GenBank ID DPD ID  \\\n",
       "DrugBank ID                        ...                         \n",
       "DB00001         PA450195    NaN    ...            NaN  11916   \n",
       "DB00002          PA10040    NaN    ...         J00228  13175   \n",
       "DB00003          PA10318    NaN    ...         M55983    650   \n",
       "DB00004      PA164750594    NaN    ...         V01536    NaN   \n",
       "DB00005         PA449515    NaN    ...         M32315  12032   \n",
       "\n",
       "                                                   RxList Link Pdrhealth Link  \\\n",
       "DrugBank ID                                                                     \n",
       "DB00001        http://www.rxlist.com/cgi/generic/lepirudin.htm            NaN   \n",
       "DB00002         http://www.rxlist.com/cgi/generic3/erbitux.htm            NaN   \n",
       "DB00003        http://www.rxlist.com/cgi/generic/pulmozyme.htm            NaN   \n",
       "DB00004      http://www.rxlist.com/cgi/generic2/denileukin.htm            NaN   \n",
       "DB00005       http://www.rxlist.com/cgi/generic/etanercept.htm            NaN   \n",
       "\n",
       "                    Wikipedia ID  \\\n",
       "DrugBank ID                        \n",
       "DB00001                Lepirudin   \n",
       "DB00002                Cetuximab   \n",
       "DB00003             Dornase_alfa   \n",
       "DB00004      Denileukin_diftitox   \n",
       "DB00005               Etanercept   \n",
       "\n",
       "                                                Drugs.com Link NDC ID  \\\n",
       "DrugBank ID                                                             \n",
       "DB00001                http://www.drugs.com/cdi/lepirudin.html    NaN   \n",
       "DB00002                http://www.drugs.com/cdi/cetuximab.html    NaN   \n",
       "DB00003             http://www.drugs.com/cdi/dornase-alfa.html    NaN   \n",
       "DB00004      http://www.drugs.com/cdi/denileukin-diftitox.html    NaN   \n",
       "DB00005               http://www.drugs.com/cdi/etanercept.html    NaN   \n",
       "\n",
       "            ChemSpider ID  BindingDB ID     TTD ID  \n",
       "DrugBank ID                                         \n",
       "DB00001               NaN           NaN  DAP000541  \n",
       "DB00002               NaN           NaN  DNC000788  \n",
       "DB00003               NaN           NaN  DAP000981  \n",
       "DB00004               NaN           NaN  DAP001098  \n",
       "DB00005               NaN           NaN  DNC000605  \n",
       "\n",
       "[5 rows x 22 columns]"
      ]
     },
     "execution_count": 10,
     "metadata": {},
     "output_type": "execute_result"
    }
   ],
   "source": [
    "drug_meta.head()"
   ]
  },
  {
   "cell_type": "code",
   "execution_count": 11,
   "metadata": {},
   "outputs": [
    {
     "data": {
      "text/plain": [
       "(10562, 22)"
      ]
     },
     "execution_count": 11,
     "metadata": {},
     "output_type": "execute_result"
    }
   ],
   "source": [
    "drug_meta.shape"
   ]
  },
  {
   "cell_type": "markdown",
   "metadata": {},
   "source": [
    "# Get Relevant Data"
   ]
  },
  {
   "cell_type": "code",
   "execution_count": 12,
   "metadata": {
    "collapsed": true
   },
   "outputs": [],
   "source": [
    "# get only relevetn spcies\n",
    "\n",
    "human = df[df['Species'] == 'Human'].copy()\n",
    "mouse = df[df['Species'] == 'Mouse'].copy()\n",
    "rat = df[df['Species'] == 'Rat'].copy()\n",
    "\n",
    "df = pd.concat([human, mouse])\n",
    "df = pd.concat([df, rat])"
   ]
  },
  {
   "cell_type": "code",
   "execution_count": 13,
   "metadata": {
    "collapsed": true
   },
   "outputs": [],
   "source": [
    "df = df[['Gene Name', 'Drug IDs']]"
   ]
  },
  {
   "cell_type": "code",
   "execution_count": 14,
   "metadata": {},
   "outputs": [
    {
     "data": {
      "text/plain": [
       "(2781, 2)"
      ]
     },
     "execution_count": 14,
     "metadata": {},
     "output_type": "execute_result"
    }
   ],
   "source": [
    "df.shape"
   ]
  },
  {
   "cell_type": "code",
   "execution_count": 15,
   "metadata": {},
   "outputs": [
    {
     "data": {
      "text/html": [
       "<div>\n",
       "<style scoped>\n",
       "    .dataframe tbody tr th:only-of-type {\n",
       "        vertical-align: middle;\n",
       "    }\n",
       "\n",
       "    .dataframe tbody tr th {\n",
       "        vertical-align: top;\n",
       "    }\n",
       "\n",
       "    .dataframe thead th {\n",
       "        text-align: right;\n",
       "    }\n",
       "</style>\n",
       "<table border=\"1\" class=\"dataframe\">\n",
       "  <thead>\n",
       "    <tr style=\"text-align: right;\">\n",
       "      <th></th>\n",
       "      <th>Gene Name</th>\n",
       "      <th>Drug IDs</th>\n",
       "    </tr>\n",
       "  </thead>\n",
       "  <tbody>\n",
       "    <tr>\n",
       "      <th>1</th>\n",
       "      <td>HDC</td>\n",
       "      <td>DB00114; DB00117</td>\n",
       "    </tr>\n",
       "    <tr>\n",
       "      <th>2</th>\n",
       "      <td>GLS2</td>\n",
       "      <td>DB00142</td>\n",
       "    </tr>\n",
       "    <tr>\n",
       "      <th>3</th>\n",
       "      <td>F13A1</td>\n",
       "      <td>DB01839; DB02340; DB11311; DB13151</td>\n",
       "    </tr>\n",
       "    <tr>\n",
       "      <th>4</th>\n",
       "      <td>NOS2</td>\n",
       "      <td>DB00125; DB00155; DB01110; DB01234; DB01686; D...</td>\n",
       "    </tr>\n",
       "    <tr>\n",
       "      <th>5</th>\n",
       "      <td>HSD17B2</td>\n",
       "      <td>DB00157; DB00783</td>\n",
       "    </tr>\n",
       "  </tbody>\n",
       "</table>\n",
       "</div>"
      ],
      "text/plain": [
       "  Gene Name                                           Drug IDs\n",
       "1       HDC                                   DB00114; DB00117\n",
       "2      GLS2                                            DB00142\n",
       "3     F13A1                 DB01839; DB02340; DB11311; DB13151\n",
       "4      NOS2  DB00125; DB00155; DB01110; DB01234; DB01686; D...\n",
       "5   HSD17B2                                   DB00157; DB00783"
      ]
     },
     "execution_count": 15,
     "metadata": {},
     "output_type": "execute_result"
    }
   ],
   "source": [
    "df.head()"
   ]
  },
  {
   "cell_type": "code",
   "execution_count": 16,
   "metadata": {},
   "outputs": [
    {
     "name": "stdout",
     "output_type": "stream",
     "text": [
      "Progeres: 100%  2781 Out of 2781   \r"
     ]
    }
   ],
   "source": [
    "df_interactions = pd.DataFrame()\n",
    "\n",
    "for i, index in enumerate(df.index):\n",
    "    \n",
    "    progressPercent = ((i+1)/len(df.index))*100\n",
    "\n",
    "    sys.stdout.write(\"Progeres: %d%%  %d Out of %d   \\r\" % (progressPercent, (i+1), len(df.index)))\n",
    "    sys.stdout.flush()\n",
    "    \n",
    "    if type(df.loc[index, 'Gene Name']) != float:\n",
    "        lst2 = df.loc[index, 'Drug IDs'].split(';')\n",
    "        lst1 = [df.loc[index, 'Gene Name'].split('(')[0]]*(len(lst2))\n",
    "        temp = pd.DataFrame()\n",
    "        temp['Drug'] = lst2\n",
    "        temp['Gene Name'] = lst1\n",
    "        df_interactions = pd.concat([df_interactions, temp]) "
   ]
  },
  {
   "cell_type": "code",
   "execution_count": 17,
   "metadata": {},
   "outputs": [
    {
     "data": {
      "text/html": [
       "<div>\n",
       "<style scoped>\n",
       "    .dataframe tbody tr th:only-of-type {\n",
       "        vertical-align: middle;\n",
       "    }\n",
       "\n",
       "    .dataframe tbody tr th {\n",
       "        vertical-align: top;\n",
       "    }\n",
       "\n",
       "    .dataframe thead th {\n",
       "        text-align: right;\n",
       "    }\n",
       "</style>\n",
       "<table border=\"1\" class=\"dataframe\">\n",
       "  <thead>\n",
       "    <tr style=\"text-align: right;\">\n",
       "      <th></th>\n",
       "      <th>Drug</th>\n",
       "      <th>Gene Name</th>\n",
       "    </tr>\n",
       "  </thead>\n",
       "  <tbody>\n",
       "    <tr>\n",
       "      <th>0</th>\n",
       "      <td>DB00114</td>\n",
       "      <td>HDC</td>\n",
       "    </tr>\n",
       "    <tr>\n",
       "      <th>1</th>\n",
       "      <td>DB00117</td>\n",
       "      <td>HDC</td>\n",
       "    </tr>\n",
       "    <tr>\n",
       "      <th>0</th>\n",
       "      <td>DB00142</td>\n",
       "      <td>GLS2</td>\n",
       "    </tr>\n",
       "    <tr>\n",
       "      <th>0</th>\n",
       "      <td>DB01839</td>\n",
       "      <td>F13A1</td>\n",
       "    </tr>\n",
       "    <tr>\n",
       "      <th>1</th>\n",
       "      <td>DB02340</td>\n",
       "      <td>F13A1</td>\n",
       "    </tr>\n",
       "  </tbody>\n",
       "</table>\n",
       "</div>"
      ],
      "text/plain": [
       "       Drug Gene Name\n",
       "0   DB00114       HDC\n",
       "1   DB00117       HDC\n",
       "0   DB00142      GLS2\n",
       "0   DB01839     F13A1\n",
       "1   DB02340     F13A1"
      ]
     },
     "execution_count": 17,
     "metadata": {},
     "output_type": "execute_result"
    }
   ],
   "source": [
    "df_interactions.head()"
   ]
  },
  {
   "cell_type": "code",
   "execution_count": 18,
   "metadata": {},
   "outputs": [
    {
     "data": {
      "text/plain": [
       "(13579, 2)"
      ]
     },
     "execution_count": 18,
     "metadata": {},
     "output_type": "execute_result"
    }
   ],
   "source": [
    "df_interactions.shape"
   ]
  },
  {
   "cell_type": "markdown",
   "metadata": {},
   "source": [
    "# Map Drug Id's to drug names"
   ]
  },
  {
   "cell_type": "code",
   "execution_count": 19,
   "metadata": {
    "collapsed": true
   },
   "outputs": [],
   "source": [
    "df_interactions.reset_index(inplace=True)"
   ]
  },
  {
   "cell_type": "code",
   "execution_count": 20,
   "metadata": {
    "collapsed": true
   },
   "outputs": [],
   "source": [
    "df_interactions.drop('index', axis=1, inplace=True)"
   ]
  },
  {
   "cell_type": "code",
   "execution_count": 21,
   "metadata": {},
   "outputs": [
    {
     "name": "stdout",
     "output_type": "stream",
     "text": [
      "Progeres: 99%  13465 Out of 13579   \r"
     ]
    }
   ],
   "source": [
    "lst = []\n",
    "\n",
    "for i, index in enumerate(df_interactions.index):\n",
    "    \n",
    "    progressPercent = ((i+1)/len(df_interactions.index))*100\n",
    "\n",
    "    sys.stdout.write(\"Progeres: %d%%  %d Out of %d   \\r\" % (progressPercent, (i+1), len(df_interactions.index)))\n",
    "    sys.stdout.flush()\n",
    "    \n",
    "    if len(df_interactions.loc[index, 'Drug'].split(' ')) > 1:\n",
    "        lst.append(drug_meta.loc[df_interactions.loc[index, 'Drug'].split(' ')[1],'Name'])\n",
    "    else:\n",
    "        lst.append(drug_meta.loc[df_interactions.loc[index, 'Drug'],'Name'])\n",
    "        \n",
    "df_interactions['Drug'] = lst"
   ]
  },
  {
   "cell_type": "markdown",
   "metadata": {},
   "source": [
    "# Map Gene Symbols To Up-to-date Approved Gene Symbols"
   ]
  },
  {
   "cell_type": "code",
   "execution_count": 22,
   "metadata": {
    "collapsed": true
   },
   "outputs": [],
   "source": [
    "df_interactions.set_index('Gene Name', inplace=True)"
   ]
  },
  {
   "cell_type": "code",
   "execution_count": 23,
   "metadata": {},
   "outputs": [
    {
     "name": "stdout",
     "output_type": "stream",
     "text": [
      "Progeres: 100%  13579 Out of 13579   \r"
     ]
    }
   ],
   "source": [
    "uf.mapgenesymbols(df_interactions)"
   ]
  },
  {
   "cell_type": "markdown",
   "metadata": {},
   "source": [
    "# Drop Duplicates"
   ]
  },
  {
   "cell_type": "code",
   "execution_count": 24,
   "metadata": {
    "collapsed": true
   },
   "outputs": [],
   "source": [
    "df_interactions.reset_index(inplace=True)"
   ]
  },
  {
   "cell_type": "code",
   "execution_count": 25,
   "metadata": {
    "collapsed": true
   },
   "outputs": [],
   "source": [
    "df_interactions.drop_duplicates(inplace=True)"
   ]
  },
  {
   "cell_type": "code",
   "execution_count": 26,
   "metadata": {},
   "outputs": [
    {
     "data": {
      "text/plain": [
       "(13355, 2)"
      ]
     },
     "execution_count": 26,
     "metadata": {},
     "output_type": "execute_result"
    }
   ],
   "source": [
    "df_interactions.shape"
   ]
  },
  {
   "cell_type": "markdown",
   "metadata": {},
   "source": [
    "# Create Binary Matrix"
   ]
  },
  {
   "cell_type": "code",
   "execution_count": 27,
   "metadata": {},
   "outputs": [
    {
     "name": "stdout",
     "output_type": "stream",
     "text": [
      "Progeres: 100%  2532 Out of 2532   \r"
     ]
    }
   ],
   "source": [
    "binary_matrix = uf.createBinaryMatrix(df_interactions)"
   ]
  },
  {
   "cell_type": "code",
   "execution_count": 28,
   "metadata": {},
   "outputs": [
    {
     "data": {
      "text/html": [
       "<div>\n",
       "<style scoped>\n",
       "    .dataframe tbody tr th:only-of-type {\n",
       "        vertical-align: middle;\n",
       "    }\n",
       "\n",
       "    .dataframe tbody tr th {\n",
       "        vertical-align: top;\n",
       "    }\n",
       "\n",
       "    .dataframe thead th {\n",
       "        text-align: right;\n",
       "    }\n",
       "</style>\n",
       "<table border=\"1\" class=\"dataframe\">\n",
       "  <thead>\n",
       "    <tr style=\"text-align: right;\">\n",
       "      <th></th>\n",
       "      <th>Corticosterone</th>\n",
       "      <th>2-Chlorophenol</th>\n",
       "      <th>Emedastine</th>\n",
       "      <th>Phosphorylisopropane</th>\n",
       "      <th>3-(1-NAPHTHYLMETHOXY)PYRIDIN-2-AMINE</th>\n",
       "      <th>Saxagliptin</th>\n",
       "      <th>Malonic acid</th>\n",
       "      <th>Levothyroxine</th>\n",
       "      <th>Phenelzine</th>\n",
       "      <th>Guanosine-5'-Monophosphate</th>\n",
       "      <th>...</th>\n",
       "      <th>Fudp</th>\n",
       "      <th>Dienogest</th>\n",
       "      <th>Lysergic Acid Diethylamide</th>\n",
       "      <th>beta-phenyl-D-phenylalanyl-N-propyl-L-prolinamide</th>\n",
       "      <th>Ketoprofen</th>\n",
       "      <th>Capecitabine</th>\n",
       "      <th>Methacrylyl-Coenzyme A</th>\n",
       "      <th>1-deoxymannojirimycin</th>\n",
       "      <th>Phosphonothreonine</th>\n",
       "      <th>N'-(5-chloro-1,3-benzodioxol-4-yl)-N-(3-methylsulfonylphenyl)pyrimidine-2,4-diamine</th>\n",
       "    </tr>\n",
       "  </thead>\n",
       "  <tbody>\n",
       "    <tr>\n",
       "      <th>PDE5A</th>\n",
       "      <td>0</td>\n",
       "      <td>0</td>\n",
       "      <td>0</td>\n",
       "      <td>0</td>\n",
       "      <td>0</td>\n",
       "      <td>0</td>\n",
       "      <td>0</td>\n",
       "      <td>0</td>\n",
       "      <td>0</td>\n",
       "      <td>1</td>\n",
       "      <td>...</td>\n",
       "      <td>0</td>\n",
       "      <td>0</td>\n",
       "      <td>0</td>\n",
       "      <td>0</td>\n",
       "      <td>0</td>\n",
       "      <td>0</td>\n",
       "      <td>0</td>\n",
       "      <td>0</td>\n",
       "      <td>0</td>\n",
       "      <td>0</td>\n",
       "    </tr>\n",
       "    <tr>\n",
       "      <th>PLD1</th>\n",
       "      <td>0</td>\n",
       "      <td>0</td>\n",
       "      <td>0</td>\n",
       "      <td>0</td>\n",
       "      <td>0</td>\n",
       "      <td>0</td>\n",
       "      <td>0</td>\n",
       "      <td>0</td>\n",
       "      <td>0</td>\n",
       "      <td>0</td>\n",
       "      <td>...</td>\n",
       "      <td>0</td>\n",
       "      <td>0</td>\n",
       "      <td>0</td>\n",
       "      <td>0</td>\n",
       "      <td>0</td>\n",
       "      <td>0</td>\n",
       "      <td>0</td>\n",
       "      <td>0</td>\n",
       "      <td>0</td>\n",
       "      <td>0</td>\n",
       "    </tr>\n",
       "    <tr>\n",
       "      <th>KCNC3</th>\n",
       "      <td>0</td>\n",
       "      <td>0</td>\n",
       "      <td>0</td>\n",
       "      <td>0</td>\n",
       "      <td>0</td>\n",
       "      <td>0</td>\n",
       "      <td>0</td>\n",
       "      <td>0</td>\n",
       "      <td>0</td>\n",
       "      <td>0</td>\n",
       "      <td>...</td>\n",
       "      <td>0</td>\n",
       "      <td>0</td>\n",
       "      <td>0</td>\n",
       "      <td>0</td>\n",
       "      <td>0</td>\n",
       "      <td>0</td>\n",
       "      <td>0</td>\n",
       "      <td>0</td>\n",
       "      <td>0</td>\n",
       "      <td>0</td>\n",
       "    </tr>\n",
       "    <tr>\n",
       "      <th>PAFAH1B3</th>\n",
       "      <td>0</td>\n",
       "      <td>0</td>\n",
       "      <td>0</td>\n",
       "      <td>0</td>\n",
       "      <td>0</td>\n",
       "      <td>0</td>\n",
       "      <td>0</td>\n",
       "      <td>0</td>\n",
       "      <td>0</td>\n",
       "      <td>0</td>\n",
       "      <td>...</td>\n",
       "      <td>0</td>\n",
       "      <td>0</td>\n",
       "      <td>0</td>\n",
       "      <td>0</td>\n",
       "      <td>0</td>\n",
       "      <td>0</td>\n",
       "      <td>0</td>\n",
       "      <td>0</td>\n",
       "      <td>0</td>\n",
       "      <td>0</td>\n",
       "    </tr>\n",
       "    <tr>\n",
       "      <th>SLC1A4</th>\n",
       "      <td>0</td>\n",
       "      <td>0</td>\n",
       "      <td>0</td>\n",
       "      <td>0</td>\n",
       "      <td>0</td>\n",
       "      <td>0</td>\n",
       "      <td>0</td>\n",
       "      <td>0</td>\n",
       "      <td>0</td>\n",
       "      <td>0</td>\n",
       "      <td>...</td>\n",
       "      <td>0</td>\n",
       "      <td>0</td>\n",
       "      <td>0</td>\n",
       "      <td>0</td>\n",
       "      <td>0</td>\n",
       "      <td>0</td>\n",
       "      <td>0</td>\n",
       "      <td>0</td>\n",
       "      <td>0</td>\n",
       "      <td>0</td>\n",
       "    </tr>\n",
       "  </tbody>\n",
       "</table>\n",
       "<p>5 rows × 5108 columns</p>\n",
       "</div>"
      ],
      "text/plain": [
       "          Corticosterone  2-Chlorophenol  Emedastine  Phosphorylisopropane  \\\n",
       "PDE5A                  0               0           0                     0   \n",
       "PLD1                   0               0           0                     0   \n",
       "KCNC3                  0               0           0                     0   \n",
       "PAFAH1B3               0               0           0                     0   \n",
       "SLC1A4                 0               0           0                     0   \n",
       "\n",
       "          3-(1-NAPHTHYLMETHOXY)PYRIDIN-2-AMINE  Saxagliptin  Malonic acid  \\\n",
       "PDE5A                                        0            0             0   \n",
       "PLD1                                         0            0             0   \n",
       "KCNC3                                        0            0             0   \n",
       "PAFAH1B3                                     0            0             0   \n",
       "SLC1A4                                       0            0             0   \n",
       "\n",
       "          Levothyroxine  Phenelzine  Guanosine-5'-Monophosphate  \\\n",
       "PDE5A                 0           0                           1   \n",
       "PLD1                  0           0                           0   \n",
       "KCNC3                 0           0                           0   \n",
       "PAFAH1B3              0           0                           0   \n",
       "SLC1A4                0           0                           0   \n",
       "\n",
       "                                                 ...                                           \\\n",
       "PDE5A                                            ...                                            \n",
       "PLD1                                             ...                                            \n",
       "KCNC3                                            ...                                            \n",
       "PAFAH1B3                                         ...                                            \n",
       "SLC1A4                                           ...                                            \n",
       "\n",
       "          Fudp  Dienogest  Lysergic Acid Diethylamide  \\\n",
       "PDE5A        0          0                           0   \n",
       "PLD1         0          0                           0   \n",
       "KCNC3        0          0                           0   \n",
       "PAFAH1B3     0          0                           0   \n",
       "SLC1A4       0          0                           0   \n",
       "\n",
       "          beta-phenyl-D-phenylalanyl-N-propyl-L-prolinamide  Ketoprofen  \\\n",
       "PDE5A                                                     0           0   \n",
       "PLD1                                                      0           0   \n",
       "KCNC3                                                     0           0   \n",
       "PAFAH1B3                                                  0           0   \n",
       "SLC1A4                                                    0           0   \n",
       "\n",
       "          Capecitabine  Methacrylyl-Coenzyme A  1-deoxymannojirimycin  \\\n",
       "PDE5A                0                       0                      0   \n",
       "PLD1                 0                       0                      0   \n",
       "KCNC3                0                       0                      0   \n",
       "PAFAH1B3             0                       0                      0   \n",
       "SLC1A4               0                       0                      0   \n",
       "\n",
       "          Phosphonothreonine  \\\n",
       "PDE5A                      0   \n",
       "PLD1                       0   \n",
       "KCNC3                      0   \n",
       "PAFAH1B3                   0   \n",
       "SLC1A4                     0   \n",
       "\n",
       "          N'-(5-chloro-1,3-benzodioxol-4-yl)-N-(3-methylsulfonylphenyl)pyrimidine-2,4-diamine  \n",
       "PDE5A                                                     0                                    \n",
       "PLD1                                                      0                                    \n",
       "KCNC3                                                     0                                    \n",
       "PAFAH1B3                                                  0                                    \n",
       "SLC1A4                                                    0                                    \n",
       "\n",
       "[5 rows x 5108 columns]"
      ]
     },
     "execution_count": 28,
     "metadata": {},
     "output_type": "execute_result"
    }
   ],
   "source": [
    "binary_matrix.head()"
   ]
  },
  {
   "cell_type": "code",
   "execution_count": 29,
   "metadata": {},
   "outputs": [
    {
     "data": {
      "text/plain": [
       "(2532, 5108)"
      ]
     },
     "execution_count": 29,
     "metadata": {},
     "output_type": "execute_result"
    }
   ],
   "source": [
    "binary_matrix.shape"
   ]
  },
  {
   "cell_type": "markdown",
   "metadata": {},
   "source": [
    "# Save Binary Matrix"
   ]
  },
  {
   "cell_type": "code",
   "execution_count": 30,
   "metadata": {
    "collapsed": true
   },
   "outputs": [],
   "source": [
    "filename = path+'drugbank_target_binary_matrix_%s.tsv.zip'% str(datetime.date.today())[0:7].replace('-', '_')\n",
    "binary_matrix.to_csv(filename, sep='\\t', compression='gzip')"
   ]
  },
  {
   "cell_type": "markdown",
   "metadata": {},
   "source": [
    "# Create Gene Set Library"
   ]
  },
  {
   "cell_type": "code",
   "execution_count": 31,
   "metadata": {
    "collapsed": true
   },
   "outputs": [],
   "source": [
    "name = 'drugbank_target_gene_set'"
   ]
  },
  {
   "cell_type": "code",
   "execution_count": 32,
   "metadata": {},
   "outputs": [
    {
     "name": "stdout",
     "output_type": "stream",
     "text": [
      "Progeres: 100%  5108 Out of 5108   \r"
     ]
    }
   ],
   "source": [
    "uf.createUpGeneSetLib(binary_matrix, path, name)"
   ]
  },
  {
   "cell_type": "markdown",
   "metadata": {},
   "source": [
    "# Create Attribute Library"
   ]
  },
  {
   "cell_type": "code",
   "execution_count": 33,
   "metadata": {
    "collapsed": true
   },
   "outputs": [],
   "source": [
    "name = 'drugbank_target_attribute_set'"
   ]
  },
  {
   "cell_type": "code",
   "execution_count": 34,
   "metadata": {},
   "outputs": [
    {
     "name": "stdout",
     "output_type": "stream",
     "text": [
      "Progeres: 100%  2532 Out of 2532   \r"
     ]
    }
   ],
   "source": [
    "uf.createUpAttributeSetLib(binary_matrix, path, name)"
   ]
  },
  {
   "cell_type": "markdown",
   "metadata": {},
   "source": [
    "# Create Gene Similarity Matrix"
   ]
  },
  {
   "cell_type": "code",
   "execution_count": 35,
   "metadata": {
    "collapsed": true
   },
   "outputs": [],
   "source": [
    "gene_similarity_matix = uf.createSimilarityMatrix(binary_matrix, 'jaccard')"
   ]
  },
  {
   "cell_type": "code",
   "execution_count": 36,
   "metadata": {},
   "outputs": [
    {
     "data": {
      "text/html": [
       "<div>\n",
       "<style scoped>\n",
       "    .dataframe tbody tr th:only-of-type {\n",
       "        vertical-align: middle;\n",
       "    }\n",
       "\n",
       "    .dataframe tbody tr th {\n",
       "        vertical-align: top;\n",
       "    }\n",
       "\n",
       "    .dataframe thead th {\n",
       "        text-align: right;\n",
       "    }\n",
       "</style>\n",
       "<table border=\"1\" class=\"dataframe\">\n",
       "  <thead>\n",
       "    <tr style=\"text-align: right;\">\n",
       "      <th></th>\n",
       "      <th>PDE5A</th>\n",
       "      <th>PLD1</th>\n",
       "      <th>KCNC3</th>\n",
       "      <th>PAFAH1B3</th>\n",
       "      <th>SLC1A4</th>\n",
       "      <th>MAP2K2</th>\n",
       "      <th>UQCRFS1</th>\n",
       "      <th>IGFALS</th>\n",
       "      <th>FCGR3A</th>\n",
       "      <th>ATF2</th>\n",
       "      <th>...</th>\n",
       "      <th>NDUFV1</th>\n",
       "      <th>CTLA4</th>\n",
       "      <th>ARAF</th>\n",
       "      <th>TGFB1</th>\n",
       "      <th>RDH8</th>\n",
       "      <th>S100A11</th>\n",
       "      <th>SLC7A7</th>\n",
       "      <th>KCNC2</th>\n",
       "      <th>GAPDHS</th>\n",
       "      <th>ACAD8</th>\n",
       "    </tr>\n",
       "    <tr>\n",
       "      <th></th>\n",
       "      <th></th>\n",
       "      <th></th>\n",
       "      <th></th>\n",
       "      <th></th>\n",
       "      <th></th>\n",
       "      <th></th>\n",
       "      <th></th>\n",
       "      <th></th>\n",
       "      <th></th>\n",
       "      <th></th>\n",
       "      <th></th>\n",
       "      <th></th>\n",
       "      <th></th>\n",
       "      <th></th>\n",
       "      <th></th>\n",
       "      <th></th>\n",
       "      <th></th>\n",
       "      <th></th>\n",
       "      <th></th>\n",
       "      <th></th>\n",
       "      <th></th>\n",
       "    </tr>\n",
       "  </thead>\n",
       "  <tbody>\n",
       "    <tr>\n",
       "      <th>PDE5A</th>\n",
       "      <td>1.0</td>\n",
       "      <td>0.0</td>\n",
       "      <td>0.0</td>\n",
       "      <td>0.0</td>\n",
       "      <td>0.0</td>\n",
       "      <td>0.0</td>\n",
       "      <td>0.0</td>\n",
       "      <td>0.0</td>\n",
       "      <td>0.0</td>\n",
       "      <td>0.0</td>\n",
       "      <td>...</td>\n",
       "      <td>0.0</td>\n",
       "      <td>0.0</td>\n",
       "      <td>0.0</td>\n",
       "      <td>0.0</td>\n",
       "      <td>0.0</td>\n",
       "      <td>0.0</td>\n",
       "      <td>0.0</td>\n",
       "      <td>0.0</td>\n",
       "      <td>0.0</td>\n",
       "      <td>0.0</td>\n",
       "    </tr>\n",
       "    <tr>\n",
       "      <th>PLD1</th>\n",
       "      <td>0.0</td>\n",
       "      <td>1.0</td>\n",
       "      <td>0.0</td>\n",
       "      <td>0.0</td>\n",
       "      <td>0.0</td>\n",
       "      <td>0.0</td>\n",
       "      <td>0.0</td>\n",
       "      <td>0.0</td>\n",
       "      <td>0.0</td>\n",
       "      <td>0.0</td>\n",
       "      <td>...</td>\n",
       "      <td>0.0</td>\n",
       "      <td>0.0</td>\n",
       "      <td>0.0</td>\n",
       "      <td>0.0</td>\n",
       "      <td>0.0</td>\n",
       "      <td>0.0</td>\n",
       "      <td>0.0</td>\n",
       "      <td>0.0</td>\n",
       "      <td>0.0</td>\n",
       "      <td>0.0</td>\n",
       "    </tr>\n",
       "    <tr>\n",
       "      <th>KCNC3</th>\n",
       "      <td>0.0</td>\n",
       "      <td>0.0</td>\n",
       "      <td>1.0</td>\n",
       "      <td>0.0</td>\n",
       "      <td>0.0</td>\n",
       "      <td>0.0</td>\n",
       "      <td>0.0</td>\n",
       "      <td>0.0</td>\n",
       "      <td>0.0</td>\n",
       "      <td>0.0</td>\n",
       "      <td>...</td>\n",
       "      <td>0.0</td>\n",
       "      <td>0.0</td>\n",
       "      <td>0.0</td>\n",
       "      <td>0.0</td>\n",
       "      <td>0.0</td>\n",
       "      <td>0.0</td>\n",
       "      <td>0.0</td>\n",
       "      <td>1.0</td>\n",
       "      <td>0.0</td>\n",
       "      <td>0.0</td>\n",
       "    </tr>\n",
       "    <tr>\n",
       "      <th>PAFAH1B3</th>\n",
       "      <td>0.0</td>\n",
       "      <td>0.0</td>\n",
       "      <td>0.0</td>\n",
       "      <td>1.0</td>\n",
       "      <td>0.0</td>\n",
       "      <td>0.0</td>\n",
       "      <td>0.0</td>\n",
       "      <td>0.0</td>\n",
       "      <td>0.0</td>\n",
       "      <td>0.0</td>\n",
       "      <td>...</td>\n",
       "      <td>0.0</td>\n",
       "      <td>0.0</td>\n",
       "      <td>0.0</td>\n",
       "      <td>0.0</td>\n",
       "      <td>0.0</td>\n",
       "      <td>0.0</td>\n",
       "      <td>0.0</td>\n",
       "      <td>0.0</td>\n",
       "      <td>0.0</td>\n",
       "      <td>0.0</td>\n",
       "    </tr>\n",
       "    <tr>\n",
       "      <th>SLC1A4</th>\n",
       "      <td>0.0</td>\n",
       "      <td>0.0</td>\n",
       "      <td>0.0</td>\n",
       "      <td>0.0</td>\n",
       "      <td>1.0</td>\n",
       "      <td>0.0</td>\n",
       "      <td>0.0</td>\n",
       "      <td>0.0</td>\n",
       "      <td>0.0</td>\n",
       "      <td>0.0</td>\n",
       "      <td>...</td>\n",
       "      <td>0.0</td>\n",
       "      <td>0.0</td>\n",
       "      <td>0.0</td>\n",
       "      <td>0.0</td>\n",
       "      <td>0.0</td>\n",
       "      <td>0.0</td>\n",
       "      <td>0.0</td>\n",
       "      <td>0.0</td>\n",
       "      <td>0.0</td>\n",
       "      <td>0.0</td>\n",
       "    </tr>\n",
       "  </tbody>\n",
       "</table>\n",
       "<p>5 rows × 2532 columns</p>\n",
       "</div>"
      ],
      "text/plain": [
       "          PDE5A  PLD1  KCNC3  PAFAH1B3  SLC1A4  MAP2K2  UQCRFS1  IGFALS  \\\n",
       "                                                                          \n",
       "PDE5A       1.0   0.0    0.0       0.0     0.0     0.0      0.0     0.0   \n",
       "PLD1        0.0   1.0    0.0       0.0     0.0     0.0      0.0     0.0   \n",
       "KCNC3       0.0   0.0    1.0       0.0     0.0     0.0      0.0     0.0   \n",
       "PAFAH1B3    0.0   0.0    0.0       1.0     0.0     0.0      0.0     0.0   \n",
       "SLC1A4      0.0   0.0    0.0       0.0     1.0     0.0      0.0     0.0   \n",
       "\n",
       "          FCGR3A  ATF2  ...    NDUFV1  CTLA4  ARAF  TGFB1  RDH8  S100A11  \\\n",
       "                        ...                                                \n",
       "PDE5A        0.0   0.0  ...       0.0    0.0   0.0    0.0   0.0      0.0   \n",
       "PLD1         0.0   0.0  ...       0.0    0.0   0.0    0.0   0.0      0.0   \n",
       "KCNC3        0.0   0.0  ...       0.0    0.0   0.0    0.0   0.0      0.0   \n",
       "PAFAH1B3     0.0   0.0  ...       0.0    0.0   0.0    0.0   0.0      0.0   \n",
       "SLC1A4       0.0   0.0  ...       0.0    0.0   0.0    0.0   0.0      0.0   \n",
       "\n",
       "          SLC7A7  KCNC2  GAPDHS  ACAD8  \n",
       "                                        \n",
       "PDE5A        0.0    0.0     0.0    0.0  \n",
       "PLD1         0.0    0.0     0.0    0.0  \n",
       "KCNC3        0.0    1.0     0.0    0.0  \n",
       "PAFAH1B3     0.0    0.0     0.0    0.0  \n",
       "SLC1A4       0.0    0.0     0.0    0.0  \n",
       "\n",
       "[5 rows x 2532 columns]"
      ]
     },
     "execution_count": 36,
     "metadata": {},
     "output_type": "execute_result"
    }
   ],
   "source": [
    "gene_similarity_matix.head()"
   ]
  },
  {
   "cell_type": "markdown",
   "metadata": {},
   "source": [
    "# Save Gene Similarity Matrix"
   ]
  },
  {
   "cell_type": "code",
   "execution_count": 37,
   "metadata": {
    "collapsed": true
   },
   "outputs": [],
   "source": [
    "filename = path+'drugbank_target_gene_similarity_matix_%s.tsv.zip'% str(datetime.date.today())[0:7].replace('-', '_')\n",
    "gene_similarity_matix.to_csv(filename, sep='\\t', compression='gzip')"
   ]
  },
  {
   "cell_type": "markdown",
   "metadata": {},
   "source": [
    "# Create Attribute Similarity matrix"
   ]
  },
  {
   "cell_type": "code",
   "execution_count": 38,
   "metadata": {
    "collapsed": true
   },
   "outputs": [],
   "source": [
    "attribute_similarity_matix = uf.createSimilarityMatrix(binary_matrix.T, 'jaccard')"
   ]
  },
  {
   "cell_type": "code",
   "execution_count": 39,
   "metadata": {},
   "outputs": [
    {
     "data": {
      "text/html": [
       "<div>\n",
       "<style scoped>\n",
       "    .dataframe tbody tr th:only-of-type {\n",
       "        vertical-align: middle;\n",
       "    }\n",
       "\n",
       "    .dataframe tbody tr th {\n",
       "        vertical-align: top;\n",
       "    }\n",
       "\n",
       "    .dataframe thead th {\n",
       "        text-align: right;\n",
       "    }\n",
       "</style>\n",
       "<table border=\"1\" class=\"dataframe\">\n",
       "  <thead>\n",
       "    <tr style=\"text-align: right;\">\n",
       "      <th></th>\n",
       "      <th>Corticosterone</th>\n",
       "      <th>2-Chlorophenol</th>\n",
       "      <th>Emedastine</th>\n",
       "      <th>Phosphorylisopropane</th>\n",
       "      <th>3-(1-NAPHTHYLMETHOXY)PYRIDIN-2-AMINE</th>\n",
       "      <th>Saxagliptin</th>\n",
       "      <th>Malonic acid</th>\n",
       "      <th>Levothyroxine</th>\n",
       "      <th>Phenelzine</th>\n",
       "      <th>Guanosine-5'-Monophosphate</th>\n",
       "      <th>...</th>\n",
       "      <th>Fudp</th>\n",
       "      <th>Dienogest</th>\n",
       "      <th>Lysergic Acid Diethylamide</th>\n",
       "      <th>beta-phenyl-D-phenylalanyl-N-propyl-L-prolinamide</th>\n",
       "      <th>Ketoprofen</th>\n",
       "      <th>Capecitabine</th>\n",
       "      <th>Methacrylyl-Coenzyme A</th>\n",
       "      <th>1-deoxymannojirimycin</th>\n",
       "      <th>Phosphonothreonine</th>\n",
       "      <th>N'-(5-chloro-1,3-benzodioxol-4-yl)-N-(3-methylsulfonylphenyl)pyrimidine-2,4-diamine</th>\n",
       "    </tr>\n",
       "    <tr>\n",
       "      <th></th>\n",
       "      <th></th>\n",
       "      <th></th>\n",
       "      <th></th>\n",
       "      <th></th>\n",
       "      <th></th>\n",
       "      <th></th>\n",
       "      <th></th>\n",
       "      <th></th>\n",
       "      <th></th>\n",
       "      <th></th>\n",
       "      <th></th>\n",
       "      <th></th>\n",
       "      <th></th>\n",
       "      <th></th>\n",
       "      <th></th>\n",
       "      <th></th>\n",
       "      <th></th>\n",
       "      <th></th>\n",
       "      <th></th>\n",
       "      <th></th>\n",
       "      <th></th>\n",
       "    </tr>\n",
       "  </thead>\n",
       "  <tbody>\n",
       "    <tr>\n",
       "      <th>Corticosterone</th>\n",
       "      <td>1.0</td>\n",
       "      <td>0.0</td>\n",
       "      <td>0.0</td>\n",
       "      <td>0.0</td>\n",
       "      <td>0.0</td>\n",
       "      <td>0.0</td>\n",
       "      <td>0.0</td>\n",
       "      <td>0.0</td>\n",
       "      <td>0.0</td>\n",
       "      <td>0.0</td>\n",
       "      <td>...</td>\n",
       "      <td>0.0</td>\n",
       "      <td>0.0</td>\n",
       "      <td>0.0</td>\n",
       "      <td>0.0</td>\n",
       "      <td>0.0</td>\n",
       "      <td>0.0</td>\n",
       "      <td>0.0</td>\n",
       "      <td>0.0</td>\n",
       "      <td>0.0</td>\n",
       "      <td>0.0</td>\n",
       "    </tr>\n",
       "    <tr>\n",
       "      <th>2-Chlorophenol</th>\n",
       "      <td>0.0</td>\n",
       "      <td>1.0</td>\n",
       "      <td>0.0</td>\n",
       "      <td>0.0</td>\n",
       "      <td>1.0</td>\n",
       "      <td>0.0</td>\n",
       "      <td>0.0</td>\n",
       "      <td>0.0</td>\n",
       "      <td>0.0</td>\n",
       "      <td>0.0</td>\n",
       "      <td>...</td>\n",
       "      <td>0.0</td>\n",
       "      <td>0.0</td>\n",
       "      <td>0.0</td>\n",
       "      <td>0.0</td>\n",
       "      <td>0.0</td>\n",
       "      <td>0.0</td>\n",
       "      <td>0.0</td>\n",
       "      <td>0.0</td>\n",
       "      <td>0.0</td>\n",
       "      <td>0.0</td>\n",
       "    </tr>\n",
       "    <tr>\n",
       "      <th>Emedastine</th>\n",
       "      <td>0.0</td>\n",
       "      <td>0.0</td>\n",
       "      <td>1.0</td>\n",
       "      <td>0.0</td>\n",
       "      <td>0.0</td>\n",
       "      <td>0.0</td>\n",
       "      <td>0.0</td>\n",
       "      <td>0.0</td>\n",
       "      <td>0.0</td>\n",
       "      <td>0.0</td>\n",
       "      <td>...</td>\n",
       "      <td>0.0</td>\n",
       "      <td>0.0</td>\n",
       "      <td>0.0</td>\n",
       "      <td>0.0</td>\n",
       "      <td>0.0</td>\n",
       "      <td>0.0</td>\n",
       "      <td>0.0</td>\n",
       "      <td>0.0</td>\n",
       "      <td>0.0</td>\n",
       "      <td>0.0</td>\n",
       "    </tr>\n",
       "    <tr>\n",
       "      <th>Phosphorylisopropane</th>\n",
       "      <td>0.0</td>\n",
       "      <td>0.0</td>\n",
       "      <td>0.0</td>\n",
       "      <td>1.0</td>\n",
       "      <td>0.0</td>\n",
       "      <td>0.0</td>\n",
       "      <td>0.0</td>\n",
       "      <td>0.0</td>\n",
       "      <td>0.0</td>\n",
       "      <td>0.0</td>\n",
       "      <td>...</td>\n",
       "      <td>0.0</td>\n",
       "      <td>0.0</td>\n",
       "      <td>0.0</td>\n",
       "      <td>0.0</td>\n",
       "      <td>0.0</td>\n",
       "      <td>0.0</td>\n",
       "      <td>0.0</td>\n",
       "      <td>0.0</td>\n",
       "      <td>0.0</td>\n",
       "      <td>0.0</td>\n",
       "    </tr>\n",
       "    <tr>\n",
       "      <th>3-(1-NAPHTHYLMETHOXY)PYRIDIN-2-AMINE</th>\n",
       "      <td>0.0</td>\n",
       "      <td>1.0</td>\n",
       "      <td>0.0</td>\n",
       "      <td>0.0</td>\n",
       "      <td>1.0</td>\n",
       "      <td>0.0</td>\n",
       "      <td>0.0</td>\n",
       "      <td>0.0</td>\n",
       "      <td>0.0</td>\n",
       "      <td>0.0</td>\n",
       "      <td>...</td>\n",
       "      <td>0.0</td>\n",
       "      <td>0.0</td>\n",
       "      <td>0.0</td>\n",
       "      <td>0.0</td>\n",
       "      <td>0.0</td>\n",
       "      <td>0.0</td>\n",
       "      <td>0.0</td>\n",
       "      <td>0.0</td>\n",
       "      <td>0.0</td>\n",
       "      <td>0.0</td>\n",
       "    </tr>\n",
       "  </tbody>\n",
       "</table>\n",
       "<p>5 rows × 5108 columns</p>\n",
       "</div>"
      ],
      "text/plain": [
       "                                      Corticosterone  2-Chlorophenol  \\\n",
       "                                                                       \n",
       "Corticosterone                                   1.0             0.0   \n",
       "2-Chlorophenol                                   0.0             1.0   \n",
       "Emedastine                                       0.0             0.0   \n",
       "Phosphorylisopropane                             0.0             0.0   \n",
       "3-(1-NAPHTHYLMETHOXY)PYRIDIN-2-AMINE             0.0             1.0   \n",
       "\n",
       "                                      Emedastine  Phosphorylisopropane  \\\n",
       "                                                                         \n",
       "Corticosterone                               0.0                   0.0   \n",
       "2-Chlorophenol                               0.0                   0.0   \n",
       "Emedastine                                   1.0                   0.0   \n",
       "Phosphorylisopropane                         0.0                   1.0   \n",
       "3-(1-NAPHTHYLMETHOXY)PYRIDIN-2-AMINE         0.0                   0.0   \n",
       "\n",
       "                                      3-(1-NAPHTHYLMETHOXY)PYRIDIN-2-AMINE  \\\n",
       "                                                                             \n",
       "Corticosterone                                                         0.0   \n",
       "2-Chlorophenol                                                         1.0   \n",
       "Emedastine                                                             0.0   \n",
       "Phosphorylisopropane                                                   0.0   \n",
       "3-(1-NAPHTHYLMETHOXY)PYRIDIN-2-AMINE                                   1.0   \n",
       "\n",
       "                                      Saxagliptin  Malonic acid  \\\n",
       "                                                                  \n",
       "Corticosterone                                0.0           0.0   \n",
       "2-Chlorophenol                                0.0           0.0   \n",
       "Emedastine                                    0.0           0.0   \n",
       "Phosphorylisopropane                          0.0           0.0   \n",
       "3-(1-NAPHTHYLMETHOXY)PYRIDIN-2-AMINE          0.0           0.0   \n",
       "\n",
       "                                      Levothyroxine  Phenelzine  \\\n",
       "                                                                  \n",
       "Corticosterone                                  0.0         0.0   \n",
       "2-Chlorophenol                                  0.0         0.0   \n",
       "Emedastine                                      0.0         0.0   \n",
       "Phosphorylisopropane                            0.0         0.0   \n",
       "3-(1-NAPHTHYLMETHOXY)PYRIDIN-2-AMINE            0.0         0.0   \n",
       "\n",
       "                                      Guanosine-5'-Monophosphate  \\\n",
       "                                                                   \n",
       "Corticosterone                                               0.0   \n",
       "2-Chlorophenol                                               0.0   \n",
       "Emedastine                                                   0.0   \n",
       "Phosphorylisopropane                                         0.0   \n",
       "3-(1-NAPHTHYLMETHOXY)PYRIDIN-2-AMINE                         0.0   \n",
       "\n",
       "                                                                             ...                                           \\\n",
       "                                                                             ...                                            \n",
       "Corticosterone                                                               ...                                            \n",
       "2-Chlorophenol                                                               ...                                            \n",
       "Emedastine                                                                   ...                                            \n",
       "Phosphorylisopropane                                                         ...                                            \n",
       "3-(1-NAPHTHYLMETHOXY)PYRIDIN-2-AMINE                                         ...                                            \n",
       "\n",
       "                                      Fudp  Dienogest  \\\n",
       "                                                        \n",
       "Corticosterone                         0.0        0.0   \n",
       "2-Chlorophenol                         0.0        0.0   \n",
       "Emedastine                             0.0        0.0   \n",
       "Phosphorylisopropane                   0.0        0.0   \n",
       "3-(1-NAPHTHYLMETHOXY)PYRIDIN-2-AMINE   0.0        0.0   \n",
       "\n",
       "                                      Lysergic Acid Diethylamide  \\\n",
       "                                                                   \n",
       "Corticosterone                                               0.0   \n",
       "2-Chlorophenol                                               0.0   \n",
       "Emedastine                                                   0.0   \n",
       "Phosphorylisopropane                                         0.0   \n",
       "3-(1-NAPHTHYLMETHOXY)PYRIDIN-2-AMINE                         0.0   \n",
       "\n",
       "                                      beta-phenyl-D-phenylalanyl-N-propyl-L-prolinamide  \\\n",
       "                                                                                          \n",
       "Corticosterone                                                                      0.0   \n",
       "2-Chlorophenol                                                                      0.0   \n",
       "Emedastine                                                                          0.0   \n",
       "Phosphorylisopropane                                                                0.0   \n",
       "3-(1-NAPHTHYLMETHOXY)PYRIDIN-2-AMINE                                                0.0   \n",
       "\n",
       "                                      Ketoprofen  Capecitabine  \\\n",
       "                                                                 \n",
       "Corticosterone                               0.0           0.0   \n",
       "2-Chlorophenol                               0.0           0.0   \n",
       "Emedastine                                   0.0           0.0   \n",
       "Phosphorylisopropane                         0.0           0.0   \n",
       "3-(1-NAPHTHYLMETHOXY)PYRIDIN-2-AMINE         0.0           0.0   \n",
       "\n",
       "                                      Methacrylyl-Coenzyme A  \\\n",
       "                                                               \n",
       "Corticosterone                                           0.0   \n",
       "2-Chlorophenol                                           0.0   \n",
       "Emedastine                                               0.0   \n",
       "Phosphorylisopropane                                     0.0   \n",
       "3-(1-NAPHTHYLMETHOXY)PYRIDIN-2-AMINE                     0.0   \n",
       "\n",
       "                                      1-deoxymannojirimycin  \\\n",
       "                                                              \n",
       "Corticosterone                                          0.0   \n",
       "2-Chlorophenol                                          0.0   \n",
       "Emedastine                                              0.0   \n",
       "Phosphorylisopropane                                    0.0   \n",
       "3-(1-NAPHTHYLMETHOXY)PYRIDIN-2-AMINE                    0.0   \n",
       "\n",
       "                                      Phosphonothreonine  \\\n",
       "                                                           \n",
       "Corticosterone                                       0.0   \n",
       "2-Chlorophenol                                       0.0   \n",
       "Emedastine                                           0.0   \n",
       "Phosphorylisopropane                                 0.0   \n",
       "3-(1-NAPHTHYLMETHOXY)PYRIDIN-2-AMINE                 0.0   \n",
       "\n",
       "                                      N'-(5-chloro-1,3-benzodioxol-4-yl)-N-(3-methylsulfonylphenyl)pyrimidine-2,4-diamine  \n",
       "                                                                                                                           \n",
       "Corticosterone                                                                      0.0                                    \n",
       "2-Chlorophenol                                                                      0.0                                    \n",
       "Emedastine                                                                          0.0                                    \n",
       "Phosphorylisopropane                                                                0.0                                    \n",
       "3-(1-NAPHTHYLMETHOXY)PYRIDIN-2-AMINE                                                0.0                                    \n",
       "\n",
       "[5 rows x 5108 columns]"
      ]
     },
     "execution_count": 39,
     "metadata": {},
     "output_type": "execute_result"
    }
   ],
   "source": [
    "attribute_similarity_matix.head()"
   ]
  },
  {
   "cell_type": "markdown",
   "metadata": {},
   "source": [
    "# Save Attribute Similarity Matrix"
   ]
  },
  {
   "cell_type": "code",
   "execution_count": 40,
   "metadata": {
    "collapsed": true
   },
   "outputs": [],
   "source": [
    "filename = path+'drugbank_target_attribute_similarity_matix_%s.tsv.zip'% str(datetime.date.today())[0:7].replace('-', '_')\n",
    "attribute_similarity_matix.to_csv(filename, sep='\\t', compression='gzip')"
   ]
  },
  {
   "cell_type": "markdown",
   "metadata": {},
   "source": [
    "# Create Gene List"
   ]
  },
  {
   "cell_type": "code",
   "execution_count": 41,
   "metadata": {},
   "outputs": [
    {
     "name": "stdout",
     "output_type": "stream",
     "text": [
      "Progeres: 100%  2532 Out of 2532   \r"
     ]
    }
   ],
   "source": [
    "gene_list = uf.createGeneList(binary_matrix)"
   ]
  },
  {
   "cell_type": "code",
   "execution_count": 42,
   "metadata": {},
   "outputs": [
    {
     "data": {
      "text/html": [
       "<div>\n",
       "<style scoped>\n",
       "    .dataframe tbody tr th:only-of-type {\n",
       "        vertical-align: middle;\n",
       "    }\n",
       "\n",
       "    .dataframe tbody tr th {\n",
       "        vertical-align: top;\n",
       "    }\n",
       "\n",
       "    .dataframe thead th {\n",
       "        text-align: right;\n",
       "    }\n",
       "</style>\n",
       "<table border=\"1\" class=\"dataframe\">\n",
       "  <thead>\n",
       "    <tr style=\"text-align: right;\">\n",
       "      <th></th>\n",
       "      <th>GeneSym</th>\n",
       "      <th>GeneID</th>\n",
       "    </tr>\n",
       "  </thead>\n",
       "  <tbody>\n",
       "    <tr>\n",
       "      <th>0</th>\n",
       "      <td>PDE5A</td>\n",
       "      <td>8654</td>\n",
       "    </tr>\n",
       "    <tr>\n",
       "      <th>1</th>\n",
       "      <td>PLD1</td>\n",
       "      <td>5337</td>\n",
       "    </tr>\n",
       "    <tr>\n",
       "      <th>2</th>\n",
       "      <td>KCNC3</td>\n",
       "      <td>3748</td>\n",
       "    </tr>\n",
       "    <tr>\n",
       "      <th>3</th>\n",
       "      <td>PAFAH1B3</td>\n",
       "      <td>5050</td>\n",
       "    </tr>\n",
       "    <tr>\n",
       "      <th>4</th>\n",
       "      <td>SLC1A4</td>\n",
       "      <td>6509</td>\n",
       "    </tr>\n",
       "  </tbody>\n",
       "</table>\n",
       "</div>"
      ],
      "text/plain": [
       "    GeneSym GeneID\n",
       "0     PDE5A   8654\n",
       "1      PLD1   5337\n",
       "2     KCNC3   3748\n",
       "3  PAFAH1B3   5050\n",
       "4    SLC1A4   6509"
      ]
     },
     "execution_count": 42,
     "metadata": {},
     "output_type": "execute_result"
    }
   ],
   "source": [
    "gene_list.head()"
   ]
  },
  {
   "cell_type": "code",
   "execution_count": 43,
   "metadata": {},
   "outputs": [
    {
     "data": {
      "text/plain": [
       "(2532, 2)"
      ]
     },
     "execution_count": 43,
     "metadata": {},
     "output_type": "execute_result"
    }
   ],
   "source": [
    "gene_list.shape"
   ]
  },
  {
   "cell_type": "markdown",
   "metadata": {},
   "source": [
    "# Save Gene List"
   ]
  },
  {
   "cell_type": "code",
   "execution_count": 44,
   "metadata": {
    "collapsed": true
   },
   "outputs": [],
   "source": [
    "filename = path+'drugbank_target_gene_list_%s.tsv.zip'% str(datetime.date.today())[0:7].replace('-', '_')\n",
    "gene_list.to_csv(filename, sep='\\t', index=False, compression='gzip')"
   ]
  },
  {
   "cell_type": "markdown",
   "metadata": {},
   "source": [
    "# Create Attribute List"
   ]
  },
  {
   "cell_type": "code",
   "execution_count": 45,
   "metadata": {
    "collapsed": true
   },
   "outputs": [],
   "source": [
    "attribute_list = uf.createAttributeList(binary_matrix)"
   ]
  },
  {
   "cell_type": "code",
   "execution_count": 46,
   "metadata": {},
   "outputs": [
    {
     "data": {
      "text/html": [
       "<div>\n",
       "<style scoped>\n",
       "    .dataframe tbody tr th:only-of-type {\n",
       "        vertical-align: middle;\n",
       "    }\n",
       "\n",
       "    .dataframe tbody tr th {\n",
       "        vertical-align: top;\n",
       "    }\n",
       "\n",
       "    .dataframe thead th {\n",
       "        text-align: right;\n",
       "    }\n",
       "</style>\n",
       "<table border=\"1\" class=\"dataframe\">\n",
       "  <thead>\n",
       "    <tr style=\"text-align: right;\">\n",
       "      <th></th>\n",
       "    </tr>\n",
       "    <tr>\n",
       "      <th>Attributes</th>\n",
       "    </tr>\n",
       "  </thead>\n",
       "  <tbody>\n",
       "    <tr>\n",
       "      <th>Corticosterone</th>\n",
       "    </tr>\n",
       "    <tr>\n",
       "      <th>2-Chlorophenol</th>\n",
       "    </tr>\n",
       "    <tr>\n",
       "      <th>Emedastine</th>\n",
       "    </tr>\n",
       "    <tr>\n",
       "      <th>Phosphorylisopropane</th>\n",
       "    </tr>\n",
       "    <tr>\n",
       "      <th>3-(1-NAPHTHYLMETHOXY)PYRIDIN-2-AMINE</th>\n",
       "    </tr>\n",
       "  </tbody>\n",
       "</table>\n",
       "</div>"
      ],
      "text/plain": [
       "Empty DataFrame\n",
       "Columns: []\n",
       "Index: [Corticosterone, 2-Chlorophenol, Emedastine, Phosphorylisopropane, 3-(1-NAPHTHYLMETHOXY)PYRIDIN-2-AMINE]"
      ]
     },
     "execution_count": 46,
     "metadata": {},
     "output_type": "execute_result"
    }
   ],
   "source": [
    "attribute_list.head()"
   ]
  },
  {
   "cell_type": "code",
   "execution_count": 47,
   "metadata": {},
   "outputs": [
    {
     "data": {
      "text/plain": [
       "(5108, 0)"
      ]
     },
     "execution_count": 47,
     "metadata": {},
     "output_type": "execute_result"
    }
   ],
   "source": [
    "attribute_list.shape"
   ]
  },
  {
   "cell_type": "markdown",
   "metadata": {},
   "source": [
    "# Save Attribute List"
   ]
  },
  {
   "cell_type": "code",
   "execution_count": 48,
   "metadata": {
    "collapsed": true
   },
   "outputs": [],
   "source": [
    "filename = path+'drugbank_target_attribute_list_%s.tsv.zip'% str(datetime.date.today())[0:7].replace('-', '_')\n",
    "attribute_list.to_csv(filename, sep='\\t', index=False, compression='gzip')"
   ]
  },
  {
   "cell_type": "markdown",
   "metadata": {},
   "source": [
    "# Create Gene-Attribute Edge List"
   ]
  },
  {
   "cell_type": "code",
   "execution_count": 49,
   "metadata": {
    "collapsed": true
   },
   "outputs": [],
   "source": [
    "name = 'drugbank_target_gene_attribute_edge_list'"
   ]
  },
  {
   "cell_type": "code",
   "execution_count": 50,
   "metadata": {},
   "outputs": [
    {
     "name": "stdout",
     "output_type": "stream",
     "text": [
      "Progeres: 100%  5108 Out of 5108   \n",
      "\n",
      " The number of statisticaly relevent gene-attribute associations is: 13355\n"
     ]
    }
   ],
   "source": [
    "uf.createGeneAttributeEdgeList(binary_matrix, attribute_list, gene_list, path, name)"
   ]
  }
 ],
 "metadata": {
  "kernelspec": {
   "display_name": "Python [default]",
   "language": "python",
   "name": "python3"
  },
  "language_info": {
   "codemirror_mode": {
    "name": "ipython",
    "version": 3
   },
   "file_extension": ".py",
   "mimetype": "text/x-python",
   "name": "python",
   "nbconvert_exporter": "python",
   "pygments_lexer": "ipython3",
   "version": "3.5.2"
  }
 },
 "nbformat": 4,
 "nbformat_minor": 2
}
