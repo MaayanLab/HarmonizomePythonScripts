{
 "cells": [
  {
   "cell_type": "code",
   "execution_count": null,
   "metadata": {},
   "outputs": [],
   "source": [
    "import csv\n",
    "import json\n",
    "from collections import defaultdict\n",
    "\n",
    "with open('pathway.csv') as file1:\n",
    "    csv_reader = csv.reader(file1, delimiter=\",\")\n",
    "    line_count = 0\n",
    "    pathways = []\n",
    "    genes = []\n",
    "    for row in csv_reader:\n",
    "        pathways.append(row[1])\n",
    "        genes.append(row[3])\n",
    "        line_count +=1\n",
    "\n",
    "unique_genes = set(genes)\n",
    "print(len(unique_genes))\n",
    "assoc = list(zip(pathways,genes))\n",
    "\n",
    "assoc = set(assoc)\n",
    "\n",
    "assoc = list(assoc)\n",
    "\n",
    "\n",
    "d = defaultdict(list)\n",
    "for k, v in assoc:\n",
    "    d[k].append(v)\n",
    "d = dict(d)\n",
    "f = open(\"associations.json\", \"w\")\n",
    "f.write(json.dumps(d))\n",
    "f.close()\n",
    "\n",
    "with open(\"bioplanet_genes_pathways\", \"w\") as r:\n",
    "    with open(\"associations.json\") as o:\n",
    "        a = json.loads(o.read())\n",
    "        for key, value in a.items():\n",
    "            r.write(key + \"\\t\\t\")\n",
    "            for v in value:\n",
    "                r.write(v + \"\\t\")\n",
    "            r.write(\"\\n\")\n",
    "\n",
    "\n"
   ]
  }
 ],
 "metadata": {
  "kernelspec": {
   "display_name": "Python 3",
   "language": "python",
   "name": "python3"
  },
  "language_info": {
   "codemirror_mode": {
    "name": "ipython",
    "version": 3
   },
   "file_extension": ".py",
   "mimetype": "text/x-python",
   "name": "python",
   "nbconvert_exporter": "python",
   "pygments_lexer": "ipython3",
   "version": "3.7.3"
  }
 },
 "nbformat": 4,
 "nbformat_minor": 2
}
