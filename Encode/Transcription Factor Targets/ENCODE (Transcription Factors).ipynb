{
 "cells": [
  {
   "cell_type": "markdown",
   "metadata": {},
   "source": [
    "# ENCODE (Transcription Factors)"
   ]
  },
  {
   "cell_type": "markdown",
   "metadata": {},
   "source": [
    "Author: Moshe Silverstein <br/>\n",
    "Date: 8-17 <br/>\n",
    "Data Source: https://www.encodeproject.org/matrix/?type=Experiment"
   ]
  },
  {
   "cell_type": "code",
   "execution_count": 1,
   "metadata": {
    "collapsed": true
   },
   "outputs": [],
   "source": [
    "import sys, datetime, os\n",
    "import numpy as np\n",
    "import pandas as pd\n",
    "import importlib\n",
    "import untility_functions as uf\n",
    "import re\n",
    "%matplotlib inline"
   ]
  },
  {
   "cell_type": "code",
   "execution_count": 2,
   "metadata": {},
   "outputs": [
    {
     "data": {
      "text/plain": [
       "<module 'untility_functions' from '/Users/moshesilverstein/Documents/Harmonizome/Encode_me_from_sctratch/untility_functions.py'>"
      ]
     },
     "execution_count": 2,
     "metadata": {},
     "output_type": "execute_result"
    }
   ],
   "source": [
    "importlib.reload(uf)"
   ]
  },
  {
   "cell_type": "markdown",
   "metadata": {},
   "source": [
    "# Load Data "
   ]
  },
  {
   "cell_type": "code",
   "execution_count": 3,
   "metadata": {
    "collapsed": true
   },
   "outputs": [],
   "source": [
    "path = '/Users/moshesilverstein/Documents/Harmonizome/Encode_me_from_sctratch/Output/Transcription_factor/'\n",
    "file = 'COMBINED/encode_transcrip_2017_08.gmt'\n",
    "df = pd.read_csv(path+file, sep='~', header=None)"
   ]
  },
  {
   "cell_type": "code",
   "execution_count": 4,
   "metadata": {},
   "outputs": [
    {
     "data": {
      "text/html": [
       "<div>\n",
       "<table border=\"1\" class=\"dataframe\">\n",
       "  <thead>\n",
       "    <tr style=\"text-align: right;\">\n",
       "      <th></th>\n",
       "      <th>0</th>\n",
       "    </tr>\n",
       "  </thead>\n",
       "  <tbody>\n",
       "    <tr>\n",
       "      <th>0</th>\n",
       "      <td>TAL1_K562_human\\tNA\\tRNF145\\tRFXANK\\tLSMEM1\\tM...</td>\n",
       "    </tr>\n",
       "    <tr>\n",
       "      <th>1</th>\n",
       "      <td>CEBPB_K562_human\\tNA\\tFAM111A\\tSERBP1\\tSMARCAD...</td>\n",
       "    </tr>\n",
       "    <tr>\n",
       "      <th>2</th>\n",
       "      <td>STAT3_MCF 10A_human\\tNA\\tDIRC1\\tMIR2117\\tADAR\\...</td>\n",
       "    </tr>\n",
       "    <tr>\n",
       "      <th>3</th>\n",
       "      <td>ZNF217_MCF-7_human\\tNA\\tSAAL1\\tTMEM167B\\tTMEM4...</td>\n",
       "    </tr>\n",
       "    <tr>\n",
       "      <th>4</th>\n",
       "      <td>MYC_K562_human\\tNA\\tHARBI1\\tZBTB6\\tDHRS4\\tRASS...</td>\n",
       "    </tr>\n",
       "  </tbody>\n",
       "</table>\n",
       "</div>"
      ],
      "text/plain": [
       "                                                   0\n",
       "0  TAL1_K562_human\\tNA\\tRNF145\\tRFXANK\\tLSMEM1\\tM...\n",
       "1  CEBPB_K562_human\\tNA\\tFAM111A\\tSERBP1\\tSMARCAD...\n",
       "2  STAT3_MCF 10A_human\\tNA\\tDIRC1\\tMIR2117\\tADAR\\...\n",
       "3  ZNF217_MCF-7_human\\tNA\\tSAAL1\\tTMEM167B\\tTMEM4...\n",
       "4  MYC_K562_human\\tNA\\tHARBI1\\tZBTB6\\tDHRS4\\tRASS..."
      ]
     },
     "execution_count": 4,
     "metadata": {},
     "output_type": "execute_result"
    }
   ],
   "source": [
    "df.head()"
   ]
  },
  {
   "cell_type": "code",
   "execution_count": 5,
   "metadata": {},
   "outputs": [
    {
     "name": "stdout",
     "output_type": "stream",
     "text": [
      "Progeres: 100%  1320 Out of 1320   \r"
     ]
    }
   ],
   "source": [
    "df_interactions = pd.DataFrame()\n",
    "\n",
    "for i, index in enumerate(df.index):\n",
    "    \n",
    "    progressPercent = ((i+1)/len(df.index))*100\n",
    "\n",
    "    sys.stdout.write(\"Progeres: %d%%  %d Out of %d   \\r\" % (progressPercent, (i+1), len(df.index)))\n",
    "    sys.stdout.flush()\n",
    "    \n",
    "    \n",
    "    lst2 = df.ix[index, 0].split('\\t')[1:]\n",
    "    lst1 = [df.ix[index, 0].split('\\t')[0].split('_')[0]]*(len(lst2)-1)\n",
    "    lst2.pop(0)\n",
    "    temp = pd.DataFrame()\n",
    "    temp['Transcription-Cell'] = lst1\n",
    "    temp['Gene'] = lst2\n",
    "    df_interactions = pd.concat([df_interactions, temp]) "
   ]
  },
  {
   "cell_type": "code",
   "execution_count": 6,
   "metadata": {},
   "outputs": [
    {
     "data": {
      "text/html": [
       "<div>\n",
       "<table border=\"1\" class=\"dataframe\">\n",
       "  <thead>\n",
       "    <tr style=\"text-align: right;\">\n",
       "      <th></th>\n",
       "      <th>Transcription-Cell</th>\n",
       "      <th>Gene</th>\n",
       "    </tr>\n",
       "  </thead>\n",
       "  <tbody>\n",
       "    <tr>\n",
       "      <th>0</th>\n",
       "      <td>TAL1</td>\n",
       "      <td>RNF145</td>\n",
       "    </tr>\n",
       "    <tr>\n",
       "      <th>1</th>\n",
       "      <td>TAL1</td>\n",
       "      <td>RFXANK</td>\n",
       "    </tr>\n",
       "    <tr>\n",
       "      <th>2</th>\n",
       "      <td>TAL1</td>\n",
       "      <td>LSMEM1</td>\n",
       "    </tr>\n",
       "    <tr>\n",
       "      <th>3</th>\n",
       "      <td>TAL1</td>\n",
       "      <td>MDN1</td>\n",
       "    </tr>\n",
       "    <tr>\n",
       "      <th>4</th>\n",
       "      <td>TAL1</td>\n",
       "      <td>FGFR1OP</td>\n",
       "    </tr>\n",
       "  </tbody>\n",
       "</table>\n",
       "</div>"
      ],
      "text/plain": [
       "  Transcription-Cell     Gene\n",
       "0               TAL1   RNF145\n",
       "1               TAL1   RFXANK\n",
       "2               TAL1   LSMEM1\n",
       "3               TAL1     MDN1\n",
       "4               TAL1  FGFR1OP"
      ]
     },
     "execution_count": 6,
     "metadata": {},
     "output_type": "execute_result"
    }
   ],
   "source": [
    "df_interactions.head()"
   ]
  },
  {
   "cell_type": "code",
   "execution_count": 7,
   "metadata": {},
   "outputs": [
    {
     "data": {
      "text/plain": [
       "(2576867, 2)"
      ]
     },
     "execution_count": 7,
     "metadata": {},
     "output_type": "execute_result"
    }
   ],
   "source": [
    "df_interactions.shape"
   ]
  },
  {
   "cell_type": "markdown",
   "metadata": {},
   "source": [
    "# Map Gene Symbols To Up-to-date Approved Gene Symbols"
   ]
  },
  {
   "cell_type": "code",
   "execution_count": 8,
   "metadata": {
    "collapsed": true
   },
   "outputs": [],
   "source": [
    "df_interactions.set_index('Gene', inplace=True)"
   ]
  },
  {
   "cell_type": "code",
   "execution_count": 9,
   "metadata": {},
   "outputs": [
    {
     "name": "stdout",
     "output_type": "stream",
     "text": [
      "Progeres: 100%  2576867 Out of 2576867   \r"
     ]
    }
   ],
   "source": [
    "uf.mapgenesymbols(df_interactions)"
   ]
  },
  {
   "cell_type": "markdown",
   "metadata": {},
   "source": [
    "# Drop Duplicates"
   ]
  },
  {
   "cell_type": "code",
   "execution_count": 10,
   "metadata": {
    "collapsed": true
   },
   "outputs": [],
   "source": [
    "df_interactions.reset_index(inplace=True)"
   ]
  },
  {
   "cell_type": "code",
   "execution_count": 11,
   "metadata": {
    "collapsed": true
   },
   "outputs": [],
   "source": [
    "df_interactions.drop_duplicates(inplace=True)"
   ]
  },
  {
   "cell_type": "code",
   "execution_count": 12,
   "metadata": {},
   "outputs": [
    {
     "data": {
      "text/plain": [
       "(1530578, 2)"
      ]
     },
     "execution_count": 12,
     "metadata": {},
     "output_type": "execute_result"
    }
   ],
   "source": [
    "df_interactions.shape"
   ]
  },
  {
   "cell_type": "markdown",
   "metadata": {},
   "source": [
    "# Create Binary Matrix"
   ]
  },
  {
   "cell_type": "code",
   "execution_count": 13,
   "metadata": {},
   "outputs": [
    {
     "name": "stdout",
     "output_type": "stream",
     "text": [
      "Progeres: 100%  24656 Out of 24656   \r"
     ]
    }
   ],
   "source": [
    "binary_matrix = uf.createBinaryMatix(df_interactions)"
   ]
  },
  {
   "cell_type": "code",
   "execution_count": 14,
   "metadata": {},
   "outputs": [
    {
     "data": {
      "text/html": [
       "<div>\n",
       "<table border=\"1\" class=\"dataframe\">\n",
       "  <thead>\n",
       "    <tr style=\"text-align: right;\">\n",
       "      <th></th>\n",
       "      <th>SREBF2</th>\n",
       "      <th>ARID3A</th>\n",
       "      <th>C11orf30</th>\n",
       "      <th>HNRNPL</th>\n",
       "      <th>POLR2AphosphoS2</th>\n",
       "      <th>GATAD2B</th>\n",
       "      <th>DDX20</th>\n",
       "      <th>POU5F1</th>\n",
       "      <th>NR3C1</th>\n",
       "      <th>GABPA</th>\n",
       "      <th>...</th>\n",
       "      <th>E2F6</th>\n",
       "      <th>RUNX3</th>\n",
       "      <th>YY1</th>\n",
       "      <th>FLAG-NFIA</th>\n",
       "      <th>FLAG-ZNF652</th>\n",
       "      <th>KDM1A</th>\n",
       "      <th>NCOR1</th>\n",
       "      <th>PHF8</th>\n",
       "      <th>WHSC1</th>\n",
       "      <th>NELFE</th>\n",
       "    </tr>\n",
       "  </thead>\n",
       "  <tbody>\n",
       "    <tr>\n",
       "      <th>MC1R</th>\n",
       "      <td>0</td>\n",
       "      <td>0</td>\n",
       "      <td>0</td>\n",
       "      <td>0</td>\n",
       "      <td>0</td>\n",
       "      <td>0</td>\n",
       "      <td>0</td>\n",
       "      <td>1</td>\n",
       "      <td>0</td>\n",
       "      <td>0</td>\n",
       "      <td>...</td>\n",
       "      <td>0</td>\n",
       "      <td>0</td>\n",
       "      <td>1</td>\n",
       "      <td>0</td>\n",
       "      <td>0</td>\n",
       "      <td>1</td>\n",
       "      <td>0</td>\n",
       "      <td>0</td>\n",
       "      <td>1</td>\n",
       "      <td>0</td>\n",
       "    </tr>\n",
       "    <tr>\n",
       "      <th>MIRLET7C</th>\n",
       "      <td>0</td>\n",
       "      <td>0</td>\n",
       "      <td>0</td>\n",
       "      <td>0</td>\n",
       "      <td>0</td>\n",
       "      <td>0</td>\n",
       "      <td>0</td>\n",
       "      <td>0</td>\n",
       "      <td>0</td>\n",
       "      <td>1</td>\n",
       "      <td>...</td>\n",
       "      <td>0</td>\n",
       "      <td>0</td>\n",
       "      <td>0</td>\n",
       "      <td>0</td>\n",
       "      <td>0</td>\n",
       "      <td>0</td>\n",
       "      <td>0</td>\n",
       "      <td>0</td>\n",
       "      <td>0</td>\n",
       "      <td>0</td>\n",
       "    </tr>\n",
       "    <tr>\n",
       "      <th>PHF24</th>\n",
       "      <td>0</td>\n",
       "      <td>0</td>\n",
       "      <td>0</td>\n",
       "      <td>0</td>\n",
       "      <td>0</td>\n",
       "      <td>0</td>\n",
       "      <td>0</td>\n",
       "      <td>0</td>\n",
       "      <td>1</td>\n",
       "      <td>0</td>\n",
       "      <td>...</td>\n",
       "      <td>0</td>\n",
       "      <td>0</td>\n",
       "      <td>0</td>\n",
       "      <td>0</td>\n",
       "      <td>0</td>\n",
       "      <td>0</td>\n",
       "      <td>0</td>\n",
       "      <td>0</td>\n",
       "      <td>0</td>\n",
       "      <td>0</td>\n",
       "    </tr>\n",
       "    <tr>\n",
       "      <th>MRPS21</th>\n",
       "      <td>0</td>\n",
       "      <td>1</td>\n",
       "      <td>1</td>\n",
       "      <td>0</td>\n",
       "      <td>0</td>\n",
       "      <td>0</td>\n",
       "      <td>0</td>\n",
       "      <td>1</td>\n",
       "      <td>0</td>\n",
       "      <td>1</td>\n",
       "      <td>...</td>\n",
       "      <td>1</td>\n",
       "      <td>0</td>\n",
       "      <td>1</td>\n",
       "      <td>0</td>\n",
       "      <td>0</td>\n",
       "      <td>0</td>\n",
       "      <td>0</td>\n",
       "      <td>0</td>\n",
       "      <td>0</td>\n",
       "      <td>0</td>\n",
       "    </tr>\n",
       "    <tr>\n",
       "      <th>SSH1</th>\n",
       "      <td>0</td>\n",
       "      <td>0</td>\n",
       "      <td>0</td>\n",
       "      <td>0</td>\n",
       "      <td>1</td>\n",
       "      <td>0</td>\n",
       "      <td>0</td>\n",
       "      <td>0</td>\n",
       "      <td>0</td>\n",
       "      <td>1</td>\n",
       "      <td>...</td>\n",
       "      <td>0</td>\n",
       "      <td>0</td>\n",
       "      <td>0</td>\n",
       "      <td>0</td>\n",
       "      <td>0</td>\n",
       "      <td>0</td>\n",
       "      <td>0</td>\n",
       "      <td>0</td>\n",
       "      <td>0</td>\n",
       "      <td>1</td>\n",
       "    </tr>\n",
       "  </tbody>\n",
       "</table>\n",
       "<p>5 rows × 456 columns</p>\n",
       "</div>"
      ],
      "text/plain": [
       "          SREBF2  ARID3A  C11orf30  HNRNPL  POLR2AphosphoS2  GATAD2B  DDX20  \\\n",
       "MC1R           0       0         0       0                0        0      0   \n",
       "MIRLET7C       0       0         0       0                0        0      0   \n",
       "PHF24          0       0         0       0                0        0      0   \n",
       "MRPS21         0       1         1       0                0        0      0   \n",
       "SSH1           0       0         0       0                1        0      0   \n",
       "\n",
       "          POU5F1  NR3C1  GABPA  ...    E2F6  RUNX3  YY1  FLAG-NFIA  \\\n",
       "MC1R           1      0      0  ...       0      0    1          0   \n",
       "MIRLET7C       0      0      1  ...       0      0    0          0   \n",
       "PHF24          0      1      0  ...       0      0    0          0   \n",
       "MRPS21         1      0      1  ...       1      0    1          0   \n",
       "SSH1           0      0      1  ...       0      0    0          0   \n",
       "\n",
       "          FLAG-ZNF652  KDM1A  NCOR1  PHF8  WHSC1  NELFE  \n",
       "MC1R                0      1      0     0      1      0  \n",
       "MIRLET7C            0      0      0     0      0      0  \n",
       "PHF24               0      0      0     0      0      0  \n",
       "MRPS21              0      0      0     0      0      0  \n",
       "SSH1                0      0      0     0      0      1  \n",
       "\n",
       "[5 rows x 456 columns]"
      ]
     },
     "execution_count": 14,
     "metadata": {},
     "output_type": "execute_result"
    }
   ],
   "source": [
    "binary_matrix.head()"
   ]
  },
  {
   "cell_type": "code",
   "execution_count": 15,
   "metadata": {},
   "outputs": [
    {
     "data": {
      "text/plain": [
       "(24656, 456)"
      ]
     },
     "execution_count": 15,
     "metadata": {},
     "output_type": "execute_result"
    }
   ],
   "source": [
    "binary_matrix.shape"
   ]
  },
  {
   "cell_type": "markdown",
   "metadata": {},
   "source": [
    "# Save Binary Matrix"
   ]
  },
  {
   "cell_type": "code",
   "execution_count": 16,
   "metadata": {
    "collapsed": true
   },
   "outputs": [],
   "source": [
    "filename = '~/./Documents/Harmonizome/Encode_me_from_sctratch/Output/Transcription_factor/encode_transcription_factors_binary_matrix_%s.tsv.zip'% str(datetime.date.today())[0:7].replace('-', '_')\n",
    "binary_matrix.to_csv(filename, sep='\\t', compression='gzip')"
   ]
  },
  {
   "cell_type": "markdown",
   "metadata": {},
   "source": [
    "# Create Gene Set Library"
   ]
  },
  {
   "cell_type": "code",
   "execution_count": 17,
   "metadata": {
    "collapsed": true
   },
   "outputs": [],
   "source": [
    "path = '/Users/moshesilverstein/Documents/Harmonizome/Encode_me_from_sctratch/Output/Transcription_factor/'"
   ]
  },
  {
   "cell_type": "code",
   "execution_count": 18,
   "metadata": {
    "collapsed": true
   },
   "outputs": [],
   "source": [
    "name = 'encode_transcription_factors_gene_set'"
   ]
  },
  {
   "cell_type": "code",
   "execution_count": 19,
   "metadata": {},
   "outputs": [
    {
     "name": "stdout",
     "output_type": "stream",
     "text": [
      "Progeres: 100%  456 Out of 456   \r"
     ]
    }
   ],
   "source": [
    "uf.createUpGeneSetLib(binary_matrix, path, name)"
   ]
  },
  {
   "cell_type": "markdown",
   "metadata": {},
   "source": [
    "# Create Attribute Library"
   ]
  },
  {
   "cell_type": "code",
   "execution_count": 20,
   "metadata": {
    "collapsed": true
   },
   "outputs": [],
   "source": [
    "path = '/Users/moshesilverstein/Documents/Harmonizome/Encode_me_from_sctratch/Output/Transcription_factor/'"
   ]
  },
  {
   "cell_type": "code",
   "execution_count": 21,
   "metadata": {
    "collapsed": true
   },
   "outputs": [],
   "source": [
    "name = 'encode_transcription_factors_attribute_set'"
   ]
  },
  {
   "cell_type": "code",
   "execution_count": 22,
   "metadata": {},
   "outputs": [
    {
     "name": "stdout",
     "output_type": "stream",
     "text": [
      "Progeres: 100%  24656 Out of 24656   \r"
     ]
    }
   ],
   "source": [
    "uf.createUpAttributeSetLib(binary_matrix, path, name)"
   ]
  },
  {
   "cell_type": "markdown",
   "metadata": {},
   "source": [
    "# Create Gene Similarity Matrix"
   ]
  },
  {
   "cell_type": "code",
   "execution_count": 23,
   "metadata": {
    "collapsed": true
   },
   "outputs": [],
   "source": [
    "gene_similarity_matix = uf.createSimilarityMatrix(binary_matrix, 'jaccard')"
   ]
  },
  {
   "cell_type": "code",
   "execution_count": 24,
   "metadata": {},
   "outputs": [
    {
     "data": {
      "text/html": [
       "<div>\n",
       "<table border=\"1\" class=\"dataframe\">\n",
       "  <thead>\n",
       "    <tr style=\"text-align: right;\">\n",
       "      <th></th>\n",
       "      <th>MC1R</th>\n",
       "      <th>MIRLET7C</th>\n",
       "      <th>PHF24</th>\n",
       "      <th>MRPS21</th>\n",
       "      <th>SSH1</th>\n",
       "      <th>FABP9</th>\n",
       "      <th>ALG5</th>\n",
       "      <th>PLXNB2</th>\n",
       "      <th>VNN2</th>\n",
       "      <th>MKL2</th>\n",
       "      <th>...</th>\n",
       "      <th>CDAN1</th>\n",
       "      <th>TUBA1A</th>\n",
       "      <th>TMEM141</th>\n",
       "      <th>CCDC154</th>\n",
       "      <th>USP10</th>\n",
       "      <th>SLC16A6</th>\n",
       "      <th>UBAP2</th>\n",
       "      <th>ALPPL2</th>\n",
       "      <th>EXO5</th>\n",
       "      <th>LINC00412</th>\n",
       "    </tr>\n",
       "  </thead>\n",
       "  <tbody>\n",
       "    <tr>\n",
       "      <th>MC1R</th>\n",
       "      <td>1.000000</td>\n",
       "      <td>0.035714</td>\n",
       "      <td>0.173469</td>\n",
       "      <td>0.155000</td>\n",
       "      <td>0.081818</td>\n",
       "      <td>0.086957</td>\n",
       "      <td>0.217617</td>\n",
       "      <td>0.135593</td>\n",
       "      <td>0.150794</td>\n",
       "      <td>0.113821</td>\n",
       "      <td>...</td>\n",
       "      <td>0.133929</td>\n",
       "      <td>0.207207</td>\n",
       "      <td>0.131579</td>\n",
       "      <td>0.098901</td>\n",
       "      <td>0.176471</td>\n",
       "      <td>0.142857</td>\n",
       "      <td>0.246835</td>\n",
       "      <td>0.058140</td>\n",
       "      <td>0.162162</td>\n",
       "      <td>0.038462</td>\n",
       "    </tr>\n",
       "    <tr>\n",
       "      <th>MIRLET7C</th>\n",
       "      <td>0.035714</td>\n",
       "      <td>1.000000</td>\n",
       "      <td>0.041667</td>\n",
       "      <td>0.037500</td>\n",
       "      <td>0.058824</td>\n",
       "      <td>0.029412</td>\n",
       "      <td>0.036585</td>\n",
       "      <td>0.061538</td>\n",
       "      <td>0.052632</td>\n",
       "      <td>0.028571</td>\n",
       "      <td>...</td>\n",
       "      <td>0.068966</td>\n",
       "      <td>0.045455</td>\n",
       "      <td>0.049180</td>\n",
       "      <td>0.060606</td>\n",
       "      <td>0.037736</td>\n",
       "      <td>0.078431</td>\n",
       "      <td>0.039370</td>\n",
       "      <td>0.040000</td>\n",
       "      <td>0.041667</td>\n",
       "      <td>0.066667</td>\n",
       "    </tr>\n",
       "    <tr>\n",
       "      <th>PHF24</th>\n",
       "      <td>0.173469</td>\n",
       "      <td>0.041667</td>\n",
       "      <td>1.000000</td>\n",
       "      <td>0.077778</td>\n",
       "      <td>0.078947</td>\n",
       "      <td>0.105263</td>\n",
       "      <td>0.100000</td>\n",
       "      <td>0.054348</td>\n",
       "      <td>0.113402</td>\n",
       "      <td>0.086957</td>\n",
       "      <td>...</td>\n",
       "      <td>0.097561</td>\n",
       "      <td>0.154762</td>\n",
       "      <td>0.045455</td>\n",
       "      <td>0.086207</td>\n",
       "      <td>0.185714</td>\n",
       "      <td>0.169014</td>\n",
       "      <td>0.118881</td>\n",
       "      <td>0.058824</td>\n",
       "      <td>0.092025</td>\n",
       "      <td>0.100000</td>\n",
       "    </tr>\n",
       "    <tr>\n",
       "      <th>MRPS21</th>\n",
       "      <td>0.155000</td>\n",
       "      <td>0.037500</td>\n",
       "      <td>0.077778</td>\n",
       "      <td>1.000000</td>\n",
       "      <td>0.112360</td>\n",
       "      <td>0.059172</td>\n",
       "      <td>0.281633</td>\n",
       "      <td>0.157609</td>\n",
       "      <td>0.185185</td>\n",
       "      <td>0.161290</td>\n",
       "      <td>...</td>\n",
       "      <td>0.163842</td>\n",
       "      <td>0.157609</td>\n",
       "      <td>0.188571</td>\n",
       "      <td>0.078313</td>\n",
       "      <td>0.150289</td>\n",
       "      <td>0.124294</td>\n",
       "      <td>0.205240</td>\n",
       "      <td>0.042945</td>\n",
       "      <td>0.306667</td>\n",
       "      <td>0.019108</td>\n",
       "    </tr>\n",
       "    <tr>\n",
       "      <th>SSH1</th>\n",
       "      <td>0.081818</td>\n",
       "      <td>0.058824</td>\n",
       "      <td>0.078947</td>\n",
       "      <td>0.112360</td>\n",
       "      <td>1.000000</td>\n",
       "      <td>0.063492</td>\n",
       "      <td>0.134831</td>\n",
       "      <td>0.134831</td>\n",
       "      <td>0.098039</td>\n",
       "      <td>0.142857</td>\n",
       "      <td>...</td>\n",
       "      <td>0.132530</td>\n",
       "      <td>0.122222</td>\n",
       "      <td>0.103448</td>\n",
       "      <td>0.080645</td>\n",
       "      <td>0.101266</td>\n",
       "      <td>0.160000</td>\n",
       "      <td>0.146853</td>\n",
       "      <td>0.074074</td>\n",
       "      <td>0.089820</td>\n",
       "      <td>0.021277</td>\n",
       "    </tr>\n",
       "  </tbody>\n",
       "</table>\n",
       "<p>5 rows × 24656 columns</p>\n",
       "</div>"
      ],
      "text/plain": [
       "              MC1R  MIRLET7C     PHF24    MRPS21      SSH1     FABP9  \\\n",
       "MC1R      1.000000  0.035714  0.173469  0.155000  0.081818  0.086957   \n",
       "MIRLET7C  0.035714  1.000000  0.041667  0.037500  0.058824  0.029412   \n",
       "PHF24     0.173469  0.041667  1.000000  0.077778  0.078947  0.105263   \n",
       "MRPS21    0.155000  0.037500  0.077778  1.000000  0.112360  0.059172   \n",
       "SSH1      0.081818  0.058824  0.078947  0.112360  1.000000  0.063492   \n",
       "\n",
       "              ALG5    PLXNB2      VNN2      MKL2    ...         CDAN1  \\\n",
       "MC1R      0.217617  0.135593  0.150794  0.113821    ...      0.133929   \n",
       "MIRLET7C  0.036585  0.061538  0.052632  0.028571    ...      0.068966   \n",
       "PHF24     0.100000  0.054348  0.113402  0.086957    ...      0.097561   \n",
       "MRPS21    0.281633  0.157609  0.185185  0.161290    ...      0.163842   \n",
       "SSH1      0.134831  0.134831  0.098039  0.142857    ...      0.132530   \n",
       "\n",
       "            TUBA1A   TMEM141   CCDC154     USP10   SLC16A6     UBAP2  \\\n",
       "MC1R      0.207207  0.131579  0.098901  0.176471  0.142857  0.246835   \n",
       "MIRLET7C  0.045455  0.049180  0.060606  0.037736  0.078431  0.039370   \n",
       "PHF24     0.154762  0.045455  0.086207  0.185714  0.169014  0.118881   \n",
       "MRPS21    0.157609  0.188571  0.078313  0.150289  0.124294  0.205240   \n",
       "SSH1      0.122222  0.103448  0.080645  0.101266  0.160000  0.146853   \n",
       "\n",
       "            ALPPL2      EXO5  LINC00412  \n",
       "MC1R      0.058140  0.162162   0.038462  \n",
       "MIRLET7C  0.040000  0.041667   0.066667  \n",
       "PHF24     0.058824  0.092025   0.100000  \n",
       "MRPS21    0.042945  0.306667   0.019108  \n",
       "SSH1      0.074074  0.089820   0.021277  \n",
       "\n",
       "[5 rows x 24656 columns]"
      ]
     },
     "execution_count": 24,
     "metadata": {},
     "output_type": "execute_result"
    }
   ],
   "source": [
    "gene_similarity_matix.head()"
   ]
  },
  {
   "cell_type": "markdown",
   "metadata": {},
   "source": [
    "# Save Gene Similarity Matrix"
   ]
  },
  {
   "cell_type": "code",
   "execution_count": 25,
   "metadata": {
    "collapsed": true
   },
   "outputs": [],
   "source": [
    "filename = '~/./Documents/Harmonizome/Encode_me_from_sctratch/Output/Transcription_factor/encode_transcription_factors_gene_similarity_matix_%s.tsv.zip'% str(datetime.date.today())[0:7].replace('-', '_')\n",
    "gene_similarity_matix.to_csv(filename, sep='\\t', compression='gzip')"
   ]
  },
  {
   "cell_type": "markdown",
   "metadata": {},
   "source": [
    "# Create Attribute Similarity matrix"
   ]
  },
  {
   "cell_type": "code",
   "execution_count": 26,
   "metadata": {
    "collapsed": true
   },
   "outputs": [],
   "source": [
    "attribute_similarity_matix = uf.createSimilarityMatrix(binary_matrix.T, 'jaccard')"
   ]
  },
  {
   "cell_type": "code",
   "execution_count": 27,
   "metadata": {},
   "outputs": [
    {
     "data": {
      "text/html": [
       "<div>\n",
       "<table border=\"1\" class=\"dataframe\">\n",
       "  <thead>\n",
       "    <tr style=\"text-align: right;\">\n",
       "      <th></th>\n",
       "      <th>SREBF2</th>\n",
       "      <th>ARID3A</th>\n",
       "      <th>C11orf30</th>\n",
       "      <th>HNRNPL</th>\n",
       "      <th>POLR2AphosphoS2</th>\n",
       "      <th>GATAD2B</th>\n",
       "      <th>DDX20</th>\n",
       "      <th>POU5F1</th>\n",
       "      <th>NR3C1</th>\n",
       "      <th>GABPA</th>\n",
       "      <th>...</th>\n",
       "      <th>E2F6</th>\n",
       "      <th>RUNX3</th>\n",
       "      <th>YY1</th>\n",
       "      <th>FLAG-NFIA</th>\n",
       "      <th>FLAG-ZNF652</th>\n",
       "      <th>KDM1A</th>\n",
       "      <th>NCOR1</th>\n",
       "      <th>PHF8</th>\n",
       "      <th>WHSC1</th>\n",
       "      <th>NELFE</th>\n",
       "    </tr>\n",
       "  </thead>\n",
       "  <tbody>\n",
       "    <tr>\n",
       "      <th>SREBF2</th>\n",
       "      <td>1.000000</td>\n",
       "      <td>0.175824</td>\n",
       "      <td>0.101908</td>\n",
       "      <td>0.101692</td>\n",
       "      <td>0.176790</td>\n",
       "      <td>0.145521</td>\n",
       "      <td>0.143788</td>\n",
       "      <td>0.129533</td>\n",
       "      <td>0.140881</td>\n",
       "      <td>0.176415</td>\n",
       "      <td>...</td>\n",
       "      <td>0.130414</td>\n",
       "      <td>0.098451</td>\n",
       "      <td>0.175024</td>\n",
       "      <td>0.097805</td>\n",
       "      <td>0.102993</td>\n",
       "      <td>0.168094</td>\n",
       "      <td>0.099764</td>\n",
       "      <td>0.165312</td>\n",
       "      <td>0.128122</td>\n",
       "      <td>0.114588</td>\n",
       "    </tr>\n",
       "    <tr>\n",
       "      <th>ARID3A</th>\n",
       "      <td>0.175824</td>\n",
       "      <td>1.000000</td>\n",
       "      <td>0.129709</td>\n",
       "      <td>0.115405</td>\n",
       "      <td>0.278798</td>\n",
       "      <td>0.194139</td>\n",
       "      <td>0.193897</td>\n",
       "      <td>0.169771</td>\n",
       "      <td>0.182275</td>\n",
       "      <td>0.292962</td>\n",
       "      <td>...</td>\n",
       "      <td>0.164910</td>\n",
       "      <td>0.126999</td>\n",
       "      <td>0.279798</td>\n",
       "      <td>0.129105</td>\n",
       "      <td>0.125799</td>\n",
       "      <td>0.229750</td>\n",
       "      <td>0.124917</td>\n",
       "      <td>0.205134</td>\n",
       "      <td>0.168773</td>\n",
       "      <td>0.157826</td>\n",
       "    </tr>\n",
       "    <tr>\n",
       "      <th>C11orf30</th>\n",
       "      <td>0.101908</td>\n",
       "      <td>0.129709</td>\n",
       "      <td>1.000000</td>\n",
       "      <td>0.088732</td>\n",
       "      <td>0.146327</td>\n",
       "      <td>0.122838</td>\n",
       "      <td>0.131366</td>\n",
       "      <td>0.107030</td>\n",
       "      <td>0.124478</td>\n",
       "      <td>0.155548</td>\n",
       "      <td>...</td>\n",
       "      <td>0.118387</td>\n",
       "      <td>0.121076</td>\n",
       "      <td>0.153441</td>\n",
       "      <td>0.119821</td>\n",
       "      <td>0.112347</td>\n",
       "      <td>0.111303</td>\n",
       "      <td>0.110525</td>\n",
       "      <td>0.116802</td>\n",
       "      <td>0.115970</td>\n",
       "      <td>0.101856</td>\n",
       "    </tr>\n",
       "    <tr>\n",
       "      <th>HNRNPL</th>\n",
       "      <td>0.101692</td>\n",
       "      <td>0.115405</td>\n",
       "      <td>0.088732</td>\n",
       "      <td>1.000000</td>\n",
       "      <td>0.124085</td>\n",
       "      <td>0.126870</td>\n",
       "      <td>0.096143</td>\n",
       "      <td>0.088257</td>\n",
       "      <td>0.108824</td>\n",
       "      <td>0.123830</td>\n",
       "      <td>...</td>\n",
       "      <td>0.121297</td>\n",
       "      <td>0.084011</td>\n",
       "      <td>0.135926</td>\n",
       "      <td>0.092598</td>\n",
       "      <td>0.081081</td>\n",
       "      <td>0.104839</td>\n",
       "      <td>0.077607</td>\n",
       "      <td>0.116802</td>\n",
       "      <td>0.087519</td>\n",
       "      <td>0.094185</td>\n",
       "    </tr>\n",
       "    <tr>\n",
       "      <th>POLR2AphosphoS2</th>\n",
       "      <td>0.176790</td>\n",
       "      <td>0.278798</td>\n",
       "      <td>0.146327</td>\n",
       "      <td>0.124085</td>\n",
       "      <td>1.000000</td>\n",
       "      <td>0.199958</td>\n",
       "      <td>0.192910</td>\n",
       "      <td>0.191587</td>\n",
       "      <td>0.197801</td>\n",
       "      <td>0.381148</td>\n",
       "      <td>...</td>\n",
       "      <td>0.200575</td>\n",
       "      <td>0.137165</td>\n",
       "      <td>0.334290</td>\n",
       "      <td>0.131447</td>\n",
       "      <td>0.139844</td>\n",
       "      <td>0.243531</td>\n",
       "      <td>0.132920</td>\n",
       "      <td>0.237333</td>\n",
       "      <td>0.184835</td>\n",
       "      <td>0.268009</td>\n",
       "    </tr>\n",
       "  </tbody>\n",
       "</table>\n",
       "<p>5 rows × 456 columns</p>\n",
       "</div>"
      ],
      "text/plain": [
       "                   SREBF2    ARID3A  C11orf30    HNRNPL  POLR2AphosphoS2  \\\n",
       "SREBF2           1.000000  0.175824  0.101908  0.101692         0.176790   \n",
       "ARID3A           0.175824  1.000000  0.129709  0.115405         0.278798   \n",
       "C11orf30         0.101908  0.129709  1.000000  0.088732         0.146327   \n",
       "HNRNPL           0.101692  0.115405  0.088732  1.000000         0.124085   \n",
       "POLR2AphosphoS2  0.176790  0.278798  0.146327  0.124085         1.000000   \n",
       "\n",
       "                  GATAD2B     DDX20    POU5F1     NR3C1     GABPA    ...     \\\n",
       "SREBF2           0.145521  0.143788  0.129533  0.140881  0.176415    ...      \n",
       "ARID3A           0.194139  0.193897  0.169771  0.182275  0.292962    ...      \n",
       "C11orf30         0.122838  0.131366  0.107030  0.124478  0.155548    ...      \n",
       "HNRNPL           0.126870  0.096143  0.088257  0.108824  0.123830    ...      \n",
       "POLR2AphosphoS2  0.199958  0.192910  0.191587  0.197801  0.381148    ...      \n",
       "\n",
       "                     E2F6     RUNX3       YY1  FLAG-NFIA  FLAG-ZNF652  \\\n",
       "SREBF2           0.130414  0.098451  0.175024   0.097805     0.102993   \n",
       "ARID3A           0.164910  0.126999  0.279798   0.129105     0.125799   \n",
       "C11orf30         0.118387  0.121076  0.153441   0.119821     0.112347   \n",
       "HNRNPL           0.121297  0.084011  0.135926   0.092598     0.081081   \n",
       "POLR2AphosphoS2  0.200575  0.137165  0.334290   0.131447     0.139844   \n",
       "\n",
       "                    KDM1A     NCOR1      PHF8     WHSC1     NELFE  \n",
       "SREBF2           0.168094  0.099764  0.165312  0.128122  0.114588  \n",
       "ARID3A           0.229750  0.124917  0.205134  0.168773  0.157826  \n",
       "C11orf30         0.111303  0.110525  0.116802  0.115970  0.101856  \n",
       "HNRNPL           0.104839  0.077607  0.116802  0.087519  0.094185  \n",
       "POLR2AphosphoS2  0.243531  0.132920  0.237333  0.184835  0.268009  \n",
       "\n",
       "[5 rows x 456 columns]"
      ]
     },
     "execution_count": 27,
     "metadata": {},
     "output_type": "execute_result"
    }
   ],
   "source": [
    "attribute_similarity_matix.head()"
   ]
  },
  {
   "cell_type": "markdown",
   "metadata": {},
   "source": [
    "# Save Attribute Similarity Matrix"
   ]
  },
  {
   "cell_type": "code",
   "execution_count": 28,
   "metadata": {
    "collapsed": true
   },
   "outputs": [],
   "source": [
    "filename = '~/./Documents/Harmonizome/Encode_me_from_sctratch/Output/Transcription_factor/encode_transcription_factors_attribute_similarity_matix_%s.tsv.zip'% str(datetime.date.today())[0:7].replace('-', '_')\n",
    "attribute_similarity_matix.to_csv(filename, sep='\\t', compression='gzip')"
   ]
  },
  {
   "cell_type": "markdown",
   "metadata": {},
   "source": [
    "# Create Gene List"
   ]
  },
  {
   "cell_type": "code",
   "execution_count": 29,
   "metadata": {},
   "outputs": [
    {
     "name": "stdout",
     "output_type": "stream",
     "text": [
      "Progeres: 100%  24656 Out of 24656   \r"
     ]
    }
   ],
   "source": [
    "gene_list = uf.createGeneList(binary_matrix)"
   ]
  },
  {
   "cell_type": "code",
   "execution_count": 30,
   "metadata": {},
   "outputs": [
    {
     "data": {
      "text/html": [
       "<div>\n",
       "<table border=\"1\" class=\"dataframe\">\n",
       "  <thead>\n",
       "    <tr style=\"text-align: right;\">\n",
       "      <th></th>\n",
       "      <th>GeneSym</th>\n",
       "      <th>GeneID</th>\n",
       "    </tr>\n",
       "  </thead>\n",
       "  <tbody>\n",
       "    <tr>\n",
       "      <th>0</th>\n",
       "      <td>MC1R</td>\n",
       "      <td>4157</td>\n",
       "    </tr>\n",
       "    <tr>\n",
       "      <th>1</th>\n",
       "      <td>MIRLET7C</td>\n",
       "      <td>406885</td>\n",
       "    </tr>\n",
       "    <tr>\n",
       "      <th>2</th>\n",
       "      <td>PHF24</td>\n",
       "      <td>23349</td>\n",
       "    </tr>\n",
       "    <tr>\n",
       "      <th>3</th>\n",
       "      <td>MRPS21</td>\n",
       "      <td>54460</td>\n",
       "    </tr>\n",
       "    <tr>\n",
       "      <th>4</th>\n",
       "      <td>SSH1</td>\n",
       "      <td>54434</td>\n",
       "    </tr>\n",
       "  </tbody>\n",
       "</table>\n",
       "</div>"
      ],
      "text/plain": [
       "    GeneSym  GeneID\n",
       "0      MC1R    4157\n",
       "1  MIRLET7C  406885\n",
       "2     PHF24   23349\n",
       "3    MRPS21   54460\n",
       "4      SSH1   54434"
      ]
     },
     "execution_count": 30,
     "metadata": {},
     "output_type": "execute_result"
    }
   ],
   "source": [
    "gene_list.head()"
   ]
  },
  {
   "cell_type": "code",
   "execution_count": 31,
   "metadata": {},
   "outputs": [
    {
     "data": {
      "text/plain": [
       "(24656, 2)"
      ]
     },
     "execution_count": 31,
     "metadata": {},
     "output_type": "execute_result"
    }
   ],
   "source": [
    "gene_list.shape"
   ]
  },
  {
   "cell_type": "markdown",
   "metadata": {},
   "source": [
    "# Save Gene List"
   ]
  },
  {
   "cell_type": "code",
   "execution_count": 32,
   "metadata": {
    "collapsed": true
   },
   "outputs": [],
   "source": [
    "filename = '~/./Documents/Harmonizome/Encode_me_from_sctratch/Output/Transcription_factor/encode_transcription_factors_gene_list_%s.tsv.zip'% str(datetime.date.today())[0:7].replace('-', '_')\n",
    "gene_list.to_csv(filename, sep='\\t', index=False, compression='gzip')"
   ]
  },
  {
   "cell_type": "markdown",
   "metadata": {},
   "source": [
    "# Create Attribute List"
   ]
  },
  {
   "cell_type": "code",
   "execution_count": 33,
   "metadata": {
    "collapsed": true
   },
   "outputs": [],
   "source": [
    "attribute_list = uf.createAttributeList(binary_matrix)"
   ]
  },
  {
   "cell_type": "code",
   "execution_count": 34,
   "metadata": {},
   "outputs": [
    {
     "data": {
      "text/html": [
       "<div>\n",
       "<table border=\"1\" class=\"dataframe\">\n",
       "  <thead>\n",
       "    <tr style=\"text-align: right;\">\n",
       "      <th></th>\n",
       "      <th>Attributes</th>\n",
       "    </tr>\n",
       "  </thead>\n",
       "  <tbody>\n",
       "    <tr>\n",
       "      <th>0</th>\n",
       "      <td>SREBF2</td>\n",
       "    </tr>\n",
       "    <tr>\n",
       "      <th>1</th>\n",
       "      <td>ARID3A</td>\n",
       "    </tr>\n",
       "    <tr>\n",
       "      <th>2</th>\n",
       "      <td>C11orf30</td>\n",
       "    </tr>\n",
       "    <tr>\n",
       "      <th>3</th>\n",
       "      <td>HNRNPL</td>\n",
       "    </tr>\n",
       "    <tr>\n",
       "      <th>4</th>\n",
       "      <td>POLR2AphosphoS2</td>\n",
       "    </tr>\n",
       "  </tbody>\n",
       "</table>\n",
       "</div>"
      ],
      "text/plain": [
       "        Attributes\n",
       "0           SREBF2\n",
       "1           ARID3A\n",
       "2         C11orf30\n",
       "3           HNRNPL\n",
       "4  POLR2AphosphoS2"
      ]
     },
     "execution_count": 34,
     "metadata": {},
     "output_type": "execute_result"
    }
   ],
   "source": [
    "attribute_list.head()"
   ]
  },
  {
   "cell_type": "code",
   "execution_count": 35,
   "metadata": {},
   "outputs": [
    {
     "data": {
      "text/plain": [
       "(456, 1)"
      ]
     },
     "execution_count": 35,
     "metadata": {},
     "output_type": "execute_result"
    }
   ],
   "source": [
    "attribute_list.shape"
   ]
  },
  {
   "cell_type": "markdown",
   "metadata": {},
   "source": [
    "# Save Attribute List"
   ]
  },
  {
   "cell_type": "code",
   "execution_count": 36,
   "metadata": {
    "collapsed": true
   },
   "outputs": [],
   "source": [
    "filename = '~/./Documents/Harmonizome/Encode_me_from_sctratch/Output/Transcription_factor/encode_transcription_factors_attribute_list_%s.tsv.zip'% str(datetime.date.today())[0:7].replace('-', '_')\n",
    "attribute_list.to_csv(filename, sep='\\t', index=False, compression='gzip')"
   ]
  },
  {
   "cell_type": "markdown",
   "metadata": {},
   "source": [
    "# Create Gene-Attribute Edge List"
   ]
  },
  {
   "cell_type": "code",
   "execution_count": 37,
   "metadata": {
    "collapsed": true
   },
   "outputs": [],
   "source": [
    "path = '/Users/moshesilverstein/Documents/Harmonizome/Encode_me_from_sctratch/Output/Transcription_factor/'"
   ]
  },
  {
   "cell_type": "code",
   "execution_count": 38,
   "metadata": {
    "collapsed": true
   },
   "outputs": [],
   "source": [
    "name = 'encode_transcription_factors_gene_attribute_edge_list'"
   ]
  },
  {
   "cell_type": "code",
   "execution_count": 39,
   "metadata": {},
   "outputs": [
    {
     "name": "stdout",
     "output_type": "stream",
     "text": [
      "Progeres: 100%  456 Out of 456   \n",
      "\n",
      " The number of statisticaly relevent gene-attribute associations is: 1530489\n"
     ]
    }
   ],
   "source": [
    "uf.createGeneAttributeEdgeList(binary_matrix, gene_list, path, name)"
   ]
  }
 ],
 "metadata": {
  "kernelspec": {
   "display_name": "Python [default]",
   "language": "python",
   "name": "python3"
  },
  "language_info": {
   "codemirror_mode": {
    "name": "ipython",
    "version": 3
   },
   "file_extension": ".py",
   "mimetype": "text/x-python",
   "name": "python",
   "nbconvert_exporter": "python",
   "pygments_lexer": "ipython3",
   "version": "3.5.2"
  }
 },
 "nbformat": 4,
 "nbformat_minor": 2
}
