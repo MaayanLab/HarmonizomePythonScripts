{
 "cells": [
  {
   "cell_type": "markdown",
   "metadata": {},
   "source": [
    "# ENCODE (Transcription Factors - Binding Sites)"
   ]
  },
  {
   "cell_type": "markdown",
   "metadata": {},
   "source": [
    "Author: Moshe Silverstein <br/>\n",
    "Date: 8-17 <br/>\n",
    "Data Source: https://www.encodeproject.org/matrix/?type=Experiment "
   ]
  },
  {
   "cell_type": "code",
   "execution_count": 1,
   "metadata": {
    "collapsed": true
   },
   "outputs": [],
   "source": [
    "import sys, datetime, os\n",
    "import numpy as np\n",
    "import pandas as pd\n",
    "import importlib\n",
    "import untility_functions as uf\n",
    "import re\n",
    "%matplotlib inline"
   ]
  },
  {
   "cell_type": "code",
   "execution_count": 38,
   "metadata": {},
   "outputs": [
    {
     "data": {
      "text/plain": [
       "<module 'untility_functions' from '/Users/moshesilverstein/Documents/Harmonizome/Encode_me_from_sctratch/untility_functions.py'>"
      ]
     },
     "execution_count": 38,
     "metadata": {},
     "output_type": "execute_result"
    }
   ],
   "source": [
    "importlib.reload(uf)"
   ]
  },
  {
   "cell_type": "markdown",
   "metadata": {},
   "source": [
    "# Load Data "
   ]
  },
  {
   "cell_type": "code",
   "execution_count": 6,
   "metadata": {},
   "outputs": [],
   "source": [
    "path = '/Users/moshesilverstein/Documents/Harmonizome/Encode_me_from_sctratch/Output/Transcription_factor/'\n",
    "file = 'COMBINED/encode_transcrip_2017_08.gmt'\n",
    "df = pd.read_csv(path+file, sep='~', header=None)"
   ]
  },
  {
   "cell_type": "code",
   "execution_count": 10,
   "metadata": {},
   "outputs": [
    {
     "data": {
      "text/html": [
       "<div>\n",
       "<table border=\"1\" class=\"dataframe\">\n",
       "  <thead>\n",
       "    <tr style=\"text-align: right;\">\n",
       "      <th></th>\n",
       "      <th>0</th>\n",
       "    </tr>\n",
       "  </thead>\n",
       "  <tbody>\n",
       "    <tr>\n",
       "      <th>0</th>\n",
       "      <td>TAL1_K562_human\\tNA\\tRNF145\\tRFXANK\\tLSMEM1\\tM...</td>\n",
       "    </tr>\n",
       "    <tr>\n",
       "      <th>1</th>\n",
       "      <td>CEBPB_K562_human\\tNA\\tFAM111A\\tSERBP1\\tSMARCAD...</td>\n",
       "    </tr>\n",
       "    <tr>\n",
       "      <th>2</th>\n",
       "      <td>STAT3_MCF 10A_human\\tNA\\tDIRC1\\tMIR2117\\tADAR\\...</td>\n",
       "    </tr>\n",
       "    <tr>\n",
       "      <th>3</th>\n",
       "      <td>ZNF217_MCF-7_human\\tNA\\tSAAL1\\tTMEM167B\\tTMEM4...</td>\n",
       "    </tr>\n",
       "    <tr>\n",
       "      <th>4</th>\n",
       "      <td>MYC_K562_human\\tNA\\tHARBI1\\tZBTB6\\tDHRS4\\tRASS...</td>\n",
       "    </tr>\n",
       "  </tbody>\n",
       "</table>\n",
       "</div>"
      ],
      "text/plain": [
       "                                                   0\n",
       "0  TAL1_K562_human\\tNA\\tRNF145\\tRFXANK\\tLSMEM1\\tM...\n",
       "1  CEBPB_K562_human\\tNA\\tFAM111A\\tSERBP1\\tSMARCAD...\n",
       "2  STAT3_MCF 10A_human\\tNA\\tDIRC1\\tMIR2117\\tADAR\\...\n",
       "3  ZNF217_MCF-7_human\\tNA\\tSAAL1\\tTMEM167B\\tTMEM4...\n",
       "4  MYC_K562_human\\tNA\\tHARBI1\\tZBTB6\\tDHRS4\\tRASS..."
      ]
     },
     "execution_count": 10,
     "metadata": {},
     "output_type": "execute_result"
    }
   ],
   "source": [
    "df.head()"
   ]
  },
  {
   "cell_type": "code",
   "execution_count": 23,
   "metadata": {},
   "outputs": [
    {
     "name": "stdout",
     "output_type": "stream",
     "text": [
      "Progeres: 100%  1320 Out of 1320   \r"
     ]
    }
   ],
   "source": [
    "df_interactions = pd.DataFrame()\n",
    "\n",
    "for i, index in enumerate(df.index):\n",
    "    \n",
    "    progressPercent = ((i+1)/len(df.index))*100\n",
    "\n",
    "    sys.stdout.write(\"Progeres: %d%%  %d Out of %d   \\r\" % (progressPercent, (i+1), len(df.index)))\n",
    "    sys.stdout.flush()\n",
    "    \n",
    "    \n",
    "    lst2 = df.ix[index, 0].split('\\t')[1:]\n",
    "    lst1 = [('_').join(df.ix[index, 0].split('\\t')[0].split('_')[0:2])]*(len(lst2)-1)\n",
    "    lst2.pop(0)\n",
    "    temp = pd.DataFrame()\n",
    "    temp['Transcription-Cell'] = lst1\n",
    "    temp['Gene'] = lst2\n",
    "    df_interactions = pd.concat([df_interactions, temp]) "
   ]
  },
  {
   "cell_type": "code",
   "execution_count": 24,
   "metadata": {},
   "outputs": [
    {
     "data": {
      "text/html": [
       "<div>\n",
       "<table border=\"1\" class=\"dataframe\">\n",
       "  <thead>\n",
       "    <tr style=\"text-align: right;\">\n",
       "      <th></th>\n",
       "      <th>Transcription-Cell</th>\n",
       "      <th>Gene</th>\n",
       "    </tr>\n",
       "  </thead>\n",
       "  <tbody>\n",
       "    <tr>\n",
       "      <th>0</th>\n",
       "      <td>TAL1_K562</td>\n",
       "      <td>RNF145</td>\n",
       "    </tr>\n",
       "    <tr>\n",
       "      <th>1</th>\n",
       "      <td>TAL1_K562</td>\n",
       "      <td>RFXANK</td>\n",
       "    </tr>\n",
       "    <tr>\n",
       "      <th>2</th>\n",
       "      <td>TAL1_K562</td>\n",
       "      <td>LSMEM1</td>\n",
       "    </tr>\n",
       "    <tr>\n",
       "      <th>3</th>\n",
       "      <td>TAL1_K562</td>\n",
       "      <td>MDN1</td>\n",
       "    </tr>\n",
       "    <tr>\n",
       "      <th>4</th>\n",
       "      <td>TAL1_K562</td>\n",
       "      <td>FGFR1OP</td>\n",
       "    </tr>\n",
       "  </tbody>\n",
       "</table>\n",
       "</div>"
      ],
      "text/plain": [
       "  Transcription-Cell     Gene\n",
       "0          TAL1_K562   RNF145\n",
       "1          TAL1_K562   RFXANK\n",
       "2          TAL1_K562   LSMEM1\n",
       "3          TAL1_K562     MDN1\n",
       "4          TAL1_K562  FGFR1OP"
      ]
     },
     "execution_count": 24,
     "metadata": {},
     "output_type": "execute_result"
    }
   ],
   "source": [
    "df_interactions.head()"
   ]
  },
  {
   "cell_type": "code",
   "execution_count": 25,
   "metadata": {},
   "outputs": [
    {
     "data": {
      "text/plain": [
       "(2576867, 2)"
      ]
     },
     "execution_count": 25,
     "metadata": {},
     "output_type": "execute_result"
    }
   ],
   "source": [
    "df_interactions.shape"
   ]
  },
  {
   "cell_type": "markdown",
   "metadata": {},
   "source": [
    "# Map Gene Symbols To Up-to-date Approved Gene Symbols"
   ]
  },
  {
   "cell_type": "code",
   "execution_count": 27,
   "metadata": {},
   "outputs": [],
   "source": [
    "df_interactions.set_index('Gene', inplace=True)"
   ]
  },
  {
   "cell_type": "code",
   "execution_count": 28,
   "metadata": {},
   "outputs": [
    {
     "name": "stdout",
     "output_type": "stream",
     "text": [
      "Progeres: 99%  2576770 Out of 2576867   \r"
     ]
    }
   ],
   "source": [
    "uf.mapgenesymbols(df_interactions)"
   ]
  },
  {
   "cell_type": "code",
   "execution_count": 30,
   "metadata": {},
   "outputs": [
    {
     "data": {
      "text/plain": [
       "(2576010, 1)"
      ]
     },
     "execution_count": 30,
     "metadata": {},
     "output_type": "execute_result"
    }
   ],
   "source": [
    "df_interactions.shape"
   ]
  },
  {
   "cell_type": "markdown",
   "metadata": {},
   "source": [
    "# Drop Duplicates"
   ]
  },
  {
   "cell_type": "code",
   "execution_count": 34,
   "metadata": {
    "collapsed": true
   },
   "outputs": [],
   "source": [
    "df_interactions.reset_index(inplace=True)"
   ]
  },
  {
   "cell_type": "code",
   "execution_count": 35,
   "metadata": {
    "collapsed": true
   },
   "outputs": [],
   "source": [
    "df_interactions.drop_duplicates(inplace=True)"
   ]
  },
  {
   "cell_type": "code",
   "execution_count": 36,
   "metadata": {},
   "outputs": [
    {
     "data": {
      "text/plain": [
       "(2220608, 2)"
      ]
     },
     "execution_count": 36,
     "metadata": {},
     "output_type": "execute_result"
    }
   ],
   "source": [
    "df_interactions.shape"
   ]
  },
  {
   "cell_type": "markdown",
   "metadata": {},
   "source": [
    "# Create Binary Matrix"
   ]
  },
  {
   "cell_type": "code",
   "execution_count": 39,
   "metadata": {},
   "outputs": [
    {
     "name": "stdout",
     "output_type": "stream",
     "text": [
      "Progeres: 100%  24656 Out of 24656   \r"
     ]
    }
   ],
   "source": [
    "binary_matrix = uf.createBinaryMatix(df_interactions)"
   ]
  },
  {
   "cell_type": "code",
   "execution_count": 40,
   "metadata": {},
   "outputs": [
    {
     "data": {
      "text/html": [
       "<div>\n",
       "<table border=\"1\" class=\"dataframe\">\n",
       "  <thead>\n",
       "    <tr style=\"text-align: right;\">\n",
       "      <th></th>\n",
       "      <th>KDM5B_H1-hESC</th>\n",
       "      <th>RXRA_HepG2</th>\n",
       "      <th>GABPA_HepG2</th>\n",
       "      <th>STAT5A_K562</th>\n",
       "      <th>eGFP-ZNF654_HEK293</th>\n",
       "      <th>MTA2_GM12878</th>\n",
       "      <th>CTCF_forebrain</th>\n",
       "      <th>FLAG-HMG20B_isoform2</th>\n",
       "      <th>SIRT6_K562</th>\n",
       "      <th>NR2C1_K562</th>\n",
       "      <th>...</th>\n",
       "      <th>GATA3_MCF-7</th>\n",
       "      <th>MBD2_MCF-7</th>\n",
       "      <th>TCF7_HepG2</th>\n",
       "      <th>MYC_K562</th>\n",
       "      <th>TAF1_MCF-7</th>\n",
       "      <th>CTCF_fibroblast of upper leg skin</th>\n",
       "      <th>POLR2A_MEL cell line</th>\n",
       "      <th>MYOD1_C2C12</th>\n",
       "      <th>SIN3A_A549</th>\n",
       "      <th>eGFP-ZNF394_HEK293</th>\n",
       "    </tr>\n",
       "  </thead>\n",
       "  <tbody>\n",
       "    <tr>\n",
       "      <th>OR6C2</th>\n",
       "      <td>0</td>\n",
       "      <td>0</td>\n",
       "      <td>0</td>\n",
       "      <td>0</td>\n",
       "      <td>0</td>\n",
       "      <td>0</td>\n",
       "      <td>0</td>\n",
       "      <td>0</td>\n",
       "      <td>0</td>\n",
       "      <td>0</td>\n",
       "      <td>...</td>\n",
       "      <td>0</td>\n",
       "      <td>0</td>\n",
       "      <td>0</td>\n",
       "      <td>0</td>\n",
       "      <td>0</td>\n",
       "      <td>0</td>\n",
       "      <td>0</td>\n",
       "      <td>0</td>\n",
       "      <td>0</td>\n",
       "      <td>0</td>\n",
       "    </tr>\n",
       "    <tr>\n",
       "      <th>ZNF286A</th>\n",
       "      <td>0</td>\n",
       "      <td>0</td>\n",
       "      <td>1</td>\n",
       "      <td>0</td>\n",
       "      <td>0</td>\n",
       "      <td>0</td>\n",
       "      <td>1</td>\n",
       "      <td>0</td>\n",
       "      <td>0</td>\n",
       "      <td>1</td>\n",
       "      <td>...</td>\n",
       "      <td>0</td>\n",
       "      <td>0</td>\n",
       "      <td>0</td>\n",
       "      <td>0</td>\n",
       "      <td>0</td>\n",
       "      <td>0</td>\n",
       "      <td>0</td>\n",
       "      <td>0</td>\n",
       "      <td>0</td>\n",
       "      <td>1</td>\n",
       "    </tr>\n",
       "    <tr>\n",
       "      <th>FAM133DP</th>\n",
       "      <td>0</td>\n",
       "      <td>0</td>\n",
       "      <td>0</td>\n",
       "      <td>0</td>\n",
       "      <td>0</td>\n",
       "      <td>0</td>\n",
       "      <td>0</td>\n",
       "      <td>0</td>\n",
       "      <td>0</td>\n",
       "      <td>0</td>\n",
       "      <td>...</td>\n",
       "      <td>0</td>\n",
       "      <td>0</td>\n",
       "      <td>0</td>\n",
       "      <td>1</td>\n",
       "      <td>0</td>\n",
       "      <td>0</td>\n",
       "      <td>0</td>\n",
       "      <td>0</td>\n",
       "      <td>0</td>\n",
       "      <td>1</td>\n",
       "    </tr>\n",
       "    <tr>\n",
       "      <th>NKAP</th>\n",
       "      <td>0</td>\n",
       "      <td>1</td>\n",
       "      <td>1</td>\n",
       "      <td>1</td>\n",
       "      <td>1</td>\n",
       "      <td>1</td>\n",
       "      <td>0</td>\n",
       "      <td>0</td>\n",
       "      <td>0</td>\n",
       "      <td>1</td>\n",
       "      <td>...</td>\n",
       "      <td>1</td>\n",
       "      <td>1</td>\n",
       "      <td>0</td>\n",
       "      <td>1</td>\n",
       "      <td>0</td>\n",
       "      <td>0</td>\n",
       "      <td>0</td>\n",
       "      <td>0</td>\n",
       "      <td>1</td>\n",
       "      <td>1</td>\n",
       "    </tr>\n",
       "    <tr>\n",
       "      <th>AGXT</th>\n",
       "      <td>0</td>\n",
       "      <td>1</td>\n",
       "      <td>0</td>\n",
       "      <td>0</td>\n",
       "      <td>0</td>\n",
       "      <td>0</td>\n",
       "      <td>1</td>\n",
       "      <td>0</td>\n",
       "      <td>0</td>\n",
       "      <td>0</td>\n",
       "      <td>...</td>\n",
       "      <td>0</td>\n",
       "      <td>0</td>\n",
       "      <td>1</td>\n",
       "      <td>0</td>\n",
       "      <td>0</td>\n",
       "      <td>0</td>\n",
       "      <td>0</td>\n",
       "      <td>0</td>\n",
       "      <td>0</td>\n",
       "      <td>0</td>\n",
       "    </tr>\n",
       "  </tbody>\n",
       "</table>\n",
       "<p>5 rows × 1129 columns</p>\n",
       "</div>"
      ],
      "text/plain": [
       "          KDM5B_H1-hESC  RXRA_HepG2  GABPA_HepG2  STAT5A_K562  \\\n",
       "OR6C2                 0           0            0            0   \n",
       "ZNF286A               0           0            1            0   \n",
       "FAM133DP              0           0            0            0   \n",
       "NKAP                  0           1            1            1   \n",
       "AGXT                  0           1            0            0   \n",
       "\n",
       "          eGFP-ZNF654_HEK293  MTA2_GM12878  CTCF_forebrain  \\\n",
       "OR6C2                      0             0               0   \n",
       "ZNF286A                    0             0               1   \n",
       "FAM133DP                   0             0               0   \n",
       "NKAP                       1             1               0   \n",
       "AGXT                       0             0               1   \n",
       "\n",
       "          FLAG-HMG20B_isoform2  SIRT6_K562  NR2C1_K562         ...          \\\n",
       "OR6C2                        0           0           0         ...           \n",
       "ZNF286A                      0           0           1         ...           \n",
       "FAM133DP                     0           0           0         ...           \n",
       "NKAP                         0           0           1         ...           \n",
       "AGXT                         0           0           0         ...           \n",
       "\n",
       "          GATA3_MCF-7  MBD2_MCF-7  TCF7_HepG2  MYC_K562  TAF1_MCF-7  \\\n",
       "OR6C2               0           0           0         0           0   \n",
       "ZNF286A             0           0           0         0           0   \n",
       "FAM133DP            0           0           0         1           0   \n",
       "NKAP                1           1           0         1           0   \n",
       "AGXT                0           0           1         0           0   \n",
       "\n",
       "          CTCF_fibroblast of upper leg skin  POLR2A_MEL cell line  \\\n",
       "OR6C2                                     0                     0   \n",
       "ZNF286A                                   0                     0   \n",
       "FAM133DP                                  0                     0   \n",
       "NKAP                                      0                     0   \n",
       "AGXT                                      0                     0   \n",
       "\n",
       "          MYOD1_C2C12  SIN3A_A549  eGFP-ZNF394_HEK293  \n",
       "OR6C2               0           0                   0  \n",
       "ZNF286A             0           0                   1  \n",
       "FAM133DP            0           0                   1  \n",
       "NKAP                0           1                   1  \n",
       "AGXT                0           0                   0  \n",
       "\n",
       "[5 rows x 1129 columns]"
      ]
     },
     "execution_count": 40,
     "metadata": {},
     "output_type": "execute_result"
    }
   ],
   "source": [
    "binary_matrix.head()"
   ]
  },
  {
   "cell_type": "code",
   "execution_count": 41,
   "metadata": {},
   "outputs": [
    {
     "data": {
      "text/plain": [
       "(24656, 1129)"
      ]
     },
     "execution_count": 41,
     "metadata": {},
     "output_type": "execute_result"
    }
   ],
   "source": [
    "binary_matrix.shape"
   ]
  },
  {
   "cell_type": "markdown",
   "metadata": {},
   "source": [
    "# Save Binary Matrix"
   ]
  },
  {
   "cell_type": "code",
   "execution_count": 42,
   "metadata": {
    "collapsed": true
   },
   "outputs": [],
   "source": [
    "filename = '~/./Documents/Harmonizome/Encode_me_from_sctratch/Output/Transcription_factor/encode_trans_fac_bind_sit_binary_matrix_%s.tsv.zip'% str(datetime.date.today())[0:7].replace('-', '_')\n",
    "binary_matrix.to_csv(filename, sep='\\t', compression='gzip')"
   ]
  },
  {
   "cell_type": "markdown",
   "metadata": {},
   "source": [
    "# Create Gene Set Library"
   ]
  },
  {
   "cell_type": "code",
   "execution_count": 43,
   "metadata": {
    "collapsed": true
   },
   "outputs": [],
   "source": [
    "path = '/Users/moshesilverstein/Documents/Harmonizome/Encode_me_from_sctratch/Output/Transcription_factor/'"
   ]
  },
  {
   "cell_type": "code",
   "execution_count": 44,
   "metadata": {
    "collapsed": true
   },
   "outputs": [],
   "source": [
    "name = 'encode_trans_fac_bind_sit_gene_set'"
   ]
  },
  {
   "cell_type": "code",
   "execution_count": 45,
   "metadata": {},
   "outputs": [
    {
     "name": "stdout",
     "output_type": "stream",
     "text": [
      "Progeres: 100%  1129 Out of 1129   \r"
     ]
    }
   ],
   "source": [
    "uf.createUpGeneSetLib(binary_matrix, path, name)"
   ]
  },
  {
   "cell_type": "markdown",
   "metadata": {},
   "source": [
    "# Create Attribute Library"
   ]
  },
  {
   "cell_type": "code",
   "execution_count": 46,
   "metadata": {
    "collapsed": true
   },
   "outputs": [],
   "source": [
    "path = '/Users/moshesilverstein/Documents/Harmonizome/Encode_me_from_sctratch/Output/Transcription_factor/'"
   ]
  },
  {
   "cell_type": "code",
   "execution_count": 47,
   "metadata": {
    "collapsed": true
   },
   "outputs": [],
   "source": [
    "name = 'encode_trans_fac_bind_sit_attribute_set'"
   ]
  },
  {
   "cell_type": "code",
   "execution_count": 48,
   "metadata": {},
   "outputs": [
    {
     "name": "stdout",
     "output_type": "stream",
     "text": [
      "Progeres: 100%  24656 Out of 24656   \r"
     ]
    }
   ],
   "source": [
    "uf.createUpAttributeSetLib(binary_matrix, path, name)"
   ]
  },
  {
   "cell_type": "markdown",
   "metadata": {},
   "source": [
    "# Create Gene Similarity Matrix"
   ]
  },
  {
   "cell_type": "code",
   "execution_count": 49,
   "metadata": {
    "collapsed": true
   },
   "outputs": [],
   "source": [
    "gene_similarity_matix = uf.createSimilarityMatrix(binary_matrix, 'jaccard')"
   ]
  },
  {
   "cell_type": "code",
   "execution_count": 50,
   "metadata": {},
   "outputs": [
    {
     "data": {
      "text/html": [
       "<div>\n",
       "<table border=\"1\" class=\"dataframe\">\n",
       "  <thead>\n",
       "    <tr style=\"text-align: right;\">\n",
       "      <th></th>\n",
       "      <th>OR6C2</th>\n",
       "      <th>ZNF286A</th>\n",
       "      <th>FAM133DP</th>\n",
       "      <th>NKAP</th>\n",
       "      <th>AGXT</th>\n",
       "      <th>NOXRED1</th>\n",
       "      <th>TNPO1</th>\n",
       "      <th>ADRM1</th>\n",
       "      <th>BYSL</th>\n",
       "      <th>TMPPE</th>\n",
       "      <th>...</th>\n",
       "      <th>CXorf21</th>\n",
       "      <th>SMAD1-AS1</th>\n",
       "      <th>MROH1</th>\n",
       "      <th>TUB</th>\n",
       "      <th>RASGEF1C</th>\n",
       "      <th>SNPH</th>\n",
       "      <th>CADM2-AS2</th>\n",
       "      <th>ELAVL1</th>\n",
       "      <th>PRKCA-AS1</th>\n",
       "      <th>CIDEA</th>\n",
       "    </tr>\n",
       "  </thead>\n",
       "  <tbody>\n",
       "    <tr>\n",
       "      <th>OR6C2</th>\n",
       "      <td>1.000000</td>\n",
       "      <td>0.000000</td>\n",
       "      <td>0.012903</td>\n",
       "      <td>0.000000</td>\n",
       "      <td>0.000000</td>\n",
       "      <td>0.027778</td>\n",
       "      <td>0.004673</td>\n",
       "      <td>0.012500</td>\n",
       "      <td>0.006098</td>\n",
       "      <td>0.000000</td>\n",
       "      <td>...</td>\n",
       "      <td>0.019608</td>\n",
       "      <td>0.033333</td>\n",
       "      <td>0.034483</td>\n",
       "      <td>0.042553</td>\n",
       "      <td>0.000000</td>\n",
       "      <td>0.021277</td>\n",
       "      <td>0.000000</td>\n",
       "      <td>0.000000</td>\n",
       "      <td>0.000000</td>\n",
       "      <td>0.031250</td>\n",
       "    </tr>\n",
       "    <tr>\n",
       "      <th>ZNF286A</th>\n",
       "      <td>0.000000</td>\n",
       "      <td>1.000000</td>\n",
       "      <td>0.073469</td>\n",
       "      <td>0.106101</td>\n",
       "      <td>0.041379</td>\n",
       "      <td>0.021429</td>\n",
       "      <td>0.078471</td>\n",
       "      <td>0.016304</td>\n",
       "      <td>0.084000</td>\n",
       "      <td>0.041379</td>\n",
       "      <td>...</td>\n",
       "      <td>0.053333</td>\n",
       "      <td>0.000000</td>\n",
       "      <td>0.066038</td>\n",
       "      <td>0.019737</td>\n",
       "      <td>0.006623</td>\n",
       "      <td>0.033557</td>\n",
       "      <td>0.007634</td>\n",
       "      <td>0.000000</td>\n",
       "      <td>0.041096</td>\n",
       "      <td>0.017751</td>\n",
       "    </tr>\n",
       "    <tr>\n",
       "      <th>FAM133DP</th>\n",
       "      <td>0.012903</td>\n",
       "      <td>0.073469</td>\n",
       "      <td>1.000000</td>\n",
       "      <td>0.146530</td>\n",
       "      <td>0.040462</td>\n",
       "      <td>0.017751</td>\n",
       "      <td>0.112205</td>\n",
       "      <td>0.023697</td>\n",
       "      <td>0.079137</td>\n",
       "      <td>0.011236</td>\n",
       "      <td>...</td>\n",
       "      <td>0.016304</td>\n",
       "      <td>0.024691</td>\n",
       "      <td>0.045082</td>\n",
       "      <td>0.033708</td>\n",
       "      <td>0.016854</td>\n",
       "      <td>0.028090</td>\n",
       "      <td>0.006250</td>\n",
       "      <td>0.017241</td>\n",
       "      <td>0.052326</td>\n",
       "      <td>0.005000</td>\n",
       "    </tr>\n",
       "    <tr>\n",
       "      <th>NKAP</th>\n",
       "      <td>0.000000</td>\n",
       "      <td>0.106101</td>\n",
       "      <td>0.146530</td>\n",
       "      <td>1.000000</td>\n",
       "      <td>0.021407</td>\n",
       "      <td>0.009288</td>\n",
       "      <td>0.214527</td>\n",
       "      <td>0.039326</td>\n",
       "      <td>0.143577</td>\n",
       "      <td>0.030864</td>\n",
       "      <td>...</td>\n",
       "      <td>0.033333</td>\n",
       "      <td>0.019108</td>\n",
       "      <td>0.070681</td>\n",
       "      <td>0.024242</td>\n",
       "      <td>0.018237</td>\n",
       "      <td>0.021212</td>\n",
       "      <td>0.006390</td>\n",
       "      <td>0.031153</td>\n",
       "      <td>0.037152</td>\n",
       "      <td>0.028986</td>\n",
       "    </tr>\n",
       "    <tr>\n",
       "      <th>AGXT</th>\n",
       "      <td>0.000000</td>\n",
       "      <td>0.041379</td>\n",
       "      <td>0.040462</td>\n",
       "      <td>0.021407</td>\n",
       "      <td>1.000000</td>\n",
       "      <td>0.034483</td>\n",
       "      <td>0.036613</td>\n",
       "      <td>0.000000</td>\n",
       "      <td>0.062147</td>\n",
       "      <td>0.014925</td>\n",
       "      <td>...</td>\n",
       "      <td>0.013514</td>\n",
       "      <td>0.000000</td>\n",
       "      <td>0.014184</td>\n",
       "      <td>0.014085</td>\n",
       "      <td>0.029851</td>\n",
       "      <td>0.000000</td>\n",
       "      <td>0.020833</td>\n",
       "      <td>0.000000</td>\n",
       "      <td>0.014706</td>\n",
       "      <td>0.011364</td>\n",
       "    </tr>\n",
       "  </tbody>\n",
       "</table>\n",
       "<p>5 rows × 24656 columns</p>\n",
       "</div>"
      ],
      "text/plain": [
       "             OR6C2   ZNF286A  FAM133DP      NKAP      AGXT   NOXRED1  \\\n",
       "OR6C2     1.000000  0.000000  0.012903  0.000000  0.000000  0.027778   \n",
       "ZNF286A   0.000000  1.000000  0.073469  0.106101  0.041379  0.021429   \n",
       "FAM133DP  0.012903  0.073469  1.000000  0.146530  0.040462  0.017751   \n",
       "NKAP      0.000000  0.106101  0.146530  1.000000  0.021407  0.009288   \n",
       "AGXT      0.000000  0.041379  0.040462  0.021407  1.000000  0.034483   \n",
       "\n",
       "             TNPO1     ADRM1      BYSL     TMPPE    ...      CXorf21  \\\n",
       "OR6C2     0.004673  0.012500  0.006098  0.000000    ...     0.019608   \n",
       "ZNF286A   0.078471  0.016304  0.084000  0.041379    ...     0.053333   \n",
       "FAM133DP  0.112205  0.023697  0.079137  0.011236    ...     0.016304   \n",
       "NKAP      0.214527  0.039326  0.143577  0.030864    ...     0.033333   \n",
       "AGXT      0.036613  0.000000  0.062147  0.014925    ...     0.013514   \n",
       "\n",
       "          SMAD1-AS1     MROH1       TUB  RASGEF1C      SNPH  CADM2-AS2  \\\n",
       "OR6C2      0.033333  0.034483  0.042553  0.000000  0.021277   0.000000   \n",
       "ZNF286A    0.000000  0.066038  0.019737  0.006623  0.033557   0.007634   \n",
       "FAM133DP   0.024691  0.045082  0.033708  0.016854  0.028090   0.006250   \n",
       "NKAP       0.019108  0.070681  0.024242  0.018237  0.021212   0.006390   \n",
       "AGXT       0.000000  0.014184  0.014085  0.029851  0.000000   0.020833   \n",
       "\n",
       "            ELAVL1  PRKCA-AS1     CIDEA  \n",
       "OR6C2     0.000000   0.000000  0.031250  \n",
       "ZNF286A   0.000000   0.041096  0.017751  \n",
       "FAM133DP  0.017241   0.052326  0.005000  \n",
       "NKAP      0.031153   0.037152  0.028986  \n",
       "AGXT      0.000000   0.014706  0.011364  \n",
       "\n",
       "[5 rows x 24656 columns]"
      ]
     },
     "execution_count": 50,
     "metadata": {},
     "output_type": "execute_result"
    }
   ],
   "source": [
    "gene_similarity_matix.head()"
   ]
  },
  {
   "cell_type": "markdown",
   "metadata": {},
   "source": [
    "# Save Gene Similarity Matrix "
   ]
  },
  {
   "cell_type": "code",
   "execution_count": 51,
   "metadata": {
    "collapsed": true
   },
   "outputs": [],
   "source": [
    "filename = '~/./Documents/Harmonizome/Encode_me_from_sctratch/Output/Transcription_factor/encode_trans_fac_bind_sit_gene_similarity_matix_%s.tsv.zip'% str(datetime.date.today())[0:7].replace('-', '_')\n",
    "gene_similarity_matix.to_csv(filename, sep='\\t', compression='gzip')"
   ]
  },
  {
   "cell_type": "markdown",
   "metadata": {},
   "source": [
    "# Create Attribute Similarity matrix"
   ]
  },
  {
   "cell_type": "code",
   "execution_count": 52,
   "metadata": {
    "collapsed": true
   },
   "outputs": [],
   "source": [
    "attribute_similarity_matix = uf.createSimilarityMatrix(binary_matrix.T, 'jaccard')"
   ]
  },
  {
   "cell_type": "code",
   "execution_count": 53,
   "metadata": {},
   "outputs": [
    {
     "data": {
      "text/html": [
       "<div>\n",
       "<table border=\"1\" class=\"dataframe\">\n",
       "  <thead>\n",
       "    <tr style=\"text-align: right;\">\n",
       "      <th></th>\n",
       "      <th>KDM5B_H1-hESC</th>\n",
       "      <th>RXRA_HepG2</th>\n",
       "      <th>GABPA_HepG2</th>\n",
       "      <th>STAT5A_K562</th>\n",
       "      <th>eGFP-ZNF654_HEK293</th>\n",
       "      <th>MTA2_GM12878</th>\n",
       "      <th>CTCF_forebrain</th>\n",
       "      <th>FLAG-HMG20B_isoform2</th>\n",
       "      <th>SIRT6_K562</th>\n",
       "      <th>NR2C1_K562</th>\n",
       "      <th>...</th>\n",
       "      <th>GATA3_MCF-7</th>\n",
       "      <th>MBD2_MCF-7</th>\n",
       "      <th>TCF7_HepG2</th>\n",
       "      <th>MYC_K562</th>\n",
       "      <th>TAF1_MCF-7</th>\n",
       "      <th>CTCF_fibroblast of upper leg skin</th>\n",
       "      <th>POLR2A_MEL cell line</th>\n",
       "      <th>MYOD1_C2C12</th>\n",
       "      <th>SIN3A_A549</th>\n",
       "      <th>eGFP-ZNF394_HEK293</th>\n",
       "    </tr>\n",
       "  </thead>\n",
       "  <tbody>\n",
       "    <tr>\n",
       "      <th>KDM5B_H1-hESC</th>\n",
       "      <td>1.000000</td>\n",
       "      <td>0.055409</td>\n",
       "      <td>0.054018</td>\n",
       "      <td>0.075847</td>\n",
       "      <td>0.075558</td>\n",
       "      <td>0.058216</td>\n",
       "      <td>0.057362</td>\n",
       "      <td>0.066951</td>\n",
       "      <td>0.070818</td>\n",
       "      <td>0.055966</td>\n",
       "      <td>...</td>\n",
       "      <td>0.066667</td>\n",
       "      <td>0.060727</td>\n",
       "      <td>0.068966</td>\n",
       "      <td>0.059042</td>\n",
       "      <td>0.069805</td>\n",
       "      <td>0.065530</td>\n",
       "      <td>0.056524</td>\n",
       "      <td>0.061024</td>\n",
       "      <td>0.068690</td>\n",
       "      <td>0.068680</td>\n",
       "    </tr>\n",
       "    <tr>\n",
       "      <th>RXRA_HepG2</th>\n",
       "      <td>0.055409</td>\n",
       "      <td>1.000000</td>\n",
       "      <td>0.090215</td>\n",
       "      <td>0.114827</td>\n",
       "      <td>0.091107</td>\n",
       "      <td>0.079644</td>\n",
       "      <td>0.069519</td>\n",
       "      <td>0.112038</td>\n",
       "      <td>0.080054</td>\n",
       "      <td>0.108033</td>\n",
       "      <td>...</td>\n",
       "      <td>0.087548</td>\n",
       "      <td>0.092299</td>\n",
       "      <td>0.105307</td>\n",
       "      <td>0.100715</td>\n",
       "      <td>0.091107</td>\n",
       "      <td>0.089621</td>\n",
       "      <td>0.068662</td>\n",
       "      <td>0.075289</td>\n",
       "      <td>0.095524</td>\n",
       "      <td>0.092922</td>\n",
       "    </tr>\n",
       "    <tr>\n",
       "      <th>GABPA_HepG2</th>\n",
       "      <td>0.054018</td>\n",
       "      <td>0.090215</td>\n",
       "      <td>1.000000</td>\n",
       "      <td>0.107420</td>\n",
       "      <td>0.076716</td>\n",
       "      <td>0.101046</td>\n",
       "      <td>0.077877</td>\n",
       "      <td>0.090215</td>\n",
       "      <td>0.109051</td>\n",
       "      <td>0.153403</td>\n",
       "      <td>...</td>\n",
       "      <td>0.096491</td>\n",
       "      <td>0.116695</td>\n",
       "      <td>0.091430</td>\n",
       "      <td>0.116383</td>\n",
       "      <td>0.107726</td>\n",
       "      <td>0.084011</td>\n",
       "      <td>0.075269</td>\n",
       "      <td>0.068109</td>\n",
       "      <td>0.100933</td>\n",
       "      <td>0.085210</td>\n",
       "    </tr>\n",
       "    <tr>\n",
       "      <th>STAT5A_K562</th>\n",
       "      <td>0.075847</td>\n",
       "      <td>0.114827</td>\n",
       "      <td>0.107420</td>\n",
       "      <td>1.000000</td>\n",
       "      <td>0.115449</td>\n",
       "      <td>0.098325</td>\n",
       "      <td>0.068376</td>\n",
       "      <td>0.111420</td>\n",
       "      <td>0.120839</td>\n",
       "      <td>0.136364</td>\n",
       "      <td>...</td>\n",
       "      <td>0.113896</td>\n",
       "      <td>0.112656</td>\n",
       "      <td>0.112997</td>\n",
       "      <td>0.127396</td>\n",
       "      <td>0.114827</td>\n",
       "      <td>0.092299</td>\n",
       "      <td>0.070664</td>\n",
       "      <td>0.075868</td>\n",
       "      <td>0.112219</td>\n",
       "      <td>0.109293</td>\n",
       "    </tr>\n",
       "    <tr>\n",
       "      <th>eGFP-ZNF654_HEK293</th>\n",
       "      <td>0.075558</td>\n",
       "      <td>0.091107</td>\n",
       "      <td>0.076716</td>\n",
       "      <td>0.115449</td>\n",
       "      <td>1.000000</td>\n",
       "      <td>0.117663</td>\n",
       "      <td>0.066382</td>\n",
       "      <td>0.087252</td>\n",
       "      <td>0.092123</td>\n",
       "      <td>0.112347</td>\n",
       "      <td>...</td>\n",
       "      <td>0.106807</td>\n",
       "      <td>0.081373</td>\n",
       "      <td>0.090835</td>\n",
       "      <td>0.082837</td>\n",
       "      <td>0.081373</td>\n",
       "      <td>0.095290</td>\n",
       "      <td>0.055966</td>\n",
       "      <td>0.070110</td>\n",
       "      <td>0.099425</td>\n",
       "      <td>0.120168</td>\n",
       "    </tr>\n",
       "  </tbody>\n",
       "</table>\n",
       "<p>5 rows × 1129 columns</p>\n",
       "</div>"
      ],
      "text/plain": [
       "                    KDM5B_H1-hESC  RXRA_HepG2  GABPA_HepG2  STAT5A_K562  \\\n",
       "KDM5B_H1-hESC            1.000000    0.055409     0.054018     0.075847   \n",
       "RXRA_HepG2               0.055409    1.000000     0.090215     0.114827   \n",
       "GABPA_HepG2              0.054018    0.090215     1.000000     0.107420   \n",
       "STAT5A_K562              0.075847    0.114827     0.107420     1.000000   \n",
       "eGFP-ZNF654_HEK293       0.075558    0.091107     0.076716     0.115449   \n",
       "\n",
       "                    eGFP-ZNF654_HEK293  MTA2_GM12878  CTCF_forebrain  \\\n",
       "KDM5B_H1-hESC                 0.075558      0.058216        0.057362   \n",
       "RXRA_HepG2                    0.091107      0.079644        0.069519   \n",
       "GABPA_HepG2                   0.076716      0.101046        0.077877   \n",
       "STAT5A_K562                   0.115449      0.098325        0.068376   \n",
       "eGFP-ZNF654_HEK293            1.000000      0.117663        0.066382   \n",
       "\n",
       "                    FLAG-HMG20B_isoform2  SIRT6_K562  NR2C1_K562  \\\n",
       "KDM5B_H1-hESC                   0.066951    0.070818    0.055966   \n",
       "RXRA_HepG2                      0.112038    0.080054    0.108033   \n",
       "GABPA_HepG2                     0.090215    0.109051    0.153403   \n",
       "STAT5A_K562                     0.111420    0.120839    0.136364   \n",
       "eGFP-ZNF654_HEK293              0.087252    0.092123    0.112347   \n",
       "\n",
       "                           ...          GATA3_MCF-7  MBD2_MCF-7  TCF7_HepG2  \\\n",
       "KDM5B_H1-hESC              ...             0.066667    0.060727    0.068966   \n",
       "RXRA_HepG2                 ...             0.087548    0.092299    0.105307   \n",
       "GABPA_HepG2                ...             0.096491    0.116695    0.091430   \n",
       "STAT5A_K562                ...             0.113896    0.112656    0.112997   \n",
       "eGFP-ZNF654_HEK293         ...             0.106807    0.081373    0.090835   \n",
       "\n",
       "                    MYC_K562  TAF1_MCF-7  CTCF_fibroblast of upper leg skin  \\\n",
       "KDM5B_H1-hESC       0.059042    0.069805                           0.065530   \n",
       "RXRA_HepG2          0.100715    0.091107                           0.089621   \n",
       "GABPA_HepG2         0.116383    0.107726                           0.084011   \n",
       "STAT5A_K562         0.127396    0.114827                           0.092299   \n",
       "eGFP-ZNF654_HEK293  0.082837    0.081373                           0.095290   \n",
       "\n",
       "                    POLR2A_MEL cell line  MYOD1_C2C12  SIN3A_A549  \\\n",
       "KDM5B_H1-hESC                   0.056524     0.061024    0.068690   \n",
       "RXRA_HepG2                      0.068662     0.075289    0.095524   \n",
       "GABPA_HepG2                     0.075269     0.068109    0.100933   \n",
       "STAT5A_K562                     0.070664     0.075868    0.112219   \n",
       "eGFP-ZNF654_HEK293              0.055966     0.070110    0.099425   \n",
       "\n",
       "                    eGFP-ZNF394_HEK293  \n",
       "KDM5B_H1-hESC                 0.068680  \n",
       "RXRA_HepG2                    0.092922  \n",
       "GABPA_HepG2                   0.085210  \n",
       "STAT5A_K562                   0.109293  \n",
       "eGFP-ZNF654_HEK293            0.120168  \n",
       "\n",
       "[5 rows x 1129 columns]"
      ]
     },
     "execution_count": 53,
     "metadata": {},
     "output_type": "execute_result"
    }
   ],
   "source": [
    "attribute_similarity_matix.head()"
   ]
  },
  {
   "cell_type": "markdown",
   "metadata": {},
   "source": [
    "# Save Attribute Similarity Matrix"
   ]
  },
  {
   "cell_type": "code",
   "execution_count": 54,
   "metadata": {
    "collapsed": true
   },
   "outputs": [],
   "source": [
    "filename = '~/./Documents/Harmonizome/Encode_me_from_sctratch/Output/Transcription_factor/encode_trans_fac_bind_sit_attribute_similarity_matix_%s.tsv.zip'% str(datetime.date.today())[0:7].replace('-', '_')\n",
    "attribute_similarity_matix.to_csv(filename, sep='\\t', compression='gzip')"
   ]
  },
  {
   "cell_type": "markdown",
   "metadata": {},
   "source": [
    "# Create Gene List"
   ]
  },
  {
   "cell_type": "code",
   "execution_count": 55,
   "metadata": {},
   "outputs": [
    {
     "name": "stdout",
     "output_type": "stream",
     "text": [
      "Progeres: 100%  24656 Out of 24656   \r"
     ]
    }
   ],
   "source": [
    "gene_list = uf.createGeneList(binary_matrix)"
   ]
  },
  {
   "cell_type": "code",
   "execution_count": 56,
   "metadata": {},
   "outputs": [
    {
     "data": {
      "text/html": [
       "<div>\n",
       "<table border=\"1\" class=\"dataframe\">\n",
       "  <thead>\n",
       "    <tr style=\"text-align: right;\">\n",
       "      <th></th>\n",
       "      <th>GeneSym</th>\n",
       "      <th>GeneID</th>\n",
       "    </tr>\n",
       "  </thead>\n",
       "  <tbody>\n",
       "    <tr>\n",
       "      <th>0</th>\n",
       "      <td>OR6C2</td>\n",
       "      <td>341416</td>\n",
       "    </tr>\n",
       "    <tr>\n",
       "      <th>1</th>\n",
       "      <td>ZNF286A</td>\n",
       "      <td>57335</td>\n",
       "    </tr>\n",
       "    <tr>\n",
       "      <th>2</th>\n",
       "      <td>FAM133DP</td>\n",
       "      <td>728066</td>\n",
       "    </tr>\n",
       "    <tr>\n",
       "      <th>3</th>\n",
       "      <td>NKAP</td>\n",
       "      <td>79576</td>\n",
       "    </tr>\n",
       "    <tr>\n",
       "      <th>4</th>\n",
       "      <td>AGXT</td>\n",
       "      <td>189</td>\n",
       "    </tr>\n",
       "  </tbody>\n",
       "</table>\n",
       "</div>"
      ],
      "text/plain": [
       "    GeneSym  GeneID\n",
       "0     OR6C2  341416\n",
       "1   ZNF286A   57335\n",
       "2  FAM133DP  728066\n",
       "3      NKAP   79576\n",
       "4      AGXT     189"
      ]
     },
     "execution_count": 56,
     "metadata": {},
     "output_type": "execute_result"
    }
   ],
   "source": [
    "gene_list.head()"
   ]
  },
  {
   "cell_type": "code",
   "execution_count": 57,
   "metadata": {},
   "outputs": [
    {
     "data": {
      "text/plain": [
       "(24656, 2)"
      ]
     },
     "execution_count": 57,
     "metadata": {},
     "output_type": "execute_result"
    }
   ],
   "source": [
    "gene_list.shape"
   ]
  },
  {
   "cell_type": "markdown",
   "metadata": {},
   "source": [
    "# Save Gene List"
   ]
  },
  {
   "cell_type": "code",
   "execution_count": 58,
   "metadata": {
    "collapsed": true
   },
   "outputs": [],
   "source": [
    "filename = '~/./Documents/Harmonizome/Encode_me_from_sctratch/Output/Transcription_factor/encode_trans_fac_bind_sit_gene_list_%s.tsv.zip'% str(datetime.date.today())[0:7].replace('-', '_')\n",
    "gene_list.to_csv(filename, sep='\\t', index=False, compression='gzip')"
   ]
  },
  {
   "cell_type": "markdown",
   "metadata": {},
   "source": [
    "# Create Attribute List "
   ]
  },
  {
   "cell_type": "code",
   "execution_count": 59,
   "metadata": {
    "collapsed": true
   },
   "outputs": [],
   "source": [
    "attribute_list = uf.createAttributeList(binary_matrix)"
   ]
  },
  {
   "cell_type": "code",
   "execution_count": 60,
   "metadata": {},
   "outputs": [
    {
     "data": {
      "text/html": [
       "<div>\n",
       "<table border=\"1\" class=\"dataframe\">\n",
       "  <thead>\n",
       "    <tr style=\"text-align: right;\">\n",
       "      <th></th>\n",
       "      <th>Attributes</th>\n",
       "    </tr>\n",
       "  </thead>\n",
       "  <tbody>\n",
       "    <tr>\n",
       "      <th>0</th>\n",
       "      <td>KDM5B_H1-hESC</td>\n",
       "    </tr>\n",
       "    <tr>\n",
       "      <th>1</th>\n",
       "      <td>RXRA_HepG2</td>\n",
       "    </tr>\n",
       "    <tr>\n",
       "      <th>2</th>\n",
       "      <td>GABPA_HepG2</td>\n",
       "    </tr>\n",
       "    <tr>\n",
       "      <th>3</th>\n",
       "      <td>STAT5A_K562</td>\n",
       "    </tr>\n",
       "    <tr>\n",
       "      <th>4</th>\n",
       "      <td>eGFP-ZNF654_HEK293</td>\n",
       "    </tr>\n",
       "  </tbody>\n",
       "</table>\n",
       "</div>"
      ],
      "text/plain": [
       "           Attributes\n",
       "0       KDM5B_H1-hESC\n",
       "1          RXRA_HepG2\n",
       "2         GABPA_HepG2\n",
       "3         STAT5A_K562\n",
       "4  eGFP-ZNF654_HEK293"
      ]
     },
     "execution_count": 60,
     "metadata": {},
     "output_type": "execute_result"
    }
   ],
   "source": [
    "attribute_list.head()"
   ]
  },
  {
   "cell_type": "code",
   "execution_count": 61,
   "metadata": {},
   "outputs": [
    {
     "data": {
      "text/plain": [
       "(1129, 1)"
      ]
     },
     "execution_count": 61,
     "metadata": {},
     "output_type": "execute_result"
    }
   ],
   "source": [
    "attribute_list.shape"
   ]
  },
  {
   "cell_type": "markdown",
   "metadata": {},
   "source": [
    "# Save Attribute List"
   ]
  },
  {
   "cell_type": "code",
   "execution_count": 62,
   "metadata": {
    "collapsed": true
   },
   "outputs": [],
   "source": [
    "filename = '~/./Documents/Harmonizome/Encode_me_from_sctratch/Output/Transcription_factor/encode_trans_fac_bind_sit_attribute_list_%s.tsv.zip'% str(datetime.date.today())[0:7].replace('-', '_')\n",
    "attribute_list.to_csv(filename, sep='\\t', index=False, compression='gzip')"
   ]
  },
  {
   "cell_type": "markdown",
   "metadata": {},
   "source": [
    "# Create Gene-Attribute Edge List"
   ]
  },
  {
   "cell_type": "code",
   "execution_count": 63,
   "metadata": {
    "collapsed": true
   },
   "outputs": [],
   "source": [
    "path = '/Users/moshesilverstein/Documents/Harmonizome/Encode_me_from_sctratch/Output/Transcription_factor/'"
   ]
  },
  {
   "cell_type": "code",
   "execution_count": 64,
   "metadata": {
    "collapsed": true
   },
   "outputs": [],
   "source": [
    "name = 'encode_trans_fac_bind_sit_gene_attribute_edge_list'"
   ]
  },
  {
   "cell_type": "code",
   "execution_count": 65,
   "metadata": {},
   "outputs": [
    {
     "name": "stdout",
     "output_type": "stream",
     "text": [
      "Progeres: 100%  1129 Out of 1129   \n",
      "\n",
      " The number of statisticaly relevent gene-attribute associations is: 2220608\n"
     ]
    }
   ],
   "source": [
    "uf.createGeneAttributeEdgeList(binary_matrix, gene_list, path, name)"
   ]
  }
 ],
 "metadata": {
  "kernelspec": {
   "display_name": "Python [default]",
   "language": "python",
   "name": "python3"
  },
  "language_info": {
   "codemirror_mode": {
    "name": "ipython",
    "version": 3
   },
   "file_extension": ".py",
   "mimetype": "text/x-python",
   "name": "python",
   "nbconvert_exporter": "python",
   "pygments_lexer": "ipython3",
   "version": "3.5.2"
  }
 },
 "nbformat": 4,
 "nbformat_minor": 2
}
