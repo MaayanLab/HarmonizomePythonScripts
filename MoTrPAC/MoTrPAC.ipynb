{
 "cells": [
  {
   "cell_type": "markdown",
   "metadata": {},
   "source": [
    "# MoTrPAC Rat Endurance Exercise Training\n",
    "This notebook contains the code used to process the MoTrPAC Rat Endurance Exercise Training dataset for Harmonizome. Tissue samples from rats aged 1-8 weeks were collected from MoTrPAC timewise differential expression analaysis files containing logFC gene expression values compared to 6-month old rats. These gene expression values were then normalized using gene-wise z-score normalization, keeping associations with a z-score with absoluve value ≥ 2."
   ]
  },
  {
   "cell_type": "code",
   "execution_count": null,
   "metadata": {},
   "outputs": [],
   "source": [
    "import pandas as pd\n",
    "import datetime\n",
    "import numpy as np\n",
    "import scipy.spatial.distance as dist\n",
    "import seaborn as sns\n",
    "import sys\n",
    "import json\n",
    "import scanpy as sc\n",
    "from tqdm import tqdm\n",
    "\n",
    "# UMAP\n",
    "from sklearn.feature_extraction.text import TfidfVectorizer\n",
    "import anndata\n",
    "from collections import OrderedDict\n",
    "\n",
    "# Bokeh\n",
    "from bokeh.io import output_notebook\n",
    "from bokeh.plotting import figure, show, save, output_file\n",
    "from bokeh.models import HoverTool, ColumnDataSource\n",
    "from bokeh.palettes import Category20\n",
    "output_notebook()\n",
    "\n",
    "from IPython.display import display, HTML, Markdown\n",
    "sys.setrecursionlimit(100000)"
   ]
  },
  {
   "cell_type": "markdown",
   "metadata": {},
   "source": [
    "## Load and Pre-process Data"
   ]
  },
  {
   "cell_type": "code",
   "execution_count": null,
   "metadata": {},
   "outputs": [],
   "source": [
    "motrpacdir = 'transcriptomics/analysis/transcript-rna-seq/dea/'\n",
    "motrpac = pd.DataFrame([])\n",
    "for rnaseqfile in os.listdir(motrpacdir):\n",
    "    if 'timewise' in rnaseqfile:\n",
    "        rnaseq = pd.read_csv(motrpacdir+rnaseqfile, sep='\\t').get(['feature_ID', 'tissue', 'sex', 'comparison_group', 'logFC'])\n",
    "        rnaseq['term'] = rnaseq['tissue']+'_'+rnaseq['sex']+'_'+rnaseq['comparison_group']\n",
    "        rnaseq = pd.crosstab(rnaseq['feature_ID'], rnaseq['term'], rnaseq['logFC'], aggfunc=max)\n",
    "        motrpac = pd.concat([motrpac, rnaseq], axis=1)"
   ]
  },
  {
   "cell_type": "code",
   "execution_count": null,
   "metadata": {},
   "outputs": [],
   "source": [
    "motrpac"
   ]
  },
  {
   "cell_type": "code",
   "execution_count": null,
   "metadata": {},
   "outputs": [],
   "source": [
    "ensemblgenemapping = pd.read_csv('ensemblgenemapping.txt', sep='\\t').set_index('Gene stable ID')['NCBI gene (formerly Entrezgene) ID'].to_dict()\n",
    "ensembl2gene = pd.read_csv('gene2ensembl.txt', sep='\\t').set_index('Ensembl_gene_identifier')['GeneID'].to_dict()"
   ]
  },
  {
   "cell_type": "code",
   "execution_count": null,
   "metadata": {},
   "outputs": [],
   "source": [
    "motrpac = motrpac.reset_index()\n",
    "motrpac['genemapping'] = motrpac['feature_ID'].apply(lambda x: x in ensembl2gene)\n",
    "motrpac = motrpac[motrpac['genemapping']]\n",
    "motrpac['feature_ID'] = motrpac['feature_ID'].apply(lambda x: ensembl2gene[x])\n",
    "motrpac = motrpac.set_index('feature_ID').drop(columns=['genemapping'])\n",
    "motrpac"
   ]
  },
  {
   "cell_type": "code",
   "execution_count": null,
   "metadata": {},
   "outputs": [],
   "source": [
    "mammalgeneinfo = pd.read_csv('../../tables/mammal_gene_info', sep='\\t')\n",
    "ratgenes = mammalgeneinfo[mammalgeneinfo['#tax_id']==10116].set_index('GeneID')['Symbol'].to_dict()\n",
    "motrpac.index = motrpac.index.map(lambda x: ratgenes[x])\n",
    "motrpac"
   ]
  },
  {
   "cell_type": "code",
   "execution_count": null,
   "metadata": {},
   "outputs": [],
   "source": [
    "def mapindex(matrix):\n",
    "    newmatrix = matrix.copy()\n",
    "    newmatrix['mapped'] = newmatrix.index.map(lambda x: x.upper() in symbolmap)\n",
    "    newmatrix = newmatrix[newmatrix['mapped']]\n",
    "    newmatrix.index = newmatrix.index.map(lambda x: symbolmap[x.upper()])\n",
    "    return newmatrix.drop(columns=['mapped'])"
   ]
  },
  {
   "cell_type": "code",
   "execution_count": null,
   "metadata": {},
   "outputs": [],
   "source": [
    "symbolmap = pd.read_csv('../../mapping/mappingFile_2023.tsv', sep='\\t', header=None).set_index(1)[2].to_dict()\n",
    "motrpac = mapindex(motrpac)\n",
    "motrpac = motrpac.dropna(axis=0, thresh=motrpac.shape[1]/2)\n",
    "motrpac"
   ]
  },
  {
   "cell_type": "code",
   "execution_count": null,
   "metadata": {},
   "outputs": [],
   "source": [
    "motrpac = motrpac.T.fillna(motrpac.mean(axis=1), axis=0).T\n",
    "def zscore(gene):\n",
    "    mean = gene.mean()\n",
    "    std = gene.std()\n",
    "    gene = gene.apply(lambda x: (x-mean)/std)\n",
    "    return gene\n",
    "\n",
    "motrpac = motrpac.apply(zscore, axis=1)\n",
    "motrpac"
   ]
  },
  {
   "cell_type": "code",
   "execution_count": null,
   "metadata": {},
   "outputs": [],
   "source": [
    "motrpac = motrpac[np.abs(motrpac)>2].stack().to_frame().sort_values(0).reset_index()\n",
    "motrpac.columns = ['Gene', 'Sample', 'z']\n",
    "motrpac"
   ]
  },
  {
   "cell_type": "markdown",
   "metadata": {},
   "source": [
    "## Process Data for SQL"
   ]
  },
  {
   "cell_type": "markdown",
   "metadata": {},
   "source": [
    "### Resource"
   ]
  },
  {
   "cell_type": "code",
   "execution_count": null,
   "metadata": {},
   "outputs": [],
   "source": [
    "#(id, name, acronym, long_description, short_description, url, num_attributes, num_datasets)\n",
    "(107, 'Molecular Transducers of Physical Activity Consortium', 'MoTrPAC', 'MoTrPAC is a national research consortium designed to discover and perform preliminary characterization of the range of molecular transducers (the \"molecular map\") that underlie the effects of physical activity in humans.', 'MoTrPAC studies the molecular changes during and after exercise to understand how physical activity affects health.', 'https://www.motrpac.org', 142, 1)"
   ]
  },
  {
   "cell_type": "markdown",
   "metadata": {},
   "source": [
    "### Dataset"
   ]
  },
  {
   "cell_type": "code",
   "execution_count": null,
   "metadata": {},
   "outputs": [],
   "source": [
    "print('(id, name, name_without_resource, description, association, gene_set_description, gene_sets_description, attribute_set_description, positive_association, negative_association, is_signed, is_continuous_valued, last_updated, directory, num_page_views, resource_fk, measurement_fk, dataset_group_fk, attribute_type_fk, attribute_group_fk, evidence_type, evidence_group, measurement_bias, attribute_type_plural, is_archived)')\n",
    "(146, 'MoTrPAC Rat Endurance Exercise Training', 'Rat Endurance Exercise Training Transcriptomics', 'RNA-seq gene expression profiles for rat tissue samples across 4 time points and 19 tissues', 'gene-tissue sample association by differential expression of gene across tissue samples', 'genes with high or low expression in {0} relative to other tissue samples from the MoTrPAC Rat Endurance Exercise Training dataset.', 'sets of genes with high or low expression in each tissue sample relative to other tissue samples from the MoTrPAC Rat Endurance Exercise Training dataset.', 'tissue samples with high or low expression of {0} gene relative to other tissue samples from the MoTrPAC Rat Endurance Exercise Training dataset.', 'high expression', 'low expression', 1, 1, '2023-10-11', 'motrpac', 0, 107, 16, 7, 5, 1, 'gene expression by RNA-seq', 'primary experimental data', 'high throughput, data driven', 'tissue samples', 0)"
   ]
  },
  {
   "cell_type": "markdown",
   "metadata": {},
   "source": [
    "### Publication"
   ]
  },
  {
   "cell_type": "code",
   "execution_count": null,
   "metadata": {},
   "outputs": [],
   "source": [
    "#(id, long_citation, short_citation, url, pmid, pubmed_url, first_author_last_name, first_author_initials, journal_abbreviation, year, title, volume, pages)\n",
    "(145, 'Sanford JA, et al. (2020) Molecular Transducers of Physical Activity Consortium (MoTrPAC): Mapping the Dynamic Responses to Exercis. Cell. 181:1464-1474', 'Sanford, Cell, 2020.', 'dx.doi.org/10.1016/j.cell.2020.06.004', 32589957, 'https://pubmed.ncbi.nlm.nih.gov/32589957', 'Sanford', 'JA', 'Cell', 2020, 'Molecular Transducers of Physical Activity Consortium (MoTrPAC): Mapping the Dynamic Responses to Exercise', 181, '1464-1474')"
   ]
  },
  {
   "cell_type": "markdown",
   "metadata": {},
   "source": [
    "### Genes"
   ]
  },
  {
   "cell_type": "code",
   "execution_count": null,
   "metadata": {},
   "outputs": [],
   "source": [
    "index = 57376\n",
    "\n",
    "geneinfo = pd.read_csv('../../tables/gene_info', sep='\\t').drop_duplicates('Symbol').set_index('Symbol')\n",
    "geneinfo = geneinfo[geneinfo['type_of_gene']=='protein-coding']\n",
    "genes = pd.read_csv('../../tables/gene.csv')\n",
    "genes['symbol'] = genes['symbol'].apply(str.upper)\n",
    "genefks = genes.set_index('symbol')['id'].to_dict()\n",
    "genes = genes['symbol'].to_list()\n",
    "\n",
    "motrpac['Gene'] = motrpac['Gene'].apply(str.upper)\n",
    "motrpac = motrpac.set_index('Gene')\n",
    "for gene in motrpac.index.unique():\n",
    "    if gene not in genes and gene in geneinfo.index:\n",
    "        print((index, gene, geneinfo.loc[gene, 'GeneID'], geneinfo.loc[gene, 'description'], 'https://ncbi.nlm.nih.gov/gene/'+str(geneinfo.loc[gene, 'GeneID'])), end=',\\n')\n",
    "        genefks[gene] = index\n",
    "        index += 1\n",
    "    elif gene not in geneinfo.index:\n",
    "        motrpac = motrpac.drop(gene)\n",
    "motrpac = motrpac.reset_index()"
   ]
  },
  {
   "cell_type": "markdown",
   "metadata": {},
   "source": [
    "### Naming Authority"
   ]
  },
  {
   "cell_type": "code",
   "execution_count": null,
   "metadata": {},
   "outputs": [],
   "source": [
    "(103, 'Molecular Transducers of Physical Activity Consortium', 'MoTrPAC', 'MoTrPAC studies the molecular changes during and after exercise to understand how physical activity affects health.','https://www.motrpac.org', 145)"
   ]
  },
  {
   "cell_type": "markdown",
   "metadata": {},
   "source": [
    "### Attributes"
   ]
  },
  {
   "cell_type": "code",
   "execution_count": null,
   "metadata": {},
   "outputs": [],
   "source": [
    "index = 365859\n",
    "attributefks = {}\n",
    "\n",
    "for sample in motrpac['Sample'].unique():\n",
    "    print ((index, sample, 'rat tissue sample identified by [tissue]_[sex]_[age in weeks]', 103), end=',\\n')\n",
    "    attributefks[sample] = index\n",
    "    index += 1"
   ]
  },
  {
   "cell_type": "markdown",
   "metadata": {},
   "source": [
    "### Gene Sets"
   ]
  },
  {
   "cell_type": "code",
   "execution_count": null,
   "metadata": {},
   "outputs": [],
   "source": [
    "index = 134700000\n",
    "genesetfks = {}\n",
    "\n",
    "for sample in motrpac['Sample'].unique():\n",
    "    print ((index, sample, 'rat tissue sample identified by [tissue]_[sex]_[age in weeks]', 146, 5, attributefks[sample]), end=',\\n')\n",
    "    genesetfks[sample] = index\n",
    "    index += 1"
   ]
  },
  {
   "cell_type": "markdown",
   "metadata": {},
   "source": [
    "### Associations"
   ]
  },
  {
   "cell_type": "code",
   "execution_count": null,
   "metadata": {},
   "outputs": [],
   "source": [
    "def threshold(x):\n",
    "    if x>0:\n",
    "        return 1\n",
    "    elif x<0:\n",
    "        return -1\n",
    "    return x"
   ]
  },
  {
   "cell_type": "code",
   "execution_count": null,
   "metadata": {},
   "outputs": [],
   "source": [
    "index = 28000000\n",
    "\n",
    "associations = motrpac.copy()\n",
    "associations['Gene'] = associations['Gene'].apply(lambda x: genefks[x])\n",
    "associations['Sample'] = associations['Sample'].apply(lambda x: genesetfks[x])\n",
    "associations['Threshold'] = associations['z'].apply(lambda x: threshold(x))\n",
    "associations.columns = ['gene_fk', 'gene_set_fk', 'standardized_value', 'threshold_value']\n",
    "associations.index += index\n",
    "associations.to_csv('../../harmonizome-update/motrpac.csv')\n",
    "associations"
   ]
  },
  {
   "cell_type": "markdown",
   "metadata": {},
   "source": [
    "## Create Downloads"
   ]
  },
  {
   "cell_type": "code",
   "execution_count": null,
   "metadata": {},
   "outputs": [],
   "source": [
    "output_path = 'downloads/'\n",
    "motrpac['threshold'] = motrpac['z'].apply(threshold)\n",
    "motrpac"
   ]
  },
  {
   "cell_type": "markdown",
   "metadata": {},
   "source": [
    "### Gene Attribute Ternary Matrix"
   ]
  },
  {
   "cell_type": "code",
   "execution_count": null,
   "metadata": {},
   "outputs": [],
   "source": [
    "ternarymatrix = pd.crosstab(motrpac['Gene'], motrpac['Sample'], motrpac['threshold'], aggfunc=max).replace(np.nan, 0)\n",
    "ternarymatrixT = ternarymatrix.T\n",
    "ternarymatrix.to_csv(output_path+'gene_attribute_matrix.txt.gz', sep='\\t', compression='gzip')\n",
    "ternarymatrix"
   ]
  },
  {
   "cell_type": "markdown",
   "metadata": {},
   "source": [
    "### Gene Attribute Edge List"
   ]
  },
  {
   "cell_type": "code",
   "execution_count": null,
   "metadata": {},
   "outputs": [],
   "source": [
    "geneids = geneinfo['GeneID'].to_dict()\n",
    "edgelist = motrpac.copy()\n",
    "edgelist['Gene ID'] = edgelist['Gene'].apply(lambda x: geneids[x])\n",
    "edgelist = edgelist.get(['Gene', 'Gene ID', 'Sample', 'z', 'threshold'])\n",
    "edgelist.columns = ['Gene', 'Gene ID', 'Sample', 'Z-score', 'Threshold Value']\n",
    "edgelist.to_csv(output_path+'gene_attribute_edges.txt.gz', sep='\\t', compression='gzip')\n",
    "edgelist"
   ]
  },
  {
   "cell_type": "markdown",
   "metadata": {},
   "source": [
    "### Gene List"
   ]
  },
  {
   "cell_type": "code",
   "execution_count": null,
   "metadata": {},
   "outputs": [],
   "source": [
    "geneslist = edgelist.get(['Gene', 'Gene ID']).drop_duplicates().reset_index(drop=True)\n",
    "geneslist.to_csv(output_path+'gene_list_terms.txt.gz', sep='\\t', compression='gzip')\n",
    "geneslist"
   ]
  },
  {
   "cell_type": "markdown",
   "metadata": {},
   "source": [
    "### Attribute List"
   ]
  },
  {
   "cell_type": "code",
   "execution_count": null,
   "metadata": {},
   "outputs": [],
   "source": [
    "attributeslist = edgelist.get(['Sample']).drop_duplicates().reset_index(drop=True)\n",
    "attributeslist.to_csv(output_path+'attribute_list_entries.txt.gz', sep='\\t', compression='gzip')\n",
    "attributeslist"
   ]
  },
  {
   "cell_type": "markdown",
   "metadata": {},
   "source": [
    "### Up Gene Set Library"
   ]
  },
  {
   "cell_type": "code",
   "execution_count": null,
   "metadata": {},
   "outputs": [],
   "source": [
    "with open(output_path+'gene_set_library_up_crisp.gmt', 'w') as f:\n",
    "    arr = ternarymatrix.reset_index(drop=True).to_numpy(dtype=np.int_)\n",
    "    attributes = ternarymatrix.columns\n",
    "\n",
    "    w, h = arr.shape\n",
    "    for i in tqdm(range(h)):\n",
    "        if len([*ternarymatrix.index[arr[:, i] == 1]])>= 5:\n",
    "            print(attributes[i], *ternarymatrix.index[arr[:, i] == 1], sep='\\t', end='\\n', file=f)"
   ]
  },
  {
   "cell_type": "markdown",
   "metadata": {},
   "source": [
    "### Down Gene Set Library"
   ]
  },
  {
   "cell_type": "code",
   "execution_count": null,
   "metadata": {},
   "outputs": [],
   "source": [
    "with open(output_path+'gene_set_library_dn_crisp.gmt', 'w') as f:\n",
    "    arr = ternarymatrix.reset_index(drop=True).to_numpy(dtype=np.int_)\n",
    "    attributes = ternarymatrix.columns\n",
    "\n",
    "    w, h = arr.shape\n",
    "    for i in tqdm(range(h)):\n",
    "        if len([*ternarymatrix.index[arr[:, i] == -1]])>= 5:\n",
    "            print(attributes[i], *ternarymatrix.index[arr[:, i] == -1], sep='\\t', end='\\n', file=f)"
   ]
  },
  {
   "cell_type": "markdown",
   "metadata": {},
   "source": [
    "### Up Attribute Set Library"
   ]
  },
  {
   "cell_type": "code",
   "execution_count": null,
   "metadata": {},
   "outputs": [],
   "source": [
    "with open(output_path+'attribute_set_library_up_crisp.gmt', 'w') as f:\n",
    "    arr = ternarymatrixT.reset_index(drop=True).to_numpy(dtype=np.int_)\n",
    "    genes = ternarymatrixT.columns\n",
    "\n",
    "    w, h = arr.shape\n",
    "    for i in tqdm(range(h)):\n",
    "        if len([*ternarymatrixT.index[arr[:, i] == 1]])>= 5:\n",
    "            print(genes[i], *ternarymatrixT.index[arr[:, i] == 1], sep='\\t', end='\\n', file=f)"
   ]
  },
  {
   "cell_type": "markdown",
   "metadata": {},
   "source": [
    "### Down Attribute Set Library"
   ]
  },
  {
   "cell_type": "code",
   "execution_count": null,
   "metadata": {},
   "outputs": [],
   "source": [
    "with open(output_path+'attribute_set_library_dn_crisp.gmt', 'w') as f:\n",
    "    arr = ternarymatrixT.reset_index(drop=True).to_numpy(dtype=np.int_)\n",
    "    genes = ternarymatrixT.columns\n",
    "\n",
    "    w, h = arr.shape\n",
    "    for i in tqdm(range(h)):\n",
    "        if len([*ternarymatrixT.index[arr[:, i] == -1]])>= 5:\n",
    "            print(genes[i], *ternarymatrixT.index[arr[:, i] == -1], sep='\\t', end='\\n', file=f)"
   ]
  },
  {
   "cell_type": "markdown",
   "metadata": {},
   "source": [
    "### Gene Similarity Matrix"
   ]
  },
  {
   "cell_type": "code",
   "execution_count": null,
   "metadata": {},
   "outputs": [],
   "source": [
    "gene_similarity_matrix = dist.pdist(ternarymatrix.to_numpy(dtype=np.int_), 'cosine')\n",
    "gene_similarity_matrix = dist.squareform(gene_similarity_matrix)\n",
    "gene_similarity_matrix = 1 - gene_similarity_matrix\n",
    "\n",
    "gene_similarity_matrix = pd.DataFrame(data=gene_similarity_matrix, index=ternarymatrix.index, columns=ternarymatrix.index)\n",
    "gene_similarity_matrix.index.name = None\n",
    "gene_similarity_matrix.columns.name = None\n",
    "gene_similarity_matrix.to_csv(output_path+'gene_similarity_matrix_cosine.txt.gz', sep='\\t', compression='gzip')\n",
    "gene_similarity_matrix"
   ]
  },
  {
   "cell_type": "markdown",
   "metadata": {},
   "source": [
    "### Attribute Similarity Matrix"
   ]
  },
  {
   "cell_type": "code",
   "execution_count": null,
   "metadata": {},
   "outputs": [],
   "source": [
    "attribute_similarity_matrix = dist.pdist(ternarymatrixT.to_numpy(dtype=np.int_), 'cosine')\n",
    "attribute_similarity_matrix = dist.squareform(attribute_similarity_matrix)\n",
    "attribute_similarity_matrix = 1 - attribute_similarity_matrix\n",
    "\n",
    "attribute_similarity_matrix = pd.DataFrame(data=attribute_similarity_matrix, index=ternarymatrixT.index, columns=ternarymatrixT.index)\n",
    "attribute_similarity_matrix.index.name = None\n",
    "attribute_similarity_matrix.columns.name = None\n",
    "attribute_similarity_matrix.to_csv(output_path+'attribute_similarity_matrix_cosine.txt.gz', sep='\\t', compression='gzip')\n",
    "attribute_similarity_matrix"
   ]
  },
  {
   "cell_type": "markdown",
   "metadata": {},
   "source": [
    "### Gene Attribute Standardized Matrix"
   ]
  },
  {
   "cell_type": "code",
   "execution_count": null,
   "metadata": {},
   "outputs": [],
   "source": [
    "standardizedmatrix = pd.crosstab(motrpac['Gene'], motrpac['Sample'], motrpac['z'], aggfunc=max).replace(np.nan, 0)\n",
    "standardizedmatrix.to_csv(output_path+'gene_attribute_matrix.txt.gz', sep='\\t', compression='gzip')\n",
    "standardizedmatrix"
   ]
  },
  {
   "cell_type": "markdown",
   "metadata": {},
   "source": [
    "### Knowledge Graph Serialization"
   ]
  },
  {
   "cell_type": "code",
   "execution_count": null,
   "metadata": {},
   "outputs": [],
   "source": [
    "nodes = {}\n",
    "edges = []\n",
    "\n",
    "for gene in geneslist.index:\n",
    "    gene = geneslist.loc[gene]\n",
    "    nodes[int(gene['Gene ID'])] = {\n",
    "        \"type\":\"gene\",\n",
    "        \"properties\": {\n",
    "            \"id\":int(gene['Gene ID']),\n",
    "            \"label\":gene['Gene']\n",
    "        }}\n",
    "\n",
    "for sample in attributeslist.index:\n",
    "    sample = attributeslist.loc[sample]\n",
    "    nodes[sample['Sample']] = {\n",
    "        \"type\":\"tissue sample\",\n",
    "        \"properties\": {\n",
    "            \"label\":sample['Sample'],\n",
    "            \"id\":sample['Sample']\n",
    "        }}\n",
    "\n",
    "for edge in edgelist.index:\n",
    "    edge = edgelist.loc[edge]\n",
    "    if edge['Threshold Value']==1:\n",
    "        edges.append({\n",
    "            \"source\": int(edge['Gene ID']),\n",
    "            \"relation\": \"over-expressed in\",\n",
    "            \"target\": edge['Sample'],\n",
    "            \"properties\":{\n",
    "                \"id\":str(edge['Gene ID'])+\":\"+edge['Sample'],\n",
    "                \"source_id\":int(edge['Gene ID']),\n",
    "                \"source_label\":edge['Gene'],\n",
    "                \"target_id\":edge['Sample'],\n",
    "                \"target_label\":edge['Sample'],\n",
    "                \"directed\":True,\n",
    "                \"standardized_value\":edge['Z-score'],\n",
    "                \"threshold\":1\n",
    "            }})\n",
    "    else:\n",
    "            edges.append({\n",
    "            \"source\": int(edge['Gene ID']),\n",
    "            \"relation\": \"under-expressed in\",\n",
    "            \"target\": edge['Sample'],\n",
    "            \"properties\":{\n",
    "                \"id\":str(edge['Gene ID'])+\":\"+edge['Sample'],\n",
    "                \"source_id\":int(edge['Gene ID']),\n",
    "                \"source_label\":edge['Gene'],\n",
    "                \"target_id\":edge['Sample'],\n",
    "                \"target_label\":edge['Sample'],\n",
    "                \"directed\":True,\n",
    "                \"standardized_value\":edge['Z-score'],\n",
    "                \"threshold\":-1\n",
    "            }})"
   ]
  },
  {
   "cell_type": "markdown",
   "metadata": {},
   "source": [
    "#### RDF"
   ]
  },
  {
   "cell_type": "code",
   "execution_count": null,
   "metadata": {},
   "outputs": [],
   "source": [
    "with open(output_path+'kg_serializations/motrpac.rdf', 'w') as f:\n",
    "    print('@prefix gene: ncbi.nlm.nih.gov/gene/', file=f)\n",
    "    print('@prefix RO: purl.obolibrary.org/RO_', file=f)\n",
    "\n",
    "    print('', file=f)\n",
    "    for edge in edges:\n",
    "        if edge[\"properties\"][\"threshold\"]==1:\n",
    "            print('gene:'+str(edge['properties']['source_id']), 'RO:0002245', 'gene:'+edge['properties']['target_id'], end=' .\\n', file=f)\n",
    "        else:\n",
    "            print('gene:'+str(edge['properties']['source_id']), 'RO:0002246 ', 'gene:'+edge['properties']['target_id'], end=' .\\n', file=f)"
   ]
  },
  {
   "cell_type": "markdown",
   "metadata": {},
   "source": [
    "#### JSON"
   ]
  },
  {
   "cell_type": "code",
   "execution_count": null,
   "metadata": {},
   "outputs": [],
   "source": [
    "with open(output_path+'kg_serializations/motrpac.json', 'w') as f:\n",
    "    serial = json.dump(\n",
    "        {\n",
    "            \"Version\":\"1\", \n",
    "            \"nodes\": nodes,\n",
    "            \"edges\": edges\n",
    "        }, indent=4, fp=f)"
   ]
  },
  {
   "cell_type": "markdown",
   "metadata": {},
   "source": [
    "#### TSV"
   ]
  },
  {
   "cell_type": "code",
   "execution_count": null,
   "metadata": {},
   "outputs": [],
   "source": [
    "nodeframe = pd.DataFrame(nodes).T\n",
    "nodeframe['id'] = nodeframe['properties'].apply(lambda x: x['id'])\n",
    "nodeframe['label'] = nodeframe['properties'].apply(lambda x: x['label'])\n",
    "namespace = {'gene':'NCBI Entrez', 'tissue sample':'MoTrPAC'}\n",
    "nodeframe['namespace'] = nodeframe['type'].apply(lambda x: namespace[x])\n",
    "nodeframe = nodeframe.get(['namespace', 'id', 'label']).reset_index(drop=True)\n",
    "nodeframe.to_csv(output_path+'kg_serializations/motrpac_tsv/nodes.tsv', sep='\\t')\n",
    "nodeframe"
   ]
  },
  {
   "cell_type": "code",
   "execution_count": null,
   "metadata": {},
   "outputs": [],
   "source": [
    "edgeframe = pd.DataFrame(edges)\n",
    "edgeframe['standardized'] = edgeframe['properties'].apply(lambda x: x['standardized_value'])\n",
    "edgeframe['threshold'] = edgeframe['properties'].apply(lambda x: x['threshold'])\n",
    "edgeframe = edgeframe.get(['source', 'relation', 'target', 'threshold'])\n",
    "edgeframe.to_csv(output_path+'kg_serializations/motrpac_tsv/edges.tsv', sep='\\t')\n",
    "edgeframe"
   ]
  },
  {
   "cell_type": "markdown",
   "metadata": {},
   "source": [
    "## Create Visualizations"
   ]
  },
  {
   "cell_type": "markdown",
   "metadata": {},
   "source": [
    "### Gene Attribute Clustered Heatmap"
   ]
  },
  {
   "cell_type": "code",
   "execution_count": null,
   "metadata": {},
   "outputs": [],
   "source": [
    "sns.clustermap(ternarymatrix, cmap='seismic', center=0)"
   ]
  },
  {
   "cell_type": "markdown",
   "metadata": {},
   "source": [
    "### Gene Similarity Clustered Heatmap"
   ]
  },
  {
   "cell_type": "code",
   "execution_count": null,
   "metadata": {},
   "outputs": [],
   "source": [
    "sns.clustermap(gene_similarity_matrix, cmap='seismic', center=0)"
   ]
  },
  {
   "cell_type": "markdown",
   "metadata": {},
   "source": [
    "### Attribute Similarity Clustered Heatmap"
   ]
  },
  {
   "cell_type": "code",
   "execution_count": null,
   "metadata": {},
   "outputs": [],
   "source": [
    "sns.clustermap(attribute_similarity_matrix, cmap='seismic', center=0)"
   ]
  },
  {
   "cell_type": "markdown",
   "metadata": {},
   "source": [
    "### UMAP"
   ]
  },
  {
   "cell_type": "code",
   "execution_count": null,
   "metadata": {},
   "outputs": [],
   "source": [
    "def load_gmt(file):\n",
    "    gmt = OrderedDict()\n",
    "    for line in file:\n",
    "        term, *geneset = line.strip().split('\\t')\n",
    "        gmt[term+'_up'] = ' '.join(set(geneset))\n",
    "    return gmt\n",
    "libdict = load_gmt(open('downloads/gene_set_library_up_crisp.gmt', 'r'))\n",
    "def load_gmt(file):\n",
    "    gmt = OrderedDict()\n",
    "    for line in file:\n",
    "        term, *geneset = line.strip().split('\\t')\n",
    "        gmt[term+'_down'] = ' '.join(set(geneset))\n",
    "    return gmt\n",
    "downlibdict = load_gmt(open('downloads/gene_set_library_dn_crisp.gmt', 'r'))\n",
    "libdict.update(downlibdict)\n",
    "scatterdir = 'images/'"
   ]
  },
  {
   "cell_type": "code",
   "execution_count": null,
   "metadata": {},
   "outputs": [],
   "source": [
    "def process_scatterplot(libdict, nneighbors=30, mindist=0.1, spread=1.0, maxdf=1.0, mindf=1):\n",
    "    print(\"\\tTF-IDF vectorizing gene set data...\")\n",
    "    vec = TfidfVectorizer(max_df=maxdf, min_df=mindf)\n",
    "    X = vec.fit_transform(libdict.values())\n",
    "    print(X.shape)\n",
    "    adata = anndata.AnnData(X)\n",
    "    adata.obs.index = libdict.keys()\n",
    "\n",
    "    print(\"\\tPerforming Leiden clustering...\")\n",
    "    ### the n_neighbors and min_dist parameters can be altered\n",
    "    sc.pp.neighbors(adata, n_neighbors=nneighbors)\n",
    "    sc.tl.leiden(adata, resolution=1.0)\n",
    "    sc.tl.umap(adata, min_dist=mindist, spread=spread, random_state=42)\n",
    "\n",
    "    new_order = adata.obs.sort_values(by='leiden').index.tolist()\n",
    "    adata = adata[new_order, :]\n",
    "    adata.obs['leiden'] = 'Cluster ' + adata.obs['leiden'].astype('object')\n",
    "\n",
    "    df = pd.DataFrame(adata.obsm['X_umap'])\n",
    "    df.columns = ['x', 'y']\n",
    "\n",
    "    df['cluster'] = adata.obs['leiden'].values\n",
    "    df['term'] = adata.obs.index\n",
    "    df['genes'] = [libdict[l] for l in df['term']]\n",
    "\n",
    "    return df"
   ]
  },
  {
   "cell_type": "code",
   "execution_count": null,
   "metadata": {},
   "outputs": [],
   "source": [
    "def get_scatter_colors(df):\n",
    "    clusters = pd.unique(df['cluster']).tolist()\n",
    "    colors = list(Category20[20])[::2] + list(Category20[20])[1::2]\n",
    "    color_mapper = {clusters[i]: colors[i % 20] for i in range(len(clusters))}\n",
    "    return color_mapper\n",
    "\n",
    "def get_scatterplot(scatterdf):\n",
    "    df = scatterdf.copy()\n",
    "    color_mapper = get_scatter_colors(df)\n",
    "    df['color'] = df['cluster'].apply(lambda x: color_mapper[x])\n",
    "\n",
    "    hover_emb = HoverTool(name=\"df\", tooltips=\"\"\"\n",
    "        <div style=\"margin: 10\">\n",
    "            <div style=\"margin: 0 auto; width:300px;\">\n",
    "                <span style=\"font-size: 12px; font-weight: bold;\">Gene Set:</span>\n",
    "                <span style=\"font-size: 12px\">@gene_set</span>\n",
    "            <div style=\"margin: 0 auto; width:300px;\">\n",
    "                <span style=\"font-size: 12px; font-weight: bold;\">Coordinates:</span>\n",
    "                <span style=\"font-size: 12px\">(@x,@y)</span>\n",
    "            <div style=\"margin: 0 auto; width:300px;\">\n",
    "                <span style=\"font-size: 12px; font-weight: bold;\">Cluster:</span>\n",
    "                <span style=\"font-size: 12px\">@cluster</span>\n",
    "            </div>\n",
    "        </div>\n",
    "    \"\"\")\n",
    "    tools_emb = [hover_emb, 'pan', 'wheel_zoom', 'reset', 'save']\n",
    "\n",
    "    plot_emb = figure(\n",
    "        width=1000, \n",
    "        height=700, \n",
    "        tools=tools_emb\n",
    "    )\n",
    "\n",
    "    source = ColumnDataSource(\n",
    "        data=dict(\n",
    "            x = df['x'],\n",
    "            y = df['y'],\n",
    "            gene_set = df['term'],\n",
    "            cluster = df['cluster'],\n",
    "            colors = df['color'],\n",
    "            label = df['cluster']\n",
    "        )\n",
    "    )\n",
    "\n",
    "    # hide axis labels and grid lines\n",
    "    plot_emb.xaxis.major_tick_line_color = None\n",
    "    plot_emb.xaxis.minor_tick_line_color = None\n",
    "    plot_emb.yaxis.major_tick_line_color = None\n",
    "    plot_emb.yaxis.minor_tick_line_color = None\n",
    "    plot_emb.xaxis.major_label_text_font_size = '0pt'\n",
    "    plot_emb.yaxis.major_label_text_font_size = '0pt' \n",
    "\n",
    "    plot_emb.output_backend = \"svg\"    \n",
    "    \n",
    "    plot_emb.title = 'Gene Sets in the MoTrPAC Rat Endurance Exercise Training Library'\n",
    "    plot_emb.xaxis.axis_label = \"UMAP_1\"\n",
    "    plot_emb.yaxis.axis_label = \"UMAP_2\"\n",
    "    plot_emb.xaxis.axis_label_text_font_style = 'normal'\n",
    "    plot_emb.xaxis.axis_label_text_font_size = '18px'\n",
    "    plot_emb.yaxis.axis_label_text_font_size = '18px'\n",
    "    plot_emb.yaxis.axis_label_text_font_style = 'normal'\n",
    "    plot_emb.title.align = 'center'\n",
    "    plot_emb.title.text_font_size = '18px'\n",
    "    \n",
    "    s = plot_emb.scatter(\n",
    "        'x', \n",
    "        'y', \n",
    "        size = 4, \n",
    "        source = source, \n",
    "        color = 'colors'\n",
    "    )\n",
    "    \n",
    "    return plot_emb"
   ]
  },
  {
   "cell_type": "code",
   "execution_count": null,
   "metadata": {},
   "outputs": [],
   "source": [
    "## defaults: nneighbors=30, mindist=0.1, spread=1.0, maxdf=1.0, mindf=1\n",
    "scatter_df = process_scatterplot(libdict, nneighbors=10,mindist=0.1\n",
    "     #,spread=1.5 \n",
    "     #,maxdf=0.8 \n",
    "     #,mindf=0.2\n",
    ")\n",
    "\n",
    "# Display Scatter Plot\n",
    "plot = get_scatterplot(scatter_df)\n",
    "output_notebook()\n",
    "show(plot)"
   ]
  },
  {
   "cell_type": "code",
   "execution_count": null,
   "metadata": {},
   "outputs": [],
   "source": [
    "output_file(filename=f\"{scatterdir}/umap.html\", title = 'Gene Sets in MoTrPAC Rat Endruance Exercise Training Library')\n",
    "save(plot)"
   ]
  }
 ],
 "metadata": {
  "kernelspec": {
   "display_name": "Python 3.10.4 ('appyter')",
   "language": "python",
   "name": "python3"
  },
  "language_info": {
   "codemirror_mode": {
    "name": "ipython",
    "version": 3
   },
   "file_extension": ".py",
   "mimetype": "text/x-python",
   "name": "python",
   "nbconvert_exporter": "python",
   "pygments_lexer": "ipython3",
   "version": "3.10.4"
  },
  "orig_nbformat": 4,
  "vscode": {
   "interpreter": {
    "hash": "36b64e778f8b0c3f01583b2eed08020222bb534e013a238936f90fb19a999c87"
   }
  }
 },
 "nbformat": 4,
 "nbformat_minor": 2
}
