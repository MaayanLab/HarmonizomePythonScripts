{
 "cells": [
  {
   "cell_type": "markdown",
   "metadata": {},
   "source": [
    "# MoTrPAC Rat Endurance Exercise Training Transcriptomics\n",
    "This updated MoTrPAC processing notebook is based off the [notebook](https://github.com/MaayanLab/EnrichrPythonScripts/blob/08aa5fe3620189835f4fe2b03ae607a93f42ce5f/Enrichr/MoTrPAC.ipynb) used to processs the MoTrPAC dataset for Enrichr. This notebook contains the code used to process the MoTrPAC Rat Endurance Exercise Training dataset for Harmonizome. Tissue samples from rats aged 1-8 weeks were collected from MoTrPAC timewise differential expression analaysis and training files. These files are availalble for donwload from the MoTrPAC [download portal](https://motrpac-data.org/data-download)."
   ]
  },
  {
   "cell_type": "code",
   "execution_count": null,
   "metadata": {},
   "outputs": [],
   "source": [
    "import pandas as pd\n",
    "import datetime\n",
    "import numpy as np\n",
    "import os\n",
    "import scipy.spatial.distance as dist\n",
    "import seaborn as sns\n",
    "import sys\n",
    "import json\n",
    "import scanpy as sc\n",
    "from tqdm import tqdm\n",
    "\n",
    "# UMAP\n",
    "from sklearn.feature_extraction.text import TfidfVectorizer\n",
    "import anndata\n",
    "from collections import OrderedDict\n",
    "\n",
    "# Bokeh\n",
    "from bokeh.io import output_notebook\n",
    "from bokeh.plotting import figure, show, save, output_file\n",
    "from bokeh.models import HoverTool, ColumnDataSource\n",
    "from bokeh.palettes import Category20\n",
    "output_notebook()\n",
    "\n",
    "from IPython.display import display, HTML, Markdown\n",
    "sys.setrecursionlimit(100000)"
   ]
  },
  {
   "cell_type": "markdown",
   "metadata": {},
   "source": [
    "## Load and Pre-Process Data"
   ]
  },
  {
   "cell_type": "code",
   "execution_count": null,
   "metadata": {},
   "outputs": [],
   "source": [
    "feature_df = pd.read_csv(\"transcriptomics/analysis/transcript-rna-seq/feature-annot/TRNSCRPT_FEATURE_ANNOT.txt\", sep=\"\\t\")\n",
    "feature_df.head()"
   ]
  },
  {
   "cell_type": "code",
   "execution_count": null,
   "metadata": {},
   "outputs": [],
   "source": [
    "gene_mapper = {}\n",
    "for i, row in feature_df.iterrows():\n",
    "    gene_id = row[\"gene_id\"]\n",
    "    gene_name = row[\"gene_name\"]\n",
    "    gene_mapper[gene_id] = gene_name\n",
    "\n",
    "symbolmap = pd.read_csv('../../mapping/mappingFile_2023.tsv', sep='\\t', header=None).set_index(1)[2].to_dict()"
   ]
  },
  {
   "cell_type": "markdown",
   "metadata": {},
   "source": [
    "### Timewise Data"
   ]
  },
  {
   "cell_type": "code",
   "execution_count": null,
   "metadata": {},
   "outputs": [],
   "source": [
    "motrpacdir = 'transcriptomics/analysis/transcript-rna-seq/dea/'\n",
    "motrpac = pd.DataFrame([])\n",
    "for rnaseqfile in os.listdir(motrpacdir):\n",
    "    if 'timewise' in rnaseqfile:\n",
    "        rnaseq = pd.read_csv(motrpacdir+rnaseqfile, sep='\\t').get(['feature_ID', 'tissue', 'sex', 'comparison_group', 'adj_p_value', 'logFC'])\n",
    "        rnaseq['term'] = rnaseq['tissue']+'_'+rnaseq['sex']+'_'+rnaseq['comparison_group']\n",
    "        motrpac = pd.concat([motrpac, rnaseq])\n",
    "motrpac"
   ]
  },
  {
   "cell_type": "code",
   "execution_count": null,
   "metadata": {},
   "outputs": [],
   "source": [
    "motrpac['feature_ID'] = motrpac['feature_ID'].map(gene_mapper)\n",
    "motrpac = motrpac.dropna()\n",
    "motrpac"
   ]
  },
  {
   "cell_type": "code",
   "execution_count": null,
   "metadata": {},
   "outputs": [],
   "source": [
    "motrpac = motrpac[['term', 'feature_ID', 'adj_p_value', 'logFC']]\n",
    "motrpac = motrpac[motrpac['adj_p_value']<0.05]\n",
    "motrpac"
   ]
  },
  {
   "cell_type": "code",
   "execution_count": null,
   "metadata": {},
   "outputs": [],
   "source": [
    "def threshold(score):\n",
    "    if score > 0:\n",
    "        return 1\n",
    "    elif score < 0:\n",
    "        return -1"
   ]
  },
  {
   "cell_type": "code",
   "execution_count": null,
   "metadata": {},
   "outputs": [],
   "source": [
    "motrpac['feature_ID'] = motrpac['feature_ID'].apply(str.upper).map(symbolmap)\n",
    "motrpac = motrpac.dropna()\n",
    "motrpac['logFC'] = motrpac['logFC'].apply(threshold)\n",
    "motrpac.columns = ['term', 'gene', 'adj_p_value', 'threshold']\n",
    "motrpac"
   ]
  },
  {
   "cell_type": "markdown",
   "metadata": {},
   "source": [
    "### Training Data"
   ]
  },
  {
   "cell_type": "code",
   "execution_count": null,
   "metadata": {},
   "outputs": [],
   "source": [
    "motrpacdir = 'transcriptomics/analysis/transcript-rna-seq/dea/'\n",
    "motrpactraining = pd.DataFrame([])\n",
    "for rnaseqfile in os.listdir(motrpacdir):\n",
    "    if 'training' in rnaseqfile:\n",
    "        rnaseq = pd.read_csv(motrpacdir+rnaseqfile, sep='\\t').get(['feature_ID', 'tissue', 'adj_p_value'])\n",
    "        motrpactraining = pd.concat([motrpactraining, rnaseq])\n",
    "motrpactraining"
   ]
  },
  {
   "cell_type": "code",
   "execution_count": null,
   "metadata": {},
   "outputs": [],
   "source": [
    "motrpactraining['feature_ID'] = motrpactraining['feature_ID'].map(gene_mapper)\n",
    "motrpactraining = motrpactraining.dropna()\n",
    "motrpactraining"
   ]
  },
  {
   "cell_type": "code",
   "execution_count": null,
   "metadata": {},
   "outputs": [],
   "source": [
    "motrpactraining = motrpactraining[['tissue', 'feature_ID', 'adj_p_value']]\n",
    "motrpactraining = motrpactraining[motrpactraining['adj_p_value']<0.05]\n",
    "motrpactraining"
   ]
  },
  {
   "cell_type": "code",
   "execution_count": null,
   "metadata": {},
   "outputs": [],
   "source": [
    "motrpactraining['feature_ID'] = motrpactraining['feature_ID'].apply(str.upper).map(symbolmap)\n",
    "motrpactraining = motrpactraining.dropna()\n",
    "motrpactraining['threshold'] = 1\n",
    "motrpactraining"
   ]
  },
  {
   "cell_type": "code",
   "execution_count": null,
   "metadata": {},
   "outputs": [],
   "source": [
    "motrpactraining['tissue'] = motrpactraining['tissue'] + '_consensus'\n",
    "motrpactraining.columns = ['term', 'gene', 'adj_p_value', 'threshold']\n",
    "motrpactraining"
   ]
  },
  {
   "cell_type": "markdown",
   "metadata": {},
   "source": [
    "### Combine Timewise and Training Data"
   ]
  },
  {
   "cell_type": "code",
   "execution_count": null,
   "metadata": {},
   "outputs": [],
   "source": [
    "motrpac = pd.concat([motrpac, motrpactraining]).reset_index(drop=True)\n",
    "motrpac"
   ]
  },
  {
   "cell_type": "code",
   "execution_count": null,
   "metadata": {},
   "outputs": [],
   "source": [
    "motrpac['adj_p_value'] = motrpac['adj_p_value'].apply(lambda x: np.log10(x)*-1)\n",
    "motrpac['adj_p_value'] = motrpac['adj_p_value'].mul(motrpac['threshold'])\n",
    "motrpac"
   ]
  },
  {
   "cell_type": "code",
   "execution_count": null,
   "metadata": {},
   "outputs": [],
   "source": [
    "error"
   ]
  },
  {
   "cell_type": "markdown",
   "metadata": {},
   "source": [
    "## Process Data for SQL"
   ]
  },
  {
   "cell_type": "markdown",
   "metadata": {},
   "source": [
    "### Gene"
   ]
  },
  {
   "cell_type": "code",
   "execution_count": null,
   "metadata": {},
   "outputs": [],
   "source": [
    "index = 58399\n",
    "gene_info = pd.read_csv('../../tables/gene_info', sep='\\t')[['GeneID', 'Symbol', 'description']].set_index('Symbol')\n",
    "genes = pd.read_csv('../../tables/gene.csv', index_col='symbol')\n",
    "genefks = genes['id'].to_dict()\n",
    "for gene in motrpac['gene'].unique():\n",
    "    if gene.upper() not in genes.index:\n",
    "        geneid = gene_info.loc[gene,'GeneID']\n",
    "        print((index, gene, geneid, gene_info.loc[gene,'description'], f'https://ncbi.nlm.nih.gov/gene/{geneid}'), end=',\\n')\n",
    "        genefks[gene] = index\n",
    "        index += 1"
   ]
  },
  {
   "cell_type": "markdown",
   "metadata": {},
   "source": [
    "### Attribute"
   ]
  },
  {
   "cell_type": "code",
   "execution_count": null,
   "metadata": {},
   "outputs": [],
   "source": [
    "index = 401548\n",
    "attributefks = {}\n",
    "\n",
    "for term in motrpac['term'].unique():\n",
    "    if 'consensus' in term:\n",
    "        description = 'consensus sample identified as [tissue]_consensus'\n",
    "    else:\n",
    "        description = 'rat tissue sample identified by [tissue]_[sex]_[age in weeks]'\n",
    "    print ((index, term, description, 103), end=',\\n')\n",
    "    attributefks[term] = index\n",
    "    index += 1"
   ]
  },
  {
   "cell_type": "markdown",
   "metadata": {},
   "source": [
    "### Gene Set"
   ]
  },
  {
   "cell_type": "code",
   "execution_count": null,
   "metadata": {},
   "outputs": [],
   "source": [
    "index = 134700000\n",
    "genesetfks = {}\n",
    "\n",
    "for term in motrpac['term'].unique():\n",
    "    if 'consensus' in term:\n",
    "        description = 'consensus sample identified as [tissue]_consensus'\n",
    "    else:\n",
    "        description = 'rat tissue sample identified by [tissue]_[sex]_[age in weeks]'\n",
    "    print ((index, term, description, 146, 5, attributefks[term]), end=',\\n')\n",
    "    genesetfks[term] = index\n",
    "    index += 1"
   ]
  },
  {
   "cell_type": "markdown",
   "metadata": {},
   "source": [
    "### Association"
   ]
  },
  {
   "cell_type": "code",
   "execution_count": null,
   "metadata": {},
   "outputs": [],
   "source": [
    "association = motrpac.copy()\n",
    "association['gene_fk'] = association['gene'].apply(lambda x: genefks[x.upper()])\n",
    "association['gene_set_fk'] = association['term'].apply(lambda x: genesetfks[x])\n",
    "association = association[['gene_fk', 'gene_set_fk', 'adj_p_value', 'threshold']]\n",
    "association.columns = ['gene_fk', 'gene_set_fk', 'standardized_value', 'threshold_value']\n",
    "association = association.drop_duplicates(subset=['gene_fk','gene_set_fk']).reset_index(drop='true').rename_axis('id')\n",
    "association.index += 28000000\n",
    "association.to_csv('../../harmonizome-update/motrpacnew.tsv', sep='\\t')\n",
    "association"
   ]
  },
  {
   "cell_type": "markdown",
   "metadata": {},
   "source": [
    "## Create Downloads"
   ]
  },
  {
   "cell_type": "code",
   "execution_count": null,
   "metadata": {},
   "outputs": [],
   "source": [
    "output_path = 'downloads/'"
   ]
  },
  {
   "cell_type": "markdown",
   "metadata": {},
   "source": [
    "### Ternary Matrix"
   ]
  },
  {
   "cell_type": "code",
   "execution_count": null,
   "metadata": {},
   "outputs": [],
   "source": [
    "ternarymatrix = pd.crosstab(motrpac['gene'], motrpac['term'], motrpac['threshold'], aggfunc=max).replace(np.nan, 0)\n",
    "ternarymatrixT = ternarymatrix.T\n",
    "ternarymatrix.to_csv(f'{output_path}gene_attribute_matrix.txt.gz', sep='\\t', compression='gzip')\n",
    "ternarymatrix"
   ]
  },
  {
   "cell_type": "markdown",
   "metadata": {},
   "source": [
    "### Gene Attribute Edge List"
   ]
  },
  {
   "cell_type": "code",
   "execution_count": null,
   "metadata": {},
   "outputs": [],
   "source": [
    "geneids = gene_info['GeneID'].to_dict()\n",
    "edgelist = motrpac.copy()\n",
    "edgelist['Gene ID'] = edgelist['gene'].apply(lambda x: geneids[x])\n",
    "edgelist = edgelist.get(['gene', 'Gene ID', 'term', 'adj_p_value', 'threshold'])\n",
    "edgelist.columns = ['Gene', 'Gene ID', 'Term', 'Standardized Value', 'Threshold Value']\n",
    "edgelist.to_csv(f'{output_path}gene_attribute_edges.txt.gz', sep='\\t', compression='gzip')\n",
    "edgelist"
   ]
  },
  {
   "cell_type": "markdown",
   "metadata": {},
   "source": [
    "### Gene List"
   ]
  },
  {
   "cell_type": "code",
   "execution_count": null,
   "metadata": {},
   "outputs": [],
   "source": [
    "geneslist = edgelist.get(['Gene', 'Gene ID']).drop_duplicates().reset_index(drop=True)\n",
    "geneslist.to_csv(f'{output_path}gene_list_terms.txt.gz', sep='\\t', compression='gzip')\n",
    "geneslist"
   ]
  },
  {
   "cell_type": "markdown",
   "metadata": {},
   "source": [
    "### Attribute List"
   ]
  },
  {
   "cell_type": "code",
   "execution_count": null,
   "metadata": {},
   "outputs": [],
   "source": [
    "attributeslist = edgelist.get(['Term']).drop_duplicates().reset_index(drop=True)\n",
    "attributeslist.to_csv(f'{output_path}attribute_list_entries.txt.gz', sep='\\t', compression='gzip')\n",
    "attributeslist"
   ]
  },
  {
   "cell_type": "markdown",
   "metadata": {},
   "source": [
    "### Up Gene Set Library"
   ]
  },
  {
   "cell_type": "code",
   "execution_count": null,
   "metadata": {},
   "outputs": [],
   "source": [
    "with open(f'{output_path}gene_set_library_up_crisp.gmt', 'w') as f:\n",
    "    arr = ternarymatrix.reset_index(drop=True).to_numpy(dtype=np.int_)\n",
    "    attributes = ternarymatrix.columns\n",
    "\n",
    "    w, h = arr.shape\n",
    "    for i in tqdm(range(h)):\n",
    "        if len([*ternarymatrix.index[arr[:, i] == 1]])>= 5:\n",
    "            print(attributes[i], '', *ternarymatrix.index[arr[:, i] == 1], sep='\\t', end='\\n', file=f)"
   ]
  },
  {
   "cell_type": "markdown",
   "metadata": {},
   "source": [
    "### Down Gene Set Library"
   ]
  },
  {
   "cell_type": "code",
   "execution_count": null,
   "metadata": {},
   "outputs": [],
   "source": [
    "with open(f'{output_path}gene_set_library_dn_crisp.gmt', 'w') as f:\n",
    "    arr = ternarymatrix.reset_index(drop=True).to_numpy(dtype=np.int_)\n",
    "    attributes = ternarymatrix.columns\n",
    "\n",
    "    w, h = arr.shape\n",
    "    for i in tqdm(range(h)):\n",
    "        if len([*ternarymatrix.index[arr[:, i] == -1]])>= 5:\n",
    "            print(attributes[i], '', *ternarymatrix.index[arr[:, i] == -1], sep='\\t', end='\\n', file=f)"
   ]
  },
  {
   "cell_type": "markdown",
   "metadata": {},
   "source": [
    "### Up Attribute Set Library"
   ]
  },
  {
   "cell_type": "code",
   "execution_count": null,
   "metadata": {},
   "outputs": [],
   "source": [
    "with open(f'{output_path}attribute_set_library_up_crisp.gmt', 'w') as f:\n",
    "    arr = ternarymatrixT.reset_index(drop=True).to_numpy(dtype=np.int_)\n",
    "    genes = ternarymatrixT.columns\n",
    "\n",
    "    w, h = arr.shape\n",
    "    for i in tqdm(range(h)):\n",
    "        if len([*ternarymatrixT.index[arr[:, i] == 1]])>= 5:\n",
    "            print(genes[i], '', *ternarymatrixT.index[arr[:, i] == 1], sep='\\t', end='\\n', file=f)"
   ]
  },
  {
   "cell_type": "markdown",
   "metadata": {},
   "source": [
    "### Down Attribute Set Library"
   ]
  },
  {
   "cell_type": "code",
   "execution_count": null,
   "metadata": {},
   "outputs": [],
   "source": [
    "with open(f'{output_path}attribute_set_library_dn_crisp.gmt', 'w') as f:\n",
    "    arr = ternarymatrixT.reset_index(drop=True).to_numpy(dtype=np.int_)\n",
    "    genes = ternarymatrixT.columns\n",
    "\n",
    "    w, h = arr.shape\n",
    "    for i in tqdm(range(h)):\n",
    "        if len([*ternarymatrixT.index[arr[:, i] == -1]])>= 5:\n",
    "            print(genes[i], '', *ternarymatrixT.index[arr[:, i] == -1], sep='\\t', end='\\n', file=f)"
   ]
  },
  {
   "cell_type": "markdown",
   "metadata": {},
   "source": [
    "### Gene Similarity Matrix"
   ]
  },
  {
   "cell_type": "code",
   "execution_count": null,
   "metadata": {},
   "outputs": [],
   "source": [
    "gene_similarity_matrix = dist.pdist(ternarymatrix.to_numpy(dtype=np.int_), 'cosine')\n",
    "gene_similarity_matrix = dist.squareform(gene_similarity_matrix)\n",
    "gene_similarity_matrix = 1 - gene_similarity_matrix\n",
    "\n",
    "gene_similarity_matrix = pd.DataFrame(data=gene_similarity_matrix, index=ternarymatrix.index, columns=ternarymatrix.index)\n",
    "gene_similarity_matrix.index.name = None\n",
    "gene_similarity_matrix.columns.name = None\n",
    "gene_similarity_matrix.to_csv(f'{output_path}gene_similarity_matrix_cosine.txt.gz', sep='\\t', compression='gzip')\n",
    "gene_similarity_matrix"
   ]
  },
  {
   "cell_type": "markdown",
   "metadata": {},
   "source": [
    "### Attribute Similarity Matrix"
   ]
  },
  {
   "cell_type": "code",
   "execution_count": null,
   "metadata": {},
   "outputs": [],
   "source": [
    "attribute_similarity_matrix = dist.pdist(ternarymatrixT.to_numpy(dtype=np.int_), 'cosine')\n",
    "attribute_similarity_matrix = dist.squareform(attribute_similarity_matrix)\n",
    "attribute_similarity_matrix = 1 - attribute_similarity_matrix\n",
    "\n",
    "attribute_similarity_matrix = pd.DataFrame(data=attribute_similarity_matrix, index=ternarymatrixT.index, columns=ternarymatrixT.index)\n",
    "attribute_similarity_matrix.index.name = None\n",
    "attribute_similarity_matrix.columns.name = None\n",
    "attribute_similarity_matrix.to_csv(f'{output_path}attribute_similarity_matrix_cosine.txt.gz', sep='\\t', compression='gzip')\n",
    "attribute_similarity_matrix"
   ]
  },
  {
   "cell_type": "markdown",
   "metadata": {},
   "source": [
    "### Gene Attribute Standardized Matrix"
   ]
  },
  {
   "cell_type": "code",
   "execution_count": null,
   "metadata": {},
   "outputs": [],
   "source": [
    "standardizedmatrix = pd.crosstab(motrpac['gene'], motrpac['term'], motrpac['adj_p_value'], aggfunc=max).replace(np.nan, 0)\n",
    "standardizedmatrix.to_csv(f'{output_path}gene_attribute_matrix_standardized.txt.gz', sep='\\t', compression='gzip')\n",
    "standardizedmatrix"
   ]
  },
  {
   "cell_type": "markdown",
   "metadata": {},
   "source": [
    "### Knowledge Graph Serialization"
   ]
  },
  {
   "cell_type": "code",
   "execution_count": null,
   "metadata": {},
   "outputs": [],
   "source": [
    "nodes = {}\n",
    "edges = []\n",
    "\n",
    "for gene in geneslist.index:\n",
    "    gene = geneslist.loc[gene]\n",
    "    nodes[int(gene['Gene ID'])] = {\n",
    "        \"type\":\"gene\",\n",
    "        \"properties\": {\n",
    "            \"id\":int(gene['Gene ID']),\n",
    "            \"label\":gene['Gene']\n",
    "        }}\n",
    "\n",
    "for sample in attributeslist.index:\n",
    "    sample = attributeslist.loc[sample]\n",
    "    nodes['MoTrPAC_'+sample['Term']] = {\n",
    "        \"type\":\"tissue sample\",\n",
    "        \"properties\": {\n",
    "            \"label\":sample['Term'],\n",
    "            \"id\":'MoTrPAC_'+sample['Term']\n",
    "        }}\n",
    "\n",
    "for edge in edgelist.index:\n",
    "    edge = edgelist.loc[edge]\n",
    "    if edge['Threshold Value']==1:\n",
    "        edges.append({\n",
    "            \"source\": int(edge['Gene ID']),\n",
    "            \"relation\": \"over-expressed in\",\n",
    "            \"target\": 'MoTrPAC_'+edge['Term'],\n",
    "            \"properties\":{\n",
    "                \"id\":str(edge['Gene ID'])+\":MoTrPAC_\"+edge['Term'],\n",
    "                \"source_id\":int(edge['Gene ID']),\n",
    "                \"source_label\":edge['Gene'],\n",
    "                \"target_id\":'MoTrPAC_'+edge['Term'],\n",
    "                \"target_label\":edge['Term'],\n",
    "                \"directed\":True,\n",
    "                \"standardized_value\":edge['Standardized Value'],\n",
    "                \"threshold\":1\n",
    "            }})\n",
    "    else:\n",
    "            edges.append({\n",
    "            \"source\": int(edge['Gene ID']),\n",
    "            \"relation\": \"under-expressed in\",\n",
    "            \"target\": 'MoTrPAC_'+edge['Term'],\n",
    "            \"properties\":{\n",
    "                \"id\":str(edge['Gene ID'])+\":MoTrPAC_\"+edge['Term'],\n",
    "                \"source_id\":int(edge['Gene ID']),\n",
    "                \"source_label\":edge['Gene'],\n",
    "                \"target_id\":'MoTrPAC_'+edge['Term'],\n",
    "                \"target_label\":edge['Term'],\n",
    "                \"directed\":True,\n",
    "                \"standardized_value\":edge['Standardized Value'],\n",
    "                \"threshold\":-1\n",
    "            }})"
   ]
  },
  {
   "cell_type": "markdown",
   "metadata": {},
   "source": [
    "#### RDF"
   ]
  },
  {
   "cell_type": "code",
   "execution_count": null,
   "metadata": {},
   "outputs": [],
   "source": [
    "with open(output_path+'kg_serializations/motrpac.rdf', 'w') as f:\n",
    "    print('@prefix gene: ncbi.nlm.nih.gov/gene/', file=f)\n",
    "    print('@prefix RO: purl.obolibrary.org/RO_', file=f)\n",
    "\n",
    "    print('', file=f)\n",
    "    for edge in edges:\n",
    "        if edge[\"properties\"][\"threshold\"]==1:\n",
    "            print('gene:'+str(edge['properties']['source_id']), 'RO:0002245', edge['properties']['target_id'], end=' .\\n', file=f)\n",
    "        else:\n",
    "            print('gene:'+str(edge['properties']['source_id']), 'RO:0002246 ', edge['properties']['target_id'], end=' .\\n', file=f)"
   ]
  },
  {
   "cell_type": "markdown",
   "metadata": {},
   "source": [
    "#### JSON"
   ]
  },
  {
   "cell_type": "code",
   "execution_count": null,
   "metadata": {},
   "outputs": [],
   "source": [
    "with open(output_path+'kg_serializations/motrpac.json', 'w') as f:\n",
    "    serial = json.dump(\n",
    "        {\n",
    "            \"Version\":\"1\", \n",
    "            \"nodes\": nodes,\n",
    "            \"edges\": edges\n",
    "        }, indent=4, fp=f)"
   ]
  },
  {
   "cell_type": "markdown",
   "metadata": {},
   "source": [
    "#### TSV"
   ]
  },
  {
   "cell_type": "code",
   "execution_count": null,
   "metadata": {},
   "outputs": [],
   "source": [
    "nodeframe = pd.DataFrame(nodes).T\n",
    "nodeframe['id'] = nodeframe['properties'].apply(lambda x: x['id'])\n",
    "nodeframe['label'] = nodeframe['properties'].apply(lambda x: x['label'])\n",
    "namespace = {'gene':'NCBI Entrez', 'tissue sample':'MoTrPAC'}\n",
    "nodeframe['namespace'] = nodeframe['type'].apply(lambda x: namespace[x])\n",
    "nodeframe = nodeframe.get(['namespace', 'id', 'label']).reset_index(drop=True)\n",
    "nodeframe.to_csv(output_path+'kg_serializations/motrpac_tsv/nodes.tsv', sep='\\t')\n",
    "nodeframe"
   ]
  },
  {
   "cell_type": "code",
   "execution_count": null,
   "metadata": {},
   "outputs": [],
   "source": [
    "edgeframe = pd.DataFrame(edges)\n",
    "edgeframe['standardized'] = edgeframe['properties'].apply(lambda x: x['standardized_value'])\n",
    "edgeframe['threshold'] = edgeframe['properties'].apply(lambda x: x['threshold'])\n",
    "edgeframe = edgeframe.get(['source', 'relation', 'target', 'standardized', 'threshold'])\n",
    "edgeframe.to_csv(output_path+'kg_serializations/motrpac_tsv/edges.tsv', sep='\\t')\n",
    "edgeframe"
   ]
  },
  {
   "cell_type": "markdown",
   "metadata": {},
   "source": [
    "## Create Visualizations"
   ]
  },
  {
   "cell_type": "markdown",
   "metadata": {},
   "source": [
    "## Gene Attribute Heat Map"
   ]
  },
  {
   "cell_type": "code",
   "execution_count": null,
   "metadata": {},
   "outputs": [],
   "source": [
    "sns.clustermap(ternarymatrix, cmap='seismic', center=0)"
   ]
  },
  {
   "cell_type": "markdown",
   "metadata": {},
   "source": [
    "### Gene Similarity Clustered Heatmap"
   ]
  },
  {
   "cell_type": "code",
   "execution_count": null,
   "metadata": {},
   "outputs": [],
   "source": [
    "sns.clustermap(gene_similarity_matrix, cmap='seismic', center=0)"
   ]
  },
  {
   "cell_type": "markdown",
   "metadata": {},
   "source": [
    "### Attribute Similarity Clustered Heatmap"
   ]
  },
  {
   "cell_type": "code",
   "execution_count": null,
   "metadata": {},
   "outputs": [],
   "source": [
    "sns.clustermap(attribute_similarity_matrix, cmap='seismic', center=0)"
   ]
  },
  {
   "cell_type": "markdown",
   "metadata": {},
   "source": [
    "### UMAP"
   ]
  },
  {
   "cell_type": "code",
   "execution_count": null,
   "metadata": {},
   "outputs": [],
   "source": [
    "def load_gmt(file):\n",
    "    gmt = OrderedDict()\n",
    "    for line in file:\n",
    "        term, blank, *geneset = line.strip().split('\\t')\n",
    "        if 'consensus' not in term:\n",
    "            term = f'{term}_up'\n",
    "        gmt[term] = ' '.join(set(geneset))\n",
    "    return gmt\n",
    "libdict = load_gmt(open('downloads_new/gene_set_library_up_crisp.gmt', 'r'))\n",
    "def load_gmt(file):\n",
    "    gmt = OrderedDict()\n",
    "    for line in file:\n",
    "        term, blank, *geneset = line.strip().split('\\t')\n",
    "        gmt[f'{term}_down'] = ' '.join(set(geneset))\n",
    "    return gmt\n",
    "downlibdict = load_gmt(open('downloads_new/gene_set_library_dn_crisp.gmt', 'r'))\n",
    "libdict.update(downlibdict)\n",
    "scatterdir = 'images/'"
   ]
  },
  {
   "cell_type": "code",
   "execution_count": null,
   "metadata": {},
   "outputs": [],
   "source": [
    "def process_scatterplot(libdict, nneighbors=30, mindist=0.1, spread=1.0, maxdf=1.0, mindf=1):\n",
    "    print(\"\\tTF-IDF vectorizing gene set data...\")\n",
    "    vec = TfidfVectorizer(max_df=maxdf, min_df=mindf)\n",
    "    X = vec.fit_transform(libdict.values())\n",
    "    print(X.shape)\n",
    "    adata = anndata.AnnData(X)\n",
    "    adata.obs.index = libdict.keys()\n",
    "\n",
    "    print(\"\\tPerforming Leiden clustering...\")\n",
    "    ### the n_neighbors and min_dist parameters can be altered\n",
    "    sc.pp.neighbors(adata, n_neighbors=nneighbors)\n",
    "    sc.tl.leiden(adata, resolution=1.0)\n",
    "    sc.tl.umap(adata, min_dist=mindist, spread=spread, random_state=42)\n",
    "\n",
    "    new_order = adata.obs.sort_values(by='leiden').index.tolist()\n",
    "    adata = adata[new_order, :]\n",
    "    adata.obs['leiden'] = 'Cluster ' + adata.obs['leiden'].astype('object')\n",
    "\n",
    "    df = pd.DataFrame(adata.obsm['X_umap'])\n",
    "    df.columns = ['x', 'y']\n",
    "\n",
    "    df['cluster'] = adata.obs['leiden'].values\n",
    "    df['term'] = adata.obs.index\n",
    "    df['genes'] = [libdict[l] for l in df['term']]\n",
    "\n",
    "    return df"
   ]
  },
  {
   "cell_type": "code",
   "execution_count": null,
   "metadata": {},
   "outputs": [],
   "source": [
    "def get_scatter_colors(df):\n",
    "    clusters = pd.unique(df['cluster']).tolist()\n",
    "    colors = list(Category20[20])[::2] + list(Category20[20])[1::2]\n",
    "    color_mapper = {clusters[i]: colors[i % 20] for i in range(len(clusters))}\n",
    "    return color_mapper\n",
    "\n",
    "def get_scatterplot(scatterdf):\n",
    "    df = scatterdf.copy()\n",
    "    color_mapper = get_scatter_colors(df)\n",
    "    df['color'] = df['cluster'].apply(lambda x: color_mapper[x])\n",
    "\n",
    "    hover_emb = HoverTool(name=\"df\", tooltips=\"\"\"\n",
    "        <div style=\"margin: 10\">\n",
    "            <div style=\"margin: 0 auto; width:300px;\">\n",
    "                <span style=\"font-size: 12px; font-weight: bold;\">Gene Set:</span>\n",
    "                <span style=\"font-size: 12px\">@gene_set</span>\n",
    "            <div style=\"margin: 0 auto; width:300px;\">\n",
    "                <span style=\"font-size: 12px; font-weight: bold;\">Coordinates:</span>\n",
    "                <span style=\"font-size: 12px\">(@x,@y)</span>\n",
    "            <div style=\"margin: 0 auto; width:300px;\">\n",
    "                <span style=\"font-size: 12px; font-weight: bold;\">Cluster:</span>\n",
    "                <span style=\"font-size: 12px\">@cluster</span>\n",
    "            </div>\n",
    "        </div>\n",
    "    \"\"\")\n",
    "    tools_emb = [hover_emb, 'pan', 'wheel_zoom', 'reset', 'save']\n",
    "\n",
    "    plot_emb = figure(\n",
    "        width=1000, \n",
    "        height=700, \n",
    "        tools=tools_emb\n",
    "    )\n",
    "\n",
    "    source = ColumnDataSource(\n",
    "        data=dict(\n",
    "            x = df['x'],\n",
    "            y = df['y'],\n",
    "            gene_set = df['term'],\n",
    "            cluster = df['cluster'],\n",
    "            colors = df['color'],\n",
    "            label = df['cluster']\n",
    "        )\n",
    "    )\n",
    "\n",
    "    # hide axis labels and grid lines\n",
    "    plot_emb.xaxis.major_tick_line_color = None\n",
    "    plot_emb.xaxis.minor_tick_line_color = None\n",
    "    plot_emb.yaxis.major_tick_line_color = None\n",
    "    plot_emb.yaxis.minor_tick_line_color = None\n",
    "    plot_emb.xaxis.major_label_text_font_size = '0pt'\n",
    "    plot_emb.yaxis.major_label_text_font_size = '0pt' \n",
    "\n",
    "    plot_emb.output_backend = \"svg\"    \n",
    "    \n",
    "    plot_emb.title = 'Gene Sets in the MoTrPAC Rat Endurance Exercise Training Library'\n",
    "    plot_emb.xaxis.axis_label = \"UMAP_1\"\n",
    "    plot_emb.yaxis.axis_label = \"UMAP_2\"\n",
    "    plot_emb.xaxis.axis_label_text_font_style = 'normal'\n",
    "    plot_emb.xaxis.axis_label_text_font_size = '18px'\n",
    "    plot_emb.yaxis.axis_label_text_font_size = '18px'\n",
    "    plot_emb.yaxis.axis_label_text_font_style = 'normal'\n",
    "    plot_emb.title.align = 'center'\n",
    "    plot_emb.title.text_font_size = '18px'\n",
    "    \n",
    "    s = plot_emb.scatter(\n",
    "        'x', \n",
    "        'y', \n",
    "        size = 4, \n",
    "        source = source, \n",
    "        color = 'colors'\n",
    "    )\n",
    "    \n",
    "    return plot_emb"
   ]
  },
  {
   "cell_type": "code",
   "execution_count": null,
   "metadata": {},
   "outputs": [],
   "source": [
    "## defaults: nneighbors=30, mindist=0.1, spread=1.0, maxdf=1.0, mindf=1\n",
    "scatter_df = process_scatterplot(libdict, nneighbors=3,mindist=0.1\n",
    "     ,spread=1.5 \n",
    "     #,maxdf=0.5\n",
    "     #,mindf=2\n",
    ")\n",
    "\n",
    "# Display Scatter Plot\n",
    "plot = get_scatterplot(scatter_df)\n",
    "output_notebook()\n",
    "show(plot)"
   ]
  },
  {
   "cell_type": "code",
   "execution_count": null,
   "metadata": {},
   "outputs": [],
   "source": [
    "output_file(filename=f\"{scatterdir}/umap.html\", title = 'Gene Sets in MoTrPAC Rat Endruance Exercise Training Library')\n",
    "save(plot)"
   ]
  }
 ],
 "metadata": {
  "kernelspec": {
   "display_name": "Python 3.10.13 ('harmonizomeETL')",
   "language": "python",
   "name": "python3"
  },
  "language_info": {
   "codemirror_mode": {
    "name": "ipython",
    "version": 3
   },
   "file_extension": ".py",
   "mimetype": "text/x-python",
   "name": "python",
   "nbconvert_exporter": "python",
   "pygments_lexer": "ipython3",
   "version": "3.10.13"
  },
  "orig_nbformat": 4,
  "vscode": {
   "interpreter": {
    "hash": "3ad6724d56c4b72bd8e5b8da3c2e0dcf6d86fdd164f3c98d6d6a78c076afabab"
   }
  }
 },
 "nbformat": 4,
 "nbformat_minor": 2
}
