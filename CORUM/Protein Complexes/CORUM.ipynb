{
 "cells": [
  {
   "cell_type": "markdown",
   "metadata": {},
   "source": [
    "# CORUM"
   ]
  },
  {
   "cell_type": "markdown",
   "metadata": {},
   "source": [
    "Author: Moshe Silverstein <br/>\n",
    "Date: 8-17 <br/>\n",
    "Data Source: http://mips.helmholtz-muenchen.de/corum/#download"
   ]
  },
  {
   "cell_type": "code",
   "execution_count": 1,
   "metadata": {
    "collapsed": true
   },
   "outputs": [],
   "source": [
    "import sys, datetime, os\n",
    "import numpy as np\n",
    "import pandas as pd\n",
    "import importlib\n",
    "import untility_functions as uf\n",
    "%matplotlib inline"
   ]
  },
  {
   "cell_type": "code",
   "execution_count": 2,
   "metadata": {},
   "outputs": [
    {
     "data": {
      "text/plain": [
       "<module 'untility_functions' from '/Users/moshesilverstein/Documents/Harmonizome/CORUM/untility_functions.py'>"
      ]
     },
     "execution_count": 2,
     "metadata": {},
     "output_type": "execute_result"
    }
   ],
   "source": [
    "importlib.reload(uf)"
   ]
  },
  {
   "cell_type": "markdown",
   "metadata": {},
   "source": [
    "# Load Data"
   ]
  },
  {
   "cell_type": "code",
   "execution_count": 4,
   "metadata": {},
   "outputs": [],
   "source": [
    "df = pd.read_csv('Input/allComplexes.txt', sep='\\t')"
   ]
  },
  {
   "cell_type": "code",
   "execution_count": 5,
   "metadata": {},
   "outputs": [
    {
     "data": {
      "text/html": [
       "<div>\n",
       "<table border=\"1\" class=\"dataframe\">\n",
       "  <thead>\n",
       "    <tr style=\"text-align: right;\">\n",
       "      <th></th>\n",
       "      <th>ComplexID</th>\n",
       "      <th>ComplexName</th>\n",
       "      <th>Organism</th>\n",
       "      <th>Synonyms</th>\n",
       "      <th>Cell line</th>\n",
       "      <th>subunits(UniProt IDs)</th>\n",
       "      <th>subunits(Entrez IDs)</th>\n",
       "      <th>Protein complex purification method</th>\n",
       "      <th>GO ID</th>\n",
       "      <th>GO description</th>\n",
       "      <th>FunCat ID</th>\n",
       "      <th>FunCat description</th>\n",
       "      <th>Complex comment</th>\n",
       "      <th>PubMed ID</th>\n",
       "      <th>Subunits comment</th>\n",
       "      <th>subunits(Protein name)</th>\n",
       "      <th>subunits(Gene name)</th>\n",
       "      <th>subunits(Gene name syn)</th>\n",
       "      <th>SWISSPROT organism</th>\n",
       "      <th>Disease comment</th>\n",
       "    </tr>\n",
       "  </thead>\n",
       "  <tbody>\n",
       "    <tr>\n",
       "      <th>0</th>\n",
       "      <td>1</td>\n",
       "      <td>BCL6-HDAC4 complex</td>\n",
       "      <td>Human</td>\n",
       "      <td>None</td>\n",
       "      <td>None</td>\n",
       "      <td>P41182;P56524</td>\n",
       "      <td>604;9759</td>\n",
       "      <td>MI:0007- anti tag coimmunoprecipitation</td>\n",
       "      <td>GO:0006265;GO:0045892;GO:0006473;GO:0006476;GO...</td>\n",
       "      <td>DNA topological change;negative regulation of ...</td>\n",
       "      <td>10.01.09.05;11.02.03.04.03;14.07.04;42.10.03;4...</td>\n",
       "      <td>DNA conformation modification (e.g. chromatin)...</td>\n",
       "      <td>Transcriptional repression by BCL6 is thought ...</td>\n",
       "      <td>11929873</td>\n",
       "      <td>None</td>\n",
       "      <td>B-cell lymphoma 6 protein ;Histone deacetylase 4</td>\n",
       "      <td>BCL6;HDAC4</td>\n",
       "      <td>BCL5 LAZ3 ZBTB27 ZNF51;KIAA0288</td>\n",
       "      <td>Homo sapiens (Human);Homo sapiens (Human)</td>\n",
       "      <td>None</td>\n",
       "    </tr>\n",
       "    <tr>\n",
       "      <th>1</th>\n",
       "      <td>2</td>\n",
       "      <td>BCL6-HDAC5 complex</td>\n",
       "      <td>Human</td>\n",
       "      <td>None</td>\n",
       "      <td>None</td>\n",
       "      <td>P41182;Q9UQL6</td>\n",
       "      <td>604;10014</td>\n",
       "      <td>MI:0007- anti tag coimmunoprecipitation</td>\n",
       "      <td>GO:0006265;GO:0045892;GO:0006473;GO:0006476;GO...</td>\n",
       "      <td>DNA topological change;negative regulation of ...</td>\n",
       "      <td>10.01.09.05;11.02.03.04.03;14.07.04;42.10.03;4...</td>\n",
       "      <td>DNA conformation modification (e.g. chromatin)...</td>\n",
       "      <td>Transcriptional repression by BCL6 is thought ...</td>\n",
       "      <td>11929873</td>\n",
       "      <td>None</td>\n",
       "      <td>B-cell lymphoma 6 protein ;Histone deacetylase 5</td>\n",
       "      <td>BCL6;HDAC5</td>\n",
       "      <td>BCL5 LAZ3 ZBTB27 ZNF51;KIAA0600</td>\n",
       "      <td>Homo sapiens (Human);Homo sapiens (Human)</td>\n",
       "      <td>None</td>\n",
       "    </tr>\n",
       "    <tr>\n",
       "      <th>2</th>\n",
       "      <td>3</td>\n",
       "      <td>BCL6-HDAC7 complex</td>\n",
       "      <td>Human</td>\n",
       "      <td>None</td>\n",
       "      <td>None</td>\n",
       "      <td>P41182;Q8WUI4</td>\n",
       "      <td>604;51564</td>\n",
       "      <td>MI:0007- anti tag coimmunoprecipitation</td>\n",
       "      <td>GO:0006265;GO:0045892;GO:0006473;GO:0006476;GO...</td>\n",
       "      <td>DNA topological change;negative regulation of ...</td>\n",
       "      <td>10.01.09.05;11.02.03.04.03;14.07.04;42.10.03;4...</td>\n",
       "      <td>DNA conformation modification (e.g. chromatin)...</td>\n",
       "      <td>Transcriptional repression by BCL6 is thought ...</td>\n",
       "      <td>11929873</td>\n",
       "      <td>None</td>\n",
       "      <td>B-cell lymphoma 6 protein ;Histone deacetylase 7</td>\n",
       "      <td>BCL6;HDAC7</td>\n",
       "      <td>BCL5 LAZ3 ZBTB27 ZNF51;HDAC7A</td>\n",
       "      <td>Homo sapiens (Human);Homo sapiens (Human)</td>\n",
       "      <td>None</td>\n",
       "    </tr>\n",
       "    <tr>\n",
       "      <th>3</th>\n",
       "      <td>4</td>\n",
       "      <td>Multisubunit ACTR coactivator complex</td>\n",
       "      <td>Human</td>\n",
       "      <td>None</td>\n",
       "      <td>None</td>\n",
       "      <td>Q09472;Q92793;Q92831;Q9Y6Q9</td>\n",
       "      <td>2033;1387;8850;8202</td>\n",
       "      <td>MI:0004-affinity chromatography technologies;M...</td>\n",
       "      <td>GO:0045893;GO:0023052;GO:0005634</td>\n",
       "      <td>positive regulation of transcription, DNA-temp...</td>\n",
       "      <td>11.02.03.04.01;30.01;70.10</td>\n",
       "      <td>transcription activation;cellular signalling;n...</td>\n",
       "      <td>Cofactor ACTR binds directly nuclear receptors...</td>\n",
       "      <td>9267036</td>\n",
       "      <td>None</td>\n",
       "      <td>Histone acetyltransferase p300;CREB-binding pr...</td>\n",
       "      <td>EP300;CREBBP;KAT2B;NCOA3</td>\n",
       "      <td>P300;CBP;PCAF;AIB1, BHLHE42, RAC3, TRAM1, ACTR</td>\n",
       "      <td>Homo sapiens (Human);Homo sapiens (Human);Homo...</td>\n",
       "      <td>None</td>\n",
       "    </tr>\n",
       "    <tr>\n",
       "      <th>4</th>\n",
       "      <td>9</td>\n",
       "      <td>6S-nuclear aryl hydrocarbon (Ah) receptor liga...</td>\n",
       "      <td>Mouse</td>\n",
       "      <td>None</td>\n",
       "      <td>None</td>\n",
       "      <td>P30561;P53762</td>\n",
       "      <td>11622;11863</td>\n",
       "      <td>MI:0019- coimmunoprecipitation</td>\n",
       "      <td>GO:2001141;GO:0006355;GO:0003677;GO:0023052;GO...</td>\n",
       "      <td>regulation of RNA biosynthetic process;regulat...</td>\n",
       "      <td>11.02.03.04;16.03.01;30.01;34.11.03;70.10</td>\n",
       "      <td>transcriptional control;DNA binding;cellular s...</td>\n",
       "      <td>Arnt contains a basic helix-loop-helix motif, ...</td>\n",
       "      <td>1317062</td>\n",
       "      <td>None</td>\n",
       "      <td>Aryl hydrocarbon receptor ;Aryl hydrocarbon re...</td>\n",
       "      <td>Ahr;Arnt</td>\n",
       "      <td>;None</td>\n",
       "      <td>Mus musculus (Mouse);Mus musculus (Mouse)</td>\n",
       "      <td>None</td>\n",
       "    </tr>\n",
       "  </tbody>\n",
       "</table>\n",
       "</div>"
      ],
      "text/plain": [
       "   ComplexID                                        ComplexName Organism  \\\n",
       "0          1                                 BCL6-HDAC4 complex    Human   \n",
       "1          2                                 BCL6-HDAC5 complex    Human   \n",
       "2          3                                 BCL6-HDAC7 complex    Human   \n",
       "3          4              Multisubunit ACTR coactivator complex    Human   \n",
       "4          9  6S-nuclear aryl hydrocarbon (Ah) receptor liga...    Mouse   \n",
       "\n",
       "  Synonyms Cell line        subunits(UniProt IDs) subunits(Entrez IDs)  \\\n",
       "0     None      None                P41182;P56524             604;9759   \n",
       "1     None      None                P41182;Q9UQL6            604;10014   \n",
       "2     None      None                P41182;Q8WUI4            604;51564   \n",
       "3     None      None  Q09472;Q92793;Q92831;Q9Y6Q9  2033;1387;8850;8202   \n",
       "4     None      None                P30561;P53762          11622;11863   \n",
       "\n",
       "                 Protein complex purification method  \\\n",
       "0            MI:0007- anti tag coimmunoprecipitation   \n",
       "1            MI:0007- anti tag coimmunoprecipitation   \n",
       "2            MI:0007- anti tag coimmunoprecipitation   \n",
       "3  MI:0004-affinity chromatography technologies;M...   \n",
       "4                     MI:0019- coimmunoprecipitation   \n",
       "\n",
       "                                               GO ID  \\\n",
       "0  GO:0006265;GO:0045892;GO:0006473;GO:0006476;GO...   \n",
       "1  GO:0006265;GO:0045892;GO:0006473;GO:0006476;GO...   \n",
       "2  GO:0006265;GO:0045892;GO:0006473;GO:0006476;GO...   \n",
       "3                   GO:0045893;GO:0023052;GO:0005634   \n",
       "4  GO:2001141;GO:0006355;GO:0003677;GO:0023052;GO...   \n",
       "\n",
       "                                      GO description  \\\n",
       "0  DNA topological change;negative regulation of ...   \n",
       "1  DNA topological change;negative regulation of ...   \n",
       "2  DNA topological change;negative regulation of ...   \n",
       "3  positive regulation of transcription, DNA-temp...   \n",
       "4  regulation of RNA biosynthetic process;regulat...   \n",
       "\n",
       "                                           FunCat ID  \\\n",
       "0  10.01.09.05;11.02.03.04.03;14.07.04;42.10.03;4...   \n",
       "1  10.01.09.05;11.02.03.04.03;14.07.04;42.10.03;4...   \n",
       "2  10.01.09.05;11.02.03.04.03;14.07.04;42.10.03;4...   \n",
       "3                         11.02.03.04.01;30.01;70.10   \n",
       "4          11.02.03.04;16.03.01;30.01;34.11.03;70.10   \n",
       "\n",
       "                                  FunCat description  \\\n",
       "0  DNA conformation modification (e.g. chromatin)...   \n",
       "1  DNA conformation modification (e.g. chromatin)...   \n",
       "2  DNA conformation modification (e.g. chromatin)...   \n",
       "3  transcription activation;cellular signalling;n...   \n",
       "4  transcriptional control;DNA binding;cellular s...   \n",
       "\n",
       "                                     Complex comment  PubMed ID  \\\n",
       "0  Transcriptional repression by BCL6 is thought ...   11929873   \n",
       "1  Transcriptional repression by BCL6 is thought ...   11929873   \n",
       "2  Transcriptional repression by BCL6 is thought ...   11929873   \n",
       "3  Cofactor ACTR binds directly nuclear receptors...    9267036   \n",
       "4  Arnt contains a basic helix-loop-helix motif, ...    1317062   \n",
       "\n",
       "  Subunits comment                             subunits(Protein name)  \\\n",
       "0             None   B-cell lymphoma 6 protein ;Histone deacetylase 4   \n",
       "1             None   B-cell lymphoma 6 protein ;Histone deacetylase 5   \n",
       "2             None   B-cell lymphoma 6 protein ;Histone deacetylase 7   \n",
       "3             None  Histone acetyltransferase p300;CREB-binding pr...   \n",
       "4             None  Aryl hydrocarbon receptor ;Aryl hydrocarbon re...   \n",
       "\n",
       "        subunits(Gene name)                         subunits(Gene name syn)  \\\n",
       "0                BCL6;HDAC4                 BCL5 LAZ3 ZBTB27 ZNF51;KIAA0288   \n",
       "1                BCL6;HDAC5                 BCL5 LAZ3 ZBTB27 ZNF51;KIAA0600   \n",
       "2                BCL6;HDAC7                   BCL5 LAZ3 ZBTB27 ZNF51;HDAC7A   \n",
       "3  EP300;CREBBP;KAT2B;NCOA3  P300;CBP;PCAF;AIB1, BHLHE42, RAC3, TRAM1, ACTR   \n",
       "4                  Ahr;Arnt                                           ;None   \n",
       "\n",
       "                                  SWISSPROT organism Disease comment  \n",
       "0          Homo sapiens (Human);Homo sapiens (Human)            None  \n",
       "1          Homo sapiens (Human);Homo sapiens (Human)            None  \n",
       "2          Homo sapiens (Human);Homo sapiens (Human)            None  \n",
       "3  Homo sapiens (Human);Homo sapiens (Human);Homo...            None  \n",
       "4          Mus musculus (Mouse);Mus musculus (Mouse)            None  "
      ]
     },
     "execution_count": 5,
     "metadata": {},
     "output_type": "execute_result"
    }
   ],
   "source": [
    "df.head()"
   ]
  },
  {
   "cell_type": "code",
   "execution_count": 6,
   "metadata": {},
   "outputs": [
    {
     "data": {
      "text/plain": [
       "(3633, 20)"
      ]
     },
     "execution_count": 6,
     "metadata": {},
     "output_type": "execute_result"
    }
   ],
   "source": [
    "df.shape"
   ]
  },
  {
   "cell_type": "markdown",
   "metadata": {},
   "source": [
    "# Get Relevant Data "
   ]
  },
  {
   "cell_type": "code",
   "execution_count": 7,
   "metadata": {},
   "outputs": [
    {
     "data": {
      "text/plain": [
       "array(['Human', 'Mouse', 'Pig', 'Bovine', 'Rat', 'Mammalia', 'Rabbit',\n",
       "       'Dog', 'Hamster', 'MINK'], dtype=object)"
      ]
     },
     "execution_count": 7,
     "metadata": {},
     "output_type": "execute_result"
    }
   ],
   "source": [
    "df['Organism'].unique()"
   ]
  },
  {
   "cell_type": "code",
   "execution_count": 8,
   "metadata": {
    "collapsed": true
   },
   "outputs": [],
   "source": [
    "# Get only disered organisims\n",
    "human = df[df['Organism'] == 'Human'].copy()\n",
    "mouse = df[df['Organism'] == 'Mouse'].copy()\n",
    "rat = df[df['Organism'] == 'Rat'].copy()\n",
    "\n",
    "df = pd.concat([human, mouse])\n",
    "df = pd.concat([df, rat])"
   ]
  },
  {
   "cell_type": "code",
   "execution_count": 11,
   "metadata": {
    "collapsed": true
   },
   "outputs": [],
   "source": [
    "df = df[['ComplexName', 'subunits(Gene name)']]"
   ]
  },
  {
   "cell_type": "code",
   "execution_count": 12,
   "metadata": {},
   "outputs": [
    {
     "data": {
      "text/html": [
       "<div>\n",
       "<table border=\"1\" class=\"dataframe\">\n",
       "  <thead>\n",
       "    <tr style=\"text-align: right;\">\n",
       "      <th></th>\n",
       "      <th>ComplexName</th>\n",
       "      <th>subunits(Gene name)</th>\n",
       "    </tr>\n",
       "  </thead>\n",
       "  <tbody>\n",
       "    <tr>\n",
       "      <th>0</th>\n",
       "      <td>BCL6-HDAC4 complex</td>\n",
       "      <td>BCL6;HDAC4</td>\n",
       "    </tr>\n",
       "    <tr>\n",
       "      <th>1</th>\n",
       "      <td>BCL6-HDAC5 complex</td>\n",
       "      <td>BCL6;HDAC5</td>\n",
       "    </tr>\n",
       "    <tr>\n",
       "      <th>2</th>\n",
       "      <td>BCL6-HDAC7 complex</td>\n",
       "      <td>BCL6;HDAC7</td>\n",
       "    </tr>\n",
       "    <tr>\n",
       "      <th>3</th>\n",
       "      <td>Multisubunit ACTR coactivator complex</td>\n",
       "      <td>EP300;CREBBP;KAT2B;NCOA3</td>\n",
       "    </tr>\n",
       "    <tr>\n",
       "      <th>5</th>\n",
       "      <td>Condensin I complex</td>\n",
       "      <td>SMC2;NCAPH;NCAPD2;NCAPG;SMC4</td>\n",
       "    </tr>\n",
       "  </tbody>\n",
       "</table>\n",
       "</div>"
      ],
      "text/plain": [
       "                             ComplexName           subunits(Gene name)\n",
       "0                     BCL6-HDAC4 complex                    BCL6;HDAC4\n",
       "1                     BCL6-HDAC5 complex                    BCL6;HDAC5\n",
       "2                     BCL6-HDAC7 complex                    BCL6;HDAC7\n",
       "3  Multisubunit ACTR coactivator complex      EP300;CREBBP;KAT2B;NCOA3\n",
       "5                    Condensin I complex  SMC2;NCAPH;NCAPD2;NCAPG;SMC4"
      ]
     },
     "execution_count": 12,
     "metadata": {},
     "output_type": "execute_result"
    }
   ],
   "source": [
    "df.head()"
   ]
  },
  {
   "cell_type": "code",
   "execution_count": 10,
   "metadata": {},
   "outputs": [
    {
     "data": {
      "text/plain": [
       "(3332, 20)"
      ]
     },
     "execution_count": 10,
     "metadata": {},
     "output_type": "execute_result"
    }
   ],
   "source": [
    "df.shape "
   ]
  },
  {
   "cell_type": "code",
   "execution_count": 35,
   "metadata": {},
   "outputs": [
    {
     "name": "stdout",
     "output_type": "stream",
     "text": [
      "Progeres: 100%  3332 Out of 3332   \r"
     ]
    }
   ],
   "source": [
    "df_interactions = pd.DataFrame()\n",
    "\n",
    "for i, index in enumerate(df.index):\n",
    "    \n",
    "    progressPercent = ((i+1)/len(df.index))*100\n",
    "\n",
    "    sys.stdout.write(\"Progeres: %d%%  %d Out of %d   \\r\" % (progressPercent, (i+1), len(df.index)))\n",
    "    sys.stdout.flush()\n",
    "    \n",
    "    \n",
    "    lst2 = df.ix[index, 'subunits(Gene name)'].split(';')\n",
    "    lst1 = [df.ix[index, 'ComplexName'].split('(')[0]]*(len(lst2))\n",
    "    temp = pd.DataFrame()\n",
    "    temp['GeneSymbol'] = lst2\n",
    "    temp['Complex'] = lst1\n",
    "    df_interactions = pd.concat([df_interactions, temp]) "
   ]
  },
  {
   "cell_type": "code",
   "execution_count": 36,
   "metadata": {},
   "outputs": [
    {
     "data": {
      "text/html": [
       "<div>\n",
       "<table border=\"1\" class=\"dataframe\">\n",
       "  <thead>\n",
       "    <tr style=\"text-align: right;\">\n",
       "      <th></th>\n",
       "      <th>GeneSymbol</th>\n",
       "      <th>Complex</th>\n",
       "    </tr>\n",
       "  </thead>\n",
       "  <tbody>\n",
       "    <tr>\n",
       "      <th>0</th>\n",
       "      <td>BCL6</td>\n",
       "      <td>BCL6-HDAC4 complex</td>\n",
       "    </tr>\n",
       "    <tr>\n",
       "      <th>1</th>\n",
       "      <td>HDAC4</td>\n",
       "      <td>BCL6-HDAC4 complex</td>\n",
       "    </tr>\n",
       "    <tr>\n",
       "      <th>0</th>\n",
       "      <td>BCL6</td>\n",
       "      <td>BCL6-HDAC5 complex</td>\n",
       "    </tr>\n",
       "    <tr>\n",
       "      <th>1</th>\n",
       "      <td>HDAC5</td>\n",
       "      <td>BCL6-HDAC5 complex</td>\n",
       "    </tr>\n",
       "    <tr>\n",
       "      <th>0</th>\n",
       "      <td>BCL6</td>\n",
       "      <td>BCL6-HDAC7 complex</td>\n",
       "    </tr>\n",
       "  </tbody>\n",
       "</table>\n",
       "</div>"
      ],
      "text/plain": [
       "  GeneSymbol             Complex\n",
       "0       BCL6  BCL6-HDAC4 complex\n",
       "1      HDAC4  BCL6-HDAC4 complex\n",
       "0       BCL6  BCL6-HDAC5 complex\n",
       "1      HDAC5  BCL6-HDAC5 complex\n",
       "0       BCL6  BCL6-HDAC7 complex"
      ]
     },
     "execution_count": 36,
     "metadata": {},
     "output_type": "execute_result"
    }
   ],
   "source": [
    "df_interactions.head()"
   ]
  },
  {
   "cell_type": "markdown",
   "metadata": {},
   "source": [
    "# Map Gene Symbols To Up-to-date Approved Gene Symbols"
   ]
  },
  {
   "cell_type": "code",
   "execution_count": 37,
   "metadata": {
    "collapsed": true
   },
   "outputs": [],
   "source": [
    "df_interactions.set_index('GeneSymbol', inplace=True)"
   ]
  },
  {
   "cell_type": "code",
   "execution_count": 38,
   "metadata": {},
   "outputs": [
    {
     "name": "stdout",
     "output_type": "stream",
     "text": [
      "Progeres: 99%  13711 Out of 13819   \r"
     ]
    }
   ],
   "source": [
    "uf.mapgenesymbols(df_interactions)"
   ]
  },
  {
   "cell_type": "markdown",
   "metadata": {},
   "source": [
    "# Drop Duplicates"
   ]
  },
  {
   "cell_type": "code",
   "execution_count": 39,
   "metadata": {
    "collapsed": true
   },
   "outputs": [],
   "source": [
    "df_interactions.reset_index(inplace=True)"
   ]
  },
  {
   "cell_type": "code",
   "execution_count": 40,
   "metadata": {
    "collapsed": true
   },
   "outputs": [],
   "source": [
    "df_interactions.drop_duplicates(inplace=True)"
   ]
  },
  {
   "cell_type": "code",
   "execution_count": 41,
   "metadata": {},
   "outputs": [
    {
     "data": {
      "text/plain": [
       "(11282, 2)"
      ]
     },
     "execution_count": 41,
     "metadata": {},
     "output_type": "execute_result"
    }
   ],
   "source": [
    "df_interactions.shape"
   ]
  },
  {
   "cell_type": "markdown",
   "metadata": {},
   "source": [
    "# Create Binary Matrix"
   ]
  },
  {
   "cell_type": "code",
   "execution_count": 42,
   "metadata": {},
   "outputs": [
    {
     "name": "stdout",
     "output_type": "stream",
     "text": [
      "Progeres: 100%  3753 Out of 3753   \r"
     ]
    }
   ],
   "source": [
    "binary_matrix = uf.createBinaryMatix(df_interactions)"
   ]
  },
  {
   "cell_type": "code",
   "execution_count": 43,
   "metadata": {},
   "outputs": [
    {
     "data": {
      "text/html": [
       "<div>\n",
       "<table border=\"1\" class=\"dataframe\">\n",
       "  <thead>\n",
       "    <tr style=\"text-align: right;\">\n",
       "      <th></th>\n",
       "      <th></th>\n",
       "      <th>Smad4-Smad2-Smad3 complex</th>\n",
       "      <th>SERPINA1-CTSG complex</th>\n",
       "      <th>Prnp homodimer complex</th>\n",
       "      <th>Cpt1a-Acsl1-Vdac1 complex</th>\n",
       "      <th>CENP-T-W-S-X heterotetramer complex</th>\n",
       "      <th>PRAME-ElonginBC ubiquitin ligase</th>\n",
       "      <th>MGAT4B-SLC35A2</th>\n",
       "      <th>Smad1-Notch1-p300-Pcaf complex</th>\n",
       "      <th>Mi2/NuRD-BCL6-MTA3 complex</th>\n",
       "      <th>...</th>\n",
       "      <th>HIF1A-OS9-EGLN1 complex</th>\n",
       "      <th>F1F0-ATP synthase, mitochondrial</th>\n",
       "      <th>SMAD2-SMAD4-WWTR1 complex</th>\n",
       "      <th>MPP4-MPP5-CRB1 complex</th>\n",
       "      <th>CD19-Vav-PI 3-kinase</th>\n",
       "      <th>SIN3-HDAC-SAP30-ARID4 complex</th>\n",
       "      <th>Gata1-Fog1-MeCP1 complex</th>\n",
       "      <th>ITGAV-ITGB3-ADAM15 complex</th>\n",
       "      <th>GPI-GnT activity complex</th>\n",
       "      <th>MT1-G</th>\n",
       "    </tr>\n",
       "  </thead>\n",
       "  <tbody>\n",
       "    <tr>\n",
       "      <th>PPP1CA</th>\n",
       "      <td>0</td>\n",
       "      <td>0</td>\n",
       "      <td>0</td>\n",
       "      <td>0</td>\n",
       "      <td>0</td>\n",
       "      <td>0</td>\n",
       "      <td>0</td>\n",
       "      <td>0</td>\n",
       "      <td>0</td>\n",
       "      <td>0</td>\n",
       "      <td>...</td>\n",
       "      <td>0</td>\n",
       "      <td>0</td>\n",
       "      <td>0</td>\n",
       "      <td>0</td>\n",
       "      <td>0</td>\n",
       "      <td>0</td>\n",
       "      <td>0</td>\n",
       "      <td>0</td>\n",
       "      <td>0</td>\n",
       "      <td>0</td>\n",
       "    </tr>\n",
       "    <tr>\n",
       "      <th>POLD1</th>\n",
       "      <td>0</td>\n",
       "      <td>0</td>\n",
       "      <td>0</td>\n",
       "      <td>0</td>\n",
       "      <td>0</td>\n",
       "      <td>0</td>\n",
       "      <td>0</td>\n",
       "      <td>0</td>\n",
       "      <td>0</td>\n",
       "      <td>0</td>\n",
       "      <td>...</td>\n",
       "      <td>0</td>\n",
       "      <td>0</td>\n",
       "      <td>0</td>\n",
       "      <td>0</td>\n",
       "      <td>0</td>\n",
       "      <td>0</td>\n",
       "      <td>0</td>\n",
       "      <td>0</td>\n",
       "      <td>0</td>\n",
       "      <td>0</td>\n",
       "    </tr>\n",
       "    <tr>\n",
       "      <th>GSE1</th>\n",
       "      <td>0</td>\n",
       "      <td>0</td>\n",
       "      <td>0</td>\n",
       "      <td>0</td>\n",
       "      <td>0</td>\n",
       "      <td>0</td>\n",
       "      <td>0</td>\n",
       "      <td>0</td>\n",
       "      <td>0</td>\n",
       "      <td>0</td>\n",
       "      <td>...</td>\n",
       "      <td>0</td>\n",
       "      <td>0</td>\n",
       "      <td>0</td>\n",
       "      <td>0</td>\n",
       "      <td>0</td>\n",
       "      <td>0</td>\n",
       "      <td>0</td>\n",
       "      <td>0</td>\n",
       "      <td>0</td>\n",
       "      <td>0</td>\n",
       "    </tr>\n",
       "    <tr>\n",
       "      <th>RBMX</th>\n",
       "      <td>0</td>\n",
       "      <td>0</td>\n",
       "      <td>0</td>\n",
       "      <td>0</td>\n",
       "      <td>0</td>\n",
       "      <td>0</td>\n",
       "      <td>0</td>\n",
       "      <td>0</td>\n",
       "      <td>0</td>\n",
       "      <td>0</td>\n",
       "      <td>...</td>\n",
       "      <td>0</td>\n",
       "      <td>0</td>\n",
       "      <td>0</td>\n",
       "      <td>0</td>\n",
       "      <td>0</td>\n",
       "      <td>0</td>\n",
       "      <td>0</td>\n",
       "      <td>0</td>\n",
       "      <td>0</td>\n",
       "      <td>0</td>\n",
       "    </tr>\n",
       "    <tr>\n",
       "      <th>ZCCHC8</th>\n",
       "      <td>0</td>\n",
       "      <td>0</td>\n",
       "      <td>0</td>\n",
       "      <td>0</td>\n",
       "      <td>0</td>\n",
       "      <td>0</td>\n",
       "      <td>0</td>\n",
       "      <td>0</td>\n",
       "      <td>0</td>\n",
       "      <td>0</td>\n",
       "      <td>...</td>\n",
       "      <td>0</td>\n",
       "      <td>0</td>\n",
       "      <td>0</td>\n",
       "      <td>0</td>\n",
       "      <td>0</td>\n",
       "      <td>0</td>\n",
       "      <td>0</td>\n",
       "      <td>0</td>\n",
       "      <td>0</td>\n",
       "      <td>0</td>\n",
       "    </tr>\n",
       "  </tbody>\n",
       "</table>\n",
       "<p>5 rows × 2752 columns</p>\n",
       "</div>"
      ],
      "text/plain": [
       "           Smad4-Smad2-Smad3 complex  SERPINA1-CTSG complex  \\\n",
       "PPP1CA  0                          0                      0   \n",
       "POLD1   0                          0                      0   \n",
       "GSE1    0                          0                      0   \n",
       "RBMX    0                          0                      0   \n",
       "ZCCHC8  0                          0                      0   \n",
       "\n",
       "        Prnp homodimer complex  Cpt1a-Acsl1-Vdac1 complex  \\\n",
       "PPP1CA                       0                          0   \n",
       "POLD1                        0                          0   \n",
       "GSE1                         0                          0   \n",
       "RBMX                         0                          0   \n",
       "ZCCHC8                       0                          0   \n",
       "\n",
       "        CENP-T-W-S-X heterotetramer complex  PRAME-ElonginBC ubiquitin ligase  \\\n",
       "PPP1CA                                    0                                 0   \n",
       "POLD1                                     0                                 0   \n",
       "GSE1                                      0                                 0   \n",
       "RBMX                                      0                                 0   \n",
       "ZCCHC8                                    0                                 0   \n",
       "\n",
       "        MGAT4B-SLC35A2  Smad1-Notch1-p300-Pcaf complex  \\\n",
       "PPP1CA               0                               0   \n",
       "POLD1                0                               0   \n",
       "GSE1                 0                               0   \n",
       "RBMX                 0                               0   \n",
       "ZCCHC8               0                               0   \n",
       "\n",
       "        Mi2/NuRD-BCL6-MTA3 complex  ...    HIF1A-OS9-EGLN1 complex  \\\n",
       "PPP1CA                           0  ...                          0   \n",
       "POLD1                            0  ...                          0   \n",
       "GSE1                             0  ...                          0   \n",
       "RBMX                             0  ...                          0   \n",
       "ZCCHC8                           0  ...                          0   \n",
       "\n",
       "        F1F0-ATP synthase, mitochondrial  SMAD2-SMAD4-WWTR1 complex  \\\n",
       "PPP1CA                                 0                          0   \n",
       "POLD1                                  0                          0   \n",
       "GSE1                                   0                          0   \n",
       "RBMX                                   0                          0   \n",
       "ZCCHC8                                 0                          0   \n",
       "\n",
       "        MPP4-MPP5-CRB1 complex  CD19-Vav-PI 3-kinase   \\\n",
       "PPP1CA                       0                      0   \n",
       "POLD1                        0                      0   \n",
       "GSE1                         0                      0   \n",
       "RBMX                         0                      0   \n",
       "ZCCHC8                       0                      0   \n",
       "\n",
       "        SIN3-HDAC-SAP30-ARID4 complex  Gata1-Fog1-MeCP1 complex  \\\n",
       "PPP1CA                              0                         0   \n",
       "POLD1                               0                         0   \n",
       "GSE1                                0                         0   \n",
       "RBMX                                0                         0   \n",
       "ZCCHC8                              0                         0   \n",
       "\n",
       "        ITGAV-ITGB3-ADAM15 complex  GPI-GnT activity complex  MT1-G  \n",
       "PPP1CA                           0                         0      0  \n",
       "POLD1                            0                         0      0  \n",
       "GSE1                             0                         0      0  \n",
       "RBMX                             0                         0      0  \n",
       "ZCCHC8                           0                         0      0  \n",
       "\n",
       "[5 rows x 2752 columns]"
      ]
     },
     "execution_count": 43,
     "metadata": {},
     "output_type": "execute_result"
    }
   ],
   "source": [
    "binary_matrix.head()"
   ]
  },
  {
   "cell_type": "code",
   "execution_count": 44,
   "metadata": {},
   "outputs": [
    {
     "data": {
      "text/plain": [
       "(3753, 2752)"
      ]
     },
     "execution_count": 44,
     "metadata": {},
     "output_type": "execute_result"
    }
   ],
   "source": [
    "binary_matrix.shape"
   ]
  },
  {
   "cell_type": "markdown",
   "metadata": {},
   "source": [
    "# Save Binary Matrix"
   ]
  },
  {
   "cell_type": "code",
   "execution_count": 45,
   "metadata": {
    "collapsed": true
   },
   "outputs": [],
   "source": [
    "filename = '~/./Documents/Harmonizome/CORUM/Output/corum_binary_matrix_%s.tsv.zip'% str(datetime.date.today())[0:7].replace('-', '_')\n",
    "binary_matrix.to_csv(filename, sep='\\t', compression='gzip')"
   ]
  },
  {
   "cell_type": "markdown",
   "metadata": {},
   "source": [
    "# Create Gene Set Library"
   ]
  },
  {
   "cell_type": "code",
   "execution_count": 46,
   "metadata": {
    "collapsed": true
   },
   "outputs": [],
   "source": [
    "path = '/Users/moshesilverstein/Documents/Harmonizome/CORUM/Output/'"
   ]
  },
  {
   "cell_type": "code",
   "execution_count": 47,
   "metadata": {
    "collapsed": true
   },
   "outputs": [],
   "source": [
    "name = 'corum_gene_set'"
   ]
  },
  {
   "cell_type": "code",
   "execution_count": 48,
   "metadata": {},
   "outputs": [
    {
     "name": "stdout",
     "output_type": "stream",
     "text": [
      "Progeres: 100%  2752 Out of 2752   \r"
     ]
    }
   ],
   "source": [
    "uf.createUpGeneSetLib(binary_matrix, path, name)"
   ]
  },
  {
   "cell_type": "markdown",
   "metadata": {},
   "source": [
    "# Create Attribute Library"
   ]
  },
  {
   "cell_type": "code",
   "execution_count": 49,
   "metadata": {
    "collapsed": true
   },
   "outputs": [],
   "source": [
    "path = '/Users/moshesilverstein/Documents/Harmonizome/CORUM/Output/'"
   ]
  },
  {
   "cell_type": "code",
   "execution_count": 50,
   "metadata": {
    "collapsed": true
   },
   "outputs": [],
   "source": [
    "name = 'corum_attribute_set'"
   ]
  },
  {
   "cell_type": "code",
   "execution_count": 51,
   "metadata": {},
   "outputs": [
    {
     "name": "stdout",
     "output_type": "stream",
     "text": [
      "Progeres: 100%  3753 Out of 3753   \r"
     ]
    }
   ],
   "source": [
    "uf.createUpAttributeSetLib(binary_matrix, path, name)"
   ]
  },
  {
   "cell_type": "markdown",
   "metadata": {},
   "source": [
    "# Create Gene Similarity Matrix"
   ]
  },
  {
   "cell_type": "code",
   "execution_count": 52,
   "metadata": {
    "collapsed": true
   },
   "outputs": [],
   "source": [
    "gene_similarity_matix = uf.createSimilarityMatrix(binary_matrix, 'jaccard')"
   ]
  },
  {
   "cell_type": "code",
   "execution_count": 53,
   "metadata": {},
   "outputs": [
    {
     "data": {
      "text/html": [
       "<div>\n",
       "<table border=\"1\" class=\"dataframe\">\n",
       "  <thead>\n",
       "    <tr style=\"text-align: right;\">\n",
       "      <th></th>\n",
       "      <th>PPP1CA</th>\n",
       "      <th>POLD1</th>\n",
       "      <th>GSE1</th>\n",
       "      <th>RBMX</th>\n",
       "      <th>ZCCHC8</th>\n",
       "      <th>BLM</th>\n",
       "      <th>DDX20</th>\n",
       "      <th>FOSL1</th>\n",
       "      <th>CCNK</th>\n",
       "      <th>ARHGEF1</th>\n",
       "      <th>...</th>\n",
       "      <th>AAAS</th>\n",
       "      <th>LSM1</th>\n",
       "      <th>OS9</th>\n",
       "      <th>NCK1</th>\n",
       "      <th>YWHAB</th>\n",
       "      <th>WRN</th>\n",
       "      <th>GTF2A2</th>\n",
       "      <th>RPL23</th>\n",
       "      <th>SMC1A</th>\n",
       "      <th>ELK4</th>\n",
       "    </tr>\n",
       "  </thead>\n",
       "  <tbody>\n",
       "    <tr>\n",
       "      <th>PPP1CA</th>\n",
       "      <td>1.0</td>\n",
       "      <td>0.0</td>\n",
       "      <td>0.0</td>\n",
       "      <td>0.2</td>\n",
       "      <td>0.0</td>\n",
       "      <td>0.0</td>\n",
       "      <td>0.0</td>\n",
       "      <td>0.0</td>\n",
       "      <td>0.0</td>\n",
       "      <td>0.0</td>\n",
       "      <td>...</td>\n",
       "      <td>0.0</td>\n",
       "      <td>0.0</td>\n",
       "      <td>0.0</td>\n",
       "      <td>0.0</td>\n",
       "      <td>0.0</td>\n",
       "      <td>0.0</td>\n",
       "      <td>0.0</td>\n",
       "      <td>0.0</td>\n",
       "      <td>0.0</td>\n",
       "      <td>0.0</td>\n",
       "    </tr>\n",
       "    <tr>\n",
       "      <th>POLD1</th>\n",
       "      <td>0.0</td>\n",
       "      <td>1.0</td>\n",
       "      <td>0.0</td>\n",
       "      <td>0.0</td>\n",
       "      <td>0.0</td>\n",
       "      <td>0.0</td>\n",
       "      <td>0.0</td>\n",
       "      <td>0.0</td>\n",
       "      <td>0.0</td>\n",
       "      <td>0.0</td>\n",
       "      <td>...</td>\n",
       "      <td>0.0</td>\n",
       "      <td>0.0</td>\n",
       "      <td>0.0</td>\n",
       "      <td>0.0</td>\n",
       "      <td>0.0</td>\n",
       "      <td>0.0</td>\n",
       "      <td>0.0</td>\n",
       "      <td>0.0</td>\n",
       "      <td>0.0</td>\n",
       "      <td>0.0</td>\n",
       "    </tr>\n",
       "    <tr>\n",
       "      <th>GSE1</th>\n",
       "      <td>0.0</td>\n",
       "      <td>0.0</td>\n",
       "      <td>1.0</td>\n",
       "      <td>0.0</td>\n",
       "      <td>0.0</td>\n",
       "      <td>0.0</td>\n",
       "      <td>0.0</td>\n",
       "      <td>0.0</td>\n",
       "      <td>0.0</td>\n",
       "      <td>0.0</td>\n",
       "      <td>...</td>\n",
       "      <td>0.0</td>\n",
       "      <td>0.0</td>\n",
       "      <td>0.0</td>\n",
       "      <td>0.0</td>\n",
       "      <td>0.0</td>\n",
       "      <td>0.0</td>\n",
       "      <td>0.0</td>\n",
       "      <td>0.0</td>\n",
       "      <td>0.0</td>\n",
       "      <td>0.0</td>\n",
       "    </tr>\n",
       "    <tr>\n",
       "      <th>RBMX</th>\n",
       "      <td>0.2</td>\n",
       "      <td>0.0</td>\n",
       "      <td>0.0</td>\n",
       "      <td>1.0</td>\n",
       "      <td>0.5</td>\n",
       "      <td>0.0</td>\n",
       "      <td>0.0</td>\n",
       "      <td>0.0</td>\n",
       "      <td>0.0</td>\n",
       "      <td>0.0</td>\n",
       "      <td>...</td>\n",
       "      <td>0.0</td>\n",
       "      <td>0.0</td>\n",
       "      <td>0.0</td>\n",
       "      <td>0.0</td>\n",
       "      <td>0.0</td>\n",
       "      <td>0.0</td>\n",
       "      <td>0.0</td>\n",
       "      <td>0.0</td>\n",
       "      <td>0.0</td>\n",
       "      <td>0.0</td>\n",
       "    </tr>\n",
       "    <tr>\n",
       "      <th>ZCCHC8</th>\n",
       "      <td>0.0</td>\n",
       "      <td>0.0</td>\n",
       "      <td>0.0</td>\n",
       "      <td>0.5</td>\n",
       "      <td>1.0</td>\n",
       "      <td>0.0</td>\n",
       "      <td>0.0</td>\n",
       "      <td>0.0</td>\n",
       "      <td>0.0</td>\n",
       "      <td>0.0</td>\n",
       "      <td>...</td>\n",
       "      <td>0.0</td>\n",
       "      <td>0.0</td>\n",
       "      <td>0.0</td>\n",
       "      <td>0.0</td>\n",
       "      <td>0.0</td>\n",
       "      <td>0.0</td>\n",
       "      <td>0.0</td>\n",
       "      <td>0.0</td>\n",
       "      <td>0.0</td>\n",
       "      <td>0.0</td>\n",
       "    </tr>\n",
       "  </tbody>\n",
       "</table>\n",
       "<p>5 rows × 3753 columns</p>\n",
       "</div>"
      ],
      "text/plain": [
       "        PPP1CA  POLD1  GSE1  RBMX  ZCCHC8  BLM  DDX20  FOSL1  CCNK  ARHGEF1  \\\n",
       "PPP1CA     1.0    0.0   0.0   0.2     0.0  0.0    0.0    0.0   0.0      0.0   \n",
       "POLD1      0.0    1.0   0.0   0.0     0.0  0.0    0.0    0.0   0.0      0.0   \n",
       "GSE1       0.0    0.0   1.0   0.0     0.0  0.0    0.0    0.0   0.0      0.0   \n",
       "RBMX       0.2    0.0   0.0   1.0     0.5  0.0    0.0    0.0   0.0      0.0   \n",
       "ZCCHC8     0.0    0.0   0.0   0.5     1.0  0.0    0.0    0.0   0.0      0.0   \n",
       "\n",
       "        ...   AAAS  LSM1  OS9  NCK1  YWHAB  WRN  GTF2A2  RPL23  SMC1A  ELK4  \n",
       "PPP1CA  ...    0.0   0.0  0.0   0.0    0.0  0.0     0.0    0.0    0.0   0.0  \n",
       "POLD1   ...    0.0   0.0  0.0   0.0    0.0  0.0     0.0    0.0    0.0   0.0  \n",
       "GSE1    ...    0.0   0.0  0.0   0.0    0.0  0.0     0.0    0.0    0.0   0.0  \n",
       "RBMX    ...    0.0   0.0  0.0   0.0    0.0  0.0     0.0    0.0    0.0   0.0  \n",
       "ZCCHC8  ...    0.0   0.0  0.0   0.0    0.0  0.0     0.0    0.0    0.0   0.0  \n",
       "\n",
       "[5 rows x 3753 columns]"
      ]
     },
     "execution_count": 53,
     "metadata": {},
     "output_type": "execute_result"
    }
   ],
   "source": [
    "gene_similarity_matix.head()"
   ]
  },
  {
   "cell_type": "markdown",
   "metadata": {},
   "source": [
    "# Save Gene Similarity Matrix"
   ]
  },
  {
   "cell_type": "code",
   "execution_count": 54,
   "metadata": {
    "collapsed": true
   },
   "outputs": [],
   "source": [
    "filename = '~/./Documents/Harmonizome/CORUM/Output/corum_gene_similarity_matix_%s.tsv.zip'% str(datetime.date.today())[0:7].replace('-', '_')\n",
    "gene_similarity_matix.to_csv(filename, sep='\\t', compression='gzip')"
   ]
  },
  {
   "cell_type": "markdown",
   "metadata": {},
   "source": [
    "# Create Attribute Similarity matrix"
   ]
  },
  {
   "cell_type": "code",
   "execution_count": 55,
   "metadata": {
    "collapsed": true
   },
   "outputs": [],
   "source": [
    "attribute_similarity_matix = uf.createSimilarityMatrix(binary_matrix.T, 'jaccard')"
   ]
  },
  {
   "cell_type": "code",
   "execution_count": 56,
   "metadata": {},
   "outputs": [
    {
     "data": {
      "text/html": [
       "<div>\n",
       "<table border=\"1\" class=\"dataframe\">\n",
       "  <thead>\n",
       "    <tr style=\"text-align: right;\">\n",
       "      <th></th>\n",
       "      <th></th>\n",
       "      <th>Smad4-Smad2-Smad3 complex</th>\n",
       "      <th>SERPINA1-CTSG complex</th>\n",
       "      <th>Prnp homodimer complex</th>\n",
       "      <th>Cpt1a-Acsl1-Vdac1 complex</th>\n",
       "      <th>CENP-T-W-S-X heterotetramer complex</th>\n",
       "      <th>PRAME-ElonginBC ubiquitin ligase</th>\n",
       "      <th>MGAT4B-SLC35A2</th>\n",
       "      <th>Smad1-Notch1-p300-Pcaf complex</th>\n",
       "      <th>Mi2/NuRD-BCL6-MTA3 complex</th>\n",
       "      <th>...</th>\n",
       "      <th>HIF1A-OS9-EGLN1 complex</th>\n",
       "      <th>F1F0-ATP synthase, mitochondrial</th>\n",
       "      <th>SMAD2-SMAD4-WWTR1 complex</th>\n",
       "      <th>MPP4-MPP5-CRB1 complex</th>\n",
       "      <th>CD19-Vav-PI 3-kinase</th>\n",
       "      <th>SIN3-HDAC-SAP30-ARID4 complex</th>\n",
       "      <th>Gata1-Fog1-MeCP1 complex</th>\n",
       "      <th>ITGAV-ITGB3-ADAM15 complex</th>\n",
       "      <th>GPI-GnT activity complex</th>\n",
       "      <th>MT1-G</th>\n",
       "    </tr>\n",
       "  </thead>\n",
       "  <tbody>\n",
       "    <tr>\n",
       "      <th></th>\n",
       "      <td>1.0</td>\n",
       "      <td>0.0</td>\n",
       "      <td>0.0</td>\n",
       "      <td>0.0</td>\n",
       "      <td>0.0</td>\n",
       "      <td>0.0</td>\n",
       "      <td>0.0</td>\n",
       "      <td>0.0</td>\n",
       "      <td>0.0</td>\n",
       "      <td>0.0</td>\n",
       "      <td>...</td>\n",
       "      <td>0.0</td>\n",
       "      <td>0.0</td>\n",
       "      <td>0.0</td>\n",
       "      <td>0.0</td>\n",
       "      <td>0.0</td>\n",
       "      <td>0.0</td>\n",
       "      <td>0.0</td>\n",
       "      <td>0.0</td>\n",
       "      <td>0.0</td>\n",
       "      <td>0.0</td>\n",
       "    </tr>\n",
       "    <tr>\n",
       "      <th>Smad4-Smad2-Smad3 complex</th>\n",
       "      <td>0.0</td>\n",
       "      <td>1.0</td>\n",
       "      <td>0.0</td>\n",
       "      <td>0.0</td>\n",
       "      <td>0.0</td>\n",
       "      <td>0.0</td>\n",
       "      <td>0.0</td>\n",
       "      <td>0.0</td>\n",
       "      <td>0.0</td>\n",
       "      <td>0.0</td>\n",
       "      <td>...</td>\n",
       "      <td>0.0</td>\n",
       "      <td>0.0</td>\n",
       "      <td>0.5</td>\n",
       "      <td>0.0</td>\n",
       "      <td>0.0</td>\n",
       "      <td>0.0</td>\n",
       "      <td>0.0</td>\n",
       "      <td>0.0</td>\n",
       "      <td>0.0</td>\n",
       "      <td>0.0</td>\n",
       "    </tr>\n",
       "    <tr>\n",
       "      <th>SERPINA1-CTSG complex</th>\n",
       "      <td>0.0</td>\n",
       "      <td>0.0</td>\n",
       "      <td>1.0</td>\n",
       "      <td>0.0</td>\n",
       "      <td>0.0</td>\n",
       "      <td>0.0</td>\n",
       "      <td>0.0</td>\n",
       "      <td>0.0</td>\n",
       "      <td>0.0</td>\n",
       "      <td>0.0</td>\n",
       "      <td>...</td>\n",
       "      <td>0.0</td>\n",
       "      <td>0.0</td>\n",
       "      <td>0.0</td>\n",
       "      <td>0.0</td>\n",
       "      <td>0.0</td>\n",
       "      <td>0.0</td>\n",
       "      <td>0.0</td>\n",
       "      <td>0.0</td>\n",
       "      <td>0.0</td>\n",
       "      <td>0.0</td>\n",
       "    </tr>\n",
       "    <tr>\n",
       "      <th>Prnp homodimer complex</th>\n",
       "      <td>0.0</td>\n",
       "      <td>0.0</td>\n",
       "      <td>0.0</td>\n",
       "      <td>1.0</td>\n",
       "      <td>0.0</td>\n",
       "      <td>0.0</td>\n",
       "      <td>0.0</td>\n",
       "      <td>0.0</td>\n",
       "      <td>0.0</td>\n",
       "      <td>0.0</td>\n",
       "      <td>...</td>\n",
       "      <td>0.0</td>\n",
       "      <td>0.0</td>\n",
       "      <td>0.0</td>\n",
       "      <td>0.0</td>\n",
       "      <td>0.0</td>\n",
       "      <td>0.0</td>\n",
       "      <td>0.0</td>\n",
       "      <td>0.0</td>\n",
       "      <td>0.0</td>\n",
       "      <td>0.0</td>\n",
       "    </tr>\n",
       "    <tr>\n",
       "      <th>Cpt1a-Acsl1-Vdac1 complex</th>\n",
       "      <td>0.0</td>\n",
       "      <td>0.0</td>\n",
       "      <td>0.0</td>\n",
       "      <td>0.0</td>\n",
       "      <td>1.0</td>\n",
       "      <td>0.0</td>\n",
       "      <td>0.0</td>\n",
       "      <td>0.0</td>\n",
       "      <td>0.0</td>\n",
       "      <td>0.0</td>\n",
       "      <td>...</td>\n",
       "      <td>0.0</td>\n",
       "      <td>0.0</td>\n",
       "      <td>0.0</td>\n",
       "      <td>0.0</td>\n",
       "      <td>0.0</td>\n",
       "      <td>0.0</td>\n",
       "      <td>0.0</td>\n",
       "      <td>0.0</td>\n",
       "      <td>0.0</td>\n",
       "      <td>0.0</td>\n",
       "    </tr>\n",
       "  </tbody>\n",
       "</table>\n",
       "<p>5 rows × 2752 columns</p>\n",
       "</div>"
      ],
      "text/plain": [
       "                                Smad4-Smad2-Smad3 complex  \\\n",
       "                           1.0                        0.0   \n",
       "Smad4-Smad2-Smad3 complex  0.0                        1.0   \n",
       "SERPINA1-CTSG complex      0.0                        0.0   \n",
       "Prnp homodimer complex     0.0                        0.0   \n",
       "Cpt1a-Acsl1-Vdac1 complex  0.0                        0.0   \n",
       "\n",
       "                           SERPINA1-CTSG complex  Prnp homodimer complex  \\\n",
       "                                             0.0                     0.0   \n",
       "Smad4-Smad2-Smad3 complex                    0.0                     0.0   \n",
       "SERPINA1-CTSG complex                        1.0                     0.0   \n",
       "Prnp homodimer complex                       0.0                     1.0   \n",
       "Cpt1a-Acsl1-Vdac1 complex                    0.0                     0.0   \n",
       "\n",
       "                           Cpt1a-Acsl1-Vdac1 complex  \\\n",
       "                                                 0.0   \n",
       "Smad4-Smad2-Smad3 complex                        0.0   \n",
       "SERPINA1-CTSG complex                            0.0   \n",
       "Prnp homodimer complex                           0.0   \n",
       "Cpt1a-Acsl1-Vdac1 complex                        1.0   \n",
       "\n",
       "                           CENP-T-W-S-X heterotetramer complex  \\\n",
       "                                                           0.0   \n",
       "Smad4-Smad2-Smad3 complex                                  0.0   \n",
       "SERPINA1-CTSG complex                                      0.0   \n",
       "Prnp homodimer complex                                     0.0   \n",
       "Cpt1a-Acsl1-Vdac1 complex                                  0.0   \n",
       "\n",
       "                           PRAME-ElonginBC ubiquitin ligase  MGAT4B-SLC35A2  \\\n",
       "                                                        0.0             0.0   \n",
       "Smad4-Smad2-Smad3 complex                               0.0             0.0   \n",
       "SERPINA1-CTSG complex                                   0.0             0.0   \n",
       "Prnp homodimer complex                                  0.0             0.0   \n",
       "Cpt1a-Acsl1-Vdac1 complex                               0.0             0.0   \n",
       "\n",
       "                           Smad1-Notch1-p300-Pcaf complex  \\\n",
       "                                                      0.0   \n",
       "Smad4-Smad2-Smad3 complex                             0.0   \n",
       "SERPINA1-CTSG complex                                 0.0   \n",
       "Prnp homodimer complex                                0.0   \n",
       "Cpt1a-Acsl1-Vdac1 complex                             0.0   \n",
       "\n",
       "                           Mi2/NuRD-BCL6-MTA3 complex  ...    \\\n",
       "                                                  0.0  ...     \n",
       "Smad4-Smad2-Smad3 complex                         0.0  ...     \n",
       "SERPINA1-CTSG complex                             0.0  ...     \n",
       "Prnp homodimer complex                            0.0  ...     \n",
       "Cpt1a-Acsl1-Vdac1 complex                         0.0  ...     \n",
       "\n",
       "                           HIF1A-OS9-EGLN1 complex  \\\n",
       "                                               0.0   \n",
       "Smad4-Smad2-Smad3 complex                      0.0   \n",
       "SERPINA1-CTSG complex                          0.0   \n",
       "Prnp homodimer complex                         0.0   \n",
       "Cpt1a-Acsl1-Vdac1 complex                      0.0   \n",
       "\n",
       "                           F1F0-ATP synthase, mitochondrial  \\\n",
       "                                                        0.0   \n",
       "Smad4-Smad2-Smad3 complex                               0.0   \n",
       "SERPINA1-CTSG complex                                   0.0   \n",
       "Prnp homodimer complex                                  0.0   \n",
       "Cpt1a-Acsl1-Vdac1 complex                               0.0   \n",
       "\n",
       "                           SMAD2-SMAD4-WWTR1 complex  MPP4-MPP5-CRB1 complex  \\\n",
       "                                                 0.0                     0.0   \n",
       "Smad4-Smad2-Smad3 complex                        0.5                     0.0   \n",
       "SERPINA1-CTSG complex                            0.0                     0.0   \n",
       "Prnp homodimer complex                           0.0                     0.0   \n",
       "Cpt1a-Acsl1-Vdac1 complex                        0.0                     0.0   \n",
       "\n",
       "                           CD19-Vav-PI 3-kinase   \\\n",
       "                                             0.0   \n",
       "Smad4-Smad2-Smad3 complex                    0.0   \n",
       "SERPINA1-CTSG complex                        0.0   \n",
       "Prnp homodimer complex                       0.0   \n",
       "Cpt1a-Acsl1-Vdac1 complex                    0.0   \n",
       "\n",
       "                           SIN3-HDAC-SAP30-ARID4 complex  \\\n",
       "                                                     0.0   \n",
       "Smad4-Smad2-Smad3 complex                            0.0   \n",
       "SERPINA1-CTSG complex                                0.0   \n",
       "Prnp homodimer complex                               0.0   \n",
       "Cpt1a-Acsl1-Vdac1 complex                            0.0   \n",
       "\n",
       "                           Gata1-Fog1-MeCP1 complex  \\\n",
       "                                                0.0   \n",
       "Smad4-Smad2-Smad3 complex                       0.0   \n",
       "SERPINA1-CTSG complex                           0.0   \n",
       "Prnp homodimer complex                          0.0   \n",
       "Cpt1a-Acsl1-Vdac1 complex                       0.0   \n",
       "\n",
       "                           ITGAV-ITGB3-ADAM15 complex  \\\n",
       "                                                  0.0   \n",
       "Smad4-Smad2-Smad3 complex                         0.0   \n",
       "SERPINA1-CTSG complex                             0.0   \n",
       "Prnp homodimer complex                            0.0   \n",
       "Cpt1a-Acsl1-Vdac1 complex                         0.0   \n",
       "\n",
       "                           GPI-GnT activity complex  MT1-G  \n",
       "                                                0.0    0.0  \n",
       "Smad4-Smad2-Smad3 complex                       0.0    0.0  \n",
       "SERPINA1-CTSG complex                           0.0    0.0  \n",
       "Prnp homodimer complex                          0.0    0.0  \n",
       "Cpt1a-Acsl1-Vdac1 complex                       0.0    0.0  \n",
       "\n",
       "[5 rows x 2752 columns]"
      ]
     },
     "execution_count": 56,
     "metadata": {},
     "output_type": "execute_result"
    }
   ],
   "source": [
    "attribute_similarity_matix.head()"
   ]
  },
  {
   "cell_type": "markdown",
   "metadata": {},
   "source": [
    "# Save Attribute Similarity Matrix"
   ]
  },
  {
   "cell_type": "code",
   "execution_count": 57,
   "metadata": {
    "collapsed": true
   },
   "outputs": [],
   "source": [
    "filename = '~/./Documents/Harmonizome/CORUM/Output/corum_attribute_similarity_matix_%s.tsv.zip'% str(datetime.date.today())[0:7].replace('-', '_')\n",
    "attribute_similarity_matix.to_csv(filename, sep='\\t', compression='gzip')"
   ]
  },
  {
   "cell_type": "markdown",
   "metadata": {},
   "source": [
    "# Create Gene List"
   ]
  },
  {
   "cell_type": "code",
   "execution_count": 58,
   "metadata": {},
   "outputs": [
    {
     "name": "stdout",
     "output_type": "stream",
     "text": [
      "Progeres: 100%  3753 Out of 3753   \r"
     ]
    }
   ],
   "source": [
    "gene_list = uf.createGeneList(binary_matrix)"
   ]
  },
  {
   "cell_type": "code",
   "execution_count": 59,
   "metadata": {},
   "outputs": [
    {
     "data": {
      "text/html": [
       "<div>\n",
       "<table border=\"1\" class=\"dataframe\">\n",
       "  <thead>\n",
       "    <tr style=\"text-align: right;\">\n",
       "      <th></th>\n",
       "      <th>GeneSym</th>\n",
       "      <th>GeneID</th>\n",
       "    </tr>\n",
       "  </thead>\n",
       "  <tbody>\n",
       "    <tr>\n",
       "      <th>0</th>\n",
       "      <td>PPP1CA</td>\n",
       "      <td>5499</td>\n",
       "    </tr>\n",
       "    <tr>\n",
       "      <th>1</th>\n",
       "      <td>POLD1</td>\n",
       "      <td>5424</td>\n",
       "    </tr>\n",
       "    <tr>\n",
       "      <th>2</th>\n",
       "      <td>GSE1</td>\n",
       "      <td>23199</td>\n",
       "    </tr>\n",
       "    <tr>\n",
       "      <th>3</th>\n",
       "      <td>RBMX</td>\n",
       "      <td>27316</td>\n",
       "    </tr>\n",
       "    <tr>\n",
       "      <th>4</th>\n",
       "      <td>ZCCHC8</td>\n",
       "      <td>55596</td>\n",
       "    </tr>\n",
       "  </tbody>\n",
       "</table>\n",
       "</div>"
      ],
      "text/plain": [
       "  GeneSym GeneID\n",
       "0  PPP1CA   5499\n",
       "1   POLD1   5424\n",
       "2    GSE1  23199\n",
       "3    RBMX  27316\n",
       "4  ZCCHC8  55596"
      ]
     },
     "execution_count": 59,
     "metadata": {},
     "output_type": "execute_result"
    }
   ],
   "source": [
    "gene_list.head()"
   ]
  },
  {
   "cell_type": "code",
   "execution_count": 60,
   "metadata": {},
   "outputs": [
    {
     "data": {
      "text/plain": [
       "(3753, 2)"
      ]
     },
     "execution_count": 60,
     "metadata": {},
     "output_type": "execute_result"
    }
   ],
   "source": [
    "gene_list.shape"
   ]
  },
  {
   "cell_type": "markdown",
   "metadata": {},
   "source": [
    "# Save Gene List"
   ]
  },
  {
   "cell_type": "code",
   "execution_count": 61,
   "metadata": {
    "collapsed": true
   },
   "outputs": [],
   "source": [
    "filename = '~/./Documents/Harmonizome/CORUM/Output/corum_gene_list_%s.tsv.zip'% str(datetime.date.today())[0:7].replace('-', '_')\n",
    "gene_list.to_csv(filename, sep='\\t', index=False, compression='gzip')"
   ]
  },
  {
   "cell_type": "markdown",
   "metadata": {},
   "source": [
    "# Create Attribute List"
   ]
  },
  {
   "cell_type": "code",
   "execution_count": 62,
   "metadata": {
    "collapsed": true
   },
   "outputs": [],
   "source": [
    "attribute_list = uf.createAttributeList(binary_matrix)"
   ]
  },
  {
   "cell_type": "code",
   "execution_count": 63,
   "metadata": {},
   "outputs": [
    {
     "data": {
      "text/html": [
       "<div>\n",
       "<table border=\"1\" class=\"dataframe\">\n",
       "  <thead>\n",
       "    <tr style=\"text-align: right;\">\n",
       "      <th></th>\n",
       "      <th>Attributes</th>\n",
       "    </tr>\n",
       "  </thead>\n",
       "  <tbody>\n",
       "    <tr>\n",
       "      <th>0</th>\n",
       "      <td></td>\n",
       "    </tr>\n",
       "    <tr>\n",
       "      <th>1</th>\n",
       "      <td>Smad4-Smad2-Smad3 complex</td>\n",
       "    </tr>\n",
       "    <tr>\n",
       "      <th>2</th>\n",
       "      <td>SERPINA1-CTSG complex</td>\n",
       "    </tr>\n",
       "    <tr>\n",
       "      <th>3</th>\n",
       "      <td>Prnp homodimer complex</td>\n",
       "    </tr>\n",
       "    <tr>\n",
       "      <th>4</th>\n",
       "      <td>Cpt1a-Acsl1-Vdac1 complex</td>\n",
       "    </tr>\n",
       "  </tbody>\n",
       "</table>\n",
       "</div>"
      ],
      "text/plain": [
       "                  Attributes\n",
       "0                           \n",
       "1  Smad4-Smad2-Smad3 complex\n",
       "2      SERPINA1-CTSG complex\n",
       "3     Prnp homodimer complex\n",
       "4  Cpt1a-Acsl1-Vdac1 complex"
      ]
     },
     "execution_count": 63,
     "metadata": {},
     "output_type": "execute_result"
    }
   ],
   "source": [
    "attribute_list.head()"
   ]
  },
  {
   "cell_type": "code",
   "execution_count": 64,
   "metadata": {},
   "outputs": [
    {
     "data": {
      "text/plain": [
       "(2752, 1)"
      ]
     },
     "execution_count": 64,
     "metadata": {},
     "output_type": "execute_result"
    }
   ],
   "source": [
    "attribute_list.shape"
   ]
  },
  {
   "cell_type": "markdown",
   "metadata": {},
   "source": [
    "# Save Attribute List"
   ]
  },
  {
   "cell_type": "code",
   "execution_count": 65,
   "metadata": {
    "collapsed": true
   },
   "outputs": [],
   "source": [
    "filename = '~/./Documents/Harmonizome/CORUM/Output/corum_attribute_list_%s.tsv.zip'% str(datetime.date.today())[0:7].replace('-', '_')\n",
    "attribute_list.to_csv(filename, sep='\\t', index=False, compression='gzip')"
   ]
  },
  {
   "cell_type": "markdown",
   "metadata": {},
   "source": [
    "# Create Gene-Attribute Edge List¶"
   ]
  },
  {
   "cell_type": "code",
   "execution_count": 66,
   "metadata": {
    "collapsed": true
   },
   "outputs": [],
   "source": [
    "path = '/Users/moshesilverstein/Documents/Harmonizome/CORUM/Output/'"
   ]
  },
  {
   "cell_type": "code",
   "execution_count": 67,
   "metadata": {
    "collapsed": true
   },
   "outputs": [],
   "source": [
    "name = 'corum_gene_attribute_edge_list'"
   ]
  },
  {
   "cell_type": "code",
   "execution_count": 68,
   "metadata": {},
   "outputs": [
    {
     "name": "stdout",
     "output_type": "stream",
     "text": [
      "Progeres: 100%  2752 Out of 2752   \n",
      "\n",
      " The number of statisticaly relevent gene-attribute associations is: 11280\n"
     ]
    }
   ],
   "source": [
    "uf.createGeneAttributeEdgeList(binary_matrix, gene_list, path, name)"
   ]
  }
 ],
 "metadata": {
  "kernelspec": {
   "display_name": "Python [default]",
   "language": "python",
   "name": "python3"
  },
  "language_info": {
   "codemirror_mode": {
    "name": "ipython",
    "version": 3
   },
   "file_extension": ".py",
   "mimetype": "text/x-python",
   "name": "python",
   "nbconvert_exporter": "python",
   "pygments_lexer": "ipython3",
   "version": "3.5.2"
  }
 },
 "nbformat": 4,
 "nbformat_minor": 2
}
