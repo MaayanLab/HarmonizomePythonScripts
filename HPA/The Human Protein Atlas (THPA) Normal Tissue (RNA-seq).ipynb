{
 "cells": [
  {
   "cell_type": "markdown",
   "metadata": {},
   "source": [
    "# The Human Protein Atlas (THPA) Normal Tissue (RNA-seq)"
   ]
  },
  {
   "cell_type": "markdown",
   "metadata": {},
   "source": [
    "Author: Moshe Silverstein <br/>\n",
    "Date: 7-17 <br/>\n",
    "Data Downloaded: 04-2017 <br/>\n",
    "Data Source: http://www.proteinatlas.org/about/download"
   ]
  },
  {
   "cell_type": "code",
   "execution_count": 1,
   "metadata": {
    "collapsed": true
   },
   "outputs": [],
   "source": [
    "import sys, datetime\n",
    "import numpy as np\n",
    "import pandas as pd\n",
    "import importlib\n",
    "import untility_functions as uf\n",
    "%matplotlib inline"
   ]
  },
  {
   "cell_type": "code",
   "execution_count": 2,
   "metadata": {},
   "outputs": [
    {
     "data": {
      "text/plain": [
       "<module 'untility_functions' from '/Users/moshesilverstein/Documents/Harmonizome/The_Human_Protaein_Atlas/untility_functions.py'>"
      ]
     },
     "execution_count": 2,
     "metadata": {},
     "output_type": "execute_result"
    }
   ],
   "source": [
    "importlib.reload(uf)"
   ]
  },
  {
   "cell_type": "markdown",
   "metadata": {},
   "source": [
    "# Load Data"
   ]
  },
  {
   "cell_type": "code",
   "execution_count": 3,
   "metadata": {
    "collapsed": true
   },
   "outputs": [],
   "source": [
    "df = pd.read_csv('Data/rna_tissue.csv.zip', sep=',')"
   ]
  },
  {
   "cell_type": "code",
   "execution_count": 4,
   "metadata": {},
   "outputs": [
    {
     "data": {
      "text/html": [
       "<div>\n",
       "<table border=\"1\" class=\"dataframe\">\n",
       "  <thead>\n",
       "    <tr style=\"text-align: right;\">\n",
       "      <th></th>\n",
       "      <th>Gene</th>\n",
       "      <th>Gene name</th>\n",
       "      <th>Sample</th>\n",
       "      <th>Value</th>\n",
       "      <th>Unit</th>\n",
       "    </tr>\n",
       "  </thead>\n",
       "  <tbody>\n",
       "    <tr>\n",
       "      <th>0</th>\n",
       "      <td>ENSG00000000003</td>\n",
       "      <td>TSPAN6</td>\n",
       "      <td>adipose tissue</td>\n",
       "      <td>31.5</td>\n",
       "      <td>TPM</td>\n",
       "    </tr>\n",
       "    <tr>\n",
       "      <th>1</th>\n",
       "      <td>ENSG00000000003</td>\n",
       "      <td>TSPAN6</td>\n",
       "      <td>adrenal gland</td>\n",
       "      <td>26.5</td>\n",
       "      <td>TPM</td>\n",
       "    </tr>\n",
       "    <tr>\n",
       "      <th>2</th>\n",
       "      <td>ENSG00000000003</td>\n",
       "      <td>TSPAN6</td>\n",
       "      <td>appendix</td>\n",
       "      <td>9.5</td>\n",
       "      <td>TPM</td>\n",
       "    </tr>\n",
       "    <tr>\n",
       "      <th>3</th>\n",
       "      <td>ENSG00000000003</td>\n",
       "      <td>TSPAN6</td>\n",
       "      <td>bone marrow</td>\n",
       "      <td>0.7</td>\n",
       "      <td>TPM</td>\n",
       "    </tr>\n",
       "    <tr>\n",
       "      <th>4</th>\n",
       "      <td>ENSG00000000003</td>\n",
       "      <td>TSPAN6</td>\n",
       "      <td>breast</td>\n",
       "      <td>53.0</td>\n",
       "      <td>TPM</td>\n",
       "    </tr>\n",
       "  </tbody>\n",
       "</table>\n",
       "</div>"
      ],
      "text/plain": [
       "              Gene Gene name          Sample  Value Unit\n",
       "0  ENSG00000000003    TSPAN6  adipose tissue   31.5  TPM\n",
       "1  ENSG00000000003    TSPAN6   adrenal gland   26.5  TPM\n",
       "2  ENSG00000000003    TSPAN6        appendix    9.5  TPM\n",
       "3  ENSG00000000003    TSPAN6     bone marrow    0.7  TPM\n",
       "4  ENSG00000000003    TSPAN6          breast   53.0  TPM"
      ]
     },
     "execution_count": 4,
     "metadata": {},
     "output_type": "execute_result"
    }
   ],
   "source": [
    "df.head()"
   ]
  },
  {
   "cell_type": "code",
   "execution_count": 5,
   "metadata": {},
   "outputs": [
    {
     "data": {
      "text/plain": [
       "(726236, 5)"
      ]
     },
     "execution_count": 5,
     "metadata": {},
     "output_type": "execute_result"
    }
   ],
   "source": [
    "df.shape"
   ]
  },
  {
   "cell_type": "markdown",
   "metadata": {},
   "source": [
    "# Select Only Relevent Data "
   ]
  },
  {
   "cell_type": "code",
   "execution_count": 6,
   "metadata": {
    "collapsed": true
   },
   "outputs": [],
   "source": [
    "df = df[['Gene name', 'Sample', 'Value']]"
   ]
  },
  {
   "cell_type": "code",
   "execution_count": 7,
   "metadata": {},
   "outputs": [
    {
     "data": {
      "text/html": [
       "<div>\n",
       "<table border=\"1\" class=\"dataframe\">\n",
       "  <thead>\n",
       "    <tr style=\"text-align: right;\">\n",
       "      <th></th>\n",
       "      <th>Gene name</th>\n",
       "      <th>Sample</th>\n",
       "      <th>Value</th>\n",
       "    </tr>\n",
       "  </thead>\n",
       "  <tbody>\n",
       "    <tr>\n",
       "      <th>0</th>\n",
       "      <td>TSPAN6</td>\n",
       "      <td>adipose tissue</td>\n",
       "      <td>31.5</td>\n",
       "    </tr>\n",
       "    <tr>\n",
       "      <th>1</th>\n",
       "      <td>TSPAN6</td>\n",
       "      <td>adrenal gland</td>\n",
       "      <td>26.5</td>\n",
       "    </tr>\n",
       "    <tr>\n",
       "      <th>2</th>\n",
       "      <td>TSPAN6</td>\n",
       "      <td>appendix</td>\n",
       "      <td>9.5</td>\n",
       "    </tr>\n",
       "    <tr>\n",
       "      <th>3</th>\n",
       "      <td>TSPAN6</td>\n",
       "      <td>bone marrow</td>\n",
       "      <td>0.7</td>\n",
       "    </tr>\n",
       "    <tr>\n",
       "      <th>4</th>\n",
       "      <td>TSPAN6</td>\n",
       "      <td>breast</td>\n",
       "      <td>53.0</td>\n",
       "    </tr>\n",
       "  </tbody>\n",
       "</table>\n",
       "</div>"
      ],
      "text/plain": [
       "  Gene name          Sample  Value\n",
       "0    TSPAN6  adipose tissue   31.5\n",
       "1    TSPAN6   adrenal gland   26.5\n",
       "2    TSPAN6        appendix    9.5\n",
       "3    TSPAN6     bone marrow    0.7\n",
       "4    TSPAN6          breast   53.0"
      ]
     },
     "execution_count": 7,
     "metadata": {},
     "output_type": "execute_result"
    }
   ],
   "source": [
    "df.head()"
   ]
  },
  {
   "cell_type": "markdown",
   "metadata": {},
   "source": [
    "# Map Gene Symbols To Up-to-date Approved Gene Symbols"
   ]
  },
  {
   "cell_type": "code",
   "execution_count": 8,
   "metadata": {
    "collapsed": true
   },
   "outputs": [],
   "source": [
    "df.set_index('Gene name', inplace=True)"
   ]
  },
  {
   "cell_type": "code",
   "execution_count": 9,
   "metadata": {},
   "outputs": [
    {
     "name": "stdout",
     "output_type": "stream",
     "text": [
      "Progeres: 100%  726236 Out of 726236   \r"
     ]
    }
   ],
   "source": [
    "uf.mapgenesymbols(df)"
   ]
  },
  {
   "cell_type": "code",
   "execution_count": 10,
   "metadata": {},
   "outputs": [
    {
     "data": {
      "text/plain": [
       "(706626, 2)"
      ]
     },
     "execution_count": 10,
     "metadata": {},
     "output_type": "execute_result"
    }
   ],
   "source": [
    "df.shape"
   ]
  },
  {
   "cell_type": "markdown",
   "metadata": {},
   "source": [
    "# Merge Duplicates"
   ]
  },
  {
   "cell_type": "code",
   "execution_count": 12,
   "metadata": {
    "collapsed": true
   },
   "outputs": [],
   "source": [
    "df.reset_index(inplace=True)"
   ]
  },
  {
   "cell_type": "code",
   "execution_count": 13,
   "metadata": {},
   "outputs": [],
   "source": [
    "df = df.groupby(['Sample', 'Gene name']).mean()"
   ]
  },
  {
   "cell_type": "code",
   "execution_count": 14,
   "metadata": {},
   "outputs": [
    {
     "data": {
      "text/html": [
       "<div>\n",
       "<table border=\"1\" class=\"dataframe\">\n",
       "  <thead>\n",
       "    <tr style=\"text-align: right;\">\n",
       "      <th></th>\n",
       "      <th></th>\n",
       "      <th>Value</th>\n",
       "    </tr>\n",
       "    <tr>\n",
       "      <th>Sample</th>\n",
       "      <th>Gene name</th>\n",
       "      <th></th>\n",
       "    </tr>\n",
       "  </thead>\n",
       "  <tbody>\n",
       "    <tr>\n",
       "      <th rowspan=\"5\" valign=\"top\">adipose tissue</th>\n",
       "      <th>A1BG</th>\n",
       "      <td>0.1</td>\n",
       "    </tr>\n",
       "    <tr>\n",
       "      <th>A1CF</th>\n",
       "      <td>0.0</td>\n",
       "    </tr>\n",
       "    <tr>\n",
       "      <th>A2M</th>\n",
       "      <td>496.6</td>\n",
       "    </tr>\n",
       "    <tr>\n",
       "      <th>A2ML1</th>\n",
       "      <td>0.2</td>\n",
       "    </tr>\n",
       "    <tr>\n",
       "      <th>A3GALT2</th>\n",
       "      <td>0.1</td>\n",
       "    </tr>\n",
       "  </tbody>\n",
       "</table>\n",
       "</div>"
      ],
      "text/plain": [
       "                          Value\n",
       "Sample         Gene name       \n",
       "adipose tissue A1BG         0.1\n",
       "               A1CF         0.0\n",
       "               A2M        496.6\n",
       "               A2ML1        0.2\n",
       "               A3GALT2      0.1"
      ]
     },
     "execution_count": 14,
     "metadata": {},
     "output_type": "execute_result"
    }
   ],
   "source": [
    "df.head()"
   ]
  },
  {
   "cell_type": "code",
   "execution_count": 15,
   "metadata": {},
   "outputs": [
    {
     "data": {
      "text/plain": [
       "(702556, 1)"
      ]
     },
     "execution_count": 15,
     "metadata": {},
     "output_type": "execute_result"
    }
   ],
   "source": [
    "df.shape"
   ]
  },
  {
   "cell_type": "markdown",
   "metadata": {},
   "source": [
    "# Create Matrix"
   ]
  },
  {
   "cell_type": "code",
   "execution_count": 17,
   "metadata": {
    "collapsed": true
   },
   "outputs": [],
   "source": [
    "df.reset_index(inplace=True)"
   ]
  },
  {
   "cell_type": "code",
   "execution_count": 68,
   "metadata": {},
   "outputs": [
    {
     "data": {
      "text/html": [
       "<div>\n",
       "<table border=\"1\" class=\"dataframe\">\n",
       "  <thead>\n",
       "    <tr style=\"text-align: right;\">\n",
       "      <th></th>\n",
       "      <th>Gene name</th>\n",
       "      <th>Value</th>\n",
       "    </tr>\n",
       "    <tr>\n",
       "      <th>Sample</th>\n",
       "      <th></th>\n",
       "      <th></th>\n",
       "    </tr>\n",
       "  </thead>\n",
       "  <tbody>\n",
       "    <tr>\n",
       "      <th>adipose tissue</th>\n",
       "      <td>A1BG</td>\n",
       "      <td>0.1</td>\n",
       "    </tr>\n",
       "    <tr>\n",
       "      <th>adipose tissue</th>\n",
       "      <td>A1CF</td>\n",
       "      <td>0.0</td>\n",
       "    </tr>\n",
       "    <tr>\n",
       "      <th>adipose tissue</th>\n",
       "      <td>A2M</td>\n",
       "      <td>496.6</td>\n",
       "    </tr>\n",
       "    <tr>\n",
       "      <th>adipose tissue</th>\n",
       "      <td>A2ML1</td>\n",
       "      <td>0.2</td>\n",
       "    </tr>\n",
       "    <tr>\n",
       "      <th>adipose tissue</th>\n",
       "      <td>A3GALT2</td>\n",
       "      <td>0.1</td>\n",
       "    </tr>\n",
       "  </tbody>\n",
       "</table>\n",
       "</div>"
      ],
      "text/plain": [
       "               Gene name  Value\n",
       "Sample                         \n",
       "adipose tissue      A1BG    0.1\n",
       "adipose tissue      A1CF    0.0\n",
       "adipose tissue       A2M  496.6\n",
       "adipose tissue     A2ML1    0.2\n",
       "adipose tissue   A3GALT2    0.1"
      ]
     },
     "execution_count": 68,
     "metadata": {},
     "output_type": "execute_result"
    }
   ],
   "source": [
    "df.head()"
   ]
  },
  {
   "cell_type": "code",
   "execution_count": 72,
   "metadata": {},
   "outputs": [
    {
     "name": "stdout",
     "output_type": "stream",
     "text": [
      "Progress: 100%   \r"
     ]
    }
   ],
   "source": [
    "genes = df['Gene name'].unique().tolist()\n",
    "tissues = df['Sample'].unique().tolist()\n",
    "\n",
    "df.set_index('Sample', inplace=True)\n",
    "\n",
    "matrix = pd.DataFrame(index=genes, columns=tissues)\n",
    "\n",
    "matrix.replace(np.nan, 0, inplace=True)\n",
    "\n",
    "for i,col in enumerate(matrix.columns):\n",
    "    \n",
    "    progress = ((i+1)/len(matrix.columns))*100\n",
    "        \n",
    "    sys.stdout.write(\"Progress: %d%%   \\r\" % (progress))\n",
    "    sys.stdout.flush()\n",
    "    \n",
    "    matrix.ix[df.loc[col, 'Gene name'].values.tolist(), col] = df.ix[col, 'Value'].values.tolist()"
   ]
  },
  {
   "cell_type": "code",
   "execution_count": 73,
   "metadata": {},
   "outputs": [
    {
     "data": {
      "text/html": [
       "<div>\n",
       "<table border=\"1\" class=\"dataframe\">\n",
       "  <thead>\n",
       "    <tr style=\"text-align: right;\">\n",
       "      <th></th>\n",
       "      <th>adipose tissue</th>\n",
       "      <th>adrenal gland</th>\n",
       "      <th>appendix</th>\n",
       "      <th>bone marrow</th>\n",
       "      <th>breast</th>\n",
       "      <th>cerebral cortex</th>\n",
       "      <th>cervix, uterine</th>\n",
       "      <th>colon</th>\n",
       "      <th>duodenum</th>\n",
       "      <th>endometrium</th>\n",
       "      <th>...</th>\n",
       "      <th>skeletal muscle</th>\n",
       "      <th>skin</th>\n",
       "      <th>small intestine</th>\n",
       "      <th>smooth muscle</th>\n",
       "      <th>spleen</th>\n",
       "      <th>stomach</th>\n",
       "      <th>testis</th>\n",
       "      <th>thyroid gland</th>\n",
       "      <th>tonsil</th>\n",
       "      <th>urinary bladder</th>\n",
       "    </tr>\n",
       "  </thead>\n",
       "  <tbody>\n",
       "    <tr>\n",
       "      <th>A1BG</th>\n",
       "      <td>0.1</td>\n",
       "      <td>0.1</td>\n",
       "      <td>0.1</td>\n",
       "      <td>0.0</td>\n",
       "      <td>0.1</td>\n",
       "      <td>0.5</td>\n",
       "      <td>0.3</td>\n",
       "      <td>0.0</td>\n",
       "      <td>0.1</td>\n",
       "      <td>0.5</td>\n",
       "      <td>...</td>\n",
       "      <td>0.0</td>\n",
       "      <td>0.0</td>\n",
       "      <td>0.0</td>\n",
       "      <td>0.1</td>\n",
       "      <td>0.4</td>\n",
       "      <td>0.1</td>\n",
       "      <td>0.0</td>\n",
       "      <td>0.2</td>\n",
       "      <td>0.0</td>\n",
       "      <td>0.1</td>\n",
       "    </tr>\n",
       "    <tr>\n",
       "      <th>A1CF</th>\n",
       "      <td>0.0</td>\n",
       "      <td>0.0</td>\n",
       "      <td>0.8</td>\n",
       "      <td>0.0</td>\n",
       "      <td>0.0</td>\n",
       "      <td>0.0</td>\n",
       "      <td>0.0</td>\n",
       "      <td>11.4</td>\n",
       "      <td>24.2</td>\n",
       "      <td>0.0</td>\n",
       "      <td>...</td>\n",
       "      <td>0.0</td>\n",
       "      <td>0.0</td>\n",
       "      <td>30.4</td>\n",
       "      <td>0.4</td>\n",
       "      <td>0.0</td>\n",
       "      <td>1.1</td>\n",
       "      <td>0.0</td>\n",
       "      <td>0.0</td>\n",
       "      <td>0.0</td>\n",
       "      <td>0.0</td>\n",
       "    </tr>\n",
       "    <tr>\n",
       "      <th>A2M</th>\n",
       "      <td>496.6</td>\n",
       "      <td>228.3</td>\n",
       "      <td>193.0</td>\n",
       "      <td>3.1</td>\n",
       "      <td>190.4</td>\n",
       "      <td>172.5</td>\n",
       "      <td>289.7</td>\n",
       "      <td>246.0</td>\n",
       "      <td>138.6</td>\n",
       "      <td>483.0</td>\n",
       "      <td>...</td>\n",
       "      <td>49.4</td>\n",
       "      <td>51.0</td>\n",
       "      <td>192.5</td>\n",
       "      <td>718.9</td>\n",
       "      <td>321.1</td>\n",
       "      <td>101.8</td>\n",
       "      <td>110.5</td>\n",
       "      <td>202.9</td>\n",
       "      <td>53.8</td>\n",
       "      <td>686.0</td>\n",
       "    </tr>\n",
       "    <tr>\n",
       "      <th>A2ML1</th>\n",
       "      <td>0.2</td>\n",
       "      <td>0.1</td>\n",
       "      <td>0.1</td>\n",
       "      <td>0.1</td>\n",
       "      <td>5.8</td>\n",
       "      <td>3.6</td>\n",
       "      <td>2.1</td>\n",
       "      <td>0.1</td>\n",
       "      <td>0.0</td>\n",
       "      <td>0.8</td>\n",
       "      <td>...</td>\n",
       "      <td>0.1</td>\n",
       "      <td>85.7</td>\n",
       "      <td>0.1</td>\n",
       "      <td>0.3</td>\n",
       "      <td>0.2</td>\n",
       "      <td>0.2</td>\n",
       "      <td>9.6</td>\n",
       "      <td>0.1</td>\n",
       "      <td>47.0</td>\n",
       "      <td>0.4</td>\n",
       "    </tr>\n",
       "    <tr>\n",
       "      <th>A3GALT2</th>\n",
       "      <td>0.1</td>\n",
       "      <td>0.0</td>\n",
       "      <td>0.2</td>\n",
       "      <td>0.1</td>\n",
       "      <td>0.0</td>\n",
       "      <td>0.2</td>\n",
       "      <td>0.0</td>\n",
       "      <td>0.0</td>\n",
       "      <td>0.0</td>\n",
       "      <td>0.1</td>\n",
       "      <td>...</td>\n",
       "      <td>0.0</td>\n",
       "      <td>0.0</td>\n",
       "      <td>0.0</td>\n",
       "      <td>0.0</td>\n",
       "      <td>0.1</td>\n",
       "      <td>0.0</td>\n",
       "      <td>0.8</td>\n",
       "      <td>0.1</td>\n",
       "      <td>0.0</td>\n",
       "      <td>0.0</td>\n",
       "    </tr>\n",
       "  </tbody>\n",
       "</table>\n",
       "<p>5 rows × 37 columns</p>\n",
       "</div>"
      ],
      "text/plain": [
       "         adipose tissue  adrenal gland  appendix  bone marrow  breast  \\\n",
       "A1BG                0.1            0.1       0.1          0.0     0.1   \n",
       "A1CF                0.0            0.0       0.8          0.0     0.0   \n",
       "A2M               496.6          228.3     193.0          3.1   190.4   \n",
       "A2ML1               0.2            0.1       0.1          0.1     5.8   \n",
       "A3GALT2             0.1            0.0       0.2          0.1     0.0   \n",
       "\n",
       "         cerebral cortex  cervix, uterine  colon  duodenum  endometrium  \\\n",
       "A1BG                 0.5              0.3    0.0       0.1          0.5   \n",
       "A1CF                 0.0              0.0   11.4      24.2          0.0   \n",
       "A2M                172.5            289.7  246.0     138.6        483.0   \n",
       "A2ML1                3.6              2.1    0.1       0.0          0.8   \n",
       "A3GALT2              0.2              0.0    0.0       0.0          0.1   \n",
       "\n",
       "              ...         skeletal muscle  skin  small intestine  \\\n",
       "A1BG          ...                     0.0   0.0              0.0   \n",
       "A1CF          ...                     0.0   0.0             30.4   \n",
       "A2M           ...                    49.4  51.0            192.5   \n",
       "A2ML1         ...                     0.1  85.7              0.1   \n",
       "A3GALT2       ...                     0.0   0.0              0.0   \n",
       "\n",
       "         smooth muscle  spleen  stomach  testis  thyroid gland  tonsil  \\\n",
       "A1BG               0.1     0.4      0.1     0.0            0.2     0.0   \n",
       "A1CF               0.4     0.0      1.1     0.0            0.0     0.0   \n",
       "A2M              718.9   321.1    101.8   110.5          202.9    53.8   \n",
       "A2ML1              0.3     0.2      0.2     9.6            0.1    47.0   \n",
       "A3GALT2            0.0     0.1      0.0     0.8            0.1     0.0   \n",
       "\n",
       "         urinary bladder  \n",
       "A1BG                 0.1  \n",
       "A1CF                 0.0  \n",
       "A2M                686.0  \n",
       "A2ML1                0.4  \n",
       "A3GALT2              0.0  \n",
       "\n",
       "[5 rows x 37 columns]"
      ]
     },
     "execution_count": 73,
     "metadata": {},
     "output_type": "execute_result"
    }
   ],
   "source": [
    "matrix.head()"
   ]
  },
  {
   "cell_type": "code",
   "execution_count": 74,
   "metadata": {},
   "outputs": [
    {
     "data": {
      "text/plain": [
       "(18988, 37)"
      ]
     },
     "execution_count": 74,
     "metadata": {},
     "output_type": "execute_result"
    }
   ],
   "source": [
    "matrix.shape"
   ]
  },
  {
   "cell_type": "markdown",
   "metadata": {},
   "source": [
    "## Drop Any Genes That Have Zero Expression Across 95% Of The Samples"
   ]
  },
  {
   "cell_type": "code",
   "execution_count": 75,
   "metadata": {
    "collapsed": true
   },
   "outputs": [],
   "source": [
    "matrix.replace(0, np.nan, inplace=True)"
   ]
  },
  {
   "cell_type": "code",
   "execution_count": 76,
   "metadata": {
    "collapsed": true
   },
   "outputs": [],
   "source": [
    "matrix.dropna(thresh=(0.05*matrix.shape[1]), axis=0, inplace=True)"
   ]
  },
  {
   "cell_type": "code",
   "execution_count": 77,
   "metadata": {
    "collapsed": true
   },
   "outputs": [],
   "source": [
    "matrix.replace(np.nan, 0, inplace=True)"
   ]
  },
  {
   "cell_type": "code",
   "execution_count": 78,
   "metadata": {},
   "outputs": [
    {
     "data": {
      "text/plain": [
       "(18200, 37)"
      ]
     },
     "execution_count": 78,
     "metadata": {},
     "output_type": "execute_result"
    }
   ],
   "source": [
    "matrix.shape"
   ]
  },
  {
   "cell_type": "markdown",
   "metadata": {},
   "source": [
    "## Save Unfiltered Sample Matrix To File"
   ]
  },
  {
   "cell_type": "code",
   "execution_count": 80,
   "metadata": {},
   "outputs": [],
   "source": [
    "filename = '~/./Documents/Harmonizome/The_Human_Protaein_Atlas/Output/thpa_rns-seq_tissue_matrix_unfilltered_%s.tsv.zip'% str(datetime.date.today())[0:7].replace('-', '_')\n",
    "matrix.to_csv(filename, sep='\\t', compression='gzip')"
   ]
  },
  {
   "cell_type": "markdown",
   "metadata": {},
   "source": [
    "# Filtered Matrix"
   ]
  },
  {
   "cell_type": "markdown",
   "metadata": {},
   "source": [
    "## Normalize Matrix (Quantile Normalize the matrix for the columns)"
   ]
  },
  {
   "cell_type": "code",
   "execution_count": 81,
   "metadata": {
    "collapsed": true
   },
   "outputs": [],
   "source": [
    "normalized_matrix = matrix.copy()"
   ]
  },
  {
   "cell_type": "code",
   "execution_count": 82,
   "metadata": {},
   "outputs": [
    {
     "name": "stdout",
     "output_type": "stream",
     "text": [
      "Step 2/2 progress: 100%  37 Out of 37   \r"
     ]
    }
   ],
   "source": [
    "normalized_matrix = uf.quantileNormalize(normalized_matrix)"
   ]
  },
  {
   "cell_type": "code",
   "execution_count": 83,
   "metadata": {},
   "outputs": [
    {
     "data": {
      "text/html": [
       "<div>\n",
       "<table border=\"1\" class=\"dataframe\">\n",
       "  <thead>\n",
       "    <tr style=\"text-align: right;\">\n",
       "      <th></th>\n",
       "      <th>adipose tissue</th>\n",
       "      <th>adrenal gland</th>\n",
       "      <th>appendix</th>\n",
       "      <th>bone marrow</th>\n",
       "      <th>breast</th>\n",
       "      <th>cerebral cortex</th>\n",
       "      <th>cervix, uterine</th>\n",
       "      <th>colon</th>\n",
       "      <th>duodenum</th>\n",
       "      <th>endometrium</th>\n",
       "      <th>...</th>\n",
       "      <th>skeletal muscle</th>\n",
       "      <th>skin</th>\n",
       "      <th>small intestine</th>\n",
       "      <th>smooth muscle</th>\n",
       "      <th>spleen</th>\n",
       "      <th>stomach</th>\n",
       "      <th>testis</th>\n",
       "      <th>thyroid gland</th>\n",
       "      <th>tonsil</th>\n",
       "      <th>urinary bladder</th>\n",
       "    </tr>\n",
       "  </thead>\n",
       "  <tbody>\n",
       "    <tr>\n",
       "      <th>A1BG</th>\n",
       "      <td>0.089189</td>\n",
       "      <td>0.083784</td>\n",
       "      <td>0.035135</td>\n",
       "      <td>0.000000</td>\n",
       "      <td>0.032432</td>\n",
       "      <td>0.239189</td>\n",
       "      <td>0.208108</td>\n",
       "      <td>0.000000</td>\n",
       "      <td>0.079730</td>\n",
       "      <td>0.313514</td>\n",
       "      <td>...</td>\n",
       "      <td>0.000000</td>\n",
       "      <td>0.000000</td>\n",
       "      <td>0.000000</td>\n",
       "      <td>0.056757</td>\n",
       "      <td>0.391892</td>\n",
       "      <td>0.051351</td>\n",
       "      <td>0.000000</td>\n",
       "      <td>0.167568</td>\n",
       "      <td>0.000000</td>\n",
       "      <td>0.100000</td>\n",
       "    </tr>\n",
       "    <tr>\n",
       "      <th>A1CF</th>\n",
       "      <td>0.000000</td>\n",
       "      <td>0.000000</td>\n",
       "      <td>0.600000</td>\n",
       "      <td>0.000000</td>\n",
       "      <td>0.000000</td>\n",
       "      <td>0.000000</td>\n",
       "      <td>0.000000</td>\n",
       "      <td>12.995946</td>\n",
       "      <td>26.389189</td>\n",
       "      <td>0.000000</td>\n",
       "      <td>...</td>\n",
       "      <td>0.000000</td>\n",
       "      <td>0.000000</td>\n",
       "      <td>30.367568</td>\n",
       "      <td>0.332432</td>\n",
       "      <td>0.000000</td>\n",
       "      <td>1.078378</td>\n",
       "      <td>0.000000</td>\n",
       "      <td>0.000000</td>\n",
       "      <td>0.000000</td>\n",
       "      <td>0.000000</td>\n",
       "    </tr>\n",
       "    <tr>\n",
       "      <th>A2M</th>\n",
       "      <td>412.502703</td>\n",
       "      <td>203.264865</td>\n",
       "      <td>183.456757</td>\n",
       "      <td>6.883784</td>\n",
       "      <td>195.289189</td>\n",
       "      <td>131.872973</td>\n",
       "      <td>243.975676</td>\n",
       "      <td>256.070270</td>\n",
       "      <td>140.302703</td>\n",
       "      <td>425.940541</td>\n",
       "      <td>...</td>\n",
       "      <td>87.616216</td>\n",
       "      <td>55.413514</td>\n",
       "      <td>181.394595</td>\n",
       "      <td>604.827027</td>\n",
       "      <td>334.175676</td>\n",
       "      <td>141.105405</td>\n",
       "      <td>85.300000</td>\n",
       "      <td>159.748649</td>\n",
       "      <td>65.162162</td>\n",
       "      <td>718.870270</td>\n",
       "    </tr>\n",
       "    <tr>\n",
       "      <th>A2ML1</th>\n",
       "      <td>0.213514</td>\n",
       "      <td>0.083784</td>\n",
       "      <td>0.035135</td>\n",
       "      <td>0.377027</td>\n",
       "      <td>5.435135</td>\n",
       "      <td>2.137838</td>\n",
       "      <td>1.597297</td>\n",
       "      <td>0.059459</td>\n",
       "      <td>0.000000</td>\n",
       "      <td>0.512162</td>\n",
       "      <td>...</td>\n",
       "      <td>0.613514</td>\n",
       "      <td>95.937838</td>\n",
       "      <td>0.048649</td>\n",
       "      <td>0.245946</td>\n",
       "      <td>0.178378</td>\n",
       "      <td>0.151351</td>\n",
       "      <td>5.348649</td>\n",
       "      <td>0.075676</td>\n",
       "      <td>56.897297</td>\n",
       "      <td>0.404054</td>\n",
       "    </tr>\n",
       "    <tr>\n",
       "      <th>A3GALT2</th>\n",
       "      <td>0.089189</td>\n",
       "      <td>0.000000</td>\n",
       "      <td>0.121622</td>\n",
       "      <td>0.377027</td>\n",
       "      <td>0.000000</td>\n",
       "      <td>0.070270</td>\n",
       "      <td>0.000000</td>\n",
       "      <td>0.000000</td>\n",
       "      <td>0.000000</td>\n",
       "      <td>0.021622</td>\n",
       "      <td>...</td>\n",
       "      <td>0.000000</td>\n",
       "      <td>0.000000</td>\n",
       "      <td>0.000000</td>\n",
       "      <td>0.000000</td>\n",
       "      <td>0.067568</td>\n",
       "      <td>0.000000</td>\n",
       "      <td>0.097297</td>\n",
       "      <td>0.075676</td>\n",
       "      <td>0.000000</td>\n",
       "      <td>0.000000</td>\n",
       "    </tr>\n",
       "  </tbody>\n",
       "</table>\n",
       "<p>5 rows × 37 columns</p>\n",
       "</div>"
      ],
      "text/plain": [
       "         adipose tissue  adrenal gland    appendix  bone marrow      breast  \\\n",
       "A1BG           0.089189       0.083784    0.035135     0.000000    0.032432   \n",
       "A1CF           0.000000       0.000000    0.600000     0.000000    0.000000   \n",
       "A2M          412.502703     203.264865  183.456757     6.883784  195.289189   \n",
       "A2ML1          0.213514       0.083784    0.035135     0.377027    5.435135   \n",
       "A3GALT2        0.089189       0.000000    0.121622     0.377027    0.000000   \n",
       "\n",
       "         cerebral cortex  cervix, uterine       colon    duodenum  \\\n",
       "A1BG            0.239189         0.208108    0.000000    0.079730   \n",
       "A1CF            0.000000         0.000000   12.995946   26.389189   \n",
       "A2M           131.872973       243.975676  256.070270  140.302703   \n",
       "A2ML1           2.137838         1.597297    0.059459    0.000000   \n",
       "A3GALT2         0.070270         0.000000    0.000000    0.000000   \n",
       "\n",
       "         endometrium       ...         skeletal muscle       skin  \\\n",
       "A1BG        0.313514       ...                0.000000   0.000000   \n",
       "A1CF        0.000000       ...                0.000000   0.000000   \n",
       "A2M       425.940541       ...               87.616216  55.413514   \n",
       "A2ML1       0.512162       ...                0.613514  95.937838   \n",
       "A3GALT2     0.021622       ...                0.000000   0.000000   \n",
       "\n",
       "         small intestine  smooth muscle      spleen     stomach     testis  \\\n",
       "A1BG            0.000000       0.056757    0.391892    0.051351   0.000000   \n",
       "A1CF           30.367568       0.332432    0.000000    1.078378   0.000000   \n",
       "A2M           181.394595     604.827027  334.175676  141.105405  85.300000   \n",
       "A2ML1           0.048649       0.245946    0.178378    0.151351   5.348649   \n",
       "A3GALT2         0.000000       0.000000    0.067568    0.000000   0.097297   \n",
       "\n",
       "         thyroid gland     tonsil  urinary bladder  \n",
       "A1BG          0.167568   0.000000         0.100000  \n",
       "A1CF          0.000000   0.000000         0.000000  \n",
       "A2M         159.748649  65.162162       718.870270  \n",
       "A2ML1         0.075676  56.897297         0.404054  \n",
       "A3GALT2       0.075676   0.000000         0.000000  \n",
       "\n",
       "[5 rows x 37 columns]"
      ]
     },
     "execution_count": 83,
     "metadata": {},
     "output_type": "execute_result"
    }
   ],
   "source": [
    "normalized_matrix.head()"
   ]
  },
  {
   "cell_type": "markdown",
   "metadata": {},
   "source": [
    "## Nomalize Matrix (z-score the rows)"
   ]
  },
  {
   "cell_type": "code",
   "execution_count": 84,
   "metadata": {},
   "outputs": [
    {
     "name": "stdout",
     "output_type": "stream",
     "text": [
      "Progress: 100%  18200 Out of 18200   \r"
     ]
    }
   ],
   "source": [
    "uf.zscore(normalized_matrix, 'row')"
   ]
  },
  {
   "cell_type": "code",
   "execution_count": 85,
   "metadata": {},
   "outputs": [
    {
     "data": {
      "text/html": [
       "<div>\n",
       "<table border=\"1\" class=\"dataframe\">\n",
       "  <thead>\n",
       "    <tr style=\"text-align: right;\">\n",
       "      <th></th>\n",
       "      <th>adipose tissue</th>\n",
       "      <th>adrenal gland</th>\n",
       "      <th>appendix</th>\n",
       "      <th>bone marrow</th>\n",
       "      <th>breast</th>\n",
       "      <th>cerebral cortex</th>\n",
       "      <th>cervix, uterine</th>\n",
       "      <th>colon</th>\n",
       "      <th>duodenum</th>\n",
       "      <th>endometrium</th>\n",
       "      <th>...</th>\n",
       "      <th>skeletal muscle</th>\n",
       "      <th>skin</th>\n",
       "      <th>small intestine</th>\n",
       "      <th>smooth muscle</th>\n",
       "      <th>spleen</th>\n",
       "      <th>stomach</th>\n",
       "      <th>testis</th>\n",
       "      <th>thyroid gland</th>\n",
       "      <th>tonsil</th>\n",
       "      <th>urinary bladder</th>\n",
       "    </tr>\n",
       "  </thead>\n",
       "  <tbody>\n",
       "    <tr>\n",
       "      <th>A1BG</th>\n",
       "      <td>-0.165053</td>\n",
       "      <td>-0.165117</td>\n",
       "      <td>-0.165691</td>\n",
       "      <td>-0.166105</td>\n",
       "      <td>-0.165723</td>\n",
       "      <td>-0.163283</td>\n",
       "      <td>-0.163650</td>\n",
       "      <td>-0.166105</td>\n",
       "      <td>-0.165165</td>\n",
       "      <td>-0.162406</td>\n",
       "      <td>...</td>\n",
       "      <td>-0.166105</td>\n",
       "      <td>-0.166105</td>\n",
       "      <td>-0.166105</td>\n",
       "      <td>-0.165436</td>\n",
       "      <td>-0.161482</td>\n",
       "      <td>-0.165499</td>\n",
       "      <td>-0.166105</td>\n",
       "      <td>-0.164128</td>\n",
       "      <td>-0.166105</td>\n",
       "      <td>-0.164925</td>\n",
       "    </tr>\n",
       "    <tr>\n",
       "      <th>A1CF</th>\n",
       "      <td>-0.334082</td>\n",
       "      <td>-0.334082</td>\n",
       "      <td>-0.297210</td>\n",
       "      <td>-0.334082</td>\n",
       "      <td>-0.334082</td>\n",
       "      <td>-0.334082</td>\n",
       "      <td>-0.334082</td>\n",
       "      <td>0.464564</td>\n",
       "      <td>1.287625</td>\n",
       "      <td>-0.334082</td>\n",
       "      <td>...</td>\n",
       "      <td>-0.334082</td>\n",
       "      <td>-0.334082</td>\n",
       "      <td>1.532110</td>\n",
       "      <td>-0.313653</td>\n",
       "      <td>-0.334082</td>\n",
       "      <td>-0.267812</td>\n",
       "      <td>-0.334082</td>\n",
       "      <td>-0.334082</td>\n",
       "      <td>-0.334082</td>\n",
       "      <td>-0.334082</td>\n",
       "    </tr>\n",
       "    <tr>\n",
       "      <th>A2M</th>\n",
       "      <td>0.268824</td>\n",
       "      <td>-0.283665</td>\n",
       "      <td>-0.335968</td>\n",
       "      <td>-0.802206</td>\n",
       "      <td>-0.304725</td>\n",
       "      <td>-0.472174</td>\n",
       "      <td>-0.176169</td>\n",
       "      <td>-0.144233</td>\n",
       "      <td>-0.449916</td>\n",
       "      <td>0.304306</td>\n",
       "      <td>...</td>\n",
       "      <td>-0.589034</td>\n",
       "      <td>-0.674064</td>\n",
       "      <td>-0.341413</td>\n",
       "      <td>0.776653</td>\n",
       "      <td>0.062003</td>\n",
       "      <td>-0.447796</td>\n",
       "      <td>-0.595149</td>\n",
       "      <td>-0.398569</td>\n",
       "      <td>-0.648323</td>\n",
       "      <td>1.077782</td>\n",
       "    </tr>\n",
       "    <tr>\n",
       "      <th>A2ML1</th>\n",
       "      <td>-0.231959</td>\n",
       "      <td>-0.233966</td>\n",
       "      <td>-0.234719</td>\n",
       "      <td>-0.229430</td>\n",
       "      <td>-0.151189</td>\n",
       "      <td>-0.202193</td>\n",
       "      <td>-0.210554</td>\n",
       "      <td>-0.234342</td>\n",
       "      <td>-0.235262</td>\n",
       "      <td>-0.227340</td>\n",
       "      <td>...</td>\n",
       "      <td>-0.225772</td>\n",
       "      <td>1.248754</td>\n",
       "      <td>-0.234510</td>\n",
       "      <td>-0.231458</td>\n",
       "      <td>-0.232503</td>\n",
       "      <td>-0.232921</td>\n",
       "      <td>-0.152527</td>\n",
       "      <td>-0.234092</td>\n",
       "      <td>0.644855</td>\n",
       "      <td>-0.229012</td>\n",
       "    </tr>\n",
       "    <tr>\n",
       "      <th>A3GALT2</th>\n",
       "      <td>0.822703</td>\n",
       "      <td>-0.432163</td>\n",
       "      <td>1.279018</td>\n",
       "      <td>4.872500</td>\n",
       "      <td>-0.432163</td>\n",
       "      <td>0.556519</td>\n",
       "      <td>-0.432163</td>\n",
       "      <td>-0.432163</td>\n",
       "      <td>-0.432163</td>\n",
       "      <td>-0.127953</td>\n",
       "      <td>...</td>\n",
       "      <td>-0.432163</td>\n",
       "      <td>-0.432163</td>\n",
       "      <td>-0.432163</td>\n",
       "      <td>-0.432163</td>\n",
       "      <td>0.518493</td>\n",
       "      <td>-0.432163</td>\n",
       "      <td>0.936782</td>\n",
       "      <td>0.632572</td>\n",
       "      <td>-0.432163</td>\n",
       "      <td>-0.432163</td>\n",
       "    </tr>\n",
       "  </tbody>\n",
       "</table>\n",
       "<p>5 rows × 37 columns</p>\n",
       "</div>"
      ],
      "text/plain": [
       "         adipose tissue  adrenal gland  appendix  bone marrow    breast  \\\n",
       "A1BG          -0.165053      -0.165117 -0.165691    -0.166105 -0.165723   \n",
       "A1CF          -0.334082      -0.334082 -0.297210    -0.334082 -0.334082   \n",
       "A2M            0.268824      -0.283665 -0.335968    -0.802206 -0.304725   \n",
       "A2ML1         -0.231959      -0.233966 -0.234719    -0.229430 -0.151189   \n",
       "A3GALT2        0.822703      -0.432163  1.279018     4.872500 -0.432163   \n",
       "\n",
       "         cerebral cortex  cervix, uterine     colon  duodenum  endometrium  \\\n",
       "A1BG           -0.163283        -0.163650 -0.166105 -0.165165    -0.162406   \n",
       "A1CF           -0.334082        -0.334082  0.464564  1.287625    -0.334082   \n",
       "A2M            -0.472174        -0.176169 -0.144233 -0.449916     0.304306   \n",
       "A2ML1          -0.202193        -0.210554 -0.234342 -0.235262    -0.227340   \n",
       "A3GALT2         0.556519        -0.432163 -0.432163 -0.432163    -0.127953   \n",
       "\n",
       "              ...         skeletal muscle      skin  small intestine  \\\n",
       "A1BG          ...               -0.166105 -0.166105        -0.166105   \n",
       "A1CF          ...               -0.334082 -0.334082         1.532110   \n",
       "A2M           ...               -0.589034 -0.674064        -0.341413   \n",
       "A2ML1         ...               -0.225772  1.248754        -0.234510   \n",
       "A3GALT2       ...               -0.432163 -0.432163        -0.432163   \n",
       "\n",
       "         smooth muscle    spleen   stomach    testis  thyroid gland    tonsil  \\\n",
       "A1BG         -0.165436 -0.161482 -0.165499 -0.166105      -0.164128 -0.166105   \n",
       "A1CF         -0.313653 -0.334082 -0.267812 -0.334082      -0.334082 -0.334082   \n",
       "A2M           0.776653  0.062003 -0.447796 -0.595149      -0.398569 -0.648323   \n",
       "A2ML1        -0.231458 -0.232503 -0.232921 -0.152527      -0.234092  0.644855   \n",
       "A3GALT2      -0.432163  0.518493 -0.432163  0.936782       0.632572 -0.432163   \n",
       "\n",
       "         urinary bladder  \n",
       "A1BG           -0.164925  \n",
       "A1CF           -0.334082  \n",
       "A2M             1.077782  \n",
       "A2ML1          -0.229012  \n",
       "A3GALT2        -0.432163  \n",
       "\n",
       "[5 rows x 37 columns]"
      ]
     },
     "execution_count": 85,
     "metadata": {},
     "output_type": "execute_result"
    }
   ],
   "source": [
    "normalized_matrix.head()"
   ]
  },
  {
   "cell_type": "markdown",
   "metadata": {},
   "source": [
    "## Save Filtered Sample Matrix To File"
   ]
  },
  {
   "cell_type": "code",
   "execution_count": 86,
   "metadata": {
    "collapsed": true
   },
   "outputs": [],
   "source": [
    "filename = '~/./Documents/Harmonizome/The_Human_Protaein_Atlas/Output/thpa_rns-seq_tissue_matrix_filltered_%s.tsv.zip'% str(datetime.date.today())[0:7].replace('-', '_')\n",
    "normalized_matrix.to_csv(filename, sep='\\t', compression='gzip')"
   ]
  },
  {
   "cell_type": "markdown",
   "metadata": {},
   "source": [
    "# Create Tertiary Matrix"
   ]
  },
  {
   "cell_type": "code",
   "execution_count": 87,
   "metadata": {},
   "outputs": [
    {
     "name": "stdout",
     "output_type": "stream",
     "text": [
      "Progeres: 100%  37 Out of 37   \r"
     ]
    }
   ],
   "source": [
    "tertiary_matrix = uf.createTertiaryMarix(normalized_matrix)"
   ]
  },
  {
   "cell_type": "code",
   "execution_count": 88,
   "metadata": {},
   "outputs": [
    {
     "data": {
      "text/html": [
       "<div>\n",
       "<table border=\"1\" class=\"dataframe\">\n",
       "  <thead>\n",
       "    <tr style=\"text-align: right;\">\n",
       "      <th></th>\n",
       "      <th>adipose tissue</th>\n",
       "      <th>adrenal gland</th>\n",
       "      <th>appendix</th>\n",
       "      <th>bone marrow</th>\n",
       "      <th>breast</th>\n",
       "      <th>cerebral cortex</th>\n",
       "      <th>cervix, uterine</th>\n",
       "      <th>colon</th>\n",
       "      <th>duodenum</th>\n",
       "      <th>endometrium</th>\n",
       "      <th>...</th>\n",
       "      <th>skeletal muscle</th>\n",
       "      <th>skin</th>\n",
       "      <th>small intestine</th>\n",
       "      <th>smooth muscle</th>\n",
       "      <th>spleen</th>\n",
       "      <th>stomach</th>\n",
       "      <th>testis</th>\n",
       "      <th>thyroid gland</th>\n",
       "      <th>tonsil</th>\n",
       "      <th>urinary bladder</th>\n",
       "    </tr>\n",
       "  </thead>\n",
       "  <tbody>\n",
       "    <tr>\n",
       "      <th>A1BG</th>\n",
       "      <td>0.0</td>\n",
       "      <td>0.0</td>\n",
       "      <td>0.0</td>\n",
       "      <td>0.0</td>\n",
       "      <td>0.0</td>\n",
       "      <td>0.0</td>\n",
       "      <td>0.0</td>\n",
       "      <td>0.0</td>\n",
       "      <td>0.0</td>\n",
       "      <td>0.0</td>\n",
       "      <td>...</td>\n",
       "      <td>0.0</td>\n",
       "      <td>0.0</td>\n",
       "      <td>0.0</td>\n",
       "      <td>0.0</td>\n",
       "      <td>0.0</td>\n",
       "      <td>0.0</td>\n",
       "      <td>0.0</td>\n",
       "      <td>0.0</td>\n",
       "      <td>0.0</td>\n",
       "      <td>0.0</td>\n",
       "    </tr>\n",
       "    <tr>\n",
       "      <th>A1CF</th>\n",
       "      <td>0.0</td>\n",
       "      <td>0.0</td>\n",
       "      <td>0.0</td>\n",
       "      <td>0.0</td>\n",
       "      <td>0.0</td>\n",
       "      <td>0.0</td>\n",
       "      <td>0.0</td>\n",
       "      <td>0.0</td>\n",
       "      <td>1.0</td>\n",
       "      <td>0.0</td>\n",
       "      <td>...</td>\n",
       "      <td>0.0</td>\n",
       "      <td>0.0</td>\n",
       "      <td>1.0</td>\n",
       "      <td>0.0</td>\n",
       "      <td>0.0</td>\n",
       "      <td>0.0</td>\n",
       "      <td>0.0</td>\n",
       "      <td>0.0</td>\n",
       "      <td>0.0</td>\n",
       "      <td>0.0</td>\n",
       "    </tr>\n",
       "    <tr>\n",
       "      <th>A2M</th>\n",
       "      <td>0.0</td>\n",
       "      <td>0.0</td>\n",
       "      <td>0.0</td>\n",
       "      <td>0.0</td>\n",
       "      <td>0.0</td>\n",
       "      <td>0.0</td>\n",
       "      <td>0.0</td>\n",
       "      <td>0.0</td>\n",
       "      <td>0.0</td>\n",
       "      <td>0.0</td>\n",
       "      <td>...</td>\n",
       "      <td>0.0</td>\n",
       "      <td>0.0</td>\n",
       "      <td>0.0</td>\n",
       "      <td>1.0</td>\n",
       "      <td>0.0</td>\n",
       "      <td>0.0</td>\n",
       "      <td>0.0</td>\n",
       "      <td>0.0</td>\n",
       "      <td>0.0</td>\n",
       "      <td>1.0</td>\n",
       "    </tr>\n",
       "    <tr>\n",
       "      <th>A2ML1</th>\n",
       "      <td>0.0</td>\n",
       "      <td>0.0</td>\n",
       "      <td>0.0</td>\n",
       "      <td>0.0</td>\n",
       "      <td>0.0</td>\n",
       "      <td>0.0</td>\n",
       "      <td>0.0</td>\n",
       "      <td>0.0</td>\n",
       "      <td>0.0</td>\n",
       "      <td>0.0</td>\n",
       "      <td>...</td>\n",
       "      <td>0.0</td>\n",
       "      <td>0.0</td>\n",
       "      <td>0.0</td>\n",
       "      <td>0.0</td>\n",
       "      <td>0.0</td>\n",
       "      <td>0.0</td>\n",
       "      <td>0.0</td>\n",
       "      <td>0.0</td>\n",
       "      <td>0.0</td>\n",
       "      <td>0.0</td>\n",
       "    </tr>\n",
       "    <tr>\n",
       "      <th>A3GALT2</th>\n",
       "      <td>1.0</td>\n",
       "      <td>0.0</td>\n",
       "      <td>1.0</td>\n",
       "      <td>1.0</td>\n",
       "      <td>0.0</td>\n",
       "      <td>0.0</td>\n",
       "      <td>0.0</td>\n",
       "      <td>0.0</td>\n",
       "      <td>0.0</td>\n",
       "      <td>0.0</td>\n",
       "      <td>...</td>\n",
       "      <td>0.0</td>\n",
       "      <td>0.0</td>\n",
       "      <td>0.0</td>\n",
       "      <td>0.0</td>\n",
       "      <td>0.0</td>\n",
       "      <td>0.0</td>\n",
       "      <td>0.0</td>\n",
       "      <td>0.0</td>\n",
       "      <td>0.0</td>\n",
       "      <td>0.0</td>\n",
       "    </tr>\n",
       "  </tbody>\n",
       "</table>\n",
       "<p>5 rows × 37 columns</p>\n",
       "</div>"
      ],
      "text/plain": [
       "         adipose tissue  adrenal gland  appendix  bone marrow  breast  \\\n",
       "A1BG                0.0            0.0       0.0          0.0     0.0   \n",
       "A1CF                0.0            0.0       0.0          0.0     0.0   \n",
       "A2M                 0.0            0.0       0.0          0.0     0.0   \n",
       "A2ML1               0.0            0.0       0.0          0.0     0.0   \n",
       "A3GALT2             1.0            0.0       1.0          1.0     0.0   \n",
       "\n",
       "         cerebral cortex  cervix, uterine  colon  duodenum  endometrium  \\\n",
       "A1BG                 0.0              0.0    0.0       0.0          0.0   \n",
       "A1CF                 0.0              0.0    0.0       1.0          0.0   \n",
       "A2M                  0.0              0.0    0.0       0.0          0.0   \n",
       "A2ML1                0.0              0.0    0.0       0.0          0.0   \n",
       "A3GALT2              0.0              0.0    0.0       0.0          0.0   \n",
       "\n",
       "              ...         skeletal muscle  skin  small intestine  \\\n",
       "A1BG          ...                     0.0   0.0              0.0   \n",
       "A1CF          ...                     0.0   0.0              1.0   \n",
       "A2M           ...                     0.0   0.0              0.0   \n",
       "A2ML1         ...                     0.0   0.0              0.0   \n",
       "A3GALT2       ...                     0.0   0.0              0.0   \n",
       "\n",
       "         smooth muscle  spleen  stomach  testis  thyroid gland  tonsil  \\\n",
       "A1BG               0.0     0.0      0.0     0.0            0.0     0.0   \n",
       "A1CF               0.0     0.0      0.0     0.0            0.0     0.0   \n",
       "A2M                1.0     0.0      0.0     0.0            0.0     0.0   \n",
       "A2ML1              0.0     0.0      0.0     0.0            0.0     0.0   \n",
       "A3GALT2            0.0     0.0      0.0     0.0            0.0     0.0   \n",
       "\n",
       "         urinary bladder  \n",
       "A1BG                 0.0  \n",
       "A1CF                 0.0  \n",
       "A2M                  1.0  \n",
       "A2ML1                0.0  \n",
       "A3GALT2              0.0  \n",
       "\n",
       "[5 rows x 37 columns]"
      ]
     },
     "execution_count": 88,
     "metadata": {},
     "output_type": "execute_result"
    }
   ],
   "source": [
    "tertiary_matrix.head()"
   ]
  },
  {
   "cell_type": "markdown",
   "metadata": {},
   "source": [
    "## Save Teriary Matrix"
   ]
  },
  {
   "cell_type": "code",
   "execution_count": 89,
   "metadata": {
    "collapsed": true
   },
   "outputs": [],
   "source": [
    "filename = '~/./Documents/Harmonizome/The_Human_Protaein_Atlas/Output/thpa_rns-seq_tissue_tertiary_matrix_%s.tsv.zip'% str(datetime.date.today())[0:7].replace('-', '_')\n",
    "tertiary_matrix.to_csv(filename, sep='\\t', compression='gzip')"
   ]
  },
  {
   "cell_type": "markdown",
   "metadata": {},
   "source": [
    "#### Path to output files"
   ]
  },
  {
   "cell_type": "code",
   "execution_count": 90,
   "metadata": {
    "collapsed": true
   },
   "outputs": [],
   "source": [
    "path = '/Users/moshesilverstein/Documents/Harmonizome/The_Human_Protaein_Atlas/Output/'"
   ]
  },
  {
   "cell_type": "markdown",
   "metadata": {},
   "source": [
    "# Create Up Gene Set Library"
   ]
  },
  {
   "cell_type": "code",
   "execution_count": 91,
   "metadata": {
    "collapsed": true
   },
   "outputs": [],
   "source": [
    "name = 'thpa_rns-seq_tissue_gene_up_set'"
   ]
  },
  {
   "cell_type": "code",
   "execution_count": 92,
   "metadata": {},
   "outputs": [
    {
     "name": "stdout",
     "output_type": "stream",
     "text": [
      "Progeres: 100%  37 Out of 37   \r"
     ]
    }
   ],
   "source": [
    "uf.createUpGeneSetLib(tertiary_matrix, path, name)"
   ]
  },
  {
   "cell_type": "markdown",
   "metadata": {},
   "source": [
    "# Create Down Gene Set Library"
   ]
  },
  {
   "cell_type": "code",
   "execution_count": 93,
   "metadata": {
    "collapsed": true
   },
   "outputs": [],
   "source": [
    "name = 'thpa_rns-seq_tissue_gene_down_set'"
   ]
  },
  {
   "cell_type": "code",
   "execution_count": 94,
   "metadata": {},
   "outputs": [
    {
     "name": "stdout",
     "output_type": "stream",
     "text": [
      "Progeres: 100%  37 Out of 37   \r"
     ]
    }
   ],
   "source": [
    "uf.createDownGeneSetLib(tertiary_matrix, path, name)"
   ]
  },
  {
   "cell_type": "markdown",
   "metadata": {},
   "source": [
    "# Create Up Attribute Library"
   ]
  },
  {
   "cell_type": "code",
   "execution_count": 95,
   "metadata": {
    "collapsed": true
   },
   "outputs": [],
   "source": [
    "name = 'thpa_rns-seq_tissue_attribute_up_set'"
   ]
  },
  {
   "cell_type": "code",
   "execution_count": 96,
   "metadata": {},
   "outputs": [
    {
     "name": "stdout",
     "output_type": "stream",
     "text": [
      "Progeres: 100%  18200 Out of 18200   \r"
     ]
    }
   ],
   "source": [
    "uf.createUpAttributeSetLib(tertiary_matrix, path, name)"
   ]
  },
  {
   "cell_type": "markdown",
   "metadata": {},
   "source": [
    "# Create Down Attribute Library"
   ]
  },
  {
   "cell_type": "code",
   "execution_count": 97,
   "metadata": {
    "collapsed": true
   },
   "outputs": [],
   "source": [
    "name = 'thpa_rns-seq_tissue_attribute_down_set'"
   ]
  },
  {
   "cell_type": "code",
   "execution_count": 98,
   "metadata": {},
   "outputs": [
    {
     "name": "stdout",
     "output_type": "stream",
     "text": [
      "Progeres: 100%  18200 Out of 18200   \r"
     ]
    }
   ],
   "source": [
    "uf.createDownAttributeSetLib(tertiary_matrix, path, name)"
   ]
  },
  {
   "cell_type": "markdown",
   "metadata": {},
   "source": [
    "# Create Gene Similarity Matrix"
   ]
  },
  {
   "cell_type": "code",
   "execution_count": 99,
   "metadata": {
    "collapsed": true
   },
   "outputs": [],
   "source": [
    "gene_similarity_matix = uf.createSimilarityMatrix(normalized_matrix, 'cosine')"
   ]
  },
  {
   "cell_type": "code",
   "execution_count": 100,
   "metadata": {},
   "outputs": [
    {
     "data": {
      "text/html": [
       "<div>\n",
       "<table border=\"1\" class=\"dataframe\">\n",
       "  <thead>\n",
       "    <tr style=\"text-align: right;\">\n",
       "      <th></th>\n",
       "      <th>A1BG</th>\n",
       "      <th>A1CF</th>\n",
       "      <th>A2M</th>\n",
       "      <th>A2ML1</th>\n",
       "      <th>A3GALT2</th>\n",
       "      <th>A4GALT</th>\n",
       "      <th>A4GNT</th>\n",
       "      <th>AAAS</th>\n",
       "      <th>AACS</th>\n",
       "      <th>AADAC</th>\n",
       "      <th>...</th>\n",
       "      <th>ZWILCH</th>\n",
       "      <th>ZWINT</th>\n",
       "      <th>ZXDA</th>\n",
       "      <th>ZXDB</th>\n",
       "      <th>ZXDC</th>\n",
       "      <th>ZYG11A</th>\n",
       "      <th>ZYG11B</th>\n",
       "      <th>ZYX</th>\n",
       "      <th>ZZEF1</th>\n",
       "      <th>ZZZ3</th>\n",
       "    </tr>\n",
       "  </thead>\n",
       "  <tbody>\n",
       "    <tr>\n",
       "      <th>A1BG</th>\n",
       "      <td>1.000000</td>\n",
       "      <td>0.895837</td>\n",
       "      <td>0.128103</td>\n",
       "      <td>-0.039286</td>\n",
       "      <td>-0.073318</td>\n",
       "      <td>-0.186501</td>\n",
       "      <td>-0.038718</td>\n",
       "      <td>-0.036239</td>\n",
       "      <td>-0.144314</td>\n",
       "      <td>0.750724</td>\n",
       "      <td>...</td>\n",
       "      <td>-0.026739</td>\n",
       "      <td>-0.065444</td>\n",
       "      <td>-0.023290</td>\n",
       "      <td>0.722037</td>\n",
       "      <td>-0.032261</td>\n",
       "      <td>0.180666</td>\n",
       "      <td>0.142420</td>\n",
       "      <td>-0.140579</td>\n",
       "      <td>-0.221973</td>\n",
       "      <td>0.137181</td>\n",
       "    </tr>\n",
       "    <tr>\n",
       "      <th>A1CF</th>\n",
       "      <td>0.895837</td>\n",
       "      <td>1.000000</td>\n",
       "      <td>0.076569</td>\n",
       "      <td>-0.079756</td>\n",
       "      <td>-0.129572</td>\n",
       "      <td>-0.256985</td>\n",
       "      <td>-0.025464</td>\n",
       "      <td>-0.143835</td>\n",
       "      <td>-0.141573</td>\n",
       "      <td>0.888519</td>\n",
       "      <td>...</td>\n",
       "      <td>-0.053420</td>\n",
       "      <td>0.028718</td>\n",
       "      <td>-0.177553</td>\n",
       "      <td>0.556671</td>\n",
       "      <td>-0.117152</td>\n",
       "      <td>0.167727</td>\n",
       "      <td>0.041663</td>\n",
       "      <td>-0.239193</td>\n",
       "      <td>0.070904</td>\n",
       "      <td>0.021901</td>\n",
       "    </tr>\n",
       "    <tr>\n",
       "      <th>A2M</th>\n",
       "      <td>0.128103</td>\n",
       "      <td>0.076569</td>\n",
       "      <td>1.000000</td>\n",
       "      <td>-0.092244</td>\n",
       "      <td>-0.125049</td>\n",
       "      <td>0.017595</td>\n",
       "      <td>-0.082486</td>\n",
       "      <td>-0.201471</td>\n",
       "      <td>-0.210375</td>\n",
       "      <td>0.037844</td>\n",
       "      <td>...</td>\n",
       "      <td>-0.126354</td>\n",
       "      <td>-0.257908</td>\n",
       "      <td>-0.201570</td>\n",
       "      <td>-0.014744</td>\n",
       "      <td>-0.180507</td>\n",
       "      <td>-0.104677</td>\n",
       "      <td>-0.056038</td>\n",
       "      <td>0.294454</td>\n",
       "      <td>-0.198491</td>\n",
       "      <td>-0.117039</td>\n",
       "    </tr>\n",
       "    <tr>\n",
       "      <th>A2ML1</th>\n",
       "      <td>-0.039286</td>\n",
       "      <td>-0.079756</td>\n",
       "      <td>-0.092244</td>\n",
       "      <td>1.000000</td>\n",
       "      <td>-0.098952</td>\n",
       "      <td>-0.023964</td>\n",
       "      <td>-0.048936</td>\n",
       "      <td>-0.035131</td>\n",
       "      <td>0.187581</td>\n",
       "      <td>-0.073947</td>\n",
       "      <td>...</td>\n",
       "      <td>0.017872</td>\n",
       "      <td>0.097059</td>\n",
       "      <td>-0.162530</td>\n",
       "      <td>-0.129297</td>\n",
       "      <td>-0.045117</td>\n",
       "      <td>-0.032205</td>\n",
       "      <td>-0.031156</td>\n",
       "      <td>-0.038961</td>\n",
       "      <td>0.072403</td>\n",
       "      <td>-0.070850</td>\n",
       "    </tr>\n",
       "    <tr>\n",
       "      <th>A3GALT2</th>\n",
       "      <td>-0.073318</td>\n",
       "      <td>-0.129572</td>\n",
       "      <td>-0.125049</td>\n",
       "      <td>-0.098952</td>\n",
       "      <td>1.000000</td>\n",
       "      <td>-0.065558</td>\n",
       "      <td>-0.062595</td>\n",
       "      <td>-0.114968</td>\n",
       "      <td>-0.136781</td>\n",
       "      <td>-0.141043</td>\n",
       "      <td>...</td>\n",
       "      <td>0.207131</td>\n",
       "      <td>0.335893</td>\n",
       "      <td>0.193749</td>\n",
       "      <td>0.178502</td>\n",
       "      <td>0.670389</td>\n",
       "      <td>0.091652</td>\n",
       "      <td>-0.066000</td>\n",
       "      <td>0.166555</td>\n",
       "      <td>0.156692</td>\n",
       "      <td>-0.145789</td>\n",
       "    </tr>\n",
       "  </tbody>\n",
       "</table>\n",
       "<p>5 rows × 18200 columns</p>\n",
       "</div>"
      ],
      "text/plain": [
       "             A1BG      A1CF       A2M     A2ML1   A3GALT2    A4GALT     A4GNT  \\\n",
       "A1BG     1.000000  0.895837  0.128103 -0.039286 -0.073318 -0.186501 -0.038718   \n",
       "A1CF     0.895837  1.000000  0.076569 -0.079756 -0.129572 -0.256985 -0.025464   \n",
       "A2M      0.128103  0.076569  1.000000 -0.092244 -0.125049  0.017595 -0.082486   \n",
       "A2ML1   -0.039286 -0.079756 -0.092244  1.000000 -0.098952 -0.023964 -0.048936   \n",
       "A3GALT2 -0.073318 -0.129572 -0.125049 -0.098952  1.000000 -0.065558 -0.062595   \n",
       "\n",
       "             AAAS      AACS     AADAC    ...       ZWILCH     ZWINT      ZXDA  \\\n",
       "A1BG    -0.036239 -0.144314  0.750724    ...    -0.026739 -0.065444 -0.023290   \n",
       "A1CF    -0.143835 -0.141573  0.888519    ...    -0.053420  0.028718 -0.177553   \n",
       "A2M     -0.201471 -0.210375  0.037844    ...    -0.126354 -0.257908 -0.201570   \n",
       "A2ML1   -0.035131  0.187581 -0.073947    ...     0.017872  0.097059 -0.162530   \n",
       "A3GALT2 -0.114968 -0.136781 -0.141043    ...     0.207131  0.335893  0.193749   \n",
       "\n",
       "             ZXDB      ZXDC    ZYG11A    ZYG11B       ZYX     ZZEF1      ZZZ3  \n",
       "A1BG     0.722037 -0.032261  0.180666  0.142420 -0.140579 -0.221973  0.137181  \n",
       "A1CF     0.556671 -0.117152  0.167727  0.041663 -0.239193  0.070904  0.021901  \n",
       "A2M     -0.014744 -0.180507 -0.104677 -0.056038  0.294454 -0.198491 -0.117039  \n",
       "A2ML1   -0.129297 -0.045117 -0.032205 -0.031156 -0.038961  0.072403 -0.070850  \n",
       "A3GALT2  0.178502  0.670389  0.091652 -0.066000  0.166555  0.156692 -0.145789  \n",
       "\n",
       "[5 rows x 18200 columns]"
      ]
     },
     "execution_count": 100,
     "metadata": {},
     "output_type": "execute_result"
    }
   ],
   "source": [
    "gene_similarity_matix.head()"
   ]
  },
  {
   "cell_type": "markdown",
   "metadata": {},
   "source": [
    "## Save Gene Similarity Matrix "
   ]
  },
  {
   "cell_type": "code",
   "execution_count": 101,
   "metadata": {
    "collapsed": true
   },
   "outputs": [],
   "source": [
    "filename = '~/./Documents/Harmonizome/The_Human_Protaein_Atlas/Output/thpa_rns-seq_tissue_gene_similarity_matix_%s.tsv.zip'% str(datetime.date.today())[0:7].replace('-', '_')\n",
    "gene_similarity_matix.to_csv(filename, sep='\\t', compression='gzip')"
   ]
  },
  {
   "cell_type": "markdown",
   "metadata": {},
   "source": [
    "# Create Attribute Similarity matrix"
   ]
  },
  {
   "cell_type": "code",
   "execution_count": 104,
   "metadata": {},
   "outputs": [],
   "source": [
    "attribute_similarity_matix = uf.createSimilarityMatrix(normalized_matrix.T, 'cosine')"
   ]
  },
  {
   "cell_type": "code",
   "execution_count": 105,
   "metadata": {},
   "outputs": [
    {
     "data": {
      "text/html": [
       "<div>\n",
       "<table border=\"1\" class=\"dataframe\">\n",
       "  <thead>\n",
       "    <tr style=\"text-align: right;\">\n",
       "      <th></th>\n",
       "      <th>adipose tissue</th>\n",
       "      <th>adrenal gland</th>\n",
       "      <th>appendix</th>\n",
       "      <th>bone marrow</th>\n",
       "      <th>breast</th>\n",
       "      <th>cerebral cortex</th>\n",
       "      <th>cervix, uterine</th>\n",
       "      <th>colon</th>\n",
       "      <th>duodenum</th>\n",
       "      <th>endometrium</th>\n",
       "      <th>...</th>\n",
       "      <th>skeletal muscle</th>\n",
       "      <th>skin</th>\n",
       "      <th>small intestine</th>\n",
       "      <th>smooth muscle</th>\n",
       "      <th>spleen</th>\n",
       "      <th>stomach</th>\n",
       "      <th>testis</th>\n",
       "      <th>thyroid gland</th>\n",
       "      <th>tonsil</th>\n",
       "      <th>urinary bladder</th>\n",
       "    </tr>\n",
       "  </thead>\n",
       "  <tbody>\n",
       "    <tr>\n",
       "      <th>adipose tissue</th>\n",
       "      <td>1.000000</td>\n",
       "      <td>0.053329</td>\n",
       "      <td>0.106147</td>\n",
       "      <td>-0.071419</td>\n",
       "      <td>-0.032032</td>\n",
       "      <td>-0.011583</td>\n",
       "      <td>0.086261</td>\n",
       "      <td>-0.051826</td>\n",
       "      <td>-0.079051</td>\n",
       "      <td>0.028008</td>\n",
       "      <td>...</td>\n",
       "      <td>0.042843</td>\n",
       "      <td>-0.099904</td>\n",
       "      <td>-0.050111</td>\n",
       "      <td>0.197637</td>\n",
       "      <td>0.068123</td>\n",
       "      <td>-0.082020</td>\n",
       "      <td>-0.125928</td>\n",
       "      <td>-0.153312</td>\n",
       "      <td>-0.215423</td>\n",
       "      <td>0.100442</td>\n",
       "    </tr>\n",
       "    <tr>\n",
       "      <th>adrenal gland</th>\n",
       "      <td>0.053329</td>\n",
       "      <td>1.000000</td>\n",
       "      <td>-0.112061</td>\n",
       "      <td>-0.123585</td>\n",
       "      <td>-0.039166</td>\n",
       "      <td>0.143037</td>\n",
       "      <td>-0.029611</td>\n",
       "      <td>-0.100708</td>\n",
       "      <td>-0.051016</td>\n",
       "      <td>-0.039364</td>\n",
       "      <td>...</td>\n",
       "      <td>0.034312</td>\n",
       "      <td>-0.110716</td>\n",
       "      <td>-0.078715</td>\n",
       "      <td>-0.059918</td>\n",
       "      <td>-0.076670</td>\n",
       "      <td>-0.069541</td>\n",
       "      <td>-0.053366</td>\n",
       "      <td>0.009893</td>\n",
       "      <td>-0.191405</td>\n",
       "      <td>-0.080774</td>\n",
       "    </tr>\n",
       "    <tr>\n",
       "      <th>appendix</th>\n",
       "      <td>0.106147</td>\n",
       "      <td>-0.112061</td>\n",
       "      <td>1.000000</td>\n",
       "      <td>0.292532</td>\n",
       "      <td>-0.165149</td>\n",
       "      <td>-0.134048</td>\n",
       "      <td>-0.152861</td>\n",
       "      <td>0.066702</td>\n",
       "      <td>0.048640</td>\n",
       "      <td>-0.104098</td>\n",
       "      <td>...</td>\n",
       "      <td>-0.149433</td>\n",
       "      <td>-0.056091</td>\n",
       "      <td>0.096078</td>\n",
       "      <td>0.034581</td>\n",
       "      <td>0.503168</td>\n",
       "      <td>0.044819</td>\n",
       "      <td>-0.106224</td>\n",
       "      <td>-0.262302</td>\n",
       "      <td>0.465319</td>\n",
       "      <td>0.254808</td>\n",
       "    </tr>\n",
       "    <tr>\n",
       "      <th>bone marrow</th>\n",
       "      <td>-0.071419</td>\n",
       "      <td>-0.123585</td>\n",
       "      <td>0.292532</td>\n",
       "      <td>1.000000</td>\n",
       "      <td>-0.111303</td>\n",
       "      <td>-0.095795</td>\n",
       "      <td>-0.232554</td>\n",
       "      <td>-0.103533</td>\n",
       "      <td>-0.040356</td>\n",
       "      <td>-0.116809</td>\n",
       "      <td>...</td>\n",
       "      <td>-0.007626</td>\n",
       "      <td>0.040091</td>\n",
       "      <td>-0.052518</td>\n",
       "      <td>-0.154420</td>\n",
       "      <td>0.248050</td>\n",
       "      <td>-0.060917</td>\n",
       "      <td>0.046776</td>\n",
       "      <td>-0.096263</td>\n",
       "      <td>0.256166</td>\n",
       "      <td>-0.106588</td>\n",
       "    </tr>\n",
       "    <tr>\n",
       "      <th>breast</th>\n",
       "      <td>-0.032032</td>\n",
       "      <td>-0.039166</td>\n",
       "      <td>-0.165149</td>\n",
       "      <td>-0.111303</td>\n",
       "      <td>1.000000</td>\n",
       "      <td>-0.140857</td>\n",
       "      <td>0.166933</td>\n",
       "      <td>-0.012535</td>\n",
       "      <td>-0.177966</td>\n",
       "      <td>0.099306</td>\n",
       "      <td>...</td>\n",
       "      <td>-0.136044</td>\n",
       "      <td>0.027134</td>\n",
       "      <td>-0.177590</td>\n",
       "      <td>0.023249</td>\n",
       "      <td>-0.166451</td>\n",
       "      <td>-0.079952</td>\n",
       "      <td>-0.062901</td>\n",
       "      <td>0.138586</td>\n",
       "      <td>0.084547</td>\n",
       "      <td>0.022727</td>\n",
       "    </tr>\n",
       "  </tbody>\n",
       "</table>\n",
       "<p>5 rows × 37 columns</p>\n",
       "</div>"
      ],
      "text/plain": [
       "                adipose tissue  adrenal gland  appendix  bone marrow  \\\n",
       "adipose tissue        1.000000       0.053329  0.106147    -0.071419   \n",
       "adrenal gland         0.053329       1.000000 -0.112061    -0.123585   \n",
       "appendix              0.106147      -0.112061  1.000000     0.292532   \n",
       "bone marrow          -0.071419      -0.123585  0.292532     1.000000   \n",
       "breast               -0.032032      -0.039166 -0.165149    -0.111303   \n",
       "\n",
       "                  breast  cerebral cortex  cervix, uterine     colon  \\\n",
       "adipose tissue -0.032032        -0.011583         0.086261 -0.051826   \n",
       "adrenal gland  -0.039166         0.143037        -0.029611 -0.100708   \n",
       "appendix       -0.165149        -0.134048        -0.152861  0.066702   \n",
       "bone marrow    -0.111303        -0.095795        -0.232554 -0.103533   \n",
       "breast          1.000000        -0.140857         0.166933 -0.012535   \n",
       "\n",
       "                duodenum  endometrium       ...         skeletal muscle  \\\n",
       "adipose tissue -0.079051     0.028008       ...                0.042843   \n",
       "adrenal gland  -0.051016    -0.039364       ...                0.034312   \n",
       "appendix        0.048640    -0.104098       ...               -0.149433   \n",
       "bone marrow    -0.040356    -0.116809       ...               -0.007626   \n",
       "breast         -0.177966     0.099306       ...               -0.136044   \n",
       "\n",
       "                    skin  small intestine  smooth muscle    spleen   stomach  \\\n",
       "adipose tissue -0.099904        -0.050111       0.197637  0.068123 -0.082020   \n",
       "adrenal gland  -0.110716        -0.078715      -0.059918 -0.076670 -0.069541   \n",
       "appendix       -0.056091         0.096078       0.034581  0.503168  0.044819   \n",
       "bone marrow     0.040091        -0.052518      -0.154420  0.248050 -0.060917   \n",
       "breast          0.027134        -0.177590       0.023249 -0.166451 -0.079952   \n",
       "\n",
       "                  testis  thyroid gland    tonsil  urinary bladder  \n",
       "adipose tissue -0.125928      -0.153312 -0.215423         0.100442  \n",
       "adrenal gland  -0.053366       0.009893 -0.191405        -0.080774  \n",
       "appendix       -0.106224      -0.262302  0.465319         0.254808  \n",
       "bone marrow     0.046776      -0.096263  0.256166        -0.106588  \n",
       "breast         -0.062901       0.138586  0.084547         0.022727  \n",
       "\n",
       "[5 rows x 37 columns]"
      ]
     },
     "execution_count": 105,
     "metadata": {},
     "output_type": "execute_result"
    }
   ],
   "source": [
    "attribute_similarity_matix.head()"
   ]
  },
  {
   "cell_type": "markdown",
   "metadata": {},
   "source": [
    "## Save Attribute Similarity Matrix"
   ]
  },
  {
   "cell_type": "code",
   "execution_count": 106,
   "metadata": {
    "collapsed": true
   },
   "outputs": [],
   "source": [
    "filename = '~/./Documents/Harmonizome/The_Human_Protaein_Atlas/Output/thpa_rns-seq_tissue_attribute_similarity_matix_%s.tsv.zip'% str(datetime.date.today())[0:7].replace('-', '_')\n",
    "attribute_similarity_matix.to_csv(filename, sep='\\t', compression='gzip')"
   ]
  },
  {
   "cell_type": "markdown",
   "metadata": {},
   "source": [
    "# Create Gene List"
   ]
  },
  {
   "cell_type": "code",
   "execution_count": 107,
   "metadata": {},
   "outputs": [
    {
     "name": "stdout",
     "output_type": "stream",
     "text": [
      "Progeres: 100%  18200 Out of 18200   \r"
     ]
    }
   ],
   "source": [
    "gene_list = uf.createGeneList(normalized_matrix)"
   ]
  },
  {
   "cell_type": "code",
   "execution_count": 108,
   "metadata": {},
   "outputs": [
    {
     "data": {
      "text/html": [
       "<div>\n",
       "<table border=\"1\" class=\"dataframe\">\n",
       "  <thead>\n",
       "    <tr style=\"text-align: right;\">\n",
       "      <th></th>\n",
       "      <th>GeneSym</th>\n",
       "      <th>GeneID</th>\n",
       "    </tr>\n",
       "  </thead>\n",
       "  <tbody>\n",
       "    <tr>\n",
       "      <th>0</th>\n",
       "      <td>A1BG</td>\n",
       "      <td>1</td>\n",
       "    </tr>\n",
       "    <tr>\n",
       "      <th>1</th>\n",
       "      <td>A1CF</td>\n",
       "      <td>29974</td>\n",
       "    </tr>\n",
       "    <tr>\n",
       "      <th>2</th>\n",
       "      <td>A2M</td>\n",
       "      <td>2</td>\n",
       "    </tr>\n",
       "    <tr>\n",
       "      <th>3</th>\n",
       "      <td>A2ML1</td>\n",
       "      <td>144568</td>\n",
       "    </tr>\n",
       "    <tr>\n",
       "      <th>4</th>\n",
       "      <td>A3GALT2</td>\n",
       "      <td>127550</td>\n",
       "    </tr>\n",
       "  </tbody>\n",
       "</table>\n",
       "</div>"
      ],
      "text/plain": [
       "   GeneSym  GeneID\n",
       "0     A1BG       1\n",
       "1     A1CF   29974\n",
       "2      A2M       2\n",
       "3    A2ML1  144568\n",
       "4  A3GALT2  127550"
      ]
     },
     "execution_count": 108,
     "metadata": {},
     "output_type": "execute_result"
    }
   ],
   "source": [
    "gene_list.head()"
   ]
  },
  {
   "cell_type": "code",
   "execution_count": 109,
   "metadata": {},
   "outputs": [
    {
     "data": {
      "text/plain": [
       "(18200, 2)"
      ]
     },
     "execution_count": 109,
     "metadata": {},
     "output_type": "execute_result"
    }
   ],
   "source": [
    "gene_list.shape"
   ]
  },
  {
   "cell_type": "markdown",
   "metadata": {},
   "source": [
    "### Save Gene List"
   ]
  },
  {
   "cell_type": "code",
   "execution_count": 111,
   "metadata": {},
   "outputs": [],
   "source": [
    "filename = '~/./Documents/Harmonizome/The_Human_Protaein_Atlas/Output/thpa_rns-seq_tissue_gene_list_%s.tsv.zip'% str(datetime.date.today())[0:7].replace('-', '_')\n",
    "gene_list.to_csv(filename, sep='\\t', index=False, compression='gzip')"
   ]
  },
  {
   "cell_type": "markdown",
   "metadata": {},
   "source": [
    "# Create Attribute List "
   ]
  },
  {
   "cell_type": "code",
   "execution_count": 113,
   "metadata": {},
   "outputs": [],
   "source": [
    "attribute_list = uf.createAttributeList(normalized_matrix)"
   ]
  },
  {
   "cell_type": "code",
   "execution_count": 114,
   "metadata": {},
   "outputs": [
    {
     "data": {
      "text/html": [
       "<div>\n",
       "<table border=\"1\" class=\"dataframe\">\n",
       "  <thead>\n",
       "    <tr style=\"text-align: right;\">\n",
       "      <th></th>\n",
       "      <th>Attributes</th>\n",
       "    </tr>\n",
       "  </thead>\n",
       "  <tbody>\n",
       "    <tr>\n",
       "      <th>0</th>\n",
       "      <td>adipose tissue</td>\n",
       "    </tr>\n",
       "    <tr>\n",
       "      <th>1</th>\n",
       "      <td>adrenal gland</td>\n",
       "    </tr>\n",
       "    <tr>\n",
       "      <th>2</th>\n",
       "      <td>appendix</td>\n",
       "    </tr>\n",
       "    <tr>\n",
       "      <th>3</th>\n",
       "      <td>bone marrow</td>\n",
       "    </tr>\n",
       "    <tr>\n",
       "      <th>4</th>\n",
       "      <td>breast</td>\n",
       "    </tr>\n",
       "  </tbody>\n",
       "</table>\n",
       "</div>"
      ],
      "text/plain": [
       "       Attributes\n",
       "0  adipose tissue\n",
       "1   adrenal gland\n",
       "2        appendix\n",
       "3     bone marrow\n",
       "4          breast"
      ]
     },
     "execution_count": 114,
     "metadata": {},
     "output_type": "execute_result"
    }
   ],
   "source": [
    "attribute_list.head()"
   ]
  },
  {
   "cell_type": "code",
   "execution_count": 115,
   "metadata": {},
   "outputs": [
    {
     "data": {
      "text/plain": [
       "(37, 1)"
      ]
     },
     "execution_count": 115,
     "metadata": {},
     "output_type": "execute_result"
    }
   ],
   "source": [
    "attribute_list.shape"
   ]
  },
  {
   "cell_type": "markdown",
   "metadata": {},
   "source": [
    "### Save Attribute List"
   ]
  },
  {
   "cell_type": "code",
   "execution_count": 116,
   "metadata": {
    "collapsed": true
   },
   "outputs": [],
   "source": [
    "filename = '~/./Documents/Harmonizome/The_Human_Protaein_Atlas/Output/thpa_rns-seq_tissue_attribute_list_%s.tsv.zip'% str(datetime.date.today())[0:7].replace('-', '_')\n",
    "attribute_list.to_csv(filename, sep='\\t', index=False, compression='gzip')"
   ]
  },
  {
   "cell_type": "markdown",
   "metadata": {},
   "source": [
    "# Create Gene-Attribute Edge List"
   ]
  },
  {
   "cell_type": "code",
   "execution_count": 117,
   "metadata": {
    "collapsed": true
   },
   "outputs": [],
   "source": [
    "path = '/Users/moshesilverstein/Documents/Harmonizome/The_Human_Protaein_Atlas/Output/'"
   ]
  },
  {
   "cell_type": "code",
   "execution_count": 118,
   "metadata": {
    "collapsed": true
   },
   "outputs": [],
   "source": [
    "name = 'thpa_rns-seq_tissue_gene_attribute_edge_list'"
   ]
  },
  {
   "cell_type": "code",
   "execution_count": 119,
   "metadata": {},
   "outputs": [
    {
     "name": "stdout",
     "output_type": "stream",
     "text": [
      "Progeres: 100%  37 Out of 37   \n",
      "\n",
      " The number of statisticaly relevent gene-attribute associations is: 134717\n"
     ]
    }
   ],
   "source": [
    "uf.createGeneAttributeEdgeList(tertiary_matrix, gene_list, path, name)"
   ]
  }
 ],
 "metadata": {
  "kernelspec": {
   "display_name": "Python [default]",
   "language": "python",
   "name": "python3"
  },
  "language_info": {
   "codemirror_mode": {
    "name": "ipython",
    "version": 3
   },
   "file_extension": ".py",
   "mimetype": "text/x-python",
   "name": "python",
   "nbconvert_exporter": "python",
   "pygments_lexer": "ipython3",
   "version": "3.5.2"
  }
 },
 "nbformat": 4,
 "nbformat_minor": 2
}
