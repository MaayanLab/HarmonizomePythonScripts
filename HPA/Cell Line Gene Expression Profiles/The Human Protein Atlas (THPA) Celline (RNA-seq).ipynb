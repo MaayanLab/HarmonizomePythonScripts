{
 "cells": [
  {
   "cell_type": "markdown",
   "metadata": {},
   "source": [
    "# The Human Protein Atlas (THPA) Celline (RNA-seq)"
   ]
  },
  {
   "cell_type": "markdown",
   "metadata": {},
   "source": [
    "Author: Moshe Silverstein <br/>\n",
    "Date: 7-17 <br/>\n",
    "Data Downloaded: 04-2017 <br/>\n",
    "Data Source: http://www.proteinatlas.org/about/download"
   ]
  },
  {
   "cell_type": "code",
   "execution_count": 1,
   "metadata": {
    "collapsed": true
   },
   "outputs": [],
   "source": [
    "import sys, datetime\n",
    "import numpy as np\n",
    "import pandas as pd\n",
    "import importlib\n",
    "import untility_functions as uf\n",
    "%matplotlib inline"
   ]
  },
  {
   "cell_type": "code",
   "execution_count": 2,
   "metadata": {},
   "outputs": [
    {
     "data": {
      "text/plain": [
       "<module 'untility_functions' from '/Users/moshesilverstein/Documents/Harmonizome/The_Human_Protaein_Atlas/untility_functions.py'>"
      ]
     },
     "execution_count": 2,
     "metadata": {},
     "output_type": "execute_result"
    }
   ],
   "source": [
    "importlib.reload(uf)"
   ]
  },
  {
   "cell_type": "markdown",
   "metadata": {},
   "source": [
    "# Load Data"
   ]
  },
  {
   "cell_type": "code",
   "execution_count": 3,
   "metadata": {
    "collapsed": true
   },
   "outputs": [],
   "source": [
    "df = pd.read_csv('Data/rna_celline.csv.zip', sep=',')"
   ]
  },
  {
   "cell_type": "code",
   "execution_count": 4,
   "metadata": {},
   "outputs": [
    {
     "data": {
      "text/html": [
       "<div>\n",
       "<table border=\"1\" class=\"dataframe\">\n",
       "  <thead>\n",
       "    <tr style=\"text-align: right;\">\n",
       "      <th></th>\n",
       "      <th>Gene</th>\n",
       "      <th>Gene name</th>\n",
       "      <th>Sample</th>\n",
       "      <th>Value</th>\n",
       "      <th>Unit</th>\n",
       "    </tr>\n",
       "  </thead>\n",
       "  <tbody>\n",
       "    <tr>\n",
       "      <th>0</th>\n",
       "      <td>ENSG00000000003</td>\n",
       "      <td>TSPAN6</td>\n",
       "      <td>A-431</td>\n",
       "      <td>27.8</td>\n",
       "      <td>TPM</td>\n",
       "    </tr>\n",
       "    <tr>\n",
       "      <th>1</th>\n",
       "      <td>ENSG00000000003</td>\n",
       "      <td>TSPAN6</td>\n",
       "      <td>A549</td>\n",
       "      <td>37.6</td>\n",
       "      <td>TPM</td>\n",
       "    </tr>\n",
       "    <tr>\n",
       "      <th>2</th>\n",
       "      <td>ENSG00000000003</td>\n",
       "      <td>TSPAN6</td>\n",
       "      <td>AF22</td>\n",
       "      <td>108.2</td>\n",
       "      <td>TPM</td>\n",
       "    </tr>\n",
       "    <tr>\n",
       "      <th>3</th>\n",
       "      <td>ENSG00000000003</td>\n",
       "      <td>TSPAN6</td>\n",
       "      <td>AN3-CA</td>\n",
       "      <td>51.8</td>\n",
       "      <td>TPM</td>\n",
       "    </tr>\n",
       "    <tr>\n",
       "      <th>4</th>\n",
       "      <td>ENSG00000000003</td>\n",
       "      <td>TSPAN6</td>\n",
       "      <td>ASC TERT1</td>\n",
       "      <td>17.8</td>\n",
       "      <td>TPM</td>\n",
       "    </tr>\n",
       "  </tbody>\n",
       "</table>\n",
       "</div>"
      ],
      "text/plain": [
       "              Gene Gene name     Sample  Value Unit\n",
       "0  ENSG00000000003    TSPAN6      A-431   27.8  TPM\n",
       "1  ENSG00000000003    TSPAN6       A549   37.6  TPM\n",
       "2  ENSG00000000003    TSPAN6       AF22  108.2  TPM\n",
       "3  ENSG00000000003    TSPAN6     AN3-CA   51.8  TPM\n",
       "4  ENSG00000000003    TSPAN6  ASC TERT1   17.8  TPM"
      ]
     },
     "execution_count": 4,
     "metadata": {},
     "output_type": "execute_result"
    }
   ],
   "source": [
    "df.head()"
   ]
  },
  {
   "cell_type": "code",
   "execution_count": 5,
   "metadata": {},
   "outputs": [
    {
     "data": {
      "text/plain": [
       "(1099168, 5)"
      ]
     },
     "execution_count": 5,
     "metadata": {},
     "output_type": "execute_result"
    }
   ],
   "source": [
    "df.shape"
   ]
  },
  {
   "cell_type": "markdown",
   "metadata": {},
   "source": [
    "# Select Only Relevent Data "
   ]
  },
  {
   "cell_type": "code",
   "execution_count": 6,
   "metadata": {
    "collapsed": true
   },
   "outputs": [],
   "source": [
    "df = df[['Gene name', 'Sample', 'Value']]"
   ]
  },
  {
   "cell_type": "code",
   "execution_count": 7,
   "metadata": {},
   "outputs": [
    {
     "data": {
      "text/html": [
       "<div>\n",
       "<table border=\"1\" class=\"dataframe\">\n",
       "  <thead>\n",
       "    <tr style=\"text-align: right;\">\n",
       "      <th></th>\n",
       "      <th>Gene name</th>\n",
       "      <th>Sample</th>\n",
       "      <th>Value</th>\n",
       "    </tr>\n",
       "  </thead>\n",
       "  <tbody>\n",
       "    <tr>\n",
       "      <th>0</th>\n",
       "      <td>TSPAN6</td>\n",
       "      <td>A-431</td>\n",
       "      <td>27.8</td>\n",
       "    </tr>\n",
       "    <tr>\n",
       "      <th>1</th>\n",
       "      <td>TSPAN6</td>\n",
       "      <td>A549</td>\n",
       "      <td>37.6</td>\n",
       "    </tr>\n",
       "    <tr>\n",
       "      <th>2</th>\n",
       "      <td>TSPAN6</td>\n",
       "      <td>AF22</td>\n",
       "      <td>108.2</td>\n",
       "    </tr>\n",
       "    <tr>\n",
       "      <th>3</th>\n",
       "      <td>TSPAN6</td>\n",
       "      <td>AN3-CA</td>\n",
       "      <td>51.8</td>\n",
       "    </tr>\n",
       "    <tr>\n",
       "      <th>4</th>\n",
       "      <td>TSPAN6</td>\n",
       "      <td>ASC TERT1</td>\n",
       "      <td>17.8</td>\n",
       "    </tr>\n",
       "  </tbody>\n",
       "</table>\n",
       "</div>"
      ],
      "text/plain": [
       "  Gene name     Sample  Value\n",
       "0    TSPAN6      A-431   27.8\n",
       "1    TSPAN6       A549   37.6\n",
       "2    TSPAN6       AF22  108.2\n",
       "3    TSPAN6     AN3-CA   51.8\n",
       "4    TSPAN6  ASC TERT1   17.8"
      ]
     },
     "execution_count": 7,
     "metadata": {},
     "output_type": "execute_result"
    }
   ],
   "source": [
    "df.head()"
   ]
  },
  {
   "cell_type": "markdown",
   "metadata": {},
   "source": [
    "# Map Gene Symbols To Up-to-date Approved Gene Symbols"
   ]
  },
  {
   "cell_type": "code",
   "execution_count": 8,
   "metadata": {
    "collapsed": true
   },
   "outputs": [],
   "source": [
    "df.set_index('Gene name', inplace=True)"
   ]
  },
  {
   "cell_type": "code",
   "execution_count": 9,
   "metadata": {},
   "outputs": [
    {
     "name": "stdout",
     "output_type": "stream",
     "text": [
      "Progeres: 100%  1099168 Out of 1099168   \r"
     ]
    }
   ],
   "source": [
    "uf.mapgenesymbols(df)"
   ]
  },
  {
   "cell_type": "code",
   "execution_count": 10,
   "metadata": {},
   "outputs": [
    {
     "data": {
      "text/plain": [
       "(1069488, 2)"
      ]
     },
     "execution_count": 10,
     "metadata": {},
     "output_type": "execute_result"
    }
   ],
   "source": [
    "df.shape"
   ]
  },
  {
   "cell_type": "markdown",
   "metadata": {},
   "source": [
    "# Merge Duplicates"
   ]
  },
  {
   "cell_type": "code",
   "execution_count": 11,
   "metadata": {
    "collapsed": true
   },
   "outputs": [],
   "source": [
    "df.reset_index(inplace=True)"
   ]
  },
  {
   "cell_type": "code",
   "execution_count": 12,
   "metadata": {
    "collapsed": true
   },
   "outputs": [],
   "source": [
    "df = df.groupby(['Sample', 'Gene name']).mean()"
   ]
  },
  {
   "cell_type": "code",
   "execution_count": 13,
   "metadata": {},
   "outputs": [
    {
     "data": {
      "text/html": [
       "<div>\n",
       "<table border=\"1\" class=\"dataframe\">\n",
       "  <thead>\n",
       "    <tr style=\"text-align: right;\">\n",
       "      <th></th>\n",
       "      <th></th>\n",
       "      <th>Value</th>\n",
       "    </tr>\n",
       "    <tr>\n",
       "      <th>Sample</th>\n",
       "      <th>Gene name</th>\n",
       "      <th></th>\n",
       "    </tr>\n",
       "  </thead>\n",
       "  <tbody>\n",
       "    <tr>\n",
       "      <th rowspan=\"5\" valign=\"top\">A-431</th>\n",
       "      <th>A1BG</th>\n",
       "      <td>0.0</td>\n",
       "    </tr>\n",
       "    <tr>\n",
       "      <th>A1CF</th>\n",
       "      <td>0.0</td>\n",
       "    </tr>\n",
       "    <tr>\n",
       "      <th>A2M</th>\n",
       "      <td>0.3</td>\n",
       "    </tr>\n",
       "    <tr>\n",
       "      <th>A2ML1</th>\n",
       "      <td>0.0</td>\n",
       "    </tr>\n",
       "    <tr>\n",
       "      <th>A3GALT2</th>\n",
       "      <td>0.0</td>\n",
       "    </tr>\n",
       "  </tbody>\n",
       "</table>\n",
       "</div>"
      ],
      "text/plain": [
       "                  Value\n",
       "Sample Gene name       \n",
       "A-431  A1BG         0.0\n",
       "       A1CF         0.0\n",
       "       A2M          0.3\n",
       "       A2ML1        0.0\n",
       "       A3GALT2      0.0"
      ]
     },
     "execution_count": 13,
     "metadata": {},
     "output_type": "execute_result"
    }
   ],
   "source": [
    "df.head()"
   ]
  },
  {
   "cell_type": "code",
   "execution_count": 14,
   "metadata": {},
   "outputs": [
    {
     "data": {
      "text/plain": [
       "(1063328, 1)"
      ]
     },
     "execution_count": 14,
     "metadata": {},
     "output_type": "execute_result"
    }
   ],
   "source": [
    "df.shape"
   ]
  },
  {
   "cell_type": "markdown",
   "metadata": {},
   "source": [
    "# Create Matrix"
   ]
  },
  {
   "cell_type": "code",
   "execution_count": 16,
   "metadata": {
    "collapsed": true
   },
   "outputs": [],
   "source": [
    "df.reset_index(inplace=True)"
   ]
  },
  {
   "cell_type": "code",
   "execution_count": 17,
   "metadata": {},
   "outputs": [
    {
     "data": {
      "text/html": [
       "<div>\n",
       "<table border=\"1\" class=\"dataframe\">\n",
       "  <thead>\n",
       "    <tr style=\"text-align: right;\">\n",
       "      <th></th>\n",
       "      <th>Sample</th>\n",
       "      <th>Gene name</th>\n",
       "      <th>Value</th>\n",
       "    </tr>\n",
       "  </thead>\n",
       "  <tbody>\n",
       "    <tr>\n",
       "      <th>0</th>\n",
       "      <td>A-431</td>\n",
       "      <td>A1BG</td>\n",
       "      <td>0.0</td>\n",
       "    </tr>\n",
       "    <tr>\n",
       "      <th>1</th>\n",
       "      <td>A-431</td>\n",
       "      <td>A1CF</td>\n",
       "      <td>0.0</td>\n",
       "    </tr>\n",
       "    <tr>\n",
       "      <th>2</th>\n",
       "      <td>A-431</td>\n",
       "      <td>A2M</td>\n",
       "      <td>0.3</td>\n",
       "    </tr>\n",
       "    <tr>\n",
       "      <th>3</th>\n",
       "      <td>A-431</td>\n",
       "      <td>A2ML1</td>\n",
       "      <td>0.0</td>\n",
       "    </tr>\n",
       "    <tr>\n",
       "      <th>4</th>\n",
       "      <td>A-431</td>\n",
       "      <td>A3GALT2</td>\n",
       "      <td>0.0</td>\n",
       "    </tr>\n",
       "  </tbody>\n",
       "</table>\n",
       "</div>"
      ],
      "text/plain": [
       "  Sample Gene name  Value\n",
       "0  A-431      A1BG    0.0\n",
       "1  A-431      A1CF    0.0\n",
       "2  A-431       A2M    0.3\n",
       "3  A-431     A2ML1    0.0\n",
       "4  A-431   A3GALT2    0.0"
      ]
     },
     "execution_count": 17,
     "metadata": {},
     "output_type": "execute_result"
    }
   ],
   "source": [
    "df.head()"
   ]
  },
  {
   "cell_type": "code",
   "execution_count": 18,
   "metadata": {},
   "outputs": [
    {
     "name": "stdout",
     "output_type": "stream",
     "text": [
      "Progress: 100%   \r"
     ]
    }
   ],
   "source": [
    "genes = df['Gene name'].unique().tolist()\n",
    "tissues = df['Sample'].unique().tolist()\n",
    "\n",
    "df.set_index('Sample', inplace=True)\n",
    "\n",
    "matrix = pd.DataFrame(index=genes, columns=tissues)\n",
    "\n",
    "matrix.replace(np.nan, 0, inplace=True)\n",
    "\n",
    "for i,col in enumerate(matrix.columns):\n",
    "    \n",
    "    progress = ((i+1)/len(matrix.columns))*100\n",
    "        \n",
    "    sys.stdout.write(\"Progress: %d%%   \\r\" % (progress))\n",
    "    sys.stdout.flush()\n",
    "    \n",
    "    matrix.ix[df.loc[col, 'Gene name'].values.tolist(), col] = df.ix[col, 'Value'].values.tolist()"
   ]
  },
  {
   "cell_type": "code",
   "execution_count": 19,
   "metadata": {},
   "outputs": [
    {
     "data": {
      "text/html": [
       "<div>\n",
       "<table border=\"1\" class=\"dataframe\">\n",
       "  <thead>\n",
       "    <tr style=\"text-align: right;\">\n",
       "      <th></th>\n",
       "      <th>A-431</th>\n",
       "      <th>A549</th>\n",
       "      <th>AF22</th>\n",
       "      <th>AN3-CA</th>\n",
       "      <th>ASC TERT1</th>\n",
       "      <th>BEWO</th>\n",
       "      <th>BJ</th>\n",
       "      <th>BJ hTERT+</th>\n",
       "      <th>BJ hTERT+ SV40 Large T+</th>\n",
       "      <th>BJ hTERT+ SV40 Large T+ RasG12V</th>\n",
       "      <th>...</th>\n",
       "      <th>U-2 OS</th>\n",
       "      <th>U-2197</th>\n",
       "      <th>U-251 MG</th>\n",
       "      <th>U-266/70</th>\n",
       "      <th>U-266/84</th>\n",
       "      <th>U-698</th>\n",
       "      <th>U-87 MG</th>\n",
       "      <th>U-937</th>\n",
       "      <th>WM-115</th>\n",
       "      <th>hTCEpi</th>\n",
       "    </tr>\n",
       "  </thead>\n",
       "  <tbody>\n",
       "    <tr>\n",
       "      <th>A1BG</th>\n",
       "      <td>0.0</td>\n",
       "      <td>0.3</td>\n",
       "      <td>0.0</td>\n",
       "      <td>0.5</td>\n",
       "      <td>0.7</td>\n",
       "      <td>0.3</td>\n",
       "      <td>0.8</td>\n",
       "      <td>0.1</td>\n",
       "      <td>0.5</td>\n",
       "      <td>0.1</td>\n",
       "      <td>...</td>\n",
       "      <td>0.1</td>\n",
       "      <td>0.0</td>\n",
       "      <td>0.0</td>\n",
       "      <td>1.7</td>\n",
       "      <td>0.8</td>\n",
       "      <td>0.5</td>\n",
       "      <td>0.0</td>\n",
       "      <td>0.4</td>\n",
       "      <td>0.0</td>\n",
       "      <td>0.3</td>\n",
       "    </tr>\n",
       "    <tr>\n",
       "      <th>A1CF</th>\n",
       "      <td>0.0</td>\n",
       "      <td>0.3</td>\n",
       "      <td>0.0</td>\n",
       "      <td>0.0</td>\n",
       "      <td>0.0</td>\n",
       "      <td>0.0</td>\n",
       "      <td>0.0</td>\n",
       "      <td>0.0</td>\n",
       "      <td>0.0</td>\n",
       "      <td>0.0</td>\n",
       "      <td>...</td>\n",
       "      <td>0.0</td>\n",
       "      <td>0.0</td>\n",
       "      <td>0.0</td>\n",
       "      <td>0.0</td>\n",
       "      <td>0.0</td>\n",
       "      <td>0.0</td>\n",
       "      <td>0.1</td>\n",
       "      <td>0.0</td>\n",
       "      <td>0.0</td>\n",
       "      <td>0.1</td>\n",
       "    </tr>\n",
       "    <tr>\n",
       "      <th>A2M</th>\n",
       "      <td>0.3</td>\n",
       "      <td>0.0</td>\n",
       "      <td>726.7</td>\n",
       "      <td>0.0</td>\n",
       "      <td>10.8</td>\n",
       "      <td>2.0</td>\n",
       "      <td>75.7</td>\n",
       "      <td>19.9</td>\n",
       "      <td>0.1</td>\n",
       "      <td>0.0</td>\n",
       "      <td>...</td>\n",
       "      <td>6.5</td>\n",
       "      <td>1.3</td>\n",
       "      <td>0.3</td>\n",
       "      <td>0.5</td>\n",
       "      <td>0.2</td>\n",
       "      <td>0.5</td>\n",
       "      <td>0.2</td>\n",
       "      <td>0.3</td>\n",
       "      <td>14.5</td>\n",
       "      <td>0.0</td>\n",
       "    </tr>\n",
       "    <tr>\n",
       "      <th>A2ML1</th>\n",
       "      <td>0.0</td>\n",
       "      <td>0.0</td>\n",
       "      <td>0.1</td>\n",
       "      <td>0.1</td>\n",
       "      <td>0.0</td>\n",
       "      <td>2.4</td>\n",
       "      <td>0.0</td>\n",
       "      <td>0.0</td>\n",
       "      <td>0.0</td>\n",
       "      <td>0.0</td>\n",
       "      <td>...</td>\n",
       "      <td>0.0</td>\n",
       "      <td>0.0</td>\n",
       "      <td>0.0</td>\n",
       "      <td>0.0</td>\n",
       "      <td>0.0</td>\n",
       "      <td>0.2</td>\n",
       "      <td>0.0</td>\n",
       "      <td>0.2</td>\n",
       "      <td>0.0</td>\n",
       "      <td>3.9</td>\n",
       "    </tr>\n",
       "    <tr>\n",
       "      <th>A3GALT2</th>\n",
       "      <td>0.0</td>\n",
       "      <td>0.0</td>\n",
       "      <td>0.0</td>\n",
       "      <td>0.0</td>\n",
       "      <td>0.0</td>\n",
       "      <td>0.0</td>\n",
       "      <td>0.0</td>\n",
       "      <td>0.0</td>\n",
       "      <td>0.0</td>\n",
       "      <td>0.1</td>\n",
       "      <td>...</td>\n",
       "      <td>0.0</td>\n",
       "      <td>0.0</td>\n",
       "      <td>0.0</td>\n",
       "      <td>0.0</td>\n",
       "      <td>0.0</td>\n",
       "      <td>0.0</td>\n",
       "      <td>0.0</td>\n",
       "      <td>0.0</td>\n",
       "      <td>0.2</td>\n",
       "      <td>0.0</td>\n",
       "    </tr>\n",
       "  </tbody>\n",
       "</table>\n",
       "<p>5 rows × 56 columns</p>\n",
       "</div>"
      ],
      "text/plain": [
       "         A-431  A549   AF22  AN3-CA  ASC TERT1  BEWO    BJ  BJ hTERT+  \\\n",
       "A1BG       0.0   0.3    0.0     0.5        0.7   0.3   0.8        0.1   \n",
       "A1CF       0.0   0.3    0.0     0.0        0.0   0.0   0.0        0.0   \n",
       "A2M        0.3   0.0  726.7     0.0       10.8   2.0  75.7       19.9   \n",
       "A2ML1      0.0   0.0    0.1     0.1        0.0   2.4   0.0        0.0   \n",
       "A3GALT2    0.0   0.0    0.0     0.0        0.0   0.0   0.0        0.0   \n",
       "\n",
       "         BJ hTERT+ SV40 Large T+  BJ hTERT+ SV40 Large T+ RasG12V   ...    \\\n",
       "A1BG                         0.5                              0.1   ...     \n",
       "A1CF                         0.0                              0.0   ...     \n",
       "A2M                          0.1                              0.0   ...     \n",
       "A2ML1                        0.0                              0.0   ...     \n",
       "A3GALT2                      0.0                              0.1   ...     \n",
       "\n",
       "         U-2 OS  U-2197  U-251 MG  U-266/70  U-266/84  U-698  U-87 MG  U-937  \\\n",
       "A1BG        0.1     0.0       0.0       1.7       0.8    0.5      0.0    0.4   \n",
       "A1CF        0.0     0.0       0.0       0.0       0.0    0.0      0.1    0.0   \n",
       "A2M         6.5     1.3       0.3       0.5       0.2    0.5      0.2    0.3   \n",
       "A2ML1       0.0     0.0       0.0       0.0       0.0    0.2      0.0    0.2   \n",
       "A3GALT2     0.0     0.0       0.0       0.0       0.0    0.0      0.0    0.0   \n",
       "\n",
       "         WM-115  hTCEpi  \n",
       "A1BG        0.0     0.3  \n",
       "A1CF        0.0     0.1  \n",
       "A2M        14.5     0.0  \n",
       "A2ML1       0.0     3.9  \n",
       "A3GALT2     0.2     0.0  \n",
       "\n",
       "[5 rows x 56 columns]"
      ]
     },
     "execution_count": 19,
     "metadata": {},
     "output_type": "execute_result"
    }
   ],
   "source": [
    "matrix.head()"
   ]
  },
  {
   "cell_type": "code",
   "execution_count": 20,
   "metadata": {},
   "outputs": [
    {
     "data": {
      "text/plain": [
       "(18988, 56)"
      ]
     },
     "execution_count": 20,
     "metadata": {},
     "output_type": "execute_result"
    }
   ],
   "source": [
    "matrix.shape"
   ]
  },
  {
   "cell_type": "markdown",
   "metadata": {},
   "source": [
    "## Drop Any Genes That Have Zero Expression Across 95% Of The Samples"
   ]
  },
  {
   "cell_type": "code",
   "execution_count": 21,
   "metadata": {
    "collapsed": true
   },
   "outputs": [],
   "source": [
    "matrix.replace(0, np.nan, inplace=True)"
   ]
  },
  {
   "cell_type": "code",
   "execution_count": 22,
   "metadata": {
    "collapsed": true
   },
   "outputs": [],
   "source": [
    "matrix.dropna(thresh=(0.05*matrix.shape[1]), axis=0, inplace=True)"
   ]
  },
  {
   "cell_type": "code",
   "execution_count": 23,
   "metadata": {
    "collapsed": true
   },
   "outputs": [],
   "source": [
    "matrix.replace(np.nan, 0, inplace=True)"
   ]
  },
  {
   "cell_type": "code",
   "execution_count": 24,
   "metadata": {},
   "outputs": [
    {
     "data": {
      "text/plain": [
       "(17661, 56)"
      ]
     },
     "execution_count": 24,
     "metadata": {},
     "output_type": "execute_result"
    }
   ],
   "source": [
    "matrix.shape"
   ]
  },
  {
   "cell_type": "markdown",
   "metadata": {},
   "source": [
    "## Save Unfiltered Sample Matrix To File"
   ]
  },
  {
   "cell_type": "code",
   "execution_count": 25,
   "metadata": {
    "collapsed": true
   },
   "outputs": [],
   "source": [
    "filename = '~/./Documents/Harmonizome/The_Human_Protaein_Atlas/Output/thpa_rns-seq_celline_matrix_unfilltered_%s.tsv.zip'% str(datetime.date.today())[0:7].replace('-', '_')\n",
    "matrix.to_csv(filename, sep='\\t', compression='gzip')"
   ]
  },
  {
   "cell_type": "markdown",
   "metadata": {},
   "source": [
    "# Filtered Matrix"
   ]
  },
  {
   "cell_type": "markdown",
   "metadata": {},
   "source": [
    "## Normalize Matrix (Quantile Normalize the matrix for the columns)"
   ]
  },
  {
   "cell_type": "code",
   "execution_count": 27,
   "metadata": {
    "collapsed": true
   },
   "outputs": [],
   "source": [
    "normalized_matrix = matrix.copy()"
   ]
  },
  {
   "cell_type": "code",
   "execution_count": 28,
   "metadata": {},
   "outputs": [
    {
     "name": "stdout",
     "output_type": "stream",
     "text": [
      "Step 2/2 progress: 100%  56 Out of 56   \r"
     ]
    }
   ],
   "source": [
    "normalized_matrix = uf.quantileNormalize(normalized_matrix)"
   ]
  },
  {
   "cell_type": "code",
   "execution_count": 29,
   "metadata": {},
   "outputs": [
    {
     "data": {
      "text/html": [
       "<div>\n",
       "<table border=\"1\" class=\"dataframe\">\n",
       "  <thead>\n",
       "    <tr style=\"text-align: right;\">\n",
       "      <th></th>\n",
       "      <th>A-431</th>\n",
       "      <th>A549</th>\n",
       "      <th>AF22</th>\n",
       "      <th>AN3-CA</th>\n",
       "      <th>ASC TERT1</th>\n",
       "      <th>BEWO</th>\n",
       "      <th>BJ</th>\n",
       "      <th>BJ hTERT+</th>\n",
       "      <th>BJ hTERT+ SV40 Large T+</th>\n",
       "      <th>BJ hTERT+ SV40 Large T+ RasG12V</th>\n",
       "      <th>...</th>\n",
       "      <th>U-2 OS</th>\n",
       "      <th>U-2197</th>\n",
       "      <th>U-251 MG</th>\n",
       "      <th>U-266/70</th>\n",
       "      <th>U-266/84</th>\n",
       "      <th>U-698</th>\n",
       "      <th>U-87 MG</th>\n",
       "      <th>U-937</th>\n",
       "      <th>WM-115</th>\n",
       "      <th>hTCEpi</th>\n",
       "    </tr>\n",
       "  </thead>\n",
       "  <tbody>\n",
       "    <tr>\n",
       "      <th>A1BG</th>\n",
       "      <td>0.000000</td>\n",
       "      <td>0.191071</td>\n",
       "      <td>0.000000</td>\n",
       "      <td>0.678571</td>\n",
       "      <td>0.830357</td>\n",
       "      <td>0.166071</td>\n",
       "      <td>0.682143</td>\n",
       "      <td>0.110714</td>\n",
       "      <td>0.451786</td>\n",
       "      <td>0.069643</td>\n",
       "      <td>...</td>\n",
       "      <td>0.001786</td>\n",
       "      <td>0.000000</td>\n",
       "      <td>0.000000</td>\n",
       "      <td>1.926786</td>\n",
       "      <td>1.385714</td>\n",
       "      <td>1.676786</td>\n",
       "      <td>0.000000</td>\n",
       "      <td>0.726786</td>\n",
       "      <td>0.000000</td>\n",
       "      <td>0.325000</td>\n",
       "    </tr>\n",
       "    <tr>\n",
       "      <th>A1CF</th>\n",
       "      <td>0.000000</td>\n",
       "      <td>0.191071</td>\n",
       "      <td>0.000000</td>\n",
       "      <td>0.000000</td>\n",
       "      <td>0.000000</td>\n",
       "      <td>0.000000</td>\n",
       "      <td>0.000000</td>\n",
       "      <td>0.000000</td>\n",
       "      <td>0.000000</td>\n",
       "      <td>0.000000</td>\n",
       "      <td>...</td>\n",
       "      <td>0.000000</td>\n",
       "      <td>0.000000</td>\n",
       "      <td>0.000000</td>\n",
       "      <td>0.000000</td>\n",
       "      <td>0.000000</td>\n",
       "      <td>0.000000</td>\n",
       "      <td>0.025000</td>\n",
       "      <td>0.000000</td>\n",
       "      <td>0.000000</td>\n",
       "      <td>0.092857</td>\n",
       "    </tr>\n",
       "    <tr>\n",
       "      <th>A2M</th>\n",
       "      <td>0.366071</td>\n",
       "      <td>0.000000</td>\n",
       "      <td>739.746429</td>\n",
       "      <td>0.000000</td>\n",
       "      <td>12.926786</td>\n",
       "      <td>1.601786</td>\n",
       "      <td>72.577679</td>\n",
       "      <td>19.237500</td>\n",
       "      <td>0.075893</td>\n",
       "      <td>0.000000</td>\n",
       "      <td>...</td>\n",
       "      <td>4.555357</td>\n",
       "      <td>1.326786</td>\n",
       "      <td>0.369643</td>\n",
       "      <td>0.504464</td>\n",
       "      <td>0.307143</td>\n",
       "      <td>1.676786</td>\n",
       "      <td>0.103571</td>\n",
       "      <td>0.537500</td>\n",
       "      <td>12.247321</td>\n",
       "      <td>0.000000</td>\n",
       "    </tr>\n",
       "    <tr>\n",
       "      <th>A2ML1</th>\n",
       "      <td>0.000000</td>\n",
       "      <td>0.000000</td>\n",
       "      <td>0.017857</td>\n",
       "      <td>0.099107</td>\n",
       "      <td>0.000000</td>\n",
       "      <td>1.937500</td>\n",
       "      <td>0.000000</td>\n",
       "      <td>0.000000</td>\n",
       "      <td>0.000000</td>\n",
       "      <td>0.000000</td>\n",
       "      <td>...</td>\n",
       "      <td>0.000000</td>\n",
       "      <td>0.000000</td>\n",
       "      <td>0.000000</td>\n",
       "      <td>0.000000</td>\n",
       "      <td>0.000000</td>\n",
       "      <td>0.614286</td>\n",
       "      <td>0.000000</td>\n",
       "      <td>0.332143</td>\n",
       "      <td>0.000000</td>\n",
       "      <td>4.512500</td>\n",
       "    </tr>\n",
       "    <tr>\n",
       "      <th>A3GALT2</th>\n",
       "      <td>0.000000</td>\n",
       "      <td>0.000000</td>\n",
       "      <td>0.000000</td>\n",
       "      <td>0.000000</td>\n",
       "      <td>0.000000</td>\n",
       "      <td>0.000000</td>\n",
       "      <td>0.000000</td>\n",
       "      <td>0.000000</td>\n",
       "      <td>0.000000</td>\n",
       "      <td>0.069643</td>\n",
       "      <td>...</td>\n",
       "      <td>0.000000</td>\n",
       "      <td>0.000000</td>\n",
       "      <td>0.000000</td>\n",
       "      <td>0.000000</td>\n",
       "      <td>0.000000</td>\n",
       "      <td>0.000000</td>\n",
       "      <td>0.000000</td>\n",
       "      <td>0.000000</td>\n",
       "      <td>0.108929</td>\n",
       "      <td>0.000000</td>\n",
       "    </tr>\n",
       "  </tbody>\n",
       "</table>\n",
       "<p>5 rows × 56 columns</p>\n",
       "</div>"
      ],
      "text/plain": [
       "            A-431      A549        AF22    AN3-CA  ASC TERT1      BEWO  \\\n",
       "A1BG     0.000000  0.191071    0.000000  0.678571   0.830357  0.166071   \n",
       "A1CF     0.000000  0.191071    0.000000  0.000000   0.000000  0.000000   \n",
       "A2M      0.366071  0.000000  739.746429  0.000000  12.926786  1.601786   \n",
       "A2ML1    0.000000  0.000000    0.017857  0.099107   0.000000  1.937500   \n",
       "A3GALT2  0.000000  0.000000    0.000000  0.000000   0.000000  0.000000   \n",
       "\n",
       "                BJ  BJ hTERT+  BJ hTERT+ SV40 Large T+  \\\n",
       "A1BG      0.682143   0.110714                 0.451786   \n",
       "A1CF      0.000000   0.000000                 0.000000   \n",
       "A2M      72.577679  19.237500                 0.075893   \n",
       "A2ML1     0.000000   0.000000                 0.000000   \n",
       "A3GALT2   0.000000   0.000000                 0.000000   \n",
       "\n",
       "         BJ hTERT+ SV40 Large T+ RasG12V    ...       U-2 OS    U-2197  \\\n",
       "A1BG                            0.069643    ...     0.001786  0.000000   \n",
       "A1CF                            0.000000    ...     0.000000  0.000000   \n",
       "A2M                             0.000000    ...     4.555357  1.326786   \n",
       "A2ML1                           0.000000    ...     0.000000  0.000000   \n",
       "A3GALT2                         0.069643    ...     0.000000  0.000000   \n",
       "\n",
       "         U-251 MG  U-266/70  U-266/84     U-698   U-87 MG     U-937  \\\n",
       "A1BG     0.000000  1.926786  1.385714  1.676786  0.000000  0.726786   \n",
       "A1CF     0.000000  0.000000  0.000000  0.000000  0.025000  0.000000   \n",
       "A2M      0.369643  0.504464  0.307143  1.676786  0.103571  0.537500   \n",
       "A2ML1    0.000000  0.000000  0.000000  0.614286  0.000000  0.332143   \n",
       "A3GALT2  0.000000  0.000000  0.000000  0.000000  0.000000  0.000000   \n",
       "\n",
       "            WM-115    hTCEpi  \n",
       "A1BG      0.000000  0.325000  \n",
       "A1CF      0.000000  0.092857  \n",
       "A2M      12.247321  0.000000  \n",
       "A2ML1     0.000000  4.512500  \n",
       "A3GALT2   0.108929  0.000000  \n",
       "\n",
       "[5 rows x 56 columns]"
      ]
     },
     "execution_count": 29,
     "metadata": {},
     "output_type": "execute_result"
    }
   ],
   "source": [
    "normalized_matrix.head()"
   ]
  },
  {
   "cell_type": "markdown",
   "metadata": {},
   "source": [
    "## Nomalize Matrix (z-score the rows)"
   ]
  },
  {
   "cell_type": "code",
   "execution_count": 30,
   "metadata": {},
   "outputs": [
    {
     "name": "stdout",
     "output_type": "stream",
     "text": [
      "Progress: 100%  17661 Out of 17661   \r"
     ]
    }
   ],
   "source": [
    "uf.zscore(normalized_matrix, 'row')"
   ]
  },
  {
   "cell_type": "code",
   "execution_count": 31,
   "metadata": {},
   "outputs": [
    {
     "data": {
      "text/html": [
       "<div>\n",
       "<table border=\"1\" class=\"dataframe\">\n",
       "  <thead>\n",
       "    <tr style=\"text-align: right;\">\n",
       "      <th></th>\n",
       "      <th>A-431</th>\n",
       "      <th>A549</th>\n",
       "      <th>AF22</th>\n",
       "      <th>AN3-CA</th>\n",
       "      <th>ASC TERT1</th>\n",
       "      <th>BEWO</th>\n",
       "      <th>BJ</th>\n",
       "      <th>BJ hTERT+</th>\n",
       "      <th>BJ hTERT+ SV40 Large T+</th>\n",
       "      <th>BJ hTERT+ SV40 Large T+ RasG12V</th>\n",
       "      <th>...</th>\n",
       "      <th>U-2 OS</th>\n",
       "      <th>U-2197</th>\n",
       "      <th>U-251 MG</th>\n",
       "      <th>U-266/70</th>\n",
       "      <th>U-266/84</th>\n",
       "      <th>U-698</th>\n",
       "      <th>U-87 MG</th>\n",
       "      <th>U-937</th>\n",
       "      <th>WM-115</th>\n",
       "      <th>hTCEpi</th>\n",
       "    </tr>\n",
       "  </thead>\n",
       "  <tbody>\n",
       "    <tr>\n",
       "      <th>A1BG</th>\n",
       "      <td>-0.729400</td>\n",
       "      <td>-0.463696</td>\n",
       "      <td>-0.729400</td>\n",
       "      <td>0.214222</td>\n",
       "      <td>0.425295</td>\n",
       "      <td>-0.498461</td>\n",
       "      <td>0.219188</td>\n",
       "      <td>-0.575441</td>\n",
       "      <td>-0.101147</td>\n",
       "      <td>-0.632555</td>\n",
       "      <td>...</td>\n",
       "      <td>-0.726917</td>\n",
       "      <td>-0.729400</td>\n",
       "      <td>-0.729400</td>\n",
       "      <td>1.949988</td>\n",
       "      <td>1.197574</td>\n",
       "      <td>1.602338</td>\n",
       "      <td>-0.729400</td>\n",
       "      <td>0.281268</td>\n",
       "      <td>-0.729400</td>\n",
       "      <td>-0.277455</td>\n",
       "    </tr>\n",
       "    <tr>\n",
       "      <th>A1CF</th>\n",
       "      <td>-0.180744</td>\n",
       "      <td>-0.153027</td>\n",
       "      <td>-0.180744</td>\n",
       "      <td>-0.180744</td>\n",
       "      <td>-0.180744</td>\n",
       "      <td>-0.180744</td>\n",
       "      <td>-0.180744</td>\n",
       "      <td>-0.180744</td>\n",
       "      <td>-0.180744</td>\n",
       "      <td>-0.180744</td>\n",
       "      <td>...</td>\n",
       "      <td>-0.180744</td>\n",
       "      <td>-0.180744</td>\n",
       "      <td>-0.180744</td>\n",
       "      <td>-0.180744</td>\n",
       "      <td>-0.180744</td>\n",
       "      <td>-0.180744</td>\n",
       "      <td>-0.177117</td>\n",
       "      <td>-0.180744</td>\n",
       "      <td>-0.180744</td>\n",
       "      <td>-0.167274</td>\n",
       "    </tr>\n",
       "    <tr>\n",
       "      <th>A2M</th>\n",
       "      <td>-0.228259</td>\n",
       "      <td>-0.231470</td>\n",
       "      <td>6.255525</td>\n",
       "      <td>-0.231470</td>\n",
       "      <td>-0.118112</td>\n",
       "      <td>-0.217423</td>\n",
       "      <td>0.404980</td>\n",
       "      <td>-0.062772</td>\n",
       "      <td>-0.230804</td>\n",
       "      <td>-0.231470</td>\n",
       "      <td>...</td>\n",
       "      <td>-0.191523</td>\n",
       "      <td>-0.219835</td>\n",
       "      <td>-0.228228</td>\n",
       "      <td>-0.227046</td>\n",
       "      <td>-0.228776</td>\n",
       "      <td>-0.216766</td>\n",
       "      <td>-0.230561</td>\n",
       "      <td>-0.226756</td>\n",
       "      <td>-0.124070</td>\n",
       "      <td>-0.231470</td>\n",
       "    </tr>\n",
       "    <tr>\n",
       "      <th>A2ML1</th>\n",
       "      <td>-0.322272</td>\n",
       "      <td>-0.322272</td>\n",
       "      <td>-0.313578</td>\n",
       "      <td>-0.274025</td>\n",
       "      <td>-0.322272</td>\n",
       "      <td>0.620924</td>\n",
       "      <td>-0.322272</td>\n",
       "      <td>-0.322272</td>\n",
       "      <td>-0.322272</td>\n",
       "      <td>-0.322272</td>\n",
       "      <td>...</td>\n",
       "      <td>-0.322272</td>\n",
       "      <td>-0.322272</td>\n",
       "      <td>-0.322272</td>\n",
       "      <td>-0.322272</td>\n",
       "      <td>-0.322272</td>\n",
       "      <td>-0.023231</td>\n",
       "      <td>-0.322272</td>\n",
       "      <td>-0.160581</td>\n",
       "      <td>-0.322272</td>\n",
       "      <td>1.874462</td>\n",
       "    </tr>\n",
       "    <tr>\n",
       "      <th>A3GALT2</th>\n",
       "      <td>-0.210602</td>\n",
       "      <td>-0.210602</td>\n",
       "      <td>-0.210602</td>\n",
       "      <td>-0.210602</td>\n",
       "      <td>-0.210602</td>\n",
       "      <td>-0.210602</td>\n",
       "      <td>-0.210602</td>\n",
       "      <td>-0.210602</td>\n",
       "      <td>-0.210602</td>\n",
       "      <td>0.246155</td>\n",
       "      <td>...</td>\n",
       "      <td>-0.210602</td>\n",
       "      <td>-0.210602</td>\n",
       "      <td>-0.210602</td>\n",
       "      <td>-0.210602</td>\n",
       "      <td>-0.210602</td>\n",
       "      <td>-0.210602</td>\n",
       "      <td>-0.210602</td>\n",
       "      <td>-0.210602</td>\n",
       "      <td>0.503813</td>\n",
       "      <td>-0.210602</td>\n",
       "    </tr>\n",
       "  </tbody>\n",
       "</table>\n",
       "<p>5 rows × 56 columns</p>\n",
       "</div>"
      ],
      "text/plain": [
       "            A-431      A549      AF22    AN3-CA  ASC TERT1      BEWO  \\\n",
       "A1BG    -0.729400 -0.463696 -0.729400  0.214222   0.425295 -0.498461   \n",
       "A1CF    -0.180744 -0.153027 -0.180744 -0.180744  -0.180744 -0.180744   \n",
       "A2M     -0.228259 -0.231470  6.255525 -0.231470  -0.118112 -0.217423   \n",
       "A2ML1   -0.322272 -0.322272 -0.313578 -0.274025  -0.322272  0.620924   \n",
       "A3GALT2 -0.210602 -0.210602 -0.210602 -0.210602  -0.210602 -0.210602   \n",
       "\n",
       "               BJ  BJ hTERT+  BJ hTERT+ SV40 Large T+  \\\n",
       "A1BG     0.219188  -0.575441                -0.101147   \n",
       "A1CF    -0.180744  -0.180744                -0.180744   \n",
       "A2M      0.404980  -0.062772                -0.230804   \n",
       "A2ML1   -0.322272  -0.322272                -0.322272   \n",
       "A3GALT2 -0.210602  -0.210602                -0.210602   \n",
       "\n",
       "         BJ hTERT+ SV40 Large T+ RasG12V    ...       U-2 OS    U-2197  \\\n",
       "A1BG                           -0.632555    ...    -0.726917 -0.729400   \n",
       "A1CF                           -0.180744    ...    -0.180744 -0.180744   \n",
       "A2M                            -0.231470    ...    -0.191523 -0.219835   \n",
       "A2ML1                          -0.322272    ...    -0.322272 -0.322272   \n",
       "A3GALT2                         0.246155    ...    -0.210602 -0.210602   \n",
       "\n",
       "         U-251 MG  U-266/70  U-266/84     U-698   U-87 MG     U-937    WM-115  \\\n",
       "A1BG    -0.729400  1.949988  1.197574  1.602338 -0.729400  0.281268 -0.729400   \n",
       "A1CF    -0.180744 -0.180744 -0.180744 -0.180744 -0.177117 -0.180744 -0.180744   \n",
       "A2M     -0.228228 -0.227046 -0.228776 -0.216766 -0.230561 -0.226756 -0.124070   \n",
       "A2ML1   -0.322272 -0.322272 -0.322272 -0.023231 -0.322272 -0.160581 -0.322272   \n",
       "A3GALT2 -0.210602 -0.210602 -0.210602 -0.210602 -0.210602 -0.210602  0.503813   \n",
       "\n",
       "           hTCEpi  \n",
       "A1BG    -0.277455  \n",
       "A1CF    -0.167274  \n",
       "A2M     -0.231470  \n",
       "A2ML1    1.874462  \n",
       "A3GALT2 -0.210602  \n",
       "\n",
       "[5 rows x 56 columns]"
      ]
     },
     "execution_count": 31,
     "metadata": {},
     "output_type": "execute_result"
    }
   ],
   "source": [
    "normalized_matrix.head()"
   ]
  },
  {
   "cell_type": "markdown",
   "metadata": {},
   "source": [
    "## Save Filtered Sample Matrix To File"
   ]
  },
  {
   "cell_type": "code",
   "execution_count": 32,
   "metadata": {
    "collapsed": true
   },
   "outputs": [],
   "source": [
    "filename = '~/./Documents/Harmonizome/The_Human_Protaein_Atlas/Output/thpa_rns-seq_celline_matrix_filltered_%s.tsv.zip'% str(datetime.date.today())[0:7].replace('-', '_')\n",
    "normalized_matrix.to_csv(filename, sep='\\t', compression='gzip')"
   ]
  },
  {
   "cell_type": "markdown",
   "metadata": {},
   "source": [
    "# Create Tertiary Matrix"
   ]
  },
  {
   "cell_type": "code",
   "execution_count": 33,
   "metadata": {},
   "outputs": [
    {
     "name": "stdout",
     "output_type": "stream",
     "text": [
      "Progeres: 100%  56 Out of 56   \r"
     ]
    }
   ],
   "source": [
    "tertiary_matrix = uf.createTertiaryMarix(normalized_matrix)"
   ]
  },
  {
   "cell_type": "code",
   "execution_count": 34,
   "metadata": {},
   "outputs": [
    {
     "data": {
      "text/html": [
       "<div>\n",
       "<table border=\"1\" class=\"dataframe\">\n",
       "  <thead>\n",
       "    <tr style=\"text-align: right;\">\n",
       "      <th></th>\n",
       "      <th>A-431</th>\n",
       "      <th>A549</th>\n",
       "      <th>AF22</th>\n",
       "      <th>AN3-CA</th>\n",
       "      <th>ASC TERT1</th>\n",
       "      <th>BEWO</th>\n",
       "      <th>BJ</th>\n",
       "      <th>BJ hTERT+</th>\n",
       "      <th>BJ hTERT+ SV40 Large T+</th>\n",
       "      <th>BJ hTERT+ SV40 Large T+ RasG12V</th>\n",
       "      <th>...</th>\n",
       "      <th>U-2 OS</th>\n",
       "      <th>U-2197</th>\n",
       "      <th>U-251 MG</th>\n",
       "      <th>U-266/70</th>\n",
       "      <th>U-266/84</th>\n",
       "      <th>U-698</th>\n",
       "      <th>U-87 MG</th>\n",
       "      <th>U-937</th>\n",
       "      <th>WM-115</th>\n",
       "      <th>hTCEpi</th>\n",
       "    </tr>\n",
       "  </thead>\n",
       "  <tbody>\n",
       "    <tr>\n",
       "      <th>A1BG</th>\n",
       "      <td>0.0</td>\n",
       "      <td>0.0</td>\n",
       "      <td>0.0</td>\n",
       "      <td>0.0</td>\n",
       "      <td>0.0</td>\n",
       "      <td>0.0</td>\n",
       "      <td>0.0</td>\n",
       "      <td>0.0</td>\n",
       "      <td>0.0</td>\n",
       "      <td>0.0</td>\n",
       "      <td>...</td>\n",
       "      <td>0.0</td>\n",
       "      <td>0.0</td>\n",
       "      <td>-1.0</td>\n",
       "      <td>1.0</td>\n",
       "      <td>0.0</td>\n",
       "      <td>1.0</td>\n",
       "      <td>0.0</td>\n",
       "      <td>0.0</td>\n",
       "      <td>0.0</td>\n",
       "      <td>0.0</td>\n",
       "    </tr>\n",
       "    <tr>\n",
       "      <th>A1CF</th>\n",
       "      <td>0.0</td>\n",
       "      <td>0.0</td>\n",
       "      <td>0.0</td>\n",
       "      <td>0.0</td>\n",
       "      <td>0.0</td>\n",
       "      <td>0.0</td>\n",
       "      <td>0.0</td>\n",
       "      <td>0.0</td>\n",
       "      <td>0.0</td>\n",
       "      <td>0.0</td>\n",
       "      <td>...</td>\n",
       "      <td>0.0</td>\n",
       "      <td>0.0</td>\n",
       "      <td>0.0</td>\n",
       "      <td>0.0</td>\n",
       "      <td>0.0</td>\n",
       "      <td>0.0</td>\n",
       "      <td>0.0</td>\n",
       "      <td>0.0</td>\n",
       "      <td>0.0</td>\n",
       "      <td>0.0</td>\n",
       "    </tr>\n",
       "    <tr>\n",
       "      <th>A2M</th>\n",
       "      <td>0.0</td>\n",
       "      <td>0.0</td>\n",
       "      <td>1.0</td>\n",
       "      <td>0.0</td>\n",
       "      <td>0.0</td>\n",
       "      <td>0.0</td>\n",
       "      <td>0.0</td>\n",
       "      <td>0.0</td>\n",
       "      <td>0.0</td>\n",
       "      <td>0.0</td>\n",
       "      <td>...</td>\n",
       "      <td>0.0</td>\n",
       "      <td>0.0</td>\n",
       "      <td>0.0</td>\n",
       "      <td>0.0</td>\n",
       "      <td>0.0</td>\n",
       "      <td>0.0</td>\n",
       "      <td>0.0</td>\n",
       "      <td>0.0</td>\n",
       "      <td>0.0</td>\n",
       "      <td>0.0</td>\n",
       "    </tr>\n",
       "    <tr>\n",
       "      <th>A2ML1</th>\n",
       "      <td>0.0</td>\n",
       "      <td>0.0</td>\n",
       "      <td>0.0</td>\n",
       "      <td>0.0</td>\n",
       "      <td>0.0</td>\n",
       "      <td>0.0</td>\n",
       "      <td>0.0</td>\n",
       "      <td>0.0</td>\n",
       "      <td>0.0</td>\n",
       "      <td>0.0</td>\n",
       "      <td>...</td>\n",
       "      <td>0.0</td>\n",
       "      <td>0.0</td>\n",
       "      <td>0.0</td>\n",
       "      <td>0.0</td>\n",
       "      <td>0.0</td>\n",
       "      <td>0.0</td>\n",
       "      <td>0.0</td>\n",
       "      <td>0.0</td>\n",
       "      <td>0.0</td>\n",
       "      <td>1.0</td>\n",
       "    </tr>\n",
       "    <tr>\n",
       "      <th>A3GALT2</th>\n",
       "      <td>0.0</td>\n",
       "      <td>0.0</td>\n",
       "      <td>0.0</td>\n",
       "      <td>0.0</td>\n",
       "      <td>0.0</td>\n",
       "      <td>0.0</td>\n",
       "      <td>0.0</td>\n",
       "      <td>0.0</td>\n",
       "      <td>0.0</td>\n",
       "      <td>0.0</td>\n",
       "      <td>...</td>\n",
       "      <td>0.0</td>\n",
       "      <td>0.0</td>\n",
       "      <td>0.0</td>\n",
       "      <td>0.0</td>\n",
       "      <td>0.0</td>\n",
       "      <td>0.0</td>\n",
       "      <td>0.0</td>\n",
       "      <td>0.0</td>\n",
       "      <td>0.0</td>\n",
       "      <td>0.0</td>\n",
       "    </tr>\n",
       "  </tbody>\n",
       "</table>\n",
       "<p>5 rows × 56 columns</p>\n",
       "</div>"
      ],
      "text/plain": [
       "         A-431  A549  AF22  AN3-CA  ASC TERT1  BEWO   BJ  BJ hTERT+  \\\n",
       "A1BG       0.0   0.0   0.0     0.0        0.0   0.0  0.0        0.0   \n",
       "A1CF       0.0   0.0   0.0     0.0        0.0   0.0  0.0        0.0   \n",
       "A2M        0.0   0.0   1.0     0.0        0.0   0.0  0.0        0.0   \n",
       "A2ML1      0.0   0.0   0.0     0.0        0.0   0.0  0.0        0.0   \n",
       "A3GALT2    0.0   0.0   0.0     0.0        0.0   0.0  0.0        0.0   \n",
       "\n",
       "         BJ hTERT+ SV40 Large T+  BJ hTERT+ SV40 Large T+ RasG12V   ...    \\\n",
       "A1BG                         0.0                              0.0   ...     \n",
       "A1CF                         0.0                              0.0   ...     \n",
       "A2M                          0.0                              0.0   ...     \n",
       "A2ML1                        0.0                              0.0   ...     \n",
       "A3GALT2                      0.0                              0.0   ...     \n",
       "\n",
       "         U-2 OS  U-2197  U-251 MG  U-266/70  U-266/84  U-698  U-87 MG  U-937  \\\n",
       "A1BG        0.0     0.0      -1.0       1.0       0.0    1.0      0.0    0.0   \n",
       "A1CF        0.0     0.0       0.0       0.0       0.0    0.0      0.0    0.0   \n",
       "A2M         0.0     0.0       0.0       0.0       0.0    0.0      0.0    0.0   \n",
       "A2ML1       0.0     0.0       0.0       0.0       0.0    0.0      0.0    0.0   \n",
       "A3GALT2     0.0     0.0       0.0       0.0       0.0    0.0      0.0    0.0   \n",
       "\n",
       "         WM-115  hTCEpi  \n",
       "A1BG        0.0     0.0  \n",
       "A1CF        0.0     0.0  \n",
       "A2M         0.0     0.0  \n",
       "A2ML1       0.0     1.0  \n",
       "A3GALT2     0.0     0.0  \n",
       "\n",
       "[5 rows x 56 columns]"
      ]
     },
     "execution_count": 34,
     "metadata": {},
     "output_type": "execute_result"
    }
   ],
   "source": [
    "tertiary_matrix.head()"
   ]
  },
  {
   "cell_type": "markdown",
   "metadata": {},
   "source": [
    "## Save Teriary Matrix"
   ]
  },
  {
   "cell_type": "code",
   "execution_count": 35,
   "metadata": {
    "collapsed": true
   },
   "outputs": [],
   "source": [
    "filename = '~/./Documents/Harmonizome/The_Human_Protaein_Atlas/Output/thpa_rns-seq_celline_tertiary_matrix_%s.tsv.zip'% str(datetime.date.today())[0:7].replace('-', '_')\n",
    "tertiary_matrix.to_csv(filename, sep='\\t', compression='gzip')"
   ]
  },
  {
   "cell_type": "markdown",
   "metadata": {},
   "source": [
    "#### Path to output files"
   ]
  },
  {
   "cell_type": "code",
   "execution_count": 38,
   "metadata": {
    "collapsed": true
   },
   "outputs": [],
   "source": [
    "path = '/Users/moshesilverstein/Documents/Harmonizome/The_Human_Protaein_Atlas/Output/'"
   ]
  },
  {
   "cell_type": "markdown",
   "metadata": {},
   "source": [
    "# Create Up Gene Set Library"
   ]
  },
  {
   "cell_type": "code",
   "execution_count": 39,
   "metadata": {
    "collapsed": true
   },
   "outputs": [],
   "source": [
    "name = 'thpa_rns-seq_celline_gene_up_set'"
   ]
  },
  {
   "cell_type": "code",
   "execution_count": 40,
   "metadata": {},
   "outputs": [
    {
     "name": "stdout",
     "output_type": "stream",
     "text": [
      "Progeres: 100%  56 Out of 56   \r"
     ]
    }
   ],
   "source": [
    "uf.createUpGeneSetLib(tertiary_matrix, path, name)"
   ]
  },
  {
   "cell_type": "markdown",
   "metadata": {},
   "source": [
    "# Create Down Gene Set Library"
   ]
  },
  {
   "cell_type": "code",
   "execution_count": 41,
   "metadata": {
    "collapsed": true
   },
   "outputs": [],
   "source": [
    "name = 'thpa_rns-seq_celline_gene_down_set'"
   ]
  },
  {
   "cell_type": "code",
   "execution_count": 42,
   "metadata": {},
   "outputs": [
    {
     "name": "stdout",
     "output_type": "stream",
     "text": [
      "Progeres: 100%  56 Out of 56   \r"
     ]
    }
   ],
   "source": [
    "uf.createDownGeneSetLib(tertiary_matrix, path, name)"
   ]
  },
  {
   "cell_type": "markdown",
   "metadata": {},
   "source": [
    "# Create Up Attribute Library"
   ]
  },
  {
   "cell_type": "code",
   "execution_count": 43,
   "metadata": {
    "collapsed": true
   },
   "outputs": [],
   "source": [
    "name = 'thpa_rns-seq_celline_attribute_up_set'"
   ]
  },
  {
   "cell_type": "code",
   "execution_count": 44,
   "metadata": {},
   "outputs": [
    {
     "name": "stdout",
     "output_type": "stream",
     "text": [
      "Progeres: 100%  17661 Out of 17661   \r"
     ]
    }
   ],
   "source": [
    "uf.createUpAttributeSetLib(tertiary_matrix, path, name)"
   ]
  },
  {
   "cell_type": "markdown",
   "metadata": {},
   "source": [
    "# Create Down Attribute Library"
   ]
  },
  {
   "cell_type": "code",
   "execution_count": 45,
   "metadata": {
    "collapsed": true
   },
   "outputs": [],
   "source": [
    "name = 'thpa_rns-seq_celline_attribute_down_set'"
   ]
  },
  {
   "cell_type": "code",
   "execution_count": 46,
   "metadata": {},
   "outputs": [
    {
     "name": "stdout",
     "output_type": "stream",
     "text": [
      "Progeres: 100%  17661 Out of 17661   \r"
     ]
    }
   ],
   "source": [
    "uf.createDownAttributeSetLib(tertiary_matrix, path, name)"
   ]
  },
  {
   "cell_type": "markdown",
   "metadata": {},
   "source": [
    "# Create Gene Similarity Matrix"
   ]
  },
  {
   "cell_type": "code",
   "execution_count": 47,
   "metadata": {
    "collapsed": true
   },
   "outputs": [],
   "source": [
    "gene_similarity_matix = uf.createSimilarityMatrix(normalized_matrix, 'cosine')"
   ]
  },
  {
   "cell_type": "code",
   "execution_count": 48,
   "metadata": {},
   "outputs": [
    {
     "data": {
      "text/html": [
       "<div>\n",
       "<table border=\"1\" class=\"dataframe\">\n",
       "  <thead>\n",
       "    <tr style=\"text-align: right;\">\n",
       "      <th></th>\n",
       "      <th>A1BG</th>\n",
       "      <th>A1CF</th>\n",
       "      <th>A2M</th>\n",
       "      <th>A2ML1</th>\n",
       "      <th>A3GALT2</th>\n",
       "      <th>A4GALT</th>\n",
       "      <th>A4GNT</th>\n",
       "      <th>AAAS</th>\n",
       "      <th>AACS</th>\n",
       "      <th>AADAC</th>\n",
       "      <th>...</th>\n",
       "      <th>ZWILCH</th>\n",
       "      <th>ZWINT</th>\n",
       "      <th>ZXDA</th>\n",
       "      <th>ZXDB</th>\n",
       "      <th>ZXDC</th>\n",
       "      <th>ZYG11A</th>\n",
       "      <th>ZYG11B</th>\n",
       "      <th>ZYX</th>\n",
       "      <th>ZZEF1</th>\n",
       "      <th>ZZZ3</th>\n",
       "    </tr>\n",
       "  </thead>\n",
       "  <tbody>\n",
       "    <tr>\n",
       "      <th>A1BG</th>\n",
       "      <td>1.000000</td>\n",
       "      <td>0.230514</td>\n",
       "      <td>0.047891</td>\n",
       "      <td>-0.094039</td>\n",
       "      <td>-0.123331</td>\n",
       "      <td>-0.124704</td>\n",
       "      <td>-0.046527</td>\n",
       "      <td>0.269843</td>\n",
       "      <td>-0.161666</td>\n",
       "      <td>-0.070901</td>\n",
       "      <td>...</td>\n",
       "      <td>0.011945</td>\n",
       "      <td>-0.001775</td>\n",
       "      <td>0.262509</td>\n",
       "      <td>-0.020377</td>\n",
       "      <td>0.088469</td>\n",
       "      <td>-0.053963</td>\n",
       "      <td>0.001215</td>\n",
       "      <td>-0.365767</td>\n",
       "      <td>-0.024233</td>\n",
       "      <td>0.082767</td>\n",
       "    </tr>\n",
       "    <tr>\n",
       "      <th>A1CF</th>\n",
       "      <td>0.230514</td>\n",
       "      <td>1.000000</td>\n",
       "      <td>0.415067</td>\n",
       "      <td>-0.050012</td>\n",
       "      <td>-0.038029</td>\n",
       "      <td>-0.090252</td>\n",
       "      <td>-0.062236</td>\n",
       "      <td>0.048740</td>\n",
       "      <td>0.173641</td>\n",
       "      <td>0.003305</td>\n",
       "      <td>...</td>\n",
       "      <td>-0.141371</td>\n",
       "      <td>0.087757</td>\n",
       "      <td>-0.218915</td>\n",
       "      <td>-0.016469</td>\n",
       "      <td>-0.098952</td>\n",
       "      <td>-0.128934</td>\n",
       "      <td>-0.194005</td>\n",
       "      <td>-0.044486</td>\n",
       "      <td>-0.127149</td>\n",
       "      <td>-0.198688</td>\n",
       "    </tr>\n",
       "    <tr>\n",
       "      <th>A2M</th>\n",
       "      <td>0.047891</td>\n",
       "      <td>0.415067</td>\n",
       "      <td>1.000000</td>\n",
       "      <td>-0.068652</td>\n",
       "      <td>-0.039276</td>\n",
       "      <td>-0.138287</td>\n",
       "      <td>-0.009846</td>\n",
       "      <td>0.111951</td>\n",
       "      <td>-0.105327</td>\n",
       "      <td>-0.061735</td>\n",
       "      <td>...</td>\n",
       "      <td>0.025845</td>\n",
       "      <td>-0.064216</td>\n",
       "      <td>-0.207419</td>\n",
       "      <td>-0.067706</td>\n",
       "      <td>-0.093036</td>\n",
       "      <td>-0.148546</td>\n",
       "      <td>-0.050817</td>\n",
       "      <td>-0.093691</td>\n",
       "      <td>-0.182721</td>\n",
       "      <td>-0.014994</td>\n",
       "    </tr>\n",
       "    <tr>\n",
       "      <th>A2ML1</th>\n",
       "      <td>-0.094039</td>\n",
       "      <td>-0.050012</td>\n",
       "      <td>-0.068652</td>\n",
       "      <td>1.000000</td>\n",
       "      <td>-0.069105</td>\n",
       "      <td>-0.146525</td>\n",
       "      <td>-0.110010</td>\n",
       "      <td>-0.062270</td>\n",
       "      <td>0.027381</td>\n",
       "      <td>-0.071883</td>\n",
       "      <td>...</td>\n",
       "      <td>-0.172560</td>\n",
       "      <td>0.183031</td>\n",
       "      <td>-0.046284</td>\n",
       "      <td>0.193202</td>\n",
       "      <td>0.166475</td>\n",
       "      <td>-0.136579</td>\n",
       "      <td>0.004915</td>\n",
       "      <td>0.071534</td>\n",
       "      <td>0.139083</td>\n",
       "      <td>-0.118003</td>\n",
       "    </tr>\n",
       "    <tr>\n",
       "      <th>A3GALT2</th>\n",
       "      <td>-0.123331</td>\n",
       "      <td>-0.038029</td>\n",
       "      <td>-0.039276</td>\n",
       "      <td>-0.069105</td>\n",
       "      <td>1.000000</td>\n",
       "      <td>0.297305</td>\n",
       "      <td>-0.059251</td>\n",
       "      <td>-0.206715</td>\n",
       "      <td>-0.005500</td>\n",
       "      <td>-0.053044</td>\n",
       "      <td>...</td>\n",
       "      <td>0.051296</td>\n",
       "      <td>0.033872</td>\n",
       "      <td>-0.016007</td>\n",
       "      <td>0.031776</td>\n",
       "      <td>-0.037851</td>\n",
       "      <td>0.513852</td>\n",
       "      <td>0.203847</td>\n",
       "      <td>-0.004204</td>\n",
       "      <td>0.188142</td>\n",
       "      <td>-0.081822</td>\n",
       "    </tr>\n",
       "  </tbody>\n",
       "</table>\n",
       "<p>5 rows × 17661 columns</p>\n",
       "</div>"
      ],
      "text/plain": [
       "             A1BG      A1CF       A2M     A2ML1   A3GALT2    A4GALT     A4GNT  \\\n",
       "A1BG     1.000000  0.230514  0.047891 -0.094039 -0.123331 -0.124704 -0.046527   \n",
       "A1CF     0.230514  1.000000  0.415067 -0.050012 -0.038029 -0.090252 -0.062236   \n",
       "A2M      0.047891  0.415067  1.000000 -0.068652 -0.039276 -0.138287 -0.009846   \n",
       "A2ML1   -0.094039 -0.050012 -0.068652  1.000000 -0.069105 -0.146525 -0.110010   \n",
       "A3GALT2 -0.123331 -0.038029 -0.039276 -0.069105  1.000000  0.297305 -0.059251   \n",
       "\n",
       "             AAAS      AACS     AADAC    ...       ZWILCH     ZWINT      ZXDA  \\\n",
       "A1BG     0.269843 -0.161666 -0.070901    ...     0.011945 -0.001775  0.262509   \n",
       "A1CF     0.048740  0.173641  0.003305    ...    -0.141371  0.087757 -0.218915   \n",
       "A2M      0.111951 -0.105327 -0.061735    ...     0.025845 -0.064216 -0.207419   \n",
       "A2ML1   -0.062270  0.027381 -0.071883    ...    -0.172560  0.183031 -0.046284   \n",
       "A3GALT2 -0.206715 -0.005500 -0.053044    ...     0.051296  0.033872 -0.016007   \n",
       "\n",
       "             ZXDB      ZXDC    ZYG11A    ZYG11B       ZYX     ZZEF1      ZZZ3  \n",
       "A1BG    -0.020377  0.088469 -0.053963  0.001215 -0.365767 -0.024233  0.082767  \n",
       "A1CF    -0.016469 -0.098952 -0.128934 -0.194005 -0.044486 -0.127149 -0.198688  \n",
       "A2M     -0.067706 -0.093036 -0.148546 -0.050817 -0.093691 -0.182721 -0.014994  \n",
       "A2ML1    0.193202  0.166475 -0.136579  0.004915  0.071534  0.139083 -0.118003  \n",
       "A3GALT2  0.031776 -0.037851  0.513852  0.203847 -0.004204  0.188142 -0.081822  \n",
       "\n",
       "[5 rows x 17661 columns]"
      ]
     },
     "execution_count": 48,
     "metadata": {},
     "output_type": "execute_result"
    }
   ],
   "source": [
    "gene_similarity_matix.head()"
   ]
  },
  {
   "cell_type": "markdown",
   "metadata": {},
   "source": [
    "## Save Gene Similarity Matrix "
   ]
  },
  {
   "cell_type": "code",
   "execution_count": 49,
   "metadata": {
    "collapsed": true
   },
   "outputs": [],
   "source": [
    "filename = '~/./Documents/Harmonizome/The_Human_Protaein_Atlas/Output/thpa_rns-seq_celline_gene_similarity_matix_%s.tsv.zip'% str(datetime.date.today())[0:7].replace('-', '_')\n",
    "gene_similarity_matix.to_csv(filename, sep='\\t', compression='gzip')"
   ]
  },
  {
   "cell_type": "markdown",
   "metadata": {},
   "source": [
    "# Create Attribute Similarity matrix"
   ]
  },
  {
   "cell_type": "code",
   "execution_count": 50,
   "metadata": {
    "collapsed": true
   },
   "outputs": [],
   "source": [
    "attribute_similarity_matix = uf.createSimilarityMatrix(normalized_matrix.T, 'cosine')"
   ]
  },
  {
   "cell_type": "code",
   "execution_count": 51,
   "metadata": {},
   "outputs": [
    {
     "data": {
      "text/html": [
       "<div>\n",
       "<table border=\"1\" class=\"dataframe\">\n",
       "  <thead>\n",
       "    <tr style=\"text-align: right;\">\n",
       "      <th></th>\n",
       "      <th>A-431</th>\n",
       "      <th>A549</th>\n",
       "      <th>AF22</th>\n",
       "      <th>AN3-CA</th>\n",
       "      <th>ASC TERT1</th>\n",
       "      <th>BEWO</th>\n",
       "      <th>BJ</th>\n",
       "      <th>BJ hTERT+</th>\n",
       "      <th>BJ hTERT+ SV40 Large T+</th>\n",
       "      <th>BJ hTERT+ SV40 Large T+ RasG12V</th>\n",
       "      <th>...</th>\n",
       "      <th>U-2 OS</th>\n",
       "      <th>U-2197</th>\n",
       "      <th>U-251 MG</th>\n",
       "      <th>U-266/70</th>\n",
       "      <th>U-266/84</th>\n",
       "      <th>U-698</th>\n",
       "      <th>U-87 MG</th>\n",
       "      <th>U-937</th>\n",
       "      <th>WM-115</th>\n",
       "      <th>hTCEpi</th>\n",
       "    </tr>\n",
       "  </thead>\n",
       "  <tbody>\n",
       "    <tr>\n",
       "      <th>A-431</th>\n",
       "      <td>1.000000</td>\n",
       "      <td>0.074400</td>\n",
       "      <td>-0.120655</td>\n",
       "      <td>-0.098246</td>\n",
       "      <td>-0.086512</td>\n",
       "      <td>0.010300</td>\n",
       "      <td>0.060564</td>\n",
       "      <td>-0.013224</td>\n",
       "      <td>0.031058</td>\n",
       "      <td>0.032305</td>\n",
       "      <td>...</td>\n",
       "      <td>0.127012</td>\n",
       "      <td>0.031239</td>\n",
       "      <td>0.131999</td>\n",
       "      <td>-0.074573</td>\n",
       "      <td>-0.099898</td>\n",
       "      <td>-0.091456</td>\n",
       "      <td>0.045699</td>\n",
       "      <td>-0.066281</td>\n",
       "      <td>-0.005947</td>\n",
       "      <td>0.036166</td>\n",
       "    </tr>\n",
       "    <tr>\n",
       "      <th>A549</th>\n",
       "      <td>0.074400</td>\n",
       "      <td>1.000000</td>\n",
       "      <td>-0.093416</td>\n",
       "      <td>-0.006041</td>\n",
       "      <td>-0.086017</td>\n",
       "      <td>-0.020767</td>\n",
       "      <td>-0.034442</td>\n",
       "      <td>-0.031651</td>\n",
       "      <td>0.014393</td>\n",
       "      <td>-0.054995</td>\n",
       "      <td>...</td>\n",
       "      <td>0.080486</td>\n",
       "      <td>-0.004982</td>\n",
       "      <td>0.030098</td>\n",
       "      <td>-0.093920</td>\n",
       "      <td>-0.083534</td>\n",
       "      <td>-0.172662</td>\n",
       "      <td>0.058314</td>\n",
       "      <td>-0.138416</td>\n",
       "      <td>0.004580</td>\n",
       "      <td>-0.028780</td>\n",
       "    </tr>\n",
       "    <tr>\n",
       "      <th>AF22</th>\n",
       "      <td>-0.120655</td>\n",
       "      <td>-0.093416</td>\n",
       "      <td>1.000000</td>\n",
       "      <td>0.128882</td>\n",
       "      <td>0.035739</td>\n",
       "      <td>-0.020388</td>\n",
       "      <td>-0.010517</td>\n",
       "      <td>-0.006526</td>\n",
       "      <td>0.026108</td>\n",
       "      <td>0.055879</td>\n",
       "      <td>...</td>\n",
       "      <td>0.056144</td>\n",
       "      <td>-0.087218</td>\n",
       "      <td>-0.026634</td>\n",
       "      <td>-0.114501</td>\n",
       "      <td>-0.094850</td>\n",
       "      <td>-0.009274</td>\n",
       "      <td>-0.074473</td>\n",
       "      <td>-0.115005</td>\n",
       "      <td>0.058365</td>\n",
       "      <td>-0.088594</td>\n",
       "    </tr>\n",
       "    <tr>\n",
       "      <th>AN3-CA</th>\n",
       "      <td>-0.098246</td>\n",
       "      <td>-0.006041</td>\n",
       "      <td>0.128882</td>\n",
       "      <td>1.000000</td>\n",
       "      <td>-0.010268</td>\n",
       "      <td>-0.030105</td>\n",
       "      <td>-0.082899</td>\n",
       "      <td>-0.041662</td>\n",
       "      <td>-0.051659</td>\n",
       "      <td>-0.021667</td>\n",
       "      <td>...</td>\n",
       "      <td>-0.014404</td>\n",
       "      <td>-0.028329</td>\n",
       "      <td>-0.042906</td>\n",
       "      <td>-0.047654</td>\n",
       "      <td>-0.023439</td>\n",
       "      <td>-0.039035</td>\n",
       "      <td>-0.047286</td>\n",
       "      <td>-0.023980</td>\n",
       "      <td>0.001132</td>\n",
       "      <td>-0.034882</td>\n",
       "    </tr>\n",
       "    <tr>\n",
       "      <th>ASC TERT1</th>\n",
       "      <td>-0.086512</td>\n",
       "      <td>-0.086017</td>\n",
       "      <td>0.035739</td>\n",
       "      <td>-0.010268</td>\n",
       "      <td>1.000000</td>\n",
       "      <td>-0.084819</td>\n",
       "      <td>0.266065</td>\n",
       "      <td>0.434378</td>\n",
       "      <td>0.060453</td>\n",
       "      <td>0.179448</td>\n",
       "      <td>...</td>\n",
       "      <td>-0.103610</td>\n",
       "      <td>0.145279</td>\n",
       "      <td>-0.113159</td>\n",
       "      <td>-0.063952</td>\n",
       "      <td>-0.123624</td>\n",
       "      <td>-0.196939</td>\n",
       "      <td>0.240947</td>\n",
       "      <td>-0.121041</td>\n",
       "      <td>0.053257</td>\n",
       "      <td>0.196099</td>\n",
       "    </tr>\n",
       "  </tbody>\n",
       "</table>\n",
       "<p>5 rows × 56 columns</p>\n",
       "</div>"
      ],
      "text/plain": [
       "              A-431      A549      AF22    AN3-CA  ASC TERT1      BEWO  \\\n",
       "A-431      1.000000  0.074400 -0.120655 -0.098246  -0.086512  0.010300   \n",
       "A549       0.074400  1.000000 -0.093416 -0.006041  -0.086017 -0.020767   \n",
       "AF22      -0.120655 -0.093416  1.000000  0.128882   0.035739 -0.020388   \n",
       "AN3-CA    -0.098246 -0.006041  0.128882  1.000000  -0.010268 -0.030105   \n",
       "ASC TERT1 -0.086512 -0.086017  0.035739 -0.010268   1.000000 -0.084819   \n",
       "\n",
       "                 BJ  BJ hTERT+  BJ hTERT+ SV40 Large T+  \\\n",
       "A-431      0.060564  -0.013224                 0.031058   \n",
       "A549      -0.034442  -0.031651                 0.014393   \n",
       "AF22      -0.010517  -0.006526                 0.026108   \n",
       "AN3-CA    -0.082899  -0.041662                -0.051659   \n",
       "ASC TERT1  0.266065   0.434378                 0.060453   \n",
       "\n",
       "           BJ hTERT+ SV40 Large T+ RasG12V    ...       U-2 OS    U-2197  \\\n",
       "A-431                             0.032305    ...     0.127012  0.031239   \n",
       "A549                             -0.054995    ...     0.080486 -0.004982   \n",
       "AF22                              0.055879    ...     0.056144 -0.087218   \n",
       "AN3-CA                           -0.021667    ...    -0.014404 -0.028329   \n",
       "ASC TERT1                         0.179448    ...    -0.103610  0.145279   \n",
       "\n",
       "           U-251 MG  U-266/70  U-266/84     U-698   U-87 MG     U-937  \\\n",
       "A-431      0.131999 -0.074573 -0.099898 -0.091456  0.045699 -0.066281   \n",
       "A549       0.030098 -0.093920 -0.083534 -0.172662  0.058314 -0.138416   \n",
       "AF22      -0.026634 -0.114501 -0.094850 -0.009274 -0.074473 -0.115005   \n",
       "AN3-CA    -0.042906 -0.047654 -0.023439 -0.039035 -0.047286 -0.023980   \n",
       "ASC TERT1 -0.113159 -0.063952 -0.123624 -0.196939  0.240947 -0.121041   \n",
       "\n",
       "             WM-115    hTCEpi  \n",
       "A-431     -0.005947  0.036166  \n",
       "A549       0.004580 -0.028780  \n",
       "AF22       0.058365 -0.088594  \n",
       "AN3-CA     0.001132 -0.034882  \n",
       "ASC TERT1  0.053257  0.196099  \n",
       "\n",
       "[5 rows x 56 columns]"
      ]
     },
     "execution_count": 51,
     "metadata": {},
     "output_type": "execute_result"
    }
   ],
   "source": [
    "attribute_similarity_matix.head()"
   ]
  },
  {
   "cell_type": "markdown",
   "metadata": {},
   "source": [
    "## Save Attribute Similarity Matrix"
   ]
  },
  {
   "cell_type": "code",
   "execution_count": 52,
   "metadata": {
    "collapsed": true
   },
   "outputs": [],
   "source": [
    "filename = '~/./Documents/Harmonizome/The_Human_Protaein_Atlas/Output/thpa_rns-seq_celline_attribute_similarity_matix_%s.tsv.zip'% str(datetime.date.today())[0:7].replace('-', '_')\n",
    "attribute_similarity_matix.to_csv(filename, sep='\\t', compression='gzip')"
   ]
  },
  {
   "cell_type": "markdown",
   "metadata": {},
   "source": [
    "# Create Gene List"
   ]
  },
  {
   "cell_type": "code",
   "execution_count": 53,
   "metadata": {},
   "outputs": [
    {
     "name": "stdout",
     "output_type": "stream",
     "text": [
      "Progeres: 100%  17661 Out of 17661   \r"
     ]
    }
   ],
   "source": [
    "gene_list = uf.createGeneList(normalized_matrix)"
   ]
  },
  {
   "cell_type": "code",
   "execution_count": 54,
   "metadata": {},
   "outputs": [
    {
     "data": {
      "text/html": [
       "<div>\n",
       "<table border=\"1\" class=\"dataframe\">\n",
       "  <thead>\n",
       "    <tr style=\"text-align: right;\">\n",
       "      <th></th>\n",
       "      <th>GeneSym</th>\n",
       "      <th>GeneID</th>\n",
       "    </tr>\n",
       "  </thead>\n",
       "  <tbody>\n",
       "    <tr>\n",
       "      <th>0</th>\n",
       "      <td>A1BG</td>\n",
       "      <td>1</td>\n",
       "    </tr>\n",
       "    <tr>\n",
       "      <th>1</th>\n",
       "      <td>A1CF</td>\n",
       "      <td>29974</td>\n",
       "    </tr>\n",
       "    <tr>\n",
       "      <th>2</th>\n",
       "      <td>A2M</td>\n",
       "      <td>2</td>\n",
       "    </tr>\n",
       "    <tr>\n",
       "      <th>3</th>\n",
       "      <td>A2ML1</td>\n",
       "      <td>144568</td>\n",
       "    </tr>\n",
       "    <tr>\n",
       "      <th>4</th>\n",
       "      <td>A3GALT2</td>\n",
       "      <td>127550</td>\n",
       "    </tr>\n",
       "  </tbody>\n",
       "</table>\n",
       "</div>"
      ],
      "text/plain": [
       "   GeneSym  GeneID\n",
       "0     A1BG       1\n",
       "1     A1CF   29974\n",
       "2      A2M       2\n",
       "3    A2ML1  144568\n",
       "4  A3GALT2  127550"
      ]
     },
     "execution_count": 54,
     "metadata": {},
     "output_type": "execute_result"
    }
   ],
   "source": [
    "gene_list.head()"
   ]
  },
  {
   "cell_type": "code",
   "execution_count": 55,
   "metadata": {},
   "outputs": [
    {
     "data": {
      "text/plain": [
       "(17661, 2)"
      ]
     },
     "execution_count": 55,
     "metadata": {},
     "output_type": "execute_result"
    }
   ],
   "source": [
    "gene_list.shape"
   ]
  },
  {
   "cell_type": "markdown",
   "metadata": {},
   "source": [
    "### Save Gene List"
   ]
  },
  {
   "cell_type": "code",
   "execution_count": 56,
   "metadata": {
    "collapsed": true
   },
   "outputs": [],
   "source": [
    "filename = '~/./Documents/Harmonizome/The_Human_Protaein_Atlas/Output/thpa_rns-seq_celline_gene_list_%s.tsv.zip'% str(datetime.date.today())[0:7].replace('-', '_')\n",
    "gene_list.to_csv(filename, sep='\\t', index=False, compression='gzip')"
   ]
  },
  {
   "cell_type": "markdown",
   "metadata": {},
   "source": [
    "# Create Attribute List"
   ]
  },
  {
   "cell_type": "code",
   "execution_count": 57,
   "metadata": {
    "collapsed": true
   },
   "outputs": [],
   "source": [
    "attribute_list = uf.createAttributeList(normalized_matrix)"
   ]
  },
  {
   "cell_type": "code",
   "execution_count": 58,
   "metadata": {},
   "outputs": [
    {
     "data": {
      "text/html": [
       "<div>\n",
       "<table border=\"1\" class=\"dataframe\">\n",
       "  <thead>\n",
       "    <tr style=\"text-align: right;\">\n",
       "      <th></th>\n",
       "      <th>Attributes</th>\n",
       "    </tr>\n",
       "  </thead>\n",
       "  <tbody>\n",
       "    <tr>\n",
       "      <th>0</th>\n",
       "      <td>A-431</td>\n",
       "    </tr>\n",
       "    <tr>\n",
       "      <th>1</th>\n",
       "      <td>A549</td>\n",
       "    </tr>\n",
       "    <tr>\n",
       "      <th>2</th>\n",
       "      <td>AF22</td>\n",
       "    </tr>\n",
       "    <tr>\n",
       "      <th>3</th>\n",
       "      <td>AN3-CA</td>\n",
       "    </tr>\n",
       "    <tr>\n",
       "      <th>4</th>\n",
       "      <td>ASC TERT1</td>\n",
       "    </tr>\n",
       "  </tbody>\n",
       "</table>\n",
       "</div>"
      ],
      "text/plain": [
       "  Attributes\n",
       "0      A-431\n",
       "1       A549\n",
       "2       AF22\n",
       "3     AN3-CA\n",
       "4  ASC TERT1"
      ]
     },
     "execution_count": 58,
     "metadata": {},
     "output_type": "execute_result"
    }
   ],
   "source": [
    "attribute_list.head()"
   ]
  },
  {
   "cell_type": "code",
   "execution_count": 59,
   "metadata": {},
   "outputs": [
    {
     "data": {
      "text/plain": [
       "(56, 1)"
      ]
     },
     "execution_count": 59,
     "metadata": {},
     "output_type": "execute_result"
    }
   ],
   "source": [
    "attribute_list.shape"
   ]
  },
  {
   "cell_type": "markdown",
   "metadata": {},
   "source": [
    "### Save Attribute List"
   ]
  },
  {
   "cell_type": "code",
   "execution_count": 60,
   "metadata": {
    "collapsed": true
   },
   "outputs": [],
   "source": [
    "filename = '~/./Documents/Harmonizome/The_Human_Protaein_Atlas/Output/thpa_rns-seq_celline_attribute_list_%s.tsv.zip'% str(datetime.date.today())[0:7].replace('-', '_')\n",
    "attribute_list.to_csv(filename, sep='\\t', index=False, compression='gzip')"
   ]
  },
  {
   "cell_type": "markdown",
   "metadata": {},
   "source": [
    "# Create Gene-Attribute Edge List"
   ]
  },
  {
   "cell_type": "code",
   "execution_count": 61,
   "metadata": {
    "collapsed": true
   },
   "outputs": [],
   "source": [
    "path = '/Users/moshesilverstein/Documents/Harmonizome/The_Human_Protaein_Atlas/Output/'"
   ]
  },
  {
   "cell_type": "code",
   "execution_count": 62,
   "metadata": {
    "collapsed": true
   },
   "outputs": [],
   "source": [
    "name = 'thpa_rns-seq_celline_gene_attribute_edge_list'"
   ]
  },
  {
   "cell_type": "code",
   "execution_count": 63,
   "metadata": {},
   "outputs": [
    {
     "name": "stdout",
     "output_type": "stream",
     "text": [
      "Progeres: 100%  56 Out of 56   \n",
      "\n",
      " The number of statisticaly relevent gene-attribute associations is: 197848\n"
     ]
    }
   ],
   "source": [
    "uf.createGeneAttributeEdgeList(tertiary_matrix, gene_list, path, name)"
   ]
  }
 ],
 "metadata": {
  "kernelspec": {
   "display_name": "Python [default]",
   "language": "python",
   "name": "python3"
  },
  "language_info": {
   "codemirror_mode": {
    "name": "ipython",
    "version": 3
   },
   "file_extension": ".py",
   "mimetype": "text/x-python",
   "name": "python",
   "nbconvert_exporter": "python",
   "pygments_lexer": "ipython3",
   "version": "3.5.2"
  }
 },
 "nbformat": 4,
 "nbformat_minor": 2
}
