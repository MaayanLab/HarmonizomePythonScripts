{
 "cells": [
  {
   "cell_type": "markdown",
   "metadata": {},
   "source": [
    "# The Human Protein Atlas (THPA) Normal Tissue (immunohistochemisty)"
   ]
  },
  {
   "cell_type": "markdown",
   "metadata": {},
   "source": [
    "Author: Moshe Silverstein <br/>\n",
    "Date: 7-17 <br/>\n",
    "Data Downloaded: 04-2017 <br/>\n",
    "Data Source: http://www.proteinatlas.org/about/download"
   ]
  },
  {
   "cell_type": "code",
   "execution_count": 1,
   "metadata": {
    "collapsed": true
   },
   "outputs": [],
   "source": [
    "import sys, datetime\n",
    "import numpy as np\n",
    "import pandas as pd\n",
    "import importlib\n",
    "import untility_functions as uf\n",
    "%matplotlib inline"
   ]
  },
  {
   "cell_type": "code",
   "execution_count": 2,
   "metadata": {},
   "outputs": [
    {
     "data": {
      "text/plain": [
       "<module 'untility_functions' from '/Users/moshesilverstein/Documents/Harmonizome/The_Human_Protaein_Atlas/untility_functions.py'>"
      ]
     },
     "execution_count": 2,
     "metadata": {},
     "output_type": "execute_result"
    }
   ],
   "source": [
    "importlib.reload(uf)"
   ]
  },
  {
   "cell_type": "markdown",
   "metadata": {},
   "source": [
    "# Load Data"
   ]
  },
  {
   "cell_type": "code",
   "execution_count": 3,
   "metadata": {
    "collapsed": true
   },
   "outputs": [],
   "source": [
    "df = pd.read_csv('Data/normal_tissue.csv.zip', sep=',')"
   ]
  },
  {
   "cell_type": "code",
   "execution_count": 4,
   "metadata": {},
   "outputs": [
    {
     "data": {
      "text/html": [
       "<div>\n",
       "<table border=\"1\" class=\"dataframe\">\n",
       "  <thead>\n",
       "    <tr style=\"text-align: right;\">\n",
       "      <th></th>\n",
       "      <th>Gene</th>\n",
       "      <th>Gene name</th>\n",
       "      <th>Tissue</th>\n",
       "      <th>Cell type</th>\n",
       "      <th>Level</th>\n",
       "      <th>Reliability</th>\n",
       "    </tr>\n",
       "  </thead>\n",
       "  <tbody>\n",
       "    <tr>\n",
       "      <th>0</th>\n",
       "      <td>ENSG00000000003</td>\n",
       "      <td>TSPAN6</td>\n",
       "      <td>adrenal gland</td>\n",
       "      <td>glandular cells</td>\n",
       "      <td>Not detected</td>\n",
       "      <td>Uncertain</td>\n",
       "    </tr>\n",
       "    <tr>\n",
       "      <th>1</th>\n",
       "      <td>ENSG00000000003</td>\n",
       "      <td>TSPAN6</td>\n",
       "      <td>appendix</td>\n",
       "      <td>glandular cells</td>\n",
       "      <td>Medium</td>\n",
       "      <td>Uncertain</td>\n",
       "    </tr>\n",
       "    <tr>\n",
       "      <th>2</th>\n",
       "      <td>ENSG00000000003</td>\n",
       "      <td>TSPAN6</td>\n",
       "      <td>appendix</td>\n",
       "      <td>lymphoid tissue</td>\n",
       "      <td>Not detected</td>\n",
       "      <td>Uncertain</td>\n",
       "    </tr>\n",
       "    <tr>\n",
       "      <th>3</th>\n",
       "      <td>ENSG00000000003</td>\n",
       "      <td>TSPAN6</td>\n",
       "      <td>bone marrow</td>\n",
       "      <td>hematopoietic cells</td>\n",
       "      <td>Not detected</td>\n",
       "      <td>Uncertain</td>\n",
       "    </tr>\n",
       "    <tr>\n",
       "      <th>4</th>\n",
       "      <td>ENSG00000000003</td>\n",
       "      <td>TSPAN6</td>\n",
       "      <td>breast</td>\n",
       "      <td>adipocytes</td>\n",
       "      <td>Not detected</td>\n",
       "      <td>Uncertain</td>\n",
       "    </tr>\n",
       "  </tbody>\n",
       "</table>\n",
       "</div>"
      ],
      "text/plain": [
       "              Gene Gene name         Tissue            Cell type  \\\n",
       "0  ENSG00000000003    TSPAN6  adrenal gland      glandular cells   \n",
       "1  ENSG00000000003    TSPAN6       appendix      glandular cells   \n",
       "2  ENSG00000000003    TSPAN6       appendix      lymphoid tissue   \n",
       "3  ENSG00000000003    TSPAN6    bone marrow  hematopoietic cells   \n",
       "4  ENSG00000000003    TSPAN6         breast           adipocytes   \n",
       "\n",
       "          Level Reliability  \n",
       "0  Not detected   Uncertain  \n",
       "1        Medium   Uncertain  \n",
       "2  Not detected   Uncertain  \n",
       "3  Not detected   Uncertain  \n",
       "4  Not detected   Uncertain  "
      ]
     },
     "execution_count": 4,
     "metadata": {},
     "output_type": "execute_result"
    }
   ],
   "source": [
    "df.head()"
   ]
  },
  {
   "cell_type": "code",
   "execution_count": 5,
   "metadata": {},
   "outputs": [
    {
     "data": {
      "text/plain": [
       "(1031835, 6)"
      ]
     },
     "execution_count": 5,
     "metadata": {},
     "output_type": "execute_result"
    }
   ],
   "source": [
    "df.shape"
   ]
  },
  {
   "cell_type": "markdown",
   "metadata": {},
   "source": [
    "# Select Only Relevent Data "
   ]
  },
  {
   "cell_type": "code",
   "execution_count": 6,
   "metadata": {},
   "outputs": [],
   "source": [
    "df = df[df['Level'] == 'High']"
   ]
  },
  {
   "cell_type": "code",
   "execution_count": 7,
   "metadata": {},
   "outputs": [
    {
     "name": "stdout",
     "output_type": "stream",
     "text": [
      "Progress: 100%   \r"
     ]
    }
   ],
   "source": [
    "lst = []\n",
    "\n",
    "for i,index in enumerate(df.index):\n",
    "    \n",
    "    progress = ((i+1)/len(df.index))*100\n",
    "        \n",
    "    sys.stdout.write(\"Progress: %d%%   \\r\" % (progress))\n",
    "    sys.stdout.flush()\n",
    "    \n",
    "    lst.append(df.ix[index, 'Tissue']+'-'+df.ix[index, 'Cell type'])\n",
    "    \n",
    "df['Tissue'] = lst"
   ]
  },
  {
   "cell_type": "code",
   "execution_count": 8,
   "metadata": {
    "collapsed": true
   },
   "outputs": [],
   "source": [
    "df = df[['Gene name', 'Tissue']]"
   ]
  },
  {
   "cell_type": "code",
   "execution_count": 9,
   "metadata": {},
   "outputs": [
    {
     "data": {
      "text/html": [
       "<div>\n",
       "<table border=\"1\" class=\"dataframe\">\n",
       "  <thead>\n",
       "    <tr style=\"text-align: right;\">\n",
       "      <th></th>\n",
       "      <th>Gene name</th>\n",
       "      <th>Tissue</th>\n",
       "    </tr>\n",
       "  </thead>\n",
       "  <tbody>\n",
       "    <tr>\n",
       "      <th>5</th>\n",
       "      <td>TSPAN6</td>\n",
       "      <td>breast-glandular cells</td>\n",
       "    </tr>\n",
       "    <tr>\n",
       "      <th>7</th>\n",
       "      <td>TSPAN6</td>\n",
       "      <td>bronchus-respiratory epithelial cells</td>\n",
       "    </tr>\n",
       "    <tr>\n",
       "      <th>17</th>\n",
       "      <td>TSPAN6</td>\n",
       "      <td>cervix, uterine-glandular cells</td>\n",
       "    </tr>\n",
       "    <tr>\n",
       "      <th>18</th>\n",
       "      <td>TSPAN6</td>\n",
       "      <td>cervix, uterine-squamous epithelial cells</td>\n",
       "    </tr>\n",
       "    <tr>\n",
       "      <th>24</th>\n",
       "      <td>TSPAN6</td>\n",
       "      <td>endometrium 1-glandular cells</td>\n",
       "    </tr>\n",
       "  </tbody>\n",
       "</table>\n",
       "</div>"
      ],
      "text/plain": [
       "   Gene name                                     Tissue\n",
       "5     TSPAN6                     breast-glandular cells\n",
       "7     TSPAN6      bronchus-respiratory epithelial cells\n",
       "17    TSPAN6            cervix, uterine-glandular cells\n",
       "18    TSPAN6  cervix, uterine-squamous epithelial cells\n",
       "24    TSPAN6              endometrium 1-glandular cells"
      ]
     },
     "execution_count": 9,
     "metadata": {},
     "output_type": "execute_result"
    }
   ],
   "source": [
    "df.head()"
   ]
  },
  {
   "cell_type": "markdown",
   "metadata": {},
   "source": [
    "# Map Gene Symbols To Up-to-date Approved Gene Symbols"
   ]
  },
  {
   "cell_type": "code",
   "execution_count": 10,
   "metadata": {
    "collapsed": true
   },
   "outputs": [],
   "source": [
    "df.set_index('Gene name', inplace=True)"
   ]
  },
  {
   "cell_type": "code",
   "execution_count": 11,
   "metadata": {},
   "outputs": [
    {
     "name": "stdout",
     "output_type": "stream",
     "text": [
      "Progeres: 100%  118588 Out of 118588   \r"
     ]
    }
   ],
   "source": [
    "uf.mapgenesymbols(df)"
   ]
  },
  {
   "cell_type": "code",
   "execution_count": 12,
   "metadata": {},
   "outputs": [
    {
     "data": {
      "text/plain": [
       "(117858, 1)"
      ]
     },
     "execution_count": 12,
     "metadata": {},
     "output_type": "execute_result"
    }
   ],
   "source": [
    "df.shape"
   ]
  },
  {
   "cell_type": "markdown",
   "metadata": {},
   "source": [
    "# Create Binary Matrix"
   ]
  },
  {
   "cell_type": "code",
   "execution_count": 13,
   "metadata": {
    "collapsed": true
   },
   "outputs": [],
   "source": [
    "df.reset_index(inplace=True)"
   ]
  },
  {
   "cell_type": "code",
   "execution_count": 14,
   "metadata": {},
   "outputs": [
    {
     "name": "stdout",
     "output_type": "stream",
     "text": [
      "Progeres: 100%  9490 Out of 9490   \r"
     ]
    }
   ],
   "source": [
    "binary_matrix = uf.createBinaryMatix(df)"
   ]
  },
  {
   "cell_type": "code",
   "execution_count": 15,
   "metadata": {},
   "outputs": [
    {
     "data": {
      "text/html": [
       "<div>\n",
       "<table border=\"1\" class=\"dataframe\">\n",
       "  <thead>\n",
       "    <tr style=\"text-align: right;\">\n",
       "      <th></th>\n",
       "      <th>thyroid gland-glandular cells</th>\n",
       "      <th>duodenum-glandular cells</th>\n",
       "      <th>skeletal muscle-myocytes</th>\n",
       "      <th>spleen-cells in white pulp</th>\n",
       "      <th>retina-ganglion cells</th>\n",
       "      <th>adrenal gland-cells in zona fasciculata</th>\n",
       "      <th>stomach 1-glandular cells</th>\n",
       "      <th>skin-sweat ducts</th>\n",
       "      <th>lung-pneumocytes</th>\n",
       "      <th>salivary gland-glandular cells</th>\n",
       "      <th>...</th>\n",
       "      <th>soft tissue 1-chondrocytes</th>\n",
       "      <th>soft tissue 1-peripheral nerve</th>\n",
       "      <th>cerebral cortex-endothelial cells</th>\n",
       "      <th>tonsil-non-germinal center cells</th>\n",
       "      <th>pituitary gland-cells in anterior</th>\n",
       "      <th>placenta-trophoblastic cells</th>\n",
       "      <th>fallopian tube-glandular cells</th>\n",
       "      <th>soft tissue 2-peripheral nerve</th>\n",
       "      <th>skin-sebaceous cells</th>\n",
       "      <th>spleen-cells in red pulp</th>\n",
       "    </tr>\n",
       "  </thead>\n",
       "  <tbody>\n",
       "    <tr>\n",
       "      <th>CYP2A7</th>\n",
       "      <td>0</td>\n",
       "      <td>0</td>\n",
       "      <td>0</td>\n",
       "      <td>0</td>\n",
       "      <td>0</td>\n",
       "      <td>0</td>\n",
       "      <td>0</td>\n",
       "      <td>0</td>\n",
       "      <td>0</td>\n",
       "      <td>0</td>\n",
       "      <td>...</td>\n",
       "      <td>0</td>\n",
       "      <td>0</td>\n",
       "      <td>0</td>\n",
       "      <td>0</td>\n",
       "      <td>0</td>\n",
       "      <td>0</td>\n",
       "      <td>0</td>\n",
       "      <td>0</td>\n",
       "      <td>0</td>\n",
       "      <td>0</td>\n",
       "    </tr>\n",
       "    <tr>\n",
       "      <th>NPIPA8</th>\n",
       "      <td>1</td>\n",
       "      <td>0</td>\n",
       "      <td>0</td>\n",
       "      <td>0</td>\n",
       "      <td>0</td>\n",
       "      <td>0</td>\n",
       "      <td>1</td>\n",
       "      <td>0</td>\n",
       "      <td>1</td>\n",
       "      <td>0</td>\n",
       "      <td>...</td>\n",
       "      <td>0</td>\n",
       "      <td>0</td>\n",
       "      <td>0</td>\n",
       "      <td>0</td>\n",
       "      <td>0</td>\n",
       "      <td>1</td>\n",
       "      <td>0</td>\n",
       "      <td>0</td>\n",
       "      <td>0</td>\n",
       "      <td>0</td>\n",
       "    </tr>\n",
       "    <tr>\n",
       "      <th>RORA</th>\n",
       "      <td>0</td>\n",
       "      <td>1</td>\n",
       "      <td>0</td>\n",
       "      <td>0</td>\n",
       "      <td>0</td>\n",
       "      <td>0</td>\n",
       "      <td>1</td>\n",
       "      <td>0</td>\n",
       "      <td>1</td>\n",
       "      <td>1</td>\n",
       "      <td>...</td>\n",
       "      <td>0</td>\n",
       "      <td>1</td>\n",
       "      <td>0</td>\n",
       "      <td>1</td>\n",
       "      <td>0</td>\n",
       "      <td>1</td>\n",
       "      <td>1</td>\n",
       "      <td>1</td>\n",
       "      <td>0</td>\n",
       "      <td>0</td>\n",
       "    </tr>\n",
       "    <tr>\n",
       "      <th>SHMT1</th>\n",
       "      <td>1</td>\n",
       "      <td>1</td>\n",
       "      <td>0</td>\n",
       "      <td>0</td>\n",
       "      <td>0</td>\n",
       "      <td>0</td>\n",
       "      <td>0</td>\n",
       "      <td>0</td>\n",
       "      <td>0</td>\n",
       "      <td>1</td>\n",
       "      <td>...</td>\n",
       "      <td>0</td>\n",
       "      <td>0</td>\n",
       "      <td>0</td>\n",
       "      <td>0</td>\n",
       "      <td>0</td>\n",
       "      <td>0</td>\n",
       "      <td>0</td>\n",
       "      <td>0</td>\n",
       "      <td>0</td>\n",
       "      <td>0</td>\n",
       "    </tr>\n",
       "    <tr>\n",
       "      <th>SPECC1L</th>\n",
       "      <td>0</td>\n",
       "      <td>0</td>\n",
       "      <td>0</td>\n",
       "      <td>0</td>\n",
       "      <td>0</td>\n",
       "      <td>0</td>\n",
       "      <td>0</td>\n",
       "      <td>0</td>\n",
       "      <td>0</td>\n",
       "      <td>0</td>\n",
       "      <td>...</td>\n",
       "      <td>0</td>\n",
       "      <td>0</td>\n",
       "      <td>0</td>\n",
       "      <td>0</td>\n",
       "      <td>0</td>\n",
       "      <td>0</td>\n",
       "      <td>0</td>\n",
       "      <td>0</td>\n",
       "      <td>0</td>\n",
       "      <td>0</td>\n",
       "    </tr>\n",
       "  </tbody>\n",
       "</table>\n",
       "<p>5 rows × 108 columns</p>\n",
       "</div>"
      ],
      "text/plain": [
       "         thyroid gland-glandular cells  duodenum-glandular cells  \\\n",
       "CYP2A7                               0                         0   \n",
       "NPIPA8                               1                         0   \n",
       "RORA                                 0                         1   \n",
       "SHMT1                                1                         1   \n",
       "SPECC1L                              0                         0   \n",
       "\n",
       "         skeletal muscle-myocytes  spleen-cells in white pulp  \\\n",
       "CYP2A7                          0                           0   \n",
       "NPIPA8                          0                           0   \n",
       "RORA                            0                           0   \n",
       "SHMT1                           0                           0   \n",
       "SPECC1L                         0                           0   \n",
       "\n",
       "         retina-ganglion cells  adrenal gland-cells in zona fasciculata  \\\n",
       "CYP2A7                       0                                        0   \n",
       "NPIPA8                       0                                        0   \n",
       "RORA                         0                                        0   \n",
       "SHMT1                        0                                        0   \n",
       "SPECC1L                      0                                        0   \n",
       "\n",
       "         stomach 1-glandular cells  skin-sweat ducts  lung-pneumocytes  \\\n",
       "CYP2A7                           0                 0                 0   \n",
       "NPIPA8                           1                 0                 1   \n",
       "RORA                             1                 0                 1   \n",
       "SHMT1                            0                 0                 0   \n",
       "SPECC1L                          0                 0                 0   \n",
       "\n",
       "         salivary gland-glandular cells            ...             \\\n",
       "CYP2A7                                0            ...              \n",
       "NPIPA8                                0            ...              \n",
       "RORA                                  1            ...              \n",
       "SHMT1                                 1            ...              \n",
       "SPECC1L                               0            ...              \n",
       "\n",
       "         soft tissue 1-chondrocytes  soft tissue 1-peripheral nerve  \\\n",
       "CYP2A7                            0                               0   \n",
       "NPIPA8                            0                               0   \n",
       "RORA                              0                               1   \n",
       "SHMT1                             0                               0   \n",
       "SPECC1L                           0                               0   \n",
       "\n",
       "         cerebral cortex-endothelial cells  tonsil-non-germinal center cells  \\\n",
       "CYP2A7                                   0                                 0   \n",
       "NPIPA8                                   0                                 0   \n",
       "RORA                                     0                                 1   \n",
       "SHMT1                                    0                                 0   \n",
       "SPECC1L                                  0                                 0   \n",
       "\n",
       "         pituitary gland-cells in anterior  placenta-trophoblastic cells  \\\n",
       "CYP2A7                                   0                             0   \n",
       "NPIPA8                                   0                             1   \n",
       "RORA                                     0                             1   \n",
       "SHMT1                                    0                             0   \n",
       "SPECC1L                                  0                             0   \n",
       "\n",
       "         fallopian tube-glandular cells  soft tissue 2-peripheral nerve  \\\n",
       "CYP2A7                                0                               0   \n",
       "NPIPA8                                0                               0   \n",
       "RORA                                  1                               1   \n",
       "SHMT1                                 0                               0   \n",
       "SPECC1L                               0                               0   \n",
       "\n",
       "         skin-sebaceous cells  spleen-cells in red pulp  \n",
       "CYP2A7                      0                         0  \n",
       "NPIPA8                      0                         0  \n",
       "RORA                        0                         0  \n",
       "SHMT1                       0                         0  \n",
       "SPECC1L                     0                         0  \n",
       "\n",
       "[5 rows x 108 columns]"
      ]
     },
     "execution_count": 15,
     "metadata": {},
     "output_type": "execute_result"
    }
   ],
   "source": [
    "binary_matrix.head()"
   ]
  },
  {
   "cell_type": "code",
   "execution_count": 16,
   "metadata": {},
   "outputs": [
    {
     "data": {
      "text/plain": [
       "(9490, 108)"
      ]
     },
     "execution_count": 16,
     "metadata": {},
     "output_type": "execute_result"
    }
   ],
   "source": [
    "binary_matrix.shape"
   ]
  },
  {
   "cell_type": "markdown",
   "metadata": {},
   "source": [
    "# Save Binary Matrix"
   ]
  },
  {
   "cell_type": "code",
   "execution_count": 17,
   "metadata": {
    "collapsed": true
   },
   "outputs": [],
   "source": [
    "filename = '~/./Documents/Harmonizome/The_Human_Protaein_Atlas/Output/thpa_normal_tissue_binary_matrix_%s.tsv.zip'% str(datetime.date.today())[0:7].replace('-', '_')\n",
    "binary_matrix.to_csv(filename, sep='\\t', compression='gzip')"
   ]
  },
  {
   "cell_type": "markdown",
   "metadata": {},
   "source": [
    "# Create Gene Set Library"
   ]
  },
  {
   "cell_type": "code",
   "execution_count": 18,
   "metadata": {
    "collapsed": true
   },
   "outputs": [],
   "source": [
    "path = '/Users/moshesilverstein/Documents/Harmonizome/The_Human_Protaein_Atlas/Output/'"
   ]
  },
  {
   "cell_type": "code",
   "execution_count": 19,
   "metadata": {
    "collapsed": true
   },
   "outputs": [],
   "source": [
    "name = 'thpa_normal_tissue_gene_set'"
   ]
  },
  {
   "cell_type": "code",
   "execution_count": 20,
   "metadata": {},
   "outputs": [
    {
     "name": "stdout",
     "output_type": "stream",
     "text": [
      "Progeres: 100%  108 Out of 108   \r"
     ]
    }
   ],
   "source": [
    "uf.createUpGeneSetLib(binary_matrix, path, name)"
   ]
  },
  {
   "cell_type": "markdown",
   "metadata": {},
   "source": [
    "# Create Attribute Library"
   ]
  },
  {
   "cell_type": "code",
   "execution_count": 21,
   "metadata": {
    "collapsed": true
   },
   "outputs": [],
   "source": [
    "path = '/Users/moshesilverstein/Documents/Harmonizome/The_Human_Protaein_Atlas/Output/'"
   ]
  },
  {
   "cell_type": "code",
   "execution_count": 22,
   "metadata": {
    "collapsed": true
   },
   "outputs": [],
   "source": [
    "name = 'thpa_normal_tissue_attribute_set'"
   ]
  },
  {
   "cell_type": "code",
   "execution_count": 23,
   "metadata": {},
   "outputs": [
    {
     "name": "stdout",
     "output_type": "stream",
     "text": [
      "Progeres: 100%  9490 Out of 9490   \r"
     ]
    }
   ],
   "source": [
    "uf.createUpAttributeSetLib(binary_matrix, path, name)"
   ]
  },
  {
   "cell_type": "markdown",
   "metadata": {},
   "source": [
    "# Create Gene Similarity Matrix"
   ]
  },
  {
   "cell_type": "code",
   "execution_count": 24,
   "metadata": {
    "collapsed": true
   },
   "outputs": [],
   "source": [
    "gene_similarity_matix = uf.createSimilarityMatrix(binary_matrix, 'jaccard')"
   ]
  },
  {
   "cell_type": "code",
   "execution_count": 25,
   "metadata": {},
   "outputs": [
    {
     "data": {
      "text/html": [
       "<div>\n",
       "<table border=\"1\" class=\"dataframe\">\n",
       "  <thead>\n",
       "    <tr style=\"text-align: right;\">\n",
       "      <th></th>\n",
       "      <th>CYP2A7</th>\n",
       "      <th>NPIPA8</th>\n",
       "      <th>RORA</th>\n",
       "      <th>SHMT1</th>\n",
       "      <th>SPECC1L</th>\n",
       "      <th>DCUN1D3</th>\n",
       "      <th>MAGI2</th>\n",
       "      <th>C19orf60</th>\n",
       "      <th>GTF2I</th>\n",
       "      <th>CRABP1</th>\n",
       "      <th>...</th>\n",
       "      <th>KLF3</th>\n",
       "      <th>ANKDD1A</th>\n",
       "      <th>FRYL</th>\n",
       "      <th>CUL5</th>\n",
       "      <th>IRAK4</th>\n",
       "      <th>EPSTI1</th>\n",
       "      <th>MGAT5</th>\n",
       "      <th>ST18</th>\n",
       "      <th>FDXR</th>\n",
       "      <th>KLK13</th>\n",
       "    </tr>\n",
       "  </thead>\n",
       "  <tbody>\n",
       "    <tr>\n",
       "      <th>CYP2A7</th>\n",
       "      <td>1.000000</td>\n",
       "      <td>0.000000</td>\n",
       "      <td>0.021739</td>\n",
       "      <td>0.125</td>\n",
       "      <td>0.0</td>\n",
       "      <td>0.000000</td>\n",
       "      <td>0.000000</td>\n",
       "      <td>0.000000</td>\n",
       "      <td>0.000000</td>\n",
       "      <td>0.090909</td>\n",
       "      <td>...</td>\n",
       "      <td>0.000000</td>\n",
       "      <td>0.000000</td>\n",
       "      <td>0.000000</td>\n",
       "      <td>0.000000</td>\n",
       "      <td>0.000000</td>\n",
       "      <td>0.000000</td>\n",
       "      <td>0.000000</td>\n",
       "      <td>0.000000</td>\n",
       "      <td>0.000000</td>\n",
       "      <td>0.000000</td>\n",
       "    </tr>\n",
       "    <tr>\n",
       "      <th>NPIPA8</th>\n",
       "      <td>0.000000</td>\n",
       "      <td>1.000000</td>\n",
       "      <td>0.313725</td>\n",
       "      <td>0.160</td>\n",
       "      <td>0.0</td>\n",
       "      <td>0.090909</td>\n",
       "      <td>0.047619</td>\n",
       "      <td>0.090909</td>\n",
       "      <td>0.386364</td>\n",
       "      <td>0.032258</td>\n",
       "      <td>...</td>\n",
       "      <td>0.307692</td>\n",
       "      <td>0.043478</td>\n",
       "      <td>0.090909</td>\n",
       "      <td>0.000000</td>\n",
       "      <td>0.172414</td>\n",
       "      <td>0.225806</td>\n",
       "      <td>0.000000</td>\n",
       "      <td>0.130435</td>\n",
       "      <td>0.038462</td>\n",
       "      <td>0.047619</td>\n",
       "    </tr>\n",
       "    <tr>\n",
       "      <th>RORA</th>\n",
       "      <td>0.021739</td>\n",
       "      <td>0.313725</td>\n",
       "      <td>1.000000</td>\n",
       "      <td>0.125</td>\n",
       "      <td>0.0</td>\n",
       "      <td>0.020833</td>\n",
       "      <td>0.000000</td>\n",
       "      <td>0.020833</td>\n",
       "      <td>0.387097</td>\n",
       "      <td>0.075472</td>\n",
       "      <td>...</td>\n",
       "      <td>0.453125</td>\n",
       "      <td>0.042553</td>\n",
       "      <td>0.065217</td>\n",
       "      <td>0.102041</td>\n",
       "      <td>0.156863</td>\n",
       "      <td>0.260000</td>\n",
       "      <td>0.021739</td>\n",
       "      <td>0.020000</td>\n",
       "      <td>0.083333</td>\n",
       "      <td>0.021739</td>\n",
       "    </tr>\n",
       "    <tr>\n",
       "      <th>SHMT1</th>\n",
       "      <td>0.125000</td>\n",
       "      <td>0.160000</td>\n",
       "      <td>0.125000</td>\n",
       "      <td>1.000</td>\n",
       "      <td>0.0</td>\n",
       "      <td>0.100000</td>\n",
       "      <td>0.000000</td>\n",
       "      <td>0.100000</td>\n",
       "      <td>0.170732</td>\n",
       "      <td>0.187500</td>\n",
       "      <td>...</td>\n",
       "      <td>0.145833</td>\n",
       "      <td>0.000000</td>\n",
       "      <td>0.000000</td>\n",
       "      <td>0.000000</td>\n",
       "      <td>0.050000</td>\n",
       "      <td>0.086957</td>\n",
       "      <td>0.000000</td>\n",
       "      <td>0.083333</td>\n",
       "      <td>0.000000</td>\n",
       "      <td>0.000000</td>\n",
       "    </tr>\n",
       "    <tr>\n",
       "      <th>SPECC1L</th>\n",
       "      <td>0.000000</td>\n",
       "      <td>0.000000</td>\n",
       "      <td>0.000000</td>\n",
       "      <td>0.000</td>\n",
       "      <td>1.0</td>\n",
       "      <td>0.000000</td>\n",
       "      <td>0.000000</td>\n",
       "      <td>0.000000</td>\n",
       "      <td>0.025000</td>\n",
       "      <td>0.000000</td>\n",
       "      <td>...</td>\n",
       "      <td>0.021277</td>\n",
       "      <td>0.000000</td>\n",
       "      <td>0.000000</td>\n",
       "      <td>0.000000</td>\n",
       "      <td>0.000000</td>\n",
       "      <td>0.000000</td>\n",
       "      <td>0.000000</td>\n",
       "      <td>0.000000</td>\n",
       "      <td>0.166667</td>\n",
       "      <td>0.000000</td>\n",
       "    </tr>\n",
       "  </tbody>\n",
       "</table>\n",
       "<p>5 rows × 9490 columns</p>\n",
       "</div>"
      ],
      "text/plain": [
       "           CYP2A7    NPIPA8      RORA  SHMT1  SPECC1L   DCUN1D3     MAGI2  \\\n",
       "CYP2A7   1.000000  0.000000  0.021739  0.125      0.0  0.000000  0.000000   \n",
       "NPIPA8   0.000000  1.000000  0.313725  0.160      0.0  0.090909  0.047619   \n",
       "RORA     0.021739  0.313725  1.000000  0.125      0.0  0.020833  0.000000   \n",
       "SHMT1    0.125000  0.160000  0.125000  1.000      0.0  0.100000  0.000000   \n",
       "SPECC1L  0.000000  0.000000  0.000000  0.000      1.0  0.000000  0.000000   \n",
       "\n",
       "         C19orf60     GTF2I    CRABP1    ...         KLF3   ANKDD1A      FRYL  \\\n",
       "CYP2A7   0.000000  0.000000  0.090909    ...     0.000000  0.000000  0.000000   \n",
       "NPIPA8   0.090909  0.386364  0.032258    ...     0.307692  0.043478  0.090909   \n",
       "RORA     0.020833  0.387097  0.075472    ...     0.453125  0.042553  0.065217   \n",
       "SHMT1    0.100000  0.170732  0.187500    ...     0.145833  0.000000  0.000000   \n",
       "SPECC1L  0.000000  0.025000  0.000000    ...     0.021277  0.000000  0.000000   \n",
       "\n",
       "             CUL5     IRAK4    EPSTI1     MGAT5      ST18      FDXR     KLK13  \n",
       "CYP2A7   0.000000  0.000000  0.000000  0.000000  0.000000  0.000000  0.000000  \n",
       "NPIPA8   0.000000  0.172414  0.225806  0.000000  0.130435  0.038462  0.047619  \n",
       "RORA     0.102041  0.156863  0.260000  0.021739  0.020000  0.083333  0.021739  \n",
       "SHMT1    0.000000  0.050000  0.086957  0.000000  0.083333  0.000000  0.000000  \n",
       "SPECC1L  0.000000  0.000000  0.000000  0.000000  0.000000  0.166667  0.000000  \n",
       "\n",
       "[5 rows x 9490 columns]"
      ]
     },
     "execution_count": 25,
     "metadata": {},
     "output_type": "execute_result"
    }
   ],
   "source": [
    "gene_similarity_matix.head()"
   ]
  },
  {
   "cell_type": "markdown",
   "metadata": {},
   "source": [
    "## Save Gene Similarity Matrix "
   ]
  },
  {
   "cell_type": "code",
   "execution_count": 26,
   "metadata": {
    "collapsed": true
   },
   "outputs": [],
   "source": [
    "filename = '~/./Documents/Harmonizome/The_Human_Protaein_Atlas/Output/thpa_normal_tisue _gene_similarity_matix_%s.tsv.zip'% str(datetime.date.today())[0:7].replace('-', '_')\n",
    "gene_similarity_matix.to_csv(filename, sep='\\t', compression='gzip')"
   ]
  },
  {
   "cell_type": "markdown",
   "metadata": {},
   "source": [
    "# Create Attribute Similarity matrix"
   ]
  },
  {
   "cell_type": "code",
   "execution_count": 27,
   "metadata": {
    "collapsed": true
   },
   "outputs": [],
   "source": [
    "attribute_similarity_matix = uf.createSimilarityMatrix(binary_matrix.T, 'jaccard')"
   ]
  },
  {
   "cell_type": "code",
   "execution_count": 28,
   "metadata": {},
   "outputs": [
    {
     "data": {
      "text/html": [
       "<div>\n",
       "<table border=\"1\" class=\"dataframe\">\n",
       "  <thead>\n",
       "    <tr style=\"text-align: right;\">\n",
       "      <th></th>\n",
       "      <th>thyroid gland-glandular cells</th>\n",
       "      <th>duodenum-glandular cells</th>\n",
       "      <th>skeletal muscle-myocytes</th>\n",
       "      <th>spleen-cells in white pulp</th>\n",
       "      <th>retina-ganglion cells</th>\n",
       "      <th>adrenal gland-cells in zona fasciculata</th>\n",
       "      <th>stomach 1-glandular cells</th>\n",
       "      <th>skin-sweat ducts</th>\n",
       "      <th>lung-pneumocytes</th>\n",
       "      <th>salivary gland-glandular cells</th>\n",
       "      <th>...</th>\n",
       "      <th>soft tissue 1-chondrocytes</th>\n",
       "      <th>soft tissue 1-peripheral nerve</th>\n",
       "      <th>cerebral cortex-endothelial cells</th>\n",
       "      <th>tonsil-non-germinal center cells</th>\n",
       "      <th>pituitary gland-cells in anterior</th>\n",
       "      <th>placenta-trophoblastic cells</th>\n",
       "      <th>fallopian tube-glandular cells</th>\n",
       "      <th>soft tissue 2-peripheral nerve</th>\n",
       "      <th>skin-sebaceous cells</th>\n",
       "      <th>spleen-cells in red pulp</th>\n",
       "    </tr>\n",
       "  </thead>\n",
       "  <tbody>\n",
       "    <tr>\n",
       "      <th>thyroid gland-glandular cells</th>\n",
       "      <td>1.000000</td>\n",
       "      <td>0.351171</td>\n",
       "      <td>0.214698</td>\n",
       "      <td>0.210151</td>\n",
       "      <td>0.000468</td>\n",
       "      <td>0.0</td>\n",
       "      <td>0.348060</td>\n",
       "      <td>0.0</td>\n",
       "      <td>0.270270</td>\n",
       "      <td>0.352709</td>\n",
       "      <td>...</td>\n",
       "      <td>0.091302</td>\n",
       "      <td>0.089270</td>\n",
       "      <td>0.107414</td>\n",
       "      <td>0.273082</td>\n",
       "      <td>0.0</td>\n",
       "      <td>0.386678</td>\n",
       "      <td>0.379225</td>\n",
       "      <td>0.101391</td>\n",
       "      <td>0.0</td>\n",
       "      <td>0.202283</td>\n",
       "    </tr>\n",
       "    <tr>\n",
       "      <th>duodenum-glandular cells</th>\n",
       "      <td>0.351171</td>\n",
       "      <td>1.000000</td>\n",
       "      <td>0.160724</td>\n",
       "      <td>0.177919</td>\n",
       "      <td>0.000000</td>\n",
       "      <td>0.0</td>\n",
       "      <td>0.503026</td>\n",
       "      <td>0.0</td>\n",
       "      <td>0.173538</td>\n",
       "      <td>0.304747</td>\n",
       "      <td>...</td>\n",
       "      <td>0.063338</td>\n",
       "      <td>0.057844</td>\n",
       "      <td>0.078481</td>\n",
       "      <td>0.243833</td>\n",
       "      <td>0.0</td>\n",
       "      <td>0.365211</td>\n",
       "      <td>0.370757</td>\n",
       "      <td>0.064882</td>\n",
       "      <td>0.0</td>\n",
       "      <td>0.148248</td>\n",
       "    </tr>\n",
       "    <tr>\n",
       "      <th>skeletal muscle-myocytes</th>\n",
       "      <td>0.214698</td>\n",
       "      <td>0.160724</td>\n",
       "      <td>1.000000</td>\n",
       "      <td>0.160072</td>\n",
       "      <td>0.000000</td>\n",
       "      <td>0.0</td>\n",
       "      <td>0.170431</td>\n",
       "      <td>0.0</td>\n",
       "      <td>0.209853</td>\n",
       "      <td>0.210310</td>\n",
       "      <td>...</td>\n",
       "      <td>0.093385</td>\n",
       "      <td>0.112158</td>\n",
       "      <td>0.131737</td>\n",
       "      <td>0.174679</td>\n",
       "      <td>0.0</td>\n",
       "      <td>0.165692</td>\n",
       "      <td>0.174956</td>\n",
       "      <td>0.139693</td>\n",
       "      <td>0.0</td>\n",
       "      <td>0.181707</td>\n",
       "    </tr>\n",
       "    <tr>\n",
       "      <th>spleen-cells in white pulp</th>\n",
       "      <td>0.210151</td>\n",
       "      <td>0.177919</td>\n",
       "      <td>0.160072</td>\n",
       "      <td>1.000000</td>\n",
       "      <td>0.000000</td>\n",
       "      <td>0.0</td>\n",
       "      <td>0.185208</td>\n",
       "      <td>0.0</td>\n",
       "      <td>0.225806</td>\n",
       "      <td>0.222062</td>\n",
       "      <td>...</td>\n",
       "      <td>0.084237</td>\n",
       "      <td>0.102493</td>\n",
       "      <td>0.120223</td>\n",
       "      <td>0.443494</td>\n",
       "      <td>0.0</td>\n",
       "      <td>0.173913</td>\n",
       "      <td>0.214608</td>\n",
       "      <td>0.117860</td>\n",
       "      <td>0.0</td>\n",
       "      <td>0.379233</td>\n",
       "    </tr>\n",
       "    <tr>\n",
       "      <th>retina-ganglion cells</th>\n",
       "      <td>0.000468</td>\n",
       "      <td>0.000000</td>\n",
       "      <td>0.000000</td>\n",
       "      <td>0.000000</td>\n",
       "      <td>1.000000</td>\n",
       "      <td>0.0</td>\n",
       "      <td>0.000000</td>\n",
       "      <td>0.0</td>\n",
       "      <td>0.000000</td>\n",
       "      <td>0.000000</td>\n",
       "      <td>...</td>\n",
       "      <td>0.000000</td>\n",
       "      <td>0.000000</td>\n",
       "      <td>0.000000</td>\n",
       "      <td>0.000691</td>\n",
       "      <td>0.0</td>\n",
       "      <td>0.000000</td>\n",
       "      <td>0.000000</td>\n",
       "      <td>0.000000</td>\n",
       "      <td>0.0</td>\n",
       "      <td>0.000000</td>\n",
       "    </tr>\n",
       "  </tbody>\n",
       "</table>\n",
       "<p>5 rows × 108 columns</p>\n",
       "</div>"
      ],
      "text/plain": [
       "                               thyroid gland-glandular cells  \\\n",
       "thyroid gland-glandular cells                       1.000000   \n",
       "duodenum-glandular cells                            0.351171   \n",
       "skeletal muscle-myocytes                            0.214698   \n",
       "spleen-cells in white pulp                          0.210151   \n",
       "retina-ganglion cells                               0.000468   \n",
       "\n",
       "                               duodenum-glandular cells  \\\n",
       "thyroid gland-glandular cells                  0.351171   \n",
       "duodenum-glandular cells                       1.000000   \n",
       "skeletal muscle-myocytes                       0.160724   \n",
       "spleen-cells in white pulp                     0.177919   \n",
       "retina-ganglion cells                          0.000000   \n",
       "\n",
       "                               skeletal muscle-myocytes  \\\n",
       "thyroid gland-glandular cells                  0.214698   \n",
       "duodenum-glandular cells                       0.160724   \n",
       "skeletal muscle-myocytes                       1.000000   \n",
       "spleen-cells in white pulp                     0.160072   \n",
       "retina-ganglion cells                          0.000000   \n",
       "\n",
       "                               spleen-cells in white pulp  \\\n",
       "thyroid gland-glandular cells                    0.210151   \n",
       "duodenum-glandular cells                         0.177919   \n",
       "skeletal muscle-myocytes                         0.160072   \n",
       "spleen-cells in white pulp                       1.000000   \n",
       "retina-ganglion cells                            0.000000   \n",
       "\n",
       "                               retina-ganglion cells  \\\n",
       "thyroid gland-glandular cells               0.000468   \n",
       "duodenum-glandular cells                    0.000000   \n",
       "skeletal muscle-myocytes                    0.000000   \n",
       "spleen-cells in white pulp                  0.000000   \n",
       "retina-ganglion cells                       1.000000   \n",
       "\n",
       "                               adrenal gland-cells in zona fasciculata  \\\n",
       "thyroid gland-glandular cells                                      0.0   \n",
       "duodenum-glandular cells                                           0.0   \n",
       "skeletal muscle-myocytes                                           0.0   \n",
       "spleen-cells in white pulp                                         0.0   \n",
       "retina-ganglion cells                                              0.0   \n",
       "\n",
       "                               stomach 1-glandular cells  skin-sweat ducts  \\\n",
       "thyroid gland-glandular cells                   0.348060               0.0   \n",
       "duodenum-glandular cells                        0.503026               0.0   \n",
       "skeletal muscle-myocytes                        0.170431               0.0   \n",
       "spleen-cells in white pulp                      0.185208               0.0   \n",
       "retina-ganglion cells                           0.000000               0.0   \n",
       "\n",
       "                               lung-pneumocytes  \\\n",
       "thyroid gland-glandular cells          0.270270   \n",
       "duodenum-glandular cells               0.173538   \n",
       "skeletal muscle-myocytes               0.209853   \n",
       "spleen-cells in white pulp             0.225806   \n",
       "retina-ganglion cells                  0.000000   \n",
       "\n",
       "                               salivary gland-glandular cells  \\\n",
       "thyroid gland-glandular cells                        0.352709   \n",
       "duodenum-glandular cells                             0.304747   \n",
       "skeletal muscle-myocytes                             0.210310   \n",
       "spleen-cells in white pulp                           0.222062   \n",
       "retina-ganglion cells                                0.000000   \n",
       "\n",
       "                                         ...             \\\n",
       "thyroid gland-glandular cells            ...              \n",
       "duodenum-glandular cells                 ...              \n",
       "skeletal muscle-myocytes                 ...              \n",
       "spleen-cells in white pulp               ...              \n",
       "retina-ganglion cells                    ...              \n",
       "\n",
       "                               soft tissue 1-chondrocytes  \\\n",
       "thyroid gland-glandular cells                    0.091302   \n",
       "duodenum-glandular cells                         0.063338   \n",
       "skeletal muscle-myocytes                         0.093385   \n",
       "spleen-cells in white pulp                       0.084237   \n",
       "retina-ganglion cells                            0.000000   \n",
       "\n",
       "                               soft tissue 1-peripheral nerve  \\\n",
       "thyroid gland-glandular cells                        0.089270   \n",
       "duodenum-glandular cells                             0.057844   \n",
       "skeletal muscle-myocytes                             0.112158   \n",
       "spleen-cells in white pulp                           0.102493   \n",
       "retina-ganglion cells                                0.000000   \n",
       "\n",
       "                               cerebral cortex-endothelial cells  \\\n",
       "thyroid gland-glandular cells                           0.107414   \n",
       "duodenum-glandular cells                                0.078481   \n",
       "skeletal muscle-myocytes                                0.131737   \n",
       "spleen-cells in white pulp                              0.120223   \n",
       "retina-ganglion cells                                   0.000000   \n",
       "\n",
       "                               tonsil-non-germinal center cells  \\\n",
       "thyroid gland-glandular cells                          0.273082   \n",
       "duodenum-glandular cells                               0.243833   \n",
       "skeletal muscle-myocytes                               0.174679   \n",
       "spleen-cells in white pulp                             0.443494   \n",
       "retina-ganglion cells                                  0.000691   \n",
       "\n",
       "                               pituitary gland-cells in anterior  \\\n",
       "thyroid gland-glandular cells                                0.0   \n",
       "duodenum-glandular cells                                     0.0   \n",
       "skeletal muscle-myocytes                                     0.0   \n",
       "spleen-cells in white pulp                                   0.0   \n",
       "retina-ganglion cells                                        0.0   \n",
       "\n",
       "                               placenta-trophoblastic cells  \\\n",
       "thyroid gland-glandular cells                      0.386678   \n",
       "duodenum-glandular cells                           0.365211   \n",
       "skeletal muscle-myocytes                           0.165692   \n",
       "spleen-cells in white pulp                         0.173913   \n",
       "retina-ganglion cells                              0.000000   \n",
       "\n",
       "                               fallopian tube-glandular cells  \\\n",
       "thyroid gland-glandular cells                        0.379225   \n",
       "duodenum-glandular cells                             0.370757   \n",
       "skeletal muscle-myocytes                             0.174956   \n",
       "spleen-cells in white pulp                           0.214608   \n",
       "retina-ganglion cells                                0.000000   \n",
       "\n",
       "                               soft tissue 2-peripheral nerve  \\\n",
       "thyroid gland-glandular cells                        0.101391   \n",
       "duodenum-glandular cells                             0.064882   \n",
       "skeletal muscle-myocytes                             0.139693   \n",
       "spleen-cells in white pulp                           0.117860   \n",
       "retina-ganglion cells                                0.000000   \n",
       "\n",
       "                               skin-sebaceous cells  spleen-cells in red pulp  \n",
       "thyroid gland-glandular cells                   0.0                  0.202283  \n",
       "duodenum-glandular cells                        0.0                  0.148248  \n",
       "skeletal muscle-myocytes                        0.0                  0.181707  \n",
       "spleen-cells in white pulp                      0.0                  0.379233  \n",
       "retina-ganglion cells                           0.0                  0.000000  \n",
       "\n",
       "[5 rows x 108 columns]"
      ]
     },
     "execution_count": 28,
     "metadata": {},
     "output_type": "execute_result"
    }
   ],
   "source": [
    "attribute_similarity_matix.head()"
   ]
  },
  {
   "cell_type": "markdown",
   "metadata": {},
   "source": [
    "## Save Attribute Similarity Matrix"
   ]
  },
  {
   "cell_type": "code",
   "execution_count": 29,
   "metadata": {
    "collapsed": true
   },
   "outputs": [],
   "source": [
    "filename = '~/./Documents/Harmonizome/The_Human_Protaein_Atlas/Output/thpa_normal_tissue_attribute_similarity_matix_%s.tsv.zip'% str(datetime.date.today())[0:7].replace('-', '_')\n",
    "attribute_similarity_matix.to_csv(filename, sep='\\t', compression='gzip')"
   ]
  },
  {
   "cell_type": "markdown",
   "metadata": {},
   "source": [
    "# Create Gene List"
   ]
  },
  {
   "cell_type": "code",
   "execution_count": 30,
   "metadata": {},
   "outputs": [
    {
     "name": "stdout",
     "output_type": "stream",
     "text": [
      "Progeres: 100%  9490 Out of 9490   \r"
     ]
    }
   ],
   "source": [
    "gene_list = uf.createGeneList(binary_matrix)"
   ]
  },
  {
   "cell_type": "code",
   "execution_count": 31,
   "metadata": {},
   "outputs": [
    {
     "data": {
      "text/html": [
       "<div>\n",
       "<table border=\"1\" class=\"dataframe\">\n",
       "  <thead>\n",
       "    <tr style=\"text-align: right;\">\n",
       "      <th></th>\n",
       "      <th>GeneSym</th>\n",
       "      <th>GeneID</th>\n",
       "    </tr>\n",
       "  </thead>\n",
       "  <tbody>\n",
       "    <tr>\n",
       "      <th>0</th>\n",
       "      <td>CYP2A7</td>\n",
       "      <td>1549</td>\n",
       "    </tr>\n",
       "    <tr>\n",
       "      <th>1</th>\n",
       "      <td>NPIPA8</td>\n",
       "      <td>1.0106e+08</td>\n",
       "    </tr>\n",
       "    <tr>\n",
       "      <th>2</th>\n",
       "      <td>RORA</td>\n",
       "      <td>6095</td>\n",
       "    </tr>\n",
       "    <tr>\n",
       "      <th>3</th>\n",
       "      <td>SHMT1</td>\n",
       "      <td>6470</td>\n",
       "    </tr>\n",
       "    <tr>\n",
       "      <th>4</th>\n",
       "      <td>SPECC1L</td>\n",
       "      <td>23384</td>\n",
       "    </tr>\n",
       "  </tbody>\n",
       "</table>\n",
       "</div>"
      ],
      "text/plain": [
       "   GeneSym      GeneID\n",
       "0   CYP2A7        1549\n",
       "1   NPIPA8  1.0106e+08\n",
       "2     RORA        6095\n",
       "3    SHMT1        6470\n",
       "4  SPECC1L       23384"
      ]
     },
     "execution_count": 31,
     "metadata": {},
     "output_type": "execute_result"
    }
   ],
   "source": [
    "gene_list.head()"
   ]
  },
  {
   "cell_type": "code",
   "execution_count": 32,
   "metadata": {},
   "outputs": [
    {
     "data": {
      "text/plain": [
       "(9490, 2)"
      ]
     },
     "execution_count": 32,
     "metadata": {},
     "output_type": "execute_result"
    }
   ],
   "source": [
    "gene_list.shape"
   ]
  },
  {
   "cell_type": "markdown",
   "metadata": {},
   "source": [
    "### Save Gene List"
   ]
  },
  {
   "cell_type": "code",
   "execution_count": 33,
   "metadata": {
    "collapsed": true
   },
   "outputs": [],
   "source": [
    "filename = '~/./Documents/Harmonizome/The_Human_Protaein_Atlas/Output/thpa_normal_tissue_gene_list_%s.tsv.zip'% str(datetime.date.today())[0:7].replace('-', '_')\n",
    "gene_list.to_csv(filename, sep='\\t', index=False, compression='gzip')"
   ]
  },
  {
   "cell_type": "markdown",
   "metadata": {},
   "source": [
    "# Create Attribute List "
   ]
  },
  {
   "cell_type": "code",
   "execution_count": 34,
   "metadata": {
    "collapsed": true
   },
   "outputs": [],
   "source": [
    "attribute_list = uf.createAttributeList(binary_matrix)"
   ]
  },
  {
   "cell_type": "code",
   "execution_count": 35,
   "metadata": {},
   "outputs": [
    {
     "data": {
      "text/html": [
       "<div>\n",
       "<table border=\"1\" class=\"dataframe\">\n",
       "  <thead>\n",
       "    <tr style=\"text-align: right;\">\n",
       "      <th></th>\n",
       "      <th>Attributes</th>\n",
       "    </tr>\n",
       "  </thead>\n",
       "  <tbody>\n",
       "    <tr>\n",
       "      <th>0</th>\n",
       "      <td>thyroid gland-glandular cells</td>\n",
       "    </tr>\n",
       "    <tr>\n",
       "      <th>1</th>\n",
       "      <td>duodenum-glandular cells</td>\n",
       "    </tr>\n",
       "    <tr>\n",
       "      <th>2</th>\n",
       "      <td>skeletal muscle-myocytes</td>\n",
       "    </tr>\n",
       "    <tr>\n",
       "      <th>3</th>\n",
       "      <td>spleen-cells in white pulp</td>\n",
       "    </tr>\n",
       "    <tr>\n",
       "      <th>4</th>\n",
       "      <td>retina-ganglion cells</td>\n",
       "    </tr>\n",
       "  </tbody>\n",
       "</table>\n",
       "</div>"
      ],
      "text/plain": [
       "                      Attributes\n",
       "0  thyroid gland-glandular cells\n",
       "1       duodenum-glandular cells\n",
       "2       skeletal muscle-myocytes\n",
       "3     spleen-cells in white pulp\n",
       "4          retina-ganglion cells"
      ]
     },
     "execution_count": 35,
     "metadata": {},
     "output_type": "execute_result"
    }
   ],
   "source": [
    "attribute_list.head()"
   ]
  },
  {
   "cell_type": "code",
   "execution_count": 36,
   "metadata": {},
   "outputs": [
    {
     "data": {
      "text/plain": [
       "(108, 1)"
      ]
     },
     "execution_count": 36,
     "metadata": {},
     "output_type": "execute_result"
    }
   ],
   "source": [
    "attribute_list.shape"
   ]
  },
  {
   "cell_type": "markdown",
   "metadata": {},
   "source": [
    "### Save Attribute List"
   ]
  },
  {
   "cell_type": "code",
   "execution_count": 37,
   "metadata": {
    "collapsed": true
   },
   "outputs": [],
   "source": [
    "filename = '~/./Documents/Harmonizome/The_Human_Protaein_Atlas/Output/thpa_normal_tissue_attribute_list_%s.tsv.zip'% str(datetime.date.today())[0:7].replace('-', '_')\n",
    "attribute_list.to_csv(filename, sep='\\t', index=False, compression='gzip')"
   ]
  },
  {
   "cell_type": "markdown",
   "metadata": {},
   "source": [
    "# Create Gene-Attribute Edge List"
   ]
  },
  {
   "cell_type": "code",
   "execution_count": 38,
   "metadata": {
    "collapsed": true
   },
   "outputs": [],
   "source": [
    "path = '/Users/moshesilverstein/Documents/Harmonizome/The_Human_Protaein_Atlas/Output/'"
   ]
  },
  {
   "cell_type": "code",
   "execution_count": 39,
   "metadata": {
    "collapsed": true
   },
   "outputs": [],
   "source": [
    "name = 'thpa_normal_tissue_gene_attribute_edge_list'"
   ]
  },
  {
   "cell_type": "code",
   "execution_count": 40,
   "metadata": {},
   "outputs": [
    {
     "name": "stdout",
     "output_type": "stream",
     "text": [
      "Progeres: 100%  108 Out of 108   \n",
      "\n",
      " The number of statisticaly relevent gene-attribute associations is: 117708\n"
     ]
    }
   ],
   "source": [
    "uf.createGeneAttributeEdgeList(binary_matrix, gene_list, path, name)"
   ]
  }
 ],
 "metadata": {
  "kernelspec": {
   "display_name": "Python [default]",
   "language": "python",
   "name": "python3"
  },
  "language_info": {
   "codemirror_mode": {
    "name": "ipython",
    "version": 3
   },
   "file_extension": ".py",
   "mimetype": "text/x-python",
   "name": "python",
   "nbconvert_exporter": "python",
   "pygments_lexer": "ipython3",
   "version": "3.5.2"
  }
 },
 "nbformat": 4,
 "nbformat_minor": 2
}
