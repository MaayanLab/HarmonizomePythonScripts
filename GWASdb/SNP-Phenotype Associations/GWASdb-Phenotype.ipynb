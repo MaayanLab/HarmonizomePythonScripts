{
 "cells": [
  {
   "cell_type": "markdown",
   "metadata": {},
   "source": [
    "# GWASdb-Phenotype"
   ]
  },
  {
   "cell_type": "markdown",
   "metadata": {},
   "source": [
    "Author: Moshe Silverstein <br/>\n",
    "Date: 11-17 <br/>\n",
    "Data Source: http://jjwanglab.org/gwasdb"
   ]
  },
  {
   "cell_type": "code",
   "execution_count": 1,
   "metadata": {
    "collapsed": true
   },
   "outputs": [],
   "source": [
    "import sys, datetime, os\n",
    "import numpy as np\n",
    "import pandas as pd\n",
    "import importlib\n",
    "import untility_functions as uf\n",
    "%matplotlib inline"
   ]
  },
  {
   "cell_type": "code",
   "execution_count": 2,
   "metadata": {},
   "outputs": [
    {
     "data": {
      "text/plain": [
       "<module 'untility_functions' from '/Users/moshesilverstein/Documents/Harmonizome/GWASdb/untility_functions.py'>"
      ]
     },
     "execution_count": 2,
     "metadata": {},
     "output_type": "execute_result"
    }
   ],
   "source": [
    "importlib.reload(uf)"
   ]
  },
  {
   "cell_type": "markdown",
   "metadata": {},
   "source": [
    "# Load Data"
   ]
  },
  {
   "cell_type": "code",
   "execution_count": 3,
   "metadata": {},
   "outputs": [
    {
     "name": "stderr",
     "output_type": "stream",
     "text": [
      "/Users/moshesilverstein/anaconda/lib/python3.5/site-packages/IPython/core/interactiveshell.py:2717: DtypeWarning: Columns (0) have mixed types. Specify dtype option on import or set low_memory=False.\n",
      "  interactivity=interactivity, compiler=compiler, result=result)\n"
     ]
    }
   ],
   "source": [
    "df = pd.read_csv('Input/gwasdb_20150819_snp_trait.gz', sep='\\t')"
   ]
  },
  {
   "cell_type": "code",
   "execution_count": 4,
   "metadata": {},
   "outputs": [
    {
     "data": {
      "text/html": [
       "<div>\n",
       "<style>\n",
       "    .dataframe thead tr:only-child th {\n",
       "        text-align: right;\n",
       "    }\n",
       "\n",
       "    .dataframe thead th {\n",
       "        text-align: left;\n",
       "    }\n",
       "\n",
       "    .dataframe tbody tr th {\n",
       "        vertical-align: top;\n",
       "    }\n",
       "</style>\n",
       "<table border=\"1\" class=\"dataframe\">\n",
       "  <thead>\n",
       "    <tr style=\"text-align: right;\">\n",
       "      <th></th>\n",
       "      <th>CHR</th>\n",
       "      <th>POS</th>\n",
       "      <th>SNPID</th>\n",
       "      <th>REF</th>\n",
       "      <th>ALT</th>\n",
       "      <th>ORI_SNPID</th>\n",
       "      <th>PMID</th>\n",
       "      <th>P_VALUE</th>\n",
       "      <th>P_VALUE_TEXT</th>\n",
       "      <th>OR/BETA</th>\n",
       "      <th>...</th>\n",
       "      <th>MESH_TERM</th>\n",
       "      <th>EFO_ID</th>\n",
       "      <th>EFO_TERM</th>\n",
       "      <th>DOLITE_TERM</th>\n",
       "      <th>RISK_ALLELE</th>\n",
       "      <th>PUBLICATION_TYPE</th>\n",
       "      <th>AA</th>\n",
       "      <th>GENE_SYMBOL</th>\n",
       "      <th>TYPE</th>\n",
       "      <th>REFGENE</th>\n",
       "    </tr>\n",
       "  </thead>\n",
       "  <tbody>\n",
       "    <tr>\n",
       "      <th>0</th>\n",
       "      <td>1</td>\n",
       "      <td>565596</td>\n",
       "      <td>rs568632519</td>\n",
       "      <td>G</td>\n",
       "      <td>A</td>\n",
       "      <td>rs28357983</td>\n",
       "      <td>22091778</td>\n",
       "      <td>7.280000e-05</td>\n",
       "      <td>Taste change in healthy volunteers in response...</td>\n",
       "      <td>NaN</td>\n",
       "      <td>...</td>\n",
       "      <td>NaN</td>\n",
       "      <td>NaN</td>\n",
       "      <td>NaN</td>\n",
       "      <td>Mental retardation</td>\n",
       "      <td>NaN</td>\n",
       "      <td>Research Support, N.I.H., Extramural</td>\n",
       "      <td>NaN</td>\n",
       "      <td>NaN</td>\n",
       "      <td>NaN</td>\n",
       "      <td>NaN</td>\n",
       "    </tr>\n",
       "    <tr>\n",
       "      <th>1</th>\n",
       "      <td>1</td>\n",
       "      <td>807512</td>\n",
       "      <td>rs10751454</td>\n",
       "      <td>A</td>\n",
       "      <td>G</td>\n",
       "      <td>rs10751454</td>\n",
       "      <td>22174011</td>\n",
       "      <td>2.200000e-13</td>\n",
       "      <td>Cardiovascular disease prevalence</td>\n",
       "      <td>NaN</td>\n",
       "      <td>...</td>\n",
       "      <td>NaN</td>\n",
       "      <td>NaN</td>\n",
       "      <td>NaN</td>\n",
       "      <td>Cancer|Cardiovascular disease</td>\n",
       "      <td>NaN</td>\n",
       "      <td>Research Support, N.I.H., Extramural|Research ...</td>\n",
       "      <td>G</td>\n",
       "      <td>FAM41C</td>\n",
       "      <td>intron</td>\n",
       "      <td>NR_027055</td>\n",
       "    </tr>\n",
       "    <tr>\n",
       "      <th>2</th>\n",
       "      <td>1</td>\n",
       "      <td>807512</td>\n",
       "      <td>rs10751454</td>\n",
       "      <td>A</td>\n",
       "      <td>G</td>\n",
       "      <td>rs10751454</td>\n",
       "      <td>22174011</td>\n",
       "      <td>5.400000e-21</td>\n",
       "      <td>Systolic blood pressure (SBP)</td>\n",
       "      <td>NaN</td>\n",
       "      <td>...</td>\n",
       "      <td>NaN</td>\n",
       "      <td>NaN</td>\n",
       "      <td>NaN</td>\n",
       "      <td>Cancer|Cardiovascular disease</td>\n",
       "      <td>NaN</td>\n",
       "      <td>Research Support, N.I.H., Extramural|Research ...</td>\n",
       "      <td>G</td>\n",
       "      <td>FAM41C</td>\n",
       "      <td>intron</td>\n",
       "      <td>NR_027055</td>\n",
       "    </tr>\n",
       "    <tr>\n",
       "      <th>3</th>\n",
       "      <td>1</td>\n",
       "      <td>807512</td>\n",
       "      <td>rs10751454</td>\n",
       "      <td>A</td>\n",
       "      <td>G</td>\n",
       "      <td>rs10751454</td>\n",
       "      <td>22174011</td>\n",
       "      <td>7.700000e-09</td>\n",
       "      <td>Total cholesterol</td>\n",
       "      <td>NaN</td>\n",
       "      <td>...</td>\n",
       "      <td>NaN</td>\n",
       "      <td>NaN</td>\n",
       "      <td>NaN</td>\n",
       "      <td>Cancer|Cardiovascular disease</td>\n",
       "      <td>NaN</td>\n",
       "      <td>Research Support, N.I.H., Extramural|Research ...</td>\n",
       "      <td>G</td>\n",
       "      <td>FAM41C</td>\n",
       "      <td>intron</td>\n",
       "      <td>NR_027055</td>\n",
       "    </tr>\n",
       "    <tr>\n",
       "      <th>4</th>\n",
       "      <td>1</td>\n",
       "      <td>880238</td>\n",
       "      <td>rs3748592</td>\n",
       "      <td>A</td>\n",
       "      <td>G</td>\n",
       "      <td>rs3748592</td>\n",
       "      <td>24665060</td>\n",
       "      <td>1.090000e-04</td>\n",
       "      <td>NaN</td>\n",
       "      <td>NaN</td>\n",
       "      <td>...</td>\n",
       "      <td>NaN</td>\n",
       "      <td>NaN</td>\n",
       "      <td>NaN</td>\n",
       "      <td>Drug abuse</td>\n",
       "      <td>NaN</td>\n",
       "      <td>Research Support, N.I.H., Extramural</td>\n",
       "      <td>G</td>\n",
       "      <td>NOC2L</td>\n",
       "      <td>intron</td>\n",
       "      <td>NM_015658</td>\n",
       "    </tr>\n",
       "  </tbody>\n",
       "</table>\n",
       "<p>5 rows × 30 columns</p>\n",
       "</div>"
      ],
      "text/plain": [
       "  CHR     POS        SNPID REF ALT   ORI_SNPID      PMID       P_VALUE  \\\n",
       "0   1  565596  rs568632519   G   A  rs28357983  22091778  7.280000e-05   \n",
       "1   1  807512   rs10751454   A   G  rs10751454  22174011  2.200000e-13   \n",
       "2   1  807512   rs10751454   A   G  rs10751454  22174011  5.400000e-21   \n",
       "3   1  807512   rs10751454   A   G  rs10751454  22174011  7.700000e-09   \n",
       "4   1  880238    rs3748592   A   G   rs3748592  24665060  1.090000e-04   \n",
       "\n",
       "                                        P_VALUE_TEXT OR/BETA    ...      \\\n",
       "0  Taste change in healthy volunteers in response...     NaN    ...       \n",
       "1                  Cardiovascular disease prevalence     NaN    ...       \n",
       "2                      Systolic blood pressure (SBP)     NaN    ...       \n",
       "3                                  Total cholesterol     NaN    ...       \n",
       "4                                                NaN     NaN    ...       \n",
       "\n",
       "  MESH_TERM EFO_ID EFO_TERM                    DOLITE_TERM RISK_ALLELE  \\\n",
       "0       NaN    NaN      NaN             Mental retardation         NaN   \n",
       "1       NaN    NaN      NaN  Cancer|Cardiovascular disease         NaN   \n",
       "2       NaN    NaN      NaN  Cancer|Cardiovascular disease         NaN   \n",
       "3       NaN    NaN      NaN  Cancer|Cardiovascular disease         NaN   \n",
       "4       NaN    NaN      NaN                     Drug abuse         NaN   \n",
       "\n",
       "                                    PUBLICATION_TYPE   AA GENE_SYMBOL    TYPE  \\\n",
       "0               Research Support, N.I.H., Extramural  NaN         NaN     NaN   \n",
       "1  Research Support, N.I.H., Extramural|Research ...    G      FAM41C  intron   \n",
       "2  Research Support, N.I.H., Extramural|Research ...    G      FAM41C  intron   \n",
       "3  Research Support, N.I.H., Extramural|Research ...    G      FAM41C  intron   \n",
       "4               Research Support, N.I.H., Extramural    G       NOC2L  intron   \n",
       "\n",
       "     REFGENE  \n",
       "0        NaN  \n",
       "1  NR_027055  \n",
       "2  NR_027055  \n",
       "3  NR_027055  \n",
       "4  NM_015658  \n",
       "\n",
       "[5 rows x 30 columns]"
      ]
     },
     "execution_count": 4,
     "metadata": {},
     "output_type": "execute_result"
    }
   ],
   "source": [
    "df.head()"
   ]
  },
  {
   "cell_type": "code",
   "execution_count": 5,
   "metadata": {},
   "outputs": [
    {
     "data": {
      "text/plain": [
       "(314237, 30)"
      ]
     },
     "execution_count": 5,
     "metadata": {},
     "output_type": "execute_result"
    }
   ],
   "source": [
    "df.shape"
   ]
  },
  {
   "cell_type": "markdown",
   "metadata": {},
   "source": [
    "# Get Relevent Data"
   ]
  },
  {
   "cell_type": "code",
   "execution_count": 6,
   "metadata": {
    "collapsed": true
   },
   "outputs": [],
   "source": [
    "df = df[['GENE_SYMBOL', 'HPO_TERM']]"
   ]
  },
  {
   "cell_type": "code",
   "execution_count": 7,
   "metadata": {},
   "outputs": [
    {
     "data": {
      "text/html": [
       "<div>\n",
       "<style>\n",
       "    .dataframe thead tr:only-child th {\n",
       "        text-align: right;\n",
       "    }\n",
       "\n",
       "    .dataframe thead th {\n",
       "        text-align: left;\n",
       "    }\n",
       "\n",
       "    .dataframe tbody tr th {\n",
       "        vertical-align: top;\n",
       "    }\n",
       "</style>\n",
       "<table border=\"1\" class=\"dataframe\">\n",
       "  <thead>\n",
       "    <tr style=\"text-align: right;\">\n",
       "      <th></th>\n",
       "      <th>GENE_SYMBOL</th>\n",
       "      <th>HPO_TERM</th>\n",
       "    </tr>\n",
       "  </thead>\n",
       "  <tbody>\n",
       "    <tr>\n",
       "      <th>0</th>\n",
       "      <td>NaN</td>\n",
       "      <td>Cognitive impairment</td>\n",
       "    </tr>\n",
       "    <tr>\n",
       "      <th>1</th>\n",
       "      <td>FAM41C</td>\n",
       "      <td>Neoplasm|Abnormality of the cardiovascular system</td>\n",
       "    </tr>\n",
       "    <tr>\n",
       "      <th>2</th>\n",
       "      <td>FAM41C</td>\n",
       "      <td>Neoplasm|Abnormality of the cardiovascular system</td>\n",
       "    </tr>\n",
       "    <tr>\n",
       "      <th>3</th>\n",
       "      <td>FAM41C</td>\n",
       "      <td>Neoplasm|Abnormality of the cardiovascular system</td>\n",
       "    </tr>\n",
       "    <tr>\n",
       "      <th>4</th>\n",
       "      <td>NOC2L</td>\n",
       "      <td>Abnormality of the nervous system</td>\n",
       "    </tr>\n",
       "    <tr>\n",
       "      <th>5</th>\n",
       "      <td>NaN</td>\n",
       "      <td>Amyotrophic lateral sclerosis</td>\n",
       "    </tr>\n",
       "    <tr>\n",
       "      <th>6</th>\n",
       "      <td>NaN</td>\n",
       "      <td>Growth abnormality</td>\n",
       "    </tr>\n",
       "    <tr>\n",
       "      <th>7</th>\n",
       "      <td>C1orf159</td>\n",
       "      <td>Abnormal eating behavior</td>\n",
       "    </tr>\n",
       "    <tr>\n",
       "      <th>8</th>\n",
       "      <td>C1orf159</td>\n",
       "      <td>Nausea and vomiting</td>\n",
       "    </tr>\n",
       "    <tr>\n",
       "      <th>9</th>\n",
       "      <td>C1orf159</td>\n",
       "      <td>Abnormal eating behavior</td>\n",
       "    </tr>\n",
       "  </tbody>\n",
       "</table>\n",
       "</div>"
      ],
      "text/plain": [
       "  GENE_SYMBOL                                           HPO_TERM\n",
       "0         NaN                               Cognitive impairment\n",
       "1      FAM41C  Neoplasm|Abnormality of the cardiovascular system\n",
       "2      FAM41C  Neoplasm|Abnormality of the cardiovascular system\n",
       "3      FAM41C  Neoplasm|Abnormality of the cardiovascular system\n",
       "4       NOC2L                  Abnormality of the nervous system\n",
       "5         NaN                      Amyotrophic lateral sclerosis\n",
       "6         NaN                                 Growth abnormality\n",
       "7    C1orf159                           Abnormal eating behavior\n",
       "8    C1orf159                                Nausea and vomiting\n",
       "9    C1orf159                           Abnormal eating behavior"
      ]
     },
     "execution_count": 7,
     "metadata": {},
     "output_type": "execute_result"
    }
   ],
   "source": [
    "df.head(10)"
   ]
  },
  {
   "cell_type": "code",
   "execution_count": 8,
   "metadata": {},
   "outputs": [
    {
     "data": {
      "text/plain": [
       "(314237, 2)"
      ]
     },
     "execution_count": 8,
     "metadata": {},
     "output_type": "execute_result"
    }
   ],
   "source": [
    "df.shape"
   ]
  },
  {
   "cell_type": "code",
   "execution_count": 9,
   "metadata": {
    "collapsed": true
   },
   "outputs": [],
   "source": [
    "df.drop_duplicates(inplace=True)"
   ]
  },
  {
   "cell_type": "code",
   "execution_count": 10,
   "metadata": {},
   "outputs": [
    {
     "data": {
      "text/plain": [
       "(61023, 2)"
      ]
     },
     "execution_count": 10,
     "metadata": {},
     "output_type": "execute_result"
    }
   ],
   "source": [
    "df.shape"
   ]
  },
  {
   "cell_type": "code",
   "execution_count": 11,
   "metadata": {
    "collapsed": true
   },
   "outputs": [],
   "source": [
    "df.dropna(inplace=True)"
   ]
  },
  {
   "cell_type": "code",
   "execution_count": 12,
   "metadata": {},
   "outputs": [
    {
     "data": {
      "text/plain": [
       "(59614, 2)"
      ]
     },
     "execution_count": 12,
     "metadata": {},
     "output_type": "execute_result"
    }
   ],
   "source": [
    "df.shape"
   ]
  },
  {
   "cell_type": "code",
   "execution_count": 13,
   "metadata": {},
   "outputs": [
    {
     "data": {
      "text/html": [
       "<div>\n",
       "<style>\n",
       "    .dataframe thead tr:only-child th {\n",
       "        text-align: right;\n",
       "    }\n",
       "\n",
       "    .dataframe thead th {\n",
       "        text-align: left;\n",
       "    }\n",
       "\n",
       "    .dataframe tbody tr th {\n",
       "        vertical-align: top;\n",
       "    }\n",
       "</style>\n",
       "<table border=\"1\" class=\"dataframe\">\n",
       "  <thead>\n",
       "    <tr style=\"text-align: right;\">\n",
       "      <th></th>\n",
       "      <th>GENE_SYMBOL</th>\n",
       "      <th>HPO_TERM</th>\n",
       "    </tr>\n",
       "  </thead>\n",
       "  <tbody>\n",
       "    <tr>\n",
       "      <th>1</th>\n",
       "      <td>FAM41C</td>\n",
       "      <td>Neoplasm|Abnormality of the cardiovascular system</td>\n",
       "    </tr>\n",
       "    <tr>\n",
       "      <th>4</th>\n",
       "      <td>NOC2L</td>\n",
       "      <td>Abnormality of the nervous system</td>\n",
       "    </tr>\n",
       "    <tr>\n",
       "      <th>7</th>\n",
       "      <td>C1orf159</td>\n",
       "      <td>Abnormal eating behavior</td>\n",
       "    </tr>\n",
       "    <tr>\n",
       "      <th>8</th>\n",
       "      <td>C1orf159</td>\n",
       "      <td>Nausea and vomiting</td>\n",
       "    </tr>\n",
       "    <tr>\n",
       "      <th>13</th>\n",
       "      <td>TTLL10</td>\n",
       "      <td>Abnormality of the nervous system</td>\n",
       "    </tr>\n",
       "  </tbody>\n",
       "</table>\n",
       "</div>"
      ],
      "text/plain": [
       "   GENE_SYMBOL                                           HPO_TERM\n",
       "1       FAM41C  Neoplasm|Abnormality of the cardiovascular system\n",
       "4        NOC2L                  Abnormality of the nervous system\n",
       "7     C1orf159                           Abnormal eating behavior\n",
       "8     C1orf159                                Nausea and vomiting\n",
       "13      TTLL10                  Abnormality of the nervous system"
      ]
     },
     "execution_count": 13,
     "metadata": {},
     "output_type": "execute_result"
    }
   ],
   "source": [
    "df.head()"
   ]
  },
  {
   "cell_type": "code",
   "execution_count": 15,
   "metadata": {},
   "outputs": [
    {
     "name": "stdout",
     "output_type": "stream",
     "text": [
      "Progeres: 100%  59614 Out of 59614   \r"
     ]
    }
   ],
   "source": [
    "df_interactions = pd.DataFrame()\n",
    "\n",
    "for i, index in enumerate(df.index):\n",
    "    \n",
    "    progressPercent = ((i+1)/len(df.index))*100\n",
    "\n",
    "    sys.stdout.write(\"Progeres: %d%%  %d Out of %d   \\r\" % (progressPercent, (i+1), len(df.index)))\n",
    "    sys.stdout.flush()\n",
    "    \n",
    "    if type(df.loc[index, 'GENE_SYMBOL']) != float:\n",
    "        lst2 = df.loc[index, 'HPO_TERM'].split('|')\n",
    "        lst1 = [df.loc[index, 'GENE_SYMBOL']]*(len(lst2))\n",
    "        temp = pd.DataFrame()\n",
    "        temp['Phenotype'] = lst2\n",
    "        temp['Gene Name'] = lst1\n",
    "        df_interactions = pd.concat([df_interactions, temp]) "
   ]
  },
  {
   "cell_type": "code",
   "execution_count": 16,
   "metadata": {},
   "outputs": [
    {
     "data": {
      "text/html": [
       "<div>\n",
       "<style>\n",
       "    .dataframe thead tr:only-child th {\n",
       "        text-align: right;\n",
       "    }\n",
       "\n",
       "    .dataframe thead th {\n",
       "        text-align: left;\n",
       "    }\n",
       "\n",
       "    .dataframe tbody tr th {\n",
       "        vertical-align: top;\n",
       "    }\n",
       "</style>\n",
       "<table border=\"1\" class=\"dataframe\">\n",
       "  <thead>\n",
       "    <tr style=\"text-align: right;\">\n",
       "      <th></th>\n",
       "      <th>Phenotype</th>\n",
       "      <th>Gene Name</th>\n",
       "    </tr>\n",
       "  </thead>\n",
       "  <tbody>\n",
       "    <tr>\n",
       "      <th>0</th>\n",
       "      <td>Neoplasm</td>\n",
       "      <td>FAM41C</td>\n",
       "    </tr>\n",
       "    <tr>\n",
       "      <th>1</th>\n",
       "      <td>Abnormality of the cardiovascular system</td>\n",
       "      <td>FAM41C</td>\n",
       "    </tr>\n",
       "    <tr>\n",
       "      <th>0</th>\n",
       "      <td>Abnormality of the nervous system</td>\n",
       "      <td>NOC2L</td>\n",
       "    </tr>\n",
       "    <tr>\n",
       "      <th>0</th>\n",
       "      <td>Abnormal eating behavior</td>\n",
       "      <td>C1orf159</td>\n",
       "    </tr>\n",
       "    <tr>\n",
       "      <th>0</th>\n",
       "      <td>Nausea and vomiting</td>\n",
       "      <td>C1orf159</td>\n",
       "    </tr>\n",
       "  </tbody>\n",
       "</table>\n",
       "</div>"
      ],
      "text/plain": [
       "                                  Phenotype Gene Name\n",
       "0                                  Neoplasm    FAM41C\n",
       "1  Abnormality of the cardiovascular system    FAM41C\n",
       "0         Abnormality of the nervous system     NOC2L\n",
       "0                  Abnormal eating behavior  C1orf159\n",
       "0                       Nausea and vomiting  C1orf159"
      ]
     },
     "execution_count": 16,
     "metadata": {},
     "output_type": "execute_result"
    }
   ],
   "source": [
    "df_interactions.head()"
   ]
  },
  {
   "cell_type": "code",
   "execution_count": 17,
   "metadata": {},
   "outputs": [
    {
     "data": {
      "text/plain": [
       "(75907, 2)"
      ]
     },
     "execution_count": 17,
     "metadata": {},
     "output_type": "execute_result"
    }
   ],
   "source": [
    "df_interactions.shape"
   ]
  },
  {
   "cell_type": "markdown",
   "metadata": {},
   "source": [
    "# Map Gene Symbols To Up-to-date Approved Gene Symbols"
   ]
  },
  {
   "cell_type": "code",
   "execution_count": 18,
   "metadata": {
    "collapsed": true
   },
   "outputs": [],
   "source": [
    "df_interactions.set_index('Gene Name', inplace=True)"
   ]
  },
  {
   "cell_type": "code",
   "execution_count": 19,
   "metadata": {},
   "outputs": [
    {
     "name": "stdout",
     "output_type": "stream",
     "text": [
      "Progeres: 100%  75907 Out of 75907   \r"
     ]
    }
   ],
   "source": [
    "uf.mapgenesymbols(df_interactions)"
   ]
  },
  {
   "cell_type": "markdown",
   "metadata": {},
   "source": [
    "# Drop Duplicates"
   ]
  },
  {
   "cell_type": "code",
   "execution_count": 20,
   "metadata": {
    "collapsed": true
   },
   "outputs": [],
   "source": [
    "df_interactions.reset_index(inplace=True)"
   ]
  },
  {
   "cell_type": "code",
   "execution_count": 21,
   "metadata": {
    "collapsed": true
   },
   "outputs": [],
   "source": [
    "df_interactions.drop_duplicates(inplace=True)"
   ]
  },
  {
   "cell_type": "code",
   "execution_count": 22,
   "metadata": {},
   "outputs": [
    {
     "data": {
      "text/plain": [
       "(70482, 2)"
      ]
     },
     "execution_count": 22,
     "metadata": {},
     "output_type": "execute_result"
    }
   ],
   "source": [
    "df_interactions.shape"
   ]
  },
  {
   "cell_type": "markdown",
   "metadata": {},
   "source": [
    "# Create Binary Matrix"
   ]
  },
  {
   "cell_type": "code",
   "execution_count": 23,
   "metadata": {},
   "outputs": [
    {
     "name": "stdout",
     "output_type": "stream",
     "text": [
      "Progeres: 100%  12652 Out of 12652   \r"
     ]
    }
   ],
   "source": [
    "binary_matrix = uf.createBinaryMatix(df_interactions)"
   ]
  },
  {
   "cell_type": "code",
   "execution_count": 24,
   "metadata": {},
   "outputs": [
    {
     "data": {
      "text/html": [
       "<div>\n",
       "<style>\n",
       "    .dataframe thead tr:only-child th {\n",
       "        text-align: right;\n",
       "    }\n",
       "\n",
       "    .dataframe thead th {\n",
       "        text-align: left;\n",
       "    }\n",
       "\n",
       "    .dataframe tbody tr th {\n",
       "        vertical-align: top;\n",
       "    }\n",
       "</style>\n",
       "<table border=\"1\" class=\"dataframe\">\n",
       "  <thead>\n",
       "    <tr style=\"text-align: right;\">\n",
       "      <th></th>\n",
       "      <th>Reduced factor VIII activity</th>\n",
       "      <th>Coronary artery stenosis</th>\n",
       "      <th>Neoplasm of the respiratory system</th>\n",
       "      <th>Insomnia</th>\n",
       "      <th>Neoplasm of the gallbladder</th>\n",
       "      <th>Decreased liver function</th>\n",
       "      <th>Abnormality of unsaturated fatty acid metabolism</th>\n",
       "      <th>Nephropathy</th>\n",
       "      <th>Sick sinus syndrome</th>\n",
       "      <th>Abnormality of the calf</th>\n",
       "      <th>...</th>\n",
       "      <th>Abnormality of cholesterol metabolism</th>\n",
       "      <th>Abnormality of the adrenal glands</th>\n",
       "      <th>Neoplasm of the lungs</th>\n",
       "      <th>Abnormal facial shape</th>\n",
       "      <th>Barrett esophagus</th>\n",
       "      <th>Abnormality of body weight</th>\n",
       "      <th>Hyperbilirubinemia</th>\n",
       "      <th>Abnormality of neutrophils</th>\n",
       "      <th>Abnormality of retinal arteries</th>\n",
       "      <th>Increased serum iron</th>\n",
       "    </tr>\n",
       "  </thead>\n",
       "  <tbody>\n",
       "    <tr>\n",
       "      <th>LINC02393</th>\n",
       "      <td>0</td>\n",
       "      <td>0</td>\n",
       "      <td>0</td>\n",
       "      <td>0</td>\n",
       "      <td>0</td>\n",
       "      <td>0</td>\n",
       "      <td>0</td>\n",
       "      <td>0</td>\n",
       "      <td>0</td>\n",
       "      <td>0</td>\n",
       "      <td>...</td>\n",
       "      <td>0</td>\n",
       "      <td>0</td>\n",
       "      <td>0</td>\n",
       "      <td>0</td>\n",
       "      <td>0</td>\n",
       "      <td>0</td>\n",
       "      <td>0</td>\n",
       "      <td>0</td>\n",
       "      <td>0</td>\n",
       "      <td>0</td>\n",
       "    </tr>\n",
       "    <tr>\n",
       "      <th>PIGL</th>\n",
       "      <td>0</td>\n",
       "      <td>0</td>\n",
       "      <td>0</td>\n",
       "      <td>0</td>\n",
       "      <td>0</td>\n",
       "      <td>0</td>\n",
       "      <td>0</td>\n",
       "      <td>0</td>\n",
       "      <td>0</td>\n",
       "      <td>0</td>\n",
       "      <td>...</td>\n",
       "      <td>0</td>\n",
       "      <td>0</td>\n",
       "      <td>0</td>\n",
       "      <td>0</td>\n",
       "      <td>0</td>\n",
       "      <td>0</td>\n",
       "      <td>0</td>\n",
       "      <td>0</td>\n",
       "      <td>0</td>\n",
       "      <td>0</td>\n",
       "    </tr>\n",
       "    <tr>\n",
       "      <th>ZBTB17</th>\n",
       "      <td>0</td>\n",
       "      <td>0</td>\n",
       "      <td>0</td>\n",
       "      <td>0</td>\n",
       "      <td>0</td>\n",
       "      <td>0</td>\n",
       "      <td>0</td>\n",
       "      <td>0</td>\n",
       "      <td>0</td>\n",
       "      <td>0</td>\n",
       "      <td>...</td>\n",
       "      <td>0</td>\n",
       "      <td>0</td>\n",
       "      <td>0</td>\n",
       "      <td>0</td>\n",
       "      <td>0</td>\n",
       "      <td>0</td>\n",
       "      <td>0</td>\n",
       "      <td>0</td>\n",
       "      <td>0</td>\n",
       "      <td>0</td>\n",
       "    </tr>\n",
       "    <tr>\n",
       "      <th>IQUB</th>\n",
       "      <td>0</td>\n",
       "      <td>0</td>\n",
       "      <td>0</td>\n",
       "      <td>0</td>\n",
       "      <td>0</td>\n",
       "      <td>0</td>\n",
       "      <td>0</td>\n",
       "      <td>0</td>\n",
       "      <td>0</td>\n",
       "      <td>0</td>\n",
       "      <td>...</td>\n",
       "      <td>0</td>\n",
       "      <td>0</td>\n",
       "      <td>0</td>\n",
       "      <td>0</td>\n",
       "      <td>0</td>\n",
       "      <td>0</td>\n",
       "      <td>0</td>\n",
       "      <td>0</td>\n",
       "      <td>0</td>\n",
       "      <td>0</td>\n",
       "    </tr>\n",
       "    <tr>\n",
       "      <th>PELI2</th>\n",
       "      <td>0</td>\n",
       "      <td>0</td>\n",
       "      <td>0</td>\n",
       "      <td>0</td>\n",
       "      <td>0</td>\n",
       "      <td>0</td>\n",
       "      <td>0</td>\n",
       "      <td>0</td>\n",
       "      <td>0</td>\n",
       "      <td>0</td>\n",
       "      <td>...</td>\n",
       "      <td>0</td>\n",
       "      <td>0</td>\n",
       "      <td>1</td>\n",
       "      <td>0</td>\n",
       "      <td>0</td>\n",
       "      <td>0</td>\n",
       "      <td>0</td>\n",
       "      <td>0</td>\n",
       "      <td>0</td>\n",
       "      <td>0</td>\n",
       "    </tr>\n",
       "  </tbody>\n",
       "</table>\n",
       "<p>5 rows × 487 columns</p>\n",
       "</div>"
      ],
      "text/plain": [
       "           Reduced factor VIII activity  Coronary artery stenosis  \\\n",
       "LINC02393                             0                         0   \n",
       "PIGL                                  0                         0   \n",
       "ZBTB17                                0                         0   \n",
       "IQUB                                  0                         0   \n",
       "PELI2                                 0                         0   \n",
       "\n",
       "           Neoplasm of the respiratory system  Insomnia  \\\n",
       "LINC02393                                   0         0   \n",
       "PIGL                                        0         0   \n",
       "ZBTB17                                      0         0   \n",
       "IQUB                                        0         0   \n",
       "PELI2                                       0         0   \n",
       "\n",
       "           Neoplasm of the gallbladder  Decreased liver function  \\\n",
       "LINC02393                            0                         0   \n",
       "PIGL                                 0                         0   \n",
       "ZBTB17                               0                         0   \n",
       "IQUB                                 0                         0   \n",
       "PELI2                                0                         0   \n",
       "\n",
       "           Abnormality of unsaturated fatty acid metabolism  Nephropathy  \\\n",
       "LINC02393                                                 0            0   \n",
       "PIGL                                                      0            0   \n",
       "ZBTB17                                                    0            0   \n",
       "IQUB                                                      0            0   \n",
       "PELI2                                                     0            0   \n",
       "\n",
       "           Sick sinus syndrome  Abnormality of the calf          ...           \\\n",
       "LINC02393                    0                        0          ...            \n",
       "PIGL                         0                        0          ...            \n",
       "ZBTB17                       0                        0          ...            \n",
       "IQUB                         0                        0          ...            \n",
       "PELI2                        0                        0          ...            \n",
       "\n",
       "           Abnormality of cholesterol metabolism  \\\n",
       "LINC02393                                      0   \n",
       "PIGL                                           0   \n",
       "ZBTB17                                         0   \n",
       "IQUB                                           0   \n",
       "PELI2                                          0   \n",
       "\n",
       "           Abnormality of the adrenal glands  Neoplasm of the lungs  \\\n",
       "LINC02393                                  0                      0   \n",
       "PIGL                                       0                      0   \n",
       "ZBTB17                                     0                      0   \n",
       "IQUB                                       0                      0   \n",
       "PELI2                                      0                      1   \n",
       "\n",
       "           Abnormal facial shape  Barrett esophagus  \\\n",
       "LINC02393                      0                  0   \n",
       "PIGL                           0                  0   \n",
       "ZBTB17                         0                  0   \n",
       "IQUB                           0                  0   \n",
       "PELI2                          0                  0   \n",
       "\n",
       "           Abnormality of body weight  Hyperbilirubinemia  \\\n",
       "LINC02393                           0                   0   \n",
       "PIGL                                0                   0   \n",
       "ZBTB17                              0                   0   \n",
       "IQUB                                0                   0   \n",
       "PELI2                               0                   0   \n",
       "\n",
       "           Abnormality of neutrophils  Abnormality of retinal arteries  \\\n",
       "LINC02393                           0                                0   \n",
       "PIGL                                0                                0   \n",
       "ZBTB17                              0                                0   \n",
       "IQUB                                0                                0   \n",
       "PELI2                               0                                0   \n",
       "\n",
       "           Increased serum iron  \n",
       "LINC02393                     0  \n",
       "PIGL                          0  \n",
       "ZBTB17                        0  \n",
       "IQUB                          0  \n",
       "PELI2                         0  \n",
       "\n",
       "[5 rows x 487 columns]"
      ]
     },
     "execution_count": 24,
     "metadata": {},
     "output_type": "execute_result"
    }
   ],
   "source": [
    "binary_matrix.head()"
   ]
  },
  {
   "cell_type": "code",
   "execution_count": 25,
   "metadata": {},
   "outputs": [
    {
     "data": {
      "text/plain": [
       "(12652, 487)"
      ]
     },
     "execution_count": 25,
     "metadata": {},
     "output_type": "execute_result"
    }
   ],
   "source": [
    "binary_matrix.shape"
   ]
  },
  {
   "cell_type": "markdown",
   "metadata": {},
   "source": [
    "# Save Binary Matrix"
   ]
  },
  {
   "cell_type": "code",
   "execution_count": 26,
   "metadata": {
    "collapsed": true
   },
   "outputs": [],
   "source": [
    "filename = '~/./Documents/Harmonizome/GWASdb/Output/gwasdb_pheno_binary_matrix_%s.tsv.zip'% str(datetime.date.today())[0:7].replace('-', '_')\n",
    "binary_matrix.to_csv(filename, sep='\\t', compression='gzip')"
   ]
  },
  {
   "cell_type": "markdown",
   "metadata": {},
   "source": [
    "# Create Gene Set Library"
   ]
  },
  {
   "cell_type": "code",
   "execution_count": 27,
   "metadata": {
    "collapsed": true
   },
   "outputs": [],
   "source": [
    "path = '/Users/moshesilverstein/Documents/Harmonizome/GWASdb/Output/'"
   ]
  },
  {
   "cell_type": "code",
   "execution_count": 28,
   "metadata": {
    "collapsed": true
   },
   "outputs": [],
   "source": [
    "name = 'gwasdb_pheno_gene_set'"
   ]
  },
  {
   "cell_type": "code",
   "execution_count": 29,
   "metadata": {},
   "outputs": [
    {
     "name": "stdout",
     "output_type": "stream",
     "text": [
      "Progeres: 100%  487 Out of 487   \r"
     ]
    }
   ],
   "source": [
    "uf.createUpGeneSetLib(binary_matrix, path, name)"
   ]
  },
  {
   "cell_type": "markdown",
   "metadata": {},
   "source": [
    "# Create Attribute Library"
   ]
  },
  {
   "cell_type": "code",
   "execution_count": 30,
   "metadata": {
    "collapsed": true
   },
   "outputs": [],
   "source": [
    "path = '/Users/moshesilverstein/Documents/Harmonizome/GWASdb/Output/'"
   ]
  },
  {
   "cell_type": "code",
   "execution_count": 31,
   "metadata": {
    "collapsed": true
   },
   "outputs": [],
   "source": [
    "name = 'gwasdb_pheno_attribute_set'"
   ]
  },
  {
   "cell_type": "code",
   "execution_count": 32,
   "metadata": {},
   "outputs": [
    {
     "name": "stdout",
     "output_type": "stream",
     "text": [
      "Progeres: 100%  12652 Out of 12652   \r"
     ]
    }
   ],
   "source": [
    "uf.createUpAttributeSetLib(binary_matrix, path, name)"
   ]
  },
  {
   "cell_type": "markdown",
   "metadata": {},
   "source": [
    "# Create Gene Similarity Matrix"
   ]
  },
  {
   "cell_type": "code",
   "execution_count": 33,
   "metadata": {
    "collapsed": true
   },
   "outputs": [],
   "source": [
    "gene_similarity_matix = uf.createSimilarityMatrix(binary_matrix, 'jaccard')"
   ]
  },
  {
   "cell_type": "code",
   "execution_count": 34,
   "metadata": {},
   "outputs": [
    {
     "data": {
      "text/html": [
       "<div>\n",
       "<style>\n",
       "    .dataframe thead tr:only-child th {\n",
       "        text-align: right;\n",
       "    }\n",
       "\n",
       "    .dataframe thead th {\n",
       "        text-align: left;\n",
       "    }\n",
       "\n",
       "    .dataframe tbody tr th {\n",
       "        vertical-align: top;\n",
       "    }\n",
       "</style>\n",
       "<table border=\"1\" class=\"dataframe\">\n",
       "  <thead>\n",
       "    <tr style=\"text-align: right;\">\n",
       "      <th></th>\n",
       "      <th>LINC02393</th>\n",
       "      <th>PIGL</th>\n",
       "      <th>ZBTB17</th>\n",
       "      <th>IQUB</th>\n",
       "      <th>PELI2</th>\n",
       "      <th>HRK</th>\n",
       "      <th>ATP6V1G2-DDX39B</th>\n",
       "      <th>ARID1B</th>\n",
       "      <th>ANKRD11</th>\n",
       "      <th>ERVV-2</th>\n",
       "      <th>...</th>\n",
       "      <th>SLC5A9</th>\n",
       "      <th>ARHGAP25</th>\n",
       "      <th>KRT7</th>\n",
       "      <th>CD8A</th>\n",
       "      <th>KCNK13</th>\n",
       "      <th>COL4A5</th>\n",
       "      <th>THRB</th>\n",
       "      <th>PPP1R17</th>\n",
       "      <th>CDC42BPG</th>\n",
       "      <th>KIAA1109</th>\n",
       "    </tr>\n",
       "  </thead>\n",
       "  <tbody>\n",
       "    <tr>\n",
       "      <th>LINC02393</th>\n",
       "      <td>1.0</td>\n",
       "      <td>0.000000</td>\n",
       "      <td>0.0</td>\n",
       "      <td>0.0</td>\n",
       "      <td>0.000000</td>\n",
       "      <td>0.000000</td>\n",
       "      <td>0.000000</td>\n",
       "      <td>0.000000</td>\n",
       "      <td>0.000000</td>\n",
       "      <td>0.000000</td>\n",
       "      <td>...</td>\n",
       "      <td>0.0</td>\n",
       "      <td>0.000000</td>\n",
       "      <td>0.0</td>\n",
       "      <td>0.0</td>\n",
       "      <td>0.200000</td>\n",
       "      <td>0.00</td>\n",
       "      <td>0.000000</td>\n",
       "      <td>0.0</td>\n",
       "      <td>0.0</td>\n",
       "      <td>0.0</td>\n",
       "    </tr>\n",
       "    <tr>\n",
       "      <th>PIGL</th>\n",
       "      <td>0.0</td>\n",
       "      <td>1.000000</td>\n",
       "      <td>0.0</td>\n",
       "      <td>0.0</td>\n",
       "      <td>0.083333</td>\n",
       "      <td>0.250000</td>\n",
       "      <td>0.000000</td>\n",
       "      <td>0.086957</td>\n",
       "      <td>0.062500</td>\n",
       "      <td>0.000000</td>\n",
       "      <td>...</td>\n",
       "      <td>0.0</td>\n",
       "      <td>0.181818</td>\n",
       "      <td>0.0</td>\n",
       "      <td>0.0</td>\n",
       "      <td>0.000000</td>\n",
       "      <td>0.00</td>\n",
       "      <td>0.050000</td>\n",
       "      <td>0.0</td>\n",
       "      <td>0.0</td>\n",
       "      <td>0.0</td>\n",
       "    </tr>\n",
       "    <tr>\n",
       "      <th>ZBTB17</th>\n",
       "      <td>0.0</td>\n",
       "      <td>0.000000</td>\n",
       "      <td>1.0</td>\n",
       "      <td>0.0</td>\n",
       "      <td>0.200000</td>\n",
       "      <td>0.000000</td>\n",
       "      <td>0.000000</td>\n",
       "      <td>0.043478</td>\n",
       "      <td>0.000000</td>\n",
       "      <td>0.000000</td>\n",
       "      <td>...</td>\n",
       "      <td>0.0</td>\n",
       "      <td>0.000000</td>\n",
       "      <td>0.0</td>\n",
       "      <td>0.0</td>\n",
       "      <td>0.142857</td>\n",
       "      <td>0.25</td>\n",
       "      <td>0.000000</td>\n",
       "      <td>0.0</td>\n",
       "      <td>0.0</td>\n",
       "      <td>0.0</td>\n",
       "    </tr>\n",
       "    <tr>\n",
       "      <th>IQUB</th>\n",
       "      <td>0.0</td>\n",
       "      <td>0.000000</td>\n",
       "      <td>0.0</td>\n",
       "      <td>1.0</td>\n",
       "      <td>0.000000</td>\n",
       "      <td>0.000000</td>\n",
       "      <td>0.000000</td>\n",
       "      <td>0.045455</td>\n",
       "      <td>0.153846</td>\n",
       "      <td>0.000000</td>\n",
       "      <td>...</td>\n",
       "      <td>0.0</td>\n",
       "      <td>0.100000</td>\n",
       "      <td>0.0</td>\n",
       "      <td>0.0</td>\n",
       "      <td>0.166667</td>\n",
       "      <td>0.00</td>\n",
       "      <td>0.052632</td>\n",
       "      <td>0.5</td>\n",
       "      <td>0.0</td>\n",
       "      <td>0.0</td>\n",
       "    </tr>\n",
       "    <tr>\n",
       "      <th>PELI2</th>\n",
       "      <td>0.0</td>\n",
       "      <td>0.083333</td>\n",
       "      <td>0.2</td>\n",
       "      <td>0.0</td>\n",
       "      <td>1.000000</td>\n",
       "      <td>0.111111</td>\n",
       "      <td>0.071429</td>\n",
       "      <td>0.071429</td>\n",
       "      <td>0.047619</td>\n",
       "      <td>0.111111</td>\n",
       "      <td>...</td>\n",
       "      <td>0.0</td>\n",
       "      <td>0.125000</td>\n",
       "      <td>0.0</td>\n",
       "      <td>0.0</td>\n",
       "      <td>0.076923</td>\n",
       "      <td>0.10</td>\n",
       "      <td>0.068182</td>\n",
       "      <td>0.0</td>\n",
       "      <td>0.0</td>\n",
       "      <td>0.0</td>\n",
       "    </tr>\n",
       "  </tbody>\n",
       "</table>\n",
       "<p>5 rows × 12652 columns</p>\n",
       "</div>"
      ],
      "text/plain": [
       "           LINC02393      PIGL  ZBTB17  IQUB     PELI2       HRK  \\\n",
       "LINC02393        1.0  0.000000     0.0   0.0  0.000000  0.000000   \n",
       "PIGL             0.0  1.000000     0.0   0.0  0.083333  0.250000   \n",
       "ZBTB17           0.0  0.000000     1.0   0.0  0.200000  0.000000   \n",
       "IQUB             0.0  0.000000     0.0   1.0  0.000000  0.000000   \n",
       "PELI2            0.0  0.083333     0.2   0.0  1.000000  0.111111   \n",
       "\n",
       "           ATP6V1G2-DDX39B    ARID1B   ANKRD11    ERVV-2    ...     SLC5A9  \\\n",
       "LINC02393         0.000000  0.000000  0.000000  0.000000    ...        0.0   \n",
       "PIGL              0.000000  0.086957  0.062500  0.000000    ...        0.0   \n",
       "ZBTB17            0.000000  0.043478  0.000000  0.000000    ...        0.0   \n",
       "IQUB              0.000000  0.045455  0.153846  0.000000    ...        0.0   \n",
       "PELI2             0.071429  0.071429  0.047619  0.111111    ...        0.0   \n",
       "\n",
       "           ARHGAP25  KRT7  CD8A    KCNK13  COL4A5      THRB  PPP1R17  \\\n",
       "LINC02393  0.000000   0.0   0.0  0.200000    0.00  0.000000      0.0   \n",
       "PIGL       0.181818   0.0   0.0  0.000000    0.00  0.050000      0.0   \n",
       "ZBTB17     0.000000   0.0   0.0  0.142857    0.25  0.000000      0.0   \n",
       "IQUB       0.100000   0.0   0.0  0.166667    0.00  0.052632      0.5   \n",
       "PELI2      0.125000   0.0   0.0  0.076923    0.10  0.068182      0.0   \n",
       "\n",
       "           CDC42BPG  KIAA1109  \n",
       "LINC02393       0.0       0.0  \n",
       "PIGL            0.0       0.0  \n",
       "ZBTB17          0.0       0.0  \n",
       "IQUB            0.0       0.0  \n",
       "PELI2           0.0       0.0  \n",
       "\n",
       "[5 rows x 12652 columns]"
      ]
     },
     "execution_count": 34,
     "metadata": {},
     "output_type": "execute_result"
    }
   ],
   "source": [
    "gene_similarity_matix.head()"
   ]
  },
  {
   "cell_type": "markdown",
   "metadata": {},
   "source": [
    "# Save Gene Similarity Matrix"
   ]
  },
  {
   "cell_type": "code",
   "execution_count": 35,
   "metadata": {
    "collapsed": true
   },
   "outputs": [],
   "source": [
    "filename = '~/./Documents/Harmonizome/GWASdb/Output/gwasdb_pheno_gene_similarity_matix_%s.tsv.zip'% str(datetime.date.today())[0:7].replace('-', '_')\n",
    "gene_similarity_matix.to_csv(filename, sep='\\t', compression='gzip')"
   ]
  },
  {
   "cell_type": "markdown",
   "metadata": {},
   "source": [
    "# Create Attribute Similarity matrix"
   ]
  },
  {
   "cell_type": "code",
   "execution_count": 36,
   "metadata": {
    "collapsed": true
   },
   "outputs": [],
   "source": [
    "attribute_similarity_matix = uf.createSimilarityMatrix(binary_matrix.T, 'jaccard')"
   ]
  },
  {
   "cell_type": "code",
   "execution_count": 37,
   "metadata": {},
   "outputs": [
    {
     "data": {
      "text/html": [
       "<div>\n",
       "<style>\n",
       "    .dataframe thead tr:only-child th {\n",
       "        text-align: right;\n",
       "    }\n",
       "\n",
       "    .dataframe thead th {\n",
       "        text-align: left;\n",
       "    }\n",
       "\n",
       "    .dataframe tbody tr th {\n",
       "        vertical-align: top;\n",
       "    }\n",
       "</style>\n",
       "<table border=\"1\" class=\"dataframe\">\n",
       "  <thead>\n",
       "    <tr style=\"text-align: right;\">\n",
       "      <th></th>\n",
       "      <th>Reduced factor VIII activity</th>\n",
       "      <th>Coronary artery stenosis</th>\n",
       "      <th>Neoplasm of the respiratory system</th>\n",
       "      <th>Insomnia</th>\n",
       "      <th>Neoplasm of the gallbladder</th>\n",
       "      <th>Decreased liver function</th>\n",
       "      <th>Abnormality of unsaturated fatty acid metabolism</th>\n",
       "      <th>Nephropathy</th>\n",
       "      <th>Sick sinus syndrome</th>\n",
       "      <th>Abnormality of the calf</th>\n",
       "      <th>...</th>\n",
       "      <th>Abnormality of cholesterol metabolism</th>\n",
       "      <th>Abnormality of the adrenal glands</th>\n",
       "      <th>Neoplasm of the lungs</th>\n",
       "      <th>Abnormal facial shape</th>\n",
       "      <th>Barrett esophagus</th>\n",
       "      <th>Abnormality of body weight</th>\n",
       "      <th>Hyperbilirubinemia</th>\n",
       "      <th>Abnormality of neutrophils</th>\n",
       "      <th>Abnormality of retinal arteries</th>\n",
       "      <th>Increased serum iron</th>\n",
       "    </tr>\n",
       "  </thead>\n",
       "  <tbody>\n",
       "    <tr>\n",
       "      <th>Reduced factor VIII activity</th>\n",
       "      <td>1.0</td>\n",
       "      <td>0.000000</td>\n",
       "      <td>0.000000</td>\n",
       "      <td>0.000000</td>\n",
       "      <td>0.000000</td>\n",
       "      <td>0.034483</td>\n",
       "      <td>0.000000</td>\n",
       "      <td>0.012500</td>\n",
       "      <td>0.000000</td>\n",
       "      <td>0.0</td>\n",
       "      <td>...</td>\n",
       "      <td>0.006281</td>\n",
       "      <td>0.0</td>\n",
       "      <td>0.005420</td>\n",
       "      <td>0.0</td>\n",
       "      <td>0.000000</td>\n",
       "      <td>0.005376</td>\n",
       "      <td>0.000000</td>\n",
       "      <td>0.000000</td>\n",
       "      <td>0.0</td>\n",
       "      <td>0.0</td>\n",
       "    </tr>\n",
       "    <tr>\n",
       "      <th>Coronary artery stenosis</th>\n",
       "      <td>0.0</td>\n",
       "      <td>1.000000</td>\n",
       "      <td>0.027778</td>\n",
       "      <td>0.035714</td>\n",
       "      <td>0.027778</td>\n",
       "      <td>0.025641</td>\n",
       "      <td>0.019231</td>\n",
       "      <td>0.000000</td>\n",
       "      <td>0.000000</td>\n",
       "      <td>0.0</td>\n",
       "      <td>...</td>\n",
       "      <td>0.006203</td>\n",
       "      <td>0.0</td>\n",
       "      <td>0.009892</td>\n",
       "      <td>0.0</td>\n",
       "      <td>0.027027</td>\n",
       "      <td>0.000000</td>\n",
       "      <td>0.000000</td>\n",
       "      <td>0.000000</td>\n",
       "      <td>0.0</td>\n",
       "      <td>0.0</td>\n",
       "    </tr>\n",
       "    <tr>\n",
       "      <th>Neoplasm of the respiratory system</th>\n",
       "      <td>0.0</td>\n",
       "      <td>0.027778</td>\n",
       "      <td>1.000000</td>\n",
       "      <td>0.000000</td>\n",
       "      <td>0.000000</td>\n",
       "      <td>0.000000</td>\n",
       "      <td>0.000000</td>\n",
       "      <td>0.000000</td>\n",
       "      <td>0.000000</td>\n",
       "      <td>0.0</td>\n",
       "      <td>...</td>\n",
       "      <td>0.002500</td>\n",
       "      <td>0.0</td>\n",
       "      <td>0.002700</td>\n",
       "      <td>0.0</td>\n",
       "      <td>0.000000</td>\n",
       "      <td>0.000000</td>\n",
       "      <td>0.000000</td>\n",
       "      <td>0.000000</td>\n",
       "      <td>0.0</td>\n",
       "      <td>0.0</td>\n",
       "    </tr>\n",
       "    <tr>\n",
       "      <th>Insomnia</th>\n",
       "      <td>0.0</td>\n",
       "      <td>0.035714</td>\n",
       "      <td>0.000000</td>\n",
       "      <td>1.000000</td>\n",
       "      <td>0.000000</td>\n",
       "      <td>0.000000</td>\n",
       "      <td>0.000000</td>\n",
       "      <td>0.013699</td>\n",
       "      <td>0.006623</td>\n",
       "      <td>0.0</td>\n",
       "      <td>...</td>\n",
       "      <td>0.000000</td>\n",
       "      <td>0.0</td>\n",
       "      <td>0.002720</td>\n",
       "      <td>0.0</td>\n",
       "      <td>0.000000</td>\n",
       "      <td>0.000000</td>\n",
       "      <td>0.000000</td>\n",
       "      <td>0.000000</td>\n",
       "      <td>0.0</td>\n",
       "      <td>0.0</td>\n",
       "    </tr>\n",
       "    <tr>\n",
       "      <th>Neoplasm of the gallbladder</th>\n",
       "      <td>0.0</td>\n",
       "      <td>0.027778</td>\n",
       "      <td>0.000000</td>\n",
       "      <td>0.000000</td>\n",
       "      <td>1.000000</td>\n",
       "      <td>0.000000</td>\n",
       "      <td>0.000000</td>\n",
       "      <td>0.000000</td>\n",
       "      <td>0.000000</td>\n",
       "      <td>0.0</td>\n",
       "      <td>...</td>\n",
       "      <td>0.003755</td>\n",
       "      <td>0.0</td>\n",
       "      <td>0.004509</td>\n",
       "      <td>0.0</td>\n",
       "      <td>0.035714</td>\n",
       "      <td>0.010753</td>\n",
       "      <td>0.012048</td>\n",
       "      <td>0.017241</td>\n",
       "      <td>0.0</td>\n",
       "      <td>0.0</td>\n",
       "    </tr>\n",
       "  </tbody>\n",
       "</table>\n",
       "<p>5 rows × 487 columns</p>\n",
       "</div>"
      ],
      "text/plain": [
       "                                    Reduced factor VIII activity  \\\n",
       "Reduced factor VIII activity                                 1.0   \n",
       "Coronary artery stenosis                                     0.0   \n",
       "Neoplasm of the respiratory system                           0.0   \n",
       "Insomnia                                                     0.0   \n",
       "Neoplasm of the gallbladder                                  0.0   \n",
       "\n",
       "                                    Coronary artery stenosis  \\\n",
       "Reduced factor VIII activity                        0.000000   \n",
       "Coronary artery stenosis                            1.000000   \n",
       "Neoplasm of the respiratory system                  0.027778   \n",
       "Insomnia                                            0.035714   \n",
       "Neoplasm of the gallbladder                         0.027778   \n",
       "\n",
       "                                    Neoplasm of the respiratory system  \\\n",
       "Reduced factor VIII activity                                  0.000000   \n",
       "Coronary artery stenosis                                      0.027778   \n",
       "Neoplasm of the respiratory system                            1.000000   \n",
       "Insomnia                                                      0.000000   \n",
       "Neoplasm of the gallbladder                                   0.000000   \n",
       "\n",
       "                                    Insomnia  Neoplasm of the gallbladder  \\\n",
       "Reduced factor VIII activity        0.000000                     0.000000   \n",
       "Coronary artery stenosis            0.035714                     0.027778   \n",
       "Neoplasm of the respiratory system  0.000000                     0.000000   \n",
       "Insomnia                            1.000000                     0.000000   \n",
       "Neoplasm of the gallbladder         0.000000                     1.000000   \n",
       "\n",
       "                                    Decreased liver function  \\\n",
       "Reduced factor VIII activity                        0.034483   \n",
       "Coronary artery stenosis                            0.025641   \n",
       "Neoplasm of the respiratory system                  0.000000   \n",
       "Insomnia                                            0.000000   \n",
       "Neoplasm of the gallbladder                         0.000000   \n",
       "\n",
       "                                    Abnormality of unsaturated fatty acid metabolism  \\\n",
       "Reduced factor VIII activity                                                0.000000   \n",
       "Coronary artery stenosis                                                    0.019231   \n",
       "Neoplasm of the respiratory system                                          0.000000   \n",
       "Insomnia                                                                    0.000000   \n",
       "Neoplasm of the gallbladder                                                 0.000000   \n",
       "\n",
       "                                    Nephropathy  Sick sinus syndrome  \\\n",
       "Reduced factor VIII activity           0.012500             0.000000   \n",
       "Coronary artery stenosis               0.000000             0.000000   \n",
       "Neoplasm of the respiratory system     0.000000             0.000000   \n",
       "Insomnia                               0.013699             0.006623   \n",
       "Neoplasm of the gallbladder            0.000000             0.000000   \n",
       "\n",
       "                                    Abnormality of the calf  \\\n",
       "Reduced factor VIII activity                            0.0   \n",
       "Coronary artery stenosis                                0.0   \n",
       "Neoplasm of the respiratory system                      0.0   \n",
       "Insomnia                                                0.0   \n",
       "Neoplasm of the gallbladder                             0.0   \n",
       "\n",
       "                                            ...           \\\n",
       "Reduced factor VIII activity                ...            \n",
       "Coronary artery stenosis                    ...            \n",
       "Neoplasm of the respiratory system          ...            \n",
       "Insomnia                                    ...            \n",
       "Neoplasm of the gallbladder                 ...            \n",
       "\n",
       "                                    Abnormality of cholesterol metabolism  \\\n",
       "Reduced factor VIII activity                                     0.006281   \n",
       "Coronary artery stenosis                                         0.006203   \n",
       "Neoplasm of the respiratory system                               0.002500   \n",
       "Insomnia                                                         0.000000   \n",
       "Neoplasm of the gallbladder                                      0.003755   \n",
       "\n",
       "                                    Abnormality of the adrenal glands  \\\n",
       "Reduced factor VIII activity                                      0.0   \n",
       "Coronary artery stenosis                                          0.0   \n",
       "Neoplasm of the respiratory system                                0.0   \n",
       "Insomnia                                                          0.0   \n",
       "Neoplasm of the gallbladder                                       0.0   \n",
       "\n",
       "                                    Neoplasm of the lungs  \\\n",
       "Reduced factor VIII activity                     0.005420   \n",
       "Coronary artery stenosis                         0.009892   \n",
       "Neoplasm of the respiratory system               0.002700   \n",
       "Insomnia                                         0.002720   \n",
       "Neoplasm of the gallbladder                      0.004509   \n",
       "\n",
       "                                    Abnormal facial shape  Barrett esophagus  \\\n",
       "Reduced factor VIII activity                          0.0           0.000000   \n",
       "Coronary artery stenosis                              0.0           0.027027   \n",
       "Neoplasm of the respiratory system                    0.0           0.000000   \n",
       "Insomnia                                              0.0           0.000000   \n",
       "Neoplasm of the gallbladder                           0.0           0.035714   \n",
       "\n",
       "                                    Abnormality of body weight  \\\n",
       "Reduced factor VIII activity                          0.005376   \n",
       "Coronary artery stenosis                              0.000000   \n",
       "Neoplasm of the respiratory system                    0.000000   \n",
       "Insomnia                                              0.000000   \n",
       "Neoplasm of the gallbladder                           0.010753   \n",
       "\n",
       "                                    Hyperbilirubinemia  \\\n",
       "Reduced factor VIII activity                  0.000000   \n",
       "Coronary artery stenosis                      0.000000   \n",
       "Neoplasm of the respiratory system            0.000000   \n",
       "Insomnia                                      0.000000   \n",
       "Neoplasm of the gallbladder                   0.012048   \n",
       "\n",
       "                                    Abnormality of neutrophils  \\\n",
       "Reduced factor VIII activity                          0.000000   \n",
       "Coronary artery stenosis                              0.000000   \n",
       "Neoplasm of the respiratory system                    0.000000   \n",
       "Insomnia                                              0.000000   \n",
       "Neoplasm of the gallbladder                           0.017241   \n",
       "\n",
       "                                    Abnormality of retinal arteries  \\\n",
       "Reduced factor VIII activity                                    0.0   \n",
       "Coronary artery stenosis                                        0.0   \n",
       "Neoplasm of the respiratory system                              0.0   \n",
       "Insomnia                                                        0.0   \n",
       "Neoplasm of the gallbladder                                     0.0   \n",
       "\n",
       "                                    Increased serum iron  \n",
       "Reduced factor VIII activity                         0.0  \n",
       "Coronary artery stenosis                             0.0  \n",
       "Neoplasm of the respiratory system                   0.0  \n",
       "Insomnia                                             0.0  \n",
       "Neoplasm of the gallbladder                          0.0  \n",
       "\n",
       "[5 rows x 487 columns]"
      ]
     },
     "execution_count": 37,
     "metadata": {},
     "output_type": "execute_result"
    }
   ],
   "source": [
    "attribute_similarity_matix.head()"
   ]
  },
  {
   "cell_type": "markdown",
   "metadata": {},
   "source": [
    "# Save Attribute Similarity Matrix"
   ]
  },
  {
   "cell_type": "code",
   "execution_count": 38,
   "metadata": {
    "collapsed": true
   },
   "outputs": [],
   "source": [
    "filename = '~/./Documents/Harmonizome/GWASdb/Output/gwasdb_pheno_attribute_similarity_matix_%s.tsv.zip'% str(datetime.date.today())[0:7].replace('-', '_')\n",
    "attribute_similarity_matix.to_csv(filename, sep='\\t', compression='gzip')"
   ]
  },
  {
   "cell_type": "markdown",
   "metadata": {},
   "source": [
    "# Create Gene List"
   ]
  },
  {
   "cell_type": "code",
   "execution_count": 39,
   "metadata": {},
   "outputs": [
    {
     "name": "stdout",
     "output_type": "stream",
     "text": [
      "Progeres: 100%  12652 Out of 12652   \r"
     ]
    }
   ],
   "source": [
    "gene_list = uf.createGeneList(binary_matrix)"
   ]
  },
  {
   "cell_type": "code",
   "execution_count": 40,
   "metadata": {},
   "outputs": [
    {
     "data": {
      "text/html": [
       "<div>\n",
       "<style>\n",
       "    .dataframe thead tr:only-child th {\n",
       "        text-align: right;\n",
       "    }\n",
       "\n",
       "    .dataframe thead th {\n",
       "        text-align: left;\n",
       "    }\n",
       "\n",
       "    .dataframe tbody tr th {\n",
       "        vertical-align: top;\n",
       "    }\n",
       "</style>\n",
       "<table border=\"1\" class=\"dataframe\">\n",
       "  <thead>\n",
       "    <tr style=\"text-align: right;\">\n",
       "      <th></th>\n",
       "      <th>GeneSym</th>\n",
       "      <th>GeneID</th>\n",
       "    </tr>\n",
       "  </thead>\n",
       "  <tbody>\n",
       "    <tr>\n",
       "      <th>0</th>\n",
       "      <td>LINC02393</td>\n",
       "      <td>400087</td>\n",
       "    </tr>\n",
       "    <tr>\n",
       "      <th>1</th>\n",
       "      <td>PIGL</td>\n",
       "      <td>9487</td>\n",
       "    </tr>\n",
       "    <tr>\n",
       "      <th>2</th>\n",
       "      <td>ZBTB17</td>\n",
       "      <td>7709</td>\n",
       "    </tr>\n",
       "    <tr>\n",
       "      <th>3</th>\n",
       "      <td>IQUB</td>\n",
       "      <td>154865</td>\n",
       "    </tr>\n",
       "    <tr>\n",
       "      <th>4</th>\n",
       "      <td>PELI2</td>\n",
       "      <td>57161</td>\n",
       "    </tr>\n",
       "  </tbody>\n",
       "</table>\n",
       "</div>"
      ],
      "text/plain": [
       "     GeneSym  GeneID\n",
       "0  LINC02393  400087\n",
       "1       PIGL    9487\n",
       "2     ZBTB17    7709\n",
       "3       IQUB  154865\n",
       "4      PELI2   57161"
      ]
     },
     "execution_count": 40,
     "metadata": {},
     "output_type": "execute_result"
    }
   ],
   "source": [
    "gene_list.head()"
   ]
  },
  {
   "cell_type": "code",
   "execution_count": 41,
   "metadata": {},
   "outputs": [
    {
     "data": {
      "text/plain": [
       "(12652, 2)"
      ]
     },
     "execution_count": 41,
     "metadata": {},
     "output_type": "execute_result"
    }
   ],
   "source": [
    "gene_list.shape"
   ]
  },
  {
   "cell_type": "markdown",
   "metadata": {},
   "source": [
    "# Save Gene List"
   ]
  },
  {
   "cell_type": "code",
   "execution_count": 42,
   "metadata": {
    "collapsed": true
   },
   "outputs": [],
   "source": [
    "filename = '~/./Documents/Harmonizome/GWASdb/Output/gwasdb_pheno_gene_list_%s.tsv.zip'% str(datetime.date.today())[0:7].replace('-', '_')\n",
    "gene_list.to_csv(filename, sep='\\t', index=False, compression='gzip')"
   ]
  },
  {
   "cell_type": "markdown",
   "metadata": {},
   "source": [
    "# Create Attribute List"
   ]
  },
  {
   "cell_type": "code",
   "execution_count": 43,
   "metadata": {
    "collapsed": true
   },
   "outputs": [],
   "source": [
    "attribute_list = uf.createAttributeList(binary_matrix)"
   ]
  },
  {
   "cell_type": "code",
   "execution_count": 44,
   "metadata": {},
   "outputs": [
    {
     "data": {
      "text/html": [
       "<div>\n",
       "<style>\n",
       "    .dataframe thead tr:only-child th {\n",
       "        text-align: right;\n",
       "    }\n",
       "\n",
       "    .dataframe thead th {\n",
       "        text-align: left;\n",
       "    }\n",
       "\n",
       "    .dataframe tbody tr th {\n",
       "        vertical-align: top;\n",
       "    }\n",
       "</style>\n",
       "<table border=\"1\" class=\"dataframe\">\n",
       "  <thead>\n",
       "    <tr style=\"text-align: right;\">\n",
       "      <th></th>\n",
       "      <th>Attributes</th>\n",
       "    </tr>\n",
       "  </thead>\n",
       "  <tbody>\n",
       "    <tr>\n",
       "      <th>0</th>\n",
       "      <td>Reduced factor VIII activity</td>\n",
       "    </tr>\n",
       "    <tr>\n",
       "      <th>1</th>\n",
       "      <td>Coronary artery stenosis</td>\n",
       "    </tr>\n",
       "    <tr>\n",
       "      <th>2</th>\n",
       "      <td>Neoplasm of the respiratory system</td>\n",
       "    </tr>\n",
       "    <tr>\n",
       "      <th>3</th>\n",
       "      <td>Insomnia</td>\n",
       "    </tr>\n",
       "    <tr>\n",
       "      <th>4</th>\n",
       "      <td>Neoplasm of the gallbladder</td>\n",
       "    </tr>\n",
       "  </tbody>\n",
       "</table>\n",
       "</div>"
      ],
      "text/plain": [
       "                           Attributes\n",
       "0        Reduced factor VIII activity\n",
       "1            Coronary artery stenosis\n",
       "2  Neoplasm of the respiratory system\n",
       "3                            Insomnia\n",
       "4         Neoplasm of the gallbladder"
      ]
     },
     "execution_count": 44,
     "metadata": {},
     "output_type": "execute_result"
    }
   ],
   "source": [
    "attribute_list.head()"
   ]
  },
  {
   "cell_type": "code",
   "execution_count": 45,
   "metadata": {},
   "outputs": [
    {
     "data": {
      "text/plain": [
       "(487, 1)"
      ]
     },
     "execution_count": 45,
     "metadata": {},
     "output_type": "execute_result"
    }
   ],
   "source": [
    "attribute_list.shape"
   ]
  },
  {
   "cell_type": "markdown",
   "metadata": {},
   "source": [
    "# Save Attribute List"
   ]
  },
  {
   "cell_type": "code",
   "execution_count": 46,
   "metadata": {
    "collapsed": true
   },
   "outputs": [],
   "source": [
    "filename = '~/./Documents/Harmonizome/GWASdb/Output/gwasdb_pheno_attribute_list_%s.tsv.zip'% str(datetime.date.today())[0:7].replace('-', '_')\n",
    "attribute_list.to_csv(filename, sep='\\t', index=False, compression='gzip')"
   ]
  },
  {
   "cell_type": "markdown",
   "metadata": {},
   "source": [
    "# Create Gene-Attribute Edge List"
   ]
  },
  {
   "cell_type": "code",
   "execution_count": 47,
   "metadata": {
    "collapsed": true
   },
   "outputs": [],
   "source": [
    "path = '/Users/moshesilverstein/Documents/Harmonizome/GWASdb/Output/'"
   ]
  },
  {
   "cell_type": "code",
   "execution_count": 48,
   "metadata": {
    "collapsed": true
   },
   "outputs": [],
   "source": [
    "name = 'gwasdb_pheno_gene_attribute_edge_list'"
   ]
  },
  {
   "cell_type": "code",
   "execution_count": 49,
   "metadata": {},
   "outputs": [
    {
     "name": "stdout",
     "output_type": "stream",
     "text": [
      "Progeres: 100%  487 Out of 487   \n",
      "\n",
      " The number of statisticaly relevent gene-attribute associations is: 70482\n"
     ]
    }
   ],
   "source": [
    "uf.createGeneAttributeEdgeList(binary_matrix, gene_list, path, name)"
   ]
  }
 ],
 "metadata": {
  "kernelspec": {
   "display_name": "Python [default]",
   "language": "python",
   "name": "python3"
  },
  "language_info": {
   "codemirror_mode": {
    "name": "ipython",
    "version": 3
   },
   "file_extension": ".py",
   "mimetype": "text/x-python",
   "name": "python",
   "nbconvert_exporter": "python",
   "pygments_lexer": "ipython3",
   "version": "3.5.2"
  }
 },
 "nbformat": 4,
 "nbformat_minor": 2
}
