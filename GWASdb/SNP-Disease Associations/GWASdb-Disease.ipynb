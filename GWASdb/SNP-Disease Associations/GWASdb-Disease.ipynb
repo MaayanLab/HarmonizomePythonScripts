{
 "cells": [
  {
   "cell_type": "markdown",
   "metadata": {},
   "source": [
    "# GWASdb-Disease"
   ]
  },
  {
   "cell_type": "markdown",
   "metadata": {},
   "source": [
    "Author: Moshe Silverstein <br/>\n",
    "Date: 11-17 <br/>\n",
    "Data Source: http://jjwanglab.org/gwasdb"
   ]
  },
  {
   "cell_type": "code",
   "execution_count": 1,
   "metadata": {
    "collapsed": true
   },
   "outputs": [],
   "source": [
    "import sys, datetime, os\n",
    "import numpy as np\n",
    "import pandas as pd\n",
    "import importlib\n",
    "import untility_functions as uf\n",
    "%matplotlib inline"
   ]
  },
  {
   "cell_type": "code",
   "execution_count": 2,
   "metadata": {},
   "outputs": [
    {
     "data": {
      "text/plain": [
       "<module 'untility_functions' from '/Users/moshesilverstein/Documents/Harmonizome/GWASdb/untility_functions.py'>"
      ]
     },
     "execution_count": 2,
     "metadata": {},
     "output_type": "execute_result"
    }
   ],
   "source": [
    "importlib.reload(uf)"
   ]
  },
  {
   "cell_type": "markdown",
   "metadata": {},
   "source": [
    "# Load Data"
   ]
  },
  {
   "cell_type": "code",
   "execution_count": 6,
   "metadata": {},
   "outputs": [
    {
     "name": "stderr",
     "output_type": "stream",
     "text": [
      "/Users/moshesilverstein/anaconda/lib/python3.5/site-packages/IPython/core/interactiveshell.py:2717: DtypeWarning: Columns (0) have mixed types. Specify dtype option on import or set low_memory=False.\n",
      "  interactivity=interactivity, compiler=compiler, result=result)\n"
     ]
    }
   ],
   "source": [
    "df = pd.read_csv('Input/gwasdb_20150819_snp_trait.gz', sep='\\t')"
   ]
  },
  {
   "cell_type": "code",
   "execution_count": 7,
   "metadata": {},
   "outputs": [
    {
     "data": {
      "text/html": [
       "<div>\n",
       "<style>\n",
       "    .dataframe thead tr:only-child th {\n",
       "        text-align: right;\n",
       "    }\n",
       "\n",
       "    .dataframe thead th {\n",
       "        text-align: left;\n",
       "    }\n",
       "\n",
       "    .dataframe tbody tr th {\n",
       "        vertical-align: top;\n",
       "    }\n",
       "</style>\n",
       "<table border=\"1\" class=\"dataframe\">\n",
       "  <thead>\n",
       "    <tr style=\"text-align: right;\">\n",
       "      <th></th>\n",
       "      <th>CHR</th>\n",
       "      <th>POS</th>\n",
       "      <th>SNPID</th>\n",
       "      <th>REF</th>\n",
       "      <th>ALT</th>\n",
       "      <th>ORI_SNPID</th>\n",
       "      <th>PMID</th>\n",
       "      <th>P_VALUE</th>\n",
       "      <th>P_VALUE_TEXT</th>\n",
       "      <th>OR/BETA</th>\n",
       "      <th>...</th>\n",
       "      <th>MESH_TERM</th>\n",
       "      <th>EFO_ID</th>\n",
       "      <th>EFO_TERM</th>\n",
       "      <th>DOLITE_TERM</th>\n",
       "      <th>RISK_ALLELE</th>\n",
       "      <th>PUBLICATION_TYPE</th>\n",
       "      <th>AA</th>\n",
       "      <th>GENE_SYMBOL</th>\n",
       "      <th>TYPE</th>\n",
       "      <th>REFGENE</th>\n",
       "    </tr>\n",
       "  </thead>\n",
       "  <tbody>\n",
       "    <tr>\n",
       "      <th>0</th>\n",
       "      <td>1</td>\n",
       "      <td>565596</td>\n",
       "      <td>rs568632519</td>\n",
       "      <td>G</td>\n",
       "      <td>A</td>\n",
       "      <td>rs28357983</td>\n",
       "      <td>22091778</td>\n",
       "      <td>7.280000e-05</td>\n",
       "      <td>Taste change in healthy volunteers in response...</td>\n",
       "      <td>NaN</td>\n",
       "      <td>...</td>\n",
       "      <td>NaN</td>\n",
       "      <td>NaN</td>\n",
       "      <td>NaN</td>\n",
       "      <td>Mental retardation</td>\n",
       "      <td>NaN</td>\n",
       "      <td>Research Support, N.I.H., Extramural</td>\n",
       "      <td>NaN</td>\n",
       "      <td>NaN</td>\n",
       "      <td>NaN</td>\n",
       "      <td>NaN</td>\n",
       "    </tr>\n",
       "    <tr>\n",
       "      <th>1</th>\n",
       "      <td>1</td>\n",
       "      <td>807512</td>\n",
       "      <td>rs10751454</td>\n",
       "      <td>A</td>\n",
       "      <td>G</td>\n",
       "      <td>rs10751454</td>\n",
       "      <td>22174011</td>\n",
       "      <td>2.200000e-13</td>\n",
       "      <td>Cardiovascular disease prevalence</td>\n",
       "      <td>NaN</td>\n",
       "      <td>...</td>\n",
       "      <td>NaN</td>\n",
       "      <td>NaN</td>\n",
       "      <td>NaN</td>\n",
       "      <td>Cancer|Cardiovascular disease</td>\n",
       "      <td>NaN</td>\n",
       "      <td>Research Support, N.I.H., Extramural|Research ...</td>\n",
       "      <td>G</td>\n",
       "      <td>FAM41C</td>\n",
       "      <td>intron</td>\n",
       "      <td>NR_027055</td>\n",
       "    </tr>\n",
       "    <tr>\n",
       "      <th>2</th>\n",
       "      <td>1</td>\n",
       "      <td>807512</td>\n",
       "      <td>rs10751454</td>\n",
       "      <td>A</td>\n",
       "      <td>G</td>\n",
       "      <td>rs10751454</td>\n",
       "      <td>22174011</td>\n",
       "      <td>5.400000e-21</td>\n",
       "      <td>Systolic blood pressure (SBP)</td>\n",
       "      <td>NaN</td>\n",
       "      <td>...</td>\n",
       "      <td>NaN</td>\n",
       "      <td>NaN</td>\n",
       "      <td>NaN</td>\n",
       "      <td>Cancer|Cardiovascular disease</td>\n",
       "      <td>NaN</td>\n",
       "      <td>Research Support, N.I.H., Extramural|Research ...</td>\n",
       "      <td>G</td>\n",
       "      <td>FAM41C</td>\n",
       "      <td>intron</td>\n",
       "      <td>NR_027055</td>\n",
       "    </tr>\n",
       "    <tr>\n",
       "      <th>3</th>\n",
       "      <td>1</td>\n",
       "      <td>807512</td>\n",
       "      <td>rs10751454</td>\n",
       "      <td>A</td>\n",
       "      <td>G</td>\n",
       "      <td>rs10751454</td>\n",
       "      <td>22174011</td>\n",
       "      <td>7.700000e-09</td>\n",
       "      <td>Total cholesterol</td>\n",
       "      <td>NaN</td>\n",
       "      <td>...</td>\n",
       "      <td>NaN</td>\n",
       "      <td>NaN</td>\n",
       "      <td>NaN</td>\n",
       "      <td>Cancer|Cardiovascular disease</td>\n",
       "      <td>NaN</td>\n",
       "      <td>Research Support, N.I.H., Extramural|Research ...</td>\n",
       "      <td>G</td>\n",
       "      <td>FAM41C</td>\n",
       "      <td>intron</td>\n",
       "      <td>NR_027055</td>\n",
       "    </tr>\n",
       "    <tr>\n",
       "      <th>4</th>\n",
       "      <td>1</td>\n",
       "      <td>880238</td>\n",
       "      <td>rs3748592</td>\n",
       "      <td>A</td>\n",
       "      <td>G</td>\n",
       "      <td>rs3748592</td>\n",
       "      <td>24665060</td>\n",
       "      <td>1.090000e-04</td>\n",
       "      <td>NaN</td>\n",
       "      <td>NaN</td>\n",
       "      <td>...</td>\n",
       "      <td>NaN</td>\n",
       "      <td>NaN</td>\n",
       "      <td>NaN</td>\n",
       "      <td>Drug abuse</td>\n",
       "      <td>NaN</td>\n",
       "      <td>Research Support, N.I.H., Extramural</td>\n",
       "      <td>G</td>\n",
       "      <td>NOC2L</td>\n",
       "      <td>intron</td>\n",
       "      <td>NM_015658</td>\n",
       "    </tr>\n",
       "  </tbody>\n",
       "</table>\n",
       "<p>5 rows × 30 columns</p>\n",
       "</div>"
      ],
      "text/plain": [
       "  CHR     POS        SNPID REF ALT   ORI_SNPID      PMID       P_VALUE  \\\n",
       "0   1  565596  rs568632519   G   A  rs28357983  22091778  7.280000e-05   \n",
       "1   1  807512   rs10751454   A   G  rs10751454  22174011  2.200000e-13   \n",
       "2   1  807512   rs10751454   A   G  rs10751454  22174011  5.400000e-21   \n",
       "3   1  807512   rs10751454   A   G  rs10751454  22174011  7.700000e-09   \n",
       "4   1  880238    rs3748592   A   G   rs3748592  24665060  1.090000e-04   \n",
       "\n",
       "                                        P_VALUE_TEXT OR/BETA    ...      \\\n",
       "0  Taste change in healthy volunteers in response...     NaN    ...       \n",
       "1                  Cardiovascular disease prevalence     NaN    ...       \n",
       "2                      Systolic blood pressure (SBP)     NaN    ...       \n",
       "3                                  Total cholesterol     NaN    ...       \n",
       "4                                                NaN     NaN    ...       \n",
       "\n",
       "  MESH_TERM EFO_ID EFO_TERM                    DOLITE_TERM RISK_ALLELE  \\\n",
       "0       NaN    NaN      NaN             Mental retardation         NaN   \n",
       "1       NaN    NaN      NaN  Cancer|Cardiovascular disease         NaN   \n",
       "2       NaN    NaN      NaN  Cancer|Cardiovascular disease         NaN   \n",
       "3       NaN    NaN      NaN  Cancer|Cardiovascular disease         NaN   \n",
       "4       NaN    NaN      NaN                     Drug abuse         NaN   \n",
       "\n",
       "                                    PUBLICATION_TYPE   AA GENE_SYMBOL    TYPE  \\\n",
       "0               Research Support, N.I.H., Extramural  NaN         NaN     NaN   \n",
       "1  Research Support, N.I.H., Extramural|Research ...    G      FAM41C  intron   \n",
       "2  Research Support, N.I.H., Extramural|Research ...    G      FAM41C  intron   \n",
       "3  Research Support, N.I.H., Extramural|Research ...    G      FAM41C  intron   \n",
       "4               Research Support, N.I.H., Extramural    G       NOC2L  intron   \n",
       "\n",
       "     REFGENE  \n",
       "0        NaN  \n",
       "1  NR_027055  \n",
       "2  NR_027055  \n",
       "3  NR_027055  \n",
       "4  NM_015658  \n",
       "\n",
       "[5 rows x 30 columns]"
      ]
     },
     "execution_count": 7,
     "metadata": {},
     "output_type": "execute_result"
    }
   ],
   "source": [
    "df.head()"
   ]
  },
  {
   "cell_type": "code",
   "execution_count": 8,
   "metadata": {},
   "outputs": [
    {
     "data": {
      "text/plain": [
       "(314237, 30)"
      ]
     },
     "execution_count": 8,
     "metadata": {},
     "output_type": "execute_result"
    }
   ],
   "source": [
    "df.shape"
   ]
  },
  {
   "cell_type": "markdown",
   "metadata": {},
   "source": [
    "# Get Relevent Data"
   ]
  },
  {
   "cell_type": "code",
   "execution_count": 75,
   "metadata": {
    "collapsed": true
   },
   "outputs": [],
   "source": [
    "df = df[['GENE_SYMBOL', 'DOLITE_TERM']]"
   ]
  },
  {
   "cell_type": "code",
   "execution_count": 78,
   "metadata": {},
   "outputs": [
    {
     "data": {
      "text/html": [
       "<div>\n",
       "<style>\n",
       "    .dataframe thead tr:only-child th {\n",
       "        text-align: right;\n",
       "    }\n",
       "\n",
       "    .dataframe thead th {\n",
       "        text-align: left;\n",
       "    }\n",
       "\n",
       "    .dataframe tbody tr th {\n",
       "        vertical-align: top;\n",
       "    }\n",
       "</style>\n",
       "<table border=\"1\" class=\"dataframe\">\n",
       "  <thead>\n",
       "    <tr style=\"text-align: right;\">\n",
       "      <th></th>\n",
       "      <th>GENE_SYMBOL</th>\n",
       "      <th>DOLITE_TERM</th>\n",
       "    </tr>\n",
       "  </thead>\n",
       "  <tbody>\n",
       "    <tr>\n",
       "      <th>0</th>\n",
       "      <td>NaN</td>\n",
       "      <td>Mental retardation</td>\n",
       "    </tr>\n",
       "    <tr>\n",
       "      <th>1</th>\n",
       "      <td>FAM41C</td>\n",
       "      <td>Cancer|Cardiovascular disease</td>\n",
       "    </tr>\n",
       "    <tr>\n",
       "      <th>2</th>\n",
       "      <td>FAM41C</td>\n",
       "      <td>Cancer|Cardiovascular disease</td>\n",
       "    </tr>\n",
       "    <tr>\n",
       "      <th>3</th>\n",
       "      <td>FAM41C</td>\n",
       "      <td>Cancer|Cardiovascular disease</td>\n",
       "    </tr>\n",
       "    <tr>\n",
       "      <th>4</th>\n",
       "      <td>NOC2L</td>\n",
       "      <td>Drug abuse</td>\n",
       "    </tr>\n",
       "    <tr>\n",
       "      <th>5</th>\n",
       "      <td>NaN</td>\n",
       "      <td>Amyotrophic lateral sclerosis</td>\n",
       "    </tr>\n",
       "    <tr>\n",
       "      <th>6</th>\n",
       "      <td>NaN</td>\n",
       "      <td>Obesity|Overnutrition</td>\n",
       "    </tr>\n",
       "    <tr>\n",
       "      <th>7</th>\n",
       "      <td>C1orf159</td>\n",
       "      <td>Eating disorder</td>\n",
       "    </tr>\n",
       "    <tr>\n",
       "      <th>8</th>\n",
       "      <td>C1orf159</td>\n",
       "      <td>NaN</td>\n",
       "    </tr>\n",
       "    <tr>\n",
       "      <th>9</th>\n",
       "      <td>C1orf159</td>\n",
       "      <td>Eating disorder</td>\n",
       "    </tr>\n",
       "  </tbody>\n",
       "</table>\n",
       "</div>"
      ],
      "text/plain": [
       "  GENE_SYMBOL                    DOLITE_TERM\n",
       "0         NaN             Mental retardation\n",
       "1      FAM41C  Cancer|Cardiovascular disease\n",
       "2      FAM41C  Cancer|Cardiovascular disease\n",
       "3      FAM41C  Cancer|Cardiovascular disease\n",
       "4       NOC2L                     Drug abuse\n",
       "5         NaN  Amyotrophic lateral sclerosis\n",
       "6         NaN          Obesity|Overnutrition\n",
       "7    C1orf159                Eating disorder\n",
       "8    C1orf159                            NaN\n",
       "9    C1orf159                Eating disorder"
      ]
     },
     "execution_count": 78,
     "metadata": {},
     "output_type": "execute_result"
    }
   ],
   "source": [
    "df.head(10)"
   ]
  },
  {
   "cell_type": "code",
   "execution_count": 79,
   "metadata": {},
   "outputs": [
    {
     "data": {
      "text/plain": [
       "(314237, 2)"
      ]
     },
     "execution_count": 79,
     "metadata": {},
     "output_type": "execute_result"
    }
   ],
   "source": [
    "df.shape"
   ]
  },
  {
   "cell_type": "code",
   "execution_count": 80,
   "metadata": {
    "collapsed": true
   },
   "outputs": [],
   "source": [
    "df.drop_duplicates(inplace=True)"
   ]
  },
  {
   "cell_type": "code",
   "execution_count": 81,
   "metadata": {},
   "outputs": [
    {
     "data": {
      "text/plain": [
       "(57432, 2)"
      ]
     },
     "execution_count": 81,
     "metadata": {},
     "output_type": "execute_result"
    }
   ],
   "source": [
    "df.shape"
   ]
  },
  {
   "cell_type": "code",
   "execution_count": 82,
   "metadata": {},
   "outputs": [
    {
     "data": {
      "text/html": [
       "<div>\n",
       "<style>\n",
       "    .dataframe thead tr:only-child th {\n",
       "        text-align: right;\n",
       "    }\n",
       "\n",
       "    .dataframe thead th {\n",
       "        text-align: left;\n",
       "    }\n",
       "\n",
       "    .dataframe tbody tr th {\n",
       "        vertical-align: top;\n",
       "    }\n",
       "</style>\n",
       "<table border=\"1\" class=\"dataframe\">\n",
       "  <thead>\n",
       "    <tr style=\"text-align: right;\">\n",
       "      <th></th>\n",
       "      <th>GENE_SYMBOL</th>\n",
       "      <th>DOLITE_TERM</th>\n",
       "    </tr>\n",
       "  </thead>\n",
       "  <tbody>\n",
       "    <tr>\n",
       "      <th>0</th>\n",
       "      <td>NaN</td>\n",
       "      <td>Mental retardation</td>\n",
       "    </tr>\n",
       "    <tr>\n",
       "      <th>1</th>\n",
       "      <td>FAM41C</td>\n",
       "      <td>Cancer|Cardiovascular disease</td>\n",
       "    </tr>\n",
       "    <tr>\n",
       "      <th>4</th>\n",
       "      <td>NOC2L</td>\n",
       "      <td>Drug abuse</td>\n",
       "    </tr>\n",
       "    <tr>\n",
       "      <th>5</th>\n",
       "      <td>NaN</td>\n",
       "      <td>Amyotrophic lateral sclerosis</td>\n",
       "    </tr>\n",
       "    <tr>\n",
       "      <th>6</th>\n",
       "      <td>NaN</td>\n",
       "      <td>Obesity|Overnutrition</td>\n",
       "    </tr>\n",
       "  </tbody>\n",
       "</table>\n",
       "</div>"
      ],
      "text/plain": [
       "  GENE_SYMBOL                    DOLITE_TERM\n",
       "0         NaN             Mental retardation\n",
       "1      FAM41C  Cancer|Cardiovascular disease\n",
       "4       NOC2L                     Drug abuse\n",
       "5         NaN  Amyotrophic lateral sclerosis\n",
       "6         NaN          Obesity|Overnutrition"
      ]
     },
     "execution_count": 82,
     "metadata": {},
     "output_type": "execute_result"
    }
   ],
   "source": [
    "df.head()"
   ]
  },
  {
   "cell_type": "code",
   "execution_count": 83,
   "metadata": {
    "collapsed": true
   },
   "outputs": [],
   "source": [
    "df.dropna(inplace=True)"
   ]
  },
  {
   "cell_type": "code",
   "execution_count": 84,
   "metadata": {},
   "outputs": [
    {
     "data": {
      "text/plain": [
       "(51282, 2)"
      ]
     },
     "execution_count": 84,
     "metadata": {},
     "output_type": "execute_result"
    }
   ],
   "source": [
    "df.shape"
   ]
  },
  {
   "cell_type": "code",
   "execution_count": 85,
   "metadata": {},
   "outputs": [
    {
     "data": {
      "text/html": [
       "<div>\n",
       "<style>\n",
       "    .dataframe thead tr:only-child th {\n",
       "        text-align: right;\n",
       "    }\n",
       "\n",
       "    .dataframe thead th {\n",
       "        text-align: left;\n",
       "    }\n",
       "\n",
       "    .dataframe tbody tr th {\n",
       "        vertical-align: top;\n",
       "    }\n",
       "</style>\n",
       "<table border=\"1\" class=\"dataframe\">\n",
       "  <thead>\n",
       "    <tr style=\"text-align: right;\">\n",
       "      <th></th>\n",
       "      <th>GENE_SYMBOL</th>\n",
       "      <th>DOLITE_TERM</th>\n",
       "    </tr>\n",
       "  </thead>\n",
       "  <tbody>\n",
       "    <tr>\n",
       "      <th>1</th>\n",
       "      <td>FAM41C</td>\n",
       "      <td>Cancer|Cardiovascular disease</td>\n",
       "    </tr>\n",
       "    <tr>\n",
       "      <th>4</th>\n",
       "      <td>NOC2L</td>\n",
       "      <td>Drug abuse</td>\n",
       "    </tr>\n",
       "    <tr>\n",
       "      <th>7</th>\n",
       "      <td>C1orf159</td>\n",
       "      <td>Eating disorder</td>\n",
       "    </tr>\n",
       "    <tr>\n",
       "      <th>13</th>\n",
       "      <td>TTLL10</td>\n",
       "      <td>Drug abuse</td>\n",
       "    </tr>\n",
       "    <tr>\n",
       "      <th>14</th>\n",
       "      <td>TNFRSF18</td>\n",
       "      <td>Neutropenia</td>\n",
       "    </tr>\n",
       "  </tbody>\n",
       "</table>\n",
       "</div>"
      ],
      "text/plain": [
       "   GENE_SYMBOL                    DOLITE_TERM\n",
       "1       FAM41C  Cancer|Cardiovascular disease\n",
       "4        NOC2L                     Drug abuse\n",
       "7     C1orf159                Eating disorder\n",
       "13      TTLL10                     Drug abuse\n",
       "14    TNFRSF18                    Neutropenia"
      ]
     },
     "execution_count": 85,
     "metadata": {},
     "output_type": "execute_result"
    }
   ],
   "source": [
    "df.head()"
   ]
  },
  {
   "cell_type": "code",
   "execution_count": 86,
   "metadata": {},
   "outputs": [
    {
     "name": "stdout",
     "output_type": "stream",
     "text": [
      "Progeres: 0%  53 Out of 51282   \r"
     ]
    },
    {
     "name": "stderr",
     "output_type": "stream",
     "text": [
      "/Users/moshesilverstein/anaconda/lib/python3.5/site-packages/ipykernel/__main__.py:10: DeprecationWarning: \n",
      ".ix is deprecated. Please use\n",
      ".loc for label based indexing or\n",
      ".iloc for positional indexing\n",
      "\n",
      "See the documentation here:\n",
      "http://pandas.pydata.org/pandas-docs/stable/indexing.html#ix-indexer-is-deprecated\n"
     ]
    },
    {
     "name": "stdout",
     "output_type": "stream",
     "text": [
      "Progeres: 100%  51282 Out of 51282   \r"
     ]
    }
   ],
   "source": [
    "df_interactions = pd.DataFrame()\n",
    "\n",
    "for i, index in enumerate(df.index):\n",
    "    \n",
    "    progressPercent = ((i+1)/len(df.index))*100\n",
    "\n",
    "    sys.stdout.write(\"Progeres: %d%%  %d Out of %d   \\r\" % (progressPercent, (i+1), len(df.index)))\n",
    "    sys.stdout.flush()\n",
    "    \n",
    "    if type(df.ix[index, 'GENE_SYMBOL']) != float:\n",
    "        lst2 = df.ix[index, 'DOLITE_TERM'].split('|')\n",
    "        lst1 = [df.ix[index, 'GENE_SYMBOL']]*(len(lst2))\n",
    "        temp = pd.DataFrame()\n",
    "        temp['Disease'] = lst2\n",
    "        temp['Gene Name'] = lst1\n",
    "        df_interactions = pd.concat([df_interactions, temp]) "
   ]
  },
  {
   "cell_type": "code",
   "execution_count": 87,
   "metadata": {},
   "outputs": [
    {
     "data": {
      "text/html": [
       "<div>\n",
       "<style>\n",
       "    .dataframe thead tr:only-child th {\n",
       "        text-align: right;\n",
       "    }\n",
       "\n",
       "    .dataframe thead th {\n",
       "        text-align: left;\n",
       "    }\n",
       "\n",
       "    .dataframe tbody tr th {\n",
       "        vertical-align: top;\n",
       "    }\n",
       "</style>\n",
       "<table border=\"1\" class=\"dataframe\">\n",
       "  <thead>\n",
       "    <tr style=\"text-align: right;\">\n",
       "      <th></th>\n",
       "      <th>Disease</th>\n",
       "      <th>Gene Name</th>\n",
       "    </tr>\n",
       "  </thead>\n",
       "  <tbody>\n",
       "    <tr>\n",
       "      <th>0</th>\n",
       "      <td>Cancer</td>\n",
       "      <td>FAM41C</td>\n",
       "    </tr>\n",
       "    <tr>\n",
       "      <th>1</th>\n",
       "      <td>Cardiovascular disease</td>\n",
       "      <td>FAM41C</td>\n",
       "    </tr>\n",
       "    <tr>\n",
       "      <th>0</th>\n",
       "      <td>Drug abuse</td>\n",
       "      <td>NOC2L</td>\n",
       "    </tr>\n",
       "    <tr>\n",
       "      <th>0</th>\n",
       "      <td>Eating disorder</td>\n",
       "      <td>C1orf159</td>\n",
       "    </tr>\n",
       "    <tr>\n",
       "      <th>0</th>\n",
       "      <td>Drug abuse</td>\n",
       "      <td>TTLL10</td>\n",
       "    </tr>\n",
       "  </tbody>\n",
       "</table>\n",
       "</div>"
      ],
      "text/plain": [
       "                  Disease Gene Name\n",
       "0                  Cancer    FAM41C\n",
       "1  Cardiovascular disease    FAM41C\n",
       "0              Drug abuse     NOC2L\n",
       "0         Eating disorder  C1orf159\n",
       "0              Drug abuse    TTLL10"
      ]
     },
     "execution_count": 87,
     "metadata": {},
     "output_type": "execute_result"
    }
   ],
   "source": [
    "df_interactions.head()"
   ]
  },
  {
   "cell_type": "code",
   "execution_count": 88,
   "metadata": {},
   "outputs": [
    {
     "data": {
      "text/plain": [
       "(68598, 2)"
      ]
     },
     "execution_count": 88,
     "metadata": {},
     "output_type": "execute_result"
    }
   ],
   "source": [
    "df_interactions.shape"
   ]
  },
  {
   "cell_type": "markdown",
   "metadata": {},
   "source": [
    "# Map Gene Symbols To Up-to-date Approved Gene Symbols"
   ]
  },
  {
   "cell_type": "code",
   "execution_count": 89,
   "metadata": {
    "collapsed": true
   },
   "outputs": [],
   "source": [
    "df_interactions.set_index('Gene Name', inplace=True)"
   ]
  },
  {
   "cell_type": "code",
   "execution_count": 90,
   "metadata": {},
   "outputs": [
    {
     "name": "stdout",
     "output_type": "stream",
     "text": [
      "Progeres: 100%  68598 Out of 68598   \r"
     ]
    }
   ],
   "source": [
    "uf.mapgenesymbols(df_interactions)"
   ]
  },
  {
   "cell_type": "markdown",
   "metadata": {},
   "source": [
    "# Drop Duplicates"
   ]
  },
  {
   "cell_type": "code",
   "execution_count": 91,
   "metadata": {
    "collapsed": true
   },
   "outputs": [],
   "source": [
    "df_interactions.reset_index(inplace=True)"
   ]
  },
  {
   "cell_type": "code",
   "execution_count": 92,
   "metadata": {
    "collapsed": true
   },
   "outputs": [],
   "source": [
    "df_interactions.drop_duplicates(inplace=True)"
   ]
  },
  {
   "cell_type": "code",
   "execution_count": 93,
   "metadata": {},
   "outputs": [
    {
     "data": {
      "text/plain": [
       "(60246, 2)"
      ]
     },
     "execution_count": 93,
     "metadata": {},
     "output_type": "execute_result"
    }
   ],
   "source": [
    "df_interactions.shape"
   ]
  },
  {
   "cell_type": "markdown",
   "metadata": {},
   "source": [
    "# Create Binary Matrix"
   ]
  },
  {
   "cell_type": "code",
   "execution_count": 94,
   "metadata": {},
   "outputs": [
    {
     "name": "stdout",
     "output_type": "stream",
     "text": [
      "Progeres: 100%  12091 Out of 12091   \r"
     ]
    }
   ],
   "source": [
    "binary_matrix = uf.createBinaryMatix(df_interactions)"
   ]
  },
  {
   "cell_type": "code",
   "execution_count": 95,
   "metadata": {},
   "outputs": [
    {
     "data": {
      "text/html": [
       "<div>\n",
       "<style>\n",
       "    .dataframe thead tr:only-child th {\n",
       "        text-align: right;\n",
       "    }\n",
       "\n",
       "    .dataframe thead th {\n",
       "        text-align: left;\n",
       "    }\n",
       "\n",
       "    .dataframe tbody tr th {\n",
       "        vertical-align: top;\n",
       "    }\n",
       "</style>\n",
       "<table border=\"1\" class=\"dataframe\">\n",
       "  <thead>\n",
       "    <tr style=\"text-align: right;\">\n",
       "      <th></th>\n",
       "      <th>Panic disorder</th>\n",
       "      <th>Rheumatoid arthritis</th>\n",
       "      <th>Depression</th>\n",
       "      <th>Neuroblastoma</th>\n",
       "      <th>Vitiligo</th>\n",
       "      <th>Parkinson disease</th>\n",
       "      <th>Cholangitis</th>\n",
       "      <th>Celiac disease</th>\n",
       "      <th>Chronic obstructive airway disease</th>\n",
       "      <th>Esophagus cancer</th>\n",
       "      <th>...</th>\n",
       "      <th>Atopic rhinitis</th>\n",
       "      <th>Neurotic disorder</th>\n",
       "      <th>Chronic fatigue syndrome</th>\n",
       "      <th>Anemia</th>\n",
       "      <th>Aseptic necrosis of bone</th>\n",
       "      <th>Arthritis</th>\n",
       "      <th>Gonadal dysgenesis</th>\n",
       "      <th>Gouts</th>\n",
       "      <th>Atherosclerosis</th>\n",
       "      <th>Combined immunodeficiency</th>\n",
       "    </tr>\n",
       "  </thead>\n",
       "  <tbody>\n",
       "    <tr>\n",
       "      <th>CCL25</th>\n",
       "      <td>0</td>\n",
       "      <td>0</td>\n",
       "      <td>0</td>\n",
       "      <td>0</td>\n",
       "      <td>0</td>\n",
       "      <td>0</td>\n",
       "      <td>0</td>\n",
       "      <td>0</td>\n",
       "      <td>0</td>\n",
       "      <td>0</td>\n",
       "      <td>...</td>\n",
       "      <td>0</td>\n",
       "      <td>0</td>\n",
       "      <td>0</td>\n",
       "      <td>0</td>\n",
       "      <td>0</td>\n",
       "      <td>0</td>\n",
       "      <td>0</td>\n",
       "      <td>0</td>\n",
       "      <td>0</td>\n",
       "      <td>0</td>\n",
       "    </tr>\n",
       "    <tr>\n",
       "      <th>WDR81</th>\n",
       "      <td>0</td>\n",
       "      <td>0</td>\n",
       "      <td>0</td>\n",
       "      <td>0</td>\n",
       "      <td>0</td>\n",
       "      <td>0</td>\n",
       "      <td>0</td>\n",
       "      <td>0</td>\n",
       "      <td>0</td>\n",
       "      <td>0</td>\n",
       "      <td>...</td>\n",
       "      <td>0</td>\n",
       "      <td>0</td>\n",
       "      <td>0</td>\n",
       "      <td>0</td>\n",
       "      <td>0</td>\n",
       "      <td>0</td>\n",
       "      <td>0</td>\n",
       "      <td>0</td>\n",
       "      <td>1</td>\n",
       "      <td>0</td>\n",
       "    </tr>\n",
       "    <tr>\n",
       "      <th>DPY19L1</th>\n",
       "      <td>0</td>\n",
       "      <td>0</td>\n",
       "      <td>0</td>\n",
       "      <td>0</td>\n",
       "      <td>0</td>\n",
       "      <td>0</td>\n",
       "      <td>0</td>\n",
       "      <td>0</td>\n",
       "      <td>0</td>\n",
       "      <td>0</td>\n",
       "      <td>...</td>\n",
       "      <td>0</td>\n",
       "      <td>0</td>\n",
       "      <td>0</td>\n",
       "      <td>0</td>\n",
       "      <td>0</td>\n",
       "      <td>0</td>\n",
       "      <td>0</td>\n",
       "      <td>0</td>\n",
       "      <td>0</td>\n",
       "      <td>0</td>\n",
       "    </tr>\n",
       "    <tr>\n",
       "      <th>ID4</th>\n",
       "      <td>0</td>\n",
       "      <td>0</td>\n",
       "      <td>0</td>\n",
       "      <td>0</td>\n",
       "      <td>0</td>\n",
       "      <td>0</td>\n",
       "      <td>0</td>\n",
       "      <td>0</td>\n",
       "      <td>0</td>\n",
       "      <td>0</td>\n",
       "      <td>...</td>\n",
       "      <td>0</td>\n",
       "      <td>0</td>\n",
       "      <td>0</td>\n",
       "      <td>0</td>\n",
       "      <td>0</td>\n",
       "      <td>0</td>\n",
       "      <td>0</td>\n",
       "      <td>0</td>\n",
       "      <td>0</td>\n",
       "      <td>0</td>\n",
       "    </tr>\n",
       "    <tr>\n",
       "      <th>NLRP2</th>\n",
       "      <td>0</td>\n",
       "      <td>0</td>\n",
       "      <td>0</td>\n",
       "      <td>0</td>\n",
       "      <td>0</td>\n",
       "      <td>0</td>\n",
       "      <td>0</td>\n",
       "      <td>0</td>\n",
       "      <td>0</td>\n",
       "      <td>0</td>\n",
       "      <td>...</td>\n",
       "      <td>0</td>\n",
       "      <td>0</td>\n",
       "      <td>0</td>\n",
       "      <td>0</td>\n",
       "      <td>0</td>\n",
       "      <td>0</td>\n",
       "      <td>0</td>\n",
       "      <td>0</td>\n",
       "      <td>0</td>\n",
       "      <td>0</td>\n",
       "    </tr>\n",
       "  </tbody>\n",
       "</table>\n",
       "<p>5 rows × 225 columns</p>\n",
       "</div>"
      ],
      "text/plain": [
       "         Panic disorder  Rheumatoid arthritis  Depression  Neuroblastoma  \\\n",
       "CCL25                 0                     0           0              0   \n",
       "WDR81                 0                     0           0              0   \n",
       "DPY19L1               0                     0           0              0   \n",
       "ID4                   0                     0           0              0   \n",
       "NLRP2                 0                     0           0              0   \n",
       "\n",
       "         Vitiligo  Parkinson disease  Cholangitis  Celiac disease  \\\n",
       "CCL25           0                  0            0               0   \n",
       "WDR81           0                  0            0               0   \n",
       "DPY19L1         0                  0            0               0   \n",
       "ID4             0                  0            0               0   \n",
       "NLRP2           0                  0            0               0   \n",
       "\n",
       "         Chronic obstructive airway disease  Esophagus cancer  \\\n",
       "CCL25                                     0                 0   \n",
       "WDR81                                     0                 0   \n",
       "DPY19L1                                   0                 0   \n",
       "ID4                                       0                 0   \n",
       "NLRP2                                     0                 0   \n",
       "\n",
       "                   ...              Atopic rhinitis  Neurotic disorder  \\\n",
       "CCL25              ...                            0                  0   \n",
       "WDR81              ...                            0                  0   \n",
       "DPY19L1            ...                            0                  0   \n",
       "ID4                ...                            0                  0   \n",
       "NLRP2              ...                            0                  0   \n",
       "\n",
       "         Chronic fatigue syndrome  Anemia  Aseptic necrosis of bone  \\\n",
       "CCL25                           0       0                         0   \n",
       "WDR81                           0       0                         0   \n",
       "DPY19L1                         0       0                         0   \n",
       "ID4                             0       0                         0   \n",
       "NLRP2                           0       0                         0   \n",
       "\n",
       "         Arthritis  Gonadal dysgenesis  Gouts  Atherosclerosis  \\\n",
       "CCL25            0                   0      0                0   \n",
       "WDR81            0                   0      0                1   \n",
       "DPY19L1          0                   0      0                0   \n",
       "ID4              0                   0      0                0   \n",
       "NLRP2            0                   0      0                0   \n",
       "\n",
       "         Combined immunodeficiency  \n",
       "CCL25                            0  \n",
       "WDR81                            0  \n",
       "DPY19L1                          0  \n",
       "ID4                              0  \n",
       "NLRP2                            0  \n",
       "\n",
       "[5 rows x 225 columns]"
      ]
     },
     "execution_count": 95,
     "metadata": {},
     "output_type": "execute_result"
    }
   ],
   "source": [
    "binary_matrix.head()"
   ]
  },
  {
   "cell_type": "code",
   "execution_count": 96,
   "metadata": {},
   "outputs": [
    {
     "data": {
      "text/plain": [
       "(12091, 225)"
      ]
     },
     "execution_count": 96,
     "metadata": {},
     "output_type": "execute_result"
    }
   ],
   "source": [
    "binary_matrix.shape"
   ]
  },
  {
   "cell_type": "markdown",
   "metadata": {},
   "source": [
    "# Save Binary Matrix"
   ]
  },
  {
   "cell_type": "code",
   "execution_count": 97,
   "metadata": {
    "collapsed": true
   },
   "outputs": [],
   "source": [
    "filename = '~/./Documents/Harmonizome/GWASdb/Output/gwasdb_binary_matrix_%s.tsv.zip'% str(datetime.date.today())[0:7].replace('-', '_')\n",
    "binary_matrix.to_csv(filename, sep='\\t', compression='gzip')"
   ]
  },
  {
   "cell_type": "markdown",
   "metadata": {},
   "source": [
    "# Create Gene Set Library"
   ]
  },
  {
   "cell_type": "code",
   "execution_count": 98,
   "metadata": {
    "collapsed": true
   },
   "outputs": [],
   "source": [
    "path = '/Users/moshesilverstein/Documents/Harmonizome/GWASdb/Output/'"
   ]
  },
  {
   "cell_type": "code",
   "execution_count": 99,
   "metadata": {
    "collapsed": true
   },
   "outputs": [],
   "source": [
    "name = 'gwasdb_gene_set'"
   ]
  },
  {
   "cell_type": "code",
   "execution_count": 100,
   "metadata": {},
   "outputs": [
    {
     "name": "stdout",
     "output_type": "stream",
     "text": [
      "Progeres: 100%  225 Out of 225   \r"
     ]
    }
   ],
   "source": [
    "uf.createUpGeneSetLib(binary_matrix, path, name)"
   ]
  },
  {
   "cell_type": "markdown",
   "metadata": {},
   "source": [
    "# Create Attribute Library"
   ]
  },
  {
   "cell_type": "code",
   "execution_count": 102,
   "metadata": {
    "collapsed": true
   },
   "outputs": [],
   "source": [
    "path = '/Users/moshesilverstein/Documents/Harmonizome/GWASdb/Output/'"
   ]
  },
  {
   "cell_type": "code",
   "execution_count": 101,
   "metadata": {
    "collapsed": true
   },
   "outputs": [],
   "source": [
    "name = 'gwasdb_attribute_set'"
   ]
  },
  {
   "cell_type": "code",
   "execution_count": 103,
   "metadata": {},
   "outputs": [
    {
     "name": "stdout",
     "output_type": "stream",
     "text": [
      "Progeres: 100%  12091 Out of 12091   \r"
     ]
    }
   ],
   "source": [
    "uf.createUpAttributeSetLib(binary_matrix, path, name)"
   ]
  },
  {
   "cell_type": "markdown",
   "metadata": {},
   "source": [
    "# Create Gene Similarity Matrix"
   ]
  },
  {
   "cell_type": "code",
   "execution_count": 104,
   "metadata": {
    "collapsed": true
   },
   "outputs": [],
   "source": [
    "gene_similarity_matix = uf.createSimilarityMatrix(binary_matrix, 'jaccard')"
   ]
  },
  {
   "cell_type": "code",
   "execution_count": 105,
   "metadata": {},
   "outputs": [
    {
     "data": {
      "text/html": [
       "<div>\n",
       "<style>\n",
       "    .dataframe thead tr:only-child th {\n",
       "        text-align: right;\n",
       "    }\n",
       "\n",
       "    .dataframe thead th {\n",
       "        text-align: left;\n",
       "    }\n",
       "\n",
       "    .dataframe tbody tr th {\n",
       "        vertical-align: top;\n",
       "    }\n",
       "</style>\n",
       "<table border=\"1\" class=\"dataframe\">\n",
       "  <thead>\n",
       "    <tr style=\"text-align: right;\">\n",
       "      <th></th>\n",
       "      <th>CCL25</th>\n",
       "      <th>WDR81</th>\n",
       "      <th>DPY19L1</th>\n",
       "      <th>ID4</th>\n",
       "      <th>NLRP2</th>\n",
       "      <th>LOXL2</th>\n",
       "      <th>ZMYND15</th>\n",
       "      <th>ZMIZ2</th>\n",
       "      <th>AIFM3</th>\n",
       "      <th>NUP210L</th>\n",
       "      <th>...</th>\n",
       "      <th>BLOC1S5</th>\n",
       "      <th>SLCO2B1</th>\n",
       "      <th>CWC15</th>\n",
       "      <th>LMNTD1</th>\n",
       "      <th>HCG22</th>\n",
       "      <th>DNAJC3</th>\n",
       "      <th>RSPO2</th>\n",
       "      <th>CNTN3</th>\n",
       "      <th>NACA</th>\n",
       "      <th>TBRG4</th>\n",
       "    </tr>\n",
       "  </thead>\n",
       "  <tbody>\n",
       "    <tr>\n",
       "      <th>CCL25</th>\n",
       "      <td>1.0</td>\n",
       "      <td>0.0</td>\n",
       "      <td>0.0</td>\n",
       "      <td>0.0</td>\n",
       "      <td>0.0</td>\n",
       "      <td>0.000000</td>\n",
       "      <td>0.142857</td>\n",
       "      <td>0.0</td>\n",
       "      <td>0.0</td>\n",
       "      <td>0.000000</td>\n",
       "      <td>...</td>\n",
       "      <td>0.0</td>\n",
       "      <td>0.0</td>\n",
       "      <td>0.000</td>\n",
       "      <td>0.0</td>\n",
       "      <td>0.0</td>\n",
       "      <td>0.000000</td>\n",
       "      <td>0.090909</td>\n",
       "      <td>0.000000</td>\n",
       "      <td>0.000000</td>\n",
       "      <td>0.333333</td>\n",
       "    </tr>\n",
       "    <tr>\n",
       "      <th>WDR81</th>\n",
       "      <td>0.0</td>\n",
       "      <td>1.0</td>\n",
       "      <td>0.0</td>\n",
       "      <td>0.4</td>\n",
       "      <td>0.0</td>\n",
       "      <td>0.222222</td>\n",
       "      <td>0.000000</td>\n",
       "      <td>0.0</td>\n",
       "      <td>0.0</td>\n",
       "      <td>0.000000</td>\n",
       "      <td>...</td>\n",
       "      <td>0.0</td>\n",
       "      <td>0.0</td>\n",
       "      <td>0.125</td>\n",
       "      <td>0.0</td>\n",
       "      <td>0.0</td>\n",
       "      <td>0.000000</td>\n",
       "      <td>0.000000</td>\n",
       "      <td>0.142857</td>\n",
       "      <td>0.000000</td>\n",
       "      <td>0.000000</td>\n",
       "    </tr>\n",
       "    <tr>\n",
       "      <th>DPY19L1</th>\n",
       "      <td>0.0</td>\n",
       "      <td>0.0</td>\n",
       "      <td>1.0</td>\n",
       "      <td>0.0</td>\n",
       "      <td>0.0</td>\n",
       "      <td>0.000000</td>\n",
       "      <td>0.000000</td>\n",
       "      <td>0.0</td>\n",
       "      <td>0.0</td>\n",
       "      <td>0.000000</td>\n",
       "      <td>...</td>\n",
       "      <td>0.0</td>\n",
       "      <td>0.0</td>\n",
       "      <td>0.000</td>\n",
       "      <td>0.0</td>\n",
       "      <td>0.0</td>\n",
       "      <td>0.000000</td>\n",
       "      <td>0.100000</td>\n",
       "      <td>0.000000</td>\n",
       "      <td>0.000000</td>\n",
       "      <td>0.000000</td>\n",
       "    </tr>\n",
       "    <tr>\n",
       "      <th>ID4</th>\n",
       "      <td>0.0</td>\n",
       "      <td>0.4</td>\n",
       "      <td>0.0</td>\n",
       "      <td>1.0</td>\n",
       "      <td>0.0</td>\n",
       "      <td>0.333333</td>\n",
       "      <td>0.000000</td>\n",
       "      <td>0.0</td>\n",
       "      <td>0.0</td>\n",
       "      <td>0.000000</td>\n",
       "      <td>...</td>\n",
       "      <td>0.0</td>\n",
       "      <td>0.0</td>\n",
       "      <td>0.200</td>\n",
       "      <td>0.0</td>\n",
       "      <td>0.0</td>\n",
       "      <td>0.000000</td>\n",
       "      <td>0.000000</td>\n",
       "      <td>0.083333</td>\n",
       "      <td>0.000000</td>\n",
       "      <td>0.000000</td>\n",
       "    </tr>\n",
       "    <tr>\n",
       "      <th>NLRP2</th>\n",
       "      <td>0.0</td>\n",
       "      <td>0.0</td>\n",
       "      <td>0.0</td>\n",
       "      <td>0.0</td>\n",
       "      <td>1.0</td>\n",
       "      <td>0.000000</td>\n",
       "      <td>0.100000</td>\n",
       "      <td>0.0</td>\n",
       "      <td>0.0</td>\n",
       "      <td>0.166667</td>\n",
       "      <td>...</td>\n",
       "      <td>0.0</td>\n",
       "      <td>0.0</td>\n",
       "      <td>0.000</td>\n",
       "      <td>0.0</td>\n",
       "      <td>0.0</td>\n",
       "      <td>0.166667</td>\n",
       "      <td>0.071429</td>\n",
       "      <td>0.000000</td>\n",
       "      <td>0.166667</td>\n",
       "      <td>0.000000</td>\n",
       "    </tr>\n",
       "  </tbody>\n",
       "</table>\n",
       "<p>5 rows × 12091 columns</p>\n",
       "</div>"
      ],
      "text/plain": [
       "         CCL25  WDR81  DPY19L1  ID4  NLRP2     LOXL2   ZMYND15  ZMIZ2  AIFM3  \\\n",
       "CCL25      1.0    0.0      0.0  0.0    0.0  0.000000  0.142857    0.0    0.0   \n",
       "WDR81      0.0    1.0      0.0  0.4    0.0  0.222222  0.000000    0.0    0.0   \n",
       "DPY19L1    0.0    0.0      1.0  0.0    0.0  0.000000  0.000000    0.0    0.0   \n",
       "ID4        0.0    0.4      0.0  1.0    0.0  0.333333  0.000000    0.0    0.0   \n",
       "NLRP2      0.0    0.0      0.0  0.0    1.0  0.000000  0.100000    0.0    0.0   \n",
       "\n",
       "          NUP210L    ...     BLOC1S5  SLCO2B1  CWC15  LMNTD1  HCG22    DNAJC3  \\\n",
       "CCL25    0.000000    ...         0.0      0.0  0.000     0.0    0.0  0.000000   \n",
       "WDR81    0.000000    ...         0.0      0.0  0.125     0.0    0.0  0.000000   \n",
       "DPY19L1  0.000000    ...         0.0      0.0  0.000     0.0    0.0  0.000000   \n",
       "ID4      0.000000    ...         0.0      0.0  0.200     0.0    0.0  0.000000   \n",
       "NLRP2    0.166667    ...         0.0      0.0  0.000     0.0    0.0  0.166667   \n",
       "\n",
       "            RSPO2     CNTN3      NACA     TBRG4  \n",
       "CCL25    0.090909  0.000000  0.000000  0.333333  \n",
       "WDR81    0.000000  0.142857  0.000000  0.000000  \n",
       "DPY19L1  0.100000  0.000000  0.000000  0.000000  \n",
       "ID4      0.000000  0.083333  0.000000  0.000000  \n",
       "NLRP2    0.071429  0.000000  0.166667  0.000000  \n",
       "\n",
       "[5 rows x 12091 columns]"
      ]
     },
     "execution_count": 105,
     "metadata": {},
     "output_type": "execute_result"
    }
   ],
   "source": [
    "gene_similarity_matix.head()"
   ]
  },
  {
   "cell_type": "markdown",
   "metadata": {},
   "source": [
    "# Save Gene Similarity Matrix"
   ]
  },
  {
   "cell_type": "code",
   "execution_count": 106,
   "metadata": {
    "collapsed": true
   },
   "outputs": [],
   "source": [
    "filename = '~/./Documents/Harmonizome/GWASdb/Output/gwasdb_gene_similarity_matix_%s.tsv.zip'% str(datetime.date.today())[0:7].replace('-', '_')\n",
    "gene_similarity_matix.to_csv(filename, sep='\\t', compression='gzip')"
   ]
  },
  {
   "cell_type": "markdown",
   "metadata": {},
   "source": [
    "# Create Attribute Similarity matrix"
   ]
  },
  {
   "cell_type": "code",
   "execution_count": 107,
   "metadata": {
    "collapsed": true
   },
   "outputs": [],
   "source": [
    "attribute_similarity_matix = uf.createSimilarityMatrix(binary_matrix.T, 'jaccard')"
   ]
  },
  {
   "cell_type": "code",
   "execution_count": 108,
   "metadata": {},
   "outputs": [
    {
     "data": {
      "text/html": [
       "<div>\n",
       "<style>\n",
       "    .dataframe thead tr:only-child th {\n",
       "        text-align: right;\n",
       "    }\n",
       "\n",
       "    .dataframe thead th {\n",
       "        text-align: left;\n",
       "    }\n",
       "\n",
       "    .dataframe tbody tr th {\n",
       "        vertical-align: top;\n",
       "    }\n",
       "</style>\n",
       "<table border=\"1\" class=\"dataframe\">\n",
       "  <thead>\n",
       "    <tr style=\"text-align: right;\">\n",
       "      <th></th>\n",
       "      <th>Panic disorder</th>\n",
       "      <th>Rheumatoid arthritis</th>\n",
       "      <th>Depression</th>\n",
       "      <th>Neuroblastoma</th>\n",
       "      <th>Vitiligo</th>\n",
       "      <th>Parkinson disease</th>\n",
       "      <th>Cholangitis</th>\n",
       "      <th>Celiac disease</th>\n",
       "      <th>Chronic obstructive airway disease</th>\n",
       "      <th>Esophagus cancer</th>\n",
       "      <th>...</th>\n",
       "      <th>Atopic rhinitis</th>\n",
       "      <th>Neurotic disorder</th>\n",
       "      <th>Chronic fatigue syndrome</th>\n",
       "      <th>Anemia</th>\n",
       "      <th>Aseptic necrosis of bone</th>\n",
       "      <th>Arthritis</th>\n",
       "      <th>Gonadal dysgenesis</th>\n",
       "      <th>Gouts</th>\n",
       "      <th>Atherosclerosis</th>\n",
       "      <th>Combined immunodeficiency</th>\n",
       "    </tr>\n",
       "  </thead>\n",
       "  <tbody>\n",
       "    <tr>\n",
       "      <th>Panic disorder</th>\n",
       "      <td>1.000000</td>\n",
       "      <td>0.015924</td>\n",
       "      <td>0.022287</td>\n",
       "      <td>0.006849</td>\n",
       "      <td>0.013333</td>\n",
       "      <td>0.021040</td>\n",
       "      <td>0.017778</td>\n",
       "      <td>0.020979</td>\n",
       "      <td>0.028689</td>\n",
       "      <td>0.008097</td>\n",
       "      <td>...</td>\n",
       "      <td>0.000000</td>\n",
       "      <td>0.010753</td>\n",
       "      <td>0.000000</td>\n",
       "      <td>0.000000</td>\n",
       "      <td>0.000000</td>\n",
       "      <td>0.011952</td>\n",
       "      <td>0.000000</td>\n",
       "      <td>0.013575</td>\n",
       "      <td>0.011029</td>\n",
       "      <td>0.000000</td>\n",
       "    </tr>\n",
       "    <tr>\n",
       "      <th>Rheumatoid arthritis</th>\n",
       "      <td>0.015924</td>\n",
       "      <td>1.000000</td>\n",
       "      <td>0.095238</td>\n",
       "      <td>0.010846</td>\n",
       "      <td>0.035359</td>\n",
       "      <td>0.077644</td>\n",
       "      <td>0.027356</td>\n",
       "      <td>0.071642</td>\n",
       "      <td>0.067164</td>\n",
       "      <td>0.026812</td>\n",
       "      <td>...</td>\n",
       "      <td>0.000000</td>\n",
       "      <td>0.002281</td>\n",
       "      <td>0.008939</td>\n",
       "      <td>0.001126</td>\n",
       "      <td>0.001140</td>\n",
       "      <td>0.033831</td>\n",
       "      <td>0.001145</td>\n",
       "      <td>0.016113</td>\n",
       "      <td>0.065520</td>\n",
       "      <td>0.000000</td>\n",
       "    </tr>\n",
       "    <tr>\n",
       "      <th>Depression</th>\n",
       "      <td>0.022287</td>\n",
       "      <td>0.095238</td>\n",
       "      <td>1.000000</td>\n",
       "      <td>0.011788</td>\n",
       "      <td>0.015702</td>\n",
       "      <td>0.090677</td>\n",
       "      <td>0.026777</td>\n",
       "      <td>0.031607</td>\n",
       "      <td>0.059679</td>\n",
       "      <td>0.026292</td>\n",
       "      <td>...</td>\n",
       "      <td>0.001025</td>\n",
       "      <td>0.002051</td>\n",
       "      <td>0.005020</td>\n",
       "      <td>0.000000</td>\n",
       "      <td>0.003083</td>\n",
       "      <td>0.038356</td>\n",
       "      <td>0.000000</td>\n",
       "      <td>0.019337</td>\n",
       "      <td>0.080329</td>\n",
       "      <td>0.000000</td>\n",
       "    </tr>\n",
       "    <tr>\n",
       "      <th>Neuroblastoma</th>\n",
       "      <td>0.006849</td>\n",
       "      <td>0.010846</td>\n",
       "      <td>0.011788</td>\n",
       "      <td>1.000000</td>\n",
       "      <td>0.007937</td>\n",
       "      <td>0.010101</td>\n",
       "      <td>0.004926</td>\n",
       "      <td>0.007547</td>\n",
       "      <td>0.010593</td>\n",
       "      <td>0.000000</td>\n",
       "      <td>...</td>\n",
       "      <td>0.000000</td>\n",
       "      <td>0.000000</td>\n",
       "      <td>0.000000</td>\n",
       "      <td>0.000000</td>\n",
       "      <td>0.000000</td>\n",
       "      <td>0.004386</td>\n",
       "      <td>0.000000</td>\n",
       "      <td>0.010152</td>\n",
       "      <td>0.007557</td>\n",
       "      <td>0.016393</td>\n",
       "    </tr>\n",
       "    <tr>\n",
       "      <th>Vitiligo</th>\n",
       "      <td>0.013333</td>\n",
       "      <td>0.035359</td>\n",
       "      <td>0.015702</td>\n",
       "      <td>0.007937</td>\n",
       "      <td>1.000000</td>\n",
       "      <td>0.006250</td>\n",
       "      <td>0.029557</td>\n",
       "      <td>0.046154</td>\n",
       "      <td>0.014737</td>\n",
       "      <td>0.017778</td>\n",
       "      <td>...</td>\n",
       "      <td>0.000000</td>\n",
       "      <td>0.013699</td>\n",
       "      <td>0.010309</td>\n",
       "      <td>0.000000</td>\n",
       "      <td>0.000000</td>\n",
       "      <td>0.008621</td>\n",
       "      <td>0.000000</td>\n",
       "      <td>0.014925</td>\n",
       "      <td>0.015132</td>\n",
       "      <td>0.000000</td>\n",
       "    </tr>\n",
       "  </tbody>\n",
       "</table>\n",
       "<p>5 rows × 225 columns</p>\n",
       "</div>"
      ],
      "text/plain": [
       "                      Panic disorder  Rheumatoid arthritis  Depression  \\\n",
       "Panic disorder              1.000000              0.015924    0.022287   \n",
       "Rheumatoid arthritis        0.015924              1.000000    0.095238   \n",
       "Depression                  0.022287              0.095238    1.000000   \n",
       "Neuroblastoma               0.006849              0.010846    0.011788   \n",
       "Vitiligo                    0.013333              0.035359    0.015702   \n",
       "\n",
       "                      Neuroblastoma  Vitiligo  Parkinson disease  Cholangitis  \\\n",
       "Panic disorder             0.006849  0.013333           0.021040     0.017778   \n",
       "Rheumatoid arthritis       0.010846  0.035359           0.077644     0.027356   \n",
       "Depression                 0.011788  0.015702           0.090677     0.026777   \n",
       "Neuroblastoma              1.000000  0.007937           0.010101     0.004926   \n",
       "Vitiligo                   0.007937  1.000000           0.006250     0.029557   \n",
       "\n",
       "                      Celiac disease  Chronic obstructive airway disease  \\\n",
       "Panic disorder              0.020979                            0.028689   \n",
       "Rheumatoid arthritis        0.071642                            0.067164   \n",
       "Depression                  0.031607                            0.059679   \n",
       "Neuroblastoma               0.007547                            0.010593   \n",
       "Vitiligo                    0.046154                            0.014737   \n",
       "\n",
       "                      Esophagus cancer            ...              \\\n",
       "Panic disorder                0.008097            ...               \n",
       "Rheumatoid arthritis          0.026812            ...               \n",
       "Depression                    0.026292            ...               \n",
       "Neuroblastoma                 0.000000            ...               \n",
       "Vitiligo                      0.017778            ...               \n",
       "\n",
       "                      Atopic rhinitis  Neurotic disorder  \\\n",
       "Panic disorder               0.000000           0.010753   \n",
       "Rheumatoid arthritis         0.000000           0.002281   \n",
       "Depression                   0.001025           0.002051   \n",
       "Neuroblastoma                0.000000           0.000000   \n",
       "Vitiligo                     0.000000           0.013699   \n",
       "\n",
       "                      Chronic fatigue syndrome    Anemia  \\\n",
       "Panic disorder                        0.000000  0.000000   \n",
       "Rheumatoid arthritis                  0.008939  0.001126   \n",
       "Depression                            0.005020  0.000000   \n",
       "Neuroblastoma                         0.000000  0.000000   \n",
       "Vitiligo                              0.010309  0.000000   \n",
       "\n",
       "                      Aseptic necrosis of bone  Arthritis  Gonadal dysgenesis  \\\n",
       "Panic disorder                        0.000000   0.011952            0.000000   \n",
       "Rheumatoid arthritis                  0.001140   0.033831            0.001145   \n",
       "Depression                            0.003083   0.038356            0.000000   \n",
       "Neuroblastoma                         0.000000   0.004386            0.000000   \n",
       "Vitiligo                              0.000000   0.008621            0.000000   \n",
       "\n",
       "                         Gouts  Atherosclerosis  Combined immunodeficiency  \n",
       "Panic disorder        0.013575         0.011029                   0.000000  \n",
       "Rheumatoid arthritis  0.016113         0.065520                   0.000000  \n",
       "Depression            0.019337         0.080329                   0.000000  \n",
       "Neuroblastoma         0.010152         0.007557                   0.016393  \n",
       "Vitiligo              0.014925         0.015132                   0.000000  \n",
       "\n",
       "[5 rows x 225 columns]"
      ]
     },
     "execution_count": 108,
     "metadata": {},
     "output_type": "execute_result"
    }
   ],
   "source": [
    "attribute_similarity_matix.head()"
   ]
  },
  {
   "cell_type": "markdown",
   "metadata": {},
   "source": [
    "# Save Attribute Similarity Matrix"
   ]
  },
  {
   "cell_type": "code",
   "execution_count": 109,
   "metadata": {
    "collapsed": true
   },
   "outputs": [],
   "source": [
    "filename = '~/./Documents/Harmonizome/GWASdb/Output/gwasdb_attribute_similarity_matix_%s.tsv.zip'% str(datetime.date.today())[0:7].replace('-', '_')\n",
    "attribute_similarity_matix.to_csv(filename, sep='\\t', compression='gzip')"
   ]
  },
  {
   "cell_type": "markdown",
   "metadata": {},
   "source": [
    "# Create Gene List"
   ]
  },
  {
   "cell_type": "code",
   "execution_count": 110,
   "metadata": {},
   "outputs": [
    {
     "name": "stdout",
     "output_type": "stream",
     "text": [
      "Progeres: 100%  12091 Out of 12091   \r"
     ]
    }
   ],
   "source": [
    "gene_list = uf.createGeneList(binary_matrix)"
   ]
  },
  {
   "cell_type": "code",
   "execution_count": 111,
   "metadata": {},
   "outputs": [
    {
     "data": {
      "text/html": [
       "<div>\n",
       "<style>\n",
       "    .dataframe thead tr:only-child th {\n",
       "        text-align: right;\n",
       "    }\n",
       "\n",
       "    .dataframe thead th {\n",
       "        text-align: left;\n",
       "    }\n",
       "\n",
       "    .dataframe tbody tr th {\n",
       "        vertical-align: top;\n",
       "    }\n",
       "</style>\n",
       "<table border=\"1\" class=\"dataframe\">\n",
       "  <thead>\n",
       "    <tr style=\"text-align: right;\">\n",
       "      <th></th>\n",
       "      <th>GeneSym</th>\n",
       "      <th>GeneID</th>\n",
       "    </tr>\n",
       "  </thead>\n",
       "  <tbody>\n",
       "    <tr>\n",
       "      <th>0</th>\n",
       "      <td>CCL25</td>\n",
       "      <td>6370</td>\n",
       "    </tr>\n",
       "    <tr>\n",
       "      <th>1</th>\n",
       "      <td>WDR81</td>\n",
       "      <td>124997</td>\n",
       "    </tr>\n",
       "    <tr>\n",
       "      <th>2</th>\n",
       "      <td>DPY19L1</td>\n",
       "      <td>23333</td>\n",
       "    </tr>\n",
       "    <tr>\n",
       "      <th>3</th>\n",
       "      <td>ID4</td>\n",
       "      <td>3400</td>\n",
       "    </tr>\n",
       "    <tr>\n",
       "      <th>4</th>\n",
       "      <td>NLRP2</td>\n",
       "      <td>55655</td>\n",
       "    </tr>\n",
       "  </tbody>\n",
       "</table>\n",
       "</div>"
      ],
      "text/plain": [
       "   GeneSym  GeneID\n",
       "0    CCL25    6370\n",
       "1    WDR81  124997\n",
       "2  DPY19L1   23333\n",
       "3      ID4    3400\n",
       "4    NLRP2   55655"
      ]
     },
     "execution_count": 111,
     "metadata": {},
     "output_type": "execute_result"
    }
   ],
   "source": [
    "gene_list.head()"
   ]
  },
  {
   "cell_type": "code",
   "execution_count": 112,
   "metadata": {},
   "outputs": [
    {
     "data": {
      "text/plain": [
       "(12091, 2)"
      ]
     },
     "execution_count": 112,
     "metadata": {},
     "output_type": "execute_result"
    }
   ],
   "source": [
    "gene_list.shape"
   ]
  },
  {
   "cell_type": "markdown",
   "metadata": {},
   "source": [
    "# Save Gene List"
   ]
  },
  {
   "cell_type": "code",
   "execution_count": 113,
   "metadata": {
    "collapsed": true
   },
   "outputs": [],
   "source": [
    "filename = '~/./Documents/Harmonizome/GWASdb/Output/gwasdb_gene_list_%s.tsv.zip'% str(datetime.date.today())[0:7].replace('-', '_')\n",
    "gene_list.to_csv(filename, sep='\\t', index=False, compression='gzip')"
   ]
  },
  {
   "cell_type": "markdown",
   "metadata": {},
   "source": [
    "# Create Attribute List"
   ]
  },
  {
   "cell_type": "code",
   "execution_count": 114,
   "metadata": {
    "collapsed": true
   },
   "outputs": [],
   "source": [
    "attribute_list = uf.createAttributeList(binary_matrix)"
   ]
  },
  {
   "cell_type": "code",
   "execution_count": 115,
   "metadata": {},
   "outputs": [
    {
     "data": {
      "text/html": [
       "<div>\n",
       "<style>\n",
       "    .dataframe thead tr:only-child th {\n",
       "        text-align: right;\n",
       "    }\n",
       "\n",
       "    .dataframe thead th {\n",
       "        text-align: left;\n",
       "    }\n",
       "\n",
       "    .dataframe tbody tr th {\n",
       "        vertical-align: top;\n",
       "    }\n",
       "</style>\n",
       "<table border=\"1\" class=\"dataframe\">\n",
       "  <thead>\n",
       "    <tr style=\"text-align: right;\">\n",
       "      <th></th>\n",
       "      <th>Attributes</th>\n",
       "    </tr>\n",
       "  </thead>\n",
       "  <tbody>\n",
       "    <tr>\n",
       "      <th>0</th>\n",
       "      <td>Panic disorder</td>\n",
       "    </tr>\n",
       "    <tr>\n",
       "      <th>1</th>\n",
       "      <td>Rheumatoid arthritis</td>\n",
       "    </tr>\n",
       "    <tr>\n",
       "      <th>2</th>\n",
       "      <td>Depression</td>\n",
       "    </tr>\n",
       "    <tr>\n",
       "      <th>3</th>\n",
       "      <td>Neuroblastoma</td>\n",
       "    </tr>\n",
       "    <tr>\n",
       "      <th>4</th>\n",
       "      <td>Vitiligo</td>\n",
       "    </tr>\n",
       "  </tbody>\n",
       "</table>\n",
       "</div>"
      ],
      "text/plain": [
       "             Attributes\n",
       "0        Panic disorder\n",
       "1  Rheumatoid arthritis\n",
       "2            Depression\n",
       "3         Neuroblastoma\n",
       "4              Vitiligo"
      ]
     },
     "execution_count": 115,
     "metadata": {},
     "output_type": "execute_result"
    }
   ],
   "source": [
    "attribute_list.head()"
   ]
  },
  {
   "cell_type": "code",
   "execution_count": 116,
   "metadata": {},
   "outputs": [
    {
     "data": {
      "text/plain": [
       "(225, 1)"
      ]
     },
     "execution_count": 116,
     "metadata": {},
     "output_type": "execute_result"
    }
   ],
   "source": [
    "attribute_list.shape"
   ]
  },
  {
   "cell_type": "markdown",
   "metadata": {},
   "source": [
    "# Save Attribute List"
   ]
  },
  {
   "cell_type": "code",
   "execution_count": 117,
   "metadata": {
    "collapsed": true
   },
   "outputs": [],
   "source": [
    "filename = '~/./Documents/Harmonizome/GWASdb/Output/gwasdb_attribute_list_%s.tsv.zip'% str(datetime.date.today())[0:7].replace('-', '_')\n",
    "attribute_list.to_csv(filename, sep='\\t', index=False, compression='gzip')"
   ]
  },
  {
   "cell_type": "markdown",
   "metadata": {},
   "source": [
    "# Create Gene-Attribute Edge List"
   ]
  },
  {
   "cell_type": "code",
   "execution_count": 118,
   "metadata": {
    "collapsed": true
   },
   "outputs": [],
   "source": [
    "path = '/Users/moshesilverstein/Documents/Harmonizome/GWASdb/Output/'"
   ]
  },
  {
   "cell_type": "code",
   "execution_count": 119,
   "metadata": {
    "collapsed": true
   },
   "outputs": [],
   "source": [
    "name = 'gwasdb_gene_attribute_edge_list'"
   ]
  },
  {
   "cell_type": "code",
   "execution_count": 120,
   "metadata": {},
   "outputs": [
    {
     "name": "stdout",
     "output_type": "stream",
     "text": [
      "Progeres: 100%  225 Out of 225   \n",
      "\n",
      " The number of statisticaly relevent gene-attribute associations is: 60246\n"
     ]
    }
   ],
   "source": [
    "uf.createGeneAttributeEdgeList(binary_matrix, gene_list, path, name)"
   ]
  }
 ],
 "metadata": {
  "kernelspec": {
   "display_name": "Python [default]",
   "language": "python",
   "name": "python3"
  },
  "language_info": {
   "codemirror_mode": {
    "name": "ipython",
    "version": 3
   },
   "file_extension": ".py",
   "mimetype": "text/x-python",
   "name": "python",
   "nbconvert_exporter": "python",
   "pygments_lexer": "ipython3",
   "version": "3.5.2"
  }
 },
 "nbformat": 4,
 "nbformat_minor": 2
}
