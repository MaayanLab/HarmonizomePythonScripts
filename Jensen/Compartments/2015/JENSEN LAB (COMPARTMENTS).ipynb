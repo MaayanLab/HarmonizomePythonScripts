{
 "cells": [
  {
   "cell_type": "markdown",
   "metadata": {},
   "source": [
    "# JENSEN LAB (COMPARTMENTS)"
   ]
  },
  {
   "cell_type": "markdown",
   "metadata": {},
   "source": [
    "Author: Moshe Silverstein <br/>\n",
    "Date: 7-17 <br/>\n",
    "Data Source: http://compartments.jensenlab.org/Search"
   ]
  },
  {
   "cell_type": "code",
   "execution_count": 1,
   "metadata": {
    "collapsed": true
   },
   "outputs": [],
   "source": [
    "import sys, datetime\n",
    "import numpy as np\n",
    "import pandas as pd\n",
    "import importlib\n",
    "import untility_functions as uf\n",
    "%matplotlib inline"
   ]
  },
  {
   "cell_type": "code",
   "execution_count": 2,
   "metadata": {},
   "outputs": [
    {
     "data": {
      "text/plain": [
       "<module 'untility_functions' from '/Users/moshesilverstein/Documents/Harmonizome/Jensen/Compartments/untility_functions.py'>"
      ]
     },
     "execution_count": 2,
     "metadata": {},
     "output_type": "execute_result"
    }
   ],
   "source": [
    "importlib.reload(uf)"
   ]
  },
  {
   "cell_type": "markdown",
   "metadata": {},
   "source": [
    "# LOAD DATA"
   ]
  },
  {
   "cell_type": "code",
   "execution_count": 3,
   "metadata": {
    "collapsed": true
   },
   "outputs": [],
   "source": [
    "col = ['Ensemble Acc', 'GeneSym', 'BTO', 'Compartment', 'Source', 'SampleInfo', 'Value']"
   ]
  },
  {
   "cell_type": "code",
   "execution_count": 4,
   "metadata": {
    "collapsed": true
   },
   "outputs": [],
   "source": [
    "dfE = pd.read_csv('Input/human_compartment_experiments_full.tsv', sep='\\t', names=col)"
   ]
  },
  {
   "cell_type": "code",
   "execution_count": 5,
   "metadata": {
    "collapsed": true
   },
   "outputs": [],
   "source": [
    "dfK = pd.read_csv('Input/human_compartment_knowledge_full.tsv', sep='\\t', names=col)"
   ]
  },
  {
   "cell_type": "code",
   "execution_count": 6,
   "metadata": {
    "collapsed": true
   },
   "outputs": [],
   "source": [
    "dfT = pd.read_csv('Input/human_compartment_textmining_full.tsv', sep='\\t', names=col)"
   ]
  },
  {
   "cell_type": "code",
   "execution_count": 7,
   "metadata": {
    "collapsed": true
   },
   "outputs": [],
   "source": [
    "df = pd.concat([dfE, dfK, dfT])"
   ]
  },
  {
   "cell_type": "code",
   "execution_count": 8,
   "metadata": {},
   "outputs": [
    {
     "data": {
      "text/html": [
       "<div>\n",
       "<table border=\"1\" class=\"dataframe\">\n",
       "  <thead>\n",
       "    <tr style=\"text-align: right;\">\n",
       "      <th></th>\n",
       "      <th>Ensemble Acc</th>\n",
       "      <th>GeneSym</th>\n",
       "      <th>BTO</th>\n",
       "      <th>Compartment</th>\n",
       "      <th>Source</th>\n",
       "      <th>SampleInfo</th>\n",
       "      <th>Value</th>\n",
       "    </tr>\n",
       "  </thead>\n",
       "  <tbody>\n",
       "    <tr>\n",
       "      <th>0</th>\n",
       "      <td>ENSP00000000442</td>\n",
       "      <td>ESRRA</td>\n",
       "      <td>GO:0005575</td>\n",
       "      <td>cellular_component</td>\n",
       "      <td>HPA</td>\n",
       "      <td>Weak: 1 antibody</td>\n",
       "      <td>1</td>\n",
       "    </tr>\n",
       "    <tr>\n",
       "      <th>1</th>\n",
       "      <td>ENSP00000000442</td>\n",
       "      <td>ESRRA</td>\n",
       "      <td>GO:0005622</td>\n",
       "      <td>Intracellular</td>\n",
       "      <td>HPA</td>\n",
       "      <td>Weak: 1 antibody</td>\n",
       "      <td>1</td>\n",
       "    </tr>\n",
       "    <tr>\n",
       "      <th>2</th>\n",
       "      <td>ENSP00000000442</td>\n",
       "      <td>ESRRA</td>\n",
       "      <td>GO:0005623</td>\n",
       "      <td>Cell</td>\n",
       "      <td>HPA</td>\n",
       "      <td>Weak: 1 antibody</td>\n",
       "      <td>1</td>\n",
       "    </tr>\n",
       "    <tr>\n",
       "      <th>3</th>\n",
       "      <td>ENSP00000000442</td>\n",
       "      <td>ESRRA</td>\n",
       "      <td>GO:0005634</td>\n",
       "      <td>Nucleus</td>\n",
       "      <td>HPA</td>\n",
       "      <td>Weak: 1 antibody</td>\n",
       "      <td>1</td>\n",
       "    </tr>\n",
       "    <tr>\n",
       "      <th>4</th>\n",
       "      <td>ENSP00000000442</td>\n",
       "      <td>ESRRA</td>\n",
       "      <td>GO:0005730</td>\n",
       "      <td>Nucleolus</td>\n",
       "      <td>HPA</td>\n",
       "      <td>Weak: 1 antibody</td>\n",
       "      <td>1</td>\n",
       "    </tr>\n",
       "  </tbody>\n",
       "</table>\n",
       "</div>"
      ],
      "text/plain": [
       "      Ensemble Acc GeneSym         BTO         Compartment Source  \\\n",
       "0  ENSP00000000442   ESRRA  GO:0005575  cellular_component    HPA   \n",
       "1  ENSP00000000442   ESRRA  GO:0005622       Intracellular    HPA   \n",
       "2  ENSP00000000442   ESRRA  GO:0005623                Cell    HPA   \n",
       "3  ENSP00000000442   ESRRA  GO:0005634             Nucleus    HPA   \n",
       "4  ENSP00000000442   ESRRA  GO:0005730           Nucleolus    HPA   \n",
       "\n",
       "         SampleInfo Value  \n",
       "0  Weak: 1 antibody     1  \n",
       "1  Weak: 1 antibody     1  \n",
       "2  Weak: 1 antibody     1  \n",
       "3  Weak: 1 antibody     1  \n",
       "4  Weak: 1 antibody     1  "
      ]
     },
     "execution_count": 8,
     "metadata": {},
     "output_type": "execute_result"
    }
   ],
   "source": [
    "df.head()"
   ]
  },
  {
   "cell_type": "code",
   "execution_count": 9,
   "metadata": {},
   "outputs": [
    {
     "data": {
      "text/plain": [
       "(1375086, 7)"
      ]
     },
     "execution_count": 9,
     "metadata": {},
     "output_type": "execute_result"
    }
   ],
   "source": [
    "df.shape"
   ]
  },
  {
   "cell_type": "markdown",
   "metadata": {},
   "source": [
    "# Get Only Gene-Tissue Data"
   ]
  },
  {
   "cell_type": "code",
   "execution_count": 10,
   "metadata": {
    "collapsed": true
   },
   "outputs": [],
   "source": [
    "df = df[df['Value'] != 0]"
   ]
  },
  {
   "cell_type": "code",
   "execution_count": 11,
   "metadata": {
    "collapsed": true
   },
   "outputs": [],
   "source": [
    "df = df[['GeneSym', 'Compartment']]"
   ]
  },
  {
   "cell_type": "code",
   "execution_count": 12,
   "metadata": {
    "collapsed": true
   },
   "outputs": [],
   "source": [
    "df.drop_duplicates(inplace=True)"
   ]
  },
  {
   "cell_type": "code",
   "execution_count": 13,
   "metadata": {
    "collapsed": true
   },
   "outputs": [],
   "source": [
    "df.set_index('GeneSym', inplace=True)"
   ]
  },
  {
   "cell_type": "code",
   "execution_count": 14,
   "metadata": {},
   "outputs": [
    {
     "data": {
      "text/html": [
       "<div>\n",
       "<table border=\"1\" class=\"dataframe\">\n",
       "  <thead>\n",
       "    <tr style=\"text-align: right;\">\n",
       "      <th></th>\n",
       "      <th>Compartment</th>\n",
       "    </tr>\n",
       "    <tr>\n",
       "      <th>GeneSym</th>\n",
       "      <th></th>\n",
       "    </tr>\n",
       "  </thead>\n",
       "  <tbody>\n",
       "    <tr>\n",
       "      <th>ESRRA</th>\n",
       "      <td>cellular_component</td>\n",
       "    </tr>\n",
       "    <tr>\n",
       "      <th>ESRRA</th>\n",
       "      <td>Intracellular</td>\n",
       "    </tr>\n",
       "    <tr>\n",
       "      <th>ESRRA</th>\n",
       "      <td>Cell</td>\n",
       "    </tr>\n",
       "    <tr>\n",
       "      <th>ESRRA</th>\n",
       "      <td>Nucleus</td>\n",
       "    </tr>\n",
       "    <tr>\n",
       "      <th>ESRRA</th>\n",
       "      <td>Nucleolus</td>\n",
       "    </tr>\n",
       "  </tbody>\n",
       "</table>\n",
       "</div>"
      ],
      "text/plain": [
       "                Compartment\n",
       "GeneSym                    \n",
       "ESRRA    cellular_component\n",
       "ESRRA         Intracellular\n",
       "ESRRA                  Cell\n",
       "ESRRA               Nucleus\n",
       "ESRRA             Nucleolus"
      ]
     },
     "execution_count": 14,
     "metadata": {},
     "output_type": "execute_result"
    }
   ],
   "source": [
    "df.head()"
   ]
  },
  {
   "cell_type": "code",
   "execution_count": 15,
   "metadata": {},
   "outputs": [
    {
     "data": {
      "text/plain": [
       "(847583, 1)"
      ]
     },
     "execution_count": 15,
     "metadata": {},
     "output_type": "execute_result"
    }
   ],
   "source": [
    "df.shape"
   ]
  },
  {
   "cell_type": "markdown",
   "metadata": {},
   "source": [
    "# Map Gene Symbols To Up-to-date Approved Gene Symbols"
   ]
  },
  {
   "cell_type": "code",
   "execution_count": 16,
   "metadata": {},
   "outputs": [
    {
     "name": "stdout",
     "output_type": "stream",
     "text": [
      "Progeres: 100%  847583 Out of 847583   \r"
     ]
    }
   ],
   "source": [
    "uf.mapgenesymbols(df)"
   ]
  },
  {
   "cell_type": "code",
   "execution_count": 17,
   "metadata": {},
   "outputs": [
    {
     "data": {
      "text/plain": [
       "(831825, 1)"
      ]
     },
     "execution_count": 17,
     "metadata": {},
     "output_type": "execute_result"
    }
   ],
   "source": [
    "df.shape"
   ]
  },
  {
   "cell_type": "markdown",
   "metadata": {},
   "source": [
    "# Create Binary Matrix"
   ]
  },
  {
   "cell_type": "code",
   "execution_count": 18,
   "metadata": {
    "collapsed": true
   },
   "outputs": [],
   "source": [
    "df.reset_index(inplace=True)"
   ]
  },
  {
   "cell_type": "code",
   "execution_count": 19,
   "metadata": {},
   "outputs": [
    {
     "name": "stdout",
     "output_type": "stream",
     "text": [
      "Progeres: 100%  18535 Out of 18535   \r"
     ]
    }
   ],
   "source": [
    "binary_matrix = uf.createBinaryMatix(df)"
   ]
  },
  {
   "cell_type": "code",
   "execution_count": 20,
   "metadata": {},
   "outputs": [
    {
     "data": {
      "text/html": [
       "<div>\n",
       "<table border=\"1\" class=\"dataframe\">\n",
       "  <thead>\n",
       "    <tr style=\"text-align: right;\">\n",
       "      <th></th>\n",
       "      <th>Presynaptic active zone cytoplasmic component</th>\n",
       "      <th>Cytoplasmic exosome (RNase complex)</th>\n",
       "      <th>ERBB4-ERBB3 complex</th>\n",
       "      <th>Fc receptor complex</th>\n",
       "      <th>CENP-A recruiting complex</th>\n",
       "      <th>Signal recognition particle</th>\n",
       "      <th>Integrin alphav-beta3 complex</th>\n",
       "      <th>Mitochondrial part</th>\n",
       "      <th>Pexophagosome</th>\n",
       "      <th>ferredoxin:thioredoxin reductase complex</th>\n",
       "      <th>...</th>\n",
       "      <th>Mucocyst</th>\n",
       "      <th>Peroxisomal membrane</th>\n",
       "      <th>Axoneme</th>\n",
       "      <th>Transport vesicle</th>\n",
       "      <th>Intramolecular phosphotransferase complex</th>\n",
       "      <th>interleukin-3 receptor complex</th>\n",
       "      <th>Membrane attack complex</th>\n",
       "      <th>GO:0033644</th>\n",
       "      <th>Proteasome core complex</th>\n",
       "      <th>Synaptic vesicle, recycling pool</th>\n",
       "    </tr>\n",
       "  </thead>\n",
       "  <tbody>\n",
       "    <tr>\n",
       "      <th>LRCH3</th>\n",
       "      <td>0</td>\n",
       "      <td>0</td>\n",
       "      <td>0</td>\n",
       "      <td>0</td>\n",
       "      <td>0</td>\n",
       "      <td>0</td>\n",
       "      <td>0</td>\n",
       "      <td>0</td>\n",
       "      <td>0</td>\n",
       "      <td>0</td>\n",
       "      <td>...</td>\n",
       "      <td>0</td>\n",
       "      <td>0</td>\n",
       "      <td>0</td>\n",
       "      <td>0</td>\n",
       "      <td>0</td>\n",
       "      <td>0</td>\n",
       "      <td>0</td>\n",
       "      <td>0</td>\n",
       "      <td>0</td>\n",
       "      <td>0</td>\n",
       "    </tr>\n",
       "    <tr>\n",
       "      <th>KLHDC8A</th>\n",
       "      <td>0</td>\n",
       "      <td>0</td>\n",
       "      <td>0</td>\n",
       "      <td>0</td>\n",
       "      <td>0</td>\n",
       "      <td>0</td>\n",
       "      <td>0</td>\n",
       "      <td>0</td>\n",
       "      <td>0</td>\n",
       "      <td>0</td>\n",
       "      <td>...</td>\n",
       "      <td>0</td>\n",
       "      <td>0</td>\n",
       "      <td>0</td>\n",
       "      <td>0</td>\n",
       "      <td>0</td>\n",
       "      <td>0</td>\n",
       "      <td>0</td>\n",
       "      <td>0</td>\n",
       "      <td>0</td>\n",
       "      <td>0</td>\n",
       "    </tr>\n",
       "    <tr>\n",
       "      <th>SLC5A8</th>\n",
       "      <td>0</td>\n",
       "      <td>0</td>\n",
       "      <td>0</td>\n",
       "      <td>0</td>\n",
       "      <td>0</td>\n",
       "      <td>0</td>\n",
       "      <td>0</td>\n",
       "      <td>0</td>\n",
       "      <td>0</td>\n",
       "      <td>0</td>\n",
       "      <td>...</td>\n",
       "      <td>0</td>\n",
       "      <td>0</td>\n",
       "      <td>0</td>\n",
       "      <td>0</td>\n",
       "      <td>0</td>\n",
       "      <td>0</td>\n",
       "      <td>0</td>\n",
       "      <td>0</td>\n",
       "      <td>0</td>\n",
       "      <td>0</td>\n",
       "    </tr>\n",
       "    <tr>\n",
       "      <th>MAATS1</th>\n",
       "      <td>0</td>\n",
       "      <td>0</td>\n",
       "      <td>0</td>\n",
       "      <td>0</td>\n",
       "      <td>0</td>\n",
       "      <td>0</td>\n",
       "      <td>0</td>\n",
       "      <td>0</td>\n",
       "      <td>0</td>\n",
       "      <td>0</td>\n",
       "      <td>...</td>\n",
       "      <td>0</td>\n",
       "      <td>0</td>\n",
       "      <td>0</td>\n",
       "      <td>0</td>\n",
       "      <td>0</td>\n",
       "      <td>0</td>\n",
       "      <td>0</td>\n",
       "      <td>0</td>\n",
       "      <td>0</td>\n",
       "      <td>0</td>\n",
       "    </tr>\n",
       "    <tr>\n",
       "      <th>ETV4</th>\n",
       "      <td>0</td>\n",
       "      <td>0</td>\n",
       "      <td>0</td>\n",
       "      <td>0</td>\n",
       "      <td>0</td>\n",
       "      <td>0</td>\n",
       "      <td>0</td>\n",
       "      <td>0</td>\n",
       "      <td>0</td>\n",
       "      <td>0</td>\n",
       "      <td>...</td>\n",
       "      <td>0</td>\n",
       "      <td>0</td>\n",
       "      <td>0</td>\n",
       "      <td>0</td>\n",
       "      <td>0</td>\n",
       "      <td>0</td>\n",
       "      <td>0</td>\n",
       "      <td>0</td>\n",
       "      <td>0</td>\n",
       "      <td>0</td>\n",
       "    </tr>\n",
       "  </tbody>\n",
       "</table>\n",
       "<p>5 rows × 2826 columns</p>\n",
       "</div>"
      ],
      "text/plain": [
       "         Presynaptic active zone cytoplasmic component  \\\n",
       "LRCH3                                                0   \n",
       "KLHDC8A                                              0   \n",
       "SLC5A8                                               0   \n",
       "MAATS1                                               0   \n",
       "ETV4                                                 0   \n",
       "\n",
       "         Cytoplasmic exosome (RNase complex)  ERBB4-ERBB3 complex  \\\n",
       "LRCH3                                      0                    0   \n",
       "KLHDC8A                                    0                    0   \n",
       "SLC5A8                                     0                    0   \n",
       "MAATS1                                     0                    0   \n",
       "ETV4                                       0                    0   \n",
       "\n",
       "         Fc receptor complex  CENP-A recruiting complex  \\\n",
       "LRCH3                      0                          0   \n",
       "KLHDC8A                    0                          0   \n",
       "SLC5A8                     0                          0   \n",
       "MAATS1                     0                          0   \n",
       "ETV4                       0                          0   \n",
       "\n",
       "         Signal recognition particle  Integrin alphav-beta3 complex  \\\n",
       "LRCH3                              0                              0   \n",
       "KLHDC8A                            0                              0   \n",
       "SLC5A8                             0                              0   \n",
       "MAATS1                             0                              0   \n",
       "ETV4                               0                              0   \n",
       "\n",
       "         Mitochondrial part  Pexophagosome  \\\n",
       "LRCH3                     0              0   \n",
       "KLHDC8A                   0              0   \n",
       "SLC5A8                    0              0   \n",
       "MAATS1                    0              0   \n",
       "ETV4                      0              0   \n",
       "\n",
       "         ferredoxin:thioredoxin reductase complex  \\\n",
       "LRCH3                                           0   \n",
       "KLHDC8A                                         0   \n",
       "SLC5A8                                          0   \n",
       "MAATS1                                          0   \n",
       "ETV4                                            0   \n",
       "\n",
       "                       ...                 Mucocyst  Peroxisomal membrane  \\\n",
       "LRCH3                  ...                        0                     0   \n",
       "KLHDC8A                ...                        0                     0   \n",
       "SLC5A8                 ...                        0                     0   \n",
       "MAATS1                 ...                        0                     0   \n",
       "ETV4                   ...                        0                     0   \n",
       "\n",
       "         Axoneme  Transport vesicle  \\\n",
       "LRCH3          0                  0   \n",
       "KLHDC8A        0                  0   \n",
       "SLC5A8         0                  0   \n",
       "MAATS1         0                  0   \n",
       "ETV4           0                  0   \n",
       "\n",
       "         Intramolecular phosphotransferase complex  \\\n",
       "LRCH3                                            0   \n",
       "KLHDC8A                                          0   \n",
       "SLC5A8                                           0   \n",
       "MAATS1                                           0   \n",
       "ETV4                                             0   \n",
       "\n",
       "         interleukin-3 receptor complex  Membrane attack complex  GO:0033644  \\\n",
       "LRCH3                                 0                        0           0   \n",
       "KLHDC8A                               0                        0           0   \n",
       "SLC5A8                                0                        0           0   \n",
       "MAATS1                                0                        0           0   \n",
       "ETV4                                  0                        0           0   \n",
       "\n",
       "         Proteasome core complex  Synaptic vesicle, recycling pool  \n",
       "LRCH3                          0                                 0  \n",
       "KLHDC8A                        0                                 0  \n",
       "SLC5A8                         0                                 0  \n",
       "MAATS1                         0                                 0  \n",
       "ETV4                           0                                 0  \n",
       "\n",
       "[5 rows x 2826 columns]"
      ]
     },
     "execution_count": 20,
     "metadata": {},
     "output_type": "execute_result"
    }
   ],
   "source": [
    "binary_matrix.head()"
   ]
  },
  {
   "cell_type": "code",
   "execution_count": 21,
   "metadata": {},
   "outputs": [
    {
     "data": {
      "text/plain": [
       "(18535, 2826)"
      ]
     },
     "execution_count": 21,
     "metadata": {},
     "output_type": "execute_result"
    }
   ],
   "source": [
    "binary_matrix.shape"
   ]
  },
  {
   "cell_type": "markdown",
   "metadata": {},
   "source": [
    "# Save Binary Matrix"
   ]
  },
  {
   "cell_type": "code",
   "execution_count": 22,
   "metadata": {
    "collapsed": true
   },
   "outputs": [],
   "source": [
    "filename = '~/./Documents/Harmonizome/Jensen/Compartments/Output/jensen_compartments_binary_matrix_%s.tsv.zip'% str(datetime.date.today())[0:7].replace('-', '_')\n",
    "binary_matrix.to_csv(filename, sep='\\t', compression='gzip')"
   ]
  },
  {
   "cell_type": "markdown",
   "metadata": {},
   "source": [
    "# Create Gene Set Library"
   ]
  },
  {
   "cell_type": "code",
   "execution_count": 23,
   "metadata": {
    "collapsed": true
   },
   "outputs": [],
   "source": [
    "path = '/Users/moshesilverstein/Documents/Harmonizome/Jensen/Compartments/Output/'"
   ]
  },
  {
   "cell_type": "code",
   "execution_count": 24,
   "metadata": {
    "collapsed": true
   },
   "outputs": [],
   "source": [
    "name = 'jensen_compartments_gene_set'"
   ]
  },
  {
   "cell_type": "code",
   "execution_count": 25,
   "metadata": {},
   "outputs": [
    {
     "name": "stdout",
     "output_type": "stream",
     "text": [
      "Progeres: 100%  2826 Out of 2826   \r"
     ]
    }
   ],
   "source": [
    "uf.createUpGeneSetLib(binary_matrix, path, name)"
   ]
  },
  {
   "cell_type": "markdown",
   "metadata": {},
   "source": [
    "# Create Attribute Library"
   ]
  },
  {
   "cell_type": "code",
   "execution_count": 26,
   "metadata": {
    "collapsed": true
   },
   "outputs": [],
   "source": [
    "path = '/Users/moshesilverstein/Documents/Harmonizome/Jensen/Compartments/Output/'"
   ]
  },
  {
   "cell_type": "code",
   "execution_count": 27,
   "metadata": {
    "collapsed": true
   },
   "outputs": [],
   "source": [
    "name = 'jensen_compartments_attribute_set'"
   ]
  },
  {
   "cell_type": "code",
   "execution_count": 28,
   "metadata": {},
   "outputs": [
    {
     "name": "stdout",
     "output_type": "stream",
     "text": [
      "Progeres: 100%  18535 Out of 18535   \r"
     ]
    }
   ],
   "source": [
    "uf.createUpAttributeSetLib(binary_matrix, path, name)"
   ]
  },
  {
   "cell_type": "markdown",
   "metadata": {},
   "source": [
    "# Create Gene Similarity Matrix"
   ]
  },
  {
   "cell_type": "code",
   "execution_count": 29,
   "metadata": {
    "collapsed": true
   },
   "outputs": [],
   "source": [
    "gene_similarity_matix = uf.createSimilarityMatrix(binary_matrix, 'jaccard')"
   ]
  },
  {
   "cell_type": "code",
   "execution_count": 30,
   "metadata": {},
   "outputs": [
    {
     "data": {
      "text/html": [
       "<div>\n",
       "<table border=\"1\" class=\"dataframe\">\n",
       "  <thead>\n",
       "    <tr style=\"text-align: right;\">\n",
       "      <th></th>\n",
       "      <th>LRCH3</th>\n",
       "      <th>KLHDC8A</th>\n",
       "      <th>SLC5A8</th>\n",
       "      <th>MAATS1</th>\n",
       "      <th>ETV4</th>\n",
       "      <th>ZMYM2</th>\n",
       "      <th>ITGB1BP2</th>\n",
       "      <th>GRAMD1B</th>\n",
       "      <th>PSMG1</th>\n",
       "      <th>SYNE2</th>\n",
       "      <th>...</th>\n",
       "      <th>TRIM67</th>\n",
       "      <th>MYLK4</th>\n",
       "      <th>TM9SF2</th>\n",
       "      <th>RPTN</th>\n",
       "      <th>ADCY2</th>\n",
       "      <th>NFAT5</th>\n",
       "      <th>ABHD14B</th>\n",
       "      <th>GJB3</th>\n",
       "      <th>ETV3L</th>\n",
       "      <th>B3GNT2</th>\n",
       "    </tr>\n",
       "  </thead>\n",
       "  <tbody>\n",
       "    <tr>\n",
       "      <th>LRCH3</th>\n",
       "      <td>1.000000</td>\n",
       "      <td>0.312500</td>\n",
       "      <td>0.103448</td>\n",
       "      <td>0.500000</td>\n",
       "      <td>0.129032</td>\n",
       "      <td>0.089888</td>\n",
       "      <td>0.275862</td>\n",
       "      <td>0.147059</td>\n",
       "      <td>0.233333</td>\n",
       "      <td>0.065574</td>\n",
       "      <td>...</td>\n",
       "      <td>0.179487</td>\n",
       "      <td>0.095238</td>\n",
       "      <td>0.186047</td>\n",
       "      <td>0.173913</td>\n",
       "      <td>0.166667</td>\n",
       "      <td>0.163265</td>\n",
       "      <td>0.300000</td>\n",
       "      <td>0.122807</td>\n",
       "      <td>0.277778</td>\n",
       "      <td>0.135593</td>\n",
       "    </tr>\n",
       "    <tr>\n",
       "      <th>KLHDC8A</th>\n",
       "      <td>0.312500</td>\n",
       "      <td>1.000000</td>\n",
       "      <td>0.135593</td>\n",
       "      <td>0.263158</td>\n",
       "      <td>0.106061</td>\n",
       "      <td>0.075269</td>\n",
       "      <td>0.142857</td>\n",
       "      <td>0.135135</td>\n",
       "      <td>0.142857</td>\n",
       "      <td>0.055556</td>\n",
       "      <td>...</td>\n",
       "      <td>0.166667</td>\n",
       "      <td>0.040000</td>\n",
       "      <td>0.102041</td>\n",
       "      <td>0.111111</td>\n",
       "      <td>0.125000</td>\n",
       "      <td>0.176471</td>\n",
       "      <td>0.135135</td>\n",
       "      <td>0.116667</td>\n",
       "      <td>0.238095</td>\n",
       "      <td>0.093750</td>\n",
       "    </tr>\n",
       "    <tr>\n",
       "      <th>SLC5A8</th>\n",
       "      <td>0.103448</td>\n",
       "      <td>0.135593</td>\n",
       "      <td>1.000000</td>\n",
       "      <td>0.155172</td>\n",
       "      <td>0.260870</td>\n",
       "      <td>0.222222</td>\n",
       "      <td>0.136986</td>\n",
       "      <td>0.328125</td>\n",
       "      <td>0.276923</td>\n",
       "      <td>0.257143</td>\n",
       "      <td>...</td>\n",
       "      <td>0.194805</td>\n",
       "      <td>0.169492</td>\n",
       "      <td>0.385714</td>\n",
       "      <td>0.089552</td>\n",
       "      <td>0.189189</td>\n",
       "      <td>0.355263</td>\n",
       "      <td>0.393443</td>\n",
       "      <td>0.264368</td>\n",
       "      <td>0.169492</td>\n",
       "      <td>0.269663</td>\n",
       "    </tr>\n",
       "    <tr>\n",
       "      <th>MAATS1</th>\n",
       "      <td>0.500000</td>\n",
       "      <td>0.263158</td>\n",
       "      <td>0.155172</td>\n",
       "      <td>1.000000</td>\n",
       "      <td>0.177419</td>\n",
       "      <td>0.136364</td>\n",
       "      <td>0.290323</td>\n",
       "      <td>0.272727</td>\n",
       "      <td>0.379310</td>\n",
       "      <td>0.099174</td>\n",
       "      <td>...</td>\n",
       "      <td>0.289474</td>\n",
       "      <td>0.130435</td>\n",
       "      <td>0.255814</td>\n",
       "      <td>0.111111</td>\n",
       "      <td>0.153846</td>\n",
       "      <td>0.224490</td>\n",
       "      <td>0.354839</td>\n",
       "      <td>0.218182</td>\n",
       "      <td>0.529412</td>\n",
       "      <td>0.186441</td>\n",
       "    </tr>\n",
       "    <tr>\n",
       "      <th>ETV4</th>\n",
       "      <td>0.129032</td>\n",
       "      <td>0.106061</td>\n",
       "      <td>0.260870</td>\n",
       "      <td>0.177419</td>\n",
       "      <td>1.000000</td>\n",
       "      <td>0.241667</td>\n",
       "      <td>0.171053</td>\n",
       "      <td>0.378788</td>\n",
       "      <td>0.289855</td>\n",
       "      <td>0.246575</td>\n",
       "      <td>...</td>\n",
       "      <td>0.272727</td>\n",
       "      <td>0.071429</td>\n",
       "      <td>0.197674</td>\n",
       "      <td>0.144928</td>\n",
       "      <td>0.132530</td>\n",
       "      <td>0.415584</td>\n",
       "      <td>0.358209</td>\n",
       "      <td>0.274725</td>\n",
       "      <td>0.171875</td>\n",
       "      <td>0.214286</td>\n",
       "    </tr>\n",
       "  </tbody>\n",
       "</table>\n",
       "<p>5 rows × 18535 columns</p>\n",
       "</div>"
      ],
      "text/plain": [
       "            LRCH3   KLHDC8A    SLC5A8    MAATS1      ETV4     ZMYM2  ITGB1BP2  \\\n",
       "LRCH3    1.000000  0.312500  0.103448  0.500000  0.129032  0.089888  0.275862   \n",
       "KLHDC8A  0.312500  1.000000  0.135593  0.263158  0.106061  0.075269  0.142857   \n",
       "SLC5A8   0.103448  0.135593  1.000000  0.155172  0.260870  0.222222  0.136986   \n",
       "MAATS1   0.500000  0.263158  0.155172  1.000000  0.177419  0.136364  0.290323   \n",
       "ETV4     0.129032  0.106061  0.260870  0.177419  1.000000  0.241667  0.171053   \n",
       "\n",
       "          GRAMD1B     PSMG1     SYNE2    ...       TRIM67     MYLK4    TM9SF2  \\\n",
       "LRCH3    0.147059  0.233333  0.065574    ...     0.179487  0.095238  0.186047   \n",
       "KLHDC8A  0.135135  0.142857  0.055556    ...     0.166667  0.040000  0.102041   \n",
       "SLC5A8   0.328125  0.276923  0.257143    ...     0.194805  0.169492  0.385714   \n",
       "MAATS1   0.272727  0.379310  0.099174    ...     0.289474  0.130435  0.255814   \n",
       "ETV4     0.378788  0.289855  0.246575    ...     0.272727  0.071429  0.197674   \n",
       "\n",
       "             RPTN     ADCY2     NFAT5   ABHD14B      GJB3     ETV3L    B3GNT2  \n",
       "LRCH3    0.173913  0.166667  0.163265  0.300000  0.122807  0.277778  0.135593  \n",
       "KLHDC8A  0.111111  0.125000  0.176471  0.135135  0.116667  0.238095  0.093750  \n",
       "SLC5A8   0.089552  0.189189  0.355263  0.393443  0.264368  0.169492  0.269663  \n",
       "MAATS1   0.111111  0.153846  0.224490  0.354839  0.218182  0.529412  0.186441  \n",
       "ETV4     0.144928  0.132530  0.415584  0.358209  0.274725  0.171875  0.214286  \n",
       "\n",
       "[5 rows x 18535 columns]"
      ]
     },
     "execution_count": 30,
     "metadata": {},
     "output_type": "execute_result"
    }
   ],
   "source": [
    "gene_similarity_matix.head()"
   ]
  },
  {
   "cell_type": "markdown",
   "metadata": {},
   "source": [
    "## Save Gene Similarity Matrix "
   ]
  },
  {
   "cell_type": "code",
   "execution_count": 31,
   "metadata": {
    "collapsed": true
   },
   "outputs": [],
   "source": [
    "filename = '~/./Documents/Harmonizome/Jensen/Compartments/Output/jensen_compartments_gene_similarity_matix_%s.tsv.zip'% str(datetime.date.today())[0:7].replace('-', '_')\n",
    "gene_similarity_matix.to_csv(filename, sep='\\t', compression='gzip')"
   ]
  },
  {
   "cell_type": "markdown",
   "metadata": {},
   "source": [
    "# Create Attribute Similarity matrix"
   ]
  },
  {
   "cell_type": "code",
   "execution_count": 32,
   "metadata": {
    "collapsed": true
   },
   "outputs": [],
   "source": [
    "attribute_similarity_matix = uf.createSimilarityMatrix(binary_matrix.T, 'jaccard')"
   ]
  },
  {
   "cell_type": "code",
   "execution_count": 33,
   "metadata": {},
   "outputs": [
    {
     "data": {
      "text/html": [
       "<div>\n",
       "<table border=\"1\" class=\"dataframe\">\n",
       "  <thead>\n",
       "    <tr style=\"text-align: right;\">\n",
       "      <th></th>\n",
       "      <th>Presynaptic active zone cytoplasmic component</th>\n",
       "      <th>Cytoplasmic exosome (RNase complex)</th>\n",
       "      <th>ERBB4-ERBB3 complex</th>\n",
       "      <th>Fc receptor complex</th>\n",
       "      <th>CENP-A recruiting complex</th>\n",
       "      <th>Signal recognition particle</th>\n",
       "      <th>Integrin alphav-beta3 complex</th>\n",
       "      <th>Mitochondrial part</th>\n",
       "      <th>Pexophagosome</th>\n",
       "      <th>ferredoxin:thioredoxin reductase complex</th>\n",
       "      <th>...</th>\n",
       "      <th>Mucocyst</th>\n",
       "      <th>Peroxisomal membrane</th>\n",
       "      <th>Axoneme</th>\n",
       "      <th>Transport vesicle</th>\n",
       "      <th>Intramolecular phosphotransferase complex</th>\n",
       "      <th>interleukin-3 receptor complex</th>\n",
       "      <th>Membrane attack complex</th>\n",
       "      <th>GO:0033644</th>\n",
       "      <th>Proteasome core complex</th>\n",
       "      <th>Synaptic vesicle, recycling pool</th>\n",
       "    </tr>\n",
       "  </thead>\n",
       "  <tbody>\n",
       "    <tr>\n",
       "      <th>Presynaptic active zone cytoplasmic component</th>\n",
       "      <td>1.000000</td>\n",
       "      <td>0.005348</td>\n",
       "      <td>0.005747</td>\n",
       "      <td>0.005698</td>\n",
       "      <td>0.0</td>\n",
       "      <td>0.011142</td>\n",
       "      <td>0.000000</td>\n",
       "      <td>0.015401</td>\n",
       "      <td>0.0</td>\n",
       "      <td>0.0</td>\n",
       "      <td>...</td>\n",
       "      <td>0.0</td>\n",
       "      <td>0.0</td>\n",
       "      <td>0.008711</td>\n",
       "      <td>0.046171</td>\n",
       "      <td>0.000000</td>\n",
       "      <td>0.000000</td>\n",
       "      <td>0.000000</td>\n",
       "      <td>0.0</td>\n",
       "      <td>0.000000</td>\n",
       "      <td>0.005814</td>\n",
       "    </tr>\n",
       "    <tr>\n",
       "      <th>Cytoplasmic exosome (RNase complex)</th>\n",
       "      <td>0.005348</td>\n",
       "      <td>1.000000</td>\n",
       "      <td>0.000000</td>\n",
       "      <td>0.000000</td>\n",
       "      <td>0.0</td>\n",
       "      <td>0.004673</td>\n",
       "      <td>0.000000</td>\n",
       "      <td>0.002273</td>\n",
       "      <td>0.0</td>\n",
       "      <td>0.0</td>\n",
       "      <td>...</td>\n",
       "      <td>0.0</td>\n",
       "      <td>0.0</td>\n",
       "      <td>0.000000</td>\n",
       "      <td>0.000000</td>\n",
       "      <td>0.000000</td>\n",
       "      <td>0.000000</td>\n",
       "      <td>0.000000</td>\n",
       "      <td>0.0</td>\n",
       "      <td>0.000000</td>\n",
       "      <td>0.000000</td>\n",
       "    </tr>\n",
       "    <tr>\n",
       "      <th>ERBB4-ERBB3 complex</th>\n",
       "      <td>0.005747</td>\n",
       "      <td>0.000000</td>\n",
       "      <td>1.000000</td>\n",
       "      <td>0.005236</td>\n",
       "      <td>0.0</td>\n",
       "      <td>0.000000</td>\n",
       "      <td>0.000000</td>\n",
       "      <td>0.002864</td>\n",
       "      <td>0.0</td>\n",
       "      <td>0.0</td>\n",
       "      <td>...</td>\n",
       "      <td>0.0</td>\n",
       "      <td>0.0</td>\n",
       "      <td>0.000000</td>\n",
       "      <td>0.000000</td>\n",
       "      <td>0.000000</td>\n",
       "      <td>0.000000</td>\n",
       "      <td>0.000000</td>\n",
       "      <td>0.0</td>\n",
       "      <td>0.000000</td>\n",
       "      <td>0.000000</td>\n",
       "    </tr>\n",
       "    <tr>\n",
       "      <th>Fc receptor complex</th>\n",
       "      <td>0.005698</td>\n",
       "      <td>0.000000</td>\n",
       "      <td>0.005236</td>\n",
       "      <td>1.000000</td>\n",
       "      <td>0.0</td>\n",
       "      <td>0.021505</td>\n",
       "      <td>0.031847</td>\n",
       "      <td>0.016869</td>\n",
       "      <td>0.0</td>\n",
       "      <td>0.0</td>\n",
       "      <td>...</td>\n",
       "      <td>0.0</td>\n",
       "      <td>0.0</td>\n",
       "      <td>0.001681</td>\n",
       "      <td>0.015021</td>\n",
       "      <td>0.004065</td>\n",
       "      <td>0.064516</td>\n",
       "      <td>0.094395</td>\n",
       "      <td>0.0</td>\n",
       "      <td>0.004988</td>\n",
       "      <td>0.000000</td>\n",
       "    </tr>\n",
       "    <tr>\n",
       "      <th>CENP-A recruiting complex</th>\n",
       "      <td>0.000000</td>\n",
       "      <td>0.000000</td>\n",
       "      <td>0.000000</td>\n",
       "      <td>0.000000</td>\n",
       "      <td>1.0</td>\n",
       "      <td>0.000000</td>\n",
       "      <td>0.000000</td>\n",
       "      <td>0.000567</td>\n",
       "      <td>0.0</td>\n",
       "      <td>0.0</td>\n",
       "      <td>...</td>\n",
       "      <td>0.0</td>\n",
       "      <td>0.0</td>\n",
       "      <td>0.000000</td>\n",
       "      <td>0.000000</td>\n",
       "      <td>0.000000</td>\n",
       "      <td>0.000000</td>\n",
       "      <td>0.004854</td>\n",
       "      <td>0.0</td>\n",
       "      <td>0.000000</td>\n",
       "      <td>0.000000</td>\n",
       "    </tr>\n",
       "  </tbody>\n",
       "</table>\n",
       "<p>5 rows × 2826 columns</p>\n",
       "</div>"
      ],
      "text/plain": [
       "                                               Presynaptic active zone cytoplasmic component  \\\n",
       "Presynaptic active zone cytoplasmic component                                       1.000000   \n",
       "Cytoplasmic exosome (RNase complex)                                                 0.005348   \n",
       "ERBB4-ERBB3 complex                                                                 0.005747   \n",
       "Fc receptor complex                                                                 0.005698   \n",
       "CENP-A recruiting complex                                                           0.000000   \n",
       "\n",
       "                                               Cytoplasmic exosome (RNase complex)  \\\n",
       "Presynaptic active zone cytoplasmic component                             0.005348   \n",
       "Cytoplasmic exosome (RNase complex)                                       1.000000   \n",
       "ERBB4-ERBB3 complex                                                       0.000000   \n",
       "Fc receptor complex                                                       0.000000   \n",
       "CENP-A recruiting complex                                                 0.000000   \n",
       "\n",
       "                                               ERBB4-ERBB3 complex  \\\n",
       "Presynaptic active zone cytoplasmic component             0.005747   \n",
       "Cytoplasmic exosome (RNase complex)                       0.000000   \n",
       "ERBB4-ERBB3 complex                                       1.000000   \n",
       "Fc receptor complex                                       0.005236   \n",
       "CENP-A recruiting complex                                 0.000000   \n",
       "\n",
       "                                               Fc receptor complex  \\\n",
       "Presynaptic active zone cytoplasmic component             0.005698   \n",
       "Cytoplasmic exosome (RNase complex)                       0.000000   \n",
       "ERBB4-ERBB3 complex                                       0.005236   \n",
       "Fc receptor complex                                       1.000000   \n",
       "CENP-A recruiting complex                                 0.000000   \n",
       "\n",
       "                                               CENP-A recruiting complex  \\\n",
       "Presynaptic active zone cytoplasmic component                        0.0   \n",
       "Cytoplasmic exosome (RNase complex)                                  0.0   \n",
       "ERBB4-ERBB3 complex                                                  0.0   \n",
       "Fc receptor complex                                                  0.0   \n",
       "CENP-A recruiting complex                                            1.0   \n",
       "\n",
       "                                               Signal recognition particle  \\\n",
       "Presynaptic active zone cytoplasmic component                     0.011142   \n",
       "Cytoplasmic exosome (RNase complex)                               0.004673   \n",
       "ERBB4-ERBB3 complex                                               0.000000   \n",
       "Fc receptor complex                                               0.021505   \n",
       "CENP-A recruiting complex                                         0.000000   \n",
       "\n",
       "                                               Integrin alphav-beta3 complex  \\\n",
       "Presynaptic active zone cytoplasmic component                       0.000000   \n",
       "Cytoplasmic exosome (RNase complex)                                 0.000000   \n",
       "ERBB4-ERBB3 complex                                                 0.000000   \n",
       "Fc receptor complex                                                 0.031847   \n",
       "CENP-A recruiting complex                                           0.000000   \n",
       "\n",
       "                                               Mitochondrial part  \\\n",
       "Presynaptic active zone cytoplasmic component            0.015401   \n",
       "Cytoplasmic exosome (RNase complex)                      0.002273   \n",
       "ERBB4-ERBB3 complex                                      0.002864   \n",
       "Fc receptor complex                                      0.016869   \n",
       "CENP-A recruiting complex                                0.000567   \n",
       "\n",
       "                                               Pexophagosome  \\\n",
       "Presynaptic active zone cytoplasmic component            0.0   \n",
       "Cytoplasmic exosome (RNase complex)                      0.0   \n",
       "ERBB4-ERBB3 complex                                      0.0   \n",
       "Fc receptor complex                                      0.0   \n",
       "CENP-A recruiting complex                                0.0   \n",
       "\n",
       "                                               ferredoxin:thioredoxin reductase complex  \\\n",
       "Presynaptic active zone cytoplasmic component                                       0.0   \n",
       "Cytoplasmic exosome (RNase complex)                                                 0.0   \n",
       "ERBB4-ERBB3 complex                                                                 0.0   \n",
       "Fc receptor complex                                                                 0.0   \n",
       "CENP-A recruiting complex                                                           0.0   \n",
       "\n",
       "                                                             ...                 \\\n",
       "Presynaptic active zone cytoplasmic component                ...                  \n",
       "Cytoplasmic exosome (RNase complex)                          ...                  \n",
       "ERBB4-ERBB3 complex                                          ...                  \n",
       "Fc receptor complex                                          ...                  \n",
       "CENP-A recruiting complex                                    ...                  \n",
       "\n",
       "                                               Mucocyst  Peroxisomal membrane  \\\n",
       "Presynaptic active zone cytoplasmic component       0.0                   0.0   \n",
       "Cytoplasmic exosome (RNase complex)                 0.0                   0.0   \n",
       "ERBB4-ERBB3 complex                                 0.0                   0.0   \n",
       "Fc receptor complex                                 0.0                   0.0   \n",
       "CENP-A recruiting complex                           0.0                   0.0   \n",
       "\n",
       "                                                Axoneme  Transport vesicle  \\\n",
       "Presynaptic active zone cytoplasmic component  0.008711           0.046171   \n",
       "Cytoplasmic exosome (RNase complex)            0.000000           0.000000   \n",
       "ERBB4-ERBB3 complex                            0.000000           0.000000   \n",
       "Fc receptor complex                            0.001681           0.015021   \n",
       "CENP-A recruiting complex                      0.000000           0.000000   \n",
       "\n",
       "                                               Intramolecular phosphotransferase complex  \\\n",
       "Presynaptic active zone cytoplasmic component                                   0.000000   \n",
       "Cytoplasmic exosome (RNase complex)                                             0.000000   \n",
       "ERBB4-ERBB3 complex                                                             0.000000   \n",
       "Fc receptor complex                                                             0.004065   \n",
       "CENP-A recruiting complex                                                       0.000000   \n",
       "\n",
       "                                               interleukin-3 receptor complex  \\\n",
       "Presynaptic active zone cytoplasmic component                        0.000000   \n",
       "Cytoplasmic exosome (RNase complex)                                  0.000000   \n",
       "ERBB4-ERBB3 complex                                                  0.000000   \n",
       "Fc receptor complex                                                  0.064516   \n",
       "CENP-A recruiting complex                                            0.000000   \n",
       "\n",
       "                                               Membrane attack complex  \\\n",
       "Presynaptic active zone cytoplasmic component                 0.000000   \n",
       "Cytoplasmic exosome (RNase complex)                           0.000000   \n",
       "ERBB4-ERBB3 complex                                           0.000000   \n",
       "Fc receptor complex                                           0.094395   \n",
       "CENP-A recruiting complex                                     0.004854   \n",
       "\n",
       "                                               GO:0033644  \\\n",
       "Presynaptic active zone cytoplasmic component         0.0   \n",
       "Cytoplasmic exosome (RNase complex)                   0.0   \n",
       "ERBB4-ERBB3 complex                                   0.0   \n",
       "Fc receptor complex                                   0.0   \n",
       "CENP-A recruiting complex                             0.0   \n",
       "\n",
       "                                               Proteasome core complex  \\\n",
       "Presynaptic active zone cytoplasmic component                 0.000000   \n",
       "Cytoplasmic exosome (RNase complex)                           0.000000   \n",
       "ERBB4-ERBB3 complex                                           0.000000   \n",
       "Fc receptor complex                                           0.004988   \n",
       "CENP-A recruiting complex                                     0.000000   \n",
       "\n",
       "                                               Synaptic vesicle, recycling pool  \n",
       "Presynaptic active zone cytoplasmic component                          0.005814  \n",
       "Cytoplasmic exosome (RNase complex)                                    0.000000  \n",
       "ERBB4-ERBB3 complex                                                    0.000000  \n",
       "Fc receptor complex                                                    0.000000  \n",
       "CENP-A recruiting complex                                              0.000000  \n",
       "\n",
       "[5 rows x 2826 columns]"
      ]
     },
     "execution_count": 33,
     "metadata": {},
     "output_type": "execute_result"
    }
   ],
   "source": [
    "attribute_similarity_matix.head()"
   ]
  },
  {
   "cell_type": "markdown",
   "metadata": {},
   "source": [
    "## Save Attribute Similarity Matrix"
   ]
  },
  {
   "cell_type": "code",
   "execution_count": 34,
   "metadata": {
    "collapsed": true
   },
   "outputs": [],
   "source": [
    "filename = '~/./Documents/Harmonizome/Jensen/Compartments/Output/jensen_compartments_attribute_similarity_matix_%s.tsv.zip'% str(datetime.date.today())[0:7].replace('-', '_')\n",
    "attribute_similarity_matix.to_csv(filename, sep='\\t', compression='gzip')"
   ]
  },
  {
   "cell_type": "markdown",
   "metadata": {},
   "source": [
    "# Create Gene List"
   ]
  },
  {
   "cell_type": "code",
   "execution_count": 35,
   "metadata": {},
   "outputs": [
    {
     "name": "stdout",
     "output_type": "stream",
     "text": [
      "Progeres: 100%  18535 Out of 18535   \r"
     ]
    }
   ],
   "source": [
    "gene_list = uf.createGeneList(binary_matrix)"
   ]
  },
  {
   "cell_type": "code",
   "execution_count": 36,
   "metadata": {},
   "outputs": [
    {
     "data": {
      "text/html": [
       "<div>\n",
       "<table border=\"1\" class=\"dataframe\">\n",
       "  <thead>\n",
       "    <tr style=\"text-align: right;\">\n",
       "      <th></th>\n",
       "      <th>GeneSym</th>\n",
       "      <th>GeneID</th>\n",
       "    </tr>\n",
       "  </thead>\n",
       "  <tbody>\n",
       "    <tr>\n",
       "      <th>0</th>\n",
       "      <td>LRCH3</td>\n",
       "      <td>84859</td>\n",
       "    </tr>\n",
       "    <tr>\n",
       "      <th>1</th>\n",
       "      <td>KLHDC8A</td>\n",
       "      <td>55220</td>\n",
       "    </tr>\n",
       "    <tr>\n",
       "      <th>2</th>\n",
       "      <td>SLC5A8</td>\n",
       "      <td>160728</td>\n",
       "    </tr>\n",
       "    <tr>\n",
       "      <th>3</th>\n",
       "      <td>MAATS1</td>\n",
       "      <td>89876</td>\n",
       "    </tr>\n",
       "    <tr>\n",
       "      <th>4</th>\n",
       "      <td>ETV4</td>\n",
       "      <td>2118</td>\n",
       "    </tr>\n",
       "  </tbody>\n",
       "</table>\n",
       "</div>"
      ],
      "text/plain": [
       "   GeneSym  GeneID\n",
       "0    LRCH3   84859\n",
       "1  KLHDC8A   55220\n",
       "2   SLC5A8  160728\n",
       "3   MAATS1   89876\n",
       "4     ETV4    2118"
      ]
     },
     "execution_count": 36,
     "metadata": {},
     "output_type": "execute_result"
    }
   ],
   "source": [
    "gene_list.head()"
   ]
  },
  {
   "cell_type": "code",
   "execution_count": 37,
   "metadata": {},
   "outputs": [
    {
     "data": {
      "text/plain": [
       "(18535, 2)"
      ]
     },
     "execution_count": 37,
     "metadata": {},
     "output_type": "execute_result"
    }
   ],
   "source": [
    "gene_list.shape"
   ]
  },
  {
   "cell_type": "markdown",
   "metadata": {},
   "source": [
    "### Save Gene List"
   ]
  },
  {
   "cell_type": "code",
   "execution_count": 38,
   "metadata": {
    "collapsed": true
   },
   "outputs": [],
   "source": [
    "filename = '~/./Documents/Harmonizome/Jensen/Compartments/Output/jensen_compartments_gene_list_%s.tsv.zip'% str(datetime.date.today())[0:7].replace('-', '_')\n",
    "gene_list.to_csv(filename, sep='\\t', index=False, compression='gzip')"
   ]
  },
  {
   "cell_type": "markdown",
   "metadata": {},
   "source": [
    "# Create Attribute List "
   ]
  },
  {
   "cell_type": "code",
   "execution_count": 39,
   "metadata": {
    "collapsed": true
   },
   "outputs": [],
   "source": [
    "attribute_list = uf.createAttributeList(binary_matrix)"
   ]
  },
  {
   "cell_type": "code",
   "execution_count": 40,
   "metadata": {},
   "outputs": [
    {
     "data": {
      "text/html": [
       "<div>\n",
       "<table border=\"1\" class=\"dataframe\">\n",
       "  <thead>\n",
       "    <tr style=\"text-align: right;\">\n",
       "      <th></th>\n",
       "      <th>Attributes</th>\n",
       "    </tr>\n",
       "  </thead>\n",
       "  <tbody>\n",
       "    <tr>\n",
       "      <th>0</th>\n",
       "      <td>Presynaptic active zone cytoplasmic component</td>\n",
       "    </tr>\n",
       "    <tr>\n",
       "      <th>1</th>\n",
       "      <td>Cytoplasmic exosome (RNase complex)</td>\n",
       "    </tr>\n",
       "    <tr>\n",
       "      <th>2</th>\n",
       "      <td>ERBB4-ERBB3 complex</td>\n",
       "    </tr>\n",
       "    <tr>\n",
       "      <th>3</th>\n",
       "      <td>Fc receptor complex</td>\n",
       "    </tr>\n",
       "    <tr>\n",
       "      <th>4</th>\n",
       "      <td>CENP-A recruiting complex</td>\n",
       "    </tr>\n",
       "  </tbody>\n",
       "</table>\n",
       "</div>"
      ],
      "text/plain": [
       "                                      Attributes\n",
       "0  Presynaptic active zone cytoplasmic component\n",
       "1            Cytoplasmic exosome (RNase complex)\n",
       "2                            ERBB4-ERBB3 complex\n",
       "3                            Fc receptor complex\n",
       "4                      CENP-A recruiting complex"
      ]
     },
     "execution_count": 40,
     "metadata": {},
     "output_type": "execute_result"
    }
   ],
   "source": [
    "attribute_list.head()"
   ]
  },
  {
   "cell_type": "code",
   "execution_count": 41,
   "metadata": {},
   "outputs": [
    {
     "data": {
      "text/plain": [
       "(2826, 1)"
      ]
     },
     "execution_count": 41,
     "metadata": {},
     "output_type": "execute_result"
    }
   ],
   "source": [
    "attribute_list.shape"
   ]
  },
  {
   "cell_type": "markdown",
   "metadata": {},
   "source": [
    "### Save Attribute List"
   ]
  },
  {
   "cell_type": "code",
   "execution_count": 42,
   "metadata": {
    "collapsed": true
   },
   "outputs": [],
   "source": [
    "filename = '~/./Documents/Harmonizome/Jensen/Compartments/Output/jensen_compartments_attribute_list_%s.tsv.zip'% str(datetime.date.today())[0:7].replace('-', '_')\n",
    "attribute_list.to_csv(filename, sep='\\t', index=False, compression='gzip')"
   ]
  },
  {
   "cell_type": "markdown",
   "metadata": {},
   "source": [
    "# Create Gene-Attribute Edge List"
   ]
  },
  {
   "cell_type": "code",
   "execution_count": 43,
   "metadata": {
    "collapsed": true
   },
   "outputs": [],
   "source": [
    "path = '/Users/moshesilverstein/Documents/Harmonizome/Jensen/Compartments/Output/'"
   ]
  },
  {
   "cell_type": "code",
   "execution_count": 44,
   "metadata": {
    "collapsed": true
   },
   "outputs": [],
   "source": [
    "name = 'jensen_compartments_gene_attribute_edge_list'"
   ]
  },
  {
   "cell_type": "code",
   "execution_count": 45,
   "metadata": {},
   "outputs": [
    {
     "name": "stdout",
     "output_type": "stream",
     "text": [
      "Progeres: 100%  2826 Out of 2826   \n",
      "\n",
      " The number of statisticaly relevent gene-attribute associations is: 829693\n"
     ]
    }
   ],
   "source": [
    "uf.createGeneAttributeEdgeList(binary_matrix, gene_list, path, name)"
   ]
  }
 ],
 "metadata": {
  "kernelspec": {
   "display_name": "Python [default]",
   "language": "python",
   "name": "python3"
  },
  "language_info": {
   "codemirror_mode": {
    "name": "ipython",
    "version": 3
   },
   "file_extension": ".py",
   "mimetype": "text/x-python",
   "name": "python",
   "nbconvert_exporter": "python",
   "pygments_lexer": "ipython3",
   "version": "3.5.2"
  }
 },
 "nbformat": 4,
 "nbformat_minor": 2
}
