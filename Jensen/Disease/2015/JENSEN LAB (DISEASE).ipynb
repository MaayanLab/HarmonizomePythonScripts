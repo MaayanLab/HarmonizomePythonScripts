{
 "cells": [
  {
   "cell_type": "markdown",
   "metadata": {},
   "source": [
    "# JENSEN LAB (DISEASE)"
   ]
  },
  {
   "cell_type": "markdown",
   "metadata": {},
   "source": [
    "Author: Moshe Silverstein <br/>\n",
    "Date: 7-17 <br/>\n",
    "Data Source: http://diseases.jensenlab.org/Search"
   ]
  },
  {
   "cell_type": "code",
   "execution_count": 1,
   "metadata": {
    "collapsed": true
   },
   "outputs": [],
   "source": [
    "import sys, datetime\n",
    "import numpy as np\n",
    "import pandas as pd\n",
    "import importlib\n",
    "import untility_functions as uf\n",
    "%matplotlib inline"
   ]
  },
  {
   "cell_type": "code",
   "execution_count": 2,
   "metadata": {},
   "outputs": [
    {
     "data": {
      "text/plain": [
       "<module 'untility_functions' from '/Users/moshesilverstein/Documents/Harmonizome/Jensen/Disease/untility_functions.py'>"
      ]
     },
     "execution_count": 2,
     "metadata": {},
     "output_type": "execute_result"
    }
   ],
   "source": [
    "importlib.reload(uf)"
   ]
  },
  {
   "cell_type": "markdown",
   "metadata": {},
   "source": [
    "# LOAD DATA"
   ]
  },
  {
   "cell_type": "code",
   "execution_count": 3,
   "metadata": {
    "collapsed": true
   },
   "outputs": [],
   "source": [
    "col = ['Ensemble Acc', 'GeneSym', 'BTO', 'Disease', 'Source', 'SampleInfo', 'Value']"
   ]
  },
  {
   "cell_type": "code",
   "execution_count": 4,
   "metadata": {
    "collapsed": true
   },
   "outputs": [],
   "source": [
    "dfE = pd.read_csv('Input/human_disease_experiments_filtered.tsv', sep='\\t', names=col)"
   ]
  },
  {
   "cell_type": "code",
   "execution_count": 5,
   "metadata": {
    "collapsed": true
   },
   "outputs": [],
   "source": [
    "dfK = pd.read_csv('Input/human_disease_knowledge_filtered.tsv', sep='\\t', names=col)"
   ]
  },
  {
   "cell_type": "code",
   "execution_count": 6,
   "metadata": {
    "collapsed": true
   },
   "outputs": [],
   "source": [
    "dfT = pd.read_csv('Input/human_disease_textmining_filtered.tsv', sep='\\t', names=col)"
   ]
  },
  {
   "cell_type": "code",
   "execution_count": 7,
   "metadata": {
    "collapsed": true
   },
   "outputs": [],
   "source": [
    "df = pd.concat([dfE, dfK, dfT])"
   ]
  },
  {
   "cell_type": "code",
   "execution_count": 8,
   "metadata": {},
   "outputs": [
    {
     "data": {
      "text/html": [
       "<div>\n",
       "<table border=\"1\" class=\"dataframe\">\n",
       "  <thead>\n",
       "    <tr style=\"text-align: right;\">\n",
       "      <th></th>\n",
       "      <th>Ensemble Acc</th>\n",
       "      <th>GeneSym</th>\n",
       "      <th>BTO</th>\n",
       "      <th>Disease</th>\n",
       "      <th>Source</th>\n",
       "      <th>SampleInfo</th>\n",
       "      <th>Value</th>\n",
       "    </tr>\n",
       "  </thead>\n",
       "  <tbody>\n",
       "    <tr>\n",
       "      <th>0</th>\n",
       "      <td>ENSP00000000412</td>\n",
       "      <td>M6PR</td>\n",
       "      <td>DOID:2377</td>\n",
       "      <td>Multiple sclerosis</td>\n",
       "      <td>DistiLD</td>\n",
       "      <td>p-value = 5e-14</td>\n",
       "      <td>2</td>\n",
       "    </tr>\n",
       "    <tr>\n",
       "      <th>1</th>\n",
       "      <td>ENSP00000000442</td>\n",
       "      <td>ESRRA</td>\n",
       "      <td>DOID:305</td>\n",
       "      <td>Carcinoma</td>\n",
       "      <td>COSMIC</td>\n",
       "      <td>11 samples</td>\n",
       "      <td>0</td>\n",
       "    </tr>\n",
       "    <tr>\n",
       "      <th>2</th>\n",
       "      <td>ENSP00000001008</td>\n",
       "      <td>FKBP4</td>\n",
       "      <td>DOID:305</td>\n",
       "      <td>Carcinoma</td>\n",
       "      <td>COSMIC</td>\n",
       "      <td>14 samples</td>\n",
       "      <td>0</td>\n",
       "    </tr>\n",
       "    <tr>\n",
       "      <th>3</th>\n",
       "      <td>ENSP00000001146</td>\n",
       "      <td>CYP26B1</td>\n",
       "      <td>DOID:305</td>\n",
       "      <td>Carcinoma</td>\n",
       "      <td>COSMIC</td>\n",
       "      <td>14 samples</td>\n",
       "      <td>0</td>\n",
       "    </tr>\n",
       "    <tr>\n",
       "      <th>4</th>\n",
       "      <td>ENSP00000002165</td>\n",
       "      <td>FUCA2</td>\n",
       "      <td>DOID:305</td>\n",
       "      <td>Carcinoma</td>\n",
       "      <td>COSMIC</td>\n",
       "      <td>10 samples</td>\n",
       "      <td>0</td>\n",
       "    </tr>\n",
       "  </tbody>\n",
       "</table>\n",
       "</div>"
      ],
      "text/plain": [
       "      Ensemble Acc  GeneSym        BTO             Disease   Source  \\\n",
       "0  ENSP00000000412     M6PR  DOID:2377  Multiple sclerosis  DistiLD   \n",
       "1  ENSP00000000442    ESRRA   DOID:305           Carcinoma   COSMIC   \n",
       "2  ENSP00000001008    FKBP4   DOID:305           Carcinoma   COSMIC   \n",
       "3  ENSP00000001146  CYP26B1   DOID:305           Carcinoma   COSMIC   \n",
       "4  ENSP00000002165    FUCA2   DOID:305           Carcinoma   COSMIC   \n",
       "\n",
       "        SampleInfo Value  \n",
       "0  p-value = 5e-14     2  \n",
       "1       11 samples     0  \n",
       "2       14 samples     0  \n",
       "3       14 samples     0  \n",
       "4       10 samples     0  "
      ]
     },
     "execution_count": 8,
     "metadata": {},
     "output_type": "execute_result"
    }
   ],
   "source": [
    "df.head()"
   ]
  },
  {
   "cell_type": "code",
   "execution_count": 9,
   "metadata": {},
   "outputs": [
    {
     "data": {
      "text/plain": [
       "(72762, 7)"
      ]
     },
     "execution_count": 9,
     "metadata": {},
     "output_type": "execute_result"
    }
   ],
   "source": [
    "df.shape"
   ]
  },
  {
   "cell_type": "markdown",
   "metadata": {},
   "source": [
    "# Get Only Gene-Tissue Data"
   ]
  },
  {
   "cell_type": "code",
   "execution_count": 10,
   "metadata": {
    "collapsed": true
   },
   "outputs": [],
   "source": [
    "df = df[df['Value'] != 0]"
   ]
  },
  {
   "cell_type": "code",
   "execution_count": 11,
   "metadata": {
    "collapsed": true
   },
   "outputs": [],
   "source": [
    "df = df[['GeneSym', 'Disease']]"
   ]
  },
  {
   "cell_type": "code",
   "execution_count": 12,
   "metadata": {
    "collapsed": true
   },
   "outputs": [],
   "source": [
    "df.drop_duplicates(inplace=True)"
   ]
  },
  {
   "cell_type": "code",
   "execution_count": 13,
   "metadata": {
    "collapsed": true
   },
   "outputs": [],
   "source": [
    "df.set_index('GeneSym', inplace=True)"
   ]
  },
  {
   "cell_type": "code",
   "execution_count": 14,
   "metadata": {},
   "outputs": [
    {
     "data": {
      "text/html": [
       "<div>\n",
       "<table border=\"1\" class=\"dataframe\">\n",
       "  <thead>\n",
       "    <tr style=\"text-align: right;\">\n",
       "      <th></th>\n",
       "      <th>Disease</th>\n",
       "    </tr>\n",
       "    <tr>\n",
       "      <th>GeneSym</th>\n",
       "      <th></th>\n",
       "    </tr>\n",
       "  </thead>\n",
       "  <tbody>\n",
       "    <tr>\n",
       "      <th>M6PR</th>\n",
       "      <td>Multiple sclerosis</td>\n",
       "    </tr>\n",
       "    <tr>\n",
       "      <th>HS3ST1</th>\n",
       "      <td>Liver disease</td>\n",
       "    </tr>\n",
       "    <tr>\n",
       "      <th>CFTR</th>\n",
       "      <td>Carcinoma</td>\n",
       "    </tr>\n",
       "    <tr>\n",
       "      <th>USP28</th>\n",
       "      <td>Carcinoma</td>\n",
       "    </tr>\n",
       "    <tr>\n",
       "      <th>BAIAP2L1</th>\n",
       "      <td>Prostate cancer</td>\n",
       "    </tr>\n",
       "  </tbody>\n",
       "</table>\n",
       "</div>"
      ],
      "text/plain": [
       "                     Disease\n",
       "GeneSym                     \n",
       "M6PR      Multiple sclerosis\n",
       "HS3ST1         Liver disease\n",
       "CFTR               Carcinoma\n",
       "USP28              Carcinoma\n",
       "BAIAP2L1     Prostate cancer"
      ]
     },
     "execution_count": 14,
     "metadata": {},
     "output_type": "execute_result"
    }
   ],
   "source": [
    "df.head()"
   ]
  },
  {
   "cell_type": "code",
   "execution_count": 15,
   "metadata": {},
   "outputs": [
    {
     "data": {
      "text/plain": [
       "(53714, 1)"
      ]
     },
     "execution_count": 15,
     "metadata": {},
     "output_type": "execute_result"
    }
   ],
   "source": [
    "df.shape"
   ]
  },
  {
   "cell_type": "markdown",
   "metadata": {},
   "source": [
    "# Map Gene Symbols To Up-to-date Approved Gene Symbols"
   ]
  },
  {
   "cell_type": "code",
   "execution_count": 16,
   "metadata": {},
   "outputs": [
    {
     "name": "stdout",
     "output_type": "stream",
     "text": [
      "Progeres: 99%  53601 Out of 53714   \r"
     ]
    }
   ],
   "source": [
    "uf.mapgenesymbols(df)"
   ]
  },
  {
   "cell_type": "code",
   "execution_count": 17,
   "metadata": {},
   "outputs": [],
   "source": [
    "df.shape"
   ]
  },
  {
   "cell_type": "markdown",
   "metadata": {},
   "source": [
    "# Create Binary Matrix"
   ]
  },
  {
   "cell_type": "code",
   "execution_count": 18,
   "metadata": {
    "collapsed": true
   },
   "outputs": [],
   "source": [
    "df.reset_index(inplace=True)"
   ]
  },
  {
   "cell_type": "code",
   "execution_count": 19,
   "metadata": {},
   "outputs": [
    {
     "name": "stdout",
     "output_type": "stream",
     "text": [
      "Progeres: 100%  13149 Out of 13149   \r"
     ]
    }
   ],
   "source": [
    "binary_matrix = uf.createBinaryMatix(df)"
   ]
  },
  {
   "cell_type": "code",
   "execution_count": 20,
   "metadata": {},
   "outputs": [
    {
     "data": {
      "text/html": [
       "<div>\n",
       "<table border=\"1\" class=\"dataframe\">\n",
       "  <thead>\n",
       "    <tr style=\"text-align: right;\">\n",
       "      <th></th>\n",
       "      <th>Hartnup disease</th>\n",
       "      <th>Hordeolum</th>\n",
       "      <th>Rh isoimmunization</th>\n",
       "      <th>Diffuse idiopathic skeletal hyperostosis</th>\n",
       "      <th>Contagious pustular dermatitis</th>\n",
       "      <th>Reticular dysgenesis</th>\n",
       "      <th>Frontal sinus cancer</th>\n",
       "      <th>Congenital afibrinogenemia</th>\n",
       "      <th>Insulinoma</th>\n",
       "      <th>Hyperlysinemia</th>\n",
       "      <th>...</th>\n",
       "      <th>Glycoproteinosis</th>\n",
       "      <th>Bart-Pumphrey syndrome</th>\n",
       "      <th>Simpson-Golabi-Behmel syndrome</th>\n",
       "      <th>brachydactyly-syndactyly syndrome</th>\n",
       "      <th>Inverted follicular keratosis</th>\n",
       "      <th>Mucosulfatidosis</th>\n",
       "      <th>Chronic intestinal vascular insufficiency</th>\n",
       "      <th>inclusion-cell disease</th>\n",
       "      <th>Gingivitis</th>\n",
       "      <th>Myositis ossificans</th>\n",
       "    </tr>\n",
       "  </thead>\n",
       "  <tbody>\n",
       "    <tr>\n",
       "      <th>FZD3</th>\n",
       "      <td>0</td>\n",
       "      <td>0</td>\n",
       "      <td>0</td>\n",
       "      <td>0</td>\n",
       "      <td>0</td>\n",
       "      <td>0</td>\n",
       "      <td>0</td>\n",
       "      <td>0</td>\n",
       "      <td>0</td>\n",
       "      <td>0</td>\n",
       "      <td>...</td>\n",
       "      <td>0</td>\n",
       "      <td>0</td>\n",
       "      <td>0</td>\n",
       "      <td>0</td>\n",
       "      <td>0</td>\n",
       "      <td>0</td>\n",
       "      <td>0</td>\n",
       "      <td>0</td>\n",
       "      <td>0</td>\n",
       "      <td>0</td>\n",
       "    </tr>\n",
       "    <tr>\n",
       "      <th>INTS11</th>\n",
       "      <td>0</td>\n",
       "      <td>0</td>\n",
       "      <td>0</td>\n",
       "      <td>0</td>\n",
       "      <td>0</td>\n",
       "      <td>0</td>\n",
       "      <td>0</td>\n",
       "      <td>0</td>\n",
       "      <td>0</td>\n",
       "      <td>0</td>\n",
       "      <td>...</td>\n",
       "      <td>0</td>\n",
       "      <td>0</td>\n",
       "      <td>0</td>\n",
       "      <td>0</td>\n",
       "      <td>0</td>\n",
       "      <td>0</td>\n",
       "      <td>0</td>\n",
       "      <td>0</td>\n",
       "      <td>0</td>\n",
       "      <td>0</td>\n",
       "    </tr>\n",
       "    <tr>\n",
       "      <th>CTDP1</th>\n",
       "      <td>0</td>\n",
       "      <td>0</td>\n",
       "      <td>0</td>\n",
       "      <td>0</td>\n",
       "      <td>0</td>\n",
       "      <td>0</td>\n",
       "      <td>0</td>\n",
       "      <td>0</td>\n",
       "      <td>0</td>\n",
       "      <td>0</td>\n",
       "      <td>...</td>\n",
       "      <td>0</td>\n",
       "      <td>0</td>\n",
       "      <td>0</td>\n",
       "      <td>0</td>\n",
       "      <td>0</td>\n",
       "      <td>0</td>\n",
       "      <td>0</td>\n",
       "      <td>0</td>\n",
       "      <td>0</td>\n",
       "      <td>0</td>\n",
       "    </tr>\n",
       "    <tr>\n",
       "      <th>PHKG1</th>\n",
       "      <td>0</td>\n",
       "      <td>0</td>\n",
       "      <td>0</td>\n",
       "      <td>0</td>\n",
       "      <td>0</td>\n",
       "      <td>0</td>\n",
       "      <td>0</td>\n",
       "      <td>0</td>\n",
       "      <td>0</td>\n",
       "      <td>0</td>\n",
       "      <td>...</td>\n",
       "      <td>0</td>\n",
       "      <td>0</td>\n",
       "      <td>0</td>\n",
       "      <td>0</td>\n",
       "      <td>0</td>\n",
       "      <td>0</td>\n",
       "      <td>0</td>\n",
       "      <td>0</td>\n",
       "      <td>0</td>\n",
       "      <td>0</td>\n",
       "    </tr>\n",
       "    <tr>\n",
       "      <th>CCDC155</th>\n",
       "      <td>0</td>\n",
       "      <td>0</td>\n",
       "      <td>0</td>\n",
       "      <td>0</td>\n",
       "      <td>0</td>\n",
       "      <td>0</td>\n",
       "      <td>0</td>\n",
       "      <td>0</td>\n",
       "      <td>0</td>\n",
       "      <td>0</td>\n",
       "      <td>...</td>\n",
       "      <td>0</td>\n",
       "      <td>0</td>\n",
       "      <td>0</td>\n",
       "      <td>0</td>\n",
       "      <td>0</td>\n",
       "      <td>0</td>\n",
       "      <td>0</td>\n",
       "      <td>0</td>\n",
       "      <td>0</td>\n",
       "      <td>0</td>\n",
       "    </tr>\n",
       "  </tbody>\n",
       "</table>\n",
       "<p>5 rows × 3679 columns</p>\n",
       "</div>"
      ],
      "text/plain": [
       "         Hartnup disease  Hordeolum  Rh isoimmunization  \\\n",
       "FZD3                   0          0                   0   \n",
       "INTS11                 0          0                   0   \n",
       "CTDP1                  0          0                   0   \n",
       "PHKG1                  0          0                   0   \n",
       "CCDC155                0          0                   0   \n",
       "\n",
       "         Diffuse idiopathic skeletal hyperostosis  \\\n",
       "FZD3                                            0   \n",
       "INTS11                                          0   \n",
       "CTDP1                                           0   \n",
       "PHKG1                                           0   \n",
       "CCDC155                                         0   \n",
       "\n",
       "         Contagious pustular dermatitis  Reticular dysgenesis  \\\n",
       "FZD3                                  0                     0   \n",
       "INTS11                                0                     0   \n",
       "CTDP1                                 0                     0   \n",
       "PHKG1                                 0                     0   \n",
       "CCDC155                               0                     0   \n",
       "\n",
       "         Frontal sinus cancer  Congenital afibrinogenemia  Insulinoma  \\\n",
       "FZD3                        0                           0           0   \n",
       "INTS11                      0                           0           0   \n",
       "CTDP1                       0                           0           0   \n",
       "PHKG1                       0                           0           0   \n",
       "CCDC155                     0                           0           0   \n",
       "\n",
       "         Hyperlysinemia         ...           Glycoproteinosis  \\\n",
       "FZD3                  0         ...                          0   \n",
       "INTS11                0         ...                          0   \n",
       "CTDP1                 0         ...                          0   \n",
       "PHKG1                 0         ...                          0   \n",
       "CCDC155               0         ...                          0   \n",
       "\n",
       "         Bart-Pumphrey syndrome  Simpson-Golabi-Behmel syndrome  \\\n",
       "FZD3                          0                               0   \n",
       "INTS11                        0                               0   \n",
       "CTDP1                         0                               0   \n",
       "PHKG1                         0                               0   \n",
       "CCDC155                       0                               0   \n",
       "\n",
       "         brachydactyly-syndactyly syndrome  Inverted follicular keratosis  \\\n",
       "FZD3                                     0                              0   \n",
       "INTS11                                   0                              0   \n",
       "CTDP1                                    0                              0   \n",
       "PHKG1                                    0                              0   \n",
       "CCDC155                                  0                              0   \n",
       "\n",
       "         Mucosulfatidosis  Chronic intestinal vascular insufficiency  \\\n",
       "FZD3                    0                                          0   \n",
       "INTS11                  0                                          0   \n",
       "CTDP1                   0                                          0   \n",
       "PHKG1                   0                                          0   \n",
       "CCDC155                 0                                          0   \n",
       "\n",
       "         inclusion-cell disease  Gingivitis  Myositis ossificans  \n",
       "FZD3                          0           0                    0  \n",
       "INTS11                        0           0                    0  \n",
       "CTDP1                         0           0                    0  \n",
       "PHKG1                         0           0                    0  \n",
       "CCDC155                       0           0                    0  \n",
       "\n",
       "[5 rows x 3679 columns]"
      ]
     },
     "execution_count": 20,
     "metadata": {},
     "output_type": "execute_result"
    }
   ],
   "source": [
    "binary_matrix.head()"
   ]
  },
  {
   "cell_type": "code",
   "execution_count": 21,
   "metadata": {},
   "outputs": [
    {
     "data": {
      "text/plain": [
       "(13149, 3679)"
      ]
     },
     "execution_count": 21,
     "metadata": {},
     "output_type": "execute_result"
    }
   ],
   "source": [
    "binary_matrix.shape"
   ]
  },
  {
   "cell_type": "markdown",
   "metadata": {},
   "source": [
    "# Save Binary Matrix"
   ]
  },
  {
   "cell_type": "code",
   "execution_count": 22,
   "metadata": {
    "collapsed": true
   },
   "outputs": [],
   "source": [
    "filename = '~/./Documents/Harmonizome/Jensen/Disease/Output/jensen_disease_binary_matrix_%s.tsv.zip'% str(datetime.date.today())[0:7].replace('-', '_')\n",
    "binary_matrix.to_csv(filename, sep='\\t', compression='gzip')"
   ]
  },
  {
   "cell_type": "markdown",
   "metadata": {},
   "source": [
    "# Create Gene Set Library"
   ]
  },
  {
   "cell_type": "code",
   "execution_count": 23,
   "metadata": {
    "collapsed": true
   },
   "outputs": [],
   "source": [
    "path = '/Users/moshesilverstein/Documents/Harmonizome/Jensen/Disease/Output/'"
   ]
  },
  {
   "cell_type": "code",
   "execution_count": 24,
   "metadata": {
    "collapsed": true
   },
   "outputs": [],
   "source": [
    "name = 'jensen_disease_gene_set'"
   ]
  },
  {
   "cell_type": "code",
   "execution_count": 25,
   "metadata": {},
   "outputs": [
    {
     "name": "stdout",
     "output_type": "stream",
     "text": [
      "Progeres: 100%  3679 Out of 3679   \r"
     ]
    }
   ],
   "source": [
    "uf.createUpGeneSetLib(binary_matrix, path, name)"
   ]
  },
  {
   "cell_type": "markdown",
   "metadata": {},
   "source": [
    "# Create Attribute Library"
   ]
  },
  {
   "cell_type": "code",
   "execution_count": 26,
   "metadata": {
    "collapsed": true
   },
   "outputs": [],
   "source": [
    "path = '/Users/moshesilverstein/Documents/Harmonizome/Jensen/Disease/Output/'"
   ]
  },
  {
   "cell_type": "code",
   "execution_count": 27,
   "metadata": {
    "collapsed": true
   },
   "outputs": [],
   "source": [
    "name = 'jensen_disease_attribute_set'"
   ]
  },
  {
   "cell_type": "code",
   "execution_count": 28,
   "metadata": {},
   "outputs": [
    {
     "name": "stdout",
     "output_type": "stream",
     "text": [
      "Progeres: 100%  13149 Out of 13149   \r"
     ]
    }
   ],
   "source": [
    "uf.createUpAttributeSetLib(binary_matrix, path, name)"
   ]
  },
  {
   "cell_type": "markdown",
   "metadata": {},
   "source": [
    "# Create Gene Similarity Matrix"
   ]
  },
  {
   "cell_type": "code",
   "execution_count": 29,
   "metadata": {
    "collapsed": true
   },
   "outputs": [],
   "source": [
    "gene_similarity_matix = uf.createSimilarityMatrix(binary_matrix, 'jaccard')"
   ]
  },
  {
   "cell_type": "code",
   "execution_count": 30,
   "metadata": {},
   "outputs": [
    {
     "data": {
      "text/html": [
       "<div>\n",
       "<table border=\"1\" class=\"dataframe\">\n",
       "  <thead>\n",
       "    <tr style=\"text-align: right;\">\n",
       "      <th></th>\n",
       "      <th>FZD3</th>\n",
       "      <th>INTS11</th>\n",
       "      <th>CTDP1</th>\n",
       "      <th>PHKG1</th>\n",
       "      <th>CCDC155</th>\n",
       "      <th>SELENOO</th>\n",
       "      <th>NLRP11</th>\n",
       "      <th>TMEM74</th>\n",
       "      <th>INHBE</th>\n",
       "      <th>RSBN1</th>\n",
       "      <th>...</th>\n",
       "      <th>ADCK2</th>\n",
       "      <th>TUBA1B</th>\n",
       "      <th>OGDH</th>\n",
       "      <th>TIFAB</th>\n",
       "      <th>TRIM25</th>\n",
       "      <th>FGF4</th>\n",
       "      <th>USP36</th>\n",
       "      <th>SKP1</th>\n",
       "      <th>SH2D4B</th>\n",
       "      <th>LINC00982</th>\n",
       "    </tr>\n",
       "  </thead>\n",
       "  <tbody>\n",
       "    <tr>\n",
       "      <th>FZD3</th>\n",
       "      <td>1.0</td>\n",
       "      <td>0.0</td>\n",
       "      <td>0.000000</td>\n",
       "      <td>0.000000</td>\n",
       "      <td>0.0</td>\n",
       "      <td>0.0</td>\n",
       "      <td>0.0</td>\n",
       "      <td>0.0</td>\n",
       "      <td>0.0</td>\n",
       "      <td>0.000000</td>\n",
       "      <td>...</td>\n",
       "      <td>0.0</td>\n",
       "      <td>0.0</td>\n",
       "      <td>0.0</td>\n",
       "      <td>0.0</td>\n",
       "      <td>0.0</td>\n",
       "      <td>0.0</td>\n",
       "      <td>0.0</td>\n",
       "      <td>0.0</td>\n",
       "      <td>0.0</td>\n",
       "      <td>0.0</td>\n",
       "    </tr>\n",
       "    <tr>\n",
       "      <th>INTS11</th>\n",
       "      <td>0.0</td>\n",
       "      <td>1.0</td>\n",
       "      <td>0.000000</td>\n",
       "      <td>0.000000</td>\n",
       "      <td>0.0</td>\n",
       "      <td>0.0</td>\n",
       "      <td>0.0</td>\n",
       "      <td>0.0</td>\n",
       "      <td>0.0</td>\n",
       "      <td>0.333333</td>\n",
       "      <td>...</td>\n",
       "      <td>0.0</td>\n",
       "      <td>0.0</td>\n",
       "      <td>0.0</td>\n",
       "      <td>0.0</td>\n",
       "      <td>0.0</td>\n",
       "      <td>0.0</td>\n",
       "      <td>0.0</td>\n",
       "      <td>0.0</td>\n",
       "      <td>0.0</td>\n",
       "      <td>0.0</td>\n",
       "    </tr>\n",
       "    <tr>\n",
       "      <th>CTDP1</th>\n",
       "      <td>0.0</td>\n",
       "      <td>0.0</td>\n",
       "      <td>1.000000</td>\n",
       "      <td>0.166667</td>\n",
       "      <td>0.0</td>\n",
       "      <td>0.0</td>\n",
       "      <td>0.0</td>\n",
       "      <td>0.0</td>\n",
       "      <td>0.0</td>\n",
       "      <td>0.000000</td>\n",
       "      <td>...</td>\n",
       "      <td>0.0</td>\n",
       "      <td>0.0</td>\n",
       "      <td>0.0</td>\n",
       "      <td>0.0</td>\n",
       "      <td>0.0</td>\n",
       "      <td>0.0</td>\n",
       "      <td>0.0</td>\n",
       "      <td>0.0</td>\n",
       "      <td>0.0</td>\n",
       "      <td>0.0</td>\n",
       "    </tr>\n",
       "    <tr>\n",
       "      <th>PHKG1</th>\n",
       "      <td>0.0</td>\n",
       "      <td>0.0</td>\n",
       "      <td>0.166667</td>\n",
       "      <td>1.000000</td>\n",
       "      <td>0.0</td>\n",
       "      <td>0.0</td>\n",
       "      <td>0.0</td>\n",
       "      <td>0.0</td>\n",
       "      <td>0.0</td>\n",
       "      <td>0.000000</td>\n",
       "      <td>...</td>\n",
       "      <td>0.0</td>\n",
       "      <td>0.0</td>\n",
       "      <td>0.0</td>\n",
       "      <td>0.0</td>\n",
       "      <td>0.0</td>\n",
       "      <td>0.0</td>\n",
       "      <td>0.0</td>\n",
       "      <td>0.0</td>\n",
       "      <td>0.0</td>\n",
       "      <td>0.0</td>\n",
       "    </tr>\n",
       "    <tr>\n",
       "      <th>CCDC155</th>\n",
       "      <td>0.0</td>\n",
       "      <td>0.0</td>\n",
       "      <td>0.000000</td>\n",
       "      <td>0.000000</td>\n",
       "      <td>1.0</td>\n",
       "      <td>0.0</td>\n",
       "      <td>0.0</td>\n",
       "      <td>0.0</td>\n",
       "      <td>0.0</td>\n",
       "      <td>0.000000</td>\n",
       "      <td>...</td>\n",
       "      <td>0.0</td>\n",
       "      <td>0.0</td>\n",
       "      <td>0.0</td>\n",
       "      <td>0.0</td>\n",
       "      <td>0.0</td>\n",
       "      <td>0.0</td>\n",
       "      <td>0.0</td>\n",
       "      <td>0.0</td>\n",
       "      <td>0.0</td>\n",
       "      <td>0.0</td>\n",
       "    </tr>\n",
       "  </tbody>\n",
       "</table>\n",
       "<p>5 rows × 13149 columns</p>\n",
       "</div>"
      ],
      "text/plain": [
       "         FZD3  INTS11     CTDP1     PHKG1  CCDC155  SELENOO  NLRP11  TMEM74  \\\n",
       "FZD3      1.0     0.0  0.000000  0.000000      0.0      0.0     0.0     0.0   \n",
       "INTS11    0.0     1.0  0.000000  0.000000      0.0      0.0     0.0     0.0   \n",
       "CTDP1     0.0     0.0  1.000000  0.166667      0.0      0.0     0.0     0.0   \n",
       "PHKG1     0.0     0.0  0.166667  1.000000      0.0      0.0     0.0     0.0   \n",
       "CCDC155   0.0     0.0  0.000000  0.000000      1.0      0.0     0.0     0.0   \n",
       "\n",
       "         INHBE     RSBN1    ...      ADCK2  TUBA1B  OGDH  TIFAB  TRIM25  FGF4  \\\n",
       "FZD3       0.0  0.000000    ...        0.0     0.0   0.0    0.0     0.0   0.0   \n",
       "INTS11     0.0  0.333333    ...        0.0     0.0   0.0    0.0     0.0   0.0   \n",
       "CTDP1      0.0  0.000000    ...        0.0     0.0   0.0    0.0     0.0   0.0   \n",
       "PHKG1      0.0  0.000000    ...        0.0     0.0   0.0    0.0     0.0   0.0   \n",
       "CCDC155    0.0  0.000000    ...        0.0     0.0   0.0    0.0     0.0   0.0   \n",
       "\n",
       "         USP36  SKP1  SH2D4B  LINC00982  \n",
       "FZD3       0.0   0.0     0.0        0.0  \n",
       "INTS11     0.0   0.0     0.0        0.0  \n",
       "CTDP1      0.0   0.0     0.0        0.0  \n",
       "PHKG1      0.0   0.0     0.0        0.0  \n",
       "CCDC155    0.0   0.0     0.0        0.0  \n",
       "\n",
       "[5 rows x 13149 columns]"
      ]
     },
     "execution_count": 30,
     "metadata": {},
     "output_type": "execute_result"
    }
   ],
   "source": [
    "gene_similarity_matix.head()"
   ]
  },
  {
   "cell_type": "markdown",
   "metadata": {},
   "source": [
    "## Save Gene Similarity Matrix "
   ]
  },
  {
   "cell_type": "code",
   "execution_count": 31,
   "metadata": {
    "collapsed": true
   },
   "outputs": [],
   "source": [
    "filename = '~/./Documents/Harmonizome/Jensen/Disease/Output/jensen_disease_gene_similarity_matix_%s.tsv.zip'% str(datetime.date.today())[0:7].replace('-', '_')\n",
    "gene_similarity_matix.to_csv(filename, sep='\\t', compression='gzip')"
   ]
  },
  {
   "cell_type": "markdown",
   "metadata": {},
   "source": [
    "# Create Attribute Similarity matrix"
   ]
  },
  {
   "cell_type": "code",
   "execution_count": 32,
   "metadata": {
    "collapsed": true
   },
   "outputs": [],
   "source": [
    "attribute_similarity_matix = uf.createSimilarityMatrix(binary_matrix.T, 'jaccard')"
   ]
  },
  {
   "cell_type": "code",
   "execution_count": 33,
   "metadata": {},
   "outputs": [
    {
     "data": {
      "text/html": [
       "<div>\n",
       "<table border=\"1\" class=\"dataframe\">\n",
       "  <thead>\n",
       "    <tr style=\"text-align: right;\">\n",
       "      <th></th>\n",
       "      <th>Hartnup disease</th>\n",
       "      <th>Hordeolum</th>\n",
       "      <th>Rh isoimmunization</th>\n",
       "      <th>Diffuse idiopathic skeletal hyperostosis</th>\n",
       "      <th>Contagious pustular dermatitis</th>\n",
       "      <th>Reticular dysgenesis</th>\n",
       "      <th>Frontal sinus cancer</th>\n",
       "      <th>Congenital afibrinogenemia</th>\n",
       "      <th>Insulinoma</th>\n",
       "      <th>Hyperlysinemia</th>\n",
       "      <th>...</th>\n",
       "      <th>Glycoproteinosis</th>\n",
       "      <th>Bart-Pumphrey syndrome</th>\n",
       "      <th>Simpson-Golabi-Behmel syndrome</th>\n",
       "      <th>brachydactyly-syndactyly syndrome</th>\n",
       "      <th>Inverted follicular keratosis</th>\n",
       "      <th>Mucosulfatidosis</th>\n",
       "      <th>Chronic intestinal vascular insufficiency</th>\n",
       "      <th>inclusion-cell disease</th>\n",
       "      <th>Gingivitis</th>\n",
       "      <th>Myositis ossificans</th>\n",
       "    </tr>\n",
       "  </thead>\n",
       "  <tbody>\n",
       "    <tr>\n",
       "      <th>Hartnup disease</th>\n",
       "      <td>1.0</td>\n",
       "      <td>0.0</td>\n",
       "      <td>0.0</td>\n",
       "      <td>0.0</td>\n",
       "      <td>0.0</td>\n",
       "      <td>0.0</td>\n",
       "      <td>0.0</td>\n",
       "      <td>0.0</td>\n",
       "      <td>0.0</td>\n",
       "      <td>0.0</td>\n",
       "      <td>...</td>\n",
       "      <td>0.0</td>\n",
       "      <td>0.0</td>\n",
       "      <td>0.0</td>\n",
       "      <td>0.0</td>\n",
       "      <td>0.0</td>\n",
       "      <td>0.0</td>\n",
       "      <td>0.0</td>\n",
       "      <td>0.0</td>\n",
       "      <td>0.0</td>\n",
       "      <td>0.0</td>\n",
       "    </tr>\n",
       "    <tr>\n",
       "      <th>Hordeolum</th>\n",
       "      <td>0.0</td>\n",
       "      <td>1.0</td>\n",
       "      <td>0.0</td>\n",
       "      <td>0.0</td>\n",
       "      <td>0.0</td>\n",
       "      <td>0.0</td>\n",
       "      <td>0.0</td>\n",
       "      <td>0.0</td>\n",
       "      <td>0.0</td>\n",
       "      <td>0.0</td>\n",
       "      <td>...</td>\n",
       "      <td>0.0</td>\n",
       "      <td>0.0</td>\n",
       "      <td>0.0</td>\n",
       "      <td>0.0</td>\n",
       "      <td>0.0</td>\n",
       "      <td>0.0</td>\n",
       "      <td>0.0</td>\n",
       "      <td>0.0</td>\n",
       "      <td>0.0</td>\n",
       "      <td>0.0</td>\n",
       "    </tr>\n",
       "    <tr>\n",
       "      <th>Rh isoimmunization</th>\n",
       "      <td>0.0</td>\n",
       "      <td>0.0</td>\n",
       "      <td>1.0</td>\n",
       "      <td>0.0</td>\n",
       "      <td>0.0</td>\n",
       "      <td>0.0</td>\n",
       "      <td>0.0</td>\n",
       "      <td>0.0</td>\n",
       "      <td>0.0</td>\n",
       "      <td>0.0</td>\n",
       "      <td>...</td>\n",
       "      <td>0.0</td>\n",
       "      <td>0.0</td>\n",
       "      <td>0.0</td>\n",
       "      <td>0.0</td>\n",
       "      <td>0.0</td>\n",
       "      <td>0.0</td>\n",
       "      <td>0.0</td>\n",
       "      <td>0.0</td>\n",
       "      <td>0.0</td>\n",
       "      <td>0.0</td>\n",
       "    </tr>\n",
       "    <tr>\n",
       "      <th>Diffuse idiopathic skeletal hyperostosis</th>\n",
       "      <td>0.0</td>\n",
       "      <td>0.0</td>\n",
       "      <td>0.0</td>\n",
       "      <td>1.0</td>\n",
       "      <td>0.0</td>\n",
       "      <td>0.0</td>\n",
       "      <td>0.0</td>\n",
       "      <td>0.0</td>\n",
       "      <td>0.0</td>\n",
       "      <td>0.0</td>\n",
       "      <td>...</td>\n",
       "      <td>0.0</td>\n",
       "      <td>0.0</td>\n",
       "      <td>0.0</td>\n",
       "      <td>0.0</td>\n",
       "      <td>0.0</td>\n",
       "      <td>0.0</td>\n",
       "      <td>0.0</td>\n",
       "      <td>0.0</td>\n",
       "      <td>0.0</td>\n",
       "      <td>0.0</td>\n",
       "    </tr>\n",
       "    <tr>\n",
       "      <th>Contagious pustular dermatitis</th>\n",
       "      <td>0.0</td>\n",
       "      <td>0.0</td>\n",
       "      <td>0.0</td>\n",
       "      <td>0.0</td>\n",
       "      <td>1.0</td>\n",
       "      <td>0.0</td>\n",
       "      <td>0.0</td>\n",
       "      <td>0.0</td>\n",
       "      <td>0.0</td>\n",
       "      <td>0.0</td>\n",
       "      <td>...</td>\n",
       "      <td>0.0</td>\n",
       "      <td>0.0</td>\n",
       "      <td>0.0</td>\n",
       "      <td>0.0</td>\n",
       "      <td>0.0</td>\n",
       "      <td>0.0</td>\n",
       "      <td>0.0</td>\n",
       "      <td>0.0</td>\n",
       "      <td>0.0</td>\n",
       "      <td>0.0</td>\n",
       "    </tr>\n",
       "  </tbody>\n",
       "</table>\n",
       "<p>5 rows × 3679 columns</p>\n",
       "</div>"
      ],
      "text/plain": [
       "                                          Hartnup disease  Hordeolum  \\\n",
       "Hartnup disease                                       1.0        0.0   \n",
       "Hordeolum                                             0.0        1.0   \n",
       "Rh isoimmunization                                    0.0        0.0   \n",
       "Diffuse idiopathic skeletal hyperostosis              0.0        0.0   \n",
       "Contagious pustular dermatitis                        0.0        0.0   \n",
       "\n",
       "                                          Rh isoimmunization  \\\n",
       "Hartnup disease                                          0.0   \n",
       "Hordeolum                                                0.0   \n",
       "Rh isoimmunization                                       1.0   \n",
       "Diffuse idiopathic skeletal hyperostosis                 0.0   \n",
       "Contagious pustular dermatitis                           0.0   \n",
       "\n",
       "                                          Diffuse idiopathic skeletal hyperostosis  \\\n",
       "Hartnup disease                                                                0.0   \n",
       "Hordeolum                                                                      0.0   \n",
       "Rh isoimmunization                                                             0.0   \n",
       "Diffuse idiopathic skeletal hyperostosis                                       1.0   \n",
       "Contagious pustular dermatitis                                                 0.0   \n",
       "\n",
       "                                          Contagious pustular dermatitis  \\\n",
       "Hartnup disease                                                      0.0   \n",
       "Hordeolum                                                            0.0   \n",
       "Rh isoimmunization                                                   0.0   \n",
       "Diffuse idiopathic skeletal hyperostosis                             0.0   \n",
       "Contagious pustular dermatitis                                       1.0   \n",
       "\n",
       "                                          Reticular dysgenesis  \\\n",
       "Hartnup disease                                            0.0   \n",
       "Hordeolum                                                  0.0   \n",
       "Rh isoimmunization                                         0.0   \n",
       "Diffuse idiopathic skeletal hyperostosis                   0.0   \n",
       "Contagious pustular dermatitis                             0.0   \n",
       "\n",
       "                                          Frontal sinus cancer  \\\n",
       "Hartnup disease                                            0.0   \n",
       "Hordeolum                                                  0.0   \n",
       "Rh isoimmunization                                         0.0   \n",
       "Diffuse idiopathic skeletal hyperostosis                   0.0   \n",
       "Contagious pustular dermatitis                             0.0   \n",
       "\n",
       "                                          Congenital afibrinogenemia  \\\n",
       "Hartnup disease                                                  0.0   \n",
       "Hordeolum                                                        0.0   \n",
       "Rh isoimmunization                                               0.0   \n",
       "Diffuse idiopathic skeletal hyperostosis                         0.0   \n",
       "Contagious pustular dermatitis                                   0.0   \n",
       "\n",
       "                                          Insulinoma  Hyperlysinemia  \\\n",
       "Hartnup disease                                  0.0             0.0   \n",
       "Hordeolum                                        0.0             0.0   \n",
       "Rh isoimmunization                               0.0             0.0   \n",
       "Diffuse idiopathic skeletal hyperostosis         0.0             0.0   \n",
       "Contagious pustular dermatitis                   0.0             0.0   \n",
       "\n",
       "                                                 ...           \\\n",
       "Hartnup disease                                  ...            \n",
       "Hordeolum                                        ...            \n",
       "Rh isoimmunization                               ...            \n",
       "Diffuse idiopathic skeletal hyperostosis         ...            \n",
       "Contagious pustular dermatitis                   ...            \n",
       "\n",
       "                                          Glycoproteinosis  \\\n",
       "Hartnup disease                                        0.0   \n",
       "Hordeolum                                              0.0   \n",
       "Rh isoimmunization                                     0.0   \n",
       "Diffuse idiopathic skeletal hyperostosis               0.0   \n",
       "Contagious pustular dermatitis                         0.0   \n",
       "\n",
       "                                          Bart-Pumphrey syndrome  \\\n",
       "Hartnup disease                                              0.0   \n",
       "Hordeolum                                                    0.0   \n",
       "Rh isoimmunization                                           0.0   \n",
       "Diffuse idiopathic skeletal hyperostosis                     0.0   \n",
       "Contagious pustular dermatitis                               0.0   \n",
       "\n",
       "                                          Simpson-Golabi-Behmel syndrome  \\\n",
       "Hartnup disease                                                      0.0   \n",
       "Hordeolum                                                            0.0   \n",
       "Rh isoimmunization                                                   0.0   \n",
       "Diffuse idiopathic skeletal hyperostosis                             0.0   \n",
       "Contagious pustular dermatitis                                       0.0   \n",
       "\n",
       "                                          brachydactyly-syndactyly syndrome  \\\n",
       "Hartnup disease                                                         0.0   \n",
       "Hordeolum                                                               0.0   \n",
       "Rh isoimmunization                                                      0.0   \n",
       "Diffuse idiopathic skeletal hyperostosis                                0.0   \n",
       "Contagious pustular dermatitis                                          0.0   \n",
       "\n",
       "                                          Inverted follicular keratosis  \\\n",
       "Hartnup disease                                                     0.0   \n",
       "Hordeolum                                                           0.0   \n",
       "Rh isoimmunization                                                  0.0   \n",
       "Diffuse idiopathic skeletal hyperostosis                            0.0   \n",
       "Contagious pustular dermatitis                                      0.0   \n",
       "\n",
       "                                          Mucosulfatidosis  \\\n",
       "Hartnup disease                                        0.0   \n",
       "Hordeolum                                              0.0   \n",
       "Rh isoimmunization                                     0.0   \n",
       "Diffuse idiopathic skeletal hyperostosis               0.0   \n",
       "Contagious pustular dermatitis                         0.0   \n",
       "\n",
       "                                          Chronic intestinal vascular insufficiency  \\\n",
       "Hartnup disease                                                                 0.0   \n",
       "Hordeolum                                                                       0.0   \n",
       "Rh isoimmunization                                                              0.0   \n",
       "Diffuse idiopathic skeletal hyperostosis                                        0.0   \n",
       "Contagious pustular dermatitis                                                  0.0   \n",
       "\n",
       "                                          inclusion-cell disease  Gingivitis  \\\n",
       "Hartnup disease                                              0.0         0.0   \n",
       "Hordeolum                                                    0.0         0.0   \n",
       "Rh isoimmunization                                           0.0         0.0   \n",
       "Diffuse idiopathic skeletal hyperostosis                     0.0         0.0   \n",
       "Contagious pustular dermatitis                               0.0         0.0   \n",
       "\n",
       "                                          Myositis ossificans  \n",
       "Hartnup disease                                           0.0  \n",
       "Hordeolum                                                 0.0  \n",
       "Rh isoimmunization                                        0.0  \n",
       "Diffuse idiopathic skeletal hyperostosis                  0.0  \n",
       "Contagious pustular dermatitis                            0.0  \n",
       "\n",
       "[5 rows x 3679 columns]"
      ]
     },
     "execution_count": 33,
     "metadata": {},
     "output_type": "execute_result"
    }
   ],
   "source": [
    "attribute_similarity_matix.head()"
   ]
  },
  {
   "cell_type": "markdown",
   "metadata": {},
   "source": [
    "## Save Attribute Similarity Matrix"
   ]
  },
  {
   "cell_type": "code",
   "execution_count": 34,
   "metadata": {
    "collapsed": true
   },
   "outputs": [],
   "source": [
    "filename = '~/./Documents/Harmonizome/Jensen/Disease/Output/jensen_disease_attribute_similarity_matix_%s.tsv.zip'% str(datetime.date.today())[0:7].replace('-', '_')\n",
    "attribute_similarity_matix.to_csv(filename, sep='\\t', compression='gzip')"
   ]
  },
  {
   "cell_type": "markdown",
   "metadata": {},
   "source": [
    "# Create Gene List"
   ]
  },
  {
   "cell_type": "code",
   "execution_count": 35,
   "metadata": {},
   "outputs": [
    {
     "name": "stdout",
     "output_type": "stream",
     "text": [
      "Progeres: 100%  13149 Out of 13149   \r"
     ]
    }
   ],
   "source": [
    "gene_list = uf.createGeneList(binary_matrix)"
   ]
  },
  {
   "cell_type": "code",
   "execution_count": 36,
   "metadata": {},
   "outputs": [
    {
     "data": {
      "text/html": [
       "<div>\n",
       "<table border=\"1\" class=\"dataframe\">\n",
       "  <thead>\n",
       "    <tr style=\"text-align: right;\">\n",
       "      <th></th>\n",
       "      <th>GeneSym</th>\n",
       "      <th>GeneID</th>\n",
       "    </tr>\n",
       "  </thead>\n",
       "  <tbody>\n",
       "    <tr>\n",
       "      <th>0</th>\n",
       "      <td>FZD3</td>\n",
       "      <td>7976</td>\n",
       "    </tr>\n",
       "    <tr>\n",
       "      <th>1</th>\n",
       "      <td>INTS11</td>\n",
       "      <td>54973</td>\n",
       "    </tr>\n",
       "    <tr>\n",
       "      <th>2</th>\n",
       "      <td>CTDP1</td>\n",
       "      <td>9150</td>\n",
       "    </tr>\n",
       "    <tr>\n",
       "      <th>3</th>\n",
       "      <td>PHKG1</td>\n",
       "      <td>5260</td>\n",
       "    </tr>\n",
       "    <tr>\n",
       "      <th>4</th>\n",
       "      <td>CCDC155</td>\n",
       "      <td>147872</td>\n",
       "    </tr>\n",
       "  </tbody>\n",
       "</table>\n",
       "</div>"
      ],
      "text/plain": [
       "   GeneSym  GeneID\n",
       "0     FZD3    7976\n",
       "1   INTS11   54973\n",
       "2    CTDP1    9150\n",
       "3    PHKG1    5260\n",
       "4  CCDC155  147872"
      ]
     },
     "execution_count": 36,
     "metadata": {},
     "output_type": "execute_result"
    }
   ],
   "source": [
    "gene_list.head()"
   ]
  },
  {
   "cell_type": "code",
   "execution_count": 37,
   "metadata": {},
   "outputs": [
    {
     "data": {
      "text/plain": [
       "(13149, 2)"
      ]
     },
     "execution_count": 37,
     "metadata": {},
     "output_type": "execute_result"
    }
   ],
   "source": [
    "gene_list.shape"
   ]
  },
  {
   "cell_type": "markdown",
   "metadata": {},
   "source": [
    "### Save Gene List"
   ]
  },
  {
   "cell_type": "code",
   "execution_count": 38,
   "metadata": {
    "collapsed": true
   },
   "outputs": [],
   "source": [
    "filename = '~/./Documents/Harmonizome/Jensen/Disease/Output/jensen_disease_gene_list_%s.tsv.zip'% str(datetime.date.today())[0:7].replace('-', '_')\n",
    "gene_list.to_csv(filename, sep='\\t', index=False, compression='gzip')"
   ]
  },
  {
   "cell_type": "markdown",
   "metadata": {},
   "source": [
    "# Create Attribute List "
   ]
  },
  {
   "cell_type": "code",
   "execution_count": 39,
   "metadata": {
    "collapsed": true
   },
   "outputs": [],
   "source": [
    "attribute_list = uf.createAttributeList(binary_matrix)"
   ]
  },
  {
   "cell_type": "code",
   "execution_count": 40,
   "metadata": {},
   "outputs": [
    {
     "data": {
      "text/html": [
       "<div>\n",
       "<table border=\"1\" class=\"dataframe\">\n",
       "  <thead>\n",
       "    <tr style=\"text-align: right;\">\n",
       "      <th></th>\n",
       "      <th>Attributes</th>\n",
       "    </tr>\n",
       "  </thead>\n",
       "  <tbody>\n",
       "    <tr>\n",
       "      <th>0</th>\n",
       "      <td>Hartnup disease</td>\n",
       "    </tr>\n",
       "    <tr>\n",
       "      <th>1</th>\n",
       "      <td>Hordeolum</td>\n",
       "    </tr>\n",
       "    <tr>\n",
       "      <th>2</th>\n",
       "      <td>Rh isoimmunization</td>\n",
       "    </tr>\n",
       "    <tr>\n",
       "      <th>3</th>\n",
       "      <td>Diffuse idiopathic skeletal hyperostosis</td>\n",
       "    </tr>\n",
       "    <tr>\n",
       "      <th>4</th>\n",
       "      <td>Contagious pustular dermatitis</td>\n",
       "    </tr>\n",
       "  </tbody>\n",
       "</table>\n",
       "</div>"
      ],
      "text/plain": [
       "                                 Attributes\n",
       "0                           Hartnup disease\n",
       "1                                 Hordeolum\n",
       "2                        Rh isoimmunization\n",
       "3  Diffuse idiopathic skeletal hyperostosis\n",
       "4            Contagious pustular dermatitis"
      ]
     },
     "execution_count": 40,
     "metadata": {},
     "output_type": "execute_result"
    }
   ],
   "source": [
    "attribute_list.head()"
   ]
  },
  {
   "cell_type": "code",
   "execution_count": 41,
   "metadata": {},
   "outputs": [
    {
     "data": {
      "text/plain": [
       "(3679, 1)"
      ]
     },
     "execution_count": 41,
     "metadata": {},
     "output_type": "execute_result"
    }
   ],
   "source": [
    "attribute_list.shape"
   ]
  },
  {
   "cell_type": "markdown",
   "metadata": {},
   "source": [
    "### Save Attribute List"
   ]
  },
  {
   "cell_type": "code",
   "execution_count": 42,
   "metadata": {
    "collapsed": true
   },
   "outputs": [],
   "source": [
    "filename = '~/./Documents/Harmonizome/Jensen/Disease/Output/jensen_disease_attribute_list_%s.tsv.zip'% str(datetime.date.today())[0:7].replace('-', '_')\n",
    "attribute_list.to_csv(filename, sep='\\t', index=False, compression='gzip')"
   ]
  },
  {
   "cell_type": "markdown",
   "metadata": {},
   "source": [
    "# Create Gene-Attribute Edge List"
   ]
  },
  {
   "cell_type": "code",
   "execution_count": 43,
   "metadata": {},
   "outputs": [
    {
     "name": "stdout",
     "output_type": "stream",
     "text": [
      "Progeres: 100%  3679 Out of 3679   \r"
     ]
    }
   ],
   "source": [
    "gene_attribute_edge_list = uf.createGeneAttributeEdgeList(binary_matrix, gene_list)"
   ]
  },
  {
   "cell_type": "code",
   "execution_count": 44,
   "metadata": {},
   "outputs": [
    {
     "data": {
      "text/html": [
       "<div>\n",
       "<table border=\"1\" class=\"dataframe\">\n",
       "  <thead>\n",
       "    <tr style=\"text-align: right;\">\n",
       "      <th></th>\n",
       "      <th>Attribute</th>\n",
       "      <th>Gene</th>\n",
       "      <th>GeneID</th>\n",
       "      <th>Weight</th>\n",
       "    </tr>\n",
       "  </thead>\n",
       "  <tbody>\n",
       "    <tr>\n",
       "      <th>0</th>\n",
       "      <td>Hartnup disease</td>\n",
       "      <td>FZD3</td>\n",
       "      <td>7976</td>\n",
       "      <td>0.0</td>\n",
       "    </tr>\n",
       "    <tr>\n",
       "      <th>1</th>\n",
       "      <td>Hartnup disease</td>\n",
       "      <td>INTS11</td>\n",
       "      <td>54973</td>\n",
       "      <td>0.0</td>\n",
       "    </tr>\n",
       "    <tr>\n",
       "      <th>2</th>\n",
       "      <td>Hartnup disease</td>\n",
       "      <td>CTDP1</td>\n",
       "      <td>9150</td>\n",
       "      <td>0.0</td>\n",
       "    </tr>\n",
       "    <tr>\n",
       "      <th>3</th>\n",
       "      <td>Hartnup disease</td>\n",
       "      <td>PHKG1</td>\n",
       "      <td>5260</td>\n",
       "      <td>0.0</td>\n",
       "    </tr>\n",
       "    <tr>\n",
       "      <th>4</th>\n",
       "      <td>Hartnup disease</td>\n",
       "      <td>CCDC155</td>\n",
       "      <td>147872</td>\n",
       "      <td>0.0</td>\n",
       "    </tr>\n",
       "  </tbody>\n",
       "</table>\n",
       "</div>"
      ],
      "text/plain": [
       "         Attribute     Gene  GeneID  Weight\n",
       "0  Hartnup disease     FZD3    7976     0.0\n",
       "1  Hartnup disease   INTS11   54973     0.0\n",
       "2  Hartnup disease    CTDP1    9150     0.0\n",
       "3  Hartnup disease    PHKG1    5260     0.0\n",
       "4  Hartnup disease  CCDC155  147872     0.0"
      ]
     },
     "execution_count": 44,
     "metadata": {},
     "output_type": "execute_result"
    }
   ],
   "source": [
    "gene_attribute_edge_list.head()"
   ]
  },
  {
   "cell_type": "code",
   "execution_count": 45,
   "metadata": {},
   "outputs": [
    {
     "data": {
      "text/plain": [
       "(48375171, 4)"
      ]
     },
     "execution_count": 45,
     "metadata": {},
     "output_type": "execute_result"
    }
   ],
   "source": [
    "gene_attribute_edge_list.shape"
   ]
  },
  {
   "cell_type": "markdown",
   "metadata": {},
   "source": [
    "### Get Number of (Statistically Relevant) Gene-Attribute Associations"
   ]
  },
  {
   "cell_type": "code",
   "execution_count": 46,
   "metadata": {},
   "outputs": [
    {
     "data": {
      "text/plain": [
       "(52079, 4)"
      ]
     },
     "execution_count": 46,
     "metadata": {},
     "output_type": "execute_result"
    }
   ],
   "source": [
    "gene_attribute_edge_list[gene_attribute_edge_list['Weight'] != 0].shape"
   ]
  },
  {
   "cell_type": "markdown",
   "metadata": {},
   "source": [
    "### Save Gene-Attribute Edge List"
   ]
  },
  {
   "cell_type": "code",
   "execution_count": 47,
   "metadata": {
    "collapsed": true
   },
   "outputs": [],
   "source": [
    "filename = '~/./Documents/Harmonizome/Jensen/Disease/Output/jensen_disease_gene_attribute_edge_list_%s.tsv.zip'% str(datetime.date.today())[0:7].replace('-', '_')\n",
    "gene_attribute_edge_list.to_csv(filename, sep='\\t', index=False, compression='gzip')"
   ]
  }
 ],
 "metadata": {
  "kernelspec": {
   "display_name": "Python [default]",
   "language": "python",
   "name": "python3"
  },
  "language_info": {
   "codemirror_mode": {
    "name": "ipython",
    "version": 3
   },
   "file_extension": ".py",
   "mimetype": "text/x-python",
   "name": "python",
   "nbconvert_exporter": "python",
   "pygments_lexer": "ipython3",
   "version": "3.5.2"
  }
 },
 "nbformat": 4,
 "nbformat_minor": 2
}
