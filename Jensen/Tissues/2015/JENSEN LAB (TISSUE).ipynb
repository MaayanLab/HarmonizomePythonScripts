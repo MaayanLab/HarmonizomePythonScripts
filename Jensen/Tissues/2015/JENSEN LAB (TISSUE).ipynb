{
 "cells": [
  {
   "cell_type": "markdown",
   "metadata": {},
   "source": [
    "# JENSEN LAB (TISSUE)"
   ]
  },
  {
   "cell_type": "markdown",
   "metadata": {},
   "source": [
    "Author: Moshe Silverstein <br/>\n",
    "Date: 7-17 <br/>\n",
    "Data Source: http://tissues.jensenlab.org/Search"
   ]
  },
  {
   "cell_type": "code",
   "execution_count": 1,
   "metadata": {
    "collapsed": true
   },
   "outputs": [],
   "source": [
    "import sys, datetime\n",
    "import numpy as np\n",
    "import pandas as pd\n",
    "import importlib\n",
    "import untility_functions as uf\n",
    "%matplotlib inline"
   ]
  },
  {
   "cell_type": "code",
   "execution_count": 2,
   "metadata": {},
   "outputs": [
    {
     "data": {
      "text/plain": [
       "<module 'untility_functions' from '/Users/moshesilverstein/Documents/Harmonizome/Jensen/Tissues/untility_functions.py'>"
      ]
     },
     "execution_count": 2,
     "metadata": {},
     "output_type": "execute_result"
    }
   ],
   "source": [
    "importlib.reload(uf)"
   ]
  },
  {
   "cell_type": "markdown",
   "metadata": {},
   "source": [
    "# LOAD DATA"
   ]
  },
  {
   "cell_type": "code",
   "execution_count": 3,
   "metadata": {
    "collapsed": true
   },
   "outputs": [],
   "source": [
    "col = ['Ensemble Acc', 'GeneSym', 'BTO', 'Tissue', 'Source', 'SampleInfo', 'Value']"
   ]
  },
  {
   "cell_type": "code",
   "execution_count": 4,
   "metadata": {
    "collapsed": true
   },
   "outputs": [],
   "source": [
    "dfE = pd.read_csv('Input/human_tissue_experiments_filtered.tsv', sep='\\t', names=col)"
   ]
  },
  {
   "cell_type": "code",
   "execution_count": 5,
   "metadata": {
    "collapsed": true
   },
   "outputs": [],
   "source": [
    "dfK = pd.read_csv('Input/human_tissue_knowledge_filtered.tsv', sep='\\t', names=col)"
   ]
  },
  {
   "cell_type": "code",
   "execution_count": 6,
   "metadata": {
    "collapsed": true
   },
   "outputs": [],
   "source": [
    "dfT = pd.read_csv('Input/human_tissue_textmining_filtered.tsv', sep='\\t', names=col)"
   ]
  },
  {
   "cell_type": "code",
   "execution_count": 7,
   "metadata": {
    "collapsed": true
   },
   "outputs": [],
   "source": [
    "df = pd.concat([dfE, dfK, dfT])"
   ]
  },
  {
   "cell_type": "code",
   "execution_count": 8,
   "metadata": {},
   "outputs": [
    {
     "data": {
      "text/html": [
       "<div>\n",
       "<table border=\"1\" class=\"dataframe\">\n",
       "  <thead>\n",
       "    <tr style=\"text-align: right;\">\n",
       "      <th></th>\n",
       "      <th>Ensemble Acc</th>\n",
       "      <th>GeneSym</th>\n",
       "      <th>BTO</th>\n",
       "      <th>Tissue</th>\n",
       "      <th>Source</th>\n",
       "      <th>SampleInfo</th>\n",
       "      <th>Value</th>\n",
       "    </tr>\n",
       "  </thead>\n",
       "  <tbody>\n",
       "    <tr>\n",
       "      <th>0</th>\n",
       "      <td>ENSP00000000233</td>\n",
       "      <td>ARF5</td>\n",
       "      <td>BTO:0000041</td>\n",
       "      <td>Medulla oblongata</td>\n",
       "      <td>GNF</td>\n",
       "      <td>103 Intensity units</td>\n",
       "      <td>0</td>\n",
       "    </tr>\n",
       "    <tr>\n",
       "      <th>1</th>\n",
       "      <td>ENSP00000000233</td>\n",
       "      <td>ARF5</td>\n",
       "      <td>BTO:0000045</td>\n",
       "      <td>Adrenal cortex</td>\n",
       "      <td>GNF</td>\n",
       "      <td>50 Intensity units</td>\n",
       "      <td>0</td>\n",
       "    </tr>\n",
       "    <tr>\n",
       "      <th>2</th>\n",
       "      <td>ENSP00000000233</td>\n",
       "      <td>ARF5</td>\n",
       "      <td>BTO:0000047</td>\n",
       "      <td>Adrenal gland</td>\n",
       "      <td>HPA-RNA</td>\n",
       "      <td>61.1 FPKM</td>\n",
       "      <td>1</td>\n",
       "    </tr>\n",
       "    <tr>\n",
       "      <th>3</th>\n",
       "      <td>ENSP00000000233</td>\n",
       "      <td>ARF5</td>\n",
       "      <td>BTO:0000047</td>\n",
       "      <td>Adrenal gland</td>\n",
       "      <td>HPM</td>\n",
       "      <td>6 peptides</td>\n",
       "      <td>0</td>\n",
       "    </tr>\n",
       "    <tr>\n",
       "      <th>4</th>\n",
       "      <td>ENSP00000000233</td>\n",
       "      <td>ARF5</td>\n",
       "      <td>BTO:0000084</td>\n",
       "      <td>Vermiform appendix</td>\n",
       "      <td>Exon array</td>\n",
       "      <td>151 intensity units</td>\n",
       "      <td>0</td>\n",
       "    </tr>\n",
       "  </tbody>\n",
       "</table>\n",
       "</div>"
      ],
      "text/plain": [
       "      Ensemble Acc GeneSym          BTO              Tissue      Source  \\\n",
       "0  ENSP00000000233    ARF5  BTO:0000041   Medulla oblongata         GNF   \n",
       "1  ENSP00000000233    ARF5  BTO:0000045      Adrenal cortex         GNF   \n",
       "2  ENSP00000000233    ARF5  BTO:0000047       Adrenal gland     HPA-RNA   \n",
       "3  ENSP00000000233    ARF5  BTO:0000047       Adrenal gland         HPM   \n",
       "4  ENSP00000000233    ARF5  BTO:0000084  Vermiform appendix  Exon array   \n",
       "\n",
       "            SampleInfo Value  \n",
       "0  103 Intensity units     0  \n",
       "1   50 Intensity units     0  \n",
       "2            61.1 FPKM     1  \n",
       "3           6 peptides     0  \n",
       "4  151 intensity units     0  "
      ]
     },
     "execution_count": 8,
     "metadata": {},
     "output_type": "execute_result"
    }
   ],
   "source": [
    "df.head()"
   ]
  },
  {
   "cell_type": "code",
   "execution_count": 9,
   "metadata": {},
   "outputs": [
    {
     "data": {
      "text/plain": [
       "(1732815, 7)"
      ]
     },
     "execution_count": 9,
     "metadata": {},
     "output_type": "execute_result"
    }
   ],
   "source": [
    "df.shape"
   ]
  },
  {
   "cell_type": "markdown",
   "metadata": {},
   "source": [
    "# Get Only Gene-Tissue Data"
   ]
  },
  {
   "cell_type": "code",
   "execution_count": 10,
   "metadata": {
    "collapsed": true
   },
   "outputs": [],
   "source": [
    "df = df[df['Value'] != 0]"
   ]
  },
  {
   "cell_type": "code",
   "execution_count": 11,
   "metadata": {
    "collapsed": true
   },
   "outputs": [],
   "source": [
    "df = df[['GeneSym', 'Tissue']]"
   ]
  },
  {
   "cell_type": "code",
   "execution_count": 12,
   "metadata": {
    "collapsed": true
   },
   "outputs": [],
   "source": [
    "df.drop_duplicates(inplace=True)"
   ]
  },
  {
   "cell_type": "code",
   "execution_count": 13,
   "metadata": {
    "collapsed": true
   },
   "outputs": [],
   "source": [
    "df.set_index('GeneSym', inplace=True)"
   ]
  },
  {
   "cell_type": "code",
   "execution_count": 14,
   "metadata": {},
   "outputs": [
    {
     "data": {
      "text/html": [
       "<div>\n",
       "<table border=\"1\" class=\"dataframe\">\n",
       "  <thead>\n",
       "    <tr style=\"text-align: right;\">\n",
       "      <th></th>\n",
       "      <th>Tissue</th>\n",
       "    </tr>\n",
       "    <tr>\n",
       "      <th>GeneSym</th>\n",
       "      <th></th>\n",
       "    </tr>\n",
       "  </thead>\n",
       "  <tbody>\n",
       "    <tr>\n",
       "      <th>ARF5</th>\n",
       "      <td>Adrenal gland</td>\n",
       "    </tr>\n",
       "    <tr>\n",
       "      <th>ARF5</th>\n",
       "      <td>Vermiform appendix</td>\n",
       "    </tr>\n",
       "    <tr>\n",
       "      <th>ARF5</th>\n",
       "      <td>Blood</td>\n",
       "    </tr>\n",
       "    <tr>\n",
       "      <th>ARF5</th>\n",
       "      <td>Bone marrow</td>\n",
       "    </tr>\n",
       "    <tr>\n",
       "      <th>ARF5</th>\n",
       "      <td>Brain</td>\n",
       "    </tr>\n",
       "  </tbody>\n",
       "</table>\n",
       "</div>"
      ],
      "text/plain": [
       "                     Tissue\n",
       "GeneSym                    \n",
       "ARF5          Adrenal gland\n",
       "ARF5     Vermiform appendix\n",
       "ARF5                  Blood\n",
       "ARF5            Bone marrow\n",
       "ARF5                  Brain"
      ]
     },
     "execution_count": 14,
     "metadata": {},
     "output_type": "execute_result"
    }
   ],
   "source": [
    "df.head()"
   ]
  },
  {
   "cell_type": "code",
   "execution_count": 15,
   "metadata": {},
   "outputs": [
    {
     "data": {
      "text/plain": [
       "(440455, 1)"
      ]
     },
     "execution_count": 15,
     "metadata": {},
     "output_type": "execute_result"
    }
   ],
   "source": [
    "df.shape"
   ]
  },
  {
   "cell_type": "markdown",
   "metadata": {},
   "source": [
    "# Map Gene Symbols To Up-to-date Approved Gene Symbols"
   ]
  },
  {
   "cell_type": "code",
   "execution_count": 16,
   "metadata": {},
   "outputs": [
    {
     "name": "stdout",
     "output_type": "stream",
     "text": [
      "Progeres: 99%  440390 Out of 440455   \r"
     ]
    }
   ],
   "source": [
    "uf.mapgenesymbols(df)"
   ]
  },
  {
   "cell_type": "code",
   "execution_count": 17,
   "metadata": {},
   "outputs": [],
   "source": [
    "df.shape"
   ]
  },
  {
   "cell_type": "markdown",
   "metadata": {},
   "source": [
    "# Create Binary Matrix"
   ]
  },
  {
   "cell_type": "code",
   "execution_count": 18,
   "metadata": {
    "collapsed": true
   },
   "outputs": [],
   "source": [
    "df.reset_index(inplace=True)"
   ]
  },
  {
   "cell_type": "code",
   "execution_count": 19,
   "metadata": {},
   "outputs": [
    {
     "name": "stdout",
     "output_type": "stream",
     "text": [
      "Progeres: 100%  18565 Out of 18565   \r"
     ]
    }
   ],
   "source": [
    "binary_matrix = uf.createBinaryMatix(df)"
   ]
  },
  {
   "cell_type": "code",
   "execution_count": 20,
   "metadata": {},
   "outputs": [
    {
     "data": {
      "text/html": [
       "<div>\n",
       "<table border=\"1\" class=\"dataframe\">\n",
       "  <thead>\n",
       "    <tr style=\"text-align: right;\">\n",
       "      <th></th>\n",
       "      <th>Oc cell</th>\n",
       "      <th>MC3T3-E1 cell</th>\n",
       "      <th>colo684</th>\n",
       "      <th>MSTO-211H cell</th>\n",
       "      <th>Inner medullary collecting duct</th>\n",
       "      <th>Middle ear</th>\n",
       "      <th>Photophore</th>\n",
       "      <th>Bursa copulatrix</th>\n",
       "      <th>Parahippocampal gyrus</th>\n",
       "      <th>A-1235 cell</th>\n",
       "      <th>...</th>\n",
       "      <th>Meynert's basal nucleus</th>\n",
       "      <th>wehi279</th>\n",
       "      <th>sv3t3</th>\n",
       "      <th>Parietal ganglion</th>\n",
       "      <th>Embryogenic cell line</th>\n",
       "      <th>dh14</th>\n",
       "      <th>Respiratory epithelium cell</th>\n",
       "      <th>gpe86</th>\n",
       "      <th>c6bu1</th>\n",
       "      <th>Abductor</th>\n",
       "    </tr>\n",
       "  </thead>\n",
       "  <tbody>\n",
       "    <tr>\n",
       "      <th>LRRN1</th>\n",
       "      <td>0</td>\n",
       "      <td>0</td>\n",
       "      <td>0</td>\n",
       "      <td>0</td>\n",
       "      <td>0</td>\n",
       "      <td>0</td>\n",
       "      <td>0</td>\n",
       "      <td>0</td>\n",
       "      <td>0</td>\n",
       "      <td>0</td>\n",
       "      <td>...</td>\n",
       "      <td>0</td>\n",
       "      <td>0</td>\n",
       "      <td>0</td>\n",
       "      <td>0</td>\n",
       "      <td>0</td>\n",
       "      <td>0</td>\n",
       "      <td>0</td>\n",
       "      <td>0</td>\n",
       "      <td>0</td>\n",
       "      <td>0</td>\n",
       "    </tr>\n",
       "    <tr>\n",
       "      <th>GJD4</th>\n",
       "      <td>0</td>\n",
       "      <td>0</td>\n",
       "      <td>0</td>\n",
       "      <td>0</td>\n",
       "      <td>0</td>\n",
       "      <td>0</td>\n",
       "      <td>0</td>\n",
       "      <td>0</td>\n",
       "      <td>0</td>\n",
       "      <td>0</td>\n",
       "      <td>...</td>\n",
       "      <td>0</td>\n",
       "      <td>0</td>\n",
       "      <td>0</td>\n",
       "      <td>0</td>\n",
       "      <td>0</td>\n",
       "      <td>0</td>\n",
       "      <td>0</td>\n",
       "      <td>0</td>\n",
       "      <td>0</td>\n",
       "      <td>0</td>\n",
       "    </tr>\n",
       "    <tr>\n",
       "      <th>GPX8</th>\n",
       "      <td>0</td>\n",
       "      <td>0</td>\n",
       "      <td>0</td>\n",
       "      <td>0</td>\n",
       "      <td>0</td>\n",
       "      <td>0</td>\n",
       "      <td>0</td>\n",
       "      <td>0</td>\n",
       "      <td>0</td>\n",
       "      <td>0</td>\n",
       "      <td>...</td>\n",
       "      <td>0</td>\n",
       "      <td>0</td>\n",
       "      <td>0</td>\n",
       "      <td>0</td>\n",
       "      <td>0</td>\n",
       "      <td>0</td>\n",
       "      <td>0</td>\n",
       "      <td>0</td>\n",
       "      <td>0</td>\n",
       "      <td>0</td>\n",
       "    </tr>\n",
       "    <tr>\n",
       "      <th>DNAL1</th>\n",
       "      <td>0</td>\n",
       "      <td>0</td>\n",
       "      <td>0</td>\n",
       "      <td>0</td>\n",
       "      <td>0</td>\n",
       "      <td>0</td>\n",
       "      <td>0</td>\n",
       "      <td>0</td>\n",
       "      <td>0</td>\n",
       "      <td>0</td>\n",
       "      <td>...</td>\n",
       "      <td>0</td>\n",
       "      <td>0</td>\n",
       "      <td>0</td>\n",
       "      <td>0</td>\n",
       "      <td>0</td>\n",
       "      <td>0</td>\n",
       "      <td>0</td>\n",
       "      <td>0</td>\n",
       "      <td>0</td>\n",
       "      <td>0</td>\n",
       "    </tr>\n",
       "    <tr>\n",
       "      <th>NKAP</th>\n",
       "      <td>0</td>\n",
       "      <td>0</td>\n",
       "      <td>0</td>\n",
       "      <td>0</td>\n",
       "      <td>0</td>\n",
       "      <td>0</td>\n",
       "      <td>0</td>\n",
       "      <td>0</td>\n",
       "      <td>0</td>\n",
       "      <td>0</td>\n",
       "      <td>...</td>\n",
       "      <td>0</td>\n",
       "      <td>0</td>\n",
       "      <td>0</td>\n",
       "      <td>0</td>\n",
       "      <td>0</td>\n",
       "      <td>0</td>\n",
       "      <td>0</td>\n",
       "      <td>0</td>\n",
       "      <td>0</td>\n",
       "      <td>0</td>\n",
       "    </tr>\n",
       "  </tbody>\n",
       "</table>\n",
       "<p>5 rows × 4098 columns</p>\n",
       "</div>"
      ],
      "text/plain": [
       "       Oc cell  MC3T3-E1 cell  colo684  MSTO-211H cell  \\\n",
       "LRRN1        0              0        0               0   \n",
       "GJD4         0              0        0               0   \n",
       "GPX8         0              0        0               0   \n",
       "DNAL1        0              0        0               0   \n",
       "NKAP         0              0        0               0   \n",
       "\n",
       "       Inner medullary collecting duct  Middle ear  Photophore  \\\n",
       "LRRN1                                0           0           0   \n",
       "GJD4                                 0           0           0   \n",
       "GPX8                                 0           0           0   \n",
       "DNAL1                                0           0           0   \n",
       "NKAP                                 0           0           0   \n",
       "\n",
       "       Bursa copulatrix  Parahippocampal gyrus  A-1235 cell    ...     \\\n",
       "LRRN1                 0                      0            0    ...      \n",
       "GJD4                  0                      0            0    ...      \n",
       "GPX8                  0                      0            0    ...      \n",
       "DNAL1                 0                      0            0    ...      \n",
       "NKAP                  0                      0            0    ...      \n",
       "\n",
       "       Meynert's basal nucleus  wehi279  sv3t3  Parietal ganglion  \\\n",
       "LRRN1                        0        0      0                  0   \n",
       "GJD4                         0        0      0                  0   \n",
       "GPX8                         0        0      0                  0   \n",
       "DNAL1                        0        0      0                  0   \n",
       "NKAP                         0        0      0                  0   \n",
       "\n",
       "       Embryogenic cell line  dh14  Respiratory epithelium cell  gpe86  c6bu1  \\\n",
       "LRRN1                      0     0                            0      0      0   \n",
       "GJD4                       0     0                            0      0      0   \n",
       "GPX8                       0     0                            0      0      0   \n",
       "DNAL1                      0     0                            0      0      0   \n",
       "NKAP                       0     0                            0      0      0   \n",
       "\n",
       "       Abductor  \n",
       "LRRN1         0  \n",
       "GJD4          0  \n",
       "GPX8          0  \n",
       "DNAL1         0  \n",
       "NKAP          0  \n",
       "\n",
       "[5 rows x 4098 columns]"
      ]
     },
     "execution_count": 20,
     "metadata": {},
     "output_type": "execute_result"
    }
   ],
   "source": [
    "binary_matrix.head()"
   ]
  },
  {
   "cell_type": "code",
   "execution_count": 21,
   "metadata": {},
   "outputs": [
    {
     "data": {
      "text/plain": [
       "(18565, 4098)"
      ]
     },
     "execution_count": 21,
     "metadata": {},
     "output_type": "execute_result"
    }
   ],
   "source": [
    "binary_matrix.shape"
   ]
  },
  {
   "cell_type": "markdown",
   "metadata": {},
   "source": [
    "# Save Binary Matrix"
   ]
  },
  {
   "cell_type": "code",
   "execution_count": 22,
   "metadata": {
    "collapsed": true
   },
   "outputs": [],
   "source": [
    "filename = '~/./Documents/Harmonizome/Jensen/Tissues/Output/jensen_tissue_binary_matrix_%s.tsv.zip'% str(datetime.date.today())[0:7].replace('-', '_')\n",
    "binary_matrix.to_csv(filename, sep='\\t', compression='gzip')"
   ]
  },
  {
   "cell_type": "markdown",
   "metadata": {},
   "source": [
    "# Create Gene Set Library"
   ]
  },
  {
   "cell_type": "code",
   "execution_count": 23,
   "metadata": {
    "collapsed": true
   },
   "outputs": [],
   "source": [
    "path = '/Users/moshesilverstein/Documents/Harmonizome/Jensen/Tissues/Output/'"
   ]
  },
  {
   "cell_type": "code",
   "execution_count": 24,
   "metadata": {
    "collapsed": true
   },
   "outputs": [],
   "source": [
    "name = 'jensen_tissue_gene_set'"
   ]
  },
  {
   "cell_type": "code",
   "execution_count": 25,
   "metadata": {},
   "outputs": [
    {
     "name": "stdout",
     "output_type": "stream",
     "text": [
      "Progeres: 100%  4098 Out of 4098   \r"
     ]
    }
   ],
   "source": [
    "uf.createUpGeneSetLib(binary_matrix, path, name)"
   ]
  },
  {
   "cell_type": "markdown",
   "metadata": {},
   "source": [
    "# Create Attribute Library"
   ]
  },
  {
   "cell_type": "code",
   "execution_count": 26,
   "metadata": {
    "collapsed": true
   },
   "outputs": [],
   "source": [
    "path = '/Users/moshesilverstein/Documents/Harmonizome/Jensen/Tissues/Output/'"
   ]
  },
  {
   "cell_type": "code",
   "execution_count": 27,
   "metadata": {
    "collapsed": true
   },
   "outputs": [],
   "source": [
    "name = 'jensen_tissue_attribute_set'"
   ]
  },
  {
   "cell_type": "code",
   "execution_count": 28,
   "metadata": {},
   "outputs": [
    {
     "name": "stdout",
     "output_type": "stream",
     "text": [
      "Progeres: 100%  18565 Out of 18565   \r"
     ]
    }
   ],
   "source": [
    "uf.createUpAttributeSetLib(binary_matrix, path, name)"
   ]
  },
  {
   "cell_type": "markdown",
   "metadata": {},
   "source": [
    "# Create Gene Similarity Matrix"
   ]
  },
  {
   "cell_type": "code",
   "execution_count": 29,
   "metadata": {
    "collapsed": true
   },
   "outputs": [],
   "source": [
    "gene_similarity_matix = uf.createSimilarityMatrix(binary_matrix, 'jaccard')"
   ]
  },
  {
   "cell_type": "code",
   "execution_count": 30,
   "metadata": {},
   "outputs": [
    {
     "data": {
      "text/html": [
       "<div>\n",
       "<table border=\"1\" class=\"dataframe\">\n",
       "  <thead>\n",
       "    <tr style=\"text-align: right;\">\n",
       "      <th></th>\n",
       "      <th>LRRN1</th>\n",
       "      <th>GJD4</th>\n",
       "      <th>GPX8</th>\n",
       "      <th>DNAL1</th>\n",
       "      <th>NKAP</th>\n",
       "      <th>SMAP1</th>\n",
       "      <th>DNAJC7</th>\n",
       "      <th>HSPA1L</th>\n",
       "      <th>RAB40B</th>\n",
       "      <th>KIF21B</th>\n",
       "      <th>...</th>\n",
       "      <th>GGTLC1</th>\n",
       "      <th>P2RX1</th>\n",
       "      <th>CFAP206</th>\n",
       "      <th>VWA1</th>\n",
       "      <th>PDIA2</th>\n",
       "      <th>HMX1</th>\n",
       "      <th>ADGRL4</th>\n",
       "      <th>AMT</th>\n",
       "      <th>ZNF618</th>\n",
       "      <th>RNF5</th>\n",
       "    </tr>\n",
       "  </thead>\n",
       "  <tbody>\n",
       "    <tr>\n",
       "      <th>LRRN1</th>\n",
       "      <td>1.000000</td>\n",
       "      <td>0.037037</td>\n",
       "      <td>0.090909</td>\n",
       "      <td>0.157895</td>\n",
       "      <td>0.081081</td>\n",
       "      <td>0.119048</td>\n",
       "      <td>0.116667</td>\n",
       "      <td>0.068966</td>\n",
       "      <td>0.133333</td>\n",
       "      <td>0.136364</td>\n",
       "      <td>...</td>\n",
       "      <td>0.058824</td>\n",
       "      <td>0.060606</td>\n",
       "      <td>0.117647</td>\n",
       "      <td>0.088235</td>\n",
       "      <td>0.066667</td>\n",
       "      <td>0.0</td>\n",
       "      <td>0.033333</td>\n",
       "      <td>0.115385</td>\n",
       "      <td>0.083333</td>\n",
       "      <td>0.061224</td>\n",
       "    </tr>\n",
       "    <tr>\n",
       "      <th>GJD4</th>\n",
       "      <td>0.037037</td>\n",
       "      <td>1.000000</td>\n",
       "      <td>0.000000</td>\n",
       "      <td>0.090909</td>\n",
       "      <td>0.166667</td>\n",
       "      <td>0.225000</td>\n",
       "      <td>0.131148</td>\n",
       "      <td>0.031250</td>\n",
       "      <td>0.090909</td>\n",
       "      <td>0.130435</td>\n",
       "      <td>...</td>\n",
       "      <td>0.052632</td>\n",
       "      <td>0.088235</td>\n",
       "      <td>0.000000</td>\n",
       "      <td>0.054054</td>\n",
       "      <td>0.030303</td>\n",
       "      <td>0.0</td>\n",
       "      <td>0.000000</td>\n",
       "      <td>0.224490</td>\n",
       "      <td>0.200000</td>\n",
       "      <td>0.080000</td>\n",
       "    </tr>\n",
       "    <tr>\n",
       "      <th>GPX8</th>\n",
       "      <td>0.090909</td>\n",
       "      <td>0.000000</td>\n",
       "      <td>1.000000</td>\n",
       "      <td>0.250000</td>\n",
       "      <td>0.085714</td>\n",
       "      <td>0.285714</td>\n",
       "      <td>0.181818</td>\n",
       "      <td>0.160000</td>\n",
       "      <td>0.066667</td>\n",
       "      <td>0.066667</td>\n",
       "      <td>...</td>\n",
       "      <td>0.142857</td>\n",
       "      <td>0.100000</td>\n",
       "      <td>0.214286</td>\n",
       "      <td>0.296296</td>\n",
       "      <td>0.153846</td>\n",
       "      <td>0.0</td>\n",
       "      <td>0.260870</td>\n",
       "      <td>0.217391</td>\n",
       "      <td>0.190476</td>\n",
       "      <td>0.219512</td>\n",
       "    </tr>\n",
       "    <tr>\n",
       "      <th>DNAL1</th>\n",
       "      <td>0.157895</td>\n",
       "      <td>0.090909</td>\n",
       "      <td>0.250000</td>\n",
       "      <td>1.000000</td>\n",
       "      <td>0.200000</td>\n",
       "      <td>0.228571</td>\n",
       "      <td>0.145455</td>\n",
       "      <td>0.125000</td>\n",
       "      <td>0.153846</td>\n",
       "      <td>0.095238</td>\n",
       "      <td>...</td>\n",
       "      <td>0.400000</td>\n",
       "      <td>0.033333</td>\n",
       "      <td>0.363636</td>\n",
       "      <td>0.178571</td>\n",
       "      <td>0.166667</td>\n",
       "      <td>0.0</td>\n",
       "      <td>0.125000</td>\n",
       "      <td>0.173913</td>\n",
       "      <td>0.170732</td>\n",
       "      <td>0.116279</td>\n",
       "    </tr>\n",
       "    <tr>\n",
       "      <th>NKAP</th>\n",
       "      <td>0.081081</td>\n",
       "      <td>0.166667</td>\n",
       "      <td>0.085714</td>\n",
       "      <td>0.200000</td>\n",
       "      <td>1.000000</td>\n",
       "      <td>0.297872</td>\n",
       "      <td>0.350000</td>\n",
       "      <td>0.153846</td>\n",
       "      <td>0.090909</td>\n",
       "      <td>0.230769</td>\n",
       "      <td>...</td>\n",
       "      <td>0.103448</td>\n",
       "      <td>0.042553</td>\n",
       "      <td>0.100000</td>\n",
       "      <td>0.159091</td>\n",
       "      <td>0.121951</td>\n",
       "      <td>0.0</td>\n",
       "      <td>0.153846</td>\n",
       "      <td>0.333333</td>\n",
       "      <td>0.320000</td>\n",
       "      <td>0.294118</td>\n",
       "    </tr>\n",
       "  </tbody>\n",
       "</table>\n",
       "<p>5 rows × 18565 columns</p>\n",
       "</div>"
      ],
      "text/plain": [
       "          LRRN1      GJD4      GPX8     DNAL1      NKAP     SMAP1    DNAJC7  \\\n",
       "LRRN1  1.000000  0.037037  0.090909  0.157895  0.081081  0.119048  0.116667   \n",
       "GJD4   0.037037  1.000000  0.000000  0.090909  0.166667  0.225000  0.131148   \n",
       "GPX8   0.090909  0.000000  1.000000  0.250000  0.085714  0.285714  0.181818   \n",
       "DNAL1  0.157895  0.090909  0.250000  1.000000  0.200000  0.228571  0.145455   \n",
       "NKAP   0.081081  0.166667  0.085714  0.200000  1.000000  0.297872  0.350000   \n",
       "\n",
       "         HSPA1L    RAB40B    KIF21B    ...       GGTLC1     P2RX1   CFAP206  \\\n",
       "LRRN1  0.068966  0.133333  0.136364    ...     0.058824  0.060606  0.117647   \n",
       "GJD4   0.031250  0.090909  0.130435    ...     0.052632  0.088235  0.000000   \n",
       "GPX8   0.160000  0.066667  0.066667    ...     0.142857  0.100000  0.214286   \n",
       "DNAL1  0.125000  0.153846  0.095238    ...     0.400000  0.033333  0.363636   \n",
       "NKAP   0.153846  0.090909  0.230769    ...     0.103448  0.042553  0.100000   \n",
       "\n",
       "           VWA1     PDIA2  HMX1    ADGRL4       AMT    ZNF618      RNF5  \n",
       "LRRN1  0.088235  0.066667   0.0  0.033333  0.115385  0.083333  0.061224  \n",
       "GJD4   0.054054  0.030303   0.0  0.000000  0.224490  0.200000  0.080000  \n",
       "GPX8   0.296296  0.153846   0.0  0.260870  0.217391  0.190476  0.219512  \n",
       "DNAL1  0.178571  0.166667   0.0  0.125000  0.173913  0.170732  0.116279  \n",
       "NKAP   0.159091  0.121951   0.0  0.153846  0.333333  0.320000  0.294118  \n",
       "\n",
       "[5 rows x 18565 columns]"
      ]
     },
     "execution_count": 30,
     "metadata": {},
     "output_type": "execute_result"
    }
   ],
   "source": [
    "gene_similarity_matix.head()"
   ]
  },
  {
   "cell_type": "markdown",
   "metadata": {},
   "source": [
    "## Save Gene Similarity Matrix "
   ]
  },
  {
   "cell_type": "code",
   "execution_count": 31,
   "metadata": {
    "collapsed": true
   },
   "outputs": [],
   "source": [
    "filename = '~/./Documents/Harmonizome/Jensen/Tissues/Output/jensen_tissue_gene_similarity_matix_%s.tsv.zip'% str(datetime.date.today())[0:7].replace('-', '_')\n",
    "gene_similarity_matix.to_csv(filename, sep='\\t', compression='gzip')"
   ]
  },
  {
   "cell_type": "markdown",
   "metadata": {},
   "source": [
    "# Create Attribute Similarity matrix"
   ]
  },
  {
   "cell_type": "code",
   "execution_count": 32,
   "metadata": {
    "collapsed": true
   },
   "outputs": [],
   "source": [
    "attribute_similarity_matix = uf.createSimilarityMatrix(binary_matrix.T, 'jaccard')"
   ]
  },
  {
   "cell_type": "code",
   "execution_count": 33,
   "metadata": {},
   "outputs": [
    {
     "data": {
      "text/html": [
       "<div>\n",
       "<table border=\"1\" class=\"dataframe\">\n",
       "  <thead>\n",
       "    <tr style=\"text-align: right;\">\n",
       "      <th></th>\n",
       "      <th>Oc cell</th>\n",
       "      <th>MC3T3-E1 cell</th>\n",
       "      <th>colo684</th>\n",
       "      <th>MSTO-211H cell</th>\n",
       "      <th>Inner medullary collecting duct</th>\n",
       "      <th>Middle ear</th>\n",
       "      <th>Photophore</th>\n",
       "      <th>Bursa copulatrix</th>\n",
       "      <th>Parahippocampal gyrus</th>\n",
       "      <th>A-1235 cell</th>\n",
       "      <th>...</th>\n",
       "      <th>Meynert's basal nucleus</th>\n",
       "      <th>wehi279</th>\n",
       "      <th>sv3t3</th>\n",
       "      <th>Parietal ganglion</th>\n",
       "      <th>Embryogenic cell line</th>\n",
       "      <th>dh14</th>\n",
       "      <th>Respiratory epithelium cell</th>\n",
       "      <th>gpe86</th>\n",
       "      <th>c6bu1</th>\n",
       "      <th>Abductor</th>\n",
       "    </tr>\n",
       "  </thead>\n",
       "  <tbody>\n",
       "    <tr>\n",
       "      <th>Oc cell</th>\n",
       "      <td>1.0</td>\n",
       "      <td>0.0</td>\n",
       "      <td>0.0</td>\n",
       "      <td>0.0</td>\n",
       "      <td>0.0</td>\n",
       "      <td>0.000000</td>\n",
       "      <td>0.0</td>\n",
       "      <td>0.0</td>\n",
       "      <td>0.0</td>\n",
       "      <td>0.0</td>\n",
       "      <td>...</td>\n",
       "      <td>0.0</td>\n",
       "      <td>0.0</td>\n",
       "      <td>0.0</td>\n",
       "      <td>0.0</td>\n",
       "      <td>0.0</td>\n",
       "      <td>0.0</td>\n",
       "      <td>0.0</td>\n",
       "      <td>0.0</td>\n",
       "      <td>0.0</td>\n",
       "      <td>0.0</td>\n",
       "    </tr>\n",
       "    <tr>\n",
       "      <th>MC3T3-E1 cell</th>\n",
       "      <td>0.0</td>\n",
       "      <td>1.0</td>\n",
       "      <td>0.0</td>\n",
       "      <td>0.0</td>\n",
       "      <td>0.0</td>\n",
       "      <td>0.011364</td>\n",
       "      <td>0.0</td>\n",
       "      <td>0.0</td>\n",
       "      <td>0.0</td>\n",
       "      <td>0.0</td>\n",
       "      <td>...</td>\n",
       "      <td>0.0</td>\n",
       "      <td>0.0</td>\n",
       "      <td>0.0</td>\n",
       "      <td>0.0</td>\n",
       "      <td>0.0</td>\n",
       "      <td>0.0</td>\n",
       "      <td>0.0</td>\n",
       "      <td>0.0</td>\n",
       "      <td>0.0</td>\n",
       "      <td>0.0</td>\n",
       "    </tr>\n",
       "    <tr>\n",
       "      <th>colo684</th>\n",
       "      <td>0.0</td>\n",
       "      <td>0.0</td>\n",
       "      <td>1.0</td>\n",
       "      <td>0.0</td>\n",
       "      <td>0.0</td>\n",
       "      <td>0.000000</td>\n",
       "      <td>0.0</td>\n",
       "      <td>0.0</td>\n",
       "      <td>0.0</td>\n",
       "      <td>0.0</td>\n",
       "      <td>...</td>\n",
       "      <td>0.0</td>\n",
       "      <td>0.0</td>\n",
       "      <td>0.0</td>\n",
       "      <td>0.0</td>\n",
       "      <td>0.0</td>\n",
       "      <td>0.0</td>\n",
       "      <td>0.0</td>\n",
       "      <td>0.0</td>\n",
       "      <td>0.0</td>\n",
       "      <td>0.0</td>\n",
       "    </tr>\n",
       "    <tr>\n",
       "      <th>MSTO-211H cell</th>\n",
       "      <td>0.0</td>\n",
       "      <td>0.0</td>\n",
       "      <td>0.0</td>\n",
       "      <td>1.0</td>\n",
       "      <td>0.0</td>\n",
       "      <td>0.000000</td>\n",
       "      <td>0.0</td>\n",
       "      <td>0.0</td>\n",
       "      <td>0.0</td>\n",
       "      <td>0.0</td>\n",
       "      <td>...</td>\n",
       "      <td>0.0</td>\n",
       "      <td>0.0</td>\n",
       "      <td>0.0</td>\n",
       "      <td>0.0</td>\n",
       "      <td>0.0</td>\n",
       "      <td>0.0</td>\n",
       "      <td>0.0</td>\n",
       "      <td>0.0</td>\n",
       "      <td>0.0</td>\n",
       "      <td>0.0</td>\n",
       "    </tr>\n",
       "    <tr>\n",
       "      <th>Inner medullary collecting duct</th>\n",
       "      <td>0.0</td>\n",
       "      <td>0.0</td>\n",
       "      <td>0.0</td>\n",
       "      <td>0.0</td>\n",
       "      <td>1.0</td>\n",
       "      <td>0.000000</td>\n",
       "      <td>0.0</td>\n",
       "      <td>0.0</td>\n",
       "      <td>0.0</td>\n",
       "      <td>0.0</td>\n",
       "      <td>...</td>\n",
       "      <td>0.0</td>\n",
       "      <td>0.0</td>\n",
       "      <td>0.0</td>\n",
       "      <td>0.0</td>\n",
       "      <td>0.0</td>\n",
       "      <td>0.0</td>\n",
       "      <td>0.0</td>\n",
       "      <td>0.0</td>\n",
       "      <td>0.0</td>\n",
       "      <td>0.0</td>\n",
       "    </tr>\n",
       "  </tbody>\n",
       "</table>\n",
       "<p>5 rows × 4098 columns</p>\n",
       "</div>"
      ],
      "text/plain": [
       "                                 Oc cell  MC3T3-E1 cell  colo684  \\\n",
       "Oc cell                              1.0            0.0      0.0   \n",
       "MC3T3-E1 cell                        0.0            1.0      0.0   \n",
       "colo684                              0.0            0.0      1.0   \n",
       "MSTO-211H cell                       0.0            0.0      0.0   \n",
       "Inner medullary collecting duct      0.0            0.0      0.0   \n",
       "\n",
       "                                 MSTO-211H cell  \\\n",
       "Oc cell                                     0.0   \n",
       "MC3T3-E1 cell                               0.0   \n",
       "colo684                                     0.0   \n",
       "MSTO-211H cell                              1.0   \n",
       "Inner medullary collecting duct             0.0   \n",
       "\n",
       "                                 Inner medullary collecting duct  Middle ear  \\\n",
       "Oc cell                                                      0.0    0.000000   \n",
       "MC3T3-E1 cell                                                0.0    0.011364   \n",
       "colo684                                                      0.0    0.000000   \n",
       "MSTO-211H cell                                               0.0    0.000000   \n",
       "Inner medullary collecting duct                              1.0    0.000000   \n",
       "\n",
       "                                 Photophore  Bursa copulatrix  \\\n",
       "Oc cell                                 0.0               0.0   \n",
       "MC3T3-E1 cell                           0.0               0.0   \n",
       "colo684                                 0.0               0.0   \n",
       "MSTO-211H cell                          0.0               0.0   \n",
       "Inner medullary collecting duct         0.0               0.0   \n",
       "\n",
       "                                 Parahippocampal gyrus  A-1235 cell    ...     \\\n",
       "Oc cell                                            0.0          0.0    ...      \n",
       "MC3T3-E1 cell                                      0.0          0.0    ...      \n",
       "colo684                                            0.0          0.0    ...      \n",
       "MSTO-211H cell                                     0.0          0.0    ...      \n",
       "Inner medullary collecting duct                    0.0          0.0    ...      \n",
       "\n",
       "                                 Meynert's basal nucleus  wehi279  sv3t3  \\\n",
       "Oc cell                                              0.0      0.0    0.0   \n",
       "MC3T3-E1 cell                                        0.0      0.0    0.0   \n",
       "colo684                                              0.0      0.0    0.0   \n",
       "MSTO-211H cell                                       0.0      0.0    0.0   \n",
       "Inner medullary collecting duct                      0.0      0.0    0.0   \n",
       "\n",
       "                                 Parietal ganglion  Embryogenic cell line  \\\n",
       "Oc cell                                        0.0                    0.0   \n",
       "MC3T3-E1 cell                                  0.0                    0.0   \n",
       "colo684                                        0.0                    0.0   \n",
       "MSTO-211H cell                                 0.0                    0.0   \n",
       "Inner medullary collecting duct                0.0                    0.0   \n",
       "\n",
       "                                 dh14  Respiratory epithelium cell  gpe86  \\\n",
       "Oc cell                           0.0                          0.0    0.0   \n",
       "MC3T3-E1 cell                     0.0                          0.0    0.0   \n",
       "colo684                           0.0                          0.0    0.0   \n",
       "MSTO-211H cell                    0.0                          0.0    0.0   \n",
       "Inner medullary collecting duct   0.0                          0.0    0.0   \n",
       "\n",
       "                                 c6bu1  Abductor  \n",
       "Oc cell                            0.0       0.0  \n",
       "MC3T3-E1 cell                      0.0       0.0  \n",
       "colo684                            0.0       0.0  \n",
       "MSTO-211H cell                     0.0       0.0  \n",
       "Inner medullary collecting duct    0.0       0.0  \n",
       "\n",
       "[5 rows x 4098 columns]"
      ]
     },
     "execution_count": 33,
     "metadata": {},
     "output_type": "execute_result"
    }
   ],
   "source": [
    "attribute_similarity_matix.head()"
   ]
  },
  {
   "cell_type": "markdown",
   "metadata": {},
   "source": [
    "## Save Attribute Similarity Matrix"
   ]
  },
  {
   "cell_type": "code",
   "execution_count": 34,
   "metadata": {
    "collapsed": true
   },
   "outputs": [],
   "source": [
    "filename = '~/./Documents/Harmonizome/Jensen/Tissues/Output/jensen_tissue_attribute_similarity_matix_%s.tsv.zip'% str(datetime.date.today())[0:7].replace('-', '_')\n",
    "attribute_similarity_matix.to_csv(filename, sep='\\t', compression='gzip')"
   ]
  },
  {
   "cell_type": "markdown",
   "metadata": {},
   "source": [
    "# Create Gene List"
   ]
  },
  {
   "cell_type": "code",
   "execution_count": 35,
   "metadata": {},
   "outputs": [
    {
     "name": "stdout",
     "output_type": "stream",
     "text": [
      "Progeres: 100%  18565 Out of 18565   \r"
     ]
    }
   ],
   "source": [
    "gene_list = uf.createGeneList(binary_matrix)"
   ]
  },
  {
   "cell_type": "code",
   "execution_count": 36,
   "metadata": {},
   "outputs": [
    {
     "data": {
      "text/html": [
       "<div>\n",
       "<table border=\"1\" class=\"dataframe\">\n",
       "  <thead>\n",
       "    <tr style=\"text-align: right;\">\n",
       "      <th></th>\n",
       "      <th>GeneSym</th>\n",
       "      <th>GeneID</th>\n",
       "    </tr>\n",
       "  </thead>\n",
       "  <tbody>\n",
       "    <tr>\n",
       "      <th>0</th>\n",
       "      <td>LRRN1</td>\n",
       "      <td>57633</td>\n",
       "    </tr>\n",
       "    <tr>\n",
       "      <th>1</th>\n",
       "      <td>GJD4</td>\n",
       "      <td>219770</td>\n",
       "    </tr>\n",
       "    <tr>\n",
       "      <th>2</th>\n",
       "      <td>GPX8</td>\n",
       "      <td>493869</td>\n",
       "    </tr>\n",
       "    <tr>\n",
       "      <th>3</th>\n",
       "      <td>DNAL1</td>\n",
       "      <td>83544</td>\n",
       "    </tr>\n",
       "    <tr>\n",
       "      <th>4</th>\n",
       "      <td>NKAP</td>\n",
       "      <td>79576</td>\n",
       "    </tr>\n",
       "  </tbody>\n",
       "</table>\n",
       "</div>"
      ],
      "text/plain": [
       "  GeneSym  GeneID\n",
       "0   LRRN1   57633\n",
       "1    GJD4  219770\n",
       "2    GPX8  493869\n",
       "3   DNAL1   83544\n",
       "4    NKAP   79576"
      ]
     },
     "execution_count": 36,
     "metadata": {},
     "output_type": "execute_result"
    }
   ],
   "source": [
    "gene_list.head()"
   ]
  },
  {
   "cell_type": "code",
   "execution_count": 37,
   "metadata": {},
   "outputs": [
    {
     "data": {
      "text/plain": [
       "(18565, 2)"
      ]
     },
     "execution_count": 37,
     "metadata": {},
     "output_type": "execute_result"
    }
   ],
   "source": [
    "gene_list.shape"
   ]
  },
  {
   "cell_type": "markdown",
   "metadata": {},
   "source": [
    "### Save Gene List"
   ]
  },
  {
   "cell_type": "code",
   "execution_count": 38,
   "metadata": {
    "collapsed": true
   },
   "outputs": [],
   "source": [
    "filename = '~/./Documents/Harmonizome/Jensen/Tissues/Output/jensen_tissue_gene_list_%s.tsv.zip'% str(datetime.date.today())[0:7].replace('-', '_')\n",
    "gene_list.to_csv(filename, sep='\\t', index=False, compression='gzip')"
   ]
  },
  {
   "cell_type": "markdown",
   "metadata": {},
   "source": [
    "# Create Attribute List "
   ]
  },
  {
   "cell_type": "code",
   "execution_count": 39,
   "metadata": {
    "collapsed": true
   },
   "outputs": [],
   "source": [
    "attribute_list = uf.createAttributeList(binary_matrix)"
   ]
  },
  {
   "cell_type": "code",
   "execution_count": 40,
   "metadata": {},
   "outputs": [
    {
     "data": {
      "text/html": [
       "<div>\n",
       "<table border=\"1\" class=\"dataframe\">\n",
       "  <thead>\n",
       "    <tr style=\"text-align: right;\">\n",
       "      <th></th>\n",
       "      <th>Attributes</th>\n",
       "    </tr>\n",
       "  </thead>\n",
       "  <tbody>\n",
       "    <tr>\n",
       "      <th>0</th>\n",
       "      <td>Oc cell</td>\n",
       "    </tr>\n",
       "    <tr>\n",
       "      <th>1</th>\n",
       "      <td>MC3T3-E1 cell</td>\n",
       "    </tr>\n",
       "    <tr>\n",
       "      <th>2</th>\n",
       "      <td>colo684</td>\n",
       "    </tr>\n",
       "    <tr>\n",
       "      <th>3</th>\n",
       "      <td>MSTO-211H cell</td>\n",
       "    </tr>\n",
       "    <tr>\n",
       "      <th>4</th>\n",
       "      <td>Inner medullary collecting duct</td>\n",
       "    </tr>\n",
       "  </tbody>\n",
       "</table>\n",
       "</div>"
      ],
      "text/plain": [
       "                        Attributes\n",
       "0                          Oc cell\n",
       "1                    MC3T3-E1 cell\n",
       "2                          colo684\n",
       "3                   MSTO-211H cell\n",
       "4  Inner medullary collecting duct"
      ]
     },
     "execution_count": 40,
     "metadata": {},
     "output_type": "execute_result"
    }
   ],
   "source": [
    "attribute_list.head()"
   ]
  },
  {
   "cell_type": "code",
   "execution_count": 41,
   "metadata": {},
   "outputs": [
    {
     "data": {
      "text/plain": [
       "(4098, 1)"
      ]
     },
     "execution_count": 41,
     "metadata": {},
     "output_type": "execute_result"
    }
   ],
   "source": [
    "attribute_list.shape"
   ]
  },
  {
   "cell_type": "markdown",
   "metadata": {},
   "source": [
    "### Save Attribute List"
   ]
  },
  {
   "cell_type": "code",
   "execution_count": 42,
   "metadata": {
    "collapsed": true
   },
   "outputs": [],
   "source": [
    "filename = '~/./Documents/Harmonizome/Jensen/Tissues/Output/jensen_tissue_attribute_list_%s.tsv.zip'% str(datetime.date.today())[0:7].replace('-', '_')\n",
    "attribute_list.to_csv(filename, sep='\\t', index=False, compression='gzip')"
   ]
  },
  {
   "cell_type": "markdown",
   "metadata": {},
   "source": [
    "# Create Gene-Attribute Edge List"
   ]
  },
  {
   "cell_type": "code",
   "execution_count": 43,
   "metadata": {},
   "outputs": [
    {
     "name": "stdout",
     "output_type": "stream",
     "text": [
      "Progeres: 100%  4098 Out of 4098   \r"
     ]
    }
   ],
   "source": [
    "gene_attribute_edge_list = uf.createGeneAttributeEdgeList(binary_matrix, gene_list)"
   ]
  },
  {
   "cell_type": "code",
   "execution_count": 44,
   "metadata": {},
   "outputs": [
    {
     "data": {
      "text/html": [
       "<div>\n",
       "<table border=\"1\" class=\"dataframe\">\n",
       "  <thead>\n",
       "    <tr style=\"text-align: right;\">\n",
       "      <th></th>\n",
       "      <th>Attribute</th>\n",
       "      <th>Gene</th>\n",
       "      <th>GeneID</th>\n",
       "      <th>Weight</th>\n",
       "    </tr>\n",
       "  </thead>\n",
       "  <tbody>\n",
       "    <tr>\n",
       "      <th>0</th>\n",
       "      <td>Oc cell</td>\n",
       "      <td>LRRN1</td>\n",
       "      <td>57633</td>\n",
       "      <td>0.0</td>\n",
       "    </tr>\n",
       "    <tr>\n",
       "      <th>1</th>\n",
       "      <td>Oc cell</td>\n",
       "      <td>GJD4</td>\n",
       "      <td>219770</td>\n",
       "      <td>0.0</td>\n",
       "    </tr>\n",
       "    <tr>\n",
       "      <th>2</th>\n",
       "      <td>Oc cell</td>\n",
       "      <td>GPX8</td>\n",
       "      <td>493869</td>\n",
       "      <td>0.0</td>\n",
       "    </tr>\n",
       "    <tr>\n",
       "      <th>3</th>\n",
       "      <td>Oc cell</td>\n",
       "      <td>DNAL1</td>\n",
       "      <td>83544</td>\n",
       "      <td>0.0</td>\n",
       "    </tr>\n",
       "    <tr>\n",
       "      <th>4</th>\n",
       "      <td>Oc cell</td>\n",
       "      <td>NKAP</td>\n",
       "      <td>79576</td>\n",
       "      <td>0.0</td>\n",
       "    </tr>\n",
       "  </tbody>\n",
       "</table>\n",
       "</div>"
      ],
      "text/plain": [
       "  Attribute   Gene  GeneID  Weight\n",
       "0   Oc cell  LRRN1   57633     0.0\n",
       "1   Oc cell   GJD4  219770     0.0\n",
       "2   Oc cell   GPX8  493869     0.0\n",
       "3   Oc cell  DNAL1   83544     0.0\n",
       "4   Oc cell   NKAP   79576     0.0"
      ]
     },
     "execution_count": 44,
     "metadata": {},
     "output_type": "execute_result"
    }
   ],
   "source": [
    "gene_attribute_edge_list.head()"
   ]
  },
  {
   "cell_type": "code",
   "execution_count": 45,
   "metadata": {},
   "outputs": [
    {
     "data": {
      "text/plain": [
       "(76079370, 4)"
      ]
     },
     "execution_count": 45,
     "metadata": {},
     "output_type": "execute_result"
    }
   ],
   "source": [
    "gene_attribute_edge_list.shape"
   ]
  },
  {
   "cell_type": "markdown",
   "metadata": {},
   "source": [
    "### Get Number of (Statistically Relevant) Gene-Attribute Associations"
   ]
  },
  {
   "cell_type": "code",
   "execution_count": 46,
   "metadata": {},
   "outputs": [
    {
     "data": {
      "text/plain": [
       "(434311, 4)"
      ]
     },
     "execution_count": 46,
     "metadata": {},
     "output_type": "execute_result"
    }
   ],
   "source": [
    "gene_attribute_edge_list[gene_attribute_edge_list['Weight'] != 0].shape"
   ]
  },
  {
   "cell_type": "markdown",
   "metadata": {},
   "source": [
    "### Save Gene-Attribute Edge List"
   ]
  },
  {
   "cell_type": "code",
   "execution_count": 47,
   "metadata": {
    "collapsed": true
   },
   "outputs": [],
   "source": [
    "filename = '~/./Documents/Harmonizome/Jensen/Tissues/Output/jensen_tissue_gene_attribute_edge_list_%s.tsv.zip'% str(datetime.date.today())[0:7].replace('-', '_')\n",
    "gene_attribute_edge_list.to_csv(filename, sep='\\t', index=False, compression='gzip')"
   ]
  }
 ],
 "metadata": {
  "kernelspec": {
   "display_name": "Python [default]",
   "language": "python",
   "name": "python3"
  },
  "language_info": {
   "codemirror_mode": {
    "name": "ipython",
    "version": 3
   },
   "file_extension": ".py",
   "mimetype": "text/x-python",
   "name": "python",
   "nbconvert_exporter": "python",
   "pygments_lexer": "ipython3",
   "version": "3.5.2"
  }
 },
 "nbformat": 4,
 "nbformat_minor": 2
}
