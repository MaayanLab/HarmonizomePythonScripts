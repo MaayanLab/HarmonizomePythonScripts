{
 "cells": [
  {
   "cell_type": "markdown",
   "metadata": {},
   "source": [
    "# GTEx Tissue Expression\n",
    "This notebook contains the processing files for the GTEx Tissue Gene Expression Profiles 2023 dataset. A gene count matrix was downloaded from the [GTEx Data Portal](https://gtexportal.org/home/downloads/adult-gtex). Gene-wise z-scoring was applied to median gene counts across tissues, and the top and bottom 1000 associations for each tissue were kept. The final edgelist contains 108,000 associations between 54 tissues and 17,360 genes."
   ]
  },
  {
   "cell_type": "code",
   "execution_count": null,
   "metadata": {},
   "outputs": [],
   "source": [
    "import pandas as pd\n",
    "import datetime\n",
    "import math\n",
    "import numpy as np\n",
    "import scipy.spatial.distance as dist\n",
    "import seaborn as sns\n",
    "import sys\n",
    "import json\n",
    "import scanpy as sc\n",
    "from tqdm import tqdm\n",
    "\n",
    "# UMAP\n",
    "from sklearn.feature_extraction.text import TfidfVectorizer\n",
    "import anndata\n",
    "from collections import OrderedDict\n",
    "\n",
    "# Bokeh\n",
    "from bokeh.io import output_notebook\n",
    "from bokeh.plotting import figure, show, save, output_file\n",
    "from bokeh.models import HoverTool, ColumnDataSource\n",
    "from bokeh.palettes import Category20\n",
    "output_notebook()\n",
    "\n",
    "from IPython.display import display, HTML, Markdown\n",
    "sys.setrecursionlimit(100000)"
   ]
  },
  {
   "cell_type": "markdown",
   "metadata": {},
   "source": [
    "## Load and Pre-Process Data"
   ]
  },
  {
   "cell_type": "code",
   "execution_count": null,
   "metadata": {},
   "outputs": [],
   "source": [
    "gtextissue = pd.read_csv('bulk-gex_v8_rna-seq_GTEx_Analysis_2017-06-05_v8_RNASeQCv1.1.9_gene_reads.gct', sep='\\t', skiprows=2)\n",
    "gtextissue"
   ]
  },
  {
   "cell_type": "code",
   "execution_count": null,
   "metadata": {},
   "outputs": [],
   "source": [
    "geneinfo = pd.read_csv('../../tables/gene_info', sep='\\t')\n",
    "geneinfo['Symbol'] = geneinfo['Symbol'].apply(str.upper)\n",
    "geneinfo = geneinfo[geneinfo['#tax_id']==9606][geneinfo['type_of_gene']=='protein-coding'].set_index('Symbol').get(['GeneID','description'])\n",
    "geneinfo"
   ]
  },
  {
   "cell_type": "code",
   "execution_count": null,
   "metadata": {},
   "outputs": [],
   "source": [
    "genemapping = pd.read_csv('../../mapping/mappingFile_2023.tsv', sep='\\t', header=None, index_col=1)[2].to_dict()\n",
    "gtextissue['Gene'] = gtextissue['Description'].map(genemapping)\n",
    "gtextissue = gtextissue.dropna(subset='Gene').drop_duplicates(subset='Gene').set_index('Gene').drop(columns=['Name','Description'])\n",
    "gtextissue = gtextissue[gtextissue.index.map(lambda x: x in geneinfo.index)]\n",
    "gtextissue"
   ]
  },
  {
   "cell_type": "markdown",
   "metadata": {},
   "source": [
    "### Load Sample Metadata"
   ]
  },
  {
   "cell_type": "code",
   "execution_count": null,
   "metadata": {},
   "outputs": [],
   "source": [
    "samplemeta = pd.read_csv('GTEx_Analysis_v8_Annotations_SampleAttributesDS.txt', sep='\\t', index_col=0)\n",
    "tissuedict = samplemeta['SMTSD'].to_dict()\n",
    "uberon = samplemeta.set_index('SMTSD')['SMUBRID'].to_dict()\n",
    "samplemeta"
   ]
  },
  {
   "cell_type": "code",
   "execution_count": null,
   "metadata": {},
   "outputs": [],
   "source": [
    "gtextissue.columns = gtextissue.columns.map(tissuedict)\n",
    "gtextissue = gtextissue.groupby(axis=1, level=0).median().rename_axis('Tissue', axis=1)\n",
    "gtextissue"
   ]
  },
  {
   "cell_type": "code",
   "execution_count": null,
   "metadata": {},
   "outputs": [],
   "source": [
    "def zscore(gene):\n",
    "    mean = gene.mean()\n",
    "    std = gene.std()\n",
    "    gene = gene.apply(lambda x: (x-mean)/std)\n",
    "    return gene"
   ]
  },
  {
   "cell_type": "code",
   "execution_count": null,
   "metadata": {},
   "outputs": [],
   "source": [
    "gtextissuez = gtextissue.apply(zscore, axis=1)\n",
    "gtextissuez"
   ]
  },
  {
   "cell_type": "code",
   "execution_count": null,
   "metadata": {},
   "outputs": [],
   "source": [
    "gtextissue = gtextissuez.stack().to_frame('z')\n",
    "gtextissueup = gtextissue.reset_index().groupby('Tissue').apply(lambda x: x.nlargest(1000, 'z')).reset_index(drop=True)\n",
    "gtextissuedn = gtextissue.reset_index().groupby('Tissue').apply(lambda x: x.nsmallest(1000, 'z')).reset_index(drop=True)\n",
    "gtextissue = pd.concat([gtextissueup, gtextissuedn]).reset_index(drop=True)\n",
    "gtextissue"
   ]
  },
  {
   "cell_type": "markdown",
   "metadata": {},
   "source": [
    "## Process Data for SQL"
   ]
  },
  {
   "cell_type": "markdown",
   "metadata": {},
   "source": [
    "### Dataset"
   ]
  },
  {
   "cell_type": "code",
   "execution_count": null,
   "metadata": {},
   "outputs": [],
   "source": [
    "#(id, name, name_without_resource, description, association, gene_set_description, gene_sets_description, attribute_set_description, positive_association, negative_association, is_signed, is_continuous_valued, last_updated, directory, num_page_views, resource_fk, measurement_fk, dataset_group_fk, attribute_type_fk, attribute_group_fk, evidence_type, evidence_group, measurement_bias, attribute_type_plural, is_archived)\n",
    "(151, 'GTEx Tissue Gene Expression Profiles 2023', 'Tissue Gene Expression Profiles 2023', 'gene expression profiles for tissues from GEx by RNA-seq', 'gene-tissue associations by differential expression of gene acoss tissues', 'genes with high or low expression in {0} relative to other tissues from the GTEx Tissue Gene Expression Profiles 2023 dataset.', 'sets of genes wiith high or low expression in each tissue relative to other tissues from the GTEx Tissue Gene Expression Profiles 2023 dataset.', 'tissues with high or low expression of {0} gene relative to other tissues from the GTEx Tissue Gene Expression Profiles 2023 dataset.', 'high expression', 'low expression', 1, 1, '2023-11-01', 'gtextissue23', 0, 29, 16, 7, 4, 1, 'gene expression by RNA-seq', 'primary experimental data', 'high throughput, data driven', 'tissues', 0)"
   ]
  },
  {
   "cell_type": "markdown",
   "metadata": {},
   "source": [
    "### Publication"
   ]
  },
  {
   "cell_type": "code",
   "execution_count": null,
   "metadata": {},
   "outputs": [],
   "source": [
    "#(id, long_citation, short_citation, url, pmid, pubmed_url, first_author_last_name, first_author_initials, journal_abbreviation, year, title, volume, pages)\n",
    "(150, 'GTEx Consortium, et al. (2020) The GTEx Consortium atlas of genetic regulatory effects across human tissues. Science. 369:1318-30.', 'GTEx, Science, 2020', 'dx.doi.org/10.1126/science.aaz1776', 32913098, 'https://ncbi.nlm.nih.gov/pubmed/32913098', 'GTEx', 'Consortium', 'Science', 2020, 'The GTEx Consortium atlas of genetic regulatory effects across human tissues', 369, '1318-30')"
   ]
  },
  {
   "cell_type": "markdown",
   "metadata": {},
   "source": [
    "### Gene"
   ]
  },
  {
   "cell_type": "code",
   "execution_count": null,
   "metadata": {},
   "outputs": [],
   "source": [
    "index = 57646\n",
    "genes = pd.read_csv('../../tables/gene.csv')\n",
    "gtextissue['Gene'] = gtextissue['Gene'].apply(str.upper)\n",
    "genelist = genes['symbol'].apply(str.upper).tolist()\n",
    "genefks = genes.set_index('symbol')['id'].to_dict()\n",
    "\n",
    "for gene in gtextissue['Gene'].unique():\n",
    "    if gene not in genelist:\n",
    "        print((index, gene, geneinfo.loc[gene, 'GeneID'], geneinfo.loc[gene, 'description'], 'https://ncbi.nlm.nih.gov/gene/'+str(geneinfo.loc[gene,'GeneID'])), end=',\\n')\n",
    "        genefks[gene] = index\n",
    "        index += 1"
   ]
  },
  {
   "cell_type": "markdown",
   "metadata": {},
   "source": [
    "### Attribute"
   ]
  },
  {
   "cell_type": "code",
   "execution_count": null,
   "metadata": {},
   "outputs": [],
   "source": [
    "index = 392558\n",
    "attributefks = {}\n",
    "tissueids = {}\n",
    "tissuedescs = pd.read_csv('tissuedescriptions.tsv', sep='    ', header=None).set_index(0)[1].to_dict()\n",
    "for tissue in gtextissue['Tissue'].unique():\n",
    "    tissueid = uberon[tissue]\n",
    "    if 'EFO' in tissueid:\n",
    "        tissueids[tissue] = tissueid\n",
    "        print((index, tissue, tissuedescs[tissueid], tissueid, 'http://purl.obolibrary.org/obo'+tissueids[tissue],  8), end=',\\n')\n",
    "    else:\n",
    "        tissueid = 'UBERON_'+tissueid\n",
    "        tissueids[tissue] = tissueid\n",
    "        print((index, tissue, tissuedescs[tissueid], tissueid, 'http://purl.obolibrary.org/obo'+tissueids[tissue], 25), end=',\\n')\n",
    "    attributefks[tissue] = index\n",
    "    index += 1"
   ]
  },
  {
   "cell_type": "markdown",
   "metadata": {},
   "source": [
    "### Gene Set"
   ]
  },
  {
   "cell_type": "code",
   "execution_count": null,
   "metadata": {},
   "outputs": [],
   "source": [
    "index = 135200000\n",
    "genesetfks = {}\n",
    "for tissue in gtextissue['Tissue'].unique():\n",
    "    print((index, tissue, tissuedescs[tissueids[tissue]], tissueids[tissue], 'http://purl.obolibrary.org/obo'+tissueids[tissue], 151, 4, attributefks[tissue]), end=',\\n')\n",
    "    genesetfks[tissue] = index\n",
    "    index += 1"
   ]
  },
  {
   "cell_type": "markdown",
   "metadata": {},
   "source": [
    "### Association"
   ]
  },
  {
   "cell_type": "code",
   "execution_count": null,
   "metadata": {},
   "outputs": [],
   "source": [
    "def threshold(z):\n",
    "    if z>0:\n",
    "        return 1\n",
    "    elif z<0:\n",
    "        return -1\n",
    "    return 0"
   ]
  },
  {
   "cell_type": "code",
   "execution_count": null,
   "metadata": {},
   "outputs": [],
   "source": [
    "associations = gtextissue.copy()\n",
    "associations['Gene'] = associations['Gene'].apply(str.upper).map(genefks)\n",
    "associations['Tissue'] = associations['Tissue'].map(genesetfks)\n",
    "associations['threshold'] = associations['z'].map(threshold)\n",
    "associations.columns = ['gene_fk', 'gene_set_fk', 'standardized_value', 'threshold_value']\n",
    "associations.index += 38000000\n",
    "associations.to_csv('../../harmonizome-update/gtextissue23.csv')\n",
    "associations"
   ]
  },
  {
   "cell_type": "code",
   "execution_count": null,
   "metadata": {},
   "outputs": [],
   "source": [
    "len(gtextissue['Gene'].unique()),len(gtextissue['Tissue'].unique())"
   ]
  },
  {
   "cell_type": "markdown",
   "metadata": {},
   "source": [
    "## Create Downloads"
   ]
  },
  {
   "cell_type": "code",
   "execution_count": null,
   "metadata": {},
   "outputs": [],
   "source": [
    "def threshold(z):\n",
    "    if z>0: return 1\n",
    "    if z<0: return -1\n",
    "    return 0"
   ]
  },
  {
   "cell_type": "code",
   "execution_count": null,
   "metadata": {},
   "outputs": [],
   "source": [
    "output_path = 'downloads/'\n",
    "geneids = geneinfo['GeneID'].to_dict()\n",
    "gtextissue['Gene ID'] = gtextissue['Gene'].map(geneids)\n",
    "gtextissue['Tissue ID'] = gtextissue['Tissue'].map(tissueids)\n",
    "gtextissue['threshold'] = gtextissue['z'].apply(threshold)\n",
    "gtextissue = gtextissue[['Gene', 'Gene ID', 'Tissue', 'Tissue ID', 'z', 'threshold']]\n",
    "gtextissue"
   ]
  },
  {
   "cell_type": "markdown",
   "metadata": {},
   "source": [
    "### Gene Attribute Ternary Matrix"
   ]
  },
  {
   "cell_type": "code",
   "execution_count": null,
   "metadata": {},
   "outputs": [],
   "source": [
    "ternarymatrix = pd.crosstab(gtextissue['Gene'], gtextissue['Tissue'], gtextissue['threshold'], aggfunc=max).replace(np.nan, 0)\n",
    "ternarymatrixT = ternarymatrix.T\n",
    "ternarymatrix.to_csv(output_path+'gene_attribute_matrix.txt.gz', sep='\\t', compression='gzip')\n",
    "ternarymatrix"
   ]
  },
  {
   "cell_type": "markdown",
   "metadata": {},
   "source": [
    "### Gene Attribute Edge List"
   ]
  },
  {
   "cell_type": "code",
   "execution_count": null,
   "metadata": {},
   "outputs": [],
   "source": [
    "edgelist = gtextissue.copy()\n",
    "edgelist.columns = ['Gene', 'Gene ID', 'Tissue', 'Tissue ID', 'Standardized Value', 'Threshold Value']\n",
    "edgelist.to_csv(output_path+'gene_attribute_edges.txt.gz', sep='\\t', compression='gzip')\n",
    "edgelist"
   ]
  },
  {
   "cell_type": "markdown",
   "metadata": {},
   "source": [
    "### Gene List"
   ]
  },
  {
   "cell_type": "code",
   "execution_count": null,
   "metadata": {},
   "outputs": [],
   "source": [
    "geneslist = edgelist.get(['Gene', 'Gene ID']).drop_duplicates().reset_index(drop=True)\n",
    "geneslist.to_csv(output_path+'gene_list_terms.txt.gz', sep='\\t', compression='gzip')\n",
    "geneslist"
   ]
  },
  {
   "cell_type": "markdown",
   "metadata": {},
   "source": [
    "### Attribute List"
   ]
  },
  {
   "cell_type": "code",
   "execution_count": null,
   "metadata": {},
   "outputs": [],
   "source": [
    "attributeslist = edgelist.get(['Tissue', 'Tissue ID']).drop_duplicates().reset_index(drop=True)\n",
    "attributeslist.to_csv(output_path+'attribute_list_entries.txt.gz', sep='\\t', compression='gzip')\n",
    "attributeslist"
   ]
  },
  {
   "cell_type": "markdown",
   "metadata": {},
   "source": [
    "### Up Gene Set Library"
   ]
  },
  {
   "cell_type": "code",
   "execution_count": null,
   "metadata": {},
   "outputs": [],
   "source": [
    "with open(output_path+'gene_set_library_up_crisp.gmt', 'w') as f:\n",
    "    arr = ternarymatrix.reset_index(drop=True).to_numpy(dtype=np.int_)\n",
    "    attributes = ternarymatrix.columns\n",
    "\n",
    "    w, h = arr.shape\n",
    "    for i in tqdm(range(h)):\n",
    "        if len([*ternarymatrix.index[arr[:, i] == 1]])>= 5:\n",
    "            print(attributes[i], *ternarymatrix.index[arr[:, i] == 1], sep='\\t', end='\\n', file=f)"
   ]
  },
  {
   "cell_type": "markdown",
   "metadata": {},
   "source": [
    "### Down Gene Set Library"
   ]
  },
  {
   "cell_type": "code",
   "execution_count": null,
   "metadata": {},
   "outputs": [],
   "source": [
    "with open(output_path+'gene_set_library_dn_crisp.gmt', 'w') as f:\n",
    "    arr = ternarymatrix.reset_index(drop=True).to_numpy(dtype=np.int_)\n",
    "    attributes = ternarymatrix.columns\n",
    "\n",
    "    w, h = arr.shape\n",
    "    for i in tqdm(range(h)):\n",
    "        if len([*ternarymatrix.index[arr[:, i] == -1]])>= 5:\n",
    "            print(attributes[i], *ternarymatrix.index[arr[:, i] == -1], sep='\\t', end='\\n', file=f)"
   ]
  },
  {
   "cell_type": "markdown",
   "metadata": {},
   "source": [
    "### Up Attribute Set Library"
   ]
  },
  {
   "cell_type": "code",
   "execution_count": null,
   "metadata": {},
   "outputs": [],
   "source": [
    "with open(output_path+'attribute_set_library_up_crisp.gmt', 'w') as f:\n",
    "    arr = ternarymatrixT.reset_index(drop=True).to_numpy(dtype=np.int_)\n",
    "    genes = ternarymatrixT.columns\n",
    "\n",
    "    w, h = arr.shape\n",
    "    for i in tqdm(range(h)):\n",
    "        if len([*ternarymatrixT.index[arr[:, i] == 1]])>= 5:\n",
    "            print(genes[i], *ternarymatrixT.index[arr[:, i] == 1], sep='\\t', end='\\n', file=f)"
   ]
  },
  {
   "cell_type": "markdown",
   "metadata": {},
   "source": [
    "### Down Attribute Set Library"
   ]
  },
  {
   "cell_type": "code",
   "execution_count": null,
   "metadata": {},
   "outputs": [],
   "source": [
    "with open(output_path+'attribute_set_library_dn_crisp.gmt', 'w') as f:\n",
    "    arr = ternarymatrixT.reset_index(drop=True).to_numpy(dtype=np.int_)\n",
    "    genes = ternarymatrixT.columns\n",
    "\n",
    "    w, h = arr.shape\n",
    "    for i in tqdm(range(h)):\n",
    "        if len([*ternarymatrixT.index[arr[:, i] == -1]])>= 5:\n",
    "            print(genes[i], *ternarymatrixT.index[arr[:, i] == -1], sep='\\t', end='\\n', file=f)"
   ]
  },
  {
   "cell_type": "markdown",
   "metadata": {},
   "source": [
    "### Gene Similarity Matrix"
   ]
  },
  {
   "cell_type": "code",
   "execution_count": null,
   "metadata": {},
   "outputs": [],
   "source": [
    "gene_similarity_matrix = dist.pdist(ternarymatrix.to_numpy(dtype=np.int_), 'cosine')\n",
    "gene_similarity_matrix = dist.squareform(gene_similarity_matrix)\n",
    "gene_similarity_matrix = 1 - gene_similarity_matrix\n",
    "\n",
    "gene_similarity_matrix = pd.DataFrame(data=gene_similarity_matrix, index=ternarymatrix.index, columns=ternarymatrix.index)\n",
    "gene_similarity_matrix.index.name = None\n",
    "gene_similarity_matrix.columns.name = None\n",
    "gene_similarity_matrix.to_csv(output_path+'gene_similarity_matrix_cosine.txt.gz', sep='\\t', compression='gzip')\n",
    "gene_similarity_matrix"
   ]
  },
  {
   "cell_type": "markdown",
   "metadata": {},
   "source": [
    "### Attribute Similarity Matrix"
   ]
  },
  {
   "cell_type": "code",
   "execution_count": null,
   "metadata": {},
   "outputs": [],
   "source": [
    "attribute_similarity_matrix = dist.pdist(ternarymatrixT.to_numpy(dtype=np.int_), 'cosine')\n",
    "attribute_similarity_matrix = dist.squareform(attribute_similarity_matrix)\n",
    "attribute_similarity_matrix = 1 - attribute_similarity_matrix\n",
    "\n",
    "attribute_similarity_matrix = pd.DataFrame(data=attribute_similarity_matrix, index=ternarymatrixT.index, columns=ternarymatrixT.index)\n",
    "attribute_similarity_matrix.index.name = None\n",
    "attribute_similarity_matrix.columns.name = None\n",
    "attribute_similarity_matrix.to_csv(output_path+'attribute_similarity_matrix_cosine.txt.gz', sep='\\t', compression='gzip')\n",
    "attribute_similarity_matrix"
   ]
  },
  {
   "cell_type": "markdown",
   "metadata": {},
   "source": [
    "### Gene Attribute Standardized Matrix"
   ]
  },
  {
   "cell_type": "code",
   "execution_count": null,
   "metadata": {},
   "outputs": [],
   "source": [
    "standardizedmatrix = pd.crosstab(gtextissue['Gene'], gtextissue['Tissue'], gtextissue['z'], aggfunc=max).replace(np.nan, 0)\n",
    "standardizedmatrix.to_csv(output_path+'gene_attribute_matrix_standardized.txt.gz', sep='\\t', compression='gzip')\n",
    "standardizedmatrix"
   ]
  },
  {
   "cell_type": "markdown",
   "metadata": {},
   "source": [
    "### Knowledge Graph Serialization"
   ]
  },
  {
   "cell_type": "code",
   "execution_count": null,
   "metadata": {},
   "outputs": [],
   "source": [
    "nodes = {}\n",
    "edges = []\n",
    "\n",
    "for gene in geneslist.index:\n",
    "    gene = geneslist.loc[gene]\n",
    "    nodes[int(gene['Gene ID'])] = {\n",
    "        \"type\":\"gene\",\n",
    "        \"properties\": {\n",
    "            \"id\":int(gene['Gene ID']),\n",
    "            \"label\":gene['Gene']\n",
    "        }}\n",
    "\n",
    "for agingsig in attributeslist.index:\n",
    "    agingsig = attributeslist.loc[agingsig]\n",
    "    nodes[agingsig['Tissue ID']] = {\n",
    "        \"type\":\"tissue\",\n",
    "        \"properties\": {\n",
    "            \"label\":agingsig['Tissue'],\n",
    "            \"id\":agingsig['Tissue ID']\n",
    "        }}\n",
    "\n",
    "for edge in edgelist.index:\n",
    "    edge = edgelist.loc[edge]\n",
    "    if edge['Threshold Value']==1:\n",
    "        edges.append({\n",
    "            \"source\": int(edge['Gene ID']),\n",
    "            \"relation\": \"over-expressed in\",\n",
    "            \"target\": edge['Tissue ID'],\n",
    "            \"properties\":{\n",
    "                \"id\":str(edge['Gene ID'])+\":\"+edge['Tissue ID'],\n",
    "                \"source_id\":int(edge['Gene ID']),\n",
    "                \"source_label\":edge['Gene'],\n",
    "                \"target_id\":edge['Tissue ID'],\n",
    "                \"target_label\":edge['Tissue'],\n",
    "                \"directed\":True,\n",
    "                \"standardized_value\":edge['Standardized Value'],\n",
    "                \"threshold\":1\n",
    "            }})\n",
    "    else:\n",
    "            edges.append({\n",
    "            \"source\": int(edge['Gene ID']),\n",
    "            \"relation\": \"under-expressed in\",\n",
    "            \"target\": edge['Tissue ID'],\n",
    "            \"properties\":{\n",
    "                \"id\":str(edge['Gene ID'])+\":\"+edge['Tissue ID'],\n",
    "                \"source_id\":int(edge['Gene ID']),\n",
    "                \"source_label\":edge['Gene'],\n",
    "                \"target_id\":edge['Tissue ID'],\n",
    "                \"target_label\":edge['Tissue'],\n",
    "                \"directed\":True,\n",
    "                \"standardized_value\":edge['Standardized Value'],\n",
    "                \"threshold\":-1\n",
    "            }})"
   ]
  },
  {
   "cell_type": "code",
   "execution_count": null,
   "metadata": {},
   "outputs": [],
   "source": [
    "edge"
   ]
  },
  {
   "cell_type": "markdown",
   "metadata": {},
   "source": [
    "#### RDF"
   ]
  },
  {
   "cell_type": "code",
   "execution_count": null,
   "metadata": {},
   "outputs": [],
   "source": [
    "with open(output_path+'kg_serializations/gtextissue23.rdf', 'w') as f:\n",
    "    print('@prefix gene: ncbi.nlm.nih.gov/gene/', file=f)\n",
    "    print('@prefix RO: purl.obolibrary.org/RO_', file=f)\n",
    "    print('@prefix UBERON: purl.obolibrary.org/obo/UBERON_', file=f)\n",
    "    print('@prefix EFO: purl.obolibrary.org/obo/EFO_', file=f)\n",
    "\n",
    "    print('', file=f)\n",
    "    for edge in edges:\n",
    "        if edge[\"properties\"][\"threshold\"]==1:\n",
    "            print('gene:'+str(edge['properties']['source_id']), 'RO:0002245', edge['properties']['target_id'].replace('_', ':'), end=' .\\n', file=f)\n",
    "        else:\n",
    "            print('gene:'+str(edge['properties']['source_id']), 'RO:0002246 ', edge['properties']['target_id'].replace('_', ':'), end=' .\\n', file=f)"
   ]
  },
  {
   "cell_type": "markdown",
   "metadata": {},
   "source": [
    "#### JSON"
   ]
  },
  {
   "cell_type": "code",
   "execution_count": null,
   "metadata": {},
   "outputs": [],
   "source": [
    "with open(output_path+'kg_serializations/gtextissue23.json', 'w') as f:\n",
    "    serial = json.dump(\n",
    "        {\n",
    "            \"Version\":\"1\", \n",
    "            \"nodes\": nodes,\n",
    "            \"edges\": edges\n",
    "        }, indent=4, fp=f)"
   ]
  },
  {
   "cell_type": "markdown",
   "metadata": {},
   "source": [
    "#### TSV"
   ]
  },
  {
   "cell_type": "code",
   "execution_count": null,
   "metadata": {},
   "outputs": [],
   "source": [
    "nodes"
   ]
  },
  {
   "cell_type": "code",
   "execution_count": null,
   "metadata": {},
   "outputs": [],
   "source": [
    "def namespace(nodeid):\n",
    "    nodeid = str(nodeid)\n",
    "    if 'UBERON' in nodeid:\n",
    "        return 'UBERON'\n",
    "    elif 'EFO' in nodeid:\n",
    "        return 'EFO'\n",
    "    else:\n",
    "        return 'NCBI Entrez'"
   ]
  },
  {
   "cell_type": "code",
   "execution_count": null,
   "metadata": {},
   "outputs": [],
   "source": [
    "nodeframe = pd.DataFrame(nodes).T\n",
    "nodeframe['id'] = nodeframe['properties'].apply(lambda x: x['id'])\n",
    "nodeframe['label'] = nodeframe['properties'].apply(lambda x: x['label'])\n",
    "nodeframe['namespace'] = nodeframe['id'].apply(namespace)\n",
    "nodeframe = nodeframe.get(['namespace', 'id', 'label']).reset_index(drop=True)\n",
    "nodeframe.to_csv(output_path+'kg_serializations/gtextissue23_tsv/nodes.tsv', sep='\\t')\n",
    "nodeframe"
   ]
  },
  {
   "cell_type": "code",
   "execution_count": null,
   "metadata": {},
   "outputs": [],
   "source": [
    "edgeframe = pd.DataFrame(edges)\n",
    "edgeframe['standardized'] = edgeframe['properties'].apply(lambda x: x['standardized_value'])\n",
    "edgeframe['threshold'] = edgeframe['properties'].apply(lambda x: x['threshold'])\n",
    "edgeframe = edgeframe.get(['source', 'relation', 'target', 'threshold'])\n",
    "edgeframe.to_csv(output_path+'kg_serializations/gtextissue23_tsv/edges.tsv', sep='\\t')\n",
    "edgeframe"
   ]
  },
  {
   "cell_type": "markdown",
   "metadata": {},
   "source": [
    "## Create Visualizations"
   ]
  },
  {
   "cell_type": "code",
   "execution_count": null,
   "metadata": {},
   "outputs": [],
   "source": [
    "ternarymatrix = pd.read_csv('downloads/gene_attribute_matrix.txt.gz', sep='\\t', compression='gzip', index_col='Gene')\n",
    "ternarymatrix"
   ]
  },
  {
   "cell_type": "markdown",
   "metadata": {},
   "source": [
    "### Gene Attribute Clustered Heatmap"
   ]
  },
  {
   "cell_type": "code",
   "execution_count": null,
   "metadata": {},
   "outputs": [],
   "source": [
    "sns.clustermap(ternarymatrix, cmap='seismic', center=0, figsize=(25,25))"
   ]
  },
  {
   "cell_type": "markdown",
   "metadata": {},
   "source": [
    "### Gene Similarity Clustered Heatmap"
   ]
  },
  {
   "cell_type": "code",
   "execution_count": null,
   "metadata": {},
   "outputs": [],
   "source": [
    "gene_similarity_matrix = pd.read_csv('downloads/gene_similarity_matrix_cosine.txt.gz', sep='\\t', compression='gzip', index_col='Unnamed: 0')"
   ]
  },
  {
   "cell_type": "code",
   "execution_count": null,
   "metadata": {},
   "outputs": [],
   "source": [
    "sns.clustermap(gene_similarity_matrix, cmap='seismic', center=0)"
   ]
  },
  {
   "cell_type": "markdown",
   "metadata": {},
   "source": [
    "### Attribute Similarity Clustered Heatmap"
   ]
  },
  {
   "cell_type": "code",
   "execution_count": null,
   "metadata": {},
   "outputs": [],
   "source": [
    "attribute_similarity_matrix = pd.read_csv('downloads/attribute_similarity_matrix_cosine.txt.gz', sep='\\t', compression='gzip', index_col='Unnamed: 0')"
   ]
  },
  {
   "cell_type": "code",
   "execution_count": null,
   "metadata": {},
   "outputs": [],
   "source": [
    "sns.clustermap(attribute_similarity_matrix, cmap='seismic', center=0)"
   ]
  },
  {
   "cell_type": "markdown",
   "metadata": {},
   "source": [
    "### UMAP"
   ]
  },
  {
   "cell_type": "code",
   "execution_count": null,
   "metadata": {},
   "outputs": [],
   "source": [
    "def load_gmt(file):\n",
    "    gmt = OrderedDict()\n",
    "    for line in file:\n",
    "        term, *geneset = line.strip().split('\\t')\n",
    "        gmt[term+'_up'] = ' '.join(set(geneset))\n",
    "    return gmt\n",
    "libdict = load_gmt(open('downloads/gene_set_library_up_crisp.gmt', 'r'))\n",
    "def load_gmt(file):\n",
    "    gmt = OrderedDict()\n",
    "    for line in file:\n",
    "        term, *geneset = line.strip().split('\\t')\n",
    "        gmt[term+'_down'] = ' '.join(set(geneset))\n",
    "    return gmt\n",
    "downlibdict = load_gmt(open('downloads/gene_set_library_dn_crisp.gmt', 'r'))\n",
    "libdict.update(downlibdict)\n",
    "scatterdir = 'images/'"
   ]
  },
  {
   "cell_type": "code",
   "execution_count": null,
   "metadata": {},
   "outputs": [],
   "source": [
    "def process_scatterplot(libdict, nneighbors=30, mindist=0.1, spread=1.0, maxdf=1.0, mindf=1):\n",
    "    print(\"\\tTF-IDF vectorizing gene set data...\")\n",
    "    vec = TfidfVectorizer(max_df=maxdf, min_df=mindf)\n",
    "    X = vec.fit_transform(libdict.values())\n",
    "    print(X.shape)\n",
    "    adata = anndata.AnnData(X)\n",
    "    adata.obs.index = libdict.keys()\n",
    "\n",
    "    print(\"\\tPerforming Leiden clustering...\")\n",
    "    ### the n_neighbors and min_dist parameters can be altered\n",
    "    sc.pp.neighbors(adata, n_neighbors=nneighbors)\n",
    "    sc.tl.leiden(adata, resolution=1.0)\n",
    "    sc.tl.umap(adata, min_dist=mindist, spread=spread, random_state=42)\n",
    "\n",
    "    new_order = adata.obs.sort_values(by='leiden').index.tolist()\n",
    "    adata = adata[new_order, :]\n",
    "    adata.obs['leiden'] = 'Cluster ' + adata.obs['leiden'].astype('object')\n",
    "\n",
    "    df = pd.DataFrame(adata.obsm['X_umap'])\n",
    "    df.columns = ['x', 'y']\n",
    "\n",
    "    df['cluster'] = adata.obs['leiden'].values\n",
    "    df['term'] = adata.obs.index\n",
    "    df['genes'] = [libdict[l] for l in df['term']]\n",
    "\n",
    "    return df"
   ]
  },
  {
   "cell_type": "code",
   "execution_count": null,
   "metadata": {},
   "outputs": [],
   "source": [
    "def get_scatter_colors(df):\n",
    "    clusters = pd.unique(df['cluster']).tolist()\n",
    "    colors = list(Category20[20])[::2] + list(Category20[20])[1::2]\n",
    "    color_mapper = {clusters[i]: colors[i % 20] for i in range(len(clusters))}\n",
    "    return color_mapper\n",
    "\n",
    "def get_scatterplot(scatterdf):\n",
    "    df = scatterdf.copy()\n",
    "    color_mapper = get_scatter_colors(df)\n",
    "    df['color'] = df['cluster'].apply(lambda x: color_mapper[x])\n",
    "\n",
    "    hover_emb = HoverTool(name=\"df\", tooltips=\"\"\"\n",
    "        <div style=\"margin: 10\">\n",
    "            <div style=\"margin: 0 auto; width:300px;\">\n",
    "                <span style=\"font-size: 12px; font-weight: bold;\">Gene Set:</span>\n",
    "                <span style=\"font-size: 12px\">@gene_set</span>\n",
    "            <div style=\"margin: 0 auto; width:300px;\">\n",
    "                <span style=\"font-size: 12px; font-weight: bold;\">Coordinates:</span>\n",
    "                <span style=\"font-size: 12px\">(@x,@y)</span>\n",
    "            <div style=\"margin: 0 auto; width:300px;\">\n",
    "                <span style=\"font-size: 12px; font-weight: bold;\">Cluster:</span>\n",
    "                <span style=\"font-size: 12px\">@cluster</span>\n",
    "            </div>\n",
    "        </div>\n",
    "    \"\"\")\n",
    "    tools_emb = [hover_emb, 'pan', 'wheel_zoom', 'reset', 'save']\n",
    "\n",
    "    plot_emb = figure(\n",
    "        width=1000, \n",
    "        height=700, \n",
    "        tools=tools_emb\n",
    "    )\n",
    "\n",
    "    source = ColumnDataSource(\n",
    "        data=dict(\n",
    "            x = df['x'],\n",
    "            y = df['y'],\n",
    "            gene_set = df['term'],\n",
    "            cluster = df['cluster'],\n",
    "            colors = df['color'],\n",
    "            label = df['cluster']\n",
    "        )\n",
    "    )\n",
    "\n",
    "    # hide axis labels and grid lines\n",
    "    plot_emb.xaxis.major_tick_line_color = None\n",
    "    plot_emb.xaxis.minor_tick_line_color = None\n",
    "    plot_emb.yaxis.major_tick_line_color = None\n",
    "    plot_emb.yaxis.minor_tick_line_color = None\n",
    "    plot_emb.xaxis.major_label_text_font_size = '0pt'\n",
    "    plot_emb.yaxis.major_label_text_font_size = '0pt' \n",
    "\n",
    "    plot_emb.output_backend = \"svg\"    \n",
    "    \n",
    "    plot_emb.title = 'Gene Sets in the GTEx Tissue Gene Expression Profiles 2023 Library'\n",
    "    plot_emb.xaxis.axis_label = \"UMAP_1\"\n",
    "    plot_emb.yaxis.axis_label = \"UMAP_2\"\n",
    "    plot_emb.xaxis.axis_label_text_font_style = 'normal'\n",
    "    plot_emb.xaxis.axis_label_text_font_size = '18px'\n",
    "    plot_emb.yaxis.axis_label_text_font_size = '18px'\n",
    "    plot_emb.yaxis.axis_label_text_font_style = 'normal'\n",
    "    plot_emb.title.align = 'center'\n",
    "    plot_emb.title.text_font_size = '18px'\n",
    "    \n",
    "    s = plot_emb.scatter(\n",
    "        'x', \n",
    "        'y', \n",
    "        size = 4, \n",
    "        source = source, \n",
    "        color = 'colors'\n",
    "    )\n",
    "    \n",
    "    return plot_emb"
   ]
  },
  {
   "cell_type": "code",
   "execution_count": null,
   "metadata": {},
   "outputs": [],
   "source": [
    "## defaults: nneighbors=30, mindist=0.1, spread=1.0, maxdf=1.0, mindf=1\n",
    "scatter_df = process_scatterplot(libdict, nneighbors=8,mindist=0.05\n",
    "     ,spread=2\n",
    "     #,maxdf=20\n",
    "     ,mindf=2\n",
    ")\n",
    "\n",
    "# Display Scatter Plot\n",
    "plot = get_scatterplot(scatter_df)\n",
    "show(plot)"
   ]
  },
  {
   "cell_type": "code",
   "execution_count": null,
   "metadata": {},
   "outputs": [],
   "source": [
    "output_file(filename=f\"{scatterdir}/gtexatissue23.html\", title = 'Gene Sets in the GTEx Tissue Gene Expression Profiles 2023 Library')\n",
    "save(plot)"
   ]
  },
  {
   "cell_type": "code",
   "execution_count": null,
   "metadata": {},
   "outputs": [],
   "source": []
  }
 ],
 "metadata": {
  "kernelspec": {
   "display_name": "Python 3.10.13 ('harmonizomeETL')",
   "language": "python",
   "name": "python3"
  },
  "language_info": {
   "codemirror_mode": {
    "name": "ipython",
    "version": 3
   },
   "file_extension": ".py",
   "mimetype": "text/x-python",
   "name": "python",
   "nbconvert_exporter": "python",
   "pygments_lexer": "ipython3",
   "version": "3.10.13"
  },
  "orig_nbformat": 4,
  "vscode": {
   "interpreter": {
    "hash": "3ad6724d56c4b72bd8e5b8da3c2e0dcf6d86fdd164f3c98d6d6a78c076afabab"
   }
  }
 },
 "nbformat": 4,
 "nbformat_minor": 2
}
