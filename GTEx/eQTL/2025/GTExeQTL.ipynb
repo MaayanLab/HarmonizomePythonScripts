{
 "cells": [
  {
   "cell_type": "markdown",
   "metadata": {},
   "source": [
    "# GTEx eQTL 2025\n"
   ]
  },
  {
   "cell_type": "code",
   "execution_count": null,
   "metadata": {},
   "outputs": [],
   "source": [
    "import pandas as pd\n",
    "import datetime\n",
    "import goenrich\n",
    "import os\n",
    "import numpy as np\n",
    "import scipy.spatial.distance as dist\n",
    "import seaborn as sns\n",
    "import sys\n",
    "from tqdm import tqdm\n",
    "import json\n",
    "import scanpy as sc\n",
    "\n",
    "from sklearn.feature_extraction.text import TfidfVectorizer\n",
    "import anndata\n",
    "from collections import OrderedDict\n",
    "\n",
    "# Bokeh\n",
    "from bokeh.io import output_notebook\n",
    "from bokeh.plotting import figure, show, save, output_file\n",
    "from bokeh.models import HoverTool, ColumnDataSource\n",
    "from bokeh.palettes import Category20\n",
    "output_notebook()\n",
    "\n",
    "from IPython.display import display, HTML, Markdown\n",
    "sys.setrecursionlimit(100000)"
   ]
  },
  {
   "cell_type": "markdown",
   "metadata": {},
   "source": [
    "## Load and Pre-Process Data"
   ]
  },
  {
   "cell_type": "code",
   "execution_count": null,
   "metadata": {},
   "outputs": [],
   "source": [
    "eqtl_dir = 'GTEx_Analysis_v10_eQTL_updated'\n",
    "eqtl = pd.DataFrame(columns=['gene_id', 'gene_name', 'biotype', 'gene_chr', 'gene_start', 'gene_end',\n",
    "       'strand', 'num_var', 'beta_shape1', 'beta_shape2', 'true_df',\n",
    "       'pval_true_df', 'variant_id', 'tss_distance', 'chr', 'variant_pos',\n",
    "       'ref', 'alt', 'num_alt_per_site', 'rs_id_dbSNP155_GRCh38p13',\n",
    "       'ma_samples', 'ma_count', 'af', 'pval_nominal', 'slope', 'slope_se',\n",
    "       'pval_perm', 'pval_beta', 'qval', 'pval_nominal_threshold', 'afc',\n",
    "       'afc_se'])\n",
    "for tissue in tqdm(os.listdir(eqtl_dir)):\n",
    "    if 'parquet' not in tissue:\n",
    "        matrix = pd.read_csv(f'{eqtl_dir}/{tissue}', sep='\\t', compression='gzip')\n",
    "        eqtl = pd.concat([eqtl, matrix], axis=0)\n",
    "\n",
    "eqtl"
   ]
  },
  {
   "cell_type": "code",
   "execution_count": null,
   "metadata": {},
   "outputs": [],
   "source": [
    "eqtl = eqtl[['gene_id', 'gene_name', 'biotype', 'variant_id', 'rs_id_dbSNP155_GRCh38p13', 'qval']].sort_values('qval')\n",
    "eqtl['gene_name'] = eqtl['gene_name'].str.upper()\n",
    "eqtl = eqtl[(eqtl['biotype']=='protein_coding')]\n",
    "eqtl"
   ]
  },
  {
   "cell_type": "code",
   "execution_count": null,
   "metadata": {},
   "outputs": [],
   "source": [
    "gene_info = pd.read_csv('../../tables/Homo_sapiens.gene_info.gz', sep='\\t', compression='gzip')\n",
    "gene_info = gene_info[(gene_info['#tax_id']==9606) & (gene_info['type_of_gene']=='protein-coding')]\n",
    "gene_info['Symbol'] = gene_info['Symbol'].str.upper()\n",
    "symbols = set(gene_info['Symbol'])\n",
    "gene_info"
   ]
  },
  {
   "cell_type": "code",
   "execution_count": null,
   "metadata": {},
   "outputs": [],
   "source": [
    "synonyms = gene_info.copy()\n",
    "synonyms['Synonyms'] = synonyms.apply(lambda x: x['Synonyms'].upper().split('|') + [x['Symbol']], axis=1)\n",
    "synonyms = synonyms.explode('Synonyms')\n",
    "synonyms = synonyms[synonyms['Synonyms']!='-']\n",
    "synonyms = synonyms.set_index('Synonyms')['Symbol'].to_dict()"
   ]
  },
  {
   "cell_type": "code",
   "execution_count": null,
   "metadata": {},
   "outputs": [],
   "source": [
    "eqtl['gene_name'] = eqtl['gene_name'].map(synonyms)\n",
    "eqtl = eqtl.dropna().groupby(['gene_name', 'variant_id', 'rs_id_dbSNP155_GRCh38p13'])['qval'].mean().sort_values().reset_index()\n",
    "eqtl['Score'] = eqtl['qval'].map(lambda x: -np.log10(x)/10)\n",
    "filt = eqtl[eqtl['qval']<1e-10]\n",
    "eqtl"
   ]
  },
  {
   "cell_type": "code",
   "execution_count": null,
   "metadata": {},
   "outputs": [],
   "source": [
    "display(filt)\n",
    "filt.nunique()"
   ]
  },
  {
   "cell_type": "code",
   "execution_count": null,
   "metadata": {},
   "outputs": [],
   "source": [
    "for i in range(2,11):\n",
    "    x = eqtl[eqtl['qval']<1*10**-i]\n",
    "    print('q<'+str(1*10**-i), x['gene_name'].nunique(), 'genes,', x['variant_id'].nunique(), 'SNPs,', x.shape[0], 'associations')"
   ]
  },
  {
   "cell_type": "code",
   "execution_count": null,
   "metadata": {},
   "outputs": [],
   "source": [
    "rs_dict = eqtl[['variant_id', 'rs_id_dbSNP155_GRCh38p13']].drop_duplicates().set_index('variant_id')['rs_id_dbSNP155_GRCh38p13'].to_dict()"
   ]
  },
  {
   "cell_type": "code",
   "execution_count": null,
   "metadata": {},
   "outputs": [],
   "source": [
    "error"
   ]
  },
  {
   "cell_type": "markdown",
   "metadata": {},
   "source": [
    "## Process Data for SQL Ingestion"
   ]
  },
  {
   "cell_type": "markdown",
   "metadata": {},
   "source": [
    "### Dataset"
   ]
  },
  {
   "cell_type": "code",
   "execution_count": null,
   "metadata": {},
   "outputs": [],
   "source": [
    "#(id, name, name_without_resource, description, association, gene_set_description, gene_sets_description, attribute_set_description, is_signed, is_continuous_valued, last_updated, directory, num_page_views, resource_fk, measurement_fk, dataset_group_fk, attribute_type_fk, attribute_group_fk, evidence_type, evidence_group, measurement_bias, attribute_type_plural)\n",
    "(175, 'GTEx eQTL 2025', 'eQTL 2025', 'Significance values for all gene-SNP pairs testing likelihood that SNP affects gene expression', 'gene-SNP associations by likelihood that SNP regulates gene', 'genes with expression regulated by the {0} SNP from the GTEx eQTL 2025 dataset.', 'sets of genes with expression regulated by SNPs from the GTEx 2025 eQTL dataset.', 'SNPs regulating expression of {0} gene from the GTEx eQTL 2025 dataset.', 0, 1, '2025-04-22', 'gtexeqtl25', 7510, 29, 11, 2, 44, 8, 'expression quantitative trait loci by single nucleotide polymorphism microarray and RNA-seq', 'primary experimental data', 'high throughput, data driven', 'SNPs')"
   ]
  },
  {
   "cell_type": "markdown",
   "metadata": {},
   "source": [
    "### Publication"
   ]
  },
  {
   "cell_type": "code",
   "execution_count": null,
   "metadata": {},
   "outputs": [],
   "source": [
    "(263, 175, 150)"
   ]
  },
  {
   "cell_type": "markdown",
   "metadata": {},
   "source": [
    "### Gene"
   ]
  },
  {
   "cell_type": "code",
   "execution_count": null,
   "metadata": {},
   "outputs": [],
   "source": [
    "genes = pd.read_csv('../../tables/gene.csv')\n",
    "genes['symbol'] = genes['symbol'].str.upper()\n",
    "genelist = set(genes['symbol'])\n",
    "genefks = genes.set_index('symbol')['id'].to_dict()\n",
    "geneids = gene_info.set_index('Symbol')['GeneID'].drop_duplicates()\n",
    "genedescs = gene_info.set_index('Symbol')['description'].drop_duplicates()\n",
    "index = 58842\n",
    "geneurl = 'https://ncbi.nlm.nih.gov/gene/'\n",
    "\n",
    "for gene in filt['gene_name'].unique():\n",
    "    if gene not in genelist:\n",
    "        geneid = geneids[gene]\n",
    "        print((index, gene, geneid, genedescs[gene], geneurl+str(geneid)), end=',\\n')\n",
    "        genefks[gene] = index\n",
    "        index += 1"
   ]
  },
  {
   "cell_type": "markdown",
   "metadata": {},
   "source": [
    "### Attribute"
   ]
  },
  {
   "cell_type": "code",
   "execution_count": null,
   "metadata": {},
   "outputs": [],
   "source": [
    "index = 466782\n",
    "attributes = pd.read_csv('../../tables/attribute.tsv', sep='\\t')\n",
    "attributes['name_from_naming_authority']= attributes['name_from_naming_authority'].str.lower()\n",
    "attributefks = attributes.set_index('name_from_naming_authority')['id'].to_dict()\n",
    "dbsnpurl = 'https://www.ncbi.nlm.nih.gov/snp/'\n",
    "for snp in filt['variant_id'].unique():\n",
    "    if snp.lower() not in attributefks:\n",
    "        print((index, snp, rs_dict[snp], f'SNP on Chromosome {snp.split(\"_\")[0].replace(\"chr\",\"\")}', dbsnpurl+rs_dict[snp], 53), end=',\\n')\n",
    "        attributefks[snp.lower()] = index\n",
    "        index += 1"
   ]
  },
  {
   "cell_type": "markdown",
   "metadata": {},
   "source": [
    "### Gene Set"
   ]
  },
  {
   "cell_type": "code",
   "execution_count": null,
   "metadata": {},
   "outputs": [],
   "source": [
    "index = 137600000\n",
    "genesetfks = {}\n",
    "dbsnpurl = 'https://www.ncbi.nlm.nih.gov/snp/'\n",
    "for snp in filt['variant_id'].unique():\n",
    "    print((index, snp, rs_dict[snp], f'SNP on Chromosome {snp.split(\"_\")[0].replace(\"chr\",\"\")}', dbsnpurl+rs_dict[snp], 175, 44, attributefks[snp.lower()]), end=',\\n')\n",
    "    genesetfks[snp] = index\n",
    "    index += 1"
   ]
  },
  {
   "cell_type": "markdown",
   "metadata": {},
   "source": [
    "### Association"
   ]
  },
  {
   "cell_type": "code",
   "execution_count": null,
   "metadata": {},
   "outputs": [],
   "source": [
    "associations = filt.copy()\n",
    "associations['gene_name'] = associations['gene_name'].map(genefks)\n",
    "associations['variant_id'] = associations['variant_id'].map(genesetfks)\n",
    "associations = associations[['gene_name', 'variant_id', 'Score']]\n",
    "associations.columns = ['gene_fk', 'gene_set_fk', 'standardized_value']\n",
    "associations['threshold_value'] = 1\n",
    "associations.index += 66000000\n",
    "associations.to_csv('../../harmonizome-update/gtexeqtl25.csv')\n",
    "associations"
   ]
  },
  {
   "cell_type": "markdown",
   "metadata": {},
   "source": [
    "## Create Downloads"
   ]
  },
  {
   "cell_type": "code",
   "execution_count": null,
   "metadata": {},
   "outputs": [],
   "source": [
    "output_path = 'downloads/'"
   ]
  },
  {
   "cell_type": "markdown",
   "metadata": {},
   "source": [
    "### Binary Matrix"
   ]
  },
  {
   "cell_type": "code",
   "execution_count": null,
   "metadata": {},
   "outputs": [],
   "source": [
    "binarymatrix = pd.crosstab(filt['gene_name'], filt['variant_id'])\n",
    "binarymatrixT = binarymatrix.T\n",
    "binarymatrix.to_csv(output_path+'gene_attribute_matrix.txt.gz', sep='\\t', compression='gzip')\n",
    "binarymatrix"
   ]
  },
  {
   "cell_type": "markdown",
   "metadata": {},
   "source": [
    "### Gene-Attribute Edge List"
   ]
  },
  {
   "cell_type": "code",
   "execution_count": null,
   "metadata": {},
   "outputs": [],
   "source": [
    "edgelist = filt.reset_index(drop=True)\n",
    "edgelist['Gene ID'] = edgelist['gene_name'].map(geneids).astype(int)\n",
    "edgelist = edgelist[['gene_name', 'Gene ID', 'variant_id', 'rs_id_dbSNP155_GRCh38p13', 'Score']]\n",
    "edgelist.columns = ['Gene', 'Gene ID', 'SNP', 'SNP ID', 'Standardized Value']\n",
    "edgelist['Threshold Value'] = 1\n",
    "edgelist.to_csv(output_path+'gene_attribute_edges.txt.gz', sep='\\t', compression='gzip')\n",
    "edgelist"
   ]
  },
  {
   "cell_type": "markdown",
   "metadata": {},
   "source": [
    "### Gene List"
   ]
  },
  {
   "cell_type": "code",
   "execution_count": null,
   "metadata": {},
   "outputs": [],
   "source": [
    "geneslist = edgelist[['Gene', 'Gene ID']].drop_duplicates().reset_index(drop=True)\n",
    "geneslist.to_csv(output_path+'gene_list_terms.txt.gz', sep='\\t', compression='gzip')\n",
    "geneslist"
   ]
  },
  {
   "cell_type": "markdown",
   "metadata": {},
   "source": [
    "### Attribute List"
   ]
  },
  {
   "cell_type": "code",
   "execution_count": null,
   "metadata": {},
   "outputs": [],
   "source": [
    "attributeslist = edgelist[['SNP', 'SNP ID']].drop_duplicates().reset_index(drop=True)\n",
    "attributeslist.to_csv(output_path+'attribute_list_entries.txt.gz', sep='\\t', compression='gzip')\n",
    "attributeslist"
   ]
  },
  {
   "cell_type": "markdown",
   "metadata": {},
   "source": [
    "### Gene Set Library"
   ]
  },
  {
   "cell_type": "code",
   "execution_count": null,
   "metadata": {},
   "outputs": [],
   "source": [
    "with open(output_path+'gene_set_library_crisp.gmt', 'w') as f:\n",
    "    arr = binarymatrix.reset_index(drop=True).to_numpy(dtype=np.int_)\n",
    "    attributes = binarymatrix.columns\n",
    "\n",
    "    w, h = arr.shape\n",
    "    for i in tqdm(range(h)):\n",
    "        if len([*binarymatrix.index[arr[:, i] == 1]])>= 5:\n",
    "            print(attributes[i], '', *binarymatrix.index[arr[:, i] == 1], sep='\\t', end='\\n', file=f)"
   ]
  },
  {
   "cell_type": "markdown",
   "metadata": {},
   "source": [
    "### Attribute Set Library"
   ]
  },
  {
   "cell_type": "code",
   "execution_count": null,
   "metadata": {},
   "outputs": [],
   "source": [
    "with open(output_path+'attribute_set_library_crisp.gmt', 'w') as f:\n",
    "    arr = binarymatrixT.reset_index(drop=True).to_numpy(dtype=np.int_)\n",
    "    genes = binarymatrixT.columns\n",
    "\n",
    "    w, h = arr.shape\n",
    "    for i in tqdm(range(h)):\n",
    "        if len([*binarymatrixT.index[arr[:, i] == 1]])>= 5:\n",
    "            print(genes[i], '', *binarymatrixT.index[arr[:, i] == 1], sep='\\t', end='\\n', file=f)"
   ]
  },
  {
   "cell_type": "code",
   "execution_count": null,
   "metadata": {},
   "outputs": [],
   "source": [
    "binarymatrix = pd.read_csv('downloads/gene_attribute_matrix.txt.gz', sep='\\t', compression='gzip', index_col=0).rename_axis('Gene')"
   ]
  },
  {
   "cell_type": "markdown",
   "metadata": {},
   "source": [
    "### Gene-Gene Similarity Matrix"
   ]
  },
  {
   "cell_type": "code",
   "execution_count": null,
   "metadata": {},
   "outputs": [],
   "source": [
    "gene_similarity_matrix = dist.pdist(binarymatrix.to_numpy(dtype=np.int_), 'cosine')\n",
    "gene_similarity_matrix = dist.squareform(gene_similarity_matrix)\n",
    "gene_similarity_matrix = 1 - gene_similarity_matrix\n",
    "\n",
    "gene_similarity_matrix = pd.DataFrame(data=gene_similarity_matrix, index=binarymatrix.index, columns=binarymatrix.index)\n",
    "gene_similarity_matrix.index.name = None\n",
    "gene_similarity_matrix.columns.name = None\n",
    "gene_similarity_matrix.to_csv(output_path+'gene_similarity_matrix_cosine.txt.gz', sep='\\t', compression='gzip')\n",
    "gene_similarity_matrix"
   ]
  },
  {
   "cell_type": "markdown",
   "metadata": {},
   "source": [
    "### Attribute-Attribute Similarity Matrix"
   ]
  },
  {
   "cell_type": "code",
   "execution_count": null,
   "metadata": {},
   "outputs": [],
   "source": [
    "attribute_similarity_matrix = dist.pdist(binarymatrixT.to_numpy(dtype=np.int_), 'cosine')\n",
    "attribute_similarity_matrix = dist.squareform(attribute_similarity_matrix)\n",
    "attribute_similarity_matrix = 1 - attribute_similarity_matrix\n",
    "\n",
    "attribute_similarity_matrix = pd.DataFrame(data=attribute_similarity_matrix, index=binarymatrixT.index, columns=binarymatrixT.index)\n",
    "attribute_similarity_matrix.index.name = None\n",
    "attribute_similarity_matrix.columns.name = None\n",
    "attribute_similarity_matrix.to_csv(output_path+'attribute_similarity_matrix_cosine.txt.gz', sep='\\t', compression='gzip')\n",
    "attribute_similarity_matrix"
   ]
  },
  {
   "cell_type": "markdown",
   "metadata": {},
   "source": [
    "### Standardized Matrix"
   ]
  },
  {
   "cell_type": "code",
   "execution_count": null,
   "metadata": {},
   "outputs": [],
   "source": [
    "eqtl[(eqtl['gene_name'].isin(filt['gene_name'])) & (eqtl['variant_id'].isin(filt['variant_id']))]"
   ]
  },
  {
   "cell_type": "code",
   "execution_count": null,
   "metadata": {},
   "outputs": [],
   "source": [
    "eqtl = eqtl[(eqtl['gene_name'].isin(filt['gene_name'])) & (eqtl['variant_id'].isin(filt['variant_id']))]\n",
    "standardizedmatrix = pd.crosstab(eqtl['gene_name'], eqtl['variant_id'], values=eqtl['Score'], aggfunc='mean').fillna(0)\n",
    "standardizedmatrix.to_csv(\n",
    "    f'{output_path}gene_attribute_matrix_standardized.txt.gz',\n",
    "    sep='\\t',\n",
    "    compression='gzip',\n",
    ")\n",
    "standardizedmatrix"
   ]
  },
  {
   "cell_type": "markdown",
   "metadata": {},
   "source": [
    "### Knowledge Graph Serialization"
   ]
  },
  {
   "cell_type": "code",
   "execution_count": null,
   "metadata": {},
   "outputs": [],
   "source": [
    "nodes = {}\n",
    "edges = []\n",
    "\n",
    "for gene in geneslist.index:\n",
    "    gene = geneslist.loc[gene]\n",
    "    nodes[int(gene['Gene ID'])] = {\n",
    "        \"type\":\"gene\",\n",
    "        \"properties\": {\n",
    "            \"id\":int(gene['Gene ID']),\n",
    "            \"label\":gene['Gene']\n",
    "        }}\n",
    "\n",
    "for snp in attributeslist.index:\n",
    "    snp = attributeslist.loc[snp]\n",
    "    nodes[snp['SNP']] = {\n",
    "        \"type\":\"SNP\",\n",
    "        \"properties\": {\n",
    "            \"id\":snp['SNP'],\n",
    "            \"label\":snp['SNP ID']\n",
    "        }}\n",
    "\n",
    "for edge in edgelist.index:\n",
    "    edge = edgelist.loc[edge]\n",
    "    edges.append({\n",
    "        \"source\": int(edge['Gene ID']),\n",
    "        \"relation\": \"has SNP\",\n",
    "        \"target\": edge['SNP'],\n",
    "        \"properties\":{\n",
    "            \"id\":str(edge['Gene ID'])+\":\"+edge['SNP'],\n",
    "            \"source_id\":int(edge['Gene ID']),\n",
    "            \"source_label\":edge['Gene'],\n",
    "            \"target_label\":edge['SNP ID'],\n",
    "            \"target_id\":edge['SNP'],\n",
    "            \"directed\":True,\n",
    "            \"standardized\":edge['Standardized Value'],\n",
    "            \"threshold\":1\n",
    "        }})"
   ]
  },
  {
   "cell_type": "markdown",
   "metadata": {},
   "source": [
    "#### RDF"
   ]
  },
  {
   "cell_type": "code",
   "execution_count": null,
   "metadata": {},
   "outputs": [],
   "source": [
    "with open(output_path+'kg_serializations/gtexeqtl25.rdf', 'w') as f:\n",
    "    print('@prefix gene: <https://www.ncbi.nlm.nih.gov/gene/> .', file=f)\n",
    "    print('@prefix RO: <http://purl.obolibrary.org/RO_> .', file=f)\n",
    "    print('@prefix GTExeQTL: <https://www.gtexportal.org/home/snp/>.', file=f)\n",
    "    print('', file=f)\n",
    "    for edge in edges:\n",
    "        print('gene:'+str(edge['properties']['source_id']), '<has SNP>', edge['properties']['target_id'], end=' .\\n', file=f)"
   ]
  },
  {
   "cell_type": "markdown",
   "metadata": {},
   "source": [
    "#### JSON"
   ]
  },
  {
   "cell_type": "code",
   "execution_count": null,
   "metadata": {},
   "outputs": [],
   "source": [
    "with open(output_path+'kg_serializations/gtexeqtl25.json', 'w') as f:\n",
    "    serial = json.dump(\n",
    "        {\n",
    "            \"Version\":\"1\", \n",
    "            \"nodes\": nodes,\n",
    "            \"edges\": edges\n",
    "        }, indent=4, fp=f)"
   ]
  },
  {
   "cell_type": "markdown",
   "metadata": {},
   "source": [
    "#### TSV"
   ]
  },
  {
   "cell_type": "code",
   "execution_count": null,
   "metadata": {},
   "outputs": [],
   "source": [
    "nodeframe = pd.DataFrame(nodes).T\n",
    "nodeframe['id'] = nodeframe['properties'].apply(lambda x: x['id'])\n",
    "nodeframe['label'] = nodeframe['properties'].apply(lambda x: x['label'])\n",
    "nodeframe['namespace'] = nodeframe['type'].apply(lambda x: {'gene':'NCBI Entrez', 'SNP':'GTEx'}[x])\n",
    "nodeframe = nodeframe.get(['namespace', 'id', 'label']).reset_index(drop=True)\n",
    "nodeframe.to_csv(output_path+'kg_serializations/gtexeqtl25_tsv/nodes.tsv', sep='\\t')\n",
    "nodeframe"
   ]
  },
  {
   "cell_type": "code",
   "execution_count": null,
   "metadata": {},
   "outputs": [],
   "source": [
    "edgeframe = pd.DataFrame(edges)\n",
    "edgeframe['standardized'] = edgeframe['properties'].apply(lambda x: x['standardized'])\n",
    "edgeframe['threshold'] = edgeframe['properties'].apply(lambda x: x['threshold'])\n",
    "edgeframe = edgeframe.get(['source', 'relation', 'target', 'standardized', 'threshold'])\n",
    "edgeframe.to_csv(output_path+'kg_serializations/gtexeqtl25_tsv/edges.tsv', sep='\\t')\n",
    "edgeframe"
   ]
  },
  {
   "cell_type": "markdown",
   "metadata": {},
   "source": [
    "### Gene Attribute Heat Map"
   ]
  },
  {
   "cell_type": "code",
   "execution_count": null,
   "metadata": {},
   "outputs": [],
   "source": [
    "sns.clustermap(binarymatrix, cmap='seismic', center=0)"
   ]
  },
  {
   "cell_type": "markdown",
   "metadata": {},
   "source": [
    "### Gene Similarity Clustered Heatmap"
   ]
  },
  {
   "cell_type": "code",
   "execution_count": null,
   "metadata": {},
   "outputs": [],
   "source": [
    "sns.clustermap(gene_similarity_matrix, cmap='seismic', center=0)"
   ]
  },
  {
   "cell_type": "markdown",
   "metadata": {},
   "source": [
    "### Attribute Similarity Clustered Heatmap"
   ]
  },
  {
   "cell_type": "code",
   "execution_count": null,
   "metadata": {},
   "outputs": [],
   "source": [
    "sns.heatmap(attribute_similarity_matrix, cmap='seismic', center=0)"
   ]
  }
 ],
 "metadata": {
  "kernelspec": {
   "display_name": "Python 3.10.13 ('harmonizomeETL')",
   "language": "python",
   "name": "python3"
  },
  "language_info": {
   "codemirror_mode": {
    "name": "ipython",
    "version": 3
   },
   "file_extension": ".py",
   "mimetype": "text/x-python",
   "name": "python",
   "nbconvert_exporter": "python",
   "pygments_lexer": "ipython3",
   "version": "3.10.13"
  },
  "orig_nbformat": 4,
  "vscode": {
   "interpreter": {
    "hash": "3ad6724d56c4b72bd8e5b8da3c2e0dcf6d86fdd164f3c98d6d6a78c076afabab"
   }
  }
 },
 "nbformat": 4,
 "nbformat_minor": 2
}
