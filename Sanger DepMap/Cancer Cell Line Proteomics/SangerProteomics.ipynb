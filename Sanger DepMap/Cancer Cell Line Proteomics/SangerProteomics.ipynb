{
 "cells": [
  {
   "cell_type": "markdown",
   "metadata": {},
   "source": [
    "# Sanger DepMap Cancer Cell Line Proteomics\n",
    "\n",
    "The [Sanger Cancer Dependency Map](https://depmap.sanger.ac.uk/) is a project aimed at assigning dependencies to every cancer cell which could be leveraged in patient treatment. The resource contains data for gene expression, gene mutation, CRISPR knockout, proteomics, and many more analysis methods in order to exhaustively explore cancer dependencies.\n",
    "\n",
    "The Cancer Cell Line Proteomics dataset measures protein intensity values acquired using data-independent acquisition mass spectrometry (DIA-MS). The dataset includes associations between 949 cancerous human cell lines and 8320 genes.\n",
    "\n",
    "Gonçalves, E et al. (2022). \"Pan-cancer proteomic map of 949 human cell lines.\" Cancer Cell 40(8): 835-849.e838."
   ]
  },
  {
   "cell_type": "code",
   "execution_count": null,
   "metadata": {},
   "outputs": [],
   "source": [
    "import pandas as pd\n",
    "import datetime\n",
    "import numpy as np\n",
    "import scipy.spatial.distance as dist\n",
    "import seaborn\n",
    "import sys\n",
    "import json\n",
    "import scanpy as sc\n",
    "\n",
    "from sklearn.feature_extraction.text import TfidfVectorizer\n",
    "import anndata\n",
    "from bokeh.io import output_notebook, export_svg, output_file, save\n",
    "from bokeh.io.export import get_screenshot_as_png\n",
    "from bokeh.plotting import figure, show\n",
    "from bokeh.models import HoverTool, ColumnDataSource\n",
    "from bokeh.palettes import Category20\n",
    "sys.setrecursionlimit(100000)"
   ]
  },
  {
   "cell_type": "markdown",
   "metadata": {},
   "source": [
    "## Load Data\n",
    "CSV files are downloaded from the respective SQL table containing the database and added to a folder named \"tables\". Mapping files are also placed in this folder."
   ]
  },
  {
   "cell_type": "markdown",
   "metadata": {},
   "source": [
    "The Sanger DepMap Cancer Cell Line Proteomics data used below can be found [here](https://cellmodelpassports.sanger.ac.uk/downloads)."
   ]
  },
  {
   "cell_type": "code",
   "execution_count": null,
   "metadata": {},
   "outputs": [],
   "source": [
    "def threshold(zscore):\n",
    "    if zscore > 0:\n",
    "        return 1\n",
    "    elif zscore < 0:\n",
    "        return -1\n",
    "    return zscore"
   ]
  },
  {
   "cell_type": "code",
   "execution_count": null,
   "metadata": {},
   "outputs": [],
   "source": [
    "proteomics = pd.read_csv('newdata/SangerProteomics/proteomics_all_20220713.csv').set_index(['model_name','symbol'])\n",
    "proteomics['threshold'] = proteomics['zscore'].apply(threshold)\n",
    "proteomics = proteomics.reset_index()\n",
    "proteomics"
   ]
  },
  {
   "cell_type": "code",
   "execution_count": null,
   "metadata": {},
   "outputs": [],
   "source": [
    "print(proteomics.model_name.unique().__len__(), 'cell lines,',proteomics.symbol.unique().__len__(),'genes')"
   ]
  },
  {
   "cell_type": "markdown",
   "metadata": {},
   "source": [
    "## Pre-process Data"
   ]
  },
  {
   "cell_type": "markdown",
   "metadata": {},
   "source": [
    "### Filter Genes"
   ]
  },
  {
   "cell_type": "code",
   "execution_count": null,
   "metadata": {},
   "outputs": [],
   "source": [
    "prodgenes = pd.read_csv('production/gene_updated.csv')\n",
    "prodgenes['symbol'] = prodgenes['symbol'].apply(str.upper)\n",
    "prodgenes"
   ]
  },
  {
   "cell_type": "code",
   "execution_count": null,
   "metadata": {},
   "outputs": [],
   "source": [
    "geneinfo = pd.read_csv('tables/gene_info', sep='\\t')\n",
    "geneinfo = geneinfo[geneinfo['#tax_id']==9606]\n",
    "geneinfo = geneinfo[geneinfo['type_of_gene']=='protein-coding']\n",
    "geneinfo = geneinfo.get(['GeneID','Symbol','description'])\n",
    "geneinfo"
   ]
  },
  {
   "cell_type": "code",
   "execution_count": null,
   "metadata": {},
   "outputs": [],
   "source": [
    "dropgenes = []\n",
    "for gene in proteomics.symbol.unique():\n",
    "    if gene not in prodgenes.symbol.tolist() and gene not in geneinfo.Symbol.tolist():\n",
    "        dropgenes.append(gene)"
   ]
  },
  {
   "cell_type": "code",
   "execution_count": null,
   "metadata": {},
   "outputs": [],
   "source": [
    "proteomics = proteomics.set_index('symbol').drop(dropgenes, axis=0).reset_index()\n",
    "proteomics"
   ]
  },
  {
   "cell_type": "markdown",
   "metadata": {},
   "source": [
    "### Map Gene Symbols to Entrez NCBI ID"
   ]
  },
  {
   "cell_type": "code",
   "execution_count": null,
   "metadata": {},
   "outputs": [],
   "source": [
    "genedict = prodgenes.set_index('symbol')['ncbi_entrez_gene_id'].to_dict()\n",
    "genedict.update(geneinfo.set_index('Symbol')['GeneID'].to_dict())\n",
    "proteomics['gene_id'] = proteomics['symbol'].apply(lambda x: genedict[x])\n",
    "proteomics = proteomics.get(['symbol','gene_id','model_name','model_id','protein_intensity','zscore','threshold'])\n",
    "proteomics"
   ]
  },
  {
   "cell_type": "markdown",
   "metadata": {},
   "source": [
    "## Process Data"
   ]
  },
  {
   "cell_type": "code",
   "execution_count": null,
   "metadata": {},
   "outputs": [],
   "source": [
    "proteomics = proteomics.sort_values(['model_name','zscore'], ascending=[True,False]).set_index('model_name')\n",
    "edgelist = pd.DataFrame(columns=proteomics.columns)\n",
    "for cellline in proteomics.index.unique():\n",
    "    edgelist = pd.concat([edgelist,proteomics.loc[cellline][:100]])\n",
    "proteomics = proteomics.reset_index().sort_values(['model_name','zscore']).set_index('model_name')\n",
    "for cellline in proteomics.index.unique():\n",
    "    edgelist = pd.concat([edgelist,proteomics.loc[cellline][:100]])\n",
    "proteomics = proteomics.reset_index()\n",
    "edgelist = edgelist.reset_index()\n",
    "edgelist.columns = proteomics.columns\n",
    "edgelist"
   ]
  },
  {
   "cell_type": "code",
   "execution_count": null,
   "metadata": {},
   "outputs": [],
   "source": [
    "print(proteomics.model_name.unique().__len__(), 'cell lines,',proteomics.symbol.unique().__len__(),'genes')"
   ]
  },
  {
   "cell_type": "markdown",
   "metadata": {},
   "source": [
    "## Harmonizome Additions"
   ]
  },
  {
   "cell_type": "markdown",
   "metadata": {},
   "source": [
    "### Resource"
   ]
  },
  {
   "cell_type": "code",
   "execution_count": null,
   "metadata": {},
   "outputs": [],
   "source": [
    "('Sanger Cancer Dependency Map',\n",
    "    'DepMap',\n",
    "    'This project aims to assign a dependency to every cancer cell in a patient which could be exploited to develop new therapies. This knowledge is foundational for precision cancer medicine',\n",
    "    'Identifying all dependencies in every cancer cell',\n",
    "    'https://depmap.sanger.ac.uk/',\n",
    "    949,\n",
    "    1,\n",
    "    'depmap_logo.png')"
   ]
  },
  {
   "cell_type": "markdown",
   "metadata": {},
   "source": [
    "### Dataset"
   ]
  },
  {
   "cell_type": "code",
   "execution_count": null,
   "metadata": {},
   "outputs": [],
   "source": [
    "(130, \n",
    "    'Sanger Dependency Map Cancer Cell Line Proteomics', \n",
    "    'Cancer Cell Line Proteomics', \n",
    "    'Protein intensity values acquired using data-independent acquisition mass spectrometry (DIA-MS).', \n",
    "    'association', \n",
    "    'gene_set_description', \n",
    "    'gene_sets_description from the Sanger Dependency Map Cancer Cell Line Proteomics dataset', \n",
    "    'attribute_set_description from the Sanger Dependency Map Cancer Cell Line Proteomics dataset', \n",
    "    '', \n",
    "    '', \n",
    "    0, \n",
    "    0, \n",
    "    datetime.datetime.today().strftime('%Y-%m-%d'), \n",
    "    'sangerdepmap', \n",
    "    0, \n",
    "    76, \n",
    "    25, \n",
    "    5, \n",
    "    1, \n",
    "    1, \n",
    "    'protein expression by mass spectrometry', \n",
    "    'curated experimental data', \n",
    "    'high throughput, data driven', \n",
    "    'cell lines')"
   ]
  },
  {
   "cell_type": "markdown",
   "metadata": {},
   "source": [
    "### Publication"
   ]
  },
  {
   "cell_type": "code",
   "execution_count": null,
   "metadata": {},
   "outputs": [],
   "source": [
    "('130',\n",
    "'Gonçalves, E et al. (2022) DepMap: Pan-cancer proteomic map of 949 human cell lines. Cancer Cell 40, 835-849.e8.',\n",
    "'Gonçalves, Cancer Cell, 2022',\n",
    "'https://doi.org/10.1016/j.ccell.2022.06.010',\n",
    "'35839778',\n",
    "'http://www.ncbi.nlm.nih.gov/pubmed/35839778',\n",
    "'Gonçalves',\n",
    "'E',\n",
    "'Cancer Cell',\n",
    "'2022',\n",
    "'Pan-cancer proteomic map of 949 human cell lines',\n",
    "'40',\n",
    "'835-49')"
   ]
  },
  {
   "cell_type": "markdown",
   "metadata": {},
   "source": [
    "### Naming Authority"
   ]
  },
  {
   "cell_type": "code",
   "execution_count": null,
   "metadata": {},
   "outputs": [],
   "source": [
    "(98,\n",
    "    'Cell Model Passports',\n",
    "    'CMP',\n",
    "    'A Hub for Preclinical Cancer Models - Annotation, Genomics & Functional Datasets',\n",
    "    'cellmodelpassports.sanger.ac.uk',\n",
    "    130)"
   ]
  },
  {
   "cell_type": "markdown",
   "metadata": {},
   "source": [
    "### Attributes To Add"
   ]
  },
  {
   "cell_type": "code",
   "execution_count": null,
   "metadata": {},
   "outputs": [],
   "source": [
    "cancermodels = pd.read_csv('tables/model_list_20221014.csv')\n",
    "cancermodels = cancermodels.set_index('model_id')\n",
    "cancermodels = (cancermodels['cancer_type']+' '+cancermodels['tissue_status']).to_dict()\n",
    "attributes = edgelist.get(['model_name','model_id']).drop_duplicates().reset_index(drop=True)\n",
    "attributes['model_desc'] = attributes['model_id'].apply(lambda x: cancermodels[x])\n",
    "attributes = attributes.reset_index().reset_index()\n",
    "attributes.columns = ['attribute', 'gene_set', 'model_name', 'model_id', 'model_desc']\n",
    "attributes['attribute'] += 295497\n",
    "attributes['gene_set'] += 130000000\n",
    "genesetfk = attributes.set_index('model_name')['gene_set'].to_dict()\n",
    "attributes"
   ]
  },
  {
   "cell_type": "code",
   "execution_count": null,
   "metadata": {},
   "outputs": [],
   "source": [
    "# id, name_from_naming_authority, id_from_naming_authority, description_from_naming_authority, url, naming_authority_fk\n",
    "for cellline in attributes.index:\n",
    "    cellline = attributes.loc[cellline]\n",
    "    id = cellline['model_id']\n",
    "    '''print((cellline['attribute'],\n",
    "        cellline['model_name'], \n",
    "        id, \n",
    "        'cell line derived from ' + cellline['model_desc'],\n",
    "        'cellmodelpassports.sanger.ac.uk/passports/'+id,\n",
    "        98), end=',\\n')'''"
   ]
  },
  {
   "cell_type": "markdown",
   "metadata": {},
   "source": [
    "### Gene Sets to Add"
   ]
  },
  {
   "cell_type": "code",
   "execution_count": null,
   "metadata": {},
   "outputs": [],
   "source": [
    "# id, name_from_dataset, id_from_dataset, description_from_dataset, url_from_dataset, dataset_fk, attribute_type_fk, attribute_fk\n",
    "for cellline in attributes.index:\n",
    "    cellline = attributes.loc[cellline]\n",
    "    id = cellline['model_id']\n",
    "    '''print((cellline['gene_set'],\n",
    "        cellline['model_name'],\n",
    "        id,\n",
    "        'cell line derived from ' + cellline['model_desc'],\n",
    "        'https://cellmodelpassports.sanger.ac.uk/passports/'+id,\n",
    "        130,\n",
    "        1,\n",
    "        cellline['attribute']), end=',\\n')'''"
   ]
  },
  {
   "cell_type": "markdown",
   "metadata": {},
   "source": [
    "### Genes To Add"
   ]
  },
  {
   "cell_type": "code",
   "execution_count": null,
   "metadata": {},
   "outputs": [],
   "source": [
    "# id, symbol, entrez_gene_id, name, ncbi_entrez_gene_url\n",
    "genefk = prodgenes.set_index('symbol')['id'].to_dict()\n",
    "geneinfo['Symbol'] = geneinfo['Symbol'].apply(str.upper)\n",
    "geneinfo = geneinfo.set_index('Symbol')\n",
    "i = 56721\n",
    "for gene in edgelist.symbol.unique():\n",
    "    if gene not in prodgenes.symbol.to_list() and gene in geneinfo.index:\n",
    "        id = geneinfo.loc[gene,'GeneID']\n",
    "        name = geneinfo.loc[gene,'description']\n",
    "        print((i,\n",
    "        gene,\n",
    "        id,\n",
    "        name,\n",
    "        'http://www.ncbi.nlm.nih.gove/gene/'+str(id)),end=',\\n')\n",
    "        genefk[gene]=id\n",
    "        i+=1\n",
    "geneinfo = geneinfo.reset_index()"
   ]
  },
  {
   "cell_type": "code",
   "execution_count": null,
   "metadata": {},
   "outputs": [],
   "source": [
    "genes = edgelist.get(['symbol','gene_id']).drop_duplicates().reset_index(drop=True)\n",
    "genes['gene_fk'] = genes['symbol'].apply(str.upper).apply(lambda x: genefk[x])\n",
    "genes"
   ]
  },
  {
   "cell_type": "markdown",
   "metadata": {},
   "source": [
    "### Associations to add"
   ]
  },
  {
   "cell_type": "code",
   "execution_count": null,
   "metadata": {},
   "outputs": [],
   "source": [
    "# id, gene_fk, gene_set_fk, cleaned_value, standardized_value, threshold_value\n",
    "\n",
    "associations = edgelist.copy()\n",
    "associations['gene_fk'] = associations['symbol'].apply(str.upper).apply(lambda x: genefk[x])\n",
    "associations['gene_set_fk'] = associations['model_name'].apply(lambda x: genesetfk[x])\n",
    "associations = associations.get(['gene_fk','gene_set_fk','protein_intensity','zscore','threshold'])\n",
    "associations = associations.reset_index()\n",
    "associations['index'] += 10000000\n",
    "associations.columns = ['id', 'gene_fk','gene_set_fk','protein_intensity','zscore','threshold']\n",
    "associations.to_csv('harmonizome-update/sanger.csv')\n",
    "associations"
   ]
  },
  {
   "cell_type": "markdown",
   "metadata": {},
   "source": [
    "## Downloads"
   ]
  },
  {
   "cell_type": "code",
   "execution_count": null,
   "metadata": {},
   "outputs": [],
   "source": [
    "output_path = 'newdata/SangerProteomics/Downloads/'"
   ]
  },
  {
   "cell_type": "markdown",
   "metadata": {},
   "source": [
    "### Gene List"
   ]
  },
  {
   "cell_type": "code",
   "execution_count": null,
   "metadata": {},
   "outputs": [],
   "source": [
    "genes = genes.get(['symbol','gene_id'])\n",
    "genes.to_csv(output_path+'gene_list_terms.txt.gz', sep='\\t', compression='gzip')\n",
    "genes"
   ]
  },
  {
   "cell_type": "markdown",
   "metadata": {},
   "source": [
    "### Attribute List"
   ]
  },
  {
   "cell_type": "code",
   "execution_count": null,
   "metadata": {},
   "outputs": [],
   "source": [
    "attributes = attributes.get(['model_name','model_id'])\n",
    "attributes.to_csv(output_path+'attribute_list_entries.txt.gz', sep='\\t', compression='gzip')\n",
    "attributes"
   ]
  },
  {
   "cell_type": "markdown",
   "metadata": {},
   "source": [
    "### Gene-Attribute Edge List"
   ]
  },
  {
   "cell_type": "code",
   "execution_count": null,
   "metadata": {},
   "outputs": [],
   "source": [
    "edgelist = edgelist.get(['model_name', 'model_id', 'symbol', 'gene_id', 'protein_intensity', 'zscore', 'threshold'])\n",
    "edgelist.to_csv(output_path+'gene_attribute_edges.txt.gz', sep='\\t', compression='gzip')\n",
    "edgelist"
   ]
  },
  {
   "cell_type": "markdown",
   "metadata": {},
   "source": [
    "### Gene-Attribute Ternary Matrix"
   ]
  },
  {
   "cell_type": "code",
   "execution_count": null,
   "metadata": {},
   "outputs": [],
   "source": [
    "ternary_matrix = pd.crosstab(index=edgelist['symbol'],\n",
    "                columns=edgelist['model_name'],\n",
    "                values=edgelist['threshold'].values,\n",
    "                aggfunc=np.max).fillna(0).astype(int)\n",
    "\n",
    "\n",
    "ternary_matrix = ternary_matrix.rename_axis('Gene Symbol', axis='index').rename_axis('Cell Line',  axis='columns')\n",
    "\n",
    "ternary_matrix_T = ternary_matrix.T\n",
    "\n",
    "ternary_matrix.to_csv(output_path+'gene_attribute_matrix.txt.gz', sep='\\t', compression='gzip')\n",
    "ternary_matrix"
   ]
  },
  {
   "cell_type": "markdown",
   "metadata": {},
   "source": [
    "### Gene-Gene Similarity Matrix"
   ]
  },
  {
   "cell_type": "code",
   "execution_count": null,
   "metadata": {},
   "outputs": [],
   "source": [
    "similarity_matrix = dist.pdist(ternary_matrix.to_numpy(dtype=np.int_), 'cosine')\n",
    "similarity_matrix = dist.squareform(similarity_matrix)\n",
    "similarity_matrix = 1 - similarity_matrix\n",
    "\n",
    "gene_similarity_matrix = pd.DataFrame(similarity_matrix, index=ternary_matrix.index, columns=ternary_matrix.index)\n",
    "gene_similarity_matrix.index.name = None\n",
    "gene_similarity_matrix.columns.name = None\n",
    "\n",
    "gene_similarity_matrix.to_csv(output_path+'gene_similarity_matrix_cosine.txt.gz', sep='\\t', compression='gzip')\n",
    "gene_similarity_matrix"
   ]
  },
  {
   "cell_type": "markdown",
   "metadata": {},
   "source": [
    "### Attribute-Attribute Similarity Matrix"
   ]
  },
  {
   "cell_type": "code",
   "execution_count": null,
   "metadata": {},
   "outputs": [],
   "source": [
    "similarity_matrix = dist.pdist(ternary_matrix_T.to_numpy(dtype=np.int_), 'cosine')\n",
    "similarity_matrix = dist.squareform(similarity_matrix)\n",
    "similarity_matrix = 1 - similarity_matrix\n",
    "\n",
    "attribute_similarity_matrix = pd.DataFrame(similarity_matrix, index=ternary_matrix_T.index, columns=ternary_matrix_T.index)\n",
    "attribute_similarity_matrix.index.name = None\n",
    "attribute_similarity_matrix.columns.name = None\n",
    "\n",
    "attribute_similarity_matrix.to_csv(output_path+'attribute_similarity_matrix_cosine.txt.gz', sep='\\t', compression='gzip')\n",
    "attribute_similarity_matrix"
   ]
  },
  {
   "cell_type": "markdown",
   "metadata": {},
   "source": [
    "### Up Gene Set Library"
   ]
  },
  {
   "cell_type": "code",
   "execution_count": null,
   "metadata": {},
   "outputs": [],
   "source": [
    "arr = ternary_matrix.reset_index(drop=True).to_numpy(dtype=np.int_)\n",
    "\n",
    "with open(output_path+'gene_set_library_up_crisp.gmt', 'w') as f:\n",
    "    for i in range(arr.shape[1]):\n",
    "        print(ternary_matrix.columns[i],*ternary_matrix.index[arr[:,i]==1],\n",
    "            sep='\\t', end='\\n', file=f)"
   ]
  },
  {
   "cell_type": "markdown",
   "metadata": {},
   "source": [
    "### Down Gene Set Library"
   ]
  },
  {
   "cell_type": "code",
   "execution_count": null,
   "metadata": {},
   "outputs": [],
   "source": [
    "arr = ternary_matrix.reset_index(drop=True).to_numpy(dtype=np.int_)\n",
    "\n",
    "with open(output_path+'gene_set_library_dn_crisp.gmt', 'w') as f:\n",
    "    for i in range(arr.shape[1]):\n",
    "        print(ternary_matrix.columns[i],*ternary_matrix.index[arr[:,i]==-1],\n",
    "            sep='\\t', end='\\n', file=f)"
   ]
  },
  {
   "cell_type": "markdown",
   "metadata": {},
   "source": [
    "### Up Attribute Set Library"
   ]
  },
  {
   "cell_type": "code",
   "execution_count": null,
   "metadata": {},
   "outputs": [],
   "source": [
    "arr = ternary_matrix_T.reset_index(drop=True).to_numpy(dtype=np.int_)\n",
    "\n",
    "with open(output_path+'attribute_set_library_up_crisp.gmt', 'w') as f:\n",
    "    for i in range(arr.shape[1]):\n",
    "        print(ternary_matrix_T.columns[i],*ternary_matrix_T.index[arr[:,i]==1],\n",
    "            sep='\\t', end='\\n', file=f)"
   ]
  },
  {
   "cell_type": "markdown",
   "metadata": {},
   "source": [
    "### Down Attribute Set Library"
   ]
  },
  {
   "cell_type": "code",
   "execution_count": null,
   "metadata": {},
   "outputs": [],
   "source": [
    "arr = ternary_matrix_T.reset_index(drop=True).to_numpy(dtype=np.int_)\n",
    "\n",
    "with open(output_path+'attribute_set_library_dn_crisp.gmt', 'w') as f:\n",
    "    for i in range(arr.shape[1]):\n",
    "        print(ternary_matrix_T.columns[i],*ternary_matrix_T.index[arr[:,i]==-1],\n",
    "            sep='\\t', end='\\n', file=f)"
   ]
  },
  {
   "cell_type": "markdown",
   "metadata": {},
   "source": [
    "### Gene-Attribute Cleaned Matrix"
   ]
  },
  {
   "cell_type": "code",
   "execution_count": null,
   "metadata": {},
   "outputs": [],
   "source": [
    "cleaned_matrix = pd.crosstab(index=edgelist['symbol'],\n",
    "                columns=edgelist['model_name'],\n",
    "                values=edgelist['protein_intensity'].values,\n",
    "                aggfunc=np.max).fillna(0)\n",
    "\n",
    "cleaned_matrix = cleaned_matrix.rename_axis('Gene Symbol', axis='index').rename_axis('Transcription Factor',  axis='columns')\n",
    "\n",
    "cleaned_matrix.to_csv(output_path+'gene_attribute_matrix_cleaned.txt.gz', sep='\\t', compression='gzip')\n",
    "cleaned_matrix"
   ]
  },
  {
   "cell_type": "markdown",
   "metadata": {},
   "source": [
    "### Gene-Attribute Standardized Matrix"
   ]
  },
  {
   "cell_type": "code",
   "execution_count": null,
   "metadata": {},
   "outputs": [],
   "source": [
    "standardized_matrix = pd.crosstab(index=edgelist['symbol'],\n",
    "                columns=edgelist['model_name'],\n",
    "                values=edgelist['zscore'].values,\n",
    "                aggfunc=np.max).fillna(0)\n",
    "\n",
    "standardized_matrix = standardized_matrix.rename_axis('Gene Symbol', axis='index').rename_axis('Transcription Factor',  axis='columns')\n",
    "\n",
    "standardized_matrix.to_csv(output_path+'gene_attribute_matrix_standardized.txt.gz', sep='\\t', compression='gzip')\n",
    "standardized_matrix"
   ]
  },
  {
   "cell_type": "markdown",
   "metadata": {},
   "source": [
    "### Knowledge Graph Serializations"
   ]
  },
  {
   "cell_type": "code",
   "execution_count": null,
   "metadata": {},
   "outputs": [],
   "source": [
    "nodes = {}\n",
    "edges = []\n",
    "\n",
    "for gene in genes.index:\n",
    "    gene = genes.loc[gene]\n",
    "    id = str(gene['gene_id'])\n",
    "    label = gene['symbol']\n",
    "    nodes[id] = {\n",
    "        \"type\":\"gene\",\n",
    "        \"properties\": {\n",
    "            \"id\": id,\n",
    "            \"label\": label\n",
    "        }\n",
    "    }\n",
    "\n",
    "for cellline in attributes.index:\n",
    "    cellline = attributes.loc[cellline]\n",
    "    id = cellline['model_id']\n",
    "    label = cellline['model_name']\n",
    "    nodes[id] = {\n",
    "        \"type\":\"cell line\",\n",
    "        \"properties\": {\n",
    "            \"id\": id,\n",
    "            \"label\": label\n",
    "        }\n",
    "    }\n",
    "\n",
    "for edge in edgelist.index:\n",
    "    edge = edgelist.loc[edge]\n",
    "    source = edge['model_id']\n",
    "    target = str(edge['gene_id'])\n",
    "    edges.append({\n",
    "    \"source\": source,\n",
    "    \"relation\": \"directly regulates activity of\",\n",
    "    \"target\": target,\n",
    "    \"properties\": {\n",
    "        \"id\": source+\":\"+target,\n",
    "        \"source_label\": edge['model_name'],\n",
    "        \"target_label\": edge['symbol'],\n",
    "        \"directed\":True,\n",
    "        \"protein_intensity\":edge['protein_intensity'],\n",
    "        \"zscore\":edge['zscore'],\n",
    "        \"threshold\":edge['threshold']\n",
    "    }\n",
    "})"
   ]
  },
  {
   "cell_type": "markdown",
   "metadata": {},
   "source": [
    "RDF"
   ]
  },
  {
   "cell_type": "code",
   "execution_count": null,
   "metadata": {},
   "outputs": [],
   "source": [
    "with open(output_path+'serializations/sangerproteomics.rdf', 'w') as f:\n",
    "    print('@prefix sanger: <https://cellmodelpassports.sanger.ac.uk/passports?q=> .', file=f)\n",
    "    print('@prefix regulates: <http://purl.obolibrary.org/obo/RO_0002448> .', file=f)\n",
    "    print('@prefix gene: <https://ncbi.nlm.nih.gov/gene/> .', file=f)\n",
    "    print('', file=f)\n",
    "    for edge in edges:\n",
    "        print('sanger:'+edge['source'], 'regulates', 'gene:'+str(edge['target']), end=' .\\n', file=f)"
   ]
  },
  {
   "cell_type": "markdown",
   "metadata": {},
   "source": [
    "JSON"
   ]
  },
  {
   "cell_type": "code",
   "execution_count": null,
   "metadata": {},
   "outputs": [],
   "source": [
    "with open(output_path+'serializations/sangerproteomics.json', 'w') as f:\n",
    "    serial = json.dump(\n",
    "        {\n",
    "            \"Version\":\"1\", \n",
    "            \"nodes\": nodes,\n",
    "            \"edges\": edges\n",
    "        }, indent=4, fp=f)"
   ]
  },
  {
   "cell_type": "markdown",
   "metadata": {},
   "source": [
    "TSV"
   ]
  },
  {
   "cell_type": "code",
   "execution_count": null,
   "metadata": {},
   "outputs": [],
   "source": [
    "nodeframe = pd.DataFrame(nodes).T\n",
    "nodeframe['id'] = nodeframe['properties'].apply(lambda x: x['id'])\n",
    "nodeframe['label'] = nodeframe['properties'].apply(lambda x: x['label'])\n",
    "nodeframe = nodeframe.drop(columns=['properties'])\n",
    "nodeframe = nodeframe.reset_index(drop=True)\n",
    "nodeframe.to_csv(output_path+'serializations/tsv/nodes.tsv', sep='\\t')"
   ]
  },
  {
   "cell_type": "code",
   "execution_count": null,
   "metadata": {},
   "outputs": [],
   "source": [
    "edgeframe = pd.DataFrame(edges)\n",
    "\n",
    "for property in edgeframe.loc[0, 'properties']:\n",
    "    edgeframe[property] = edgeframe['properties'].apply(lambda x: x[property])\n",
    "\n",
    "edgeframe = edgeframe.get(['source','source_label','relation','target','target_label','protein_intensity','zscore','threshold'])\n",
    "edgeframe.to_csv(output_path+'serializations/tsv/edges.tsv', sep='\\t')"
   ]
  },
  {
   "cell_type": "markdown",
   "metadata": {},
   "source": [
    "## Visualizations"
   ]
  },
  {
   "cell_type": "code",
   "execution_count": null,
   "metadata": {},
   "outputs": [],
   "source": [
    "seaborn.clustermap(ternary_matrix, cmap='seismic', center=0)"
   ]
  },
  {
   "cell_type": "code",
   "execution_count": null,
   "metadata": {},
   "outputs": [],
   "source": [
    "seaborn.clustermap(gene_similarity_matrix,cmap='seismic',center=0)"
   ]
  },
  {
   "cell_type": "code",
   "execution_count": null,
   "metadata": {},
   "outputs": [],
   "source": [
    "seaborn.clustermap(attribute_similarity_matrix, cmap='seismic', center=0)"
   ]
  },
  {
   "cell_type": "markdown",
   "metadata": {},
   "source": [
    "### UMAP"
   ]
  },
  {
   "cell_type": "code",
   "execution_count": null,
   "metadata": {},
   "outputs": [],
   "source": [
    "output_notebook()"
   ]
  },
  {
   "cell_type": "code",
   "execution_count": null,
   "metadata": {},
   "outputs": [],
   "source": [
    "genesets={}\n",
    "genesetsup = edgelist[edgelist['threshold']==1].sort_values(['model_name', 'zscore'],ascending=[True,False]).set_index('model_name')['symbol']\n",
    "genesetsup.index += '_up'\n",
    "for geneset in genesetsup.index.unique():\n",
    "    genesets[geneset] = ' '.join(genesetsup.loc[geneset].to_list())\n",
    "genesetsdn = edgelist[edgelist['threshold']==-1].sort_values(['model_name', 'zscore']).set_index('model_name')['symbol']\n",
    "genesetsdn.index += '_dn'\n",
    "for geneset in genesetsdn.index.unique():\n",
    "    genesets[geneset] = ' '.join(genesetsdn.loc[geneset].to_list())"
   ]
  },
  {
   "cell_type": "code",
   "execution_count": null,
   "metadata": {},
   "outputs": [],
   "source": [
    "vec = TfidfVectorizer(max_df=0.5, min_df=10)\n",
    "X = vec.fit_transform(genesets.values())\n",
    "adata = anndata.AnnData(X, dtype='float32')\n",
    "adata.obs.index = genesets.keys()\n",
    "\n",
    "sc.pp.neighbors(adata, n_neighbors=25, use_rep='X')\n",
    "sc.tl.leiden(adata)\n",
    "sc.tl.umap(adata, min_dist=0.001, spread=10)\n",
    "\n",
    "new_order = adata.obs.sort_values(by='leiden').index.tolist()\n",
    "adata = adata[new_order,:]\n",
    "adata.obs['leiden'] = 'Cluster ' + adata.obs['leiden'].astype('object')\n",
    "\n",
    "mapped_df = pd.DataFrame(adata.obsm['X_umap'])\n",
    "mapped_df.columns = ['x', 'y']\n",
    "\n",
    "mapped_df['cluster'] = adata.obs['leiden'].values\n",
    "mapped_df['term'] = adata.obs.index\n",
    "\n",
    "clusters = pd.unique(mapped_df['cluster']).tolist()\n",
    "colors = list(Category20[20])[::2] + list(Category20[20])[1::2]\n",
    "color_mapper = {clusters[i]:colors[i%20] for i in range(len(clusters))}\n",
    "\n",
    "mapped_df['color'] = mapped_df['cluster'].apply(lambda x: color_mapper[x])\n",
    "\n",
    "xlabel = 'UMAP 1'\n",
    "ylabel = 'UMAP 2'\n",
    "\n",
    "source2 = ColumnDataSource(\n",
    "        data=dict(\n",
    "            x = mapped_df.x,\n",
    "            y = mapped_df.y,\n",
    "            alpha = [0.7] * mapped_df.shape[0],\n",
    "            colors = mapped_df['color'], \n",
    "            size = [6] * mapped_df.shape[0],\n",
    "            gene_set = mapped_df['term'],\n",
    "            cluster = mapped_df['cluster']\n",
    "        )\n",
    "    )\n",
    "\n",
    "hover_emb = HoverTool(names=[\"df\"], tooltips=\"\"\"\n",
    "    <div style=\"margin: 10\">\n",
    "        <div style=\"margin: 0 auto; width:300px;\">\n",
    "            <span style=\"font-size: 12px; font-weight: bold;\">Gene Set:</span>\n",
    "            <span style=\"font-size: 12px\">@gene_set</span>\n",
    "        <div style=\"margin: 0 auto; width:300px;\">\n",
    "            <span style=\"font-size: 12px; font-weight: bold;\">Coordinates:</span>\n",
    "            <span style=\"font-size: 12px\">(@x,@y)</span>\n",
    "        <div style=\"margin: 0 auto; width:300px;\">\n",
    "            <span style=\"font-size: 12px; font-weight: bold;\">Cluster:</span>\n",
    "            <span style=\"font-size: 12px\">@cluster</span>\n",
    "        </div>\n",
    "    </div>\n",
    "    \"\"\")\n",
    "\n",
    "tools_emb = [hover_emb, 'pan', 'wheel_zoom', 'reset', 'save']\n",
    "title_emb = 'Gene Sets in Tabula Sapiens Library'\n",
    "plot_emb = figure(plot_width=1000, plot_height=700, tools=tools_emb, title=title_emb, x_axis_label=xlabel, y_axis_label=ylabel)\n",
    "plot_emb.circle( 'x', 'y', source = source2, size='size',\n",
    "                alpha='alpha', line_alpha=0, line_width=0.01, name=\"df\", \n",
    "                fill_color = 'colors', \n",
    "                line_color=\"black\", hover_fill_color=\"firebrick\")\n",
    "plot_emb.xaxis.axis_label_text_font_style = 'normal'\n",
    "plot_emb.xaxis.axis_label_text_font_size = '18px'\n",
    "plot_emb.yaxis.axis_label_text_font_size = '18px'\n",
    "plot_emb.yaxis.axis_label_text_font_style = 'normal'\n",
    "plot_emb.title.align = 'center'\n",
    "plot_emb.title.text_font_size = '18px'\n",
    "\n",
    "show(plot_emb)"
   ]
  }
 ],
 "metadata": {
  "kernelspec": {
   "display_name": "Python 3.10.4 ('appyter')",
   "language": "python",
   "name": "python3"
  },
  "language_info": {
   "codemirror_mode": {
    "name": "ipython",
    "version": 3
   },
   "file_extension": ".py",
   "mimetype": "text/x-python",
   "name": "python",
   "nbconvert_exporter": "python",
   "pygments_lexer": "ipython3",
   "version": "3.10.4"
  },
  "orig_nbformat": 4,
  "vscode": {
   "interpreter": {
    "hash": "36b64e778f8b0c3f01583b2eed08020222bb534e013a238936f90fb19a999c87"
   }
  }
 },
 "nbformat": 4,
 "nbformat_minor": 2
}
