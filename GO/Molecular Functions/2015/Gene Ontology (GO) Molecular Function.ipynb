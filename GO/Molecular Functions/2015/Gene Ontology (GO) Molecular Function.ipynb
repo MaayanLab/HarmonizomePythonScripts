{
 "cells": [
  {
   "cell_type": "markdown",
   "metadata": {},
   "source": [
    "# Gene Ontology (GO) Molecular Function"
   ]
  },
  {
   "cell_type": "markdown",
   "metadata": {},
   "source": [
    "Author: Moshe Silverstein <br/>\n",
    "Date: 03-2018 <br/>\n",
    "Data Downloaded: 03-2018 <br/>\n",
    "Data Source: http://geneontology.org/gene-associations/goa_human.gaf.gz"
   ]
  },
  {
   "cell_type": "code",
   "execution_count": 1,
   "metadata": {
    "collapsed": true
   },
   "outputs": [],
   "source": [
    "import sys, datetime\n",
    "import numpy as np\n",
    "import pandas as pd\n",
    "import importlib\n",
    "import untility_functions as uf\n",
    "import goenrich\n",
    "%matplotlib inline"
   ]
  },
  {
   "cell_type": "code",
   "execution_count": 2,
   "metadata": {},
   "outputs": [
    {
     "data": {
      "text/plain": [
       "<module 'untility_functions' from '/Users/moshesilverstein/Documents/Harmonizome/GO/untility_functions.py'>"
      ]
     },
     "execution_count": 2,
     "metadata": {},
     "output_type": "execute_result"
    }
   ],
   "source": [
    "importlib.reload(uf)"
   ]
  },
  {
   "cell_type": "markdown",
   "metadata": {},
   "source": [
    "# Versions Of Modules In Use"
   ]
  },
  {
   "cell_type": "code",
   "execution_count": 3,
   "metadata": {},
   "outputs": [
    {
     "data": {
      "application/json": {
       "Software versions": [
        {
         "module": "Python",
         "version": "3.5.2 64bit [GCC 4.2.1 Compatible Apple LLVM 4.2 (clang-425.0.28)]"
        },
        {
         "module": "IPython",
         "version": "5.3.0"
        },
        {
         "module": "OS",
         "version": "Darwin 17.2.0 x86_64 i386 64bit"
        },
        {
         "module": "numpy",
         "version": "1.13.1"
        },
        {
         "module": "pandas",
         "version": "0.21.0"
        },
        {
         "module": "clustergrammer_widget",
         "version": "1.9.0"
        }
       ]
      },
      "text/html": [
       "<table><tr><th>Software</th><th>Version</th></tr><tr><td>Python</td><td>3.5.2 64bit [GCC 4.2.1 Compatible Apple LLVM 4.2 (clang-425.0.28)]</td></tr><tr><td>IPython</td><td>5.3.0</td></tr><tr><td>OS</td><td>Darwin 17.2.0 x86_64 i386 64bit</td></tr><tr><td>numpy</td><td>1.13.1</td></tr><tr><td>pandas</td><td>0.21.0</td></tr><tr><td>clustergrammer_widget</td><td>1.9.0</td></tr><tr><td colspan='2'>Thu Mar 22 16:55:18 2018 EDT</td></tr></table>"
      ],
      "text/latex": [
       "\\begin{tabular}{|l|l|}\\hline\n",
       "{\\bf Software} & {\\bf Version} \\\\ \\hline\\hline\n",
       "Python & 3.5.2 64bit [GCC 4.2.1 Compatible Apple LLVM 4.2 (clang-425.0.28)] \\\\ \\hline\n",
       "IPython & 5.3.0 \\\\ \\hline\n",
       "OS & Darwin 17.2.0 x86\\_64 i386 64bit \\\\ \\hline\n",
       "numpy & 1.13.1 \\\\ \\hline\n",
       "pandas & 0.21.0 \\\\ \\hline\n",
       "clustergrammer_widget & 1.9.0 \\\\ \\hline\n",
       "\\hline \\multicolumn{2}{|l|}{Thu Mar 22 16:55:18 2018 EDT} \\\\ \\hline\n",
       "\\end{tabular}\n"
      ],
      "text/plain": [
       "Software versions\n",
       "Python 3.5.2 64bit [GCC 4.2.1 Compatible Apple LLVM 4.2 (clang-425.0.28)]\n",
       "IPython 5.3.0\n",
       "OS Darwin 17.2.0 x86_64 i386 64bit\n",
       "numpy 1.13.1\n",
       "pandas 0.21.0\n",
       "clustergrammer_widget 1.9.0\n",
       "Thu Mar 22 16:55:18 2018 EDT"
      ]
     },
     "execution_count": 3,
     "metadata": {},
     "output_type": "execute_result"
    }
   ],
   "source": [
    "%load_ext version_information\n",
    "%version_information numpy, pandas, clustergrammer_widget "
   ]
  },
  {
   "cell_type": "markdown",
   "metadata": {},
   "source": [
    "# Load Data"
   ]
  },
  {
   "cell_type": "code",
   "execution_count": 4,
   "metadata": {
    "collapsed": true
   },
   "outputs": [],
   "source": [
    "df1 = pd.read_csv('input/goa_human.gaf', sep='~', skiprows=23, header=None, index_col=False)"
   ]
  },
  {
   "cell_type": "code",
   "execution_count": 5,
   "metadata": {},
   "outputs": [
    {
     "data": {
      "text/html": [
       "<div>\n",
       "<style scoped>\n",
       "    .dataframe tbody tr th:only-of-type {\n",
       "        vertical-align: middle;\n",
       "    }\n",
       "\n",
       "    .dataframe tbody tr th {\n",
       "        vertical-align: top;\n",
       "    }\n",
       "\n",
       "    .dataframe thead th {\n",
       "        text-align: right;\n",
       "    }\n",
       "</style>\n",
       "<table border=\"1\" class=\"dataframe\">\n",
       "  <thead>\n",
       "    <tr style=\"text-align: right;\">\n",
       "      <th></th>\n",
       "      <th>0</th>\n",
       "    </tr>\n",
       "  </thead>\n",
       "  <tbody>\n",
       "    <tr>\n",
       "      <th>0</th>\n",
       "      <td>UniProtKB\\tA0A024R161\\tDNAJC25-GNG10\\t\\tGO:000...</td>\n",
       "    </tr>\n",
       "    <tr>\n",
       "      <th>1</th>\n",
       "      <td>UniProtKB\\tA0A024R161\\tDNAJC25-GNG10\\t\\tGO:000...</td>\n",
       "    </tr>\n",
       "    <tr>\n",
       "      <th>2</th>\n",
       "      <td>UniProtKB\\tA0A024R161\\tDNAJC25-GNG10\\t\\tGO:000...</td>\n",
       "    </tr>\n",
       "    <tr>\n",
       "      <th>3</th>\n",
       "      <td>UniProtKB\\tA0A075B6H7\\tIGKV3-7\\t\\tGO:0002377\\t...</td>\n",
       "    </tr>\n",
       "    <tr>\n",
       "      <th>4</th>\n",
       "      <td>UniProtKB\\tA0A075B6H7\\tIGKV3-7\\t\\tGO:0005615\\t...</td>\n",
       "    </tr>\n",
       "  </tbody>\n",
       "</table>\n",
       "</div>"
      ],
      "text/plain": [
       "                                                   0\n",
       "0  UniProtKB\\tA0A024R161\\tDNAJC25-GNG10\\t\\tGO:000...\n",
       "1  UniProtKB\\tA0A024R161\\tDNAJC25-GNG10\\t\\tGO:000...\n",
       "2  UniProtKB\\tA0A024R161\\tDNAJC25-GNG10\\t\\tGO:000...\n",
       "3  UniProtKB\\tA0A075B6H7\\tIGKV3-7\\t\\tGO:0002377\\t...\n",
       "4  UniProtKB\\tA0A075B6H7\\tIGKV3-7\\t\\tGO:0005615\\t..."
      ]
     },
     "execution_count": 5,
     "metadata": {},
     "output_type": "execute_result"
    }
   ],
   "source": [
    "df1.head()"
   ]
  },
  {
   "cell_type": "code",
   "execution_count": 6,
   "metadata": {},
   "outputs": [
    {
     "name": "stdout",
     "output_type": "stream",
     "text": [
      "Progress: 99%  495871 Out of 496852   \r"
     ]
    }
   ],
   "source": [
    "# df = pd.DataFrame()\n",
    "\n",
    "matrix = np.chararray((df1.shape[0], 16), itemsize=150, unicode=True)\n",
    "\n",
    "# for i, index in enumerate(df1.index):\n",
    "for i, row in enumerate(df1.itertuples()):\n",
    "    \n",
    "    progressPercent = ((i+1)/len(df1.index))*100\n",
    "\n",
    "    sys.stdout.write(\"Progress: %d%%  %d Out of %d   \\r\" % (progressPercent, (i+1), len(df1.index)))\n",
    "    sys.stdout.flush()\n",
    "    \n",
    "#     lst = df1.loc[index, 0].split('\\t')\n",
    "    lst = row[1].split('\\t')\n",
    "    if len(lst) == 15:\n",
    "        lst.append(np.nan)\n",
    "    matrix[i, :] = lst\n",
    "#     temp = pd.DataFrame(data = lst)\n",
    "#     df = pd.concat([df, temp.T])\n",
    "\n",
    "df = pd.DataFrame(data=matrix)"
   ]
  },
  {
   "cell_type": "code",
   "execution_count": 7,
   "metadata": {},
   "outputs": [
    {
     "data": {
      "text/html": [
       "<div>\n",
       "<style scoped>\n",
       "    .dataframe tbody tr th:only-of-type {\n",
       "        vertical-align: middle;\n",
       "    }\n",
       "\n",
       "    .dataframe tbody tr th {\n",
       "        vertical-align: top;\n",
       "    }\n",
       "\n",
       "    .dataframe thead th {\n",
       "        text-align: right;\n",
       "    }\n",
       "</style>\n",
       "<table border=\"1\" class=\"dataframe\">\n",
       "  <thead>\n",
       "    <tr style=\"text-align: right;\">\n",
       "      <th></th>\n",
       "      <th>0</th>\n",
       "      <th>1</th>\n",
       "      <th>2</th>\n",
       "      <th>3</th>\n",
       "      <th>4</th>\n",
       "      <th>5</th>\n",
       "      <th>6</th>\n",
       "      <th>7</th>\n",
       "      <th>8</th>\n",
       "      <th>9</th>\n",
       "      <th>10</th>\n",
       "      <th>11</th>\n",
       "      <th>12</th>\n",
       "      <th>13</th>\n",
       "      <th>14</th>\n",
       "      <th>15</th>\n",
       "    </tr>\n",
       "  </thead>\n",
       "  <tbody>\n",
       "    <tr>\n",
       "      <th>0</th>\n",
       "      <td>UniProtKB</td>\n",
       "      <td>A0A024R161</td>\n",
       "      <td>DNAJC25-GNG10</td>\n",
       "      <td></td>\n",
       "      <td>GO:0004871</td>\n",
       "      <td>GO_REF:0000038</td>\n",
       "      <td>IEA</td>\n",
       "      <td>UniProtKB-KW:KW-0807</td>\n",
       "      <td>F</td>\n",
       "      <td>Guanine nucleotide-binding protein subunit gamma</td>\n",
       "      <td>A0A024R161_HUMAN|DNAJC25-GNG10|hCG_1994888</td>\n",
       "      <td>protein</td>\n",
       "      <td>taxon:9606</td>\n",
       "      <td>20180224</td>\n",
       "      <td>UniProt</td>\n",
       "      <td>nan</td>\n",
       "    </tr>\n",
       "    <tr>\n",
       "      <th>1</th>\n",
       "      <td>UniProtKB</td>\n",
       "      <td>A0A024R161</td>\n",
       "      <td>DNAJC25-GNG10</td>\n",
       "      <td></td>\n",
       "      <td>GO:0005834</td>\n",
       "      <td>GO_REF:0000002</td>\n",
       "      <td>IEA</td>\n",
       "      <td>InterPro:IPR001770|InterPro:IPR015898|InterPro...</td>\n",
       "      <td>C</td>\n",
       "      <td>Guanine nucleotide-binding protein subunit gamma</td>\n",
       "      <td>A0A024R161_HUMAN|DNAJC25-GNG10|hCG_1994888</td>\n",
       "      <td>protein</td>\n",
       "      <td>taxon:9606</td>\n",
       "      <td>20180224</td>\n",
       "      <td>InterPro</td>\n",
       "      <td>nan</td>\n",
       "    </tr>\n",
       "    <tr>\n",
       "      <th>2</th>\n",
       "      <td>UniProtKB</td>\n",
       "      <td>A0A024R161</td>\n",
       "      <td>DNAJC25-GNG10</td>\n",
       "      <td></td>\n",
       "      <td>GO:0007186</td>\n",
       "      <td>GO_REF:0000002</td>\n",
       "      <td>IEA</td>\n",
       "      <td>InterPro:IPR001770|InterPro:IPR015898|InterPro...</td>\n",
       "      <td>P</td>\n",
       "      <td>Guanine nucleotide-binding protein subunit gamma</td>\n",
       "      <td>A0A024R161_HUMAN|DNAJC25-GNG10|hCG_1994888</td>\n",
       "      <td>protein</td>\n",
       "      <td>taxon:9606</td>\n",
       "      <td>20180224</td>\n",
       "      <td>InterPro</td>\n",
       "      <td>nan</td>\n",
       "    </tr>\n",
       "    <tr>\n",
       "      <th>3</th>\n",
       "      <td>UniProtKB</td>\n",
       "      <td>A0A075B6H7</td>\n",
       "      <td>IGKV3-7</td>\n",
       "      <td></td>\n",
       "      <td>GO:0002377</td>\n",
       "      <td>GO_REF:0000033</td>\n",
       "      <td>IBA</td>\n",
       "      <td>PANTHER:PTN000587099</td>\n",
       "      <td>P</td>\n",
       "      <td>Immunoglobulin kappa variable 3-7 (non-functio...</td>\n",
       "      <td>A0A075B6H7_HUMAN|IGKV3-7</td>\n",
       "      <td>protein</td>\n",
       "      <td>taxon:9606</td>\n",
       "      <td>20150528</td>\n",
       "      <td>GO_Central</td>\n",
       "      <td>nan</td>\n",
       "    </tr>\n",
       "    <tr>\n",
       "      <th>4</th>\n",
       "      <td>UniProtKB</td>\n",
       "      <td>A0A075B6H7</td>\n",
       "      <td>IGKV3-7</td>\n",
       "      <td></td>\n",
       "      <td>GO:0005615</td>\n",
       "      <td>GO_REF:0000033</td>\n",
       "      <td>IBA</td>\n",
       "      <td>PANTHER:PTN000587099</td>\n",
       "      <td>C</td>\n",
       "      <td>Immunoglobulin kappa variable 3-7 (non-functio...</td>\n",
       "      <td>A0A075B6H7_HUMAN|IGKV3-7</td>\n",
       "      <td>protein</td>\n",
       "      <td>taxon:9606</td>\n",
       "      <td>20150528</td>\n",
       "      <td>GO_Central</td>\n",
       "      <td>nan</td>\n",
       "    </tr>\n",
       "  </tbody>\n",
       "</table>\n",
       "</div>"
      ],
      "text/plain": [
       "          0           1              2  3           4               5    6   \\\n",
       "0  UniProtKB  A0A024R161  DNAJC25-GNG10     GO:0004871  GO_REF:0000038  IEA   \n",
       "1  UniProtKB  A0A024R161  DNAJC25-GNG10     GO:0005834  GO_REF:0000002  IEA   \n",
       "2  UniProtKB  A0A024R161  DNAJC25-GNG10     GO:0007186  GO_REF:0000002  IEA   \n",
       "3  UniProtKB  A0A075B6H7        IGKV3-7     GO:0002377  GO_REF:0000033  IBA   \n",
       "4  UniProtKB  A0A075B6H7        IGKV3-7     GO:0005615  GO_REF:0000033  IBA   \n",
       "\n",
       "                                                  7  8   \\\n",
       "0                               UniProtKB-KW:KW-0807  F   \n",
       "1  InterPro:IPR001770|InterPro:IPR015898|InterPro...  C   \n",
       "2  InterPro:IPR001770|InterPro:IPR015898|InterPro...  P   \n",
       "3                               PANTHER:PTN000587099  P   \n",
       "4                               PANTHER:PTN000587099  C   \n",
       "\n",
       "                                                  9   \\\n",
       "0   Guanine nucleotide-binding protein subunit gamma   \n",
       "1   Guanine nucleotide-binding protein subunit gamma   \n",
       "2   Guanine nucleotide-binding protein subunit gamma   \n",
       "3  Immunoglobulin kappa variable 3-7 (non-functio...   \n",
       "4  Immunoglobulin kappa variable 3-7 (non-functio...   \n",
       "\n",
       "                                           10       11          12        13  \\\n",
       "0  A0A024R161_HUMAN|DNAJC25-GNG10|hCG_1994888  protein  taxon:9606  20180224   \n",
       "1  A0A024R161_HUMAN|DNAJC25-GNG10|hCG_1994888  protein  taxon:9606  20180224   \n",
       "2  A0A024R161_HUMAN|DNAJC25-GNG10|hCG_1994888  protein  taxon:9606  20180224   \n",
       "3                    A0A075B6H7_HUMAN|IGKV3-7  protein  taxon:9606  20150528   \n",
       "4                    A0A075B6H7_HUMAN|IGKV3-7  protein  taxon:9606  20150528   \n",
       "\n",
       "           14   15  \n",
       "0     UniProt  nan  \n",
       "1    InterPro  nan  \n",
       "2    InterPro  nan  \n",
       "3  GO_Central  nan  \n",
       "4  GO_Central  nan  "
      ]
     },
     "execution_count": 7,
     "metadata": {},
     "output_type": "execute_result"
    }
   ],
   "source": [
    "df.head()"
   ]
  },
  {
   "cell_type": "code",
   "execution_count": 8,
   "metadata": {},
   "outputs": [
    {
     "data": {
      "text/plain": [
       "(496852, 16)"
      ]
     },
     "execution_count": 8,
     "metadata": {},
     "output_type": "execute_result"
    }
   ],
   "source": [
    "df.shape"
   ]
  },
  {
   "cell_type": "markdown",
   "metadata": {},
   "source": [
    "# Get Relevent Columns and Data"
   ]
  },
  {
   "cell_type": "code",
   "execution_count": 9,
   "metadata": {
    "collapsed": true
   },
   "outputs": [],
   "source": [
    "columns = [\"DB\", \"DB Object ID\", \"DB Object Symbol\", \"Qualifier\", \"GO ID\", \"DB:Reference\", \"Evidence Code\", \n",
    "               \"With (or) From\", \"Aspect\", \"DB Object Name\", \"DB Object Synonym\", \"DB Object Type\", \"Taxon\", \n",
    "               \"Date\", \"Assigned By\", \"Annotation Extension\"]"
   ]
  },
  {
   "cell_type": "code",
   "execution_count": 10,
   "metadata": {},
   "outputs": [],
   "source": [
    "df.columns = columns"
   ]
  },
  {
   "cell_type": "code",
   "execution_count": 11,
   "metadata": {},
   "outputs": [
    {
     "data": {
      "text/html": [
       "<div>\n",
       "<style scoped>\n",
       "    .dataframe tbody tr th:only-of-type {\n",
       "        vertical-align: middle;\n",
       "    }\n",
       "\n",
       "    .dataframe tbody tr th {\n",
       "        vertical-align: top;\n",
       "    }\n",
       "\n",
       "    .dataframe thead th {\n",
       "        text-align: right;\n",
       "    }\n",
       "</style>\n",
       "<table border=\"1\" class=\"dataframe\">\n",
       "  <thead>\n",
       "    <tr style=\"text-align: right;\">\n",
       "      <th></th>\n",
       "      <th>DB</th>\n",
       "      <th>DB Object ID</th>\n",
       "      <th>DB Object Symbol</th>\n",
       "      <th>Qualifier</th>\n",
       "      <th>GO ID</th>\n",
       "      <th>DB:Reference</th>\n",
       "      <th>Evidence Code</th>\n",
       "      <th>With (or) From</th>\n",
       "      <th>Aspect</th>\n",
       "      <th>DB Object Name</th>\n",
       "      <th>DB Object Synonym</th>\n",
       "      <th>DB Object Type</th>\n",
       "      <th>Taxon</th>\n",
       "      <th>Date</th>\n",
       "      <th>Assigned By</th>\n",
       "      <th>Annotation Extension</th>\n",
       "    </tr>\n",
       "  </thead>\n",
       "  <tbody>\n",
       "    <tr>\n",
       "      <th>0</th>\n",
       "      <td>UniProtKB</td>\n",
       "      <td>A0A024R161</td>\n",
       "      <td>DNAJC25-GNG10</td>\n",
       "      <td></td>\n",
       "      <td>GO:0004871</td>\n",
       "      <td>GO_REF:0000038</td>\n",
       "      <td>IEA</td>\n",
       "      <td>UniProtKB-KW:KW-0807</td>\n",
       "      <td>F</td>\n",
       "      <td>Guanine nucleotide-binding protein subunit gamma</td>\n",
       "      <td>A0A024R161_HUMAN|DNAJC25-GNG10|hCG_1994888</td>\n",
       "      <td>protein</td>\n",
       "      <td>taxon:9606</td>\n",
       "      <td>20180224</td>\n",
       "      <td>UniProt</td>\n",
       "      <td>nan</td>\n",
       "    </tr>\n",
       "    <tr>\n",
       "      <th>1</th>\n",
       "      <td>UniProtKB</td>\n",
       "      <td>A0A024R161</td>\n",
       "      <td>DNAJC25-GNG10</td>\n",
       "      <td></td>\n",
       "      <td>GO:0005834</td>\n",
       "      <td>GO_REF:0000002</td>\n",
       "      <td>IEA</td>\n",
       "      <td>InterPro:IPR001770|InterPro:IPR015898|InterPro...</td>\n",
       "      <td>C</td>\n",
       "      <td>Guanine nucleotide-binding protein subunit gamma</td>\n",
       "      <td>A0A024R161_HUMAN|DNAJC25-GNG10|hCG_1994888</td>\n",
       "      <td>protein</td>\n",
       "      <td>taxon:9606</td>\n",
       "      <td>20180224</td>\n",
       "      <td>InterPro</td>\n",
       "      <td>nan</td>\n",
       "    </tr>\n",
       "    <tr>\n",
       "      <th>2</th>\n",
       "      <td>UniProtKB</td>\n",
       "      <td>A0A024R161</td>\n",
       "      <td>DNAJC25-GNG10</td>\n",
       "      <td></td>\n",
       "      <td>GO:0007186</td>\n",
       "      <td>GO_REF:0000002</td>\n",
       "      <td>IEA</td>\n",
       "      <td>InterPro:IPR001770|InterPro:IPR015898|InterPro...</td>\n",
       "      <td>P</td>\n",
       "      <td>Guanine nucleotide-binding protein subunit gamma</td>\n",
       "      <td>A0A024R161_HUMAN|DNAJC25-GNG10|hCG_1994888</td>\n",
       "      <td>protein</td>\n",
       "      <td>taxon:9606</td>\n",
       "      <td>20180224</td>\n",
       "      <td>InterPro</td>\n",
       "      <td>nan</td>\n",
       "    </tr>\n",
       "    <tr>\n",
       "      <th>3</th>\n",
       "      <td>UniProtKB</td>\n",
       "      <td>A0A075B6H7</td>\n",
       "      <td>IGKV3-7</td>\n",
       "      <td></td>\n",
       "      <td>GO:0002377</td>\n",
       "      <td>GO_REF:0000033</td>\n",
       "      <td>IBA</td>\n",
       "      <td>PANTHER:PTN000587099</td>\n",
       "      <td>P</td>\n",
       "      <td>Immunoglobulin kappa variable 3-7 (non-functio...</td>\n",
       "      <td>A0A075B6H7_HUMAN|IGKV3-7</td>\n",
       "      <td>protein</td>\n",
       "      <td>taxon:9606</td>\n",
       "      <td>20150528</td>\n",
       "      <td>GO_Central</td>\n",
       "      <td>nan</td>\n",
       "    </tr>\n",
       "    <tr>\n",
       "      <th>4</th>\n",
       "      <td>UniProtKB</td>\n",
       "      <td>A0A075B6H7</td>\n",
       "      <td>IGKV3-7</td>\n",
       "      <td></td>\n",
       "      <td>GO:0005615</td>\n",
       "      <td>GO_REF:0000033</td>\n",
       "      <td>IBA</td>\n",
       "      <td>PANTHER:PTN000587099</td>\n",
       "      <td>C</td>\n",
       "      <td>Immunoglobulin kappa variable 3-7 (non-functio...</td>\n",
       "      <td>A0A075B6H7_HUMAN|IGKV3-7</td>\n",
       "      <td>protein</td>\n",
       "      <td>taxon:9606</td>\n",
       "      <td>20150528</td>\n",
       "      <td>GO_Central</td>\n",
       "      <td>nan</td>\n",
       "    </tr>\n",
       "  </tbody>\n",
       "</table>\n",
       "</div>"
      ],
      "text/plain": [
       "          DB DB Object ID DB Object Symbol Qualifier       GO ID  \\\n",
       "0  UniProtKB   A0A024R161    DNAJC25-GNG10            GO:0004871   \n",
       "1  UniProtKB   A0A024R161    DNAJC25-GNG10            GO:0005834   \n",
       "2  UniProtKB   A0A024R161    DNAJC25-GNG10            GO:0007186   \n",
       "3  UniProtKB   A0A075B6H7          IGKV3-7            GO:0002377   \n",
       "4  UniProtKB   A0A075B6H7          IGKV3-7            GO:0005615   \n",
       "\n",
       "     DB:Reference Evidence Code  \\\n",
       "0  GO_REF:0000038           IEA   \n",
       "1  GO_REF:0000002           IEA   \n",
       "2  GO_REF:0000002           IEA   \n",
       "3  GO_REF:0000033           IBA   \n",
       "4  GO_REF:0000033           IBA   \n",
       "\n",
       "                                      With (or) From Aspect  \\\n",
       "0                               UniProtKB-KW:KW-0807      F   \n",
       "1  InterPro:IPR001770|InterPro:IPR015898|InterPro...      C   \n",
       "2  InterPro:IPR001770|InterPro:IPR015898|InterPro...      P   \n",
       "3                               PANTHER:PTN000587099      P   \n",
       "4                               PANTHER:PTN000587099      C   \n",
       "\n",
       "                                      DB Object Name  \\\n",
       "0   Guanine nucleotide-binding protein subunit gamma   \n",
       "1   Guanine nucleotide-binding protein subunit gamma   \n",
       "2   Guanine nucleotide-binding protein subunit gamma   \n",
       "3  Immunoglobulin kappa variable 3-7 (non-functio...   \n",
       "4  Immunoglobulin kappa variable 3-7 (non-functio...   \n",
       "\n",
       "                            DB Object Synonym DB Object Type       Taxon  \\\n",
       "0  A0A024R161_HUMAN|DNAJC25-GNG10|hCG_1994888        protein  taxon:9606   \n",
       "1  A0A024R161_HUMAN|DNAJC25-GNG10|hCG_1994888        protein  taxon:9606   \n",
       "2  A0A024R161_HUMAN|DNAJC25-GNG10|hCG_1994888        protein  taxon:9606   \n",
       "3                    A0A075B6H7_HUMAN|IGKV3-7        protein  taxon:9606   \n",
       "4                    A0A075B6H7_HUMAN|IGKV3-7        protein  taxon:9606   \n",
       "\n",
       "       Date Assigned By Annotation Extension  \n",
       "0  20180224     UniProt                  nan  \n",
       "1  20180224    InterPro                  nan  \n",
       "2  20180224    InterPro                  nan  \n",
       "3  20150528  GO_Central                  nan  \n",
       "4  20150528  GO_Central                  nan  "
      ]
     },
     "execution_count": 11,
     "metadata": {},
     "output_type": "execute_result"
    }
   ],
   "source": [
    "df.head()"
   ]
  },
  {
   "cell_type": "markdown",
   "metadata": {},
   "source": [
    "#### Get Only Molecular Function Data"
   ]
  },
  {
   "cell_type": "code",
   "execution_count": 12,
   "metadata": {
    "collapsed": true
   },
   "outputs": [],
   "source": [
    "df = df[df['Aspect']=='F'].copy()"
   ]
  },
  {
   "cell_type": "markdown",
   "metadata": {},
   "source": [
    "#### Drop All Data That Is Inferred from Electronic Annotation"
   ]
  },
  {
   "cell_type": "code",
   "execution_count": 13,
   "metadata": {
    "collapsed": true
   },
   "outputs": [],
   "source": [
    "df = df[~df['Evidence Code'].isin(['IEA'])]"
   ]
  },
  {
   "cell_type": "markdown",
   "metadata": {},
   "source": [
    "#### Drop All 'Non' in Qualifier "
   ]
  },
  {
   "cell_type": "code",
   "execution_count": 14,
   "metadata": {
    "collapsed": true
   },
   "outputs": [],
   "source": [
    "df = df[~df['Qualifier'].isin(['NOT'])]"
   ]
  },
  {
   "cell_type": "code",
   "execution_count": 15,
   "metadata": {
    "collapsed": true
   },
   "outputs": [],
   "source": [
    "df = df[['DB Object Symbol', 'GO ID']]"
   ]
  },
  {
   "cell_type": "code",
   "execution_count": 16,
   "metadata": {
    "collapsed": true
   },
   "outputs": [],
   "source": [
    "df.reset_index(inplace=True)"
   ]
  },
  {
   "cell_type": "code",
   "execution_count": 17,
   "metadata": {
    "collapsed": true
   },
   "outputs": [],
   "source": [
    "df.drop('index', axis=1, inplace=True)"
   ]
  },
  {
   "cell_type": "code",
   "execution_count": 18,
   "metadata": {},
   "outputs": [
    {
     "data": {
      "text/html": [
       "<div>\n",
       "<style scoped>\n",
       "    .dataframe tbody tr th:only-of-type {\n",
       "        vertical-align: middle;\n",
       "    }\n",
       "\n",
       "    .dataframe tbody tr th {\n",
       "        vertical-align: top;\n",
       "    }\n",
       "\n",
       "    .dataframe thead th {\n",
       "        text-align: right;\n",
       "    }\n",
       "</style>\n",
       "<table border=\"1\" class=\"dataframe\">\n",
       "  <thead>\n",
       "    <tr style=\"text-align: right;\">\n",
       "      <th></th>\n",
       "      <th>DB Object Symbol</th>\n",
       "      <th>GO ID</th>\n",
       "    </tr>\n",
       "  </thead>\n",
       "  <tbody>\n",
       "    <tr>\n",
       "      <th>0</th>\n",
       "      <td>IGKV2-28</td>\n",
       "      <td>GO:0004252</td>\n",
       "    </tr>\n",
       "    <tr>\n",
       "      <th>1</th>\n",
       "      <td>IGKV2-28</td>\n",
       "      <td>GO:0004252</td>\n",
       "    </tr>\n",
       "    <tr>\n",
       "      <th>2</th>\n",
       "      <td>IGHV3-64</td>\n",
       "      <td>GO:0003823</td>\n",
       "    </tr>\n",
       "    <tr>\n",
       "      <th>3</th>\n",
       "      <td>IGHV3-64</td>\n",
       "      <td>GO:0034987</td>\n",
       "    </tr>\n",
       "    <tr>\n",
       "      <th>4</th>\n",
       "      <td>IGHV4-4</td>\n",
       "      <td>GO:0003823</td>\n",
       "    </tr>\n",
       "  </tbody>\n",
       "</table>\n",
       "</div>"
      ],
      "text/plain": [
       "  DB Object Symbol       GO ID\n",
       "0         IGKV2-28  GO:0004252\n",
       "1         IGKV2-28  GO:0004252\n",
       "2         IGHV3-64  GO:0003823\n",
       "3         IGHV3-64  GO:0034987\n",
       "4          IGHV4-4  GO:0003823"
      ]
     },
     "execution_count": 18,
     "metadata": {},
     "output_type": "execute_result"
    }
   ],
   "source": [
    "df.head()"
   ]
  },
  {
   "cell_type": "code",
   "execution_count": 19,
   "metadata": {},
   "outputs": [
    {
     "data": {
      "text/plain": [
       "(152328, 2)"
      ]
     },
     "execution_count": 19,
     "metadata": {},
     "output_type": "execute_result"
    }
   ],
   "source": [
    "df.shape"
   ]
  },
  {
   "cell_type": "markdown",
   "metadata": {},
   "source": [
    "# Load Gene Ontology Tree Digraph"
   ]
  },
  {
   "cell_type": "code",
   "execution_count": 20,
   "metadata": {
    "collapsed": true
   },
   "outputs": [],
   "source": [
    "digraph = goenrich.obo.ontology('input/go-basic.ob')"
   ]
  },
  {
   "cell_type": "markdown",
   "metadata": {},
   "source": [
    "# Keep Only Terms With a Tree Depth of 4 or Greaterm"
   ]
  },
  {
   "cell_type": "code",
   "execution_count": 21,
   "metadata": {},
   "outputs": [
    {
     "name": "stdout",
     "output_type": "stream",
     "text": [
      "Progress: 100%  152328 Out of 152328   \r"
     ]
    }
   ],
   "source": [
    "lst = []\n",
    "\n",
    "for i,index in enumerate(df.index):\n",
    "    \n",
    "    progressPercent = ((i+1)/len(df.index))*100\n",
    "\n",
    "    sys.stdout.write(\"Progress: %d%%  %d Out of %d   \\r\" % (progressPercent, (i+1), len(df.index)))\n",
    "    sys.stdout.flush()\n",
    "    \n",
    "    term = df.loc[index, 'GO ID']\n",
    "    if term in digraph.node:\n",
    "        if digraph.node[term]['depth'] >= 4:\n",
    "            lst.append(term)\n",
    "        else:\n",
    "            lst.append(np.nan)\n",
    "    else:\n",
    "        lst.append(np.nan)\n",
    "\n",
    "df['GO ID'] = lst"
   ]
  },
  {
   "cell_type": "code",
   "execution_count": 22,
   "metadata": {},
   "outputs": [
    {
     "data": {
      "text/plain": [
       "(152328, 2)"
      ]
     },
     "execution_count": 22,
     "metadata": {},
     "output_type": "execute_result"
    }
   ],
   "source": [
    "df.shape"
   ]
  },
  {
   "cell_type": "code",
   "execution_count": 23,
   "metadata": {
    "collapsed": true
   },
   "outputs": [],
   "source": [
    "df.dropna(inplace=True)"
   ]
  },
  {
   "cell_type": "code",
   "execution_count": 24,
   "metadata": {},
   "outputs": [
    {
     "data": {
      "text/plain": [
       "(46497, 2)"
      ]
     },
     "execution_count": 24,
     "metadata": {},
     "output_type": "execute_result"
    }
   ],
   "source": [
    "df.shape"
   ]
  },
  {
   "cell_type": "code",
   "execution_count": 25,
   "metadata": {},
   "outputs": [
    {
     "data": {
      "text/html": [
       "<div>\n",
       "<style scoped>\n",
       "    .dataframe tbody tr th:only-of-type {\n",
       "        vertical-align: middle;\n",
       "    }\n",
       "\n",
       "    .dataframe tbody tr th {\n",
       "        vertical-align: top;\n",
       "    }\n",
       "\n",
       "    .dataframe thead th {\n",
       "        text-align: right;\n",
       "    }\n",
       "</style>\n",
       "<table border=\"1\" class=\"dataframe\">\n",
       "  <thead>\n",
       "    <tr style=\"text-align: right;\">\n",
       "      <th></th>\n",
       "      <th>DB Object Symbol</th>\n",
       "      <th>GO ID</th>\n",
       "    </tr>\n",
       "  </thead>\n",
       "  <tbody>\n",
       "    <tr>\n",
       "      <th>0</th>\n",
       "      <td>IGKV2-28</td>\n",
       "      <td>GO:0004252</td>\n",
       "    </tr>\n",
       "    <tr>\n",
       "      <th>1</th>\n",
       "      <td>IGKV2-28</td>\n",
       "      <td>GO:0004252</td>\n",
       "    </tr>\n",
       "    <tr>\n",
       "      <th>3</th>\n",
       "      <td>IGHV3-64</td>\n",
       "      <td>GO:0034987</td>\n",
       "    </tr>\n",
       "    <tr>\n",
       "      <th>5</th>\n",
       "      <td>IGHV4-4</td>\n",
       "      <td>GO:0034987</td>\n",
       "    </tr>\n",
       "    <tr>\n",
       "      <th>6</th>\n",
       "      <td>IGKV2D-30</td>\n",
       "      <td>GO:0004252</td>\n",
       "    </tr>\n",
       "  </tbody>\n",
       "</table>\n",
       "</div>"
      ],
      "text/plain": [
       "  DB Object Symbol       GO ID\n",
       "0         IGKV2-28  GO:0004252\n",
       "1         IGKV2-28  GO:0004252\n",
       "3         IGHV3-64  GO:0034987\n",
       "5          IGHV4-4  GO:0034987\n",
       "6        IGKV2D-30  GO:0004252"
      ]
     },
     "execution_count": 25,
     "metadata": {},
     "output_type": "execute_result"
    }
   ],
   "source": [
    "df.head()"
   ]
  },
  {
   "cell_type": "markdown",
   "metadata": {},
   "source": [
    "# Term Propagation-propergate child gene term relationships to parent terms"
   ]
  },
  {
   "cell_type": "code",
   "execution_count": 26,
   "metadata": {},
   "outputs": [],
   "source": [
    "lst1 = []\n",
    "lst2 = []\n",
    "\n",
    "for i,index in enumerate(df.index):\n",
    "    \n",
    "#     progressPercent = ((i+1)/len(df.index))*100\n",
    "\n",
    "#     sys.stdout.write(\"Progress: %d%%  %d Out of %d   \\r\" % (progressPercent, (i+1), len(df.index)))\n",
    "#     sys.stdout.flush()\n",
    "    \n",
    "#     term = df.loc[index, 'GO ID']\n",
    "#     for parent in digraph.predecessors(term):\n",
    "#         if parent in digraph.node:\n",
    "#             if digraph.node[parent]['depth'] >= 4:\n",
    "#                 lst1.append(df.loc[index, 'DB Object Symbol'])\n",
    "#                 lst2.append(parent)\n",
    "#                 print(term, parent)\n",
    "    term = df.loc[index, 'GO ID']\n",
    "    for parent in digraph.successors(term):\n",
    "        if parent in digraph.node:\n",
    "            if digraph.node[parent]['depth'] >= 4:\n",
    "                lst1.append(df.loc[index, 'DB Object Symbol'])\n",
    "                lst2.append(parent)\n",
    "#                 print(term, parent)\n",
    "\n",
    "\n",
    "temp = pd.DataFrame()\n",
    "temp['DB Object Symbol'] = lst1\n",
    "temp['GO ID']  = lst2\n",
    "df = pd.concat([df, temp])\n",
    "df.reset_index(inplace=True)\n",
    "df.drop('index', axis=1, inplace=True)"
   ]
  },
  {
   "cell_type": "code",
   "execution_count": 27,
   "metadata": {},
   "outputs": [
    {
     "data": {
      "text/plain": [
       "(88786, 2)"
      ]
     },
     "execution_count": 27,
     "metadata": {},
     "output_type": "execute_result"
    }
   ],
   "source": [
    "df.shape"
   ]
  },
  {
   "cell_type": "markdown",
   "metadata": {},
   "source": [
    "# Map GO ID to Descriptive Name "
   ]
  },
  {
   "cell_type": "code",
   "execution_count": 28,
   "metadata": {},
   "outputs": [
    {
     "name": "stdout",
     "output_type": "stream",
     "text": [
      "Progress: 0%  221 Out of 88786   \r"
     ]
    },
    {
     "name": "stderr",
     "output_type": "stream",
     "text": [
      "/Users/moshesilverstein/anaconda/lib/python3.5/site-packages/ipykernel/__main__.py:10: DeprecationWarning: \n",
      ".ix is deprecated. Please use\n",
      ".loc for label based indexing or\n",
      ".iloc for positional indexing\n",
      "\n",
      "See the documentation here:\n",
      "http://pandas.pydata.org/pandas-docs/stable/indexing.html#ix-indexer-is-deprecated\n"
     ]
    },
    {
     "name": "stdout",
     "output_type": "stream",
     "text": [
      "Progress: 99%  88424 Out of 88786   \r"
     ]
    }
   ],
   "source": [
    "lst = []\n",
    "\n",
    "for i,index in enumerate(df.index):\n",
    "    \n",
    "    progressPercent = ((i+1)/len(df.index))*100\n",
    "\n",
    "    sys.stdout.write(\"Progress: %d%%  %d Out of %d   \\r\" % (progressPercent, (i+1), len(df.index)))\n",
    "    sys.stdout.flush()\n",
    "    \n",
    "    lst.append(str(digraph.node[df.ix[index, 'GO ID']]['name'])+' '+ '('+str(df.loc[index, 'GO ID'])+')')\n",
    "    \n",
    "df['GO ID'] = lst"
   ]
  },
  {
   "cell_type": "code",
   "execution_count": 29,
   "metadata": {},
   "outputs": [],
   "source": [
    "df.head()"
   ]
  },
  {
   "cell_type": "markdown",
   "metadata": {},
   "source": [
    "# Map Gene Symbols To Up-to-date Approved Gene Symbols"
   ]
  },
  {
   "cell_type": "code",
   "execution_count": 30,
   "metadata": {
    "collapsed": true
   },
   "outputs": [],
   "source": [
    "df.set_index('DB Object Symbol', inplace=True)"
   ]
  },
  {
   "cell_type": "code",
   "execution_count": 31,
   "metadata": {},
   "outputs": [
    {
     "name": "stdout",
     "output_type": "stream",
     "text": [
      "Progeres: 99%  88361 Out of 88786   \r"
     ]
    }
   ],
   "source": [
    "uf.mapgenesymbols(df)"
   ]
  },
  {
   "cell_type": "code",
   "execution_count": 32,
   "metadata": {
    "collapsed": true
   },
   "outputs": [],
   "source": [
    "df.shape"
   ]
  },
  {
   "cell_type": "markdown",
   "metadata": {},
   "source": [
    "# Drop Duplicates"
   ]
  },
  {
   "cell_type": "code",
   "execution_count": 33,
   "metadata": {
    "collapsed": true
   },
   "outputs": [],
   "source": [
    "df.reset_index(inplace=True)"
   ]
  },
  {
   "cell_type": "code",
   "execution_count": 34,
   "metadata": {
    "collapsed": true
   },
   "outputs": [],
   "source": [
    "df.drop_duplicates(inplace=True)"
   ]
  },
  {
   "cell_type": "code",
   "execution_count": 35,
   "metadata": {},
   "outputs": [],
   "source": [
    "df.shape"
   ]
  },
  {
   "cell_type": "markdown",
   "metadata": {},
   "source": [
    "# Create Binary Matrix"
   ]
  },
  {
   "cell_type": "code",
   "execution_count": 36,
   "metadata": {},
   "outputs": [
    {
     "name": "stdout",
     "output_type": "stream",
     "text": [
      "Progeres: 100%  11739 Out of 11739   \r"
     ]
    }
   ],
   "source": [
    "binary_matrix = uf.createBinaryMatrix(df)"
   ]
  },
  {
   "cell_type": "code",
   "execution_count": 37,
   "metadata": {},
   "outputs": [
    {
     "data": {
      "text/html": [
       "<div>\n",
       "<style scoped>\n",
       "    .dataframe tbody tr th:only-of-type {\n",
       "        vertical-align: middle;\n",
       "    }\n",
       "\n",
       "    .dataframe tbody tr th {\n",
       "        vertical-align: top;\n",
       "    }\n",
       "\n",
       "    .dataframe thead th {\n",
       "        text-align: right;\n",
       "    }\n",
       "</style>\n",
       "<table border=\"1\" class=\"dataframe\">\n",
       "  <thead>\n",
       "    <tr style=\"text-align: right;\">\n",
       "      <th></th>\n",
       "      <th>phenylalanine-tRNA ligase activity (GO:0004826)</th>\n",
       "      <th>6-phosphogluconolactonase activity (GO:0017057)</th>\n",
       "      <th>semaphorin receptor activity (GO:0017154)</th>\n",
       "      <th>7SK snRNA binding (GO:0097322)</th>\n",
       "      <th>androgen receptor binding (GO:0050681)</th>\n",
       "      <th>transcription regulatory region DNA binding (GO:0044212)</th>\n",
       "      <th>JUN kinase kinase kinase activity (GO:0004706)</th>\n",
       "      <th>inositol monophosphate 3-phosphatase activity (GO:0052832)</th>\n",
       "      <th>protein phosphatase inhibitor activity (GO:0004864)</th>\n",
       "      <th>telomeric repeat-containing RNA binding (GO:0061752)</th>\n",
       "      <th>...</th>\n",
       "      <th>ubiquitin-like protein ligase binding (GO:0044389)</th>\n",
       "      <th>pyridoxal phosphatase activity (GO:0033883)</th>\n",
       "      <th>oxytocin receptor activity (GO:0004990)</th>\n",
       "      <th>sodium ion transmembrane transporter activity (GO:0015081)</th>\n",
       "      <th>single-stranded DNA 3'-5' exodeoxyribonuclease activity (GO:0008310)</th>\n",
       "      <th>annealing helicase activity (GO:0036310)</th>\n",
       "      <th>tocopherol omega-hydroxylase activity (GO:0052870)</th>\n",
       "      <th>epoxide hydrolase activity (GO:0004301)</th>\n",
       "      <th>type 1 fibroblast growth factor receptor binding (GO:0005105)</th>\n",
       "      <th>interferon receptor activity (GO:0004904)</th>\n",
       "    </tr>\n",
       "  </thead>\n",
       "  <tbody>\n",
       "    <tr>\n",
       "      <th>CR2</th>\n",
       "      <td>0</td>\n",
       "      <td>0</td>\n",
       "      <td>0</td>\n",
       "      <td>0</td>\n",
       "      <td>0</td>\n",
       "      <td>0</td>\n",
       "      <td>0</td>\n",
       "      <td>0</td>\n",
       "      <td>0</td>\n",
       "      <td>0</td>\n",
       "      <td>...</td>\n",
       "      <td>0</td>\n",
       "      <td>0</td>\n",
       "      <td>0</td>\n",
       "      <td>0</td>\n",
       "      <td>0</td>\n",
       "      <td>0</td>\n",
       "      <td>0</td>\n",
       "      <td>0</td>\n",
       "      <td>0</td>\n",
       "      <td>0</td>\n",
       "    </tr>\n",
       "    <tr>\n",
       "      <th>CHFR</th>\n",
       "      <td>0</td>\n",
       "      <td>0</td>\n",
       "      <td>0</td>\n",
       "      <td>0</td>\n",
       "      <td>0</td>\n",
       "      <td>0</td>\n",
       "      <td>0</td>\n",
       "      <td>0</td>\n",
       "      <td>0</td>\n",
       "      <td>0</td>\n",
       "      <td>...</td>\n",
       "      <td>0</td>\n",
       "      <td>0</td>\n",
       "      <td>0</td>\n",
       "      <td>0</td>\n",
       "      <td>0</td>\n",
       "      <td>0</td>\n",
       "      <td>0</td>\n",
       "      <td>0</td>\n",
       "      <td>0</td>\n",
       "      <td>0</td>\n",
       "    </tr>\n",
       "    <tr>\n",
       "      <th>OR8U8</th>\n",
       "      <td>0</td>\n",
       "      <td>0</td>\n",
       "      <td>0</td>\n",
       "      <td>0</td>\n",
       "      <td>0</td>\n",
       "      <td>0</td>\n",
       "      <td>0</td>\n",
       "      <td>0</td>\n",
       "      <td>0</td>\n",
       "      <td>0</td>\n",
       "      <td>...</td>\n",
       "      <td>0</td>\n",
       "      <td>0</td>\n",
       "      <td>0</td>\n",
       "      <td>0</td>\n",
       "      <td>0</td>\n",
       "      <td>0</td>\n",
       "      <td>0</td>\n",
       "      <td>0</td>\n",
       "      <td>0</td>\n",
       "      <td>0</td>\n",
       "    </tr>\n",
       "    <tr>\n",
       "      <th>HERC6</th>\n",
       "      <td>0</td>\n",
       "      <td>0</td>\n",
       "      <td>0</td>\n",
       "      <td>0</td>\n",
       "      <td>0</td>\n",
       "      <td>0</td>\n",
       "      <td>0</td>\n",
       "      <td>0</td>\n",
       "      <td>0</td>\n",
       "      <td>0</td>\n",
       "      <td>...</td>\n",
       "      <td>0</td>\n",
       "      <td>0</td>\n",
       "      <td>0</td>\n",
       "      <td>0</td>\n",
       "      <td>0</td>\n",
       "      <td>0</td>\n",
       "      <td>0</td>\n",
       "      <td>0</td>\n",
       "      <td>0</td>\n",
       "      <td>0</td>\n",
       "    </tr>\n",
       "    <tr>\n",
       "      <th>LTBP2</th>\n",
       "      <td>0</td>\n",
       "      <td>0</td>\n",
       "      <td>0</td>\n",
       "      <td>0</td>\n",
       "      <td>0</td>\n",
       "      <td>0</td>\n",
       "      <td>0</td>\n",
       "      <td>0</td>\n",
       "      <td>0</td>\n",
       "      <td>0</td>\n",
       "      <td>...</td>\n",
       "      <td>0</td>\n",
       "      <td>0</td>\n",
       "      <td>0</td>\n",
       "      <td>0</td>\n",
       "      <td>0</td>\n",
       "      <td>0</td>\n",
       "      <td>0</td>\n",
       "      <td>0</td>\n",
       "      <td>0</td>\n",
       "      <td>0</td>\n",
       "    </tr>\n",
       "  </tbody>\n",
       "</table>\n",
       "<p>5 rows × 3618 columns</p>\n",
       "</div>"
      ],
      "text/plain": [
       "       phenylalanine-tRNA ligase activity (GO:0004826)  \\\n",
       "CR2                                                  0   \n",
       "CHFR                                                 0   \n",
       "OR8U8                                                0   \n",
       "HERC6                                                0   \n",
       "LTBP2                                                0   \n",
       "\n",
       "       6-phosphogluconolactonase activity (GO:0017057)  \\\n",
       "CR2                                                  0   \n",
       "CHFR                                                 0   \n",
       "OR8U8                                                0   \n",
       "HERC6                                                0   \n",
       "LTBP2                                                0   \n",
       "\n",
       "       semaphorin receptor activity (GO:0017154)  \\\n",
       "CR2                                            0   \n",
       "CHFR                                           0   \n",
       "OR8U8                                          0   \n",
       "HERC6                                          0   \n",
       "LTBP2                                          0   \n",
       "\n",
       "       7SK snRNA binding (GO:0097322)  androgen receptor binding (GO:0050681)  \\\n",
       "CR2                                 0                                       0   \n",
       "CHFR                                0                                       0   \n",
       "OR8U8                               0                                       0   \n",
       "HERC6                               0                                       0   \n",
       "LTBP2                               0                                       0   \n",
       "\n",
       "       transcription regulatory region DNA binding (GO:0044212)  \\\n",
       "CR2                                                    0          \n",
       "CHFR                                                   0          \n",
       "OR8U8                                                  0          \n",
       "HERC6                                                  0          \n",
       "LTBP2                                                  0          \n",
       "\n",
       "       JUN kinase kinase kinase activity (GO:0004706)  \\\n",
       "CR2                                                 0   \n",
       "CHFR                                                0   \n",
       "OR8U8                                               0   \n",
       "HERC6                                               0   \n",
       "LTBP2                                               0   \n",
       "\n",
       "       inositol monophosphate 3-phosphatase activity (GO:0052832)  \\\n",
       "CR2                                                    0            \n",
       "CHFR                                                   0            \n",
       "OR8U8                                                  0            \n",
       "HERC6                                                  0            \n",
       "LTBP2                                                  0            \n",
       "\n",
       "       protein phosphatase inhibitor activity (GO:0004864)  \\\n",
       "CR2                                                    0     \n",
       "CHFR                                                   0     \n",
       "OR8U8                                                  0     \n",
       "HERC6                                                  0     \n",
       "LTBP2                                                  0     \n",
       "\n",
       "       telomeric repeat-containing RNA binding (GO:0061752)  \\\n",
       "CR2                                                    0      \n",
       "CHFR                                                   0      \n",
       "OR8U8                                                  0      \n",
       "HERC6                                                  0      \n",
       "LTBP2                                                  0      \n",
       "\n",
       "                         ...                      \\\n",
       "CR2                      ...                       \n",
       "CHFR                     ...                       \n",
       "OR8U8                    ...                       \n",
       "HERC6                    ...                       \n",
       "LTBP2                    ...                       \n",
       "\n",
       "       ubiquitin-like protein ligase binding (GO:0044389)  \\\n",
       "CR2                                                    0    \n",
       "CHFR                                                   0    \n",
       "OR8U8                                                  0    \n",
       "HERC6                                                  0    \n",
       "LTBP2                                                  0    \n",
       "\n",
       "       pyridoxal phosphatase activity (GO:0033883)  \\\n",
       "CR2                                              0   \n",
       "CHFR                                             0   \n",
       "OR8U8                                            0   \n",
       "HERC6                                            0   \n",
       "LTBP2                                            0   \n",
       "\n",
       "       oxytocin receptor activity (GO:0004990)  \\\n",
       "CR2                                          0   \n",
       "CHFR                                         0   \n",
       "OR8U8                                        0   \n",
       "HERC6                                        0   \n",
       "LTBP2                                        0   \n",
       "\n",
       "       sodium ion transmembrane transporter activity (GO:0015081)  \\\n",
       "CR2                                                    0            \n",
       "CHFR                                                   0            \n",
       "OR8U8                                                  0            \n",
       "HERC6                                                  0            \n",
       "LTBP2                                                  0            \n",
       "\n",
       "       single-stranded DNA 3'-5' exodeoxyribonuclease activity (GO:0008310)  \\\n",
       "CR2                                                    0                      \n",
       "CHFR                                                   0                      \n",
       "OR8U8                                                  0                      \n",
       "HERC6                                                  0                      \n",
       "LTBP2                                                  0                      \n",
       "\n",
       "       annealing helicase activity (GO:0036310)  \\\n",
       "CR2                                           0   \n",
       "CHFR                                          0   \n",
       "OR8U8                                         0   \n",
       "HERC6                                         0   \n",
       "LTBP2                                         0   \n",
       "\n",
       "       tocopherol omega-hydroxylase activity (GO:0052870)  \\\n",
       "CR2                                                    0    \n",
       "CHFR                                                   0    \n",
       "OR8U8                                                  0    \n",
       "HERC6                                                  0    \n",
       "LTBP2                                                  0    \n",
       "\n",
       "       epoxide hydrolase activity (GO:0004301)  \\\n",
       "CR2                                          0   \n",
       "CHFR                                         0   \n",
       "OR8U8                                        0   \n",
       "HERC6                                        0   \n",
       "LTBP2                                        0   \n",
       "\n",
       "       type 1 fibroblast growth factor receptor binding (GO:0005105)  \\\n",
       "CR2                                                    0               \n",
       "CHFR                                                   0               \n",
       "OR8U8                                                  0               \n",
       "HERC6                                                  0               \n",
       "LTBP2                                                  0               \n",
       "\n",
       "       interferon receptor activity (GO:0004904)  \n",
       "CR2                                            0  \n",
       "CHFR                                           0  \n",
       "OR8U8                                          0  \n",
       "HERC6                                          0  \n",
       "LTBP2                                          0  \n",
       "\n",
       "[5 rows x 3618 columns]"
      ]
     },
     "execution_count": 37,
     "metadata": {},
     "output_type": "execute_result"
    }
   ],
   "source": [
    "binary_matrix.head()"
   ]
  },
  {
   "cell_type": "code",
   "execution_count": 38,
   "metadata": {},
   "outputs": [
    {
     "data": {
      "text/plain": [
       "(11739, 3618)"
      ]
     },
     "execution_count": 38,
     "metadata": {},
     "output_type": "execute_result"
    }
   ],
   "source": [
    "binary_matrix.shape"
   ]
  },
  {
   "cell_type": "markdown",
   "metadata": {},
   "source": [
    "# Save Binary Matrix"
   ]
  },
  {
   "cell_type": "code",
   "execution_count": 39,
   "metadata": {
    "collapsed": true
   },
   "outputs": [],
   "source": [
    "filename = '~/./Documents/Harmonizome/GO/output/go_molecular_function_binary_matrix_%s.tsv.zip'% str(datetime.date.today())[0:7].replace('-', '_')\n",
    "binary_matrix.to_csv(filename, sep='\\t', compression='gzip')"
   ]
  },
  {
   "cell_type": "markdown",
   "metadata": {},
   "source": [
    "# Create Gene Set Library"
   ]
  },
  {
   "cell_type": "code",
   "execution_count": 40,
   "metadata": {
    "collapsed": true
   },
   "outputs": [],
   "source": [
    "path = '/Users/moshesilverstein/Documents/Harmonizome/GO/output/'"
   ]
  },
  {
   "cell_type": "code",
   "execution_count": 41,
   "metadata": {
    "collapsed": true
   },
   "outputs": [],
   "source": [
    "name = 'go_molecular_function_gene_set'"
   ]
  },
  {
   "cell_type": "code",
   "execution_count": 42,
   "metadata": {},
   "outputs": [
    {
     "name": "stdout",
     "output_type": "stream",
     "text": [
      "Progeres: 100%  3618 Out of 3618   \r"
     ]
    }
   ],
   "source": [
    "uf.createUpGeneSetLib(binary_matrix, path, name)"
   ]
  },
  {
   "cell_type": "markdown",
   "metadata": {},
   "source": [
    "# Create Attribute Library"
   ]
  },
  {
   "cell_type": "code",
   "execution_count": 43,
   "metadata": {
    "collapsed": true
   },
   "outputs": [],
   "source": [
    "path = '/Users/moshesilverstein/Documents/Harmonizome/GO/output/'"
   ]
  },
  {
   "cell_type": "code",
   "execution_count": 44,
   "metadata": {
    "collapsed": true
   },
   "outputs": [],
   "source": [
    "name = 'go_molecular_function_attribute_set'"
   ]
  },
  {
   "cell_type": "code",
   "execution_count": 45,
   "metadata": {},
   "outputs": [
    {
     "name": "stdout",
     "output_type": "stream",
     "text": [
      "Progeres: 100%  11739 Out of 11739   \r"
     ]
    }
   ],
   "source": [
    "uf.createUpAttributeSetLib(binary_matrix, path, name)"
   ]
  },
  {
   "cell_type": "markdown",
   "metadata": {},
   "source": [
    "# Create Gene Similarity Matrix"
   ]
  },
  {
   "cell_type": "code",
   "execution_count": 46,
   "metadata": {
    "collapsed": true
   },
   "outputs": [],
   "source": [
    "gene_similarity_matix = uf.createSimilarityMatrix(binary_matrix, 'jaccard')"
   ]
  },
  {
   "cell_type": "code",
   "execution_count": 47,
   "metadata": {},
   "outputs": [
    {
     "data": {
      "text/html": [
       "<div>\n",
       "<style scoped>\n",
       "    .dataframe tbody tr th:only-of-type {\n",
       "        vertical-align: middle;\n",
       "    }\n",
       "\n",
       "    .dataframe tbody tr th {\n",
       "        vertical-align: top;\n",
       "    }\n",
       "\n",
       "    .dataframe thead th {\n",
       "        text-align: right;\n",
       "    }\n",
       "</style>\n",
       "<table border=\"1\" class=\"dataframe\">\n",
       "  <thead>\n",
       "    <tr style=\"text-align: right;\">\n",
       "      <th></th>\n",
       "      <th>CR2</th>\n",
       "      <th>CHFR</th>\n",
       "      <th>OR8U8</th>\n",
       "      <th>HERC6</th>\n",
       "      <th>LTBP2</th>\n",
       "      <th>GIMAP7</th>\n",
       "      <th>SOX3</th>\n",
       "      <th>MICAL2</th>\n",
       "      <th>LGALS3</th>\n",
       "      <th>SKP2</th>\n",
       "      <th>...</th>\n",
       "      <th>EEF1E1</th>\n",
       "      <th>DYNLRB1</th>\n",
       "      <th>COQ9</th>\n",
       "      <th>CDK2</th>\n",
       "      <th>ADIPOQ</th>\n",
       "      <th>SPAG5</th>\n",
       "      <th>NOTCH4</th>\n",
       "      <th>TMPRSS13</th>\n",
       "      <th>SRSF4</th>\n",
       "      <th>PPFIBP1</th>\n",
       "    </tr>\n",
       "    <tr>\n",
       "      <th></th>\n",
       "      <th></th>\n",
       "      <th></th>\n",
       "      <th></th>\n",
       "      <th></th>\n",
       "      <th></th>\n",
       "      <th></th>\n",
       "      <th></th>\n",
       "      <th></th>\n",
       "      <th></th>\n",
       "      <th></th>\n",
       "      <th></th>\n",
       "      <th></th>\n",
       "      <th></th>\n",
       "      <th></th>\n",
       "      <th></th>\n",
       "      <th></th>\n",
       "      <th></th>\n",
       "      <th></th>\n",
       "      <th></th>\n",
       "      <th></th>\n",
       "      <th></th>\n",
       "    </tr>\n",
       "  </thead>\n",
       "  <tbody>\n",
       "    <tr>\n",
       "      <th>CR2</th>\n",
       "      <td>1.0</td>\n",
       "      <td>0.000000</td>\n",
       "      <td>0.0</td>\n",
       "      <td>0.000000</td>\n",
       "      <td>0.0</td>\n",
       "      <td>0.111111</td>\n",
       "      <td>0.1</td>\n",
       "      <td>0.0</td>\n",
       "      <td>0.0</td>\n",
       "      <td>0.000000</td>\n",
       "      <td>...</td>\n",
       "      <td>0.0</td>\n",
       "      <td>0.0</td>\n",
       "      <td>0.333333</td>\n",
       "      <td>0.0</td>\n",
       "      <td>0.2</td>\n",
       "      <td>0.0</td>\n",
       "      <td>0.0</td>\n",
       "      <td>0.0</td>\n",
       "      <td>0.0</td>\n",
       "      <td>0.0</td>\n",
       "    </tr>\n",
       "    <tr>\n",
       "      <th>CHFR</th>\n",
       "      <td>0.0</td>\n",
       "      <td>1.000000</td>\n",
       "      <td>0.0</td>\n",
       "      <td>0.333333</td>\n",
       "      <td>0.0</td>\n",
       "      <td>0.000000</td>\n",
       "      <td>0.0</td>\n",
       "      <td>0.0</td>\n",
       "      <td>0.0</td>\n",
       "      <td>1.000000</td>\n",
       "      <td>...</td>\n",
       "      <td>0.0</td>\n",
       "      <td>0.0</td>\n",
       "      <td>0.000000</td>\n",
       "      <td>0.0</td>\n",
       "      <td>0.0</td>\n",
       "      <td>0.0</td>\n",
       "      <td>0.0</td>\n",
       "      <td>0.0</td>\n",
       "      <td>0.0</td>\n",
       "      <td>0.0</td>\n",
       "    </tr>\n",
       "    <tr>\n",
       "      <th>OR8U8</th>\n",
       "      <td>0.0</td>\n",
       "      <td>0.000000</td>\n",
       "      <td>1.0</td>\n",
       "      <td>0.000000</td>\n",
       "      <td>0.0</td>\n",
       "      <td>0.000000</td>\n",
       "      <td>0.0</td>\n",
       "      <td>0.0</td>\n",
       "      <td>0.0</td>\n",
       "      <td>0.000000</td>\n",
       "      <td>...</td>\n",
       "      <td>0.0</td>\n",
       "      <td>0.0</td>\n",
       "      <td>0.000000</td>\n",
       "      <td>0.0</td>\n",
       "      <td>0.0</td>\n",
       "      <td>0.0</td>\n",
       "      <td>0.0</td>\n",
       "      <td>0.0</td>\n",
       "      <td>0.0</td>\n",
       "      <td>0.0</td>\n",
       "    </tr>\n",
       "    <tr>\n",
       "      <th>HERC6</th>\n",
       "      <td>0.0</td>\n",
       "      <td>0.333333</td>\n",
       "      <td>0.0</td>\n",
       "      <td>1.000000</td>\n",
       "      <td>0.0</td>\n",
       "      <td>0.000000</td>\n",
       "      <td>0.0</td>\n",
       "      <td>0.0</td>\n",
       "      <td>0.0</td>\n",
       "      <td>0.333333</td>\n",
       "      <td>...</td>\n",
       "      <td>0.0</td>\n",
       "      <td>0.0</td>\n",
       "      <td>0.000000</td>\n",
       "      <td>0.0</td>\n",
       "      <td>0.0</td>\n",
       "      <td>0.0</td>\n",
       "      <td>0.0</td>\n",
       "      <td>0.0</td>\n",
       "      <td>0.0</td>\n",
       "      <td>0.0</td>\n",
       "    </tr>\n",
       "    <tr>\n",
       "      <th>LTBP2</th>\n",
       "      <td>0.0</td>\n",
       "      <td>0.000000</td>\n",
       "      <td>0.0</td>\n",
       "      <td>0.000000</td>\n",
       "      <td>1.0</td>\n",
       "      <td>0.000000</td>\n",
       "      <td>0.0</td>\n",
       "      <td>0.0</td>\n",
       "      <td>0.0</td>\n",
       "      <td>0.000000</td>\n",
       "      <td>...</td>\n",
       "      <td>0.0</td>\n",
       "      <td>0.0</td>\n",
       "      <td>0.000000</td>\n",
       "      <td>0.0</td>\n",
       "      <td>0.0</td>\n",
       "      <td>0.0</td>\n",
       "      <td>0.0</td>\n",
       "      <td>0.0</td>\n",
       "      <td>0.0</td>\n",
       "      <td>0.0</td>\n",
       "    </tr>\n",
       "  </tbody>\n",
       "</table>\n",
       "<p>5 rows × 11739 columns</p>\n",
       "</div>"
      ],
      "text/plain": [
       "       CR2      CHFR  OR8U8     HERC6  LTBP2    GIMAP7  SOX3  MICAL2  LGALS3  \\\n",
       "                                                                               \n",
       "CR2    1.0  0.000000    0.0  0.000000    0.0  0.111111   0.1     0.0     0.0   \n",
       "CHFR   0.0  1.000000    0.0  0.333333    0.0  0.000000   0.0     0.0     0.0   \n",
       "OR8U8  0.0  0.000000    1.0  0.000000    0.0  0.000000   0.0     0.0     0.0   \n",
       "HERC6  0.0  0.333333    0.0  1.000000    0.0  0.000000   0.0     0.0     0.0   \n",
       "LTBP2  0.0  0.000000    0.0  0.000000    1.0  0.000000   0.0     0.0     0.0   \n",
       "\n",
       "           SKP2   ...     EEF1E1  DYNLRB1      COQ9  CDK2  ADIPOQ  SPAG5  \\\n",
       "                  ...                                                      \n",
       "CR2    0.000000   ...        0.0      0.0  0.333333   0.0     0.2    0.0   \n",
       "CHFR   1.000000   ...        0.0      0.0  0.000000   0.0     0.0    0.0   \n",
       "OR8U8  0.000000   ...        0.0      0.0  0.000000   0.0     0.0    0.0   \n",
       "HERC6  0.333333   ...        0.0      0.0  0.000000   0.0     0.0    0.0   \n",
       "LTBP2  0.000000   ...        0.0      0.0  0.000000   0.0     0.0    0.0   \n",
       "\n",
       "       NOTCH4  TMPRSS13  SRSF4  PPFIBP1  \n",
       "                                         \n",
       "CR2       0.0       0.0    0.0      0.0  \n",
       "CHFR      0.0       0.0    0.0      0.0  \n",
       "OR8U8     0.0       0.0    0.0      0.0  \n",
       "HERC6     0.0       0.0    0.0      0.0  \n",
       "LTBP2     0.0       0.0    0.0      0.0  \n",
       "\n",
       "[5 rows x 11739 columns]"
      ]
     },
     "execution_count": 47,
     "metadata": {},
     "output_type": "execute_result"
    }
   ],
   "source": [
    "gene_similarity_matix.head()"
   ]
  },
  {
   "cell_type": "markdown",
   "metadata": {},
   "source": [
    "# Save Gene Similarity Matrix "
   ]
  },
  {
   "cell_type": "code",
   "execution_count": 48,
   "metadata": {
    "collapsed": true
   },
   "outputs": [],
   "source": [
    "filename = '~/./Documents/Harmonizome/GO/output/go_molecular_function_gene_similarity_matix_%s.tsv.zip'% str(datetime.date.today())[0:7].replace('-', '_')\n",
    "gene_similarity_matix.to_csv(filename, sep='\\t', compression='gzip')"
   ]
  },
  {
   "cell_type": "markdown",
   "metadata": {},
   "source": [
    "# Create Attribute Similarity matrix"
   ]
  },
  {
   "cell_type": "code",
   "execution_count": 49,
   "metadata": {
    "collapsed": true
   },
   "outputs": [],
   "source": [
    "attribute_similarity_matix = uf.createSimilarityMatrix(binary_matrix.T, 'jaccard')"
   ]
  },
  {
   "cell_type": "code",
   "execution_count": 50,
   "metadata": {},
   "outputs": [
    {
     "data": {
      "text/html": [
       "<div>\n",
       "<style scoped>\n",
       "    .dataframe tbody tr th:only-of-type {\n",
       "        vertical-align: middle;\n",
       "    }\n",
       "\n",
       "    .dataframe tbody tr th {\n",
       "        vertical-align: top;\n",
       "    }\n",
       "\n",
       "    .dataframe thead th {\n",
       "        text-align: right;\n",
       "    }\n",
       "</style>\n",
       "<table border=\"1\" class=\"dataframe\">\n",
       "  <thead>\n",
       "    <tr style=\"text-align: right;\">\n",
       "      <th></th>\n",
       "      <th>phenylalanine-tRNA ligase activity (GO:0004826)</th>\n",
       "      <th>6-phosphogluconolactonase activity (GO:0017057)</th>\n",
       "      <th>semaphorin receptor activity (GO:0017154)</th>\n",
       "      <th>7SK snRNA binding (GO:0097322)</th>\n",
       "      <th>androgen receptor binding (GO:0050681)</th>\n",
       "      <th>transcription regulatory region DNA binding (GO:0044212)</th>\n",
       "      <th>JUN kinase kinase kinase activity (GO:0004706)</th>\n",
       "      <th>inositol monophosphate 3-phosphatase activity (GO:0052832)</th>\n",
       "      <th>protein phosphatase inhibitor activity (GO:0004864)</th>\n",
       "      <th>telomeric repeat-containing RNA binding (GO:0061752)</th>\n",
       "      <th>...</th>\n",
       "      <th>ubiquitin-like protein ligase binding (GO:0044389)</th>\n",
       "      <th>pyridoxal phosphatase activity (GO:0033883)</th>\n",
       "      <th>oxytocin receptor activity (GO:0004990)</th>\n",
       "      <th>sodium ion transmembrane transporter activity (GO:0015081)</th>\n",
       "      <th>single-stranded DNA 3'-5' exodeoxyribonuclease activity (GO:0008310)</th>\n",
       "      <th>annealing helicase activity (GO:0036310)</th>\n",
       "      <th>tocopherol omega-hydroxylase activity (GO:0052870)</th>\n",
       "      <th>epoxide hydrolase activity (GO:0004301)</th>\n",
       "      <th>type 1 fibroblast growth factor receptor binding (GO:0005105)</th>\n",
       "      <th>interferon receptor activity (GO:0004904)</th>\n",
       "    </tr>\n",
       "    <tr>\n",
       "      <th></th>\n",
       "      <th></th>\n",
       "      <th></th>\n",
       "      <th></th>\n",
       "      <th></th>\n",
       "      <th></th>\n",
       "      <th></th>\n",
       "      <th></th>\n",
       "      <th></th>\n",
       "      <th></th>\n",
       "      <th></th>\n",
       "      <th></th>\n",
       "      <th></th>\n",
       "      <th></th>\n",
       "      <th></th>\n",
       "      <th></th>\n",
       "      <th></th>\n",
       "      <th></th>\n",
       "      <th></th>\n",
       "      <th></th>\n",
       "      <th></th>\n",
       "      <th></th>\n",
       "    </tr>\n",
       "  </thead>\n",
       "  <tbody>\n",
       "    <tr>\n",
       "      <th>phenylalanine-tRNA ligase activity (GO:0004826)</th>\n",
       "      <td>1.0</td>\n",
       "      <td>0.0</td>\n",
       "      <td>0.0</td>\n",
       "      <td>0.0</td>\n",
       "      <td>0.0</td>\n",
       "      <td>0.000000</td>\n",
       "      <td>0.0</td>\n",
       "      <td>0.0</td>\n",
       "      <td>0.0</td>\n",
       "      <td>0.000000</td>\n",
       "      <td>...</td>\n",
       "      <td>0.00000</td>\n",
       "      <td>0.0</td>\n",
       "      <td>0.0</td>\n",
       "      <td>0.0</td>\n",
       "      <td>0.0</td>\n",
       "      <td>0.0</td>\n",
       "      <td>0.0</td>\n",
       "      <td>0.0</td>\n",
       "      <td>0.0</td>\n",
       "      <td>0.0</td>\n",
       "    </tr>\n",
       "    <tr>\n",
       "      <th>6-phosphogluconolactonase activity (GO:0017057)</th>\n",
       "      <td>0.0</td>\n",
       "      <td>1.0</td>\n",
       "      <td>0.0</td>\n",
       "      <td>0.0</td>\n",
       "      <td>0.0</td>\n",
       "      <td>0.000000</td>\n",
       "      <td>0.0</td>\n",
       "      <td>0.0</td>\n",
       "      <td>0.0</td>\n",
       "      <td>0.000000</td>\n",
       "      <td>...</td>\n",
       "      <td>0.00000</td>\n",
       "      <td>0.0</td>\n",
       "      <td>0.0</td>\n",
       "      <td>0.0</td>\n",
       "      <td>0.0</td>\n",
       "      <td>0.0</td>\n",
       "      <td>0.0</td>\n",
       "      <td>0.0</td>\n",
       "      <td>0.0</td>\n",
       "      <td>0.0</td>\n",
       "    </tr>\n",
       "    <tr>\n",
       "      <th>semaphorin receptor activity (GO:0017154)</th>\n",
       "      <td>0.0</td>\n",
       "      <td>0.0</td>\n",
       "      <td>1.0</td>\n",
       "      <td>0.0</td>\n",
       "      <td>0.0</td>\n",
       "      <td>0.000000</td>\n",
       "      <td>0.0</td>\n",
       "      <td>0.0</td>\n",
       "      <td>0.0</td>\n",
       "      <td>0.000000</td>\n",
       "      <td>...</td>\n",
       "      <td>0.00000</td>\n",
       "      <td>0.0</td>\n",
       "      <td>0.0</td>\n",
       "      <td>0.0</td>\n",
       "      <td>0.0</td>\n",
       "      <td>0.0</td>\n",
       "      <td>0.0</td>\n",
       "      <td>0.0</td>\n",
       "      <td>0.0</td>\n",
       "      <td>0.0</td>\n",
       "    </tr>\n",
       "    <tr>\n",
       "      <th>7SK snRNA binding (GO:0097322)</th>\n",
       "      <td>0.0</td>\n",
       "      <td>0.0</td>\n",
       "      <td>0.0</td>\n",
       "      <td>1.0</td>\n",
       "      <td>0.0</td>\n",
       "      <td>0.002639</td>\n",
       "      <td>0.0</td>\n",
       "      <td>0.0</td>\n",
       "      <td>0.0</td>\n",
       "      <td>0.000000</td>\n",
       "      <td>...</td>\n",
       "      <td>0.00000</td>\n",
       "      <td>0.0</td>\n",
       "      <td>0.0</td>\n",
       "      <td>0.0</td>\n",
       "      <td>0.0</td>\n",
       "      <td>0.0</td>\n",
       "      <td>0.0</td>\n",
       "      <td>0.0</td>\n",
       "      <td>0.0</td>\n",
       "      <td>0.0</td>\n",
       "    </tr>\n",
       "    <tr>\n",
       "      <th>androgen receptor binding (GO:0050681)</th>\n",
       "      <td>0.0</td>\n",
       "      <td>0.0</td>\n",
       "      <td>0.0</td>\n",
       "      <td>0.0</td>\n",
       "      <td>1.0</td>\n",
       "      <td>0.019608</td>\n",
       "      <td>0.0</td>\n",
       "      <td>0.0</td>\n",
       "      <td>0.0</td>\n",
       "      <td>0.023256</td>\n",
       "      <td>...</td>\n",
       "      <td>0.01497</td>\n",
       "      <td>0.0</td>\n",
       "      <td>0.0</td>\n",
       "      <td>0.0</td>\n",
       "      <td>0.0</td>\n",
       "      <td>0.0</td>\n",
       "      <td>0.0</td>\n",
       "      <td>0.0</td>\n",
       "      <td>0.0</td>\n",
       "      <td>0.0</td>\n",
       "    </tr>\n",
       "  </tbody>\n",
       "</table>\n",
       "<p>5 rows × 3618 columns</p>\n",
       "</div>"
      ],
      "text/plain": [
       "                                                 phenylalanine-tRNA ligase activity (GO:0004826)  \\\n",
       "                                                                                                   \n",
       "phenylalanine-tRNA ligase activity (GO:0004826)                                              1.0   \n",
       "6-phosphogluconolactonase activity (GO:0017057)                                              0.0   \n",
       "semaphorin receptor activity (GO:0017154)                                                    0.0   \n",
       "7SK snRNA binding (GO:0097322)                                                               0.0   \n",
       "androgen receptor binding (GO:0050681)                                                       0.0   \n",
       "\n",
       "                                                 6-phosphogluconolactonase activity (GO:0017057)  \\\n",
       "                                                                                                   \n",
       "phenylalanine-tRNA ligase activity (GO:0004826)                                              0.0   \n",
       "6-phosphogluconolactonase activity (GO:0017057)                                              1.0   \n",
       "semaphorin receptor activity (GO:0017154)                                                    0.0   \n",
       "7SK snRNA binding (GO:0097322)                                                               0.0   \n",
       "androgen receptor binding (GO:0050681)                                                       0.0   \n",
       "\n",
       "                                                 semaphorin receptor activity (GO:0017154)  \\\n",
       "                                                                                             \n",
       "phenylalanine-tRNA ligase activity (GO:0004826)                                        0.0   \n",
       "6-phosphogluconolactonase activity (GO:0017057)                                        0.0   \n",
       "semaphorin receptor activity (GO:0017154)                                              1.0   \n",
       "7SK snRNA binding (GO:0097322)                                                         0.0   \n",
       "androgen receptor binding (GO:0050681)                                                 0.0   \n",
       "\n",
       "                                                 7SK snRNA binding (GO:0097322)  \\\n",
       "                                                                                  \n",
       "phenylalanine-tRNA ligase activity (GO:0004826)                             0.0   \n",
       "6-phosphogluconolactonase activity (GO:0017057)                             0.0   \n",
       "semaphorin receptor activity (GO:0017154)                                   0.0   \n",
       "7SK snRNA binding (GO:0097322)                                              1.0   \n",
       "androgen receptor binding (GO:0050681)                                      0.0   \n",
       "\n",
       "                                                 androgen receptor binding (GO:0050681)  \\\n",
       "                                                                                          \n",
       "phenylalanine-tRNA ligase activity (GO:0004826)                                     0.0   \n",
       "6-phosphogluconolactonase activity (GO:0017057)                                     0.0   \n",
       "semaphorin receptor activity (GO:0017154)                                           0.0   \n",
       "7SK snRNA binding (GO:0097322)                                                      0.0   \n",
       "androgen receptor binding (GO:0050681)                                              1.0   \n",
       "\n",
       "                                                 transcription regulatory region DNA binding (GO:0044212)  \\\n",
       "                                                                                                            \n",
       "phenylalanine-tRNA ligase activity (GO:0004826)                                           0.000000          \n",
       "6-phosphogluconolactonase activity (GO:0017057)                                           0.000000          \n",
       "semaphorin receptor activity (GO:0017154)                                                 0.000000          \n",
       "7SK snRNA binding (GO:0097322)                                                            0.002639          \n",
       "androgen receptor binding (GO:0050681)                                                    0.019608          \n",
       "\n",
       "                                                 JUN kinase kinase kinase activity (GO:0004706)  \\\n",
       "                                                                                                  \n",
       "phenylalanine-tRNA ligase activity (GO:0004826)                                             0.0   \n",
       "6-phosphogluconolactonase activity (GO:0017057)                                             0.0   \n",
       "semaphorin receptor activity (GO:0017154)                                                   0.0   \n",
       "7SK snRNA binding (GO:0097322)                                                              0.0   \n",
       "androgen receptor binding (GO:0050681)                                                      0.0   \n",
       "\n",
       "                                                 inositol monophosphate 3-phosphatase activity (GO:0052832)  \\\n",
       "                                                                                                              \n",
       "phenylalanine-tRNA ligase activity (GO:0004826)                                                0.0            \n",
       "6-phosphogluconolactonase activity (GO:0017057)                                                0.0            \n",
       "semaphorin receptor activity (GO:0017154)                                                      0.0            \n",
       "7SK snRNA binding (GO:0097322)                                                                 0.0            \n",
       "androgen receptor binding (GO:0050681)                                                         0.0            \n",
       "\n",
       "                                                 protein phosphatase inhibitor activity (GO:0004864)  \\\n",
       "                                                                                                       \n",
       "phenylalanine-tRNA ligase activity (GO:0004826)                                                0.0     \n",
       "6-phosphogluconolactonase activity (GO:0017057)                                                0.0     \n",
       "semaphorin receptor activity (GO:0017154)                                                      0.0     \n",
       "7SK snRNA binding (GO:0097322)                                                                 0.0     \n",
       "androgen receptor binding (GO:0050681)                                                         0.0     \n",
       "\n",
       "                                                 telomeric repeat-containing RNA binding (GO:0061752)  \\\n",
       "                                                                                                        \n",
       "phenylalanine-tRNA ligase activity (GO:0004826)                                           0.000000      \n",
       "6-phosphogluconolactonase activity (GO:0017057)                                           0.000000      \n",
       "semaphorin receptor activity (GO:0017154)                                                 0.000000      \n",
       "7SK snRNA binding (GO:0097322)                                                            0.000000      \n",
       "androgen receptor binding (GO:0050681)                                                    0.023256      \n",
       "\n",
       "                                                                   ...                      \\\n",
       "                                                                   ...                       \n",
       "phenylalanine-tRNA ligase activity (GO:0004826)                    ...                       \n",
       "6-phosphogluconolactonase activity (GO:0017057)                    ...                       \n",
       "semaphorin receptor activity (GO:0017154)                          ...                       \n",
       "7SK snRNA binding (GO:0097322)                                     ...                       \n",
       "androgen receptor binding (GO:0050681)                             ...                       \n",
       "\n",
       "                                                 ubiquitin-like protein ligase binding (GO:0044389)  \\\n",
       "                                                                                                      \n",
       "phenylalanine-tRNA ligase activity (GO:0004826)                                            0.00000    \n",
       "6-phosphogluconolactonase activity (GO:0017057)                                            0.00000    \n",
       "semaphorin receptor activity (GO:0017154)                                                  0.00000    \n",
       "7SK snRNA binding (GO:0097322)                                                             0.00000    \n",
       "androgen receptor binding (GO:0050681)                                                     0.01497    \n",
       "\n",
       "                                                 pyridoxal phosphatase activity (GO:0033883)  \\\n",
       "                                                                                               \n",
       "phenylalanine-tRNA ligase activity (GO:0004826)                                          0.0   \n",
       "6-phosphogluconolactonase activity (GO:0017057)                                          0.0   \n",
       "semaphorin receptor activity (GO:0017154)                                                0.0   \n",
       "7SK snRNA binding (GO:0097322)                                                           0.0   \n",
       "androgen receptor binding (GO:0050681)                                                   0.0   \n",
       "\n",
       "                                                 oxytocin receptor activity (GO:0004990)  \\\n",
       "                                                                                           \n",
       "phenylalanine-tRNA ligase activity (GO:0004826)                                      0.0   \n",
       "6-phosphogluconolactonase activity (GO:0017057)                                      0.0   \n",
       "semaphorin receptor activity (GO:0017154)                                            0.0   \n",
       "7SK snRNA binding (GO:0097322)                                                       0.0   \n",
       "androgen receptor binding (GO:0050681)                                               0.0   \n",
       "\n",
       "                                                 sodium ion transmembrane transporter activity (GO:0015081)  \\\n",
       "                                                                                                              \n",
       "phenylalanine-tRNA ligase activity (GO:0004826)                                                0.0            \n",
       "6-phosphogluconolactonase activity (GO:0017057)                                                0.0            \n",
       "semaphorin receptor activity (GO:0017154)                                                      0.0            \n",
       "7SK snRNA binding (GO:0097322)                                                                 0.0            \n",
       "androgen receptor binding (GO:0050681)                                                         0.0            \n",
       "\n",
       "                                                 single-stranded DNA 3'-5' exodeoxyribonuclease activity (GO:0008310)  \\\n",
       "                                                                                                                        \n",
       "phenylalanine-tRNA ligase activity (GO:0004826)                                                0.0                      \n",
       "6-phosphogluconolactonase activity (GO:0017057)                                                0.0                      \n",
       "semaphorin receptor activity (GO:0017154)                                                      0.0                      \n",
       "7SK snRNA binding (GO:0097322)                                                                 0.0                      \n",
       "androgen receptor binding (GO:0050681)                                                         0.0                      \n",
       "\n",
       "                                                 annealing helicase activity (GO:0036310)  \\\n",
       "                                                                                            \n",
       "phenylalanine-tRNA ligase activity (GO:0004826)                                       0.0   \n",
       "6-phosphogluconolactonase activity (GO:0017057)                                       0.0   \n",
       "semaphorin receptor activity (GO:0017154)                                             0.0   \n",
       "7SK snRNA binding (GO:0097322)                                                        0.0   \n",
       "androgen receptor binding (GO:0050681)                                                0.0   \n",
       "\n",
       "                                                 tocopherol omega-hydroxylase activity (GO:0052870)  \\\n",
       "                                                                                                      \n",
       "phenylalanine-tRNA ligase activity (GO:0004826)                                                0.0    \n",
       "6-phosphogluconolactonase activity (GO:0017057)                                                0.0    \n",
       "semaphorin receptor activity (GO:0017154)                                                      0.0    \n",
       "7SK snRNA binding (GO:0097322)                                                                 0.0    \n",
       "androgen receptor binding (GO:0050681)                                                         0.0    \n",
       "\n",
       "                                                 epoxide hydrolase activity (GO:0004301)  \\\n",
       "                                                                                           \n",
       "phenylalanine-tRNA ligase activity (GO:0004826)                                      0.0   \n",
       "6-phosphogluconolactonase activity (GO:0017057)                                      0.0   \n",
       "semaphorin receptor activity (GO:0017154)                                            0.0   \n",
       "7SK snRNA binding (GO:0097322)                                                       0.0   \n",
       "androgen receptor binding (GO:0050681)                                               0.0   \n",
       "\n",
       "                                                 type 1 fibroblast growth factor receptor binding (GO:0005105)  \\\n",
       "                                                                                                                 \n",
       "phenylalanine-tRNA ligase activity (GO:0004826)                                                0.0               \n",
       "6-phosphogluconolactonase activity (GO:0017057)                                                0.0               \n",
       "semaphorin receptor activity (GO:0017154)                                                      0.0               \n",
       "7SK snRNA binding (GO:0097322)                                                                 0.0               \n",
       "androgen receptor binding (GO:0050681)                                                         0.0               \n",
       "\n",
       "                                                 interferon receptor activity (GO:0004904)  \n",
       "                                                                                            \n",
       "phenylalanine-tRNA ligase activity (GO:0004826)                                        0.0  \n",
       "6-phosphogluconolactonase activity (GO:0017057)                                        0.0  \n",
       "semaphorin receptor activity (GO:0017154)                                              0.0  \n",
       "7SK snRNA binding (GO:0097322)                                                         0.0  \n",
       "androgen receptor binding (GO:0050681)                                                 0.0  \n",
       "\n",
       "[5 rows x 3618 columns]"
      ]
     },
     "execution_count": 50,
     "metadata": {},
     "output_type": "execute_result"
    }
   ],
   "source": [
    "attribute_similarity_matix.head()"
   ]
  },
  {
   "cell_type": "markdown",
   "metadata": {},
   "source": [
    "# Save Attribute Similarity Matrix"
   ]
  },
  {
   "cell_type": "code",
   "execution_count": 51,
   "metadata": {
    "collapsed": true
   },
   "outputs": [],
   "source": [
    "filename = '~/./Documents/Harmonizome/GO/output/go_molecular_function_attribute_similarity_matix_%s.tsv.zip'% str(datetime.date.today())[0:7].replace('-', '_')\n",
    "attribute_similarity_matix.to_csv(filename, sep='\\t', compression='gzip')"
   ]
  },
  {
   "cell_type": "markdown",
   "metadata": {},
   "source": [
    "# Create Gene List"
   ]
  },
  {
   "cell_type": "code",
   "execution_count": 52,
   "metadata": {},
   "outputs": [
    {
     "name": "stdout",
     "output_type": "stream",
     "text": [
      "Progeres: 100%  11739 Out of 11739   \r"
     ]
    }
   ],
   "source": [
    "gene_list = uf.createGeneList(binary_matrix)"
   ]
  },
  {
   "cell_type": "code",
   "execution_count": 53,
   "metadata": {},
   "outputs": [
    {
     "data": {
      "text/html": [
       "<div>\n",
       "<style scoped>\n",
       "    .dataframe tbody tr th:only-of-type {\n",
       "        vertical-align: middle;\n",
       "    }\n",
       "\n",
       "    .dataframe tbody tr th {\n",
       "        vertical-align: top;\n",
       "    }\n",
       "\n",
       "    .dataframe thead th {\n",
       "        text-align: right;\n",
       "    }\n",
       "</style>\n",
       "<table border=\"1\" class=\"dataframe\">\n",
       "  <thead>\n",
       "    <tr style=\"text-align: right;\">\n",
       "      <th></th>\n",
       "      <th>GeneSym</th>\n",
       "      <th>GeneID</th>\n",
       "    </tr>\n",
       "  </thead>\n",
       "  <tbody>\n",
       "    <tr>\n",
       "      <th>0</th>\n",
       "      <td>CR2</td>\n",
       "      <td>1380</td>\n",
       "    </tr>\n",
       "    <tr>\n",
       "      <th>1</th>\n",
       "      <td>CHFR</td>\n",
       "      <td>55743</td>\n",
       "    </tr>\n",
       "    <tr>\n",
       "      <th>2</th>\n",
       "      <td>OR8U8</td>\n",
       "      <td>504189</td>\n",
       "    </tr>\n",
       "    <tr>\n",
       "      <th>3</th>\n",
       "      <td>HERC6</td>\n",
       "      <td>55008</td>\n",
       "    </tr>\n",
       "    <tr>\n",
       "      <th>4</th>\n",
       "      <td>LTBP2</td>\n",
       "      <td>4053</td>\n",
       "    </tr>\n",
       "  </tbody>\n",
       "</table>\n",
       "</div>"
      ],
      "text/plain": [
       "  GeneSym  GeneID\n",
       "0     CR2    1380\n",
       "1    CHFR   55743\n",
       "2   OR8U8  504189\n",
       "3   HERC6   55008\n",
       "4   LTBP2    4053"
      ]
     },
     "execution_count": 53,
     "metadata": {},
     "output_type": "execute_result"
    }
   ],
   "source": [
    "gene_list.head()"
   ]
  },
  {
   "cell_type": "code",
   "execution_count": 54,
   "metadata": {},
   "outputs": [
    {
     "data": {
      "text/plain": [
       "(11739, 2)"
      ]
     },
     "execution_count": 54,
     "metadata": {},
     "output_type": "execute_result"
    }
   ],
   "source": [
    "gene_list.shape"
   ]
  },
  {
   "cell_type": "markdown",
   "metadata": {},
   "source": [
    "# Save Gene List"
   ]
  },
  {
   "cell_type": "code",
   "execution_count": 55,
   "metadata": {
    "collapsed": true
   },
   "outputs": [],
   "source": [
    "filename = '~/./Documents/Harmonizome/GO/output/go_molecular_function_gene_list_%s.tsv.zip'% str(datetime.date.today())[0:7].replace('-', '_')\n",
    "gene_list.to_csv(filename, sep='\\t', index=False, compression='gzip')"
   ]
  },
  {
   "cell_type": "markdown",
   "metadata": {},
   "source": [
    "# Create Attribute List "
   ]
  },
  {
   "cell_type": "code",
   "execution_count": 56,
   "metadata": {
    "collapsed": true
   },
   "outputs": [],
   "source": [
    "attribute_list = uf.createAttributeList(binary_matrix)"
   ]
  },
  {
   "cell_type": "code",
   "execution_count": 57,
   "metadata": {},
   "outputs": [
    {
     "data": {
      "text/html": [
       "<div>\n",
       "<style scoped>\n",
       "    .dataframe tbody tr th:only-of-type {\n",
       "        vertical-align: middle;\n",
       "    }\n",
       "\n",
       "    .dataframe tbody tr th {\n",
       "        vertical-align: top;\n",
       "    }\n",
       "\n",
       "    .dataframe thead th {\n",
       "        text-align: right;\n",
       "    }\n",
       "</style>\n",
       "<table border=\"1\" class=\"dataframe\">\n",
       "  <thead>\n",
       "    <tr style=\"text-align: right;\">\n",
       "      <th></th>\n",
       "    </tr>\n",
       "    <tr>\n",
       "      <th>Attributes</th>\n",
       "    </tr>\n",
       "  </thead>\n",
       "  <tbody>\n",
       "    <tr>\n",
       "      <th>phenylalanine-tRNA ligase activity (GO:0004826)</th>\n",
       "    </tr>\n",
       "    <tr>\n",
       "      <th>6-phosphogluconolactonase activity (GO:0017057)</th>\n",
       "    </tr>\n",
       "    <tr>\n",
       "      <th>semaphorin receptor activity (GO:0017154)</th>\n",
       "    </tr>\n",
       "    <tr>\n",
       "      <th>7SK snRNA binding (GO:0097322)</th>\n",
       "    </tr>\n",
       "    <tr>\n",
       "      <th>androgen receptor binding (GO:0050681)</th>\n",
       "    </tr>\n",
       "  </tbody>\n",
       "</table>\n",
       "</div>"
      ],
      "text/plain": [
       "Empty DataFrame\n",
       "Columns: []\n",
       "Index: [phenylalanine-tRNA ligase activity (GO:0004826), 6-phosphogluconolactonase activity (GO:0017057), semaphorin receptor activity (GO:0017154), 7SK snRNA binding (GO:0097322), androgen receptor binding (GO:0050681)]"
      ]
     },
     "execution_count": 57,
     "metadata": {},
     "output_type": "execute_result"
    }
   ],
   "source": [
    "attribute_list.head()"
   ]
  },
  {
   "cell_type": "code",
   "execution_count": 58,
   "metadata": {},
   "outputs": [
    {
     "data": {
      "text/plain": [
       "(3618, 0)"
      ]
     },
     "execution_count": 58,
     "metadata": {},
     "output_type": "execute_result"
    }
   ],
   "source": [
    "attribute_list.shape"
   ]
  },
  {
   "cell_type": "markdown",
   "metadata": {},
   "source": [
    "# Save Attribute List"
   ]
  },
  {
   "cell_type": "code",
   "execution_count": 59,
   "metadata": {
    "collapsed": true
   },
   "outputs": [],
   "source": [
    "filename = '~/./Documents/Harmonizome/GO/output/go_molecular_function_attribute_list_%s.tsv.zip'% str(datetime.date.today())[0:7].replace('-', '_')\n",
    "attribute_list.to_csv(filename, sep='\\t', index=False, compression='gzip')"
   ]
  },
  {
   "cell_type": "markdown",
   "metadata": {},
   "source": [
    "# Create Gene-Attribute Edge List"
   ]
  },
  {
   "cell_type": "code",
   "execution_count": 60,
   "metadata": {
    "collapsed": true
   },
   "outputs": [],
   "source": [
    "path = '/Users/moshesilverstein/Documents/Harmonizome/GO/output/'"
   ]
  },
  {
   "cell_type": "code",
   "execution_count": 61,
   "metadata": {
    "collapsed": true
   },
   "outputs": [],
   "source": [
    "name = 'go_molecular_function_gene_attribute_edge_list'"
   ]
  },
  {
   "cell_type": "code",
   "execution_count": 62,
   "metadata": {},
   "outputs": [
    {
     "name": "stdout",
     "output_type": "stream",
     "text": [
      "Progeres: 100%  3618 Out of 3618   \n",
      "\n",
      " The number of statisticaly relevent gene-attribute associations is: 48304\n"
     ]
    }
   ],
   "source": [
    "uf.createGeneAttributeEdgeList(binary_matrix, attribute_list, gene_list, path, name)"
   ]
  }
 ],
 "metadata": {
  "kernelspec": {
   "display_name": "Python [default]",
   "language": "python",
   "name": "python3"
  },
  "language_info": {
   "codemirror_mode": {
    "name": "ipython",
    "version": 3
   },
   "file_extension": ".py",
   "mimetype": "text/x-python",
   "name": "python",
   "nbconvert_exporter": "python",
   "pygments_lexer": "ipython3",
   "version": "3.5.2"
  }
 },
 "nbformat": 4,
 "nbformat_minor": 2
}
