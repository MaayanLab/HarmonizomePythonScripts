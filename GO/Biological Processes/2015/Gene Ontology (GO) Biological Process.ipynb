{
 "cells": [
  {
   "cell_type": "markdown",
   "metadata": {},
   "source": [
    "# Gene Ontology (GO) Biological Process"
   ]
  },
  {
   "cell_type": "markdown",
   "metadata": {},
   "source": [
    "Author: Moshe Silverstein <br/>\n",
    "Date: 03-2018 <br/>\n",
    "Data Downloaded: 03-2018 <br/>\n",
    "Data Source Home: http://www.geneontology.org/ <br/>\n",
    "Data Source Dowaload: http://www.geneontology.org/page/download-go-annotations"
   ]
  },
  {
   "cell_type": "code",
   "execution_count": 1,
   "metadata": {
    "collapsed": true
   },
   "outputs": [],
   "source": [
    "import sys, datetime\n",
    "import numpy as np\n",
    "import pandas as pd\n",
    "import importlib\n",
    "import untility_functions as uf\n",
    "import goenrich\n",
    "%matplotlib inline"
   ]
  },
  {
   "cell_type": "code",
   "execution_count": 2,
   "metadata": {},
   "outputs": [
    {
     "data": {
      "text/plain": [
       "<module 'untility_functions' from '/Users/moshesilverstein/Documents/Harmonizome/GO/untility_functions.py'>"
      ]
     },
     "execution_count": 2,
     "metadata": {},
     "output_type": "execute_result"
    }
   ],
   "source": [
    "importlib.reload(uf)"
   ]
  },
  {
   "cell_type": "markdown",
   "metadata": {},
   "source": [
    "# Versions Of Modules In Use"
   ]
  },
  {
   "cell_type": "code",
   "execution_count": 3,
   "metadata": {},
   "outputs": [
    {
     "data": {
      "application/json": {
       "Software versions": [
        {
         "module": "Python",
         "version": "3.5.2 64bit [GCC 4.2.1 Compatible Apple LLVM 4.2 (clang-425.0.28)]"
        },
        {
         "module": "IPython",
         "version": "5.3.0"
        },
        {
         "module": "OS",
         "version": "Darwin 17.2.0 x86_64 i386 64bit"
        },
        {
         "module": "numpy",
         "version": "1.13.1"
        },
        {
         "module": "pandas",
         "version": "0.21.0"
        },
        {
         "module": "clustergrammer_widget",
         "version": "1.9.0"
        }
       ]
      },
      "text/html": [
       "<table><tr><th>Software</th><th>Version</th></tr><tr><td>Python</td><td>3.5.2 64bit [GCC 4.2.1 Compatible Apple LLVM 4.2 (clang-425.0.28)]</td></tr><tr><td>IPython</td><td>5.3.0</td></tr><tr><td>OS</td><td>Darwin 17.2.0 x86_64 i386 64bit</td></tr><tr><td>numpy</td><td>1.13.1</td></tr><tr><td>pandas</td><td>0.21.0</td></tr><tr><td>clustergrammer_widget</td><td>1.9.0</td></tr><tr><td colspan='2'>Thu Mar 22 16:55:29 2018 EDT</td></tr></table>"
      ],
      "text/latex": [
       "\\begin{tabular}{|l|l|}\\hline\n",
       "{\\bf Software} & {\\bf Version} \\\\ \\hline\\hline\n",
       "Python & 3.5.2 64bit [GCC 4.2.1 Compatible Apple LLVM 4.2 (clang-425.0.28)] \\\\ \\hline\n",
       "IPython & 5.3.0 \\\\ \\hline\n",
       "OS & Darwin 17.2.0 x86\\_64 i386 64bit \\\\ \\hline\n",
       "numpy & 1.13.1 \\\\ \\hline\n",
       "pandas & 0.21.0 \\\\ \\hline\n",
       "clustergrammer_widget & 1.9.0 \\\\ \\hline\n",
       "\\hline \\multicolumn{2}{|l|}{Thu Mar 22 16:55:29 2018 EDT} \\\\ \\hline\n",
       "\\end{tabular}\n"
      ],
      "text/plain": [
       "Software versions\n",
       "Python 3.5.2 64bit [GCC 4.2.1 Compatible Apple LLVM 4.2 (clang-425.0.28)]\n",
       "IPython 5.3.0\n",
       "OS Darwin 17.2.0 x86_64 i386 64bit\n",
       "numpy 1.13.1\n",
       "pandas 0.21.0\n",
       "clustergrammer_widget 1.9.0\n",
       "Thu Mar 22 16:55:29 2018 EDT"
      ]
     },
     "execution_count": 3,
     "metadata": {},
     "output_type": "execute_result"
    }
   ],
   "source": [
    "%load_ext version_information\n",
    "%version_information numpy, pandas, clustergrammer_widget "
   ]
  },
  {
   "cell_type": "markdown",
   "metadata": {},
   "source": [
    "# Load Data"
   ]
  },
  {
   "cell_type": "markdown",
   "metadata": {},
   "source": [
    "df1 = pd.read_csv('input/goa_human.gaf', sep='~', skiprows=23, header=None, index_col=False)"
   ]
  },
  {
   "cell_type": "code",
   "execution_count": 5,
   "metadata": {},
   "outputs": [
    {
     "data": {
      "text/html": [
       "<div>\n",
       "<style scoped>\n",
       "    .dataframe tbody tr th:only-of-type {\n",
       "        vertical-align: middle;\n",
       "    }\n",
       "\n",
       "    .dataframe tbody tr th {\n",
       "        vertical-align: top;\n",
       "    }\n",
       "\n",
       "    .dataframe thead th {\n",
       "        text-align: right;\n",
       "    }\n",
       "</style>\n",
       "<table border=\"1\" class=\"dataframe\">\n",
       "  <thead>\n",
       "    <tr style=\"text-align: right;\">\n",
       "      <th></th>\n",
       "      <th>0</th>\n",
       "    </tr>\n",
       "  </thead>\n",
       "  <tbody>\n",
       "    <tr>\n",
       "      <th>0</th>\n",
       "      <td>UniProtKB\\tA0A024R161\\tDNAJC25-GNG10\\t\\tGO:000...</td>\n",
       "    </tr>\n",
       "    <tr>\n",
       "      <th>1</th>\n",
       "      <td>UniProtKB\\tA0A024R161\\tDNAJC25-GNG10\\t\\tGO:000...</td>\n",
       "    </tr>\n",
       "    <tr>\n",
       "      <th>2</th>\n",
       "      <td>UniProtKB\\tA0A024R161\\tDNAJC25-GNG10\\t\\tGO:000...</td>\n",
       "    </tr>\n",
       "    <tr>\n",
       "      <th>3</th>\n",
       "      <td>UniProtKB\\tA0A075B6H7\\tIGKV3-7\\t\\tGO:0002377\\t...</td>\n",
       "    </tr>\n",
       "    <tr>\n",
       "      <th>4</th>\n",
       "      <td>UniProtKB\\tA0A075B6H7\\tIGKV3-7\\t\\tGO:0005615\\t...</td>\n",
       "    </tr>\n",
       "  </tbody>\n",
       "</table>\n",
       "</div>"
      ],
      "text/plain": [
       "                                                   0\n",
       "0  UniProtKB\\tA0A024R161\\tDNAJC25-GNG10\\t\\tGO:000...\n",
       "1  UniProtKB\\tA0A024R161\\tDNAJC25-GNG10\\t\\tGO:000...\n",
       "2  UniProtKB\\tA0A024R161\\tDNAJC25-GNG10\\t\\tGO:000...\n",
       "3  UniProtKB\\tA0A075B6H7\\tIGKV3-7\\t\\tGO:0002377\\t...\n",
       "4  UniProtKB\\tA0A075B6H7\\tIGKV3-7\\t\\tGO:0005615\\t..."
      ]
     },
     "execution_count": 5,
     "metadata": {},
     "output_type": "execute_result"
    }
   ],
   "source": [
    "df1.head()"
   ]
  },
  {
   "cell_type": "code",
   "execution_count": 6,
   "metadata": {},
   "outputs": [
    {
     "data": {
      "text/plain": [
       "(496852, 1)"
      ]
     },
     "execution_count": 6,
     "metadata": {},
     "output_type": "execute_result"
    }
   ],
   "source": [
    "df1.shape"
   ]
  },
  {
   "cell_type": "code",
   "execution_count": 7,
   "metadata": {},
   "outputs": [
    {
     "name": "stdout",
     "output_type": "stream",
     "text": [
      "Progress: 99%  495311 Out of 496852   \r"
     ]
    }
   ],
   "source": [
    "# df = pd.DataFrame()\n",
    "\n",
    "matrix = np.chararray((df1.shape[0], 16), itemsize=150, unicode=True)\n",
    "\n",
    "# for i, index in enumerate(df1.index):\n",
    "for i, row in enumerate(df1.itertuples()):\n",
    "    \n",
    "    progressPercent = ((i+1)/len(df1.index))*100\n",
    "\n",
    "    sys.stdout.write(\"Progress: %d%%  %d Out of %d   \\r\" % (progressPercent, (i+1), len(df1.index)))\n",
    "    sys.stdout.flush()\n",
    "    \n",
    "#     lst = df1.loc[index, 0].split('\\t')\n",
    "    lst = row[1].split('\\t')\n",
    "    if len(lst) == 15:\n",
    "        lst.append(np.nan)\n",
    "    matrix[i, :] = lst\n",
    "#     temp = pd.DataFrame(data = lst)\n",
    "#     df = pd.concat([df, temp.T])\n",
    "\n",
    "df = pd.DataFrame(data=matrix)"
   ]
  },
  {
   "cell_type": "code",
   "execution_count": 8,
   "metadata": {},
   "outputs": [
    {
     "data": {
      "text/html": [
       "<div>\n",
       "<style scoped>\n",
       "    .dataframe tbody tr th:only-of-type {\n",
       "        vertical-align: middle;\n",
       "    }\n",
       "\n",
       "    .dataframe tbody tr th {\n",
       "        vertical-align: top;\n",
       "    }\n",
       "\n",
       "    .dataframe thead th {\n",
       "        text-align: right;\n",
       "    }\n",
       "</style>\n",
       "<table border=\"1\" class=\"dataframe\">\n",
       "  <thead>\n",
       "    <tr style=\"text-align: right;\">\n",
       "      <th></th>\n",
       "      <th>0</th>\n",
       "      <th>1</th>\n",
       "      <th>2</th>\n",
       "      <th>3</th>\n",
       "      <th>4</th>\n",
       "      <th>5</th>\n",
       "      <th>6</th>\n",
       "      <th>7</th>\n",
       "      <th>8</th>\n",
       "      <th>9</th>\n",
       "      <th>10</th>\n",
       "      <th>11</th>\n",
       "      <th>12</th>\n",
       "      <th>13</th>\n",
       "      <th>14</th>\n",
       "      <th>15</th>\n",
       "    </tr>\n",
       "  </thead>\n",
       "  <tbody>\n",
       "    <tr>\n",
       "      <th>0</th>\n",
       "      <td>UniProtKB</td>\n",
       "      <td>A0A024R161</td>\n",
       "      <td>DNAJC25-GNG10</td>\n",
       "      <td></td>\n",
       "      <td>GO:0004871</td>\n",
       "      <td>GO_REF:0000038</td>\n",
       "      <td>IEA</td>\n",
       "      <td>UniProtKB-KW:KW-0807</td>\n",
       "      <td>F</td>\n",
       "      <td>Guanine nucleotide-binding protein subunit gamma</td>\n",
       "      <td>A0A024R161_HUMAN|DNAJC25-GNG10|hCG_1994888</td>\n",
       "      <td>protein</td>\n",
       "      <td>taxon:9606</td>\n",
       "      <td>20180224</td>\n",
       "      <td>UniProt</td>\n",
       "      <td>nan</td>\n",
       "    </tr>\n",
       "    <tr>\n",
       "      <th>1</th>\n",
       "      <td>UniProtKB</td>\n",
       "      <td>A0A024R161</td>\n",
       "      <td>DNAJC25-GNG10</td>\n",
       "      <td></td>\n",
       "      <td>GO:0005834</td>\n",
       "      <td>GO_REF:0000002</td>\n",
       "      <td>IEA</td>\n",
       "      <td>InterPro:IPR001770|InterPro:IPR015898|InterPro...</td>\n",
       "      <td>C</td>\n",
       "      <td>Guanine nucleotide-binding protein subunit gamma</td>\n",
       "      <td>A0A024R161_HUMAN|DNAJC25-GNG10|hCG_1994888</td>\n",
       "      <td>protein</td>\n",
       "      <td>taxon:9606</td>\n",
       "      <td>20180224</td>\n",
       "      <td>InterPro</td>\n",
       "      <td>nan</td>\n",
       "    </tr>\n",
       "    <tr>\n",
       "      <th>2</th>\n",
       "      <td>UniProtKB</td>\n",
       "      <td>A0A024R161</td>\n",
       "      <td>DNAJC25-GNG10</td>\n",
       "      <td></td>\n",
       "      <td>GO:0007186</td>\n",
       "      <td>GO_REF:0000002</td>\n",
       "      <td>IEA</td>\n",
       "      <td>InterPro:IPR001770|InterPro:IPR015898|InterPro...</td>\n",
       "      <td>P</td>\n",
       "      <td>Guanine nucleotide-binding protein subunit gamma</td>\n",
       "      <td>A0A024R161_HUMAN|DNAJC25-GNG10|hCG_1994888</td>\n",
       "      <td>protein</td>\n",
       "      <td>taxon:9606</td>\n",
       "      <td>20180224</td>\n",
       "      <td>InterPro</td>\n",
       "      <td>nan</td>\n",
       "    </tr>\n",
       "    <tr>\n",
       "      <th>3</th>\n",
       "      <td>UniProtKB</td>\n",
       "      <td>A0A075B6H7</td>\n",
       "      <td>IGKV3-7</td>\n",
       "      <td></td>\n",
       "      <td>GO:0002377</td>\n",
       "      <td>GO_REF:0000033</td>\n",
       "      <td>IBA</td>\n",
       "      <td>PANTHER:PTN000587099</td>\n",
       "      <td>P</td>\n",
       "      <td>Immunoglobulin kappa variable 3-7 (non-functio...</td>\n",
       "      <td>A0A075B6H7_HUMAN|IGKV3-7</td>\n",
       "      <td>protein</td>\n",
       "      <td>taxon:9606</td>\n",
       "      <td>20150528</td>\n",
       "      <td>GO_Central</td>\n",
       "      <td>nan</td>\n",
       "    </tr>\n",
       "    <tr>\n",
       "      <th>4</th>\n",
       "      <td>UniProtKB</td>\n",
       "      <td>A0A075B6H7</td>\n",
       "      <td>IGKV3-7</td>\n",
       "      <td></td>\n",
       "      <td>GO:0005615</td>\n",
       "      <td>GO_REF:0000033</td>\n",
       "      <td>IBA</td>\n",
       "      <td>PANTHER:PTN000587099</td>\n",
       "      <td>C</td>\n",
       "      <td>Immunoglobulin kappa variable 3-7 (non-functio...</td>\n",
       "      <td>A0A075B6H7_HUMAN|IGKV3-7</td>\n",
       "      <td>protein</td>\n",
       "      <td>taxon:9606</td>\n",
       "      <td>20150528</td>\n",
       "      <td>GO_Central</td>\n",
       "      <td>nan</td>\n",
       "    </tr>\n",
       "  </tbody>\n",
       "</table>\n",
       "</div>"
      ],
      "text/plain": [
       "          0           1              2  3           4               5    6   \\\n",
       "0  UniProtKB  A0A024R161  DNAJC25-GNG10     GO:0004871  GO_REF:0000038  IEA   \n",
       "1  UniProtKB  A0A024R161  DNAJC25-GNG10     GO:0005834  GO_REF:0000002  IEA   \n",
       "2  UniProtKB  A0A024R161  DNAJC25-GNG10     GO:0007186  GO_REF:0000002  IEA   \n",
       "3  UniProtKB  A0A075B6H7        IGKV3-7     GO:0002377  GO_REF:0000033  IBA   \n",
       "4  UniProtKB  A0A075B6H7        IGKV3-7     GO:0005615  GO_REF:0000033  IBA   \n",
       "\n",
       "                                                  7  8   \\\n",
       "0                               UniProtKB-KW:KW-0807  F   \n",
       "1  InterPro:IPR001770|InterPro:IPR015898|InterPro...  C   \n",
       "2  InterPro:IPR001770|InterPro:IPR015898|InterPro...  P   \n",
       "3                               PANTHER:PTN000587099  P   \n",
       "4                               PANTHER:PTN000587099  C   \n",
       "\n",
       "                                                  9   \\\n",
       "0   Guanine nucleotide-binding protein subunit gamma   \n",
       "1   Guanine nucleotide-binding protein subunit gamma   \n",
       "2   Guanine nucleotide-binding protein subunit gamma   \n",
       "3  Immunoglobulin kappa variable 3-7 (non-functio...   \n",
       "4  Immunoglobulin kappa variable 3-7 (non-functio...   \n",
       "\n",
       "                                           10       11          12        13  \\\n",
       "0  A0A024R161_HUMAN|DNAJC25-GNG10|hCG_1994888  protein  taxon:9606  20180224   \n",
       "1  A0A024R161_HUMAN|DNAJC25-GNG10|hCG_1994888  protein  taxon:9606  20180224   \n",
       "2  A0A024R161_HUMAN|DNAJC25-GNG10|hCG_1994888  protein  taxon:9606  20180224   \n",
       "3                    A0A075B6H7_HUMAN|IGKV3-7  protein  taxon:9606  20150528   \n",
       "4                    A0A075B6H7_HUMAN|IGKV3-7  protein  taxon:9606  20150528   \n",
       "\n",
       "           14   15  \n",
       "0     UniProt  nan  \n",
       "1    InterPro  nan  \n",
       "2    InterPro  nan  \n",
       "3  GO_Central  nan  \n",
       "4  GO_Central  nan  "
      ]
     },
     "execution_count": 8,
     "metadata": {},
     "output_type": "execute_result"
    }
   ],
   "source": [
    "df.head()"
   ]
  },
  {
   "cell_type": "code",
   "execution_count": 9,
   "metadata": {},
   "outputs": [
    {
     "data": {
      "text/plain": [
       "(496852, 16)"
      ]
     },
     "execution_count": 9,
     "metadata": {},
     "output_type": "execute_result"
    }
   ],
   "source": [
    "df.shape"
   ]
  },
  {
   "cell_type": "markdown",
   "metadata": {},
   "source": [
    "# Get Relevent Columns and Data"
   ]
  },
  {
   "cell_type": "code",
   "execution_count": 10,
   "metadata": {
    "collapsed": true
   },
   "outputs": [],
   "source": [
    "columns = [\"DB\", \"DB Object ID\", \"DB Object Symbol\", \"Qualifier\", \"GO ID\", \"DB:Reference\", \"Evidence Code\", \n",
    "               \"With (or) From\", \"Aspect\", \"DB Object Name\", \"DB Object Synonym\", \"DB Object Type\", \"Taxon\", \n",
    "               \"Date\", \"Assigned By\", \"Annotation Extension\"]"
   ]
  },
  {
   "cell_type": "code",
   "execution_count": 11,
   "metadata": {},
   "outputs": [],
   "source": [
    "df.columns = columns"
   ]
  },
  {
   "cell_type": "code",
   "execution_count": 12,
   "metadata": {},
   "outputs": [
    {
     "data": {
      "text/html": [
       "<div>\n",
       "<style scoped>\n",
       "    .dataframe tbody tr th:only-of-type {\n",
       "        vertical-align: middle;\n",
       "    }\n",
       "\n",
       "    .dataframe tbody tr th {\n",
       "        vertical-align: top;\n",
       "    }\n",
       "\n",
       "    .dataframe thead th {\n",
       "        text-align: right;\n",
       "    }\n",
       "</style>\n",
       "<table border=\"1\" class=\"dataframe\">\n",
       "  <thead>\n",
       "    <tr style=\"text-align: right;\">\n",
       "      <th></th>\n",
       "      <th>DB</th>\n",
       "      <th>DB Object ID</th>\n",
       "      <th>DB Object Symbol</th>\n",
       "      <th>Qualifier</th>\n",
       "      <th>GO ID</th>\n",
       "      <th>DB:Reference</th>\n",
       "      <th>Evidence Code</th>\n",
       "      <th>With (or) From</th>\n",
       "      <th>Aspect</th>\n",
       "      <th>DB Object Name</th>\n",
       "      <th>DB Object Synonym</th>\n",
       "      <th>DB Object Type</th>\n",
       "      <th>Taxon</th>\n",
       "      <th>Date</th>\n",
       "      <th>Assigned By</th>\n",
       "      <th>Annotation Extension</th>\n",
       "    </tr>\n",
       "  </thead>\n",
       "  <tbody>\n",
       "    <tr>\n",
       "      <th>0</th>\n",
       "      <td>UniProtKB</td>\n",
       "      <td>A0A024R161</td>\n",
       "      <td>DNAJC25-GNG10</td>\n",
       "      <td></td>\n",
       "      <td>GO:0004871</td>\n",
       "      <td>GO_REF:0000038</td>\n",
       "      <td>IEA</td>\n",
       "      <td>UniProtKB-KW:KW-0807</td>\n",
       "      <td>F</td>\n",
       "      <td>Guanine nucleotide-binding protein subunit gamma</td>\n",
       "      <td>A0A024R161_HUMAN|DNAJC25-GNG10|hCG_1994888</td>\n",
       "      <td>protein</td>\n",
       "      <td>taxon:9606</td>\n",
       "      <td>20180224</td>\n",
       "      <td>UniProt</td>\n",
       "      <td>nan</td>\n",
       "    </tr>\n",
       "    <tr>\n",
       "      <th>1</th>\n",
       "      <td>UniProtKB</td>\n",
       "      <td>A0A024R161</td>\n",
       "      <td>DNAJC25-GNG10</td>\n",
       "      <td></td>\n",
       "      <td>GO:0005834</td>\n",
       "      <td>GO_REF:0000002</td>\n",
       "      <td>IEA</td>\n",
       "      <td>InterPro:IPR001770|InterPro:IPR015898|InterPro...</td>\n",
       "      <td>C</td>\n",
       "      <td>Guanine nucleotide-binding protein subunit gamma</td>\n",
       "      <td>A0A024R161_HUMAN|DNAJC25-GNG10|hCG_1994888</td>\n",
       "      <td>protein</td>\n",
       "      <td>taxon:9606</td>\n",
       "      <td>20180224</td>\n",
       "      <td>InterPro</td>\n",
       "      <td>nan</td>\n",
       "    </tr>\n",
       "    <tr>\n",
       "      <th>2</th>\n",
       "      <td>UniProtKB</td>\n",
       "      <td>A0A024R161</td>\n",
       "      <td>DNAJC25-GNG10</td>\n",
       "      <td></td>\n",
       "      <td>GO:0007186</td>\n",
       "      <td>GO_REF:0000002</td>\n",
       "      <td>IEA</td>\n",
       "      <td>InterPro:IPR001770|InterPro:IPR015898|InterPro...</td>\n",
       "      <td>P</td>\n",
       "      <td>Guanine nucleotide-binding protein subunit gamma</td>\n",
       "      <td>A0A024R161_HUMAN|DNAJC25-GNG10|hCG_1994888</td>\n",
       "      <td>protein</td>\n",
       "      <td>taxon:9606</td>\n",
       "      <td>20180224</td>\n",
       "      <td>InterPro</td>\n",
       "      <td>nan</td>\n",
       "    </tr>\n",
       "    <tr>\n",
       "      <th>3</th>\n",
       "      <td>UniProtKB</td>\n",
       "      <td>A0A075B6H7</td>\n",
       "      <td>IGKV3-7</td>\n",
       "      <td></td>\n",
       "      <td>GO:0002377</td>\n",
       "      <td>GO_REF:0000033</td>\n",
       "      <td>IBA</td>\n",
       "      <td>PANTHER:PTN000587099</td>\n",
       "      <td>P</td>\n",
       "      <td>Immunoglobulin kappa variable 3-7 (non-functio...</td>\n",
       "      <td>A0A075B6H7_HUMAN|IGKV3-7</td>\n",
       "      <td>protein</td>\n",
       "      <td>taxon:9606</td>\n",
       "      <td>20150528</td>\n",
       "      <td>GO_Central</td>\n",
       "      <td>nan</td>\n",
       "    </tr>\n",
       "    <tr>\n",
       "      <th>4</th>\n",
       "      <td>UniProtKB</td>\n",
       "      <td>A0A075B6H7</td>\n",
       "      <td>IGKV3-7</td>\n",
       "      <td></td>\n",
       "      <td>GO:0005615</td>\n",
       "      <td>GO_REF:0000033</td>\n",
       "      <td>IBA</td>\n",
       "      <td>PANTHER:PTN000587099</td>\n",
       "      <td>C</td>\n",
       "      <td>Immunoglobulin kappa variable 3-7 (non-functio...</td>\n",
       "      <td>A0A075B6H7_HUMAN|IGKV3-7</td>\n",
       "      <td>protein</td>\n",
       "      <td>taxon:9606</td>\n",
       "      <td>20150528</td>\n",
       "      <td>GO_Central</td>\n",
       "      <td>nan</td>\n",
       "    </tr>\n",
       "  </tbody>\n",
       "</table>\n",
       "</div>"
      ],
      "text/plain": [
       "          DB DB Object ID DB Object Symbol Qualifier       GO ID  \\\n",
       "0  UniProtKB   A0A024R161    DNAJC25-GNG10            GO:0004871   \n",
       "1  UniProtKB   A0A024R161    DNAJC25-GNG10            GO:0005834   \n",
       "2  UniProtKB   A0A024R161    DNAJC25-GNG10            GO:0007186   \n",
       "3  UniProtKB   A0A075B6H7          IGKV3-7            GO:0002377   \n",
       "4  UniProtKB   A0A075B6H7          IGKV3-7            GO:0005615   \n",
       "\n",
       "     DB:Reference Evidence Code  \\\n",
       "0  GO_REF:0000038           IEA   \n",
       "1  GO_REF:0000002           IEA   \n",
       "2  GO_REF:0000002           IEA   \n",
       "3  GO_REF:0000033           IBA   \n",
       "4  GO_REF:0000033           IBA   \n",
       "\n",
       "                                      With (or) From Aspect  \\\n",
       "0                               UniProtKB-KW:KW-0807      F   \n",
       "1  InterPro:IPR001770|InterPro:IPR015898|InterPro...      C   \n",
       "2  InterPro:IPR001770|InterPro:IPR015898|InterPro...      P   \n",
       "3                               PANTHER:PTN000587099      P   \n",
       "4                               PANTHER:PTN000587099      C   \n",
       "\n",
       "                                      DB Object Name  \\\n",
       "0   Guanine nucleotide-binding protein subunit gamma   \n",
       "1   Guanine nucleotide-binding protein subunit gamma   \n",
       "2   Guanine nucleotide-binding protein subunit gamma   \n",
       "3  Immunoglobulin kappa variable 3-7 (non-functio...   \n",
       "4  Immunoglobulin kappa variable 3-7 (non-functio...   \n",
       "\n",
       "                            DB Object Synonym DB Object Type       Taxon  \\\n",
       "0  A0A024R161_HUMAN|DNAJC25-GNG10|hCG_1994888        protein  taxon:9606   \n",
       "1  A0A024R161_HUMAN|DNAJC25-GNG10|hCG_1994888        protein  taxon:9606   \n",
       "2  A0A024R161_HUMAN|DNAJC25-GNG10|hCG_1994888        protein  taxon:9606   \n",
       "3                    A0A075B6H7_HUMAN|IGKV3-7        protein  taxon:9606   \n",
       "4                    A0A075B6H7_HUMAN|IGKV3-7        protein  taxon:9606   \n",
       "\n",
       "       Date Assigned By Annotation Extension  \n",
       "0  20180224     UniProt                  nan  \n",
       "1  20180224    InterPro                  nan  \n",
       "2  20180224    InterPro                  nan  \n",
       "3  20150528  GO_Central                  nan  \n",
       "4  20150528  GO_Central                  nan  "
      ]
     },
     "execution_count": 12,
     "metadata": {},
     "output_type": "execute_result"
    }
   ],
   "source": [
    "df.head()"
   ]
  },
  {
   "cell_type": "markdown",
   "metadata": {},
   "source": [
    "#### Get Only Biological Process Data"
   ]
  },
  {
   "cell_type": "code",
   "execution_count": 13,
   "metadata": {
    "collapsed": true
   },
   "outputs": [],
   "source": [
    "df = df[df['Aspect']=='P'].copy()"
   ]
  },
  {
   "cell_type": "markdown",
   "metadata": {},
   "source": [
    "#### Drop All Data That Is Inferred from Electronic Annotation"
   ]
  },
  {
   "cell_type": "code",
   "execution_count": 14,
   "metadata": {
    "collapsed": true
   },
   "outputs": [],
   "source": [
    "df = df[~df['Evidence Code'].isin(['IEA'])]"
   ]
  },
  {
   "cell_type": "markdown",
   "metadata": {},
   "source": [
    "#### Drop All 'Non' in Qualifier "
   ]
  },
  {
   "cell_type": "code",
   "execution_count": 15,
   "metadata": {
    "collapsed": true
   },
   "outputs": [],
   "source": [
    "df = df[~df['Qualifier'].isin(['NOT'])]"
   ]
  },
  {
   "cell_type": "code",
   "execution_count": 16,
   "metadata": {
    "collapsed": true
   },
   "outputs": [],
   "source": [
    "df = df[['DB Object Symbol', 'GO ID']]"
   ]
  },
  {
   "cell_type": "code",
   "execution_count": 17,
   "metadata": {
    "collapsed": true
   },
   "outputs": [],
   "source": [
    "df.reset_index(inplace=True)"
   ]
  },
  {
   "cell_type": "code",
   "execution_count": 18,
   "metadata": {
    "collapsed": true
   },
   "outputs": [],
   "source": [
    "df.drop('index', axis=1, inplace=True)"
   ]
  },
  {
   "cell_type": "code",
   "execution_count": 19,
   "metadata": {},
   "outputs": [
    {
     "data": {
      "text/html": [
       "<div>\n",
       "<style scoped>\n",
       "    .dataframe tbody tr th:only-of-type {\n",
       "        vertical-align: middle;\n",
       "    }\n",
       "\n",
       "    .dataframe tbody tr th {\n",
       "        vertical-align: top;\n",
       "    }\n",
       "\n",
       "    .dataframe thead th {\n",
       "        text-align: right;\n",
       "    }\n",
       "</style>\n",
       "<table border=\"1\" class=\"dataframe\">\n",
       "  <thead>\n",
       "    <tr style=\"text-align: right;\">\n",
       "      <th></th>\n",
       "      <th>DB Object Symbol</th>\n",
       "      <th>GO ID</th>\n",
       "    </tr>\n",
       "  </thead>\n",
       "  <tbody>\n",
       "    <tr>\n",
       "      <th>0</th>\n",
       "      <td>IGKV3-7</td>\n",
       "      <td>GO:0002377</td>\n",
       "    </tr>\n",
       "    <tr>\n",
       "      <th>1</th>\n",
       "      <td>IGKV3-7</td>\n",
       "      <td>GO:0006955</td>\n",
       "    </tr>\n",
       "    <tr>\n",
       "      <th>2</th>\n",
       "      <td>IGKV1D-42</td>\n",
       "      <td>GO:0002377</td>\n",
       "    </tr>\n",
       "    <tr>\n",
       "      <th>3</th>\n",
       "      <td>IGKV1D-42</td>\n",
       "      <td>GO:0006955</td>\n",
       "    </tr>\n",
       "    <tr>\n",
       "      <th>4</th>\n",
       "      <td>IGLV4-69</td>\n",
       "      <td>GO:0002377</td>\n",
       "    </tr>\n",
       "  </tbody>\n",
       "</table>\n",
       "</div>"
      ],
      "text/plain": [
       "  DB Object Symbol       GO ID\n",
       "0          IGKV3-7  GO:0002377\n",
       "1          IGKV3-7  GO:0006955\n",
       "2        IGKV1D-42  GO:0002377\n",
       "3        IGKV1D-42  GO:0006955\n",
       "4         IGLV4-69  GO:0002377"
      ]
     },
     "execution_count": 19,
     "metadata": {},
     "output_type": "execute_result"
    }
   ],
   "source": [
    "df.head()"
   ]
  },
  {
   "cell_type": "code",
   "execution_count": 20,
   "metadata": {},
   "outputs": [
    {
     "data": {
      "text/plain": [
       "(120944, 2)"
      ]
     },
     "execution_count": 20,
     "metadata": {},
     "output_type": "execute_result"
    }
   ],
   "source": [
    "df.shape"
   ]
  },
  {
   "cell_type": "markdown",
   "metadata": {},
   "source": [
    "# Load Gene Ontology Tree Digraph"
   ]
  },
  {
   "cell_type": "code",
   "execution_count": 21,
   "metadata": {
    "collapsed": true
   },
   "outputs": [],
   "source": [
    "digraph = goenrich.obo.ontology('input/go-basic.ob')"
   ]
  },
  {
   "cell_type": "markdown",
   "metadata": {},
   "source": [
    "# Keep Only Terms With a Tree Depth of 4 or Greater"
   ]
  },
  {
   "cell_type": "code",
   "execution_count": 22,
   "metadata": {},
   "outputs": [
    {
     "name": "stdout",
     "output_type": "stream",
     "text": [
      "Progress: 99%  120638 Out of 120944   \r"
     ]
    }
   ],
   "source": [
    "lst = []\n",
    "\n",
    "for i,index in enumerate(df.index):\n",
    "    \n",
    "    progressPercent = ((i+1)/len(df.index))*100\n",
    "\n",
    "    sys.stdout.write(\"Progress: %d%%  %d Out of %d   \\r\" % (progressPercent, (i+1), len(df.index)))\n",
    "    sys.stdout.flush()\n",
    "    \n",
    "    term = df.loc[index, 'GO ID']\n",
    "    if term in digraph.node:\n",
    "        if digraph.node[term]['depth'] >= 4:\n",
    "            lst.append(term)\n",
    "        else:\n",
    "            lst.append(np.nan)\n",
    "    else:\n",
    "        lst.append(np.nan)\n",
    "\n",
    "df['GO ID'] = lst"
   ]
  },
  {
   "cell_type": "code",
   "execution_count": 23,
   "metadata": {},
   "outputs": [],
   "source": [
    "df.shape"
   ]
  },
  {
   "cell_type": "code",
   "execution_count": 24,
   "metadata": {
    "collapsed": true
   },
   "outputs": [],
   "source": [
    "df.dropna(inplace=True)"
   ]
  },
  {
   "cell_type": "code",
   "execution_count": 25,
   "metadata": {},
   "outputs": [],
   "source": [
    "df.shape"
   ]
  },
  {
   "cell_type": "code",
   "execution_count": 26,
   "metadata": {},
   "outputs": [],
   "source": [
    "df.head()"
   ]
  },
  {
   "cell_type": "markdown",
   "metadata": {},
   "source": [
    "# Term Propagation-propergate child gene term relationships to parent terms"
   ]
  },
  {
   "cell_type": "code",
   "execution_count": 27,
   "metadata": {},
   "outputs": [],
   "source": [
    "lst1 = []\n",
    "lst2 = []\n",
    "\n",
    "for i,index in enumerate(df.index):\n",
    "    \n",
    "#     progressPercent = ((i+1)/len(df.index))*100\n",
    "\n",
    "#     sys.stdout.write(\"Progress: %d%%  %d Out of %d   \\r\" % (progressPercent, (i+1), len(df.index)))\n",
    "#     sys.stdout.flush()\n",
    "    \n",
    "#     term = df.loc[index, 'GO ID']\n",
    "#     for parent in digraph.predecessors(term):\n",
    "#         if parent in digraph.node:\n",
    "#             if digraph.node[parent]['depth'] >= 4:\n",
    "#                 lst1.append(df.loc[index, 'DB Object Symbol'])\n",
    "#                 lst2.append(parent)\n",
    "#                 print(term, parent)\n",
    "    term = df.loc[index, 'GO ID']\n",
    "    for parent in digraph.successors(term):\n",
    "        if parent in digraph.node:\n",
    "            if digraph.node[parent]['depth'] >= 4:\n",
    "                lst1.append(df.loc[index, 'DB Object Symbol'])\n",
    "                lst2.append(parent)\n",
    "#                 print(term, parent)\n",
    "\n",
    "\n",
    "temp = pd.DataFrame()\n",
    "temp['DB Object Symbol'] = lst1\n",
    "temp['GO ID']  = lst2\n",
    "df = pd.concat([df, temp])\n",
    "df.reset_index(inplace=True)\n",
    "df.drop('index', axis=1, inplace=True)"
   ]
  },
  {
   "cell_type": "code",
   "execution_count": 28,
   "metadata": {},
   "outputs": [
    {
     "data": {
      "text/plain": [
       "(272303, 2)"
      ]
     },
     "execution_count": 28,
     "metadata": {},
     "output_type": "execute_result"
    }
   ],
   "source": [
    "df.shape"
   ]
  },
  {
   "cell_type": "markdown",
   "metadata": {},
   "source": [
    "# Map GO ID to Descriptive Name "
   ]
  },
  {
   "cell_type": "code",
   "execution_count": 29,
   "metadata": {},
   "outputs": [
    {
     "name": "stdout",
     "output_type": "stream",
     "text": [
      "Progress: 0%  167 Out of 272303   \r"
     ]
    },
    {
     "name": "stderr",
     "output_type": "stream",
     "text": [
      "/Users/moshesilverstein/anaconda/lib/python3.5/site-packages/ipykernel/__main__.py:10: DeprecationWarning: \n",
      ".ix is deprecated. Please use\n",
      ".loc for label based indexing or\n",
      ".iloc for positional indexing\n",
      "\n",
      "See the documentation here:\n",
      "http://pandas.pydata.org/pandas-docs/stable/indexing.html#ix-indexer-is-deprecated\n"
     ]
    },
    {
     "name": "stdout",
     "output_type": "stream",
     "text": [
      "Progress: 100%  272303 Out of 272303   \r"
     ]
    }
   ],
   "source": [
    "lst = []\n",
    "\n",
    "for i,index in enumerate(df.index):\n",
    "    \n",
    "    progressPercent = ((i+1)/len(df.index))*100\n",
    "\n",
    "    sys.stdout.write(\"Progress: %d%%  %d Out of %d   \\r\" % (progressPercent, (i+1), len(df.index)))\n",
    "    sys.stdout.flush()\n",
    "    \n",
    "    lst.append(str(digraph.node[df.ix[index, 'GO ID']]['name'])+' '+ '('+str(df.loc[index, 'GO ID'])+')')\n",
    "    \n",
    "df['GO ID'] = lst"
   ]
  },
  {
   "cell_type": "code",
   "execution_count": 30,
   "metadata": {},
   "outputs": [
    {
     "data": {
      "text/html": [
       "<div>\n",
       "<style scoped>\n",
       "    .dataframe tbody tr th:only-of-type {\n",
       "        vertical-align: middle;\n",
       "    }\n",
       "\n",
       "    .dataframe tbody tr th {\n",
       "        vertical-align: top;\n",
       "    }\n",
       "\n",
       "    .dataframe thead th {\n",
       "        text-align: right;\n",
       "    }\n",
       "</style>\n",
       "<table border=\"1\" class=\"dataframe\">\n",
       "  <thead>\n",
       "    <tr style=\"text-align: right;\">\n",
       "      <th></th>\n",
       "      <th>DB Object Symbol</th>\n",
       "      <th>GO ID</th>\n",
       "    </tr>\n",
       "  </thead>\n",
       "  <tbody>\n",
       "    <tr>\n",
       "      <th>0</th>\n",
       "      <td>IGKV2-28</td>\n",
       "      <td>receptor-mediated endocytosis (GO:0006898)</td>\n",
       "    </tr>\n",
       "    <tr>\n",
       "      <th>1</th>\n",
       "      <td>IGKV2-28</td>\n",
       "      <td>complement activation, classical pathway (GO:0...</td>\n",
       "    </tr>\n",
       "    <tr>\n",
       "      <th>2</th>\n",
       "      <td>IGKV2-28</td>\n",
       "      <td>regulation of complement activation (GO:0030449)</td>\n",
       "    </tr>\n",
       "    <tr>\n",
       "      <th>3</th>\n",
       "      <td>IGKV2-28</td>\n",
       "      <td>Fc-epsilon receptor signaling pathway (GO:0038...</td>\n",
       "    </tr>\n",
       "    <tr>\n",
       "      <th>4</th>\n",
       "      <td>IGKV2-28</td>\n",
       "      <td>Fc-gamma receptor signaling pathway involved i...</td>\n",
       "    </tr>\n",
       "  </tbody>\n",
       "</table>\n",
       "</div>"
      ],
      "text/plain": [
       "  DB Object Symbol                                              GO ID\n",
       "0         IGKV2-28         receptor-mediated endocytosis (GO:0006898)\n",
       "1         IGKV2-28  complement activation, classical pathway (GO:0...\n",
       "2         IGKV2-28   regulation of complement activation (GO:0030449)\n",
       "3         IGKV2-28  Fc-epsilon receptor signaling pathway (GO:0038...\n",
       "4         IGKV2-28  Fc-gamma receptor signaling pathway involved i..."
      ]
     },
     "execution_count": 30,
     "metadata": {},
     "output_type": "execute_result"
    }
   ],
   "source": [
    "df.head()"
   ]
  },
  {
   "cell_type": "markdown",
   "metadata": {},
   "source": [
    "# Map Gene Symbols To Up-to-date Approved Gene Symbols"
   ]
  },
  {
   "cell_type": "code",
   "execution_count": 31,
   "metadata": {
    "collapsed": true
   },
   "outputs": [],
   "source": [
    "df.set_index('DB Object Symbol', inplace=True)"
   ]
  },
  {
   "cell_type": "code",
   "execution_count": 32,
   "metadata": {},
   "outputs": [
    {
     "name": "stdout",
     "output_type": "stream",
     "text": [
      "Progeres: 99%  272264 Out of 272303   \r"
     ]
    }
   ],
   "source": [
    "uf.mapgenesymbols(df)"
   ]
  },
  {
   "cell_type": "code",
   "execution_count": 33,
   "metadata": {},
   "outputs": [],
   "source": [
    "df.shape"
   ]
  },
  {
   "cell_type": "markdown",
   "metadata": {},
   "source": [
    "# Drop Duplicates"
   ]
  },
  {
   "cell_type": "code",
   "execution_count": 34,
   "metadata": {
    "collapsed": true
   },
   "outputs": [],
   "source": [
    "df.reset_index(inplace=True)"
   ]
  },
  {
   "cell_type": "code",
   "execution_count": 35,
   "metadata": {
    "collapsed": true
   },
   "outputs": [],
   "source": [
    "df.drop_duplicates(inplace=True)"
   ]
  },
  {
   "cell_type": "code",
   "execution_count": 36,
   "metadata": {},
   "outputs": [],
   "source": [
    "df.shape"
   ]
  },
  {
   "cell_type": "markdown",
   "metadata": {},
   "source": [
    "# Create Binary Matrix"
   ]
  },
  {
   "cell_type": "code",
   "execution_count": 37,
   "metadata": {},
   "outputs": [
    {
     "name": "stdout",
     "output_type": "stream",
     "text": [
      "Progeres: 100%  14481 Out of 14481   \r"
     ]
    }
   ],
   "source": [
    "binary_matrix = uf.createBinaryMatrix(df)"
   ]
  },
  {
   "cell_type": "code",
   "execution_count": 38,
   "metadata": {},
   "outputs": [
    {
     "data": {
      "text/html": [
       "<div>\n",
       "<style scoped>\n",
       "    .dataframe tbody tr th:only-of-type {\n",
       "        vertical-align: middle;\n",
       "    }\n",
       "\n",
       "    .dataframe tbody tr th {\n",
       "        vertical-align: top;\n",
       "    }\n",
       "\n",
       "    .dataframe thead th {\n",
       "        text-align: right;\n",
       "    }\n",
       "</style>\n",
       "<table border=\"1\" class=\"dataframe\">\n",
       "  <thead>\n",
       "    <tr style=\"text-align: right;\">\n",
       "      <th></th>\n",
       "      <th>G-protein coupled receptor internalization (GO:0002031)</th>\n",
       "      <th>positive regulation of posttranscriptional gene silencing (GO:0060148)</th>\n",
       "      <th>regulation of cell cycle process (GO:0010564)</th>\n",
       "      <th>angiotensin-activated signaling pathway (GO:0038166)</th>\n",
       "      <th>cell chemotaxis to vascular endothelial growth factor (GO:0090667)</th>\n",
       "      <th>DNA-templated transcription, termination (GO:0006353)</th>\n",
       "      <th>cell projection morphogenesis (GO:0048858)</th>\n",
       "      <th>negative regulation of autophagy of mitochondrion (GO:1903147)</th>\n",
       "      <th>regulation of protein sumoylation (GO:0033233)</th>\n",
       "      <th>regulation of cellular response to stress (GO:0080135)</th>\n",
       "      <th>...</th>\n",
       "      <th>isoquinoline alkaloid metabolic process (GO:0033076)</th>\n",
       "      <th>nicotinamide riboside metabolic process (GO:0046495)</th>\n",
       "      <th>chemokine biosynthetic process (GO:0042033)</th>\n",
       "      <th>positive regulation of vascular associated smooth muscle cell apoptotic process (GO:1905461)</th>\n",
       "      <th>positive regulation of metanephric cap mesenchymal cell proliferation (GO:0090096)</th>\n",
       "      <th>tRNA modification (GO:0006400)</th>\n",
       "      <th>siderophore biosynthetic process (GO:0019290)</th>\n",
       "      <th>melanosome assembly (GO:1903232)</th>\n",
       "      <th>positive regulation of neurotrophin TRK receptor signaling pathway (GO:0051388)</th>\n",
       "      <th>Wnt signalosome assembly (GO:1904887)</th>\n",
       "    </tr>\n",
       "  </thead>\n",
       "  <tbody>\n",
       "    <tr>\n",
       "      <th>DDX11</th>\n",
       "      <td>0</td>\n",
       "      <td>0</td>\n",
       "      <td>0</td>\n",
       "      <td>0</td>\n",
       "      <td>0</td>\n",
       "      <td>0</td>\n",
       "      <td>0</td>\n",
       "      <td>0</td>\n",
       "      <td>0</td>\n",
       "      <td>0</td>\n",
       "      <td>...</td>\n",
       "      <td>0</td>\n",
       "      <td>0</td>\n",
       "      <td>0</td>\n",
       "      <td>0</td>\n",
       "      <td>0</td>\n",
       "      <td>0</td>\n",
       "      <td>0</td>\n",
       "      <td>0</td>\n",
       "      <td>0</td>\n",
       "      <td>0</td>\n",
       "    </tr>\n",
       "    <tr>\n",
       "      <th>XBP1</th>\n",
       "      <td>0</td>\n",
       "      <td>0</td>\n",
       "      <td>0</td>\n",
       "      <td>0</td>\n",
       "      <td>0</td>\n",
       "      <td>0</td>\n",
       "      <td>0</td>\n",
       "      <td>0</td>\n",
       "      <td>0</td>\n",
       "      <td>0</td>\n",
       "      <td>...</td>\n",
       "      <td>0</td>\n",
       "      <td>0</td>\n",
       "      <td>0</td>\n",
       "      <td>0</td>\n",
       "      <td>0</td>\n",
       "      <td>0</td>\n",
       "      <td>0</td>\n",
       "      <td>0</td>\n",
       "      <td>0</td>\n",
       "      <td>0</td>\n",
       "    </tr>\n",
       "    <tr>\n",
       "      <th>AHSP</th>\n",
       "      <td>0</td>\n",
       "      <td>0</td>\n",
       "      <td>0</td>\n",
       "      <td>0</td>\n",
       "      <td>0</td>\n",
       "      <td>0</td>\n",
       "      <td>0</td>\n",
       "      <td>0</td>\n",
       "      <td>0</td>\n",
       "      <td>0</td>\n",
       "      <td>...</td>\n",
       "      <td>0</td>\n",
       "      <td>0</td>\n",
       "      <td>0</td>\n",
       "      <td>0</td>\n",
       "      <td>0</td>\n",
       "      <td>0</td>\n",
       "      <td>0</td>\n",
       "      <td>0</td>\n",
       "      <td>0</td>\n",
       "      <td>0</td>\n",
       "    </tr>\n",
       "    <tr>\n",
       "      <th>GTF3C3</th>\n",
       "      <td>0</td>\n",
       "      <td>0</td>\n",
       "      <td>0</td>\n",
       "      <td>0</td>\n",
       "      <td>0</td>\n",
       "      <td>0</td>\n",
       "      <td>0</td>\n",
       "      <td>0</td>\n",
       "      <td>0</td>\n",
       "      <td>0</td>\n",
       "      <td>...</td>\n",
       "      <td>0</td>\n",
       "      <td>0</td>\n",
       "      <td>0</td>\n",
       "      <td>0</td>\n",
       "      <td>0</td>\n",
       "      <td>0</td>\n",
       "      <td>0</td>\n",
       "      <td>0</td>\n",
       "      <td>0</td>\n",
       "      <td>0</td>\n",
       "    </tr>\n",
       "    <tr>\n",
       "      <th>PDE8B</th>\n",
       "      <td>0</td>\n",
       "      <td>0</td>\n",
       "      <td>0</td>\n",
       "      <td>0</td>\n",
       "      <td>0</td>\n",
       "      <td>0</td>\n",
       "      <td>0</td>\n",
       "      <td>0</td>\n",
       "      <td>0</td>\n",
       "      <td>0</td>\n",
       "      <td>...</td>\n",
       "      <td>0</td>\n",
       "      <td>0</td>\n",
       "      <td>0</td>\n",
       "      <td>0</td>\n",
       "      <td>0</td>\n",
       "      <td>0</td>\n",
       "      <td>0</td>\n",
       "      <td>0</td>\n",
       "      <td>0</td>\n",
       "      <td>0</td>\n",
       "    </tr>\n",
       "  </tbody>\n",
       "</table>\n",
       "<p>5 rows × 11947 columns</p>\n",
       "</div>"
      ],
      "text/plain": [
       "        G-protein coupled receptor internalization (GO:0002031)  \\\n",
       "DDX11                                                   0         \n",
       "XBP1                                                    0         \n",
       "AHSP                                                    0         \n",
       "GTF3C3                                                  0         \n",
       "PDE8B                                                   0         \n",
       "\n",
       "        positive regulation of posttranscriptional gene silencing (GO:0060148)  \\\n",
       "DDX11                                                   0                        \n",
       "XBP1                                                    0                        \n",
       "AHSP                                                    0                        \n",
       "GTF3C3                                                  0                        \n",
       "PDE8B                                                   0                        \n",
       "\n",
       "        regulation of cell cycle process (GO:0010564)  \\\n",
       "DDX11                                               0   \n",
       "XBP1                                                0   \n",
       "AHSP                                                0   \n",
       "GTF3C3                                              0   \n",
       "PDE8B                                               0   \n",
       "\n",
       "        angiotensin-activated signaling pathway (GO:0038166)  \\\n",
       "DDX11                                                   0      \n",
       "XBP1                                                    0      \n",
       "AHSP                                                    0      \n",
       "GTF3C3                                                  0      \n",
       "PDE8B                                                   0      \n",
       "\n",
       "        cell chemotaxis to vascular endothelial growth factor (GO:0090667)  \\\n",
       "DDX11                                                   0                    \n",
       "XBP1                                                    0                    \n",
       "AHSP                                                    0                    \n",
       "GTF3C3                                                  0                    \n",
       "PDE8B                                                   0                    \n",
       "\n",
       "        DNA-templated transcription, termination (GO:0006353)  \\\n",
       "DDX11                                                   0       \n",
       "XBP1                                                    0       \n",
       "AHSP                                                    0       \n",
       "GTF3C3                                                  0       \n",
       "PDE8B                                                   0       \n",
       "\n",
       "        cell projection morphogenesis (GO:0048858)  \\\n",
       "DDX11                                            0   \n",
       "XBP1                                             0   \n",
       "AHSP                                             0   \n",
       "GTF3C3                                           0   \n",
       "PDE8B                                            0   \n",
       "\n",
       "        negative regulation of autophagy of mitochondrion (GO:1903147)  \\\n",
       "DDX11                                                   0                \n",
       "XBP1                                                    0                \n",
       "AHSP                                                    0                \n",
       "GTF3C3                                                  0                \n",
       "PDE8B                                                   0                \n",
       "\n",
       "        regulation of protein sumoylation (GO:0033233)  \\\n",
       "DDX11                                                0   \n",
       "XBP1                                                 0   \n",
       "AHSP                                                 0   \n",
       "GTF3C3                                               0   \n",
       "PDE8B                                                0   \n",
       "\n",
       "        regulation of cellular response to stress (GO:0080135)  \\\n",
       "DDX11                                                   0        \n",
       "XBP1                                                    0        \n",
       "AHSP                                                    0        \n",
       "GTF3C3                                                  0        \n",
       "PDE8B                                                   0        \n",
       "\n",
       "                        ...                    \\\n",
       "DDX11                   ...                     \n",
       "XBP1                    ...                     \n",
       "AHSP                    ...                     \n",
       "GTF3C3                  ...                     \n",
       "PDE8B                   ...                     \n",
       "\n",
       "        isoquinoline alkaloid metabolic process (GO:0033076)  \\\n",
       "DDX11                                                   0      \n",
       "XBP1                                                    0      \n",
       "AHSP                                                    0      \n",
       "GTF3C3                                                  0      \n",
       "PDE8B                                                   0      \n",
       "\n",
       "        nicotinamide riboside metabolic process (GO:0046495)  \\\n",
       "DDX11                                                   0      \n",
       "XBP1                                                    0      \n",
       "AHSP                                                    0      \n",
       "GTF3C3                                                  0      \n",
       "PDE8B                                                   0      \n",
       "\n",
       "        chemokine biosynthetic process (GO:0042033)  \\\n",
       "DDX11                                             0   \n",
       "XBP1                                              0   \n",
       "AHSP                                              0   \n",
       "GTF3C3                                            0   \n",
       "PDE8B                                             0   \n",
       "\n",
       "        positive regulation of vascular associated smooth muscle cell apoptotic process (GO:1905461)  \\\n",
       "DDX11                                                   0                                              \n",
       "XBP1                                                    0                                              \n",
       "AHSP                                                    0                                              \n",
       "GTF3C3                                                  0                                              \n",
       "PDE8B                                                   0                                              \n",
       "\n",
       "        positive regulation of metanephric cap mesenchymal cell proliferation (GO:0090096)  \\\n",
       "DDX11                                                   0                                    \n",
       "XBP1                                                    0                                    \n",
       "AHSP                                                    0                                    \n",
       "GTF3C3                                                  0                                    \n",
       "PDE8B                                                   0                                    \n",
       "\n",
       "        tRNA modification (GO:0006400)  \\\n",
       "DDX11                                0   \n",
       "XBP1                                 0   \n",
       "AHSP                                 0   \n",
       "GTF3C3                               0   \n",
       "PDE8B                                0   \n",
       "\n",
       "        siderophore biosynthetic process (GO:0019290)  \\\n",
       "DDX11                                               0   \n",
       "XBP1                                                0   \n",
       "AHSP                                                0   \n",
       "GTF3C3                                              0   \n",
       "PDE8B                                               0   \n",
       "\n",
       "        melanosome assembly (GO:1903232)  \\\n",
       "DDX11                                  0   \n",
       "XBP1                                   0   \n",
       "AHSP                                   0   \n",
       "GTF3C3                                 0   \n",
       "PDE8B                                  0   \n",
       "\n",
       "        positive regulation of neurotrophin TRK receptor signaling pathway (GO:0051388)  \\\n",
       "DDX11                                                   0                                 \n",
       "XBP1                                                    0                                 \n",
       "AHSP                                                    0                                 \n",
       "GTF3C3                                                  0                                 \n",
       "PDE8B                                                   0                                 \n",
       "\n",
       "        Wnt signalosome assembly (GO:1904887)  \n",
       "DDX11                                       0  \n",
       "XBP1                                        0  \n",
       "AHSP                                        0  \n",
       "GTF3C3                                      0  \n",
       "PDE8B                                       0  \n",
       "\n",
       "[5 rows x 11947 columns]"
      ]
     },
     "execution_count": 38,
     "metadata": {},
     "output_type": "execute_result"
    }
   ],
   "source": [
    "binary_matrix.head()"
   ]
  },
  {
   "cell_type": "code",
   "execution_count": 39,
   "metadata": {},
   "outputs": [
    {
     "data": {
      "text/plain": [
       "(14481, 11947)"
      ]
     },
     "execution_count": 39,
     "metadata": {},
     "output_type": "execute_result"
    }
   ],
   "source": [
    "binary_matrix.shape"
   ]
  },
  {
   "cell_type": "markdown",
   "metadata": {},
   "source": [
    "# Save Binary Matrix"
   ]
  },
  {
   "cell_type": "code",
   "execution_count": 40,
   "metadata": {
    "collapsed": true
   },
   "outputs": [],
   "source": [
    "filename = '~/./Documents/Harmonizome/GO/output/go_biological_process_binary_matrix_%s.tsv.zip'% str(datetime.date.today())[0:7].replace('-', '_')\n",
    "binary_matrix.to_csv(filename, sep='\\t', compression='gzip')"
   ]
  },
  {
   "cell_type": "markdown",
   "metadata": {},
   "source": [
    "# Create Gene Set Library"
   ]
  },
  {
   "cell_type": "code",
   "execution_count": 41,
   "metadata": {
    "collapsed": true
   },
   "outputs": [],
   "source": [
    "path = '/Users/moshesilverstein/Documents/Harmonizome/GO/output/'"
   ]
  },
  {
   "cell_type": "code",
   "execution_count": 42,
   "metadata": {
    "collapsed": true
   },
   "outputs": [],
   "source": [
    "name = 'go_biological_process_gene_set'"
   ]
  },
  {
   "cell_type": "code",
   "execution_count": 43,
   "metadata": {},
   "outputs": [
    {
     "name": "stdout",
     "output_type": "stream",
     "text": [
      "Progeres: 100%  11947 Out of 11947   \r"
     ]
    }
   ],
   "source": [
    "uf.createUpGeneSetLib(binary_matrix, path, name)"
   ]
  },
  {
   "cell_type": "markdown",
   "metadata": {},
   "source": [
    "# Create Attribute Library"
   ]
  },
  {
   "cell_type": "code",
   "execution_count": 44,
   "metadata": {
    "collapsed": true
   },
   "outputs": [],
   "source": [
    "path = '/Users/moshesilverstein/Documents/Harmonizome/GO/output/'"
   ]
  },
  {
   "cell_type": "code",
   "execution_count": 45,
   "metadata": {
    "collapsed": true
   },
   "outputs": [],
   "source": [
    "name = 'go_biological_process_attribute_set'"
   ]
  },
  {
   "cell_type": "code",
   "execution_count": 46,
   "metadata": {},
   "outputs": [
    {
     "name": "stdout",
     "output_type": "stream",
     "text": [
      "Progeres: 100%  14481 Out of 14481   \r"
     ]
    }
   ],
   "source": [
    "uf.createUpAttributeSetLib(binary_matrix, path, name)"
   ]
  },
  {
   "cell_type": "markdown",
   "metadata": {},
   "source": [
    "# Create Gene Similarity Matrix"
   ]
  },
  {
   "cell_type": "code",
   "execution_count": 47,
   "metadata": {
    "collapsed": true
   },
   "outputs": [],
   "source": [
    "gene_similarity_matix = uf.createSimilarityMatrix(binary_matrix, 'jaccard')"
   ]
  },
  {
   "cell_type": "code",
   "execution_count": 48,
   "metadata": {},
   "outputs": [
    {
     "data": {
      "text/html": [
       "<div>\n",
       "<style scoped>\n",
       "    .dataframe tbody tr th:only-of-type {\n",
       "        vertical-align: middle;\n",
       "    }\n",
       "\n",
       "    .dataframe tbody tr th {\n",
       "        vertical-align: top;\n",
       "    }\n",
       "\n",
       "    .dataframe thead th {\n",
       "        text-align: right;\n",
       "    }\n",
       "</style>\n",
       "<table border=\"1\" class=\"dataframe\">\n",
       "  <thead>\n",
       "    <tr style=\"text-align: right;\">\n",
       "      <th></th>\n",
       "      <th>DDX11</th>\n",
       "      <th>XBP1</th>\n",
       "      <th>AHSP</th>\n",
       "      <th>GTF3C3</th>\n",
       "      <th>PDE8B</th>\n",
       "      <th>AMDHD1</th>\n",
       "      <th>PLEKHG2</th>\n",
       "      <th>KMT2A</th>\n",
       "      <th>TNFSF11</th>\n",
       "      <th>MAEL</th>\n",
       "      <th>...</th>\n",
       "      <th>MYPN</th>\n",
       "      <th>UFM1</th>\n",
       "      <th>RASAL1</th>\n",
       "      <th>ZC3H10</th>\n",
       "      <th>PPID</th>\n",
       "      <th>LY6D</th>\n",
       "      <th>IL12A</th>\n",
       "      <th>CRYAA</th>\n",
       "      <th>PXN</th>\n",
       "      <th>CCR9</th>\n",
       "    </tr>\n",
       "    <tr>\n",
       "      <th></th>\n",
       "      <th></th>\n",
       "      <th></th>\n",
       "      <th></th>\n",
       "      <th></th>\n",
       "      <th></th>\n",
       "      <th></th>\n",
       "      <th></th>\n",
       "      <th></th>\n",
       "      <th></th>\n",
       "      <th></th>\n",
       "      <th></th>\n",
       "      <th></th>\n",
       "      <th></th>\n",
       "      <th></th>\n",
       "      <th></th>\n",
       "      <th></th>\n",
       "      <th></th>\n",
       "      <th></th>\n",
       "      <th></th>\n",
       "      <th></th>\n",
       "      <th></th>\n",
       "    </tr>\n",
       "  </thead>\n",
       "  <tbody>\n",
       "    <tr>\n",
       "      <th>DDX11</th>\n",
       "      <td>1.000000</td>\n",
       "      <td>0.013245</td>\n",
       "      <td>0.0</td>\n",
       "      <td>0.000000</td>\n",
       "      <td>0.0</td>\n",
       "      <td>0.0</td>\n",
       "      <td>0.000</td>\n",
       "      <td>0.000000</td>\n",
       "      <td>0.000000</td>\n",
       "      <td>0.0</td>\n",
       "      <td>...</td>\n",
       "      <td>0.000000</td>\n",
       "      <td>0.000</td>\n",
       "      <td>0.0</td>\n",
       "      <td>0.0</td>\n",
       "      <td>0.000000</td>\n",
       "      <td>0.0</td>\n",
       "      <td>0.000000</td>\n",
       "      <td>0.000000</td>\n",
       "      <td>0.000000</td>\n",
       "      <td>0.0</td>\n",
       "    </tr>\n",
       "    <tr>\n",
       "      <th>XBP1</th>\n",
       "      <td>0.013245</td>\n",
       "      <td>1.000000</td>\n",
       "      <td>0.0</td>\n",
       "      <td>0.007937</td>\n",
       "      <td>0.0</td>\n",
       "      <td>0.0</td>\n",
       "      <td>0.008</td>\n",
       "      <td>0.040000</td>\n",
       "      <td>0.038462</td>\n",
       "      <td>0.0</td>\n",
       "      <td>...</td>\n",
       "      <td>0.007874</td>\n",
       "      <td>0.024</td>\n",
       "      <td>0.0</td>\n",
       "      <td>0.0</td>\n",
       "      <td>0.021277</td>\n",
       "      <td>0.0</td>\n",
       "      <td>0.011696</td>\n",
       "      <td>0.023810</td>\n",
       "      <td>0.007194</td>\n",
       "      <td>0.0</td>\n",
       "    </tr>\n",
       "    <tr>\n",
       "      <th>AHSP</th>\n",
       "      <td>0.000000</td>\n",
       "      <td>0.000000</td>\n",
       "      <td>1.0</td>\n",
       "      <td>0.000000</td>\n",
       "      <td>0.0</td>\n",
       "      <td>0.0</td>\n",
       "      <td>0.000</td>\n",
       "      <td>0.023810</td>\n",
       "      <td>0.000000</td>\n",
       "      <td>0.0</td>\n",
       "      <td>...</td>\n",
       "      <td>0.000000</td>\n",
       "      <td>0.000</td>\n",
       "      <td>0.0</td>\n",
       "      <td>0.0</td>\n",
       "      <td>0.000000</td>\n",
       "      <td>0.0</td>\n",
       "      <td>0.000000</td>\n",
       "      <td>0.066667</td>\n",
       "      <td>0.000000</td>\n",
       "      <td>0.0</td>\n",
       "    </tr>\n",
       "    <tr>\n",
       "      <th>GTF3C3</th>\n",
       "      <td>0.000000</td>\n",
       "      <td>0.007937</td>\n",
       "      <td>0.0</td>\n",
       "      <td>1.000000</td>\n",
       "      <td>0.0</td>\n",
       "      <td>0.0</td>\n",
       "      <td>0.000</td>\n",
       "      <td>0.021739</td>\n",
       "      <td>0.000000</td>\n",
       "      <td>0.0</td>\n",
       "      <td>...</td>\n",
       "      <td>0.000000</td>\n",
       "      <td>0.000</td>\n",
       "      <td>0.0</td>\n",
       "      <td>0.0</td>\n",
       "      <td>0.000000</td>\n",
       "      <td>0.0</td>\n",
       "      <td>0.000000</td>\n",
       "      <td>0.000000</td>\n",
       "      <td>0.000000</td>\n",
       "      <td>0.0</td>\n",
       "    </tr>\n",
       "    <tr>\n",
       "      <th>PDE8B</th>\n",
       "      <td>0.000000</td>\n",
       "      <td>0.000000</td>\n",
       "      <td>0.0</td>\n",
       "      <td>0.000000</td>\n",
       "      <td>1.0</td>\n",
       "      <td>0.0</td>\n",
       "      <td>0.000</td>\n",
       "      <td>0.000000</td>\n",
       "      <td>0.000000</td>\n",
       "      <td>0.0</td>\n",
       "      <td>...</td>\n",
       "      <td>0.000000</td>\n",
       "      <td>0.000</td>\n",
       "      <td>0.0</td>\n",
       "      <td>0.0</td>\n",
       "      <td>0.000000</td>\n",
       "      <td>0.0</td>\n",
       "      <td>0.000000</td>\n",
       "      <td>0.000000</td>\n",
       "      <td>0.000000</td>\n",
       "      <td>0.0</td>\n",
       "    </tr>\n",
       "  </tbody>\n",
       "</table>\n",
       "<p>5 rows × 14481 columns</p>\n",
       "</div>"
      ],
      "text/plain": [
       "           DDX11      XBP1  AHSP    GTF3C3  PDE8B  AMDHD1  PLEKHG2     KMT2A  \\\n",
       "                                                                               \n",
       "DDX11   1.000000  0.013245   0.0  0.000000    0.0     0.0    0.000  0.000000   \n",
       "XBP1    0.013245  1.000000   0.0  0.007937    0.0     0.0    0.008  0.040000   \n",
       "AHSP    0.000000  0.000000   1.0  0.000000    0.0     0.0    0.000  0.023810   \n",
       "GTF3C3  0.000000  0.007937   0.0  1.000000    0.0     0.0    0.000  0.021739   \n",
       "PDE8B   0.000000  0.000000   0.0  0.000000    1.0     0.0    0.000  0.000000   \n",
       "\n",
       "         TNFSF11  MAEL  ...       MYPN   UFM1  RASAL1  ZC3H10      PPID  LY6D  \\\n",
       "                        ...                                                     \n",
       "DDX11   0.000000   0.0  ...   0.000000  0.000     0.0     0.0  0.000000   0.0   \n",
       "XBP1    0.038462   0.0  ...   0.007874  0.024     0.0     0.0  0.021277   0.0   \n",
       "AHSP    0.000000   0.0  ...   0.000000  0.000     0.0     0.0  0.000000   0.0   \n",
       "GTF3C3  0.000000   0.0  ...   0.000000  0.000     0.0     0.0  0.000000   0.0   \n",
       "PDE8B   0.000000   0.0  ...   0.000000  0.000     0.0     0.0  0.000000   0.0   \n",
       "\n",
       "           IL12A     CRYAA       PXN  CCR9  \n",
       "                                            \n",
       "DDX11   0.000000  0.000000  0.000000   0.0  \n",
       "XBP1    0.011696  0.023810  0.007194   0.0  \n",
       "AHSP    0.000000  0.066667  0.000000   0.0  \n",
       "GTF3C3  0.000000  0.000000  0.000000   0.0  \n",
       "PDE8B   0.000000  0.000000  0.000000   0.0  \n",
       "\n",
       "[5 rows x 14481 columns]"
      ]
     },
     "execution_count": 48,
     "metadata": {},
     "output_type": "execute_result"
    }
   ],
   "source": [
    "gene_similarity_matix.head()"
   ]
  },
  {
   "cell_type": "markdown",
   "metadata": {},
   "source": [
    "# Save Gene Similarity Matrix "
   ]
  },
  {
   "cell_type": "code",
   "execution_count": 49,
   "metadata": {
    "collapsed": true
   },
   "outputs": [],
   "source": [
    "filename = '~/./Documents/Harmonizome/GO/output/go_biological_process_gene_similarity_matix_%s.tsv.zip'% str(datetime.date.today())[0:7].replace('-', '_')\n",
    "gene_similarity_matix.to_csv(filename, sep='\\t', compression='gzip')"
   ]
  },
  {
   "cell_type": "markdown",
   "metadata": {},
   "source": [
    "# Create Attribute Similarity matrix"
   ]
  },
  {
   "cell_type": "code",
   "execution_count": 50,
   "metadata": {
    "collapsed": true
   },
   "outputs": [],
   "source": [
    "attribute_similarity_matix = uf.createSimilarityMatrix(binary_matrix.T, 'jaccard')"
   ]
  },
  {
   "cell_type": "code",
   "execution_count": 51,
   "metadata": {},
   "outputs": [
    {
     "data": {
      "text/html": [
       "<div>\n",
       "<style scoped>\n",
       "    .dataframe tbody tr th:only-of-type {\n",
       "        vertical-align: middle;\n",
       "    }\n",
       "\n",
       "    .dataframe tbody tr th {\n",
       "        vertical-align: top;\n",
       "    }\n",
       "\n",
       "    .dataframe thead th {\n",
       "        text-align: right;\n",
       "    }\n",
       "</style>\n",
       "<table border=\"1\" class=\"dataframe\">\n",
       "  <thead>\n",
       "    <tr style=\"text-align: right;\">\n",
       "      <th></th>\n",
       "      <th>G-protein coupled receptor internalization (GO:0002031)</th>\n",
       "      <th>positive regulation of posttranscriptional gene silencing (GO:0060148)</th>\n",
       "      <th>regulation of cell cycle process (GO:0010564)</th>\n",
       "      <th>angiotensin-activated signaling pathway (GO:0038166)</th>\n",
       "      <th>cell chemotaxis to vascular endothelial growth factor (GO:0090667)</th>\n",
       "      <th>DNA-templated transcription, termination (GO:0006353)</th>\n",
       "      <th>cell projection morphogenesis (GO:0048858)</th>\n",
       "      <th>negative regulation of autophagy of mitochondrion (GO:1903147)</th>\n",
       "      <th>regulation of protein sumoylation (GO:0033233)</th>\n",
       "      <th>regulation of cellular response to stress (GO:0080135)</th>\n",
       "      <th>...</th>\n",
       "      <th>isoquinoline alkaloid metabolic process (GO:0033076)</th>\n",
       "      <th>nicotinamide riboside metabolic process (GO:0046495)</th>\n",
       "      <th>chemokine biosynthetic process (GO:0042033)</th>\n",
       "      <th>positive regulation of vascular associated smooth muscle cell apoptotic process (GO:1905461)</th>\n",
       "      <th>positive regulation of metanephric cap mesenchymal cell proliferation (GO:0090096)</th>\n",
       "      <th>tRNA modification (GO:0006400)</th>\n",
       "      <th>siderophore biosynthetic process (GO:0019290)</th>\n",
       "      <th>melanosome assembly (GO:1903232)</th>\n",
       "      <th>positive regulation of neurotrophin TRK receptor signaling pathway (GO:0051388)</th>\n",
       "      <th>Wnt signalosome assembly (GO:1904887)</th>\n",
       "    </tr>\n",
       "    <tr>\n",
       "      <th></th>\n",
       "      <th></th>\n",
       "      <th></th>\n",
       "      <th></th>\n",
       "      <th></th>\n",
       "      <th></th>\n",
       "      <th></th>\n",
       "      <th></th>\n",
       "      <th></th>\n",
       "      <th></th>\n",
       "      <th></th>\n",
       "      <th></th>\n",
       "      <th></th>\n",
       "      <th></th>\n",
       "      <th></th>\n",
       "      <th></th>\n",
       "      <th></th>\n",
       "      <th></th>\n",
       "      <th></th>\n",
       "      <th></th>\n",
       "      <th></th>\n",
       "      <th></th>\n",
       "    </tr>\n",
       "  </thead>\n",
       "  <tbody>\n",
       "    <tr>\n",
       "      <th>G-protein coupled receptor internalization (GO:0002031)</th>\n",
       "      <td>1.0</td>\n",
       "      <td>0.0</td>\n",
       "      <td>0.0</td>\n",
       "      <td>0.0</td>\n",
       "      <td>0.0</td>\n",
       "      <td>0.009091</td>\n",
       "      <td>0.0</td>\n",
       "      <td>0.0</td>\n",
       "      <td>0.0</td>\n",
       "      <td>0.000000</td>\n",
       "      <td>...</td>\n",
       "      <td>0.0</td>\n",
       "      <td>0.0</td>\n",
       "      <td>0.0</td>\n",
       "      <td>0.0</td>\n",
       "      <td>0.0</td>\n",
       "      <td>0.0</td>\n",
       "      <td>0.0</td>\n",
       "      <td>0.0</td>\n",
       "      <td>0.0</td>\n",
       "      <td>0.0</td>\n",
       "    </tr>\n",
       "    <tr>\n",
       "      <th>positive regulation of posttranscriptional gene silencing (GO:0060148)</th>\n",
       "      <td>0.0</td>\n",
       "      <td>1.0</td>\n",
       "      <td>0.0</td>\n",
       "      <td>0.0</td>\n",
       "      <td>0.0</td>\n",
       "      <td>0.000000</td>\n",
       "      <td>0.0</td>\n",
       "      <td>0.0</td>\n",
       "      <td>0.0</td>\n",
       "      <td>0.008772</td>\n",
       "      <td>...</td>\n",
       "      <td>0.0</td>\n",
       "      <td>0.0</td>\n",
       "      <td>0.0</td>\n",
       "      <td>0.0</td>\n",
       "      <td>0.0</td>\n",
       "      <td>0.0</td>\n",
       "      <td>0.0</td>\n",
       "      <td>0.0</td>\n",
       "      <td>0.0</td>\n",
       "      <td>0.0</td>\n",
       "    </tr>\n",
       "    <tr>\n",
       "      <th>regulation of cell cycle process (GO:0010564)</th>\n",
       "      <td>0.0</td>\n",
       "      <td>0.0</td>\n",
       "      <td>1.0</td>\n",
       "      <td>0.0</td>\n",
       "      <td>0.0</td>\n",
       "      <td>0.005128</td>\n",
       "      <td>0.0</td>\n",
       "      <td>0.0</td>\n",
       "      <td>0.0</td>\n",
       "      <td>0.010417</td>\n",
       "      <td>...</td>\n",
       "      <td>0.0</td>\n",
       "      <td>0.0</td>\n",
       "      <td>0.0</td>\n",
       "      <td>0.0</td>\n",
       "      <td>0.0</td>\n",
       "      <td>0.0</td>\n",
       "      <td>0.0</td>\n",
       "      <td>0.0</td>\n",
       "      <td>0.0</td>\n",
       "      <td>0.0</td>\n",
       "    </tr>\n",
       "    <tr>\n",
       "      <th>angiotensin-activated signaling pathway (GO:0038166)</th>\n",
       "      <td>0.0</td>\n",
       "      <td>0.0</td>\n",
       "      <td>0.0</td>\n",
       "      <td>1.0</td>\n",
       "      <td>0.0</td>\n",
       "      <td>0.000000</td>\n",
       "      <td>0.0</td>\n",
       "      <td>0.0</td>\n",
       "      <td>0.0</td>\n",
       "      <td>0.009091</td>\n",
       "      <td>...</td>\n",
       "      <td>0.0</td>\n",
       "      <td>0.0</td>\n",
       "      <td>0.0</td>\n",
       "      <td>0.0</td>\n",
       "      <td>0.0</td>\n",
       "      <td>0.0</td>\n",
       "      <td>0.0</td>\n",
       "      <td>0.0</td>\n",
       "      <td>0.0</td>\n",
       "      <td>0.0</td>\n",
       "    </tr>\n",
       "    <tr>\n",
       "      <th>cell chemotaxis to vascular endothelial growth factor (GO:0090667)</th>\n",
       "      <td>0.0</td>\n",
       "      <td>0.0</td>\n",
       "      <td>0.0</td>\n",
       "      <td>0.0</td>\n",
       "      <td>1.0</td>\n",
       "      <td>0.000000</td>\n",
       "      <td>0.0</td>\n",
       "      <td>0.0</td>\n",
       "      <td>0.0</td>\n",
       "      <td>0.000000</td>\n",
       "      <td>...</td>\n",
       "      <td>0.0</td>\n",
       "      <td>0.0</td>\n",
       "      <td>0.0</td>\n",
       "      <td>0.0</td>\n",
       "      <td>0.0</td>\n",
       "      <td>0.0</td>\n",
       "      <td>0.0</td>\n",
       "      <td>0.0</td>\n",
       "      <td>0.0</td>\n",
       "      <td>0.0</td>\n",
       "    </tr>\n",
       "  </tbody>\n",
       "</table>\n",
       "<p>5 rows × 11947 columns</p>\n",
       "</div>"
      ],
      "text/plain": [
       "                                                    G-protein coupled receptor internalization (GO:0002031)  \\\n",
       "                                                                                                              \n",
       "G-protein coupled receptor internalization (GO:...                                                1.0         \n",
       "positive regulation of posttranscriptional gene...                                                0.0         \n",
       "regulation of cell cycle process (GO:0010564)                                                     0.0         \n",
       "angiotensin-activated signaling pathway (GO:003...                                                0.0         \n",
       "cell chemotaxis to vascular endothelial growth ...                                                0.0         \n",
       "\n",
       "                                                    positive regulation of posttranscriptional gene silencing (GO:0060148)  \\\n",
       "                                                                                                                             \n",
       "G-protein coupled receptor internalization (GO:...                                                0.0                        \n",
       "positive regulation of posttranscriptional gene...                                                1.0                        \n",
       "regulation of cell cycle process (GO:0010564)                                                     0.0                        \n",
       "angiotensin-activated signaling pathway (GO:003...                                                0.0                        \n",
       "cell chemotaxis to vascular endothelial growth ...                                                0.0                        \n",
       "\n",
       "                                                    regulation of cell cycle process (GO:0010564)  \\\n",
       "                                                                                                    \n",
       "G-protein coupled receptor internalization (GO:...                                            0.0   \n",
       "positive regulation of posttranscriptional gene...                                            0.0   \n",
       "regulation of cell cycle process (GO:0010564)                                                 1.0   \n",
       "angiotensin-activated signaling pathway (GO:003...                                            0.0   \n",
       "cell chemotaxis to vascular endothelial growth ...                                            0.0   \n",
       "\n",
       "                                                    angiotensin-activated signaling pathway (GO:0038166)  \\\n",
       "                                                                                                           \n",
       "G-protein coupled receptor internalization (GO:...                                                0.0      \n",
       "positive regulation of posttranscriptional gene...                                                0.0      \n",
       "regulation of cell cycle process (GO:0010564)                                                     0.0      \n",
       "angiotensin-activated signaling pathway (GO:003...                                                1.0      \n",
       "cell chemotaxis to vascular endothelial growth ...                                                0.0      \n",
       "\n",
       "                                                    cell chemotaxis to vascular endothelial growth factor (GO:0090667)  \\\n",
       "                                                                                                                         \n",
       "G-protein coupled receptor internalization (GO:...                                                0.0                    \n",
       "positive regulation of posttranscriptional gene...                                                0.0                    \n",
       "regulation of cell cycle process (GO:0010564)                                                     0.0                    \n",
       "angiotensin-activated signaling pathway (GO:003...                                                0.0                    \n",
       "cell chemotaxis to vascular endothelial growth ...                                                1.0                    \n",
       "\n",
       "                                                    DNA-templated transcription, termination (GO:0006353)  \\\n",
       "                                                                                                            \n",
       "G-protein coupled receptor internalization (GO:...                                           0.009091       \n",
       "positive regulation of posttranscriptional gene...                                           0.000000       \n",
       "regulation of cell cycle process (GO:0010564)                                                0.005128       \n",
       "angiotensin-activated signaling pathway (GO:003...                                           0.000000       \n",
       "cell chemotaxis to vascular endothelial growth ...                                           0.000000       \n",
       "\n",
       "                                                    cell projection morphogenesis (GO:0048858)  \\\n",
       "                                                                                                 \n",
       "G-protein coupled receptor internalization (GO:...                                         0.0   \n",
       "positive regulation of posttranscriptional gene...                                         0.0   \n",
       "regulation of cell cycle process (GO:0010564)                                              0.0   \n",
       "angiotensin-activated signaling pathway (GO:003...                                         0.0   \n",
       "cell chemotaxis to vascular endothelial growth ...                                         0.0   \n",
       "\n",
       "                                                    negative regulation of autophagy of mitochondrion (GO:1903147)  \\\n",
       "                                                                                                                     \n",
       "G-protein coupled receptor internalization (GO:...                                                0.0                \n",
       "positive regulation of posttranscriptional gene...                                                0.0                \n",
       "regulation of cell cycle process (GO:0010564)                                                     0.0                \n",
       "angiotensin-activated signaling pathway (GO:003...                                                0.0                \n",
       "cell chemotaxis to vascular endothelial growth ...                                                0.0                \n",
       "\n",
       "                                                    regulation of protein sumoylation (GO:0033233)  \\\n",
       "                                                                                                     \n",
       "G-protein coupled receptor internalization (GO:...                                             0.0   \n",
       "positive regulation of posttranscriptional gene...                                             0.0   \n",
       "regulation of cell cycle process (GO:0010564)                                                  0.0   \n",
       "angiotensin-activated signaling pathway (GO:003...                                             0.0   \n",
       "cell chemotaxis to vascular endothelial growth ...                                             0.0   \n",
       "\n",
       "                                                    regulation of cellular response to stress (GO:0080135)  \\\n",
       "                                                                                                             \n",
       "G-protein coupled receptor internalization (GO:...                                           0.000000        \n",
       "positive regulation of posttranscriptional gene...                                           0.008772        \n",
       "regulation of cell cycle process (GO:0010564)                                                0.010417        \n",
       "angiotensin-activated signaling pathway (GO:003...                                           0.009091        \n",
       "cell chemotaxis to vascular endothelial growth ...                                           0.000000        \n",
       "\n",
       "                                                                    ...                    \\\n",
       "                                                                    ...                     \n",
       "G-protein coupled receptor internalization (GO:...                  ...                     \n",
       "positive regulation of posttranscriptional gene...                  ...                     \n",
       "regulation of cell cycle process (GO:0010564)                       ...                     \n",
       "angiotensin-activated signaling pathway (GO:003...                  ...                     \n",
       "cell chemotaxis to vascular endothelial growth ...                  ...                     \n",
       "\n",
       "                                                    isoquinoline alkaloid metabolic process (GO:0033076)  \\\n",
       "                                                                                                           \n",
       "G-protein coupled receptor internalization (GO:...                                                0.0      \n",
       "positive regulation of posttranscriptional gene...                                                0.0      \n",
       "regulation of cell cycle process (GO:0010564)                                                     0.0      \n",
       "angiotensin-activated signaling pathway (GO:003...                                                0.0      \n",
       "cell chemotaxis to vascular endothelial growth ...                                                0.0      \n",
       "\n",
       "                                                    nicotinamide riboside metabolic process (GO:0046495)  \\\n",
       "                                                                                                           \n",
       "G-protein coupled receptor internalization (GO:...                                                0.0      \n",
       "positive regulation of posttranscriptional gene...                                                0.0      \n",
       "regulation of cell cycle process (GO:0010564)                                                     0.0      \n",
       "angiotensin-activated signaling pathway (GO:003...                                                0.0      \n",
       "cell chemotaxis to vascular endothelial growth ...                                                0.0      \n",
       "\n",
       "                                                    chemokine biosynthetic process (GO:0042033)  \\\n",
       "                                                                                                  \n",
       "G-protein coupled receptor internalization (GO:...                                          0.0   \n",
       "positive regulation of posttranscriptional gene...                                          0.0   \n",
       "regulation of cell cycle process (GO:0010564)                                               0.0   \n",
       "angiotensin-activated signaling pathway (GO:003...                                          0.0   \n",
       "cell chemotaxis to vascular endothelial growth ...                                          0.0   \n",
       "\n",
       "                                                    positive regulation of vascular associated smooth muscle cell apoptotic process (GO:1905461)  \\\n",
       "                                                                                                                                                   \n",
       "G-protein coupled receptor internalization (GO:...                                                0.0                                              \n",
       "positive regulation of posttranscriptional gene...                                                0.0                                              \n",
       "regulation of cell cycle process (GO:0010564)                                                     0.0                                              \n",
       "angiotensin-activated signaling pathway (GO:003...                                                0.0                                              \n",
       "cell chemotaxis to vascular endothelial growth ...                                                0.0                                              \n",
       "\n",
       "                                                    positive regulation of metanephric cap mesenchymal cell proliferation (GO:0090096)  \\\n",
       "                                                                                                                                         \n",
       "G-protein coupled receptor internalization (GO:...                                                0.0                                    \n",
       "positive regulation of posttranscriptional gene...                                                0.0                                    \n",
       "regulation of cell cycle process (GO:0010564)                                                     0.0                                    \n",
       "angiotensin-activated signaling pathway (GO:003...                                                0.0                                    \n",
       "cell chemotaxis to vascular endothelial growth ...                                                0.0                                    \n",
       "\n",
       "                                                    tRNA modification (GO:0006400)  \\\n",
       "                                                                                     \n",
       "G-protein coupled receptor internalization (GO:...                             0.0   \n",
       "positive regulation of posttranscriptional gene...                             0.0   \n",
       "regulation of cell cycle process (GO:0010564)                                  0.0   \n",
       "angiotensin-activated signaling pathway (GO:003...                             0.0   \n",
       "cell chemotaxis to vascular endothelial growth ...                             0.0   \n",
       "\n",
       "                                                    siderophore biosynthetic process (GO:0019290)  \\\n",
       "                                                                                                    \n",
       "G-protein coupled receptor internalization (GO:...                                            0.0   \n",
       "positive regulation of posttranscriptional gene...                                            0.0   \n",
       "regulation of cell cycle process (GO:0010564)                                                 0.0   \n",
       "angiotensin-activated signaling pathway (GO:003...                                            0.0   \n",
       "cell chemotaxis to vascular endothelial growth ...                                            0.0   \n",
       "\n",
       "                                                    melanosome assembly (GO:1903232)  \\\n",
       "                                                                                       \n",
       "G-protein coupled receptor internalization (GO:...                               0.0   \n",
       "positive regulation of posttranscriptional gene...                               0.0   \n",
       "regulation of cell cycle process (GO:0010564)                                    0.0   \n",
       "angiotensin-activated signaling pathway (GO:003...                               0.0   \n",
       "cell chemotaxis to vascular endothelial growth ...                               0.0   \n",
       "\n",
       "                                                    positive regulation of neurotrophin TRK receptor signaling pathway (GO:0051388)  \\\n",
       "                                                                                                                                      \n",
       "G-protein coupled receptor internalization (GO:...                                                0.0                                 \n",
       "positive regulation of posttranscriptional gene...                                                0.0                                 \n",
       "regulation of cell cycle process (GO:0010564)                                                     0.0                                 \n",
       "angiotensin-activated signaling pathway (GO:003...                                                0.0                                 \n",
       "cell chemotaxis to vascular endothelial growth ...                                                0.0                                 \n",
       "\n",
       "                                                    Wnt signalosome assembly (GO:1904887)  \n",
       "                                                                                           \n",
       "G-protein coupled receptor internalization (GO:...                                    0.0  \n",
       "positive regulation of posttranscriptional gene...                                    0.0  \n",
       "regulation of cell cycle process (GO:0010564)                                         0.0  \n",
       "angiotensin-activated signaling pathway (GO:003...                                    0.0  \n",
       "cell chemotaxis to vascular endothelial growth ...                                    0.0  \n",
       "\n",
       "[5 rows x 11947 columns]"
      ]
     },
     "execution_count": 51,
     "metadata": {},
     "output_type": "execute_result"
    }
   ],
   "source": [
    "attribute_similarity_matix.head()"
   ]
  },
  {
   "cell_type": "markdown",
   "metadata": {},
   "source": [
    "# Save Attribute Similarity Matrix"
   ]
  },
  {
   "cell_type": "code",
   "execution_count": 52,
   "metadata": {
    "collapsed": true
   },
   "outputs": [],
   "source": [
    "filename = '~/./Documents/Harmonizome/GO/output/go_biological_process_attribute_similarity_matix_%s.tsv.zip'% str(datetime.date.today())[0:7].replace('-', '_')\n",
    "attribute_similarity_matix.to_csv(filename, sep='\\t', compression='gzip')"
   ]
  },
  {
   "cell_type": "markdown",
   "metadata": {},
   "source": [
    "# Create Gene List"
   ]
  },
  {
   "cell_type": "code",
   "execution_count": 53,
   "metadata": {},
   "outputs": [
    {
     "name": "stdout",
     "output_type": "stream",
     "text": [
      "Progeres: 100%  14481 Out of 14481   \r"
     ]
    }
   ],
   "source": [
    "gene_list = uf.createGeneList(binary_matrix)"
   ]
  },
  {
   "cell_type": "code",
   "execution_count": 54,
   "metadata": {},
   "outputs": [
    {
     "data": {
      "text/html": [
       "<div>\n",
       "<style scoped>\n",
       "    .dataframe tbody tr th:only-of-type {\n",
       "        vertical-align: middle;\n",
       "    }\n",
       "\n",
       "    .dataframe tbody tr th {\n",
       "        vertical-align: top;\n",
       "    }\n",
       "\n",
       "    .dataframe thead th {\n",
       "        text-align: right;\n",
       "    }\n",
       "</style>\n",
       "<table border=\"1\" class=\"dataframe\">\n",
       "  <thead>\n",
       "    <tr style=\"text-align: right;\">\n",
       "      <th></th>\n",
       "      <th>GeneSym</th>\n",
       "      <th>GeneID</th>\n",
       "    </tr>\n",
       "  </thead>\n",
       "  <tbody>\n",
       "    <tr>\n",
       "      <th>0</th>\n",
       "      <td>DDX11</td>\n",
       "      <td>1663</td>\n",
       "    </tr>\n",
       "    <tr>\n",
       "      <th>1</th>\n",
       "      <td>XBP1</td>\n",
       "      <td>7494</td>\n",
       "    </tr>\n",
       "    <tr>\n",
       "      <th>2</th>\n",
       "      <td>AHSP</td>\n",
       "      <td>51327</td>\n",
       "    </tr>\n",
       "    <tr>\n",
       "      <th>3</th>\n",
       "      <td>GTF3C3</td>\n",
       "      <td>9330</td>\n",
       "    </tr>\n",
       "    <tr>\n",
       "      <th>4</th>\n",
       "      <td>PDE8B</td>\n",
       "      <td>8622</td>\n",
       "    </tr>\n",
       "  </tbody>\n",
       "</table>\n",
       "</div>"
      ],
      "text/plain": [
       "  GeneSym GeneID\n",
       "0   DDX11   1663\n",
       "1    XBP1   7494\n",
       "2    AHSP  51327\n",
       "3  GTF3C3   9330\n",
       "4   PDE8B   8622"
      ]
     },
     "execution_count": 54,
     "metadata": {},
     "output_type": "execute_result"
    }
   ],
   "source": [
    "gene_list.head()"
   ]
  },
  {
   "cell_type": "code",
   "execution_count": 55,
   "metadata": {},
   "outputs": [
    {
     "data": {
      "text/plain": [
       "(14481, 2)"
      ]
     },
     "execution_count": 55,
     "metadata": {},
     "output_type": "execute_result"
    }
   ],
   "source": [
    "gene_list.shape"
   ]
  },
  {
   "cell_type": "markdown",
   "metadata": {},
   "source": [
    "# Save Gene List"
   ]
  },
  {
   "cell_type": "code",
   "execution_count": 56,
   "metadata": {
    "collapsed": true
   },
   "outputs": [],
   "source": [
    "filename = '~/./Documents/Harmonizome/GO/output/go_biological_process_gene_list_%s.tsv.zip'% str(datetime.date.today())[0:7].replace('-', '_')\n",
    "gene_list.to_csv(filename, sep='\\t', index=False, compression='gzip')"
   ]
  },
  {
   "cell_type": "markdown",
   "metadata": {},
   "source": [
    "# Create Attribute List "
   ]
  },
  {
   "cell_type": "code",
   "execution_count": 57,
   "metadata": {
    "collapsed": true
   },
   "outputs": [],
   "source": [
    "attribute_list = uf.createAttributeList(binary_matrix)"
   ]
  },
  {
   "cell_type": "code",
   "execution_count": 58,
   "metadata": {},
   "outputs": [
    {
     "data": {
      "text/html": [
       "<div>\n",
       "<style scoped>\n",
       "    .dataframe tbody tr th:only-of-type {\n",
       "        vertical-align: middle;\n",
       "    }\n",
       "\n",
       "    .dataframe tbody tr th {\n",
       "        vertical-align: top;\n",
       "    }\n",
       "\n",
       "    .dataframe thead th {\n",
       "        text-align: right;\n",
       "    }\n",
       "</style>\n",
       "<table border=\"1\" class=\"dataframe\">\n",
       "  <thead>\n",
       "    <tr style=\"text-align: right;\">\n",
       "      <th></th>\n",
       "    </tr>\n",
       "    <tr>\n",
       "      <th>Attributes</th>\n",
       "    </tr>\n",
       "  </thead>\n",
       "  <tbody>\n",
       "    <tr>\n",
       "      <th>G-protein coupled receptor internalization (GO:0002031)</th>\n",
       "    </tr>\n",
       "    <tr>\n",
       "      <th>positive regulation of posttranscriptional gene silencing (GO:0060148)</th>\n",
       "    </tr>\n",
       "    <tr>\n",
       "      <th>regulation of cell cycle process (GO:0010564)</th>\n",
       "    </tr>\n",
       "    <tr>\n",
       "      <th>angiotensin-activated signaling pathway (GO:0038166)</th>\n",
       "    </tr>\n",
       "    <tr>\n",
       "      <th>cell chemotaxis to vascular endothelial growth factor (GO:0090667)</th>\n",
       "    </tr>\n",
       "  </tbody>\n",
       "</table>\n",
       "</div>"
      ],
      "text/plain": [
       "Empty DataFrame\n",
       "Columns: []\n",
       "Index: [G-protein coupled receptor internalization (GO:0002031), positive regulation of posttranscriptional gene silencing (GO:0060148), regulation of cell cycle process (GO:0010564), angiotensin-activated signaling pathway (GO:0038166), cell chemotaxis to vascular endothelial growth factor (GO:0090667)]"
      ]
     },
     "execution_count": 58,
     "metadata": {},
     "output_type": "execute_result"
    }
   ],
   "source": [
    "attribute_list.head()"
   ]
  },
  {
   "cell_type": "code",
   "execution_count": 59,
   "metadata": {},
   "outputs": [
    {
     "data": {
      "text/plain": [
       "(11947, 0)"
      ]
     },
     "execution_count": 59,
     "metadata": {},
     "output_type": "execute_result"
    }
   ],
   "source": [
    "attribute_list.shape"
   ]
  },
  {
   "cell_type": "markdown",
   "metadata": {},
   "source": [
    "# Save Attribute List"
   ]
  },
  {
   "cell_type": "code",
   "execution_count": 60,
   "metadata": {
    "collapsed": true
   },
   "outputs": [],
   "source": [
    "filename = '~/./Documents/Harmonizome/GO/output/go_biological_process_attribute_list_%s.tsv.zip'% str(datetime.date.today())[0:7].replace('-', '_')\n",
    "attribute_list.to_csv(filename, sep='\\t', index=False, compression='gzip')"
   ]
  },
  {
   "cell_type": "markdown",
   "metadata": {},
   "source": [
    "# Create Gene-Attribute Edge List"
   ]
  },
  {
   "cell_type": "code",
   "execution_count": 61,
   "metadata": {
    "collapsed": true
   },
   "outputs": [],
   "source": [
    "path = '/Users/moshesilverstein/Documents/Harmonizome/GO/output/'"
   ]
  },
  {
   "cell_type": "code",
   "execution_count": 62,
   "metadata": {
    "collapsed": true
   },
   "outputs": [],
   "source": [
    "name = 'go_biological_process_gene_attribute_edge_list'"
   ]
  },
  {
   "cell_type": "code",
   "execution_count": 64,
   "metadata": {},
   "outputs": [
    {
     "name": "stdout",
     "output_type": "stream",
     "text": [
      "Progeres: 100%  11947 Out of 11947   \n",
      "\n",
      " The number of statisticaly relevent gene-attribute associations is: 195513\n"
     ]
    }
   ],
   "source": [
    "uf.createGeneAttributeEdgeList(binary_matrix, attribute_list, gene_list, path, name)"
   ]
  }
 ],
 "metadata": {
  "kernelspec": {
   "display_name": "Python 3",
   "language": "python",
   "name": "python3"
  },
  "language_info": {
   "codemirror_mode": {
    "name": "ipython",
    "version": 3
   },
   "file_extension": ".py",
   "mimetype": "text/x-python",
   "name": "python",
   "nbconvert_exporter": "python",
   "pygments_lexer": "ipython3",
   "version": "3.6.4"
  }
 },
 "nbformat": 4,
 "nbformat_minor": 2
}
