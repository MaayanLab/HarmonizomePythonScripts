{
 "cells": [
  {
   "cell_type": "markdown",
   "metadata": {},
   "source": [
    "# Gene Ontology (GO) Cellular Component"
   ]
  },
  {
   "cell_type": "markdown",
   "metadata": {},
   "source": [
    "Author: Moshe Silverstein <br/>\n",
    "Date: 03-2018 <br/>\n",
    "Data Downloaded: 03-2018 <br/>\n",
    "Data Source Home: http://www.geneontology.org/ <br/>\n",
    "Data Source Dowaload: http://www.geneontology.org/page/download-go-annotations"
   ]
  },
  {
   "cell_type": "code",
   "execution_count": 1,
   "metadata": {
    "collapsed": true
   },
   "outputs": [],
   "source": [
    "import sys, datetime\n",
    "import numpy as np\n",
    "import pandas as pd\n",
    "import importlib\n",
    "import untility_functions as uf\n",
    "import goenrich\n",
    "%matplotlib inline"
   ]
  },
  {
   "cell_type": "code",
   "execution_count": 65,
   "metadata": {
    "collapsed": true
   },
   "outputs": [],
   "source": [
    "from clustergrammer_widget import *\n",
    "net = Network(clustergrammer_widget)"
   ]
  },
  {
   "cell_type": "code",
   "execution_count": 2,
   "metadata": {},
   "outputs": [
    {
     "data": {
      "text/plain": [
       "<module 'untility_functions' from '/Users/moshesilverstein/Documents/Harmonizome/GO/untility_functions.py'>"
      ]
     },
     "execution_count": 2,
     "metadata": {},
     "output_type": "execute_result"
    }
   ],
   "source": [
    "importlib.reload(uf)"
   ]
  },
  {
   "cell_type": "markdown",
   "metadata": {},
   "source": [
    "# Versions Of Modules In Use"
   ]
  },
  {
   "cell_type": "code",
   "execution_count": 3,
   "metadata": {},
   "outputs": [
    {
     "data": {
      "application/json": {
       "Software versions": [
        {
         "module": "Python",
         "version": "3.5.2 64bit [GCC 4.2.1 Compatible Apple LLVM 4.2 (clang-425.0.28)]"
        },
        {
         "module": "IPython",
         "version": "5.3.0"
        },
        {
         "module": "OS",
         "version": "Darwin 17.2.0 x86_64 i386 64bit"
        },
        {
         "module": "numpy",
         "version": "1.13.1"
        },
        {
         "module": "pandas",
         "version": "0.21.0"
        },
        {
         "module": "clustergrammer_widget",
         "version": "1.9.0"
        }
       ]
      },
      "text/html": [
       "<table><tr><th>Software</th><th>Version</th></tr><tr><td>Python</td><td>3.5.2 64bit [GCC 4.2.1 Compatible Apple LLVM 4.2 (clang-425.0.28)]</td></tr><tr><td>IPython</td><td>5.3.0</td></tr><tr><td>OS</td><td>Darwin 17.2.0 x86_64 i386 64bit</td></tr><tr><td>numpy</td><td>1.13.1</td></tr><tr><td>pandas</td><td>0.21.0</td></tr><tr><td>clustergrammer_widget</td><td>1.9.0</td></tr><tr><td colspan='2'>Thu Mar 22 16:55:23 2018 EDT</td></tr></table>"
      ],
      "text/latex": [
       "\\begin{tabular}{|l|l|}\\hline\n",
       "{\\bf Software} & {\\bf Version} \\\\ \\hline\\hline\n",
       "Python & 3.5.2 64bit [GCC 4.2.1 Compatible Apple LLVM 4.2 (clang-425.0.28)] \\\\ \\hline\n",
       "IPython & 5.3.0 \\\\ \\hline\n",
       "OS & Darwin 17.2.0 x86\\_64 i386 64bit \\\\ \\hline\n",
       "numpy & 1.13.1 \\\\ \\hline\n",
       "pandas & 0.21.0 \\\\ \\hline\n",
       "clustergrammer_widget & 1.9.0 \\\\ \\hline\n",
       "\\hline \\multicolumn{2}{|l|}{Thu Mar 22 16:55:23 2018 EDT} \\\\ \\hline\n",
       "\\end{tabular}\n"
      ],
      "text/plain": [
       "Software versions\n",
       "Python 3.5.2 64bit [GCC 4.2.1 Compatible Apple LLVM 4.2 (clang-425.0.28)]\n",
       "IPython 5.3.0\n",
       "OS Darwin 17.2.0 x86_64 i386 64bit\n",
       "numpy 1.13.1\n",
       "pandas 0.21.0\n",
       "clustergrammer_widget 1.9.0\n",
       "Thu Mar 22 16:55:23 2018 EDT"
      ]
     },
     "execution_count": 3,
     "metadata": {},
     "output_type": "execute_result"
    }
   ],
   "source": [
    "%load_ext version_information\n",
    "%version_information numpy, pandas, clustergrammer_widget "
   ]
  },
  {
   "cell_type": "markdown",
   "metadata": {},
   "source": [
    "# Load Data"
   ]
  },
  {
   "cell_type": "code",
   "execution_count": 4,
   "metadata": {
    "collapsed": true
   },
   "outputs": [],
   "source": [
    "df1 = pd.read_csv('input/goa_human.gaf', sep='~', skiprows=23, header=None, index_col=False)"
   ]
  },
  {
   "cell_type": "code",
   "execution_count": 5,
   "metadata": {},
   "outputs": [
    {
     "data": {
      "text/html": [
       "<div>\n",
       "<style scoped>\n",
       "    .dataframe tbody tr th:only-of-type {\n",
       "        vertical-align: middle;\n",
       "    }\n",
       "\n",
       "    .dataframe tbody tr th {\n",
       "        vertical-align: top;\n",
       "    }\n",
       "\n",
       "    .dataframe thead th {\n",
       "        text-align: right;\n",
       "    }\n",
       "</style>\n",
       "<table border=\"1\" class=\"dataframe\">\n",
       "  <thead>\n",
       "    <tr style=\"text-align: right;\">\n",
       "      <th></th>\n",
       "      <th>0</th>\n",
       "    </tr>\n",
       "  </thead>\n",
       "  <tbody>\n",
       "    <tr>\n",
       "      <th>0</th>\n",
       "      <td>UniProtKB\\tA0A024R161\\tDNAJC25-GNG10\\t\\tGO:000...</td>\n",
       "    </tr>\n",
       "    <tr>\n",
       "      <th>1</th>\n",
       "      <td>UniProtKB\\tA0A024R161\\tDNAJC25-GNG10\\t\\tGO:000...</td>\n",
       "    </tr>\n",
       "    <tr>\n",
       "      <th>2</th>\n",
       "      <td>UniProtKB\\tA0A024R161\\tDNAJC25-GNG10\\t\\tGO:000...</td>\n",
       "    </tr>\n",
       "    <tr>\n",
       "      <th>3</th>\n",
       "      <td>UniProtKB\\tA0A075B6H7\\tIGKV3-7\\t\\tGO:0002377\\t...</td>\n",
       "    </tr>\n",
       "    <tr>\n",
       "      <th>4</th>\n",
       "      <td>UniProtKB\\tA0A075B6H7\\tIGKV3-7\\t\\tGO:0005615\\t...</td>\n",
       "    </tr>\n",
       "  </tbody>\n",
       "</table>\n",
       "</div>"
      ],
      "text/plain": [
       "                                                   0\n",
       "0  UniProtKB\\tA0A024R161\\tDNAJC25-GNG10\\t\\tGO:000...\n",
       "1  UniProtKB\\tA0A024R161\\tDNAJC25-GNG10\\t\\tGO:000...\n",
       "2  UniProtKB\\tA0A024R161\\tDNAJC25-GNG10\\t\\tGO:000...\n",
       "3  UniProtKB\\tA0A075B6H7\\tIGKV3-7\\t\\tGO:0002377\\t...\n",
       "4  UniProtKB\\tA0A075B6H7\\tIGKV3-7\\t\\tGO:0005615\\t..."
      ]
     },
     "execution_count": 5,
     "metadata": {},
     "output_type": "execute_result"
    }
   ],
   "source": [
    "df1.head()"
   ]
  },
  {
   "cell_type": "code",
   "execution_count": 6,
   "metadata": {},
   "outputs": [
    {
     "data": {
      "text/plain": [
       "(496852, 1)"
      ]
     },
     "execution_count": 6,
     "metadata": {},
     "output_type": "execute_result"
    }
   ],
   "source": [
    "df1.shape"
   ]
  },
  {
   "cell_type": "code",
   "execution_count": 7,
   "metadata": {},
   "outputs": [
    {
     "name": "stdout",
     "output_type": "stream",
     "text": [
      "Progress: 99%  495412 Out of 496852   \r"
     ]
    }
   ],
   "source": [
    "# df = pd.DataFrame()\n",
    "\n",
    "matrix = np.chararray((df1.shape[0], 16), itemsize=150, unicode=True)\n",
    "\n",
    "# for i, index in enumerate(df1.index):\n",
    "for i, row in enumerate(df1.itertuples()):\n",
    "    \n",
    "    progressPercent = ((i+1)/len(df1.index))*100\n",
    "\n",
    "    sys.stdout.write(\"Progress: %d%%  %d Out of %d   \\r\" % (progressPercent, (i+1), len(df1.index)))\n",
    "    sys.stdout.flush()\n",
    "    \n",
    "#     lst = df1.loc[index, 0].split('\\t')\n",
    "    lst = row[1].split('\\t')\n",
    "    if len(lst) == 15:\n",
    "        lst.append(np.nan)\n",
    "    matrix[i, :] = lst\n",
    "#     temp = pd.DataFrame(data = lst)\n",
    "#     df = pd.concat([df, temp.T])\n",
    "\n",
    "df = pd.DataFrame(data=matrix)"
   ]
  },
  {
   "cell_type": "code",
   "execution_count": 8,
   "metadata": {},
   "outputs": [
    {
     "data": {
      "text/html": [
       "<div>\n",
       "<style scoped>\n",
       "    .dataframe tbody tr th:only-of-type {\n",
       "        vertical-align: middle;\n",
       "    }\n",
       "\n",
       "    .dataframe tbody tr th {\n",
       "        vertical-align: top;\n",
       "    }\n",
       "\n",
       "    .dataframe thead th {\n",
       "        text-align: right;\n",
       "    }\n",
       "</style>\n",
       "<table border=\"1\" class=\"dataframe\">\n",
       "  <thead>\n",
       "    <tr style=\"text-align: right;\">\n",
       "      <th></th>\n",
       "      <th>0</th>\n",
       "      <th>1</th>\n",
       "      <th>2</th>\n",
       "      <th>3</th>\n",
       "      <th>4</th>\n",
       "      <th>5</th>\n",
       "      <th>6</th>\n",
       "      <th>7</th>\n",
       "      <th>8</th>\n",
       "      <th>9</th>\n",
       "      <th>10</th>\n",
       "      <th>11</th>\n",
       "      <th>12</th>\n",
       "      <th>13</th>\n",
       "      <th>14</th>\n",
       "      <th>15</th>\n",
       "    </tr>\n",
       "  </thead>\n",
       "  <tbody>\n",
       "    <tr>\n",
       "      <th>0</th>\n",
       "      <td>UniProtKB</td>\n",
       "      <td>A0A024R161</td>\n",
       "      <td>DNAJC25-GNG10</td>\n",
       "      <td></td>\n",
       "      <td>GO:0004871</td>\n",
       "      <td>GO_REF:0000038</td>\n",
       "      <td>IEA</td>\n",
       "      <td>UniProtKB-KW:KW-0807</td>\n",
       "      <td>F</td>\n",
       "      <td>Guanine nucleotide-binding protein subunit gamma</td>\n",
       "      <td>A0A024R161_HUMAN|DNAJC25-GNG10|hCG_1994888</td>\n",
       "      <td>protein</td>\n",
       "      <td>taxon:9606</td>\n",
       "      <td>20180224</td>\n",
       "      <td>UniProt</td>\n",
       "      <td>nan</td>\n",
       "    </tr>\n",
       "    <tr>\n",
       "      <th>1</th>\n",
       "      <td>UniProtKB</td>\n",
       "      <td>A0A024R161</td>\n",
       "      <td>DNAJC25-GNG10</td>\n",
       "      <td></td>\n",
       "      <td>GO:0005834</td>\n",
       "      <td>GO_REF:0000002</td>\n",
       "      <td>IEA</td>\n",
       "      <td>InterPro:IPR001770|InterPro:IPR015898|InterPro...</td>\n",
       "      <td>C</td>\n",
       "      <td>Guanine nucleotide-binding protein subunit gamma</td>\n",
       "      <td>A0A024R161_HUMAN|DNAJC25-GNG10|hCG_1994888</td>\n",
       "      <td>protein</td>\n",
       "      <td>taxon:9606</td>\n",
       "      <td>20180224</td>\n",
       "      <td>InterPro</td>\n",
       "      <td>nan</td>\n",
       "    </tr>\n",
       "    <tr>\n",
       "      <th>2</th>\n",
       "      <td>UniProtKB</td>\n",
       "      <td>A0A024R161</td>\n",
       "      <td>DNAJC25-GNG10</td>\n",
       "      <td></td>\n",
       "      <td>GO:0007186</td>\n",
       "      <td>GO_REF:0000002</td>\n",
       "      <td>IEA</td>\n",
       "      <td>InterPro:IPR001770|InterPro:IPR015898|InterPro...</td>\n",
       "      <td>P</td>\n",
       "      <td>Guanine nucleotide-binding protein subunit gamma</td>\n",
       "      <td>A0A024R161_HUMAN|DNAJC25-GNG10|hCG_1994888</td>\n",
       "      <td>protein</td>\n",
       "      <td>taxon:9606</td>\n",
       "      <td>20180224</td>\n",
       "      <td>InterPro</td>\n",
       "      <td>nan</td>\n",
       "    </tr>\n",
       "    <tr>\n",
       "      <th>3</th>\n",
       "      <td>UniProtKB</td>\n",
       "      <td>A0A075B6H7</td>\n",
       "      <td>IGKV3-7</td>\n",
       "      <td></td>\n",
       "      <td>GO:0002377</td>\n",
       "      <td>GO_REF:0000033</td>\n",
       "      <td>IBA</td>\n",
       "      <td>PANTHER:PTN000587099</td>\n",
       "      <td>P</td>\n",
       "      <td>Immunoglobulin kappa variable 3-7 (non-functio...</td>\n",
       "      <td>A0A075B6H7_HUMAN|IGKV3-7</td>\n",
       "      <td>protein</td>\n",
       "      <td>taxon:9606</td>\n",
       "      <td>20150528</td>\n",
       "      <td>GO_Central</td>\n",
       "      <td>nan</td>\n",
       "    </tr>\n",
       "    <tr>\n",
       "      <th>4</th>\n",
       "      <td>UniProtKB</td>\n",
       "      <td>A0A075B6H7</td>\n",
       "      <td>IGKV3-7</td>\n",
       "      <td></td>\n",
       "      <td>GO:0005615</td>\n",
       "      <td>GO_REF:0000033</td>\n",
       "      <td>IBA</td>\n",
       "      <td>PANTHER:PTN000587099</td>\n",
       "      <td>C</td>\n",
       "      <td>Immunoglobulin kappa variable 3-7 (non-functio...</td>\n",
       "      <td>A0A075B6H7_HUMAN|IGKV3-7</td>\n",
       "      <td>protein</td>\n",
       "      <td>taxon:9606</td>\n",
       "      <td>20150528</td>\n",
       "      <td>GO_Central</td>\n",
       "      <td>nan</td>\n",
       "    </tr>\n",
       "  </tbody>\n",
       "</table>\n",
       "</div>"
      ],
      "text/plain": [
       "          0           1              2  3           4               5    6   \\\n",
       "0  UniProtKB  A0A024R161  DNAJC25-GNG10     GO:0004871  GO_REF:0000038  IEA   \n",
       "1  UniProtKB  A0A024R161  DNAJC25-GNG10     GO:0005834  GO_REF:0000002  IEA   \n",
       "2  UniProtKB  A0A024R161  DNAJC25-GNG10     GO:0007186  GO_REF:0000002  IEA   \n",
       "3  UniProtKB  A0A075B6H7        IGKV3-7     GO:0002377  GO_REF:0000033  IBA   \n",
       "4  UniProtKB  A0A075B6H7        IGKV3-7     GO:0005615  GO_REF:0000033  IBA   \n",
       "\n",
       "                                                  7  8   \\\n",
       "0                               UniProtKB-KW:KW-0807  F   \n",
       "1  InterPro:IPR001770|InterPro:IPR015898|InterPro...  C   \n",
       "2  InterPro:IPR001770|InterPro:IPR015898|InterPro...  P   \n",
       "3                               PANTHER:PTN000587099  P   \n",
       "4                               PANTHER:PTN000587099  C   \n",
       "\n",
       "                                                  9   \\\n",
       "0   Guanine nucleotide-binding protein subunit gamma   \n",
       "1   Guanine nucleotide-binding protein subunit gamma   \n",
       "2   Guanine nucleotide-binding protein subunit gamma   \n",
       "3  Immunoglobulin kappa variable 3-7 (non-functio...   \n",
       "4  Immunoglobulin kappa variable 3-7 (non-functio...   \n",
       "\n",
       "                                           10       11          12        13  \\\n",
       "0  A0A024R161_HUMAN|DNAJC25-GNG10|hCG_1994888  protein  taxon:9606  20180224   \n",
       "1  A0A024R161_HUMAN|DNAJC25-GNG10|hCG_1994888  protein  taxon:9606  20180224   \n",
       "2  A0A024R161_HUMAN|DNAJC25-GNG10|hCG_1994888  protein  taxon:9606  20180224   \n",
       "3                    A0A075B6H7_HUMAN|IGKV3-7  protein  taxon:9606  20150528   \n",
       "4                    A0A075B6H7_HUMAN|IGKV3-7  protein  taxon:9606  20150528   \n",
       "\n",
       "           14   15  \n",
       "0     UniProt  nan  \n",
       "1    InterPro  nan  \n",
       "2    InterPro  nan  \n",
       "3  GO_Central  nan  \n",
       "4  GO_Central  nan  "
      ]
     },
     "execution_count": 8,
     "metadata": {},
     "output_type": "execute_result"
    }
   ],
   "source": [
    "df.head()"
   ]
  },
  {
   "cell_type": "code",
   "execution_count": 9,
   "metadata": {},
   "outputs": [
    {
     "data": {
      "text/plain": [
       "(496852, 16)"
      ]
     },
     "execution_count": 9,
     "metadata": {},
     "output_type": "execute_result"
    }
   ],
   "source": [
    "df.shape"
   ]
  },
  {
   "cell_type": "markdown",
   "metadata": {},
   "source": [
    "# Get Relevent Columns and Data"
   ]
  },
  {
   "cell_type": "code",
   "execution_count": 10,
   "metadata": {
    "collapsed": true
   },
   "outputs": [],
   "source": [
    "columns = [\"DB\", \"DB Object ID\", \"DB Object Symbol\", \"Qualifier\", \"GO ID\", \"DB:Reference\", \"Evidence Code\", \n",
    "               \"With (or) From\", \"Aspect\", \"DB Object Name\", \"DB Object Synonym\", \"DB Object Type\", \"Taxon\", \n",
    "               \"Date\", \"Assigned By\", \"Annotation Extension\"]"
   ]
  },
  {
   "cell_type": "code",
   "execution_count": 11,
   "metadata": {},
   "outputs": [],
   "source": [
    "df.columns = columns"
   ]
  },
  {
   "cell_type": "code",
   "execution_count": 12,
   "metadata": {},
   "outputs": [
    {
     "data": {
      "text/html": [
       "<div>\n",
       "<style scoped>\n",
       "    .dataframe tbody tr th:only-of-type {\n",
       "        vertical-align: middle;\n",
       "    }\n",
       "\n",
       "    .dataframe tbody tr th {\n",
       "        vertical-align: top;\n",
       "    }\n",
       "\n",
       "    .dataframe thead th {\n",
       "        text-align: right;\n",
       "    }\n",
       "</style>\n",
       "<table border=\"1\" class=\"dataframe\">\n",
       "  <thead>\n",
       "    <tr style=\"text-align: right;\">\n",
       "      <th></th>\n",
       "      <th>DB</th>\n",
       "      <th>DB Object ID</th>\n",
       "      <th>DB Object Symbol</th>\n",
       "      <th>Qualifier</th>\n",
       "      <th>GO ID</th>\n",
       "      <th>DB:Reference</th>\n",
       "      <th>Evidence Code</th>\n",
       "      <th>With (or) From</th>\n",
       "      <th>Aspect</th>\n",
       "      <th>DB Object Name</th>\n",
       "      <th>DB Object Synonym</th>\n",
       "      <th>DB Object Type</th>\n",
       "      <th>Taxon</th>\n",
       "      <th>Date</th>\n",
       "      <th>Assigned By</th>\n",
       "      <th>Annotation Extension</th>\n",
       "    </tr>\n",
       "  </thead>\n",
       "  <tbody>\n",
       "    <tr>\n",
       "      <th>0</th>\n",
       "      <td>UniProtKB</td>\n",
       "      <td>A0A024R161</td>\n",
       "      <td>DNAJC25-GNG10</td>\n",
       "      <td></td>\n",
       "      <td>GO:0004871</td>\n",
       "      <td>GO_REF:0000038</td>\n",
       "      <td>IEA</td>\n",
       "      <td>UniProtKB-KW:KW-0807</td>\n",
       "      <td>F</td>\n",
       "      <td>Guanine nucleotide-binding protein subunit gamma</td>\n",
       "      <td>A0A024R161_HUMAN|DNAJC25-GNG10|hCG_1994888</td>\n",
       "      <td>protein</td>\n",
       "      <td>taxon:9606</td>\n",
       "      <td>20180224</td>\n",
       "      <td>UniProt</td>\n",
       "      <td>nan</td>\n",
       "    </tr>\n",
       "    <tr>\n",
       "      <th>1</th>\n",
       "      <td>UniProtKB</td>\n",
       "      <td>A0A024R161</td>\n",
       "      <td>DNAJC25-GNG10</td>\n",
       "      <td></td>\n",
       "      <td>GO:0005834</td>\n",
       "      <td>GO_REF:0000002</td>\n",
       "      <td>IEA</td>\n",
       "      <td>InterPro:IPR001770|InterPro:IPR015898|InterPro...</td>\n",
       "      <td>C</td>\n",
       "      <td>Guanine nucleotide-binding protein subunit gamma</td>\n",
       "      <td>A0A024R161_HUMAN|DNAJC25-GNG10|hCG_1994888</td>\n",
       "      <td>protein</td>\n",
       "      <td>taxon:9606</td>\n",
       "      <td>20180224</td>\n",
       "      <td>InterPro</td>\n",
       "      <td>nan</td>\n",
       "    </tr>\n",
       "    <tr>\n",
       "      <th>2</th>\n",
       "      <td>UniProtKB</td>\n",
       "      <td>A0A024R161</td>\n",
       "      <td>DNAJC25-GNG10</td>\n",
       "      <td></td>\n",
       "      <td>GO:0007186</td>\n",
       "      <td>GO_REF:0000002</td>\n",
       "      <td>IEA</td>\n",
       "      <td>InterPro:IPR001770|InterPro:IPR015898|InterPro...</td>\n",
       "      <td>P</td>\n",
       "      <td>Guanine nucleotide-binding protein subunit gamma</td>\n",
       "      <td>A0A024R161_HUMAN|DNAJC25-GNG10|hCG_1994888</td>\n",
       "      <td>protein</td>\n",
       "      <td>taxon:9606</td>\n",
       "      <td>20180224</td>\n",
       "      <td>InterPro</td>\n",
       "      <td>nan</td>\n",
       "    </tr>\n",
       "    <tr>\n",
       "      <th>3</th>\n",
       "      <td>UniProtKB</td>\n",
       "      <td>A0A075B6H7</td>\n",
       "      <td>IGKV3-7</td>\n",
       "      <td></td>\n",
       "      <td>GO:0002377</td>\n",
       "      <td>GO_REF:0000033</td>\n",
       "      <td>IBA</td>\n",
       "      <td>PANTHER:PTN000587099</td>\n",
       "      <td>P</td>\n",
       "      <td>Immunoglobulin kappa variable 3-7 (non-functio...</td>\n",
       "      <td>A0A075B6H7_HUMAN|IGKV3-7</td>\n",
       "      <td>protein</td>\n",
       "      <td>taxon:9606</td>\n",
       "      <td>20150528</td>\n",
       "      <td>GO_Central</td>\n",
       "      <td>nan</td>\n",
       "    </tr>\n",
       "    <tr>\n",
       "      <th>4</th>\n",
       "      <td>UniProtKB</td>\n",
       "      <td>A0A075B6H7</td>\n",
       "      <td>IGKV3-7</td>\n",
       "      <td></td>\n",
       "      <td>GO:0005615</td>\n",
       "      <td>GO_REF:0000033</td>\n",
       "      <td>IBA</td>\n",
       "      <td>PANTHER:PTN000587099</td>\n",
       "      <td>C</td>\n",
       "      <td>Immunoglobulin kappa variable 3-7 (non-functio...</td>\n",
       "      <td>A0A075B6H7_HUMAN|IGKV3-7</td>\n",
       "      <td>protein</td>\n",
       "      <td>taxon:9606</td>\n",
       "      <td>20150528</td>\n",
       "      <td>GO_Central</td>\n",
       "      <td>nan</td>\n",
       "    </tr>\n",
       "  </tbody>\n",
       "</table>\n",
       "</div>"
      ],
      "text/plain": [
       "          DB DB Object ID DB Object Symbol Qualifier       GO ID  \\\n",
       "0  UniProtKB   A0A024R161    DNAJC25-GNG10            GO:0004871   \n",
       "1  UniProtKB   A0A024R161    DNAJC25-GNG10            GO:0005834   \n",
       "2  UniProtKB   A0A024R161    DNAJC25-GNG10            GO:0007186   \n",
       "3  UniProtKB   A0A075B6H7          IGKV3-7            GO:0002377   \n",
       "4  UniProtKB   A0A075B6H7          IGKV3-7            GO:0005615   \n",
       "\n",
       "     DB:Reference Evidence Code  \\\n",
       "0  GO_REF:0000038           IEA   \n",
       "1  GO_REF:0000002           IEA   \n",
       "2  GO_REF:0000002           IEA   \n",
       "3  GO_REF:0000033           IBA   \n",
       "4  GO_REF:0000033           IBA   \n",
       "\n",
       "                                      With (or) From Aspect  \\\n",
       "0                               UniProtKB-KW:KW-0807      F   \n",
       "1  InterPro:IPR001770|InterPro:IPR015898|InterPro...      C   \n",
       "2  InterPro:IPR001770|InterPro:IPR015898|InterPro...      P   \n",
       "3                               PANTHER:PTN000587099      P   \n",
       "4                               PANTHER:PTN000587099      C   \n",
       "\n",
       "                                      DB Object Name  \\\n",
       "0   Guanine nucleotide-binding protein subunit gamma   \n",
       "1   Guanine nucleotide-binding protein subunit gamma   \n",
       "2   Guanine nucleotide-binding protein subunit gamma   \n",
       "3  Immunoglobulin kappa variable 3-7 (non-functio...   \n",
       "4  Immunoglobulin kappa variable 3-7 (non-functio...   \n",
       "\n",
       "                            DB Object Synonym DB Object Type       Taxon  \\\n",
       "0  A0A024R161_HUMAN|DNAJC25-GNG10|hCG_1994888        protein  taxon:9606   \n",
       "1  A0A024R161_HUMAN|DNAJC25-GNG10|hCG_1994888        protein  taxon:9606   \n",
       "2  A0A024R161_HUMAN|DNAJC25-GNG10|hCG_1994888        protein  taxon:9606   \n",
       "3                    A0A075B6H7_HUMAN|IGKV3-7        protein  taxon:9606   \n",
       "4                    A0A075B6H7_HUMAN|IGKV3-7        protein  taxon:9606   \n",
       "\n",
       "       Date Assigned By Annotation Extension  \n",
       "0  20180224     UniProt                  nan  \n",
       "1  20180224    InterPro                  nan  \n",
       "2  20180224    InterPro                  nan  \n",
       "3  20150528  GO_Central                  nan  \n",
       "4  20150528  GO_Central                  nan  "
      ]
     },
     "execution_count": 12,
     "metadata": {},
     "output_type": "execute_result"
    }
   ],
   "source": [
    "df.head()"
   ]
  },
  {
   "cell_type": "markdown",
   "metadata": {},
   "source": [
    "#### Get Only Cellular Component Data"
   ]
  },
  {
   "cell_type": "code",
   "execution_count": 13,
   "metadata": {
    "collapsed": true
   },
   "outputs": [],
   "source": [
    "df = df[df['Aspect']=='C'].copy()"
   ]
  },
  {
   "cell_type": "markdown",
   "metadata": {},
   "source": [
    "#### Drop All Data That Is Inferred from Electronic Annotation"
   ]
  },
  {
   "cell_type": "code",
   "execution_count": 14,
   "metadata": {
    "collapsed": true
   },
   "outputs": [],
   "source": [
    "df = df[~df['Evidence Code'].isin(['IEA'])]"
   ]
  },
  {
   "cell_type": "markdown",
   "metadata": {},
   "source": [
    "#### Drop All 'Non' in Qualifier "
   ]
  },
  {
   "cell_type": "code",
   "execution_count": 15,
   "metadata": {
    "collapsed": true
   },
   "outputs": [],
   "source": [
    "df = df[~df['Qualifier'].isin(['NOT'])]"
   ]
  },
  {
   "cell_type": "code",
   "execution_count": 16,
   "metadata": {
    "collapsed": true
   },
   "outputs": [],
   "source": [
    "df = df[['DB Object Symbol', 'GO ID']]"
   ]
  },
  {
   "cell_type": "code",
   "execution_count": 17,
   "metadata": {
    "collapsed": true
   },
   "outputs": [],
   "source": [
    "df.reset_index(inplace=True)"
   ]
  },
  {
   "cell_type": "code",
   "execution_count": 18,
   "metadata": {
    "collapsed": true
   },
   "outputs": [],
   "source": [
    "df.drop('index', axis=1, inplace=True)"
   ]
  },
  {
   "cell_type": "code",
   "execution_count": 19,
   "metadata": {},
   "outputs": [
    {
     "data": {
      "text/html": [
       "<div>\n",
       "<style scoped>\n",
       "    .dataframe tbody tr th:only-of-type {\n",
       "        vertical-align: middle;\n",
       "    }\n",
       "\n",
       "    .dataframe tbody tr th {\n",
       "        vertical-align: top;\n",
       "    }\n",
       "\n",
       "    .dataframe thead th {\n",
       "        text-align: right;\n",
       "    }\n",
       "</style>\n",
       "<table border=\"1\" class=\"dataframe\">\n",
       "  <thead>\n",
       "    <tr style=\"text-align: right;\">\n",
       "      <th></th>\n",
       "      <th>DB Object Symbol</th>\n",
       "      <th>GO ID</th>\n",
       "    </tr>\n",
       "  </thead>\n",
       "  <tbody>\n",
       "    <tr>\n",
       "      <th>0</th>\n",
       "      <td>IGKV3-7</td>\n",
       "      <td>GO:0005615</td>\n",
       "    </tr>\n",
       "    <tr>\n",
       "      <th>1</th>\n",
       "      <td>IGKV1D-42</td>\n",
       "      <td>GO:0005615</td>\n",
       "    </tr>\n",
       "    <tr>\n",
       "      <th>2</th>\n",
       "      <td>IGLV4-69</td>\n",
       "      <td>GO:0005615</td>\n",
       "    </tr>\n",
       "    <tr>\n",
       "      <th>3</th>\n",
       "      <td>IGLV8-61</td>\n",
       "      <td>GO:0005615</td>\n",
       "    </tr>\n",
       "    <tr>\n",
       "      <th>4</th>\n",
       "      <td>IGLV4-60</td>\n",
       "      <td>GO:0005615</td>\n",
       "    </tr>\n",
       "  </tbody>\n",
       "</table>\n",
       "</div>"
      ],
      "text/plain": [
       "  DB Object Symbol       GO ID\n",
       "0          IGKV3-7  GO:0005615\n",
       "1        IGKV1D-42  GO:0005615\n",
       "2         IGLV4-69  GO:0005615\n",
       "3         IGLV8-61  GO:0005615\n",
       "4         IGLV4-60  GO:0005615"
      ]
     },
     "execution_count": 19,
     "metadata": {},
     "output_type": "execute_result"
    }
   ],
   "source": [
    "df.head()"
   ]
  },
  {
   "cell_type": "code",
   "execution_count": 20,
   "metadata": {},
   "outputs": [
    {
     "data": {
      "text/plain": [
       "(141102, 2)"
      ]
     },
     "execution_count": 20,
     "metadata": {},
     "output_type": "execute_result"
    }
   ],
   "source": [
    "df.shape"
   ]
  },
  {
   "cell_type": "markdown",
   "metadata": {},
   "source": [
    "# Load Gene Ontology Tree Digraph"
   ]
  },
  {
   "cell_type": "code",
   "execution_count": 21,
   "metadata": {
    "collapsed": true
   },
   "outputs": [],
   "source": [
    "digraph = goenrich.obo.ontology('input/go-basic.ob')"
   ]
  },
  {
   "cell_type": "markdown",
   "metadata": {},
   "source": [
    "# Keep Only Terms With a Tree Depth of 4 or Greater"
   ]
  },
  {
   "cell_type": "code",
   "execution_count": 22,
   "metadata": {},
   "outputs": [
    {
     "name": "stdout",
     "output_type": "stream",
     "text": [
      "Progress: 100%  141102 Out of 141102   \r"
     ]
    }
   ],
   "source": [
    "lst = []\n",
    "\n",
    "for i,index in enumerate(df.index):\n",
    "    \n",
    "    progressPercent = ((i+1)/len(df.index))*100\n",
    "\n",
    "    sys.stdout.write(\"Progress: %d%%  %d Out of %d   \\r\" % (progressPercent, (i+1), len(df.index)))\n",
    "    sys.stdout.flush()\n",
    "    \n",
    "    term = df.loc[index, 'GO ID']\n",
    "    if term in digraph.node:\n",
    "        if digraph.node[term]['depth'] >= 4:\n",
    "            lst.append(term)\n",
    "        else:\n",
    "            lst.append(np.nan)\n",
    "    else:\n",
    "        lst.append(np.nan)\n",
    "\n",
    "df['GO ID'] = lst"
   ]
  },
  {
   "cell_type": "code",
   "execution_count": 23,
   "metadata": {},
   "outputs": [
    {
     "data": {
      "text/plain": [
       "(141102, 2)"
      ]
     },
     "execution_count": 23,
     "metadata": {},
     "output_type": "execute_result"
    }
   ],
   "source": [
    "df.shape"
   ]
  },
  {
   "cell_type": "code",
   "execution_count": 24,
   "metadata": {
    "collapsed": true
   },
   "outputs": [],
   "source": [
    "df.dropna(inplace=True)"
   ]
  },
  {
   "cell_type": "code",
   "execution_count": 25,
   "metadata": {},
   "outputs": [
    {
     "data": {
      "text/plain": [
       "(79762, 2)"
      ]
     },
     "execution_count": 25,
     "metadata": {},
     "output_type": "execute_result"
    }
   ],
   "source": [
    "df.shape"
   ]
  },
  {
   "cell_type": "code",
   "execution_count": 26,
   "metadata": {},
   "outputs": [
    {
     "data": {
      "text/html": [
       "<div>\n",
       "<style scoped>\n",
       "    .dataframe tbody tr th:only-of-type {\n",
       "        vertical-align: middle;\n",
       "    }\n",
       "\n",
       "    .dataframe tbody tr th {\n",
       "        vertical-align: top;\n",
       "    }\n",
       "\n",
       "    .dataframe thead th {\n",
       "        text-align: right;\n",
       "    }\n",
       "</style>\n",
       "<table border=\"1\" class=\"dataframe\">\n",
       "  <thead>\n",
       "    <tr style=\"text-align: right;\">\n",
       "      <th></th>\n",
       "      <th>DB Object Symbol</th>\n",
       "      <th>GO ID</th>\n",
       "    </tr>\n",
       "  </thead>\n",
       "  <tbody>\n",
       "    <tr>\n",
       "      <th>64</th>\n",
       "      <td>A0A075B6Q4</td>\n",
       "      <td>GO:0005634</td>\n",
       "    </tr>\n",
       "    <tr>\n",
       "      <th>65</th>\n",
       "      <td>A0A075B6Q4</td>\n",
       "      <td>GO:0030688</td>\n",
       "    </tr>\n",
       "    <tr>\n",
       "      <th>66</th>\n",
       "      <td>A0A075B6Q4</td>\n",
       "      <td>GO:0031902</td>\n",
       "    </tr>\n",
       "    <tr>\n",
       "      <th>154</th>\n",
       "      <td>A0A087WVE0</td>\n",
       "      <td>GO:0005634</td>\n",
       "    </tr>\n",
       "    <tr>\n",
       "      <th>160</th>\n",
       "      <td>A0A087WWV3</td>\n",
       "      <td>GO:0005634</td>\n",
       "    </tr>\n",
       "  </tbody>\n",
       "</table>\n",
       "</div>"
      ],
      "text/plain": [
       "    DB Object Symbol       GO ID\n",
       "64        A0A075B6Q4  GO:0005634\n",
       "65        A0A075B6Q4  GO:0030688\n",
       "66        A0A075B6Q4  GO:0031902\n",
       "154       A0A087WVE0  GO:0005634\n",
       "160       A0A087WWV3  GO:0005634"
      ]
     },
     "execution_count": 26,
     "metadata": {},
     "output_type": "execute_result"
    }
   ],
   "source": [
    "df.head()"
   ]
  },
  {
   "cell_type": "markdown",
   "metadata": {},
   "source": [
    "# Term Propagation-propergate child gene term relationships to parent terms"
   ]
  },
  {
   "cell_type": "code",
   "execution_count": 27,
   "metadata": {},
   "outputs": [],
   "source": [
    "lst1 = []\n",
    "lst2 = []\n",
    "\n",
    "for i,index in enumerate(df.index):\n",
    "    \n",
    "#     progressPercent = ((i+1)/len(df.index))*100\n",
    "\n",
    "#     sys.stdout.write(\"Progress: %d%%  %d Out of %d   \\r\" % (progressPercent, (i+1), len(df.index)))\n",
    "#     sys.stdout.flush()\n",
    "    \n",
    "#     term = df.loc[index, 'GO ID']\n",
    "#     for parent in digraph.predecessors(term):\n",
    "#         if parent in digraph.node:\n",
    "#             if digraph.node[parent]['depth'] >= 4:\n",
    "#                 lst1.append(df.loc[index, 'DB Object Symbol'])\n",
    "#                 lst2.append(parent)\n",
    "#                 print(term, parent)\n",
    "    term = df.loc[index, 'GO ID']\n",
    "    for parent in digraph.successors(term):\n",
    "        if parent in digraph.node:\n",
    "            if digraph.node[parent]['depth'] >= 4:\n",
    "                lst1.append(df.loc[index, 'DB Object Symbol'])\n",
    "                lst2.append(parent)\n",
    "#                 print(term, parent)\n",
    "\n",
    "\n",
    "temp = pd.DataFrame()\n",
    "temp['DB Object Symbol'] = lst1\n",
    "temp['GO ID']  = lst2\n",
    "df = pd.concat([df, temp])\n",
    "df.reset_index(inplace=True)\n",
    "df.drop('index', axis=1, inplace=True)"
   ]
  },
  {
   "cell_type": "code",
   "execution_count": 28,
   "metadata": {},
   "outputs": [
    {
     "data": {
      "text/plain": [
       "(116752, 2)"
      ]
     },
     "execution_count": 28,
     "metadata": {},
     "output_type": "execute_result"
    }
   ],
   "source": [
    "df.shape"
   ]
  },
  {
   "cell_type": "markdown",
   "metadata": {},
   "source": [
    "# Map GO ID to Descriptive Name "
   ]
  },
  {
   "cell_type": "code",
   "execution_count": 29,
   "metadata": {},
   "outputs": [
    {
     "name": "stdout",
     "output_type": "stream",
     "text": [
      "Progress: 0%  180 Out of 116752   \r"
     ]
    },
    {
     "name": "stderr",
     "output_type": "stream",
     "text": [
      "/Users/moshesilverstein/anaconda/lib/python3.5/site-packages/ipykernel/__main__.py:10: DeprecationWarning: \n",
      ".ix is deprecated. Please use\n",
      ".loc for label based indexing or\n",
      ".iloc for positional indexing\n",
      "\n",
      "See the documentation here:\n",
      "http://pandas.pydata.org/pandas-docs/stable/indexing.html#ix-indexer-is-deprecated\n"
     ]
    },
    {
     "name": "stdout",
     "output_type": "stream",
     "text": [
      "Progress: 99%  116028 Out of 116752   \r"
     ]
    }
   ],
   "source": [
    "lst = []\n",
    "\n",
    "for i,index in enumerate(df.index):\n",
    "    \n",
    "    progressPercent = ((i+1)/len(df.index))*100\n",
    "\n",
    "    sys.stdout.write(\"Progress: %d%%  %d Out of %d   \\r\" % (progressPercent, (i+1), len(df.index)))\n",
    "    sys.stdout.flush()\n",
    "    \n",
    "    lst.append(str(digraph.node[df.ix[index, 'GO ID']]['name'])+' '+ '('+str(df.loc[index, 'GO ID'])+')')\n",
    "    \n",
    "df['GO ID'] = lst"
   ]
  },
  {
   "cell_type": "code",
   "execution_count": 30,
   "metadata": {
    "collapsed": true
   },
   "outputs": [],
   "source": [
    "df.head()"
   ]
  },
  {
   "cell_type": "markdown",
   "metadata": {},
   "source": [
    "# Map Gene Symbols To Up-to-date Approved Gene Symbols"
   ]
  },
  {
   "cell_type": "code",
   "execution_count": 31,
   "metadata": {
    "collapsed": true
   },
   "outputs": [],
   "source": [
    "df.set_index('DB Object Symbol', inplace=True)"
   ]
  },
  {
   "cell_type": "code",
   "execution_count": 32,
   "metadata": {},
   "outputs": [
    {
     "name": "stdout",
     "output_type": "stream",
     "text": [
      "Progeres: 99%  116215 Out of 116752   \r"
     ]
    }
   ],
   "source": [
    "uf.mapgenesymbols(df)"
   ]
  },
  {
   "cell_type": "code",
   "execution_count": 33,
   "metadata": {},
   "outputs": [],
   "source": [
    "df.shape"
   ]
  },
  {
   "cell_type": "markdown",
   "metadata": {},
   "source": [
    "# Drop Duplicates"
   ]
  },
  {
   "cell_type": "code",
   "execution_count": 34,
   "metadata": {
    "collapsed": true
   },
   "outputs": [],
   "source": [
    "df.reset_index(inplace=True)"
   ]
  },
  {
   "cell_type": "code",
   "execution_count": 35,
   "metadata": {
    "collapsed": true
   },
   "outputs": [],
   "source": [
    "df.drop_duplicates(inplace=True)"
   ]
  },
  {
   "cell_type": "code",
   "execution_count": 36,
   "metadata": {},
   "outputs": [],
   "source": [
    "df.shape"
   ]
  },
  {
   "cell_type": "markdown",
   "metadata": {},
   "source": [
    "# Create Binary Matrix"
   ]
  },
  {
   "cell_type": "code",
   "execution_count": 37,
   "metadata": {},
   "outputs": [
    {
     "name": "stdout",
     "output_type": "stream",
     "text": [
      "Progeres: 100%  12400 Out of 12400   \r"
     ]
    }
   ],
   "source": [
    "binary_matrix = uf.createBinaryMatrix(df)"
   ]
  },
  {
   "cell_type": "code",
   "execution_count": 38,
   "metadata": {},
   "outputs": [
    {
     "data": {
      "text/html": [
       "<div>\n",
       "<style scoped>\n",
       "    .dataframe tbody tr th:only-of-type {\n",
       "        vertical-align: middle;\n",
       "    }\n",
       "\n",
       "    .dataframe tbody tr th {\n",
       "        vertical-align: top;\n",
       "    }\n",
       "\n",
       "    .dataframe thead th {\n",
       "        text-align: right;\n",
       "    }\n",
       "</style>\n",
       "<table border=\"1\" class=\"dataframe\">\n",
       "  <thead>\n",
       "    <tr style=\"text-align: right;\">\n",
       "      <th></th>\n",
       "      <th>interleukin-23 receptor complex (GO:0072536)</th>\n",
       "      <th>dolichol-phosphate-mannose synthase complex (GO:0033185)</th>\n",
       "      <th>platelet dense granule (GO:0042827)</th>\n",
       "      <th>U11/U12 snRNP (GO:0034693)</th>\n",
       "      <th>integrin alpha10-beta1 complex (GO:0034680)</th>\n",
       "      <th>chromatoid body (GO:0033391)</th>\n",
       "      <th>Golgi trans cisterna (GO:0000138)</th>\n",
       "      <th>spectrin (GO:0008091)</th>\n",
       "      <th>elongin complex (GO:0070449)</th>\n",
       "      <th>cyclin A2-CDK2 complex (GO:0097124)</th>\n",
       "      <th>...</th>\n",
       "      <th>mitochondrial oxoglutarate dehydrogenase complex (GO:0009353)</th>\n",
       "      <th>terminal cisterna (GO:0014802)</th>\n",
       "      <th>varicosity (GO:0043196)</th>\n",
       "      <th>PR-DUB complex (GO:0035517)</th>\n",
       "      <th>cytoplasmic side of apical plasma membrane (GO:0098592)</th>\n",
       "      <th>ribosome (GO:0005840)</th>\n",
       "      <th>recycling endosome (GO:0055037)</th>\n",
       "      <th>alpha9-beta1 integrin-vascular cell adhesion molecule-1 complex (GO:0071065)</th>\n",
       "      <th>signal recognition particle, endoplasmic reticulum targeting (GO:0005786)</th>\n",
       "      <th>supraspliceosomal complex (GO:0044530)</th>\n",
       "    </tr>\n",
       "  </thead>\n",
       "  <tbody>\n",
       "    <tr>\n",
       "      <th>CD1C</th>\n",
       "      <td>0</td>\n",
       "      <td>0</td>\n",
       "      <td>0</td>\n",
       "      <td>0</td>\n",
       "      <td>0</td>\n",
       "      <td>0</td>\n",
       "      <td>0</td>\n",
       "      <td>0</td>\n",
       "      <td>0</td>\n",
       "      <td>0</td>\n",
       "      <td>...</td>\n",
       "      <td>0</td>\n",
       "      <td>0</td>\n",
       "      <td>0</td>\n",
       "      <td>0</td>\n",
       "      <td>0</td>\n",
       "      <td>0</td>\n",
       "      <td>0</td>\n",
       "      <td>0</td>\n",
       "      <td>0</td>\n",
       "      <td>0</td>\n",
       "    </tr>\n",
       "    <tr>\n",
       "      <th>ESRRG</th>\n",
       "      <td>0</td>\n",
       "      <td>0</td>\n",
       "      <td>0</td>\n",
       "      <td>0</td>\n",
       "      <td>0</td>\n",
       "      <td>0</td>\n",
       "      <td>0</td>\n",
       "      <td>0</td>\n",
       "      <td>0</td>\n",
       "      <td>0</td>\n",
       "      <td>...</td>\n",
       "      <td>0</td>\n",
       "      <td>0</td>\n",
       "      <td>0</td>\n",
       "      <td>0</td>\n",
       "      <td>0</td>\n",
       "      <td>0</td>\n",
       "      <td>0</td>\n",
       "      <td>0</td>\n",
       "      <td>0</td>\n",
       "      <td>0</td>\n",
       "    </tr>\n",
       "    <tr>\n",
       "      <th>BMT2</th>\n",
       "      <td>0</td>\n",
       "      <td>0</td>\n",
       "      <td>0</td>\n",
       "      <td>0</td>\n",
       "      <td>0</td>\n",
       "      <td>0</td>\n",
       "      <td>0</td>\n",
       "      <td>0</td>\n",
       "      <td>0</td>\n",
       "      <td>0</td>\n",
       "      <td>...</td>\n",
       "      <td>0</td>\n",
       "      <td>0</td>\n",
       "      <td>0</td>\n",
       "      <td>0</td>\n",
       "      <td>0</td>\n",
       "      <td>0</td>\n",
       "      <td>0</td>\n",
       "      <td>0</td>\n",
       "      <td>0</td>\n",
       "      <td>0</td>\n",
       "    </tr>\n",
       "    <tr>\n",
       "      <th>HGFAC</th>\n",
       "      <td>0</td>\n",
       "      <td>0</td>\n",
       "      <td>0</td>\n",
       "      <td>0</td>\n",
       "      <td>0</td>\n",
       "      <td>0</td>\n",
       "      <td>0</td>\n",
       "      <td>0</td>\n",
       "      <td>0</td>\n",
       "      <td>0</td>\n",
       "      <td>...</td>\n",
       "      <td>0</td>\n",
       "      <td>0</td>\n",
       "      <td>0</td>\n",
       "      <td>0</td>\n",
       "      <td>0</td>\n",
       "      <td>0</td>\n",
       "      <td>0</td>\n",
       "      <td>0</td>\n",
       "      <td>0</td>\n",
       "      <td>0</td>\n",
       "    </tr>\n",
       "    <tr>\n",
       "      <th>HLA-DQB1</th>\n",
       "      <td>0</td>\n",
       "      <td>0</td>\n",
       "      <td>0</td>\n",
       "      <td>0</td>\n",
       "      <td>0</td>\n",
       "      <td>0</td>\n",
       "      <td>0</td>\n",
       "      <td>0</td>\n",
       "      <td>0</td>\n",
       "      <td>0</td>\n",
       "      <td>...</td>\n",
       "      <td>0</td>\n",
       "      <td>0</td>\n",
       "      <td>0</td>\n",
       "      <td>0</td>\n",
       "      <td>0</td>\n",
       "      <td>0</td>\n",
       "      <td>0</td>\n",
       "      <td>0</td>\n",
       "      <td>0</td>\n",
       "      <td>0</td>\n",
       "    </tr>\n",
       "  </tbody>\n",
       "</table>\n",
       "<p>5 rows × 962 columns</p>\n",
       "</div>"
      ],
      "text/plain": [
       "          interleukin-23 receptor complex (GO:0072536)  \\\n",
       "CD1C                                                 0   \n",
       "ESRRG                                                0   \n",
       "BMT2                                                 0   \n",
       "HGFAC                                                0   \n",
       "HLA-DQB1                                             0   \n",
       "\n",
       "          dolichol-phosphate-mannose synthase complex (GO:0033185)  \\\n",
       "CD1C                                                      0          \n",
       "ESRRG                                                     0          \n",
       "BMT2                                                      0          \n",
       "HGFAC                                                     0          \n",
       "HLA-DQB1                                                  0          \n",
       "\n",
       "          platelet dense granule (GO:0042827)  U11/U12 snRNP (GO:0034693)  \\\n",
       "CD1C                                        0                           0   \n",
       "ESRRG                                       0                           0   \n",
       "BMT2                                        0                           0   \n",
       "HGFAC                                       0                           0   \n",
       "HLA-DQB1                                    0                           0   \n",
       "\n",
       "          integrin alpha10-beta1 complex (GO:0034680)  \\\n",
       "CD1C                                                0   \n",
       "ESRRG                                               0   \n",
       "BMT2                                                0   \n",
       "HGFAC                                               0   \n",
       "HLA-DQB1                                            0   \n",
       "\n",
       "          chromatoid body (GO:0033391)  Golgi trans cisterna (GO:0000138)  \\\n",
       "CD1C                                 0                                  0   \n",
       "ESRRG                                0                                  0   \n",
       "BMT2                                 0                                  0   \n",
       "HGFAC                                0                                  0   \n",
       "HLA-DQB1                             0                                  0   \n",
       "\n",
       "          spectrin (GO:0008091)  elongin complex (GO:0070449)  \\\n",
       "CD1C                          0                             0   \n",
       "ESRRG                         0                             0   \n",
       "BMT2                          0                             0   \n",
       "HGFAC                         0                             0   \n",
       "HLA-DQB1                      0                             0   \n",
       "\n",
       "          cyclin A2-CDK2 complex (GO:0097124)  \\\n",
       "CD1C                                        0   \n",
       "ESRRG                                       0   \n",
       "BMT2                                        0   \n",
       "HGFAC                                       0   \n",
       "HLA-DQB1                                    0   \n",
       "\n",
       "                           ...                    \\\n",
       "CD1C                       ...                     \n",
       "ESRRG                      ...                     \n",
       "BMT2                       ...                     \n",
       "HGFAC                      ...                     \n",
       "HLA-DQB1                   ...                     \n",
       "\n",
       "          mitochondrial oxoglutarate dehydrogenase complex (GO:0009353)  \\\n",
       "CD1C                                                      0               \n",
       "ESRRG                                                     0               \n",
       "BMT2                                                      0               \n",
       "HGFAC                                                     0               \n",
       "HLA-DQB1                                                  0               \n",
       "\n",
       "          terminal cisterna (GO:0014802)  varicosity (GO:0043196)  \\\n",
       "CD1C                                   0                        0   \n",
       "ESRRG                                  0                        0   \n",
       "BMT2                                   0                        0   \n",
       "HGFAC                                  0                        0   \n",
       "HLA-DQB1                               0                        0   \n",
       "\n",
       "          PR-DUB complex (GO:0035517)  \\\n",
       "CD1C                                0   \n",
       "ESRRG                               0   \n",
       "BMT2                                0   \n",
       "HGFAC                               0   \n",
       "HLA-DQB1                            0   \n",
       "\n",
       "          cytoplasmic side of apical plasma membrane (GO:0098592)  \\\n",
       "CD1C                                                      0         \n",
       "ESRRG                                                     0         \n",
       "BMT2                                                      0         \n",
       "HGFAC                                                     0         \n",
       "HLA-DQB1                                                  0         \n",
       "\n",
       "          ribosome (GO:0005840)  recycling endosome (GO:0055037)  \\\n",
       "CD1C                          0                                0   \n",
       "ESRRG                         0                                0   \n",
       "BMT2                          0                                0   \n",
       "HGFAC                         0                                0   \n",
       "HLA-DQB1                      0                                0   \n",
       "\n",
       "          alpha9-beta1 integrin-vascular cell adhesion molecule-1 complex (GO:0071065)  \\\n",
       "CD1C                                                      0                              \n",
       "ESRRG                                                     0                              \n",
       "BMT2                                                      0                              \n",
       "HGFAC                                                     0                              \n",
       "HLA-DQB1                                                  0                              \n",
       "\n",
       "          signal recognition particle, endoplasmic reticulum targeting (GO:0005786)  \\\n",
       "CD1C                                                      0                           \n",
       "ESRRG                                                     0                           \n",
       "BMT2                                                      0                           \n",
       "HGFAC                                                     0                           \n",
       "HLA-DQB1                                                  0                           \n",
       "\n",
       "          supraspliceosomal complex (GO:0044530)  \n",
       "CD1C                                           0  \n",
       "ESRRG                                          0  \n",
       "BMT2                                           0  \n",
       "HGFAC                                          0  \n",
       "HLA-DQB1                                       0  \n",
       "\n",
       "[5 rows x 962 columns]"
      ]
     },
     "execution_count": 38,
     "metadata": {},
     "output_type": "execute_result"
    }
   ],
   "source": [
    "binary_matrix.head()"
   ]
  },
  {
   "cell_type": "code",
   "execution_count": 39,
   "metadata": {},
   "outputs": [
    {
     "data": {
      "text/plain": [
       "(12400, 962)"
      ]
     },
     "execution_count": 39,
     "metadata": {},
     "output_type": "execute_result"
    }
   ],
   "source": [
    "binary_matrix.shape"
   ]
  },
  {
   "cell_type": "markdown",
   "metadata": {},
   "source": [
    "# Save Binary Matrix"
   ]
  },
  {
   "cell_type": "code",
   "execution_count": 40,
   "metadata": {
    "collapsed": true
   },
   "outputs": [],
   "source": [
    "filename = '~/./Documents/Harmonizome/GO/output/go_cellular_component_binary_matrix_%s.tsv.zip'% str(datetime.date.today())[0:7].replace('-', '_')\n",
    "binary_matrix.to_csv(filename, sep='\\t', compression='gzip')"
   ]
  },
  {
   "cell_type": "markdown",
   "metadata": {},
   "source": [
    "# Create Gene Set Library"
   ]
  },
  {
   "cell_type": "code",
   "execution_count": 41,
   "metadata": {
    "collapsed": true
   },
   "outputs": [],
   "source": [
    "path = '/Users/moshesilverstein/Documents/Harmonizome/GO/output/'"
   ]
  },
  {
   "cell_type": "code",
   "execution_count": 42,
   "metadata": {
    "collapsed": true
   },
   "outputs": [],
   "source": [
    "name = 'go_cellular_component_gene_set'"
   ]
  },
  {
   "cell_type": "code",
   "execution_count": 43,
   "metadata": {},
   "outputs": [
    {
     "name": "stdout",
     "output_type": "stream",
     "text": [
      "Progeres: 100%  962 Out of 962   \r"
     ]
    }
   ],
   "source": [
    "uf.createUpGeneSetLib(binary_matrix, path, name)"
   ]
  },
  {
   "cell_type": "markdown",
   "metadata": {},
   "source": [
    "# Create Attribute Library"
   ]
  },
  {
   "cell_type": "code",
   "execution_count": 44,
   "metadata": {
    "collapsed": true
   },
   "outputs": [],
   "source": [
    "path = '/Users/moshesilverstein/Documents/Harmonizome/GO/output/'"
   ]
  },
  {
   "cell_type": "code",
   "execution_count": 45,
   "metadata": {
    "collapsed": true
   },
   "outputs": [],
   "source": [
    "name = 'go_cellular_component_attribute_set'"
   ]
  },
  {
   "cell_type": "code",
   "execution_count": 46,
   "metadata": {},
   "outputs": [
    {
     "name": "stdout",
     "output_type": "stream",
     "text": [
      "Progeres: 100%  12400 Out of 12400   \r"
     ]
    }
   ],
   "source": [
    "uf.createUpAttributeSetLib(binary_matrix, path, name)"
   ]
  },
  {
   "cell_type": "markdown",
   "metadata": {},
   "source": [
    "# Create Gene Similarity Matrix"
   ]
  },
  {
   "cell_type": "code",
   "execution_count": 47,
   "metadata": {
    "collapsed": true
   },
   "outputs": [],
   "source": [
    "gene_similarity_matix = uf.createSimilarityMatrix(binary_matrix, 'jaccard')"
   ]
  },
  {
   "cell_type": "code",
   "execution_count": 48,
   "metadata": {},
   "outputs": [
    {
     "data": {
      "text/html": [
       "<div>\n",
       "<style scoped>\n",
       "    .dataframe tbody tr th:only-of-type {\n",
       "        vertical-align: middle;\n",
       "    }\n",
       "\n",
       "    .dataframe tbody tr th {\n",
       "        vertical-align: top;\n",
       "    }\n",
       "\n",
       "    .dataframe thead th {\n",
       "        text-align: right;\n",
       "    }\n",
       "</style>\n",
       "<table border=\"1\" class=\"dataframe\">\n",
       "  <thead>\n",
       "    <tr style=\"text-align: right;\">\n",
       "      <th></th>\n",
       "      <th>CD1C</th>\n",
       "      <th>ESRRG</th>\n",
       "      <th>BMT2</th>\n",
       "      <th>HGFAC</th>\n",
       "      <th>HLA-DQB1</th>\n",
       "      <th>ARRB1</th>\n",
       "      <th>PRLR</th>\n",
       "      <th>BCR</th>\n",
       "      <th>MTNR1B</th>\n",
       "      <th>IER3IP1</th>\n",
       "      <th>...</th>\n",
       "      <th>PEX12</th>\n",
       "      <th>KLHL18</th>\n",
       "      <th>ACAP2</th>\n",
       "      <th>SMAD4</th>\n",
       "      <th>FAM9C</th>\n",
       "      <th>PCK2</th>\n",
       "      <th>EIF3I</th>\n",
       "      <th>SLC38A7</th>\n",
       "      <th>UGDH</th>\n",
       "      <th>SNRPD1</th>\n",
       "    </tr>\n",
       "    <tr>\n",
       "      <th></th>\n",
       "      <th></th>\n",
       "      <th></th>\n",
       "      <th></th>\n",
       "      <th></th>\n",
       "      <th></th>\n",
       "      <th></th>\n",
       "      <th></th>\n",
       "      <th></th>\n",
       "      <th></th>\n",
       "      <th></th>\n",
       "      <th></th>\n",
       "      <th></th>\n",
       "      <th></th>\n",
       "      <th></th>\n",
       "      <th></th>\n",
       "      <th></th>\n",
       "      <th></th>\n",
       "      <th></th>\n",
       "      <th></th>\n",
       "      <th></th>\n",
       "      <th></th>\n",
       "    </tr>\n",
       "  </thead>\n",
       "  <tbody>\n",
       "    <tr>\n",
       "      <th>CD1C</th>\n",
       "      <td>1.0</td>\n",
       "      <td>0.000000</td>\n",
       "      <td>0.000000</td>\n",
       "      <td>0.0</td>\n",
       "      <td>0.0</td>\n",
       "      <td>0.000000</td>\n",
       "      <td>0.0</td>\n",
       "      <td>0.0</td>\n",
       "      <td>1.0</td>\n",
       "      <td>0.000000</td>\n",
       "      <td>...</td>\n",
       "      <td>0.0</td>\n",
       "      <td>0.0</td>\n",
       "      <td>0.0</td>\n",
       "      <td>0.000000</td>\n",
       "      <td>0.0</td>\n",
       "      <td>0.00</td>\n",
       "      <td>0.0</td>\n",
       "      <td>0.0</td>\n",
       "      <td>0.0</td>\n",
       "      <td>0.000000</td>\n",
       "    </tr>\n",
       "    <tr>\n",
       "      <th>ESRRG</th>\n",
       "      <td>0.0</td>\n",
       "      <td>1.000000</td>\n",
       "      <td>0.333333</td>\n",
       "      <td>0.0</td>\n",
       "      <td>0.0</td>\n",
       "      <td>0.142857</td>\n",
       "      <td>0.0</td>\n",
       "      <td>0.0</td>\n",
       "      <td>0.0</td>\n",
       "      <td>0.000000</td>\n",
       "      <td>...</td>\n",
       "      <td>0.0</td>\n",
       "      <td>0.0</td>\n",
       "      <td>0.0</td>\n",
       "      <td>0.181818</td>\n",
       "      <td>0.0</td>\n",
       "      <td>0.00</td>\n",
       "      <td>0.0</td>\n",
       "      <td>0.0</td>\n",
       "      <td>0.5</td>\n",
       "      <td>0.105263</td>\n",
       "    </tr>\n",
       "    <tr>\n",
       "      <th>BMT2</th>\n",
       "      <td>0.0</td>\n",
       "      <td>0.333333</td>\n",
       "      <td>1.000000</td>\n",
       "      <td>0.0</td>\n",
       "      <td>0.0</td>\n",
       "      <td>0.066667</td>\n",
       "      <td>0.0</td>\n",
       "      <td>0.0</td>\n",
       "      <td>0.0</td>\n",
       "      <td>0.000000</td>\n",
       "      <td>...</td>\n",
       "      <td>0.0</td>\n",
       "      <td>0.0</td>\n",
       "      <td>0.0</td>\n",
       "      <td>0.083333</td>\n",
       "      <td>0.0</td>\n",
       "      <td>0.00</td>\n",
       "      <td>0.0</td>\n",
       "      <td>0.0</td>\n",
       "      <td>0.2</td>\n",
       "      <td>0.050000</td>\n",
       "    </tr>\n",
       "    <tr>\n",
       "      <th>HGFAC</th>\n",
       "      <td>0.0</td>\n",
       "      <td>0.000000</td>\n",
       "      <td>0.000000</td>\n",
       "      <td>1.0</td>\n",
       "      <td>0.0</td>\n",
       "      <td>0.066667</td>\n",
       "      <td>0.0</td>\n",
       "      <td>0.5</td>\n",
       "      <td>0.0</td>\n",
       "      <td>0.000000</td>\n",
       "      <td>...</td>\n",
       "      <td>0.0</td>\n",
       "      <td>0.0</td>\n",
       "      <td>0.5</td>\n",
       "      <td>0.083333</td>\n",
       "      <td>0.0</td>\n",
       "      <td>0.25</td>\n",
       "      <td>0.5</td>\n",
       "      <td>0.0</td>\n",
       "      <td>0.2</td>\n",
       "      <td>0.050000</td>\n",
       "    </tr>\n",
       "    <tr>\n",
       "      <th>HLA-DQB1</th>\n",
       "      <td>0.0</td>\n",
       "      <td>0.000000</td>\n",
       "      <td>0.000000</td>\n",
       "      <td>0.0</td>\n",
       "      <td>1.0</td>\n",
       "      <td>0.200000</td>\n",
       "      <td>0.0</td>\n",
       "      <td>0.0</td>\n",
       "      <td>0.0</td>\n",
       "      <td>0.052632</td>\n",
       "      <td>...</td>\n",
       "      <td>0.0</td>\n",
       "      <td>0.0</td>\n",
       "      <td>0.0</td>\n",
       "      <td>0.000000</td>\n",
       "      <td>0.0</td>\n",
       "      <td>0.00</td>\n",
       "      <td>0.0</td>\n",
       "      <td>0.0</td>\n",
       "      <td>0.0</td>\n",
       "      <td>0.000000</td>\n",
       "    </tr>\n",
       "  </tbody>\n",
       "</table>\n",
       "<p>5 rows × 12400 columns</p>\n",
       "</div>"
      ],
      "text/plain": [
       "          CD1C     ESRRG      BMT2  HGFAC  HLA-DQB1     ARRB1  PRLR  BCR  \\\n",
       "                                                                           \n",
       "CD1C       1.0  0.000000  0.000000    0.0       0.0  0.000000   0.0  0.0   \n",
       "ESRRG      0.0  1.000000  0.333333    0.0       0.0  0.142857   0.0  0.0   \n",
       "BMT2       0.0  0.333333  1.000000    0.0       0.0  0.066667   0.0  0.0   \n",
       "HGFAC      0.0  0.000000  0.000000    1.0       0.0  0.066667   0.0  0.5   \n",
       "HLA-DQB1   0.0  0.000000  0.000000    0.0       1.0  0.200000   0.0  0.0   \n",
       "\n",
       "          MTNR1B   IER3IP1    ...     PEX12  KLHL18  ACAP2     SMAD4  FAM9C  \\\n",
       "                              ...                                             \n",
       "CD1C         1.0  0.000000    ...       0.0     0.0    0.0  0.000000    0.0   \n",
       "ESRRG        0.0  0.000000    ...       0.0     0.0    0.0  0.181818    0.0   \n",
       "BMT2         0.0  0.000000    ...       0.0     0.0    0.0  0.083333    0.0   \n",
       "HGFAC        0.0  0.000000    ...       0.0     0.0    0.5  0.083333    0.0   \n",
       "HLA-DQB1     0.0  0.052632    ...       0.0     0.0    0.0  0.000000    0.0   \n",
       "\n",
       "          PCK2  EIF3I  SLC38A7  UGDH    SNRPD1  \n",
       "                                                \n",
       "CD1C      0.00    0.0      0.0   0.0  0.000000  \n",
       "ESRRG     0.00    0.0      0.0   0.5  0.105263  \n",
       "BMT2      0.00    0.0      0.0   0.2  0.050000  \n",
       "HGFAC     0.25    0.5      0.0   0.2  0.050000  \n",
       "HLA-DQB1  0.00    0.0      0.0   0.0  0.000000  \n",
       "\n",
       "[5 rows x 12400 columns]"
      ]
     },
     "execution_count": 48,
     "metadata": {},
     "output_type": "execute_result"
    }
   ],
   "source": [
    "gene_similarity_matix.head()"
   ]
  },
  {
   "cell_type": "markdown",
   "metadata": {},
   "source": [
    "# Save Gene Similarity Matrix "
   ]
  },
  {
   "cell_type": "code",
   "execution_count": 49,
   "metadata": {
    "collapsed": true
   },
   "outputs": [],
   "source": [
    "filename = '~/./Documents/Harmonizome/GO/output/go_cellular_component_gene_similarity_matix_%s.tsv.zip'% str(datetime.date.today())[0:7].replace('-', '_')\n",
    "gene_similarity_matix.to_csv(filename, sep='\\t', compression='gzip')"
   ]
  },
  {
   "cell_type": "markdown",
   "metadata": {},
   "source": [
    "# Create Attribute Similarity matrix"
   ]
  },
  {
   "cell_type": "code",
   "execution_count": 50,
   "metadata": {
    "collapsed": true
   },
   "outputs": [],
   "source": [
    "attribute_similarity_matix = uf.createSimilarityMatrix(binary_matrix.T, 'jaccard')"
   ]
  },
  {
   "cell_type": "code",
   "execution_count": 51,
   "metadata": {},
   "outputs": [
    {
     "data": {
      "text/html": [
       "<div>\n",
       "<style scoped>\n",
       "    .dataframe tbody tr th:only-of-type {\n",
       "        vertical-align: middle;\n",
       "    }\n",
       "\n",
       "    .dataframe tbody tr th {\n",
       "        vertical-align: top;\n",
       "    }\n",
       "\n",
       "    .dataframe thead th {\n",
       "        text-align: right;\n",
       "    }\n",
       "</style>\n",
       "<table border=\"1\" class=\"dataframe\">\n",
       "  <thead>\n",
       "    <tr style=\"text-align: right;\">\n",
       "      <th></th>\n",
       "      <th>interleukin-23 receptor complex (GO:0072536)</th>\n",
       "      <th>dolichol-phosphate-mannose synthase complex (GO:0033185)</th>\n",
       "      <th>platelet dense granule (GO:0042827)</th>\n",
       "      <th>U11/U12 snRNP (GO:0034693)</th>\n",
       "      <th>integrin alpha10-beta1 complex (GO:0034680)</th>\n",
       "      <th>chromatoid body (GO:0033391)</th>\n",
       "      <th>Golgi trans cisterna (GO:0000138)</th>\n",
       "      <th>spectrin (GO:0008091)</th>\n",
       "      <th>elongin complex (GO:0070449)</th>\n",
       "      <th>cyclin A2-CDK2 complex (GO:0097124)</th>\n",
       "      <th>...</th>\n",
       "      <th>mitochondrial oxoglutarate dehydrogenase complex (GO:0009353)</th>\n",
       "      <th>terminal cisterna (GO:0014802)</th>\n",
       "      <th>varicosity (GO:0043196)</th>\n",
       "      <th>PR-DUB complex (GO:0035517)</th>\n",
       "      <th>cytoplasmic side of apical plasma membrane (GO:0098592)</th>\n",
       "      <th>ribosome (GO:0005840)</th>\n",
       "      <th>recycling endosome (GO:0055037)</th>\n",
       "      <th>alpha9-beta1 integrin-vascular cell adhesion molecule-1 complex (GO:0071065)</th>\n",
       "      <th>signal recognition particle, endoplasmic reticulum targeting (GO:0005786)</th>\n",
       "      <th>supraspliceosomal complex (GO:0044530)</th>\n",
       "    </tr>\n",
       "    <tr>\n",
       "      <th></th>\n",
       "      <th></th>\n",
       "      <th></th>\n",
       "      <th></th>\n",
       "      <th></th>\n",
       "      <th></th>\n",
       "      <th></th>\n",
       "      <th></th>\n",
       "      <th></th>\n",
       "      <th></th>\n",
       "      <th></th>\n",
       "      <th></th>\n",
       "      <th></th>\n",
       "      <th></th>\n",
       "      <th></th>\n",
       "      <th></th>\n",
       "      <th></th>\n",
       "      <th></th>\n",
       "      <th></th>\n",
       "      <th></th>\n",
       "      <th></th>\n",
       "      <th></th>\n",
       "    </tr>\n",
       "  </thead>\n",
       "  <tbody>\n",
       "    <tr>\n",
       "      <th>interleukin-23 receptor complex (GO:0072536)</th>\n",
       "      <td>1.0</td>\n",
       "      <td>0.0</td>\n",
       "      <td>0.0</td>\n",
       "      <td>0.0</td>\n",
       "      <td>0.0</td>\n",
       "      <td>0.0</td>\n",
       "      <td>0.0</td>\n",
       "      <td>0.0</td>\n",
       "      <td>0.0</td>\n",
       "      <td>0.0</td>\n",
       "      <td>...</td>\n",
       "      <td>0.0</td>\n",
       "      <td>0.0</td>\n",
       "      <td>0.0</td>\n",
       "      <td>0.0</td>\n",
       "      <td>0.0</td>\n",
       "      <td>0.0</td>\n",
       "      <td>0.0</td>\n",
       "      <td>0.0</td>\n",
       "      <td>0.0</td>\n",
       "      <td>0.0</td>\n",
       "    </tr>\n",
       "    <tr>\n",
       "      <th>dolichol-phosphate-mannose synthase complex (GO:0033185)</th>\n",
       "      <td>0.0</td>\n",
       "      <td>1.0</td>\n",
       "      <td>0.0</td>\n",
       "      <td>0.0</td>\n",
       "      <td>0.0</td>\n",
       "      <td>0.0</td>\n",
       "      <td>0.0</td>\n",
       "      <td>0.0</td>\n",
       "      <td>0.0</td>\n",
       "      <td>0.0</td>\n",
       "      <td>...</td>\n",
       "      <td>0.0</td>\n",
       "      <td>0.0</td>\n",
       "      <td>0.0</td>\n",
       "      <td>0.0</td>\n",
       "      <td>0.0</td>\n",
       "      <td>0.0</td>\n",
       "      <td>0.0</td>\n",
       "      <td>0.0</td>\n",
       "      <td>0.0</td>\n",
       "      <td>0.0</td>\n",
       "    </tr>\n",
       "    <tr>\n",
       "      <th>platelet dense granule (GO:0042827)</th>\n",
       "      <td>0.0</td>\n",
       "      <td>0.0</td>\n",
       "      <td>1.0</td>\n",
       "      <td>0.0</td>\n",
       "      <td>0.0</td>\n",
       "      <td>0.0</td>\n",
       "      <td>0.0</td>\n",
       "      <td>0.0</td>\n",
       "      <td>0.0</td>\n",
       "      <td>0.0</td>\n",
       "      <td>...</td>\n",
       "      <td>0.0</td>\n",
       "      <td>0.0</td>\n",
       "      <td>0.0</td>\n",
       "      <td>0.0</td>\n",
       "      <td>0.0</td>\n",
       "      <td>0.0</td>\n",
       "      <td>0.0</td>\n",
       "      <td>0.0</td>\n",
       "      <td>0.0</td>\n",
       "      <td>0.0</td>\n",
       "    </tr>\n",
       "    <tr>\n",
       "      <th>U11/U12 snRNP (GO:0034693)</th>\n",
       "      <td>0.0</td>\n",
       "      <td>0.0</td>\n",
       "      <td>0.0</td>\n",
       "      <td>1.0</td>\n",
       "      <td>0.0</td>\n",
       "      <td>0.0</td>\n",
       "      <td>0.0</td>\n",
       "      <td>0.0</td>\n",
       "      <td>0.0</td>\n",
       "      <td>0.0</td>\n",
       "      <td>...</td>\n",
       "      <td>0.0</td>\n",
       "      <td>0.0</td>\n",
       "      <td>0.0</td>\n",
       "      <td>0.0</td>\n",
       "      <td>0.0</td>\n",
       "      <td>0.0</td>\n",
       "      <td>0.0</td>\n",
       "      <td>0.0</td>\n",
       "      <td>0.0</td>\n",
       "      <td>0.0</td>\n",
       "    </tr>\n",
       "    <tr>\n",
       "      <th>integrin alpha10-beta1 complex (GO:0034680)</th>\n",
       "      <td>0.0</td>\n",
       "      <td>0.0</td>\n",
       "      <td>0.0</td>\n",
       "      <td>0.0</td>\n",
       "      <td>1.0</td>\n",
       "      <td>0.0</td>\n",
       "      <td>0.0</td>\n",
       "      <td>0.0</td>\n",
       "      <td>0.0</td>\n",
       "      <td>0.0</td>\n",
       "      <td>...</td>\n",
       "      <td>0.0</td>\n",
       "      <td>0.0</td>\n",
       "      <td>0.0</td>\n",
       "      <td>0.0</td>\n",
       "      <td>0.0</td>\n",
       "      <td>0.0</td>\n",
       "      <td>0.0</td>\n",
       "      <td>0.0</td>\n",
       "      <td>0.0</td>\n",
       "      <td>0.0</td>\n",
       "    </tr>\n",
       "  </tbody>\n",
       "</table>\n",
       "<p>5 rows × 962 columns</p>\n",
       "</div>"
      ],
      "text/plain": [
       "                                                    interleukin-23 receptor complex (GO:0072536)  \\\n",
       "                                                                                                   \n",
       "interleukin-23 receptor complex (GO:0072536)                                                 1.0   \n",
       "dolichol-phosphate-mannose synthase complex (GO...                                           0.0   \n",
       "platelet dense granule (GO:0042827)                                                          0.0   \n",
       "U11/U12 snRNP (GO:0034693)                                                                   0.0   \n",
       "integrin alpha10-beta1 complex (GO:0034680)                                                  0.0   \n",
       "\n",
       "                                                    dolichol-phosphate-mannose synthase complex (GO:0033185)  \\\n",
       "                                                                                                               \n",
       "interleukin-23 receptor complex (GO:0072536)                                                      0.0          \n",
       "dolichol-phosphate-mannose synthase complex (GO...                                                1.0          \n",
       "platelet dense granule (GO:0042827)                                                               0.0          \n",
       "U11/U12 snRNP (GO:0034693)                                                                        0.0          \n",
       "integrin alpha10-beta1 complex (GO:0034680)                                                       0.0          \n",
       "\n",
       "                                                    platelet dense granule (GO:0042827)  \\\n",
       "                                                                                          \n",
       "interleukin-23 receptor complex (GO:0072536)                                        0.0   \n",
       "dolichol-phosphate-mannose synthase complex (GO...                                  0.0   \n",
       "platelet dense granule (GO:0042827)                                                 1.0   \n",
       "U11/U12 snRNP (GO:0034693)                                                          0.0   \n",
       "integrin alpha10-beta1 complex (GO:0034680)                                         0.0   \n",
       "\n",
       "                                                    U11/U12 snRNP (GO:0034693)  \\\n",
       "                                                                                 \n",
       "interleukin-23 receptor complex (GO:0072536)                               0.0   \n",
       "dolichol-phosphate-mannose synthase complex (GO...                         0.0   \n",
       "platelet dense granule (GO:0042827)                                        0.0   \n",
       "U11/U12 snRNP (GO:0034693)                                                 1.0   \n",
       "integrin alpha10-beta1 complex (GO:0034680)                                0.0   \n",
       "\n",
       "                                                    integrin alpha10-beta1 complex (GO:0034680)  \\\n",
       "                                                                                                  \n",
       "interleukin-23 receptor complex (GO:0072536)                                                0.0   \n",
       "dolichol-phosphate-mannose synthase complex (GO...                                          0.0   \n",
       "platelet dense granule (GO:0042827)                                                         0.0   \n",
       "U11/U12 snRNP (GO:0034693)                                                                  0.0   \n",
       "integrin alpha10-beta1 complex (GO:0034680)                                                 1.0   \n",
       "\n",
       "                                                    chromatoid body (GO:0033391)  \\\n",
       "                                                                                   \n",
       "interleukin-23 receptor complex (GO:0072536)                                 0.0   \n",
       "dolichol-phosphate-mannose synthase complex (GO...                           0.0   \n",
       "platelet dense granule (GO:0042827)                                          0.0   \n",
       "U11/U12 snRNP (GO:0034693)                                                   0.0   \n",
       "integrin alpha10-beta1 complex (GO:0034680)                                  0.0   \n",
       "\n",
       "                                                    Golgi trans cisterna (GO:0000138)  \\\n",
       "                                                                                        \n",
       "interleukin-23 receptor complex (GO:0072536)                                      0.0   \n",
       "dolichol-phosphate-mannose synthase complex (GO...                                0.0   \n",
       "platelet dense granule (GO:0042827)                                               0.0   \n",
       "U11/U12 snRNP (GO:0034693)                                                        0.0   \n",
       "integrin alpha10-beta1 complex (GO:0034680)                                       0.0   \n",
       "\n",
       "                                                    spectrin (GO:0008091)  \\\n",
       "                                                                            \n",
       "interleukin-23 receptor complex (GO:0072536)                          0.0   \n",
       "dolichol-phosphate-mannose synthase complex (GO...                    0.0   \n",
       "platelet dense granule (GO:0042827)                                   0.0   \n",
       "U11/U12 snRNP (GO:0034693)                                            0.0   \n",
       "integrin alpha10-beta1 complex (GO:0034680)                           0.0   \n",
       "\n",
       "                                                    elongin complex (GO:0070449)  \\\n",
       "                                                                                   \n",
       "interleukin-23 receptor complex (GO:0072536)                                 0.0   \n",
       "dolichol-phosphate-mannose synthase complex (GO...                           0.0   \n",
       "platelet dense granule (GO:0042827)                                          0.0   \n",
       "U11/U12 snRNP (GO:0034693)                                                   0.0   \n",
       "integrin alpha10-beta1 complex (GO:0034680)                                  0.0   \n",
       "\n",
       "                                                    cyclin A2-CDK2 complex (GO:0097124)  \\\n",
       "                                                                                          \n",
       "interleukin-23 receptor complex (GO:0072536)                                        0.0   \n",
       "dolichol-phosphate-mannose synthase complex (GO...                                  0.0   \n",
       "platelet dense granule (GO:0042827)                                                 0.0   \n",
       "U11/U12 snRNP (GO:0034693)                                                          0.0   \n",
       "integrin alpha10-beta1 complex (GO:0034680)                                         0.0   \n",
       "\n",
       "                                                                     ...                    \\\n",
       "                                                                     ...                     \n",
       "interleukin-23 receptor complex (GO:0072536)                         ...                     \n",
       "dolichol-phosphate-mannose synthase complex (GO...                   ...                     \n",
       "platelet dense granule (GO:0042827)                                  ...                     \n",
       "U11/U12 snRNP (GO:0034693)                                           ...                     \n",
       "integrin alpha10-beta1 complex (GO:0034680)                          ...                     \n",
       "\n",
       "                                                    mitochondrial oxoglutarate dehydrogenase complex (GO:0009353)  \\\n",
       "                                                                                                                    \n",
       "interleukin-23 receptor complex (GO:0072536)                                                      0.0               \n",
       "dolichol-phosphate-mannose synthase complex (GO...                                                0.0               \n",
       "platelet dense granule (GO:0042827)                                                               0.0               \n",
       "U11/U12 snRNP (GO:0034693)                                                                        0.0               \n",
       "integrin alpha10-beta1 complex (GO:0034680)                                                       0.0               \n",
       "\n",
       "                                                    terminal cisterna (GO:0014802)  \\\n",
       "                                                                                     \n",
       "interleukin-23 receptor complex (GO:0072536)                                   0.0   \n",
       "dolichol-phosphate-mannose synthase complex (GO...                             0.0   \n",
       "platelet dense granule (GO:0042827)                                            0.0   \n",
       "U11/U12 snRNP (GO:0034693)                                                     0.0   \n",
       "integrin alpha10-beta1 complex (GO:0034680)                                    0.0   \n",
       "\n",
       "                                                    varicosity (GO:0043196)  \\\n",
       "                                                                              \n",
       "interleukin-23 receptor complex (GO:0072536)                            0.0   \n",
       "dolichol-phosphate-mannose synthase complex (GO...                      0.0   \n",
       "platelet dense granule (GO:0042827)                                     0.0   \n",
       "U11/U12 snRNP (GO:0034693)                                              0.0   \n",
       "integrin alpha10-beta1 complex (GO:0034680)                             0.0   \n",
       "\n",
       "                                                    PR-DUB complex (GO:0035517)  \\\n",
       "                                                                                  \n",
       "interleukin-23 receptor complex (GO:0072536)                                0.0   \n",
       "dolichol-phosphate-mannose synthase complex (GO...                          0.0   \n",
       "platelet dense granule (GO:0042827)                                         0.0   \n",
       "U11/U12 snRNP (GO:0034693)                                                  0.0   \n",
       "integrin alpha10-beta1 complex (GO:0034680)                                 0.0   \n",
       "\n",
       "                                                    cytoplasmic side of apical plasma membrane (GO:0098592)  \\\n",
       "                                                                                                              \n",
       "interleukin-23 receptor complex (GO:0072536)                                                      0.0         \n",
       "dolichol-phosphate-mannose synthase complex (GO...                                                0.0         \n",
       "platelet dense granule (GO:0042827)                                                               0.0         \n",
       "U11/U12 snRNP (GO:0034693)                                                                        0.0         \n",
       "integrin alpha10-beta1 complex (GO:0034680)                                                       0.0         \n",
       "\n",
       "                                                    ribosome (GO:0005840)  \\\n",
       "                                                                            \n",
       "interleukin-23 receptor complex (GO:0072536)                          0.0   \n",
       "dolichol-phosphate-mannose synthase complex (GO...                    0.0   \n",
       "platelet dense granule (GO:0042827)                                   0.0   \n",
       "U11/U12 snRNP (GO:0034693)                                            0.0   \n",
       "integrin alpha10-beta1 complex (GO:0034680)                           0.0   \n",
       "\n",
       "                                                    recycling endosome (GO:0055037)  \\\n",
       "                                                                                      \n",
       "interleukin-23 receptor complex (GO:0072536)                                    0.0   \n",
       "dolichol-phosphate-mannose synthase complex (GO...                              0.0   \n",
       "platelet dense granule (GO:0042827)                                             0.0   \n",
       "U11/U12 snRNP (GO:0034693)                                                      0.0   \n",
       "integrin alpha10-beta1 complex (GO:0034680)                                     0.0   \n",
       "\n",
       "                                                    alpha9-beta1 integrin-vascular cell adhesion molecule-1 complex (GO:0071065)  \\\n",
       "                                                                                                                                   \n",
       "interleukin-23 receptor complex (GO:0072536)                                                      0.0                              \n",
       "dolichol-phosphate-mannose synthase complex (GO...                                                0.0                              \n",
       "platelet dense granule (GO:0042827)                                                               0.0                              \n",
       "U11/U12 snRNP (GO:0034693)                                                                        0.0                              \n",
       "integrin alpha10-beta1 complex (GO:0034680)                                                       0.0                              \n",
       "\n",
       "                                                    signal recognition particle, endoplasmic reticulum targeting (GO:0005786)  \\\n",
       "                                                                                                                                \n",
       "interleukin-23 receptor complex (GO:0072536)                                                      0.0                           \n",
       "dolichol-phosphate-mannose synthase complex (GO...                                                0.0                           \n",
       "platelet dense granule (GO:0042827)                                                               0.0                           \n",
       "U11/U12 snRNP (GO:0034693)                                                                        0.0                           \n",
       "integrin alpha10-beta1 complex (GO:0034680)                                                       0.0                           \n",
       "\n",
       "                                                    supraspliceosomal complex (GO:0044530)  \n",
       "                                                                                            \n",
       "interleukin-23 receptor complex (GO:0072536)                                           0.0  \n",
       "dolichol-phosphate-mannose synthase complex (GO...                                     0.0  \n",
       "platelet dense granule (GO:0042827)                                                    0.0  \n",
       "U11/U12 snRNP (GO:0034693)                                                             0.0  \n",
       "integrin alpha10-beta1 complex (GO:0034680)                                            0.0  \n",
       "\n",
       "[5 rows x 962 columns]"
      ]
     },
     "execution_count": 51,
     "metadata": {},
     "output_type": "execute_result"
    }
   ],
   "source": [
    "attribute_similarity_matix.head()"
   ]
  },
  {
   "cell_type": "markdown",
   "metadata": {},
   "source": [
    "# Save Attribute Similarity Matrix"
   ]
  },
  {
   "cell_type": "code",
   "execution_count": 52,
   "metadata": {
    "collapsed": true
   },
   "outputs": [],
   "source": [
    "filename = '~/./Documents/Harmonizome/GO/output/go_cellular_component_attribute_similarity_matix_%s.tsv.zip'% str(datetime.date.today())[0:7].replace('-', '_')\n",
    "attribute_similarity_matix.to_csv(filename, sep='\\t', compression='gzip')"
   ]
  },
  {
   "cell_type": "markdown",
   "metadata": {},
   "source": [
    "# HeatMap (clustergrammer) of Similarity Matrix"
   ]
  },
  {
   "cell_type": "code",
   "execution_count": 67,
   "metadata": {},
   "outputs": [],
   "source": [
    "# net.load_df(attribute_similarity_matix.iloc[:,:].copy())\n",
    "# # net.filter_N_top('row', rank_type='sum', N_top=300)\n",
    "# net.cluster()\n",
    "# net.widget()"
   ]
  },
  {
   "cell_type": "markdown",
   "metadata": {},
   "source": [
    "# Create Gene List"
   ]
  },
  {
   "cell_type": "code",
   "execution_count": 53,
   "metadata": {},
   "outputs": [
    {
     "name": "stdout",
     "output_type": "stream",
     "text": [
      "Progeres: 100%  12400 Out of 12400   \r"
     ]
    }
   ],
   "source": [
    "gene_list = uf.createGeneList(binary_matrix)"
   ]
  },
  {
   "cell_type": "code",
   "execution_count": 54,
   "metadata": {},
   "outputs": [
    {
     "data": {
      "text/html": [
       "<div>\n",
       "<style scoped>\n",
       "    .dataframe tbody tr th:only-of-type {\n",
       "        vertical-align: middle;\n",
       "    }\n",
       "\n",
       "    .dataframe tbody tr th {\n",
       "        vertical-align: top;\n",
       "    }\n",
       "\n",
       "    .dataframe thead th {\n",
       "        text-align: right;\n",
       "    }\n",
       "</style>\n",
       "<table border=\"1\" class=\"dataframe\">\n",
       "  <thead>\n",
       "    <tr style=\"text-align: right;\">\n",
       "      <th></th>\n",
       "      <th>GeneSym</th>\n",
       "      <th>GeneID</th>\n",
       "    </tr>\n",
       "  </thead>\n",
       "  <tbody>\n",
       "    <tr>\n",
       "      <th>0</th>\n",
       "      <td>CD1C</td>\n",
       "      <td>911</td>\n",
       "    </tr>\n",
       "    <tr>\n",
       "      <th>1</th>\n",
       "      <td>ESRRG</td>\n",
       "      <td>2104</td>\n",
       "    </tr>\n",
       "    <tr>\n",
       "      <th>2</th>\n",
       "      <td>BMT2</td>\n",
       "      <td>154743</td>\n",
       "    </tr>\n",
       "    <tr>\n",
       "      <th>3</th>\n",
       "      <td>HGFAC</td>\n",
       "      <td>3083</td>\n",
       "    </tr>\n",
       "    <tr>\n",
       "      <th>4</th>\n",
       "      <td>HLA-DQB1</td>\n",
       "      <td>3119</td>\n",
       "    </tr>\n",
       "  </tbody>\n",
       "</table>\n",
       "</div>"
      ],
      "text/plain": [
       "    GeneSym  GeneID\n",
       "0      CD1C     911\n",
       "1     ESRRG    2104\n",
       "2      BMT2  154743\n",
       "3     HGFAC    3083\n",
       "4  HLA-DQB1    3119"
      ]
     },
     "execution_count": 54,
     "metadata": {},
     "output_type": "execute_result"
    }
   ],
   "source": [
    "gene_list.head()"
   ]
  },
  {
   "cell_type": "code",
   "execution_count": 55,
   "metadata": {},
   "outputs": [
    {
     "data": {
      "text/plain": [
       "(12400, 2)"
      ]
     },
     "execution_count": 55,
     "metadata": {},
     "output_type": "execute_result"
    }
   ],
   "source": [
    "gene_list.shape"
   ]
  },
  {
   "cell_type": "markdown",
   "metadata": {},
   "source": [
    "# Save Gene List"
   ]
  },
  {
   "cell_type": "code",
   "execution_count": 56,
   "metadata": {
    "collapsed": true
   },
   "outputs": [],
   "source": [
    "filename = '~/./Documents/Harmonizome/GO/output/go_cellular_component_gene_list_%s.tsv.zip'% str(datetime.date.today())[0:7].replace('-', '_')\n",
    "gene_list.to_csv(filename, sep='\\t', index=False, compression='gzip')"
   ]
  },
  {
   "cell_type": "markdown",
   "metadata": {},
   "source": [
    "# Create Attribute List "
   ]
  },
  {
   "cell_type": "code",
   "execution_count": 57,
   "metadata": {
    "collapsed": true
   },
   "outputs": [],
   "source": [
    "attribute_list = uf.createAttributeList(binary_matrix)"
   ]
  },
  {
   "cell_type": "code",
   "execution_count": 58,
   "metadata": {},
   "outputs": [
    {
     "data": {
      "text/html": [
       "<div>\n",
       "<style scoped>\n",
       "    .dataframe tbody tr th:only-of-type {\n",
       "        vertical-align: middle;\n",
       "    }\n",
       "\n",
       "    .dataframe tbody tr th {\n",
       "        vertical-align: top;\n",
       "    }\n",
       "\n",
       "    .dataframe thead th {\n",
       "        text-align: right;\n",
       "    }\n",
       "</style>\n",
       "<table border=\"1\" class=\"dataframe\">\n",
       "  <thead>\n",
       "    <tr style=\"text-align: right;\">\n",
       "      <th></th>\n",
       "    </tr>\n",
       "    <tr>\n",
       "      <th>Attributes</th>\n",
       "    </tr>\n",
       "  </thead>\n",
       "  <tbody>\n",
       "    <tr>\n",
       "      <th>interleukin-23 receptor complex (GO:0072536)</th>\n",
       "    </tr>\n",
       "    <tr>\n",
       "      <th>dolichol-phosphate-mannose synthase complex (GO:0033185)</th>\n",
       "    </tr>\n",
       "    <tr>\n",
       "      <th>platelet dense granule (GO:0042827)</th>\n",
       "    </tr>\n",
       "    <tr>\n",
       "      <th>U11/U12 snRNP (GO:0034693)</th>\n",
       "    </tr>\n",
       "    <tr>\n",
       "      <th>integrin alpha10-beta1 complex (GO:0034680)</th>\n",
       "    </tr>\n",
       "  </tbody>\n",
       "</table>\n",
       "</div>"
      ],
      "text/plain": [
       "Empty DataFrame\n",
       "Columns: []\n",
       "Index: [interleukin-23 receptor complex (GO:0072536), dolichol-phosphate-mannose synthase complex (GO:0033185), platelet dense granule (GO:0042827), U11/U12 snRNP (GO:0034693), integrin alpha10-beta1 complex (GO:0034680)]"
      ]
     },
     "execution_count": 58,
     "metadata": {},
     "output_type": "execute_result"
    }
   ],
   "source": [
    "attribute_list.head()"
   ]
  },
  {
   "cell_type": "code",
   "execution_count": 59,
   "metadata": {},
   "outputs": [
    {
     "data": {
      "text/plain": [
       "(962, 0)"
      ]
     },
     "execution_count": 59,
     "metadata": {},
     "output_type": "execute_result"
    }
   ],
   "source": [
    "attribute_list.shape"
   ]
  },
  {
   "cell_type": "markdown",
   "metadata": {},
   "source": [
    "# Save Attribute List"
   ]
  },
  {
   "cell_type": "code",
   "execution_count": 60,
   "metadata": {
    "collapsed": true
   },
   "outputs": [],
   "source": [
    "filename = '~/./Documents/Harmonizome/GO/output/go_cellular_component_attribute_list_%s.tsv.zip'% str(datetime.date.today())[0:7].replace('-', '_')\n",
    "attribute_list.to_csv(filename, sep='\\t', index=False, compression='gzip')"
   ]
  },
  {
   "cell_type": "markdown",
   "metadata": {},
   "source": [
    "# Create Gene-Attribute Edge List"
   ]
  },
  {
   "cell_type": "code",
   "execution_count": 61,
   "metadata": {
    "collapsed": true
   },
   "outputs": [],
   "source": [
    "path = '/Users/moshesilverstein/Documents/Harmonizome/GO/output/'"
   ]
  },
  {
   "cell_type": "code",
   "execution_count": 62,
   "metadata": {
    "collapsed": true
   },
   "outputs": [],
   "source": [
    "name = 'go_cellular_component_gene_attribute_edge_list'"
   ]
  },
  {
   "cell_type": "code",
   "execution_count": 63,
   "metadata": {},
   "outputs": [
    {
     "name": "stdout",
     "output_type": "stream",
     "text": [
      "Progeres: 100%  962 Out of 962   \n",
      "\n",
      " The number of statisticaly relevent gene-attribute associations is: 43458\n"
     ]
    }
   ],
   "source": [
    "uf.createGeneAttributeEdgeList(binary_matrix, attribute_list, gene_list, path, name)"
   ]
  }
 ],
 "metadata": {
  "kernelspec": {
   "display_name": "Python 3",
   "language": "python",
   "name": "python3"
  },
  "language_info": {
   "codemirror_mode": {
    "name": "ipython",
    "version": 3
   },
   "file_extension": ".py",
   "mimetype": "text/x-python",
   "name": "python",
   "nbconvert_exporter": "python",
   "pygments_lexer": "ipython3",
   "version": "3.6.4"
  }
 },
 "nbformat": 4,
 "nbformat_minor": 2
}
