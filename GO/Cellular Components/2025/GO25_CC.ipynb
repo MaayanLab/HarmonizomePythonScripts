{
 "cells": [
  {
   "cell_type": "markdown",
   "metadata": {},
   "source": [
    "# Gene Ontology Cellular Component Annotations 2025"
   ]
  },
  {
   "cell_type": "code",
   "execution_count": null,
   "metadata": {},
   "outputs": [],
   "source": [
    "import pandas as pd\n",
    "import datetime\n",
    "import goenrich\n",
    "import numpy as np\n",
    "import scipy.spatial.distance as dist\n",
    "import seaborn as sns\n",
    "import sys\n",
    "from tqdm import tqdm\n",
    "import json\n",
    "import scanpy as sc\n",
    "\n",
    "from sklearn.feature_extraction.text import TfidfVectorizer\n",
    "import anndata\n",
    "from collections import OrderedDict\n",
    "\n",
    "# Bokeh\n",
    "from bokeh.io import output_notebook\n",
    "from bokeh.plotting import figure, show, save, output_file\n",
    "from bokeh.models import HoverTool, ColumnDataSource\n",
    "from bokeh.palettes import Category20\n",
    "output_notebook()\n",
    "\n",
    "from IPython.display import display, HTML, Markdown\n",
    "sys.setrecursionlimit(100000)"
   ]
  },
  {
   "cell_type": "markdown",
   "metadata": {},
   "source": [
    "## Load and Precomponent Data"
   ]
  },
  {
   "cell_type": "code",
   "execution_count": null,
   "metadata": {},
   "outputs": [],
   "source": [
    "goannotations = pd.read_csv('https://current.geneontology.org/annotations/goa_human.gaf.gz', sep='\\t', compression='gzip', skiprows=38, header=None, index_col=False, dtype=object)\n",
    "goannotations.columns = ['DB', 'DB Object ID', 'DB Object Symbol', 'Qualifier', 'GO ID', 'DB:Reference', 'Evidence Code', \n",
    "                        'With (or) From', 'Aspect', 'DB Object Name', 'DB Object Synonym', 'DB Object Type', 'Taxon', \n",
    "                        'Date', 'Assigned By', 'Annotation Extension', 'Gene Product Form ID']\n",
    "\n",
    "# Filter out associations inferred from electronic annotation and qualifiers containing 'NOT'\n",
    "goannotations = goannotations[(~goannotations['Qualifier'].isin(['NOT'])) & (~goannotations['Evidence Code'].isin(['IEA']))]\n",
    "goannotations"
   ]
  },
  {
   "cell_type": "code",
   "execution_count": null,
   "metadata": {},
   "outputs": [],
   "source": [
    "gocc = goannotations[goannotations['Aspect']=='C']\n",
    "gocc = gocc[['DB Object Symbol', 'GO ID']].reset_index(drop=True)\n",
    "gocc"
   ]
  },
  {
   "cell_type": "markdown",
   "metadata": {},
   "source": [
    "## component Data"
   ]
  },
  {
   "cell_type": "markdown",
   "metadata": {},
   "source": [
    "### Load Gene Ontology Tree Diagraph"
   ]
  },
  {
   "cell_type": "code",
   "execution_count": null,
   "metadata": {},
   "outputs": [],
   "source": [
    "digraph = goenrich.obo.ontology('go-basic.obo')"
   ]
  },
  {
   "cell_type": "markdown",
   "metadata": {},
   "source": [
    "### Keep Only Terms with Tree Depth >= 4"
   ]
  },
  {
   "cell_type": "code",
   "execution_count": null,
   "metadata": {},
   "outputs": [],
   "source": [
    "lst = []\n",
    "\n",
    "for i in tqdm(gocc.index):\n",
    "    \n",
    "    term = gocc.loc[i, 'GO ID']\n",
    "    if term in digraph.nodes:\n",
    "        if digraph.nodes[term]['depth'] >= 4:\n",
    "            lst.append(term)\n",
    "        else:\n",
    "            lst.append(np.nan)\n",
    "    else:\n",
    "        lst.append(np.nan)\n",
    "\n",
    "gocc['GO ID'] = lst\n",
    "gocc = gocc.dropna()\n",
    "gocc"
   ]
  },
  {
   "cell_type": "markdown",
   "metadata": {},
   "source": [
    "### Propagate Child Gene-Term Relations to Parent Terms"
   ]
  },
  {
   "cell_type": "code",
   "execution_count": null,
   "metadata": {},
   "outputs": [],
   "source": [
    "lst1 = []\n",
    "lst2 = []\n",
    "lst3 = []\n",
    "\n",
    "for i in tqdm(gocc.index):\n",
    "    term = gocc.loc[i, 'GO ID']\n",
    "    for parent in digraph.successors(term):\n",
    "        if parent in digraph.nodes and digraph.nodes[parent]['depth'] >= 4:\n",
    "            lst1.append(gocc.loc[i, 'DB Object Symbol'])\n",
    "            lst2.append(parent)\n",
    "\n",
    "temp = pd.DataFrame()\n",
    "temp['DB Object Symbol'] = lst1\n",
    "temp['GO ID']  = lst2\n",
    "gocc = pd.concat([gocc, temp])\n",
    "gocc = gocc.reset_index(drop=True)\n",
    "gocc"
   ]
  },
  {
   "cell_type": "markdown",
   "metadata": {},
   "source": [
    "### Map GO ID to Descriptive Name"
   ]
  },
  {
   "cell_type": "code",
   "execution_count": null,
   "metadata": {},
   "outputs": [],
   "source": [
    "lst = []\n",
    "\n",
    "for i in tqdm(gocc.index):\n",
    "    lst.append(str(digraph.nodes[gocc.loc[i, 'GO ID']]['name']))\n",
    "    \n",
    "gocc['GO Term Name'] = lst\n",
    "gocc"
   ]
  },
  {
   "cell_type": "markdown",
   "metadata": {},
   "source": [
    "### Map Gene Symbols to Up-to-date Approved Gene Symbols"
   ]
  },
  {
   "cell_type": "code",
   "execution_count": null,
   "metadata": {},
   "outputs": [],
   "source": [
    "gene_info = pd.read_csv('https://ftp.ncbi.nih.gov/gene/DATA/GENE_INFO/Mammalia/Homo_sapiens.gene_info.gz', sep='\\t', compression='gzip')\n",
    "gene_info = gene_info[(gene_info['#tax_id']==9606) & (gene_info['type_of_gene']=='protein-coding')][['GeneID', 'Symbol', 'Synonyms', 'description']]\n",
    "gene_info['Symbol'] = gene_info['Symbol'].str.upper()\n",
    "gene_info['Synonyms'] = gene_info['Synonyms'].str.upper()\n",
    "gene_info['Synonyms'] = gene_info['Synonyms'].str.split('|')\n",
    "gene_info['Synonyms'] = gene_info.apply(lambda x: x.Synonyms + [x.Symbol], axis=1)\n",
    "gene_info = gene_info.explode('Synonyms')\n",
    "gene_info = gene_info[~gene_info['Synonyms'].apply(lambda x: x=='-')]\n",
    "gene_info"
   ]
  },
  {
   "cell_type": "code",
   "execution_count": null,
   "metadata": {},
   "outputs": [],
   "source": [
    "genesymbols = gene_info.set_index('Synonyms')['Symbol'].to_dict()\n",
    "\n",
    "lst1 = []\n",
    "\n",
    "for i in tqdm(gocc.index):\n",
    "\n",
    "    if gocc.loc[i, 'DB Object Symbol'].upper() in genesymbols:\n",
    "        lst1.append(genesymbols[gocc.loc[i, 'DB Object Symbol'].upper()])\n",
    "    else:\n",
    "        lst1.append(np.nan)\n",
    "\n",
    "gocc['DB Object Symbol'] = lst1\n",
    "\n",
    "\n",
    "gocc = gocc.dropna(subset=['DB Object Symbol']).drop_duplicates(subset=['DB Object Symbol', 'GO ID']).reset_index(drop=True)\n",
    "gocc.columns = ['Gene Symbol', 'GO ID', 'GO Cellular Component']\n",
    "gocc"
   ]
  },
  {
   "cell_type": "code",
   "execution_count": null,
   "metadata": {},
   "outputs": [],
   "source": [
    "gsl = gocc.groupby('GO Cellular Component')['Gene Symbol'].count()\n",
    "gsl[gsl>=5]"
   ]
  },
  {
   "cell_type": "code",
   "execution_count": null,
   "metadata": {},
   "outputs": [],
   "source": [
    "gocc.nunique()"
   ]
  },
  {
   "cell_type": "markdown",
   "metadata": {},
   "source": [
    "## Prepare Data For SQL Ingestion"
   ]
  },
  {
   "cell_type": "markdown",
   "metadata": {},
   "source": [
    "### Dataset"
   ]
  },
  {
   "cell_type": "code",
   "execution_count": null,
   "metadata": {},
   "outputs": [],
   "source": [
    "#(name, name_without_resource, description, association, gene_set_description, gene_sets_description, attribute_set_description, is_signed, is_continuous, last_updated, directory, num_page views, resource_fk, measurement_fk, dataset_group_fk, attribute_type_fk, attribute_group_fk, evidence_type, evidence_group, measurement_bias, attribute_type_plural)\n",
    "(169, 'GO Cellular Component Annotations 2025', 'Cellular Component Annotations 2025', 'curated annotations of genes with cellular components', 'gene-cellular component associations from curated gene annotations', 'proteins localized to the {0} cellular component from the curated GO Cellular Component Annotations 2025 dataset.', 'sets of proteins localized to cellular components from the curated GO Cellular Component Annotations 2025 dataset.', 'cellular components containing {0} protein from the curated GO Cellular Component Annotations 2025 dataset.', 0, 0, '2025-03-10', 'gocc25', 0, 24, 4, 6, 19, 4, 'association by literature curation', 'curated literature', 'low throughput, hypothesis driven', 'cellular components')"
   ]
  },
  {
   "cell_type": "markdown",
   "metadata": {},
   "source": [
    "### Gene"
   ]
  },
  {
   "cell_type": "code",
   "execution_count": null,
   "metadata": {},
   "outputs": [],
   "source": [
    "genes = pd.read_csv('../../../tables/gene.csv')\n",
    "genes['symbol'] = genes['symbol'].str.upper()\n",
    "genelist = set(genes['symbol'])\n",
    "genefks = genes.set_index('symbol')['id'].to_dict()\n",
    "geneids = gene_info.set_index('Symbol')['GeneID'].drop_duplicates()\n",
    "genedescs = gene_info.set_index('Symbol')['description'].drop_duplicates()"
   ]
  },
  {
   "cell_type": "code",
   "execution_count": null,
   "metadata": {},
   "outputs": [],
   "source": [
    "index = 58762\n",
    "geneurl = 'https://ncbi.nlm.nih.gov/gene/'\n",
    "\n",
    "for gene in gocc['Gene Symbol'].str.upper().unique():\n",
    "    if gene not in genelist:\n",
    "        geneid = geneids[gene]\n",
    "        print((index, gene, geneid, genedescs[gene], geneurl+str(geneid)), end=',\\n')\n",
    "        genefks[gene] = index\n",
    "        index += 1"
   ]
  },
  {
   "cell_type": "markdown",
   "metadata": {},
   "source": [
    "### Attribute"
   ]
  },
  {
   "cell_type": "code",
   "execution_count": null,
   "metadata": {},
   "outputs": [],
   "source": [
    "attributes = pd.read_csv('../../../tables/attribute.tsv', sep='\\t')\n",
    "#attributes = attributes[attributes['naming_authority_fk']==9]\n",
    "attributes['name_from_naming_authority'] = attributes['name_from_naming_authority'].str.lower()\n",
    "attributefks = attributes.set_index('name_from_naming_authority')['id'].to_dict()\n",
    "goccids = gocc.set_index('GO Cellular Component')['GO ID'].drop_duplicates().to_dict()"
   ]
  },
  {
   "cell_type": "code",
   "execution_count": null,
   "metadata": {},
   "outputs": [],
   "source": [
    "#(id, name_from_naming_authority, id_from_naming_authority, url_from_naming_authority, naming_authority_fk)\n",
    "index = 446254\n",
    "attributeurl = 'http://purl.obolibrary.org/obo/'\n",
    "\n",
    "\n",
    "for component in gocc['GO Cellular Component'].unique():\n",
    "    goid = goccids[component]\n",
    "    if component.lower() not in attributefks:\n",
    "        print((index, component, goid.replace('GO:', 'GO_'), attributeurl+goid, 9), end=',\\n')\n",
    "        attributefks[component.lower()] = index\n",
    "        index += 1"
   ]
  },
  {
   "cell_type": "markdown",
   "metadata": {},
   "source": [
    "### Gene Set"
   ]
  },
  {
   "cell_type": "code",
   "execution_count": null,
   "metadata": {},
   "outputs": [],
   "source": [
    "#(id, name_from_dataset, id_from_dataset, url_from_dataset, dataset_fk, attribute_type, attribute_fk)\n",
    "index = 137000000\n",
    "geneseturl = 'http://amigo.geneontology.org/amigo/term/'\n",
    "genesetfks = {}\n",
    "\n",
    "for component in gocc['GO Cellular Component'].unique():\n",
    "    goid = goccids[component]\n",
    "    print((index, component, goid.replace('GO:', 'GO_'), geneseturl+goid, 169, 19, attributefks[component.lower()]), end=',\\n')\n",
    "    genesetfks[goid] = index\n",
    "    index += 1"
   ]
  },
  {
   "cell_type": "markdown",
   "metadata": {},
   "source": [
    "### Association"
   ]
  },
  {
   "cell_type": "code",
   "execution_count": null,
   "metadata": {},
   "outputs": [],
   "source": [
    "index = 56000000\n",
    "\n",
    "associations = gocc.copy()\n",
    "associations['Gene Symbol'] = associations['Gene Symbol'].apply(lambda x: genefks[x])\n",
    "associations['GO ID'] = associations['GO ID'].apply(lambda x: genesetfks[x])\n",
    "\n",
    "associations = associations.get(['Gene Symbol', 'GO ID'])\n",
    "associations.columns = ['gene_fk', 'gene_set_fk']\n",
    "associations['threshold_value'] = 1\n",
    "associations.index += index\n",
    "associations = associations.rename_axis('id')\n",
    "associations.to_csv('../../../harmonizome-update/gocellcomp25.csv')\n",
    "associations"
   ]
  },
  {
   "cell_type": "markdown",
   "metadata": {},
   "source": [
    "## Create Downloads"
   ]
  },
  {
   "cell_type": "code",
   "execution_count": null,
   "metadata": {},
   "outputs": [],
   "source": [
    "output_path = 'cellcomp25/downloads/'\n",
    "gocc['Gene ID'] = gocc['Gene Symbol'].apply(lambda x: geneids[x])\n",
    "gocc"
   ]
  },
  {
   "cell_type": "markdown",
   "metadata": {},
   "source": [
    "### Binary Matrix"
   ]
  },
  {
   "cell_type": "code",
   "execution_count": null,
   "metadata": {},
   "outputs": [],
   "source": [
    "binarymatrix = pd.crosstab(gocc['Gene Symbol'], gocc['GO Cellular Component'])\n",
    "binarymatrixT = binarymatrix.T\n",
    "binarymatrix.to_csv(output_path+'gene_attribute_matrix.txt.gz', sep='\\t', compression='gzip')\n",
    "binarymatrix"
   ]
  },
  {
   "cell_type": "markdown",
   "metadata": {},
   "source": [
    "### Gene-Attribute Edge List"
   ]
  },
  {
   "cell_type": "code",
   "execution_count": null,
   "metadata": {},
   "outputs": [],
   "source": [
    "edgelist = gocc[['Gene Symbol', 'Gene ID', 'GO Cellular Component', 'GO ID']]\n",
    "edgelist.to_csv(output_path+'gene_attribute_edges.txt.gz', sep='\\t', compression='gzip')\n",
    "edgelist"
   ]
  },
  {
   "cell_type": "markdown",
   "metadata": {},
   "source": [
    "### Gene List"
   ]
  },
  {
   "cell_type": "code",
   "execution_count": null,
   "metadata": {},
   "outputs": [],
   "source": [
    "geneslist = gocc[['Gene Symbol', 'Gene ID']].drop_duplicates().reset_index(drop=True)\n",
    "geneslist.to_csv(output_path+'gene_list_terms.txt.gz', sep='\\t', compression='gzip')\n",
    "geneslist"
   ]
  },
  {
   "cell_type": "markdown",
   "metadata": {},
   "source": [
    "### Attribute List"
   ]
  },
  {
   "cell_type": "code",
   "execution_count": null,
   "metadata": {},
   "outputs": [],
   "source": [
    "attributeslist = gocc[['GO Cellular Component', 'GO ID']].drop_duplicates().reset_index(drop=True)\n",
    "attributeslist.to_csv(output_path+'attribute_list_entries.txt.gz', sep='\\t', compression='gzip')\n",
    "attributeslist"
   ]
  },
  {
   "cell_type": "markdown",
   "metadata": {},
   "source": [
    "### Gene Set Library"
   ]
  },
  {
   "cell_type": "code",
   "execution_count": null,
   "metadata": {},
   "outputs": [],
   "source": [
    "with open(output_path+'gene_set_library_crisp.gmt', 'w') as f:\n",
    "    arr = binarymatrix.reset_index(drop=True).to_numpy(dtype=np.int_)\n",
    "    attributes = binarymatrix.columns\n",
    "\n",
    "    w, h = arr.shape\n",
    "    for i in tqdm(range(h)):\n",
    "        if len([*binarymatrix.index[arr[:, i] == 1]])>= 5:\n",
    "            print(attributes[i]+' ('+goccids[attributes[i]]+')', *binarymatrix.index[arr[:, i] == 1], sep='\\t', end='\\n', file=f)"
   ]
  },
  {
   "cell_type": "markdown",
   "metadata": {},
   "source": [
    "### Attribute Set Library"
   ]
  },
  {
   "cell_type": "code",
   "execution_count": null,
   "metadata": {},
   "outputs": [],
   "source": [
    "with open(output_path+'attribute_set_library_crisp.gmt', 'w') as f:\n",
    "    arr = binarymatrixT.reset_index(drop=True).to_numpy(dtype=np.int_)\n",
    "    genes = binarymatrixT.columns\n",
    "\n",
    "    w, h = arr.shape\n",
    "    for i in tqdm(range(h)):\n",
    "        if len([*binarymatrixT.index[arr[:, i] == 1]])>= 5:\n",
    "            print(genes[i], *binarymatrixT.index[arr[:, i] == 1], sep='\\t', end='\\n', file=f)"
   ]
  },
  {
   "cell_type": "markdown",
   "metadata": {},
   "source": [
    "### Gene-Gene Similarity Matrix"
   ]
  },
  {
   "cell_type": "code",
   "execution_count": null,
   "metadata": {},
   "outputs": [],
   "source": [
    "gene_similarity_matrix = dist.pdist(binarymatrix.to_numpy(dtype=np.int_), 'cosine')\n",
    "gene_similarity_matrix = dist.squareform(gene_similarity_matrix)\n",
    "gene_similarity_matrix = 1 - gene_similarity_matrix\n",
    "\n",
    "gene_similarity_matrix = pd.DataFrame(data=gene_similarity_matrix, index=binarymatrix.index, columns=binarymatrix.index)\n",
    "gene_similarity_matrix.index.name = None\n",
    "gene_similarity_matrix.columns.name = None\n",
    "gene_similarity_matrix.to_csv(output_path+'gene_similarity_matrix_cosine.txt.gz', sep='\\t', compression='gzip')\n",
    "gene_similarity_matrix"
   ]
  },
  {
   "cell_type": "markdown",
   "metadata": {},
   "source": [
    "### Attribute-Attribute Similarity Matrix"
   ]
  },
  {
   "cell_type": "code",
   "execution_count": null,
   "metadata": {},
   "outputs": [],
   "source": [
    "attribute_similarity_matrix = dist.pdist(binarymatrixT.to_numpy(dtype=np.int_), 'cosine')\n",
    "attribute_similarity_matrix = dist.squareform(attribute_similarity_matrix)\n",
    "attribute_similarity_matrix = 1 - attribute_similarity_matrix\n",
    "\n",
    "attribute_similarity_matrix = pd.DataFrame(data=attribute_similarity_matrix, index=binarymatrixT.index, columns=binarymatrixT.index)\n",
    "attribute_similarity_matrix.index.name = None\n",
    "attribute_similarity_matrix.columns.name = None\n",
    "attribute_similarity_matrix.to_csv(output_path+'attribute_similarity_matrix_cosine.txt.gz', sep='\\t', compression='gzip')\n",
    "attribute_similarity_matrix"
   ]
  },
  {
   "cell_type": "markdown",
   "metadata": {},
   "source": [
    "### Knowledge Graph Serialization"
   ]
  },
  {
   "cell_type": "code",
   "execution_count": null,
   "metadata": {},
   "outputs": [],
   "source": [
    "nodes = {}\n",
    "edges = []\n",
    "\n",
    "for gene in geneslist.index:\n",
    "    gene = geneslist.loc[gene]\n",
    "    nodes[int(gene['Gene ID'])] = {\n",
    "        \"type\":\"gene\",\n",
    "        \"properties\": {\n",
    "            \"id\":int(gene['Gene ID']),\n",
    "            \"label\":gene['Gene Symbol']\n",
    "        }}\n",
    "\n",
    "for cellularcomponent in attributeslist.index:\n",
    "    cellularcomponent = attributeslist.loc[cellularcomponent]\n",
    "    nodes[cellularcomponent['GO ID']] = {\n",
    "        \"type\":\"cellular component\",\n",
    "        \"properties\": {\n",
    "            \"id\":cellularcomponent['GO ID'],\n",
    "            \"label\":cellularcomponent['GO Cellular Component']\n",
    "        }}\n",
    "\n",
    "for edge in edgelist.index:\n",
    "    edge = edgelist.loc[edge]\n",
    "    edges.append({\n",
    "        \"source\": int(edge['Gene ID']),\n",
    "        \"relation\": \"contained in\",\n",
    "        \"target\": edge['GO ID'],\n",
    "        \"properties\":{\n",
    "            \"id\":str(edge['Gene ID'])+\":\"+edge['GO ID'],\n",
    "            \"source_id\":int(edge['Gene ID']),\n",
    "            \"source_label\":edge['Gene Symbol'],\n",
    "            \"target_label\":edge['GO Cellular Component'],\n",
    "            \"target_id\":edge['GO ID'],\n",
    "            \"directed\":True,\n",
    "            \"threshold\":1\n",
    "        }})"
   ]
  },
  {
   "cell_type": "markdown",
   "metadata": {},
   "source": [
    "#### RDF"
   ]
  },
  {
   "cell_type": "code",
   "execution_count": null,
   "metadata": {},
   "outputs": [],
   "source": [
    "with open(output_path+'kg_serializations/gocc25.rdf', 'w') as f:\n",
    "    print('@prefix gene: <https://www.ncbi.nlm.nih.gov/gene/> .', file=f)\n",
    "    print('@prefix RO: <http://purl.obolibrary.org/RO_> .', file=f)\n",
    "    print('@prefix GO: <https://amigo.geneontology.org/amigo/term/GO:>.', file=f)\n",
    "    print('', file=f)\n",
    "    for edge in edges:\n",
    "        print('gene:'+str(edge['properties']['source_id']), 'RO:0001018', edge['properties']['target_id'], end=' .\\n', file=f)"
   ]
  },
  {
   "cell_type": "markdown",
   "metadata": {},
   "source": [
    "#### JSON"
   ]
  },
  {
   "cell_type": "code",
   "execution_count": null,
   "metadata": {},
   "outputs": [],
   "source": [
    "with open(output_path+'kg_serializations/gocc25.json', 'w') as f:\n",
    "    serial = json.dump(\n",
    "        {\n",
    "            \"Version\":\"1\", \n",
    "            \"nodes\": nodes,\n",
    "            \"edges\": edges\n",
    "        }, indent=4, fp=f)"
   ]
  },
  {
   "cell_type": "markdown",
   "metadata": {},
   "source": [
    "#### TSV"
   ]
  },
  {
   "cell_type": "code",
   "execution_count": null,
   "metadata": {},
   "outputs": [],
   "source": [
    "nodeframe = pd.DataFrame(nodes).T\n",
    "nodeframe['id'] = nodeframe['properties'].apply(lambda x: x['id'])\n",
    "nodeframe['label'] = nodeframe['properties'].apply(lambda x: x['label'])\n",
    "nodeframe['namespace'] = nodeframe['type'].apply(lambda x: {'gene':'NCBI Entrez', 'cellular component':'Gene Ontology'}[x])\n",
    "nodeframe = nodeframe.get(['namespace', 'id', 'label']).reset_index(drop=True)\n",
    "nodeframe.to_csv(output_path+'kg_serializations/gocc25_tsv/nodes.tsv', sep='\\t')\n",
    "nodeframe"
   ]
  },
  {
   "cell_type": "code",
   "execution_count": null,
   "metadata": {},
   "outputs": [],
   "source": [
    "edgeframe = pd.DataFrame(edges)\n",
    "edgeframe['threshold'] = edgeframe['properties'].apply(lambda x: x['threshold'])\n",
    "edgeframe = edgeframe.get(['source', 'relation', 'target', 'threshold'])\n",
    "edgeframe.to_csv(output_path+'kg_serializations/gocc25_tsv/edges.tsv', sep='\\t')\n",
    "edgeframe"
   ]
  },
  {
   "cell_type": "markdown",
   "metadata": {},
   "source": [
    "## Create Visualizations"
   ]
  },
  {
   "cell_type": "markdown",
   "metadata": {},
   "source": [
    "### Gene-Attribute Clustermap"
   ]
  },
  {
   "cell_type": "code",
   "execution_count": null,
   "metadata": {},
   "outputs": [],
   "source": [
    "sns.clustermap(binarymatrix, cmap='seismic', center=0, figsize=(10,10), xticklabels=False, yticklabels=False)"
   ]
  },
  {
   "cell_type": "markdown",
   "metadata": {},
   "source": [
    "### Gene-Gene Similarity Clustermap"
   ]
  },
  {
   "cell_type": "code",
   "execution_count": null,
   "metadata": {},
   "outputs": [],
   "source": [
    "sns.clustermap(gene_similarity_matrix, cmap='seismic', center=0)"
   ]
  },
  {
   "cell_type": "markdown",
   "metadata": {},
   "source": [
    "### Attribute-Attribute Similarity Clustermap"
   ]
  },
  {
   "cell_type": "code",
   "execution_count": null,
   "metadata": {},
   "outputs": [],
   "source": [
    "sns.clustermap(attribute_similarity_matrix, cmap='seismic', center=0, xticklabels=False, yticklabels=False)"
   ]
  },
  {
   "cell_type": "markdown",
   "metadata": {},
   "source": [
    "### UMAP"
   ]
  },
  {
   "cell_type": "code",
   "execution_count": null,
   "metadata": {},
   "outputs": [],
   "source": [
    "def load_gmt(file):\n",
    "    gmt = OrderedDict()\n",
    "    for line in file:\n",
    "        term, _ ,*geneset = line.strip().split('\\t')\n",
    "        gmt[term] = ' '.join(set(geneset))\n",
    "    return gmt"
   ]
  },
  {
   "cell_type": "code",
   "execution_count": null,
   "metadata": {},
   "outputs": [],
   "source": [
    "libdict = load_gmt(open('cellcomp25/downloads/gene_set_library_crisp.gmt', 'r'))\n",
    "scatterdir = 'cellcomp25/images/'"
   ]
  },
  {
   "cell_type": "code",
   "execution_count": null,
   "metadata": {},
   "outputs": [],
   "source": [
    "def component_scatterplot(libdict, nneighbors=30, mindist=0.1, spread=1.0, maxdf=1.0, mindf=1):\n",
    "    print(\"\\tTF-IDF vectorizing gene set data...\")\n",
    "    vec = TfidfVectorizer(max_df=maxdf, min_df=mindf)\n",
    "    X = vec.fit_transform(libdict.values())\n",
    "    print(X.shape)\n",
    "    adata = anndata.AnnData(X)\n",
    "    adata.obs.index = libdict.keys()\n",
    "\n",
    "    print(\"\\tPerforming Leiden clustering...\")\n",
    "    ### the n_neighbors and min_dist parameters can be altered\n",
    "    sc.pp.neighbors(adata, n_neighbors=nneighbors)\n",
    "    sc.tl.leiden(adata, resolution=1.0)\n",
    "    sc.tl.umap(adata, min_dist=mindist, spread=spread, random_state=42)\n",
    "\n",
    "    new_order = adata.obs.sort_values(by='leiden').index.tolist()\n",
    "    adata = adata[new_order, :]\n",
    "    adata.obs['leiden'] = 'Cluster ' + adata.obs['leiden'].astype('object')\n",
    "\n",
    "    df = pd.DataFrame(adata.obsm['X_umap'])\n",
    "    df.columns = ['x', 'y']\n",
    "\n",
    "    df['cluster'] = adata.obs['leiden'].values\n",
    "    df['term'] = adata.obs.index\n",
    "    df['genes'] = [libdict[l] for l in df['term']]\n",
    "\n",
    "    return df"
   ]
  },
  {
   "cell_type": "code",
   "execution_count": null,
   "metadata": {},
   "outputs": [],
   "source": [
    "def get_scatter_colors(df):\n",
    "    clusters = pd.unique(df['cluster']).tolist()\n",
    "    colors = list(Category20[20])[::2] + list(Category20[20])[1::2]\n",
    "    color_mapper = {clusters[i]: colors[i % 20] for i in range(len(clusters))}\n",
    "    return color_mapper\n",
    "\n",
    "def get_scatterplot(scatterdf):\n",
    "    df = scatterdf.copy()\n",
    "    color_mapper = get_scatter_colors(df)\n",
    "    df['color'] = df['cluster'].apply(lambda x: color_mapper[x])\n",
    "\n",
    "    hover_emb = HoverTool(name=\"df\", tooltips=\"\"\"\n",
    "        <div style=\"margin: 10\">\n",
    "            <div style=\"margin: 0 auto; width:300px;\">\n",
    "                <span style=\"font-size: 12px; font-weight: bold;\">Gene Set:</span>\n",
    "                <span style=\"font-size: 12px\">@gene_set</span>\n",
    "            <div style=\"margin: 0 auto; width:300px;\">\n",
    "                <span style=\"font-size: 12px; font-weight: bold;\">Coordinates:</span>\n",
    "                <span style=\"font-size: 12px\">(@x,@y)</span>\n",
    "            <div style=\"margin: 0 auto; width:300px;\">\n",
    "                <span style=\"font-size: 12px; font-weight: bold;\">Cluster:</span>\n",
    "                <span style=\"font-size: 12px\">@cluster</span>\n",
    "            </div>\n",
    "        </div>\n",
    "    \"\"\")\n",
    "    tools_emb = [hover_emb, 'pan', 'wheel_zoom', 'reset', 'save']\n",
    "\n",
    "    plot_emb = figure(\n",
    "        width=1000, \n",
    "        height=700, \n",
    "        tools=tools_emb\n",
    "    )\n",
    "\n",
    "    source = ColumnDataSource(\n",
    "        data=dict(\n",
    "            x = df['x'],\n",
    "            y = df['y'],\n",
    "            gene_set = df['term'],\n",
    "            cluster = df['cluster'],\n",
    "            colors = df['color'],\n",
    "            label = df['cluster']\n",
    "        )\n",
    "    )\n",
    "\n",
    "    # hide axis labels and grid lines\n",
    "    plot_emb.xaxis.major_tick_line_color = None\n",
    "    plot_emb.xaxis.minor_tick_line_color = None\n",
    "    plot_emb.yaxis.major_tick_line_color = None\n",
    "    plot_emb.yaxis.minor_tick_line_color = None\n",
    "    plot_emb.xaxis.major_label_text_font_size = '0pt'\n",
    "    plot_emb.yaxis.major_label_text_font_size = '0pt' \n",
    "\n",
    "    plot_emb.output_backend = \"svg\"    \n",
    "    \n",
    "    plot_emb.title = 'Gene Sets in Gene Ontology Cellular Component Annotations 2025 Library'\n",
    "    plot_emb.xaxis.axis_label = \"UMAP_1\"\n",
    "    plot_emb.yaxis.axis_label = \"UMAP_2\"\n",
    "    plot_emb.xaxis.axis_label_text_font_style = 'normal'\n",
    "    plot_emb.xaxis.axis_label_text_font_size = '18px'\n",
    "    plot_emb.yaxis.axis_label_text_font_size = '18px'\n",
    "    plot_emb.yaxis.axis_label_text_font_style = 'normal'\n",
    "    plot_emb.title.align = 'center'\n",
    "    plot_emb.title.text_font_size = '18px'\n",
    "    \n",
    "    s = plot_emb.scatter(\n",
    "        'x', \n",
    "        'y', \n",
    "        size = 4, \n",
    "        source = source, \n",
    "        color = 'colors'\n",
    "    )\n",
    "    \n",
    "    return plot_emb"
   ]
  },
  {
   "cell_type": "code",
   "execution_count": null,
   "metadata": {},
   "outputs": [],
   "source": [
    "## defaults: nneighbors=30, mindist=0.1, spread=1.0, maxdf=1.0, mindf=1\n",
    "scatter_df = component_scatterplot(libdict, nneighbors=30,mindist=0.1\n",
    "    # spread=0.8, \n",
    "    # maxdf=0.5, \n",
    "    # mindf=10\n",
    ")\n",
    "\n",
    "# Display Scatter Plot\n",
    "plot = get_scatterplot(scatter_df)\n",
    "output_notebook()\n",
    "show(plot)"
   ]
  },
  {
   "cell_type": "code",
   "execution_count": null,
   "metadata": {},
   "outputs": [],
   "source": [
    "# save HTML if desired\n",
    "output_file(filename=f\"{scatterdir}/umap.html\", title = 'Gene Sets in Gene Ontology Cellular Component Annotations 2025 Library')\n",
    "save(plot)"
   ]
  }
 ],
 "metadata": {
  "kernelspec": {
   "display_name": "Python 3.10.13 ('harmonizomeETL')",
   "language": "python",
   "name": "python3"
  },
  "language_info": {
   "codemirror_mode": {
    "name": "ipython",
    "version": 3
   },
   "file_extension": ".py",
   "mimetype": "text/x-python",
   "name": "python",
   "nbconvert_exporter": "python",
   "pygments_lexer": "ipython3",
   "version": "3.10.13"
  },
  "orig_nbformat": 4,
  "vscode": {
   "interpreter": {
    "hash": "3ad6724d56c4b72bd8e5b8da3c2e0dcf6d86fdd164f3c98d6d6a78c076afabab"
   }
  }
 },
 "nbformat": 4,
 "nbformat_minor": 2
}
