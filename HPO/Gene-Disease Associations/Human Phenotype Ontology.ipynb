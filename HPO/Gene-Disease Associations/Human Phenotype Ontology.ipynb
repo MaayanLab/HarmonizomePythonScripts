{
 "cells": [
  {
   "cell_type": "markdown",
   "metadata": {},
   "source": [
    "# Human Phenotype Ontology"
   ]
  },
  {
   "cell_type": "markdown",
   "metadata": {},
   "source": [
    "Author: Moshe Silverstein <br/>\n",
    "Date: 11-17 <br/>\n",
    "Data Source: http://www.human-phenotype-ontology.org/"
   ]
  },
  {
   "cell_type": "code",
   "execution_count": 1,
   "metadata": {
    "collapsed": true
   },
   "outputs": [],
   "source": [
    "import sys, datetime, os\n",
    "import numpy as np\n",
    "import pandas as pd\n",
    "import importlib\n",
    "import untility_functions as uf\n",
    "%matplotlib inline"
   ]
  },
  {
   "cell_type": "code",
   "execution_count": 2,
   "metadata": {},
   "outputs": [
    {
     "data": {
      "text/plain": [
       "<module 'untility_functions' from '/Users/moshesilverstein/Documents/Harmonizome/Human Phenotype Ontology/untility_functions.py'>"
      ]
     },
     "execution_count": 2,
     "metadata": {},
     "output_type": "execute_result"
    }
   ],
   "source": [
    "importlib.reload(uf)"
   ]
  },
  {
   "cell_type": "markdown",
   "metadata": {},
   "source": [
    "# Load Data"
   ]
  },
  {
   "cell_type": "code",
   "execution_count": 3,
   "metadata": {},
   "outputs": [],
   "source": [
    "df = pd.read_csv('Input/ALL_SOURCES_ALL_FREQUENCIES_phenotype_to_genes.txt', sep='\\t', skiprows=1, header=None)"
   ]
  },
  {
   "cell_type": "code",
   "execution_count": 4,
   "metadata": {},
   "outputs": [
    {
     "data": {
      "text/html": [
       "<div>\n",
       "<style>\n",
       "    .dataframe thead tr:only-child th {\n",
       "        text-align: right;\n",
       "    }\n",
       "\n",
       "    .dataframe thead th {\n",
       "        text-align: left;\n",
       "    }\n",
       "\n",
       "    .dataframe tbody tr th {\n",
       "        vertical-align: top;\n",
       "    }\n",
       "</style>\n",
       "<table border=\"1\" class=\"dataframe\">\n",
       "  <thead>\n",
       "    <tr style=\"text-align: right;\">\n",
       "      <th></th>\n",
       "      <th>0</th>\n",
       "      <th>1</th>\n",
       "      <th>2</th>\n",
       "      <th>3</th>\n",
       "    </tr>\n",
       "  </thead>\n",
       "  <tbody>\n",
       "    <tr>\n",
       "      <th>0</th>\n",
       "      <td>HP:0001459</td>\n",
       "      <td>1-3 toe syndactyly</td>\n",
       "      <td>2737</td>\n",
       "      <td>GLI3</td>\n",
       "    </tr>\n",
       "    <tr>\n",
       "      <th>1</th>\n",
       "      <td>HP:0006088</td>\n",
       "      <td>1-5 finger complete cutaneous syndactyly</td>\n",
       "      <td>64327</td>\n",
       "      <td>LMBR1</td>\n",
       "    </tr>\n",
       "    <tr>\n",
       "      <th>2</th>\n",
       "      <td>HP:0010708</td>\n",
       "      <td>1-5 finger syndactyly</td>\n",
       "      <td>6469</td>\n",
       "      <td>SHH</td>\n",
       "    </tr>\n",
       "    <tr>\n",
       "      <th>3</th>\n",
       "      <td>HP:0010708</td>\n",
       "      <td>1-5 finger syndactyly</td>\n",
       "      <td>64327</td>\n",
       "      <td>LMBR1</td>\n",
       "    </tr>\n",
       "    <tr>\n",
       "      <th>4</th>\n",
       "      <td>HP:0010713</td>\n",
       "      <td>1-5 toe syndactyly</td>\n",
       "      <td>2737</td>\n",
       "      <td>GLI3</td>\n",
       "    </tr>\n",
       "  </tbody>\n",
       "</table>\n",
       "</div>"
      ],
      "text/plain": [
       "            0                                         1      2      3\n",
       "0  HP:0001459                        1-3 toe syndactyly   2737   GLI3\n",
       "1  HP:0006088  1-5 finger complete cutaneous syndactyly  64327  LMBR1\n",
       "2  HP:0010708                     1-5 finger syndactyly   6469    SHH\n",
       "3  HP:0010708                     1-5 finger syndactyly  64327  LMBR1\n",
       "4  HP:0010713                        1-5 toe syndactyly   2737   GLI3"
      ]
     },
     "execution_count": 4,
     "metadata": {},
     "output_type": "execute_result"
    }
   ],
   "source": [
    "df.head()"
   ]
  },
  {
   "cell_type": "code",
   "execution_count": 5,
   "metadata": {},
   "outputs": [
    {
     "data": {
      "text/plain": [
       "(419597, 4)"
      ]
     },
     "execution_count": 5,
     "metadata": {},
     "output_type": "execute_result"
    }
   ],
   "source": [
    "df.shape"
   ]
  },
  {
   "cell_type": "markdown",
   "metadata": {},
   "source": [
    "# Get Relevant Data"
   ]
  },
  {
   "cell_type": "code",
   "execution_count": 6,
   "metadata": {
    "collapsed": true
   },
   "outputs": [],
   "source": [
    "df = df[[1,3]] "
   ]
  },
  {
   "cell_type": "code",
   "execution_count": 7,
   "metadata": {},
   "outputs": [
    {
     "data": {
      "text/html": [
       "<div>\n",
       "<style>\n",
       "    .dataframe thead tr:only-child th {\n",
       "        text-align: right;\n",
       "    }\n",
       "\n",
       "    .dataframe thead th {\n",
       "        text-align: left;\n",
       "    }\n",
       "\n",
       "    .dataframe tbody tr th {\n",
       "        vertical-align: top;\n",
       "    }\n",
       "</style>\n",
       "<table border=\"1\" class=\"dataframe\">\n",
       "  <thead>\n",
       "    <tr style=\"text-align: right;\">\n",
       "      <th></th>\n",
       "      <th>1</th>\n",
       "      <th>3</th>\n",
       "    </tr>\n",
       "  </thead>\n",
       "  <tbody>\n",
       "    <tr>\n",
       "      <th>0</th>\n",
       "      <td>1-3 toe syndactyly</td>\n",
       "      <td>GLI3</td>\n",
       "    </tr>\n",
       "    <tr>\n",
       "      <th>1</th>\n",
       "      <td>1-5 finger complete cutaneous syndactyly</td>\n",
       "      <td>LMBR1</td>\n",
       "    </tr>\n",
       "    <tr>\n",
       "      <th>2</th>\n",
       "      <td>1-5 finger syndactyly</td>\n",
       "      <td>SHH</td>\n",
       "    </tr>\n",
       "    <tr>\n",
       "      <th>3</th>\n",
       "      <td>1-5 finger syndactyly</td>\n",
       "      <td>LMBR1</td>\n",
       "    </tr>\n",
       "    <tr>\n",
       "      <th>4</th>\n",
       "      <td>1-5 toe syndactyly</td>\n",
       "      <td>GLI3</td>\n",
       "    </tr>\n",
       "  </tbody>\n",
       "</table>\n",
       "</div>"
      ],
      "text/plain": [
       "                                          1      3\n",
       "0                        1-3 toe syndactyly   GLI3\n",
       "1  1-5 finger complete cutaneous syndactyly  LMBR1\n",
       "2                     1-5 finger syndactyly    SHH\n",
       "3                     1-5 finger syndactyly  LMBR1\n",
       "4                        1-5 toe syndactyly   GLI3"
      ]
     },
     "execution_count": 7,
     "metadata": {},
     "output_type": "execute_result"
    }
   ],
   "source": [
    "df.head()"
   ]
  },
  {
   "cell_type": "markdown",
   "metadata": {},
   "source": [
    "# Map Gene Symbols To Up-to-date Approved Gene Symbols"
   ]
  },
  {
   "cell_type": "code",
   "execution_count": 8,
   "metadata": {
    "collapsed": true
   },
   "outputs": [],
   "source": [
    "df.set_index(3, inplace=True)"
   ]
  },
  {
   "cell_type": "code",
   "execution_count": 9,
   "metadata": {},
   "outputs": [
    {
     "name": "stdout",
     "output_type": "stream",
     "text": [
      "Progeres: 100%  419597 Out of 419597   \r"
     ]
    }
   ],
   "source": [
    "uf.mapgenesymbols(df)"
   ]
  },
  {
   "cell_type": "markdown",
   "metadata": {},
   "source": [
    "# Drop Duplicates"
   ]
  },
  {
   "cell_type": "code",
   "execution_count": 10,
   "metadata": {
    "collapsed": true
   },
   "outputs": [],
   "source": [
    "df.reset_index(inplace=True)"
   ]
  },
  {
   "cell_type": "code",
   "execution_count": 11,
   "metadata": {
    "collapsed": true
   },
   "outputs": [],
   "source": [
    "df.drop_duplicates(inplace=True)"
   ]
  },
  {
   "cell_type": "code",
   "execution_count": 12,
   "metadata": {},
   "outputs": [
    {
     "data": {
      "text/plain": [
       "(415410, 2)"
      ]
     },
     "execution_count": 12,
     "metadata": {},
     "output_type": "execute_result"
    }
   ],
   "source": [
    "df.shape"
   ]
  },
  {
   "cell_type": "markdown",
   "metadata": {},
   "source": [
    "# Create Binary Matrix"
   ]
  },
  {
   "cell_type": "code",
   "execution_count": 13,
   "metadata": {},
   "outputs": [
    {
     "name": "stdout",
     "output_type": "stream",
     "text": [
      "Progeres: 100%  3644 Out of 3644   \r"
     ]
    }
   ],
   "source": [
    "binary_matrix = uf.createBinaryMatix(df)"
   ]
  },
  {
   "cell_type": "code",
   "execution_count": 14,
   "metadata": {},
   "outputs": [
    {
     "data": {
      "text/html": [
       "<div>\n",
       "<style>\n",
       "    .dataframe thead tr:only-child th {\n",
       "        text-align: right;\n",
       "    }\n",
       "\n",
       "    .dataframe thead th {\n",
       "        text-align: left;\n",
       "    }\n",
       "\n",
       "    .dataframe tbody tr th {\n",
       "        vertical-align: top;\n",
       "    }\n",
       "</style>\n",
       "<table border=\"1\" class=\"dataframe\">\n",
       "  <thead>\n",
       "    <tr style=\"text-align: right;\">\n",
       "      <th></th>\n",
       "      <th>Astrocytosis</th>\n",
       "      <th>Alopecia universalis</th>\n",
       "      <th>Aplasia/Hypoplasia of the pubic bone</th>\n",
       "      <th>Thromboembolic stroke</th>\n",
       "      <th>Respiratory arrest</th>\n",
       "      <th>Lipomatous tumor</th>\n",
       "      <th>Enlarged cisterna magna</th>\n",
       "      <th>Spontaneous esophageal perforation</th>\n",
       "      <th>Cerebellar Purkinje layer atrophy</th>\n",
       "      <th>Post-angioplasty coronary artery restenosis</th>\n",
       "      <th>...</th>\n",
       "      <th>Craniofacial dysostosis</th>\n",
       "      <th>Prominent U wave</th>\n",
       "      <th>Abnormal hypothalamus morphology</th>\n",
       "      <th>Contractures of the interphalangeal joint of the thumb</th>\n",
       "      <th>Hepatocellular necrosis</th>\n",
       "      <th>Oligodactyly</th>\n",
       "      <th>Vertebral clefting</th>\n",
       "      <th>Anterior beaking of lumbar vertebrae</th>\n",
       "      <th>Glioblastoma</th>\n",
       "      <th>Abnormality of the musculature of the upper arm</th>\n",
       "    </tr>\n",
       "  </thead>\n",
       "  <tbody>\n",
       "    <tr>\n",
       "      <th>SNRPB</th>\n",
       "      <td>0</td>\n",
       "      <td>0</td>\n",
       "      <td>0</td>\n",
       "      <td>0</td>\n",
       "      <td>0</td>\n",
       "      <td>0</td>\n",
       "      <td>0</td>\n",
       "      <td>0</td>\n",
       "      <td>0</td>\n",
       "      <td>0</td>\n",
       "      <td>...</td>\n",
       "      <td>0</td>\n",
       "      <td>0</td>\n",
       "      <td>0</td>\n",
       "      <td>0</td>\n",
       "      <td>0</td>\n",
       "      <td>0</td>\n",
       "      <td>0</td>\n",
       "      <td>0</td>\n",
       "      <td>0</td>\n",
       "      <td>0</td>\n",
       "    </tr>\n",
       "    <tr>\n",
       "      <th>OTULIN</th>\n",
       "      <td>0</td>\n",
       "      <td>0</td>\n",
       "      <td>0</td>\n",
       "      <td>0</td>\n",
       "      <td>0</td>\n",
       "      <td>0</td>\n",
       "      <td>0</td>\n",
       "      <td>0</td>\n",
       "      <td>0</td>\n",
       "      <td>0</td>\n",
       "      <td>...</td>\n",
       "      <td>0</td>\n",
       "      <td>0</td>\n",
       "      <td>0</td>\n",
       "      <td>0</td>\n",
       "      <td>0</td>\n",
       "      <td>0</td>\n",
       "      <td>0</td>\n",
       "      <td>0</td>\n",
       "      <td>0</td>\n",
       "      <td>0</td>\n",
       "    </tr>\n",
       "    <tr>\n",
       "      <th>MAPK1</th>\n",
       "      <td>0</td>\n",
       "      <td>0</td>\n",
       "      <td>0</td>\n",
       "      <td>0</td>\n",
       "      <td>0</td>\n",
       "      <td>0</td>\n",
       "      <td>0</td>\n",
       "      <td>0</td>\n",
       "      <td>0</td>\n",
       "      <td>0</td>\n",
       "      <td>...</td>\n",
       "      <td>0</td>\n",
       "      <td>0</td>\n",
       "      <td>0</td>\n",
       "      <td>0</td>\n",
       "      <td>0</td>\n",
       "      <td>0</td>\n",
       "      <td>0</td>\n",
       "      <td>0</td>\n",
       "      <td>0</td>\n",
       "      <td>0</td>\n",
       "    </tr>\n",
       "    <tr>\n",
       "      <th>TCF4</th>\n",
       "      <td>0</td>\n",
       "      <td>0</td>\n",
       "      <td>0</td>\n",
       "      <td>0</td>\n",
       "      <td>0</td>\n",
       "      <td>0</td>\n",
       "      <td>0</td>\n",
       "      <td>0</td>\n",
       "      <td>0</td>\n",
       "      <td>0</td>\n",
       "      <td>...</td>\n",
       "      <td>0</td>\n",
       "      <td>0</td>\n",
       "      <td>0</td>\n",
       "      <td>0</td>\n",
       "      <td>0</td>\n",
       "      <td>0</td>\n",
       "      <td>0</td>\n",
       "      <td>0</td>\n",
       "      <td>0</td>\n",
       "      <td>0</td>\n",
       "    </tr>\n",
       "    <tr>\n",
       "      <th>SHPK</th>\n",
       "      <td>0</td>\n",
       "      <td>0</td>\n",
       "      <td>0</td>\n",
       "      <td>0</td>\n",
       "      <td>0</td>\n",
       "      <td>0</td>\n",
       "      <td>0</td>\n",
       "      <td>0</td>\n",
       "      <td>0</td>\n",
       "      <td>0</td>\n",
       "      <td>...</td>\n",
       "      <td>0</td>\n",
       "      <td>0</td>\n",
       "      <td>0</td>\n",
       "      <td>0</td>\n",
       "      <td>0</td>\n",
       "      <td>0</td>\n",
       "      <td>0</td>\n",
       "      <td>0</td>\n",
       "      <td>0</td>\n",
       "      <td>0</td>\n",
       "    </tr>\n",
       "  </tbody>\n",
       "</table>\n",
       "<p>5 rows × 7841 columns</p>\n",
       "</div>"
      ],
      "text/plain": [
       "        Astrocytosis  Alopecia universalis  \\\n",
       "SNRPB              0                     0   \n",
       "OTULIN             0                     0   \n",
       "MAPK1              0                     0   \n",
       "TCF4               0                     0   \n",
       "SHPK               0                     0   \n",
       "\n",
       "        Aplasia/Hypoplasia of the pubic bone  Thromboembolic stroke  \\\n",
       "SNRPB                                      0                      0   \n",
       "OTULIN                                     0                      0   \n",
       "MAPK1                                      0                      0   \n",
       "TCF4                                       0                      0   \n",
       "SHPK                                       0                      0   \n",
       "\n",
       "        Respiratory arrest  Lipomatous tumor  Enlarged cisterna magna  \\\n",
       "SNRPB                    0                 0                        0   \n",
       "OTULIN                   0                 0                        0   \n",
       "MAPK1                    0                 0                        0   \n",
       "TCF4                     0                 0                        0   \n",
       "SHPK                     0                 0                        0   \n",
       "\n",
       "        Spontaneous esophageal perforation  Cerebellar Purkinje layer atrophy  \\\n",
       "SNRPB                                    0                                  0   \n",
       "OTULIN                                   0                                  0   \n",
       "MAPK1                                    0                                  0   \n",
       "TCF4                                     0                                  0   \n",
       "SHPK                                     0                                  0   \n",
       "\n",
       "        Post-angioplasty coronary artery restenosis  \\\n",
       "SNRPB                                             0   \n",
       "OTULIN                                            0   \n",
       "MAPK1                                             0   \n",
       "TCF4                                              0   \n",
       "SHPK                                              0   \n",
       "\n",
       "                             ...                         \\\n",
       "SNRPB                        ...                          \n",
       "OTULIN                       ...                          \n",
       "MAPK1                        ...                          \n",
       "TCF4                         ...                          \n",
       "SHPK                         ...                          \n",
       "\n",
       "        Craniofacial dysostosis  Prominent U wave  \\\n",
       "SNRPB                         0                 0   \n",
       "OTULIN                        0                 0   \n",
       "MAPK1                         0                 0   \n",
       "TCF4                          0                 0   \n",
       "SHPK                          0                 0   \n",
       "\n",
       "        Abnormal hypothalamus morphology  \\\n",
       "SNRPB                                  0   \n",
       "OTULIN                                 0   \n",
       "MAPK1                                  0   \n",
       "TCF4                                   0   \n",
       "SHPK                                   0   \n",
       "\n",
       "        Contractures of the interphalangeal joint of the thumb  \\\n",
       "SNRPB                                                   0        \n",
       "OTULIN                                                  0        \n",
       "MAPK1                                                   0        \n",
       "TCF4                                                    0        \n",
       "SHPK                                                    0        \n",
       "\n",
       "        Hepatocellular necrosis  Oligodactyly  Vertebral clefting  \\\n",
       "SNRPB                         0             0                   0   \n",
       "OTULIN                        0             0                   0   \n",
       "MAPK1                         0             0                   0   \n",
       "TCF4                          0             0                   0   \n",
       "SHPK                          0             0                   0   \n",
       "\n",
       "        Anterior beaking of lumbar vertebrae  Glioblastoma  \\\n",
       "SNRPB                                      0             0   \n",
       "OTULIN                                     0             0   \n",
       "MAPK1                                      0             0   \n",
       "TCF4                                       0             0   \n",
       "SHPK                                       0             0   \n",
       "\n",
       "        Abnormality of the musculature of the upper arm  \n",
       "SNRPB                                                 0  \n",
       "OTULIN                                                0  \n",
       "MAPK1                                                 0  \n",
       "TCF4                                                  0  \n",
       "SHPK                                                  0  \n",
       "\n",
       "[5 rows x 7841 columns]"
      ]
     },
     "execution_count": 14,
     "metadata": {},
     "output_type": "execute_result"
    }
   ],
   "source": [
    "binary_matrix.head()"
   ]
  },
  {
   "cell_type": "code",
   "execution_count": 15,
   "metadata": {},
   "outputs": [
    {
     "data": {
      "text/plain": [
       "(3644, 7841)"
      ]
     },
     "execution_count": 15,
     "metadata": {},
     "output_type": "execute_result"
    }
   ],
   "source": [
    "binary_matrix.shape"
   ]
  },
  {
   "cell_type": "markdown",
   "metadata": {},
   "source": [
    "# Save Binary Matrix"
   ]
  },
  {
   "cell_type": "code",
   "execution_count": 16,
   "metadata": {
    "collapsed": true
   },
   "outputs": [],
   "source": [
    "filename = '~/./Documents/Harmonizome/Human Phenotype Ontology/Output/hpo_binary_matrix_%s.tsv.zip'% str(datetime.date.today())[0:7].replace('-', '_')\n",
    "binary_matrix.to_csv(filename, sep='\\t', compression='gzip')"
   ]
  },
  {
   "cell_type": "markdown",
   "metadata": {},
   "source": [
    "# Create Gene Set Library¶"
   ]
  },
  {
   "cell_type": "code",
   "execution_count": 17,
   "metadata": {
    "collapsed": true
   },
   "outputs": [],
   "source": [
    "path = '/Users/moshesilverstein/Documents/Harmonizome/Human Phenotype Ontology/Output/'"
   ]
  },
  {
   "cell_type": "code",
   "execution_count": 18,
   "metadata": {
    "collapsed": true
   },
   "outputs": [],
   "source": [
    "name = 'hpo_gene_set'"
   ]
  },
  {
   "cell_type": "code",
   "execution_count": 19,
   "metadata": {},
   "outputs": [
    {
     "name": "stdout",
     "output_type": "stream",
     "text": [
      "Progeres: 100%  7841 Out of 7841   \r"
     ]
    }
   ],
   "source": [
    "uf.createUpGeneSetLib(binary_matrix, path, name)"
   ]
  },
  {
   "cell_type": "markdown",
   "metadata": {},
   "source": [
    "# Create Attribute Library"
   ]
  },
  {
   "cell_type": "code",
   "execution_count": 20,
   "metadata": {
    "collapsed": true
   },
   "outputs": [],
   "source": [
    "path = '/Users/moshesilverstein/Documents/Harmonizome/Human Phenotype Ontology/Output/'"
   ]
  },
  {
   "cell_type": "code",
   "execution_count": 21,
   "metadata": {
    "collapsed": true
   },
   "outputs": [],
   "source": [
    "name = 'hpo_attribute_set'"
   ]
  },
  {
   "cell_type": "code",
   "execution_count": 22,
   "metadata": {},
   "outputs": [
    {
     "name": "stdout",
     "output_type": "stream",
     "text": [
      "Progeres: 100%  3644 Out of 3644   \r"
     ]
    }
   ],
   "source": [
    "uf.createUpAttributeSetLib(binary_matrix, path, name)"
   ]
  },
  {
   "cell_type": "markdown",
   "metadata": {},
   "source": [
    "# Create Gene Similarity Matrix"
   ]
  },
  {
   "cell_type": "code",
   "execution_count": 23,
   "metadata": {
    "collapsed": true
   },
   "outputs": [],
   "source": [
    "gene_similarity_matix = uf.createSimilarityMatrix(binary_matrix, 'jaccard')"
   ]
  },
  {
   "cell_type": "code",
   "execution_count": 24,
   "metadata": {},
   "outputs": [
    {
     "data": {
      "text/html": [
       "<div>\n",
       "<style>\n",
       "    .dataframe thead tr:only-child th {\n",
       "        text-align: right;\n",
       "    }\n",
       "\n",
       "    .dataframe thead th {\n",
       "        text-align: left;\n",
       "    }\n",
       "\n",
       "    .dataframe tbody tr th {\n",
       "        vertical-align: top;\n",
       "    }\n",
       "</style>\n",
       "<table border=\"1\" class=\"dataframe\">\n",
       "  <thead>\n",
       "    <tr style=\"text-align: right;\">\n",
       "      <th></th>\n",
       "      <th>SNRPB</th>\n",
       "      <th>OTULIN</th>\n",
       "      <th>MAPK1</th>\n",
       "      <th>TCF4</th>\n",
       "      <th>SHPK</th>\n",
       "      <th>SLC39A8</th>\n",
       "      <th>KHDC3L</th>\n",
       "      <th>LOXHD1</th>\n",
       "      <th>AGTR1</th>\n",
       "      <th>CNTNAP1</th>\n",
       "      <th>...</th>\n",
       "      <th>PRRX1</th>\n",
       "      <th>CEP83</th>\n",
       "      <th>NR0B2</th>\n",
       "      <th>DGKE</th>\n",
       "      <th>GSC</th>\n",
       "      <th>CSF3R</th>\n",
       "      <th>NAGS</th>\n",
       "      <th>CDKN1C</th>\n",
       "      <th>SEC63</th>\n",
       "      <th>CYP19A1</th>\n",
       "    </tr>\n",
       "  </thead>\n",
       "  <tbody>\n",
       "    <tr>\n",
       "      <th>SNRPB</th>\n",
       "      <td>1.000000</td>\n",
       "      <td>0.051793</td>\n",
       "      <td>0.293801</td>\n",
       "      <td>0.149020</td>\n",
       "      <td>0.156667</td>\n",
       "      <td>0.107407</td>\n",
       "      <td>0.004505</td>\n",
       "      <td>0.017699</td>\n",
       "      <td>0.125000</td>\n",
       "      <td>0.162698</td>\n",
       "      <td>...</td>\n",
       "      <td>0.209059</td>\n",
       "      <td>0.055777</td>\n",
       "      <td>0.012931</td>\n",
       "      <td>0.024194</td>\n",
       "      <td>0.302158</td>\n",
       "      <td>0.035433</td>\n",
       "      <td>0.036885</td>\n",
       "      <td>0.130542</td>\n",
       "      <td>0.118110</td>\n",
       "      <td>0.076433</td>\n",
       "    </tr>\n",
       "    <tr>\n",
       "      <th>OTULIN</th>\n",
       "      <td>0.051793</td>\n",
       "      <td>1.000000</td>\n",
       "      <td>0.045296</td>\n",
       "      <td>0.062827</td>\n",
       "      <td>0.070513</td>\n",
       "      <td>0.053097</td>\n",
       "      <td>0.023810</td>\n",
       "      <td>0.020408</td>\n",
       "      <td>0.042105</td>\n",
       "      <td>0.066038</td>\n",
       "      <td>...</td>\n",
       "      <td>0.030864</td>\n",
       "      <td>0.024096</td>\n",
       "      <td>0.078431</td>\n",
       "      <td>0.042254</td>\n",
       "      <td>0.052023</td>\n",
       "      <td>0.238806</td>\n",
       "      <td>0.140625</td>\n",
       "      <td>0.029520</td>\n",
       "      <td>0.142857</td>\n",
       "      <td>0.074830</td>\n",
       "    </tr>\n",
       "    <tr>\n",
       "      <th>MAPK1</th>\n",
       "      <td>0.293801</td>\n",
       "      <td>0.045296</td>\n",
       "      <td>1.000000</td>\n",
       "      <td>0.196154</td>\n",
       "      <td>0.153614</td>\n",
       "      <td>0.131757</td>\n",
       "      <td>0.000000</td>\n",
       "      <td>0.023077</td>\n",
       "      <td>0.093750</td>\n",
       "      <td>0.089404</td>\n",
       "      <td>...</td>\n",
       "      <td>0.167683</td>\n",
       "      <td>0.048780</td>\n",
       "      <td>0.003704</td>\n",
       "      <td>0.010453</td>\n",
       "      <td>0.174041</td>\n",
       "      <td>0.038194</td>\n",
       "      <td>0.032143</td>\n",
       "      <td>0.143187</td>\n",
       "      <td>0.066667</td>\n",
       "      <td>0.065527</td>\n",
       "    </tr>\n",
       "    <tr>\n",
       "      <th>TCF4</th>\n",
       "      <td>0.149020</td>\n",
       "      <td>0.062827</td>\n",
       "      <td>0.196154</td>\n",
       "      <td>1.000000</td>\n",
       "      <td>0.147887</td>\n",
       "      <td>0.130769</td>\n",
       "      <td>0.000000</td>\n",
       "      <td>0.002695</td>\n",
       "      <td>0.082262</td>\n",
       "      <td>0.063570</td>\n",
       "      <td>...</td>\n",
       "      <td>0.131944</td>\n",
       "      <td>0.062663</td>\n",
       "      <td>0.010724</td>\n",
       "      <td>0.023256</td>\n",
       "      <td>0.122494</td>\n",
       "      <td>0.071429</td>\n",
       "      <td>0.047745</td>\n",
       "      <td>0.180747</td>\n",
       "      <td>0.112272</td>\n",
       "      <td>0.088435</td>\n",
       "    </tr>\n",
       "    <tr>\n",
       "      <th>SHPK</th>\n",
       "      <td>0.156667</td>\n",
       "      <td>0.070513</td>\n",
       "      <td>0.153614</td>\n",
       "      <td>0.147887</td>\n",
       "      <td>1.000000</td>\n",
       "      <td>0.181287</td>\n",
       "      <td>0.000000</td>\n",
       "      <td>0.000000</td>\n",
       "      <td>0.238095</td>\n",
       "      <td>0.132948</td>\n",
       "      <td>...</td>\n",
       "      <td>0.111111</td>\n",
       "      <td>0.142857</td>\n",
       "      <td>0.014706</td>\n",
       "      <td>0.090278</td>\n",
       "      <td>0.122881</td>\n",
       "      <td>0.092105</td>\n",
       "      <td>0.040000</td>\n",
       "      <td>0.186885</td>\n",
       "      <td>0.140244</td>\n",
       "      <td>0.071111</td>\n",
       "    </tr>\n",
       "  </tbody>\n",
       "</table>\n",
       "<p>5 rows × 3644 columns</p>\n",
       "</div>"
      ],
      "text/plain": [
       "           SNRPB    OTULIN     MAPK1      TCF4      SHPK   SLC39A8    KHDC3L  \\\n",
       "SNRPB   1.000000  0.051793  0.293801  0.149020  0.156667  0.107407  0.004505   \n",
       "OTULIN  0.051793  1.000000  0.045296  0.062827  0.070513  0.053097  0.023810   \n",
       "MAPK1   0.293801  0.045296  1.000000  0.196154  0.153614  0.131757  0.000000   \n",
       "TCF4    0.149020  0.062827  0.196154  1.000000  0.147887  0.130769  0.000000   \n",
       "SHPK    0.156667  0.070513  0.153614  0.147887  1.000000  0.181287  0.000000   \n",
       "\n",
       "          LOXHD1     AGTR1   CNTNAP1    ...        PRRX1     CEP83     NR0B2  \\\n",
       "SNRPB   0.017699  0.125000  0.162698    ...     0.209059  0.055777  0.012931   \n",
       "OTULIN  0.020408  0.042105  0.066038    ...     0.030864  0.024096  0.078431   \n",
       "MAPK1   0.023077  0.093750  0.089404    ...     0.167683  0.048780  0.003704   \n",
       "TCF4    0.002695  0.082262  0.063570    ...     0.131944  0.062663  0.010724   \n",
       "SHPK    0.000000  0.238095  0.132948    ...     0.111111  0.142857  0.014706   \n",
       "\n",
       "            DGKE       GSC     CSF3R      NAGS    CDKN1C     SEC63   CYP19A1  \n",
       "SNRPB   0.024194  0.302158  0.035433  0.036885  0.130542  0.118110  0.076433  \n",
       "OTULIN  0.042254  0.052023  0.238806  0.140625  0.029520  0.142857  0.074830  \n",
       "MAPK1   0.010453  0.174041  0.038194  0.032143  0.143187  0.066667  0.065527  \n",
       "TCF4    0.023256  0.122494  0.071429  0.047745  0.180747  0.112272  0.088435  \n",
       "SHPK    0.090278  0.122881  0.092105  0.040000  0.186885  0.140244  0.071111  \n",
       "\n",
       "[5 rows x 3644 columns]"
      ]
     },
     "execution_count": 24,
     "metadata": {},
     "output_type": "execute_result"
    }
   ],
   "source": [
    "gene_similarity_matix.head()"
   ]
  },
  {
   "cell_type": "markdown",
   "metadata": {},
   "source": [
    "# Save Gene Similarity Matrix"
   ]
  },
  {
   "cell_type": "code",
   "execution_count": 25,
   "metadata": {
    "collapsed": true
   },
   "outputs": [],
   "source": [
    "filename = '~/./Documents/Harmonizome/Human Phenotype Ontology/Output/hpo_gene_similarity_matix_%s.tsv.zip'% str(datetime.date.today())[0:7].replace('-', '_')\n",
    "gene_similarity_matix.to_csv(filename, sep='\\t', compression='gzip')"
   ]
  },
  {
   "cell_type": "markdown",
   "metadata": {},
   "source": [
    "# Create Attribute Similarity matrix"
   ]
  },
  {
   "cell_type": "code",
   "execution_count": 26,
   "metadata": {
    "collapsed": true
   },
   "outputs": [],
   "source": [
    "attribute_similarity_matix = uf.createSimilarityMatrix(binary_matrix.T, 'jaccard')"
   ]
  },
  {
   "cell_type": "code",
   "execution_count": 27,
   "metadata": {},
   "outputs": [
    {
     "data": {
      "text/html": [
       "<div>\n",
       "<style>\n",
       "    .dataframe thead tr:only-child th {\n",
       "        text-align: right;\n",
       "    }\n",
       "\n",
       "    .dataframe thead th {\n",
       "        text-align: left;\n",
       "    }\n",
       "\n",
       "    .dataframe tbody tr th {\n",
       "        vertical-align: top;\n",
       "    }\n",
       "</style>\n",
       "<table border=\"1\" class=\"dataframe\">\n",
       "  <thead>\n",
       "    <tr style=\"text-align: right;\">\n",
       "      <th></th>\n",
       "      <th>Astrocytosis</th>\n",
       "      <th>Alopecia universalis</th>\n",
       "      <th>Aplasia/Hypoplasia of the pubic bone</th>\n",
       "      <th>Thromboembolic stroke</th>\n",
       "      <th>Respiratory arrest</th>\n",
       "      <th>Lipomatous tumor</th>\n",
       "      <th>Enlarged cisterna magna</th>\n",
       "      <th>Spontaneous esophageal perforation</th>\n",
       "      <th>Cerebellar Purkinje layer atrophy</th>\n",
       "      <th>Post-angioplasty coronary artery restenosis</th>\n",
       "      <th>...</th>\n",
       "      <th>Craniofacial dysostosis</th>\n",
       "      <th>Prominent U wave</th>\n",
       "      <th>Abnormal hypothalamus morphology</th>\n",
       "      <th>Contractures of the interphalangeal joint of the thumb</th>\n",
       "      <th>Hepatocellular necrosis</th>\n",
       "      <th>Oligodactyly</th>\n",
       "      <th>Vertebral clefting</th>\n",
       "      <th>Anterior beaking of lumbar vertebrae</th>\n",
       "      <th>Glioblastoma</th>\n",
       "      <th>Abnormality of the musculature of the upper arm</th>\n",
       "    </tr>\n",
       "  </thead>\n",
       "  <tbody>\n",
       "    <tr>\n",
       "      <th>Astrocytosis</th>\n",
       "      <td>1.0</td>\n",
       "      <td>0.0</td>\n",
       "      <td>0.0</td>\n",
       "      <td>0.0</td>\n",
       "      <td>0.0</td>\n",
       "      <td>0.0</td>\n",
       "      <td>0.0</td>\n",
       "      <td>0.0</td>\n",
       "      <td>0.0</td>\n",
       "      <td>0.0</td>\n",
       "      <td>...</td>\n",
       "      <td>0.0</td>\n",
       "      <td>0.0</td>\n",
       "      <td>0.0</td>\n",
       "      <td>0.0</td>\n",
       "      <td>0.0</td>\n",
       "      <td>0.000</td>\n",
       "      <td>0.000000</td>\n",
       "      <td>0.0</td>\n",
       "      <td>0.0</td>\n",
       "      <td>0.0</td>\n",
       "    </tr>\n",
       "    <tr>\n",
       "      <th>Alopecia universalis</th>\n",
       "      <td>0.0</td>\n",
       "      <td>1.0</td>\n",
       "      <td>0.0</td>\n",
       "      <td>0.0</td>\n",
       "      <td>0.0</td>\n",
       "      <td>0.0</td>\n",
       "      <td>0.0</td>\n",
       "      <td>0.0</td>\n",
       "      <td>0.0</td>\n",
       "      <td>0.0</td>\n",
       "      <td>...</td>\n",
       "      <td>0.0</td>\n",
       "      <td>0.0</td>\n",
       "      <td>0.0</td>\n",
       "      <td>0.0</td>\n",
       "      <td>0.0</td>\n",
       "      <td>0.000</td>\n",
       "      <td>0.000000</td>\n",
       "      <td>0.0</td>\n",
       "      <td>0.0</td>\n",
       "      <td>0.0</td>\n",
       "    </tr>\n",
       "    <tr>\n",
       "      <th>Aplasia/Hypoplasia of the pubic bone</th>\n",
       "      <td>0.0</td>\n",
       "      <td>0.0</td>\n",
       "      <td>1.0</td>\n",
       "      <td>0.0</td>\n",
       "      <td>0.0</td>\n",
       "      <td>0.0</td>\n",
       "      <td>0.0</td>\n",
       "      <td>0.0</td>\n",
       "      <td>0.0</td>\n",
       "      <td>0.0</td>\n",
       "      <td>...</td>\n",
       "      <td>0.0</td>\n",
       "      <td>0.0</td>\n",
       "      <td>0.0</td>\n",
       "      <td>0.0</td>\n",
       "      <td>0.0</td>\n",
       "      <td>0.025</td>\n",
       "      <td>0.057143</td>\n",
       "      <td>0.0</td>\n",
       "      <td>0.0</td>\n",
       "      <td>0.0</td>\n",
       "    </tr>\n",
       "    <tr>\n",
       "      <th>Thromboembolic stroke</th>\n",
       "      <td>0.0</td>\n",
       "      <td>0.0</td>\n",
       "      <td>0.0</td>\n",
       "      <td>1.0</td>\n",
       "      <td>0.0</td>\n",
       "      <td>0.0</td>\n",
       "      <td>0.0</td>\n",
       "      <td>0.0</td>\n",
       "      <td>0.0</td>\n",
       "      <td>0.0</td>\n",
       "      <td>...</td>\n",
       "      <td>0.0</td>\n",
       "      <td>0.0</td>\n",
       "      <td>0.0</td>\n",
       "      <td>0.0</td>\n",
       "      <td>0.0</td>\n",
       "      <td>0.000</td>\n",
       "      <td>0.000000</td>\n",
       "      <td>0.0</td>\n",
       "      <td>0.0</td>\n",
       "      <td>0.0</td>\n",
       "    </tr>\n",
       "    <tr>\n",
       "      <th>Respiratory arrest</th>\n",
       "      <td>0.0</td>\n",
       "      <td>0.0</td>\n",
       "      <td>0.0</td>\n",
       "      <td>0.0</td>\n",
       "      <td>1.0</td>\n",
       "      <td>0.0</td>\n",
       "      <td>0.0</td>\n",
       "      <td>0.0</td>\n",
       "      <td>0.0</td>\n",
       "      <td>0.0</td>\n",
       "      <td>...</td>\n",
       "      <td>0.0</td>\n",
       "      <td>0.0</td>\n",
       "      <td>0.0</td>\n",
       "      <td>0.0</td>\n",
       "      <td>0.0</td>\n",
       "      <td>0.000</td>\n",
       "      <td>0.000000</td>\n",
       "      <td>0.0</td>\n",
       "      <td>0.0</td>\n",
       "      <td>0.0</td>\n",
       "    </tr>\n",
       "  </tbody>\n",
       "</table>\n",
       "<p>5 rows × 7841 columns</p>\n",
       "</div>"
      ],
      "text/plain": [
       "                                      Astrocytosis  Alopecia universalis  \\\n",
       "Astrocytosis                                   1.0                   0.0   \n",
       "Alopecia universalis                           0.0                   1.0   \n",
       "Aplasia/Hypoplasia of the pubic bone           0.0                   0.0   \n",
       "Thromboembolic stroke                          0.0                   0.0   \n",
       "Respiratory arrest                             0.0                   0.0   \n",
       "\n",
       "                                      Aplasia/Hypoplasia of the pubic bone  \\\n",
       "Astrocytosis                                                           0.0   \n",
       "Alopecia universalis                                                   0.0   \n",
       "Aplasia/Hypoplasia of the pubic bone                                   1.0   \n",
       "Thromboembolic stroke                                                  0.0   \n",
       "Respiratory arrest                                                     0.0   \n",
       "\n",
       "                                      Thromboembolic stroke  \\\n",
       "Astrocytosis                                            0.0   \n",
       "Alopecia universalis                                    0.0   \n",
       "Aplasia/Hypoplasia of the pubic bone                    0.0   \n",
       "Thromboembolic stroke                                   1.0   \n",
       "Respiratory arrest                                      0.0   \n",
       "\n",
       "                                      Respiratory arrest  Lipomatous tumor  \\\n",
       "Astrocytosis                                         0.0               0.0   \n",
       "Alopecia universalis                                 0.0               0.0   \n",
       "Aplasia/Hypoplasia of the pubic bone                 0.0               0.0   \n",
       "Thromboembolic stroke                                0.0               0.0   \n",
       "Respiratory arrest                                   1.0               0.0   \n",
       "\n",
       "                                      Enlarged cisterna magna  \\\n",
       "Astrocytosis                                              0.0   \n",
       "Alopecia universalis                                      0.0   \n",
       "Aplasia/Hypoplasia of the pubic bone                      0.0   \n",
       "Thromboembolic stroke                                     0.0   \n",
       "Respiratory arrest                                        0.0   \n",
       "\n",
       "                                      Spontaneous esophageal perforation  \\\n",
       "Astrocytosis                                                         0.0   \n",
       "Alopecia universalis                                                 0.0   \n",
       "Aplasia/Hypoplasia of the pubic bone                                 0.0   \n",
       "Thromboembolic stroke                                                0.0   \n",
       "Respiratory arrest                                                   0.0   \n",
       "\n",
       "                                      Cerebellar Purkinje layer atrophy  \\\n",
       "Astrocytosis                                                        0.0   \n",
       "Alopecia universalis                                                0.0   \n",
       "Aplasia/Hypoplasia of the pubic bone                                0.0   \n",
       "Thromboembolic stroke                                               0.0   \n",
       "Respiratory arrest                                                  0.0   \n",
       "\n",
       "                                      Post-angioplasty coronary artery restenosis  \\\n",
       "Astrocytosis                                                                  0.0   \n",
       "Alopecia universalis                                                          0.0   \n",
       "Aplasia/Hypoplasia of the pubic bone                                          0.0   \n",
       "Thromboembolic stroke                                                         0.0   \n",
       "Respiratory arrest                                                            0.0   \n",
       "\n",
       "                                                           ...                         \\\n",
       "Astrocytosis                                               ...                          \n",
       "Alopecia universalis                                       ...                          \n",
       "Aplasia/Hypoplasia of the pubic bone                       ...                          \n",
       "Thromboembolic stroke                                      ...                          \n",
       "Respiratory arrest                                         ...                          \n",
       "\n",
       "                                      Craniofacial dysostosis  \\\n",
       "Astrocytosis                                              0.0   \n",
       "Alopecia universalis                                      0.0   \n",
       "Aplasia/Hypoplasia of the pubic bone                      0.0   \n",
       "Thromboembolic stroke                                     0.0   \n",
       "Respiratory arrest                                        0.0   \n",
       "\n",
       "                                      Prominent U wave  \\\n",
       "Astrocytosis                                       0.0   \n",
       "Alopecia universalis                               0.0   \n",
       "Aplasia/Hypoplasia of the pubic bone               0.0   \n",
       "Thromboembolic stroke                              0.0   \n",
       "Respiratory arrest                                 0.0   \n",
       "\n",
       "                                      Abnormal hypothalamus morphology  \\\n",
       "Astrocytosis                                                       0.0   \n",
       "Alopecia universalis                                               0.0   \n",
       "Aplasia/Hypoplasia of the pubic bone                               0.0   \n",
       "Thromboembolic stroke                                              0.0   \n",
       "Respiratory arrest                                                 0.0   \n",
       "\n",
       "                                      Contractures of the interphalangeal joint of the thumb  \\\n",
       "Astrocytosis                                                                        0.0        \n",
       "Alopecia universalis                                                                0.0        \n",
       "Aplasia/Hypoplasia of the pubic bone                                                0.0        \n",
       "Thromboembolic stroke                                                               0.0        \n",
       "Respiratory arrest                                                                  0.0        \n",
       "\n",
       "                                      Hepatocellular necrosis  Oligodactyly  \\\n",
       "Astrocytosis                                              0.0         0.000   \n",
       "Alopecia universalis                                      0.0         0.000   \n",
       "Aplasia/Hypoplasia of the pubic bone                      0.0         0.025   \n",
       "Thromboembolic stroke                                     0.0         0.000   \n",
       "Respiratory arrest                                        0.0         0.000   \n",
       "\n",
       "                                      Vertebral clefting  \\\n",
       "Astrocytosis                                    0.000000   \n",
       "Alopecia universalis                            0.000000   \n",
       "Aplasia/Hypoplasia of the pubic bone            0.057143   \n",
       "Thromboembolic stroke                           0.000000   \n",
       "Respiratory arrest                              0.000000   \n",
       "\n",
       "                                      Anterior beaking of lumbar vertebrae  \\\n",
       "Astrocytosis                                                           0.0   \n",
       "Alopecia universalis                                                   0.0   \n",
       "Aplasia/Hypoplasia of the pubic bone                                   0.0   \n",
       "Thromboembolic stroke                                                  0.0   \n",
       "Respiratory arrest                                                     0.0   \n",
       "\n",
       "                                      Glioblastoma  \\\n",
       "Astrocytosis                                   0.0   \n",
       "Alopecia universalis                           0.0   \n",
       "Aplasia/Hypoplasia of the pubic bone           0.0   \n",
       "Thromboembolic stroke                          0.0   \n",
       "Respiratory arrest                             0.0   \n",
       "\n",
       "                                      Abnormality of the musculature of the upper arm  \n",
       "Astrocytosis                                                                      0.0  \n",
       "Alopecia universalis                                                              0.0  \n",
       "Aplasia/Hypoplasia of the pubic bone                                              0.0  \n",
       "Thromboembolic stroke                                                             0.0  \n",
       "Respiratory arrest                                                                0.0  \n",
       "\n",
       "[5 rows x 7841 columns]"
      ]
     },
     "execution_count": 27,
     "metadata": {},
     "output_type": "execute_result"
    }
   ],
   "source": [
    "attribute_similarity_matix.head()"
   ]
  },
  {
   "cell_type": "markdown",
   "metadata": {},
   "source": [
    "# Save Attribute Similarity Matrix"
   ]
  },
  {
   "cell_type": "code",
   "execution_count": 28,
   "metadata": {},
   "outputs": [],
   "source": [
    "filename = '~/./Documents/Harmonizome/Human Phenotype Ontology/Output/hpo_attribute_similarity_matix_%s.tsv.zip'% str(datetime.date.today())[0:7].replace('-', '_')\n",
    "attribute_similarity_matix.to_csv(filename, sep='\\t', compression='gzip')"
   ]
  },
  {
   "cell_type": "markdown",
   "metadata": {},
   "source": [
    "# Create Gene List"
   ]
  },
  {
   "cell_type": "code",
   "execution_count": 29,
   "metadata": {},
   "outputs": [
    {
     "name": "stdout",
     "output_type": "stream",
     "text": [
      "Progeres: 100%  3644 Out of 3644   \r"
     ]
    }
   ],
   "source": [
    "gene_list = uf.createGeneList(binary_matrix)"
   ]
  },
  {
   "cell_type": "code",
   "execution_count": 30,
   "metadata": {},
   "outputs": [
    {
     "data": {
      "text/html": [
       "<div>\n",
       "<style>\n",
       "    .dataframe thead tr:only-child th {\n",
       "        text-align: right;\n",
       "    }\n",
       "\n",
       "    .dataframe thead th {\n",
       "        text-align: left;\n",
       "    }\n",
       "\n",
       "    .dataframe tbody tr th {\n",
       "        vertical-align: top;\n",
       "    }\n",
       "</style>\n",
       "<table border=\"1\" class=\"dataframe\">\n",
       "  <thead>\n",
       "    <tr style=\"text-align: right;\">\n",
       "      <th></th>\n",
       "      <th>GeneSym</th>\n",
       "      <th>GeneID</th>\n",
       "    </tr>\n",
       "  </thead>\n",
       "  <tbody>\n",
       "    <tr>\n",
       "      <th>0</th>\n",
       "      <td>SNRPB</td>\n",
       "      <td>6628</td>\n",
       "    </tr>\n",
       "    <tr>\n",
       "      <th>1</th>\n",
       "      <td>OTULIN</td>\n",
       "      <td>90268</td>\n",
       "    </tr>\n",
       "    <tr>\n",
       "      <th>2</th>\n",
       "      <td>MAPK1</td>\n",
       "      <td>5594</td>\n",
       "    </tr>\n",
       "    <tr>\n",
       "      <th>3</th>\n",
       "      <td>TCF4</td>\n",
       "      <td>6925</td>\n",
       "    </tr>\n",
       "    <tr>\n",
       "      <th>4</th>\n",
       "      <td>SHPK</td>\n",
       "      <td>23729</td>\n",
       "    </tr>\n",
       "  </tbody>\n",
       "</table>\n",
       "</div>"
      ],
      "text/plain": [
       "  GeneSym GeneID\n",
       "0   SNRPB   6628\n",
       "1  OTULIN  90268\n",
       "2   MAPK1   5594\n",
       "3    TCF4   6925\n",
       "4    SHPK  23729"
      ]
     },
     "execution_count": 30,
     "metadata": {},
     "output_type": "execute_result"
    }
   ],
   "source": [
    "gene_list.head()"
   ]
  },
  {
   "cell_type": "code",
   "execution_count": 31,
   "metadata": {},
   "outputs": [
    {
     "data": {
      "text/plain": [
       "(3644, 2)"
      ]
     },
     "execution_count": 31,
     "metadata": {},
     "output_type": "execute_result"
    }
   ],
   "source": [
    "gene_list.shape"
   ]
  },
  {
   "cell_type": "markdown",
   "metadata": {},
   "source": [
    "# Save Gene List"
   ]
  },
  {
   "cell_type": "code",
   "execution_count": 32,
   "metadata": {
    "collapsed": true
   },
   "outputs": [],
   "source": [
    "filename = '~/./Documents/Harmonizome/Human Phenotype Ontology/Output/hpo_gene_list_%s.tsv.zip'% str(datetime.date.today())[0:7].replace('-', '_')\n",
    "gene_list.to_csv(filename, sep='\\t', index=False, compression='gzip')"
   ]
  },
  {
   "cell_type": "markdown",
   "metadata": {},
   "source": [
    "# Create Attribute List"
   ]
  },
  {
   "cell_type": "code",
   "execution_count": 33,
   "metadata": {
    "collapsed": true
   },
   "outputs": [],
   "source": [
    "attribute_list = uf.createAttributeList(binary_matrix)"
   ]
  },
  {
   "cell_type": "code",
   "execution_count": 34,
   "metadata": {},
   "outputs": [
    {
     "data": {
      "text/html": [
       "<div>\n",
       "<style>\n",
       "    .dataframe thead tr:only-child th {\n",
       "        text-align: right;\n",
       "    }\n",
       "\n",
       "    .dataframe thead th {\n",
       "        text-align: left;\n",
       "    }\n",
       "\n",
       "    .dataframe tbody tr th {\n",
       "        vertical-align: top;\n",
       "    }\n",
       "</style>\n",
       "<table border=\"1\" class=\"dataframe\">\n",
       "  <thead>\n",
       "    <tr style=\"text-align: right;\">\n",
       "      <th></th>\n",
       "      <th>Attributes</th>\n",
       "    </tr>\n",
       "  </thead>\n",
       "  <tbody>\n",
       "    <tr>\n",
       "      <th>0</th>\n",
       "      <td>Astrocytosis</td>\n",
       "    </tr>\n",
       "    <tr>\n",
       "      <th>1</th>\n",
       "      <td>Alopecia universalis</td>\n",
       "    </tr>\n",
       "    <tr>\n",
       "      <th>2</th>\n",
       "      <td>Aplasia/Hypoplasia of the pubic bone</td>\n",
       "    </tr>\n",
       "    <tr>\n",
       "      <th>3</th>\n",
       "      <td>Thromboembolic stroke</td>\n",
       "    </tr>\n",
       "    <tr>\n",
       "      <th>4</th>\n",
       "      <td>Respiratory arrest</td>\n",
       "    </tr>\n",
       "  </tbody>\n",
       "</table>\n",
       "</div>"
      ],
      "text/plain": [
       "                             Attributes\n",
       "0                          Astrocytosis\n",
       "1                  Alopecia universalis\n",
       "2  Aplasia/Hypoplasia of the pubic bone\n",
       "3                 Thromboembolic stroke\n",
       "4                    Respiratory arrest"
      ]
     },
     "execution_count": 34,
     "metadata": {},
     "output_type": "execute_result"
    }
   ],
   "source": [
    "attribute_list.head()"
   ]
  },
  {
   "cell_type": "code",
   "execution_count": 35,
   "metadata": {},
   "outputs": [
    {
     "data": {
      "text/plain": [
       "(7841, 1)"
      ]
     },
     "execution_count": 35,
     "metadata": {},
     "output_type": "execute_result"
    }
   ],
   "source": [
    "attribute_list.shape"
   ]
  },
  {
   "cell_type": "markdown",
   "metadata": {},
   "source": [
    "# Save Attribute List"
   ]
  },
  {
   "cell_type": "code",
   "execution_count": 36,
   "metadata": {
    "collapsed": true
   },
   "outputs": [],
   "source": [
    "filename = '~/./Documents/Harmonizome/Human Phenotype Ontology/Output/hpo_attribute_list_%s.tsv.zip'% str(datetime.date.today())[0:7].replace('-', '_')\n",
    "attribute_list.to_csv(filename, sep='\\t', index=False, compression='gzip')"
   ]
  },
  {
   "cell_type": "markdown",
   "metadata": {},
   "source": [
    "# Create Gene-Attribute Edge List"
   ]
  },
  {
   "cell_type": "code",
   "execution_count": 37,
   "metadata": {
    "collapsed": true
   },
   "outputs": [],
   "source": [
    "path = '/Users/moshesilverstein/Documents/Harmonizome/Human Phenotype Ontology/Output/'"
   ]
  },
  {
   "cell_type": "code",
   "execution_count": 38,
   "metadata": {
    "collapsed": true
   },
   "outputs": [],
   "source": [
    "name = 'hpo_gene_attribute_edge_list'"
   ]
  },
  {
   "cell_type": "code",
   "execution_count": 39,
   "metadata": {},
   "outputs": [
    {
     "name": "stdout",
     "output_type": "stream",
     "text": [
      "Progeres: 100%  7841 Out of 7841   \n",
      "\n",
      " The number of statisticaly relevent gene-attribute associations is: 415410\n"
     ]
    }
   ],
   "source": [
    "uf.createGeneAttributeEdgeList(binary_matrix, gene_list, path, name)"
   ]
  }
 ],
 "metadata": {
  "kernelspec": {
   "display_name": "Python [default]",
   "language": "python",
   "name": "python3"
  },
  "language_info": {
   "codemirror_mode": {
    "name": "ipython",
    "version": 3
   },
   "file_extension": ".py",
   "mimetype": "text/x-python",
   "name": "python",
   "nbconvert_exporter": "python",
   "pygments_lexer": "ipython3",
   "version": "3.5.2"
  }
 },
 "nbformat": 4,
 "nbformat_minor": 2
}
