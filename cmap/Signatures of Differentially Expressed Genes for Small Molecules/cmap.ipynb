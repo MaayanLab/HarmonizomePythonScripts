{
 "cells": [
  {
   "cell_type": "markdown",
   "metadata": {},
   "source": [
    "# CMAP"
   ]
  },
  {
   "cell_type": "markdown",
   "metadata": {},
   "source": [
    "Author: Moshe Silverstein <br/>\n",
    "Date: 8-17 <br/>\n",
    "Data Source: https://www.broadinstitute.org/cmap/"
   ]
  },
  {
   "cell_type": "code",
   "execution_count": 1,
   "metadata": {
    "collapsed": true
   },
   "outputs": [],
   "source": [
    "import sys, datetime, os\n",
    "import numpy as np\n",
    "import pandas as pd\n",
    "import importlib\n",
    "import untility_functions as uf\n",
    "%matplotlib inline"
   ]
  },
  {
   "cell_type": "code",
   "execution_count": 2,
   "metadata": {},
   "outputs": [
    {
     "data": {
      "text/plain": [
       "<module 'untility_functions' from '/Users/moshesilverstein/Documents/Harmonizome/cmap/untility_functions.py'>"
      ]
     },
     "execution_count": 2,
     "metadata": {},
     "output_type": "execute_result"
    }
   ],
   "source": [
    "importlib.reload(uf)"
   ]
  },
  {
   "cell_type": "markdown",
   "metadata": {},
   "source": [
    "# Load Data"
   ]
  },
  {
   "cell_type": "code",
   "execution_count": 3,
   "metadata": {
    "collapsed": true
   },
   "outputs": [],
   "source": [
    "df = pd.read_csv('Input/cmap_association_2017_03_09.tsv.zip', sep='\\t', index_col=0)"
   ]
  },
  {
   "cell_type": "code",
   "execution_count": 4,
   "metadata": {},
   "outputs": [
    {
     "data": {
      "text/html": [
       "<div>\n",
       "<table border=\"1\" class=\"dataframe\">\n",
       "  <thead>\n",
       "    <tr style=\"text-align: right;\">\n",
       "      <th></th>\n",
       "      <th>signature_fk</th>\n",
       "      <th>gene_symbol</th>\n",
       "      <th>fold_change</th>\n",
       "      <th>p_value</th>\n",
       "      <th>q_value</th>\n",
       "    </tr>\n",
       "  </thead>\n",
       "  <tbody>\n",
       "    <tr>\n",
       "      <th>1</th>\n",
       "      <td>1</td>\n",
       "      <td>AAR2</td>\n",
       "      <td>-0.435962</td>\n",
       "      <td>2.949103e-03</td>\n",
       "      <td>0.016078</td>\n",
       "    </tr>\n",
       "    <tr>\n",
       "      <th>2</th>\n",
       "      <td>1</td>\n",
       "      <td>AASDHPPT</td>\n",
       "      <td>0.663748</td>\n",
       "      <td>1.066310e-05</td>\n",
       "      <td>0.000167</td>\n",
       "    </tr>\n",
       "    <tr>\n",
       "      <th>3</th>\n",
       "      <td>1</td>\n",
       "      <td>ABCC1</td>\n",
       "      <td>0.294520</td>\n",
       "      <td>6.385891e-03</td>\n",
       "      <td>0.030025</td>\n",
       "    </tr>\n",
       "    <tr>\n",
       "      <th>4</th>\n",
       "      <td>1</td>\n",
       "      <td>ABCC10</td>\n",
       "      <td>0.309518</td>\n",
       "      <td>9.982904e-03</td>\n",
       "      <td>0.042797</td>\n",
       "    </tr>\n",
       "    <tr>\n",
       "      <th>5</th>\n",
       "      <td>1</td>\n",
       "      <td>ABCC4</td>\n",
       "      <td>0.981755</td>\n",
       "      <td>8.298603e-08</td>\n",
       "      <td>0.000004</td>\n",
       "    </tr>\n",
       "  </tbody>\n",
       "</table>\n",
       "</div>"
      ],
      "text/plain": [
       "   signature_fk gene_symbol  fold_change       p_value   q_value\n",
       "1             1        AAR2    -0.435962  2.949103e-03  0.016078\n",
       "2             1    AASDHPPT     0.663748  1.066310e-05  0.000167\n",
       "3             1       ABCC1     0.294520  6.385891e-03  0.030025\n",
       "4             1      ABCC10     0.309518  9.982904e-03  0.042797\n",
       "5             1       ABCC4     0.981755  8.298603e-08  0.000004"
      ]
     },
     "execution_count": 4,
     "metadata": {},
     "output_type": "execute_result"
    }
   ],
   "source": [
    "df.head()"
   ]
  },
  {
   "cell_type": "code",
   "execution_count": 5,
   "metadata": {},
   "outputs": [
    {
     "data": {
      "text/plain": [
       "(197234, 5)"
      ]
     },
     "execution_count": 5,
     "metadata": {},
     "output_type": "execute_result"
    }
   ],
   "source": [
    "df.shape"
   ]
  },
  {
   "cell_type": "markdown",
   "metadata": {},
   "source": [
    "# Load Sample Meta Data"
   ]
  },
  {
   "cell_type": "code",
   "execution_count": 6,
   "metadata": {},
   "outputs": [],
   "source": [
    "sample_meta = pd.read_csv('Input/cmap_signature_2017_03_09.tsv.zip', sep='\\t', index_col=0)"
   ]
  },
  {
   "cell_type": "code",
   "execution_count": 7,
   "metadata": {},
   "outputs": [
    {
     "data": {
      "text/html": [
       "<div>\n",
       "<table border=\"1\" class=\"dataframe\">\n",
       "  <thead>\n",
       "    <tr style=\"text-align: right;\">\n",
       "      <th></th>\n",
       "      <th>DRUG_NAME</th>\n",
       "      <th>CELL_NAME</th>\n",
       "      <th>CELL_INFO</th>\n",
       "      <th>PERTUBATION_TIME</th>\n",
       "      <th>PERTUBATION_TIME_UNIT</th>\n",
       "      <th>PERTUBATION_DOSE</th>\n",
       "      <th>PERTUBATION_DOSE_UNIT</th>\n",
       "    </tr>\n",
       "    <tr>\n",
       "      <th>ID</th>\n",
       "      <th></th>\n",
       "      <th></th>\n",
       "      <th></th>\n",
       "      <th></th>\n",
       "      <th></th>\n",
       "      <th></th>\n",
       "      <th></th>\n",
       "    </tr>\n",
       "  </thead>\n",
       "  <tbody>\n",
       "    <tr>\n",
       "      <th>1</th>\n",
       "      <td>15-delta prostaglandin J2</td>\n",
       "      <td>HL60</td>\n",
       "      <td>human promyelocytic cell line established by l...</td>\n",
       "      <td>6.0</td>\n",
       "      <td>h</td>\n",
       "      <td>10.0</td>\n",
       "      <td>μM</td>\n",
       "    </tr>\n",
       "    <tr>\n",
       "      <th>2</th>\n",
       "      <td>15-delta prostaglandin J2</td>\n",
       "      <td>MCF7</td>\n",
       "      <td>human breast epithelial adenocarcinoma cell li...</td>\n",
       "      <td>6.0</td>\n",
       "      <td>h</td>\n",
       "      <td>10.0</td>\n",
       "      <td>μM</td>\n",
       "    </tr>\n",
       "    <tr>\n",
       "      <th>3</th>\n",
       "      <td>15-delta prostaglandin J2</td>\n",
       "      <td>PC3</td>\n",
       "      <td>epithelial cell line established from human pr...</td>\n",
       "      <td>6.0</td>\n",
       "      <td>h</td>\n",
       "      <td>10.0</td>\n",
       "      <td>μM</td>\n",
       "    </tr>\n",
       "    <tr>\n",
       "      <th>4</th>\n",
       "      <td>3-hydroxy-DL-kynurenine</td>\n",
       "      <td>MCF7</td>\n",
       "      <td>human breast epithelial adenocarcinoma cell li...</td>\n",
       "      <td>6.0</td>\n",
       "      <td>h</td>\n",
       "      <td>17.8</td>\n",
       "      <td>μM</td>\n",
       "    </tr>\n",
       "    <tr>\n",
       "      <th>5</th>\n",
       "      <td>6-benzylaminopurine</td>\n",
       "      <td>MCF7</td>\n",
       "      <td>human breast epithelial adenocarcinoma cell li...</td>\n",
       "      <td>6.0</td>\n",
       "      <td>h</td>\n",
       "      <td>17.8</td>\n",
       "      <td>μM</td>\n",
       "    </tr>\n",
       "  </tbody>\n",
       "</table>\n",
       "</div>"
      ],
      "text/plain": [
       "                    DRUG_NAME CELL_NAME  \\\n",
       "ID                                        \n",
       "1   15-delta prostaglandin J2      HL60   \n",
       "2   15-delta prostaglandin J2      MCF7   \n",
       "3   15-delta prostaglandin J2       PC3   \n",
       "4     3-hydroxy-DL-kynurenine      MCF7   \n",
       "5         6-benzylaminopurine      MCF7   \n",
       "\n",
       "                                            CELL_INFO  PERTUBATION_TIME  \\\n",
       "ID                                                                        \n",
       "1   human promyelocytic cell line established by l...               6.0   \n",
       "2   human breast epithelial adenocarcinoma cell li...               6.0   \n",
       "3   epithelial cell line established from human pr...               6.0   \n",
       "4   human breast epithelial adenocarcinoma cell li...               6.0   \n",
       "5   human breast epithelial adenocarcinoma cell li...               6.0   \n",
       "\n",
       "   PERTUBATION_TIME_UNIT  PERTUBATION_DOSE PERTUBATION_DOSE_UNIT  \n",
       "ID                                                                \n",
       "1                      h              10.0                    μM  \n",
       "2                      h              10.0                    μM  \n",
       "3                      h              10.0                    μM  \n",
       "4                      h              17.8                    μM  \n",
       "5                      h              17.8                    μM  "
      ]
     },
     "execution_count": 7,
     "metadata": {},
     "output_type": "execute_result"
    }
   ],
   "source": [
    "sample_meta.head()"
   ]
  },
  {
   "cell_type": "markdown",
   "metadata": {},
   "source": [
    "# Get Relevant Data"
   ]
  },
  {
   "cell_type": "code",
   "execution_count": 8,
   "metadata": {},
   "outputs": [
    {
     "name": "stdout",
     "output_type": "stream",
     "text": [
      "Progeres: 100%  197234 Out of 197234   \r"
     ]
    }
   ],
   "source": [
    "# map sample meta data to id\n",
    "lst = []\n",
    "for i,index in enumerate(df.index):\n",
    "    \n",
    "    progressPercent = ((i+1)/len(df.index))*100\n",
    "\n",
    "    sys.stdout.write(\"Progeres: %d%%  %d Out of %d   \\r\" % (progressPercent, (i+1), len(df.index)))\n",
    "    sys.stdout.flush()\n",
    "    \n",
    "    drug = sample_meta.ix[df.ix[index, 'signature_fk'], 'DRUG_NAME']\n",
    "    celline = sample_meta.ix[df.ix[index, 'signature_fk'], 'CELL_NAME']\n",
    "    time = sample_meta.ix[df.ix[index, 'signature_fk'], 'PERTUBATION_TIME']\n",
    "    timeUnit = sample_meta.ix[df.ix[index, 'signature_fk'], 'PERTUBATION_TIME_UNIT']\n",
    "    dose = sample_meta.ix[df.ix[index, 'signature_fk'], 'PERTUBATION_DOSE']\n",
    "    doseUnit = sample_meta.ix[df.ix[index, 'signature_fk'], 'PERTUBATION_DOSE_UNIT']\n",
    "    lst.append('%s_%s_%s%s_%s%s' %(drug, celline, time, timeUnit, dose, doseUnit))\n",
    "    \n",
    "df['signature_fk'] = lst"
   ]
  },
  {
   "cell_type": "code",
   "execution_count": 9,
   "metadata": {
    "collapsed": true
   },
   "outputs": [],
   "source": [
    "df = df[['gene_symbol', 'signature_fk', 'fold_change']]"
   ]
  },
  {
   "cell_type": "code",
   "execution_count": 10,
   "metadata": {},
   "outputs": [
    {
     "data": {
      "text/html": [
       "<div>\n",
       "<table border=\"1\" class=\"dataframe\">\n",
       "  <thead>\n",
       "    <tr style=\"text-align: right;\">\n",
       "      <th></th>\n",
       "      <th>gene_symbol</th>\n",
       "      <th>signature_fk</th>\n",
       "      <th>fold_change</th>\n",
       "    </tr>\n",
       "  </thead>\n",
       "  <tbody>\n",
       "    <tr>\n",
       "      <th>1</th>\n",
       "      <td>AAR2</td>\n",
       "      <td>15-delta prostaglandin J2_HL60_6.0h_10.0μM</td>\n",
       "      <td>-0.435962</td>\n",
       "    </tr>\n",
       "    <tr>\n",
       "      <th>2</th>\n",
       "      <td>AASDHPPT</td>\n",
       "      <td>15-delta prostaglandin J2_HL60_6.0h_10.0μM</td>\n",
       "      <td>0.663748</td>\n",
       "    </tr>\n",
       "    <tr>\n",
       "      <th>3</th>\n",
       "      <td>ABCC1</td>\n",
       "      <td>15-delta prostaglandin J2_HL60_6.0h_10.0μM</td>\n",
       "      <td>0.294520</td>\n",
       "    </tr>\n",
       "    <tr>\n",
       "      <th>4</th>\n",
       "      <td>ABCC10</td>\n",
       "      <td>15-delta prostaglandin J2_HL60_6.0h_10.0μM</td>\n",
       "      <td>0.309518</td>\n",
       "    </tr>\n",
       "    <tr>\n",
       "      <th>5</th>\n",
       "      <td>ABCC4</td>\n",
       "      <td>15-delta prostaglandin J2_HL60_6.0h_10.0μM</td>\n",
       "      <td>0.981755</td>\n",
       "    </tr>\n",
       "  </tbody>\n",
       "</table>\n",
       "</div>"
      ],
      "text/plain": [
       "  gene_symbol                                signature_fk  fold_change\n",
       "1        AAR2  15-delta prostaglandin J2_HL60_6.0h_10.0μM    -0.435962\n",
       "2    AASDHPPT  15-delta prostaglandin J2_HL60_6.0h_10.0μM     0.663748\n",
       "3       ABCC1  15-delta prostaglandin J2_HL60_6.0h_10.0μM     0.294520\n",
       "4      ABCC10  15-delta prostaglandin J2_HL60_6.0h_10.0μM     0.309518\n",
       "5       ABCC4  15-delta prostaglandin J2_HL60_6.0h_10.0μM     0.981755"
      ]
     },
     "execution_count": 10,
     "metadata": {},
     "output_type": "execute_result"
    }
   ],
   "source": [
    "df.head()"
   ]
  },
  {
   "cell_type": "markdown",
   "metadata": {},
   "source": [
    "# Create Matrix"
   ]
  },
  {
   "cell_type": "code",
   "execution_count": 11,
   "metadata": {
    "collapsed": true
   },
   "outputs": [],
   "source": [
    "genes = df['gene_symbol'].unique().tolist()\n",
    "samples = df['signature_fk'].unique().tolist()"
   ]
  },
  {
   "cell_type": "code",
   "execution_count": 12,
   "metadata": {
    "collapsed": true
   },
   "outputs": [],
   "source": [
    "df.set_index('signature_fk', inplace=True)"
   ]
  },
  {
   "cell_type": "code",
   "execution_count": 13,
   "metadata": {
    "collapsed": true
   },
   "outputs": [],
   "source": [
    "matrix = pd.DataFrame(index=genes, columns=samples)\n",
    "matrix.replace(np.nan, 0, inplace=True)"
   ]
  },
  {
   "cell_type": "code",
   "execution_count": 14,
   "metadata": {},
   "outputs": [
    {
     "name": "stdout",
     "output_type": "stream",
     "text": [
      "Progress: 200 Out of 200 which is 100%   \r"
     ]
    }
   ],
   "source": [
    "for i,col in enumerate(matrix.columns):\n",
    "    \n",
    "    progress = ((i+1)/len(matrix.columns))*100\n",
    "        \n",
    "    sys.stdout.write(\"Progress: %d Out of %d which is %d%%   \\r\" % ((i+1), len(matrix.columns), progress))\n",
    "    sys.stdout.flush()\n",
    "    \n",
    "    if df.loc[col, 'gene_symbol'].shape[0] > 1:\n",
    "        matrix.ix[df.loc[col, 'gene_symbol'].values.tolist(), col] = df.ix[col, 'fold_change'].values.tolist()\n",
    "    else:\n",
    "        matrix.ix[df.loc[col, 'gene_symbol'], col] = df.ix[col, 'fold_change']"
   ]
  },
  {
   "cell_type": "code",
   "execution_count": 15,
   "metadata": {},
   "outputs": [
    {
     "data": {
      "text/html": [
       "<div>\n",
       "<table border=\"1\" class=\"dataframe\">\n",
       "  <thead>\n",
       "    <tr style=\"text-align: right;\">\n",
       "      <th></th>\n",
       "      <th>15-delta prostaglandin J2_HL60_6.0h_10.0μM</th>\n",
       "      <th>15-delta prostaglandin J2_MCF7_6.0h_10.0μM</th>\n",
       "      <th>15-delta prostaglandin J2_PC3_6.0h_10.0μM</th>\n",
       "      <th>3-hydroxy-DL-kynurenine_MCF7_6.0h_17.8μM</th>\n",
       "      <th>6-benzylaminopurine_MCF7_6.0h_17.8μM</th>\n",
       "      <th>6-bromoindirubin-3'-oxime_MCF7_6.0h_0.5μM</th>\n",
       "      <th>6-bromoindirubin-3'-oxime_PC3_6.0h_0.5μM</th>\n",
       "      <th>AG-013608_MCF7_6.0h_10.0μM</th>\n",
       "      <th>AG-013608_PC3_6.0h_10.0μM</th>\n",
       "      <th>LM-1685_MCF7_6.0h_10.0μM</th>\n",
       "      <th>...</th>\n",
       "      <th>valproic acid_HL60_6.0h_200.0μM</th>\n",
       "      <th>valproic acid_HL60_6.0h_500.0μM</th>\n",
       "      <th>valproic acid_HL60_6.0h_1000.0μM</th>\n",
       "      <th>valproic acid_MCF7_6.0h_200.0μM</th>\n",
       "      <th>valproic acid_MCF7_6.0h_500.0μM</th>\n",
       "      <th>valproic acid_MCF7_6.0h_1000.0μM</th>\n",
       "      <th>valproic acid_PC3_6.0h_1000.0μM</th>\n",
       "      <th>vincamine_MCF7_6.0h_11.2μM</th>\n",
       "      <th>wortmannin_HL60_6.0h_0.01μM</th>\n",
       "      <th>wortmannin_MCF7_6.0h_0.01μM</th>\n",
       "    </tr>\n",
       "  </thead>\n",
       "  <tbody>\n",
       "    <tr>\n",
       "      <th>AAR2</th>\n",
       "      <td>-0.435962</td>\n",
       "      <td>0.000000</td>\n",
       "      <td>0.000000</td>\n",
       "      <td>0.0</td>\n",
       "      <td>0.0</td>\n",
       "      <td>0.0</td>\n",
       "      <td>0.00000</td>\n",
       "      <td>0.0</td>\n",
       "      <td>0.0</td>\n",
       "      <td>0.0</td>\n",
       "      <td>...</td>\n",
       "      <td>0.0</td>\n",
       "      <td>0.644113</td>\n",
       "      <td>0.32063</td>\n",
       "      <td>0.0</td>\n",
       "      <td>0.0</td>\n",
       "      <td>0.251598</td>\n",
       "      <td>0.407431</td>\n",
       "      <td>0.0</td>\n",
       "      <td>0.0</td>\n",
       "      <td>0.0</td>\n",
       "    </tr>\n",
       "    <tr>\n",
       "      <th>AASDHPPT</th>\n",
       "      <td>0.663748</td>\n",
       "      <td>0.000000</td>\n",
       "      <td>0.000000</td>\n",
       "      <td>0.0</td>\n",
       "      <td>0.0</td>\n",
       "      <td>0.0</td>\n",
       "      <td>0.47792</td>\n",
       "      <td>0.0</td>\n",
       "      <td>0.0</td>\n",
       "      <td>0.0</td>\n",
       "      <td>...</td>\n",
       "      <td>0.0</td>\n",
       "      <td>0.000000</td>\n",
       "      <td>0.00000</td>\n",
       "      <td>0.0</td>\n",
       "      <td>0.0</td>\n",
       "      <td>0.000000</td>\n",
       "      <td>0.000000</td>\n",
       "      <td>0.0</td>\n",
       "      <td>0.0</td>\n",
       "      <td>0.0</td>\n",
       "    </tr>\n",
       "    <tr>\n",
       "      <th>ABCC1</th>\n",
       "      <td>0.294520</td>\n",
       "      <td>-0.775475</td>\n",
       "      <td>-0.732066</td>\n",
       "      <td>0.0</td>\n",
       "      <td>0.0</td>\n",
       "      <td>0.0</td>\n",
       "      <td>0.00000</td>\n",
       "      <td>0.0</td>\n",
       "      <td>0.0</td>\n",
       "      <td>0.0</td>\n",
       "      <td>...</td>\n",
       "      <td>0.0</td>\n",
       "      <td>0.514414</td>\n",
       "      <td>0.00000</td>\n",
       "      <td>0.0</td>\n",
       "      <td>0.0</td>\n",
       "      <td>0.000000</td>\n",
       "      <td>0.000000</td>\n",
       "      <td>0.0</td>\n",
       "      <td>0.0</td>\n",
       "      <td>0.0</td>\n",
       "    </tr>\n",
       "    <tr>\n",
       "      <th>ABCC10</th>\n",
       "      <td>0.309518</td>\n",
       "      <td>0.328248</td>\n",
       "      <td>0.000000</td>\n",
       "      <td>0.0</td>\n",
       "      <td>0.0</td>\n",
       "      <td>0.0</td>\n",
       "      <td>0.00000</td>\n",
       "      <td>0.0</td>\n",
       "      <td>0.0</td>\n",
       "      <td>0.0</td>\n",
       "      <td>...</td>\n",
       "      <td>0.0</td>\n",
       "      <td>0.444780</td>\n",
       "      <td>0.00000</td>\n",
       "      <td>0.0</td>\n",
       "      <td>0.0</td>\n",
       "      <td>0.000000</td>\n",
       "      <td>0.000000</td>\n",
       "      <td>0.0</td>\n",
       "      <td>0.0</td>\n",
       "      <td>0.0</td>\n",
       "    </tr>\n",
       "    <tr>\n",
       "      <th>ABCC4</th>\n",
       "      <td>0.981755</td>\n",
       "      <td>0.000000</td>\n",
       "      <td>0.000000</td>\n",
       "      <td>0.0</td>\n",
       "      <td>0.0</td>\n",
       "      <td>0.0</td>\n",
       "      <td>0.00000</td>\n",
       "      <td>0.0</td>\n",
       "      <td>0.0</td>\n",
       "      <td>0.0</td>\n",
       "      <td>...</td>\n",
       "      <td>0.0</td>\n",
       "      <td>0.000000</td>\n",
       "      <td>0.00000</td>\n",
       "      <td>0.0</td>\n",
       "      <td>0.0</td>\n",
       "      <td>-0.437020</td>\n",
       "      <td>0.521003</td>\n",
       "      <td>0.0</td>\n",
       "      <td>0.0</td>\n",
       "      <td>0.0</td>\n",
       "    </tr>\n",
       "  </tbody>\n",
       "</table>\n",
       "<p>5 rows × 200 columns</p>\n",
       "</div>"
      ],
      "text/plain": [
       "          15-delta prostaglandin J2_HL60_6.0h_10.0μM  \\\n",
       "AAR2                                       -0.435962   \n",
       "AASDHPPT                                    0.663748   \n",
       "ABCC1                                       0.294520   \n",
       "ABCC10                                      0.309518   \n",
       "ABCC4                                       0.981755   \n",
       "\n",
       "          15-delta prostaglandin J2_MCF7_6.0h_10.0μM  \\\n",
       "AAR2                                        0.000000   \n",
       "AASDHPPT                                    0.000000   \n",
       "ABCC1                                      -0.775475   \n",
       "ABCC10                                      0.328248   \n",
       "ABCC4                                       0.000000   \n",
       "\n",
       "          15-delta prostaglandin J2_PC3_6.0h_10.0μM  \\\n",
       "AAR2                                       0.000000   \n",
       "AASDHPPT                                   0.000000   \n",
       "ABCC1                                     -0.732066   \n",
       "ABCC10                                     0.000000   \n",
       "ABCC4                                      0.000000   \n",
       "\n",
       "          3-hydroxy-DL-kynurenine_MCF7_6.0h_17.8μM  \\\n",
       "AAR2                                           0.0   \n",
       "AASDHPPT                                       0.0   \n",
       "ABCC1                                          0.0   \n",
       "ABCC10                                         0.0   \n",
       "ABCC4                                          0.0   \n",
       "\n",
       "          6-benzylaminopurine_MCF7_6.0h_17.8μM  \\\n",
       "AAR2                                       0.0   \n",
       "AASDHPPT                                   0.0   \n",
       "ABCC1                                      0.0   \n",
       "ABCC10                                     0.0   \n",
       "ABCC4                                      0.0   \n",
       "\n",
       "          6-bromoindirubin-3'-oxime_MCF7_6.0h_0.5μM  \\\n",
       "AAR2                                            0.0   \n",
       "AASDHPPT                                        0.0   \n",
       "ABCC1                                           0.0   \n",
       "ABCC10                                          0.0   \n",
       "ABCC4                                           0.0   \n",
       "\n",
       "          6-bromoindirubin-3'-oxime_PC3_6.0h_0.5μM  \\\n",
       "AAR2                                       0.00000   \n",
       "AASDHPPT                                   0.47792   \n",
       "ABCC1                                      0.00000   \n",
       "ABCC10                                     0.00000   \n",
       "ABCC4                                      0.00000   \n",
       "\n",
       "          AG-013608_MCF7_6.0h_10.0μM  AG-013608_PC3_6.0h_10.0μM  \\\n",
       "AAR2                             0.0                        0.0   \n",
       "AASDHPPT                         0.0                        0.0   \n",
       "ABCC1                            0.0                        0.0   \n",
       "ABCC10                           0.0                        0.0   \n",
       "ABCC4                            0.0                        0.0   \n",
       "\n",
       "          LM-1685_MCF7_6.0h_10.0μM             ...               \\\n",
       "AAR2                           0.0             ...                \n",
       "AASDHPPT                       0.0             ...                \n",
       "ABCC1                          0.0             ...                \n",
       "ABCC10                         0.0             ...                \n",
       "ABCC4                          0.0             ...                \n",
       "\n",
       "          valproic acid_HL60_6.0h_200.0μM  valproic acid_HL60_6.0h_500.0μM  \\\n",
       "AAR2                                  0.0                         0.644113   \n",
       "AASDHPPT                              0.0                         0.000000   \n",
       "ABCC1                                 0.0                         0.514414   \n",
       "ABCC10                                0.0                         0.444780   \n",
       "ABCC4                                 0.0                         0.000000   \n",
       "\n",
       "          valproic acid_HL60_6.0h_1000.0μM  valproic acid_MCF7_6.0h_200.0μM  \\\n",
       "AAR2                               0.32063                              0.0   \n",
       "AASDHPPT                           0.00000                              0.0   \n",
       "ABCC1                              0.00000                              0.0   \n",
       "ABCC10                             0.00000                              0.0   \n",
       "ABCC4                              0.00000                              0.0   \n",
       "\n",
       "          valproic acid_MCF7_6.0h_500.0μM  valproic acid_MCF7_6.0h_1000.0μM  \\\n",
       "AAR2                                  0.0                          0.251598   \n",
       "AASDHPPT                              0.0                          0.000000   \n",
       "ABCC1                                 0.0                          0.000000   \n",
       "ABCC10                                0.0                          0.000000   \n",
       "ABCC4                                 0.0                         -0.437020   \n",
       "\n",
       "          valproic acid_PC3_6.0h_1000.0μM  vincamine_MCF7_6.0h_11.2μM  \\\n",
       "AAR2                             0.407431                         0.0   \n",
       "AASDHPPT                         0.000000                         0.0   \n",
       "ABCC1                            0.000000                         0.0   \n",
       "ABCC10                           0.000000                         0.0   \n",
       "ABCC4                            0.521003                         0.0   \n",
       "\n",
       "          wortmannin_HL60_6.0h_0.01μM  wortmannin_MCF7_6.0h_0.01μM  \n",
       "AAR2                              0.0                          0.0  \n",
       "AASDHPPT                          0.0                          0.0  \n",
       "ABCC1                             0.0                          0.0  \n",
       "ABCC10                            0.0                          0.0  \n",
       "ABCC4                             0.0                          0.0  \n",
       "\n",
       "[5 rows x 200 columns]"
      ]
     },
     "execution_count": 15,
     "metadata": {},
     "output_type": "execute_result"
    }
   ],
   "source": [
    "matrix.head()"
   ]
  },
  {
   "cell_type": "code",
   "execution_count": 16,
   "metadata": {},
   "outputs": [
    {
     "data": {
      "text/plain": [
       "(11962, 200)"
      ]
     },
     "execution_count": 16,
     "metadata": {},
     "output_type": "execute_result"
    }
   ],
   "source": [
    "matrix.shape"
   ]
  },
  {
   "cell_type": "markdown",
   "metadata": {},
   "source": [
    "# Save Unfiltered Matrix To File"
   ]
  },
  {
   "cell_type": "code",
   "execution_count": 17,
   "metadata": {
    "collapsed": true
   },
   "outputs": [],
   "source": [
    "filename = '~/./Documents/Harmonizome/CMAP/Output/cmap_matrix_unfilltered_%s.tsv.zip'% str(datetime.date.today())[0:7].replace('-', '_')\n",
    "matrix.to_csv(filename, sep='\\t', compression='gzip')"
   ]
  },
  {
   "cell_type": "markdown",
   "metadata": {},
   "source": [
    "# Map Gene Symbols To Up-to-date Approved Gene Symbols"
   ]
  },
  {
   "cell_type": "code",
   "execution_count": 18,
   "metadata": {},
   "outputs": [
    {
     "name": "stdout",
     "output_type": "stream",
     "text": [
      "Progeres: 97%  11614 Out of 11962   \r"
     ]
    }
   ],
   "source": [
    "uf.mapgenesymbols(matrix)"
   ]
  },
  {
   "cell_type": "code",
   "execution_count": 20,
   "metadata": {},
   "outputs": [
    {
     "data": {
      "text/plain": [
       "(11850, 200)"
      ]
     },
     "execution_count": 20,
     "metadata": {},
     "output_type": "execute_result"
    }
   ],
   "source": [
    "matrix.shape"
   ]
  },
  {
   "cell_type": "markdown",
   "metadata": {},
   "source": [
    "# Merge Duplicate Genes By Rows"
   ]
  },
  {
   "cell_type": "code",
   "execution_count": 21,
   "metadata": {
    "collapsed": true
   },
   "outputs": [],
   "source": [
    "normalized_matrix = uf.merge(matrix, 'row', 'mean')"
   ]
  },
  {
   "cell_type": "code",
   "execution_count": 22,
   "metadata": {},
   "outputs": [
    {
     "data": {
      "text/plain": [
       "(11801, 200)"
      ]
     },
     "execution_count": 22,
     "metadata": {},
     "output_type": "execute_result"
    }
   ],
   "source": [
    "normalized_matrix.shape"
   ]
  },
  {
   "cell_type": "markdown",
   "metadata": {},
   "source": [
    "# Save Filtered Matrix"
   ]
  },
  {
   "cell_type": "code",
   "execution_count": 23,
   "metadata": {
    "collapsed": true
   },
   "outputs": [],
   "source": [
    "filename = '~/./Documents/Harmonizome/CMAP/Output/cmap_matrix_filltered_%s.tsv.zip'% str(datetime.date.today())[0:7].replace('-', '_')\n",
    "normalized_matrix.to_csv(filename, sep='\\t', compression='gzip')"
   ]
  },
  {
   "cell_type": "markdown",
   "metadata": {},
   "source": [
    "# Create Tertiary Matrix"
   ]
  },
  {
   "cell_type": "code",
   "execution_count": 24,
   "metadata": {},
   "outputs": [
    {
     "name": "stdout",
     "output_type": "stream",
     "text": [
      "Progeres: 100%  200 Out of 200   \r"
     ]
    }
   ],
   "source": [
    "tertiary_matrix = uf.createTertiaryMarix(normalized_matrix)"
   ]
  },
  {
   "cell_type": "code",
   "execution_count": 25,
   "metadata": {},
   "outputs": [
    {
     "data": {
      "text/html": [
       "<div>\n",
       "<table border=\"1\" class=\"dataframe\">\n",
       "  <thead>\n",
       "    <tr style=\"text-align: right;\">\n",
       "      <th></th>\n",
       "      <th>15-delta prostaglandin J2_HL60_6.0h_10.0μM</th>\n",
       "      <th>15-delta prostaglandin J2_MCF7_6.0h_10.0μM</th>\n",
       "      <th>15-delta prostaglandin J2_PC3_6.0h_10.0μM</th>\n",
       "      <th>3-hydroxy-DL-kynurenine_MCF7_6.0h_17.8μM</th>\n",
       "      <th>6-benzylaminopurine_MCF7_6.0h_17.8μM</th>\n",
       "      <th>6-bromoindirubin-3'-oxime_MCF7_6.0h_0.5μM</th>\n",
       "      <th>6-bromoindirubin-3'-oxime_PC3_6.0h_0.5μM</th>\n",
       "      <th>AG-013608_MCF7_6.0h_10.0μM</th>\n",
       "      <th>AG-013608_PC3_6.0h_10.0μM</th>\n",
       "      <th>LM-1685_MCF7_6.0h_10.0μM</th>\n",
       "      <th>...</th>\n",
       "      <th>valproic acid_HL60_6.0h_200.0μM</th>\n",
       "      <th>valproic acid_HL60_6.0h_500.0μM</th>\n",
       "      <th>valproic acid_HL60_6.0h_1000.0μM</th>\n",
       "      <th>valproic acid_MCF7_6.0h_200.0μM</th>\n",
       "      <th>valproic acid_MCF7_6.0h_500.0μM</th>\n",
       "      <th>valproic acid_MCF7_6.0h_1000.0μM</th>\n",
       "      <th>valproic acid_PC3_6.0h_1000.0μM</th>\n",
       "      <th>vincamine_MCF7_6.0h_11.2μM</th>\n",
       "      <th>wortmannin_HL60_6.0h_0.01μM</th>\n",
       "      <th>wortmannin_MCF7_6.0h_0.01μM</th>\n",
       "    </tr>\n",
       "    <tr>\n",
       "      <th>index</th>\n",
       "      <th></th>\n",
       "      <th></th>\n",
       "      <th></th>\n",
       "      <th></th>\n",
       "      <th></th>\n",
       "      <th></th>\n",
       "      <th></th>\n",
       "      <th></th>\n",
       "      <th></th>\n",
       "      <th></th>\n",
       "      <th></th>\n",
       "      <th></th>\n",
       "      <th></th>\n",
       "      <th></th>\n",
       "      <th></th>\n",
       "      <th></th>\n",
       "      <th></th>\n",
       "      <th></th>\n",
       "      <th></th>\n",
       "      <th></th>\n",
       "      <th></th>\n",
       "    </tr>\n",
       "  </thead>\n",
       "  <tbody>\n",
       "    <tr>\n",
       "      <th>A1CF</th>\n",
       "      <td>0.0</td>\n",
       "      <td>0.0</td>\n",
       "      <td>0.0</td>\n",
       "      <td>0.0</td>\n",
       "      <td>0.0</td>\n",
       "      <td>0.0</td>\n",
       "      <td>0.0</td>\n",
       "      <td>0.0</td>\n",
       "      <td>0.0</td>\n",
       "      <td>0.0</td>\n",
       "      <td>...</td>\n",
       "      <td>0.0</td>\n",
       "      <td>0.0</td>\n",
       "      <td>0.0</td>\n",
       "      <td>0.0</td>\n",
       "      <td>0.0</td>\n",
       "      <td>0.0</td>\n",
       "      <td>0.0</td>\n",
       "      <td>0.0</td>\n",
       "      <td>0.0</td>\n",
       "      <td>0.0</td>\n",
       "    </tr>\n",
       "    <tr>\n",
       "      <th>A2M</th>\n",
       "      <td>0.0</td>\n",
       "      <td>0.0</td>\n",
       "      <td>0.0</td>\n",
       "      <td>0.0</td>\n",
       "      <td>0.0</td>\n",
       "      <td>0.0</td>\n",
       "      <td>0.0</td>\n",
       "      <td>0.0</td>\n",
       "      <td>0.0</td>\n",
       "      <td>0.0</td>\n",
       "      <td>...</td>\n",
       "      <td>0.0</td>\n",
       "      <td>0.0</td>\n",
       "      <td>0.0</td>\n",
       "      <td>0.0</td>\n",
       "      <td>0.0</td>\n",
       "      <td>0.0</td>\n",
       "      <td>0.0</td>\n",
       "      <td>0.0</td>\n",
       "      <td>0.0</td>\n",
       "      <td>0.0</td>\n",
       "    </tr>\n",
       "    <tr>\n",
       "      <th>A4GALT</th>\n",
       "      <td>0.0</td>\n",
       "      <td>0.0</td>\n",
       "      <td>0.0</td>\n",
       "      <td>0.0</td>\n",
       "      <td>0.0</td>\n",
       "      <td>0.0</td>\n",
       "      <td>0.0</td>\n",
       "      <td>0.0</td>\n",
       "      <td>0.0</td>\n",
       "      <td>0.0</td>\n",
       "      <td>...</td>\n",
       "      <td>0.0</td>\n",
       "      <td>0.0</td>\n",
       "      <td>0.0</td>\n",
       "      <td>0.0</td>\n",
       "      <td>0.0</td>\n",
       "      <td>0.0</td>\n",
       "      <td>0.0</td>\n",
       "      <td>0.0</td>\n",
       "      <td>0.0</td>\n",
       "      <td>0.0</td>\n",
       "    </tr>\n",
       "    <tr>\n",
       "      <th>A4GNT</th>\n",
       "      <td>0.0</td>\n",
       "      <td>0.0</td>\n",
       "      <td>0.0</td>\n",
       "      <td>0.0</td>\n",
       "      <td>0.0</td>\n",
       "      <td>0.0</td>\n",
       "      <td>0.0</td>\n",
       "      <td>0.0</td>\n",
       "      <td>0.0</td>\n",
       "      <td>0.0</td>\n",
       "      <td>...</td>\n",
       "      <td>0.0</td>\n",
       "      <td>0.0</td>\n",
       "      <td>0.0</td>\n",
       "      <td>0.0</td>\n",
       "      <td>0.0</td>\n",
       "      <td>0.0</td>\n",
       "      <td>0.0</td>\n",
       "      <td>0.0</td>\n",
       "      <td>0.0</td>\n",
       "      <td>0.0</td>\n",
       "    </tr>\n",
       "    <tr>\n",
       "      <th>AAAS</th>\n",
       "      <td>0.0</td>\n",
       "      <td>0.0</td>\n",
       "      <td>0.0</td>\n",
       "      <td>0.0</td>\n",
       "      <td>0.0</td>\n",
       "      <td>0.0</td>\n",
       "      <td>0.0</td>\n",
       "      <td>0.0</td>\n",
       "      <td>0.0</td>\n",
       "      <td>0.0</td>\n",
       "      <td>...</td>\n",
       "      <td>0.0</td>\n",
       "      <td>1.0</td>\n",
       "      <td>0.0</td>\n",
       "      <td>0.0</td>\n",
       "      <td>1.0</td>\n",
       "      <td>0.0</td>\n",
       "      <td>0.0</td>\n",
       "      <td>0.0</td>\n",
       "      <td>0.0</td>\n",
       "      <td>0.0</td>\n",
       "    </tr>\n",
       "  </tbody>\n",
       "</table>\n",
       "<p>5 rows × 200 columns</p>\n",
       "</div>"
      ],
      "text/plain": [
       "        15-delta prostaglandin J2_HL60_6.0h_10.0μM  \\\n",
       "index                                                \n",
       "A1CF                                           0.0   \n",
       "A2M                                            0.0   \n",
       "A4GALT                                         0.0   \n",
       "A4GNT                                          0.0   \n",
       "AAAS                                           0.0   \n",
       "\n",
       "        15-delta prostaglandin J2_MCF7_6.0h_10.0μM  \\\n",
       "index                                                \n",
       "A1CF                                           0.0   \n",
       "A2M                                            0.0   \n",
       "A4GALT                                         0.0   \n",
       "A4GNT                                          0.0   \n",
       "AAAS                                           0.0   \n",
       "\n",
       "        15-delta prostaglandin J2_PC3_6.0h_10.0μM  \\\n",
       "index                                               \n",
       "A1CF                                          0.0   \n",
       "A2M                                           0.0   \n",
       "A4GALT                                        0.0   \n",
       "A4GNT                                         0.0   \n",
       "AAAS                                          0.0   \n",
       "\n",
       "        3-hydroxy-DL-kynurenine_MCF7_6.0h_17.8μM  \\\n",
       "index                                              \n",
       "A1CF                                         0.0   \n",
       "A2M                                          0.0   \n",
       "A4GALT                                       0.0   \n",
       "A4GNT                                        0.0   \n",
       "AAAS                                         0.0   \n",
       "\n",
       "        6-benzylaminopurine_MCF7_6.0h_17.8μM  \\\n",
       "index                                          \n",
       "A1CF                                     0.0   \n",
       "A2M                                      0.0   \n",
       "A4GALT                                   0.0   \n",
       "A4GNT                                    0.0   \n",
       "AAAS                                     0.0   \n",
       "\n",
       "        6-bromoindirubin-3'-oxime_MCF7_6.0h_0.5μM  \\\n",
       "index                                               \n",
       "A1CF                                          0.0   \n",
       "A2M                                           0.0   \n",
       "A4GALT                                        0.0   \n",
       "A4GNT                                         0.0   \n",
       "AAAS                                          0.0   \n",
       "\n",
       "        6-bromoindirubin-3'-oxime_PC3_6.0h_0.5μM  AG-013608_MCF7_6.0h_10.0μM  \\\n",
       "index                                                                          \n",
       "A1CF                                         0.0                         0.0   \n",
       "A2M                                          0.0                         0.0   \n",
       "A4GALT                                       0.0                         0.0   \n",
       "A4GNT                                        0.0                         0.0   \n",
       "AAAS                                         0.0                         0.0   \n",
       "\n",
       "        AG-013608_PC3_6.0h_10.0μM  LM-1685_MCF7_6.0h_10.0μM  \\\n",
       "index                                                         \n",
       "A1CF                          0.0                       0.0   \n",
       "A2M                           0.0                       0.0   \n",
       "A4GALT                        0.0                       0.0   \n",
       "A4GNT                         0.0                       0.0   \n",
       "AAAS                          0.0                       0.0   \n",
       "\n",
       "                   ...               valproic acid_HL60_6.0h_200.0μM  \\\n",
       "index              ...                                                 \n",
       "A1CF               ...                                           0.0   \n",
       "A2M                ...                                           0.0   \n",
       "A4GALT             ...                                           0.0   \n",
       "A4GNT              ...                                           0.0   \n",
       "AAAS               ...                                           0.0   \n",
       "\n",
       "        valproic acid_HL60_6.0h_500.0μM  valproic acid_HL60_6.0h_1000.0μM  \\\n",
       "index                                                                       \n",
       "A1CF                                0.0                               0.0   \n",
       "A2M                                 0.0                               0.0   \n",
       "A4GALT                              0.0                               0.0   \n",
       "A4GNT                               0.0                               0.0   \n",
       "AAAS                                1.0                               0.0   \n",
       "\n",
       "        valproic acid_MCF7_6.0h_200.0μM  valproic acid_MCF7_6.0h_500.0μM  \\\n",
       "index                                                                      \n",
       "A1CF                                0.0                              0.0   \n",
       "A2M                                 0.0                              0.0   \n",
       "A4GALT                              0.0                              0.0   \n",
       "A4GNT                               0.0                              0.0   \n",
       "AAAS                                0.0                              1.0   \n",
       "\n",
       "        valproic acid_MCF7_6.0h_1000.0μM  valproic acid_PC3_6.0h_1000.0μM  \\\n",
       "index                                                                       \n",
       "A1CF                                 0.0                              0.0   \n",
       "A2M                                  0.0                              0.0   \n",
       "A4GALT                               0.0                              0.0   \n",
       "A4GNT                                0.0                              0.0   \n",
       "AAAS                                 0.0                              0.0   \n",
       "\n",
       "        vincamine_MCF7_6.0h_11.2μM  wortmannin_HL60_6.0h_0.01μM  \\\n",
       "index                                                             \n",
       "A1CF                           0.0                          0.0   \n",
       "A2M                            0.0                          0.0   \n",
       "A4GALT                         0.0                          0.0   \n",
       "A4GNT                          0.0                          0.0   \n",
       "AAAS                           0.0                          0.0   \n",
       "\n",
       "        wortmannin_MCF7_6.0h_0.01μM  \n",
       "index                                \n",
       "A1CF                            0.0  \n",
       "A2M                             0.0  \n",
       "A4GALT                          0.0  \n",
       "A4GNT                           0.0  \n",
       "AAAS                            0.0  \n",
       "\n",
       "[5 rows x 200 columns]"
      ]
     },
     "execution_count": 25,
     "metadata": {},
     "output_type": "execute_result"
    }
   ],
   "source": [
    "tertiary_matrix.head()"
   ]
  },
  {
   "cell_type": "markdown",
   "metadata": {},
   "source": [
    "# Save Teriary Matrix"
   ]
  },
  {
   "cell_type": "code",
   "execution_count": 26,
   "metadata": {
    "collapsed": true
   },
   "outputs": [],
   "source": [
    "filename = '~/./Documents/Harmonizome/CMAP/Output/cmap_tertiary_matrix_%s.tsv.zip'% str(datetime.date.today())[0:7].replace('-', '_')\n",
    "tertiary_matrix.to_csv(filename, sep='\\t', compression='gzip')"
   ]
  },
  {
   "cell_type": "markdown",
   "metadata": {},
   "source": [
    "### Path to output files"
   ]
  },
  {
   "cell_type": "code",
   "execution_count": 27,
   "metadata": {
    "collapsed": true
   },
   "outputs": [],
   "source": [
    "path = '/Users/moshesilverstein/Documents/Harmonizome/CMAP/Output/'"
   ]
  },
  {
   "cell_type": "markdown",
   "metadata": {},
   "source": [
    "# Create Up Gene Set Library"
   ]
  },
  {
   "cell_type": "code",
   "execution_count": 36,
   "metadata": {
    "collapsed": true
   },
   "outputs": [],
   "source": [
    "name = 'cmap_gene_up_set'"
   ]
  },
  {
   "cell_type": "code",
   "execution_count": 37,
   "metadata": {},
   "outputs": [
    {
     "name": "stdout",
     "output_type": "stream",
     "text": [
      "Progeres: 100%  200 Out of 200   \r"
     ]
    }
   ],
   "source": [
    "uf.createUpGeneSetLib(tertiary_matrix, path, name)"
   ]
  },
  {
   "cell_type": "markdown",
   "metadata": {},
   "source": [
    "# Create Down Gene Set Library"
   ]
  },
  {
   "cell_type": "code",
   "execution_count": 38,
   "metadata": {
    "collapsed": true
   },
   "outputs": [],
   "source": [
    "name = 'cmap_gene_down_set'"
   ]
  },
  {
   "cell_type": "code",
   "execution_count": 39,
   "metadata": {},
   "outputs": [
    {
     "name": "stdout",
     "output_type": "stream",
     "text": [
      "Progeres: 100%  200 Out of 200   \r"
     ]
    }
   ],
   "source": [
    "uf.createDownGeneSetLib(tertiary_matrix, path, name)"
   ]
  },
  {
   "cell_type": "markdown",
   "metadata": {},
   "source": [
    "# Create Up Attribute Library"
   ]
  },
  {
   "cell_type": "code",
   "execution_count": 32,
   "metadata": {
    "collapsed": true
   },
   "outputs": [],
   "source": [
    "name = 'cmap_attribute_up_set'"
   ]
  },
  {
   "cell_type": "code",
   "execution_count": 33,
   "metadata": {},
   "outputs": [
    {
     "name": "stdout",
     "output_type": "stream",
     "text": [
      "Progeres: 100%  11801 Out of 11801   \r"
     ]
    }
   ],
   "source": [
    "uf.createUpAttributeSetLib(tertiary_matrix, path, name)"
   ]
  },
  {
   "cell_type": "markdown",
   "metadata": {},
   "source": [
    "# Create Down Attribute Library"
   ]
  },
  {
   "cell_type": "code",
   "execution_count": 34,
   "metadata": {
    "collapsed": true
   },
   "outputs": [],
   "source": [
    "name = 'cmap_attribute_down_set'"
   ]
  },
  {
   "cell_type": "code",
   "execution_count": 35,
   "metadata": {},
   "outputs": [
    {
     "name": "stdout",
     "output_type": "stream",
     "text": [
      "Progeres: 100%  11801 Out of 11801   \r"
     ]
    }
   ],
   "source": [
    "uf.createDownAttributeSetLib(tertiary_matrix, path, name)"
   ]
  },
  {
   "cell_type": "markdown",
   "metadata": {},
   "source": [
    "# Create Gene Similarity Matrix"
   ]
  },
  {
   "cell_type": "code",
   "execution_count": 40,
   "metadata": {
    "collapsed": true
   },
   "outputs": [],
   "source": [
    "gene_similarity_matix = uf.createSimilarityMatrix(normalized_matrix, 'cosine')"
   ]
  },
  {
   "cell_type": "code",
   "execution_count": 41,
   "metadata": {},
   "outputs": [
    {
     "data": {
      "text/html": [
       "<div>\n",
       "<table border=\"1\" class=\"dataframe\">\n",
       "  <thead>\n",
       "    <tr style=\"text-align: right;\">\n",
       "      <th>index</th>\n",
       "      <th>A1CF</th>\n",
       "      <th>A2M</th>\n",
       "      <th>A4GALT</th>\n",
       "      <th>A4GNT</th>\n",
       "      <th>AAAS</th>\n",
       "      <th>AACS</th>\n",
       "      <th>AADAC</th>\n",
       "      <th>AAGAB</th>\n",
       "      <th>AAK1</th>\n",
       "      <th>AAMDC</th>\n",
       "      <th>...</th>\n",
       "      <th>ZSWIM1</th>\n",
       "      <th>ZSWIM8</th>\n",
       "      <th>ZW10</th>\n",
       "      <th>ZWILCH</th>\n",
       "      <th>ZWINT</th>\n",
       "      <th>ZXDB</th>\n",
       "      <th>ZXDC</th>\n",
       "      <th>ZYX</th>\n",
       "      <th>ZZEF1</th>\n",
       "      <th>ZZZ3</th>\n",
       "    </tr>\n",
       "    <tr>\n",
       "      <th>index</th>\n",
       "      <th></th>\n",
       "      <th></th>\n",
       "      <th></th>\n",
       "      <th></th>\n",
       "      <th></th>\n",
       "      <th></th>\n",
       "      <th></th>\n",
       "      <th></th>\n",
       "      <th></th>\n",
       "      <th></th>\n",
       "      <th></th>\n",
       "      <th></th>\n",
       "      <th></th>\n",
       "      <th></th>\n",
       "      <th></th>\n",
       "      <th></th>\n",
       "      <th></th>\n",
       "      <th></th>\n",
       "      <th></th>\n",
       "      <th></th>\n",
       "      <th></th>\n",
       "    </tr>\n",
       "  </thead>\n",
       "  <tbody>\n",
       "    <tr>\n",
       "      <th>A1CF</th>\n",
       "      <td>1.0</td>\n",
       "      <td>0.000000</td>\n",
       "      <td>0.000000</td>\n",
       "      <td>0.0</td>\n",
       "      <td>0.000000</td>\n",
       "      <td>-0.026048</td>\n",
       "      <td>0.000000</td>\n",
       "      <td>-0.092150</td>\n",
       "      <td>-0.222799</td>\n",
       "      <td>-0.073334</td>\n",
       "      <td>...</td>\n",
       "      <td>-0.207944</td>\n",
       "      <td>-0.100289</td>\n",
       "      <td>-0.005417</td>\n",
       "      <td>-0.007970</td>\n",
       "      <td>0.001735</td>\n",
       "      <td>0.0</td>\n",
       "      <td>0.013545</td>\n",
       "      <td>0.031410</td>\n",
       "      <td>0.000000</td>\n",
       "      <td>0.045275</td>\n",
       "    </tr>\n",
       "    <tr>\n",
       "      <th>A2M</th>\n",
       "      <td>0.0</td>\n",
       "      <td>1.000000</td>\n",
       "      <td>0.000000</td>\n",
       "      <td>0.0</td>\n",
       "      <td>-0.059691</td>\n",
       "      <td>0.133125</td>\n",
       "      <td>0.000000</td>\n",
       "      <td>0.000000</td>\n",
       "      <td>0.000000</td>\n",
       "      <td>0.000000</td>\n",
       "      <td>...</td>\n",
       "      <td>0.000000</td>\n",
       "      <td>0.000000</td>\n",
       "      <td>0.000000</td>\n",
       "      <td>0.000000</td>\n",
       "      <td>-0.047145</td>\n",
       "      <td>0.0</td>\n",
       "      <td>0.000000</td>\n",
       "      <td>-0.037058</td>\n",
       "      <td>0.000000</td>\n",
       "      <td>0.043078</td>\n",
       "    </tr>\n",
       "    <tr>\n",
       "      <th>A4GALT</th>\n",
       "      <td>0.0</td>\n",
       "      <td>0.000000</td>\n",
       "      <td>1.000000</td>\n",
       "      <td>0.0</td>\n",
       "      <td>-0.076398</td>\n",
       "      <td>-0.032549</td>\n",
       "      <td>0.196261</td>\n",
       "      <td>0.049255</td>\n",
       "      <td>0.056752</td>\n",
       "      <td>0.080355</td>\n",
       "      <td>...</td>\n",
       "      <td>0.000000</td>\n",
       "      <td>0.164826</td>\n",
       "      <td>-0.316071</td>\n",
       "      <td>0.091921</td>\n",
       "      <td>-0.096001</td>\n",
       "      <td>0.0</td>\n",
       "      <td>-0.221081</td>\n",
       "      <td>0.165628</td>\n",
       "      <td>0.028054</td>\n",
       "      <td>-0.191353</td>\n",
       "    </tr>\n",
       "    <tr>\n",
       "      <th>A4GNT</th>\n",
       "      <td>0.0</td>\n",
       "      <td>0.000000</td>\n",
       "      <td>0.000000</td>\n",
       "      <td>1.0</td>\n",
       "      <td>0.000000</td>\n",
       "      <td>0.000000</td>\n",
       "      <td>0.000000</td>\n",
       "      <td>0.000000</td>\n",
       "      <td>0.000000</td>\n",
       "      <td>0.000000</td>\n",
       "      <td>...</td>\n",
       "      <td>0.000000</td>\n",
       "      <td>0.000000</td>\n",
       "      <td>0.000000</td>\n",
       "      <td>0.000000</td>\n",
       "      <td>0.000000</td>\n",
       "      <td>0.0</td>\n",
       "      <td>0.000000</td>\n",
       "      <td>0.000000</td>\n",
       "      <td>0.000000</td>\n",
       "      <td>0.000000</td>\n",
       "    </tr>\n",
       "    <tr>\n",
       "      <th>AAAS</th>\n",
       "      <td>0.0</td>\n",
       "      <td>-0.059691</td>\n",
       "      <td>-0.076398</td>\n",
       "      <td>0.0</td>\n",
       "      <td>1.000000</td>\n",
       "      <td>-0.139343</td>\n",
       "      <td>-0.247896</td>\n",
       "      <td>-0.117362</td>\n",
       "      <td>-0.056557</td>\n",
       "      <td>-0.073071</td>\n",
       "      <td>...</td>\n",
       "      <td>0.000000</td>\n",
       "      <td>-0.090048</td>\n",
       "      <td>0.338495</td>\n",
       "      <td>-0.131262</td>\n",
       "      <td>0.106512</td>\n",
       "      <td>0.0</td>\n",
       "      <td>0.352138</td>\n",
       "      <td>-0.310210</td>\n",
       "      <td>-0.300689</td>\n",
       "      <td>0.219232</td>\n",
       "    </tr>\n",
       "  </tbody>\n",
       "</table>\n",
       "<p>5 rows × 11801 columns</p>\n",
       "</div>"
      ],
      "text/plain": [
       "index   A1CF       A2M    A4GALT  A4GNT      AAAS      AACS     AADAC  \\\n",
       "index                                                                   \n",
       "A1CF     1.0  0.000000  0.000000    0.0  0.000000 -0.026048  0.000000   \n",
       "A2M      0.0  1.000000  0.000000    0.0 -0.059691  0.133125  0.000000   \n",
       "A4GALT   0.0  0.000000  1.000000    0.0 -0.076398 -0.032549  0.196261   \n",
       "A4GNT    0.0  0.000000  0.000000    1.0  0.000000  0.000000  0.000000   \n",
       "AAAS     0.0 -0.059691 -0.076398    0.0  1.000000 -0.139343 -0.247896   \n",
       "\n",
       "index      AAGAB      AAK1     AAMDC    ...       ZSWIM1    ZSWIM8      ZW10  \\\n",
       "index                                   ...                                    \n",
       "A1CF   -0.092150 -0.222799 -0.073334    ...    -0.207944 -0.100289 -0.005417   \n",
       "A2M     0.000000  0.000000  0.000000    ...     0.000000  0.000000  0.000000   \n",
       "A4GALT  0.049255  0.056752  0.080355    ...     0.000000  0.164826 -0.316071   \n",
       "A4GNT   0.000000  0.000000  0.000000    ...     0.000000  0.000000  0.000000   \n",
       "AAAS   -0.117362 -0.056557 -0.073071    ...     0.000000 -0.090048  0.338495   \n",
       "\n",
       "index     ZWILCH     ZWINT  ZXDB      ZXDC       ZYX     ZZEF1      ZZZ3  \n",
       "index                                                                     \n",
       "A1CF   -0.007970  0.001735   0.0  0.013545  0.031410  0.000000  0.045275  \n",
       "A2M     0.000000 -0.047145   0.0  0.000000 -0.037058  0.000000  0.043078  \n",
       "A4GALT  0.091921 -0.096001   0.0 -0.221081  0.165628  0.028054 -0.191353  \n",
       "A4GNT   0.000000  0.000000   0.0  0.000000  0.000000  0.000000  0.000000  \n",
       "AAAS   -0.131262  0.106512   0.0  0.352138 -0.310210 -0.300689  0.219232  \n",
       "\n",
       "[5 rows x 11801 columns]"
      ]
     },
     "execution_count": 41,
     "metadata": {},
     "output_type": "execute_result"
    }
   ],
   "source": [
    "gene_similarity_matix.head()"
   ]
  },
  {
   "cell_type": "markdown",
   "metadata": {},
   "source": [
    "# Save Gene Similarity Matrix"
   ]
  },
  {
   "cell_type": "code",
   "execution_count": 42,
   "metadata": {
    "collapsed": true
   },
   "outputs": [],
   "source": [
    "filename = 'Output/cmap_gene_similarity_matix_%s.tsv.zip'% str(datetime.date.today())[0:7].replace('-', '_')\n",
    "gene_similarity_matix.to_csv(filename, sep='\\t', compression='gzip')"
   ]
  },
  {
   "cell_type": "markdown",
   "metadata": {},
   "source": [
    "# Create Attribute Similarity matrix"
   ]
  },
  {
   "cell_type": "code",
   "execution_count": 43,
   "metadata": {
    "collapsed": true
   },
   "outputs": [],
   "source": [
    "attribute_similarity_matix = uf.createSimilarityMatrix(normalized_matrix.T, 'cosine')"
   ]
  },
  {
   "cell_type": "code",
   "execution_count": 44,
   "metadata": {},
   "outputs": [
    {
     "data": {
      "text/html": [
       "<div>\n",
       "<table border=\"1\" class=\"dataframe\">\n",
       "  <thead>\n",
       "    <tr style=\"text-align: right;\">\n",
       "      <th></th>\n",
       "      <th>15-delta prostaglandin J2_HL60_6.0h_10.0μM</th>\n",
       "      <th>15-delta prostaglandin J2_MCF7_6.0h_10.0μM</th>\n",
       "      <th>15-delta prostaglandin J2_PC3_6.0h_10.0μM</th>\n",
       "      <th>3-hydroxy-DL-kynurenine_MCF7_6.0h_17.8μM</th>\n",
       "      <th>6-benzylaminopurine_MCF7_6.0h_17.8μM</th>\n",
       "      <th>6-bromoindirubin-3'-oxime_MCF7_6.0h_0.5μM</th>\n",
       "      <th>6-bromoindirubin-3'-oxime_PC3_6.0h_0.5μM</th>\n",
       "      <th>AG-013608_MCF7_6.0h_10.0μM</th>\n",
       "      <th>AG-013608_PC3_6.0h_10.0μM</th>\n",
       "      <th>LM-1685_MCF7_6.0h_10.0μM</th>\n",
       "      <th>...</th>\n",
       "      <th>valproic acid_HL60_6.0h_200.0μM</th>\n",
       "      <th>valproic acid_HL60_6.0h_500.0μM</th>\n",
       "      <th>valproic acid_HL60_6.0h_1000.0μM</th>\n",
       "      <th>valproic acid_MCF7_6.0h_200.0μM</th>\n",
       "      <th>valproic acid_MCF7_6.0h_500.0μM</th>\n",
       "      <th>valproic acid_MCF7_6.0h_1000.0μM</th>\n",
       "      <th>valproic acid_PC3_6.0h_1000.0μM</th>\n",
       "      <th>vincamine_MCF7_6.0h_11.2μM</th>\n",
       "      <th>wortmannin_HL60_6.0h_0.01μM</th>\n",
       "      <th>wortmannin_MCF7_6.0h_0.01μM</th>\n",
       "    </tr>\n",
       "  </thead>\n",
       "  <tbody>\n",
       "    <tr>\n",
       "      <th>15-delta prostaglandin J2_HL60_6.0h_10.0μM</th>\n",
       "      <td>1.000000</td>\n",
       "      <td>0.398283</td>\n",
       "      <td>0.224435</td>\n",
       "      <td>-0.033060</td>\n",
       "      <td>-0.013305</td>\n",
       "      <td>-0.024279</td>\n",
       "      <td>-0.049886</td>\n",
       "      <td>-0.004499</td>\n",
       "      <td>0.008345</td>\n",
       "      <td>0.006105</td>\n",
       "      <td>...</td>\n",
       "      <td>0.139890</td>\n",
       "      <td>0.188219</td>\n",
       "      <td>0.228207</td>\n",
       "      <td>0.019276</td>\n",
       "      <td>0.037565</td>\n",
       "      <td>0.031933</td>\n",
       "      <td>0.038985</td>\n",
       "      <td>0.003405</td>\n",
       "      <td>0.107472</td>\n",
       "      <td>0.030201</td>\n",
       "    </tr>\n",
       "    <tr>\n",
       "      <th>15-delta prostaglandin J2_MCF7_6.0h_10.0μM</th>\n",
       "      <td>0.398283</td>\n",
       "      <td>1.000000</td>\n",
       "      <td>0.347837</td>\n",
       "      <td>0.020978</td>\n",
       "      <td>-0.005801</td>\n",
       "      <td>0.039928</td>\n",
       "      <td>-0.005582</td>\n",
       "      <td>0.006454</td>\n",
       "      <td>0.058594</td>\n",
       "      <td>0.107138</td>\n",
       "      <td>...</td>\n",
       "      <td>-0.016228</td>\n",
       "      <td>0.000092</td>\n",
       "      <td>0.008120</td>\n",
       "      <td>0.106708</td>\n",
       "      <td>0.119428</td>\n",
       "      <td>0.096792</td>\n",
       "      <td>0.008434</td>\n",
       "      <td>0.028232</td>\n",
       "      <td>-0.061506</td>\n",
       "      <td>-0.016837</td>\n",
       "    </tr>\n",
       "    <tr>\n",
       "      <th>15-delta prostaglandin J2_PC3_6.0h_10.0μM</th>\n",
       "      <td>0.224435</td>\n",
       "      <td>0.347837</td>\n",
       "      <td>1.000000</td>\n",
       "      <td>0.011506</td>\n",
       "      <td>-0.000319</td>\n",
       "      <td>0.009046</td>\n",
       "      <td>0.066527</td>\n",
       "      <td>-0.008180</td>\n",
       "      <td>0.073321</td>\n",
       "      <td>0.037073</td>\n",
       "      <td>...</td>\n",
       "      <td>-0.034181</td>\n",
       "      <td>-0.033036</td>\n",
       "      <td>-0.017461</td>\n",
       "      <td>-0.033827</td>\n",
       "      <td>-0.025956</td>\n",
       "      <td>-0.047849</td>\n",
       "      <td>0.127636</td>\n",
       "      <td>0.010882</td>\n",
       "      <td>-0.074845</td>\n",
       "      <td>-0.104564</td>\n",
       "    </tr>\n",
       "    <tr>\n",
       "      <th>3-hydroxy-DL-kynurenine_MCF7_6.0h_17.8μM</th>\n",
       "      <td>-0.033060</td>\n",
       "      <td>0.020978</td>\n",
       "      <td>0.011506</td>\n",
       "      <td>1.000000</td>\n",
       "      <td>0.000000</td>\n",
       "      <td>0.014638</td>\n",
       "      <td>0.000608</td>\n",
       "      <td>-0.009136</td>\n",
       "      <td>-0.003298</td>\n",
       "      <td>0.005422</td>\n",
       "      <td>...</td>\n",
       "      <td>0.021060</td>\n",
       "      <td>0.003184</td>\n",
       "      <td>-0.004028</td>\n",
       "      <td>-0.026977</td>\n",
       "      <td>0.024244</td>\n",
       "      <td>-0.001617</td>\n",
       "      <td>-0.021154</td>\n",
       "      <td>0.014875</td>\n",
       "      <td>0.003641</td>\n",
       "      <td>-0.015566</td>\n",
       "    </tr>\n",
       "    <tr>\n",
       "      <th>6-benzylaminopurine_MCF7_6.0h_17.8μM</th>\n",
       "      <td>-0.013305</td>\n",
       "      <td>-0.005801</td>\n",
       "      <td>-0.000319</td>\n",
       "      <td>0.000000</td>\n",
       "      <td>1.000000</td>\n",
       "      <td>-0.016854</td>\n",
       "      <td>0.015304</td>\n",
       "      <td>0.024833</td>\n",
       "      <td>0.036977</td>\n",
       "      <td>0.000326</td>\n",
       "      <td>...</td>\n",
       "      <td>-0.015913</td>\n",
       "      <td>-0.002983</td>\n",
       "      <td>-0.052491</td>\n",
       "      <td>0.005038</td>\n",
       "      <td>-0.016179</td>\n",
       "      <td>-0.016147</td>\n",
       "      <td>-0.025987</td>\n",
       "      <td>0.055720</td>\n",
       "      <td>0.029974</td>\n",
       "      <td>0.017889</td>\n",
       "    </tr>\n",
       "  </tbody>\n",
       "</table>\n",
       "<p>5 rows × 200 columns</p>\n",
       "</div>"
      ],
      "text/plain": [
       "                                            15-delta prostaglandin J2_HL60_6.0h_10.0μM  \\\n",
       "15-delta prostaglandin J2_HL60_6.0h_10.0μM                                    1.000000   \n",
       "15-delta prostaglandin J2_MCF7_6.0h_10.0μM                                    0.398283   \n",
       "15-delta prostaglandin J2_PC3_6.0h_10.0μM                                     0.224435   \n",
       "3-hydroxy-DL-kynurenine_MCF7_6.0h_17.8μM                                     -0.033060   \n",
       "6-benzylaminopurine_MCF7_6.0h_17.8μM                                         -0.013305   \n",
       "\n",
       "                                            15-delta prostaglandin J2_MCF7_6.0h_10.0μM  \\\n",
       "15-delta prostaglandin J2_HL60_6.0h_10.0μM                                    0.398283   \n",
       "15-delta prostaglandin J2_MCF7_6.0h_10.0μM                                    1.000000   \n",
       "15-delta prostaglandin J2_PC3_6.0h_10.0μM                                     0.347837   \n",
       "3-hydroxy-DL-kynurenine_MCF7_6.0h_17.8μM                                      0.020978   \n",
       "6-benzylaminopurine_MCF7_6.0h_17.8μM                                         -0.005801   \n",
       "\n",
       "                                            15-delta prostaglandin J2_PC3_6.0h_10.0μM  \\\n",
       "15-delta prostaglandin J2_HL60_6.0h_10.0μM                                   0.224435   \n",
       "15-delta prostaglandin J2_MCF7_6.0h_10.0μM                                   0.347837   \n",
       "15-delta prostaglandin J2_PC3_6.0h_10.0μM                                    1.000000   \n",
       "3-hydroxy-DL-kynurenine_MCF7_6.0h_17.8μM                                     0.011506   \n",
       "6-benzylaminopurine_MCF7_6.0h_17.8μM                                        -0.000319   \n",
       "\n",
       "                                            3-hydroxy-DL-kynurenine_MCF7_6.0h_17.8μM  \\\n",
       "15-delta prostaglandin J2_HL60_6.0h_10.0μM                                 -0.033060   \n",
       "15-delta prostaglandin J2_MCF7_6.0h_10.0μM                                  0.020978   \n",
       "15-delta prostaglandin J2_PC3_6.0h_10.0μM                                   0.011506   \n",
       "3-hydroxy-DL-kynurenine_MCF7_6.0h_17.8μM                                    1.000000   \n",
       "6-benzylaminopurine_MCF7_6.0h_17.8μM                                        0.000000   \n",
       "\n",
       "                                            6-benzylaminopurine_MCF7_6.0h_17.8μM  \\\n",
       "15-delta prostaglandin J2_HL60_6.0h_10.0μM                             -0.013305   \n",
       "15-delta prostaglandin J2_MCF7_6.0h_10.0μM                             -0.005801   \n",
       "15-delta prostaglandin J2_PC3_6.0h_10.0μM                              -0.000319   \n",
       "3-hydroxy-DL-kynurenine_MCF7_6.0h_17.8μM                                0.000000   \n",
       "6-benzylaminopurine_MCF7_6.0h_17.8μM                                    1.000000   \n",
       "\n",
       "                                            6-bromoindirubin-3'-oxime_MCF7_6.0h_0.5μM  \\\n",
       "15-delta prostaglandin J2_HL60_6.0h_10.0μM                                  -0.024279   \n",
       "15-delta prostaglandin J2_MCF7_6.0h_10.0μM                                   0.039928   \n",
       "15-delta prostaglandin J2_PC3_6.0h_10.0μM                                    0.009046   \n",
       "3-hydroxy-DL-kynurenine_MCF7_6.0h_17.8μM                                     0.014638   \n",
       "6-benzylaminopurine_MCF7_6.0h_17.8μM                                        -0.016854   \n",
       "\n",
       "                                            6-bromoindirubin-3'-oxime_PC3_6.0h_0.5μM  \\\n",
       "15-delta prostaglandin J2_HL60_6.0h_10.0μM                                 -0.049886   \n",
       "15-delta prostaglandin J2_MCF7_6.0h_10.0μM                                 -0.005582   \n",
       "15-delta prostaglandin J2_PC3_6.0h_10.0μM                                   0.066527   \n",
       "3-hydroxy-DL-kynurenine_MCF7_6.0h_17.8μM                                    0.000608   \n",
       "6-benzylaminopurine_MCF7_6.0h_17.8μM                                        0.015304   \n",
       "\n",
       "                                            AG-013608_MCF7_6.0h_10.0μM  \\\n",
       "15-delta prostaglandin J2_HL60_6.0h_10.0μM                   -0.004499   \n",
       "15-delta prostaglandin J2_MCF7_6.0h_10.0μM                    0.006454   \n",
       "15-delta prostaglandin J2_PC3_6.0h_10.0μM                    -0.008180   \n",
       "3-hydroxy-DL-kynurenine_MCF7_6.0h_17.8μM                     -0.009136   \n",
       "6-benzylaminopurine_MCF7_6.0h_17.8μM                          0.024833   \n",
       "\n",
       "                                            AG-013608_PC3_6.0h_10.0μM  \\\n",
       "15-delta prostaglandin J2_HL60_6.0h_10.0μM                   0.008345   \n",
       "15-delta prostaglandin J2_MCF7_6.0h_10.0μM                   0.058594   \n",
       "15-delta prostaglandin J2_PC3_6.0h_10.0μM                    0.073321   \n",
       "3-hydroxy-DL-kynurenine_MCF7_6.0h_17.8μM                    -0.003298   \n",
       "6-benzylaminopurine_MCF7_6.0h_17.8μM                         0.036977   \n",
       "\n",
       "                                            LM-1685_MCF7_6.0h_10.0μM  \\\n",
       "15-delta prostaglandin J2_HL60_6.0h_10.0μM                  0.006105   \n",
       "15-delta prostaglandin J2_MCF7_6.0h_10.0μM                  0.107138   \n",
       "15-delta prostaglandin J2_PC3_6.0h_10.0μM                   0.037073   \n",
       "3-hydroxy-DL-kynurenine_MCF7_6.0h_17.8μM                    0.005422   \n",
       "6-benzylaminopurine_MCF7_6.0h_17.8μM                        0.000326   \n",
       "\n",
       "                                                       ...               \\\n",
       "15-delta prostaglandin J2_HL60_6.0h_10.0μM             ...                \n",
       "15-delta prostaglandin J2_MCF7_6.0h_10.0μM             ...                \n",
       "15-delta prostaglandin J2_PC3_6.0h_10.0μM              ...                \n",
       "3-hydroxy-DL-kynurenine_MCF7_6.0h_17.8μM               ...                \n",
       "6-benzylaminopurine_MCF7_6.0h_17.8μM                   ...                \n",
       "\n",
       "                                            valproic acid_HL60_6.0h_200.0μM  \\\n",
       "15-delta prostaglandin J2_HL60_6.0h_10.0μM                         0.139890   \n",
       "15-delta prostaglandin J2_MCF7_6.0h_10.0μM                        -0.016228   \n",
       "15-delta prostaglandin J2_PC3_6.0h_10.0μM                         -0.034181   \n",
       "3-hydroxy-DL-kynurenine_MCF7_6.0h_17.8μM                           0.021060   \n",
       "6-benzylaminopurine_MCF7_6.0h_17.8μM                              -0.015913   \n",
       "\n",
       "                                            valproic acid_HL60_6.0h_500.0μM  \\\n",
       "15-delta prostaglandin J2_HL60_6.0h_10.0μM                         0.188219   \n",
       "15-delta prostaglandin J2_MCF7_6.0h_10.0μM                         0.000092   \n",
       "15-delta prostaglandin J2_PC3_6.0h_10.0μM                         -0.033036   \n",
       "3-hydroxy-DL-kynurenine_MCF7_6.0h_17.8μM                           0.003184   \n",
       "6-benzylaminopurine_MCF7_6.0h_17.8μM                              -0.002983   \n",
       "\n",
       "                                            valproic acid_HL60_6.0h_1000.0μM  \\\n",
       "15-delta prostaglandin J2_HL60_6.0h_10.0μM                          0.228207   \n",
       "15-delta prostaglandin J2_MCF7_6.0h_10.0μM                          0.008120   \n",
       "15-delta prostaglandin J2_PC3_6.0h_10.0μM                          -0.017461   \n",
       "3-hydroxy-DL-kynurenine_MCF7_6.0h_17.8μM                           -0.004028   \n",
       "6-benzylaminopurine_MCF7_6.0h_17.8μM                               -0.052491   \n",
       "\n",
       "                                            valproic acid_MCF7_6.0h_200.0μM  \\\n",
       "15-delta prostaglandin J2_HL60_6.0h_10.0μM                         0.019276   \n",
       "15-delta prostaglandin J2_MCF7_6.0h_10.0μM                         0.106708   \n",
       "15-delta prostaglandin J2_PC3_6.0h_10.0μM                         -0.033827   \n",
       "3-hydroxy-DL-kynurenine_MCF7_6.0h_17.8μM                          -0.026977   \n",
       "6-benzylaminopurine_MCF7_6.0h_17.8μM                               0.005038   \n",
       "\n",
       "                                            valproic acid_MCF7_6.0h_500.0μM  \\\n",
       "15-delta prostaglandin J2_HL60_6.0h_10.0μM                         0.037565   \n",
       "15-delta prostaglandin J2_MCF7_6.0h_10.0μM                         0.119428   \n",
       "15-delta prostaglandin J2_PC3_6.0h_10.0μM                         -0.025956   \n",
       "3-hydroxy-DL-kynurenine_MCF7_6.0h_17.8μM                           0.024244   \n",
       "6-benzylaminopurine_MCF7_6.0h_17.8μM                              -0.016179   \n",
       "\n",
       "                                            valproic acid_MCF7_6.0h_1000.0μM  \\\n",
       "15-delta prostaglandin J2_HL60_6.0h_10.0μM                          0.031933   \n",
       "15-delta prostaglandin J2_MCF7_6.0h_10.0μM                          0.096792   \n",
       "15-delta prostaglandin J2_PC3_6.0h_10.0μM                          -0.047849   \n",
       "3-hydroxy-DL-kynurenine_MCF7_6.0h_17.8μM                           -0.001617   \n",
       "6-benzylaminopurine_MCF7_6.0h_17.8μM                               -0.016147   \n",
       "\n",
       "                                            valproic acid_PC3_6.0h_1000.0μM  \\\n",
       "15-delta prostaglandin J2_HL60_6.0h_10.0μM                         0.038985   \n",
       "15-delta prostaglandin J2_MCF7_6.0h_10.0μM                         0.008434   \n",
       "15-delta prostaglandin J2_PC3_6.0h_10.0μM                          0.127636   \n",
       "3-hydroxy-DL-kynurenine_MCF7_6.0h_17.8μM                          -0.021154   \n",
       "6-benzylaminopurine_MCF7_6.0h_17.8μM                              -0.025987   \n",
       "\n",
       "                                            vincamine_MCF7_6.0h_11.2μM  \\\n",
       "15-delta prostaglandin J2_HL60_6.0h_10.0μM                    0.003405   \n",
       "15-delta prostaglandin J2_MCF7_6.0h_10.0μM                    0.028232   \n",
       "15-delta prostaglandin J2_PC3_6.0h_10.0μM                     0.010882   \n",
       "3-hydroxy-DL-kynurenine_MCF7_6.0h_17.8μM                      0.014875   \n",
       "6-benzylaminopurine_MCF7_6.0h_17.8μM                          0.055720   \n",
       "\n",
       "                                            wortmannin_HL60_6.0h_0.01μM  \\\n",
       "15-delta prostaglandin J2_HL60_6.0h_10.0μM                     0.107472   \n",
       "15-delta prostaglandin J2_MCF7_6.0h_10.0μM                    -0.061506   \n",
       "15-delta prostaglandin J2_PC3_6.0h_10.0μM                     -0.074845   \n",
       "3-hydroxy-DL-kynurenine_MCF7_6.0h_17.8μM                       0.003641   \n",
       "6-benzylaminopurine_MCF7_6.0h_17.8μM                           0.029974   \n",
       "\n",
       "                                            wortmannin_MCF7_6.0h_0.01μM  \n",
       "15-delta prostaglandin J2_HL60_6.0h_10.0μM                     0.030201  \n",
       "15-delta prostaglandin J2_MCF7_6.0h_10.0μM                    -0.016837  \n",
       "15-delta prostaglandin J2_PC3_6.0h_10.0μM                     -0.104564  \n",
       "3-hydroxy-DL-kynurenine_MCF7_6.0h_17.8μM                      -0.015566  \n",
       "6-benzylaminopurine_MCF7_6.0h_17.8μM                           0.017889  \n",
       "\n",
       "[5 rows x 200 columns]"
      ]
     },
     "execution_count": 44,
     "metadata": {},
     "output_type": "execute_result"
    }
   ],
   "source": [
    "attribute_similarity_matix.head()"
   ]
  },
  {
   "cell_type": "markdown",
   "metadata": {},
   "source": [
    "# Save Attribute Similarity Matrix"
   ]
  },
  {
   "cell_type": "code",
   "execution_count": 45,
   "metadata": {
    "collapsed": true
   },
   "outputs": [],
   "source": [
    "filename = 'Output/cmap_attribute_similarity_matix_%s.tsv.zip'% str(datetime.date.today())[0:7].replace('-', '_')\n",
    "attribute_similarity_matix.to_csv(filename, sep='\\t', compression='gzip')"
   ]
  },
  {
   "cell_type": "markdown",
   "metadata": {},
   "source": [
    "# Create Gene List"
   ]
  },
  {
   "cell_type": "code",
   "execution_count": 46,
   "metadata": {},
   "outputs": [
    {
     "name": "stdout",
     "output_type": "stream",
     "text": [
      "Progeres: 100%  11801 Out of 11801   \r"
     ]
    }
   ],
   "source": [
    "gene_list = uf.createGeneList(normalized_matrix)"
   ]
  },
  {
   "cell_type": "code",
   "execution_count": 47,
   "metadata": {},
   "outputs": [
    {
     "data": {
      "text/html": [
       "<div>\n",
       "<table border=\"1\" class=\"dataframe\">\n",
       "  <thead>\n",
       "    <tr style=\"text-align: right;\">\n",
       "      <th></th>\n",
       "      <th>GeneSym</th>\n",
       "      <th>GeneID</th>\n",
       "    </tr>\n",
       "  </thead>\n",
       "  <tbody>\n",
       "    <tr>\n",
       "      <th>0</th>\n",
       "      <td>A1CF</td>\n",
       "      <td>29974</td>\n",
       "    </tr>\n",
       "    <tr>\n",
       "      <th>1</th>\n",
       "      <td>A2M</td>\n",
       "      <td>2</td>\n",
       "    </tr>\n",
       "    <tr>\n",
       "      <th>2</th>\n",
       "      <td>A4GALT</td>\n",
       "      <td>53947</td>\n",
       "    </tr>\n",
       "    <tr>\n",
       "      <th>3</th>\n",
       "      <td>A4GNT</td>\n",
       "      <td>51146</td>\n",
       "    </tr>\n",
       "    <tr>\n",
       "      <th>4</th>\n",
       "      <td>AAAS</td>\n",
       "      <td>8086</td>\n",
       "    </tr>\n",
       "  </tbody>\n",
       "</table>\n",
       "</div>"
      ],
      "text/plain": [
       "  GeneSym GeneID\n",
       "0    A1CF  29974\n",
       "1     A2M      2\n",
       "2  A4GALT  53947\n",
       "3   A4GNT  51146\n",
       "4    AAAS   8086"
      ]
     },
     "execution_count": 47,
     "metadata": {},
     "output_type": "execute_result"
    }
   ],
   "source": [
    "gene_list.head()"
   ]
  },
  {
   "cell_type": "code",
   "execution_count": 48,
   "metadata": {},
   "outputs": [
    {
     "data": {
      "text/plain": [
       "(11801, 2)"
      ]
     },
     "execution_count": 48,
     "metadata": {},
     "output_type": "execute_result"
    }
   ],
   "source": [
    "gene_list.shape"
   ]
  },
  {
   "cell_type": "markdown",
   "metadata": {},
   "source": [
    "# Save Gene List"
   ]
  },
  {
   "cell_type": "code",
   "execution_count": 49,
   "metadata": {
    "collapsed": true
   },
   "outputs": [],
   "source": [
    "filename = 'Output/cmap_gene_list_%s.tsv.zip'% str(datetime.date.today())[0:7].replace('-', '_')\n",
    "gene_list.to_csv(filename, sep='\\t', index=False, compression='gzip')"
   ]
  },
  {
   "cell_type": "markdown",
   "metadata": {},
   "source": [
    "# Create Attribute List"
   ]
  },
  {
   "cell_type": "code",
   "execution_count": 50,
   "metadata": {
    "collapsed": true
   },
   "outputs": [],
   "source": [
    "attribute_list = uf.createAttributeList(normalized_matrix)"
   ]
  },
  {
   "cell_type": "code",
   "execution_count": 51,
   "metadata": {},
   "outputs": [
    {
     "data": {
      "text/html": [
       "<div>\n",
       "<table border=\"1\" class=\"dataframe\">\n",
       "  <thead>\n",
       "    <tr style=\"text-align: right;\">\n",
       "      <th></th>\n",
       "      <th>Attributes</th>\n",
       "    </tr>\n",
       "  </thead>\n",
       "  <tbody>\n",
       "    <tr>\n",
       "      <th>0</th>\n",
       "      <td>15-delta prostaglandin J2_HL60_6.0h_10.0μM</td>\n",
       "    </tr>\n",
       "    <tr>\n",
       "      <th>1</th>\n",
       "      <td>15-delta prostaglandin J2_MCF7_6.0h_10.0μM</td>\n",
       "    </tr>\n",
       "    <tr>\n",
       "      <th>2</th>\n",
       "      <td>15-delta prostaglandin J2_PC3_6.0h_10.0μM</td>\n",
       "    </tr>\n",
       "    <tr>\n",
       "      <th>3</th>\n",
       "      <td>3-hydroxy-DL-kynurenine_MCF7_6.0h_17.8μM</td>\n",
       "    </tr>\n",
       "    <tr>\n",
       "      <th>4</th>\n",
       "      <td>6-benzylaminopurine_MCF7_6.0h_17.8μM</td>\n",
       "    </tr>\n",
       "  </tbody>\n",
       "</table>\n",
       "</div>"
      ],
      "text/plain": [
       "                                   Attributes\n",
       "0  15-delta prostaglandin J2_HL60_6.0h_10.0μM\n",
       "1  15-delta prostaglandin J2_MCF7_6.0h_10.0μM\n",
       "2   15-delta prostaglandin J2_PC3_6.0h_10.0μM\n",
       "3    3-hydroxy-DL-kynurenine_MCF7_6.0h_17.8μM\n",
       "4        6-benzylaminopurine_MCF7_6.0h_17.8μM"
      ]
     },
     "execution_count": 51,
     "metadata": {},
     "output_type": "execute_result"
    }
   ],
   "source": [
    "attribute_list.head()"
   ]
  },
  {
   "cell_type": "code",
   "execution_count": 52,
   "metadata": {},
   "outputs": [
    {
     "data": {
      "text/plain": [
       "(200, 1)"
      ]
     },
     "execution_count": 52,
     "metadata": {},
     "output_type": "execute_result"
    }
   ],
   "source": [
    "attribute_list.shape"
   ]
  },
  {
   "cell_type": "markdown",
   "metadata": {},
   "source": [
    "# Save Attribute List"
   ]
  },
  {
   "cell_type": "code",
   "execution_count": 53,
   "metadata": {
    "collapsed": true
   },
   "outputs": [],
   "source": [
    "filename = 'Output/cmap_attribute_list_%s.tsv.zip'% str(datetime.date.today())[0:7].replace('-', '_')\n",
    "attribute_list.to_csv(filename, sep='\\t', index=False, compression='gzip')"
   ]
  },
  {
   "cell_type": "markdown",
   "metadata": {},
   "source": [
    "# Create Gene-Attribute Edge List"
   ]
  },
  {
   "cell_type": "code",
   "execution_count": 54,
   "metadata": {
    "collapsed": true
   },
   "outputs": [],
   "source": [
    "path = '/Users/moshesilverstein/Documents/Harmonizome/CMAP/Output/'"
   ]
  },
  {
   "cell_type": "code",
   "execution_count": 55,
   "metadata": {
    "collapsed": true
   },
   "outputs": [],
   "source": [
    "name = 'cmap_gene_attribute_edge_list'"
   ]
  },
  {
   "cell_type": "code",
   "execution_count": 56,
   "metadata": {},
   "outputs": [
    {
     "name": "stdout",
     "output_type": "stream",
     "text": [
      "Progeres: 100%  200 Out of 200   \n",
      "\n",
      " The number of statisticaly relevent gene-attribute associations is: 142745\n"
     ]
    }
   ],
   "source": [
    "uf.createGeneAttributeEdgeList(tertiary_matrix, gene_list, path, name)"
   ]
  }
 ],
 "metadata": {
  "kernelspec": {
   "display_name": "Python [default]",
   "language": "python",
   "name": "python3"
  },
  "language_info": {
   "codemirror_mode": {
    "name": "ipython",
    "version": 3
   },
   "file_extension": ".py",
   "mimetype": "text/x-python",
   "name": "python",
   "nbconvert_exporter": "python",
   "pygments_lexer": "ipython3",
   "version": "3.5.2"
  }
 },
 "nbformat": 4,
 "nbformat_minor": 2
}
