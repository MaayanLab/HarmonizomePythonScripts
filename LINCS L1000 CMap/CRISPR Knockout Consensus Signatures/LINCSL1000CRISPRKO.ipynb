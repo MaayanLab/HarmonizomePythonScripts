{
 "cells": [
  {
   "cell_type": "markdown",
   "metadata": {},
   "source": [
    "# LINCS L1000 CRISPR KO Consensus Signatures\n",
    "This notebook contains the script used to process the LINCS L1000 CMap CRISPR KO Consensus Signatures dataset for Harmonizome. The CRISPR Knockout mean expression matrix was downloaded from [SigCom LINCS](https://maayanlab.cloud/sigcom-lincs/#/Download). Genes and KO Genes were mapped to approved and up-to-date gene symbols, and up to 250 of the highest and lowest scored genes were kept for every KO gene.\n",
    "\n",
    "In all, this processed dataset contains 2,517,262 associations between 9,551 genes and 5,049 gene perturbations."
   ]
  },
  {
   "cell_type": "code",
   "execution_count": null,
   "metadata": {},
   "outputs": [],
   "source": [
    "import pandas as pd\n",
    "import datetime\n",
    "import numpy as np\n",
    "import scipy.spatial.distance as dist\n",
    "import seaborn as sns\n",
    "import sys\n",
    "import json\n",
    "import scanpy as sc\n",
    "from tqdm import tqdm\n",
    "\n",
    "# UMAP\n",
    "from sklearn.feature_extraction.text import TfidfVectorizer\n",
    "import anndata\n",
    "from collections import OrderedDict\n",
    "\n",
    "# Bokeh\n",
    "from bokeh.io import output_notebook\n",
    "from bokeh.plotting import figure, show, save, output_file\n",
    "from bokeh.models import HoverTool, ColumnDataSource\n",
    "from bokeh.palettes import Category20\n",
    "output_notebook()\n",
    "\n",
    "from IPython.display import display, HTML, Markdown\n",
    "sys.setrecursionlimit(100000)"
   ]
  },
  {
   "cell_type": "markdown",
   "metadata": {},
   "source": [
    "## Load and Pre-Process Data"
   ]
  },
  {
   "cell_type": "code",
   "execution_count": null,
   "metadata": {},
   "outputs": [],
   "source": [
    "L1000CRISPR = pd.read_csv('newdata/L1000CRISPR/xpr_mean_coeff_mat.tsv', sep='\\t', index_col=0)\n",
    "L1000CRISPR = L1000CRISPR[L1000CRISPR.index.map(lambda x: not pd.isna(x))]\n",
    "L1000CRISPR"
   ]
  },
  {
   "cell_type": "markdown",
   "metadata": {},
   "source": [
    "### Remove Unmapped Gene KOs"
   ]
  },
  {
   "cell_type": "code",
   "execution_count": null,
   "metadata": {},
   "outputs": [],
   "source": [
    "L1000CRISPR =  L1000CRISPR[L1000CRISPR.index.map(lambda x: not x.startswith('BRDN'))]\n",
    "L1000CRISPR"
   ]
  },
  {
   "cell_type": "code",
   "execution_count": null,
   "metadata": {},
   "outputs": [],
   "source": [
    "genemapping = pd.read_csv('mapping/mappingFile_2023.tsv', sep='\\t', header=None).set_index(1)[2].to_dict()\n",
    "geneids = pd.read_csv('mapping/GeneSymbolsAndIDS_2023.tsv', sep='\\t').set_index('Human, Mouse, and Rat Approved Symbol')['Entrez Gene ID(supplied by NCBI)'].to_dict()\n",
    "geneinfo = pd.read_csv('tables/gene_info', sep='\\t').set_index('Symbol')['description'].to_dict()"
   ]
  },
  {
   "cell_type": "code",
   "execution_count": null,
   "metadata": {},
   "outputs": [],
   "source": [
    "L1000CRISPR = L1000CRISPR[L1000CRISPR.index.map(lambda x: x in genemapping)]\n",
    "L1000CRISPR.index = L1000CRISPR.index.map(lambda x: genemapping[x])\n",
    "L1000CRISPR"
   ]
  },
  {
   "cell_type": "code",
   "execution_count": null,
   "metadata": {},
   "outputs": [],
   "source": [
    "L1000CRISPR = L1000CRISPR.T\n",
    "L1000CRISPR = L1000CRISPR[L1000CRISPR.index.map(lambda x: x in genemapping)]\n",
    "L1000CRISPR.index = L1000CRISPR.index.map(lambda x: genemapping[x])\n",
    "L1000CRISPR = L1000CRISPR.sort_index(axis=1)\n",
    "L1000CRISPR = L1000CRISPR.rename_axis('Gene', axis=0).rename_axis('Gene KO', axis=1)\n",
    "L1000CRISPR"
   ]
  },
  {
   "cell_type": "code",
   "execution_count": null,
   "metadata": {},
   "outputs": [],
   "source": [
    "L1000CRISPR = L1000CRISPR.stack().reset_index()\n",
    "L1000CRISPR"
   ]
  },
  {
   "cell_type": "code",
   "execution_count": null,
   "metadata": {},
   "outputs": [],
   "source": [
    "L1000CRISPRUp = L1000CRISPR[L1000CRISPR[0]>0].groupby('Gene KO').apply(lambda x: x.sort_values(0, ascending=False).head(250)).reset_index(drop=True)\n",
    "L1000CRISPRUp"
   ]
  },
  {
   "cell_type": "code",
   "execution_count": null,
   "metadata": {},
   "outputs": [],
   "source": [
    "L1000CRISPRDown = L1000CRISPR[L1000CRISPR[0]<0].groupby('Gene KO').apply(lambda x: x.sort_values(0).head(250)).reset_index(drop=True)\n",
    "L1000CRISPRDown"
   ]
  },
  {
   "cell_type": "code",
   "execution_count": null,
   "metadata": {},
   "outputs": [],
   "source": [
    "L1000CRISPR = L1000CRISPRUp.append(L1000CRISPRDown).reset_index(drop=True)\n",
    "L1000CRISPR"
   ]
  },
  {
   "cell_type": "markdown",
   "metadata": {},
   "source": [
    "## Process Data for SQL"
   ]
  },
  {
   "cell_type": "markdown",
   "metadata": {},
   "source": [
    "### Dataset"
   ]
  },
  {
   "cell_type": "code",
   "execution_count": null,
   "metadata": {},
   "outputs": [],
   "source": [
    "(145, 'LINCS L1000 CMAP CRISPR Knockout Consensus Signatures', 'CRISPR Knockout Consensus Signatures', 'gene association consensus signatures following CRISPR gene knockout', 'gene-gene associations by differential expression of gene A following perturbation of gene B', 'genes differentially expressed following the {0} gene perturbation from the LINCS L1000 CMAP CRISPR Knockout Consensus Signatures dataset.', 'sets of genes diffeentially expressed following gene perturbation from the LINCS L1000 CMAP CRISPR Knockout Consensus Signatures dataset.', 'gene perturbations changing expression of {0} gene from the LINCS L1000 CMAP CRISPR Knockout Consensus Signatures dataset.', 'increased expression', 'decreased expression', 1, 1, '2023-09-05', 'l1000crispr', 0, 50, 13, 7, 27, 5, 'gene expression by L1000 assay', 'primary experimental data', 'high throughput, data-driven', 'gene perturbations', 0)"
   ]
  },
  {
   "cell_type": "markdown",
   "metadata": {},
   "source": [
    "### Gene"
   ]
  },
  {
   "cell_type": "code",
   "execution_count": null,
   "metadata": {},
   "outputs": [],
   "source": [
    "genefks = pd.read_csv('tables/gene.csv').set_index('symbol')['id'].to_dict()\n",
    "geneinfo = pd.read_csv('tables/gene_info', sep='\\t', index_col='Symbol').get(['GeneID','description'])\n",
    "genelist = pd.read_csv('tables/gene.csv').set_index('symbol')\n",
    "geneurl = 'https://ncbi.nlm.nih.gov/gene/'\n",
    "\n",
    "index = 57253\n",
    "for gene in L1000CRISPR['Gene'].unique():\n",
    "    if gene.upper() not in genelist.index:\n",
    "        print((index, gene, geneids[gene], geneinfo.loc[gene, 'description'], geneurl+str(geneids[gene])), end=',\\n')\n",
    "        genefks[gene] = geneids[gene]\n",
    "        index += 1\n"
   ]
  },
  {
   "cell_type": "markdown",
   "metadata": {},
   "source": [
    "### Attribute"
   ]
  },
  {
   "cell_type": "code",
   "execution_count": null,
   "metadata": {},
   "outputs": [],
   "source": [
    "attributes = pd.read_csv('tables/attribute.csv', index_col='name_from_naming_authority')\n",
    "attributes = attributes[attributes['naming_authority_fk']==18]\n",
    "geneinfo = pd.read_csv('tables/gene_info', sep='\\t').set_index('Symbol')['description'].to_dict()"
   ]
  },
  {
   "cell_type": "code",
   "execution_count": null,
   "metadata": {},
   "outputs": [],
   "source": [
    "attributefks = attributes['id'].to_dict()\n",
    "\n",
    "index=365322\n",
    "\n",
    "for attribute in L1000CRISPR['Gene KO'].unique():\n",
    "    if attribute not in attributes.index:\n",
    "        attributefks[attribute] = index\n",
    "        print((index, attribute, geneids[attribute], geneinfo[attribute], geneurl+str(geneids[attribute]), 18), end=',\\n')\n",
    "        index += 1"
   ]
  },
  {
   "cell_type": "markdown",
   "metadata": {},
   "source": [
    "### Gene Set"
   ]
  },
  {
   "cell_type": "code",
   "execution_count": null,
   "metadata": {},
   "outputs": [],
   "source": [
    "genesetfks = {}\n",
    "index = 134600000\n",
    "for attribute in L1000CRISPR['Gene KO'].unique():\n",
    "    genesetfks[attribute] = index\n",
    "    print((index, attribute, geneids[attribute], geneinfo[attribute], geneurl+str(geneids[attribute]), 145, 27, attributefks[attribute]), end=',\\n')\n",
    "    index += 1"
   ]
  },
  {
   "cell_type": "markdown",
   "metadata": {},
   "source": [
    "### Association"
   ]
  },
  {
   "cell_type": "code",
   "execution_count": null,
   "metadata": {},
   "outputs": [],
   "source": [
    "geneids = pd.read_csv('mapping/GeneSymbolsAndIDS_2023.tsv', sep='\\t').set_index('Human, Mouse, and Rat Approved Symbol')['Entrez Gene ID(supplied by NCBI)'].to_dict()"
   ]
  },
  {
   "cell_type": "code",
   "execution_count": null,
   "metadata": {},
   "outputs": [],
   "source": [
    "genefks = pd.read_csv('tables/gene.csv').set_index('ncbi_entrez_gene_id')['id'].to_dict()\n",
    "\n",
    "L1000CRISPR['threshold'] = L1000CRISPR[0].apply(lambda x: 1 if x>0 else -1)\n",
    "associations = L1000CRISPR.copy()\n",
    "associations['Gene'] = associations['Gene'].apply(lambda x: genefks[geneids[x]])\n",
    "associations['Gene KO'] = associations['Gene KO'].apply(lambda x: genesetfks[x])\n",
    "associations.columns = ['gene_fk', 'gene_set_fk', 'standardized_value', 'threshold_value']\n",
    "associations = associations.rename_axis('id', axis=0)\n",
    "associations.index += 25000000\n",
    "associations.to_csv('harmonizome-update/l1000crispr.csv')\n",
    "\n",
    "associations"
   ]
  },
  {
   "cell_type": "code",
   "execution_count": null,
   "metadata": {},
   "outputs": [],
   "source": [
    "error"
   ]
  },
  {
   "cell_type": "markdown",
   "metadata": {},
   "source": [
    "## Create Downloads"
   ]
  },
  {
   "cell_type": "code",
   "execution_count": null,
   "metadata": {},
   "outputs": [],
   "source": [
    "output_path = 'newdata/L1000CRISPR/downloads/'"
   ]
  },
  {
   "cell_type": "code",
   "execution_count": null,
   "metadata": {},
   "outputs": [],
   "source": [
    "L1000CRISPR['Gene ID'] = L1000CRISPR['Gene'].apply(lambda x: geneids[x])\n",
    "L1000CRISPR['Gene KO ID'] = L1000CRISPR['Gene KO'].apply(lambda x: str(geneids[x])+'_KO')\n",
    "L1000CRISPR = L1000CRISPR.get(['Gene', 'Gene ID', 'Gene KO', 'Gene KO ID', 0, 'threshold'])\n",
    "L1000CRISPR.columns = ['Gene', 'Gene ID', 'Gene KO', 'Gene KO ID', 'Standardized Value', 'Threshold Value']\n",
    "L1000CRISPR"
   ]
  },
  {
   "cell_type": "markdown",
   "metadata": {},
   "source": [
    "### Gene-Attribute Ternary Matrix"
   ]
  },
  {
   "cell_type": "code",
   "execution_count": null,
   "metadata": {},
   "outputs": [],
   "source": [
    "binarymatrix = pd.crosstab(L1000CRISPR['Gene'], L1000CRISPR['Gene KO'], L1000CRISPR['Threshold Value'], aggfunc=np.max).replace(np.nan, 0)\n",
    "binarymatrixT = binarymatrix.T\n",
    "binarymatrix.to_csv(output_path+'gene_attribute_matrix.txt.gz', sep='\\t', compression='gzip')\n",
    "binarymatrix"
   ]
  },
  {
   "cell_type": "markdown",
   "metadata": {},
   "source": [
    "### Gene-Attribute Edge List"
   ]
  },
  {
   "cell_type": "code",
   "execution_count": null,
   "metadata": {},
   "outputs": [],
   "source": [
    "edgelist = L1000CRISPR.copy()\n",
    "edgelist.to_csv(output_path+'gene_attribute_edges.txt.gz', sep='\\t', compression='gzip')\n",
    "edgelist"
   ]
  },
  {
   "cell_type": "markdown",
   "metadata": {},
   "source": [
    "### Gene List"
   ]
  },
  {
   "cell_type": "code",
   "execution_count": null,
   "metadata": {},
   "outputs": [],
   "source": [
    "geneslist = L1000CRISPR.get(['Gene', 'Gene ID']).drop_duplicates().reset_index(drop=True)\n",
    "geneslist.to_csv(output_path+'gene_list_terms.txt.gz', sep='\\t', compression='gzip')\n",
    "geneslist"
   ]
  },
  {
   "cell_type": "markdown",
   "metadata": {},
   "source": [
    "### Attribute List"
   ]
  },
  {
   "cell_type": "code",
   "execution_count": null,
   "metadata": {},
   "outputs": [],
   "source": [
    "attributeslist = L1000CRISPR.get(['Gene KO', 'Gene KO ID']).drop_duplicates().reset_index(drop=True)\n",
    "attributeslist.to_csv(output_path+'attribute_list_entries.txt.gz', sep='\\t', compression='gzip')\n",
    "attributeslist"
   ]
  },
  {
   "cell_type": "markdown",
   "metadata": {},
   "source": [
    "### Up Gene Set Library"
   ]
  },
  {
   "cell_type": "code",
   "execution_count": null,
   "metadata": {},
   "outputs": [],
   "source": [
    "with open(output_path+'gene_set_library_up_crisp.gmt', 'w') as f:\n",
    "    arr = binarymatrix.reset_index(drop=True).to_numpy(dtype=np.int_)\n",
    "    attributes = binarymatrix.columns\n",
    "\n",
    "    w, h = arr.shape\n",
    "    for i in tqdm(range(h)):\n",
    "        if len([*binarymatrix.index[arr[:, i] == 1]])>= 5:\n",
    "            print(attributes[i], *binarymatrix.index[arr[:, i] == 1], sep='\\t', end='\\n', file=f)"
   ]
  },
  {
   "cell_type": "markdown",
   "metadata": {},
   "source": [
    "### Down Gene Set Library"
   ]
  },
  {
   "cell_type": "code",
   "execution_count": null,
   "metadata": {},
   "outputs": [],
   "source": [
    "with open(output_path+'gene_set_library_dn_crisp.gmt', 'w') as f:\n",
    "    arr = binarymatrix.reset_index(drop=True).to_numpy(dtype=np.int_)\n",
    "    attributes = binarymatrix.columns\n",
    "\n",
    "    w, h = arr.shape\n",
    "    for i in tqdm(range(h)):\n",
    "        if len([*binarymatrix.index[arr[:, i] == -1]])>= 5:\n",
    "            print(attributes[i], *binarymatrix.index[arr[:, i] == -1], sep='\\t', end='\\n', file=f)"
   ]
  },
  {
   "cell_type": "markdown",
   "metadata": {},
   "source": [
    "### Up Attribute Set Library"
   ]
  },
  {
   "cell_type": "code",
   "execution_count": null,
   "metadata": {},
   "outputs": [],
   "source": [
    "with open(output_path+'attribute_set_library_up_crisp.gmt', 'w') as f:\n",
    "    arr = binarymatrixT.reset_index(drop=True).to_numpy(dtype=np.int_)\n",
    "    genes = binarymatrixT.columns\n",
    "\n",
    "    w, h = arr.shape\n",
    "    for i in tqdm(range(h)):\n",
    "        if len([*binarymatrixT.index[arr[:, i] == 1]])>= 5:\n",
    "            print(genes[i], *binarymatrixT.index[arr[:, i] == 1], sep='\\t', end='\\n', file=f)"
   ]
  },
  {
   "cell_type": "markdown",
   "metadata": {},
   "source": [
    "### Down Attribute Set Library"
   ]
  },
  {
   "cell_type": "code",
   "execution_count": null,
   "metadata": {},
   "outputs": [],
   "source": [
    "with open(output_path+'attribute_set_library_dn_crisp.gmt', 'w') as f:\n",
    "    arr = binarymatrixT.reset_index(drop=True).to_numpy(dtype=np.int_)\n",
    "    genes = binarymatrixT.columns\n",
    "\n",
    "    w, h = arr.shape\n",
    "    for i in tqdm(range(h)):\n",
    "        if len([*binarymatrixT.index[arr[:, i] == -1]])>= 5:\n",
    "            print(genes[i], *binarymatrixT.index[arr[:, i] == -1], sep='\\t', end='\\n', file=f)"
   ]
  },
  {
   "cell_type": "markdown",
   "metadata": {},
   "source": [
    "### Gene Similarity Matrix"
   ]
  },
  {
   "cell_type": "code",
   "execution_count": null,
   "metadata": {},
   "outputs": [],
   "source": [
    "gene_similarity_matrix = dist.pdist(binarymatrix.to_numpy(dtype=np.int_), 'cosine')\n",
    "gene_similarity_matrix = dist.squareform(gene_similarity_matrix)\n",
    "gene_similarity_matrix = 1 - gene_similarity_matrix\n",
    "\n",
    "gene_similarity_matrix = pd.DataFrame(data=gene_similarity_matrix, index=binarymatrix.index, columns=binarymatrix.index)\n",
    "gene_similarity_matrix.index.name = None\n",
    "gene_similarity_matrix.columns.name = None\n",
    "gene_similarity_matrix.to_csv(output_path+'gene_similarity_matrix_cosine.txt.gz', sep='\\t', compression='gzip')\n",
    "gene_similarity_matrix"
   ]
  },
  {
   "cell_type": "markdown",
   "metadata": {},
   "source": [
    "### Attribute Similarity Matrix"
   ]
  },
  {
   "cell_type": "code",
   "execution_count": null,
   "metadata": {},
   "outputs": [],
   "source": [
    "attribute_similarity_matrix = dist.pdist(binarymatrixT.to_numpy(dtype=np.int_), 'cosine')\n",
    "attribute_similarity_matrix = dist.squareform(attribute_similarity_matrix)\n",
    "attribute_similarity_matrix = 1 - attribute_similarity_matrix\n",
    "\n",
    "attribute_similarity_matrix = pd.DataFrame(data=attribute_similarity_matrix, index=binarymatrixT.index, columns=binarymatrixT.index)\n",
    "attribute_similarity_matrix.index.name = None\n",
    "attribute_similarity_matrix.columns.name = None\n",
    "attribute_similarity_matrix.to_csv(output_path+'attribute_similarity_matrix_cosine.txt.gz', sep='\\t', compression='gzip')\n",
    "attribute_similarity_matrix"
   ]
  },
  {
   "cell_type": "markdown",
   "metadata": {},
   "source": [
    "### Knowledge Graph Serialization"
   ]
  },
  {
   "cell_type": "code",
   "execution_count": null,
   "metadata": {},
   "outputs": [],
   "source": [
    "nodes = {}\n",
    "edges = []\n",
    "\n",
    "for gene in geneslist.index:\n",
    "    gene = geneslist.loc[gene]\n",
    "    nodes[int(gene['Gene ID'])] = {\n",
    "        \"type\":\"gene\",\n",
    "        \"properties\": {\n",
    "            \"id\":int(gene['Gene ID']),\n",
    "            \"label\":gene['Gene']\n",
    "        }}\n",
    "\n",
    "for geneko in attributeslist.index:\n",
    "    geneko = attributeslist.loc[geneko]\n",
    "    nodes[geneko['Gene KO ID']] = {\n",
    "        \"type\":\"gene perturbation\",\n",
    "        \"properties\": {\n",
    "            \"label\":geneko['Gene KO'],\n",
    "            \"id\":geneko['Gene KO ID']\n",
    "        }}\n",
    "\n",
    "for edge in edgelist.index:\n",
    "    edge = edgelist.loc[edge]\n",
    "    if edge['Threshold Value']==1:\n",
    "        edges.append({\n",
    "            \"source\": int(edge['Gene ID']),\n",
    "            \"relation\": \"positively regulated by\",\n",
    "            \"target\": edge['Gene KO ID'],\n",
    "            \"properties\":{\n",
    "                \"id\":str(edge['Gene ID'])+\":\"+edge['Gene KO ID'],\n",
    "                \"source_id\":int(edge['Gene ID']),\n",
    "                \"source_label\":edge['Gene'],\n",
    "                \"target_id\":edge['Gene KO ID'],\n",
    "                \"target_label\":edge['Gene KO'],\n",
    "                \"directed\":True,\n",
    "                \"standardized_value\":edge['Standardized Value'],\n",
    "                \"threshold\":1\n",
    "            }})\n",
    "    else:\n",
    "            edges.append({\n",
    "            \"source\": int(edge['Gene ID']),\n",
    "            \"relation\": \"negatively regulated by\",\n",
    "            \"target\": edge['Gene KO ID'],\n",
    "            \"properties\":{\n",
    "                \"id\":str(edge['Gene ID'])+\":\"+edge['Gene KO ID'],\n",
    "                \"source_id\":int(edge['Gene ID']),\n",
    "                \"source_label\":edge['Gene'],\n",
    "                \"target_id\":edge['Gene KO ID'],\n",
    "                \"target_label\":edge['Gene KO'],\n",
    "                \"directed\":True,\n",
    "                \"standardized_value\":edge['Standardized Value'],\n",
    "                \"threshold\":-1\n",
    "            }})"
   ]
  },
  {
   "cell_type": "markdown",
   "metadata": {},
   "source": [
    "#### RDF"
   ]
  },
  {
   "cell_type": "code",
   "execution_count": null,
   "metadata": {},
   "outputs": [],
   "source": [
    "with open(output_path+'kg_serializations/l1000crispr.rdf', 'w') as f:\n",
    "    print('@prefix gene: ncbi.nlm.nih.gov/gene/', file=f)\n",
    "    print('@prefix RO: purl.obolibrary.org/RO_', file=f)\n",
    "\n",
    "    print('', file=f)\n",
    "    for edge in edges:\n",
    "        if edge[\"properties\"][\"threshold\"]==1:\n",
    "            print('gene:'+str(edge['properties']['source_id']), 'RO:0002336', 'gene:'+edge['properties']['target_id'].replace('_KO',''), end=' .\\n', file=f)\n",
    "        else:\n",
    "            print('gene:'+str(edge['properties']['source_id']), 'RO:0002335 ', 'gene:'+edge['properties']['target_id'].replace('_KO',''), end=' .\\n', file=f)"
   ]
  },
  {
   "cell_type": "markdown",
   "metadata": {},
   "source": [
    "#### JSON"
   ]
  },
  {
   "cell_type": "code",
   "execution_count": null,
   "metadata": {},
   "outputs": [],
   "source": [
    "with open(output_path+'kg_serializations/l1000crispr.json', 'w') as f:\n",
    "    serial = json.dump(\n",
    "        {\n",
    "            \"Version\":\"1\", \n",
    "            \"nodes\": nodes,\n",
    "            \"edges\": edges\n",
    "        }, indent=4, fp=f)"
   ]
  },
  {
   "cell_type": "markdown",
   "metadata": {},
   "source": [
    "#### TSV"
   ]
  },
  {
   "cell_type": "code",
   "execution_count": null,
   "metadata": {},
   "outputs": [],
   "source": [
    "nodeframe = pd.DataFrame(nodes).T\n",
    "nodeframe['id'] = nodeframe['properties'].apply(lambda x: x['id'])\n",
    "nodeframe['label'] = nodeframe['properties'].apply(lambda x: x['label'])\n",
    "nodeframe['namespace'] = 'NCBI Entrez'\n",
    "nodeframe = nodeframe.get(['namespace', 'id', 'label']).reset_index(drop=True)\n",
    "nodeframe.to_csv(output_path+'kg_serializations/l1000crispr_tsv/nodes.tsv', sep='\\t')\n",
    "nodeframe"
   ]
  },
  {
   "cell_type": "code",
   "execution_count": null,
   "metadata": {},
   "outputs": [],
   "source": [
    "edgeframe = pd.DataFrame(edges)\n",
    "edgeframe['standardized'] = edgeframe['properties'].apply(lambda x: x['standardized_value'])\n",
    "edgeframe['threshold'] = edgeframe['properties'].apply(lambda x: x['threshold'])\n",
    "edgeframe = edgeframe.get(['source', 'relation', 'target', 'threshold'])\n",
    "edgeframe.to_csv(output_path+'kg_serializations/l1000crispr_tsv/edges.tsv', sep='\\t')\n",
    "edgeframe"
   ]
  },
  {
   "cell_type": "markdown",
   "metadata": {},
   "source": [
    "## Create Visualizations"
   ]
  },
  {
   "cell_type": "markdown",
   "metadata": {},
   "source": [
    "### Gene-Attribute Clustered Heatmap"
   ]
  },
  {
   "cell_type": "code",
   "execution_count": null,
   "metadata": {},
   "outputs": [],
   "source": [
    "sns.clustermap(binarymatrix, cmap='seismic', center=0)"
   ]
  },
  {
   "cell_type": "markdown",
   "metadata": {},
   "source": [
    "### Gene-Gene Similarity Clustered Heatmap"
   ]
  },
  {
   "cell_type": "code",
   "execution_count": null,
   "metadata": {},
   "outputs": [],
   "source": [
    "sns.clustermap(gene_similarity_matrix, cmap='seismic', center=0)"
   ]
  },
  {
   "cell_type": "markdown",
   "metadata": {},
   "source": [
    "### Attribute-Attribute Similarity Clustered Heatmap"
   ]
  },
  {
   "cell_type": "code",
   "execution_count": null,
   "metadata": {},
   "outputs": [],
   "source": [
    "sns.clustermap(attribute_similarity_matrix, cmap='seismic', center=0)"
   ]
  },
  {
   "cell_type": "markdown",
   "metadata": {},
   "source": [
    "### UMAP"
   ]
  },
  {
   "cell_type": "code",
   "execution_count": null,
   "metadata": {},
   "outputs": [],
   "source": [
    "def load_gmt(file):\n",
    "    gmt = OrderedDict()\n",
    "    for line in file:\n",
    "        term, *geneset = line.strip().split('\\t')\n",
    "        gmt[term+'_up'] = ' '.join(set(geneset))\n",
    "    return gmt\n",
    "libdict = load_gmt(open('newdata/L1000CRISPR/downloads/gene_set_library_up_crisp.gmt', 'r'))\n",
    "def load_gmt(file):\n",
    "    gmt = OrderedDict()\n",
    "    for line in file:\n",
    "        term, *geneset = line.strip().split('\\t')\n",
    "        gmt[term+'_down'] = ' '.join(set(geneset))\n",
    "    return gmt\n",
    "downlibdict = load_gmt(open('newdata/L1000CRISPR/downloads/gene_set_library_dn_crisp.gmt', 'r'))\n",
    "libdict.update(downlibdict)\n",
    "scatterdir = 'newdata/L1000CRISPR/images/'"
   ]
  },
  {
   "cell_type": "code",
   "execution_count": null,
   "metadata": {},
   "outputs": [],
   "source": [
    "def process_scatterplot(libdict, nneighbors=30, mindist=0.1, spread=1.0, maxdf=1.0, mindf=1):\n",
    "    print(\"\\tTF-IDF vectorizing gene set data...\")\n",
    "    vec = TfidfVectorizer(max_df=maxdf, min_df=mindf)\n",
    "    X = vec.fit_transform(libdict.values())\n",
    "    print(X.shape)\n",
    "    adata = anndata.AnnData(X)\n",
    "    adata.obs.index = libdict.keys()\n",
    "\n",
    "    print(\"\\tPerforming Leiden clustering...\")\n",
    "    ### the n_neighbors and min_dist parameters can be altered\n",
    "    sc.pp.neighbors(adata, n_neighbors=nneighbors)\n",
    "    sc.tl.leiden(adata, resolution=1.0)\n",
    "    sc.tl.umap(adata, min_dist=mindist, spread=spread, random_state=42)\n",
    "\n",
    "    new_order = adata.obs.sort_values(by='leiden').index.tolist()\n",
    "    adata = adata[new_order, :]\n",
    "    adata.obs['leiden'] = 'Cluster ' + adata.obs['leiden'].astype('object')\n",
    "\n",
    "    df = pd.DataFrame(adata.obsm['X_umap'])\n",
    "    df.columns = ['x', 'y']\n",
    "\n",
    "    df['cluster'] = adata.obs['leiden'].values\n",
    "    df['term'] = adata.obs.index\n",
    "    df['genes'] = [libdict[l] for l in df['term']]\n",
    "\n",
    "    return df"
   ]
  },
  {
   "cell_type": "code",
   "execution_count": null,
   "metadata": {},
   "outputs": [],
   "source": [
    "def get_scatter_colors(df):\n",
    "    clusters = pd.unique(df['cluster']).tolist()\n",
    "    colors = list(Category20[20])[::2] + list(Category20[20])[1::2]\n",
    "    color_mapper = {clusters[i]: colors[i % 20] for i in range(len(clusters))}\n",
    "    return color_mapper\n",
    "\n",
    "def get_scatterplot(scatterdf):\n",
    "    df = scatterdf.copy()\n",
    "    color_mapper = get_scatter_colors(df)\n",
    "    df['color'] = df['cluster'].apply(lambda x: color_mapper[x])\n",
    "\n",
    "    hover_emb = HoverTool(name=\"df\", tooltips=\"\"\"\n",
    "        <div style=\"margin: 10\">\n",
    "            <div style=\"margin: 0 auto; width:300px;\">\n",
    "                <span style=\"font-size: 12px; font-weight: bold;\">Gene Set:</span>\n",
    "                <span style=\"font-size: 12px\">@gene_set</span>\n",
    "            <div style=\"margin: 0 auto; width:300px;\">\n",
    "                <span style=\"font-size: 12px; font-weight: bold;\">Coordinates:</span>\n",
    "                <span style=\"font-size: 12px\">(@x,@y)</span>\n",
    "            <div style=\"margin: 0 auto; width:300px;\">\n",
    "                <span style=\"font-size: 12px; font-weight: bold;\">Cluster:</span>\n",
    "                <span style=\"font-size: 12px\">@cluster</span>\n",
    "            </div>\n",
    "        </div>\n",
    "    \"\"\")\n",
    "    tools_emb = [hover_emb, 'pan', 'wheel_zoom', 'reset', 'save']\n",
    "\n",
    "    plot_emb = figure(\n",
    "        width=1000, \n",
    "        height=700, \n",
    "        tools=tools_emb\n",
    "    )\n",
    "\n",
    "    source = ColumnDataSource(\n",
    "        data=dict(\n",
    "            x = df['x'],\n",
    "            y = df['y'],\n",
    "            gene_set = df['term'],\n",
    "            cluster = df['cluster'],\n",
    "            colors = df['color'],\n",
    "            label = df['cluster']\n",
    "        )\n",
    "    )\n",
    "\n",
    "    # hide axis labels and grid lines\n",
    "    plot_emb.xaxis.major_tick_line_color = None\n",
    "    plot_emb.xaxis.minor_tick_line_color = None\n",
    "    plot_emb.yaxis.major_tick_line_color = None\n",
    "    plot_emb.yaxis.minor_tick_line_color = None\n",
    "    plot_emb.xaxis.major_label_text_font_size = '0pt'\n",
    "    plot_emb.yaxis.major_label_text_font_size = '0pt' \n",
    "\n",
    "    plot_emb.output_backend = \"svg\"    \n",
    "    \n",
    "    plot_emb.title = 'Gene Sets in LINCS L1000 CMAP CRISPR Knockout Consensus Signatures Library'\n",
    "    plot_emb.xaxis.axis_label = \"UMAP_1\"\n",
    "    plot_emb.yaxis.axis_label = \"UMAP_2\"\n",
    "    plot_emb.xaxis.axis_label_text_font_style = 'normal'\n",
    "    plot_emb.xaxis.axis_label_text_font_size = '18px'\n",
    "    plot_emb.yaxis.axis_label_text_font_size = '18px'\n",
    "    plot_emb.yaxis.axis_label_text_font_style = 'normal'\n",
    "    plot_emb.title.align = 'center'\n",
    "    plot_emb.title.text_font_size = '18px'\n",
    "    \n",
    "    s = plot_emb.scatter(\n",
    "        'x', \n",
    "        'y', \n",
    "        size = 4, \n",
    "        source = source, \n",
    "        color = 'colors'\n",
    "    )\n",
    "    \n",
    "    return plot_emb"
   ]
  },
  {
   "cell_type": "code",
   "execution_count": null,
   "metadata": {},
   "outputs": [],
   "source": [
    "## defaults: nneighbors=30, mindist=0.1, spread=1.0, maxdf=1.0, mindf=1\n",
    "scatter_df = process_scatterplot(libdict, nneighbors=200,mindist=0.001\n",
    "     ,spread=1.5 \n",
    "     ,maxdf=0.8 \n",
    "     ,mindf=0.2\n",
    ")\n",
    "\n",
    "# Display Scatter Plot\n",
    "plot = get_scatterplot(scatter_df)\n",
    "output_notebook()\n",
    "show(plot)"
   ]
  },
  {
   "cell_type": "code",
   "execution_count": null,
   "metadata": {},
   "outputs": [],
   "source": [
    "output_file(filename=f\"{scatterdir}/umap.html\", title = 'Gene Sets in LINCS L1000 CMAP CRISPR Knockout Consensus Signatures Library')\n",
    "save(plot)"
   ]
  },
  {
   "cell_type": "code",
   "execution_count": null,
   "metadata": {},
   "outputs": [],
   "source": []
  }
 ],
 "metadata": {
  "kernelspec": {
   "display_name": "Python 3.10.4 ('appyter')",
   "language": "python",
   "name": "python3"
  },
  "language_info": {
   "codemirror_mode": {
    "name": "ipython",
    "version": 3
   },
   "file_extension": ".py",
   "mimetype": "text/x-python",
   "name": "python",
   "nbconvert_exporter": "python",
   "pygments_lexer": "ipython3",
   "version": "3.10.8"
  },
  "orig_nbformat": 4,
  "vscode": {
   "interpreter": {
    "hash": "36b64e778f8b0c3f01583b2eed08020222bb534e013a238936f90fb19a999c87"
   }
  }
 },
 "nbformat": 4,
 "nbformat_minor": 2
}
